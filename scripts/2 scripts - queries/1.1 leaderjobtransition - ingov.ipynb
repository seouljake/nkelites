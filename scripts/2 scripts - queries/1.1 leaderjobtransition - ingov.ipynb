{
 "cells": [
  {
   "cell_type": "code",
   "execution_count": 1,
   "id": "74698cf3",
   "metadata": {},
   "outputs": [],
   "source": [
    "import pandas as pd\n",
    "import numpy as np\n",
    "from datetime import date\n",
    "from statistics import mean, mode"
   ]
  },
  {
   "cell_type": "markdown",
   "id": "aaf25c71",
   "metadata": {},
   "source": [
    "# Tables"
   ]
  },
  {
   "cell_type": "code",
   "execution_count": 2,
   "id": "f2c9c339",
   "metadata": {},
   "outputs": [],
   "source": [
    "path_tables = \"C:/Users/seoul/Dropbox/00 technical/github/nkelites/data/combined data/combined data - 2 tables/\""
   ]
  },
  {
   "cell_type": "code",
   "execution_count": 3,
   "id": "200fa7f5",
   "metadata": {},
   "outputs": [],
   "source": [
    "# tables\n",
    "filename_careerorglink = \"careerorglink.xlsx\"\n",
    "filename_leadercareerlink = \"leadercareerlink.xlsx\"\n",
    "filename_orgtree = \"orgtree.xlsx\"\n",
    "filename_elected = \"positions_elected.xlsx\""
   ]
  },
  {
   "cell_type": "code",
   "execution_count": 4,
   "id": "b7d9b165",
   "metadata": {
    "scrolled": true
   },
   "outputs": [
    {
     "data": {
      "text/plain": [
       "(9002, 12)"
      ]
     },
     "execution_count": 4,
     "metadata": {},
     "output_type": "execute_result"
    }
   ],
   "source": [
    "col = pd.read_excel(path_tables + filename_careerorglink,dtype=\"str\")\n",
    "col.shape"
   ]
  },
  {
   "cell_type": "code",
   "execution_count": 5,
   "id": "0bd17a8f",
   "metadata": {},
   "outputs": [
    {
     "data": {
      "text/plain": [
       "Index(['CareerString', 'CareerDateString_2022', 'IsJob', 'MultipleSubstrings',\n",
       "       'CareerStartYear', 'CareerStartMonth', 'CareerSubstring',\n",
       "       'InstitutionType', 'PrimaryInstitution', 'OrgName', 'Position',\n",
       "       'Notes'],\n",
       "      dtype='object')"
      ]
     },
     "execution_count": 5,
     "metadata": {},
     "output_type": "execute_result"
    }
   ],
   "source": [
    "col.columns"
   ]
  },
  {
   "cell_type": "code",
   "execution_count": 6,
   "id": "4aa22e14",
   "metadata": {},
   "outputs": [
    {
     "data": {
      "text/plain": [
       "(12617, 3)"
      ]
     },
     "execution_count": 6,
     "metadata": {},
     "output_type": "execute_result"
    }
   ],
   "source": [
    "lcl = pd.read_excel(path_tables + filename_leadercareerlink,dtype=\"str\")\n",
    "lcl.shape"
   ]
  },
  {
   "cell_type": "code",
   "execution_count": 7,
   "id": "ac0f5205",
   "metadata": {},
   "outputs": [
    {
     "data": {
      "text/plain": [
       "Index(['LeaderID', 'CareerString', 'CareerDateString_2022'], dtype='object')"
      ]
     },
     "execution_count": 7,
     "metadata": {},
     "output_type": "execute_result"
    }
   ],
   "source": [
    "lcl.columns"
   ]
  },
  {
   "cell_type": "code",
   "execution_count": 8,
   "id": "44ba37bd",
   "metadata": {},
   "outputs": [
    {
     "data": {
      "text/plain": [
       "(2367, 19)"
      ]
     },
     "execution_count": 8,
     "metadata": {},
     "output_type": "execute_result"
    }
   ],
   "source": [
    "org = pd.read_excel(path_tables + filename_orgtree,dtype=\"str\")\n",
    "org.shape"
   ]
  },
  {
   "cell_type": "code",
   "execution_count": 9,
   "id": "05b6e3e8",
   "metadata": {},
   "outputs": [
    {
     "data": {
      "text/plain": [
       "Index(['InstitutionType', 'OrgType', 'PrimaryInstitution', 'OrgName',\n",
       "       'PI_Index', 'OrgRank', 'P1', 'P2', 'P3', 'Alias_OrgName',\n",
       "       'LinkToNext_PI', 'LinkToNext_Org', 'LinkToNext_Year', 'Notes',\n",
       "       'L1_Index', 'L2_Index', 'L3_Index', 'L4_Index', 'L5_Index'],\n",
       "      dtype='object')"
      ]
     },
     "execution_count": 9,
     "metadata": {},
     "output_type": "execute_result"
    }
   ],
   "source": [
    "org.columns"
   ]
  },
  {
   "cell_type": "code",
   "execution_count": 10,
   "id": "b93b05ba",
   "metadata": {},
   "outputs": [
    {
     "data": {
      "text/plain": [
       "(105, 4)"
      ]
     },
     "execution_count": 10,
     "metadata": {},
     "output_type": "execute_result"
    }
   ],
   "source": [
    "elected = pd.read_excel(path_tables + filename_elected,dtype=\"str\")\n",
    "elected.shape"
   ]
  },
  {
   "cell_type": "code",
   "execution_count": 11,
   "id": "011dfaa4",
   "metadata": {},
   "outputs": [
    {
     "data": {
      "text/plain": [
       "Index(['PrimaryInstitution', 'OrgName', 'Position', 'IsElected'], dtype='object')"
      ]
     },
     "execution_count": 11,
     "metadata": {},
     "output_type": "execute_result"
    }
   ],
   "source": [
    "elected.columns"
   ]
  },
  {
   "cell_type": "markdown",
   "id": "52841326",
   "metadata": {},
   "source": [
    "# Queries"
   ]
  },
  {
   "cell_type": "code",
   "execution_count": 12,
   "id": "df5b44ce",
   "metadata": {},
   "outputs": [],
   "source": [
    "path_queries = \"C:/Users/seoul/Dropbox/00 technical/github/nkelites/data/combined data/combined data - 3 queries/\""
   ]
  },
  {
   "cell_type": "code",
   "execution_count": 13,
   "id": "4fa255b3",
   "metadata": {},
   "outputs": [],
   "source": [
    "# filename_leaderjobtransition_alljobs = \"leaderjobtransition_alljobs.xlsx\"\n",
    "filename_leaderjobtransition_ingov = \"leaderjobtransition_ingov.xlsx\""
   ]
  },
  {
   "cell_type": "code",
   "execution_count": 14,
   "id": "31cb5cd4",
   "metadata": {},
   "outputs": [],
   "source": [
    "# trans = pd.read_excel(path_queries + filename_leaderjobtransition,dtype=\"str\")"
   ]
  },
  {
   "cell_type": "code",
   "execution_count": 15,
   "id": "75aa1647",
   "metadata": {},
   "outputs": [
    {
     "name": "stdout",
     "output_type": "stream",
     "text": [
      "2024-02-10\n"
     ]
    }
   ],
   "source": [
    "today = date.today()\n",
    "print(today)"
   ]
  },
  {
   "cell_type": "markdown",
   "id": "16c49e74",
   "metadata": {},
   "source": [
    "# Analysis"
   ]
  },
  {
   "cell_type": "code",
   "execution_count": 16,
   "id": "39648498",
   "metadata": {},
   "outputs": [],
   "source": [
    "path_analysis = \"C:/Users/seoul/Dropbox/00 technical/github/nkelites/analysis/\""
   ]
  },
  {
   "cell_type": "code",
   "execution_count": 17,
   "id": "07394fd1",
   "metadata": {},
   "outputs": [],
   "source": [
    "# subpaths\n",
    "current_subpath = \"2023.09.01 analysis/\""
   ]
  },
  {
   "cell_type": "markdown",
   "id": "7d59db9d",
   "metadata": {},
   "source": [
    "# Functions"
   ]
  },
  {
   "cell_type": "code",
   "execution_count": 18,
   "id": "ba5de424",
   "metadata": {},
   "outputs": [],
   "source": [
    "def merge_results(m):\n",
    "    \n",
    "    print(\"\\nMerge Results...\")\n",
    "    print(\"\")\n",
    "    print(\"\\tshape     :\",m.shape)\n",
    "    print(\"\\tleft_only :\",m[m[\"_merge\"]==\"left_only\"].shape)\n",
    "    print(\"\\tboth      :\",m[m[\"_merge\"]==\"both\"].shape)\n",
    "    print(\"\\tright_only:\",m[m[\"_merge\"]==\"right_only\"].shape)"
   ]
  },
  {
   "cell_type": "code",
   "execution_count": 19,
   "id": "d3411709",
   "metadata": {},
   "outputs": [],
   "source": [
    "# using this on (PI,OrgName) will ensure unique & non-null keys\n",
    "# using this on a larger df will ensure unique rows and non-null keys, but not unique keys\n",
    "\n",
    "def unique_non_null_rows(olddf):\n",
    "    \n",
    "    df = olddf.copy()\n",
    "    \n",
    "    \n",
    "    ### drop duplicates\n",
    "    df = df.drop_duplicates(keep=\"first\",ignore_index=True)\n",
    "\n",
    "    ### drop null rows\n",
    "    df.dropna(how=\"all\",axis=0,inplace=True)\n",
    "    \n",
    "    # drop rows with null PI\n",
    "    df = df[~(df[\"PrimaryInstitution\"].isna())]\n",
    "        \n",
    "    ### drop rows where PI contains stop words\n",
    "    stop_words_lower = [\"uncertain\",\"current\",\"deprecated\",\"please_revise\"]\n",
    "    df = df[ ~ df[\"PrimaryInstitution\"].str.lower().isin(stop_words_lower)]\n",
    "            \n",
    "\n",
    "    print(\"\\nUnique Non-null Rows...\")\n",
    "    print(\"\")\n",
    "    print(\"\\tNon-unique rows:\",olddf.shape)\n",
    "    print(\"\\tUnique rows    :\",df.shape)\n",
    "\n",
    "    ### sort\n",
    "    df = df.sort_values([\"PrimaryInstitution\",\"OrgName\"])\n",
    "    \n",
    "    return df"
   ]
  },
  {
   "cell_type": "markdown",
   "id": "45de6b4f",
   "metadata": {},
   "source": [
    "# Step. Format Jobs"
   ]
  },
  {
   "cell_type": "markdown",
   "id": "c2c8e977",
   "metadata": {},
   "source": [
    "#### merge col with elected - to identify elected positions"
   ]
  },
  {
   "cell_type": "code",
   "execution_count": 20,
   "id": "9f5cf4e9",
   "metadata": {},
   "outputs": [],
   "source": [
    "position_key_columns = ['PrimaryInstitution', 'OrgName', 'Position']\n",
    "elected_columns = position_key_columns + [\"IsElected\"]"
   ]
  },
  {
   "cell_type": "code",
   "execution_count": 21,
   "id": "9aad2e15",
   "metadata": {},
   "outputs": [
    {
     "name": "stdout",
     "output_type": "stream",
     "text": [
      "\n",
      "Merge Results...\n",
      "\n",
      "\tshape     : (9033, 14)\n",
      "\tleft_only : (7261, 14)\n",
      "\tboth      : (1741, 14)\n",
      "\tright_only: (31, 14)\n"
     ]
    }
   ],
   "source": [
    "col2 = col.merge(elected[elected_columns],on=position_key_columns,how=\"outer\",indicator=True)\n",
    "merge_results(col2)"
   ]
  },
  {
   "cell_type": "code",
   "execution_count": 22,
   "id": "f073a0cb",
   "metadata": {},
   "outputs": [],
   "source": [
    "# address this later... whether\n",
    "# col2[col2[\"_merge\"]==\"right_only\"][position_key_columns]"
   ]
  },
  {
   "cell_type": "code",
   "execution_count": 23,
   "id": "bde6d489",
   "metadata": {},
   "outputs": [
    {
     "data": {
      "text/plain": [
       "Index(['CareerString', 'CareerDateString_2022', 'IsJob', 'MultipleSubstrings',\n",
       "       'CareerStartYear', 'CareerStartMonth', 'CareerSubstring',\n",
       "       'InstitutionType', 'PrimaryInstitution', 'OrgName', 'Position', 'Notes',\n",
       "       'IsElected', '_merge'],\n",
       "      dtype='object')"
      ]
     },
     "execution_count": 23,
     "metadata": {},
     "output_type": "execute_result"
    }
   ],
   "source": [
    "col2.columns"
   ]
  },
  {
   "cell_type": "code",
   "execution_count": 24,
   "id": "4032defd",
   "metadata": {},
   "outputs": [],
   "source": [
    "# update col with elected positions\n",
    "col = col2.drop(columns=[\"_merge\"])"
   ]
  },
  {
   "cell_type": "code",
   "execution_count": 25,
   "id": "23e16118",
   "metadata": {},
   "outputs": [
    {
     "data": {
      "text/plain": [
       "array([nan, '1'], dtype=object)"
      ]
     },
     "execution_count": 25,
     "metadata": {},
     "output_type": "execute_result"
    }
   ],
   "source": [
    "col.IsElected.unique()"
   ]
  },
  {
   "cell_type": "markdown",
   "id": "3099ce7b",
   "metadata": {},
   "source": [
    "#### select jobs that satisfy criterion for transitions "
   ]
  },
  {
   "cell_type": "code",
   "execution_count": 26,
   "id": "a1883f46",
   "metadata": {},
   "outputs": [],
   "source": [
    "# IsJob = True\n",
    "# CareerStartYear can't be null\n",
    "# IsElected = False\n",
    "# PI, OrgName, Position can't be UNCERTAIN\n",
    "\n",
    "# Criteria 1: is a job\n",
    "select_jobs1 = (col[\"IsJob\"]==\"True\")"
   ]
  },
  {
   "cell_type": "code",
   "execution_count": 27,
   "id": "ab0087cf",
   "metadata": {},
   "outputs": [],
   "source": [
    "# Criteria 2: has a start year, not elected, not UNCERTAIN\n",
    "\n",
    "select_jobs2 = (col[\"CareerStartYear\"].notna()) & (col[\"IsElected\"].isnull()) & (col[\"InstitutionType\"]!=\"UNCERTAIN\") & (col[\"PrimaryInstitution\"]!=\"UNCERTAIN\") & (col[\"OrgName\"]!=\"UNCERTAIN\") & (col[\"Position\"]!=\"UNCERTAIN\")"
   ]
  },
  {
   "cell_type": "code",
   "execution_count": 28,
   "id": "2a0b55a4",
   "metadata": {},
   "outputs": [],
   "source": [
    "# Criteria 3: is InGov\n",
    "\n",
    "outside_instituiton_types = ['당외곽및사회단체_사회부문(별책)',\n",
    "                             '당외곽및사회단체_경제부문(별책)',\n",
    "                             '당외곽및사회단체_사회부문',\n",
    "                             '당외곽및사회단체_경제부문',\n",
    "                             '당외곽및사회단체_체육부문',\n",
    "                             '당외곽및사회단체_근로단체',\n",
    "                             '당외곽및사회단체_정치부문',\n",
    "                             '당외곽및사회단체_대외부문',\n",
    "                             '당외곽및사회단체_종교부문',\n",
    "                             '국제친선단체',\n",
    "                             'UNCERTAIN',\n",
    "                             np.nan]\n",
    "\n",
    "select_jobs3 = ~(col[\"InstitutionType\"].isin(outside_instituiton_types))"
   ]
  },
  {
   "cell_type": "code",
   "execution_count": 29,
   "id": "ab3f82d9",
   "metadata": {},
   "outputs": [
    {
     "data": {
      "text/plain": [
       "array(['당외곽및사회단체_사회부문(별책)', 'UNCERTAIN', '당외곽및사회단체_경제부문(별책)', '정권기관',\n",
       "       '인민군', nan, '당외곽및사회단체_체육부문', '당외곽및사회단체_근로단체', '노동당',\n",
       "       '당외곽및사회단체_정치부문', '국제친선단체', '당외곽및사회단체_대외부문', '당외곽및사회단체_사회부문',\n",
       "       '당외곽및사회단체_경제부문', '당외곽및사회단체_종교부문'], dtype=object)"
      ]
     },
     "execution_count": 29,
     "metadata": {},
     "output_type": "execute_result"
    }
   ],
   "source": [
    "col.InstitutionType.unique()"
   ]
  },
  {
   "cell_type": "code",
   "execution_count": 30,
   "id": "0e4c5e47",
   "metadata": {},
   "outputs": [],
   "source": [
    "job_columns = ['CareerString', 'CareerDateString_2022', 'CareerStartYear', 'CareerStartMonth', 'CareerSubstring',\n",
    "       'InstitutionType', 'PrimaryInstitution', 'OrgName', 'Position']"
   ]
  },
  {
   "cell_type": "code",
   "execution_count": 31,
   "id": "9feb28d6",
   "metadata": {},
   "outputs": [
    {
     "data": {
      "text/plain": [
       "(4321, 9)"
      ]
     },
     "execution_count": 31,
     "metadata": {},
     "output_type": "execute_result"
    }
   ],
   "source": [
    "# for all CERTAIN, non-elected jobs, select on Criteria 1 & 2\n",
    "jobs_all = col.loc[select_jobs1 & select_jobs2,job_columns]\n",
    "jobs_all.shape"
   ]
  },
  {
   "cell_type": "code",
   "execution_count": 32,
   "id": "a3060af1",
   "metadata": {},
   "outputs": [
    {
     "data": {
      "text/plain": [
       "(3142, 9)"
      ]
     },
     "execution_count": 32,
     "metadata": {},
     "output_type": "execute_result"
    }
   ],
   "source": [
    "# for all CERTAIN, non-elected, and ingov jobs, select on Criteria 1 & 2 & 3\n",
    "jobs_ingov = col.loc[select_jobs1 & select_jobs2 & select_jobs3,job_columns]\n",
    "jobs_ingov.shape"
   ]
  },
  {
   "cell_type": "markdown",
   "id": "a4ba6e59",
   "metadata": {},
   "source": [
    "#### descriptive statistics"
   ]
  },
  {
   "cell_type": "code",
   "execution_count": 33,
   "id": "1b25393c",
   "metadata": {},
   "outputs": [
    {
     "data": {
      "text/plain": [
       "(2302, 13)"
      ]
     },
     "execution_count": 33,
     "metadata": {},
     "output_type": "execute_result"
    }
   ],
   "source": [
    "# not jobs, excluded\n",
    "col[~select_jobs1].shape"
   ]
  },
  {
   "cell_type": "code",
   "execution_count": 34,
   "id": "c7e6bf87",
   "metadata": {},
   "outputs": [
    {
     "data": {
      "text/plain": [
       "(2410, 13)"
      ]
     },
     "execution_count": 34,
     "metadata": {},
     "output_type": "execute_result"
    }
   ],
   "source": [
    "# jobs, excluded, either because elected or because CareerStartYear is unknown\n",
    "col[select_jobs1 & ~select_jobs2].shape"
   ]
  },
  {
   "cell_type": "code",
   "execution_count": 35,
   "id": "55d61de2",
   "metadata": {},
   "outputs": [
    {
     "data": {
      "text/plain": [
       "(1179, 13)"
      ]
     },
     "execution_count": 35,
     "metadata": {},
     "output_type": "execute_result"
    }
   ],
   "source": [
    "# jobs, excluded, because not in gov\n",
    "col[select_jobs1 & select_jobs2 & ~select_jobs3].shape"
   ]
  },
  {
   "cell_type": "code",
   "execution_count": 36,
   "id": "c7776ee0",
   "metadata": {},
   "outputs": [
    {
     "data": {
      "text/plain": [
       "4321"
      ]
     },
     "execution_count": 36,
     "metadata": {},
     "output_type": "execute_result"
    }
   ],
   "source": [
    "# out of gov + ingov\n",
    "col[select_jobs1 & select_jobs2 & ~select_jobs3].shape[0] + col[select_jobs1 & select_jobs2 & select_jobs3].shape[0]"
   ]
  },
  {
   "cell_type": "code",
   "execution_count": 37,
   "id": "66ca5f9a",
   "metadata": {},
   "outputs": [
    {
     "data": {
      "text/plain": [
       "(4321, 13)"
      ]
     },
     "execution_count": 37,
     "metadata": {},
     "output_type": "execute_result"
    }
   ],
   "source": [
    "# jobs, out of gov + ingov \n",
    "col[select_jobs1 & select_jobs2].shape"
   ]
  },
  {
   "cell_type": "markdown",
   "id": "486279c1",
   "metadata": {},
   "source": [
    "# Step. add Org and Position metadata from orgtree, such as Rank"
   ]
  },
  {
   "cell_type": "code",
   "execution_count": 38,
   "id": "c231ae92",
   "metadata": {},
   "outputs": [],
   "source": [
    "org_key_columns = ['PrimaryInstitution', 'OrgName']"
   ]
  },
  {
   "cell_type": "code",
   "execution_count": 39,
   "id": "e50b0953",
   "metadata": {},
   "outputs": [],
   "source": [
    "orgtree_columns = org_key_columns + ['OrgRank', 'P1', 'P2', 'P3']"
   ]
  },
  {
   "cell_type": "code",
   "execution_count": 40,
   "id": "9f590ca7",
   "metadata": {},
   "outputs": [
    {
     "name": "stdout",
     "output_type": "stream",
     "text": [
      "\n",
      "Merge Results...\n",
      "\n",
      "\tshape     : (3142, 14)\n",
      "\tleft_only : (0, 14)\n",
      "\tboth      : (3142, 14)\n",
      "\tright_only: (0, 14)\n"
     ]
    }
   ],
   "source": [
    "jobs_ingov2 = jobs_ingov.merge(org[orgtree_columns],on=org_key_columns,how=\"left\",indicator=True)\n",
    "merge_results(jobs_ingov2)"
   ]
  },
  {
   "cell_type": "code",
   "execution_count": 41,
   "id": "faef2a86",
   "metadata": {},
   "outputs": [],
   "source": [
    "# Good! No left_only means we are matching on all PI-OrgName keys\n",
    "# jobs2[jobs2[\"_merge\"]==\"left_only\"]"
   ]
  },
  {
   "cell_type": "code",
   "execution_count": 42,
   "id": "f79eff8a",
   "metadata": {},
   "outputs": [
    {
     "data": {
      "text/html": [
       "<div>\n",
       "<style scoped>\n",
       "    .dataframe tbody tr th:only-of-type {\n",
       "        vertical-align: middle;\n",
       "    }\n",
       "\n",
       "    .dataframe tbody tr th {\n",
       "        vertical-align: top;\n",
       "    }\n",
       "\n",
       "    .dataframe thead th {\n",
       "        text-align: right;\n",
       "    }\n",
       "</style>\n",
       "<table border=\"1\" class=\"dataframe\">\n",
       "  <thead>\n",
       "    <tr style=\"text-align: right;\">\n",
       "      <th></th>\n",
       "      <th>CareerString</th>\n",
       "      <th>CareerDateString_2022</th>\n",
       "      <th>CareerStartYear</th>\n",
       "      <th>CareerStartMonth</th>\n",
       "      <th>CareerSubstring</th>\n",
       "      <th>InstitutionType</th>\n",
       "      <th>PrimaryInstitution</th>\n",
       "      <th>OrgName</th>\n",
       "      <th>Position</th>\n",
       "      <th>OrgRank</th>\n",
       "      <th>P1</th>\n",
       "      <th>P2</th>\n",
       "      <th>P3</th>\n",
       "      <th>_merge</th>\n",
       "    </tr>\n",
       "  </thead>\n",
       "  <tbody>\n",
       "    <tr>\n",
       "      <th>0</th>\n",
       "      <td>1984. 9 개성시 농촌경리위원장</td>\n",
       "      <td>NaN</td>\n",
       "      <td>1984</td>\n",
       "      <td>9</td>\n",
       "      <td>NaN</td>\n",
       "      <td>정권기관</td>\n",
       "      <td>개성시농촌경리위원회</td>\n",
       "      <td>NaN</td>\n",
       "      <td>위원장</td>\n",
       "      <td>0</td>\n",
       "      <td>위원장</td>\n",
       "      <td>NaN</td>\n",
       "      <td>NaN</td>\n",
       "      <td>both</td>\n",
       "    </tr>\n",
       "    <tr>\n",
       "      <th>1</th>\n",
       "      <td>개성시 농촌경리위원장</td>\n",
       "      <td>1984.09</td>\n",
       "      <td>1984</td>\n",
       "      <td>9</td>\n",
       "      <td>NaN</td>\n",
       "      <td>정권기관</td>\n",
       "      <td>개성시농촌경리위원회</td>\n",
       "      <td>NaN</td>\n",
       "      <td>위원장</td>\n",
       "      <td>0</td>\n",
       "      <td>위원장</td>\n",
       "      <td>NaN</td>\n",
       "      <td>NaN</td>\n",
       "      <td>both</td>\n",
       "    </tr>\n",
       "  </tbody>\n",
       "</table>\n",
       "</div>"
      ],
      "text/plain": [
       "          CareerString CareerDateString_2022 CareerStartYear CareerStartMonth  \\\n",
       "0  1984. 9 개성시 농촌경리위원장                   NaN            1984                9   \n",
       "1          개성시 농촌경리위원장               1984.09            1984                9   \n",
       "\n",
       "  CareerSubstring InstitutionType PrimaryInstitution OrgName Position OrgRank  \\\n",
       "0             NaN            정권기관         개성시농촌경리위원회     NaN      위원장       0   \n",
       "1             NaN            정권기관         개성시농촌경리위원회     NaN      위원장       0   \n",
       "\n",
       "    P1   P2   P3 _merge  \n",
       "0  위원장  NaN  NaN   both  \n",
       "1  위원장  NaN  NaN   both  "
      ]
     },
     "execution_count": 42,
     "metadata": {},
     "output_type": "execute_result"
    }
   ],
   "source": [
    "jobs_ingov2.head(2)"
   ]
  },
  {
   "cell_type": "code",
   "execution_count": 43,
   "id": "3f39e63d",
   "metadata": {},
   "outputs": [],
   "source": [
    "# determine PositionRank - i.e., find Position in P1-P3\n",
    "\n",
    "# row-vectorized formula - meant for use in df.apply()\n",
    "\n",
    "def determine_Position_Rank(row):\n",
    "    \n",
    "    PositionRank = np.nan\n",
    "    rowPos = row[\"Position\"]\n",
    "\n",
    "    # print(\"\\n\")\n",
    "    # print(row[\"Position\"],type(row[\"Position\"]),type(rowPos))\n",
    "    \n",
    "    # print(\"P1:\",row[\"P1\"])\n",
    "    if isinstance(row[\"P1\"],str):\n",
    "        if rowPos in row[\"P1\"].split(\",\"):\n",
    "            PositionRank = 1\n",
    "    \n",
    "    # print(\"P2:\",row[\"P2\"])\n",
    "    if isinstance(row[\"P2\"],str):\n",
    "        if rowPos in row[\"P2\"].split(\",\"):\n",
    "            PositionRank = 2\n",
    "          \n",
    "    # print(\"P3:\",row[\"P3\"])\n",
    "    if isinstance(row[\"P3\"],str):\n",
    "        if rowPos in row[\"P3\"].split(\",\"):\n",
    "            PositionRank = 3\n",
    "            \n",
    "    # print(\"PositionRank:\",PositionRank)\n",
    "        \n",
    "    return PositionRank"
   ]
  },
  {
   "cell_type": "code",
   "execution_count": 44,
   "id": "22db4567",
   "metadata": {},
   "outputs": [],
   "source": [
    "jobs_ingov2[\"PositionRank\"] = jobs_ingov2.apply(determine_Position_Rank,axis=1)"
   ]
  },
  {
   "cell_type": "code",
   "execution_count": 45,
   "id": "48c93c85",
   "metadata": {},
   "outputs": [
    {
     "data": {
      "text/plain": [
       "Index(['CareerString', 'CareerDateString_2022', 'CareerStartYear',\n",
       "       'CareerStartMonth', 'CareerSubstring', 'InstitutionType',\n",
       "       'PrimaryInstitution', 'OrgName', 'Position', 'OrgRank', 'P1', 'P2',\n",
       "       'P3', '_merge', 'PositionRank'],\n",
       "      dtype='object')"
      ]
     },
     "execution_count": 45,
     "metadata": {},
     "output_type": "execute_result"
    }
   ],
   "source": [
    "jobs_ingov2.columns"
   ]
  },
  {
   "cell_type": "code",
   "execution_count": 46,
   "id": "edd2e19d",
   "metadata": {},
   "outputs": [],
   "source": [
    "new_jobs_columns = ['CareerString', 'CareerDateString_2022', 'CareerStartYear',\n",
    "       'CareerStartMonth', 'CareerSubstring', 'InstitutionType',\n",
    "       'PrimaryInstitution', 'OrgName', 'Position', 'OrgRank', 'PositionRank']"
   ]
  },
  {
   "cell_type": "code",
   "execution_count": 47,
   "id": "88bb003b",
   "metadata": {},
   "outputs": [],
   "source": [
    "jobs_ingov = jobs_ingov2[new_jobs_columns]"
   ]
  },
  {
   "cell_type": "code",
   "execution_count": 48,
   "id": "4b749df0",
   "metadata": {},
   "outputs": [
    {
     "data": {
      "text/plain": [
       "(3142, 11)"
      ]
     },
     "execution_count": 48,
     "metadata": {},
     "output_type": "execute_result"
    }
   ],
   "source": [
    "jobs_ingov.shape"
   ]
  },
  {
   "cell_type": "markdown",
   "id": "6ca27a56",
   "metadata": {},
   "source": [
    "# Step. merge leadercareerlink & jobs"
   ]
  },
  {
   "cell_type": "code",
   "execution_count": 49,
   "id": "4bf6954d",
   "metadata": {},
   "outputs": [],
   "source": [
    "job_key_columns = ['CareerString', 'CareerDateString_2022']"
   ]
  },
  {
   "cell_type": "code",
   "execution_count": 50,
   "id": "53ff8841",
   "metadata": {},
   "outputs": [
    {
     "data": {
      "text/html": [
       "<div>\n",
       "<style scoped>\n",
       "    .dataframe tbody tr th:only-of-type {\n",
       "        vertical-align: middle;\n",
       "    }\n",
       "\n",
       "    .dataframe tbody tr th {\n",
       "        vertical-align: top;\n",
       "    }\n",
       "\n",
       "    .dataframe thead th {\n",
       "        text-align: right;\n",
       "    }\n",
       "</style>\n",
       "<table border=\"1\" class=\"dataframe\">\n",
       "  <thead>\n",
       "    <tr style=\"text-align: right;\">\n",
       "      <th></th>\n",
       "      <th>LeaderID</th>\n",
       "      <th>CareerString</th>\n",
       "      <th>CareerDateString_2022</th>\n",
       "    </tr>\n",
       "  </thead>\n",
       "  <tbody>\n",
       "    <tr>\n",
       "      <th>0</th>\n",
       "      <td>리선권</td>\n",
       "      <td>개성공단 남북공동위원회 통행통신통관 분과위원회</td>\n",
       "      <td>2013.09 ~ 2014.01</td>\n",
       "    </tr>\n",
       "    <tr>\n",
       "      <th>1</th>\n",
       "      <td>조경철</td>\n",
       "      <td>故 김정일 국가장의위원회 위원</td>\n",
       "      <td>2011.12</td>\n",
       "    </tr>\n",
       "  </tbody>\n",
       "</table>\n",
       "</div>"
      ],
      "text/plain": [
       "  LeaderID                CareerString CareerDateString_2022\n",
       "0      리선권   개성공단 남북공동위원회 통행통신통관 분과위원회     2013.09 ~ 2014.01\n",
       "1      조경철            故 김정일 국가장의위원회 위원               2011.12"
      ]
     },
     "execution_count": 50,
     "metadata": {},
     "output_type": "execute_result"
    }
   ],
   "source": [
    "lcl.head(2)"
   ]
  },
  {
   "cell_type": "code",
   "execution_count": 51,
   "id": "92c9d2ab",
   "metadata": {},
   "outputs": [
    {
     "name": "stdout",
     "output_type": "stream",
     "text": [
      "\n",
      "Merge Results...\n",
      "\n",
      "\tshape     : (12795, 13)\n",
      "\tleft_only : (9569, 13)\n",
      "\tboth      : (3226, 13)\n",
      "\tright_only: (0, 13)\n"
     ]
    }
   ],
   "source": [
    "# leaderjoblink - outer join for descriptive statistics\n",
    "ljob_outer = lcl.merge(jobs_ingov,on=job_key_columns,how=\"outer\",indicator=True)\n",
    "merge_results(ljob_outer)"
   ]
  },
  {
   "cell_type": "code",
   "execution_count": 52,
   "id": "f4f52892",
   "metadata": {},
   "outputs": [],
   "source": [
    "# no right_only confirms no mismatched career keys in careerorglink\n",
    "# left-only indicates all of the excluded career items"
   ]
  },
  {
   "cell_type": "code",
   "execution_count": 53,
   "id": "67717bad",
   "metadata": {},
   "outputs": [
    {
     "name": "stdout",
     "output_type": "stream",
     "text": [
      "\n",
      "Merge Results...\n",
      "\n",
      "\tshape     : (3226, 13)\n",
      "\tleft_only : (0, 13)\n",
      "\tboth      : (3226, 13)\n",
      "\tright_only: (0, 13)\n"
     ]
    }
   ],
   "source": [
    "# leaderjoblink - inner join for the table we will use to make transitions\n",
    "ljob = lcl.merge(jobs_ingov,on=job_key_columns,how=\"inner\",indicator=True)\n",
    "merge_results(ljob)"
   ]
  },
  {
   "cell_type": "code",
   "execution_count": 54,
   "id": "089534eb",
   "metadata": {},
   "outputs": [],
   "source": [
    "# instantiate CareerStartDate\n",
    "ljob[\"CareerStartDate\"]=np.nan"
   ]
  },
  {
   "cell_type": "code",
   "execution_count": 55,
   "id": "74a75d4c",
   "metadata": {},
   "outputs": [],
   "source": [
    "# CareerStartDate when CareerStartMonth is null\n",
    "selection = ljob[\"CareerStartMonth\"].isna()\n",
    "ljob.loc[selection,\"CareerStartDate\"] = ljob[selection].apply(lambda x: str(x[\"CareerStartYear\"]) + \"00\",axis=1)"
   ]
  },
  {
   "cell_type": "code",
   "execution_count": 56,
   "id": "7ff285b5",
   "metadata": {},
   "outputs": [],
   "source": [
    "# CareerStartDate when CareerStartMonth has 2 digits\n",
    "selection = (ljob[\"CareerStartMonth\"].notna()) & (ljob.apply(lambda x: len(str(x[\"CareerStartMonth\"])),axis=1)==2)\n",
    "ljob.loc[selection,\"CareerStartDate\"] = ljob[selection].apply(lambda x: str(x[\"CareerStartYear\"]) + str(x[\"CareerStartMonth\"]),axis=1)"
   ]
  },
  {
   "cell_type": "code",
   "execution_count": 57,
   "id": "17ae6e41",
   "metadata": {},
   "outputs": [],
   "source": [
    "# CareerStartDate when CareerStartMonth has 1 digit\n",
    "selection = (ljob[\"CareerStartMonth\"].notna()) & (ljob.apply(lambda x: len(str(x[\"CareerStartMonth\"])),axis=1)==1)\n",
    "ljob.loc[selection,\"CareerStartDate\"] = ljob[selection].apply(lambda x: str(x[\"CareerStartYear\"]) + \"0\" + str(x[\"CareerStartMonth\"]),axis=1)"
   ]
  },
  {
   "cell_type": "code",
   "execution_count": 58,
   "id": "adb76d91",
   "metadata": {},
   "outputs": [
    {
     "data": {
      "text/plain": [
       "Index(['LeaderID', 'CareerString', 'CareerDateString_2022', 'CareerStartYear',\n",
       "       'CareerStartMonth', 'CareerSubstring', 'InstitutionType',\n",
       "       'PrimaryInstitution', 'OrgName', 'Position', 'OrgRank', 'PositionRank',\n",
       "       '_merge', 'CareerStartDate'],\n",
       "      dtype='object')"
      ]
     },
     "execution_count": 58,
     "metadata": {},
     "output_type": "execute_result"
    }
   ],
   "source": [
    "ljob.columns"
   ]
  },
  {
   "cell_type": "code",
   "execution_count": 59,
   "id": "cec24598",
   "metadata": {},
   "outputs": [],
   "source": [
    "ljob_columns = ['LeaderID', 'CareerString', 'CareerDateString_2022','CareerStartYear', 'CareerStartMonth','CareerStartDate','CareerSubstring', 'InstitutionType',\n",
    "       'PrimaryInstitution', 'OrgName', 'Position','OrgRank', 'PositionRank']"
   ]
  },
  {
   "cell_type": "code",
   "execution_count": 60,
   "id": "f0b0186a",
   "metadata": {},
   "outputs": [],
   "source": [
    "ljob = ljob[ljob_columns]"
   ]
  },
  {
   "cell_type": "code",
   "execution_count": 61,
   "id": "d0eddd70",
   "metadata": {},
   "outputs": [
    {
     "data": {
      "text/html": [
       "<div>\n",
       "<style scoped>\n",
       "    .dataframe tbody tr th:only-of-type {\n",
       "        vertical-align: middle;\n",
       "    }\n",
       "\n",
       "    .dataframe tbody tr th {\n",
       "        vertical-align: top;\n",
       "    }\n",
       "\n",
       "    .dataframe thead th {\n",
       "        text-align: right;\n",
       "    }\n",
       "</style>\n",
       "<table border=\"1\" class=\"dataframe\">\n",
       "  <thead>\n",
       "    <tr style=\"text-align: right;\">\n",
       "      <th></th>\n",
       "      <th>LeaderID</th>\n",
       "      <th>CareerString</th>\n",
       "      <th>CareerDateString_2022</th>\n",
       "      <th>CareerStartYear</th>\n",
       "      <th>CareerStartMonth</th>\n",
       "      <th>CareerStartDate</th>\n",
       "      <th>CareerSubstring</th>\n",
       "      <th>InstitutionType</th>\n",
       "      <th>PrimaryInstitution</th>\n",
       "      <th>OrgName</th>\n",
       "      <th>Position</th>\n",
       "      <th>OrgRank</th>\n",
       "      <th>PositionRank</th>\n",
       "    </tr>\n",
       "  </thead>\n",
       "  <tbody>\n",
       "    <tr>\n",
       "      <th>0</th>\n",
       "      <td>리원일</td>\n",
       "      <td>노동성 상(유임)</td>\n",
       "      <td>1999.02</td>\n",
       "      <td>1999</td>\n",
       "      <td>2</td>\n",
       "      <td>199902</td>\n",
       "      <td>NaN</td>\n",
       "      <td>정권기관</td>\n",
       "      <td>내각</td>\n",
       "      <td>노동성</td>\n",
       "      <td>상</td>\n",
       "      <td>1</td>\n",
       "      <td>1</td>\n",
       "    </tr>\n",
       "    <tr>\n",
       "      <th>1</th>\n",
       "      <td>리하일</td>\n",
       "      <td>인민무력부 작전국 국장</td>\n",
       "      <td>1975</td>\n",
       "      <td>1975</td>\n",
       "      <td>NaN</td>\n",
       "      <td>197500</td>\n",
       "      <td>NaN</td>\n",
       "      <td>정권기관</td>\n",
       "      <td>정무원</td>\n",
       "      <td>인민무력부A_작전국</td>\n",
       "      <td>국장</td>\n",
       "      <td>2</td>\n",
       "      <td>1</td>\n",
       "    </tr>\n",
       "  </tbody>\n",
       "</table>\n",
       "</div>"
      ],
      "text/plain": [
       "  LeaderID   CareerString CareerDateString_2022 CareerStartYear  \\\n",
       "0      리원일      노동성 상(유임)               1999.02            1999   \n",
       "1      리하일   인민무력부 작전국 국장                  1975            1975   \n",
       "\n",
       "  CareerStartMonth CareerStartDate CareerSubstring InstitutionType  \\\n",
       "0                2          199902             NaN            정권기관   \n",
       "1              NaN          197500             NaN            정권기관   \n",
       "\n",
       "  PrimaryInstitution     OrgName Position OrgRank  PositionRank  \n",
       "0                 내각         노동성        상       1             1  \n",
       "1                정무원  인민무력부A_작전국       국장       2             1  "
      ]
     },
     "execution_count": 61,
     "metadata": {},
     "output_type": "execute_result"
    }
   ],
   "source": [
    "ljob.head(2)"
   ]
  },
  {
   "cell_type": "markdown",
   "id": "8ead0c66",
   "metadata": {},
   "source": [
    "#### descriptive statistics"
   ]
  },
  {
   "cell_type": "code",
   "execution_count": 62,
   "id": "3b2572e3",
   "metadata": {},
   "outputs": [
    {
     "data": {
      "text/plain": [
       "637"
      ]
     },
     "execution_count": 62,
     "metadata": {},
     "output_type": "execute_result"
    }
   ],
   "source": [
    "# unique leaders, overall\n",
    "len(lcl.LeaderID.unique())"
   ]
  },
  {
   "cell_type": "code",
   "execution_count": 63,
   "id": "70019c2f",
   "metadata": {},
   "outputs": [
    {
     "data": {
      "text/plain": [
       "505"
      ]
     },
     "execution_count": 63,
     "metadata": {},
     "output_type": "execute_result"
    }
   ],
   "source": [
    "# unique leaders, with jobs included\n",
    "len(ljob.LeaderID.unique())"
   ]
  },
  {
   "cell_type": "code",
   "execution_count": 64,
   "id": "d14a96d3",
   "metadata": {},
   "outputs": [
    {
     "data": {
      "text/plain": [
       "132"
      ]
     },
     "execution_count": 64,
     "metadata": {},
     "output_type": "execute_result"
    }
   ],
   "source": [
    "# leaders not having jobs that satisfy our critiria; excluded from analysis\n",
    "len(lcl.LeaderID.unique())-len(ljob.LeaderID.unique())"
   ]
  },
  {
   "cell_type": "code",
   "execution_count": 65,
   "id": "bc9bde07",
   "metadata": {},
   "outputs": [
    {
     "data": {
      "text/plain": [
       "(3226, 13)"
      ]
     },
     "execution_count": 65,
     "metadata": {},
     "output_type": "execute_result"
    }
   ],
   "source": [
    "# job items, after pairing with leaders (some jobs reported for more than one leader)\n",
    "ljob.shape"
   ]
  },
  {
   "cell_type": "code",
   "execution_count": 66,
   "id": "3f02070a",
   "metadata": {},
   "outputs": [
    {
     "data": {
      "text/plain": [
       "(955, 3)"
      ]
     },
     "execution_count": 66,
     "metadata": {},
     "output_type": "execute_result"
    }
   ],
   "source": [
    "# unique positions\n",
    "position_key_columns = ['PrimaryInstitution', 'OrgName','Position']\n",
    "ljob[position_key_columns].drop_duplicates().shape"
   ]
  },
  {
   "cell_type": "code",
   "execution_count": 67,
   "id": "5183153b",
   "metadata": {},
   "outputs": [
    {
     "data": {
      "text/plain": [
       "(622, 2)"
      ]
     },
     "execution_count": 67,
     "metadata": {},
     "output_type": "execute_result"
    }
   ],
   "source": [
    "# unique orgs\n",
    "org_key_columns = ['PrimaryInstitution', 'OrgName']\n",
    "ljob[org_key_columns].drop_duplicates().shape"
   ]
  },
  {
   "cell_type": "markdown",
   "id": "600aa602",
   "metadata": {},
   "source": [
    "# Step. calculate time-adjacent transitions for each leader"
   ]
  },
  {
   "cell_type": "code",
   "execution_count": 68,
   "id": "9b9b1189",
   "metadata": {},
   "outputs": [],
   "source": [
    "def calculate_resume_transitions(lc,leaderid):\n",
    "\n",
    "    t = lc[(lc[\"LeaderID\"]==leaderid) & (lc[\"CareerStartYear\"].notna())]\n",
    "    t = t.drop_duplicates([\"CareerStartYear\",\"PrimaryInstitution\",\"OrgName\"],keep=\"first\")\n",
    "    t = t.sort_values(\"CareerStartDate\",ignore_index=True)\n",
    "    # print(\"resume:\",t.shape)\n",
    "    \n",
    "    tr = t.merge(t,on=\"LeaderID\",how=\"inner\",suffixes=(\"_1\",\"_2\"))\n",
    "    # sort based on CareerStartDates\n",
    "    tr = tr.sort_values([\"CareerStartDate_1\",\"CareerStartDate_2\"])\n",
    "    \n",
    "    # drop keys where CareerStartDate_1 <= CareerStartDate_2\n",
    "    tr = tr[tr.apply(lambda x: x[\"CareerStartDate_1\"] < x[\"CareerStartDate_2\"],axis=1)]\n",
    "    #tr.shape\n",
    "    \n",
    "    # smallest next startdate\n",
    "    dates = tr[[\"CareerStartDate_1\",\"CareerStartDate_2\"]]\n",
    "    #dates\n",
    "    mindate = dates.groupby(\"CareerStartDate_1\",as_index=False).agg({\"CareerStartDate_2\":\"min\"})\n",
    "    mindate.columns = [\"CareerStartDate_1\",\"CareerStartDate_2_min\"]\n",
    "    #mindate\n",
    "    \n",
    "    tr2 = tr.merge(mindate,on=\"CareerStartDate_1\",how=\"left\")\n",
    "    #tr2.shape\n",
    "    \n",
    "    tr3 = tr2[tr2.apply(lambda x: x[\"CareerStartDate_2\"] == x[\"CareerStartDate_2_min\"],axis=1)]\n",
    "    # print(\"transitions:\",tr3.shape)\n",
    "    \n",
    "    #print(tr3[some_columns])\n",
    "    \n",
    "    print(leaderid,tr3.shape[0],\"transitions\")\n",
    "\n",
    "    return tr3"
   ]
  },
  {
   "cell_type": "markdown",
   "id": "72a79aa7",
   "metadata": {},
   "source": [
    "#### a good example of many of the problems we need to address"
   ]
  },
  {
   "cell_type": "code",
   "execution_count": 69,
   "id": "9143292e",
   "metadata": {},
   "outputs": [
    {
     "name": "stdout",
     "output_type": "stream",
     "text": [
      "강관주 9 transitions\n"
     ]
    }
   ],
   "source": [
    "leaderid = \"강관주\"\n",
    "resume = calculate_resume_transitions(ljob,leaderid)"
   ]
  },
  {
   "cell_type": "code",
   "execution_count": 70,
   "id": "6f204efd",
   "metadata": {
    "scrolled": true
   },
   "outputs": [
    {
     "data": {
      "text/html": [
       "<div>\n",
       "<style scoped>\n",
       "    .dataframe tbody tr th:only-of-type {\n",
       "        vertical-align: middle;\n",
       "    }\n",
       "\n",
       "    .dataframe tbody tr th {\n",
       "        vertical-align: top;\n",
       "    }\n",
       "\n",
       "    .dataframe thead th {\n",
       "        text-align: right;\n",
       "    }\n",
       "</style>\n",
       "<table border=\"1\" class=\"dataframe\">\n",
       "  <thead>\n",
       "    <tr style=\"text-align: right;\">\n",
       "      <th></th>\n",
       "      <th>LeaderID</th>\n",
       "      <th>CareerStartDate_1</th>\n",
       "      <th>PrimaryInstitution_1</th>\n",
       "      <th>OrgName_1</th>\n",
       "      <th>Position_1</th>\n",
       "      <th>CareerStartDate_2</th>\n",
       "      <th>PrimaryInstitution_2</th>\n",
       "      <th>OrgName_2</th>\n",
       "      <th>Position_2</th>\n",
       "    </tr>\n",
       "  </thead>\n",
       "  <tbody>\n",
       "    <tr>\n",
       "      <th>0</th>\n",
       "      <td>강관주</td>\n",
       "      <td>197300</td>\n",
       "      <td>노동당</td>\n",
       "      <td>당중앙위원회_문화예술부_X과</td>\n",
       "      <td>과장</td>\n",
       "      <td>198600</td>\n",
       "      <td>노동당</td>\n",
       "      <td>당중앙위원회_조직지도부</td>\n",
       "      <td>부부장</td>\n",
       "    </tr>\n",
       "    <tr>\n",
       "      <th>8</th>\n",
       "      <td>강관주</td>\n",
       "      <td>198600</td>\n",
       "      <td>노동당</td>\n",
       "      <td>당중앙위원회_조직지도부</td>\n",
       "      <td>부부장</td>\n",
       "      <td>198800</td>\n",
       "      <td>노동당</td>\n",
       "      <td>당중앙위원회_통일전선부</td>\n",
       "      <td>부부장</td>\n",
       "    </tr>\n",
       "    <tr>\n",
       "      <th>15</th>\n",
       "      <td>강관주</td>\n",
       "      <td>198800</td>\n",
       "      <td>노동당</td>\n",
       "      <td>당중앙위원회_통일전선부</td>\n",
       "      <td>부부장</td>\n",
       "      <td>198903</td>\n",
       "      <td>노동당</td>\n",
       "      <td>당중앙위원회_통일전선부</td>\n",
       "      <td>제1부부장</td>\n",
       "    </tr>\n",
       "    <tr>\n",
       "      <th>21</th>\n",
       "      <td>강관주</td>\n",
       "      <td>198903</td>\n",
       "      <td>노동당</td>\n",
       "      <td>당중앙위원회_통일전선부</td>\n",
       "      <td>제1부부장</td>\n",
       "      <td>199008</td>\n",
       "      <td>내각</td>\n",
       "      <td>조국평화통일위원회</td>\n",
       "      <td>부위원장</td>\n",
       "    </tr>\n",
       "    <tr>\n",
       "      <th>22</th>\n",
       "      <td>강관주</td>\n",
       "      <td>198903</td>\n",
       "      <td>노동당</td>\n",
       "      <td>당중앙위원회_통일전선부</td>\n",
       "      <td>제1부부장</td>\n",
       "      <td>199008</td>\n",
       "      <td>정무원</td>\n",
       "      <td>조국평화통일위원회</td>\n",
       "      <td>부위원장</td>\n",
       "    </tr>\n",
       "    <tr>\n",
       "      <th>26</th>\n",
       "      <td>강관주</td>\n",
       "      <td>199008</td>\n",
       "      <td>내각</td>\n",
       "      <td>조국평화통일위원회</td>\n",
       "      <td>부위원장</td>\n",
       "      <td>199301</td>\n",
       "      <td>노동당</td>\n",
       "      <td>당중앙위원회_통일전선부</td>\n",
       "      <td>부장</td>\n",
       "    </tr>\n",
       "    <tr>\n",
       "      <th>27</th>\n",
       "      <td>강관주</td>\n",
       "      <td>199008</td>\n",
       "      <td>정무원</td>\n",
       "      <td>조국평화통일위원회</td>\n",
       "      <td>부위원장</td>\n",
       "      <td>199301</td>\n",
       "      <td>노동당</td>\n",
       "      <td>당중앙위원회_통일전선부</td>\n",
       "      <td>부장</td>\n",
       "    </tr>\n",
       "    <tr>\n",
       "      <th>32</th>\n",
       "      <td>강관주</td>\n",
       "      <td>199301</td>\n",
       "      <td>노동당</td>\n",
       "      <td>당중앙위원회_통일전선부</td>\n",
       "      <td>부장</td>\n",
       "      <td>199702</td>\n",
       "      <td>노동당</td>\n",
       "      <td>당중앙위원회_대외연락부</td>\n",
       "      <td>부장</td>\n",
       "    </tr>\n",
       "    <tr>\n",
       "      <th>34</th>\n",
       "      <td>강관주</td>\n",
       "      <td>199702</td>\n",
       "      <td>노동당</td>\n",
       "      <td>당중앙위원회_대외연락부</td>\n",
       "      <td>부장</td>\n",
       "      <td>200900</td>\n",
       "      <td>내각</td>\n",
       "      <td>225국</td>\n",
       "      <td>국장</td>\n",
       "    </tr>\n",
       "  </tbody>\n",
       "</table>\n",
       "</div>"
      ],
      "text/plain": [
       "   LeaderID CareerStartDate_1 PrimaryInstitution_1        OrgName_1  \\\n",
       "0       강관주            197300                  노동당  당중앙위원회_문화예술부_X과   \n",
       "8       강관주            198600                  노동당     당중앙위원회_조직지도부   \n",
       "15      강관주            198800                  노동당     당중앙위원회_통일전선부   \n",
       "21      강관주            198903                  노동당     당중앙위원회_통일전선부   \n",
       "22      강관주            198903                  노동당     당중앙위원회_통일전선부   \n",
       "26      강관주            199008                   내각        조국평화통일위원회   \n",
       "27      강관주            199008                  정무원        조국평화통일위원회   \n",
       "32      강관주            199301                  노동당     당중앙위원회_통일전선부   \n",
       "34      강관주            199702                  노동당     당중앙위원회_대외연락부   \n",
       "\n",
       "   Position_1 CareerStartDate_2 PrimaryInstitution_2     OrgName_2 Position_2  \n",
       "0          과장            198600                  노동당  당중앙위원회_조직지도부        부부장  \n",
       "8         부부장            198800                  노동당  당중앙위원회_통일전선부        부부장  \n",
       "15        부부장            198903                  노동당  당중앙위원회_통일전선부      제1부부장  \n",
       "21      제1부부장            199008                   내각     조국평화통일위원회       부위원장  \n",
       "22      제1부부장            199008                  정무원     조국평화통일위원회       부위원장  \n",
       "26       부위원장            199301                  노동당  당중앙위원회_통일전선부         부장  \n",
       "27       부위원장            199301                  노동당  당중앙위원회_통일전선부         부장  \n",
       "32         부장            199702                  노동당  당중앙위원회_대외연락부         부장  \n",
       "34         부장            200900                   내각          225국         국장  "
      ]
     },
     "execution_count": 70,
     "metadata": {},
     "output_type": "execute_result"
    }
   ],
   "source": [
    "some_columns = [\"LeaderID\",\"CareerStartDate_1\",\"PrimaryInstitution_1\",\"OrgName_1\",\"Position_1\",\"CareerStartDate_2\",\"PrimaryInstitution_2\",\"OrgName_2\",\"Position_2\"]\n",
    "resume[some_columns]"
   ]
  },
  {
   "cell_type": "code",
   "execution_count": 71,
   "id": "2ccf1390",
   "metadata": {},
   "outputs": [],
   "source": [
    "leaderids = list(ljob[\"LeaderID\"].unique())"
   ]
  },
  {
   "cell_type": "code",
   "execution_count": 72,
   "id": "4ba03a7f",
   "metadata": {},
   "outputs": [
    {
     "data": {
      "text/plain": [
       "505"
      ]
     },
     "execution_count": 72,
     "metadata": {},
     "output_type": "execute_result"
    }
   ],
   "source": [
    "len(leaderids)"
   ]
  },
  {
   "cell_type": "code",
   "execution_count": 73,
   "id": "4d39bfaf",
   "metadata": {},
   "outputs": [],
   "source": [
    "def compile_leader_transitions(lc):\n",
    "    \n",
    "    leaderids = list(lc[\"LeaderID\"].unique())\n",
    "    \n",
    "    leader_resumes = []\n",
    "    \n",
    "    for leaderid in leaderids:\n",
    "        leader_resume = calculate_resume_transitions(lc,leaderid)\n",
    "        leader_resumes.append(leader_resume)\n",
    "        \n",
    "    lct = pd.concat(leader_resumes,ignore_index=True)\n",
    "    \n",
    "    return lct"
   ]
  },
  {
   "cell_type": "code",
   "execution_count": 74,
   "id": "58fafc72",
   "metadata": {},
   "outputs": [
    {
     "name": "stdout",
     "output_type": "stream",
     "text": [
      "리원일 6 transitions\n",
      "리하일 4 transitions\n",
      "최희태 0 transitions\n",
      "김창룡 0 transitions\n",
      "김인식 0 transitions\n",
      "리영호 2 transitions\n",
      "최태복 13 transitions\n",
      "김영일a 14 transitions\n",
      "주상성 5 transitions\n",
      "강동윤 2 transitions\n",
      "김일성 21 transitions\n",
      "김일본 20 transitions\n",
      "최광 15 transitions\n",
      "백학림 21 transitions\n",
      "박성철a 36 transitions\n",
      "김중린 9 transitions\n",
      "리종옥 28 transitions\n",
      "리을설 13 transitions\n",
      "김익현 6 transitions\n",
      "김의순 10 transitions\n",
      "오진우 10 transitions\n",
      "김영주 13 transitions\n",
      "김철만 10 transitions\n",
      "백인준 0 transitions\n",
      "최영림 17 transitions\n",
      "김영남 17 transitions\n",
      "전병호 9 transitions\n",
      "계응태 16 transitions\n",
      "강석숭 7 transitions\n",
      "김복신 11 transitions\n",
      "김원균 0 transitions\n",
      "김영춘 6 transitions\n",
      "김기남 14 transitions\n",
      "채희정 16 transitions\n",
      "길재경 5 transitions\n",
      "양형섭 6 transitions\n",
      "박용석 8 transitions\n",
      "전하철 7 transitions\n",
      "장병규 0 transitions\n",
      "김국태 11 transitions\n",
      "김정일 10 transitions\n",
      "리용무 6 transitions\n",
      "리종혁 5 transitions\n",
      "오극렬 6 transitions\n",
      "리종산 2 transitions\n",
      "송호경 11 transitions\n",
      "김락희 9 transitions\n",
      "권희경 5 transitions\n",
      "황순희 0 transitions\n",
      "김룡연 1 transitions\n",
      "김풍기 3 transitions\n",
      "전희정 11 transitions\n",
      "리길송 19 transitions\n",
      "김일철a 6 transitions\n",
      "현철해 10 transitions\n",
      "변영립 8 transitions\n",
      "강영섭 3 transitions\n",
      "박길연 12 transitions\n",
      "최수헌 9 transitions\n",
      "강성산 17 transitions\n",
      "최익규 5 transitions\n",
      "최진수 10 transitions\n",
      "김병률 5 transitions\n",
      "한성룡 7 transitions\n",
      "박정순 2 transitions\n",
      "박관오 1 transitions\n",
      "김용순 10 transitions\n",
      "태종수 8 transitions\n",
      "홍성남 19 transitions\n",
      "연형묵 11 transitions\n",
      "김시학 7 transitions\n",
      "김격식 6 transitions\n",
      "강련학 0 transitions\n",
      "김동운 3 transitions\n",
      "전영진 12 transitions\n",
      "박남기 7 transitions\n",
      "최인덕 2 transitions\n",
      "강영호 4 transitions\n",
      "김계관 7 transitions\n",
      "방철갑 3 transitions\n",
      "장성우 6 transitions\n",
      "리제강 4 transitions\n",
      "강관주 9 transitions\n",
      "박의춘 23 transitions\n",
      "이철리 8 transitions\n",
      "백남순 3 transitions\n",
      "안극태 4 transitions\n",
      "조명록 3 transitions\n",
      "리근 14 transitions\n",
      "박창련 5 transitions\n",
      "려춘석 6 transitions\n",
      "김경희 6 transitions\n",
      "김창식 7 transitions\n",
      "김완수a 11 transitions\n",
      "박명철a 7 transitions\n",
      "허혁필 2 transitions\n",
      "김윤혁a 7 transitions\n",
      "궁석웅 3 transitions\n",
      "림동옥 2 transitions\n",
      "라동희 4 transitions\n",
      "윤기정 1 transitions\n",
      "홍일천 0 transitions\n",
      "리수용 16 transitions\n",
      "강석주 6 transitions\n",
      "정하철 4 transitions\n",
      "전일춘 8 transitions\n",
      "장웅 4 transitions\n",
      "박경선 3 transitions\n",
      "전재선 3 transitions\n",
      "장성길 6 transitions\n",
      "김평일 8 transitions\n",
      "김양점 3 transitions\n",
      "김히택 4 transitions\n",
      "최룡수 2 transitions\n",
      "장성택 8 transitions\n",
      "지재룡 3 transitions\n",
      "안경호 5 transitions\n",
      "권혁봉 3 transitions\n",
      "김창규 4 transitions\n",
      "배달준 6 transitions\n",
      "차승수 1 transitions\n",
      "리자방 3 transitions\n",
      "최영건 3 transitions\n",
      "정창렬 2 transitions\n",
      "김태종 5 transitions\n",
      "홍석형 4 transitions\n",
      "림경만 4 transitions\n",
      "오금철 6 transitions\n",
      "한봉춘 11 transitions\n",
      "김승현 4 transitions\n",
      "박재경 7 transitions\n",
      "김정임 2 transitions\n",
      "고종덕 1 transitions\n",
      "리용호 9 transitions\n",
      "김기선 3 transitions\n",
      "최기룡 13 transitions\n",
      "최광래 6 transitions\n",
      "리영수 8 transitions\n",
      "윤정린 2 transitions\n",
      "박송봉 1 transitions\n",
      "리태남 9 transitions\n",
      "박명선 7 transitions\n",
      "김양건 8 transitions\n",
      "리용철a 2 transitions\n",
      "신일남 5 transitions\n",
      "박기서 1 transitions\n",
      "주영식 3 transitions\n",
      "구본태 4 transitions\n",
      "권중영 3 transitions\n",
      "리동호 5 transitions\n",
      "김용삼 2 transitions\n",
      "김기룡 4 transitions\n",
      "한동근 1 transitions\n",
      "최성익 3 transitions\n",
      "박명국 5 transitions\n",
      "김영철a 9 transitions\n",
      "유영선 3 transitions\n",
      "허종 10 transitions\n",
      "김평해 10 transitions\n",
      "송일호 1 transitions\n",
      "정운업 5 transitions\n",
      "로배권 7 transitions\n",
      "김영숙 3 transitions\n",
      "황봉영 0 transitions\n",
      "최창식 3 transitions\n",
      "김창수 3 transitions\n",
      "한광복 7 transitions\n",
      "조혜숙 0 transitions\n",
      "김완수b 4 transitions\n",
      "원응희 3 transitions\n",
      "곽범기 11 transitions\n",
      "려원구 0 transitions\n",
      "김정호 2 transitions\n",
      "김윤심 1 transitions\n",
      "강양모 2 transitions\n",
      "김형룡 1 transitions\n",
      "한성렬 10 transitions\n",
      "리재일 3 transitions\n",
      "박승원 1 transitions\n",
      "박동춘 7 transitions\n",
      "림상종 2 transitions\n",
      "최룡해 9 transitions\n",
      "김정각 6 transitions\n",
      "홍인범 2 transitions\n",
      "김령성 4 transitions\n",
      "량만길 2 transitions\n",
      "박봉주 8 transitions\n",
      "최희정 4 transitions\n",
      "리명수 7 transitions\n",
      "김명국 4 transitions\n",
      "김영일b 6 transitions\n",
      "리찬복 0 transitions\n",
      "박림수 1 transitions\n",
      "이공필 1 transitions\n",
      "김봉철 8 transitions\n",
      "리룡남 10 transitions\n",
      "백계룡 4 transitions\n",
      "전진수 0 transitions\n",
      "정호균 0 transitions\n",
      "로두철 13 transitions\n",
      "김광린 1 transitions\n",
      "박수길 4 transitions\n",
      "김정기 4 transitions\n",
      "리광근 7 transitions\n",
      "김수열 0 transitions\n",
      "문재덕 1 transitions\n",
      "신선호 3 transitions\n",
      "김명길a 3 transitions\n",
      "리태철 2 transitions\n",
      "강창욱 1 transitions\n",
      "문응조 6 transitions\n",
      "이광호 2 transitions\n",
      "최춘황 2 transitions\n",
      "리봉죽 0 transitions\n",
      "백용호 4 transitions\n",
      "림경숙 2 transitions\n",
      "최종건 4 transitions\n",
      "계영삼 6 transitions\n",
      "오익제 0 transitions\n",
      "김희영 2 transitions\n",
      "이금범 2 transitions\n",
      "정영수 4 transitions\n",
      "전승훈 5 transitions\n",
      "리주오 8 transitions\n",
      "김현주 0 transitions\n",
      "리용선 2 transitions\n",
      "오수용 13 transitions\n",
      "김수학 1 transitions\n",
      "림남수 3 transitions\n",
      "장우영 4 transitions\n",
      "심철호 2 transitions\n",
      "장철 4 transitions\n",
      "최배진 1 transitions\n",
      "김용술 2 transitions\n",
      "권춘학 0 transitions\n",
      "원도희 0 transitions\n",
      "강능수 7 transitions\n",
      "김종태 1 transitions\n",
      "박송남 2 transitions\n",
      "김경호b 1 transitions\n",
      "김상익 1 transitions\n",
      "권호웅 4 transitions\n",
      "김병팔 0 transitions\n",
      "김형준 17 transitions\n",
      "자성남 9 transitions\n",
      "주동일 1 transitions\n",
      "강민철 2 transitions\n",
      "주규창 1 transitions\n",
      "석군수 1 transitions\n",
      "김영재 11 transitions\n",
      "조현주 0 transitions\n",
      "류영섭 3 transitions\n",
      "박남칠 1 transitions\n",
      "박용일 1 transitions\n",
      "박경삼 1 transitions\n",
      "김영호 6 transitions\n",
      "오응창 1 transitions\n",
      "박호영 1 transitions\n",
      "최남균 1 transitions\n",
      "전길수 7 transitions\n",
      "한흥표 2 transitions\n",
      "리용철b 0 transitions\n",
      "김춘근 1 transitions\n",
      "전종수 2 transitions\n",
      "리경식 3 transitions\n",
      "박정성 0 transitions\n",
      "백룡천 2 transitions\n",
      "차선모 2 transitions\n",
      "김응관 4 transitions\n",
      "박태원 3 transitions\n",
      "김용진 5 transitions\n",
      "동정호 4 transitions\n",
      "리무영 8 transitions\n",
      "류현식 1 transitions\n",
      "신병철 0 transitions\n",
      "최승철 0 transitions\n",
      "백현봉 0 transitions\n",
      "김성기 2 transitions\n",
      "리명산 2 transitions\n",
      "김형식a 2 transitions\n",
      "리철만 7 transitions\n",
      "정덕기 0 transitions\n",
      "리상관 1 transitions\n",
      "황병서 2 transitions\n",
      "박도춘 2 transitions\n",
      "김진성 0 transitions\n",
      "홍창일 0 transitions\n",
      "조정호 0 transitions\n",
      "박학선 2 transitions\n",
      "주동찬 1 transitions\n",
      "강종관 2 transitions\n",
      "오광철 0 transitions\n",
      "송석환 0 transitions\n",
      "김철 0 transitions\n",
      "박태덕 6 transitions\n",
      "박용팔 0 transitions\n",
      "김광영 2 transitions\n",
      "정명도 0 transitions\n",
      "리병철 6 transitions\n",
      "김경옥 2 transitions\n",
      "황학원 1 transitions\n",
      "리광곤 1 transitions\n",
      "김태봉 1 transitions\n",
      "허택 2 transitions\n",
      "최광진 2 transitions\n",
      "조병주 2 transitions\n",
      "김창섭 0 transitions\n",
      "우동측 0 transitions\n",
      "정연과 0 transitions\n",
      "리병삼 0 transitions\n",
      "강지영 1 transitions\n",
      "정명학 1 transitions\n",
      "김성남 1 transitions\n",
      "한광상 6 transitions\n",
      "안동춘 1 transitions\n",
      "리성호 2 transitions\n",
      "안정수 4 transitions\n",
      "조영철 3 transitions\n",
      "정태양 3 transitions\n",
      "성자립 1 transitions\n",
      "오일정 3 transitions\n",
      "문경덕 3 transitions\n",
      "변인선 4 transitions\n",
      "리만건 8 transitions\n",
      "전창복 3 transitions\n",
      "김석준 0 transitions\n",
      "문재철 0 transitions\n",
      "김원홍 3 transitions\n",
      "김정은 4 transitions\n",
      "김덕훈 7 transitions\n",
      "조연준 2 transitions\n",
      "김승두 5 transitions\n",
      "리승호 1 transitions\n",
      "김만수 3 transitions\n",
      "현영철 2 transitions\n",
      "태형철 0 transitions\n",
      "최부일 3 transitions\n",
      "문명학 1 transitions\n",
      "리성국a 1 transitions\n",
      "박정남 2 transitions\n",
      "김수길 4 transitions\n",
      "리태일 1 transitions\n",
      "장영록 0 transitions\n",
      "리상원 3 transitions\n",
      "박훈 2 transitions\n",
      "서종진 0 transitions\n",
      "최일룡 1 transitions\n",
      "리성학 1 transitions\n",
      "장경일 0 transitions\n",
      "김병호 1 transitions\n",
      "리광호 2 transitions\n",
      "리혜정 0 transitions\n",
      "류영선 3 transitions\n",
      "최상건 4 transitions\n",
      "여원구 0 transitions\n",
      "권성호 2 transitions\n",
      "정경택 1 transitions\n",
      "김일 11 transitions\n",
      "홍광순 1 transitions\n",
      "김철수 2 transitions\n",
      "리춘삼 3 transitions\n",
      "최휘 7 transitions\n",
      "로성실 0 transitions\n",
      "리명길 0 transitions\n",
      "전용남 0 transitions\n",
      "차희림 1 transitions\n",
      "현상주 0 transitions\n",
      "리종무 2 transitions\n",
      "김혁철 1 transitions\n",
      "리영길 9 transitions\n",
      "마원춘 1 transitions\n",
      "김창선 2 transitions\n",
      "김경준 1 transitions\n",
      "김정관 2 transitions\n",
      "위성일 2 transitions\n",
      "리두성 2 transitions\n",
      "조남진 0 transitions\n",
      "김명식 4 transitions\n",
      "노광철 2 transitions\n",
      "림광일 3 transitions\n",
      "곽창식 0 transitions\n",
      "윤영식 0 transitions\n",
      "한효연 0 transitions\n",
      "김충걸 1 transitions\n",
      "김용광 0 transitions\n",
      "리종국 0 transitions\n",
      "김정남 0 transitions\n",
      "리국철 0 transitions\n",
      "신영철 4 transitions\n",
      "김철삼 2 transitions\n",
      "리재남 1 transitions\n",
      "김성룡 0 transitions\n",
      "전광호 2 transitions\n",
      "임철웅 4 transitions\n",
      "양승호 0 transitions\n",
      "김일철b 0 transitions\n",
      "고인호 6 transitions\n",
      "전현철 0 transitions\n",
      "주철규 0 transitions\n",
      "김금철b 0 transitions\n",
      "손영훈 0 transitions\n",
      "황민 3 transitions\n",
      "허철만 1 transitions\n",
      "박명순 2 transitions\n",
      "최동명 0 transitions\n",
      "홍영칠 0 transitions\n",
      "홍승무 0 transitions\n",
      "리일환 5 transitions\n",
      "현송월 0 transitions\n",
      "강순남 0 transitions\n",
      "김성규 1 transitions\n",
      "김용수 4 transitions\n",
      "김재룡 4 transitions\n",
      "김여정 2 transitions\n",
      "정상학 0 transitions\n",
      "조용원 1 transitions\n",
      "박태성 2 transitions\n",
      "박광호 2 transitions\n",
      "리호림 0 transitions\n",
      "김조국 0 transitions\n",
      "박정천 4 transitions\n",
      "리득남 1 transitions\n",
      "강봉훈 2 transitions\n",
      "김능오 4 transitions\n",
      "김세복 0 transitions\n",
      "김만성 2 transitions\n",
      "장금철 0 transitions\n",
      "김중협 0 transitions\n",
      "리택건 1 transitions\n",
      "원동연 1 transitions\n",
      "김성혜 2 transitions\n",
      "리현 1 transitions\n",
      "윤정호 0 transitions\n",
      "임경재 0 transitions\n",
      "강영수 3 transitions\n",
      "박춘남 4 transitions\n",
      "승정규 0 transitions\n",
      "최상려 0 transitions\n",
      "방강수 0 transitions\n",
      "박명철b 0 transitions\n",
      "조경철 0 transitions\n",
      "박혁철 0 transitions\n",
      "김경남 0 transitions\n",
      "전학철 0 transitions\n",
      "강형봉 1 transitions\n",
      "리영용 1 transitions\n",
      "송춘섭 1 transitions\n",
      "강영철 2 transitions\n",
      "김영환 2 transitions\n",
      "최강일 0 transitions\n",
      "리선권 0 transitions\n",
      "리길성 1 transitions\n",
      "최선희 4 transitions\n",
      "김성 1 transitions\n",
      "왕창욱 0 transitions\n",
      "리제선 0 transitions\n",
      "강표영 2 transitions\n",
      "장정남 1 transitions\n",
      "서홍찬 2 transitions\n",
      "박영식 1 transitions\n",
      "리강선 0 transitions\n"
     ]
    },
    {
     "name": "stdout",
     "output_type": "stream",
     "text": [
      "한룡국 0 transitions\n",
      "김춘섭 0 transitions\n",
      "리형근 0 transitions\n",
      "김충성 0 transitions\n",
      "기광호 2 transitions\n",
      "고정범 0 transitions\n",
      "김유일 0 transitions\n",
      "김재성 2 transitions\n",
      "손철주 1 transitions\n",
      "김용연 1 transitions\n",
      "오춘복 0 transitions\n",
      "김천균 1 transitions\n",
      "채성학 0 transitions\n",
      "리학철 1 transitions\n",
      "장혁 1 transitions\n",
      "장춘성 0 transitions\n",
      "김윤혁b 0 transitions\n",
      "주용일 0 transitions\n",
      "김영훈b 0 transitions\n",
      "김일국 2 transitions\n",
      "원길우 1 transitions\n",
      "손광호 0 transitions\n",
      "렴철성 0 transitions\n",
      "박수일 2 transitions\n",
      "장윤곤 0 transitions\n",
      "김두일 1 transitions\n",
      "안금철 0 transitions\n",
      "주영길 0 transitions\n",
      "리정남 1 transitions\n",
      "김성일 0 transitions\n",
      "리히용 0 transitions\n",
      "박만호 0 transitions\n",
      "오경석 0 transitions\n",
      "김충일 0 transitions\n",
      "김광혁 0 transitions\n",
      "최영호a 0 transitions\n",
      "리용주 0 transitions\n",
      "김철규 0 transitions\n",
      "장길룡 1 transitions\n",
      "마종선 0 transitions\n",
      "박영호 0 transitions\n",
      "최정룡 0 transitions\n",
      "박창호 1 transitions\n",
      "량정훈 0 transitions\n"
     ]
    }
   ],
   "source": [
    "transitions = compile_leader_transitions(ljob)"
   ]
  },
  {
   "cell_type": "markdown",
   "id": "814a9c3d",
   "metadata": {},
   "source": [
    "#### add OrgAdvance, PositionAdvance variables"
   ]
  },
  {
   "cell_type": "code",
   "execution_count": 75,
   "id": "8c2c7d58",
   "metadata": {},
   "outputs": [],
   "source": [
    "transitions[\"OrgAdvance\"] = transitions.apply(lambda x: int(x[\"OrgRank_1\"]) - int(x[\"OrgRank_2\"]),axis=1)"
   ]
  },
  {
   "cell_type": "code",
   "execution_count": 76,
   "id": "56aee98a",
   "metadata": {},
   "outputs": [],
   "source": [
    "transitions[\"PositionAdvance\"] = transitions.apply(lambda x: int(x[\"PositionRank_1\"]) - int(x[\"PositionRank_2\"]),axis=1)"
   ]
  },
  {
   "cell_type": "markdown",
   "id": "99676d51",
   "metadata": {},
   "source": [
    "#### descriptive statistics"
   ]
  },
  {
   "cell_type": "code",
   "execution_count": 77,
   "id": "ac217a7d",
   "metadata": {},
   "outputs": [
    {
     "data": {
      "text/plain": [
       "381"
      ]
     },
     "execution_count": 77,
     "metadata": {},
     "output_type": "execute_result"
    }
   ],
   "source": [
    "# leaders with 1 or more job transition\n",
    "len(transitions.LeaderID.unique())"
   ]
  },
  {
   "cell_type": "code",
   "execution_count": 78,
   "id": "8d11321f",
   "metadata": {},
   "outputs": [
    {
     "data": {
      "text/plain": [
       "124"
      ]
     },
     "execution_count": 78,
     "metadata": {},
     "output_type": "execute_result"
    }
   ],
   "source": [
    "# leaders with only 1 job; excluded from analysis\n",
    "len(ljob.LeaderID.unique())-len(transitions.LeaderID.unique())"
   ]
  },
  {
   "cell_type": "code",
   "execution_count": 79,
   "id": "fa0a6c6b",
   "metadata": {},
   "outputs": [
    {
     "data": {
      "text/plain": [
       "(1813, 28)"
      ]
     },
     "execution_count": 79,
     "metadata": {},
     "output_type": "execute_result"
    }
   ],
   "source": [
    "# number of transitions\n",
    "transitions.shape"
   ]
  },
  {
   "cell_type": "code",
   "execution_count": 80,
   "id": "58540c09",
   "metadata": {},
   "outputs": [],
   "source": [
    "transition_counts = transitions.groupby(\"LeaderID\")[\"Position_1\"].count()"
   ]
  },
  {
   "cell_type": "code",
   "execution_count": 81,
   "id": "397e9988",
   "metadata": {},
   "outputs": [
    {
     "data": {
      "text/plain": [
       "1"
      ]
     },
     "execution_count": 81,
     "metadata": {},
     "output_type": "execute_result"
    }
   ],
   "source": [
    "min(transition_counts)"
   ]
  },
  {
   "cell_type": "code",
   "execution_count": 82,
   "id": "85dae03f",
   "metadata": {},
   "outputs": [
    {
     "data": {
      "text/plain": [
       "36"
      ]
     },
     "execution_count": 82,
     "metadata": {},
     "output_type": "execute_result"
    }
   ],
   "source": [
    "max(transition_counts)"
   ]
  },
  {
   "cell_type": "code",
   "execution_count": 83,
   "id": "4b907fea",
   "metadata": {},
   "outputs": [
    {
     "data": {
      "text/plain": [
       "4.758530183727034"
      ]
     },
     "execution_count": 83,
     "metadata": {},
     "output_type": "execute_result"
    }
   ],
   "source": [
    "mean(transition_counts)"
   ]
  },
  {
   "cell_type": "code",
   "execution_count": 84,
   "id": "20ac4048",
   "metadata": {},
   "outputs": [
    {
     "data": {
      "text/plain": [
       "1"
      ]
     },
     "execution_count": 84,
     "metadata": {},
     "output_type": "execute_result"
    }
   ],
   "source": [
    "mode(transition_counts)"
   ]
  },
  {
   "cell_type": "markdown",
   "id": "c0bbe9f4",
   "metadata": {},
   "source": [
    "#### frequency of leaders by # of job transitions"
   ]
  },
  {
   "cell_type": "code",
   "execution_count": 85,
   "id": "5d794552",
   "metadata": {},
   "outputs": [],
   "source": [
    "x_axis = []\n",
    "transition_count_distribution = []\n",
    "for i in range(0,max(transition_counts)+1):\n",
    "    pdf = sum([1 for count in transition_counts if count ==i])\n",
    "    # print(i,pdf)\n",
    "    x_axis.append(i) \n",
    "    transition_count_distribution.append(pdf)"
   ]
  },
  {
   "cell_type": "code",
   "execution_count": 86,
   "id": "c2bc65fd",
   "metadata": {},
   "outputs": [],
   "source": [
    "transition_count_freq = pd.DataFrame({\"Count\":x_axis,\"Frequency\":transition_count_distribution})"
   ]
  },
  {
   "cell_type": "code",
   "execution_count": 87,
   "id": "b930725e",
   "metadata": {},
   "outputs": [],
   "source": [
    "# filename_transition_count_freq_alljobs = \"transition_count_freq_alljobs.xlsx\"\n",
    "filename_transition_count_freq_ingov = \"transition_count_freq_ingov.xlsx\"\n",
    "\n",
    "transition_count_freq.to_excel(path_analysis + current_subpath + filename_transition_count_freq_ingov,index=False)"
   ]
  },
  {
   "cell_type": "code",
   "execution_count": null,
   "id": "101275ef",
   "metadata": {},
   "outputs": [],
   "source": []
  },
  {
   "cell_type": "markdown",
   "id": "29d3f7ab",
   "metadata": {},
   "source": [
    "# Export Query"
   ]
  },
  {
   "cell_type": "markdown",
   "id": "ea162613",
   "metadata": {},
   "source": [
    "#### format transitions query for export"
   ]
  },
  {
   "cell_type": "code",
   "execution_count": 88,
   "id": "988fe379",
   "metadata": {},
   "outputs": [
    {
     "data": {
      "text/plain": [
       "Index(['LeaderID', 'CareerString_1', 'CareerDateString_2022_1',\n",
       "       'CareerStartYear_1', 'CareerStartMonth_1', 'CareerStartDate_1',\n",
       "       'CareerSubstring_1', 'InstitutionType_1', 'PrimaryInstitution_1',\n",
       "       'OrgName_1', 'Position_1', 'OrgRank_1', 'PositionRank_1',\n",
       "       'CareerString_2', 'CareerDateString_2022_2', 'CareerStartYear_2',\n",
       "       'CareerStartMonth_2', 'CareerStartDate_2', 'CareerSubstring_2',\n",
       "       'InstitutionType_2', 'PrimaryInstitution_2', 'OrgName_2', 'Position_2',\n",
       "       'OrgRank_2', 'PositionRank_2', 'CareerStartDate_2_min', 'OrgAdvance',\n",
       "       'PositionAdvance'],\n",
       "      dtype='object')"
      ]
     },
     "execution_count": 88,
     "metadata": {},
     "output_type": "execute_result"
    }
   ],
   "source": [
    "transitions.columns"
   ]
  },
  {
   "cell_type": "code",
   "execution_count": 89,
   "id": "23717be7",
   "metadata": {},
   "outputs": [],
   "source": [
    "# omit CareerStartDate_2_min and any other fields we don't need\n",
    "\n",
    "transitions_columns = ['LeaderID', 'CareerString_1', 'CareerDateString_2022_1',\n",
    "       'CareerStartYear_1', 'CareerStartMonth_1', 'CareerStartDate_1',\n",
    "       'CareerSubstring_1', 'InstitutionType_1', 'PrimaryInstitution_1',\n",
    "        'OrgName_1', 'Position_1', 'OrgRank_1', 'PositionRank_1',\n",
    "        'CareerString_2', 'CareerDateString_2022_2', 'CareerStartYear_2',\n",
    "        'CareerStartMonth_2', 'CareerStartDate_2', 'CareerSubstring_2',\n",
    "        'InstitutionType_2', 'PrimaryInstitution_2', 'OrgName_2', 'Position_2',\n",
    "        'OrgRank_2', 'PositionRank_2','OrgAdvance','PositionAdvance']"
   ]
  },
  {
   "cell_type": "code",
   "execution_count": 90,
   "id": "7d53d756",
   "metadata": {},
   "outputs": [],
   "source": [
    "transitions = transitions[transitions_columns]"
   ]
  },
  {
   "cell_type": "markdown",
   "id": "c3373d9e",
   "metadata": {},
   "source": [
    "#### export query"
   ]
  },
  {
   "cell_type": "code",
   "execution_count": 91,
   "id": "2a11f5e1",
   "metadata": {},
   "outputs": [],
   "source": [
    "# refresh leaderjobtransition query\n",
    "transitions.to_excel(path_queries + filename_leaderjobtransition_ingov,index=False)"
   ]
  },
  {
   "cell_type": "code",
   "execution_count": null,
   "id": "adaecdd4",
   "metadata": {},
   "outputs": [],
   "source": []
  }
 ],
 "metadata": {
  "kernelspec": {
   "display_name": "Python 3 (ipykernel)",
   "language": "python",
   "name": "python3"
  },
  "language_info": {
   "codemirror_mode": {
    "name": "ipython",
    "version": 3
   },
   "file_extension": ".py",
   "mimetype": "text/x-python",
   "name": "python",
   "nbconvert_exporter": "python",
   "pygments_lexer": "ipython3",
   "version": "3.11.5"
  }
 },
 "nbformat": 4,
 "nbformat_minor": 5
}
