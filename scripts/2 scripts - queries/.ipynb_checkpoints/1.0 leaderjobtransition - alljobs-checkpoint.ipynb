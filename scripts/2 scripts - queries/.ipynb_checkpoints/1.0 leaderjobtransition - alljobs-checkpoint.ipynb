{
 "cells": [
  {
   "cell_type": "code",
   "execution_count": 1,
   "id": "74698cf3",
   "metadata": {},
   "outputs": [],
   "source": [
    "import pandas as pd\n",
    "import numpy as np\n",
    "from datetime import date\n",
    "from statistics import mean, mode"
   ]
  },
  {
   "cell_type": "markdown",
   "id": "aaf25c71",
   "metadata": {},
   "source": [
    "# Tables"
   ]
  },
  {
   "cell_type": "code",
   "execution_count": 2,
   "id": "f2c9c339",
   "metadata": {},
   "outputs": [],
   "source": [
    "path_tables = \"C:/Users/seoul/Dropbox/00 technical/github/nkelites/data/combined data/combined data - 2 tables/\""
   ]
  },
  {
   "cell_type": "code",
   "execution_count": 3,
   "id": "200fa7f5",
   "metadata": {},
   "outputs": [],
   "source": [
    "# tables\n",
    "filename_careerorglink = \"careerorglink.xlsx\"\n",
    "filename_leadercareerlink = \"leadercareerlink.xlsx\"\n",
    "filename_orgtree = \"orgtree.xlsx\"\n",
    "filename_elected = \"positions_elected.xlsx\""
   ]
  },
  {
   "cell_type": "code",
   "execution_count": 4,
   "id": "b7d9b165",
   "metadata": {
    "scrolled": true
   },
   "outputs": [
    {
     "data": {
      "text/plain": [
       "(9002, 12)"
      ]
     },
     "execution_count": 4,
     "metadata": {},
     "output_type": "execute_result"
    }
   ],
   "source": [
    "col = pd.read_excel(path_tables + filename_careerorglink,dtype=\"str\")\n",
    "col.shape"
   ]
  },
  {
   "cell_type": "code",
   "execution_count": 5,
   "id": "0bd17a8f",
   "metadata": {},
   "outputs": [
    {
     "data": {
      "text/plain": [
       "Index(['CareerString', 'CareerDateString_2022', 'IsJob', 'MultipleSubstrings',\n",
       "       'CareerStartYear', 'CareerStartMonth', 'CareerSubstring',\n",
       "       'InstitutionType', 'PrimaryInstitution', 'OrgName', 'Position',\n",
       "       'Notes'],\n",
       "      dtype='object')"
      ]
     },
     "execution_count": 5,
     "metadata": {},
     "output_type": "execute_result"
    }
   ],
   "source": [
    "col.columns"
   ]
  },
  {
   "cell_type": "code",
   "execution_count": 6,
   "id": "4aa22e14",
   "metadata": {},
   "outputs": [
    {
     "data": {
      "text/plain": [
       "(12617, 3)"
      ]
     },
     "execution_count": 6,
     "metadata": {},
     "output_type": "execute_result"
    }
   ],
   "source": [
    "lcl = pd.read_excel(path_tables + filename_leadercareerlink,dtype=\"str\")\n",
    "lcl.shape"
   ]
  },
  {
   "cell_type": "code",
   "execution_count": 7,
   "id": "ac0f5205",
   "metadata": {},
   "outputs": [
    {
     "data": {
      "text/plain": [
       "Index(['LeaderID', 'CareerString', 'CareerDateString_2022'], dtype='object')"
      ]
     },
     "execution_count": 7,
     "metadata": {},
     "output_type": "execute_result"
    }
   ],
   "source": [
    "lcl.columns"
   ]
  },
  {
   "cell_type": "code",
   "execution_count": 8,
   "id": "44ba37bd",
   "metadata": {},
   "outputs": [
    {
     "data": {
      "text/plain": [
       "(2368, 19)"
      ]
     },
     "execution_count": 8,
     "metadata": {},
     "output_type": "execute_result"
    }
   ],
   "source": [
    "org = pd.read_excel(path_tables + filename_orgtree,dtype=\"str\")\n",
    "org.shape"
   ]
  },
  {
   "cell_type": "code",
   "execution_count": 9,
   "id": "05b6e3e8",
   "metadata": {},
   "outputs": [
    {
     "data": {
      "text/plain": [
       "Index(['InstitutionType', 'OrgType', 'PrimaryInstitution', 'OrgName',\n",
       "       'PI_Index', 'OrgRank', 'P1', 'P2', 'P3', 'Alias_OrgName',\n",
       "       'LinkToNext_PI', 'LinkToNext_Org', 'LinkToNext_Year', 'Notes',\n",
       "       'L1_Index', 'L2_Index', 'L3_Index', 'L4_Index', 'L5_Index'],\n",
       "      dtype='object')"
      ]
     },
     "execution_count": 9,
     "metadata": {},
     "output_type": "execute_result"
    }
   ],
   "source": [
    "org.columns"
   ]
  },
  {
   "cell_type": "code",
   "execution_count": 10,
   "id": "b93b05ba",
   "metadata": {},
   "outputs": [
    {
     "data": {
      "text/plain": [
       "(105, 4)"
      ]
     },
     "execution_count": 10,
     "metadata": {},
     "output_type": "execute_result"
    }
   ],
   "source": [
    "elected = pd.read_excel(path_tables + filename_elected,dtype=\"str\")\n",
    "elected.shape"
   ]
  },
  {
   "cell_type": "code",
   "execution_count": 11,
   "id": "011dfaa4",
   "metadata": {},
   "outputs": [
    {
     "data": {
      "text/plain": [
       "Index(['PrimaryInstitution', 'OrgName', 'Position', 'IsElected'], dtype='object')"
      ]
     },
     "execution_count": 11,
     "metadata": {},
     "output_type": "execute_result"
    }
   ],
   "source": [
    "elected.columns"
   ]
  },
  {
   "cell_type": "markdown",
   "id": "52841326",
   "metadata": {},
   "source": [
    "# Queries"
   ]
  },
  {
   "cell_type": "code",
   "execution_count": 12,
   "id": "df5b44ce",
   "metadata": {},
   "outputs": [],
   "source": [
    "path_queries = \"C:/Users/seoul/Dropbox/00 technical/github/nkelites/data/combined data/combined data - 3 queries/\""
   ]
  },
  {
   "cell_type": "code",
   "execution_count": 13,
   "id": "4fa255b3",
   "metadata": {},
   "outputs": [],
   "source": [
    "filename_leaderjobtransition_alljobs = \"leaderjobtransition_alljobs.xlsx\"\n",
    "# filename_leaderjobtransition_ingov = \"leaderjobtransition_ingov.xlsx\""
   ]
  },
  {
   "cell_type": "code",
   "execution_count": 14,
   "id": "31cb5cd4",
   "metadata": {},
   "outputs": [],
   "source": [
    "# trans = pd.read_excel(path_queries + filename_leaderjobtransition,dtype=\"str\")"
   ]
  },
  {
   "cell_type": "code",
   "execution_count": 15,
   "id": "75aa1647",
   "metadata": {},
   "outputs": [
    {
     "name": "stdout",
     "output_type": "stream",
     "text": [
      "2023-09-01\n"
     ]
    }
   ],
   "source": [
    "today = date.today()\n",
    "print(today)"
   ]
  },
  {
   "cell_type": "markdown",
   "id": "16c49e74",
   "metadata": {},
   "source": [
    "# Analysis"
   ]
  },
  {
   "cell_type": "code",
   "execution_count": 16,
   "id": "39648498",
   "metadata": {},
   "outputs": [],
   "source": [
    "path_analysis = \"C:/Users/seoul/Dropbox/00 technical/github/nkelites/analysis/\""
   ]
  },
  {
   "cell_type": "code",
   "execution_count": 17,
   "id": "07394fd1",
   "metadata": {},
   "outputs": [],
   "source": [
    "# subpaths\n",
    "current_subpath = \"2023.09.01 analysis/\""
   ]
  },
  {
   "cell_type": "markdown",
   "id": "7d59db9d",
   "metadata": {},
   "source": [
    "# Functions"
   ]
  },
  {
   "cell_type": "code",
   "execution_count": 18,
   "id": "ba5de424",
   "metadata": {},
   "outputs": [],
   "source": [
    "def merge_results(m):\n",
    "    \n",
    "    print(\"\\nMerge Results...\")\n",
    "    print(\"\")\n",
    "    print(\"\\tshape     :\",m.shape)\n",
    "    print(\"\\tleft_only :\",m[m[\"_merge\"]==\"left_only\"].shape)\n",
    "    print(\"\\tboth      :\",m[m[\"_merge\"]==\"both\"].shape)\n",
    "    print(\"\\tright_only:\",m[m[\"_merge\"]==\"right_only\"].shape)"
   ]
  },
  {
   "cell_type": "code",
   "execution_count": 19,
   "id": "d3411709",
   "metadata": {},
   "outputs": [],
   "source": [
    "# using this on (PI,OrgName) will ensure unique & non-null keys\n",
    "# using this on a larger df will ensure unique rows and non-null keys, but not unique keys\n",
    "\n",
    "def unique_non_null_rows(olddf):\n",
    "    \n",
    "    df = olddf.copy()\n",
    "    \n",
    "    \n",
    "    ### drop duplicates\n",
    "    df = df.drop_duplicates(keep=\"first\",ignore_index=True)\n",
    "\n",
    "    ### drop null rows\n",
    "    df.dropna(how=\"all\",axis=0,inplace=True)\n",
    "    \n",
    "    # drop rows with null PI\n",
    "    df = df[~(df[\"PrimaryInstitution\"].isna())]\n",
    "        \n",
    "    ### drop rows where PI contains stop words\n",
    "    stop_words_lower = [\"uncertain\",\"current\",\"deprecated\",\"please_revise\"]\n",
    "    df = df[ ~ df[\"PrimaryInstitution\"].str.lower().isin(stop_words_lower)]\n",
    "            \n",
    "\n",
    "    print(\"\\nUnique Non-null Rows...\")\n",
    "    print(\"\")\n",
    "    print(\"\\tNon-unique rows:\",olddf.shape)\n",
    "    print(\"\\tUnique rows    :\",df.shape)\n",
    "\n",
    "    ### sort\n",
    "    df = df.sort_values([\"PrimaryInstitution\",\"OrgName\"])\n",
    "    \n",
    "    return df"
   ]
  },
  {
   "cell_type": "markdown",
   "id": "45de6b4f",
   "metadata": {},
   "source": [
    "# Step. Format Jobs"
   ]
  },
  {
   "cell_type": "markdown",
   "id": "c2c8e977",
   "metadata": {},
   "source": [
    "#### merge col with elected - to identify elected positions"
   ]
  },
  {
   "cell_type": "code",
   "execution_count": 20,
   "id": "9f5cf4e9",
   "metadata": {},
   "outputs": [],
   "source": [
    "position_key_columns = ['PrimaryInstitution', 'OrgName', 'Position']\n",
    "elected_columns = position_key_columns + [\"IsElected\"]"
   ]
  },
  {
   "cell_type": "code",
   "execution_count": 21,
   "id": "9aad2e15",
   "metadata": {},
   "outputs": [
    {
     "name": "stdout",
     "output_type": "stream",
     "text": [
      "\n",
      "Merge Results...\n",
      "\n",
      "\tshape     : (9033, 14)\n",
      "\tleft_only : (7261, 14)\n",
      "\tboth      : (1741, 14)\n",
      "\tright_only: (31, 14)\n"
     ]
    }
   ],
   "source": [
    "col2 = col.merge(elected[elected_columns],on=position_key_columns,how=\"outer\",indicator=True)\n",
    "merge_results(col2)"
   ]
  },
  {
   "cell_type": "code",
   "execution_count": 22,
   "id": "f073a0cb",
   "metadata": {},
   "outputs": [],
   "source": [
    "# address this later... whether\n",
    "# col2[col2[\"_merge\"]==\"right_only\"][position_key_columns]"
   ]
  },
  {
   "cell_type": "code",
   "execution_count": 23,
   "id": "bde6d489",
   "metadata": {},
   "outputs": [
    {
     "data": {
      "text/plain": [
       "Index(['CareerString', 'CareerDateString_2022', 'IsJob', 'MultipleSubstrings',\n",
       "       'CareerStartYear', 'CareerStartMonth', 'CareerSubstring',\n",
       "       'InstitutionType', 'PrimaryInstitution', 'OrgName', 'Position', 'Notes',\n",
       "       'IsElected', '_merge'],\n",
       "      dtype='object')"
      ]
     },
     "execution_count": 23,
     "metadata": {},
     "output_type": "execute_result"
    }
   ],
   "source": [
    "col2.columns"
   ]
  },
  {
   "cell_type": "code",
   "execution_count": 24,
   "id": "4032defd",
   "metadata": {},
   "outputs": [],
   "source": [
    "# update col with elected positions\n",
    "col = col2.drop(columns=[\"_merge\"])"
   ]
  },
  {
   "cell_type": "code",
   "execution_count": 25,
   "id": "23e16118",
   "metadata": {},
   "outputs": [
    {
     "data": {
      "text/plain": [
       "array([nan, '1'], dtype=object)"
      ]
     },
     "execution_count": 25,
     "metadata": {},
     "output_type": "execute_result"
    }
   ],
   "source": [
    "col.IsElected.unique()"
   ]
  },
  {
   "cell_type": "markdown",
   "id": "3099ce7b",
   "metadata": {},
   "source": [
    "#### select jobs that satisfy criterion for transitions "
   ]
  },
  {
   "cell_type": "code",
   "execution_count": 26,
   "id": "a1883f46",
   "metadata": {},
   "outputs": [],
   "source": [
    "# IsJob = True\n",
    "# CareerStartYear can't be null\n",
    "# IsElected = False\n",
    "# PI, OrgName, Position can't be UNCERTAIN\n",
    "\n",
    "select_jobs1 = (col[\"CareerStartYear\"].notna()) & (col[\"IsElected\"].isnull()) & (col[\"PrimaryInstitution\"]!=\"UNCERTAIN\") & (col[\"OrgName\"]!=\"UNCERTAIN\") & (col[\"Position\"]!=\"UNCERTAIN\")\n",
    "select_jobs2 = select_jobs1 & (col[\"IsJob\"]==\"True\")\n",
    "job_columns = ['CareerString', 'CareerDateString_2022', 'CareerStartYear', 'CareerStartMonth', 'CareerSubstring',\n",
    "       'InstitutionType', 'PrimaryInstitution', 'OrgName', 'Position']"
   ]
  },
  {
   "cell_type": "code",
   "execution_count": 27,
   "id": "9feb28d6",
   "metadata": {},
   "outputs": [
    {
     "data": {
      "text/plain": [
       "(4387, 9)"
      ]
     },
     "execution_count": 27,
     "metadata": {},
     "output_type": "execute_result"
    }
   ],
   "source": [
    "jobs = col.loc[select_jobs2,job_columns]\n",
    "jobs.shape"
   ]
  },
  {
   "cell_type": "markdown",
   "id": "a4ba6e59",
   "metadata": {},
   "source": [
    "#### descriptive statistics"
   ]
  },
  {
   "cell_type": "code",
   "execution_count": 28,
   "id": "1b25393c",
   "metadata": {},
   "outputs": [
    {
     "data": {
      "text/plain": [
       "(2271, 13)"
      ]
     },
     "execution_count": 28,
     "metadata": {},
     "output_type": "execute_result"
    }
   ],
   "source": [
    "# not jobs, excluded\n",
    "col[col[\"IsJob\"]==\"False\"].shape"
   ]
  },
  {
   "cell_type": "code",
   "execution_count": 29,
   "id": "c7e6bf87",
   "metadata": {},
   "outputs": [
    {
     "data": {
      "text/plain": [
       "(2344, 13)"
      ]
     },
     "execution_count": 29,
     "metadata": {},
     "output_type": "execute_result"
    }
   ],
   "source": [
    "# jobs, excluded, either because elected or because CareerStartYear is unknown\n",
    "selection = (col[\"IsJob\"]==\"True\") & ~select_jobs1\n",
    "col[selection].shape"
   ]
  },
  {
   "cell_type": "code",
   "execution_count": 30,
   "id": "66ca5f9a",
   "metadata": {},
   "outputs": [
    {
     "data": {
      "text/plain": [
       "(4387, 13)"
      ]
     },
     "execution_count": 30,
     "metadata": {},
     "output_type": "execute_result"
    }
   ],
   "source": [
    "# jobs, included\n",
    "col[select_jobs2].shape"
   ]
  },
  {
   "cell_type": "markdown",
   "id": "486279c1",
   "metadata": {},
   "source": [
    "# Step. add Org and Position metadata from orgtree, such as Rank"
   ]
  },
  {
   "cell_type": "code",
   "execution_count": 31,
   "id": "c231ae92",
   "metadata": {},
   "outputs": [],
   "source": [
    "org_key_columns = ['PrimaryInstitution', 'OrgName']"
   ]
  },
  {
   "cell_type": "code",
   "execution_count": 32,
   "id": "e50b0953",
   "metadata": {},
   "outputs": [],
   "source": [
    "orgtree_columns = org_key_columns + ['OrgRank', 'P1', 'P2', 'P3']"
   ]
  },
  {
   "cell_type": "code",
   "execution_count": 33,
   "id": "9f590ca7",
   "metadata": {},
   "outputs": [
    {
     "name": "stdout",
     "output_type": "stream",
     "text": [
      "\n",
      "Merge Results...\n",
      "\n",
      "\tshape     : (4387, 14)\n",
      "\tleft_only : (0, 14)\n",
      "\tboth      : (4387, 14)\n",
      "\tright_only: (0, 14)\n"
     ]
    }
   ],
   "source": [
    "jobs2 = jobs.merge(org[orgtree_columns],on=org_key_columns,how=\"left\",indicator=True)\n",
    "merge_results(jobs2)"
   ]
  },
  {
   "cell_type": "code",
   "execution_count": 34,
   "id": "faef2a86",
   "metadata": {},
   "outputs": [],
   "source": [
    "# Good! No left_only means we are matching on all PI-OrgName keys\n",
    "# jobs2[jobs2[\"_merge\"]==\"left_only\"]"
   ]
  },
  {
   "cell_type": "code",
   "execution_count": 35,
   "id": "f79eff8a",
   "metadata": {},
   "outputs": [
    {
     "data": {
      "text/html": [
       "<div>\n",
       "<style scoped>\n",
       "    .dataframe tbody tr th:only-of-type {\n",
       "        vertical-align: middle;\n",
       "    }\n",
       "\n",
       "    .dataframe tbody tr th {\n",
       "        vertical-align: top;\n",
       "    }\n",
       "\n",
       "    .dataframe thead th {\n",
       "        text-align: right;\n",
       "    }\n",
       "</style>\n",
       "<table border=\"1\" class=\"dataframe\">\n",
       "  <thead>\n",
       "    <tr style=\"text-align: right;\">\n",
       "      <th></th>\n",
       "      <th>CareerString</th>\n",
       "      <th>CareerDateString_2022</th>\n",
       "      <th>CareerStartYear</th>\n",
       "      <th>CareerStartMonth</th>\n",
       "      <th>CareerSubstring</th>\n",
       "      <th>InstitutionType</th>\n",
       "      <th>PrimaryInstitution</th>\n",
       "      <th>OrgName</th>\n",
       "      <th>Position</th>\n",
       "      <th>OrgRank</th>\n",
       "      <th>P1</th>\n",
       "      <th>P2</th>\n",
       "      <th>P3</th>\n",
       "      <th>_merge</th>\n",
       "    </tr>\n",
       "  </thead>\n",
       "  <tbody>\n",
       "    <tr>\n",
       "      <th>0</th>\n",
       "      <td>4.15문학창작단 단장</td>\n",
       "      <td>1989.04</td>\n",
       "      <td>1989</td>\n",
       "      <td>4</td>\n",
       "      <td>NaN</td>\n",
       "      <td>당외곽및사회단체_사회부문(별책)</td>\n",
       "      <td>4.15문화창작단</td>\n",
       "      <td>NaN</td>\n",
       "      <td>단장</td>\n",
       "      <td>0</td>\n",
       "      <td>단장</td>\n",
       "      <td>부단장</td>\n",
       "      <td>NaN</td>\n",
       "      <td>both</td>\n",
       "    </tr>\n",
       "    <tr>\n",
       "      <th>1</th>\n",
       "      <td>1989. 4.15문학창작단 단장, 조선작가동맹 통일문학담당 부위원장</td>\n",
       "      <td>NaN</td>\n",
       "      <td>1989</td>\n",
       "      <td>4</td>\n",
       "      <td>4.15 문화창작단 단장</td>\n",
       "      <td>당외곽및사회단체_사회부문(별책)</td>\n",
       "      <td>4.15문화창작단</td>\n",
       "      <td>NaN</td>\n",
       "      <td>단장</td>\n",
       "      <td>0</td>\n",
       "      <td>단장</td>\n",
       "      <td>부단장</td>\n",
       "      <td>NaN</td>\n",
       "      <td>both</td>\n",
       "    </tr>\n",
       "  </tbody>\n",
       "</table>\n",
       "</div>"
      ],
      "text/plain": [
       "                             CareerString CareerDateString_2022  \\\n",
       "0                            4.15문학창작단 단장               1989.04   \n",
       "1  1989. 4.15문학창작단 단장, 조선작가동맹 통일문학담당 부위원장                   NaN   \n",
       "\n",
       "  CareerStartYear CareerStartMonth CareerSubstring    InstitutionType  \\\n",
       "0            1989                4             NaN  당외곽및사회단체_사회부문(별책)   \n",
       "1            1989                4   4.15 문화창작단 단장  당외곽및사회단체_사회부문(별책)   \n",
       "\n",
       "  PrimaryInstitution OrgName Position OrgRank  P1   P2   P3 _merge  \n",
       "0          4.15문화창작단     NaN       단장       0  단장  부단장  NaN   both  \n",
       "1          4.15문화창작단     NaN       단장       0  단장  부단장  NaN   both  "
      ]
     },
     "execution_count": 35,
     "metadata": {},
     "output_type": "execute_result"
    }
   ],
   "source": [
    "jobs2.head(2)"
   ]
  },
  {
   "cell_type": "code",
   "execution_count": 36,
   "id": "3f39e63d",
   "metadata": {},
   "outputs": [],
   "source": [
    "# determine PositionRank - i.e., find Position in P1-P3\n",
    "\n",
    "# row-vectorized formula - meant for use in df.apply()\n",
    "\n",
    "def determine_Position_Rank(row):\n",
    "    \n",
    "    PositionRank = np.nan\n",
    "    rowPos = row[\"Position\"]\n",
    "\n",
    "    # print(\"\\n\")\n",
    "    # print(row[\"Position\"],type(row[\"Position\"]),type(rowPos))\n",
    "    \n",
    "    # print(\"P1:\",row[\"P1\"])\n",
    "    if isinstance(row[\"P1\"],str):\n",
    "        if rowPos in row[\"P1\"].split(\",\"):\n",
    "            PositionRank = 1\n",
    "    \n",
    "    # print(\"P2:\",row[\"P2\"])\n",
    "    if isinstance(row[\"P2\"],str):\n",
    "        if rowPos in row[\"P2\"].split(\",\"):\n",
    "            PositionRank = 2\n",
    "          \n",
    "    # print(\"P3:\",row[\"P3\"])\n",
    "    if isinstance(row[\"P3\"],str):\n",
    "        if rowPos in row[\"P3\"].split(\",\"):\n",
    "            PositionRank = 3\n",
    "            \n",
    "    # print(\"PositionRank:\",PositionRank)\n",
    "        \n",
    "    return PositionRank"
   ]
  },
  {
   "cell_type": "code",
   "execution_count": 37,
   "id": "22db4567",
   "metadata": {},
   "outputs": [],
   "source": [
    "jobs2[\"PositionRank\"] = jobs2.apply(determine_Position_Rank,axis=1)"
   ]
  },
  {
   "cell_type": "code",
   "execution_count": 38,
   "id": "48c93c85",
   "metadata": {},
   "outputs": [
    {
     "data": {
      "text/plain": [
       "Index(['CareerString', 'CareerDateString_2022', 'CareerStartYear',\n",
       "       'CareerStartMonth', 'CareerSubstring', 'InstitutionType',\n",
       "       'PrimaryInstitution', 'OrgName', 'Position', 'OrgRank', 'P1', 'P2',\n",
       "       'P3', '_merge', 'PositionRank'],\n",
       "      dtype='object')"
      ]
     },
     "execution_count": 38,
     "metadata": {},
     "output_type": "execute_result"
    }
   ],
   "source": [
    "jobs2.columns"
   ]
  },
  {
   "cell_type": "code",
   "execution_count": 39,
   "id": "edd2e19d",
   "metadata": {},
   "outputs": [],
   "source": [
    "new_jobs_columns = ['CareerString', 'CareerDateString_2022', 'CareerStartYear',\n",
    "       'CareerStartMonth', 'CareerSubstring', 'InstitutionType',\n",
    "       'PrimaryInstitution', 'OrgName', 'Position', 'OrgRank', 'PositionRank']"
   ]
  },
  {
   "cell_type": "code",
   "execution_count": 40,
   "id": "88bb003b",
   "metadata": {},
   "outputs": [],
   "source": [
    "jobs = jobs2[new_jobs_columns]"
   ]
  },
  {
   "cell_type": "code",
   "execution_count": null,
   "id": "4b749df0",
   "metadata": {},
   "outputs": [],
   "source": []
  },
  {
   "cell_type": "markdown",
   "id": "6ca27a56",
   "metadata": {},
   "source": [
    "# Step. merge leadercareerlink & jobs"
   ]
  },
  {
   "cell_type": "code",
   "execution_count": 41,
   "id": "4bf6954d",
   "metadata": {},
   "outputs": [],
   "source": [
    "job_key_columns = ['CareerString', 'CareerDateString_2022']"
   ]
  },
  {
   "cell_type": "code",
   "execution_count": 42,
   "id": "53ff8841",
   "metadata": {},
   "outputs": [
    {
     "data": {
      "text/html": [
       "<div>\n",
       "<style scoped>\n",
       "    .dataframe tbody tr th:only-of-type {\n",
       "        vertical-align: middle;\n",
       "    }\n",
       "\n",
       "    .dataframe tbody tr th {\n",
       "        vertical-align: top;\n",
       "    }\n",
       "\n",
       "    .dataframe thead th {\n",
       "        text-align: right;\n",
       "    }\n",
       "</style>\n",
       "<table border=\"1\" class=\"dataframe\">\n",
       "  <thead>\n",
       "    <tr style=\"text-align: right;\">\n",
       "      <th></th>\n",
       "      <th>LeaderID</th>\n",
       "      <th>CareerString</th>\n",
       "      <th>CareerDateString_2022</th>\n",
       "    </tr>\n",
       "  </thead>\n",
       "  <tbody>\n",
       "    <tr>\n",
       "      <th>0</th>\n",
       "      <td>리선권</td>\n",
       "      <td>개성공단 남북공동위원회 통행통신통관 분과위원회</td>\n",
       "      <td>2013.09 ~ 2014.01</td>\n",
       "    </tr>\n",
       "    <tr>\n",
       "      <th>1</th>\n",
       "      <td>조경철</td>\n",
       "      <td>故 김정일 국가장의위원회 위원</td>\n",
       "      <td>2011.12</td>\n",
       "    </tr>\n",
       "  </tbody>\n",
       "</table>\n",
       "</div>"
      ],
      "text/plain": [
       "  LeaderID                CareerString CareerDateString_2022\n",
       "0      리선권   개성공단 남북공동위원회 통행통신통관 분과위원회     2013.09 ~ 2014.01\n",
       "1      조경철            故 김정일 국가장의위원회 위원               2011.12"
      ]
     },
     "execution_count": 42,
     "metadata": {},
     "output_type": "execute_result"
    }
   ],
   "source": [
    "lcl.head(2)"
   ]
  },
  {
   "cell_type": "code",
   "execution_count": 43,
   "id": "92c9d2ab",
   "metadata": {},
   "outputs": [
    {
     "name": "stdout",
     "output_type": "stream",
     "text": [
      "\n",
      "Merge Results...\n",
      "\n",
      "\tshape     : (12840, 13)\n",
      "\tleft_only : (8361, 13)\n",
      "\tboth      : (4479, 13)\n",
      "\tright_only: (0, 13)\n"
     ]
    }
   ],
   "source": [
    "# leaderjoblink - outer join for descriptive statistics\n",
    "ljob_outer = lcl.merge(jobs,on=job_key_columns,how=\"outer\",indicator=True)\n",
    "merge_results(ljob_outer)"
   ]
  },
  {
   "cell_type": "code",
   "execution_count": 44,
   "id": "f4f52892",
   "metadata": {},
   "outputs": [],
   "source": [
    "# no right_only confirms no mismatched career keys in careerorglink\n",
    "# left-only indicates all of the excluded career items"
   ]
  },
  {
   "cell_type": "code",
   "execution_count": 45,
   "id": "67717bad",
   "metadata": {},
   "outputs": [
    {
     "name": "stdout",
     "output_type": "stream",
     "text": [
      "\n",
      "Merge Results...\n",
      "\n",
      "\tshape     : (4479, 13)\n",
      "\tleft_only : (0, 13)\n",
      "\tboth      : (4479, 13)\n",
      "\tright_only: (0, 13)\n"
     ]
    }
   ],
   "source": [
    "# leaderjoblink - inner join for the table we will use to make transitions\n",
    "ljob = lcl.merge(jobs,on=job_key_columns,how=\"inner\",indicator=True)\n",
    "merge_results(ljob)"
   ]
  },
  {
   "cell_type": "code",
   "execution_count": 46,
   "id": "089534eb",
   "metadata": {},
   "outputs": [],
   "source": [
    "# instantiate CareerStartDate\n",
    "ljob[\"CareerStartDate\"]=np.nan"
   ]
  },
  {
   "cell_type": "code",
   "execution_count": 47,
   "id": "74a75d4c",
   "metadata": {},
   "outputs": [],
   "source": [
    "# CareerStartDate when CareerStartMonth is null\n",
    "selection = ljob[\"CareerStartMonth\"].isna()\n",
    "ljob.loc[selection,\"CareerStartDate\"] = ljob[selection].apply(lambda x: str(x[\"CareerStartYear\"]) + \"00\",axis=1)"
   ]
  },
  {
   "cell_type": "code",
   "execution_count": 48,
   "id": "7ff285b5",
   "metadata": {},
   "outputs": [],
   "source": [
    "# CareerStartDate when CareerStartMonth has 2 digits\n",
    "selection = (ljob[\"CareerStartMonth\"].notna()) & (ljob.apply(lambda x: len(str(x[\"CareerStartMonth\"])),axis=1)==2)\n",
    "ljob.loc[selection,\"CareerStartDate\"] = ljob[selection].apply(lambda x: str(x[\"CareerStartYear\"]) + str(x[\"CareerStartMonth\"]),axis=1)"
   ]
  },
  {
   "cell_type": "code",
   "execution_count": 49,
   "id": "17ae6e41",
   "metadata": {},
   "outputs": [],
   "source": [
    "# CareerStartDate when CareerStartMonth has 1 digit\n",
    "selection = (ljob[\"CareerStartMonth\"].notna()) & (ljob.apply(lambda x: len(str(x[\"CareerStartMonth\"])),axis=1)==1)\n",
    "ljob.loc[selection,\"CareerStartDate\"] = ljob[selection].apply(lambda x: str(x[\"CareerStartYear\"]) + \"0\" + str(x[\"CareerStartMonth\"]),axis=1)"
   ]
  },
  {
   "cell_type": "code",
   "execution_count": 50,
   "id": "adb76d91",
   "metadata": {},
   "outputs": [
    {
     "data": {
      "text/plain": [
       "Index(['LeaderID', 'CareerString', 'CareerDateString_2022', 'CareerStartYear',\n",
       "       'CareerStartMonth', 'CareerSubstring', 'InstitutionType',\n",
       "       'PrimaryInstitution', 'OrgName', 'Position', 'OrgRank', 'PositionRank',\n",
       "       '_merge', 'CareerStartDate'],\n",
       "      dtype='object')"
      ]
     },
     "execution_count": 50,
     "metadata": {},
     "output_type": "execute_result"
    }
   ],
   "source": [
    "ljob.columns"
   ]
  },
  {
   "cell_type": "code",
   "execution_count": 51,
   "id": "cec24598",
   "metadata": {},
   "outputs": [],
   "source": [
    "ljob_columns = ['LeaderID', 'CareerString', 'CareerDateString_2022','CareerStartYear', 'CareerStartMonth','CareerStartDate','CareerSubstring', 'InstitutionType',\n",
    "       'PrimaryInstitution', 'OrgName', 'Position','OrgRank', 'PositionRank']"
   ]
  },
  {
   "cell_type": "code",
   "execution_count": 52,
   "id": "f0b0186a",
   "metadata": {},
   "outputs": [],
   "source": [
    "ljob = ljob[ljob_columns]"
   ]
  },
  {
   "cell_type": "code",
   "execution_count": 53,
   "id": "d0eddd70",
   "metadata": {},
   "outputs": [
    {
     "data": {
      "text/html": [
       "<div>\n",
       "<style scoped>\n",
       "    .dataframe tbody tr th:only-of-type {\n",
       "        vertical-align: middle;\n",
       "    }\n",
       "\n",
       "    .dataframe tbody tr th {\n",
       "        vertical-align: top;\n",
       "    }\n",
       "\n",
       "    .dataframe thead th {\n",
       "        text-align: right;\n",
       "    }\n",
       "</style>\n",
       "<table border=\"1\" class=\"dataframe\">\n",
       "  <thead>\n",
       "    <tr style=\"text-align: right;\">\n",
       "      <th></th>\n",
       "      <th>LeaderID</th>\n",
       "      <th>CareerString</th>\n",
       "      <th>CareerDateString_2022</th>\n",
       "      <th>CareerStartYear</th>\n",
       "      <th>CareerStartMonth</th>\n",
       "      <th>CareerStartDate</th>\n",
       "      <th>CareerSubstring</th>\n",
       "      <th>InstitutionType</th>\n",
       "      <th>PrimaryInstitution</th>\n",
       "      <th>OrgName</th>\n",
       "      <th>Position</th>\n",
       "      <th>OrgRank</th>\n",
       "      <th>PositionRank</th>\n",
       "    </tr>\n",
       "  </thead>\n",
       "  <tbody>\n",
       "    <tr>\n",
       "      <th>0</th>\n",
       "      <td>리원일</td>\n",
       "      <td>노동성 상(유임)</td>\n",
       "      <td>1999.02</td>\n",
       "      <td>1999</td>\n",
       "      <td>2</td>\n",
       "      <td>199902</td>\n",
       "      <td>NaN</td>\n",
       "      <td>정권기관</td>\n",
       "      <td>내각</td>\n",
       "      <td>노동성</td>\n",
       "      <td>상</td>\n",
       "      <td>1</td>\n",
       "      <td>1</td>\n",
       "    </tr>\n",
       "    <tr>\n",
       "      <th>1</th>\n",
       "      <td>리하일</td>\n",
       "      <td>인민무력부 작전국 국장</td>\n",
       "      <td>1975</td>\n",
       "      <td>1975</td>\n",
       "      <td>NaN</td>\n",
       "      <td>197500</td>\n",
       "      <td>NaN</td>\n",
       "      <td>정권기관</td>\n",
       "      <td>정무원</td>\n",
       "      <td>인민무력부A_작전국</td>\n",
       "      <td>국장</td>\n",
       "      <td>2</td>\n",
       "      <td>1</td>\n",
       "    </tr>\n",
       "  </tbody>\n",
       "</table>\n",
       "</div>"
      ],
      "text/plain": [
       "  LeaderID   CareerString CareerDateString_2022 CareerStartYear  \\\n",
       "0      리원일      노동성 상(유임)               1999.02            1999   \n",
       "1      리하일   인민무력부 작전국 국장                  1975            1975   \n",
       "\n",
       "  CareerStartMonth CareerStartDate CareerSubstring InstitutionType  \\\n",
       "0                2          199902             NaN            정권기관   \n",
       "1              NaN          197500             NaN            정권기관   \n",
       "\n",
       "  PrimaryInstitution     OrgName Position OrgRank  PositionRank  \n",
       "0                 내각         노동성        상       1             1  \n",
       "1                정무원  인민무력부A_작전국       국장       2             1  "
      ]
     },
     "execution_count": 53,
     "metadata": {},
     "output_type": "execute_result"
    }
   ],
   "source": [
    "ljob.head(2)"
   ]
  },
  {
   "cell_type": "markdown",
   "id": "8ead0c66",
   "metadata": {},
   "source": [
    "#### descriptive statistics"
   ]
  },
  {
   "cell_type": "code",
   "execution_count": 54,
   "id": "3b2572e3",
   "metadata": {},
   "outputs": [
    {
     "data": {
      "text/plain": [
       "637"
      ]
     },
     "execution_count": 54,
     "metadata": {},
     "output_type": "execute_result"
    }
   ],
   "source": [
    "# unique leaders, overall\n",
    "len(lcl.LeaderID.unique())"
   ]
  },
  {
   "cell_type": "code",
   "execution_count": 55,
   "id": "70019c2f",
   "metadata": {},
   "outputs": [
    {
     "data": {
      "text/plain": [
       "547"
      ]
     },
     "execution_count": 55,
     "metadata": {},
     "output_type": "execute_result"
    }
   ],
   "source": [
    "# unique leaders, with jobs included\n",
    "len(ljob.LeaderID.unique())"
   ]
  },
  {
   "cell_type": "code",
   "execution_count": 56,
   "id": "d14a96d3",
   "metadata": {},
   "outputs": [
    {
     "data": {
      "text/plain": [
       "90"
      ]
     },
     "execution_count": 56,
     "metadata": {},
     "output_type": "execute_result"
    }
   ],
   "source": [
    "# leaders not having jobs that satisfy our critiria; excluded from analysis\n",
    "len(lcl.LeaderID.unique())-len(ljob.LeaderID.unique())"
   ]
  },
  {
   "cell_type": "code",
   "execution_count": 57,
   "id": "bc9bde07",
   "metadata": {},
   "outputs": [
    {
     "data": {
      "text/plain": [
       "(4479, 13)"
      ]
     },
     "execution_count": 57,
     "metadata": {},
     "output_type": "execute_result"
    }
   ],
   "source": [
    "# job items, after pairing with leaders (some jobs reported for more than one leader)\n",
    "ljob.shape"
   ]
  },
  {
   "cell_type": "code",
   "execution_count": 58,
   "id": "3f02070a",
   "metadata": {},
   "outputs": [
    {
     "data": {
      "text/plain": [
       "(1532, 3)"
      ]
     },
     "execution_count": 58,
     "metadata": {},
     "output_type": "execute_result"
    }
   ],
   "source": [
    "# unique positions\n",
    "position_key_columns = ['PrimaryInstitution', 'OrgName','Position']\n",
    "ljob[position_key_columns].drop_duplicates().shape"
   ]
  },
  {
   "cell_type": "code",
   "execution_count": 59,
   "id": "5183153b",
   "metadata": {},
   "outputs": [
    {
     "data": {
      "text/plain": [
       "(1009, 2)"
      ]
     },
     "execution_count": 59,
     "metadata": {},
     "output_type": "execute_result"
    }
   ],
   "source": [
    "# unique orgs\n",
    "org_key_columns = ['PrimaryInstitution', 'OrgName']\n",
    "ljob[org_key_columns].drop_duplicates().shape"
   ]
  },
  {
   "cell_type": "markdown",
   "id": "600aa602",
   "metadata": {},
   "source": [
    "# Step. calculate time-adjacent transitions for each leader"
   ]
  },
  {
   "cell_type": "code",
   "execution_count": 60,
   "id": "9b9b1189",
   "metadata": {},
   "outputs": [],
   "source": [
    "def calculate_resume_transitions(lc,leaderid):\n",
    "\n",
    "    t = lc[(lc[\"LeaderID\"]==leaderid) & (lc[\"CareerStartYear\"].notna())]\n",
    "    t = t.drop_duplicates([\"CareerStartYear\",\"PrimaryInstitution\",\"OrgName\"],keep=\"first\")\n",
    "    t = t.sort_values(\"CareerStartDate\",ignore_index=True)\n",
    "    # print(\"resume:\",t.shape)\n",
    "    \n",
    "    tr = t.merge(t,on=\"LeaderID\",how=\"inner\",suffixes=(\"_1\",\"_2\"))\n",
    "    # sort based on CareerStartDates\n",
    "    tr = tr.sort_values([\"CareerStartDate_1\",\"CareerStartDate_2\"])\n",
    "    \n",
    "    # drop keys where CareerStartDate_1 <= CareerStartDate_2\n",
    "    tr = tr[tr.apply(lambda x: x[\"CareerStartDate_1\"] < x[\"CareerStartDate_2\"],axis=1)]\n",
    "    #tr.shape\n",
    "    \n",
    "    # smallest next startdate\n",
    "    dates = tr[[\"CareerStartDate_1\",\"CareerStartDate_2\"]]\n",
    "    #dates\n",
    "    mindate = dates.groupby(\"CareerStartDate_1\",as_index=False).agg({\"CareerStartDate_2\":\"min\"})\n",
    "    mindate.columns = [\"CareerStartDate_1\",\"CareerStartDate_2_min\"]\n",
    "    #mindate\n",
    "    \n",
    "    tr2 = tr.merge(mindate,on=\"CareerStartDate_1\",how=\"left\")\n",
    "    #tr2.shape\n",
    "    \n",
    "    tr3 = tr2[tr2.apply(lambda x: x[\"CareerStartDate_2\"] == x[\"CareerStartDate_2_min\"],axis=1)]\n",
    "    # print(\"transitions:\",tr3.shape)\n",
    "    \n",
    "    #print(tr3[some_columns])\n",
    "    \n",
    "    print(leaderid,tr3.shape[0],\"transitions\")\n",
    "\n",
    "    return tr3"
   ]
  },
  {
   "cell_type": "markdown",
   "id": "72a79aa7",
   "metadata": {},
   "source": [
    "#### a good example of many of the problems we need to address"
   ]
  },
  {
   "cell_type": "code",
   "execution_count": 61,
   "id": "9143292e",
   "metadata": {},
   "outputs": [
    {
     "name": "stdout",
     "output_type": "stream",
     "text": [
      "강관주 14 transitions\n"
     ]
    }
   ],
   "source": [
    "leaderid = \"강관주\"\n",
    "resume = calculate_resume_transitions(ljob,leaderid)"
   ]
  },
  {
   "cell_type": "code",
   "execution_count": 62,
   "id": "6f204efd",
   "metadata": {},
   "outputs": [
    {
     "data": {
      "text/html": [
       "<div>\n",
       "<style scoped>\n",
       "    .dataframe tbody tr th:only-of-type {\n",
       "        vertical-align: middle;\n",
       "    }\n",
       "\n",
       "    .dataframe tbody tr th {\n",
       "        vertical-align: top;\n",
       "    }\n",
       "\n",
       "    .dataframe thead th {\n",
       "        text-align: right;\n",
       "    }\n",
       "</style>\n",
       "<table border=\"1\" class=\"dataframe\">\n",
       "  <thead>\n",
       "    <tr style=\"text-align: right;\">\n",
       "      <th></th>\n",
       "      <th>LeaderID</th>\n",
       "      <th>CareerStartDate_1</th>\n",
       "      <th>PrimaryInstitution_1</th>\n",
       "      <th>OrgName_1</th>\n",
       "      <th>Position_1</th>\n",
       "      <th>CareerStartDate_2</th>\n",
       "      <th>PrimaryInstitution_2</th>\n",
       "      <th>OrgName_2</th>\n",
       "      <th>Position_2</th>\n",
       "    </tr>\n",
       "  </thead>\n",
       "  <tbody>\n",
       "    <tr>\n",
       "      <th>0</th>\n",
       "      <td>강관주</td>\n",
       "      <td>196100</td>\n",
       "      <td>체육연구원</td>\n",
       "      <td>체육과학연구소</td>\n",
       "      <td>연구원</td>\n",
       "      <td>197300</td>\n",
       "      <td>노동당</td>\n",
       "      <td>당중앙위원회_문화예술부_X과</td>\n",
       "      <td>과장</td>\n",
       "    </tr>\n",
       "    <tr>\n",
       "      <th>1</th>\n",
       "      <td>강관주</td>\n",
       "      <td>196100</td>\n",
       "      <td>체육연구원</td>\n",
       "      <td>체육과학연구소</td>\n",
       "      <td>연구원</td>\n",
       "      <td>197300</td>\n",
       "      <td>평양만경대예술단</td>\n",
       "      <td>섭외부</td>\n",
       "      <td>부부장</td>\n",
       "    </tr>\n",
       "    <tr>\n",
       "      <th>12</th>\n",
       "      <td>강관주</td>\n",
       "      <td>197300</td>\n",
       "      <td>노동당</td>\n",
       "      <td>당중앙위원회_문화예술부_X과</td>\n",
       "      <td>과장</td>\n",
       "      <td>198600</td>\n",
       "      <td>노동당</td>\n",
       "      <td>당중앙위원회_조직지도부</td>\n",
       "      <td>부부장</td>\n",
       "    </tr>\n",
       "    <tr>\n",
       "      <th>13</th>\n",
       "      <td>강관주</td>\n",
       "      <td>197300</td>\n",
       "      <td>평양만경대예술단</td>\n",
       "      <td>섭외부</td>\n",
       "      <td>부부장</td>\n",
       "      <td>198600</td>\n",
       "      <td>노동당</td>\n",
       "      <td>당중앙위원회_조직지도부</td>\n",
       "      <td>부부장</td>\n",
       "    </tr>\n",
       "    <tr>\n",
       "      <th>32</th>\n",
       "      <td>강관주</td>\n",
       "      <td>198600</td>\n",
       "      <td>노동당</td>\n",
       "      <td>당중앙위원회_조직지도부</td>\n",
       "      <td>부부장</td>\n",
       "      <td>198800</td>\n",
       "      <td>노동당</td>\n",
       "      <td>당중앙위원회_통일전선부</td>\n",
       "      <td>부부장</td>\n",
       "    </tr>\n",
       "    <tr>\n",
       "      <th>41</th>\n",
       "      <td>강관주</td>\n",
       "      <td>198800</td>\n",
       "      <td>노동당</td>\n",
       "      <td>당중앙위원회_통일전선부</td>\n",
       "      <td>부부장</td>\n",
       "      <td>198903</td>\n",
       "      <td>노동당</td>\n",
       "      <td>당중앙위원회_통일전선부</td>\n",
       "      <td>제1부부장</td>\n",
       "    </tr>\n",
       "    <tr>\n",
       "      <th>49</th>\n",
       "      <td>강관주</td>\n",
       "      <td>198903</td>\n",
       "      <td>노동당</td>\n",
       "      <td>당중앙위원회_통일전선부</td>\n",
       "      <td>제1부부장</td>\n",
       "      <td>199008</td>\n",
       "      <td>내각</td>\n",
       "      <td>조국평화통일위원회</td>\n",
       "      <td>부위원장</td>\n",
       "    </tr>\n",
       "    <tr>\n",
       "      <th>50</th>\n",
       "      <td>강관주</td>\n",
       "      <td>198903</td>\n",
       "      <td>노동당</td>\n",
       "      <td>당중앙위원회_통일전선부</td>\n",
       "      <td>제1부부장</td>\n",
       "      <td>199008</td>\n",
       "      <td>정무원</td>\n",
       "      <td>조국평화통일위원회</td>\n",
       "      <td>부위원장</td>\n",
       "    </tr>\n",
       "    <tr>\n",
       "      <th>56</th>\n",
       "      <td>강관주</td>\n",
       "      <td>199008</td>\n",
       "      <td>내각</td>\n",
       "      <td>조국평화통일위원회</td>\n",
       "      <td>부위원장</td>\n",
       "      <td>199109</td>\n",
       "      <td>보천보전자악단</td>\n",
       "      <td>NaN</td>\n",
       "      <td>고문</td>\n",
       "    </tr>\n",
       "    <tr>\n",
       "      <th>57</th>\n",
       "      <td>강관주</td>\n",
       "      <td>199008</td>\n",
       "      <td>정무원</td>\n",
       "      <td>조국평화통일위원회</td>\n",
       "      <td>부위원장</td>\n",
       "      <td>199109</td>\n",
       "      <td>보천보전자악단</td>\n",
       "      <td>NaN</td>\n",
       "      <td>고문</td>\n",
       "    </tr>\n",
       "    <tr>\n",
       "      <th>66</th>\n",
       "      <td>강관주</td>\n",
       "      <td>199109</td>\n",
       "      <td>보천보전자악단</td>\n",
       "      <td>NaN</td>\n",
       "      <td>고문</td>\n",
       "      <td>199301</td>\n",
       "      <td>노동당</td>\n",
       "      <td>당중앙위원회_통일전선부</td>\n",
       "      <td>부장</td>\n",
       "    </tr>\n",
       "    <tr>\n",
       "      <th>70</th>\n",
       "      <td>강관주</td>\n",
       "      <td>199301</td>\n",
       "      <td>노동당</td>\n",
       "      <td>당중앙위원회_통일전선부</td>\n",
       "      <td>부장</td>\n",
       "      <td>199310</td>\n",
       "      <td>조선해외동포원호위원회</td>\n",
       "      <td>NaN</td>\n",
       "      <td>위원장</td>\n",
       "    </tr>\n",
       "    <tr>\n",
       "      <th>73</th>\n",
       "      <td>강관주</td>\n",
       "      <td>199310</td>\n",
       "      <td>조선해외동포원호위원회</td>\n",
       "      <td>NaN</td>\n",
       "      <td>위원장</td>\n",
       "      <td>199702</td>\n",
       "      <td>노동당</td>\n",
       "      <td>당중앙위원회_대외연락부</td>\n",
       "      <td>부장</td>\n",
       "    </tr>\n",
       "    <tr>\n",
       "      <th>75</th>\n",
       "      <td>강관주</td>\n",
       "      <td>199702</td>\n",
       "      <td>노동당</td>\n",
       "      <td>당중앙위원회_대외연락부</td>\n",
       "      <td>부장</td>\n",
       "      <td>200900</td>\n",
       "      <td>내각</td>\n",
       "      <td>225국</td>\n",
       "      <td>국장</td>\n",
       "    </tr>\n",
       "  </tbody>\n",
       "</table>\n",
       "</div>"
      ],
      "text/plain": [
       "   LeaderID CareerStartDate_1 PrimaryInstitution_1        OrgName_1  \\\n",
       "0       강관주            196100                체육연구원          체육과학연구소   \n",
       "1       강관주            196100                체육연구원          체육과학연구소   \n",
       "12      강관주            197300                  노동당  당중앙위원회_문화예술부_X과   \n",
       "13      강관주            197300             평양만경대예술단              섭외부   \n",
       "32      강관주            198600                  노동당     당중앙위원회_조직지도부   \n",
       "41      강관주            198800                  노동당     당중앙위원회_통일전선부   \n",
       "49      강관주            198903                  노동당     당중앙위원회_통일전선부   \n",
       "50      강관주            198903                  노동당     당중앙위원회_통일전선부   \n",
       "56      강관주            199008                   내각        조국평화통일위원회   \n",
       "57      강관주            199008                  정무원        조국평화통일위원회   \n",
       "66      강관주            199109              보천보전자악단              NaN   \n",
       "70      강관주            199301                  노동당     당중앙위원회_통일전선부   \n",
       "73      강관주            199310          조선해외동포원호위원회              NaN   \n",
       "75      강관주            199702                  노동당     당중앙위원회_대외연락부   \n",
       "\n",
       "   Position_1 CareerStartDate_2 PrimaryInstitution_2        OrgName_2  \\\n",
       "0         연구원            197300                  노동당  당중앙위원회_문화예술부_X과   \n",
       "1         연구원            197300             평양만경대예술단              섭외부   \n",
       "12         과장            198600                  노동당     당중앙위원회_조직지도부   \n",
       "13        부부장            198600                  노동당     당중앙위원회_조직지도부   \n",
       "32        부부장            198800                  노동당     당중앙위원회_통일전선부   \n",
       "41        부부장            198903                  노동당     당중앙위원회_통일전선부   \n",
       "49      제1부부장            199008                   내각        조국평화통일위원회   \n",
       "50      제1부부장            199008                  정무원        조국평화통일위원회   \n",
       "56       부위원장            199109              보천보전자악단              NaN   \n",
       "57       부위원장            199109              보천보전자악단              NaN   \n",
       "66         고문            199301                  노동당     당중앙위원회_통일전선부   \n",
       "70         부장            199310          조선해외동포원호위원회              NaN   \n",
       "73        위원장            199702                  노동당     당중앙위원회_대외연락부   \n",
       "75         부장            200900                   내각             225국   \n",
       "\n",
       "   Position_2  \n",
       "0          과장  \n",
       "1         부부장  \n",
       "12        부부장  \n",
       "13        부부장  \n",
       "32        부부장  \n",
       "41      제1부부장  \n",
       "49       부위원장  \n",
       "50       부위원장  \n",
       "56         고문  \n",
       "57         고문  \n",
       "66         부장  \n",
       "70        위원장  \n",
       "73         부장  \n",
       "75         국장  "
      ]
     },
     "execution_count": 62,
     "metadata": {},
     "output_type": "execute_result"
    }
   ],
   "source": [
    "some_columns = [\"LeaderID\",\"CareerStartDate_1\",\"PrimaryInstitution_1\",\"OrgName_1\",\"Position_1\",\"CareerStartDate_2\",\"PrimaryInstitution_2\",\"OrgName_2\",\"Position_2\"]\n",
    "resume[some_columns]"
   ]
  },
  {
   "cell_type": "code",
   "execution_count": 63,
   "id": "2ccf1390",
   "metadata": {},
   "outputs": [],
   "source": [
    "leaderids = list(ljob[\"LeaderID\"].unique())"
   ]
  },
  {
   "cell_type": "code",
   "execution_count": 64,
   "id": "4ba03a7f",
   "metadata": {},
   "outputs": [
    {
     "data": {
      "text/plain": [
       "547"
      ]
     },
     "execution_count": 64,
     "metadata": {},
     "output_type": "execute_result"
    }
   ],
   "source": [
    "len(leaderids)"
   ]
  },
  {
   "cell_type": "code",
   "execution_count": 65,
   "id": "4d39bfaf",
   "metadata": {},
   "outputs": [],
   "source": [
    "def compile_leader_transitions(lc):\n",
    "    \n",
    "    leaderids = list(lc[\"LeaderID\"].unique())\n",
    "    \n",
    "    leader_resumes = []\n",
    "    \n",
    "    for leaderid in leaderids:\n",
    "        leader_resume = calculate_resume_transitions(lc,leaderid)\n",
    "        leader_resumes.append(leader_resume)\n",
    "        \n",
    "    lct = pd.concat(leader_resumes,ignore_index=True)\n",
    "    \n",
    "    return lct"
   ]
  },
  {
   "cell_type": "code",
   "execution_count": 66,
   "id": "58fafc72",
   "metadata": {},
   "outputs": [
    {
     "name": "stdout",
     "output_type": "stream",
     "text": [
      "리원일 9 transitions\n",
      "리하일 4 transitions\n",
      "최희태 0 transitions\n",
      "김기남 21 transitions\n",
      "김령성 10 transitions\n",
      "김정숙 26 transitions\n",
      "박성철a 37 transitions\n",
      "김창룡 0 transitions\n",
      "김인식 0 transitions\n",
      "리영호 2 transitions\n",
      "최태복 17 transitions\n",
      "김영일a 15 transitions\n",
      "주상성 5 transitions\n",
      "강동윤 2 transitions\n",
      "김일성 22 transitions\n",
      "김익현 10 transitions\n",
      "김일본 21 transitions\n",
      "박태화 8 transitions\n",
      "최광 15 transitions\n",
      "백학림 21 transitions\n",
      "리종옥 29 transitions\n",
      "김중린 14 transitions\n",
      "리을설 13 transitions\n",
      "오진우 12 transitions\n",
      "김락희 10 transitions\n",
      "김의순 12 transitions\n",
      "양형섭 25 transitions\n",
      "김영주 13 transitions\n",
      "김원균 6 transitions\n",
      "김철만 10 transitions\n",
      "백인준 10 transitions\n",
      "황순희 11 transitions\n",
      "최영림 17 transitions\n",
      "김영남 20 transitions\n",
      "전병호 10 transitions\n",
      "계응태 19 transitions\n",
      "홍성남 20 transitions\n",
      "강석숭 13 transitions\n",
      "김복신 19 transitions\n",
      "채희정 22 transitions\n",
      "김영춘 6 transitions\n",
      "길재경 5 transitions\n",
      "강관주 14 transitions\n",
      "박용석 8 transitions\n",
      "박봉주 11 transitions\n",
      "전하철 9 transitions\n",
      "장병규 0 transitions\n",
      "김국태 13 transitions\n",
      "김정일 10 transitions\n",
      "리용무 7 transitions\n",
      "리종혁 24 transitions\n",
      "오극렬 6 transitions\n",
      "김기룡 12 transitions\n",
      "리종산 2 transitions\n",
      "송호경 18 transitions\n",
      "권희경 5 transitions\n",
      "우두태 1 transitions\n",
      "김성애 2 transitions\n",
      "김룡연 2 transitions\n",
      "김풍기 6 transitions\n",
      "전희정 13 transitions\n",
      "리길송 19 transitions\n",
      "김일철a 6 transitions\n",
      "현철해 11 transitions\n",
      "변영립 18 transitions\n",
      "강영섭 18 transitions\n",
      "박길연 12 transitions\n",
      "최수헌 12 transitions\n",
      "강성산 17 transitions\n",
      "최익규 9 transitions\n",
      "최진수 14 transitions\n",
      "홍인범 4 transitions\n",
      "김병률 5 transitions\n",
      "최칠남 4 transitions\n",
      "한성룡 7 transitions\n",
      "박정순 2 transitions\n",
      "박관오 7 transitions\n",
      "김용순 26 transitions\n",
      "태종수 10 transitions\n",
      "연형묵 11 transitions\n",
      "김시학 29 transitions\n",
      "김격식 6 transitions\n",
      "강련학 4 transitions\n",
      "김동운 4 transitions\n",
      "구본태 8 transitions\n",
      "김용진 12 transitions\n",
      "백남순 15 transitions\n",
      "전영진 35 transitions\n",
      "박남기 7 transitions\n",
      "최인덕 2 transitions\n",
      "강영호 4 transitions\n",
      "김계관 7 transitions\n",
      "강능수 13 transitions\n",
      "정하철 6 transitions\n",
      "방철갑 3 transitions\n",
      "장성우 6 transitions\n",
      "리제강 4 transitions\n",
      "박의춘 23 transitions\n",
      "이철리 8 transitions\n",
      "지재룡 17 transitions\n",
      "심상진 3 transitions\n",
      "안극태 4 transitions\n",
      "조명록 3 transitions\n",
      "리근 14 transitions\n",
      "최희정 9 transitions\n",
      "박명철a 12 transitions\n",
      "박창련 5 transitions\n",
      "려춘석 6 transitions\n",
      "김경희 7 transitions\n",
      "김창식 7 transitions\n",
      "김완수a 33 transitions\n",
      "김병팔 12 transitions\n",
      "리영수 15 transitions\n",
      "허혁필 6 transitions\n",
      "백용호 44 transitions\n",
      "태형철 5 transitions\n",
      "김영숙 5 transitions\n",
      "김윤혁a 8 transitions\n",
      "조혜숙 2 transitions\n",
      "궁석웅 3 transitions\n",
      "림동옥 3 transitions\n",
      "김히택 5 transitions\n",
      "라동희 4 transitions\n",
      "윤기정 8 transitions\n",
      "홍일천 2 transitions\n",
      "리수용 16 transitions\n",
      "김정호 9 transitions\n",
      "리동호 9 transitions\n",
      "최룡해 22 transitions\n",
      "강석주 7 transitions\n",
      "리명수 9 transitions\n",
      "오길방 3 transitions\n",
      "전일춘 13 transitions\n",
      "장웅 15 transitions\n",
      "박경선 4 transitions\n",
      "전재선 3 transitions\n",
      "장성길 6 transitions\n",
      "김평일 8 transitions\n",
      "김양점 3 transitions\n",
      "홍석형 6 transitions\n",
      "리태남 11 transitions\n",
      "차승수 7 transitions\n",
      "최룡수 2 transitions\n",
      "장성택 8 transitions\n",
      "김진범 48 transitions\n",
      "안경호 7 transitions\n",
      "곽범기 14 transitions\n",
      "권혁봉 5 transitions\n",
      "김창규 4 transitions\n",
      "배달준 9 transitions\n",
      "리자방 8 transitions\n",
      "박동춘 17 transitions\n",
      "최영건 3 transitions\n",
      "정창렬 2 transitions\n",
      "김태종 7 transitions\n",
      "림경만 8 transitions\n",
      "오금철 6 transitions\n",
      "한봉춘 11 transitions\n",
      "김승현 4 transitions\n",
      "박재경 7 transitions\n",
      "박학선 5 transitions\n",
      "김정임 2 transitions\n",
      "송일호 3 transitions\n",
      "고종덕 1 transitions\n",
      "김병훈 5 transitions\n",
      "송석환 9 transitions\n",
      "리용호 9 transitions\n",
      "김기선 3 transitions\n",
      "최기룡 18 transitions\n",
      "최광래 6 transitions\n",
      "윤정린 2 transitions\n",
      "박송봉 1 transitions\n",
      "강창욱 4 transitions\n",
      "박명선 10 transitions\n",
      "김양건 17 transitions\n",
      "리용철a 2 transitions\n",
      "신일남 5 transitions\n",
      "박기서 1 transitions\n",
      "주영식 3 transitions\n",
      "최종건 5 transitions\n",
      "오광철 3 transitions\n",
      "권중영 3 transitions\n",
      "김용삼 2 transitions\n",
      "한동근 1 transitions\n",
      "강민철 5 transitions\n",
      "장재언 9 transitions\n",
      "최성익 8 transitions\n",
      "박명국 5 transitions\n",
      "김영철a 9 transitions\n",
      "유영선 7 transitions\n",
      "정운업 10 transitions\n",
      "김정기 5 transitions\n",
      "허종 10 transitions\n",
      "김영대 16 transitions\n",
      "김평해 10 transitions\n",
      "장윤곤 3 transitions\n",
      "로배권 7 transitions\n",
      "황봉영 7 transitions\n",
      "최창식 13 transitions\n",
      "김창수 3 transitions\n",
      "류미영 7 transitions\n",
      "한광복 7 transitions\n",
      "허택 4 transitions\n",
      "김완수b 5 transitions\n",
      "김수학 4 transitions\n",
      "원응희 3 transitions\n",
      "신병철 4 transitions\n",
      "정덕기 4 transitions\n",
      "려원구 3 transitions\n",
      "문경덕 6 transitions\n",
      "김윤심 1 transitions\n",
      "강양모 2 transitions\n",
      "김형룡 1 transitions\n",
      "한성렬 10 transitions\n",
      "리재일 3 transitions\n",
      "박태원 6 transitions\n",
      "박승원 1 transitions\n",
      "림상종 4 transitions\n",
      "김정각 6 transitions\n",
      "량만길 4 transitions\n",
      "김명국 4 transitions\n",
      "김영일b 6 transitions\n",
      "리찬복 0 transitions\n",
      "박림수 1 transitions\n",
      "이공필 1 transitions\n",
      "김봉철 9 transitions\n",
      "리룡남 13 transitions\n",
      "백계룡 4 transitions\n",
      "전진수 0 transitions\n",
      "정호균 0 transitions\n",
      "로두철 14 transitions\n",
      "김광린 1 transitions\n",
      "박수길 4 transitions\n",
      "권호웅 7 transitions\n",
      "리광근 14 transitions\n",
      "전승훈 6 transitions\n",
      "김수열 0 transitions\n",
      "문재덕 6 transitions\n",
      "리경식 4 transitions\n",
      "신선호 3 transitions\n",
      "김명길a 3 transitions\n",
      "리태철 2 transitions\n",
      "문응조 6 transitions\n",
      "홍서헌 10 transitions\n",
      "이광호 3 transitions\n",
      "최춘황 2 transitions\n",
      "리봉죽 0 transitions\n",
      "문재철 31 transitions\n",
      "원동연 4 transitions\n",
      "림경숙 7 transitions\n",
      "계영삼 10 transitions\n",
      "오익제 0 transitions\n",
      "김희영 2 transitions\n",
      "김경호a 8 transitions\n",
      "이금범 2 transitions\n",
      "정영수 9 transitions\n",
      "리주오 10 transitions\n",
      "홍선옥 34 transitions\n",
      "김현주 0 transitions\n",
      "김인호 1 transitions\n",
      "리용선 4 transitions\n",
      "오수용 13 transitions\n",
      "림남수 4 transitions\n",
      "장우영 6 transitions\n",
      "심철호 2 transitions\n",
      "장철 5 transitions\n",
      "최배진 2 transitions\n",
      "김용술 3 transitions\n",
      "권춘학 0 transitions\n",
      "원도희 0 transitions\n",
      "문명학 3 transitions\n",
      "김종태 1 transitions\n",
      "포희성 0 transitions\n",
      "박송남 6 transitions\n",
      "김경호b 1 transitions\n",
      "김응관 5 transitions\n",
      "김상익 1 transitions\n",
      "김형준 17 transitions\n",
      "최승철 1 transitions\n",
      "김형식a 3 transitions\n",
      "자성남 9 transitions\n",
      "주동일 1 transitions\n",
      "박순희 0 transitions\n",
      "조병주 4 transitions\n",
      "김덕훈 9 transitions\n",
      "주규창 1 transitions\n",
      "로성실 8 transitions\n",
      "석군수 1 transitions\n",
      "김영재 11 transitions\n",
      "김성국 0 transitions\n",
      "조현주 0 transitions\n",
      "김유호 2 transitions\n",
      "류영섭 3 transitions\n",
      "박남칠 1 transitions\n",
      "박용일 4 transitions\n",
      "박경삼 1 transitions\n",
      "김영호 6 transitions\n",
      "장혜명 1 transitions\n",
      "오응창 1 transitions\n",
      "박호영 1 transitions\n",
      "최남균 2 transitions\n",
      "리무영 9 transitions\n",
      "전길수 7 transitions\n",
      "한흥표 2 transitions\n",
      "리용철b 2 transitions\n",
      "김춘근 3 transitions\n",
      "박진식 1 transitions\n",
      "전종수 3 transitions\n",
      "김광영 3 transitions\n",
      "박경철 2 transitions\n",
      "박정성 0 transitions\n",
      "백룡천 2 transitions\n",
      "차선모 2 transitions\n",
      "강지영 7 transitions\n",
      "주진구 1 transitions\n",
      "동정호 5 transitions\n",
      "김중협 2 transitions\n",
      "류현식 1 transitions\n",
      "김만길 0 transitions\n",
      "성자립 14 transitions\n",
      "백현봉 1 transitions\n",
      "안동춘 4 transitions\n",
      "김성기 2 transitions\n",
      "리명산 2 transitions\n",
      "리철만 7 transitions\n",
      "김상록 0 transitions\n",
      "전경남 6 transitions\n",
      "리상관 1 transitions\n",
      "황병서 2 transitions\n",
      "김태봉 2 transitions\n",
      "박도춘 2 transitions\n",
      "맹경일 1 transitions\n",
      "김진성 0 transitions\n",
      "황학원 4 transitions\n",
      "홍창일 0 transitions\n",
      "조정호 0 transitions\n",
      "주동찬 1 transitions\n",
      "강종관 2 transitions\n",
      "김철 0 transitions\n",
      "박태덕 6 transitions\n",
      "박용팔 0 transitions\n",
      "정명도 0 transitions\n",
      "리병철 6 transitions\n",
      "김경옥 2 transitions\n",
      "리광곤 1 transitions\n",
      "최광진 4 transitions\n",
      "김창섭 0 transitions\n",
      "우동측 0 transitions\n",
      "정연과 0 transitions\n",
      "리병삼 0 transitions\n",
      "정명학 1 transitions\n",
      "김성남 1 transitions\n",
      "한광상 6 transitions\n",
      "조영철 5 transitions\n",
      "리성호 2 transitions\n",
      "김석준 2 transitions\n",
      "리명길 3 transitions\n",
      "안정수 4 transitions\n",
      "정태양 3 transitions\n",
      "현상주 4 transitions\n",
      "오일정 4 transitions\n",
      "변인선 4 transitions\n",
      "리만건 8 transitions\n",
      "전창복 3 transitions\n",
      "김원홍 3 transitions\n",
      "김정은 4 transitions\n",
      "조연준 2 transitions\n",
      "김승두 7 transitions\n",
      "전용남 3 transitions\n",
      "리승호 2 transitions\n",
      "김만수 3 transitions\n",
      "현영철 2 transitions\n",
      "최부일 3 transitions\n",
      "리성국a 1 transitions\n",
      "박정남 2 transitions\n",
      "김수길 4 transitions\n",
      "리태일 1 transitions\n",
      "장영록 0 transitions\n",
      "리상원 3 transitions\n",
      "박훈 2 transitions\n",
      "서종진 0 transitions\n",
      "최일룡 1 transitions\n",
      "리성학 1 transitions\n",
      "장경일 0 transitions\n",
      "김병호 4 transitions\n",
      "리광호 3 transitions\n",
      "리혜정 2 transitions\n",
      "류영선 9 transitions\n",
      "최상건 8 transitions\n",
      "여원구 2 transitions\n",
      "권성호 2 transitions\n",
      "정경택 1 transitions\n",
      "김일 12 transitions\n",
      "홍광순 3 transitions\n",
      "김철수 2 transitions\n",
      "리춘삼 3 transitions\n",
      "최휘 15 transitions\n",
      "차희림 1 transitions\n",
      "리종무 3 transitions\n",
      "김혁철 1 transitions\n",
      "리영길 9 transitions\n",
      "마원춘 1 transitions\n",
      "김창선 2 transitions\n",
      "김경준 1 transitions\n",
      "김정관 2 transitions\n",
      "위성일 2 transitions\n",
      "리두성 2 transitions\n",
      "조남진 0 transitions\n",
      "김명식 4 transitions\n",
      "노광철 2 transitions\n",
      "림광일 3 transitions\n",
      "곽창식 0 transitions\n",
      "윤영식 0 transitions\n",
      "한효연 1 transitions\n",
      "김충걸 1 transitions\n",
      "김용광 0 transitions\n",
      "리종국 0 transitions\n",
      "김정남 0 transitions\n",
      "박철민 2 transitions\n",
      "리일환 8 transitions\n",
      "주영길 4 transitions\n",
      "리국철 0 transitions\n",
      "신영철 4 transitions\n",
      "김철삼 2 transitions\n",
      "리재남 1 transitions\n",
      "김성룡 0 transitions\n",
      "전광호 2 transitions\n",
      "임철웅 4 transitions\n",
      "양승호 0 transitions\n",
      "김일철b 0 transitions\n",
      "고인호 6 transitions\n",
      "전현철 0 transitions\n",
      "주철규 0 transitions\n",
      "김금철b 0 transitions\n",
      "손영훈 0 transitions\n",
      "황민 3 transitions\n",
      "허철만 1 transitions\n",
      "박명순 2 transitions\n",
      "최동명 0 transitions\n",
      "홍영칠 1 transitions\n",
      "홍승무 0 transitions\n",
      "현송월 0 transitions\n",
      "강순남 0 transitions\n",
      "김성규 1 transitions\n",
      "김용수 4 transitions\n",
      "김재룡 4 transitions\n",
      "김여정 2 transitions\n",
      "정상학 0 transitions\n",
      "조용원 1 transitions\n",
      "박태성 2 transitions\n",
      "박광호 4 transitions\n",
      "리호림 0 transitions\n",
      "김조국 0 transitions\n",
      "박정천 4 transitions\n",
      "리득남 1 transitions\n",
      "강봉훈 2 transitions\n",
      "김능오 4 transitions\n",
      "김세복 0 transitions\n",
      "김만성 2 transitions\n",
      "장금철 0 transitions\n"
     ]
    },
    {
     "name": "stdout",
     "output_type": "stream",
     "text": [
      "리택건 3 transitions\n",
      "김성혜 3 transitions\n",
      "리현 1 transitions\n",
      "윤정호 0 transitions\n",
      "임경재 0 transitions\n",
      "강영수 3 transitions\n",
      "김용연 2 transitions\n",
      "박춘남 4 transitions\n",
      "승정규 0 transitions\n",
      "최상려 0 transitions\n",
      "방강수 0 transitions\n",
      "박명철b 0 transitions\n",
      "조경철 0 transitions\n",
      "김경남 1 transitions\n",
      "박혁철 0 transitions\n",
      "전학철 0 transitions\n",
      "강형봉 2 transitions\n",
      "리영용 1 transitions\n",
      "송춘섭 1 transitions\n",
      "강영철 2 transitions\n",
      "김영환 2 transitions\n",
      "최강일 0 transitions\n",
      "리선권 0 transitions\n",
      "리길성 1 transitions\n",
      "최선희 4 transitions\n",
      "김성 1 transitions\n",
      "김윤혁b 1 transitions\n",
      "왕창욱 0 transitions\n",
      "리제선 0 transitions\n",
      "강표영 2 transitions\n",
      "장정남 1 transitions\n",
      "서홍찬 2 transitions\n",
      "박영식 1 transitions\n",
      "리강선 0 transitions\n",
      "한룡국 0 transitions\n",
      "김춘섭 0 transitions\n",
      "리형근 0 transitions\n",
      "김충성 0 transitions\n",
      "기광호 4 transitions\n",
      "고정범 0 transitions\n",
      "김유일 0 transitions\n",
      "김재성 2 transitions\n",
      "손철주 1 transitions\n",
      "김류호 2 transitions\n",
      "심영학 1 transitions\n",
      "강명철 1 transitions\n",
      "김창엽 0 transitions\n",
      "한종혁 0 transitions\n",
      "김정순 1 transitions\n",
      "강수린 1 transitions\n",
      "장춘실 0 transitions\n",
      "손광호 1 transitions\n",
      "원길우 3 transitions\n",
      "김일국 3 transitions\n",
      "김지선 0 transitions\n",
      "강하국 0 transitions\n",
      "김창광 2 transitions\n",
      "박인철 0 transitions\n",
      "오춘복 0 transitions\n",
      "김천균 1 transitions\n",
      "채성학 0 transitions\n",
      "리학철 1 transitions\n",
      "장혁 1 transitions\n",
      "장춘성 0 transitions\n",
      "주용일 0 transitions\n",
      "김영훈b 0 transitions\n",
      "렴철성 0 transitions\n",
      "박수일 2 transitions\n",
      "김두일 1 transitions\n",
      "안금철 0 transitions\n",
      "박금희 0 transitions\n",
      "리정남 1 transitions\n",
      "김성일 0 transitions\n",
      "리히용 0 transitions\n",
      "박만호 0 transitions\n",
      "오경석 0 transitions\n",
      "김충일 0 transitions\n",
      "김광혁 0 transitions\n",
      "최영호a 0 transitions\n",
      "리용주 0 transitions\n",
      "김철규 0 transitions\n",
      "장길룡 1 transitions\n",
      "마종선 0 transitions\n",
      "박영호 0 transitions\n",
      "최정룡 0 transitions\n",
      "박창호 1 transitions\n",
      "량정훈 0 transitions\n"
     ]
    }
   ],
   "source": [
    "transitions = compile_leader_transitions(ljob)"
   ]
  },
  {
   "cell_type": "markdown",
   "id": "814a9c3d",
   "metadata": {},
   "source": [
    "#### add OrgAdvance, PositionAdvance variables"
   ]
  },
  {
   "cell_type": "code",
   "execution_count": 67,
   "id": "8c2c7d58",
   "metadata": {},
   "outputs": [],
   "source": [
    "transitions[\"OrgAdvance\"] = transitions.apply(lambda x: int(x[\"OrgRank_1\"]) - int(x[\"OrgRank_2\"]),axis=1)"
   ]
  },
  {
   "cell_type": "code",
   "execution_count": 68,
   "id": "56aee98a",
   "metadata": {},
   "outputs": [],
   "source": [
    "transitions[\"PositionAdvance\"] = transitions.apply(lambda x: int(x[\"PositionRank_1\"]) - int(x[\"PositionRank_2\"]),axis=1)"
   ]
  },
  {
   "cell_type": "markdown",
   "id": "99676d51",
   "metadata": {},
   "source": [
    "#### descriptive statistics"
   ]
  },
  {
   "cell_type": "code",
   "execution_count": 69,
   "id": "ac217a7d",
   "metadata": {},
   "outputs": [
    {
     "data": {
      "text/plain": [
       "444"
      ]
     },
     "execution_count": 69,
     "metadata": {},
     "output_type": "execute_result"
    }
   ],
   "source": [
    "# leaders with 1 or more job transition\n",
    "len(transitions.LeaderID.unique())"
   ]
  },
  {
   "cell_type": "code",
   "execution_count": 70,
   "id": "8d11321f",
   "metadata": {},
   "outputs": [
    {
     "data": {
      "text/plain": [
       "103"
      ]
     },
     "execution_count": 70,
     "metadata": {},
     "output_type": "execute_result"
    }
   ],
   "source": [
    "# leaders with only 1 job; excluded from analysis\n",
    "len(ljob.LeaderID.unique())-len(transitions.LeaderID.unique())"
   ]
  },
  {
   "cell_type": "code",
   "execution_count": 71,
   "id": "fa0a6c6b",
   "metadata": {},
   "outputs": [
    {
     "data": {
      "text/plain": [
       "(2868, 28)"
      ]
     },
     "execution_count": 71,
     "metadata": {},
     "output_type": "execute_result"
    }
   ],
   "source": [
    "# number of transitions\n",
    "transitions.shape"
   ]
  },
  {
   "cell_type": "code",
   "execution_count": 72,
   "id": "58540c09",
   "metadata": {},
   "outputs": [],
   "source": [
    "transition_counts = transitions.groupby(\"LeaderID\")[\"Position_1\"].count()"
   ]
  },
  {
   "cell_type": "code",
   "execution_count": 73,
   "id": "397e9988",
   "metadata": {},
   "outputs": [
    {
     "data": {
      "text/plain": [
       "1"
      ]
     },
     "execution_count": 73,
     "metadata": {},
     "output_type": "execute_result"
    }
   ],
   "source": [
    "min(transition_counts)"
   ]
  },
  {
   "cell_type": "code",
   "execution_count": 74,
   "id": "85dae03f",
   "metadata": {},
   "outputs": [
    {
     "data": {
      "text/plain": [
       "48"
      ]
     },
     "execution_count": 74,
     "metadata": {},
     "output_type": "execute_result"
    }
   ],
   "source": [
    "max(transition_counts)"
   ]
  },
  {
   "cell_type": "code",
   "execution_count": 75,
   "id": "4b907fea",
   "metadata": {},
   "outputs": [
    {
     "data": {
      "text/plain": [
       "6.45945945945946"
      ]
     },
     "execution_count": 75,
     "metadata": {},
     "output_type": "execute_result"
    }
   ],
   "source": [
    "mean(transition_counts)"
   ]
  },
  {
   "cell_type": "code",
   "execution_count": 76,
   "id": "20ac4048",
   "metadata": {},
   "outputs": [
    {
     "data": {
      "text/plain": [
       "1"
      ]
     },
     "execution_count": 76,
     "metadata": {},
     "output_type": "execute_result"
    }
   ],
   "source": [
    "mode(transition_counts)"
   ]
  },
  {
   "cell_type": "markdown",
   "id": "c0bbe9f4",
   "metadata": {},
   "source": [
    "#### frequency of leaders by # of job transitions"
   ]
  },
  {
   "cell_type": "code",
   "execution_count": 77,
   "id": "5d794552",
   "metadata": {},
   "outputs": [],
   "source": [
    "x_axis = []\n",
    "transition_count_distribution = []\n",
    "for i in range(0,max(transition_counts)+1):\n",
    "    pdf = sum([1 for count in transition_counts if count ==i])\n",
    "    # print(i,pdf)\n",
    "    x_axis.append(i) \n",
    "    transition_count_distribution.append(pdf)"
   ]
  },
  {
   "cell_type": "code",
   "execution_count": 78,
   "id": "c2bc65fd",
   "metadata": {},
   "outputs": [],
   "source": [
    "transition_count_freq = pd.DataFrame({\"Count\":x_axis,\"Frequency\":transition_count_distribution})"
   ]
  },
  {
   "cell_type": "code",
   "execution_count": 79,
   "id": "b930725e",
   "metadata": {},
   "outputs": [],
   "source": [
    "filename_transition_count_freq = \"transition_count_freq.xlsx\"\n",
    "transition_count_freq.to_excel(path_analysis + current_subpath + filename_transition_count_freq,index=False)"
   ]
  },
  {
   "cell_type": "code",
   "execution_count": null,
   "id": "101275ef",
   "metadata": {},
   "outputs": [],
   "source": []
  },
  {
   "cell_type": "markdown",
   "id": "29d3f7ab",
   "metadata": {},
   "source": [
    "# Export Query"
   ]
  },
  {
   "cell_type": "markdown",
   "id": "ea162613",
   "metadata": {},
   "source": [
    "#### format transitions query for export"
   ]
  },
  {
   "cell_type": "code",
   "execution_count": 80,
   "id": "988fe379",
   "metadata": {},
   "outputs": [
    {
     "data": {
      "text/plain": [
       "Index(['LeaderID', 'CareerString_1', 'CareerDateString_2022_1',\n",
       "       'CareerStartYear_1', 'CareerStartMonth_1', 'CareerStartDate_1',\n",
       "       'CareerSubstring_1', 'InstitutionType_1', 'PrimaryInstitution_1',\n",
       "       'OrgName_1', 'Position_1', 'OrgRank_1', 'PositionRank_1',\n",
       "       'CareerString_2', 'CareerDateString_2022_2', 'CareerStartYear_2',\n",
       "       'CareerStartMonth_2', 'CareerStartDate_2', 'CareerSubstring_2',\n",
       "       'InstitutionType_2', 'PrimaryInstitution_2', 'OrgName_2', 'Position_2',\n",
       "       'OrgRank_2', 'PositionRank_2', 'CareerStartDate_2_min', 'OrgAdvance',\n",
       "       'PositionAdvance'],\n",
       "      dtype='object')"
      ]
     },
     "execution_count": 80,
     "metadata": {},
     "output_type": "execute_result"
    }
   ],
   "source": [
    "transitions.columns"
   ]
  },
  {
   "cell_type": "code",
   "execution_count": 81,
   "id": "23717be7",
   "metadata": {},
   "outputs": [],
   "source": [
    "# omit CareerStartDate_2_min and any other fields we don't need\n",
    "\n",
    "transitions_columns = ['LeaderID', 'CareerString_1', 'CareerDateString_2022_1',\n",
    "       'CareerStartYear_1', 'CareerStartMonth_1', 'CareerStartDate_1',\n",
    "       'CareerSubstring_1', 'InstitutionType_1', 'PrimaryInstitution_1',\n",
    "        'OrgName_1', 'Position_1', 'OrgRank_1', 'PositionRank_1',\n",
    "        'CareerString_2', 'CareerDateString_2022_2', 'CareerStartYear_2',\n",
    "        'CareerStartMonth_2', 'CareerStartDate_2', 'CareerSubstring_2',\n",
    "        'InstitutionType_2', 'PrimaryInstitution_2', 'OrgName_2', 'Position_2',\n",
    "        'OrgRank_2', 'PositionRank_2','OrgAdvance','PositionAdvance']"
   ]
  },
  {
   "cell_type": "code",
   "execution_count": 82,
   "id": "7d53d756",
   "metadata": {},
   "outputs": [],
   "source": [
    "transitions = transitions[transitions_columns]"
   ]
  },
  {
   "cell_type": "markdown",
   "id": "c3373d9e",
   "metadata": {},
   "source": [
    "#### export query"
   ]
  },
  {
   "cell_type": "code",
   "execution_count": 83,
   "id": "2a11f5e1",
   "metadata": {},
   "outputs": [],
   "source": [
    "# refresh leaderjobtransition query\n",
    "transitions.to_excel(path_queries + filename_leaderjobtransition_alljobs,index=False)"
   ]
  },
  {
   "cell_type": "code",
   "execution_count": null,
   "id": "adaecdd4",
   "metadata": {},
   "outputs": [],
   "source": []
  }
 ],
 "metadata": {
  "kernelspec": {
   "display_name": "Python 3 (ipykernel)",
   "language": "python",
   "name": "python3"
  },
  "language_info": {
   "codemirror_mode": {
    "name": "ipython",
    "version": 3
   },
   "file_extension": ".py",
   "mimetype": "text/x-python",
   "name": "python",
   "nbconvert_exporter": "python",
   "pygments_lexer": "ipython3",
   "version": "3.11.0"
  }
 },
 "nbformat": 4,
 "nbformat_minor": 5
}
