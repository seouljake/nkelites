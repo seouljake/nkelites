{
 "cells": [
  {
   "cell_type": "code",
   "execution_count": 83,
   "id": "74698cf3",
   "metadata": {},
   "outputs": [],
   "source": [
    "import pandas as pd\n",
    "import numpy as np\n",
    "from datetime import date\n",
    "from statistics import mean, mode\n",
    "from pandas.api.types import CategoricalDtype\n",
    "import math\n",
    "from scipy.stats import norm"
   ]
  },
  {
   "cell_type": "code",
   "execution_count": 84,
   "id": "75aa1647",
   "metadata": {},
   "outputs": [
    {
     "name": "stdout",
     "output_type": "stream",
     "text": [
      "2024-02-10\n"
     ]
    }
   ],
   "source": [
    "today = date.today()\n",
    "print(today)"
   ]
  },
  {
   "cell_type": "markdown",
   "id": "aaf25c71",
   "metadata": {},
   "source": [
    "# Tables"
   ]
  },
  {
   "cell_type": "code",
   "execution_count": 85,
   "id": "f2c9c339",
   "metadata": {},
   "outputs": [],
   "source": [
    "path_tables = \"C:/Users/seoul/Dropbox/00 technical/github/nkelites/data/combined data/combined data - 2 tables/\""
   ]
  },
  {
   "cell_type": "code",
   "execution_count": 86,
   "id": "200fa7f5",
   "metadata": {},
   "outputs": [],
   "source": [
    "# tables\n",
    "filename_careerorglink = \"careerorglink.xlsx\"\n",
    "filename_leadercareerlink = \"leadercareerlink.xlsx\"\n",
    "filename_orgtree = \"orgtree.xlsx\"\n",
    "filename_elected = \"positions_elected.xlsx\""
   ]
  },
  {
   "cell_type": "code",
   "execution_count": 87,
   "id": "b7d9b165",
   "metadata": {
    "scrolled": true
   },
   "outputs": [],
   "source": [
    "# career-org link\n",
    "# col = pd.read_excel(path_tables + filename_careerorglink,dtype=\"str\")\n",
    "# col.shape"
   ]
  },
  {
   "cell_type": "code",
   "execution_count": 88,
   "id": "0bd17a8f",
   "metadata": {},
   "outputs": [],
   "source": [
    "# col.columns"
   ]
  },
  {
   "cell_type": "code",
   "execution_count": 89,
   "id": "4aa22e14",
   "metadata": {},
   "outputs": [],
   "source": [
    "# leader-career link\n",
    "# lcl = pd.read_excel(path_tables + filename_leadercareerlink,dtype=\"str\")\n",
    "# lcl.shape"
   ]
  },
  {
   "cell_type": "code",
   "execution_count": 90,
   "id": "ac0f5205",
   "metadata": {},
   "outputs": [],
   "source": [
    "# lcl.columns"
   ]
  },
  {
   "cell_type": "code",
   "execution_count": 91,
   "id": "44ba37bd",
   "metadata": {},
   "outputs": [],
   "source": [
    "# orgtree\n",
    "# org = pd.read_excel(path_tables + filename_orgtree,dtype=\"str\")\n",
    "# org.shape"
   ]
  },
  {
   "cell_type": "code",
   "execution_count": 92,
   "id": "05b6e3e8",
   "metadata": {},
   "outputs": [],
   "source": [
    "# org.columns"
   ]
  },
  {
   "cell_type": "code",
   "execution_count": 93,
   "id": "b93b05ba",
   "metadata": {},
   "outputs": [],
   "source": [
    "# elected = pd.read_excel(path_tables + filename_elected,dtype=\"str\")\n",
    "# elected.shape"
   ]
  },
  {
   "cell_type": "code",
   "execution_count": 94,
   "id": "011dfaa4",
   "metadata": {},
   "outputs": [],
   "source": [
    "# elected.columns"
   ]
  },
  {
   "cell_type": "markdown",
   "id": "52841326",
   "metadata": {},
   "source": [
    "# Queries"
   ]
  },
  {
   "cell_type": "code",
   "execution_count": 95,
   "id": "df5b44ce",
   "metadata": {},
   "outputs": [],
   "source": [
    "path_queries = \"C:/Users/seoul/Dropbox/00 technical/github/nkelites/data/combined data/combined data - 3 queries/\""
   ]
  },
  {
   "cell_type": "code",
   "execution_count": 96,
   "id": "4fa255b3",
   "metadata": {},
   "outputs": [],
   "source": [
    "filename_leaderjob_all = \"leaderjob_electUnelect_inOutgov.xlsx\"\n",
    "filename_leaderjob_no_spa = \"leaderjob_no_spa.xlsx\"\n",
    "filename_leaderjobtransition_no_spa = \"leaderjobtransition_no_spa.xlsx\""
   ]
  },
  {
   "cell_type": "code",
   "execution_count": 97,
   "id": "45955b23",
   "metadata": {},
   "outputs": [],
   "source": [
    "# leader jobs\n",
    "# ljobs_all = pd.read_excel(path_queries + filename_leaderjob_all,dtype=\"str\")\n",
    "# ljobs_all.shape"
   ]
  },
  {
   "cell_type": "code",
   "execution_count": 98,
   "id": "96354cc9",
   "metadata": {},
   "outputs": [],
   "source": [
    "# ljobs = pd.read_excel(path_queries + filename_leaderjob_no_spa,dtype=\"str\")\n",
    "# ljobs.shape"
   ]
  },
  {
   "cell_type": "code",
   "execution_count": 99,
   "id": "31cb5cd4",
   "metadata": {},
   "outputs": [
    {
     "data": {
      "text/plain": [
       "(4306, 31)"
      ]
     },
     "execution_count": 99,
     "metadata": {},
     "output_type": "execute_result"
    }
   ],
   "source": [
    "# transitions used for analysis - no SPA - no local-local\n",
    "trans = pd.read_excel(path_queries + filename_leaderjobtransition_no_spa,dtype=\"str\")\n",
    "trans.shape"
   ]
  },
  {
   "cell_type": "markdown",
   "id": "16c49e74",
   "metadata": {},
   "source": [
    "# Analysis - Research Note"
   ]
  },
  {
   "cell_type": "code",
   "execution_count": 100,
   "id": "39648498",
   "metadata": {},
   "outputs": [],
   "source": [
    "path_analysis = \"C:/Users/seoul/Dropbox/00 technical/github/nkelites/analysis/\""
   ]
  },
  {
   "cell_type": "code",
   "execution_count": 101,
   "id": "72a5cd0f",
   "metadata": {},
   "outputs": [],
   "source": [
    "# analysis sub-paths\n",
    "study0_path = \"2023.10.04 Study 0 - research note/\"\n",
    "study1_path = \"2023.10.04 Study 1 - political capital/\"\n",
    "study2_path = \"2023.10.04 Study 2 - commitment vs control/\"\n",
    "study3_path = \"2023.10.04 Study 3 - reds vs experts/\""
   ]
  },
  {
   "cell_type": "code",
   "execution_count": 102,
   "id": "27470b4e",
   "metadata": {},
   "outputs": [],
   "source": [
    "# ljobs = ljobs.astype({\"CareerStartYear\":\"int\",\"CareerStartDate\":\"int\"})\n",
    "# ljobs.dtypes"
   ]
  },
  {
   "cell_type": "markdown",
   "id": "7d59db9d",
   "metadata": {},
   "source": [
    "# Functions"
   ]
  },
  {
   "cell_type": "code",
   "execution_count": 103,
   "id": "ba5de424",
   "metadata": {},
   "outputs": [],
   "source": [
    "def merge_results(m):\n",
    "    \n",
    "    print(\"\\nMerge Results...\")\n",
    "    print(\"\")\n",
    "    print(\"\\tshape     :\",m.shape)\n",
    "    print(\"\\tleft_only :\",m[m[\"_merge\"]==\"left_only\"].shape)\n",
    "    print(\"\\tboth      :\",m[m[\"_merge\"]==\"both\"].shape)\n",
    "    print(\"\\tright_only:\",m[m[\"_merge\"]==\"right_only\"].shape)"
   ]
  },
  {
   "cell_type": "code",
   "execution_count": 104,
   "id": "d3411709",
   "metadata": {},
   "outputs": [],
   "source": [
    "# using this on (PI,OrgName) will ensure unique & non-null keys\n",
    "# using this on a larger df will ensure unique rows and non-null keys, but not unique keys\n",
    "\n",
    "def unique_non_null_rows(olddf):\n",
    "    \n",
    "    df = olddf.copy()\n",
    "    \n",
    "    \n",
    "    ### drop duplicates\n",
    "    df = df.drop_duplicates(keep=\"first\",ignore_index=True)\n",
    "\n",
    "    ### drop null rows\n",
    "    df.dropna(how=\"all\",axis=0,inplace=True)\n",
    "    \n",
    "    # drop rows with null PI\n",
    "    df = df[~(df[\"PrimaryInstitution\"].isna())]\n",
    "        \n",
    "    ### drop rows where PI contains stop words\n",
    "    stop_words_lower = [\"uncertain\",\"current\",\"deprecated\",\"please_revise\"]\n",
    "    df = df[ ~ df[\"PrimaryInstitution\"].str.lower().isin(stop_words_lower)]\n",
    "            \n",
    "\n",
    "    print(\"\\nUnique Non-null Rows...\")\n",
    "    print(\"\")\n",
    "    print(\"\\tNon-unique rows:\",olddf.shape)\n",
    "    print(\"\\tUnique rows    :\",df.shape)\n",
    "\n",
    "    ### sort\n",
    "    df = df.sort_values([\"PrimaryInstitution\",\"OrgName\"])\n",
    "    \n",
    "    return df"
   ]
  },
  {
   "cell_type": "code",
   "execution_count": 105,
   "id": "945f13c9",
   "metadata": {},
   "outputs": [],
   "source": [
    "def create_time_series(series,group_var,count_var):\n",
    "    \n",
    "    yeardist = series.groupby(group_var,as_index=False).count().sort_values(group_var)\n",
    "    \n",
    "    max_year = max(series[group_var])\n",
    "    x = pd.DataFrame({\"year\":pd.Series(range(min(yeardist[group_var].astype(int)),max(yeardist[group_var].astype(int))+1))})\n",
    "    \n",
    "    yeardist[group_var] = yeardist[group_var].astype(int,errors=\"ignore\")\n",
    "    \n",
    "    ts = x.merge(yeardist,left_on=\"year\",right_on=group_var,how=\"left\")\n",
    "    ts.loc[ts[count_var].isna(),count_var]=0\n",
    "    # merge_results(ts)\n",
    "    \n",
    "    ts_columns = [\"year\",count_var]\n",
    "    ts = ts[ts_columns]\n",
    "    \n",
    "    return ts"
   ]
  },
  {
   "cell_type": "code",
   "execution_count": 106,
   "id": "fb9d2ff8",
   "metadata": {},
   "outputs": [],
   "source": [
    "# create InstitutionCategory (English) variable InstitutionType\n",
    "\n",
    "# use with apply. e.g., \n",
    "# df[\"InstitutionCategory] = df[\"InstitutionType\"].apply(define_institution_category)\n",
    "\n",
    "def define_institution_category(PI):\n",
    "    \n",
    "    c = \"Social\"\n",
    "    \n",
    "    if PI==\"정권기관\":\n",
    "        c = \"Government\"\n",
    "    elif PI==\"노동당\":\n",
    "        c = \"Party\"\n",
    "    elif PI==\"인민군\":\n",
    "        c = \"Military\"\n",
    "        \n",
    "    return c"
   ]
  },
  {
   "cell_type": "code",
   "execution_count": 107,
   "id": "ffc5547a",
   "metadata": {},
   "outputs": [],
   "source": [
    "def two_sample_ttest_proportions(x1,x2,n1,n2,alpha):\n",
    "    \n",
    "    pstar = (x1+x2)/(n1+n2)\n",
    "    p1 = x1/n1\n",
    "    p2 = x2/n2\n",
    "    z = (p1-p2) / math.sqrt(pstar*(1-pstar)*((1/n1) + (1/n2)))\n",
    "    pvalue = 1-norm.cdf(abs(z))\n",
    "    \n",
    "    # add significance stars to result\n",
    "    stars = \"\"\n",
    "    if pvalue<.05:\n",
    "        stars = \"*\"\n",
    "    if pvalue<.01:\n",
    "        stars = \"**\"\n",
    "    if pvalue<.001:\n",
    "        stars = \"***\"\n",
    "    result = str(pvalue)+stars\n",
    "    \n",
    "    print(\"p1:\\t\",p1)\n",
    "    print(\"p2:\\t\",p2)\n",
    "    print(\"p1-p2:\\t\",(p1-p2))\n",
    "    print(\"z:\\t\",z)\n",
    "    print(\"pvalue:\\t\",result)"
   ]
  },
  {
   "cell_type": "code",
   "execution_count": 108,
   "id": "234a245b",
   "metadata": {},
   "outputs": [],
   "source": [
    "# apply two_sample_ttest_proportions across categories\n",
    "# InstitutionCategory_1\n",
    "\n",
    "def ttest_by_institution_category(ics,stat,between_row,within_row,period1_col,period2_col):\n",
    "        \n",
    "    for ic in ics:\n",
    "\n",
    "        print(\"\\n\\n\",ic,\"\\n\\n\")\n",
    "\n",
    "        stat_ic = stat[stat.InstitutionCategory_1==ic]\n",
    "\n",
    "        # two-sample ttest of proportions: p(between PI trans in s1) > p(between PI trans in s2)\n",
    "        x1 = stat_ic.iloc[period1_col,between_row]\n",
    "        n1 = stat_ic.iloc[period1_col,between_row] + stat_ic.iloc[period1_col,within_row]\n",
    "        x2 = stat_ic.iloc[period2_col,between_row]\n",
    "        n2 = stat_ic.iloc[period2_col,between_row] + stat_ic.iloc[period2_col,within_row]\n",
    "        alpha = .05\n",
    "        print(x1,x2,n1,n2,alpha)\n",
    "        two_sample_ttest_proportions(x1,x2,n1,n2,alpha)"
   ]
  },
  {
   "cell_type": "code",
   "execution_count": 177,
   "id": "8093c46b",
   "metadata": {},
   "outputs": [],
   "source": [
    "# apply two_sample_ttest_proportions across categories\n",
    "# InstitutionCategory_2\n",
    "\n",
    "def ttest_by_institution_category_2(ics,stat,between_row,within_row,period1_col,period2_col):\n",
    "        \n",
    "    for ic in ics:\n",
    "\n",
    "        print(\"\\n\\n\",ic,\"\\n\\n\")\n",
    "\n",
    "        stat_ic = stat[stat.InstitutionCategory_2==ic]\n",
    "\n",
    "        # two-sample ttest of proportions: p(between PI trans in s1) > p(between PI trans in s2)\n",
    "        x1 = stat_ic.iloc[period1_col,between_row]\n",
    "        n1 = stat_ic.iloc[period1_col,between_row] + stat_ic.iloc[period1_col,within_row]\n",
    "        x2 = stat_ic.iloc[period2_col,between_row]\n",
    "        n2 = stat_ic.iloc[period2_col,between_row] + stat_ic.iloc[period2_col,within_row]\n",
    "        alpha = .05\n",
    "        print(x1,x2,n1,n2,alpha)\n",
    "        two_sample_ttest_proportions(x1,x2,n1,n2,alpha)"
   ]
  },
  {
   "cell_type": "markdown",
   "id": "224feffb",
   "metadata": {},
   "source": [
    "# Format & Covariates"
   ]
  },
  {
   "cell_type": "markdown",
   "id": "7178064f",
   "metadata": {},
   "source": [
    "### 0. change datatypes"
   ]
  },
  {
   "cell_type": "code",
   "execution_count": 109,
   "id": "b22117ac",
   "metadata": {},
   "outputs": [
    {
     "data": {
      "text/plain": [
       "LeaderID                   object\n",
       "CareerString_1             object\n",
       "CareerDateString_2022_1    object\n",
       "CareerStartYear_1           int32\n",
       "CareerStartMonth_1         object\n",
       "CareerStartDate_1           int32\n",
       "CareerSubstring_1          object\n",
       "InstitutionType_1          object\n",
       "PrimaryInstitution_1       object\n",
       "OrgName_1                  object\n",
       "Local_1                    object\n",
       "Position_1                 object\n",
       "IsElected_1                object\n",
       "OrgRank_1                  object\n",
       "PositionRank_1             object\n",
       "CareerString_2             object\n",
       "CareerDateString_2022_2    object\n",
       "CareerStartYear_2           int32\n",
       "CareerStartMonth_2         object\n",
       "CareerStartDate_2           int32\n",
       "CareerSubstring_2          object\n",
       "InstitutionType_2          object\n",
       "PrimaryInstitution_2       object\n",
       "OrgName_2                  object\n",
       "Local_2                    object\n",
       "Position_2                 object\n",
       "IsElected_2                object\n",
       "OrgRank_2                  object\n",
       "PositionRank_2             object\n",
       "OrgAdvance                  int32\n",
       "PositionAdvance             int32\n",
       "dtype: object"
      ]
     },
     "execution_count": 109,
     "metadata": {},
     "output_type": "execute_result"
    }
   ],
   "source": [
    "trans = trans.astype({\"OrgAdvance\":\"int\",\"PositionAdvance\":\"int\",\n",
    "                      \"CareerStartYear_1\":\"int\",\"CareerStartYear_2\":\"int\",\n",
    "                      \"CareerStartDate_1\":\"int\",\"CareerStartDate_2\":\"int\"})\n",
    "trans.dtypes"
   ]
  },
  {
   "cell_type": "markdown",
   "id": "6d0fa0f4",
   "metadata": {},
   "source": [
    "### 1. double-check exlcudes SPA jobs and local-local trans"
   ]
  },
  {
   "cell_type": "code",
   "execution_count": 110,
   "id": "93f690ba",
   "metadata": {},
   "outputs": [
    {
     "data": {
      "text/plain": [
       "Index(['LeaderID', 'CareerString_1', 'CareerDateString_2022_1',\n",
       "       'CareerStartYear_1', 'CareerStartMonth_1', 'CareerStartDate_1',\n",
       "       'CareerSubstring_1', 'InstitutionType_1', 'PrimaryInstitution_1',\n",
       "       'OrgName_1', 'Local_1', 'Position_1', 'IsElected_1', 'OrgRank_1',\n",
       "       'PositionRank_1', 'CareerString_2', 'CareerDateString_2022_2',\n",
       "       'CareerStartYear_2', 'CareerStartMonth_2', 'CareerStartDate_2',\n",
       "       'CareerSubstring_2', 'InstitutionType_2', 'PrimaryInstitution_2',\n",
       "       'OrgName_2', 'Local_2', 'Position_2', 'IsElected_2', 'OrgRank_2',\n",
       "       'PositionRank_2', 'OrgAdvance', 'PositionAdvance'],\n",
       "      dtype='object')"
      ]
     },
     "execution_count": 110,
     "metadata": {},
     "output_type": "execute_result"
    }
   ],
   "source": [
    "trans.columns"
   ]
  },
  {
   "cell_type": "code",
   "execution_count": 111,
   "id": "6ae6e6c4",
   "metadata": {},
   "outputs": [
    {
     "data": {
      "text/plain": [
       "(4306, 31)"
      ]
     },
     "execution_count": 111,
     "metadata": {},
     "output_type": "execute_result"
    }
   ],
   "source": [
    "trans.shape"
   ]
  },
  {
   "cell_type": "code",
   "execution_count": 112,
   "id": "d79f24b1",
   "metadata": {},
   "outputs": [
    {
     "data": {
      "text/plain": [
       "array(['False', 'True'], dtype=object)"
      ]
     },
     "execution_count": 112,
     "metadata": {},
     "output_type": "execute_result"
    }
   ],
   "source": [
    "trans.Local_1.unique()"
   ]
  },
  {
   "cell_type": "code",
   "execution_count": 113,
   "id": "26322931",
   "metadata": {},
   "outputs": [
    {
     "data": {
      "text/plain": [
       "(4222, 31)"
      ]
     },
     "execution_count": 113,
     "metadata": {},
     "output_type": "execute_result"
    }
   ],
   "source": [
    "# remove Local-Local ties\n",
    "trans = trans[~((trans[\"Local_1\"]==\"True\") & (trans[\"Local_2\"]==\"True\"))]\n",
    "trans.shape"
   ]
  },
  {
   "cell_type": "markdown",
   "id": "89b8005e",
   "metadata": {},
   "source": [
    "### 2. add InstitutionCategory_1, InstitutionCategory_2"
   ]
  },
  {
   "cell_type": "code",
   "execution_count": 114,
   "id": "2c23bb5d",
   "metadata": {},
   "outputs": [
    {
     "data": {
      "text/plain": [
       "array(['정권기관', '국제친선단체', '노동당', '인민군', '당외곽및사회단체_사회부문(별책)',\n",
       "       '당외곽및사회단체_사회부문', '당외곽및사회단체_체육부문', '당외곽및사회단체_정치부문', '당외곽및사회단체_대외부문',\n",
       "       '당외곽및사회단체_근로단체', '당외곽및사회단체_종교부문', '당외곽및사회단체_경제부문(별책)',\n",
       "       '당외곽및사회단체_경제부문'], dtype=object)"
      ]
     },
     "execution_count": 114,
     "metadata": {},
     "output_type": "execute_result"
    }
   ],
   "source": [
    "trans.InstitutionType_1.unique()"
   ]
  },
  {
   "cell_type": "markdown",
   "id": "85a5450f",
   "metadata": {},
   "source": [
    "### 3. PISame, OrgSame"
   ]
  },
  {
   "cell_type": "code",
   "execution_count": 115,
   "id": "fa61b250",
   "metadata": {},
   "outputs": [
    {
     "data": {
      "text/plain": [
       "Index(['LeaderID', 'CareerString_1', 'CareerDateString_2022_1',\n",
       "       'CareerStartYear_1', 'CareerStartMonth_1', 'CareerStartDate_1',\n",
       "       'CareerSubstring_1', 'InstitutionType_1', 'PrimaryInstitution_1',\n",
       "       'OrgName_1', 'Local_1', 'Position_1', 'IsElected_1', 'OrgRank_1',\n",
       "       'PositionRank_1', 'CareerString_2', 'CareerDateString_2022_2',\n",
       "       'CareerStartYear_2', 'CareerStartMonth_2', 'CareerStartDate_2',\n",
       "       'CareerSubstring_2', 'InstitutionType_2', 'PrimaryInstitution_2',\n",
       "       'OrgName_2', 'Local_2', 'Position_2', 'IsElected_2', 'OrgRank_2',\n",
       "       'PositionRank_2', 'OrgAdvance', 'PositionAdvance'],\n",
       "      dtype='object')"
      ]
     },
     "execution_count": 115,
     "metadata": {},
     "output_type": "execute_result"
    }
   ],
   "source": [
    "trans.columns"
   ]
  },
  {
   "cell_type": "code",
   "execution_count": 116,
   "id": "c948f887",
   "metadata": {},
   "outputs": [
    {
     "data": {
      "text/plain": [
       "array([False,  True])"
      ]
     },
     "execution_count": 116,
     "metadata": {},
     "output_type": "execute_result"
    }
   ],
   "source": [
    "trans[\"PISame\"] = False\n",
    "trans.loc[trans[\"PrimaryInstitution_1\"]==trans[\"PrimaryInstitution_2\"],[\"PISame\"]] = True\n",
    "trans.PISame.unique()"
   ]
  },
  {
   "cell_type": "code",
   "execution_count": 117,
   "id": "4ee35bbd",
   "metadata": {},
   "outputs": [
    {
     "data": {
      "text/plain": [
       "array([nan, True, False], dtype=object)"
      ]
     },
     "execution_count": 117,
     "metadata": {},
     "output_type": "execute_result"
    }
   ],
   "source": [
    "trans[\"OrgSame\"] = np.nan\n",
    "trans.loc[trans[\"PISame\"]==True,\"OrgSame\"] = False\n",
    "trans.loc[(trans[\"PISame\"]==True) & (trans[\"OrgName_1\"]==trans[\"OrgName_2\"]),[\"OrgSame\"]] = True\n",
    "trans.OrgSame.unique()"
   ]
  },
  {
   "cell_type": "markdown",
   "id": "2c1d7604",
   "metadata": {},
   "source": [
    "### 4. OrgRankChange, PositionRankChange"
   ]
  },
  {
   "cell_type": "code",
   "execution_count": 118,
   "id": "6d952efc",
   "metadata": {},
   "outputs": [],
   "source": [
    "trans[\"OrgRankChange\"] = np.nan"
   ]
  },
  {
   "cell_type": "code",
   "execution_count": 119,
   "id": "7b8ad44b",
   "metadata": {},
   "outputs": [],
   "source": [
    "trans.loc[trans[\"PISame\"] & (trans[\"OrgRank_1\"]>trans[\"OrgRank_2\"]),\"OrgRankChange\"] = \"lower\"\n",
    "trans.loc[trans[\"PISame\"] & (trans[\"OrgRank_1\"]==trans[\"OrgRank_2\"]),\"OrgRankChange\"] = \"same\"\n",
    "trans.loc[trans[\"PISame\"] & (trans[\"OrgRank_1\"]<trans[\"OrgRank_2\"]),\"OrgRankChange\"] = \"higher\""
   ]
  },
  {
   "cell_type": "code",
   "execution_count": 120,
   "id": "a9670361",
   "metadata": {},
   "outputs": [],
   "source": [
    "value_order = [\"lower\",\"same\",\"higher\"]\n",
    "trans.OrgRankChange = trans.OrgRankChange.astype(\"category\")\n",
    "trans.OrgRankChange = trans.OrgRankChange.cat.set_categories(value_order)"
   ]
  },
  {
   "cell_type": "code",
   "execution_count": 121,
   "id": "f6419f47",
   "metadata": {},
   "outputs": [
    {
     "data": {
      "text/plain": [
       "[NaN, 'same', 'higher', 'lower']\n",
       "Categories (3, object): ['lower', 'same', 'higher']"
      ]
     },
     "execution_count": 121,
     "metadata": {},
     "output_type": "execute_result"
    }
   ],
   "source": [
    "trans.OrgRankChange.unique()"
   ]
  },
  {
   "cell_type": "code",
   "execution_count": 122,
   "id": "2a902ad9",
   "metadata": {},
   "outputs": [],
   "source": [
    "trans[\"PositionRankChange\"] = np.nan"
   ]
  },
  {
   "cell_type": "code",
   "execution_count": 123,
   "id": "8aef237c",
   "metadata": {},
   "outputs": [],
   "source": [
    "# PositionRankChange, narrowly defined, with OrgSame=True\n",
    "# trans.loc[trans[\"OrgSame\"] & (trans[\"PositionRank_1\"]>trans[\"PositionRank_2\"]),\"PositionRankChange\"] = \"lower\"\n",
    "# trans.loc[trans[\"OrgSame\"] & (trans[\"PositionRank_1\"]==trans[\"PositionRank_2\"]),\"PositionRankChange\"] = \"same\"\n",
    "# trans.loc[trans[\"OrgSame\"] & (trans[\"PositionRank_1\"]<trans[\"PositionRank_2\"]),\"PositionRankChange\"] = \"higher\""
   ]
  },
  {
   "cell_type": "code",
   "execution_count": 124,
   "id": "13eac360",
   "metadata": {},
   "outputs": [],
   "source": [
    "# PositionRankChange, broadly defined, with PISame=True & OrgRankChange=\"same\"\n",
    "trans.loc[trans[\"PISame\"] & trans[\"OrgRankChange\"].isin([\"same\"]) & (trans[\"PositionRank_1\"]>trans[\"PositionRank_2\"]),\"PositionRankChange\"] = \"lower\"\n",
    "trans.loc[trans[\"PISame\"] & trans[\"OrgRankChange\"].isin([\"same\"]) & (trans[\"PositionRank_1\"]==trans[\"PositionRank_2\"]),\"PositionRankChange\"] = \"same\"\n",
    "trans.loc[trans[\"PISame\"] & trans[\"OrgRankChange\"].isin([\"same\"]) & (trans[\"PositionRank_1\"]<trans[\"PositionRank_2\"]),\"PositionRankChange\"] = \"higher\""
   ]
  },
  {
   "cell_type": "code",
   "execution_count": 125,
   "id": "5e716cc8",
   "metadata": {},
   "outputs": [],
   "source": [
    "value_order = [\"lower\",\"same\",\"higher\"]\n",
    "trans.PositionRankChange = trans.PositionRankChange.astype(\"category\")\n",
    "trans.PositionRankChange = trans.PositionRankChange.cat.set_categories(value_order)"
   ]
  },
  {
   "cell_type": "code",
   "execution_count": 126,
   "id": "404e6562",
   "metadata": {},
   "outputs": [
    {
     "data": {
      "text/plain": [
       "[NaN, 'same', 'higher', 'lower']\n",
       "Categories (3, object): ['lower', 'same', 'higher']"
      ]
     },
     "execution_count": 126,
     "metadata": {},
     "output_type": "execute_result"
    }
   ],
   "source": [
    "trans.PositionRankChange.unique()"
   ]
  },
  {
   "cell_type": "markdown",
   "id": "b9d6f5ef",
   "metadata": {},
   "source": [
    "### 5. Succession Period - Broad\n",
    "\n",
    "* KIS-->KJI: 1974-1993 - less institutionalized (stronger intra)\n",
    "* KJI--->KJU:  2002-2011 - more institutionalized (stronger inter)"
   ]
  },
  {
   "cell_type": "code",
   "execution_count": 127,
   "id": "85574772",
   "metadata": {},
   "outputs": [],
   "source": [
    "trans[\"Succession_Broad\"] = np.nan"
   ]
  },
  {
   "cell_type": "code",
   "execution_count": 128,
   "id": "4e61e921",
   "metadata": {},
   "outputs": [],
   "source": [
    "value_order = [\"KIS to KJI\",\"KJI to KJU\"]\n",
    "trans.Succession_Broad = trans.Succession_Broad.astype(\"category\")\n",
    "trans.Succession_Broad = trans.Succession_Broad.cat.set_categories(value_order)"
   ]
  },
  {
   "cell_type": "code",
   "execution_count": 129,
   "id": "4b01e6b8",
   "metadata": {},
   "outputs": [],
   "source": [
    "trans.loc[(trans[\"CareerStartYear_2\"]>1973) & (trans[\"CareerStartYear_2\"]<1994),\"Succession_Broad\"] = \"KIS to KJI\"\n",
    "trans.loc[(trans[\"CareerStartYear_2\"]>2001) & (trans[\"CareerStartYear_2\"]<2012),\"Succession_Broad\"] = \"KJI to KJU\""
   ]
  },
  {
   "cell_type": "code",
   "execution_count": 130,
   "id": "99b41611",
   "metadata": {},
   "outputs": [
    {
     "data": {
      "text/html": [
       "<div>\n",
       "<style scoped>\n",
       "    .dataframe tbody tr th:only-of-type {\n",
       "        vertical-align: middle;\n",
       "    }\n",
       "\n",
       "    .dataframe tbody tr th {\n",
       "        vertical-align: top;\n",
       "    }\n",
       "\n",
       "    .dataframe thead th {\n",
       "        text-align: right;\n",
       "    }\n",
       "</style>\n",
       "<table border=\"1\" class=\"dataframe\">\n",
       "  <thead>\n",
       "    <tr style=\"text-align: right;\">\n",
       "      <th></th>\n",
       "      <th>Succession_Broad</th>\n",
       "      <th>OrgName_2</th>\n",
       "    </tr>\n",
       "  </thead>\n",
       "  <tbody>\n",
       "    <tr>\n",
       "      <th>0</th>\n",
       "      <td>KIS to KJI</td>\n",
       "      <td>674</td>\n",
       "    </tr>\n",
       "    <tr>\n",
       "      <th>1</th>\n",
       "      <td>KJI to KJU</td>\n",
       "      <td>648</td>\n",
       "    </tr>\n",
       "  </tbody>\n",
       "</table>\n",
       "</div>"
      ],
      "text/plain": [
       "  Succession_Broad  OrgName_2\n",
       "0       KIS to KJI        674\n",
       "1       KJI to KJU        648"
      ]
     },
     "execution_count": 130,
     "metadata": {},
     "output_type": "execute_result"
    }
   ],
   "source": [
    "trans[[\"Succession_Broad\",\"OrgName_2\"]].groupby(\"Succession_Broad\",as_index=False).count()"
   ]
  },
  {
   "cell_type": "code",
   "execution_count": 131,
   "id": "2a42e205",
   "metadata": {},
   "outputs": [
    {
     "data": {
      "text/plain": [
       "34      1977\n",
       "35      1977\n",
       "36      1979\n",
       "37      1980\n",
       "38      1982\n",
       "        ... \n",
       "3805    1980\n",
       "3934    1993\n",
       "4285    1977\n",
       "4286    1980\n",
       "4287    1990\n",
       "Name: CareerStartYear_2, Length: 1006, dtype: int32"
      ]
     },
     "execution_count": 131,
     "metadata": {},
     "output_type": "execute_result"
    }
   ],
   "source": [
    "trans.loc[trans[\"Succession_Broad\"]==\"KIS to KJI\",\"CareerStartYear_2\"]"
   ]
  },
  {
   "cell_type": "markdown",
   "id": "6bd80638",
   "metadata": {},
   "source": [
    "### 6. Succession Period - Narrow\n",
    "\n",
    "#### Esther's periodization\n",
    "* KIS-->KJI: 1987-1994 - less institutionalized (stronger intra)\n",
    "* KJI--->KJU:  2009-2011 - more institutionalized (stronger inter)"
   ]
  },
  {
   "cell_type": "code",
   "execution_count": 132,
   "id": "c304d6bb",
   "metadata": {},
   "outputs": [],
   "source": [
    "trans[\"Succession_Narrow\"] = np.nan"
   ]
  },
  {
   "cell_type": "code",
   "execution_count": 133,
   "id": "5b98cedb",
   "metadata": {},
   "outputs": [],
   "source": [
    "value_order = [\"KIS to KJI\",\"KJI to KJU\"]\n",
    "trans.Succession_Narrow = trans.Succession_Narrow.astype(\"category\")\n",
    "trans.Succession_Narrow = trans.Succession_Narrow.cat.set_categories(value_order)"
   ]
  },
  {
   "cell_type": "code",
   "execution_count": 134,
   "id": "f68822a7",
   "metadata": {},
   "outputs": [],
   "source": [
    "### Esther's periodization\n",
    "\n",
    "trans.loc[(trans[\"CareerStartYear_2\"]>1986) & (trans[\"CareerStartYear_2\"]<1995),\"Succession_Narrow\"] = \"KIS to KJI\"\n",
    "trans.loc[(trans[\"CareerStartYear_2\"]>2008) & (trans[\"CareerStartYear_2\"]<2012),\"Succession_Narrow\"] = \"KJI to KJU\""
   ]
  },
  {
   "cell_type": "code",
   "execution_count": 135,
   "id": "0cff7789",
   "metadata": {
    "scrolled": false
   },
   "outputs": [
    {
     "data": {
      "text/html": [
       "<div>\n",
       "<style scoped>\n",
       "    .dataframe tbody tr th:only-of-type {\n",
       "        vertical-align: middle;\n",
       "    }\n",
       "\n",
       "    .dataframe tbody tr th {\n",
       "        vertical-align: top;\n",
       "    }\n",
       "\n",
       "    .dataframe thead th {\n",
       "        text-align: right;\n",
       "    }\n",
       "</style>\n",
       "<table border=\"1\" class=\"dataframe\">\n",
       "  <thead>\n",
       "    <tr style=\"text-align: right;\">\n",
       "      <th></th>\n",
       "      <th>Succession_Narrow</th>\n",
       "      <th>OrgName_2</th>\n",
       "    </tr>\n",
       "  </thead>\n",
       "  <tbody>\n",
       "    <tr>\n",
       "      <th>0</th>\n",
       "      <td>KIS to KJI</td>\n",
       "      <td>323</td>\n",
       "    </tr>\n",
       "    <tr>\n",
       "      <th>1</th>\n",
       "      <td>KJI to KJU</td>\n",
       "      <td>383</td>\n",
       "    </tr>\n",
       "  </tbody>\n",
       "</table>\n",
       "</div>"
      ],
      "text/plain": [
       "  Succession_Narrow  OrgName_2\n",
       "0        KIS to KJI        323\n",
       "1        KJI to KJU        383"
      ]
     },
     "execution_count": 135,
     "metadata": {},
     "output_type": "execute_result"
    }
   ],
   "source": [
    "trans[[\"Succession_Narrow\",\"OrgName_2\"]].groupby(\"Succession_Narrow\",as_index=False).count()"
   ]
  },
  {
   "cell_type": "markdown",
   "id": "643ed226",
   "metadata": {},
   "source": [
    "### 7. OrgAdvanceYes"
   ]
  },
  {
   "cell_type": "code",
   "execution_count": 136,
   "id": "3f8ba5c4",
   "metadata": {},
   "outputs": [],
   "source": [
    "trans[\"OrgAdvanceYes\"] = np.nan"
   ]
  },
  {
   "cell_type": "code",
   "execution_count": 137,
   "id": "0619d3cd",
   "metadata": {},
   "outputs": [],
   "source": [
    "trans.loc[trans[\"PISame\"]==True,\"OrgAdvanceYes\"] = False\n",
    "trans.loc[trans[\"PISame\"]==True & (trans[\"OrgRank_1\"]>trans[\"OrgRank_2\"]),\"OrgAdvanceYes\"] = True"
   ]
  },
  {
   "cell_type": "markdown",
   "id": "600161bf",
   "metadata": {},
   "source": [
    "### 8. PositionAdvanceYes"
   ]
  },
  {
   "cell_type": "code",
   "execution_count": 138,
   "id": "e3cec35f",
   "metadata": {},
   "outputs": [],
   "source": [
    "trans[\"PositionAdvanceYes\"] = np.nan"
   ]
  },
  {
   "cell_type": "code",
   "execution_count": 139,
   "id": "83dcc4a2",
   "metadata": {},
   "outputs": [],
   "source": [
    "trans.loc[trans[\"OrgSame\"]==True,\"PositionAdvanceYes\"] = False\n",
    "trans.loc[trans[\"OrgSame\"]==True & (trans[\"PositionRank_1\"]>trans[\"PositionRank_2\"]),\"PositionAdvanceYes\"] = True"
   ]
  },
  {
   "cell_type": "markdown",
   "id": "e30c43d6",
   "metadata": {},
   "source": [
    "### 9. InstitutionCategory"
   ]
  },
  {
   "cell_type": "code",
   "execution_count": 140,
   "id": "41b7f5f4",
   "metadata": {},
   "outputs": [
    {
     "data": {
      "text/plain": [
       "Index(['LeaderID', 'CareerString_1', 'CareerDateString_2022_1',\n",
       "       'CareerStartYear_1', 'CareerStartMonth_1', 'CareerStartDate_1',\n",
       "       'CareerSubstring_1', 'InstitutionType_1', 'PrimaryInstitution_1',\n",
       "       'OrgName_1', 'Local_1', 'Position_1', 'IsElected_1', 'OrgRank_1',\n",
       "       'PositionRank_1', 'CareerString_2', 'CareerDateString_2022_2',\n",
       "       'CareerStartYear_2', 'CareerStartMonth_2', 'CareerStartDate_2',\n",
       "       'CareerSubstring_2', 'InstitutionType_2', 'PrimaryInstitution_2',\n",
       "       'OrgName_2', 'Local_2', 'Position_2', 'IsElected_2', 'OrgRank_2',\n",
       "       'PositionRank_2', 'OrgAdvance', 'PositionAdvance', 'PISame', 'OrgSame',\n",
       "       'OrgRankChange', 'PositionRankChange', 'Succession_Broad',\n",
       "       'Succession_Narrow', 'OrgAdvanceYes', 'PositionAdvanceYes'],\n",
       "      dtype='object')"
      ]
     },
     "execution_count": 140,
     "metadata": {},
     "output_type": "execute_result"
    }
   ],
   "source": [
    "trans.columns"
   ]
  },
  {
   "cell_type": "code",
   "execution_count": 141,
   "id": "3e2cb6fe",
   "metadata": {},
   "outputs": [],
   "source": [
    "trans[\"InstitutionCategory_1\"] = trans[\"InstitutionType_1\"].apply(define_institution_category)\n",
    "trans[\"InstitutionCategory_2\"] = trans[\"InstitutionType_2\"].apply(define_institution_category)"
   ]
  },
  {
   "cell_type": "markdown",
   "id": "be34784d",
   "metadata": {},
   "source": [
    "### 10. InstitutionCategorySame"
   ]
  },
  {
   "cell_type": "code",
   "execution_count": 142,
   "id": "d77928d7",
   "metadata": {},
   "outputs": [],
   "source": [
    "trans[\"InstitutionCategorySame\"] = trans[\"InstitutionCategory_1\"] == trans[\"InstitutionCategory_2\"]"
   ]
  },
  {
   "cell_type": "markdown",
   "id": "9ba34124",
   "metadata": {},
   "source": [
    "### 11. Succession_Five\n",
    "\n",
    "#### Jacob's periodization\n",
    "* KIS-->KJI: 1994-1999 - less institutionalized (stronger intra)\n",
    "* KJI--->KJU:  2011-2016 - more institutionalized (stronger inter)"
   ]
  },
  {
   "cell_type": "code",
   "execution_count": 143,
   "id": "ad809163",
   "metadata": {},
   "outputs": [],
   "source": [
    "trans[\"Succession_Five\"] = np.nan"
   ]
  },
  {
   "cell_type": "code",
   "execution_count": 144,
   "id": "675c0e3d",
   "metadata": {},
   "outputs": [],
   "source": [
    "value_order = [\"KIS to KJI\",\"KJI to KJU\"]\n",
    "trans.Succession_Five = trans.Succession_Five.astype(\"category\")\n",
    "trans.Succession_Five = trans.Succession_Five.cat.set_categories(value_order)"
   ]
  },
  {
   "cell_type": "code",
   "execution_count": 145,
   "id": "64a18561",
   "metadata": {},
   "outputs": [],
   "source": [
    "### Jacob's periodization\n",
    "\n",
    "trans.loc[(trans[\"CareerStartYear_2\"]>1993) & (trans[\"CareerStartYear_2\"]<2000),\"Succession_Five\"] = \"KIS to KJI\"\n",
    "trans.loc[(trans[\"CareerStartYear_2\"]>2010) & (trans[\"CareerStartYear_2\"]<2016),\"Succession_Five\"] = \"KJI to KJU\""
   ]
  },
  {
   "cell_type": "code",
   "execution_count": 146,
   "id": "24e9b26a",
   "metadata": {},
   "outputs": [
    {
     "data": {
      "text/html": [
       "<div>\n",
       "<style scoped>\n",
       "    .dataframe tbody tr th:only-of-type {\n",
       "        vertical-align: middle;\n",
       "    }\n",
       "\n",
       "    .dataframe tbody tr th {\n",
       "        vertical-align: top;\n",
       "    }\n",
       "\n",
       "    .dataframe thead th {\n",
       "        text-align: right;\n",
       "    }\n",
       "</style>\n",
       "<table border=\"1\" class=\"dataframe\">\n",
       "  <thead>\n",
       "    <tr style=\"text-align: right;\">\n",
       "      <th></th>\n",
       "      <th>Succession_Five</th>\n",
       "      <th>OrgName_2</th>\n",
       "    </tr>\n",
       "  </thead>\n",
       "  <tbody>\n",
       "    <tr>\n",
       "      <th>0</th>\n",
       "      <td>KIS to KJI</td>\n",
       "      <td>229</td>\n",
       "    </tr>\n",
       "    <tr>\n",
       "      <th>1</th>\n",
       "      <td>KJI to KJU</td>\n",
       "      <td>229</td>\n",
       "    </tr>\n",
       "  </tbody>\n",
       "</table>\n",
       "</div>"
      ],
      "text/plain": [
       "  Succession_Five  OrgName_2\n",
       "0      KIS to KJI        229\n",
       "1      KJI to KJU        229"
      ]
     },
     "execution_count": 146,
     "metadata": {},
     "output_type": "execute_result"
    }
   ],
   "source": [
    "trans[[\"Succession_Five\",\"OrgName_2\"]].groupby(\"Succession_Five\",as_index=False).count()"
   ]
  },
  {
   "cell_type": "code",
   "execution_count": null,
   "id": "f92f57b0",
   "metadata": {},
   "outputs": [],
   "source": []
  },
  {
   "cell_type": "markdown",
   "id": "59d8c7d3",
   "metadata": {},
   "source": [
    "# Hypotheses Series 1. s1s2, trans count, within & between PI"
   ]
  },
  {
   "cell_type": "markdown",
   "id": "dbffbf00",
   "metadata": {},
   "source": [
    "### 1. s1s2 trans count (within & between PI), succession broad"
   ]
  },
  {
   "cell_type": "code",
   "execution_count": 147,
   "id": "5984c9c3",
   "metadata": {},
   "outputs": [],
   "source": [
    "stat1_columns = [\"PISame\",\"Succession_Broad\",\"OrgName_2\"]\n",
    "stat1_groupby_columns = [\"Succession_Broad\",\"PISame\"]\n",
    "# stat1_label_columns = [\"Year\",\"Total Transitions\",\"Total Advancements of OrgRank\"]"
   ]
  },
  {
   "cell_type": "code",
   "execution_count": 148,
   "id": "99912b0d",
   "metadata": {},
   "outputs": [
    {
     "data": {
      "text/html": [
       "<div>\n",
       "<style scoped>\n",
       "    .dataframe tbody tr th:only-of-type {\n",
       "        vertical-align: middle;\n",
       "    }\n",
       "\n",
       "    .dataframe tbody tr th {\n",
       "        vertical-align: top;\n",
       "    }\n",
       "\n",
       "    .dataframe thead th {\n",
       "        text-align: right;\n",
       "    }\n",
       "</style>\n",
       "<table border=\"1\" class=\"dataframe\">\n",
       "  <thead>\n",
       "    <tr style=\"text-align: right;\">\n",
       "      <th></th>\n",
       "      <th>Succession_Broad</th>\n",
       "      <th>Between PI Trans</th>\n",
       "      <th>Within PI Trans</th>\n",
       "    </tr>\n",
       "  </thead>\n",
       "  <tbody>\n",
       "    <tr>\n",
       "      <th>0</th>\n",
       "      <td>KIS to KJI</td>\n",
       "      <td>425</td>\n",
       "      <td>249</td>\n",
       "    </tr>\n",
       "    <tr>\n",
       "      <th>1</th>\n",
       "      <td>KJI to KJU</td>\n",
       "      <td>363</td>\n",
       "      <td>285</td>\n",
       "    </tr>\n",
       "  </tbody>\n",
       "</table>\n",
       "</div>"
      ],
      "text/plain": [
       "  Succession_Broad  Between PI Trans  Within PI Trans\n",
       "0       KIS to KJI               425              249\n",
       "1       KJI to KJU               363              285"
      ]
     },
     "execution_count": 148,
     "metadata": {},
     "output_type": "execute_result"
    }
   ],
   "source": [
    "stat1 = trans[stat1_columns].groupby(stat1_groupby_columns,as_index=False)[\"OrgName_2\"].agg({\"Total Transitions\":\"count\"})\n",
    "\n",
    "# pivot PISame from column to rows\n",
    "stat1 = stat1.pivot(index=\"Succession_Broad\",columns=\"PISame\",values=\"Total Transitions\")\n",
    "# pivot_column_labels = [\"Succession_Broad\",\"Between PI Trans\",\"Within PI Trans\"]\n",
    "pivot_column_labels = [\"Between PI Trans\",\"Within PI Trans\"]\n",
    "stat1.columns = pivot_column_labels\n",
    "stat1 = stat1.reset_index()\n",
    "\n",
    "stat1"
   ]
  },
  {
   "cell_type": "code",
   "execution_count": 149,
   "id": "98061287",
   "metadata": {},
   "outputs": [
    {
     "data": {
      "text/html": [
       "<div>\n",
       "<style scoped>\n",
       "    .dataframe tbody tr th:only-of-type {\n",
       "        vertical-align: middle;\n",
       "    }\n",
       "\n",
       "    .dataframe tbody tr th {\n",
       "        vertical-align: top;\n",
       "    }\n",
       "\n",
       "    .dataframe thead th {\n",
       "        text-align: right;\n",
       "    }\n",
       "</style>\n",
       "<table border=\"1\" class=\"dataframe\">\n",
       "  <thead>\n",
       "    <tr style=\"text-align: right;\">\n",
       "      <th></th>\n",
       "      <th>Succession_Broad</th>\n",
       "      <th>Between PI Trans</th>\n",
       "      <th>Within PI Trans</th>\n",
       "      <th>Percentage Between PI Trans</th>\n",
       "    </tr>\n",
       "  </thead>\n",
       "  <tbody>\n",
       "    <tr>\n",
       "      <th>0</th>\n",
       "      <td>KIS to KJI</td>\n",
       "      <td>425</td>\n",
       "      <td>249</td>\n",
       "      <td>0.6306</td>\n",
       "    </tr>\n",
       "    <tr>\n",
       "      <th>1</th>\n",
       "      <td>KJI to KJU</td>\n",
       "      <td>363</td>\n",
       "      <td>285</td>\n",
       "      <td>0.5602</td>\n",
       "    </tr>\n",
       "  </tbody>\n",
       "</table>\n",
       "</div>"
      ],
      "text/plain": [
       "  Succession_Broad  Between PI Trans  Within PI Trans  \\\n",
       "0       KIS to KJI               425              249   \n",
       "1       KJI to KJU               363              285   \n",
       "\n",
       "   Percentage Between PI Trans  \n",
       "0                       0.6306  \n",
       "1                       0.5602  "
      ]
     },
     "execution_count": 149,
     "metadata": {},
     "output_type": "execute_result"
    }
   ],
   "source": [
    "stat1[\"Percentage Between PI Trans\"] = stat1.apply(lambda x: round(x[\"Between PI Trans\"] / (x[\"Between PI Trans\"] + x[\"Within PI Trans\"]),4) if (x[\"Between PI Trans\"] + x[\"Within PI Trans\"]) > 0 else np.nan,axis=1)\n",
    "stat1"
   ]
  },
  {
   "cell_type": "code",
   "execution_count": 150,
   "id": "47966eca",
   "metadata": {
    "scrolled": false
   },
   "outputs": [
    {
     "name": "stdout",
     "output_type": "stream",
     "text": [
      "425 363 674 648 0.05\n",
      "p1:\t 0.6305637982195845\n",
      "p2:\t 0.5601851851851852\n",
      "p1-p2:\t 0.0703786130343993\n",
      "z:\t 2.6069946827170716\n",
      "pvalue:\t 0.004567038935540002**\n"
     ]
    }
   ],
   "source": [
    "# two-sample ttest of proportions: p(between PI trans in s1) > p(between PI trans in s2)\n",
    "x1 = stat1.iloc[0,1]\n",
    "n1 = stat1.iloc[0,1] + stat1.iloc[0,2]\n",
    "x2 = stat1.iloc[1,1]\n",
    "n2 = stat1.iloc[1,1] + stat1.iloc[1,2]\n",
    "alpha = .05\n",
    "print(x1,x2,n1,n2,alpha)\n",
    "two_sample_ttest_proportions(x1,x2,n1,n2,alpha)"
   ]
  },
  {
   "cell_type": "markdown",
   "id": "b632567e",
   "metadata": {},
   "source": [
    "### 2. s1s2 trans count (within & between PI), succession narrow"
   ]
  },
  {
   "cell_type": "code",
   "execution_count": 151,
   "id": "d8d39d4d",
   "metadata": {},
   "outputs": [],
   "source": [
    "stat2_columns = [\"PISame\",\"Succession_Narrow\",\"OrgName_2\"]\n",
    "stat2_groupby_columns = [\"Succession_Narrow\",\"PISame\"]\n",
    "# stat1_label_columns = [\"Year\",\"Total Transitions\",\"Total Advancements of OrgRank\"]"
   ]
  },
  {
   "cell_type": "code",
   "execution_count": 152,
   "id": "002785c9",
   "metadata": {},
   "outputs": [
    {
     "data": {
      "text/html": [
       "<div>\n",
       "<style scoped>\n",
       "    .dataframe tbody tr th:only-of-type {\n",
       "        vertical-align: middle;\n",
       "    }\n",
       "\n",
       "    .dataframe tbody tr th {\n",
       "        vertical-align: top;\n",
       "    }\n",
       "\n",
       "    .dataframe thead th {\n",
       "        text-align: right;\n",
       "    }\n",
       "</style>\n",
       "<table border=\"1\" class=\"dataframe\">\n",
       "  <thead>\n",
       "    <tr style=\"text-align: right;\">\n",
       "      <th></th>\n",
       "      <th>Succession_Narrow</th>\n",
       "      <th>Between PI Trans</th>\n",
       "      <th>Within PI Trans</th>\n",
       "    </tr>\n",
       "  </thead>\n",
       "  <tbody>\n",
       "    <tr>\n",
       "      <th>0</th>\n",
       "      <td>KIS to KJI</td>\n",
       "      <td>196</td>\n",
       "      <td>127</td>\n",
       "    </tr>\n",
       "    <tr>\n",
       "      <th>1</th>\n",
       "      <td>KJI to KJU</td>\n",
       "      <td>242</td>\n",
       "      <td>141</td>\n",
       "    </tr>\n",
       "  </tbody>\n",
       "</table>\n",
       "</div>"
      ],
      "text/plain": [
       "  Succession_Narrow  Between PI Trans  Within PI Trans\n",
       "0        KIS to KJI               196              127\n",
       "1        KJI to KJU               242              141"
      ]
     },
     "execution_count": 152,
     "metadata": {},
     "output_type": "execute_result"
    }
   ],
   "source": [
    "stat2 = trans[stat2_columns].groupby(stat2_groupby_columns,as_index=False)[\"OrgName_2\"].agg({\"Total Transitions\":\"count\"})\n",
    "\n",
    "# pivot PISame from column to rows\n",
    "stat2 = stat2.pivot(index=\"Succession_Narrow\",columns=\"PISame\",values=\"Total Transitions\")\n",
    "# pivot_column_labels = [\"Succession_Broad\",\"Between PI Trans\",\"Within PI Trans\"]\n",
    "pivot_column_labels = [\"Between PI Trans\",\"Within PI Trans\"]\n",
    "stat2.columns = pivot_column_labels\n",
    "stat2 = stat2.reset_index()\n",
    "\n",
    "stat2"
   ]
  },
  {
   "cell_type": "code",
   "execution_count": 153,
   "id": "f4bcc0e1",
   "metadata": {},
   "outputs": [
    {
     "data": {
      "text/html": [
       "<div>\n",
       "<style scoped>\n",
       "    .dataframe tbody tr th:only-of-type {\n",
       "        vertical-align: middle;\n",
       "    }\n",
       "\n",
       "    .dataframe tbody tr th {\n",
       "        vertical-align: top;\n",
       "    }\n",
       "\n",
       "    .dataframe thead th {\n",
       "        text-align: right;\n",
       "    }\n",
       "</style>\n",
       "<table border=\"1\" class=\"dataframe\">\n",
       "  <thead>\n",
       "    <tr style=\"text-align: right;\">\n",
       "      <th></th>\n",
       "      <th>Succession_Narrow</th>\n",
       "      <th>Between PI Trans</th>\n",
       "      <th>Within PI Trans</th>\n",
       "      <th>Percentage Between PI Trans</th>\n",
       "    </tr>\n",
       "  </thead>\n",
       "  <tbody>\n",
       "    <tr>\n",
       "      <th>0</th>\n",
       "      <td>KIS to KJI</td>\n",
       "      <td>196</td>\n",
       "      <td>127</td>\n",
       "      <td>0.6068</td>\n",
       "    </tr>\n",
       "    <tr>\n",
       "      <th>1</th>\n",
       "      <td>KJI to KJU</td>\n",
       "      <td>242</td>\n",
       "      <td>141</td>\n",
       "      <td>0.6319</td>\n",
       "    </tr>\n",
       "  </tbody>\n",
       "</table>\n",
       "</div>"
      ],
      "text/plain": [
       "  Succession_Narrow  Between PI Trans  Within PI Trans  \\\n",
       "0        KIS to KJI               196              127   \n",
       "1        KJI to KJU               242              141   \n",
       "\n",
       "   Percentage Between PI Trans  \n",
       "0                       0.6068  \n",
       "1                       0.6319  "
      ]
     },
     "execution_count": 153,
     "metadata": {},
     "output_type": "execute_result"
    }
   ],
   "source": [
    "stat2[\"Percentage Between PI Trans\"] = stat2.apply(lambda x: round(x[\"Between PI Trans\"] / (x[\"Between PI Trans\"] + x[\"Within PI Trans\"]),4) if (x[\"Between PI Trans\"] + x[\"Within PI Trans\"]) > 0 else np.nan,axis=1)\n",
    "stat2"
   ]
  },
  {
   "cell_type": "code",
   "execution_count": 154,
   "id": "a06127d2",
   "metadata": {
    "scrolled": true
   },
   "outputs": [
    {
     "name": "stdout",
     "output_type": "stream",
     "text": [
      "196 242 323 383 0.05\n",
      "p1:\t 0.6068111455108359\n",
      "p2:\t 0.6318537859007833\n",
      "p1-p2:\t -0.025042640389947413\n",
      "z:\t -0.6830911575480088\n",
      "pvalue:\t 0.24727462127586397\n"
     ]
    }
   ],
   "source": [
    "# two-sample ttest of proportions: p(between PI trans in s1) > p(between PI trans in s2)\n",
    "x1 = stat2.iloc[0,1]\n",
    "n1 = stat2.iloc[0,1] + stat2.iloc[0,2]\n",
    "x2 = stat2.iloc[1,1]\n",
    "n2 = stat2.iloc[1,1] + stat2.iloc[1,2]\n",
    "alpha = .05\n",
    "print(x1,x2,n1,n2,alpha)\n",
    "two_sample_ttest_proportions(x1,x2,n1,n2,alpha)"
   ]
  },
  {
   "cell_type": "markdown",
   "id": "cb4e562f",
   "metadata": {},
   "source": [
    "### 3. s1s2 trans count (within & between PI), succession broad, by sending PI"
   ]
  },
  {
   "cell_type": "code",
   "execution_count": 155,
   "id": "a84ecbb9",
   "metadata": {},
   "outputs": [],
   "source": [
    "stat3_columns = [\"InstitutionCategory_1\",\"PISame\",\"Succession_Broad\",\"OrgName_2\"]\n",
    "stat3_groupby_columns = [\"InstitutionCategory_1\",\"Succession_Broad\",\"PISame\"]"
   ]
  },
  {
   "cell_type": "code",
   "execution_count": 156,
   "id": "1a64c6d8",
   "metadata": {},
   "outputs": [
    {
     "data": {
      "text/html": [
       "<div>\n",
       "<style scoped>\n",
       "    .dataframe tbody tr th:only-of-type {\n",
       "        vertical-align: middle;\n",
       "    }\n",
       "\n",
       "    .dataframe tbody tr th {\n",
       "        vertical-align: top;\n",
       "    }\n",
       "\n",
       "    .dataframe thead th {\n",
       "        text-align: right;\n",
       "    }\n",
       "</style>\n",
       "<table border=\"1\" class=\"dataframe\">\n",
       "  <thead>\n",
       "    <tr style=\"text-align: right;\">\n",
       "      <th></th>\n",
       "      <th>InstitutionCategory_1</th>\n",
       "      <th>Succession_Broad</th>\n",
       "      <th>Between PI Trans</th>\n",
       "      <th>Within PI Trans</th>\n",
       "    </tr>\n",
       "  </thead>\n",
       "  <tbody>\n",
       "    <tr>\n",
       "      <th>0</th>\n",
       "      <td>Government</td>\n",
       "      <td>KIS to KJI</td>\n",
       "      <td>175</td>\n",
       "      <td>90</td>\n",
       "    </tr>\n",
       "    <tr>\n",
       "      <th>1</th>\n",
       "      <td>Government</td>\n",
       "      <td>KJI to KJU</td>\n",
       "      <td>120</td>\n",
       "      <td>169</td>\n",
       "    </tr>\n",
       "    <tr>\n",
       "      <th>2</th>\n",
       "      <td>Military</td>\n",
       "      <td>KIS to KJI</td>\n",
       "      <td>44</td>\n",
       "      <td>4</td>\n",
       "    </tr>\n",
       "    <tr>\n",
       "      <th>3</th>\n",
       "      <td>Military</td>\n",
       "      <td>KJI to KJU</td>\n",
       "      <td>82</td>\n",
       "      <td>7</td>\n",
       "    </tr>\n",
       "    <tr>\n",
       "      <th>4</th>\n",
       "      <td>Party</td>\n",
       "      <td>KIS to KJI</td>\n",
       "      <td>74</td>\n",
       "      <td>143</td>\n",
       "    </tr>\n",
       "    <tr>\n",
       "      <th>5</th>\n",
       "      <td>Party</td>\n",
       "      <td>KJI to KJU</td>\n",
       "      <td>28</td>\n",
       "      <td>96</td>\n",
       "    </tr>\n",
       "    <tr>\n",
       "      <th>6</th>\n",
       "      <td>Social</td>\n",
       "      <td>KIS to KJI</td>\n",
       "      <td>132</td>\n",
       "      <td>12</td>\n",
       "    </tr>\n",
       "    <tr>\n",
       "      <th>7</th>\n",
       "      <td>Social</td>\n",
       "      <td>KJI to KJU</td>\n",
       "      <td>133</td>\n",
       "      <td>13</td>\n",
       "    </tr>\n",
       "  </tbody>\n",
       "</table>\n",
       "</div>"
      ],
      "text/plain": [
       "  InstitutionCategory_1 Succession_Broad  Between PI Trans  Within PI Trans\n",
       "0            Government       KIS to KJI               175               90\n",
       "1            Government       KJI to KJU               120              169\n",
       "2              Military       KIS to KJI                44                4\n",
       "3              Military       KJI to KJU                82                7\n",
       "4                 Party       KIS to KJI                74              143\n",
       "5                 Party       KJI to KJU                28               96\n",
       "6                Social       KIS to KJI               132               12\n",
       "7                Social       KJI to KJU               133               13"
      ]
     },
     "execution_count": 156,
     "metadata": {},
     "output_type": "execute_result"
    }
   ],
   "source": [
    "stat3 = trans[stat3_columns].groupby(stat3_groupby_columns,as_index=False)[\"OrgName_2\"].agg({\"Total Transitions\":\"count\"})\n",
    "\n",
    "# pivot PISame from column to rows\n",
    "stat3 = stat3.pivot(index=[\"InstitutionCategory_1\",\"Succession_Broad\",],columns=\"PISame\",values=\"Total Transitions\")\n",
    "# pivot_column_labels = [\"Succession_Broad\",\"Between PI Trans\",\"Within PI Trans\"]\n",
    "pivot_column_labels = [\"Between PI Trans\",\"Within PI Trans\"]\n",
    "stat3.columns = pivot_column_labels\n",
    "stat3 = stat3.reset_index()\n",
    "\n",
    "stat3"
   ]
  },
  {
   "cell_type": "code",
   "execution_count": 157,
   "id": "0442516d",
   "metadata": {},
   "outputs": [
    {
     "data": {
      "text/html": [
       "<div>\n",
       "<style scoped>\n",
       "    .dataframe tbody tr th:only-of-type {\n",
       "        vertical-align: middle;\n",
       "    }\n",
       "\n",
       "    .dataframe tbody tr th {\n",
       "        vertical-align: top;\n",
       "    }\n",
       "\n",
       "    .dataframe thead th {\n",
       "        text-align: right;\n",
       "    }\n",
       "</style>\n",
       "<table border=\"1\" class=\"dataframe\">\n",
       "  <thead>\n",
       "    <tr style=\"text-align: right;\">\n",
       "      <th></th>\n",
       "      <th>InstitutionCategory_1</th>\n",
       "      <th>Succession_Broad</th>\n",
       "      <th>Between PI Trans</th>\n",
       "      <th>Within PI Trans</th>\n",
       "      <th>Percentage Between PI Trans</th>\n",
       "    </tr>\n",
       "  </thead>\n",
       "  <tbody>\n",
       "    <tr>\n",
       "      <th>0</th>\n",
       "      <td>Government</td>\n",
       "      <td>KIS to KJI</td>\n",
       "      <td>175</td>\n",
       "      <td>90</td>\n",
       "      <td>0.6604</td>\n",
       "    </tr>\n",
       "    <tr>\n",
       "      <th>1</th>\n",
       "      <td>Government</td>\n",
       "      <td>KJI to KJU</td>\n",
       "      <td>120</td>\n",
       "      <td>169</td>\n",
       "      <td>0.4152</td>\n",
       "    </tr>\n",
       "    <tr>\n",
       "      <th>2</th>\n",
       "      <td>Military</td>\n",
       "      <td>KIS to KJI</td>\n",
       "      <td>44</td>\n",
       "      <td>4</td>\n",
       "      <td>0.9167</td>\n",
       "    </tr>\n",
       "    <tr>\n",
       "      <th>3</th>\n",
       "      <td>Military</td>\n",
       "      <td>KJI to KJU</td>\n",
       "      <td>82</td>\n",
       "      <td>7</td>\n",
       "      <td>0.9213</td>\n",
       "    </tr>\n",
       "    <tr>\n",
       "      <th>4</th>\n",
       "      <td>Party</td>\n",
       "      <td>KIS to KJI</td>\n",
       "      <td>74</td>\n",
       "      <td>143</td>\n",
       "      <td>0.3410</td>\n",
       "    </tr>\n",
       "    <tr>\n",
       "      <th>5</th>\n",
       "      <td>Party</td>\n",
       "      <td>KJI to KJU</td>\n",
       "      <td>28</td>\n",
       "      <td>96</td>\n",
       "      <td>0.2258</td>\n",
       "    </tr>\n",
       "    <tr>\n",
       "      <th>6</th>\n",
       "      <td>Social</td>\n",
       "      <td>KIS to KJI</td>\n",
       "      <td>132</td>\n",
       "      <td>12</td>\n",
       "      <td>0.9167</td>\n",
       "    </tr>\n",
       "    <tr>\n",
       "      <th>7</th>\n",
       "      <td>Social</td>\n",
       "      <td>KJI to KJU</td>\n",
       "      <td>133</td>\n",
       "      <td>13</td>\n",
       "      <td>0.9110</td>\n",
       "    </tr>\n",
       "  </tbody>\n",
       "</table>\n",
       "</div>"
      ],
      "text/plain": [
       "  InstitutionCategory_1 Succession_Broad  Between PI Trans  Within PI Trans  \\\n",
       "0            Government       KIS to KJI               175               90   \n",
       "1            Government       KJI to KJU               120              169   \n",
       "2              Military       KIS to KJI                44                4   \n",
       "3              Military       KJI to KJU                82                7   \n",
       "4                 Party       KIS to KJI                74              143   \n",
       "5                 Party       KJI to KJU                28               96   \n",
       "6                Social       KIS to KJI               132               12   \n",
       "7                Social       KJI to KJU               133               13   \n",
       "\n",
       "   Percentage Between PI Trans  \n",
       "0                       0.6604  \n",
       "1                       0.4152  \n",
       "2                       0.9167  \n",
       "3                       0.9213  \n",
       "4                       0.3410  \n",
       "5                       0.2258  \n",
       "6                       0.9167  \n",
       "7                       0.9110  "
      ]
     },
     "execution_count": 157,
     "metadata": {},
     "output_type": "execute_result"
    }
   ],
   "source": [
    "stat3[\"Percentage Between PI Trans\"] = stat3.apply(lambda x: round(x[\"Between PI Trans\"] / (x[\"Between PI Trans\"] + x[\"Within PI Trans\"]),4) if (x[\"Between PI Trans\"] + x[\"Within PI Trans\"]) > 0 else np.nan,axis=1)\n",
    "stat3"
   ]
  },
  {
   "cell_type": "code",
   "execution_count": 158,
   "id": "79182508",
   "metadata": {},
   "outputs": [
    {
     "data": {
      "text/plain": [
       "['Government', 'Social', 'Party', 'Military']"
      ]
     },
     "execution_count": 158,
     "metadata": {},
     "output_type": "execute_result"
    }
   ],
   "source": [
    "ics = list(trans.InstitutionCategory_2.unique())\n",
    "ics"
   ]
  },
  {
   "cell_type": "code",
   "execution_count": 159,
   "id": "77245918",
   "metadata": {
    "scrolled": true
   },
   "outputs": [
    {
     "name": "stdout",
     "output_type": "stream",
     "text": [
      "\n",
      "\n",
      " Government \n",
      "\n",
      "\n",
      "175 120 265 289 0.05\n",
      "p1:\t 0.660377358490566\n",
      "p2:\t 0.41522491349480967\n",
      "p1-p2:\t 0.24515244499575634\n",
      "z:\t 5.776996170646588\n",
      "pvalue:\t 3.8023008075427356e-09***\n",
      "\n",
      "\n",
      " Social \n",
      "\n",
      "\n",
      "132 133 144 146 0.05\n",
      "p1:\t 0.9166666666666666\n",
      "p2:\t 0.910958904109589\n",
      "p1-p2:\t 0.005707762557077611\n",
      "z:\t 0.17315284424354763\n",
      "pvalue:\t 0.4312656442570164\n",
      "\n",
      "\n",
      " Party \n",
      "\n",
      "\n",
      "74 28 217 124 0.05\n",
      "p1:\t 0.34101382488479265\n",
      "p2:\t 0.22580645161290322\n",
      "p1-p2:\t 0.11520737327188943\n",
      "z:\t 2.235111213838738\n",
      "pvalue:\t 0.012705024181294933*\n",
      "\n",
      "\n",
      " Military \n",
      "\n",
      "\n",
      "44 82 48 89 0.05\n",
      "p1:\t 0.9166666666666666\n",
      "p2:\t 0.9213483146067416\n",
      "p1-p2:\t -0.004681647940074973\n",
      "z:\t -0.09620398060589609\n",
      "pvalue:\t 0.46167928470764663\n"
     ]
    }
   ],
   "source": [
    "ttest_by_institution_category(ics,stat3,2,3,0,1)"
   ]
  },
  {
   "cell_type": "markdown",
   "id": "4391f38e",
   "metadata": {},
   "source": [
    "### 4. s1s2 trans count (within & between PI), succession narrow, by sending PI"
   ]
  },
  {
   "cell_type": "code",
   "execution_count": 160,
   "id": "45947eb6",
   "metadata": {},
   "outputs": [],
   "source": [
    "stat4_columns = [\"InstitutionCategory_1\",\"PISame\",\"Succession_Narrow\",\"OrgName_2\"]\n",
    "stat4_groupby_columns = [\"InstitutionCategory_1\",\"Succession_Narrow\",\"PISame\"]"
   ]
  },
  {
   "cell_type": "code",
   "execution_count": 161,
   "id": "d21075eb",
   "metadata": {},
   "outputs": [
    {
     "data": {
      "text/html": [
       "<div>\n",
       "<style scoped>\n",
       "    .dataframe tbody tr th:only-of-type {\n",
       "        vertical-align: middle;\n",
       "    }\n",
       "\n",
       "    .dataframe tbody tr th {\n",
       "        vertical-align: top;\n",
       "    }\n",
       "\n",
       "    .dataframe thead th {\n",
       "        text-align: right;\n",
       "    }\n",
       "</style>\n",
       "<table border=\"1\" class=\"dataframe\">\n",
       "  <thead>\n",
       "    <tr style=\"text-align: right;\">\n",
       "      <th></th>\n",
       "      <th>InstitutionCategory_1</th>\n",
       "      <th>Succession_Narrow</th>\n",
       "      <th>Between PI Trans</th>\n",
       "      <th>Within PI Trans</th>\n",
       "    </tr>\n",
       "  </thead>\n",
       "  <tbody>\n",
       "    <tr>\n",
       "      <th>0</th>\n",
       "      <td>Government</td>\n",
       "      <td>KIS to KJI</td>\n",
       "      <td>77</td>\n",
       "      <td>56</td>\n",
       "    </tr>\n",
       "    <tr>\n",
       "      <th>1</th>\n",
       "      <td>Government</td>\n",
       "      <td>KJI to KJU</td>\n",
       "      <td>79</td>\n",
       "      <td>51</td>\n",
       "    </tr>\n",
       "    <tr>\n",
       "      <th>2</th>\n",
       "      <td>Military</td>\n",
       "      <td>KIS to KJI</td>\n",
       "      <td>13</td>\n",
       "      <td>2</td>\n",
       "    </tr>\n",
       "    <tr>\n",
       "      <th>3</th>\n",
       "      <td>Military</td>\n",
       "      <td>KJI to KJU</td>\n",
       "      <td>74</td>\n",
       "      <td>4</td>\n",
       "    </tr>\n",
       "    <tr>\n",
       "      <th>4</th>\n",
       "      <td>Party</td>\n",
       "      <td>KIS to KJI</td>\n",
       "      <td>38</td>\n",
       "      <td>66</td>\n",
       "    </tr>\n",
       "    <tr>\n",
       "      <th>5</th>\n",
       "      <td>Party</td>\n",
       "      <td>KJI to KJU</td>\n",
       "      <td>18</td>\n",
       "      <td>85</td>\n",
       "    </tr>\n",
       "    <tr>\n",
       "      <th>6</th>\n",
       "      <td>Social</td>\n",
       "      <td>KIS to KJI</td>\n",
       "      <td>68</td>\n",
       "      <td>3</td>\n",
       "    </tr>\n",
       "    <tr>\n",
       "      <th>7</th>\n",
       "      <td>Social</td>\n",
       "      <td>KJI to KJU</td>\n",
       "      <td>71</td>\n",
       "      <td>1</td>\n",
       "    </tr>\n",
       "  </tbody>\n",
       "</table>\n",
       "</div>"
      ],
      "text/plain": [
       "  InstitutionCategory_1 Succession_Narrow  Between PI Trans  Within PI Trans\n",
       "0            Government        KIS to KJI                77               56\n",
       "1            Government        KJI to KJU                79               51\n",
       "2              Military        KIS to KJI                13                2\n",
       "3              Military        KJI to KJU                74                4\n",
       "4                 Party        KIS to KJI                38               66\n",
       "5                 Party        KJI to KJU                18               85\n",
       "6                Social        KIS to KJI                68                3\n",
       "7                Social        KJI to KJU                71                1"
      ]
     },
     "execution_count": 161,
     "metadata": {},
     "output_type": "execute_result"
    }
   ],
   "source": [
    "stat4 = trans[stat4_columns].groupby(stat4_groupby_columns,as_index=False)[\"OrgName_2\"].agg({\"Total Transitions\":\"count\"})\n",
    "\n",
    "# pivot PISame from column to rows\n",
    "stat4 = stat4.pivot(index=[\"InstitutionCategory_1\",\"Succession_Narrow\",],columns=\"PISame\",values=\"Total Transitions\")\n",
    "# pivot_column_labels = [\"Succession_Broad\",\"Between PI Trans\",\"Within PI Trans\"]\n",
    "pivot_column_labels = [\"Between PI Trans\",\"Within PI Trans\"]\n",
    "stat4.columns = pivot_column_labels\n",
    "stat4 = stat4.reset_index()\n",
    "\n",
    "stat4"
   ]
  },
  {
   "cell_type": "code",
   "execution_count": 162,
   "id": "4b822ce6",
   "metadata": {},
   "outputs": [
    {
     "data": {
      "text/html": [
       "<div>\n",
       "<style scoped>\n",
       "    .dataframe tbody tr th:only-of-type {\n",
       "        vertical-align: middle;\n",
       "    }\n",
       "\n",
       "    .dataframe tbody tr th {\n",
       "        vertical-align: top;\n",
       "    }\n",
       "\n",
       "    .dataframe thead th {\n",
       "        text-align: right;\n",
       "    }\n",
       "</style>\n",
       "<table border=\"1\" class=\"dataframe\">\n",
       "  <thead>\n",
       "    <tr style=\"text-align: right;\">\n",
       "      <th></th>\n",
       "      <th>InstitutionCategory_1</th>\n",
       "      <th>Succession_Narrow</th>\n",
       "      <th>Between PI Trans</th>\n",
       "      <th>Within PI Trans</th>\n",
       "      <th>Percentage Between PI Trans</th>\n",
       "    </tr>\n",
       "  </thead>\n",
       "  <tbody>\n",
       "    <tr>\n",
       "      <th>0</th>\n",
       "      <td>Government</td>\n",
       "      <td>KIS to KJI</td>\n",
       "      <td>77</td>\n",
       "      <td>56</td>\n",
       "      <td>0.5789</td>\n",
       "    </tr>\n",
       "    <tr>\n",
       "      <th>1</th>\n",
       "      <td>Government</td>\n",
       "      <td>KJI to KJU</td>\n",
       "      <td>79</td>\n",
       "      <td>51</td>\n",
       "      <td>0.6077</td>\n",
       "    </tr>\n",
       "    <tr>\n",
       "      <th>2</th>\n",
       "      <td>Military</td>\n",
       "      <td>KIS to KJI</td>\n",
       "      <td>13</td>\n",
       "      <td>2</td>\n",
       "      <td>0.8667</td>\n",
       "    </tr>\n",
       "    <tr>\n",
       "      <th>3</th>\n",
       "      <td>Military</td>\n",
       "      <td>KJI to KJU</td>\n",
       "      <td>74</td>\n",
       "      <td>4</td>\n",
       "      <td>0.9487</td>\n",
       "    </tr>\n",
       "    <tr>\n",
       "      <th>4</th>\n",
       "      <td>Party</td>\n",
       "      <td>KIS to KJI</td>\n",
       "      <td>38</td>\n",
       "      <td>66</td>\n",
       "      <td>0.3654</td>\n",
       "    </tr>\n",
       "    <tr>\n",
       "      <th>5</th>\n",
       "      <td>Party</td>\n",
       "      <td>KJI to KJU</td>\n",
       "      <td>18</td>\n",
       "      <td>85</td>\n",
       "      <td>0.1748</td>\n",
       "    </tr>\n",
       "    <tr>\n",
       "      <th>6</th>\n",
       "      <td>Social</td>\n",
       "      <td>KIS to KJI</td>\n",
       "      <td>68</td>\n",
       "      <td>3</td>\n",
       "      <td>0.9577</td>\n",
       "    </tr>\n",
       "    <tr>\n",
       "      <th>7</th>\n",
       "      <td>Social</td>\n",
       "      <td>KJI to KJU</td>\n",
       "      <td>71</td>\n",
       "      <td>1</td>\n",
       "      <td>0.9861</td>\n",
       "    </tr>\n",
       "  </tbody>\n",
       "</table>\n",
       "</div>"
      ],
      "text/plain": [
       "  InstitutionCategory_1 Succession_Narrow  Between PI Trans  Within PI Trans  \\\n",
       "0            Government        KIS to KJI                77               56   \n",
       "1            Government        KJI to KJU                79               51   \n",
       "2              Military        KIS to KJI                13                2   \n",
       "3              Military        KJI to KJU                74                4   \n",
       "4                 Party        KIS to KJI                38               66   \n",
       "5                 Party        KJI to KJU                18               85   \n",
       "6                Social        KIS to KJI                68                3   \n",
       "7                Social        KJI to KJU                71                1   \n",
       "\n",
       "   Percentage Between PI Trans  \n",
       "0                       0.5789  \n",
       "1                       0.6077  \n",
       "2                       0.8667  \n",
       "3                       0.9487  \n",
       "4                       0.3654  \n",
       "5                       0.1748  \n",
       "6                       0.9577  \n",
       "7                       0.9861  "
      ]
     },
     "execution_count": 162,
     "metadata": {},
     "output_type": "execute_result"
    }
   ],
   "source": [
    "stat4[\"Percentage Between PI Trans\"] = stat4.apply(lambda x: round(x[\"Between PI Trans\"] / (x[\"Between PI Trans\"] + x[\"Within PI Trans\"]),4) if (x[\"Between PI Trans\"] + x[\"Within PI Trans\"]) > 0 else np.nan,axis=1)\n",
    "stat4"
   ]
  },
  {
   "cell_type": "code",
   "execution_count": 163,
   "id": "cc9aed17",
   "metadata": {},
   "outputs": [
    {
     "data": {
      "text/plain": [
       "['Government', 'Social', 'Party', 'Military']"
      ]
     },
     "execution_count": 163,
     "metadata": {},
     "output_type": "execute_result"
    }
   ],
   "source": [
    "ics = list(trans.InstitutionCategory_2.unique())\n",
    "ics"
   ]
  },
  {
   "cell_type": "code",
   "execution_count": 164,
   "id": "9b347522",
   "metadata": {
    "scrolled": true
   },
   "outputs": [
    {
     "name": "stdout",
     "output_type": "stream",
     "text": [
      "\n",
      "\n",
      " Government \n",
      "\n",
      "\n",
      "77 79 133 130 0.05\n",
      "p1:\t 0.5789473684210527\n",
      "p2:\t 0.6076923076923076\n",
      "p1-p2:\t -0.028744939271254988\n",
      "z:\t -0.4744413995109552\n",
      "pvalue:\t 0.3175925884139059\n",
      "\n",
      "\n",
      " Social \n",
      "\n",
      "\n",
      "68 71 71 72 0.05\n",
      "p1:\t 0.9577464788732394\n",
      "p2:\t 0.9861111111111112\n",
      "p1-p2:\t -0.02836463223787178\n",
      "z:\t -1.028497410534081\n",
      "pvalue:\t 0.15185795413987369\n",
      "\n",
      "\n",
      " Party \n",
      "\n",
      "\n",
      "38 18 104 103 0.05\n",
      "p1:\t 0.36538461538461536\n",
      "p2:\t 0.17475728155339806\n",
      "p1-p2:\t 0.1906273338312173\n",
      "z:\t 3.0869041266057793\n",
      "pvalue:\t 0.0010112640850469257**\n",
      "\n",
      "\n",
      " Military \n",
      "\n",
      "\n",
      "13 74 15 78 0.05\n",
      "p1:\t 0.8666666666666667\n",
      "p2:\t 0.9487179487179487\n",
      "p1-p2:\t -0.08205128205128198\n",
      "z:\t -1.1846349051637255\n",
      "pvalue:\t 0.11808091496140638\n"
     ]
    }
   ],
   "source": [
    "ttest_by_institution_category(ics,stat4,2,3,0,1)"
   ]
  },
  {
   "cell_type": "code",
   "execution_count": null,
   "id": "15fab8f9",
   "metadata": {},
   "outputs": [],
   "source": []
  },
  {
   "cell_type": "markdown",
   "id": "c9328ffe",
   "metadata": {},
   "source": [
    "### 5. s1s2 trans count (within & between PI), succession broad, by receiving PI"
   ]
  },
  {
   "cell_type": "code",
   "execution_count": 165,
   "id": "a19ee8c4",
   "metadata": {},
   "outputs": [],
   "source": [
    "stat5_columns = [\"InstitutionCategory_2\",\"PISame\",\"Succession_Broad\",\"OrgName_2\"]\n",
    "stat5_groupby_columns = [\"InstitutionCategory_2\",\"Succession_Broad\",\"PISame\"]"
   ]
  },
  {
   "cell_type": "code",
   "execution_count": 166,
   "id": "52de413f",
   "metadata": {},
   "outputs": [
    {
     "data": {
      "text/html": [
       "<div>\n",
       "<style scoped>\n",
       "    .dataframe tbody tr th:only-of-type {\n",
       "        vertical-align: middle;\n",
       "    }\n",
       "\n",
       "    .dataframe tbody tr th {\n",
       "        vertical-align: top;\n",
       "    }\n",
       "\n",
       "    .dataframe thead th {\n",
       "        text-align: right;\n",
       "    }\n",
       "</style>\n",
       "<table border=\"1\" class=\"dataframe\">\n",
       "  <thead>\n",
       "    <tr style=\"text-align: right;\">\n",
       "      <th></th>\n",
       "      <th>InstitutionCategory_2</th>\n",
       "      <th>Succession_Broad</th>\n",
       "      <th>Between PI Trans</th>\n",
       "      <th>Within PI Trans</th>\n",
       "    </tr>\n",
       "  </thead>\n",
       "  <tbody>\n",
       "    <tr>\n",
       "      <th>0</th>\n",
       "      <td>Government</td>\n",
       "      <td>KIS to KJI</td>\n",
       "      <td>171</td>\n",
       "      <td>90</td>\n",
       "    </tr>\n",
       "    <tr>\n",
       "      <th>1</th>\n",
       "      <td>Government</td>\n",
       "      <td>KJI to KJU</td>\n",
       "      <td>107</td>\n",
       "      <td>169</td>\n",
       "    </tr>\n",
       "    <tr>\n",
       "      <th>2</th>\n",
       "      <td>Military</td>\n",
       "      <td>KIS to KJI</td>\n",
       "      <td>16</td>\n",
       "      <td>4</td>\n",
       "    </tr>\n",
       "    <tr>\n",
       "      <th>3</th>\n",
       "      <td>Military</td>\n",
       "      <td>KJI to KJU</td>\n",
       "      <td>22</td>\n",
       "      <td>7</td>\n",
       "    </tr>\n",
       "    <tr>\n",
       "      <th>4</th>\n",
       "      <td>Party</td>\n",
       "      <td>KIS to KJI</td>\n",
       "      <td>201</td>\n",
       "      <td>143</td>\n",
       "    </tr>\n",
       "    <tr>\n",
       "      <th>5</th>\n",
       "      <td>Party</td>\n",
       "      <td>KJI to KJU</td>\n",
       "      <td>195</td>\n",
       "      <td>96</td>\n",
       "    </tr>\n",
       "    <tr>\n",
       "      <th>6</th>\n",
       "      <td>Social</td>\n",
       "      <td>KIS to KJI</td>\n",
       "      <td>37</td>\n",
       "      <td>12</td>\n",
       "    </tr>\n",
       "    <tr>\n",
       "      <th>7</th>\n",
       "      <td>Social</td>\n",
       "      <td>KJI to KJU</td>\n",
       "      <td>39</td>\n",
       "      <td>13</td>\n",
       "    </tr>\n",
       "  </tbody>\n",
       "</table>\n",
       "</div>"
      ],
      "text/plain": [
       "  InstitutionCategory_2 Succession_Broad  Between PI Trans  Within PI Trans\n",
       "0            Government       KIS to KJI               171               90\n",
       "1            Government       KJI to KJU               107              169\n",
       "2              Military       KIS to KJI                16                4\n",
       "3              Military       KJI to KJU                22                7\n",
       "4                 Party       KIS to KJI               201              143\n",
       "5                 Party       KJI to KJU               195               96\n",
       "6                Social       KIS to KJI                37               12\n",
       "7                Social       KJI to KJU                39               13"
      ]
     },
     "execution_count": 166,
     "metadata": {},
     "output_type": "execute_result"
    }
   ],
   "source": [
    "stat5 = trans[stat5_columns].groupby(stat5_groupby_columns,as_index=False)[\"OrgName_2\"].agg({\"Total Transitions\":\"count\"})\n",
    "\n",
    "# pivot PISame from column to rows\n",
    "stat5 = stat5.pivot(index=[\"InstitutionCategory_2\",\"Succession_Broad\",],columns=\"PISame\",values=\"Total Transitions\")\n",
    "# pivot_column_labels = [\"Succession_Broad\",\"Between PI Trans\",\"Within PI Trans\"]\n",
    "pivot_column_labels = [\"Between PI Trans\",\"Within PI Trans\"]\n",
    "stat5.columns = pivot_column_labels\n",
    "stat5 = stat5.reset_index()\n",
    "\n",
    "stat5"
   ]
  },
  {
   "cell_type": "code",
   "execution_count": 167,
   "id": "95406579",
   "metadata": {},
   "outputs": [
    {
     "data": {
      "text/html": [
       "<div>\n",
       "<style scoped>\n",
       "    .dataframe tbody tr th:only-of-type {\n",
       "        vertical-align: middle;\n",
       "    }\n",
       "\n",
       "    .dataframe tbody tr th {\n",
       "        vertical-align: top;\n",
       "    }\n",
       "\n",
       "    .dataframe thead th {\n",
       "        text-align: right;\n",
       "    }\n",
       "</style>\n",
       "<table border=\"1\" class=\"dataframe\">\n",
       "  <thead>\n",
       "    <tr style=\"text-align: right;\">\n",
       "      <th></th>\n",
       "      <th>InstitutionCategory_2</th>\n",
       "      <th>Succession_Broad</th>\n",
       "      <th>Between PI Trans</th>\n",
       "      <th>Within PI Trans</th>\n",
       "      <th>Percentage Between PI Trans</th>\n",
       "    </tr>\n",
       "  </thead>\n",
       "  <tbody>\n",
       "    <tr>\n",
       "      <th>0</th>\n",
       "      <td>Government</td>\n",
       "      <td>KIS to KJI</td>\n",
       "      <td>171</td>\n",
       "      <td>90</td>\n",
       "      <td>0.6552</td>\n",
       "    </tr>\n",
       "    <tr>\n",
       "      <th>1</th>\n",
       "      <td>Government</td>\n",
       "      <td>KJI to KJU</td>\n",
       "      <td>107</td>\n",
       "      <td>169</td>\n",
       "      <td>0.3877</td>\n",
       "    </tr>\n",
       "    <tr>\n",
       "      <th>2</th>\n",
       "      <td>Military</td>\n",
       "      <td>KIS to KJI</td>\n",
       "      <td>16</td>\n",
       "      <td>4</td>\n",
       "      <td>0.8000</td>\n",
       "    </tr>\n",
       "    <tr>\n",
       "      <th>3</th>\n",
       "      <td>Military</td>\n",
       "      <td>KJI to KJU</td>\n",
       "      <td>22</td>\n",
       "      <td>7</td>\n",
       "      <td>0.7586</td>\n",
       "    </tr>\n",
       "    <tr>\n",
       "      <th>4</th>\n",
       "      <td>Party</td>\n",
       "      <td>KIS to KJI</td>\n",
       "      <td>201</td>\n",
       "      <td>143</td>\n",
       "      <td>0.5843</td>\n",
       "    </tr>\n",
       "    <tr>\n",
       "      <th>5</th>\n",
       "      <td>Party</td>\n",
       "      <td>KJI to KJU</td>\n",
       "      <td>195</td>\n",
       "      <td>96</td>\n",
       "      <td>0.6701</td>\n",
       "    </tr>\n",
       "    <tr>\n",
       "      <th>6</th>\n",
       "      <td>Social</td>\n",
       "      <td>KIS to KJI</td>\n",
       "      <td>37</td>\n",
       "      <td>12</td>\n",
       "      <td>0.7551</td>\n",
       "    </tr>\n",
       "    <tr>\n",
       "      <th>7</th>\n",
       "      <td>Social</td>\n",
       "      <td>KJI to KJU</td>\n",
       "      <td>39</td>\n",
       "      <td>13</td>\n",
       "      <td>0.7500</td>\n",
       "    </tr>\n",
       "  </tbody>\n",
       "</table>\n",
       "</div>"
      ],
      "text/plain": [
       "  InstitutionCategory_2 Succession_Broad  Between PI Trans  Within PI Trans  \\\n",
       "0            Government       KIS to KJI               171               90   \n",
       "1            Government       KJI to KJU               107              169   \n",
       "2              Military       KIS to KJI                16                4   \n",
       "3              Military       KJI to KJU                22                7   \n",
       "4                 Party       KIS to KJI               201              143   \n",
       "5                 Party       KJI to KJU               195               96   \n",
       "6                Social       KIS to KJI                37               12   \n",
       "7                Social       KJI to KJU                39               13   \n",
       "\n",
       "   Percentage Between PI Trans  \n",
       "0                       0.6552  \n",
       "1                       0.3877  \n",
       "2                       0.8000  \n",
       "3                       0.7586  \n",
       "4                       0.5843  \n",
       "5                       0.6701  \n",
       "6                       0.7551  \n",
       "7                       0.7500  "
      ]
     },
     "execution_count": 167,
     "metadata": {},
     "output_type": "execute_result"
    }
   ],
   "source": [
    "stat5[\"Percentage Between PI Trans\"] = stat5.apply(lambda x: round(x[\"Between PI Trans\"] / (x[\"Between PI Trans\"] + x[\"Within PI Trans\"]),4) if (x[\"Between PI Trans\"] + x[\"Within PI Trans\"]) > 0 else np.nan,axis=1)\n",
    "stat5"
   ]
  },
  {
   "cell_type": "code",
   "execution_count": 168,
   "id": "fda23c8e",
   "metadata": {},
   "outputs": [
    {
     "data": {
      "text/plain": [
       "['Government', 'Social', 'Party', 'Military']"
      ]
     },
     "execution_count": 168,
     "metadata": {},
     "output_type": "execute_result"
    }
   ],
   "source": [
    "ics = list(trans.InstitutionCategory_2.unique())\n",
    "ics"
   ]
  },
  {
   "cell_type": "code",
   "execution_count": 171,
   "id": "0323ff4e",
   "metadata": {
    "scrolled": true
   },
   "outputs": [
    {
     "name": "stdout",
     "output_type": "stream",
     "text": [
      "\n",
      "\n",
      " Government \n",
      "\n",
      "\n",
      "171 107 261 276 0.05\n",
      "p1:\t 0.6551724137931034\n",
      "p2:\t 0.38768115942028986\n",
      "p1-p2:\t 0.26749125437281357\n",
      "z:\t 6.200107861806762\n",
      "pvalue:\t 2.821224365234798e-10***\n",
      "\n",
      "\n",
      " Social \n",
      "\n",
      "\n",
      "37 39 49 52 0.05\n",
      "p1:\t 0.7551020408163265\n",
      "p2:\t 0.75\n",
      "p1-p2:\t 0.005102040816326481\n",
      "z:\t 0.059378268184122555\n",
      "pvalue:\t 0.47632541099482384\n",
      "\n",
      "\n",
      " Party \n",
      "\n",
      "\n",
      "201 195 344 291 0.05\n",
      "p1:\t 0.5843023255813954\n",
      "p2:\t 0.6701030927835051\n",
      "p1-p2:\t -0.08580076720210972\n",
      "z:\t -2.2236027689395153\n",
      "pvalue:\t 0.013087591051327951*\n",
      "\n",
      "\n",
      " Military \n",
      "\n",
      "\n",
      "16 22 20 29 0.05\n",
      "p1:\t 0.8\n",
      "p2:\t 0.7586206896551724\n",
      "p1-p2:\t 0.04137931034482767\n",
      "z:\t 0.3411985242228634\n",
      "pvalue:\t 0.3664770670999453\n"
     ]
    }
   ],
   "source": [
    "ttest_by_institution_category_2(ics,stat5,2,3,0,1)"
   ]
  },
  {
   "cell_type": "markdown",
   "id": "d45ef525",
   "metadata": {},
   "source": [
    "### 6. s1s2 trans count (within & between PI), succession narrow, by receving PI"
   ]
  },
  {
   "cell_type": "code",
   "execution_count": 172,
   "id": "b36ae696",
   "metadata": {},
   "outputs": [],
   "source": [
    "stat6_columns = [\"InstitutionCategory_2\",\"PISame\",\"Succession_Narrow\",\"OrgName_2\"]\n",
    "stat6_groupby_columns = [\"InstitutionCategory_2\",\"Succession_Narrow\",\"PISame\"]"
   ]
  },
  {
   "cell_type": "code",
   "execution_count": 173,
   "id": "efe33a50",
   "metadata": {},
   "outputs": [
    {
     "data": {
      "text/html": [
       "<div>\n",
       "<style scoped>\n",
       "    .dataframe tbody tr th:only-of-type {\n",
       "        vertical-align: middle;\n",
       "    }\n",
       "\n",
       "    .dataframe tbody tr th {\n",
       "        vertical-align: top;\n",
       "    }\n",
       "\n",
       "    .dataframe thead th {\n",
       "        text-align: right;\n",
       "    }\n",
       "</style>\n",
       "<table border=\"1\" class=\"dataframe\">\n",
       "  <thead>\n",
       "    <tr style=\"text-align: right;\">\n",
       "      <th></th>\n",
       "      <th>InstitutionCategory_2</th>\n",
       "      <th>Succession_Narrow</th>\n",
       "      <th>Between PI Trans</th>\n",
       "      <th>Within PI Trans</th>\n",
       "    </tr>\n",
       "  </thead>\n",
       "  <tbody>\n",
       "    <tr>\n",
       "      <th>0</th>\n",
       "      <td>Government</td>\n",
       "      <td>KIS to KJI</td>\n",
       "      <td>92</td>\n",
       "      <td>56</td>\n",
       "    </tr>\n",
       "    <tr>\n",
       "      <th>1</th>\n",
       "      <td>Government</td>\n",
       "      <td>KJI to KJU</td>\n",
       "      <td>46</td>\n",
       "      <td>51</td>\n",
       "    </tr>\n",
       "    <tr>\n",
       "      <th>2</th>\n",
       "      <td>Military</td>\n",
       "      <td>KIS to KJI</td>\n",
       "      <td>18</td>\n",
       "      <td>2</td>\n",
       "    </tr>\n",
       "    <tr>\n",
       "      <th>3</th>\n",
       "      <td>Military</td>\n",
       "      <td>KJI to KJU</td>\n",
       "      <td>14</td>\n",
       "      <td>4</td>\n",
       "    </tr>\n",
       "    <tr>\n",
       "      <th>4</th>\n",
       "      <td>Party</td>\n",
       "      <td>KIS to KJI</td>\n",
       "      <td>67</td>\n",
       "      <td>66</td>\n",
       "    </tr>\n",
       "    <tr>\n",
       "      <th>5</th>\n",
       "      <td>Party</td>\n",
       "      <td>KJI to KJU</td>\n",
       "      <td>173</td>\n",
       "      <td>85</td>\n",
       "    </tr>\n",
       "    <tr>\n",
       "      <th>6</th>\n",
       "      <td>Social</td>\n",
       "      <td>KIS to KJI</td>\n",
       "      <td>19</td>\n",
       "      <td>3</td>\n",
       "    </tr>\n",
       "    <tr>\n",
       "      <th>7</th>\n",
       "      <td>Social</td>\n",
       "      <td>KJI to KJU</td>\n",
       "      <td>9</td>\n",
       "      <td>1</td>\n",
       "    </tr>\n",
       "  </tbody>\n",
       "</table>\n",
       "</div>"
      ],
      "text/plain": [
       "  InstitutionCategory_2 Succession_Narrow  Between PI Trans  Within PI Trans\n",
       "0            Government        KIS to KJI                92               56\n",
       "1            Government        KJI to KJU                46               51\n",
       "2              Military        KIS to KJI                18                2\n",
       "3              Military        KJI to KJU                14                4\n",
       "4                 Party        KIS to KJI                67               66\n",
       "5                 Party        KJI to KJU               173               85\n",
       "6                Social        KIS to KJI                19                3\n",
       "7                Social        KJI to KJU                 9                1"
      ]
     },
     "execution_count": 173,
     "metadata": {},
     "output_type": "execute_result"
    }
   ],
   "source": [
    "stat6 = trans[stat6_columns].groupby(stat6_groupby_columns,as_index=False)[\"OrgName_2\"].agg({\"Total Transitions\":\"count\"})\n",
    "\n",
    "# pivot PISame from column to rows\n",
    "stat6 = stat6.pivot(index=[\"InstitutionCategory_2\",\"Succession_Narrow\",],columns=\"PISame\",values=\"Total Transitions\")\n",
    "# pivot_column_labels = [\"Succession_Broad\",\"Between PI Trans\",\"Within PI Trans\"]\n",
    "pivot_column_labels = [\"Between PI Trans\",\"Within PI Trans\"]\n",
    "stat6.columns = pivot_column_labels\n",
    "stat6 = stat6.reset_index()\n",
    "\n",
    "stat6"
   ]
  },
  {
   "cell_type": "code",
   "execution_count": 174,
   "id": "316b9f7c",
   "metadata": {},
   "outputs": [
    {
     "data": {
      "text/html": [
       "<div>\n",
       "<style scoped>\n",
       "    .dataframe tbody tr th:only-of-type {\n",
       "        vertical-align: middle;\n",
       "    }\n",
       "\n",
       "    .dataframe tbody tr th {\n",
       "        vertical-align: top;\n",
       "    }\n",
       "\n",
       "    .dataframe thead th {\n",
       "        text-align: right;\n",
       "    }\n",
       "</style>\n",
       "<table border=\"1\" class=\"dataframe\">\n",
       "  <thead>\n",
       "    <tr style=\"text-align: right;\">\n",
       "      <th></th>\n",
       "      <th>InstitutionCategory_2</th>\n",
       "      <th>Succession_Narrow</th>\n",
       "      <th>Between PI Trans</th>\n",
       "      <th>Within PI Trans</th>\n",
       "      <th>Percentage Between PI Trans</th>\n",
       "    </tr>\n",
       "  </thead>\n",
       "  <tbody>\n",
       "    <tr>\n",
       "      <th>0</th>\n",
       "      <td>Government</td>\n",
       "      <td>KIS to KJI</td>\n",
       "      <td>92</td>\n",
       "      <td>56</td>\n",
       "      <td>0.6216</td>\n",
       "    </tr>\n",
       "    <tr>\n",
       "      <th>1</th>\n",
       "      <td>Government</td>\n",
       "      <td>KJI to KJU</td>\n",
       "      <td>46</td>\n",
       "      <td>51</td>\n",
       "      <td>0.4742</td>\n",
       "    </tr>\n",
       "    <tr>\n",
       "      <th>2</th>\n",
       "      <td>Military</td>\n",
       "      <td>KIS to KJI</td>\n",
       "      <td>18</td>\n",
       "      <td>2</td>\n",
       "      <td>0.9000</td>\n",
       "    </tr>\n",
       "    <tr>\n",
       "      <th>3</th>\n",
       "      <td>Military</td>\n",
       "      <td>KJI to KJU</td>\n",
       "      <td>14</td>\n",
       "      <td>4</td>\n",
       "      <td>0.7778</td>\n",
       "    </tr>\n",
       "    <tr>\n",
       "      <th>4</th>\n",
       "      <td>Party</td>\n",
       "      <td>KIS to KJI</td>\n",
       "      <td>67</td>\n",
       "      <td>66</td>\n",
       "      <td>0.5038</td>\n",
       "    </tr>\n",
       "    <tr>\n",
       "      <th>5</th>\n",
       "      <td>Party</td>\n",
       "      <td>KJI to KJU</td>\n",
       "      <td>173</td>\n",
       "      <td>85</td>\n",
       "      <td>0.6705</td>\n",
       "    </tr>\n",
       "    <tr>\n",
       "      <th>6</th>\n",
       "      <td>Social</td>\n",
       "      <td>KIS to KJI</td>\n",
       "      <td>19</td>\n",
       "      <td>3</td>\n",
       "      <td>0.8636</td>\n",
       "    </tr>\n",
       "    <tr>\n",
       "      <th>7</th>\n",
       "      <td>Social</td>\n",
       "      <td>KJI to KJU</td>\n",
       "      <td>9</td>\n",
       "      <td>1</td>\n",
       "      <td>0.9000</td>\n",
       "    </tr>\n",
       "  </tbody>\n",
       "</table>\n",
       "</div>"
      ],
      "text/plain": [
       "  InstitutionCategory_2 Succession_Narrow  Between PI Trans  Within PI Trans  \\\n",
       "0            Government        KIS to KJI                92               56   \n",
       "1            Government        KJI to KJU                46               51   \n",
       "2              Military        KIS to KJI                18                2   \n",
       "3              Military        KJI to KJU                14                4   \n",
       "4                 Party        KIS to KJI                67               66   \n",
       "5                 Party        KJI to KJU               173               85   \n",
       "6                Social        KIS to KJI                19                3   \n",
       "7                Social        KJI to KJU                 9                1   \n",
       "\n",
       "   Percentage Between PI Trans  \n",
       "0                       0.6216  \n",
       "1                       0.4742  \n",
       "2                       0.9000  \n",
       "3                       0.7778  \n",
       "4                       0.5038  \n",
       "5                       0.6705  \n",
       "6                       0.8636  \n",
       "7                       0.9000  "
      ]
     },
     "execution_count": 174,
     "metadata": {},
     "output_type": "execute_result"
    }
   ],
   "source": [
    "stat6[\"Percentage Between PI Trans\"] = stat6.apply(lambda x: round(x[\"Between PI Trans\"] / (x[\"Between PI Trans\"] + x[\"Within PI Trans\"]),4) if (x[\"Between PI Trans\"] + x[\"Within PI Trans\"]) > 0 else np.nan,axis=1)\n",
    "stat6"
   ]
  },
  {
   "cell_type": "code",
   "execution_count": 175,
   "id": "b4b00c25",
   "metadata": {},
   "outputs": [
    {
     "data": {
      "text/plain": [
       "['Government', 'Social', 'Party', 'Military']"
      ]
     },
     "execution_count": 175,
     "metadata": {},
     "output_type": "execute_result"
    }
   ],
   "source": [
    "ics = list(trans.InstitutionCategory_2.unique())\n",
    "ics"
   ]
  },
  {
   "cell_type": "code",
   "execution_count": 176,
   "id": "f55767e4",
   "metadata": {
    "scrolled": true
   },
   "outputs": [
    {
     "name": "stdout",
     "output_type": "stream",
     "text": [
      "\n",
      "\n",
      " Government \n",
      "\n",
      "\n",
      "92 46 148 97 0.05\n",
      "p1:\t 0.6216216216216216\n",
      "p2:\t 0.4742268041237113\n",
      "p1-p2:\t 0.14739481749791028\n",
      "z:\t 2.274838389522843\n",
      "pvalue:\t 0.011457813185327792*\n",
      "\n",
      "\n",
      " Social \n",
      "\n",
      "\n",
      "19 9 22 10 0.05\n",
      "p1:\t 0.8636363636363636\n",
      "p2:\t 0.9\n",
      "p1-p2:\t -0.036363636363636376\n",
      "z:\t -0.28829998806257895\n",
      "pvalue:\t 0.38655855814547635\n",
      "\n",
      "\n",
      " Party \n",
      "\n",
      "\n",
      "67 173 133 258 0.05\n",
      "p1:\t 0.5037593984962406\n",
      "p2:\t 0.6705426356589147\n",
      "p1-p2:\t -0.16678323716267407\n",
      "z:\t -3.2090933948882228\n",
      "pvalue:\t 0.0006657711611772754***\n",
      "\n",
      "\n",
      " Military \n",
      "\n",
      "\n",
      "18 14 20 18 0.05\n",
      "p1:\t 0.9\n",
      "p2:\t 0.7777777777777778\n",
      "p1-p2:\t 0.12222222222222223\n",
      "z:\t 1.031674295430419\n",
      "pvalue:\t 0.15111236144659512\n"
     ]
    }
   ],
   "source": [
    "ttest_by_institution_category_2(ics,stat6,2,3,0,1)"
   ]
  },
  {
   "cell_type": "code",
   "execution_count": null,
   "id": "30d410f4",
   "metadata": {},
   "outputs": [],
   "source": []
  },
  {
   "cell_type": "code",
   "execution_count": null,
   "id": "18d3ee9a",
   "metadata": {},
   "outputs": [],
   "source": []
  }
 ],
 "metadata": {
  "kernelspec": {
   "display_name": "Python 3 (ipykernel)",
   "language": "python",
   "name": "python3"
  },
  "language_info": {
   "codemirror_mode": {
    "name": "ipython",
    "version": 3
   },
   "file_extension": ".py",
   "mimetype": "text/x-python",
   "name": "python",
   "nbconvert_exporter": "python",
   "pygments_lexer": "ipython3",
   "version": "3.11.5"
  }
 },
 "nbformat": 4,
 "nbformat_minor": 5
}
