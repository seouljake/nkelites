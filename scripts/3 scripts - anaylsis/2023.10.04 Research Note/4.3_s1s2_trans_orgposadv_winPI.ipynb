{
 "cells": [
  {
   "cell_type": "code",
   "execution_count": 1,
   "id": "74698cf3",
   "metadata": {},
   "outputs": [],
   "source": [
    "import pandas as pd\n",
    "import numpy as np\n",
    "from datetime import date\n",
    "from statistics import mean, mode\n",
    "from pandas.api.types import CategoricalDtype\n",
    "import math\n",
    "from scipy.stats import norm"
   ]
  },
  {
   "cell_type": "code",
   "execution_count": 2,
   "id": "75aa1647",
   "metadata": {},
   "outputs": [
    {
     "name": "stdout",
     "output_type": "stream",
     "text": [
      "2024-02-10\n"
     ]
    }
   ],
   "source": [
    "today = date.today()\n",
    "print(today)"
   ]
  },
  {
   "cell_type": "markdown",
   "id": "aaf25c71",
   "metadata": {},
   "source": [
    "# Tables"
   ]
  },
  {
   "cell_type": "code",
   "execution_count": 3,
   "id": "f2c9c339",
   "metadata": {},
   "outputs": [],
   "source": [
    "path_tables = \"C:/Users/seoul/Dropbox/00 technical/github/nkelites/data/combined data/combined data - 2 tables/\""
   ]
  },
  {
   "cell_type": "code",
   "execution_count": 4,
   "id": "200fa7f5",
   "metadata": {},
   "outputs": [],
   "source": [
    "# tables\n",
    "filename_careerorglink = \"careerorglink.xlsx\"\n",
    "filename_leadercareerlink = \"leadercareerlink.xlsx\"\n",
    "filename_orgtree = \"orgtree.xlsx\"\n",
    "filename_elected = \"positions_elected.xlsx\""
   ]
  },
  {
   "cell_type": "code",
   "execution_count": 5,
   "id": "b7d9b165",
   "metadata": {
    "scrolled": true
   },
   "outputs": [],
   "source": [
    "# career-org link\n",
    "# col = pd.read_excel(path_tables + filename_careerorglink,dtype=\"str\")\n",
    "# col.shape"
   ]
  },
  {
   "cell_type": "code",
   "execution_count": 6,
   "id": "0bd17a8f",
   "metadata": {},
   "outputs": [],
   "source": [
    "# col.columns"
   ]
  },
  {
   "cell_type": "code",
   "execution_count": 7,
   "id": "4aa22e14",
   "metadata": {},
   "outputs": [],
   "source": [
    "# leader-career link\n",
    "# lcl = pd.read_excel(path_tables + filename_leadercareerlink,dtype=\"str\")\n",
    "# lcl.shape"
   ]
  },
  {
   "cell_type": "code",
   "execution_count": 8,
   "id": "ac0f5205",
   "metadata": {},
   "outputs": [],
   "source": [
    "# lcl.columns"
   ]
  },
  {
   "cell_type": "code",
   "execution_count": 9,
   "id": "44ba37bd",
   "metadata": {},
   "outputs": [],
   "source": [
    "# orgtree\n",
    "# org = pd.read_excel(path_tables + filename_orgtree,dtype=\"str\")\n",
    "# org.shape"
   ]
  },
  {
   "cell_type": "code",
   "execution_count": 10,
   "id": "05b6e3e8",
   "metadata": {},
   "outputs": [],
   "source": [
    "# org.columns"
   ]
  },
  {
   "cell_type": "code",
   "execution_count": 11,
   "id": "b93b05ba",
   "metadata": {},
   "outputs": [],
   "source": [
    "# elected = pd.read_excel(path_tables + filename_elected,dtype=\"str\")\n",
    "# elected.shape"
   ]
  },
  {
   "cell_type": "code",
   "execution_count": 12,
   "id": "011dfaa4",
   "metadata": {},
   "outputs": [],
   "source": [
    "# elected.columns"
   ]
  },
  {
   "cell_type": "markdown",
   "id": "52841326",
   "metadata": {},
   "source": [
    "# Queries"
   ]
  },
  {
   "cell_type": "code",
   "execution_count": 13,
   "id": "df5b44ce",
   "metadata": {},
   "outputs": [],
   "source": [
    "path_queries = \"C:/Users/seoul/Dropbox/00 technical/github/nkelites/data/combined data/combined data - 3 queries/\""
   ]
  },
  {
   "cell_type": "code",
   "execution_count": 14,
   "id": "4fa255b3",
   "metadata": {},
   "outputs": [],
   "source": [
    "filename_leaderjob_all = \"leaderjob_electUnelect_inOutgov.xlsx\"\n",
    "filename_leaderjob_no_spa = \"leaderjob_no_spa.xlsx\"\n",
    "filename_leaderjobtransition_no_spa = \"leaderjobtransition_no_spa.xlsx\""
   ]
  },
  {
   "cell_type": "code",
   "execution_count": 15,
   "id": "45955b23",
   "metadata": {},
   "outputs": [],
   "source": [
    "# leader jobs\n",
    "# ljobs_all = pd.read_excel(path_queries + filename_leaderjob_all,dtype=\"str\")\n",
    "# ljobs_all.shape"
   ]
  },
  {
   "cell_type": "code",
   "execution_count": 16,
   "id": "96354cc9",
   "metadata": {},
   "outputs": [],
   "source": [
    "# ljobs = pd.read_excel(path_queries + filename_leaderjob_no_spa,dtype=\"str\")\n",
    "# ljobs.shape"
   ]
  },
  {
   "cell_type": "code",
   "execution_count": 17,
   "id": "31cb5cd4",
   "metadata": {},
   "outputs": [
    {
     "data": {
      "text/plain": [
       "(4306, 31)"
      ]
     },
     "execution_count": 17,
     "metadata": {},
     "output_type": "execute_result"
    }
   ],
   "source": [
    "# transitions used for analysis - no SPA - no local-local\n",
    "trans = pd.read_excel(path_queries + filename_leaderjobtransition_no_spa,dtype=\"str\")\n",
    "trans.shape"
   ]
  },
  {
   "cell_type": "markdown",
   "id": "16c49e74",
   "metadata": {},
   "source": [
    "# Analysis - Research Note"
   ]
  },
  {
   "cell_type": "code",
   "execution_count": 18,
   "id": "39648498",
   "metadata": {},
   "outputs": [],
   "source": [
    "path_analysis = \"C:/Users/seoul/Dropbox/00 technical/github/nkelites/analysis/\""
   ]
  },
  {
   "cell_type": "code",
   "execution_count": 19,
   "id": "72a5cd0f",
   "metadata": {},
   "outputs": [],
   "source": [
    "# analysis sub-paths\n",
    "study0_path = \"2023.10.04 Study 0 - research note/\"\n",
    "study1_path = \"2023.10.04 Study 1 - political capital/\"\n",
    "study2_path = \"2023.10.04 Study 2 - commitment vs control/\"\n",
    "study3_path = \"2023.10.04 Study 3 - reds vs experts/\""
   ]
  },
  {
   "cell_type": "code",
   "execution_count": 20,
   "id": "27470b4e",
   "metadata": {},
   "outputs": [],
   "source": [
    "# ljobs = ljobs.astype({\"CareerStartYear\":\"int\",\"CareerStartDate\":\"int\"})\n",
    "# ljobs.dtypes"
   ]
  },
  {
   "cell_type": "markdown",
   "id": "7d59db9d",
   "metadata": {},
   "source": [
    "# Functions"
   ]
  },
  {
   "cell_type": "code",
   "execution_count": 21,
   "id": "ba5de424",
   "metadata": {},
   "outputs": [],
   "source": [
    "def merge_results(m):\n",
    "    \n",
    "    print(\"\\nMerge Results...\")\n",
    "    print(\"\")\n",
    "    print(\"\\tshape     :\",m.shape)\n",
    "    print(\"\\tleft_only :\",m[m[\"_merge\"]==\"left_only\"].shape)\n",
    "    print(\"\\tboth      :\",m[m[\"_merge\"]==\"both\"].shape)\n",
    "    print(\"\\tright_only:\",m[m[\"_merge\"]==\"right_only\"].shape)"
   ]
  },
  {
   "cell_type": "code",
   "execution_count": 22,
   "id": "d3411709",
   "metadata": {},
   "outputs": [],
   "source": [
    "# using this on (PI,OrgName) will ensure unique & non-null keys\n",
    "# using this on a larger df will ensure unique rows and non-null keys, but not unique keys\n",
    "\n",
    "def unique_non_null_rows(olddf):\n",
    "    \n",
    "    df = olddf.copy()\n",
    "    \n",
    "    \n",
    "    ### drop duplicates\n",
    "    df = df.drop_duplicates(keep=\"first\",ignore_index=True)\n",
    "\n",
    "    ### drop null rows\n",
    "    df.dropna(how=\"all\",axis=0,inplace=True)\n",
    "    \n",
    "    # drop rows with null PI\n",
    "    df = df[~(df[\"PrimaryInstitution\"].isna())]\n",
    "        \n",
    "    ### drop rows where PI contains stop words\n",
    "    stop_words_lower = [\"uncertain\",\"current\",\"deprecated\",\"please_revise\"]\n",
    "    df = df[ ~ df[\"PrimaryInstitution\"].str.lower().isin(stop_words_lower)]\n",
    "            \n",
    "\n",
    "    print(\"\\nUnique Non-null Rows...\")\n",
    "    print(\"\")\n",
    "    print(\"\\tNon-unique rows:\",olddf.shape)\n",
    "    print(\"\\tUnique rows    :\",df.shape)\n",
    "\n",
    "    ### sort\n",
    "    df = df.sort_values([\"PrimaryInstitution\",\"OrgName\"])\n",
    "    \n",
    "    return df"
   ]
  },
  {
   "cell_type": "code",
   "execution_count": 23,
   "id": "945f13c9",
   "metadata": {},
   "outputs": [],
   "source": [
    "def create_time_series(series,group_var,count_var):\n",
    "    \n",
    "    yeardist = series.groupby(group_var,as_index=False).count().sort_values(group_var)\n",
    "    \n",
    "    max_year = max(series[group_var])\n",
    "    x = pd.DataFrame({\"year\":pd.Series(range(min(yeardist[group_var].astype(int)),max(yeardist[group_var].astype(int))+1))})\n",
    "    \n",
    "    yeardist[group_var] = yeardist[group_var].astype(int,errors=\"ignore\")\n",
    "    \n",
    "    ts = x.merge(yeardist,left_on=\"year\",right_on=group_var,how=\"left\")\n",
    "    ts.loc[ts[count_var].isna(),count_var]=0\n",
    "    # merge_results(ts)\n",
    "    \n",
    "    ts_columns = [\"year\",count_var]\n",
    "    ts = ts[ts_columns]\n",
    "    \n",
    "    return ts"
   ]
  },
  {
   "cell_type": "code",
   "execution_count": 24,
   "id": "fb9d2ff8",
   "metadata": {},
   "outputs": [],
   "source": [
    "# create InstitutionCategory (English) variable InstitutionType\n",
    "\n",
    "# use with apply. e.g., \n",
    "# df[\"InstitutionCategory] = df[\"InstitutionType\"].apply(define_institution_category)\n",
    "\n",
    "def define_institution_category(PI):\n",
    "    \n",
    "    c = \"Social\"\n",
    "    \n",
    "    if PI==\"정권기관\":\n",
    "        c = \"Government\"\n",
    "    elif PI==\"노동당\":\n",
    "        c = \"Party\"\n",
    "    elif PI==\"인민군\":\n",
    "        c = \"Military\"\n",
    "        \n",
    "    return c"
   ]
  },
  {
   "cell_type": "code",
   "execution_count": 25,
   "id": "ffc5547a",
   "metadata": {},
   "outputs": [],
   "source": [
    "def two_sample_ttest_proportions(x1,x2,n1,n2,alpha):\n",
    "    \n",
    "    pstar = (x1+x2)/(n1+n2)\n",
    "    p1 = x1/n1\n",
    "    p2 = x2/n2\n",
    "    z = (p1-p2) / math.sqrt(pstar*(1-pstar)*((1/n1) + (1/n2)))\n",
    "    pvalue = 1-norm.cdf(abs(z))\n",
    "    \n",
    "    # add significance stars to result\n",
    "    stars = \"\"\n",
    "    if pvalue<.05:\n",
    "        stars = \"*\"\n",
    "    if pvalue<.01:\n",
    "        stars = \"**\"\n",
    "    if pvalue<.001:\n",
    "        stars = \"***\"\n",
    "    result = str(pvalue)+stars\n",
    "    \n",
    "    print(\"x1,x2,n1,n2:\",[x1,x2,n1,n2])\n",
    "    print(\"p1:\\t\",p1)\n",
    "    print(\"p2:\\t\",p2)\n",
    "    print(\"p1-p2:\\t\",(p1-p2))\n",
    "    print(\"z:\\t\",z)\n",
    "    print(\"pvalue:\\t\",result)"
   ]
  },
  {
   "cell_type": "markdown",
   "id": "224feffb",
   "metadata": {},
   "source": [
    "# Format & Covariates"
   ]
  },
  {
   "cell_type": "markdown",
   "id": "7178064f",
   "metadata": {},
   "source": [
    "### 0. change datatypes"
   ]
  },
  {
   "cell_type": "code",
   "execution_count": 26,
   "id": "b22117ac",
   "metadata": {},
   "outputs": [
    {
     "data": {
      "text/plain": [
       "LeaderID                   object\n",
       "CareerString_1             object\n",
       "CareerDateString_2022_1    object\n",
       "CareerStartYear_1           int32\n",
       "CareerStartMonth_1         object\n",
       "CareerStartDate_1           int32\n",
       "CareerSubstring_1          object\n",
       "InstitutionType_1          object\n",
       "PrimaryInstitution_1       object\n",
       "OrgName_1                  object\n",
       "Local_1                    object\n",
       "Position_1                 object\n",
       "IsElected_1                object\n",
       "OrgRank_1                  object\n",
       "PositionRank_1             object\n",
       "CareerString_2             object\n",
       "CareerDateString_2022_2    object\n",
       "CareerStartYear_2           int32\n",
       "CareerStartMonth_2         object\n",
       "CareerStartDate_2           int32\n",
       "CareerSubstring_2          object\n",
       "InstitutionType_2          object\n",
       "PrimaryInstitution_2       object\n",
       "OrgName_2                  object\n",
       "Local_2                    object\n",
       "Position_2                 object\n",
       "IsElected_2                object\n",
       "OrgRank_2                  object\n",
       "PositionRank_2             object\n",
       "OrgAdvance                  int32\n",
       "PositionAdvance             int32\n",
       "dtype: object"
      ]
     },
     "execution_count": 26,
     "metadata": {},
     "output_type": "execute_result"
    }
   ],
   "source": [
    "trans = trans.astype({\"OrgAdvance\":\"int\",\"PositionAdvance\":\"int\",\n",
    "                      \"CareerStartYear_1\":\"int\",\"CareerStartYear_2\":\"int\",\n",
    "                      \"CareerStartDate_1\":\"int\",\"CareerStartDate_2\":\"int\"})\n",
    "trans.dtypes"
   ]
  },
  {
   "cell_type": "markdown",
   "id": "6d0fa0f4",
   "metadata": {},
   "source": [
    "### 1. double-check exlcudes SPA jobs and local-local trans"
   ]
  },
  {
   "cell_type": "code",
   "execution_count": 27,
   "id": "93f690ba",
   "metadata": {},
   "outputs": [
    {
     "data": {
      "text/plain": [
       "Index(['LeaderID', 'CareerString_1', 'CareerDateString_2022_1',\n",
       "       'CareerStartYear_1', 'CareerStartMonth_1', 'CareerStartDate_1',\n",
       "       'CareerSubstring_1', 'InstitutionType_1', 'PrimaryInstitution_1',\n",
       "       'OrgName_1', 'Local_1', 'Position_1', 'IsElected_1', 'OrgRank_1',\n",
       "       'PositionRank_1', 'CareerString_2', 'CareerDateString_2022_2',\n",
       "       'CareerStartYear_2', 'CareerStartMonth_2', 'CareerStartDate_2',\n",
       "       'CareerSubstring_2', 'InstitutionType_2', 'PrimaryInstitution_2',\n",
       "       'OrgName_2', 'Local_2', 'Position_2', 'IsElected_2', 'OrgRank_2',\n",
       "       'PositionRank_2', 'OrgAdvance', 'PositionAdvance'],\n",
       "      dtype='object')"
      ]
     },
     "execution_count": 27,
     "metadata": {},
     "output_type": "execute_result"
    }
   ],
   "source": [
    "trans.columns"
   ]
  },
  {
   "cell_type": "code",
   "execution_count": 28,
   "id": "6ae6e6c4",
   "metadata": {},
   "outputs": [
    {
     "data": {
      "text/plain": [
       "(4306, 31)"
      ]
     },
     "execution_count": 28,
     "metadata": {},
     "output_type": "execute_result"
    }
   ],
   "source": [
    "trans.shape"
   ]
  },
  {
   "cell_type": "code",
   "execution_count": 29,
   "id": "d79f24b1",
   "metadata": {},
   "outputs": [
    {
     "data": {
      "text/plain": [
       "array(['False', 'True'], dtype=object)"
      ]
     },
     "execution_count": 29,
     "metadata": {},
     "output_type": "execute_result"
    }
   ],
   "source": [
    "trans.Local_1.unique()"
   ]
  },
  {
   "cell_type": "code",
   "execution_count": 30,
   "id": "26322931",
   "metadata": {},
   "outputs": [
    {
     "data": {
      "text/plain": [
       "(4222, 31)"
      ]
     },
     "execution_count": 30,
     "metadata": {},
     "output_type": "execute_result"
    }
   ],
   "source": [
    "# remove Local-Local ties\n",
    "trans = trans[~((trans[\"Local_1\"]==\"True\") & (trans[\"Local_2\"]==\"True\"))]\n",
    "trans.shape"
   ]
  },
  {
   "cell_type": "markdown",
   "id": "89b8005e",
   "metadata": {},
   "source": [
    "### 2. add InstitutionCategory_1, InstitutionCategory_2"
   ]
  },
  {
   "cell_type": "code",
   "execution_count": 31,
   "id": "2c23bb5d",
   "metadata": {},
   "outputs": [
    {
     "data": {
      "text/plain": [
       "array(['정권기관', '국제친선단체', '노동당', '인민군', '당외곽및사회단체_사회부문(별책)',\n",
       "       '당외곽및사회단체_사회부문', '당외곽및사회단체_체육부문', '당외곽및사회단체_정치부문', '당외곽및사회단체_대외부문',\n",
       "       '당외곽및사회단체_근로단체', '당외곽및사회단체_종교부문', '당외곽및사회단체_경제부문(별책)',\n",
       "       '당외곽및사회단체_경제부문'], dtype=object)"
      ]
     },
     "execution_count": 31,
     "metadata": {},
     "output_type": "execute_result"
    }
   ],
   "source": [
    "trans.InstitutionType_1.unique()"
   ]
  },
  {
   "cell_type": "markdown",
   "id": "85a5450f",
   "metadata": {},
   "source": [
    "### 3. PISame, OrgSame"
   ]
  },
  {
   "cell_type": "code",
   "execution_count": 32,
   "id": "fa61b250",
   "metadata": {},
   "outputs": [
    {
     "data": {
      "text/plain": [
       "Index(['LeaderID', 'CareerString_1', 'CareerDateString_2022_1',\n",
       "       'CareerStartYear_1', 'CareerStartMonth_1', 'CareerStartDate_1',\n",
       "       'CareerSubstring_1', 'InstitutionType_1', 'PrimaryInstitution_1',\n",
       "       'OrgName_1', 'Local_1', 'Position_1', 'IsElected_1', 'OrgRank_1',\n",
       "       'PositionRank_1', 'CareerString_2', 'CareerDateString_2022_2',\n",
       "       'CareerStartYear_2', 'CareerStartMonth_2', 'CareerStartDate_2',\n",
       "       'CareerSubstring_2', 'InstitutionType_2', 'PrimaryInstitution_2',\n",
       "       'OrgName_2', 'Local_2', 'Position_2', 'IsElected_2', 'OrgRank_2',\n",
       "       'PositionRank_2', 'OrgAdvance', 'PositionAdvance'],\n",
       "      dtype='object')"
      ]
     },
     "execution_count": 32,
     "metadata": {},
     "output_type": "execute_result"
    }
   ],
   "source": [
    "trans.columns"
   ]
  },
  {
   "cell_type": "code",
   "execution_count": 33,
   "id": "c948f887",
   "metadata": {},
   "outputs": [
    {
     "data": {
      "text/plain": [
       "array([False,  True])"
      ]
     },
     "execution_count": 33,
     "metadata": {},
     "output_type": "execute_result"
    }
   ],
   "source": [
    "trans[\"PISame\"] = False\n",
    "trans.loc[trans[\"PrimaryInstitution_1\"]==trans[\"PrimaryInstitution_2\"],[\"PISame\"]] = True\n",
    "trans.PISame.unique()"
   ]
  },
  {
   "cell_type": "code",
   "execution_count": 34,
   "id": "4ee35bbd",
   "metadata": {},
   "outputs": [
    {
     "data": {
      "text/plain": [
       "array([nan, True, False], dtype=object)"
      ]
     },
     "execution_count": 34,
     "metadata": {},
     "output_type": "execute_result"
    }
   ],
   "source": [
    "trans[\"OrgSame\"] = np.nan\n",
    "trans.loc[trans[\"PISame\"]==True,\"OrgSame\"] = False\n",
    "trans.loc[(trans[\"PISame\"]==True) & (trans[\"OrgName_1\"]==trans[\"OrgName_2\"]),[\"OrgSame\"]] = True\n",
    "trans.OrgSame.unique()"
   ]
  },
  {
   "cell_type": "markdown",
   "id": "2c1d7604",
   "metadata": {},
   "source": [
    "### 4. OrgRankChange, PositionRankChange"
   ]
  },
  {
   "cell_type": "code",
   "execution_count": 35,
   "id": "6d952efc",
   "metadata": {},
   "outputs": [],
   "source": [
    "trans[\"OrgRankChange\"] = np.nan"
   ]
  },
  {
   "cell_type": "code",
   "execution_count": 36,
   "id": "7b8ad44b",
   "metadata": {},
   "outputs": [],
   "source": [
    "trans.loc[trans[\"PISame\"] & (trans[\"OrgRank_1\"]>trans[\"OrgRank_2\"]),\"OrgRankChange\"] = \"lower\"\n",
    "trans.loc[trans[\"PISame\"] & (trans[\"OrgRank_1\"]==trans[\"OrgRank_2\"]),\"OrgRankChange\"] = \"same\"\n",
    "trans.loc[trans[\"PISame\"] & (trans[\"OrgRank_1\"]<trans[\"OrgRank_2\"]),\"OrgRankChange\"] = \"higher\""
   ]
  },
  {
   "cell_type": "code",
   "execution_count": 37,
   "id": "a9670361",
   "metadata": {},
   "outputs": [],
   "source": [
    "value_order = [\"lower\",\"same\",\"higher\"]\n",
    "trans.OrgRankChange = trans.OrgRankChange.astype(\"category\")\n",
    "trans.OrgRankChange = trans.OrgRankChange.cat.set_categories(value_order)"
   ]
  },
  {
   "cell_type": "code",
   "execution_count": 38,
   "id": "f6419f47",
   "metadata": {},
   "outputs": [
    {
     "data": {
      "text/plain": [
       "[NaN, 'same', 'higher', 'lower']\n",
       "Categories (3, object): ['lower', 'same', 'higher']"
      ]
     },
     "execution_count": 38,
     "metadata": {},
     "output_type": "execute_result"
    }
   ],
   "source": [
    "trans.OrgRankChange.unique()"
   ]
  },
  {
   "cell_type": "code",
   "execution_count": 39,
   "id": "2a902ad9",
   "metadata": {},
   "outputs": [],
   "source": [
    "trans[\"PositionRankChange\"] = np.nan"
   ]
  },
  {
   "cell_type": "code",
   "execution_count": 40,
   "id": "8aef237c",
   "metadata": {},
   "outputs": [],
   "source": [
    "# PositionRankChange, narrowly defined, with OrgSame=True\n",
    "# trans.loc[trans[\"OrgSame\"] & (trans[\"PositionRank_1\"]>trans[\"PositionRank_2\"]),\"PositionRankChange\"] = \"lower\"\n",
    "# trans.loc[trans[\"OrgSame\"] & (trans[\"PositionRank_1\"]==trans[\"PositionRank_2\"]),\"PositionRankChange\"] = \"same\"\n",
    "# trans.loc[trans[\"OrgSame\"] & (trans[\"PositionRank_1\"]<trans[\"PositionRank_2\"]),\"PositionRankChange\"] = \"higher\""
   ]
  },
  {
   "cell_type": "code",
   "execution_count": 41,
   "id": "064e4299",
   "metadata": {},
   "outputs": [],
   "source": [
    "# PositionRankChange, broadly defined, with PISame=True & OrgRankChange=\"same\"\n",
    "trans.loc[trans[\"PISame\"] & trans[\"OrgRankChange\"].isin([\"same\"]) & (trans[\"PositionRank_1\"]>trans[\"PositionRank_2\"]),\"PositionRankChange\"] = \"lower\"\n",
    "trans.loc[trans[\"PISame\"] & trans[\"OrgRankChange\"].isin([\"same\"]) & (trans[\"PositionRank_1\"]==trans[\"PositionRank_2\"]),\"PositionRankChange\"] = \"same\"\n",
    "trans.loc[trans[\"PISame\"] & trans[\"OrgRankChange\"].isin([\"same\"]) & (trans[\"PositionRank_1\"]<trans[\"PositionRank_2\"]),\"PositionRankChange\"] = \"higher\""
   ]
  },
  {
   "cell_type": "code",
   "execution_count": 42,
   "id": "5e716cc8",
   "metadata": {},
   "outputs": [],
   "source": [
    "value_order = [\"lower\",\"same\",\"higher\"]\n",
    "trans.PositionRankChange = trans.PositionRankChange.astype(\"category\")\n",
    "trans.PositionRankChange = trans.PositionRankChange.cat.set_categories(value_order)"
   ]
  },
  {
   "cell_type": "code",
   "execution_count": 43,
   "id": "404e6562",
   "metadata": {},
   "outputs": [
    {
     "data": {
      "text/plain": [
       "[NaN, 'same', 'higher', 'lower']\n",
       "Categories (3, object): ['lower', 'same', 'higher']"
      ]
     },
     "execution_count": 43,
     "metadata": {},
     "output_type": "execute_result"
    }
   ],
   "source": [
    "trans.PositionRankChange.unique()"
   ]
  },
  {
   "cell_type": "markdown",
   "id": "b9d6f5ef",
   "metadata": {},
   "source": [
    "### 5. Succession Period - Broad\n",
    "\n",
    "* KIS-->KJI: 1974-1993 - less institutionalized (stronger intra)\n",
    "* KJI--->KJU:  2002-2011 - more institutionalized (stronger inter)"
   ]
  },
  {
   "cell_type": "code",
   "execution_count": 44,
   "id": "85574772",
   "metadata": {},
   "outputs": [],
   "source": [
    "trans[\"Succession_Broad\"] = np.nan"
   ]
  },
  {
   "cell_type": "code",
   "execution_count": 45,
   "id": "4e61e921",
   "metadata": {},
   "outputs": [],
   "source": [
    "value_order = [\"KIS to KJI\",\"KJI to KJU\"]\n",
    "trans.Succession_Broad = trans.Succession_Broad.astype(\"category\")\n",
    "trans.Succession_Broad = trans.Succession_Broad.cat.set_categories(value_order)"
   ]
  },
  {
   "cell_type": "code",
   "execution_count": 46,
   "id": "4b01e6b8",
   "metadata": {},
   "outputs": [],
   "source": [
    "trans.loc[(trans[\"CareerStartYear_2\"]>1973) & (trans[\"CareerStartYear_2\"]<1994),\"Succession_Broad\"] = \"KIS to KJI\"\n",
    "trans.loc[(trans[\"CareerStartYear_2\"]>2001) & (trans[\"CareerStartYear_2\"]<2012),\"Succession_Broad\"] = \"KJI to KJU\""
   ]
  },
  {
   "cell_type": "code",
   "execution_count": 47,
   "id": "99b41611",
   "metadata": {},
   "outputs": [
    {
     "data": {
      "text/html": [
       "<div>\n",
       "<style scoped>\n",
       "    .dataframe tbody tr th:only-of-type {\n",
       "        vertical-align: middle;\n",
       "    }\n",
       "\n",
       "    .dataframe tbody tr th {\n",
       "        vertical-align: top;\n",
       "    }\n",
       "\n",
       "    .dataframe thead th {\n",
       "        text-align: right;\n",
       "    }\n",
       "</style>\n",
       "<table border=\"1\" class=\"dataframe\">\n",
       "  <thead>\n",
       "    <tr style=\"text-align: right;\">\n",
       "      <th></th>\n",
       "      <th>Succession_Broad</th>\n",
       "      <th>OrgName_2</th>\n",
       "    </tr>\n",
       "  </thead>\n",
       "  <tbody>\n",
       "    <tr>\n",
       "      <th>0</th>\n",
       "      <td>KIS to KJI</td>\n",
       "      <td>674</td>\n",
       "    </tr>\n",
       "    <tr>\n",
       "      <th>1</th>\n",
       "      <td>KJI to KJU</td>\n",
       "      <td>648</td>\n",
       "    </tr>\n",
       "  </tbody>\n",
       "</table>\n",
       "</div>"
      ],
      "text/plain": [
       "  Succession_Broad  OrgName_2\n",
       "0       KIS to KJI        674\n",
       "1       KJI to KJU        648"
      ]
     },
     "execution_count": 47,
     "metadata": {},
     "output_type": "execute_result"
    }
   ],
   "source": [
    "trans[[\"Succession_Broad\",\"OrgName_2\"]].groupby(\"Succession_Broad\",as_index=False).count()"
   ]
  },
  {
   "cell_type": "code",
   "execution_count": 48,
   "id": "2a42e205",
   "metadata": {},
   "outputs": [
    {
     "data": {
      "text/plain": [
       "34      1977\n",
       "35      1977\n",
       "36      1979\n",
       "37      1980\n",
       "38      1982\n",
       "        ... \n",
       "3805    1980\n",
       "3934    1993\n",
       "4285    1977\n",
       "4286    1980\n",
       "4287    1990\n",
       "Name: CareerStartYear_2, Length: 1006, dtype: int32"
      ]
     },
     "execution_count": 48,
     "metadata": {},
     "output_type": "execute_result"
    }
   ],
   "source": [
    "trans.loc[trans[\"Succession_Broad\"]==\"KIS to KJI\",\"CareerStartYear_2\"]"
   ]
  },
  {
   "cell_type": "markdown",
   "id": "6bd80638",
   "metadata": {},
   "source": [
    "### 6. Succession Period - Narrow\n",
    "\n",
    "#### Esther's periodization\n",
    "* KIS-->KJI: 1987-1994 - less institutionalized (stronger intra)\n",
    "* KJI--->KJU:  2009-2011 - more institutionalized (stronger inter)"
   ]
  },
  {
   "cell_type": "code",
   "execution_count": 49,
   "id": "c304d6bb",
   "metadata": {},
   "outputs": [],
   "source": [
    "trans[\"Succession_Narrow\"] = np.nan"
   ]
  },
  {
   "cell_type": "code",
   "execution_count": 50,
   "id": "5b98cedb",
   "metadata": {},
   "outputs": [],
   "source": [
    "value_order = [\"KIS to KJI\",\"KJI to KJU\"]\n",
    "trans.Succession_Narrow = trans.Succession_Narrow.astype(\"category\")\n",
    "trans.Succession_Narrow = trans.Succession_Narrow.cat.set_categories(value_order)"
   ]
  },
  {
   "cell_type": "code",
   "execution_count": 51,
   "id": "f68822a7",
   "metadata": {},
   "outputs": [],
   "source": [
    "### Esther's periodization\n",
    "\n",
    "trans.loc[(trans[\"CareerStartYear_2\"]>1986) & (trans[\"CareerStartYear_2\"]<1995),\"Succession_Narrow\"] = \"KIS to KJI\"\n",
    "trans.loc[(trans[\"CareerStartYear_2\"]>2008) & (trans[\"CareerStartYear_2\"]<2012),\"Succession_Narrow\"] = \"KJI to KJU\""
   ]
  },
  {
   "cell_type": "code",
   "execution_count": 52,
   "id": "0cff7789",
   "metadata": {
    "scrolled": false
   },
   "outputs": [
    {
     "data": {
      "text/html": [
       "<div>\n",
       "<style scoped>\n",
       "    .dataframe tbody tr th:only-of-type {\n",
       "        vertical-align: middle;\n",
       "    }\n",
       "\n",
       "    .dataframe tbody tr th {\n",
       "        vertical-align: top;\n",
       "    }\n",
       "\n",
       "    .dataframe thead th {\n",
       "        text-align: right;\n",
       "    }\n",
       "</style>\n",
       "<table border=\"1\" class=\"dataframe\">\n",
       "  <thead>\n",
       "    <tr style=\"text-align: right;\">\n",
       "      <th></th>\n",
       "      <th>Succession_Narrow</th>\n",
       "      <th>OrgName_2</th>\n",
       "    </tr>\n",
       "  </thead>\n",
       "  <tbody>\n",
       "    <tr>\n",
       "      <th>0</th>\n",
       "      <td>KIS to KJI</td>\n",
       "      <td>323</td>\n",
       "    </tr>\n",
       "    <tr>\n",
       "      <th>1</th>\n",
       "      <td>KJI to KJU</td>\n",
       "      <td>383</td>\n",
       "    </tr>\n",
       "  </tbody>\n",
       "</table>\n",
       "</div>"
      ],
      "text/plain": [
       "  Succession_Narrow  OrgName_2\n",
       "0        KIS to KJI        323\n",
       "1        KJI to KJU        383"
      ]
     },
     "execution_count": 52,
     "metadata": {},
     "output_type": "execute_result"
    }
   ],
   "source": [
    "trans[[\"Succession_Narrow\",\"OrgName_2\"]].groupby(\"Succession_Narrow\",as_index=False).count()"
   ]
  },
  {
   "cell_type": "markdown",
   "id": "643ed226",
   "metadata": {},
   "source": [
    "### 7. OrgAdvanceYes"
   ]
  },
  {
   "cell_type": "code",
   "execution_count": 53,
   "id": "3f8ba5c4",
   "metadata": {},
   "outputs": [],
   "source": [
    "trans[\"OrgAdvanceYes\"] = np.nan"
   ]
  },
  {
   "cell_type": "code",
   "execution_count": 54,
   "id": "0619d3cd",
   "metadata": {},
   "outputs": [],
   "source": [
    "trans.loc[trans[\"PISame\"]==True,\"OrgAdvanceYes\"] = False\n",
    "trans.loc[trans[\"PISame\"]==True & (trans[\"OrgRank_1\"]>trans[\"OrgRank_2\"]),\"OrgAdvanceYes\"] = True"
   ]
  },
  {
   "cell_type": "markdown",
   "id": "600161bf",
   "metadata": {},
   "source": [
    "### 8. PositionAdvanceYes"
   ]
  },
  {
   "cell_type": "code",
   "execution_count": 55,
   "id": "e3cec35f",
   "metadata": {},
   "outputs": [],
   "source": [
    "trans[\"PositionAdvanceYes\"] = np.nan"
   ]
  },
  {
   "cell_type": "code",
   "execution_count": 56,
   "id": "83dcc4a2",
   "metadata": {},
   "outputs": [],
   "source": [
    "trans.loc[trans[\"OrgSame\"]==True,\"PositionAdvanceYes\"] = False\n",
    "trans.loc[trans[\"OrgSame\"]==True & (trans[\"PositionRank_1\"]>trans[\"PositionRank_2\"]),\"PositionAdvanceYes\"] = True"
   ]
  },
  {
   "cell_type": "markdown",
   "id": "e30c43d6",
   "metadata": {},
   "source": [
    "### 9. InstitutionCategory"
   ]
  },
  {
   "cell_type": "code",
   "execution_count": 57,
   "id": "41b7f5f4",
   "metadata": {},
   "outputs": [
    {
     "data": {
      "text/plain": [
       "Index(['LeaderID', 'CareerString_1', 'CareerDateString_2022_1',\n",
       "       'CareerStartYear_1', 'CareerStartMonth_1', 'CareerStartDate_1',\n",
       "       'CareerSubstring_1', 'InstitutionType_1', 'PrimaryInstitution_1',\n",
       "       'OrgName_1', 'Local_1', 'Position_1', 'IsElected_1', 'OrgRank_1',\n",
       "       'PositionRank_1', 'CareerString_2', 'CareerDateString_2022_2',\n",
       "       'CareerStartYear_2', 'CareerStartMonth_2', 'CareerStartDate_2',\n",
       "       'CareerSubstring_2', 'InstitutionType_2', 'PrimaryInstitution_2',\n",
       "       'OrgName_2', 'Local_2', 'Position_2', 'IsElected_2', 'OrgRank_2',\n",
       "       'PositionRank_2', 'OrgAdvance', 'PositionAdvance', 'PISame', 'OrgSame',\n",
       "       'OrgRankChange', 'PositionRankChange', 'Succession_Broad',\n",
       "       'Succession_Narrow', 'OrgAdvanceYes', 'PositionAdvanceYes'],\n",
       "      dtype='object')"
      ]
     },
     "execution_count": 57,
     "metadata": {},
     "output_type": "execute_result"
    }
   ],
   "source": [
    "trans.columns"
   ]
  },
  {
   "cell_type": "code",
   "execution_count": 58,
   "id": "3e2cb6fe",
   "metadata": {},
   "outputs": [],
   "source": [
    "trans[\"InstitutionCategory_1\"] = trans[\"InstitutionType_1\"].apply(define_institution_category)\n",
    "trans[\"InstitutionCategory_2\"] = trans[\"InstitutionType_2\"].apply(define_institution_category)"
   ]
  },
  {
   "cell_type": "markdown",
   "id": "be34784d",
   "metadata": {},
   "source": [
    "### 10. InstitutionCategorySame"
   ]
  },
  {
   "cell_type": "code",
   "execution_count": 59,
   "id": "d77928d7",
   "metadata": {},
   "outputs": [],
   "source": [
    "trans[\"InstitutionCategorySame\"] = trans[\"InstitutionCategory_1\"] == trans[\"InstitutionCategory_2\"]"
   ]
  },
  {
   "cell_type": "markdown",
   "id": "9ba34124",
   "metadata": {},
   "source": [
    "### 11. Succession_Five\n",
    "\n",
    "#### Jacob's periodization\n",
    "* KIS-->KJI: 1994-1999 - less institutionalized (stronger intra)\n",
    "* KJI--->KJU:  2011-2016 - more institutionalized (stronger inter)"
   ]
  },
  {
   "cell_type": "code",
   "execution_count": 60,
   "id": "ad809163",
   "metadata": {},
   "outputs": [],
   "source": [
    "trans[\"Succession_Five\"] = np.nan"
   ]
  },
  {
   "cell_type": "code",
   "execution_count": 61,
   "id": "675c0e3d",
   "metadata": {},
   "outputs": [],
   "source": [
    "value_order = [\"KIS to KJI\",\"KJI to KJU\"]\n",
    "trans.Succession_Five = trans.Succession_Five.astype(\"category\")\n",
    "trans.Succession_Five = trans.Succession_Five.cat.set_categories(value_order)"
   ]
  },
  {
   "cell_type": "code",
   "execution_count": 62,
   "id": "64a18561",
   "metadata": {},
   "outputs": [],
   "source": [
    "### Jacob's periodization\n",
    "\n",
    "trans.loc[(trans[\"CareerStartYear_2\"]>1993) & (trans[\"CareerStartYear_2\"]<2000),\"Succession_Five\"] = \"KIS to KJI\"\n",
    "trans.loc[(trans[\"CareerStartYear_2\"]>2010) & (trans[\"CareerStartYear_2\"]<2016),\"Succession_Five\"] = \"KJI to KJU\""
   ]
  },
  {
   "cell_type": "code",
   "execution_count": 63,
   "id": "24e9b26a",
   "metadata": {},
   "outputs": [
    {
     "data": {
      "text/html": [
       "<div>\n",
       "<style scoped>\n",
       "    .dataframe tbody tr th:only-of-type {\n",
       "        vertical-align: middle;\n",
       "    }\n",
       "\n",
       "    .dataframe tbody tr th {\n",
       "        vertical-align: top;\n",
       "    }\n",
       "\n",
       "    .dataframe thead th {\n",
       "        text-align: right;\n",
       "    }\n",
       "</style>\n",
       "<table border=\"1\" class=\"dataframe\">\n",
       "  <thead>\n",
       "    <tr style=\"text-align: right;\">\n",
       "      <th></th>\n",
       "      <th>Succession_Five</th>\n",
       "      <th>OrgName_2</th>\n",
       "    </tr>\n",
       "  </thead>\n",
       "  <tbody>\n",
       "    <tr>\n",
       "      <th>0</th>\n",
       "      <td>KIS to KJI</td>\n",
       "      <td>229</td>\n",
       "    </tr>\n",
       "    <tr>\n",
       "      <th>1</th>\n",
       "      <td>KJI to KJU</td>\n",
       "      <td>229</td>\n",
       "    </tr>\n",
       "  </tbody>\n",
       "</table>\n",
       "</div>"
      ],
      "text/plain": [
       "  Succession_Five  OrgName_2\n",
       "0      KIS to KJI        229\n",
       "1      KJI to KJU        229"
      ]
     },
     "execution_count": 63,
     "metadata": {},
     "output_type": "execute_result"
    }
   ],
   "source": [
    "trans[[\"Succession_Five\",\"OrgName_2\"]].groupby(\"Succession_Five\",as_index=False).count()"
   ]
  },
  {
   "cell_type": "code",
   "execution_count": null,
   "id": "fa273e95",
   "metadata": {},
   "outputs": [],
   "source": []
  },
  {
   "cell_type": "markdown",
   "id": "59d8c7d3",
   "metadata": {},
   "source": [
    "# Statistics"
   ]
  },
  {
   "cell_type": "markdown",
   "id": "dbffbf00",
   "metadata": {},
   "source": [
    "### 1. OrgRank increase - percent by year"
   ]
  },
  {
   "cell_type": "code",
   "execution_count": 64,
   "id": "5984c9c3",
   "metadata": {},
   "outputs": [],
   "source": [
    "stat1_columns = [\"CareerStartYear_2\",\"OrgAdvanceYes\"]\n",
    "stat1_groupby_columns = [\"CareerStartYear_2\"]\n",
    "stat1_label_columns = [\"Year\",\"Total Transitions\",\"Total Advancements of OrgRank\"]"
   ]
  },
  {
   "cell_type": "code",
   "execution_count": 65,
   "id": "99912b0d",
   "metadata": {},
   "outputs": [
    {
     "data": {
      "text/html": [
       "<div>\n",
       "<style scoped>\n",
       "    .dataframe tbody tr th:only-of-type {\n",
       "        vertical-align: middle;\n",
       "    }\n",
       "\n",
       "    .dataframe tbody tr th {\n",
       "        vertical-align: top;\n",
       "    }\n",
       "\n",
       "    .dataframe thead th {\n",
       "        text-align: right;\n",
       "    }\n",
       "</style>\n",
       "<table border=\"1\" class=\"dataframe\">\n",
       "  <thead>\n",
       "    <tr style=\"text-align: right;\">\n",
       "      <th></th>\n",
       "      <th>Year</th>\n",
       "      <th>Total Transitions</th>\n",
       "      <th>Total Advancements of OrgRank</th>\n",
       "      <th>Percentage Advancements of OrgRank</th>\n",
       "    </tr>\n",
       "  </thead>\n",
       "  <tbody>\n",
       "    <tr>\n",
       "      <th>0</th>\n",
       "      <td>1946</td>\n",
       "      <td>3</td>\n",
       "      <td>1</td>\n",
       "      <td>33.33</td>\n",
       "    </tr>\n",
       "    <tr>\n",
       "      <th>1</th>\n",
       "      <td>1947</td>\n",
       "      <td>1</td>\n",
       "      <td>True</td>\n",
       "      <td>100.00</td>\n",
       "    </tr>\n",
       "    <tr>\n",
       "      <th>2</th>\n",
       "      <td>1948</td>\n",
       "      <td>3</td>\n",
       "      <td>3</td>\n",
       "      <td>100.00</td>\n",
       "    </tr>\n",
       "    <tr>\n",
       "      <th>3</th>\n",
       "      <td>1949</td>\n",
       "      <td>1</td>\n",
       "      <td>True</td>\n",
       "      <td>100.00</td>\n",
       "    </tr>\n",
       "    <tr>\n",
       "      <th>4</th>\n",
       "      <td>1950</td>\n",
       "      <td>7</td>\n",
       "      <td>5</td>\n",
       "      <td>71.43</td>\n",
       "    </tr>\n",
       "    <tr>\n",
       "      <th>...</th>\n",
       "      <td>...</td>\n",
       "      <td>...</td>\n",
       "      <td>...</td>\n",
       "      <td>...</td>\n",
       "    </tr>\n",
       "    <tr>\n",
       "      <th>71</th>\n",
       "      <td>2017</td>\n",
       "      <td>59</td>\n",
       "      <td>29</td>\n",
       "      <td>49.15</td>\n",
       "    </tr>\n",
       "    <tr>\n",
       "      <th>72</th>\n",
       "      <td>2018</td>\n",
       "      <td>41</td>\n",
       "      <td>24</td>\n",
       "      <td>58.54</td>\n",
       "    </tr>\n",
       "    <tr>\n",
       "      <th>73</th>\n",
       "      <td>2019</td>\n",
       "      <td>127</td>\n",
       "      <td>69</td>\n",
       "      <td>54.33</td>\n",
       "    </tr>\n",
       "    <tr>\n",
       "      <th>74</th>\n",
       "      <td>2020</td>\n",
       "      <td>47</td>\n",
       "      <td>17</td>\n",
       "      <td>36.17</td>\n",
       "    </tr>\n",
       "    <tr>\n",
       "      <th>75</th>\n",
       "      <td>2021</td>\n",
       "      <td>216</td>\n",
       "      <td>106</td>\n",
       "      <td>49.07</td>\n",
       "    </tr>\n",
       "  </tbody>\n",
       "</table>\n",
       "<p>76 rows × 4 columns</p>\n",
       "</div>"
      ],
      "text/plain": [
       "    Year  Total Transitions Total Advancements of OrgRank  \\\n",
       "0   1946                  3                             1   \n",
       "1   1947                  1                          True   \n",
       "2   1948                  3                             3   \n",
       "3   1949                  1                          True   \n",
       "4   1950                  7                             5   \n",
       "..   ...                ...                           ...   \n",
       "71  2017                 59                            29   \n",
       "72  2018                 41                            24   \n",
       "73  2019                127                            69   \n",
       "74  2020                 47                            17   \n",
       "75  2021                216                           106   \n",
       "\n",
       "    Percentage Advancements of OrgRank  \n",
       "0                                33.33  \n",
       "1                               100.00  \n",
       "2                               100.00  \n",
       "3                               100.00  \n",
       "4                                71.43  \n",
       "..                                 ...  \n",
       "71                               49.15  \n",
       "72                               58.54  \n",
       "73                               54.33  \n",
       "74                               36.17  \n",
       "75                               49.07  \n",
       "\n",
       "[76 rows x 4 columns]"
      ]
     },
     "execution_count": 65,
     "metadata": {},
     "output_type": "execute_result"
    }
   ],
   "source": [
    "stat1 = trans[stat1_columns].groupby(stat1_groupby_columns,as_index=False)[\"OrgAdvanceYes\"].agg({\"Total Transitions\":\"count\",\"Total Advancements of OrgRank\":\"sum\"})\n",
    "stat1.columns = stat1_label_columns\n",
    "stat1[\"Percentage Advancements of OrgRank\"] = stat1.apply(lambda x: round(x[\"Total Advancements of OrgRank\"] / x[\"Total Transitions\"] * 100,2) if x[\"Total Transitions\"] > 0 else np.nan,axis=1)\n",
    "stat1"
   ]
  },
  {
   "cell_type": "code",
   "execution_count": 66,
   "id": "5af0f1da",
   "metadata": {},
   "outputs": [],
   "source": [
    "stat1_filename = \"orgrank_within_between.xlsx\"\n",
    "# stat1.to_excel(path_analysis + study0_path + stat2_filename,index=False)"
   ]
  },
  {
   "cell_type": "markdown",
   "id": "2bc49c4d",
   "metadata": {},
   "source": [
    "### 2. OrgRank increase - percent by year, PISame = True"
   ]
  },
  {
   "cell_type": "code",
   "execution_count": 67,
   "id": "9877f7c9",
   "metadata": {},
   "outputs": [
    {
     "data": {
      "text/plain": [
       "Index(['LeaderID', 'CareerString_1', 'CareerDateString_2022_1',\n",
       "       'CareerStartYear_1', 'CareerStartMonth_1', 'CareerStartDate_1',\n",
       "       'CareerSubstring_1', 'InstitutionType_1', 'PrimaryInstitution_1',\n",
       "       'OrgName_1', 'Local_1', 'Position_1', 'IsElected_1', 'OrgRank_1',\n",
       "       'PositionRank_1', 'CareerString_2', 'CareerDateString_2022_2',\n",
       "       'CareerStartYear_2', 'CareerStartMonth_2', 'CareerStartDate_2',\n",
       "       'CareerSubstring_2', 'InstitutionType_2', 'PrimaryInstitution_2',\n",
       "       'OrgName_2', 'Local_2', 'Position_2', 'IsElected_2', 'OrgRank_2',\n",
       "       'PositionRank_2', 'OrgAdvance', 'PositionAdvance', 'PISame', 'OrgSame',\n",
       "       'OrgRankChange', 'PositionRankChange', 'Succession_Broad',\n",
       "       'Succession_Narrow', 'OrgAdvanceYes', 'PositionAdvanceYes',\n",
       "       'InstitutionCategory_1', 'InstitutionCategory_2',\n",
       "       'InstitutionCategorySame', 'Succession_Five'],\n",
       "      dtype='object')"
      ]
     },
     "execution_count": 67,
     "metadata": {},
     "output_type": "execute_result"
    }
   ],
   "source": [
    "trans.columns"
   ]
  },
  {
   "cell_type": "code",
   "execution_count": 68,
   "id": "9a8bd603",
   "metadata": {},
   "outputs": [],
   "source": [
    "stat2_columns = [\"CareerStartYear_2\",\"OrgAdvanceYes\"]\n",
    "stat2_condition = trans[\"PISame\"]==True\n",
    "stat2_groupby_columns = [\"CareerStartYear_2\"]\n",
    "stat2_label_columns = [\"Year\",\"Total Transitions\",\"Total Advancements of OrgRank\"]"
   ]
  },
  {
   "cell_type": "code",
   "execution_count": 69,
   "id": "2a34be7c",
   "metadata": {},
   "outputs": [
    {
     "data": {
      "text/html": [
       "<div>\n",
       "<style scoped>\n",
       "    .dataframe tbody tr th:only-of-type {\n",
       "        vertical-align: middle;\n",
       "    }\n",
       "\n",
       "    .dataframe tbody tr th {\n",
       "        vertical-align: top;\n",
       "    }\n",
       "\n",
       "    .dataframe thead th {\n",
       "        text-align: right;\n",
       "    }\n",
       "</style>\n",
       "<table border=\"1\" class=\"dataframe\">\n",
       "  <thead>\n",
       "    <tr style=\"text-align: right;\">\n",
       "      <th></th>\n",
       "      <th>Year</th>\n",
       "      <th>Total Transitions</th>\n",
       "      <th>Total Advancements of OrgRank</th>\n",
       "      <th>Percentage Advancements of OrgRank</th>\n",
       "    </tr>\n",
       "  </thead>\n",
       "  <tbody>\n",
       "    <tr>\n",
       "      <th>0</th>\n",
       "      <td>1946</td>\n",
       "      <td>2</td>\n",
       "      <td>0</td>\n",
       "      <td>0.00</td>\n",
       "    </tr>\n",
       "    <tr>\n",
       "      <th>1</th>\n",
       "      <td>1948</td>\n",
       "      <td>2</td>\n",
       "      <td>2</td>\n",
       "      <td>100.00</td>\n",
       "    </tr>\n",
       "    <tr>\n",
       "      <th>2</th>\n",
       "      <td>1950</td>\n",
       "      <td>4</td>\n",
       "      <td>2</td>\n",
       "      <td>50.00</td>\n",
       "    </tr>\n",
       "    <tr>\n",
       "      <th>3</th>\n",
       "      <td>1951</td>\n",
       "      <td>5</td>\n",
       "      <td>0</td>\n",
       "      <td>0.00</td>\n",
       "    </tr>\n",
       "    <tr>\n",
       "      <th>4</th>\n",
       "      <td>1952</td>\n",
       "      <td>3</td>\n",
       "      <td>0</td>\n",
       "      <td>0.00</td>\n",
       "    </tr>\n",
       "    <tr>\n",
       "      <th>...</th>\n",
       "      <td>...</td>\n",
       "      <td>...</td>\n",
       "      <td>...</td>\n",
       "      <td>...</td>\n",
       "    </tr>\n",
       "    <tr>\n",
       "      <th>66</th>\n",
       "      <td>2017</td>\n",
       "      <td>33</td>\n",
       "      <td>3</td>\n",
       "      <td>9.09</td>\n",
       "    </tr>\n",
       "    <tr>\n",
       "      <th>67</th>\n",
       "      <td>2018</td>\n",
       "      <td>21</td>\n",
       "      <td>4</td>\n",
       "      <td>19.05</td>\n",
       "    </tr>\n",
       "    <tr>\n",
       "      <th>68</th>\n",
       "      <td>2019</td>\n",
       "      <td>67</td>\n",
       "      <td>9</td>\n",
       "      <td>13.43</td>\n",
       "    </tr>\n",
       "    <tr>\n",
       "      <th>69</th>\n",
       "      <td>2020</td>\n",
       "      <td>34</td>\n",
       "      <td>4</td>\n",
       "      <td>11.76</td>\n",
       "    </tr>\n",
       "    <tr>\n",
       "      <th>70</th>\n",
       "      <td>2021</td>\n",
       "      <td>158</td>\n",
       "      <td>48</td>\n",
       "      <td>30.38</td>\n",
       "    </tr>\n",
       "  </tbody>\n",
       "</table>\n",
       "<p>71 rows × 4 columns</p>\n",
       "</div>"
      ],
      "text/plain": [
       "    Year  Total Transitions Total Advancements of OrgRank  \\\n",
       "0   1946                  2                             0   \n",
       "1   1948                  2                             2   \n",
       "2   1950                  4                             2   \n",
       "3   1951                  5                             0   \n",
       "4   1952                  3                             0   \n",
       "..   ...                ...                           ...   \n",
       "66  2017                 33                             3   \n",
       "67  2018                 21                             4   \n",
       "68  2019                 67                             9   \n",
       "69  2020                 34                             4   \n",
       "70  2021                158                            48   \n",
       "\n",
       "    Percentage Advancements of OrgRank  \n",
       "0                                 0.00  \n",
       "1                               100.00  \n",
       "2                                50.00  \n",
       "3                                 0.00  \n",
       "4                                 0.00  \n",
       "..                                 ...  \n",
       "66                                9.09  \n",
       "67                               19.05  \n",
       "68                               13.43  \n",
       "69                               11.76  \n",
       "70                               30.38  \n",
       "\n",
       "[71 rows x 4 columns]"
      ]
     },
     "execution_count": 69,
     "metadata": {},
     "output_type": "execute_result"
    }
   ],
   "source": [
    "stat2 = trans.loc[stat2_condition,stat2_columns].groupby(stat2_groupby_columns,as_index=False)[\"OrgAdvanceYes\"].agg({\"Total Transitions\":\"count\",\"Total Advancements of OrgRank\":\"sum\"})\n",
    "stat2.columns = stat2_label_columns\n",
    "stat2[\"Percentage Advancements of OrgRank\"] = stat2.apply(lambda x: round(x[\"Total Advancements of OrgRank\"] / x[\"Total Transitions\"] * 100,2) if x[\"Total Transitions\"] > 0 else np.nan,axis=1)\n",
    "stat2"
   ]
  },
  {
   "cell_type": "code",
   "execution_count": 70,
   "id": "0b3ef83e",
   "metadata": {},
   "outputs": [],
   "source": [
    "# pivot SameInstitution - "
   ]
  },
  {
   "cell_type": "code",
   "execution_count": 71,
   "id": "5514f472",
   "metadata": {},
   "outputs": [],
   "source": [
    "# stat2_filename = \"orgrank_within.xlsx\"\n",
    "# stat2.to_excel(path_analysis + study0_path + stat2_filename,index=False)"
   ]
  },
  {
   "cell_type": "code",
   "execution_count": null,
   "id": "1e6ea003",
   "metadata": {},
   "outputs": [],
   "source": []
  },
  {
   "cell_type": "markdown",
   "id": "6b0ded7c",
   "metadata": {},
   "source": [
    "### 3. OrgRank increase - percent by succesion period (broad)"
   ]
  },
  {
   "cell_type": "code",
   "execution_count": 72,
   "id": "0f789512",
   "metadata": {},
   "outputs": [
    {
     "data": {
      "text/plain": [
       "Index(['LeaderID', 'CareerString_1', 'CareerDateString_2022_1',\n",
       "       'CareerStartYear_1', 'CareerStartMonth_1', 'CareerStartDate_1',\n",
       "       'CareerSubstring_1', 'InstitutionType_1', 'PrimaryInstitution_1',\n",
       "       'OrgName_1', 'Local_1', 'Position_1', 'IsElected_1', 'OrgRank_1',\n",
       "       'PositionRank_1', 'CareerString_2', 'CareerDateString_2022_2',\n",
       "       'CareerStartYear_2', 'CareerStartMonth_2', 'CareerStartDate_2',\n",
       "       'CareerSubstring_2', 'InstitutionType_2', 'PrimaryInstitution_2',\n",
       "       'OrgName_2', 'Local_2', 'Position_2', 'IsElected_2', 'OrgRank_2',\n",
       "       'PositionRank_2', 'OrgAdvance', 'PositionAdvance', 'PISame', 'OrgSame',\n",
       "       'OrgRankChange', 'PositionRankChange', 'Succession_Broad',\n",
       "       'Succession_Narrow', 'OrgAdvanceYes', 'PositionAdvanceYes',\n",
       "       'InstitutionCategory_1', 'InstitutionCategory_2',\n",
       "       'InstitutionCategorySame', 'Succession_Five'],\n",
       "      dtype='object')"
      ]
     },
     "execution_count": 72,
     "metadata": {},
     "output_type": "execute_result"
    }
   ],
   "source": [
    "trans.columns"
   ]
  },
  {
   "cell_type": "code",
   "execution_count": 73,
   "id": "be4f6b77",
   "metadata": {},
   "outputs": [],
   "source": [
    "stat3_columns = [\"Succession_Broad\",\"OrgAdvanceYes\"]\n",
    "stat3_condition = trans[\"PISame\"]==True\n",
    "stat3_groupby_columns = [\"Succession_Broad\"]\n",
    "stat3_label_columns = [\"Succession (Broad)\",\"Total Transitions\",\"Total Advancements of OrgRank\"]"
   ]
  },
  {
   "cell_type": "code",
   "execution_count": 74,
   "id": "96bda271",
   "metadata": {},
   "outputs": [
    {
     "data": {
      "text/html": [
       "<div>\n",
       "<style scoped>\n",
       "    .dataframe tbody tr th:only-of-type {\n",
       "        vertical-align: middle;\n",
       "    }\n",
       "\n",
       "    .dataframe tbody tr th {\n",
       "        vertical-align: top;\n",
       "    }\n",
       "\n",
       "    .dataframe thead th {\n",
       "        text-align: right;\n",
       "    }\n",
       "</style>\n",
       "<table border=\"1\" class=\"dataframe\">\n",
       "  <thead>\n",
       "    <tr style=\"text-align: right;\">\n",
       "      <th></th>\n",
       "      <th>Succession (Broad)</th>\n",
       "      <th>Total Transitions</th>\n",
       "      <th>Total Advancements of OrgRank</th>\n",
       "      <th>Percentage Advancements of OrgRank</th>\n",
       "    </tr>\n",
       "  </thead>\n",
       "  <tbody>\n",
       "    <tr>\n",
       "      <th>0</th>\n",
       "      <td>KIS to KJI</td>\n",
       "      <td>298</td>\n",
       "      <td>59</td>\n",
       "      <td>19.80</td>\n",
       "    </tr>\n",
       "    <tr>\n",
       "      <th>1</th>\n",
       "      <td>KJI to KJU</td>\n",
       "      <td>330</td>\n",
       "      <td>84</td>\n",
       "      <td>25.45</td>\n",
       "    </tr>\n",
       "  </tbody>\n",
       "</table>\n",
       "</div>"
      ],
      "text/plain": [
       "  Succession (Broad)  Total Transitions Total Advancements of OrgRank  \\\n",
       "0         KIS to KJI                298                            59   \n",
       "1         KJI to KJU                330                            84   \n",
       "\n",
       "   Percentage Advancements of OrgRank  \n",
       "0                               19.80  \n",
       "1                               25.45  "
      ]
     },
     "execution_count": 74,
     "metadata": {},
     "output_type": "execute_result"
    }
   ],
   "source": [
    "stat3 = trans.loc[stat3_condition,stat3_columns].groupby(stat3_groupby_columns,as_index=False)[\"OrgAdvanceYes\"].agg({\"Total Transitions\":\"count\",\"Total Advancements of OrgRank\":\"sum\"})\n",
    "stat3.columns = stat3_label_columns\n",
    "stat3[\"Percentage Advancements of OrgRank\"] = stat3.apply(lambda x: round(x[\"Total Advancements of OrgRank\"] / x[\"Total Transitions\"] * 100,2) if x[\"Total Transitions\"] > 0 else np.nan,axis=1)\n",
    "stat3"
   ]
  },
  {
   "cell_type": "code",
   "execution_count": null,
   "id": "f5e8db89",
   "metadata": {},
   "outputs": [],
   "source": []
  },
  {
   "cell_type": "markdown",
   "id": "4224b7b9",
   "metadata": {},
   "source": [
    "### 4. Transitions by period and institution "
   ]
  },
  {
   "cell_type": "code",
   "execution_count": 75,
   "id": "94741eb2",
   "metadata": {},
   "outputs": [],
   "source": [
    "stat9_columns = [\"Succession_Broad\",\"OrgName_2\"]\n",
    "stat9_condition = trans[\"PISame\"]==True\n",
    "stat9_groupby_columns = [\"Succession_Broad\"]\n",
    "stat9_label_columns = [\"Succession (Broad)\",\"Total Transitions\",\"Total Advancements of OrgRank\"]"
   ]
  },
  {
   "cell_type": "code",
   "execution_count": 76,
   "id": "e7d7aa5e",
   "metadata": {},
   "outputs": [
    {
     "data": {
      "text/html": [
       "<div>\n",
       "<style scoped>\n",
       "    .dataframe tbody tr th:only-of-type {\n",
       "        vertical-align: middle;\n",
       "    }\n",
       "\n",
       "    .dataframe tbody tr th {\n",
       "        vertical-align: top;\n",
       "    }\n",
       "\n",
       "    .dataframe thead th {\n",
       "        text-align: right;\n",
       "    }\n",
       "</style>\n",
       "<table border=\"1\" class=\"dataframe\">\n",
       "  <thead>\n",
       "    <tr style=\"text-align: right;\">\n",
       "      <th></th>\n",
       "      <th>LeaderID</th>\n",
       "      <th>CareerString_1</th>\n",
       "      <th>CareerDateString_2022_1</th>\n",
       "      <th>CareerStartYear_1</th>\n",
       "      <th>CareerStartMonth_1</th>\n",
       "      <th>CareerStartDate_1</th>\n",
       "      <th>CareerSubstring_1</th>\n",
       "      <th>InstitutionType_1</th>\n",
       "      <th>PrimaryInstitution_1</th>\n",
       "      <th>OrgName_1</th>\n",
       "      <th>...</th>\n",
       "      <th>OrgRankChange</th>\n",
       "      <th>PositionRankChange</th>\n",
       "      <th>Succession_Broad</th>\n",
       "      <th>Succession_Narrow</th>\n",
       "      <th>OrgAdvanceYes</th>\n",
       "      <th>PositionAdvanceYes</th>\n",
       "      <th>InstitutionCategory_1</th>\n",
       "      <th>InstitutionCategory_2</th>\n",
       "      <th>InstitutionCategorySame</th>\n",
       "      <th>Succession_Five</th>\n",
       "    </tr>\n",
       "  </thead>\n",
       "  <tbody>\n",
       "    <tr>\n",
       "      <th>0</th>\n",
       "      <td>리원일</td>\n",
       "      <td>1997.11 노동행정부 부부장</td>\n",
       "      <td>NaN</td>\n",
       "      <td>1997</td>\n",
       "      <td>11</td>\n",
       "      <td>199711</td>\n",
       "      <td>NaN</td>\n",
       "      <td>정권기관</td>\n",
       "      <td>정무원</td>\n",
       "      <td>노동행정부</td>\n",
       "      <td>...</td>\n",
       "      <td>NaN</td>\n",
       "      <td>NaN</td>\n",
       "      <td>NaN</td>\n",
       "      <td>NaN</td>\n",
       "      <td>True</td>\n",
       "      <td>NaN</td>\n",
       "      <td>Government</td>\n",
       "      <td>Government</td>\n",
       "      <td>True</td>\n",
       "      <td>KIS to KJI</td>\n",
       "    </tr>\n",
       "    <tr>\n",
       "      <th>1</th>\n",
       "      <td>리원일</td>\n",
       "      <td>노동성 상 *후임 : 강영수</td>\n",
       "      <td>1997.11</td>\n",
       "      <td>1997</td>\n",
       "      <td>11</td>\n",
       "      <td>199711</td>\n",
       "      <td>NaN</td>\n",
       "      <td>정권기관</td>\n",
       "      <td>내각</td>\n",
       "      <td>노동성</td>\n",
       "      <td>...</td>\n",
       "      <td>same</td>\n",
       "      <td>same</td>\n",
       "      <td>NaN</td>\n",
       "      <td>NaN</td>\n",
       "      <td>False</td>\n",
       "      <td>False</td>\n",
       "      <td>Government</td>\n",
       "      <td>Government</td>\n",
       "      <td>True</td>\n",
       "      <td>KIS to KJI</td>\n",
       "    </tr>\n",
       "    <tr>\n",
       "      <th>2</th>\n",
       "      <td>리원일</td>\n",
       "      <td>1998. 9 노동상</td>\n",
       "      <td>NaN</td>\n",
       "      <td>1998</td>\n",
       "      <td>9</td>\n",
       "      <td>199809</td>\n",
       "      <td>NaN</td>\n",
       "      <td>정권기관</td>\n",
       "      <td>내각</td>\n",
       "      <td>노동성</td>\n",
       "      <td>...</td>\n",
       "      <td>NaN</td>\n",
       "      <td>NaN</td>\n",
       "      <td>NaN</td>\n",
       "      <td>NaN</td>\n",
       "      <td>NaN</td>\n",
       "      <td>NaN</td>\n",
       "      <td>Government</td>\n",
       "      <td>Social</td>\n",
       "      <td>False</td>\n",
       "      <td>KIS to KJI</td>\n",
       "    </tr>\n",
       "    <tr>\n",
       "      <th>3</th>\n",
       "      <td>리원일</td>\n",
       "      <td>북-이란 친선협회 위원장</td>\n",
       "      <td>1998.11</td>\n",
       "      <td>1998</td>\n",
       "      <td>11</td>\n",
       "      <td>199811</td>\n",
       "      <td>NaN</td>\n",
       "      <td>국제친선단체</td>\n",
       "      <td>북-이란 친선협회</td>\n",
       "      <td>NaN</td>\n",
       "      <td>...</td>\n",
       "      <td>NaN</td>\n",
       "      <td>NaN</td>\n",
       "      <td>NaN</td>\n",
       "      <td>NaN</td>\n",
       "      <td>True</td>\n",
       "      <td>NaN</td>\n",
       "      <td>Social</td>\n",
       "      <td>Government</td>\n",
       "      <td>False</td>\n",
       "      <td>KIS to KJI</td>\n",
       "    </tr>\n",
       "    <tr>\n",
       "      <th>4</th>\n",
       "      <td>리원일</td>\n",
       "      <td>북-이란 친선협회 위원장</td>\n",
       "      <td>1998.11</td>\n",
       "      <td>1998</td>\n",
       "      <td>11</td>\n",
       "      <td>199811</td>\n",
       "      <td>NaN</td>\n",
       "      <td>국제친선단체</td>\n",
       "      <td>북-이란 친선협회</td>\n",
       "      <td>NaN</td>\n",
       "      <td>...</td>\n",
       "      <td>same</td>\n",
       "      <td>same</td>\n",
       "      <td>NaN</td>\n",
       "      <td>NaN</td>\n",
       "      <td>False</td>\n",
       "      <td>True</td>\n",
       "      <td>Social</td>\n",
       "      <td>Social</td>\n",
       "      <td>True</td>\n",
       "      <td>KIS to KJI</td>\n",
       "    </tr>\n",
       "  </tbody>\n",
       "</table>\n",
       "<p>5 rows × 43 columns</p>\n",
       "</div>"
      ],
      "text/plain": [
       "  LeaderID     CareerString_1 CareerDateString_2022_1  CareerStartYear_1  \\\n",
       "0      리원일  1997.11 노동행정부 부부장                     NaN               1997   \n",
       "1      리원일    노동성 상 *후임 : 강영수                 1997.11               1997   \n",
       "2      리원일        1998. 9 노동상                     NaN               1998   \n",
       "3      리원일      북-이란 친선협회 위원장                 1998.11               1998   \n",
       "4      리원일      북-이란 친선협회 위원장                 1998.11               1998   \n",
       "\n",
       "  CareerStartMonth_1  CareerStartDate_1 CareerSubstring_1 InstitutionType_1  \\\n",
       "0                 11             199711               NaN              정권기관   \n",
       "1                 11             199711               NaN              정권기관   \n",
       "2                  9             199809               NaN              정권기관   \n",
       "3                 11             199811               NaN            국제친선단체   \n",
       "4                 11             199811               NaN            국제친선단체   \n",
       "\n",
       "  PrimaryInstitution_1 OrgName_1  ... OrgRankChange PositionRankChange  \\\n",
       "0                  정무원     노동행정부  ...           NaN                NaN   \n",
       "1                   내각       노동성  ...          same               same   \n",
       "2                   내각       노동성  ...           NaN                NaN   \n",
       "3            북-이란 친선협회       NaN  ...           NaN                NaN   \n",
       "4            북-이란 친선협회       NaN  ...          same               same   \n",
       "\n",
       "  Succession_Broad Succession_Narrow OrgAdvanceYes PositionAdvanceYes  \\\n",
       "0              NaN               NaN          True                NaN   \n",
       "1              NaN               NaN         False              False   \n",
       "2              NaN               NaN           NaN                NaN   \n",
       "3              NaN               NaN          True                NaN   \n",
       "4              NaN               NaN         False               True   \n",
       "\n",
       "  InstitutionCategory_1  InstitutionCategory_2 InstitutionCategorySame  \\\n",
       "0            Government             Government                    True   \n",
       "1            Government             Government                    True   \n",
       "2            Government                 Social                   False   \n",
       "3                Social             Government                   False   \n",
       "4                Social                 Social                    True   \n",
       "\n",
       "   Succession_Five  \n",
       "0       KIS to KJI  \n",
       "1       KIS to KJI  \n",
       "2       KIS to KJI  \n",
       "3       KIS to KJI  \n",
       "4       KIS to KJI  \n",
       "\n",
       "[5 rows x 43 columns]"
      ]
     },
     "execution_count": 76,
     "metadata": {},
     "output_type": "execute_result"
    }
   ],
   "source": [
    "trans.head()"
   ]
  },
  {
   "cell_type": "code",
   "execution_count": 77,
   "id": "3a159606",
   "metadata": {},
   "outputs": [],
   "source": [
    "# stat9 = trans.loc[stat9_condition,stat9_columns].groupby(stat9_groupby_columns,as_index=False)[\"OrgAdvanceYes\"].agg({\"Total Transitions\":\"count\",\"Total Advancements of OrgRank\":\"sum\"})\n",
    "# stat9 = trans.loc[stat9_condition,stat9_columns].groupby(stat9_groupby_columns,as_index=False)[\"OrgName_2\"].agg({\"Total Transitions\":\"count\",\"Total Advancements of OrgRank\":\"sum\"})\n"
   ]
  },
  {
   "cell_type": "code",
   "execution_count": null,
   "id": "7bfc9201",
   "metadata": {},
   "outputs": [],
   "source": []
  },
  {
   "cell_type": "markdown",
   "id": "49b57767",
   "metadata": {},
   "source": [
    "# Hypothesis 1a - Org Advancement, broad succession periods"
   ]
  },
  {
   "cell_type": "code",
   "execution_count": 78,
   "id": "e66857ec",
   "metadata": {},
   "outputs": [
    {
     "data": {
      "text/html": [
       "<div>\n",
       "<style scoped>\n",
       "    .dataframe tbody tr th:only-of-type {\n",
       "        vertical-align: middle;\n",
       "    }\n",
       "\n",
       "    .dataframe tbody tr th {\n",
       "        vertical-align: top;\n",
       "    }\n",
       "\n",
       "    .dataframe thead th {\n",
       "        text-align: right;\n",
       "    }\n",
       "</style>\n",
       "<table border=\"1\" class=\"dataframe\">\n",
       "  <thead>\n",
       "    <tr style=\"text-align: right;\">\n",
       "      <th></th>\n",
       "      <th>Succession_Broad</th>\n",
       "      <th>LeaderID</th>\n",
       "    </tr>\n",
       "  </thead>\n",
       "  <tbody>\n",
       "    <tr>\n",
       "      <th>0</th>\n",
       "      <td>KIS to KJI</td>\n",
       "      <td>298</td>\n",
       "    </tr>\n",
       "    <tr>\n",
       "      <th>1</th>\n",
       "      <td>KJI to KJU</td>\n",
       "      <td>330</td>\n",
       "    </tr>\n",
       "  </tbody>\n",
       "</table>\n",
       "</div>"
      ],
      "text/plain": [
       "  Succession_Broad  LeaderID\n",
       "0       KIS to KJI       298\n",
       "1       KJI to KJU       330"
      ]
     },
     "execution_count": 78,
     "metadata": {},
     "output_type": "execute_result"
    }
   ],
   "source": [
    "select_columns = [\"Succession_Broad\",\"LeaderID\"]\n",
    "select_rows = trans[\"PISame\"]==True\n",
    "group_columns = [\"Succession_Broad\"]\n",
    "trans.loc[select_rows,select_columns].groupby(group_columns,as_index=False).count()"
   ]
  },
  {
   "cell_type": "code",
   "execution_count": 79,
   "id": "d0a7dcf3",
   "metadata": {},
   "outputs": [],
   "source": [
    "stat4_rows = trans[\"PISame\"]==True\n",
    "stat4_columns = [\"Succession_Broad\",\"OrgAdvanceYes\"]\n",
    "stat4_groupby = [\"Succession_Broad\"]\n",
    "stat4_labels = [\"Succession Period\",\"Total Transitions\",\"Total Advancements\"]"
   ]
  },
  {
   "cell_type": "code",
   "execution_count": 80,
   "id": "f796c190",
   "metadata": {
    "scrolled": true
   },
   "outputs": [
    {
     "data": {
      "text/html": [
       "<div>\n",
       "<style scoped>\n",
       "    .dataframe tbody tr th:only-of-type {\n",
       "        vertical-align: middle;\n",
       "    }\n",
       "\n",
       "    .dataframe tbody tr th {\n",
       "        vertical-align: top;\n",
       "    }\n",
       "\n",
       "    .dataframe thead th {\n",
       "        text-align: right;\n",
       "    }\n",
       "</style>\n",
       "<table border=\"1\" class=\"dataframe\">\n",
       "  <thead>\n",
       "    <tr style=\"text-align: right;\">\n",
       "      <th></th>\n",
       "      <th>Succession_Broad</th>\n",
       "      <th>Total Transitions</th>\n",
       "      <th>Total Advancements</th>\n",
       "    </tr>\n",
       "  </thead>\n",
       "  <tbody>\n",
       "    <tr>\n",
       "      <th>0</th>\n",
       "      <td>KIS to KJI</td>\n",
       "      <td>298</td>\n",
       "      <td>59</td>\n",
       "    </tr>\n",
       "    <tr>\n",
       "      <th>1</th>\n",
       "      <td>KJI to KJU</td>\n",
       "      <td>330</td>\n",
       "      <td>84</td>\n",
       "    </tr>\n",
       "  </tbody>\n",
       "</table>\n",
       "</div>"
      ],
      "text/plain": [
       "  Succession_Broad  Total Transitions Total Advancements\n",
       "0       KIS to KJI                298                 59\n",
       "1       KJI to KJU                330                 84"
      ]
     },
     "execution_count": 80,
     "metadata": {},
     "output_type": "execute_result"
    }
   ],
   "source": [
    "stat4 = trans.loc[stat4_rows,stat4_columns].groupby(stat4_groupby,as_index=False)[\"OrgAdvanceYes\"].agg({\"Total Transitions\":\"count\",\"Total Advancements\":\"sum\"})\n",
    "stat4"
   ]
  },
  {
   "cell_type": "code",
   "execution_count": 81,
   "id": "aa415d19",
   "metadata": {
    "scrolled": true
   },
   "outputs": [
    {
     "data": {
      "text/html": [
       "<div>\n",
       "<style scoped>\n",
       "    .dataframe tbody tr th:only-of-type {\n",
       "        vertical-align: middle;\n",
       "    }\n",
       "\n",
       "    .dataframe tbody tr th {\n",
       "        vertical-align: top;\n",
       "    }\n",
       "\n",
       "    .dataframe thead th {\n",
       "        text-align: right;\n",
       "    }\n",
       "</style>\n",
       "<table border=\"1\" class=\"dataframe\">\n",
       "  <thead>\n",
       "    <tr style=\"text-align: right;\">\n",
       "      <th></th>\n",
       "      <th>Succession_Broad</th>\n",
       "      <th>Total Transitions</th>\n",
       "      <th>Total Advancements</th>\n",
       "      <th>Percentage Advancements of OrgRank</th>\n",
       "    </tr>\n",
       "  </thead>\n",
       "  <tbody>\n",
       "    <tr>\n",
       "      <th>0</th>\n",
       "      <td>KIS to KJI</td>\n",
       "      <td>298</td>\n",
       "      <td>59</td>\n",
       "      <td>19.80</td>\n",
       "    </tr>\n",
       "    <tr>\n",
       "      <th>1</th>\n",
       "      <td>KJI to KJU</td>\n",
       "      <td>330</td>\n",
       "      <td>84</td>\n",
       "      <td>25.45</td>\n",
       "    </tr>\n",
       "  </tbody>\n",
       "</table>\n",
       "</div>"
      ],
      "text/plain": [
       "  Succession_Broad  Total Transitions Total Advancements  \\\n",
       "0       KIS to KJI                298                 59   \n",
       "1       KJI to KJU                330                 84   \n",
       "\n",
       "   Percentage Advancements of OrgRank  \n",
       "0                               19.80  \n",
       "1                               25.45  "
      ]
     },
     "execution_count": 81,
     "metadata": {},
     "output_type": "execute_result"
    }
   ],
   "source": [
    "stat4[\"Percentage Advancements of OrgRank\"] = stat4.apply(lambda x: round(x[\"Total Advancements\"] / x[\"Total Transitions\"] * 100,2) if x[\"Total Transitions\"] > 0 else np.nan,axis=1)\n",
    "stat4"
   ]
  },
  {
   "cell_type": "code",
   "execution_count": 82,
   "id": "8521cf2d",
   "metadata": {},
   "outputs": [],
   "source": [
    "x1 = stat4.iloc[0,2]\n",
    "x2 = stat4.iloc[1,2]\n",
    "n1 = stat4.iloc[0,1]\n",
    "n2 = stat4.iloc[1,1]"
   ]
  },
  {
   "cell_type": "code",
   "execution_count": 83,
   "id": "63e65665",
   "metadata": {
    "scrolled": true
   },
   "outputs": [
    {
     "name": "stdout",
     "output_type": "stream",
     "text": [
      "x1,x2,n1,n2: [59, 84, 298, 330]\n",
      "p1:\t 0.19798657718120805\n",
      "p2:\t 0.2545454545454545\n",
      "p1-p2:\t -0.056558877364246474\n",
      "z:\t -1.687744946895045\n",
      "pvalue:\t 0.045730099857957174*\n"
     ]
    }
   ],
   "source": [
    "# 2-sample test of proportions\n",
    "# def two_sample_ttest_proportions(x1,x2,n1,n2,alpha):\n",
    "two_sample_ttest_proportions(x1,x2,n1,n2,.05)"
   ]
  },
  {
   "cell_type": "markdown",
   "id": "97b84bb9",
   "metadata": {},
   "source": [
    "# Hypothesis 1b - Position Advancement, broad succession periods"
   ]
  },
  {
   "cell_type": "code",
   "execution_count": 84,
   "id": "2ca319b4",
   "metadata": {},
   "outputs": [
    {
     "data": {
      "text/html": [
       "<div>\n",
       "<style scoped>\n",
       "    .dataframe tbody tr th:only-of-type {\n",
       "        vertical-align: middle;\n",
       "    }\n",
       "\n",
       "    .dataframe tbody tr th {\n",
       "        vertical-align: top;\n",
       "    }\n",
       "\n",
       "    .dataframe thead th {\n",
       "        text-align: right;\n",
       "    }\n",
       "</style>\n",
       "<table border=\"1\" class=\"dataframe\">\n",
       "  <thead>\n",
       "    <tr style=\"text-align: right;\">\n",
       "      <th></th>\n",
       "      <th>Succession_Broad</th>\n",
       "      <th>LeaderID</th>\n",
       "    </tr>\n",
       "  </thead>\n",
       "  <tbody>\n",
       "    <tr>\n",
       "      <th>0</th>\n",
       "      <td>KIS to KJI</td>\n",
       "      <td>181</td>\n",
       "    </tr>\n",
       "    <tr>\n",
       "      <th>1</th>\n",
       "      <td>KJI to KJU</td>\n",
       "      <td>209</td>\n",
       "    </tr>\n",
       "  </tbody>\n",
       "</table>\n",
       "</div>"
      ],
      "text/plain": [
       "  Succession_Broad  LeaderID\n",
       "0       KIS to KJI       181\n",
       "1       KJI to KJU       209"
      ]
     },
     "execution_count": 84,
     "metadata": {},
     "output_type": "execute_result"
    }
   ],
   "source": [
    "select_columns = [\"Succession_Broad\",\"LeaderID\"]\n",
    "select_rows = (trans[\"PISame\"] & trans[\"OrgRankChange\"].isin([\"same\"]))\n",
    "group_columns = [\"Succession_Broad\"]\n",
    "trans.loc[select_rows,select_columns].groupby(group_columns,as_index=False).count()"
   ]
  },
  {
   "cell_type": "code",
   "execution_count": 85,
   "id": "93991e1f",
   "metadata": {},
   "outputs": [],
   "source": [
    "stat4b_rows = (trans[\"PISame\"] & trans[\"OrgRankChange\"].isin([\"same\"]))\n",
    "stat4b_columns = [\"Succession_Broad\",\"PositionAdvanceYes\"]\n",
    "stat4b_groupby = [\"Succession_Broad\"]\n",
    "stat4b_labels = [\"Succession Period\",\"Total Transitions\",\"Total Advancements\"]"
   ]
  },
  {
   "cell_type": "code",
   "execution_count": 86,
   "id": "019dd444",
   "metadata": {
    "scrolled": true
   },
   "outputs": [
    {
     "data": {
      "text/html": [
       "<div>\n",
       "<style scoped>\n",
       "    .dataframe tbody tr th:only-of-type {\n",
       "        vertical-align: middle;\n",
       "    }\n",
       "\n",
       "    .dataframe tbody tr th {\n",
       "        vertical-align: top;\n",
       "    }\n",
       "\n",
       "    .dataframe thead th {\n",
       "        text-align: right;\n",
       "    }\n",
       "</style>\n",
       "<table border=\"1\" class=\"dataframe\">\n",
       "  <thead>\n",
       "    <tr style=\"text-align: right;\">\n",
       "      <th></th>\n",
       "      <th>Succession_Broad</th>\n",
       "      <th>Total Transitions</th>\n",
       "      <th>Total Advancements</th>\n",
       "    </tr>\n",
       "  </thead>\n",
       "  <tbody>\n",
       "    <tr>\n",
       "      <th>0</th>\n",
       "      <td>KIS to KJI</td>\n",
       "      <td>148</td>\n",
       "      <td>104</td>\n",
       "    </tr>\n",
       "    <tr>\n",
       "      <th>1</th>\n",
       "      <td>KJI to KJU</td>\n",
       "      <td>179</td>\n",
       "      <td>127</td>\n",
       "    </tr>\n",
       "  </tbody>\n",
       "</table>\n",
       "</div>"
      ],
      "text/plain": [
       "  Succession_Broad  Total Transitions Total Advancements\n",
       "0       KIS to KJI                148                104\n",
       "1       KJI to KJU                179                127"
      ]
     },
     "execution_count": 86,
     "metadata": {},
     "output_type": "execute_result"
    }
   ],
   "source": [
    "stat4b = trans.loc[stat4b_rows,stat4b_columns].groupby(stat4b_groupby,as_index=False)[\"PositionAdvanceYes\"].agg({\"Total Transitions\":\"count\",\"Total Advancements\":\"sum\"})\n",
    "stat4b"
   ]
  },
  {
   "cell_type": "code",
   "execution_count": 87,
   "id": "a1fe0170",
   "metadata": {
    "scrolled": false
   },
   "outputs": [
    {
     "data": {
      "text/html": [
       "<div>\n",
       "<style scoped>\n",
       "    .dataframe tbody tr th:only-of-type {\n",
       "        vertical-align: middle;\n",
       "    }\n",
       "\n",
       "    .dataframe tbody tr th {\n",
       "        vertical-align: top;\n",
       "    }\n",
       "\n",
       "    .dataframe thead th {\n",
       "        text-align: right;\n",
       "    }\n",
       "</style>\n",
       "<table border=\"1\" class=\"dataframe\">\n",
       "  <thead>\n",
       "    <tr style=\"text-align: right;\">\n",
       "      <th></th>\n",
       "      <th>Succession_Broad</th>\n",
       "      <th>Total Transitions</th>\n",
       "      <th>Total Advancements</th>\n",
       "      <th>Percentage Advancements of Position Rank</th>\n",
       "    </tr>\n",
       "  </thead>\n",
       "  <tbody>\n",
       "    <tr>\n",
       "      <th>0</th>\n",
       "      <td>KIS to KJI</td>\n",
       "      <td>148</td>\n",
       "      <td>104</td>\n",
       "      <td>70.27</td>\n",
       "    </tr>\n",
       "    <tr>\n",
       "      <th>1</th>\n",
       "      <td>KJI to KJU</td>\n",
       "      <td>179</td>\n",
       "      <td>127</td>\n",
       "      <td>70.95</td>\n",
       "    </tr>\n",
       "  </tbody>\n",
       "</table>\n",
       "</div>"
      ],
      "text/plain": [
       "  Succession_Broad  Total Transitions Total Advancements  \\\n",
       "0       KIS to KJI                148                104   \n",
       "1       KJI to KJU                179                127   \n",
       "\n",
       "   Percentage Advancements of Position Rank  \n",
       "0                                     70.27  \n",
       "1                                     70.95  "
      ]
     },
     "execution_count": 87,
     "metadata": {},
     "output_type": "execute_result"
    }
   ],
   "source": [
    "stat4b[\"Percentage Advancements of Position Rank\"] = stat4b.apply(lambda x: round(x[\"Total Advancements\"] / x[\"Total Transitions\"] * 100,2) if x[\"Total Transitions\"] > 0 else np.nan,axis=1)\n",
    "stat4b"
   ]
  },
  {
   "cell_type": "code",
   "execution_count": 88,
   "id": "7ab7f8b7",
   "metadata": {},
   "outputs": [],
   "source": [
    "x1 = stat4b.iloc[0,2]\n",
    "x2 = stat4b.iloc[1,2]\n",
    "n1 = stat4b.iloc[0,1]\n",
    "n2 = stat4b.iloc[1,1]"
   ]
  },
  {
   "cell_type": "code",
   "execution_count": 89,
   "id": "4a0a67f3",
   "metadata": {
    "scrolled": true
   },
   "outputs": [
    {
     "name": "stdout",
     "output_type": "stream",
     "text": [
      "x1,x2,n1,n2: [104, 127, 148, 179]\n",
      "p1:\t 0.7027027027027027\n",
      "p2:\t 0.7094972067039106\n",
      "p1-p2:\t -0.006794504001207846\n",
      "z:\t -0.1342911527409919\n",
      "pvalue:\t 0.4465861744819051\n"
     ]
    }
   ],
   "source": [
    "# 2-sample test of proportions\n",
    "# def two_sample_ttest_proportions(x1,x2,n1,n2,alpha):\n",
    "two_sample_ttest_proportions(x1,x2,n1,n2,.05)"
   ]
  },
  {
   "cell_type": "markdown",
   "id": "e86b643b",
   "metadata": {},
   "source": [
    "# Hypothesis 1c - Org Advancement, broad succession, by Institution"
   ]
  },
  {
   "cell_type": "code",
   "execution_count": 90,
   "id": "c97a0977",
   "metadata": {},
   "outputs": [
    {
     "data": {
      "text/html": [
       "<div>\n",
       "<style scoped>\n",
       "    .dataframe tbody tr th:only-of-type {\n",
       "        vertical-align: middle;\n",
       "    }\n",
       "\n",
       "    .dataframe tbody tr th {\n",
       "        vertical-align: top;\n",
       "    }\n",
       "\n",
       "    .dataframe thead th {\n",
       "        text-align: right;\n",
       "    }\n",
       "</style>\n",
       "<table border=\"1\" class=\"dataframe\">\n",
       "  <thead>\n",
       "    <tr style=\"text-align: right;\">\n",
       "      <th></th>\n",
       "      <th>Succession_Broad</th>\n",
       "      <th>LeaderID</th>\n",
       "    </tr>\n",
       "  </thead>\n",
       "  <tbody>\n",
       "    <tr>\n",
       "      <th>0</th>\n",
       "      <td>KIS to KJI</td>\n",
       "      <td>298</td>\n",
       "    </tr>\n",
       "    <tr>\n",
       "      <th>1</th>\n",
       "      <td>KJI to KJU</td>\n",
       "      <td>330</td>\n",
       "    </tr>\n",
       "  </tbody>\n",
       "</table>\n",
       "</div>"
      ],
      "text/plain": [
       "  Succession_Broad  LeaderID\n",
       "0       KIS to KJI       298\n",
       "1       KJI to KJU       330"
      ]
     },
     "execution_count": 90,
     "metadata": {},
     "output_type": "execute_result"
    }
   ],
   "source": [
    "select_rows = trans[\"PISame\"]==True\n",
    "select_columns = [\"Succession_Broad\",\"LeaderID\"]\n",
    "group_columns = [\"Succession_Broad\"]\n",
    "trans.loc[select_rows,select_columns].groupby(group_columns,as_index=False).count()"
   ]
  },
  {
   "cell_type": "code",
   "execution_count": 91,
   "id": "432caa1d",
   "metadata": {},
   "outputs": [],
   "source": [
    "select_columns = [\"InstitutionCategorySame\",\"PISame\",\"LeaderID\"]\n",
    "groupby_columns1 = [\"InstitutionCategorySame\"]\n",
    "groupby_columns2 = [\"PISame\"]\n",
    "groupby_columns3 = [\"InstitutionCategorySame\",\"PISame\"]"
   ]
  },
  {
   "cell_type": "code",
   "execution_count": 92,
   "id": "34536332",
   "metadata": {},
   "outputs": [
    {
     "data": {
      "text/html": [
       "<div>\n",
       "<style scoped>\n",
       "    .dataframe tbody tr th:only-of-type {\n",
       "        vertical-align: middle;\n",
       "    }\n",
       "\n",
       "    .dataframe tbody tr th {\n",
       "        vertical-align: top;\n",
       "    }\n",
       "\n",
       "    .dataframe thead th {\n",
       "        text-align: right;\n",
       "    }\n",
       "</style>\n",
       "<table border=\"1\" class=\"dataframe\">\n",
       "  <thead>\n",
       "    <tr style=\"text-align: right;\">\n",
       "      <th></th>\n",
       "      <th></th>\n",
       "      <th>LeaderID</th>\n",
       "    </tr>\n",
       "    <tr>\n",
       "      <th>InstitutionCategorySame</th>\n",
       "      <th>PISame</th>\n",
       "      <th></th>\n",
       "    </tr>\n",
       "  </thead>\n",
       "  <tbody>\n",
       "    <tr>\n",
       "      <th>False</th>\n",
       "      <th>False</th>\n",
       "      <td>1952</td>\n",
       "    </tr>\n",
       "    <tr>\n",
       "      <th rowspan=\"2\" valign=\"top\">True</th>\n",
       "      <th>False</th>\n",
       "      <td>768</td>\n",
       "    </tr>\n",
       "    <tr>\n",
       "      <th>True</th>\n",
       "      <td>1502</td>\n",
       "    </tr>\n",
       "  </tbody>\n",
       "</table>\n",
       "</div>"
      ],
      "text/plain": [
       "                                LeaderID\n",
       "InstitutionCategorySame PISame          \n",
       "False                   False       1952\n",
       "True                    False        768\n",
       "                        True        1502"
      ]
     },
     "execution_count": 92,
     "metadata": {},
     "output_type": "execute_result"
    }
   ],
   "source": [
    "trans[select_columns].groupby(groupby_columns3).count()"
   ]
  },
  {
   "cell_type": "code",
   "execution_count": 93,
   "id": "ccd6a6be",
   "metadata": {},
   "outputs": [
    {
     "data": {
      "text/plain": [
       "['Government', 'Social', 'Party', 'Military']"
      ]
     },
     "execution_count": 93,
     "metadata": {},
     "output_type": "execute_result"
    }
   ],
   "source": [
    "ics = list(trans.InstitutionCategory_2.unique())\n",
    "ics"
   ]
  },
  {
   "cell_type": "code",
   "execution_count": 94,
   "id": "c40ed49e",
   "metadata": {},
   "outputs": [
    {
     "name": "stdout",
     "output_type": "stream",
     "text": [
      "\n",
      "\n",
      " Government \n",
      "\n",
      "\n",
      "  Succession_Broad  Total Transitions Total Advancements  \\\n",
      "0       KIS to KJI                116                 19   \n",
      "1       KJI to KJU                190                 34   \n",
      "\n",
      "   Percentage Advancements of OrgRank  \n",
      "0                               16.38  \n",
      "1                               17.89   \n",
      "\n",
      "x1,x2,n1,n2: [19, 34, 116, 190]\n",
      "p1:\t 0.16379310344827586\n",
      "p2:\t 0.17894736842105263\n",
      "p1-p2:\t -0.015154264972776776\n",
      "z:\t -0.3398624544967551\n",
      "pvalue:\t 0.36698005616825735\n",
      "\n",
      "\n",
      " Social \n",
      "\n",
      "\n",
      "  Succession_Broad  Total Transitions Total Advancements  \\\n",
      "0       KIS to KJI                 27                  3   \n",
      "1       KJI to KJU                 17                  2   \n",
      "\n",
      "   Percentage Advancements of OrgRank  \n",
      "0                               11.11  \n",
      "1                               11.76   \n",
      "\n",
      "x1,x2,n1,n2: [3, 2, 27, 17]\n",
      "p1:\t 0.1111111111111111\n",
      "p2:\t 0.11764705882352941\n",
      "p1-p2:\t -0.006535947712418305\n",
      "z:\t -0.06651566609527824\n",
      "pvalue:\t 0.4734836427950646\n",
      "\n",
      "\n",
      " Party \n",
      "\n",
      "\n",
      "  Succession_Broad  Total Transitions Total Advancements  \\\n",
      "0       KIS to KJI                143                 35   \n",
      "1       KJI to KJU                 96                 43   \n",
      "\n",
      "   Percentage Advancements of OrgRank  \n",
      "0                               24.48  \n",
      "1                               44.79   \n",
      "\n",
      "x1,x2,n1,n2: [35, 43, 143, 96]\n",
      "p1:\t 0.24475524475524477\n",
      "p2:\t 0.4479166666666667\n",
      "p1-p2:\t -0.20316142191142192\n",
      "z:\t -3.283852109382434\n",
      "pvalue:\t 0.0005119932068603505***\n",
      "\n",
      "\n",
      " Military \n",
      "\n",
      "\n",
      "  Succession_Broad  Total Transitions Total Advancements  \\\n",
      "0       KIS to KJI                 12                  2   \n",
      "1       KJI to KJU                 27                  5   \n",
      "\n",
      "   Percentage Advancements of OrgRank  \n",
      "0                               16.67  \n",
      "1                               18.52   \n",
      "\n",
      "x1,x2,n1,n2: [2, 5, 12, 27]\n",
      "p1:\t 0.16666666666666666\n",
      "p2:\t 0.18518518518518517\n",
      "p1-p2:\t -0.018518518518518517\n",
      "z:\t -0.13908716006604668\n",
      "pvalue:\t 0.4446906371931195\n"
     ]
    }
   ],
   "source": [
    "for ic in ics:\n",
    "    print(\"\\n\\n\",ic,\"\\n\\n\")\n",
    "    stat4c_rows = (trans[\"InstitutionCategory_2\"]==ic) & (trans[\"PISame\"]==True)\n",
    "    stat4c_columns = [\"Succession_Broad\",\"OrgAdvanceYes\"]\n",
    "    stat4c_groupby = [\"Succession_Broad\"]\n",
    "    stat4c_labels = [\"Succession Period\",\"Total Transitions\",\"Total Advancements\"]\n",
    "    \n",
    "    stat4c = trans.loc[stat4c_rows,stat4c_columns].groupby(stat4c_groupby,as_index=False)[\"OrgAdvanceYes\"].agg({\"Total Transitions\":\"count\",\"Total Advancements\":\"sum\"})    \n",
    "    stat4c[\"Percentage Advancements of OrgRank\"] = stat4c.apply(lambda x: round(x[\"Total Advancements\"] / x[\"Total Transitions\"] * 100,2) if x[\"Total Transitions\"] > 0 else np.nan,axis=1)\n",
    "   \n",
    "    print(stat4c,\"\\n\")\n",
    "    \n",
    "    x1 = stat4c.iloc[0,2]\n",
    "    x2 = stat4c.iloc[1,2]\n",
    "    n1 = stat4c.iloc[0,1]\n",
    "    n2 = stat4c.iloc[1,1]\n",
    "    \n",
    "    two_sample_ttest_proportions(x1,x2,n1,n2,.05)"
   ]
  },
  {
   "cell_type": "markdown",
   "id": "95ae9d5d",
   "metadata": {},
   "source": [
    "# Hypothesis 1d - Position Advancement, broad succession, by Institution"
   ]
  },
  {
   "cell_type": "code",
   "execution_count": 95,
   "id": "de8b0c8d",
   "metadata": {
    "scrolled": true
   },
   "outputs": [
    {
     "name": "stdout",
     "output_type": "stream",
     "text": [
      "\n",
      "\n",
      " Government \n",
      "\n",
      "\n",
      "  Succession_Broad  Total Transitions Total Advancements  \\\n",
      "0       KIS to KJI                 59                 46   \n",
      "1       KJI to KJU                120                 71   \n",
      "\n",
      "   Percentage Advancements  \n",
      "0                    77.97  \n",
      "1                    59.17   \n",
      "\n",
      "x1,x2,n1,n2: [46, 71, 59, 120]\n",
      "p1:\t 0.7796610169491526\n",
      "p2:\t 0.5916666666666667\n",
      "p1-p2:\t 0.1879943502824859\n",
      "z:\t 2.4848442165096536\n",
      "pvalue:\t 0.006480406923956017**\n",
      "\n",
      "\n",
      " Social \n",
      "\n",
      "\n",
      "  Succession_Broad  Total Transitions Total Advancements  \\\n",
      "0       KIS to KJI                 17                 14   \n",
      "1       KJI to KJU                  9                  8   \n",
      "\n",
      "   Percentage Advancements  \n",
      "0                    82.35  \n",
      "1                    88.89   \n",
      "\n",
      "x1,x2,n1,n2: [14, 8, 17, 9]\n",
      "p1:\t 0.8235294117647058\n",
      "p2:\t 0.8888888888888888\n",
      "p1-p2:\t -0.065359477124183\n",
      "z:\t -0.43944003692053646\n",
      "pvalue:\t 0.33017136079709886\n",
      "\n",
      "\n",
      " Party \n",
      "\n",
      "\n",
      "  Succession_Broad  Total Transitions Total Advancements  \\\n",
      "0       KIS to KJI                 65                 37   \n",
      "1       KJI to KJU                 36                 34   \n",
      "\n",
      "   Percentage Advancements  \n",
      "0                    56.92  \n",
      "1                    94.44   \n",
      "\n",
      "x1,x2,n1,n2: [37, 34, 65, 36]\n",
      "p1:\t 0.5692307692307692\n",
      "p2:\t 0.9444444444444444\n",
      "p1-p2:\t -0.3752136752136752\n",
      "z:\t -3.952368891530873\n",
      "pvalue:\t 3.869066397377274e-05***\n",
      "\n",
      "\n",
      " Military \n",
      "\n",
      "\n",
      "  Succession_Broad  Total Transitions Total Advancements  \\\n",
      "0       KIS to KJI                  7                  7   \n",
      "1       KJI to KJU                 14                 14   \n",
      "\n",
      "   Percentage Advancements  \n",
      "0                    100.0  \n",
      "1                    100.0   \n",
      "\n",
      "x1,x2,n1,n2: [7, 14, 7, 14]\n",
      "p1:\t 1.0\n",
      "p2:\t 1.0\n",
      "p1-p2:\t 0.0\n",
      "z:\t nan\n",
      "pvalue:\t nan\n"
     ]
    },
    {
     "name": "stderr",
     "output_type": "stream",
     "text": [
      "C:\\Users\\seoul\\AppData\\Local\\Temp\\ipykernel_20812\\2071851454.py:6: RuntimeWarning: invalid value encountered in scalar divide\n",
      "  z = (p1-p2) / math.sqrt(pstar*(1-pstar)*((1/n1) + (1/n2)))\n"
     ]
    }
   ],
   "source": [
    "ics = list(trans.InstitutionCategory_2.unique())\n",
    "for ic in ics:\n",
    "    print(\"\\n\\n\",ic,\"\\n\\n\")\n",
    "    stat4c_rows = (trans[\"InstitutionCategory_2\"]==ic) & (trans[\"PISame\"]==True) & (trans[\"OrgRankChange\"].isin([\"same\"]))\n",
    "    stat4c_columns = [\"Succession_Broad\",\"PositionAdvanceYes\"]\n",
    "    stat4c_groupby = [\"Succession_Broad\"]\n",
    "    stat4c_labels = [\"Succession Period\",\"Total Transitions\",\"Total Advancements\"]\n",
    "    \n",
    "    stat4c = trans.loc[stat4c_rows,stat4c_columns].groupby(stat4c_groupby,as_index=False)[\"PositionAdvanceYes\"].agg({\"Total Transitions\":\"count\",\"Total Advancements\":\"sum\"})    \n",
    "    stat4c[\"Percentage Advancements\"] = stat4c.apply(lambda x: round(x[\"Total Advancements\"] / x[\"Total Transitions\"] * 100,2) if x[\"Total Transitions\"] > 0 else np.nan,axis=1)\n",
    "   \n",
    "    print(stat4c,\"\\n\")\n",
    "    \n",
    "    x1 = stat4c.iloc[0,2]\n",
    "    x2 = stat4c.iloc[1,2]\n",
    "    n1 = stat4c.iloc[0,1]\n",
    "    n2 = stat4c.iloc[1,1]\n",
    "    \n",
    "    two_sample_ttest_proportions(x1,x2,n1,n2,.05)"
   ]
  },
  {
   "cell_type": "markdown",
   "id": "26207744",
   "metadata": {},
   "source": [
    "# Hypothesis 2a - Org Advancement, narrow succession periods"
   ]
  },
  {
   "cell_type": "code",
   "execution_count": 96,
   "id": "87d6fd24",
   "metadata": {},
   "outputs": [
    {
     "data": {
      "text/html": [
       "<div>\n",
       "<style scoped>\n",
       "    .dataframe tbody tr th:only-of-type {\n",
       "        vertical-align: middle;\n",
       "    }\n",
       "\n",
       "    .dataframe tbody tr th {\n",
       "        vertical-align: top;\n",
       "    }\n",
       "\n",
       "    .dataframe thead th {\n",
       "        text-align: right;\n",
       "    }\n",
       "</style>\n",
       "<table border=\"1\" class=\"dataframe\">\n",
       "  <thead>\n",
       "    <tr style=\"text-align: right;\">\n",
       "      <th></th>\n",
       "      <th>Succession_Narrow</th>\n",
       "      <th>LeaderID</th>\n",
       "    </tr>\n",
       "  </thead>\n",
       "  <tbody>\n",
       "    <tr>\n",
       "      <th>0</th>\n",
       "      <td>KIS to KJI</td>\n",
       "      <td>145</td>\n",
       "    </tr>\n",
       "    <tr>\n",
       "      <th>1</th>\n",
       "      <td>KJI to KJU</td>\n",
       "      <td>164</td>\n",
       "    </tr>\n",
       "  </tbody>\n",
       "</table>\n",
       "</div>"
      ],
      "text/plain": [
       "  Succession_Narrow  LeaderID\n",
       "0        KIS to KJI       145\n",
       "1        KJI to KJU       164"
      ]
     },
     "execution_count": 96,
     "metadata": {},
     "output_type": "execute_result"
    }
   ],
   "source": [
    "select_columns = [\"Succession_Narrow\",\"LeaderID\"]\n",
    "select_rows = trans[\"PISame\"]==True\n",
    "group_columns = [\"Succession_Narrow\"]\n",
    "trans.loc[select_rows,select_columns].groupby(group_columns,as_index=False).count()"
   ]
  },
  {
   "cell_type": "code",
   "execution_count": 97,
   "id": "5ac3415c",
   "metadata": {},
   "outputs": [],
   "source": [
    "stat4_rows = trans[\"PISame\"]==True\n",
    "stat4_columns = [\"Succession_Narrow\",\"OrgAdvanceYes\"]\n",
    "stat4_groupby = [\"Succession_Narrow\"]\n",
    "stat4_labels = [\"Succession Period\",\"Total Transitions\",\"Total Advancements\"]"
   ]
  },
  {
   "cell_type": "code",
   "execution_count": 98,
   "id": "60df77bf",
   "metadata": {
    "scrolled": true
   },
   "outputs": [
    {
     "data": {
      "text/html": [
       "<div>\n",
       "<style scoped>\n",
       "    .dataframe tbody tr th:only-of-type {\n",
       "        vertical-align: middle;\n",
       "    }\n",
       "\n",
       "    .dataframe tbody tr th {\n",
       "        vertical-align: top;\n",
       "    }\n",
       "\n",
       "    .dataframe thead th {\n",
       "        text-align: right;\n",
       "    }\n",
       "</style>\n",
       "<table border=\"1\" class=\"dataframe\">\n",
       "  <thead>\n",
       "    <tr style=\"text-align: right;\">\n",
       "      <th></th>\n",
       "      <th>Succession_Narrow</th>\n",
       "      <th>Total Transitions</th>\n",
       "      <th>Total Advancements</th>\n",
       "    </tr>\n",
       "  </thead>\n",
       "  <tbody>\n",
       "    <tr>\n",
       "      <th>0</th>\n",
       "      <td>KIS to KJI</td>\n",
       "      <td>145</td>\n",
       "      <td>27</td>\n",
       "    </tr>\n",
       "    <tr>\n",
       "      <th>1</th>\n",
       "      <td>KJI to KJU</td>\n",
       "      <td>164</td>\n",
       "      <td>57</td>\n",
       "    </tr>\n",
       "  </tbody>\n",
       "</table>\n",
       "</div>"
      ],
      "text/plain": [
       "  Succession_Narrow  Total Transitions Total Advancements\n",
       "0        KIS to KJI                145                 27\n",
       "1        KJI to KJU                164                 57"
      ]
     },
     "execution_count": 98,
     "metadata": {},
     "output_type": "execute_result"
    }
   ],
   "source": [
    "stat4 = trans.loc[stat4_rows,stat4_columns].groupby(stat4_groupby,as_index=False)[\"OrgAdvanceYes\"].agg({\"Total Transitions\":\"count\",\"Total Advancements\":\"sum\"})\n",
    "stat4"
   ]
  },
  {
   "cell_type": "code",
   "execution_count": 99,
   "id": "e28ac6c5",
   "metadata": {
    "scrolled": true
   },
   "outputs": [
    {
     "data": {
      "text/html": [
       "<div>\n",
       "<style scoped>\n",
       "    .dataframe tbody tr th:only-of-type {\n",
       "        vertical-align: middle;\n",
       "    }\n",
       "\n",
       "    .dataframe tbody tr th {\n",
       "        vertical-align: top;\n",
       "    }\n",
       "\n",
       "    .dataframe thead th {\n",
       "        text-align: right;\n",
       "    }\n",
       "</style>\n",
       "<table border=\"1\" class=\"dataframe\">\n",
       "  <thead>\n",
       "    <tr style=\"text-align: right;\">\n",
       "      <th></th>\n",
       "      <th>Succession_Narrow</th>\n",
       "      <th>Total Transitions</th>\n",
       "      <th>Total Advancements</th>\n",
       "      <th>Percentage Advancements of OrgRank</th>\n",
       "    </tr>\n",
       "  </thead>\n",
       "  <tbody>\n",
       "    <tr>\n",
       "      <th>0</th>\n",
       "      <td>KIS to KJI</td>\n",
       "      <td>145</td>\n",
       "      <td>27</td>\n",
       "      <td>18.62</td>\n",
       "    </tr>\n",
       "    <tr>\n",
       "      <th>1</th>\n",
       "      <td>KJI to KJU</td>\n",
       "      <td>164</td>\n",
       "      <td>57</td>\n",
       "      <td>34.76</td>\n",
       "    </tr>\n",
       "  </tbody>\n",
       "</table>\n",
       "</div>"
      ],
      "text/plain": [
       "  Succession_Narrow  Total Transitions Total Advancements  \\\n",
       "0        KIS to KJI                145                 27   \n",
       "1        KJI to KJU                164                 57   \n",
       "\n",
       "   Percentage Advancements of OrgRank  \n",
       "0                               18.62  \n",
       "1                               34.76  "
      ]
     },
     "execution_count": 99,
     "metadata": {},
     "output_type": "execute_result"
    }
   ],
   "source": [
    "stat4[\"Percentage Advancements of OrgRank\"] = stat4.apply(lambda x: round(x[\"Total Advancements\"] / x[\"Total Transitions\"] * 100,2) if x[\"Total Transitions\"] > 0 else np.nan,axis=1)\n",
    "stat4"
   ]
  },
  {
   "cell_type": "code",
   "execution_count": 100,
   "id": "d2d016e8",
   "metadata": {},
   "outputs": [],
   "source": [
    "x1 = stat4.iloc[0,2]\n",
    "x2 = stat4.iloc[1,2]\n",
    "n1 = stat4.iloc[0,1]\n",
    "n2 = stat4.iloc[1,1]"
   ]
  },
  {
   "cell_type": "code",
   "execution_count": 101,
   "id": "2d0ee863",
   "metadata": {
    "scrolled": true
   },
   "outputs": [
    {
     "name": "stdout",
     "output_type": "stream",
     "text": [
      "x1,x2,n1,n2: [27, 57, 145, 164]\n",
      "p1:\t 0.18620689655172415\n",
      "p2:\t 0.3475609756097561\n",
      "p1-p2:\t -0.16135407905803192\n",
      "z:\t -3.1815167326942206\n",
      "pvalue:\t 0.000732530297688383***\n"
     ]
    }
   ],
   "source": [
    "# 2-sample test of proportions\n",
    "# def two_sample_ttest_proportions(x1,x2,n1,n2,alpha):\n",
    "two_sample_ttest_proportions(x1,x2,n1,n2,.05)"
   ]
  },
  {
   "cell_type": "code",
   "execution_count": null,
   "id": "fcc864d4",
   "metadata": {},
   "outputs": [],
   "source": []
  },
  {
   "cell_type": "markdown",
   "id": "e1830195",
   "metadata": {},
   "source": [
    "# Hypothesis 2b - Position Advancement, narrow succession periods"
   ]
  },
  {
   "cell_type": "code",
   "execution_count": 102,
   "id": "3318573c",
   "metadata": {},
   "outputs": [
    {
     "data": {
      "text/html": [
       "<div>\n",
       "<style scoped>\n",
       "    .dataframe tbody tr th:only-of-type {\n",
       "        vertical-align: middle;\n",
       "    }\n",
       "\n",
       "    .dataframe tbody tr th {\n",
       "        vertical-align: top;\n",
       "    }\n",
       "\n",
       "    .dataframe thead th {\n",
       "        text-align: right;\n",
       "    }\n",
       "</style>\n",
       "<table border=\"1\" class=\"dataframe\">\n",
       "  <thead>\n",
       "    <tr style=\"text-align: right;\">\n",
       "      <th></th>\n",
       "      <th>Succession_Narrow</th>\n",
       "      <th>LeaderID</th>\n",
       "    </tr>\n",
       "  </thead>\n",
       "  <tbody>\n",
       "    <tr>\n",
       "      <th>0</th>\n",
       "      <td>KIS to KJI</td>\n",
       "      <td>92</td>\n",
       "    </tr>\n",
       "    <tr>\n",
       "      <th>1</th>\n",
       "      <td>KJI to KJU</td>\n",
       "      <td>96</td>\n",
       "    </tr>\n",
       "  </tbody>\n",
       "</table>\n",
       "</div>"
      ],
      "text/plain": [
       "  Succession_Narrow  LeaderID\n",
       "0        KIS to KJI        92\n",
       "1        KJI to KJU        96"
      ]
     },
     "execution_count": 102,
     "metadata": {},
     "output_type": "execute_result"
    }
   ],
   "source": [
    "select_columns = [\"Succession_Narrow\",\"LeaderID\"]\n",
    "select_rows = (trans[\"PISame\"] & trans[\"OrgRankChange\"].isin([\"same\"]))\n",
    "group_columns = [\"Succession_Narrow\"]\n",
    "trans.loc[select_rows,select_columns].groupby(group_columns,as_index=False).count()"
   ]
  },
  {
   "cell_type": "code",
   "execution_count": 103,
   "id": "a467f8f9",
   "metadata": {},
   "outputs": [],
   "source": [
    "stat4b_rows = (trans[\"PISame\"] & trans[\"OrgRankChange\"].isin([\"same\"]))\n",
    "stat4b_columns = [\"Succession_Narrow\",\"PositionAdvanceYes\"]\n",
    "stat4b_groupby = [\"Succession_Narrow\"]\n",
    "stat4b_labels = [\"Succession Period\",\"Total Transitions\",\"Total Advancements\"]"
   ]
  },
  {
   "cell_type": "code",
   "execution_count": 104,
   "id": "7164d373",
   "metadata": {
    "scrolled": true
   },
   "outputs": [
    {
     "data": {
      "text/html": [
       "<div>\n",
       "<style scoped>\n",
       "    .dataframe tbody tr th:only-of-type {\n",
       "        vertical-align: middle;\n",
       "    }\n",
       "\n",
       "    .dataframe tbody tr th {\n",
       "        vertical-align: top;\n",
       "    }\n",
       "\n",
       "    .dataframe thead th {\n",
       "        text-align: right;\n",
       "    }\n",
       "</style>\n",
       "<table border=\"1\" class=\"dataframe\">\n",
       "  <thead>\n",
       "    <tr style=\"text-align: right;\">\n",
       "      <th></th>\n",
       "      <th>Succession_Narrow</th>\n",
       "      <th>Total Transitions</th>\n",
       "      <th>Total Advancements</th>\n",
       "    </tr>\n",
       "  </thead>\n",
       "  <tbody>\n",
       "    <tr>\n",
       "      <th>0</th>\n",
       "      <td>KIS to KJI</td>\n",
       "      <td>77</td>\n",
       "      <td>50</td>\n",
       "    </tr>\n",
       "    <tr>\n",
       "      <th>1</th>\n",
       "      <td>KJI to KJU</td>\n",
       "      <td>84</td>\n",
       "      <td>53</td>\n",
       "    </tr>\n",
       "  </tbody>\n",
       "</table>\n",
       "</div>"
      ],
      "text/plain": [
       "  Succession_Narrow  Total Transitions Total Advancements\n",
       "0        KIS to KJI                 77                 50\n",
       "1        KJI to KJU                 84                 53"
      ]
     },
     "execution_count": 104,
     "metadata": {},
     "output_type": "execute_result"
    }
   ],
   "source": [
    "stat4b = trans.loc[stat4b_rows,stat4b_columns].groupby(stat4b_groupby,as_index=False)[\"PositionAdvanceYes\"].agg({\"Total Transitions\":\"count\",\"Total Advancements\":\"sum\"})\n",
    "stat4b"
   ]
  },
  {
   "cell_type": "code",
   "execution_count": 105,
   "id": "c2781773",
   "metadata": {
    "scrolled": false
   },
   "outputs": [
    {
     "data": {
      "text/html": [
       "<div>\n",
       "<style scoped>\n",
       "    .dataframe tbody tr th:only-of-type {\n",
       "        vertical-align: middle;\n",
       "    }\n",
       "\n",
       "    .dataframe tbody tr th {\n",
       "        vertical-align: top;\n",
       "    }\n",
       "\n",
       "    .dataframe thead th {\n",
       "        text-align: right;\n",
       "    }\n",
       "</style>\n",
       "<table border=\"1\" class=\"dataframe\">\n",
       "  <thead>\n",
       "    <tr style=\"text-align: right;\">\n",
       "      <th></th>\n",
       "      <th>Succession_Narrow</th>\n",
       "      <th>Total Transitions</th>\n",
       "      <th>Total Advancements</th>\n",
       "      <th>Percentage Advancements of Position Rank</th>\n",
       "    </tr>\n",
       "  </thead>\n",
       "  <tbody>\n",
       "    <tr>\n",
       "      <th>0</th>\n",
       "      <td>KIS to KJI</td>\n",
       "      <td>77</td>\n",
       "      <td>50</td>\n",
       "      <td>64.94</td>\n",
       "    </tr>\n",
       "    <tr>\n",
       "      <th>1</th>\n",
       "      <td>KJI to KJU</td>\n",
       "      <td>84</td>\n",
       "      <td>53</td>\n",
       "      <td>63.10</td>\n",
       "    </tr>\n",
       "  </tbody>\n",
       "</table>\n",
       "</div>"
      ],
      "text/plain": [
       "  Succession_Narrow  Total Transitions Total Advancements  \\\n",
       "0        KIS to KJI                 77                 50   \n",
       "1        KJI to KJU                 84                 53   \n",
       "\n",
       "   Percentage Advancements of Position Rank  \n",
       "0                                     64.94  \n",
       "1                                     63.10  "
      ]
     },
     "execution_count": 105,
     "metadata": {},
     "output_type": "execute_result"
    }
   ],
   "source": [
    "stat4b[\"Percentage Advancements of Position Rank\"] = stat4b.apply(lambda x: round(x[\"Total Advancements\"] / x[\"Total Transitions\"] * 100,2) if x[\"Total Transitions\"] > 0 else np.nan,axis=1)\n",
    "stat4b"
   ]
  },
  {
   "cell_type": "code",
   "execution_count": 106,
   "id": "bcd2e03a",
   "metadata": {},
   "outputs": [],
   "source": [
    "x1 = stat4b.iloc[0,2]\n",
    "x2 = stat4b.iloc[1,2]\n",
    "n1 = stat4b.iloc[0,1]\n",
    "n2 = stat4b.iloc[1,1]"
   ]
  },
  {
   "cell_type": "code",
   "execution_count": 107,
   "id": "295504e7",
   "metadata": {
    "scrolled": true
   },
   "outputs": [
    {
     "name": "stdout",
     "output_type": "stream",
     "text": [
      "x1,x2,n1,n2: [50, 53, 77, 84]\n",
      "p1:\t 0.6493506493506493\n",
      "p2:\t 0.6309523809523809\n",
      "p1-p2:\t 0.018398268398268414\n",
      "z:\t 0.24290826088800938\n",
      "pvalue:\t 0.4040382329721378\n"
     ]
    }
   ],
   "source": [
    "# 2-sample test of proportions\n",
    "# def two_sample_ttest_proportions(x1,x2,n1,n2,alpha):\n",
    "two_sample_ttest_proportions(x1,x2,n1,n2,.05)"
   ]
  },
  {
   "cell_type": "code",
   "execution_count": null,
   "id": "be923b14",
   "metadata": {},
   "outputs": [],
   "source": []
  },
  {
   "cell_type": "markdown",
   "id": "39693cc8",
   "metadata": {},
   "source": [
    "# Hypothesis 2c - Org Advancement, narrow succession, by Institution"
   ]
  },
  {
   "cell_type": "code",
   "execution_count": 108,
   "id": "6be9149b",
   "metadata": {},
   "outputs": [
    {
     "name": "stdout",
     "output_type": "stream",
     "text": [
      "\n",
      "\n",
      " Government \n",
      "\n",
      "\n",
      "  Succession_Narrow  Total Transitions Total Advancements  \\\n",
      "0        KIS to KJI                 65                 11   \n",
      "1        KJI to KJU                 65                 13   \n",
      "\n",
      "   Percentage Advancements of OrgRank  \n",
      "0                               16.92  \n",
      "1                               20.00   \n",
      "\n",
      "x1,x2,n1,n2: [11, 13, 65, 65]\n",
      "p1:\t 0.16923076923076924\n",
      "p2:\t 0.2\n",
      "p1-p2:\t -0.03076923076923077\n",
      "z:\t -0.45210896443586523\n",
      "pvalue:\t 0.3255952429886011\n",
      "\n",
      "\n",
      " Social \n",
      "\n",
      "\n",
      "  Succession_Narrow  Total Transitions Total Advancements  \\\n",
      "0        KIS to KJI                  7                  1   \n",
      "1        KJI to KJU                  1              False   \n",
      "\n",
      "   Percentage Advancements of OrgRank  \n",
      "0                               14.29  \n",
      "1                                0.00   \n",
      "\n",
      "x1,x2,n1,n2: [1, False, 7, 1]\n",
      "p1:\t 0.14285714285714285\n",
      "p2:\t 0.0\n",
      "p1-p2:\t 0.14285714285714285\n",
      "z:\t 0.40406101782088427\n",
      "pvalue:\t 0.34308392492761963\n",
      "\n",
      "\n",
      " Party \n",
      "\n",
      "\n",
      "  Succession_Narrow  Total Transitions Total Advancements  \\\n",
      "0        KIS to KJI                 66                 13   \n",
      "1        KJI to KJU                 85                 43   \n",
      "\n",
      "   Percentage Advancements of OrgRank  \n",
      "0                               19.70  \n",
      "1                               50.59   \n",
      "\n",
      "x1,x2,n1,n2: [13, 43, 66, 85]\n",
      "p1:\t 0.19696969696969696\n",
      "p2:\t 0.5058823529411764\n",
      "p1-p2:\t -0.3089126559714795\n",
      "z:\t -3.8980713988054516\n",
      "pvalue:\t 4.848091543152577e-05***\n",
      "\n",
      "\n",
      " Military \n",
      "\n",
      "\n",
      "  Succession_Narrow  Total Transitions Total Advancements  \\\n",
      "0        KIS to KJI                  7                  2   \n",
      "1        KJI to KJU                 13                  1   \n",
      "\n",
      "   Percentage Advancements of OrgRank  \n",
      "0                               28.57  \n",
      "1                                7.69   \n",
      "\n",
      "x1,x2,n1,n2: [2, 1, 7, 13]\n",
      "p1:\t 0.2857142857142857\n",
      "p2:\t 0.07692307692307693\n",
      "p1-p2:\t 0.20879120879120877\n",
      "z:\t 1.2472767145898402\n",
      "pvalue:\t 0.10614802621222108\n"
     ]
    }
   ],
   "source": [
    "ics = list(trans.InstitutionCategory_2.unique())\n",
    "for ic in ics:\n",
    "    print(\"\\n\\n\",ic,\"\\n\\n\")\n",
    "    stat4c_rows = (trans[\"InstitutionCategory_2\"]==ic) & (trans[\"PISame\"]==True)\n",
    "    stat4c_columns = [\"Succession_Narrow\",\"OrgAdvanceYes\"]\n",
    "    stat4c_groupby = [\"Succession_Narrow\"]\n",
    "    stat4c_labels = [\"Succession Period\",\"Total Transitions\",\"Total Advancements\"]\n",
    "    \n",
    "    stat4c = trans.loc[stat4c_rows,stat4c_columns].groupby(stat4c_groupby,as_index=False)[\"OrgAdvanceYes\"].agg({\"Total Transitions\":\"count\",\"Total Advancements\":\"sum\"})    \n",
    "    stat4c[\"Percentage Advancements of OrgRank\"] = stat4c.apply(lambda x: round(x[\"Total Advancements\"] / x[\"Total Transitions\"] * 100,2) if x[\"Total Transitions\"] > 0 else np.nan,axis=1)\n",
    "   \n",
    "    print(stat4c,\"\\n\")\n",
    "    \n",
    "    x1 = stat4c.iloc[0,2]\n",
    "    x2 = stat4c.iloc[1,2]\n",
    "    n1 = stat4c.iloc[0,1]\n",
    "    n2 = stat4c.iloc[1,1]\n",
    "    \n",
    "    two_sample_ttest_proportions(x1,x2,n1,n2,.05)"
   ]
  },
  {
   "cell_type": "markdown",
   "id": "289615bc",
   "metadata": {},
   "source": [
    "# Hypothesis 2d - Position Advancement, narrow succession, by Institution"
   ]
  },
  {
   "cell_type": "code",
   "execution_count": 109,
   "id": "272cf910",
   "metadata": {
    "scrolled": true
   },
   "outputs": [
    {
     "name": "stdout",
     "output_type": "stream",
     "text": [
      "\n",
      "\n",
      " Government \n",
      "\n",
      "\n",
      "  Succession_Narrow  Total Transitions Total Advancements  \\\n",
      "0        KIS to KJI                 38                 27   \n",
      "1        KJI to KJU                 47                 17   \n",
      "\n",
      "   Percentage Advancements  \n",
      "0                    71.05  \n",
      "1                    36.17   \n",
      "\n",
      "x1,x2,n1,n2: [27, 17, 38, 47]\n",
      "p1:\t 0.7105263157894737\n",
      "p2:\t 0.3617021276595745\n",
      "p1-p2:\t 0.3488241881298992\n",
      "z:\t 3.1999155409463587\n",
      "pvalue:\t 0.000687339322961722***\n",
      "\n",
      "\n",
      " Social \n",
      "\n",
      "\n",
      "  Succession_Narrow  Total Transitions Total Advancements  \\\n",
      "0        KIS to KJI                  6                  3   \n",
      "1        KJI to KJU                  0                  0   \n",
      "\n",
      "   Percentage Advancements  \n",
      "0                     50.0  \n",
      "1                      NaN   \n",
      "\n",
      "x1,x2,n1,n2: [3, 0, 6, 0]\n",
      "p1:\t 0.5\n",
      "p2:\t nan\n",
      "p1-p2:\t nan\n",
      "z:\t nan\n",
      "pvalue:\t nan\n",
      "\n",
      "\n",
      " Party \n",
      "\n",
      "\n",
      "  Succession_Narrow  Total Transitions Total Advancements  \\\n",
      "0        KIS to KJI                 30                 17   \n",
      "1        KJI to KJU                 30                 29   \n",
      "\n",
      "   Percentage Advancements  \n",
      "0                    56.67  \n",
      "1                    96.67   \n",
      "\n",
      "x1,x2,n1,n2: [17, 29, 30, 30]\n",
      "p1:\t 0.5666666666666667\n",
      "p2:\t 0.9666666666666667\n",
      "p1-p2:\t -0.4\n",
      "z:\t -3.662806174004159\n",
      "pvalue:\t 0.0001247336511635***\n",
      "\n",
      "\n",
      " Military \n",
      "\n",
      "\n",
      "  Succession_Narrow  Total Transitions Total Advancements  \\\n",
      "0        KIS to KJI                  3                  3   \n",
      "1        KJI to KJU                  7                  7   \n",
      "\n",
      "   Percentage Advancements  \n",
      "0                    100.0  \n",
      "1                    100.0   \n",
      "\n",
      "x1,x2,n1,n2: [3, 7, 3, 7]\n",
      "p1:\t 1.0\n",
      "p2:\t 1.0\n",
      "p1-p2:\t 0.0\n",
      "z:\t nan\n",
      "pvalue:\t nan\n"
     ]
    },
    {
     "name": "stderr",
     "output_type": "stream",
     "text": [
      "C:\\Users\\seoul\\AppData\\Local\\Temp\\ipykernel_20812\\2071851454.py:5: RuntimeWarning: invalid value encountered in scalar divide\n",
      "  p2 = x2/n2\n",
      "C:\\Users\\seoul\\AppData\\Local\\Temp\\ipykernel_20812\\2071851454.py:6: RuntimeWarning: divide by zero encountered in scalar divide\n",
      "  z = (p1-p2) / math.sqrt(pstar*(1-pstar)*((1/n1) + (1/n2)))\n",
      "C:\\Users\\seoul\\AppData\\Local\\Temp\\ipykernel_20812\\2071851454.py:6: RuntimeWarning: invalid value encountered in scalar divide\n",
      "  z = (p1-p2) / math.sqrt(pstar*(1-pstar)*((1/n1) + (1/n2)))\n"
     ]
    }
   ],
   "source": [
    "ics = list(trans.InstitutionCategory_2.unique())\n",
    "for ic in ics:\n",
    "    print(\"\\n\\n\",ic,\"\\n\\n\")\n",
    "    stat4c_rows = (trans[\"InstitutionCategory_2\"]==ic) & (trans[\"PISame\"]==True) & (trans[\"OrgRankChange\"].isin([\"same\"]))\n",
    "    stat4c_columns = [\"Succession_Narrow\",\"PositionAdvanceYes\"]\n",
    "    stat4c_groupby = [\"Succession_Narrow\"]\n",
    "    stat4c_labels = [\"Succession Period\",\"Total Transitions\",\"Total Advancements\"]\n",
    "    \n",
    "    stat4c = trans.loc[stat4c_rows,stat4c_columns].groupby(stat4c_groupby,as_index=False)[\"PositionAdvanceYes\"].agg({\"Total Transitions\":\"count\",\"Total Advancements\":\"sum\"})    \n",
    "    stat4c[\"Percentage Advancements\"] = stat4c.apply(lambda x: round(x[\"Total Advancements\"] / x[\"Total Transitions\"] * 100,2) if x[\"Total Transitions\"] > 0 else np.nan,axis=1)\n",
    "   \n",
    "    print(stat4c,\"\\n\")\n",
    "    \n",
    "    x1 = stat4c.iloc[0,2]\n",
    "    x2 = stat4c.iloc[1,2]\n",
    "    n1 = stat4c.iloc[0,1]\n",
    "    n2 = stat4c.iloc[1,1]\n",
    "    \n",
    "    two_sample_ttest_proportions(x1,x2,n1,n2,.05)"
   ]
  },
  {
   "cell_type": "code",
   "execution_count": null,
   "id": "1b289fb5",
   "metadata": {},
   "outputs": [],
   "source": []
  },
  {
   "cell_type": "code",
   "execution_count": null,
   "id": "4c9235eb",
   "metadata": {},
   "outputs": [],
   "source": []
  },
  {
   "cell_type": "code",
   "execution_count": null,
   "id": "c16cfe55",
   "metadata": {},
   "outputs": [],
   "source": []
  },
  {
   "cell_type": "markdown",
   "id": "5c7f27ad",
   "metadata": {},
   "source": [
    "# Hypothesis 3a - Org Advancement, succession period = Five"
   ]
  },
  {
   "cell_type": "code",
   "execution_count": 110,
   "id": "72a34746",
   "metadata": {},
   "outputs": [
    {
     "data": {
      "text/html": [
       "<div>\n",
       "<style scoped>\n",
       "    .dataframe tbody tr th:only-of-type {\n",
       "        vertical-align: middle;\n",
       "    }\n",
       "\n",
       "    .dataframe tbody tr th {\n",
       "        vertical-align: top;\n",
       "    }\n",
       "\n",
       "    .dataframe thead th {\n",
       "        text-align: right;\n",
       "    }\n",
       "</style>\n",
       "<table border=\"1\" class=\"dataframe\">\n",
       "  <thead>\n",
       "    <tr style=\"text-align: right;\">\n",
       "      <th></th>\n",
       "      <th>Succession_Five</th>\n",
       "      <th>LeaderID</th>\n",
       "    </tr>\n",
       "  </thead>\n",
       "  <tbody>\n",
       "    <tr>\n",
       "      <th>0</th>\n",
       "      <td>KIS to KJI</td>\n",
       "      <td>94</td>\n",
       "    </tr>\n",
       "    <tr>\n",
       "      <th>1</th>\n",
       "      <td>KJI to KJU</td>\n",
       "      <td>135</td>\n",
       "    </tr>\n",
       "  </tbody>\n",
       "</table>\n",
       "</div>"
      ],
      "text/plain": [
       "  Succession_Five  LeaderID\n",
       "0      KIS to KJI        94\n",
       "1      KJI to KJU       135"
      ]
     },
     "execution_count": 110,
     "metadata": {},
     "output_type": "execute_result"
    }
   ],
   "source": [
    "select_columns = [\"Succession_Five\",\"LeaderID\"]\n",
    "select_rows = trans[\"PISame\"]==True\n",
    "group_columns = [\"Succession_Five\"]\n",
    "trans.loc[select_rows,select_columns].groupby(group_columns,as_index=False).count()"
   ]
  },
  {
   "cell_type": "code",
   "execution_count": 111,
   "id": "ef47e9d3",
   "metadata": {},
   "outputs": [],
   "source": [
    "stat4_rows = trans[\"PISame\"]==True\n",
    "stat4_columns = [\"Succession_Five\",\"OrgAdvanceYes\"]\n",
    "stat4_groupby = [\"Succession_Five\"]\n",
    "stat4_labels = [\"Succession Period\",\"Total Transitions\",\"Total Advancements\"]"
   ]
  },
  {
   "cell_type": "code",
   "execution_count": 112,
   "id": "8d510d19",
   "metadata": {
    "scrolled": true
   },
   "outputs": [
    {
     "data": {
      "text/html": [
       "<div>\n",
       "<style scoped>\n",
       "    .dataframe tbody tr th:only-of-type {\n",
       "        vertical-align: middle;\n",
       "    }\n",
       "\n",
       "    .dataframe tbody tr th {\n",
       "        vertical-align: top;\n",
       "    }\n",
       "\n",
       "    .dataframe thead th {\n",
       "        text-align: right;\n",
       "    }\n",
       "</style>\n",
       "<table border=\"1\" class=\"dataframe\">\n",
       "  <thead>\n",
       "    <tr style=\"text-align: right;\">\n",
       "      <th></th>\n",
       "      <th>Succession_Five</th>\n",
       "      <th>Total Transitions</th>\n",
       "      <th>Total Advancements</th>\n",
       "    </tr>\n",
       "  </thead>\n",
       "  <tbody>\n",
       "    <tr>\n",
       "      <th>0</th>\n",
       "      <td>KIS to KJI</td>\n",
       "      <td>94</td>\n",
       "      <td>26</td>\n",
       "    </tr>\n",
       "    <tr>\n",
       "      <th>1</th>\n",
       "      <td>KJI to KJU</td>\n",
       "      <td>135</td>\n",
       "      <td>26</td>\n",
       "    </tr>\n",
       "  </tbody>\n",
       "</table>\n",
       "</div>"
      ],
      "text/plain": [
       "  Succession_Five  Total Transitions Total Advancements\n",
       "0      KIS to KJI                 94                 26\n",
       "1      KJI to KJU                135                 26"
      ]
     },
     "execution_count": 112,
     "metadata": {},
     "output_type": "execute_result"
    }
   ],
   "source": [
    "stat4 = trans.loc[stat4_rows,stat4_columns].groupby(stat4_groupby,as_index=False)[\"OrgAdvanceYes\"].agg({\"Total Transitions\":\"count\",\"Total Advancements\":\"sum\"})\n",
    "stat4"
   ]
  },
  {
   "cell_type": "code",
   "execution_count": 113,
   "id": "3d9a35a3",
   "metadata": {
    "scrolled": true
   },
   "outputs": [
    {
     "data": {
      "text/html": [
       "<div>\n",
       "<style scoped>\n",
       "    .dataframe tbody tr th:only-of-type {\n",
       "        vertical-align: middle;\n",
       "    }\n",
       "\n",
       "    .dataframe tbody tr th {\n",
       "        vertical-align: top;\n",
       "    }\n",
       "\n",
       "    .dataframe thead th {\n",
       "        text-align: right;\n",
       "    }\n",
       "</style>\n",
       "<table border=\"1\" class=\"dataframe\">\n",
       "  <thead>\n",
       "    <tr style=\"text-align: right;\">\n",
       "      <th></th>\n",
       "      <th>Succession_Five</th>\n",
       "      <th>Total Transitions</th>\n",
       "      <th>Total Advancements</th>\n",
       "      <th>Percentage Advancements of OrgRank</th>\n",
       "    </tr>\n",
       "  </thead>\n",
       "  <tbody>\n",
       "    <tr>\n",
       "      <th>0</th>\n",
       "      <td>KIS to KJI</td>\n",
       "      <td>94</td>\n",
       "      <td>26</td>\n",
       "      <td>27.66</td>\n",
       "    </tr>\n",
       "    <tr>\n",
       "      <th>1</th>\n",
       "      <td>KJI to KJU</td>\n",
       "      <td>135</td>\n",
       "      <td>26</td>\n",
       "      <td>19.26</td>\n",
       "    </tr>\n",
       "  </tbody>\n",
       "</table>\n",
       "</div>"
      ],
      "text/plain": [
       "  Succession_Five  Total Transitions Total Advancements  \\\n",
       "0      KIS to KJI                 94                 26   \n",
       "1      KJI to KJU                135                 26   \n",
       "\n",
       "   Percentage Advancements of OrgRank  \n",
       "0                               27.66  \n",
       "1                               19.26  "
      ]
     },
     "execution_count": 113,
     "metadata": {},
     "output_type": "execute_result"
    }
   ],
   "source": [
    "stat4[\"Percentage Advancements of OrgRank\"] = stat4.apply(lambda x: round(x[\"Total Advancements\"] / x[\"Total Transitions\"] * 100,2) if x[\"Total Transitions\"] > 0 else np.nan,axis=1)\n",
    "stat4"
   ]
  },
  {
   "cell_type": "code",
   "execution_count": 114,
   "id": "3553d3b5",
   "metadata": {},
   "outputs": [
    {
     "name": "stdout",
     "output_type": "stream",
     "text": [
      "x1,x2,n1,n2: [25, 28, 94, 135]\n",
      "p1:\t 0.26595744680851063\n",
      "p2:\t 0.2074074074074074\n",
      "p1-p2:\t 0.05855003940110323\n",
      "z:\t 1.0334309766029885\n",
      "pvalue:\t 0.1507011281797649\n"
     ]
    }
   ],
   "source": [
    "# 2-sample test of proportions\n",
    "two_sample_ttest_proportions(25,28,94,135,.05)"
   ]
  },
  {
   "cell_type": "markdown",
   "id": "560180f4",
   "metadata": {},
   "source": [
    "# Hypothesis 3b - Position Advancement, succession period = Five"
   ]
  },
  {
   "cell_type": "code",
   "execution_count": 115,
   "id": "795b6187",
   "metadata": {},
   "outputs": [
    {
     "data": {
      "text/html": [
       "<div>\n",
       "<style scoped>\n",
       "    .dataframe tbody tr th:only-of-type {\n",
       "        vertical-align: middle;\n",
       "    }\n",
       "\n",
       "    .dataframe tbody tr th {\n",
       "        vertical-align: top;\n",
       "    }\n",
       "\n",
       "    .dataframe thead th {\n",
       "        text-align: right;\n",
       "    }\n",
       "</style>\n",
       "<table border=\"1\" class=\"dataframe\">\n",
       "  <thead>\n",
       "    <tr style=\"text-align: right;\">\n",
       "      <th></th>\n",
       "      <th>Succession_Five</th>\n",
       "      <th>LeaderID</th>\n",
       "    </tr>\n",
       "  </thead>\n",
       "  <tbody>\n",
       "    <tr>\n",
       "      <th>0</th>\n",
       "      <td>KIS to KJI</td>\n",
       "      <td>15</td>\n",
       "    </tr>\n",
       "    <tr>\n",
       "      <th>1</th>\n",
       "      <td>KJI to KJU</td>\n",
       "      <td>26</td>\n",
       "    </tr>\n",
       "  </tbody>\n",
       "</table>\n",
       "</div>"
      ],
      "text/plain": [
       "  Succession_Five  LeaderID\n",
       "0      KIS to KJI        15\n",
       "1      KJI to KJU        26"
      ]
     },
     "execution_count": 115,
     "metadata": {},
     "output_type": "execute_result"
    }
   ],
   "source": [
    "select_columns = [\"Succession_Five\",\"LeaderID\"]\n",
    "select_rows = (trans[\"PISame\"] & trans[\"OrgSame\"])==True\n",
    "group_columns = [\"Succession_Five\"]\n",
    "trans.loc[select_rows,select_columns].groupby(group_columns,as_index=False).count()"
   ]
  },
  {
   "cell_type": "code",
   "execution_count": 116,
   "id": "734f708e",
   "metadata": {},
   "outputs": [],
   "source": [
    "stat4b_rows = (trans[\"PISame\"] & trans[\"OrgSame\"])==True\n",
    "stat4b_columns = [\"Succession_Five\",\"PositionAdvanceYes\"]\n",
    "stat4b_groupby = [\"Succession_Five\"]\n",
    "stat4b_labels = [\"Succession Period\",\"Total Transitions\",\"Total Advancements\"]"
   ]
  },
  {
   "cell_type": "code",
   "execution_count": 117,
   "id": "a5a08d86",
   "metadata": {
    "scrolled": true
   },
   "outputs": [
    {
     "data": {
      "text/html": [
       "<div>\n",
       "<style scoped>\n",
       "    .dataframe tbody tr th:only-of-type {\n",
       "        vertical-align: middle;\n",
       "    }\n",
       "\n",
       "    .dataframe tbody tr th {\n",
       "        vertical-align: top;\n",
       "    }\n",
       "\n",
       "    .dataframe thead th {\n",
       "        text-align: right;\n",
       "    }\n",
       "</style>\n",
       "<table border=\"1\" class=\"dataframe\">\n",
       "  <thead>\n",
       "    <tr style=\"text-align: right;\">\n",
       "      <th></th>\n",
       "      <th>Succession_Five</th>\n",
       "      <th>Total Transitions</th>\n",
       "      <th>Total Advancements</th>\n",
       "    </tr>\n",
       "  </thead>\n",
       "  <tbody>\n",
       "    <tr>\n",
       "      <th>0</th>\n",
       "      <td>KIS to KJI</td>\n",
       "      <td>15</td>\n",
       "      <td>7</td>\n",
       "    </tr>\n",
       "    <tr>\n",
       "      <th>1</th>\n",
       "      <td>KJI to KJU</td>\n",
       "      <td>26</td>\n",
       "      <td>11</td>\n",
       "    </tr>\n",
       "  </tbody>\n",
       "</table>\n",
       "</div>"
      ],
      "text/plain": [
       "  Succession_Five  Total Transitions Total Advancements\n",
       "0      KIS to KJI                 15                  7\n",
       "1      KJI to KJU                 26                 11"
      ]
     },
     "execution_count": 117,
     "metadata": {},
     "output_type": "execute_result"
    }
   ],
   "source": [
    "stat4b = trans.loc[stat4b_rows,stat4b_columns].groupby(stat4b_groupby,as_index=False)[\"PositionAdvanceYes\"].agg({\"Total Transitions\":\"count\",\"Total Advancements\":\"sum\"})\n",
    "stat4b"
   ]
  },
  {
   "cell_type": "code",
   "execution_count": 118,
   "id": "12b1bea1",
   "metadata": {
    "scrolled": false
   },
   "outputs": [
    {
     "data": {
      "text/html": [
       "<div>\n",
       "<style scoped>\n",
       "    .dataframe tbody tr th:only-of-type {\n",
       "        vertical-align: middle;\n",
       "    }\n",
       "\n",
       "    .dataframe tbody tr th {\n",
       "        vertical-align: top;\n",
       "    }\n",
       "\n",
       "    .dataframe thead th {\n",
       "        text-align: right;\n",
       "    }\n",
       "</style>\n",
       "<table border=\"1\" class=\"dataframe\">\n",
       "  <thead>\n",
       "    <tr style=\"text-align: right;\">\n",
       "      <th></th>\n",
       "      <th>Succession_Five</th>\n",
       "      <th>Total Transitions</th>\n",
       "      <th>Total Advancements</th>\n",
       "      <th>Percentage Advancements of Position Rank</th>\n",
       "    </tr>\n",
       "  </thead>\n",
       "  <tbody>\n",
       "    <tr>\n",
       "      <th>0</th>\n",
       "      <td>KIS to KJI</td>\n",
       "      <td>15</td>\n",
       "      <td>7</td>\n",
       "      <td>46.67</td>\n",
       "    </tr>\n",
       "    <tr>\n",
       "      <th>1</th>\n",
       "      <td>KJI to KJU</td>\n",
       "      <td>26</td>\n",
       "      <td>11</td>\n",
       "      <td>42.31</td>\n",
       "    </tr>\n",
       "  </tbody>\n",
       "</table>\n",
       "</div>"
      ],
      "text/plain": [
       "  Succession_Five  Total Transitions Total Advancements  \\\n",
       "0      KIS to KJI                 15                  7   \n",
       "1      KJI to KJU                 26                 11   \n",
       "\n",
       "   Percentage Advancements of Position Rank  \n",
       "0                                     46.67  \n",
       "1                                     42.31  "
      ]
     },
     "execution_count": 118,
     "metadata": {},
     "output_type": "execute_result"
    }
   ],
   "source": [
    "stat4b[\"Percentage Advancements of Position Rank\"] = stat4b.apply(lambda x: round(x[\"Total Advancements\"] / x[\"Total Transitions\"] * 100,2) if x[\"Total Transitions\"] > 0 else np.nan,axis=1)\n",
    "stat4b"
   ]
  },
  {
   "cell_type": "code",
   "execution_count": 119,
   "id": "9a55b20d",
   "metadata": {},
   "outputs": [
    {
     "name": "stdout",
     "output_type": "stream",
     "text": [
      "x1,x2,n1,n2: [7, 11, 15, 26]\n",
      "p1:\t 0.4666666666666667\n",
      "p2:\t 0.4230769230769231\n",
      "p1-p2:\t 0.0435897435897436\n",
      "z:\t 0.2708996074187647\n",
      "pvalue:\t 0.39323412348757303\n"
     ]
    }
   ],
   "source": [
    "# 2-sample test of proportions\n",
    "two_sample_ttest_proportions(7,11,15,26,.05)"
   ]
  },
  {
   "cell_type": "markdown",
   "id": "eb85702c",
   "metadata": {},
   "source": [
    "# Hypothesis 3c - Org Advancement, succession = Five, by Institution"
   ]
  },
  {
   "cell_type": "code",
   "execution_count": 120,
   "id": "31cce1b9",
   "metadata": {},
   "outputs": [
    {
     "name": "stdout",
     "output_type": "stream",
     "text": [
      "\n",
      "\n",
      " Government \n",
      "\n",
      "\n",
      "  Succession_Five  Total Transitions Total Advancements  \\\n",
      "0      KIS to KJI                 58                 18   \n",
      "1      KJI to KJU                 62                 15   \n",
      "\n",
      "   Percentage Advancements of OrgRank  \n",
      "0                               31.03  \n",
      "1                               24.19   \n",
      "\n",
      "x1,x2,n1,n2: [18, 15, 58, 62]\n",
      "p1:\t 0.3103448275862069\n",
      "p2:\t 0.24193548387096775\n",
      "p1-p2:\t 0.06840934371523916\n",
      "z:\t 0.8386858046687862\n",
      "pvalue:\t 0.20082282311395816\n",
      "\n",
      "\n",
      " Social \n",
      "\n",
      "\n",
      "  Succession_Five  Total Transitions Total Advancements  \\\n",
      "0      KIS to KJI                 11                  1   \n",
      "1      KJI to KJU                  5                  0   \n",
      "\n",
      "   Percentage Advancements of OrgRank  \n",
      "0                                9.09  \n",
      "1                                0.00   \n",
      "\n",
      "x1,x2,n1,n2: [1, 0, 11, 5]\n",
      "p1:\t 0.09090909090909091\n",
      "p2:\t 0.0\n",
      "p1-p2:\t 0.09090909090909091\n",
      "z:\t 0.6963106238227914\n",
      "pvalue:\t 0.24311716069414868\n",
      "\n",
      "\n",
      " Party \n",
      "\n",
      "\n",
      "  Succession_Five  Total Transitions Total Advancements  \\\n",
      "0      KIS to KJI                 16                  2   \n",
      "1      KJI to KJU                 58                  5   \n",
      "\n",
      "   Percentage Advancements of OrgRank  \n",
      "0                               12.50  \n",
      "1                                8.62   \n",
      "\n",
      "x1,x2,n1,n2: [2, 5, 16, 58]\n",
      "p1:\t 0.125\n",
      "p2:\t 0.08620689655172414\n",
      "p1-p2:\t 0.038793103448275856\n",
      "z:\t 0.46941606784036455\n",
      "pvalue:\t 0.31938613275325445\n",
      "\n",
      "\n",
      " Military \n",
      "\n",
      "\n",
      "  Succession_Five  Total Transitions Total Advancements  \\\n",
      "0      KIS to KJI                  9                  5   \n",
      "1      KJI to KJU                 10                  6   \n",
      "\n",
      "   Percentage Advancements of OrgRank  \n",
      "0                               55.56  \n",
      "1                               60.00   \n",
      "\n",
      "x1,x2,n1,n2: [5, 6, 9, 10]\n",
      "p1:\t 0.5555555555555556\n",
      "p2:\t 0.6\n",
      "p1-p2:\t -0.0444444444444444\n",
      "z:\t -0.19591793788175269\n",
      "pvalue:\t 0.42233719847358553\n"
     ]
    }
   ],
   "source": [
    "ics = list(trans.InstitutionCategory_2.unique())\n",
    "for ic in ics:\n",
    "    print(\"\\n\\n\",ic,\"\\n\\n\")\n",
    "    stat4c_rows = (trans[\"InstitutionCategory_2\"]==ic) & (trans[\"PISame\"]==True)\n",
    "    stat4c_columns = [\"Succession_Five\",\"OrgAdvanceYes\"]\n",
    "    stat4c_groupby = [\"Succession_Five\"]\n",
    "    stat4c_labels = [\"Succession Period\",\"Total Transitions\",\"Total Advancements\"]\n",
    "    \n",
    "    stat4c = trans.loc[stat4c_rows,stat4c_columns].groupby(stat4c_groupby,as_index=False)[\"OrgAdvanceYes\"].agg({\"Total Transitions\":\"count\",\"Total Advancements\":\"sum\"})    \n",
    "    stat4c[\"Percentage Advancements of OrgRank\"] = stat4c.apply(lambda x: round(x[\"Total Advancements\"] / x[\"Total Transitions\"] * 100,2) if x[\"Total Transitions\"] > 0 else np.nan,axis=1)\n",
    "   \n",
    "    print(stat4c,\"\\n\")\n",
    "    \n",
    "    p1 = stat4c.iloc[0,2]\n",
    "    p2 = stat4c.iloc[1,2]\n",
    "    n1 = stat4c.iloc[0,1]\n",
    "    n2 = stat4c.iloc[1,1]\n",
    "    \n",
    "    two_sample_ttest_proportions(p1,p2,n1,n2,.05)"
   ]
  },
  {
   "cell_type": "markdown",
   "id": "9849972a",
   "metadata": {},
   "source": [
    "# Hypothesis 3d - Position Advancement, Succession = Five, by Institution"
   ]
  },
  {
   "cell_type": "code",
   "execution_count": 121,
   "id": "2419497f",
   "metadata": {
    "scrolled": true
   },
   "outputs": [
    {
     "name": "stdout",
     "output_type": "stream",
     "text": [
      "\n",
      "\n",
      " Government \n",
      "\n",
      "\n",
      "  Succession_Five  Total Transitions Total Advancements  \\\n",
      "0      KIS to KJI                 11                  4   \n",
      "1      KJI to KJU                 19                  5   \n",
      "\n",
      "   Percentage Advancements  \n",
      "0                    36.36  \n",
      "1                    26.32   \n",
      "\n",
      "x1,x2,n1,n2: [4, 5, 11, 19]\n",
      "p1:\t 0.36363636363636365\n",
      "p2:\t 0.2631578947368421\n",
      "p1-p2:\t 0.10047846889952156\n",
      "z:\t 0.578729841692194\n",
      "pvalue:\t 0.2813857384811673\n",
      "\n",
      "\n",
      " Social \n",
      "\n",
      "\n",
      "  Succession_Five  Total Transitions Total Advancements  \\\n",
      "0      KIS to KJI                  3                  2   \n",
      "1      KJI to KJU                  1               True   \n",
      "\n",
      "   Percentage Advancements  \n",
      "0                    66.67  \n",
      "1                   100.00   \n",
      "\n",
      "x1,x2,n1,n2: [2, True, 3, 1]\n",
      "p1:\t 0.6666666666666666\n",
      "p2:\t 1.0\n",
      "p1-p2:\t -0.33333333333333337\n",
      "z:\t -0.6666666666666667\n",
      "pvalue:\t 0.2524925375469229\n",
      "\n",
      "\n",
      " Party \n",
      "\n",
      "\n",
      "  Succession_Five  Total Transitions Total Advancements  \\\n",
      "0      KIS to KJI                  1               True   \n",
      "1      KJI to KJU                  5                  5   \n",
      "\n",
      "   Percentage Advancements  \n",
      "0                    100.0  \n",
      "1                    100.0   \n",
      "\n",
      "x1,x2,n1,n2: [True, 5, 1, 5]\n",
      "p1:\t 1.0\n",
      "p2:\t 1.0\n",
      "p1-p2:\t 0.0\n",
      "z:\t nan\n",
      "pvalue:\t nan\n",
      "\n",
      "\n",
      " Military \n",
      "\n",
      "\n",
      "  Succession_Five  Total Transitions Total Advancements  \\\n",
      "0      KIS to KJI                  0                  0   \n",
      "1      KJI to KJU                  1              False   \n",
      "\n",
      "   Percentage Advancements  \n",
      "0                      NaN  \n",
      "1                      0.0   \n",
      "\n",
      "x1,x2,n1,n2: [0, False, 0, 1]\n",
      "p1:\t nan\n",
      "p2:\t 0.0\n",
      "p1-p2:\t nan\n",
      "z:\t nan\n",
      "pvalue:\t nan\n"
     ]
    },
    {
     "name": "stderr",
     "output_type": "stream",
     "text": [
      "C:\\Users\\seoul\\AppData\\Local\\Temp\\ipykernel_20812\\2071851454.py:6: RuntimeWarning: invalid value encountered in scalar divide\n",
      "  z = (p1-p2) / math.sqrt(pstar*(1-pstar)*((1/n1) + (1/n2)))\n",
      "C:\\Users\\seoul\\AppData\\Local\\Temp\\ipykernel_20812\\2071851454.py:4: RuntimeWarning: invalid value encountered in scalar divide\n",
      "  p1 = x1/n1\n",
      "C:\\Users\\seoul\\AppData\\Local\\Temp\\ipykernel_20812\\2071851454.py:6: RuntimeWarning: divide by zero encountered in scalar divide\n",
      "  z = (p1-p2) / math.sqrt(pstar*(1-pstar)*((1/n1) + (1/n2)))\n",
      "C:\\Users\\seoul\\AppData\\Local\\Temp\\ipykernel_20812\\2071851454.py:6: RuntimeWarning: invalid value encountered in scalar multiply\n",
      "  z = (p1-p2) / math.sqrt(pstar*(1-pstar)*((1/n1) + (1/n2)))\n"
     ]
    }
   ],
   "source": [
    "ics = list(trans.InstitutionCategory_2.unique())\n",
    "for ic in ics:\n",
    "    print(\"\\n\\n\",ic,\"\\n\\n\")\n",
    "    stat4c_rows = (trans[\"InstitutionCategory_2\"]==ic) & (trans[\"PISame\"]==True) & (trans[\"OrgSame\"]==True)\n",
    "    stat4c_columns = [\"Succession_Five\",\"PositionAdvanceYes\"]\n",
    "    stat4c_groupby = [\"Succession_Five\"]\n",
    "    stat4c_labels = [\"Succession Period\",\"Total Transitions\",\"Total Advancements\"]\n",
    "    \n",
    "    stat4c = trans.loc[stat4c_rows,stat4c_columns].groupby(stat4c_groupby,as_index=False)[\"PositionAdvanceYes\"].agg({\"Total Transitions\":\"count\",\"Total Advancements\":\"sum\"})    \n",
    "    stat4c[\"Percentage Advancements\"] = stat4c.apply(lambda x: round(x[\"Total Advancements\"] / x[\"Total Transitions\"] * 100,2) if x[\"Total Transitions\"] > 0 else np.nan,axis=1)\n",
    "   \n",
    "    print(stat4c,\"\\n\")\n",
    "    \n",
    "    p1 = stat4c.iloc[0,2]\n",
    "    p2 = stat4c.iloc[1,2]\n",
    "    n1 = stat4c.iloc[0,1]\n",
    "    n2 = stat4c.iloc[1,1]\n",
    "    \n",
    "    two_sample_ttest_proportions(p1,p2,n1,n2,.05)"
   ]
  },
  {
   "cell_type": "code",
   "execution_count": null,
   "id": "fe6b91b3",
   "metadata": {},
   "outputs": [],
   "source": []
  }
 ],
 "metadata": {
  "kernelspec": {
   "display_name": "Python 3 (ipykernel)",
   "language": "python",
   "name": "python3"
  },
  "language_info": {
   "codemirror_mode": {
    "name": "ipython",
    "version": 3
   },
   "file_extension": ".py",
   "mimetype": "text/x-python",
   "name": "python",
   "nbconvert_exporter": "python",
   "pygments_lexer": "ipython3",
   "version": "3.11.5"
  }
 },
 "nbformat": 4,
 "nbformat_minor": 5
}
