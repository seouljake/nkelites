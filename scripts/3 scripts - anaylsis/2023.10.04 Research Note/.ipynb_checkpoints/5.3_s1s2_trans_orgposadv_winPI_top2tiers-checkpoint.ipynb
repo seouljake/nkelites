{
 "cells": [
  {
   "cell_type": "code",
   "execution_count": 1,
   "id": "74698cf3",
   "metadata": {},
   "outputs": [],
   "source": [
    "import pandas as pd\n",
    "import numpy as np\n",
    "from datetime import date\n",
    "from statistics import mean, mode\n",
    "from pandas.api.types import CategoricalDtype\n",
    "import math\n",
    "from scipy.stats import norm"
   ]
  },
  {
   "cell_type": "code",
   "execution_count": 2,
   "id": "75aa1647",
   "metadata": {},
   "outputs": [
    {
     "name": "stdout",
     "output_type": "stream",
     "text": [
      "2024-02-16\n"
     ]
    }
   ],
   "source": [
    "today = date.today()\n",
    "print(today)"
   ]
  },
  {
   "cell_type": "markdown",
   "id": "aaf25c71",
   "metadata": {},
   "source": [
    "# Tables"
   ]
  },
  {
   "cell_type": "code",
   "execution_count": 3,
   "id": "f2c9c339",
   "metadata": {},
   "outputs": [],
   "source": [
    "path_tables = \"C:/Users/seoul/Dropbox/00 technical/github/nkelites/data/combined data/combined data - 2 tables/\""
   ]
  },
  {
   "cell_type": "code",
   "execution_count": 4,
   "id": "200fa7f5",
   "metadata": {},
   "outputs": [],
   "source": [
    "# tables\n",
    "filename_careerorglink = \"careerorglink.xlsx\"\n",
    "filename_leadercareerlink = \"leadercareerlink.xlsx\"\n",
    "filename_orgtree = \"orgtree.xlsx\"\n",
    "filename_elected = \"positions_elected.xlsx\""
   ]
  },
  {
   "cell_type": "code",
   "execution_count": 5,
   "id": "b7d9b165",
   "metadata": {
    "scrolled": true
   },
   "outputs": [],
   "source": [
    "# career-org link\n",
    "# col = pd.read_excel(path_tables + filename_careerorglink,dtype=\"str\")\n",
    "# col.shape"
   ]
  },
  {
   "cell_type": "code",
   "execution_count": 6,
   "id": "0bd17a8f",
   "metadata": {},
   "outputs": [],
   "source": [
    "# col.columns"
   ]
  },
  {
   "cell_type": "code",
   "execution_count": 7,
   "id": "4aa22e14",
   "metadata": {},
   "outputs": [],
   "source": [
    "# leader-career link\n",
    "# lcl = pd.read_excel(path_tables + filename_leadercareerlink,dtype=\"str\")\n",
    "# lcl.shape"
   ]
  },
  {
   "cell_type": "code",
   "execution_count": 8,
   "id": "ac0f5205",
   "metadata": {},
   "outputs": [],
   "source": [
    "# lcl.columns"
   ]
  },
  {
   "cell_type": "code",
   "execution_count": 9,
   "id": "44ba37bd",
   "metadata": {},
   "outputs": [],
   "source": [
    "# orgtree\n",
    "# org = pd.read_excel(path_tables + filename_orgtree,dtype=\"str\")\n",
    "# org.shape"
   ]
  },
  {
   "cell_type": "code",
   "execution_count": 10,
   "id": "05b6e3e8",
   "metadata": {},
   "outputs": [],
   "source": [
    "# org.columns"
   ]
  },
  {
   "cell_type": "code",
   "execution_count": 11,
   "id": "b93b05ba",
   "metadata": {},
   "outputs": [],
   "source": [
    "# elected = pd.read_excel(path_tables + filename_elected,dtype=\"str\")\n",
    "# elected.shape"
   ]
  },
  {
   "cell_type": "code",
   "execution_count": 12,
   "id": "011dfaa4",
   "metadata": {},
   "outputs": [],
   "source": [
    "# elected.columns"
   ]
  },
  {
   "cell_type": "markdown",
   "id": "52841326",
   "metadata": {},
   "source": [
    "# Queries"
   ]
  },
  {
   "cell_type": "code",
   "execution_count": 13,
   "id": "df5b44ce",
   "metadata": {},
   "outputs": [],
   "source": [
    "path_queries = \"C:/Users/seoul/Dropbox/00 technical/github/nkelites/data/combined data/combined data - 3 queries/\""
   ]
  },
  {
   "cell_type": "code",
   "execution_count": 14,
   "id": "4fa255b3",
   "metadata": {},
   "outputs": [],
   "source": [
    "filename_leaderjob_all = \"leaderjob_electUnelect_inOutgov.xlsx\"\n",
    "filename_leaderjob_no_spa = \"leaderjob_no_spa.xlsx\"\n",
    "filename_leaderjobtransition_no_spa = \"leaderjobtransition_no_spa.xlsx\""
   ]
  },
  {
   "cell_type": "code",
   "execution_count": 15,
   "id": "45955b23",
   "metadata": {},
   "outputs": [],
   "source": [
    "# leader jobs\n",
    "# ljobs_all = pd.read_excel(path_queries + filename_leaderjob_all,dtype=\"str\")\n",
    "# ljobs_all.shape"
   ]
  },
  {
   "cell_type": "code",
   "execution_count": 16,
   "id": "96354cc9",
   "metadata": {},
   "outputs": [],
   "source": [
    "# ljobs = pd.read_excel(path_queries + filename_leaderjob_no_spa,dtype=\"str\")\n",
    "# ljobs.shape"
   ]
  },
  {
   "cell_type": "code",
   "execution_count": 17,
   "id": "31cb5cd4",
   "metadata": {},
   "outputs": [
    {
     "data": {
      "text/plain": [
       "(4306, 31)"
      ]
     },
     "execution_count": 17,
     "metadata": {},
     "output_type": "execute_result"
    }
   ],
   "source": [
    "# transitions used for analysis - no SPA - no local-local\n",
    "trans = pd.read_excel(path_queries + filename_leaderjobtransition_no_spa,dtype=\"str\")\n",
    "trans.shape"
   ]
  },
  {
   "cell_type": "markdown",
   "id": "16c49e74",
   "metadata": {},
   "source": [
    "# Analysis - Research Note"
   ]
  },
  {
   "cell_type": "code",
   "execution_count": 18,
   "id": "39648498",
   "metadata": {},
   "outputs": [],
   "source": [
    "path_analysis = \"C:/Users/seoul/Dropbox/00 technical/github/nkelites/analysis/\""
   ]
  },
  {
   "cell_type": "code",
   "execution_count": 19,
   "id": "72a5cd0f",
   "metadata": {},
   "outputs": [],
   "source": [
    "# analysis sub-paths\n",
    "study0_path = \"2023.10.04 Study 0 - research note/\"\n",
    "study1_path = \"2023.10.04 Study 1 - political capital/\"\n",
    "study2_path = \"2023.10.04 Study 2 - commitment vs control/\"\n",
    "study3_path = \"2023.10.04 Study 3 - reds vs experts/\""
   ]
  },
  {
   "cell_type": "code",
   "execution_count": 20,
   "id": "27470b4e",
   "metadata": {},
   "outputs": [],
   "source": [
    "# ljobs = ljobs.astype({\"CareerStartYear\":\"int\",\"CareerStartDate\":\"int\"})\n",
    "# ljobs.dtypes"
   ]
  },
  {
   "cell_type": "markdown",
   "id": "7d59db9d",
   "metadata": {},
   "source": [
    "# Functions"
   ]
  },
  {
   "cell_type": "code",
   "execution_count": 21,
   "id": "ba5de424",
   "metadata": {},
   "outputs": [],
   "source": [
    "def merge_results(m):\n",
    "    \n",
    "    print(\"\\nMerge Results...\")\n",
    "    print(\"\")\n",
    "    print(\"\\tshape     :\",m.shape)\n",
    "    print(\"\\tleft_only :\",m[m[\"_merge\"]==\"left_only\"].shape)\n",
    "    print(\"\\tboth      :\",m[m[\"_merge\"]==\"both\"].shape)\n",
    "    print(\"\\tright_only:\",m[m[\"_merge\"]==\"right_only\"].shape)"
   ]
  },
  {
   "cell_type": "code",
   "execution_count": 22,
   "id": "d3411709",
   "metadata": {},
   "outputs": [],
   "source": [
    "# using this on (PI,OrgName) will ensure unique & non-null keys\n",
    "# using this on a larger df will ensure unique rows and non-null keys, but not unique keys\n",
    "\n",
    "def unique_non_null_rows(olddf):\n",
    "    \n",
    "    df = olddf.copy()\n",
    "    \n",
    "    \n",
    "    ### drop duplicates\n",
    "    df = df.drop_duplicates(keep=\"first\",ignore_index=True)\n",
    "\n",
    "    ### drop null rows\n",
    "    df.dropna(how=\"all\",axis=0,inplace=True)\n",
    "    \n",
    "    # drop rows with null PI\n",
    "    df = df[~(df[\"PrimaryInstitution\"].isna())]\n",
    "        \n",
    "    ### drop rows where PI contains stop words\n",
    "    stop_words_lower = [\"uncertain\",\"current\",\"deprecated\",\"please_revise\"]\n",
    "    df = df[ ~ df[\"PrimaryInstitution\"].str.lower().isin(stop_words_lower)]\n",
    "            \n",
    "\n",
    "    print(\"\\nUnique Non-null Rows...\")\n",
    "    print(\"\")\n",
    "    print(\"\\tNon-unique rows:\",olddf.shape)\n",
    "    print(\"\\tUnique rows    :\",df.shape)\n",
    "\n",
    "    ### sort\n",
    "    df = df.sort_values([\"PrimaryInstitution\",\"OrgName\"])\n",
    "    \n",
    "    return df"
   ]
  },
  {
   "cell_type": "code",
   "execution_count": 23,
   "id": "945f13c9",
   "metadata": {},
   "outputs": [],
   "source": [
    "def create_time_series(series,group_var,count_var):\n",
    "    \n",
    "    yeardist = series.groupby(group_var,as_index=False).count().sort_values(group_var)\n",
    "    \n",
    "    max_year = max(series[group_var])\n",
    "    x = pd.DataFrame({\"year\":pd.Series(range(min(yeardist[group_var].astype(int)),max(yeardist[group_var].astype(int))+1))})\n",
    "    \n",
    "    yeardist[group_var] = yeardist[group_var].astype(int,errors=\"ignore\")\n",
    "    \n",
    "    ts = x.merge(yeardist,left_on=\"year\",right_on=group_var,how=\"left\")\n",
    "    ts.loc[ts[count_var].isna(),count_var]=0\n",
    "    # merge_results(ts)\n",
    "    \n",
    "    ts_columns = [\"year\",count_var]\n",
    "    ts = ts[ts_columns]\n",
    "    \n",
    "    return ts"
   ]
  },
  {
   "cell_type": "code",
   "execution_count": 24,
   "id": "fb9d2ff8",
   "metadata": {},
   "outputs": [],
   "source": [
    "# create InstitutionCategory (English) variable InstitutionType\n",
    "\n",
    "# use with apply. e.g., \n",
    "# df[\"InstitutionCategory] = df[\"InstitutionType\"].apply(define_institution_category)\n",
    "\n",
    "def define_institution_category(PI):\n",
    "    \n",
    "    c = \"Social\"\n",
    "    \n",
    "    if PI==\"정권기관\":\n",
    "        c = \"Government\"\n",
    "    elif PI==\"노동당\":\n",
    "        c = \"Party\"\n",
    "    elif PI==\"인민군\":\n",
    "        c = \"Military\"\n",
    "        \n",
    "    return c"
   ]
  },
  {
   "cell_type": "code",
   "execution_count": 25,
   "id": "ffc5547a",
   "metadata": {},
   "outputs": [],
   "source": [
    "def two_sample_ttest_proportions(x1,x2,n1,n2,alpha):\n",
    "    \n",
    "    pstar = (x1+x2)/(n1+n2)\n",
    "    p1 = x1/n1\n",
    "    p2 = x2/n2\n",
    "    z = (p1-p2) / math.sqrt(pstar*(1-pstar)*((1/n1) + (1/n2)))\n",
    "    pvalue = 1-norm.cdf(abs(z))\n",
    "    \n",
    "    # add significance stars to result\n",
    "    stars = \"\"\n",
    "    if pvalue<.05:\n",
    "        stars = \"*\"\n",
    "    if pvalue<.01:\n",
    "        stars = \"**\"\n",
    "    if pvalue<.001:\n",
    "        stars = \"***\"\n",
    "    result = str(pvalue)+stars\n",
    "    \n",
    "    print(\"x1,x2,n1,n2:\",[x1,x2,n1,n2])\n",
    "    print(\"p1:\\t\",p1)\n",
    "    print(\"p2:\\t\",p2)\n",
    "    print(\"p1-p2:\\t\",(p1-p2))\n",
    "    print(\"z:\\t\",z)\n",
    "    print(\"pvalue:\\t\",result)"
   ]
  },
  {
   "cell_type": "markdown",
   "id": "224feffb",
   "metadata": {},
   "source": [
    "# Format & Covariates"
   ]
  },
  {
   "cell_type": "markdown",
   "id": "7178064f",
   "metadata": {},
   "source": [
    "### 0. change datatypes"
   ]
  },
  {
   "cell_type": "code",
   "execution_count": 26,
   "id": "b22117ac",
   "metadata": {},
   "outputs": [
    {
     "data": {
      "text/plain": [
       "LeaderID                   object\n",
       "CareerString_1             object\n",
       "CareerDateString_2022_1    object\n",
       "CareerStartYear_1           int32\n",
       "CareerStartMonth_1         object\n",
       "CareerStartDate_1           int32\n",
       "CareerSubstring_1          object\n",
       "InstitutionType_1          object\n",
       "PrimaryInstitution_1       object\n",
       "OrgName_1                  object\n",
       "Local_1                    object\n",
       "Position_1                 object\n",
       "IsElected_1                object\n",
       "OrgRank_1                  object\n",
       "PositionRank_1             object\n",
       "CareerString_2             object\n",
       "CareerDateString_2022_2    object\n",
       "CareerStartYear_2           int32\n",
       "CareerStartMonth_2         object\n",
       "CareerStartDate_2           int32\n",
       "CareerSubstring_2          object\n",
       "InstitutionType_2          object\n",
       "PrimaryInstitution_2       object\n",
       "OrgName_2                  object\n",
       "Local_2                    object\n",
       "Position_2                 object\n",
       "IsElected_2                object\n",
       "OrgRank_2                  object\n",
       "PositionRank_2             object\n",
       "OrgAdvance                  int32\n",
       "PositionAdvance             int32\n",
       "dtype: object"
      ]
     },
     "execution_count": 26,
     "metadata": {},
     "output_type": "execute_result"
    }
   ],
   "source": [
    "trans = trans.astype({\"OrgAdvance\":\"int\",\"PositionAdvance\":\"int\",\n",
    "                      \"CareerStartYear_1\":\"int\",\"CareerStartYear_2\":\"int\",\n",
    "                      \"CareerStartDate_1\":\"int\",\"CareerStartDate_2\":\"int\"})\n",
    "trans.dtypes"
   ]
  },
  {
   "cell_type": "markdown",
   "id": "6d0fa0f4",
   "metadata": {},
   "source": [
    "### 1. double-check exlcudes SPA jobs and local-local trans"
   ]
  },
  {
   "cell_type": "code",
   "execution_count": 27,
   "id": "93f690ba",
   "metadata": {},
   "outputs": [
    {
     "data": {
      "text/plain": [
       "Index(['LeaderID', 'CareerString_1', 'CareerDateString_2022_1',\n",
       "       'CareerStartYear_1', 'CareerStartMonth_1', 'CareerStartDate_1',\n",
       "       'CareerSubstring_1', 'InstitutionType_1', 'PrimaryInstitution_1',\n",
       "       'OrgName_1', 'Local_1', 'Position_1', 'IsElected_1', 'OrgRank_1',\n",
       "       'PositionRank_1', 'CareerString_2', 'CareerDateString_2022_2',\n",
       "       'CareerStartYear_2', 'CareerStartMonth_2', 'CareerStartDate_2',\n",
       "       'CareerSubstring_2', 'InstitutionType_2', 'PrimaryInstitution_2',\n",
       "       'OrgName_2', 'Local_2', 'Position_2', 'IsElected_2', 'OrgRank_2',\n",
       "       'PositionRank_2', 'OrgAdvance', 'PositionAdvance'],\n",
       "      dtype='object')"
      ]
     },
     "execution_count": 27,
     "metadata": {},
     "output_type": "execute_result"
    }
   ],
   "source": [
    "trans.columns"
   ]
  },
  {
   "cell_type": "code",
   "execution_count": 28,
   "id": "6ae6e6c4",
   "metadata": {},
   "outputs": [
    {
     "data": {
      "text/plain": [
       "(4306, 31)"
      ]
     },
     "execution_count": 28,
     "metadata": {},
     "output_type": "execute_result"
    }
   ],
   "source": [
    "trans.shape"
   ]
  },
  {
   "cell_type": "code",
   "execution_count": 29,
   "id": "d79f24b1",
   "metadata": {},
   "outputs": [
    {
     "data": {
      "text/plain": [
       "array(['False', 'True'], dtype=object)"
      ]
     },
     "execution_count": 29,
     "metadata": {},
     "output_type": "execute_result"
    }
   ],
   "source": [
    "trans.Local_1.unique()"
   ]
  },
  {
   "cell_type": "code",
   "execution_count": 30,
   "id": "26322931",
   "metadata": {},
   "outputs": [
    {
     "data": {
      "text/plain": [
       "(4222, 31)"
      ]
     },
     "execution_count": 30,
     "metadata": {},
     "output_type": "execute_result"
    }
   ],
   "source": [
    "# remove Local-Local ties\n",
    "trans = trans[~((trans[\"Local_1\"]==\"True\") & (trans[\"Local_2\"]==\"True\"))]\n",
    "trans.shape"
   ]
  },
  {
   "cell_type": "markdown",
   "id": "89b8005e",
   "metadata": {},
   "source": [
    "### 2. add InstitutionCategory_1, InstitutionCategory_2"
   ]
  },
  {
   "cell_type": "code",
   "execution_count": 31,
   "id": "2c23bb5d",
   "metadata": {},
   "outputs": [
    {
     "data": {
      "text/plain": [
       "array(['정권기관', '국제친선단체', '노동당', '인민군', '당외곽및사회단체_사회부문(별책)',\n",
       "       '당외곽및사회단체_사회부문', '당외곽및사회단체_체육부문', '당외곽및사회단체_정치부문', '당외곽및사회단체_대외부문',\n",
       "       '당외곽및사회단체_근로단체', '당외곽및사회단체_종교부문', '당외곽및사회단체_경제부문(별책)',\n",
       "       '당외곽및사회단체_경제부문'], dtype=object)"
      ]
     },
     "execution_count": 31,
     "metadata": {},
     "output_type": "execute_result"
    }
   ],
   "source": [
    "trans.InstitutionType_1.unique()"
   ]
  },
  {
   "cell_type": "markdown",
   "id": "85a5450f",
   "metadata": {},
   "source": [
    "### 3. PISame, OrgSame"
   ]
  },
  {
   "cell_type": "code",
   "execution_count": 32,
   "id": "fa61b250",
   "metadata": {},
   "outputs": [
    {
     "data": {
      "text/plain": [
       "Index(['LeaderID', 'CareerString_1', 'CareerDateString_2022_1',\n",
       "       'CareerStartYear_1', 'CareerStartMonth_1', 'CareerStartDate_1',\n",
       "       'CareerSubstring_1', 'InstitutionType_1', 'PrimaryInstitution_1',\n",
       "       'OrgName_1', 'Local_1', 'Position_1', 'IsElected_1', 'OrgRank_1',\n",
       "       'PositionRank_1', 'CareerString_2', 'CareerDateString_2022_2',\n",
       "       'CareerStartYear_2', 'CareerStartMonth_2', 'CareerStartDate_2',\n",
       "       'CareerSubstring_2', 'InstitutionType_2', 'PrimaryInstitution_2',\n",
       "       'OrgName_2', 'Local_2', 'Position_2', 'IsElected_2', 'OrgRank_2',\n",
       "       'PositionRank_2', 'OrgAdvance', 'PositionAdvance'],\n",
       "      dtype='object')"
      ]
     },
     "execution_count": 32,
     "metadata": {},
     "output_type": "execute_result"
    }
   ],
   "source": [
    "trans.columns"
   ]
  },
  {
   "cell_type": "code",
   "execution_count": 33,
   "id": "c948f887",
   "metadata": {},
   "outputs": [
    {
     "data": {
      "text/plain": [
       "array([False,  True])"
      ]
     },
     "execution_count": 33,
     "metadata": {},
     "output_type": "execute_result"
    }
   ],
   "source": [
    "trans[\"PISame\"] = False\n",
    "trans.loc[trans[\"PrimaryInstitution_1\"]==trans[\"PrimaryInstitution_2\"],[\"PISame\"]] = True\n",
    "trans.PISame.unique()"
   ]
  },
  {
   "cell_type": "code",
   "execution_count": 34,
   "id": "4ee35bbd",
   "metadata": {},
   "outputs": [
    {
     "data": {
      "text/plain": [
       "array([nan, True, False], dtype=object)"
      ]
     },
     "execution_count": 34,
     "metadata": {},
     "output_type": "execute_result"
    }
   ],
   "source": [
    "trans[\"OrgSame\"] = np.nan\n",
    "trans.loc[trans[\"PISame\"]==True,\"OrgSame\"] = False\n",
    "trans.loc[(trans[\"PISame\"]==True) & (trans[\"OrgName_1\"]==trans[\"OrgName_2\"]),[\"OrgSame\"]] = True\n",
    "trans.OrgSame.unique()"
   ]
  },
  {
   "cell_type": "markdown",
   "id": "2c1d7604",
   "metadata": {},
   "source": [
    "### 4. OrgRankChange, PositionRankChange"
   ]
  },
  {
   "cell_type": "code",
   "execution_count": 35,
   "id": "6d952efc",
   "metadata": {},
   "outputs": [],
   "source": [
    "trans[\"OrgRankChange\"] = np.nan"
   ]
  },
  {
   "cell_type": "code",
   "execution_count": 36,
   "id": "7b8ad44b",
   "metadata": {},
   "outputs": [],
   "source": [
    "trans.loc[trans[\"PISame\"] & (trans[\"OrgRank_1\"]>trans[\"OrgRank_2\"]),\"OrgRankChange\"] = \"lower\"\n",
    "trans.loc[trans[\"PISame\"] & (trans[\"OrgRank_1\"]==trans[\"OrgRank_2\"]),\"OrgRankChange\"] = \"same\"\n",
    "trans.loc[trans[\"PISame\"] & (trans[\"OrgRank_1\"]<trans[\"OrgRank_2\"]),\"OrgRankChange\"] = \"higher\""
   ]
  },
  {
   "cell_type": "code",
   "execution_count": 37,
   "id": "a9670361",
   "metadata": {},
   "outputs": [],
   "source": [
    "value_order = [\"lower\",\"same\",\"higher\"]\n",
    "trans.OrgRankChange = trans.OrgRankChange.astype(\"category\")\n",
    "trans.OrgRankChange = trans.OrgRankChange.cat.set_categories(value_order)"
   ]
  },
  {
   "cell_type": "code",
   "execution_count": 38,
   "id": "f6419f47",
   "metadata": {},
   "outputs": [
    {
     "data": {
      "text/plain": [
       "[NaN, 'same', 'higher', 'lower']\n",
       "Categories (3, object): ['lower', 'same', 'higher']"
      ]
     },
     "execution_count": 38,
     "metadata": {},
     "output_type": "execute_result"
    }
   ],
   "source": [
    "trans.OrgRankChange.unique()"
   ]
  },
  {
   "cell_type": "code",
   "execution_count": 39,
   "id": "2a902ad9",
   "metadata": {},
   "outputs": [],
   "source": [
    "trans[\"PositionRankChange\"] = np.nan"
   ]
  },
  {
   "cell_type": "code",
   "execution_count": 40,
   "id": "8aef237c",
   "metadata": {},
   "outputs": [],
   "source": [
    "# PositionRankChange, narrowly defined, with OrgSame=True\n",
    "# trans.loc[trans[\"OrgSame\"] & (trans[\"PositionRank_1\"]>trans[\"PositionRank_2\"]),\"PositionRankChange\"] = \"lower\"\n",
    "# trans.loc[trans[\"OrgSame\"] & (trans[\"PositionRank_1\"]==trans[\"PositionRank_2\"]),\"PositionRankChange\"] = \"same\"\n",
    "# trans.loc[trans[\"OrgSame\"] & (trans[\"PositionRank_1\"]<trans[\"PositionRank_2\"]),\"PositionRankChange\"] = \"higher\""
   ]
  },
  {
   "cell_type": "code",
   "execution_count": 41,
   "id": "064e4299",
   "metadata": {},
   "outputs": [],
   "source": [
    "# PositionRankChange, broadly defined, with PISame=True & OrgRankChange=\"same\"\n",
    "trans.loc[trans[\"PISame\"] & trans[\"OrgRankChange\"].isin([\"same\"]) & (trans[\"PositionRank_1\"]>trans[\"PositionRank_2\"]),\"PositionRankChange\"] = \"lower\"\n",
    "trans.loc[trans[\"PISame\"] & trans[\"OrgRankChange\"].isin([\"same\"]) & (trans[\"PositionRank_1\"]==trans[\"PositionRank_2\"]),\"PositionRankChange\"] = \"same\"\n",
    "trans.loc[trans[\"PISame\"] & trans[\"OrgRankChange\"].isin([\"same\"]) & (trans[\"PositionRank_1\"]<trans[\"PositionRank_2\"]),\"PositionRankChange\"] = \"higher\""
   ]
  },
  {
   "cell_type": "code",
   "execution_count": 42,
   "id": "5e716cc8",
   "metadata": {},
   "outputs": [],
   "source": [
    "value_order = [\"lower\",\"same\",\"higher\"]\n",
    "trans.PositionRankChange = trans.PositionRankChange.astype(\"category\")\n",
    "trans.PositionRankChange = trans.PositionRankChange.cat.set_categories(value_order)"
   ]
  },
  {
   "cell_type": "code",
   "execution_count": 43,
   "id": "404e6562",
   "metadata": {},
   "outputs": [
    {
     "data": {
      "text/plain": [
       "[NaN, 'same', 'higher', 'lower']\n",
       "Categories (3, object): ['lower', 'same', 'higher']"
      ]
     },
     "execution_count": 43,
     "metadata": {},
     "output_type": "execute_result"
    }
   ],
   "source": [
    "trans.PositionRankChange.unique()"
   ]
  },
  {
   "cell_type": "markdown",
   "id": "b9d6f5ef",
   "metadata": {},
   "source": [
    "### 5. Succession Period - Broad\n",
    "\n",
    "* KIS-->KJI: 1974-1993 - less institutionalized (stronger intra)\n",
    "* KJI--->KJU:  2002-2011 - more institutionalized (stronger inter)"
   ]
  },
  {
   "cell_type": "code",
   "execution_count": 44,
   "id": "85574772",
   "metadata": {},
   "outputs": [],
   "source": [
    "trans[\"Succession_Broad\"] = np.nan"
   ]
  },
  {
   "cell_type": "code",
   "execution_count": 45,
   "id": "4e61e921",
   "metadata": {},
   "outputs": [],
   "source": [
    "value_order = [\"KIS to KJI\",\"KJI to KJU\"]\n",
    "trans.Succession_Broad = trans.Succession_Broad.astype(\"category\")\n",
    "trans.Succession_Broad = trans.Succession_Broad.cat.set_categories(value_order)"
   ]
  },
  {
   "cell_type": "code",
   "execution_count": 46,
   "id": "4b01e6b8",
   "metadata": {},
   "outputs": [],
   "source": [
    "trans.loc[(trans[\"CareerStartYear_2\"]>1973) & (trans[\"CareerStartYear_2\"]<1994),\"Succession_Broad\"] = \"KIS to KJI\"\n",
    "trans.loc[(trans[\"CareerStartYear_2\"]>2001) & (trans[\"CareerStartYear_2\"]<2012),\"Succession_Broad\"] = \"KJI to KJU\""
   ]
  },
  {
   "cell_type": "code",
   "execution_count": 47,
   "id": "99b41611",
   "metadata": {},
   "outputs": [
    {
     "data": {
      "text/html": [
       "<div>\n",
       "<style scoped>\n",
       "    .dataframe tbody tr th:only-of-type {\n",
       "        vertical-align: middle;\n",
       "    }\n",
       "\n",
       "    .dataframe tbody tr th {\n",
       "        vertical-align: top;\n",
       "    }\n",
       "\n",
       "    .dataframe thead th {\n",
       "        text-align: right;\n",
       "    }\n",
       "</style>\n",
       "<table border=\"1\" class=\"dataframe\">\n",
       "  <thead>\n",
       "    <tr style=\"text-align: right;\">\n",
       "      <th></th>\n",
       "      <th>Succession_Broad</th>\n",
       "      <th>OrgName_2</th>\n",
       "    </tr>\n",
       "  </thead>\n",
       "  <tbody>\n",
       "    <tr>\n",
       "      <th>0</th>\n",
       "      <td>KIS to KJI</td>\n",
       "      <td>674</td>\n",
       "    </tr>\n",
       "    <tr>\n",
       "      <th>1</th>\n",
       "      <td>KJI to KJU</td>\n",
       "      <td>648</td>\n",
       "    </tr>\n",
       "  </tbody>\n",
       "</table>\n",
       "</div>"
      ],
      "text/plain": [
       "  Succession_Broad  OrgName_2\n",
       "0       KIS to KJI        674\n",
       "1       KJI to KJU        648"
      ]
     },
     "execution_count": 47,
     "metadata": {},
     "output_type": "execute_result"
    }
   ],
   "source": [
    "trans[[\"Succession_Broad\",\"OrgName_2\"]].groupby(\"Succession_Broad\",as_index=False).count()"
   ]
  },
  {
   "cell_type": "code",
   "execution_count": 48,
   "id": "2a42e205",
   "metadata": {},
   "outputs": [
    {
     "data": {
      "text/plain": [
       "34      1977\n",
       "35      1977\n",
       "36      1979\n",
       "37      1980\n",
       "38      1982\n",
       "        ... \n",
       "3805    1980\n",
       "3934    1993\n",
       "4285    1977\n",
       "4286    1980\n",
       "4287    1990\n",
       "Name: CareerStartYear_2, Length: 1006, dtype: int32"
      ]
     },
     "execution_count": 48,
     "metadata": {},
     "output_type": "execute_result"
    }
   ],
   "source": [
    "trans.loc[trans[\"Succession_Broad\"]==\"KIS to KJI\",\"CareerStartYear_2\"]"
   ]
  },
  {
   "cell_type": "markdown",
   "id": "6bd80638",
   "metadata": {},
   "source": [
    "### 6. Succession Period - Narrow\n",
    "\n",
    "#### Esther's periodization\n",
    "* KIS-->KJI: 1987-1994 - less institutionalized (stronger intra)\n",
    "* KJI--->KJU:  2009-2011 - more institutionalized (stronger inter)"
   ]
  },
  {
   "cell_type": "code",
   "execution_count": 49,
   "id": "c304d6bb",
   "metadata": {},
   "outputs": [],
   "source": [
    "trans[\"Succession_Narrow\"] = np.nan"
   ]
  },
  {
   "cell_type": "code",
   "execution_count": 50,
   "id": "5b98cedb",
   "metadata": {},
   "outputs": [],
   "source": [
    "value_order = [\"KIS to KJI\",\"KJI to KJU\"]\n",
    "trans.Succession_Narrow = trans.Succession_Narrow.astype(\"category\")\n",
    "trans.Succession_Narrow = trans.Succession_Narrow.cat.set_categories(value_order)"
   ]
  },
  {
   "cell_type": "code",
   "execution_count": 51,
   "id": "f68822a7",
   "metadata": {},
   "outputs": [],
   "source": [
    "### Esther's periodization\n",
    "\n",
    "trans.loc[(trans[\"CareerStartYear_2\"]>1986) & (trans[\"CareerStartYear_2\"]<1995),\"Succession_Narrow\"] = \"KIS to KJI\"\n",
    "trans.loc[(trans[\"CareerStartYear_2\"]>2008) & (trans[\"CareerStartYear_2\"]<2012),\"Succession_Narrow\"] = \"KJI to KJU\""
   ]
  },
  {
   "cell_type": "code",
   "execution_count": 52,
   "id": "0cff7789",
   "metadata": {
    "scrolled": false
   },
   "outputs": [
    {
     "data": {
      "text/html": [
       "<div>\n",
       "<style scoped>\n",
       "    .dataframe tbody tr th:only-of-type {\n",
       "        vertical-align: middle;\n",
       "    }\n",
       "\n",
       "    .dataframe tbody tr th {\n",
       "        vertical-align: top;\n",
       "    }\n",
       "\n",
       "    .dataframe thead th {\n",
       "        text-align: right;\n",
       "    }\n",
       "</style>\n",
       "<table border=\"1\" class=\"dataframe\">\n",
       "  <thead>\n",
       "    <tr style=\"text-align: right;\">\n",
       "      <th></th>\n",
       "      <th>Succession_Narrow</th>\n",
       "      <th>OrgName_2</th>\n",
       "    </tr>\n",
       "  </thead>\n",
       "  <tbody>\n",
       "    <tr>\n",
       "      <th>0</th>\n",
       "      <td>KIS to KJI</td>\n",
       "      <td>323</td>\n",
       "    </tr>\n",
       "    <tr>\n",
       "      <th>1</th>\n",
       "      <td>KJI to KJU</td>\n",
       "      <td>383</td>\n",
       "    </tr>\n",
       "  </tbody>\n",
       "</table>\n",
       "</div>"
      ],
      "text/plain": [
       "  Succession_Narrow  OrgName_2\n",
       "0        KIS to KJI        323\n",
       "1        KJI to KJU        383"
      ]
     },
     "execution_count": 52,
     "metadata": {},
     "output_type": "execute_result"
    }
   ],
   "source": [
    "trans[[\"Succession_Narrow\",\"OrgName_2\"]].groupby(\"Succession_Narrow\",as_index=False).count()"
   ]
  },
  {
   "cell_type": "markdown",
   "id": "643ed226",
   "metadata": {},
   "source": [
    "### 7. OrgAdvanceYes"
   ]
  },
  {
   "cell_type": "code",
   "execution_count": 53,
   "id": "3f8ba5c4",
   "metadata": {},
   "outputs": [],
   "source": [
    "trans[\"OrgAdvanceYes\"] = np.nan"
   ]
  },
  {
   "cell_type": "code",
   "execution_count": 54,
   "id": "0619d3cd",
   "metadata": {},
   "outputs": [],
   "source": [
    "trans.loc[trans[\"PISame\"]==True,\"OrgAdvanceYes\"] = False\n",
    "trans.loc[trans[\"PISame\"]==True & (trans[\"OrgRank_1\"]>trans[\"OrgRank_2\"]),\"OrgAdvanceYes\"] = True"
   ]
  },
  {
   "cell_type": "markdown",
   "id": "600161bf",
   "metadata": {},
   "source": [
    "### 8. PositionAdvanceYes"
   ]
  },
  {
   "cell_type": "code",
   "execution_count": 55,
   "id": "e3cec35f",
   "metadata": {},
   "outputs": [],
   "source": [
    "trans[\"PositionAdvanceYes\"] = np.nan"
   ]
  },
  {
   "cell_type": "code",
   "execution_count": 56,
   "id": "83dcc4a2",
   "metadata": {},
   "outputs": [],
   "source": [
    "trans.loc[trans[\"OrgSame\"]==True,\"PositionAdvanceYes\"] = False\n",
    "trans.loc[trans[\"OrgSame\"]==True & (trans[\"PositionRank_1\"]>trans[\"PositionRank_2\"]),\"PositionAdvanceYes\"] = True"
   ]
  },
  {
   "cell_type": "markdown",
   "id": "e30c43d6",
   "metadata": {},
   "source": [
    "### 9. InstitutionCategory"
   ]
  },
  {
   "cell_type": "code",
   "execution_count": 57,
   "id": "41b7f5f4",
   "metadata": {},
   "outputs": [
    {
     "data": {
      "text/plain": [
       "Index(['LeaderID', 'CareerString_1', 'CareerDateString_2022_1',\n",
       "       'CareerStartYear_1', 'CareerStartMonth_1', 'CareerStartDate_1',\n",
       "       'CareerSubstring_1', 'InstitutionType_1', 'PrimaryInstitution_1',\n",
       "       'OrgName_1', 'Local_1', 'Position_1', 'IsElected_1', 'OrgRank_1',\n",
       "       'PositionRank_1', 'CareerString_2', 'CareerDateString_2022_2',\n",
       "       'CareerStartYear_2', 'CareerStartMonth_2', 'CareerStartDate_2',\n",
       "       'CareerSubstring_2', 'InstitutionType_2', 'PrimaryInstitution_2',\n",
       "       'OrgName_2', 'Local_2', 'Position_2', 'IsElected_2', 'OrgRank_2',\n",
       "       'PositionRank_2', 'OrgAdvance', 'PositionAdvance', 'PISame', 'OrgSame',\n",
       "       'OrgRankChange', 'PositionRankChange', 'Succession_Broad',\n",
       "       'Succession_Narrow', 'OrgAdvanceYes', 'PositionAdvanceYes'],\n",
       "      dtype='object')"
      ]
     },
     "execution_count": 57,
     "metadata": {},
     "output_type": "execute_result"
    }
   ],
   "source": [
    "trans.columns"
   ]
  },
  {
   "cell_type": "code",
   "execution_count": 58,
   "id": "3e2cb6fe",
   "metadata": {},
   "outputs": [],
   "source": [
    "trans[\"InstitutionCategory_1\"] = trans[\"InstitutionType_1\"].apply(define_institution_category)\n",
    "trans[\"InstitutionCategory_2\"] = trans[\"InstitutionType_2\"].apply(define_institution_category)"
   ]
  },
  {
   "cell_type": "markdown",
   "id": "be34784d",
   "metadata": {},
   "source": [
    "### 10. InstitutionCategorySame"
   ]
  },
  {
   "cell_type": "code",
   "execution_count": 59,
   "id": "d77928d7",
   "metadata": {},
   "outputs": [],
   "source": [
    "trans[\"InstitutionCategorySame\"] = trans[\"InstitutionCategory_1\"] == trans[\"InstitutionCategory_2\"]"
   ]
  },
  {
   "cell_type": "markdown",
   "id": "9ba34124",
   "metadata": {},
   "source": [
    "### 11. Succession_Five\n",
    "\n",
    "#### Jacob's periodization\n",
    "* KIS-->KJI: 1994-1999 - less institutionalized (stronger intra)\n",
    "* KJI--->KJU:  2011-2016 - more institutionalized (stronger inter)"
   ]
  },
  {
   "cell_type": "code",
   "execution_count": 60,
   "id": "ad809163",
   "metadata": {},
   "outputs": [],
   "source": [
    "trans[\"Succession_Five\"] = np.nan"
   ]
  },
  {
   "cell_type": "code",
   "execution_count": 61,
   "id": "675c0e3d",
   "metadata": {},
   "outputs": [],
   "source": [
    "value_order = [\"KIS to KJI\",\"KJI to KJU\"]\n",
    "trans.Succession_Five = trans.Succession_Five.astype(\"category\")\n",
    "trans.Succession_Five = trans.Succession_Five.cat.set_categories(value_order)"
   ]
  },
  {
   "cell_type": "code",
   "execution_count": 62,
   "id": "64a18561",
   "metadata": {},
   "outputs": [],
   "source": [
    "### Jacob's periodization\n",
    "\n",
    "trans.loc[(trans[\"CareerStartYear_2\"]>1993) & (trans[\"CareerStartYear_2\"]<2000),\"Succession_Five\"] = \"KIS to KJI\"\n",
    "trans.loc[(trans[\"CareerStartYear_2\"]>2010) & (trans[\"CareerStartYear_2\"]<2016),\"Succession_Five\"] = \"KJI to KJU\""
   ]
  },
  {
   "cell_type": "code",
   "execution_count": 63,
   "id": "24e9b26a",
   "metadata": {},
   "outputs": [
    {
     "data": {
      "text/html": [
       "<div>\n",
       "<style scoped>\n",
       "    .dataframe tbody tr th:only-of-type {\n",
       "        vertical-align: middle;\n",
       "    }\n",
       "\n",
       "    .dataframe tbody tr th {\n",
       "        vertical-align: top;\n",
       "    }\n",
       "\n",
       "    .dataframe thead th {\n",
       "        text-align: right;\n",
       "    }\n",
       "</style>\n",
       "<table border=\"1\" class=\"dataframe\">\n",
       "  <thead>\n",
       "    <tr style=\"text-align: right;\">\n",
       "      <th></th>\n",
       "      <th>Succession_Five</th>\n",
       "      <th>OrgName_2</th>\n",
       "    </tr>\n",
       "  </thead>\n",
       "  <tbody>\n",
       "    <tr>\n",
       "      <th>0</th>\n",
       "      <td>KIS to KJI</td>\n",
       "      <td>229</td>\n",
       "    </tr>\n",
       "    <tr>\n",
       "      <th>1</th>\n",
       "      <td>KJI to KJU</td>\n",
       "      <td>229</td>\n",
       "    </tr>\n",
       "  </tbody>\n",
       "</table>\n",
       "</div>"
      ],
      "text/plain": [
       "  Succession_Five  OrgName_2\n",
       "0      KIS to KJI        229\n",
       "1      KJI to KJU        229"
      ]
     },
     "execution_count": 63,
     "metadata": {},
     "output_type": "execute_result"
    }
   ],
   "source": [
    "trans[[\"Succession_Five\",\"OrgName_2\"]].groupby(\"Succession_Five\",as_index=False).count()"
   ]
  },
  {
   "cell_type": "markdown",
   "id": "f9f3eacc",
   "metadata": {},
   "source": [
    "### double-check OrgRank"
   ]
  },
  {
   "cell_type": "code",
   "execution_count": 64,
   "id": "232d69ed",
   "metadata": {},
   "outputs": [],
   "source": [
    "# select_cols = [\"InstitutionType_1\",\"PrimaryInstitution_1\",\"OrgName_1\",\"OrgRank_1\"]\n",
    "select_cols = [\"InstitutionType_2\",\"PrimaryInstitution_2\",\"OrgName_2\",\"OrgRank_2\"]"
   ]
  },
  {
   "cell_type": "code",
   "execution_count": 65,
   "id": "2d3caab8",
   "metadata": {},
   "outputs": [],
   "source": [
    "# pd.set_option('display.max_rows', None)\n",
    "# trans[select_cols]"
   ]
  },
  {
   "cell_type": "markdown",
   "id": "4314ac13",
   "metadata": {},
   "source": [
    "### 12. Restrict to Top 2 OrgRanks (OrgRank = {0,1})"
   ]
  },
  {
   "cell_type": "code",
   "execution_count": 66,
   "id": "e612081e",
   "metadata": {},
   "outputs": [
    {
     "data": {
      "text/plain": [
       "Index(['LeaderID', 'CareerString_1', 'CareerDateString_2022_1',\n",
       "       'CareerStartYear_1', 'CareerStartMonth_1', 'CareerStartDate_1',\n",
       "       'CareerSubstring_1', 'InstitutionType_1', 'PrimaryInstitution_1',\n",
       "       'OrgName_1', 'Local_1', 'Position_1', 'IsElected_1', 'OrgRank_1',\n",
       "       'PositionRank_1', 'CareerString_2', 'CareerDateString_2022_2',\n",
       "       'CareerStartYear_2', 'CareerStartMonth_2', 'CareerStartDate_2',\n",
       "       'CareerSubstring_2', 'InstitutionType_2', 'PrimaryInstitution_2',\n",
       "       'OrgName_2', 'Local_2', 'Position_2', 'IsElected_2', 'OrgRank_2',\n",
       "       'PositionRank_2', 'OrgAdvance', 'PositionAdvance', 'PISame', 'OrgSame',\n",
       "       'OrgRankChange', 'PositionRankChange', 'Succession_Broad',\n",
       "       'Succession_Narrow', 'OrgAdvanceYes', 'PositionAdvanceYes',\n",
       "       'InstitutionCategory_1', 'InstitutionCategory_2',\n",
       "       'InstitutionCategorySame', 'Succession_Five'],\n",
       "      dtype='object')"
      ]
     },
     "execution_count": 66,
     "metadata": {},
     "output_type": "execute_result"
    }
   ],
   "source": [
    "trans.columns"
   ]
  },
  {
   "cell_type": "code",
   "execution_count": 67,
   "id": "f48464b2",
   "metadata": {},
   "outputs": [],
   "source": [
    "### reset trans\n",
    "# trans_orig = trans\n",
    "# trans = trans_orig"
   ]
  },
  {
   "cell_type": "code",
   "execution_count": 68,
   "id": "f05727c9",
   "metadata": {},
   "outputs": [
    {
     "data": {
      "text/plain": [
       "0       True\n",
       "1       True\n",
       "2       True\n",
       "3       True\n",
       "4       True\n",
       "        ... \n",
       "4300    True\n",
       "4301    True\n",
       "4302    True\n",
       "4303    True\n",
       "4304    True\n",
       "Name: OrgRank_1, Length: 4222, dtype: bool"
      ]
     },
     "execution_count": 68,
     "metadata": {},
     "output_type": "execute_result"
    }
   ],
   "source": [
    "trans[\"OrgRank_1\"].astype(int).isin([0,1])"
   ]
  },
  {
   "cell_type": "code",
   "execution_count": 69,
   "id": "9059a7b9",
   "metadata": {},
   "outputs": [
    {
     "data": {
      "text/plain": [
       "(4222, 43)"
      ]
     },
     "execution_count": 69,
     "metadata": {},
     "output_type": "execute_result"
    }
   ],
   "source": [
    "trans.shape"
   ]
  },
  {
   "cell_type": "code",
   "execution_count": 70,
   "id": "c986d063",
   "metadata": {},
   "outputs": [],
   "source": [
    "# Top 1 OrgRank\n",
    "trans2 = trans[(trans[\"OrgRank_1\"].astype(int).isin([0,1])) & (trans[\"OrgRank_2\"].astype(int).isin([0,1]))]"
   ]
  },
  {
   "cell_type": "code",
   "execution_count": 71,
   "id": "9b044fc6",
   "metadata": {},
   "outputs": [
    {
     "data": {
      "text/plain": [
       "(2190, 43)"
      ]
     },
     "execution_count": 71,
     "metadata": {},
     "output_type": "execute_result"
    }
   ],
   "source": [
    "trans2.shape"
   ]
  },
  {
   "cell_type": "markdown",
   "id": "e6caeaeb",
   "metadata": {},
   "source": [
    "### double-check OrgRank"
   ]
  },
  {
   "cell_type": "code",
   "execution_count": 72,
   "id": "97646b5f",
   "metadata": {},
   "outputs": [],
   "source": [
    "select_cols = [\"InstitutionType_1\",\"PrimaryInstitution_1\",\"OrgName_1\",\"OrgRank_1\"]\n",
    "# select_cols = [\"InstitutionType_2\",\"PrimaryInstitution_2\",\"OrgName_2\",\"OrgRank_2\"]"
   ]
  },
  {
   "cell_type": "code",
   "execution_count": 73,
   "id": "8988b7f3",
   "metadata": {},
   "outputs": [],
   "source": [
    "# pd.set_option('display.max_rows', None)\n",
    "# trans2[select_cols]"
   ]
  },
  {
   "cell_type": "code",
   "execution_count": 74,
   "id": "856f4b14",
   "metadata": {},
   "outputs": [
    {
     "data": {
      "text/html": [
       "<div>\n",
       "<style scoped>\n",
       "    .dataframe tbody tr th:only-of-type {\n",
       "        vertical-align: middle;\n",
       "    }\n",
       "\n",
       "    .dataframe tbody tr th {\n",
       "        vertical-align: top;\n",
       "    }\n",
       "\n",
       "    .dataframe thead th {\n",
       "        text-align: right;\n",
       "    }\n",
       "</style>\n",
       "<table border=\"1\" class=\"dataframe\">\n",
       "  <thead>\n",
       "    <tr style=\"text-align: right;\">\n",
       "      <th></th>\n",
       "      <th>InstitutionType_1</th>\n",
       "      <th>PrimaryInstitution_1</th>\n",
       "      <th>OrgName_1</th>\n",
       "      <th>OrgRank_1</th>\n",
       "    </tr>\n",
       "  </thead>\n",
       "  <tbody>\n",
       "  </tbody>\n",
       "</table>\n",
       "</div>"
      ],
      "text/plain": [
       "Empty DataFrame\n",
       "Columns: [InstitutionType_1, PrimaryInstitution_1, OrgName_1, OrgRank_1]\n",
       "Index: []"
      ]
     },
     "execution_count": 74,
     "metadata": {},
     "output_type": "execute_result"
    }
   ],
   "source": [
    "# OrgName NA but OrgRank > 0\n",
    "trans2.loc[(trans2[\"OrgName_1\"].isna()) & (trans2[\"OrgRank_1\"].astype(int)>0),select_cols]"
   ]
  },
  {
   "cell_type": "code",
   "execution_count": 75,
   "id": "2066023d",
   "metadata": {},
   "outputs": [
    {
     "data": {
      "text/html": [
       "<div>\n",
       "<style scoped>\n",
       "    .dataframe tbody tr th:only-of-type {\n",
       "        vertical-align: middle;\n",
       "    }\n",
       "\n",
       "    .dataframe tbody tr th {\n",
       "        vertical-align: top;\n",
       "    }\n",
       "\n",
       "    .dataframe thead th {\n",
       "        text-align: right;\n",
       "    }\n",
       "</style>\n",
       "<table border=\"1\" class=\"dataframe\">\n",
       "  <thead>\n",
       "    <tr style=\"text-align: right;\">\n",
       "      <th></th>\n",
       "      <th>InstitutionType_1</th>\n",
       "      <th>PrimaryInstitution_1</th>\n",
       "      <th>OrgName_1</th>\n",
       "      <th>OrgRank_1</th>\n",
       "    </tr>\n",
       "  </thead>\n",
       "  <tbody>\n",
       "  </tbody>\n",
       "</table>\n",
       "</div>"
      ],
      "text/plain": [
       "Empty DataFrame\n",
       "Columns: [InstitutionType_1, PrimaryInstitution_1, OrgName_1, OrgRank_1]\n",
       "Index: []"
      ]
     },
     "execution_count": 75,
     "metadata": {},
     "output_type": "execute_result"
    }
   ],
   "source": [
    "# OrgName not NA but OrgRank == 0\n",
    "trans2.loc[(~trans2[\"OrgName_1\"].isna()) & (trans2[\"OrgRank_1\"].astype(int)==0),select_cols]"
   ]
  },
  {
   "cell_type": "code",
   "execution_count": 76,
   "id": "0cfc7e9e",
   "metadata": {},
   "outputs": [
    {
     "data": {
      "text/html": [
       "<div>\n",
       "<style scoped>\n",
       "    .dataframe tbody tr th:only-of-type {\n",
       "        vertical-align: middle;\n",
       "    }\n",
       "\n",
       "    .dataframe tbody tr th {\n",
       "        vertical-align: top;\n",
       "    }\n",
       "\n",
       "    .dataframe thead th {\n",
       "        text-align: right;\n",
       "    }\n",
       "</style>\n",
       "<table border=\"1\" class=\"dataframe\">\n",
       "  <thead>\n",
       "    <tr style=\"text-align: right;\">\n",
       "      <th></th>\n",
       "      <th>InstitutionType_1</th>\n",
       "      <th>PrimaryInstitution_1</th>\n",
       "      <th>OrgName_1</th>\n",
       "      <th>OrgRank_1</th>\n",
       "    </tr>\n",
       "  </thead>\n",
       "  <tbody>\n",
       "  </tbody>\n",
       "</table>\n",
       "</div>"
      ],
      "text/plain": [
       "Empty DataFrame\n",
       "Columns: [InstitutionType_1, PrimaryInstitution_1, OrgName_1, OrgRank_1]\n",
       "Index: []"
      ]
     },
     "execution_count": 76,
     "metadata": {},
     "output_type": "execute_result"
    }
   ],
   "source": [
    "# OrgName contains _ but OrgRank < 2\n",
    "trans2.loc[(trans2[\"OrgName_1\"].str.contains(\"_\")) & (trans2[\"OrgRank_1\"].astype(int)<2),select_cols]"
   ]
  },
  {
   "cell_type": "code",
   "execution_count": 77,
   "id": "50fb522f",
   "metadata": {},
   "outputs": [],
   "source": [
    "trans = trans2"
   ]
  },
  {
   "cell_type": "markdown",
   "id": "59d8c7d3",
   "metadata": {},
   "source": [
    "# Statistics"
   ]
  },
  {
   "cell_type": "markdown",
   "id": "dbffbf00",
   "metadata": {},
   "source": [
    "### 1. OrgRank increase - percent by year"
   ]
  },
  {
   "cell_type": "code",
   "execution_count": 78,
   "id": "5984c9c3",
   "metadata": {},
   "outputs": [],
   "source": [
    "stat1_columns = [\"CareerStartYear_2\",\"OrgAdvanceYes\"]\n",
    "stat1_groupby_columns = [\"CareerStartYear_2\"]\n",
    "stat1_label_columns = [\"Year\",\"Total Transitions\",\"Total Advancements of OrgRank\"]"
   ]
  },
  {
   "cell_type": "code",
   "execution_count": 79,
   "id": "99912b0d",
   "metadata": {},
   "outputs": [
    {
     "data": {
      "text/html": [
       "<div>\n",
       "<style scoped>\n",
       "    .dataframe tbody tr th:only-of-type {\n",
       "        vertical-align: middle;\n",
       "    }\n",
       "\n",
       "    .dataframe tbody tr th {\n",
       "        vertical-align: top;\n",
       "    }\n",
       "\n",
       "    .dataframe thead th {\n",
       "        text-align: right;\n",
       "    }\n",
       "</style>\n",
       "<table border=\"1\" class=\"dataframe\">\n",
       "  <thead>\n",
       "    <tr style=\"text-align: right;\">\n",
       "      <th></th>\n",
       "      <th>Year</th>\n",
       "      <th>Total Transitions</th>\n",
       "      <th>Total Advancements of OrgRank</th>\n",
       "      <th>Percentage Advancements of OrgRank</th>\n",
       "    </tr>\n",
       "  </thead>\n",
       "  <tbody>\n",
       "    <tr>\n",
       "      <th>0</th>\n",
       "      <td>1946</td>\n",
       "      <td>1</td>\n",
       "      <td>True</td>\n",
       "      <td>100.00</td>\n",
       "    </tr>\n",
       "    <tr>\n",
       "      <th>1</th>\n",
       "      <td>1947</td>\n",
       "      <td>1</td>\n",
       "      <td>True</td>\n",
       "      <td>100.00</td>\n",
       "    </tr>\n",
       "    <tr>\n",
       "      <th>2</th>\n",
       "      <td>1948</td>\n",
       "      <td>1</td>\n",
       "      <td>True</td>\n",
       "      <td>100.00</td>\n",
       "    </tr>\n",
       "    <tr>\n",
       "      <th>3</th>\n",
       "      <td>1950</td>\n",
       "      <td>2</td>\n",
       "      <td>2</td>\n",
       "      <td>100.00</td>\n",
       "    </tr>\n",
       "    <tr>\n",
       "      <th>4</th>\n",
       "      <td>1951</td>\n",
       "      <td>1</td>\n",
       "      <td>False</td>\n",
       "      <td>0.00</td>\n",
       "    </tr>\n",
       "    <tr>\n",
       "      <th>...</th>\n",
       "      <td>...</td>\n",
       "      <td>...</td>\n",
       "      <td>...</td>\n",
       "      <td>...</td>\n",
       "    </tr>\n",
       "    <tr>\n",
       "      <th>67</th>\n",
       "      <td>2017</td>\n",
       "      <td>25</td>\n",
       "      <td>21</td>\n",
       "      <td>84.00</td>\n",
       "    </tr>\n",
       "    <tr>\n",
       "      <th>68</th>\n",
       "      <td>2018</td>\n",
       "      <td>18</td>\n",
       "      <td>13</td>\n",
       "      <td>72.22</td>\n",
       "    </tr>\n",
       "    <tr>\n",
       "      <th>69</th>\n",
       "      <td>2019</td>\n",
       "      <td>77</td>\n",
       "      <td>48</td>\n",
       "      <td>62.34</td>\n",
       "    </tr>\n",
       "    <tr>\n",
       "      <th>70</th>\n",
       "      <td>2020</td>\n",
       "      <td>9</td>\n",
       "      <td>6</td>\n",
       "      <td>66.67</td>\n",
       "    </tr>\n",
       "    <tr>\n",
       "      <th>71</th>\n",
       "      <td>2021</td>\n",
       "      <td>90</td>\n",
       "      <td>48</td>\n",
       "      <td>53.33</td>\n",
       "    </tr>\n",
       "  </tbody>\n",
       "</table>\n",
       "<p>72 rows × 4 columns</p>\n",
       "</div>"
      ],
      "text/plain": [
       "    Year  Total Transitions Total Advancements of OrgRank  \\\n",
       "0   1946                  1                          True   \n",
       "1   1947                  1                          True   \n",
       "2   1948                  1                          True   \n",
       "3   1950                  2                             2   \n",
       "4   1951                  1                         False   \n",
       "..   ...                ...                           ...   \n",
       "67  2017                 25                            21   \n",
       "68  2018                 18                            13   \n",
       "69  2019                 77                            48   \n",
       "70  2020                  9                             6   \n",
       "71  2021                 90                            48   \n",
       "\n",
       "    Percentage Advancements of OrgRank  \n",
       "0                               100.00  \n",
       "1                               100.00  \n",
       "2                               100.00  \n",
       "3                               100.00  \n",
       "4                                 0.00  \n",
       "..                                 ...  \n",
       "67                               84.00  \n",
       "68                               72.22  \n",
       "69                               62.34  \n",
       "70                               66.67  \n",
       "71                               53.33  \n",
       "\n",
       "[72 rows x 4 columns]"
      ]
     },
     "execution_count": 79,
     "metadata": {},
     "output_type": "execute_result"
    }
   ],
   "source": [
    "stat1 = trans[stat1_columns].groupby(stat1_groupby_columns,as_index=False)[\"OrgAdvanceYes\"].agg({\"Total Transitions\":\"count\",\"Total Advancements of OrgRank\":\"sum\"})\n",
    "stat1.columns = stat1_label_columns\n",
    "stat1[\"Percentage Advancements of OrgRank\"] = stat1.apply(lambda x: round(x[\"Total Advancements of OrgRank\"] / x[\"Total Transitions\"] * 100,2) if x[\"Total Transitions\"] > 0 else np.nan,axis=1)\n",
    "stat1"
   ]
  },
  {
   "cell_type": "code",
   "execution_count": 80,
   "id": "5af0f1da",
   "metadata": {},
   "outputs": [],
   "source": [
    "stat1_filename = \"orgrank_within_between.xlsx\"\n",
    "# stat1.to_excel(path_analysis + study0_path + stat2_filename,index=False)"
   ]
  },
  {
   "cell_type": "markdown",
   "id": "2bc49c4d",
   "metadata": {},
   "source": [
    "### 2. OrgRank increase - percent by year, PISame = True"
   ]
  },
  {
   "cell_type": "code",
   "execution_count": 81,
   "id": "9877f7c9",
   "metadata": {},
   "outputs": [
    {
     "data": {
      "text/plain": [
       "Index(['LeaderID', 'CareerString_1', 'CareerDateString_2022_1',\n",
       "       'CareerStartYear_1', 'CareerStartMonth_1', 'CareerStartDate_1',\n",
       "       'CareerSubstring_1', 'InstitutionType_1', 'PrimaryInstitution_1',\n",
       "       'OrgName_1', 'Local_1', 'Position_1', 'IsElected_1', 'OrgRank_1',\n",
       "       'PositionRank_1', 'CareerString_2', 'CareerDateString_2022_2',\n",
       "       'CareerStartYear_2', 'CareerStartMonth_2', 'CareerStartDate_2',\n",
       "       'CareerSubstring_2', 'InstitutionType_2', 'PrimaryInstitution_2',\n",
       "       'OrgName_2', 'Local_2', 'Position_2', 'IsElected_2', 'OrgRank_2',\n",
       "       'PositionRank_2', 'OrgAdvance', 'PositionAdvance', 'PISame', 'OrgSame',\n",
       "       'OrgRankChange', 'PositionRankChange', 'Succession_Broad',\n",
       "       'Succession_Narrow', 'OrgAdvanceYes', 'PositionAdvanceYes',\n",
       "       'InstitutionCategory_1', 'InstitutionCategory_2',\n",
       "       'InstitutionCategorySame', 'Succession_Five'],\n",
       "      dtype='object')"
      ]
     },
     "execution_count": 81,
     "metadata": {},
     "output_type": "execute_result"
    }
   ],
   "source": [
    "trans.columns"
   ]
  },
  {
   "cell_type": "code",
   "execution_count": 82,
   "id": "9a8bd603",
   "metadata": {},
   "outputs": [],
   "source": [
    "stat2_columns = [\"CareerStartYear_2\",\"OrgAdvanceYes\"]\n",
    "stat2_condition = trans[\"PISame\"]==True\n",
    "stat2_groupby_columns = [\"CareerStartYear_2\"]\n",
    "stat2_label_columns = [\"Year\",\"Total Transitions\",\"Total Advancements of OrgRank\"]"
   ]
  },
  {
   "cell_type": "code",
   "execution_count": 83,
   "id": "2a34be7c",
   "metadata": {},
   "outputs": [
    {
     "data": {
      "text/html": [
       "<div>\n",
       "<style scoped>\n",
       "    .dataframe tbody tr th:only-of-type {\n",
       "        vertical-align: middle;\n",
       "    }\n",
       "\n",
       "    .dataframe tbody tr th {\n",
       "        vertical-align: top;\n",
       "    }\n",
       "\n",
       "    .dataframe thead th {\n",
       "        text-align: right;\n",
       "    }\n",
       "</style>\n",
       "<table border=\"1\" class=\"dataframe\">\n",
       "  <thead>\n",
       "    <tr style=\"text-align: right;\">\n",
       "      <th></th>\n",
       "      <th>Year</th>\n",
       "      <th>Total Transitions</th>\n",
       "      <th>Total Advancements of OrgRank</th>\n",
       "      <th>Percentage Advancements of OrgRank</th>\n",
       "    </tr>\n",
       "  </thead>\n",
       "  <tbody>\n",
       "    <tr>\n",
       "      <th>0</th>\n",
       "      <td>1951</td>\n",
       "      <td>1</td>\n",
       "      <td>False</td>\n",
       "      <td>0.00</td>\n",
       "    </tr>\n",
       "    <tr>\n",
       "      <th>1</th>\n",
       "      <td>1956</td>\n",
       "      <td>1</td>\n",
       "      <td>False</td>\n",
       "      <td>0.00</td>\n",
       "    </tr>\n",
       "    <tr>\n",
       "      <th>2</th>\n",
       "      <td>1959</td>\n",
       "      <td>2</td>\n",
       "      <td>0</td>\n",
       "      <td>0.00</td>\n",
       "    </tr>\n",
       "    <tr>\n",
       "      <th>3</th>\n",
       "      <td>1960</td>\n",
       "      <td>1</td>\n",
       "      <td>False</td>\n",
       "      <td>0.00</td>\n",
       "    </tr>\n",
       "    <tr>\n",
       "      <th>4</th>\n",
       "      <td>1961</td>\n",
       "      <td>2</td>\n",
       "      <td>0</td>\n",
       "      <td>0.00</td>\n",
       "    </tr>\n",
       "    <tr>\n",
       "      <th>5</th>\n",
       "      <td>1962</td>\n",
       "      <td>1</td>\n",
       "      <td>False</td>\n",
       "      <td>0.00</td>\n",
       "    </tr>\n",
       "    <tr>\n",
       "      <th>6</th>\n",
       "      <td>1965</td>\n",
       "      <td>3</td>\n",
       "      <td>0</td>\n",
       "      <td>0.00</td>\n",
       "    </tr>\n",
       "    <tr>\n",
       "      <th>7</th>\n",
       "      <td>1966</td>\n",
       "      <td>2</td>\n",
       "      <td>1</td>\n",
       "      <td>50.00</td>\n",
       "    </tr>\n",
       "    <tr>\n",
       "      <th>8</th>\n",
       "      <td>1967</td>\n",
       "      <td>2</td>\n",
       "      <td>1</td>\n",
       "      <td>50.00</td>\n",
       "    </tr>\n",
       "    <tr>\n",
       "      <th>9</th>\n",
       "      <td>1970</td>\n",
       "      <td>9</td>\n",
       "      <td>1</td>\n",
       "      <td>11.11</td>\n",
       "    </tr>\n",
       "    <tr>\n",
       "      <th>10</th>\n",
       "      <td>1971</td>\n",
       "      <td>1</td>\n",
       "      <td>False</td>\n",
       "      <td>0.00</td>\n",
       "    </tr>\n",
       "    <tr>\n",
       "      <th>11</th>\n",
       "      <td>1972</td>\n",
       "      <td>1</td>\n",
       "      <td>False</td>\n",
       "      <td>0.00</td>\n",
       "    </tr>\n",
       "    <tr>\n",
       "      <th>12</th>\n",
       "      <td>1974</td>\n",
       "      <td>1</td>\n",
       "      <td>False</td>\n",
       "      <td>0.00</td>\n",
       "    </tr>\n",
       "    <tr>\n",
       "      <th>13</th>\n",
       "      <td>1976</td>\n",
       "      <td>6</td>\n",
       "      <td>2</td>\n",
       "      <td>33.33</td>\n",
       "    </tr>\n",
       "    <tr>\n",
       "      <th>14</th>\n",
       "      <td>1977</td>\n",
       "      <td>8</td>\n",
       "      <td>1</td>\n",
       "      <td>12.50</td>\n",
       "    </tr>\n",
       "    <tr>\n",
       "      <th>15</th>\n",
       "      <td>1978</td>\n",
       "      <td>5</td>\n",
       "      <td>1</td>\n",
       "      <td>20.00</td>\n",
       "    </tr>\n",
       "    <tr>\n",
       "      <th>16</th>\n",
       "      <td>1979</td>\n",
       "      <td>4</td>\n",
       "      <td>1</td>\n",
       "      <td>25.00</td>\n",
       "    </tr>\n",
       "    <tr>\n",
       "      <th>17</th>\n",
       "      <td>1980</td>\n",
       "      <td>8</td>\n",
       "      <td>0</td>\n",
       "      <td>0.00</td>\n",
       "    </tr>\n",
       "    <tr>\n",
       "      <th>18</th>\n",
       "      <td>1981</td>\n",
       "      <td>3</td>\n",
       "      <td>0</td>\n",
       "      <td>0.00</td>\n",
       "    </tr>\n",
       "    <tr>\n",
       "      <th>19</th>\n",
       "      <td>1982</td>\n",
       "      <td>5</td>\n",
       "      <td>0</td>\n",
       "      <td>0.00</td>\n",
       "    </tr>\n",
       "    <tr>\n",
       "      <th>20</th>\n",
       "      <td>1983</td>\n",
       "      <td>1</td>\n",
       "      <td>False</td>\n",
       "      <td>0.00</td>\n",
       "    </tr>\n",
       "    <tr>\n",
       "      <th>21</th>\n",
       "      <td>1984</td>\n",
       "      <td>6</td>\n",
       "      <td>0</td>\n",
       "      <td>0.00</td>\n",
       "    </tr>\n",
       "    <tr>\n",
       "      <th>22</th>\n",
       "      <td>1985</td>\n",
       "      <td>6</td>\n",
       "      <td>0</td>\n",
       "      <td>0.00</td>\n",
       "    </tr>\n",
       "    <tr>\n",
       "      <th>23</th>\n",
       "      <td>1986</td>\n",
       "      <td>12</td>\n",
       "      <td>2</td>\n",
       "      <td>16.67</td>\n",
       "    </tr>\n",
       "    <tr>\n",
       "      <th>24</th>\n",
       "      <td>1988</td>\n",
       "      <td>9</td>\n",
       "      <td>0</td>\n",
       "      <td>0.00</td>\n",
       "    </tr>\n",
       "    <tr>\n",
       "      <th>25</th>\n",
       "      <td>1989</td>\n",
       "      <td>4</td>\n",
       "      <td>0</td>\n",
       "      <td>0.00</td>\n",
       "    </tr>\n",
       "    <tr>\n",
       "      <th>26</th>\n",
       "      <td>1990</td>\n",
       "      <td>18</td>\n",
       "      <td>2</td>\n",
       "      <td>11.11</td>\n",
       "    </tr>\n",
       "    <tr>\n",
       "      <th>27</th>\n",
       "      <td>1991</td>\n",
       "      <td>7</td>\n",
       "      <td>0</td>\n",
       "      <td>0.00</td>\n",
       "    </tr>\n",
       "    <tr>\n",
       "      <th>28</th>\n",
       "      <td>1992</td>\n",
       "      <td>12</td>\n",
       "      <td>1</td>\n",
       "      <td>8.33</td>\n",
       "    </tr>\n",
       "    <tr>\n",
       "      <th>29</th>\n",
       "      <td>1993</td>\n",
       "      <td>4</td>\n",
       "      <td>0</td>\n",
       "      <td>0.00</td>\n",
       "    </tr>\n",
       "    <tr>\n",
       "      <th>30</th>\n",
       "      <td>1994</td>\n",
       "      <td>3</td>\n",
       "      <td>2</td>\n",
       "      <td>66.67</td>\n",
       "    </tr>\n",
       "    <tr>\n",
       "      <th>31</th>\n",
       "      <td>1995</td>\n",
       "      <td>3</td>\n",
       "      <td>0</td>\n",
       "      <td>0.00</td>\n",
       "    </tr>\n",
       "    <tr>\n",
       "      <th>32</th>\n",
       "      <td>1996</td>\n",
       "      <td>3</td>\n",
       "      <td>0</td>\n",
       "      <td>0.00</td>\n",
       "    </tr>\n",
       "    <tr>\n",
       "      <th>33</th>\n",
       "      <td>1997</td>\n",
       "      <td>5</td>\n",
       "      <td>0</td>\n",
       "      <td>0.00</td>\n",
       "    </tr>\n",
       "    <tr>\n",
       "      <th>34</th>\n",
       "      <td>1998</td>\n",
       "      <td>10</td>\n",
       "      <td>0</td>\n",
       "      <td>0.00</td>\n",
       "    </tr>\n",
       "    <tr>\n",
       "      <th>35</th>\n",
       "      <td>1999</td>\n",
       "      <td>5</td>\n",
       "      <td>0</td>\n",
       "      <td>0.00</td>\n",
       "    </tr>\n",
       "    <tr>\n",
       "      <th>36</th>\n",
       "      <td>2000</td>\n",
       "      <td>7</td>\n",
       "      <td>0</td>\n",
       "      <td>0.00</td>\n",
       "    </tr>\n",
       "    <tr>\n",
       "      <th>37</th>\n",
       "      <td>2001</td>\n",
       "      <td>2</td>\n",
       "      <td>0</td>\n",
       "      <td>0.00</td>\n",
       "    </tr>\n",
       "    <tr>\n",
       "      <th>38</th>\n",
       "      <td>2002</td>\n",
       "      <td>6</td>\n",
       "      <td>0</td>\n",
       "      <td>0.00</td>\n",
       "    </tr>\n",
       "    <tr>\n",
       "      <th>39</th>\n",
       "      <td>2003</td>\n",
       "      <td>28</td>\n",
       "      <td>3</td>\n",
       "      <td>10.71</td>\n",
       "    </tr>\n",
       "    <tr>\n",
       "      <th>40</th>\n",
       "      <td>2004</td>\n",
       "      <td>4</td>\n",
       "      <td>1</td>\n",
       "      <td>25.00</td>\n",
       "    </tr>\n",
       "    <tr>\n",
       "      <th>41</th>\n",
       "      <td>2005</td>\n",
       "      <td>6</td>\n",
       "      <td>1</td>\n",
       "      <td>16.67</td>\n",
       "    </tr>\n",
       "    <tr>\n",
       "      <th>42</th>\n",
       "      <td>2006</td>\n",
       "      <td>10</td>\n",
       "      <td>0</td>\n",
       "      <td>0.00</td>\n",
       "    </tr>\n",
       "    <tr>\n",
       "      <th>43</th>\n",
       "      <td>2007</td>\n",
       "      <td>7</td>\n",
       "      <td>1</td>\n",
       "      <td>14.29</td>\n",
       "    </tr>\n",
       "    <tr>\n",
       "      <th>44</th>\n",
       "      <td>2008</td>\n",
       "      <td>7</td>\n",
       "      <td>0</td>\n",
       "      <td>0.00</td>\n",
       "    </tr>\n",
       "    <tr>\n",
       "      <th>45</th>\n",
       "      <td>2009</td>\n",
       "      <td>46</td>\n",
       "      <td>3</td>\n",
       "      <td>6.52</td>\n",
       "    </tr>\n",
       "    <tr>\n",
       "      <th>46</th>\n",
       "      <td>2010</td>\n",
       "      <td>14</td>\n",
       "      <td>5</td>\n",
       "      <td>35.71</td>\n",
       "    </tr>\n",
       "    <tr>\n",
       "      <th>47</th>\n",
       "      <td>2011</td>\n",
       "      <td>6</td>\n",
       "      <td>0</td>\n",
       "      <td>0.00</td>\n",
       "    </tr>\n",
       "    <tr>\n",
       "      <th>48</th>\n",
       "      <td>2012</td>\n",
       "      <td>11</td>\n",
       "      <td>2</td>\n",
       "      <td>18.18</td>\n",
       "    </tr>\n",
       "    <tr>\n",
       "      <th>49</th>\n",
       "      <td>2013</td>\n",
       "      <td>12</td>\n",
       "      <td>1</td>\n",
       "      <td>8.33</td>\n",
       "    </tr>\n",
       "    <tr>\n",
       "      <th>50</th>\n",
       "      <td>2014</td>\n",
       "      <td>19</td>\n",
       "      <td>5</td>\n",
       "      <td>26.32</td>\n",
       "    </tr>\n",
       "    <tr>\n",
       "      <th>51</th>\n",
       "      <td>2015</td>\n",
       "      <td>5</td>\n",
       "      <td>0</td>\n",
       "      <td>0.00</td>\n",
       "    </tr>\n",
       "    <tr>\n",
       "      <th>52</th>\n",
       "      <td>2016</td>\n",
       "      <td>48</td>\n",
       "      <td>2</td>\n",
       "      <td>4.17</td>\n",
       "    </tr>\n",
       "    <tr>\n",
       "      <th>53</th>\n",
       "      <td>2017</td>\n",
       "      <td>4</td>\n",
       "      <td>0</td>\n",
       "      <td>0.00</td>\n",
       "    </tr>\n",
       "    <tr>\n",
       "      <th>54</th>\n",
       "      <td>2018</td>\n",
       "      <td>5</td>\n",
       "      <td>0</td>\n",
       "      <td>0.00</td>\n",
       "    </tr>\n",
       "    <tr>\n",
       "      <th>55</th>\n",
       "      <td>2019</td>\n",
       "      <td>31</td>\n",
       "      <td>2</td>\n",
       "      <td>6.45</td>\n",
       "    </tr>\n",
       "    <tr>\n",
       "      <th>56</th>\n",
       "      <td>2020</td>\n",
       "      <td>5</td>\n",
       "      <td>2</td>\n",
       "      <td>40.00</td>\n",
       "    </tr>\n",
       "    <tr>\n",
       "      <th>57</th>\n",
       "      <td>2021</td>\n",
       "      <td>45</td>\n",
       "      <td>3</td>\n",
       "      <td>6.67</td>\n",
       "    </tr>\n",
       "  </tbody>\n",
       "</table>\n",
       "</div>"
      ],
      "text/plain": [
       "    Year  Total Transitions Total Advancements of OrgRank  \\\n",
       "0   1951                  1                         False   \n",
       "1   1956                  1                         False   \n",
       "2   1959                  2                             0   \n",
       "3   1960                  1                         False   \n",
       "4   1961                  2                             0   \n",
       "5   1962                  1                         False   \n",
       "6   1965                  3                             0   \n",
       "7   1966                  2                             1   \n",
       "8   1967                  2                             1   \n",
       "9   1970                  9                             1   \n",
       "10  1971                  1                         False   \n",
       "11  1972                  1                         False   \n",
       "12  1974                  1                         False   \n",
       "13  1976                  6                             2   \n",
       "14  1977                  8                             1   \n",
       "15  1978                  5                             1   \n",
       "16  1979                  4                             1   \n",
       "17  1980                  8                             0   \n",
       "18  1981                  3                             0   \n",
       "19  1982                  5                             0   \n",
       "20  1983                  1                         False   \n",
       "21  1984                  6                             0   \n",
       "22  1985                  6                             0   \n",
       "23  1986                 12                             2   \n",
       "24  1988                  9                             0   \n",
       "25  1989                  4                             0   \n",
       "26  1990                 18                             2   \n",
       "27  1991                  7                             0   \n",
       "28  1992                 12                             1   \n",
       "29  1993                  4                             0   \n",
       "30  1994                  3                             2   \n",
       "31  1995                  3                             0   \n",
       "32  1996                  3                             0   \n",
       "33  1997                  5                             0   \n",
       "34  1998                 10                             0   \n",
       "35  1999                  5                             0   \n",
       "36  2000                  7                             0   \n",
       "37  2001                  2                             0   \n",
       "38  2002                  6                             0   \n",
       "39  2003                 28                             3   \n",
       "40  2004                  4                             1   \n",
       "41  2005                  6                             1   \n",
       "42  2006                 10                             0   \n",
       "43  2007                  7                             1   \n",
       "44  2008                  7                             0   \n",
       "45  2009                 46                             3   \n",
       "46  2010                 14                             5   \n",
       "47  2011                  6                             0   \n",
       "48  2012                 11                             2   \n",
       "49  2013                 12                             1   \n",
       "50  2014                 19                             5   \n",
       "51  2015                  5                             0   \n",
       "52  2016                 48                             2   \n",
       "53  2017                  4                             0   \n",
       "54  2018                  5                             0   \n",
       "55  2019                 31                             2   \n",
       "56  2020                  5                             2   \n",
       "57  2021                 45                             3   \n",
       "\n",
       "    Percentage Advancements of OrgRank  \n",
       "0                                 0.00  \n",
       "1                                 0.00  \n",
       "2                                 0.00  \n",
       "3                                 0.00  \n",
       "4                                 0.00  \n",
       "5                                 0.00  \n",
       "6                                 0.00  \n",
       "7                                50.00  \n",
       "8                                50.00  \n",
       "9                                11.11  \n",
       "10                                0.00  \n",
       "11                                0.00  \n",
       "12                                0.00  \n",
       "13                               33.33  \n",
       "14                               12.50  \n",
       "15                               20.00  \n",
       "16                               25.00  \n",
       "17                                0.00  \n",
       "18                                0.00  \n",
       "19                                0.00  \n",
       "20                                0.00  \n",
       "21                                0.00  \n",
       "22                                0.00  \n",
       "23                               16.67  \n",
       "24                                0.00  \n",
       "25                                0.00  \n",
       "26                               11.11  \n",
       "27                                0.00  \n",
       "28                                8.33  \n",
       "29                                0.00  \n",
       "30                               66.67  \n",
       "31                                0.00  \n",
       "32                                0.00  \n",
       "33                                0.00  \n",
       "34                                0.00  \n",
       "35                                0.00  \n",
       "36                                0.00  \n",
       "37                                0.00  \n",
       "38                                0.00  \n",
       "39                               10.71  \n",
       "40                               25.00  \n",
       "41                               16.67  \n",
       "42                                0.00  \n",
       "43                               14.29  \n",
       "44                                0.00  \n",
       "45                                6.52  \n",
       "46                               35.71  \n",
       "47                                0.00  \n",
       "48                               18.18  \n",
       "49                                8.33  \n",
       "50                               26.32  \n",
       "51                                0.00  \n",
       "52                                4.17  \n",
       "53                                0.00  \n",
       "54                                0.00  \n",
       "55                                6.45  \n",
       "56                               40.00  \n",
       "57                                6.67  "
      ]
     },
     "execution_count": 83,
     "metadata": {},
     "output_type": "execute_result"
    }
   ],
   "source": [
    "stat2 = trans.loc[stat2_condition,stat2_columns].groupby(stat2_groupby_columns,as_index=False)[\"OrgAdvanceYes\"].agg({\"Total Transitions\":\"count\",\"Total Advancements of OrgRank\":\"sum\"})\n",
    "stat2.columns = stat2_label_columns\n",
    "stat2[\"Percentage Advancements of OrgRank\"] = stat2.apply(lambda x: round(x[\"Total Advancements of OrgRank\"] / x[\"Total Transitions\"] * 100,2) if x[\"Total Transitions\"] > 0 else np.nan,axis=1)\n",
    "stat2"
   ]
  },
  {
   "cell_type": "code",
   "execution_count": 84,
   "id": "0b3ef83e",
   "metadata": {},
   "outputs": [],
   "source": [
    "# pivot SameInstitution - "
   ]
  },
  {
   "cell_type": "code",
   "execution_count": 85,
   "id": "5514f472",
   "metadata": {},
   "outputs": [],
   "source": [
    "# stat2_filename = \"orgrank_within.xlsx\"\n",
    "# stat2.to_excel(path_analysis + study0_path + stat2_filename,index=False)"
   ]
  },
  {
   "cell_type": "code",
   "execution_count": null,
   "id": "1e6ea003",
   "metadata": {},
   "outputs": [],
   "source": []
  },
  {
   "cell_type": "markdown",
   "id": "6b0ded7c",
   "metadata": {},
   "source": [
    "### 3. OrgRank increase - percent by succesion period (broad)"
   ]
  },
  {
   "cell_type": "code",
   "execution_count": 86,
   "id": "0f789512",
   "metadata": {},
   "outputs": [
    {
     "data": {
      "text/plain": [
       "Index(['LeaderID', 'CareerString_1', 'CareerDateString_2022_1',\n",
       "       'CareerStartYear_1', 'CareerStartMonth_1', 'CareerStartDate_1',\n",
       "       'CareerSubstring_1', 'InstitutionType_1', 'PrimaryInstitution_1',\n",
       "       'OrgName_1', 'Local_1', 'Position_1', 'IsElected_1', 'OrgRank_1',\n",
       "       'PositionRank_1', 'CareerString_2', 'CareerDateString_2022_2',\n",
       "       'CareerStartYear_2', 'CareerStartMonth_2', 'CareerStartDate_2',\n",
       "       'CareerSubstring_2', 'InstitutionType_2', 'PrimaryInstitution_2',\n",
       "       'OrgName_2', 'Local_2', 'Position_2', 'IsElected_2', 'OrgRank_2',\n",
       "       'PositionRank_2', 'OrgAdvance', 'PositionAdvance', 'PISame', 'OrgSame',\n",
       "       'OrgRankChange', 'PositionRankChange', 'Succession_Broad',\n",
       "       'Succession_Narrow', 'OrgAdvanceYes', 'PositionAdvanceYes',\n",
       "       'InstitutionCategory_1', 'InstitutionCategory_2',\n",
       "       'InstitutionCategorySame', 'Succession_Five'],\n",
       "      dtype='object')"
      ]
     },
     "execution_count": 86,
     "metadata": {},
     "output_type": "execute_result"
    }
   ],
   "source": [
    "trans.columns"
   ]
  },
  {
   "cell_type": "code",
   "execution_count": 87,
   "id": "be4f6b77",
   "metadata": {},
   "outputs": [],
   "source": [
    "stat3_columns = [\"Succession_Broad\",\"OrgAdvanceYes\"]\n",
    "stat3_condition = trans[\"PISame\"]==True\n",
    "stat3_groupby_columns = [\"Succession_Broad\"]\n",
    "stat3_label_columns = [\"Succession (Broad)\",\"Total Transitions\",\"Total Advancements of OrgRank\"]"
   ]
  },
  {
   "cell_type": "code",
   "execution_count": 88,
   "id": "96bda271",
   "metadata": {},
   "outputs": [
    {
     "data": {
      "text/html": [
       "<div>\n",
       "<style scoped>\n",
       "    .dataframe tbody tr th:only-of-type {\n",
       "        vertical-align: middle;\n",
       "    }\n",
       "\n",
       "    .dataframe tbody tr th {\n",
       "        vertical-align: top;\n",
       "    }\n",
       "\n",
       "    .dataframe thead th {\n",
       "        text-align: right;\n",
       "    }\n",
       "</style>\n",
       "<table border=\"1\" class=\"dataframe\">\n",
       "  <thead>\n",
       "    <tr style=\"text-align: right;\">\n",
       "      <th></th>\n",
       "      <th>Succession (Broad)</th>\n",
       "      <th>Total Transitions</th>\n",
       "      <th>Total Advancements of OrgRank</th>\n",
       "      <th>Percentage Advancements of OrgRank</th>\n",
       "    </tr>\n",
       "  </thead>\n",
       "  <tbody>\n",
       "    <tr>\n",
       "      <th>0</th>\n",
       "      <td>KIS to KJI</td>\n",
       "      <td>119</td>\n",
       "      <td>10</td>\n",
       "      <td>8.40</td>\n",
       "    </tr>\n",
       "    <tr>\n",
       "      <th>1</th>\n",
       "      <td>KJI to KJU</td>\n",
       "      <td>134</td>\n",
       "      <td>14</td>\n",
       "      <td>10.45</td>\n",
       "    </tr>\n",
       "  </tbody>\n",
       "</table>\n",
       "</div>"
      ],
      "text/plain": [
       "  Succession (Broad)  Total Transitions Total Advancements of OrgRank  \\\n",
       "0         KIS to KJI                119                            10   \n",
       "1         KJI to KJU                134                            14   \n",
       "\n",
       "   Percentage Advancements of OrgRank  \n",
       "0                                8.40  \n",
       "1                               10.45  "
      ]
     },
     "execution_count": 88,
     "metadata": {},
     "output_type": "execute_result"
    }
   ],
   "source": [
    "stat3 = trans.loc[stat3_condition,stat3_columns].groupby(stat3_groupby_columns,as_index=False)[\"OrgAdvanceYes\"].agg({\"Total Transitions\":\"count\",\"Total Advancements of OrgRank\":\"sum\"})\n",
    "stat3.columns = stat3_label_columns\n",
    "stat3[\"Percentage Advancements of OrgRank\"] = stat3.apply(lambda x: round(x[\"Total Advancements of OrgRank\"] / x[\"Total Transitions\"] * 100,2) if x[\"Total Transitions\"] > 0 else np.nan,axis=1)\n",
    "stat3"
   ]
  },
  {
   "cell_type": "code",
   "execution_count": null,
   "id": "f5e8db89",
   "metadata": {},
   "outputs": [],
   "source": []
  },
  {
   "cell_type": "markdown",
   "id": "4224b7b9",
   "metadata": {},
   "source": [
    "### 4. Transitions by period and institution "
   ]
  },
  {
   "cell_type": "code",
   "execution_count": 89,
   "id": "94741eb2",
   "metadata": {},
   "outputs": [],
   "source": [
    "stat9_columns = [\"Succession_Broad\",\"OrgName_2\"]\n",
    "stat9_condition = trans[\"PISame\"]==True\n",
    "stat9_groupby_columns = [\"Succession_Broad\"]\n",
    "stat9_label_columns = [\"Succession (Broad)\",\"Total Transitions\",\"Total Advancements of OrgRank\"]"
   ]
  },
  {
   "cell_type": "code",
   "execution_count": 90,
   "id": "e7d7aa5e",
   "metadata": {},
   "outputs": [
    {
     "data": {
      "text/html": [
       "<div>\n",
       "<style scoped>\n",
       "    .dataframe tbody tr th:only-of-type {\n",
       "        vertical-align: middle;\n",
       "    }\n",
       "\n",
       "    .dataframe tbody tr th {\n",
       "        vertical-align: top;\n",
       "    }\n",
       "\n",
       "    .dataframe thead th {\n",
       "        text-align: right;\n",
       "    }\n",
       "</style>\n",
       "<table border=\"1\" class=\"dataframe\">\n",
       "  <thead>\n",
       "    <tr style=\"text-align: right;\">\n",
       "      <th></th>\n",
       "      <th>LeaderID</th>\n",
       "      <th>CareerString_1</th>\n",
       "      <th>CareerDateString_2022_1</th>\n",
       "      <th>CareerStartYear_1</th>\n",
       "      <th>CareerStartMonth_1</th>\n",
       "      <th>CareerStartDate_1</th>\n",
       "      <th>CareerSubstring_1</th>\n",
       "      <th>InstitutionType_1</th>\n",
       "      <th>PrimaryInstitution_1</th>\n",
       "      <th>OrgName_1</th>\n",
       "      <th>...</th>\n",
       "      <th>OrgRankChange</th>\n",
       "      <th>PositionRankChange</th>\n",
       "      <th>Succession_Broad</th>\n",
       "      <th>Succession_Narrow</th>\n",
       "      <th>OrgAdvanceYes</th>\n",
       "      <th>PositionAdvanceYes</th>\n",
       "      <th>InstitutionCategory_1</th>\n",
       "      <th>InstitutionCategory_2</th>\n",
       "      <th>InstitutionCategorySame</th>\n",
       "      <th>Succession_Five</th>\n",
       "    </tr>\n",
       "  </thead>\n",
       "  <tbody>\n",
       "    <tr>\n",
       "      <th>0</th>\n",
       "      <td>리원일</td>\n",
       "      <td>1997.11 노동행정부 부부장</td>\n",
       "      <td>NaN</td>\n",
       "      <td>1997</td>\n",
       "      <td>11</td>\n",
       "      <td>199711</td>\n",
       "      <td>NaN</td>\n",
       "      <td>정권기관</td>\n",
       "      <td>정무원</td>\n",
       "      <td>노동행정부</td>\n",
       "      <td>...</td>\n",
       "      <td>NaN</td>\n",
       "      <td>NaN</td>\n",
       "      <td>NaN</td>\n",
       "      <td>NaN</td>\n",
       "      <td>True</td>\n",
       "      <td>NaN</td>\n",
       "      <td>Government</td>\n",
       "      <td>Government</td>\n",
       "      <td>True</td>\n",
       "      <td>KIS to KJI</td>\n",
       "    </tr>\n",
       "    <tr>\n",
       "      <th>1</th>\n",
       "      <td>리원일</td>\n",
       "      <td>노동성 상 *후임 : 강영수</td>\n",
       "      <td>1997.11</td>\n",
       "      <td>1997</td>\n",
       "      <td>11</td>\n",
       "      <td>199711</td>\n",
       "      <td>NaN</td>\n",
       "      <td>정권기관</td>\n",
       "      <td>내각</td>\n",
       "      <td>노동성</td>\n",
       "      <td>...</td>\n",
       "      <td>same</td>\n",
       "      <td>same</td>\n",
       "      <td>NaN</td>\n",
       "      <td>NaN</td>\n",
       "      <td>False</td>\n",
       "      <td>False</td>\n",
       "      <td>Government</td>\n",
       "      <td>Government</td>\n",
       "      <td>True</td>\n",
       "      <td>KIS to KJI</td>\n",
       "    </tr>\n",
       "    <tr>\n",
       "      <th>2</th>\n",
       "      <td>리원일</td>\n",
       "      <td>1998. 9 노동상</td>\n",
       "      <td>NaN</td>\n",
       "      <td>1998</td>\n",
       "      <td>9</td>\n",
       "      <td>199809</td>\n",
       "      <td>NaN</td>\n",
       "      <td>정권기관</td>\n",
       "      <td>내각</td>\n",
       "      <td>노동성</td>\n",
       "      <td>...</td>\n",
       "      <td>NaN</td>\n",
       "      <td>NaN</td>\n",
       "      <td>NaN</td>\n",
       "      <td>NaN</td>\n",
       "      <td>NaN</td>\n",
       "      <td>NaN</td>\n",
       "      <td>Government</td>\n",
       "      <td>Social</td>\n",
       "      <td>False</td>\n",
       "      <td>KIS to KJI</td>\n",
       "    </tr>\n",
       "    <tr>\n",
       "      <th>3</th>\n",
       "      <td>리원일</td>\n",
       "      <td>북-이란 친선협회 위원장</td>\n",
       "      <td>1998.11</td>\n",
       "      <td>1998</td>\n",
       "      <td>11</td>\n",
       "      <td>199811</td>\n",
       "      <td>NaN</td>\n",
       "      <td>국제친선단체</td>\n",
       "      <td>북-이란 친선협회</td>\n",
       "      <td>NaN</td>\n",
       "      <td>...</td>\n",
       "      <td>NaN</td>\n",
       "      <td>NaN</td>\n",
       "      <td>NaN</td>\n",
       "      <td>NaN</td>\n",
       "      <td>True</td>\n",
       "      <td>NaN</td>\n",
       "      <td>Social</td>\n",
       "      <td>Government</td>\n",
       "      <td>False</td>\n",
       "      <td>KIS to KJI</td>\n",
       "    </tr>\n",
       "    <tr>\n",
       "      <th>4</th>\n",
       "      <td>리원일</td>\n",
       "      <td>북-이란 친선협회 위원장</td>\n",
       "      <td>1998.11</td>\n",
       "      <td>1998</td>\n",
       "      <td>11</td>\n",
       "      <td>199811</td>\n",
       "      <td>NaN</td>\n",
       "      <td>국제친선단체</td>\n",
       "      <td>북-이란 친선협회</td>\n",
       "      <td>NaN</td>\n",
       "      <td>...</td>\n",
       "      <td>same</td>\n",
       "      <td>same</td>\n",
       "      <td>NaN</td>\n",
       "      <td>NaN</td>\n",
       "      <td>False</td>\n",
       "      <td>True</td>\n",
       "      <td>Social</td>\n",
       "      <td>Social</td>\n",
       "      <td>True</td>\n",
       "      <td>KIS to KJI</td>\n",
       "    </tr>\n",
       "  </tbody>\n",
       "</table>\n",
       "<p>5 rows × 43 columns</p>\n",
       "</div>"
      ],
      "text/plain": [
       "  LeaderID     CareerString_1 CareerDateString_2022_1  CareerStartYear_1  \\\n",
       "0      리원일  1997.11 노동행정부 부부장                     NaN               1997   \n",
       "1      리원일    노동성 상 *후임 : 강영수                 1997.11               1997   \n",
       "2      리원일        1998. 9 노동상                     NaN               1998   \n",
       "3      리원일      북-이란 친선협회 위원장                 1998.11               1998   \n",
       "4      리원일      북-이란 친선협회 위원장                 1998.11               1998   \n",
       "\n",
       "  CareerStartMonth_1  CareerStartDate_1 CareerSubstring_1 InstitutionType_1  \\\n",
       "0                 11             199711               NaN              정권기관   \n",
       "1                 11             199711               NaN              정권기관   \n",
       "2                  9             199809               NaN              정권기관   \n",
       "3                 11             199811               NaN            국제친선단체   \n",
       "4                 11             199811               NaN            국제친선단체   \n",
       "\n",
       "  PrimaryInstitution_1 OrgName_1  ... OrgRankChange PositionRankChange  \\\n",
       "0                  정무원     노동행정부  ...           NaN                NaN   \n",
       "1                   내각       노동성  ...          same               same   \n",
       "2                   내각       노동성  ...           NaN                NaN   \n",
       "3            북-이란 친선협회       NaN  ...           NaN                NaN   \n",
       "4            북-이란 친선협회       NaN  ...          same               same   \n",
       "\n",
       "  Succession_Broad Succession_Narrow OrgAdvanceYes PositionAdvanceYes  \\\n",
       "0              NaN               NaN          True                NaN   \n",
       "1              NaN               NaN         False              False   \n",
       "2              NaN               NaN           NaN                NaN   \n",
       "3              NaN               NaN          True                NaN   \n",
       "4              NaN               NaN         False               True   \n",
       "\n",
       "  InstitutionCategory_1  InstitutionCategory_2 InstitutionCategorySame  \\\n",
       "0            Government             Government                    True   \n",
       "1            Government             Government                    True   \n",
       "2            Government                 Social                   False   \n",
       "3                Social             Government                   False   \n",
       "4                Social                 Social                    True   \n",
       "\n",
       "   Succession_Five  \n",
       "0       KIS to KJI  \n",
       "1       KIS to KJI  \n",
       "2       KIS to KJI  \n",
       "3       KIS to KJI  \n",
       "4       KIS to KJI  \n",
       "\n",
       "[5 rows x 43 columns]"
      ]
     },
     "execution_count": 90,
     "metadata": {},
     "output_type": "execute_result"
    }
   ],
   "source": [
    "trans.head()"
   ]
  },
  {
   "cell_type": "code",
   "execution_count": 91,
   "id": "3a159606",
   "metadata": {},
   "outputs": [],
   "source": [
    "# stat9 = trans.loc[stat9_condition,stat9_columns].groupby(stat9_groupby_columns,as_index=False)[\"OrgAdvanceYes\"].agg({\"Total Transitions\":\"count\",\"Total Advancements of OrgRank\":\"sum\"})\n",
    "# stat9 = trans.loc[stat9_condition,stat9_columns].groupby(stat9_groupby_columns,as_index=False)[\"OrgName_2\"].agg({\"Total Transitions\":\"count\",\"Total Advancements of OrgRank\":\"sum\"})\n"
   ]
  },
  {
   "cell_type": "code",
   "execution_count": null,
   "id": "7bfc9201",
   "metadata": {},
   "outputs": [],
   "source": []
  },
  {
   "cell_type": "markdown",
   "id": "49b57767",
   "metadata": {},
   "source": [
    "# Hypothesis 1a - Org Advancement, broad succession periods"
   ]
  },
  {
   "cell_type": "code",
   "execution_count": 92,
   "id": "e66857ec",
   "metadata": {},
   "outputs": [
    {
     "data": {
      "text/html": [
       "<div>\n",
       "<style scoped>\n",
       "    .dataframe tbody tr th:only-of-type {\n",
       "        vertical-align: middle;\n",
       "    }\n",
       "\n",
       "    .dataframe tbody tr th {\n",
       "        vertical-align: top;\n",
       "    }\n",
       "\n",
       "    .dataframe thead th {\n",
       "        text-align: right;\n",
       "    }\n",
       "</style>\n",
       "<table border=\"1\" class=\"dataframe\">\n",
       "  <thead>\n",
       "    <tr style=\"text-align: right;\">\n",
       "      <th></th>\n",
       "      <th>Succession_Broad</th>\n",
       "      <th>LeaderID</th>\n",
       "    </tr>\n",
       "  </thead>\n",
       "  <tbody>\n",
       "    <tr>\n",
       "      <th>0</th>\n",
       "      <td>KIS to KJI</td>\n",
       "      <td>119</td>\n",
       "    </tr>\n",
       "    <tr>\n",
       "      <th>1</th>\n",
       "      <td>KJI to KJU</td>\n",
       "      <td>134</td>\n",
       "    </tr>\n",
       "  </tbody>\n",
       "</table>\n",
       "</div>"
      ],
      "text/plain": [
       "  Succession_Broad  LeaderID\n",
       "0       KIS to KJI       119\n",
       "1       KJI to KJU       134"
      ]
     },
     "execution_count": 92,
     "metadata": {},
     "output_type": "execute_result"
    }
   ],
   "source": [
    "select_columns = [\"Succession_Broad\",\"LeaderID\"]\n",
    "select_rows = trans[\"PISame\"]==True\n",
    "group_columns = [\"Succession_Broad\"]\n",
    "trans.loc[select_rows,select_columns].groupby(group_columns,as_index=False).count()"
   ]
  },
  {
   "cell_type": "code",
   "execution_count": 93,
   "id": "d0a7dcf3",
   "metadata": {},
   "outputs": [],
   "source": [
    "stat4_rows = trans[\"PISame\"]==True\n",
    "stat4_columns = [\"Succession_Broad\",\"OrgAdvanceYes\"]\n",
    "stat4_groupby = [\"Succession_Broad\"]\n",
    "stat4_labels = [\"Succession Period\",\"Total Transitions\",\"Total Advancements\"]"
   ]
  },
  {
   "cell_type": "code",
   "execution_count": 94,
   "id": "f796c190",
   "metadata": {
    "scrolled": true
   },
   "outputs": [
    {
     "data": {
      "text/html": [
       "<div>\n",
       "<style scoped>\n",
       "    .dataframe tbody tr th:only-of-type {\n",
       "        vertical-align: middle;\n",
       "    }\n",
       "\n",
       "    .dataframe tbody tr th {\n",
       "        vertical-align: top;\n",
       "    }\n",
       "\n",
       "    .dataframe thead th {\n",
       "        text-align: right;\n",
       "    }\n",
       "</style>\n",
       "<table border=\"1\" class=\"dataframe\">\n",
       "  <thead>\n",
       "    <tr style=\"text-align: right;\">\n",
       "      <th></th>\n",
       "      <th>Succession_Broad</th>\n",
       "      <th>Total Transitions</th>\n",
       "      <th>Total Advancements</th>\n",
       "    </tr>\n",
       "  </thead>\n",
       "  <tbody>\n",
       "    <tr>\n",
       "      <th>0</th>\n",
       "      <td>KIS to KJI</td>\n",
       "      <td>119</td>\n",
       "      <td>10</td>\n",
       "    </tr>\n",
       "    <tr>\n",
       "      <th>1</th>\n",
       "      <td>KJI to KJU</td>\n",
       "      <td>134</td>\n",
       "      <td>14</td>\n",
       "    </tr>\n",
       "  </tbody>\n",
       "</table>\n",
       "</div>"
      ],
      "text/plain": [
       "  Succession_Broad  Total Transitions Total Advancements\n",
       "0       KIS to KJI                119                 10\n",
       "1       KJI to KJU                134                 14"
      ]
     },
     "execution_count": 94,
     "metadata": {},
     "output_type": "execute_result"
    }
   ],
   "source": [
    "stat4 = trans.loc[stat4_rows,stat4_columns].groupby(stat4_groupby,as_index=False)[\"OrgAdvanceYes\"].agg({\"Total Transitions\":\"count\",\"Total Advancements\":\"sum\"})\n",
    "stat4"
   ]
  },
  {
   "cell_type": "code",
   "execution_count": 95,
   "id": "aa415d19",
   "metadata": {
    "scrolled": true
   },
   "outputs": [
    {
     "data": {
      "text/html": [
       "<div>\n",
       "<style scoped>\n",
       "    .dataframe tbody tr th:only-of-type {\n",
       "        vertical-align: middle;\n",
       "    }\n",
       "\n",
       "    .dataframe tbody tr th {\n",
       "        vertical-align: top;\n",
       "    }\n",
       "\n",
       "    .dataframe thead th {\n",
       "        text-align: right;\n",
       "    }\n",
       "</style>\n",
       "<table border=\"1\" class=\"dataframe\">\n",
       "  <thead>\n",
       "    <tr style=\"text-align: right;\">\n",
       "      <th></th>\n",
       "      <th>Succession_Broad</th>\n",
       "      <th>Total Transitions</th>\n",
       "      <th>Total Advancements</th>\n",
       "      <th>Percentage Advancements of OrgRank</th>\n",
       "    </tr>\n",
       "  </thead>\n",
       "  <tbody>\n",
       "    <tr>\n",
       "      <th>0</th>\n",
       "      <td>KIS to KJI</td>\n",
       "      <td>119</td>\n",
       "      <td>10</td>\n",
       "      <td>8.40</td>\n",
       "    </tr>\n",
       "    <tr>\n",
       "      <th>1</th>\n",
       "      <td>KJI to KJU</td>\n",
       "      <td>134</td>\n",
       "      <td>14</td>\n",
       "      <td>10.45</td>\n",
       "    </tr>\n",
       "  </tbody>\n",
       "</table>\n",
       "</div>"
      ],
      "text/plain": [
       "  Succession_Broad  Total Transitions Total Advancements  \\\n",
       "0       KIS to KJI                119                 10   \n",
       "1       KJI to KJU                134                 14   \n",
       "\n",
       "   Percentage Advancements of OrgRank  \n",
       "0                                8.40  \n",
       "1                               10.45  "
      ]
     },
     "execution_count": 95,
     "metadata": {},
     "output_type": "execute_result"
    }
   ],
   "source": [
    "stat4[\"Percentage Advancements of OrgRank\"] = stat4.apply(lambda x: round(x[\"Total Advancements\"] / x[\"Total Transitions\"] * 100,2) if x[\"Total Transitions\"] > 0 else np.nan,axis=1)\n",
    "stat4"
   ]
  },
  {
   "cell_type": "code",
   "execution_count": 96,
   "id": "8521cf2d",
   "metadata": {},
   "outputs": [],
   "source": [
    "x1 = stat4.iloc[0,2]\n",
    "x2 = stat4.iloc[1,2]\n",
    "n1 = stat4.iloc[0,1]\n",
    "n2 = stat4.iloc[1,1]"
   ]
  },
  {
   "cell_type": "code",
   "execution_count": 97,
   "id": "63e65665",
   "metadata": {
    "scrolled": true
   },
   "outputs": [
    {
     "name": "stdout",
     "output_type": "stream",
     "text": [
      "x1,x2,n1,n2: [10, 14, 119, 134]\n",
      "p1:\t 0.08403361344537816\n",
      "p2:\t 0.1044776119402985\n",
      "p1-p2:\t -0.020443998494920346\n",
      "z:\t -0.5538964972533995\n",
      "pvalue:\t 0.2898248412257157\n"
     ]
    }
   ],
   "source": [
    "# 2-sample test of proportions\n",
    "# def two_sample_ttest_proportions(x1,x2,n1,n2,alpha):\n",
    "two_sample_ttest_proportions(x1,x2,n1,n2,.05)"
   ]
  },
  {
   "cell_type": "markdown",
   "id": "97b84bb9",
   "metadata": {},
   "source": [
    "# Hypothesis 1b - Position Advancement, broad succession periods"
   ]
  },
  {
   "cell_type": "code",
   "execution_count": 98,
   "id": "2ca319b4",
   "metadata": {},
   "outputs": [
    {
     "data": {
      "text/html": [
       "<div>\n",
       "<style scoped>\n",
       "    .dataframe tbody tr th:only-of-type {\n",
       "        vertical-align: middle;\n",
       "    }\n",
       "\n",
       "    .dataframe tbody tr th {\n",
       "        vertical-align: top;\n",
       "    }\n",
       "\n",
       "    .dataframe thead th {\n",
       "        text-align: right;\n",
       "    }\n",
       "</style>\n",
       "<table border=\"1\" class=\"dataframe\">\n",
       "  <thead>\n",
       "    <tr style=\"text-align: right;\">\n",
       "      <th></th>\n",
       "      <th>Succession_Broad</th>\n",
       "      <th>LeaderID</th>\n",
       "    </tr>\n",
       "  </thead>\n",
       "  <tbody>\n",
       "    <tr>\n",
       "      <th>0</th>\n",
       "      <td>KIS to KJI</td>\n",
       "      <td>96</td>\n",
       "    </tr>\n",
       "    <tr>\n",
       "      <th>1</th>\n",
       "      <td>KJI to KJU</td>\n",
       "      <td>110</td>\n",
       "    </tr>\n",
       "  </tbody>\n",
       "</table>\n",
       "</div>"
      ],
      "text/plain": [
       "  Succession_Broad  LeaderID\n",
       "0       KIS to KJI        96\n",
       "1       KJI to KJU       110"
      ]
     },
     "execution_count": 98,
     "metadata": {},
     "output_type": "execute_result"
    }
   ],
   "source": [
    "select_columns = [\"Succession_Broad\",\"LeaderID\"]\n",
    "select_rows = (trans[\"PISame\"] & trans[\"OrgRankChange\"].isin([\"same\"]))\n",
    "group_columns = [\"Succession_Broad\"]\n",
    "trans.loc[select_rows,select_columns].groupby(group_columns,as_index=False).count()"
   ]
  },
  {
   "cell_type": "code",
   "execution_count": 99,
   "id": "93991e1f",
   "metadata": {},
   "outputs": [],
   "source": [
    "stat4b_rows = (trans[\"PISame\"] & trans[\"OrgRankChange\"].isin([\"same\"]))\n",
    "stat4b_columns = [\"Succession_Broad\",\"PositionAdvanceYes\"]\n",
    "stat4b_groupby = [\"Succession_Broad\"]\n",
    "stat4b_labels = [\"Succession Period\",\"Total Transitions\",\"Total Advancements\"]"
   ]
  },
  {
   "cell_type": "code",
   "execution_count": 100,
   "id": "019dd444",
   "metadata": {
    "scrolled": true
   },
   "outputs": [
    {
     "data": {
      "text/html": [
       "<div>\n",
       "<style scoped>\n",
       "    .dataframe tbody tr th:only-of-type {\n",
       "        vertical-align: middle;\n",
       "    }\n",
       "\n",
       "    .dataframe tbody tr th {\n",
       "        vertical-align: top;\n",
       "    }\n",
       "\n",
       "    .dataframe thead th {\n",
       "        text-align: right;\n",
       "    }\n",
       "</style>\n",
       "<table border=\"1\" class=\"dataframe\">\n",
       "  <thead>\n",
       "    <tr style=\"text-align: right;\">\n",
       "      <th></th>\n",
       "      <th>Succession_Broad</th>\n",
       "      <th>Total Transitions</th>\n",
       "      <th>Total Advancements</th>\n",
       "    </tr>\n",
       "  </thead>\n",
       "  <tbody>\n",
       "    <tr>\n",
       "      <th>0</th>\n",
       "      <td>KIS to KJI</td>\n",
       "      <td>84</td>\n",
       "      <td>48</td>\n",
       "    </tr>\n",
       "    <tr>\n",
       "      <th>1</th>\n",
       "      <td>KJI to KJU</td>\n",
       "      <td>98</td>\n",
       "      <td>51</td>\n",
       "    </tr>\n",
       "  </tbody>\n",
       "</table>\n",
       "</div>"
      ],
      "text/plain": [
       "  Succession_Broad  Total Transitions Total Advancements\n",
       "0       KIS to KJI                 84                 48\n",
       "1       KJI to KJU                 98                 51"
      ]
     },
     "execution_count": 100,
     "metadata": {},
     "output_type": "execute_result"
    }
   ],
   "source": [
    "stat4b = trans.loc[stat4b_rows,stat4b_columns].groupby(stat4b_groupby,as_index=False)[\"PositionAdvanceYes\"].agg({\"Total Transitions\":\"count\",\"Total Advancements\":\"sum\"})\n",
    "stat4b"
   ]
  },
  {
   "cell_type": "code",
   "execution_count": 101,
   "id": "a1fe0170",
   "metadata": {
    "scrolled": false
   },
   "outputs": [
    {
     "data": {
      "text/html": [
       "<div>\n",
       "<style scoped>\n",
       "    .dataframe tbody tr th:only-of-type {\n",
       "        vertical-align: middle;\n",
       "    }\n",
       "\n",
       "    .dataframe tbody tr th {\n",
       "        vertical-align: top;\n",
       "    }\n",
       "\n",
       "    .dataframe thead th {\n",
       "        text-align: right;\n",
       "    }\n",
       "</style>\n",
       "<table border=\"1\" class=\"dataframe\">\n",
       "  <thead>\n",
       "    <tr style=\"text-align: right;\">\n",
       "      <th></th>\n",
       "      <th>Succession_Broad</th>\n",
       "      <th>Total Transitions</th>\n",
       "      <th>Total Advancements</th>\n",
       "      <th>Percentage Advancements of Position Rank</th>\n",
       "    </tr>\n",
       "  </thead>\n",
       "  <tbody>\n",
       "    <tr>\n",
       "      <th>0</th>\n",
       "      <td>KIS to KJI</td>\n",
       "      <td>84</td>\n",
       "      <td>48</td>\n",
       "      <td>57.14</td>\n",
       "    </tr>\n",
       "    <tr>\n",
       "      <th>1</th>\n",
       "      <td>KJI to KJU</td>\n",
       "      <td>98</td>\n",
       "      <td>51</td>\n",
       "      <td>52.04</td>\n",
       "    </tr>\n",
       "  </tbody>\n",
       "</table>\n",
       "</div>"
      ],
      "text/plain": [
       "  Succession_Broad  Total Transitions Total Advancements  \\\n",
       "0       KIS to KJI                 84                 48   \n",
       "1       KJI to KJU                 98                 51   \n",
       "\n",
       "   Percentage Advancements of Position Rank  \n",
       "0                                     57.14  \n",
       "1                                     52.04  "
      ]
     },
     "execution_count": 101,
     "metadata": {},
     "output_type": "execute_result"
    }
   ],
   "source": [
    "stat4b[\"Percentage Advancements of Position Rank\"] = stat4b.apply(lambda x: round(x[\"Total Advancements\"] / x[\"Total Transitions\"] * 100,2) if x[\"Total Transitions\"] > 0 else np.nan,axis=1)\n",
    "stat4b"
   ]
  },
  {
   "cell_type": "code",
   "execution_count": 102,
   "id": "7ab7f8b7",
   "metadata": {},
   "outputs": [],
   "source": [
    "x1 = stat4b.iloc[0,2]\n",
    "x2 = stat4b.iloc[1,2]\n",
    "n1 = stat4b.iloc[0,1]\n",
    "n2 = stat4b.iloc[1,1]"
   ]
  },
  {
   "cell_type": "code",
   "execution_count": 103,
   "id": "4a0a67f3",
   "metadata": {
    "scrolled": true
   },
   "outputs": [
    {
     "name": "stdout",
     "output_type": "stream",
     "text": [
      "x1,x2,n1,n2: [48, 51, 84, 98]\n",
      "p1:\t 0.5714285714285714\n",
      "p2:\t 0.5204081632653061\n",
      "p1-p2:\t 0.05102040816326525\n",
      "z:\t 0.6889308933634738\n",
      "pvalue:\t 0.2454333786022065\n"
     ]
    }
   ],
   "source": [
    "# 2-sample test of proportions\n",
    "# def two_sample_ttest_proportions(x1,x2,n1,n2,alpha):\n",
    "two_sample_ttest_proportions(x1,x2,n1,n2,.05)"
   ]
  },
  {
   "cell_type": "markdown",
   "id": "e86b643b",
   "metadata": {},
   "source": [
    "# Hypothesis 1c - Org Advancement, broad succession, by Institution"
   ]
  },
  {
   "cell_type": "code",
   "execution_count": 104,
   "id": "c97a0977",
   "metadata": {},
   "outputs": [
    {
     "data": {
      "text/html": [
       "<div>\n",
       "<style scoped>\n",
       "    .dataframe tbody tr th:only-of-type {\n",
       "        vertical-align: middle;\n",
       "    }\n",
       "\n",
       "    .dataframe tbody tr th {\n",
       "        vertical-align: top;\n",
       "    }\n",
       "\n",
       "    .dataframe thead th {\n",
       "        text-align: right;\n",
       "    }\n",
       "</style>\n",
       "<table border=\"1\" class=\"dataframe\">\n",
       "  <thead>\n",
       "    <tr style=\"text-align: right;\">\n",
       "      <th></th>\n",
       "      <th>Succession_Broad</th>\n",
       "      <th>LeaderID</th>\n",
       "    </tr>\n",
       "  </thead>\n",
       "  <tbody>\n",
       "    <tr>\n",
       "      <th>0</th>\n",
       "      <td>KIS to KJI</td>\n",
       "      <td>119</td>\n",
       "    </tr>\n",
       "    <tr>\n",
       "      <th>1</th>\n",
       "      <td>KJI to KJU</td>\n",
       "      <td>134</td>\n",
       "    </tr>\n",
       "  </tbody>\n",
       "</table>\n",
       "</div>"
      ],
      "text/plain": [
       "  Succession_Broad  LeaderID\n",
       "0       KIS to KJI       119\n",
       "1       KJI to KJU       134"
      ]
     },
     "execution_count": 104,
     "metadata": {},
     "output_type": "execute_result"
    }
   ],
   "source": [
    "select_rows = trans[\"PISame\"]==True\n",
    "select_columns = [\"Succession_Broad\",\"LeaderID\"]\n",
    "group_columns = [\"Succession_Broad\"]\n",
    "trans.loc[select_rows,select_columns].groupby(group_columns,as_index=False).count()"
   ]
  },
  {
   "cell_type": "code",
   "execution_count": 105,
   "id": "432caa1d",
   "metadata": {},
   "outputs": [],
   "source": [
    "select_columns = [\"InstitutionCategorySame\",\"PISame\",\"LeaderID\"]\n",
    "groupby_columns1 = [\"InstitutionCategorySame\"]\n",
    "groupby_columns2 = [\"PISame\"]\n",
    "groupby_columns3 = [\"InstitutionCategorySame\",\"PISame\"]"
   ]
  },
  {
   "cell_type": "code",
   "execution_count": 106,
   "id": "34536332",
   "metadata": {},
   "outputs": [
    {
     "data": {
      "text/html": [
       "<div>\n",
       "<style scoped>\n",
       "    .dataframe tbody tr th:only-of-type {\n",
       "        vertical-align: middle;\n",
       "    }\n",
       "\n",
       "    .dataframe tbody tr th {\n",
       "        vertical-align: top;\n",
       "    }\n",
       "\n",
       "    .dataframe thead th {\n",
       "        text-align: right;\n",
       "    }\n",
       "</style>\n",
       "<table border=\"1\" class=\"dataframe\">\n",
       "  <thead>\n",
       "    <tr style=\"text-align: right;\">\n",
       "      <th></th>\n",
       "      <th></th>\n",
       "      <th>LeaderID</th>\n",
       "    </tr>\n",
       "    <tr>\n",
       "      <th>InstitutionCategorySame</th>\n",
       "      <th>PISame</th>\n",
       "      <th></th>\n",
       "    </tr>\n",
       "  </thead>\n",
       "  <tbody>\n",
       "    <tr>\n",
       "      <th>False</th>\n",
       "      <th>False</th>\n",
       "      <td>1058</td>\n",
       "    </tr>\n",
       "    <tr>\n",
       "      <th rowspan=\"2\" valign=\"top\">True</th>\n",
       "      <th>False</th>\n",
       "      <td>630</td>\n",
       "    </tr>\n",
       "    <tr>\n",
       "      <th>True</th>\n",
       "      <td>502</td>\n",
       "    </tr>\n",
       "  </tbody>\n",
       "</table>\n",
       "</div>"
      ],
      "text/plain": [
       "                                LeaderID\n",
       "InstitutionCategorySame PISame          \n",
       "False                   False       1058\n",
       "True                    False        630\n",
       "                        True         502"
      ]
     },
     "execution_count": 106,
     "metadata": {},
     "output_type": "execute_result"
    }
   ],
   "source": [
    "trans[select_columns].groupby(groupby_columns3).count()"
   ]
  },
  {
   "cell_type": "code",
   "execution_count": 107,
   "id": "ccd6a6be",
   "metadata": {},
   "outputs": [
    {
     "data": {
      "text/plain": [
       "['Government', 'Social', 'Party', 'Military']"
      ]
     },
     "execution_count": 107,
     "metadata": {},
     "output_type": "execute_result"
    }
   ],
   "source": [
    "ics = list(trans.InstitutionCategory_2.unique())\n",
    "ics"
   ]
  },
  {
   "cell_type": "code",
   "execution_count": 108,
   "id": "c40ed49e",
   "metadata": {},
   "outputs": [
    {
     "name": "stdout",
     "output_type": "stream",
     "text": [
      "\n",
      "\n",
      " Government \n",
      "\n",
      "\n",
      "  Succession_Broad  Total Transitions Total Advancements  \\\n",
      "0       KIS to KJI                 62                  7   \n",
      "1       KJI to KJU                 96                 11   \n",
      "\n",
      "   Percentage Advancements of OrgRank  \n",
      "0                               11.29  \n",
      "1                               11.46   \n",
      "\n",
      "x1,x2,n1,n2: [7, 11, 62, 96]\n",
      "p1:\t 0.11290322580645161\n",
      "p2:\t 0.11458333333333333\n",
      "p1-p2:\t -0.001680107526881719\n",
      "z:\t -0.032456135798665166\n",
      "pvalue:\t 0.48705414807304515\n",
      "\n",
      "\n",
      " Social \n",
      "\n",
      "\n",
      "  Succession_Broad  Total Transitions Total Advancements  \\\n",
      "0       KIS to KJI                 24                  3   \n",
      "1       KJI to KJU                 16                  1   \n",
      "\n",
      "   Percentage Advancements of OrgRank  \n",
      "0                               12.50  \n",
      "1                                6.25   \n",
      "\n",
      "x1,x2,n1,n2: [3, 1, 24, 16]\n",
      "p1:\t 0.125\n",
      "p2:\t 0.0625\n",
      "p1-p2:\t 0.0625\n",
      "z:\t 0.6454972243679028\n",
      "pvalue:\t 0.25930250821436274\n",
      "\n",
      "\n",
      " Party \n",
      "\n",
      "\n",
      "  Succession_Broad  Total Transitions Total Advancements  \\\n",
      "0       KIS to KJI                 26                  0   \n",
      "1       KJI to KJU                  0                  0   \n",
      "\n",
      "   Percentage Advancements of OrgRank  \n",
      "0                                 0.0  \n",
      "1                                 NaN   \n",
      "\n",
      "x1,x2,n1,n2: [0, 0, 26, 0]\n",
      "p1:\t 0.0\n",
      "p2:\t nan\n",
      "p1-p2:\t nan\n",
      "z:\t nan\n",
      "pvalue:\t nan\n",
      "\n",
      "\n",
      " Military \n",
      "\n",
      "\n",
      "  Succession_Broad  Total Transitions Total Advancements  \\\n",
      "0       KIS to KJI                  7                  0   \n",
      "1       KJI to KJU                 22                  2   \n",
      "\n",
      "   Percentage Advancements of OrgRank  \n",
      "0                                0.00  \n",
      "1                                9.09   \n",
      "\n",
      "x1,x2,n1,n2: [0, 2, 7, 22]\n",
      "p1:\t 0.0\n",
      "p2:\t 0.09090909090909091\n",
      "p1-p2:\t -0.09090909090909091\n",
      "z:\t -0.8267416062480969\n",
      "pvalue:\t 0.20419176683513363\n"
     ]
    },
    {
     "name": "stderr",
     "output_type": "stream",
     "text": [
      "C:\\Users\\seoul\\AppData\\Local\\Temp\\ipykernel_19300\\2071851454.py:5: RuntimeWarning: invalid value encountered in scalar divide\n",
      "  p2 = x2/n2\n",
      "C:\\Users\\seoul\\AppData\\Local\\Temp\\ipykernel_19300\\2071851454.py:6: RuntimeWarning: divide by zero encountered in scalar divide\n",
      "  z = (p1-p2) / math.sqrt(pstar*(1-pstar)*((1/n1) + (1/n2)))\n",
      "C:\\Users\\seoul\\AppData\\Local\\Temp\\ipykernel_19300\\2071851454.py:6: RuntimeWarning: invalid value encountered in scalar multiply\n",
      "  z = (p1-p2) / math.sqrt(pstar*(1-pstar)*((1/n1) + (1/n2)))\n"
     ]
    }
   ],
   "source": [
    "for ic in ics:\n",
    "    print(\"\\n\\n\",ic,\"\\n\\n\")\n",
    "    stat4c_rows = (trans[\"InstitutionCategory_2\"]==ic) & (trans[\"PISame\"]==True)\n",
    "    stat4c_columns = [\"Succession_Broad\",\"OrgAdvanceYes\"]\n",
    "    stat4c_groupby = [\"Succession_Broad\"]\n",
    "    stat4c_labels = [\"Succession Period\",\"Total Transitions\",\"Total Advancements\"]\n",
    "    \n",
    "    stat4c = trans.loc[stat4c_rows,stat4c_columns].groupby(stat4c_groupby,as_index=False)[\"OrgAdvanceYes\"].agg({\"Total Transitions\":\"count\",\"Total Advancements\":\"sum\"})    \n",
    "    stat4c[\"Percentage Advancements of OrgRank\"] = stat4c.apply(lambda x: round(x[\"Total Advancements\"] / x[\"Total Transitions\"] * 100,2) if x[\"Total Transitions\"] > 0 else np.nan,axis=1)\n",
    "   \n",
    "    print(stat4c,\"\\n\")\n",
    "    \n",
    "    x1 = stat4c.iloc[0,2]\n",
    "    x2 = stat4c.iloc[1,2]\n",
    "    n1 = stat4c.iloc[0,1]\n",
    "    n2 = stat4c.iloc[1,1]\n",
    "    \n",
    "    two_sample_ttest_proportions(x1,x2,n1,n2,.05)"
   ]
  },
  {
   "cell_type": "markdown",
   "id": "95ae9d5d",
   "metadata": {},
   "source": [
    "# Hypothesis 1d - Position Advancement, broad succession, by Institution"
   ]
  },
  {
   "cell_type": "code",
   "execution_count": 109,
   "id": "de8b0c8d",
   "metadata": {
    "scrolled": true
   },
   "outputs": [
    {
     "name": "stdout",
     "output_type": "stream",
     "text": [
      "\n",
      "\n",
      " Government \n",
      "\n",
      "\n",
      "  Succession_Broad  Total Transitions Total Advancements  \\\n",
      "0       KIS to KJI                 39                 27   \n",
      "1       KJI to KJU                 75                 29   \n",
      "\n",
      "   Percentage Advancements  \n",
      "0                    69.23  \n",
      "1                    38.67   \n",
      "\n",
      "x1,x2,n1,n2: [27, 29, 39, 75]\n",
      "p1:\t 0.6923076923076923\n",
      "p2:\t 0.38666666666666666\n",
      "p1-p2:\t 0.30564102564102563\n",
      "z:\t 3.096841647953146\n",
      "pvalue:\t 0.0009779716358979673***\n",
      "\n",
      "\n",
      " Social \n",
      "\n",
      "\n",
      "  Succession_Broad  Total Transitions Total Advancements  \\\n",
      "0       KIS to KJI                 15                 13   \n",
      "1       KJI to KJU                  9                  8   \n",
      "\n",
      "   Percentage Advancements  \n",
      "0                    86.67  \n",
      "1                    88.89   \n",
      "\n",
      "x1,x2,n1,n2: [13, 8, 15, 9]\n",
      "p1:\t 0.8666666666666667\n",
      "p2:\t 0.8888888888888888\n",
      "p1-p2:\t -0.022222222222222143\n",
      "z:\t -0.1593638145779186\n",
      "pvalue:\t 0.43669112315483205\n",
      "\n",
      "\n",
      " Party \n",
      "\n",
      "\n",
      "  Succession_Broad  Total Transitions Total Advancements  \\\n",
      "0       KIS to KJI                 25                  3   \n",
      "1       KJI to KJU                  0                  0   \n",
      "\n",
      "   Percentage Advancements  \n",
      "0                     12.0  \n",
      "1                      NaN   \n",
      "\n",
      "x1,x2,n1,n2: [3, 0, 25, 0]\n",
      "p1:\t 0.12\n",
      "p2:\t nan\n",
      "p1-p2:\t nan\n",
      "z:\t nan\n",
      "pvalue:\t nan\n",
      "\n",
      "\n",
      " Military \n",
      "\n",
      "\n",
      "  Succession_Broad  Total Transitions Total Advancements  \\\n",
      "0       KIS to KJI                  5                  5   \n",
      "1       KJI to KJU                 14                 14   \n",
      "\n",
      "   Percentage Advancements  \n",
      "0                    100.0  \n",
      "1                    100.0   \n",
      "\n",
      "x1,x2,n1,n2: [5, 14, 5, 14]\n",
      "p1:\t 1.0\n",
      "p2:\t 1.0\n",
      "p1-p2:\t 0.0\n",
      "z:\t nan\n",
      "pvalue:\t nan\n"
     ]
    },
    {
     "name": "stderr",
     "output_type": "stream",
     "text": [
      "C:\\Users\\seoul\\AppData\\Local\\Temp\\ipykernel_19300\\2071851454.py:5: RuntimeWarning: invalid value encountered in scalar divide\n",
      "  p2 = x2/n2\n",
      "C:\\Users\\seoul\\AppData\\Local\\Temp\\ipykernel_19300\\2071851454.py:6: RuntimeWarning: divide by zero encountered in scalar divide\n",
      "  z = (p1-p2) / math.sqrt(pstar*(1-pstar)*((1/n1) + (1/n2)))\n",
      "C:\\Users\\seoul\\AppData\\Local\\Temp\\ipykernel_19300\\2071851454.py:6: RuntimeWarning: invalid value encountered in scalar divide\n",
      "  z = (p1-p2) / math.sqrt(pstar*(1-pstar)*((1/n1) + (1/n2)))\n"
     ]
    }
   ],
   "source": [
    "ics = list(trans.InstitutionCategory_2.unique())\n",
    "for ic in ics:\n",
    "    print(\"\\n\\n\",ic,\"\\n\\n\")\n",
    "    stat4c_rows = (trans[\"InstitutionCategory_2\"]==ic) & (trans[\"PISame\"]==True) & (trans[\"OrgRankChange\"].isin([\"same\"]))\n",
    "    stat4c_columns = [\"Succession_Broad\",\"PositionAdvanceYes\"]\n",
    "    stat4c_groupby = [\"Succession_Broad\"]\n",
    "    stat4c_labels = [\"Succession Period\",\"Total Transitions\",\"Total Advancements\"]\n",
    "    \n",
    "    stat4c = trans.loc[stat4c_rows,stat4c_columns].groupby(stat4c_groupby,as_index=False)[\"PositionAdvanceYes\"].agg({\"Total Transitions\":\"count\",\"Total Advancements\":\"sum\"})    \n",
    "    stat4c[\"Percentage Advancements\"] = stat4c.apply(lambda x: round(x[\"Total Advancements\"] / x[\"Total Transitions\"] * 100,2) if x[\"Total Transitions\"] > 0 else np.nan,axis=1)\n",
    "   \n",
    "    print(stat4c,\"\\n\")\n",
    "    \n",
    "    x1 = stat4c.iloc[0,2]\n",
    "    x2 = stat4c.iloc[1,2]\n",
    "    n1 = stat4c.iloc[0,1]\n",
    "    n2 = stat4c.iloc[1,1]\n",
    "    \n",
    "    two_sample_ttest_proportions(x1,x2,n1,n2,.05)"
   ]
  },
  {
   "cell_type": "markdown",
   "id": "26207744",
   "metadata": {},
   "source": [
    "# Hypothesis 2a - Org Advancement, narrow succession periods"
   ]
  },
  {
   "cell_type": "code",
   "execution_count": 110,
   "id": "87d6fd24",
   "metadata": {},
   "outputs": [
    {
     "data": {
      "text/html": [
       "<div>\n",
       "<style scoped>\n",
       "    .dataframe tbody tr th:only-of-type {\n",
       "        vertical-align: middle;\n",
       "    }\n",
       "\n",
       "    .dataframe tbody tr th {\n",
       "        vertical-align: top;\n",
       "    }\n",
       "\n",
       "    .dataframe thead th {\n",
       "        text-align: right;\n",
       "    }\n",
       "</style>\n",
       "<table border=\"1\" class=\"dataframe\">\n",
       "  <thead>\n",
       "    <tr style=\"text-align: right;\">\n",
       "      <th></th>\n",
       "      <th>Succession_Narrow</th>\n",
       "      <th>LeaderID</th>\n",
       "    </tr>\n",
       "  </thead>\n",
       "  <tbody>\n",
       "    <tr>\n",
       "      <th>0</th>\n",
       "      <td>KIS to KJI</td>\n",
       "      <td>57</td>\n",
       "    </tr>\n",
       "    <tr>\n",
       "      <th>1</th>\n",
       "      <td>KJI to KJU</td>\n",
       "      <td>66</td>\n",
       "    </tr>\n",
       "  </tbody>\n",
       "</table>\n",
       "</div>"
      ],
      "text/plain": [
       "  Succession_Narrow  LeaderID\n",
       "0        KIS to KJI        57\n",
       "1        KJI to KJU        66"
      ]
     },
     "execution_count": 110,
     "metadata": {},
     "output_type": "execute_result"
    }
   ],
   "source": [
    "select_columns = [\"Succession_Narrow\",\"LeaderID\"]\n",
    "select_rows = trans[\"PISame\"]==True\n",
    "group_columns = [\"Succession_Narrow\"]\n",
    "trans.loc[select_rows,select_columns].groupby(group_columns,as_index=False).count()"
   ]
  },
  {
   "cell_type": "code",
   "execution_count": 111,
   "id": "5ac3415c",
   "metadata": {},
   "outputs": [],
   "source": [
    "stat4_rows = trans[\"PISame\"]==True\n",
    "stat4_columns = [\"Succession_Narrow\",\"OrgAdvanceYes\"]\n",
    "stat4_groupby = [\"Succession_Narrow\"]\n",
    "stat4_labels = [\"Succession Period\",\"Total Transitions\",\"Total Advancements\"]"
   ]
  },
  {
   "cell_type": "code",
   "execution_count": 112,
   "id": "60df77bf",
   "metadata": {
    "scrolled": true
   },
   "outputs": [
    {
     "data": {
      "text/html": [
       "<div>\n",
       "<style scoped>\n",
       "    .dataframe tbody tr th:only-of-type {\n",
       "        vertical-align: middle;\n",
       "    }\n",
       "\n",
       "    .dataframe tbody tr th {\n",
       "        vertical-align: top;\n",
       "    }\n",
       "\n",
       "    .dataframe thead th {\n",
       "        text-align: right;\n",
       "    }\n",
       "</style>\n",
       "<table border=\"1\" class=\"dataframe\">\n",
       "  <thead>\n",
       "    <tr style=\"text-align: right;\">\n",
       "      <th></th>\n",
       "      <th>Succession_Narrow</th>\n",
       "      <th>Total Transitions</th>\n",
       "      <th>Total Advancements</th>\n",
       "    </tr>\n",
       "  </thead>\n",
       "  <tbody>\n",
       "    <tr>\n",
       "      <th>0</th>\n",
       "      <td>KIS to KJI</td>\n",
       "      <td>57</td>\n",
       "      <td>5</td>\n",
       "    </tr>\n",
       "    <tr>\n",
       "      <th>1</th>\n",
       "      <td>KJI to KJU</td>\n",
       "      <td>66</td>\n",
       "      <td>8</td>\n",
       "    </tr>\n",
       "  </tbody>\n",
       "</table>\n",
       "</div>"
      ],
      "text/plain": [
       "  Succession_Narrow  Total Transitions Total Advancements\n",
       "0        KIS to KJI                 57                  5\n",
       "1        KJI to KJU                 66                  8"
      ]
     },
     "execution_count": 112,
     "metadata": {},
     "output_type": "execute_result"
    }
   ],
   "source": [
    "stat4 = trans.loc[stat4_rows,stat4_columns].groupby(stat4_groupby,as_index=False)[\"OrgAdvanceYes\"].agg({\"Total Transitions\":\"count\",\"Total Advancements\":\"sum\"})\n",
    "stat4"
   ]
  },
  {
   "cell_type": "code",
   "execution_count": 113,
   "id": "e28ac6c5",
   "metadata": {
    "scrolled": true
   },
   "outputs": [
    {
     "data": {
      "text/html": [
       "<div>\n",
       "<style scoped>\n",
       "    .dataframe tbody tr th:only-of-type {\n",
       "        vertical-align: middle;\n",
       "    }\n",
       "\n",
       "    .dataframe tbody tr th {\n",
       "        vertical-align: top;\n",
       "    }\n",
       "\n",
       "    .dataframe thead th {\n",
       "        text-align: right;\n",
       "    }\n",
       "</style>\n",
       "<table border=\"1\" class=\"dataframe\">\n",
       "  <thead>\n",
       "    <tr style=\"text-align: right;\">\n",
       "      <th></th>\n",
       "      <th>Succession_Narrow</th>\n",
       "      <th>Total Transitions</th>\n",
       "      <th>Total Advancements</th>\n",
       "      <th>Percentage Advancements of OrgRank</th>\n",
       "    </tr>\n",
       "  </thead>\n",
       "  <tbody>\n",
       "    <tr>\n",
       "      <th>0</th>\n",
       "      <td>KIS to KJI</td>\n",
       "      <td>57</td>\n",
       "      <td>5</td>\n",
       "      <td>8.77</td>\n",
       "    </tr>\n",
       "    <tr>\n",
       "      <th>1</th>\n",
       "      <td>KJI to KJU</td>\n",
       "      <td>66</td>\n",
       "      <td>8</td>\n",
       "      <td>12.12</td>\n",
       "    </tr>\n",
       "  </tbody>\n",
       "</table>\n",
       "</div>"
      ],
      "text/plain": [
       "  Succession_Narrow  Total Transitions Total Advancements  \\\n",
       "0        KIS to KJI                 57                  5   \n",
       "1        KJI to KJU                 66                  8   \n",
       "\n",
       "   Percentage Advancements of OrgRank  \n",
       "0                                8.77  \n",
       "1                               12.12  "
      ]
     },
     "execution_count": 113,
     "metadata": {},
     "output_type": "execute_result"
    }
   ],
   "source": [
    "stat4[\"Percentage Advancements of OrgRank\"] = stat4.apply(lambda x: round(x[\"Total Advancements\"] / x[\"Total Transitions\"] * 100,2) if x[\"Total Transitions\"] > 0 else np.nan,axis=1)\n",
    "stat4"
   ]
  },
  {
   "cell_type": "code",
   "execution_count": 114,
   "id": "d2d016e8",
   "metadata": {},
   "outputs": [],
   "source": [
    "x1 = stat4.iloc[0,2]\n",
    "x2 = stat4.iloc[1,2]\n",
    "n1 = stat4.iloc[0,1]\n",
    "n2 = stat4.iloc[1,1]"
   ]
  },
  {
   "cell_type": "code",
   "execution_count": 115,
   "id": "2d0ee863",
   "metadata": {
    "scrolled": true
   },
   "outputs": [
    {
     "name": "stdout",
     "output_type": "stream",
     "text": [
      "x1,x2,n1,n2: [5, 8, 57, 66]\n",
      "p1:\t 0.08771929824561403\n",
      "p2:\t 0.12121212121212122\n",
      "p1-p2:\t -0.033492822966507185\n",
      "z:\t -0.6024842338040619\n",
      "pvalue:\t 0.27342592741177296\n"
     ]
    }
   ],
   "source": [
    "# 2-sample test of proportions\n",
    "# def two_sample_ttest_proportions(x1,x2,n1,n2,alpha):\n",
    "two_sample_ttest_proportions(x1,x2,n1,n2,.05)"
   ]
  },
  {
   "cell_type": "code",
   "execution_count": null,
   "id": "fcc864d4",
   "metadata": {},
   "outputs": [],
   "source": []
  },
  {
   "cell_type": "markdown",
   "id": "e1830195",
   "metadata": {},
   "source": [
    "# Hypothesis 2b - Position Advancement, narrow succession periods"
   ]
  },
  {
   "cell_type": "code",
   "execution_count": 116,
   "id": "3318573c",
   "metadata": {},
   "outputs": [
    {
     "data": {
      "text/html": [
       "<div>\n",
       "<style scoped>\n",
       "    .dataframe tbody tr th:only-of-type {\n",
       "        vertical-align: middle;\n",
       "    }\n",
       "\n",
       "    .dataframe tbody tr th {\n",
       "        vertical-align: top;\n",
       "    }\n",
       "\n",
       "    .dataframe thead th {\n",
       "        text-align: right;\n",
       "    }\n",
       "</style>\n",
       "<table border=\"1\" class=\"dataframe\">\n",
       "  <thead>\n",
       "    <tr style=\"text-align: right;\">\n",
       "      <th></th>\n",
       "      <th>Succession_Narrow</th>\n",
       "      <th>LeaderID</th>\n",
       "    </tr>\n",
       "  </thead>\n",
       "  <tbody>\n",
       "    <tr>\n",
       "      <th>0</th>\n",
       "      <td>KIS to KJI</td>\n",
       "      <td>48</td>\n",
       "    </tr>\n",
       "    <tr>\n",
       "      <th>1</th>\n",
       "      <td>KJI to KJU</td>\n",
       "      <td>52</td>\n",
       "    </tr>\n",
       "  </tbody>\n",
       "</table>\n",
       "</div>"
      ],
      "text/plain": [
       "  Succession_Narrow  LeaderID\n",
       "0        KIS to KJI        48\n",
       "1        KJI to KJU        52"
      ]
     },
     "execution_count": 116,
     "metadata": {},
     "output_type": "execute_result"
    }
   ],
   "source": [
    "select_columns = [\"Succession_Narrow\",\"LeaderID\"]\n",
    "select_rows = (trans[\"PISame\"] & trans[\"OrgRankChange\"].isin([\"same\"]))\n",
    "group_columns = [\"Succession_Narrow\"]\n",
    "trans.loc[select_rows,select_columns].groupby(group_columns,as_index=False).count()"
   ]
  },
  {
   "cell_type": "code",
   "execution_count": 117,
   "id": "a467f8f9",
   "metadata": {},
   "outputs": [],
   "source": [
    "stat4b_rows = (trans[\"PISame\"] & trans[\"OrgRankChange\"].isin([\"same\"]))\n",
    "stat4b_columns = [\"Succession_Narrow\",\"PositionAdvanceYes\"]\n",
    "stat4b_groupby = [\"Succession_Narrow\"]\n",
    "stat4b_labels = [\"Succession Period\",\"Total Transitions\",\"Total Advancements\"]"
   ]
  },
  {
   "cell_type": "code",
   "execution_count": 118,
   "id": "7164d373",
   "metadata": {
    "scrolled": true
   },
   "outputs": [
    {
     "data": {
      "text/html": [
       "<div>\n",
       "<style scoped>\n",
       "    .dataframe tbody tr th:only-of-type {\n",
       "        vertical-align: middle;\n",
       "    }\n",
       "\n",
       "    .dataframe tbody tr th {\n",
       "        vertical-align: top;\n",
       "    }\n",
       "\n",
       "    .dataframe thead th {\n",
       "        text-align: right;\n",
       "    }\n",
       "</style>\n",
       "<table border=\"1\" class=\"dataframe\">\n",
       "  <thead>\n",
       "    <tr style=\"text-align: right;\">\n",
       "      <th></th>\n",
       "      <th>Succession_Narrow</th>\n",
       "      <th>Total Transitions</th>\n",
       "      <th>Total Advancements</th>\n",
       "    </tr>\n",
       "  </thead>\n",
       "  <tbody>\n",
       "    <tr>\n",
       "      <th>0</th>\n",
       "      <td>KIS to KJI</td>\n",
       "      <td>45</td>\n",
       "      <td>22</td>\n",
       "    </tr>\n",
       "    <tr>\n",
       "      <th>1</th>\n",
       "      <td>KJI to KJU</td>\n",
       "      <td>49</td>\n",
       "      <td>20</td>\n",
       "    </tr>\n",
       "  </tbody>\n",
       "</table>\n",
       "</div>"
      ],
      "text/plain": [
       "  Succession_Narrow  Total Transitions Total Advancements\n",
       "0        KIS to KJI                 45                 22\n",
       "1        KJI to KJU                 49                 20"
      ]
     },
     "execution_count": 118,
     "metadata": {},
     "output_type": "execute_result"
    }
   ],
   "source": [
    "stat4b = trans.loc[stat4b_rows,stat4b_columns].groupby(stat4b_groupby,as_index=False)[\"PositionAdvanceYes\"].agg({\"Total Transitions\":\"count\",\"Total Advancements\":\"sum\"})\n",
    "stat4b"
   ]
  },
  {
   "cell_type": "code",
   "execution_count": 119,
   "id": "c2781773",
   "metadata": {
    "scrolled": false
   },
   "outputs": [
    {
     "data": {
      "text/html": [
       "<div>\n",
       "<style scoped>\n",
       "    .dataframe tbody tr th:only-of-type {\n",
       "        vertical-align: middle;\n",
       "    }\n",
       "\n",
       "    .dataframe tbody tr th {\n",
       "        vertical-align: top;\n",
       "    }\n",
       "\n",
       "    .dataframe thead th {\n",
       "        text-align: right;\n",
       "    }\n",
       "</style>\n",
       "<table border=\"1\" class=\"dataframe\">\n",
       "  <thead>\n",
       "    <tr style=\"text-align: right;\">\n",
       "      <th></th>\n",
       "      <th>Succession_Narrow</th>\n",
       "      <th>Total Transitions</th>\n",
       "      <th>Total Advancements</th>\n",
       "      <th>Percentage Advancements of Position Rank</th>\n",
       "    </tr>\n",
       "  </thead>\n",
       "  <tbody>\n",
       "    <tr>\n",
       "      <th>0</th>\n",
       "      <td>KIS to KJI</td>\n",
       "      <td>45</td>\n",
       "      <td>22</td>\n",
       "      <td>48.89</td>\n",
       "    </tr>\n",
       "    <tr>\n",
       "      <th>1</th>\n",
       "      <td>KJI to KJU</td>\n",
       "      <td>49</td>\n",
       "      <td>20</td>\n",
       "      <td>40.82</td>\n",
       "    </tr>\n",
       "  </tbody>\n",
       "</table>\n",
       "</div>"
      ],
      "text/plain": [
       "  Succession_Narrow  Total Transitions Total Advancements  \\\n",
       "0        KIS to KJI                 45                 22   \n",
       "1        KJI to KJU                 49                 20   \n",
       "\n",
       "   Percentage Advancements of Position Rank  \n",
       "0                                     48.89  \n",
       "1                                     40.82  "
      ]
     },
     "execution_count": 119,
     "metadata": {},
     "output_type": "execute_result"
    }
   ],
   "source": [
    "stat4b[\"Percentage Advancements of Position Rank\"] = stat4b.apply(lambda x: round(x[\"Total Advancements\"] / x[\"Total Transitions\"] * 100,2) if x[\"Total Transitions\"] > 0 else np.nan,axis=1)\n",
    "stat4b"
   ]
  },
  {
   "cell_type": "code",
   "execution_count": 120,
   "id": "bcd2e03a",
   "metadata": {},
   "outputs": [],
   "source": [
    "x1 = stat4b.iloc[0,2]\n",
    "x2 = stat4b.iloc[1,2]\n",
    "n1 = stat4b.iloc[0,1]\n",
    "n2 = stat4b.iloc[1,1]"
   ]
  },
  {
   "cell_type": "code",
   "execution_count": 121,
   "id": "295504e7",
   "metadata": {
    "scrolled": true
   },
   "outputs": [
    {
     "name": "stdout",
     "output_type": "stream",
     "text": [
      "x1,x2,n1,n2: [22, 20, 45, 49]\n",
      "p1:\t 0.4888888888888889\n",
      "p2:\t 0.40816326530612246\n",
      "p1-p2:\t 0.08072562358276641\n",
      "z:\t 0.7864177643501911\n",
      "pvalue:\t 0.21581138977741743\n"
     ]
    }
   ],
   "source": [
    "# 2-sample test of proportions\n",
    "# def two_sample_ttest_proportions(x1,x2,n1,n2,alpha):\n",
    "two_sample_ttest_proportions(x1,x2,n1,n2,.05)"
   ]
  },
  {
   "cell_type": "code",
   "execution_count": null,
   "id": "be923b14",
   "metadata": {},
   "outputs": [],
   "source": []
  },
  {
   "cell_type": "markdown",
   "id": "39693cc8",
   "metadata": {},
   "source": [
    "# Hypothesis 2c - Org Advancement, narrow succession, by Institution"
   ]
  },
  {
   "cell_type": "code",
   "execution_count": 122,
   "id": "6be9149b",
   "metadata": {},
   "outputs": [
    {
     "name": "stdout",
     "output_type": "stream",
     "text": [
      "\n",
      "\n",
      " Government \n",
      "\n",
      "\n",
      "  Succession_Narrow  Total Transitions Total Advancements  \\\n",
      "0        KIS to KJI                 33                  3   \n",
      "1        KJI to KJU                 53                  7   \n",
      "\n",
      "   Percentage Advancements of OrgRank  \n",
      "0                                9.09  \n",
      "1                               13.21   \n",
      "\n",
      "x1,x2,n1,n2: [3, 7, 33, 53]\n",
      "p1:\t 0.09090909090909091\n",
      "p2:\t 0.1320754716981132\n",
      "p1-p2:\t -0.041166380789022294\n",
      "z:\t -0.5791352785399175\n",
      "pvalue:\t 0.2812489487237354\n",
      "\n",
      "\n",
      " Social \n",
      "\n",
      "\n",
      "  Succession_Narrow  Total Transitions Total Advancements  \\\n",
      "0        KIS to KJI                  6                  1   \n",
      "1        KJI to KJU                  1              False   \n",
      "\n",
      "   Percentage Advancements of OrgRank  \n",
      "0                               16.67  \n",
      "1                                0.00   \n",
      "\n",
      "x1,x2,n1,n2: [1, False, 6, 1]\n",
      "p1:\t 0.16666666666666666\n",
      "p2:\t 0.0\n",
      "p1-p2:\t 0.16666666666666666\n",
      "z:\t 0.44095855184409843\n",
      "pvalue:\t 0.32962150184631533\n",
      "\n",
      "\n",
      " Party \n",
      "\n",
      "\n",
      "  Succession_Narrow  Total Transitions Total Advancements  \\\n",
      "0        KIS to KJI                 13                  0   \n",
      "1        KJI to KJU                  0                  0   \n",
      "\n",
      "   Percentage Advancements of OrgRank  \n",
      "0                                 0.0  \n",
      "1                                 NaN   \n",
      "\n",
      "x1,x2,n1,n2: [0, 0, 13, 0]\n",
      "p1:\t 0.0\n",
      "p2:\t nan\n",
      "p1-p2:\t nan\n",
      "z:\t nan\n",
      "pvalue:\t nan\n",
      "\n",
      "\n",
      " Military \n",
      "\n",
      "\n",
      "  Succession_Narrow  Total Transitions Total Advancements  \\\n",
      "0        KIS to KJI                  5                  1   \n",
      "1        KJI to KJU                 12                  1   \n",
      "\n",
      "   Percentage Advancements of OrgRank  \n",
      "0                               20.00  \n",
      "1                                8.33   \n",
      "\n",
      "x1,x2,n1,n2: [1, 1, 5, 12]\n",
      "p1:\t 0.2\n",
      "p2:\t 0.08333333333333333\n",
      "p1-p2:\t 0.11666666666666668\n",
      "z:\t 0.6802777210652852\n",
      "pvalue:\t 0.2481643142368739\n"
     ]
    },
    {
     "name": "stderr",
     "output_type": "stream",
     "text": [
      "C:\\Users\\seoul\\AppData\\Local\\Temp\\ipykernel_19300\\2071851454.py:5: RuntimeWarning: invalid value encountered in scalar divide\n",
      "  p2 = x2/n2\n",
      "C:\\Users\\seoul\\AppData\\Local\\Temp\\ipykernel_19300\\2071851454.py:6: RuntimeWarning: divide by zero encountered in scalar divide\n",
      "  z = (p1-p2) / math.sqrt(pstar*(1-pstar)*((1/n1) + (1/n2)))\n",
      "C:\\Users\\seoul\\AppData\\Local\\Temp\\ipykernel_19300\\2071851454.py:6: RuntimeWarning: invalid value encountered in scalar multiply\n",
      "  z = (p1-p2) / math.sqrt(pstar*(1-pstar)*((1/n1) + (1/n2)))\n"
     ]
    }
   ],
   "source": [
    "ics = list(trans.InstitutionCategory_2.unique())\n",
    "for ic in ics:\n",
    "    print(\"\\n\\n\",ic,\"\\n\\n\")\n",
    "    stat4c_rows = (trans[\"InstitutionCategory_2\"]==ic) & (trans[\"PISame\"]==True)\n",
    "    stat4c_columns = [\"Succession_Narrow\",\"OrgAdvanceYes\"]\n",
    "    stat4c_groupby = [\"Succession_Narrow\"]\n",
    "    stat4c_labels = [\"Succession Period\",\"Total Transitions\",\"Total Advancements\"]\n",
    "    \n",
    "    stat4c = trans.loc[stat4c_rows,stat4c_columns].groupby(stat4c_groupby,as_index=False)[\"OrgAdvanceYes\"].agg({\"Total Transitions\":\"count\",\"Total Advancements\":\"sum\"})    \n",
    "    stat4c[\"Percentage Advancements of OrgRank\"] = stat4c.apply(lambda x: round(x[\"Total Advancements\"] / x[\"Total Transitions\"] * 100,2) if x[\"Total Transitions\"] > 0 else np.nan,axis=1)\n",
    "   \n",
    "    print(stat4c,\"\\n\")\n",
    "    \n",
    "    x1 = stat4c.iloc[0,2]\n",
    "    x2 = stat4c.iloc[1,2]\n",
    "    n1 = stat4c.iloc[0,1]\n",
    "    n2 = stat4c.iloc[1,1]\n",
    "    \n",
    "    two_sample_ttest_proportions(x1,x2,n1,n2,.05)"
   ]
  },
  {
   "cell_type": "markdown",
   "id": "289615bc",
   "metadata": {},
   "source": [
    "# Hypothesis 2d - Position Advancement, narrow succession, by Institution"
   ]
  },
  {
   "cell_type": "code",
   "execution_count": 123,
   "id": "272cf910",
   "metadata": {
    "scrolled": true
   },
   "outputs": [
    {
     "name": "stdout",
     "output_type": "stream",
     "text": [
      "\n",
      "\n",
      " Government \n",
      "\n",
      "\n",
      "  Succession_Narrow  Total Transitions Total Advancements  \\\n",
      "0        KIS to KJI                 25                 16   \n",
      "1        KJI to KJU                 42                 13   \n",
      "\n",
      "   Percentage Advancements  \n",
      "0                    64.00  \n",
      "1                    30.95   \n",
      "\n",
      "x1,x2,n1,n2: [16, 13, 25, 42]\n",
      "p1:\t 0.64\n",
      "p2:\t 0.30952380952380953\n",
      "p1-p2:\t 0.3304761904761905\n",
      "z:\t 2.640471166016987\n",
      "pvalue:\t 0.0041395418644954995**\n",
      "\n",
      "\n",
      " Social \n",
      "\n",
      "\n",
      "  Succession_Narrow  Total Transitions Total Advancements  \\\n",
      "0        KIS to KJI                  5                  3   \n",
      "1        KJI to KJU                  0                  0   \n",
      "\n",
      "   Percentage Advancements  \n",
      "0                     60.0  \n",
      "1                      NaN   \n",
      "\n",
      "x1,x2,n1,n2: [3, 0, 5, 0]\n",
      "p1:\t 0.6\n",
      "p2:\t nan\n",
      "p1-p2:\t nan\n",
      "z:\t nan\n",
      "pvalue:\t nan\n",
      "\n",
      "\n",
      " Party \n",
      "\n",
      "\n",
      "  Succession_Narrow  Total Transitions Total Advancements  \\\n",
      "0        KIS to KJI                 12                  0   \n",
      "1        KJI to KJU                  0                  0   \n",
      "\n",
      "   Percentage Advancements  \n",
      "0                      0.0  \n",
      "1                      NaN   \n",
      "\n",
      "x1,x2,n1,n2: [0, 0, 12, 0]\n",
      "p1:\t 0.0\n",
      "p2:\t nan\n",
      "p1-p2:\t nan\n",
      "z:\t nan\n",
      "pvalue:\t nan\n",
      "\n",
      "\n",
      " Military \n",
      "\n",
      "\n",
      "  Succession_Narrow  Total Transitions Total Advancements  \\\n",
      "0        KIS to KJI                  3                  3   \n",
      "1        KJI to KJU                  7                  7   \n",
      "\n",
      "   Percentage Advancements  \n",
      "0                    100.0  \n",
      "1                    100.0   \n",
      "\n",
      "x1,x2,n1,n2: [3, 7, 3, 7]\n",
      "p1:\t 1.0\n",
      "p2:\t 1.0\n",
      "p1-p2:\t 0.0\n",
      "z:\t nan\n",
      "pvalue:\t nan\n"
     ]
    },
    {
     "name": "stderr",
     "output_type": "stream",
     "text": [
      "C:\\Users\\seoul\\AppData\\Local\\Temp\\ipykernel_19300\\2071851454.py:5: RuntimeWarning: invalid value encountered in scalar divide\n",
      "  p2 = x2/n2\n",
      "C:\\Users\\seoul\\AppData\\Local\\Temp\\ipykernel_19300\\2071851454.py:6: RuntimeWarning: divide by zero encountered in scalar divide\n",
      "  z = (p1-p2) / math.sqrt(pstar*(1-pstar)*((1/n1) + (1/n2)))\n",
      "C:\\Users\\seoul\\AppData\\Local\\Temp\\ipykernel_19300\\2071851454.py:5: RuntimeWarning: invalid value encountered in scalar divide\n",
      "  p2 = x2/n2\n",
      "C:\\Users\\seoul\\AppData\\Local\\Temp\\ipykernel_19300\\2071851454.py:6: RuntimeWarning: divide by zero encountered in scalar divide\n",
      "  z = (p1-p2) / math.sqrt(pstar*(1-pstar)*((1/n1) + (1/n2)))\n",
      "C:\\Users\\seoul\\AppData\\Local\\Temp\\ipykernel_19300\\2071851454.py:6: RuntimeWarning: invalid value encountered in scalar multiply\n",
      "  z = (p1-p2) / math.sqrt(pstar*(1-pstar)*((1/n1) + (1/n2)))\n",
      "C:\\Users\\seoul\\AppData\\Local\\Temp\\ipykernel_19300\\2071851454.py:6: RuntimeWarning: invalid value encountered in scalar divide\n",
      "  z = (p1-p2) / math.sqrt(pstar*(1-pstar)*((1/n1) + (1/n2)))\n"
     ]
    }
   ],
   "source": [
    "ics = list(trans.InstitutionCategory_2.unique())\n",
    "for ic in ics:\n",
    "    print(\"\\n\\n\",ic,\"\\n\\n\")\n",
    "    stat4c_rows = (trans[\"InstitutionCategory_2\"]==ic) & (trans[\"PISame\"]==True) & (trans[\"OrgRankChange\"].isin([\"same\"]))\n",
    "    stat4c_columns = [\"Succession_Narrow\",\"PositionAdvanceYes\"]\n",
    "    stat4c_groupby = [\"Succession_Narrow\"]\n",
    "    stat4c_labels = [\"Succession Period\",\"Total Transitions\",\"Total Advancements\"]\n",
    "    \n",
    "    stat4c = trans.loc[stat4c_rows,stat4c_columns].groupby(stat4c_groupby,as_index=False)[\"PositionAdvanceYes\"].agg({\"Total Transitions\":\"count\",\"Total Advancements\":\"sum\"})    \n",
    "    stat4c[\"Percentage Advancements\"] = stat4c.apply(lambda x: round(x[\"Total Advancements\"] / x[\"Total Transitions\"] * 100,2) if x[\"Total Transitions\"] > 0 else np.nan,axis=1)\n",
    "   \n",
    "    print(stat4c,\"\\n\")\n",
    "    \n",
    "    x1 = stat4c.iloc[0,2]\n",
    "    x2 = stat4c.iloc[1,2]\n",
    "    n1 = stat4c.iloc[0,1]\n",
    "    n2 = stat4c.iloc[1,1]\n",
    "    \n",
    "    two_sample_ttest_proportions(x1,x2,n1,n2,.05)"
   ]
  },
  {
   "cell_type": "code",
   "execution_count": null,
   "id": "1b289fb5",
   "metadata": {},
   "outputs": [],
   "source": []
  },
  {
   "cell_type": "code",
   "execution_count": null,
   "id": "c16cfe55",
   "metadata": {},
   "outputs": [],
   "source": []
  },
  {
   "cell_type": "markdown",
   "id": "5c7f27ad",
   "metadata": {},
   "source": [
    "# Hypothesis 3a - Org Advancement, succession period = Five"
   ]
  },
  {
   "cell_type": "code",
   "execution_count": 124,
   "id": "72a34746",
   "metadata": {},
   "outputs": [
    {
     "data": {
      "text/html": [
       "<div>\n",
       "<style scoped>\n",
       "    .dataframe tbody tr th:only-of-type {\n",
       "        vertical-align: middle;\n",
       "    }\n",
       "\n",
       "    .dataframe tbody tr th {\n",
       "        vertical-align: top;\n",
       "    }\n",
       "\n",
       "    .dataframe thead th {\n",
       "        text-align: right;\n",
       "    }\n",
       "</style>\n",
       "<table border=\"1\" class=\"dataframe\">\n",
       "  <thead>\n",
       "    <tr style=\"text-align: right;\">\n",
       "      <th></th>\n",
       "      <th>Succession_Five</th>\n",
       "      <th>LeaderID</th>\n",
       "    </tr>\n",
       "  </thead>\n",
       "  <tbody>\n",
       "    <tr>\n",
       "      <th>0</th>\n",
       "      <td>KIS to KJI</td>\n",
       "      <td>29</td>\n",
       "    </tr>\n",
       "    <tr>\n",
       "      <th>1</th>\n",
       "      <td>KJI to KJU</td>\n",
       "      <td>53</td>\n",
       "    </tr>\n",
       "  </tbody>\n",
       "</table>\n",
       "</div>"
      ],
      "text/plain": [
       "  Succession_Five  LeaderID\n",
       "0      KIS to KJI        29\n",
       "1      KJI to KJU        53"
      ]
     },
     "execution_count": 124,
     "metadata": {},
     "output_type": "execute_result"
    }
   ],
   "source": [
    "select_columns = [\"Succession_Five\",\"LeaderID\"]\n",
    "select_rows = trans[\"PISame\"]==True\n",
    "group_columns = [\"Succession_Five\"]\n",
    "trans.loc[select_rows,select_columns].groupby(group_columns,as_index=False).count()"
   ]
  },
  {
   "cell_type": "code",
   "execution_count": 125,
   "id": "ef47e9d3",
   "metadata": {},
   "outputs": [],
   "source": [
    "stat4_rows = trans[\"PISame\"]==True\n",
    "stat4_columns = [\"Succession_Five\",\"OrgAdvanceYes\"]\n",
    "stat4_groupby = [\"Succession_Five\"]\n",
    "stat4_labels = [\"Succession Period\",\"Total Transitions\",\"Total Advancements\"]"
   ]
  },
  {
   "cell_type": "code",
   "execution_count": 126,
   "id": "8d510d19",
   "metadata": {
    "scrolled": true
   },
   "outputs": [
    {
     "data": {
      "text/html": [
       "<div>\n",
       "<style scoped>\n",
       "    .dataframe tbody tr th:only-of-type {\n",
       "        vertical-align: middle;\n",
       "    }\n",
       "\n",
       "    .dataframe tbody tr th {\n",
       "        vertical-align: top;\n",
       "    }\n",
       "\n",
       "    .dataframe thead th {\n",
       "        text-align: right;\n",
       "    }\n",
       "</style>\n",
       "<table border=\"1\" class=\"dataframe\">\n",
       "  <thead>\n",
       "    <tr style=\"text-align: right;\">\n",
       "      <th></th>\n",
       "      <th>Succession_Five</th>\n",
       "      <th>Total Transitions</th>\n",
       "      <th>Total Advancements</th>\n",
       "    </tr>\n",
       "  </thead>\n",
       "  <tbody>\n",
       "    <tr>\n",
       "      <th>0</th>\n",
       "      <td>KIS to KJI</td>\n",
       "      <td>29</td>\n",
       "      <td>2</td>\n",
       "    </tr>\n",
       "    <tr>\n",
       "      <th>1</th>\n",
       "      <td>KJI to KJU</td>\n",
       "      <td>53</td>\n",
       "      <td>8</td>\n",
       "    </tr>\n",
       "  </tbody>\n",
       "</table>\n",
       "</div>"
      ],
      "text/plain": [
       "  Succession_Five  Total Transitions Total Advancements\n",
       "0      KIS to KJI                 29                  2\n",
       "1      KJI to KJU                 53                  8"
      ]
     },
     "execution_count": 126,
     "metadata": {},
     "output_type": "execute_result"
    }
   ],
   "source": [
    "stat4 = trans.loc[stat4_rows,stat4_columns].groupby(stat4_groupby,as_index=False)[\"OrgAdvanceYes\"].agg({\"Total Transitions\":\"count\",\"Total Advancements\":\"sum\"})\n",
    "stat4"
   ]
  },
  {
   "cell_type": "code",
   "execution_count": 127,
   "id": "3d9a35a3",
   "metadata": {
    "scrolled": true
   },
   "outputs": [
    {
     "data": {
      "text/html": [
       "<div>\n",
       "<style scoped>\n",
       "    .dataframe tbody tr th:only-of-type {\n",
       "        vertical-align: middle;\n",
       "    }\n",
       "\n",
       "    .dataframe tbody tr th {\n",
       "        vertical-align: top;\n",
       "    }\n",
       "\n",
       "    .dataframe thead th {\n",
       "        text-align: right;\n",
       "    }\n",
       "</style>\n",
       "<table border=\"1\" class=\"dataframe\">\n",
       "  <thead>\n",
       "    <tr style=\"text-align: right;\">\n",
       "      <th></th>\n",
       "      <th>Succession_Five</th>\n",
       "      <th>Total Transitions</th>\n",
       "      <th>Total Advancements</th>\n",
       "      <th>Percentage Advancements of OrgRank</th>\n",
       "    </tr>\n",
       "  </thead>\n",
       "  <tbody>\n",
       "    <tr>\n",
       "      <th>0</th>\n",
       "      <td>KIS to KJI</td>\n",
       "      <td>29</td>\n",
       "      <td>2</td>\n",
       "      <td>6.90</td>\n",
       "    </tr>\n",
       "    <tr>\n",
       "      <th>1</th>\n",
       "      <td>KJI to KJU</td>\n",
       "      <td>53</td>\n",
       "      <td>8</td>\n",
       "      <td>15.09</td>\n",
       "    </tr>\n",
       "  </tbody>\n",
       "</table>\n",
       "</div>"
      ],
      "text/plain": [
       "  Succession_Five  Total Transitions Total Advancements  \\\n",
       "0      KIS to KJI                 29                  2   \n",
       "1      KJI to KJU                 53                  8   \n",
       "\n",
       "   Percentage Advancements of OrgRank  \n",
       "0                                6.90  \n",
       "1                               15.09  "
      ]
     },
     "execution_count": 127,
     "metadata": {},
     "output_type": "execute_result"
    }
   ],
   "source": [
    "stat4[\"Percentage Advancements of OrgRank\"] = stat4.apply(lambda x: round(x[\"Total Advancements\"] / x[\"Total Transitions\"] * 100,2) if x[\"Total Transitions\"] > 0 else np.nan,axis=1)\n",
    "stat4"
   ]
  },
  {
   "cell_type": "code",
   "execution_count": 128,
   "id": "3553d3b5",
   "metadata": {},
   "outputs": [
    {
     "name": "stdout",
     "output_type": "stream",
     "text": [
      "x1,x2,n1,n2: [25, 28, 94, 135]\n",
      "p1:\t 0.26595744680851063\n",
      "p2:\t 0.2074074074074074\n",
      "p1-p2:\t 0.05855003940110323\n",
      "z:\t 1.0334309766029885\n",
      "pvalue:\t 0.1507011281797649\n"
     ]
    }
   ],
   "source": [
    "# 2-sample test of proportions\n",
    "two_sample_ttest_proportions(25,28,94,135,.05)"
   ]
  },
  {
   "cell_type": "markdown",
   "id": "560180f4",
   "metadata": {},
   "source": [
    "# Hypothesis 3b - Position Advancement, succession period = Five"
   ]
  },
  {
   "cell_type": "code",
   "execution_count": 129,
   "id": "795b6187",
   "metadata": {},
   "outputs": [
    {
     "data": {
      "text/html": [
       "<div>\n",
       "<style scoped>\n",
       "    .dataframe tbody tr th:only-of-type {\n",
       "        vertical-align: middle;\n",
       "    }\n",
       "\n",
       "    .dataframe tbody tr th {\n",
       "        vertical-align: top;\n",
       "    }\n",
       "\n",
       "    .dataframe thead th {\n",
       "        text-align: right;\n",
       "    }\n",
       "</style>\n",
       "<table border=\"1\" class=\"dataframe\">\n",
       "  <thead>\n",
       "    <tr style=\"text-align: right;\">\n",
       "      <th></th>\n",
       "      <th>Succession_Five</th>\n",
       "      <th>LeaderID</th>\n",
       "    </tr>\n",
       "  </thead>\n",
       "  <tbody>\n",
       "    <tr>\n",
       "      <th>0</th>\n",
       "      <td>KIS to KJI</td>\n",
       "      <td>8</td>\n",
       "    </tr>\n",
       "    <tr>\n",
       "      <th>1</th>\n",
       "      <td>KJI to KJU</td>\n",
       "      <td>22</td>\n",
       "    </tr>\n",
       "  </tbody>\n",
       "</table>\n",
       "</div>"
      ],
      "text/plain": [
       "  Succession_Five  LeaderID\n",
       "0      KIS to KJI         8\n",
       "1      KJI to KJU        22"
      ]
     },
     "execution_count": 129,
     "metadata": {},
     "output_type": "execute_result"
    }
   ],
   "source": [
    "select_columns = [\"Succession_Five\",\"LeaderID\"]\n",
    "select_rows = (trans[\"PISame\"] & trans[\"OrgSame\"])==True\n",
    "group_columns = [\"Succession_Five\"]\n",
    "trans.loc[select_rows,select_columns].groupby(group_columns,as_index=False).count()"
   ]
  },
  {
   "cell_type": "code",
   "execution_count": 130,
   "id": "734f708e",
   "metadata": {},
   "outputs": [],
   "source": [
    "stat4b_rows = (trans[\"PISame\"] & trans[\"OrgSame\"])==True\n",
    "stat4b_columns = [\"Succession_Five\",\"PositionAdvanceYes\"]\n",
    "stat4b_groupby = [\"Succession_Five\"]\n",
    "stat4b_labels = [\"Succession Period\",\"Total Transitions\",\"Total Advancements\"]"
   ]
  },
  {
   "cell_type": "code",
   "execution_count": 131,
   "id": "a5a08d86",
   "metadata": {
    "scrolled": true
   },
   "outputs": [
    {
     "data": {
      "text/html": [
       "<div>\n",
       "<style scoped>\n",
       "    .dataframe tbody tr th:only-of-type {\n",
       "        vertical-align: middle;\n",
       "    }\n",
       "\n",
       "    .dataframe tbody tr th {\n",
       "        vertical-align: top;\n",
       "    }\n",
       "\n",
       "    .dataframe thead th {\n",
       "        text-align: right;\n",
       "    }\n",
       "</style>\n",
       "<table border=\"1\" class=\"dataframe\">\n",
       "  <thead>\n",
       "    <tr style=\"text-align: right;\">\n",
       "      <th></th>\n",
       "      <th>Succession_Five</th>\n",
       "      <th>Total Transitions</th>\n",
       "      <th>Total Advancements</th>\n",
       "    </tr>\n",
       "  </thead>\n",
       "  <tbody>\n",
       "    <tr>\n",
       "      <th>0</th>\n",
       "      <td>KIS to KJI</td>\n",
       "      <td>8</td>\n",
       "      <td>2</td>\n",
       "    </tr>\n",
       "    <tr>\n",
       "      <th>1</th>\n",
       "      <td>KJI to KJU</td>\n",
       "      <td>22</td>\n",
       "      <td>7</td>\n",
       "    </tr>\n",
       "  </tbody>\n",
       "</table>\n",
       "</div>"
      ],
      "text/plain": [
       "  Succession_Five  Total Transitions Total Advancements\n",
       "0      KIS to KJI                  8                  2\n",
       "1      KJI to KJU                 22                  7"
      ]
     },
     "execution_count": 131,
     "metadata": {},
     "output_type": "execute_result"
    }
   ],
   "source": [
    "stat4b = trans.loc[stat4b_rows,stat4b_columns].groupby(stat4b_groupby,as_index=False)[\"PositionAdvanceYes\"].agg({\"Total Transitions\":\"count\",\"Total Advancements\":\"sum\"})\n",
    "stat4b"
   ]
  },
  {
   "cell_type": "code",
   "execution_count": 132,
   "id": "12b1bea1",
   "metadata": {
    "scrolled": false
   },
   "outputs": [
    {
     "data": {
      "text/html": [
       "<div>\n",
       "<style scoped>\n",
       "    .dataframe tbody tr th:only-of-type {\n",
       "        vertical-align: middle;\n",
       "    }\n",
       "\n",
       "    .dataframe tbody tr th {\n",
       "        vertical-align: top;\n",
       "    }\n",
       "\n",
       "    .dataframe thead th {\n",
       "        text-align: right;\n",
       "    }\n",
       "</style>\n",
       "<table border=\"1\" class=\"dataframe\">\n",
       "  <thead>\n",
       "    <tr style=\"text-align: right;\">\n",
       "      <th></th>\n",
       "      <th>Succession_Five</th>\n",
       "      <th>Total Transitions</th>\n",
       "      <th>Total Advancements</th>\n",
       "      <th>Percentage Advancements of Position Rank</th>\n",
       "    </tr>\n",
       "  </thead>\n",
       "  <tbody>\n",
       "    <tr>\n",
       "      <th>0</th>\n",
       "      <td>KIS to KJI</td>\n",
       "      <td>8</td>\n",
       "      <td>2</td>\n",
       "      <td>25.00</td>\n",
       "    </tr>\n",
       "    <tr>\n",
       "      <th>1</th>\n",
       "      <td>KJI to KJU</td>\n",
       "      <td>22</td>\n",
       "      <td>7</td>\n",
       "      <td>31.82</td>\n",
       "    </tr>\n",
       "  </tbody>\n",
       "</table>\n",
       "</div>"
      ],
      "text/plain": [
       "  Succession_Five  Total Transitions Total Advancements  \\\n",
       "0      KIS to KJI                  8                  2   \n",
       "1      KJI to KJU                 22                  7   \n",
       "\n",
       "   Percentage Advancements of Position Rank  \n",
       "0                                     25.00  \n",
       "1                                     31.82  "
      ]
     },
     "execution_count": 132,
     "metadata": {},
     "output_type": "execute_result"
    }
   ],
   "source": [
    "stat4b[\"Percentage Advancements of Position Rank\"] = stat4b.apply(lambda x: round(x[\"Total Advancements\"] / x[\"Total Transitions\"] * 100,2) if x[\"Total Transitions\"] > 0 else np.nan,axis=1)\n",
    "stat4b"
   ]
  },
  {
   "cell_type": "code",
   "execution_count": 133,
   "id": "9a55b20d",
   "metadata": {},
   "outputs": [
    {
     "name": "stdout",
     "output_type": "stream",
     "text": [
      "x1,x2,n1,n2: [7, 11, 15, 26]\n",
      "p1:\t 0.4666666666666667\n",
      "p2:\t 0.4230769230769231\n",
      "p1-p2:\t 0.0435897435897436\n",
      "z:\t 0.2708996074187647\n",
      "pvalue:\t 0.39323412348757303\n"
     ]
    }
   ],
   "source": [
    "# 2-sample test of proportions\n",
    "two_sample_ttest_proportions(7,11,15,26,.05)"
   ]
  },
  {
   "cell_type": "markdown",
   "id": "eb85702c",
   "metadata": {},
   "source": [
    "# Hypothesis 3c - Org Advancement, succession = Five, by Institution"
   ]
  },
  {
   "cell_type": "code",
   "execution_count": 134,
   "id": "31cce1b9",
   "metadata": {},
   "outputs": [
    {
     "name": "stdout",
     "output_type": "stream",
     "text": [
      "\n",
      "\n",
      " Government \n",
      "\n",
      "\n",
      "  Succession_Five  Total Transitions Total Advancements  \\\n",
      "0      KIS to KJI                 16                  0   \n",
      "1      KJI to KJU                 37                  4   \n",
      "\n",
      "   Percentage Advancements of OrgRank  \n",
      "0                                0.00  \n",
      "1                               10.81   \n",
      "\n",
      "x1,x2,n1,n2: [0, 4, 16, 37]\n",
      "p1:\t 0.0\n",
      "p2:\t 0.10810810810810811\n",
      "p1-p2:\t -0.10810810810810811\n",
      "z:\t -1.367820220879353\n",
      "pvalue:\t 0.08568417831748354\n",
      "\n",
      "\n",
      " Social \n",
      "\n",
      "\n",
      "  Succession_Five  Total Transitions Total Advancements  \\\n",
      "0      KIS to KJI                  9                  1   \n",
      "1      KJI to KJU                  5                  0   \n",
      "\n",
      "   Percentage Advancements of OrgRank  \n",
      "0                               11.11  \n",
      "1                                0.00   \n",
      "\n",
      "x1,x2,n1,n2: [1, 0, 9, 5]\n",
      "p1:\t 0.1111111111111111\n",
      "p2:\t 0.0\n",
      "p1-p2:\t 0.1111111111111111\n",
      "z:\t 0.7734924681537618\n",
      "pvalue:\t 0.2196154922612239\n",
      "\n",
      "\n",
      " Party \n",
      "\n",
      "\n",
      "  Succession_Five  Total Transitions Total Advancements  \\\n",
      "0      KIS to KJI                  0                  0   \n",
      "1      KJI to KJU                  4                  0   \n",
      "\n",
      "   Percentage Advancements of OrgRank  \n",
      "0                                 NaN  \n",
      "1                                 0.0   \n",
      "\n",
      "x1,x2,n1,n2: [0, 0, 0, 4]\n",
      "p1:\t nan\n",
      "p2:\t 0.0\n",
      "p1-p2:\t nan\n",
      "z:\t nan\n",
      "pvalue:\t nan\n",
      "\n",
      "\n",
      " Military \n",
      "\n",
      "\n",
      "  Succession_Five  Total Transitions Total Advancements  \\\n",
      "0      KIS to KJI                  4                  1   \n",
      "1      KJI to KJU                  7                  4   \n",
      "\n",
      "   Percentage Advancements of OrgRank  \n",
      "0                               25.00  \n",
      "1                               57.14   \n",
      "\n",
      "x1,x2,n1,n2: [1, 4, 4, 7]\n",
      "p1:\t 0.25\n",
      "p2:\t 0.5714285714285714\n",
      "p1-p2:\t -0.3214285714285714\n",
      "z:\t -1.0299098434883929\n",
      "pvalue:\t 0.15152616474504144\n"
     ]
    },
    {
     "name": "stderr",
     "output_type": "stream",
     "text": [
      "C:\\Users\\seoul\\AppData\\Local\\Temp\\ipykernel_19300\\2071851454.py:4: RuntimeWarning: invalid value encountered in scalar divide\n",
      "  p1 = x1/n1\n",
      "C:\\Users\\seoul\\AppData\\Local\\Temp\\ipykernel_19300\\2071851454.py:6: RuntimeWarning: divide by zero encountered in scalar divide\n",
      "  z = (p1-p2) / math.sqrt(pstar*(1-pstar)*((1/n1) + (1/n2)))\n",
      "C:\\Users\\seoul\\AppData\\Local\\Temp\\ipykernel_19300\\2071851454.py:6: RuntimeWarning: invalid value encountered in scalar multiply\n",
      "  z = (p1-p2) / math.sqrt(pstar*(1-pstar)*((1/n1) + (1/n2)))\n"
     ]
    }
   ],
   "source": [
    "ics = list(trans.InstitutionCategory_2.unique())\n",
    "for ic in ics:\n",
    "    print(\"\\n\\n\",ic,\"\\n\\n\")\n",
    "    stat4c_rows = (trans[\"InstitutionCategory_2\"]==ic) & (trans[\"PISame\"]==True)\n",
    "    stat4c_columns = [\"Succession_Five\",\"OrgAdvanceYes\"]\n",
    "    stat4c_groupby = [\"Succession_Five\"]\n",
    "    stat4c_labels = [\"Succession Period\",\"Total Transitions\",\"Total Advancements\"]\n",
    "    \n",
    "    stat4c = trans.loc[stat4c_rows,stat4c_columns].groupby(stat4c_groupby,as_index=False)[\"OrgAdvanceYes\"].agg({\"Total Transitions\":\"count\",\"Total Advancements\":\"sum\"})    \n",
    "    stat4c[\"Percentage Advancements of OrgRank\"] = stat4c.apply(lambda x: round(x[\"Total Advancements\"] / x[\"Total Transitions\"] * 100,2) if x[\"Total Transitions\"] > 0 else np.nan,axis=1)\n",
    "   \n",
    "    print(stat4c,\"\\n\")\n",
    "    \n",
    "    p1 = stat4c.iloc[0,2]\n",
    "    p2 = stat4c.iloc[1,2]\n",
    "    n1 = stat4c.iloc[0,1]\n",
    "    n2 = stat4c.iloc[1,1]\n",
    "    \n",
    "    two_sample_ttest_proportions(p1,p2,n1,n2,.05)"
   ]
  },
  {
   "cell_type": "markdown",
   "id": "9849972a",
   "metadata": {},
   "source": [
    "# Hypothesis 3d - Position Advancement, Succession = Five, by Institution"
   ]
  },
  {
   "cell_type": "code",
   "execution_count": 135,
   "id": "2419497f",
   "metadata": {
    "scrolled": true
   },
   "outputs": [
    {
     "name": "stdout",
     "output_type": "stream",
     "text": [
      "\n",
      "\n",
      " Government \n",
      "\n",
      "\n",
      "  Succession_Five  Total Transitions Total Advancements  \\\n",
      "0      KIS to KJI                  7                  1   \n",
      "1      KJI to KJU                 19                  5   \n",
      "\n",
      "   Percentage Advancements  \n",
      "0                    14.29  \n",
      "1                    26.32   \n",
      "\n",
      "x1,x2,n1,n2: [1, 5, 7, 19]\n",
      "p1:\t 0.14285714285714285\n",
      "p2:\t 0.2631578947368421\n",
      "p1-p2:\t -0.12030075187969924\n",
      "z:\t -0.6457883604682657\n",
      "pvalue:\t 0.25920821351160406\n",
      "\n",
      "\n",
      " Social \n",
      "\n",
      "\n",
      "  Succession_Five  Total Transitions Total Advancements  \\\n",
      "0      KIS to KJI                  1               True   \n",
      "1      KJI to KJU                  1               True   \n",
      "\n",
      "   Percentage Advancements  \n",
      "0                    100.0  \n",
      "1                    100.0   \n",
      "\n",
      "x1,x2,n1,n2: [True, True, 1, 1]\n",
      "p1:\t 1.0\n",
      "p2:\t 1.0\n",
      "p1-p2:\t 0.0\n",
      "z:\t nan\n",
      "pvalue:\t nan\n",
      "\n",
      "\n",
      " Party \n",
      "\n",
      "\n",
      "  Succession_Five  Total Transitions Total Advancements  \\\n",
      "0      KIS to KJI                  0                  0   \n",
      "1      KJI to KJU                  1               True   \n",
      "\n",
      "   Percentage Advancements  \n",
      "0                      NaN  \n",
      "1                    100.0   \n",
      "\n",
      "x1,x2,n1,n2: [0, True, 0, 1]\n",
      "p1:\t nan\n",
      "p2:\t 1.0\n",
      "p1-p2:\t nan\n",
      "z:\t nan\n",
      "pvalue:\t nan\n",
      "\n",
      "\n",
      " Military \n",
      "\n",
      "\n",
      "  Succession_Five  Total Transitions Total Advancements  \\\n",
      "0      KIS to KJI                  0                  0   \n",
      "1      KJI to KJU                  1              False   \n",
      "\n",
      "   Percentage Advancements  \n",
      "0                      NaN  \n",
      "1                      0.0   \n",
      "\n",
      "x1,x2,n1,n2: [0, False, 0, 1]\n",
      "p1:\t nan\n",
      "p2:\t 0.0\n",
      "p1-p2:\t nan\n",
      "z:\t nan\n",
      "pvalue:\t nan\n"
     ]
    },
    {
     "name": "stderr",
     "output_type": "stream",
     "text": [
      "C:\\Users\\seoul\\AppData\\Local\\Temp\\ipykernel_19300\\2071851454.py:6: RuntimeWarning: invalid value encountered in scalar divide\n",
      "  z = (p1-p2) / math.sqrt(pstar*(1-pstar)*((1/n1) + (1/n2)))\n",
      "C:\\Users\\seoul\\AppData\\Local\\Temp\\ipykernel_19300\\2071851454.py:4: RuntimeWarning: invalid value encountered in scalar divide\n",
      "  p1 = x1/n1\n",
      "C:\\Users\\seoul\\AppData\\Local\\Temp\\ipykernel_19300\\2071851454.py:6: RuntimeWarning: divide by zero encountered in scalar divide\n",
      "  z = (p1-p2) / math.sqrt(pstar*(1-pstar)*((1/n1) + (1/n2)))\n",
      "C:\\Users\\seoul\\AppData\\Local\\Temp\\ipykernel_19300\\2071851454.py:6: RuntimeWarning: invalid value encountered in scalar multiply\n",
      "  z = (p1-p2) / math.sqrt(pstar*(1-pstar)*((1/n1) + (1/n2)))\n",
      "C:\\Users\\seoul\\AppData\\Local\\Temp\\ipykernel_19300\\2071851454.py:4: RuntimeWarning: invalid value encountered in scalar divide\n",
      "  p1 = x1/n1\n",
      "C:\\Users\\seoul\\AppData\\Local\\Temp\\ipykernel_19300\\2071851454.py:6: RuntimeWarning: divide by zero encountered in scalar divide\n",
      "  z = (p1-p2) / math.sqrt(pstar*(1-pstar)*((1/n1) + (1/n2)))\n",
      "C:\\Users\\seoul\\AppData\\Local\\Temp\\ipykernel_19300\\2071851454.py:6: RuntimeWarning: invalid value encountered in scalar multiply\n",
      "  z = (p1-p2) / math.sqrt(pstar*(1-pstar)*((1/n1) + (1/n2)))\n"
     ]
    }
   ],
   "source": [
    "ics = list(trans.InstitutionCategory_2.unique())\n",
    "for ic in ics:\n",
    "    print(\"\\n\\n\",ic,\"\\n\\n\")\n",
    "    stat4c_rows = (trans[\"InstitutionCategory_2\"]==ic) & (trans[\"PISame\"]==True) & (trans[\"OrgSame\"]==True)\n",
    "    stat4c_columns = [\"Succession_Five\",\"PositionAdvanceYes\"]\n",
    "    stat4c_groupby = [\"Succession_Five\"]\n",
    "    stat4c_labels = [\"Succession Period\",\"Total Transitions\",\"Total Advancements\"]\n",
    "    \n",
    "    stat4c = trans.loc[stat4c_rows,stat4c_columns].groupby(stat4c_groupby,as_index=False)[\"PositionAdvanceYes\"].agg({\"Total Transitions\":\"count\",\"Total Advancements\":\"sum\"})    \n",
    "    stat4c[\"Percentage Advancements\"] = stat4c.apply(lambda x: round(x[\"Total Advancements\"] / x[\"Total Transitions\"] * 100,2) if x[\"Total Transitions\"] > 0 else np.nan,axis=1)\n",
    "   \n",
    "    print(stat4c,\"\\n\")\n",
    "    \n",
    "    p1 = stat4c.iloc[0,2]\n",
    "    p2 = stat4c.iloc[1,2]\n",
    "    n1 = stat4c.iloc[0,1]\n",
    "    n2 = stat4c.iloc[1,1]\n",
    "    \n",
    "    two_sample_ttest_proportions(p1,p2,n1,n2,.05)"
   ]
  },
  {
   "cell_type": "code",
   "execution_count": null,
   "id": "fe6b91b3",
   "metadata": {},
   "outputs": [],
   "source": []
  }
 ],
 "metadata": {
  "kernelspec": {
   "display_name": "Python 3 (ipykernel)",
   "language": "python",
   "name": "python3"
  },
  "language_info": {
   "codemirror_mode": {
    "name": "ipython",
    "version": 3
   },
   "file_extension": ".py",
   "mimetype": "text/x-python",
   "name": "python",
   "nbconvert_exporter": "python",
   "pygments_lexer": "ipython3",
   "version": "3.11.5"
  }
 },
 "nbformat": 4,
 "nbformat_minor": 5
}
