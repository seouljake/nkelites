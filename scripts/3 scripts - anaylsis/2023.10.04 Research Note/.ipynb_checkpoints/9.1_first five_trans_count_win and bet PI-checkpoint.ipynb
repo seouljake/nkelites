{
 "cells": [
  {
   "cell_type": "code",
   "execution_count": 1,
   "id": "74698cf3",
   "metadata": {},
   "outputs": [],
   "source": [
    "import pandas as pd\n",
    "import numpy as np\n",
    "from datetime import date\n",
    "from statistics import mean, mode\n",
    "from pandas.api.types import CategoricalDtype\n",
    "import math\n",
    "from scipy.stats import norm"
   ]
  },
  {
   "cell_type": "code",
   "execution_count": 2,
   "id": "75aa1647",
   "metadata": {},
   "outputs": [
    {
     "name": "stdout",
     "output_type": "stream",
     "text": [
      "2024-01-14\n"
     ]
    }
   ],
   "source": [
    "today = date.today()\n",
    "print(today)"
   ]
  },
  {
   "cell_type": "markdown",
   "id": "aaf25c71",
   "metadata": {},
   "source": [
    "# Tables"
   ]
  },
  {
   "cell_type": "code",
   "execution_count": 3,
   "id": "f2c9c339",
   "metadata": {},
   "outputs": [],
   "source": [
    "path_tables = \"C:/Users/seoul/Dropbox/00 technical/github/nkelites/data/combined data/combined data - 2 tables/\""
   ]
  },
  {
   "cell_type": "code",
   "execution_count": 4,
   "id": "200fa7f5",
   "metadata": {},
   "outputs": [],
   "source": [
    "# tables\n",
    "filename_careerorglink = \"careerorglink.xlsx\"\n",
    "filename_leadercareerlink = \"leadercareerlink.xlsx\"\n",
    "filename_orgtree = \"orgtree.xlsx\"\n",
    "filename_elected = \"positions_elected.xlsx\""
   ]
  },
  {
   "cell_type": "code",
   "execution_count": 5,
   "id": "b7d9b165",
   "metadata": {
    "scrolled": true
   },
   "outputs": [],
   "source": [
    "# career-org link\n",
    "# col = pd.read_excel(path_tables + filename_careerorglink,dtype=\"str\")\n",
    "# col.shape"
   ]
  },
  {
   "cell_type": "code",
   "execution_count": 6,
   "id": "0bd17a8f",
   "metadata": {},
   "outputs": [],
   "source": [
    "# col.columns"
   ]
  },
  {
   "cell_type": "code",
   "execution_count": 7,
   "id": "4aa22e14",
   "metadata": {},
   "outputs": [],
   "source": [
    "# leader-career link\n",
    "# lcl = pd.read_excel(path_tables + filename_leadercareerlink,dtype=\"str\")\n",
    "# lcl.shape"
   ]
  },
  {
   "cell_type": "code",
   "execution_count": 8,
   "id": "ac0f5205",
   "metadata": {},
   "outputs": [],
   "source": [
    "# lcl.columns"
   ]
  },
  {
   "cell_type": "code",
   "execution_count": 9,
   "id": "44ba37bd",
   "metadata": {},
   "outputs": [],
   "source": [
    "# orgtree\n",
    "# org = pd.read_excel(path_tables + filename_orgtree,dtype=\"str\")\n",
    "# org.shape"
   ]
  },
  {
   "cell_type": "code",
   "execution_count": 10,
   "id": "05b6e3e8",
   "metadata": {},
   "outputs": [],
   "source": [
    "# org.columns"
   ]
  },
  {
   "cell_type": "code",
   "execution_count": 11,
   "id": "b93b05ba",
   "metadata": {},
   "outputs": [],
   "source": [
    "# elected = pd.read_excel(path_tables + filename_elected,dtype=\"str\")\n",
    "# elected.shape"
   ]
  },
  {
   "cell_type": "code",
   "execution_count": 12,
   "id": "011dfaa4",
   "metadata": {},
   "outputs": [],
   "source": [
    "# elected.columns"
   ]
  },
  {
   "cell_type": "markdown",
   "id": "52841326",
   "metadata": {},
   "source": [
    "# Queries"
   ]
  },
  {
   "cell_type": "code",
   "execution_count": 13,
   "id": "df5b44ce",
   "metadata": {},
   "outputs": [],
   "source": [
    "path_queries = \"C:/Users/seoul/Dropbox/00 technical/github/nkelites/data/combined data/combined data - 3 queries/\""
   ]
  },
  {
   "cell_type": "code",
   "execution_count": 14,
   "id": "4fa255b3",
   "metadata": {},
   "outputs": [],
   "source": [
    "filename_leaderjob_all = \"leaderjob_electUnelect_inOutgov.xlsx\"\n",
    "filename_leaderjob_no_spa = \"leaderjob_no_spa.xlsx\"\n",
    "filename_leaderjobtransition_no_spa = \"leaderjobtransition_no_spa.xlsx\""
   ]
  },
  {
   "cell_type": "code",
   "execution_count": 15,
   "id": "45955b23",
   "metadata": {},
   "outputs": [],
   "source": [
    "# leader jobs\n",
    "# ljobs_all = pd.read_excel(path_queries + filename_leaderjob_all,dtype=\"str\")\n",
    "# ljobs_all.shape"
   ]
  },
  {
   "cell_type": "code",
   "execution_count": 16,
   "id": "96354cc9",
   "metadata": {},
   "outputs": [],
   "source": [
    "# ljobs = pd.read_excel(path_queries + filename_leaderjob_no_spa,dtype=\"str\")\n",
    "# ljobs.shape"
   ]
  },
  {
   "cell_type": "code",
   "execution_count": 17,
   "id": "31cb5cd4",
   "metadata": {},
   "outputs": [
    {
     "data": {
      "text/plain": [
       "(4306, 31)"
      ]
     },
     "execution_count": 17,
     "metadata": {},
     "output_type": "execute_result"
    }
   ],
   "source": [
    "# transitions used for analysis - no SPA - no local-local\n",
    "trans = pd.read_excel(path_queries + filename_leaderjobtransition_no_spa,dtype=\"str\")\n",
    "trans.shape"
   ]
  },
  {
   "cell_type": "markdown",
   "id": "16c49e74",
   "metadata": {},
   "source": [
    "# Analysis - Research Note"
   ]
  },
  {
   "cell_type": "code",
   "execution_count": 18,
   "id": "39648498",
   "metadata": {},
   "outputs": [],
   "source": [
    "path_analysis = \"C:/Users/seoul/Dropbox/00 technical/github/nkelites/analysis/\""
   ]
  },
  {
   "cell_type": "code",
   "execution_count": 19,
   "id": "72a5cd0f",
   "metadata": {},
   "outputs": [],
   "source": [
    "# analysis sub-paths\n",
    "study0_path = \"2023.10.04 Study 0 - research note/\"\n",
    "study1_path = \"2023.10.04 Study 1 - political capital/\"\n",
    "study2_path = \"2023.10.04 Study 2 - commitment vs control/\"\n",
    "study3_path = \"2023.10.04 Study 3 - reds vs experts/\""
   ]
  },
  {
   "cell_type": "code",
   "execution_count": 20,
   "id": "27470b4e",
   "metadata": {},
   "outputs": [],
   "source": [
    "# ljobs = ljobs.astype({\"CareerStartYear\":\"int\",\"CareerStartDate\":\"int\"})\n",
    "# ljobs.dtypes"
   ]
  },
  {
   "cell_type": "markdown",
   "id": "7d59db9d",
   "metadata": {},
   "source": [
    "# Functions"
   ]
  },
  {
   "cell_type": "code",
   "execution_count": 21,
   "id": "ba5de424",
   "metadata": {},
   "outputs": [],
   "source": [
    "def merge_results(m):\n",
    "    \n",
    "    print(\"\\nMerge Results...\")\n",
    "    print(\"\")\n",
    "    print(\"\\tshape     :\",m.shape)\n",
    "    print(\"\\tleft_only :\",m[m[\"_merge\"]==\"left_only\"].shape)\n",
    "    print(\"\\tboth      :\",m[m[\"_merge\"]==\"both\"].shape)\n",
    "    print(\"\\tright_only:\",m[m[\"_merge\"]==\"right_only\"].shape)"
   ]
  },
  {
   "cell_type": "code",
   "execution_count": 22,
   "id": "d3411709",
   "metadata": {},
   "outputs": [],
   "source": [
    "# using this on (PI,OrgName) will ensure unique & non-null keys\n",
    "# using this on a larger df will ensure unique rows and non-null keys, but not unique keys\n",
    "\n",
    "def unique_non_null_rows(olddf):\n",
    "    \n",
    "    df = olddf.copy()\n",
    "    \n",
    "    \n",
    "    ### drop duplicates\n",
    "    df = df.drop_duplicates(keep=\"first\",ignore_index=True)\n",
    "\n",
    "    ### drop null rows\n",
    "    df.dropna(how=\"all\",axis=0,inplace=True)\n",
    "    \n",
    "    # drop rows with null PI\n",
    "    df = df[~(df[\"PrimaryInstitution\"].isna())]\n",
    "        \n",
    "    ### drop rows where PI contains stop words\n",
    "    stop_words_lower = [\"uncertain\",\"current\",\"deprecated\",\"please_revise\"]\n",
    "    df = df[ ~ df[\"PrimaryInstitution\"].str.lower().isin(stop_words_lower)]\n",
    "            \n",
    "\n",
    "    print(\"\\nUnique Non-null Rows...\")\n",
    "    print(\"\")\n",
    "    print(\"\\tNon-unique rows:\",olddf.shape)\n",
    "    print(\"\\tUnique rows    :\",df.shape)\n",
    "\n",
    "    ### sort\n",
    "    df = df.sort_values([\"PrimaryInstitution\",\"OrgName\"])\n",
    "    \n",
    "    return df"
   ]
  },
  {
   "cell_type": "code",
   "execution_count": 23,
   "id": "945f13c9",
   "metadata": {},
   "outputs": [],
   "source": [
    "def create_time_series(series,group_var,count_var):\n",
    "    \n",
    "    yeardist = series.groupby(group_var,as_index=False).count().sort_values(group_var)\n",
    "    \n",
    "    max_year = max(series[group_var])\n",
    "    x = pd.DataFrame({\"year\":pd.Series(range(min(yeardist[group_var].astype(int)),max(yeardist[group_var].astype(int))+1))})\n",
    "    \n",
    "    yeardist[group_var] = yeardist[group_var].astype(int,errors=\"ignore\")\n",
    "    \n",
    "    ts = x.merge(yeardist,left_on=\"year\",right_on=group_var,how=\"left\")\n",
    "    ts.loc[ts[count_var].isna(),count_var]=0\n",
    "    # merge_results(ts)\n",
    "    \n",
    "    ts_columns = [\"year\",count_var]\n",
    "    ts = ts[ts_columns]\n",
    "    \n",
    "    return ts"
   ]
  },
  {
   "cell_type": "code",
   "execution_count": 24,
   "id": "fb9d2ff8",
   "metadata": {},
   "outputs": [],
   "source": [
    "# create InstitutionCategory (English) variable InstitutionType\n",
    "\n",
    "# use with apply. e.g., \n",
    "# df[\"InstitutionCategory] = df[\"InstitutionType\"].apply(define_institution_category)\n",
    "\n",
    "def define_institution_category(PI):\n",
    "    \n",
    "    c = \"Social\"\n",
    "    \n",
    "    if PI==\"정권기관\":\n",
    "        c = \"Government\"\n",
    "    elif PI==\"노동당\":\n",
    "        c = \"Party\"\n",
    "    elif PI==\"인민군\":\n",
    "        c = \"Military\"\n",
    "        \n",
    "    return c"
   ]
  },
  {
   "cell_type": "code",
   "execution_count": 105,
   "id": "ffc5547a",
   "metadata": {},
   "outputs": [],
   "source": [
    "def two_sample_ttest_proportions(x1,x2,n1,n2,alpha):\n",
    "    \n",
    "    pstar = (x1+x2)/(n1+n2)\n",
    "    p1 = x1/n1\n",
    "    p2 = x2/n2\n",
    "    z = (p1-p2) / math.sqrt(pstar*(1-pstar)*((1/n1) + (1/n2)))\n",
    "    pvalue = 1-norm.cdf(abs(z))\n",
    "    \n",
    "    # add significance stars to result\n",
    "    stars = \"\"\n",
    "    if pvalue<.05:\n",
    "        stars = \"*\"\n",
    "    if pvalue<.01:\n",
    "        stars = \"**\"\n",
    "    if pvalue<.001:\n",
    "        stars = \"***\"\n",
    "    result = str(pvalue)+stars\n",
    "    \n",
    "    print(\"p1:\\t\",p1)\n",
    "    print(\"p2:\\t\",p2)\n",
    "    print(\"p1-p2:\\t\",(p1-p2))\n",
    "    print(\"z:\\t\",z)\n",
    "    print(\"pvalue:\\t\",result)"
   ]
  },
  {
   "cell_type": "code",
   "execution_count": 135,
   "id": "234a245b",
   "metadata": {},
   "outputs": [],
   "source": [
    "# apply two_sample_ttest_proportions across categories\n",
    "\n",
    "def ttest_by_group_variable(group_var,ics,stat,between_row,within_row,period1_col,period2_col):\n",
    "\n",
    "    print(\"\\ngrouping by: \",group_var)\n",
    "\n",
    "    for ic in ics:\n",
    "\n",
    "        print(\"\\n\\n\",ic,\"\\n\\n\")\n",
    "        \n",
    "\n",
    "        stat_ic = stat[stat[group_var]==ic]\n",
    "\n",
    "        # two-sample ttest of proportions: p(between PI trans in s1) > p(between PI trans in s2)\n",
    "        x1 = stat_ic.iloc[period1_col,between_row]\n",
    "        n1 = stat_ic.iloc[period1_col,between_row] + stat_ic.iloc[period1_col,within_row]\n",
    "        x2 = stat_ic.iloc[period2_col,between_row]\n",
    "        n2 = stat_ic.iloc[period2_col,between_row] + stat_ic.iloc[period2_col,within_row]\n",
    "        alpha = .05\n",
    "        print(x1,x2,n1,n2,alpha)\n",
    "        two_sample_ttest_proportions(x1,x2,n1,n2,alpha)"
   ]
  },
  {
   "cell_type": "markdown",
   "id": "224feffb",
   "metadata": {},
   "source": [
    "# Format & Covariates"
   ]
  },
  {
   "cell_type": "markdown",
   "id": "7178064f",
   "metadata": {},
   "source": [
    "### 0. change datatypes"
   ]
  },
  {
   "cell_type": "code",
   "execution_count": 27,
   "id": "b22117ac",
   "metadata": {},
   "outputs": [
    {
     "data": {
      "text/plain": [
       "LeaderID                   object\n",
       "CareerString_1             object\n",
       "CareerDateString_2022_1    object\n",
       "CareerStartYear_1           int32\n",
       "CareerStartMonth_1         object\n",
       "CareerStartDate_1           int32\n",
       "CareerSubstring_1          object\n",
       "InstitutionType_1          object\n",
       "PrimaryInstitution_1       object\n",
       "OrgName_1                  object\n",
       "Local_1                    object\n",
       "Position_1                 object\n",
       "IsElected_1                object\n",
       "OrgRank_1                  object\n",
       "PositionRank_1             object\n",
       "CareerString_2             object\n",
       "CareerDateString_2022_2    object\n",
       "CareerStartYear_2           int32\n",
       "CareerStartMonth_2         object\n",
       "CareerStartDate_2           int32\n",
       "CareerSubstring_2          object\n",
       "InstitutionType_2          object\n",
       "PrimaryInstitution_2       object\n",
       "OrgName_2                  object\n",
       "Local_2                    object\n",
       "Position_2                 object\n",
       "IsElected_2                object\n",
       "OrgRank_2                  object\n",
       "PositionRank_2             object\n",
       "OrgAdvance                  int32\n",
       "PositionAdvance             int32\n",
       "dtype: object"
      ]
     },
     "execution_count": 27,
     "metadata": {},
     "output_type": "execute_result"
    }
   ],
   "source": [
    "trans = trans.astype({\"OrgAdvance\":\"int\",\"PositionAdvance\":\"int\",\n",
    "                      \"CareerStartYear_1\":\"int\",\"CareerStartYear_2\":\"int\",\n",
    "                      \"CareerStartDate_1\":\"int\",\"CareerStartDate_2\":\"int\"})\n",
    "trans.dtypes"
   ]
  },
  {
   "cell_type": "markdown",
   "id": "6d0fa0f4",
   "metadata": {},
   "source": [
    "### 1. double-check exlcudes SPA jobs and local-local trans"
   ]
  },
  {
   "cell_type": "code",
   "execution_count": 28,
   "id": "93f690ba",
   "metadata": {},
   "outputs": [
    {
     "data": {
      "text/plain": [
       "Index(['LeaderID', 'CareerString_1', 'CareerDateString_2022_1',\n",
       "       'CareerStartYear_1', 'CareerStartMonth_1', 'CareerStartDate_1',\n",
       "       'CareerSubstring_1', 'InstitutionType_1', 'PrimaryInstitution_1',\n",
       "       'OrgName_1', 'Local_1', 'Position_1', 'IsElected_1', 'OrgRank_1',\n",
       "       'PositionRank_1', 'CareerString_2', 'CareerDateString_2022_2',\n",
       "       'CareerStartYear_2', 'CareerStartMonth_2', 'CareerStartDate_2',\n",
       "       'CareerSubstring_2', 'InstitutionType_2', 'PrimaryInstitution_2',\n",
       "       'OrgName_2', 'Local_2', 'Position_2', 'IsElected_2', 'OrgRank_2',\n",
       "       'PositionRank_2', 'OrgAdvance', 'PositionAdvance'],\n",
       "      dtype='object')"
      ]
     },
     "execution_count": 28,
     "metadata": {},
     "output_type": "execute_result"
    }
   ],
   "source": [
    "trans.columns"
   ]
  },
  {
   "cell_type": "code",
   "execution_count": 29,
   "id": "6ae6e6c4",
   "metadata": {},
   "outputs": [
    {
     "data": {
      "text/plain": [
       "(4306, 31)"
      ]
     },
     "execution_count": 29,
     "metadata": {},
     "output_type": "execute_result"
    }
   ],
   "source": [
    "trans.shape"
   ]
  },
  {
   "cell_type": "code",
   "execution_count": 30,
   "id": "d79f24b1",
   "metadata": {},
   "outputs": [
    {
     "data": {
      "text/plain": [
       "array(['False', 'True'], dtype=object)"
      ]
     },
     "execution_count": 30,
     "metadata": {},
     "output_type": "execute_result"
    }
   ],
   "source": [
    "trans.Local_1.unique()"
   ]
  },
  {
   "cell_type": "code",
   "execution_count": 31,
   "id": "26322931",
   "metadata": {},
   "outputs": [
    {
     "data": {
      "text/plain": [
       "(4222, 31)"
      ]
     },
     "execution_count": 31,
     "metadata": {},
     "output_type": "execute_result"
    }
   ],
   "source": [
    "# remove Local-Local ties\n",
    "trans = trans[~((trans[\"Local_1\"]==\"True\") & (trans[\"Local_2\"]==\"True\"))]\n",
    "trans.shape"
   ]
  },
  {
   "cell_type": "markdown",
   "id": "89b8005e",
   "metadata": {},
   "source": [
    "### 2. add InstitutionCategory_1, InstitutionCategory_2"
   ]
  },
  {
   "cell_type": "code",
   "execution_count": 32,
   "id": "2c23bb5d",
   "metadata": {},
   "outputs": [
    {
     "data": {
      "text/plain": [
       "array(['정권기관', '국제친선단체', '노동당', '인민군', '당외곽및사회단체_사회부문(별책)',\n",
       "       '당외곽및사회단체_사회부문', '당외곽및사회단체_체육부문', '당외곽및사회단체_정치부문', '당외곽및사회단체_대외부문',\n",
       "       '당외곽및사회단체_근로단체', '당외곽및사회단체_종교부문', '당외곽및사회단체_경제부문(별책)',\n",
       "       '당외곽및사회단체_경제부문'], dtype=object)"
      ]
     },
     "execution_count": 32,
     "metadata": {},
     "output_type": "execute_result"
    }
   ],
   "source": [
    "trans.InstitutionType_1.unique()"
   ]
  },
  {
   "cell_type": "markdown",
   "id": "85a5450f",
   "metadata": {},
   "source": [
    "### 3. PISame, OrgSame"
   ]
  },
  {
   "cell_type": "code",
   "execution_count": 33,
   "id": "fa61b250",
   "metadata": {},
   "outputs": [
    {
     "data": {
      "text/plain": [
       "Index(['LeaderID', 'CareerString_1', 'CareerDateString_2022_1',\n",
       "       'CareerStartYear_1', 'CareerStartMonth_1', 'CareerStartDate_1',\n",
       "       'CareerSubstring_1', 'InstitutionType_1', 'PrimaryInstitution_1',\n",
       "       'OrgName_1', 'Local_1', 'Position_1', 'IsElected_1', 'OrgRank_1',\n",
       "       'PositionRank_1', 'CareerString_2', 'CareerDateString_2022_2',\n",
       "       'CareerStartYear_2', 'CareerStartMonth_2', 'CareerStartDate_2',\n",
       "       'CareerSubstring_2', 'InstitutionType_2', 'PrimaryInstitution_2',\n",
       "       'OrgName_2', 'Local_2', 'Position_2', 'IsElected_2', 'OrgRank_2',\n",
       "       'PositionRank_2', 'OrgAdvance', 'PositionAdvance'],\n",
       "      dtype='object')"
      ]
     },
     "execution_count": 33,
     "metadata": {},
     "output_type": "execute_result"
    }
   ],
   "source": [
    "trans.columns"
   ]
  },
  {
   "cell_type": "code",
   "execution_count": 34,
   "id": "c948f887",
   "metadata": {},
   "outputs": [
    {
     "data": {
      "text/plain": [
       "array([False,  True])"
      ]
     },
     "execution_count": 34,
     "metadata": {},
     "output_type": "execute_result"
    }
   ],
   "source": [
    "trans[\"PISame\"] = False\n",
    "trans.loc[trans[\"PrimaryInstitution_1\"]==trans[\"PrimaryInstitution_2\"],[\"PISame\"]] = True\n",
    "trans.PISame.unique()"
   ]
  },
  {
   "cell_type": "code",
   "execution_count": 35,
   "id": "4ee35bbd",
   "metadata": {},
   "outputs": [
    {
     "data": {
      "text/plain": [
       "array([nan, True, False], dtype=object)"
      ]
     },
     "execution_count": 35,
     "metadata": {},
     "output_type": "execute_result"
    }
   ],
   "source": [
    "trans[\"OrgSame\"] = np.nan\n",
    "trans.loc[trans[\"PISame\"]==True,\"OrgSame\"] = False\n",
    "trans.loc[(trans[\"PISame\"]==True) & (trans[\"OrgName_1\"]==trans[\"OrgName_2\"]),[\"OrgSame\"]] = True\n",
    "trans.OrgSame.unique()"
   ]
  },
  {
   "cell_type": "markdown",
   "id": "2c1d7604",
   "metadata": {},
   "source": [
    "### 4. OrgRankChange, PositionRankChange"
   ]
  },
  {
   "cell_type": "code",
   "execution_count": 36,
   "id": "6d952efc",
   "metadata": {},
   "outputs": [],
   "source": [
    "trans[\"OrgRankChange\"] = np.nan"
   ]
  },
  {
   "cell_type": "code",
   "execution_count": 37,
   "id": "7b8ad44b",
   "metadata": {},
   "outputs": [],
   "source": [
    "trans.loc[trans[\"PISame\"] & (trans[\"OrgRank_1\"]>trans[\"OrgRank_2\"]),\"OrgRankChange\"] = \"lower\"\n",
    "trans.loc[trans[\"PISame\"] & (trans[\"OrgRank_1\"]==trans[\"OrgRank_2\"]),\"OrgRankChange\"] = \"same\"\n",
    "trans.loc[trans[\"PISame\"] & (trans[\"OrgRank_1\"]<trans[\"OrgRank_2\"]),\"OrgRankChange\"] = \"higher\""
   ]
  },
  {
   "cell_type": "code",
   "execution_count": 38,
   "id": "a9670361",
   "metadata": {},
   "outputs": [],
   "source": [
    "value_order = [\"lower\",\"same\",\"higher\"]\n",
    "trans.OrgRankChange = trans.OrgRankChange.astype(\"category\")\n",
    "trans.OrgRankChange = trans.OrgRankChange.cat.set_categories(value_order)"
   ]
  },
  {
   "cell_type": "code",
   "execution_count": 39,
   "id": "f6419f47",
   "metadata": {},
   "outputs": [
    {
     "data": {
      "text/plain": [
       "[NaN, 'same', 'higher', 'lower']\n",
       "Categories (3, object): ['lower', 'same', 'higher']"
      ]
     },
     "execution_count": 39,
     "metadata": {},
     "output_type": "execute_result"
    }
   ],
   "source": [
    "trans.OrgRankChange.unique()"
   ]
  },
  {
   "cell_type": "code",
   "execution_count": 40,
   "id": "2a902ad9",
   "metadata": {},
   "outputs": [],
   "source": [
    "trans[\"PositionRankChange\"] = np.nan"
   ]
  },
  {
   "cell_type": "code",
   "execution_count": 41,
   "id": "8aef237c",
   "metadata": {},
   "outputs": [],
   "source": [
    "trans.loc[trans[\"OrgSame\"] & (trans[\"PositionRank_1\"]>trans[\"PositionRank_2\"]),\"PositionRankChange\"] = \"lower\"\n",
    "trans.loc[trans[\"OrgSame\"] & (trans[\"PositionRank_1\"]==trans[\"PositionRank_2\"]),\"PositionRankChange\"] = \"same\"\n",
    "trans.loc[trans[\"OrgSame\"] & (trans[\"PositionRank_1\"]<trans[\"PositionRank_2\"]),\"PositionRankChange\"] = \"higher\""
   ]
  },
  {
   "cell_type": "code",
   "execution_count": 42,
   "id": "5e716cc8",
   "metadata": {},
   "outputs": [],
   "source": [
    "value_order = [\"lower\",\"same\",\"higher\"]\n",
    "trans.PositionRankChange = trans.PositionRankChange.astype(\"category\")\n",
    "trans.PositionRankChange = trans.PositionRankChange.cat.set_categories(value_order)"
   ]
  },
  {
   "cell_type": "code",
   "execution_count": 43,
   "id": "404e6562",
   "metadata": {},
   "outputs": [
    {
     "data": {
      "text/plain": [
       "[NaN, 'same', 'lower', 'higher']\n",
       "Categories (3, object): ['lower', 'same', 'higher']"
      ]
     },
     "execution_count": 43,
     "metadata": {},
     "output_type": "execute_result"
    }
   ],
   "source": [
    "trans.PositionRankChange.unique()"
   ]
  },
  {
   "cell_type": "markdown",
   "id": "b9d6f5ef",
   "metadata": {},
   "source": [
    "### 5. Succession Period - Broad\n",
    "\n",
    "* KIS-->KJI: 1974-1993 - less institutionalized (stronger intra)\n",
    "* KJI--->KJU:  2002-2011 - more institutionalized (stronger inter)\n",
    "\n",
    "* KISlate: 1974-1993 - succession\n",
    "* KJIearly: 1994-2001 - non-succession\n",
    "* KJIlate: 2002-2011 - succession\n",
    "* KJUearly: 2011-2018 - X \n",
    "\n",
    "* s1 vs s2: KISlate vs KJIlate\n",
    "\n",
    "* succession vs non-succession\n",
    "    * succession: KISlate, KJIlate\n",
    "    * non-succession: KJIearly (1994-2001)"
   ]
  },
  {
   "cell_type": "code",
   "execution_count": 44,
   "id": "85574772",
   "metadata": {},
   "outputs": [],
   "source": [
    "trans[\"Succession_Broad\"] = np.nan"
   ]
  },
  {
   "cell_type": "code",
   "execution_count": 45,
   "id": "4e61e921",
   "metadata": {},
   "outputs": [],
   "source": [
    "value_order = [\"KIS to KJI\",\"KJI to KJU\"]\n",
    "trans.Succession_Broad = trans.Succession_Broad.astype(\"category\")\n",
    "trans.Succession_Broad = trans.Succession_Broad.cat.set_categories(value_order)"
   ]
  },
  {
   "cell_type": "code",
   "execution_count": 46,
   "id": "4b01e6b8",
   "metadata": {},
   "outputs": [],
   "source": [
    "trans.loc[(trans[\"CareerStartYear_2\"]>1973) & (trans[\"CareerStartYear_2\"]<1994),\"Succession_Broad\"] = \"KIS to KJI\"\n",
    "trans.loc[(trans[\"CareerStartYear_2\"]>2001) & (trans[\"CareerStartYear_2\"]<2012),\"Succession_Broad\"] = \"KJI to KJU\""
   ]
  },
  {
   "cell_type": "code",
   "execution_count": 47,
   "id": "99b41611",
   "metadata": {},
   "outputs": [
    {
     "data": {
      "text/html": [
       "<div>\n",
       "<style scoped>\n",
       "    .dataframe tbody tr th:only-of-type {\n",
       "        vertical-align: middle;\n",
       "    }\n",
       "\n",
       "    .dataframe tbody tr th {\n",
       "        vertical-align: top;\n",
       "    }\n",
       "\n",
       "    .dataframe thead th {\n",
       "        text-align: right;\n",
       "    }\n",
       "</style>\n",
       "<table border=\"1\" class=\"dataframe\">\n",
       "  <thead>\n",
       "    <tr style=\"text-align: right;\">\n",
       "      <th></th>\n",
       "      <th>Succession_Broad</th>\n",
       "      <th>OrgName_2</th>\n",
       "    </tr>\n",
       "  </thead>\n",
       "  <tbody>\n",
       "    <tr>\n",
       "      <th>0</th>\n",
       "      <td>KIS to KJI</td>\n",
       "      <td>674</td>\n",
       "    </tr>\n",
       "    <tr>\n",
       "      <th>1</th>\n",
       "      <td>KJI to KJU</td>\n",
       "      <td>648</td>\n",
       "    </tr>\n",
       "  </tbody>\n",
       "</table>\n",
       "</div>"
      ],
      "text/plain": [
       "  Succession_Broad  OrgName_2\n",
       "0       KIS to KJI        674\n",
       "1       KJI to KJU        648"
      ]
     },
     "execution_count": 47,
     "metadata": {},
     "output_type": "execute_result"
    }
   ],
   "source": [
    "trans[[\"Succession_Broad\",\"OrgName_2\"]].groupby(\"Succession_Broad\",as_index=False).count()"
   ]
  },
  {
   "cell_type": "code",
   "execution_count": 48,
   "id": "2a42e205",
   "metadata": {},
   "outputs": [
    {
     "data": {
      "text/plain": [
       "34      1977\n",
       "35      1977\n",
       "36      1979\n",
       "37      1980\n",
       "38      1982\n",
       "        ... \n",
       "3805    1980\n",
       "3934    1993\n",
       "4285    1977\n",
       "4286    1980\n",
       "4287    1990\n",
       "Name: CareerStartYear_2, Length: 1006, dtype: int32"
      ]
     },
     "execution_count": 48,
     "metadata": {},
     "output_type": "execute_result"
    }
   ],
   "source": [
    "trans.loc[trans[\"Succession_Broad\"]==\"KIS to KJI\",\"CareerStartYear_2\"]"
   ]
  },
  {
   "cell_type": "markdown",
   "id": "6bd80638",
   "metadata": {},
   "source": [
    "### 6. Succession Period - Narrow\n",
    "\n",
    "#### Esther's periodization\n",
    "* KIS-->KJI: 1987-1994 - less institutionalized (stronger intra)\n",
    "* KJI--->KJU:  2009-2011 - more institutionalized (stronger inter)"
   ]
  },
  {
   "cell_type": "code",
   "execution_count": 49,
   "id": "c304d6bb",
   "metadata": {},
   "outputs": [],
   "source": [
    "trans[\"Succession_Narrow\"] = np.nan"
   ]
  },
  {
   "cell_type": "code",
   "execution_count": 50,
   "id": "5b98cedb",
   "metadata": {},
   "outputs": [],
   "source": [
    "value_order = [\"KIS to KJI\",\"KJI to KJU\"]\n",
    "trans.Succession_Narrow = trans.Succession_Narrow.astype(\"category\")\n",
    "trans.Succession_Narrow = trans.Succession_Narrow.cat.set_categories(value_order)"
   ]
  },
  {
   "cell_type": "code",
   "execution_count": 51,
   "id": "f68822a7",
   "metadata": {},
   "outputs": [],
   "source": [
    "### Esther's periodization\n",
    "\n",
    "trans.loc[(trans[\"CareerStartYear_2\"]>1986) & (trans[\"CareerStartYear_2\"]<1995),\"Succession_Narrow\"] = \"KIS to KJI\"\n",
    "trans.loc[(trans[\"CareerStartYear_2\"]>2008) & (trans[\"CareerStartYear_2\"]<2012),\"Succession_Narrow\"] = \"KJI to KJU\""
   ]
  },
  {
   "cell_type": "code",
   "execution_count": 52,
   "id": "0cff7789",
   "metadata": {
    "scrolled": false
   },
   "outputs": [
    {
     "data": {
      "text/html": [
       "<div>\n",
       "<style scoped>\n",
       "    .dataframe tbody tr th:only-of-type {\n",
       "        vertical-align: middle;\n",
       "    }\n",
       "\n",
       "    .dataframe tbody tr th {\n",
       "        vertical-align: top;\n",
       "    }\n",
       "\n",
       "    .dataframe thead th {\n",
       "        text-align: right;\n",
       "    }\n",
       "</style>\n",
       "<table border=\"1\" class=\"dataframe\">\n",
       "  <thead>\n",
       "    <tr style=\"text-align: right;\">\n",
       "      <th></th>\n",
       "      <th>Succession_Narrow</th>\n",
       "      <th>OrgName_2</th>\n",
       "    </tr>\n",
       "  </thead>\n",
       "  <tbody>\n",
       "    <tr>\n",
       "      <th>0</th>\n",
       "      <td>KIS to KJI</td>\n",
       "      <td>323</td>\n",
       "    </tr>\n",
       "    <tr>\n",
       "      <th>1</th>\n",
       "      <td>KJI to KJU</td>\n",
       "      <td>383</td>\n",
       "    </tr>\n",
       "  </tbody>\n",
       "</table>\n",
       "</div>"
      ],
      "text/plain": [
       "  Succession_Narrow  OrgName_2\n",
       "0        KIS to KJI        323\n",
       "1        KJI to KJU        383"
      ]
     },
     "execution_count": 52,
     "metadata": {},
     "output_type": "execute_result"
    }
   ],
   "source": [
    "trans[[\"Succession_Narrow\",\"OrgName_2\"]].groupby(\"Succession_Narrow\",as_index=False).count()"
   ]
  },
  {
   "cell_type": "markdown",
   "id": "643ed226",
   "metadata": {},
   "source": [
    "### 7. OrgAdvanceYes"
   ]
  },
  {
   "cell_type": "code",
   "execution_count": 53,
   "id": "3f8ba5c4",
   "metadata": {},
   "outputs": [],
   "source": [
    "trans[\"OrgAdvanceYes\"] = np.nan"
   ]
  },
  {
   "cell_type": "code",
   "execution_count": 54,
   "id": "0619d3cd",
   "metadata": {},
   "outputs": [],
   "source": [
    "trans.loc[trans[\"PISame\"]==True,\"OrgAdvanceYes\"] = False\n",
    "trans.loc[trans[\"PISame\"]==True & (trans[\"OrgRank_1\"]>trans[\"OrgRank_2\"]),\"OrgAdvanceYes\"] = True"
   ]
  },
  {
   "cell_type": "markdown",
   "id": "600161bf",
   "metadata": {},
   "source": [
    "### 8. PositionAdvanceYes"
   ]
  },
  {
   "cell_type": "code",
   "execution_count": 55,
   "id": "e3cec35f",
   "metadata": {},
   "outputs": [],
   "source": [
    "trans[\"PositionAdvanceYes\"] = np.nan"
   ]
  },
  {
   "cell_type": "code",
   "execution_count": 56,
   "id": "83dcc4a2",
   "metadata": {},
   "outputs": [],
   "source": [
    "trans.loc[trans[\"OrgSame\"]==True,\"PositionAdvanceYes\"] = False\n",
    "trans.loc[trans[\"OrgSame\"]==True & (trans[\"PositionRank_1\"]>trans[\"PositionRank_2\"]),\"PositionAdvanceYes\"] = True"
   ]
  },
  {
   "cell_type": "markdown",
   "id": "e30c43d6",
   "metadata": {},
   "source": [
    "### 9. InstitutionCategory"
   ]
  },
  {
   "cell_type": "code",
   "execution_count": 57,
   "id": "41b7f5f4",
   "metadata": {},
   "outputs": [
    {
     "data": {
      "text/plain": [
       "Index(['LeaderID', 'CareerString_1', 'CareerDateString_2022_1',\n",
       "       'CareerStartYear_1', 'CareerStartMonth_1', 'CareerStartDate_1',\n",
       "       'CareerSubstring_1', 'InstitutionType_1', 'PrimaryInstitution_1',\n",
       "       'OrgName_1', 'Local_1', 'Position_1', 'IsElected_1', 'OrgRank_1',\n",
       "       'PositionRank_1', 'CareerString_2', 'CareerDateString_2022_2',\n",
       "       'CareerStartYear_2', 'CareerStartMonth_2', 'CareerStartDate_2',\n",
       "       'CareerSubstring_2', 'InstitutionType_2', 'PrimaryInstitution_2',\n",
       "       'OrgName_2', 'Local_2', 'Position_2', 'IsElected_2', 'OrgRank_2',\n",
       "       'PositionRank_2', 'OrgAdvance', 'PositionAdvance', 'PISame', 'OrgSame',\n",
       "       'OrgRankChange', 'PositionRankChange', 'Succession_Broad',\n",
       "       'Succession_Narrow', 'OrgAdvanceYes', 'PositionAdvanceYes'],\n",
       "      dtype='object')"
      ]
     },
     "execution_count": 57,
     "metadata": {},
     "output_type": "execute_result"
    }
   ],
   "source": [
    "trans.columns"
   ]
  },
  {
   "cell_type": "code",
   "execution_count": 58,
   "id": "3e2cb6fe",
   "metadata": {},
   "outputs": [],
   "source": [
    "trans[\"InstitutionCategory_1\"] = trans[\"InstitutionType_1\"].apply(define_institution_category)\n",
    "trans[\"InstitutionCategory_2\"] = trans[\"InstitutionType_2\"].apply(define_institution_category)"
   ]
  },
  {
   "cell_type": "markdown",
   "id": "be34784d",
   "metadata": {},
   "source": [
    "### 10. InstitutionCategorySame"
   ]
  },
  {
   "cell_type": "code",
   "execution_count": 59,
   "id": "d77928d7",
   "metadata": {},
   "outputs": [],
   "source": [
    "trans[\"InstitutionCategorySame\"] = trans[\"InstitutionCategory_1\"] == trans[\"InstitutionCategory_2\"]"
   ]
  },
  {
   "cell_type": "markdown",
   "id": "9ba34124",
   "metadata": {},
   "source": [
    "### 11. Succession_Five\n",
    "\n",
    "#### Jacob's periodization\n",
    "* KIS-->KJI: 1994-1999 - less institutionalized (stronger intra)\n",
    "* KJI--->KJU:  2011-2016 - more institutionalized (stronger inter)"
   ]
  },
  {
   "cell_type": "code",
   "execution_count": 60,
   "id": "ad809163",
   "metadata": {},
   "outputs": [],
   "source": [
    "trans[\"Succession_Five\"] = np.nan"
   ]
  },
  {
   "cell_type": "code",
   "execution_count": 61,
   "id": "675c0e3d",
   "metadata": {},
   "outputs": [],
   "source": [
    "value_order = [\"KIS to KJI\",\"KJI to KJU\"]\n",
    "trans.Succession_Five = trans.Succession_Five.astype(\"category\")\n",
    "trans.Succession_Five = trans.Succession_Five.cat.set_categories(value_order)"
   ]
  },
  {
   "cell_type": "code",
   "execution_count": 62,
   "id": "64a18561",
   "metadata": {},
   "outputs": [],
   "source": [
    "### Jacob's periodization\n",
    "\n",
    "trans.loc[(trans[\"CareerStartYear_2\"]>1993) & (trans[\"CareerStartYear_2\"]<2000),\"Succession_Five\"] = \"KIS to KJI\"\n",
    "trans.loc[(trans[\"CareerStartYear_2\"]>2010) & (trans[\"CareerStartYear_2\"]<2016),\"Succession_Five\"] = \"KJI to KJU\""
   ]
  },
  {
   "cell_type": "code",
   "execution_count": 63,
   "id": "24e9b26a",
   "metadata": {},
   "outputs": [
    {
     "data": {
      "text/html": [
       "<div>\n",
       "<style scoped>\n",
       "    .dataframe tbody tr th:only-of-type {\n",
       "        vertical-align: middle;\n",
       "    }\n",
       "\n",
       "    .dataframe tbody tr th {\n",
       "        vertical-align: top;\n",
       "    }\n",
       "\n",
       "    .dataframe thead th {\n",
       "        text-align: right;\n",
       "    }\n",
       "</style>\n",
       "<table border=\"1\" class=\"dataframe\">\n",
       "  <thead>\n",
       "    <tr style=\"text-align: right;\">\n",
       "      <th></th>\n",
       "      <th>Succession_Five</th>\n",
       "      <th>OrgName_2</th>\n",
       "    </tr>\n",
       "  </thead>\n",
       "  <tbody>\n",
       "    <tr>\n",
       "      <th>0</th>\n",
       "      <td>KIS to KJI</td>\n",
       "      <td>229</td>\n",
       "    </tr>\n",
       "    <tr>\n",
       "      <th>1</th>\n",
       "      <td>KJI to KJU</td>\n",
       "      <td>229</td>\n",
       "    </tr>\n",
       "  </tbody>\n",
       "</table>\n",
       "</div>"
      ],
      "text/plain": [
       "  Succession_Five  OrgName_2\n",
       "0      KIS to KJI        229\n",
       "1      KJI to KJU        229"
      ]
     },
     "execution_count": 63,
     "metadata": {},
     "output_type": "execute_result"
    }
   ],
   "source": [
    "trans[[\"Succession_Five\",\"OrgName_2\"]].groupby(\"Succession_Five\",as_index=False).count()"
   ]
  },
  {
   "cell_type": "markdown",
   "id": "6f0078dd",
   "metadata": {},
   "source": [
    "### 12. IsSuccession_Five"
   ]
  },
  {
   "cell_type": "code",
   "execution_count": 70,
   "id": "91833648",
   "metadata": {},
   "outputs": [],
   "source": [
    "trans[\"IsSuccession_Five\"] = False"
   ]
  },
  {
   "cell_type": "code",
   "execution_count": 71,
   "id": "e612081e",
   "metadata": {},
   "outputs": [],
   "source": [
    "trans.loc[~trans.Succession_Five.isna(),\"IsSuccession_Five\"] = True"
   ]
  },
  {
   "cell_type": "code",
   "execution_count": 72,
   "id": "c33af98c",
   "metadata": {},
   "outputs": [
    {
     "data": {
      "text/html": [
       "<div>\n",
       "<style scoped>\n",
       "    .dataframe tbody tr th:only-of-type {\n",
       "        vertical-align: middle;\n",
       "    }\n",
       "\n",
       "    .dataframe tbody tr th {\n",
       "        vertical-align: top;\n",
       "    }\n",
       "\n",
       "    .dataframe thead th {\n",
       "        text-align: right;\n",
       "    }\n",
       "</style>\n",
       "<table border=\"1\" class=\"dataframe\">\n",
       "  <thead>\n",
       "    <tr style=\"text-align: right;\">\n",
       "      <th></th>\n",
       "      <th>IsSuccession_Five</th>\n",
       "      <th>OrgName_2</th>\n",
       "    </tr>\n",
       "  </thead>\n",
       "  <tbody>\n",
       "    <tr>\n",
       "      <th>0</th>\n",
       "      <td>False</td>\n",
       "      <td>2470</td>\n",
       "    </tr>\n",
       "    <tr>\n",
       "      <th>1</th>\n",
       "      <td>True</td>\n",
       "      <td>458</td>\n",
       "    </tr>\n",
       "  </tbody>\n",
       "</table>\n",
       "</div>"
      ],
      "text/plain": [
       "   IsSuccession_Five  OrgName_2\n",
       "0              False       2470\n",
       "1               True        458"
      ]
     },
     "execution_count": 72,
     "metadata": {},
     "output_type": "execute_result"
    }
   ],
   "source": [
    "trans[[\"IsSuccession_Five\",\"OrgName_2\"]].groupby(\"IsSuccession_Five\",as_index=False).count()"
   ]
  },
  {
   "cell_type": "code",
   "execution_count": null,
   "id": "ce96b9ba",
   "metadata": {},
   "outputs": [],
   "source": [
    "### 13. Regime X First_Five Variables"
   ]
  },
  {
   "cell_type": "code",
   "execution_count": 95,
   "id": "de152204",
   "metadata": {},
   "outputs": [],
   "source": [
    "trans[\"Regime\"] = np.nan\n",
    "trans[\"First_Five\"] = np.nan"
   ]
  },
  {
   "cell_type": "code",
   "execution_count": 96,
   "id": "a2f818eb",
   "metadata": {},
   "outputs": [],
   "source": [
    "### Regime periodization\n",
    "\n",
    "trans.loc[(trans[\"CareerStartYear_2\"]>1993) & (trans[\"CareerStartYear_2\"]<2012),\"Regime\"] = \"KJI\"\n",
    "trans.loc[trans[\"CareerStartYear_2\"]>2011,\"Regime\"] = \"KJU\""
   ]
  },
  {
   "cell_type": "code",
   "execution_count": 97,
   "id": "94f38c42",
   "metadata": {},
   "outputs": [],
   "source": [
    "### First_Five periodization\n",
    "\n",
    "trans.loc[(trans[\"CareerStartYear_2\"]>1993) & (trans[\"CareerStartYear_2\"]<2000),\"First_Five\"] = True\n",
    "trans.loc[(trans[\"CareerStartYear_2\"]>2010) & (trans[\"CareerStartYear_2\"]<2016),\"First_Five\"] = True"
   ]
  },
  {
   "cell_type": "code",
   "execution_count": 98,
   "id": "ca3553d4",
   "metadata": {},
   "outputs": [],
   "source": [
    "trans.loc[(~trans[\"Regime\"].isna() & trans[\"First_Five\"].isna()),\"First_Five\"] = False"
   ]
  },
  {
   "cell_type": "code",
   "execution_count": 99,
   "id": "e91b6529",
   "metadata": {},
   "outputs": [
    {
     "data": {
      "text/html": [
       "<div>\n",
       "<style scoped>\n",
       "    .dataframe tbody tr th:only-of-type {\n",
       "        vertical-align: middle;\n",
       "    }\n",
       "\n",
       "    .dataframe tbody tr th {\n",
       "        vertical-align: top;\n",
       "    }\n",
       "\n",
       "    .dataframe thead th {\n",
       "        text-align: right;\n",
       "    }\n",
       "</style>\n",
       "<table border=\"1\" class=\"dataframe\">\n",
       "  <thead>\n",
       "    <tr style=\"text-align: right;\">\n",
       "      <th></th>\n",
       "      <th></th>\n",
       "      <th>LeaderID</th>\n",
       "      <th>CareerString_1</th>\n",
       "      <th>CareerDateString_2022_1</th>\n",
       "      <th>CareerStartYear_1</th>\n",
       "      <th>CareerStartMonth_1</th>\n",
       "      <th>CareerStartDate_1</th>\n",
       "      <th>CareerSubstring_1</th>\n",
       "      <th>InstitutionType_1</th>\n",
       "      <th>PrimaryInstitution_1</th>\n",
       "      <th>OrgName_1</th>\n",
       "      <th>...</th>\n",
       "      <th>Succession_Narrow</th>\n",
       "      <th>OrgAdvanceYes</th>\n",
       "      <th>PositionAdvanceYes</th>\n",
       "      <th>InstitutionCategory_1</th>\n",
       "      <th>InstitutionCategory_2</th>\n",
       "      <th>InstitutionCategorySame</th>\n",
       "      <th>Succession_Five</th>\n",
       "      <th>Succession_Non</th>\n",
       "      <th>IsSuccession_Five</th>\n",
       "      <th>Three_Periods</th>\n",
       "    </tr>\n",
       "    <tr>\n",
       "      <th>Regime</th>\n",
       "      <th>First_Five</th>\n",
       "      <th></th>\n",
       "      <th></th>\n",
       "      <th></th>\n",
       "      <th></th>\n",
       "      <th></th>\n",
       "      <th></th>\n",
       "      <th></th>\n",
       "      <th></th>\n",
       "      <th></th>\n",
       "      <th></th>\n",
       "      <th></th>\n",
       "      <th></th>\n",
       "      <th></th>\n",
       "      <th></th>\n",
       "      <th></th>\n",
       "      <th></th>\n",
       "      <th></th>\n",
       "      <th></th>\n",
       "      <th></th>\n",
       "      <th></th>\n",
       "      <th></th>\n",
       "    </tr>\n",
       "  </thead>\n",
       "  <tbody>\n",
       "    <tr>\n",
       "      <th rowspan=\"2\" valign=\"top\">KJI</th>\n",
       "      <th>False</th>\n",
       "      <td>1055</td>\n",
       "      <td>1055</td>\n",
       "      <td>203</td>\n",
       "      <td>1055</td>\n",
       "      <td>945</td>\n",
       "      <td>1055</td>\n",
       "      <td>181</td>\n",
       "      <td>1055</td>\n",
       "      <td>1055</td>\n",
       "      <td>631</td>\n",
       "      <td>...</td>\n",
       "      <td>472</td>\n",
       "      <td>891</td>\n",
       "      <td>298</td>\n",
       "      <td>1055</td>\n",
       "      <td>1055</td>\n",
       "      <td>1055</td>\n",
       "      <td>0</td>\n",
       "      <td>1055</td>\n",
       "      <td>1055</td>\n",
       "      <td>0</td>\n",
       "    </tr>\n",
       "    <tr>\n",
       "      <th>True</th>\n",
       "      <td>429</td>\n",
       "      <td>429</td>\n",
       "      <td>78</td>\n",
       "      <td>429</td>\n",
       "      <td>402</td>\n",
       "      <td>429</td>\n",
       "      <td>84</td>\n",
       "      <td>429</td>\n",
       "      <td>429</td>\n",
       "      <td>288</td>\n",
       "      <td>...</td>\n",
       "      <td>104</td>\n",
       "      <td>323</td>\n",
       "      <td>71</td>\n",
       "      <td>429</td>\n",
       "      <td>429</td>\n",
       "      <td>429</td>\n",
       "      <td>429</td>\n",
       "      <td>429</td>\n",
       "      <td>429</td>\n",
       "      <td>429</td>\n",
       "    </tr>\n",
       "    <tr>\n",
       "      <th rowspan=\"2\" valign=\"top\">KJU</th>\n",
       "      <th>False</th>\n",
       "      <td>927</td>\n",
       "      <td>927</td>\n",
       "      <td>802</td>\n",
       "      <td>927</td>\n",
       "      <td>887</td>\n",
       "      <td>927</td>\n",
       "      <td>292</td>\n",
       "      <td>927</td>\n",
       "      <td>927</td>\n",
       "      <td>736</td>\n",
       "      <td>...</td>\n",
       "      <td>0</td>\n",
       "      <td>790</td>\n",
       "      <td>346</td>\n",
       "      <td>927</td>\n",
       "      <td>927</td>\n",
       "      <td>927</td>\n",
       "      <td>0</td>\n",
       "      <td>927</td>\n",
       "      <td>927</td>\n",
       "      <td>0</td>\n",
       "    </tr>\n",
       "    <tr>\n",
       "      <th>True</th>\n",
       "      <td>346</td>\n",
       "      <td>346</td>\n",
       "      <td>140</td>\n",
       "      <td>346</td>\n",
       "      <td>319</td>\n",
       "      <td>346</td>\n",
       "      <td>104</td>\n",
       "      <td>346</td>\n",
       "      <td>346</td>\n",
       "      <td>254</td>\n",
       "      <td>...</td>\n",
       "      <td>0</td>\n",
       "      <td>255</td>\n",
       "      <td>75</td>\n",
       "      <td>346</td>\n",
       "      <td>346</td>\n",
       "      <td>346</td>\n",
       "      <td>346</td>\n",
       "      <td>346</td>\n",
       "      <td>346</td>\n",
       "      <td>346</td>\n",
       "    </tr>\n",
       "  </tbody>\n",
       "</table>\n",
       "<p>4 rows × 46 columns</p>\n",
       "</div>"
      ],
      "text/plain": [
       "                   LeaderID  CareerString_1  CareerDateString_2022_1  \\\n",
       "Regime First_Five                                                      \n",
       "KJI    False           1055            1055                      203   \n",
       "       True             429             429                       78   \n",
       "KJU    False            927             927                      802   \n",
       "       True             346             346                      140   \n",
       "\n",
       "                   CareerStartYear_1  CareerStartMonth_1  CareerStartDate_1  \\\n",
       "Regime First_Five                                                             \n",
       "KJI    False                    1055                 945               1055   \n",
       "       True                      429                 402                429   \n",
       "KJU    False                     927                 887                927   \n",
       "       True                      346                 319                346   \n",
       "\n",
       "                   CareerSubstring_1  InstitutionType_1  PrimaryInstitution_1  \\\n",
       "Regime First_Five                                                               \n",
       "KJI    False                     181               1055                  1055   \n",
       "       True                       84                429                   429   \n",
       "KJU    False                     292                927                   927   \n",
       "       True                      104                346                   346   \n",
       "\n",
       "                   OrgName_1  ...  Succession_Narrow  OrgAdvanceYes  \\\n",
       "Regime First_Five             ...                                     \n",
       "KJI    False             631  ...                472            891   \n",
       "       True              288  ...                104            323   \n",
       "KJU    False             736  ...                  0            790   \n",
       "       True              254  ...                  0            255   \n",
       "\n",
       "                   PositionAdvanceYes  InstitutionCategory_1  \\\n",
       "Regime First_Five                                              \n",
       "KJI    False                      298                   1055   \n",
       "       True                        71                    429   \n",
       "KJU    False                      346                    927   \n",
       "       True                        75                    346   \n",
       "\n",
       "                   InstitutionCategory_2  InstitutionCategorySame  \\\n",
       "Regime First_Five                                                   \n",
       "KJI    False                        1055                     1055   \n",
       "       True                          429                      429   \n",
       "KJU    False                         927                      927   \n",
       "       True                          346                      346   \n",
       "\n",
       "                   Succession_Five  Succession_Non  IsSuccession_Five  \\\n",
       "Regime First_Five                                                       \n",
       "KJI    False                     0            1055               1055   \n",
       "       True                    429             429                429   \n",
       "KJU    False                     0             927                927   \n",
       "       True                    346             346                346   \n",
       "\n",
       "                   Three_Periods  \n",
       "Regime First_Five                 \n",
       "KJI    False                   0  \n",
       "       True                  429  \n",
       "KJU    False                   0  \n",
       "       True                  346  \n",
       "\n",
       "[4 rows x 46 columns]"
      ]
     },
     "execution_count": 99,
     "metadata": {},
     "output_type": "execute_result"
    }
   ],
   "source": [
    "trans.groupby([\"Regime\",\"First_Five\"]).count()"
   ]
  },
  {
   "cell_type": "markdown",
   "id": "59d8c7d3",
   "metadata": {},
   "source": [
    "# Hypotheses 1. First Five: trans count, within & between PI"
   ]
  },
  {
   "cell_type": "markdown",
   "id": "dbffbf00",
   "metadata": {},
   "source": [
    "### 1. First_Five trans count (within & between PI)"
   ]
  },
  {
   "cell_type": "code",
   "execution_count": 100,
   "id": "5984c9c3",
   "metadata": {},
   "outputs": [],
   "source": [
    "stat1_columns = [\"PISame\",\"First_Five\",\"OrgName_2\"]\n",
    "stat1_groupby_columns = [\"First_Five\",\"PISame\"]"
   ]
  },
  {
   "cell_type": "code",
   "execution_count": 101,
   "id": "99912b0d",
   "metadata": {},
   "outputs": [
    {
     "data": {
      "text/html": [
       "<div>\n",
       "<style scoped>\n",
       "    .dataframe tbody tr th:only-of-type {\n",
       "        vertical-align: middle;\n",
       "    }\n",
       "\n",
       "    .dataframe tbody tr th {\n",
       "        vertical-align: top;\n",
       "    }\n",
       "\n",
       "    .dataframe thead th {\n",
       "        text-align: right;\n",
       "    }\n",
       "</style>\n",
       "<table border=\"1\" class=\"dataframe\">\n",
       "  <thead>\n",
       "    <tr style=\"text-align: right;\">\n",
       "      <th></th>\n",
       "      <th>First_Five</th>\n",
       "      <th>Between PI Trans</th>\n",
       "      <th>Within PI Trans</th>\n",
       "    </tr>\n",
       "  </thead>\n",
       "  <tbody>\n",
       "    <tr>\n",
       "      <th>0</th>\n",
       "      <td>False</td>\n",
       "      <td>718</td>\n",
       "      <td>737</td>\n",
       "    </tr>\n",
       "    <tr>\n",
       "      <th>1</th>\n",
       "      <td>True</td>\n",
       "      <td>259</td>\n",
       "      <td>199</td>\n",
       "    </tr>\n",
       "  </tbody>\n",
       "</table>\n",
       "</div>"
      ],
      "text/plain": [
       "   First_Five  Between PI Trans  Within PI Trans\n",
       "0       False               718              737\n",
       "1        True               259              199"
      ]
     },
     "execution_count": 101,
     "metadata": {},
     "output_type": "execute_result"
    }
   ],
   "source": [
    "stat1 = trans[stat1_columns].groupby(stat1_groupby_columns,as_index=False)[\"OrgName_2\"].agg({\"Total Transitions\":\"count\"})\n",
    "\n",
    "# pivot PISame from column to rows\n",
    "stat1 = stat1.pivot(index=\"First_Five\",columns=\"PISame\",values=\"Total Transitions\")\n",
    "pivot_column_labels = [\"Between PI Trans\",\"Within PI Trans\"]\n",
    "stat1.columns = pivot_column_labels\n",
    "stat1 = stat1.reset_index()\n",
    "\n",
    "stat1"
   ]
  },
  {
   "cell_type": "code",
   "execution_count": 103,
   "id": "98061287",
   "metadata": {},
   "outputs": [
    {
     "data": {
      "text/html": [
       "<div>\n",
       "<style scoped>\n",
       "    .dataframe tbody tr th:only-of-type {\n",
       "        vertical-align: middle;\n",
       "    }\n",
       "\n",
       "    .dataframe tbody tr th {\n",
       "        vertical-align: top;\n",
       "    }\n",
       "\n",
       "    .dataframe thead th {\n",
       "        text-align: right;\n",
       "    }\n",
       "</style>\n",
       "<table border=\"1\" class=\"dataframe\">\n",
       "  <thead>\n",
       "    <tr style=\"text-align: right;\">\n",
       "      <th></th>\n",
       "      <th>First_Five</th>\n",
       "      <th>Between PI Trans</th>\n",
       "      <th>Within PI Trans</th>\n",
       "      <th>Percentage Between PI Trans</th>\n",
       "    </tr>\n",
       "  </thead>\n",
       "  <tbody>\n",
       "    <tr>\n",
       "      <th>0</th>\n",
       "      <td>False</td>\n",
       "      <td>718</td>\n",
       "      <td>737</td>\n",
       "      <td>0.4935</td>\n",
       "    </tr>\n",
       "    <tr>\n",
       "      <th>1</th>\n",
       "      <td>True</td>\n",
       "      <td>259</td>\n",
       "      <td>199</td>\n",
       "      <td>0.5655</td>\n",
       "    </tr>\n",
       "  </tbody>\n",
       "</table>\n",
       "</div>"
      ],
      "text/plain": [
       "   First_Five  Between PI Trans  Within PI Trans  Percentage Between PI Trans\n",
       "0       False               718              737                       0.4935\n",
       "1        True               259              199                       0.5655"
      ]
     },
     "execution_count": 103,
     "metadata": {},
     "output_type": "execute_result"
    }
   ],
   "source": [
    "stat1[\"Percentage Between PI Trans\"] = stat1.apply(lambda x: round(x[\"Between PI Trans\"] / (x[\"Between PI Trans\"] + x[\"Within PI Trans\"]),4) if (x[\"Between PI Trans\"] + x[\"Within PI Trans\"]) > 0 else np.nan,axis=1)\n",
    "stat1"
   ]
  },
  {
   "cell_type": "code",
   "execution_count": 106,
   "id": "47966eca",
   "metadata": {
    "scrolled": true
   },
   "outputs": [
    {
     "name": "stdout",
     "output_type": "stream",
     "text": [
      "718 259 1455 458 0.05\n",
      "p1:\t 0.4934707903780069\n",
      "p2:\t 0.5655021834061136\n",
      "p1-p2:\t -0.07203139302810668\n",
      "z:\t -2.6894181298410755\n",
      "pvalue:\t 0.0035788350974955696**\n"
     ]
    }
   ],
   "source": [
    "# two-sample ttest of proportions: p(between PI trans in s1) > p(between PI trans in s2)\n",
    "x1 = stat1.iloc[0,1]\n",
    "n1 = stat1.iloc[0,1] + stat1.iloc[0,2]\n",
    "x2 = stat1.iloc[1,1]\n",
    "n2 = stat1.iloc[1,1] + stat1.iloc[1,2]\n",
    "alpha = .05\n",
    "print(x1,x2,n1,n2,alpha)\n",
    "two_sample_ttest_proportions(x1,x2,n1,n2,alpha)"
   ]
  },
  {
   "cell_type": "markdown",
   "id": "cb4e562f",
   "metadata": {},
   "source": [
    "### 2. FirstFive, by sending PI: trans count (within & between PI)"
   ]
  },
  {
   "cell_type": "code",
   "execution_count": 130,
   "id": "a84ecbb9",
   "metadata": {},
   "outputs": [],
   "source": [
    "stat2_columns = [\"InstitutionCategory_1\",\"PISame\",\"First_Five\",\"OrgName_2\"]\n",
    "stat2_groupby_columns = [\"InstitutionCategory_1\",\"First_Five\",\"PISame\"]"
   ]
  },
  {
   "cell_type": "code",
   "execution_count": 131,
   "id": "1a64c6d8",
   "metadata": {},
   "outputs": [
    {
     "data": {
      "text/html": [
       "<div>\n",
       "<style scoped>\n",
       "    .dataframe tbody tr th:only-of-type {\n",
       "        vertical-align: middle;\n",
       "    }\n",
       "\n",
       "    .dataframe tbody tr th {\n",
       "        vertical-align: top;\n",
       "    }\n",
       "\n",
       "    .dataframe thead th {\n",
       "        text-align: right;\n",
       "    }\n",
       "</style>\n",
       "<table border=\"1\" class=\"dataframe\">\n",
       "  <thead>\n",
       "    <tr style=\"text-align: right;\">\n",
       "      <th></th>\n",
       "      <th>InstitutionCategory_1</th>\n",
       "      <th>First_Five</th>\n",
       "      <th>Between PI Trans</th>\n",
       "      <th>Within PI Trans</th>\n",
       "    </tr>\n",
       "  </thead>\n",
       "  <tbody>\n",
       "    <tr>\n",
       "      <th>0</th>\n",
       "      <td>Government</td>\n",
       "      <td>False</td>\n",
       "      <td>310</td>\n",
       "      <td>204</td>\n",
       "    </tr>\n",
       "    <tr>\n",
       "      <th>1</th>\n",
       "      <td>Government</td>\n",
       "      <td>True</td>\n",
       "      <td>100</td>\n",
       "      <td>111</td>\n",
       "    </tr>\n",
       "    <tr>\n",
       "      <th>2</th>\n",
       "      <td>Military</td>\n",
       "      <td>False</td>\n",
       "      <td>161</td>\n",
       "      <td>18</td>\n",
       "    </tr>\n",
       "    <tr>\n",
       "      <th>3</th>\n",
       "      <td>Military</td>\n",
       "      <td>True</td>\n",
       "      <td>34</td>\n",
       "      <td>7</td>\n",
       "    </tr>\n",
       "    <tr>\n",
       "      <th>4</th>\n",
       "      <td>Party</td>\n",
       "      <td>False</td>\n",
       "      <td>80</td>\n",
       "      <td>501</td>\n",
       "    </tr>\n",
       "    <tr>\n",
       "      <th>5</th>\n",
       "      <td>Party</td>\n",
       "      <td>True</td>\n",
       "      <td>59</td>\n",
       "      <td>74</td>\n",
       "    </tr>\n",
       "    <tr>\n",
       "      <th>6</th>\n",
       "      <td>Social</td>\n",
       "      <td>False</td>\n",
       "      <td>167</td>\n",
       "      <td>14</td>\n",
       "    </tr>\n",
       "    <tr>\n",
       "      <th>7</th>\n",
       "      <td>Social</td>\n",
       "      <td>True</td>\n",
       "      <td>66</td>\n",
       "      <td>7</td>\n",
       "    </tr>\n",
       "  </tbody>\n",
       "</table>\n",
       "</div>"
      ],
      "text/plain": [
       "  InstitutionCategory_1  First_Five  Between PI Trans  Within PI Trans\n",
       "0            Government       False               310              204\n",
       "1            Government        True               100              111\n",
       "2              Military       False               161               18\n",
       "3              Military        True                34                7\n",
       "4                 Party       False                80              501\n",
       "5                 Party        True                59               74\n",
       "6                Social       False               167               14\n",
       "7                Social        True                66                7"
      ]
     },
     "execution_count": 131,
     "metadata": {},
     "output_type": "execute_result"
    }
   ],
   "source": [
    "stat2 = trans[stat2_columns].groupby(stat2_groupby_columns,as_index=False)[\"OrgName_2\"].agg({\"Total Transitions\":\"count\"})\n",
    "\n",
    "# pivot PISame from column to rows\n",
    "stat2 = stat2.pivot(index=[\"InstitutionCategory_1\",\"First_Five\",],columns=\"PISame\",values=\"Total Transitions\")\n",
    "pivot_column_labels = [\"Between PI Trans\",\"Within PI Trans\"]\n",
    "stat2.columns = pivot_column_labels\n",
    "stat2 = stat2.reset_index()\n",
    "\n",
    "stat2"
   ]
  },
  {
   "cell_type": "code",
   "execution_count": 132,
   "id": "0442516d",
   "metadata": {},
   "outputs": [
    {
     "data": {
      "text/html": [
       "<div>\n",
       "<style scoped>\n",
       "    .dataframe tbody tr th:only-of-type {\n",
       "        vertical-align: middle;\n",
       "    }\n",
       "\n",
       "    .dataframe tbody tr th {\n",
       "        vertical-align: top;\n",
       "    }\n",
       "\n",
       "    .dataframe thead th {\n",
       "        text-align: right;\n",
       "    }\n",
       "</style>\n",
       "<table border=\"1\" class=\"dataframe\">\n",
       "  <thead>\n",
       "    <tr style=\"text-align: right;\">\n",
       "      <th></th>\n",
       "      <th>InstitutionCategory_1</th>\n",
       "      <th>First_Five</th>\n",
       "      <th>Between PI Trans</th>\n",
       "      <th>Within PI Trans</th>\n",
       "      <th>Percentage Between PI Trans</th>\n",
       "    </tr>\n",
       "  </thead>\n",
       "  <tbody>\n",
       "    <tr>\n",
       "      <th>0</th>\n",
       "      <td>Government</td>\n",
       "      <td>False</td>\n",
       "      <td>310</td>\n",
       "      <td>204</td>\n",
       "      <td>0.6031</td>\n",
       "    </tr>\n",
       "    <tr>\n",
       "      <th>1</th>\n",
       "      <td>Government</td>\n",
       "      <td>True</td>\n",
       "      <td>100</td>\n",
       "      <td>111</td>\n",
       "      <td>0.4739</td>\n",
       "    </tr>\n",
       "    <tr>\n",
       "      <th>2</th>\n",
       "      <td>Military</td>\n",
       "      <td>False</td>\n",
       "      <td>161</td>\n",
       "      <td>18</td>\n",
       "      <td>0.8994</td>\n",
       "    </tr>\n",
       "    <tr>\n",
       "      <th>3</th>\n",
       "      <td>Military</td>\n",
       "      <td>True</td>\n",
       "      <td>34</td>\n",
       "      <td>7</td>\n",
       "      <td>0.8293</td>\n",
       "    </tr>\n",
       "    <tr>\n",
       "      <th>4</th>\n",
       "      <td>Party</td>\n",
       "      <td>False</td>\n",
       "      <td>80</td>\n",
       "      <td>501</td>\n",
       "      <td>0.1377</td>\n",
       "    </tr>\n",
       "    <tr>\n",
       "      <th>5</th>\n",
       "      <td>Party</td>\n",
       "      <td>True</td>\n",
       "      <td>59</td>\n",
       "      <td>74</td>\n",
       "      <td>0.4436</td>\n",
       "    </tr>\n",
       "    <tr>\n",
       "      <th>6</th>\n",
       "      <td>Social</td>\n",
       "      <td>False</td>\n",
       "      <td>167</td>\n",
       "      <td>14</td>\n",
       "      <td>0.9227</td>\n",
       "    </tr>\n",
       "    <tr>\n",
       "      <th>7</th>\n",
       "      <td>Social</td>\n",
       "      <td>True</td>\n",
       "      <td>66</td>\n",
       "      <td>7</td>\n",
       "      <td>0.9041</td>\n",
       "    </tr>\n",
       "  </tbody>\n",
       "</table>\n",
       "</div>"
      ],
      "text/plain": [
       "  InstitutionCategory_1  First_Five  Between PI Trans  Within PI Trans  \\\n",
       "0            Government       False               310              204   \n",
       "1            Government        True               100              111   \n",
       "2              Military       False               161               18   \n",
       "3              Military        True                34                7   \n",
       "4                 Party       False                80              501   \n",
       "5                 Party        True                59               74   \n",
       "6                Social       False               167               14   \n",
       "7                Social        True                66                7   \n",
       "\n",
       "   Percentage Between PI Trans  \n",
       "0                       0.6031  \n",
       "1                       0.4739  \n",
       "2                       0.8994  \n",
       "3                       0.8293  \n",
       "4                       0.1377  \n",
       "5                       0.4436  \n",
       "6                       0.9227  \n",
       "7                       0.9041  "
      ]
     },
     "execution_count": 132,
     "metadata": {},
     "output_type": "execute_result"
    }
   ],
   "source": [
    "stat2[\"Percentage Between PI Trans\"] = stat2.apply(lambda x: round(x[\"Between PI Trans\"] / (x[\"Between PI Trans\"] + x[\"Within PI Trans\"]),4) if (x[\"Between PI Trans\"] + x[\"Within PI Trans\"]) > 0 else np.nan,axis=1)\n",
    "stat2"
   ]
  },
  {
   "cell_type": "code",
   "execution_count": 133,
   "id": "79182508",
   "metadata": {},
   "outputs": [
    {
     "data": {
      "text/plain": [
       "['Government', 'Social', 'Party', 'Military']"
      ]
     },
     "execution_count": 133,
     "metadata": {},
     "output_type": "execute_result"
    }
   ],
   "source": [
    "ics = list(trans.InstitutionCategory_1.unique())\n",
    "ics"
   ]
  },
  {
   "cell_type": "code",
   "execution_count": 134,
   "id": "77245918",
   "metadata": {
    "scrolled": true
   },
   "outputs": [
    {
     "name": "stdout",
     "output_type": "stream",
     "text": [
      "\n",
      "grouping by:  InstitutionCategory_1\n",
      "\n",
      "\n",
      " Government \n",
      "\n",
      "\n",
      "310 100 514 211 0.05\n",
      "p1:\t 0.603112840466926\n",
      "p2:\t 0.47393364928909953\n",
      "p1-p2:\t 0.1291791911778265\n",
      "z:\t 3.1874042411170507\n",
      "pvalue:\t 0.0007177799221714798***\n",
      "\n",
      "grouping by:  InstitutionCategory_1\n",
      "\n",
      "\n",
      " Social \n",
      "\n",
      "\n",
      "167 66 181 73 0.05\n",
      "p1:\t 0.9226519337016574\n",
      "p2:\t 0.9041095890410958\n",
      "p1-p2:\t 0.018542344660561594\n",
      "z:\t 0.485617822545918\n",
      "pvalue:\t 0.3136190788670754\n",
      "\n",
      "grouping by:  InstitutionCategory_1\n",
      "\n",
      "\n",
      " Party \n",
      "\n",
      "\n",
      "80 59 581 133 0.05\n",
      "p1:\t 0.13769363166953527\n",
      "p2:\t 0.44360902255639095\n",
      "p1-p2:\t -0.3059153908868557\n",
      "z:\t -8.037537226137841\n",
      "pvalue:\t 4.440892098500626e-16***\n",
      "\n",
      "grouping by:  InstitutionCategory_1\n",
      "\n",
      "\n",
      " Military \n",
      "\n",
      "\n",
      "161 34 179 41 0.05\n",
      "p1:\t 0.8994413407821229\n",
      "p2:\t 0.8292682926829268\n",
      "p1-p2:\t 0.07017304809919611\n",
      "z:\t 1.2770644502852404\n",
      "pvalue:\t 0.10078974712901423\n"
     ]
    }
   ],
   "source": [
    "ttest_by_group_variable(\"InstitutionCategory_1\",ics,stat2,2,3,0,1)"
   ]
  },
  {
   "cell_type": "markdown",
   "id": "81730ca4",
   "metadata": {},
   "source": [
    "### 3. FirstFive, by Regime: trans count (within & between PI)"
   ]
  },
  {
   "cell_type": "code",
   "execution_count": 115,
   "id": "29dd1bde",
   "metadata": {},
   "outputs": [],
   "source": [
    "stat3_columns = [\"Regime\",\"PISame\",\"First_Five\",\"OrgName_2\"]\n",
    "stat3_groupby_columns = [\"Regime\",\"First_Five\",\"PISame\"]"
   ]
  },
  {
   "cell_type": "code",
   "execution_count": 117,
   "id": "6519a0c6",
   "metadata": {},
   "outputs": [
    {
     "data": {
      "text/html": [
       "<div>\n",
       "<style scoped>\n",
       "    .dataframe tbody tr th:only-of-type {\n",
       "        vertical-align: middle;\n",
       "    }\n",
       "\n",
       "    .dataframe tbody tr th {\n",
       "        vertical-align: top;\n",
       "    }\n",
       "\n",
       "    .dataframe thead th {\n",
       "        text-align: right;\n",
       "    }\n",
       "</style>\n",
       "<table border=\"1\" class=\"dataframe\">\n",
       "  <thead>\n",
       "    <tr style=\"text-align: right;\">\n",
       "      <th></th>\n",
       "      <th>Regime</th>\n",
       "      <th>First_Five</th>\n",
       "      <th>Between PI Trans</th>\n",
       "      <th>Within PI Trans</th>\n",
       "    </tr>\n",
       "  </thead>\n",
       "  <tbody>\n",
       "    <tr>\n",
       "      <th>0</th>\n",
       "      <td>KJI</td>\n",
       "      <td>False</td>\n",
       "      <td>375</td>\n",
       "      <td>317</td>\n",
       "    </tr>\n",
       "    <tr>\n",
       "      <th>1</th>\n",
       "      <td>KJI</td>\n",
       "      <td>True</td>\n",
       "      <td>171</td>\n",
       "      <td>88</td>\n",
       "    </tr>\n",
       "    <tr>\n",
       "      <th>2</th>\n",
       "      <td>KJU</td>\n",
       "      <td>False</td>\n",
       "      <td>343</td>\n",
       "      <td>420</td>\n",
       "    </tr>\n",
       "    <tr>\n",
       "      <th>3</th>\n",
       "      <td>KJU</td>\n",
       "      <td>True</td>\n",
       "      <td>88</td>\n",
       "      <td>111</td>\n",
       "    </tr>\n",
       "  </tbody>\n",
       "</table>\n",
       "</div>"
      ],
      "text/plain": [
       "  Regime  First_Five  Between PI Trans  Within PI Trans\n",
       "0    KJI       False               375              317\n",
       "1    KJI        True               171               88\n",
       "2    KJU       False               343              420\n",
       "3    KJU        True                88              111"
      ]
     },
     "execution_count": 117,
     "metadata": {},
     "output_type": "execute_result"
    }
   ],
   "source": [
    "stat3 = trans[stat3_columns].groupby(stat3_groupby_columns,as_index=False)[\"OrgName_2\"].agg({\"Total Transitions\":\"count\"})\n",
    "\n",
    "# pivot PISame from column to rows\n",
    "stat3 = stat3.pivot(index=[\"Regime\",\"First_Five\"],columns=\"PISame\",values=\"Total Transitions\")\n",
    "pivot_column_labels = [\"Between PI Trans\",\"Within PI Trans\"]\n",
    "stat3.columns = pivot_column_labels\n",
    "stat3 = stat3.reset_index()\n",
    "\n",
    "stat3"
   ]
  },
  {
   "cell_type": "code",
   "execution_count": 118,
   "id": "473f5792",
   "metadata": {},
   "outputs": [
    {
     "data": {
      "text/html": [
       "<div>\n",
       "<style scoped>\n",
       "    .dataframe tbody tr th:only-of-type {\n",
       "        vertical-align: middle;\n",
       "    }\n",
       "\n",
       "    .dataframe tbody tr th {\n",
       "        vertical-align: top;\n",
       "    }\n",
       "\n",
       "    .dataframe thead th {\n",
       "        text-align: right;\n",
       "    }\n",
       "</style>\n",
       "<table border=\"1\" class=\"dataframe\">\n",
       "  <thead>\n",
       "    <tr style=\"text-align: right;\">\n",
       "      <th></th>\n",
       "      <th>Regime</th>\n",
       "      <th>First_Five</th>\n",
       "      <th>Between PI Trans</th>\n",
       "      <th>Within PI Trans</th>\n",
       "      <th>Percentage Between PI Trans</th>\n",
       "    </tr>\n",
       "  </thead>\n",
       "  <tbody>\n",
       "    <tr>\n",
       "      <th>0</th>\n",
       "      <td>KJI</td>\n",
       "      <td>False</td>\n",
       "      <td>375</td>\n",
       "      <td>317</td>\n",
       "      <td>0.5419</td>\n",
       "    </tr>\n",
       "    <tr>\n",
       "      <th>1</th>\n",
       "      <td>KJI</td>\n",
       "      <td>True</td>\n",
       "      <td>171</td>\n",
       "      <td>88</td>\n",
       "      <td>0.6602</td>\n",
       "    </tr>\n",
       "    <tr>\n",
       "      <th>2</th>\n",
       "      <td>KJU</td>\n",
       "      <td>False</td>\n",
       "      <td>343</td>\n",
       "      <td>420</td>\n",
       "      <td>0.4495</td>\n",
       "    </tr>\n",
       "    <tr>\n",
       "      <th>3</th>\n",
       "      <td>KJU</td>\n",
       "      <td>True</td>\n",
       "      <td>88</td>\n",
       "      <td>111</td>\n",
       "      <td>0.4422</td>\n",
       "    </tr>\n",
       "  </tbody>\n",
       "</table>\n",
       "</div>"
      ],
      "text/plain": [
       "  Regime  First_Five  Between PI Trans  Within PI Trans  \\\n",
       "0    KJI       False               375              317   \n",
       "1    KJI        True               171               88   \n",
       "2    KJU       False               343              420   \n",
       "3    KJU        True                88              111   \n",
       "\n",
       "   Percentage Between PI Trans  \n",
       "0                       0.5419  \n",
       "1                       0.6602  \n",
       "2                       0.4495  \n",
       "3                       0.4422  "
      ]
     },
     "execution_count": 118,
     "metadata": {},
     "output_type": "execute_result"
    }
   ],
   "source": [
    "stat3[\"Percentage Between PI Trans\"] = stat3.apply(lambda x: round(x[\"Between PI Trans\"] / (x[\"Between PI Trans\"] + x[\"Within PI Trans\"]),4) if (x[\"Between PI Trans\"] + x[\"Within PI Trans\"]) > 0 else np.nan,axis=1)\n",
    "stat3"
   ]
  },
  {
   "cell_type": "code",
   "execution_count": 137,
   "id": "c1d9d956",
   "metadata": {},
   "outputs": [
    {
     "data": {
      "text/plain": [
       "['KJI', 'KJU', nan]"
      ]
     },
     "execution_count": 137,
     "metadata": {},
     "output_type": "execute_result"
    }
   ],
   "source": [
    "ics = list(trans.Regime.unique())\n",
    "ics"
   ]
  },
  {
   "cell_type": "code",
   "execution_count": 138,
   "id": "62710931",
   "metadata": {
    "scrolled": true
   },
   "outputs": [
    {
     "name": "stdout",
     "output_type": "stream",
     "text": [
      "\n",
      "grouping by:  Regime\n",
      "\n",
      "\n",
      " KJI \n",
      "\n",
      "\n",
      "375 171 692 259 0.05\n",
      "p1:\t 0.541907514450867\n",
      "p2:\t 0.6602316602316602\n",
      "p1-p2:\t -0.1183241457807932\n",
      "z:\t -3.2850556618100417\n",
      "pvalue:\t 0.0005098111319603582***\n",
      "\n",
      "\n",
      " KJU \n",
      "\n",
      "\n",
      "343 88 763 199 0.05\n",
      "p1:\t 0.44954128440366975\n",
      "p2:\t 0.44221105527638194\n",
      "p1-p2:\t 0.007330229127287813\n",
      "z:\t 0.18518593453879548\n",
      "pvalue:\t 0.42654160044945977\n",
      "\n",
      "\n",
      " nan \n",
      "\n",
      "\n"
     ]
    },
    {
     "ename": "IndexError",
     "evalue": "index 0 is out of bounds for axis 0 with size 0",
     "output_type": "error",
     "traceback": [
      "\u001b[1;31m---------------------------------------------------------------------------\u001b[0m",
      "\u001b[1;31mIndexError\u001b[0m                                Traceback (most recent call last)",
      "\u001b[1;32m~\\AppData\\Local\\Temp\\ipykernel_2880\\1104427650.py\u001b[0m in \u001b[0;36m?\u001b[1;34m()\u001b[0m\n\u001b[1;32m----> 1\u001b[1;33m \u001b[0mttest_by_group_variable\u001b[0m\u001b[1;33m(\u001b[0m\u001b[1;34m\"Regime\"\u001b[0m\u001b[1;33m,\u001b[0m\u001b[0mics\u001b[0m\u001b[1;33m,\u001b[0m\u001b[0mstat3\u001b[0m\u001b[1;33m,\u001b[0m\u001b[1;36m2\u001b[0m\u001b[1;33m,\u001b[0m\u001b[1;36m3\u001b[0m\u001b[1;33m,\u001b[0m\u001b[1;36m0\u001b[0m\u001b[1;33m,\u001b[0m\u001b[1;36m1\u001b[0m\u001b[1;33m)\u001b[0m\u001b[1;33m\u001b[0m\u001b[1;33m\u001b[0m\u001b[0m\n\u001b[0m",
      "\u001b[1;32m~\\AppData\\Local\\Temp\\ipykernel_2880\\3938184695.py\u001b[0m in \u001b[0;36m?\u001b[1;34m(group_var, ics, stat, between_row, within_row, period1_col, period2_col)\u001b[0m\n\u001b[0;32m     11\u001b[0m \u001b[1;33m\u001b[0m\u001b[0m\n\u001b[0;32m     12\u001b[0m         \u001b[0mstat_ic\u001b[0m \u001b[1;33m=\u001b[0m \u001b[0mstat\u001b[0m\u001b[1;33m[\u001b[0m\u001b[0mstat\u001b[0m\u001b[1;33m[\u001b[0m\u001b[0mgroup_var\u001b[0m\u001b[1;33m]\u001b[0m\u001b[1;33m==\u001b[0m\u001b[0mic\u001b[0m\u001b[1;33m]\u001b[0m\u001b[1;33m\u001b[0m\u001b[1;33m\u001b[0m\u001b[0m\n\u001b[0;32m     13\u001b[0m \u001b[1;33m\u001b[0m\u001b[0m\n\u001b[0;32m     14\u001b[0m         \u001b[1;31m# two-sample ttest of proportions: p(between PI trans in s1) > p(between PI trans in s2)\u001b[0m\u001b[1;33m\u001b[0m\u001b[1;33m\u001b[0m\u001b[0m\n\u001b[1;32m---> 15\u001b[1;33m         \u001b[0mx1\u001b[0m \u001b[1;33m=\u001b[0m \u001b[0mstat_ic\u001b[0m\u001b[1;33m.\u001b[0m\u001b[0miloc\u001b[0m\u001b[1;33m[\u001b[0m\u001b[0mperiod1_col\u001b[0m\u001b[1;33m,\u001b[0m\u001b[0mbetween_row\u001b[0m\u001b[1;33m]\u001b[0m\u001b[1;33m\u001b[0m\u001b[1;33m\u001b[0m\u001b[0m\n\u001b[0m\u001b[0;32m     16\u001b[0m         \u001b[0mn1\u001b[0m \u001b[1;33m=\u001b[0m \u001b[0mstat_ic\u001b[0m\u001b[1;33m.\u001b[0m\u001b[0miloc\u001b[0m\u001b[1;33m[\u001b[0m\u001b[0mperiod1_col\u001b[0m\u001b[1;33m,\u001b[0m\u001b[0mbetween_row\u001b[0m\u001b[1;33m]\u001b[0m \u001b[1;33m+\u001b[0m \u001b[0mstat_ic\u001b[0m\u001b[1;33m.\u001b[0m\u001b[0miloc\u001b[0m\u001b[1;33m[\u001b[0m\u001b[0mperiod1_col\u001b[0m\u001b[1;33m,\u001b[0m\u001b[0mwithin_row\u001b[0m\u001b[1;33m]\u001b[0m\u001b[1;33m\u001b[0m\u001b[1;33m\u001b[0m\u001b[0m\n\u001b[0;32m     17\u001b[0m         \u001b[0mx2\u001b[0m \u001b[1;33m=\u001b[0m \u001b[0mstat_ic\u001b[0m\u001b[1;33m.\u001b[0m\u001b[0miloc\u001b[0m\u001b[1;33m[\u001b[0m\u001b[0mperiod2_col\u001b[0m\u001b[1;33m,\u001b[0m\u001b[0mbetween_row\u001b[0m\u001b[1;33m]\u001b[0m\u001b[1;33m\u001b[0m\u001b[1;33m\u001b[0m\u001b[0m\n\u001b[0;32m     18\u001b[0m         \u001b[0mn2\u001b[0m \u001b[1;33m=\u001b[0m \u001b[0mstat_ic\u001b[0m\u001b[1;33m.\u001b[0m\u001b[0miloc\u001b[0m\u001b[1;33m[\u001b[0m\u001b[0mperiod2_col\u001b[0m\u001b[1;33m,\u001b[0m\u001b[0mbetween_row\u001b[0m\u001b[1;33m]\u001b[0m \u001b[1;33m+\u001b[0m \u001b[0mstat_ic\u001b[0m\u001b[1;33m.\u001b[0m\u001b[0miloc\u001b[0m\u001b[1;33m[\u001b[0m\u001b[0mperiod2_col\u001b[0m\u001b[1;33m,\u001b[0m\u001b[0mwithin_row\u001b[0m\u001b[1;33m]\u001b[0m\u001b[1;33m\u001b[0m\u001b[1;33m\u001b[0m\u001b[0m\n",
      "\u001b[1;32m~\\anaconda3\\Lib\\site-packages\\pandas\\core\\indexing.py\u001b[0m in \u001b[0;36m?\u001b[1;34m(self, key)\u001b[0m\n\u001b[0;32m   1092\u001b[0m         \u001b[1;32mif\u001b[0m \u001b[0mtype\u001b[0m\u001b[1;33m(\u001b[0m\u001b[0mkey\u001b[0m\u001b[1;33m)\u001b[0m \u001b[1;32mis\u001b[0m \u001b[0mtuple\u001b[0m\u001b[1;33m:\u001b[0m\u001b[1;33m\u001b[0m\u001b[1;33m\u001b[0m\u001b[0m\n\u001b[0;32m   1093\u001b[0m             \u001b[0mkey\u001b[0m \u001b[1;33m=\u001b[0m \u001b[0mtuple\u001b[0m\u001b[1;33m(\u001b[0m\u001b[0mlist\u001b[0m\u001b[1;33m(\u001b[0m\u001b[0mx\u001b[0m\u001b[1;33m)\u001b[0m \u001b[1;32mif\u001b[0m \u001b[0mis_iterator\u001b[0m\u001b[1;33m(\u001b[0m\u001b[0mx\u001b[0m\u001b[1;33m)\u001b[0m \u001b[1;32melse\u001b[0m \u001b[0mx\u001b[0m \u001b[1;32mfor\u001b[0m \u001b[0mx\u001b[0m \u001b[1;32min\u001b[0m \u001b[0mkey\u001b[0m\u001b[1;33m)\u001b[0m\u001b[1;33m\u001b[0m\u001b[1;33m\u001b[0m\u001b[0m\n\u001b[0;32m   1094\u001b[0m             \u001b[0mkey\u001b[0m \u001b[1;33m=\u001b[0m \u001b[0mtuple\u001b[0m\u001b[1;33m(\u001b[0m\u001b[0mcom\u001b[0m\u001b[1;33m.\u001b[0m\u001b[0mapply_if_callable\u001b[0m\u001b[1;33m(\u001b[0m\u001b[0mx\u001b[0m\u001b[1;33m,\u001b[0m \u001b[0mself\u001b[0m\u001b[1;33m.\u001b[0m\u001b[0mobj\u001b[0m\u001b[1;33m)\u001b[0m \u001b[1;32mfor\u001b[0m \u001b[0mx\u001b[0m \u001b[1;32min\u001b[0m \u001b[0mkey\u001b[0m\u001b[1;33m)\u001b[0m\u001b[1;33m\u001b[0m\u001b[1;33m\u001b[0m\u001b[0m\n\u001b[0;32m   1095\u001b[0m             \u001b[1;32mif\u001b[0m \u001b[0mself\u001b[0m\u001b[1;33m.\u001b[0m\u001b[0m_is_scalar_access\u001b[0m\u001b[1;33m(\u001b[0m\u001b[0mkey\u001b[0m\u001b[1;33m)\u001b[0m\u001b[1;33m:\u001b[0m\u001b[1;33m\u001b[0m\u001b[1;33m\u001b[0m\u001b[0m\n\u001b[1;32m-> 1096\u001b[1;33m                 \u001b[1;32mreturn\u001b[0m \u001b[0mself\u001b[0m\u001b[1;33m.\u001b[0m\u001b[0mobj\u001b[0m\u001b[1;33m.\u001b[0m\u001b[0m_get_value\u001b[0m\u001b[1;33m(\u001b[0m\u001b[1;33m*\u001b[0m\u001b[0mkey\u001b[0m\u001b[1;33m,\u001b[0m \u001b[0mtakeable\u001b[0m\u001b[1;33m=\u001b[0m\u001b[0mself\u001b[0m\u001b[1;33m.\u001b[0m\u001b[0m_takeable\u001b[0m\u001b[1;33m)\u001b[0m\u001b[1;33m\u001b[0m\u001b[1;33m\u001b[0m\u001b[0m\n\u001b[0m\u001b[0;32m   1097\u001b[0m             \u001b[1;32mreturn\u001b[0m \u001b[0mself\u001b[0m\u001b[1;33m.\u001b[0m\u001b[0m_getitem_tuple\u001b[0m\u001b[1;33m(\u001b[0m\u001b[0mkey\u001b[0m\u001b[1;33m)\u001b[0m\u001b[1;33m\u001b[0m\u001b[1;33m\u001b[0m\u001b[0m\n\u001b[0;32m   1098\u001b[0m         \u001b[1;32melse\u001b[0m\u001b[1;33m:\u001b[0m\u001b[1;33m\u001b[0m\u001b[1;33m\u001b[0m\u001b[0m\n\u001b[0;32m   1099\u001b[0m             \u001b[1;31m# we by definition only have the 0th axis\u001b[0m\u001b[1;33m\u001b[0m\u001b[1;33m\u001b[0m\u001b[0m\n",
      "\u001b[1;32m~\\anaconda3\\Lib\\site-packages\\pandas\\core\\frame.py\u001b[0m in \u001b[0;36m?\u001b[1;34m(self, index, col, takeable)\u001b[0m\n\u001b[0;32m   3864\u001b[0m         \u001b[0;31m`\u001b[0m\u001b[0mself\u001b[0m\u001b[1;33m.\u001b[0m\u001b[0mcolumns\u001b[0m\u001b[1;33m.\u001b[0m\u001b[0m_index_as_unique\u001b[0m\u001b[0;31m`\u001b[0m\u001b[1;33m;\u001b[0m \u001b[0mCaller\u001b[0m \u001b[1;32mis\u001b[0m \u001b[0mresponsible\u001b[0m \u001b[1;32mfor\u001b[0m \u001b[0mchecking\u001b[0m\u001b[1;33m.\u001b[0m\u001b[1;33m\u001b[0m\u001b[1;33m\u001b[0m\u001b[0m\n\u001b[0;32m   3865\u001b[0m         \"\"\"\n\u001b[0;32m   3866\u001b[0m         \u001b[1;32mif\u001b[0m \u001b[0mtakeable\u001b[0m\u001b[1;33m:\u001b[0m\u001b[1;33m\u001b[0m\u001b[1;33m\u001b[0m\u001b[0m\n\u001b[0;32m   3867\u001b[0m             \u001b[0mseries\u001b[0m \u001b[1;33m=\u001b[0m \u001b[0mself\u001b[0m\u001b[1;33m.\u001b[0m\u001b[0m_ixs\u001b[0m\u001b[1;33m(\u001b[0m\u001b[0mcol\u001b[0m\u001b[1;33m,\u001b[0m \u001b[0maxis\u001b[0m\u001b[1;33m=\u001b[0m\u001b[1;36m1\u001b[0m\u001b[1;33m)\u001b[0m\u001b[1;33m\u001b[0m\u001b[1;33m\u001b[0m\u001b[0m\n\u001b[1;32m-> 3868\u001b[1;33m             \u001b[1;32mreturn\u001b[0m \u001b[0mseries\u001b[0m\u001b[1;33m.\u001b[0m\u001b[0m_values\u001b[0m\u001b[1;33m[\u001b[0m\u001b[0mindex\u001b[0m\u001b[1;33m]\u001b[0m\u001b[1;33m\u001b[0m\u001b[1;33m\u001b[0m\u001b[0m\n\u001b[0m\u001b[0;32m   3869\u001b[0m \u001b[1;33m\u001b[0m\u001b[0m\n\u001b[0;32m   3870\u001b[0m         \u001b[0mseries\u001b[0m \u001b[1;33m=\u001b[0m \u001b[0mself\u001b[0m\u001b[1;33m.\u001b[0m\u001b[0m_get_item_cache\u001b[0m\u001b[1;33m(\u001b[0m\u001b[0mcol\u001b[0m\u001b[1;33m)\u001b[0m\u001b[1;33m\u001b[0m\u001b[1;33m\u001b[0m\u001b[0m\n\u001b[0;32m   3871\u001b[0m         \u001b[0mengine\u001b[0m \u001b[1;33m=\u001b[0m \u001b[0mself\u001b[0m\u001b[1;33m.\u001b[0m\u001b[0mindex\u001b[0m\u001b[1;33m.\u001b[0m\u001b[0m_engine\u001b[0m\u001b[1;33m\u001b[0m\u001b[1;33m\u001b[0m\u001b[0m\n",
      "\u001b[1;31mIndexError\u001b[0m: index 0 is out of bounds for axis 0 with size 0"
     ]
    }
   ],
   "source": [
    "ttest_by_group_variable(\"Regime\",ics,stat3,2,3,0,1)"
   ]
  },
  {
   "cell_type": "code",
   "execution_count": null,
   "id": "5950ef65",
   "metadata": {},
   "outputs": [],
   "source": []
  },
  {
   "cell_type": "markdown",
   "id": "0a074acb",
   "metadata": {},
   "source": [
    "### 4. First_Five x Regime & sending PI: trans count (within & between PI)"
   ]
  },
  {
   "cell_type": "code",
   "execution_count": 73,
   "id": "b8cb854a",
   "metadata": {},
   "outputs": [],
   "source": [
    "stat3_columns = [\"PISame\",\"IsSuccession_Five\",\"OrgName_2\"]\n",
    "stat3_groupby_columns = [\"IsSuccession_Five\",\"PISame\"]\n",
    "# stat1_label_columns = [\"Year\",\"Total Transitions\",\"Total Advancements of OrgRank\"]"
   ]
  },
  {
   "cell_type": "code",
   "execution_count": 74,
   "id": "a446f6ec",
   "metadata": {},
   "outputs": [
    {
     "data": {
      "text/html": [
       "<div>\n",
       "<style scoped>\n",
       "    .dataframe tbody tr th:only-of-type {\n",
       "        vertical-align: middle;\n",
       "    }\n",
       "\n",
       "    .dataframe tbody tr th {\n",
       "        vertical-align: top;\n",
       "    }\n",
       "\n",
       "    .dataframe thead th {\n",
       "        text-align: right;\n",
       "    }\n",
       "</style>\n",
       "<table border=\"1\" class=\"dataframe\">\n",
       "  <thead>\n",
       "    <tr style=\"text-align: right;\">\n",
       "      <th></th>\n",
       "      <th>IsSuccession_Five</th>\n",
       "      <th>Between PI Trans</th>\n",
       "      <th>Within PI Trans</th>\n",
       "    </tr>\n",
       "  </thead>\n",
       "  <tbody>\n",
       "    <tr>\n",
       "      <th>0</th>\n",
       "      <td>False</td>\n",
       "      <td>1324</td>\n",
       "      <td>1146</td>\n",
       "    </tr>\n",
       "    <tr>\n",
       "      <th>1</th>\n",
       "      <td>True</td>\n",
       "      <td>259</td>\n",
       "      <td>199</td>\n",
       "    </tr>\n",
       "  </tbody>\n",
       "</table>\n",
       "</div>"
      ],
      "text/plain": [
       "   IsSuccession_Five  Between PI Trans  Within PI Trans\n",
       "0              False              1324             1146\n",
       "1               True               259              199"
      ]
     },
     "execution_count": 74,
     "metadata": {},
     "output_type": "execute_result"
    }
   ],
   "source": [
    "stat1 = trans[stat1_columns].groupby(stat1_groupby_columns,as_index=False)[\"OrgName_2\"].agg({\"Total Transitions\":\"count\"})\n",
    "\n",
    "# pivot PISame from column to rows\n",
    "stat1 = stat1.pivot(index=\"IsSuccession_Five\",columns=\"PISame\",values=\"Total Transitions\")\n",
    "pivot_column_labels = [\"Between PI Trans\",\"Within PI Trans\"]\n",
    "stat1.columns = pivot_column_labels\n",
    "stat1 = stat1.reset_index()\n",
    "\n",
    "stat1"
   ]
  },
  {
   "cell_type": "code",
   "execution_count": 76,
   "id": "19228537",
   "metadata": {},
   "outputs": [
    {
     "data": {
      "text/html": [
       "<div>\n",
       "<style scoped>\n",
       "    .dataframe tbody tr th:only-of-type {\n",
       "        vertical-align: middle;\n",
       "    }\n",
       "\n",
       "    .dataframe tbody tr th {\n",
       "        vertical-align: top;\n",
       "    }\n",
       "\n",
       "    .dataframe thead th {\n",
       "        text-align: right;\n",
       "    }\n",
       "</style>\n",
       "<table border=\"1\" class=\"dataframe\">\n",
       "  <thead>\n",
       "    <tr style=\"text-align: right;\">\n",
       "      <th></th>\n",
       "      <th>IsSuccession_Five</th>\n",
       "      <th>Between PI Trans</th>\n",
       "      <th>Within PI Trans</th>\n",
       "      <th>Percentage Between PI Trans</th>\n",
       "    </tr>\n",
       "  </thead>\n",
       "  <tbody>\n",
       "    <tr>\n",
       "      <th>0</th>\n",
       "      <td>False</td>\n",
       "      <td>1324</td>\n",
       "      <td>1146</td>\n",
       "      <td>0.5360</td>\n",
       "    </tr>\n",
       "    <tr>\n",
       "      <th>1</th>\n",
       "      <td>True</td>\n",
       "      <td>259</td>\n",
       "      <td>199</td>\n",
       "      <td>0.5655</td>\n",
       "    </tr>\n",
       "  </tbody>\n",
       "</table>\n",
       "</div>"
      ],
      "text/plain": [
       "   IsSuccession_Five  Between PI Trans  Within PI Trans  \\\n",
       "0              False              1324             1146   \n",
       "1               True               259              199   \n",
       "\n",
       "   Percentage Between PI Trans  \n",
       "0                       0.5360  \n",
       "1                       0.5655  "
      ]
     },
     "execution_count": 76,
     "metadata": {},
     "output_type": "execute_result"
    }
   ],
   "source": [
    "stat1[\"Percentage Between PI Trans\"] = stat1.apply(lambda x: round(x[\"Between PI Trans\"] / (x[\"Between PI Trans\"] + x[\"Within PI Trans\"]),4) if (x[\"Between PI Trans\"] + x[\"Within PI Trans\"]) > 0 else np.nan,axis=1)\n",
    "stat1"
   ]
  },
  {
   "cell_type": "code",
   "execution_count": 77,
   "id": "44ddf27d",
   "metadata": {
    "scrolled": true
   },
   "outputs": [
    {
     "name": "stdout",
     "output_type": "stream",
     "text": [
      "1324 259 2470 458 0.05\n",
      "p1:\t 0.5360323886639676\n",
      "p2:\t 0.5655021834061136\n",
      "p1-p2:\t -0.02946979474214595\n",
      "z:\t -1.1623643008532818\n",
      "pvalue:\t 0.8774562411016391\n"
     ]
    }
   ],
   "source": [
    "# two-sample ttest of proportions: p(between PI trans in s1) > p(between PI trans in s2)\n",
    "x1 = stat1.iloc[0,1]\n",
    "n1 = stat1.iloc[0,1] + stat1.iloc[0,2]\n",
    "x2 = stat1.iloc[1,1]\n",
    "n2 = stat1.iloc[1,1] + stat1.iloc[1,2]\n",
    "alpha = .05\n",
    "print(x1,x2,n1,n2,alpha)\n",
    "two_sample_ttest_proportions(x1,x2,n1,n2,alpha)"
   ]
  },
  {
   "cell_type": "code",
   "execution_count": null,
   "id": "c98ca857",
   "metadata": {},
   "outputs": [],
   "source": []
  }
 ],
 "metadata": {
  "kernelspec": {
   "display_name": "Python 3 (ipykernel)",
   "language": "python",
   "name": "python3"
  },
  "language_info": {
   "codemirror_mode": {
    "name": "ipython",
    "version": 3
   },
   "file_extension": ".py",
   "mimetype": "text/x-python",
   "name": "python",
   "nbconvert_exporter": "python",
   "pygments_lexer": "ipython3",
   "version": "3.11.5"
  }
 },
 "nbformat": 4,
 "nbformat_minor": 5
}
