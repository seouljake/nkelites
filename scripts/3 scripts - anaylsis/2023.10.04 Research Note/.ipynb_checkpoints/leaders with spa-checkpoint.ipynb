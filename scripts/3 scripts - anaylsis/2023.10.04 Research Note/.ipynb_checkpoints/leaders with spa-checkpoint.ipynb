{
 "cells": [
  {
   "cell_type": "code",
   "execution_count": 1,
   "id": "74698cf3",
   "metadata": {},
   "outputs": [],
   "source": [
    "import pandas as pd\n",
    "import numpy as np\n",
    "from datetime import date\n",
    "from statistics import mean, mode\n",
    "from pandas.api.types import CategoricalDtype"
   ]
  },
  {
   "cell_type": "code",
   "execution_count": 2,
   "id": "75aa1647",
   "metadata": {},
   "outputs": [
    {
     "name": "stdout",
     "output_type": "stream",
     "text": [
      "2023-10-19\n"
     ]
    }
   ],
   "source": [
    "today = date.today()\n",
    "print(today)"
   ]
  },
  {
   "cell_type": "markdown",
   "id": "aaf25c71",
   "metadata": {},
   "source": [
    "# Tables"
   ]
  },
  {
   "cell_type": "code",
   "execution_count": 3,
   "id": "f2c9c339",
   "metadata": {},
   "outputs": [],
   "source": [
    "path_tables = \"C:/Users/seoul/Dropbox/00 technical/github/nkelites/data/combined data/combined data - 2 tables/\""
   ]
  },
  {
   "cell_type": "code",
   "execution_count": 4,
   "id": "200fa7f5",
   "metadata": {},
   "outputs": [],
   "source": [
    "# tables\n",
    "filename_careerorglink = \"careerorglink.xlsx\"\n",
    "filename_leadercareerlink = \"leadercareerlink.xlsx\"\n",
    "filename_orgtree = \"orgtree.xlsx\"\n",
    "filename_elected = \"positions_elected.xlsx\""
   ]
  },
  {
   "cell_type": "code",
   "execution_count": 5,
   "id": "b7d9b165",
   "metadata": {
    "scrolled": true
   },
   "outputs": [
    {
     "data": {
      "text/plain": [
       "(9002, 12)"
      ]
     },
     "execution_count": 5,
     "metadata": {},
     "output_type": "execute_result"
    }
   ],
   "source": [
    "col = pd.read_excel(path_tables + filename_careerorglink,dtype=\"str\")\n",
    "col.shape"
   ]
  },
  {
   "cell_type": "code",
   "execution_count": 6,
   "id": "0bd17a8f",
   "metadata": {},
   "outputs": [
    {
     "data": {
      "text/plain": [
       "Index(['CareerString', 'CareerDateString_2022', 'IsJob', 'MultipleSubstrings',\n",
       "       'CareerStartYear', 'CareerStartMonth', 'CareerSubstring',\n",
       "       'InstitutionType', 'PrimaryInstitution', 'OrgName', 'Position',\n",
       "       'Notes'],\n",
       "      dtype='object')"
      ]
     },
     "execution_count": 6,
     "metadata": {},
     "output_type": "execute_result"
    }
   ],
   "source": [
    "col.columns"
   ]
  },
  {
   "cell_type": "code",
   "execution_count": 7,
   "id": "4aa22e14",
   "metadata": {},
   "outputs": [
    {
     "data": {
      "text/plain": [
       "(12617, 3)"
      ]
     },
     "execution_count": 7,
     "metadata": {},
     "output_type": "execute_result"
    }
   ],
   "source": [
    "lcl = pd.read_excel(path_tables + filename_leadercareerlink,dtype=\"str\")\n",
    "lcl.shape"
   ]
  },
  {
   "cell_type": "code",
   "execution_count": 8,
   "id": "ac0f5205",
   "metadata": {},
   "outputs": [
    {
     "data": {
      "text/plain": [
       "Index(['LeaderID', 'CareerString', 'CareerDateString_2022'], dtype='object')"
      ]
     },
     "execution_count": 8,
     "metadata": {},
     "output_type": "execute_result"
    }
   ],
   "source": [
    "lcl.columns"
   ]
  },
  {
   "cell_type": "code",
   "execution_count": 9,
   "id": "44ba37bd",
   "metadata": {},
   "outputs": [
    {
     "data": {
      "text/plain": [
       "(2368, 19)"
      ]
     },
     "execution_count": 9,
     "metadata": {},
     "output_type": "execute_result"
    }
   ],
   "source": [
    "org = pd.read_excel(path_tables + filename_orgtree,dtype=\"str\")\n",
    "org.shape"
   ]
  },
  {
   "cell_type": "code",
   "execution_count": 10,
   "id": "05b6e3e8",
   "metadata": {},
   "outputs": [
    {
     "data": {
      "text/plain": [
       "Index(['InstitutionType', 'OrgType', 'PrimaryInstitution', 'OrgName',\n",
       "       'PI_Index', 'OrgRank', 'P1', 'P2', 'P3', 'Alias_OrgName',\n",
       "       'LinkToNext_PI', 'LinkToNext_Org', 'LinkToNext_Year', 'Notes',\n",
       "       'L1_Index', 'L2_Index', 'L3_Index', 'L4_Index', 'L5_Index'],\n",
       "      dtype='object')"
      ]
     },
     "execution_count": 10,
     "metadata": {},
     "output_type": "execute_result"
    }
   ],
   "source": [
    "org.columns"
   ]
  },
  {
   "cell_type": "code",
   "execution_count": 11,
   "id": "b93b05ba",
   "metadata": {},
   "outputs": [
    {
     "data": {
      "text/plain": [
       "(105, 4)"
      ]
     },
     "execution_count": 11,
     "metadata": {},
     "output_type": "execute_result"
    }
   ],
   "source": [
    "elected = pd.read_excel(path_tables + filename_elected,dtype=\"str\")\n",
    "elected.shape"
   ]
  },
  {
   "cell_type": "code",
   "execution_count": 12,
   "id": "011dfaa4",
   "metadata": {},
   "outputs": [
    {
     "data": {
      "text/plain": [
       "Index(['PrimaryInstitution', 'OrgName', 'Position', 'IsElected'], dtype='object')"
      ]
     },
     "execution_count": 12,
     "metadata": {},
     "output_type": "execute_result"
    }
   ],
   "source": [
    "elected.columns"
   ]
  },
  {
   "cell_type": "markdown",
   "id": "52841326",
   "metadata": {},
   "source": [
    "# Queries"
   ]
  },
  {
   "cell_type": "code",
   "execution_count": 13,
   "id": "df5b44ce",
   "metadata": {},
   "outputs": [],
   "source": [
    "path_queries = \"C:/Users/seoul/Dropbox/00 technical/github/nkelites/data/combined data/combined data - 3 queries/\""
   ]
  },
  {
   "cell_type": "code",
   "execution_count": 14,
   "id": "7a0352b8",
   "metadata": {},
   "outputs": [],
   "source": [
    "# jobs and job transitions, elected & unelected, in and out of gov\n",
    "filename_leaderjob_electUnelect_inOutgov = \"leaderjob_electUnelect_inOutgov.xlsx\"\n",
    "filename_leaderjobtransition_electUnelect_inOutgov = \"leaderjobtransition_electUnelect_inOutgov.xlsx\""
   ]
  },
  {
   "cell_type": "code",
   "execution_count": 15,
   "id": "31cb5cd4",
   "metadata": {},
   "outputs": [
    {
     "data": {
      "text/plain": [
       "(6311, 29)"
      ]
     },
     "execution_count": 15,
     "metadata": {},
     "output_type": "execute_result"
    }
   ],
   "source": [
    "trans = pd.read_excel(path_queries + filename_leaderjobtransition_electUnelect_inOutgov,dtype=\"str\")\n",
    "trans.shape"
   ]
  },
  {
   "cell_type": "markdown",
   "id": "224feffb",
   "metadata": {},
   "source": [
    "#### change datatypes"
   ]
  },
  {
   "cell_type": "code",
   "execution_count": 129,
   "id": "b22117ac",
   "metadata": {},
   "outputs": [
    {
     "data": {
      "text/plain": [
       "LeaderID                   object\n",
       "CareerString_1             object\n",
       "CareerDateString_2022_1    object\n",
       "CareerStartYear_1           int32\n",
       "CareerStartMonth_1         object\n",
       "CareerStartDate_1          object\n",
       "CareerSubstring_1          object\n",
       "InstitutionType_1          object\n",
       "PrimaryInstitution_1       object\n",
       "OrgName_1                  object\n",
       "Position_1                 object\n",
       "IsElected_1                object\n",
       "OrgRank_1                  object\n",
       "PositionRank_1             object\n",
       "CareerString_2             object\n",
       "CareerDateString_2022_2    object\n",
       "CareerStartYear_2          object\n",
       "CareerStartMonth_2         object\n",
       "CareerStartDate_2          object\n",
       "CareerSubstring_2          object\n",
       "InstitutionType_2          object\n",
       "PrimaryInstitution_2       object\n",
       "OrgName_2                  object\n",
       "Position_2                 object\n",
       "IsElected_2                object\n",
       "OrgRank_2                  object\n",
       "PositionRank_2             object\n",
       "OrgAdvance                  int32\n",
       "PositionAdvance             int32\n",
       "dtype: object"
      ]
     },
     "execution_count": 129,
     "metadata": {},
     "output_type": "execute_result"
    }
   ],
   "source": [
    "trans = trans.astype({\"OrgAdvance\":\"int\",\"PositionAdvance\":\"int\",\"CareerStartYear_1\":\"int\"})\n",
    "trans.dtypes"
   ]
  },
  {
   "cell_type": "markdown",
   "id": "7d59db9d",
   "metadata": {},
   "source": [
    "# Functions"
   ]
  },
  {
   "cell_type": "code",
   "execution_count": 130,
   "id": "ba5de424",
   "metadata": {},
   "outputs": [],
   "source": [
    "def merge_results(m):\n",
    "    \n",
    "    print(\"\\nMerge Results...\")\n",
    "    print(\"\")\n",
    "    print(\"\\tshape     :\",m.shape)\n",
    "    print(\"\\tleft_only :\",m[m[\"_merge\"]==\"left_only\"].shape)\n",
    "    print(\"\\tboth      :\",m[m[\"_merge\"]==\"both\"].shape)\n",
    "    print(\"\\tright_only:\",m[m[\"_merge\"]==\"right_only\"].shape)"
   ]
  },
  {
   "cell_type": "code",
   "execution_count": 131,
   "id": "d3411709",
   "metadata": {},
   "outputs": [],
   "source": [
    "# using this on (PI,OrgName) will ensure unique & non-null keys\n",
    "# using this on a larger df will ensure unique rows and non-null keys, but not unique keys\n",
    "\n",
    "def unique_non_null_rows(olddf):\n",
    "    \n",
    "    df = olddf.copy()\n",
    "    \n",
    "    \n",
    "    ### drop duplicates\n",
    "    df = df.drop_duplicates(keep=\"first\",ignore_index=True)\n",
    "\n",
    "    ### drop null rows\n",
    "    df.dropna(how=\"all\",axis=0,inplace=True)\n",
    "    \n",
    "    # drop rows with null PI\n",
    "    df = df[~(df[\"PrimaryInstitution\"].isna())]\n",
    "        \n",
    "    ### drop rows where PI contains stop words\n",
    "    stop_words_lower = [\"uncertain\",\"current\",\"deprecated\",\"please_revise\"]\n",
    "    df = df[ ~ df[\"PrimaryInstitution\"].str.lower().isin(stop_words_lower)]\n",
    "            \n",
    "\n",
    "    print(\"\\nUnique Non-null Rows...\")\n",
    "    print(\"\")\n",
    "    print(\"\\tNon-unique rows:\",olddf.shape)\n",
    "    print(\"\\tUnique rows    :\",df.shape)\n",
    "\n",
    "    ### sort\n",
    "    df = df.sort_values([\"PrimaryInstitution\",\"OrgName\"])\n",
    "    \n",
    "    return df"
   ]
  },
  {
   "cell_type": "code",
   "execution_count": 132,
   "id": "945f13c9",
   "metadata": {},
   "outputs": [],
   "source": [
    "def create_time_series(series,group_var,count_var):\n",
    "    \n",
    "    yeardist = series.groupby(group_var,as_index=False).count().sort_values(group_var)\n",
    "    \n",
    "    max_year = max(series[group_var])\n",
    "    x = pd.DataFrame({\"year\":pd.Series(range(min(yeardist[group_var].astype(int)),max(yeardist[group_var].astype(int))+1))})\n",
    "    \n",
    "    yeardist[group_var] = yeardist[group_var].astype(int,errors=\"ignore\")\n",
    "    \n",
    "    ts = x.merge(yeardist,left_on=\"year\",right_on=group_var,how=\"left\")\n",
    "    ts.loc[ts[count_var].isna(),count_var]=0\n",
    "    # merge_results(ts)\n",
    "    \n",
    "    ts_columns = [\"year\",count_var]\n",
    "    ts = ts[ts_columns]\n",
    "    \n",
    "    return ts"
   ]
  },
  {
   "cell_type": "markdown",
   "id": "16c49e74",
   "metadata": {},
   "source": [
    "# Analysis - Research Note"
   ]
  },
  {
   "cell_type": "code",
   "execution_count": 29,
   "id": "39648498",
   "metadata": {},
   "outputs": [],
   "source": [
    "path_analysis = \"C:/Users/seoul/Dropbox/00 technical/github/nkelites/analysis/\""
   ]
  },
  {
   "cell_type": "code",
   "execution_count": 30,
   "id": "72a5cd0f",
   "metadata": {},
   "outputs": [],
   "source": [
    "# analysis sub-paths\n",
    "study0_path = \"2023.10.04 Study 0 - research note/\"\n",
    "study1_path = \"2023.10.04 Study 1 - political capital/\"\n",
    "study2_path = \"2023.10.04 Study 2 - commitment vs control/\"\n",
    "study3_path = \"2023.10.04 Study 3 - reds vs experts/\""
   ]
  },
  {
   "cell_type": "code",
   "execution_count": null,
   "id": "06aeb46c",
   "metadata": {},
   "outputs": [],
   "source": []
  },
  {
   "cell_type": "markdown",
   "id": "1e266dad",
   "metadata": {},
   "source": [
    "#### unique SPA orgs and positions"
   ]
  },
  {
   "cell_type": "code",
   "execution_count": 17,
   "id": "7c1107a8",
   "metadata": {},
   "outputs": [
    {
     "data": {
      "text/html": [
       "<div>\n",
       "<style scoped>\n",
       "    .dataframe tbody tr th:only-of-type {\n",
       "        vertical-align: middle;\n",
       "    }\n",
       "\n",
       "    .dataframe tbody tr th {\n",
       "        vertical-align: top;\n",
       "    }\n",
       "\n",
       "    .dataframe thead th {\n",
       "        text-align: right;\n",
       "    }\n",
       "</style>\n",
       "<table border=\"1\" class=\"dataframe\">\n",
       "  <thead>\n",
       "    <tr style=\"text-align: right;\">\n",
       "      <th></th>\n",
       "      <th>CareerString</th>\n",
       "      <th>CareerDateString_2022</th>\n",
       "      <th>IsJob</th>\n",
       "      <th>MultipleSubstrings</th>\n",
       "      <th>CareerStartYear</th>\n",
       "      <th>CareerStartMonth</th>\n",
       "      <th>CareerSubstring</th>\n",
       "      <th>InstitutionType</th>\n",
       "      <th>PrimaryInstitution</th>\n",
       "      <th>OrgName</th>\n",
       "      <th>Position</th>\n",
       "      <th>Notes</th>\n",
       "    </tr>\n",
       "  </thead>\n",
       "  <tbody>\n",
       "    <tr>\n",
       "      <th>0</th>\n",
       "      <td>4.15문학창작단 단장</td>\n",
       "      <td>1989.04</td>\n",
       "      <td>True</td>\n",
       "      <td>1</td>\n",
       "      <td>1989</td>\n",
       "      <td>4</td>\n",
       "      <td>NaN</td>\n",
       "      <td>당외곽및사회단체_사회부문(별책)</td>\n",
       "      <td>4.15문화창작단</td>\n",
       "      <td>NaN</td>\n",
       "      <td>단장</td>\n",
       "      <td>NaN</td>\n",
       "    </tr>\n",
       "    <tr>\n",
       "      <th>1</th>\n",
       "      <td>1989. 4.15문학창작단 단장, 조선작가동맹 통일문학담당 부위원장</td>\n",
       "      <td>NaN</td>\n",
       "      <td>True</td>\n",
       "      <td>2</td>\n",
       "      <td>1989</td>\n",
       "      <td>4</td>\n",
       "      <td>4.15 문화창작단 단장</td>\n",
       "      <td>당외곽및사회단체_사회부문(별책)</td>\n",
       "      <td>4.15문화창작단</td>\n",
       "      <td>NaN</td>\n",
       "      <td>단장</td>\n",
       "      <td>NaN</td>\n",
       "    </tr>\n",
       "    <tr>\n",
       "      <th>2</th>\n",
       "      <td>2004. 4.15문학창작단 부단장</td>\n",
       "      <td>NaN</td>\n",
       "      <td>True</td>\n",
       "      <td>1</td>\n",
       "      <td>2004</td>\n",
       "      <td>NaN</td>\n",
       "      <td>NaN</td>\n",
       "      <td>당외곽및사회단체_사회부문(별책)</td>\n",
       "      <td>4.15문화창작단</td>\n",
       "      <td>NaN</td>\n",
       "      <td>부단장</td>\n",
       "      <td>NaN</td>\n",
       "    </tr>\n",
       "    <tr>\n",
       "      <th>3</th>\n",
       "      <td>4.15문학창작단 부단장</td>\n",
       "      <td>2004.04</td>\n",
       "      <td>True</td>\n",
       "      <td>1</td>\n",
       "      <td>2004</td>\n",
       "      <td>4</td>\n",
       "      <td>NaN</td>\n",
       "      <td>당외곽및사회단체_사회부문(별책)</td>\n",
       "      <td>4.15문화창작단</td>\n",
       "      <td>NaN</td>\n",
       "      <td>부단장</td>\n",
       "      <td>NaN</td>\n",
       "    </tr>\n",
       "    <tr>\n",
       "      <th>4</th>\n",
       "      <td>7.7연합기업소 기사장</td>\n",
       "      <td>1989.12</td>\n",
       "      <td>True</td>\n",
       "      <td>1</td>\n",
       "      <td>1989</td>\n",
       "      <td>12</td>\n",
       "      <td>NaN</td>\n",
       "      <td>UNCERTAIN</td>\n",
       "      <td>7.7연합기업소</td>\n",
       "      <td>NaN</td>\n",
       "      <td>기사장</td>\n",
       "      <td>NaN</td>\n",
       "    </tr>\n",
       "  </tbody>\n",
       "</table>\n",
       "</div>"
      ],
      "text/plain": [
       "                             CareerString CareerDateString_2022 IsJob  \\\n",
       "0                            4.15문학창작단 단장               1989.04  True   \n",
       "1  1989. 4.15문학창작단 단장, 조선작가동맹 통일문학담당 부위원장                   NaN  True   \n",
       "2                     2004. 4.15문학창작단 부단장                   NaN  True   \n",
       "3                           4.15문학창작단 부단장               2004.04  True   \n",
       "4                            7.7연합기업소 기사장               1989.12  True   \n",
       "\n",
       "  MultipleSubstrings CareerStartYear CareerStartMonth CareerSubstring  \\\n",
       "0                  1            1989                4             NaN   \n",
       "1                  2            1989                4   4.15 문화창작단 단장   \n",
       "2                  1            2004              NaN             NaN   \n",
       "3                  1            2004                4             NaN   \n",
       "4                  1            1989               12             NaN   \n",
       "\n",
       "     InstitutionType PrimaryInstitution OrgName Position Notes  \n",
       "0  당외곽및사회단체_사회부문(별책)          4.15문화창작단     NaN       단장   NaN  \n",
       "1  당외곽및사회단체_사회부문(별책)          4.15문화창작단     NaN       단장   NaN  \n",
       "2  당외곽및사회단체_사회부문(별책)          4.15문화창작단     NaN      부단장   NaN  \n",
       "3  당외곽및사회단체_사회부문(별책)          4.15문화창작단     NaN      부단장   NaN  \n",
       "4          UNCERTAIN           7.7연합기업소     NaN      기사장   NaN  "
      ]
     },
     "execution_count": 17,
     "metadata": {},
     "output_type": "execute_result"
    }
   ],
   "source": [
    "col.head(5)"
   ]
  },
  {
   "cell_type": "code",
   "execution_count": 28,
   "id": "dfb1c6dd",
   "metadata": {},
   "outputs": [],
   "source": [
    "spa_columns = [\"InstitutionType\",\"PrimaryInstitution\",\"OrgName\",\"Position\"]\n",
    "spa_orgpositions = col.loc[col.PrimaryInstitution==\"최고인민회의\",spa_columns].drop_duplicates()"
   ]
  },
  {
   "cell_type": "code",
   "execution_count": 31,
   "id": "eb2a24fc",
   "metadata": {},
   "outputs": [],
   "source": [
    "spa_fname = \"spa org and positions.xlsx\"\n",
    "spa_orgpositions.to_excel(path_analysis + study0_path + spa_fname,index=False)"
   ]
  },
  {
   "cell_type": "markdown",
   "id": "38840f29",
   "metadata": {},
   "source": [
    "### leaders with SPA - use leaderjobtransition_electUnelect_inOutgov which contains elected jobs"
   ]
  },
  {
   "cell_type": "code",
   "execution_count": 135,
   "id": "5b4bc295",
   "metadata": {},
   "outputs": [
    {
     "data": {
      "text/html": [
       "<div>\n",
       "<style scoped>\n",
       "    .dataframe tbody tr th:only-of-type {\n",
       "        vertical-align: middle;\n",
       "    }\n",
       "\n",
       "    .dataframe tbody tr th {\n",
       "        vertical-align: top;\n",
       "    }\n",
       "\n",
       "    .dataframe thead th {\n",
       "        text-align: right;\n",
       "    }\n",
       "</style>\n",
       "<table border=\"1\" class=\"dataframe\">\n",
       "  <thead>\n",
       "    <tr style=\"text-align: right;\">\n",
       "      <th></th>\n",
       "      <th>LeaderID</th>\n",
       "      <th>CareerString_1</th>\n",
       "      <th>CareerDateString_2022_1</th>\n",
       "      <th>CareerStartYear_1</th>\n",
       "      <th>CareerStartMonth_1</th>\n",
       "      <th>CareerStartDate_1</th>\n",
       "      <th>CareerSubstring_1</th>\n",
       "      <th>InstitutionType_1</th>\n",
       "      <th>PrimaryInstitution_1</th>\n",
       "      <th>OrgName_1</th>\n",
       "      <th>...</th>\n",
       "      <th>CareerSubstring_2</th>\n",
       "      <th>InstitutionType_2</th>\n",
       "      <th>PrimaryInstitution_2</th>\n",
       "      <th>OrgName_2</th>\n",
       "      <th>Position_2</th>\n",
       "      <th>IsElected_2</th>\n",
       "      <th>OrgRank_2</th>\n",
       "      <th>PositionRank_2</th>\n",
       "      <th>OrgAdvance</th>\n",
       "      <th>PositionAdvance</th>\n",
       "    </tr>\n",
       "  </thead>\n",
       "  <tbody>\n",
       "    <tr>\n",
       "      <th>0</th>\n",
       "      <td>리원일</td>\n",
       "      <td>1997.11 노동행정부 부부장</td>\n",
       "      <td>NaN</td>\n",
       "      <td>1997</td>\n",
       "      <td>11</td>\n",
       "      <td>199711</td>\n",
       "      <td>NaN</td>\n",
       "      <td>정권기관</td>\n",
       "      <td>정무원</td>\n",
       "      <td>노동행정부</td>\n",
       "      <td>...</td>\n",
       "      <td>NaN</td>\n",
       "      <td>정권기관</td>\n",
       "      <td>내각</td>\n",
       "      <td>노동성</td>\n",
       "      <td>상</td>\n",
       "      <td>NaN</td>\n",
       "      <td>1</td>\n",
       "      <td>1</td>\n",
       "      <td>0</td>\n",
       "      <td>1</td>\n",
       "    </tr>\n",
       "    <tr>\n",
       "      <th>1</th>\n",
       "      <td>리원일</td>\n",
       "      <td>1997.11 노동행정부 부부장</td>\n",
       "      <td>NaN</td>\n",
       "      <td>1997</td>\n",
       "      <td>11</td>\n",
       "      <td>199711</td>\n",
       "      <td>NaN</td>\n",
       "      <td>정권기관</td>\n",
       "      <td>정무원</td>\n",
       "      <td>노동행정부</td>\n",
       "      <td>...</td>\n",
       "      <td>NaN</td>\n",
       "      <td>정권기관</td>\n",
       "      <td>최고인민회의</td>\n",
       "      <td>NaN</td>\n",
       "      <td>대의원</td>\n",
       "      <td>1</td>\n",
       "      <td>0</td>\n",
       "      <td>3</td>\n",
       "      <td>1</td>\n",
       "      <td>-1</td>\n",
       "    </tr>\n",
       "    <tr>\n",
       "      <th>2</th>\n",
       "      <td>리원일</td>\n",
       "      <td>노동성 상 *후임 : 강영수</td>\n",
       "      <td>1997.11</td>\n",
       "      <td>1997</td>\n",
       "      <td>11</td>\n",
       "      <td>199711</td>\n",
       "      <td>NaN</td>\n",
       "      <td>정권기관</td>\n",
       "      <td>내각</td>\n",
       "      <td>노동성</td>\n",
       "      <td>...</td>\n",
       "      <td>NaN</td>\n",
       "      <td>정권기관</td>\n",
       "      <td>내각</td>\n",
       "      <td>노동성</td>\n",
       "      <td>상</td>\n",
       "      <td>NaN</td>\n",
       "      <td>1</td>\n",
       "      <td>1</td>\n",
       "      <td>0</td>\n",
       "      <td>0</td>\n",
       "    </tr>\n",
       "    <tr>\n",
       "      <th>3</th>\n",
       "      <td>리원일</td>\n",
       "      <td>노동성 상 *후임 : 강영수</td>\n",
       "      <td>1997.11</td>\n",
       "      <td>1997</td>\n",
       "      <td>11</td>\n",
       "      <td>199711</td>\n",
       "      <td>NaN</td>\n",
       "      <td>정권기관</td>\n",
       "      <td>내각</td>\n",
       "      <td>노동성</td>\n",
       "      <td>...</td>\n",
       "      <td>NaN</td>\n",
       "      <td>정권기관</td>\n",
       "      <td>최고인민회의</td>\n",
       "      <td>NaN</td>\n",
       "      <td>대의원</td>\n",
       "      <td>1</td>\n",
       "      <td>0</td>\n",
       "      <td>3</td>\n",
       "      <td>1</td>\n",
       "      <td>-2</td>\n",
       "    </tr>\n",
       "    <tr>\n",
       "      <th>4</th>\n",
       "      <td>리원일</td>\n",
       "      <td>1998. 9 노동상</td>\n",
       "      <td>NaN</td>\n",
       "      <td>1998</td>\n",
       "      <td>9</td>\n",
       "      <td>199809</td>\n",
       "      <td>NaN</td>\n",
       "      <td>정권기관</td>\n",
       "      <td>내각</td>\n",
       "      <td>노동성</td>\n",
       "      <td>...</td>\n",
       "      <td>NaN</td>\n",
       "      <td>국제친선단체</td>\n",
       "      <td>북-이란 친선협회</td>\n",
       "      <td>NaN</td>\n",
       "      <td>위원장</td>\n",
       "      <td>NaN</td>\n",
       "      <td>0</td>\n",
       "      <td>1</td>\n",
       "      <td>1</td>\n",
       "      <td>0</td>\n",
       "    </tr>\n",
       "  </tbody>\n",
       "</table>\n",
       "<p>5 rows × 29 columns</p>\n",
       "</div>"
      ],
      "text/plain": [
       "  LeaderID     CareerString_1 CareerDateString_2022_1  CareerStartYear_1  \\\n",
       "0      리원일  1997.11 노동행정부 부부장                     NaN               1997   \n",
       "1      리원일  1997.11 노동행정부 부부장                     NaN               1997   \n",
       "2      리원일    노동성 상 *후임 : 강영수                 1997.11               1997   \n",
       "3      리원일    노동성 상 *후임 : 강영수                 1997.11               1997   \n",
       "4      리원일        1998. 9 노동상                     NaN               1998   \n",
       "\n",
       "  CareerStartMonth_1 CareerStartDate_1 CareerSubstring_1 InstitutionType_1  \\\n",
       "0                 11            199711               NaN              정권기관   \n",
       "1                 11            199711               NaN              정권기관   \n",
       "2                 11            199711               NaN              정권기관   \n",
       "3                 11            199711               NaN              정권기관   \n",
       "4                  9            199809               NaN              정권기관   \n",
       "\n",
       "  PrimaryInstitution_1 OrgName_1  ... CareerSubstring_2 InstitutionType_2  \\\n",
       "0                  정무원     노동행정부  ...               NaN              정권기관   \n",
       "1                  정무원     노동행정부  ...               NaN              정권기관   \n",
       "2                   내각       노동성  ...               NaN              정권기관   \n",
       "3                   내각       노동성  ...               NaN              정권기관   \n",
       "4                   내각       노동성  ...               NaN            국제친선단체   \n",
       "\n",
       "  PrimaryInstitution_2 OrgName_2 Position_2 IsElected_2 OrgRank_2  \\\n",
       "0                   내각       노동성          상         NaN         1   \n",
       "1               최고인민회의       NaN        대의원           1         0   \n",
       "2                   내각       노동성          상         NaN         1   \n",
       "3               최고인민회의       NaN        대의원           1         0   \n",
       "4            북-이란 친선협회       NaN        위원장         NaN         0   \n",
       "\n",
       "  PositionRank_2 OrgAdvance PositionAdvance  \n",
       "0              1          0               1  \n",
       "1              3          1              -1  \n",
       "2              1          0               0  \n",
       "3              3          1              -2  \n",
       "4              1          1               0  \n",
       "\n",
       "[5 rows x 29 columns]"
      ]
     },
     "execution_count": 135,
     "metadata": {},
     "output_type": "execute_result"
    }
   ],
   "source": [
    "trans.head()"
   ]
  },
  {
   "cell_type": "code",
   "execution_count": 136,
   "id": "a9894c9a",
   "metadata": {},
   "outputs": [],
   "source": [
    "# trans.LeaderID.unique()"
   ]
  },
  {
   "cell_type": "code",
   "execution_count": 145,
   "id": "b2e0b3da",
   "metadata": {},
   "outputs": [
    {
     "data": {
      "text/plain": [
       "(428,)"
      ]
     },
     "execution_count": 145,
     "metadata": {},
     "output_type": "execute_result"
    }
   ],
   "source": [
    "# number of elites who have records before taking a job in the 최고인민회의, elected or unelected\n",
    "trans.loc[(trans.PrimaryInstitution_2==\"최고인민회의\"),\"LeaderID\"].unique().shape"
   ]
  },
  {
   "cell_type": "code",
   "execution_count": 146,
   "id": "63cb79ac",
   "metadata": {},
   "outputs": [
    {
     "data": {
      "text/plain": [
       "(424,)"
      ]
     },
     "execution_count": 146,
     "metadata": {},
     "output_type": "execute_result"
    }
   ],
   "source": [
    "# number of elites who have records before taking an elected job in the 최고인민회의\n",
    "trans.loc[(trans.PrimaryInstitution_2==\"최고인민회의\") & (trans.IsElected_2==\"1\"),\"LeaderID\"].unique().shape"
   ]
  },
  {
   "cell_type": "code",
   "execution_count": 143,
   "id": "7e416449",
   "metadata": {},
   "outputs": [
    {
     "data": {
      "text/plain": [
       "(402,)"
      ]
     },
     "execution_count": 143,
     "metadata": {},
     "output_type": "execute_result"
    }
   ],
   "source": [
    "# number of elites who have records after taking a job in the 최고인민회의, elected or unelected\n",
    "trans.loc[(trans.PrimaryInstitution_1==\"최고인민회의\"),\"LeaderID\"].unique().shape"
   ]
  },
  {
   "cell_type": "code",
   "execution_count": 144,
   "id": "2f1dc198",
   "metadata": {},
   "outputs": [
    {
     "data": {
      "text/plain": [
       "(393,)"
      ]
     },
     "execution_count": 144,
     "metadata": {},
     "output_type": "execute_result"
    }
   ],
   "source": [
    "# number of elites who have records after taking an elected job in the 최고인민회의\n",
    "trans.loc[(trans.PrimaryInstitution_1==\"최고인민회의\") & (trans.IsElected_1==\"1\"),\"LeaderID\"].unique().shape"
   ]
  },
  {
   "cell_type": "code",
   "execution_count": 141,
   "id": "a55e1521",
   "metadata": {},
   "outputs": [
    {
     "data": {
      "text/plain": [
       "(539,)"
      ]
     },
     "execution_count": 141,
     "metadata": {},
     "output_type": "execute_result"
    }
   ],
   "source": [
    "trans.LeaderID.unique().shape"
   ]
  },
  {
   "cell_type": "code",
   "execution_count": 142,
   "id": "7dd1dd37",
   "metadata": {},
   "outputs": [
    {
     "data": {
      "text/plain": [
       "Index(['LeaderID', 'CareerString_1', 'CareerDateString_2022_1',\n",
       "       'CareerStartYear_1', 'CareerStartMonth_1', 'CareerStartDate_1',\n",
       "       'CareerSubstring_1', 'InstitutionType_1', 'PrimaryInstitution_1',\n",
       "       'OrgName_1', 'Position_1', 'IsElected_1', 'OrgRank_1', 'PositionRank_1',\n",
       "       'CareerString_2', 'CareerDateString_2022_2', 'CareerStartYear_2',\n",
       "       'CareerStartMonth_2', 'CareerStartDate_2', 'CareerSubstring_2',\n",
       "       'InstitutionType_2', 'PrimaryInstitution_2', 'OrgName_2', 'Position_2',\n",
       "       'IsElected_2', 'OrgRank_2', 'PositionRank_2', 'OrgAdvance',\n",
       "       'PositionAdvance'],\n",
       "      dtype='object')"
      ]
     },
     "execution_count": 142,
     "metadata": {},
     "output_type": "execute_result"
    }
   ],
   "source": [
    "trans.columns"
   ]
  },
  {
   "cell_type": "code",
   "execution_count": null,
   "id": "3a97a584",
   "metadata": {},
   "outputs": [],
   "source": []
  },
  {
   "cell_type": "code",
   "execution_count": null,
   "id": "03081390",
   "metadata": {},
   "outputs": [],
   "source": []
  }
 ],
 "metadata": {
  "kernelspec": {
   "display_name": "Python 3 (ipykernel)",
   "language": "python",
   "name": "python3"
  },
  "language_info": {
   "codemirror_mode": {
    "name": "ipython",
    "version": 3
   },
   "file_extension": ".py",
   "mimetype": "text/x-python",
   "name": "python",
   "nbconvert_exporter": "python",
   "pygments_lexer": "ipython3",
   "version": "3.11.5"
  }
 },
 "nbformat": 4,
 "nbformat_minor": 5
}
