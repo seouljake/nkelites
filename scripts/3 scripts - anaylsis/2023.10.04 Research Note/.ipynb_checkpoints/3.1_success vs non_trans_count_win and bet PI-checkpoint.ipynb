{
 "cells": [
  {
   "cell_type": "code",
   "execution_count": 139,
   "id": "74698cf3",
   "metadata": {},
   "outputs": [],
   "source": [
    "import pandas as pd\n",
    "import numpy as np\n",
    "from datetime import date\n",
    "from statistics import mean, mode\n",
    "from pandas.api.types import CategoricalDtype\n",
    "import math\n",
    "from scipy.stats import norm"
   ]
  },
  {
   "cell_type": "code",
   "execution_count": 140,
   "id": "75aa1647",
   "metadata": {},
   "outputs": [
    {
     "name": "stdout",
     "output_type": "stream",
     "text": [
      "2024-01-14\n"
     ]
    }
   ],
   "source": [
    "today = date.today()\n",
    "print(today)"
   ]
  },
  {
   "cell_type": "markdown",
   "id": "aaf25c71",
   "metadata": {},
   "source": [
    "# Tables"
   ]
  },
  {
   "cell_type": "code",
   "execution_count": 141,
   "id": "f2c9c339",
   "metadata": {},
   "outputs": [],
   "source": [
    "path_tables = \"C:/Users/seoul/Dropbox/00 technical/github/nkelites/data/combined data/combined data - 2 tables/\""
   ]
  },
  {
   "cell_type": "code",
   "execution_count": 142,
   "id": "200fa7f5",
   "metadata": {},
   "outputs": [],
   "source": [
    "# tables\n",
    "filename_careerorglink = \"careerorglink.xlsx\"\n",
    "filename_leadercareerlink = \"leadercareerlink.xlsx\"\n",
    "filename_orgtree = \"orgtree.xlsx\"\n",
    "filename_elected = \"positions_elected.xlsx\""
   ]
  },
  {
   "cell_type": "code",
   "execution_count": 143,
   "id": "b7d9b165",
   "metadata": {
    "scrolled": true
   },
   "outputs": [],
   "source": [
    "# career-org link\n",
    "# col = pd.read_excel(path_tables + filename_careerorglink,dtype=\"str\")\n",
    "# col.shape"
   ]
  },
  {
   "cell_type": "code",
   "execution_count": 144,
   "id": "0bd17a8f",
   "metadata": {},
   "outputs": [],
   "source": [
    "# col.columns"
   ]
  },
  {
   "cell_type": "code",
   "execution_count": 145,
   "id": "4aa22e14",
   "metadata": {},
   "outputs": [],
   "source": [
    "# leader-career link\n",
    "# lcl = pd.read_excel(path_tables + filename_leadercareerlink,dtype=\"str\")\n",
    "# lcl.shape"
   ]
  },
  {
   "cell_type": "code",
   "execution_count": 146,
   "id": "ac0f5205",
   "metadata": {},
   "outputs": [],
   "source": [
    "# lcl.columns"
   ]
  },
  {
   "cell_type": "code",
   "execution_count": 147,
   "id": "44ba37bd",
   "metadata": {},
   "outputs": [],
   "source": [
    "# orgtree\n",
    "# org = pd.read_excel(path_tables + filename_orgtree,dtype=\"str\")\n",
    "# org.shape"
   ]
  },
  {
   "cell_type": "code",
   "execution_count": 148,
   "id": "05b6e3e8",
   "metadata": {},
   "outputs": [],
   "source": [
    "# org.columns"
   ]
  },
  {
   "cell_type": "code",
   "execution_count": 149,
   "id": "b93b05ba",
   "metadata": {},
   "outputs": [],
   "source": [
    "# elected = pd.read_excel(path_tables + filename_elected,dtype=\"str\")\n",
    "# elected.shape"
   ]
  },
  {
   "cell_type": "code",
   "execution_count": 150,
   "id": "011dfaa4",
   "metadata": {},
   "outputs": [],
   "source": [
    "# elected.columns"
   ]
  },
  {
   "cell_type": "markdown",
   "id": "52841326",
   "metadata": {},
   "source": [
    "# Queries"
   ]
  },
  {
   "cell_type": "code",
   "execution_count": 151,
   "id": "df5b44ce",
   "metadata": {},
   "outputs": [],
   "source": [
    "path_queries = \"C:/Users/seoul/Dropbox/00 technical/github/nkelites/data/combined data/combined data - 3 queries/\""
   ]
  },
  {
   "cell_type": "code",
   "execution_count": 152,
   "id": "4fa255b3",
   "metadata": {},
   "outputs": [],
   "source": [
    "filename_leaderjob_all = \"leaderjob_electUnelect_inOutgov.xlsx\"\n",
    "filename_leaderjob_no_spa = \"leaderjob_no_spa.xlsx\"\n",
    "filename_leaderjobtransition_no_spa = \"leaderjobtransition_no_spa.xlsx\""
   ]
  },
  {
   "cell_type": "code",
   "execution_count": 153,
   "id": "45955b23",
   "metadata": {},
   "outputs": [],
   "source": [
    "# leader jobs\n",
    "# ljobs_all = pd.read_excel(path_queries + filename_leaderjob_all,dtype=\"str\")\n",
    "# ljobs_all.shape"
   ]
  },
  {
   "cell_type": "code",
   "execution_count": 154,
   "id": "96354cc9",
   "metadata": {},
   "outputs": [],
   "source": [
    "# ljobs = pd.read_excel(path_queries + filename_leaderjob_no_spa,dtype=\"str\")\n",
    "# ljobs.shape"
   ]
  },
  {
   "cell_type": "code",
   "execution_count": 155,
   "id": "31cb5cd4",
   "metadata": {},
   "outputs": [
    {
     "data": {
      "text/plain": [
       "(4306, 31)"
      ]
     },
     "execution_count": 155,
     "metadata": {},
     "output_type": "execute_result"
    }
   ],
   "source": [
    "# transitions used for analysis - no SPA - no local-local\n",
    "trans = pd.read_excel(path_queries + filename_leaderjobtransition_no_spa,dtype=\"str\")\n",
    "trans.shape"
   ]
  },
  {
   "cell_type": "markdown",
   "id": "16c49e74",
   "metadata": {},
   "source": [
    "# Analysis - Research Note"
   ]
  },
  {
   "cell_type": "code",
   "execution_count": 156,
   "id": "39648498",
   "metadata": {},
   "outputs": [],
   "source": [
    "path_analysis = \"C:/Users/seoul/Dropbox/00 technical/github/nkelites/analysis/\""
   ]
  },
  {
   "cell_type": "code",
   "execution_count": 157,
   "id": "72a5cd0f",
   "metadata": {},
   "outputs": [],
   "source": [
    "# analysis sub-paths\n",
    "study0_path = \"2023.10.04 Study 0 - research note/\"\n",
    "study1_path = \"2023.10.04 Study 1 - political capital/\"\n",
    "study2_path = \"2023.10.04 Study 2 - commitment vs control/\"\n",
    "study3_path = \"2023.10.04 Study 3 - reds vs experts/\""
   ]
  },
  {
   "cell_type": "code",
   "execution_count": 158,
   "id": "27470b4e",
   "metadata": {},
   "outputs": [],
   "source": [
    "# ljobs = ljobs.astype({\"CareerStartYear\":\"int\",\"CareerStartDate\":\"int\"})\n",
    "# ljobs.dtypes"
   ]
  },
  {
   "cell_type": "markdown",
   "id": "7d59db9d",
   "metadata": {},
   "source": [
    "# Functions"
   ]
  },
  {
   "cell_type": "code",
   "execution_count": 159,
   "id": "ba5de424",
   "metadata": {},
   "outputs": [],
   "source": [
    "def merge_results(m):\n",
    "    \n",
    "    print(\"\\nMerge Results...\")\n",
    "    print(\"\")\n",
    "    print(\"\\tshape     :\",m.shape)\n",
    "    print(\"\\tleft_only :\",m[m[\"_merge\"]==\"left_only\"].shape)\n",
    "    print(\"\\tboth      :\",m[m[\"_merge\"]==\"both\"].shape)\n",
    "    print(\"\\tright_only:\",m[m[\"_merge\"]==\"right_only\"].shape)"
   ]
  },
  {
   "cell_type": "code",
   "execution_count": 160,
   "id": "d3411709",
   "metadata": {},
   "outputs": [],
   "source": [
    "# using this on (PI,OrgName) will ensure unique & non-null keys\n",
    "# using this on a larger df will ensure unique rows and non-null keys, but not unique keys\n",
    "\n",
    "def unique_non_null_rows(olddf):\n",
    "    \n",
    "    df = olddf.copy()\n",
    "    \n",
    "    \n",
    "    ### drop duplicates\n",
    "    df = df.drop_duplicates(keep=\"first\",ignore_index=True)\n",
    "\n",
    "    ### drop null rows\n",
    "    df.dropna(how=\"all\",axis=0,inplace=True)\n",
    "    \n",
    "    # drop rows with null PI\n",
    "    df = df[~(df[\"PrimaryInstitution\"].isna())]\n",
    "        \n",
    "    ### drop rows where PI contains stop words\n",
    "    stop_words_lower = [\"uncertain\",\"current\",\"deprecated\",\"please_revise\"]\n",
    "    df = df[ ~ df[\"PrimaryInstitution\"].str.lower().isin(stop_words_lower)]\n",
    "            \n",
    "\n",
    "    print(\"\\nUnique Non-null Rows...\")\n",
    "    print(\"\")\n",
    "    print(\"\\tNon-unique rows:\",olddf.shape)\n",
    "    print(\"\\tUnique rows    :\",df.shape)\n",
    "\n",
    "    ### sort\n",
    "    df = df.sort_values([\"PrimaryInstitution\",\"OrgName\"])\n",
    "    \n",
    "    return df"
   ]
  },
  {
   "cell_type": "code",
   "execution_count": 161,
   "id": "945f13c9",
   "metadata": {},
   "outputs": [],
   "source": [
    "def create_time_series(series,group_var,count_var):\n",
    "    \n",
    "    yeardist = series.groupby(group_var,as_index=False).count().sort_values(group_var)\n",
    "    \n",
    "    max_year = max(series[group_var])\n",
    "    x = pd.DataFrame({\"year\":pd.Series(range(min(yeardist[group_var].astype(int)),max(yeardist[group_var].astype(int))+1))})\n",
    "    \n",
    "    yeardist[group_var] = yeardist[group_var].astype(int,errors=\"ignore\")\n",
    "    \n",
    "    ts = x.merge(yeardist,left_on=\"year\",right_on=group_var,how=\"left\")\n",
    "    ts.loc[ts[count_var].isna(),count_var]=0\n",
    "    # merge_results(ts)\n",
    "    \n",
    "    ts_columns = [\"year\",count_var]\n",
    "    ts = ts[ts_columns]\n",
    "    \n",
    "    return ts"
   ]
  },
  {
   "cell_type": "code",
   "execution_count": 162,
   "id": "fb9d2ff8",
   "metadata": {},
   "outputs": [],
   "source": [
    "# create InstitutionCategory (English) variable InstitutionType\n",
    "\n",
    "# use with apply. e.g., \n",
    "# df[\"InstitutionCategory] = df[\"InstitutionType\"].apply(define_institution_category)\n",
    "\n",
    "def define_institution_category(PI):\n",
    "    \n",
    "    c = \"Social\"\n",
    "    \n",
    "    if PI==\"정권기관\":\n",
    "        c = \"Government\"\n",
    "    elif PI==\"노동당\":\n",
    "        c = \"Party\"\n",
    "    elif PI==\"인민군\":\n",
    "        c = \"Military\"\n",
    "        \n",
    "    return c"
   ]
  },
  {
   "cell_type": "code",
   "execution_count": 163,
   "id": "ffc5547a",
   "metadata": {},
   "outputs": [],
   "source": [
    "def two_sample_ttest_proportions(x1,x2,n1,n2,alpha):\n",
    "    \n",
    "    pstar = (x1+x2)/(n1+n2)\n",
    "    p1 = x1/n1\n",
    "    p2 = x2/n2\n",
    "    z = (p1-p2) / math.sqrt(pstar*(1-pstar)*((1/n1) + (1/n2)))\n",
    "    pvalue = 1-norm.cdf(abs(z))\n",
    "    \n",
    "    # add significance stars to result\n",
    "    stars = \"\"\n",
    "    if pvalue<.05:\n",
    "        stars = \"*\"\n",
    "    if pvalue<.01:\n",
    "        stars = \"**\"\n",
    "    if pvalue<.001:\n",
    "        stars = \"***\"\n",
    "    result = str(pvalue)+stars\n",
    "    \n",
    "    print(\"p1:\\t\",p1)\n",
    "    print(\"p2:\\t\",p2)\n",
    "    print(\"p1-p2:\\t\",(p1-p2))\n",
    "    print(\"z:\\t\",z)\n",
    "    print(\"pvalue:\\t\",result)"
   ]
  },
  {
   "cell_type": "code",
   "execution_count": 164,
   "id": "234a245b",
   "metadata": {},
   "outputs": [],
   "source": [
    "# apply two_sample_ttest_proportions across categories\n",
    "\n",
    "def ttest_by_group_variable(group_var,ics,stat,between_row,within_row,period1_col,period2_col):\n",
    "\n",
    "    print(\"\\ngrouping by: \",group_var)\n",
    "\n",
    "    for ic in ics:\n",
    "\n",
    "        print(\"\\n\\n\",ic,\"\\n\\n\")\n",
    "        \n",
    "\n",
    "        stat_ic = stat[stat[group_var]==ic]\n",
    "\n",
    "        # two-sample ttest of proportions: p(between PI trans in s1) > p(between PI trans in s2)\n",
    "        x1 = stat_ic.iloc[period1_col,between_row]\n",
    "        n1 = stat_ic.iloc[period1_col,between_row] + stat_ic.iloc[period1_col,within_row]\n",
    "        x2 = stat_ic.iloc[period2_col,between_row]\n",
    "        n2 = stat_ic.iloc[period2_col,between_row] + stat_ic.iloc[period2_col,within_row]\n",
    "        alpha = .05\n",
    "        print(x1,x2,n1,n2,alpha)\n",
    "        two_sample_ttest_proportions(x1,x2,n1,n2,alpha)"
   ]
  },
  {
   "cell_type": "markdown",
   "id": "224feffb",
   "metadata": {},
   "source": [
    "# Format & Covariates"
   ]
  },
  {
   "cell_type": "markdown",
   "id": "7178064f",
   "metadata": {},
   "source": [
    "### 0. change datatypes"
   ]
  },
  {
   "cell_type": "code",
   "execution_count": 165,
   "id": "b22117ac",
   "metadata": {},
   "outputs": [
    {
     "data": {
      "text/plain": [
       "LeaderID                   object\n",
       "CareerString_1             object\n",
       "CareerDateString_2022_1    object\n",
       "CareerStartYear_1           int32\n",
       "CareerStartMonth_1         object\n",
       "CareerStartDate_1           int32\n",
       "CareerSubstring_1          object\n",
       "InstitutionType_1          object\n",
       "PrimaryInstitution_1       object\n",
       "OrgName_1                  object\n",
       "Local_1                    object\n",
       "Position_1                 object\n",
       "IsElected_1                object\n",
       "OrgRank_1                  object\n",
       "PositionRank_1             object\n",
       "CareerString_2             object\n",
       "CareerDateString_2022_2    object\n",
       "CareerStartYear_2           int32\n",
       "CareerStartMonth_2         object\n",
       "CareerStartDate_2           int32\n",
       "CareerSubstring_2          object\n",
       "InstitutionType_2          object\n",
       "PrimaryInstitution_2       object\n",
       "OrgName_2                  object\n",
       "Local_2                    object\n",
       "Position_2                 object\n",
       "IsElected_2                object\n",
       "OrgRank_2                  object\n",
       "PositionRank_2             object\n",
       "OrgAdvance                  int32\n",
       "PositionAdvance             int32\n",
       "dtype: object"
      ]
     },
     "execution_count": 165,
     "metadata": {},
     "output_type": "execute_result"
    }
   ],
   "source": [
    "trans = trans.astype({\"OrgAdvance\":\"int\",\"PositionAdvance\":\"int\",\n",
    "                      \"CareerStartYear_1\":\"int\",\"CareerStartYear_2\":\"int\",\n",
    "                      \"CareerStartDate_1\":\"int\",\"CareerStartDate_2\":\"int\"})\n",
    "trans.dtypes"
   ]
  },
  {
   "cell_type": "markdown",
   "id": "6d0fa0f4",
   "metadata": {},
   "source": [
    "### 1. double-check exlcudes SPA jobs and local-local trans"
   ]
  },
  {
   "cell_type": "code",
   "execution_count": 166,
   "id": "93f690ba",
   "metadata": {},
   "outputs": [
    {
     "data": {
      "text/plain": [
       "Index(['LeaderID', 'CareerString_1', 'CareerDateString_2022_1',\n",
       "       'CareerStartYear_1', 'CareerStartMonth_1', 'CareerStartDate_1',\n",
       "       'CareerSubstring_1', 'InstitutionType_1', 'PrimaryInstitution_1',\n",
       "       'OrgName_1', 'Local_1', 'Position_1', 'IsElected_1', 'OrgRank_1',\n",
       "       'PositionRank_1', 'CareerString_2', 'CareerDateString_2022_2',\n",
       "       'CareerStartYear_2', 'CareerStartMonth_2', 'CareerStartDate_2',\n",
       "       'CareerSubstring_2', 'InstitutionType_2', 'PrimaryInstitution_2',\n",
       "       'OrgName_2', 'Local_2', 'Position_2', 'IsElected_2', 'OrgRank_2',\n",
       "       'PositionRank_2', 'OrgAdvance', 'PositionAdvance'],\n",
       "      dtype='object')"
      ]
     },
     "execution_count": 166,
     "metadata": {},
     "output_type": "execute_result"
    }
   ],
   "source": [
    "trans.columns"
   ]
  },
  {
   "cell_type": "code",
   "execution_count": 167,
   "id": "6ae6e6c4",
   "metadata": {},
   "outputs": [
    {
     "data": {
      "text/plain": [
       "(4306, 31)"
      ]
     },
     "execution_count": 167,
     "metadata": {},
     "output_type": "execute_result"
    }
   ],
   "source": [
    "trans.shape"
   ]
  },
  {
   "cell_type": "code",
   "execution_count": 168,
   "id": "d79f24b1",
   "metadata": {},
   "outputs": [
    {
     "data": {
      "text/plain": [
       "array(['False', 'True'], dtype=object)"
      ]
     },
     "execution_count": 168,
     "metadata": {},
     "output_type": "execute_result"
    }
   ],
   "source": [
    "trans.Local_1.unique()"
   ]
  },
  {
   "cell_type": "code",
   "execution_count": 169,
   "id": "26322931",
   "metadata": {},
   "outputs": [
    {
     "data": {
      "text/plain": [
       "(4222, 31)"
      ]
     },
     "execution_count": 169,
     "metadata": {},
     "output_type": "execute_result"
    }
   ],
   "source": [
    "# remove Local-Local ties\n",
    "trans = trans[~((trans[\"Local_1\"]==\"True\") & (trans[\"Local_2\"]==\"True\"))]\n",
    "trans.shape"
   ]
  },
  {
   "cell_type": "markdown",
   "id": "89b8005e",
   "metadata": {},
   "source": [
    "### 2. add InstitutionCategory_1, InstitutionCategory_2"
   ]
  },
  {
   "cell_type": "code",
   "execution_count": 170,
   "id": "2c23bb5d",
   "metadata": {},
   "outputs": [
    {
     "data": {
      "text/plain": [
       "array(['정권기관', '국제친선단체', '노동당', '인민군', '당외곽및사회단체_사회부문(별책)',\n",
       "       '당외곽및사회단체_사회부문', '당외곽및사회단체_체육부문', '당외곽및사회단체_정치부문', '당외곽및사회단체_대외부문',\n",
       "       '당외곽및사회단체_근로단체', '당외곽및사회단체_종교부문', '당외곽및사회단체_경제부문(별책)',\n",
       "       '당외곽및사회단체_경제부문'], dtype=object)"
      ]
     },
     "execution_count": 170,
     "metadata": {},
     "output_type": "execute_result"
    }
   ],
   "source": [
    "trans.InstitutionType_1.unique()"
   ]
  },
  {
   "cell_type": "markdown",
   "id": "85a5450f",
   "metadata": {},
   "source": [
    "### 3. PISame, OrgSame"
   ]
  },
  {
   "cell_type": "code",
   "execution_count": 171,
   "id": "fa61b250",
   "metadata": {},
   "outputs": [
    {
     "data": {
      "text/plain": [
       "Index(['LeaderID', 'CareerString_1', 'CareerDateString_2022_1',\n",
       "       'CareerStartYear_1', 'CareerStartMonth_1', 'CareerStartDate_1',\n",
       "       'CareerSubstring_1', 'InstitutionType_1', 'PrimaryInstitution_1',\n",
       "       'OrgName_1', 'Local_1', 'Position_1', 'IsElected_1', 'OrgRank_1',\n",
       "       'PositionRank_1', 'CareerString_2', 'CareerDateString_2022_2',\n",
       "       'CareerStartYear_2', 'CareerStartMonth_2', 'CareerStartDate_2',\n",
       "       'CareerSubstring_2', 'InstitutionType_2', 'PrimaryInstitution_2',\n",
       "       'OrgName_2', 'Local_2', 'Position_2', 'IsElected_2', 'OrgRank_2',\n",
       "       'PositionRank_2', 'OrgAdvance', 'PositionAdvance'],\n",
       "      dtype='object')"
      ]
     },
     "execution_count": 171,
     "metadata": {},
     "output_type": "execute_result"
    }
   ],
   "source": [
    "trans.columns"
   ]
  },
  {
   "cell_type": "code",
   "execution_count": 172,
   "id": "c948f887",
   "metadata": {},
   "outputs": [
    {
     "data": {
      "text/plain": [
       "array([False,  True])"
      ]
     },
     "execution_count": 172,
     "metadata": {},
     "output_type": "execute_result"
    }
   ],
   "source": [
    "trans[\"PISame\"] = False\n",
    "trans.loc[trans[\"PrimaryInstitution_1\"]==trans[\"PrimaryInstitution_2\"],[\"PISame\"]] = True\n",
    "trans.PISame.unique()"
   ]
  },
  {
   "cell_type": "code",
   "execution_count": 173,
   "id": "4ee35bbd",
   "metadata": {},
   "outputs": [
    {
     "data": {
      "text/plain": [
       "array([nan, True, False], dtype=object)"
      ]
     },
     "execution_count": 173,
     "metadata": {},
     "output_type": "execute_result"
    }
   ],
   "source": [
    "trans[\"OrgSame\"] = np.nan\n",
    "trans.loc[trans[\"PISame\"]==True,\"OrgSame\"] = False\n",
    "trans.loc[(trans[\"PISame\"]==True) & (trans[\"OrgName_1\"]==trans[\"OrgName_2\"]),[\"OrgSame\"]] = True\n",
    "trans.OrgSame.unique()"
   ]
  },
  {
   "cell_type": "markdown",
   "id": "2c1d7604",
   "metadata": {},
   "source": [
    "### 4. OrgRankChange, PositionRankChange"
   ]
  },
  {
   "cell_type": "code",
   "execution_count": 174,
   "id": "6d952efc",
   "metadata": {},
   "outputs": [],
   "source": [
    "trans[\"OrgRankChange\"] = np.nan"
   ]
  },
  {
   "cell_type": "code",
   "execution_count": 175,
   "id": "7b8ad44b",
   "metadata": {},
   "outputs": [],
   "source": [
    "trans.loc[trans[\"PISame\"] & (trans[\"OrgRank_1\"]>trans[\"OrgRank_2\"]),\"OrgRankChange\"] = \"lower\"\n",
    "trans.loc[trans[\"PISame\"] & (trans[\"OrgRank_1\"]==trans[\"OrgRank_2\"]),\"OrgRankChange\"] = \"same\"\n",
    "trans.loc[trans[\"PISame\"] & (trans[\"OrgRank_1\"]<trans[\"OrgRank_2\"]),\"OrgRankChange\"] = \"higher\""
   ]
  },
  {
   "cell_type": "code",
   "execution_count": 176,
   "id": "a9670361",
   "metadata": {},
   "outputs": [],
   "source": [
    "value_order = [\"lower\",\"same\",\"higher\"]\n",
    "trans.OrgRankChange = trans.OrgRankChange.astype(\"category\")\n",
    "trans.OrgRankChange = trans.OrgRankChange.cat.set_categories(value_order)"
   ]
  },
  {
   "cell_type": "code",
   "execution_count": 177,
   "id": "f6419f47",
   "metadata": {},
   "outputs": [
    {
     "data": {
      "text/plain": [
       "[NaN, 'same', 'higher', 'lower']\n",
       "Categories (3, object): ['lower', 'same', 'higher']"
      ]
     },
     "execution_count": 177,
     "metadata": {},
     "output_type": "execute_result"
    }
   ],
   "source": [
    "trans.OrgRankChange.unique()"
   ]
  },
  {
   "cell_type": "code",
   "execution_count": 178,
   "id": "2a902ad9",
   "metadata": {},
   "outputs": [],
   "source": [
    "trans[\"PositionRankChange\"] = np.nan"
   ]
  },
  {
   "cell_type": "code",
   "execution_count": 179,
   "id": "8aef237c",
   "metadata": {},
   "outputs": [],
   "source": [
    "trans.loc[trans[\"OrgSame\"] & (trans[\"PositionRank_1\"]>trans[\"PositionRank_2\"]),\"PositionRankChange\"] = \"lower\"\n",
    "trans.loc[trans[\"OrgSame\"] & (trans[\"PositionRank_1\"]==trans[\"PositionRank_2\"]),\"PositionRankChange\"] = \"same\"\n",
    "trans.loc[trans[\"OrgSame\"] & (trans[\"PositionRank_1\"]<trans[\"PositionRank_2\"]),\"PositionRankChange\"] = \"higher\""
   ]
  },
  {
   "cell_type": "code",
   "execution_count": 180,
   "id": "5e716cc8",
   "metadata": {},
   "outputs": [],
   "source": [
    "value_order = [\"lower\",\"same\",\"higher\"]\n",
    "trans.PositionRankChange = trans.PositionRankChange.astype(\"category\")\n",
    "trans.PositionRankChange = trans.PositionRankChange.cat.set_categories(value_order)"
   ]
  },
  {
   "cell_type": "code",
   "execution_count": 181,
   "id": "404e6562",
   "metadata": {},
   "outputs": [
    {
     "data": {
      "text/plain": [
       "[NaN, 'same', 'lower', 'higher']\n",
       "Categories (3, object): ['lower', 'same', 'higher']"
      ]
     },
     "execution_count": 181,
     "metadata": {},
     "output_type": "execute_result"
    }
   ],
   "source": [
    "trans.PositionRankChange.unique()"
   ]
  },
  {
   "cell_type": "markdown",
   "id": "b9d6f5ef",
   "metadata": {},
   "source": [
    "### 5. Succession Period - Broad\n",
    "\n",
    "* KIS-->KJI: 1974-1993 - less institutionalized (stronger intra)\n",
    "* KJI--->KJU:  2002-2011 - more institutionalized (stronger inter)\n",
    "\n",
    "* KISlate: 1974-1993 - succession\n",
    "* KJIearly: 1994-2001 - non-succession\n",
    "* KJIlate: 2002-2011 - succession\n",
    "* KJUearly: 2011-2018 - X \n",
    "\n",
    "* s1 vs s2: KISlate vs KJIlate\n",
    "\n",
    "* succession vs non-succession\n",
    "    * succession: KISlate, KJIlate\n",
    "    * non-succession: KJIearly (1994-2001)"
   ]
  },
  {
   "cell_type": "code",
   "execution_count": 182,
   "id": "85574772",
   "metadata": {},
   "outputs": [],
   "source": [
    "trans[\"Succession_Broad\"] = np.nan"
   ]
  },
  {
   "cell_type": "code",
   "execution_count": 183,
   "id": "4e61e921",
   "metadata": {},
   "outputs": [],
   "source": [
    "value_order = [\"KIS to KJI\",\"KJI to KJU\"]\n",
    "trans.Succession_Broad = trans.Succession_Broad.astype(\"category\")\n",
    "trans.Succession_Broad = trans.Succession_Broad.cat.set_categories(value_order)"
   ]
  },
  {
   "cell_type": "code",
   "execution_count": 184,
   "id": "4b01e6b8",
   "metadata": {},
   "outputs": [],
   "source": [
    "trans.loc[(trans[\"CareerStartYear_2\"]>1973) & (trans[\"CareerStartYear_2\"]<1994),\"Succession_Broad\"] = \"KIS to KJI\"\n",
    "trans.loc[(trans[\"CareerStartYear_2\"]>2001) & (trans[\"CareerStartYear_2\"]<2012),\"Succession_Broad\"] = \"KJI to KJU\""
   ]
  },
  {
   "cell_type": "code",
   "execution_count": 185,
   "id": "99b41611",
   "metadata": {},
   "outputs": [
    {
     "data": {
      "text/html": [
       "<div>\n",
       "<style scoped>\n",
       "    .dataframe tbody tr th:only-of-type {\n",
       "        vertical-align: middle;\n",
       "    }\n",
       "\n",
       "    .dataframe tbody tr th {\n",
       "        vertical-align: top;\n",
       "    }\n",
       "\n",
       "    .dataframe thead th {\n",
       "        text-align: right;\n",
       "    }\n",
       "</style>\n",
       "<table border=\"1\" class=\"dataframe\">\n",
       "  <thead>\n",
       "    <tr style=\"text-align: right;\">\n",
       "      <th></th>\n",
       "      <th>Succession_Broad</th>\n",
       "      <th>OrgName_2</th>\n",
       "    </tr>\n",
       "  </thead>\n",
       "  <tbody>\n",
       "    <tr>\n",
       "      <th>0</th>\n",
       "      <td>KIS to KJI</td>\n",
       "      <td>674</td>\n",
       "    </tr>\n",
       "    <tr>\n",
       "      <th>1</th>\n",
       "      <td>KJI to KJU</td>\n",
       "      <td>648</td>\n",
       "    </tr>\n",
       "  </tbody>\n",
       "</table>\n",
       "</div>"
      ],
      "text/plain": [
       "  Succession_Broad  OrgName_2\n",
       "0       KIS to KJI        674\n",
       "1       KJI to KJU        648"
      ]
     },
     "execution_count": 185,
     "metadata": {},
     "output_type": "execute_result"
    }
   ],
   "source": [
    "trans[[\"Succession_Broad\",\"OrgName_2\"]].groupby(\"Succession_Broad\",as_index=False).count()"
   ]
  },
  {
   "cell_type": "code",
   "execution_count": 186,
   "id": "2a42e205",
   "metadata": {},
   "outputs": [
    {
     "data": {
      "text/plain": [
       "34      1977\n",
       "35      1977\n",
       "36      1979\n",
       "37      1980\n",
       "38      1982\n",
       "        ... \n",
       "3805    1980\n",
       "3934    1993\n",
       "4285    1977\n",
       "4286    1980\n",
       "4287    1990\n",
       "Name: CareerStartYear_2, Length: 1006, dtype: int32"
      ]
     },
     "execution_count": 186,
     "metadata": {},
     "output_type": "execute_result"
    }
   ],
   "source": [
    "trans.loc[trans[\"Succession_Broad\"]==\"KIS to KJI\",\"CareerStartYear_2\"]"
   ]
  },
  {
   "cell_type": "markdown",
   "id": "4e688700",
   "metadata": {},
   "source": [
    "### 5.1 IsSuccessionBroad"
   ]
  },
  {
   "cell_type": "code",
   "execution_count": 187,
   "id": "f842abc4",
   "metadata": {},
   "outputs": [],
   "source": [
    "trans[\"IsSuccessionBroad\"] = np.nan"
   ]
  },
  {
   "cell_type": "code",
   "execution_count": 189,
   "id": "349ed3bd",
   "metadata": {},
   "outputs": [],
   "source": [
    "trans.loc[~trans[\"Succession_Broad\"].isna(),\"IsSuccessionBroad\"] = True\n",
    "trans.loc[(trans[\"CareerStartYear_2\"]>1993) & (trans[\"CareerStartYear_2\"]<2002),\"IsSuccessionBroad\"] = False"
   ]
  },
  {
   "cell_type": "code",
   "execution_count": 191,
   "id": "fb58a725",
   "metadata": {},
   "outputs": [
    {
     "data": {
      "text/html": [
       "<div>\n",
       "<style scoped>\n",
       "    .dataframe tbody tr th:only-of-type {\n",
       "        vertical-align: middle;\n",
       "    }\n",
       "\n",
       "    .dataframe tbody tr th {\n",
       "        vertical-align: top;\n",
       "    }\n",
       "\n",
       "    .dataframe thead th {\n",
       "        text-align: right;\n",
       "    }\n",
       "</style>\n",
       "<table border=\"1\" class=\"dataframe\">\n",
       "  <thead>\n",
       "    <tr style=\"text-align: right;\">\n",
       "      <th></th>\n",
       "      <th>CareerStartYear_2</th>\n",
       "      <th>IsSuccessionBroad</th>\n",
       "      <th>LeaderID</th>\n",
       "    </tr>\n",
       "  </thead>\n",
       "  <tbody>\n",
       "    <tr>\n",
       "      <th>0</th>\n",
       "      <td>1974</td>\n",
       "      <td>True</td>\n",
       "      <td>28</td>\n",
       "    </tr>\n",
       "    <tr>\n",
       "      <th>1</th>\n",
       "      <td>1975</td>\n",
       "      <td>True</td>\n",
       "      <td>15</td>\n",
       "    </tr>\n",
       "    <tr>\n",
       "      <th>2</th>\n",
       "      <td>1976</td>\n",
       "      <td>True</td>\n",
       "      <td>25</td>\n",
       "    </tr>\n",
       "    <tr>\n",
       "      <th>3</th>\n",
       "      <td>1977</td>\n",
       "      <td>True</td>\n",
       "      <td>38</td>\n",
       "    </tr>\n",
       "    <tr>\n",
       "      <th>4</th>\n",
       "      <td>1978</td>\n",
       "      <td>True</td>\n",
       "      <td>25</td>\n",
       "    </tr>\n",
       "    <tr>\n",
       "      <th>5</th>\n",
       "      <td>1979</td>\n",
       "      <td>True</td>\n",
       "      <td>14</td>\n",
       "    </tr>\n",
       "    <tr>\n",
       "      <th>6</th>\n",
       "      <td>1980</td>\n",
       "      <td>True</td>\n",
       "      <td>132</td>\n",
       "    </tr>\n",
       "    <tr>\n",
       "      <th>7</th>\n",
       "      <td>1981</td>\n",
       "      <td>True</td>\n",
       "      <td>26</td>\n",
       "    </tr>\n",
       "    <tr>\n",
       "      <th>8</th>\n",
       "      <td>1982</td>\n",
       "      <td>True</td>\n",
       "      <td>48</td>\n",
       "    </tr>\n",
       "    <tr>\n",
       "      <th>9</th>\n",
       "      <td>1983</td>\n",
       "      <td>True</td>\n",
       "      <td>28</td>\n",
       "    </tr>\n",
       "    <tr>\n",
       "      <th>10</th>\n",
       "      <td>1984</td>\n",
       "      <td>True</td>\n",
       "      <td>37</td>\n",
       "    </tr>\n",
       "    <tr>\n",
       "      <th>11</th>\n",
       "      <td>1985</td>\n",
       "      <td>True</td>\n",
       "      <td>49</td>\n",
       "    </tr>\n",
       "    <tr>\n",
       "      <th>12</th>\n",
       "      <td>1986</td>\n",
       "      <td>True</td>\n",
       "      <td>74</td>\n",
       "    </tr>\n",
       "    <tr>\n",
       "      <th>13</th>\n",
       "      <td>1987</td>\n",
       "      <td>True</td>\n",
       "      <td>37</td>\n",
       "    </tr>\n",
       "    <tr>\n",
       "      <th>14</th>\n",
       "      <td>1988</td>\n",
       "      <td>True</td>\n",
       "      <td>67</td>\n",
       "    </tr>\n",
       "    <tr>\n",
       "      <th>15</th>\n",
       "      <td>1989</td>\n",
       "      <td>True</td>\n",
       "      <td>58</td>\n",
       "    </tr>\n",
       "    <tr>\n",
       "      <th>16</th>\n",
       "      <td>1990</td>\n",
       "      <td>True</td>\n",
       "      <td>86</td>\n",
       "    </tr>\n",
       "    <tr>\n",
       "      <th>17</th>\n",
       "      <td>1991</td>\n",
       "      <td>True</td>\n",
       "      <td>87</td>\n",
       "    </tr>\n",
       "    <tr>\n",
       "      <th>18</th>\n",
       "      <td>1992</td>\n",
       "      <td>True</td>\n",
       "      <td>59</td>\n",
       "    </tr>\n",
       "    <tr>\n",
       "      <th>19</th>\n",
       "      <td>1993</td>\n",
       "      <td>True</td>\n",
       "      <td>73</td>\n",
       "    </tr>\n",
       "    <tr>\n",
       "      <th>20</th>\n",
       "      <td>1994</td>\n",
       "      <td>False</td>\n",
       "      <td>44</td>\n",
       "    </tr>\n",
       "    <tr>\n",
       "      <th>21</th>\n",
       "      <td>1995</td>\n",
       "      <td>False</td>\n",
       "      <td>45</td>\n",
       "    </tr>\n",
       "    <tr>\n",
       "      <th>22</th>\n",
       "      <td>1996</td>\n",
       "      <td>False</td>\n",
       "      <td>43</td>\n",
       "    </tr>\n",
       "    <tr>\n",
       "      <th>23</th>\n",
       "      <td>1997</td>\n",
       "      <td>False</td>\n",
       "      <td>43</td>\n",
       "    </tr>\n",
       "    <tr>\n",
       "      <th>24</th>\n",
       "      <td>1998</td>\n",
       "      <td>False</td>\n",
       "      <td>120</td>\n",
       "    </tr>\n",
       "    <tr>\n",
       "      <th>25</th>\n",
       "      <td>1999</td>\n",
       "      <td>False</td>\n",
       "      <td>74</td>\n",
       "    </tr>\n",
       "    <tr>\n",
       "      <th>26</th>\n",
       "      <td>2000</td>\n",
       "      <td>False</td>\n",
       "      <td>56</td>\n",
       "    </tr>\n",
       "    <tr>\n",
       "      <th>27</th>\n",
       "      <td>2001</td>\n",
       "      <td>False</td>\n",
       "      <td>62</td>\n",
       "    </tr>\n",
       "    <tr>\n",
       "      <th>28</th>\n",
       "      <td>2002</td>\n",
       "      <td>True</td>\n",
       "      <td>66</td>\n",
       "    </tr>\n",
       "    <tr>\n",
       "      <th>29</th>\n",
       "      <td>2003</td>\n",
       "      <td>True</td>\n",
       "      <td>87</td>\n",
       "    </tr>\n",
       "    <tr>\n",
       "      <th>30</th>\n",
       "      <td>2004</td>\n",
       "      <td>True</td>\n",
       "      <td>52</td>\n",
       "    </tr>\n",
       "    <tr>\n",
       "      <th>31</th>\n",
       "      <td>2005</td>\n",
       "      <td>True</td>\n",
       "      <td>68</td>\n",
       "    </tr>\n",
       "    <tr>\n",
       "      <th>32</th>\n",
       "      <td>2006</td>\n",
       "      <td>True</td>\n",
       "      <td>67</td>\n",
       "    </tr>\n",
       "    <tr>\n",
       "      <th>33</th>\n",
       "      <td>2007</td>\n",
       "      <td>True</td>\n",
       "      <td>63</td>\n",
       "    </tr>\n",
       "    <tr>\n",
       "      <th>34</th>\n",
       "      <td>2008</td>\n",
       "      <td>True</td>\n",
       "      <td>62</td>\n",
       "    </tr>\n",
       "    <tr>\n",
       "      <th>35</th>\n",
       "      <td>2009</td>\n",
       "      <td>True</td>\n",
       "      <td>142</td>\n",
       "    </tr>\n",
       "    <tr>\n",
       "      <th>36</th>\n",
       "      <td>2010</td>\n",
       "      <td>True</td>\n",
       "      <td>330</td>\n",
       "    </tr>\n",
       "    <tr>\n",
       "      <th>37</th>\n",
       "      <td>2011</td>\n",
       "      <td>True</td>\n",
       "      <td>60</td>\n",
       "    </tr>\n",
       "  </tbody>\n",
       "</table>\n",
       "</div>"
      ],
      "text/plain": [
       "    CareerStartYear_2 IsSuccessionBroad  LeaderID\n",
       "0                1974              True        28\n",
       "1                1975              True        15\n",
       "2                1976              True        25\n",
       "3                1977              True        38\n",
       "4                1978              True        25\n",
       "5                1979              True        14\n",
       "6                1980              True       132\n",
       "7                1981              True        26\n",
       "8                1982              True        48\n",
       "9                1983              True        28\n",
       "10               1984              True        37\n",
       "11               1985              True        49\n",
       "12               1986              True        74\n",
       "13               1987              True        37\n",
       "14               1988              True        67\n",
       "15               1989              True        58\n",
       "16               1990              True        86\n",
       "17               1991              True        87\n",
       "18               1992              True        59\n",
       "19               1993              True        73\n",
       "20               1994             False        44\n",
       "21               1995             False        45\n",
       "22               1996             False        43\n",
       "23               1997             False        43\n",
       "24               1998             False       120\n",
       "25               1999             False        74\n",
       "26               2000             False        56\n",
       "27               2001             False        62\n",
       "28               2002              True        66\n",
       "29               2003              True        87\n",
       "30               2004              True        52\n",
       "31               2005              True        68\n",
       "32               2006              True        67\n",
       "33               2007              True        63\n",
       "34               2008              True        62\n",
       "35               2009              True       142\n",
       "36               2010              True       330\n",
       "37               2011              True        60"
      ]
     },
     "execution_count": 191,
     "metadata": {},
     "output_type": "execute_result"
    }
   ],
   "source": [
    "select_columns = [\"CareerStartYear_2\",\"IsSuccessionBroad\",\"LeaderID\"]\n",
    "group_columns = [\"CareerStartYear_2\",\"IsSuccessionBroad\"]\n",
    "trans[select_columns].groupby(group_columns,as_index=False)[\"LeaderID\"].count()"
   ]
  },
  {
   "cell_type": "markdown",
   "id": "6bd80638",
   "metadata": {},
   "source": [
    "### 6. Succession Period - Narrow\n",
    "\n",
    "#### Esther's periodization\n",
    "* KIS-->KJI: 1987-1994 - less institutionalized (stronger intra)\n",
    "* KJI--->KJU:  2009-2011 - more institutionalized (stronger inter)"
   ]
  },
  {
   "cell_type": "code",
   "execution_count": 210,
   "id": "c304d6bb",
   "metadata": {},
   "outputs": [],
   "source": [
    "trans[\"Succession_Narrow\"] = np.nan"
   ]
  },
  {
   "cell_type": "code",
   "execution_count": 211,
   "id": "5b98cedb",
   "metadata": {},
   "outputs": [],
   "source": [
    "value_order = [\"KIS to KJI\",\"KJI to KJU\"]\n",
    "trans.Succession_Narrow = trans.Succession_Narrow.astype(\"category\")\n",
    "trans.Succession_Narrow = trans.Succession_Narrow.cat.set_categories(value_order)"
   ]
  },
  {
   "cell_type": "code",
   "execution_count": 212,
   "id": "f68822a7",
   "metadata": {},
   "outputs": [],
   "source": [
    "### Esther's periodization\n",
    "\n",
    "trans.loc[(trans[\"CareerStartYear_2\"]>1986) & (trans[\"CareerStartYear_2\"]<1995),\"Succession_Narrow\"] = \"KIS to KJI\"\n",
    "trans.loc[(trans[\"CareerStartYear_2\"]>2008) & (trans[\"CareerStartYear_2\"]<2012),\"Succession_Narrow\"] = \"KJI to KJU\""
   ]
  },
  {
   "cell_type": "code",
   "execution_count": 213,
   "id": "0cff7789",
   "metadata": {
    "scrolled": false
   },
   "outputs": [
    {
     "data": {
      "text/html": [
       "<div>\n",
       "<style scoped>\n",
       "    .dataframe tbody tr th:only-of-type {\n",
       "        vertical-align: middle;\n",
       "    }\n",
       "\n",
       "    .dataframe tbody tr th {\n",
       "        vertical-align: top;\n",
       "    }\n",
       "\n",
       "    .dataframe thead th {\n",
       "        text-align: right;\n",
       "    }\n",
       "</style>\n",
       "<table border=\"1\" class=\"dataframe\">\n",
       "  <thead>\n",
       "    <tr style=\"text-align: right;\">\n",
       "      <th></th>\n",
       "      <th>Succession_Narrow</th>\n",
       "      <th>OrgName_2</th>\n",
       "    </tr>\n",
       "  </thead>\n",
       "  <tbody>\n",
       "    <tr>\n",
       "      <th>0</th>\n",
       "      <td>KIS to KJI</td>\n",
       "      <td>323</td>\n",
       "    </tr>\n",
       "    <tr>\n",
       "      <th>1</th>\n",
       "      <td>KJI to KJU</td>\n",
       "      <td>383</td>\n",
       "    </tr>\n",
       "  </tbody>\n",
       "</table>\n",
       "</div>"
      ],
      "text/plain": [
       "  Succession_Narrow  OrgName_2\n",
       "0        KIS to KJI        323\n",
       "1        KJI to KJU        383"
      ]
     },
     "execution_count": 213,
     "metadata": {},
     "output_type": "execute_result"
    }
   ],
   "source": [
    "trans[[\"Succession_Narrow\",\"OrgName_2\"]].groupby(\"Succession_Narrow\",as_index=False).count()"
   ]
  },
  {
   "cell_type": "markdown",
   "id": "643ed226",
   "metadata": {},
   "source": [
    "### 7. OrgAdvanceYes"
   ]
  },
  {
   "cell_type": "code",
   "execution_count": 214,
   "id": "3f8ba5c4",
   "metadata": {},
   "outputs": [],
   "source": [
    "trans[\"OrgAdvanceYes\"] = np.nan"
   ]
  },
  {
   "cell_type": "code",
   "execution_count": 215,
   "id": "0619d3cd",
   "metadata": {},
   "outputs": [],
   "source": [
    "trans.loc[trans[\"PISame\"]==True,\"OrgAdvanceYes\"] = False\n",
    "trans.loc[trans[\"PISame\"]==True & (trans[\"OrgRank_1\"]>trans[\"OrgRank_2\"]),\"OrgAdvanceYes\"] = True"
   ]
  },
  {
   "cell_type": "markdown",
   "id": "600161bf",
   "metadata": {},
   "source": [
    "### 8. PositionAdvanceYes"
   ]
  },
  {
   "cell_type": "code",
   "execution_count": 216,
   "id": "e3cec35f",
   "metadata": {},
   "outputs": [],
   "source": [
    "trans[\"PositionAdvanceYes\"] = np.nan"
   ]
  },
  {
   "cell_type": "code",
   "execution_count": 217,
   "id": "83dcc4a2",
   "metadata": {},
   "outputs": [],
   "source": [
    "trans.loc[trans[\"OrgSame\"]==True,\"PositionAdvanceYes\"] = False\n",
    "trans.loc[trans[\"OrgSame\"]==True & (trans[\"PositionRank_1\"]>trans[\"PositionRank_2\"]),\"PositionAdvanceYes\"] = True"
   ]
  },
  {
   "cell_type": "markdown",
   "id": "e30c43d6",
   "metadata": {},
   "source": [
    "### 9. InstitutionCategory"
   ]
  },
  {
   "cell_type": "code",
   "execution_count": 218,
   "id": "41b7f5f4",
   "metadata": {},
   "outputs": [
    {
     "data": {
      "text/plain": [
       "Index(['LeaderID', 'CareerString_1', 'CareerDateString_2022_1',\n",
       "       'CareerStartYear_1', 'CareerStartMonth_1', 'CareerStartDate_1',\n",
       "       'CareerSubstring_1', 'InstitutionType_1', 'PrimaryInstitution_1',\n",
       "       'OrgName_1', 'Local_1', 'Position_1', 'IsElected_1', 'OrgRank_1',\n",
       "       'PositionRank_1', 'CareerString_2', 'CareerDateString_2022_2',\n",
       "       'CareerStartYear_2', 'CareerStartMonth_2', 'CareerStartDate_2',\n",
       "       'CareerSubstring_2', 'InstitutionType_2', 'PrimaryInstitution_2',\n",
       "       'OrgName_2', 'Local_2', 'Position_2', 'IsElected_2', 'OrgRank_2',\n",
       "       'PositionRank_2', 'OrgAdvance', 'PositionAdvance', 'PISame', 'OrgSame',\n",
       "       'OrgRankChange', 'PositionRankChange', 'Succession_Broad',\n",
       "       'IsSuccessionBroad', 'Succession_Narrow', 'OrgAdvanceYes',\n",
       "       'PositionAdvanceYes'],\n",
       "      dtype='object')"
      ]
     },
     "execution_count": 218,
     "metadata": {},
     "output_type": "execute_result"
    }
   ],
   "source": [
    "trans.columns"
   ]
  },
  {
   "cell_type": "code",
   "execution_count": 219,
   "id": "3e2cb6fe",
   "metadata": {},
   "outputs": [],
   "source": [
    "trans[\"InstitutionCategory_1\"] = trans[\"InstitutionType_1\"].apply(define_institution_category)\n",
    "trans[\"InstitutionCategory_2\"] = trans[\"InstitutionType_2\"].apply(define_institution_category)"
   ]
  },
  {
   "cell_type": "markdown",
   "id": "be34784d",
   "metadata": {},
   "source": [
    "### 10. InstitutionCategorySame"
   ]
  },
  {
   "cell_type": "code",
   "execution_count": 220,
   "id": "d77928d7",
   "metadata": {},
   "outputs": [],
   "source": [
    "trans[\"InstitutionCategorySame\"] = trans[\"InstitutionCategory_1\"] == trans[\"InstitutionCategory_2\"]"
   ]
  },
  {
   "cell_type": "markdown",
   "id": "9ba34124",
   "metadata": {},
   "source": [
    "### 11. Succession_Five\n",
    "\n",
    "#### Jacob's periodization\n",
    "* KIS-->KJI: 1994-1999 - less institutionalized (stronger intra)\n",
    "* KJI--->KJU:  2011-2016 - more institutionalized (stronger inter)"
   ]
  },
  {
   "cell_type": "code",
   "execution_count": 60,
   "id": "ad809163",
   "metadata": {},
   "outputs": [],
   "source": [
    "trans[\"Succession_Five\"] = np.nan"
   ]
  },
  {
   "cell_type": "code",
   "execution_count": 61,
   "id": "675c0e3d",
   "metadata": {},
   "outputs": [],
   "source": [
    "value_order = [\"KIS to KJI\",\"KJI to KJU\"]\n",
    "trans.Succession_Five = trans.Succession_Five.astype(\"category\")\n",
    "trans.Succession_Five = trans.Succession_Five.cat.set_categories(value_order)"
   ]
  },
  {
   "cell_type": "code",
   "execution_count": 62,
   "id": "64a18561",
   "metadata": {},
   "outputs": [],
   "source": [
    "### Jacob's periodization\n",
    "\n",
    "trans.loc[(trans[\"CareerStartYear_2\"]>1993) & (trans[\"CareerStartYear_2\"]<2000),\"Succession_Five\"] = \"KIS to KJI\"\n",
    "trans.loc[(trans[\"CareerStartYear_2\"]>2010) & (trans[\"CareerStartYear_2\"]<2016),\"Succession_Five\"] = \"KJI to KJU\""
   ]
  },
  {
   "cell_type": "code",
   "execution_count": 63,
   "id": "24e9b26a",
   "metadata": {},
   "outputs": [
    {
     "data": {
      "text/html": [
       "<div>\n",
       "<style scoped>\n",
       "    .dataframe tbody tr th:only-of-type {\n",
       "        vertical-align: middle;\n",
       "    }\n",
       "\n",
       "    .dataframe tbody tr th {\n",
       "        vertical-align: top;\n",
       "    }\n",
       "\n",
       "    .dataframe thead th {\n",
       "        text-align: right;\n",
       "    }\n",
       "</style>\n",
       "<table border=\"1\" class=\"dataframe\">\n",
       "  <thead>\n",
       "    <tr style=\"text-align: right;\">\n",
       "      <th></th>\n",
       "      <th>Succession_Five</th>\n",
       "      <th>OrgName_2</th>\n",
       "    </tr>\n",
       "  </thead>\n",
       "  <tbody>\n",
       "    <tr>\n",
       "      <th>0</th>\n",
       "      <td>KIS to KJI</td>\n",
       "      <td>229</td>\n",
       "    </tr>\n",
       "    <tr>\n",
       "      <th>1</th>\n",
       "      <td>KJI to KJU</td>\n",
       "      <td>229</td>\n",
       "    </tr>\n",
       "  </tbody>\n",
       "</table>\n",
       "</div>"
      ],
      "text/plain": [
       "  Succession_Five  OrgName_2\n",
       "0      KIS to KJI        229\n",
       "1      KJI to KJU        229"
      ]
     },
     "execution_count": 63,
     "metadata": {},
     "output_type": "execute_result"
    }
   ],
   "source": [
    "trans[[\"Succession_Five\",\"OrgName_2\"]].groupby(\"Succession_Five\",as_index=False).count()"
   ]
  },
  {
   "cell_type": "markdown",
   "id": "6f0078dd",
   "metadata": {},
   "source": [
    "### 12. IsSuccession_Five"
   ]
  },
  {
   "cell_type": "code",
   "execution_count": 70,
   "id": "91833648",
   "metadata": {},
   "outputs": [],
   "source": [
    "trans[\"IsSuccession_Five\"] = False"
   ]
  },
  {
   "cell_type": "code",
   "execution_count": 71,
   "id": "e612081e",
   "metadata": {},
   "outputs": [],
   "source": [
    "trans.loc[~trans.Succession_Five.isna(),\"IsSuccession_Five\"] = True"
   ]
  },
  {
   "cell_type": "code",
   "execution_count": 72,
   "id": "c33af98c",
   "metadata": {},
   "outputs": [
    {
     "data": {
      "text/html": [
       "<div>\n",
       "<style scoped>\n",
       "    .dataframe tbody tr th:only-of-type {\n",
       "        vertical-align: middle;\n",
       "    }\n",
       "\n",
       "    .dataframe tbody tr th {\n",
       "        vertical-align: top;\n",
       "    }\n",
       "\n",
       "    .dataframe thead th {\n",
       "        text-align: right;\n",
       "    }\n",
       "</style>\n",
       "<table border=\"1\" class=\"dataframe\">\n",
       "  <thead>\n",
       "    <tr style=\"text-align: right;\">\n",
       "      <th></th>\n",
       "      <th>IsSuccession_Five</th>\n",
       "      <th>OrgName_2</th>\n",
       "    </tr>\n",
       "  </thead>\n",
       "  <tbody>\n",
       "    <tr>\n",
       "      <th>0</th>\n",
       "      <td>False</td>\n",
       "      <td>2470</td>\n",
       "    </tr>\n",
       "    <tr>\n",
       "      <th>1</th>\n",
       "      <td>True</td>\n",
       "      <td>458</td>\n",
       "    </tr>\n",
       "  </tbody>\n",
       "</table>\n",
       "</div>"
      ],
      "text/plain": [
       "   IsSuccession_Five  OrgName_2\n",
       "0              False       2470\n",
       "1               True        458"
      ]
     },
     "execution_count": 72,
     "metadata": {},
     "output_type": "execute_result"
    }
   ],
   "source": [
    "trans[[\"IsSuccession_Five\",\"OrgName_2\"]].groupby(\"IsSuccession_Five\",as_index=False).count()"
   ]
  },
  {
   "cell_type": "code",
   "execution_count": null,
   "id": "ce96b9ba",
   "metadata": {},
   "outputs": [],
   "source": [
    "### 13. Regime X First_Five Variables"
   ]
  },
  {
   "cell_type": "code",
   "execution_count": 95,
   "id": "de152204",
   "metadata": {},
   "outputs": [],
   "source": [
    "trans[\"Regime\"] = np.nan\n",
    "trans[\"First_Five\"] = np.nan"
   ]
  },
  {
   "cell_type": "code",
   "execution_count": 96,
   "id": "a2f818eb",
   "metadata": {},
   "outputs": [],
   "source": [
    "### Regime periodization\n",
    "\n",
    "trans.loc[(trans[\"CareerStartYear_2\"]>1993) & (trans[\"CareerStartYear_2\"]<2012),\"Regime\"] = \"KJI\"\n",
    "trans.loc[trans[\"CareerStartYear_2\"]>2011,\"Regime\"] = \"KJU\""
   ]
  },
  {
   "cell_type": "code",
   "execution_count": 97,
   "id": "94f38c42",
   "metadata": {},
   "outputs": [],
   "source": [
    "### First_Five periodization\n",
    "\n",
    "trans.loc[(trans[\"CareerStartYear_2\"]>1993) & (trans[\"CareerStartYear_2\"]<2000),\"First_Five\"] = True\n",
    "trans.loc[(trans[\"CareerStartYear_2\"]>2010) & (trans[\"CareerStartYear_2\"]<2016),\"First_Five\"] = True"
   ]
  },
  {
   "cell_type": "code",
   "execution_count": 98,
   "id": "ca3553d4",
   "metadata": {},
   "outputs": [],
   "source": [
    "trans.loc[(~trans[\"Regime\"].isna() & trans[\"First_Five\"].isna()),\"First_Five\"] = False"
   ]
  },
  {
   "cell_type": "code",
   "execution_count": 99,
   "id": "e91b6529",
   "metadata": {},
   "outputs": [
    {
     "data": {
      "text/html": [
       "<div>\n",
       "<style scoped>\n",
       "    .dataframe tbody tr th:only-of-type {\n",
       "        vertical-align: middle;\n",
       "    }\n",
       "\n",
       "    .dataframe tbody tr th {\n",
       "        vertical-align: top;\n",
       "    }\n",
       "\n",
       "    .dataframe thead th {\n",
       "        text-align: right;\n",
       "    }\n",
       "</style>\n",
       "<table border=\"1\" class=\"dataframe\">\n",
       "  <thead>\n",
       "    <tr style=\"text-align: right;\">\n",
       "      <th></th>\n",
       "      <th></th>\n",
       "      <th>LeaderID</th>\n",
       "      <th>CareerString_1</th>\n",
       "      <th>CareerDateString_2022_1</th>\n",
       "      <th>CareerStartYear_1</th>\n",
       "      <th>CareerStartMonth_1</th>\n",
       "      <th>CareerStartDate_1</th>\n",
       "      <th>CareerSubstring_1</th>\n",
       "      <th>InstitutionType_1</th>\n",
       "      <th>PrimaryInstitution_1</th>\n",
       "      <th>OrgName_1</th>\n",
       "      <th>...</th>\n",
       "      <th>Succession_Narrow</th>\n",
       "      <th>OrgAdvanceYes</th>\n",
       "      <th>PositionAdvanceYes</th>\n",
       "      <th>InstitutionCategory_1</th>\n",
       "      <th>InstitutionCategory_2</th>\n",
       "      <th>InstitutionCategorySame</th>\n",
       "      <th>Succession_Five</th>\n",
       "      <th>Succession_Non</th>\n",
       "      <th>IsSuccession_Five</th>\n",
       "      <th>Three_Periods</th>\n",
       "    </tr>\n",
       "    <tr>\n",
       "      <th>Regime</th>\n",
       "      <th>First_Five</th>\n",
       "      <th></th>\n",
       "      <th></th>\n",
       "      <th></th>\n",
       "      <th></th>\n",
       "      <th></th>\n",
       "      <th></th>\n",
       "      <th></th>\n",
       "      <th></th>\n",
       "      <th></th>\n",
       "      <th></th>\n",
       "      <th></th>\n",
       "      <th></th>\n",
       "      <th></th>\n",
       "      <th></th>\n",
       "      <th></th>\n",
       "      <th></th>\n",
       "      <th></th>\n",
       "      <th></th>\n",
       "      <th></th>\n",
       "      <th></th>\n",
       "      <th></th>\n",
       "    </tr>\n",
       "  </thead>\n",
       "  <tbody>\n",
       "    <tr>\n",
       "      <th rowspan=\"2\" valign=\"top\">KJI</th>\n",
       "      <th>False</th>\n",
       "      <td>1055</td>\n",
       "      <td>1055</td>\n",
       "      <td>203</td>\n",
       "      <td>1055</td>\n",
       "      <td>945</td>\n",
       "      <td>1055</td>\n",
       "      <td>181</td>\n",
       "      <td>1055</td>\n",
       "      <td>1055</td>\n",
       "      <td>631</td>\n",
       "      <td>...</td>\n",
       "      <td>472</td>\n",
       "      <td>891</td>\n",
       "      <td>298</td>\n",
       "      <td>1055</td>\n",
       "      <td>1055</td>\n",
       "      <td>1055</td>\n",
       "      <td>0</td>\n",
       "      <td>1055</td>\n",
       "      <td>1055</td>\n",
       "      <td>0</td>\n",
       "    </tr>\n",
       "    <tr>\n",
       "      <th>True</th>\n",
       "      <td>429</td>\n",
       "      <td>429</td>\n",
       "      <td>78</td>\n",
       "      <td>429</td>\n",
       "      <td>402</td>\n",
       "      <td>429</td>\n",
       "      <td>84</td>\n",
       "      <td>429</td>\n",
       "      <td>429</td>\n",
       "      <td>288</td>\n",
       "      <td>...</td>\n",
       "      <td>104</td>\n",
       "      <td>323</td>\n",
       "      <td>71</td>\n",
       "      <td>429</td>\n",
       "      <td>429</td>\n",
       "      <td>429</td>\n",
       "      <td>429</td>\n",
       "      <td>429</td>\n",
       "      <td>429</td>\n",
       "      <td>429</td>\n",
       "    </tr>\n",
       "    <tr>\n",
       "      <th rowspan=\"2\" valign=\"top\">KJU</th>\n",
       "      <th>False</th>\n",
       "      <td>927</td>\n",
       "      <td>927</td>\n",
       "      <td>802</td>\n",
       "      <td>927</td>\n",
       "      <td>887</td>\n",
       "      <td>927</td>\n",
       "      <td>292</td>\n",
       "      <td>927</td>\n",
       "      <td>927</td>\n",
       "      <td>736</td>\n",
       "      <td>...</td>\n",
       "      <td>0</td>\n",
       "      <td>790</td>\n",
       "      <td>346</td>\n",
       "      <td>927</td>\n",
       "      <td>927</td>\n",
       "      <td>927</td>\n",
       "      <td>0</td>\n",
       "      <td>927</td>\n",
       "      <td>927</td>\n",
       "      <td>0</td>\n",
       "    </tr>\n",
       "    <tr>\n",
       "      <th>True</th>\n",
       "      <td>346</td>\n",
       "      <td>346</td>\n",
       "      <td>140</td>\n",
       "      <td>346</td>\n",
       "      <td>319</td>\n",
       "      <td>346</td>\n",
       "      <td>104</td>\n",
       "      <td>346</td>\n",
       "      <td>346</td>\n",
       "      <td>254</td>\n",
       "      <td>...</td>\n",
       "      <td>0</td>\n",
       "      <td>255</td>\n",
       "      <td>75</td>\n",
       "      <td>346</td>\n",
       "      <td>346</td>\n",
       "      <td>346</td>\n",
       "      <td>346</td>\n",
       "      <td>346</td>\n",
       "      <td>346</td>\n",
       "      <td>346</td>\n",
       "    </tr>\n",
       "  </tbody>\n",
       "</table>\n",
       "<p>4 rows × 46 columns</p>\n",
       "</div>"
      ],
      "text/plain": [
       "                   LeaderID  CareerString_1  CareerDateString_2022_1  \\\n",
       "Regime First_Five                                                      \n",
       "KJI    False           1055            1055                      203   \n",
       "       True             429             429                       78   \n",
       "KJU    False            927             927                      802   \n",
       "       True             346             346                      140   \n",
       "\n",
       "                   CareerStartYear_1  CareerStartMonth_1  CareerStartDate_1  \\\n",
       "Regime First_Five                                                             \n",
       "KJI    False                    1055                 945               1055   \n",
       "       True                      429                 402                429   \n",
       "KJU    False                     927                 887                927   \n",
       "       True                      346                 319                346   \n",
       "\n",
       "                   CareerSubstring_1  InstitutionType_1  PrimaryInstitution_1  \\\n",
       "Regime First_Five                                                               \n",
       "KJI    False                     181               1055                  1055   \n",
       "       True                       84                429                   429   \n",
       "KJU    False                     292                927                   927   \n",
       "       True                      104                346                   346   \n",
       "\n",
       "                   OrgName_1  ...  Succession_Narrow  OrgAdvanceYes  \\\n",
       "Regime First_Five             ...                                     \n",
       "KJI    False             631  ...                472            891   \n",
       "       True              288  ...                104            323   \n",
       "KJU    False             736  ...                  0            790   \n",
       "       True              254  ...                  0            255   \n",
       "\n",
       "                   PositionAdvanceYes  InstitutionCategory_1  \\\n",
       "Regime First_Five                                              \n",
       "KJI    False                      298                   1055   \n",
       "       True                        71                    429   \n",
       "KJU    False                      346                    927   \n",
       "       True                        75                    346   \n",
       "\n",
       "                   InstitutionCategory_2  InstitutionCategorySame  \\\n",
       "Regime First_Five                                                   \n",
       "KJI    False                        1055                     1055   \n",
       "       True                          429                      429   \n",
       "KJU    False                         927                      927   \n",
       "       True                          346                      346   \n",
       "\n",
       "                   Succession_Five  Succession_Non  IsSuccession_Five  \\\n",
       "Regime First_Five                                                       \n",
       "KJI    False                     0            1055               1055   \n",
       "       True                    429             429                429   \n",
       "KJU    False                     0             927                927   \n",
       "       True                    346             346                346   \n",
       "\n",
       "                   Three_Periods  \n",
       "Regime First_Five                 \n",
       "KJI    False                   0  \n",
       "       True                  429  \n",
       "KJU    False                   0  \n",
       "       True                  346  \n",
       "\n",
       "[4 rows x 46 columns]"
      ]
     },
     "execution_count": 99,
     "metadata": {},
     "output_type": "execute_result"
    }
   ],
   "source": [
    "trans.groupby([\"Regime\",\"First_Five\"]).count()"
   ]
  },
  {
   "cell_type": "markdown",
   "id": "59d8c7d3",
   "metadata": {},
   "source": [
    "# Hypotheses 1. IsSuccessionBroad: trans count, within & between PI"
   ]
  },
  {
   "cell_type": "markdown",
   "id": "dbffbf00",
   "metadata": {},
   "source": [
    "### 1. IsSuccessionBroad trans count (within & between PI)"
   ]
  },
  {
   "cell_type": "code",
   "execution_count": 197,
   "id": "5984c9c3",
   "metadata": {},
   "outputs": [],
   "source": [
    "stat1_columns = [\"PISame\",\"IsSuccessionBroad\",\"OrgName_2\"]\n",
    "stat1_groupby_columns = [\"IsSuccessionBroad\",\"PISame\"]"
   ]
  },
  {
   "cell_type": "code",
   "execution_count": 199,
   "id": "99912b0d",
   "metadata": {},
   "outputs": [
    {
     "data": {
      "text/html": [
       "<div>\n",
       "<style scoped>\n",
       "    .dataframe tbody tr th:only-of-type {\n",
       "        vertical-align: middle;\n",
       "    }\n",
       "\n",
       "    .dataframe tbody tr th {\n",
       "        vertical-align: top;\n",
       "    }\n",
       "\n",
       "    .dataframe thead th {\n",
       "        text-align: right;\n",
       "    }\n",
       "</style>\n",
       "<table border=\"1\" class=\"dataframe\">\n",
       "  <thead>\n",
       "    <tr style=\"text-align: right;\">\n",
       "      <th></th>\n",
       "      <th>IsSuccessionBroad</th>\n",
       "      <th>Between PI Trans</th>\n",
       "      <th>Within PI Trans</th>\n",
       "    </tr>\n",
       "  </thead>\n",
       "  <tbody>\n",
       "    <tr>\n",
       "      <th>0</th>\n",
       "      <td>False</td>\n",
       "      <td>183</td>\n",
       "      <td>120</td>\n",
       "    </tr>\n",
       "    <tr>\n",
       "      <th>1</th>\n",
       "      <td>True</td>\n",
       "      <td>788</td>\n",
       "      <td>534</td>\n",
       "    </tr>\n",
       "  </tbody>\n",
       "</table>\n",
       "</div>"
      ],
      "text/plain": [
       "   IsSuccessionBroad  Between PI Trans  Within PI Trans\n",
       "0              False               183              120\n",
       "1               True               788              534"
      ]
     },
     "execution_count": 199,
     "metadata": {},
     "output_type": "execute_result"
    }
   ],
   "source": [
    "stat1 = trans[stat1_columns].groupby(stat1_groupby_columns,as_index=False)[\"OrgName_2\"].agg({\"Total Transitions\":\"count\"})\n",
    "\n",
    "# pivot PISame from column to rows\n",
    "stat1 = stat1.pivot(index=\"IsSuccessionBroad\",columns=\"PISame\",values=\"Total Transitions\")\n",
    "pivot_column_labels = [\"Between PI Trans\",\"Within PI Trans\"]\n",
    "stat1.columns = pivot_column_labels\n",
    "stat1 = stat1.reset_index()\n",
    "\n",
    "stat1"
   ]
  },
  {
   "cell_type": "code",
   "execution_count": 200,
   "id": "98061287",
   "metadata": {},
   "outputs": [
    {
     "data": {
      "text/html": [
       "<div>\n",
       "<style scoped>\n",
       "    .dataframe tbody tr th:only-of-type {\n",
       "        vertical-align: middle;\n",
       "    }\n",
       "\n",
       "    .dataframe tbody tr th {\n",
       "        vertical-align: top;\n",
       "    }\n",
       "\n",
       "    .dataframe thead th {\n",
       "        text-align: right;\n",
       "    }\n",
       "</style>\n",
       "<table border=\"1\" class=\"dataframe\">\n",
       "  <thead>\n",
       "    <tr style=\"text-align: right;\">\n",
       "      <th></th>\n",
       "      <th>IsSuccessionBroad</th>\n",
       "      <th>Between PI Trans</th>\n",
       "      <th>Within PI Trans</th>\n",
       "      <th>Percentage Between PI Trans</th>\n",
       "    </tr>\n",
       "  </thead>\n",
       "  <tbody>\n",
       "    <tr>\n",
       "      <th>0</th>\n",
       "      <td>False</td>\n",
       "      <td>183</td>\n",
       "      <td>120</td>\n",
       "      <td>0.6040</td>\n",
       "    </tr>\n",
       "    <tr>\n",
       "      <th>1</th>\n",
       "      <td>True</td>\n",
       "      <td>788</td>\n",
       "      <td>534</td>\n",
       "      <td>0.5961</td>\n",
       "    </tr>\n",
       "  </tbody>\n",
       "</table>\n",
       "</div>"
      ],
      "text/plain": [
       "   IsSuccessionBroad  Between PI Trans  Within PI Trans  \\\n",
       "0              False               183              120   \n",
       "1               True               788              534   \n",
       "\n",
       "   Percentage Between PI Trans  \n",
       "0                       0.6040  \n",
       "1                       0.5961  "
      ]
     },
     "execution_count": 200,
     "metadata": {},
     "output_type": "execute_result"
    }
   ],
   "source": [
    "stat1[\"Percentage Between PI Trans\"] = stat1.apply(lambda x: round(x[\"Between PI Trans\"] / (x[\"Between PI Trans\"] + x[\"Within PI Trans\"]),4) if (x[\"Between PI Trans\"] + x[\"Within PI Trans\"]) > 0 else np.nan,axis=1)\n",
    "stat1"
   ]
  },
  {
   "cell_type": "code",
   "execution_count": 201,
   "id": "47966eca",
   "metadata": {
    "scrolled": true
   },
   "outputs": [
    {
     "name": "stdout",
     "output_type": "stream",
     "text": [
      "183 788 303 1322 0.05\n",
      "p1:\t 0.6039603960396039\n",
      "p2:\t 0.5960665658093798\n",
      "p1-p2:\t 0.007893830230224164\n",
      "z:\t 0.25272780027386377\n",
      "pvalue:\t 0.4002392817923839\n"
     ]
    }
   ],
   "source": [
    "# two-sample ttest of proportions: p(between PI trans in s1) > p(between PI trans in s2)\n",
    "x1 = stat1.iloc[0,1]\n",
    "n1 = stat1.iloc[0,1] + stat1.iloc[0,2]\n",
    "x2 = stat1.iloc[1,1]\n",
    "n2 = stat1.iloc[1,1] + stat1.iloc[1,2]\n",
    "alpha = .05\n",
    "print(x1,x2,n1,n2,alpha)\n",
    "two_sample_ttest_proportions(x1,x2,n1,n2,alpha)"
   ]
  },
  {
   "cell_type": "markdown",
   "id": "cb4e562f",
   "metadata": {},
   "source": [
    "### 2. IsSuccessionBroad, by sending PI: trans count (within & between PI)"
   ]
  },
  {
   "cell_type": "code",
   "execution_count": 206,
   "id": "a84ecbb9",
   "metadata": {},
   "outputs": [],
   "source": [
    "stat2_columns = [\"InstitutionCategory_1\",\"PISame\",\"IsSuccessionBroad\",\"OrgName_2\"]\n",
    "stat2_groupby_columns = [\"InstitutionCategory_1\",\"IsSuccessionBroad\",\"PISame\"]"
   ]
  },
  {
   "cell_type": "code",
   "execution_count": 222,
   "id": "1a64c6d8",
   "metadata": {},
   "outputs": [
    {
     "data": {
      "text/html": [
       "<div>\n",
       "<style scoped>\n",
       "    .dataframe tbody tr th:only-of-type {\n",
       "        vertical-align: middle;\n",
       "    }\n",
       "\n",
       "    .dataframe tbody tr th {\n",
       "        vertical-align: top;\n",
       "    }\n",
       "\n",
       "    .dataframe thead th {\n",
       "        text-align: right;\n",
       "    }\n",
       "</style>\n",
       "<table border=\"1\" class=\"dataframe\">\n",
       "  <thead>\n",
       "    <tr style=\"text-align: right;\">\n",
       "      <th></th>\n",
       "      <th>InstitutionCategory_1</th>\n",
       "      <th>IsSuccessionBroad</th>\n",
       "      <th>Between PI Trans</th>\n",
       "      <th>Within PI Trans</th>\n",
       "    </tr>\n",
       "  </thead>\n",
       "  <tbody>\n",
       "    <tr>\n",
       "      <th>0</th>\n",
       "      <td>Government</td>\n",
       "      <td>False</td>\n",
       "      <td>97</td>\n",
       "      <td>79</td>\n",
       "    </tr>\n",
       "    <tr>\n",
       "      <th>1</th>\n",
       "      <td>Government</td>\n",
       "      <td>True</td>\n",
       "      <td>295</td>\n",
       "      <td>259</td>\n",
       "    </tr>\n",
       "    <tr>\n",
       "      <th>2</th>\n",
       "      <td>Military</td>\n",
       "      <td>False</td>\n",
       "      <td>12</td>\n",
       "      <td>7</td>\n",
       "    </tr>\n",
       "    <tr>\n",
       "      <th>3</th>\n",
       "      <td>Military</td>\n",
       "      <td>True</td>\n",
       "      <td>126</td>\n",
       "      <td>11</td>\n",
       "    </tr>\n",
       "    <tr>\n",
       "      <th>4</th>\n",
       "      <td>Party</td>\n",
       "      <td>False</td>\n",
       "      <td>27</td>\n",
       "      <td>30</td>\n",
       "    </tr>\n",
       "    <tr>\n",
       "      <th>5</th>\n",
       "      <td>Party</td>\n",
       "      <td>True</td>\n",
       "      <td>102</td>\n",
       "      <td>239</td>\n",
       "    </tr>\n",
       "    <tr>\n",
       "      <th>6</th>\n",
       "      <td>Social</td>\n",
       "      <td>False</td>\n",
       "      <td>47</td>\n",
       "      <td>4</td>\n",
       "    </tr>\n",
       "    <tr>\n",
       "      <th>7</th>\n",
       "      <td>Social</td>\n",
       "      <td>True</td>\n",
       "      <td>265</td>\n",
       "      <td>25</td>\n",
       "    </tr>\n",
       "  </tbody>\n",
       "</table>\n",
       "</div>"
      ],
      "text/plain": [
       "  InstitutionCategory_1  IsSuccessionBroad  Between PI Trans  Within PI Trans\n",
       "0            Government              False                97               79\n",
       "1            Government               True               295              259\n",
       "2              Military              False                12                7\n",
       "3              Military               True               126               11\n",
       "4                 Party              False                27               30\n",
       "5                 Party               True               102              239\n",
       "6                Social              False                47                4\n",
       "7                Social               True               265               25"
      ]
     },
     "execution_count": 222,
     "metadata": {},
     "output_type": "execute_result"
    }
   ],
   "source": [
    "stat2 = trans[stat2_columns].groupby(stat2_groupby_columns,as_index=False)[\"OrgName_2\"].agg({\"Total Transitions\":\"count\"})\n",
    "\n",
    "# pivot PISame from column to rows\n",
    "stat2 = stat2.pivot(index=[\"InstitutionCategory_1\",\"IsSuccessionBroad\",],columns=\"PISame\",values=\"Total Transitions\")\n",
    "pivot_column_labels = [\"Between PI Trans\",\"Within PI Trans\"]\n",
    "stat2.columns = pivot_column_labels\n",
    "stat2 = stat2.reset_index()\n",
    "\n",
    "stat2"
   ]
  },
  {
   "cell_type": "code",
   "execution_count": 223,
   "id": "0442516d",
   "metadata": {},
   "outputs": [
    {
     "data": {
      "text/html": [
       "<div>\n",
       "<style scoped>\n",
       "    .dataframe tbody tr th:only-of-type {\n",
       "        vertical-align: middle;\n",
       "    }\n",
       "\n",
       "    .dataframe tbody tr th {\n",
       "        vertical-align: top;\n",
       "    }\n",
       "\n",
       "    .dataframe thead th {\n",
       "        text-align: right;\n",
       "    }\n",
       "</style>\n",
       "<table border=\"1\" class=\"dataframe\">\n",
       "  <thead>\n",
       "    <tr style=\"text-align: right;\">\n",
       "      <th></th>\n",
       "      <th>InstitutionCategory_1</th>\n",
       "      <th>IsSuccessionBroad</th>\n",
       "      <th>Between PI Trans</th>\n",
       "      <th>Within PI Trans</th>\n",
       "      <th>Percentage Between PI Trans</th>\n",
       "    </tr>\n",
       "  </thead>\n",
       "  <tbody>\n",
       "    <tr>\n",
       "      <th>0</th>\n",
       "      <td>Government</td>\n",
       "      <td>False</td>\n",
       "      <td>97</td>\n",
       "      <td>79</td>\n",
       "      <td>0.5511</td>\n",
       "    </tr>\n",
       "    <tr>\n",
       "      <th>1</th>\n",
       "      <td>Government</td>\n",
       "      <td>True</td>\n",
       "      <td>295</td>\n",
       "      <td>259</td>\n",
       "      <td>0.5325</td>\n",
       "    </tr>\n",
       "    <tr>\n",
       "      <th>2</th>\n",
       "      <td>Military</td>\n",
       "      <td>False</td>\n",
       "      <td>12</td>\n",
       "      <td>7</td>\n",
       "      <td>0.6316</td>\n",
       "    </tr>\n",
       "    <tr>\n",
       "      <th>3</th>\n",
       "      <td>Military</td>\n",
       "      <td>True</td>\n",
       "      <td>126</td>\n",
       "      <td>11</td>\n",
       "      <td>0.9197</td>\n",
       "    </tr>\n",
       "    <tr>\n",
       "      <th>4</th>\n",
       "      <td>Party</td>\n",
       "      <td>False</td>\n",
       "      <td>27</td>\n",
       "      <td>30</td>\n",
       "      <td>0.4737</td>\n",
       "    </tr>\n",
       "    <tr>\n",
       "      <th>5</th>\n",
       "      <td>Party</td>\n",
       "      <td>True</td>\n",
       "      <td>102</td>\n",
       "      <td>239</td>\n",
       "      <td>0.2991</td>\n",
       "    </tr>\n",
       "    <tr>\n",
       "      <th>6</th>\n",
       "      <td>Social</td>\n",
       "      <td>False</td>\n",
       "      <td>47</td>\n",
       "      <td>4</td>\n",
       "      <td>0.9216</td>\n",
       "    </tr>\n",
       "    <tr>\n",
       "      <th>7</th>\n",
       "      <td>Social</td>\n",
       "      <td>True</td>\n",
       "      <td>265</td>\n",
       "      <td>25</td>\n",
       "      <td>0.9138</td>\n",
       "    </tr>\n",
       "  </tbody>\n",
       "</table>\n",
       "</div>"
      ],
      "text/plain": [
       "  InstitutionCategory_1  IsSuccessionBroad  Between PI Trans  Within PI Trans  \\\n",
       "0            Government              False                97               79   \n",
       "1            Government               True               295              259   \n",
       "2              Military              False                12                7   \n",
       "3              Military               True               126               11   \n",
       "4                 Party              False                27               30   \n",
       "5                 Party               True               102              239   \n",
       "6                Social              False                47                4   \n",
       "7                Social               True               265               25   \n",
       "\n",
       "   Percentage Between PI Trans  \n",
       "0                       0.5511  \n",
       "1                       0.5325  \n",
       "2                       0.6316  \n",
       "3                       0.9197  \n",
       "4                       0.4737  \n",
       "5                       0.2991  \n",
       "6                       0.9216  \n",
       "7                       0.9138  "
      ]
     },
     "execution_count": 223,
     "metadata": {},
     "output_type": "execute_result"
    }
   ],
   "source": [
    "stat2[\"Percentage Between PI Trans\"] = stat2.apply(lambda x: round(x[\"Between PI Trans\"] / (x[\"Between PI Trans\"] + x[\"Within PI Trans\"]),4) if (x[\"Between PI Trans\"] + x[\"Within PI Trans\"]) > 0 else np.nan,axis=1)\n",
    "stat2"
   ]
  },
  {
   "cell_type": "code",
   "execution_count": 224,
   "id": "79182508",
   "metadata": {},
   "outputs": [
    {
     "data": {
      "text/plain": [
       "['Government', 'Social', 'Party', 'Military']"
      ]
     },
     "execution_count": 224,
     "metadata": {},
     "output_type": "execute_result"
    }
   ],
   "source": [
    "ics = list(trans.InstitutionCategory_1.unique())\n",
    "ics"
   ]
  },
  {
   "cell_type": "code",
   "execution_count": 225,
   "id": "77245918",
   "metadata": {
    "scrolled": false
   },
   "outputs": [
    {
     "name": "stdout",
     "output_type": "stream",
     "text": [
      "\n",
      "grouping by:  InstitutionCategory_1\n",
      "\n",
      "\n",
      " Government \n",
      "\n",
      "\n",
      "97 295 176 554 0.05\n",
      "p1:\t 0.5511363636363636\n",
      "p2:\t 0.5324909747292419\n",
      "p1-p2:\t 0.01864538890712175\n",
      "z:\t 0.43215815131725954\n",
      "pvalue:\t 0.33281323632429205\n",
      "\n",
      "\n",
      " Social \n",
      "\n",
      "\n",
      "47 265 51 290 0.05\n",
      "p1:\t 0.9215686274509803\n",
      "p2:\t 0.9137931034482759\n",
      "p1-p2:\t 0.007775524002704426\n",
      "z:\t 0.18357546919976897\n",
      "pvalue:\t 0.427173254393611\n",
      "\n",
      "\n",
      " Party \n",
      "\n",
      "\n",
      "27 102 57 341 0.05\n",
      "p1:\t 0.47368421052631576\n",
      "p2:\t 0.2991202346041056\n",
      "p1-p2:\t 0.17456397592221018\n",
      "z:\t 2.6063922955451573\n",
      "pvalue:\t 0.0045750797989165815**\n",
      "\n",
      "\n",
      " Military \n",
      "\n",
      "\n",
      "12 126 19 137 0.05\n",
      "p1:\t 0.631578947368421\n",
      "p2:\t 0.9197080291970803\n",
      "p1-p2:\t -0.28812908182865926\n",
      "z:\t -3.683924175727469\n",
      "pvalue:\t 0.00011483529329048281***\n"
     ]
    }
   ],
   "source": [
    "ttest_by_group_variable(\"InstitutionCategory_1\",ics,stat2,2,3,0,1)"
   ]
  },
  {
   "cell_type": "markdown",
   "id": "81730ca4",
   "metadata": {},
   "source": [
    "# Hypotheses 2. IsSuccessionNarrow: trans count, within & between PI"
   ]
  },
  {
   "cell_type": "markdown",
   "id": "9d9b5aaf",
   "metadata": {},
   "source": [
    "### 3. IsSuccessionNarrow trans count (within & between PI)"
   ]
  },
  {
   "cell_type": "code",
   "execution_count": 231,
   "id": "ecf3ca78",
   "metadata": {},
   "outputs": [],
   "source": [
    "stat3_columns = [\"PISame\",\"IsSuccessionNarrow\",\"OrgName_2\"]\n",
    "stat3_groupby_columns = [\"IsSuccessionNarrow\",\"PISame\"]"
   ]
  },
  {
   "cell_type": "code",
   "execution_count": 232,
   "id": "257475c3",
   "metadata": {},
   "outputs": [
    {
     "ename": "KeyError",
     "evalue": "\"['IsSuccessionNarrow'] not in index\"",
     "output_type": "error",
     "traceback": [
      "\u001b[1;31m---------------------------------------------------------------------------\u001b[0m",
      "\u001b[1;31mKeyError\u001b[0m                                  Traceback (most recent call last)",
      "Cell \u001b[1;32mIn[232], line 1\u001b[0m\n\u001b[1;32m----> 1\u001b[0m stat3 \u001b[38;5;241m=\u001b[39m trans[stat3_columns]\u001b[38;5;241m.\u001b[39mgroupby(stat3_groupby_columns,as_index\u001b[38;5;241m=\u001b[39m\u001b[38;5;28;01mFalse\u001b[39;00m)[\u001b[38;5;124m\"\u001b[39m\u001b[38;5;124mOrgName_2\u001b[39m\u001b[38;5;124m\"\u001b[39m]\u001b[38;5;241m.\u001b[39magg({\u001b[38;5;124m\"\u001b[39m\u001b[38;5;124mTotal Transitions\u001b[39m\u001b[38;5;124m\"\u001b[39m:\u001b[38;5;124m\"\u001b[39m\u001b[38;5;124mcount\u001b[39m\u001b[38;5;124m\"\u001b[39m})\n\u001b[0;32m      3\u001b[0m \u001b[38;5;66;03m# pivot PISame from column to rows\u001b[39;00m\n\u001b[0;32m      4\u001b[0m stat3 \u001b[38;5;241m=\u001b[39m stat3\u001b[38;5;241m.\u001b[39mpivot(index\u001b[38;5;241m=\u001b[39m\u001b[38;5;124m\"\u001b[39m\u001b[38;5;124mIsSuccessionNarrow\u001b[39m\u001b[38;5;124m\"\u001b[39m,columns\u001b[38;5;241m=\u001b[39m\u001b[38;5;124m\"\u001b[39m\u001b[38;5;124mPISame\u001b[39m\u001b[38;5;124m\"\u001b[39m,values\u001b[38;5;241m=\u001b[39m\u001b[38;5;124m\"\u001b[39m\u001b[38;5;124mTotal Transitions\u001b[39m\u001b[38;5;124m\"\u001b[39m)\n",
      "File \u001b[1;32m~\\anaconda3\\Lib\\site-packages\\pandas\\core\\frame.py:3767\u001b[0m, in \u001b[0;36mDataFrame.__getitem__\u001b[1;34m(self, key)\u001b[0m\n\u001b[0;32m   3765\u001b[0m     \u001b[38;5;28;01mif\u001b[39;00m is_iterator(key):\n\u001b[0;32m   3766\u001b[0m         key \u001b[38;5;241m=\u001b[39m \u001b[38;5;28mlist\u001b[39m(key)\n\u001b[1;32m-> 3767\u001b[0m     indexer \u001b[38;5;241m=\u001b[39m \u001b[38;5;28mself\u001b[39m\u001b[38;5;241m.\u001b[39mcolumns\u001b[38;5;241m.\u001b[39m_get_indexer_strict(key, \u001b[38;5;124m\"\u001b[39m\u001b[38;5;124mcolumns\u001b[39m\u001b[38;5;124m\"\u001b[39m)[\u001b[38;5;241m1\u001b[39m]\n\u001b[0;32m   3769\u001b[0m \u001b[38;5;66;03m# take() does not accept boolean indexers\u001b[39;00m\n\u001b[0;32m   3770\u001b[0m \u001b[38;5;28;01mif\u001b[39;00m \u001b[38;5;28mgetattr\u001b[39m(indexer, \u001b[38;5;124m\"\u001b[39m\u001b[38;5;124mdtype\u001b[39m\u001b[38;5;124m\"\u001b[39m, \u001b[38;5;28;01mNone\u001b[39;00m) \u001b[38;5;241m==\u001b[39m \u001b[38;5;28mbool\u001b[39m:\n",
      "File \u001b[1;32m~\\anaconda3\\Lib\\site-packages\\pandas\\core\\indexes\\base.py:5877\u001b[0m, in \u001b[0;36mIndex._get_indexer_strict\u001b[1;34m(self, key, axis_name)\u001b[0m\n\u001b[0;32m   5874\u001b[0m \u001b[38;5;28;01melse\u001b[39;00m:\n\u001b[0;32m   5875\u001b[0m     keyarr, indexer, new_indexer \u001b[38;5;241m=\u001b[39m \u001b[38;5;28mself\u001b[39m\u001b[38;5;241m.\u001b[39m_reindex_non_unique(keyarr)\n\u001b[1;32m-> 5877\u001b[0m \u001b[38;5;28mself\u001b[39m\u001b[38;5;241m.\u001b[39m_raise_if_missing(keyarr, indexer, axis_name)\n\u001b[0;32m   5879\u001b[0m keyarr \u001b[38;5;241m=\u001b[39m \u001b[38;5;28mself\u001b[39m\u001b[38;5;241m.\u001b[39mtake(indexer)\n\u001b[0;32m   5880\u001b[0m \u001b[38;5;28;01mif\u001b[39;00m \u001b[38;5;28misinstance\u001b[39m(key, Index):\n\u001b[0;32m   5881\u001b[0m     \u001b[38;5;66;03m# GH 42790 - Preserve name from an Index\u001b[39;00m\n",
      "File \u001b[1;32m~\\anaconda3\\Lib\\site-packages\\pandas\\core\\indexes\\base.py:5941\u001b[0m, in \u001b[0;36mIndex._raise_if_missing\u001b[1;34m(self, key, indexer, axis_name)\u001b[0m\n\u001b[0;32m   5938\u001b[0m     \u001b[38;5;28;01mraise\u001b[39;00m \u001b[38;5;167;01mKeyError\u001b[39;00m(\u001b[38;5;124mf\u001b[39m\u001b[38;5;124m\"\u001b[39m\u001b[38;5;124mNone of [\u001b[39m\u001b[38;5;132;01m{\u001b[39;00mkey\u001b[38;5;132;01m}\u001b[39;00m\u001b[38;5;124m] are in the [\u001b[39m\u001b[38;5;132;01m{\u001b[39;00maxis_name\u001b[38;5;132;01m}\u001b[39;00m\u001b[38;5;124m]\u001b[39m\u001b[38;5;124m\"\u001b[39m)\n\u001b[0;32m   5940\u001b[0m not_found \u001b[38;5;241m=\u001b[39m \u001b[38;5;28mlist\u001b[39m(ensure_index(key)[missing_mask\u001b[38;5;241m.\u001b[39mnonzero()[\u001b[38;5;241m0\u001b[39m]]\u001b[38;5;241m.\u001b[39munique())\n\u001b[1;32m-> 5941\u001b[0m \u001b[38;5;28;01mraise\u001b[39;00m \u001b[38;5;167;01mKeyError\u001b[39;00m(\u001b[38;5;124mf\u001b[39m\u001b[38;5;124m\"\u001b[39m\u001b[38;5;132;01m{\u001b[39;00mnot_found\u001b[38;5;132;01m}\u001b[39;00m\u001b[38;5;124m not in index\u001b[39m\u001b[38;5;124m\"\u001b[39m)\n",
      "\u001b[1;31mKeyError\u001b[0m: \"['IsSuccessionNarrow'] not in index\""
     ]
    }
   ],
   "source": [
    "stat3 = trans[stat3_columns].groupby(stat3_groupby_columns,as_index=False)[\"OrgName_2\"].agg({\"Total Transitions\":\"count\"})\n",
    "\n",
    "# pivot PISame from column to rows\n",
    "stat3 = stat3.pivot(index=\"IsSuccessionNarrow\",columns=\"PISame\",values=\"Total Transitions\")\n",
    "pivot_column_labels = [\"Between PI Trans\",\"Within PI Trans\"]\n",
    "stat3.columns = pivot_column_labels\n",
    "stat3 = stat3.reset_index()\n",
    "\n",
    "stat3"
   ]
  },
  {
   "cell_type": "code",
   "execution_count": 200,
   "id": "ed3ea72b",
   "metadata": {},
   "outputs": [
    {
     "data": {
      "text/html": [
       "<div>\n",
       "<style scoped>\n",
       "    .dataframe tbody tr th:only-of-type {\n",
       "        vertical-align: middle;\n",
       "    }\n",
       "\n",
       "    .dataframe tbody tr th {\n",
       "        vertical-align: top;\n",
       "    }\n",
       "\n",
       "    .dataframe thead th {\n",
       "        text-align: right;\n",
       "    }\n",
       "</style>\n",
       "<table border=\"1\" class=\"dataframe\">\n",
       "  <thead>\n",
       "    <tr style=\"text-align: right;\">\n",
       "      <th></th>\n",
       "      <th>IsSuccessionBroad</th>\n",
       "      <th>Between PI Trans</th>\n",
       "      <th>Within PI Trans</th>\n",
       "      <th>Percentage Between PI Trans</th>\n",
       "    </tr>\n",
       "  </thead>\n",
       "  <tbody>\n",
       "    <tr>\n",
       "      <th>0</th>\n",
       "      <td>False</td>\n",
       "      <td>183</td>\n",
       "      <td>120</td>\n",
       "      <td>0.6040</td>\n",
       "    </tr>\n",
       "    <tr>\n",
       "      <th>1</th>\n",
       "      <td>True</td>\n",
       "      <td>788</td>\n",
       "      <td>534</td>\n",
       "      <td>0.5961</td>\n",
       "    </tr>\n",
       "  </tbody>\n",
       "</table>\n",
       "</div>"
      ],
      "text/plain": [
       "   IsSuccessionBroad  Between PI Trans  Within PI Trans  \\\n",
       "0              False               183              120   \n",
       "1               True               788              534   \n",
       "\n",
       "   Percentage Between PI Trans  \n",
       "0                       0.6040  \n",
       "1                       0.5961  "
      ]
     },
     "execution_count": 200,
     "metadata": {},
     "output_type": "execute_result"
    }
   ],
   "source": [
    "stat3[\"Percentage Between PI Trans\"] = stat3.apply(lambda x: round(x[\"Between PI Trans\"] / (x[\"Between PI Trans\"] + x[\"Within PI Trans\"]),4) if (x[\"Between PI Trans\"] + x[\"Within PI Trans\"]) > 0 else np.nan,axis=1)\n",
    "stat3"
   ]
  },
  {
   "cell_type": "code",
   "execution_count": 233,
   "id": "5c93d0fe",
   "metadata": {
    "scrolled": true
   },
   "outputs": [
    {
     "name": "stdout",
     "output_type": "stream",
     "text": [
      "False True 375 172 0.05\n",
      "p1:\t 0.0\n",
      "p2:\t 0.005813953488372093\n",
      "p1-p2:\t -0.005813953488372093\n",
      "z:\t -1.477912601632068\n",
      "pvalue:\t 0.06971558645202247\n"
     ]
    }
   ],
   "source": [
    "# two-sample ttest of proportions: p(between PI trans in s1) > p(between PI trans in s2)\n",
    "x1 = stat3.iloc[0,1]\n",
    "n1 = stat3.iloc[0,1] + stat3.iloc[0,2]\n",
    "x2 = stat3.iloc[1,1]\n",
    "n2 = stat3.iloc[1,1] + stat3.iloc[1,2]\n",
    "alpha = .05\n",
    "print(x1,x2,n1,n2,alpha)\n",
    "two_sample_ttest_proportions(x1,x2,n1,n2,alpha)"
   ]
  },
  {
   "cell_type": "markdown",
   "id": "7d9ed8c5",
   "metadata": {},
   "source": [
    "### 2. IsSuccessionNarrow, by sending PI: trans count (within & between PI)"
   ]
  },
  {
   "cell_type": "code",
   "execution_count": 206,
   "id": "7fafe393",
   "metadata": {},
   "outputs": [],
   "source": [
    "stat2_columns = [\"InstitutionCategory_1\",\"PISame\",\"IsSuccessionBroad\",\"OrgName_2\"]\n",
    "stat2_groupby_columns = [\"InstitutionCategory_1\",\"IsSuccessionBroad\",\"PISame\"]"
   ]
  },
  {
   "cell_type": "code",
   "execution_count": 222,
   "id": "6f923fb4",
   "metadata": {},
   "outputs": [
    {
     "data": {
      "text/html": [
       "<div>\n",
       "<style scoped>\n",
       "    .dataframe tbody tr th:only-of-type {\n",
       "        vertical-align: middle;\n",
       "    }\n",
       "\n",
       "    .dataframe tbody tr th {\n",
       "        vertical-align: top;\n",
       "    }\n",
       "\n",
       "    .dataframe thead th {\n",
       "        text-align: right;\n",
       "    }\n",
       "</style>\n",
       "<table border=\"1\" class=\"dataframe\">\n",
       "  <thead>\n",
       "    <tr style=\"text-align: right;\">\n",
       "      <th></th>\n",
       "      <th>InstitutionCategory_1</th>\n",
       "      <th>IsSuccessionBroad</th>\n",
       "      <th>Between PI Trans</th>\n",
       "      <th>Within PI Trans</th>\n",
       "    </tr>\n",
       "  </thead>\n",
       "  <tbody>\n",
       "    <tr>\n",
       "      <th>0</th>\n",
       "      <td>Government</td>\n",
       "      <td>False</td>\n",
       "      <td>97</td>\n",
       "      <td>79</td>\n",
       "    </tr>\n",
       "    <tr>\n",
       "      <th>1</th>\n",
       "      <td>Government</td>\n",
       "      <td>True</td>\n",
       "      <td>295</td>\n",
       "      <td>259</td>\n",
       "    </tr>\n",
       "    <tr>\n",
       "      <th>2</th>\n",
       "      <td>Military</td>\n",
       "      <td>False</td>\n",
       "      <td>12</td>\n",
       "      <td>7</td>\n",
       "    </tr>\n",
       "    <tr>\n",
       "      <th>3</th>\n",
       "      <td>Military</td>\n",
       "      <td>True</td>\n",
       "      <td>126</td>\n",
       "      <td>11</td>\n",
       "    </tr>\n",
       "    <tr>\n",
       "      <th>4</th>\n",
       "      <td>Party</td>\n",
       "      <td>False</td>\n",
       "      <td>27</td>\n",
       "      <td>30</td>\n",
       "    </tr>\n",
       "    <tr>\n",
       "      <th>5</th>\n",
       "      <td>Party</td>\n",
       "      <td>True</td>\n",
       "      <td>102</td>\n",
       "      <td>239</td>\n",
       "    </tr>\n",
       "    <tr>\n",
       "      <th>6</th>\n",
       "      <td>Social</td>\n",
       "      <td>False</td>\n",
       "      <td>47</td>\n",
       "      <td>4</td>\n",
       "    </tr>\n",
       "    <tr>\n",
       "      <th>7</th>\n",
       "      <td>Social</td>\n",
       "      <td>True</td>\n",
       "      <td>265</td>\n",
       "      <td>25</td>\n",
       "    </tr>\n",
       "  </tbody>\n",
       "</table>\n",
       "</div>"
      ],
      "text/plain": [
       "  InstitutionCategory_1  IsSuccessionBroad  Between PI Trans  Within PI Trans\n",
       "0            Government              False                97               79\n",
       "1            Government               True               295              259\n",
       "2              Military              False                12                7\n",
       "3              Military               True               126               11\n",
       "4                 Party              False                27               30\n",
       "5                 Party               True               102              239\n",
       "6                Social              False                47                4\n",
       "7                Social               True               265               25"
      ]
     },
     "execution_count": 222,
     "metadata": {},
     "output_type": "execute_result"
    }
   ],
   "source": [
    "stat2 = trans[stat2_columns].groupby(stat2_groupby_columns,as_index=False)[\"OrgName_2\"].agg({\"Total Transitions\":\"count\"})\n",
    "\n",
    "# pivot PISame from column to rows\n",
    "stat2 = stat2.pivot(index=[\"InstitutionCategory_1\",\"IsSuccessionBroad\",],columns=\"PISame\",values=\"Total Transitions\")\n",
    "pivot_column_labels = [\"Between PI Trans\",\"Within PI Trans\"]\n",
    "stat2.columns = pivot_column_labels\n",
    "stat2 = stat2.reset_index()\n",
    "\n",
    "stat2"
   ]
  },
  {
   "cell_type": "code",
   "execution_count": 223,
   "id": "75e0ff9f",
   "metadata": {},
   "outputs": [
    {
     "data": {
      "text/html": [
       "<div>\n",
       "<style scoped>\n",
       "    .dataframe tbody tr th:only-of-type {\n",
       "        vertical-align: middle;\n",
       "    }\n",
       "\n",
       "    .dataframe tbody tr th {\n",
       "        vertical-align: top;\n",
       "    }\n",
       "\n",
       "    .dataframe thead th {\n",
       "        text-align: right;\n",
       "    }\n",
       "</style>\n",
       "<table border=\"1\" class=\"dataframe\">\n",
       "  <thead>\n",
       "    <tr style=\"text-align: right;\">\n",
       "      <th></th>\n",
       "      <th>InstitutionCategory_1</th>\n",
       "      <th>IsSuccessionBroad</th>\n",
       "      <th>Between PI Trans</th>\n",
       "      <th>Within PI Trans</th>\n",
       "      <th>Percentage Between PI Trans</th>\n",
       "    </tr>\n",
       "  </thead>\n",
       "  <tbody>\n",
       "    <tr>\n",
       "      <th>0</th>\n",
       "      <td>Government</td>\n",
       "      <td>False</td>\n",
       "      <td>97</td>\n",
       "      <td>79</td>\n",
       "      <td>0.5511</td>\n",
       "    </tr>\n",
       "    <tr>\n",
       "      <th>1</th>\n",
       "      <td>Government</td>\n",
       "      <td>True</td>\n",
       "      <td>295</td>\n",
       "      <td>259</td>\n",
       "      <td>0.5325</td>\n",
       "    </tr>\n",
       "    <tr>\n",
       "      <th>2</th>\n",
       "      <td>Military</td>\n",
       "      <td>False</td>\n",
       "      <td>12</td>\n",
       "      <td>7</td>\n",
       "      <td>0.6316</td>\n",
       "    </tr>\n",
       "    <tr>\n",
       "      <th>3</th>\n",
       "      <td>Military</td>\n",
       "      <td>True</td>\n",
       "      <td>126</td>\n",
       "      <td>11</td>\n",
       "      <td>0.9197</td>\n",
       "    </tr>\n",
       "    <tr>\n",
       "      <th>4</th>\n",
       "      <td>Party</td>\n",
       "      <td>False</td>\n",
       "      <td>27</td>\n",
       "      <td>30</td>\n",
       "      <td>0.4737</td>\n",
       "    </tr>\n",
       "    <tr>\n",
       "      <th>5</th>\n",
       "      <td>Party</td>\n",
       "      <td>True</td>\n",
       "      <td>102</td>\n",
       "      <td>239</td>\n",
       "      <td>0.2991</td>\n",
       "    </tr>\n",
       "    <tr>\n",
       "      <th>6</th>\n",
       "      <td>Social</td>\n",
       "      <td>False</td>\n",
       "      <td>47</td>\n",
       "      <td>4</td>\n",
       "      <td>0.9216</td>\n",
       "    </tr>\n",
       "    <tr>\n",
       "      <th>7</th>\n",
       "      <td>Social</td>\n",
       "      <td>True</td>\n",
       "      <td>265</td>\n",
       "      <td>25</td>\n",
       "      <td>0.9138</td>\n",
       "    </tr>\n",
       "  </tbody>\n",
       "</table>\n",
       "</div>"
      ],
      "text/plain": [
       "  InstitutionCategory_1  IsSuccessionBroad  Between PI Trans  Within PI Trans  \\\n",
       "0            Government              False                97               79   \n",
       "1            Government               True               295              259   \n",
       "2              Military              False                12                7   \n",
       "3              Military               True               126               11   \n",
       "4                 Party              False                27               30   \n",
       "5                 Party               True               102              239   \n",
       "6                Social              False                47                4   \n",
       "7                Social               True               265               25   \n",
       "\n",
       "   Percentage Between PI Trans  \n",
       "0                       0.5511  \n",
       "1                       0.5325  \n",
       "2                       0.6316  \n",
       "3                       0.9197  \n",
       "4                       0.4737  \n",
       "5                       0.2991  \n",
       "6                       0.9216  \n",
       "7                       0.9138  "
      ]
     },
     "execution_count": 223,
     "metadata": {},
     "output_type": "execute_result"
    }
   ],
   "source": [
    "stat2[\"Percentage Between PI Trans\"] = stat2.apply(lambda x: round(x[\"Between PI Trans\"] / (x[\"Between PI Trans\"] + x[\"Within PI Trans\"]),4) if (x[\"Between PI Trans\"] + x[\"Within PI Trans\"]) > 0 else np.nan,axis=1)\n",
    "stat2"
   ]
  },
  {
   "cell_type": "code",
   "execution_count": 224,
   "id": "7606343b",
   "metadata": {},
   "outputs": [
    {
     "data": {
      "text/plain": [
       "['Government', 'Social', 'Party', 'Military']"
      ]
     },
     "execution_count": 224,
     "metadata": {},
     "output_type": "execute_result"
    }
   ],
   "source": [
    "ics = list(trans.InstitutionCategory_1.unique())\n",
    "ics"
   ]
  },
  {
   "cell_type": "code",
   "execution_count": 225,
   "id": "97e86cc0",
   "metadata": {
    "scrolled": false
   },
   "outputs": [
    {
     "name": "stdout",
     "output_type": "stream",
     "text": [
      "\n",
      "grouping by:  InstitutionCategory_1\n",
      "\n",
      "\n",
      " Government \n",
      "\n",
      "\n",
      "97 295 176 554 0.05\n",
      "p1:\t 0.5511363636363636\n",
      "p2:\t 0.5324909747292419\n",
      "p1-p2:\t 0.01864538890712175\n",
      "z:\t 0.43215815131725954\n",
      "pvalue:\t 0.33281323632429205\n",
      "\n",
      "\n",
      " Social \n",
      "\n",
      "\n",
      "47 265 51 290 0.05\n",
      "p1:\t 0.9215686274509803\n",
      "p2:\t 0.9137931034482759\n",
      "p1-p2:\t 0.007775524002704426\n",
      "z:\t 0.18357546919976897\n",
      "pvalue:\t 0.427173254393611\n",
      "\n",
      "\n",
      " Party \n",
      "\n",
      "\n",
      "27 102 57 341 0.05\n",
      "p1:\t 0.47368421052631576\n",
      "p2:\t 0.2991202346041056\n",
      "p1-p2:\t 0.17456397592221018\n",
      "z:\t 2.6063922955451573\n",
      "pvalue:\t 0.0045750797989165815**\n",
      "\n",
      "\n",
      " Military \n",
      "\n",
      "\n",
      "12 126 19 137 0.05\n",
      "p1:\t 0.631578947368421\n",
      "p2:\t 0.9197080291970803\n",
      "p1-p2:\t -0.28812908182865926\n",
      "z:\t -3.683924175727469\n",
      "pvalue:\t 0.00011483529329048281***\n"
     ]
    }
   ],
   "source": [
    "ttest_by_group_variable(\"InstitutionCategory_1\",ics,stat2,2,3,0,1)"
   ]
  },
  {
   "cell_type": "code",
   "execution_count": null,
   "id": "eab5b1d9",
   "metadata": {},
   "outputs": [],
   "source": []
  }
 ],
 "metadata": {
  "kernelspec": {
   "display_name": "Python 3 (ipykernel)",
   "language": "python",
   "name": "python3"
  },
  "language_info": {
   "codemirror_mode": {
    "name": "ipython",
    "version": 3
   },
   "file_extension": ".py",
   "mimetype": "text/x-python",
   "name": "python",
   "nbconvert_exporter": "python",
   "pygments_lexer": "ipython3",
   "version": "3.11.5"
  }
 },
 "nbformat": 4,
 "nbformat_minor": 5
}
