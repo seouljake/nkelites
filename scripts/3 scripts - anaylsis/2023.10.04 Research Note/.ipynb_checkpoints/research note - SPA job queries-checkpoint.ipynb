{
 "cells": [
  {
   "cell_type": "code",
   "execution_count": 1,
   "id": "74698cf3",
   "metadata": {},
   "outputs": [],
   "source": [
    "import pandas as pd\n",
    "import numpy as np\n",
    "from datetime import date\n",
    "from statistics import mean, mode\n",
    "from pandas.api.types import CategoricalDtype\n",
    "pd.set_option('display.max_rows', None)"
   ]
  },
  {
   "cell_type": "code",
   "execution_count": 2,
   "id": "75aa1647",
   "metadata": {},
   "outputs": [
    {
     "name": "stdout",
     "output_type": "stream",
     "text": [
      "2023-10-21\n"
     ]
    }
   ],
   "source": [
    "today = date.today()\n",
    "print(today)"
   ]
  },
  {
   "cell_type": "markdown",
   "id": "aaf25c71",
   "metadata": {},
   "source": [
    "# Tables"
   ]
  },
  {
   "cell_type": "code",
   "execution_count": 3,
   "id": "f2c9c339",
   "metadata": {},
   "outputs": [],
   "source": [
    "path_tables = \"C:/Users/seoul/Dropbox/00 technical/github/nkelites/data/combined data/combined data - 2 tables/\""
   ]
  },
  {
   "cell_type": "code",
   "execution_count": 4,
   "id": "200fa7f5",
   "metadata": {},
   "outputs": [],
   "source": [
    "# tables\n",
    "filename_careerorglink = \"careerorglink.xlsx\"\n",
    "filename_leadercareerlink = \"leadercareerlink.xlsx\"\n",
    "filename_orgtree = \"orgtree.xlsx\"\n",
    "filename_elected = \"positions_elected.xlsx\""
   ]
  },
  {
   "cell_type": "code",
   "execution_count": 5,
   "id": "b7d9b165",
   "metadata": {
    "scrolled": true
   },
   "outputs": [
    {
     "data": {
      "text/plain": [
       "(9002, 12)"
      ]
     },
     "execution_count": 5,
     "metadata": {},
     "output_type": "execute_result"
    }
   ],
   "source": [
    "col = pd.read_excel(path_tables + filename_careerorglink,dtype=\"str\")\n",
    "col.shape"
   ]
  },
  {
   "cell_type": "code",
   "execution_count": 6,
   "id": "0bd17a8f",
   "metadata": {},
   "outputs": [
    {
     "data": {
      "text/plain": [
       "Index(['CareerString', 'CareerDateString_2022', 'IsJob', 'MultipleSubstrings',\n",
       "       'CareerStartYear', 'CareerStartMonth', 'CareerSubstring',\n",
       "       'InstitutionType', 'PrimaryInstitution', 'OrgName', 'Position',\n",
       "       'Notes'],\n",
       "      dtype='object')"
      ]
     },
     "execution_count": 6,
     "metadata": {},
     "output_type": "execute_result"
    }
   ],
   "source": [
    "col.columns"
   ]
  },
  {
   "cell_type": "code",
   "execution_count": 7,
   "id": "4aa22e14",
   "metadata": {},
   "outputs": [
    {
     "data": {
      "text/plain": [
       "(12617, 3)"
      ]
     },
     "execution_count": 7,
     "metadata": {},
     "output_type": "execute_result"
    }
   ],
   "source": [
    "lcl = pd.read_excel(path_tables + filename_leadercareerlink,dtype=\"str\")\n",
    "lcl.shape"
   ]
  },
  {
   "cell_type": "code",
   "execution_count": 8,
   "id": "ac0f5205",
   "metadata": {},
   "outputs": [
    {
     "data": {
      "text/plain": [
       "Index(['LeaderID', 'CareerString', 'CareerDateString_2022'], dtype='object')"
      ]
     },
     "execution_count": 8,
     "metadata": {},
     "output_type": "execute_result"
    }
   ],
   "source": [
    "lcl.columns"
   ]
  },
  {
   "cell_type": "code",
   "execution_count": 9,
   "id": "44ba37bd",
   "metadata": {},
   "outputs": [
    {
     "data": {
      "text/plain": [
       "(2368, 19)"
      ]
     },
     "execution_count": 9,
     "metadata": {},
     "output_type": "execute_result"
    }
   ],
   "source": [
    "org = pd.read_excel(path_tables + filename_orgtree,dtype=\"str\")\n",
    "org.shape"
   ]
  },
  {
   "cell_type": "code",
   "execution_count": 10,
   "id": "05b6e3e8",
   "metadata": {},
   "outputs": [
    {
     "data": {
      "text/plain": [
       "Index(['InstitutionType', 'OrgType', 'PrimaryInstitution', 'OrgName',\n",
       "       'PI_Index', 'OrgRank', 'P1', 'P2', 'P3', 'Alias_OrgName',\n",
       "       'LinkToNext_PI', 'LinkToNext_Org', 'LinkToNext_Year', 'Notes',\n",
       "       'L1_Index', 'L2_Index', 'L3_Index', 'L4_Index', 'L5_Index'],\n",
       "      dtype='object')"
      ]
     },
     "execution_count": 10,
     "metadata": {},
     "output_type": "execute_result"
    }
   ],
   "source": [
    "org.columns"
   ]
  },
  {
   "cell_type": "code",
   "execution_count": 11,
   "id": "b93b05ba",
   "metadata": {},
   "outputs": [
    {
     "data": {
      "text/plain": [
       "(105, 4)"
      ]
     },
     "execution_count": 11,
     "metadata": {},
     "output_type": "execute_result"
    }
   ],
   "source": [
    "elected = pd.read_excel(path_tables + filename_elected,dtype=\"str\")\n",
    "elected.shape"
   ]
  },
  {
   "cell_type": "code",
   "execution_count": 12,
   "id": "011dfaa4",
   "metadata": {},
   "outputs": [
    {
     "data": {
      "text/plain": [
       "Index(['PrimaryInstitution', 'OrgName', 'Position', 'IsElected'], dtype='object')"
      ]
     },
     "execution_count": 12,
     "metadata": {},
     "output_type": "execute_result"
    }
   ],
   "source": [
    "elected.columns"
   ]
  },
  {
   "cell_type": "markdown",
   "id": "52841326",
   "metadata": {},
   "source": [
    "# Queries"
   ]
  },
  {
   "cell_type": "code",
   "execution_count": 13,
   "id": "df5b44ce",
   "metadata": {},
   "outputs": [],
   "source": [
    "path_queries = \"C:/Users/seoul/Dropbox/00 technical/github/nkelites/data/combined data/combined data - 3 queries/\""
   ]
  },
  {
   "cell_type": "code",
   "execution_count": 14,
   "id": "7a0352b8",
   "metadata": {},
   "outputs": [],
   "source": [
    "# jobs and job transitions, elected & unelected, in and out of gov\n",
    "filename_leaderjob_electUnelect_inOutgov = \"leaderjob_electUnelect_inOutgov.xlsx\"\n",
    "filename_leaderjobtransition_electUnelect_inOutgov = \"leaderjobtransition_electUnelect_inOutgov.xlsx\""
   ]
  },
  {
   "cell_type": "code",
   "execution_count": 15,
   "id": "c878347a",
   "metadata": {},
   "outputs": [
    {
     "data": {
      "text/plain": [
       "(8594, 14)"
      ]
     },
     "execution_count": 15,
     "metadata": {},
     "output_type": "execute_result"
    }
   ],
   "source": [
    "# certain jobs\n",
    "# IsJob == True\n",
    "# InstitutionType, PrimaryInstitution, OrgName != \"Uncertain\"\n",
    "jobs = pd.read_excel(path_queries + filename_leaderjob_electUnelect_inOutgov,dtype=\"str\")\n",
    "jobs.shape"
   ]
  },
  {
   "cell_type": "code",
   "execution_count": 16,
   "id": "31cb5cd4",
   "metadata": {},
   "outputs": [
    {
     "data": {
      "text/plain": [
       "(6311, 29)"
      ]
     },
     "execution_count": 16,
     "metadata": {},
     "output_type": "execute_result"
    }
   ],
   "source": [
    "trans = pd.read_excel(path_queries + filename_leaderjobtransition_electUnelect_inOutgov,dtype=\"str\")\n",
    "trans.shape"
   ]
  },
  {
   "cell_type": "markdown",
   "id": "224feffb",
   "metadata": {},
   "source": [
    "#### change datatypes"
   ]
  },
  {
   "cell_type": "code",
   "execution_count": 17,
   "id": "b22117ac",
   "metadata": {},
   "outputs": [
    {
     "data": {
      "text/plain": [
       "LeaderID                   object\n",
       "CareerString_1             object\n",
       "CareerDateString_2022_1    object\n",
       "CareerStartYear_1           int32\n",
       "CareerStartMonth_1         object\n",
       "CareerStartDate_1          object\n",
       "CareerSubstring_1          object\n",
       "InstitutionType_1          object\n",
       "PrimaryInstitution_1       object\n",
       "OrgName_1                  object\n",
       "Position_1                 object\n",
       "IsElected_1                object\n",
       "OrgRank_1                  object\n",
       "PositionRank_1             object\n",
       "CareerString_2             object\n",
       "CareerDateString_2022_2    object\n",
       "CareerStartYear_2          object\n",
       "CareerStartMonth_2         object\n",
       "CareerStartDate_2          object\n",
       "CareerSubstring_2          object\n",
       "InstitutionType_2          object\n",
       "PrimaryInstitution_2       object\n",
       "OrgName_2                  object\n",
       "Position_2                 object\n",
       "IsElected_2                object\n",
       "OrgRank_2                  object\n",
       "PositionRank_2             object\n",
       "OrgAdvance                  int32\n",
       "PositionAdvance             int32\n",
       "dtype: object"
      ]
     },
     "execution_count": 17,
     "metadata": {},
     "output_type": "execute_result"
    }
   ],
   "source": [
    "trans = trans.astype({\"OrgAdvance\":\"int\",\"PositionAdvance\":\"int\",\"CareerStartYear_1\":\"int\"})\n",
    "trans.dtypes"
   ]
  },
  {
   "cell_type": "markdown",
   "id": "7d59db9d",
   "metadata": {},
   "source": [
    "# Functions"
   ]
  },
  {
   "cell_type": "code",
   "execution_count": 18,
   "id": "ba5de424",
   "metadata": {},
   "outputs": [],
   "source": [
    "def merge_results(m):\n",
    "    \n",
    "    print(\"\\nMerge Results...\")\n",
    "    print(\"\")\n",
    "    print(\"\\tshape     :\",m.shape)\n",
    "    print(\"\\tleft_only :\",m[m[\"_merge\"]==\"left_only\"].shape)\n",
    "    print(\"\\tboth      :\",m[m[\"_merge\"]==\"both\"].shape)\n",
    "    print(\"\\tright_only:\",m[m[\"_merge\"]==\"right_only\"].shape)"
   ]
  },
  {
   "cell_type": "code",
   "execution_count": 19,
   "id": "d3411709",
   "metadata": {},
   "outputs": [],
   "source": [
    "# using this on (PI,OrgName) will ensure unique & non-null keys\n",
    "# using this on a larger df will ensure unique rows and non-null keys, but not unique keys\n",
    "\n",
    "def unique_non_null_rows(olddf):\n",
    "    \n",
    "    df = olddf.copy()\n",
    "    \n",
    "    \n",
    "    ### drop duplicates\n",
    "    df = df.drop_duplicates(keep=\"first\",ignore_index=True)\n",
    "\n",
    "    ### drop null rows\n",
    "    df.dropna(how=\"all\",axis=0,inplace=True)\n",
    "    \n",
    "    # drop rows with null PI\n",
    "    df = df[~(df[\"PrimaryInstitution\"].isna())]\n",
    "        \n",
    "    ### drop rows where PI contains stop words\n",
    "    stop_words_lower = [\"uncertain\",\"current\",\"deprecated\",\"please_revise\"]\n",
    "    df = df[ ~ df[\"PrimaryInstitution\"].str.lower().isin(stop_words_lower)]\n",
    "            \n",
    "\n",
    "    print(\"\\nUnique Non-null Rows...\")\n",
    "    print(\"\")\n",
    "    print(\"\\tNon-unique rows:\",olddf.shape)\n",
    "    print(\"\\tUnique rows    :\",df.shape)\n",
    "\n",
    "    ### sort\n",
    "    df = df.sort_values([\"PrimaryInstitution\",\"OrgName\"])\n",
    "    \n",
    "    return df"
   ]
  },
  {
   "cell_type": "code",
   "execution_count": 20,
   "id": "945f13c9",
   "metadata": {},
   "outputs": [],
   "source": [
    "def create_time_series(series,group_var,count_var):\n",
    "    \n",
    "    yeardist = series.groupby(group_var,as_index=False).count().sort_values(group_var)\n",
    "    \n",
    "    max_year = max(series[group_var])\n",
    "    x = pd.DataFrame({\"year\":pd.Series(range(min(yeardist[group_var].astype(int)),max(yeardist[group_var].astype(int))+1))})\n",
    "    \n",
    "    yeardist[group_var] = yeardist[group_var].astype(int,errors=\"ignore\")\n",
    "    \n",
    "    ts = x.merge(yeardist,left_on=\"year\",right_on=group_var,how=\"left\")\n",
    "    ts.loc[ts[count_var].isna(),count_var]=0\n",
    "    # merge_results(ts)\n",
    "    \n",
    "    ts_columns = [\"year\",count_var]\n",
    "    ts = ts[ts_columns]\n",
    "    \n",
    "    return ts"
   ]
  },
  {
   "cell_type": "markdown",
   "id": "16c49e74",
   "metadata": {},
   "source": [
    "# Analysis - Research Note"
   ]
  },
  {
   "cell_type": "code",
   "execution_count": 21,
   "id": "39648498",
   "metadata": {},
   "outputs": [],
   "source": [
    "path_analysis = \"C:/Users/seoul/Dropbox/00 technical/github/nkelites/analysis/\""
   ]
  },
  {
   "cell_type": "code",
   "execution_count": 22,
   "id": "72a5cd0f",
   "metadata": {},
   "outputs": [],
   "source": [
    "# analysis sub-paths\n",
    "study0_path = \"2023.10.04 Study 0 - research note/\"\n",
    "study1_path = \"2023.10.04 Study 1 - political capital/\"\n",
    "study2_path = \"2023.10.04 Study 2 - commitment vs control/\"\n",
    "study3_path = \"2023.10.04 Study 3 - reds vs experts/\""
   ]
  },
  {
   "cell_type": "markdown",
   "id": "e07d878c",
   "metadata": {},
   "source": [
    "### SPA 대의원"
   ]
  },
  {
   "cell_type": "code",
   "execution_count": 27,
   "id": "bcf88b1f",
   "metadata": {},
   "outputs": [
    {
     "data": {
      "text/plain": [
       "Index(['LeaderID', 'CareerString', 'CareerDateString_2022', 'CareerStartYear',\n",
       "       'CareerStartMonth', 'CareerStartDate', 'CareerSubstring',\n",
       "       'InstitutionType', 'PrimaryInstitution', 'OrgName', 'Position',\n",
       "       'IsElected', 'OrgRank', 'PositionRank'],\n",
       "      dtype='object')"
      ]
     },
     "execution_count": 27,
     "metadata": {},
     "output_type": "execute_result"
    }
   ],
   "source": [
    "jobs.columns"
   ]
  },
  {
   "cell_type": "code",
   "execution_count": 29,
   "id": "45e8aaac",
   "metadata": {},
   "outputs": [
    {
     "data": {
      "text/html": [
       "<div>\n",
       "<style scoped>\n",
       "    .dataframe tbody tr th:only-of-type {\n",
       "        vertical-align: middle;\n",
       "    }\n",
       "\n",
       "    .dataframe tbody tr th {\n",
       "        vertical-align: top;\n",
       "    }\n",
       "\n",
       "    .dataframe thead th {\n",
       "        text-align: right;\n",
       "    }\n",
       "</style>\n",
       "<table border=\"1\" class=\"dataframe\">\n",
       "  <thead>\n",
       "    <tr style=\"text-align: right;\">\n",
       "      <th></th>\n",
       "      <th>LeaderID</th>\n",
       "      <th>CareerStartDate</th>\n",
       "      <th>InstitutionType</th>\n",
       "      <th>PrimaryInstitution</th>\n",
       "      <th>OrgName</th>\n",
       "      <th>Position</th>\n",
       "    </tr>\n",
       "  </thead>\n",
       "  <tbody>\n",
       "    <tr>\n",
       "      <th>4</th>\n",
       "      <td>김창섭</td>\n",
       "      <td>201403</td>\n",
       "      <td>정권기관</td>\n",
       "      <td>최고인민회의</td>\n",
       "      <td>NaN</td>\n",
       "      <td>대의원</td>\n",
       "    </tr>\n",
       "    <tr>\n",
       "      <th>5</th>\n",
       "      <td>최태복</td>\n",
       "      <td>201403</td>\n",
       "      <td>정권기관</td>\n",
       "      <td>최고인민회의</td>\n",
       "      <td>NaN</td>\n",
       "      <td>대의원</td>\n",
       "    </tr>\n",
       "  </tbody>\n",
       "</table>\n",
       "</div>"
      ],
      "text/plain": [
       "  LeaderID CareerStartDate InstitutionType PrimaryInstitution OrgName Position\n",
       "4      김창섭          201403            정권기관             최고인민회의     NaN      대의원\n",
       "5      최태복          201403            정권기관             최고인민회의     NaN      대의원"
      ]
     },
     "execution_count": 29,
     "metadata": {},
     "output_type": "execute_result"
    }
   ],
   "source": [
    "spa_analysis_columns = [\"LeaderID\",\"CareerStartDate\",\"InstitutionType\",\"PrimaryInstitution\",\"OrgName\",\"Position\"]\n",
    "spajobs = jobs[spa_analysis_columns]\n",
    "spajobs[spajobs.PrimaryInstitution==\"최고인민회의\"].head(2)"
   ]
  },
  {
   "cell_type": "code",
   "execution_count": 64,
   "id": "6193c93d",
   "metadata": {},
   "outputs": [
    {
     "data": {
      "text/plain": [
       "(1490, 6)"
      ]
     },
     "execution_count": 64,
     "metadata": {},
     "output_type": "execute_result"
    }
   ],
   "source": [
    "# how many leaders were 최고인민회의 대의원?\n",
    "spa_delegate_jobs = spajobs[(spajobs.PrimaryInstitution==\"최고인민회의\") & (spajobs.Position==\"대의원\")].drop_duplicates()\n",
    "spa_delegate_jobs.shape"
   ]
  },
  {
   "cell_type": "code",
   "execution_count": 61,
   "id": "a42e158c",
   "metadata": {},
   "outputs": [
    {
     "data": {
      "text/plain": [
       "438"
      ]
     },
     "execution_count": 61,
     "metadata": {},
     "output_type": "execute_result"
    }
   ],
   "source": [
    "# 438 leaders were SPA Reps.\n",
    "spa_delegates = spa_delegate_jobs.groupby(\"LeaderID\",as_index=False).count()\n",
    "spa_delegates = list(spa_delegates[\"LeaderID\"])\n",
    "len(spa_delegates)"
   ]
  },
  {
   "cell_type": "code",
   "execution_count": 42,
   "id": "a56601bd",
   "metadata": {},
   "outputs": [
    {
     "data": {
      "text/plain": [
       "3.401826484018265"
      ]
     },
     "execution_count": 42,
     "metadata": {},
     "output_type": "execute_result"
    }
   ],
   "source": [
    "# On average, each was a rep more than 3 times.\n",
    "1490/438"
   ]
  },
  {
   "cell_type": "markdown",
   "id": "b070a01a",
   "metadata": {},
   "source": [
    "### SPA career transitions"
   ]
  },
  {
   "cell_type": "code",
   "execution_count": 65,
   "id": "aa29b741",
   "metadata": {},
   "outputs": [
    {
     "data": {
      "text/plain": [
       "(7748, 14)"
      ]
     },
     "execution_count": 65,
     "metadata": {},
     "output_type": "execute_result"
    }
   ],
   "source": [
    "spa_delegate_alljobs = jobs[jobs.LeaderID.isin(spa_delegates)]\n",
    "spa_delegate_alljobs.shape"
   ]
  },
  {
   "cell_type": "code",
   "execution_count": 68,
   "id": "bd54590b",
   "metadata": {},
   "outputs": [
    {
     "data": {
      "text/html": [
       "<div>\n",
       "<style scoped>\n",
       "    .dataframe tbody tr th:only-of-type {\n",
       "        vertical-align: middle;\n",
       "    }\n",
       "\n",
       "    .dataframe tbody tr th {\n",
       "        vertical-align: top;\n",
       "    }\n",
       "\n",
       "    .dataframe thead th {\n",
       "        text-align: right;\n",
       "    }\n",
       "</style>\n",
       "<table border=\"1\" class=\"dataframe\">\n",
       "  <thead>\n",
       "    <tr style=\"text-align: right;\">\n",
       "      <th></th>\n",
       "      <th>LeaderID</th>\n",
       "      <th>CareerString</th>\n",
       "      <th>CareerDateString_2022</th>\n",
       "      <th>CareerStartYear</th>\n",
       "      <th>CareerStartMonth</th>\n",
       "      <th>CareerStartDate</th>\n",
       "      <th>CareerSubstring</th>\n",
       "      <th>InstitutionType</th>\n",
       "      <th>PrimaryInstitution</th>\n",
       "      <th>OrgName</th>\n",
       "      <th>Position</th>\n",
       "      <th>IsElected</th>\n",
       "      <th>OrgRank</th>\n",
       "      <th>PositionRank</th>\n",
       "    </tr>\n",
       "  </thead>\n",
       "  <tbody>\n",
       "    <tr>\n",
       "      <th>0</th>\n",
       "      <td>리원일</td>\n",
       "      <td>노동성 상(유임)</td>\n",
       "      <td>1999.02</td>\n",
       "      <td>1999</td>\n",
       "      <td>2</td>\n",
       "      <td>199902</td>\n",
       "      <td>NaN</td>\n",
       "      <td>정권기관</td>\n",
       "      <td>내각</td>\n",
       "      <td>노동성</td>\n",
       "      <td>상</td>\n",
       "      <td>NaN</td>\n",
       "      <td>1</td>\n",
       "      <td>1</td>\n",
       "    </tr>\n",
       "    <tr>\n",
       "      <th>2</th>\n",
       "      <td>정경택</td>\n",
       "      <td>당 중앙위원회 정치국 위원 (*당 중앙위원회 제7기 제4차 전원회의에서 보선)</td>\n",
       "      <td>2019.04</td>\n",
       "      <td>2019</td>\n",
       "      <td>4</td>\n",
       "      <td>201904</td>\n",
       "      <td>NaN</td>\n",
       "      <td>노동당</td>\n",
       "      <td>노동당</td>\n",
       "      <td>당중앙위원회_정치국</td>\n",
       "      <td>위원</td>\n",
       "      <td>1</td>\n",
       "      <td>2</td>\n",
       "      <td>2</td>\n",
       "    </tr>\n",
       "    <tr>\n",
       "      <th>3</th>\n",
       "      <td>리하일</td>\n",
       "      <td>인민무력부 작전국 국장</td>\n",
       "      <td>1975</td>\n",
       "      <td>1975</td>\n",
       "      <td>NaN</td>\n",
       "      <td>197500</td>\n",
       "      <td>NaN</td>\n",
       "      <td>정권기관</td>\n",
       "      <td>정무원</td>\n",
       "      <td>인민무력부A_작전국</td>\n",
       "      <td>국장</td>\n",
       "      <td>NaN</td>\n",
       "      <td>2</td>\n",
       "      <td>1</td>\n",
       "    </tr>\n",
       "    <tr>\n",
       "      <th>4</th>\n",
       "      <td>김창섭</td>\n",
       "      <td>최고인민회의 제13기 대의원</td>\n",
       "      <td>2014.03</td>\n",
       "      <td>2014</td>\n",
       "      <td>3</td>\n",
       "      <td>201403</td>\n",
       "      <td>NaN</td>\n",
       "      <td>정권기관</td>\n",
       "      <td>최고인민회의</td>\n",
       "      <td>NaN</td>\n",
       "      <td>대의원</td>\n",
       "      <td>1</td>\n",
       "      <td>0</td>\n",
       "      <td>3</td>\n",
       "    </tr>\n",
       "    <tr>\n",
       "      <th>5</th>\n",
       "      <td>최태복</td>\n",
       "      <td>최고인민회의 제13기 대의원</td>\n",
       "      <td>2014.03</td>\n",
       "      <td>2014</td>\n",
       "      <td>3</td>\n",
       "      <td>201403</td>\n",
       "      <td>NaN</td>\n",
       "      <td>정권기관</td>\n",
       "      <td>최고인민회의</td>\n",
       "      <td>NaN</td>\n",
       "      <td>대의원</td>\n",
       "      <td>1</td>\n",
       "      <td>0</td>\n",
       "      <td>3</td>\n",
       "    </tr>\n",
       "  </tbody>\n",
       "</table>\n",
       "</div>"
      ],
      "text/plain": [
       "  LeaderID                                    CareerString  \\\n",
       "0      리원일                                       노동성 상(유임)   \n",
       "2      정경택   당 중앙위원회 정치국 위원 (*당 중앙위원회 제7기 제4차 전원회의에서 보선)     \n",
       "3      리하일                                    인민무력부 작전국 국장   \n",
       "4      김창섭                                 최고인민회의 제13기 대의원   \n",
       "5      최태복                                 최고인민회의 제13기 대의원   \n",
       "\n",
       "  CareerDateString_2022 CareerStartYear CareerStartMonth CareerStartDate  \\\n",
       "0               1999.02            1999                2          199902   \n",
       "2               2019.04            2019                4          201904   \n",
       "3                  1975            1975              NaN          197500   \n",
       "4               2014.03            2014                3          201403   \n",
       "5               2014.03            2014                3          201403   \n",
       "\n",
       "  CareerSubstring InstitutionType PrimaryInstitution     OrgName Position  \\\n",
       "0             NaN            정권기관                 내각         노동성        상   \n",
       "2             NaN             노동당                노동당  당중앙위원회_정치국       위원   \n",
       "3             NaN            정권기관                정무원  인민무력부A_작전국       국장   \n",
       "4             NaN            정권기관             최고인민회의         NaN      대의원   \n",
       "5             NaN            정권기관             최고인민회의         NaN      대의원   \n",
       "\n",
       "  IsElected OrgRank PositionRank  \n",
       "0       NaN       1            1  \n",
       "2         1       2            2  \n",
       "3       NaN       2            1  \n",
       "4         1       0            3  \n",
       "5         1       0            3  "
      ]
     },
     "execution_count": 68,
     "metadata": {},
     "output_type": "execute_result"
    }
   ],
   "source": [
    "spa_delegate_alljobs.head(5)"
   ]
  },
  {
   "cell_type": "code",
   "execution_count": 69,
   "id": "627336ee",
   "metadata": {},
   "outputs": [
    {
     "data": {
      "text/plain": [
       "True"
      ]
     },
     "execution_count": 69,
     "metadata": {},
     "output_type": "execute_result"
    }
   ],
   "source": [
    "\"리원일\" in spa_delegates"
   ]
  },
  {
   "cell_type": "code",
   "execution_count": 83,
   "id": "462ba0e7",
   "metadata": {},
   "outputs": [
    {
     "data": {
      "text/plain": [
       "Index(['LeaderID', 'CareerString', 'CareerDateString_2022', 'CareerStartYear',\n",
       "       'CareerStartMonth', 'CareerStartDate', 'CareerSubstring',\n",
       "       'InstitutionType', 'PrimaryInstitution', 'OrgName', 'Position',\n",
       "       'IsElected', 'OrgRank', 'PositionRank'],\n",
       "      dtype='object')"
      ]
     },
     "execution_count": 83,
     "metadata": {},
     "output_type": "execute_result"
    }
   ],
   "source": [
    "spa_delegate_alljobs.columns"
   ]
  },
  {
   "cell_type": "code",
   "execution_count": 84,
   "id": "45d525d5",
   "metadata": {},
   "outputs": [
    {
     "data": {
      "text/plain": [
       "(243816, 9)"
      ]
     },
     "execution_count": 84,
     "metadata": {},
     "output_type": "execute_result"
    }
   ],
   "source": [
    "# all job pairings of all jobs ever held by SPA delegates\n",
    "spa_trans_key = [\"LeaderID\"]\n",
    "spa_trans_columns = [\"LeaderID\",\"CareerStartDate\",\"PrimaryInstitution\",\"OrgName\",\"Position\"]\n",
    "spa_delegate_alljobs = spa_delegate_alljobs[spa_trans_columns]\n",
    "spa_trans = spa_delegate_alljobs.merge(spa_delegate_alljobs,on=spa_trans_key,how=\"inner\")\n",
    "spa_trans.shape"
   ]
  },
  {
   "cell_type": "code",
   "execution_count": 85,
   "id": "faad929c",
   "metadata": {},
   "outputs": [],
   "source": [
    "# all unique job pairings of all jobs ever held by SPA delegates\n",
    "spa_trans2 = spa_trans[spa_trans.CareerStartDate_x < spa_trans.CareerStartDate_y]"
   ]
  },
  {
   "cell_type": "code",
   "execution_count": 86,
   "id": "a08e670d",
   "metadata": {},
   "outputs": [
    {
     "data": {
      "text/plain": [
       "(11883, 9)"
      ]
     },
     "execution_count": 86,
     "metadata": {},
     "output_type": "execute_result"
    }
   ],
   "source": [
    "# all unique job pairings of all SPA jobs ever held by SPA delegates\n",
    "spa_trans3 = spa_trans2[(spa_trans2.PrimaryInstitution_x==\"최고인민회의\") & (spa_trans2.PrimaryInstitution_y==\"최고인민회의\")]\n",
    "spa_trans3.shape"
   ]
  },
  {
   "cell_type": "code",
   "execution_count": 87,
   "id": "5fa64907",
   "metadata": {},
   "outputs": [
    {
     "data": {
      "text/html": [
       "<div>\n",
       "<style scoped>\n",
       "    .dataframe tbody tr th:only-of-type {\n",
       "        vertical-align: middle;\n",
       "    }\n",
       "\n",
       "    .dataframe tbody tr th {\n",
       "        vertical-align: top;\n",
       "    }\n",
       "\n",
       "    .dataframe thead th {\n",
       "        text-align: right;\n",
       "    }\n",
       "</style>\n",
       "<table border=\"1\" class=\"dataframe\">\n",
       "  <thead>\n",
       "    <tr style=\"text-align: right;\">\n",
       "      <th></th>\n",
       "      <th>LeaderID</th>\n",
       "      <th>CareerStartDate_x</th>\n",
       "      <th>PrimaryInstitution_x</th>\n",
       "      <th>OrgName_x</th>\n",
       "      <th>Position_x</th>\n",
       "      <th>CareerStartDate_y</th>\n",
       "      <th>PrimaryInstitution_y</th>\n",
       "      <th>OrgName_y</th>\n",
       "      <th>Position_y</th>\n",
       "    </tr>\n",
       "  </thead>\n",
       "  <tbody>\n",
       "    <tr>\n",
       "      <th>51</th>\n",
       "      <td>리원일</td>\n",
       "      <td>199809</td>\n",
       "      <td>최고인민회의</td>\n",
       "      <td>NaN</td>\n",
       "      <td>대의원</td>\n",
       "      <td>200309</td>\n",
       "      <td>최고인민회의</td>\n",
       "      <td>NaN</td>\n",
       "      <td>대의원</td>\n",
       "    </tr>\n",
       "    <tr>\n",
       "      <th>52</th>\n",
       "      <td>리원일</td>\n",
       "      <td>199809</td>\n",
       "      <td>최고인민회의</td>\n",
       "      <td>NaN</td>\n",
       "      <td>대의원</td>\n",
       "      <td>200903</td>\n",
       "      <td>최고인민회의</td>\n",
       "      <td>NaN</td>\n",
       "      <td>대의원</td>\n",
       "    </tr>\n",
       "    <tr>\n",
       "      <th>53</th>\n",
       "      <td>리원일</td>\n",
       "      <td>199809</td>\n",
       "      <td>최고인민회의</td>\n",
       "      <td>NaN</td>\n",
       "      <td>대의원</td>\n",
       "      <td>201009</td>\n",
       "      <td>최고인민회의</td>\n",
       "      <td>황해북도인민위원회</td>\n",
       "      <td>위원장</td>\n",
       "    </tr>\n",
       "    <tr>\n",
       "      <th>58</th>\n",
       "      <td>리원일</td>\n",
       "      <td>199809</td>\n",
       "      <td>최고인민회의</td>\n",
       "      <td>NaN</td>\n",
       "      <td>대의원</td>\n",
       "      <td>200309</td>\n",
       "      <td>최고인민회의</td>\n",
       "      <td>NaN</td>\n",
       "      <td>대의원</td>\n",
       "    </tr>\n",
       "    <tr>\n",
       "      <th>59</th>\n",
       "      <td>리원일</td>\n",
       "      <td>199809</td>\n",
       "      <td>최고인민회의</td>\n",
       "      <td>NaN</td>\n",
       "      <td>대의원</td>\n",
       "      <td>201009</td>\n",
       "      <td>최고인민회의</td>\n",
       "      <td>황해북도인민위원회</td>\n",
       "      <td>위원장</td>\n",
       "    </tr>\n",
       "  </tbody>\n",
       "</table>\n",
       "</div>"
      ],
      "text/plain": [
       "   LeaderID CareerStartDate_x PrimaryInstitution_x OrgName_x Position_x  \\\n",
       "51      리원일            199809               최고인민회의       NaN        대의원   \n",
       "52      리원일            199809               최고인민회의       NaN        대의원   \n",
       "53      리원일            199809               최고인민회의       NaN        대의원   \n",
       "58      리원일            199809               최고인민회의       NaN        대의원   \n",
       "59      리원일            199809               최고인민회의       NaN        대의원   \n",
       "\n",
       "   CareerStartDate_y PrimaryInstitution_y  OrgName_y Position_y  \n",
       "51            200309               최고인민회의        NaN        대의원  \n",
       "52            200903               최고인민회의        NaN        대의원  \n",
       "53            201009               최고인민회의  황해북도인민위원회        위원장  \n",
       "58            200309               최고인민회의        NaN        대의원  \n",
       "59            201009               최고인민회의  황해북도인민위원회        위원장  "
      ]
     },
     "execution_count": 87,
     "metadata": {},
     "output_type": "execute_result"
    }
   ],
   "source": [
    "# query: how many \n",
    "spa_trans3.head(5)"
   ]
  },
  {
   "cell_type": "code",
   "execution_count": 89,
   "id": "b8539cc3",
   "metadata": {},
   "outputs": [
    {
     "data": {
      "text/html": [
       "<div>\n",
       "<style scoped>\n",
       "    .dataframe tbody tr th:only-of-type {\n",
       "        vertical-align: middle;\n",
       "    }\n",
       "\n",
       "    .dataframe tbody tr th {\n",
       "        vertical-align: top;\n",
       "    }\n",
       "\n",
       "    .dataframe thead th {\n",
       "        text-align: right;\n",
       "    }\n",
       "</style>\n",
       "<table border=\"1\" class=\"dataframe\">\n",
       "  <thead>\n",
       "    <tr style=\"text-align: right;\">\n",
       "      <th></th>\n",
       "      <th>PrimaryInstitution_x</th>\n",
       "      <th>OrgName_x</th>\n",
       "      <th>Position_x</th>\n",
       "    </tr>\n",
       "  </thead>\n",
       "  <tbody>\n",
       "    <tr>\n",
       "      <th>51</th>\n",
       "      <td>최고인민회의</td>\n",
       "      <td>NaN</td>\n",
       "      <td>대의원</td>\n",
       "    </tr>\n",
       "    <tr>\n",
       "      <th>2511</th>\n",
       "      <td>최고인민회의</td>\n",
       "      <td>외교위원회</td>\n",
       "      <td>위원장</td>\n",
       "    </tr>\n",
       "    <tr>\n",
       "      <th>2831</th>\n",
       "      <td>최고인민회의</td>\n",
       "      <td>NaN</td>\n",
       "      <td>의장</td>\n",
       "    </tr>\n",
       "    <tr>\n",
       "      <th>5443</th>\n",
       "      <td>최고인민회의</td>\n",
       "      <td>평양시인민위원회_모란봉구역인민위원회</td>\n",
       "      <td>위원장</td>\n",
       "    </tr>\n",
       "    <tr>\n",
       "      <th>5456</th>\n",
       "      <td>최고인민회의</td>\n",
       "      <td>법제위원회</td>\n",
       "      <td>위원</td>\n",
       "    </tr>\n",
       "    <tr>\n",
       "      <th>6031</th>\n",
       "      <td>최고인민회의</td>\n",
       "      <td>상임위원회</td>\n",
       "      <td>의원</td>\n",
       "    </tr>\n",
       "    <tr>\n",
       "      <th>6278</th>\n",
       "      <td>최고인민회의</td>\n",
       "      <td>상임위원회</td>\n",
       "      <td>위원</td>\n",
       "    </tr>\n",
       "    <tr>\n",
       "      <th>8898</th>\n",
       "      <td>최고인민회의</td>\n",
       "      <td>상설회의</td>\n",
       "      <td>의원</td>\n",
       "    </tr>\n",
       "    <tr>\n",
       "      <th>9381</th>\n",
       "      <td>최고인민회의</td>\n",
       "      <td>상임위원회</td>\n",
       "      <td>참사</td>\n",
       "    </tr>\n",
       "    <tr>\n",
       "      <th>9982</th>\n",
       "      <td>최고인민회의</td>\n",
       "      <td>외교위원회</td>\n",
       "      <td>위원</td>\n",
       "    </tr>\n",
       "    <tr>\n",
       "      <th>14640</th>\n",
       "      <td>최고인민회의</td>\n",
       "      <td>상임위원회</td>\n",
       "      <td>명예부위원장</td>\n",
       "    </tr>\n",
       "    <tr>\n",
       "      <th>18952</th>\n",
       "      <td>최고인민회의</td>\n",
       "      <td>외교위원회</td>\n",
       "      <td>고문</td>\n",
       "    </tr>\n",
       "    <tr>\n",
       "      <th>29624</th>\n",
       "      <td>최고인민회의</td>\n",
       "      <td>통일정책위원회</td>\n",
       "      <td>위원</td>\n",
       "    </tr>\n",
       "    <tr>\n",
       "      <th>31337</th>\n",
       "      <td>최고인민회의</td>\n",
       "      <td>황해남도인민위원회</td>\n",
       "      <td>위원장</td>\n",
       "    </tr>\n",
       "    <tr>\n",
       "      <th>35407</th>\n",
       "      <td>최고인민회의</td>\n",
       "      <td>법안심의위원회</td>\n",
       "      <td>위원</td>\n",
       "    </tr>\n",
       "    <tr>\n",
       "      <th>35533</th>\n",
       "      <td>최고인민회의</td>\n",
       "      <td>법안심의위원회</td>\n",
       "      <td>부위원장</td>\n",
       "    </tr>\n",
       "    <tr>\n",
       "      <th>35597</th>\n",
       "      <td>최고인민회의</td>\n",
       "      <td>법제위원회</td>\n",
       "      <td>부위원장</td>\n",
       "    </tr>\n",
       "    <tr>\n",
       "      <th>35723</th>\n",
       "      <td>최고인민회의</td>\n",
       "      <td>법제위원회</td>\n",
       "      <td>위원장</td>\n",
       "    </tr>\n",
       "    <tr>\n",
       "      <th>47418</th>\n",
       "      <td>최고인민회의</td>\n",
       "      <td>자격심사위원회</td>\n",
       "      <td>위원장</td>\n",
       "    </tr>\n",
       "    <tr>\n",
       "      <th>48954</th>\n",
       "      <td>최고인민회의</td>\n",
       "      <td>대의원자격심사위원회</td>\n",
       "      <td>위원장</td>\n",
       "    </tr>\n",
       "    <tr>\n",
       "      <th>58705</th>\n",
       "      <td>최고인민회의</td>\n",
       "      <td>상설회의</td>\n",
       "      <td>의장</td>\n",
       "    </tr>\n",
       "    <tr>\n",
       "      <th>59507</th>\n",
       "      <td>최고인민회의</td>\n",
       "      <td>상임위원회</td>\n",
       "      <td>부위원장</td>\n",
       "    </tr>\n",
       "    <tr>\n",
       "      <th>59772</th>\n",
       "      <td>최고인민회의</td>\n",
       "      <td>중앙선거위원회</td>\n",
       "      <td>위원장</td>\n",
       "    </tr>\n",
       "    <tr>\n",
       "      <th>65073</th>\n",
       "      <td>최고인민회의</td>\n",
       "      <td>상임위원회</td>\n",
       "      <td>위원장</td>\n",
       "    </tr>\n",
       "    <tr>\n",
       "      <th>65500</th>\n",
       "      <td>최고인민회의</td>\n",
       "      <td>중앙선거위원회</td>\n",
       "      <td>위원</td>\n",
       "    </tr>\n",
       "    <tr>\n",
       "      <th>71168</th>\n",
       "      <td>최고인민회의</td>\n",
       "      <td>상설회의</td>\n",
       "      <td>부의장</td>\n",
       "    </tr>\n",
       "    <tr>\n",
       "      <th>74735</th>\n",
       "      <td>최고인민회의</td>\n",
       "      <td>상임위원회</td>\n",
       "      <td>서기장</td>\n",
       "    </tr>\n",
       "    <tr>\n",
       "      <th>88021</th>\n",
       "      <td>최고인민회의</td>\n",
       "      <td>법안심의위원회</td>\n",
       "      <td>위원장</td>\n",
       "    </tr>\n",
       "    <tr>\n",
       "      <th>92268</th>\n",
       "      <td>최고인민회의</td>\n",
       "      <td>예산위원회</td>\n",
       "      <td>위원</td>\n",
       "    </tr>\n",
       "    <tr>\n",
       "      <th>97820</th>\n",
       "      <td>최고인민회의</td>\n",
       "      <td>예산위원회</td>\n",
       "      <td>부위원장</td>\n",
       "    </tr>\n",
       "    <tr>\n",
       "      <th>100864</th>\n",
       "      <td>최고인민회의</td>\n",
       "      <td>외교위원회</td>\n",
       "      <td>부위원장</td>\n",
       "    </tr>\n",
       "    <tr>\n",
       "      <th>101414</th>\n",
       "      <td>최고인민회의</td>\n",
       "      <td>통일정책위원회</td>\n",
       "      <td>위원장</td>\n",
       "    </tr>\n",
       "    <tr>\n",
       "      <th>110105</th>\n",
       "      <td>최고인민회의</td>\n",
       "      <td>대의원자격심사위원회</td>\n",
       "      <td>위원</td>\n",
       "    </tr>\n",
       "    <tr>\n",
       "      <th>116329</th>\n",
       "      <td>최고인민회의</td>\n",
       "      <td>자격심사위원회</td>\n",
       "      <td>위원</td>\n",
       "    </tr>\n",
       "    <tr>\n",
       "      <th>116578</th>\n",
       "      <td>최고인민회의</td>\n",
       "      <td>양강도인민위원회</td>\n",
       "      <td>부위원장</td>\n",
       "    </tr>\n",
       "    <tr>\n",
       "      <th>118765</th>\n",
       "      <td>최고인민회의</td>\n",
       "      <td>통일정책위원회</td>\n",
       "      <td>책임참사</td>\n",
       "    </tr>\n",
       "    <tr>\n",
       "      <th>125290</th>\n",
       "      <td>최고인민회의</td>\n",
       "      <td>함경남도인민위원회</td>\n",
       "      <td>위원장</td>\n",
       "    </tr>\n",
       "    <tr>\n",
       "      <th>127422</th>\n",
       "      <td>최고인민회의</td>\n",
       "      <td>자강도인민위원회</td>\n",
       "      <td>위원장</td>\n",
       "    </tr>\n",
       "    <tr>\n",
       "      <th>130863</th>\n",
       "      <td>최고인민회의</td>\n",
       "      <td>양강도인민위원회</td>\n",
       "      <td>위원장</td>\n",
       "    </tr>\n",
       "    <tr>\n",
       "      <th>140690</th>\n",
       "      <td>최고인민회의</td>\n",
       "      <td>함경북도인민위원회</td>\n",
       "      <td>위원장</td>\n",
       "    </tr>\n",
       "    <tr>\n",
       "      <th>144024</th>\n",
       "      <td>최고인민회의</td>\n",
       "      <td>평안북도인민위원회</td>\n",
       "      <td>위원장</td>\n",
       "    </tr>\n",
       "    <tr>\n",
       "      <th>146523</th>\n",
       "      <td>최고인민회의</td>\n",
       "      <td>예산위원회</td>\n",
       "      <td>위원장</td>\n",
       "    </tr>\n",
       "    <tr>\n",
       "      <th>156152</th>\n",
       "      <td>최고인민회의</td>\n",
       "      <td>NaN</td>\n",
       "      <td>부의장</td>\n",
       "    </tr>\n",
       "    <tr>\n",
       "      <th>160913</th>\n",
       "      <td>최고인민회의</td>\n",
       "      <td>평안남도인민위원회</td>\n",
       "      <td>위원장</td>\n",
       "    </tr>\n",
       "    <tr>\n",
       "      <th>175942</th>\n",
       "      <td>최고인민회의</td>\n",
       "      <td>중앙선거위원회</td>\n",
       "      <td>부위원장</td>\n",
       "    </tr>\n",
       "    <tr>\n",
       "      <th>201354</th>\n",
       "      <td>최고인민회의</td>\n",
       "      <td>황해북도인민위원회</td>\n",
       "      <td>위원장</td>\n",
       "    </tr>\n",
       "    <tr>\n",
       "      <th>219918</th>\n",
       "      <td>최고인민회의</td>\n",
       "      <td>중앙선거위원회</td>\n",
       "      <td>서기장</td>\n",
       "    </tr>\n",
       "    <tr>\n",
       "      <th>225224</th>\n",
       "      <td>최고인민회의</td>\n",
       "      <td>평양시인민위원회_건설지도국</td>\n",
       "      <td>국장</td>\n",
       "    </tr>\n",
       "    <tr>\n",
       "      <th>229693</th>\n",
       "      <td>최고인민회의</td>\n",
       "      <td>함경북도인민위원회</td>\n",
       "      <td>부위원장</td>\n",
       "    </tr>\n",
       "    <tr>\n",
       "      <th>229711</th>\n",
       "      <td>최고인민회의</td>\n",
       "      <td>함경북도인민위원회_청진시인민위원회</td>\n",
       "      <td>위원장</td>\n",
       "    </tr>\n",
       "    <tr>\n",
       "      <th>231126</th>\n",
       "      <td>최고인민회의</td>\n",
       "      <td>법제위원회</td>\n",
       "      <td>법제위원</td>\n",
       "    </tr>\n",
       "    <tr>\n",
       "      <th>233517</th>\n",
       "      <td>최고인민회의</td>\n",
       "      <td>황해북도인민위원회_서흥군인민위원회</td>\n",
       "      <td>위원장</td>\n",
       "    </tr>\n",
       "  </tbody>\n",
       "</table>\n",
       "</div>"
      ],
      "text/plain": [
       "       PrimaryInstitution_x            OrgName_x Position_x\n",
       "51                   최고인민회의                  NaN        대의원\n",
       "2511                 최고인민회의                외교위원회        위원장\n",
       "2831                 최고인민회의                  NaN         의장\n",
       "5443                 최고인민회의  평양시인민위원회_모란봉구역인민위원회        위원장\n",
       "5456                 최고인민회의                법제위원회         위원\n",
       "6031                 최고인민회의                상임위원회         의원\n",
       "6278                 최고인민회의                상임위원회         위원\n",
       "8898                 최고인민회의                 상설회의         의원\n",
       "9381                 최고인민회의                상임위원회         참사\n",
       "9982                 최고인민회의                외교위원회         위원\n",
       "14640                최고인민회의                상임위원회     명예부위원장\n",
       "18952                최고인민회의                외교위원회         고문\n",
       "29624                최고인민회의              통일정책위원회         위원\n",
       "31337                최고인민회의            황해남도인민위원회        위원장\n",
       "35407                최고인민회의              법안심의위원회         위원\n",
       "35533                최고인민회의              법안심의위원회       부위원장\n",
       "35597                최고인민회의                법제위원회       부위원장\n",
       "35723                최고인민회의                법제위원회        위원장\n",
       "47418                최고인민회의              자격심사위원회        위원장\n",
       "48954                최고인민회의           대의원자격심사위원회        위원장\n",
       "58705                최고인민회의                 상설회의         의장\n",
       "59507                최고인민회의                상임위원회       부위원장\n",
       "59772                최고인민회의              중앙선거위원회        위원장\n",
       "65073                최고인민회의                상임위원회        위원장\n",
       "65500                최고인민회의              중앙선거위원회         위원\n",
       "71168                최고인민회의                 상설회의        부의장\n",
       "74735                최고인민회의                상임위원회        서기장\n",
       "88021                최고인민회의              법안심의위원회        위원장\n",
       "92268                최고인민회의                예산위원회         위원\n",
       "97820                최고인민회의                예산위원회       부위원장\n",
       "100864               최고인민회의                외교위원회       부위원장\n",
       "101414               최고인민회의              통일정책위원회        위원장\n",
       "110105               최고인민회의           대의원자격심사위원회         위원\n",
       "116329               최고인민회의              자격심사위원회         위원\n",
       "116578               최고인민회의             양강도인민위원회       부위원장\n",
       "118765               최고인민회의              통일정책위원회       책임참사\n",
       "125290               최고인민회의            함경남도인민위원회        위원장\n",
       "127422               최고인민회의             자강도인민위원회        위원장\n",
       "130863               최고인민회의             양강도인민위원회        위원장\n",
       "140690               최고인민회의            함경북도인민위원회        위원장\n",
       "144024               최고인민회의            평안북도인민위원회        위원장\n",
       "146523               최고인민회의                예산위원회        위원장\n",
       "156152               최고인민회의                  NaN        부의장\n",
       "160913               최고인민회의            평안남도인민위원회        위원장\n",
       "175942               최고인민회의              중앙선거위원회       부위원장\n",
       "201354               최고인민회의            황해북도인민위원회        위원장\n",
       "219918               최고인민회의              중앙선거위원회        서기장\n",
       "225224               최고인민회의       평양시인민위원회_건설지도국         국장\n",
       "229693               최고인민회의            함경북도인민위원회       부위원장\n",
       "229711               최고인민회의   함경북도인민위원회_청진시인민위원회        위원장\n",
       "231126               최고인민회의                법제위원회       법제위원\n",
       "233517               최고인민회의   황해북도인민위원회_서흥군인민위원회        위원장"
      ]
     },
     "execution_count": 89,
     "metadata": {},
     "output_type": "execute_result"
    }
   ],
   "source": [
    "# unique prior OrgName, Position\n",
    "query1_columns = [\"PrimaryInstitution_x\",\"OrgName_x\",\"Position_x\"]\n",
    "spa_trans3[query1_columns].drop_duplicates()"
   ]
  },
  {
   "cell_type": "code",
   "execution_count": 91,
   "id": "6a375eb0",
   "metadata": {},
   "outputs": [
    {
     "data": {
      "text/html": [
       "<div>\n",
       "<style scoped>\n",
       "    .dataframe tbody tr th:only-of-type {\n",
       "        vertical-align: middle;\n",
       "    }\n",
       "\n",
       "    .dataframe tbody tr th {\n",
       "        vertical-align: top;\n",
       "    }\n",
       "\n",
       "    .dataframe thead th {\n",
       "        text-align: right;\n",
       "    }\n",
       "</style>\n",
       "<table border=\"1\" class=\"dataframe\">\n",
       "  <thead>\n",
       "    <tr style=\"text-align: right;\">\n",
       "      <th></th>\n",
       "      <th>LeaderID</th>\n",
       "      <th>CareerStartDate_x</th>\n",
       "      <th>PrimaryInstitution_x</th>\n",
       "      <th>OrgName_x</th>\n",
       "      <th>Position_x</th>\n",
       "      <th>CareerStartDate_y</th>\n",
       "      <th>PrimaryInstitution_y</th>\n",
       "      <th>OrgName_y</th>\n",
       "      <th>Position_y</th>\n",
       "    </tr>\n",
       "  </thead>\n",
       "  <tbody>\n",
       "  </tbody>\n",
       "</table>\n",
       "</div>"
      ],
      "text/plain": [
       "Empty DataFrame\n",
       "Columns: [LeaderID, CareerStartDate_x, PrimaryInstitution_x, OrgName_x, Position_x, CareerStartDate_y, PrimaryInstitution_y, OrgName_y, Position_y]\n",
       "Index: []"
      ]
     },
     "execution_count": 91,
     "metadata": {},
     "output_type": "execute_result"
    }
   ],
   "source": [
    "spa_trans3[spa_trans3.Position_x.isin([\"후보\",\"후보의원\"])]"
   ]
  },
  {
   "cell_type": "code",
   "execution_count": null,
   "id": "8483eb36",
   "metadata": {},
   "outputs": [],
   "source": []
  }
 ],
 "metadata": {
  "kernelspec": {
   "display_name": "Python 3 (ipykernel)",
   "language": "python",
   "name": "python3"
  },
  "language_info": {
   "codemirror_mode": {
    "name": "ipython",
    "version": 3
   },
   "file_extension": ".py",
   "mimetype": "text/x-python",
   "name": "python",
   "nbconvert_exporter": "python",
   "pygments_lexer": "ipython3",
   "version": "3.11.5"
  }
 },
 "nbformat": 4,
 "nbformat_minor": 5
}
