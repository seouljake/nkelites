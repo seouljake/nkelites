{
 "cells": [
  {
   "cell_type": "code",
   "execution_count": 107,
   "id": "74698cf3",
   "metadata": {},
   "outputs": [],
   "source": [
    "import pandas as pd\n",
    "import numpy as np\n",
    "from datetime import date\n",
    "from statistics import mean, mode\n",
    "from pandas.api.types import CategoricalDtype"
   ]
  },
  {
   "cell_type": "code",
   "execution_count": 108,
   "id": "75aa1647",
   "metadata": {},
   "outputs": [
    {
     "name": "stdout",
     "output_type": "stream",
     "text": [
      "2023-12-17\n"
     ]
    }
   ],
   "source": [
    "today = date.today()\n",
    "print(today)"
   ]
  },
  {
   "cell_type": "markdown",
   "id": "aaf25c71",
   "metadata": {},
   "source": [
    "# Tables"
   ]
  },
  {
   "cell_type": "code",
   "execution_count": 109,
   "id": "f2c9c339",
   "metadata": {},
   "outputs": [],
   "source": [
    "path_tables = \"C:/Users/seoul/Dropbox/00 technical/github/nkelites/data/combined data/combined data - 2 tables/\""
   ]
  },
  {
   "cell_type": "code",
   "execution_count": 110,
   "id": "200fa7f5",
   "metadata": {},
   "outputs": [],
   "source": [
    "# tables\n",
    "filename_careerorglink = \"careerorglink.xlsx\"\n",
    "filename_leadercareerlink = \"leadercareerlink.xlsx\"\n",
    "filename_orgtree = \"orgtree.xlsx\"\n",
    "filename_elected = \"positions_elected.xlsx\""
   ]
  },
  {
   "cell_type": "code",
   "execution_count": 111,
   "id": "b7d9b165",
   "metadata": {
    "scrolled": true
   },
   "outputs": [
    {
     "data": {
      "text/plain": [
       "(9002, 12)"
      ]
     },
     "execution_count": 111,
     "metadata": {},
     "output_type": "execute_result"
    }
   ],
   "source": [
    "# career-org link\n",
    "col = pd.read_excel(path_tables + filename_careerorglink,dtype=\"str\")\n",
    "col.shape"
   ]
  },
  {
   "cell_type": "code",
   "execution_count": 112,
   "id": "0bd17a8f",
   "metadata": {},
   "outputs": [
    {
     "data": {
      "text/plain": [
       "Index(['CareerString', 'CareerDateString_2022', 'IsJob', 'MultipleSubstrings',\n",
       "       'CareerStartYear', 'CareerStartMonth', 'CareerSubstring',\n",
       "       'InstitutionType', 'PrimaryInstitution', 'OrgName', 'Position',\n",
       "       'Notes'],\n",
       "      dtype='object')"
      ]
     },
     "execution_count": 112,
     "metadata": {},
     "output_type": "execute_result"
    }
   ],
   "source": [
    "col.columns"
   ]
  },
  {
   "cell_type": "code",
   "execution_count": 113,
   "id": "4aa22e14",
   "metadata": {},
   "outputs": [
    {
     "data": {
      "text/plain": [
       "(12617, 3)"
      ]
     },
     "execution_count": 113,
     "metadata": {},
     "output_type": "execute_result"
    }
   ],
   "source": [
    "# leader-career link\n",
    "lcl = pd.read_excel(path_tables + filename_leadercareerlink,dtype=\"str\")\n",
    "lcl.shape"
   ]
  },
  {
   "cell_type": "code",
   "execution_count": 8,
   "id": "ac0f5205",
   "metadata": {},
   "outputs": [
    {
     "data": {
      "text/plain": [
       "Index(['LeaderID', 'CareerString', 'CareerDateString_2022'], dtype='object')"
      ]
     },
     "execution_count": 8,
     "metadata": {},
     "output_type": "execute_result"
    }
   ],
   "source": [
    "lcl.columns"
   ]
  },
  {
   "cell_type": "code",
   "execution_count": 9,
   "id": "44ba37bd",
   "metadata": {},
   "outputs": [
    {
     "data": {
      "text/plain": [
       "(2368, 20)"
      ]
     },
     "execution_count": 9,
     "metadata": {},
     "output_type": "execute_result"
    }
   ],
   "source": [
    "# orgtree\n",
    "org = pd.read_excel(path_tables + filename_orgtree,dtype=\"str\")\n",
    "org.shape"
   ]
  },
  {
   "cell_type": "code",
   "execution_count": 10,
   "id": "05b6e3e8",
   "metadata": {},
   "outputs": [
    {
     "data": {
      "text/plain": [
       "Index(['InstitutionType', 'OrgType', 'PrimaryInstitution', 'OrgName',\n",
       "       'PI_Index', 'OrgRank', 'P1', 'P2', 'P3', 'Alias_OrgName',\n",
       "       'LinkToNext_PI', 'LinkToNext_Org', 'LinkToNext_Year', 'Notes',\n",
       "       'L1_Index', 'L2_Index', 'L3_Index', 'L4_Index', 'L5_Index', 'Local'],\n",
       "      dtype='object')"
      ]
     },
     "execution_count": 10,
     "metadata": {},
     "output_type": "execute_result"
    }
   ],
   "source": [
    "org.columns"
   ]
  },
  {
   "cell_type": "code",
   "execution_count": 11,
   "id": "b93b05ba",
   "metadata": {},
   "outputs": [],
   "source": [
    "# elected = pd.read_excel(path_tables + filename_elected,dtype=\"str\")\n",
    "# elected.shape"
   ]
  },
  {
   "cell_type": "code",
   "execution_count": 12,
   "id": "011dfaa4",
   "metadata": {},
   "outputs": [],
   "source": [
    "# elected.columns"
   ]
  },
  {
   "cell_type": "markdown",
   "id": "52841326",
   "metadata": {},
   "source": [
    "# Queries"
   ]
  },
  {
   "cell_type": "code",
   "execution_count": 13,
   "id": "df5b44ce",
   "metadata": {},
   "outputs": [],
   "source": [
    "path_queries = \"C:/Users/seoul/Dropbox/00 technical/github/nkelites/data/combined data/combined data - 3 queries/\""
   ]
  },
  {
   "cell_type": "code",
   "execution_count": 14,
   "id": "4fa255b3",
   "metadata": {},
   "outputs": [],
   "source": [
    "filename_leaderjob_all = \"leaderjob_electUnelect_inOutgov.xlsx\"\n",
    "filename_leaderjob_no_spa = \"leaderjob_no_spa.xlsx\"\n",
    "filename_leaderjobtransition_no_spa = \"leaderjobtransition_no_spa.xlsx\""
   ]
  },
  {
   "cell_type": "code",
   "execution_count": 15,
   "id": "45955b23",
   "metadata": {},
   "outputs": [
    {
     "data": {
      "text/plain": [
       "(8594, 14)"
      ]
     },
     "execution_count": 15,
     "metadata": {},
     "output_type": "execute_result"
    }
   ],
   "source": [
    "# leader jobs\n",
    "ljobs_all = pd.read_excel(path_queries + filename_leaderjob_all,dtype=\"str\")\n",
    "ljobs_all.shape"
   ]
  },
  {
   "cell_type": "code",
   "execution_count": 16,
   "id": "96354cc9",
   "metadata": {},
   "outputs": [],
   "source": [
    "# ljobs = pd.read_excel(path_queries + filename_leaderjob_no_spa,dtype=\"str\")\n",
    "# ljobs.shape"
   ]
  },
  {
   "cell_type": "code",
   "execution_count": 17,
   "id": "31cb5cd4",
   "metadata": {},
   "outputs": [],
   "source": [
    "# trans = pd.read_excel(path_queries + filename_leaderjobtransition_no_spa,dtype=\"str\")\n",
    "# trans.shape"
   ]
  },
  {
   "cell_type": "markdown",
   "id": "224feffb",
   "metadata": {},
   "source": [
    "#### change datatypes"
   ]
  },
  {
   "cell_type": "code",
   "execution_count": 18,
   "id": "27470b4e",
   "metadata": {},
   "outputs": [],
   "source": [
    "# ljobs = ljobs.astype({\"CareerStartYear\":\"int\",\"CareerStartDate\":\"int\"})\n",
    "# ljobs.dtypes"
   ]
  },
  {
   "cell_type": "code",
   "execution_count": 19,
   "id": "b22117ac",
   "metadata": {},
   "outputs": [],
   "source": [
    "# trans = trans.astype({\"OrgAdvance\":\"int\",\"PositionAdvance\":\"int\",\n",
    "#                      \"CareerStartYear_1\":\"int\",\"CareerStartYear_2\":\"int\",\n",
    "#                      \"CareerStartDate_1\":\"int\",\"CareerStartDate_2\":\"int\"})\n",
    "# trans.dtypes"
   ]
  },
  {
   "cell_type": "markdown",
   "id": "7d59db9d",
   "metadata": {},
   "source": [
    "# Functions"
   ]
  },
  {
   "cell_type": "code",
   "execution_count": 20,
   "id": "ba5de424",
   "metadata": {},
   "outputs": [],
   "source": [
    "def merge_results(m):\n",
    "    \n",
    "    print(\"\\nMerge Results...\")\n",
    "    print(\"\")\n",
    "    print(\"\\tshape     :\",m.shape)\n",
    "    print(\"\\tleft_only :\",m[m[\"_merge\"]==\"left_only\"].shape)\n",
    "    print(\"\\tboth      :\",m[m[\"_merge\"]==\"both\"].shape)\n",
    "    print(\"\\tright_only:\",m[m[\"_merge\"]==\"right_only\"].shape)"
   ]
  },
  {
   "cell_type": "code",
   "execution_count": 21,
   "id": "d3411709",
   "metadata": {},
   "outputs": [],
   "source": [
    "# using this on (PI,OrgName) will ensure unique & non-null keys\n",
    "# using this on a larger df will ensure unique rows and non-null keys, but not unique keys\n",
    "\n",
    "def unique_non_null_rows(olddf):\n",
    "    \n",
    "    df = olddf.copy()\n",
    "    \n",
    "    \n",
    "    ### drop duplicates\n",
    "    df = df.drop_duplicates(keep=\"first\",ignore_index=True)\n",
    "\n",
    "    ### drop null rows\n",
    "    df.dropna(how=\"all\",axis=0,inplace=True)\n",
    "    \n",
    "    # drop rows with null PI\n",
    "    df = df[~(df[\"PrimaryInstitution\"].isna())]\n",
    "        \n",
    "    ### drop rows where PI contains stop words\n",
    "    stop_words_lower = [\"uncertain\",\"current\",\"deprecated\",\"please_revise\"]\n",
    "    df = df[ ~ df[\"PrimaryInstitution\"].str.lower().isin(stop_words_lower)]\n",
    "            \n",
    "\n",
    "    print(\"\\nUnique Non-null Rows...\")\n",
    "    print(\"\")\n",
    "    print(\"\\tNon-unique rows:\",olddf.shape)\n",
    "    print(\"\\tUnique rows    :\",df.shape)\n",
    "\n",
    "    ### sort\n",
    "    df = df.sort_values([\"PrimaryInstitution\",\"OrgName\"])\n",
    "    \n",
    "    return df"
   ]
  },
  {
   "cell_type": "code",
   "execution_count": 22,
   "id": "945f13c9",
   "metadata": {},
   "outputs": [],
   "source": [
    "def create_time_series(series,group_var,count_var):\n",
    "    \n",
    "    yeardist = series.groupby(group_var,as_index=False).count().sort_values(group_var)\n",
    "    \n",
    "    max_year = max(series[group_var])\n",
    "    x = pd.DataFrame({\"year\":pd.Series(range(min(yeardist[group_var].astype(int)),max(yeardist[group_var].astype(int))+1))})\n",
    "    \n",
    "    yeardist[group_var] = yeardist[group_var].astype(int,errors=\"ignore\")\n",
    "    \n",
    "    ts = x.merge(yeardist,left_on=\"year\",right_on=group_var,how=\"left\")\n",
    "    ts.loc[ts[count_var].isna(),count_var]=0\n",
    "    # merge_results(ts)\n",
    "    \n",
    "    ts_columns = [\"year\",count_var]\n",
    "    ts = ts[ts_columns]\n",
    "    \n",
    "    return ts"
   ]
  },
  {
   "cell_type": "markdown",
   "id": "16c49e74",
   "metadata": {},
   "source": [
    "# Analysis - Research Note"
   ]
  },
  {
   "cell_type": "code",
   "execution_count": 23,
   "id": "39648498",
   "metadata": {},
   "outputs": [],
   "source": [
    "path_analysis = \"C:/Users/seoul/Dropbox/00 technical/github/nkelites/analysis/\""
   ]
  },
  {
   "cell_type": "code",
   "execution_count": 24,
   "id": "72a5cd0f",
   "metadata": {},
   "outputs": [],
   "source": [
    "# analysis sub-paths\n",
    "study0_path = \"2023.10.04 Study 0 - research note/\"\n",
    "study1_path = \"2023.10.04 Study 1 - political capital/\"\n",
    "study2_path = \"2023.10.04 Study 2 - commitment vs control/\"\n",
    "study3_path = \"2023.10.04 Study 3 - reds vs experts/\""
   ]
  },
  {
   "cell_type": "markdown",
   "id": "f84c150e",
   "metadata": {},
   "source": [
    "# Statistics - elites, orgs and jobs"
   ]
  },
  {
   "cell_type": "markdown",
   "id": "89ea6036",
   "metadata": {},
   "source": [
    "# Elites stats"
   ]
  },
  {
   "cell_type": "code",
   "execution_count": 25,
   "id": "fe8a69de",
   "metadata": {},
   "outputs": [],
   "source": [
    "# include all jobs: elected/not-elected, SPA/not-SPA, local/central"
   ]
  },
  {
   "cell_type": "code",
   "execution_count": 26,
   "id": "26322931",
   "metadata": {},
   "outputs": [
    {
     "data": {
      "text/plain": [
       "(12617, 3)"
      ]
     },
     "execution_count": 26,
     "metadata": {},
     "output_type": "execute_result"
    }
   ],
   "source": [
    "lcl.shape"
   ]
  },
  {
   "cell_type": "code",
   "execution_count": 27,
   "id": "6a54ed81",
   "metadata": {},
   "outputs": [
    {
     "data": {
      "text/plain": [
       "(637,)"
      ]
     },
     "execution_count": 27,
     "metadata": {},
     "output_type": "execute_result"
    }
   ],
   "source": [
    "# total elites\n",
    "lcl.LeaderID.unique().shape"
   ]
  },
  {
   "cell_type": "code",
   "execution_count": 28,
   "id": "44d83bbc",
   "metadata": {},
   "outputs": [
    {
     "data": {
      "text/plain": [
       "Index(['LeaderID', 'CareerString', 'CareerDateString_2022', 'CareerStartYear',\n",
       "       'CareerStartMonth', 'CareerStartDate', 'CareerSubstring',\n",
       "       'InstitutionType', 'PrimaryInstitution', 'OrgName', 'Position',\n",
       "       'IsElected', 'OrgRank', 'PositionRank'],\n",
       "      dtype='object')"
      ]
     },
     "execution_count": 28,
     "metadata": {},
     "output_type": "execute_result"
    }
   ],
   "source": [
    "ljobs_all.columns"
   ]
  },
  {
   "cell_type": "code",
   "execution_count": 29,
   "id": "d9b4c186",
   "metadata": {},
   "outputs": [
    {
     "data": {
      "text/plain": [
       "(607,)"
      ]
     },
     "execution_count": 29,
     "metadata": {},
     "output_type": "execute_result"
    }
   ],
   "source": [
    "# total elites with jobs\n",
    "ljobs_all.LeaderID.unique().shape"
   ]
  },
  {
   "cell_type": "code",
   "execution_count": null,
   "id": "f94ad604",
   "metadata": {},
   "outputs": [],
   "source": []
  },
  {
   "cell_type": "code",
   "execution_count": null,
   "id": "78c231a1",
   "metadata": {},
   "outputs": [],
   "source": []
  },
  {
   "cell_type": "markdown",
   "id": "d161ecf5",
   "metadata": {},
   "source": [
    "## Org stats"
   ]
  },
  {
   "cell_type": "code",
   "execution_count": 30,
   "id": "791e5697",
   "metadata": {},
   "outputs": [
    {
     "data": {
      "text/plain": [
       "(2368, 20)"
      ]
     },
     "execution_count": 30,
     "metadata": {},
     "output_type": "execute_result"
    }
   ],
   "source": [
    "org.shape"
   ]
  },
  {
   "cell_type": "code",
   "execution_count": 31,
   "id": "cdd852e8",
   "metadata": {},
   "outputs": [
    {
     "data": {
      "text/plain": [
       "Index(['InstitutionType', 'OrgType', 'PrimaryInstitution', 'OrgName',\n",
       "       'PI_Index', 'OrgRank', 'P1', 'P2', 'P3', 'Alias_OrgName',\n",
       "       'LinkToNext_PI', 'LinkToNext_Org', 'LinkToNext_Year', 'Notes',\n",
       "       'L1_Index', 'L2_Index', 'L3_Index', 'L4_Index', 'L5_Index', 'Local'],\n",
       "      dtype='object')"
      ]
     },
     "execution_count": 31,
     "metadata": {},
     "output_type": "execute_result"
    }
   ],
   "source": [
    "org.columns"
   ]
  },
  {
   "cell_type": "code",
   "execution_count": 32,
   "id": "fe252e49",
   "metadata": {},
   "outputs": [],
   "source": [
    "not_social_orgs = [\"Party\",\"Military\",\"Government\"]"
   ]
  },
  {
   "cell_type": "code",
   "execution_count": 33,
   "id": "52187d81",
   "metadata": {},
   "outputs": [],
   "source": [
    "org2 = org"
   ]
  },
  {
   "cell_type": "code",
   "execution_count": 34,
   "id": "56204c24",
   "metadata": {},
   "outputs": [
    {
     "data": {
      "text/plain": [
       "(2368, 20)"
      ]
     },
     "execution_count": 34,
     "metadata": {},
     "output_type": "execute_result"
    }
   ],
   "source": [
    "org2.shape"
   ]
  },
  {
   "cell_type": "code",
   "execution_count": 35,
   "id": "962f0b65",
   "metadata": {},
   "outputs": [],
   "source": [
    "org2[\"InstitutionCategory\"] = org2[\"InstitutionType\"].copy()"
   ]
  },
  {
   "cell_type": "code",
   "execution_count": 36,
   "id": "c3bb46f9",
   "metadata": {},
   "outputs": [
    {
     "data": {
      "text/plain": [
       "(2329, 21)"
      ]
     },
     "execution_count": 36,
     "metadata": {},
     "output_type": "execute_result"
    }
   ],
   "source": [
    "org2 = org2[~(org2[\"InstitutionType\"]==\"UNCERTAIN\")]\n",
    "org2.shape"
   ]
  },
  {
   "cell_type": "code",
   "execution_count": 37,
   "id": "130de697",
   "metadata": {},
   "outputs": [],
   "source": [
    "# rename levels of InstitutionCategory\n",
    "org2.loc[org2[\"InstitutionCategory\"]==\"노동당\",\"InstitutionCategory\"]=\"Party\"\n",
    "org2.loc[org2[\"InstitutionCategory\"]==\"정권기관\",\"InstitutionCategory\"]=\"Government\"\n",
    "org2.loc[org2[\"InstitutionCategory\"]==\"인민군\",\"InstitutionCategory\"]=\"Military\"\n",
    "org2.loc[~(org2[\"InstitutionCategory\"].isin(not_social_orgs)),\"InstitutionCategory\"]=\"Social\""
   ]
  },
  {
   "cell_type": "code",
   "execution_count": 38,
   "id": "817adc4d",
   "metadata": {},
   "outputs": [
    {
     "data": {
      "text/plain": [
       "array(['Party', 'Social', 'Government', 'Military'], dtype=object)"
      ]
     },
     "execution_count": 38,
     "metadata": {},
     "output_type": "execute_result"
    }
   ],
   "source": [
    "org2.InstitutionCategory.unique()"
   ]
  },
  {
   "cell_type": "code",
   "execution_count": 39,
   "id": "cb46124a",
   "metadata": {},
   "outputs": [],
   "source": [
    "# rename levels of InstitutionCategory\n",
    "org2.loc[org2[\"Local\"]==\"True\",\"Local\"]=\"Local\"\n",
    "org2.loc[org2[\"Local\"]==\"False\",\"Local\"]=\"Central\""
   ]
  },
  {
   "cell_type": "code",
   "execution_count": 40,
   "id": "57d259d3",
   "metadata": {},
   "outputs": [
    {
     "data": {
      "text/plain": [
       "array(['Central', 'Local'], dtype=object)"
      ]
     },
     "execution_count": 40,
     "metadata": {},
     "output_type": "execute_result"
    }
   ],
   "source": [
    "org2.Local.unique()"
   ]
  },
  {
   "cell_type": "markdown",
   "id": "2def3479",
   "metadata": {},
   "source": [
    "### org stat1 - Number of Organizations by Institution"
   ]
  },
  {
   "cell_type": "code",
   "execution_count": 41,
   "id": "b3bbcb81",
   "metadata": {},
   "outputs": [],
   "source": [
    "stat1_columns = [\"InstitutionCategory\",\"OrgName\"]\n",
    "stat1_column_labels = [\"Institution\",\"Number of Organizations\"]"
   ]
  },
  {
   "cell_type": "code",
   "execution_count": 42,
   "id": "fb630da9",
   "metadata": {},
   "outputs": [
    {
     "data": {
      "text/html": [
       "<div>\n",
       "<style scoped>\n",
       "    .dataframe tbody tr th:only-of-type {\n",
       "        vertical-align: middle;\n",
       "    }\n",
       "\n",
       "    .dataframe tbody tr th {\n",
       "        vertical-align: top;\n",
       "    }\n",
       "\n",
       "    .dataframe thead th {\n",
       "        text-align: right;\n",
       "    }\n",
       "</style>\n",
       "<table border=\"1\" class=\"dataframe\">\n",
       "  <thead>\n",
       "    <tr style=\"text-align: right;\">\n",
       "      <th></th>\n",
       "      <th>Institution</th>\n",
       "      <th>Number of Organizations</th>\n",
       "    </tr>\n",
       "  </thead>\n",
       "  <tbody>\n",
       "    <tr>\n",
       "      <th>0</th>\n",
       "      <td>Government</td>\n",
       "      <td>1301</td>\n",
       "    </tr>\n",
       "    <tr>\n",
       "      <th>1</th>\n",
       "      <td>Military</td>\n",
       "      <td>136</td>\n",
       "    </tr>\n",
       "    <tr>\n",
       "      <th>2</th>\n",
       "      <td>Party</td>\n",
       "      <td>120</td>\n",
       "    </tr>\n",
       "    <tr>\n",
       "      <th>3</th>\n",
       "      <td>Social</td>\n",
       "      <td>201</td>\n",
       "    </tr>\n",
       "  </tbody>\n",
       "</table>\n",
       "</div>"
      ],
      "text/plain": [
       "  Institution  Number of Organizations\n",
       "0  Government                     1301\n",
       "1    Military                      136\n",
       "2       Party                      120\n",
       "3      Social                      201"
      ]
     },
     "execution_count": 42,
     "metadata": {},
     "output_type": "execute_result"
    }
   ],
   "source": [
    "stat1 = org2[stat1_columns].groupby(\"InstitutionCategory\",as_index=False).count()\n",
    "stat1.columns = stat1_column_labels\n",
    "stat1"
   ]
  },
  {
   "cell_type": "code",
   "execution_count": 43,
   "id": "eea326cd",
   "metadata": {},
   "outputs": [],
   "source": [
    "# export to excel\n"
   ]
  },
  {
   "cell_type": "markdown",
   "id": "8d53e82e",
   "metadata": {},
   "source": [
    "### org stat2 - Number of Organizations by Institution and Rank"
   ]
  },
  {
   "cell_type": "code",
   "execution_count": 44,
   "id": "8c1e110c",
   "metadata": {},
   "outputs": [],
   "source": [
    "stat2_columns = [\"InstitutionCategory\",\"OrgRank\",\"OrgName\"]\n",
    "stat2_groupby_columns = [\"InstitutionCategory\",\"OrgRank\"]\n",
    "stat2_column_labels = [\"Institution\",\"Rank\",\"Number of Organizations\"]"
   ]
  },
  {
   "cell_type": "code",
   "execution_count": 45,
   "id": "5b4d5158",
   "metadata": {},
   "outputs": [
    {
     "data": {
      "text/html": [
       "<div>\n",
       "<style scoped>\n",
       "    .dataframe tbody tr th:only-of-type {\n",
       "        vertical-align: middle;\n",
       "    }\n",
       "\n",
       "    .dataframe tbody tr th {\n",
       "        vertical-align: top;\n",
       "    }\n",
       "\n",
       "    .dataframe thead th {\n",
       "        text-align: right;\n",
       "    }\n",
       "</style>\n",
       "<table border=\"1\" class=\"dataframe\">\n",
       "  <thead>\n",
       "    <tr style=\"text-align: right;\">\n",
       "      <th></th>\n",
       "      <th>Institution</th>\n",
       "      <th>Rank</th>\n",
       "      <th>Number of Organizations</th>\n",
       "    </tr>\n",
       "  </thead>\n",
       "  <tbody>\n",
       "    <tr>\n",
       "      <th>0</th>\n",
       "      <td>Government</td>\n",
       "      <td>0</td>\n",
       "      <td>45</td>\n",
       "    </tr>\n",
       "    <tr>\n",
       "      <th>1</th>\n",
       "      <td>Government</td>\n",
       "      <td>1</td>\n",
       "      <td>243</td>\n",
       "    </tr>\n",
       "    <tr>\n",
       "      <th>2</th>\n",
       "      <td>Government</td>\n",
       "      <td>2</td>\n",
       "      <td>856</td>\n",
       "    </tr>\n",
       "    <tr>\n",
       "      <th>3</th>\n",
       "      <td>Government</td>\n",
       "      <td>3</td>\n",
       "      <td>151</td>\n",
       "    </tr>\n",
       "    <tr>\n",
       "      <th>4</th>\n",
       "      <td>Government</td>\n",
       "      <td>4</td>\n",
       "      <td>6</td>\n",
       "    </tr>\n",
       "    <tr>\n",
       "      <th>5</th>\n",
       "      <td>Military</td>\n",
       "      <td>0</td>\n",
       "      <td>19</td>\n",
       "    </tr>\n",
       "    <tr>\n",
       "      <th>6</th>\n",
       "      <td>Military</td>\n",
       "      <td>1</td>\n",
       "      <td>70</td>\n",
       "    </tr>\n",
       "    <tr>\n",
       "      <th>7</th>\n",
       "      <td>Military</td>\n",
       "      <td>2</td>\n",
       "      <td>8</td>\n",
       "    </tr>\n",
       "    <tr>\n",
       "      <th>8</th>\n",
       "      <td>Military</td>\n",
       "      <td>3</td>\n",
       "      <td>24</td>\n",
       "    </tr>\n",
       "    <tr>\n",
       "      <th>9</th>\n",
       "      <td>Military</td>\n",
       "      <td>4</td>\n",
       "      <td>15</td>\n",
       "    </tr>\n",
       "    <tr>\n",
       "      <th>10</th>\n",
       "      <td>Party</td>\n",
       "      <td>0</td>\n",
       "      <td>14</td>\n",
       "    </tr>\n",
       "    <tr>\n",
       "      <th>11</th>\n",
       "      <td>Party</td>\n",
       "      <td>1</td>\n",
       "      <td>6</td>\n",
       "    </tr>\n",
       "    <tr>\n",
       "      <th>12</th>\n",
       "      <td>Party</td>\n",
       "      <td>2</td>\n",
       "      <td>65</td>\n",
       "    </tr>\n",
       "    <tr>\n",
       "      <th>13</th>\n",
       "      <td>Party</td>\n",
       "      <td>3</td>\n",
       "      <td>33</td>\n",
       "    </tr>\n",
       "    <tr>\n",
       "      <th>14</th>\n",
       "      <td>Party</td>\n",
       "      <td>4</td>\n",
       "      <td>2</td>\n",
       "    </tr>\n",
       "    <tr>\n",
       "      <th>15</th>\n",
       "      <td>Social</td>\n",
       "      <td>0</td>\n",
       "      <td>9</td>\n",
       "    </tr>\n",
       "    <tr>\n",
       "      <th>16</th>\n",
       "      <td>Social</td>\n",
       "      <td>1</td>\n",
       "      <td>152</td>\n",
       "    </tr>\n",
       "    <tr>\n",
       "      <th>17</th>\n",
       "      <td>Social</td>\n",
       "      <td>2</td>\n",
       "      <td>40</td>\n",
       "    </tr>\n",
       "  </tbody>\n",
       "</table>\n",
       "</div>"
      ],
      "text/plain": [
       "   Institution Rank  Number of Organizations\n",
       "0   Government    0                       45\n",
       "1   Government    1                      243\n",
       "2   Government    2                      856\n",
       "3   Government    3                      151\n",
       "4   Government    4                        6\n",
       "5     Military    0                       19\n",
       "6     Military    1                       70\n",
       "7     Military    2                        8\n",
       "8     Military    3                       24\n",
       "9     Military    4                       15\n",
       "10       Party    0                       14\n",
       "11       Party    1                        6\n",
       "12       Party    2                       65\n",
       "13       Party    3                       33\n",
       "14       Party    4                        2\n",
       "15      Social    0                        9\n",
       "16      Social    1                      152\n",
       "17      Social    2                       40"
      ]
     },
     "execution_count": 45,
     "metadata": {},
     "output_type": "execute_result"
    }
   ],
   "source": [
    "stat2 = org2[stat2_columns].groupby(stat2_groupby_columns,as_index=False).count()\n",
    "stat2.columns = stat2_column_labels\n",
    "stat2"
   ]
  },
  {
   "cell_type": "code",
   "execution_count": 46,
   "id": "063159f4",
   "metadata": {},
   "outputs": [],
   "source": [
    "# export to excel\n"
   ]
  },
  {
   "cell_type": "markdown",
   "id": "c13ba590",
   "metadata": {},
   "source": [
    "### org stat3 - Number of Organizations by Institution and Rank"
   ]
  },
  {
   "cell_type": "code",
   "execution_count": 47,
   "id": "2f4deaaf",
   "metadata": {},
   "outputs": [],
   "source": [
    "stat3_columns = [\"InstitutionCategory\",\"Local\",\"OrgName\"]\n",
    "stat3_groupby_columns = [\"InstitutionCategory\",\"Local\"]\n",
    "stat3_column_labels = [\"Institution\",\"Local or Central\",\"Number of Organizations\"]"
   ]
  },
  {
   "cell_type": "code",
   "execution_count": 48,
   "id": "7017c3d7",
   "metadata": {},
   "outputs": [
    {
     "data": {
      "text/html": [
       "<div>\n",
       "<style scoped>\n",
       "    .dataframe tbody tr th:only-of-type {\n",
       "        vertical-align: middle;\n",
       "    }\n",
       "\n",
       "    .dataframe tbody tr th {\n",
       "        vertical-align: top;\n",
       "    }\n",
       "\n",
       "    .dataframe thead th {\n",
       "        text-align: right;\n",
       "    }\n",
       "</style>\n",
       "<table border=\"1\" class=\"dataframe\">\n",
       "  <thead>\n",
       "    <tr style=\"text-align: right;\">\n",
       "      <th></th>\n",
       "      <th>Institution</th>\n",
       "      <th>Local or Central</th>\n",
       "      <th>Number of Organizations</th>\n",
       "    </tr>\n",
       "  </thead>\n",
       "  <tbody>\n",
       "    <tr>\n",
       "      <th>0</th>\n",
       "      <td>Government</td>\n",
       "      <td>Central</td>\n",
       "      <td>1221</td>\n",
       "    </tr>\n",
       "    <tr>\n",
       "      <th>1</th>\n",
       "      <td>Government</td>\n",
       "      <td>Local</td>\n",
       "      <td>80</td>\n",
       "    </tr>\n",
       "    <tr>\n",
       "      <th>2</th>\n",
       "      <td>Military</td>\n",
       "      <td>Central</td>\n",
       "      <td>111</td>\n",
       "    </tr>\n",
       "    <tr>\n",
       "      <th>3</th>\n",
       "      <td>Military</td>\n",
       "      <td>Local</td>\n",
       "      <td>25</td>\n",
       "    </tr>\n",
       "    <tr>\n",
       "      <th>4</th>\n",
       "      <td>Party</td>\n",
       "      <td>Central</td>\n",
       "      <td>86</td>\n",
       "    </tr>\n",
       "    <tr>\n",
       "      <th>5</th>\n",
       "      <td>Party</td>\n",
       "      <td>Local</td>\n",
       "      <td>34</td>\n",
       "    </tr>\n",
       "    <tr>\n",
       "      <th>6</th>\n",
       "      <td>Social</td>\n",
       "      <td>Central</td>\n",
       "      <td>175</td>\n",
       "    </tr>\n",
       "    <tr>\n",
       "      <th>7</th>\n",
       "      <td>Social</td>\n",
       "      <td>Local</td>\n",
       "      <td>26</td>\n",
       "    </tr>\n",
       "  </tbody>\n",
       "</table>\n",
       "</div>"
      ],
      "text/plain": [
       "  Institution Local or Central  Number of Organizations\n",
       "0  Government          Central                     1221\n",
       "1  Government            Local                       80\n",
       "2    Military          Central                      111\n",
       "3    Military            Local                       25\n",
       "4       Party          Central                       86\n",
       "5       Party            Local                       34\n",
       "6      Social          Central                      175\n",
       "7      Social            Local                       26"
      ]
     },
     "execution_count": 48,
     "metadata": {},
     "output_type": "execute_result"
    }
   ],
   "source": [
    "stat3 = org2[stat3_columns].groupby(stat3_groupby_columns,as_index=False).count()\n",
    "stat3.columns = stat3_column_labels\n",
    "stat3"
   ]
  },
  {
   "cell_type": "code",
   "execution_count": null,
   "id": "00c21598",
   "metadata": {},
   "outputs": [],
   "source": []
  },
  {
   "cell_type": "code",
   "execution_count": null,
   "id": "d1a8f684",
   "metadata": {},
   "outputs": [],
   "source": []
  },
  {
   "cell_type": "markdown",
   "id": "b31ca113",
   "metadata": {},
   "source": [
    "# Jobs stats"
   ]
  },
  {
   "cell_type": "code",
   "execution_count": 49,
   "id": "4c34339c",
   "metadata": {},
   "outputs": [
    {
     "data": {
      "text/plain": [
       "(8594, 14)"
      ]
     },
     "execution_count": 49,
     "metadata": {},
     "output_type": "execute_result"
    }
   ],
   "source": [
    "ljobs_all.shape"
   ]
  },
  {
   "cell_type": "code",
   "execution_count": 50,
   "id": "9b7025d8",
   "metadata": {},
   "outputs": [
    {
     "data": {
      "text/plain": [
       "Index(['LeaderID', 'CareerString', 'CareerDateString_2022', 'CareerStartYear',\n",
       "       'CareerStartMonth', 'CareerStartDate', 'CareerSubstring',\n",
       "       'InstitutionType', 'PrimaryInstitution', 'OrgName', 'Position',\n",
       "       'IsElected', 'OrgRank', 'PositionRank'],\n",
       "      dtype='object')"
      ]
     },
     "execution_count": 50,
     "metadata": {},
     "output_type": "execute_result"
    }
   ],
   "source": [
    "ljobs_all.columns"
   ]
  },
  {
   "cell_type": "code",
   "execution_count": 51,
   "id": "f8b5315b",
   "metadata": {},
   "outputs": [],
   "source": [
    "jobs_columns = ['LeaderID','CareerStartYear','CareerStartDate', 'InstitutionType', 'PrimaryInstitution', 'OrgName', 'Position', 'IsElected', 'OrgRank', 'PositionRank']"
   ]
  },
  {
   "cell_type": "code",
   "execution_count": 52,
   "id": "f5379a56",
   "metadata": {},
   "outputs": [
    {
     "name": "stdout",
     "output_type": "stream",
     "text": [
      "\n",
      "Unique Non-null Rows...\n",
      "\n",
      "\tNon-unique rows: (8594, 10)\n",
      "\tUnique rows    : (6116, 10)\n"
     ]
    },
    {
     "data": {
      "text/plain": [
       "(6116, 10)"
      ]
     },
     "execution_count": 52,
     "metadata": {},
     "output_type": "execute_result"
    }
   ],
   "source": [
    "ljobs_test = unique_non_null_rows(ljobs_all[jobs_columns])\n",
    "ljobs_test.shape"
   ]
  },
  {
   "cell_type": "code",
   "execution_count": 53,
   "id": "fedceaa5",
   "metadata": {},
   "outputs": [
    {
     "name": "stdout",
     "output_type": "stream",
     "text": [
      "\n",
      "Unique Non-null Rows...\n",
      "\n",
      "\tNon-unique rows: (8594, 10)\n",
      "\tUnique rows    : (6116, 10)\n"
     ]
    },
    {
     "data": {
      "text/plain": [
       "(6116, 10)"
      ]
     },
     "execution_count": 53,
     "metadata": {},
     "output_type": "execute_result"
    }
   ],
   "source": [
    "jobs2 = unique_non_null_rows(ljobs_all[jobs_columns])\n",
    "jobs2.shape"
   ]
  },
  {
   "cell_type": "markdown",
   "id": "ef2b26d9",
   "metadata": {},
   "source": [
    "### job stats1 - Distribution of Number of Jobs in Elite Resumes"
   ]
  },
  {
   "cell_type": "code",
   "execution_count": 54,
   "id": "9ea5eab7",
   "metadata": {},
   "outputs": [],
   "source": [
    "jstat1_columns = [\"LeaderID\",\"Position\"]\n",
    "jstat1_groupby_columns = [\"LeaderID\"]"
   ]
  },
  {
   "cell_type": "code",
   "execution_count": 55,
   "id": "e4f5d0ac",
   "metadata": {},
   "outputs": [
    {
     "data": {
      "text/html": [
       "<div>\n",
       "<style scoped>\n",
       "    .dataframe tbody tr th:only-of-type {\n",
       "        vertical-align: middle;\n",
       "    }\n",
       "\n",
       "    .dataframe tbody tr th {\n",
       "        vertical-align: top;\n",
       "    }\n",
       "\n",
       "    .dataframe thead th {\n",
       "        text-align: right;\n",
       "    }\n",
       "</style>\n",
       "<table border=\"1\" class=\"dataframe\">\n",
       "  <thead>\n",
       "    <tr style=\"text-align: right;\">\n",
       "      <th></th>\n",
       "      <th>LeaderID</th>\n",
       "      <th>Position</th>\n",
       "    </tr>\n",
       "  </thead>\n",
       "  <tbody>\n",
       "    <tr>\n",
       "      <th>406</th>\n",
       "      <td>양형섭</td>\n",
       "      <td>58</td>\n",
       "    </tr>\n",
       "    <tr>\n",
       "      <th>328</th>\n",
       "      <td>박성철a</td>\n",
       "      <td>51</td>\n",
       "    </tr>\n",
       "    <tr>\n",
       "      <th>108</th>\n",
       "      <td>김영남</td>\n",
       "      <td>48</td>\n",
       "    </tr>\n",
       "    <tr>\n",
       "      <th>146</th>\n",
       "      <td>김일성</td>\n",
       "      <td>48</td>\n",
       "    </tr>\n",
       "    <tr>\n",
       "      <th>273</th>\n",
       "      <td>리종옥</td>\n",
       "      <td>47</td>\n",
       "    </tr>\n",
       "    <tr>\n",
       "      <th>...</th>\n",
       "      <td>...</td>\n",
       "      <td>...</td>\n",
       "    </tr>\n",
       "    <tr>\n",
       "      <th>571</th>\n",
       "      <td>포희성</td>\n",
       "      <td>1</td>\n",
       "    </tr>\n",
       "    <tr>\n",
       "      <th>279</th>\n",
       "      <td>리충길</td>\n",
       "      <td>1</td>\n",
       "    </tr>\n",
       "    <tr>\n",
       "      <th>69</th>\n",
       "      <td>김만길</td>\n",
       "      <td>1</td>\n",
       "    </tr>\n",
       "    <tr>\n",
       "      <th>329</th>\n",
       "      <td>박성철b</td>\n",
       "      <td>1</td>\n",
       "    </tr>\n",
       "    <tr>\n",
       "      <th>168</th>\n",
       "      <td>김진성</td>\n",
       "      <td>1</td>\n",
       "    </tr>\n",
       "  </tbody>\n",
       "</table>\n",
       "<p>607 rows × 2 columns</p>\n",
       "</div>"
      ],
      "text/plain": [
       "    LeaderID  Position\n",
       "406      양형섭        58\n",
       "328     박성철a        51\n",
       "108      김영남        48\n",
       "146      김일성        48\n",
       "273      리종옥        47\n",
       "..       ...       ...\n",
       "571      포희성         1\n",
       "279      리충길         1\n",
       "69       김만길         1\n",
       "329     박성철b         1\n",
       "168      김진성         1\n",
       "\n",
       "[607 rows x 2 columns]"
      ]
     },
     "execution_count": 55,
     "metadata": {},
     "output_type": "execute_result"
    }
   ],
   "source": [
    "jstat1 = jobs2[jstat1_columns].groupby(jstat1_groupby_columns,as_index=False).count()\n",
    "# jstat1.columns = stat3_column_labels\n",
    "jstat1.sort_values(\"Position\",ascending=False,inplace=True)\n",
    "jstat1"
   ]
  },
  {
   "cell_type": "markdown",
   "id": "7627d30f",
   "metadata": {},
   "source": [
    "### jobs stat2: Distribution of the number of jobs in each elite resume"
   ]
  },
  {
   "cell_type": "code",
   "execution_count": 56,
   "id": "2ae26c58",
   "metadata": {},
   "outputs": [],
   "source": [
    "# jstat2_columns = [\"Position\",\"Position\"]\n",
    "jstat2_groupby_columns = [\"Position\"]\n",
    "jstat2_column_labels = [\"Number of Jobs in Resume\",\"Number of Elites\"]"
   ]
  },
  {
   "cell_type": "code",
   "execution_count": 57,
   "id": "cf7f0226",
   "metadata": {},
   "outputs": [
    {
     "data": {
      "text/html": [
       "<div>\n",
       "<style scoped>\n",
       "    .dataframe tbody tr th:only-of-type {\n",
       "        vertical-align: middle;\n",
       "    }\n",
       "\n",
       "    .dataframe tbody tr th {\n",
       "        vertical-align: top;\n",
       "    }\n",
       "\n",
       "    .dataframe thead th {\n",
       "        text-align: right;\n",
       "    }\n",
       "</style>\n",
       "<table border=\"1\" class=\"dataframe\">\n",
       "  <thead>\n",
       "    <tr style=\"text-align: right;\">\n",
       "      <th></th>\n",
       "      <th>Number of Jobs in Resume</th>\n",
       "      <th>Number of Elites</th>\n",
       "    </tr>\n",
       "  </thead>\n",
       "  <tbody>\n",
       "    <tr>\n",
       "      <th>0</th>\n",
       "      <td>1</td>\n",
       "      <td>41</td>\n",
       "    </tr>\n",
       "    <tr>\n",
       "      <th>1</th>\n",
       "      <td>2</td>\n",
       "      <td>57</td>\n",
       "    </tr>\n",
       "    <tr>\n",
       "      <th>2</th>\n",
       "      <td>3</td>\n",
       "      <td>52</td>\n",
       "    </tr>\n",
       "    <tr>\n",
       "      <th>3</th>\n",
       "      <td>4</td>\n",
       "      <td>44</td>\n",
       "    </tr>\n",
       "    <tr>\n",
       "      <th>4</th>\n",
       "      <td>5</td>\n",
       "      <td>39</td>\n",
       "    </tr>\n",
       "    <tr>\n",
       "      <th>5</th>\n",
       "      <td>6</td>\n",
       "      <td>33</td>\n",
       "    </tr>\n",
       "    <tr>\n",
       "      <th>6</th>\n",
       "      <td>7</td>\n",
       "      <td>48</td>\n",
       "    </tr>\n",
       "    <tr>\n",
       "      <th>7</th>\n",
       "      <td>8</td>\n",
       "      <td>40</td>\n",
       "    </tr>\n",
       "    <tr>\n",
       "      <th>8</th>\n",
       "      <td>9</td>\n",
       "      <td>33</td>\n",
       "    </tr>\n",
       "    <tr>\n",
       "      <th>9</th>\n",
       "      <td>10</td>\n",
       "      <td>24</td>\n",
       "    </tr>\n",
       "    <tr>\n",
       "      <th>10</th>\n",
       "      <td>11</td>\n",
       "      <td>22</td>\n",
       "    </tr>\n",
       "    <tr>\n",
       "      <th>11</th>\n",
       "      <td>12</td>\n",
       "      <td>14</td>\n",
       "    </tr>\n",
       "    <tr>\n",
       "      <th>12</th>\n",
       "      <td>13</td>\n",
       "      <td>12</td>\n",
       "    </tr>\n",
       "    <tr>\n",
       "      <th>13</th>\n",
       "      <td>14</td>\n",
       "      <td>13</td>\n",
       "    </tr>\n",
       "    <tr>\n",
       "      <th>14</th>\n",
       "      <td>15</td>\n",
       "      <td>10</td>\n",
       "    </tr>\n",
       "    <tr>\n",
       "      <th>15</th>\n",
       "      <td>16</td>\n",
       "      <td>8</td>\n",
       "    </tr>\n",
       "    <tr>\n",
       "      <th>16</th>\n",
       "      <td>17</td>\n",
       "      <td>12</td>\n",
       "    </tr>\n",
       "    <tr>\n",
       "      <th>17</th>\n",
       "      <td>18</td>\n",
       "      <td>12</td>\n",
       "    </tr>\n",
       "    <tr>\n",
       "      <th>18</th>\n",
       "      <td>19</td>\n",
       "      <td>10</td>\n",
       "    </tr>\n",
       "    <tr>\n",
       "      <th>19</th>\n",
       "      <td>20</td>\n",
       "      <td>9</td>\n",
       "    </tr>\n",
       "    <tr>\n",
       "      <th>20</th>\n",
       "      <td>21</td>\n",
       "      <td>2</td>\n",
       "    </tr>\n",
       "    <tr>\n",
       "      <th>21</th>\n",
       "      <td>22</td>\n",
       "      <td>5</td>\n",
       "    </tr>\n",
       "    <tr>\n",
       "      <th>22</th>\n",
       "      <td>23</td>\n",
       "      <td>7</td>\n",
       "    </tr>\n",
       "    <tr>\n",
       "      <th>23</th>\n",
       "      <td>24</td>\n",
       "      <td>8</td>\n",
       "    </tr>\n",
       "    <tr>\n",
       "      <th>24</th>\n",
       "      <td>25</td>\n",
       "      <td>2</td>\n",
       "    </tr>\n",
       "    <tr>\n",
       "      <th>25</th>\n",
       "      <td>26</td>\n",
       "      <td>6</td>\n",
       "    </tr>\n",
       "    <tr>\n",
       "      <th>26</th>\n",
       "      <td>27</td>\n",
       "      <td>4</td>\n",
       "    </tr>\n",
       "    <tr>\n",
       "      <th>27</th>\n",
       "      <td>28</td>\n",
       "      <td>6</td>\n",
       "    </tr>\n",
       "    <tr>\n",
       "      <th>28</th>\n",
       "      <td>29</td>\n",
       "      <td>4</td>\n",
       "    </tr>\n",
       "    <tr>\n",
       "      <th>29</th>\n",
       "      <td>30</td>\n",
       "      <td>2</td>\n",
       "    </tr>\n",
       "    <tr>\n",
       "      <th>30</th>\n",
       "      <td>31</td>\n",
       "      <td>3</td>\n",
       "    </tr>\n",
       "    <tr>\n",
       "      <th>31</th>\n",
       "      <td>32</td>\n",
       "      <td>5</td>\n",
       "    </tr>\n",
       "    <tr>\n",
       "      <th>32</th>\n",
       "      <td>33</td>\n",
       "      <td>1</td>\n",
       "    </tr>\n",
       "    <tr>\n",
       "      <th>33</th>\n",
       "      <td>34</td>\n",
       "      <td>3</td>\n",
       "    </tr>\n",
       "    <tr>\n",
       "      <th>34</th>\n",
       "      <td>35</td>\n",
       "      <td>1</td>\n",
       "    </tr>\n",
       "    <tr>\n",
       "      <th>35</th>\n",
       "      <td>36</td>\n",
       "      <td>1</td>\n",
       "    </tr>\n",
       "    <tr>\n",
       "      <th>36</th>\n",
       "      <td>37</td>\n",
       "      <td>3</td>\n",
       "    </tr>\n",
       "    <tr>\n",
       "      <th>37</th>\n",
       "      <td>38</td>\n",
       "      <td>3</td>\n",
       "    </tr>\n",
       "    <tr>\n",
       "      <th>38</th>\n",
       "      <td>39</td>\n",
       "      <td>1</td>\n",
       "    </tr>\n",
       "    <tr>\n",
       "      <th>39</th>\n",
       "      <td>42</td>\n",
       "      <td>1</td>\n",
       "    </tr>\n",
       "    <tr>\n",
       "      <th>40</th>\n",
       "      <td>47</td>\n",
       "      <td>2</td>\n",
       "    </tr>\n",
       "    <tr>\n",
       "      <th>41</th>\n",
       "      <td>48</td>\n",
       "      <td>2</td>\n",
       "    </tr>\n",
       "    <tr>\n",
       "      <th>42</th>\n",
       "      <td>51</td>\n",
       "      <td>1</td>\n",
       "    </tr>\n",
       "    <tr>\n",
       "      <th>43</th>\n",
       "      <td>58</td>\n",
       "      <td>1</td>\n",
       "    </tr>\n",
       "  </tbody>\n",
       "</table>\n",
       "</div>"
      ],
      "text/plain": [
       "    Number of Jobs in Resume  Number of Elites\n",
       "0                          1                41\n",
       "1                          2                57\n",
       "2                          3                52\n",
       "3                          4                44\n",
       "4                          5                39\n",
       "5                          6                33\n",
       "6                          7                48\n",
       "7                          8                40\n",
       "8                          9                33\n",
       "9                         10                24\n",
       "10                        11                22\n",
       "11                        12                14\n",
       "12                        13                12\n",
       "13                        14                13\n",
       "14                        15                10\n",
       "15                        16                 8\n",
       "16                        17                12\n",
       "17                        18                12\n",
       "18                        19                10\n",
       "19                        20                 9\n",
       "20                        21                 2\n",
       "21                        22                 5\n",
       "22                        23                 7\n",
       "23                        24                 8\n",
       "24                        25                 2\n",
       "25                        26                 6\n",
       "26                        27                 4\n",
       "27                        28                 6\n",
       "28                        29                 4\n",
       "29                        30                 2\n",
       "30                        31                 3\n",
       "31                        32                 5\n",
       "32                        33                 1\n",
       "33                        34                 3\n",
       "34                        35                 1\n",
       "35                        36                 1\n",
       "36                        37                 3\n",
       "37                        38                 3\n",
       "38                        39                 1\n",
       "39                        42                 1\n",
       "40                        47                 2\n",
       "41                        48                 2\n",
       "42                        51                 1\n",
       "43                        58                 1"
      ]
     },
     "execution_count": 57,
     "metadata": {},
     "output_type": "execute_result"
    }
   ],
   "source": [
    "jstat2 = jstat1.groupby(jstat2_groupby_columns,as_index=False).count()\n",
    "jstat2.sort_values(\"Position\",ascending=True,inplace=True)\n",
    "jstat2.columns = jstat2_column_labels\n",
    "jstat2"
   ]
  },
  {
   "cell_type": "code",
   "execution_count": null,
   "id": "e23de448",
   "metadata": {},
   "outputs": [],
   "source": []
  },
  {
   "cell_type": "markdown",
   "id": "3050bc54",
   "metadata": {},
   "source": [
    "### job stat3 - Number of Government Jobs by SPA"
   ]
  },
  {
   "cell_type": "code",
   "execution_count": 62,
   "id": "3d507f73",
   "metadata": {},
   "outputs": [],
   "source": [
    "stat3_columns = [\"SPA\",\"OrgName\"]\n",
    "stat3_groupby_columns = [\"SPA\"]\n",
    "stat3_column_labels = [\"SPA\",\"Number of Jobs\"]"
   ]
  },
  {
   "cell_type": "code",
   "execution_count": 63,
   "id": "a4d1da7c",
   "metadata": {},
   "outputs": [],
   "source": [
    "jobs3 = jobs2[jobs2[\"InstitutionType\"]==\"정권기관\"]\n",
    "jobs3.loc[:,[\"SPA\"]]=False\n",
    "jobs3.loc[jobs3[\"PrimaryInstitution\"]==\"최고인민회의\",[\"SPA\"]] = True"
   ]
  },
  {
   "cell_type": "code",
   "execution_count": 64,
   "id": "93d6af47",
   "metadata": {},
   "outputs": [
    {
     "data": {
      "text/html": [
       "<div>\n",
       "<style scoped>\n",
       "    .dataframe tbody tr th:only-of-type {\n",
       "        vertical-align: middle;\n",
       "    }\n",
       "\n",
       "    .dataframe tbody tr th {\n",
       "        vertical-align: top;\n",
       "    }\n",
       "\n",
       "    .dataframe thead th {\n",
       "        text-align: right;\n",
       "    }\n",
       "</style>\n",
       "<table border=\"1\" class=\"dataframe\">\n",
       "  <thead>\n",
       "    <tr style=\"text-align: right;\">\n",
       "      <th></th>\n",
       "      <th>SPA</th>\n",
       "      <th>Number of Jobs</th>\n",
       "    </tr>\n",
       "  </thead>\n",
       "  <tbody>\n",
       "    <tr>\n",
       "      <th>0</th>\n",
       "      <td>False</td>\n",
       "      <td>1099</td>\n",
       "    </tr>\n",
       "    <tr>\n",
       "      <th>1</th>\n",
       "      <td>True</td>\n",
       "      <td>362</td>\n",
       "    </tr>\n",
       "  </tbody>\n",
       "</table>\n",
       "</div>"
      ],
      "text/plain": [
       "     SPA  Number of Jobs\n",
       "0  False            1099\n",
       "1   True             362"
      ]
     },
     "execution_count": 64,
     "metadata": {},
     "output_type": "execute_result"
    }
   ],
   "source": [
    "stat3 = jobs3[stat3_columns].groupby(stat3_groupby_columns,as_index=False).count()\n",
    "stat3.columns = stat3_column_labels\n",
    "stat3"
   ]
  },
  {
   "cell_type": "markdown",
   "id": "f0c7cadd",
   "metadata": {},
   "source": [
    "### jobs stat4: average jobs per year, omitting 최고인민회의"
   ]
  },
  {
   "cell_type": "code",
   "execution_count": 65,
   "id": "e4f8c45e",
   "metadata": {},
   "outputs": [
    {
     "data": {
      "text/plain": [
       "Index(['LeaderID', 'CareerStartYear', 'CareerStartDate', 'InstitutionType',\n",
       "       'PrimaryInstitution', 'OrgName', 'Position', 'IsElected', 'OrgRank',\n",
       "       'PositionRank'],\n",
       "      dtype='object')"
      ]
     },
     "execution_count": 65,
     "metadata": {},
     "output_type": "execute_result"
    }
   ],
   "source": [
    "jobs2.columns"
   ]
  },
  {
   "cell_type": "code",
   "execution_count": 66,
   "id": "d5d57dce",
   "metadata": {},
   "outputs": [
    {
     "data": {
      "text/plain": [
       "(4246, 10)"
      ]
     },
     "execution_count": 66,
     "metadata": {},
     "output_type": "execute_result"
    }
   ],
   "source": [
    "jobs4 = jobs2[~(jobs2.PrimaryInstitution==\"최고인민회의\")]\n",
    "jobs4.shape"
   ]
  },
  {
   "cell_type": "code",
   "execution_count": 67,
   "id": "efbcee8a",
   "metadata": {},
   "outputs": [],
   "source": [
    "jstat4_columns = [\"CareerStartYear\",\"Position\"]\n",
    "jstat4_groupby_columns = [\"CareerStartYear\"]\n",
    "# jstat4_column_labels = [\"Number of Jobs in Resume\",\"Number of Elites\"]"
   ]
  },
  {
   "cell_type": "code",
   "execution_count": 68,
   "id": "7f25d21b",
   "metadata": {},
   "outputs": [
    {
     "data": {
      "text/html": [
       "<div>\n",
       "<style scoped>\n",
       "    .dataframe tbody tr th:only-of-type {\n",
       "        vertical-align: middle;\n",
       "    }\n",
       "\n",
       "    .dataframe tbody tr th {\n",
       "        vertical-align: top;\n",
       "    }\n",
       "\n",
       "    .dataframe thead th {\n",
       "        text-align: right;\n",
       "    }\n",
       "</style>\n",
       "<table border=\"1\" class=\"dataframe\">\n",
       "  <thead>\n",
       "    <tr style=\"text-align: right;\">\n",
       "      <th></th>\n",
       "      <th>CareerStartYear</th>\n",
       "      <th>Position</th>\n",
       "    </tr>\n",
       "  </thead>\n",
       "  <tbody>\n",
       "    <tr>\n",
       "      <th>0</th>\n",
       "      <td>1937</td>\n",
       "      <td>1</td>\n",
       "    </tr>\n",
       "    <tr>\n",
       "      <th>1</th>\n",
       "      <td>1945</td>\n",
       "      <td>6</td>\n",
       "    </tr>\n",
       "    <tr>\n",
       "      <th>2</th>\n",
       "      <td>1946</td>\n",
       "      <td>5</td>\n",
       "    </tr>\n",
       "    <tr>\n",
       "      <th>3</th>\n",
       "      <td>1947</td>\n",
       "      <td>1</td>\n",
       "    </tr>\n",
       "    <tr>\n",
       "      <th>4</th>\n",
       "      <td>1948</td>\n",
       "      <td>9</td>\n",
       "    </tr>\n",
       "    <tr>\n",
       "      <th>...</th>\n",
       "      <td>...</td>\n",
       "      <td>...</td>\n",
       "    </tr>\n",
       "    <tr>\n",
       "      <th>74</th>\n",
       "      <td>2018</td>\n",
       "      <td>51</td>\n",
       "    </tr>\n",
       "    <tr>\n",
       "      <th>75</th>\n",
       "      <td>2019</td>\n",
       "      <td>184</td>\n",
       "    </tr>\n",
       "    <tr>\n",
       "      <th>76</th>\n",
       "      <td>2020</td>\n",
       "      <td>48</td>\n",
       "    </tr>\n",
       "    <tr>\n",
       "      <th>77</th>\n",
       "      <td>2021</td>\n",
       "      <td>235</td>\n",
       "    </tr>\n",
       "    <tr>\n",
       "      <th>78</th>\n",
       "      <td>2022</td>\n",
       "      <td>1</td>\n",
       "    </tr>\n",
       "  </tbody>\n",
       "</table>\n",
       "<p>79 rows × 2 columns</p>\n",
       "</div>"
      ],
      "text/plain": [
       "   CareerStartYear  Position\n",
       "0             1937         1\n",
       "1             1945         6\n",
       "2             1946         5\n",
       "3             1947         1\n",
       "4             1948         9\n",
       "..             ...       ...\n",
       "74            2018        51\n",
       "75            2019       184\n",
       "76            2020        48\n",
       "77            2021       235\n",
       "78            2022         1\n",
       "\n",
       "[79 rows x 2 columns]"
      ]
     },
     "execution_count": 68,
     "metadata": {},
     "output_type": "execute_result"
    }
   ],
   "source": [
    "jstat4 = jobs4[jstat4_columns].groupby(jstat4_groupby_columns,as_index=False).count()\n",
    "jstat4.sort_values('CareerStartYear',ascending=True,inplace=True)\n",
    "jstat4"
   ]
  },
  {
   "cell_type": "code",
   "execution_count": 69,
   "id": "f74b932d",
   "metadata": {},
   "outputs": [
    {
     "data": {
      "text/plain": [
       "53.74683544303797"
      ]
     },
     "execution_count": 69,
     "metadata": {},
     "output_type": "execute_result"
    }
   ],
   "source": [
    "mean(list(jstat4.Position))"
   ]
  },
  {
   "cell_type": "code",
   "execution_count": 70,
   "id": "8c4e3dce",
   "metadata": {},
   "outputs": [],
   "source": [
    "jstat4[\"Largerthan53\"]=False\n",
    "jstat4.loc[jstat4.Position>53,\"Largerthan53\"]=True"
   ]
  },
  {
   "cell_type": "code",
   "execution_count": 71,
   "id": "ece49bd0",
   "metadata": {},
   "outputs": [
    {
     "data": {
      "text/html": [
       "<div>\n",
       "<style scoped>\n",
       "    .dataframe tbody tr th:only-of-type {\n",
       "        vertical-align: middle;\n",
       "    }\n",
       "\n",
       "    .dataframe tbody tr th {\n",
       "        vertical-align: top;\n",
       "    }\n",
       "\n",
       "    .dataframe thead th {\n",
       "        text-align: right;\n",
       "    }\n",
       "</style>\n",
       "<table border=\"1\" class=\"dataframe\">\n",
       "  <thead>\n",
       "    <tr style=\"text-align: right;\">\n",
       "      <th></th>\n",
       "      <th>CareerStartYear</th>\n",
       "      <th>Position</th>\n",
       "      <th>Largerthan53</th>\n",
       "    </tr>\n",
       "  </thead>\n",
       "  <tbody>\n",
       "    <tr>\n",
       "      <th>0</th>\n",
       "      <td>1937</td>\n",
       "      <td>1</td>\n",
       "      <td>False</td>\n",
       "    </tr>\n",
       "    <tr>\n",
       "      <th>1</th>\n",
       "      <td>1945</td>\n",
       "      <td>6</td>\n",
       "      <td>False</td>\n",
       "    </tr>\n",
       "    <tr>\n",
       "      <th>2</th>\n",
       "      <td>1946</td>\n",
       "      <td>5</td>\n",
       "      <td>False</td>\n",
       "    </tr>\n",
       "    <tr>\n",
       "      <th>3</th>\n",
       "      <td>1947</td>\n",
       "      <td>1</td>\n",
       "      <td>False</td>\n",
       "    </tr>\n",
       "    <tr>\n",
       "      <th>4</th>\n",
       "      <td>1948</td>\n",
       "      <td>9</td>\n",
       "      <td>False</td>\n",
       "    </tr>\n",
       "    <tr>\n",
       "      <th>5</th>\n",
       "      <td>1949</td>\n",
       "      <td>2</td>\n",
       "      <td>False</td>\n",
       "    </tr>\n",
       "    <tr>\n",
       "      <th>6</th>\n",
       "      <td>1950</td>\n",
       "      <td>11</td>\n",
       "      <td>False</td>\n",
       "    </tr>\n",
       "    <tr>\n",
       "      <th>7</th>\n",
       "      <td>1951</td>\n",
       "      <td>7</td>\n",
       "      <td>False</td>\n",
       "    </tr>\n",
       "    <tr>\n",
       "      <th>8</th>\n",
       "      <td>1952</td>\n",
       "      <td>9</td>\n",
       "      <td>False</td>\n",
       "    </tr>\n",
       "    <tr>\n",
       "      <th>9</th>\n",
       "      <td>1953</td>\n",
       "      <td>4</td>\n",
       "      <td>False</td>\n",
       "    </tr>\n",
       "    <tr>\n",
       "      <th>10</th>\n",
       "      <td>1954</td>\n",
       "      <td>12</td>\n",
       "      <td>False</td>\n",
       "    </tr>\n",
       "    <tr>\n",
       "      <th>11</th>\n",
       "      <td>1955</td>\n",
       "      <td>5</td>\n",
       "      <td>False</td>\n",
       "    </tr>\n",
       "    <tr>\n",
       "      <th>12</th>\n",
       "      <td>1956</td>\n",
       "      <td>20</td>\n",
       "      <td>False</td>\n",
       "    </tr>\n",
       "    <tr>\n",
       "      <th>13</th>\n",
       "      <td>1957</td>\n",
       "      <td>9</td>\n",
       "      <td>False</td>\n",
       "    </tr>\n",
       "    <tr>\n",
       "      <th>14</th>\n",
       "      <td>1958</td>\n",
       "      <td>9</td>\n",
       "      <td>False</td>\n",
       "    </tr>\n",
       "    <tr>\n",
       "      <th>15</th>\n",
       "      <td>1959</td>\n",
       "      <td>7</td>\n",
       "      <td>False</td>\n",
       "    </tr>\n",
       "    <tr>\n",
       "      <th>16</th>\n",
       "      <td>1960</td>\n",
       "      <td>13</td>\n",
       "      <td>False</td>\n",
       "    </tr>\n",
       "    <tr>\n",
       "      <th>17</th>\n",
       "      <td>1961</td>\n",
       "      <td>27</td>\n",
       "      <td>False</td>\n",
       "    </tr>\n",
       "    <tr>\n",
       "      <th>18</th>\n",
       "      <td>1962</td>\n",
       "      <td>22</td>\n",
       "      <td>False</td>\n",
       "    </tr>\n",
       "    <tr>\n",
       "      <th>19</th>\n",
       "      <td>1963</td>\n",
       "      <td>9</td>\n",
       "      <td>False</td>\n",
       "    </tr>\n",
       "    <tr>\n",
       "      <th>20</th>\n",
       "      <td>1964</td>\n",
       "      <td>8</td>\n",
       "      <td>False</td>\n",
       "    </tr>\n",
       "    <tr>\n",
       "      <th>21</th>\n",
       "      <td>1965</td>\n",
       "      <td>16</td>\n",
       "      <td>False</td>\n",
       "    </tr>\n",
       "    <tr>\n",
       "      <th>22</th>\n",
       "      <td>1966</td>\n",
       "      <td>20</td>\n",
       "      <td>False</td>\n",
       "    </tr>\n",
       "    <tr>\n",
       "      <th>23</th>\n",
       "      <td>1967</td>\n",
       "      <td>12</td>\n",
       "      <td>False</td>\n",
       "    </tr>\n",
       "    <tr>\n",
       "      <th>24</th>\n",
       "      <td>1968</td>\n",
       "      <td>15</td>\n",
       "      <td>False</td>\n",
       "    </tr>\n",
       "    <tr>\n",
       "      <th>25</th>\n",
       "      <td>1969</td>\n",
       "      <td>28</td>\n",
       "      <td>False</td>\n",
       "    </tr>\n",
       "    <tr>\n",
       "      <th>27</th>\n",
       "      <td>1971</td>\n",
       "      <td>26</td>\n",
       "      <td>False</td>\n",
       "    </tr>\n",
       "    <tr>\n",
       "      <th>28</th>\n",
       "      <td>1972</td>\n",
       "      <td>48</td>\n",
       "      <td>False</td>\n",
       "    </tr>\n",
       "    <tr>\n",
       "      <th>29</th>\n",
       "      <td>1973</td>\n",
       "      <td>41</td>\n",
       "      <td>False</td>\n",
       "    </tr>\n",
       "    <tr>\n",
       "      <th>30</th>\n",
       "      <td>1974</td>\n",
       "      <td>27</td>\n",
       "      <td>False</td>\n",
       "    </tr>\n",
       "    <tr>\n",
       "      <th>31</th>\n",
       "      <td>1975</td>\n",
       "      <td>25</td>\n",
       "      <td>False</td>\n",
       "    </tr>\n",
       "    <tr>\n",
       "      <th>32</th>\n",
       "      <td>1976</td>\n",
       "      <td>23</td>\n",
       "      <td>False</td>\n",
       "    </tr>\n",
       "    <tr>\n",
       "      <th>33</th>\n",
       "      <td>1977</td>\n",
       "      <td>41</td>\n",
       "      <td>False</td>\n",
       "    </tr>\n",
       "    <tr>\n",
       "      <th>34</th>\n",
       "      <td>1978</td>\n",
       "      <td>20</td>\n",
       "      <td>False</td>\n",
       "    </tr>\n",
       "    <tr>\n",
       "      <th>35</th>\n",
       "      <td>1979</td>\n",
       "      <td>18</td>\n",
       "      <td>False</td>\n",
       "    </tr>\n",
       "    <tr>\n",
       "      <th>37</th>\n",
       "      <td>1981</td>\n",
       "      <td>32</td>\n",
       "      <td>False</td>\n",
       "    </tr>\n",
       "    <tr>\n",
       "      <th>38</th>\n",
       "      <td>1982</td>\n",
       "      <td>43</td>\n",
       "      <td>False</td>\n",
       "    </tr>\n",
       "    <tr>\n",
       "      <th>39</th>\n",
       "      <td>1983</td>\n",
       "      <td>33</td>\n",
       "      <td>False</td>\n",
       "    </tr>\n",
       "    <tr>\n",
       "      <th>40</th>\n",
       "      <td>1984</td>\n",
       "      <td>42</td>\n",
       "      <td>False</td>\n",
       "    </tr>\n",
       "    <tr>\n",
       "      <th>43</th>\n",
       "      <td>1987</td>\n",
       "      <td>33</td>\n",
       "      <td>False</td>\n",
       "    </tr>\n",
       "    <tr>\n",
       "      <th>50</th>\n",
       "      <td>1994</td>\n",
       "      <td>50</td>\n",
       "      <td>False</td>\n",
       "    </tr>\n",
       "    <tr>\n",
       "      <th>51</th>\n",
       "      <td>1995</td>\n",
       "      <td>44</td>\n",
       "      <td>False</td>\n",
       "    </tr>\n",
       "    <tr>\n",
       "      <th>52</th>\n",
       "      <td>1996</td>\n",
       "      <td>45</td>\n",
       "      <td>False</td>\n",
       "    </tr>\n",
       "    <tr>\n",
       "      <th>71</th>\n",
       "      <td>2015</td>\n",
       "      <td>37</td>\n",
       "      <td>False</td>\n",
       "    </tr>\n",
       "    <tr>\n",
       "      <th>74</th>\n",
       "      <td>2018</td>\n",
       "      <td>51</td>\n",
       "      <td>False</td>\n",
       "    </tr>\n",
       "    <tr>\n",
       "      <th>76</th>\n",
       "      <td>2020</td>\n",
       "      <td>48</td>\n",
       "      <td>False</td>\n",
       "    </tr>\n",
       "    <tr>\n",
       "      <th>78</th>\n",
       "      <td>2022</td>\n",
       "      <td>1</td>\n",
       "      <td>False</td>\n",
       "    </tr>\n",
       "  </tbody>\n",
       "</table>\n",
       "</div>"
      ],
      "text/plain": [
       "   CareerStartYear  Position  Largerthan53\n",
       "0             1937         1         False\n",
       "1             1945         6         False\n",
       "2             1946         5         False\n",
       "3             1947         1         False\n",
       "4             1948         9         False\n",
       "5             1949         2         False\n",
       "6             1950        11         False\n",
       "7             1951         7         False\n",
       "8             1952         9         False\n",
       "9             1953         4         False\n",
       "10            1954        12         False\n",
       "11            1955         5         False\n",
       "12            1956        20         False\n",
       "13            1957         9         False\n",
       "14            1958         9         False\n",
       "15            1959         7         False\n",
       "16            1960        13         False\n",
       "17            1961        27         False\n",
       "18            1962        22         False\n",
       "19            1963         9         False\n",
       "20            1964         8         False\n",
       "21            1965        16         False\n",
       "22            1966        20         False\n",
       "23            1967        12         False\n",
       "24            1968        15         False\n",
       "25            1969        28         False\n",
       "27            1971        26         False\n",
       "28            1972        48         False\n",
       "29            1973        41         False\n",
       "30            1974        27         False\n",
       "31            1975        25         False\n",
       "32            1976        23         False\n",
       "33            1977        41         False\n",
       "34            1978        20         False\n",
       "35            1979        18         False\n",
       "37            1981        32         False\n",
       "38            1982        43         False\n",
       "39            1983        33         False\n",
       "40            1984        42         False\n",
       "43            1987        33         False\n",
       "50            1994        50         False\n",
       "51            1995        44         False\n",
       "52            1996        45         False\n",
       "71            2015        37         False\n",
       "74            2018        51         False\n",
       "76            2020        48         False\n",
       "78            2022         1         False"
      ]
     },
     "execution_count": 71,
     "metadata": {},
     "output_type": "execute_result"
    }
   ],
   "source": [
    "jstat4[jstat4.Position<54]"
   ]
  },
  {
   "cell_type": "code",
   "execution_count": null,
   "id": "83cbf97a",
   "metadata": {},
   "outputs": [],
   "source": []
  },
  {
   "cell_type": "markdown",
   "id": "0c9783f6",
   "metadata": {},
   "source": [
    "### job stat5 - Number of Local Jobs"
   ]
  },
  {
   "cell_type": "code",
   "execution_count": 72,
   "id": "bee91826",
   "metadata": {},
   "outputs": [],
   "source": [
    "stat5_columns = [\"Local\",\"OrgName\"]\n",
    "stat5_groupby_columns = [\"Local\"]\n",
    "stat5_column_labels = [\"Local\",\"Number of Jobs\"]"
   ]
  },
  {
   "cell_type": "code",
   "execution_count": 73,
   "id": "ab819fbb",
   "metadata": {},
   "outputs": [
    {
     "data": {
      "text/plain": [
       "Index(['InstitutionType', 'OrgType', 'PrimaryInstitution', 'OrgName',\n",
       "       'PI_Index', 'OrgRank', 'P1', 'P2', 'P3', 'Alias_OrgName',\n",
       "       'LinkToNext_PI', 'LinkToNext_Org', 'LinkToNext_Year', 'Notes',\n",
       "       'L1_Index', 'L2_Index', 'L3_Index', 'L4_Index', 'L5_Index', 'Local',\n",
       "       'InstitutionCategory'],\n",
       "      dtype='object')"
      ]
     },
     "execution_count": 73,
     "metadata": {},
     "output_type": "execute_result"
    }
   ],
   "source": [
    "org2.columns"
   ]
  },
  {
   "cell_type": "code",
   "execution_count": 74,
   "id": "f5741ead",
   "metadata": {},
   "outputs": [],
   "source": [
    "# merge leader-job linklist with orgtree to get Local and InstitutionCategory :)\n",
    "ot_columns = [\"PrimaryInstitution\",\"OrgName\",\"Local\",\"InstitutionCategory\"]\n",
    "pk_columns = [\"PrimaryInstitution\",\"OrgName\"]\n",
    "jobs5 = jobs2.merge(org2[ot_columns],on=pk_columns,how=\"left\",indicator=False)\n",
    "# merge_results(jobs4)"
   ]
  },
  {
   "cell_type": "code",
   "execution_count": 75,
   "id": "258ce53d",
   "metadata": {},
   "outputs": [
    {
     "data": {
      "text/plain": [
       "0       Social\n",
       "1       Social\n",
       "2       Social\n",
       "3       Social\n",
       "4       Social\n",
       "         ...  \n",
       "6111    Social\n",
       "6112    Social\n",
       "6113    Social\n",
       "6114    Social\n",
       "6115    Social\n",
       "Name: InstitutionCategory, Length: 6116, dtype: object"
      ]
     },
     "execution_count": 75,
     "metadata": {},
     "output_type": "execute_result"
    }
   ],
   "source": [
    "jobs5.InstitutionCategory"
   ]
  },
  {
   "cell_type": "code",
   "execution_count": 76,
   "id": "d12977f7",
   "metadata": {},
   "outputs": [
    {
     "data": {
      "text/html": [
       "<div>\n",
       "<style scoped>\n",
       "    .dataframe tbody tr th:only-of-type {\n",
       "        vertical-align: middle;\n",
       "    }\n",
       "\n",
       "    .dataframe tbody tr th {\n",
       "        vertical-align: top;\n",
       "    }\n",
       "\n",
       "    .dataframe thead th {\n",
       "        text-align: right;\n",
       "    }\n",
       "</style>\n",
       "<table border=\"1\" class=\"dataframe\">\n",
       "  <thead>\n",
       "    <tr style=\"text-align: right;\">\n",
       "      <th></th>\n",
       "      <th>Local</th>\n",
       "      <th>Number of Jobs</th>\n",
       "    </tr>\n",
       "  </thead>\n",
       "  <tbody>\n",
       "    <tr>\n",
       "      <th>0</th>\n",
       "      <td>Central</td>\n",
       "      <td>3217</td>\n",
       "    </tr>\n",
       "    <tr>\n",
       "      <th>1</th>\n",
       "      <td>Local</td>\n",
       "      <td>266</td>\n",
       "    </tr>\n",
       "  </tbody>\n",
       "</table>\n",
       "</div>"
      ],
      "text/plain": [
       "     Local  Number of Jobs\n",
       "0  Central            3217\n",
       "1    Local             266"
      ]
     },
     "execution_count": 76,
     "metadata": {},
     "output_type": "execute_result"
    }
   ],
   "source": [
    "stat5 = jobs5[stat5_columns].groupby(stat5_groupby_columns,as_index=False).count()\n",
    "stat5.columns = stat5_column_labels\n",
    "stat5"
   ]
  },
  {
   "cell_type": "markdown",
   "id": "63a0f562",
   "metadata": {},
   "source": [
    "### job stat6 - Percent of Local Jobs for Each Institution Category"
   ]
  },
  {
   "cell_type": "code",
   "execution_count": 77,
   "id": "6fdac692",
   "metadata": {},
   "outputs": [],
   "source": [
    "stat6_columns = [\"InstitutionCategory\",\"IsLocal\"]\n",
    "stat6_groupby_columns = [\"InstitutionCategory\"]\n",
    "stat6_column_labels = [\"InstitutionCategory\",\"Total Job Count\",\"Local Job Count\",\"Percent Local Jobs \"]"
   ]
  },
  {
   "cell_type": "code",
   "execution_count": 78,
   "id": "f865e5b4",
   "metadata": {},
   "outputs": [],
   "source": [
    "jobs5.loc[:,\"IsLocal\"] = False\n",
    "jobs5.loc[jobs5[\"Local\"]==\"Local\",\"IsLocal\"] = True"
   ]
  },
  {
   "cell_type": "code",
   "execution_count": 79,
   "id": "4babd676",
   "metadata": {},
   "outputs": [
    {
     "data": {
      "text/html": [
       "<div>\n",
       "<style scoped>\n",
       "    .dataframe tbody tr th:only-of-type {\n",
       "        vertical-align: middle;\n",
       "    }\n",
       "\n",
       "    .dataframe tbody tr th {\n",
       "        vertical-align: top;\n",
       "    }\n",
       "\n",
       "    .dataframe thead th {\n",
       "        text-align: right;\n",
       "    }\n",
       "</style>\n",
       "<table border=\"1\" class=\"dataframe\">\n",
       "  <thead>\n",
       "    <tr style=\"text-align: right;\">\n",
       "      <th></th>\n",
       "      <th>InstitutionCategory</th>\n",
       "      <th>Total Job Count</th>\n",
       "      <th>Local Job Count</th>\n",
       "      <th>Percent Local Jobs</th>\n",
       "    </tr>\n",
       "  </thead>\n",
       "  <tbody>\n",
       "    <tr>\n",
       "      <th>0</th>\n",
       "      <td>Government</td>\n",
       "      <td>3291</td>\n",
       "      <td>90</td>\n",
       "      <td>2.73</td>\n",
       "    </tr>\n",
       "    <tr>\n",
       "      <th>1</th>\n",
       "      <td>Military</td>\n",
       "      <td>352</td>\n",
       "      <td>62</td>\n",
       "      <td>17.61</td>\n",
       "    </tr>\n",
       "    <tr>\n",
       "      <th>2</th>\n",
       "      <td>Party</td>\n",
       "      <td>1620</td>\n",
       "      <td>130</td>\n",
       "      <td>8.02</td>\n",
       "    </tr>\n",
       "    <tr>\n",
       "      <th>3</th>\n",
       "      <td>Social</td>\n",
       "      <td>853</td>\n",
       "      <td>60</td>\n",
       "      <td>7.03</td>\n",
       "    </tr>\n",
       "  </tbody>\n",
       "</table>\n",
       "</div>"
      ],
      "text/plain": [
       "  InstitutionCategory  Total Job Count  Local Job Count  Percent Local Jobs \n",
       "0          Government             3291               90                 2.73\n",
       "1            Military              352               62                17.61\n",
       "2               Party             1620              130                 8.02\n",
       "3              Social              853               60                 7.03"
      ]
     },
     "execution_count": 79,
     "metadata": {},
     "output_type": "execute_result"
    }
   ],
   "source": [
    "# use job5, which is job2 + Local variable from orgtree\n",
    "stat6 = jobs5[stat6_columns].groupby(stat6_groupby_columns,as_index=False)[\"IsLocal\"].agg({\"Job Count\":\"count\",\"Local Job Count\":\"sum\"})\n",
    "stat6.loc[:,\"Percent Local Jobs\"] = stat6.apply(lambda x: round(x[\"Local Job Count\"]/x[\"Job Count\"]*100,2),axis=1)\n",
    "stat6.columns = stat6_column_labels\n",
    "stat6"
   ]
  },
  {
   "cell_type": "markdown",
   "id": "ccbaaa2e",
   "metadata": {},
   "source": [
    "### job stat7 - Number of Jobs by Organization Rank"
   ]
  },
  {
   "cell_type": "code",
   "execution_count": 80,
   "id": "fc1091e0",
   "metadata": {},
   "outputs": [],
   "source": [
    "stat7_columns = [\"OrgRank\",\"OrgName\"]\n",
    "stat7_groupby_columns = [\"OrgRank\"]\n",
    "stat7_column_labels = [\"Organization Rank\",\"Number of Jobs\"]"
   ]
  },
  {
   "cell_type": "code",
   "execution_count": 81,
   "id": "fc5439c8",
   "metadata": {},
   "outputs": [
    {
     "data": {
      "text/html": [
       "<div>\n",
       "<style scoped>\n",
       "    .dataframe tbody tr th:only-of-type {\n",
       "        vertical-align: middle;\n",
       "    }\n",
       "\n",
       "    .dataframe tbody tr th {\n",
       "        vertical-align: top;\n",
       "    }\n",
       "\n",
       "    .dataframe thead th {\n",
       "        text-align: right;\n",
       "    }\n",
       "</style>\n",
       "<table border=\"1\" class=\"dataframe\">\n",
       "  <thead>\n",
       "    <tr style=\"text-align: right;\">\n",
       "      <th></th>\n",
       "      <th>Organization Rank</th>\n",
       "      <th>Number of Jobs</th>\n",
       "    </tr>\n",
       "  </thead>\n",
       "  <tbody>\n",
       "    <tr>\n",
       "      <th>0</th>\n",
       "      <td>0</td>\n",
       "      <td>197</td>\n",
       "    </tr>\n",
       "    <tr>\n",
       "      <th>1</th>\n",
       "      <td>1</td>\n",
       "      <td>2046</td>\n",
       "    </tr>\n",
       "    <tr>\n",
       "      <th>2</th>\n",
       "      <td>2</td>\n",
       "      <td>911</td>\n",
       "    </tr>\n",
       "    <tr>\n",
       "      <th>3</th>\n",
       "      <td>3</td>\n",
       "      <td>304</td>\n",
       "    </tr>\n",
       "    <tr>\n",
       "      <th>4</th>\n",
       "      <td>4</td>\n",
       "      <td>25</td>\n",
       "    </tr>\n",
       "  </tbody>\n",
       "</table>\n",
       "</div>"
      ],
      "text/plain": [
       "  Organization Rank  Number of Jobs\n",
       "0                 0             197\n",
       "1                 1            2046\n",
       "2                 2             911\n",
       "3                 3             304\n",
       "4                 4              25"
      ]
     },
     "execution_count": 81,
     "metadata": {},
     "output_type": "execute_result"
    }
   ],
   "source": [
    "# use job5, which is job2 + Local variable from orgtree\n",
    "stat7 = jobs5[stat7_columns].groupby(stat7_groupby_columns,as_index=False).count()\n",
    "stat7.columns = stat7_column_labels\n",
    "stat7"
   ]
  },
  {
   "cell_type": "markdown",
   "id": "47bdd15a",
   "metadata": {},
   "source": [
    "### job stat8 - Percent of Jobs by Org Rank, for Each Institution "
   ]
  },
  {
   "cell_type": "code",
   "execution_count": 92,
   "id": "a5f5dcb5",
   "metadata": {},
   "outputs": [],
   "source": [
    "stat8_columns = [\"InstitutionCategory\",\"OrgRank\",\"OrgName\"]\n",
    "stat8_groupby_columns = [\"InstitutionCategory\",\"OrgRank\"]\n",
    "stat8_column_labels = [\"Institution Category\",\"Organization Rank\",\"Number of Jobs\"]"
   ]
  },
  {
   "cell_type": "code",
   "execution_count": 93,
   "id": "dd756cd0",
   "metadata": {
    "scrolled": true
   },
   "outputs": [
    {
     "data": {
      "text/html": [
       "<div>\n",
       "<style scoped>\n",
       "    .dataframe tbody tr th:only-of-type {\n",
       "        vertical-align: middle;\n",
       "    }\n",
       "\n",
       "    .dataframe tbody tr th {\n",
       "        vertical-align: top;\n",
       "    }\n",
       "\n",
       "    .dataframe thead th {\n",
       "        text-align: right;\n",
       "    }\n",
       "</style>\n",
       "<table border=\"1\" class=\"dataframe\">\n",
       "  <thead>\n",
       "    <tr style=\"text-align: right;\">\n",
       "      <th></th>\n",
       "      <th>Institution Category</th>\n",
       "      <th>Organization Rank</th>\n",
       "      <th>Number of Jobs</th>\n",
       "    </tr>\n",
       "  </thead>\n",
       "  <tbody>\n",
       "    <tr>\n",
       "      <th>0</th>\n",
       "      <td>Government</td>\n",
       "      <td>0</td>\n",
       "      <td>71</td>\n",
       "    </tr>\n",
       "    <tr>\n",
       "      <th>1</th>\n",
       "      <td>Government</td>\n",
       "      <td>1</td>\n",
       "      <td>1015</td>\n",
       "    </tr>\n",
       "    <tr>\n",
       "      <th>2</th>\n",
       "      <td>Government</td>\n",
       "      <td>2</td>\n",
       "      <td>166</td>\n",
       "    </tr>\n",
       "    <tr>\n",
       "      <th>3</th>\n",
       "      <td>Government</td>\n",
       "      <td>3</td>\n",
       "      <td>204</td>\n",
       "    </tr>\n",
       "    <tr>\n",
       "      <th>4</th>\n",
       "      <td>Government</td>\n",
       "      <td>4</td>\n",
       "      <td>5</td>\n",
       "    </tr>\n",
       "    <tr>\n",
       "      <th>5</th>\n",
       "      <td>Military</td>\n",
       "      <td>0</td>\n",
       "      <td>43</td>\n",
       "    </tr>\n",
       "    <tr>\n",
       "      <th>6</th>\n",
       "      <td>Military</td>\n",
       "      <td>1</td>\n",
       "      <td>60</td>\n",
       "    </tr>\n",
       "    <tr>\n",
       "      <th>7</th>\n",
       "      <td>Military</td>\n",
       "      <td>2</td>\n",
       "      <td>9</td>\n",
       "    </tr>\n",
       "    <tr>\n",
       "      <th>8</th>\n",
       "      <td>Military</td>\n",
       "      <td>3</td>\n",
       "      <td>60</td>\n",
       "    </tr>\n",
       "    <tr>\n",
       "      <th>9</th>\n",
       "      <td>Military</td>\n",
       "      <td>4</td>\n",
       "      <td>19</td>\n",
       "    </tr>\n",
       "    <tr>\n",
       "      <th>10</th>\n",
       "      <td>Party</td>\n",
       "      <td>0</td>\n",
       "      <td>70</td>\n",
       "    </tr>\n",
       "    <tr>\n",
       "      <th>11</th>\n",
       "      <td>Party</td>\n",
       "      <td>1</td>\n",
       "      <td>783</td>\n",
       "    </tr>\n",
       "    <tr>\n",
       "      <th>12</th>\n",
       "      <td>Party</td>\n",
       "      <td>2</td>\n",
       "      <td>715</td>\n",
       "    </tr>\n",
       "    <tr>\n",
       "      <th>13</th>\n",
       "      <td>Party</td>\n",
       "      <td>3</td>\n",
       "      <td>40</td>\n",
       "    </tr>\n",
       "    <tr>\n",
       "      <th>14</th>\n",
       "      <td>Party</td>\n",
       "      <td>4</td>\n",
       "      <td>1</td>\n",
       "    </tr>\n",
       "    <tr>\n",
       "      <th>15</th>\n",
       "      <td>Social</td>\n",
       "      <td>0</td>\n",
       "      <td>13</td>\n",
       "    </tr>\n",
       "    <tr>\n",
       "      <th>16</th>\n",
       "      <td>Social</td>\n",
       "      <td>1</td>\n",
       "      <td>188</td>\n",
       "    </tr>\n",
       "    <tr>\n",
       "      <th>17</th>\n",
       "      <td>Social</td>\n",
       "      <td>2</td>\n",
       "      <td>21</td>\n",
       "    </tr>\n",
       "  </tbody>\n",
       "</table>\n",
       "</div>"
      ],
      "text/plain": [
       "   Institution Category Organization Rank  Number of Jobs\n",
       "0            Government                 0              71\n",
       "1            Government                 1            1015\n",
       "2            Government                 2             166\n",
       "3            Government                 3             204\n",
       "4            Government                 4               5\n",
       "5              Military                 0              43\n",
       "6              Military                 1              60\n",
       "7              Military                 2               9\n",
       "8              Military                 3              60\n",
       "9              Military                 4              19\n",
       "10                Party                 0              70\n",
       "11                Party                 1             783\n",
       "12                Party                 2             715\n",
       "13                Party                 3              40\n",
       "14                Party                 4               1\n",
       "15               Social                 0              13\n",
       "16               Social                 1             188\n",
       "17               Social                 2              21"
      ]
     },
     "execution_count": 93,
     "metadata": {},
     "output_type": "execute_result"
    }
   ],
   "source": [
    "# use job5, which is job2 + Local variable from orgtree\n",
    "stat8 = jobs5[stat8_columns].groupby(stat8_groupby_columns,as_index=False).count()\n",
    "stat8.columns = stat8_column_labels\n",
    "stat8"
   ]
  },
  {
   "cell_type": "code",
   "execution_count": 94,
   "id": "28a51835",
   "metadata": {},
   "outputs": [
    {
     "data": {
      "text/html": [
       "<div>\n",
       "<style scoped>\n",
       "    .dataframe tbody tr th:only-of-type {\n",
       "        vertical-align: middle;\n",
       "    }\n",
       "\n",
       "    .dataframe tbody tr th {\n",
       "        vertical-align: top;\n",
       "    }\n",
       "\n",
       "    .dataframe thead th {\n",
       "        text-align: right;\n",
       "    }\n",
       "</style>\n",
       "<table border=\"1\" class=\"dataframe\">\n",
       "  <thead>\n",
       "    <tr style=\"text-align: right;\">\n",
       "      <th></th>\n",
       "      <th>Institution Category</th>\n",
       "      <th>Total Jobs by Category</th>\n",
       "    </tr>\n",
       "  </thead>\n",
       "  <tbody>\n",
       "    <tr>\n",
       "      <th>0</th>\n",
       "      <td>Government</td>\n",
       "      <td>1461</td>\n",
       "    </tr>\n",
       "    <tr>\n",
       "      <th>1</th>\n",
       "      <td>Military</td>\n",
       "      <td>191</td>\n",
       "    </tr>\n",
       "    <tr>\n",
       "      <th>2</th>\n",
       "      <td>Party</td>\n",
       "      <td>1609</td>\n",
       "    </tr>\n",
       "    <tr>\n",
       "      <th>3</th>\n",
       "      <td>Social</td>\n",
       "      <td>222</td>\n",
       "    </tr>\n",
       "  </tbody>\n",
       "</table>\n",
       "</div>"
      ],
      "text/plain": [
       "  Institution Category  Total Jobs by Category\n",
       "0           Government                    1461\n",
       "1             Military                     191\n",
       "2                Party                    1609\n",
       "3               Social                     222"
      ]
     },
     "execution_count": 94,
     "metadata": {},
     "output_type": "execute_result"
    }
   ],
   "source": [
    "stat8_catsum_columns = [\"Institution Category\",\"Number of Jobs\"]\n",
    "stat8_catsum_groupby_columns = [\"Institution Category\"]\n",
    "stat8_catsum_column_labels = [\"Institution Category\",\"Total Jobs by Category\"]\n",
    "stat8_catsum = stat8[stat8_catsum_columns].groupby(stat8_catsum_groupby_columns,as_index=False).agg({\"Number of Jobs\":\"sum\"})\n",
    "stat8_catsum.columns = stat8_catsum_column_labels\n",
    "stat8_catsum"
   ]
  },
  {
   "cell_type": "code",
   "execution_count": 95,
   "id": "89608ee9",
   "metadata": {},
   "outputs": [
    {
     "data": {
      "text/html": [
       "<div>\n",
       "<style scoped>\n",
       "    .dataframe tbody tr th:only-of-type {\n",
       "        vertical-align: middle;\n",
       "    }\n",
       "\n",
       "    .dataframe tbody tr th {\n",
       "        vertical-align: top;\n",
       "    }\n",
       "\n",
       "    .dataframe thead th {\n",
       "        text-align: right;\n",
       "    }\n",
       "</style>\n",
       "<table border=\"1\" class=\"dataframe\">\n",
       "  <thead>\n",
       "    <tr style=\"text-align: right;\">\n",
       "      <th></th>\n",
       "      <th>Institution Category</th>\n",
       "      <th>Organization Rank</th>\n",
       "      <th>Number of Jobs</th>\n",
       "      <th>Total Jobs by Category</th>\n",
       "    </tr>\n",
       "  </thead>\n",
       "  <tbody>\n",
       "    <tr>\n",
       "      <th>0</th>\n",
       "      <td>Government</td>\n",
       "      <td>0</td>\n",
       "      <td>71</td>\n",
       "      <td>1461</td>\n",
       "    </tr>\n",
       "    <tr>\n",
       "      <th>1</th>\n",
       "      <td>Government</td>\n",
       "      <td>1</td>\n",
       "      <td>1015</td>\n",
       "      <td>1461</td>\n",
       "    </tr>\n",
       "    <tr>\n",
       "      <th>2</th>\n",
       "      <td>Government</td>\n",
       "      <td>2</td>\n",
       "      <td>166</td>\n",
       "      <td>1461</td>\n",
       "    </tr>\n",
       "    <tr>\n",
       "      <th>3</th>\n",
       "      <td>Government</td>\n",
       "      <td>3</td>\n",
       "      <td>204</td>\n",
       "      <td>1461</td>\n",
       "    </tr>\n",
       "    <tr>\n",
       "      <th>4</th>\n",
       "      <td>Government</td>\n",
       "      <td>4</td>\n",
       "      <td>5</td>\n",
       "      <td>1461</td>\n",
       "    </tr>\n",
       "    <tr>\n",
       "      <th>5</th>\n",
       "      <td>Military</td>\n",
       "      <td>0</td>\n",
       "      <td>43</td>\n",
       "      <td>191</td>\n",
       "    </tr>\n",
       "    <tr>\n",
       "      <th>6</th>\n",
       "      <td>Military</td>\n",
       "      <td>1</td>\n",
       "      <td>60</td>\n",
       "      <td>191</td>\n",
       "    </tr>\n",
       "    <tr>\n",
       "      <th>7</th>\n",
       "      <td>Military</td>\n",
       "      <td>2</td>\n",
       "      <td>9</td>\n",
       "      <td>191</td>\n",
       "    </tr>\n",
       "    <tr>\n",
       "      <th>8</th>\n",
       "      <td>Military</td>\n",
       "      <td>3</td>\n",
       "      <td>60</td>\n",
       "      <td>191</td>\n",
       "    </tr>\n",
       "    <tr>\n",
       "      <th>9</th>\n",
       "      <td>Military</td>\n",
       "      <td>4</td>\n",
       "      <td>19</td>\n",
       "      <td>191</td>\n",
       "    </tr>\n",
       "    <tr>\n",
       "      <th>10</th>\n",
       "      <td>Party</td>\n",
       "      <td>0</td>\n",
       "      <td>70</td>\n",
       "      <td>1609</td>\n",
       "    </tr>\n",
       "    <tr>\n",
       "      <th>11</th>\n",
       "      <td>Party</td>\n",
       "      <td>1</td>\n",
       "      <td>783</td>\n",
       "      <td>1609</td>\n",
       "    </tr>\n",
       "    <tr>\n",
       "      <th>12</th>\n",
       "      <td>Party</td>\n",
       "      <td>2</td>\n",
       "      <td>715</td>\n",
       "      <td>1609</td>\n",
       "    </tr>\n",
       "    <tr>\n",
       "      <th>13</th>\n",
       "      <td>Party</td>\n",
       "      <td>3</td>\n",
       "      <td>40</td>\n",
       "      <td>1609</td>\n",
       "    </tr>\n",
       "    <tr>\n",
       "      <th>14</th>\n",
       "      <td>Party</td>\n",
       "      <td>4</td>\n",
       "      <td>1</td>\n",
       "      <td>1609</td>\n",
       "    </tr>\n",
       "    <tr>\n",
       "      <th>15</th>\n",
       "      <td>Social</td>\n",
       "      <td>0</td>\n",
       "      <td>13</td>\n",
       "      <td>222</td>\n",
       "    </tr>\n",
       "    <tr>\n",
       "      <th>16</th>\n",
       "      <td>Social</td>\n",
       "      <td>1</td>\n",
       "      <td>188</td>\n",
       "      <td>222</td>\n",
       "    </tr>\n",
       "    <tr>\n",
       "      <th>17</th>\n",
       "      <td>Social</td>\n",
       "      <td>2</td>\n",
       "      <td>21</td>\n",
       "      <td>222</td>\n",
       "    </tr>\n",
       "  </tbody>\n",
       "</table>\n",
       "</div>"
      ],
      "text/plain": [
       "   Institution Category Organization Rank  Number of Jobs  \\\n",
       "0            Government                 0              71   \n",
       "1            Government                 1            1015   \n",
       "2            Government                 2             166   \n",
       "3            Government                 3             204   \n",
       "4            Government                 4               5   \n",
       "5              Military                 0              43   \n",
       "6              Military                 1              60   \n",
       "7              Military                 2               9   \n",
       "8              Military                 3              60   \n",
       "9              Military                 4              19   \n",
       "10                Party                 0              70   \n",
       "11                Party                 1             783   \n",
       "12                Party                 2             715   \n",
       "13                Party                 3              40   \n",
       "14                Party                 4               1   \n",
       "15               Social                 0              13   \n",
       "16               Social                 1             188   \n",
       "17               Social                 2              21   \n",
       "\n",
       "    Total Jobs by Category  \n",
       "0                     1461  \n",
       "1                     1461  \n",
       "2                     1461  \n",
       "3                     1461  \n",
       "4                     1461  \n",
       "5                      191  \n",
       "6                      191  \n",
       "7                      191  \n",
       "8                      191  \n",
       "9                      191  \n",
       "10                    1609  \n",
       "11                    1609  \n",
       "12                    1609  \n",
       "13                    1609  \n",
       "14                    1609  \n",
       "15                     222  \n",
       "16                     222  \n",
       "17                     222  "
      ]
     },
     "execution_count": 95,
     "metadata": {},
     "output_type": "execute_result"
    }
   ],
   "source": [
    "stat8 = stat8.merge(stat8_catsum,on=\"Institution Category\",how=\"left\")\n",
    "stat8"
   ]
  },
  {
   "cell_type": "code",
   "execution_count": 98,
   "id": "3a8b26a9",
   "metadata": {},
   "outputs": [
    {
     "data": {
      "text/html": [
       "<div>\n",
       "<style scoped>\n",
       "    .dataframe tbody tr th:only-of-type {\n",
       "        vertical-align: middle;\n",
       "    }\n",
       "\n",
       "    .dataframe tbody tr th {\n",
       "        vertical-align: top;\n",
       "    }\n",
       "\n",
       "    .dataframe thead th {\n",
       "        text-align: right;\n",
       "    }\n",
       "</style>\n",
       "<table border=\"1\" class=\"dataframe\">\n",
       "  <thead>\n",
       "    <tr style=\"text-align: right;\">\n",
       "      <th></th>\n",
       "      <th>Institution Category</th>\n",
       "      <th>Organization Rank</th>\n",
       "      <th>Number of Jobs</th>\n",
       "      <th>Total Jobs by Category</th>\n",
       "      <th>Percent Jobs by Rank</th>\n",
       "    </tr>\n",
       "  </thead>\n",
       "  <tbody>\n",
       "    <tr>\n",
       "      <th>0</th>\n",
       "      <td>Government</td>\n",
       "      <td>0</td>\n",
       "      <td>71</td>\n",
       "      <td>1461</td>\n",
       "      <td>4.86</td>\n",
       "    </tr>\n",
       "    <tr>\n",
       "      <th>1</th>\n",
       "      <td>Government</td>\n",
       "      <td>1</td>\n",
       "      <td>1015</td>\n",
       "      <td>1461</td>\n",
       "      <td>69.47</td>\n",
       "    </tr>\n",
       "    <tr>\n",
       "      <th>2</th>\n",
       "      <td>Government</td>\n",
       "      <td>2</td>\n",
       "      <td>166</td>\n",
       "      <td>1461</td>\n",
       "      <td>11.36</td>\n",
       "    </tr>\n",
       "    <tr>\n",
       "      <th>3</th>\n",
       "      <td>Government</td>\n",
       "      <td>3</td>\n",
       "      <td>204</td>\n",
       "      <td>1461</td>\n",
       "      <td>13.96</td>\n",
       "    </tr>\n",
       "    <tr>\n",
       "      <th>4</th>\n",
       "      <td>Government</td>\n",
       "      <td>4</td>\n",
       "      <td>5</td>\n",
       "      <td>1461</td>\n",
       "      <td>0.34</td>\n",
       "    </tr>\n",
       "    <tr>\n",
       "      <th>5</th>\n",
       "      <td>Military</td>\n",
       "      <td>0</td>\n",
       "      <td>43</td>\n",
       "      <td>191</td>\n",
       "      <td>22.51</td>\n",
       "    </tr>\n",
       "    <tr>\n",
       "      <th>6</th>\n",
       "      <td>Military</td>\n",
       "      <td>1</td>\n",
       "      <td>60</td>\n",
       "      <td>191</td>\n",
       "      <td>31.41</td>\n",
       "    </tr>\n",
       "    <tr>\n",
       "      <th>7</th>\n",
       "      <td>Military</td>\n",
       "      <td>2</td>\n",
       "      <td>9</td>\n",
       "      <td>191</td>\n",
       "      <td>4.71</td>\n",
       "    </tr>\n",
       "    <tr>\n",
       "      <th>8</th>\n",
       "      <td>Military</td>\n",
       "      <td>3</td>\n",
       "      <td>60</td>\n",
       "      <td>191</td>\n",
       "      <td>31.41</td>\n",
       "    </tr>\n",
       "    <tr>\n",
       "      <th>9</th>\n",
       "      <td>Military</td>\n",
       "      <td>4</td>\n",
       "      <td>19</td>\n",
       "      <td>191</td>\n",
       "      <td>9.95</td>\n",
       "    </tr>\n",
       "    <tr>\n",
       "      <th>10</th>\n",
       "      <td>Party</td>\n",
       "      <td>0</td>\n",
       "      <td>70</td>\n",
       "      <td>1609</td>\n",
       "      <td>4.35</td>\n",
       "    </tr>\n",
       "    <tr>\n",
       "      <th>11</th>\n",
       "      <td>Party</td>\n",
       "      <td>1</td>\n",
       "      <td>783</td>\n",
       "      <td>1609</td>\n",
       "      <td>48.66</td>\n",
       "    </tr>\n",
       "    <tr>\n",
       "      <th>12</th>\n",
       "      <td>Party</td>\n",
       "      <td>2</td>\n",
       "      <td>715</td>\n",
       "      <td>1609</td>\n",
       "      <td>44.44</td>\n",
       "    </tr>\n",
       "    <tr>\n",
       "      <th>13</th>\n",
       "      <td>Party</td>\n",
       "      <td>3</td>\n",
       "      <td>40</td>\n",
       "      <td>1609</td>\n",
       "      <td>2.49</td>\n",
       "    </tr>\n",
       "    <tr>\n",
       "      <th>14</th>\n",
       "      <td>Party</td>\n",
       "      <td>4</td>\n",
       "      <td>1</td>\n",
       "      <td>1609</td>\n",
       "      <td>0.06</td>\n",
       "    </tr>\n",
       "    <tr>\n",
       "      <th>15</th>\n",
       "      <td>Social</td>\n",
       "      <td>0</td>\n",
       "      <td>13</td>\n",
       "      <td>222</td>\n",
       "      <td>5.86</td>\n",
       "    </tr>\n",
       "    <tr>\n",
       "      <th>16</th>\n",
       "      <td>Social</td>\n",
       "      <td>1</td>\n",
       "      <td>188</td>\n",
       "      <td>222</td>\n",
       "      <td>84.68</td>\n",
       "    </tr>\n",
       "    <tr>\n",
       "      <th>17</th>\n",
       "      <td>Social</td>\n",
       "      <td>2</td>\n",
       "      <td>21</td>\n",
       "      <td>222</td>\n",
       "      <td>9.46</td>\n",
       "    </tr>\n",
       "  </tbody>\n",
       "</table>\n",
       "</div>"
      ],
      "text/plain": [
       "   Institution Category Organization Rank  Number of Jobs  \\\n",
       "0            Government                 0              71   \n",
       "1            Government                 1            1015   \n",
       "2            Government                 2             166   \n",
       "3            Government                 3             204   \n",
       "4            Government                 4               5   \n",
       "5              Military                 0              43   \n",
       "6              Military                 1              60   \n",
       "7              Military                 2               9   \n",
       "8              Military                 3              60   \n",
       "9              Military                 4              19   \n",
       "10                Party                 0              70   \n",
       "11                Party                 1             783   \n",
       "12                Party                 2             715   \n",
       "13                Party                 3              40   \n",
       "14                Party                 4               1   \n",
       "15               Social                 0              13   \n",
       "16               Social                 1             188   \n",
       "17               Social                 2              21   \n",
       "\n",
       "    Total Jobs by Category  Percent Jobs by Rank  \n",
       "0                     1461                  4.86  \n",
       "1                     1461                 69.47  \n",
       "2                     1461                 11.36  \n",
       "3                     1461                 13.96  \n",
       "4                     1461                  0.34  \n",
       "5                      191                 22.51  \n",
       "6                      191                 31.41  \n",
       "7                      191                  4.71  \n",
       "8                      191                 31.41  \n",
       "9                      191                  9.95  \n",
       "10                    1609                  4.35  \n",
       "11                    1609                 48.66  \n",
       "12                    1609                 44.44  \n",
       "13                    1609                  2.49  \n",
       "14                    1609                  0.06  \n",
       "15                     222                  5.86  \n",
       "16                     222                 84.68  \n",
       "17                     222                  9.46  "
      ]
     },
     "execution_count": 98,
     "metadata": {},
     "output_type": "execute_result"
    }
   ],
   "source": [
    "stat8[\"Percent Jobs by Rank\"] = round(stat8[\"Number of Jobs\"] / stat8[\"Total Jobs by Category\"] * 100,2)\n",
    "stat8"
   ]
  },
  {
   "cell_type": "markdown",
   "id": "609ab5d7",
   "metadata": {},
   "source": [
    "### job stat9 - Number of Jobs by Position Rank"
   ]
  },
  {
   "cell_type": "code",
   "execution_count": 99,
   "id": "d95480f6",
   "metadata": {},
   "outputs": [],
   "source": [
    "stat9_columns = [\"PositionRank\",\"OrgName\"]\n",
    "stat9_groupby_columns = [\"PositionRank\"]\n",
    "stat9_column_labels = [\"Position Rank\",\"Number of Jobs\"]"
   ]
  },
  {
   "cell_type": "code",
   "execution_count": 100,
   "id": "24f32f29",
   "metadata": {},
   "outputs": [
    {
     "data": {
      "text/html": [
       "<div>\n",
       "<style scoped>\n",
       "    .dataframe tbody tr th:only-of-type {\n",
       "        vertical-align: middle;\n",
       "    }\n",
       "\n",
       "    .dataframe tbody tr th {\n",
       "        vertical-align: top;\n",
       "    }\n",
       "\n",
       "    .dataframe thead th {\n",
       "        text-align: right;\n",
       "    }\n",
       "</style>\n",
       "<table border=\"1\" class=\"dataframe\">\n",
       "  <thead>\n",
       "    <tr style=\"text-align: right;\">\n",
       "      <th></th>\n",
       "      <th>Position Rank</th>\n",
       "      <th>Number of Jobs</th>\n",
       "    </tr>\n",
       "  </thead>\n",
       "  <tbody>\n",
       "    <tr>\n",
       "      <th>0</th>\n",
       "      <td>1</td>\n",
       "      <td>1401</td>\n",
       "    </tr>\n",
       "    <tr>\n",
       "      <th>1</th>\n",
       "      <td>2</td>\n",
       "      <td>735</td>\n",
       "    </tr>\n",
       "    <tr>\n",
       "      <th>2</th>\n",
       "      <td>3</td>\n",
       "      <td>1347</td>\n",
       "    </tr>\n",
       "  </tbody>\n",
       "</table>\n",
       "</div>"
      ],
      "text/plain": [
       "  Position Rank  Number of Jobs\n",
       "0             1            1401\n",
       "1             2             735\n",
       "2             3            1347"
      ]
     },
     "execution_count": 100,
     "metadata": {},
     "output_type": "execute_result"
    }
   ],
   "source": [
    "# use job5, which is job2 + Local variable from orgtree\n",
    "stat9 = jobs5[stat9_columns].groupby(stat9_groupby_columns,as_index=False).count()\n",
    "stat9.columns = stat9_column_labels\n",
    "stat9"
   ]
  },
  {
   "cell_type": "code",
   "execution_count": null,
   "id": "21cdedb7",
   "metadata": {},
   "outputs": [],
   "source": []
  },
  {
   "cell_type": "code",
   "execution_count": null,
   "id": "b6d852f8",
   "metadata": {},
   "outputs": [],
   "source": []
  },
  {
   "cell_type": "markdown",
   "id": "6a6f275c",
   "metadata": {},
   "source": [
    "### job stat10 - Percent of Jobs by Position Rank, for each Institution Category"
   ]
  },
  {
   "cell_type": "code",
   "execution_count": 101,
   "id": "741fb1af",
   "metadata": {},
   "outputs": [],
   "source": [
    "stat10_columns = [\"InstitutionCategory\",\"PositionRank\",\"OrgName\"]\n",
    "stat10_groupby_columns = [\"InstitutionCategory\",\"PositionRank\"]\n",
    "stat10_column_labels = [\"Institution Category\",\"Position Rank\",\"Number of Jobs\"]"
   ]
  },
  {
   "cell_type": "code",
   "execution_count": 102,
   "id": "7b86c2c4",
   "metadata": {
    "scrolled": true
   },
   "outputs": [
    {
     "data": {
      "text/html": [
       "<div>\n",
       "<style scoped>\n",
       "    .dataframe tbody tr th:only-of-type {\n",
       "        vertical-align: middle;\n",
       "    }\n",
       "\n",
       "    .dataframe tbody tr th {\n",
       "        vertical-align: top;\n",
       "    }\n",
       "\n",
       "    .dataframe thead th {\n",
       "        text-align: right;\n",
       "    }\n",
       "</style>\n",
       "<table border=\"1\" class=\"dataframe\">\n",
       "  <thead>\n",
       "    <tr style=\"text-align: right;\">\n",
       "      <th></th>\n",
       "      <th>Institution Category</th>\n",
       "      <th>Position Rank</th>\n",
       "      <th>Number of Jobs</th>\n",
       "    </tr>\n",
       "  </thead>\n",
       "  <tbody>\n",
       "    <tr>\n",
       "      <th>0</th>\n",
       "      <td>Government</td>\n",
       "      <td>1</td>\n",
       "      <td>779</td>\n",
       "    </tr>\n",
       "    <tr>\n",
       "      <th>1</th>\n",
       "      <td>Government</td>\n",
       "      <td>2</td>\n",
       "      <td>326</td>\n",
       "    </tr>\n",
       "    <tr>\n",
       "      <th>2</th>\n",
       "      <td>Government</td>\n",
       "      <td>3</td>\n",
       "      <td>356</td>\n",
       "    </tr>\n",
       "    <tr>\n",
       "      <th>3</th>\n",
       "      <td>Military</td>\n",
       "      <td>1</td>\n",
       "      <td>146</td>\n",
       "    </tr>\n",
       "    <tr>\n",
       "      <th>4</th>\n",
       "      <td>Military</td>\n",
       "      <td>2</td>\n",
       "      <td>37</td>\n",
       "    </tr>\n",
       "    <tr>\n",
       "      <th>5</th>\n",
       "      <td>Military</td>\n",
       "      <td>3</td>\n",
       "      <td>8</td>\n",
       "    </tr>\n",
       "    <tr>\n",
       "      <th>6</th>\n",
       "      <td>Party</td>\n",
       "      <td>1</td>\n",
       "      <td>363</td>\n",
       "    </tr>\n",
       "    <tr>\n",
       "      <th>7</th>\n",
       "      <td>Party</td>\n",
       "      <td>2</td>\n",
       "      <td>310</td>\n",
       "    </tr>\n",
       "    <tr>\n",
       "      <th>8</th>\n",
       "      <td>Party</td>\n",
       "      <td>3</td>\n",
       "      <td>936</td>\n",
       "    </tr>\n",
       "    <tr>\n",
       "      <th>9</th>\n",
       "      <td>Social</td>\n",
       "      <td>1</td>\n",
       "      <td>113</td>\n",
       "    </tr>\n",
       "    <tr>\n",
       "      <th>10</th>\n",
       "      <td>Social</td>\n",
       "      <td>2</td>\n",
       "      <td>62</td>\n",
       "    </tr>\n",
       "    <tr>\n",
       "      <th>11</th>\n",
       "      <td>Social</td>\n",
       "      <td>3</td>\n",
       "      <td>47</td>\n",
       "    </tr>\n",
       "  </tbody>\n",
       "</table>\n",
       "</div>"
      ],
      "text/plain": [
       "   Institution Category Position Rank  Number of Jobs\n",
       "0            Government             1             779\n",
       "1            Government             2             326\n",
       "2            Government             3             356\n",
       "3              Military             1             146\n",
       "4              Military             2              37\n",
       "5              Military             3               8\n",
       "6                 Party             1             363\n",
       "7                 Party             2             310\n",
       "8                 Party             3             936\n",
       "9                Social             1             113\n",
       "10               Social             2              62\n",
       "11               Social             3              47"
      ]
     },
     "execution_count": 102,
     "metadata": {},
     "output_type": "execute_result"
    }
   ],
   "source": [
    "# use job5, which is job2 + Local variable from orgtree\n",
    "stat10 = jobs5[stat10_columns].groupby(stat10_groupby_columns,as_index=False).count()\n",
    "stat10.columns = stat10_column_labels\n",
    "stat10"
   ]
  },
  {
   "cell_type": "code",
   "execution_count": 103,
   "id": "1c119ac2",
   "metadata": {},
   "outputs": [
    {
     "data": {
      "text/html": [
       "<div>\n",
       "<style scoped>\n",
       "    .dataframe tbody tr th:only-of-type {\n",
       "        vertical-align: middle;\n",
       "    }\n",
       "\n",
       "    .dataframe tbody tr th {\n",
       "        vertical-align: top;\n",
       "    }\n",
       "\n",
       "    .dataframe thead th {\n",
       "        text-align: right;\n",
       "    }\n",
       "</style>\n",
       "<table border=\"1\" class=\"dataframe\">\n",
       "  <thead>\n",
       "    <tr style=\"text-align: right;\">\n",
       "      <th></th>\n",
       "      <th>Institution Category</th>\n",
       "      <th>Total Jobs by Category</th>\n",
       "    </tr>\n",
       "  </thead>\n",
       "  <tbody>\n",
       "    <tr>\n",
       "      <th>0</th>\n",
       "      <td>Government</td>\n",
       "      <td>1461</td>\n",
       "    </tr>\n",
       "    <tr>\n",
       "      <th>1</th>\n",
       "      <td>Military</td>\n",
       "      <td>191</td>\n",
       "    </tr>\n",
       "    <tr>\n",
       "      <th>2</th>\n",
       "      <td>Party</td>\n",
       "      <td>1609</td>\n",
       "    </tr>\n",
       "    <tr>\n",
       "      <th>3</th>\n",
       "      <td>Social</td>\n",
       "      <td>222</td>\n",
       "    </tr>\n",
       "  </tbody>\n",
       "</table>\n",
       "</div>"
      ],
      "text/plain": [
       "  Institution Category  Total Jobs by Category\n",
       "0           Government                    1461\n",
       "1             Military                     191\n",
       "2                Party                    1609\n",
       "3               Social                     222"
      ]
     },
     "execution_count": 103,
     "metadata": {},
     "output_type": "execute_result"
    }
   ],
   "source": [
    "stat10_catsum_columns = [\"Institution Category\",\"Number of Jobs\"]\n",
    "stat10_catsum_groupby_columns = [\"Institution Category\"]\n",
    "stat10_catsum_column_labels = [\"Institution Category\",\"Total Jobs by Category\"]\n",
    "stat10_catsum = stat10[stat10_catsum_columns].groupby(stat10_catsum_groupby_columns,as_index=False).agg({\"Number of Jobs\":\"sum\"})\n",
    "stat10_catsum.columns = stat10_catsum_column_labels\n",
    "stat10_catsum"
   ]
  },
  {
   "cell_type": "code",
   "execution_count": 104,
   "id": "7f15bc97",
   "metadata": {},
   "outputs": [
    {
     "data": {
      "text/html": [
       "<div>\n",
       "<style scoped>\n",
       "    .dataframe tbody tr th:only-of-type {\n",
       "        vertical-align: middle;\n",
       "    }\n",
       "\n",
       "    .dataframe tbody tr th {\n",
       "        vertical-align: top;\n",
       "    }\n",
       "\n",
       "    .dataframe thead th {\n",
       "        text-align: right;\n",
       "    }\n",
       "</style>\n",
       "<table border=\"1\" class=\"dataframe\">\n",
       "  <thead>\n",
       "    <tr style=\"text-align: right;\">\n",
       "      <th></th>\n",
       "      <th>Institution Category</th>\n",
       "      <th>Position Rank</th>\n",
       "      <th>Number of Jobs</th>\n",
       "      <th>Total Jobs by Category</th>\n",
       "    </tr>\n",
       "  </thead>\n",
       "  <tbody>\n",
       "    <tr>\n",
       "      <th>0</th>\n",
       "      <td>Government</td>\n",
       "      <td>1</td>\n",
       "      <td>779</td>\n",
       "      <td>1461</td>\n",
       "    </tr>\n",
       "    <tr>\n",
       "      <th>1</th>\n",
       "      <td>Government</td>\n",
       "      <td>2</td>\n",
       "      <td>326</td>\n",
       "      <td>1461</td>\n",
       "    </tr>\n",
       "    <tr>\n",
       "      <th>2</th>\n",
       "      <td>Government</td>\n",
       "      <td>3</td>\n",
       "      <td>356</td>\n",
       "      <td>1461</td>\n",
       "    </tr>\n",
       "    <tr>\n",
       "      <th>3</th>\n",
       "      <td>Military</td>\n",
       "      <td>1</td>\n",
       "      <td>146</td>\n",
       "      <td>191</td>\n",
       "    </tr>\n",
       "    <tr>\n",
       "      <th>4</th>\n",
       "      <td>Military</td>\n",
       "      <td>2</td>\n",
       "      <td>37</td>\n",
       "      <td>191</td>\n",
       "    </tr>\n",
       "    <tr>\n",
       "      <th>5</th>\n",
       "      <td>Military</td>\n",
       "      <td>3</td>\n",
       "      <td>8</td>\n",
       "      <td>191</td>\n",
       "    </tr>\n",
       "    <tr>\n",
       "      <th>6</th>\n",
       "      <td>Party</td>\n",
       "      <td>1</td>\n",
       "      <td>363</td>\n",
       "      <td>1609</td>\n",
       "    </tr>\n",
       "    <tr>\n",
       "      <th>7</th>\n",
       "      <td>Party</td>\n",
       "      <td>2</td>\n",
       "      <td>310</td>\n",
       "      <td>1609</td>\n",
       "    </tr>\n",
       "    <tr>\n",
       "      <th>8</th>\n",
       "      <td>Party</td>\n",
       "      <td>3</td>\n",
       "      <td>936</td>\n",
       "      <td>1609</td>\n",
       "    </tr>\n",
       "    <tr>\n",
       "      <th>9</th>\n",
       "      <td>Social</td>\n",
       "      <td>1</td>\n",
       "      <td>113</td>\n",
       "      <td>222</td>\n",
       "    </tr>\n",
       "    <tr>\n",
       "      <th>10</th>\n",
       "      <td>Social</td>\n",
       "      <td>2</td>\n",
       "      <td>62</td>\n",
       "      <td>222</td>\n",
       "    </tr>\n",
       "    <tr>\n",
       "      <th>11</th>\n",
       "      <td>Social</td>\n",
       "      <td>3</td>\n",
       "      <td>47</td>\n",
       "      <td>222</td>\n",
       "    </tr>\n",
       "  </tbody>\n",
       "</table>\n",
       "</div>"
      ],
      "text/plain": [
       "   Institution Category Position Rank  Number of Jobs  Total Jobs by Category\n",
       "0            Government             1             779                    1461\n",
       "1            Government             2             326                    1461\n",
       "2            Government             3             356                    1461\n",
       "3              Military             1             146                     191\n",
       "4              Military             2              37                     191\n",
       "5              Military             3               8                     191\n",
       "6                 Party             1             363                    1609\n",
       "7                 Party             2             310                    1609\n",
       "8                 Party             3             936                    1609\n",
       "9                Social             1             113                     222\n",
       "10               Social             2              62                     222\n",
       "11               Social             3              47                     222"
      ]
     },
     "execution_count": 104,
     "metadata": {},
     "output_type": "execute_result"
    }
   ],
   "source": [
    "stat10 = stat10.merge(stat10_catsum,on=\"Institution Category\",how=\"left\")\n",
    "stat10"
   ]
  },
  {
   "cell_type": "code",
   "execution_count": 106,
   "id": "c1e59f2f",
   "metadata": {},
   "outputs": [
    {
     "data": {
      "text/html": [
       "<div>\n",
       "<style scoped>\n",
       "    .dataframe tbody tr th:only-of-type {\n",
       "        vertical-align: middle;\n",
       "    }\n",
       "\n",
       "    .dataframe tbody tr th {\n",
       "        vertical-align: top;\n",
       "    }\n",
       "\n",
       "    .dataframe thead th {\n",
       "        text-align: right;\n",
       "    }\n",
       "</style>\n",
       "<table border=\"1\" class=\"dataframe\">\n",
       "  <thead>\n",
       "    <tr style=\"text-align: right;\">\n",
       "      <th></th>\n",
       "      <th>Institution Category</th>\n",
       "      <th>Position Rank</th>\n",
       "      <th>Number of Jobs</th>\n",
       "      <th>Total Jobs by Category</th>\n",
       "      <th>Percent Jobs by Rank</th>\n",
       "    </tr>\n",
       "  </thead>\n",
       "  <tbody>\n",
       "    <tr>\n",
       "      <th>0</th>\n",
       "      <td>Government</td>\n",
       "      <td>1</td>\n",
       "      <td>779</td>\n",
       "      <td>1461</td>\n",
       "      <td>53.32</td>\n",
       "    </tr>\n",
       "    <tr>\n",
       "      <th>1</th>\n",
       "      <td>Government</td>\n",
       "      <td>2</td>\n",
       "      <td>326</td>\n",
       "      <td>1461</td>\n",
       "      <td>22.31</td>\n",
       "    </tr>\n",
       "    <tr>\n",
       "      <th>2</th>\n",
       "      <td>Government</td>\n",
       "      <td>3</td>\n",
       "      <td>356</td>\n",
       "      <td>1461</td>\n",
       "      <td>24.37</td>\n",
       "    </tr>\n",
       "    <tr>\n",
       "      <th>3</th>\n",
       "      <td>Military</td>\n",
       "      <td>1</td>\n",
       "      <td>146</td>\n",
       "      <td>191</td>\n",
       "      <td>76.44</td>\n",
       "    </tr>\n",
       "    <tr>\n",
       "      <th>4</th>\n",
       "      <td>Military</td>\n",
       "      <td>2</td>\n",
       "      <td>37</td>\n",
       "      <td>191</td>\n",
       "      <td>19.37</td>\n",
       "    </tr>\n",
       "    <tr>\n",
       "      <th>5</th>\n",
       "      <td>Military</td>\n",
       "      <td>3</td>\n",
       "      <td>8</td>\n",
       "      <td>191</td>\n",
       "      <td>4.19</td>\n",
       "    </tr>\n",
       "    <tr>\n",
       "      <th>6</th>\n",
       "      <td>Party</td>\n",
       "      <td>1</td>\n",
       "      <td>363</td>\n",
       "      <td>1609</td>\n",
       "      <td>22.56</td>\n",
       "    </tr>\n",
       "    <tr>\n",
       "      <th>7</th>\n",
       "      <td>Party</td>\n",
       "      <td>2</td>\n",
       "      <td>310</td>\n",
       "      <td>1609</td>\n",
       "      <td>19.27</td>\n",
       "    </tr>\n",
       "    <tr>\n",
       "      <th>8</th>\n",
       "      <td>Party</td>\n",
       "      <td>3</td>\n",
       "      <td>936</td>\n",
       "      <td>1609</td>\n",
       "      <td>58.17</td>\n",
       "    </tr>\n",
       "    <tr>\n",
       "      <th>9</th>\n",
       "      <td>Social</td>\n",
       "      <td>1</td>\n",
       "      <td>113</td>\n",
       "      <td>222</td>\n",
       "      <td>50.90</td>\n",
       "    </tr>\n",
       "    <tr>\n",
       "      <th>10</th>\n",
       "      <td>Social</td>\n",
       "      <td>2</td>\n",
       "      <td>62</td>\n",
       "      <td>222</td>\n",
       "      <td>27.93</td>\n",
       "    </tr>\n",
       "    <tr>\n",
       "      <th>11</th>\n",
       "      <td>Social</td>\n",
       "      <td>3</td>\n",
       "      <td>47</td>\n",
       "      <td>222</td>\n",
       "      <td>21.17</td>\n",
       "    </tr>\n",
       "  </tbody>\n",
       "</table>\n",
       "</div>"
      ],
      "text/plain": [
       "   Institution Category Position Rank  Number of Jobs  Total Jobs by Category  \\\n",
       "0            Government             1             779                    1461   \n",
       "1            Government             2             326                    1461   \n",
       "2            Government             3             356                    1461   \n",
       "3              Military             1             146                     191   \n",
       "4              Military             2              37                     191   \n",
       "5              Military             3               8                     191   \n",
       "6                 Party             1             363                    1609   \n",
       "7                 Party             2             310                    1609   \n",
       "8                 Party             3             936                    1609   \n",
       "9                Social             1             113                     222   \n",
       "10               Social             2              62                     222   \n",
       "11               Social             3              47                     222   \n",
       "\n",
       "    Percent Jobs by Rank  \n",
       "0                  53.32  \n",
       "1                  22.31  \n",
       "2                  24.37  \n",
       "3                  76.44  \n",
       "4                  19.37  \n",
       "5                   4.19  \n",
       "6                  22.56  \n",
       "7                  19.27  \n",
       "8                  58.17  \n",
       "9                  50.90  \n",
       "10                 27.93  \n",
       "11                 21.17  "
      ]
     },
     "execution_count": 106,
     "metadata": {},
     "output_type": "execute_result"
    }
   ],
   "source": [
    "stat10[\"Percent Jobs by Rank\"] = round(stat10[\"Number of Jobs\"] / stat10[\"Total Jobs by Category\"] * 100,2)\n",
    "stat10"
   ]
  },
  {
   "cell_type": "code",
   "execution_count": null,
   "id": "d41cbf5f",
   "metadata": {},
   "outputs": [],
   "source": []
  },
  {
   "cell_type": "code",
   "execution_count": null,
   "id": "8f21093f",
   "metadata": {},
   "outputs": [],
   "source": []
  },
  {
   "cell_type": "code",
   "execution_count": null,
   "id": "d149e214",
   "metadata": {},
   "outputs": [],
   "source": []
  }
 ],
 "metadata": {
  "kernelspec": {
   "display_name": "Python 3 (ipykernel)",
   "language": "python",
   "name": "python3"
  },
  "language_info": {
   "codemirror_mode": {
    "name": "ipython",
    "version": 3
   },
   "file_extension": ".py",
   "mimetype": "text/x-python",
   "name": "python",
   "nbconvert_exporter": "python",
   "pygments_lexer": "ipython3",
   "version": "3.11.5"
  }
 },
 "nbformat": 4,
 "nbformat_minor": 5
}
