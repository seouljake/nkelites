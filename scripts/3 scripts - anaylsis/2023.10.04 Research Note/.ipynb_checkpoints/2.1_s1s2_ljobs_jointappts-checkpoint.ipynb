{
 "cells": [
  {
   "cell_type": "code",
   "execution_count": 1,
   "id": "74698cf3",
   "metadata": {},
   "outputs": [],
   "source": [
    "import pandas as pd\n",
    "import numpy as np\n",
    "from datetime import date\n",
    "from statistics import mean, mode\n",
    "from pandas.api.types import CategoricalDtype\n",
    "import math\n",
    "from scipy.stats import norm"
   ]
  },
  {
   "cell_type": "code",
   "execution_count": 2,
   "id": "75aa1647",
   "metadata": {},
   "outputs": [
    {
     "name": "stdout",
     "output_type": "stream",
     "text": [
      "2024-02-16\n"
     ]
    }
   ],
   "source": [
    "today = date.today()\n",
    "print(today)"
   ]
  },
  {
   "cell_type": "markdown",
   "id": "aaf25c71",
   "metadata": {},
   "source": [
    "# Tables"
   ]
  },
  {
   "cell_type": "code",
   "execution_count": 3,
   "id": "f2c9c339",
   "metadata": {},
   "outputs": [],
   "source": [
    "path_tables = \"C:/Users/seoul/Dropbox/00 technical/github/nkelites/data/combined data/combined data - 2 tables/\""
   ]
  },
  {
   "cell_type": "code",
   "execution_count": 4,
   "id": "200fa7f5",
   "metadata": {},
   "outputs": [],
   "source": [
    "# tables\n",
    "filename_careerorglink = \"careerorglink.xlsx\"\n",
    "filename_leadercareerlink = \"leadercareerlink.xlsx\"\n",
    "filename_orgtree = \"orgtree.xlsx\"\n",
    "filename_elected = \"positions_elected.xlsx\""
   ]
  },
  {
   "cell_type": "code",
   "execution_count": 5,
   "id": "b7d9b165",
   "metadata": {
    "scrolled": true
   },
   "outputs": [
    {
     "data": {
      "text/plain": [
       "(9002, 12)"
      ]
     },
     "execution_count": 5,
     "metadata": {},
     "output_type": "execute_result"
    }
   ],
   "source": [
    "# career-org link\n",
    "col = pd.read_excel(path_tables + filename_careerorglink,dtype=\"str\")\n",
    "col.shape"
   ]
  },
  {
   "cell_type": "code",
   "execution_count": 6,
   "id": "0bd17a8f",
   "metadata": {},
   "outputs": [
    {
     "data": {
      "text/plain": [
       "Index(['CareerString', 'CareerDateString_2022', 'IsJob', 'MultipleSubstrings',\n",
       "       'CareerStartYear', 'CareerStartMonth', 'CareerSubstring',\n",
       "       'InstitutionType', 'PrimaryInstitution', 'OrgName', 'Position',\n",
       "       'Notes'],\n",
       "      dtype='object')"
      ]
     },
     "execution_count": 6,
     "metadata": {},
     "output_type": "execute_result"
    }
   ],
   "source": [
    "col.columns"
   ]
  },
  {
   "cell_type": "code",
   "execution_count": 7,
   "id": "4aa22e14",
   "metadata": {},
   "outputs": [],
   "source": [
    "# leader-career link\n",
    "# lcl = pd.read_excel(path_tables + filename_leadercareerlink,dtype=\"str\")\n",
    "# lcl.shape"
   ]
  },
  {
   "cell_type": "code",
   "execution_count": 8,
   "id": "ac0f5205",
   "metadata": {},
   "outputs": [],
   "source": [
    "# lcl.columns"
   ]
  },
  {
   "cell_type": "code",
   "execution_count": 9,
   "id": "44ba37bd",
   "metadata": {},
   "outputs": [],
   "source": [
    "# orgtree\n",
    "# org = pd.read_excel(path_tables + filename_orgtree,dtype=\"str\")\n",
    "# org.shape"
   ]
  },
  {
   "cell_type": "code",
   "execution_count": 10,
   "id": "05b6e3e8",
   "metadata": {},
   "outputs": [],
   "source": [
    "# org.columns"
   ]
  },
  {
   "cell_type": "code",
   "execution_count": 11,
   "id": "b93b05ba",
   "metadata": {},
   "outputs": [],
   "source": [
    "# elected = pd.read_excel(path_tables + filename_elected,dtype=\"str\")\n",
    "# elected.shape"
   ]
  },
  {
   "cell_type": "code",
   "execution_count": 12,
   "id": "011dfaa4",
   "metadata": {},
   "outputs": [],
   "source": [
    "# elected.columns"
   ]
  },
  {
   "cell_type": "markdown",
   "id": "52841326",
   "metadata": {},
   "source": [
    "# Queries"
   ]
  },
  {
   "cell_type": "code",
   "execution_count": 13,
   "id": "df5b44ce",
   "metadata": {},
   "outputs": [],
   "source": [
    "path_queries = \"C:/Users/seoul/Dropbox/00 technical/github/nkelites/data/combined data/combined data - 3 queries/\""
   ]
  },
  {
   "cell_type": "code",
   "execution_count": 14,
   "id": "4fa255b3",
   "metadata": {},
   "outputs": [],
   "source": [
    "filename_leaderjob_all = \"leaderjob_electUnelect_inOutgov.xlsx\"\n",
    "filename_leaderjob_no_spa = \"leaderjob_no_spa.xlsx\"\n",
    "filename_leaderjobtransition_no_spa = \"leaderjobtransition_no_spa.xlsx\""
   ]
  },
  {
   "cell_type": "code",
   "execution_count": 15,
   "id": "45955b23",
   "metadata": {},
   "outputs": [],
   "source": [
    "# leader job - all\n",
    "# ljobs_all = pd.read_excel(path_queries + filename_leaderjob_all,dtype=\"str\")\n",
    "# ljobs_all.shape"
   ]
  },
  {
   "cell_type": "code",
   "execution_count": 16,
   "id": "96354cc9",
   "metadata": {},
   "outputs": [
    {
     "data": {
      "text/plain": [
       "(6047, 15)"
      ]
     },
     "execution_count": 16,
     "metadata": {},
     "output_type": "execute_result"
    }
   ],
   "source": [
    "# leader job - no spa\n",
    "ljobs = pd.read_excel(path_queries + filename_leaderjob_no_spa,dtype=\"str\")\n",
    "ljobs.shape"
   ]
  },
  {
   "cell_type": "code",
   "execution_count": 17,
   "id": "7acaab44",
   "metadata": {},
   "outputs": [
    {
     "data": {
      "text/plain": [
       "Index(['LeaderID', 'CareerString', 'CareerDateString_2022', 'CareerStartYear',\n",
       "       'CareerStartMonth', 'CareerStartDate', 'CareerSubstring',\n",
       "       'InstitutionType', 'PrimaryInstitution', 'OrgName', 'Local', 'Position',\n",
       "       'IsElected', 'OrgRank', 'PositionRank'],\n",
       "      dtype='object')"
      ]
     },
     "execution_count": 17,
     "metadata": {},
     "output_type": "execute_result"
    }
   ],
   "source": [
    "ljobs.columns"
   ]
  },
  {
   "cell_type": "code",
   "execution_count": 18,
   "id": "31cb5cd4",
   "metadata": {},
   "outputs": [
    {
     "data": {
      "text/plain": [
       "(4306, 31)"
      ]
     },
     "execution_count": 18,
     "metadata": {},
     "output_type": "execute_result"
    }
   ],
   "source": [
    "# transitions used for analysis - no SPA - no local-local\n",
    "trans = pd.read_excel(path_queries + filename_leaderjobtransition_no_spa,dtype=\"str\")\n",
    "trans.shape"
   ]
  },
  {
   "cell_type": "code",
   "execution_count": 19,
   "id": "3297673d",
   "metadata": {},
   "outputs": [
    {
     "data": {
      "text/plain": [
       "Index(['LeaderID', 'CareerString_1', 'CareerDateString_2022_1',\n",
       "       'CareerStartYear_1', 'CareerStartMonth_1', 'CareerStartDate_1',\n",
       "       'CareerSubstring_1', 'InstitutionType_1', 'PrimaryInstitution_1',\n",
       "       'OrgName_1', 'Local_1', 'Position_1', 'IsElected_1', 'OrgRank_1',\n",
       "       'PositionRank_1', 'CareerString_2', 'CareerDateString_2022_2',\n",
       "       'CareerStartYear_2', 'CareerStartMonth_2', 'CareerStartDate_2',\n",
       "       'CareerSubstring_2', 'InstitutionType_2', 'PrimaryInstitution_2',\n",
       "       'OrgName_2', 'Local_2', 'Position_2', 'IsElected_2', 'OrgRank_2',\n",
       "       'PositionRank_2', 'OrgAdvance', 'PositionAdvance'],\n",
       "      dtype='object')"
      ]
     },
     "execution_count": 19,
     "metadata": {},
     "output_type": "execute_result"
    }
   ],
   "source": [
    "trans.columns"
   ]
  },
  {
   "cell_type": "markdown",
   "id": "16c49e74",
   "metadata": {},
   "source": [
    "# Analysis - Research Note"
   ]
  },
  {
   "cell_type": "code",
   "execution_count": 20,
   "id": "39648498",
   "metadata": {},
   "outputs": [],
   "source": [
    "path_analysis = \"C:/Users/seoul/Dropbox/00 technical/github/nkelites/analysis/\""
   ]
  },
  {
   "cell_type": "code",
   "execution_count": 21,
   "id": "72a5cd0f",
   "metadata": {},
   "outputs": [],
   "source": [
    "# analysis sub-paths\n",
    "study0_path = \"2023.10.04 Study 0 - research note/\"\n",
    "study1_path = \"2023.10.04 Study 1 - political capital/\"\n",
    "study2_path = \"2023.10.04 Study 2 - commitment vs control/\"\n",
    "study3_path = \"2023.10.04 Study 3 - reds vs experts/\""
   ]
  },
  {
   "cell_type": "code",
   "execution_count": 22,
   "id": "27470b4e",
   "metadata": {},
   "outputs": [],
   "source": [
    "# ljobs = ljobs.astype({\"CareerStartYear\":\"int\",\"CareerStartDate\":\"int\"})\n",
    "# ljobs.dtypes"
   ]
  },
  {
   "cell_type": "markdown",
   "id": "7d59db9d",
   "metadata": {},
   "source": [
    "# Functions"
   ]
  },
  {
   "cell_type": "code",
   "execution_count": 23,
   "id": "ba5de424",
   "metadata": {},
   "outputs": [],
   "source": [
    "def merge_results(m):\n",
    "    \n",
    "    print(\"\\nMerge Results...\")\n",
    "    print(\"\")\n",
    "    print(\"\\tshape     :\",m.shape)\n",
    "    print(\"\\tleft_only :\",m[m[\"_merge\"]==\"left_only\"].shape)\n",
    "    print(\"\\tboth      :\",m[m[\"_merge\"]==\"both\"].shape)\n",
    "    print(\"\\tright_only:\",m[m[\"_merge\"]==\"right_only\"].shape)"
   ]
  },
  {
   "cell_type": "code",
   "execution_count": 24,
   "id": "d3411709",
   "metadata": {},
   "outputs": [],
   "source": [
    "# using this on (PI,OrgName) will ensure unique & non-null keys\n",
    "# using this on a larger df will ensure unique rows and non-null keys, but not unique keys\n",
    "\n",
    "def unique_non_null_rows(olddf):\n",
    "    \n",
    "    df = olddf.copy()\n",
    "    \n",
    "    \n",
    "    ### drop duplicates\n",
    "    df = df.drop_duplicates(keep=\"first\",ignore_index=True)\n",
    "\n",
    "    ### drop null rows\n",
    "    df.dropna(how=\"all\",axis=0,inplace=True)\n",
    "    \n",
    "    # drop rows with null PI\n",
    "    df = df[~(df[\"PrimaryInstitution\"].isna())]\n",
    "        \n",
    "    ### drop rows where PI contains stop words\n",
    "    stop_words_lower = [\"uncertain\",\"current\",\"deprecated\",\"please_revise\"]\n",
    "    df = df[ ~ df[\"PrimaryInstitution\"].str.lower().isin(stop_words_lower)]\n",
    "            \n",
    "\n",
    "    print(\"\\nUnique Non-null Rows...\")\n",
    "    print(\"\")\n",
    "    print(\"\\tNon-unique rows:\",olddf.shape)\n",
    "    print(\"\\tUnique rows    :\",df.shape)\n",
    "\n",
    "    ### sort\n",
    "    df = df.sort_values([\"PrimaryInstitution\",\"OrgName\"])\n",
    "    \n",
    "    return df"
   ]
  },
  {
   "cell_type": "code",
   "execution_count": 25,
   "id": "945f13c9",
   "metadata": {},
   "outputs": [],
   "source": [
    "def create_time_series(series,group_var,count_var):\n",
    "    \n",
    "    yeardist = series.groupby(group_var,as_index=False).count().sort_values(group_var)\n",
    "    \n",
    "    max_year = max(series[group_var])\n",
    "    x = pd.DataFrame({\"year\":pd.Series(range(min(yeardist[group_var].astype(int)),max(yeardist[group_var].astype(int))+1))})\n",
    "    \n",
    "    yeardist[group_var] = yeardist[group_var].astype(int,errors=\"ignore\")\n",
    "    \n",
    "    ts = x.merge(yeardist,left_on=\"year\",right_on=group_var,how=\"left\")\n",
    "    ts.loc[ts[count_var].isna(),count_var]=0\n",
    "    # merge_results(ts)\n",
    "    \n",
    "    ts_columns = [\"year\",count_var]\n",
    "    ts = ts[ts_columns]\n",
    "    \n",
    "    return ts"
   ]
  },
  {
   "cell_type": "code",
   "execution_count": 26,
   "id": "fb9d2ff8",
   "metadata": {},
   "outputs": [],
   "source": [
    "# create InstitutionCategory (English) variable InstitutionType\n",
    "\n",
    "# use with apply. e.g., \n",
    "# df[\"InstitutionCategory] = df[\"InstitutionType\"].apply(define_institution_category)\n",
    "\n",
    "def define_institution_category(PI):\n",
    "    \n",
    "    c = \"Social\"\n",
    "    \n",
    "    if PI==\"정권기관\":\n",
    "        c = \"Government\"\n",
    "    elif PI==\"노동당\":\n",
    "        c = \"Party\"\n",
    "    elif PI==\"인민군\":\n",
    "        c = \"Military\"\n",
    "        \n",
    "    return c"
   ]
  },
  {
   "cell_type": "code",
   "execution_count": 27,
   "id": "ffc5547a",
   "metadata": {},
   "outputs": [],
   "source": [
    "def two_sample_ttest_proportions(x1,x2,n1,n2,alpha):\n",
    "    \n",
    "    pstar = (x1+x2)/(n1+n2)\n",
    "    p1 = x1/n1\n",
    "    p2 = x2/n2\n",
    "    z = (p1-p2) / math.sqrt(pstar*(1-pstar)*((1/n1) + (1/n2)))\n",
    "    #pvalue = \n",
    "    print(\"p1:\\t\",p1)\n",
    "    print(\"p2:\\t\",p2)\n",
    "    print(\"p1-p2:\\t\",(p1-p2))\n",
    "    print(\"z:\\t\",z)\n",
    "    print(\"pvalue:\\t\",\"calculate\")"
   ]
  },
  {
   "cell_type": "code",
   "execution_count": 28,
   "id": "b691a5f3",
   "metadata": {},
   "outputs": [],
   "source": [
    "def two_sample_ttest_means(m1,m2,v1,v2,n1,n2,alpha):\n",
    "    \n",
    "    num = m1-m2\n",
    "    den = math.sqrt(v1/n1 + v2/n2)\n",
    "    t = num/den\n",
    "    #pvalue = \n",
    "    print(\"m1:\\t\",m1)\n",
    "    print(\"m2:\\t\",m2)\n",
    "    print(\"m1-m2:\\t\",(m1-m2))\n",
    "    print(\"t:\\t\",t)\n",
    "    print(\"pvalue:\\t\",\"calculate\")"
   ]
  },
  {
   "cell_type": "markdown",
   "id": "224feffb",
   "metadata": {},
   "source": [
    "# Format & Covariates"
   ]
  },
  {
   "cell_type": "markdown",
   "id": "04aef6fd",
   "metadata": {},
   "source": [
    "### 1. add col.JointAppointment to ljobs"
   ]
  },
  {
   "cell_type": "code",
   "execution_count": 29,
   "id": "118b8ba2",
   "metadata": {},
   "outputs": [
    {
     "data": {
      "text/plain": [
       "Index(['CareerString', 'CareerDateString_2022', 'IsJob', 'MultipleSubstrings',\n",
       "       'CareerStartYear', 'CareerStartMonth', 'CareerSubstring',\n",
       "       'InstitutionType', 'PrimaryInstitution', 'OrgName', 'Position',\n",
       "       'Notes'],\n",
       "      dtype='object')"
      ]
     },
     "execution_count": 29,
     "metadata": {},
     "output_type": "execute_result"
    }
   ],
   "source": [
    "col.columns"
   ]
  },
  {
   "cell_type": "code",
   "execution_count": 30,
   "id": "0aafb054",
   "metadata": {},
   "outputs": [
    {
     "data": {
      "text/plain": [
       "0       1\n",
       "1       2\n",
       "2       1\n",
       "3       1\n",
       "4       1\n",
       "       ..\n",
       "8997    1\n",
       "8998    1\n",
       "8999    1\n",
       "9000    1\n",
       "9001    1\n",
       "Name: MultipleSubstrings, Length: 9002, dtype: object"
      ]
     },
     "execution_count": 30,
     "metadata": {},
     "output_type": "execute_result"
    }
   ],
   "source": [
    "col.MultipleSubstrings"
   ]
  },
  {
   "cell_type": "code",
   "execution_count": 31,
   "id": "5ccfca48",
   "metadata": {},
   "outputs": [
    {
     "data": {
      "text/plain": [
       "Index(['LeaderID', 'CareerString', 'CareerDateString_2022', 'CareerStartYear',\n",
       "       'CareerStartMonth', 'CareerStartDate', 'CareerSubstring',\n",
       "       'InstitutionType', 'PrimaryInstitution', 'OrgName', 'Local', 'Position',\n",
       "       'IsElected', 'OrgRank', 'PositionRank'],\n",
       "      dtype='object')"
      ]
     },
     "execution_count": 31,
     "metadata": {},
     "output_type": "execute_result"
    }
   ],
   "source": [
    "ljobs.columns"
   ]
  },
  {
   "cell_type": "code",
   "execution_count": 32,
   "id": "a94bae07",
   "metadata": {},
   "outputs": [],
   "source": [
    "key_columns = [\"CareerString\",\"CareerDateString_2022\"]\n",
    "col_columns = key_columns + [\"MultipleSubstrings\"]"
   ]
  },
  {
   "cell_type": "code",
   "execution_count": 33,
   "id": "023a1e28",
   "metadata": {},
   "outputs": [],
   "source": [
    "# merge results confirm perfect match\n",
    "ljobs2 = ljobs.merge(col[col_columns],on=key_columns,how=\"left\")\n",
    "# ljobs2 = ljobs.merge(col[col_columns],on=key_columns,how=\"left\",indicator=True)\n",
    "# merge_results(ljobs2)"
   ]
  },
  {
   "cell_type": "markdown",
   "id": "d57a0f04",
   "metadata": {},
   "source": [
    "### 2. Change Variable Type"
   ]
  },
  {
   "cell_type": "code",
   "execution_count": 34,
   "id": "17790ca3",
   "metadata": {},
   "outputs": [],
   "source": [
    "ljobs2.CareerStartYear = ljobs2.CareerStartYear.astype(\"int\")"
   ]
  },
  {
   "cell_type": "code",
   "execution_count": 35,
   "id": "49966415",
   "metadata": {},
   "outputs": [],
   "source": [
    "ljobs2.MultipleSubstrings = ljobs2.MultipleSubstrings.astype(\"int\")"
   ]
  },
  {
   "cell_type": "markdown",
   "id": "03f5c799",
   "metadata": {},
   "source": [
    "### 3. Create new dataset - Unique LeaderID, CareerString, CareerStartYear, MultipleAppointments\n",
    "\n",
    "* group by LeaderID, CareerStartYear and MultipleSubstrings\n",
    "* in order to count all instances of appointments, including Joint and non-Joint appointments\n",
    "* but not to double-count Joint Appointments"
   ]
  },
  {
   "cell_type": "code",
   "execution_count": 36,
   "id": "c0eacb33",
   "metadata": {},
   "outputs": [
    {
     "data": {
      "text/plain": [
       "Index(['LeaderID', 'CareerString', 'CareerDateString_2022', 'CareerStartYear',\n",
       "       'CareerStartMonth', 'CareerStartDate', 'CareerSubstring',\n",
       "       'InstitutionType', 'PrimaryInstitution', 'OrgName', 'Local', 'Position',\n",
       "       'IsElected', 'OrgRank', 'PositionRank', 'MultipleSubstrings'],\n",
       "      dtype='object')"
      ]
     },
     "execution_count": 36,
     "metadata": {},
     "output_type": "execute_result"
    }
   ],
   "source": [
    "ljobs2.columns"
   ]
  },
  {
   "cell_type": "code",
   "execution_count": 37,
   "id": "ca26633c",
   "metadata": {},
   "outputs": [],
   "source": [
    "analysis_columns = [\"LeaderID\",\"CareerString\",\"CareerStartYear\",\"MultipleSubstrings\"]"
   ]
  },
  {
   "cell_type": "code",
   "execution_count": 38,
   "id": "7c520997",
   "metadata": {},
   "outputs": [
    {
     "data": {
      "text/plain": [
       "(5405, 4)"
      ]
     },
     "execution_count": 38,
     "metadata": {},
     "output_type": "execute_result"
    }
   ],
   "source": [
    "lappt = ljobs2[analysis_columns].drop_duplicates()\n",
    "lappt.shape"
   ]
  },
  {
   "cell_type": "code",
   "execution_count": 39,
   "id": "fb43dc79",
   "metadata": {},
   "outputs": [
    {
     "data": {
      "text/html": [
       "<div>\n",
       "<style scoped>\n",
       "    .dataframe tbody tr th:only-of-type {\n",
       "        vertical-align: middle;\n",
       "    }\n",
       "\n",
       "    .dataframe tbody tr th {\n",
       "        vertical-align: top;\n",
       "    }\n",
       "\n",
       "    .dataframe thead th {\n",
       "        text-align: right;\n",
       "    }\n",
       "</style>\n",
       "<table border=\"1\" class=\"dataframe\">\n",
       "  <thead>\n",
       "    <tr style=\"text-align: right;\">\n",
       "      <th></th>\n",
       "      <th>LeaderID</th>\n",
       "      <th>CareerString</th>\n",
       "      <th>CareerStartYear</th>\n",
       "      <th>MultipleSubstrings</th>\n",
       "    </tr>\n",
       "  </thead>\n",
       "  <tbody>\n",
       "    <tr>\n",
       "      <th>0</th>\n",
       "      <td>리원일</td>\n",
       "      <td>노동성 상(유임)</td>\n",
       "      <td>1999</td>\n",
       "      <td>1</td>\n",
       "    </tr>\n",
       "    <tr>\n",
       "      <th>1</th>\n",
       "      <td>조용원</td>\n",
       "      <td>당 정치국 후보위원</td>\n",
       "      <td>2020</td>\n",
       "      <td>1</td>\n",
       "    </tr>\n",
       "    <tr>\n",
       "      <th>2</th>\n",
       "      <td>정경택</td>\n",
       "      <td>당 중앙위원회 정치국 위원 (*당 중앙위원회 제7기 제4차 전원회의에서 보선)</td>\n",
       "      <td>2019</td>\n",
       "      <td>1</td>\n",
       "    </tr>\n",
       "    <tr>\n",
       "      <th>3</th>\n",
       "      <td>리하일</td>\n",
       "      <td>인민무력부 작전국 국장</td>\n",
       "      <td>1975</td>\n",
       "      <td>1</td>\n",
       "    </tr>\n",
       "    <tr>\n",
       "      <th>4</th>\n",
       "      <td>최상건</td>\n",
       "      <td>(前)당 비서국 비서</td>\n",
       "      <td>2021</td>\n",
       "      <td>1</td>\n",
       "    </tr>\n",
       "  </tbody>\n",
       "</table>\n",
       "</div>"
      ],
      "text/plain": [
       "  LeaderID                                    CareerString  CareerStartYear  \\\n",
       "0      리원일                                       노동성 상(유임)             1999   \n",
       "1      조용원                                      당 정치국 후보위원             2020   \n",
       "2      정경택   당 중앙위원회 정치국 위원 (*당 중앙위원회 제7기 제4차 전원회의에서 보선)               2019   \n",
       "3      리하일                                    인민무력부 작전국 국장             1975   \n",
       "4      최상건                                     (前)당 비서국 비서             2021   \n",
       "\n",
       "   MultipleSubstrings  \n",
       "0                   1  \n",
       "1                   1  \n",
       "2                   1  \n",
       "3                   1  \n",
       "4                   1  "
      ]
     },
     "execution_count": 39,
     "metadata": {},
     "output_type": "execute_result"
    }
   ],
   "source": [
    "lappt.head()"
   ]
  },
  {
   "cell_type": "code",
   "execution_count": 40,
   "id": "823dd23b",
   "metadata": {},
   "outputs": [],
   "source": [
    "lappt[\"IsJointAppointment\"]=False\n",
    "lappt.loc[lappt[\"MultipleSubstrings\"].astype(\"int\")>1,\"IsJointAppointment\"]=True"
   ]
  },
  {
   "cell_type": "code",
   "execution_count": 41,
   "id": "30763cc2",
   "metadata": {},
   "outputs": [
    {
     "data": {
      "text/html": [
       "<div>\n",
       "<style scoped>\n",
       "    .dataframe tbody tr th:only-of-type {\n",
       "        vertical-align: middle;\n",
       "    }\n",
       "\n",
       "    .dataframe tbody tr th {\n",
       "        vertical-align: top;\n",
       "    }\n",
       "\n",
       "    .dataframe thead th {\n",
       "        text-align: right;\n",
       "    }\n",
       "</style>\n",
       "<table border=\"1\" class=\"dataframe\">\n",
       "  <thead>\n",
       "    <tr style=\"text-align: right;\">\n",
       "      <th></th>\n",
       "      <th>LeaderID</th>\n",
       "      <th>CareerString</th>\n",
       "      <th>CareerStartYear</th>\n",
       "      <th>MultipleSubstrings</th>\n",
       "      <th>IsJointAppointment</th>\n",
       "    </tr>\n",
       "  </thead>\n",
       "  <tbody>\n",
       "    <tr>\n",
       "      <th>0</th>\n",
       "      <td>리원일</td>\n",
       "      <td>노동성 상(유임)</td>\n",
       "      <td>1999</td>\n",
       "      <td>1</td>\n",
       "      <td>False</td>\n",
       "    </tr>\n",
       "    <tr>\n",
       "      <th>1</th>\n",
       "      <td>조용원</td>\n",
       "      <td>당 정치국 후보위원</td>\n",
       "      <td>2020</td>\n",
       "      <td>1</td>\n",
       "      <td>False</td>\n",
       "    </tr>\n",
       "    <tr>\n",
       "      <th>2</th>\n",
       "      <td>정경택</td>\n",
       "      <td>당 중앙위원회 정치국 위원 (*당 중앙위원회 제7기 제4차 전원회의에서 보선)</td>\n",
       "      <td>2019</td>\n",
       "      <td>1</td>\n",
       "      <td>False</td>\n",
       "    </tr>\n",
       "    <tr>\n",
       "      <th>3</th>\n",
       "      <td>리하일</td>\n",
       "      <td>인민무력부 작전국 국장</td>\n",
       "      <td>1975</td>\n",
       "      <td>1</td>\n",
       "      <td>False</td>\n",
       "    </tr>\n",
       "    <tr>\n",
       "      <th>4</th>\n",
       "      <td>최상건</td>\n",
       "      <td>(前)당 비서국 비서</td>\n",
       "      <td>2021</td>\n",
       "      <td>1</td>\n",
       "      <td>False</td>\n",
       "    </tr>\n",
       "  </tbody>\n",
       "</table>\n",
       "</div>"
      ],
      "text/plain": [
       "  LeaderID                                    CareerString  CareerStartYear  \\\n",
       "0      리원일                                       노동성 상(유임)             1999   \n",
       "1      조용원                                      당 정치국 후보위원             2020   \n",
       "2      정경택   당 중앙위원회 정치국 위원 (*당 중앙위원회 제7기 제4차 전원회의에서 보선)               2019   \n",
       "3      리하일                                    인민무력부 작전국 국장             1975   \n",
       "4      최상건                                     (前)당 비서국 비서             2021   \n",
       "\n",
       "   MultipleSubstrings  IsJointAppointment  \n",
       "0                   1               False  \n",
       "1                   1               False  \n",
       "2                   1               False  \n",
       "3                   1               False  \n",
       "4                   1               False  "
      ]
     },
     "execution_count": 41,
     "metadata": {},
     "output_type": "execute_result"
    }
   ],
   "source": [
    "lappt.head()"
   ]
  },
  {
   "cell_type": "markdown",
   "id": "b9d6f5ef",
   "metadata": {},
   "source": [
    "### 4. Succession Period - Broad\n",
    "\n",
    "* KIS-->KJI: 1974-1993 - less institutionalized (stronger intra)\n",
    "* KJI--->KJU:  2002-2011 - more institutionalized (stronger inter)"
   ]
  },
  {
   "cell_type": "code",
   "execution_count": 42,
   "id": "05c45e61",
   "metadata": {},
   "outputs": [
    {
     "data": {
      "text/plain": [
       "Index(['LeaderID', 'CareerString', 'CareerStartYear', 'MultipleSubstrings',\n",
       "       'IsJointAppointment'],\n",
       "      dtype='object')"
      ]
     },
     "execution_count": 42,
     "metadata": {},
     "output_type": "execute_result"
    }
   ],
   "source": [
    "lappt.columns"
   ]
  },
  {
   "cell_type": "code",
   "execution_count": 43,
   "id": "85574772",
   "metadata": {},
   "outputs": [],
   "source": [
    "lappt[\"Succession_Broad\"] = np.nan"
   ]
  },
  {
   "cell_type": "code",
   "execution_count": 46,
   "id": "4e61e921",
   "metadata": {},
   "outputs": [],
   "source": [
    "value_order = [\"KIS to KJI\",\"KJI to KJU\"]\n",
    "lappt.Succession_Broad = lappt.Succession_Broad.astype(\"category\")\n",
    "lappt.Succession_Broad = lappt.Succession_Broad.cat.set_categories(value_order)"
   ]
  },
  {
   "cell_type": "code",
   "execution_count": 47,
   "id": "4b01e6b8",
   "metadata": {},
   "outputs": [],
   "source": [
    "lappt.loc[(lappt[\"CareerStartYear\"]>1973) & (lappt[\"CareerStartYear\"]<1994),\"Succession_Broad\"] = \"KIS to KJI\"\n",
    "lappt.loc[(lappt[\"CareerStartYear\"]>2001) & (lappt[\"CareerStartYear\"]<2012),\"Succession_Broad\"] = \"KJI to KJU\""
   ]
  },
  {
   "cell_type": "code",
   "execution_count": 48,
   "id": "8cd84488",
   "metadata": {},
   "outputs": [
    {
     "data": {
      "text/html": [
       "<div>\n",
       "<style scoped>\n",
       "    .dataframe tbody tr th:only-of-type {\n",
       "        vertical-align: middle;\n",
       "    }\n",
       "\n",
       "    .dataframe tbody tr th {\n",
       "        vertical-align: top;\n",
       "    }\n",
       "\n",
       "    .dataframe thead th {\n",
       "        text-align: right;\n",
       "    }\n",
       "</style>\n",
       "<table border=\"1\" class=\"dataframe\">\n",
       "  <thead>\n",
       "    <tr style=\"text-align: right;\">\n",
       "      <th></th>\n",
       "      <th>LeaderID</th>\n",
       "      <th>CareerString</th>\n",
       "      <th>CareerStartYear</th>\n",
       "      <th>MultipleSubstrings</th>\n",
       "      <th>IsJointAppointment</th>\n",
       "      <th>Succession_Broad</th>\n",
       "      <th>Succession_Narrow</th>\n",
       "    </tr>\n",
       "  </thead>\n",
       "  <tbody>\n",
       "    <tr>\n",
       "      <th>0</th>\n",
       "      <td>리원일</td>\n",
       "      <td>노동성 상(유임)</td>\n",
       "      <td>1999</td>\n",
       "      <td>1</td>\n",
       "      <td>False</td>\n",
       "      <td>NaN</td>\n",
       "      <td>NaN</td>\n",
       "    </tr>\n",
       "    <tr>\n",
       "      <th>1</th>\n",
       "      <td>조용원</td>\n",
       "      <td>당 정치국 후보위원</td>\n",
       "      <td>2020</td>\n",
       "      <td>1</td>\n",
       "      <td>False</td>\n",
       "      <td>NaN</td>\n",
       "      <td>NaN</td>\n",
       "    </tr>\n",
       "    <tr>\n",
       "      <th>2</th>\n",
       "      <td>정경택</td>\n",
       "      <td>당 중앙위원회 정치국 위원 (*당 중앙위원회 제7기 제4차 전원회의에서 보선)</td>\n",
       "      <td>2019</td>\n",
       "      <td>1</td>\n",
       "      <td>False</td>\n",
       "      <td>NaN</td>\n",
       "      <td>NaN</td>\n",
       "    </tr>\n",
       "    <tr>\n",
       "      <th>3</th>\n",
       "      <td>리하일</td>\n",
       "      <td>인민무력부 작전국 국장</td>\n",
       "      <td>1975</td>\n",
       "      <td>1</td>\n",
       "      <td>False</td>\n",
       "      <td>KIS to KJI</td>\n",
       "      <td>NaN</td>\n",
       "    </tr>\n",
       "    <tr>\n",
       "      <th>4</th>\n",
       "      <td>최상건</td>\n",
       "      <td>(前)당 비서국 비서</td>\n",
       "      <td>2021</td>\n",
       "      <td>1</td>\n",
       "      <td>False</td>\n",
       "      <td>NaN</td>\n",
       "      <td>NaN</td>\n",
       "    </tr>\n",
       "  </tbody>\n",
       "</table>\n",
       "</div>"
      ],
      "text/plain": [
       "  LeaderID                                    CareerString  CareerStartYear  \\\n",
       "0      리원일                                       노동성 상(유임)             1999   \n",
       "1      조용원                                      당 정치국 후보위원             2020   \n",
       "2      정경택   당 중앙위원회 정치국 위원 (*당 중앙위원회 제7기 제4차 전원회의에서 보선)               2019   \n",
       "3      리하일                                    인민무력부 작전국 국장             1975   \n",
       "4      최상건                                     (前)당 비서국 비서             2021   \n",
       "\n",
       "   MultipleSubstrings  IsJointAppointment Succession_Broad  Succession_Narrow  \n",
       "0                   1               False              NaN                NaN  \n",
       "1                   1               False              NaN                NaN  \n",
       "2                   1               False              NaN                NaN  \n",
       "3                   1               False       KIS to KJI                NaN  \n",
       "4                   1               False              NaN                NaN  "
      ]
     },
     "execution_count": 48,
     "metadata": {},
     "output_type": "execute_result"
    }
   ],
   "source": [
    "lappt.head()"
   ]
  },
  {
   "cell_type": "markdown",
   "id": "6bd80638",
   "metadata": {},
   "source": [
    "### 5. Succession Period - Narrow\n",
    "\n",
    "#### Esther's periodization\n",
    "* KIS-->KJI: 1987-1994 - less institutionalized (stronger intra)\n",
    "* KJI--->KJU:  2009-2011 - more institutionalized (stronger inter)"
   ]
  },
  {
   "cell_type": "code",
   "execution_count": 49,
   "id": "c304d6bb",
   "metadata": {},
   "outputs": [],
   "source": [
    "lappt[\"Succession_Narrow\"] = np.nan"
   ]
  },
  {
   "cell_type": "code",
   "execution_count": 50,
   "id": "5b98cedb",
   "metadata": {},
   "outputs": [],
   "source": [
    "value_order = [\"KIS to KJI\",\"KJI to KJU\"]\n",
    "lappt.Succession_Narrow = lappt.Succession_Narrow.astype(\"category\")\n",
    "lappt.Succession_Narrow = lappt.Succession_Narrow.cat.set_categories(value_order)"
   ]
  },
  {
   "cell_type": "code",
   "execution_count": 51,
   "id": "f68822a7",
   "metadata": {},
   "outputs": [],
   "source": [
    "### Esther's periodization\n",
    "lappt.loc[(lappt[\"CareerStartYear\"]>1986) & (lappt[\"CareerStartYear\"]<1995),\"Succession_Narrow\"] = \"KIS to KJI\"\n",
    "lappt.loc[(lappt[\"CareerStartYear\"]>2008) & (lappt[\"CareerStartYear\"]<2012),\"Succession_Narrow\"] = \"KJI to KJU\""
   ]
  },
  {
   "cell_type": "code",
   "execution_count": 52,
   "id": "0cff7789",
   "metadata": {
    "scrolled": false
   },
   "outputs": [
    {
     "data": {
      "text/html": [
       "<div>\n",
       "<style scoped>\n",
       "    .dataframe tbody tr th:only-of-type {\n",
       "        vertical-align: middle;\n",
       "    }\n",
       "\n",
       "    .dataframe tbody tr th {\n",
       "        vertical-align: top;\n",
       "    }\n",
       "\n",
       "    .dataframe thead th {\n",
       "        text-align: right;\n",
       "    }\n",
       "</style>\n",
       "<table border=\"1\" class=\"dataframe\">\n",
       "  <thead>\n",
       "    <tr style=\"text-align: right;\">\n",
       "      <th></th>\n",
       "      <th>LeaderID</th>\n",
       "      <th>CareerString</th>\n",
       "      <th>CareerStartYear</th>\n",
       "      <th>MultipleSubstrings</th>\n",
       "      <th>IsJointAppointment</th>\n",
       "      <th>Succession_Broad</th>\n",
       "      <th>Succession_Narrow</th>\n",
       "    </tr>\n",
       "  </thead>\n",
       "  <tbody>\n",
       "    <tr>\n",
       "      <th>0</th>\n",
       "      <td>리원일</td>\n",
       "      <td>노동성 상(유임)</td>\n",
       "      <td>1999</td>\n",
       "      <td>1</td>\n",
       "      <td>False</td>\n",
       "      <td>NaN</td>\n",
       "      <td>NaN</td>\n",
       "    </tr>\n",
       "    <tr>\n",
       "      <th>1</th>\n",
       "      <td>조용원</td>\n",
       "      <td>당 정치국 후보위원</td>\n",
       "      <td>2020</td>\n",
       "      <td>1</td>\n",
       "      <td>False</td>\n",
       "      <td>NaN</td>\n",
       "      <td>NaN</td>\n",
       "    </tr>\n",
       "    <tr>\n",
       "      <th>2</th>\n",
       "      <td>정경택</td>\n",
       "      <td>당 중앙위원회 정치국 위원 (*당 중앙위원회 제7기 제4차 전원회의에서 보선)</td>\n",
       "      <td>2019</td>\n",
       "      <td>1</td>\n",
       "      <td>False</td>\n",
       "      <td>NaN</td>\n",
       "      <td>NaN</td>\n",
       "    </tr>\n",
       "    <tr>\n",
       "      <th>3</th>\n",
       "      <td>리하일</td>\n",
       "      <td>인민무력부 작전국 국장</td>\n",
       "      <td>1975</td>\n",
       "      <td>1</td>\n",
       "      <td>False</td>\n",
       "      <td>KIS to KJI</td>\n",
       "      <td>NaN</td>\n",
       "    </tr>\n",
       "    <tr>\n",
       "      <th>4</th>\n",
       "      <td>최상건</td>\n",
       "      <td>(前)당 비서국 비서</td>\n",
       "      <td>2021</td>\n",
       "      <td>1</td>\n",
       "      <td>False</td>\n",
       "      <td>NaN</td>\n",
       "      <td>NaN</td>\n",
       "    </tr>\n",
       "  </tbody>\n",
       "</table>\n",
       "</div>"
      ],
      "text/plain": [
       "  LeaderID                                    CareerString  CareerStartYear  \\\n",
       "0      리원일                                       노동성 상(유임)             1999   \n",
       "1      조용원                                      당 정치국 후보위원             2020   \n",
       "2      정경택   당 중앙위원회 정치국 위원 (*당 중앙위원회 제7기 제4차 전원회의에서 보선)               2019   \n",
       "3      리하일                                    인민무력부 작전국 국장             1975   \n",
       "4      최상건                                     (前)당 비서국 비서             2021   \n",
       "\n",
       "   MultipleSubstrings  IsJointAppointment Succession_Broad Succession_Narrow  \n",
       "0                   1               False              NaN               NaN  \n",
       "1                   1               False              NaN               NaN  \n",
       "2                   1               False              NaN               NaN  \n",
       "3                   1               False       KIS to KJI               NaN  \n",
       "4                   1               False              NaN               NaN  "
      ]
     },
     "execution_count": 52,
     "metadata": {},
     "output_type": "execute_result"
    }
   ],
   "source": [
    "lappt.head()"
   ]
  },
  {
   "cell_type": "markdown",
   "id": "f04bdba8",
   "metadata": {},
   "source": [
    "# Descriptive Analysis of Joint Appointments"
   ]
  },
  {
   "cell_type": "code",
   "execution_count": 54,
   "id": "3fbb2939",
   "metadata": {},
   "outputs": [
    {
     "data": {
      "text/plain": [
       "(5405, 7)"
      ]
     },
     "execution_count": 54,
     "metadata": {},
     "output_type": "execute_result"
    }
   ],
   "source": [
    "lappt.shape"
   ]
  },
  {
   "cell_type": "code",
   "execution_count": null,
   "id": "4d53ae01",
   "metadata": {},
   "outputs": [],
   "source": [
    "lappt.head()"
   ]
  },
  {
   "cell_type": "code",
   "execution_count": 56,
   "id": "83eb5dbf",
   "metadata": {},
   "outputs": [
    {
     "data": {
      "text/plain": [
       "(9002, 12)"
      ]
     },
     "execution_count": 56,
     "metadata": {},
     "output_type": "execute_result"
    }
   ],
   "source": [
    "col.shape"
   ]
  },
  {
   "cell_type": "code",
   "execution_count": 59,
   "id": "c83b5f2b",
   "metadata": {},
   "outputs": [
    {
     "data": {
      "text/html": [
       "<div>\n",
       "<style scoped>\n",
       "    .dataframe tbody tr th:only-of-type {\n",
       "        vertical-align: middle;\n",
       "    }\n",
       "\n",
       "    .dataframe tbody tr th {\n",
       "        vertical-align: top;\n",
       "    }\n",
       "\n",
       "    .dataframe thead th {\n",
       "        text-align: right;\n",
       "    }\n",
       "</style>\n",
       "<table border=\"1\" class=\"dataframe\">\n",
       "  <thead>\n",
       "    <tr style=\"text-align: right;\">\n",
       "      <th></th>\n",
       "      <th>CareerString</th>\n",
       "      <th>CareerDateString_2022</th>\n",
       "      <th>IsJob</th>\n",
       "      <th>MultipleSubstrings</th>\n",
       "      <th>CareerStartYear</th>\n",
       "      <th>CareerStartMonth</th>\n",
       "      <th>CareerSubstring</th>\n",
       "      <th>InstitutionType</th>\n",
       "      <th>PrimaryInstitution</th>\n",
       "      <th>OrgName</th>\n",
       "      <th>Position</th>\n",
       "      <th>Notes</th>\n",
       "    </tr>\n",
       "  </thead>\n",
       "  <tbody>\n",
       "    <tr>\n",
       "      <th>0</th>\n",
       "      <td>4.15문학창작단 단장</td>\n",
       "      <td>1989.04</td>\n",
       "      <td>True</td>\n",
       "      <td>1</td>\n",
       "      <td>1989</td>\n",
       "      <td>4</td>\n",
       "      <td>NaN</td>\n",
       "      <td>당외곽및사회단체_사회부문(별책)</td>\n",
       "      <td>4.15문화창작단</td>\n",
       "      <td>NaN</td>\n",
       "      <td>단장</td>\n",
       "      <td>NaN</td>\n",
       "    </tr>\n",
       "    <tr>\n",
       "      <th>1</th>\n",
       "      <td>1989. 4.15문학창작단 단장, 조선작가동맹 통일문학담당 부위원장</td>\n",
       "      <td>NaN</td>\n",
       "      <td>True</td>\n",
       "      <td>2</td>\n",
       "      <td>1989</td>\n",
       "      <td>4</td>\n",
       "      <td>4.15 문화창작단 단장</td>\n",
       "      <td>당외곽및사회단체_사회부문(별책)</td>\n",
       "      <td>4.15문화창작단</td>\n",
       "      <td>NaN</td>\n",
       "      <td>단장</td>\n",
       "      <td>NaN</td>\n",
       "    </tr>\n",
       "    <tr>\n",
       "      <th>2</th>\n",
       "      <td>2004. 4.15문학창작단 부단장</td>\n",
       "      <td>NaN</td>\n",
       "      <td>True</td>\n",
       "      <td>1</td>\n",
       "      <td>2004</td>\n",
       "      <td>NaN</td>\n",
       "      <td>NaN</td>\n",
       "      <td>당외곽및사회단체_사회부문(별책)</td>\n",
       "      <td>4.15문화창작단</td>\n",
       "      <td>NaN</td>\n",
       "      <td>부단장</td>\n",
       "      <td>NaN</td>\n",
       "    </tr>\n",
       "    <tr>\n",
       "      <th>3</th>\n",
       "      <td>4.15문학창작단 부단장</td>\n",
       "      <td>2004.04</td>\n",
       "      <td>True</td>\n",
       "      <td>1</td>\n",
       "      <td>2004</td>\n",
       "      <td>4</td>\n",
       "      <td>NaN</td>\n",
       "      <td>당외곽및사회단체_사회부문(별책)</td>\n",
       "      <td>4.15문화창작단</td>\n",
       "      <td>NaN</td>\n",
       "      <td>부단장</td>\n",
       "      <td>NaN</td>\n",
       "    </tr>\n",
       "    <tr>\n",
       "      <th>4</th>\n",
       "      <td>7.7연합기업소 기사장</td>\n",
       "      <td>1989.12</td>\n",
       "      <td>True</td>\n",
       "      <td>1</td>\n",
       "      <td>1989</td>\n",
       "      <td>12</td>\n",
       "      <td>NaN</td>\n",
       "      <td>UNCERTAIN</td>\n",
       "      <td>7.7연합기업소</td>\n",
       "      <td>NaN</td>\n",
       "      <td>기사장</td>\n",
       "      <td>NaN</td>\n",
       "    </tr>\n",
       "  </tbody>\n",
       "</table>\n",
       "</div>"
      ],
      "text/plain": [
       "                             CareerString CareerDateString_2022 IsJob  \\\n",
       "0                            4.15문학창작단 단장               1989.04  True   \n",
       "1  1989. 4.15문학창작단 단장, 조선작가동맹 통일문학담당 부위원장                   NaN  True   \n",
       "2                     2004. 4.15문학창작단 부단장                   NaN  True   \n",
       "3                           4.15문학창작단 부단장               2004.04  True   \n",
       "4                            7.7연합기업소 기사장               1989.12  True   \n",
       "\n",
       "  MultipleSubstrings CareerStartYear CareerStartMonth CareerSubstring  \\\n",
       "0                  1            1989                4             NaN   \n",
       "1                  2            1989                4   4.15 문화창작단 단장   \n",
       "2                  1            2004              NaN             NaN   \n",
       "3                  1            2004                4             NaN   \n",
       "4                  1            1989               12             NaN   \n",
       "\n",
       "     InstitutionType PrimaryInstitution OrgName Position Notes  \n",
       "0  당외곽및사회단체_사회부문(별책)          4.15문화창작단     NaN       단장   NaN  \n",
       "1  당외곽및사회단체_사회부문(별책)          4.15문화창작단     NaN       단장   NaN  \n",
       "2  당외곽및사회단체_사회부문(별책)          4.15문화창작단     NaN      부단장   NaN  \n",
       "3  당외곽및사회단체_사회부문(별책)          4.15문화창작단     NaN      부단장   NaN  \n",
       "4          UNCERTAIN           7.7연합기업소     NaN      기사장   NaN  "
      ]
     },
     "execution_count": 59,
     "metadata": {},
     "output_type": "execute_result"
    }
   ],
   "source": [
    "col.head()"
   ]
  },
  {
   "cell_type": "code",
   "execution_count": 63,
   "id": "5054ac6d",
   "metadata": {},
   "outputs": [
    {
     "data": {
      "text/plain": [
       "(5930, 12)"
      ]
     },
     "execution_count": 63,
     "metadata": {},
     "output_type": "execute_result"
    }
   ],
   "source": [
    "tcol = col[(col[\"IsJob\"]==\"True\") & ~(col[\"PrimaryInstitution\"]==\"최고인민회의\")]\n",
    "tcol.shape"
   ]
  },
  {
   "cell_type": "code",
   "execution_count": 69,
   "id": "49ae449e",
   "metadata": {},
   "outputs": [
    {
     "data": {
      "text/plain": [
       "(1214, 12)"
      ]
     },
     "execution_count": 69,
     "metadata": {},
     "output_type": "execute_result"
    }
   ],
   "source": [
    "tcol[tcol[\"MultipleSubstrings\"].astype(int)>1].shape"
   ]
  },
  {
   "cell_type": "code",
   "execution_count": 86,
   "id": "afdcd1e8",
   "metadata": {},
   "outputs": [
    {
     "data": {
      "text/plain": [
       "0.20472175379426644"
      ]
     },
     "execution_count": 86,
     "metadata": {},
     "output_type": "execute_result"
    }
   ],
   "source": [
    "# overall percentage\n",
    "tcol[tcol[\"MultipleSubstrings\"].astype(int)>1].shape[0] / tcol.shape[0]"
   ]
  },
  {
   "cell_type": "code",
   "execution_count": 89,
   "id": "95af3f95",
   "metadata": {},
   "outputs": [],
   "source": [
    "tcol_multiple = tcol.loc[tcol[\"MultipleSubstrings\"].astype(int)>1,[\"InstitutionType\",\"CareerString\"]].groupby(\"InstitutionType\",as_index=False).agg({\"CareerString\":\"count\"})\n",
    "tcol_all = tcol[[\"InstitutionType\",\"CareerString\"]].groupby(\"InstitutionType\",as_index=False).agg({\"CareerString\":\"count\"})"
   ]
  },
  {
   "cell_type": "code",
   "execution_count": 90,
   "id": "3a0ce408",
   "metadata": {},
   "outputs": [],
   "source": [
    "tcol_combo = tcol_multiple.merge(tcol_all,on=\"InstitutionType\",how=\"inner\")"
   ]
  },
  {
   "cell_type": "code",
   "execution_count": 91,
   "id": "9cc7bde8",
   "metadata": {},
   "outputs": [],
   "source": [
    "tcol_combo.columns = [\"InstitutionType\",\"Multiple\",\"Total\"]"
   ]
  },
  {
   "cell_type": "code",
   "execution_count": 100,
   "id": "0bb26947",
   "metadata": {},
   "outputs": [
    {
     "data": {
      "text/html": [
       "<div>\n",
       "<style scoped>\n",
       "    .dataframe tbody tr th:only-of-type {\n",
       "        vertical-align: middle;\n",
       "    }\n",
       "\n",
       "    .dataframe tbody tr th {\n",
       "        vertical-align: top;\n",
       "    }\n",
       "\n",
       "    .dataframe thead th {\n",
       "        text-align: right;\n",
       "    }\n",
       "</style>\n",
       "<table border=\"1\" class=\"dataframe\">\n",
       "  <thead>\n",
       "    <tr style=\"text-align: right;\">\n",
       "      <th></th>\n",
       "      <th>InstitutionType</th>\n",
       "      <th>Multiple</th>\n",
       "      <th>Total</th>\n",
       "      <th>Percent</th>\n",
       "    </tr>\n",
       "  </thead>\n",
       "  <tbody>\n",
       "    <tr>\n",
       "      <th>1</th>\n",
       "      <td>국제친선단체</td>\n",
       "      <td>18</td>\n",
       "      <td>258</td>\n",
       "      <td>0.069767</td>\n",
       "    </tr>\n",
       "    <tr>\n",
       "      <th>2</th>\n",
       "      <td>노동당</td>\n",
       "      <td>632</td>\n",
       "      <td>1665</td>\n",
       "      <td>0.379580</td>\n",
       "    </tr>\n",
       "    <tr>\n",
       "      <th>3</th>\n",
       "      <td>당외곽및사회단체_경제부문</td>\n",
       "      <td>1</td>\n",
       "      <td>35</td>\n",
       "      <td>0.028571</td>\n",
       "    </tr>\n",
       "    <tr>\n",
       "      <th>4</th>\n",
       "      <td>당외곽및사회단체_경제부문(별책)</td>\n",
       "      <td>2</td>\n",
       "      <td>115</td>\n",
       "      <td>0.017391</td>\n",
       "    </tr>\n",
       "    <tr>\n",
       "      <th>5</th>\n",
       "      <td>당외곽및사회단체_근로단체</td>\n",
       "      <td>3</td>\n",
       "      <td>103</td>\n",
       "      <td>0.029126</td>\n",
       "    </tr>\n",
       "    <tr>\n",
       "      <th>6</th>\n",
       "      <td>당외곽및사회단체_대외부문</td>\n",
       "      <td>8</td>\n",
       "      <td>81</td>\n",
       "      <td>0.098765</td>\n",
       "    </tr>\n",
       "    <tr>\n",
       "      <th>7</th>\n",
       "      <td>당외곽및사회단체_사회부문</td>\n",
       "      <td>11</td>\n",
       "      <td>126</td>\n",
       "      <td>0.087302</td>\n",
       "    </tr>\n",
       "    <tr>\n",
       "      <th>8</th>\n",
       "      <td>당외곽및사회단체_사회부문(별책)</td>\n",
       "      <td>15</td>\n",
       "      <td>259</td>\n",
       "      <td>0.057915</td>\n",
       "    </tr>\n",
       "    <tr>\n",
       "      <th>9</th>\n",
       "      <td>당외곽및사회단체_정치부문</td>\n",
       "      <td>5</td>\n",
       "      <td>137</td>\n",
       "      <td>0.036496</td>\n",
       "    </tr>\n",
       "    <tr>\n",
       "      <th>10</th>\n",
       "      <td>당외곽및사회단체_종교부문</td>\n",
       "      <td>3</td>\n",
       "      <td>52</td>\n",
       "      <td>0.057692</td>\n",
       "    </tr>\n",
       "    <tr>\n",
       "      <th>11</th>\n",
       "      <td>당외곽및사회단체_체육부문</td>\n",
       "      <td>7</td>\n",
       "      <td>96</td>\n",
       "      <td>0.072917</td>\n",
       "    </tr>\n",
       "    <tr>\n",
       "      <th>12</th>\n",
       "      <td>인민군</td>\n",
       "      <td>107</td>\n",
       "      <td>570</td>\n",
       "      <td>0.187719</td>\n",
       "    </tr>\n",
       "    <tr>\n",
       "      <th>13</th>\n",
       "      <td>정권기관</td>\n",
       "      <td>384</td>\n",
       "      <td>2194</td>\n",
       "      <td>0.175023</td>\n",
       "    </tr>\n",
       "  </tbody>\n",
       "</table>\n",
       "</div>"
      ],
      "text/plain": [
       "      InstitutionType  Multiple  Total   Percent\n",
       "1              국제친선단체        18    258  0.069767\n",
       "2                 노동당       632   1665  0.379580\n",
       "3       당외곽및사회단체_경제부문         1     35  0.028571\n",
       "4   당외곽및사회단체_경제부문(별책)         2    115  0.017391\n",
       "5       당외곽및사회단체_근로단체         3    103  0.029126\n",
       "6       당외곽및사회단체_대외부문         8     81  0.098765\n",
       "7       당외곽및사회단체_사회부문        11    126  0.087302\n",
       "8   당외곽및사회단체_사회부문(별책)        15    259  0.057915\n",
       "9       당외곽및사회단체_정치부문         5    137  0.036496\n",
       "10      당외곽및사회단체_종교부문         3     52  0.057692\n",
       "11      당외곽및사회단체_체육부문         7     96  0.072917\n",
       "12                인민군       107    570  0.187719\n",
       "13               정권기관       384   2194  0.175023"
      ]
     },
     "execution_count": 100,
     "metadata": {},
     "output_type": "execute_result"
    }
   ],
   "source": [
    "tcol_combo = tcol_combo[tcol_combo[\"InstitutionType\"]!=\"UNCERTAIN\"]\n",
    "tcol_combo"
   ]
  },
  {
   "cell_type": "code",
   "execution_count": 99,
   "id": "71c10acd",
   "metadata": {},
   "outputs": [
    {
     "data": {
      "text/plain": [
       "Multiple      73\n",
       "Total       1262\n",
       "dtype: int64"
      ]
     },
     "execution_count": 99,
     "metadata": {},
     "output_type": "execute_result"
    }
   ],
   "source": [
    "# tcol_social = \n",
    "tcol_combo[~tcol_combo[\"InstitutionType\"].isin([\"노동당\",\"인민군\",\"정권기관\"])].agg({\"Multiple\":\"sum\",\"Total\":\"sum\"})\n",
    "# tcol_social"
   ]
  },
  {
   "cell_type": "code",
   "execution_count": 101,
   "id": "e0239f89",
   "metadata": {},
   "outputs": [
    {
     "data": {
      "text/plain": [
       "0.05784469096671949"
      ]
     },
     "execution_count": 101,
     "metadata": {},
     "output_type": "execute_result"
    }
   ],
   "source": [
    "# social\n",
    "73 / 1262"
   ]
  },
  {
   "cell_type": "code",
   "execution_count": 105,
   "id": "9d03bcc1",
   "metadata": {},
   "outputs": [
    {
     "data": {
      "text/html": [
       "<div>\n",
       "<style scoped>\n",
       "    .dataframe tbody tr th:only-of-type {\n",
       "        vertical-align: middle;\n",
       "    }\n",
       "\n",
       "    .dataframe tbody tr th {\n",
       "        vertical-align: top;\n",
       "    }\n",
       "\n",
       "    .dataframe thead th {\n",
       "        text-align: right;\n",
       "    }\n",
       "</style>\n",
       "<table border=\"1\" class=\"dataframe\">\n",
       "  <thead>\n",
       "    <tr style=\"text-align: right;\">\n",
       "      <th></th>\n",
       "      <th>InstitutionType</th>\n",
       "      <th>Multiple</th>\n",
       "      <th>Total</th>\n",
       "      <th>Percent</th>\n",
       "    </tr>\n",
       "  </thead>\n",
       "  <tbody>\n",
       "    <tr>\n",
       "      <th>2</th>\n",
       "      <td>노동당</td>\n",
       "      <td>632</td>\n",
       "      <td>1665</td>\n",
       "      <td>0.379580</td>\n",
       "    </tr>\n",
       "    <tr>\n",
       "      <th>12</th>\n",
       "      <td>인민군</td>\n",
       "      <td>107</td>\n",
       "      <td>570</td>\n",
       "      <td>0.187719</td>\n",
       "    </tr>\n",
       "    <tr>\n",
       "      <th>13</th>\n",
       "      <td>정권기관</td>\n",
       "      <td>384</td>\n",
       "      <td>2194</td>\n",
       "      <td>0.175023</td>\n",
       "    </tr>\n",
       "  </tbody>\n",
       "</table>\n",
       "</div>"
      ],
      "text/plain": [
       "   InstitutionType  Multiple  Total   Percent\n",
       "2              노동당       632   1665  0.379580\n",
       "12             인민군       107    570  0.187719\n",
       "13            정권기관       384   2194  0.175023"
      ]
     },
     "execution_count": 105,
     "metadata": {},
     "output_type": "execute_result"
    }
   ],
   "source": [
    "tcol_combo[\"Percent\"] = tcol_combo[\"Multiple\"]/tcol_combo[\"Total\"]\n",
    "tcol_combo[tcol_combo[\"InstitutionType\"].isin([\"노동당\",\"인민군\",\"정권기관\"])]"
   ]
  },
  {
   "cell_type": "code",
   "execution_count": 94,
   "id": "1d4b960a",
   "metadata": {},
   "outputs": [
    {
     "data": {
      "text/html": [
       "<div>\n",
       "<style scoped>\n",
       "    .dataframe tbody tr th:only-of-type {\n",
       "        vertical-align: middle;\n",
       "    }\n",
       "\n",
       "    .dataframe tbody tr th {\n",
       "        vertical-align: top;\n",
       "    }\n",
       "\n",
       "    .dataframe thead th {\n",
       "        text-align: right;\n",
       "    }\n",
       "</style>\n",
       "<table border=\"1\" class=\"dataframe\">\n",
       "  <thead>\n",
       "    <tr style=\"text-align: right;\">\n",
       "      <th></th>\n",
       "      <th>InstitutionType</th>\n",
       "      <th>Multiple</th>\n",
       "      <th>Total</th>\n",
       "      <th>Percent</th>\n",
       "    </tr>\n",
       "  </thead>\n",
       "  <tbody>\n",
       "    <tr>\n",
       "      <th>1</th>\n",
       "      <td>국제친선단체</td>\n",
       "      <td>18</td>\n",
       "      <td>258</td>\n",
       "      <td>0.069767</td>\n",
       "    </tr>\n",
       "    <tr>\n",
       "      <th>2</th>\n",
       "      <td>노동당</td>\n",
       "      <td>632</td>\n",
       "      <td>1665</td>\n",
       "      <td>0.379580</td>\n",
       "    </tr>\n",
       "    <tr>\n",
       "      <th>3</th>\n",
       "      <td>당외곽및사회단체_경제부문</td>\n",
       "      <td>1</td>\n",
       "      <td>35</td>\n",
       "      <td>0.028571</td>\n",
       "    </tr>\n",
       "    <tr>\n",
       "      <th>4</th>\n",
       "      <td>당외곽및사회단체_경제부문(별책)</td>\n",
       "      <td>2</td>\n",
       "      <td>115</td>\n",
       "      <td>0.017391</td>\n",
       "    </tr>\n",
       "    <tr>\n",
       "      <th>5</th>\n",
       "      <td>당외곽및사회단체_근로단체</td>\n",
       "      <td>3</td>\n",
       "      <td>103</td>\n",
       "      <td>0.029126</td>\n",
       "    </tr>\n",
       "    <tr>\n",
       "      <th>6</th>\n",
       "      <td>당외곽및사회단체_대외부문</td>\n",
       "      <td>8</td>\n",
       "      <td>81</td>\n",
       "      <td>0.098765</td>\n",
       "    </tr>\n",
       "    <tr>\n",
       "      <th>7</th>\n",
       "      <td>당외곽및사회단체_사회부문</td>\n",
       "      <td>11</td>\n",
       "      <td>126</td>\n",
       "      <td>0.087302</td>\n",
       "    </tr>\n",
       "    <tr>\n",
       "      <th>8</th>\n",
       "      <td>당외곽및사회단체_사회부문(별책)</td>\n",
       "      <td>15</td>\n",
       "      <td>259</td>\n",
       "      <td>0.057915</td>\n",
       "    </tr>\n",
       "    <tr>\n",
       "      <th>9</th>\n",
       "      <td>당외곽및사회단체_정치부문</td>\n",
       "      <td>5</td>\n",
       "      <td>137</td>\n",
       "      <td>0.036496</td>\n",
       "    </tr>\n",
       "    <tr>\n",
       "      <th>10</th>\n",
       "      <td>당외곽및사회단체_종교부문</td>\n",
       "      <td>3</td>\n",
       "      <td>52</td>\n",
       "      <td>0.057692</td>\n",
       "    </tr>\n",
       "    <tr>\n",
       "      <th>11</th>\n",
       "      <td>당외곽및사회단체_체육부문</td>\n",
       "      <td>7</td>\n",
       "      <td>96</td>\n",
       "      <td>0.072917</td>\n",
       "    </tr>\n",
       "    <tr>\n",
       "      <th>12</th>\n",
       "      <td>인민군</td>\n",
       "      <td>107</td>\n",
       "      <td>570</td>\n",
       "      <td>0.187719</td>\n",
       "    </tr>\n",
       "    <tr>\n",
       "      <th>13</th>\n",
       "      <td>정권기관</td>\n",
       "      <td>384</td>\n",
       "      <td>2194</td>\n",
       "      <td>0.175023</td>\n",
       "    </tr>\n",
       "  </tbody>\n",
       "</table>\n",
       "</div>"
      ],
      "text/plain": [
       "      InstitutionType  Multiple  Total   Percent\n",
       "1              국제친선단체        18    258  0.069767\n",
       "2                 노동당       632   1665  0.379580\n",
       "3       당외곽및사회단체_경제부문         1     35  0.028571\n",
       "4   당외곽및사회단체_경제부문(별책)         2    115  0.017391\n",
       "5       당외곽및사회단체_근로단체         3    103  0.029126\n",
       "6       당외곽및사회단체_대외부문         8     81  0.098765\n",
       "7       당외곽및사회단체_사회부문        11    126  0.087302\n",
       "8   당외곽및사회단체_사회부문(별책)        15    259  0.057915\n",
       "9       당외곽및사회단체_정치부문         5    137  0.036496\n",
       "10      당외곽및사회단체_종교부문         3     52  0.057692\n",
       "11      당외곽및사회단체_체육부문         7     96  0.072917\n",
       "12                인민군       107    570  0.187719\n",
       "13               정권기관       384   2194  0.175023"
      ]
     },
     "execution_count": 94,
     "metadata": {},
     "output_type": "execute_result"
    }
   ],
   "source": [
    "tcol_combo"
   ]
  },
  {
   "cell_type": "markdown",
   "id": "af62eaab",
   "metadata": {},
   "source": [
    "# Hypothesis Test - # of Joint Appointments in Two Periods"
   ]
  },
  {
   "cell_type": "markdown",
   "id": "2bdeed96",
   "metadata": {},
   "source": [
    "### 1. two-sample t-test of proportion of joint appointments"
   ]
  },
  {
   "cell_type": "code",
   "execution_count": 173,
   "id": "b080d260",
   "metadata": {},
   "outputs": [
    {
     "data": {
      "text/plain": [
       "Index(['LeaderID', 'CareerString', 'CareerStartYear', 'MultipleSubstrings',\n",
       "       'IsJointAppointment', 'Succession_Broad', 'Succession_Narrow'],\n",
       "      dtype='object')"
      ]
     },
     "execution_count": 173,
     "metadata": {},
     "output_type": "execute_result"
    }
   ],
   "source": [
    "lappt.columns"
   ]
  },
  {
   "cell_type": "code",
   "execution_count": 174,
   "id": "41ed1375",
   "metadata": {},
   "outputs": [
    {
     "data": {
      "text/html": [
       "<div>\n",
       "<style scoped>\n",
       "    .dataframe tbody tr th:only-of-type {\n",
       "        vertical-align: middle;\n",
       "    }\n",
       "\n",
       "    .dataframe tbody tr th {\n",
       "        vertical-align: top;\n",
       "    }\n",
       "\n",
       "    .dataframe thead th {\n",
       "        text-align: right;\n",
       "    }\n",
       "</style>\n",
       "<table border=\"1\" class=\"dataframe\">\n",
       "  <thead>\n",
       "    <tr style=\"text-align: right;\">\n",
       "      <th></th>\n",
       "      <th>Succession_Broad</th>\n",
       "      <th>CareerString</th>\n",
       "      <th>IsJointAppointment</th>\n",
       "    </tr>\n",
       "  </thead>\n",
       "  <tbody>\n",
       "    <tr>\n",
       "      <th>0</th>\n",
       "      <td>KIS to KJI</td>\n",
       "      <td>1415</td>\n",
       "      <td>170</td>\n",
       "    </tr>\n",
       "    <tr>\n",
       "      <th>1</th>\n",
       "      <td>KJI to KJU</td>\n",
       "      <td>1445</td>\n",
       "      <td>193</td>\n",
       "    </tr>\n",
       "  </tbody>\n",
       "</table>\n",
       "</div>"
      ],
      "text/plain": [
       "  Succession_Broad  CareerString  IsJointAppointment\n",
       "0       KIS to KJI          1415                 170\n",
       "1       KJI to KJU          1445                 193"
      ]
     },
     "execution_count": 174,
     "metadata": {},
     "output_type": "execute_result"
    }
   ],
   "source": [
    "group_columns = [\"Succession_Broad\"]\n",
    "ttest1 = lappt.groupby(group_columns,as_index=False).agg({\"CareerString\":\"count\",\"IsJointAppointment\":\"sum\"})\n",
    "ttest1"
   ]
  },
  {
   "cell_type": "code",
   "execution_count": 175,
   "id": "685b2fb9",
   "metadata": {},
   "outputs": [
    {
     "name": "stdout",
     "output_type": "stream",
     "text": [
      "170 193 1415 1445 0.05\n"
     ]
    }
   ],
   "source": [
    "x1 = ttest1.iloc[0,2]\n",
    "x2 = ttest1.iloc[1,2]\n",
    "n1 = ttest1.iloc[0,1]\n",
    "n2 = ttest1.iloc[1,1]\n",
    "alpha = .05\n",
    "print(x1,x2,n1,n2,alpha)"
   ]
  },
  {
   "cell_type": "code",
   "execution_count": 176,
   "id": "dbc26d27",
   "metadata": {},
   "outputs": [
    {
     "name": "stdout",
     "output_type": "stream",
     "text": [
      "p1:\t 0.12014134275618374\n",
      "p2:\t 0.13356401384083044\n",
      "p1-p2:\t -0.013422671084646703\n",
      "z:\t -1.0781309772160719\n",
      "pvalue:\t calculate\n"
     ]
    }
   ],
   "source": [
    "two_sample_ttest_proportions(x1,x2,n1,n2,alpha)"
   ]
  },
  {
   "cell_type": "markdown",
   "id": "dfc10c85",
   "metadata": {},
   "source": [
    "### 2. two-sample t-test of mean  joint appointments"
   ]
  },
  {
   "cell_type": "code",
   "execution_count": 181,
   "id": "7e4addf7",
   "metadata": {},
   "outputs": [
    {
     "data": {
      "text/html": [
       "<div>\n",
       "<style scoped>\n",
       "    .dataframe tbody tr th:only-of-type {\n",
       "        vertical-align: middle;\n",
       "    }\n",
       "\n",
       "    .dataframe tbody tr th {\n",
       "        vertical-align: top;\n",
       "    }\n",
       "\n",
       "    .dataframe thead tr th {\n",
       "        text-align: left;\n",
       "    }\n",
       "</style>\n",
       "<table border=\"1\" class=\"dataframe\">\n",
       "  <thead>\n",
       "    <tr>\n",
       "      <th></th>\n",
       "      <th>Succession_Broad</th>\n",
       "      <th>CareerString</th>\n",
       "      <th colspan=\"2\" halign=\"left\">MultipleSubstrings</th>\n",
       "    </tr>\n",
       "    <tr>\n",
       "      <th></th>\n",
       "      <th></th>\n",
       "      <th>count</th>\n",
       "      <th>mean</th>\n",
       "      <th>var</th>\n",
       "    </tr>\n",
       "  </thead>\n",
       "  <tbody>\n",
       "    <tr>\n",
       "      <th>0</th>\n",
       "      <td>KIS to KJI</td>\n",
       "      <td>1415</td>\n",
       "      <td>1.158304</td>\n",
       "      <td>0.226690</td>\n",
       "    </tr>\n",
       "    <tr>\n",
       "      <th>1</th>\n",
       "      <td>KJI to KJU</td>\n",
       "      <td>1445</td>\n",
       "      <td>1.172318</td>\n",
       "      <td>0.242446</td>\n",
       "    </tr>\n",
       "  </tbody>\n",
       "</table>\n",
       "</div>"
      ],
      "text/plain": [
       "  Succession_Broad CareerString MultipleSubstrings          \n",
       "                          count               mean       var\n",
       "0       KIS to KJI         1415           1.158304  0.226690\n",
       "1       KJI to KJU         1445           1.172318  0.242446"
      ]
     },
     "execution_count": 181,
     "metadata": {},
     "output_type": "execute_result"
    }
   ],
   "source": [
    "group_columns = [\"Succession_Broad\"]\n",
    "ttest2 = lappt.groupby(group_columns,as_index=False).agg({\"CareerString\":\"count\",\"MultipleSubstrings\":[\"mean\",\"var\"]})\n",
    "ttest2"
   ]
  },
  {
   "cell_type": "code",
   "execution_count": 184,
   "id": "f107e75f",
   "metadata": {},
   "outputs": [
    {
     "name": "stdout",
     "output_type": "stream",
     "text": [
      "1.1583038869257951 1.172318339100346 0.22669019047285835 0.24244649138782193 1415 1445 0.05\n"
     ]
    }
   ],
   "source": [
    "n1 = ttest2.iloc[0,1]\n",
    "m1 = ttest2.iloc[0,2]\n",
    "v1 = ttest2.iloc[0,3]\n",
    "\n",
    "n2 = ttest2.iloc[1,1]\n",
    "m2 = ttest2.iloc[1,2]\n",
    "v2 = ttest2.iloc[1,3]\n",
    "\n",
    "alpha = .05\n",
    "print(m1,m2,v1,v2,n1,n2,alpha)"
   ]
  },
  {
   "cell_type": "code",
   "execution_count": 194,
   "id": "11db3e68",
   "metadata": {},
   "outputs": [
    {
     "name": "stdout",
     "output_type": "stream",
     "text": [
      "m1:\t 1.1583038869257951\n",
      "m2:\t 1.172318339100346\n",
      "m1-m2:\t -0.014014452174550884\n",
      "t:\t -0.773832683675395\n",
      "pvalue:\t calculate\n"
     ]
    }
   ],
   "source": [
    "two_sample_ttest_means(m1,m2,v1,v2,n1,n2,alpha)"
   ]
  },
  {
   "cell_type": "code",
   "execution_count": null,
   "id": "56fc8b2b",
   "metadata": {},
   "outputs": [],
   "source": []
  }
 ],
 "metadata": {
  "kernelspec": {
   "display_name": "Python 3 (ipykernel)",
   "language": "python",
   "name": "python3"
  },
  "language_info": {
   "codemirror_mode": {
    "name": "ipython",
    "version": 3
   },
   "file_extension": ".py",
   "mimetype": "text/x-python",
   "name": "python",
   "nbconvert_exporter": "python",
   "pygments_lexer": "ipython3",
   "version": "3.11.5"
  }
 },
 "nbformat": 4,
 "nbformat_minor": 5
}
