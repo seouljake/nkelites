{
 "cells": [
  {
   "cell_type": "code",
   "execution_count": 1,
   "id": "74698cf3",
   "metadata": {},
   "outputs": [],
   "source": [
    "import pandas as pd\n",
    "import numpy as np\n",
    "from datetime import date\n",
    "from statistics import mean, mode\n",
    "from pandas.api.types import CategoricalDtype\n",
    "pd.set_option('display.max_rows', None)"
   ]
  },
  {
   "cell_type": "code",
   "execution_count": 2,
   "id": "75aa1647",
   "metadata": {},
   "outputs": [
    {
     "name": "stdout",
     "output_type": "stream",
     "text": [
      "2023-10-22\n"
     ]
    }
   ],
   "source": [
    "today = date.today()\n",
    "print(today)"
   ]
  },
  {
   "cell_type": "markdown",
   "id": "aaf25c71",
   "metadata": {},
   "source": [
    "# Tables"
   ]
  },
  {
   "cell_type": "code",
   "execution_count": 3,
   "id": "f2c9c339",
   "metadata": {},
   "outputs": [],
   "source": [
    "path_tables = \"C:/Users/seoul/Dropbox/00 technical/github/nkelites/data/combined data/combined data - 2 tables/\""
   ]
  },
  {
   "cell_type": "code",
   "execution_count": 4,
   "id": "200fa7f5",
   "metadata": {},
   "outputs": [],
   "source": [
    "# tables\n",
    "filename_careerorglink = \"careerorglink.xlsx\"\n",
    "filename_leadercareerlink = \"leadercareerlink.xlsx\"\n",
    "filename_orgtree = \"orgtree.xlsx\"\n",
    "filename_elected = \"positions_elected.xlsx\""
   ]
  },
  {
   "cell_type": "code",
   "execution_count": 5,
   "id": "b7d9b165",
   "metadata": {
    "scrolled": true
   },
   "outputs": [
    {
     "data": {
      "text/plain": [
       "(9002, 12)"
      ]
     },
     "execution_count": 5,
     "metadata": {},
     "output_type": "execute_result"
    }
   ],
   "source": [
    "col = pd.read_excel(path_tables + filename_careerorglink,dtype=\"str\")\n",
    "col.shape"
   ]
  },
  {
   "cell_type": "code",
   "execution_count": 6,
   "id": "0bd17a8f",
   "metadata": {},
   "outputs": [
    {
     "data": {
      "text/plain": [
       "Index(['CareerString', 'CareerDateString_2022', 'IsJob', 'MultipleSubstrings',\n",
       "       'CareerStartYear', 'CareerStartMonth', 'CareerSubstring',\n",
       "       'InstitutionType', 'PrimaryInstitution', 'OrgName', 'Position',\n",
       "       'Notes'],\n",
       "      dtype='object')"
      ]
     },
     "execution_count": 6,
     "metadata": {},
     "output_type": "execute_result"
    }
   ],
   "source": [
    "col.columns"
   ]
  },
  {
   "cell_type": "code",
   "execution_count": 7,
   "id": "4aa22e14",
   "metadata": {},
   "outputs": [
    {
     "data": {
      "text/plain": [
       "(12617, 3)"
      ]
     },
     "execution_count": 7,
     "metadata": {},
     "output_type": "execute_result"
    }
   ],
   "source": [
    "lcl = pd.read_excel(path_tables + filename_leadercareerlink,dtype=\"str\")\n",
    "lcl.shape"
   ]
  },
  {
   "cell_type": "code",
   "execution_count": 8,
   "id": "ac0f5205",
   "metadata": {},
   "outputs": [
    {
     "data": {
      "text/plain": [
       "Index(['LeaderID', 'CareerString', 'CareerDateString_2022'], dtype='object')"
      ]
     },
     "execution_count": 8,
     "metadata": {},
     "output_type": "execute_result"
    }
   ],
   "source": [
    "lcl.columns"
   ]
  },
  {
   "cell_type": "code",
   "execution_count": 9,
   "id": "44ba37bd",
   "metadata": {},
   "outputs": [
    {
     "data": {
      "text/plain": [
       "(2368, 19)"
      ]
     },
     "execution_count": 9,
     "metadata": {},
     "output_type": "execute_result"
    }
   ],
   "source": [
    "org = pd.read_excel(path_tables + filename_orgtree,dtype=\"str\")\n",
    "org.shape"
   ]
  },
  {
   "cell_type": "code",
   "execution_count": 10,
   "id": "05b6e3e8",
   "metadata": {},
   "outputs": [
    {
     "data": {
      "text/plain": [
       "Index(['InstitutionType', 'OrgType', 'PrimaryInstitution', 'OrgName',\n",
       "       'PI_Index', 'OrgRank', 'P1', 'P2', 'P3', 'Alias_OrgName',\n",
       "       'LinkToNext_PI', 'LinkToNext_Org', 'LinkToNext_Year', 'Notes',\n",
       "       'L1_Index', 'L2_Index', 'L3_Index', 'L4_Index', 'L5_Index'],\n",
       "      dtype='object')"
      ]
     },
     "execution_count": 10,
     "metadata": {},
     "output_type": "execute_result"
    }
   ],
   "source": [
    "org.columns"
   ]
  },
  {
   "cell_type": "code",
   "execution_count": 11,
   "id": "b93b05ba",
   "metadata": {},
   "outputs": [
    {
     "data": {
      "text/plain": [
       "(105, 4)"
      ]
     },
     "execution_count": 11,
     "metadata": {},
     "output_type": "execute_result"
    }
   ],
   "source": [
    "elected = pd.read_excel(path_tables + filename_elected,dtype=\"str\")\n",
    "elected.shape"
   ]
  },
  {
   "cell_type": "code",
   "execution_count": 12,
   "id": "011dfaa4",
   "metadata": {},
   "outputs": [
    {
     "data": {
      "text/plain": [
       "Index(['PrimaryInstitution', 'OrgName', 'Position', 'IsElected'], dtype='object')"
      ]
     },
     "execution_count": 12,
     "metadata": {},
     "output_type": "execute_result"
    }
   ],
   "source": [
    "elected.columns"
   ]
  },
  {
   "cell_type": "markdown",
   "id": "52841326",
   "metadata": {},
   "source": [
    "# Queries"
   ]
  },
  {
   "cell_type": "code",
   "execution_count": 13,
   "id": "df5b44ce",
   "metadata": {},
   "outputs": [],
   "source": [
    "path_queries = \"C:/Users/seoul/Dropbox/00 technical/github/nkelites/data/combined data/combined data - 3 queries/\""
   ]
  },
  {
   "cell_type": "code",
   "execution_count": 14,
   "id": "7a0352b8",
   "metadata": {},
   "outputs": [],
   "source": [
    "# jobs and job transitions, elected & unelected, in and out of gov\n",
    "filename_leaderjob_electUnelect_inOutgov = \"leaderjob_electUnelect_inOutgov.xlsx\"\n",
    "filename_leaderjobtransition_electUnelect_inOutgov = \"leaderjobtransition_electUnelect_inOutgov.xlsx\""
   ]
  },
  {
   "cell_type": "code",
   "execution_count": 15,
   "id": "c878347a",
   "metadata": {},
   "outputs": [
    {
     "data": {
      "text/plain": [
       "(8594, 14)"
      ]
     },
     "execution_count": 15,
     "metadata": {},
     "output_type": "execute_result"
    }
   ],
   "source": [
    "# certain jobs\n",
    "# IsJob == True\n",
    "# InstitutionType, PrimaryInstitution, OrgName != \"Uncertain\"\n",
    "jobs = pd.read_excel(path_queries + filename_leaderjob_electUnelect_inOutgov,dtype=\"str\")\n",
    "jobs.shape"
   ]
  },
  {
   "cell_type": "code",
   "execution_count": 16,
   "id": "31cb5cd4",
   "metadata": {},
   "outputs": [
    {
     "data": {
      "text/plain": [
       "(6311, 29)"
      ]
     },
     "execution_count": 16,
     "metadata": {},
     "output_type": "execute_result"
    }
   ],
   "source": [
    "trans = pd.read_excel(path_queries + filename_leaderjobtransition_electUnelect_inOutgov,dtype=\"str\")\n",
    "trans.shape"
   ]
  },
  {
   "cell_type": "markdown",
   "id": "224feffb",
   "metadata": {},
   "source": [
    "#### change datatypes"
   ]
  },
  {
   "cell_type": "code",
   "execution_count": 17,
   "id": "b22117ac",
   "metadata": {},
   "outputs": [
    {
     "data": {
      "text/plain": [
       "LeaderID                   object\n",
       "CareerString_1             object\n",
       "CareerDateString_2022_1    object\n",
       "CareerStartYear_1           int32\n",
       "CareerStartMonth_1         object\n",
       "CareerStartDate_1          object\n",
       "CareerSubstring_1          object\n",
       "InstitutionType_1          object\n",
       "PrimaryInstitution_1       object\n",
       "OrgName_1                  object\n",
       "Position_1                 object\n",
       "IsElected_1                object\n",
       "OrgRank_1                  object\n",
       "PositionRank_1             object\n",
       "CareerString_2             object\n",
       "CareerDateString_2022_2    object\n",
       "CareerStartYear_2          object\n",
       "CareerStartMonth_2         object\n",
       "CareerStartDate_2          object\n",
       "CareerSubstring_2          object\n",
       "InstitutionType_2          object\n",
       "PrimaryInstitution_2       object\n",
       "OrgName_2                  object\n",
       "Position_2                 object\n",
       "IsElected_2                object\n",
       "OrgRank_2                  object\n",
       "PositionRank_2             object\n",
       "OrgAdvance                  int32\n",
       "PositionAdvance             int32\n",
       "dtype: object"
      ]
     },
     "execution_count": 17,
     "metadata": {},
     "output_type": "execute_result"
    }
   ],
   "source": [
    "trans = trans.astype({\"OrgAdvance\":\"int\",\"PositionAdvance\":\"int\",\"CareerStartYear_1\":\"int\"})\n",
    "trans.dtypes"
   ]
  },
  {
   "cell_type": "markdown",
   "id": "7d59db9d",
   "metadata": {},
   "source": [
    "# Functions"
   ]
  },
  {
   "cell_type": "code",
   "execution_count": 18,
   "id": "ba5de424",
   "metadata": {},
   "outputs": [],
   "source": [
    "def merge_results(m):\n",
    "    \n",
    "    print(\"\\nMerge Results...\")\n",
    "    print(\"\")\n",
    "    print(\"\\tshape     :\",m.shape)\n",
    "    print(\"\\tleft_only :\",m[m[\"_merge\"]==\"left_only\"].shape)\n",
    "    print(\"\\tboth      :\",m[m[\"_merge\"]==\"both\"].shape)\n",
    "    print(\"\\tright_only:\",m[m[\"_merge\"]==\"right_only\"].shape)"
   ]
  },
  {
   "cell_type": "code",
   "execution_count": 19,
   "id": "d3411709",
   "metadata": {},
   "outputs": [],
   "source": [
    "# using this on (PI,OrgName) will ensure unique & non-null keys\n",
    "# using this on a larger df will ensure unique rows and non-null keys, but not unique keys\n",
    "\n",
    "def unique_non_null_rows(olddf):\n",
    "    \n",
    "    df = olddf.copy()\n",
    "    \n",
    "    \n",
    "    ### drop duplicates\n",
    "    df = df.drop_duplicates(keep=\"first\",ignore_index=True)\n",
    "\n",
    "    ### drop null rows\n",
    "    df.dropna(how=\"all\",axis=0,inplace=True)\n",
    "    \n",
    "    # drop rows with null PI\n",
    "    df = df[~(df[\"PrimaryInstitution\"].isna())]\n",
    "        \n",
    "    ### drop rows where PI contains stop words\n",
    "    stop_words_lower = [\"uncertain\",\"current\",\"deprecated\",\"please_revise\"]\n",
    "    df = df[ ~ df[\"PrimaryInstitution\"].str.lower().isin(stop_words_lower)]\n",
    "            \n",
    "\n",
    "    print(\"\\nUnique Non-null Rows...\")\n",
    "    print(\"\")\n",
    "    print(\"\\tNon-unique rows:\",olddf.shape)\n",
    "    print(\"\\tUnique rows    :\",df.shape)\n",
    "\n",
    "    ### sort\n",
    "    df = df.sort_values([\"PrimaryInstitution\",\"OrgName\"])\n",
    "    \n",
    "    return df"
   ]
  },
  {
   "cell_type": "code",
   "execution_count": 20,
   "id": "945f13c9",
   "metadata": {},
   "outputs": [],
   "source": [
    "def create_time_series(series,group_var,count_var):\n",
    "    \n",
    "    yeardist = series.groupby(group_var,as_index=False).count().sort_values(group_var)\n",
    "    \n",
    "    max_year = max(series[group_var])\n",
    "    x = pd.DataFrame({\"year\":pd.Series(range(min(yeardist[group_var].astype(int)),max(yeardist[group_var].astype(int))+1))})\n",
    "    \n",
    "    yeardist[group_var] = yeardist[group_var].astype(int,errors=\"ignore\")\n",
    "    \n",
    "    ts = x.merge(yeardist,left_on=\"year\",right_on=group_var,how=\"left\")\n",
    "    ts.loc[ts[count_var].isna(),count_var]=0\n",
    "    # merge_results(ts)\n",
    "    \n",
    "    ts_columns = [\"year\",count_var]\n",
    "    ts = ts[ts_columns]\n",
    "    \n",
    "    return ts"
   ]
  },
  {
   "cell_type": "markdown",
   "id": "16c49e74",
   "metadata": {},
   "source": [
    "# Analysis - Research Note"
   ]
  },
  {
   "cell_type": "code",
   "execution_count": 21,
   "id": "39648498",
   "metadata": {},
   "outputs": [],
   "source": [
    "path_analysis = \"C:/Users/seoul/Dropbox/00 technical/github/nkelites/analysis/\""
   ]
  },
  {
   "cell_type": "code",
   "execution_count": 22,
   "id": "72a5cd0f",
   "metadata": {},
   "outputs": [],
   "source": [
    "# analysis sub-paths\n",
    "study0_path = \"2023.10.04 Study 0 - research note/\"\n",
    "study1_path = \"2023.10.04 Study 1 - political capital/\"\n",
    "study2_path = \"2023.10.04 Study 2 - commitment vs control/\"\n",
    "study3_path = \"2023.10.04 Study 3 - reds vs experts/\""
   ]
  },
  {
   "cell_type": "markdown",
   "id": "e07d878c",
   "metadata": {},
   "source": [
    "### SPA leaders and 대의원"
   ]
  },
  {
   "cell_type": "code",
   "execution_count": 106,
   "id": "bcf88b1f",
   "metadata": {},
   "outputs": [
    {
     "data": {
      "text/plain": [
       "460"
      ]
     },
     "execution_count": 106,
     "metadata": {},
     "output_type": "execute_result"
    }
   ],
   "source": [
    "# SPA leaders: elites who held at least one SPA job\n",
    "spa_leaders = list(jobs.loc[jobs.PrimaryInstitution==\"최고인민회의\",\"LeaderID\"].unique())\n",
    "len(spa_leaders)"
   ]
  },
  {
   "cell_type": "code",
   "execution_count": 107,
   "id": "45e8aaac",
   "metadata": {},
   "outputs": [
    {
     "data": {
      "text/plain": [
       "438"
      ]
     },
     "execution_count": 107,
     "metadata": {},
     "output_type": "execute_result"
    }
   ],
   "source": [
    "# SPA reps: elites who held SPA 대의원 job at least once\n",
    "spa_reps = list(jobs.loc[(jobs.PrimaryInstitution==\"최고인민회의\") & (jobs.Position==\"대의원\"),\"LeaderID\"].unique())\n",
    "len(spa_reps)"
   ]
  },
  {
   "cell_type": "code",
   "execution_count": 108,
   "id": "46fbb0c2",
   "metadata": {},
   "outputs": [
    {
     "data": {
      "text/plain": [
       "22"
      ]
     },
     "execution_count": 108,
     "metadata": {},
     "output_type": "execute_result"
    }
   ],
   "source": [
    "# SPA leaders who never held SPA 대의원 job at least once\n",
    "len(spa_leaders) - len(spa_reps)"
   ]
  },
  {
   "cell_type": "markdown",
   "id": "ae2690ab",
   "metadata": {},
   "source": [
    "### SPA jobs"
   ]
  },
  {
   "cell_type": "code",
   "execution_count": 109,
   "id": "64ab9b92",
   "metadata": {},
   "outputs": [],
   "source": [
    "# SPA jobs\n",
    "spa_jobs = jobs[jobs.PrimaryInstitution==\"최고인민회의\"]"
   ]
  },
  {
   "cell_type": "code",
   "execution_count": 118,
   "id": "eb7ffe43",
   "metadata": {},
   "outputs": [
    {
     "data": {
      "text/plain": [
       "(460, 14)"
      ]
     },
     "execution_count": 118,
     "metadata": {},
     "output_type": "execute_result"
    }
   ],
   "source": [
    "# SPA job counts by leader\n",
    "spa_jobs_dist = spa_jobs.groupby(\"LeaderID\",as_index=False).count()\n",
    "spa_jobs_dist.shape"
   ]
  },
  {
   "cell_type": "code",
   "execution_count": 119,
   "id": "f28fd27a",
   "metadata": {},
   "outputs": [
    {
     "data": {
      "text/plain": [
       "(91, 14)"
      ]
     },
     "execution_count": 119,
     "metadata": {},
     "output_type": "execute_result"
    }
   ],
   "source": [
    "# SPA leaders with only 1 SPA job\n",
    "spa_jobs_dist[spa_jobs_dist.Position==1].shape"
   ]
  },
  {
   "cell_type": "code",
   "execution_count": 120,
   "id": "6fa951a4",
   "metadata": {},
   "outputs": [
    {
     "data": {
      "text/plain": [
       "(369, 14)"
      ]
     },
     "execution_count": 120,
     "metadata": {},
     "output_type": "execute_result"
    }
   ],
   "source": [
    "spa_jobs_dist[spa_jobs_dist.Position>1].shape"
   ]
  },
  {
   "cell_type": "code",
   "execution_count": 121,
   "id": "a1d371f0",
   "metadata": {},
   "outputs": [
    {
     "data": {
      "text/plain": [
       "460"
      ]
     },
     "execution_count": 121,
     "metadata": {},
     "output_type": "execute_result"
    }
   ],
   "source": [
    "369 + 91"
   ]
  },
  {
   "cell_type": "code",
   "execution_count": 123,
   "id": "b43b1f54",
   "metadata": {},
   "outputs": [
    {
     "data": {
      "text/plain": [
       "91"
      ]
     },
     "execution_count": 123,
     "metadata": {},
     "output_type": "execute_result"
    }
   ],
   "source": [
    "# SPA leaders with only 1 SPA job\n",
    "spa_jobs_once = list(spa_jobs_dist.loc[spa_jobs_dist.Position==1,\"LeaderID\"])\n",
    "len(spa_jobs_once)"
   ]
  },
  {
   "cell_type": "code",
   "execution_count": 124,
   "id": "a34ec2db",
   "metadata": {},
   "outputs": [
    {
     "data": {
      "text/plain": [
       "(91, 14)"
      ]
     },
     "execution_count": 124,
     "metadata": {},
     "output_type": "execute_result"
    }
   ],
   "source": [
    "# the jobs of SPA leaders with only 1 SPA job\n",
    "3spa_jobs_of_onetime_spa = spa_jobs[spa_jobs.LeaderID.isin(spa_jobs_once)]\n",
    "spa_jobs_of_onetime_spa.shape"
   ]
  },
  {
   "cell_type": "code",
   "execution_count": 125,
   "id": "5e43b89c",
   "metadata": {},
   "outputs": [
    {
     "data": {
      "text/plain": [
       "(72, 14)"
      ]
     },
     "execution_count": 125,
     "metadata": {},
     "output_type": "execute_result"
    }
   ],
   "source": [
    "# SPA one-time leaders who were 대의원\n",
    "spa_onetime_rep = spa_jobs_of_onetime_spa[spa_jobs_of_onetime_spa.Position==\"대의원\"]\n",
    "spa_onetime_rep.shape"
   ]
  },
  {
   "cell_type": "code",
   "execution_count": 126,
   "id": "78bbbf60",
   "metadata": {},
   "outputs": [
    {
     "data": {
      "text/plain": [
       "19"
      ]
     },
     "execution_count": 126,
     "metadata": {},
     "output_type": "execute_result"
    }
   ],
   "source": [
    "# SPA one-time leaders who were not 대의원\n",
    "91-72"
   ]
  },
  {
   "cell_type": "code",
   "execution_count": 132,
   "id": "b77093e4",
   "metadata": {},
   "outputs": [
    {
     "data": {
      "text/html": [
       "<div>\n",
       "<style scoped>\n",
       "    .dataframe tbody tr th:only-of-type {\n",
       "        vertical-align: middle;\n",
       "    }\n",
       "\n",
       "    .dataframe tbody tr th {\n",
       "        vertical-align: top;\n",
       "    }\n",
       "\n",
       "    .dataframe thead th {\n",
       "        text-align: right;\n",
       "    }\n",
       "</style>\n",
       "<table border=\"1\" class=\"dataframe\">\n",
       "  <thead>\n",
       "    <tr style=\"text-align: right;\">\n",
       "      <th></th>\n",
       "      <th>PrimaryInstitution</th>\n",
       "      <th>OrgName</th>\n",
       "      <th>Position</th>\n",
       "    </tr>\n",
       "  </thead>\n",
       "  <tbody>\n",
       "    <tr>\n",
       "      <th>2732</th>\n",
       "      <td>최고인민회의</td>\n",
       "      <td>평안남도인민위원회</td>\n",
       "      <td>위원장</td>\n",
       "    </tr>\n",
       "    <tr>\n",
       "      <th>6100</th>\n",
       "      <td>최고인민회의</td>\n",
       "      <td>자강도인민위원회</td>\n",
       "      <td>위원장</td>\n",
       "    </tr>\n",
       "    <tr>\n",
       "      <th>6245</th>\n",
       "      <td>최고인민회의</td>\n",
       "      <td>NaN</td>\n",
       "      <td>후보</td>\n",
       "    </tr>\n",
       "    <tr>\n",
       "      <th>6964</th>\n",
       "      <td>최고인민회의</td>\n",
       "      <td>법제위원회</td>\n",
       "      <td>위원</td>\n",
       "    </tr>\n",
       "    <tr>\n",
       "      <th>7007</th>\n",
       "      <td>최고인민회의</td>\n",
       "      <td>상임위원회</td>\n",
       "      <td>부위원장</td>\n",
       "    </tr>\n",
       "    <tr>\n",
       "      <th>7051</th>\n",
       "      <td>최고인민회의</td>\n",
       "      <td>상임위원회</td>\n",
       "      <td>위원</td>\n",
       "    </tr>\n",
       "    <tr>\n",
       "      <th>7078</th>\n",
       "      <td>최고인민회의</td>\n",
       "      <td>예산위원회</td>\n",
       "      <td>위원</td>\n",
       "    </tr>\n",
       "    <tr>\n",
       "      <th>7860</th>\n",
       "      <td>최고인민회의</td>\n",
       "      <td>중앙선거위원회</td>\n",
       "      <td>부위원장</td>\n",
       "    </tr>\n",
       "    <tr>\n",
       "      <th>7876</th>\n",
       "      <td>최고인민회의</td>\n",
       "      <td>외교위원회</td>\n",
       "      <td>위원</td>\n",
       "    </tr>\n",
       "    <tr>\n",
       "      <th>8518</th>\n",
       "      <td>최고인민회의</td>\n",
       "      <td>함경북도인민위원회</td>\n",
       "      <td>위원장</td>\n",
       "    </tr>\n",
       "  </tbody>\n",
       "</table>\n",
       "</div>"
      ],
      "text/plain": [
       "     PrimaryInstitution    OrgName Position\n",
       "2732             최고인민회의  평안남도인민위원회      위원장\n",
       "6100             최고인민회의   자강도인민위원회      위원장\n",
       "6245             최고인민회의        NaN       후보\n",
       "6964             최고인민회의      법제위원회       위원\n",
       "7007             최고인민회의      상임위원회     부위원장\n",
       "7051             최고인민회의      상임위원회       위원\n",
       "7078             최고인민회의      예산위원회       위원\n",
       "7860             최고인민회의    중앙선거위원회     부위원장\n",
       "7876             최고인민회의      외교위원회       위원\n",
       "8518             최고인민회의  함경북도인민위원회      위원장"
      ]
     },
     "execution_count": 132,
     "metadata": {},
     "output_type": "execute_result"
    }
   ],
   "source": [
    "spa_jobs_of_onetime_spa.loc[~(spa_jobs_of_onetime_spa.Position==\"대의원\"),[\"PrimaryInstitution\",\"OrgName\",\"Position\"]].drop_duplicates()"
   ]
  },
  {
   "cell_type": "code",
   "execution_count": 133,
   "id": "36b6f930",
   "metadata": {},
   "outputs": [
    {
     "data": {
      "text/html": [
       "<div>\n",
       "<style scoped>\n",
       "    .dataframe tbody tr th:only-of-type {\n",
       "        vertical-align: middle;\n",
       "    }\n",
       "\n",
       "    .dataframe tbody tr th {\n",
       "        vertical-align: top;\n",
       "    }\n",
       "\n",
       "    .dataframe thead th {\n",
       "        text-align: right;\n",
       "    }\n",
       "</style>\n",
       "<table border=\"1\" class=\"dataframe\">\n",
       "  <thead>\n",
       "    <tr style=\"text-align: right;\">\n",
       "      <th></th>\n",
       "      <th>LeaderID</th>\n",
       "      <th>CareerString</th>\n",
       "      <th>CareerDateString_2022</th>\n",
       "      <th>CareerStartYear</th>\n",
       "      <th>CareerStartMonth</th>\n",
       "      <th>CareerStartDate</th>\n",
       "      <th>CareerSubstring</th>\n",
       "      <th>InstitutionType</th>\n",
       "      <th>PrimaryInstitution</th>\n",
       "      <th>OrgName</th>\n",
       "      <th>Position</th>\n",
       "      <th>IsElected</th>\n",
       "      <th>OrgRank</th>\n",
       "      <th>PositionRank</th>\n",
       "    </tr>\n",
       "  </thead>\n",
       "  <tbody>\n",
       "    <tr>\n",
       "      <th>6245</th>\n",
       "      <td>박형렬</td>\n",
       "      <td>제49호 정백선거구 최고인민회의 제14기 대의원 후보</td>\n",
       "      <td>2019.03</td>\n",
       "      <td>2019</td>\n",
       "      <td>3</td>\n",
       "      <td>201903</td>\n",
       "      <td>NaN</td>\n",
       "      <td>정권기관</td>\n",
       "      <td>최고인민회의</td>\n",
       "      <td>NaN</td>\n",
       "      <td>후보</td>\n",
       "      <td>1</td>\n",
       "      <td>0</td>\n",
       "      <td>3</td>\n",
       "    </tr>\n",
       "  </tbody>\n",
       "</table>\n",
       "</div>"
      ],
      "text/plain": [
       "     LeaderID                   CareerString CareerDateString_2022  \\\n",
       "6245      박형렬  제49호 정백선거구 최고인민회의 제14기 대의원 후보               2019.03   \n",
       "\n",
       "     CareerStartYear CareerStartMonth CareerStartDate CareerSubstring  \\\n",
       "6245            2019                3          201903             NaN   \n",
       "\n",
       "     InstitutionType PrimaryInstitution OrgName Position IsElected OrgRank  \\\n",
       "6245            정권기관             최고인민회의     NaN       후보         1       0   \n",
       "\n",
       "     PositionRank  \n",
       "6245            3  "
      ]
     },
     "execution_count": 133,
     "metadata": {},
     "output_type": "execute_result"
    }
   ],
   "source": [
    "jobs[(jobs.PrimaryInstitution==\"최고인민회의\") & (jobs.Position==\"후보\")]"
   ]
  },
  {
   "cell_type": "markdown",
   "id": "b070a01a",
   "metadata": {},
   "source": [
    "### within-SPA career transitions leaders with 2+ jobs in the SPA"
   ]
  },
  {
   "cell_type": "code",
   "execution_count": 134,
   "id": "4ec060e7",
   "metadata": {},
   "outputs": [],
   "source": [
    "# spa jobs\n",
    "spa_trans_columns = [\"LeaderID\",\"CareerStartDate\",\"PrimaryInstitution\",\"OrgName\",\"Position\"]\n",
    "spa_jobs2 = spa_jobs[spa_trans_columns]"
   ]
  },
  {
   "cell_type": "code",
   "execution_count": 136,
   "id": "45d525d5",
   "metadata": {},
   "outputs": [
    {
     "data": {
      "text/plain": [
       "(28337, 9)"
      ]
     },
     "execution_count": 136,
     "metadata": {},
     "output_type": "execute_result"
    }
   ],
   "source": [
    "# all job pairings of all jobs ever held by SPA delegates\n",
    "spa_trans = spa_jobs2.merge(spa_jobs2,on=\"LeaderID\",how=\"inner\")\n",
    "spa_trans.shape"
   ]
  },
  {
   "cell_type": "code",
   "execution_count": 137,
   "id": "faad929c",
   "metadata": {},
   "outputs": [
    {
     "data": {
      "text/plain": [
       "(11884, 9)"
      ]
     },
     "execution_count": 137,
     "metadata": {},
     "output_type": "execute_result"
    }
   ],
   "source": [
    "# unique, ordered job pairings of all jobs ever held by SPA delegates\n",
    "spa_trans2 = spa_trans[spa_trans.CareerStartDate_x < spa_trans.CareerStartDate_y]\n",
    "spa_trans2.shape"
   ]
  },
  {
   "cell_type": "code",
   "execution_count": 138,
   "id": "5fa64907",
   "metadata": {},
   "outputs": [
    {
     "data": {
      "text/plain": [
       "350"
      ]
     },
     "execution_count": 138,
     "metadata": {},
     "output_type": "execute_result"
    }
   ],
   "source": [
    "# leaders with 2+ SPA jobs, not simultaneous\n",
    "len(spa_trans2[\"LeaderID\"].unique())"
   ]
  },
  {
   "cell_type": "code",
   "execution_count": 140,
   "id": "49c99e1e",
   "metadata": {},
   "outputs": [],
   "source": [
    "SPA_Top_OrgName = ['대의원자격심사위원회',\n",
    " '법안심의위원회',\n",
    " '법제위원회',\n",
    " '상설회의',\n",
    " '상임위원회',\n",
    " '예산위원회',\n",
    " '외교위원회',\n",
    " '자격심사위원회',\n",
    " '중앙선거위원회',\n",
    " '통일정책위원회']"
   ]
  },
  {
   "cell_type": "code",
   "execution_count": 142,
   "id": "645a01ec",
   "metadata": {},
   "outputs": [
    {
     "data": {
      "text/plain": [
       "116"
      ]
     },
     "execution_count": 142,
     "metadata": {},
     "output_type": "execute_result"
    }
   ],
   "source": [
    "### SPA 대의원 who later held higher SPA position\n",
    "spa_rep_leader = list(spa_trans2.loc[(spa_trans2.Position_x==\"대의원\") & (spa_trans2.OrgName_y.isin(SPA_Top_OrgName)),\"LeaderID\"].unique())\n",
    "len(spa_rep_leader)"
   ]
  },
  {
   "cell_type": "code",
   "execution_count": 143,
   "id": "36cf46aa",
   "metadata": {},
   "outputs": [
    {
     "data": {
      "text/plain": [
       "234"
      ]
     },
     "execution_count": 143,
     "metadata": {},
     "output_type": "execute_result"
    }
   ],
   "source": [
    "len(spa_trans2[\"LeaderID\"].unique()) - len(spa_rep_leader)"
   ]
  },
  {
   "cell_type": "code",
   "execution_count": 77,
   "id": "cb034791",
   "metadata": {},
   "outputs": [
    {
     "data": {
      "text/plain": [
       "233"
      ]
     },
     "execution_count": 77,
     "metadata": {},
     "output_type": "execute_result"
    }
   ],
   "source": [
    "# SPA leaders who had 2+ SPA jobs, but were never a 대의원 and then a leader\n",
    "# they may have been a rep 2+ times; or leader and then rep\n",
    "len(spa_rep_leader2) - len(spa_rep_leader1)"
   ]
  },
  {
   "cell_type": "code",
   "execution_count": 84,
   "id": "d560a561",
   "metadata": {},
   "outputs": [
    {
     "data": {
      "text/plain": [
       "349"
      ]
     },
     "execution_count": 84,
     "metadata": {},
     "output_type": "execute_result"
    }
   ],
   "source": [
    "233 + 116"
   ]
  },
  {
   "cell_type": "code",
   "execution_count": null,
   "id": "377b9d8e",
   "metadata": {},
   "outputs": [],
   "source": []
  }
 ],
 "metadata": {
  "kernelspec": {
   "display_name": "Python 3 (ipykernel)",
   "language": "python",
   "name": "python3"
  },
  "language_info": {
   "codemirror_mode": {
    "name": "ipython",
    "version": 3
   },
   "file_extension": ".py",
   "mimetype": "text/x-python",
   "name": "python",
   "nbconvert_exporter": "python",
   "pygments_lexer": "ipython3",
   "version": "3.11.5"
  }
 },
 "nbformat": 4,
 "nbformat_minor": 5
}
