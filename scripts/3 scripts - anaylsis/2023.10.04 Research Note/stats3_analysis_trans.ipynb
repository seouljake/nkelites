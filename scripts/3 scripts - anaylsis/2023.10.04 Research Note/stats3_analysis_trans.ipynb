{
 "cells": [
  {
   "cell_type": "code",
   "execution_count": 1,
   "id": "74698cf3",
   "metadata": {},
   "outputs": [],
   "source": [
    "import pandas as pd\n",
    "import numpy as np\n",
    "from datetime import date\n",
    "from statistics import mean, mode\n",
    "from pandas.api.types import CategoricalDtype"
   ]
  },
  {
   "cell_type": "code",
   "execution_count": 2,
   "id": "75aa1647",
   "metadata": {},
   "outputs": [
    {
     "name": "stdout",
     "output_type": "stream",
     "text": [
      "2023-12-14\n"
     ]
    }
   ],
   "source": [
    "today = date.today()\n",
    "print(today)"
   ]
  },
  {
   "cell_type": "markdown",
   "id": "aaf25c71",
   "metadata": {},
   "source": [
    "# Tables"
   ]
  },
  {
   "cell_type": "code",
   "execution_count": 3,
   "id": "f2c9c339",
   "metadata": {},
   "outputs": [],
   "source": [
    "path_tables = \"C:/Users/seoul/Dropbox/00 technical/github/nkelites/data/combined data/combined data - 2 tables/\""
   ]
  },
  {
   "cell_type": "code",
   "execution_count": 4,
   "id": "200fa7f5",
   "metadata": {},
   "outputs": [],
   "source": [
    "# tables\n",
    "filename_careerorglink = \"careerorglink.xlsx\"\n",
    "filename_leadercareerlink = \"leadercareerlink.xlsx\"\n",
    "filename_orgtree = \"orgtree.xlsx\"\n",
    "filename_elected = \"positions_elected.xlsx\""
   ]
  },
  {
   "cell_type": "code",
   "execution_count": 5,
   "id": "b7d9b165",
   "metadata": {
    "scrolled": true
   },
   "outputs": [],
   "source": [
    "# career-org link\n",
    "# col = pd.read_excel(path_tables + filename_careerorglink,dtype=\"str\")\n",
    "# col.shape"
   ]
  },
  {
   "cell_type": "code",
   "execution_count": 6,
   "id": "0bd17a8f",
   "metadata": {},
   "outputs": [],
   "source": [
    "# col.columns"
   ]
  },
  {
   "cell_type": "code",
   "execution_count": 7,
   "id": "4aa22e14",
   "metadata": {},
   "outputs": [],
   "source": [
    "# leader-career link\n",
    "# lcl = pd.read_excel(path_tables + filename_leadercareerlink,dtype=\"str\")\n",
    "# lcl.shape"
   ]
  },
  {
   "cell_type": "code",
   "execution_count": 8,
   "id": "ac0f5205",
   "metadata": {},
   "outputs": [],
   "source": [
    "# lcl.columns"
   ]
  },
  {
   "cell_type": "code",
   "execution_count": 9,
   "id": "44ba37bd",
   "metadata": {},
   "outputs": [],
   "source": [
    "# orgtree\n",
    "# org = pd.read_excel(path_tables + filename_orgtree,dtype=\"str\")\n",
    "# org.shape"
   ]
  },
  {
   "cell_type": "code",
   "execution_count": 10,
   "id": "05b6e3e8",
   "metadata": {},
   "outputs": [],
   "source": [
    "# org.columns"
   ]
  },
  {
   "cell_type": "code",
   "execution_count": 11,
   "id": "b93b05ba",
   "metadata": {},
   "outputs": [],
   "source": [
    "# elected = pd.read_excel(path_tables + filename_elected,dtype=\"str\")\n",
    "# elected.shape"
   ]
  },
  {
   "cell_type": "code",
   "execution_count": 12,
   "id": "011dfaa4",
   "metadata": {},
   "outputs": [],
   "source": [
    "# elected.columns"
   ]
  },
  {
   "cell_type": "markdown",
   "id": "52841326",
   "metadata": {},
   "source": [
    "# Queries"
   ]
  },
  {
   "cell_type": "code",
   "execution_count": 13,
   "id": "df5b44ce",
   "metadata": {},
   "outputs": [],
   "source": [
    "path_queries = \"C:/Users/seoul/Dropbox/00 technical/github/nkelites/data/combined data/combined data - 3 queries/\""
   ]
  },
  {
   "cell_type": "code",
   "execution_count": 14,
   "id": "4fa255b3",
   "metadata": {},
   "outputs": [],
   "source": [
    "filename_leaderjob_all = \"leaderjob_electUnelect_inOutgov.xlsx\"\n",
    "filename_leaderjob_no_spa = \"leaderjob_no_spa.xlsx\"\n",
    "filename_leaderjobtransition_no_spa = \"leaderjobtransition_no_spa.xlsx\""
   ]
  },
  {
   "cell_type": "code",
   "execution_count": 15,
   "id": "45955b23",
   "metadata": {},
   "outputs": [],
   "source": [
    "# leader jobs\n",
    "# ljobs_all = pd.read_excel(path_queries + filename_leaderjob_all,dtype=\"str\")\n",
    "# ljobs_all.shape"
   ]
  },
  {
   "cell_type": "code",
   "execution_count": 16,
   "id": "96354cc9",
   "metadata": {},
   "outputs": [],
   "source": [
    "# ljobs = pd.read_excel(path_queries + filename_leaderjob_no_spa,dtype=\"str\")\n",
    "# ljobs.shape"
   ]
  },
  {
   "cell_type": "code",
   "execution_count": 17,
   "id": "31cb5cd4",
   "metadata": {},
   "outputs": [
    {
     "data": {
      "text/plain": [
       "(4306, 31)"
      ]
     },
     "execution_count": 17,
     "metadata": {},
     "output_type": "execute_result"
    }
   ],
   "source": [
    "# transitions used for analysis - no SPA - no local-local\n",
    "trans = pd.read_excel(path_queries + filename_leaderjobtransition_no_spa,dtype=\"str\")\n",
    "trans.shape"
   ]
  },
  {
   "cell_type": "markdown",
   "id": "16c49e74",
   "metadata": {},
   "source": [
    "# Analysis - Research Note"
   ]
  },
  {
   "cell_type": "code",
   "execution_count": 23,
   "id": "39648498",
   "metadata": {},
   "outputs": [],
   "source": [
    "path_analysis = \"C:/Users/seoul/Dropbox/00 technical/github/nkelites/analysis/\""
   ]
  },
  {
   "cell_type": "code",
   "execution_count": 24,
   "id": "72a5cd0f",
   "metadata": {},
   "outputs": [],
   "source": [
    "# analysis sub-paths\n",
    "study0_path = \"2023.10.04 Study 0 - research note/\"\n",
    "study1_path = \"2023.10.04 Study 1 - political capital/\"\n",
    "study2_path = \"2023.10.04 Study 2 - commitment vs control/\"\n",
    "study3_path = \"2023.10.04 Study 3 - reds vs experts/\""
   ]
  },
  {
   "cell_type": "code",
   "execution_count": 18,
   "id": "27470b4e",
   "metadata": {},
   "outputs": [],
   "source": [
    "# ljobs = ljobs.astype({\"CareerStartYear\":\"int\",\"CareerStartDate\":\"int\"})\n",
    "# ljobs.dtypes"
   ]
  },
  {
   "cell_type": "markdown",
   "id": "7d59db9d",
   "metadata": {},
   "source": [
    "# Functions"
   ]
  },
  {
   "cell_type": "code",
   "execution_count": 20,
   "id": "ba5de424",
   "metadata": {},
   "outputs": [],
   "source": [
    "def merge_results(m):\n",
    "    \n",
    "    print(\"\\nMerge Results...\")\n",
    "    print(\"\")\n",
    "    print(\"\\tshape     :\",m.shape)\n",
    "    print(\"\\tleft_only :\",m[m[\"_merge\"]==\"left_only\"].shape)\n",
    "    print(\"\\tboth      :\",m[m[\"_merge\"]==\"both\"].shape)\n",
    "    print(\"\\tright_only:\",m[m[\"_merge\"]==\"right_only\"].shape)"
   ]
  },
  {
   "cell_type": "code",
   "execution_count": 21,
   "id": "d3411709",
   "metadata": {},
   "outputs": [],
   "source": [
    "# using this on (PI,OrgName) will ensure unique & non-null keys\n",
    "# using this on a larger df will ensure unique rows and non-null keys, but not unique keys\n",
    "\n",
    "def unique_non_null_rows(olddf):\n",
    "    \n",
    "    df = olddf.copy()\n",
    "    \n",
    "    \n",
    "    ### drop duplicates\n",
    "    df = df.drop_duplicates(keep=\"first\",ignore_index=True)\n",
    "\n",
    "    ### drop null rows\n",
    "    df.dropna(how=\"all\",axis=0,inplace=True)\n",
    "    \n",
    "    # drop rows with null PI\n",
    "    df = df[~(df[\"PrimaryInstitution\"].isna())]\n",
    "        \n",
    "    ### drop rows where PI contains stop words\n",
    "    stop_words_lower = [\"uncertain\",\"current\",\"deprecated\",\"please_revise\"]\n",
    "    df = df[ ~ df[\"PrimaryInstitution\"].str.lower().isin(stop_words_lower)]\n",
    "            \n",
    "\n",
    "    print(\"\\nUnique Non-null Rows...\")\n",
    "    print(\"\")\n",
    "    print(\"\\tNon-unique rows:\",olddf.shape)\n",
    "    print(\"\\tUnique rows    :\",df.shape)\n",
    "\n",
    "    ### sort\n",
    "    df = df.sort_values([\"PrimaryInstitution\",\"OrgName\"])\n",
    "    \n",
    "    return df"
   ]
  },
  {
   "cell_type": "code",
   "execution_count": 22,
   "id": "945f13c9",
   "metadata": {},
   "outputs": [],
   "source": [
    "def create_time_series(series,group_var,count_var):\n",
    "    \n",
    "    yeardist = series.groupby(group_var,as_index=False).count().sort_values(group_var)\n",
    "    \n",
    "    max_year = max(series[group_var])\n",
    "    x = pd.DataFrame({\"year\":pd.Series(range(min(yeardist[group_var].astype(int)),max(yeardist[group_var].astype(int))+1))})\n",
    "    \n",
    "    yeardist[group_var] = yeardist[group_var].astype(int,errors=\"ignore\")\n",
    "    \n",
    "    ts = x.merge(yeardist,left_on=\"year\",right_on=group_var,how=\"left\")\n",
    "    ts.loc[ts[count_var].isna(),count_var]=0\n",
    "    # merge_results(ts)\n",
    "    \n",
    "    ts_columns = [\"year\",count_var]\n",
    "    ts = ts[ts_columns]\n",
    "    \n",
    "    return ts"
   ]
  },
  {
   "cell_type": "markdown",
   "id": "224feffb",
   "metadata": {},
   "source": [
    "# Format"
   ]
  },
  {
   "cell_type": "markdown",
   "id": "7178064f",
   "metadata": {},
   "source": [
    "### change datatypes"
   ]
  },
  {
   "cell_type": "code",
   "execution_count": 19,
   "id": "b22117ac",
   "metadata": {},
   "outputs": [
    {
     "data": {
      "text/plain": [
       "LeaderID                   object\n",
       "CareerString_1             object\n",
       "CareerDateString_2022_1    object\n",
       "CareerStartYear_1           int32\n",
       "CareerStartMonth_1         object\n",
       "CareerStartDate_1           int32\n",
       "CareerSubstring_1          object\n",
       "InstitutionType_1          object\n",
       "PrimaryInstitution_1       object\n",
       "OrgName_1                  object\n",
       "Local_1                    object\n",
       "Position_1                 object\n",
       "IsElected_1                object\n",
       "OrgRank_1                  object\n",
       "PositionRank_1             object\n",
       "CareerString_2             object\n",
       "CareerDateString_2022_2    object\n",
       "CareerStartYear_2           int32\n",
       "CareerStartMonth_2         object\n",
       "CareerStartDate_2           int32\n",
       "CareerSubstring_2          object\n",
       "InstitutionType_2          object\n",
       "PrimaryInstitution_2       object\n",
       "OrgName_2                  object\n",
       "Local_2                    object\n",
       "Position_2                 object\n",
       "IsElected_2                object\n",
       "OrgRank_2                  object\n",
       "PositionRank_2             object\n",
       "OrgAdvance                  int32\n",
       "PositionAdvance             int32\n",
       "dtype: object"
      ]
     },
     "execution_count": 19,
     "metadata": {},
     "output_type": "execute_result"
    }
   ],
   "source": [
    "trans = trans.astype({\"OrgAdvance\":\"int\",\"PositionAdvance\":\"int\",\n",
    "                      \"CareerStartYear_1\":\"int\",\"CareerStartYear_2\":\"int\",\n",
    "                      \"CareerStartDate_1\":\"int\",\"CareerStartDate_2\":\"int\"})\n",
    "trans.dtypes"
   ]
  },
  {
   "cell_type": "markdown",
   "id": "6d0fa0f4",
   "metadata": {},
   "source": [
    "### double-check exlcudes SPA jobs and local-local trans"
   ]
  },
  {
   "cell_type": "code",
   "execution_count": 26,
   "id": "93f690ba",
   "metadata": {},
   "outputs": [
    {
     "data": {
      "text/plain": [
       "Index(['LeaderID', 'CareerString_1', 'CareerDateString_2022_1',\n",
       "       'CareerStartYear_1', 'CareerStartMonth_1', 'CareerStartDate_1',\n",
       "       'CareerSubstring_1', 'InstitutionType_1', 'PrimaryInstitution_1',\n",
       "       'OrgName_1', 'Local_1', 'Position_1', 'IsElected_1', 'OrgRank_1',\n",
       "       'PositionRank_1', 'CareerString_2', 'CareerDateString_2022_2',\n",
       "       'CareerStartYear_2', 'CareerStartMonth_2', 'CareerStartDate_2',\n",
       "       'CareerSubstring_2', 'InstitutionType_2', 'PrimaryInstitution_2',\n",
       "       'OrgName_2', 'Local_2', 'Position_2', 'IsElected_2', 'OrgRank_2',\n",
       "       'PositionRank_2', 'OrgAdvance', 'PositionAdvance'],\n",
       "      dtype='object')"
      ]
     },
     "execution_count": 26,
     "metadata": {},
     "output_type": "execute_result"
    }
   ],
   "source": [
    "trans.columns"
   ]
  },
  {
   "cell_type": "code",
   "execution_count": 27,
   "id": "6ae6e6c4",
   "metadata": {},
   "outputs": [
    {
     "data": {
      "text/plain": [
       "(4306, 31)"
      ]
     },
     "execution_count": 27,
     "metadata": {},
     "output_type": "execute_result"
    }
   ],
   "source": [
    "trans.shape"
   ]
  },
  {
   "cell_type": "code",
   "execution_count": 28,
   "id": "d79f24b1",
   "metadata": {},
   "outputs": [
    {
     "data": {
      "text/plain": [
       "array(['False', 'True'], dtype=object)"
      ]
     },
     "execution_count": 28,
     "metadata": {},
     "output_type": "execute_result"
    }
   ],
   "source": [
    "trans.Local_1.unique()"
   ]
  },
  {
   "cell_type": "code",
   "execution_count": 29,
   "id": "26322931",
   "metadata": {},
   "outputs": [
    {
     "data": {
      "text/plain": [
       "(4222, 31)"
      ]
     },
     "execution_count": 29,
     "metadata": {},
     "output_type": "execute_result"
    }
   ],
   "source": [
    "# remove Local-Local ties\n",
    "trans2 = trans[~((trans[\"Local_1\"]==\"True\") & (trans[\"Local_2\"]==\"True\"))]\n",
    "trans2.shape"
   ]
  },
  {
   "cell_type": "markdown",
   "id": "25514d91",
   "metadata": {},
   "source": [
    "# Construct covariates"
   ]
  },
  {
   "cell_type": "code",
   "execution_count": 35,
   "id": "84b76e8e",
   "metadata": {},
   "outputs": [
    {
     "data": {
      "text/plain": [
       "Index(['LeaderID', 'CareerString_1', 'CareerDateString_2022_1',\n",
       "       'CareerStartYear_1', 'CareerStartMonth_1', 'CareerStartDate_1',\n",
       "       'CareerSubstring_1', 'InstitutionType_1', 'PrimaryInstitution_1',\n",
       "       'OrgName_1', 'Local_1', 'Position_1', 'IsElected_1', 'OrgRank_1',\n",
       "       'PositionRank_1', 'CareerString_2', 'CareerDateString_2022_2',\n",
       "       'CareerStartYear_2', 'CareerStartMonth_2', 'CareerStartDate_2',\n",
       "       'CareerSubstring_2', 'InstitutionType_2', 'PrimaryInstitution_2',\n",
       "       'OrgName_2', 'Local_2', 'Position_2', 'IsElected_2', 'OrgRank_2',\n",
       "       'PositionRank_2', 'OrgAdvance', 'PositionAdvance'],\n",
       "      dtype='object')"
      ]
     },
     "execution_count": 35,
     "metadata": {},
     "output_type": "execute_result"
    }
   ],
   "source": [
    "trans2.columns"
   ]
  },
  {
   "cell_type": "code",
   "execution_count": 38,
   "id": "3d5f858e",
   "metadata": {},
   "outputs": [],
   "source": [
    "trans2[\"OrgAdvanceYes\"] = trans2[\"OrgAdvance\"]>0"
   ]
  },
  {
   "cell_type": "code",
   "execution_count": 71,
   "id": "c2cbad4e",
   "metadata": {},
   "outputs": [],
   "source": [
    "trans2[\"SameInstitution\"] = False"
   ]
  },
  {
   "cell_type": "code",
   "execution_count": 72,
   "id": "2ef2fc72",
   "metadata": {},
   "outputs": [],
   "source": [
    "trans2.loc[(trans2[\"PrimaryInstitution_1\"]==trans2[\"PrimaryInstitution_2\"]),\"SameInstitution\"] = True"
   ]
  },
  {
   "cell_type": "code",
   "execution_count": 41,
   "id": "d13580f9",
   "metadata": {},
   "outputs": [],
   "source": [
    "trans2[\"SameOrg\"] = False"
   ]
  },
  {
   "cell_type": "code",
   "execution_count": 43,
   "id": "6b315909",
   "metadata": {},
   "outputs": [],
   "source": [
    "trans2.loc[(trans2[\"PrimaryInstitution_1\"]==trans2[\"PrimaryInstitution_2\"]) & \n",
    "       (trans2[\"OrgName_1\"]==trans2[\"OrgName_2\"]),\"SameOrg\"] = True"
   ]
  },
  {
   "cell_type": "code",
   "execution_count": 74,
   "id": "0a580b39",
   "metadata": {},
   "outputs": [
    {
     "data": {
      "text/html": [
       "<div>\n",
       "<style scoped>\n",
       "    .dataframe tbody tr th:only-of-type {\n",
       "        vertical-align: middle;\n",
       "    }\n",
       "\n",
       "    .dataframe tbody tr th {\n",
       "        vertical-align: top;\n",
       "    }\n",
       "\n",
       "    .dataframe thead th {\n",
       "        text-align: right;\n",
       "    }\n",
       "</style>\n",
       "<table border=\"1\" class=\"dataframe\">\n",
       "  <thead>\n",
       "    <tr style=\"text-align: right;\">\n",
       "      <th></th>\n",
       "      <th></th>\n",
       "      <th>OrgName_1</th>\n",
       "    </tr>\n",
       "    <tr>\n",
       "      <th>SameInstitution</th>\n",
       "      <th>SameOrg</th>\n",
       "      <th></th>\n",
       "    </tr>\n",
       "  </thead>\n",
       "  <tbody>\n",
       "    <tr>\n",
       "      <th>False</th>\n",
       "      <th>False</th>\n",
       "      <td>1633</td>\n",
       "    </tr>\n",
       "    <tr>\n",
       "      <th rowspan=\"2\" valign=\"top\">True</th>\n",
       "      <th>False</th>\n",
       "      <td>1055</td>\n",
       "    </tr>\n",
       "    <tr>\n",
       "      <th>True</th>\n",
       "      <td>342</td>\n",
       "    </tr>\n",
       "  </tbody>\n",
       "</table>\n",
       "</div>"
      ],
      "text/plain": [
       "                         OrgName_1\n",
       "SameInstitution SameOrg           \n",
       "False           False         1633\n",
       "True            False         1055\n",
       "                True           342"
      ]
     },
     "execution_count": 74,
     "metadata": {},
     "output_type": "execute_result"
    }
   ],
   "source": [
    "verify_columns = [\"SameInstitution\",\"SameOrg\",\"OrgName_1\"]\n",
    "grouping_columns = [\"SameInstitution\",\"SameOrg\"]\n",
    "trans2[verify_columns].groupby(grouping_columns).count()"
   ]
  },
  {
   "cell_type": "code",
   "execution_count": 50,
   "id": "62b1a238",
   "metadata": {},
   "outputs": [],
   "source": [
    "trans2[\"PositionAdvanceYes\"] = np.nan"
   ]
  },
  {
   "cell_type": "code",
   "execution_count": 51,
   "id": "0b9528f8",
   "metadata": {},
   "outputs": [],
   "source": [
    "trans2.loc[(trans2[\"SameOrg\"]==True),\"PositionAdvanceYes\"]=False"
   ]
  },
  {
   "cell_type": "code",
   "execution_count": 52,
   "id": "bc32266e",
   "metadata": {},
   "outputs": [],
   "source": [
    "trans2.loc[(trans2[\"SameOrg\"]==True) & (trans2[\"PositionAdvance\"]>0),\"PositionAdvanceYes\"]=True"
   ]
  },
  {
   "cell_type": "code",
   "execution_count": 78,
   "id": "585989fd",
   "metadata": {},
   "outputs": [
    {
     "data": {
      "text/plain": [
       "Index(['LeaderID', 'CareerString_1', 'CareerDateString_2022_1',\n",
       "       'CareerStartYear_1', 'CareerStartMonth_1', 'CareerStartDate_1',\n",
       "       'CareerSubstring_1', 'InstitutionType_1', 'PrimaryInstitution_1',\n",
       "       'OrgName_1', 'Local_1', 'Position_1', 'IsElected_1', 'OrgRank_1',\n",
       "       'PositionRank_1', 'CareerString_2', 'CareerDateString_2022_2',\n",
       "       'CareerStartYear_2', 'CareerStartMonth_2', 'CareerStartDate_2',\n",
       "       'CareerSubstring_2', 'InstitutionType_2', 'PrimaryInstitution_2',\n",
       "       'OrgName_2', 'Local_2', 'Position_2', 'IsElected_2', 'OrgRank_2',\n",
       "       'PositionRank_2', 'OrgAdvance', 'PositionAdvance', 'OrgAdvanceYes',\n",
       "       'SameOrg', 'PositionAdvanceYes', 'SameInstitution'],\n",
       "      dtype='object')"
      ]
     },
     "execution_count": 78,
     "metadata": {},
     "output_type": "execute_result"
    }
   ],
   "source": [
    "trans2.columns"
   ]
  },
  {
   "cell_type": "code",
   "execution_count": 80,
   "id": "5bad24ac",
   "metadata": {},
   "outputs": [
    {
     "data": {
      "text/plain": [
       "array([ 0,  1, -1,  2, -2, -3,  3, -4,  4])"
      ]
     },
     "execution_count": 80,
     "metadata": {},
     "output_type": "execute_result"
    }
   ],
   "source": [
    "trans2.OrgAdvance.unique()"
   ]
  },
  {
   "cell_type": "code",
   "execution_count": 85,
   "id": "85574772",
   "metadata": {},
   "outputs": [
    {
     "data": {
      "text/html": [
       "<div>\n",
       "<style scoped>\n",
       "    .dataframe tbody tr th:only-of-type {\n",
       "        vertical-align: middle;\n",
       "    }\n",
       "\n",
       "    .dataframe tbody tr th {\n",
       "        vertical-align: top;\n",
       "    }\n",
       "\n",
       "    .dataframe thead th {\n",
       "        text-align: right;\n",
       "    }\n",
       "</style>\n",
       "<table border=\"1\" class=\"dataframe\">\n",
       "  <thead>\n",
       "    <tr style=\"text-align: right;\">\n",
       "      <th></th>\n",
       "      <th>OrgName_2</th>\n",
       "    </tr>\n",
       "    <tr>\n",
       "      <th>Succession_Broad</th>\n",
       "      <th></th>\n",
       "    </tr>\n",
       "  </thead>\n",
       "  <tbody>\n",
       "    <tr>\n",
       "      <th>1.0</th>\n",
       "      <td>693</td>\n",
       "    </tr>\n",
       "    <tr>\n",
       "      <th>2.0</th>\n",
       "      <td>655</td>\n",
       "    </tr>\n",
       "  </tbody>\n",
       "</table>\n",
       "</div>"
      ],
      "text/plain": [
       "                  OrgName_2\n",
       "Succession_Broad           \n",
       "1.0                     693\n",
       "2.0                     655"
      ]
     },
     "execution_count": 85,
     "metadata": {},
     "output_type": "execute_result"
    }
   ],
   "source": [
    "# Succession Period - Broad\n",
    "\n",
    "# - KIS-->KJI: 1974-1993 - less institutionalized (stronger intra)\n",
    "# - KJI--->KJU:  2002-2011 - more institutionalized (stronger inter)\n",
    "\n",
    "trans2[\"Succession_Broad\"] = np.nan\n",
    "trans2.loc[(trans2[\"CareerStartYear_2\"]>1973) & (trans2[\"CareerStartYear_2\"]<1994),\"Succession_Broad\"] = 1\n",
    "trans2.loc[(trans2[\"CareerStartYear_2\"]>2001) & (trans2[\"CareerStartYear_2\"]<2012),\"Succession_Broad\"] = 2\n",
    "trans2[[\"Succession_Broad\",\"OrgName_2\"]].groupby(\"Succession_Broad\").count()"
   ]
  },
  {
   "cell_type": "code",
   "execution_count": 84,
   "id": "f68822a7",
   "metadata": {},
   "outputs": [
    {
     "data": {
      "text/html": [
       "<div>\n",
       "<style scoped>\n",
       "    .dataframe tbody tr th:only-of-type {\n",
       "        vertical-align: middle;\n",
       "    }\n",
       "\n",
       "    .dataframe tbody tr th {\n",
       "        vertical-align: top;\n",
       "    }\n",
       "\n",
       "    .dataframe thead th {\n",
       "        text-align: right;\n",
       "    }\n",
       "</style>\n",
       "<table border=\"1\" class=\"dataframe\">\n",
       "  <thead>\n",
       "    <tr style=\"text-align: right;\">\n",
       "      <th></th>\n",
       "      <th>OrgName_2</th>\n",
       "    </tr>\n",
       "    <tr>\n",
       "      <th>Succession_Narrow</th>\n",
       "      <th></th>\n",
       "    </tr>\n",
       "  </thead>\n",
       "  <tbody>\n",
       "    <tr>\n",
       "      <th>1.0</th>\n",
       "      <td>330</td>\n",
       "    </tr>\n",
       "    <tr>\n",
       "      <th>2.0</th>\n",
       "      <td>385</td>\n",
       "    </tr>\n",
       "  </tbody>\n",
       "</table>\n",
       "</div>"
      ],
      "text/plain": [
       "                   OrgName_2\n",
       "Succession_Narrow           \n",
       "1.0                      330\n",
       "2.0                      385"
      ]
     },
     "execution_count": 84,
     "metadata": {},
     "output_type": "execute_result"
    }
   ],
   "source": [
    "# Succession Period - Narrow\n",
    "\n",
    "# - KIS-->KJI: 1987-1994 - less institutionalized (stronger intra)\n",
    "# - KJI--->KJU:  2009-2011 - more institutionalized (stronger inter)\n",
    "\n",
    "trans2[\"Succession_Narrow\"] = np.nan\n",
    "trans2.loc[(trans2[\"CareerStartYear_2\"]>1986) & (trans2[\"CareerStartYear_2\"]<1995),\"Succession_Narrow\"] = 1\n",
    "trans2.loc[(trans2[\"CareerStartYear_2\"]>2008) & (trans2[\"CareerStartYear_2\"]<2012),\"Succession_Narrow\"] = 2\n",
    "trans2[[\"Succession_Narrow\",\"OrgName_2\"]].groupby(\"Succession_Narrow\").count()"
   ]
  },
  {
   "cell_type": "code",
   "execution_count": null,
   "id": "f2d6e888",
   "metadata": {},
   "outputs": [],
   "source": []
  },
  {
   "cell_type": "markdown",
   "id": "dbffbf00",
   "metadata": {},
   "source": [
    "### OrgRank increase - percent by year"
   ]
  },
  {
   "cell_type": "code",
   "execution_count": 54,
   "id": "1b1065f0",
   "metadata": {},
   "outputs": [
    {
     "data": {
      "text/plain": [
       "Index(['LeaderID', 'CareerString_1', 'CareerDateString_2022_1',\n",
       "       'CareerStartYear_1', 'CareerStartMonth_1', 'CareerStartDate_1',\n",
       "       'CareerSubstring_1', 'InstitutionType_1', 'PrimaryInstitution_1',\n",
       "       'OrgName_1', 'Local_1', 'Position_1', 'IsElected_1', 'OrgRank_1',\n",
       "       'PositionRank_1', 'CareerString_2', 'CareerDateString_2022_2',\n",
       "       'CareerStartYear_2', 'CareerStartMonth_2', 'CareerStartDate_2',\n",
       "       'CareerSubstring_2', 'InstitutionType_2', 'PrimaryInstitution_2',\n",
       "       'OrgName_2', 'Local_2', 'Position_2', 'IsElected_2', 'OrgRank_2',\n",
       "       'PositionRank_2', 'OrgAdvance', 'PositionAdvance', 'OrgAdvanceYes',\n",
       "       'SameOrg', 'PositionAdvanceYes'],\n",
       "      dtype='object')"
      ]
     },
     "execution_count": 54,
     "metadata": {},
     "output_type": "execute_result"
    }
   ],
   "source": [
    "trans2.columns"
   ]
  },
  {
   "cell_type": "code",
   "execution_count": 60,
   "id": "5984c9c3",
   "metadata": {},
   "outputs": [],
   "source": [
    "stat1_columns = [\"CareerStartYear_2\",\"OrgAdvanceYes\"]\n",
    "stat1_groupby_columns = [\"CareerStartYear_2\"]\n",
    "stat1_label_columns = [\"Year\",\"Total Transitions\",\"Total Advancements of OrgRank\"]"
   ]
  },
  {
   "cell_type": "code",
   "execution_count": 69,
   "id": "99912b0d",
   "metadata": {},
   "outputs": [
    {
     "data": {
      "text/html": [
       "<div>\n",
       "<style scoped>\n",
       "    .dataframe tbody tr th:only-of-type {\n",
       "        vertical-align: middle;\n",
       "    }\n",
       "\n",
       "    .dataframe tbody tr th {\n",
       "        vertical-align: top;\n",
       "    }\n",
       "\n",
       "    .dataframe thead th {\n",
       "        text-align: right;\n",
       "    }\n",
       "</style>\n",
       "<table border=\"1\" class=\"dataframe\">\n",
       "  <thead>\n",
       "    <tr style=\"text-align: right;\">\n",
       "      <th></th>\n",
       "      <th>Year</th>\n",
       "      <th>Total Transitions</th>\n",
       "      <th>Total Advancements of OrgRank</th>\n",
       "      <th>Percentage Advancements of OrgRank</th>\n",
       "    </tr>\n",
       "  </thead>\n",
       "  <tbody>\n",
       "    <tr>\n",
       "      <th>0</th>\n",
       "      <td>1946</td>\n",
       "      <td>5</td>\n",
       "      <td>1</td>\n",
       "      <td>20.00</td>\n",
       "    </tr>\n",
       "    <tr>\n",
       "      <th>1</th>\n",
       "      <td>1947</td>\n",
       "      <td>1</td>\n",
       "      <td>0</td>\n",
       "      <td>0.00</td>\n",
       "    </tr>\n",
       "    <tr>\n",
       "      <th>2</th>\n",
       "      <td>1948</td>\n",
       "      <td>3</td>\n",
       "      <td>2</td>\n",
       "      <td>66.67</td>\n",
       "    </tr>\n",
       "    <tr>\n",
       "      <th>3</th>\n",
       "      <td>1949</td>\n",
       "      <td>1</td>\n",
       "      <td>0</td>\n",
       "      <td>0.00</td>\n",
       "    </tr>\n",
       "    <tr>\n",
       "      <th>4</th>\n",
       "      <td>1950</td>\n",
       "      <td>10</td>\n",
       "      <td>2</td>\n",
       "      <td>20.00</td>\n",
       "    </tr>\n",
       "    <tr>\n",
       "      <th>...</th>\n",
       "      <td>...</td>\n",
       "      <td>...</td>\n",
       "      <td>...</td>\n",
       "      <td>...</td>\n",
       "    </tr>\n",
       "    <tr>\n",
       "      <th>71</th>\n",
       "      <td>2017</td>\n",
       "      <td>67</td>\n",
       "      <td>19</td>\n",
       "      <td>28.36</td>\n",
       "    </tr>\n",
       "    <tr>\n",
       "      <th>72</th>\n",
       "      <td>2018</td>\n",
       "      <td>59</td>\n",
       "      <td>19</td>\n",
       "      <td>32.20</td>\n",
       "    </tr>\n",
       "    <tr>\n",
       "      <th>73</th>\n",
       "      <td>2019</td>\n",
       "      <td>164</td>\n",
       "      <td>48</td>\n",
       "      <td>29.27</td>\n",
       "    </tr>\n",
       "    <tr>\n",
       "      <th>74</th>\n",
       "      <td>2020</td>\n",
       "      <td>64</td>\n",
       "      <td>20</td>\n",
       "      <td>31.25</td>\n",
       "    </tr>\n",
       "    <tr>\n",
       "      <th>75</th>\n",
       "      <td>2021</td>\n",
       "      <td>236</td>\n",
       "      <td>58</td>\n",
       "      <td>24.58</td>\n",
       "    </tr>\n",
       "  </tbody>\n",
       "</table>\n",
       "<p>76 rows × 4 columns</p>\n",
       "</div>"
      ],
      "text/plain": [
       "    Year  Total Transitions  Total Advancements of OrgRank  \\\n",
       "0   1946                  5                              1   \n",
       "1   1947                  1                              0   \n",
       "2   1948                  3                              2   \n",
       "3   1949                  1                              0   \n",
       "4   1950                 10                              2   \n",
       "..   ...                ...                            ...   \n",
       "71  2017                 67                             19   \n",
       "72  2018                 59                             19   \n",
       "73  2019                164                             48   \n",
       "74  2020                 64                             20   \n",
       "75  2021                236                             58   \n",
       "\n",
       "    Percentage Advancements of OrgRank  \n",
       "0                                20.00  \n",
       "1                                 0.00  \n",
       "2                                66.67  \n",
       "3                                 0.00  \n",
       "4                                20.00  \n",
       "..                                 ...  \n",
       "71                               28.36  \n",
       "72                               32.20  \n",
       "73                               29.27  \n",
       "74                               31.25  \n",
       "75                               24.58  \n",
       "\n",
       "[76 rows x 4 columns]"
      ]
     },
     "execution_count": 69,
     "metadata": {},
     "output_type": "execute_result"
    }
   ],
   "source": [
    "stat1 = trans2[stat1_columns].groupby(stat1_groupby_columns,as_index=False)[\"OrgAdvanceYes\"].agg({\"Total Transitions\":\"count\",\"Total Advancements of OrgRank\":\"sum\"})\n",
    "stat1.columns = stat1_label_columns\n",
    "stat1[\"Percentage Advancements of OrgRank\"] = stat1.apply(lambda x: round(x[\"Total Advancements of OrgRank\"] / x[\"Total Transitions\"] * 100,2) if x[\"Total Transitions\"] > 0 else np.nan,axis=1)\n",
    "stat1"
   ]
  },
  {
   "cell_type": "code",
   "execution_count": null,
   "id": "5af0f1da",
   "metadata": {},
   "outputs": [],
   "source": [
    "stat1_filename = \"orgrank_within_between.xlsx\"\n",
    "stat1.to_excel(path_analysis + study0_path + stat2_filename,index=False)"
   ]
  },
  {
   "cell_type": "markdown",
   "id": "2bc49c4d",
   "metadata": {},
   "source": [
    "### OrgRank increase - percent by year, within & between PrimaryInstitution"
   ]
  },
  {
   "cell_type": "code",
   "execution_count": 54,
   "id": "9877f7c9",
   "metadata": {},
   "outputs": [
    {
     "data": {
      "text/plain": [
       "Index(['LeaderID', 'CareerString_1', 'CareerDateString_2022_1',\n",
       "       'CareerStartYear_1', 'CareerStartMonth_1', 'CareerStartDate_1',\n",
       "       'CareerSubstring_1', 'InstitutionType_1', 'PrimaryInstitution_1',\n",
       "       'OrgName_1', 'Local_1', 'Position_1', 'IsElected_1', 'OrgRank_1',\n",
       "       'PositionRank_1', 'CareerString_2', 'CareerDateString_2022_2',\n",
       "       'CareerStartYear_2', 'CareerStartMonth_2', 'CareerStartDate_2',\n",
       "       'CareerSubstring_2', 'InstitutionType_2', 'PrimaryInstitution_2',\n",
       "       'OrgName_2', 'Local_2', 'Position_2', 'IsElected_2', 'OrgRank_2',\n",
       "       'PositionRank_2', 'OrgAdvance', 'PositionAdvance', 'OrgAdvanceYes',\n",
       "       'SameOrg', 'PositionAdvanceYes'],\n",
       "      dtype='object')"
      ]
     },
     "execution_count": 54,
     "metadata": {},
     "output_type": "execute_result"
    }
   ],
   "source": [
    "trans2.columns"
   ]
  },
  {
   "cell_type": "code",
   "execution_count": 75,
   "id": "9a8bd603",
   "metadata": {},
   "outputs": [],
   "source": [
    "stat2_columns = [\"CareerStartYear_2\",\"SameInstitution\",\"OrgAdvanceYes\"]\n",
    "stat2_groupby_columns = [\"CareerStartYear_2\",\"SameInstitution\"]\n",
    "stat2_label_columns = [\"Year\",\"SameInstitution\",\"Total Transitions\",\"Total Advancements of OrgRank\"]"
   ]
  },
  {
   "cell_type": "code",
   "execution_count": 76,
   "id": "2a34be7c",
   "metadata": {},
   "outputs": [
    {
     "data": {
      "text/html": [
       "<div>\n",
       "<style scoped>\n",
       "    .dataframe tbody tr th:only-of-type {\n",
       "        vertical-align: middle;\n",
       "    }\n",
       "\n",
       "    .dataframe tbody tr th {\n",
       "        vertical-align: top;\n",
       "    }\n",
       "\n",
       "    .dataframe thead th {\n",
       "        text-align: right;\n",
       "    }\n",
       "</style>\n",
       "<table border=\"1\" class=\"dataframe\">\n",
       "  <thead>\n",
       "    <tr style=\"text-align: right;\">\n",
       "      <th></th>\n",
       "      <th>Year</th>\n",
       "      <th>SameInstitution</th>\n",
       "      <th>Total Transitions</th>\n",
       "      <th>Total Advancements of OrgRank</th>\n",
       "      <th>Percentage Advancements of OrgRank</th>\n",
       "    </tr>\n",
       "  </thead>\n",
       "  <tbody>\n",
       "    <tr>\n",
       "      <th>0</th>\n",
       "      <td>1946</td>\n",
       "      <td>False</td>\n",
       "      <td>2</td>\n",
       "      <td>0</td>\n",
       "      <td>0.00</td>\n",
       "    </tr>\n",
       "    <tr>\n",
       "      <th>1</th>\n",
       "      <td>1946</td>\n",
       "      <td>True</td>\n",
       "      <td>3</td>\n",
       "      <td>1</td>\n",
       "      <td>33.33</td>\n",
       "    </tr>\n",
       "    <tr>\n",
       "      <th>2</th>\n",
       "      <td>1947</td>\n",
       "      <td>False</td>\n",
       "      <td>1</td>\n",
       "      <td>0</td>\n",
       "      <td>0.00</td>\n",
       "    </tr>\n",
       "    <tr>\n",
       "      <th>3</th>\n",
       "      <td>1948</td>\n",
       "      <td>False</td>\n",
       "      <td>1</td>\n",
       "      <td>0</td>\n",
       "      <td>0.00</td>\n",
       "    </tr>\n",
       "    <tr>\n",
       "      <th>4</th>\n",
       "      <td>1948</td>\n",
       "      <td>True</td>\n",
       "      <td>2</td>\n",
       "      <td>2</td>\n",
       "      <td>100.00</td>\n",
       "    </tr>\n",
       "    <tr>\n",
       "      <th>...</th>\n",
       "      <td>...</td>\n",
       "      <td>...</td>\n",
       "      <td>...</td>\n",
       "      <td>...</td>\n",
       "      <td>...</td>\n",
       "    </tr>\n",
       "    <tr>\n",
       "      <th>142</th>\n",
       "      <td>2019</td>\n",
       "      <td>True</td>\n",
       "      <td>67</td>\n",
       "      <td>12</td>\n",
       "      <td>17.91</td>\n",
       "    </tr>\n",
       "    <tr>\n",
       "      <th>143</th>\n",
       "      <td>2020</td>\n",
       "      <td>False</td>\n",
       "      <td>28</td>\n",
       "      <td>13</td>\n",
       "      <td>46.43</td>\n",
       "    </tr>\n",
       "    <tr>\n",
       "      <th>144</th>\n",
       "      <td>2020</td>\n",
       "      <td>True</td>\n",
       "      <td>36</td>\n",
       "      <td>7</td>\n",
       "      <td>19.44</td>\n",
       "    </tr>\n",
       "    <tr>\n",
       "      <th>145</th>\n",
       "      <td>2021</td>\n",
       "      <td>False</td>\n",
       "      <td>73</td>\n",
       "      <td>15</td>\n",
       "      <td>20.55</td>\n",
       "    </tr>\n",
       "    <tr>\n",
       "      <th>146</th>\n",
       "      <td>2021</td>\n",
       "      <td>True</td>\n",
       "      <td>163</td>\n",
       "      <td>43</td>\n",
       "      <td>26.38</td>\n",
       "    </tr>\n",
       "  </tbody>\n",
       "</table>\n",
       "<p>147 rows × 5 columns</p>\n",
       "</div>"
      ],
      "text/plain": [
       "     Year  SameInstitution  Total Transitions  Total Advancements of OrgRank  \\\n",
       "0    1946            False                  2                              0   \n",
       "1    1946             True                  3                              1   \n",
       "2    1947            False                  1                              0   \n",
       "3    1948            False                  1                              0   \n",
       "4    1948             True                  2                              2   \n",
       "..    ...              ...                ...                            ...   \n",
       "142  2019             True                 67                             12   \n",
       "143  2020            False                 28                             13   \n",
       "144  2020             True                 36                              7   \n",
       "145  2021            False                 73                             15   \n",
       "146  2021             True                163                             43   \n",
       "\n",
       "     Percentage Advancements of OrgRank  \n",
       "0                                  0.00  \n",
       "1                                 33.33  \n",
       "2                                  0.00  \n",
       "3                                  0.00  \n",
       "4                                100.00  \n",
       "..                                  ...  \n",
       "142                               17.91  \n",
       "143                               46.43  \n",
       "144                               19.44  \n",
       "145                               20.55  \n",
       "146                               26.38  \n",
       "\n",
       "[147 rows x 5 columns]"
      ]
     },
     "execution_count": 76,
     "metadata": {},
     "output_type": "execute_result"
    }
   ],
   "source": [
    "stat2 = trans2[stat2_columns].groupby(stat2_groupby_columns,as_index=False)[\"OrgAdvanceYes\"].agg({\"Total Transitions\":\"count\",\"Total Advancements of OrgRank\":\"sum\"})\n",
    "stat2.columns = stat2_label_columns\n",
    "stat2[\"Percentage Advancements of OrgRank\"] = stat2.apply(lambda x: round(x[\"Total Advancements of OrgRank\"] / x[\"Total Transitions\"] * 100,2) if x[\"Total Transitions\"] > 0 else np.nan,axis=1)\n",
    "stat2"
   ]
  },
  {
   "cell_type": "code",
   "execution_count": null,
   "id": "0b3ef83e",
   "metadata": {},
   "outputs": [],
   "source": [
    "# pivot SameInstitution - "
   ]
  },
  {
   "cell_type": "code",
   "execution_count": 77,
   "id": "5514f472",
   "metadata": {},
   "outputs": [],
   "source": [
    "stat2_filename = \"orgrank_within_between.xlsx\"\n",
    "stat2.to_excel(path_analysis + study0_path + stat2_filename,index=False)"
   ]
  },
  {
   "cell_type": "code",
   "execution_count": null,
   "id": "1e6ea003",
   "metadata": {},
   "outputs": [],
   "source": []
  },
  {
   "cell_type": "markdown",
   "id": "6b0ded7c",
   "metadata": {},
   "source": [
    "### OrgRank increase - percent by succesion period (broad)"
   ]
  },
  {
   "cell_type": "code",
   "execution_count": 54,
   "id": "0f789512",
   "metadata": {},
   "outputs": [
    {
     "data": {
      "text/plain": [
       "Index(['LeaderID', 'CareerString_1', 'CareerDateString_2022_1',\n",
       "       'CareerStartYear_1', 'CareerStartMonth_1', 'CareerStartDate_1',\n",
       "       'CareerSubstring_1', 'InstitutionType_1', 'PrimaryInstitution_1',\n",
       "       'OrgName_1', 'Local_1', 'Position_1', 'IsElected_1', 'OrgRank_1',\n",
       "       'PositionRank_1', 'CareerString_2', 'CareerDateString_2022_2',\n",
       "       'CareerStartYear_2', 'CareerStartMonth_2', 'CareerStartDate_2',\n",
       "       'CareerSubstring_2', 'InstitutionType_2', 'PrimaryInstitution_2',\n",
       "       'OrgName_2', 'Local_2', 'Position_2', 'IsElected_2', 'OrgRank_2',\n",
       "       'PositionRank_2', 'OrgAdvance', 'PositionAdvance', 'OrgAdvanceYes',\n",
       "       'SameOrg', 'PositionAdvanceYes'],\n",
       "      dtype='object')"
      ]
     },
     "execution_count": 54,
     "metadata": {},
     "output_type": "execute_result"
    }
   ],
   "source": [
    "trans2.columns"
   ]
  },
  {
   "cell_type": "code",
   "execution_count": 75,
   "id": "be4f6b77",
   "metadata": {},
   "outputs": [],
   "source": [
    "stat2_columns = [\"CareerStartYear_2\",\"SameInstitution\",\"OrgAdvanceYes\"]\n",
    "stat2_groupby_columns = [\"CareerStartYear_2\",\"SameInstitution\"]\n",
    "stat2_label_columns = [\"Year\",\"SameInstitution\",\"Total Transitions\",\"Total Advancements of OrgRank\"]"
   ]
  },
  {
   "cell_type": "code",
   "execution_count": 76,
   "id": "96bda271",
   "metadata": {},
   "outputs": [
    {
     "data": {
      "text/html": [
       "<div>\n",
       "<style scoped>\n",
       "    .dataframe tbody tr th:only-of-type {\n",
       "        vertical-align: middle;\n",
       "    }\n",
       "\n",
       "    .dataframe tbody tr th {\n",
       "        vertical-align: top;\n",
       "    }\n",
       "\n",
       "    .dataframe thead th {\n",
       "        text-align: right;\n",
       "    }\n",
       "</style>\n",
       "<table border=\"1\" class=\"dataframe\">\n",
       "  <thead>\n",
       "    <tr style=\"text-align: right;\">\n",
       "      <th></th>\n",
       "      <th>Year</th>\n",
       "      <th>SameInstitution</th>\n",
       "      <th>Total Transitions</th>\n",
       "      <th>Total Advancements of OrgRank</th>\n",
       "      <th>Percentage Advancements of OrgRank</th>\n",
       "    </tr>\n",
       "  </thead>\n",
       "  <tbody>\n",
       "    <tr>\n",
       "      <th>0</th>\n",
       "      <td>1946</td>\n",
       "      <td>False</td>\n",
       "      <td>2</td>\n",
       "      <td>0</td>\n",
       "      <td>0.00</td>\n",
       "    </tr>\n",
       "    <tr>\n",
       "      <th>1</th>\n",
       "      <td>1946</td>\n",
       "      <td>True</td>\n",
       "      <td>3</td>\n",
       "      <td>1</td>\n",
       "      <td>33.33</td>\n",
       "    </tr>\n",
       "    <tr>\n",
       "      <th>2</th>\n",
       "      <td>1947</td>\n",
       "      <td>False</td>\n",
       "      <td>1</td>\n",
       "      <td>0</td>\n",
       "      <td>0.00</td>\n",
       "    </tr>\n",
       "    <tr>\n",
       "      <th>3</th>\n",
       "      <td>1948</td>\n",
       "      <td>False</td>\n",
       "      <td>1</td>\n",
       "      <td>0</td>\n",
       "      <td>0.00</td>\n",
       "    </tr>\n",
       "    <tr>\n",
       "      <th>4</th>\n",
       "      <td>1948</td>\n",
       "      <td>True</td>\n",
       "      <td>2</td>\n",
       "      <td>2</td>\n",
       "      <td>100.00</td>\n",
       "    </tr>\n",
       "    <tr>\n",
       "      <th>...</th>\n",
       "      <td>...</td>\n",
       "      <td>...</td>\n",
       "      <td>...</td>\n",
       "      <td>...</td>\n",
       "      <td>...</td>\n",
       "    </tr>\n",
       "    <tr>\n",
       "      <th>142</th>\n",
       "      <td>2019</td>\n",
       "      <td>True</td>\n",
       "      <td>67</td>\n",
       "      <td>12</td>\n",
       "      <td>17.91</td>\n",
       "    </tr>\n",
       "    <tr>\n",
       "      <th>143</th>\n",
       "      <td>2020</td>\n",
       "      <td>False</td>\n",
       "      <td>28</td>\n",
       "      <td>13</td>\n",
       "      <td>46.43</td>\n",
       "    </tr>\n",
       "    <tr>\n",
       "      <th>144</th>\n",
       "      <td>2020</td>\n",
       "      <td>True</td>\n",
       "      <td>36</td>\n",
       "      <td>7</td>\n",
       "      <td>19.44</td>\n",
       "    </tr>\n",
       "    <tr>\n",
       "      <th>145</th>\n",
       "      <td>2021</td>\n",
       "      <td>False</td>\n",
       "      <td>73</td>\n",
       "      <td>15</td>\n",
       "      <td>20.55</td>\n",
       "    </tr>\n",
       "    <tr>\n",
       "      <th>146</th>\n",
       "      <td>2021</td>\n",
       "      <td>True</td>\n",
       "      <td>163</td>\n",
       "      <td>43</td>\n",
       "      <td>26.38</td>\n",
       "    </tr>\n",
       "  </tbody>\n",
       "</table>\n",
       "<p>147 rows × 5 columns</p>\n",
       "</div>"
      ],
      "text/plain": [
       "     Year  SameInstitution  Total Transitions  Total Advancements of OrgRank  \\\n",
       "0    1946            False                  2                              0   \n",
       "1    1946             True                  3                              1   \n",
       "2    1947            False                  1                              0   \n",
       "3    1948            False                  1                              0   \n",
       "4    1948             True                  2                              2   \n",
       "..    ...              ...                ...                            ...   \n",
       "142  2019             True                 67                             12   \n",
       "143  2020            False                 28                             13   \n",
       "144  2020             True                 36                              7   \n",
       "145  2021            False                 73                             15   \n",
       "146  2021             True                163                             43   \n",
       "\n",
       "     Percentage Advancements of OrgRank  \n",
       "0                                  0.00  \n",
       "1                                 33.33  \n",
       "2                                  0.00  \n",
       "3                                  0.00  \n",
       "4                                100.00  \n",
       "..                                  ...  \n",
       "142                               17.91  \n",
       "143                               46.43  \n",
       "144                               19.44  \n",
       "145                               20.55  \n",
       "146                               26.38  \n",
       "\n",
       "[147 rows x 5 columns]"
      ]
     },
     "execution_count": 76,
     "metadata": {},
     "output_type": "execute_result"
    }
   ],
   "source": [
    "stat2 = trans2[stat2_columns].groupby(stat2_groupby_columns,as_index=False)[\"OrgAdvanceYes\"].agg({\"Total Transitions\":\"count\",\"Total Advancements of OrgRank\":\"sum\"})\n",
    "stat2.columns = stat2_label_columns\n",
    "stat2[\"Percentage Advancements of OrgRank\"] = stat2.apply(lambda x: round(x[\"Total Advancements of OrgRank\"] / x[\"Total Transitions\"] * 100,2) if x[\"Total Transitions\"] > 0 else np.nan,axis=1)\n",
    "stat2"
   ]
  },
  {
   "cell_type": "code",
   "execution_count": null,
   "id": "85e4b881",
   "metadata": {},
   "outputs": [],
   "source": [
    "# pivot SameInstitution - "
   ]
  },
  {
   "cell_type": "code",
   "execution_count": 77,
   "id": "f327f542",
   "metadata": {},
   "outputs": [],
   "source": [
    "stat2_filename = \"orgrank_within_between.xlsx\"\n",
    "stat2.to_excel(path_analysis + study0_path + stat2_filename,index=False)"
   ]
  },
  {
   "cell_type": "code",
   "execution_count": null,
   "id": "f5e8db89",
   "metadata": {},
   "outputs": [],
   "source": []
  },
  {
   "cell_type": "markdown",
   "id": "49b57767",
   "metadata": {},
   "source": [
    "# Hypothesis 1a - mobility during succession periods, broad"
   ]
  },
  {
   "cell_type": "code",
   "execution_count": 87,
   "id": "d0a7dcf3",
   "metadata": {},
   "outputs": [],
   "source": [
    "stat3_columns = [\"Succession_Broad\",\"OrgAdvanceYes\"]\n",
    "stat3_groupby_columns = [\"Succession_Broad\"]\n",
    "stat3_label_columns = [\"Succession Period\",\"Total Transitions\",\"Total Advancements of OrgRank\"]"
   ]
  },
  {
   "cell_type": "code",
   "execution_count": 96,
   "id": "e66857ec",
   "metadata": {},
   "outputs": [
    {
     "data": {
      "text/html": [
       "<div>\n",
       "<style scoped>\n",
       "    .dataframe tbody tr th:only-of-type {\n",
       "        vertical-align: middle;\n",
       "    }\n",
       "\n",
       "    .dataframe tbody tr th {\n",
       "        vertical-align: top;\n",
       "    }\n",
       "\n",
       "    .dataframe thead th {\n",
       "        text-align: right;\n",
       "    }\n",
       "</style>\n",
       "<table border=\"1\" class=\"dataframe\">\n",
       "  <thead>\n",
       "    <tr style=\"text-align: right;\">\n",
       "      <th></th>\n",
       "      <th></th>\n",
       "      <th>OrgName_2</th>\n",
       "    </tr>\n",
       "    <tr>\n",
       "      <th>Succession_Broad</th>\n",
       "      <th>SameInstitution</th>\n",
       "      <th></th>\n",
       "    </tr>\n",
       "  </thead>\n",
       "  <tbody>\n",
       "    <tr>\n",
       "      <th rowspan=\"2\" valign=\"top\">1.0</th>\n",
       "      <th>False</th>\n",
       "      <td>435</td>\n",
       "    </tr>\n",
       "    <tr>\n",
       "      <th>True</th>\n",
       "      <td>258</td>\n",
       "    </tr>\n",
       "    <tr>\n",
       "      <th rowspan=\"2\" valign=\"top\">2.0</th>\n",
       "      <th>False</th>\n",
       "      <td>366</td>\n",
       "    </tr>\n",
       "    <tr>\n",
       "      <th>True</th>\n",
       "      <td>289</td>\n",
       "    </tr>\n",
       "  </tbody>\n",
       "</table>\n",
       "</div>"
      ],
      "text/plain": [
       "                                  OrgName_2\n",
       "Succession_Broad SameInstitution           \n",
       "1.0              False                  435\n",
       "                 True                   258\n",
       "2.0              False                  366\n",
       "                 True                   289"
      ]
     },
     "execution_count": 96,
     "metadata": {},
     "output_type": "execute_result"
    }
   ],
   "source": [
    "select_columns = [\"SameInstitution\",\"Succession_Broad\",\"OrgName_2\"]\n",
    "group_columns = [\"Succession_Broad\",\"SameInstitution\"]\n",
    "trans2[select_columns].groupby(group_columns).count()"
   ]
  },
  {
   "cell_type": "code",
   "execution_count": 99,
   "id": "d01a7ec1",
   "metadata": {},
   "outputs": [
    {
     "data": {
      "text/plain": [
       "(4306, 37)"
      ]
     },
     "execution_count": 99,
     "metadata": {},
     "output_type": "execute_result"
    }
   ],
   "source": [
    "trans2.shape"
   ]
  },
  {
   "cell_type": "code",
   "execution_count": 98,
   "id": "e063351f",
   "metadata": {},
   "outputs": [
    {
     "data": {
      "text/plain": [
       "(1553, 37)"
      ]
     },
     "execution_count": 98,
     "metadata": {},
     "output_type": "execute_result"
    }
   ],
   "source": [
    "trans3 = trans2[trans2[\"SameInstitution\"]==True]\n",
    "trans3.shape"
   ]
  },
  {
   "cell_type": "code",
   "execution_count": 102,
   "id": "9026e8a8",
   "metadata": {},
   "outputs": [
    {
     "data": {
      "text/html": [
       "<div>\n",
       "<style scoped>\n",
       "    .dataframe tbody tr th:only-of-type {\n",
       "        vertical-align: middle;\n",
       "    }\n",
       "\n",
       "    .dataframe tbody tr th {\n",
       "        vertical-align: top;\n",
       "    }\n",
       "\n",
       "    .dataframe thead th {\n",
       "        text-align: right;\n",
       "    }\n",
       "</style>\n",
       "<table border=\"1\" class=\"dataframe\">\n",
       "  <thead>\n",
       "    <tr style=\"text-align: right;\">\n",
       "      <th></th>\n",
       "      <th></th>\n",
       "      <th>OrgName_2</th>\n",
       "    </tr>\n",
       "    <tr>\n",
       "      <th>Succession_Broad</th>\n",
       "      <th>SameInstitution</th>\n",
       "      <th></th>\n",
       "    </tr>\n",
       "  </thead>\n",
       "  <tbody>\n",
       "    <tr>\n",
       "      <th>1.0</th>\n",
       "      <th>True</th>\n",
       "      <td>258</td>\n",
       "    </tr>\n",
       "    <tr>\n",
       "      <th>2.0</th>\n",
       "      <th>True</th>\n",
       "      <td>289</td>\n",
       "    </tr>\n",
       "  </tbody>\n",
       "</table>\n",
       "</div>"
      ],
      "text/plain": [
       "                                  OrgName_2\n",
       "Succession_Broad SameInstitution           \n",
       "1.0              True                   258\n",
       "2.0              True                   289"
      ]
     },
     "execution_count": 102,
     "metadata": {},
     "output_type": "execute_result"
    }
   ],
   "source": [
    "select_columns = [\"SameInstitution\",\"Succession_Broad\",\"OrgName_2\"]\n",
    "group_columns = [\"Succession_Broad\",\"SameInstitution\"]\n",
    "trans3[select_columns].groupby(group_columns).count()"
   ]
  },
  {
   "cell_type": "code",
   "execution_count": 100,
   "id": "f796c190",
   "metadata": {
    "scrolled": true
   },
   "outputs": [
    {
     "data": {
      "text/html": [
       "<div>\n",
       "<style scoped>\n",
       "    .dataframe tbody tr th:only-of-type {\n",
       "        vertical-align: middle;\n",
       "    }\n",
       "\n",
       "    .dataframe tbody tr th {\n",
       "        vertical-align: top;\n",
       "    }\n",
       "\n",
       "    .dataframe thead th {\n",
       "        text-align: right;\n",
       "    }\n",
       "</style>\n",
       "<table border=\"1\" class=\"dataframe\">\n",
       "  <thead>\n",
       "    <tr style=\"text-align: right;\">\n",
       "      <th></th>\n",
       "      <th>Succession Period</th>\n",
       "      <th>Total Transitions</th>\n",
       "      <th>Total Advancements of OrgRank</th>\n",
       "      <th>Percentage Advancements of OrgRank</th>\n",
       "    </tr>\n",
       "  </thead>\n",
       "  <tbody>\n",
       "    <tr>\n",
       "      <th>0</th>\n",
       "      <td>1.0</td>\n",
       "      <td>147</td>\n",
       "      <td>26</td>\n",
       "      <td>17.69</td>\n",
       "    </tr>\n",
       "    <tr>\n",
       "      <th>1</th>\n",
       "      <td>2.0</td>\n",
       "      <td>168</td>\n",
       "      <td>65</td>\n",
       "      <td>38.69</td>\n",
       "    </tr>\n",
       "  </tbody>\n",
       "</table>\n",
       "</div>"
      ],
      "text/plain": [
       "   Succession Period  Total Transitions  Total Advancements of OrgRank  \\\n",
       "0                1.0                147                             26   \n",
       "1                2.0                168                             65   \n",
       "\n",
       "   Percentage Advancements of OrgRank  \n",
       "0                               17.69  \n",
       "1                               38.69  "
      ]
     },
     "execution_count": 100,
     "metadata": {},
     "output_type": "execute_result"
    }
   ],
   "source": [
    "stat3 = trans3[stat3_columns].groupby(stat3_groupby_columns,as_index=False)[\"OrgAdvanceYes\"].agg({\"Total Transitions\":\"count\",\"Total Advancements of OrgRank\":\"sum\"})\n",
    "stat3.columns = stat3_label_columns\n",
    "stat3[\"Percentage Advancements of OrgRank\"] = stat3.apply(lambda x: round(x[\"Total Advancements of OrgRank\"] / x[\"Total Transitions\"] * 100,2) if x[\"Total Transitions\"] > 0 else np.nan,axis=1)\n",
    "stat3"
   ]
  },
  {
   "cell_type": "code",
   "execution_count": null,
   "id": "30235811",
   "metadata": {},
   "outputs": [],
   "source": []
  },
  {
   "cell_type": "markdown",
   "id": "1d591f85",
   "metadata": {},
   "source": [
    "# Hypothesis 1b - mobility during succession periods, narrow"
   ]
  },
  {
   "cell_type": "code",
   "execution_count": 91,
   "id": "4c239b9e",
   "metadata": {},
   "outputs": [],
   "source": [
    "stat3_columns = [\"Succession_Narrow\",\"OrgAdvanceYes\"]\n",
    "stat3_groupby_columns = [\"Succession_Narrow\"]\n",
    "stat3_label_columns = [\"Succession Period\",\"Total Transitions\",\"Total Advancements of OrgRank\"]"
   ]
  },
  {
   "cell_type": "code",
   "execution_count": 101,
   "id": "5298d8a8",
   "metadata": {
    "scrolled": true
   },
   "outputs": [
    {
     "data": {
      "text/html": [
       "<div>\n",
       "<style scoped>\n",
       "    .dataframe tbody tr th:only-of-type {\n",
       "        vertical-align: middle;\n",
       "    }\n",
       "\n",
       "    .dataframe tbody tr th {\n",
       "        vertical-align: top;\n",
       "    }\n",
       "\n",
       "    .dataframe thead th {\n",
       "        text-align: right;\n",
       "    }\n",
       "</style>\n",
       "<table border=\"1\" class=\"dataframe\">\n",
       "  <thead>\n",
       "    <tr style=\"text-align: right;\">\n",
       "      <th></th>\n",
       "      <th>Succession Period</th>\n",
       "      <th>Total Transitions</th>\n",
       "      <th>Total Advancements of OrgRank</th>\n",
       "      <th>Percentage Advancements of OrgRank</th>\n",
       "    </tr>\n",
       "  </thead>\n",
       "  <tbody>\n",
       "    <tr>\n",
       "      <th>0</th>\n",
       "      <td>1.0</td>\n",
       "      <td>147</td>\n",
       "      <td>26</td>\n",
       "      <td>17.69</td>\n",
       "    </tr>\n",
       "    <tr>\n",
       "      <th>1</th>\n",
       "      <td>2.0</td>\n",
       "      <td>168</td>\n",
       "      <td>65</td>\n",
       "      <td>38.69</td>\n",
       "    </tr>\n",
       "  </tbody>\n",
       "</table>\n",
       "</div>"
      ],
      "text/plain": [
       "   Succession Period  Total Transitions  Total Advancements of OrgRank  \\\n",
       "0                1.0                147                             26   \n",
       "1                2.0                168                             65   \n",
       "\n",
       "   Percentage Advancements of OrgRank  \n",
       "0                               17.69  \n",
       "1                               38.69  "
      ]
     },
     "execution_count": 101,
     "metadata": {},
     "output_type": "execute_result"
    }
   ],
   "source": [
    "stat3 = trans3[stat3_columns].groupby(stat3_groupby_columns,as_index=False)[\"OrgAdvanceYes\"].agg({\"Total Transitions\":\"count\",\"Total Advancements of OrgRank\":\"sum\"})\n",
    "stat3.columns = stat3_label_columns\n",
    "stat3[\"Percentage Advancements of OrgRank\"] = stat3.apply(lambda x: round(x[\"Total Advancements of OrgRank\"] / x[\"Total Transitions\"] * 100,2) if x[\"Total Transitions\"] > 0 else np.nan,axis=1)\n",
    "stat3"
   ]
  },
  {
   "cell_type": "code",
   "execution_count": null,
   "id": "b4fea2f1",
   "metadata": {},
   "outputs": [],
   "source": []
  },
  {
   "cell_type": "code",
   "execution_count": null,
   "id": "cc3dfdd1",
   "metadata": {},
   "outputs": [],
   "source": []
  },
  {
   "cell_type": "code",
   "execution_count": null,
   "id": "788fa0c1",
   "metadata": {},
   "outputs": [],
   "source": []
  },
  {
   "cell_type": "markdown",
   "id": "3144b34e",
   "metadata": {},
   "source": [
    "# Hypothesis 2b - mobility during succession periods, broad"
   ]
  },
  {
   "cell_type": "code",
   "execution_count": null,
   "id": "2a5718bc",
   "metadata": {},
   "outputs": [],
   "source": []
  },
  {
   "cell_type": "code",
   "execution_count": null,
   "id": "1a1ae4f7",
   "metadata": {},
   "outputs": [],
   "source": []
  },
  {
   "cell_type": "code",
   "execution_count": null,
   "id": "219a632f",
   "metadata": {},
   "outputs": [],
   "source": []
  }
 ],
 "metadata": {
  "kernelspec": {
   "display_name": "Python 3 (ipykernel)",
   "language": "python",
   "name": "python3"
  },
  "language_info": {
   "codemirror_mode": {
    "name": "ipython",
    "version": 3
   },
   "file_extension": ".py",
   "mimetype": "text/x-python",
   "name": "python",
   "nbconvert_exporter": "python",
   "pygments_lexer": "ipython3",
   "version": "3.11.5"
  }
 },
 "nbformat": 4,
 "nbformat_minor": 5
}
