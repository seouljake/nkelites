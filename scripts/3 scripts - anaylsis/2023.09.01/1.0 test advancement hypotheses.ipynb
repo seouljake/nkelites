{
 "cells": [
  {
   "cell_type": "code",
   "execution_count": 1,
   "id": "74698cf3",
   "metadata": {},
   "outputs": [],
   "source": [
    "import pandas as pd\n",
    "import numpy as np\n",
    "from datetime import date\n",
    "from statistics import mean, mode\n",
    "from pandas.api.types import CategoricalDtype"
   ]
  },
  {
   "cell_type": "code",
   "execution_count": 2,
   "id": "75aa1647",
   "metadata": {},
   "outputs": [
    {
     "name": "stdout",
     "output_type": "stream",
     "text": [
      "2023-09-03\n"
     ]
    }
   ],
   "source": [
    "today = date.today()\n",
    "print(today)"
   ]
  },
  {
   "cell_type": "markdown",
   "id": "aaf25c71",
   "metadata": {},
   "source": [
    "# Tables"
   ]
  },
  {
   "cell_type": "code",
   "execution_count": 3,
   "id": "f2c9c339",
   "metadata": {},
   "outputs": [],
   "source": [
    "path_tables = \"C:/Users/seoul/Dropbox/00 technical/github/nkelites/data/combined data/combined data - 2 tables/\""
   ]
  },
  {
   "cell_type": "code",
   "execution_count": 4,
   "id": "200fa7f5",
   "metadata": {},
   "outputs": [],
   "source": [
    "# tables\n",
    "filename_careerorglink = \"careerorglink.xlsx\"\n",
    "filename_leadercareerlink = \"leadercareerlink.xlsx\"\n",
    "filename_orgtree = \"orgtree.xlsx\"\n",
    "filename_elected = \"positions_elected.xlsx\""
   ]
  },
  {
   "cell_type": "code",
   "execution_count": 5,
   "id": "b7d9b165",
   "metadata": {
    "scrolled": true
   },
   "outputs": [
    {
     "data": {
      "text/plain": [
       "(9002, 12)"
      ]
     },
     "execution_count": 5,
     "metadata": {},
     "output_type": "execute_result"
    }
   ],
   "source": [
    "col = pd.read_excel(path_tables + filename_careerorglink,dtype=\"str\")\n",
    "col.shape"
   ]
  },
  {
   "cell_type": "code",
   "execution_count": 6,
   "id": "0bd17a8f",
   "metadata": {},
   "outputs": [
    {
     "data": {
      "text/plain": [
       "Index(['CareerString', 'CareerDateString_2022', 'IsJob', 'MultipleSubstrings',\n",
       "       'CareerStartYear', 'CareerStartMonth', 'CareerSubstring',\n",
       "       'InstitutionType', 'PrimaryInstitution', 'OrgName', 'Position',\n",
       "       'Notes'],\n",
       "      dtype='object')"
      ]
     },
     "execution_count": 6,
     "metadata": {},
     "output_type": "execute_result"
    }
   ],
   "source": [
    "col.columns"
   ]
  },
  {
   "cell_type": "code",
   "execution_count": 7,
   "id": "4aa22e14",
   "metadata": {},
   "outputs": [
    {
     "data": {
      "text/plain": [
       "(12617, 3)"
      ]
     },
     "execution_count": 7,
     "metadata": {},
     "output_type": "execute_result"
    }
   ],
   "source": [
    "lcl = pd.read_excel(path_tables + filename_leadercareerlink,dtype=\"str\")\n",
    "lcl.shape"
   ]
  },
  {
   "cell_type": "code",
   "execution_count": 8,
   "id": "ac0f5205",
   "metadata": {},
   "outputs": [
    {
     "data": {
      "text/plain": [
       "Index(['LeaderID', 'CareerString', 'CareerDateString_2022'], dtype='object')"
      ]
     },
     "execution_count": 8,
     "metadata": {},
     "output_type": "execute_result"
    }
   ],
   "source": [
    "lcl.columns"
   ]
  },
  {
   "cell_type": "code",
   "execution_count": 9,
   "id": "44ba37bd",
   "metadata": {},
   "outputs": [
    {
     "data": {
      "text/plain": [
       "(2368, 19)"
      ]
     },
     "execution_count": 9,
     "metadata": {},
     "output_type": "execute_result"
    }
   ],
   "source": [
    "org = pd.read_excel(path_tables + filename_orgtree,dtype=\"str\")\n",
    "org.shape"
   ]
  },
  {
   "cell_type": "code",
   "execution_count": 10,
   "id": "05b6e3e8",
   "metadata": {},
   "outputs": [
    {
     "data": {
      "text/plain": [
       "Index(['InstitutionType', 'OrgType', 'PrimaryInstitution', 'OrgName',\n",
       "       'PI_Index', 'OrgRank', 'P1', 'P2', 'P3', 'Alias_OrgName',\n",
       "       'LinkToNext_PI', 'LinkToNext_Org', 'LinkToNext_Year', 'Notes',\n",
       "       'L1_Index', 'L2_Index', 'L3_Index', 'L4_Index', 'L5_Index'],\n",
       "      dtype='object')"
      ]
     },
     "execution_count": 10,
     "metadata": {},
     "output_type": "execute_result"
    }
   ],
   "source": [
    "org.columns"
   ]
  },
  {
   "cell_type": "code",
   "execution_count": 11,
   "id": "b93b05ba",
   "metadata": {},
   "outputs": [
    {
     "data": {
      "text/plain": [
       "(105, 4)"
      ]
     },
     "execution_count": 11,
     "metadata": {},
     "output_type": "execute_result"
    }
   ],
   "source": [
    "elected = pd.read_excel(path_tables + filename_elected,dtype=\"str\")\n",
    "elected.shape"
   ]
  },
  {
   "cell_type": "code",
   "execution_count": 12,
   "id": "011dfaa4",
   "metadata": {},
   "outputs": [
    {
     "data": {
      "text/plain": [
       "Index(['PrimaryInstitution', 'OrgName', 'Position', 'IsElected'], dtype='object')"
      ]
     },
     "execution_count": 12,
     "metadata": {},
     "output_type": "execute_result"
    }
   ],
   "source": [
    "elected.columns"
   ]
  },
  {
   "cell_type": "markdown",
   "id": "52841326",
   "metadata": {},
   "source": [
    "# Queries"
   ]
  },
  {
   "cell_type": "code",
   "execution_count": 13,
   "id": "df5b44ce",
   "metadata": {},
   "outputs": [],
   "source": [
    "path_queries = \"C:/Users/seoul/Dropbox/00 technical/github/nkelites/data/combined data/combined data - 3 queries/\""
   ]
  },
  {
   "cell_type": "code",
   "execution_count": 14,
   "id": "4fa255b3",
   "metadata": {},
   "outputs": [],
   "source": [
    "filename_leaderjobtransition = \"leaderjobtransition_alljobs.xlsx\"\n",
    "# filename_leaderjobtransition = \"leaderjobtransition_ingov.xlsx\""
   ]
  },
  {
   "cell_type": "code",
   "execution_count": 15,
   "id": "31cb5cd4",
   "metadata": {},
   "outputs": [
    {
     "data": {
      "text/plain": [
       "(2868, 27)"
      ]
     },
     "execution_count": 15,
     "metadata": {},
     "output_type": "execute_result"
    }
   ],
   "source": [
    "trans = pd.read_excel(path_queries + filename_leaderjobtransition,dtype=\"str\")\n",
    "trans.shape"
   ]
  },
  {
   "cell_type": "markdown",
   "id": "224feffb",
   "metadata": {},
   "source": [
    "#### change datatypes"
   ]
  },
  {
   "cell_type": "code",
   "execution_count": 16,
   "id": "b22117ac",
   "metadata": {},
   "outputs": [
    {
     "data": {
      "text/plain": [
       "LeaderID                   object\n",
       "CareerString_1             object\n",
       "CareerDateString_2022_1    object\n",
       "CareerStartYear_1           int32\n",
       "CareerStartMonth_1         object\n",
       "CareerStartDate_1          object\n",
       "CareerSubstring_1          object\n",
       "InstitutionType_1          object\n",
       "PrimaryInstitution_1       object\n",
       "OrgName_1                  object\n",
       "Position_1                 object\n",
       "OrgRank_1                  object\n",
       "PositionRank_1             object\n",
       "CareerString_2             object\n",
       "CareerDateString_2022_2    object\n",
       "CareerStartYear_2          object\n",
       "CareerStartMonth_2         object\n",
       "CareerStartDate_2          object\n",
       "CareerSubstring_2          object\n",
       "InstitutionType_2          object\n",
       "PrimaryInstitution_2       object\n",
       "OrgName_2                  object\n",
       "Position_2                 object\n",
       "OrgRank_2                  object\n",
       "PositionRank_2             object\n",
       "OrgAdvance                  int32\n",
       "PositionAdvance             int32\n",
       "dtype: object"
      ]
     },
     "execution_count": 16,
     "metadata": {},
     "output_type": "execute_result"
    }
   ],
   "source": [
    "trans = trans.astype({\"OrgAdvance\":\"int\",\"PositionAdvance\":\"int\",\"CareerStartYear_1\":\"int\"})\n",
    "trans.dtypes"
   ]
  },
  {
   "cell_type": "markdown",
   "id": "524e2169",
   "metadata": {},
   "source": [
    "#### filter out UNCERTAIN - I thought I already did this"
   ]
  },
  {
   "cell_type": "code",
   "execution_count": 17,
   "id": "fd5c5418",
   "metadata": {},
   "outputs": [
    {
     "data": {
      "text/plain": [
       "(2774, 27)"
      ]
     },
     "execution_count": 17,
     "metadata": {},
     "output_type": "execute_result"
    }
   ],
   "source": [
    "certain_criteria = (trans[\"InstitutionType_1\"]!=\"UNCERTAIN\") & (trans[\"InstitutionType_2\"]!=\"UNCERTAIN\")\n",
    "trans = trans[certain_criteria]\n",
    "trans.shape"
   ]
  },
  {
   "cell_type": "markdown",
   "id": "16c49e74",
   "metadata": {},
   "source": [
    "# Analysis"
   ]
  },
  {
   "cell_type": "code",
   "execution_count": 18,
   "id": "39648498",
   "metadata": {},
   "outputs": [],
   "source": [
    "path_analysis = \"C:/Users/seoul/Dropbox/00 technical/github/nkelites/analysis/\""
   ]
  },
  {
   "cell_type": "code",
   "execution_count": 19,
   "id": "07394fd1",
   "metadata": {},
   "outputs": [],
   "source": [
    "# subpaths\n",
    "current_subpath = \"2023.09.01 analysis/\""
   ]
  },
  {
   "cell_type": "code",
   "execution_count": 20,
   "id": "545647b5",
   "metadata": {},
   "outputs": [],
   "source": [
    "filename_suffix = \"_\"+filename_leaderjobtransition.split(\"_\")[1]"
   ]
  },
  {
   "cell_type": "markdown",
   "id": "7d59db9d",
   "metadata": {},
   "source": [
    "# Functions"
   ]
  },
  {
   "cell_type": "code",
   "execution_count": 21,
   "id": "ba5de424",
   "metadata": {},
   "outputs": [],
   "source": [
    "def merge_results(m):\n",
    "    \n",
    "    print(\"\\nMerge Results...\")\n",
    "    print(\"\")\n",
    "    print(\"\\tshape     :\",m.shape)\n",
    "    print(\"\\tleft_only :\",m[m[\"_merge\"]==\"left_only\"].shape)\n",
    "    print(\"\\tboth      :\",m[m[\"_merge\"]==\"both\"].shape)\n",
    "    print(\"\\tright_only:\",m[m[\"_merge\"]==\"right_only\"].shape)"
   ]
  },
  {
   "cell_type": "code",
   "execution_count": 22,
   "id": "d3411709",
   "metadata": {},
   "outputs": [],
   "source": [
    "# using this on (PI,OrgName) will ensure unique & non-null keys\n",
    "# using this on a larger df will ensure unique rows and non-null keys, but not unique keys\n",
    "\n",
    "def unique_non_null_rows(olddf):\n",
    "    \n",
    "    df = olddf.copy()\n",
    "    \n",
    "    \n",
    "    ### drop duplicates\n",
    "    df = df.drop_duplicates(keep=\"first\",ignore_index=True)\n",
    "\n",
    "    ### drop null rows\n",
    "    df.dropna(how=\"all\",axis=0,inplace=True)\n",
    "    \n",
    "    # drop rows with null PI\n",
    "    df = df[~(df[\"PrimaryInstitution\"].isna())]\n",
    "        \n",
    "    ### drop rows where PI contains stop words\n",
    "    stop_words_lower = [\"uncertain\",\"current\",\"deprecated\",\"please_revise\"]\n",
    "    df = df[ ~ df[\"PrimaryInstitution\"].str.lower().isin(stop_words_lower)]\n",
    "            \n",
    "\n",
    "    print(\"\\nUnique Non-null Rows...\")\n",
    "    print(\"\")\n",
    "    print(\"\\tNon-unique rows:\",olddf.shape)\n",
    "    print(\"\\tUnique rows    :\",df.shape)\n",
    "\n",
    "    ### sort\n",
    "    df = df.sort_values([\"PrimaryInstitution\",\"OrgName\"])\n",
    "    \n",
    "    return df"
   ]
  },
  {
   "cell_type": "markdown",
   "id": "f8e0fa19",
   "metadata": {},
   "source": [
    "# Step. Org & Position Advance, overall"
   ]
  },
  {
   "cell_type": "markdown",
   "id": "f5ecd435",
   "metadata": {},
   "source": [
    "#### new Variables"
   ]
  },
  {
   "cell_type": "code",
   "execution_count": 23,
   "id": "b4f2d592",
   "metadata": {},
   "outputs": [],
   "source": [
    "trans[\"SameInstitutionType\"] = trans.apply(lambda x: x[\"InstitutionType_1\"] == x[\"InstitutionType_2\"],axis=1)"
   ]
  },
  {
   "cell_type": "code",
   "execution_count": 24,
   "id": "cd6caee9",
   "metadata": {},
   "outputs": [
    {
     "data": {
      "text/plain": [
       "SameInstitutionType\n",
       "False    1212\n",
       "True     1562\n",
       "Name: LeaderID, dtype: int64"
      ]
     },
     "execution_count": 24,
     "metadata": {},
     "output_type": "execute_result"
    }
   ],
   "source": [
    "trans.groupby([\"SameInstitutionType\"])[\"LeaderID\"].count()"
   ]
  },
  {
   "cell_type": "markdown",
   "id": "3f47646a",
   "metadata": {},
   "source": [
    "#### Overall mean OrgAdvance, PositionAdvance\n",
    "\n",
    "- but these don't mean much, because OrgRank are not equivalent across Institutions"
   ]
  },
  {
   "cell_type": "code",
   "execution_count": 25,
   "id": "a3fa4186",
   "metadata": {},
   "outputs": [
    {
     "data": {
      "text/plain": [
       "0.05803893294881038"
      ]
     },
     "execution_count": 25,
     "metadata": {},
     "output_type": "execute_result"
    }
   ],
   "source": [
    "mean(list(trans.OrgAdvance))"
   ]
  },
  {
   "cell_type": "code",
   "execution_count": 26,
   "id": "efb2f46c",
   "metadata": {},
   "outputs": [
    {
     "data": {
      "text/plain": [
       "0.06560922855082912"
      ]
     },
     "execution_count": 26,
     "metadata": {},
     "output_type": "execute_result"
    }
   ],
   "source": [
    "mean(list(trans.PositionAdvance))"
   ]
  },
  {
   "cell_type": "markdown",
   "id": "baee6787",
   "metadata": {},
   "source": [
    "#### Overall mean OrgAdvance, PositionAdvance, by SameInstitutionType"
   ]
  },
  {
   "cell_type": "code",
   "execution_count": 27,
   "id": "adaecdd4",
   "metadata": {},
   "outputs": [
    {
     "data": {
      "text/html": [
       "<div>\n",
       "<style scoped>\n",
       "    .dataframe tbody tr th:only-of-type {\n",
       "        vertical-align: middle;\n",
       "    }\n",
       "\n",
       "    .dataframe tbody tr th {\n",
       "        vertical-align: top;\n",
       "    }\n",
       "\n",
       "    .dataframe thead tr th {\n",
       "        text-align: left;\n",
       "    }\n",
       "</style>\n",
       "<table border=\"1\" class=\"dataframe\">\n",
       "  <thead>\n",
       "    <tr>\n",
       "      <th></th>\n",
       "      <th>SameInstitutionType</th>\n",
       "      <th>LeaderID</th>\n",
       "      <th colspan=\"2\" halign=\"left\">OrgAdvance</th>\n",
       "      <th colspan=\"2\" halign=\"left\">PositionAdvance</th>\n",
       "    </tr>\n",
       "    <tr>\n",
       "      <th></th>\n",
       "      <th></th>\n",
       "      <th>count</th>\n",
       "      <th>mean</th>\n",
       "      <th>var</th>\n",
       "      <th>mean</th>\n",
       "      <th>var</th>\n",
       "    </tr>\n",
       "  </thead>\n",
       "  <tbody>\n",
       "    <tr>\n",
       "      <th>0</th>\n",
       "      <td>False</td>\n",
       "      <td>1212</td>\n",
       "      <td>0.043729</td>\n",
       "      <td>1.754486</td>\n",
       "      <td>0.034653</td>\n",
       "      <td>0.895578</td>\n",
       "    </tr>\n",
       "    <tr>\n",
       "      <th>1</th>\n",
       "      <td>True</td>\n",
       "      <td>1562</td>\n",
       "      <td>0.069142</td>\n",
       "      <td>0.863890</td>\n",
       "      <td>0.089629</td>\n",
       "      <td>0.662045</td>\n",
       "    </tr>\n",
       "  </tbody>\n",
       "</table>\n",
       "</div>"
      ],
      "text/plain": [
       "  SameInstitutionType LeaderID OrgAdvance           PositionAdvance          \n",
       "                         count       mean       var            mean       var\n",
       "0               False     1212   0.043729  1.754486        0.034653  0.895578\n",
       "1                True     1562   0.069142  0.863890        0.089629  0.662045"
      ]
     },
     "execution_count": 27,
     "metadata": {},
     "output_type": "execute_result"
    }
   ],
   "source": [
    "h1 = trans.groupby(\"SameInstitutionType\",as_index=False).agg({\"LeaderID\":\"count\",\"OrgAdvance\":[\"mean\",\"var\"],\"PositionAdvance\":[\"mean\",\"var\"]})\n",
    "h1"
   ]
  },
  {
   "cell_type": "code",
   "execution_count": 28,
   "id": "1c2825cb",
   "metadata": {},
   "outputs": [
    {
     "data": {
      "text/plain": [
       "'leaderjobtransition_alljobs.xlsx'"
      ]
     },
     "execution_count": 28,
     "metadata": {},
     "output_type": "execute_result"
    }
   ],
   "source": [
    "filename_leaderjobtransition"
   ]
  },
  {
   "cell_type": "code",
   "execution_count": 29,
   "id": "b4e252d2",
   "metadata": {},
   "outputs": [],
   "source": [
    "filename_stem = \"h1_overall.xlsx\"\n",
    "h1.to_excel(path_analysis + current_subpath + filename_stem)"
   ]
  },
  {
   "cell_type": "markdown",
   "id": "9ff7a2f2",
   "metadata": {},
   "source": [
    "# H1. OrgAdvance, PositionAdvance by Institution"
   ]
  },
  {
   "cell_type": "code",
   "execution_count": 30,
   "id": "55c7a332",
   "metadata": {},
   "outputs": [
    {
     "data": {
      "text/plain": [
       "(1562, 28)"
      ]
     },
     "execution_count": 30,
     "metadata": {},
     "output_type": "execute_result"
    }
   ],
   "source": [
    "trans_h1 = trans[(trans[\"SameInstitutionType\"]==True) & ~(trans[\"InstitutionType_1\"]==\"UNCERTAIN\")]\n",
    "trans_h1.shape"
   ]
  },
  {
   "cell_type": "code",
   "execution_count": 31,
   "id": "60b92db9",
   "metadata": {},
   "outputs": [
    {
     "data": {
      "text/plain": [
       "Index(['LeaderID', 'CareerString_1', 'CareerDateString_2022_1',\n",
       "       'CareerStartYear_1', 'CareerStartMonth_1', 'CareerStartDate_1',\n",
       "       'CareerSubstring_1', 'InstitutionType_1', 'PrimaryInstitution_1',\n",
       "       'OrgName_1', 'Position_1', 'OrgRank_1', 'PositionRank_1',\n",
       "       'CareerString_2', 'CareerDateString_2022_2', 'CareerStartYear_2',\n",
       "       'CareerStartMonth_2', 'CareerStartDate_2', 'CareerSubstring_2',\n",
       "       'InstitutionType_2', 'PrimaryInstitution_2', 'OrgName_2', 'Position_2',\n",
       "       'OrgRank_2', 'PositionRank_2', 'OrgAdvance', 'PositionAdvance',\n",
       "       'SameInstitutionType'],\n",
       "      dtype='object')"
      ]
     },
     "execution_count": 31,
     "metadata": {},
     "output_type": "execute_result"
    }
   ],
   "source": [
    "trans_h1.columns"
   ]
  },
  {
   "cell_type": "code",
   "execution_count": 32,
   "id": "4c4b3aa2",
   "metadata": {},
   "outputs": [
    {
     "name": "stderr",
     "output_type": "stream",
     "text": [
      "C:\\Users\\seoul\\AppData\\Local\\Temp\\ipykernel_13700\\292332459.py:1: SettingWithCopyWarning: \n",
      "A value is trying to be set on a copy of a slice from a DataFrame.\n",
      "Try using .loc[row_indexer,col_indexer] = value instead\n",
      "\n",
      "See the caveats in the documentation: https://pandas.pydata.org/pandas-docs/stable/user_guide/indexing.html#returning-a-view-versus-a-copy\n",
      "  trans_h1[\"InstitutionType\"]=np.nan\n"
     ]
    }
   ],
   "source": [
    "trans_h1[\"InstitutionType\"]=np.nan\n",
    "\n",
    "trans_h1.loc[trans_h1[\"InstitutionType_1\"]==\"노동당\",\"InstitutionType\"]=\"Party\"\n",
    "trans_h1.loc[trans_h1[\"InstitutionType_1\"]==\"인민군\",\"InstitutionType\"]=\"Military\"\n",
    "trans_h1.loc[trans_h1[\"InstitutionType_1\"]==\"정권기관\",\"InstitutionType\"]=\"Government\"\n",
    "\n",
    "nongov_criteria = (trans_h1[\"InstitutionType_1\"]!=\"노동당\") & (trans_h1[\"InstitutionType_1\"]!=\"인민군\") & (trans_h1[\"InstitutionType_1\"]!=\"정권기관\")\n",
    "trans_h1.loc[nongov_criteria,\"InstitutionType\"]=\"Non-Governmental Organization\""
   ]
  },
  {
   "cell_type": "code",
   "execution_count": 33,
   "id": "9c91829b",
   "metadata": {},
   "outputs": [
    {
     "name": "stderr",
     "output_type": "stream",
     "text": [
      "C:\\Users\\seoul\\AppData\\Local\\Temp\\ipykernel_13700\\3139864340.py:2: SettingWithCopyWarning: \n",
      "A value is trying to be set on a copy of a slice from a DataFrame.\n",
      "Try using .loc[row_indexer,col_indexer] = value instead\n",
      "\n",
      "See the caveats in the documentation: https://pandas.pydata.org/pandas-docs/stable/user_guide/indexing.html#returning-a-view-versus-a-copy\n",
      "  trans_h1['InstitutionType'] = trans_h1['InstitutionType'].astype(institutionalorder)\n"
     ]
    }
   ],
   "source": [
    "institutionalorder = CategoricalDtype([\"Party\",\"Military\",\"Government\",\"Non-Governmental Organization\"],ordered=True)\n",
    "trans_h1['InstitutionType'] = trans_h1['InstitutionType'].astype(institutionalorder)\n",
    "trans_h1 = trans_h1.sort_values(\"InstitutionType\")"
   ]
  },
  {
   "cell_type": "code",
   "execution_count": 34,
   "id": "d4454b92",
   "metadata": {},
   "outputs": [
    {
     "data": {
      "text/html": [
       "<div>\n",
       "<style scoped>\n",
       "    .dataframe tbody tr th:only-of-type {\n",
       "        vertical-align: middle;\n",
       "    }\n",
       "\n",
       "    .dataframe tbody tr th {\n",
       "        vertical-align: top;\n",
       "    }\n",
       "\n",
       "    .dataframe thead tr th {\n",
       "        text-align: left;\n",
       "    }\n",
       "</style>\n",
       "<table border=\"1\" class=\"dataframe\">\n",
       "  <thead>\n",
       "    <tr>\n",
       "      <th></th>\n",
       "      <th>InstitutionType</th>\n",
       "      <th>LeaderID</th>\n",
       "      <th colspan=\"2\" halign=\"left\">OrgAdvance</th>\n",
       "      <th colspan=\"2\" halign=\"left\">PositionAdvance</th>\n",
       "    </tr>\n",
       "    <tr>\n",
       "      <th></th>\n",
       "      <th></th>\n",
       "      <th>count</th>\n",
       "      <th>mean</th>\n",
       "      <th>var</th>\n",
       "      <th>mean</th>\n",
       "      <th>var</th>\n",
       "    </tr>\n",
       "  </thead>\n",
       "  <tbody>\n",
       "    <tr>\n",
       "      <th>0</th>\n",
       "      <td>Party</td>\n",
       "      <td>263</td>\n",
       "      <td>0.060837</td>\n",
       "      <td>0.988651</td>\n",
       "      <td>0.007605</td>\n",
       "      <td>0.648797</td>\n",
       "    </tr>\n",
       "    <tr>\n",
       "      <th>1</th>\n",
       "      <td>Military</td>\n",
       "      <td>167</td>\n",
       "      <td>0.203593</td>\n",
       "      <td>2.367939</td>\n",
       "      <td>0.017964</td>\n",
       "      <td>0.668350</td>\n",
       "    </tr>\n",
       "    <tr>\n",
       "      <th>2</th>\n",
       "      <td>Government</td>\n",
       "      <td>834</td>\n",
       "      <td>0.076739</td>\n",
       "      <td>0.776817</td>\n",
       "      <td>0.100719</td>\n",
       "      <td>0.700528</td>\n",
       "    </tr>\n",
       "    <tr>\n",
       "      <th>3</th>\n",
       "      <td>Non-Governmental Organization</td>\n",
       "      <td>298</td>\n",
       "      <td>-0.020134</td>\n",
       "      <td>0.147741</td>\n",
       "      <td>0.171141</td>\n",
       "      <td>0.553104</td>\n",
       "    </tr>\n",
       "  </tbody>\n",
       "</table>\n",
       "</div>"
      ],
      "text/plain": [
       "                 InstitutionType LeaderID OrgAdvance            \\\n",
       "                                    count       mean       var   \n",
       "0                          Party      263   0.060837  0.988651   \n",
       "1                       Military      167   0.203593  2.367939   \n",
       "2                     Government      834   0.076739  0.776817   \n",
       "3  Non-Governmental Organization      298  -0.020134  0.147741   \n",
       "\n",
       "  PositionAdvance            \n",
       "             mean       var  \n",
       "0        0.007605  0.648797  \n",
       "1        0.017964  0.668350  \n",
       "2        0.100719  0.700528  \n",
       "3        0.171141  0.553104  "
      ]
     },
     "execution_count": 34,
     "metadata": {},
     "output_type": "execute_result"
    }
   ],
   "source": [
    "trans_h1_results = trans_h1.groupby([\"InstitutionType\"],as_index=False).agg({\"LeaderID\":\"count\",\"OrgAdvance\":[\"mean\",\"var\"],\"PositionAdvance\":[\"mean\",\"var\"]})\n",
    "trans_h1_results"
   ]
  },
  {
   "cell_type": "markdown",
   "id": "0f92d213",
   "metadata": {},
   "source": [
    "#### org advancement by institution"
   ]
  },
  {
   "cell_type": "code",
   "execution_count": 35,
   "id": "2044f352",
   "metadata": {},
   "outputs": [
    {
     "data": {
      "text/html": [
       "<div>\n",
       "<style scoped>\n",
       "    .dataframe tbody tr th:only-of-type {\n",
       "        vertical-align: middle;\n",
       "    }\n",
       "\n",
       "    .dataframe tbody tr th {\n",
       "        vertical-align: top;\n",
       "    }\n",
       "\n",
       "    .dataframe thead th {\n",
       "        text-align: right;\n",
       "    }\n",
       "</style>\n",
       "<table border=\"1\" class=\"dataframe\">\n",
       "  <thead>\n",
       "    <tr style=\"text-align: right;\">\n",
       "      <th></th>\n",
       "      <th>InstitutionType</th>\n",
       "      <th>count</th>\n",
       "      <th>mean</th>\n",
       "      <th>var</th>\n",
       "    </tr>\n",
       "  </thead>\n",
       "  <tbody>\n",
       "    <tr>\n",
       "      <th>0</th>\n",
       "      <td>Party</td>\n",
       "      <td>263</td>\n",
       "      <td>0.060837</td>\n",
       "      <td>0.988651</td>\n",
       "    </tr>\n",
       "    <tr>\n",
       "      <th>1</th>\n",
       "      <td>Military</td>\n",
       "      <td>167</td>\n",
       "      <td>0.203593</td>\n",
       "      <td>2.367939</td>\n",
       "    </tr>\n",
       "    <tr>\n",
       "      <th>2</th>\n",
       "      <td>Government</td>\n",
       "      <td>834</td>\n",
       "      <td>0.076739</td>\n",
       "      <td>0.776817</td>\n",
       "    </tr>\n",
       "    <tr>\n",
       "      <th>3</th>\n",
       "      <td>Non-Governmental Organization</td>\n",
       "      <td>298</td>\n",
       "      <td>-0.020134</td>\n",
       "      <td>0.147741</td>\n",
       "    </tr>\n",
       "  </tbody>\n",
       "</table>\n",
       "</div>"
      ],
      "text/plain": [
       "                 InstitutionType  count      mean       var\n",
       "0                          Party    263  0.060837  0.988651\n",
       "1                       Military    167  0.203593  2.367939\n",
       "2                     Government    834  0.076739  0.776817\n",
       "3  Non-Governmental Organization    298 -0.020134  0.147741"
      ]
     },
     "execution_count": 35,
     "metadata": {},
     "output_type": "execute_result"
    }
   ],
   "source": [
    "h1_institution_org = trans_h1.groupby([\"InstitutionType\"],as_index=False).agg({\"LeaderID\":\"count\",\"OrgAdvance\":[\"mean\",\"var\"]})\n",
    "h1_institution_org.columns = [\"InstitutionType\",\"count\",\"mean\",\"var\"]\n",
    "h1_institution_org"
   ]
  },
  {
   "cell_type": "code",
   "execution_count": 36,
   "id": "687b3879",
   "metadata": {
    "scrolled": false
   },
   "outputs": [
    {
     "data": {
      "text/html": [
       "<div>\n",
       "<style scoped>\n",
       "    .dataframe tbody tr th:only-of-type {\n",
       "        vertical-align: middle;\n",
       "    }\n",
       "\n",
       "    .dataframe tbody tr th {\n",
       "        vertical-align: top;\n",
       "    }\n",
       "\n",
       "    .dataframe thead th {\n",
       "        text-align: right;\n",
       "    }\n",
       "</style>\n",
       "<table border=\"1\" class=\"dataframe\">\n",
       "  <thead>\n",
       "    <tr style=\"text-align: right;\">\n",
       "      <th></th>\n",
       "      <th>InstitutionType</th>\n",
       "      <th>count</th>\n",
       "      <th>mean</th>\n",
       "      <th>var</th>\n",
       "      <th>sd</th>\n",
       "      <th>z</th>\n",
       "      <th>e</th>\n",
       "      <th>lower 95% bound</th>\n",
       "      <th>upper 95% bound</th>\n",
       "    </tr>\n",
       "  </thead>\n",
       "  <tbody>\n",
       "    <tr>\n",
       "      <th>0</th>\n",
       "      <td>Party</td>\n",
       "      <td>263</td>\n",
       "      <td>0.060837</td>\n",
       "      <td>0.988651</td>\n",
       "      <td>0.061429</td>\n",
       "      <td>1.65</td>\n",
       "      <td>0.003795</td>\n",
       "      <td>0.054575</td>\n",
       "      <td>0.067098</td>\n",
       "    </tr>\n",
       "    <tr>\n",
       "      <th>1</th>\n",
       "      <td>Military</td>\n",
       "      <td>167</td>\n",
       "      <td>0.203593</td>\n",
       "      <td>2.367939</td>\n",
       "      <td>0.119435</td>\n",
       "      <td>1.65</td>\n",
       "      <td>0.009270</td>\n",
       "      <td>0.188297</td>\n",
       "      <td>0.218888</td>\n",
       "    </tr>\n",
       "    <tr>\n",
       "      <th>2</th>\n",
       "      <td>Government</td>\n",
       "      <td>834</td>\n",
       "      <td>0.076739</td>\n",
       "      <td>0.776817</td>\n",
       "      <td>0.030538</td>\n",
       "      <td>1.65</td>\n",
       "      <td>0.001058</td>\n",
       "      <td>0.074993</td>\n",
       "      <td>0.078484</td>\n",
       "    </tr>\n",
       "    <tr>\n",
       "      <th>3</th>\n",
       "      <td>Non-Governmental Organization</td>\n",
       "      <td>298</td>\n",
       "      <td>-0.020134</td>\n",
       "      <td>0.147741</td>\n",
       "      <td>0.022303</td>\n",
       "      <td>1.65</td>\n",
       "      <td>0.001294</td>\n",
       "      <td>-0.022270</td>\n",
       "      <td>-0.017999</td>\n",
       "    </tr>\n",
       "  </tbody>\n",
       "</table>\n",
       "</div>"
      ],
      "text/plain": [
       "                 InstitutionType  count      mean       var        sd     z  \\\n",
       "0                          Party    263  0.060837  0.988651  0.061429  1.65   \n",
       "1                       Military    167  0.203593  2.367939  0.119435  1.65   \n",
       "2                     Government    834  0.076739  0.776817  0.030538  1.65   \n",
       "3  Non-Governmental Organization    298 -0.020134  0.147741  0.022303  1.65   \n",
       "\n",
       "          e  lower 95% bound  upper 95% bound  \n",
       "0  0.003795         0.054575         0.067098  \n",
       "1  0.009270         0.188297         0.218888  \n",
       "2  0.001058         0.074993         0.078484  \n",
       "3  0.001294        -0.022270        -0.017999  "
      ]
     },
     "execution_count": 36,
     "metadata": {},
     "output_type": "execute_result"
    }
   ],
   "source": [
    "h1_institution_org[\"sd\"] = np.sqrt(h1_institution_org[\"var\"] / (h1_institution_org[\"count\"] - 1))\n",
    "h1_institution_org[\"z\"] = 1.65\n",
    "h1_institution_org[\"e\"] = h1_institution_org[\"sd\"] / np.sqrt(h1_institution_org[\"count\"] - 1)\n",
    "h1_institution_org[\"lower 95% bound\"] = h1_institution_org[\"mean\"] - (h1_institution_org[\"z\"]*h1_institution_org[\"e\"])\n",
    "h1_institution_org[\"upper 95% bound\"] = h1_institution_org[\"mean\"] + (h1_institution_org[\"z\"]*h1_institution_org[\"e\"])\n",
    "h1_institution_org"
   ]
  },
  {
   "cell_type": "code",
   "execution_count": 37,
   "id": "c3ae1a81",
   "metadata": {},
   "outputs": [],
   "source": [
    "filename_stem = \"h1_institution_org.xlsx\"\n",
    "h1_institution_org.to_excel(path_analysis + current_subpath + filename_stem)"
   ]
  },
  {
   "cell_type": "markdown",
   "id": "422e9301",
   "metadata": {},
   "source": [
    "#### position advancement by institution"
   ]
  },
  {
   "cell_type": "code",
   "execution_count": 38,
   "id": "3727103a",
   "metadata": {},
   "outputs": [
    {
     "data": {
      "text/html": [
       "<div>\n",
       "<style scoped>\n",
       "    .dataframe tbody tr th:only-of-type {\n",
       "        vertical-align: middle;\n",
       "    }\n",
       "\n",
       "    .dataframe tbody tr th {\n",
       "        vertical-align: top;\n",
       "    }\n",
       "\n",
       "    .dataframe thead th {\n",
       "        text-align: right;\n",
       "    }\n",
       "</style>\n",
       "<table border=\"1\" class=\"dataframe\">\n",
       "  <thead>\n",
       "    <tr style=\"text-align: right;\">\n",
       "      <th></th>\n",
       "      <th>InstitutionType</th>\n",
       "      <th>count</th>\n",
       "      <th>mean</th>\n",
       "      <th>var</th>\n",
       "    </tr>\n",
       "  </thead>\n",
       "  <tbody>\n",
       "    <tr>\n",
       "      <th>0</th>\n",
       "      <td>Party</td>\n",
       "      <td>263</td>\n",
       "      <td>0.007605</td>\n",
       "      <td>0.648797</td>\n",
       "    </tr>\n",
       "    <tr>\n",
       "      <th>1</th>\n",
       "      <td>Military</td>\n",
       "      <td>167</td>\n",
       "      <td>0.017964</td>\n",
       "      <td>0.668350</td>\n",
       "    </tr>\n",
       "    <tr>\n",
       "      <th>2</th>\n",
       "      <td>Government</td>\n",
       "      <td>834</td>\n",
       "      <td>0.100719</td>\n",
       "      <td>0.700528</td>\n",
       "    </tr>\n",
       "    <tr>\n",
       "      <th>3</th>\n",
       "      <td>Non-Governmental Organization</td>\n",
       "      <td>298</td>\n",
       "      <td>0.171141</td>\n",
       "      <td>0.553104</td>\n",
       "    </tr>\n",
       "  </tbody>\n",
       "</table>\n",
       "</div>"
      ],
      "text/plain": [
       "                 InstitutionType  count      mean       var\n",
       "0                          Party    263  0.007605  0.648797\n",
       "1                       Military    167  0.017964  0.668350\n",
       "2                     Government    834  0.100719  0.700528\n",
       "3  Non-Governmental Organization    298  0.171141  0.553104"
      ]
     },
     "execution_count": 38,
     "metadata": {},
     "output_type": "execute_result"
    }
   ],
   "source": [
    "h1_institution_pos = trans_h1.groupby([\"InstitutionType\"],as_index=False).agg({\"LeaderID\":\"count\",\"PositionAdvance\":[\"mean\",\"var\"]})\n",
    "h1_institution_pos.columns = [\"InstitutionType\",\"count\",\"mean\",\"var\"]\n",
    "h1_institution_pos"
   ]
  },
  {
   "cell_type": "code",
   "execution_count": 39,
   "id": "434b76ed",
   "metadata": {},
   "outputs": [
    {
     "data": {
      "text/html": [
       "<div>\n",
       "<style scoped>\n",
       "    .dataframe tbody tr th:only-of-type {\n",
       "        vertical-align: middle;\n",
       "    }\n",
       "\n",
       "    .dataframe tbody tr th {\n",
       "        vertical-align: top;\n",
       "    }\n",
       "\n",
       "    .dataframe thead th {\n",
       "        text-align: right;\n",
       "    }\n",
       "</style>\n",
       "<table border=\"1\" class=\"dataframe\">\n",
       "  <thead>\n",
       "    <tr style=\"text-align: right;\">\n",
       "      <th></th>\n",
       "      <th>InstitutionType</th>\n",
       "      <th>count</th>\n",
       "      <th>mean</th>\n",
       "      <th>var</th>\n",
       "      <th>sd</th>\n",
       "      <th>z</th>\n",
       "      <th>e</th>\n",
       "      <th>lower 95% bound</th>\n",
       "      <th>upper 95% bound</th>\n",
       "    </tr>\n",
       "  </thead>\n",
       "  <tbody>\n",
       "    <tr>\n",
       "      <th>0</th>\n",
       "      <td>Party</td>\n",
       "      <td>263</td>\n",
       "      <td>0.007605</td>\n",
       "      <td>0.648797</td>\n",
       "      <td>0.049763</td>\n",
       "      <td>1.65</td>\n",
       "      <td>0.003074</td>\n",
       "      <td>0.002532</td>\n",
       "      <td>0.012677</td>\n",
       "    </tr>\n",
       "    <tr>\n",
       "      <th>1</th>\n",
       "      <td>Military</td>\n",
       "      <td>167</td>\n",
       "      <td>0.017964</td>\n",
       "      <td>0.668350</td>\n",
       "      <td>0.063452</td>\n",
       "      <td>1.65</td>\n",
       "      <td>0.004925</td>\n",
       "      <td>0.009838</td>\n",
       "      <td>0.026090</td>\n",
       "    </tr>\n",
       "    <tr>\n",
       "      <th>2</th>\n",
       "      <td>Government</td>\n",
       "      <td>834</td>\n",
       "      <td>0.100719</td>\n",
       "      <td>0.700528</td>\n",
       "      <td>0.028999</td>\n",
       "      <td>1.65</td>\n",
       "      <td>0.001005</td>\n",
       "      <td>0.099062</td>\n",
       "      <td>0.102377</td>\n",
       "    </tr>\n",
       "    <tr>\n",
       "      <th>3</th>\n",
       "      <td>Non-Governmental Organization</td>\n",
       "      <td>298</td>\n",
       "      <td>0.171141</td>\n",
       "      <td>0.553104</td>\n",
       "      <td>0.043154</td>\n",
       "      <td>1.65</td>\n",
       "      <td>0.002504</td>\n",
       "      <td>0.167009</td>\n",
       "      <td>0.175273</td>\n",
       "    </tr>\n",
       "  </tbody>\n",
       "</table>\n",
       "</div>"
      ],
      "text/plain": [
       "                 InstitutionType  count      mean       var        sd     z  \\\n",
       "0                          Party    263  0.007605  0.648797  0.049763  1.65   \n",
       "1                       Military    167  0.017964  0.668350  0.063452  1.65   \n",
       "2                     Government    834  0.100719  0.700528  0.028999  1.65   \n",
       "3  Non-Governmental Organization    298  0.171141  0.553104  0.043154  1.65   \n",
       "\n",
       "          e  lower 95% bound  upper 95% bound  \n",
       "0  0.003074         0.002532         0.012677  \n",
       "1  0.004925         0.009838         0.026090  \n",
       "2  0.001005         0.099062         0.102377  \n",
       "3  0.002504         0.167009         0.175273  "
      ]
     },
     "execution_count": 39,
     "metadata": {},
     "output_type": "execute_result"
    }
   ],
   "source": [
    "h1_institution_pos[\"sd\"] = np.sqrt(h1_institution_pos[\"var\"] / (h1_institution_pos[\"count\"] - 1))\n",
    "h1_institution_pos[\"z\"] = 1.65\n",
    "h1_institution_pos[\"e\"] = h1_institution_pos[\"sd\"] / np.sqrt(h1_institution_pos[\"count\"] - 1)\n",
    "h1_institution_pos[\"lower 95% bound\"] = h1_institution_pos[\"mean\"] - (h1_institution_pos[\"z\"]*h1_institution_pos[\"e\"])\n",
    "h1_institution_pos[\"upper 95% bound\"] = h1_institution_pos[\"mean\"] + (h1_institution_pos[\"z\"]*h1_institution_pos[\"e\"])\n",
    "h1_institution_pos"
   ]
  },
  {
   "cell_type": "code",
   "execution_count": 64,
   "id": "c3926c1a",
   "metadata": {},
   "outputs": [],
   "source": [
    "filename_stem = \"h1_institution_pos.xlsx\"\n",
    "h1_institution_pos.to_excel(path_analysis + current_subpath + filename_stem)"
   ]
  },
  {
   "cell_type": "markdown",
   "id": "c8744246",
   "metadata": {},
   "source": [
    "# Step. Descriptive Analysis"
   ]
  },
  {
   "cell_type": "markdown",
   "id": "643590c3",
   "metadata": {},
   "source": [
    "#### Frequency of InstitutionType"
   ]
  },
  {
   "cell_type": "code",
   "execution_count": 41,
   "id": "d9a4308b",
   "metadata": {},
   "outputs": [],
   "source": [
    "column_names = [\"LeaderID\",\"InstitutionType\"]"
   ]
  },
  {
   "cell_type": "code",
   "execution_count": 42,
   "id": "fbdb7a9d",
   "metadata": {},
   "outputs": [],
   "source": [
    "df1_column_names = [\"LeaderID\"]+[item+\"_1\" for item in column_names if item!=\"LeaderID\"]\n",
    "df2_column_names = [\"LeaderID\"]+[item+\"_2\" for item in column_names if item!=\"LeaderID\"]\n",
    "df1 = trans[df1_column_names]\n",
    "df2 = trans[df2_column_names]\n",
    "df1.columns = column_names\n",
    "df2.columns = column_names"
   ]
  },
  {
   "cell_type": "code",
   "execution_count": 43,
   "id": "62ad4e71",
   "metadata": {},
   "outputs": [],
   "source": [
    "# concatentate vars\n",
    "var = pd.concat([df1,df2])"
   ]
  },
  {
   "cell_type": "code",
   "execution_count": 44,
   "id": "e06e293c",
   "metadata": {},
   "outputs": [
    {
     "data": {
      "text/html": [
       "<div>\n",
       "<style scoped>\n",
       "    .dataframe tbody tr th:only-of-type {\n",
       "        vertical-align: middle;\n",
       "    }\n",
       "\n",
       "    .dataframe tbody tr th {\n",
       "        vertical-align: top;\n",
       "    }\n",
       "\n",
       "    .dataframe thead th {\n",
       "        text-align: right;\n",
       "    }\n",
       "</style>\n",
       "<table border=\"1\" class=\"dataframe\">\n",
       "  <thead>\n",
       "    <tr style=\"text-align: right;\">\n",
       "      <th></th>\n",
       "      <th>InstitutionType</th>\n",
       "      <th>LeaderID</th>\n",
       "    </tr>\n",
       "  </thead>\n",
       "  <tbody>\n",
       "    <tr>\n",
       "      <th>0</th>\n",
       "      <td>Government</td>\n",
       "      <td>2427</td>\n",
       "    </tr>\n",
       "    <tr>\n",
       "      <th>1</th>\n",
       "      <td>Military</td>\n",
       "      <td>432</td>\n",
       "    </tr>\n",
       "    <tr>\n",
       "      <th>2</th>\n",
       "      <td>Non-Governmental Organization</td>\n",
       "      <td>1726</td>\n",
       "    </tr>\n",
       "    <tr>\n",
       "      <th>3</th>\n",
       "      <td>Party</td>\n",
       "      <td>963</td>\n",
       "    </tr>\n",
       "  </tbody>\n",
       "</table>\n",
       "</div>"
      ],
      "text/plain": [
       "                 InstitutionType  LeaderID\n",
       "0                     Government      2427\n",
       "1                       Military       432\n",
       "2  Non-Governmental Organization      1726\n",
       "3                          Party       963"
      ]
     },
     "execution_count": 44,
     "metadata": {},
     "output_type": "execute_result"
    }
   ],
   "source": [
    "var.loc[var[\"InstitutionType\"]==\"노동당\",\"InstitutionType\"]=\"Party\"\n",
    "var.loc[var[\"InstitutionType\"]==\"인민군\",\"InstitutionType\"]=\"Military\"\n",
    "var.loc[var[\"InstitutionType\"]==\"정권기관\",\"InstitutionType\"]=\"Government\"\n",
    "\n",
    "nongov_criteria = (var[\"InstitutionType\"]!=\"Party\") & (var[\"InstitutionType\"]!=\"Military\") & (var[\"InstitutionType\"]!=\"Government\")\n",
    "var.loc[nongov_criteria,\"InstitutionType\"]=\"Non-Governmental Organization\"\n",
    "var.groupby([\"InstitutionType\"],as_index=False).count()"
   ]
  },
  {
   "cell_type": "code",
   "execution_count": 45,
   "id": "f473c3b3",
   "metadata": {},
   "outputs": [
    {
     "data": {
      "text/html": [
       "<div>\n",
       "<style scoped>\n",
       "    .dataframe tbody tr th:only-of-type {\n",
       "        vertical-align: middle;\n",
       "    }\n",
       "\n",
       "    .dataframe tbody tr th {\n",
       "        vertical-align: top;\n",
       "    }\n",
       "\n",
       "    .dataframe thead th {\n",
       "        text-align: right;\n",
       "    }\n",
       "</style>\n",
       "<table border=\"1\" class=\"dataframe\">\n",
       "  <thead>\n",
       "    <tr style=\"text-align: right;\">\n",
       "      <th></th>\n",
       "      <th>InstitutionType</th>\n",
       "      <th>LeaderID</th>\n",
       "    </tr>\n",
       "  </thead>\n",
       "  <tbody>\n",
       "    <tr>\n",
       "      <th>0</th>\n",
       "      <td>Party</td>\n",
       "      <td>963</td>\n",
       "    </tr>\n",
       "    <tr>\n",
       "      <th>1</th>\n",
       "      <td>Military</td>\n",
       "      <td>432</td>\n",
       "    </tr>\n",
       "    <tr>\n",
       "      <th>2</th>\n",
       "      <td>Government</td>\n",
       "      <td>2427</td>\n",
       "    </tr>\n",
       "    <tr>\n",
       "      <th>3</th>\n",
       "      <td>Non-Governmental Organization</td>\n",
       "      <td>1726</td>\n",
       "    </tr>\n",
       "  </tbody>\n",
       "</table>\n",
       "</div>"
      ],
      "text/plain": [
       "                 InstitutionType  LeaderID\n",
       "0                          Party       963\n",
       "1                       Military       432\n",
       "2                     Government      2427\n",
       "3  Non-Governmental Organization      1726"
      ]
     },
     "execution_count": 45,
     "metadata": {},
     "output_type": "execute_result"
    }
   ],
   "source": [
    "institutionalorder = CategoricalDtype([\"Party\",\"Military\",\"Government\",\"Non-Governmental Organization\"],ordered=True)\n",
    "var['InstitutionType'] = var['InstitutionType'].astype(institutionalorder)\n",
    "var = var.sort_values(\"InstitutionType\")\n",
    "var.groupby([\"InstitutionType\"],as_index=False).count()"
   ]
  },
  {
   "cell_type": "code",
   "execution_count": 46,
   "id": "218003b2",
   "metadata": {},
   "outputs": [],
   "source": [
    "filename_stem = \"institutioncounts\"\n",
    "institutioncounts = var.groupby([\"InstitutionType\"],as_index=False).count()\n",
    "institutioncounts.to_excel(path_analysis + current_subpath + filename_stem + filename_suffix,index=False)"
   ]
  },
  {
   "cell_type": "code",
   "execution_count": null,
   "id": "698fa032",
   "metadata": {},
   "outputs": [],
   "source": []
  },
  {
   "cell_type": "markdown",
   "id": "8622f9a0",
   "metadata": {},
   "source": [
    "#### Time Series of Transitions, overall"
   ]
  },
  {
   "cell_type": "code",
   "execution_count": 47,
   "id": "44c59cb4",
   "metadata": {},
   "outputs": [
    {
     "data": {
      "text/plain": [
       "0       1997\n",
       "1       1997\n",
       "2       1998\n",
       "3       1998\n",
       "4       1998\n",
       "        ... \n",
       "2863    2018\n",
       "2864    2017\n",
       "2865    2020\n",
       "2866    2017\n",
       "2867    2019\n",
       "Name: CareerStartYear_1, Length: 2774, dtype: int32"
      ]
     },
     "execution_count": 47,
     "metadata": {},
     "output_type": "execute_result"
    }
   ],
   "source": [
    "trans[\"CareerStartYear_1\"]"
   ]
  },
  {
   "cell_type": "code",
   "execution_count": 48,
   "id": "945f13c9",
   "metadata": {},
   "outputs": [],
   "source": [
    "yeardist = trans[[\"LeaderID\",\"CareerStartYear_1\"]].groupby(\"CareerStartYear_1\",as_index=False).count().sort_values(\"CareerStartYear_1\")"
   ]
  },
  {
   "cell_type": "code",
   "execution_count": 49,
   "id": "8e56374a",
   "metadata": {},
   "outputs": [
    {
     "data": {
      "text/html": [
       "<div>\n",
       "<style scoped>\n",
       "    .dataframe tbody tr th:only-of-type {\n",
       "        vertical-align: middle;\n",
       "    }\n",
       "\n",
       "    .dataframe tbody tr th {\n",
       "        vertical-align: top;\n",
       "    }\n",
       "\n",
       "    .dataframe thead th {\n",
       "        text-align: right;\n",
       "    }\n",
       "</style>\n",
       "<table border=\"1\" class=\"dataframe\">\n",
       "  <thead>\n",
       "    <tr style=\"text-align: right;\">\n",
       "      <th></th>\n",
       "      <th>CareerStartYear_1</th>\n",
       "      <th>LeaderID</th>\n",
       "    </tr>\n",
       "  </thead>\n",
       "  <tbody>\n",
       "    <tr>\n",
       "      <th>0</th>\n",
       "      <td>1937</td>\n",
       "      <td>1</td>\n",
       "    </tr>\n",
       "    <tr>\n",
       "      <th>1</th>\n",
       "      <td>1945</td>\n",
       "      <td>5</td>\n",
       "    </tr>\n",
       "    <tr>\n",
       "      <th>2</th>\n",
       "      <td>1946</td>\n",
       "      <td>6</td>\n",
       "    </tr>\n",
       "    <tr>\n",
       "      <th>3</th>\n",
       "      <td>1947</td>\n",
       "      <td>1</td>\n",
       "    </tr>\n",
       "    <tr>\n",
       "      <th>4</th>\n",
       "      <td>1948</td>\n",
       "      <td>8</td>\n",
       "    </tr>\n",
       "    <tr>\n",
       "      <th>...</th>\n",
       "      <td>...</td>\n",
       "      <td>...</td>\n",
       "    </tr>\n",
       "    <tr>\n",
       "      <th>72</th>\n",
       "      <td>2016</td>\n",
       "      <td>45</td>\n",
       "    </tr>\n",
       "    <tr>\n",
       "      <th>73</th>\n",
       "      <td>2017</td>\n",
       "      <td>23</td>\n",
       "    </tr>\n",
       "    <tr>\n",
       "      <th>74</th>\n",
       "      <td>2018</td>\n",
       "      <td>18</td>\n",
       "    </tr>\n",
       "    <tr>\n",
       "      <th>75</th>\n",
       "      <td>2019</td>\n",
       "      <td>30</td>\n",
       "    </tr>\n",
       "    <tr>\n",
       "      <th>76</th>\n",
       "      <td>2020</td>\n",
       "      <td>15</td>\n",
       "    </tr>\n",
       "  </tbody>\n",
       "</table>\n",
       "<p>77 rows × 2 columns</p>\n",
       "</div>"
      ],
      "text/plain": [
       "    CareerStartYear_1  LeaderID\n",
       "0                1937         1\n",
       "1                1945         5\n",
       "2                1946         6\n",
       "3                1947         1\n",
       "4                1948         8\n",
       "..                ...       ...\n",
       "72               2016        45\n",
       "73               2017        23\n",
       "74               2018        18\n",
       "75               2019        30\n",
       "76               2020        15\n",
       "\n",
       "[77 rows x 2 columns]"
      ]
     },
     "execution_count": 49,
     "metadata": {},
     "output_type": "execute_result"
    }
   ],
   "source": [
    "yeardist"
   ]
  },
  {
   "cell_type": "code",
   "execution_count": 50,
   "id": "91fa2a86",
   "metadata": {},
   "outputs": [],
   "source": [
    "x = pd.DataFrame({\"year\":pd.Series(range(1945,2021))})"
   ]
  },
  {
   "cell_type": "code",
   "execution_count": 51,
   "id": "4d8a1616",
   "metadata": {},
   "outputs": [
    {
     "name": "stdout",
     "output_type": "stream",
     "text": [
      "\n",
      "Merge Results...\n",
      "\n",
      "\tshape     : (76, 4)\n",
      "\tleft_only : (0, 4)\n",
      "\tboth      : (76, 4)\n",
      "\tright_only: (0, 4)\n"
     ]
    }
   ],
   "source": [
    "ts = x.merge(yeardist,left_on=\"year\",right_on=\"CareerStartYear_1\",how=\"left\",indicator=True)\n",
    "merge_results(ts)"
   ]
  },
  {
   "cell_type": "code",
   "execution_count": 52,
   "id": "74dd1db5",
   "metadata": {},
   "outputs": [],
   "source": [
    "select_columns = [\"year\",\"LeaderID\"]\n",
    "ts = ts[select_columns]"
   ]
  },
  {
   "cell_type": "code",
   "execution_count": 53,
   "id": "1b5ffd48",
   "metadata": {},
   "outputs": [],
   "source": [
    "filename_stem = \"transition_ts.xlsx\"\n",
    "ts.to_excel(path_analysis + current_subpath + filename_stem,index=False)"
   ]
  },
  {
   "cell_type": "markdown",
   "id": "8b626e3d",
   "metadata": {},
   "source": [
    "#### Time Series of within-institution transitions, by institution"
   ]
  },
  {
   "cell_type": "code",
   "execution_count": 54,
   "id": "da949485",
   "metadata": {},
   "outputs": [
    {
     "data": {
      "text/plain": [
       "2867    2019\n",
       "589     2010\n",
       "585     1993\n",
       "2533    2009\n",
       "2534    2010\n",
       "        ... \n",
       "1242    2006\n",
       "700     1965\n",
       "701     1965\n",
       "2373    2002\n",
       "1630    1983\n",
       "Name: CareerStartYear_1, Length: 1562, dtype: int32"
      ]
     },
     "execution_count": 54,
     "metadata": {},
     "output_type": "execute_result"
    }
   ],
   "source": [
    "trans_h1[\"CareerStartYear_1\"]"
   ]
  },
  {
   "cell_type": "code",
   "execution_count": 55,
   "id": "425d84e9",
   "metadata": {},
   "outputs": [],
   "source": [
    "yeardist_h1 = trans_h1[[\"LeaderID\",\"CareerStartYear_1\",\"InstitutionType\"]].groupby([\"CareerStartYear_1\",\"InstitutionType\"],as_index=False).count().sort_values(\"CareerStartYear_1\")"
   ]
  },
  {
   "cell_type": "code",
   "execution_count": 56,
   "id": "c3690b2a",
   "metadata": {},
   "outputs": [
    {
     "data": {
      "text/html": [
       "<div>\n",
       "<style scoped>\n",
       "    .dataframe tbody tr th:only-of-type {\n",
       "        vertical-align: middle;\n",
       "    }\n",
       "\n",
       "    .dataframe tbody tr th {\n",
       "        vertical-align: top;\n",
       "    }\n",
       "\n",
       "    .dataframe thead th {\n",
       "        text-align: right;\n",
       "    }\n",
       "</style>\n",
       "<table border=\"1\" class=\"dataframe\">\n",
       "  <thead>\n",
       "    <tr style=\"text-align: right;\">\n",
       "      <th></th>\n",
       "      <th>year</th>\n",
       "      <th>InstitutionType</th>\n",
       "      <th>LeaderID</th>\n",
       "    </tr>\n",
       "  </thead>\n",
       "  <tbody>\n",
       "    <tr>\n",
       "      <th>0</th>\n",
       "      <td>1937</td>\n",
       "      <td>Party</td>\n",
       "      <td>0</td>\n",
       "    </tr>\n",
       "    <tr>\n",
       "      <th>1</th>\n",
       "      <td>1937</td>\n",
       "      <td>Military</td>\n",
       "      <td>0</td>\n",
       "    </tr>\n",
       "    <tr>\n",
       "      <th>2</th>\n",
       "      <td>1937</td>\n",
       "      <td>Government</td>\n",
       "      <td>0</td>\n",
       "    </tr>\n",
       "    <tr>\n",
       "      <th>3</th>\n",
       "      <td>1937</td>\n",
       "      <td>Non-Governmental Organization</td>\n",
       "      <td>1</td>\n",
       "    </tr>\n",
       "    <tr>\n",
       "      <th>4</th>\n",
       "      <td>1945</td>\n",
       "      <td>Party</td>\n",
       "      <td>2</td>\n",
       "    </tr>\n",
       "    <tr>\n",
       "      <th>...</th>\n",
       "      <td>...</td>\n",
       "      <td>...</td>\n",
       "      <td>...</td>\n",
       "    </tr>\n",
       "    <tr>\n",
       "      <th>295</th>\n",
       "      <td>2019</td>\n",
       "      <td>Non-Governmental Organization</td>\n",
       "      <td>1</td>\n",
       "    </tr>\n",
       "    <tr>\n",
       "      <th>297</th>\n",
       "      <td>2020</td>\n",
       "      <td>Military</td>\n",
       "      <td>0</td>\n",
       "    </tr>\n",
       "    <tr>\n",
       "      <th>298</th>\n",
       "      <td>2020</td>\n",
       "      <td>Government</td>\n",
       "      <td>2</td>\n",
       "    </tr>\n",
       "    <tr>\n",
       "      <th>296</th>\n",
       "      <td>2020</td>\n",
       "      <td>Party</td>\n",
       "      <td>13</td>\n",
       "    </tr>\n",
       "    <tr>\n",
       "      <th>299</th>\n",
       "      <td>2020</td>\n",
       "      <td>Non-Governmental Organization</td>\n",
       "      <td>0</td>\n",
       "    </tr>\n",
       "  </tbody>\n",
       "</table>\n",
       "<p>300 rows × 3 columns</p>\n",
       "</div>"
      ],
      "text/plain": [
       "     year                InstitutionType  LeaderID\n",
       "0    1937                          Party         0\n",
       "1    1937                       Military         0\n",
       "2    1937                     Government         0\n",
       "3    1937  Non-Governmental Organization         1\n",
       "4    1945                          Party         2\n",
       "..    ...                            ...       ...\n",
       "295  2019  Non-Governmental Organization         1\n",
       "297  2020                       Military         0\n",
       "298  2020                     Government         2\n",
       "296  2020                          Party        13\n",
       "299  2020  Non-Governmental Organization         0\n",
       "\n",
       "[300 rows x 3 columns]"
      ]
     },
     "execution_count": 56,
     "metadata": {},
     "output_type": "execute_result"
    }
   ],
   "source": [
    "yeardist_h1.columns = [\"year\",\"InstitutionType\",\"LeaderID\"]\n",
    "yeardist_h1"
   ]
  },
  {
   "cell_type": "code",
   "execution_count": 57,
   "id": "2f8b934b",
   "metadata": {},
   "outputs": [],
   "source": [
    "x = pd.DataFrame({\"year\":pd.Series(range(1945,2021))})\n",
    "inst = pd.DataFrame({\"InstitutionType\":pd.Series([\"Party\",\"Military\",\"Government\",\"Non-Governmental Organization\"])})\n",
    "frame = x.merge(inst,how=\"cross\")"
   ]
  },
  {
   "cell_type": "code",
   "execution_count": 58,
   "id": "0fb75e6f",
   "metadata": {},
   "outputs": [],
   "source": [
    "ts_key_columns = [\"year\",\"InstitutionType\"]\n",
    "ts = frame.merge(yeardist_h1,on=ts_key_columns,how=\"left\",indicator=False)\n",
    "# merge_results(ts)"
   ]
  },
  {
   "cell_type": "code",
   "execution_count": 59,
   "id": "b4c88d6f",
   "metadata": {},
   "outputs": [
    {
     "data": {
      "text/plain": [
       "array([ 2.,  0.,  1., nan,  6.,  5.,  3.,  4.,  7.,  8.,  9., 19., 12.,\n",
       "       16., 10., 15., 11., 32., 25., 22., 21., 14., 13., 18., 33., 51.,\n",
       "       26., 27., 23., 31., 17.])"
      ]
     },
     "execution_count": 59,
     "metadata": {},
     "output_type": "execute_result"
    }
   ],
   "source": [
    "ts.LeaderID.unique()"
   ]
  },
  {
   "cell_type": "code",
   "execution_count": 60,
   "id": "31b12146",
   "metadata": {},
   "outputs": [],
   "source": [
    "# pad empty counts with 0\n",
    "ts.loc[ts.LeaderID.isna(),\"LeaderID\"]=0"
   ]
  },
  {
   "cell_type": "code",
   "execution_count": 61,
   "id": "4bd31fda",
   "metadata": {},
   "outputs": [
    {
     "data": {
      "text/html": [
       "<div>\n",
       "<style scoped>\n",
       "    .dataframe tbody tr th:only-of-type {\n",
       "        vertical-align: middle;\n",
       "    }\n",
       "\n",
       "    .dataframe tbody tr th {\n",
       "        vertical-align: top;\n",
       "    }\n",
       "\n",
       "    .dataframe thead th {\n",
       "        text-align: right;\n",
       "    }\n",
       "</style>\n",
       "<table border=\"1\" class=\"dataframe\">\n",
       "  <thead>\n",
       "    <tr style=\"text-align: right;\">\n",
       "      <th>InstitutionType</th>\n",
       "      <th>Government</th>\n",
       "      <th>Military</th>\n",
       "      <th>Non-Governmental Organization</th>\n",
       "      <th>Party</th>\n",
       "    </tr>\n",
       "    <tr>\n",
       "      <th>year</th>\n",
       "      <th></th>\n",
       "      <th></th>\n",
       "      <th></th>\n",
       "      <th></th>\n",
       "    </tr>\n",
       "  </thead>\n",
       "  <tbody>\n",
       "    <tr>\n",
       "      <th>1945</th>\n",
       "      <td>0.0</td>\n",
       "      <td>0.0</td>\n",
       "      <td>0.0</td>\n",
       "      <td>2.0</td>\n",
       "    </tr>\n",
       "    <tr>\n",
       "      <th>1946</th>\n",
       "      <td>0.0</td>\n",
       "      <td>0.0</td>\n",
       "      <td>1.0</td>\n",
       "      <td>1.0</td>\n",
       "    </tr>\n",
       "    <tr>\n",
       "      <th>1947</th>\n",
       "      <td>0.0</td>\n",
       "      <td>0.0</td>\n",
       "      <td>0.0</td>\n",
       "      <td>0.0</td>\n",
       "    </tr>\n",
       "    <tr>\n",
       "      <th>1948</th>\n",
       "      <td>0.0</td>\n",
       "      <td>6.0</td>\n",
       "      <td>0.0</td>\n",
       "      <td>2.0</td>\n",
       "    </tr>\n",
       "    <tr>\n",
       "      <th>1949</th>\n",
       "      <td>1.0</td>\n",
       "      <td>0.0</td>\n",
       "      <td>0.0</td>\n",
       "      <td>0.0</td>\n",
       "    </tr>\n",
       "    <tr>\n",
       "      <th>...</th>\n",
       "      <td>...</td>\n",
       "      <td>...</td>\n",
       "      <td>...</td>\n",
       "      <td>...</td>\n",
       "    </tr>\n",
       "    <tr>\n",
       "      <th>2016</th>\n",
       "      <td>12.0</td>\n",
       "      <td>7.0</td>\n",
       "      <td>2.0</td>\n",
       "      <td>17.0</td>\n",
       "    </tr>\n",
       "    <tr>\n",
       "      <th>2017</th>\n",
       "      <td>8.0</td>\n",
       "      <td>2.0</td>\n",
       "      <td>1.0</td>\n",
       "      <td>5.0</td>\n",
       "    </tr>\n",
       "    <tr>\n",
       "      <th>2018</th>\n",
       "      <td>3.0</td>\n",
       "      <td>3.0</td>\n",
       "      <td>0.0</td>\n",
       "      <td>5.0</td>\n",
       "    </tr>\n",
       "    <tr>\n",
       "      <th>2019</th>\n",
       "      <td>4.0</td>\n",
       "      <td>0.0</td>\n",
       "      <td>1.0</td>\n",
       "      <td>16.0</td>\n",
       "    </tr>\n",
       "    <tr>\n",
       "      <th>2020</th>\n",
       "      <td>2.0</td>\n",
       "      <td>0.0</td>\n",
       "      <td>0.0</td>\n",
       "      <td>13.0</td>\n",
       "    </tr>\n",
       "  </tbody>\n",
       "</table>\n",
       "<p>76 rows × 4 columns</p>\n",
       "</div>"
      ],
      "text/plain": [
       "InstitutionType  Government  Military  Non-Governmental Organization  Party\n",
       "year                                                                       \n",
       "1945                    0.0       0.0                            0.0    2.0\n",
       "1946                    0.0       0.0                            1.0    1.0\n",
       "1947                    0.0       0.0                            0.0    0.0\n",
       "1948                    0.0       6.0                            0.0    2.0\n",
       "1949                    1.0       0.0                            0.0    0.0\n",
       "...                     ...       ...                            ...    ...\n",
       "2016                   12.0       7.0                            2.0   17.0\n",
       "2017                    8.0       2.0                            1.0    5.0\n",
       "2018                    3.0       3.0                            0.0    5.0\n",
       "2019                    4.0       0.0                            1.0   16.0\n",
       "2020                    2.0       0.0                            0.0   13.0\n",
       "\n",
       "[76 rows x 4 columns]"
      ]
     },
     "execution_count": 61,
     "metadata": {},
     "output_type": "execute_result"
    }
   ],
   "source": [
    "ts_pivot = ts.pivot(index=\"year\",columns=\"InstitutionType\",values=\"LeaderID\")\n",
    "# ts_pivot.droplevel('year', axis=1)\n",
    "# ts_pivot.columns = [\"year\",\"Government\",\"Military\",\"Non-Governmental Organization\",\"Party\"]\n",
    "ts_pivot"
   ]
  },
  {
   "cell_type": "code",
   "execution_count": 62,
   "id": "d5709352",
   "metadata": {},
   "outputs": [
    {
     "data": {
      "text/html": [
       "<div>\n",
       "<style scoped>\n",
       "    .dataframe tbody tr th:only-of-type {\n",
       "        vertical-align: middle;\n",
       "    }\n",
       "\n",
       "    .dataframe tbody tr th {\n",
       "        vertical-align: top;\n",
       "    }\n",
       "\n",
       "    .dataframe thead th {\n",
       "        text-align: right;\n",
       "    }\n",
       "</style>\n",
       "<table border=\"1\" class=\"dataframe\">\n",
       "  <thead>\n",
       "    <tr style=\"text-align: right;\">\n",
       "      <th>InstitutionType</th>\n",
       "      <th>year</th>\n",
       "      <th>Party</th>\n",
       "      <th>Military</th>\n",
       "      <th>Government</th>\n",
       "      <th>Non-Governmental Organization</th>\n",
       "    </tr>\n",
       "  </thead>\n",
       "  <tbody>\n",
       "    <tr>\n",
       "      <th>0</th>\n",
       "      <td>1945</td>\n",
       "      <td>2.0</td>\n",
       "      <td>0.0</td>\n",
       "      <td>0.0</td>\n",
       "      <td>0.0</td>\n",
       "    </tr>\n",
       "    <tr>\n",
       "      <th>1</th>\n",
       "      <td>1946</td>\n",
       "      <td>1.0</td>\n",
       "      <td>0.0</td>\n",
       "      <td>0.0</td>\n",
       "      <td>1.0</td>\n",
       "    </tr>\n",
       "    <tr>\n",
       "      <th>2</th>\n",
       "      <td>1947</td>\n",
       "      <td>0.0</td>\n",
       "      <td>0.0</td>\n",
       "      <td>0.0</td>\n",
       "      <td>0.0</td>\n",
       "    </tr>\n",
       "    <tr>\n",
       "      <th>3</th>\n",
       "      <td>1948</td>\n",
       "      <td>2.0</td>\n",
       "      <td>6.0</td>\n",
       "      <td>0.0</td>\n",
       "      <td>0.0</td>\n",
       "    </tr>\n",
       "    <tr>\n",
       "      <th>4</th>\n",
       "      <td>1949</td>\n",
       "      <td>0.0</td>\n",
       "      <td>0.0</td>\n",
       "      <td>1.0</td>\n",
       "      <td>0.0</td>\n",
       "    </tr>\n",
       "    <tr>\n",
       "      <th>...</th>\n",
       "      <td>...</td>\n",
       "      <td>...</td>\n",
       "      <td>...</td>\n",
       "      <td>...</td>\n",
       "      <td>...</td>\n",
       "    </tr>\n",
       "    <tr>\n",
       "      <th>71</th>\n",
       "      <td>2016</td>\n",
       "      <td>17.0</td>\n",
       "      <td>7.0</td>\n",
       "      <td>12.0</td>\n",
       "      <td>2.0</td>\n",
       "    </tr>\n",
       "    <tr>\n",
       "      <th>72</th>\n",
       "      <td>2017</td>\n",
       "      <td>5.0</td>\n",
       "      <td>2.0</td>\n",
       "      <td>8.0</td>\n",
       "      <td>1.0</td>\n",
       "    </tr>\n",
       "    <tr>\n",
       "      <th>73</th>\n",
       "      <td>2018</td>\n",
       "      <td>5.0</td>\n",
       "      <td>3.0</td>\n",
       "      <td>3.0</td>\n",
       "      <td>0.0</td>\n",
       "    </tr>\n",
       "    <tr>\n",
       "      <th>74</th>\n",
       "      <td>2019</td>\n",
       "      <td>16.0</td>\n",
       "      <td>0.0</td>\n",
       "      <td>4.0</td>\n",
       "      <td>1.0</td>\n",
       "    </tr>\n",
       "    <tr>\n",
       "      <th>75</th>\n",
       "      <td>2020</td>\n",
       "      <td>13.0</td>\n",
       "      <td>0.0</td>\n",
       "      <td>2.0</td>\n",
       "      <td>0.0</td>\n",
       "    </tr>\n",
       "  </tbody>\n",
       "</table>\n",
       "<p>76 rows × 5 columns</p>\n",
       "</div>"
      ],
      "text/plain": [
       "InstitutionType  year  Party  Military  Government  \\\n",
       "0                1945    2.0       0.0         0.0   \n",
       "1                1946    1.0       0.0         0.0   \n",
       "2                1947    0.0       0.0         0.0   \n",
       "3                1948    2.0       6.0         0.0   \n",
       "4                1949    0.0       0.0         1.0   \n",
       "..                ...    ...       ...         ...   \n",
       "71               2016   17.0       7.0        12.0   \n",
       "72               2017    5.0       2.0         8.0   \n",
       "73               2018    5.0       3.0         3.0   \n",
       "74               2019   16.0       0.0         4.0   \n",
       "75               2020   13.0       0.0         2.0   \n",
       "\n",
       "InstitutionType  Non-Governmental Organization  \n",
       "0                                          0.0  \n",
       "1                                          1.0  \n",
       "2                                          0.0  \n",
       "3                                          0.0  \n",
       "4                                          0.0  \n",
       "..                                         ...  \n",
       "71                                         2.0  \n",
       "72                                         1.0  \n",
       "73                                         0.0  \n",
       "74                                         1.0  \n",
       "75                                         0.0  \n",
       "\n",
       "[76 rows x 5 columns]"
      ]
     },
     "execution_count": 62,
     "metadata": {},
     "output_type": "execute_result"
    }
   ],
   "source": [
    "ts_pivot = ts_pivot[[\"Party\",\"Military\",\"Government\",\"Non-Governmental Organization\"]]\n",
    "ts_pivot = ts_pivot.reset_index()\n",
    "ts_pivot"
   ]
  },
  {
   "cell_type": "code",
   "execution_count": 63,
   "id": "7b059bcb",
   "metadata": {},
   "outputs": [],
   "source": [
    "filename_stem = \"transitions_ts_byinstitution.xlsx\"\n",
    "ts_pivot.to_excel(path_analysis + current_subpath + filename_stem,index=False)"
   ]
  },
  {
   "cell_type": "code",
   "execution_count": null,
   "id": "43f8752a",
   "metadata": {},
   "outputs": [],
   "source": []
  }
 ],
 "metadata": {
  "kernelspec": {
   "display_name": "Python 3 (ipykernel)",
   "language": "python",
   "name": "python3"
  },
  "language_info": {
   "codemirror_mode": {
    "name": "ipython",
    "version": 3
   },
   "file_extension": ".py",
   "mimetype": "text/x-python",
   "name": "python",
   "nbconvert_exporter": "python",
   "pygments_lexer": "ipython3",
   "version": "3.11.0"
  }
 },
 "nbformat": 4,
 "nbformat_minor": 5
}
