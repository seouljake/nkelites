{
 "cells": [
  {
   "cell_type": "markdown",
   "metadata": {},
   "source": [
    "# libraries & global vars"
   ]
  },
  {
   "cell_type": "code",
   "execution_count": 1,
   "metadata": {},
   "outputs": [],
   "source": [
    "import pandas as pd\n",
    "import numpy as np\n",
    "pd.set_option('display.max_rows', None)"
   ]
  },
  {
   "cell_type": "markdown",
   "metadata": {},
   "source": [
    "# io orgtree & org paths"
   ]
  },
  {
   "cell_type": "code",
   "execution_count": 2,
   "metadata": {},
   "outputs": [],
   "source": [
    "path_orgtree = \"C:/Users/seoul/Dropbox/00 technical/github/nkelites/data/combined data/combined data - 1 cleaning/cleaning step 2 - career/2.4 orgtree/\""
   ]
  },
  {
   "cell_type": "code",
   "execution_count": 3,
   "metadata": {},
   "outputs": [],
   "source": [
    "filein_orgtree = \"orgtree_3.xlsx\""
   ]
  },
  {
   "cell_type": "code",
   "execution_count": 505,
   "metadata": {},
   "outputs": [],
   "source": [
    "fileout_orgtree = \"orgtree_4_1_jeongsu.xlsx\""
   ]
  },
  {
   "cell_type": "code",
   "execution_count": 5,
   "metadata": {},
   "outputs": [],
   "source": [
    "path_joborglink = \"C:/Users/seoul/Dropbox/00 technical/github/nkelites/data/combined data/combined data - 1 cleaning/cleaning step 2 - career/2.3 joborglink/\""
   ]
  },
  {
   "cell_type": "code",
   "execution_count": 6,
   "metadata": {},
   "outputs": [],
   "source": [
    "# right: update existing keys in orgtree\n",
    "filein_joborglink_right = \"joborglink_6_1_inorgtree_right_tocode_1_jeongsu.xlsx\""
   ]
  },
  {
   "cell_type": "code",
   "execution_count": 7,
   "metadata": {},
   "outputs": [],
   "source": [
    "# left1: add to orgtree\n",
    "filein_joborglink_left1 = \"joborglink_6_1_left_2_add_to_orgtree.xlsx\""
   ]
  },
  {
   "cell_type": "code",
   "execution_count": 8,
   "metadata": {},
   "outputs": [],
   "source": [
    "# left2: update jol & orgtree\n",
    "filein_joborglink_left2 = \"joborglink_6_1_left_2_tocode_jeongsu_x.xlsx\""
   ]
  },
  {
   "cell_type": "code",
   "execution_count": 9,
   "metadata": {},
   "outputs": [],
   "source": [
    "# both: update jol & orgtree\n",
    "filein_joborglink_both = \"joborglink_6_1_inorgtree_both_tocode_1_jeongsu_x.xlsx\""
   ]
  },
  {
   "cell_type": "code",
   "execution_count": 10,
   "metadata": {},
   "outputs": [],
   "source": [
    "fileout_joborglink = \"joborglink_6_2.xlsx\""
   ]
  },
  {
   "cell_type": "markdown",
   "metadata": {},
   "source": [
    "# import orgtree"
   ]
  },
  {
   "cell_type": "code",
   "execution_count": 11,
   "metadata": {},
   "outputs": [],
   "source": [
    "orgtree = pd.read_excel(path_orgtree+filein_orgtree)"
   ]
  },
  {
   "cell_type": "code",
   "execution_count": 12,
   "metadata": {},
   "outputs": [
    {
     "data": {
      "text/plain": [
       "(1162, 8)"
      ]
     },
     "execution_count": 12,
     "metadata": {},
     "output_type": "execute_result"
    }
   ],
   "source": [
    "orgtree.shape"
   ]
  },
  {
   "cell_type": "code",
   "execution_count": 13,
   "metadata": {},
   "outputs": [
    {
     "data": {
      "text/html": [
       "<div>\n",
       "<style scoped>\n",
       "    .dataframe tbody tr th:only-of-type {\n",
       "        vertical-align: middle;\n",
       "    }\n",
       "\n",
       "    .dataframe tbody tr th {\n",
       "        vertical-align: top;\n",
       "    }\n",
       "\n",
       "    .dataframe thead th {\n",
       "        text-align: right;\n",
       "    }\n",
       "</style>\n",
       "<table border=\"1\" class=\"dataframe\">\n",
       "  <thead>\n",
       "    <tr style=\"text-align: right;\">\n",
       "      <th></th>\n",
       "      <th>InsideGov</th>\n",
       "      <th>PrimaryInstitution</th>\n",
       "      <th>OrgName</th>\n",
       "      <th>ImmediateSuperiorOrg</th>\n",
       "      <th>SupervisesParent</th>\n",
       "      <th>LinkToCurrent_PrimaryInstitution</th>\n",
       "      <th>LinkToCurrent_OrgName</th>\n",
       "      <th>비고</th>\n",
       "    </tr>\n",
       "  </thead>\n",
       "  <tbody>\n",
       "    <tr>\n",
       "      <th>0</th>\n",
       "      <td>False</td>\n",
       "      <td>6.15공동선언실천남북공동위원회북측위원회</td>\n",
       "      <td>교직원분과</td>\n",
       "      <td>NaN</td>\n",
       "      <td>NaN</td>\n",
       "      <td>Current</td>\n",
       "      <td>Current</td>\n",
       "      <td>NaN</td>\n",
       "    </tr>\n",
       "    <tr>\n",
       "      <th>1</th>\n",
       "      <td>False</td>\n",
       "      <td>6.15공동선언실천남북공동위원회북측위원회</td>\n",
       "      <td>노동자분과</td>\n",
       "      <td>NaN</td>\n",
       "      <td>NaN</td>\n",
       "      <td>Current</td>\n",
       "      <td>Current</td>\n",
       "      <td>NaN</td>\n",
       "    </tr>\n",
       "    <tr>\n",
       "      <th>2</th>\n",
       "      <td>False</td>\n",
       "      <td>6.15공동선언실천남북공동위원회북측위원회</td>\n",
       "      <td>농업근로자분과</td>\n",
       "      <td>NaN</td>\n",
       "      <td>NaN</td>\n",
       "      <td>Current</td>\n",
       "      <td>Current</td>\n",
       "      <td>NaN</td>\n",
       "    </tr>\n",
       "    <tr>\n",
       "      <th>3</th>\n",
       "      <td>False</td>\n",
       "      <td>6.15공동선언실천남북공동위원회북측위원회</td>\n",
       "      <td>문학예술분과</td>\n",
       "      <td>NaN</td>\n",
       "      <td>NaN</td>\n",
       "      <td>Current</td>\n",
       "      <td>Current</td>\n",
       "      <td>NaN</td>\n",
       "    </tr>\n",
       "    <tr>\n",
       "      <th>4</th>\n",
       "      <td>False</td>\n",
       "      <td>6.15공동선언실천남북공동위원회북측위원회</td>\n",
       "      <td>보건분과</td>\n",
       "      <td>NaN</td>\n",
       "      <td>NaN</td>\n",
       "      <td>Current</td>\n",
       "      <td>Current</td>\n",
       "      <td>NaN</td>\n",
       "    </tr>\n",
       "    <tr>\n",
       "      <th>5</th>\n",
       "      <td>False</td>\n",
       "      <td>6.15공동선언실천남북공동위원회북측위원회</td>\n",
       "      <td>사무국</td>\n",
       "      <td>NaN</td>\n",
       "      <td>NaN</td>\n",
       "      <td>Current</td>\n",
       "      <td>Current</td>\n",
       "      <td>NaN</td>\n",
       "    </tr>\n",
       "    <tr>\n",
       "      <th>6</th>\n",
       "      <td>False</td>\n",
       "      <td>6.15공동선언실천남북공동위원회북측위원회</td>\n",
       "      <td>언론분과</td>\n",
       "      <td>NaN</td>\n",
       "      <td>NaN</td>\n",
       "      <td>Current</td>\n",
       "      <td>Current</td>\n",
       "      <td>NaN</td>\n",
       "    </tr>\n",
       "    <tr>\n",
       "      <th>7</th>\n",
       "      <td>False</td>\n",
       "      <td>6.15공동선언실천남북공동위원회북측위원회</td>\n",
       "      <td>여성분과</td>\n",
       "      <td>NaN</td>\n",
       "      <td>NaN</td>\n",
       "      <td>Current</td>\n",
       "      <td>Current</td>\n",
       "      <td>NaN</td>\n",
       "    </tr>\n",
       "    <tr>\n",
       "      <th>8</th>\n",
       "      <td>False</td>\n",
       "      <td>6.15공동선언실천남북공동위원회북측위원회</td>\n",
       "      <td>종교분과</td>\n",
       "      <td>NaN</td>\n",
       "      <td>NaN</td>\n",
       "      <td>Current</td>\n",
       "      <td>Current</td>\n",
       "      <td>NaN</td>\n",
       "    </tr>\n",
       "    <tr>\n",
       "      <th>9</th>\n",
       "      <td>False</td>\n",
       "      <td>6.15공동선언실천남북공동위원회북측위원회</td>\n",
       "      <td>청년학생분과</td>\n",
       "      <td>NaN</td>\n",
       "      <td>NaN</td>\n",
       "      <td>Current</td>\n",
       "      <td>Current</td>\n",
       "      <td>NaN</td>\n",
       "    </tr>\n",
       "  </tbody>\n",
       "</table>\n",
       "</div>"
      ],
      "text/plain": [
       "   InsideGov      PrimaryInstitution  OrgName ImmediateSuperiorOrg  \\\n",
       "0      False  6.15공동선언실천남북공동위원회북측위원회    교직원분과                  NaN   \n",
       "1      False  6.15공동선언실천남북공동위원회북측위원회    노동자분과                  NaN   \n",
       "2      False  6.15공동선언실천남북공동위원회북측위원회  농업근로자분과                  NaN   \n",
       "3      False  6.15공동선언실천남북공동위원회북측위원회   문학예술분과                  NaN   \n",
       "4      False  6.15공동선언실천남북공동위원회북측위원회     보건분과                  NaN   \n",
       "5      False  6.15공동선언실천남북공동위원회북측위원회      사무국                  NaN   \n",
       "6      False  6.15공동선언실천남북공동위원회북측위원회     언론분과                  NaN   \n",
       "7      False  6.15공동선언실천남북공동위원회북측위원회     여성분과                  NaN   \n",
       "8      False  6.15공동선언실천남북공동위원회북측위원회     종교분과                  NaN   \n",
       "9      False  6.15공동선언실천남북공동위원회북측위원회   청년학생분과                  NaN   \n",
       "\n",
       "   SupervisesParent LinkToCurrent_PrimaryInstitution LinkToCurrent_OrgName  \\\n",
       "0               NaN                          Current               Current   \n",
       "1               NaN                          Current               Current   \n",
       "2               NaN                          Current               Current   \n",
       "3               NaN                          Current               Current   \n",
       "4               NaN                          Current               Current   \n",
       "5               NaN                          Current               Current   \n",
       "6               NaN                          Current               Current   \n",
       "7               NaN                          Current               Current   \n",
       "8               NaN                          Current               Current   \n",
       "9               NaN                          Current               Current   \n",
       "\n",
       "    비고  \n",
       "0  NaN  \n",
       "1  NaN  \n",
       "2  NaN  \n",
       "3  NaN  \n",
       "4  NaN  \n",
       "5  NaN  \n",
       "6  NaN  \n",
       "7  NaN  \n",
       "8  NaN  \n",
       "9  NaN  "
      ]
     },
     "execution_count": 13,
     "metadata": {},
     "output_type": "execute_result"
    }
   ],
   "source": [
    "orgtree[0:10]"
   ]
  },
  {
   "cell_type": "code",
   "execution_count": 14,
   "metadata": {},
   "outputs": [
    {
     "data": {
      "text/plain": [
       "['InsideGov',\n",
       " 'PrimaryInstitution',\n",
       " 'OrgName',\n",
       " 'ImmediateSuperiorOrg',\n",
       " 'SupervisesParent',\n",
       " 'LinkToCurrent_PrimaryInstitution',\n",
       " 'LinkToCurrent_OrgName',\n",
       " '비고']"
      ]
     },
     "execution_count": 14,
     "metadata": {},
     "output_type": "execute_result"
    }
   ],
   "source": [
    "# use orgtree_columns to select orgtree columns from merged files below\n",
    "orgtree_columns = list(orgtree.columns)\n",
    "orgtree_columns"
   ]
  },
  {
   "cell_type": "code",
   "execution_count": 15,
   "metadata": {},
   "outputs": [
    {
     "data": {
      "text/plain": [
       "(1162, 8)"
      ]
     },
     "execution_count": 15,
     "metadata": {},
     "output_type": "execute_result"
    }
   ],
   "source": [
    "orgtree.shape"
   ]
  },
  {
   "cell_type": "code",
   "execution_count": 16,
   "metadata": {},
   "outputs": [
    {
     "data": {
      "text/plain": [
       "(1162, 8)"
      ]
     },
     "execution_count": 16,
     "metadata": {},
     "output_type": "execute_result"
    }
   ],
   "source": [
    "orgtree.dropna()\n",
    "orgtree.shape"
   ]
  },
  {
   "cell_type": "code",
   "execution_count": 17,
   "metadata": {},
   "outputs": [
    {
     "data": {
      "text/html": [
       "<div>\n",
       "<style scoped>\n",
       "    .dataframe tbody tr th:only-of-type {\n",
       "        vertical-align: middle;\n",
       "    }\n",
       "\n",
       "    .dataframe tbody tr th {\n",
       "        vertical-align: top;\n",
       "    }\n",
       "\n",
       "    .dataframe thead th {\n",
       "        text-align: right;\n",
       "    }\n",
       "</style>\n",
       "<table border=\"1\" class=\"dataframe\">\n",
       "  <thead>\n",
       "    <tr style=\"text-align: right;\">\n",
       "      <th></th>\n",
       "      <th>InsideGov</th>\n",
       "      <th>PrimaryInstitution</th>\n",
       "      <th>OrgName</th>\n",
       "      <th>ImmediateSuperiorOrg</th>\n",
       "      <th>SupervisesParent</th>\n",
       "      <th>LinkToCurrent_PrimaryInstitution</th>\n",
       "      <th>LinkToCurrent_OrgName</th>\n",
       "      <th>비고</th>\n",
       "    </tr>\n",
       "  </thead>\n",
       "  <tbody>\n",
       "  </tbody>\n",
       "</table>\n",
       "</div>"
      ],
      "text/plain": [
       "Empty DataFrame\n",
       "Columns: [InsideGov, PrimaryInstitution, OrgName, ImmediateSuperiorOrg, SupervisesParent, LinkToCurrent_PrimaryInstitution, LinkToCurrent_OrgName, 비고]\n",
       "Index: []"
      ]
     },
     "execution_count": 17,
     "metadata": {},
     "output_type": "execute_result"
    }
   ],
   "source": [
    "orgtree[orgtree.duplicated()]"
   ]
  },
  {
   "cell_type": "code",
   "execution_count": 18,
   "metadata": {},
   "outputs": [
    {
     "data": {
      "text/html": [
       "<div>\n",
       "<style scoped>\n",
       "    .dataframe tbody tr th:only-of-type {\n",
       "        vertical-align: middle;\n",
       "    }\n",
       "\n",
       "    .dataframe tbody tr th {\n",
       "        vertical-align: top;\n",
       "    }\n",
       "\n",
       "    .dataframe thead th {\n",
       "        text-align: right;\n",
       "    }\n",
       "</style>\n",
       "<table border=\"1\" class=\"dataframe\">\n",
       "  <thead>\n",
       "    <tr style=\"text-align: right;\">\n",
       "      <th></th>\n",
       "      <th>InsideGov</th>\n",
       "      <th>PrimaryInstitution</th>\n",
       "      <th>OrgName</th>\n",
       "      <th>ImmediateSuperiorOrg</th>\n",
       "      <th>SupervisesParent</th>\n",
       "      <th>LinkToCurrent_PrimaryInstitution</th>\n",
       "      <th>LinkToCurrent_OrgName</th>\n",
       "      <th>비고</th>\n",
       "    </tr>\n",
       "  </thead>\n",
       "  <tbody>\n",
       "  </tbody>\n",
       "</table>\n",
       "</div>"
      ],
      "text/plain": [
       "Empty DataFrame\n",
       "Columns: [InsideGov, PrimaryInstitution, OrgName, ImmediateSuperiorOrg, SupervisesParent, LinkToCurrent_PrimaryInstitution, LinkToCurrent_OrgName, 비고]\n",
       "Index: []"
      ]
     },
     "execution_count": 18,
     "metadata": {},
     "output_type": "execute_result"
    }
   ],
   "source": [
    "orgtree[orgtree.duplicated([\"PrimaryInstitution\",\"OrgName\"])]"
   ]
  },
  {
   "cell_type": "markdown",
   "metadata": {},
   "source": [
    "# right: prep joborglink_right"
   ]
  },
  {
   "cell_type": "code",
   "execution_count": 19,
   "metadata": {},
   "outputs": [
    {
     "data": {
      "text/plain": [
       "(843, 14)"
      ]
     },
     "execution_count": 19,
     "metadata": {},
     "output_type": "execute_result"
    }
   ],
   "source": [
    "# joborglink_dtypes = {\"OrgString\":\"str\",\"_merged\":\"str\",\"InOrgTree\":\"str\",\"InsideGov\":\"str\",\"PrimaryInstitution\":\"str\",\"OrgName\":\"str\",\"Orgtree_NeedToModify_PI\":\"str\",\"Orgtree_NeedToModify_Orgname\":\"str\",\"LinkToCurrent_PrimaryInstitution\":\"str\",\"LinkToCurrent_OrgName\":\"str\",\"Modify_LinkToCurrent_PrimaryInstitution\":\"str\",\"Modify_LinkToCurrent_OrgName\":\"str\",\"비고\":\"str\"}\n",
    "# joborglink = pd.read_excel(path_joborglink+filein_joborglink_right,dtype=joborglink_dtypes)\n",
    "joborglink_right = pd.read_excel(path_joborglink+filein_joborglink_right)\n",
    "joborglink_right.shape"
   ]
  },
  {
   "cell_type": "code",
   "execution_count": 20,
   "metadata": {},
   "outputs": [],
   "source": [
    "# list(joborglink_dtypes.keys())"
   ]
  },
  {
   "cell_type": "code",
   "execution_count": 21,
   "metadata": {},
   "outputs": [
    {
     "data": {
      "text/plain": [
       "Index(['OrgString', 'Notes', '_merged', 'InOrgTree', 'InsideGov',\n",
       "       'PrimaryInstitution', 'OrgName', 'Orgtree_NeedToModify_PI',\n",
       "       'Orgtree_NeedToModify_Orgname', 'LinkToCurrent_PrimaryInstitution',\n",
       "       'LinkToCurrent_OrgName', 'Modify_LinkToCurrent_PrimaryInstitution',\n",
       "       'Modify_LinkToCurrent_OrgName', '비고'],\n",
       "      dtype='object')"
      ]
     },
     "execution_count": 21,
     "metadata": {},
     "output_type": "execute_result"
    }
   ],
   "source": [
    "joborglink_right.columns"
   ]
  },
  {
   "cell_type": "code",
   "execution_count": 22,
   "metadata": {},
   "outputs": [
    {
     "data": {
      "text/plain": [
       "(843, 14)"
      ]
     },
     "execution_count": 22,
     "metadata": {},
     "output_type": "execute_result"
    }
   ],
   "source": [
    "joborglink_right.dropna()\n",
    "joborglink_right.shape"
   ]
  },
  {
   "cell_type": "code",
   "execution_count": 23,
   "metadata": {},
   "outputs": [
    {
     "data": {
      "text/html": [
       "<div>\n",
       "<style scoped>\n",
       "    .dataframe tbody tr th:only-of-type {\n",
       "        vertical-align: middle;\n",
       "    }\n",
       "\n",
       "    .dataframe tbody tr th {\n",
       "        vertical-align: top;\n",
       "    }\n",
       "\n",
       "    .dataframe thead th {\n",
       "        text-align: right;\n",
       "    }\n",
       "</style>\n",
       "<table border=\"1\" class=\"dataframe\">\n",
       "  <thead>\n",
       "    <tr style=\"text-align: right;\">\n",
       "      <th></th>\n",
       "      <th>OrgString</th>\n",
       "      <th>Notes</th>\n",
       "      <th>_merged</th>\n",
       "      <th>InOrgTree</th>\n",
       "      <th>InsideGov</th>\n",
       "      <th>PrimaryInstitution</th>\n",
       "      <th>OrgName</th>\n",
       "      <th>Orgtree_NeedToModify_PI</th>\n",
       "      <th>Orgtree_NeedToModify_Orgname</th>\n",
       "      <th>LinkToCurrent_PrimaryInstitution</th>\n",
       "      <th>LinkToCurrent_OrgName</th>\n",
       "      <th>Modify_LinkToCurrent_PrimaryInstitution</th>\n",
       "      <th>Modify_LinkToCurrent_OrgName</th>\n",
       "      <th>비고</th>\n",
       "    </tr>\n",
       "  </thead>\n",
       "  <tbody>\n",
       "  </tbody>\n",
       "</table>\n",
       "</div>"
      ],
      "text/plain": [
       "Empty DataFrame\n",
       "Columns: [OrgString, Notes, _merged, InOrgTree, InsideGov, PrimaryInstitution, OrgName, Orgtree_NeedToModify_PI, Orgtree_NeedToModify_Orgname, LinkToCurrent_PrimaryInstitution, LinkToCurrent_OrgName, Modify_LinkToCurrent_PrimaryInstitution, Modify_LinkToCurrent_OrgName, 비고]\n",
       "Index: []"
      ]
     },
     "execution_count": 23,
     "metadata": {},
     "output_type": "execute_result"
    }
   ],
   "source": [
    "joborglink_right[joborglink_right.duplicated()]"
   ]
  },
  {
   "cell_type": "code",
   "execution_count": 24,
   "metadata": {},
   "outputs": [
    {
     "data": {
      "text/plain": [
       "(843, 14)"
      ]
     },
     "execution_count": 24,
     "metadata": {},
     "output_type": "execute_result"
    }
   ],
   "source": [
    "joborglink_right = joborglink_right.drop_duplicates()\n",
    "joborglink_right.shape"
   ]
  },
  {
   "cell_type": "code",
   "execution_count": 25,
   "metadata": {},
   "outputs": [
    {
     "data": {
      "text/html": [
       "<div>\n",
       "<style scoped>\n",
       "    .dataframe tbody tr th:only-of-type {\n",
       "        vertical-align: middle;\n",
       "    }\n",
       "\n",
       "    .dataframe tbody tr th {\n",
       "        vertical-align: top;\n",
       "    }\n",
       "\n",
       "    .dataframe thead th {\n",
       "        text-align: right;\n",
       "    }\n",
       "</style>\n",
       "<table border=\"1\" class=\"dataframe\">\n",
       "  <thead>\n",
       "    <tr style=\"text-align: right;\">\n",
       "      <th></th>\n",
       "      <th>OrgString</th>\n",
       "      <th>Notes</th>\n",
       "      <th>_merged</th>\n",
       "      <th>InOrgTree</th>\n",
       "      <th>InsideGov</th>\n",
       "      <th>PrimaryInstitution</th>\n",
       "      <th>OrgName</th>\n",
       "      <th>Orgtree_NeedToModify_PI</th>\n",
       "      <th>Orgtree_NeedToModify_Orgname</th>\n",
       "      <th>LinkToCurrent_PrimaryInstitution</th>\n",
       "      <th>LinkToCurrent_OrgName</th>\n",
       "      <th>Modify_LinkToCurrent_PrimaryInstitution</th>\n",
       "      <th>Modify_LinkToCurrent_OrgName</th>\n",
       "      <th>비고</th>\n",
       "    </tr>\n",
       "  </thead>\n",
       "  <tbody>\n",
       "  </tbody>\n",
       "</table>\n",
       "</div>"
      ],
      "text/plain": [
       "Empty DataFrame\n",
       "Columns: [OrgString, Notes, _merged, InOrgTree, InsideGov, PrimaryInstitution, OrgName, Orgtree_NeedToModify_PI, Orgtree_NeedToModify_Orgname, LinkToCurrent_PrimaryInstitution, LinkToCurrent_OrgName, Modify_LinkToCurrent_PrimaryInstitution, Modify_LinkToCurrent_OrgName, 비고]\n",
       "Index: []"
      ]
     },
     "execution_count": 25,
     "metadata": {},
     "output_type": "execute_result"
    }
   ],
   "source": [
    "# check that the the joborglink primary key is unique: [\"OrgString\",\"PrimaryInstitution\",\"OrgName\"] \n",
    "joborglink_right[joborglink_right.duplicated([\"OrgString\",\"PrimaryInstitution\",\"OrgName\"])]"
   ]
  },
  {
   "cell_type": "code",
   "execution_count": 26,
   "metadata": {},
   "outputs": [
    {
     "data": {
      "text/plain": [
       "(843, 8)"
      ]
     },
     "execution_count": 26,
     "metadata": {},
     "output_type": "execute_result"
    }
   ],
   "source": [
    "columns_processing = [\"PrimaryInstitution\",\"OrgName\",\"Orgtree_NeedToModify_PI\",\"Orgtree_NeedToModify_Orgname\",\n",
    "                     \"LinkToCurrent_PrimaryInstitution\",\"LinkToCurrent_OrgName\",\n",
    "                     \"Modify_LinkToCurrent_PrimaryInstitution\",\"Modify_LinkToCurrent_OrgName\"]\n",
    "jol_right_process = joborglink_right[columns_processing]\n",
    "jol_right_process.shape"
   ]
  },
  {
   "cell_type": "code",
   "execution_count": 27,
   "metadata": {},
   "outputs": [
    {
     "data": {
      "text/plain": [
       "(422, 8)"
      ]
     },
     "execution_count": 27,
     "metadata": {},
     "output_type": "execute_result"
    }
   ],
   "source": [
    "# select rows in which at least one change is recommended\n",
    "jol_right_process = jol_right_process[\n",
    "    jol_right_process.Orgtree_NeedToModify_PI.notna() | \n",
    "    jol_right_process.Orgtree_NeedToModify_Orgname.notna() |\n",
    "    jol_right_process.Modify_LinkToCurrent_PrimaryInstitution.notna() | \n",
    "    jol_right_process.Modify_LinkToCurrent_OrgName.notna()\n",
    "]\n",
    "jol_right_process.shape"
   ]
  },
  {
   "cell_type": "code",
   "execution_count": 28,
   "metadata": {},
   "outputs": [
    {
     "data": {
      "text/html": [
       "<div>\n",
       "<style scoped>\n",
       "    .dataframe tbody tr th:only-of-type {\n",
       "        vertical-align: middle;\n",
       "    }\n",
       "\n",
       "    .dataframe tbody tr th {\n",
       "        vertical-align: top;\n",
       "    }\n",
       "\n",
       "    .dataframe thead th {\n",
       "        text-align: right;\n",
       "    }\n",
       "</style>\n",
       "<table border=\"1\" class=\"dataframe\">\n",
       "  <thead>\n",
       "    <tr style=\"text-align: right;\">\n",
       "      <th></th>\n",
       "      <th>PrimaryInstitution</th>\n",
       "      <th>OrgName</th>\n",
       "      <th>Orgtree_NeedToModify_PI</th>\n",
       "      <th>Orgtree_NeedToModify_Orgname</th>\n",
       "      <th>LinkToCurrent_PrimaryInstitution</th>\n",
       "      <th>LinkToCurrent_OrgName</th>\n",
       "      <th>Modify_LinkToCurrent_PrimaryInstitution</th>\n",
       "      <th>Modify_LinkToCurrent_OrgName</th>\n",
       "    </tr>\n",
       "  </thead>\n",
       "  <tbody>\n",
       "    <tr>\n",
       "      <th>39</th>\n",
       "      <td>국무위원회</td>\n",
       "      <td>국방성_장비국</td>\n",
       "      <td>국무위원회</td>\n",
       "      <td>국방성_참모부_장비총국</td>\n",
       "      <td>Current</td>\n",
       "      <td>Current</td>\n",
       "      <td>NaN</td>\n",
       "      <td>NaN</td>\n",
       "    </tr>\n",
       "    <tr>\n",
       "      <th>40</th>\n",
       "      <td>국무위원회</td>\n",
       "      <td>국방성_적공국</td>\n",
       "      <td>국무위원회</td>\n",
       "      <td>국방성_참모부_적공국</td>\n",
       "      <td>Current</td>\n",
       "      <td>Current</td>\n",
       "      <td>NaN</td>\n",
       "      <td>NaN</td>\n",
       "    </tr>\n",
       "  </tbody>\n",
       "</table>\n",
       "</div>"
      ],
      "text/plain": [
       "   PrimaryInstitution  OrgName Orgtree_NeedToModify_PI  \\\n",
       "39              국무위원회  국방성_장비국                   국무위원회   \n",
       "40              국무위원회  국방성_적공국                   국무위원회   \n",
       "\n",
       "   Orgtree_NeedToModify_Orgname LinkToCurrent_PrimaryInstitution  \\\n",
       "39                 국방성_참모부_장비총국                          Current   \n",
       "40                  국방성_참모부_적공국                          Current   \n",
       "\n",
       "   LinkToCurrent_OrgName Modify_LinkToCurrent_PrimaryInstitution  \\\n",
       "39               Current                                     NaN   \n",
       "40               Current                                     NaN   \n",
       "\n",
       "   Modify_LinkToCurrent_OrgName  \n",
       "39                          NaN  \n",
       "40                          NaN  "
      ]
     },
     "execution_count": 28,
     "metadata": {},
     "output_type": "execute_result"
    }
   ],
   "source": [
    "jol_right_process[0:2]"
   ]
  },
  {
   "cell_type": "code",
   "execution_count": 29,
   "metadata": {},
   "outputs": [
    {
     "data": {
      "text/plain": [
       "(422, 8)"
      ]
     },
     "execution_count": 29,
     "metadata": {},
     "output_type": "execute_result"
    }
   ],
   "source": [
    "# Check 1: NAs\n",
    "jol_right_process.dropna()\n",
    "jol_right_process.shape"
   ]
  },
  {
   "cell_type": "code",
   "execution_count": 30,
   "metadata": {},
   "outputs": [
    {
     "data": {
      "text/html": [
       "<div>\n",
       "<style scoped>\n",
       "    .dataframe tbody tr th:only-of-type {\n",
       "        vertical-align: middle;\n",
       "    }\n",
       "\n",
       "    .dataframe tbody tr th {\n",
       "        vertical-align: top;\n",
       "    }\n",
       "\n",
       "    .dataframe thead th {\n",
       "        text-align: right;\n",
       "    }\n",
       "</style>\n",
       "<table border=\"1\" class=\"dataframe\">\n",
       "  <thead>\n",
       "    <tr style=\"text-align: right;\">\n",
       "      <th></th>\n",
       "      <th>PrimaryInstitution</th>\n",
       "      <th>OrgName</th>\n",
       "      <th>Orgtree_NeedToModify_PI</th>\n",
       "      <th>Orgtree_NeedToModify_Orgname</th>\n",
       "      <th>LinkToCurrent_PrimaryInstitution</th>\n",
       "      <th>LinkToCurrent_OrgName</th>\n",
       "      <th>Modify_LinkToCurrent_PrimaryInstitution</th>\n",
       "      <th>Modify_LinkToCurrent_OrgName</th>\n",
       "    </tr>\n",
       "  </thead>\n",
       "  <tbody>\n",
       "  </tbody>\n",
       "</table>\n",
       "</div>"
      ],
      "text/plain": [
       "Empty DataFrame\n",
       "Columns: [PrimaryInstitution, OrgName, Orgtree_NeedToModify_PI, Orgtree_NeedToModify_Orgname, LinkToCurrent_PrimaryInstitution, LinkToCurrent_OrgName, Modify_LinkToCurrent_PrimaryInstitution, Modify_LinkToCurrent_OrgName]\n",
       "Index: []"
      ]
     },
     "execution_count": 30,
     "metadata": {},
     "output_type": "execute_result"
    }
   ],
   "source": [
    "# Check 2: duplicate rows\n",
    "jol_right_process[jol_right_process.duplicated()]"
   ]
  },
  {
   "cell_type": "code",
   "execution_count": 31,
   "metadata": {},
   "outputs": [
    {
     "data": {
      "text/html": [
       "<div>\n",
       "<style scoped>\n",
       "    .dataframe tbody tr th:only-of-type {\n",
       "        vertical-align: middle;\n",
       "    }\n",
       "\n",
       "    .dataframe tbody tr th {\n",
       "        vertical-align: top;\n",
       "    }\n",
       "\n",
       "    .dataframe thead th {\n",
       "        text-align: right;\n",
       "    }\n",
       "</style>\n",
       "<table border=\"1\" class=\"dataframe\">\n",
       "  <thead>\n",
       "    <tr style=\"text-align: right;\">\n",
       "      <th></th>\n",
       "      <th>PrimaryInstitution</th>\n",
       "      <th>OrgName</th>\n",
       "      <th>Orgtree_NeedToModify_PI</th>\n",
       "      <th>Orgtree_NeedToModify_Orgname</th>\n",
       "      <th>LinkToCurrent_PrimaryInstitution</th>\n",
       "      <th>LinkToCurrent_OrgName</th>\n",
       "      <th>Modify_LinkToCurrent_PrimaryInstitution</th>\n",
       "      <th>Modify_LinkToCurrent_OrgName</th>\n",
       "    </tr>\n",
       "  </thead>\n",
       "  <tbody>\n",
       "  </tbody>\n",
       "</table>\n",
       "</div>"
      ],
      "text/plain": [
       "Empty DataFrame\n",
       "Columns: [PrimaryInstitution, OrgName, Orgtree_NeedToModify_PI, Orgtree_NeedToModify_Orgname, LinkToCurrent_PrimaryInstitution, LinkToCurrent_OrgName, Modify_LinkToCurrent_PrimaryInstitution, Modify_LinkToCurrent_OrgName]\n",
       "Index: []"
      ]
     },
     "execution_count": 31,
     "metadata": {},
     "output_type": "execute_result"
    }
   ],
   "source": [
    "# Check 3: duplicate primary keys\n",
    "jol_right_process[jol_right_process.duplicated([\"PrimaryInstitution\",\"OrgName\"])]"
   ]
  },
  {
   "cell_type": "markdown",
   "metadata": {},
   "source": [
    "# right: update orgtree using joborglink_right edits"
   ]
  },
  {
   "cell_type": "code",
   "execution_count": 32,
   "metadata": {},
   "outputs": [
    {
     "data": {
      "text/plain": [
       "(422, 8)"
      ]
     },
     "execution_count": 32,
     "metadata": {},
     "output_type": "execute_result"
    }
   ],
   "source": [
    "# modifications to OrgTree.PrimaryInstitution\n",
    "jol_right_process[jol_right_process.Orgtree_NeedToModify_PI.notna()].shape"
   ]
  },
  {
   "cell_type": "code",
   "execution_count": 33,
   "metadata": {},
   "outputs": [
    {
     "data": {
      "text/plain": [
       "(395, 8)"
      ]
     },
     "execution_count": 33,
     "metadata": {},
     "output_type": "execute_result"
    }
   ],
   "source": [
    "# modifications to OrgTree.OrgName\n",
    "jol_right_process[jol_right_process.Orgtree_NeedToModify_Orgname.notna()].shape"
   ]
  },
  {
   "cell_type": "code",
   "execution_count": 34,
   "metadata": {},
   "outputs": [
    {
     "data": {
      "text/plain": [
       "(45, 8)"
      ]
     },
     "execution_count": 34,
     "metadata": {},
     "output_type": "execute_result"
    }
   ],
   "source": [
    "# modifications to OrgTree.LinkToCurrent_PrimaryInstitution\n",
    "jol_right_process[jol_right_process.Modify_LinkToCurrent_PrimaryInstitution.notna()].shape"
   ]
  },
  {
   "cell_type": "code",
   "execution_count": 35,
   "metadata": {},
   "outputs": [
    {
     "data": {
      "text/plain": [
       "(45, 8)"
      ]
     },
     "execution_count": 35,
     "metadata": {},
     "output_type": "execute_result"
    }
   ],
   "source": [
    "# modifications to OrgTree.LinkToCurrent_OrgName\n",
    "jol_right_process[jol_right_process.Modify_LinkToCurrent_OrgName.notna()].shape"
   ]
  },
  {
   "cell_type": "code",
   "execution_count": 36,
   "metadata": {},
   "outputs": [],
   "source": [
    "# merge and update\n",
    "merged = orgtree.merge(jol_right_process,how=\"left\",on=[\"PrimaryInstitution\",\"OrgName\"],suffixes=(\"\",\"_y\"),indicator=True)"
   ]
  },
  {
   "cell_type": "code",
   "execution_count": 37,
   "metadata": {},
   "outputs": [
    {
     "data": {
      "text/plain": [
       "(1162, 8)"
      ]
     },
     "execution_count": 37,
     "metadata": {},
     "output_type": "execute_result"
    }
   ],
   "source": [
    "orgtree.shape"
   ]
  },
  {
   "cell_type": "code",
   "execution_count": 38,
   "metadata": {},
   "outputs": [
    {
     "data": {
      "text/plain": [
       "(1162, 15)"
      ]
     },
     "execution_count": 38,
     "metadata": {},
     "output_type": "execute_result"
    }
   ],
   "source": [
    "# merged rows > orgtree rows\n",
    "merged.shape"
   ]
  },
  {
   "cell_type": "code",
   "execution_count": 39,
   "metadata": {},
   "outputs": [
    {
     "data": {
      "text/plain": [
       "['left_only', 'both']\n",
       "Categories (3, object): ['left_only', 'right_only', 'both']"
      ]
     },
     "execution_count": 39,
     "metadata": {},
     "output_type": "execute_result"
    }
   ],
   "source": [
    "merged[\"_merge\"].unique()"
   ]
  },
  {
   "cell_type": "code",
   "execution_count": 40,
   "metadata": {},
   "outputs": [
    {
     "data": {
      "text/plain": [
       "(740, 15)"
      ]
     },
     "execution_count": 40,
     "metadata": {},
     "output_type": "execute_result"
    }
   ],
   "source": [
    "merged[merged[\"_merge\"]==\"left_only\"].shape"
   ]
  },
  {
   "cell_type": "code",
   "execution_count": 41,
   "metadata": {},
   "outputs": [
    {
     "data": {
      "text/plain": [
       "(0, 15)"
      ]
     },
     "execution_count": 41,
     "metadata": {},
     "output_type": "execute_result"
    }
   ],
   "source": [
    "merged[merged[\"_merge\"]==\"right_only\"].shape"
   ]
  },
  {
   "cell_type": "code",
   "execution_count": 42,
   "metadata": {},
   "outputs": [
    {
     "data": {
      "text/plain": [
       "(422, 15)"
      ]
     },
     "execution_count": 42,
     "metadata": {},
     "output_type": "execute_result"
    }
   ],
   "source": [
    "merged[merged[\"_merge\"]==\"both\"].shape"
   ]
  },
  {
   "cell_type": "code",
   "execution_count": 43,
   "metadata": {},
   "outputs": [
    {
     "data": {
      "text/html": [
       "<div>\n",
       "<style scoped>\n",
       "    .dataframe tbody tr th:only-of-type {\n",
       "        vertical-align: middle;\n",
       "    }\n",
       "\n",
       "    .dataframe tbody tr th {\n",
       "        vertical-align: top;\n",
       "    }\n",
       "\n",
       "    .dataframe thead th {\n",
       "        text-align: right;\n",
       "    }\n",
       "</style>\n",
       "<table border=\"1\" class=\"dataframe\">\n",
       "  <thead>\n",
       "    <tr style=\"text-align: right;\">\n",
       "      <th></th>\n",
       "      <th>InsideGov</th>\n",
       "      <th>PrimaryInstitution</th>\n",
       "      <th>OrgName</th>\n",
       "      <th>ImmediateSuperiorOrg</th>\n",
       "      <th>SupervisesParent</th>\n",
       "      <th>LinkToCurrent_PrimaryInstitution</th>\n",
       "      <th>LinkToCurrent_OrgName</th>\n",
       "      <th>비고</th>\n",
       "      <th>Orgtree_NeedToModify_PI</th>\n",
       "      <th>Orgtree_NeedToModify_Orgname</th>\n",
       "      <th>LinkToCurrent_PrimaryInstitution_y</th>\n",
       "      <th>LinkToCurrent_OrgName_y</th>\n",
       "      <th>Modify_LinkToCurrent_PrimaryInstitution</th>\n",
       "      <th>Modify_LinkToCurrent_OrgName</th>\n",
       "      <th>_merge</th>\n",
       "    </tr>\n",
       "  </thead>\n",
       "  <tbody>\n",
       "    <tr>\n",
       "      <th>0</th>\n",
       "      <td>False</td>\n",
       "      <td>6.15공동선언실천남북공동위원회북측위원회</td>\n",
       "      <td>교직원분과</td>\n",
       "      <td>NaN</td>\n",
       "      <td>NaN</td>\n",
       "      <td>Current</td>\n",
       "      <td>Current</td>\n",
       "      <td>NaN</td>\n",
       "      <td>NaN</td>\n",
       "      <td>NaN</td>\n",
       "      <td>NaN</td>\n",
       "      <td>NaN</td>\n",
       "      <td>NaN</td>\n",
       "      <td>NaN</td>\n",
       "      <td>left_only</td>\n",
       "    </tr>\n",
       "    <tr>\n",
       "      <th>1</th>\n",
       "      <td>False</td>\n",
       "      <td>6.15공동선언실천남북공동위원회북측위원회</td>\n",
       "      <td>노동자분과</td>\n",
       "      <td>NaN</td>\n",
       "      <td>NaN</td>\n",
       "      <td>Current</td>\n",
       "      <td>Current</td>\n",
       "      <td>NaN</td>\n",
       "      <td>NaN</td>\n",
       "      <td>NaN</td>\n",
       "      <td>NaN</td>\n",
       "      <td>NaN</td>\n",
       "      <td>NaN</td>\n",
       "      <td>NaN</td>\n",
       "      <td>left_only</td>\n",
       "    </tr>\n",
       "  </tbody>\n",
       "</table>\n",
       "</div>"
      ],
      "text/plain": [
       "   InsideGov      PrimaryInstitution OrgName ImmediateSuperiorOrg  \\\n",
       "0      False  6.15공동선언실천남북공동위원회북측위원회   교직원분과                  NaN   \n",
       "1      False  6.15공동선언실천남북공동위원회북측위원회   노동자분과                  NaN   \n",
       "\n",
       "   SupervisesParent LinkToCurrent_PrimaryInstitution LinkToCurrent_OrgName  \\\n",
       "0               NaN                          Current               Current   \n",
       "1               NaN                          Current               Current   \n",
       "\n",
       "    비고 Orgtree_NeedToModify_PI Orgtree_NeedToModify_Orgname  \\\n",
       "0  NaN                     NaN                          NaN   \n",
       "1  NaN                     NaN                          NaN   \n",
       "\n",
       "  LinkToCurrent_PrimaryInstitution_y LinkToCurrent_OrgName_y  \\\n",
       "0                                NaN                     NaN   \n",
       "1                                NaN                     NaN   \n",
       "\n",
       "  Modify_LinkToCurrent_PrimaryInstitution Modify_LinkToCurrent_OrgName  \\\n",
       "0                                     NaN                          NaN   \n",
       "1                                     NaN                          NaN   \n",
       "\n",
       "      _merge  \n",
       "0  left_only  \n",
       "1  left_only  "
      ]
     },
     "execution_count": 43,
     "metadata": {},
     "output_type": "execute_result"
    }
   ],
   "source": [
    "merged[merged[\"_merge\"]==\"left_only\"][0:2]"
   ]
  },
  {
   "cell_type": "code",
   "execution_count": 44,
   "metadata": {},
   "outputs": [
    {
     "data": {
      "text/html": [
       "<div>\n",
       "<style scoped>\n",
       "    .dataframe tbody tr th:only-of-type {\n",
       "        vertical-align: middle;\n",
       "    }\n",
       "\n",
       "    .dataframe tbody tr th {\n",
       "        vertical-align: top;\n",
       "    }\n",
       "\n",
       "    .dataframe thead th {\n",
       "        text-align: right;\n",
       "    }\n",
       "</style>\n",
       "<table border=\"1\" class=\"dataframe\">\n",
       "  <thead>\n",
       "    <tr style=\"text-align: right;\">\n",
       "      <th></th>\n",
       "      <th>InsideGov</th>\n",
       "      <th>PrimaryInstitution</th>\n",
       "      <th>OrgName</th>\n",
       "      <th>ImmediateSuperiorOrg</th>\n",
       "      <th>SupervisesParent</th>\n",
       "      <th>LinkToCurrent_PrimaryInstitution</th>\n",
       "      <th>LinkToCurrent_OrgName</th>\n",
       "      <th>비고</th>\n",
       "      <th>Orgtree_NeedToModify_PI</th>\n",
       "      <th>Orgtree_NeedToModify_Orgname</th>\n",
       "      <th>LinkToCurrent_PrimaryInstitution_y</th>\n",
       "      <th>LinkToCurrent_OrgName_y</th>\n",
       "      <th>Modify_LinkToCurrent_PrimaryInstitution</th>\n",
       "      <th>Modify_LinkToCurrent_OrgName</th>\n",
       "      <th>_merge</th>\n",
       "    </tr>\n",
       "  </thead>\n",
       "  <tbody>\n",
       "  </tbody>\n",
       "</table>\n",
       "</div>"
      ],
      "text/plain": [
       "Empty DataFrame\n",
       "Columns: [InsideGov, PrimaryInstitution, OrgName, ImmediateSuperiorOrg, SupervisesParent, LinkToCurrent_PrimaryInstitution, LinkToCurrent_OrgName, 비고, Orgtree_NeedToModify_PI, Orgtree_NeedToModify_Orgname, LinkToCurrent_PrimaryInstitution_y, LinkToCurrent_OrgName_y, Modify_LinkToCurrent_PrimaryInstitution, Modify_LinkToCurrent_OrgName, _merge]\n",
       "Index: []"
      ]
     },
     "execution_count": 44,
     "metadata": {},
     "output_type": "execute_result"
    }
   ],
   "source": [
    "# verify no duplicates\n",
    "merged.loc[merged.duplicated([\"PrimaryInstitution\",\"OrgName\"],keep=False)]"
   ]
  },
  {
   "cell_type": "code",
   "execution_count": 45,
   "metadata": {},
   "outputs": [],
   "source": [
    "# replace PrimaryInstitution\n",
    "merged.loc[merged.Orgtree_NeedToModify_PI.notna(),\"PrimaryInstitution\"] = merged.loc[merged.Orgtree_NeedToModify_PI.notna(),\"Orgtree_NeedToModify_PI\"]"
   ]
  },
  {
   "cell_type": "code",
   "execution_count": 46,
   "metadata": {},
   "outputs": [],
   "source": [
    "# replace OrgName\n",
    "merged.loc[merged.Orgtree_NeedToModify_Orgname.notna(),\"OrgName\"] = merged.loc[merged.Orgtree_NeedToModify_Orgname.notna(),\"Orgtree_NeedToModify_Orgname\"]"
   ]
  },
  {
   "cell_type": "code",
   "execution_count": 47,
   "metadata": {},
   "outputs": [],
   "source": [
    "# replace LinkToCurrent_PrimaryInstitution\n",
    "merged.loc[merged.Modify_LinkToCurrent_PrimaryInstitution.notna(),\"LinkToCurrent_PrimaryInstitution\"] = merged.loc[merged.Modify_LinkToCurrent_PrimaryInstitution.notna(),\"Modify_LinkToCurrent_PrimaryInstitution\"]"
   ]
  },
  {
   "cell_type": "code",
   "execution_count": 48,
   "metadata": {},
   "outputs": [],
   "source": [
    "# replace LinkToCurrent_OrgName\n",
    "merged.loc[merged.Modify_LinkToCurrent_OrgName.notna(),\"LinkToCurrent_OrgName\"] = merged.loc[merged.Modify_LinkToCurrent_OrgName.notna(),\"Modify_LinkToCurrent_OrgName\"]"
   ]
  },
  {
   "cell_type": "code",
   "execution_count": 49,
   "metadata": {},
   "outputs": [
    {
     "data": {
      "text/html": [
       "<div>\n",
       "<style scoped>\n",
       "    .dataframe tbody tr th:only-of-type {\n",
       "        vertical-align: middle;\n",
       "    }\n",
       "\n",
       "    .dataframe tbody tr th {\n",
       "        vertical-align: top;\n",
       "    }\n",
       "\n",
       "    .dataframe thead th {\n",
       "        text-align: right;\n",
       "    }\n",
       "</style>\n",
       "<table border=\"1\" class=\"dataframe\">\n",
       "  <thead>\n",
       "    <tr style=\"text-align: right;\">\n",
       "      <th></th>\n",
       "      <th>InsideGov</th>\n",
       "      <th>PrimaryInstitution</th>\n",
       "      <th>OrgName</th>\n",
       "      <th>ImmediateSuperiorOrg</th>\n",
       "      <th>SupervisesParent</th>\n",
       "      <th>LinkToCurrent_PrimaryInstitution</th>\n",
       "      <th>LinkToCurrent_OrgName</th>\n",
       "      <th>비고</th>\n",
       "      <th>Orgtree_NeedToModify_PI</th>\n",
       "      <th>Orgtree_NeedToModify_Orgname</th>\n",
       "      <th>LinkToCurrent_PrimaryInstitution_y</th>\n",
       "      <th>LinkToCurrent_OrgName_y</th>\n",
       "      <th>Modify_LinkToCurrent_PrimaryInstitution</th>\n",
       "      <th>Modify_LinkToCurrent_OrgName</th>\n",
       "      <th>_merge</th>\n",
       "    </tr>\n",
       "  </thead>\n",
       "  <tbody>\n",
       "    <tr>\n",
       "      <th>235</th>\n",
       "      <td>True</td>\n",
       "      <td>내각</td>\n",
       "      <td>외무성_아시아2국_싱가포르대사관</td>\n",
       "      <td>외무성_X국</td>\n",
       "      <td>NaN</td>\n",
       "      <td>Current</td>\n",
       "      <td>Current</td>\n",
       "      <td>NaN</td>\n",
       "      <td>내각</td>\n",
       "      <td>외무성_아시아2국_싱가포르대사관</td>\n",
       "      <td>내각</td>\n",
       "      <td>외무성_아시아2국_싱가포르대사관</td>\n",
       "      <td>Current</td>\n",
       "      <td>Current</td>\n",
       "      <td>both</td>\n",
       "    </tr>\n",
       "    <tr>\n",
       "      <th>241</th>\n",
       "      <td>True</td>\n",
       "      <td>내각</td>\n",
       "      <td>외무성_아프리카-라틴아메리카-아랍국_우간다대사관</td>\n",
       "      <td>외무성_X국</td>\n",
       "      <td>NaN</td>\n",
       "      <td>Current</td>\n",
       "      <td>Current</td>\n",
       "      <td>NaN</td>\n",
       "      <td>내각</td>\n",
       "      <td>외무성_아프리카-라틴아메리카-아랍국_우간다대사관</td>\n",
       "      <td>내각</td>\n",
       "      <td>외무성_아프리카-라틴아메리카-아랍국_우간다대사관</td>\n",
       "      <td>Current</td>\n",
       "      <td>Current</td>\n",
       "      <td>both</td>\n",
       "    </tr>\n",
       "  </tbody>\n",
       "</table>\n",
       "</div>"
      ],
      "text/plain": [
       "     InsideGov PrimaryInstitution                     OrgName  \\\n",
       "235       True                 내각           외무성_아시아2국_싱가포르대사관   \n",
       "241       True                 내각  외무성_아프리카-라틴아메리카-아랍국_우간다대사관   \n",
       "\n",
       "    ImmediateSuperiorOrg  SupervisesParent LinkToCurrent_PrimaryInstitution  \\\n",
       "235               외무성_X국               NaN                          Current   \n",
       "241               외무성_X국               NaN                          Current   \n",
       "\n",
       "    LinkToCurrent_OrgName   비고 Orgtree_NeedToModify_PI  \\\n",
       "235               Current  NaN                      내각   \n",
       "241               Current  NaN                      내각   \n",
       "\n",
       "    Orgtree_NeedToModify_Orgname LinkToCurrent_PrimaryInstitution_y  \\\n",
       "235            외무성_아시아2국_싱가포르대사관                                 내각   \n",
       "241   외무성_아프리카-라틴아메리카-아랍국_우간다대사관                                 내각   \n",
       "\n",
       "        LinkToCurrent_OrgName_y Modify_LinkToCurrent_PrimaryInstitution  \\\n",
       "235           외무성_아시아2국_싱가포르대사관                                 Current   \n",
       "241  외무성_아프리카-라틴아메리카-아랍국_우간다대사관                                 Current   \n",
       "\n",
       "    Modify_LinkToCurrent_OrgName _merge  \n",
       "235                      Current   both  \n",
       "241                      Current   both  "
      ]
     },
     "execution_count": 49,
     "metadata": {},
     "output_type": "execute_result"
    }
   ],
   "source": [
    "merged[merged.Modify_LinkToCurrent_OrgName.notna()][1:3]"
   ]
  },
  {
   "cell_type": "code",
   "execution_count": 50,
   "metadata": {},
   "outputs": [
    {
     "data": {
      "text/plain": [
       "(1162, 15)"
      ]
     },
     "execution_count": 50,
     "metadata": {},
     "output_type": "execute_result"
    }
   ],
   "source": [
    "# double check the changes, before & after, both files\n",
    "merged.shape"
   ]
  },
  {
   "cell_type": "code",
   "execution_count": 51,
   "metadata": {},
   "outputs": [
    {
     "data": {
      "text/plain": [
       "(1162, 15)"
      ]
     },
     "execution_count": 51,
     "metadata": {},
     "output_type": "execute_result"
    }
   ],
   "source": [
    "# Check 1: NAs\n",
    "merged.dropna()\n",
    "merged.shape"
   ]
  },
  {
   "cell_type": "code",
   "execution_count": 52,
   "metadata": {},
   "outputs": [
    {
     "data": {
      "text/plain": [
       "(129, 15)"
      ]
     },
     "execution_count": 52,
     "metadata": {},
     "output_type": "execute_result"
    }
   ],
   "source": [
    "# Check 2: duplicate rows\n",
    "merged[merged.duplicated()].shape"
   ]
  },
  {
   "cell_type": "code",
   "execution_count": 53,
   "metadata": {
    "scrolled": true
   },
   "outputs": [],
   "source": [
    "### 129 rows in joborglink_right for which 2+ incorrect key existed in orgtree, whose rows were otherwise identical\n",
    "### We can remove these duplicates."
   ]
  },
  {
   "cell_type": "code",
   "execution_count": 54,
   "metadata": {},
   "outputs": [
    {
     "data": {
      "text/plain": [
       "(1033, 15)"
      ]
     },
     "execution_count": 54,
     "metadata": {},
     "output_type": "execute_result"
    }
   ],
   "source": [
    "merged = merged.drop_duplicates()\n",
    "merged.shape"
   ]
  },
  {
   "cell_type": "code",
   "execution_count": 55,
   "metadata": {},
   "outputs": [
    {
     "data": {
      "text/plain": [
       "(194, 15)"
      ]
     },
     "execution_count": 55,
     "metadata": {},
     "output_type": "execute_result"
    }
   ],
   "source": [
    "# Check 3: duplicate primary keys\n",
    "merged[merged.duplicated([\"PrimaryInstitution\",\"OrgName\"],keep=False)].shape"
   ]
  },
  {
   "cell_type": "code",
   "execution_count": 56,
   "metadata": {},
   "outputs": [],
   "source": [
    "### 112 rows in joborglink_right for which 2+ incorrect key existed in orgtree, but whose rows were not necessarily identical\n",
    "### I will mark these as duplicates so they can be hand-processed later."
   ]
  },
  {
   "cell_type": "code",
   "execution_count": 57,
   "metadata": {},
   "outputs": [],
   "source": [
    "merged[\"DuplicateKey\"]=False"
   ]
  },
  {
   "cell_type": "code",
   "execution_count": 58,
   "metadata": {},
   "outputs": [],
   "source": [
    "merged.loc[merged.duplicated([\"PrimaryInstitution\",\"OrgName\"],keep=False),\"DuplicateKey\"]=True"
   ]
  },
  {
   "cell_type": "code",
   "execution_count": 59,
   "metadata": {},
   "outputs": [
    {
     "data": {
      "text/html": [
       "<div>\n",
       "<style scoped>\n",
       "    .dataframe tbody tr th:only-of-type {\n",
       "        vertical-align: middle;\n",
       "    }\n",
       "\n",
       "    .dataframe tbody tr th {\n",
       "        vertical-align: top;\n",
       "    }\n",
       "\n",
       "    .dataframe thead th {\n",
       "        text-align: right;\n",
       "    }\n",
       "</style>\n",
       "<table border=\"1\" class=\"dataframe\">\n",
       "  <thead>\n",
       "    <tr style=\"text-align: right;\">\n",
       "      <th></th>\n",
       "      <th>InsideGov</th>\n",
       "      <th>PrimaryInstitution</th>\n",
       "      <th>OrgName</th>\n",
       "      <th>ImmediateSuperiorOrg</th>\n",
       "      <th>SupervisesParent</th>\n",
       "      <th>LinkToCurrent_PrimaryInstitution</th>\n",
       "      <th>LinkToCurrent_OrgName</th>\n",
       "      <th>비고</th>\n",
       "      <th>Orgtree_NeedToModify_PI</th>\n",
       "      <th>Orgtree_NeedToModify_Orgname</th>\n",
       "      <th>LinkToCurrent_PrimaryInstitution_y</th>\n",
       "      <th>LinkToCurrent_OrgName_y</th>\n",
       "      <th>Modify_LinkToCurrent_PrimaryInstitution</th>\n",
       "      <th>Modify_LinkToCurrent_OrgName</th>\n",
       "      <th>_merge</th>\n",
       "      <th>DuplicateKey</th>\n",
       "    </tr>\n",
       "  </thead>\n",
       "  <tbody>\n",
       "    <tr>\n",
       "      <th>17</th>\n",
       "      <td>True</td>\n",
       "      <td>국무위원회</td>\n",
       "      <td>국방성</td>\n",
       "      <td>NaN</td>\n",
       "      <td>NaN</td>\n",
       "      <td>Current</td>\n",
       "      <td>Current</td>\n",
       "      <td>NaN</td>\n",
       "      <td>NaN</td>\n",
       "      <td>NaN</td>\n",
       "      <td>NaN</td>\n",
       "      <td>NaN</td>\n",
       "      <td>NaN</td>\n",
       "      <td>NaN</td>\n",
       "      <td>left_only</td>\n",
       "      <td>True</td>\n",
       "    </tr>\n",
       "    <tr>\n",
       "      <th>20</th>\n",
       "      <td>True</td>\n",
       "      <td>국무위원회</td>\n",
       "      <td>국방성_참모부_공병국</td>\n",
       "      <td>국방성</td>\n",
       "      <td>NaN</td>\n",
       "      <td>Current</td>\n",
       "      <td>Current</td>\n",
       "      <td>NaN</td>\n",
       "      <td>국무위원회</td>\n",
       "      <td>국방성_참모부_공병국</td>\n",
       "      <td>Current</td>\n",
       "      <td>Current</td>\n",
       "      <td>NaN</td>\n",
       "      <td>NaN</td>\n",
       "      <td>both</td>\n",
       "      <td>True</td>\n",
       "    </tr>\n",
       "    <tr>\n",
       "      <th>43</th>\n",
       "      <td>True</td>\n",
       "      <td>국무위원회</td>\n",
       "      <td>국방성_참모부_통신국</td>\n",
       "      <td>국방성</td>\n",
       "      <td>NaN</td>\n",
       "      <td>Current</td>\n",
       "      <td>Current</td>\n",
       "      <td>NaN</td>\n",
       "      <td>국무위원회</td>\n",
       "      <td>국방성_참모부_통신국</td>\n",
       "      <td>Current</td>\n",
       "      <td>Current</td>\n",
       "      <td>NaN</td>\n",
       "      <td>NaN</td>\n",
       "      <td>both</td>\n",
       "      <td>True</td>\n",
       "    </tr>\n",
       "    <tr>\n",
       "      <th>44</th>\n",
       "      <td>True</td>\n",
       "      <td>국무위원회</td>\n",
       "      <td>국방성_참모부_통신국</td>\n",
       "      <td>국방성</td>\n",
       "      <td>NaN</td>\n",
       "      <td>Current</td>\n",
       "      <td>Current</td>\n",
       "      <td>제258부대</td>\n",
       "      <td>국무위원회</td>\n",
       "      <td>국방성_참모부_통신국</td>\n",
       "      <td>Current</td>\n",
       "      <td>Current</td>\n",
       "      <td>NaN</td>\n",
       "      <td>NaN</td>\n",
       "      <td>both</td>\n",
       "      <td>True</td>\n",
       "    </tr>\n",
       "    <tr>\n",
       "      <th>91</th>\n",
       "      <td>True</td>\n",
       "      <td>보위사령부</td>\n",
       "      <td>보위국</td>\n",
       "      <td>NaN</td>\n",
       "      <td>NaN</td>\n",
       "      <td>Current</td>\n",
       "      <td>Current</td>\n",
       "      <td>조선인민군 방첩 및 군 감찰기관 (보위국 혹은 보위사령부로 불림)\\n- 총정치국 산...</td>\n",
       "      <td>보위사령부</td>\n",
       "      <td>NaN</td>\n",
       "      <td>총정치국</td>\n",
       "      <td>보위국</td>\n",
       "      <td>Current</td>\n",
       "      <td>Current</td>\n",
       "      <td>both</td>\n",
       "      <td>True</td>\n",
       "    </tr>\n",
       "    <tr>\n",
       "      <th>92</th>\n",
       "      <td>True</td>\n",
       "      <td>국방위원회</td>\n",
       "      <td>인민무력부</td>\n",
       "      <td>NaN</td>\n",
       "      <td>NaN</td>\n",
       "      <td>국무위원회</td>\n",
       "      <td>국방성</td>\n",
       "      <td>NaN</td>\n",
       "      <td>NaN</td>\n",
       "      <td>NaN</td>\n",
       "      <td>NaN</td>\n",
       "      <td>NaN</td>\n",
       "      <td>NaN</td>\n",
       "      <td>NaN</td>\n",
       "      <td>left_only</td>\n",
       "      <td>True</td>\n",
       "    </tr>\n",
       "    <tr>\n",
       "      <th>112</th>\n",
       "      <td>True</td>\n",
       "      <td>내각</td>\n",
       "      <td>교육위원회_고등교육성_김책공업대학</td>\n",
       "      <td>교육성</td>\n",
       "      <td>NaN</td>\n",
       "      <td>내각</td>\n",
       "      <td>교육위원회_고등교육성_김책공업대학</td>\n",
       "      <td>NaN</td>\n",
       "      <td>내각</td>\n",
       "      <td>교육위원회_고등교육성_김책공업대학</td>\n",
       "      <td>Current</td>\n",
       "      <td>Current</td>\n",
       "      <td>NaN</td>\n",
       "      <td>NaN</td>\n",
       "      <td>both</td>\n",
       "      <td>True</td>\n",
       "    </tr>\n",
       "    <tr>\n",
       "      <th>113</th>\n",
       "      <td>True</td>\n",
       "      <td>내각</td>\n",
       "      <td>교육위원회_고등교육성_김형직사범대학</td>\n",
       "      <td>교육성</td>\n",
       "      <td>NaN</td>\n",
       "      <td>내각</td>\n",
       "      <td>교육위원회_고등교육성_김형직사범대학</td>\n",
       "      <td>NaN</td>\n",
       "      <td>내각</td>\n",
       "      <td>교육위원회_고등교육성_김형직사범대학</td>\n",
       "      <td>Current</td>\n",
       "      <td>Current</td>\n",
       "      <td>NaN</td>\n",
       "      <td>NaN</td>\n",
       "      <td>both</td>\n",
       "      <td>True</td>\n",
       "    </tr>\n",
       "    <tr>\n",
       "      <th>116</th>\n",
       "      <td>True</td>\n",
       "      <td>내각</td>\n",
       "      <td>교육위원회</td>\n",
       "      <td>NaN</td>\n",
       "      <td>NaN</td>\n",
       "      <td>Current</td>\n",
       "      <td>Current</td>\n",
       "      <td>NaN</td>\n",
       "      <td>NaN</td>\n",
       "      <td>NaN</td>\n",
       "      <td>NaN</td>\n",
       "      <td>NaN</td>\n",
       "      <td>NaN</td>\n",
       "      <td>NaN</td>\n",
       "      <td>left_only</td>\n",
       "      <td>True</td>\n",
       "    </tr>\n",
       "    <tr>\n",
       "      <th>120</th>\n",
       "      <td>True</td>\n",
       "      <td>내각</td>\n",
       "      <td>교육위원회_고등교육성_김책공업대학</td>\n",
       "      <td>교육위원회_고등교육성</td>\n",
       "      <td>NaN</td>\n",
       "      <td>Current</td>\n",
       "      <td>Current</td>\n",
       "      <td>NaN</td>\n",
       "      <td>NaN</td>\n",
       "      <td>NaN</td>\n",
       "      <td>NaN</td>\n",
       "      <td>NaN</td>\n",
       "      <td>NaN</td>\n",
       "      <td>NaN</td>\n",
       "      <td>left_only</td>\n",
       "      <td>True</td>\n",
       "    </tr>\n",
       "    <tr>\n",
       "      <th>121</th>\n",
       "      <td>True</td>\n",
       "      <td>내각</td>\n",
       "      <td>교육위원회_고등교육성_김형직사범대학</td>\n",
       "      <td>교육위원회_고등교육성</td>\n",
       "      <td>NaN</td>\n",
       "      <td>Current</td>\n",
       "      <td>Current</td>\n",
       "      <td>NaN</td>\n",
       "      <td>NaN</td>\n",
       "      <td>NaN</td>\n",
       "      <td>NaN</td>\n",
       "      <td>NaN</td>\n",
       "      <td>NaN</td>\n",
       "      <td>NaN</td>\n",
       "      <td>left_only</td>\n",
       "      <td>True</td>\n",
       "    </tr>\n",
       "    <tr>\n",
       "      <th>126</th>\n",
       "      <td>True</td>\n",
       "      <td>내각</td>\n",
       "      <td>교통위원회</td>\n",
       "      <td>NaN</td>\n",
       "      <td>NaN</td>\n",
       "      <td>내각</td>\n",
       "      <td>육해운성</td>\n",
       "      <td>NaN</td>\n",
       "      <td>NaN</td>\n",
       "      <td>NaN</td>\n",
       "      <td>NaN</td>\n",
       "      <td>NaN</td>\n",
       "      <td>NaN</td>\n",
       "      <td>NaN</td>\n",
       "      <td>left_only</td>\n",
       "      <td>True</td>\n",
       "    </tr>\n",
       "    <tr>\n",
       "      <th>131</th>\n",
       "      <td>True</td>\n",
       "      <td>내각</td>\n",
       "      <td>국가계획위원회</td>\n",
       "      <td>NaN</td>\n",
       "      <td>NaN</td>\n",
       "      <td>Current</td>\n",
       "      <td>Current</td>\n",
       "      <td>NaN</td>\n",
       "      <td>NaN</td>\n",
       "      <td>NaN</td>\n",
       "      <td>NaN</td>\n",
       "      <td>NaN</td>\n",
       "      <td>NaN</td>\n",
       "      <td>NaN</td>\n",
       "      <td>left_only</td>\n",
       "      <td>True</td>\n",
       "    </tr>\n",
       "    <tr>\n",
       "      <th>132</th>\n",
       "      <td>True</td>\n",
       "      <td>내각</td>\n",
       "      <td>국가과학기술위원회</td>\n",
       "      <td>NaN</td>\n",
       "      <td>NaN</td>\n",
       "      <td>Current</td>\n",
       "      <td>Current</td>\n",
       "      <td>NaN</td>\n",
       "      <td>NaN</td>\n",
       "      <td>NaN</td>\n",
       "      <td>NaN</td>\n",
       "      <td>NaN</td>\n",
       "      <td>NaN</td>\n",
       "      <td>NaN</td>\n",
       "      <td>left_only</td>\n",
       "      <td>True</td>\n",
       "    </tr>\n",
       "    <tr>\n",
       "      <th>137</th>\n",
       "      <td>True</td>\n",
       "      <td>국방위원회</td>\n",
       "      <td>인민무력부</td>\n",
       "      <td>NaN</td>\n",
       "      <td>NaN</td>\n",
       "      <td>국무위원회</td>\n",
       "      <td>국방성</td>\n",
       "      <td>NaN</td>\n",
       "      <td>국방위원회</td>\n",
       "      <td>인민무력부</td>\n",
       "      <td>국무위원회</td>\n",
       "      <td>국방성</td>\n",
       "      <td>NaN</td>\n",
       "      <td>NaN</td>\n",
       "      <td>both</td>\n",
       "      <td>True</td>\n",
       "    </tr>\n",
       "    <tr>\n",
       "      <th>138</th>\n",
       "      <td>True</td>\n",
       "      <td>내각</td>\n",
       "      <td>국토환경보호성</td>\n",
       "      <td>NaN</td>\n",
       "      <td>NaN</td>\n",
       "      <td>Current</td>\n",
       "      <td>Current</td>\n",
       "      <td>NaN</td>\n",
       "      <td>NaN</td>\n",
       "      <td>NaN</td>\n",
       "      <td>NaN</td>\n",
       "      <td>NaN</td>\n",
       "      <td>NaN</td>\n",
       "      <td>NaN</td>\n",
       "      <td>left_only</td>\n",
       "      <td>True</td>\n",
       "    </tr>\n",
       "    <tr>\n",
       "      <th>139</th>\n",
       "      <td>True</td>\n",
       "      <td>내각</td>\n",
       "      <td>금속공업부</td>\n",
       "      <td>NaN</td>\n",
       "      <td>NaN</td>\n",
       "      <td>내각</td>\n",
       "      <td>금속공업성</td>\n",
       "      <td>NaN</td>\n",
       "      <td>NaN</td>\n",
       "      <td>NaN</td>\n",
       "      <td>NaN</td>\n",
       "      <td>NaN</td>\n",
       "      <td>NaN</td>\n",
       "      <td>NaN</td>\n",
       "      <td>left_only</td>\n",
       "      <td>True</td>\n",
       "    </tr>\n",
       "    <tr>\n",
       "      <th>146</th>\n",
       "      <td>True</td>\n",
       "      <td>내각</td>\n",
       "      <td>노동행정부</td>\n",
       "      <td>NaN</td>\n",
       "      <td>NaN</td>\n",
       "      <td>내각</td>\n",
       "      <td>노동성</td>\n",
       "      <td>NaN</td>\n",
       "      <td>NaN</td>\n",
       "      <td>NaN</td>\n",
       "      <td>NaN</td>\n",
       "      <td>NaN</td>\n",
       "      <td>NaN</td>\n",
       "      <td>NaN</td>\n",
       "      <td>left_only</td>\n",
       "      <td>True</td>\n",
       "    </tr>\n",
       "    <tr>\n",
       "      <th>148</th>\n",
       "      <td>True</td>\n",
       "      <td>내각</td>\n",
       "      <td>농업위원회</td>\n",
       "      <td>NaN</td>\n",
       "      <td>NaN</td>\n",
       "      <td>Current</td>\n",
       "      <td>Current</td>\n",
       "      <td>NaN</td>\n",
       "      <td>NaN</td>\n",
       "      <td>NaN</td>\n",
       "      <td>NaN</td>\n",
       "      <td>NaN</td>\n",
       "      <td>NaN</td>\n",
       "      <td>NaN</td>\n",
       "      <td>left_only</td>\n",
       "      <td>True</td>\n",
       "    </tr>\n",
       "    <tr>\n",
       "      <th>207</th>\n",
       "      <td>True</td>\n",
       "      <td>내각</td>\n",
       "      <td>수도건설위원회</td>\n",
       "      <td>NaN</td>\n",
       "      <td>NaN</td>\n",
       "      <td>내각</td>\n",
       "      <td>평양건설위원회</td>\n",
       "      <td>NaN</td>\n",
       "      <td>NaN</td>\n",
       "      <td>NaN</td>\n",
       "      <td>NaN</td>\n",
       "      <td>NaN</td>\n",
       "      <td>NaN</td>\n",
       "      <td>NaN</td>\n",
       "      <td>left_only</td>\n",
       "      <td>True</td>\n",
       "    </tr>\n",
       "    <tr>\n",
       "      <th>210</th>\n",
       "      <td>True</td>\n",
       "      <td>내각</td>\n",
       "      <td>식료일용공업성</td>\n",
       "      <td>NaN</td>\n",
       "      <td>NaN</td>\n",
       "      <td>내각</td>\n",
       "      <td>지방공업성</td>\n",
       "      <td>NaN</td>\n",
       "      <td>NaN</td>\n",
       "      <td>NaN</td>\n",
       "      <td>NaN</td>\n",
       "      <td>NaN</td>\n",
       "      <td>NaN</td>\n",
       "      <td>NaN</td>\n",
       "      <td>left_only</td>\n",
       "      <td>True</td>\n",
       "    </tr>\n",
       "    <tr>\n",
       "      <th>213</th>\n",
       "      <td>True</td>\n",
       "      <td>내각</td>\n",
       "      <td>외무성_아프리카-라틴아메리카-아랍국_알제리대사관</td>\n",
       "      <td>외교부_X국</td>\n",
       "      <td>NaN</td>\n",
       "      <td>내각</td>\n",
       "      <td>외무성_아프리카-라틴아메리카-아랍국_알제리대사관</td>\n",
       "      <td>NaN</td>\n",
       "      <td>내각</td>\n",
       "      <td>외무성_아프리카-라틴아메리카-아랍국_알제리대사관</td>\n",
       "      <td>Current</td>\n",
       "      <td>Current</td>\n",
       "      <td>NaN</td>\n",
       "      <td>NaN</td>\n",
       "      <td>both</td>\n",
       "      <td>True</td>\n",
       "    </tr>\n",
       "    <tr>\n",
       "      <th>214</th>\n",
       "      <td>True</td>\n",
       "      <td>내각</td>\n",
       "      <td>외무성_아프리카-라틴아메리카-아랍국_콩고민주공화국대사관</td>\n",
       "      <td>외교부_X국</td>\n",
       "      <td>NaN</td>\n",
       "      <td>내각</td>\n",
       "      <td>외무성_아프리카-라틴아메리카-아랍국_콩고민주공화국대사관</td>\n",
       "      <td>NaN</td>\n",
       "      <td>내각</td>\n",
       "      <td>외무성_아프리카-라틴아메리카-아랍국_콩고민주공화국대사관</td>\n",
       "      <td>Current</td>\n",
       "      <td>Current</td>\n",
       "      <td>NaN</td>\n",
       "      <td>NaN</td>\n",
       "      <td>both</td>\n",
       "      <td>True</td>\n",
       "    </tr>\n",
       "    <tr>\n",
       "      <th>217</th>\n",
       "      <td>True</td>\n",
       "      <td>내각</td>\n",
       "      <td>외무성</td>\n",
       "      <td>NaN</td>\n",
       "      <td>NaN</td>\n",
       "      <td>Current</td>\n",
       "      <td>Current</td>\n",
       "      <td>NaN</td>\n",
       "      <td>NaN</td>\n",
       "      <td>NaN</td>\n",
       "      <td>NaN</td>\n",
       "      <td>NaN</td>\n",
       "      <td>NaN</td>\n",
       "      <td>NaN</td>\n",
       "      <td>left_only</td>\n",
       "      <td>True</td>\n",
       "    </tr>\n",
       "    <tr>\n",
       "      <th>218</th>\n",
       "      <td>True</td>\n",
       "      <td>내각</td>\n",
       "      <td>외무성</td>\n",
       "      <td>외무성</td>\n",
       "      <td>NaN</td>\n",
       "      <td>Please_Revise</td>\n",
       "      <td>Please_Revise</td>\n",
       "      <td>NaN</td>\n",
       "      <td>내각</td>\n",
       "      <td>외무성</td>\n",
       "      <td>Current</td>\n",
       "      <td>Current</td>\n",
       "      <td>NaN</td>\n",
       "      <td>NaN</td>\n",
       "      <td>both</td>\n",
       "      <td>True</td>\n",
       "    </tr>\n",
       "    <tr>\n",
       "      <th>219</th>\n",
       "      <td>True</td>\n",
       "      <td>내각</td>\n",
       "      <td>외무성_아프리카-라틴아메리카-아랍국_나이지리아대사관</td>\n",
       "      <td>외무성_X국</td>\n",
       "      <td>NaN</td>\n",
       "      <td>내각</td>\n",
       "      <td>외무성_아프리카-라틴아메리카-아랍국_나이지리아대사관</td>\n",
       "      <td>NaN</td>\n",
       "      <td>내각</td>\n",
       "      <td>외무성_아프리카-라틴아메리카-아랍국_나이지리아대사관</td>\n",
       "      <td>Current</td>\n",
       "      <td>Current</td>\n",
       "      <td>NaN</td>\n",
       "      <td>NaN</td>\n",
       "      <td>both</td>\n",
       "      <td>True</td>\n",
       "    </tr>\n",
       "    <tr>\n",
       "      <th>220</th>\n",
       "      <td>True</td>\n",
       "      <td>내각</td>\n",
       "      <td>외무성_아시아1국_네팔대사관</td>\n",
       "      <td>외무성_X국</td>\n",
       "      <td>NaN</td>\n",
       "      <td>내각</td>\n",
       "      <td>외무성_아시아1국_네팔대사관</td>\n",
       "      <td>NaN</td>\n",
       "      <td>내각</td>\n",
       "      <td>외무성_아시아1국_네팔대사관</td>\n",
       "      <td>Current</td>\n",
       "      <td>Current</td>\n",
       "      <td>NaN</td>\n",
       "      <td>NaN</td>\n",
       "      <td>both</td>\n",
       "      <td>True</td>\n",
       "    </tr>\n",
       "    <tr>\n",
       "      <th>221</th>\n",
       "      <td>True</td>\n",
       "      <td>내각</td>\n",
       "      <td>외무성_유럽2국_독일대사관</td>\n",
       "      <td>외무성_X국</td>\n",
       "      <td>NaN</td>\n",
       "      <td>내각</td>\n",
       "      <td>외무성_유럽2국_독일대사관</td>\n",
       "      <td>NaN</td>\n",
       "      <td>내각</td>\n",
       "      <td>외무성_유럽2국_독일대사관</td>\n",
       "      <td>Current</td>\n",
       "      <td>Current</td>\n",
       "      <td>NaN</td>\n",
       "      <td>NaN</td>\n",
       "      <td>both</td>\n",
       "      <td>True</td>\n",
       "    </tr>\n",
       "    <tr>\n",
       "      <th>222</th>\n",
       "      <td>True</td>\n",
       "      <td>내각</td>\n",
       "      <td>외무성_아시아2국_라오스대사관</td>\n",
       "      <td>외무성_X국</td>\n",
       "      <td>NaN</td>\n",
       "      <td>내각</td>\n",
       "      <td>외무성_아시아2국_라오스대사관</td>\n",
       "      <td>NaN</td>\n",
       "      <td>내각</td>\n",
       "      <td>외무성_아시아2국_라오스대사관</td>\n",
       "      <td>Current</td>\n",
       "      <td>Current</td>\n",
       "      <td>NaN</td>\n",
       "      <td>NaN</td>\n",
       "      <td>both</td>\n",
       "      <td>True</td>\n",
       "    </tr>\n",
       "    <tr>\n",
       "      <th>223</th>\n",
       "      <td>True</td>\n",
       "      <td>내각</td>\n",
       "      <td>외무성_유럽1국_러시아대사관</td>\n",
       "      <td>외무성_X국</td>\n",
       "      <td>NaN</td>\n",
       "      <td>내각</td>\n",
       "      <td>외무성_유럽1국_러시아대사관</td>\n",
       "      <td>NaN</td>\n",
       "      <td>내각</td>\n",
       "      <td>외무성_유럽1국_러시아대사관</td>\n",
       "      <td>Current</td>\n",
       "      <td>Current</td>\n",
       "      <td>NaN</td>\n",
       "      <td>NaN</td>\n",
       "      <td>both</td>\n",
       "      <td>True</td>\n",
       "    </tr>\n",
       "    <tr>\n",
       "      <th>224</th>\n",
       "      <td>True</td>\n",
       "      <td>내각</td>\n",
       "      <td>외무성_유럽1국_루마니아대사관</td>\n",
       "      <td>외무성_X국</td>\n",
       "      <td>NaN</td>\n",
       "      <td>내각</td>\n",
       "      <td>외무성_유럽1국_루마니아대사관</td>\n",
       "      <td>NaN</td>\n",
       "      <td>내각</td>\n",
       "      <td>외무성_유럽1국_루마니아대사관</td>\n",
       "      <td>Current</td>\n",
       "      <td>Current</td>\n",
       "      <td>NaN</td>\n",
       "      <td>NaN</td>\n",
       "      <td>both</td>\n",
       "      <td>True</td>\n",
       "    </tr>\n",
       "    <tr>\n",
       "      <th>229</th>\n",
       "      <td>True</td>\n",
       "      <td>내각</td>\n",
       "      <td>외무성_유럽1국_벨라루스대사관</td>\n",
       "      <td>외무성_X국</td>\n",
       "      <td>NaN</td>\n",
       "      <td>내각</td>\n",
       "      <td>외무성_유럽1국_벨라루스대사관</td>\n",
       "      <td>NaN</td>\n",
       "      <td>내각</td>\n",
       "      <td>외무성_유럽1국_벨라루스대사관</td>\n",
       "      <td>Current</td>\n",
       "      <td>Current</td>\n",
       "      <td>NaN</td>\n",
       "      <td>NaN</td>\n",
       "      <td>both</td>\n",
       "      <td>True</td>\n",
       "    </tr>\n",
       "    <tr>\n",
       "      <th>230</th>\n",
       "      <td>True</td>\n",
       "      <td>내각</td>\n",
       "      <td>외무성_유럽1국_불가리아대사관</td>\n",
       "      <td>외무성_X국</td>\n",
       "      <td>NaN</td>\n",
       "      <td>내각</td>\n",
       "      <td>외무성_유럽1국_불가리아대사관</td>\n",
       "      <td>NaN</td>\n",
       "      <td>내각</td>\n",
       "      <td>외무성_유럽1국_불가리아대사관</td>\n",
       "      <td>Current</td>\n",
       "      <td>Current</td>\n",
       "      <td>NaN</td>\n",
       "      <td>NaN</td>\n",
       "      <td>both</td>\n",
       "      <td>True</td>\n",
       "    </tr>\n",
       "    <tr>\n",
       "      <th>231</th>\n",
       "      <td>True</td>\n",
       "      <td>내각</td>\n",
       "      <td>외무성_유럽2국_스웨덴대사관</td>\n",
       "      <td>외무성_X국</td>\n",
       "      <td>NaN</td>\n",
       "      <td>내각</td>\n",
       "      <td>외무성_유럽2국_스웨덴대사관</td>\n",
       "      <td>NaN</td>\n",
       "      <td>내각</td>\n",
       "      <td>외무성_유럽2국_스웨덴대사관</td>\n",
       "      <td>Current</td>\n",
       "      <td>Current</td>\n",
       "      <td>NaN</td>\n",
       "      <td>NaN</td>\n",
       "      <td>both</td>\n",
       "      <td>True</td>\n",
       "    </tr>\n",
       "    <tr>\n",
       "      <th>232</th>\n",
       "      <td>True</td>\n",
       "      <td>내각</td>\n",
       "      <td>외무성_유럽2국_스위스대사관</td>\n",
       "      <td>외무성_X국</td>\n",
       "      <td>NaN</td>\n",
       "      <td>내각</td>\n",
       "      <td>외무성_유럽2국_스위스대사관</td>\n",
       "      <td>NaN</td>\n",
       "      <td>내각</td>\n",
       "      <td>외무성_유럽2국_스위스대사관</td>\n",
       "      <td>Current</td>\n",
       "      <td>Current</td>\n",
       "      <td>NaN</td>\n",
       "      <td>NaN</td>\n",
       "      <td>both</td>\n",
       "      <td>True</td>\n",
       "    </tr>\n",
       "    <tr>\n",
       "      <th>233</th>\n",
       "      <td>True</td>\n",
       "      <td>내각</td>\n",
       "      <td>외무성_아프리카-라틴아메리카-아랍국_시리아대사관</td>\n",
       "      <td>외무성_X국</td>\n",
       "      <td>NaN</td>\n",
       "      <td>내각</td>\n",
       "      <td>외무성_아프리카-라틴아메리카-아랍국_시리아대사관</td>\n",
       "      <td>NaN</td>\n",
       "      <td>내각</td>\n",
       "      <td>외무성_아프리카-라틴아메리카-아랍국_시리아대사관</td>\n",
       "      <td>Current</td>\n",
       "      <td>Current</td>\n",
       "      <td>NaN</td>\n",
       "      <td>NaN</td>\n",
       "      <td>both</td>\n",
       "      <td>True</td>\n",
       "    </tr>\n",
       "    <tr>\n",
       "      <th>234</th>\n",
       "      <td>True</td>\n",
       "      <td>내각</td>\n",
       "      <td>외무성_아시아2국_싱가포르대사관</td>\n",
       "      <td>외무성_X국</td>\n",
       "      <td>NaN</td>\n",
       "      <td>내각</td>\n",
       "      <td>외무성_아시아2국_싱가포르대사관</td>\n",
       "      <td>NaN</td>\n",
       "      <td>내각</td>\n",
       "      <td>외무성_아시아2국_싱가포르대사관</td>\n",
       "      <td>Current</td>\n",
       "      <td>Current</td>\n",
       "      <td>NaN</td>\n",
       "      <td>NaN</td>\n",
       "      <td>both</td>\n",
       "      <td>True</td>\n",
       "    </tr>\n",
       "    <tr>\n",
       "      <th>235</th>\n",
       "      <td>True</td>\n",
       "      <td>내각</td>\n",
       "      <td>외무성_아시아2국_싱가포르대사관</td>\n",
       "      <td>외무성_X국</td>\n",
       "      <td>NaN</td>\n",
       "      <td>Current</td>\n",
       "      <td>Current</td>\n",
       "      <td>NaN</td>\n",
       "      <td>내각</td>\n",
       "      <td>외무성_아시아2국_싱가포르대사관</td>\n",
       "      <td>내각</td>\n",
       "      <td>외무성_아시아2국_싱가포르대사관</td>\n",
       "      <td>Current</td>\n",
       "      <td>Current</td>\n",
       "      <td>both</td>\n",
       "      <td>True</td>\n",
       "    </tr>\n",
       "    <tr>\n",
       "      <th>236</th>\n",
       "      <td>True</td>\n",
       "      <td>내각</td>\n",
       "      <td>외무성_아프리카-라틴아메리카-아랍국_알제리대사관</td>\n",
       "      <td>외무성_X국</td>\n",
       "      <td>NaN</td>\n",
       "      <td>내각</td>\n",
       "      <td>외무성_아프리카-라틴아메리카-아랍국_알제리대사관</td>\n",
       "      <td>NaN</td>\n",
       "      <td>내각</td>\n",
       "      <td>외무성_아프리카-라틴아메리카-아랍국_알제리대사관</td>\n",
       "      <td>Current</td>\n",
       "      <td>Current</td>\n",
       "      <td>NaN</td>\n",
       "      <td>NaN</td>\n",
       "      <td>both</td>\n",
       "      <td>True</td>\n",
       "    </tr>\n",
       "    <tr>\n",
       "      <th>237</th>\n",
       "      <td>True</td>\n",
       "      <td>내각</td>\n",
       "      <td>외무성_아프리카-라틴아메리카-아랍국_앙골라대사관</td>\n",
       "      <td>외무성_X국</td>\n",
       "      <td>NaN</td>\n",
       "      <td>내각</td>\n",
       "      <td>외무성_아프리카-라틴아메리카-아랍국_앙골라대사관</td>\n",
       "      <td>NaN</td>\n",
       "      <td>내각</td>\n",
       "      <td>외무성_아프리카-라틴아메리카-아랍국_앙골라대사관</td>\n",
       "      <td>Current</td>\n",
       "      <td>Current</td>\n",
       "      <td>NaN</td>\n",
       "      <td>NaN</td>\n",
       "      <td>both</td>\n",
       "      <td>True</td>\n",
       "    </tr>\n",
       "    <tr>\n",
       "      <th>238</th>\n",
       "      <td>True</td>\n",
       "      <td>내각</td>\n",
       "      <td>외무성_아프리카-라틴아메리카-아랍국_에티오피아대사관</td>\n",
       "      <td>외무성_X국</td>\n",
       "      <td>NaN</td>\n",
       "      <td>내각</td>\n",
       "      <td>외무성_아프리카-라틴아메리카-아랍국_에티오피아대사관</td>\n",
       "      <td>NaN</td>\n",
       "      <td>내각</td>\n",
       "      <td>외무성_아프리카-라틴아메리카-아랍국_에티오피아대사관</td>\n",
       "      <td>Current</td>\n",
       "      <td>Current</td>\n",
       "      <td>NaN</td>\n",
       "      <td>NaN</td>\n",
       "      <td>both</td>\n",
       "      <td>True</td>\n",
       "    </tr>\n",
       "    <tr>\n",
       "      <th>239</th>\n",
       "      <td>True</td>\n",
       "      <td>내각</td>\n",
       "      <td>외무성_유럽2국_영국대사관</td>\n",
       "      <td>외무성_X국</td>\n",
       "      <td>NaN</td>\n",
       "      <td>내각</td>\n",
       "      <td>외무성_유럽2국_영국대사관</td>\n",
       "      <td>NaN</td>\n",
       "      <td>내각</td>\n",
       "      <td>외무성_유럽2국_영국대사관</td>\n",
       "      <td>Current</td>\n",
       "      <td>Current</td>\n",
       "      <td>NaN</td>\n",
       "      <td>NaN</td>\n",
       "      <td>both</td>\n",
       "      <td>True</td>\n",
       "    </tr>\n",
       "    <tr>\n",
       "      <th>240</th>\n",
       "      <td>True</td>\n",
       "      <td>내각</td>\n",
       "      <td>외무성_유럽2국_오스트리아대사관</td>\n",
       "      <td>외무성_X국</td>\n",
       "      <td>NaN</td>\n",
       "      <td>내각</td>\n",
       "      <td>외무성_유럽2국_오스트리아대사관</td>\n",
       "      <td>NaN</td>\n",
       "      <td>내각</td>\n",
       "      <td>외무성_유럽2국_오스트리아대사관</td>\n",
       "      <td>Current</td>\n",
       "      <td>Current</td>\n",
       "      <td>NaN</td>\n",
       "      <td>NaN</td>\n",
       "      <td>both</td>\n",
       "      <td>True</td>\n",
       "    </tr>\n",
       "    <tr>\n",
       "      <th>241</th>\n",
       "      <td>True</td>\n",
       "      <td>내각</td>\n",
       "      <td>외무성_아프리카-라틴아메리카-아랍국_우간다대사관</td>\n",
       "      <td>외무성_X국</td>\n",
       "      <td>NaN</td>\n",
       "      <td>Current</td>\n",
       "      <td>Current</td>\n",
       "      <td>NaN</td>\n",
       "      <td>내각</td>\n",
       "      <td>외무성_아프리카-라틴아메리카-아랍국_우간다대사관</td>\n",
       "      <td>내각</td>\n",
       "      <td>외무성_아프리카-라틴아메리카-아랍국_우간다대사관</td>\n",
       "      <td>Current</td>\n",
       "      <td>Current</td>\n",
       "      <td>both</td>\n",
       "      <td>True</td>\n",
       "    </tr>\n",
       "    <tr>\n",
       "      <th>242</th>\n",
       "      <td>True</td>\n",
       "      <td>내각</td>\n",
       "      <td>외무성_아프리카-라틴아메리카-아랍국_이집트대사관</td>\n",
       "      <td>외무성_X국</td>\n",
       "      <td>NaN</td>\n",
       "      <td>내각</td>\n",
       "      <td>외무성_아프리카-라틴아메리카-아랍국_이집트대사관</td>\n",
       "      <td>NaN</td>\n",
       "      <td>내각</td>\n",
       "      <td>외무성_아프리카-라틴아메리카-아랍국_이집트대사관</td>\n",
       "      <td>Current</td>\n",
       "      <td>Current</td>\n",
       "      <td>NaN</td>\n",
       "      <td>NaN</td>\n",
       "      <td>both</td>\n",
       "      <td>True</td>\n",
       "    </tr>\n",
       "    <tr>\n",
       "      <th>243</th>\n",
       "      <td>True</td>\n",
       "      <td>내각</td>\n",
       "      <td>외무성_아시아2국_인도네시아대사관</td>\n",
       "      <td>외무성_X국</td>\n",
       "      <td>NaN</td>\n",
       "      <td>내각</td>\n",
       "      <td>외무성_아시아2국_인도네시아대사관</td>\n",
       "      <td>NaN</td>\n",
       "      <td>내각</td>\n",
       "      <td>외무성_아시아2국_인도네시아대사관</td>\n",
       "      <td>Current</td>\n",
       "      <td>Current</td>\n",
       "      <td>NaN</td>\n",
       "      <td>NaN</td>\n",
       "      <td>both</td>\n",
       "      <td>True</td>\n",
       "    </tr>\n",
       "    <tr>\n",
       "      <th>244</th>\n",
       "      <td>True</td>\n",
       "      <td>내각</td>\n",
       "      <td>외무성_아시아1국_중국대사관</td>\n",
       "      <td>외무성_X국</td>\n",
       "      <td>NaN</td>\n",
       "      <td>내각</td>\n",
       "      <td>외무성_아시아1국_중국대사관</td>\n",
       "      <td>NaN</td>\n",
       "      <td>내각</td>\n",
       "      <td>외무성_아시아1국_중국대사관</td>\n",
       "      <td>Current</td>\n",
       "      <td>Current</td>\n",
       "      <td>NaN</td>\n",
       "      <td>NaN</td>\n",
       "      <td>both</td>\n",
       "      <td>True</td>\n",
       "    </tr>\n",
       "    <tr>\n",
       "      <th>245</th>\n",
       "      <td>True</td>\n",
       "      <td>내각</td>\n",
       "      <td>외무성_유럽1국_체코대사관</td>\n",
       "      <td>외무성_X국</td>\n",
       "      <td>NaN</td>\n",
       "      <td>내각</td>\n",
       "      <td>외무성_유럽1국_체코대사관</td>\n",
       "      <td>NaN</td>\n",
       "      <td>내각</td>\n",
       "      <td>외무성_유럽1국_체코대사관</td>\n",
       "      <td>Current</td>\n",
       "      <td>Current</td>\n",
       "      <td>NaN</td>\n",
       "      <td>NaN</td>\n",
       "      <td>both</td>\n",
       "      <td>True</td>\n",
       "    </tr>\n",
       "    <tr>\n",
       "      <th>246</th>\n",
       "      <td>True</td>\n",
       "      <td>내각</td>\n",
       "      <td>외무성_아시아2국_캄보디아대사관</td>\n",
       "      <td>외무성_X국</td>\n",
       "      <td>NaN</td>\n",
       "      <td>내각</td>\n",
       "      <td>외무성_아시아2국_캄보디아대사관</td>\n",
       "      <td>NaN</td>\n",
       "      <td>내각</td>\n",
       "      <td>외무성_아시아2국_캄보디아대사관</td>\n",
       "      <td>Current</td>\n",
       "      <td>Current</td>\n",
       "      <td>NaN</td>\n",
       "      <td>NaN</td>\n",
       "      <td>both</td>\n",
       "      <td>True</td>\n",
       "    </tr>\n",
       "    <tr>\n",
       "      <th>248</th>\n",
       "      <td>True</td>\n",
       "      <td>내각</td>\n",
       "      <td>외무성_아프리카-라틴아메리카-아랍국_콩고민주공화국대사관</td>\n",
       "      <td>외무성_X국</td>\n",
       "      <td>NaN</td>\n",
       "      <td>내각</td>\n",
       "      <td>외무성_아프리카-라틴아메리카-아랍국_콩고민주공화국대사관</td>\n",
       "      <td>NaN</td>\n",
       "      <td>내각</td>\n",
       "      <td>외무성_아프리카-라틴아메리카-아랍국_콩고민주공화국대사관</td>\n",
       "      <td>Current</td>\n",
       "      <td>Current</td>\n",
       "      <td>NaN</td>\n",
       "      <td>NaN</td>\n",
       "      <td>both</td>\n",
       "      <td>True</td>\n",
       "    </tr>\n",
       "    <tr>\n",
       "      <th>249</th>\n",
       "      <td>True</td>\n",
       "      <td>내각</td>\n",
       "      <td>외무성_아프리카-라틴아메리카-아랍국_쿠바대사관</td>\n",
       "      <td>외무성_X국</td>\n",
       "      <td>NaN</td>\n",
       "      <td>내각</td>\n",
       "      <td>외무성_아프리카-라틴아메리카-아랍국_쿠바대사관</td>\n",
       "      <td>NaN</td>\n",
       "      <td>내각</td>\n",
       "      <td>외무성_아프리카-라틴아메리카-아랍국_쿠바대사관</td>\n",
       "      <td>Current</td>\n",
       "      <td>Current</td>\n",
       "      <td>NaN</td>\n",
       "      <td>NaN</td>\n",
       "      <td>both</td>\n",
       "      <td>True</td>\n",
       "    </tr>\n",
       "    <tr>\n",
       "      <th>250</th>\n",
       "      <td>True</td>\n",
       "      <td>내각</td>\n",
       "      <td>외무성_아프리카-라틴아메리카-아랍국_쿠웨이트대사관</td>\n",
       "      <td>외무성_X국</td>\n",
       "      <td>NaN</td>\n",
       "      <td>내각</td>\n",
       "      <td>외무성_아프리카-라틴아메리카-아랍국_쿠웨이트대사관</td>\n",
       "      <td>NaN</td>\n",
       "      <td>내각</td>\n",
       "      <td>외무성_아프리카-라틴아메리카-아랍국_쿠웨이트대사관</td>\n",
       "      <td>Current</td>\n",
       "      <td>Current</td>\n",
       "      <td>NaN</td>\n",
       "      <td>NaN</td>\n",
       "      <td>both</td>\n",
       "      <td>True</td>\n",
       "    </tr>\n",
       "    <tr>\n",
       "      <th>251</th>\n",
       "      <td>True</td>\n",
       "      <td>내각</td>\n",
       "      <td>외무성_유럽2국_폴란드대사관</td>\n",
       "      <td>외무성_X국</td>\n",
       "      <td>NaN</td>\n",
       "      <td>내각</td>\n",
       "      <td>외무성_유럽2국_폴란드대사관</td>\n",
       "      <td>NaN</td>\n",
       "      <td>내각</td>\n",
       "      <td>외무성_유럽2국_폴란드대사관</td>\n",
       "      <td>Current</td>\n",
       "      <td>Current</td>\n",
       "      <td>NaN</td>\n",
       "      <td>NaN</td>\n",
       "      <td>both</td>\n",
       "      <td>True</td>\n",
       "    </tr>\n",
       "    <tr>\n",
       "      <th>252</th>\n",
       "      <td>True</td>\n",
       "      <td>내각</td>\n",
       "      <td>외무성_유럽2국_프랑스대표부</td>\n",
       "      <td>외무성_X국</td>\n",
       "      <td>NaN</td>\n",
       "      <td>내각</td>\n",
       "      <td>외무성_유럽2국_프랑스대표부</td>\n",
       "      <td>NaN</td>\n",
       "      <td>내각</td>\n",
       "      <td>외무성_유럽2국_프랑스대표부</td>\n",
       "      <td>Current</td>\n",
       "      <td>Current</td>\n",
       "      <td>NaN</td>\n",
       "      <td>NaN</td>\n",
       "      <td>both</td>\n",
       "      <td>True</td>\n",
       "    </tr>\n",
       "    <tr>\n",
       "      <th>259</th>\n",
       "      <td>True</td>\n",
       "      <td>내각</td>\n",
       "      <td>외무성_아시아1국_네팔대사관</td>\n",
       "      <td>외무성_아시아1국</td>\n",
       "      <td>NaN</td>\n",
       "      <td>Current</td>\n",
       "      <td>Current</td>\n",
       "      <td>*org4 확인필요</td>\n",
       "      <td>NaN</td>\n",
       "      <td>NaN</td>\n",
       "      <td>NaN</td>\n",
       "      <td>NaN</td>\n",
       "      <td>NaN</td>\n",
       "      <td>NaN</td>\n",
       "      <td>left_only</td>\n",
       "      <td>True</td>\n",
       "    </tr>\n",
       "    <tr>\n",
       "      <th>262</th>\n",
       "      <td>True</td>\n",
       "      <td>내각</td>\n",
       "      <td>외무성_아시아1국_중국대사관</td>\n",
       "      <td>외무성_아시아1국</td>\n",
       "      <td>NaN</td>\n",
       "      <td>Current</td>\n",
       "      <td>Current</td>\n",
       "      <td>NaN</td>\n",
       "      <td>NaN</td>\n",
       "      <td>NaN</td>\n",
       "      <td>NaN</td>\n",
       "      <td>NaN</td>\n",
       "      <td>NaN</td>\n",
       "      <td>NaN</td>\n",
       "      <td>left_only</td>\n",
       "      <td>True</td>\n",
       "    </tr>\n",
       "    <tr>\n",
       "      <th>265</th>\n",
       "      <td>True</td>\n",
       "      <td>내각</td>\n",
       "      <td>외무성_아시아2국_라오스대사관</td>\n",
       "      <td>외무성_아시아2국</td>\n",
       "      <td>NaN</td>\n",
       "      <td>Current</td>\n",
       "      <td>Current</td>\n",
       "      <td>NaN</td>\n",
       "      <td>NaN</td>\n",
       "      <td>NaN</td>\n",
       "      <td>NaN</td>\n",
       "      <td>NaN</td>\n",
       "      <td>NaN</td>\n",
       "      <td>NaN</td>\n",
       "      <td>left_only</td>\n",
       "      <td>True</td>\n",
       "    </tr>\n",
       "    <tr>\n",
       "      <th>269</th>\n",
       "      <td>True</td>\n",
       "      <td>내각</td>\n",
       "      <td>외무성_아시아2국_싱가포르대사관</td>\n",
       "      <td>외무성_아시아2국</td>\n",
       "      <td>NaN</td>\n",
       "      <td>Current</td>\n",
       "      <td>Current</td>\n",
       "      <td>NaN</td>\n",
       "      <td>NaN</td>\n",
       "      <td>NaN</td>\n",
       "      <td>NaN</td>\n",
       "      <td>NaN</td>\n",
       "      <td>NaN</td>\n",
       "      <td>NaN</td>\n",
       "      <td>left_only</td>\n",
       "      <td>True</td>\n",
       "    </tr>\n",
       "    <tr>\n",
       "      <th>270</th>\n",
       "      <td>True</td>\n",
       "      <td>내각</td>\n",
       "      <td>외무성_아시아2국_인도네시아대사관</td>\n",
       "      <td>외무성_아시아2국</td>\n",
       "      <td>NaN</td>\n",
       "      <td>Current</td>\n",
       "      <td>Current</td>\n",
       "      <td>NaN</td>\n",
       "      <td>NaN</td>\n",
       "      <td>NaN</td>\n",
       "      <td>NaN</td>\n",
       "      <td>NaN</td>\n",
       "      <td>NaN</td>\n",
       "      <td>NaN</td>\n",
       "      <td>left_only</td>\n",
       "      <td>True</td>\n",
       "    </tr>\n",
       "    <tr>\n",
       "      <th>272</th>\n",
       "      <td>True</td>\n",
       "      <td>내각</td>\n",
       "      <td>외무성_아시아2국_캄보디아대사관</td>\n",
       "      <td>외무성_아시아2국</td>\n",
       "      <td>NaN</td>\n",
       "      <td>Current</td>\n",
       "      <td>Current</td>\n",
       "      <td>NaN</td>\n",
       "      <td>NaN</td>\n",
       "      <td>NaN</td>\n",
       "      <td>NaN</td>\n",
       "      <td>NaN</td>\n",
       "      <td>NaN</td>\n",
       "      <td>NaN</td>\n",
       "      <td>left_only</td>\n",
       "      <td>True</td>\n",
       "    </tr>\n",
       "    <tr>\n",
       "      <th>277</th>\n",
       "      <td>True</td>\n",
       "      <td>내각</td>\n",
       "      <td>외무성_아프리카-라틴아메리카-아랍국_나이지리아대사관</td>\n",
       "      <td>외무성_아프리카-라틴아메리카-아랍국</td>\n",
       "      <td>NaN</td>\n",
       "      <td>Current</td>\n",
       "      <td>Current</td>\n",
       "      <td>NaN</td>\n",
       "      <td>NaN</td>\n",
       "      <td>NaN</td>\n",
       "      <td>NaN</td>\n",
       "      <td>NaN</td>\n",
       "      <td>NaN</td>\n",
       "      <td>NaN</td>\n",
       "      <td>left_only</td>\n",
       "      <td>True</td>\n",
       "    </tr>\n",
       "    <tr>\n",
       "      <th>284</th>\n",
       "      <td>True</td>\n",
       "      <td>내각</td>\n",
       "      <td>외무성_아프리카-라틴아메리카-아랍국_시리아대사관</td>\n",
       "      <td>외무성_아프리카-라틴아메리카-아랍국</td>\n",
       "      <td>NaN</td>\n",
       "      <td>Current</td>\n",
       "      <td>Current</td>\n",
       "      <td>NaN</td>\n",
       "      <td>NaN</td>\n",
       "      <td>NaN</td>\n",
       "      <td>NaN</td>\n",
       "      <td>NaN</td>\n",
       "      <td>NaN</td>\n",
       "      <td>NaN</td>\n",
       "      <td>left_only</td>\n",
       "      <td>True</td>\n",
       "    </tr>\n",
       "    <tr>\n",
       "      <th>285</th>\n",
       "      <td>True</td>\n",
       "      <td>내각</td>\n",
       "      <td>외무성_아프리카-라틴아메리카-아랍국_알제리대사관</td>\n",
       "      <td>외무성_아프리카-라틴아메리카-아랍국</td>\n",
       "      <td>NaN</td>\n",
       "      <td>Current</td>\n",
       "      <td>Current</td>\n",
       "      <td>참고 : https://www.mofa.go.kr/www/wpge/m_4178/co...</td>\n",
       "      <td>NaN</td>\n",
       "      <td>NaN</td>\n",
       "      <td>NaN</td>\n",
       "      <td>NaN</td>\n",
       "      <td>NaN</td>\n",
       "      <td>NaN</td>\n",
       "      <td>left_only</td>\n",
       "      <td>True</td>\n",
       "    </tr>\n",
       "    <tr>\n",
       "      <th>286</th>\n",
       "      <td>True</td>\n",
       "      <td>내각</td>\n",
       "      <td>외무성_아프리카-라틴아메리카-아랍국_앙골라대사관</td>\n",
       "      <td>외무성_아프리카-라틴아메리카-아랍국</td>\n",
       "      <td>NaN</td>\n",
       "      <td>Current</td>\n",
       "      <td>Current</td>\n",
       "      <td>NaN</td>\n",
       "      <td>NaN</td>\n",
       "      <td>NaN</td>\n",
       "      <td>NaN</td>\n",
       "      <td>NaN</td>\n",
       "      <td>NaN</td>\n",
       "      <td>NaN</td>\n",
       "      <td>left_only</td>\n",
       "      <td>True</td>\n",
       "    </tr>\n",
       "    <tr>\n",
       "      <th>287</th>\n",
       "      <td>True</td>\n",
       "      <td>내각</td>\n",
       "      <td>외무성_아프리카-라틴아메리카-아랍국_에티오피아대사관</td>\n",
       "      <td>외무성_아프리카-라틴아메리카-아랍국</td>\n",
       "      <td>NaN</td>\n",
       "      <td>Current</td>\n",
       "      <td>Current</td>\n",
       "      <td>NaN</td>\n",
       "      <td>NaN</td>\n",
       "      <td>NaN</td>\n",
       "      <td>NaN</td>\n",
       "      <td>NaN</td>\n",
       "      <td>NaN</td>\n",
       "      <td>NaN</td>\n",
       "      <td>left_only</td>\n",
       "      <td>True</td>\n",
       "    </tr>\n",
       "    <tr>\n",
       "      <th>288</th>\n",
       "      <td>True</td>\n",
       "      <td>내각</td>\n",
       "      <td>외무성_아프리카-라틴아메리카-아랍국_우간다대사관</td>\n",
       "      <td>외무성_아프리카-라틴아메리카-아랍국</td>\n",
       "      <td>NaN</td>\n",
       "      <td>Current</td>\n",
       "      <td>Current</td>\n",
       "      <td>NaN</td>\n",
       "      <td>NaN</td>\n",
       "      <td>NaN</td>\n",
       "      <td>NaN</td>\n",
       "      <td>NaN</td>\n",
       "      <td>NaN</td>\n",
       "      <td>NaN</td>\n",
       "      <td>left_only</td>\n",
       "      <td>True</td>\n",
       "    </tr>\n",
       "    <tr>\n",
       "      <th>290</th>\n",
       "      <td>True</td>\n",
       "      <td>내각</td>\n",
       "      <td>외무성_아프리카-라틴아메리카-아랍국_이집트대사관</td>\n",
       "      <td>외무성_아프리카-라틴아메리카-아랍국</td>\n",
       "      <td>NaN</td>\n",
       "      <td>Current</td>\n",
       "      <td>Current</td>\n",
       "      <td>NaN</td>\n",
       "      <td>NaN</td>\n",
       "      <td>NaN</td>\n",
       "      <td>NaN</td>\n",
       "      <td>NaN</td>\n",
       "      <td>NaN</td>\n",
       "      <td>NaN</td>\n",
       "      <td>left_only</td>\n",
       "      <td>True</td>\n",
       "    </tr>\n",
       "    <tr>\n",
       "      <th>292</th>\n",
       "      <td>True</td>\n",
       "      <td>내각</td>\n",
       "      <td>외무성_아프리카-라틴아메리카-아랍국_콩고민주공화국대사관</td>\n",
       "      <td>외무성_아프리카-라틴아메리카-아랍국</td>\n",
       "      <td>NaN</td>\n",
       "      <td>Current</td>\n",
       "      <td>Current</td>\n",
       "      <td>NaN</td>\n",
       "      <td>NaN</td>\n",
       "      <td>NaN</td>\n",
       "      <td>NaN</td>\n",
       "      <td>NaN</td>\n",
       "      <td>NaN</td>\n",
       "      <td>NaN</td>\n",
       "      <td>left_only</td>\n",
       "      <td>True</td>\n",
       "    </tr>\n",
       "    <tr>\n",
       "      <th>293</th>\n",
       "      <td>True</td>\n",
       "      <td>내각</td>\n",
       "      <td>외무성_아프리카-라틴아메리카-아랍국_쿠바대사관</td>\n",
       "      <td>외무성_아프리카-라틴아메리카-아랍국</td>\n",
       "      <td>NaN</td>\n",
       "      <td>Current</td>\n",
       "      <td>Current</td>\n",
       "      <td>NaN</td>\n",
       "      <td>NaN</td>\n",
       "      <td>NaN</td>\n",
       "      <td>NaN</td>\n",
       "      <td>NaN</td>\n",
       "      <td>NaN</td>\n",
       "      <td>NaN</td>\n",
       "      <td>left_only</td>\n",
       "      <td>True</td>\n",
       "    </tr>\n",
       "    <tr>\n",
       "      <th>294</th>\n",
       "      <td>True</td>\n",
       "      <td>내각</td>\n",
       "      <td>외무성_아프리카-라틴아메리카-아랍국_쿠웨이트대사관</td>\n",
       "      <td>외무성_아프리카-라틴아메리카-아랍국</td>\n",
       "      <td>NaN</td>\n",
       "      <td>Current</td>\n",
       "      <td>Current</td>\n",
       "      <td>NaN</td>\n",
       "      <td>NaN</td>\n",
       "      <td>NaN</td>\n",
       "      <td>NaN</td>\n",
       "      <td>NaN</td>\n",
       "      <td>NaN</td>\n",
       "      <td>NaN</td>\n",
       "      <td>left_only</td>\n",
       "      <td>True</td>\n",
       "    </tr>\n",
       "    <tr>\n",
       "      <th>299</th>\n",
       "      <td>True</td>\n",
       "      <td>내각</td>\n",
       "      <td>외무성_유럽1국_러시아대사관</td>\n",
       "      <td>외무성_유럽1국</td>\n",
       "      <td>NaN</td>\n",
       "      <td>Current</td>\n",
       "      <td>Current</td>\n",
       "      <td>NaN</td>\n",
       "      <td>NaN</td>\n",
       "      <td>NaN</td>\n",
       "      <td>NaN</td>\n",
       "      <td>NaN</td>\n",
       "      <td>NaN</td>\n",
       "      <td>NaN</td>\n",
       "      <td>left_only</td>\n",
       "      <td>True</td>\n",
       "    </tr>\n",
       "    <tr>\n",
       "      <th>300</th>\n",
       "      <td>True</td>\n",
       "      <td>내각</td>\n",
       "      <td>외무성_유럽1국_루마니아대사관</td>\n",
       "      <td>외무성_유럽1국</td>\n",
       "      <td>NaN</td>\n",
       "      <td>Current</td>\n",
       "      <td>Current</td>\n",
       "      <td>NaN</td>\n",
       "      <td>NaN</td>\n",
       "      <td>NaN</td>\n",
       "      <td>NaN</td>\n",
       "      <td>NaN</td>\n",
       "      <td>NaN</td>\n",
       "      <td>NaN</td>\n",
       "      <td>left_only</td>\n",
       "      <td>True</td>\n",
       "    </tr>\n",
       "    <tr>\n",
       "      <th>301</th>\n",
       "      <td>True</td>\n",
       "      <td>내각</td>\n",
       "      <td>외무성_유럽1국_벨라루스대사관</td>\n",
       "      <td>외무성_유럽1국</td>\n",
       "      <td>NaN</td>\n",
       "      <td>Current</td>\n",
       "      <td>Current</td>\n",
       "      <td>NaN</td>\n",
       "      <td>NaN</td>\n",
       "      <td>NaN</td>\n",
       "      <td>NaN</td>\n",
       "      <td>NaN</td>\n",
       "      <td>NaN</td>\n",
       "      <td>NaN</td>\n",
       "      <td>left_only</td>\n",
       "      <td>True</td>\n",
       "    </tr>\n",
       "    <tr>\n",
       "      <th>302</th>\n",
       "      <td>True</td>\n",
       "      <td>내각</td>\n",
       "      <td>외무성_유럽1국_불가리아대사관</td>\n",
       "      <td>외무성_유럽1국</td>\n",
       "      <td>NaN</td>\n",
       "      <td>Current</td>\n",
       "      <td>Current</td>\n",
       "      <td>NaN</td>\n",
       "      <td>NaN</td>\n",
       "      <td>NaN</td>\n",
       "      <td>NaN</td>\n",
       "      <td>NaN</td>\n",
       "      <td>NaN</td>\n",
       "      <td>NaN</td>\n",
       "      <td>left_only</td>\n",
       "      <td>True</td>\n",
       "    </tr>\n",
       "    <tr>\n",
       "      <th>304</th>\n",
       "      <td>True</td>\n",
       "      <td>내각</td>\n",
       "      <td>외무성_유럽1국_체코대사관</td>\n",
       "      <td>외무성_유럽1국</td>\n",
       "      <td>NaN</td>\n",
       "      <td>Current</td>\n",
       "      <td>Current</td>\n",
       "      <td>*org4 확인필요</td>\n",
       "      <td>NaN</td>\n",
       "      <td>NaN</td>\n",
       "      <td>NaN</td>\n",
       "      <td>NaN</td>\n",
       "      <td>NaN</td>\n",
       "      <td>NaN</td>\n",
       "      <td>left_only</td>\n",
       "      <td>True</td>\n",
       "    </tr>\n",
       "    <tr>\n",
       "      <th>306</th>\n",
       "      <td>True</td>\n",
       "      <td>내각</td>\n",
       "      <td>외무성_유럽2국_독일대사관</td>\n",
       "      <td>외무성_유럽2국</td>\n",
       "      <td>NaN</td>\n",
       "      <td>Current</td>\n",
       "      <td>Current</td>\n",
       "      <td>NaN</td>\n",
       "      <td>NaN</td>\n",
       "      <td>NaN</td>\n",
       "      <td>NaN</td>\n",
       "      <td>NaN</td>\n",
       "      <td>NaN</td>\n",
       "      <td>NaN</td>\n",
       "      <td>left_only</td>\n",
       "      <td>True</td>\n",
       "    </tr>\n",
       "    <tr>\n",
       "      <th>307</th>\n",
       "      <td>True</td>\n",
       "      <td>내각</td>\n",
       "      <td>외무성_유럽2국_스웨덴대사관</td>\n",
       "      <td>외무성_유럽2국</td>\n",
       "      <td>NaN</td>\n",
       "      <td>Current</td>\n",
       "      <td>Current</td>\n",
       "      <td>*org4 확인필요</td>\n",
       "      <td>NaN</td>\n",
       "      <td>NaN</td>\n",
       "      <td>NaN</td>\n",
       "      <td>NaN</td>\n",
       "      <td>NaN</td>\n",
       "      <td>NaN</td>\n",
       "      <td>left_only</td>\n",
       "      <td>True</td>\n",
       "    </tr>\n",
       "    <tr>\n",
       "      <th>308</th>\n",
       "      <td>True</td>\n",
       "      <td>내각</td>\n",
       "      <td>외무성_유럽2국_스위스대사관</td>\n",
       "      <td>외무성_유럽2국</td>\n",
       "      <td>NaN</td>\n",
       "      <td>Current</td>\n",
       "      <td>Current</td>\n",
       "      <td>*org4 확인필요</td>\n",
       "      <td>NaN</td>\n",
       "      <td>NaN</td>\n",
       "      <td>NaN</td>\n",
       "      <td>NaN</td>\n",
       "      <td>NaN</td>\n",
       "      <td>NaN</td>\n",
       "      <td>left_only</td>\n",
       "      <td>True</td>\n",
       "    </tr>\n",
       "    <tr>\n",
       "      <th>310</th>\n",
       "      <td>True</td>\n",
       "      <td>내각</td>\n",
       "      <td>외무성_유럽2국_영국대사관</td>\n",
       "      <td>외무성_유럽2국</td>\n",
       "      <td>NaN</td>\n",
       "      <td>Current</td>\n",
       "      <td>Current</td>\n",
       "      <td>NaN</td>\n",
       "      <td>NaN</td>\n",
       "      <td>NaN</td>\n",
       "      <td>NaN</td>\n",
       "      <td>NaN</td>\n",
       "      <td>NaN</td>\n",
       "      <td>NaN</td>\n",
       "      <td>left_only</td>\n",
       "      <td>True</td>\n",
       "    </tr>\n",
       "    <tr>\n",
       "      <th>311</th>\n",
       "      <td>True</td>\n",
       "      <td>내각</td>\n",
       "      <td>외무성_유럽2국_오스트리아대사관</td>\n",
       "      <td>외무성_유럽2국</td>\n",
       "      <td>NaN</td>\n",
       "      <td>Current</td>\n",
       "      <td>Current</td>\n",
       "      <td>*org4 확인필요</td>\n",
       "      <td>NaN</td>\n",
       "      <td>NaN</td>\n",
       "      <td>NaN</td>\n",
       "      <td>NaN</td>\n",
       "      <td>NaN</td>\n",
       "      <td>NaN</td>\n",
       "      <td>left_only</td>\n",
       "      <td>True</td>\n",
       "    </tr>\n",
       "    <tr>\n",
       "      <th>313</th>\n",
       "      <td>True</td>\n",
       "      <td>내각</td>\n",
       "      <td>외무성_유럽2국_폴란드대사관</td>\n",
       "      <td>외무성_유럽2국</td>\n",
       "      <td>NaN</td>\n",
       "      <td>Current</td>\n",
       "      <td>Current</td>\n",
       "      <td>*org4 확인필요</td>\n",
       "      <td>NaN</td>\n",
       "      <td>NaN</td>\n",
       "      <td>NaN</td>\n",
       "      <td>NaN</td>\n",
       "      <td>NaN</td>\n",
       "      <td>NaN</td>\n",
       "      <td>left_only</td>\n",
       "      <td>True</td>\n",
       "    </tr>\n",
       "    <tr>\n",
       "      <th>314</th>\n",
       "      <td>True</td>\n",
       "      <td>내각</td>\n",
       "      <td>외무성_유럽2국_프랑스대표부</td>\n",
       "      <td>외무성_유럽2국</td>\n",
       "      <td>NaN</td>\n",
       "      <td>Current</td>\n",
       "      <td>Current</td>\n",
       "      <td>NaN</td>\n",
       "      <td>NaN</td>\n",
       "      <td>NaN</td>\n",
       "      <td>NaN</td>\n",
       "      <td>NaN</td>\n",
       "      <td>NaN</td>\n",
       "      <td>NaN</td>\n",
       "      <td>left_only</td>\n",
       "      <td>True</td>\n",
       "    </tr>\n",
       "    <tr>\n",
       "      <th>323</th>\n",
       "      <td>True</td>\n",
       "      <td>내각</td>\n",
       "      <td>육해운부</td>\n",
       "      <td>NaN</td>\n",
       "      <td>NaN</td>\n",
       "      <td>내각</td>\n",
       "      <td>육해운성</td>\n",
       "      <td>NaN</td>\n",
       "      <td>NaN</td>\n",
       "      <td>NaN</td>\n",
       "      <td>NaN</td>\n",
       "      <td>NaN</td>\n",
       "      <td>NaN</td>\n",
       "      <td>NaN</td>\n",
       "      <td>left_only</td>\n",
       "      <td>True</td>\n",
       "    </tr>\n",
       "    <tr>\n",
       "      <th>324</th>\n",
       "      <td>True</td>\n",
       "      <td>내각</td>\n",
       "      <td>육해운성</td>\n",
       "      <td>NaN</td>\n",
       "      <td>NaN</td>\n",
       "      <td>Current</td>\n",
       "      <td>Current</td>\n",
       "      <td>NaN</td>\n",
       "      <td>NaN</td>\n",
       "      <td>NaN</td>\n",
       "      <td>NaN</td>\n",
       "      <td>NaN</td>\n",
       "      <td>NaN</td>\n",
       "      <td>NaN</td>\n",
       "      <td>left_only</td>\n",
       "      <td>True</td>\n",
       "    </tr>\n",
       "    <tr>\n",
       "      <th>335</th>\n",
       "      <td>True</td>\n",
       "      <td>내각</td>\n",
       "      <td>전기석탄공업성</td>\n",
       "      <td>NaN</td>\n",
       "      <td>NaN</td>\n",
       "      <td>내각</td>\n",
       "      <td>석탄공업성</td>\n",
       "      <td>NaN</td>\n",
       "      <td>NaN</td>\n",
       "      <td>NaN</td>\n",
       "      <td>NaN</td>\n",
       "      <td>NaN</td>\n",
       "      <td>NaN</td>\n",
       "      <td>NaN</td>\n",
       "      <td>left_only</td>\n",
       "      <td>True</td>\n",
       "    </tr>\n",
       "    <tr>\n",
       "      <th>336</th>\n",
       "      <td>True</td>\n",
       "      <td>내각</td>\n",
       "      <td>전력공업성</td>\n",
       "      <td>NaN</td>\n",
       "      <td>NaN</td>\n",
       "      <td>Current</td>\n",
       "      <td>Current</td>\n",
       "      <td>NaN</td>\n",
       "      <td>NaN</td>\n",
       "      <td>NaN</td>\n",
       "      <td>NaN</td>\n",
       "      <td>NaN</td>\n",
       "      <td>NaN</td>\n",
       "      <td>NaN</td>\n",
       "      <td>left_only</td>\n",
       "      <td>True</td>\n",
       "    </tr>\n",
       "    <tr>\n",
       "      <th>339</th>\n",
       "      <td>True</td>\n",
       "      <td>내각</td>\n",
       "      <td>조국평화통일위원회</td>\n",
       "      <td>NaN</td>\n",
       "      <td>NaN</td>\n",
       "      <td>Current</td>\n",
       "      <td>Current</td>\n",
       "      <td>NaN</td>\n",
       "      <td>NaN</td>\n",
       "      <td>NaN</td>\n",
       "      <td>NaN</td>\n",
       "      <td>NaN</td>\n",
       "      <td>NaN</td>\n",
       "      <td>NaN</td>\n",
       "      <td>left_only</td>\n",
       "      <td>True</td>\n",
       "    </tr>\n",
       "    <tr>\n",
       "      <th>346</th>\n",
       "      <td>True</td>\n",
       "      <td>내각</td>\n",
       "      <td>철도성</td>\n",
       "      <td>NaN</td>\n",
       "      <td>NaN</td>\n",
       "      <td>Current</td>\n",
       "      <td>Current</td>\n",
       "      <td>NaN</td>\n",
       "      <td>NaN</td>\n",
       "      <td>NaN</td>\n",
       "      <td>NaN</td>\n",
       "      <td>NaN</td>\n",
       "      <td>NaN</td>\n",
       "      <td>NaN</td>\n",
       "      <td>left_only</td>\n",
       "      <td>True</td>\n",
       "    </tr>\n",
       "    <tr>\n",
       "      <th>351</th>\n",
       "      <td>True</td>\n",
       "      <td>내각</td>\n",
       "      <td>체육부</td>\n",
       "      <td>NaN</td>\n",
       "      <td>NaN</td>\n",
       "      <td>내각</td>\n",
       "      <td>체육성</td>\n",
       "      <td>NaN</td>\n",
       "      <td>NaN</td>\n",
       "      <td>NaN</td>\n",
       "      <td>NaN</td>\n",
       "      <td>NaN</td>\n",
       "      <td>NaN</td>\n",
       "      <td>NaN</td>\n",
       "      <td>left_only</td>\n",
       "      <td>True</td>\n",
       "    </tr>\n",
       "    <tr>\n",
       "      <th>361</th>\n",
       "      <td>True</td>\n",
       "      <td>노동당</td>\n",
       "      <td>당중앙위원회_군수공업부</td>\n",
       "      <td>NaN</td>\n",
       "      <td>NaN</td>\n",
       "      <td>Please_Revise</td>\n",
       "      <td>Please_Revise</td>\n",
       "      <td>NaN</td>\n",
       "      <td>노동당</td>\n",
       "      <td>당중앙위원회_군수공업부</td>\n",
       "      <td>Current</td>\n",
       "      <td>Current</td>\n",
       "      <td>NaN</td>\n",
       "      <td>NaN</td>\n",
       "      <td>both</td>\n",
       "      <td>True</td>\n",
       "    </tr>\n",
       "    <tr>\n",
       "      <th>377</th>\n",
       "      <td>True</td>\n",
       "      <td>노동당</td>\n",
       "      <td>당중앙위원회_문화예술부</td>\n",
       "      <td>선전선동부</td>\n",
       "      <td>NaN</td>\n",
       "      <td>Please_Revise</td>\n",
       "      <td>Please_Revise</td>\n",
       "      <td>NaN</td>\n",
       "      <td>노동당</td>\n",
       "      <td>당중앙위원회_문화예술부</td>\n",
       "      <td>Current</td>\n",
       "      <td>Current</td>\n",
       "      <td>NaN</td>\n",
       "      <td>NaN</td>\n",
       "      <td>both</td>\n",
       "      <td>True</td>\n",
       "    </tr>\n",
       "    <tr>\n",
       "      <th>409</th>\n",
       "      <td>False</td>\n",
       "      <td>조선문학예술총동맹</td>\n",
       "      <td>조선음악가동맹</td>\n",
       "      <td>NaN</td>\n",
       "      <td>NaN</td>\n",
       "      <td>Please_Revise</td>\n",
       "      <td>Please_Revise</td>\n",
       "      <td>NaN</td>\n",
       "      <td>조선문학예술총동맹</td>\n",
       "      <td>조선음악가동맹</td>\n",
       "      <td>Current</td>\n",
       "      <td>Current</td>\n",
       "      <td>NaN</td>\n",
       "      <td>NaN</td>\n",
       "      <td>both</td>\n",
       "      <td>True</td>\n",
       "    </tr>\n",
       "    <tr>\n",
       "      <th>421</th>\n",
       "      <td>False</td>\n",
       "      <td>조선적십자회</td>\n",
       "      <td>중앙위원회</td>\n",
       "      <td>조선적십자회</td>\n",
       "      <td>NaN</td>\n",
       "      <td>Current</td>\n",
       "      <td>Current</td>\n",
       "      <td>NaN</td>\n",
       "      <td>조선적십자회</td>\n",
       "      <td>중앙위원회</td>\n",
       "      <td>조선적십자회</td>\n",
       "      <td>중앙위원회</td>\n",
       "      <td>Current</td>\n",
       "      <td>Current</td>\n",
       "      <td>both</td>\n",
       "      <td>True</td>\n",
       "    </tr>\n",
       "    <tr>\n",
       "      <th>428</th>\n",
       "      <td>False</td>\n",
       "      <td>조선천도교회중앙지도위원회</td>\n",
       "      <td>중앙위원회</td>\n",
       "      <td>조선천도교회</td>\n",
       "      <td>NaN</td>\n",
       "      <td>Current</td>\n",
       "      <td>Current</td>\n",
       "      <td>NaN</td>\n",
       "      <td>조선천도교회중앙지도위원회</td>\n",
       "      <td>중앙위원회</td>\n",
       "      <td>조선천도교회중앙지도위원회</td>\n",
       "      <td>중앙위원회</td>\n",
       "      <td>Current</td>\n",
       "      <td>Current</td>\n",
       "      <td>both</td>\n",
       "      <td>True</td>\n",
       "    </tr>\n",
       "    <tr>\n",
       "      <th>435</th>\n",
       "      <td>False</td>\n",
       "      <td>조선카톨릭교협회</td>\n",
       "      <td>중앙위원회</td>\n",
       "      <td>조선카톨릭협회</td>\n",
       "      <td>NaN</td>\n",
       "      <td>Current</td>\n",
       "      <td>Current</td>\n",
       "      <td>NaN</td>\n",
       "      <td>조선카톨릭교협회</td>\n",
       "      <td>중앙위원회</td>\n",
       "      <td>조선카톨릭교협회</td>\n",
       "      <td>중앙위원회</td>\n",
       "      <td>Current</td>\n",
       "      <td>Current</td>\n",
       "      <td>both</td>\n",
       "      <td>True</td>\n",
       "    </tr>\n",
       "    <tr>\n",
       "      <th>461</th>\n",
       "      <td>True</td>\n",
       "      <td>노동당</td>\n",
       "      <td>당중앙위원회_선전선동부_로동신문사</td>\n",
       "      <td>중앙위원회</td>\n",
       "      <td>NaN</td>\n",
       "      <td>Current</td>\n",
       "      <td>Current</td>\n",
       "      <td>NaN</td>\n",
       "      <td>노동당</td>\n",
       "      <td>당중앙위원회_선전선동부_로동신문사</td>\n",
       "      <td>우즈베키스탄고려인청년연합회</td>\n",
       "      <td>NaN</td>\n",
       "      <td>Current</td>\n",
       "      <td>Current</td>\n",
       "      <td>both</td>\n",
       "      <td>True</td>\n",
       "    </tr>\n",
       "    <tr>\n",
       "      <th>469</th>\n",
       "      <td>True</td>\n",
       "      <td>노동당</td>\n",
       "      <td>당중앙위원회_자강도당위원회</td>\n",
       "      <td>중앙위원회</td>\n",
       "      <td>NaN</td>\n",
       "      <td>Please_Revise</td>\n",
       "      <td>Please_Revise</td>\n",
       "      <td>NaN</td>\n",
       "      <td>노동당</td>\n",
       "      <td>당중앙위원회_자강도당위원회</td>\n",
       "      <td>Current</td>\n",
       "      <td>Current</td>\n",
       "      <td>NaN</td>\n",
       "      <td>NaN</td>\n",
       "      <td>both</td>\n",
       "      <td>True</td>\n",
       "    </tr>\n",
       "    <tr>\n",
       "      <th>470</th>\n",
       "      <td>True</td>\n",
       "      <td>노동당</td>\n",
       "      <td>당중앙위원회_자강도당위원회</td>\n",
       "      <td>중앙위원회_자강도당위원회</td>\n",
       "      <td>NaN</td>\n",
       "      <td>Please_Revise</td>\n",
       "      <td>Please_Revise</td>\n",
       "      <td>NaN</td>\n",
       "      <td>노동당</td>\n",
       "      <td>당중앙위원회_자강도당위원회</td>\n",
       "      <td>Current</td>\n",
       "      <td>Current</td>\n",
       "      <td>NaN</td>\n",
       "      <td>NaN</td>\n",
       "      <td>both</td>\n",
       "      <td>True</td>\n",
       "    </tr>\n",
       "    <tr>\n",
       "      <th>483</th>\n",
       "      <td>True</td>\n",
       "      <td>노동당</td>\n",
       "      <td>당중앙위원회_평양시당위원회</td>\n",
       "      <td>중앙위원회</td>\n",
       "      <td>NaN</td>\n",
       "      <td>Current</td>\n",
       "      <td>Current</td>\n",
       "      <td>NaN</td>\n",
       "      <td>노동당</td>\n",
       "      <td>당중앙위원회_평양시당위원회</td>\n",
       "      <td>Current</td>\n",
       "      <td>Current</td>\n",
       "      <td>NaN</td>\n",
       "      <td>NaN</td>\n",
       "      <td>both</td>\n",
       "      <td>True</td>\n",
       "    </tr>\n",
       "    <tr>\n",
       "      <th>484</th>\n",
       "      <td>True</td>\n",
       "      <td>노동당</td>\n",
       "      <td>당중앙위원회_평양시당위원회</td>\n",
       "      <td>중앙위원회_평양시당위원회</td>\n",
       "      <td>NaN</td>\n",
       "      <td>Current</td>\n",
       "      <td>Current</td>\n",
       "      <td>NaN</td>\n",
       "      <td>노동당</td>\n",
       "      <td>당중앙위원회_평양시당위원회</td>\n",
       "      <td>Current</td>\n",
       "      <td>Current</td>\n",
       "      <td>NaN</td>\n",
       "      <td>NaN</td>\n",
       "      <td>both</td>\n",
       "      <td>True</td>\n",
       "    </tr>\n",
       "    <tr>\n",
       "      <th>495</th>\n",
       "      <td>False</td>\n",
       "      <td>사회주의애국청년동맹</td>\n",
       "      <td>중앙위원회</td>\n",
       "      <td>청년동맹</td>\n",
       "      <td>NaN</td>\n",
       "      <td>Please_Revise</td>\n",
       "      <td>Please_Revise</td>\n",
       "      <td>NaN</td>\n",
       "      <td>사회주의애국청년동맹</td>\n",
       "      <td>중앙위원회</td>\n",
       "      <td>Current</td>\n",
       "      <td>Current</td>\n",
       "      <td>NaN</td>\n",
       "      <td>NaN</td>\n",
       "      <td>both</td>\n",
       "      <td>True</td>\n",
       "    </tr>\n",
       "    <tr>\n",
       "      <th>511</th>\n",
       "      <td>True</td>\n",
       "      <td>노동당</td>\n",
       "      <td>당중앙위원회_군수공업부</td>\n",
       "      <td>NaN</td>\n",
       "      <td>0.0</td>\n",
       "      <td>Current</td>\n",
       "      <td>Current</td>\n",
       "      <td>NaN</td>\n",
       "      <td>노동당</td>\n",
       "      <td>당중앙위원회_군수공업부</td>\n",
       "      <td>Current</td>\n",
       "      <td>Current</td>\n",
       "      <td>NaN</td>\n",
       "      <td>NaN</td>\n",
       "      <td>both</td>\n",
       "      <td>True</td>\n",
       "    </tr>\n",
       "    <tr>\n",
       "      <th>515</th>\n",
       "      <td>True</td>\n",
       "      <td>노동당</td>\n",
       "      <td>당중앙위원회_선전선동부_로동신문사</td>\n",
       "      <td>NaN</td>\n",
       "      <td>0.0</td>\n",
       "      <td>Please_Revise</td>\n",
       "      <td>Please_Revise</td>\n",
       "      <td>NaN</td>\n",
       "      <td>노동당</td>\n",
       "      <td>당중앙위원회_선전선동부_로동신문사</td>\n",
       "      <td>Current</td>\n",
       "      <td>Current</td>\n",
       "      <td>NaN</td>\n",
       "      <td>NaN</td>\n",
       "      <td>both</td>\n",
       "      <td>True</td>\n",
       "    </tr>\n",
       "    <tr>\n",
       "      <th>516</th>\n",
       "      <td>True</td>\n",
       "      <td>노동당</td>\n",
       "      <td>당중앙위원회_선전선동부_로동신문사</td>\n",
       "      <td>노동신문사</td>\n",
       "      <td>NaN</td>\n",
       "      <td>Current</td>\n",
       "      <td>Current</td>\n",
       "      <td>NaN</td>\n",
       "      <td>노동당</td>\n",
       "      <td>당중앙위원회_선전선동부_로동신문사</td>\n",
       "      <td>Current</td>\n",
       "      <td>Current</td>\n",
       "      <td>NaN</td>\n",
       "      <td>NaN</td>\n",
       "      <td>both</td>\n",
       "      <td>True</td>\n",
       "    </tr>\n",
       "    <tr>\n",
       "      <th>531</th>\n",
       "      <td>True</td>\n",
       "      <td>노동당</td>\n",
       "      <td>당중앙위원회_문화예술부</td>\n",
       "      <td>NaN</td>\n",
       "      <td>NaN</td>\n",
       "      <td>Current</td>\n",
       "      <td>Current</td>\n",
       "      <td>NaN</td>\n",
       "      <td>노동당</td>\n",
       "      <td>당중앙위원회_문화예술부</td>\n",
       "      <td>Current</td>\n",
       "      <td>Current</td>\n",
       "      <td>NaN</td>\n",
       "      <td>NaN</td>\n",
       "      <td>both</td>\n",
       "      <td>True</td>\n",
       "    </tr>\n",
       "    <tr>\n",
       "      <th>542</th>\n",
       "      <td>True</td>\n",
       "      <td>노동당</td>\n",
       "      <td>당중앙위원회_총정치국</td>\n",
       "      <td>NaN</td>\n",
       "      <td>NaN</td>\n",
       "      <td>Current</td>\n",
       "      <td>Current</td>\n",
       "      <td>인민군에 속하는 당조직</td>\n",
       "      <td>노동당</td>\n",
       "      <td>당중앙위원회_총정치국</td>\n",
       "      <td>Current</td>\n",
       "      <td>Current</td>\n",
       "      <td>NaN</td>\n",
       "      <td>NaN</td>\n",
       "      <td>both</td>\n",
       "      <td>True</td>\n",
       "    </tr>\n",
       "    <tr>\n",
       "      <th>561</th>\n",
       "      <td>False</td>\n",
       "      <td>사회주의애국청년동맹</td>\n",
       "      <td>중앙위원회</td>\n",
       "      <td>NaN</td>\n",
       "      <td>NaN</td>\n",
       "      <td>Current</td>\n",
       "      <td>Current</td>\n",
       "      <td>NaN</td>\n",
       "      <td>NaN</td>\n",
       "      <td>NaN</td>\n",
       "      <td>NaN</td>\n",
       "      <td>NaN</td>\n",
       "      <td>NaN</td>\n",
       "      <td>NaN</td>\n",
       "      <td>left_only</td>\n",
       "      <td>True</td>\n",
       "    </tr>\n",
       "    <tr>\n",
       "      <th>595</th>\n",
       "      <td>True</td>\n",
       "      <td>총참모부</td>\n",
       "      <td>작전총국_제3처_제1군단</td>\n",
       "      <td>NaN</td>\n",
       "      <td>NaN</td>\n",
       "      <td>Current</td>\n",
       "      <td>Current</td>\n",
       "      <td>NaN</td>\n",
       "      <td>총참모부</td>\n",
       "      <td>작전총국_제3처_제1군단</td>\n",
       "      <td>Current</td>\n",
       "      <td>Current</td>\n",
       "      <td>NaN</td>\n",
       "      <td>NaN</td>\n",
       "      <td>both</td>\n",
       "      <td>True</td>\n",
       "    </tr>\n",
       "    <tr>\n",
       "      <th>597</th>\n",
       "      <td>True</td>\n",
       "      <td>총참모부</td>\n",
       "      <td>작전총국_제3처_제1군단</td>\n",
       "      <td>1군단</td>\n",
       "      <td>NaN</td>\n",
       "      <td>Please_Revise</td>\n",
       "      <td>Please_Revise</td>\n",
       "      <td>NaN</td>\n",
       "      <td>총참모부</td>\n",
       "      <td>작전총국_제3처_제1군단</td>\n",
       "      <td>Current</td>\n",
       "      <td>Current</td>\n",
       "      <td>NaN</td>\n",
       "      <td>NaN</td>\n",
       "      <td>both</td>\n",
       "      <td>True</td>\n",
       "    </tr>\n",
       "    <tr>\n",
       "      <th>598</th>\n",
       "      <td>True</td>\n",
       "      <td>총참모부</td>\n",
       "      <td>작전총국_제3처_제2군단</td>\n",
       "      <td>NaN</td>\n",
       "      <td>NaN</td>\n",
       "      <td>Current</td>\n",
       "      <td>Current</td>\n",
       "      <td>NaN</td>\n",
       "      <td>총참모부</td>\n",
       "      <td>작전총국_제3처_제2군단</td>\n",
       "      <td>총참모부</td>\n",
       "      <td>2군단</td>\n",
       "      <td>Current</td>\n",
       "      <td>Current</td>\n",
       "      <td>both</td>\n",
       "      <td>True</td>\n",
       "    </tr>\n",
       "    <tr>\n",
       "      <th>599</th>\n",
       "      <td>True</td>\n",
       "      <td>총참모부</td>\n",
       "      <td>작전총국_제3처_제2군단</td>\n",
       "      <td>2군단</td>\n",
       "      <td>NaN</td>\n",
       "      <td>Current</td>\n",
       "      <td>Current</td>\n",
       "      <td>NaN</td>\n",
       "      <td>총참모부</td>\n",
       "      <td>작전총국_제3처_제2군단</td>\n",
       "      <td>총참모부</td>\n",
       "      <td>2군단_근위서울제3보병사단</td>\n",
       "      <td>Current</td>\n",
       "      <td>Current</td>\n",
       "      <td>both</td>\n",
       "      <td>True</td>\n",
       "    </tr>\n",
       "    <tr>\n",
       "      <th>600</th>\n",
       "      <td>True</td>\n",
       "      <td>총참모부</td>\n",
       "      <td>작전총국_제3처_제2군단</td>\n",
       "      <td>2군단</td>\n",
       "      <td>NaN</td>\n",
       "      <td>Please_Revise</td>\n",
       "      <td>Please_Revise</td>\n",
       "      <td>NaN</td>\n",
       "      <td>총참모부</td>\n",
       "      <td>작전총국_제3처_제2군단</td>\n",
       "      <td>Current</td>\n",
       "      <td>Current</td>\n",
       "      <td>NaN</td>\n",
       "      <td>NaN</td>\n",
       "      <td>both</td>\n",
       "      <td>True</td>\n",
       "    </tr>\n",
       "    <tr>\n",
       "      <th>601</th>\n",
       "      <td>True</td>\n",
       "      <td>총참모부</td>\n",
       "      <td>작전총국_제3처_제2군단</td>\n",
       "      <td>2군단_8사단</td>\n",
       "      <td>NaN</td>\n",
       "      <td>Current</td>\n",
       "      <td>Current</td>\n",
       "      <td>NaN</td>\n",
       "      <td>총참모부</td>\n",
       "      <td>작전총국_제3처_제2군단</td>\n",
       "      <td>총참모부</td>\n",
       "      <td>2군단_제8보병사단_81연대</td>\n",
       "      <td>Current</td>\n",
       "      <td>Current</td>\n",
       "      <td>both</td>\n",
       "      <td>True</td>\n",
       "    </tr>\n",
       "    <tr>\n",
       "      <th>603</th>\n",
       "      <td>True</td>\n",
       "      <td>총참모부</td>\n",
       "      <td>작전총국_제3처_제4군단</td>\n",
       "      <td>NaN</td>\n",
       "      <td>NaN</td>\n",
       "      <td>Current</td>\n",
       "      <td>Current</td>\n",
       "      <td>NaN</td>\n",
       "      <td>총참모부</td>\n",
       "      <td>작전총국_제3처_제4군단</td>\n",
       "      <td>총참모부</td>\n",
       "      <td>4군단</td>\n",
       "      <td>Current</td>\n",
       "      <td>Current</td>\n",
       "      <td>both</td>\n",
       "      <td>True</td>\n",
       "    </tr>\n",
       "    <tr>\n",
       "      <th>604</th>\n",
       "      <td>True</td>\n",
       "      <td>총참모부</td>\n",
       "      <td>작전총국_제3처_제5군단</td>\n",
       "      <td>NaN</td>\n",
       "      <td>NaN</td>\n",
       "      <td>Current</td>\n",
       "      <td>Current</td>\n",
       "      <td>NaN</td>\n",
       "      <td>총참모부</td>\n",
       "      <td>작전총국_제3처_제5군단</td>\n",
       "      <td>총참모부</td>\n",
       "      <td>5군단</td>\n",
       "      <td>Current</td>\n",
       "      <td>Current</td>\n",
       "      <td>both</td>\n",
       "      <td>True</td>\n",
       "    </tr>\n",
       "    <tr>\n",
       "      <th>606</th>\n",
       "      <td>True</td>\n",
       "      <td>총참모부</td>\n",
       "      <td>작전총국_제4처_제8군단</td>\n",
       "      <td>NaN</td>\n",
       "      <td>NaN</td>\n",
       "      <td>Current</td>\n",
       "      <td>Current</td>\n",
       "      <td>NaN</td>\n",
       "      <td>총참모부</td>\n",
       "      <td>작전총국_제4처_제8군단</td>\n",
       "      <td>총참모부</td>\n",
       "      <td>8군단</td>\n",
       "      <td>Current</td>\n",
       "      <td>Current</td>\n",
       "      <td>both</td>\n",
       "      <td>True</td>\n",
       "    </tr>\n",
       "    <tr>\n",
       "      <th>607</th>\n",
       "      <td>True</td>\n",
       "      <td>총참모부</td>\n",
       "      <td>작전총국_제4처_제9군단</td>\n",
       "      <td>NaN</td>\n",
       "      <td>NaN</td>\n",
       "      <td>Current</td>\n",
       "      <td>Current</td>\n",
       "      <td>NaN</td>\n",
       "      <td>총참모부</td>\n",
       "      <td>작전총국_제4처_제9군단</td>\n",
       "      <td>총참모부</td>\n",
       "      <td>9군단</td>\n",
       "      <td>Current</td>\n",
       "      <td>Current</td>\n",
       "      <td>both</td>\n",
       "      <td>True</td>\n",
       "    </tr>\n",
       "    <tr>\n",
       "      <th>608</th>\n",
       "      <td>True</td>\n",
       "      <td>총참모부</td>\n",
       "      <td>작전총국_제6처</td>\n",
       "      <td>NaN</td>\n",
       "      <td>NaN</td>\n",
       "      <td>Current</td>\n",
       "      <td>Current</td>\n",
       "      <td>NaN</td>\n",
       "      <td>총참모부</td>\n",
       "      <td>작전총국_제6처</td>\n",
       "      <td>총참모부</td>\n",
       "      <td>공군사령부</td>\n",
       "      <td>Current</td>\n",
       "      <td>Current</td>\n",
       "      <td>both</td>\n",
       "      <td>True</td>\n",
       "    </tr>\n",
       "    <tr>\n",
       "      <th>611</th>\n",
       "      <td>True</td>\n",
       "      <td>총참모부</td>\n",
       "      <td>작전총국_제7처</td>\n",
       "      <td>NaN</td>\n",
       "      <td>NaN</td>\n",
       "      <td>Please_Revise</td>\n",
       "      <td>Please_Revise</td>\n",
       "      <td>NaN</td>\n",
       "      <td>총참모부</td>\n",
       "      <td>작전총국_제7처</td>\n",
       "      <td>Current</td>\n",
       "      <td>Current</td>\n",
       "      <td>NaN</td>\n",
       "      <td>NaN</td>\n",
       "      <td>both</td>\n",
       "      <td>True</td>\n",
       "    </tr>\n",
       "    <tr>\n",
       "      <th>612</th>\n",
       "      <td>True</td>\n",
       "      <td>총참모부</td>\n",
       "      <td>작전총국_제7처_서해함대사령부</td>\n",
       "      <td>해군사령부</td>\n",
       "      <td>NaN</td>\n",
       "      <td>Please_Revise</td>\n",
       "      <td>Please_Revise</td>\n",
       "      <td>NaN</td>\n",
       "      <td>총참모부</td>\n",
       "      <td>작전총국_제7처_서해함대사령부</td>\n",
       "      <td>Current</td>\n",
       "      <td>Current</td>\n",
       "      <td>NaN</td>\n",
       "      <td>NaN</td>\n",
       "      <td>both</td>\n",
       "      <td>True</td>\n",
       "    </tr>\n",
       "    <tr>\n",
       "      <th>703</th>\n",
       "      <td>False</td>\n",
       "      <td>조선문학예술총동맹</td>\n",
       "      <td>조선음악가동맹</td>\n",
       "      <td>NaN</td>\n",
       "      <td>NaN</td>\n",
       "      <td>Current</td>\n",
       "      <td>Current</td>\n",
       "      <td>NaN</td>\n",
       "      <td>NaN</td>\n",
       "      <td>NaN</td>\n",
       "      <td>NaN</td>\n",
       "      <td>NaN</td>\n",
       "      <td>NaN</td>\n",
       "      <td>NaN</td>\n",
       "      <td>left_only</td>\n",
       "      <td>True</td>\n",
       "    </tr>\n",
       "    <tr>\n",
       "      <th>781</th>\n",
       "      <td>True</td>\n",
       "      <td>총참모부</td>\n",
       "      <td>작전총국_보도처_판문점대표부</td>\n",
       "      <td>NaN</td>\n",
       "      <td>NaN</td>\n",
       "      <td>Current</td>\n",
       "      <td>Current</td>\n",
       "      <td>NaN</td>\n",
       "      <td>총참모부</td>\n",
       "      <td>작전총국_보도처_판문점대표부</td>\n",
       "      <td>Current</td>\n",
       "      <td>Current</td>\n",
       "      <td>NaN</td>\n",
       "      <td>NaN</td>\n",
       "      <td>both</td>\n",
       "      <td>True</td>\n",
       "    </tr>\n",
       "    <tr>\n",
       "      <th>808</th>\n",
       "      <td>True</td>\n",
       "      <td>총참모부</td>\n",
       "      <td>작전총국_제7처_서해함대사령부</td>\n",
       "      <td>NaN</td>\n",
       "      <td>NaN</td>\n",
       "      <td>Current</td>\n",
       "      <td>Current</td>\n",
       "      <td>NaN</td>\n",
       "      <td>총참모부</td>\n",
       "      <td>작전총국_제7처_서해함대사령부</td>\n",
       "      <td>Current</td>\n",
       "      <td>Current</td>\n",
       "      <td>NaN</td>\n",
       "      <td>NaN</td>\n",
       "      <td>both</td>\n",
       "      <td>True</td>\n",
       "    </tr>\n",
       "    <tr>\n",
       "      <th>829</th>\n",
       "      <td>False</td>\n",
       "      <td>조선적십자회</td>\n",
       "      <td>중앙위원회</td>\n",
       "      <td>NaN</td>\n",
       "      <td>NaN</td>\n",
       "      <td>Current</td>\n",
       "      <td>Current</td>\n",
       "      <td>NaN</td>\n",
       "      <td>NaN</td>\n",
       "      <td>NaN</td>\n",
       "      <td>NaN</td>\n",
       "      <td>NaN</td>\n",
       "      <td>NaN</td>\n",
       "      <td>NaN</td>\n",
       "      <td>left_only</td>\n",
       "      <td>True</td>\n",
       "    </tr>\n",
       "    <tr>\n",
       "      <th>860</th>\n",
       "      <td>False</td>\n",
       "      <td>조선천도교회중앙지도위원회</td>\n",
       "      <td>중앙위원회</td>\n",
       "      <td>NaN</td>\n",
       "      <td>NaN</td>\n",
       "      <td>Current</td>\n",
       "      <td>Current</td>\n",
       "      <td>NaN</td>\n",
       "      <td>NaN</td>\n",
       "      <td>NaN</td>\n",
       "      <td>NaN</td>\n",
       "      <td>NaN</td>\n",
       "      <td>NaN</td>\n",
       "      <td>NaN</td>\n",
       "      <td>left_only</td>\n",
       "      <td>True</td>\n",
       "    </tr>\n",
       "    <tr>\n",
       "      <th>869</th>\n",
       "      <td>False</td>\n",
       "      <td>조선카톨릭교협회</td>\n",
       "      <td>중앙위원회</td>\n",
       "      <td>NaN</td>\n",
       "      <td>NaN</td>\n",
       "      <td>Current</td>\n",
       "      <td>Current</td>\n",
       "      <td>NaN</td>\n",
       "      <td>NaN</td>\n",
       "      <td>NaN</td>\n",
       "      <td>NaN</td>\n",
       "      <td>NaN</td>\n",
       "      <td>NaN</td>\n",
       "      <td>NaN</td>\n",
       "      <td>left_only</td>\n",
       "      <td>True</td>\n",
       "    </tr>\n",
       "    <tr>\n",
       "      <th>887</th>\n",
       "      <td>True</td>\n",
       "      <td>보위사령부</td>\n",
       "      <td>보위국</td>\n",
       "      <td>NaN</td>\n",
       "      <td>NaN</td>\n",
       "      <td>Please_Revise</td>\n",
       "      <td>Please_Revise</td>\n",
       "      <td>NaN</td>\n",
       "      <td>보위사령부</td>\n",
       "      <td>NaN</td>\n",
       "      <td>Current</td>\n",
       "      <td>Current</td>\n",
       "      <td>NaN</td>\n",
       "      <td>NaN</td>\n",
       "      <td>both</td>\n",
       "      <td>True</td>\n",
       "    </tr>\n",
       "    <tr>\n",
       "      <th>891</th>\n",
       "      <td>True</td>\n",
       "      <td>총참모부</td>\n",
       "      <td>작전총국_제3처_제1군단</td>\n",
       "      <td>NaN</td>\n",
       "      <td>NaN</td>\n",
       "      <td>Please_Revise</td>\n",
       "      <td>Please_Revise</td>\n",
       "      <td>NaN</td>\n",
       "      <td>총참모부</td>\n",
       "      <td>작전총국_제3처_제1군단</td>\n",
       "      <td>Current</td>\n",
       "      <td>Current</td>\n",
       "      <td>NaN</td>\n",
       "      <td>NaN</td>\n",
       "      <td>both</td>\n",
       "      <td>True</td>\n",
       "    </tr>\n",
       "    <tr>\n",
       "      <th>892</th>\n",
       "      <td>True</td>\n",
       "      <td>총참모부</td>\n",
       "      <td>작전총국_제3처_제1군단</td>\n",
       "      <td>1군단</td>\n",
       "      <td>NaN</td>\n",
       "      <td>Current</td>\n",
       "      <td>Current</td>\n",
       "      <td>NaN</td>\n",
       "      <td>총참모부</td>\n",
       "      <td>작전총국_제3처_제1군단</td>\n",
       "      <td>Current</td>\n",
       "      <td>Current</td>\n",
       "      <td>NaN</td>\n",
       "      <td>NaN</td>\n",
       "      <td>both</td>\n",
       "      <td>True</td>\n",
       "    </tr>\n",
       "    <tr>\n",
       "      <th>894</th>\n",
       "      <td>True</td>\n",
       "      <td>총참모부</td>\n",
       "      <td>작전총국_제3처_제1군단</td>\n",
       "      <td>1군단_공병연대</td>\n",
       "      <td>NaN</td>\n",
       "      <td>Current</td>\n",
       "      <td>Current</td>\n",
       "      <td>NaN</td>\n",
       "      <td>총참모부</td>\n",
       "      <td>작전총국_제3처_제1군단</td>\n",
       "      <td>Current</td>\n",
       "      <td>Current</td>\n",
       "      <td>NaN</td>\n",
       "      <td>NaN</td>\n",
       "      <td>both</td>\n",
       "      <td>True</td>\n",
       "    </tr>\n",
       "    <tr>\n",
       "      <th>899</th>\n",
       "      <td>True</td>\n",
       "      <td>총참모부</td>\n",
       "      <td>작전총국_제3처_제1군단</td>\n",
       "      <td>1군단_근위강건제2보병사단</td>\n",
       "      <td>NaN</td>\n",
       "      <td>Current</td>\n",
       "      <td>Current</td>\n",
       "      <td>NaN</td>\n",
       "      <td>총참모부</td>\n",
       "      <td>작전총국_제3처_제1군단</td>\n",
       "      <td>Current</td>\n",
       "      <td>Current</td>\n",
       "      <td>NaN</td>\n",
       "      <td>NaN</td>\n",
       "      <td>both</td>\n",
       "      <td>True</td>\n",
       "    </tr>\n",
       "    <tr>\n",
       "      <th>903</th>\n",
       "      <td>True</td>\n",
       "      <td>총참모부</td>\n",
       "      <td>작전총국_제3처_제1군단</td>\n",
       "      <td>1군단_근위강건제2보병사단_직할대</td>\n",
       "      <td>NaN</td>\n",
       "      <td>Current</td>\n",
       "      <td>Current</td>\n",
       "      <td>NaN</td>\n",
       "      <td>총참모부</td>\n",
       "      <td>작전총국_제3처_제1군단</td>\n",
       "      <td>Current</td>\n",
       "      <td>Current</td>\n",
       "      <td>NaN</td>\n",
       "      <td>NaN</td>\n",
       "      <td>both</td>\n",
       "      <td>True</td>\n",
       "    </tr>\n",
       "    <tr>\n",
       "      <th>917</th>\n",
       "      <td>True</td>\n",
       "      <td>총참모부</td>\n",
       "      <td>작전총국_제3처_제1군단</td>\n",
       "      <td>1군단_제13사단</td>\n",
       "      <td>NaN</td>\n",
       "      <td>Current</td>\n",
       "      <td>Current</td>\n",
       "      <td>NaN</td>\n",
       "      <td>총참모부</td>\n",
       "      <td>작전총국_제3처_제1군단</td>\n",
       "      <td>Current</td>\n",
       "      <td>Current</td>\n",
       "      <td>NaN</td>\n",
       "      <td>NaN</td>\n",
       "      <td>both</td>\n",
       "      <td>True</td>\n",
       "    </tr>\n",
       "    <tr>\n",
       "      <th>922</th>\n",
       "      <td>True</td>\n",
       "      <td>총참모부</td>\n",
       "      <td>작전총국_제3처_제1군단</td>\n",
       "      <td>1군단_제13사단_직할대</td>\n",
       "      <td>NaN</td>\n",
       "      <td>Current</td>\n",
       "      <td>Current</td>\n",
       "      <td>NaN</td>\n",
       "      <td>총참모부</td>\n",
       "      <td>작전총국_제3처_제1군단</td>\n",
       "      <td>Current</td>\n",
       "      <td>Current</td>\n",
       "      <td>NaN</td>\n",
       "      <td>NaN</td>\n",
       "      <td>both</td>\n",
       "      <td>True</td>\n",
       "    </tr>\n",
       "    <tr>\n",
       "      <th>938</th>\n",
       "      <td>True</td>\n",
       "      <td>총참모부</td>\n",
       "      <td>작전총국_제3처_제1군단</td>\n",
       "      <td>1군단_제46사단</td>\n",
       "      <td>NaN</td>\n",
       "      <td>Current</td>\n",
       "      <td>Current</td>\n",
       "      <td>NaN</td>\n",
       "      <td>총참모부</td>\n",
       "      <td>작전총국_제3처_제1군단</td>\n",
       "      <td>Current</td>\n",
       "      <td>Current</td>\n",
       "      <td>NaN</td>\n",
       "      <td>NaN</td>\n",
       "      <td>both</td>\n",
       "      <td>True</td>\n",
       "    </tr>\n",
       "    <tr>\n",
       "      <th>943</th>\n",
       "      <td>True</td>\n",
       "      <td>총참모부</td>\n",
       "      <td>작전총국_제3처_제1군단</td>\n",
       "      <td>1군단_제46사단_직할대</td>\n",
       "      <td>NaN</td>\n",
       "      <td>Current</td>\n",
       "      <td>Current</td>\n",
       "      <td>NaN</td>\n",
       "      <td>총참모부</td>\n",
       "      <td>작전총국_제3처_제1군단</td>\n",
       "      <td>Current</td>\n",
       "      <td>Current</td>\n",
       "      <td>NaN</td>\n",
       "      <td>NaN</td>\n",
       "      <td>both</td>\n",
       "      <td>True</td>\n",
       "    </tr>\n",
       "    <tr>\n",
       "      <th>957</th>\n",
       "      <td>True</td>\n",
       "      <td>총참모부</td>\n",
       "      <td>작전총국_제3처_제1군단</td>\n",
       "      <td>1군단_직할대</td>\n",
       "      <td>NaN</td>\n",
       "      <td>Current</td>\n",
       "      <td>Current</td>\n",
       "      <td>NaN</td>\n",
       "      <td>총참모부</td>\n",
       "      <td>작전총국_제3처_제1군단</td>\n",
       "      <td>Current</td>\n",
       "      <td>Current</td>\n",
       "      <td>NaN</td>\n",
       "      <td>NaN</td>\n",
       "      <td>both</td>\n",
       "      <td>True</td>\n",
       "    </tr>\n",
       "    <tr>\n",
       "      <th>965</th>\n",
       "      <td>True</td>\n",
       "      <td>총참모부</td>\n",
       "      <td>작전총국_제3처_제2군단</td>\n",
       "      <td>NaN</td>\n",
       "      <td>NaN</td>\n",
       "      <td>Current</td>\n",
       "      <td>Current</td>\n",
       "      <td>NaN</td>\n",
       "      <td>총참모부</td>\n",
       "      <td>작전총국_제3처_제2군단</td>\n",
       "      <td>Current</td>\n",
       "      <td>Current</td>\n",
       "      <td>NaN</td>\n",
       "      <td>NaN</td>\n",
       "      <td>both</td>\n",
       "      <td>True</td>\n",
       "    </tr>\n",
       "    <tr>\n",
       "      <th>966</th>\n",
       "      <td>True</td>\n",
       "      <td>총참모부</td>\n",
       "      <td>작전총국_제3처_제2군단</td>\n",
       "      <td>2군단</td>\n",
       "      <td>NaN</td>\n",
       "      <td>Current</td>\n",
       "      <td>Current</td>\n",
       "      <td>NaN</td>\n",
       "      <td>총참모부</td>\n",
       "      <td>작전총국_제3처_제2군단</td>\n",
       "      <td>Current</td>\n",
       "      <td>Current</td>\n",
       "      <td>NaN</td>\n",
       "      <td>NaN</td>\n",
       "      <td>both</td>\n",
       "      <td>True</td>\n",
       "    </tr>\n",
       "    <tr>\n",
       "      <th>967</th>\n",
       "      <td>True</td>\n",
       "      <td>총참모부</td>\n",
       "      <td>작전총국_제3처_제2군단</td>\n",
       "      <td>2군단_근위서울제3보병사단</td>\n",
       "      <td>NaN</td>\n",
       "      <td>Current</td>\n",
       "      <td>Current</td>\n",
       "      <td>NaN</td>\n",
       "      <td>총참모부</td>\n",
       "      <td>작전총국_제3처_제2군단</td>\n",
       "      <td>Current</td>\n",
       "      <td>Current</td>\n",
       "      <td>NaN</td>\n",
       "      <td>NaN</td>\n",
       "      <td>both</td>\n",
       "      <td>True</td>\n",
       "    </tr>\n",
       "    <tr>\n",
       "      <th>972</th>\n",
       "      <td>True</td>\n",
       "      <td>총참모부</td>\n",
       "      <td>작전총국_제3처_제2군단</td>\n",
       "      <td>2군단_근위제6보병사단</td>\n",
       "      <td>NaN</td>\n",
       "      <td>Current</td>\n",
       "      <td>Current</td>\n",
       "      <td>NaN</td>\n",
       "      <td>총참모부</td>\n",
       "      <td>작전총국_제3처_제2군단</td>\n",
       "      <td>Current</td>\n",
       "      <td>Current</td>\n",
       "      <td>NaN</td>\n",
       "      <td>NaN</td>\n",
       "      <td>both</td>\n",
       "      <td>True</td>\n",
       "    </tr>\n",
       "    <tr>\n",
       "      <th>976</th>\n",
       "      <td>True</td>\n",
       "      <td>총참모부</td>\n",
       "      <td>작전총국_제3처_2군단</td>\n",
       "      <td>2군단</td>\n",
       "      <td>NaN</td>\n",
       "      <td>Current</td>\n",
       "      <td>Current</td>\n",
       "      <td>NaN</td>\n",
       "      <td>총참모부</td>\n",
       "      <td>작전총국_제3처_2군단</td>\n",
       "      <td>Current</td>\n",
       "      <td>Current</td>\n",
       "      <td>NaN</td>\n",
       "      <td>NaN</td>\n",
       "      <td>both</td>\n",
       "      <td>True</td>\n",
       "    </tr>\n",
       "    <tr>\n",
       "      <th>977</th>\n",
       "      <td>True</td>\n",
       "      <td>총참모부</td>\n",
       "      <td>작전총국_제3처_제2군단</td>\n",
       "      <td>2군단_제8보병사단</td>\n",
       "      <td>NaN</td>\n",
       "      <td>Current</td>\n",
       "      <td>Current</td>\n",
       "      <td>NaN</td>\n",
       "      <td>총참모부</td>\n",
       "      <td>작전총국_제3처_제2군단</td>\n",
       "      <td>Current</td>\n",
       "      <td>Current</td>\n",
       "      <td>NaN</td>\n",
       "      <td>NaN</td>\n",
       "      <td>both</td>\n",
       "      <td>True</td>\n",
       "    </tr>\n",
       "    <tr>\n",
       "      <th>982</th>\n",
       "      <td>True</td>\n",
       "      <td>총참모부</td>\n",
       "      <td>작전총국_제3처_제4군단</td>\n",
       "      <td>NaN</td>\n",
       "      <td>NaN</td>\n",
       "      <td>Current</td>\n",
       "      <td>Current</td>\n",
       "      <td>NaN</td>\n",
       "      <td>총참모부</td>\n",
       "      <td>작전총국_제3처_제4군단</td>\n",
       "      <td>Current</td>\n",
       "      <td>Current</td>\n",
       "      <td>NaN</td>\n",
       "      <td>NaN</td>\n",
       "      <td>both</td>\n",
       "      <td>True</td>\n",
       "    </tr>\n",
       "    <tr>\n",
       "      <th>983</th>\n",
       "      <td>True</td>\n",
       "      <td>총참모부</td>\n",
       "      <td>작전총국_제3처_제4군단</td>\n",
       "      <td>4군단</td>\n",
       "      <td>NaN</td>\n",
       "      <td>Current</td>\n",
       "      <td>Current</td>\n",
       "      <td>NaN</td>\n",
       "      <td>총참모부</td>\n",
       "      <td>작전총국_제3처_제4군단</td>\n",
       "      <td>Current</td>\n",
       "      <td>Current</td>\n",
       "      <td>NaN</td>\n",
       "      <td>NaN</td>\n",
       "      <td>both</td>\n",
       "      <td>True</td>\n",
       "    </tr>\n",
       "    <tr>\n",
       "      <th>988</th>\n",
       "      <td>True</td>\n",
       "      <td>총참모부</td>\n",
       "      <td>작전총국_제3처_제4군단</td>\n",
       "      <td>4군단_26사단</td>\n",
       "      <td>NaN</td>\n",
       "      <td>Current</td>\n",
       "      <td>Current</td>\n",
       "      <td>NaN</td>\n",
       "      <td>총참모부</td>\n",
       "      <td>작전총국_제3처_제4군단</td>\n",
       "      <td>Current</td>\n",
       "      <td>Current</td>\n",
       "      <td>NaN</td>\n",
       "      <td>NaN</td>\n",
       "      <td>both</td>\n",
       "      <td>True</td>\n",
       "    </tr>\n",
       "    <tr>\n",
       "      <th>994</th>\n",
       "      <td>True</td>\n",
       "      <td>총참모부</td>\n",
       "      <td>작전총국_제3처_제4군단</td>\n",
       "      <td>4군단_28사단</td>\n",
       "      <td>NaN</td>\n",
       "      <td>Current</td>\n",
       "      <td>Current</td>\n",
       "      <td>NaN</td>\n",
       "      <td>총참모부</td>\n",
       "      <td>작전총국_제3처_제4군단</td>\n",
       "      <td>Current</td>\n",
       "      <td>Current</td>\n",
       "      <td>NaN</td>\n",
       "      <td>NaN</td>\n",
       "      <td>both</td>\n",
       "      <td>True</td>\n",
       "    </tr>\n",
       "    <tr>\n",
       "      <th>1000</th>\n",
       "      <td>True</td>\n",
       "      <td>총참모부</td>\n",
       "      <td>작전총국_제3처_제4군단</td>\n",
       "      <td>4군단_33사단</td>\n",
       "      <td>NaN</td>\n",
       "      <td>Current</td>\n",
       "      <td>Current</td>\n",
       "      <td>NaN</td>\n",
       "      <td>총참모부</td>\n",
       "      <td>작전총국_제3처_제4군단</td>\n",
       "      <td>Current</td>\n",
       "      <td>Current</td>\n",
       "      <td>NaN</td>\n",
       "      <td>NaN</td>\n",
       "      <td>both</td>\n",
       "      <td>True</td>\n",
       "    </tr>\n",
       "    <tr>\n",
       "      <th>1009</th>\n",
       "      <td>True</td>\n",
       "      <td>총참모부</td>\n",
       "      <td>작전총국_제3처_제5군단</td>\n",
       "      <td>NaN</td>\n",
       "      <td>NaN</td>\n",
       "      <td>Current</td>\n",
       "      <td>Current</td>\n",
       "      <td>NaN</td>\n",
       "      <td>총참모부</td>\n",
       "      <td>작전총국_제3처_제5군단</td>\n",
       "      <td>Current</td>\n",
       "      <td>Current</td>\n",
       "      <td>NaN</td>\n",
       "      <td>NaN</td>\n",
       "      <td>both</td>\n",
       "      <td>True</td>\n",
       "    </tr>\n",
       "    <tr>\n",
       "      <th>1010</th>\n",
       "      <td>True</td>\n",
       "      <td>총참모부</td>\n",
       "      <td>작전총국_제3처_제5군단</td>\n",
       "      <td>5군단</td>\n",
       "      <td>NaN</td>\n",
       "      <td>Current</td>\n",
       "      <td>Current</td>\n",
       "      <td>NaN</td>\n",
       "      <td>총참모부</td>\n",
       "      <td>작전총국_제3처_제5군단</td>\n",
       "      <td>Current</td>\n",
       "      <td>Current</td>\n",
       "      <td>NaN</td>\n",
       "      <td>NaN</td>\n",
       "      <td>both</td>\n",
       "      <td>True</td>\n",
       "    </tr>\n",
       "    <tr>\n",
       "      <th>1014</th>\n",
       "      <td>True</td>\n",
       "      <td>총참모부</td>\n",
       "      <td>작전총국_제3처_제5군단</td>\n",
       "      <td>5군단</td>\n",
       "      <td>NaN</td>\n",
       "      <td>Please_Revise</td>\n",
       "      <td>Please_Revise</td>\n",
       "      <td>NaN</td>\n",
       "      <td>총참모부</td>\n",
       "      <td>작전총국_제3처_제5군단</td>\n",
       "      <td>Current</td>\n",
       "      <td>Current</td>\n",
       "      <td>NaN</td>\n",
       "      <td>NaN</td>\n",
       "      <td>both</td>\n",
       "      <td>True</td>\n",
       "    </tr>\n",
       "    <tr>\n",
       "      <th>1015</th>\n",
       "      <td>True</td>\n",
       "      <td>총참모부</td>\n",
       "      <td>작전총국_제3처_제5군단</td>\n",
       "      <td>5군단_직할대</td>\n",
       "      <td>NaN</td>\n",
       "      <td>Current</td>\n",
       "      <td>Current</td>\n",
       "      <td>NaN</td>\n",
       "      <td>총참모부</td>\n",
       "      <td>작전총국_제3처_제5군단</td>\n",
       "      <td>Current</td>\n",
       "      <td>Current</td>\n",
       "      <td>NaN</td>\n",
       "      <td>NaN</td>\n",
       "      <td>both</td>\n",
       "      <td>True</td>\n",
       "    </tr>\n",
       "    <tr>\n",
       "      <th>1016</th>\n",
       "      <td>True</td>\n",
       "      <td>총참모부</td>\n",
       "      <td>작전총국_제3처_제5군단</td>\n",
       "      <td>5군단_직할대</td>\n",
       "      <td>NaN</td>\n",
       "      <td>Current</td>\n",
       "      <td>Current</td>\n",
       "      <td>민경대대</td>\n",
       "      <td>총참모부</td>\n",
       "      <td>작전총국_제3처_제5군단</td>\n",
       "      <td>Current</td>\n",
       "      <td>Current</td>\n",
       "      <td>NaN</td>\n",
       "      <td>NaN</td>\n",
       "      <td>both</td>\n",
       "      <td>True</td>\n",
       "    </tr>\n",
       "    <tr>\n",
       "      <th>1034</th>\n",
       "      <td>True</td>\n",
       "      <td>총참모부</td>\n",
       "      <td>작전총국_제4처_7군단</td>\n",
       "      <td>NaN</td>\n",
       "      <td>NaN</td>\n",
       "      <td>Current</td>\n",
       "      <td>Current</td>\n",
       "      <td>NaN</td>\n",
       "      <td>총참모부</td>\n",
       "      <td>작전총국_제4처_7군단</td>\n",
       "      <td>Current</td>\n",
       "      <td>Current</td>\n",
       "      <td>NaN</td>\n",
       "      <td>NaN</td>\n",
       "      <td>both</td>\n",
       "      <td>True</td>\n",
       "    </tr>\n",
       "    <tr>\n",
       "      <th>1035</th>\n",
       "      <td>True</td>\n",
       "      <td>총참모부</td>\n",
       "      <td>작전총국_제4처_제8군단</td>\n",
       "      <td>NaN</td>\n",
       "      <td>NaN</td>\n",
       "      <td>Current</td>\n",
       "      <td>Current</td>\n",
       "      <td>NaN</td>\n",
       "      <td>총참모부</td>\n",
       "      <td>작전총국_제4처_제8군단</td>\n",
       "      <td>Current</td>\n",
       "      <td>Current</td>\n",
       "      <td>NaN</td>\n",
       "      <td>NaN</td>\n",
       "      <td>both</td>\n",
       "      <td>True</td>\n",
       "    </tr>\n",
       "    <tr>\n",
       "      <th>1036</th>\n",
       "      <td>True</td>\n",
       "      <td>총참모부</td>\n",
       "      <td>작전총국_제4처_제9군단</td>\n",
       "      <td>NaN</td>\n",
       "      <td>NaN</td>\n",
       "      <td>Current</td>\n",
       "      <td>Current</td>\n",
       "      <td>NaN</td>\n",
       "      <td>총참모부</td>\n",
       "      <td>작전총국_제4처_제9군단</td>\n",
       "      <td>Current</td>\n",
       "      <td>Current</td>\n",
       "      <td>NaN</td>\n",
       "      <td>NaN</td>\n",
       "      <td>both</td>\n",
       "      <td>True</td>\n",
       "    </tr>\n",
       "    <tr>\n",
       "      <th>1052</th>\n",
       "      <td>True</td>\n",
       "      <td>총참모부</td>\n",
       "      <td>작전총국_제3처_2군단</td>\n",
       "      <td>작전총국_제3처</td>\n",
       "      <td>NaN</td>\n",
       "      <td>Current</td>\n",
       "      <td>Current</td>\n",
       "      <td>NaN</td>\n",
       "      <td>NaN</td>\n",
       "      <td>NaN</td>\n",
       "      <td>NaN</td>\n",
       "      <td>NaN</td>\n",
       "      <td>NaN</td>\n",
       "      <td>NaN</td>\n",
       "      <td>left_only</td>\n",
       "      <td>True</td>\n",
       "    </tr>\n",
       "    <tr>\n",
       "      <th>1059</th>\n",
       "      <td>True</td>\n",
       "      <td>총참모부</td>\n",
       "      <td>작전총국_제4처_7군단</td>\n",
       "      <td>작전총국_제4처</td>\n",
       "      <td>NaN</td>\n",
       "      <td>Current</td>\n",
       "      <td>Current</td>\n",
       "      <td>NaN</td>\n",
       "      <td>NaN</td>\n",
       "      <td>NaN</td>\n",
       "      <td>NaN</td>\n",
       "      <td>NaN</td>\n",
       "      <td>NaN</td>\n",
       "      <td>NaN</td>\n",
       "      <td>left_only</td>\n",
       "      <td>True</td>\n",
       "    </tr>\n",
       "    <tr>\n",
       "      <th>1063</th>\n",
       "      <td>True</td>\n",
       "      <td>총참모부</td>\n",
       "      <td>작전총국_제6처</td>\n",
       "      <td>작전총국</td>\n",
       "      <td>NaN</td>\n",
       "      <td>Current</td>\n",
       "      <td>Current</td>\n",
       "      <td>항공 및 반항공군 담당</td>\n",
       "      <td>NaN</td>\n",
       "      <td>NaN</td>\n",
       "      <td>NaN</td>\n",
       "      <td>NaN</td>\n",
       "      <td>NaN</td>\n",
       "      <td>NaN</td>\n",
       "      <td>left_only</td>\n",
       "      <td>True</td>\n",
       "    </tr>\n",
       "    <tr>\n",
       "      <th>1064</th>\n",
       "      <td>True</td>\n",
       "      <td>총참모부</td>\n",
       "      <td>작전총국_제7처</td>\n",
       "      <td>작전총국</td>\n",
       "      <td>NaN</td>\n",
       "      <td>Current</td>\n",
       "      <td>Current</td>\n",
       "      <td>해군부대, 동해사령부, 서해사령부 담당</td>\n",
       "      <td>NaN</td>\n",
       "      <td>NaN</td>\n",
       "      <td>NaN</td>\n",
       "      <td>NaN</td>\n",
       "      <td>NaN</td>\n",
       "      <td>NaN</td>\n",
       "      <td>left_only</td>\n",
       "      <td>True</td>\n",
       "    </tr>\n",
       "    <tr>\n",
       "      <th>1094</th>\n",
       "      <td>True</td>\n",
       "      <td>최고인민회의</td>\n",
       "      <td>강원도인민위원회</td>\n",
       "      <td>NaN</td>\n",
       "      <td>0.0</td>\n",
       "      <td>Please_Revise</td>\n",
       "      <td>Please_Revise</td>\n",
       "      <td>NaN</td>\n",
       "      <td>NaN</td>\n",
       "      <td>NaN</td>\n",
       "      <td>NaN</td>\n",
       "      <td>NaN</td>\n",
       "      <td>NaN</td>\n",
       "      <td>NaN</td>\n",
       "      <td>left_only</td>\n",
       "      <td>True</td>\n",
       "    </tr>\n",
       "    <tr>\n",
       "      <th>1102</th>\n",
       "      <td>True</td>\n",
       "      <td>최고인민회의</td>\n",
       "      <td>양강도인민위원회</td>\n",
       "      <td>NaN</td>\n",
       "      <td>0.0</td>\n",
       "      <td>Please_Revise</td>\n",
       "      <td>Please_Revise</td>\n",
       "      <td>NaN</td>\n",
       "      <td>NaN</td>\n",
       "      <td>NaN</td>\n",
       "      <td>NaN</td>\n",
       "      <td>NaN</td>\n",
       "      <td>NaN</td>\n",
       "      <td>NaN</td>\n",
       "      <td>left_only</td>\n",
       "      <td>True</td>\n",
       "    </tr>\n",
       "    <tr>\n",
       "      <th>1112</th>\n",
       "      <td>True</td>\n",
       "      <td>최고인민회의</td>\n",
       "      <td>평양시인민위원회</td>\n",
       "      <td>NaN</td>\n",
       "      <td>0.0</td>\n",
       "      <td>Please_Revise</td>\n",
       "      <td>Please_Revise</td>\n",
       "      <td>NaN</td>\n",
       "      <td>NaN</td>\n",
       "      <td>NaN</td>\n",
       "      <td>NaN</td>\n",
       "      <td>NaN</td>\n",
       "      <td>NaN</td>\n",
       "      <td>NaN</td>\n",
       "      <td>left_only</td>\n",
       "      <td>True</td>\n",
       "    </tr>\n",
       "    <tr>\n",
       "      <th>1115</th>\n",
       "      <td>True</td>\n",
       "      <td>최고인민회의</td>\n",
       "      <td>함경북도인민위원회</td>\n",
       "      <td>NaN</td>\n",
       "      <td>0.0</td>\n",
       "      <td>Please_Revise</td>\n",
       "      <td>Please_Revise</td>\n",
       "      <td>NaN</td>\n",
       "      <td>NaN</td>\n",
       "      <td>NaN</td>\n",
       "      <td>NaN</td>\n",
       "      <td>NaN</td>\n",
       "      <td>NaN</td>\n",
       "      <td>NaN</td>\n",
       "      <td>left_only</td>\n",
       "      <td>True</td>\n",
       "    </tr>\n",
       "    <tr>\n",
       "      <th>1116</th>\n",
       "      <td>True</td>\n",
       "      <td>최고인민회의</td>\n",
       "      <td>황해남도인민위원회</td>\n",
       "      <td>NaN</td>\n",
       "      <td>0.0</td>\n",
       "      <td>Please_Revise</td>\n",
       "      <td>Please_Revise</td>\n",
       "      <td>NaN</td>\n",
       "      <td>NaN</td>\n",
       "      <td>NaN</td>\n",
       "      <td>NaN</td>\n",
       "      <td>NaN</td>\n",
       "      <td>NaN</td>\n",
       "      <td>NaN</td>\n",
       "      <td>left_only</td>\n",
       "      <td>True</td>\n",
       "    </tr>\n",
       "    <tr>\n",
       "      <th>1117</th>\n",
       "      <td>True</td>\n",
       "      <td>최고인민회의</td>\n",
       "      <td>황해북도인민위원회</td>\n",
       "      <td>NaN</td>\n",
       "      <td>0.0</td>\n",
       "      <td>Please_Revise</td>\n",
       "      <td>Please_Revise</td>\n",
       "      <td>NaN</td>\n",
       "      <td>NaN</td>\n",
       "      <td>NaN</td>\n",
       "      <td>NaN</td>\n",
       "      <td>NaN</td>\n",
       "      <td>NaN</td>\n",
       "      <td>NaN</td>\n",
       "      <td>left_only</td>\n",
       "      <td>True</td>\n",
       "    </tr>\n",
       "    <tr>\n",
       "      <th>1131</th>\n",
       "      <td>True</td>\n",
       "      <td>최고인민회의</td>\n",
       "      <td>강원도인민위원회</td>\n",
       "      <td>NaN</td>\n",
       "      <td>NaN</td>\n",
       "      <td>Please_Revise</td>\n",
       "      <td>Please_Revise</td>\n",
       "      <td>NaN</td>\n",
       "      <td>최고인민회의</td>\n",
       "      <td>강원도인민위원회</td>\n",
       "      <td>Current</td>\n",
       "      <td>Current</td>\n",
       "      <td>NaN</td>\n",
       "      <td>NaN</td>\n",
       "      <td>both</td>\n",
       "      <td>True</td>\n",
       "    </tr>\n",
       "    <tr>\n",
       "      <th>1132</th>\n",
       "      <td>True</td>\n",
       "      <td>내각</td>\n",
       "      <td>교육위원회</td>\n",
       "      <td>NaN</td>\n",
       "      <td>NaN</td>\n",
       "      <td>Current</td>\n",
       "      <td>Current</td>\n",
       "      <td>NaN</td>\n",
       "      <td>내각</td>\n",
       "      <td>교육위원회</td>\n",
       "      <td>내각</td>\n",
       "      <td>교육위원회</td>\n",
       "      <td>Current</td>\n",
       "      <td>Current</td>\n",
       "      <td>both</td>\n",
       "      <td>True</td>\n",
       "    </tr>\n",
       "    <tr>\n",
       "      <th>1133</th>\n",
       "      <td>True</td>\n",
       "      <td>내각</td>\n",
       "      <td>교통위원회</td>\n",
       "      <td>NaN</td>\n",
       "      <td>NaN</td>\n",
       "      <td>내각</td>\n",
       "      <td>육해운성</td>\n",
       "      <td>NaN</td>\n",
       "      <td>내각</td>\n",
       "      <td>교통위원회</td>\n",
       "      <td>내각</td>\n",
       "      <td>육해운성</td>\n",
       "      <td>NaN</td>\n",
       "      <td>NaN</td>\n",
       "      <td>both</td>\n",
       "      <td>True</td>\n",
       "    </tr>\n",
       "    <tr>\n",
       "      <th>1134</th>\n",
       "      <td>True</td>\n",
       "      <td>내각</td>\n",
       "      <td>국가계획위원회</td>\n",
       "      <td>NaN</td>\n",
       "      <td>NaN</td>\n",
       "      <td>Current</td>\n",
       "      <td>Current</td>\n",
       "      <td>NaN</td>\n",
       "      <td>내각</td>\n",
       "      <td>국가계획위원회</td>\n",
       "      <td>내각</td>\n",
       "      <td>국가계획위원회</td>\n",
       "      <td>Current</td>\n",
       "      <td>Current</td>\n",
       "      <td>both</td>\n",
       "      <td>True</td>\n",
       "    </tr>\n",
       "    <tr>\n",
       "      <th>1135</th>\n",
       "      <td>True</td>\n",
       "      <td>내각</td>\n",
       "      <td>국가과학기술위원회</td>\n",
       "      <td>NaN</td>\n",
       "      <td>NaN</td>\n",
       "      <td>Current</td>\n",
       "      <td>Current</td>\n",
       "      <td>NaN</td>\n",
       "      <td>내각</td>\n",
       "      <td>국가과학기술위원회</td>\n",
       "      <td>내각</td>\n",
       "      <td>국가과학기술위원회</td>\n",
       "      <td>Current</td>\n",
       "      <td>Current</td>\n",
       "      <td>both</td>\n",
       "      <td>True</td>\n",
       "    </tr>\n",
       "    <tr>\n",
       "      <th>1136</th>\n",
       "      <td>True</td>\n",
       "      <td>국무위원회</td>\n",
       "      <td>국방성</td>\n",
       "      <td>NaN</td>\n",
       "      <td>NaN</td>\n",
       "      <td>Current</td>\n",
       "      <td>Current</td>\n",
       "      <td>NaN</td>\n",
       "      <td>국무위원회</td>\n",
       "      <td>국방성</td>\n",
       "      <td>국무위원회</td>\n",
       "      <td>국방성</td>\n",
       "      <td>Current</td>\n",
       "      <td>Current</td>\n",
       "      <td>both</td>\n",
       "      <td>True</td>\n",
       "    </tr>\n",
       "    <tr>\n",
       "      <th>1137</th>\n",
       "      <td>True</td>\n",
       "      <td>국무위원회</td>\n",
       "      <td>국방성_참모부_공병국</td>\n",
       "      <td>국방성</td>\n",
       "      <td>NaN</td>\n",
       "      <td>Please_Revise</td>\n",
       "      <td>Please_Revise</td>\n",
       "      <td>NaN</td>\n",
       "      <td>국무위원회</td>\n",
       "      <td>국방성_참모부_공병국</td>\n",
       "      <td>Current</td>\n",
       "      <td>Current</td>\n",
       "      <td>NaN</td>\n",
       "      <td>NaN</td>\n",
       "      <td>both</td>\n",
       "      <td>True</td>\n",
       "    </tr>\n",
       "    <tr>\n",
       "      <th>1138</th>\n",
       "      <td>True</td>\n",
       "      <td>노동당</td>\n",
       "      <td>당중앙위원회_총정치국</td>\n",
       "      <td>국방성</td>\n",
       "      <td>NaN</td>\n",
       "      <td>Current</td>\n",
       "      <td>Current</td>\n",
       "      <td>NaN</td>\n",
       "      <td>노동당</td>\n",
       "      <td>당중앙위원회_총정치국</td>\n",
       "      <td>총정치국</td>\n",
       "      <td>NaN</td>\n",
       "      <td>Current</td>\n",
       "      <td>Current</td>\n",
       "      <td>both</td>\n",
       "      <td>True</td>\n",
       "    </tr>\n",
       "    <tr>\n",
       "      <th>1139</th>\n",
       "      <td>True</td>\n",
       "      <td>내각</td>\n",
       "      <td>국토환경보호성</td>\n",
       "      <td>NaN</td>\n",
       "      <td>NaN</td>\n",
       "      <td>Current</td>\n",
       "      <td>Current</td>\n",
       "      <td>NaN</td>\n",
       "      <td>내각</td>\n",
       "      <td>국토환경보호성</td>\n",
       "      <td>내각</td>\n",
       "      <td>국토환경보호성</td>\n",
       "      <td>Current</td>\n",
       "      <td>Current</td>\n",
       "      <td>both</td>\n",
       "      <td>True</td>\n",
       "    </tr>\n",
       "    <tr>\n",
       "      <th>1140</th>\n",
       "      <td>True</td>\n",
       "      <td>내각</td>\n",
       "      <td>금속공업부</td>\n",
       "      <td>NaN</td>\n",
       "      <td>NaN</td>\n",
       "      <td>Current</td>\n",
       "      <td>Current</td>\n",
       "      <td>NaN</td>\n",
       "      <td>내각</td>\n",
       "      <td>금속공업부</td>\n",
       "      <td>내각</td>\n",
       "      <td>금속공업성</td>\n",
       "      <td>Current</td>\n",
       "      <td>Current</td>\n",
       "      <td>both</td>\n",
       "      <td>True</td>\n",
       "    </tr>\n",
       "    <tr>\n",
       "      <th>1141</th>\n",
       "      <td>True</td>\n",
       "      <td>내각</td>\n",
       "      <td>노동행정부</td>\n",
       "      <td>NaN</td>\n",
       "      <td>NaN</td>\n",
       "      <td>Current</td>\n",
       "      <td>Current</td>\n",
       "      <td>NaN</td>\n",
       "      <td>내각</td>\n",
       "      <td>노동행정부</td>\n",
       "      <td>내각</td>\n",
       "      <td>노동성</td>\n",
       "      <td>Current</td>\n",
       "      <td>Current</td>\n",
       "      <td>both</td>\n",
       "      <td>True</td>\n",
       "    </tr>\n",
       "    <tr>\n",
       "      <th>1142</th>\n",
       "      <td>True</td>\n",
       "      <td>내각</td>\n",
       "      <td>농업위원회</td>\n",
       "      <td>NaN</td>\n",
       "      <td>NaN</td>\n",
       "      <td>Current</td>\n",
       "      <td>Current</td>\n",
       "      <td>NaN</td>\n",
       "      <td>내각</td>\n",
       "      <td>농업위원회</td>\n",
       "      <td>내각</td>\n",
       "      <td>농업위원회</td>\n",
       "      <td>Current</td>\n",
       "      <td>Current</td>\n",
       "      <td>both</td>\n",
       "      <td>True</td>\n",
       "    </tr>\n",
       "    <tr>\n",
       "      <th>1144</th>\n",
       "      <td>True</td>\n",
       "      <td>내각</td>\n",
       "      <td>수도건설위원회</td>\n",
       "      <td>NaN</td>\n",
       "      <td>NaN</td>\n",
       "      <td>내각</td>\n",
       "      <td>평양건설위원회</td>\n",
       "      <td>NaN</td>\n",
       "      <td>내각</td>\n",
       "      <td>수도건설위원회</td>\n",
       "      <td>내각</td>\n",
       "      <td>평양건설위원회</td>\n",
       "      <td>NaN</td>\n",
       "      <td>NaN</td>\n",
       "      <td>both</td>\n",
       "      <td>True</td>\n",
       "    </tr>\n",
       "    <tr>\n",
       "      <th>1145</th>\n",
       "      <td>True</td>\n",
       "      <td>내각</td>\n",
       "      <td>식료일용공업성</td>\n",
       "      <td>NaN</td>\n",
       "      <td>NaN</td>\n",
       "      <td>NAN</td>\n",
       "      <td>NAN</td>\n",
       "      <td>NaN</td>\n",
       "      <td>내각</td>\n",
       "      <td>식료일용공업성</td>\n",
       "      <td>내각</td>\n",
       "      <td>지방공업성</td>\n",
       "      <td>NAN</td>\n",
       "      <td>NAN</td>\n",
       "      <td>both</td>\n",
       "      <td>True</td>\n",
       "    </tr>\n",
       "    <tr>\n",
       "      <th>1146</th>\n",
       "      <td>True</td>\n",
       "      <td>최고인민회의</td>\n",
       "      <td>양강도인민위원회</td>\n",
       "      <td>NaN</td>\n",
       "      <td>NaN</td>\n",
       "      <td>Please_Revise</td>\n",
       "      <td>Please_Revise</td>\n",
       "      <td>NaN</td>\n",
       "      <td>최고인민회의</td>\n",
       "      <td>양강도인민위원회</td>\n",
       "      <td>Current</td>\n",
       "      <td>Current</td>\n",
       "      <td>NaN</td>\n",
       "      <td>NaN</td>\n",
       "      <td>both</td>\n",
       "      <td>True</td>\n",
       "    </tr>\n",
       "    <tr>\n",
       "      <th>1147</th>\n",
       "      <td>True</td>\n",
       "      <td>내각</td>\n",
       "      <td>외무성</td>\n",
       "      <td>NaN</td>\n",
       "      <td>NaN</td>\n",
       "      <td>Current</td>\n",
       "      <td>Current</td>\n",
       "      <td>NaN</td>\n",
       "      <td>내각</td>\n",
       "      <td>외무성</td>\n",
       "      <td>내각</td>\n",
       "      <td>외무성</td>\n",
       "      <td>Current</td>\n",
       "      <td>Current</td>\n",
       "      <td>both</td>\n",
       "      <td>True</td>\n",
       "    </tr>\n",
       "    <tr>\n",
       "      <th>1148</th>\n",
       "      <td>True</td>\n",
       "      <td>내각</td>\n",
       "      <td>육해운부</td>\n",
       "      <td>NaN</td>\n",
       "      <td>NaN</td>\n",
       "      <td>Current</td>\n",
       "      <td>Current</td>\n",
       "      <td>NaN</td>\n",
       "      <td>내각</td>\n",
       "      <td>육해운부</td>\n",
       "      <td>내각</td>\n",
       "      <td>육해운성</td>\n",
       "      <td>Current</td>\n",
       "      <td>Current</td>\n",
       "      <td>both</td>\n",
       "      <td>True</td>\n",
       "    </tr>\n",
       "    <tr>\n",
       "      <th>1149</th>\n",
       "      <td>True</td>\n",
       "      <td>내각</td>\n",
       "      <td>육해운성</td>\n",
       "      <td>NaN</td>\n",
       "      <td>NaN</td>\n",
       "      <td>Current</td>\n",
       "      <td>Current</td>\n",
       "      <td>NaN</td>\n",
       "      <td>내각</td>\n",
       "      <td>육해운성</td>\n",
       "      <td>내각</td>\n",
       "      <td>육해운성</td>\n",
       "      <td>Current</td>\n",
       "      <td>Current</td>\n",
       "      <td>both</td>\n",
       "      <td>True</td>\n",
       "    </tr>\n",
       "    <tr>\n",
       "      <th>1151</th>\n",
       "      <td>True</td>\n",
       "      <td>총참모부</td>\n",
       "      <td>작전총국_보도처_판문점대표부</td>\n",
       "      <td>인민군</td>\n",
       "      <td>NaN</td>\n",
       "      <td>Current</td>\n",
       "      <td>Current</td>\n",
       "      <td>NaN</td>\n",
       "      <td>총참모부</td>\n",
       "      <td>작전총국_보도처_판문점대표부</td>\n",
       "      <td>조선인민군</td>\n",
       "      <td>판문점대표부</td>\n",
       "      <td>Current</td>\n",
       "      <td>Current</td>\n",
       "      <td>both</td>\n",
       "      <td>True</td>\n",
       "    </tr>\n",
       "    <tr>\n",
       "      <th>1152</th>\n",
       "      <td>True</td>\n",
       "      <td>내각</td>\n",
       "      <td>전기석탄공업성</td>\n",
       "      <td>NaN</td>\n",
       "      <td>NaN</td>\n",
       "      <td>내각</td>\n",
       "      <td>석탄공업성</td>\n",
       "      <td>NaN</td>\n",
       "      <td>내각</td>\n",
       "      <td>전기석탄공업성</td>\n",
       "      <td>내각</td>\n",
       "      <td>석탄공업성</td>\n",
       "      <td>NaN</td>\n",
       "      <td>NaN</td>\n",
       "      <td>both</td>\n",
       "      <td>True</td>\n",
       "    </tr>\n",
       "    <tr>\n",
       "      <th>1153</th>\n",
       "      <td>True</td>\n",
       "      <td>내각</td>\n",
       "      <td>전력공업성</td>\n",
       "      <td>NaN</td>\n",
       "      <td>NaN</td>\n",
       "      <td>Current</td>\n",
       "      <td>Current</td>\n",
       "      <td>NaN</td>\n",
       "      <td>내각</td>\n",
       "      <td>전력공업성</td>\n",
       "      <td>내각</td>\n",
       "      <td>전력공업성</td>\n",
       "      <td>Current</td>\n",
       "      <td>Current</td>\n",
       "      <td>both</td>\n",
       "      <td>True</td>\n",
       "    </tr>\n",
       "    <tr>\n",
       "      <th>1154</th>\n",
       "      <td>True</td>\n",
       "      <td>내각</td>\n",
       "      <td>조국평화통일위원회</td>\n",
       "      <td>NaN</td>\n",
       "      <td>NaN</td>\n",
       "      <td>Current</td>\n",
       "      <td>Current</td>\n",
       "      <td>NaN</td>\n",
       "      <td>내각</td>\n",
       "      <td>조국평화통일위원회</td>\n",
       "      <td>내각</td>\n",
       "      <td>조국평화통일위원회</td>\n",
       "      <td>Current</td>\n",
       "      <td>Current</td>\n",
       "      <td>both</td>\n",
       "      <td>True</td>\n",
       "    </tr>\n",
       "    <tr>\n",
       "      <th>1156</th>\n",
       "      <td>True</td>\n",
       "      <td>내각</td>\n",
       "      <td>철도성</td>\n",
       "      <td>NaN</td>\n",
       "      <td>NaN</td>\n",
       "      <td>Current</td>\n",
       "      <td>Current</td>\n",
       "      <td>NaN</td>\n",
       "      <td>내각</td>\n",
       "      <td>철도성</td>\n",
       "      <td>내각</td>\n",
       "      <td>철도성</td>\n",
       "      <td>Current</td>\n",
       "      <td>Current</td>\n",
       "      <td>both</td>\n",
       "      <td>True</td>\n",
       "    </tr>\n",
       "    <tr>\n",
       "      <th>1157</th>\n",
       "      <td>True</td>\n",
       "      <td>내각</td>\n",
       "      <td>체육부</td>\n",
       "      <td>NaN</td>\n",
       "      <td>NaN</td>\n",
       "      <td>내각</td>\n",
       "      <td>체육성</td>\n",
       "      <td>NaN</td>\n",
       "      <td>내각</td>\n",
       "      <td>체육부</td>\n",
       "      <td>내각</td>\n",
       "      <td>체육성</td>\n",
       "      <td>NaN</td>\n",
       "      <td>NaN</td>\n",
       "      <td>both</td>\n",
       "      <td>True</td>\n",
       "    </tr>\n",
       "    <tr>\n",
       "      <th>1158</th>\n",
       "      <td>True</td>\n",
       "      <td>최고인민회의</td>\n",
       "      <td>평양시인민위원회</td>\n",
       "      <td>NaN</td>\n",
       "      <td>NaN</td>\n",
       "      <td>Please_Revise</td>\n",
       "      <td>Please_Revise</td>\n",
       "      <td>NaN</td>\n",
       "      <td>최고인민회의</td>\n",
       "      <td>평양시인민위원회</td>\n",
       "      <td>Current</td>\n",
       "      <td>Current</td>\n",
       "      <td>NaN</td>\n",
       "      <td>NaN</td>\n",
       "      <td>both</td>\n",
       "      <td>True</td>\n",
       "    </tr>\n",
       "    <tr>\n",
       "      <th>1159</th>\n",
       "      <td>True</td>\n",
       "      <td>최고인민회의</td>\n",
       "      <td>함경북도인민위원회</td>\n",
       "      <td>NaN</td>\n",
       "      <td>NaN</td>\n",
       "      <td>Please_Revise</td>\n",
       "      <td>Please_Revise</td>\n",
       "      <td>NaN</td>\n",
       "      <td>최고인민회의</td>\n",
       "      <td>함경북도인민위원회</td>\n",
       "      <td>Current</td>\n",
       "      <td>Current</td>\n",
       "      <td>NaN</td>\n",
       "      <td>NaN</td>\n",
       "      <td>both</td>\n",
       "      <td>True</td>\n",
       "    </tr>\n",
       "    <tr>\n",
       "      <th>1160</th>\n",
       "      <td>True</td>\n",
       "      <td>최고인민회의</td>\n",
       "      <td>황해남도인민위원회</td>\n",
       "      <td>NaN</td>\n",
       "      <td>NaN</td>\n",
       "      <td>Please_Revise</td>\n",
       "      <td>Please_Revise</td>\n",
       "      <td>NaN</td>\n",
       "      <td>최고인민회의</td>\n",
       "      <td>황해남도인민위원회</td>\n",
       "      <td>Current</td>\n",
       "      <td>Current</td>\n",
       "      <td>NaN</td>\n",
       "      <td>NaN</td>\n",
       "      <td>both</td>\n",
       "      <td>True</td>\n",
       "    </tr>\n",
       "    <tr>\n",
       "      <th>1161</th>\n",
       "      <td>True</td>\n",
       "      <td>최고인민회의</td>\n",
       "      <td>황해북도인민위원회</td>\n",
       "      <td>NaN</td>\n",
       "      <td>NaN</td>\n",
       "      <td>Please_Revise</td>\n",
       "      <td>Please_Revise</td>\n",
       "      <td>NaN</td>\n",
       "      <td>최고인민회의</td>\n",
       "      <td>황해북도인민위원회</td>\n",
       "      <td>Current</td>\n",
       "      <td>Current</td>\n",
       "      <td>NaN</td>\n",
       "      <td>NaN</td>\n",
       "      <td>both</td>\n",
       "      <td>True</td>\n",
       "    </tr>\n",
       "  </tbody>\n",
       "</table>\n",
       "</div>"
      ],
      "text/plain": [
       "      InsideGov PrimaryInstitution                         OrgName  \\\n",
       "17         True              국무위원회                             국방성   \n",
       "20         True              국무위원회                     국방성_참모부_공병국   \n",
       "43         True              국무위원회                     국방성_참모부_통신국   \n",
       "44         True              국무위원회                     국방성_참모부_통신국   \n",
       "91         True              보위사령부                             보위국   \n",
       "92         True              국방위원회                           인민무력부   \n",
       "112        True                 내각              교육위원회_고등교육성_김책공업대학   \n",
       "113        True                 내각             교육위원회_고등교육성_김형직사범대학   \n",
       "116        True                 내각                           교육위원회   \n",
       "120        True                 내각              교육위원회_고등교육성_김책공업대학   \n",
       "121        True                 내각             교육위원회_고등교육성_김형직사범대학   \n",
       "126        True                 내각                           교통위원회   \n",
       "131        True                 내각                         국가계획위원회   \n",
       "132        True                 내각                       국가과학기술위원회   \n",
       "137        True              국방위원회                           인민무력부   \n",
       "138        True                 내각                         국토환경보호성   \n",
       "139        True                 내각                           금속공업부   \n",
       "146        True                 내각                           노동행정부   \n",
       "148        True                 내각                           농업위원회   \n",
       "207        True                 내각                         수도건설위원회   \n",
       "210        True                 내각                         식료일용공업성   \n",
       "213        True                 내각      외무성_아프리카-라틴아메리카-아랍국_알제리대사관   \n",
       "214        True                 내각  외무성_아프리카-라틴아메리카-아랍국_콩고민주공화국대사관   \n",
       "217        True                 내각                             외무성   \n",
       "218        True                 내각                             외무성   \n",
       "219        True                 내각    외무성_아프리카-라틴아메리카-아랍국_나이지리아대사관   \n",
       "220        True                 내각                 외무성_아시아1국_네팔대사관   \n",
       "221        True                 내각                  외무성_유럽2국_독일대사관   \n",
       "222        True                 내각                외무성_아시아2국_라오스대사관   \n",
       "223        True                 내각                 외무성_유럽1국_러시아대사관   \n",
       "224        True                 내각                외무성_유럽1국_루마니아대사관   \n",
       "229        True                 내각                외무성_유럽1국_벨라루스대사관   \n",
       "230        True                 내각                외무성_유럽1국_불가리아대사관   \n",
       "231        True                 내각                 외무성_유럽2국_스웨덴대사관   \n",
       "232        True                 내각                 외무성_유럽2국_스위스대사관   \n",
       "233        True                 내각      외무성_아프리카-라틴아메리카-아랍국_시리아대사관   \n",
       "234        True                 내각               외무성_아시아2국_싱가포르대사관   \n",
       "235        True                 내각               외무성_아시아2국_싱가포르대사관   \n",
       "236        True                 내각      외무성_아프리카-라틴아메리카-아랍국_알제리대사관   \n",
       "237        True                 내각      외무성_아프리카-라틴아메리카-아랍국_앙골라대사관   \n",
       "238        True                 내각    외무성_아프리카-라틴아메리카-아랍국_에티오피아대사관   \n",
       "239        True                 내각                  외무성_유럽2국_영국대사관   \n",
       "240        True                 내각               외무성_유럽2국_오스트리아대사관   \n",
       "241        True                 내각      외무성_아프리카-라틴아메리카-아랍국_우간다대사관   \n",
       "242        True                 내각      외무성_아프리카-라틴아메리카-아랍국_이집트대사관   \n",
       "243        True                 내각              외무성_아시아2국_인도네시아대사관   \n",
       "244        True                 내각                 외무성_아시아1국_중국대사관   \n",
       "245        True                 내각                  외무성_유럽1국_체코대사관   \n",
       "246        True                 내각               외무성_아시아2국_캄보디아대사관   \n",
       "248        True                 내각  외무성_아프리카-라틴아메리카-아랍국_콩고민주공화국대사관   \n",
       "249        True                 내각       외무성_아프리카-라틴아메리카-아랍국_쿠바대사관   \n",
       "250        True                 내각     외무성_아프리카-라틴아메리카-아랍국_쿠웨이트대사관   \n",
       "251        True                 내각                 외무성_유럽2국_폴란드대사관   \n",
       "252        True                 내각                 외무성_유럽2국_프랑스대표부   \n",
       "259        True                 내각                 외무성_아시아1국_네팔대사관   \n",
       "262        True                 내각                 외무성_아시아1국_중국대사관   \n",
       "265        True                 내각                외무성_아시아2국_라오스대사관   \n",
       "269        True                 내각               외무성_아시아2국_싱가포르대사관   \n",
       "270        True                 내각              외무성_아시아2국_인도네시아대사관   \n",
       "272        True                 내각               외무성_아시아2국_캄보디아대사관   \n",
       "277        True                 내각    외무성_아프리카-라틴아메리카-아랍국_나이지리아대사관   \n",
       "284        True                 내각      외무성_아프리카-라틴아메리카-아랍국_시리아대사관   \n",
       "285        True                 내각      외무성_아프리카-라틴아메리카-아랍국_알제리대사관   \n",
       "286        True                 내각      외무성_아프리카-라틴아메리카-아랍국_앙골라대사관   \n",
       "287        True                 내각    외무성_아프리카-라틴아메리카-아랍국_에티오피아대사관   \n",
       "288        True                 내각      외무성_아프리카-라틴아메리카-아랍국_우간다대사관   \n",
       "290        True                 내각      외무성_아프리카-라틴아메리카-아랍국_이집트대사관   \n",
       "292        True                 내각  외무성_아프리카-라틴아메리카-아랍국_콩고민주공화국대사관   \n",
       "293        True                 내각       외무성_아프리카-라틴아메리카-아랍국_쿠바대사관   \n",
       "294        True                 내각     외무성_아프리카-라틴아메리카-아랍국_쿠웨이트대사관   \n",
       "299        True                 내각                 외무성_유럽1국_러시아대사관   \n",
       "300        True                 내각                외무성_유럽1국_루마니아대사관   \n",
       "301        True                 내각                외무성_유럽1국_벨라루스대사관   \n",
       "302        True                 내각                외무성_유럽1국_불가리아대사관   \n",
       "304        True                 내각                  외무성_유럽1국_체코대사관   \n",
       "306        True                 내각                  외무성_유럽2국_독일대사관   \n",
       "307        True                 내각                 외무성_유럽2국_스웨덴대사관   \n",
       "308        True                 내각                 외무성_유럽2국_스위스대사관   \n",
       "310        True                 내각                  외무성_유럽2국_영국대사관   \n",
       "311        True                 내각               외무성_유럽2국_오스트리아대사관   \n",
       "313        True                 내각                 외무성_유럽2국_폴란드대사관   \n",
       "314        True                 내각                 외무성_유럽2국_프랑스대표부   \n",
       "323        True                 내각                            육해운부   \n",
       "324        True                 내각                            육해운성   \n",
       "335        True                 내각                         전기석탄공업성   \n",
       "336        True                 내각                           전력공업성   \n",
       "339        True                 내각                       조국평화통일위원회   \n",
       "346        True                 내각                             철도성   \n",
       "351        True                 내각                             체육부   \n",
       "361        True                노동당                    당중앙위원회_군수공업부   \n",
       "377        True                노동당                    당중앙위원회_문화예술부   \n",
       "409       False          조선문학예술총동맹                         조선음악가동맹   \n",
       "421       False             조선적십자회                           중앙위원회   \n",
       "428       False      조선천도교회중앙지도위원회                           중앙위원회   \n",
       "435       False           조선카톨릭교협회                           중앙위원회   \n",
       "461        True                노동당              당중앙위원회_선전선동부_로동신문사   \n",
       "469        True                노동당                  당중앙위원회_자강도당위원회   \n",
       "470        True                노동당                  당중앙위원회_자강도당위원회   \n",
       "483        True                노동당                  당중앙위원회_평양시당위원회   \n",
       "484        True                노동당                  당중앙위원회_평양시당위원회   \n",
       "495       False         사회주의애국청년동맹                           중앙위원회   \n",
       "511        True                노동당                    당중앙위원회_군수공업부   \n",
       "515        True                노동당              당중앙위원회_선전선동부_로동신문사   \n",
       "516        True                노동당              당중앙위원회_선전선동부_로동신문사   \n",
       "531        True                노동당                    당중앙위원회_문화예술부   \n",
       "542        True                노동당                     당중앙위원회_총정치국   \n",
       "561       False         사회주의애국청년동맹                           중앙위원회   \n",
       "595        True               총참모부                   작전총국_제3처_제1군단   \n",
       "597        True               총참모부                   작전총국_제3처_제1군단   \n",
       "598        True               총참모부                   작전총국_제3처_제2군단   \n",
       "599        True               총참모부                   작전총국_제3처_제2군단   \n",
       "600        True               총참모부                   작전총국_제3처_제2군단   \n",
       "601        True               총참모부                   작전총국_제3처_제2군단   \n",
       "603        True               총참모부                   작전총국_제3처_제4군단   \n",
       "604        True               총참모부                   작전총국_제3처_제5군단   \n",
       "606        True               총참모부                   작전총국_제4처_제8군단   \n",
       "607        True               총참모부                   작전총국_제4처_제9군단   \n",
       "608        True               총참모부                        작전총국_제6처   \n",
       "611        True               총참모부                        작전총국_제7처   \n",
       "612        True               총참모부                작전총국_제7처_서해함대사령부   \n",
       "703       False          조선문학예술총동맹                         조선음악가동맹   \n",
       "781        True               총참모부                 작전총국_보도처_판문점대표부   \n",
       "808        True               총참모부                작전총국_제7처_서해함대사령부   \n",
       "829       False             조선적십자회                           중앙위원회   \n",
       "860       False      조선천도교회중앙지도위원회                           중앙위원회   \n",
       "869       False           조선카톨릭교협회                           중앙위원회   \n",
       "887        True              보위사령부                             보위국   \n",
       "891        True               총참모부                   작전총국_제3처_제1군단   \n",
       "892        True               총참모부                   작전총국_제3처_제1군단   \n",
       "894        True               총참모부                   작전총국_제3처_제1군단   \n",
       "899        True               총참모부                   작전총국_제3처_제1군단   \n",
       "903        True               총참모부                   작전총국_제3처_제1군단   \n",
       "917        True               총참모부                   작전총국_제3처_제1군단   \n",
       "922        True               총참모부                   작전총국_제3처_제1군단   \n",
       "938        True               총참모부                   작전총국_제3처_제1군단   \n",
       "943        True               총참모부                   작전총국_제3처_제1군단   \n",
       "957        True               총참모부                   작전총국_제3처_제1군단   \n",
       "965        True               총참모부                   작전총국_제3처_제2군단   \n",
       "966        True               총참모부                   작전총국_제3처_제2군단   \n",
       "967        True               총참모부                   작전총국_제3처_제2군단   \n",
       "972        True               총참모부                   작전총국_제3처_제2군단   \n",
       "976        True               총참모부                    작전총국_제3처_2군단   \n",
       "977        True               총참모부                   작전총국_제3처_제2군단   \n",
       "982        True               총참모부                   작전총국_제3처_제4군단   \n",
       "983        True               총참모부                   작전총국_제3처_제4군단   \n",
       "988        True               총참모부                   작전총국_제3처_제4군단   \n",
       "994        True               총참모부                   작전총국_제3처_제4군단   \n",
       "1000       True               총참모부                   작전총국_제3처_제4군단   \n",
       "1009       True               총참모부                   작전총국_제3처_제5군단   \n",
       "1010       True               총참모부                   작전총국_제3처_제5군단   \n",
       "1014       True               총참모부                   작전총국_제3처_제5군단   \n",
       "1015       True               총참모부                   작전총국_제3처_제5군단   \n",
       "1016       True               총참모부                   작전총국_제3처_제5군단   \n",
       "1034       True               총참모부                    작전총국_제4처_7군단   \n",
       "1035       True               총참모부                   작전총국_제4처_제8군단   \n",
       "1036       True               총참모부                   작전총국_제4처_제9군단   \n",
       "1052       True               총참모부                    작전총국_제3처_2군단   \n",
       "1059       True               총참모부                    작전총국_제4처_7군단   \n",
       "1063       True               총참모부                        작전총국_제6처   \n",
       "1064       True               총참모부                        작전총국_제7처   \n",
       "1094       True             최고인민회의                        강원도인민위원회   \n",
       "1102       True             최고인민회의                        양강도인민위원회   \n",
       "1112       True             최고인민회의                        평양시인민위원회   \n",
       "1115       True             최고인민회의                       함경북도인민위원회   \n",
       "1116       True             최고인민회의                       황해남도인민위원회   \n",
       "1117       True             최고인민회의                       황해북도인민위원회   \n",
       "1131       True             최고인민회의                        강원도인민위원회   \n",
       "1132       True                 내각                           교육위원회   \n",
       "1133       True                 내각                           교통위원회   \n",
       "1134       True                 내각                         국가계획위원회   \n",
       "1135       True                 내각                       국가과학기술위원회   \n",
       "1136       True              국무위원회                             국방성   \n",
       "1137       True              국무위원회                     국방성_참모부_공병국   \n",
       "1138       True                노동당                     당중앙위원회_총정치국   \n",
       "1139       True                 내각                         국토환경보호성   \n",
       "1140       True                 내각                           금속공업부   \n",
       "1141       True                 내각                           노동행정부   \n",
       "1142       True                 내각                           농업위원회   \n",
       "1144       True                 내각                         수도건설위원회   \n",
       "1145       True                 내각                         식료일용공업성   \n",
       "1146       True             최고인민회의                        양강도인민위원회   \n",
       "1147       True                 내각                             외무성   \n",
       "1148       True                 내각                            육해운부   \n",
       "1149       True                 내각                            육해운성   \n",
       "1151       True               총참모부                 작전총국_보도처_판문점대표부   \n",
       "1152       True                 내각                         전기석탄공업성   \n",
       "1153       True                 내각                           전력공업성   \n",
       "1154       True                 내각                       조국평화통일위원회   \n",
       "1156       True                 내각                             철도성   \n",
       "1157       True                 내각                             체육부   \n",
       "1158       True             최고인민회의                        평양시인민위원회   \n",
       "1159       True             최고인민회의                       함경북도인민위원회   \n",
       "1160       True             최고인민회의                       황해남도인민위원회   \n",
       "1161       True             최고인민회의                       황해북도인민위원회   \n",
       "\n",
       "     ImmediateSuperiorOrg  SupervisesParent LinkToCurrent_PrimaryInstitution  \\\n",
       "17                    NaN               NaN                          Current   \n",
       "20                    국방성               NaN                          Current   \n",
       "43                    국방성               NaN                          Current   \n",
       "44                    국방성               NaN                          Current   \n",
       "91                    NaN               NaN                          Current   \n",
       "92                    NaN               NaN                            국무위원회   \n",
       "112                   교육성               NaN                               내각   \n",
       "113                   교육성               NaN                               내각   \n",
       "116                   NaN               NaN                          Current   \n",
       "120           교육위원회_고등교육성               NaN                          Current   \n",
       "121           교육위원회_고등교육성               NaN                          Current   \n",
       "126                   NaN               NaN                               내각   \n",
       "131                   NaN               NaN                          Current   \n",
       "132                   NaN               NaN                          Current   \n",
       "137                   NaN               NaN                            국무위원회   \n",
       "138                   NaN               NaN                          Current   \n",
       "139                   NaN               NaN                               내각   \n",
       "146                   NaN               NaN                               내각   \n",
       "148                   NaN               NaN                          Current   \n",
       "207                   NaN               NaN                               내각   \n",
       "210                   NaN               NaN                               내각   \n",
       "213                외교부_X국               NaN                               내각   \n",
       "214                외교부_X국               NaN                               내각   \n",
       "217                   NaN               NaN                          Current   \n",
       "218                   외무성               NaN                    Please_Revise   \n",
       "219                외무성_X국               NaN                               내각   \n",
       "220                외무성_X국               NaN                               내각   \n",
       "221                외무성_X국               NaN                               내각   \n",
       "222                외무성_X국               NaN                               내각   \n",
       "223                외무성_X국               NaN                               내각   \n",
       "224                외무성_X국               NaN                               내각   \n",
       "229                외무성_X국               NaN                               내각   \n",
       "230                외무성_X국               NaN                               내각   \n",
       "231                외무성_X국               NaN                               내각   \n",
       "232                외무성_X국               NaN                               내각   \n",
       "233                외무성_X국               NaN                               내각   \n",
       "234                외무성_X국               NaN                               내각   \n",
       "235                외무성_X국               NaN                          Current   \n",
       "236                외무성_X국               NaN                               내각   \n",
       "237                외무성_X국               NaN                               내각   \n",
       "238                외무성_X국               NaN                               내각   \n",
       "239                외무성_X국               NaN                               내각   \n",
       "240                외무성_X국               NaN                               내각   \n",
       "241                외무성_X국               NaN                          Current   \n",
       "242                외무성_X국               NaN                               내각   \n",
       "243                외무성_X국               NaN                               내각   \n",
       "244                외무성_X국               NaN                               내각   \n",
       "245                외무성_X국               NaN                               내각   \n",
       "246                외무성_X국               NaN                               내각   \n",
       "248                외무성_X국               NaN                               내각   \n",
       "249                외무성_X국               NaN                               내각   \n",
       "250                외무성_X국               NaN                               내각   \n",
       "251                외무성_X국               NaN                               내각   \n",
       "252                외무성_X국               NaN                               내각   \n",
       "259             외무성_아시아1국               NaN                          Current   \n",
       "262             외무성_아시아1국               NaN                          Current   \n",
       "265             외무성_아시아2국               NaN                          Current   \n",
       "269             외무성_아시아2국               NaN                          Current   \n",
       "270             외무성_아시아2국               NaN                          Current   \n",
       "272             외무성_아시아2국               NaN                          Current   \n",
       "277   외무성_아프리카-라틴아메리카-아랍국               NaN                          Current   \n",
       "284   외무성_아프리카-라틴아메리카-아랍국               NaN                          Current   \n",
       "285   외무성_아프리카-라틴아메리카-아랍국               NaN                          Current   \n",
       "286   외무성_아프리카-라틴아메리카-아랍국               NaN                          Current   \n",
       "287   외무성_아프리카-라틴아메리카-아랍국               NaN                          Current   \n",
       "288   외무성_아프리카-라틴아메리카-아랍국               NaN                          Current   \n",
       "290   외무성_아프리카-라틴아메리카-아랍국               NaN                          Current   \n",
       "292   외무성_아프리카-라틴아메리카-아랍국               NaN                          Current   \n",
       "293   외무성_아프리카-라틴아메리카-아랍국               NaN                          Current   \n",
       "294   외무성_아프리카-라틴아메리카-아랍국               NaN                          Current   \n",
       "299              외무성_유럽1국               NaN                          Current   \n",
       "300              외무성_유럽1국               NaN                          Current   \n",
       "301              외무성_유럽1국               NaN                          Current   \n",
       "302              외무성_유럽1국               NaN                          Current   \n",
       "304              외무성_유럽1국               NaN                          Current   \n",
       "306              외무성_유럽2국               NaN                          Current   \n",
       "307              외무성_유럽2국               NaN                          Current   \n",
       "308              외무성_유럽2국               NaN                          Current   \n",
       "310              외무성_유럽2국               NaN                          Current   \n",
       "311              외무성_유럽2국               NaN                          Current   \n",
       "313              외무성_유럽2국               NaN                          Current   \n",
       "314              외무성_유럽2국               NaN                          Current   \n",
       "323                   NaN               NaN                               내각   \n",
       "324                   NaN               NaN                          Current   \n",
       "335                   NaN               NaN                               내각   \n",
       "336                   NaN               NaN                          Current   \n",
       "339                   NaN               NaN                          Current   \n",
       "346                   NaN               NaN                          Current   \n",
       "351                   NaN               NaN                               내각   \n",
       "361                   NaN               NaN                    Please_Revise   \n",
       "377                 선전선동부               NaN                    Please_Revise   \n",
       "409                   NaN               NaN                    Please_Revise   \n",
       "421                조선적십자회               NaN                          Current   \n",
       "428                조선천도교회               NaN                          Current   \n",
       "435               조선카톨릭협회               NaN                          Current   \n",
       "461                 중앙위원회               NaN                          Current   \n",
       "469                 중앙위원회               NaN                    Please_Revise   \n",
       "470         중앙위원회_자강도당위원회               NaN                    Please_Revise   \n",
       "483                 중앙위원회               NaN                          Current   \n",
       "484         중앙위원회_평양시당위원회               NaN                          Current   \n",
       "495                  청년동맹               NaN                    Please_Revise   \n",
       "511                   NaN               0.0                          Current   \n",
       "515                   NaN               0.0                    Please_Revise   \n",
       "516                 노동신문사               NaN                          Current   \n",
       "531                   NaN               NaN                          Current   \n",
       "542                   NaN               NaN                          Current   \n",
       "561                   NaN               NaN                          Current   \n",
       "595                   NaN               NaN                          Current   \n",
       "597                   1군단               NaN                    Please_Revise   \n",
       "598                   NaN               NaN                          Current   \n",
       "599                   2군단               NaN                          Current   \n",
       "600                   2군단               NaN                    Please_Revise   \n",
       "601               2군단_8사단               NaN                          Current   \n",
       "603                   NaN               NaN                          Current   \n",
       "604                   NaN               NaN                          Current   \n",
       "606                   NaN               NaN                          Current   \n",
       "607                   NaN               NaN                          Current   \n",
       "608                   NaN               NaN                          Current   \n",
       "611                   NaN               NaN                    Please_Revise   \n",
       "612                 해군사령부               NaN                    Please_Revise   \n",
       "703                   NaN               NaN                          Current   \n",
       "781                   NaN               NaN                          Current   \n",
       "808                   NaN               NaN                          Current   \n",
       "829                   NaN               NaN                          Current   \n",
       "860                   NaN               NaN                          Current   \n",
       "869                   NaN               NaN                          Current   \n",
       "887                   NaN               NaN                    Please_Revise   \n",
       "891                   NaN               NaN                    Please_Revise   \n",
       "892                   1군단               NaN                          Current   \n",
       "894              1군단_공병연대               NaN                          Current   \n",
       "899        1군단_근위강건제2보병사단               NaN                          Current   \n",
       "903    1군단_근위강건제2보병사단_직할대               NaN                          Current   \n",
       "917             1군단_제13사단               NaN                          Current   \n",
       "922         1군단_제13사단_직할대               NaN                          Current   \n",
       "938             1군단_제46사단               NaN                          Current   \n",
       "943         1군단_제46사단_직할대               NaN                          Current   \n",
       "957               1군단_직할대               NaN                          Current   \n",
       "965                   NaN               NaN                          Current   \n",
       "966                   2군단               NaN                          Current   \n",
       "967        2군단_근위서울제3보병사단               NaN                          Current   \n",
       "972          2군단_근위제6보병사단               NaN                          Current   \n",
       "976                   2군단               NaN                          Current   \n",
       "977            2군단_제8보병사단               NaN                          Current   \n",
       "982                   NaN               NaN                          Current   \n",
       "983                   4군단               NaN                          Current   \n",
       "988              4군단_26사단               NaN                          Current   \n",
       "994              4군단_28사단               NaN                          Current   \n",
       "1000             4군단_33사단               NaN                          Current   \n",
       "1009                  NaN               NaN                          Current   \n",
       "1010                  5군단               NaN                          Current   \n",
       "1014                  5군단               NaN                    Please_Revise   \n",
       "1015              5군단_직할대               NaN                          Current   \n",
       "1016              5군단_직할대               NaN                          Current   \n",
       "1034                  NaN               NaN                          Current   \n",
       "1035                  NaN               NaN                          Current   \n",
       "1036                  NaN               NaN                          Current   \n",
       "1052             작전총국_제3처               NaN                          Current   \n",
       "1059             작전총국_제4처               NaN                          Current   \n",
       "1063                 작전총국               NaN                          Current   \n",
       "1064                 작전총국               NaN                          Current   \n",
       "1094                  NaN               0.0                    Please_Revise   \n",
       "1102                  NaN               0.0                    Please_Revise   \n",
       "1112                  NaN               0.0                    Please_Revise   \n",
       "1115                  NaN               0.0                    Please_Revise   \n",
       "1116                  NaN               0.0                    Please_Revise   \n",
       "1117                  NaN               0.0                    Please_Revise   \n",
       "1131                  NaN               NaN                    Please_Revise   \n",
       "1132                  NaN               NaN                          Current   \n",
       "1133                  NaN               NaN                               내각   \n",
       "1134                  NaN               NaN                          Current   \n",
       "1135                  NaN               NaN                          Current   \n",
       "1136                  NaN               NaN                          Current   \n",
       "1137                  국방성               NaN                    Please_Revise   \n",
       "1138                  국방성               NaN                          Current   \n",
       "1139                  NaN               NaN                          Current   \n",
       "1140                  NaN               NaN                          Current   \n",
       "1141                  NaN               NaN                          Current   \n",
       "1142                  NaN               NaN                          Current   \n",
       "1144                  NaN               NaN                               내각   \n",
       "1145                  NaN               NaN                              NAN   \n",
       "1146                  NaN               NaN                    Please_Revise   \n",
       "1147                  NaN               NaN                          Current   \n",
       "1148                  NaN               NaN                          Current   \n",
       "1149                  NaN               NaN                          Current   \n",
       "1151                  인민군               NaN                          Current   \n",
       "1152                  NaN               NaN                               내각   \n",
       "1153                  NaN               NaN                          Current   \n",
       "1154                  NaN               NaN                          Current   \n",
       "1156                  NaN               NaN                          Current   \n",
       "1157                  NaN               NaN                               내각   \n",
       "1158                  NaN               NaN                    Please_Revise   \n",
       "1159                  NaN               NaN                    Please_Revise   \n",
       "1160                  NaN               NaN                    Please_Revise   \n",
       "1161                  NaN               NaN                    Please_Revise   \n",
       "\n",
       "               LinkToCurrent_OrgName  \\\n",
       "17                           Current   \n",
       "20                           Current   \n",
       "43                           Current   \n",
       "44                           Current   \n",
       "91                           Current   \n",
       "92                               국방성   \n",
       "112               교육위원회_고등교육성_김책공업대학   \n",
       "113              교육위원회_고등교육성_김형직사범대학   \n",
       "116                          Current   \n",
       "120                          Current   \n",
       "121                          Current   \n",
       "126                             육해운성   \n",
       "131                          Current   \n",
       "132                          Current   \n",
       "137                              국방성   \n",
       "138                          Current   \n",
       "139                            금속공업성   \n",
       "146                              노동성   \n",
       "148                          Current   \n",
       "207                          평양건설위원회   \n",
       "210                            지방공업성   \n",
       "213       외무성_아프리카-라틴아메리카-아랍국_알제리대사관   \n",
       "214   외무성_아프리카-라틴아메리카-아랍국_콩고민주공화국대사관   \n",
       "217                          Current   \n",
       "218                    Please_Revise   \n",
       "219     외무성_아프리카-라틴아메리카-아랍국_나이지리아대사관   \n",
       "220                  외무성_아시아1국_네팔대사관   \n",
       "221                   외무성_유럽2국_독일대사관   \n",
       "222                 외무성_아시아2국_라오스대사관   \n",
       "223                  외무성_유럽1국_러시아대사관   \n",
       "224                 외무성_유럽1국_루마니아대사관   \n",
       "229                 외무성_유럽1국_벨라루스대사관   \n",
       "230                 외무성_유럽1국_불가리아대사관   \n",
       "231                  외무성_유럽2국_스웨덴대사관   \n",
       "232                  외무성_유럽2국_스위스대사관   \n",
       "233       외무성_아프리카-라틴아메리카-아랍국_시리아대사관   \n",
       "234                외무성_아시아2국_싱가포르대사관   \n",
       "235                          Current   \n",
       "236       외무성_아프리카-라틴아메리카-아랍국_알제리대사관   \n",
       "237       외무성_아프리카-라틴아메리카-아랍국_앙골라대사관   \n",
       "238     외무성_아프리카-라틴아메리카-아랍국_에티오피아대사관   \n",
       "239                   외무성_유럽2국_영국대사관   \n",
       "240                외무성_유럽2국_오스트리아대사관   \n",
       "241                          Current   \n",
       "242       외무성_아프리카-라틴아메리카-아랍국_이집트대사관   \n",
       "243               외무성_아시아2국_인도네시아대사관   \n",
       "244                  외무성_아시아1국_중국대사관   \n",
       "245                   외무성_유럽1국_체코대사관   \n",
       "246                외무성_아시아2국_캄보디아대사관   \n",
       "248   외무성_아프리카-라틴아메리카-아랍국_콩고민주공화국대사관   \n",
       "249        외무성_아프리카-라틴아메리카-아랍국_쿠바대사관   \n",
       "250      외무성_아프리카-라틴아메리카-아랍국_쿠웨이트대사관   \n",
       "251                  외무성_유럽2국_폴란드대사관   \n",
       "252                  외무성_유럽2국_프랑스대표부   \n",
       "259                          Current   \n",
       "262                          Current   \n",
       "265                          Current   \n",
       "269                          Current   \n",
       "270                          Current   \n",
       "272                          Current   \n",
       "277                          Current   \n",
       "284                          Current   \n",
       "285                          Current   \n",
       "286                          Current   \n",
       "287                          Current   \n",
       "288                          Current   \n",
       "290                          Current   \n",
       "292                          Current   \n",
       "293                          Current   \n",
       "294                          Current   \n",
       "299                          Current   \n",
       "300                          Current   \n",
       "301                          Current   \n",
       "302                          Current   \n",
       "304                          Current   \n",
       "306                          Current   \n",
       "307                          Current   \n",
       "308                          Current   \n",
       "310                          Current   \n",
       "311                          Current   \n",
       "313                          Current   \n",
       "314                          Current   \n",
       "323                             육해운성   \n",
       "324                          Current   \n",
       "335                            석탄공업성   \n",
       "336                          Current   \n",
       "339                          Current   \n",
       "346                          Current   \n",
       "351                              체육성   \n",
       "361                    Please_Revise   \n",
       "377                    Please_Revise   \n",
       "409                    Please_Revise   \n",
       "421                          Current   \n",
       "428                          Current   \n",
       "435                          Current   \n",
       "461                          Current   \n",
       "469                    Please_Revise   \n",
       "470                    Please_Revise   \n",
       "483                          Current   \n",
       "484                          Current   \n",
       "495                    Please_Revise   \n",
       "511                          Current   \n",
       "515                    Please_Revise   \n",
       "516                          Current   \n",
       "531                          Current   \n",
       "542                          Current   \n",
       "561                          Current   \n",
       "595                          Current   \n",
       "597                    Please_Revise   \n",
       "598                          Current   \n",
       "599                          Current   \n",
       "600                    Please_Revise   \n",
       "601                          Current   \n",
       "603                          Current   \n",
       "604                          Current   \n",
       "606                          Current   \n",
       "607                          Current   \n",
       "608                          Current   \n",
       "611                    Please_Revise   \n",
       "612                    Please_Revise   \n",
       "703                          Current   \n",
       "781                          Current   \n",
       "808                          Current   \n",
       "829                          Current   \n",
       "860                          Current   \n",
       "869                          Current   \n",
       "887                    Please_Revise   \n",
       "891                    Please_Revise   \n",
       "892                          Current   \n",
       "894                          Current   \n",
       "899                          Current   \n",
       "903                          Current   \n",
       "917                          Current   \n",
       "922                          Current   \n",
       "938                          Current   \n",
       "943                          Current   \n",
       "957                          Current   \n",
       "965                          Current   \n",
       "966                          Current   \n",
       "967                          Current   \n",
       "972                          Current   \n",
       "976                          Current   \n",
       "977                          Current   \n",
       "982                          Current   \n",
       "983                          Current   \n",
       "988                          Current   \n",
       "994                          Current   \n",
       "1000                         Current   \n",
       "1009                         Current   \n",
       "1010                         Current   \n",
       "1014                   Please_Revise   \n",
       "1015                         Current   \n",
       "1016                         Current   \n",
       "1034                         Current   \n",
       "1035                         Current   \n",
       "1036                         Current   \n",
       "1052                         Current   \n",
       "1059                         Current   \n",
       "1063                         Current   \n",
       "1064                         Current   \n",
       "1094                   Please_Revise   \n",
       "1102                   Please_Revise   \n",
       "1112                   Please_Revise   \n",
       "1115                   Please_Revise   \n",
       "1116                   Please_Revise   \n",
       "1117                   Please_Revise   \n",
       "1131                   Please_Revise   \n",
       "1132                         Current   \n",
       "1133                            육해운성   \n",
       "1134                         Current   \n",
       "1135                         Current   \n",
       "1136                         Current   \n",
       "1137                   Please_Revise   \n",
       "1138                         Current   \n",
       "1139                         Current   \n",
       "1140                         Current   \n",
       "1141                         Current   \n",
       "1142                         Current   \n",
       "1144                         평양건설위원회   \n",
       "1145                             NAN   \n",
       "1146                   Please_Revise   \n",
       "1147                         Current   \n",
       "1148                         Current   \n",
       "1149                         Current   \n",
       "1151                         Current   \n",
       "1152                           석탄공업성   \n",
       "1153                         Current   \n",
       "1154                         Current   \n",
       "1156                         Current   \n",
       "1157                             체육성   \n",
       "1158                   Please_Revise   \n",
       "1159                   Please_Revise   \n",
       "1160                   Please_Revise   \n",
       "1161                   Please_Revise   \n",
       "\n",
       "                                                     비고  \\\n",
       "17                                                  NaN   \n",
       "20                                                  NaN   \n",
       "43                                                  NaN   \n",
       "44                                               제258부대   \n",
       "91    조선인민군 방첩 및 군 감찰기관 (보위국 혹은 보위사령부로 불림)\\n- 총정치국 산...   \n",
       "92                                                  NaN   \n",
       "112                                                 NaN   \n",
       "113                                                 NaN   \n",
       "116                                                 NaN   \n",
       "120                                                 NaN   \n",
       "121                                                 NaN   \n",
       "126                                                 NaN   \n",
       "131                                                 NaN   \n",
       "132                                                 NaN   \n",
       "137                                                 NaN   \n",
       "138                                                 NaN   \n",
       "139                                                 NaN   \n",
       "146                                                 NaN   \n",
       "148                                                 NaN   \n",
       "207                                                 NaN   \n",
       "210                                                 NaN   \n",
       "213                                                 NaN   \n",
       "214                                                 NaN   \n",
       "217                                                 NaN   \n",
       "218                                                 NaN   \n",
       "219                                                 NaN   \n",
       "220                                                 NaN   \n",
       "221                                                 NaN   \n",
       "222                                                 NaN   \n",
       "223                                                 NaN   \n",
       "224                                                 NaN   \n",
       "229                                                 NaN   \n",
       "230                                                 NaN   \n",
       "231                                                 NaN   \n",
       "232                                                 NaN   \n",
       "233                                                 NaN   \n",
       "234                                                 NaN   \n",
       "235                                                 NaN   \n",
       "236                                                 NaN   \n",
       "237                                                 NaN   \n",
       "238                                                 NaN   \n",
       "239                                                 NaN   \n",
       "240                                                 NaN   \n",
       "241                                                 NaN   \n",
       "242                                                 NaN   \n",
       "243                                                 NaN   \n",
       "244                                                 NaN   \n",
       "245                                                 NaN   \n",
       "246                                                 NaN   \n",
       "248                                                 NaN   \n",
       "249                                                 NaN   \n",
       "250                                                 NaN   \n",
       "251                                                 NaN   \n",
       "252                                                 NaN   \n",
       "259                                          *org4 확인필요   \n",
       "262                                                 NaN   \n",
       "265                                                 NaN   \n",
       "269                                                 NaN   \n",
       "270                                                 NaN   \n",
       "272                                                 NaN   \n",
       "277                                                 NaN   \n",
       "284                                                 NaN   \n",
       "285   참고 : https://www.mofa.go.kr/www/wpge/m_4178/co...   \n",
       "286                                                 NaN   \n",
       "287                                                 NaN   \n",
       "288                                                 NaN   \n",
       "290                                                 NaN   \n",
       "292                                                 NaN   \n",
       "293                                                 NaN   \n",
       "294                                                 NaN   \n",
       "299                                                 NaN   \n",
       "300                                                 NaN   \n",
       "301                                                 NaN   \n",
       "302                                                 NaN   \n",
       "304                                          *org4 확인필요   \n",
       "306                                                 NaN   \n",
       "307                                          *org4 확인필요   \n",
       "308                                          *org4 확인필요   \n",
       "310                                                 NaN   \n",
       "311                                          *org4 확인필요   \n",
       "313                                          *org4 확인필요   \n",
       "314                                                 NaN   \n",
       "323                                                 NaN   \n",
       "324                                                 NaN   \n",
       "335                                                 NaN   \n",
       "336                                                 NaN   \n",
       "339                                                 NaN   \n",
       "346                                                 NaN   \n",
       "351                                                 NaN   \n",
       "361                                                 NaN   \n",
       "377                                                 NaN   \n",
       "409                                                 NaN   \n",
       "421                                                 NaN   \n",
       "428                                                 NaN   \n",
       "435                                                 NaN   \n",
       "461                                                 NaN   \n",
       "469                                                 NaN   \n",
       "470                                                 NaN   \n",
       "483                                                 NaN   \n",
       "484                                                 NaN   \n",
       "495                                                 NaN   \n",
       "511                                                 NaN   \n",
       "515                                                 NaN   \n",
       "516                                                 NaN   \n",
       "531                                                 NaN   \n",
       "542                                        인민군에 속하는 당조직   \n",
       "561                                                 NaN   \n",
       "595                                                 NaN   \n",
       "597                                                 NaN   \n",
       "598                                                 NaN   \n",
       "599                                                 NaN   \n",
       "600                                                 NaN   \n",
       "601                                                 NaN   \n",
       "603                                                 NaN   \n",
       "604                                                 NaN   \n",
       "606                                                 NaN   \n",
       "607                                                 NaN   \n",
       "608                                                 NaN   \n",
       "611                                                 NaN   \n",
       "612                                                 NaN   \n",
       "703                                                 NaN   \n",
       "781                                                 NaN   \n",
       "808                                                 NaN   \n",
       "829                                                 NaN   \n",
       "860                                                 NaN   \n",
       "869                                                 NaN   \n",
       "887                                                 NaN   \n",
       "891                                                 NaN   \n",
       "892                                                 NaN   \n",
       "894                                                 NaN   \n",
       "899                                                 NaN   \n",
       "903                                                 NaN   \n",
       "917                                                 NaN   \n",
       "922                                                 NaN   \n",
       "938                                                 NaN   \n",
       "943                                                 NaN   \n",
       "957                                                 NaN   \n",
       "965                                                 NaN   \n",
       "966                                                 NaN   \n",
       "967                                                 NaN   \n",
       "972                                                 NaN   \n",
       "976                                                 NaN   \n",
       "977                                                 NaN   \n",
       "982                                                 NaN   \n",
       "983                                                 NaN   \n",
       "988                                                 NaN   \n",
       "994                                                 NaN   \n",
       "1000                                                NaN   \n",
       "1009                                                NaN   \n",
       "1010                                                NaN   \n",
       "1014                                                NaN   \n",
       "1015                                                NaN   \n",
       "1016                                               민경대대   \n",
       "1034                                                NaN   \n",
       "1035                                                NaN   \n",
       "1036                                                NaN   \n",
       "1052                                                NaN   \n",
       "1059                                                NaN   \n",
       "1063                                       항공 및 반항공군 담당   \n",
       "1064                              해군부대, 동해사령부, 서해사령부 담당   \n",
       "1094                                                NaN   \n",
       "1102                                                NaN   \n",
       "1112                                                NaN   \n",
       "1115                                                NaN   \n",
       "1116                                                NaN   \n",
       "1117                                                NaN   \n",
       "1131                                                NaN   \n",
       "1132                                                NaN   \n",
       "1133                                                NaN   \n",
       "1134                                                NaN   \n",
       "1135                                                NaN   \n",
       "1136                                                NaN   \n",
       "1137                                                NaN   \n",
       "1138                                                NaN   \n",
       "1139                                                NaN   \n",
       "1140                                                NaN   \n",
       "1141                                                NaN   \n",
       "1142                                                NaN   \n",
       "1144                                                NaN   \n",
       "1145                                                NaN   \n",
       "1146                                                NaN   \n",
       "1147                                                NaN   \n",
       "1148                                                NaN   \n",
       "1149                                                NaN   \n",
       "1151                                                NaN   \n",
       "1152                                                NaN   \n",
       "1153                                                NaN   \n",
       "1154                                                NaN   \n",
       "1156                                                NaN   \n",
       "1157                                                NaN   \n",
       "1158                                                NaN   \n",
       "1159                                                NaN   \n",
       "1160                                                NaN   \n",
       "1161                                                NaN   \n",
       "\n",
       "     Orgtree_NeedToModify_PI    Orgtree_NeedToModify_Orgname  \\\n",
       "17                       NaN                             NaN   \n",
       "20                     국무위원회                     국방성_참모부_공병국   \n",
       "43                     국무위원회                     국방성_참모부_통신국   \n",
       "44                     국무위원회                     국방성_참모부_통신국   \n",
       "91                     보위사령부                             NaN   \n",
       "92                       NaN                             NaN   \n",
       "112                       내각              교육위원회_고등교육성_김책공업대학   \n",
       "113                       내각             교육위원회_고등교육성_김형직사범대학   \n",
       "116                      NaN                             NaN   \n",
       "120                      NaN                             NaN   \n",
       "121                      NaN                             NaN   \n",
       "126                      NaN                             NaN   \n",
       "131                      NaN                             NaN   \n",
       "132                      NaN                             NaN   \n",
       "137                    국방위원회                           인민무력부   \n",
       "138                      NaN                             NaN   \n",
       "139                      NaN                             NaN   \n",
       "146                      NaN                             NaN   \n",
       "148                      NaN                             NaN   \n",
       "207                      NaN                             NaN   \n",
       "210                      NaN                             NaN   \n",
       "213                       내각      외무성_아프리카-라틴아메리카-아랍국_알제리대사관   \n",
       "214                       내각  외무성_아프리카-라틴아메리카-아랍국_콩고민주공화국대사관   \n",
       "217                      NaN                             NaN   \n",
       "218                       내각                             외무성   \n",
       "219                       내각    외무성_아프리카-라틴아메리카-아랍국_나이지리아대사관   \n",
       "220                       내각                 외무성_아시아1국_네팔대사관   \n",
       "221                       내각                  외무성_유럽2국_독일대사관   \n",
       "222                       내각                외무성_아시아2국_라오스대사관   \n",
       "223                       내각                 외무성_유럽1국_러시아대사관   \n",
       "224                       내각                외무성_유럽1국_루마니아대사관   \n",
       "229                       내각                외무성_유럽1국_벨라루스대사관   \n",
       "230                       내각                외무성_유럽1국_불가리아대사관   \n",
       "231                       내각                 외무성_유럽2국_스웨덴대사관   \n",
       "232                       내각                 외무성_유럽2국_스위스대사관   \n",
       "233                       내각      외무성_아프리카-라틴아메리카-아랍국_시리아대사관   \n",
       "234                       내각               외무성_아시아2국_싱가포르대사관   \n",
       "235                       내각               외무성_아시아2국_싱가포르대사관   \n",
       "236                       내각      외무성_아프리카-라틴아메리카-아랍국_알제리대사관   \n",
       "237                       내각      외무성_아프리카-라틴아메리카-아랍국_앙골라대사관   \n",
       "238                       내각    외무성_아프리카-라틴아메리카-아랍국_에티오피아대사관   \n",
       "239                       내각                  외무성_유럽2국_영국대사관   \n",
       "240                       내각               외무성_유럽2국_오스트리아대사관   \n",
       "241                       내각      외무성_아프리카-라틴아메리카-아랍국_우간다대사관   \n",
       "242                       내각      외무성_아프리카-라틴아메리카-아랍국_이집트대사관   \n",
       "243                       내각              외무성_아시아2국_인도네시아대사관   \n",
       "244                       내각                 외무성_아시아1국_중국대사관   \n",
       "245                       내각                  외무성_유럽1국_체코대사관   \n",
       "246                       내각               외무성_아시아2국_캄보디아대사관   \n",
       "248                       내각  외무성_아프리카-라틴아메리카-아랍국_콩고민주공화국대사관   \n",
       "249                       내각       외무성_아프리카-라틴아메리카-아랍국_쿠바대사관   \n",
       "250                       내각     외무성_아프리카-라틴아메리카-아랍국_쿠웨이트대사관   \n",
       "251                       내각                 외무성_유럽2국_폴란드대사관   \n",
       "252                       내각                 외무성_유럽2국_프랑스대표부   \n",
       "259                      NaN                             NaN   \n",
       "262                      NaN                             NaN   \n",
       "265                      NaN                             NaN   \n",
       "269                      NaN                             NaN   \n",
       "270                      NaN                             NaN   \n",
       "272                      NaN                             NaN   \n",
       "277                      NaN                             NaN   \n",
       "284                      NaN                             NaN   \n",
       "285                      NaN                             NaN   \n",
       "286                      NaN                             NaN   \n",
       "287                      NaN                             NaN   \n",
       "288                      NaN                             NaN   \n",
       "290                      NaN                             NaN   \n",
       "292                      NaN                             NaN   \n",
       "293                      NaN                             NaN   \n",
       "294                      NaN                             NaN   \n",
       "299                      NaN                             NaN   \n",
       "300                      NaN                             NaN   \n",
       "301                      NaN                             NaN   \n",
       "302                      NaN                             NaN   \n",
       "304                      NaN                             NaN   \n",
       "306                      NaN                             NaN   \n",
       "307                      NaN                             NaN   \n",
       "308                      NaN                             NaN   \n",
       "310                      NaN                             NaN   \n",
       "311                      NaN                             NaN   \n",
       "313                      NaN                             NaN   \n",
       "314                      NaN                             NaN   \n",
       "323                      NaN                             NaN   \n",
       "324                      NaN                             NaN   \n",
       "335                      NaN                             NaN   \n",
       "336                      NaN                             NaN   \n",
       "339                      NaN                             NaN   \n",
       "346                      NaN                             NaN   \n",
       "351                      NaN                             NaN   \n",
       "361                      노동당                    당중앙위원회_군수공업부   \n",
       "377                      노동당                    당중앙위원회_문화예술부   \n",
       "409                조선문학예술총동맹                         조선음악가동맹   \n",
       "421                   조선적십자회                           중앙위원회   \n",
       "428            조선천도교회중앙지도위원회                           중앙위원회   \n",
       "435                 조선카톨릭교협회                           중앙위원회   \n",
       "461                      노동당              당중앙위원회_선전선동부_로동신문사   \n",
       "469                      노동당                  당중앙위원회_자강도당위원회   \n",
       "470                      노동당                  당중앙위원회_자강도당위원회   \n",
       "483                      노동당                  당중앙위원회_평양시당위원회   \n",
       "484                      노동당                  당중앙위원회_평양시당위원회   \n",
       "495               사회주의애국청년동맹                           중앙위원회   \n",
       "511                      노동당                    당중앙위원회_군수공업부   \n",
       "515                      노동당              당중앙위원회_선전선동부_로동신문사   \n",
       "516                      노동당              당중앙위원회_선전선동부_로동신문사   \n",
       "531                      노동당                    당중앙위원회_문화예술부   \n",
       "542                      노동당                     당중앙위원회_총정치국   \n",
       "561                      NaN                             NaN   \n",
       "595                     총참모부                   작전총국_제3처_제1군단   \n",
       "597                     총참모부                   작전총국_제3처_제1군단   \n",
       "598                     총참모부                   작전총국_제3처_제2군단   \n",
       "599                     총참모부                   작전총국_제3처_제2군단   \n",
       "600                     총참모부                   작전총국_제3처_제2군단   \n",
       "601                     총참모부                   작전총국_제3처_제2군단   \n",
       "603                     총참모부                   작전총국_제3처_제4군단   \n",
       "604                     총참모부                   작전총국_제3처_제5군단   \n",
       "606                     총참모부                   작전총국_제4처_제8군단   \n",
       "607                     총참모부                   작전총국_제4처_제9군단   \n",
       "608                     총참모부                        작전총국_제6처   \n",
       "611                     총참모부                        작전총국_제7처   \n",
       "612                     총참모부                작전총국_제7처_서해함대사령부   \n",
       "703                      NaN                             NaN   \n",
       "781                     총참모부                 작전총국_보도처_판문점대표부   \n",
       "808                     총참모부                작전총국_제7처_서해함대사령부   \n",
       "829                      NaN                             NaN   \n",
       "860                      NaN                             NaN   \n",
       "869                      NaN                             NaN   \n",
       "887                    보위사령부                             NaN   \n",
       "891                     총참모부                   작전총국_제3처_제1군단   \n",
       "892                     총참모부                   작전총국_제3처_제1군단   \n",
       "894                     총참모부                   작전총국_제3처_제1군단   \n",
       "899                     총참모부                   작전총국_제3처_제1군단   \n",
       "903                     총참모부                   작전총국_제3처_제1군단   \n",
       "917                     총참모부                   작전총국_제3처_제1군단   \n",
       "922                     총참모부                   작전총국_제3처_제1군단   \n",
       "938                     총참모부                   작전총국_제3처_제1군단   \n",
       "943                     총참모부                   작전총국_제3처_제1군단   \n",
       "957                     총참모부                   작전총국_제3처_제1군단   \n",
       "965                     총참모부                   작전총국_제3처_제2군단   \n",
       "966                     총참모부                   작전총국_제3처_제2군단   \n",
       "967                     총참모부                   작전총국_제3처_제2군단   \n",
       "972                     총참모부                   작전총국_제3처_제2군단   \n",
       "976                     총참모부                    작전총국_제3처_2군단   \n",
       "977                     총참모부                   작전총국_제3처_제2군단   \n",
       "982                     총참모부                   작전총국_제3처_제4군단   \n",
       "983                     총참모부                   작전총국_제3처_제4군단   \n",
       "988                     총참모부                   작전총국_제3처_제4군단   \n",
       "994                     총참모부                   작전총국_제3처_제4군단   \n",
       "1000                    총참모부                   작전총국_제3처_제4군단   \n",
       "1009                    총참모부                   작전총국_제3처_제5군단   \n",
       "1010                    총참모부                   작전총국_제3처_제5군단   \n",
       "1014                    총참모부                   작전총국_제3처_제5군단   \n",
       "1015                    총참모부                   작전총국_제3처_제5군단   \n",
       "1016                    총참모부                   작전총국_제3처_제5군단   \n",
       "1034                    총참모부                    작전총국_제4처_7군단   \n",
       "1035                    총참모부                   작전총국_제4처_제8군단   \n",
       "1036                    총참모부                   작전총국_제4처_제9군단   \n",
       "1052                     NaN                             NaN   \n",
       "1059                     NaN                             NaN   \n",
       "1063                     NaN                             NaN   \n",
       "1064                     NaN                             NaN   \n",
       "1094                     NaN                             NaN   \n",
       "1102                     NaN                             NaN   \n",
       "1112                     NaN                             NaN   \n",
       "1115                     NaN                             NaN   \n",
       "1116                     NaN                             NaN   \n",
       "1117                     NaN                             NaN   \n",
       "1131                  최고인민회의                        강원도인민위원회   \n",
       "1132                      내각                           교육위원회   \n",
       "1133                      내각                           교통위원회   \n",
       "1134                      내각                         국가계획위원회   \n",
       "1135                      내각                       국가과학기술위원회   \n",
       "1136                   국무위원회                             국방성   \n",
       "1137                   국무위원회                     국방성_참모부_공병국   \n",
       "1138                     노동당                     당중앙위원회_총정치국   \n",
       "1139                      내각                         국토환경보호성   \n",
       "1140                      내각                           금속공업부   \n",
       "1141                      내각                           노동행정부   \n",
       "1142                      내각                           농업위원회   \n",
       "1144                      내각                         수도건설위원회   \n",
       "1145                      내각                         식료일용공업성   \n",
       "1146                  최고인민회의                        양강도인민위원회   \n",
       "1147                      내각                             외무성   \n",
       "1148                      내각                            육해운부   \n",
       "1149                      내각                            육해운성   \n",
       "1151                    총참모부                 작전총국_보도처_판문점대표부   \n",
       "1152                      내각                         전기석탄공업성   \n",
       "1153                      내각                           전력공업성   \n",
       "1154                      내각                       조국평화통일위원회   \n",
       "1156                      내각                             철도성   \n",
       "1157                      내각                             체육부   \n",
       "1158                  최고인민회의                        평양시인민위원회   \n",
       "1159                  최고인민회의                       함경북도인민위원회   \n",
       "1160                  최고인민회의                       황해남도인민위원회   \n",
       "1161                  최고인민회의                       황해북도인민위원회   \n",
       "\n",
       "     LinkToCurrent_PrimaryInstitution_y     LinkToCurrent_OrgName_y  \\\n",
       "17                                  NaN                         NaN   \n",
       "20                              Current                     Current   \n",
       "43                              Current                     Current   \n",
       "44                              Current                     Current   \n",
       "91                                 총정치국                         보위국   \n",
       "92                                  NaN                         NaN   \n",
       "112                             Current                     Current   \n",
       "113                             Current                     Current   \n",
       "116                                 NaN                         NaN   \n",
       "120                                 NaN                         NaN   \n",
       "121                                 NaN                         NaN   \n",
       "126                                 NaN                         NaN   \n",
       "131                                 NaN                         NaN   \n",
       "132                                 NaN                         NaN   \n",
       "137                               국무위원회                         국방성   \n",
       "138                                 NaN                         NaN   \n",
       "139                                 NaN                         NaN   \n",
       "146                                 NaN                         NaN   \n",
       "148                                 NaN                         NaN   \n",
       "207                                 NaN                         NaN   \n",
       "210                                 NaN                         NaN   \n",
       "213                             Current                     Current   \n",
       "214                             Current                     Current   \n",
       "217                                 NaN                         NaN   \n",
       "218                             Current                     Current   \n",
       "219                             Current                     Current   \n",
       "220                             Current                     Current   \n",
       "221                             Current                     Current   \n",
       "222                             Current                     Current   \n",
       "223                             Current                     Current   \n",
       "224                             Current                     Current   \n",
       "229                             Current                     Current   \n",
       "230                             Current                     Current   \n",
       "231                             Current                     Current   \n",
       "232                             Current                     Current   \n",
       "233                             Current                     Current   \n",
       "234                             Current                     Current   \n",
       "235                                  내각           외무성_아시아2국_싱가포르대사관   \n",
       "236                             Current                     Current   \n",
       "237                             Current                     Current   \n",
       "238                             Current                     Current   \n",
       "239                             Current                     Current   \n",
       "240                             Current                     Current   \n",
       "241                                  내각  외무성_아프리카-라틴아메리카-아랍국_우간다대사관   \n",
       "242                             Current                     Current   \n",
       "243                             Current                     Current   \n",
       "244                             Current                     Current   \n",
       "245                             Current                     Current   \n",
       "246                             Current                     Current   \n",
       "248                             Current                     Current   \n",
       "249                             Current                     Current   \n",
       "250                             Current                     Current   \n",
       "251                             Current                     Current   \n",
       "252                             Current                     Current   \n",
       "259                                 NaN                         NaN   \n",
       "262                                 NaN                         NaN   \n",
       "265                                 NaN                         NaN   \n",
       "269                                 NaN                         NaN   \n",
       "270                                 NaN                         NaN   \n",
       "272                                 NaN                         NaN   \n",
       "277                                 NaN                         NaN   \n",
       "284                                 NaN                         NaN   \n",
       "285                                 NaN                         NaN   \n",
       "286                                 NaN                         NaN   \n",
       "287                                 NaN                         NaN   \n",
       "288                                 NaN                         NaN   \n",
       "290                                 NaN                         NaN   \n",
       "292                                 NaN                         NaN   \n",
       "293                                 NaN                         NaN   \n",
       "294                                 NaN                         NaN   \n",
       "299                                 NaN                         NaN   \n",
       "300                                 NaN                         NaN   \n",
       "301                                 NaN                         NaN   \n",
       "302                                 NaN                         NaN   \n",
       "304                                 NaN                         NaN   \n",
       "306                                 NaN                         NaN   \n",
       "307                                 NaN                         NaN   \n",
       "308                                 NaN                         NaN   \n",
       "310                                 NaN                         NaN   \n",
       "311                                 NaN                         NaN   \n",
       "313                                 NaN                         NaN   \n",
       "314                                 NaN                         NaN   \n",
       "323                                 NaN                         NaN   \n",
       "324                                 NaN                         NaN   \n",
       "335                                 NaN                         NaN   \n",
       "336                                 NaN                         NaN   \n",
       "339                                 NaN                         NaN   \n",
       "346                                 NaN                         NaN   \n",
       "351                                 NaN                         NaN   \n",
       "361                             Current                     Current   \n",
       "377                             Current                     Current   \n",
       "409                             Current                     Current   \n",
       "421                              조선적십자회                       중앙위원회   \n",
       "428                       조선천도교회중앙지도위원회                       중앙위원회   \n",
       "435                            조선카톨릭교협회                       중앙위원회   \n",
       "461                      우즈베키스탄고려인청년연합회                         NaN   \n",
       "469                             Current                     Current   \n",
       "470                             Current                     Current   \n",
       "483                             Current                     Current   \n",
       "484                             Current                     Current   \n",
       "495                             Current                     Current   \n",
       "511                             Current                     Current   \n",
       "515                             Current                     Current   \n",
       "516                             Current                     Current   \n",
       "531                             Current                     Current   \n",
       "542                             Current                     Current   \n",
       "561                                 NaN                         NaN   \n",
       "595                             Current                     Current   \n",
       "597                             Current                     Current   \n",
       "598                                총참모부                         2군단   \n",
       "599                                총참모부              2군단_근위서울제3보병사단   \n",
       "600                             Current                     Current   \n",
       "601                                총참모부             2군단_제8보병사단_81연대   \n",
       "603                                총참모부                         4군단   \n",
       "604                                총참모부                         5군단   \n",
       "606                                총참모부                         8군단   \n",
       "607                                총참모부                         9군단   \n",
       "608                                총참모부                       공군사령부   \n",
       "611                             Current                     Current   \n",
       "612                             Current                     Current   \n",
       "703                                 NaN                         NaN   \n",
       "781                             Current                     Current   \n",
       "808                             Current                     Current   \n",
       "829                                 NaN                         NaN   \n",
       "860                                 NaN                         NaN   \n",
       "869                                 NaN                         NaN   \n",
       "887                             Current                     Current   \n",
       "891                             Current                     Current   \n",
       "892                             Current                     Current   \n",
       "894                             Current                     Current   \n",
       "899                             Current                     Current   \n",
       "903                             Current                     Current   \n",
       "917                             Current                     Current   \n",
       "922                             Current                     Current   \n",
       "938                             Current                     Current   \n",
       "943                             Current                     Current   \n",
       "957                             Current                     Current   \n",
       "965                             Current                     Current   \n",
       "966                             Current                     Current   \n",
       "967                             Current                     Current   \n",
       "972                             Current                     Current   \n",
       "976                             Current                     Current   \n",
       "977                             Current                     Current   \n",
       "982                             Current                     Current   \n",
       "983                             Current                     Current   \n",
       "988                             Current                     Current   \n",
       "994                             Current                     Current   \n",
       "1000                            Current                     Current   \n",
       "1009                            Current                     Current   \n",
       "1010                            Current                     Current   \n",
       "1014                            Current                     Current   \n",
       "1015                            Current                     Current   \n",
       "1016                            Current                     Current   \n",
       "1034                            Current                     Current   \n",
       "1035                            Current                     Current   \n",
       "1036                            Current                     Current   \n",
       "1052                                NaN                         NaN   \n",
       "1059                                NaN                         NaN   \n",
       "1063                                NaN                         NaN   \n",
       "1064                                NaN                         NaN   \n",
       "1094                                NaN                         NaN   \n",
       "1102                                NaN                         NaN   \n",
       "1112                                NaN                         NaN   \n",
       "1115                                NaN                         NaN   \n",
       "1116                                NaN                         NaN   \n",
       "1117                                NaN                         NaN   \n",
       "1131                            Current                     Current   \n",
       "1132                                 내각                       교육위원회   \n",
       "1133                                 내각                        육해운성   \n",
       "1134                                 내각                     국가계획위원회   \n",
       "1135                                 내각                   국가과학기술위원회   \n",
       "1136                              국무위원회                         국방성   \n",
       "1137                            Current                     Current   \n",
       "1138                               총정치국                         NaN   \n",
       "1139                                 내각                     국토환경보호성   \n",
       "1140                                 내각                       금속공업성   \n",
       "1141                                 내각                         노동성   \n",
       "1142                                 내각                       농업위원회   \n",
       "1144                                 내각                     평양건설위원회   \n",
       "1145                                 내각                       지방공업성   \n",
       "1146                            Current                     Current   \n",
       "1147                                 내각                         외무성   \n",
       "1148                                 내각                        육해운성   \n",
       "1149                                 내각                        육해운성   \n",
       "1151                              조선인민군                      판문점대표부   \n",
       "1152                                 내각                       석탄공업성   \n",
       "1153                                 내각                       전력공업성   \n",
       "1154                                 내각                   조국평화통일위원회   \n",
       "1156                                 내각                         철도성   \n",
       "1157                                 내각                         체육성   \n",
       "1158                            Current                     Current   \n",
       "1159                            Current                     Current   \n",
       "1160                            Current                     Current   \n",
       "1161                            Current                     Current   \n",
       "\n",
       "     Modify_LinkToCurrent_PrimaryInstitution Modify_LinkToCurrent_OrgName  \\\n",
       "17                                       NaN                          NaN   \n",
       "20                                       NaN                          NaN   \n",
       "43                                       NaN                          NaN   \n",
       "44                                       NaN                          NaN   \n",
       "91                                   Current                      Current   \n",
       "92                                       NaN                          NaN   \n",
       "112                                      NaN                          NaN   \n",
       "113                                      NaN                          NaN   \n",
       "116                                      NaN                          NaN   \n",
       "120                                      NaN                          NaN   \n",
       "121                                      NaN                          NaN   \n",
       "126                                      NaN                          NaN   \n",
       "131                                      NaN                          NaN   \n",
       "132                                      NaN                          NaN   \n",
       "137                                      NaN                          NaN   \n",
       "138                                      NaN                          NaN   \n",
       "139                                      NaN                          NaN   \n",
       "146                                      NaN                          NaN   \n",
       "148                                      NaN                          NaN   \n",
       "207                                      NaN                          NaN   \n",
       "210                                      NaN                          NaN   \n",
       "213                                      NaN                          NaN   \n",
       "214                                      NaN                          NaN   \n",
       "217                                      NaN                          NaN   \n",
       "218                                      NaN                          NaN   \n",
       "219                                      NaN                          NaN   \n",
       "220                                      NaN                          NaN   \n",
       "221                                      NaN                          NaN   \n",
       "222                                      NaN                          NaN   \n",
       "223                                      NaN                          NaN   \n",
       "224                                      NaN                          NaN   \n",
       "229                                      NaN                          NaN   \n",
       "230                                      NaN                          NaN   \n",
       "231                                      NaN                          NaN   \n",
       "232                                      NaN                          NaN   \n",
       "233                                      NaN                          NaN   \n",
       "234                                      NaN                          NaN   \n",
       "235                                  Current                      Current   \n",
       "236                                      NaN                          NaN   \n",
       "237                                      NaN                          NaN   \n",
       "238                                      NaN                          NaN   \n",
       "239                                      NaN                          NaN   \n",
       "240                                      NaN                          NaN   \n",
       "241                                  Current                      Current   \n",
       "242                                      NaN                          NaN   \n",
       "243                                      NaN                          NaN   \n",
       "244                                      NaN                          NaN   \n",
       "245                                      NaN                          NaN   \n",
       "246                                      NaN                          NaN   \n",
       "248                                      NaN                          NaN   \n",
       "249                                      NaN                          NaN   \n",
       "250                                      NaN                          NaN   \n",
       "251                                      NaN                          NaN   \n",
       "252                                      NaN                          NaN   \n",
       "259                                      NaN                          NaN   \n",
       "262                                      NaN                          NaN   \n",
       "265                                      NaN                          NaN   \n",
       "269                                      NaN                          NaN   \n",
       "270                                      NaN                          NaN   \n",
       "272                                      NaN                          NaN   \n",
       "277                                      NaN                          NaN   \n",
       "284                                      NaN                          NaN   \n",
       "285                                      NaN                          NaN   \n",
       "286                                      NaN                          NaN   \n",
       "287                                      NaN                          NaN   \n",
       "288                                      NaN                          NaN   \n",
       "290                                      NaN                          NaN   \n",
       "292                                      NaN                          NaN   \n",
       "293                                      NaN                          NaN   \n",
       "294                                      NaN                          NaN   \n",
       "299                                      NaN                          NaN   \n",
       "300                                      NaN                          NaN   \n",
       "301                                      NaN                          NaN   \n",
       "302                                      NaN                          NaN   \n",
       "304                                      NaN                          NaN   \n",
       "306                                      NaN                          NaN   \n",
       "307                                      NaN                          NaN   \n",
       "308                                      NaN                          NaN   \n",
       "310                                      NaN                          NaN   \n",
       "311                                      NaN                          NaN   \n",
       "313                                      NaN                          NaN   \n",
       "314                                      NaN                          NaN   \n",
       "323                                      NaN                          NaN   \n",
       "324                                      NaN                          NaN   \n",
       "335                                      NaN                          NaN   \n",
       "336                                      NaN                          NaN   \n",
       "339                                      NaN                          NaN   \n",
       "346                                      NaN                          NaN   \n",
       "351                                      NaN                          NaN   \n",
       "361                                      NaN                          NaN   \n",
       "377                                      NaN                          NaN   \n",
       "409                                      NaN                          NaN   \n",
       "421                                  Current                      Current   \n",
       "428                                  Current                      Current   \n",
       "435                                  Current                      Current   \n",
       "461                                  Current                      Current   \n",
       "469                                      NaN                          NaN   \n",
       "470                                      NaN                          NaN   \n",
       "483                                      NaN                          NaN   \n",
       "484                                      NaN                          NaN   \n",
       "495                                      NaN                          NaN   \n",
       "511                                      NaN                          NaN   \n",
       "515                                      NaN                          NaN   \n",
       "516                                      NaN                          NaN   \n",
       "531                                      NaN                          NaN   \n",
       "542                                      NaN                          NaN   \n",
       "561                                      NaN                          NaN   \n",
       "595                                      NaN                          NaN   \n",
       "597                                      NaN                          NaN   \n",
       "598                                  Current                      Current   \n",
       "599                                  Current                      Current   \n",
       "600                                      NaN                          NaN   \n",
       "601                                  Current                      Current   \n",
       "603                                  Current                      Current   \n",
       "604                                  Current                      Current   \n",
       "606                                  Current                      Current   \n",
       "607                                  Current                      Current   \n",
       "608                                  Current                      Current   \n",
       "611                                      NaN                          NaN   \n",
       "612                                      NaN                          NaN   \n",
       "703                                      NaN                          NaN   \n",
       "781                                      NaN                          NaN   \n",
       "808                                      NaN                          NaN   \n",
       "829                                      NaN                          NaN   \n",
       "860                                      NaN                          NaN   \n",
       "869                                      NaN                          NaN   \n",
       "887                                      NaN                          NaN   \n",
       "891                                      NaN                          NaN   \n",
       "892                                      NaN                          NaN   \n",
       "894                                      NaN                          NaN   \n",
       "899                                      NaN                          NaN   \n",
       "903                                      NaN                          NaN   \n",
       "917                                      NaN                          NaN   \n",
       "922                                      NaN                          NaN   \n",
       "938                                      NaN                          NaN   \n",
       "943                                      NaN                          NaN   \n",
       "957                                      NaN                          NaN   \n",
       "965                                      NaN                          NaN   \n",
       "966                                      NaN                          NaN   \n",
       "967                                      NaN                          NaN   \n",
       "972                                      NaN                          NaN   \n",
       "976                                      NaN                          NaN   \n",
       "977                                      NaN                          NaN   \n",
       "982                                      NaN                          NaN   \n",
       "983                                      NaN                          NaN   \n",
       "988                                      NaN                          NaN   \n",
       "994                                      NaN                          NaN   \n",
       "1000                                     NaN                          NaN   \n",
       "1009                                     NaN                          NaN   \n",
       "1010                                     NaN                          NaN   \n",
       "1014                                     NaN                          NaN   \n",
       "1015                                     NaN                          NaN   \n",
       "1016                                     NaN                          NaN   \n",
       "1034                                     NaN                          NaN   \n",
       "1035                                     NaN                          NaN   \n",
       "1036                                     NaN                          NaN   \n",
       "1052                                     NaN                          NaN   \n",
       "1059                                     NaN                          NaN   \n",
       "1063                                     NaN                          NaN   \n",
       "1064                                     NaN                          NaN   \n",
       "1094                                     NaN                          NaN   \n",
       "1102                                     NaN                          NaN   \n",
       "1112                                     NaN                          NaN   \n",
       "1115                                     NaN                          NaN   \n",
       "1116                                     NaN                          NaN   \n",
       "1117                                     NaN                          NaN   \n",
       "1131                                     NaN                          NaN   \n",
       "1132                                 Current                      Current   \n",
       "1133                                     NaN                          NaN   \n",
       "1134                                 Current                      Current   \n",
       "1135                                 Current                      Current   \n",
       "1136                                 Current                      Current   \n",
       "1137                                     NaN                          NaN   \n",
       "1138                                 Current                      Current   \n",
       "1139                                 Current                      Current   \n",
       "1140                                 Current                      Current   \n",
       "1141                                 Current                      Current   \n",
       "1142                                 Current                      Current   \n",
       "1144                                     NaN                          NaN   \n",
       "1145                                     NAN                          NAN   \n",
       "1146                                     NaN                          NaN   \n",
       "1147                                 Current                      Current   \n",
       "1148                                 Current                      Current   \n",
       "1149                                 Current                      Current   \n",
       "1151                                 Current                      Current   \n",
       "1152                                     NaN                          NaN   \n",
       "1153                                 Current                      Current   \n",
       "1154                                 Current                      Current   \n",
       "1156                                 Current                      Current   \n",
       "1157                                     NaN                          NaN   \n",
       "1158                                     NaN                          NaN   \n",
       "1159                                     NaN                          NaN   \n",
       "1160                                     NaN                          NaN   \n",
       "1161                                     NaN                          NaN   \n",
       "\n",
       "         _merge  DuplicateKey  \n",
       "17    left_only          True  \n",
       "20         both          True  \n",
       "43         both          True  \n",
       "44         both          True  \n",
       "91         both          True  \n",
       "92    left_only          True  \n",
       "112        both          True  \n",
       "113        both          True  \n",
       "116   left_only          True  \n",
       "120   left_only          True  \n",
       "121   left_only          True  \n",
       "126   left_only          True  \n",
       "131   left_only          True  \n",
       "132   left_only          True  \n",
       "137        both          True  \n",
       "138   left_only          True  \n",
       "139   left_only          True  \n",
       "146   left_only          True  \n",
       "148   left_only          True  \n",
       "207   left_only          True  \n",
       "210   left_only          True  \n",
       "213        both          True  \n",
       "214        both          True  \n",
       "217   left_only          True  \n",
       "218        both          True  \n",
       "219        both          True  \n",
       "220        both          True  \n",
       "221        both          True  \n",
       "222        both          True  \n",
       "223        both          True  \n",
       "224        both          True  \n",
       "229        both          True  \n",
       "230        both          True  \n",
       "231        both          True  \n",
       "232        both          True  \n",
       "233        both          True  \n",
       "234        both          True  \n",
       "235        both          True  \n",
       "236        both          True  \n",
       "237        both          True  \n",
       "238        both          True  \n",
       "239        both          True  \n",
       "240        both          True  \n",
       "241        both          True  \n",
       "242        both          True  \n",
       "243        both          True  \n",
       "244        both          True  \n",
       "245        both          True  \n",
       "246        both          True  \n",
       "248        both          True  \n",
       "249        both          True  \n",
       "250        both          True  \n",
       "251        both          True  \n",
       "252        both          True  \n",
       "259   left_only          True  \n",
       "262   left_only          True  \n",
       "265   left_only          True  \n",
       "269   left_only          True  \n",
       "270   left_only          True  \n",
       "272   left_only          True  \n",
       "277   left_only          True  \n",
       "284   left_only          True  \n",
       "285   left_only          True  \n",
       "286   left_only          True  \n",
       "287   left_only          True  \n",
       "288   left_only          True  \n",
       "290   left_only          True  \n",
       "292   left_only          True  \n",
       "293   left_only          True  \n",
       "294   left_only          True  \n",
       "299   left_only          True  \n",
       "300   left_only          True  \n",
       "301   left_only          True  \n",
       "302   left_only          True  \n",
       "304   left_only          True  \n",
       "306   left_only          True  \n",
       "307   left_only          True  \n",
       "308   left_only          True  \n",
       "310   left_only          True  \n",
       "311   left_only          True  \n",
       "313   left_only          True  \n",
       "314   left_only          True  \n",
       "323   left_only          True  \n",
       "324   left_only          True  \n",
       "335   left_only          True  \n",
       "336   left_only          True  \n",
       "339   left_only          True  \n",
       "346   left_only          True  \n",
       "351   left_only          True  \n",
       "361        both          True  \n",
       "377        both          True  \n",
       "409        both          True  \n",
       "421        both          True  \n",
       "428        both          True  \n",
       "435        both          True  \n",
       "461        both          True  \n",
       "469        both          True  \n",
       "470        both          True  \n",
       "483        both          True  \n",
       "484        both          True  \n",
       "495        both          True  \n",
       "511        both          True  \n",
       "515        both          True  \n",
       "516        both          True  \n",
       "531        both          True  \n",
       "542        both          True  \n",
       "561   left_only          True  \n",
       "595        both          True  \n",
       "597        both          True  \n",
       "598        both          True  \n",
       "599        both          True  \n",
       "600        both          True  \n",
       "601        both          True  \n",
       "603        both          True  \n",
       "604        both          True  \n",
       "606        both          True  \n",
       "607        both          True  \n",
       "608        both          True  \n",
       "611        both          True  \n",
       "612        both          True  \n",
       "703   left_only          True  \n",
       "781        both          True  \n",
       "808        both          True  \n",
       "829   left_only          True  \n",
       "860   left_only          True  \n",
       "869   left_only          True  \n",
       "887        both          True  \n",
       "891        both          True  \n",
       "892        both          True  \n",
       "894        both          True  \n",
       "899        both          True  \n",
       "903        both          True  \n",
       "917        both          True  \n",
       "922        both          True  \n",
       "938        both          True  \n",
       "943        both          True  \n",
       "957        both          True  \n",
       "965        both          True  \n",
       "966        both          True  \n",
       "967        both          True  \n",
       "972        both          True  \n",
       "976        both          True  \n",
       "977        both          True  \n",
       "982        both          True  \n",
       "983        both          True  \n",
       "988        both          True  \n",
       "994        both          True  \n",
       "1000       both          True  \n",
       "1009       both          True  \n",
       "1010       both          True  \n",
       "1014       both          True  \n",
       "1015       both          True  \n",
       "1016       both          True  \n",
       "1034       both          True  \n",
       "1035       both          True  \n",
       "1036       both          True  \n",
       "1052  left_only          True  \n",
       "1059  left_only          True  \n",
       "1063  left_only          True  \n",
       "1064  left_only          True  \n",
       "1094  left_only          True  \n",
       "1102  left_only          True  \n",
       "1112  left_only          True  \n",
       "1115  left_only          True  \n",
       "1116  left_only          True  \n",
       "1117  left_only          True  \n",
       "1131       both          True  \n",
       "1132       both          True  \n",
       "1133       both          True  \n",
       "1134       both          True  \n",
       "1135       both          True  \n",
       "1136       both          True  \n",
       "1137       both          True  \n",
       "1138       both          True  \n",
       "1139       both          True  \n",
       "1140       both          True  \n",
       "1141       both          True  \n",
       "1142       both          True  \n",
       "1144       both          True  \n",
       "1145       both          True  \n",
       "1146       both          True  \n",
       "1147       both          True  \n",
       "1148       both          True  \n",
       "1149       both          True  \n",
       "1151       both          True  \n",
       "1152       both          True  \n",
       "1153       both          True  \n",
       "1154       both          True  \n",
       "1156       both          True  \n",
       "1157       both          True  \n",
       "1158       both          True  \n",
       "1159       both          True  \n",
       "1160       both          True  \n",
       "1161       both          True  "
      ]
     },
     "execution_count": 59,
     "metadata": {},
     "output_type": "execute_result"
    }
   ],
   "source": [
    "merged[merged.duplicated([\"PrimaryInstitution\",\"OrgName\"],keep=False)]"
   ]
  },
  {
   "cell_type": "code",
   "execution_count": 60,
   "metadata": {},
   "outputs": [
    {
     "data": {
      "text/plain": [
       "['InsideGov',\n",
       " 'PrimaryInstitution',\n",
       " 'OrgName',\n",
       " 'ImmediateSuperiorOrg',\n",
       " 'SupervisesParent',\n",
       " 'LinkToCurrent_PrimaryInstitution',\n",
       " 'LinkToCurrent_OrgName',\n",
       " '비고']"
      ]
     },
     "execution_count": 60,
     "metadata": {},
     "output_type": "execute_result"
    }
   ],
   "source": [
    "orgtree_columns"
   ]
  },
  {
   "cell_type": "code",
   "execution_count": 61,
   "metadata": {},
   "outputs": [
    {
     "data": {
      "text/html": [
       "<div>\n",
       "<style scoped>\n",
       "    .dataframe tbody tr th:only-of-type {\n",
       "        vertical-align: middle;\n",
       "    }\n",
       "\n",
       "    .dataframe tbody tr th {\n",
       "        vertical-align: top;\n",
       "    }\n",
       "\n",
       "    .dataframe thead th {\n",
       "        text-align: right;\n",
       "    }\n",
       "</style>\n",
       "<table border=\"1\" class=\"dataframe\">\n",
       "  <thead>\n",
       "    <tr style=\"text-align: right;\">\n",
       "      <th></th>\n",
       "      <th>DuplicateKey</th>\n",
       "      <th>InsideGov</th>\n",
       "      <th>PrimaryInstitution</th>\n",
       "      <th>OrgName</th>\n",
       "      <th>ImmediateSuperiorOrg</th>\n",
       "      <th>SupervisesParent</th>\n",
       "      <th>LinkToCurrent_PrimaryInstitution</th>\n",
       "      <th>LinkToCurrent_OrgName</th>\n",
       "      <th>비고</th>\n",
       "    </tr>\n",
       "  </thead>\n",
       "  <tbody>\n",
       "    <tr>\n",
       "      <th>0</th>\n",
       "      <td>False</td>\n",
       "      <td>False</td>\n",
       "      <td>6.15공동선언실천남북공동위원회북측위원회</td>\n",
       "      <td>교직원분과</td>\n",
       "      <td>NaN</td>\n",
       "      <td>NaN</td>\n",
       "      <td>Current</td>\n",
       "      <td>Current</td>\n",
       "      <td>NaN</td>\n",
       "    </tr>\n",
       "    <tr>\n",
       "      <th>1</th>\n",
       "      <td>False</td>\n",
       "      <td>False</td>\n",
       "      <td>6.15공동선언실천남북공동위원회북측위원회</td>\n",
       "      <td>노동자분과</td>\n",
       "      <td>NaN</td>\n",
       "      <td>NaN</td>\n",
       "      <td>Current</td>\n",
       "      <td>Current</td>\n",
       "      <td>NaN</td>\n",
       "    </tr>\n",
       "  </tbody>\n",
       "</table>\n",
       "</div>"
      ],
      "text/plain": [
       "   DuplicateKey  InsideGov      PrimaryInstitution OrgName  \\\n",
       "0         False      False  6.15공동선언실천남북공동위원회북측위원회   교직원분과   \n",
       "1         False      False  6.15공동선언실천남북공동위원회북측위원회   노동자분과   \n",
       "\n",
       "  ImmediateSuperiorOrg  SupervisesParent LinkToCurrent_PrimaryInstitution  \\\n",
       "0                  NaN               NaN                          Current   \n",
       "1                  NaN               NaN                          Current   \n",
       "\n",
       "  LinkToCurrent_OrgName   비고  \n",
       "0               Current  NaN  \n",
       "1               Current  NaN  "
      ]
     },
     "execution_count": 61,
     "metadata": {},
     "output_type": "execute_result"
    }
   ],
   "source": [
    "# save updated orgtree\n",
    "orgtree = merged[[\"DuplicateKey\"]+orgtree_columns]\n",
    "orgtree[0:2]"
   ]
  },
  {
   "cell_type": "code",
   "execution_count": 62,
   "metadata": {},
   "outputs": [
    {
     "data": {
      "text/plain": [
       "(1033, 9)"
      ]
     },
     "execution_count": 62,
     "metadata": {},
     "output_type": "execute_result"
    }
   ],
   "source": [
    "orgtree.shape"
   ]
  },
  {
   "cell_type": "code",
   "execution_count": 63,
   "metadata": {},
   "outputs": [
    {
     "data": {
      "text/plain": [
       "(1033, 9)"
      ]
     },
     "execution_count": 63,
     "metadata": {},
     "output_type": "execute_result"
    }
   ],
   "source": [
    "# Check 1: drop NAs\n",
    "orgtree.dropna()\n",
    "orgtree.shape"
   ]
  },
  {
   "cell_type": "code",
   "execution_count": 64,
   "metadata": {},
   "outputs": [
    {
     "data": {
      "text/plain": [
       "(44, 9)"
      ]
     },
     "execution_count": 64,
     "metadata": {},
     "output_type": "execute_result"
    }
   ],
   "source": [
    "# Check 2: duplicate rows\n",
    "orgtree[orgtree.duplicated(keep=False)].shape"
   ]
  },
  {
   "cell_type": "code",
   "execution_count": 65,
   "metadata": {},
   "outputs": [
    {
     "data": {
      "text/plain": [
       "(1011, 9)"
      ]
     },
     "execution_count": 65,
     "metadata": {},
     "output_type": "execute_result"
    }
   ],
   "source": [
    "orgtree = orgtree.drop_duplicates()\n",
    "orgtree.shape"
   ]
  },
  {
   "cell_type": "code",
   "execution_count": 66,
   "metadata": {},
   "outputs": [
    {
     "data": {
      "text/plain": [
       "(155, 9)"
      ]
     },
     "execution_count": 66,
     "metadata": {},
     "output_type": "execute_result"
    }
   ],
   "source": [
    "# Check 3: check duplicate keys. There were 112. Now there are 90. Leave these to process by hand.\n",
    "orgtree[orgtree.duplicated([\"PrimaryInstitution\",\"OrgName\"],keep=False)].shape"
   ]
  },
  {
   "cell_type": "code",
   "execution_count": 67,
   "metadata": {},
   "outputs": [],
   "source": [
    "# reset DuplicateKey = True\n",
    "orgtree[\"DuplicateKey\"]=False"
   ]
  },
  {
   "cell_type": "code",
   "execution_count": 68,
   "metadata": {},
   "outputs": [],
   "source": [
    "orgtree.loc[orgtree.duplicated([\"PrimaryInstitution\",\"OrgName\"],keep=False),\"DuplicateKey\"]=True"
   ]
  },
  {
   "cell_type": "code",
   "execution_count": 69,
   "metadata": {},
   "outputs": [
    {
     "data": {
      "text/plain": [
       "(155, 9)"
      ]
     },
     "execution_count": 69,
     "metadata": {},
     "output_type": "execute_result"
    }
   ],
   "source": [
    "orgtree[orgtree.DuplicateKey==True].shape"
   ]
  },
  {
   "cell_type": "code",
   "execution_count": 70,
   "metadata": {},
   "outputs": [
    {
     "data": {
      "text/plain": [
       "['DuplicateKey',\n",
       " 'InsideGov',\n",
       " 'PrimaryInstitution',\n",
       " 'OrgName',\n",
       " 'ImmediateSuperiorOrg',\n",
       " 'SupervisesParent',\n",
       " 'LinkToCurrent_PrimaryInstitution',\n",
       " 'LinkToCurrent_OrgName',\n",
       " '비고']"
      ]
     },
     "execution_count": 70,
     "metadata": {},
     "output_type": "execute_result"
    }
   ],
   "source": [
    "# update orgree_columns\n",
    "orgtree_columns = list(orgtree.columns)\n",
    "orgtree_columns"
   ]
  },
  {
   "cell_type": "markdown",
   "metadata": {},
   "source": [
    "# left1: prep joborglink_left1"
   ]
  },
  {
   "cell_type": "code",
   "execution_count": 71,
   "metadata": {},
   "outputs": [
    {
     "data": {
      "text/plain": [
       "(402, 11)"
      ]
     },
     "execution_count": 71,
     "metadata": {},
     "output_type": "execute_result"
    }
   ],
   "source": [
    "# joborglink_dtypes = {\"OrgString\":\"str\",\"_merged\":\"str\",\"InOrgTree\":\"str\",\"InsideGov\":\"str\",\"PrimaryInstitution\":\"str\",\"OrgName\":\"str\",\"Orgtree_NeedToModify_PI\":\"str\",\"Orgtree_NeedToModify_Orgname\":\"str\",\"LinkToCurrent_PrimaryInstitution\":\"str\",\"LinkToCurrent_OrgName\":\"str\",\"Modify_LinkToCurrent_PrimaryInstitution\":\"str\",\"Modify_LinkToCurrent_OrgName\":\"str\",\"비고\":\"str\"}\n",
    "# joborglink = pd.read_excel(path_joborglink+filein_joborglink_right,dtype=joborglink_dtypes)\n",
    "joborglink_left1 = pd.read_excel(path_joborglink+filein_joborglink_left1)\n",
    "joborglink_left1.shape"
   ]
  },
  {
   "cell_type": "code",
   "execution_count": 72,
   "metadata": {},
   "outputs": [],
   "source": [
    "# list(joborglink_dtypes.keys())"
   ]
  },
  {
   "cell_type": "code",
   "execution_count": 73,
   "metadata": {},
   "outputs": [
    {
     "data": {
      "text/plain": [
       "Index(['OrgString', 'Notes', '_merge', 'InOrgTree', 'PrimaryInstitution',\n",
       "       'OrgName', 'ChangeOrgTree', 'InsideGov',\n",
       "       'LinkToCurrent_PrimaryInstitution_y', 'LinkToCurrent_OrgName', '비고'],\n",
       "      dtype='object')"
      ]
     },
     "execution_count": 73,
     "metadata": {},
     "output_type": "execute_result"
    }
   ],
   "source": [
    "joborglink_left1.columns"
   ]
  },
  {
   "cell_type": "code",
   "execution_count": 74,
   "metadata": {},
   "outputs": [
    {
     "data": {
      "text/plain": [
       "(402, 2)"
      ]
     },
     "execution_count": 74,
     "metadata": {},
     "output_type": "execute_result"
    }
   ],
   "source": [
    "columns_processing = [\"PrimaryInstitution\",\"OrgName\"]\n",
    "jol_left1_process = joborglink_left1[columns_processing]\n",
    "jol_left1_process.shape"
   ]
  },
  {
   "cell_type": "code",
   "execution_count": 75,
   "metadata": {},
   "outputs": [
    {
     "data": {
      "text/plain": [
       "(402, 2)"
      ]
     },
     "execution_count": 75,
     "metadata": {},
     "output_type": "execute_result"
    }
   ],
   "source": [
    "# Check 1: No NAs\n",
    "jol_left1_process.dropna()\n",
    "jol_left1_process.shape"
   ]
  },
  {
   "cell_type": "code",
   "execution_count": 76,
   "metadata": {},
   "outputs": [
    {
     "data": {
      "text/html": [
       "<div>\n",
       "<style scoped>\n",
       "    .dataframe tbody tr th:only-of-type {\n",
       "        vertical-align: middle;\n",
       "    }\n",
       "\n",
       "    .dataframe tbody tr th {\n",
       "        vertical-align: top;\n",
       "    }\n",
       "\n",
       "    .dataframe thead th {\n",
       "        text-align: right;\n",
       "    }\n",
       "</style>\n",
       "<table border=\"1\" class=\"dataframe\">\n",
       "  <thead>\n",
       "    <tr style=\"text-align: right;\">\n",
       "      <th></th>\n",
       "      <th>PrimaryInstitution</th>\n",
       "      <th>OrgName</th>\n",
       "    </tr>\n",
       "  </thead>\n",
       "  <tbody>\n",
       "    <tr>\n",
       "      <th>1</th>\n",
       "      <td>4.15문화창작단</td>\n",
       "      <td>NaN</td>\n",
       "    </tr>\n",
       "    <tr>\n",
       "      <th>2</th>\n",
       "      <td>4.15문화창작단</td>\n",
       "      <td>NaN</td>\n",
       "    </tr>\n",
       "    <tr>\n",
       "      <th>6</th>\n",
       "      <td>강동지구탄광연합기업소</td>\n",
       "      <td>NaN</td>\n",
       "    </tr>\n",
       "    <tr>\n",
       "      <th>11</th>\n",
       "      <td>개성방직공장</td>\n",
       "      <td>3대혁명소조</td>\n",
       "    </tr>\n",
       "    <tr>\n",
       "      <th>17</th>\n",
       "      <td>국무위원회</td>\n",
       "      <td>국가체육지도위원회_제1부</td>\n",
       "    </tr>\n",
       "    <tr>\n",
       "      <th>28</th>\n",
       "      <td>국방위원회</td>\n",
       "      <td>호위사령부</td>\n",
       "    </tr>\n",
       "    <tr>\n",
       "      <th>29</th>\n",
       "      <td>국방위원회</td>\n",
       "      <td>호위사령부</td>\n",
       "    </tr>\n",
       "    <tr>\n",
       "      <th>30</th>\n",
       "      <td>국방위원회</td>\n",
       "      <td>호위사령부</td>\n",
       "    </tr>\n",
       "    <tr>\n",
       "      <th>37</th>\n",
       "      <td>김일성군사종합대학</td>\n",
       "      <td>NaN</td>\n",
       "    </tr>\n",
       "    <tr>\n",
       "      <th>41</th>\n",
       "      <td>김책제철연합기업소</td>\n",
       "      <td>NaN</td>\n",
       "    </tr>\n",
       "    <tr>\n",
       "      <th>44</th>\n",
       "      <td>남흥청년화학연합기업소</td>\n",
       "      <td>NaN</td>\n",
       "    </tr>\n",
       "    <tr>\n",
       "      <th>45</th>\n",
       "      <td>남흥청년화학연합기업소</td>\n",
       "      <td>NaN</td>\n",
       "    </tr>\n",
       "    <tr>\n",
       "      <th>46</th>\n",
       "      <td>남흥청년화학연합기업소</td>\n",
       "      <td>NaN</td>\n",
       "    </tr>\n",
       "    <tr>\n",
       "      <th>48</th>\n",
       "      <td>내각</td>\n",
       "      <td>225국</td>\n",
       "    </tr>\n",
       "    <tr>\n",
       "      <th>50</th>\n",
       "      <td>내각</td>\n",
       "      <td>간석지건설지도국_간석지설계사업소</td>\n",
       "    </tr>\n",
       "    <tr>\n",
       "      <th>52</th>\n",
       "      <td>내각</td>\n",
       "      <td>강원도인민위원회_원산시인민위원회</td>\n",
       "    </tr>\n",
       "    <tr>\n",
       "      <th>54</th>\n",
       "      <td>내각</td>\n",
       "      <td>개성시인민위원회</td>\n",
       "    </tr>\n",
       "    <tr>\n",
       "      <th>57</th>\n",
       "      <td>내각</td>\n",
       "      <td>건재공업부</td>\n",
       "    </tr>\n",
       "    <tr>\n",
       "      <th>60</th>\n",
       "      <td>내각</td>\n",
       "      <td>공보위원회</td>\n",
       "    </tr>\n",
       "    <tr>\n",
       "      <th>64</th>\n",
       "      <td>내각</td>\n",
       "      <td>교육위원회_고등교육성_김일성종합대학_계응상사리원농업대학</td>\n",
       "    </tr>\n",
       "    <tr>\n",
       "      <th>67</th>\n",
       "      <td>내각</td>\n",
       "      <td>교육위원회_고등교육성_리과대학</td>\n",
       "    </tr>\n",
       "    <tr>\n",
       "      <th>73</th>\n",
       "      <td>내각</td>\n",
       "      <td>교육위원회_고등교육성_평양국제관계대학</td>\n",
       "    </tr>\n",
       "    <tr>\n",
       "      <th>76</th>\n",
       "      <td>내각</td>\n",
       "      <td>교육위원회_고등교육성_평양체육대학교</td>\n",
       "    </tr>\n",
       "    <tr>\n",
       "      <th>80</th>\n",
       "      <td>내각</td>\n",
       "      <td>교육위원회_고등교육성_희천공업대학</td>\n",
       "    </tr>\n",
       "    <tr>\n",
       "      <th>84</th>\n",
       "      <td>내각</td>\n",
       "      <td>국가공보위원회</td>\n",
       "    </tr>\n",
       "    <tr>\n",
       "      <th>88</th>\n",
       "      <td>내각</td>\n",
       "      <td>국가수의방역위원회</td>\n",
       "    </tr>\n",
       "    <tr>\n",
       "      <th>91</th>\n",
       "      <td>내각</td>\n",
       "      <td>국가영화위원회</td>\n",
       "    </tr>\n",
       "    <tr>\n",
       "      <th>94</th>\n",
       "      <td>내각</td>\n",
       "      <td>국가학위직수여위원회</td>\n",
       "    </tr>\n",
       "    <tr>\n",
       "      <th>102</th>\n",
       "      <td>내각</td>\n",
       "      <td>대외봉사국</td>\n",
       "    </tr>\n",
       "    <tr>\n",
       "      <th>104</th>\n",
       "      <td>내각</td>\n",
       "      <td>도시경영성_수도건설지휘부</td>\n",
       "    </tr>\n",
       "    <tr>\n",
       "      <th>105</th>\n",
       "      <td>내각</td>\n",
       "      <td>도시경영성_수도건설지휘부</td>\n",
       "    </tr>\n",
       "    <tr>\n",
       "      <th>114</th>\n",
       "      <td>내각</td>\n",
       "      <td>외무성_X국_아태위원회</td>\n",
       "    </tr>\n",
       "    <tr>\n",
       "      <th>115</th>\n",
       "      <td>내각</td>\n",
       "      <td>외무성_X국_아태위원회</td>\n",
       "    </tr>\n",
       "    <tr>\n",
       "      <th>117</th>\n",
       "      <td>내각</td>\n",
       "      <td>외무성_X국_유고대사관</td>\n",
       "    </tr>\n",
       "    <tr>\n",
       "      <th>118</th>\n",
       "      <td>내각</td>\n",
       "      <td>외무성_X국_유고대사관</td>\n",
       "    </tr>\n",
       "    <tr>\n",
       "      <th>127</th>\n",
       "      <td>내각</td>\n",
       "      <td>인민봉사총국_인민봉사지도국_평양시인민봉사총국</td>\n",
       "    </tr>\n",
       "    <tr>\n",
       "      <th>130</th>\n",
       "      <td>내각</td>\n",
       "      <td>자원개발부</td>\n",
       "    </tr>\n",
       "    <tr>\n",
       "      <th>137</th>\n",
       "      <td>내각</td>\n",
       "      <td>제2기계공업성</td>\n",
       "    </tr>\n",
       "    <tr>\n",
       "      <th>139</th>\n",
       "      <td>내각</td>\n",
       "      <td>조국평화통일위원회_서기국</td>\n",
       "    </tr>\n",
       "    <tr>\n",
       "      <th>142</th>\n",
       "      <td>내각</td>\n",
       "      <td>조국평화통일위원회_중앙위원회</td>\n",
       "    </tr>\n",
       "    <tr>\n",
       "      <th>144</th>\n",
       "      <td>내각</td>\n",
       "      <td>조선공보위원회</td>\n",
       "    </tr>\n",
       "    <tr>\n",
       "      <th>146</th>\n",
       "      <td>내각</td>\n",
       "      <td>중공업위원회</td>\n",
       "    </tr>\n",
       "    <tr>\n",
       "      <th>152</th>\n",
       "      <td>내각</td>\n",
       "      <td>철도성_청진화학공장_소다직장</td>\n",
       "    </tr>\n",
       "    <tr>\n",
       "      <th>160</th>\n",
       "      <td>내각</td>\n",
       "      <td>해운부_청년건설여단</td>\n",
       "    </tr>\n",
       "    <tr>\n",
       "      <th>164</th>\n",
       "      <td>노동당</td>\n",
       "      <td>남북경협제도실무협의회</td>\n",
       "    </tr>\n",
       "    <tr>\n",
       "      <th>166</th>\n",
       "      <td>노동당</td>\n",
       "      <td>대외정보조사부</td>\n",
       "    </tr>\n",
       "    <tr>\n",
       "      <th>168</th>\n",
       "      <td>노동당</td>\n",
       "      <td>영화부</td>\n",
       "    </tr>\n",
       "    <tr>\n",
       "      <th>175</th>\n",
       "      <td>노동당</td>\n",
       "      <td>중앙위원회_역사연구소</td>\n",
       "    </tr>\n",
       "    <tr>\n",
       "      <th>177</th>\n",
       "      <td>노동당</td>\n",
       "      <td>중앙위원회_행정부</td>\n",
       "    </tr>\n",
       "    <tr>\n",
       "      <th>179</th>\n",
       "      <td>노동당</td>\n",
       "      <td>청소년사업부</td>\n",
       "    </tr>\n",
       "    <tr>\n",
       "      <th>180</th>\n",
       "      <td>노동당</td>\n",
       "      <td>청소년사업부</td>\n",
       "    </tr>\n",
       "    <tr>\n",
       "      <th>183</th>\n",
       "      <td>농업과학원</td>\n",
       "      <td>NaN</td>\n",
       "    </tr>\n",
       "    <tr>\n",
       "      <th>185</th>\n",
       "      <td>단천수산사업소</td>\n",
       "      <td>NaN</td>\n",
       "    </tr>\n",
       "    <tr>\n",
       "      <th>188</th>\n",
       "      <td>대안전기공장</td>\n",
       "      <td>NaN</td>\n",
       "    </tr>\n",
       "    <tr>\n",
       "      <th>196</th>\n",
       "      <td>무산광산연합기업소</td>\n",
       "      <td>NaN</td>\n",
       "    </tr>\n",
       "    <tr>\n",
       "      <th>197</th>\n",
       "      <td>무산광산연합기업소</td>\n",
       "      <td>NaN</td>\n",
       "    </tr>\n",
       "    <tr>\n",
       "      <th>198</th>\n",
       "      <td>무산광산연합기업소</td>\n",
       "      <td>NaN</td>\n",
       "    </tr>\n",
       "    <tr>\n",
       "      <th>202</th>\n",
       "      <td>백두산건축연구원</td>\n",
       "      <td>NaN</td>\n",
       "    </tr>\n",
       "    <tr>\n",
       "      <th>208</th>\n",
       "      <td>북조선임시인민위원회</td>\n",
       "      <td>NaN</td>\n",
       "    </tr>\n",
       "    <tr>\n",
       "      <th>209</th>\n",
       "      <td>북조선임시인민위원회</td>\n",
       "      <td>NaN</td>\n",
       "    </tr>\n",
       "    <tr>\n",
       "      <th>210</th>\n",
       "      <td>북조선임시인민위원회</td>\n",
       "      <td>NaN</td>\n",
       "    </tr>\n",
       "    <tr>\n",
       "      <th>215</th>\n",
       "      <td>사회과학원</td>\n",
       "      <td>NaN</td>\n",
       "    </tr>\n",
       "    <tr>\n",
       "      <th>220</th>\n",
       "      <td>사회주의노동청년동맹</td>\n",
       "      <td>NaN</td>\n",
       "    </tr>\n",
       "    <tr>\n",
       "      <th>222</th>\n",
       "      <td>삼석구역장수원협동농장</td>\n",
       "      <td>NaN</td>\n",
       "    </tr>\n",
       "    <tr>\n",
       "      <th>225</th>\n",
       "      <td>순천비날론연합기업소</td>\n",
       "      <td>NaN</td>\n",
       "    </tr>\n",
       "    <tr>\n",
       "      <th>228</th>\n",
       "      <td>승리자동차연합기업소</td>\n",
       "      <td>NaN</td>\n",
       "    </tr>\n",
       "    <tr>\n",
       "      <th>230</th>\n",
       "      <td>신창탄광</td>\n",
       "      <td>NaN</td>\n",
       "    </tr>\n",
       "    <tr>\n",
       "      <th>232</th>\n",
       "      <td>신포수산사업소</td>\n",
       "      <td>NaN</td>\n",
       "    </tr>\n",
       "    <tr>\n",
       "      <th>236</th>\n",
       "      <td>양강도임업연합기업소</td>\n",
       "      <td>NaN</td>\n",
       "    </tr>\n",
       "    <tr>\n",
       "      <th>238</th>\n",
       "      <td>용성기계연합기업소</td>\n",
       "      <td>NaN</td>\n",
       "    </tr>\n",
       "    <tr>\n",
       "      <th>240</th>\n",
       "      <td>용성식료공장</td>\n",
       "      <td>NaN</td>\n",
       "    </tr>\n",
       "    <tr>\n",
       "      <th>244</th>\n",
       "      <td>원산철도차량연합기업소</td>\n",
       "      <td>NaN</td>\n",
       "    </tr>\n",
       "    <tr>\n",
       "      <th>256</th>\n",
       "      <td>정무원</td>\n",
       "      <td>양강도행정경제위원회</td>\n",
       "    </tr>\n",
       "    <tr>\n",
       "      <th>257</th>\n",
       "      <td>정무원</td>\n",
       "      <td>양강도행정경제위원회</td>\n",
       "    </tr>\n",
       "    <tr>\n",
       "      <th>259</th>\n",
       "      <td>정무원</td>\n",
       "      <td>자강도행정경제위원회</td>\n",
       "    </tr>\n",
       "    <tr>\n",
       "      <th>261</th>\n",
       "      <td>정무원</td>\n",
       "      <td>평안남도행정경제위원회</td>\n",
       "    </tr>\n",
       "    <tr>\n",
       "      <th>262</th>\n",
       "      <td>정무원</td>\n",
       "      <td>평안남도행정경제위원회</td>\n",
       "    </tr>\n",
       "    <tr>\n",
       "      <th>263</th>\n",
       "      <td>정무원</td>\n",
       "      <td>평안남도행정경제위원회</td>\n",
       "    </tr>\n",
       "    <tr>\n",
       "      <th>264</th>\n",
       "      <td>정무원</td>\n",
       "      <td>평안남도행정경제위원회</td>\n",
       "    </tr>\n",
       "    <tr>\n",
       "      <th>265</th>\n",
       "      <td>정무원</td>\n",
       "      <td>평안남도행정경제위원회</td>\n",
       "    </tr>\n",
       "    <tr>\n",
       "      <th>268</th>\n",
       "      <td>정무원</td>\n",
       "      <td>함경남도행정경제위원회</td>\n",
       "    </tr>\n",
       "    <tr>\n",
       "      <th>270</th>\n",
       "      <td>정무원</td>\n",
       "      <td>함경남도행정경제위원회_함흥시행정경제위원회</td>\n",
       "    </tr>\n",
       "    <tr>\n",
       "      <th>273</th>\n",
       "      <td>정무원</td>\n",
       "      <td>함경북도행정경제위원회_명천군행정경제위원회</td>\n",
       "    </tr>\n",
       "    <tr>\n",
       "      <th>275</th>\n",
       "      <td>정무원</td>\n",
       "      <td>황해남도행정경제위원회</td>\n",
       "    </tr>\n",
       "    <tr>\n",
       "      <th>277</th>\n",
       "      <td>정무원</td>\n",
       "      <td>황해북도행정경제위원회</td>\n",
       "    </tr>\n",
       "    <tr>\n",
       "      <th>281</th>\n",
       "      <td>조국통일민주주의전선</td>\n",
       "      <td>중앙위원회</td>\n",
       "    </tr>\n",
       "    <tr>\n",
       "      <th>282</th>\n",
       "      <td>조국통일민주주의전선</td>\n",
       "      <td>중앙위원회</td>\n",
       "    </tr>\n",
       "    <tr>\n",
       "      <th>283</th>\n",
       "      <td>조국통일민주주의전선</td>\n",
       "      <td>중앙위원회</td>\n",
       "    </tr>\n",
       "    <tr>\n",
       "      <th>284</th>\n",
       "      <td>조국통일민주주의전선</td>\n",
       "      <td>중앙위원회</td>\n",
       "    </tr>\n",
       "    <tr>\n",
       "      <th>286</th>\n",
       "      <td>조국통일민주주의전선</td>\n",
       "      <td>NaN</td>\n",
       "    </tr>\n",
       "    <tr>\n",
       "      <th>287</th>\n",
       "      <td>조국통일민주주의전선</td>\n",
       "      <td>NaN</td>\n",
       "    </tr>\n",
       "    <tr>\n",
       "      <th>289</th>\n",
       "      <td>조국통일범민족연합북측본부</td>\n",
       "      <td>중앙위원회</td>\n",
       "    </tr>\n",
       "    <tr>\n",
       "      <th>290</th>\n",
       "      <td>조국통일범민족연합북측본부</td>\n",
       "      <td>중앙위원회</td>\n",
       "    </tr>\n",
       "    <tr>\n",
       "      <th>292</th>\n",
       "      <td>조국통일범민족연합북측본부</td>\n",
       "      <td>NaN</td>\n",
       "    </tr>\n",
       "    <tr>\n",
       "      <th>293</th>\n",
       "      <td>조국통일범민족연합북측본부</td>\n",
       "      <td>NaN</td>\n",
       "    </tr>\n",
       "    <tr>\n",
       "      <th>294</th>\n",
       "      <td>조국통일범민족연합북측본부</td>\n",
       "      <td>NaN</td>\n",
       "    </tr>\n",
       "    <tr>\n",
       "      <th>295</th>\n",
       "      <td>조국통일범민족연합북측본부</td>\n",
       "      <td>NaN</td>\n",
       "    </tr>\n",
       "    <tr>\n",
       "      <th>296</th>\n",
       "      <td>조국통일범민족연합북측본부</td>\n",
       "      <td>NaN</td>\n",
       "    </tr>\n",
       "    <tr>\n",
       "      <th>297</th>\n",
       "      <td>조국통일범민족연합북측본부</td>\n",
       "      <td>NaN</td>\n",
       "    </tr>\n",
       "    <tr>\n",
       "      <th>298</th>\n",
       "      <td>조국통일범민족연합북측본부</td>\n",
       "      <td>NaN</td>\n",
       "    </tr>\n",
       "    <tr>\n",
       "      <th>299</th>\n",
       "      <td>조국통일범민족연합북측본부</td>\n",
       "      <td>NaN</td>\n",
       "    </tr>\n",
       "    <tr>\n",
       "      <th>305</th>\n",
       "      <td>조선국제합영총회사</td>\n",
       "      <td>NaN</td>\n",
       "    </tr>\n",
       "    <tr>\n",
       "      <th>306</th>\n",
       "      <td>조선국제합영총회사</td>\n",
       "      <td>NaN</td>\n",
       "    </tr>\n",
       "    <tr>\n",
       "      <th>307</th>\n",
       "      <td>조선국제합영총회사</td>\n",
       "      <td>NaN</td>\n",
       "    </tr>\n",
       "    <tr>\n",
       "      <th>309</th>\n",
       "      <td>조선김일성화김정일화위원회</td>\n",
       "      <td>NaN</td>\n",
       "    </tr>\n",
       "    <tr>\n",
       "      <th>312</th>\n",
       "      <td>조선무역은행</td>\n",
       "      <td>프랑스지점</td>\n",
       "    </tr>\n",
       "    <tr>\n",
       "      <th>317</th>\n",
       "      <td>조선반제투사노병위원회</td>\n",
       "      <td>NaN</td>\n",
       "    </tr>\n",
       "    <tr>\n",
       "      <th>325</th>\n",
       "      <td>조선천도교회중앙지도위원회</td>\n",
       "      <td>NaN</td>\n",
       "    </tr>\n",
       "    <tr>\n",
       "      <th>326</th>\n",
       "      <td>조선천도교회중앙지도위원회</td>\n",
       "      <td>NaN</td>\n",
       "    </tr>\n",
       "    <tr>\n",
       "      <th>329</th>\n",
       "      <td>조선평화옹호전국민족위원회</td>\n",
       "      <td>NaN</td>\n",
       "    </tr>\n",
       "    <tr>\n",
       "      <th>332</th>\n",
       "      <td>조선해외동포원호위원회</td>\n",
       "      <td>국제국</td>\n",
       "    </tr>\n",
       "    <tr>\n",
       "      <th>334</th>\n",
       "      <td>조선혁명박물관</td>\n",
       "      <td>NaN</td>\n",
       "    </tr>\n",
       "    <tr>\n",
       "      <th>337</th>\n",
       "      <td>종군위안부및태평양전쟁피해자대책위원회</td>\n",
       "      <td>NaN</td>\n",
       "    </tr>\n",
       "    <tr>\n",
       "      <th>339</th>\n",
       "      <td>중앙보안간부학교</td>\n",
       "      <td>NaN</td>\n",
       "    </tr>\n",
       "    <tr>\n",
       "      <th>342</th>\n",
       "      <td>직동청년탄광</td>\n",
       "      <td>NaN</td>\n",
       "    </tr>\n",
       "    <tr>\n",
       "      <th>346</th>\n",
       "      <td>총참모부</td>\n",
       "      <td>경보교도지도국</td>\n",
       "    </tr>\n",
       "    <tr>\n",
       "      <th>349</th>\n",
       "      <td>총참모부</td>\n",
       "      <td>NaN</td>\n",
       "    </tr>\n",
       "    <tr>\n",
       "      <th>350</th>\n",
       "      <td>총참모부</td>\n",
       "      <td>NaN</td>\n",
       "    </tr>\n",
       "    <tr>\n",
       "      <th>351</th>\n",
       "      <td>총참모부</td>\n",
       "      <td>NaN</td>\n",
       "    </tr>\n",
       "    <tr>\n",
       "      <th>352</th>\n",
       "      <td>총참모부</td>\n",
       "      <td>NaN</td>\n",
       "    </tr>\n",
       "    <tr>\n",
       "      <th>353</th>\n",
       "      <td>총참모부</td>\n",
       "      <td>NaN</td>\n",
       "    </tr>\n",
       "    <tr>\n",
       "      <th>356</th>\n",
       "      <td>최고인민회의</td>\n",
       "      <td>대의원자격심사위원회</td>\n",
       "    </tr>\n",
       "    <tr>\n",
       "      <th>357</th>\n",
       "      <td>최고인민회의</td>\n",
       "      <td>대의원자격심사위원회</td>\n",
       "    </tr>\n",
       "    <tr>\n",
       "      <th>358</th>\n",
       "      <td>최고인민회의</td>\n",
       "      <td>대의원자격심사위원회</td>\n",
       "    </tr>\n",
       "    <tr>\n",
       "      <th>359</th>\n",
       "      <td>최고인민회의</td>\n",
       "      <td>대의원자격심사위원회</td>\n",
       "    </tr>\n",
       "    <tr>\n",
       "      <th>360</th>\n",
       "      <td>최고인민회의</td>\n",
       "      <td>대의원자격심사위원회</td>\n",
       "    </tr>\n",
       "    <tr>\n",
       "      <th>364</th>\n",
       "      <td>최고인민회의</td>\n",
       "      <td>자격심사위원회</td>\n",
       "    </tr>\n",
       "    <tr>\n",
       "      <th>365</th>\n",
       "      <td>최고인민회의</td>\n",
       "      <td>자격심사위원회</td>\n",
       "    </tr>\n",
       "    <tr>\n",
       "      <th>366</th>\n",
       "      <td>최고인민회의</td>\n",
       "      <td>자격심사위원회</td>\n",
       "    </tr>\n",
       "    <tr>\n",
       "      <th>367</th>\n",
       "      <td>최고인민회의</td>\n",
       "      <td>자격심사위원회</td>\n",
       "    </tr>\n",
       "    <tr>\n",
       "      <th>370</th>\n",
       "      <td>최고인민회의</td>\n",
       "      <td>중앙선거위원회</td>\n",
       "    </tr>\n",
       "    <tr>\n",
       "      <th>371</th>\n",
       "      <td>최고인민회의</td>\n",
       "      <td>중앙선거위원회</td>\n",
       "    </tr>\n",
       "    <tr>\n",
       "      <th>372</th>\n",
       "      <td>최고인민회의</td>\n",
       "      <td>중앙선거위원회</td>\n",
       "    </tr>\n",
       "    <tr>\n",
       "      <th>373</th>\n",
       "      <td>최고인민회의</td>\n",
       "      <td>중앙선거위원회</td>\n",
       "    </tr>\n",
       "    <tr>\n",
       "      <th>375</th>\n",
       "      <td>최고인민회의</td>\n",
       "      <td>중앙선거지도위원회</td>\n",
       "    </tr>\n",
       "    <tr>\n",
       "      <th>376</th>\n",
       "      <td>최고인민회의</td>\n",
       "      <td>중앙선거지도위원회</td>\n",
       "    </tr>\n",
       "    <tr>\n",
       "      <th>377</th>\n",
       "      <td>최고인민회의</td>\n",
       "      <td>중앙선거지도위원회</td>\n",
       "    </tr>\n",
       "    <tr>\n",
       "      <th>378</th>\n",
       "      <td>최고인민회의</td>\n",
       "      <td>중앙선거지도위원회</td>\n",
       "    </tr>\n",
       "    <tr>\n",
       "      <th>380</th>\n",
       "      <td>최고인민회의</td>\n",
       "      <td>통일정책심의위원회</td>\n",
       "    </tr>\n",
       "    <tr>\n",
       "      <th>381</th>\n",
       "      <td>최고인민회의</td>\n",
       "      <td>통일정책심의위원회</td>\n",
       "    </tr>\n",
       "    <tr>\n",
       "      <th>383</th>\n",
       "      <td>최고인민회의</td>\n",
       "      <td>통일정책위원회</td>\n",
       "    </tr>\n",
       "    <tr>\n",
       "      <th>388</th>\n",
       "      <td>평양만경대예술단</td>\n",
       "      <td>섭외부</td>\n",
       "    </tr>\n",
       "    <tr>\n",
       "      <th>391</th>\n",
       "      <td>평양탄광기계공장</td>\n",
       "      <td>NaN</td>\n",
       "    </tr>\n",
       "    <tr>\n",
       "      <th>397</th>\n",
       "      <td>황해제철연합기업소</td>\n",
       "      <td>NaN</td>\n",
       "    </tr>\n",
       "    <tr>\n",
       "      <th>399</th>\n",
       "      <td>후방군관학교</td>\n",
       "      <td>NaN</td>\n",
       "    </tr>\n",
       "    <tr>\n",
       "      <th>401</th>\n",
       "      <td>희천정밀기계공장</td>\n",
       "      <td>NaN</td>\n",
       "    </tr>\n",
       "  </tbody>\n",
       "</table>\n",
       "</div>"
      ],
      "text/plain": [
       "      PrimaryInstitution                         OrgName\n",
       "1              4.15문화창작단                             NaN\n",
       "2              4.15문화창작단                             NaN\n",
       "6            강동지구탄광연합기업소                             NaN\n",
       "11                개성방직공장                          3대혁명소조\n",
       "17                 국무위원회                   국가체육지도위원회_제1부\n",
       "28                 국방위원회                           호위사령부\n",
       "29                 국방위원회                           호위사령부\n",
       "30                 국방위원회                           호위사령부\n",
       "37             김일성군사종합대학                             NaN\n",
       "41             김책제철연합기업소                             NaN\n",
       "44           남흥청년화학연합기업소                             NaN\n",
       "45           남흥청년화학연합기업소                             NaN\n",
       "46           남흥청년화학연합기업소                             NaN\n",
       "48                    내각                            225국\n",
       "50                    내각               간석지건설지도국_간석지설계사업소\n",
       "52                    내각               강원도인민위원회_원산시인민위원회\n",
       "54                    내각                        개성시인민위원회\n",
       "57                    내각                           건재공업부\n",
       "60                    내각                           공보위원회\n",
       "64                    내각  교육위원회_고등교육성_김일성종합대학_계응상사리원농업대학\n",
       "67                    내각                교육위원회_고등교육성_리과대학\n",
       "73                    내각            교육위원회_고등교육성_평양국제관계대학\n",
       "76                    내각             교육위원회_고등교육성_평양체육대학교\n",
       "80                    내각              교육위원회_고등교육성_희천공업대학\n",
       "84                    내각                         국가공보위원회\n",
       "88                    내각                       국가수의방역위원회\n",
       "91                    내각                         국가영화위원회\n",
       "94                    내각                      국가학위직수여위원회\n",
       "102                   내각                           대외봉사국\n",
       "104                   내각                   도시경영성_수도건설지휘부\n",
       "105                   내각                   도시경영성_수도건설지휘부\n",
       "114                   내각                    외무성_X국_아태위원회\n",
       "115                   내각                    외무성_X국_아태위원회\n",
       "117                   내각                    외무성_X국_유고대사관\n",
       "118                   내각                    외무성_X국_유고대사관\n",
       "127                   내각        인민봉사총국_인민봉사지도국_평양시인민봉사총국\n",
       "130                   내각                           자원개발부\n",
       "137                   내각                         제2기계공업성\n",
       "139                   내각                   조국평화통일위원회_서기국\n",
       "142                   내각                 조국평화통일위원회_중앙위원회\n",
       "144                   내각                         조선공보위원회\n",
       "146                   내각                          중공업위원회\n",
       "152                   내각                 철도성_청진화학공장_소다직장\n",
       "160                   내각                      해운부_청년건설여단\n",
       "164                  노동당                     남북경협제도실무협의회\n",
       "166                  노동당                         대외정보조사부\n",
       "168                  노동당                             영화부\n",
       "175                  노동당                     중앙위원회_역사연구소\n",
       "177                  노동당                       중앙위원회_행정부\n",
       "179                  노동당                          청소년사업부\n",
       "180                  노동당                          청소년사업부\n",
       "183                농업과학원                             NaN\n",
       "185              단천수산사업소                             NaN\n",
       "188               대안전기공장                             NaN\n",
       "196            무산광산연합기업소                             NaN\n",
       "197            무산광산연합기업소                             NaN\n",
       "198            무산광산연합기업소                             NaN\n",
       "202             백두산건축연구원                             NaN\n",
       "208           북조선임시인민위원회                             NaN\n",
       "209           북조선임시인민위원회                             NaN\n",
       "210           북조선임시인민위원회                             NaN\n",
       "215                사회과학원                             NaN\n",
       "220           사회주의노동청년동맹                             NaN\n",
       "222          삼석구역장수원협동농장                             NaN\n",
       "225           순천비날론연합기업소                             NaN\n",
       "228           승리자동차연합기업소                             NaN\n",
       "230                 신창탄광                             NaN\n",
       "232              신포수산사업소                             NaN\n",
       "236           양강도임업연합기업소                             NaN\n",
       "238            용성기계연합기업소                             NaN\n",
       "240               용성식료공장                             NaN\n",
       "244          원산철도차량연합기업소                             NaN\n",
       "256                  정무원                      양강도행정경제위원회\n",
       "257                  정무원                      양강도행정경제위원회\n",
       "259                  정무원                      자강도행정경제위원회\n",
       "261                  정무원                     평안남도행정경제위원회\n",
       "262                  정무원                     평안남도행정경제위원회\n",
       "263                  정무원                     평안남도행정경제위원회\n",
       "264                  정무원                     평안남도행정경제위원회\n",
       "265                  정무원                     평안남도행정경제위원회\n",
       "268                  정무원                     함경남도행정경제위원회\n",
       "270                  정무원          함경남도행정경제위원회_함흥시행정경제위원회\n",
       "273                  정무원          함경북도행정경제위원회_명천군행정경제위원회\n",
       "275                  정무원                     황해남도행정경제위원회\n",
       "277                  정무원                     황해북도행정경제위원회\n",
       "281           조국통일민주주의전선                           중앙위원회\n",
       "282           조국통일민주주의전선                           중앙위원회\n",
       "283           조국통일민주주의전선                           중앙위원회\n",
       "284           조국통일민주주의전선                           중앙위원회\n",
       "286           조국통일민주주의전선                             NaN\n",
       "287           조국통일민주주의전선                             NaN\n",
       "289        조국통일범민족연합북측본부                           중앙위원회\n",
       "290        조국통일범민족연합북측본부                           중앙위원회\n",
       "292        조국통일범민족연합북측본부                             NaN\n",
       "293        조국통일범민족연합북측본부                             NaN\n",
       "294        조국통일범민족연합북측본부                             NaN\n",
       "295        조국통일범민족연합북측본부                             NaN\n",
       "296        조국통일범민족연합북측본부                             NaN\n",
       "297        조국통일범민족연합북측본부                             NaN\n",
       "298        조국통일범민족연합북측본부                             NaN\n",
       "299        조국통일범민족연합북측본부                             NaN\n",
       "305            조선국제합영총회사                             NaN\n",
       "306            조선국제합영총회사                             NaN\n",
       "307            조선국제합영총회사                             NaN\n",
       "309        조선김일성화김정일화위원회                             NaN\n",
       "312               조선무역은행                           프랑스지점\n",
       "317          조선반제투사노병위원회                             NaN\n",
       "325        조선천도교회중앙지도위원회                             NaN\n",
       "326        조선천도교회중앙지도위원회                             NaN\n",
       "329        조선평화옹호전국민족위원회                             NaN\n",
       "332          조선해외동포원호위원회                             국제국\n",
       "334              조선혁명박물관                             NaN\n",
       "337  종군위안부및태평양전쟁피해자대책위원회                             NaN\n",
       "339             중앙보안간부학교                             NaN\n",
       "342               직동청년탄광                             NaN\n",
       "346                 총참모부                         경보교도지도국\n",
       "349                 총참모부                             NaN\n",
       "350                 총참모부                             NaN\n",
       "351                 총참모부                             NaN\n",
       "352                 총참모부                             NaN\n",
       "353                 총참모부                             NaN\n",
       "356               최고인민회의                      대의원자격심사위원회\n",
       "357               최고인민회의                      대의원자격심사위원회\n",
       "358               최고인민회의                      대의원자격심사위원회\n",
       "359               최고인민회의                      대의원자격심사위원회\n",
       "360               최고인민회의                      대의원자격심사위원회\n",
       "364               최고인민회의                         자격심사위원회\n",
       "365               최고인민회의                         자격심사위원회\n",
       "366               최고인민회의                         자격심사위원회\n",
       "367               최고인민회의                         자격심사위원회\n",
       "370               최고인민회의                         중앙선거위원회\n",
       "371               최고인민회의                         중앙선거위원회\n",
       "372               최고인민회의                         중앙선거위원회\n",
       "373               최고인민회의                         중앙선거위원회\n",
       "375               최고인민회의                       중앙선거지도위원회\n",
       "376               최고인민회의                       중앙선거지도위원회\n",
       "377               최고인민회의                       중앙선거지도위원회\n",
       "378               최고인민회의                       중앙선거지도위원회\n",
       "380               최고인민회의                       통일정책심의위원회\n",
       "381               최고인민회의                       통일정책심의위원회\n",
       "383               최고인민회의                         통일정책위원회\n",
       "388             평양만경대예술단                             섭외부\n",
       "391             평양탄광기계공장                             NaN\n",
       "397            황해제철연합기업소                             NaN\n",
       "399               후방군관학교                             NaN\n",
       "401             희천정밀기계공장                             NaN"
      ]
     },
     "execution_count": 76,
     "metadata": {},
     "output_type": "execute_result"
    }
   ],
   "source": [
    "# Check 2 & 3: Duplicate keys\n",
    "jol_left1_process[jol_left1_process.duplicated()]"
   ]
  },
  {
   "cell_type": "code",
   "execution_count": 77,
   "metadata": {},
   "outputs": [
    {
     "data": {
      "text/plain": [
       "(256, 2)"
      ]
     },
     "execution_count": 77,
     "metadata": {},
     "output_type": "execute_result"
    }
   ],
   "source": [
    "jol_left1_process = jol_left1_process.drop_duplicates()\n",
    "jol_left1_process.shape"
   ]
  },
  {
   "cell_type": "code",
   "execution_count": 78,
   "metadata": {},
   "outputs": [
    {
     "data": {
      "text/html": [
       "<div>\n",
       "<style scoped>\n",
       "    .dataframe tbody tr th:only-of-type {\n",
       "        vertical-align: middle;\n",
       "    }\n",
       "\n",
       "    .dataframe tbody tr th {\n",
       "        vertical-align: top;\n",
       "    }\n",
       "\n",
       "    .dataframe thead th {\n",
       "        text-align: right;\n",
       "    }\n",
       "</style>\n",
       "<table border=\"1\" class=\"dataframe\">\n",
       "  <thead>\n",
       "    <tr style=\"text-align: right;\">\n",
       "      <th></th>\n",
       "      <th>PrimaryInstitution</th>\n",
       "      <th>OrgName</th>\n",
       "    </tr>\n",
       "  </thead>\n",
       "  <tbody>\n",
       "  </tbody>\n",
       "</table>\n",
       "</div>"
      ],
      "text/plain": [
       "Empty DataFrame\n",
       "Columns: [PrimaryInstitution, OrgName]\n",
       "Index: []"
      ]
     },
     "execution_count": 78,
     "metadata": {},
     "output_type": "execute_result"
    }
   ],
   "source": [
    "jol_left1_process[jol_left1_process.duplicated()]"
   ]
  },
  {
   "cell_type": "markdown",
   "metadata": {},
   "source": [
    "# left1: update orgtree using joborglink_left1"
   ]
  },
  {
   "cell_type": "code",
   "execution_count": 79,
   "metadata": {},
   "outputs": [
    {
     "data": {
      "text/html": [
       "<div>\n",
       "<style scoped>\n",
       "    .dataframe tbody tr th:only-of-type {\n",
       "        vertical-align: middle;\n",
       "    }\n",
       "\n",
       "    .dataframe tbody tr th {\n",
       "        vertical-align: top;\n",
       "    }\n",
       "\n",
       "    .dataframe thead th {\n",
       "        text-align: right;\n",
       "    }\n",
       "</style>\n",
       "<table border=\"1\" class=\"dataframe\">\n",
       "  <thead>\n",
       "    <tr style=\"text-align: right;\">\n",
       "      <th></th>\n",
       "      <th>DuplicateKey</th>\n",
       "      <th>InsideGov</th>\n",
       "      <th>PrimaryInstitution</th>\n",
       "      <th>OrgName</th>\n",
       "      <th>ImmediateSuperiorOrg</th>\n",
       "      <th>SupervisesParent</th>\n",
       "      <th>LinkToCurrent_PrimaryInstitution</th>\n",
       "      <th>LinkToCurrent_OrgName</th>\n",
       "      <th>비고</th>\n",
       "    </tr>\n",
       "  </thead>\n",
       "  <tbody>\n",
       "    <tr>\n",
       "      <th>0</th>\n",
       "      <td>False</td>\n",
       "      <td>False</td>\n",
       "      <td>6.15공동선언실천남북공동위원회북측위원회</td>\n",
       "      <td>교직원분과</td>\n",
       "      <td>NaN</td>\n",
       "      <td>NaN</td>\n",
       "      <td>Current</td>\n",
       "      <td>Current</td>\n",
       "      <td>NaN</td>\n",
       "    </tr>\n",
       "    <tr>\n",
       "      <th>1</th>\n",
       "      <td>False</td>\n",
       "      <td>False</td>\n",
       "      <td>6.15공동선언실천남북공동위원회북측위원회</td>\n",
       "      <td>노동자분과</td>\n",
       "      <td>NaN</td>\n",
       "      <td>NaN</td>\n",
       "      <td>Current</td>\n",
       "      <td>Current</td>\n",
       "      <td>NaN</td>\n",
       "    </tr>\n",
       "  </tbody>\n",
       "</table>\n",
       "</div>"
      ],
      "text/plain": [
       "   DuplicateKey  InsideGov      PrimaryInstitution OrgName  \\\n",
       "0         False      False  6.15공동선언실천남북공동위원회북측위원회   교직원분과   \n",
       "1         False      False  6.15공동선언실천남북공동위원회북측위원회   노동자분과   \n",
       "\n",
       "  ImmediateSuperiorOrg  SupervisesParent LinkToCurrent_PrimaryInstitution  \\\n",
       "0                  NaN               NaN                          Current   \n",
       "1                  NaN               NaN                          Current   \n",
       "\n",
       "  LinkToCurrent_OrgName   비고  \n",
       "0               Current  NaN  \n",
       "1               Current  NaN  "
      ]
     },
     "execution_count": 79,
     "metadata": {},
     "output_type": "execute_result"
    }
   ],
   "source": [
    "orgtree[0:2]"
   ]
  },
  {
   "cell_type": "code",
   "execution_count": 80,
   "metadata": {},
   "outputs": [
    {
     "data": {
      "text/plain": [
       "(0, 9)"
      ]
     },
     "execution_count": 80,
     "metadata": {},
     "output_type": "execute_result"
    }
   ],
   "source": [
    "# these weren't cleaned up from the merge with joborglink_right\n",
    "orgtree[orgtree.duplicated()].shape"
   ]
  },
  {
   "cell_type": "code",
   "execution_count": 81,
   "metadata": {},
   "outputs": [
    {
     "data": {
      "text/plain": [
       "(1011, 9)"
      ]
     },
     "execution_count": 81,
     "metadata": {},
     "output_type": "execute_result"
    }
   ],
   "source": [
    "orgtree.shape"
   ]
  },
  {
   "cell_type": "code",
   "execution_count": 82,
   "metadata": {},
   "outputs": [
    {
     "data": {
      "text/plain": [
       "256"
      ]
     },
     "execution_count": 82,
     "metadata": {},
     "output_type": "execute_result"
    }
   ],
   "source": [
    "jol_left1_process.shape[0]"
   ]
  },
  {
   "cell_type": "code",
   "execution_count": 83,
   "metadata": {},
   "outputs": [
    {
     "data": {
      "text/plain": [
       "1267"
      ]
     },
     "execution_count": 83,
     "metadata": {},
     "output_type": "execute_result"
    }
   ],
   "source": [
    "# an outer join of the non-overlapping tables should simply add their two rows\n",
    "orgtree.shape[0] + jol_left1_process.shape[0]"
   ]
  },
  {
   "cell_type": "code",
   "execution_count": 84,
   "metadata": {},
   "outputs": [],
   "source": [
    "# merge and update\n",
    "merged = orgtree.merge(jol_left1_process,how=\"outer\",on=[\"PrimaryInstitution\",\"OrgName\"],suffixes=(\"\",\"_y\"),indicator=True)"
   ]
  },
  {
   "cell_type": "code",
   "execution_count": 85,
   "metadata": {},
   "outputs": [
    {
     "data": {
      "text/plain": [
       "(1265, 10)"
      ]
     },
     "execution_count": 85,
     "metadata": {},
     "output_type": "execute_result"
    }
   ],
   "source": [
    "# merged rows > orgtree rows\n",
    "merged.shape"
   ]
  },
  {
   "cell_type": "code",
   "execution_count": 86,
   "metadata": {},
   "outputs": [
    {
     "data": {
      "text/plain": [
       "['left_only', 'both', 'right_only']\n",
       "Categories (3, object): ['left_only', 'right_only', 'both']"
      ]
     },
     "execution_count": 86,
     "metadata": {},
     "output_type": "execute_result"
    }
   ],
   "source": [
    "merged[\"_merge\"].unique()"
   ]
  },
  {
   "cell_type": "code",
   "execution_count": 87,
   "metadata": {},
   "outputs": [
    {
     "data": {
      "text/plain": [
       "(1008, 10)"
      ]
     },
     "execution_count": 87,
     "metadata": {},
     "output_type": "execute_result"
    }
   ],
   "source": [
    "merged[merged[\"_merge\"]==\"left_only\"].shape"
   ]
  },
  {
   "cell_type": "code",
   "execution_count": 88,
   "metadata": {},
   "outputs": [
    {
     "data": {
      "text/plain": [
       "(254, 10)"
      ]
     },
     "execution_count": 88,
     "metadata": {},
     "output_type": "execute_result"
    }
   ],
   "source": [
    "merged[merged[\"_merge\"]==\"right_only\"].shape"
   ]
  },
  {
   "cell_type": "code",
   "execution_count": 89,
   "metadata": {},
   "outputs": [
    {
     "data": {
      "text/html": [
       "<div>\n",
       "<style scoped>\n",
       "    .dataframe tbody tr th:only-of-type {\n",
       "        vertical-align: middle;\n",
       "    }\n",
       "\n",
       "    .dataframe tbody tr th {\n",
       "        vertical-align: top;\n",
       "    }\n",
       "\n",
       "    .dataframe thead th {\n",
       "        text-align: right;\n",
       "    }\n",
       "</style>\n",
       "<table border=\"1\" class=\"dataframe\">\n",
       "  <thead>\n",
       "    <tr style=\"text-align: right;\">\n",
       "      <th></th>\n",
       "      <th>DuplicateKey</th>\n",
       "      <th>InsideGov</th>\n",
       "      <th>PrimaryInstitution</th>\n",
       "      <th>OrgName</th>\n",
       "      <th>ImmediateSuperiorOrg</th>\n",
       "      <th>SupervisesParent</th>\n",
       "      <th>LinkToCurrent_PrimaryInstitution</th>\n",
       "      <th>LinkToCurrent_OrgName</th>\n",
       "      <th>비고</th>\n",
       "      <th>_merge</th>\n",
       "    </tr>\n",
       "  </thead>\n",
       "  <tbody>\n",
       "    <tr>\n",
       "      <th>1011</th>\n",
       "      <td>NaN</td>\n",
       "      <td>NaN</td>\n",
       "      <td>4.15문화창작단</td>\n",
       "      <td>NaN</td>\n",
       "      <td>NaN</td>\n",
       "      <td>NaN</td>\n",
       "      <td>NaN</td>\n",
       "      <td>NaN</td>\n",
       "      <td>NaN</td>\n",
       "      <td>right_only</td>\n",
       "    </tr>\n",
       "    <tr>\n",
       "      <th>1012</th>\n",
       "      <td>NaN</td>\n",
       "      <td>NaN</td>\n",
       "      <td>강건종합군관학교</td>\n",
       "      <td>NaN</td>\n",
       "      <td>NaN</td>\n",
       "      <td>NaN</td>\n",
       "      <td>NaN</td>\n",
       "      <td>NaN</td>\n",
       "      <td>NaN</td>\n",
       "      <td>right_only</td>\n",
       "    </tr>\n",
       "    <tr>\n",
       "      <th>1013</th>\n",
       "      <td>NaN</td>\n",
       "      <td>NaN</td>\n",
       "      <td>강계고려약공장</td>\n",
       "      <td>NaN</td>\n",
       "      <td>NaN</td>\n",
       "      <td>NaN</td>\n",
       "      <td>NaN</td>\n",
       "      <td>NaN</td>\n",
       "      <td>NaN</td>\n",
       "      <td>right_only</td>\n",
       "    </tr>\n",
       "    <tr>\n",
       "      <th>1014</th>\n",
       "      <td>NaN</td>\n",
       "      <td>NaN</td>\n",
       "      <td>강동지구탄광연합기업소</td>\n",
       "      <td>NaN</td>\n",
       "      <td>NaN</td>\n",
       "      <td>NaN</td>\n",
       "      <td>NaN</td>\n",
       "      <td>NaN</td>\n",
       "      <td>NaN</td>\n",
       "      <td>right_only</td>\n",
       "    </tr>\n",
       "    <tr>\n",
       "      <th>1015</th>\n",
       "      <td>NaN</td>\n",
       "      <td>NaN</td>\n",
       "      <td>강서구역청산엽동농장</td>\n",
       "      <td>NaN</td>\n",
       "      <td>NaN</td>\n",
       "      <td>NaN</td>\n",
       "      <td>NaN</td>\n",
       "      <td>NaN</td>\n",
       "      <td>NaN</td>\n",
       "      <td>right_only</td>\n",
       "    </tr>\n",
       "  </tbody>\n",
       "</table>\n",
       "</div>"
      ],
      "text/plain": [
       "     DuplicateKey InsideGov PrimaryInstitution OrgName ImmediateSuperiorOrg  \\\n",
       "1011          NaN       NaN          4.15문화창작단     NaN                  NaN   \n",
       "1012          NaN       NaN           강건종합군관학교     NaN                  NaN   \n",
       "1013          NaN       NaN            강계고려약공장     NaN                  NaN   \n",
       "1014          NaN       NaN        강동지구탄광연합기업소     NaN                  NaN   \n",
       "1015          NaN       NaN         강서구역청산엽동농장     NaN                  NaN   \n",
       "\n",
       "      SupervisesParent LinkToCurrent_PrimaryInstitution LinkToCurrent_OrgName  \\\n",
       "1011               NaN                              NaN                   NaN   \n",
       "1012               NaN                              NaN                   NaN   \n",
       "1013               NaN                              NaN                   NaN   \n",
       "1014               NaN                              NaN                   NaN   \n",
       "1015               NaN                              NaN                   NaN   \n",
       "\n",
       "       비고      _merge  \n",
       "1011  NaN  right_only  \n",
       "1012  NaN  right_only  \n",
       "1013  NaN  right_only  \n",
       "1014  NaN  right_only  \n",
       "1015  NaN  right_only  "
      ]
     },
     "execution_count": 89,
     "metadata": {},
     "output_type": "execute_result"
    }
   ],
   "source": [
    "merged[merged[\"_merge\"]==\"right_only\"][0:5]"
   ]
  },
  {
   "cell_type": "code",
   "execution_count": 90,
   "metadata": {},
   "outputs": [
    {
     "data": {
      "text/plain": [
       "(3, 10)"
      ]
     },
     "execution_count": 90,
     "metadata": {},
     "output_type": "execute_result"
    }
   ],
   "source": [
    "merged[merged[\"_merge\"]==\"both\"].shape"
   ]
  },
  {
   "cell_type": "code",
   "execution_count": 91,
   "metadata": {},
   "outputs": [
    {
     "data": {
      "text/html": [
       "<div>\n",
       "<style scoped>\n",
       "    .dataframe tbody tr th:only-of-type {\n",
       "        vertical-align: middle;\n",
       "    }\n",
       "\n",
       "    .dataframe tbody tr th {\n",
       "        vertical-align: top;\n",
       "    }\n",
       "\n",
       "    .dataframe thead th {\n",
       "        text-align: right;\n",
       "    }\n",
       "</style>\n",
       "<table border=\"1\" class=\"dataframe\">\n",
       "  <thead>\n",
       "    <tr style=\"text-align: right;\">\n",
       "      <th></th>\n",
       "      <th>DuplicateKey</th>\n",
       "      <th>InsideGov</th>\n",
       "      <th>PrimaryInstitution</th>\n",
       "      <th>OrgName</th>\n",
       "      <th>ImmediateSuperiorOrg</th>\n",
       "      <th>SupervisesParent</th>\n",
       "      <th>LinkToCurrent_PrimaryInstitution</th>\n",
       "      <th>LinkToCurrent_OrgName</th>\n",
       "      <th>비고</th>\n",
       "      <th>_merge</th>\n",
       "    </tr>\n",
       "  </thead>\n",
       "  <tbody>\n",
       "    <tr>\n",
       "      <th>632</th>\n",
       "      <td>False</td>\n",
       "      <td>True</td>\n",
       "      <td>총참모부</td>\n",
       "      <td>NaN</td>\n",
       "      <td>NaN</td>\n",
       "      <td>NaN</td>\n",
       "      <td>Current</td>\n",
       "      <td>Current</td>\n",
       "      <td>NaN</td>\n",
       "      <td>both</td>\n",
       "    </tr>\n",
       "    <tr>\n",
       "      <th>799</th>\n",
       "      <td>True</td>\n",
       "      <td>True</td>\n",
       "      <td>총참모부</td>\n",
       "      <td>작전총국_보도처_판문점대표부</td>\n",
       "      <td>NaN</td>\n",
       "      <td>NaN</td>\n",
       "      <td>Current</td>\n",
       "      <td>Current</td>\n",
       "      <td>NaN</td>\n",
       "      <td>both</td>\n",
       "    </tr>\n",
       "    <tr>\n",
       "      <th>800</th>\n",
       "      <td>True</td>\n",
       "      <td>True</td>\n",
       "      <td>총참모부</td>\n",
       "      <td>작전총국_보도처_판문점대표부</td>\n",
       "      <td>인민군</td>\n",
       "      <td>NaN</td>\n",
       "      <td>Current</td>\n",
       "      <td>Current</td>\n",
       "      <td>NaN</td>\n",
       "      <td>both</td>\n",
       "    </tr>\n",
       "  </tbody>\n",
       "</table>\n",
       "</div>"
      ],
      "text/plain": [
       "    DuplicateKey InsideGov PrimaryInstitution          OrgName  \\\n",
       "632        False      True               총참모부              NaN   \n",
       "799         True      True               총참모부  작전총국_보도처_판문점대표부   \n",
       "800         True      True               총참모부  작전총국_보도처_판문점대표부   \n",
       "\n",
       "    ImmediateSuperiorOrg  SupervisesParent LinkToCurrent_PrimaryInstitution  \\\n",
       "632                  NaN               NaN                          Current   \n",
       "799                  NaN               NaN                          Current   \n",
       "800                  인민군               NaN                          Current   \n",
       "\n",
       "    LinkToCurrent_OrgName   비고 _merge  \n",
       "632               Current  NaN   both  \n",
       "799               Current  NaN   both  \n",
       "800               Current  NaN   both  "
      ]
     },
     "execution_count": 91,
     "metadata": {},
     "output_type": "execute_result"
    }
   ],
   "source": [
    "merged[merged[\"_merge\"]==\"both\"]"
   ]
  },
  {
   "cell_type": "code",
   "execution_count": 92,
   "metadata": {},
   "outputs": [
    {
     "data": {
      "text/plain": [
       "(0, 10)"
      ]
     },
     "execution_count": 92,
     "metadata": {},
     "output_type": "execute_result"
    }
   ],
   "source": [
    "# verify no duplicates overall\n",
    "merged[merged.duplicated()].shape"
   ]
  },
  {
   "cell_type": "code",
   "execution_count": 93,
   "metadata": {},
   "outputs": [
    {
     "data": {
      "text/plain": [
       "(155, 10)"
      ]
     },
     "execution_count": 93,
     "metadata": {},
     "output_type": "execute_result"
    }
   ],
   "source": [
    "# verify # of duplicate keys is the same as after updating with right: 155\n",
    "merged.loc[merged.duplicated([\"PrimaryInstitution\",\"OrgName\"],keep=False)].shape"
   ]
  },
  {
   "cell_type": "code",
   "execution_count": 94,
   "metadata": {},
   "outputs": [],
   "source": [
    "# update DuplicateKey=False for new additions, _merged == \"right\"\n",
    "merged.loc[merged[\"_merge\"]==\"right\",\"DuplicateKey\"]=False"
   ]
  },
  {
   "cell_type": "code",
   "execution_count": 95,
   "metadata": {},
   "outputs": [
    {
     "data": {
      "text/html": [
       "<div>\n",
       "<style scoped>\n",
       "    .dataframe tbody tr th:only-of-type {\n",
       "        vertical-align: middle;\n",
       "    }\n",
       "\n",
       "    .dataframe tbody tr th {\n",
       "        vertical-align: top;\n",
       "    }\n",
       "\n",
       "    .dataframe thead th {\n",
       "        text-align: right;\n",
       "    }\n",
       "</style>\n",
       "<table border=\"1\" class=\"dataframe\">\n",
       "  <thead>\n",
       "    <tr style=\"text-align: right;\">\n",
       "      <th></th>\n",
       "      <th>DuplicateKey</th>\n",
       "      <th>InsideGov</th>\n",
       "      <th>PrimaryInstitution</th>\n",
       "      <th>OrgName</th>\n",
       "      <th>ImmediateSuperiorOrg</th>\n",
       "      <th>SupervisesParent</th>\n",
       "      <th>LinkToCurrent_PrimaryInstitution</th>\n",
       "      <th>LinkToCurrent_OrgName</th>\n",
       "      <th>비고</th>\n",
       "    </tr>\n",
       "  </thead>\n",
       "  <tbody>\n",
       "    <tr>\n",
       "      <th>0</th>\n",
       "      <td>False</td>\n",
       "      <td>False</td>\n",
       "      <td>6.15공동선언실천남북공동위원회북측위원회</td>\n",
       "      <td>교직원분과</td>\n",
       "      <td>NaN</td>\n",
       "      <td>NaN</td>\n",
       "      <td>Current</td>\n",
       "      <td>Current</td>\n",
       "      <td>NaN</td>\n",
       "    </tr>\n",
       "    <tr>\n",
       "      <th>1</th>\n",
       "      <td>False</td>\n",
       "      <td>False</td>\n",
       "      <td>6.15공동선언실천남북공동위원회북측위원회</td>\n",
       "      <td>노동자분과</td>\n",
       "      <td>NaN</td>\n",
       "      <td>NaN</td>\n",
       "      <td>Current</td>\n",
       "      <td>Current</td>\n",
       "      <td>NaN</td>\n",
       "    </tr>\n",
       "  </tbody>\n",
       "</table>\n",
       "</div>"
      ],
      "text/plain": [
       "  DuplicateKey InsideGov      PrimaryInstitution OrgName ImmediateSuperiorOrg  \\\n",
       "0        False     False  6.15공동선언실천남북공동위원회북측위원회   교직원분과                  NaN   \n",
       "1        False     False  6.15공동선언실천남북공동위원회북측위원회   노동자분과                  NaN   \n",
       "\n",
       "   SupervisesParent LinkToCurrent_PrimaryInstitution LinkToCurrent_OrgName  \\\n",
       "0               NaN                          Current               Current   \n",
       "1               NaN                          Current               Current   \n",
       "\n",
       "    비고  \n",
       "0  NaN  \n",
       "1  NaN  "
      ]
     },
     "execution_count": 95,
     "metadata": {},
     "output_type": "execute_result"
    }
   ],
   "source": [
    "# select orgtree_columns\n",
    "orgtree = merged[orgtree_columns]\n",
    "orgtree[0:2]"
   ]
  },
  {
   "cell_type": "markdown",
   "metadata": {},
   "source": [
    "# left2: prep joborglink_left2"
   ]
  },
  {
   "cell_type": "code",
   "execution_count": 96,
   "metadata": {},
   "outputs": [
    {
     "data": {
      "text/plain": [
       "(374, 13)"
      ]
     },
     "execution_count": 96,
     "metadata": {},
     "output_type": "execute_result"
    }
   ],
   "source": [
    "# joborglink_dtypes = {\"OrgString\":\"str\",\"_merged\":\"str\",\"InOrgTree\":\"str\",\"InsideGov\":\"str\",\"PrimaryInstitution\":\"str\",\"OrgName\":\"str\",\"Orgtree_NeedToModify_PI\":\"str\",\"Orgtree_NeedToModify_Orgname\":\"str\",\"LinkToCurrent_PrimaryInstitution\":\"str\",\"LinkToCurrent_OrgName\":\"str\",\"Modify_LinkToCurrent_PrimaryInstitution\":\"str\",\"Modify_LinkToCurrent_OrgName\":\"str\",\"비고\":\"str\"}\n",
    "# joborglink = pd.read_excel(path_joborglink+filein_joborglink_right,dtype=joborglink_dtypes)\n",
    "joborglink_left2 = pd.read_excel(path_joborglink+filein_joborglink_left2)\n",
    "joborglink_left2.shape"
   ]
  },
  {
   "cell_type": "code",
   "execution_count": 97,
   "metadata": {},
   "outputs": [],
   "source": [
    "# list(joborglink_dtypes.keys())"
   ]
  },
  {
   "cell_type": "code",
   "execution_count": 98,
   "metadata": {},
   "outputs": [
    {
     "data": {
      "text/plain": [
       "Index(['OrgString', 'Notes', '_merge', 'InOrgTree', 'NeedToChange',\n",
       "       'InsideGov', 'InOrgTree_PI', 'InOrgTree_Orgname', 'PrimaryInstitution',\n",
       "       'OrgName', 'LinkToCurrent_PI', 'LinkToCurrent_OrgName', '비고'],\n",
       "      dtype='object')"
      ]
     },
     "execution_count": 98,
     "metadata": {},
     "output_type": "execute_result"
    }
   ],
   "source": [
    "joborglink_left2.columns"
   ]
  },
  {
   "cell_type": "code",
   "execution_count": 99,
   "metadata": {},
   "outputs": [
    {
     "data": {
      "text/plain": [
       "(238, 13)"
      ]
     },
     "execution_count": 99,
     "metadata": {},
     "output_type": "execute_result"
    }
   ],
   "source": [
    "jol_left2_add = joborglink_left2[joborglink_left2[\"NeedToChange\"]==\"Add\"]\n",
    "jol_left2_add.shape"
   ]
  },
  {
   "cell_type": "code",
   "execution_count": 100,
   "metadata": {},
   "outputs": [],
   "source": [
    "columns_add = [\"PrimaryInstitution\",\"OrgName\",\"LinkToCurrent_PI\",\"LinkToCurrent_OrgName\"]"
   ]
  },
  {
   "cell_type": "code",
   "execution_count": 101,
   "metadata": {},
   "outputs": [],
   "source": [
    "jol_left2_add = jol_left2_add[columns_add]"
   ]
  },
  {
   "cell_type": "code",
   "execution_count": 102,
   "metadata": {},
   "outputs": [
    {
     "data": {
      "text/plain": [
       "(238, 4)"
      ]
     },
     "execution_count": 102,
     "metadata": {},
     "output_type": "execute_result"
    }
   ],
   "source": [
    "# Check 1: NAs\n",
    "jol_left2_add.dropna()\n",
    "jol_left2_add.shape"
   ]
  },
  {
   "cell_type": "code",
   "execution_count": 103,
   "metadata": {},
   "outputs": [
    {
     "data": {
      "text/plain": [
       "(89, 4)"
      ]
     },
     "execution_count": 103,
     "metadata": {},
     "output_type": "execute_result"
    }
   ],
   "source": [
    "# Check 2: duplicate rows\n",
    "jol_left2_add[jol_left2_add.duplicated()].shape"
   ]
  },
  {
   "cell_type": "code",
   "execution_count": 104,
   "metadata": {},
   "outputs": [
    {
     "data": {
      "text/plain": [
       "(149, 4)"
      ]
     },
     "execution_count": 104,
     "metadata": {},
     "output_type": "execute_result"
    }
   ],
   "source": [
    "jol_left2_add = jol_left2_add.drop_duplicates()\n",
    "jol_left2_add.shape"
   ]
  },
  {
   "cell_type": "code",
   "execution_count": 105,
   "metadata": {},
   "outputs": [
    {
     "data": {
      "text/plain": [
       "(0, 4)"
      ]
     },
     "execution_count": 105,
     "metadata": {},
     "output_type": "execute_result"
    }
   ],
   "source": [
    "# Check 3: duplicate keys\n",
    "jol_left2_add[jol_left2_add.duplicated([\"PrimaryInstitution\",\"OrgName\"])].shape"
   ]
  },
  {
   "cell_type": "code",
   "execution_count": 106,
   "metadata": {},
   "outputs": [
    {
     "data": {
      "text/html": [
       "<div>\n",
       "<style scoped>\n",
       "    .dataframe tbody tr th:only-of-type {\n",
       "        vertical-align: middle;\n",
       "    }\n",
       "\n",
       "    .dataframe tbody tr th {\n",
       "        vertical-align: top;\n",
       "    }\n",
       "\n",
       "    .dataframe thead th {\n",
       "        text-align: right;\n",
       "    }\n",
       "</style>\n",
       "<table border=\"1\" class=\"dataframe\">\n",
       "  <thead>\n",
       "    <tr style=\"text-align: right;\">\n",
       "      <th></th>\n",
       "      <th>PrimaryInstitution</th>\n",
       "      <th>OrgName</th>\n",
       "      <th>LinkToCurrent_PI</th>\n",
       "      <th>LinkToCurrent_OrgName</th>\n",
       "    </tr>\n",
       "  </thead>\n",
       "  <tbody>\n",
       "  </tbody>\n",
       "</table>\n",
       "</div>"
      ],
      "text/plain": [
       "Empty DataFrame\n",
       "Columns: [PrimaryInstitution, OrgName, LinkToCurrent_PI, LinkToCurrent_OrgName]\n",
       "Index: []"
      ]
     },
     "execution_count": 106,
     "metadata": {},
     "output_type": "execute_result"
    }
   ],
   "source": [
    "jol_left2_add[jol_left2_add.duplicated([\"PrimaryInstitution\",\"OrgName\"],keep=False)]"
   ]
  },
  {
   "cell_type": "code",
   "execution_count": 107,
   "metadata": {},
   "outputs": [
    {
     "data": {
      "text/plain": [
       "(121, 13)"
      ]
     },
     "execution_count": 107,
     "metadata": {},
     "output_type": "execute_result"
    }
   ],
   "source": [
    "jol_left2_change = joborglink_left2[joborglink_left2[\"NeedToChange\"]==\"Change\"]\n",
    "jol_left2_change.shape"
   ]
  },
  {
   "cell_type": "code",
   "execution_count": 108,
   "metadata": {},
   "outputs": [],
   "source": [
    "columns_change = ['InOrgTree_PI', 'InOrgTree_Orgname',\n",
    "                  'PrimaryInstitution','OrgName',\n",
    "                  'LinkToCurrent_PI','LinkToCurrent_OrgName'\n",
    "                 ]"
   ]
  },
  {
   "cell_type": "code",
   "execution_count": 109,
   "metadata": {},
   "outputs": [
    {
     "data": {
      "text/plain": [
       "(121, 6)"
      ]
     },
     "execution_count": 109,
     "metadata": {},
     "output_type": "execute_result"
    }
   ],
   "source": [
    "jol_left2_change = jol_left2_change[columns_change]\n",
    "jol_left2_change.shape"
   ]
  },
  {
   "cell_type": "code",
   "execution_count": 110,
   "metadata": {},
   "outputs": [
    {
     "data": {
      "text/plain": [
       "(121, 6)"
      ]
     },
     "execution_count": 110,
     "metadata": {},
     "output_type": "execute_result"
    }
   ],
   "source": [
    "# Check 1: NAs\n",
    "jol_left2_change.dropna()\n",
    "jol_left2_change.shape"
   ]
  },
  {
   "cell_type": "code",
   "execution_count": 111,
   "metadata": {},
   "outputs": [
    {
     "data": {
      "text/plain": [
       "(55, 6)"
      ]
     },
     "execution_count": 111,
     "metadata": {},
     "output_type": "execute_result"
    }
   ],
   "source": [
    "# Check 2: duplicate rows\n",
    "jol_left2_change[jol_left2_change.duplicated()].shape"
   ]
  },
  {
   "cell_type": "code",
   "execution_count": 112,
   "metadata": {},
   "outputs": [
    {
     "data": {
      "text/plain": [
       "(66, 6)"
      ]
     },
     "execution_count": 112,
     "metadata": {},
     "output_type": "execute_result"
    }
   ],
   "source": [
    "jol_left2_change = jol_left2_change.drop_duplicates()\n",
    "jol_left2_change.shape"
   ]
  },
  {
   "cell_type": "code",
   "execution_count": 113,
   "metadata": {},
   "outputs": [
    {
     "data": {
      "text/plain": [
       "(0, 6)"
      ]
     },
     "execution_count": 113,
     "metadata": {},
     "output_type": "execute_result"
    }
   ],
   "source": [
    "# Check 3: duplicate keys\n",
    "jol_left2_change[jol_left2_change.duplicated(['InOrgTree_PI','InOrgTree_Orgname',\"PrimaryInstitution\",\"OrgName\"])].shape"
   ]
  },
  {
   "cell_type": "code",
   "execution_count": null,
   "metadata": {},
   "outputs": [],
   "source": []
  },
  {
   "cell_type": "markdown",
   "metadata": {},
   "source": [
    "# left2: update orgtree using joborglink_left2_add"
   ]
  },
  {
   "cell_type": "code",
   "execution_count": 114,
   "metadata": {},
   "outputs": [
    {
     "data": {
      "text/plain": [
       "(1265, 9)"
      ]
     },
     "execution_count": 114,
     "metadata": {},
     "output_type": "execute_result"
    }
   ],
   "source": [
    "# orgtree\n",
    "orgtree.shape"
   ]
  },
  {
   "cell_type": "code",
   "execution_count": 115,
   "metadata": {},
   "outputs": [
    {
     "data": {
      "text/plain": [
       "Index(['DuplicateKey', 'InsideGov', 'PrimaryInstitution', 'OrgName',\n",
       "       'ImmediateSuperiorOrg', 'SupervisesParent',\n",
       "       'LinkToCurrent_PrimaryInstitution', 'LinkToCurrent_OrgName', '비고'],\n",
       "      dtype='object')"
      ]
     },
     "execution_count": 115,
     "metadata": {},
     "output_type": "execute_result"
    }
   ],
   "source": [
    "orgtree.columns"
   ]
  },
  {
   "cell_type": "code",
   "execution_count": 116,
   "metadata": {},
   "outputs": [
    {
     "data": {
      "text/plain": [
       "(149, 4)"
      ]
     },
     "execution_count": 116,
     "metadata": {},
     "output_type": "execute_result"
    }
   ],
   "source": [
    "# jol_left2_add\n",
    "jol_left2_add.shape"
   ]
  },
  {
   "cell_type": "code",
   "execution_count": 117,
   "metadata": {},
   "outputs": [
    {
     "data": {
      "text/plain": [
       "Index(['PrimaryInstitution', 'OrgName', 'LinkToCurrent_PI',\n",
       "       'LinkToCurrent_OrgName'],\n",
       "      dtype='object')"
      ]
     },
     "execution_count": 117,
     "metadata": {},
     "output_type": "execute_result"
    }
   ],
   "source": [
    "jol_left2_add.columns"
   ]
  },
  {
   "cell_type": "code",
   "execution_count": 118,
   "metadata": {},
   "outputs": [
    {
     "data": {
      "text/plain": [
       "Index(['PrimaryInstitution', 'OrgName', 'LinkToCurrent_PrimaryInstitution',\n",
       "       'LinkToCurrent_OrgName'],\n",
       "      dtype='object')"
      ]
     },
     "execution_count": 118,
     "metadata": {},
     "output_type": "execute_result"
    }
   ],
   "source": [
    "jol_left2_add.columns = jol_left2_add.columns = ['PrimaryInstitution','OrgName','LinkToCurrent_PrimaryInstitution','LinkToCurrent_OrgName']\n",
    "jol_left2_add.columns"
   ]
  },
  {
   "cell_type": "code",
   "execution_count": 119,
   "metadata": {},
   "outputs": [],
   "source": [
    "# outer join orgtree & jol_left2_add\n",
    "merged = orgtree.merge(jol_left2_add,how=\"outer\",on=list(jol_left2_add.columns),indicator=True)"
   ]
  },
  {
   "cell_type": "code",
   "execution_count": 120,
   "metadata": {},
   "outputs": [
    {
     "data": {
      "text/plain": [
       "1414"
      ]
     },
     "execution_count": 120,
     "metadata": {},
     "output_type": "execute_result"
    }
   ],
   "source": [
    "orgtree.shape[0] + jol_left2_add.shape[0]"
   ]
  },
  {
   "cell_type": "code",
   "execution_count": 121,
   "metadata": {},
   "outputs": [
    {
     "data": {
      "text/plain": [
       "(1396, 10)"
      ]
     },
     "execution_count": 121,
     "metadata": {},
     "output_type": "execute_result"
    }
   ],
   "source": [
    "merged.shape"
   ]
  },
  {
   "cell_type": "code",
   "execution_count": 122,
   "metadata": {},
   "outputs": [
    {
     "data": {
      "text/plain": [
       "['left_only', 'both', 'right_only']\n",
       "Categories (3, object): ['left_only', 'right_only', 'both']"
      ]
     },
     "execution_count": 122,
     "metadata": {},
     "output_type": "execute_result"
    }
   ],
   "source": [
    "merged[\"_merge\"].unique()"
   ]
  },
  {
   "cell_type": "code",
   "execution_count": 123,
   "metadata": {},
   "outputs": [
    {
     "data": {
      "text/plain": [
       "(1246, 10)"
      ]
     },
     "execution_count": 123,
     "metadata": {},
     "output_type": "execute_result"
    }
   ],
   "source": [
    "merged[merged[\"_merge\"]==\"left_only\"].shape"
   ]
  },
  {
   "cell_type": "code",
   "execution_count": 124,
   "metadata": {},
   "outputs": [
    {
     "data": {
      "text/plain": [
       "(131, 10)"
      ]
     },
     "execution_count": 124,
     "metadata": {},
     "output_type": "execute_result"
    }
   ],
   "source": [
    "merged[merged[\"_merge\"]==\"right_only\"].shape"
   ]
  },
  {
   "cell_type": "code",
   "execution_count": 125,
   "metadata": {},
   "outputs": [
    {
     "data": {
      "text/plain": [
       "(19, 10)"
      ]
     },
     "execution_count": 125,
     "metadata": {},
     "output_type": "execute_result"
    }
   ],
   "source": [
    "merged[merged[\"_merge\"]==\"both\"].shape"
   ]
  },
  {
   "cell_type": "code",
   "execution_count": 126,
   "metadata": {},
   "outputs": [
    {
     "data": {
      "text/plain": [
       "(1396, 10)"
      ]
     },
     "execution_count": 126,
     "metadata": {},
     "output_type": "execute_result"
    }
   ],
   "source": [
    "# Check 1: NAs\n",
    "merged.dropna()\n",
    "merged.shape"
   ]
  },
  {
   "cell_type": "code",
   "execution_count": 127,
   "metadata": {},
   "outputs": [
    {
     "data": {
      "text/plain": [
       "(0, 10)"
      ]
     },
     "execution_count": 127,
     "metadata": {},
     "output_type": "execute_result"
    }
   ],
   "source": [
    "# Check 2: duplicate rows\n",
    "merged[merged.duplicated()].shape"
   ]
  },
  {
   "cell_type": "code",
   "execution_count": 128,
   "metadata": {},
   "outputs": [
    {
     "data": {
      "text/plain": [
       "(111, 10)"
      ]
     },
     "execution_count": 128,
     "metadata": {},
     "output_type": "execute_result"
    }
   ],
   "source": [
    "# Check 3: duplicate keys\n",
    "merged[merged.duplicated([\"PrimaryInstitution\",\"OrgName\"])].shape"
   ]
  },
  {
   "cell_type": "code",
   "execution_count": 129,
   "metadata": {},
   "outputs": [
    {
     "data": {
      "text/plain": [
       "(191, 10)"
      ]
     },
     "execution_count": 129,
     "metadata": {},
     "output_type": "execute_result"
    }
   ],
   "source": [
    "# reset DuplicateKey\n",
    "merged[\"DuplicateKey\"]=False\n",
    "merged.loc[merged.duplicated([\"PrimaryInstitution\",\"OrgName\"],keep=False),\"DuplicateKey\"]=True\n",
    "merged[merged.DuplicateKey==True].shape"
   ]
  },
  {
   "cell_type": "code",
   "execution_count": 130,
   "metadata": {},
   "outputs": [
    {
     "data": {
      "text/plain": [
       "(1396, 9)"
      ]
     },
     "execution_count": 130,
     "metadata": {},
     "output_type": "execute_result"
    }
   ],
   "source": [
    "orgtree = merged[orgtree.columns]\n",
    "orgtree.shape"
   ]
  },
  {
   "cell_type": "code",
   "execution_count": null,
   "metadata": {},
   "outputs": [],
   "source": []
  },
  {
   "cell_type": "markdown",
   "metadata": {},
   "source": [
    "# left2: update orgtree using joborglink_left2_change"
   ]
  },
  {
   "cell_type": "code",
   "execution_count": 131,
   "metadata": {},
   "outputs": [
    {
     "data": {
      "text/plain": [
       "(1396, 9)"
      ]
     },
     "execution_count": 131,
     "metadata": {},
     "output_type": "execute_result"
    }
   ],
   "source": [
    "# orgtree\n",
    "orgtree.shape"
   ]
  },
  {
   "cell_type": "code",
   "execution_count": 132,
   "metadata": {},
   "outputs": [
    {
     "data": {
      "text/plain": [
       "Index(['DuplicateKey', 'InsideGov', 'PrimaryInstitution', 'OrgName',\n",
       "       'ImmediateSuperiorOrg', 'SupervisesParent',\n",
       "       'LinkToCurrent_PrimaryInstitution', 'LinkToCurrent_OrgName', '비고'],\n",
       "      dtype='object')"
      ]
     },
     "execution_count": 132,
     "metadata": {},
     "output_type": "execute_result"
    }
   ],
   "source": [
    "orgtree.columns"
   ]
  },
  {
   "cell_type": "code",
   "execution_count": 133,
   "metadata": {},
   "outputs": [
    {
     "data": {
      "text/plain": [
       "(66, 6)"
      ]
     },
     "execution_count": 133,
     "metadata": {},
     "output_type": "execute_result"
    }
   ],
   "source": [
    "# jol_left2_change\n",
    "jol_left2_change.shape"
   ]
  },
  {
   "cell_type": "code",
   "execution_count": 134,
   "metadata": {},
   "outputs": [
    {
     "data": {
      "text/plain": [
       "Index(['InOrgTree_PI', 'InOrgTree_Orgname', 'PrimaryInstitution', 'OrgName',\n",
       "       'LinkToCurrent_PI', 'LinkToCurrent_OrgName'],\n",
       "      dtype='object')"
      ]
     },
     "execution_count": 134,
     "metadata": {},
     "output_type": "execute_result"
    }
   ],
   "source": [
    "jol_left2_change.columns"
   ]
  },
  {
   "cell_type": "code",
   "execution_count": 135,
   "metadata": {},
   "outputs": [
    {
     "data": {
      "text/plain": [
       "Index(['InOrgTree_PI', 'InOrgTree_Orgname', 'PrimaryInstitution', 'OrgName',\n",
       "       'LinkToCurrent_PrimaryInstitution', 'LinkToCurrent_OrgName'],\n",
       "      dtype='object')"
      ]
     },
     "execution_count": 135,
     "metadata": {},
     "output_type": "execute_result"
    }
   ],
   "source": [
    "jol_left2_change.columns = ['InOrgTree_PI', 'InOrgTree_Orgname','PrimaryInstitution','OrgName','LinkToCurrent_PrimaryInstitution','LinkToCurrent_OrgName']\n",
    "jol_left2_change.columns"
   ]
  },
  {
   "cell_type": "code",
   "execution_count": 136,
   "metadata": {},
   "outputs": [],
   "source": [
    "# inner join orgtree & jol_left2_change\n",
    "merged = orgtree.merge(jol_left2_change,how=\"outer\",\n",
    "                       left_on=[\"PrimaryInstitution\",\"OrgName\"],\n",
    "                       right_on=['InOrgTree_PI','InOrgTree_Orgname'],\n",
    "                       suffixes = [\"\",\"_y\"],\n",
    "                       indicator=True)"
   ]
  },
  {
   "cell_type": "code",
   "execution_count": 137,
   "metadata": {},
   "outputs": [
    {
     "data": {
      "text/plain": [
       "1462"
      ]
     },
     "execution_count": 137,
     "metadata": {},
     "output_type": "execute_result"
    }
   ],
   "source": [
    "orgtree.shape[0] + jol_left2_change.shape[0]"
   ]
  },
  {
   "cell_type": "code",
   "execution_count": 138,
   "metadata": {},
   "outputs": [
    {
     "data": {
      "text/plain": [
       "(1436, 16)"
      ]
     },
     "execution_count": 138,
     "metadata": {},
     "output_type": "execute_result"
    }
   ],
   "source": [
    "merged.shape"
   ]
  },
  {
   "cell_type": "code",
   "execution_count": 139,
   "metadata": {},
   "outputs": [
    {
     "data": {
      "text/plain": [
       "['left_only', 'both', 'right_only']\n",
       "Categories (3, object): ['left_only', 'right_only', 'both']"
      ]
     },
     "execution_count": 139,
     "metadata": {},
     "output_type": "execute_result"
    }
   ],
   "source": [
    "merged[\"_merge\"].unique()"
   ]
  },
  {
   "cell_type": "code",
   "execution_count": 140,
   "metadata": {},
   "outputs": [
    {
     "data": {
      "text/plain": [
       "(1368, 16)"
      ]
     },
     "execution_count": 140,
     "metadata": {},
     "output_type": "execute_result"
    }
   ],
   "source": [
    "merged[merged[\"_merge\"]==\"left_only\"].shape"
   ]
  },
  {
   "cell_type": "code",
   "execution_count": 141,
   "metadata": {},
   "outputs": [
    {
     "data": {
      "text/plain": [
       "(28, 16)"
      ]
     },
     "execution_count": 141,
     "metadata": {},
     "output_type": "execute_result"
    }
   ],
   "source": [
    "merged[merged[\"_merge\"]==\"both\"].shape"
   ]
  },
  {
   "cell_type": "code",
   "execution_count": 142,
   "metadata": {},
   "outputs": [
    {
     "data": {
      "text/plain": [
       "(40, 16)"
      ]
     },
     "execution_count": 142,
     "metadata": {},
     "output_type": "execute_result"
    }
   ],
   "source": [
    "# 0 right_only confirms that all jol_left2_change keys are contained in orgtree keys\n",
    "merged[merged[\"_merge\"]==\"right_only\"].shape"
   ]
  },
  {
   "cell_type": "code",
   "execution_count": 143,
   "metadata": {},
   "outputs": [
    {
     "data": {
      "text/html": [
       "<div>\n",
       "<style scoped>\n",
       "    .dataframe tbody tr th:only-of-type {\n",
       "        vertical-align: middle;\n",
       "    }\n",
       "\n",
       "    .dataframe tbody tr th {\n",
       "        vertical-align: top;\n",
       "    }\n",
       "\n",
       "    .dataframe thead th {\n",
       "        text-align: right;\n",
       "    }\n",
       "</style>\n",
       "<table border=\"1\" class=\"dataframe\">\n",
       "  <thead>\n",
       "    <tr style=\"text-align: right;\">\n",
       "      <th></th>\n",
       "      <th>DuplicateKey</th>\n",
       "      <th>InsideGov</th>\n",
       "      <th>PrimaryInstitution</th>\n",
       "      <th>OrgName</th>\n",
       "      <th>ImmediateSuperiorOrg</th>\n",
       "      <th>SupervisesParent</th>\n",
       "      <th>LinkToCurrent_PrimaryInstitution</th>\n",
       "      <th>LinkToCurrent_OrgName</th>\n",
       "      <th>비고</th>\n",
       "      <th>InOrgTree_PI</th>\n",
       "      <th>InOrgTree_Orgname</th>\n",
       "      <th>PrimaryInstitution_y</th>\n",
       "      <th>OrgName_y</th>\n",
       "      <th>LinkToCurrent_PrimaryInstitution_y</th>\n",
       "      <th>LinkToCurrent_OrgName_y</th>\n",
       "      <th>_merge</th>\n",
       "    </tr>\n",
       "  </thead>\n",
       "  <tbody>\n",
       "    <tr>\n",
       "      <th>1396</th>\n",
       "      <td>NaN</td>\n",
       "      <td>NaN</td>\n",
       "      <td>NaN</td>\n",
       "      <td>NaN</td>\n",
       "      <td>NaN</td>\n",
       "      <td>NaN</td>\n",
       "      <td>NaN</td>\n",
       "      <td>NaN</td>\n",
       "      <td>NaN</td>\n",
       "      <td>인민군총참모부</td>\n",
       "      <td>반항공군사령부</td>\n",
       "      <td>총참모부</td>\n",
       "      <td>작전총국_제6처</td>\n",
       "      <td>Current</td>\n",
       "      <td>Current</td>\n",
       "      <td>right_only</td>\n",
       "    </tr>\n",
       "  </tbody>\n",
       "</table>\n",
       "</div>"
      ],
      "text/plain": [
       "     DuplicateKey InsideGov PrimaryInstitution OrgName ImmediateSuperiorOrg  \\\n",
       "1396          NaN       NaN                NaN     NaN                  NaN   \n",
       "\n",
       "      SupervisesParent LinkToCurrent_PrimaryInstitution LinkToCurrent_OrgName  \\\n",
       "1396               NaN                              NaN                   NaN   \n",
       "\n",
       "       비고 InOrgTree_PI InOrgTree_Orgname PrimaryInstitution_y OrgName_y  \\\n",
       "1396  NaN      인민군총참모부           반항공군사령부                 총참모부  작전총국_제6처   \n",
       "\n",
       "     LinkToCurrent_PrimaryInstitution_y LinkToCurrent_OrgName_y      _merge  \n",
       "1396                            Current                 Current  right_only  "
      ]
     },
     "execution_count": 143,
     "metadata": {},
     "output_type": "execute_result"
    }
   ],
   "source": [
    "# if _merge == right_only > 0\n",
    "    # export _merge==\"right_only\"\n",
    "    # compare these to orgtree\n",
    "    # edit jol_left2_change accordingly\n",
    "merged[merged[\"_merge\"]==\"right_only\"][0:1]\n",
    "#merged[merged[\"_merge\"]==\"right_only\"].to_excel(\"jol_left2_change_rightonly.xlsx\",index=False)"
   ]
  },
  {
   "cell_type": "code",
   "execution_count": 144,
   "metadata": {},
   "outputs": [],
   "source": [
    "# confirm that  _merge == right_only keys [\"InOrgTree_Orgname\",\"InOrgTree_Orgname\"]\n",
    "# are all contained in \n",
    "# filein_joborglink_right = \"joborglink_6_1_inorgtree_right_tocode_1_jeongsu.xlsx\" keys [\"PrimaryInstitution\",\"OrgName\"]\n",
    "\n",
    "# ignore those which are contained in joborglink_6_1_inorgtree_right_tocode_1_jeongsu\n",
    "# they have already been processed\n",
    "\n",
    "# those which are not contained in joborglink_6_1_inorgtree_right_tocode_1_jeongsu\n",
    "# should be confirmed in orgtree\n",
    "# and edited in joborglink_6_1_left_2_tocode_jeongsu_x keys, [\"InOrgTree_Orgname\",\"InOrgTree_Orgname\"]\n"
   ]
  },
  {
   "cell_type": "code",
   "execution_count": 145,
   "metadata": {},
   "outputs": [
    {
     "data": {
      "text/plain": [
       "(40, 16)"
      ]
     },
     "execution_count": 145,
     "metadata": {},
     "output_type": "execute_result"
    }
   ],
   "source": [
    "merged_right = merged[merged[\"_merge\"]==\"right_only\"]\n",
    "merged_right.shape"
   ]
  },
  {
   "cell_type": "code",
   "execution_count": 146,
   "metadata": {},
   "outputs": [
    {
     "data": {
      "text/plain": [
       "Index(['DuplicateKey', 'InsideGov', 'PrimaryInstitution', 'OrgName',\n",
       "       'ImmediateSuperiorOrg', 'SupervisesParent',\n",
       "       'LinkToCurrent_PrimaryInstitution', 'LinkToCurrent_OrgName', '비고',\n",
       "       'InOrgTree_PI', 'InOrgTree_Orgname', 'PrimaryInstitution_y',\n",
       "       'OrgName_y', 'LinkToCurrent_PrimaryInstitution_y',\n",
       "       'LinkToCurrent_OrgName_y', '_merge'],\n",
       "      dtype='object')"
      ]
     },
     "execution_count": 146,
     "metadata": {},
     "output_type": "execute_result"
    }
   ],
   "source": [
    "merged_right.columns"
   ]
  },
  {
   "cell_type": "code",
   "execution_count": 147,
   "metadata": {},
   "outputs": [
    {
     "data": {
      "text/plain": [
       "(843, 14)"
      ]
     },
     "execution_count": 147,
     "metadata": {},
     "output_type": "execute_result"
    }
   ],
   "source": [
    "joborglink_right.shape"
   ]
  },
  {
   "cell_type": "code",
   "execution_count": 148,
   "metadata": {},
   "outputs": [
    {
     "data": {
      "text/plain": [
       "Index(['OrgString', 'Notes', '_merged', 'InOrgTree', 'InsideGov',\n",
       "       'PrimaryInstitution', 'OrgName', 'Orgtree_NeedToModify_PI',\n",
       "       'Orgtree_NeedToModify_Orgname', 'LinkToCurrent_PrimaryInstitution',\n",
       "       'LinkToCurrent_OrgName', 'Modify_LinkToCurrent_PrimaryInstitution',\n",
       "       'Modify_LinkToCurrent_OrgName', '비고'],\n",
       "      dtype='object')"
      ]
     },
     "execution_count": 148,
     "metadata": {},
     "output_type": "execute_result"
    }
   ],
   "source": [
    "joborglink_right.columns"
   ]
  },
  {
   "cell_type": "code",
   "execution_count": 149,
   "metadata": {},
   "outputs": [],
   "source": [
    "right_right = joborglink_right[[\"PrimaryInstitution\",\"OrgName\"]].merge(\n",
    "    merged_right[[\"InOrgTree_PI\",\"InOrgTree_Orgname\"]],\n",
    "    how=\"outer\",\n",
    "    left_on=[\"PrimaryInstitution\",\"OrgName\"],\n",
    "    right_on=[\"InOrgTree_PI\",\"InOrgTree_Orgname\"],\n",
    "    indicator=True)"
   ]
  },
  {
   "cell_type": "code",
   "execution_count": 150,
   "metadata": {},
   "outputs": [
    {
     "data": {
      "text/plain": [
       "(844, 5)"
      ]
     },
     "execution_count": 150,
     "metadata": {},
     "output_type": "execute_result"
    }
   ],
   "source": [
    "right_right.shape"
   ]
  },
  {
   "cell_type": "code",
   "execution_count": 151,
   "metadata": {},
   "outputs": [
    {
     "data": {
      "text/plain": [
       "(40, 5)"
      ]
     },
     "execution_count": 151,
     "metadata": {},
     "output_type": "execute_result"
    }
   ],
   "source": [
    "# confirmed\n",
    "# _merge == right_only keys [\"InOrgTree_Orgname\",\"InOrgTree_Orgname\"]\n",
    "#    are all contained in \n",
    "# filein_joborglink_right = \"joborglink_6_1_inorgtree_right_tocode_1_jeongsu.xlsx\" keys [\"PrimaryInstitution\",\"OrgName\"]\n",
    "\n",
    "right_right[right_right[\"_merge\"]==\"both\"].shape"
   ]
  },
  {
   "cell_type": "code",
   "execution_count": 152,
   "metadata": {},
   "outputs": [
    {
     "data": {
      "text/plain": [
       "(28, 16)"
      ]
     },
     "execution_count": 152,
     "metadata": {},
     "output_type": "execute_result"
    }
   ],
   "source": [
    "# update data for \"both\"\n",
    "merged[merged[\"_merge\"]==\"both\"].shape"
   ]
  },
  {
   "cell_type": "code",
   "execution_count": null,
   "metadata": {},
   "outputs": [],
   "source": []
  },
  {
   "cell_type": "code",
   "execution_count": 153,
   "metadata": {},
   "outputs": [],
   "source": [
    "# replace PrimaryInstitution\n",
    "merged.loc[merged[\"_merge\"]==\"both\",\"PrimaryInstitution\"] = merged.loc[merged[\"_merge\"]==\"both\",\"PrimaryInstitution_y\"]"
   ]
  },
  {
   "cell_type": "code",
   "execution_count": 154,
   "metadata": {},
   "outputs": [],
   "source": [
    "# replace OrgName\n",
    "merged.loc[merged[\"_merge\"]==\"both\",\"OrgName\"] = merged.loc[merged[\"_merge\"]==\"both\",\"OrgName_y\"]"
   ]
  },
  {
   "cell_type": "code",
   "execution_count": 155,
   "metadata": {},
   "outputs": [],
   "source": [
    "# replace LinkToCurrent_PrimaryInstitution\n",
    "merged.loc[merged[\"_merge\"]==\"both\",\"LinkToCurrent_PrimaryInstitution\"] = merged.loc[merged[\"_merge\"]==\"both\",\"LinkToCurrent_PrimaryInstitution_y\"]"
   ]
  },
  {
   "cell_type": "code",
   "execution_count": 156,
   "metadata": {},
   "outputs": [],
   "source": [
    "# replace LinkToCurrent_OrgName\n",
    "merged.loc[merged[\"_merge\"]==\"both\",\"LinkToCurrent_OrgName\"] = merged.loc[merged[\"_merge\"]==\"both\",\"LinkToCurrent_OrgName_y\"]"
   ]
  },
  {
   "cell_type": "code",
   "execution_count": null,
   "metadata": {},
   "outputs": [],
   "source": []
  },
  {
   "cell_type": "code",
   "execution_count": 157,
   "metadata": {},
   "outputs": [
    {
     "data": {
      "text/plain": [
       "(1436, 16)"
      ]
     },
     "execution_count": 157,
     "metadata": {},
     "output_type": "execute_result"
    }
   ],
   "source": [
    "# Check 1: NAs\n",
    "merged.dropna()\n",
    "merged.shape"
   ]
  },
  {
   "cell_type": "code",
   "execution_count": 158,
   "metadata": {},
   "outputs": [
    {
     "data": {
      "text/plain": [
       "(0, 16)"
      ]
     },
     "execution_count": 158,
     "metadata": {},
     "output_type": "execute_result"
    }
   ],
   "source": [
    "# Check 2: duplicate rows\n",
    "merged[merged.duplicated()].shape"
   ]
  },
  {
   "cell_type": "code",
   "execution_count": 159,
   "metadata": {},
   "outputs": [
    {
     "data": {
      "text/plain": [
       "(168, 16)"
      ]
     },
     "execution_count": 159,
     "metadata": {},
     "output_type": "execute_result"
    }
   ],
   "source": [
    "# Check 3: duplicate keys\n",
    "merged[merged.duplicated([\"PrimaryInstitution\",\"OrgName\"])].shape"
   ]
  },
  {
   "cell_type": "code",
   "execution_count": 160,
   "metadata": {},
   "outputs": [
    {
     "data": {
      "text/plain": [
       "(262, 16)"
      ]
     },
     "execution_count": 160,
     "metadata": {},
     "output_type": "execute_result"
    }
   ],
   "source": [
    "# reset DuplicateKey\n",
    "merged[\"DuplicateKey\"]=False\n",
    "merged.loc[merged.duplicated([\"PrimaryInstitution\",\"OrgName\"],keep=False),\"DuplicateKey\"]=True\n",
    "merged[merged.DuplicateKey==True].shape"
   ]
  },
  {
   "cell_type": "code",
   "execution_count": 161,
   "metadata": {},
   "outputs": [
    {
     "data": {
      "text/plain": [
       "(1436, 9)"
      ]
     },
     "execution_count": 161,
     "metadata": {},
     "output_type": "execute_result"
    }
   ],
   "source": [
    "orgtree = merged[orgtree.columns]\n",
    "orgtree.shape"
   ]
  },
  {
   "cell_type": "code",
   "execution_count": 162,
   "metadata": {},
   "outputs": [
    {
     "data": {
      "text/plain": [
       "Index(['DuplicateKey', 'InsideGov', 'PrimaryInstitution', 'OrgName',\n",
       "       'ImmediateSuperiorOrg', 'SupervisesParent',\n",
       "       'LinkToCurrent_PrimaryInstitution', 'LinkToCurrent_OrgName', '비고'],\n",
       "      dtype='object')"
      ]
     },
     "execution_count": 162,
     "metadata": {},
     "output_type": "execute_result"
    }
   ],
   "source": [
    "orgtree.columns"
   ]
  },
  {
   "cell_type": "code",
   "execution_count": null,
   "metadata": {},
   "outputs": [],
   "source": []
  },
  {
   "cell_type": "code",
   "execution_count": null,
   "metadata": {},
   "outputs": [],
   "source": []
  },
  {
   "cell_type": "markdown",
   "metadata": {},
   "source": [
    "# left2: update joborglink using joborglink_left2"
   ]
  },
  {
   "cell_type": "code",
   "execution_count": null,
   "metadata": {},
   "outputs": [],
   "source": []
  },
  {
   "cell_type": "code",
   "execution_count": null,
   "metadata": {},
   "outputs": [],
   "source": []
  },
  {
   "cell_type": "markdown",
   "metadata": {},
   "source": [
    "# both: prep joborglink_both"
   ]
  },
  {
   "cell_type": "code",
   "execution_count": 184,
   "metadata": {},
   "outputs": [
    {
     "data": {
      "text/plain": [
       "(831, 17)"
      ]
     },
     "execution_count": 184,
     "metadata": {},
     "output_type": "execute_result"
    }
   ],
   "source": [
    "# joborglink_dtypes = {\"OrgString\":\"str\",\"_merged\":\"str\",\"InOrgTree\":\"str\",\"InsideGov\":\"str\",\"PrimaryInstitution\":\"str\",\"OrgName\":\"str\",\"Orgtree_NeedToModify_PI\":\"str\",\"Orgtree_NeedToModify_Orgname\":\"str\",\"LinkToCurrent_PrimaryInstitution\":\"str\",\"LinkToCurrent_OrgName\":\"str\",\"Modify_LinkToCurrent_PrimaryInstitution\":\"str\",\"Modify_LinkToCurrent_OrgName\":\"str\",\"비고\":\"str\"}\n",
    "# joborglink = pd.read_excel(path_joborglink+filein_joborglink_right,dtype=joborglink_dtypes)\n",
    "joborglink_both = pd.read_excel(path_joborglink+filein_joborglink_both)\n",
    "joborglink_both.shape"
   ]
  },
  {
   "cell_type": "code",
   "execution_count": 185,
   "metadata": {},
   "outputs": [],
   "source": [
    "# list(joborglink_dtypes.keys())"
   ]
  },
  {
   "cell_type": "code",
   "execution_count": 186,
   "metadata": {},
   "outputs": [
    {
     "data": {
      "text/plain": [
       "Index(['OrgString', 'Notes', '_merged', 'InOrgTree', 'InsideGov',\n",
       "       'PrimaryInstitution', 'OrgName', 'LinkToCurrent_PrimaryInstitution',\n",
       "       'LinkToCurrent_OrgName', 'Change_joborglink_PI',\n",
       "       'Change_joborglink_OrgName', 'Change_joborglink_Link_PI',\n",
       "       'Change_joborglink_Link_OrgName', 'ChangeOrgTree', 'OrgTree_PI',\n",
       "       'OrgTree_OrgName', '비고'],\n",
       "      dtype='object')"
      ]
     },
     "execution_count": 186,
     "metadata": {},
     "output_type": "execute_result"
    }
   ],
   "source": [
    "joborglink_both.columns"
   ]
  },
  {
   "cell_type": "code",
   "execution_count": 187,
   "metadata": {},
   "outputs": [],
   "source": [
    "# update PrimaryInstitution', 'OrgName', 'LinkToCurrent_PrimaryInstitution', 'LinkToCurrent_OrgName\n",
    "# with 'Change_joborglink_PI','Change_joborglink_OrgName', 'Change_joborglink_Link_PI','Change_joborglink_Link_OrgName'\n"
   ]
  },
  {
   "cell_type": "code",
   "execution_count": 188,
   "metadata": {},
   "outputs": [
    {
     "data": {
      "text/plain": [
       "(279, 17)"
      ]
     },
     "execution_count": 188,
     "metadata": {},
     "output_type": "execute_result"
    }
   ],
   "source": [
    "joborglink_both[joborglink_both[\"Change_joborglink_PI\"].notna()].shape"
   ]
  },
  {
   "cell_type": "code",
   "execution_count": 189,
   "metadata": {},
   "outputs": [
    {
     "data": {
      "text/plain": [
       "(242, 17)"
      ]
     },
     "execution_count": 189,
     "metadata": {},
     "output_type": "execute_result"
    }
   ],
   "source": [
    "joborglink_both[joborglink_both[\"Change_joborglink_OrgName\"].notna()].shape"
   ]
  },
  {
   "cell_type": "code",
   "execution_count": 190,
   "metadata": {},
   "outputs": [
    {
     "data": {
      "text/plain": [
       "(221, 17)"
      ]
     },
     "execution_count": 190,
     "metadata": {},
     "output_type": "execute_result"
    }
   ],
   "source": [
    "joborglink_both[joborglink_both[\"Change_joborglink_Link_PI\"].notna()].shape"
   ]
  },
  {
   "cell_type": "code",
   "execution_count": 191,
   "metadata": {},
   "outputs": [
    {
     "data": {
      "text/plain": [
       "(220, 17)"
      ]
     },
     "execution_count": 191,
     "metadata": {},
     "output_type": "execute_result"
    }
   ],
   "source": [
    "joborglink_both[joborglink_both[\"Change_joborglink_Link_OrgName\"].notna()].shape"
   ]
  },
  {
   "cell_type": "code",
   "execution_count": null,
   "metadata": {},
   "outputs": [],
   "source": []
  },
  {
   "cell_type": "code",
   "execution_count": 192,
   "metadata": {},
   "outputs": [],
   "source": [
    "joborglink_both.loc[joborglink_both[\"Change_joborglink_PI\"].notna(),\"PrimaryInstitution\"] = joborglink_both.loc[joborglink_both[\"Change_joborglink_PI\"].notna(),\"Change_joborglink_PI\"]"
   ]
  },
  {
   "cell_type": "code",
   "execution_count": 193,
   "metadata": {},
   "outputs": [],
   "source": [
    "joborglink_both.loc[joborglink_both[\"Change_joborglink_OrgName\"].notna(),\"OrgName\"] = joborglink_both.loc[joborglink_both[\"Change_joborglink_OrgName\"].notna(),\"Change_joborglink_OrgName\"]"
   ]
  },
  {
   "cell_type": "code",
   "execution_count": 194,
   "metadata": {},
   "outputs": [],
   "source": [
    "joborglink_both.loc[joborglink_both[\"Change_joborglink_Link_PI\"].notna(),\"LinkToCurrent_PrimaryInstitution\"] = joborglink_both.loc[joborglink_both[\"Change_joborglink_Link_PI\"].notna(),\"Change_joborglink_Link_PI\"]"
   ]
  },
  {
   "cell_type": "code",
   "execution_count": 195,
   "metadata": {},
   "outputs": [],
   "source": [
    "joborglink_both.loc[joborglink_both[\"Change_joborglink_Link_OrgName\"].notna(),\"LinkToCurrent_OrgName\"] = joborglink_both.loc[joborglink_both[\"Change_joborglink_Link_OrgName\"].notna(),\"Change_joborglink_Link_OrgName\"]"
   ]
  },
  {
   "cell_type": "code",
   "execution_count": 196,
   "metadata": {},
   "outputs": [
    {
     "data": {
      "text/plain": [
       "(831, 17)"
      ]
     },
     "execution_count": 196,
     "metadata": {},
     "output_type": "execute_result"
    }
   ],
   "source": [
    "joborglink_both.shape"
   ]
  },
  {
   "cell_type": "code",
   "execution_count": 197,
   "metadata": {},
   "outputs": [],
   "source": [
    "# joborglink_both"
   ]
  },
  {
   "cell_type": "code",
   "execution_count": null,
   "metadata": {},
   "outputs": [],
   "source": []
  },
  {
   "cell_type": "markdown",
   "metadata": {},
   "source": [
    "# both: add to orgtree from joborglink_both"
   ]
  },
  {
   "cell_type": "code",
   "execution_count": 240,
   "metadata": {},
   "outputs": [
    {
     "data": {
      "text/plain": [
       "Index(['OrgString', 'Notes', '_merged', 'InOrgTree', 'InsideGov',\n",
       "       'PrimaryInstitution', 'OrgName', 'LinkToCurrent_PrimaryInstitution',\n",
       "       'LinkToCurrent_OrgName', 'Change_joborglink_PI',\n",
       "       'Change_joborglink_OrgName', 'Change_joborglink_Link_PI',\n",
       "       'Change_joborglink_Link_OrgName', 'ChangeOrgTree', 'OrgTree_PI',\n",
       "       'OrgTree_OrgName', '비고'],\n",
       "      dtype='object')"
      ]
     },
     "execution_count": 240,
     "metadata": {},
     "output_type": "execute_result"
    }
   ],
   "source": [
    "joborglink_both.columns"
   ]
  },
  {
   "cell_type": "code",
   "execution_count": 241,
   "metadata": {},
   "outputs": [
    {
     "data": {
      "text/plain": [
       "(47, 17)"
      ]
     },
     "execution_count": 241,
     "metadata": {},
     "output_type": "execute_result"
    }
   ],
   "source": [
    "jol_both_add = joborglink_both[joborglink_both.ChangeOrgTree==\"Add\"]\n",
    "jol_both_add.shape"
   ]
  },
  {
   "cell_type": "code",
   "execution_count": 242,
   "metadata": {},
   "outputs": [],
   "source": [
    "columns_add = ['PrimaryInstitution','OrgName','LinkToCurrent_PrimaryInstitution','LinkToCurrent_OrgName']"
   ]
  },
  {
   "cell_type": "code",
   "execution_count": 243,
   "metadata": {},
   "outputs": [
    {
     "data": {
      "text/plain": [
       "(47, 4)"
      ]
     },
     "execution_count": 243,
     "metadata": {},
     "output_type": "execute_result"
    }
   ],
   "source": [
    "jol_both_add = jol_both_add[columns_add]\n",
    "jol_both_add.shape"
   ]
  },
  {
   "cell_type": "code",
   "execution_count": 244,
   "metadata": {},
   "outputs": [
    {
     "data": {
      "text/plain": [
       "(47, 4)"
      ]
     },
     "execution_count": 244,
     "metadata": {},
     "output_type": "execute_result"
    }
   ],
   "source": [
    "# Check 1: NAs\n",
    "jol_both_add.dropna()\n",
    "jol_both_add.shape"
   ]
  },
  {
   "cell_type": "code",
   "execution_count": 245,
   "metadata": {},
   "outputs": [
    {
     "data": {
      "text/plain": [
       "(23, 4)"
      ]
     },
     "execution_count": 245,
     "metadata": {},
     "output_type": "execute_result"
    }
   ],
   "source": [
    "# Check 2: duplicate rows\n",
    "jol_both_add[jol_both_add.duplicated()].shape"
   ]
  },
  {
   "cell_type": "code",
   "execution_count": 246,
   "metadata": {},
   "outputs": [
    {
     "data": {
      "text/plain": [
       "(24, 4)"
      ]
     },
     "execution_count": 246,
     "metadata": {},
     "output_type": "execute_result"
    }
   ],
   "source": [
    "jol_both_add = jol_both_add.drop_duplicates()\n",
    "jol_both_add.shape"
   ]
  },
  {
   "cell_type": "code",
   "execution_count": 247,
   "metadata": {},
   "outputs": [
    {
     "data": {
      "text/plain": [
       "(0, 4)"
      ]
     },
     "execution_count": 247,
     "metadata": {},
     "output_type": "execute_result"
    }
   ],
   "source": [
    "# Check 3: duplicate keys\n",
    "jol_both_add[jol_both_add.duplicated([\"PrimaryInstitution\",\"OrgName\"],keep=False)].shape"
   ]
  },
  {
   "cell_type": "code",
   "execution_count": 248,
   "metadata": {
    "scrolled": true
   },
   "outputs": [
    {
     "data": {
      "text/html": [
       "<div>\n",
       "<style scoped>\n",
       "    .dataframe tbody tr th:only-of-type {\n",
       "        vertical-align: middle;\n",
       "    }\n",
       "\n",
       "    .dataframe tbody tr th {\n",
       "        vertical-align: top;\n",
       "    }\n",
       "\n",
       "    .dataframe thead th {\n",
       "        text-align: right;\n",
       "    }\n",
       "</style>\n",
       "<table border=\"1\" class=\"dataframe\">\n",
       "  <thead>\n",
       "    <tr style=\"text-align: right;\">\n",
       "      <th></th>\n",
       "      <th>PrimaryInstitution</th>\n",
       "      <th>OrgName</th>\n",
       "      <th>LinkToCurrent_PrimaryInstitution</th>\n",
       "      <th>LinkToCurrent_OrgName</th>\n",
       "    </tr>\n",
       "  </thead>\n",
       "  <tbody>\n",
       "  </tbody>\n",
       "</table>\n",
       "</div>"
      ],
      "text/plain": [
       "Empty DataFrame\n",
       "Columns: [PrimaryInstitution, OrgName, LinkToCurrent_PrimaryInstitution, LinkToCurrent_OrgName]\n",
       "Index: []"
      ]
     },
     "execution_count": 248,
     "metadata": {},
     "output_type": "execute_result"
    }
   ],
   "source": [
    "jol_both_add[jol_both_add.duplicated([\"PrimaryInstitution\",\"OrgName\"],keep=False)]"
   ]
  },
  {
   "cell_type": "code",
   "execution_count": null,
   "metadata": {},
   "outputs": [],
   "source": []
  },
  {
   "cell_type": "code",
   "execution_count": 249,
   "metadata": {},
   "outputs": [],
   "source": [
    "# merge orgtree with jol_both_add\n",
    "merge = orgtree.merge(jol_both_add,how=\"outer\",on=[\"PrimaryInstitution\",\"OrgName\"],suffixes=[\"\",\"_y\"],indicator=True)"
   ]
  },
  {
   "cell_type": "code",
   "execution_count": 250,
   "metadata": {},
   "outputs": [
    {
     "data": {
      "text/plain": [
       "1436"
      ]
     },
     "execution_count": 250,
     "metadata": {},
     "output_type": "execute_result"
    }
   ],
   "source": [
    "orgtree.shape[0]"
   ]
  },
  {
   "cell_type": "code",
   "execution_count": 251,
   "metadata": {},
   "outputs": [
    {
     "data": {
      "text/plain": [
       "24"
      ]
     },
     "execution_count": 251,
     "metadata": {},
     "output_type": "execute_result"
    }
   ],
   "source": [
    "jol_both_add.shape[0]"
   ]
  },
  {
   "cell_type": "code",
   "execution_count": 252,
   "metadata": {},
   "outputs": [
    {
     "data": {
      "text/plain": [
       "1460"
      ]
     },
     "execution_count": 252,
     "metadata": {},
     "output_type": "execute_result"
    }
   ],
   "source": [
    "orgtree.shape[0] + jol_both_add.shape[0]"
   ]
  },
  {
   "cell_type": "code",
   "execution_count": 253,
   "metadata": {},
   "outputs": [
    {
     "data": {
      "text/plain": [
       "1456"
      ]
     },
     "execution_count": 253,
     "metadata": {},
     "output_type": "execute_result"
    }
   ],
   "source": [
    "merge.shape[0]"
   ]
  },
  {
   "cell_type": "code",
   "execution_count": 254,
   "metadata": {},
   "outputs": [
    {
     "data": {
      "text/plain": [
       "['left_only', 'both', 'right_only']\n",
       "Categories (3, object): ['left_only', 'right_only', 'both']"
      ]
     },
     "execution_count": 254,
     "metadata": {},
     "output_type": "execute_result"
    }
   ],
   "source": [
    "merge[\"_merge\"].unique()"
   ]
  },
  {
   "cell_type": "code",
   "execution_count": 255,
   "metadata": {},
   "outputs": [
    {
     "data": {
      "text/plain": [
       "(4, 12)"
      ]
     },
     "execution_count": 255,
     "metadata": {},
     "output_type": "execute_result"
    }
   ],
   "source": [
    "merge[merge[\"_merge\"]==\"both\"].shape"
   ]
  },
  {
   "cell_type": "code",
   "execution_count": 256,
   "metadata": {},
   "outputs": [
    {
     "data": {
      "text/plain": [
       "(1432, 12)"
      ]
     },
     "execution_count": 256,
     "metadata": {},
     "output_type": "execute_result"
    }
   ],
   "source": [
    "merge[merge[\"_merge\"]==\"left_only\"].shape"
   ]
  },
  {
   "cell_type": "code",
   "execution_count": 257,
   "metadata": {},
   "outputs": [
    {
     "data": {
      "text/plain": [
       "(20, 12)"
      ]
     },
     "execution_count": 257,
     "metadata": {},
     "output_type": "execute_result"
    }
   ],
   "source": [
    "merge[merge[\"_merge\"]==\"right_only\"].shape"
   ]
  },
  {
   "cell_type": "code",
   "execution_count": 258,
   "metadata": {},
   "outputs": [
    {
     "data": {
      "text/html": [
       "<div>\n",
       "<style scoped>\n",
       "    .dataframe tbody tr th:only-of-type {\n",
       "        vertical-align: middle;\n",
       "    }\n",
       "\n",
       "    .dataframe tbody tr th {\n",
       "        vertical-align: top;\n",
       "    }\n",
       "\n",
       "    .dataframe thead th {\n",
       "        text-align: right;\n",
       "    }\n",
       "</style>\n",
       "<table border=\"1\" class=\"dataframe\">\n",
       "  <thead>\n",
       "    <tr style=\"text-align: right;\">\n",
       "      <th></th>\n",
       "      <th>DuplicateKey</th>\n",
       "      <th>InsideGov</th>\n",
       "      <th>PrimaryInstitution</th>\n",
       "      <th>OrgName</th>\n",
       "      <th>ImmediateSuperiorOrg</th>\n",
       "      <th>SupervisesParent</th>\n",
       "      <th>LinkToCurrent_PrimaryInstitution</th>\n",
       "      <th>LinkToCurrent_OrgName</th>\n",
       "      <th>비고</th>\n",
       "      <th>LinkToCurrent_PrimaryInstitution_y</th>\n",
       "      <th>LinkToCurrent_OrgName_y</th>\n",
       "      <th>_merge</th>\n",
       "    </tr>\n",
       "  </thead>\n",
       "  <tbody>\n",
       "    <tr>\n",
       "      <th>96</th>\n",
       "      <td>False</td>\n",
       "      <td>True</td>\n",
       "      <td>국방위원회</td>\n",
       "      <td>인민무력부_후방총국</td>\n",
       "      <td>인민무력부</td>\n",
       "      <td>NaN</td>\n",
       "      <td>국무위원회</td>\n",
       "      <td>국방성_후방총국</td>\n",
       "      <td>NaN</td>\n",
       "      <td>국무위원회</td>\n",
       "      <td>국방성_후방총국</td>\n",
       "      <td>both</td>\n",
       "    </tr>\n",
       "    <tr>\n",
       "      <th>123</th>\n",
       "      <td>False</td>\n",
       "      <td>True</td>\n",
       "      <td>내각</td>\n",
       "      <td>교육위원회_고등교육부</td>\n",
       "      <td>교육위원회</td>\n",
       "      <td>NaN</td>\n",
       "      <td>내각</td>\n",
       "      <td>교육위원회_고등교육성</td>\n",
       "      <td>NaN</td>\n",
       "      <td>내각</td>\n",
       "      <td>교육위원회_고등교육성</td>\n",
       "      <td>both</td>\n",
       "    </tr>\n",
       "    <tr>\n",
       "      <th>1025</th>\n",
       "      <td>False</td>\n",
       "      <td>True</td>\n",
       "      <td>국방위원회</td>\n",
       "      <td>사회안전부</td>\n",
       "      <td>NaN</td>\n",
       "      <td>NaN</td>\n",
       "      <td>국무위원회</td>\n",
       "      <td>사회안전성</td>\n",
       "      <td>NaN</td>\n",
       "      <td>국무위원회</td>\n",
       "      <td>사회안전성</td>\n",
       "      <td>both</td>\n",
       "    </tr>\n",
       "    <tr>\n",
       "      <th>1211</th>\n",
       "      <td>False</td>\n",
       "      <td>NaN</td>\n",
       "      <td>정무원</td>\n",
       "      <td>문화예술부_영화총국</td>\n",
       "      <td>NaN</td>\n",
       "      <td>NaN</td>\n",
       "      <td>NaN</td>\n",
       "      <td>NaN</td>\n",
       "      <td>NaN</td>\n",
       "      <td>내각</td>\n",
       "      <td>문화성_영화총국</td>\n",
       "      <td>both</td>\n",
       "    </tr>\n",
       "  </tbody>\n",
       "</table>\n",
       "</div>"
      ],
      "text/plain": [
       "     DuplicateKey InsideGov PrimaryInstitution      OrgName  \\\n",
       "96          False      True              국방위원회   인민무력부_후방총국   \n",
       "123         False      True                 내각  교육위원회_고등교육부   \n",
       "1025        False      True              국방위원회        사회안전부   \n",
       "1211        False       NaN                정무원   문화예술부_영화총국   \n",
       "\n",
       "     ImmediateSuperiorOrg  SupervisesParent LinkToCurrent_PrimaryInstitution  \\\n",
       "96                  인민무력부               NaN                            국무위원회   \n",
       "123                 교육위원회               NaN                               내각   \n",
       "1025                  NaN               NaN                            국무위원회   \n",
       "1211                  NaN               NaN                              NaN   \n",
       "\n",
       "     LinkToCurrent_OrgName   비고 LinkToCurrent_PrimaryInstitution_y  \\\n",
       "96                국방성_후방총국  NaN                              국무위원회   \n",
       "123            교육위원회_고등교육성  NaN                                 내각   \n",
       "1025                 사회안전성  NaN                              국무위원회   \n",
       "1211                   NaN  NaN                                 내각   \n",
       "\n",
       "     LinkToCurrent_OrgName_y _merge  \n",
       "96                  국방성_후방총국   both  \n",
       "123              교육위원회_고등교육성   both  \n",
       "1025                   사회안전성   both  \n",
       "1211                문화성_영화총국   both  "
      ]
     },
     "execution_count": 258,
     "metadata": {},
     "output_type": "execute_result"
    }
   ],
   "source": [
    "# double-check the \"both\"\n",
    "merge[merge[\"_merge\"]==\"both\"]"
   ]
  },
  {
   "cell_type": "code",
   "execution_count": 259,
   "metadata": {},
   "outputs": [],
   "source": [
    "# in \"both\", update LinkToCurrent_PrimaryInstitution, LinkToCurrent_OrgName"
   ]
  },
  {
   "cell_type": "code",
   "execution_count": 419,
   "metadata": {},
   "outputs": [],
   "source": [
    "merge.loc[merge[\"_merge\"]==\"both\",\"LinkToCurrent_PrimaryInstitution\"] = merge.loc[merge[\"_merge\"]==\"both\",\"LinkToCurrent_PrimaryInstitution_y\"]"
   ]
  },
  {
   "cell_type": "code",
   "execution_count": 420,
   "metadata": {},
   "outputs": [],
   "source": [
    "merge.loc[merge[\"_merge\"]==\"both\",\"LinkToCurrent_OrgName\"] = merge.loc[merge[\"_merge\"]==\"both\",\"LinkToCurrent_OrgName_y\"]"
   ]
  },
  {
   "cell_type": "code",
   "execution_count": 422,
   "metadata": {},
   "outputs": [
    {
     "data": {
      "text/plain": [
       "(25, 16)"
      ]
     },
     "execution_count": 422,
     "metadata": {},
     "output_type": "execute_result"
    }
   ],
   "source": [
    "merge[merge[\"_merge\"]==\"both\"].shape"
   ]
  },
  {
   "cell_type": "code",
   "execution_count": 423,
   "metadata": {},
   "outputs": [],
   "source": [
    "# add the \"right_only\"\n",
    "merge.loc[merge[\"_merge\"]==\"right_only\",\"LinkToCurrent_PrimaryInstitution\"] = merge.loc[merge[\"_merge\"]==\"right_only\",\"LinkToCurrent_PrimaryInstitution_y\"]"
   ]
  },
  {
   "cell_type": "code",
   "execution_count": 424,
   "metadata": {},
   "outputs": [],
   "source": [
    "merge.loc[merge[\"_merge\"]==\"right_only\",\"LinkToCurrent_OrgName\"] = merge.loc[merge[\"_merge\"]==\"right_only\",\"LinkToCurrent_OrgName_y\"]"
   ]
  },
  {
   "cell_type": "code",
   "execution_count": 425,
   "metadata": {},
   "outputs": [],
   "source": [
    "# recover orgtree from merge\n"
   ]
  },
  {
   "cell_type": "code",
   "execution_count": 426,
   "metadata": {},
   "outputs": [],
   "source": [
    "# drop DuplicateKey & _merge\n",
    "merge.drop(\"DuplicateKey\",axis=1,inplace=True)\n",
    "merge.drop(\"_merge\",axis=1,inplace=True)"
   ]
  },
  {
   "cell_type": "code",
   "execution_count": 427,
   "metadata": {},
   "outputs": [
    {
     "data": {
      "text/plain": [
       "(1447, 14)"
      ]
     },
     "execution_count": 427,
     "metadata": {},
     "output_type": "execute_result"
    }
   ],
   "source": [
    "# Check 1: NAs\n",
    "merge.dropna(how=\"all\",inplace=True)\n",
    "merge.shape"
   ]
  },
  {
   "cell_type": "code",
   "execution_count": 428,
   "metadata": {},
   "outputs": [
    {
     "data": {
      "text/plain": [
       "(0, 14)"
      ]
     },
     "execution_count": 428,
     "metadata": {},
     "output_type": "execute_result"
    }
   ],
   "source": [
    "# Check 2: duplicate rows\n",
    "merge[merge.duplicated()].shape"
   ]
  },
  {
   "cell_type": "code",
   "execution_count": 429,
   "metadata": {},
   "outputs": [],
   "source": [
    "merge = merge.drop_duplicates()"
   ]
  },
  {
   "cell_type": "code",
   "execution_count": 430,
   "metadata": {},
   "outputs": [
    {
     "data": {
      "text/plain": [
       "(0, 14)"
      ]
     },
     "execution_count": 430,
     "metadata": {},
     "output_type": "execute_result"
    }
   ],
   "source": [
    "merge[merge.duplicated()].shape"
   ]
  },
  {
   "cell_type": "code",
   "execution_count": 431,
   "metadata": {},
   "outputs": [
    {
     "data": {
      "text/plain": [
       "(159, 14)"
      ]
     },
     "execution_count": 431,
     "metadata": {},
     "output_type": "execute_result"
    }
   ],
   "source": [
    "# Check 3: duplicate keys\n",
    "merge[merge.duplicated([\"PrimaryInstitution\",\"OrgName\"])].shape"
   ]
  },
  {
   "cell_type": "code",
   "execution_count": 432,
   "metadata": {},
   "outputs": [
    {
     "data": {
      "text/plain": [
       "(252, 15)"
      ]
     },
     "execution_count": 432,
     "metadata": {},
     "output_type": "execute_result"
    }
   ],
   "source": [
    "# reset DuplicateKey\n",
    "merge[\"DuplicateKey\"]=False\n",
    "merge.loc[merge.duplicated([\"PrimaryInstitution\",\"OrgName\"],keep=False),\"DuplicateKey\"]=True\n",
    "merge[merge.DuplicateKey==True].shape"
   ]
  },
  {
   "cell_type": "code",
   "execution_count": 433,
   "metadata": {},
   "outputs": [
    {
     "data": {
      "text/plain": [
       "(1447, 9)"
      ]
     },
     "execution_count": 433,
     "metadata": {},
     "output_type": "execute_result"
    }
   ],
   "source": [
    "orgtree = merge[orgtree.columns]\n",
    "orgtree.shape"
   ]
  },
  {
   "cell_type": "code",
   "execution_count": 434,
   "metadata": {},
   "outputs": [
    {
     "data": {
      "text/plain": [
       "Index(['DuplicateKey', 'InsideGov', 'PrimaryInstitution', 'OrgName',\n",
       "       'ImmediateSuperiorOrg', 'SupervisesParent',\n",
       "       'LinkToCurrent_PrimaryInstitution', 'LinkToCurrent_OrgName', '비고'],\n",
       "      dtype='object')"
      ]
     },
     "execution_count": 434,
     "metadata": {},
     "output_type": "execute_result"
    }
   ],
   "source": [
    "orgtree.columns"
   ]
  },
  {
   "cell_type": "code",
   "execution_count": null,
   "metadata": {},
   "outputs": [],
   "source": []
  },
  {
   "cell_type": "markdown",
   "metadata": {},
   "source": [
    "# both: change orgtree using joborglink_both"
   ]
  },
  {
   "cell_type": "code",
   "execution_count": 435,
   "metadata": {},
   "outputs": [
    {
     "data": {
      "text/plain": [
       "Index(['OrgString', 'Notes', '_merged', 'InOrgTree', 'InsideGov',\n",
       "       'PrimaryInstitution', 'OrgName', 'LinkToCurrent_PrimaryInstitution',\n",
       "       'LinkToCurrent_OrgName', 'Change_joborglink_PI',\n",
       "       'Change_joborglink_OrgName', 'Change_joborglink_Link_PI',\n",
       "       'Change_joborglink_Link_OrgName', 'ChangeOrgTree', 'OrgTree_PI',\n",
       "       'OrgTree_OrgName', '비고'],\n",
       "      dtype='object')"
      ]
     },
     "execution_count": 435,
     "metadata": {},
     "output_type": "execute_result"
    }
   ],
   "source": [
    "joborglink_both.columns"
   ]
  },
  {
   "cell_type": "code",
   "execution_count": 436,
   "metadata": {},
   "outputs": [
    {
     "data": {
      "text/plain": [
       "(139, 17)"
      ]
     },
     "execution_count": 436,
     "metadata": {},
     "output_type": "execute_result"
    }
   ],
   "source": [
    "jol_both_change = joborglink_both[joborglink_both.ChangeOrgTree==\"Change\"]\n",
    "jol_both_change.shape"
   ]
  },
  {
   "cell_type": "code",
   "execution_count": 437,
   "metadata": {},
   "outputs": [],
   "source": [
    "columns_change = ['OrgTree_PI','OrgTree_OrgName','PrimaryInstitution','OrgName','LinkToCurrent_PrimaryInstitution','LinkToCurrent_OrgName']"
   ]
  },
  {
   "cell_type": "code",
   "execution_count": 438,
   "metadata": {},
   "outputs": [
    {
     "data": {
      "text/plain": [
       "(139, 6)"
      ]
     },
     "execution_count": 438,
     "metadata": {},
     "output_type": "execute_result"
    }
   ],
   "source": [
    "jol_both_change = jol_both_change[columns_change]\n",
    "jol_both_change.shape"
   ]
  },
  {
   "cell_type": "code",
   "execution_count": 439,
   "metadata": {},
   "outputs": [
    {
     "data": {
      "text/plain": [
       "(139, 6)"
      ]
     },
     "execution_count": 439,
     "metadata": {},
     "output_type": "execute_result"
    }
   ],
   "source": [
    "# Check 1: NAs\n",
    "jol_both_change.dropna(how=\"all\",inplace=True)\n",
    "jol_both_change.shape"
   ]
  },
  {
   "cell_type": "code",
   "execution_count": 440,
   "metadata": {},
   "outputs": [
    {
     "data": {
      "text/plain": [
       "(81, 6)"
      ]
     },
     "execution_count": 440,
     "metadata": {},
     "output_type": "execute_result"
    }
   ],
   "source": [
    "# Check 2: duplicate rows\n",
    "jol_both_change[jol_both_change.duplicated()].shape"
   ]
  },
  {
   "cell_type": "code",
   "execution_count": 441,
   "metadata": {},
   "outputs": [
    {
     "data": {
      "text/plain": [
       "(58, 6)"
      ]
     },
     "execution_count": 441,
     "metadata": {},
     "output_type": "execute_result"
    }
   ],
   "source": [
    "jol_both_change = jol_both_change.drop_duplicates()\n",
    "jol_both_change.shape"
   ]
  },
  {
   "cell_type": "code",
   "execution_count": 442,
   "metadata": {},
   "outputs": [
    {
     "data": {
      "text/plain": [
       "(0, 6)"
      ]
     },
     "execution_count": 442,
     "metadata": {},
     "output_type": "execute_result"
    }
   ],
   "source": [
    "# Check 3: duplicate keys\n",
    "jol_both_change[jol_both_change.duplicated([\"OrgTree_PI\",\"OrgTree_OrgName\",\"PrimaryInstitution\",\"OrgName\"],keep=False)].shape"
   ]
  },
  {
   "cell_type": "code",
   "execution_count": 443,
   "metadata": {
    "scrolled": true
   },
   "outputs": [
    {
     "data": {
      "text/html": [
       "<div>\n",
       "<style scoped>\n",
       "    .dataframe tbody tr th:only-of-type {\n",
       "        vertical-align: middle;\n",
       "    }\n",
       "\n",
       "    .dataframe tbody tr th {\n",
       "        vertical-align: top;\n",
       "    }\n",
       "\n",
       "    .dataframe thead th {\n",
       "        text-align: right;\n",
       "    }\n",
       "</style>\n",
       "<table border=\"1\" class=\"dataframe\">\n",
       "  <thead>\n",
       "    <tr style=\"text-align: right;\">\n",
       "      <th></th>\n",
       "      <th>OrgTree_PI</th>\n",
       "      <th>OrgTree_OrgName</th>\n",
       "      <th>PrimaryInstitution</th>\n",
       "      <th>OrgName</th>\n",
       "      <th>LinkToCurrent_PrimaryInstitution</th>\n",
       "      <th>LinkToCurrent_OrgName</th>\n",
       "    </tr>\n",
       "  </thead>\n",
       "  <tbody>\n",
       "  </tbody>\n",
       "</table>\n",
       "</div>"
      ],
      "text/plain": [
       "Empty DataFrame\n",
       "Columns: [OrgTree_PI, OrgTree_OrgName, PrimaryInstitution, OrgName, LinkToCurrent_PrimaryInstitution, LinkToCurrent_OrgName]\n",
       "Index: []"
      ]
     },
     "execution_count": 443,
     "metadata": {},
     "output_type": "execute_result"
    }
   ],
   "source": [
    "jol_both_change.sort_values([\"PrimaryInstitution\",\"OrgName\"],inplace=True)\n",
    "jol_both_change[jol_both_change.duplicated([\"OrgTree_PI\",\"OrgTree_OrgName\",\"PrimaryInstitution\",\"OrgName\"],keep=False)]"
   ]
  },
  {
   "cell_type": "code",
   "execution_count": null,
   "metadata": {},
   "outputs": [],
   "source": []
  },
  {
   "cell_type": "code",
   "execution_count": 444,
   "metadata": {},
   "outputs": [
    {
     "data": {
      "text/plain": [
       "Index(['OrgTree_PI', 'OrgTree_OrgName', 'PrimaryInstitution', 'OrgName',\n",
       "       'LinkToCurrent_PrimaryInstitution', 'LinkToCurrent_OrgName'],\n",
       "      dtype='object')"
      ]
     },
     "execution_count": 444,
     "metadata": {},
     "output_type": "execute_result"
    }
   ],
   "source": [
    "jol_both_change.columns"
   ]
  },
  {
   "cell_type": "code",
   "execution_count": 445,
   "metadata": {},
   "outputs": [],
   "source": [
    "# merge orgtree with jol_both_change\n",
    "merge = orgtree.merge(jol_both_change,how=\"outer\",\n",
    "                      left_on=[\"PrimaryInstitution\",\"OrgName\"],\n",
    "                      right_on=[\"OrgTree_PI\",\"OrgTree_OrgName\"],\n",
    "                      suffixes=[\"\",\"_y\"],\n",
    "                      indicator=True)"
   ]
  },
  {
   "cell_type": "code",
   "execution_count": 446,
   "metadata": {},
   "outputs": [
    {
     "data": {
      "text/plain": [
       "Index(['DuplicateKey', 'InsideGov', 'PrimaryInstitution', 'OrgName',\n",
       "       'ImmediateSuperiorOrg', 'SupervisesParent',\n",
       "       'LinkToCurrent_PrimaryInstitution', 'LinkToCurrent_OrgName', '비고',\n",
       "       'OrgTree_PI', 'OrgTree_OrgName', 'PrimaryInstitution_y', 'OrgName_y',\n",
       "       'LinkToCurrent_PrimaryInstitution_y', 'LinkToCurrent_OrgName_y',\n",
       "       '_merge'],\n",
       "      dtype='object')"
      ]
     },
     "execution_count": 446,
     "metadata": {},
     "output_type": "execute_result"
    }
   ],
   "source": [
    "merge.columns"
   ]
  },
  {
   "cell_type": "code",
   "execution_count": 447,
   "metadata": {},
   "outputs": [
    {
     "data": {
      "text/plain": [
       "1447"
      ]
     },
     "execution_count": 447,
     "metadata": {},
     "output_type": "execute_result"
    }
   ],
   "source": [
    "orgtree.shape[0]"
   ]
  },
  {
   "cell_type": "code",
   "execution_count": 448,
   "metadata": {},
   "outputs": [
    {
     "data": {
      "text/plain": [
       "58"
      ]
     },
     "execution_count": 448,
     "metadata": {},
     "output_type": "execute_result"
    }
   ],
   "source": [
    "jol_both_change.shape[0]"
   ]
  },
  {
   "cell_type": "code",
   "execution_count": 449,
   "metadata": {},
   "outputs": [
    {
     "data": {
      "text/plain": [
       "1505"
      ]
     },
     "execution_count": 449,
     "metadata": {},
     "output_type": "execute_result"
    }
   ],
   "source": [
    "orgtree.shape[0] + jol_both_change.shape[0]"
   ]
  },
  {
   "cell_type": "code",
   "execution_count": 450,
   "metadata": {},
   "outputs": [
    {
     "data": {
      "text/plain": [
       "1482"
      ]
     },
     "execution_count": 450,
     "metadata": {},
     "output_type": "execute_result"
    }
   ],
   "source": [
    "merge.shape[0]"
   ]
  },
  {
   "cell_type": "code",
   "execution_count": 451,
   "metadata": {},
   "outputs": [
    {
     "data": {
      "text/plain": [
       "['left_only', 'both', 'right_only']\n",
       "Categories (3, object): ['left_only', 'right_only', 'both']"
      ]
     },
     "execution_count": 451,
     "metadata": {},
     "output_type": "execute_result"
    }
   ],
   "source": [
    "merge[\"_merge\"].unique()"
   ]
  },
  {
   "cell_type": "code",
   "execution_count": 452,
   "metadata": {},
   "outputs": [
    {
     "data": {
      "text/plain": [
       "(27, 16)"
      ]
     },
     "execution_count": 452,
     "metadata": {},
     "output_type": "execute_result"
    }
   ],
   "source": [
    "merge[merge[\"_merge\"]==\"both\"].shape"
   ]
  },
  {
   "cell_type": "code",
   "execution_count": 453,
   "metadata": {},
   "outputs": [
    {
     "data": {
      "text/plain": [
       "(1422, 16)"
      ]
     },
     "execution_count": 453,
     "metadata": {},
     "output_type": "execute_result"
    }
   ],
   "source": [
    "merge[merge[\"_merge\"]==\"left_only\"].shape"
   ]
  },
  {
   "cell_type": "code",
   "execution_count": 454,
   "metadata": {},
   "outputs": [
    {
     "data": {
      "text/plain": [
       "(33, 16)"
      ]
     },
     "execution_count": 454,
     "metadata": {},
     "output_type": "execute_result"
    }
   ],
   "source": [
    "merge[merge[\"_merge\"]==\"right_only\"].shape"
   ]
  },
  {
   "cell_type": "code",
   "execution_count": null,
   "metadata": {},
   "outputs": [],
   "source": []
  },
  {
   "cell_type": "code",
   "execution_count": 460,
   "metadata": {},
   "outputs": [
    {
     "data": {
      "text/plain": [
       "(28, 2)"
      ]
     },
     "execution_count": 460,
     "metadata": {},
     "output_type": "execute_result"
    }
   ],
   "source": [
    "# confirm \"right_only\" were already changed\n",
    "merge_right = merge.loc[merge[\"_merge\"]==\"right_only\",[\"OrgTree_PI\",\"OrgTree_OrgName\"]].drop_duplicates()\n",
    "merge_right.shape"
   ]
  },
  {
   "cell_type": "code",
   "execution_count": 456,
   "metadata": {},
   "outputs": [],
   "source": [
    "right_right = joborglink_right[[\"PrimaryInstitution\",\"OrgName\"]].merge(\n",
    "    merge_right,\n",
    "    how=\"outer\",\n",
    "    left_on=[\"PrimaryInstitution\",\"OrgName\"],\n",
    "    right_on=[\"OrgTree_PI\",\"OrgTree_OrgName\"],\n",
    "    indicator=True)"
   ]
  },
  {
   "cell_type": "code",
   "execution_count": 461,
   "metadata": {},
   "outputs": [
    {
     "data": {
      "text/plain": [
       "(16, 5)"
      ]
     },
     "execution_count": 461,
     "metadata": {},
     "output_type": "execute_result"
    }
   ],
   "source": [
    "# 16 of 28 were added in joborglink_right\n",
    "right_right[right_right[\"_merge\"]==\"both\"].shape"
   ]
  },
  {
   "cell_type": "code",
   "execution_count": 462,
   "metadata": {},
   "outputs": [
    {
     "data": {
      "text/plain": [
       "(827, 5)"
      ]
     },
     "execution_count": 462,
     "metadata": {},
     "output_type": "execute_result"
    }
   ],
   "source": [
    "right_right[right_right[\"_merge\"]==\"left_only\"].shape"
   ]
  },
  {
   "cell_type": "code",
   "execution_count": 463,
   "metadata": {},
   "outputs": [
    {
     "data": {
      "text/plain": [
       "(12, 5)"
      ]
     },
     "execution_count": 463,
     "metadata": {},
     "output_type": "execute_result"
    }
   ],
   "source": [
    "# 12 are still unaccounted for\n",
    "right_right[right_right[\"_merge\"]==\"right_only\"].shape"
   ]
  },
  {
   "cell_type": "code",
   "execution_count": 464,
   "metadata": {},
   "outputs": [],
   "source": [
    "# I could also check left1 and left2"
   ]
  },
  {
   "cell_type": "code",
   "execution_count": 465,
   "metadata": {},
   "outputs": [],
   "source": [
    "merge_right2 = right_right.loc[right_right[\"_merge\"]==\"right_only\",merge_right.columns]"
   ]
  },
  {
   "cell_type": "code",
   "execution_count": 466,
   "metadata": {},
   "outputs": [
    {
     "data": {
      "text/plain": [
       "Index(['OrgTree_PI', 'OrgTree_OrgName'], dtype='object')"
      ]
     },
     "execution_count": 466,
     "metadata": {},
     "output_type": "execute_result"
    }
   ],
   "source": [
    "merge_right2.columns"
   ]
  },
  {
   "cell_type": "code",
   "execution_count": 467,
   "metadata": {},
   "outputs": [
    {
     "data": {
      "text/plain": [
       "(12, 2)"
      ]
     },
     "execution_count": 467,
     "metadata": {},
     "output_type": "execute_result"
    }
   ],
   "source": [
    "merge_right2.shape"
   ]
  },
  {
   "cell_type": "code",
   "execution_count": 468,
   "metadata": {},
   "outputs": [
    {
     "data": {
      "text/html": [
       "<div>\n",
       "<style scoped>\n",
       "    .dataframe tbody tr th:only-of-type {\n",
       "        vertical-align: middle;\n",
       "    }\n",
       "\n",
       "    .dataframe tbody tr th {\n",
       "        vertical-align: top;\n",
       "    }\n",
       "\n",
       "    .dataframe thead th {\n",
       "        text-align: right;\n",
       "    }\n",
       "</style>\n",
       "<table border=\"1\" class=\"dataframe\">\n",
       "  <thead>\n",
       "    <tr style=\"text-align: right;\">\n",
       "      <th></th>\n",
       "      <th>OrgTree_PI</th>\n",
       "      <th>OrgTree_OrgName</th>\n",
       "    </tr>\n",
       "  </thead>\n",
       "  <tbody>\n",
       "    <tr>\n",
       "      <th>843</th>\n",
       "      <td>노동당</td>\n",
       "      <td>중앙위원회</td>\n",
       "    </tr>\n",
       "    <tr>\n",
       "      <th>844</th>\n",
       "      <td>노동당</td>\n",
       "      <td>중앙위원회_39호실</td>\n",
       "    </tr>\n",
       "    <tr>\n",
       "      <th>845</th>\n",
       "      <td>노동당</td>\n",
       "      <td>중앙위원회_경공업부</td>\n",
       "    </tr>\n",
       "    <tr>\n",
       "      <th>846</th>\n",
       "      <td>노동당</td>\n",
       "      <td>중앙위원회_계획재정부</td>\n",
       "    </tr>\n",
       "    <tr>\n",
       "      <th>847</th>\n",
       "      <td>노동당</td>\n",
       "      <td>중앙위원회_과학교육부</td>\n",
       "    </tr>\n",
       "    <tr>\n",
       "      <th>848</th>\n",
       "      <td>노동당</td>\n",
       "      <td>중앙위원회_국제부</td>\n",
       "    </tr>\n",
       "    <tr>\n",
       "      <th>849</th>\n",
       "      <td>노동당</td>\n",
       "      <td>중앙위원회_문서정리실</td>\n",
       "    </tr>\n",
       "    <tr>\n",
       "      <th>850</th>\n",
       "      <td>노동당</td>\n",
       "      <td>중앙위원회_비서국</td>\n",
       "    </tr>\n",
       "    <tr>\n",
       "      <th>851</th>\n",
       "      <td>노동당</td>\n",
       "      <td>중앙위원회_선전선동부</td>\n",
       "    </tr>\n",
       "    <tr>\n",
       "      <th>852</th>\n",
       "      <td>노동당</td>\n",
       "      <td>중앙위원회_재정경리부</td>\n",
       "    </tr>\n",
       "    <tr>\n",
       "      <th>853</th>\n",
       "      <td>노동당</td>\n",
       "      <td>중앙위원회_조직지도부_서기실</td>\n",
       "    </tr>\n",
       "    <tr>\n",
       "      <th>854</th>\n",
       "      <td>노동당</td>\n",
       "      <td>중앙위원회_청년사업부</td>\n",
       "    </tr>\n",
       "  </tbody>\n",
       "</table>\n",
       "</div>"
      ],
      "text/plain": [
       "    OrgTree_PI  OrgTree_OrgName\n",
       "843        노동당            중앙위원회\n",
       "844        노동당       중앙위원회_39호실\n",
       "845        노동당       중앙위원회_경공업부\n",
       "846        노동당      중앙위원회_계획재정부\n",
       "847        노동당      중앙위원회_과학교육부\n",
       "848        노동당        중앙위원회_국제부\n",
       "849        노동당      중앙위원회_문서정리실\n",
       "850        노동당        중앙위원회_비서국\n",
       "851        노동당      중앙위원회_선전선동부\n",
       "852        노동당      중앙위원회_재정경리부\n",
       "853        노동당  중앙위원회_조직지도부_서기실\n",
       "854        노동당      중앙위원회_청년사업부"
      ]
     },
     "execution_count": 468,
     "metadata": {},
     "output_type": "execute_result"
    }
   ],
   "source": [
    "merge_right2"
   ]
  },
  {
   "cell_type": "code",
   "execution_count": 470,
   "metadata": {},
   "outputs": [
    {
     "data": {
      "text/plain": [
       "Index(['OrgString', 'Notes', 'InOrgTree', 'NeedToChange', 'InsideGov',\n",
       "       'InOrgTree_PI', 'InOrgTree_Orgname', 'PrimaryInstitution', 'OrgName',\n",
       "       'LinkToCurrent_PI', 'LinkToCurrent_OrgName', '비고'],\n",
       "      dtype='object')"
      ]
     },
     "execution_count": 470,
     "metadata": {},
     "output_type": "execute_result"
    }
   ],
   "source": [
    "# check joborglink_left2\n",
    "joborglink_left2.columns"
   ]
  },
  {
   "cell_type": "code",
   "execution_count": 474,
   "metadata": {},
   "outputs": [],
   "source": [
    "right_right2 = joborglink_left2[['InOrgTree_PI', 'InOrgTree_Orgname']].merge(\n",
    "    merge_right2,\n",
    "    how=\"outer\",\n",
    "    left_on=['InOrgTree_PI', 'InOrgTree_Orgname'],\n",
    "    right_on=['OrgTree_PI', 'OrgTree_OrgName'],\n",
    "    indicator=True)"
   ]
  },
  {
   "cell_type": "code",
   "execution_count": 475,
   "metadata": {},
   "outputs": [
    {
     "data": {
      "text/plain": [
       "(374, 5)"
      ]
     },
     "execution_count": 475,
     "metadata": {},
     "output_type": "execute_result"
    }
   ],
   "source": [
    "right_right2.shape"
   ]
  },
  {
   "cell_type": "code",
   "execution_count": 476,
   "metadata": {},
   "outputs": [
    {
     "data": {
      "text/plain": [
       "['left_only', 'both']\n",
       "Categories (3, object): ['left_only', 'right_only', 'both']"
      ]
     },
     "execution_count": 476,
     "metadata": {},
     "output_type": "execute_result"
    }
   ],
   "source": [
    "right_right2[\"_merge\"].unique()"
   ]
  },
  {
   "cell_type": "code",
   "execution_count": 477,
   "metadata": {},
   "outputs": [
    {
     "data": {
      "text/plain": [
       "(0, 5)"
      ]
     },
     "execution_count": 477,
     "metadata": {},
     "output_type": "execute_result"
    }
   ],
   "source": [
    "# the remaining 12 were added in joborglink_left2\n",
    "right_right2[right_right2[\"_merge\"]==\"right_only\"].shape"
   ]
  },
  {
   "cell_type": "code",
   "execution_count": null,
   "metadata": {},
   "outputs": [],
   "source": [
    "# all keys in jol_both_change have been accounted for"
   ]
  },
  {
   "cell_type": "code",
   "execution_count": null,
   "metadata": {},
   "outputs": [],
   "source": [
    "# update orgtree[]'PrimaryInstitution', 'OrgName']\n",
    "# for orgs which match jol_both_change['OrgTree_PI', 'OrgTree_OrgName']"
   ]
  },
  {
   "cell_type": "code",
   "execution_count": 480,
   "metadata": {},
   "outputs": [
    {
     "data": {
      "text/plain": [
       "Index(['DuplicateKey', 'InsideGov', 'PrimaryInstitution', 'OrgName',\n",
       "       'ImmediateSuperiorOrg', 'SupervisesParent',\n",
       "       'LinkToCurrent_PrimaryInstitution', 'LinkToCurrent_OrgName', '비고',\n",
       "       'OrgTree_PI', 'OrgTree_OrgName', 'PrimaryInstitution_y', 'OrgName_y',\n",
       "       'LinkToCurrent_PrimaryInstitution_y', 'LinkToCurrent_OrgName_y',\n",
       "       '_merge'],\n",
       "      dtype='object')"
      ]
     },
     "execution_count": 480,
     "metadata": {},
     "output_type": "execute_result"
    }
   ],
   "source": [
    "merge.columns"
   ]
  },
  {
   "cell_type": "code",
   "execution_count": 481,
   "metadata": {},
   "outputs": [],
   "source": [
    "merge.loc[merge[\"_merge\"]==\"both\",\"PrimaryInstitution\"] = merge.loc[merge[\"_merge\"]==\"both\",\"PrimaryInstitution_y\"]"
   ]
  },
  {
   "cell_type": "code",
   "execution_count": 482,
   "metadata": {},
   "outputs": [],
   "source": [
    "merge.loc[merge[\"_merge\"]==\"both\",\"OrgName\"] = merge.loc[merge[\"_merge\"]==\"both\",\"OrgName_y\"]"
   ]
  },
  {
   "cell_type": "code",
   "execution_count": 483,
   "metadata": {},
   "outputs": [],
   "source": [
    "merge.loc[merge[\"_merge\"]==\"both\",\"LinkToCurrent_PrimaryInstitution\"] = merge.loc[merge[\"_merge\"]==\"both\",\"LinkToCurrent_PrimaryInstitution_y\"]"
   ]
  },
  {
   "cell_type": "code",
   "execution_count": 484,
   "metadata": {},
   "outputs": [],
   "source": [
    "merge.loc[merge[\"_merge\"]==\"both\",\"LinkToCurrent_OrgName\"] = merge.loc[merge[\"_merge\"]==\"both\",\"LinkToCurrent_OrgName_y\"]"
   ]
  },
  {
   "cell_type": "code",
   "execution_count": 485,
   "metadata": {},
   "outputs": [
    {
     "data": {
      "text/plain": [
       "(1482, 16)"
      ]
     },
     "execution_count": 485,
     "metadata": {},
     "output_type": "execute_result"
    }
   ],
   "source": [
    "merge.shape"
   ]
  },
  {
   "cell_type": "code",
   "execution_count": 486,
   "metadata": {},
   "outputs": [],
   "source": [
    "# recover orgtree from merge\n"
   ]
  },
  {
   "cell_type": "code",
   "execution_count": 487,
   "metadata": {},
   "outputs": [],
   "source": [
    "# drop DuplicateKey & _merge\n",
    "merge.drop(\"DuplicateKey\",axis=1,inplace=True)\n",
    "merge.drop(\"_merge\",axis=1,inplace=True)"
   ]
  },
  {
   "cell_type": "code",
   "execution_count": 488,
   "metadata": {},
   "outputs": [
    {
     "data": {
      "text/plain": [
       "(1482, 14)"
      ]
     },
     "execution_count": 488,
     "metadata": {},
     "output_type": "execute_result"
    }
   ],
   "source": [
    "# Check 1: NAs\n",
    "merge.dropna(how=\"all\",inplace=True)\n",
    "merge.shape"
   ]
  },
  {
   "cell_type": "code",
   "execution_count": 489,
   "metadata": {},
   "outputs": [
    {
     "data": {
      "text/plain": [
       "(28, 14)"
      ]
     },
     "execution_count": 489,
     "metadata": {},
     "output_type": "execute_result"
    }
   ],
   "source": [
    "# Check 2: duplicate rows\n",
    "merge[merge.duplicated()].shape"
   ]
  },
  {
   "cell_type": "code",
   "execution_count": 490,
   "metadata": {},
   "outputs": [],
   "source": [
    "merge = merge.drop_duplicates()"
   ]
  },
  {
   "cell_type": "code",
   "execution_count": 491,
   "metadata": {},
   "outputs": [
    {
     "data": {
      "text/plain": [
       "(0, 14)"
      ]
     },
     "execution_count": 491,
     "metadata": {},
     "output_type": "execute_result"
    }
   ],
   "source": [
    "merge[merge.duplicated()].shape"
   ]
  },
  {
   "cell_type": "code",
   "execution_count": 492,
   "metadata": {},
   "outputs": [
    {
     "data": {
      "text/plain": [
       "(181, 14)"
      ]
     },
     "execution_count": 492,
     "metadata": {},
     "output_type": "execute_result"
    }
   ],
   "source": [
    "# Check 3: duplicate keys\n",
    "merge[merge.duplicated([\"PrimaryInstitution\",\"OrgName\"])].shape"
   ]
  },
  {
   "cell_type": "code",
   "execution_count": 493,
   "metadata": {},
   "outputs": [
    {
     "data": {
      "text/plain": [
       "(283, 15)"
      ]
     },
     "execution_count": 493,
     "metadata": {},
     "output_type": "execute_result"
    }
   ],
   "source": [
    "# reset DuplicateKey\n",
    "merge[\"DuplicateKey\"]=False\n",
    "merge.loc[merge.duplicated([\"PrimaryInstitution\",\"OrgName\"],keep=False),\"DuplicateKey\"]=True\n",
    "merge[merge.DuplicateKey==True].shape"
   ]
  },
  {
   "cell_type": "code",
   "execution_count": 494,
   "metadata": {},
   "outputs": [
    {
     "data": {
      "text/plain": [
       "(1454, 9)"
      ]
     },
     "execution_count": 494,
     "metadata": {},
     "output_type": "execute_result"
    }
   ],
   "source": [
    "orgtree = merge[orgtree.columns]\n",
    "orgtree.shape"
   ]
  },
  {
   "cell_type": "code",
   "execution_count": 495,
   "metadata": {},
   "outputs": [
    {
     "data": {
      "text/plain": [
       "Index(['DuplicateKey', 'InsideGov', 'PrimaryInstitution', 'OrgName',\n",
       "       'ImmediateSuperiorOrg', 'SupervisesParent',\n",
       "       'LinkToCurrent_PrimaryInstitution', 'LinkToCurrent_OrgName', '비고'],\n",
       "      dtype='object')"
      ]
     },
     "execution_count": 495,
     "metadata": {},
     "output_type": "execute_result"
    }
   ],
   "source": [
    "orgtree.columns"
   ]
  },
  {
   "cell_type": "code",
   "execution_count": null,
   "metadata": {},
   "outputs": [],
   "source": []
  },
  {
   "cell_type": "markdown",
   "metadata": {},
   "source": [
    "# orgtree stats for jeongsu"
   ]
  },
  {
   "cell_type": "code",
   "execution_count": 496,
   "metadata": {},
   "outputs": [
    {
     "data": {
      "text/plain": [
       "Index(['DuplicateKey', 'InsideGov', 'PrimaryInstitution', 'OrgName',\n",
       "       'ImmediateSuperiorOrg', 'SupervisesParent',\n",
       "       'LinkToCurrent_PrimaryInstitution', 'LinkToCurrent_OrgName', '비고'],\n",
       "      dtype='object')"
      ]
     },
     "execution_count": 496,
     "metadata": {},
     "output_type": "execute_result"
    }
   ],
   "source": [
    "orgtree.columns"
   ]
  },
  {
   "cell_type": "code",
   "execution_count": 497,
   "metadata": {},
   "outputs": [
    {
     "data": {
      "text/plain": [
       "(283, 9)"
      ]
     },
     "execution_count": 497,
     "metadata": {},
     "output_type": "execute_result"
    }
   ],
   "source": [
    "orgtree[orgtree.DuplicateKey==True].shape"
   ]
  },
  {
   "cell_type": "code",
   "execution_count": 498,
   "metadata": {},
   "outputs": [
    {
     "data": {
      "text/plain": [
       "(1454, 9)"
      ]
     },
     "execution_count": 498,
     "metadata": {},
     "output_type": "execute_result"
    }
   ],
   "source": [
    "orgtree.shape"
   ]
  },
  {
   "cell_type": "code",
   "execution_count": 499,
   "metadata": {},
   "outputs": [
    {
     "data": {
      "text/plain": [
       "1171"
      ]
     },
     "execution_count": 499,
     "metadata": {},
     "output_type": "execute_result"
    }
   ],
   "source": [
    "orgtree.shape[0] - orgtree[orgtree.DuplicateKey==True].shape[0]"
   ]
  },
  {
   "cell_type": "code",
   "execution_count": 500,
   "metadata": {},
   "outputs": [
    {
     "data": {
      "text/plain": [
       "(445, 9)"
      ]
     },
     "execution_count": 500,
     "metadata": {},
     "output_type": "execute_result"
    }
   ],
   "source": [
    "orgtree[orgtree.InsideGov.isna()].shape"
   ]
  },
  {
   "cell_type": "code",
   "execution_count": 501,
   "metadata": {},
   "outputs": [
    {
     "data": {
      "text/plain": [
       "(295, 9)"
      ]
     },
     "execution_count": 501,
     "metadata": {},
     "output_type": "execute_result"
    }
   ],
   "source": [
    "orgtree[orgtree.LinkToCurrent_PrimaryInstitution.isna()].shape"
   ]
  },
  {
   "cell_type": "code",
   "execution_count": 502,
   "metadata": {},
   "outputs": [
    {
     "data": {
      "text/plain": [
       "(328, 9)"
      ]
     },
     "execution_count": 502,
     "metadata": {},
     "output_type": "execute_result"
    }
   ],
   "source": [
    "orgtree[orgtree.LinkToCurrent_OrgName.isna()].shape"
   ]
  },
  {
   "cell_type": "code",
   "execution_count": null,
   "metadata": {},
   "outputs": [],
   "source": [
    "# export orgtree"
   ]
  },
  {
   "cell_type": "code",
   "execution_count": 512,
   "metadata": {},
   "outputs": [],
   "source": [
    "orgtree = orgtree.sort_values([\"DuplicateKey\",\"PrimaryInstitution\",\"OrgName\"],ascending=[False,True,True])"
   ]
  },
  {
   "cell_type": "code",
   "execution_count": 513,
   "metadata": {},
   "outputs": [
    {
     "data": {
      "text/html": [
       "<div>\n",
       "<style scoped>\n",
       "    .dataframe tbody tr th:only-of-type {\n",
       "        vertical-align: middle;\n",
       "    }\n",
       "\n",
       "    .dataframe tbody tr th {\n",
       "        vertical-align: top;\n",
       "    }\n",
       "\n",
       "    .dataframe thead th {\n",
       "        text-align: right;\n",
       "    }\n",
       "</style>\n",
       "<table border=\"1\" class=\"dataframe\">\n",
       "  <thead>\n",
       "    <tr style=\"text-align: right;\">\n",
       "      <th></th>\n",
       "      <th>DuplicateKey</th>\n",
       "      <th>InsideGov</th>\n",
       "      <th>PrimaryInstitution</th>\n",
       "      <th>OrgName</th>\n",
       "      <th>ImmediateSuperiorOrg</th>\n",
       "      <th>SupervisesParent</th>\n",
       "      <th>LinkToCurrent_PrimaryInstitution</th>\n",
       "      <th>LinkToCurrent_OrgName</th>\n",
       "      <th>비고</th>\n",
       "    </tr>\n",
       "  </thead>\n",
       "  <tbody>\n",
       "    <tr>\n",
       "      <th>15</th>\n",
       "      <td>True</td>\n",
       "      <td>True</td>\n",
       "      <td>국무위원회</td>\n",
       "      <td>국가보위성</td>\n",
       "      <td>NaN</td>\n",
       "      <td>NaN</td>\n",
       "      <td>Current</td>\n",
       "      <td>Current</td>\n",
       "      <td>NaN</td>\n",
       "    </tr>\n",
       "    <tr>\n",
       "      <th>16</th>\n",
       "      <td>True</td>\n",
       "      <td>NaN</td>\n",
       "      <td>국무위원회</td>\n",
       "      <td>국가보위성</td>\n",
       "      <td>NaN</td>\n",
       "      <td>NaN</td>\n",
       "      <td>국무위원회</td>\n",
       "      <td>국가보위성</td>\n",
       "      <td>NaN</td>\n",
       "    </tr>\n",
       "    <tr>\n",
       "      <th>18</th>\n",
       "      <td>True</td>\n",
       "      <td>True</td>\n",
       "      <td>국무위원회</td>\n",
       "      <td>국방성</td>\n",
       "      <td>NaN</td>\n",
       "      <td>NaN</td>\n",
       "      <td>Current</td>\n",
       "      <td>Current</td>\n",
       "      <td>NaN</td>\n",
       "    </tr>\n",
       "    <tr>\n",
       "      <th>19</th>\n",
       "      <td>True</td>\n",
       "      <td>NaN</td>\n",
       "      <td>국무위원회</td>\n",
       "      <td>국방성</td>\n",
       "      <td>NaN</td>\n",
       "      <td>NaN</td>\n",
       "      <td>국무위원회</td>\n",
       "      <td>국방성</td>\n",
       "      <td>NaN</td>\n",
       "    </tr>\n",
       "    <tr>\n",
       "      <th>22</th>\n",
       "      <td>True</td>\n",
       "      <td>True</td>\n",
       "      <td>국무위원회</td>\n",
       "      <td>국방성_참모부_공병국</td>\n",
       "      <td>국방성</td>\n",
       "      <td>NaN</td>\n",
       "      <td>Current</td>\n",
       "      <td>Current</td>\n",
       "      <td>NaN</td>\n",
       "    </tr>\n",
       "    <tr>\n",
       "      <th>23</th>\n",
       "      <td>True</td>\n",
       "      <td>True</td>\n",
       "      <td>국무위원회</td>\n",
       "      <td>국방성_참모부_공병국</td>\n",
       "      <td>국방성</td>\n",
       "      <td>NaN</td>\n",
       "      <td>Please_Revise</td>\n",
       "      <td>Please_Revise</td>\n",
       "      <td>NaN</td>\n",
       "    </tr>\n",
       "    <tr>\n",
       "      <th>46</th>\n",
       "      <td>True</td>\n",
       "      <td>True</td>\n",
       "      <td>국무위원회</td>\n",
       "      <td>국방성_참모부_통신국</td>\n",
       "      <td>국방성</td>\n",
       "      <td>NaN</td>\n",
       "      <td>Current</td>\n",
       "      <td>Current</td>\n",
       "      <td>NaN</td>\n",
       "    </tr>\n",
       "    <tr>\n",
       "      <th>47</th>\n",
       "      <td>True</td>\n",
       "      <td>True</td>\n",
       "      <td>국무위원회</td>\n",
       "      <td>국방성_참모부_통신국</td>\n",
       "      <td>국방성</td>\n",
       "      <td>NaN</td>\n",
       "      <td>Current</td>\n",
       "      <td>Current</td>\n",
       "      <td>제258부대</td>\n",
       "    </tr>\n",
       "    <tr>\n",
       "      <th>1044</th>\n",
       "      <td>True</td>\n",
       "      <td>NaN</td>\n",
       "      <td>국방위원회</td>\n",
       "      <td>국가안전보위부</td>\n",
       "      <td>NaN</td>\n",
       "      <td>NaN</td>\n",
       "      <td>NaN</td>\n",
       "      <td>NaN</td>\n",
       "      <td>NaN</td>\n",
       "    </tr>\n",
       "    <tr>\n",
       "      <th>1045</th>\n",
       "      <td>True</td>\n",
       "      <td>NaN</td>\n",
       "      <td>국방위원회</td>\n",
       "      <td>국가안전보위부</td>\n",
       "      <td>NaN</td>\n",
       "      <td>NaN</td>\n",
       "      <td>국무위원회</td>\n",
       "      <td>국가보위성</td>\n",
       "      <td>NaN</td>\n",
       "    </tr>\n",
       "  </tbody>\n",
       "</table>\n",
       "</div>"
      ],
      "text/plain": [
       "      DuplicateKey InsideGov PrimaryInstitution      OrgName  \\\n",
       "15            True      True              국무위원회        국가보위성   \n",
       "16            True       NaN              국무위원회        국가보위성   \n",
       "18            True      True              국무위원회          국방성   \n",
       "19            True       NaN              국무위원회          국방성   \n",
       "22            True      True              국무위원회  국방성_참모부_공병국   \n",
       "23            True      True              국무위원회  국방성_참모부_공병국   \n",
       "46            True      True              국무위원회  국방성_참모부_통신국   \n",
       "47            True      True              국무위원회  국방성_참모부_통신국   \n",
       "1044          True       NaN              국방위원회      국가안전보위부   \n",
       "1045          True       NaN              국방위원회      국가안전보위부   \n",
       "\n",
       "     ImmediateSuperiorOrg  SupervisesParent LinkToCurrent_PrimaryInstitution  \\\n",
       "15                    NaN               NaN                          Current   \n",
       "16                    NaN               NaN                            국무위원회   \n",
       "18                    NaN               NaN                          Current   \n",
       "19                    NaN               NaN                            국무위원회   \n",
       "22                    국방성               NaN                          Current   \n",
       "23                    국방성               NaN                    Please_Revise   \n",
       "46                    국방성               NaN                          Current   \n",
       "47                    국방성               NaN                          Current   \n",
       "1044                  NaN               NaN                              NaN   \n",
       "1045                  NaN               NaN                            국무위원회   \n",
       "\n",
       "     LinkToCurrent_OrgName      비고  \n",
       "15                 Current     NaN  \n",
       "16                   국가보위성     NaN  \n",
       "18                 Current     NaN  \n",
       "19                     국방성     NaN  \n",
       "22                 Current     NaN  \n",
       "23           Please_Revise     NaN  \n",
       "46                 Current     NaN  \n",
       "47                 Current  제258부대  \n",
       "1044                   NaN     NaN  \n",
       "1045                 국가보위성     NaN  "
      ]
     },
     "execution_count": 513,
     "metadata": {},
     "output_type": "execute_result"
    }
   ],
   "source": [
    "orgtree[0:10]"
   ]
  },
  {
   "cell_type": "code",
   "execution_count": 515,
   "metadata": {},
   "outputs": [],
   "source": [
    "orgtree.to_excel(path_orgtree+fileout_orgtree,index=False)"
   ]
  },
  {
   "cell_type": "markdown",
   "metadata": {},
   "source": [
    "# both: update joborglink using joborglink_both"
   ]
  },
  {
   "cell_type": "code",
   "execution_count": 198,
   "metadata": {},
   "outputs": [],
   "source": [
    "# joborglink_both"
   ]
  },
  {
   "cell_type": "code",
   "execution_count": null,
   "metadata": {},
   "outputs": [],
   "source": []
  },
  {
   "cell_type": "code",
   "execution_count": null,
   "metadata": {},
   "outputs": [],
   "source": []
  },
  {
   "cell_type": "code",
   "execution_count": null,
   "metadata": {},
   "outputs": [],
   "source": []
  },
  {
   "cell_type": "code",
   "execution_count": null,
   "metadata": {},
   "outputs": [],
   "source": []
  }
 ],
 "metadata": {
  "kernelspec": {
   "display_name": "Python 3 (ipykernel)",
   "language": "python",
   "name": "python3"
  },
  "language_info": {
   "codemirror_mode": {
    "name": "ipython",
    "version": 3
   },
   "file_extension": ".py",
   "mimetype": "text/x-python",
   "name": "python",
   "nbconvert_exporter": "python",
   "pygments_lexer": "ipython3",
   "version": "3.11.0"
  }
 },
 "nbformat": 4,
 "nbformat_minor": 4
}
