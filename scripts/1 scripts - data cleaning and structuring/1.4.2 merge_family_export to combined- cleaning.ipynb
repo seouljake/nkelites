{
 "cells": [
  {
   "cell_type": "markdown",
   "metadata": {},
   "source": [
    "# libraries & global vars"
   ]
  },
  {
   "cell_type": "code",
   "execution_count": 10,
   "metadata": {},
   "outputs": [],
   "source": [
    "import pandas as pd\n",
    "import numpy as np"
   ]
  },
  {
   "cell_type": "markdown",
   "metadata": {},
   "source": [
    "# import combined leaders"
   ]
  },
  {
   "cell_type": "code",
   "execution_count": 27,
   "metadata": {},
   "outputs": [],
   "source": [
    "## combined leaders to clean - file in\n",
    "pathin_combined_leaders_toclean = \"../../data/combined data/combined data - 1 cleaning/cleaning step 1 - combined data to parse/leaders_toparse.xlsx\"\n",
    "merged_leaders = pd.read_excel(pathin_combined_leaders_toclean,dtype=\"str\")"
   ]
  },
  {
   "cell_type": "code",
   "execution_count": 28,
   "metadata": {},
   "outputs": [],
   "source": [
    "# merged_leaders"
   ]
  },
  {
   "cell_type": "markdown",
   "metadata": {},
   "source": [
    "# path out for combined family table "
   ]
  },
  {
   "cell_type": "code",
   "execution_count": 29,
   "metadata": {},
   "outputs": [],
   "source": [
    "## combined family - cleaning - file out\n",
    "fileout_combined_family_cleaning = \"../../data/combined data/combined data - 1 cleaning/cleaning step 1 - combined data to parse/family_toparse.xlsx\""
   ]
  },
  {
   "cell_type": "markdown",
   "metadata": {},
   "source": [
    "# import and merge 2015 & 2022 family tables"
   ]
  },
  {
   "cell_type": "code",
   "execution_count": 30,
   "metadata": {},
   "outputs": [],
   "source": [
    "## 2022 family - table - file in\n",
    "file_2022_family_table = \"../../data/2022 data/2022 data - 2 tables/family.csv\"\n",
    "new_family = pd.read_csv(file_2022_family_table,dtype=\"str\")"
   ]
  },
  {
   "cell_type": "code",
   "execution_count": 31,
   "metadata": {},
   "outputs": [],
   "source": [
    "## 2015 family - raw - file in\n",
    "file_2015_family_raw = \"../../data/2015 data/2015 data - 0 raw/leaderfamilylinkmou.csv\"\n",
    "old_family_columns = [\"MOUID_2015\",\"Name\",\"FamilyString_2015\"]\n",
    "old_family = pd.read_csv(file_2015_family_raw,sep=\";\",dtype=\"str\",names=old_family_columns)"
   ]
  },
  {
   "cell_type": "code",
   "execution_count": 32,
   "metadata": {},
   "outputs": [],
   "source": [
    "# add LeaderID to old_family. select columns to merge with new_family\n",
    "merged_leaders_key = merged_leaders[[\"LeaderID\",\"MOUID_2015\"]]\n",
    "old_family_withid = old_family.merge(merged_leaders_key,on=\"MOUID_2015\",how=\"inner\")\n",
    "old_family_withid = old_family_withid[[\"LeaderID\",\"FamilyString_2015\"]]"
   ]
  },
  {
   "cell_type": "code",
   "execution_count": 33,
   "metadata": {},
   "outputs": [],
   "source": [
    "merged_family = new_family.merge(old_family_withid,on=\"LeaderID\",how=\"outer\")"
   ]
  },
  {
   "cell_type": "code",
   "execution_count": 34,
   "metadata": {},
   "outputs": [],
   "source": [
    "# family in 2015, but not 2022 - 2 rows\n",
    "# merged_family[merged_family.FamilyMemberName.isnull() & merged_family.FamilyString_2015.notnull()]"
   ]
  },
  {
   "cell_type": "code",
   "execution_count": 35,
   "metadata": {},
   "outputs": [],
   "source": [
    "# family in 2022, but not 2015 - 89 rows\n",
    "# merged_family[merged_family.FamilyMemberName.notnull() & merged_family.FamilyString_2015.isnull()]"
   ]
  },
  {
   "cell_type": "code",
   "execution_count": 36,
   "metadata": {},
   "outputs": [],
   "source": [
    "# family overlap in 2015 & 2022 - 262 rows\n",
    "# merged_family[merged_family.FamilyMemberName.notnull() & merged_family.FamilyString_2015.notnull()]"
   ]
  },
  {
   "cell_type": "markdown",
   "metadata": {},
   "source": [
    "# export combined family - to parse and code"
   ]
  },
  {
   "cell_type": "code",
   "execution_count": 37,
   "metadata": {},
   "outputs": [],
   "source": [
    "# export to combined family - to cleaning\n",
    "merged_family.to_excel(fileout_combined_family_cleaning,index=False)"
   ]
  },
  {
   "cell_type": "code",
   "execution_count": null,
   "metadata": {},
   "outputs": [],
   "source": []
  }
 ],
 "metadata": {
  "kernelspec": {
   "display_name": "Python 3",
   "language": "python",
   "name": "python3"
  },
  "language_info": {
   "codemirror_mode": {
    "name": "ipython",
    "version": 3
   },
   "file_extension": ".py",
   "mimetype": "text/x-python",
   "name": "python",
   "nbconvert_exporter": "python",
   "pygments_lexer": "ipython3",
   "version": "3.7.3"
  }
 },
 "nbformat": 4,
 "nbformat_minor": 4
}
