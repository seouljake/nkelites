{
 "cells": [
  {
   "cell_type": "code",
   "execution_count": 1,
   "id": "74698cf3",
   "metadata": {},
   "outputs": [],
   "source": [
    "import pandas as pd\n",
    "import numpy as np"
   ]
  },
  {
   "cell_type": "markdown",
   "id": "a5e7f83b",
   "metadata": {},
   "source": [
    "# path to nkelites/data/combined data/combined data - 2 tables"
   ]
  },
  {
   "cell_type": "code",
   "execution_count": 4,
   "id": "aa13d8d8",
   "metadata": {},
   "outputs": [],
   "source": [
    "path_tables = \"C:/Users/seoul/Dropbox/00 technical/github/nkelites/data/combined data/combined data - 2 tables/\""
   ]
  },
  {
   "cell_type": "code",
   "execution_count": 5,
   "id": "7e7ed81f",
   "metadata": {},
   "outputs": [],
   "source": [
    "filename_leader = \"leader.xlsx\""
   ]
  },
  {
   "cell_type": "markdown",
   "id": "ff933243",
   "metadata": {},
   "source": [
    "# leader paths & filenames"
   ]
  },
  {
   "cell_type": "code",
   "execution_count": 6,
   "id": "bdf97cc0",
   "metadata": {},
   "outputs": [],
   "source": [
    "path_leaders = \"C:/Users/seoul/Dropbox/00 technical/github/nkelites/data/combined data/combined data - 1 cleaning/cleaning step 1 - leaders/\""
   ]
  },
  {
   "cell_type": "code",
   "execution_count": 7,
   "id": "69ab5e5c",
   "metadata": {},
   "outputs": [],
   "source": [
    "# check these files have been parsed\n",
    "# then merge into \"leaders\"\n",
    "\n",
    "# leaders_toparse.xlsx\n",
    "# toparse_leaders_birthplace\n",
    "# toparse_leaders_birthyear\n",
    "# toparse_leaders_deathyear\n",
    "# toparse_leaders_sex"
   ]
  },
  {
   "cell_type": "code",
   "execution_count": null,
   "id": "4e2457c6",
   "metadata": {},
   "outputs": [],
   "source": []
  },
  {
   "cell_type": "code",
   "execution_count": null,
   "id": "48aeb54e",
   "metadata": {},
   "outputs": [],
   "source": []
  },
  {
   "cell_type": "code",
   "execution_count": null,
   "id": "10cf5af2",
   "metadata": {},
   "outputs": [],
   "source": []
  },
  {
   "cell_type": "code",
   "execution_count": null,
   "id": "d5f390d4",
   "metadata": {},
   "outputs": [],
   "source": []
  },
  {
   "cell_type": "code",
   "execution_count": null,
   "id": "a98ad1f0",
   "metadata": {},
   "outputs": [],
   "source": []
  },
  {
   "cell_type": "markdown",
   "id": "0748d5c5",
   "metadata": {},
   "source": [
    "### export to tables"
   ]
  },
  {
   "cell_type": "code",
   "execution_count": 9,
   "id": "13ae8c77",
   "metadata": {},
   "outputs": [],
   "source": [
    "# export leaderjoblink as leaderjoblink table\n",
    "\n",
    "# leader.to_excel(path_tables+filename_leader,index=False)"
   ]
  },
  {
   "cell_type": "code",
   "execution_count": null,
   "id": "b0279725",
   "metadata": {},
   "outputs": [],
   "source": []
  }
 ],
 "metadata": {
  "kernelspec": {
   "display_name": "Python 3 (ipykernel)",
   "language": "python",
   "name": "python3"
  },
  "language_info": {
   "codemirror_mode": {
    "name": "ipython",
    "version": 3
   },
   "file_extension": ".py",
   "mimetype": "text/x-python",
   "name": "python",
   "nbconvert_exporter": "python",
   "pygments_lexer": "ipython3",
   "version": "3.11.0"
  }
 },
 "nbformat": 4,
 "nbformat_minor": 5
}
