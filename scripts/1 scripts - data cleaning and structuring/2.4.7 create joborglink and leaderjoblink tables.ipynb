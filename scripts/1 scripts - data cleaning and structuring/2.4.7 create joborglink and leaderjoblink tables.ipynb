{
 "cells": [
  {
   "cell_type": "code",
   "execution_count": 1,
   "id": "74698cf3",
   "metadata": {},
   "outputs": [],
   "source": [
    "import pandas as pd\n",
    "import numpy as np"
   ]
  },
  {
   "cell_type": "markdown",
   "id": "aaf25c71",
   "metadata": {},
   "source": [
    "# path to nkelites/data/combined data/combined data - 2 tables"
   ]
  },
  {
   "cell_type": "code",
   "execution_count": 101,
   "id": "f2c9c339",
   "metadata": {},
   "outputs": [],
   "source": [
    "path_tables = \"C:/Users/seoul/Dropbox/00 technical/github/nkelites/data/combined data/combined data - 2 tables/\""
   ]
  },
  {
   "cell_type": "code",
   "execution_count": 102,
   "id": "09c3c30a",
   "metadata": {},
   "outputs": [],
   "source": [
    "filename_joborglink = \"joborglink.xlsx\""
   ]
  },
  {
   "cell_type": "code",
   "execution_count": 103,
   "id": "f86d0874",
   "metadata": {},
   "outputs": [],
   "source": [
    "filename_leaderjoblink = \"leaderjoblink.xlsx\""
   ]
  },
  {
   "cell_type": "markdown",
   "id": "ff933243",
   "metadata": {},
   "source": [
    "# joborglink paths & filenames"
   ]
  },
  {
   "cell_type": "code",
   "execution_count": 2,
   "id": "bdf97cc0",
   "metadata": {},
   "outputs": [],
   "source": [
    "path_joborglink = \"C:/Users/seoul/Dropbox/00 technical/github/nkelites/data/combined data/combined data - 1 cleaning/cleaning step 2 - career/2.3 joborglink/\""
   ]
  },
  {
   "cell_type": "code",
   "execution_count": 3,
   "id": "ccf64158",
   "metadata": {},
   "outputs": [],
   "source": [
    "filein_jol_7 = \"joborglink_7_2.xlsx\""
   ]
  },
  {
   "cell_type": "code",
   "execution_count": 4,
   "id": "f40a8b24",
   "metadata": {},
   "outputs": [],
   "source": [
    "jol7 = pd.read_excel(path_joborglink+filein_jol_7)"
   ]
  },
  {
   "cell_type": "code",
   "execution_count": 5,
   "id": "e6415ba1",
   "metadata": {},
   "outputs": [
    {
     "data": {
      "text/plain": [
       "Index(['OrgString', 'PrimaryInstitution', 'OrgName', 'Notes'], dtype='object')"
      ]
     },
     "execution_count": 5,
     "metadata": {},
     "output_type": "execute_result"
    }
   ],
   "source": [
    "jol7.columns"
   ]
  },
  {
   "cell_type": "code",
   "execution_count": 6,
   "id": "1ff031e8",
   "metadata": {},
   "outputs": [
    {
     "data": {
      "text/plain": [
       "(0, 4)"
      ]
     },
     "execution_count": 6,
     "metadata": {},
     "output_type": "execute_result"
    }
   ],
   "source": [
    "jol7[jol7.duplicated(\"OrgString\",keep=False)].shape"
   ]
  },
  {
   "cell_type": "code",
   "execution_count": 7,
   "id": "ddf444e0",
   "metadata": {},
   "outputs": [],
   "source": [
    "filein_jol_4 = \"joborglink_4.xlsx\""
   ]
  },
  {
   "cell_type": "code",
   "execution_count": 8,
   "id": "778283b2",
   "metadata": {},
   "outputs": [],
   "source": [
    "jol4 = pd.read_excel(path_joborglink+filein_jol_4)"
   ]
  },
  {
   "cell_type": "code",
   "execution_count": 9,
   "id": "f8362cde",
   "metadata": {},
   "outputs": [
    {
     "data": {
      "text/plain": [
       "Index(['CareerStringID', 'CareerString', 'CareerSubstring', 'CareerStartYear',\n",
       "       'CareerStartMonth', 'OrgString', 'PositionString', 'org_pos_str',\n",
       "       'NotJob', 'InsideGov', 'PrimaryInstitution'],\n",
       "      dtype='object')"
      ]
     },
     "execution_count": 9,
     "metadata": {},
     "output_type": "execute_result"
    }
   ],
   "source": [
    "jol4.columns"
   ]
  },
  {
   "cell_type": "code",
   "execution_count": 10,
   "id": "58a2b428",
   "metadata": {},
   "outputs": [],
   "source": [
    "columns_jol4 = ['CareerStringID', 'CareerString', 'CareerSubstring', 'CareerStartYear',\n",
    "       'CareerStartMonth', 'OrgString', 'PositionString']"
   ]
  },
  {
   "cell_type": "code",
   "execution_count": 11,
   "id": "ae5f7949",
   "metadata": {},
   "outputs": [],
   "source": [
    "jol4 = jol4[columns_jol4]"
   ]
  },
  {
   "cell_type": "code",
   "execution_count": 12,
   "id": "a843578d",
   "metadata": {},
   "outputs": [
    {
     "data": {
      "text/plain": [
       "(5247, 7)"
      ]
     },
     "execution_count": 12,
     "metadata": {},
     "output_type": "execute_result"
    }
   ],
   "source": [
    "jol4[jol4.duplicated(\"OrgString\",keep=False)].shape"
   ]
  },
  {
   "cell_type": "code",
   "execution_count": null,
   "id": "c0347bb6",
   "metadata": {},
   "outputs": [],
   "source": []
  },
  {
   "cell_type": "code",
   "execution_count": 13,
   "id": "261575a3",
   "metadata": {},
   "outputs": [],
   "source": [
    "filein_jol413 = \"joborglink_4_1tocode_3_Jeongsu.xlsx\""
   ]
  },
  {
   "cell_type": "code",
   "execution_count": 14,
   "id": "4f9c38d3",
   "metadata": {},
   "outputs": [],
   "source": [
    "jol413 = pd.read_excel(path_joborglink+filein_jol413)"
   ]
  },
  {
   "cell_type": "markdown",
   "id": "fbee96b5",
   "metadata": {},
   "source": [
    "# merge jol7 and jol4 on OrgString"
   ]
  },
  {
   "cell_type": "code",
   "execution_count": 15,
   "id": "a664ba70",
   "metadata": {},
   "outputs": [],
   "source": [
    "jolmerge = jol4.merge(jol7,how=\"outer\",on=\"OrgString\",indicator=True,suffixes=[\"_4\",\"_7\"])"
   ]
  },
  {
   "cell_type": "code",
   "execution_count": 16,
   "id": "01bf6af0",
   "metadata": {},
   "outputs": [
    {
     "data": {
      "text/plain": [
       "(6598, 7)"
      ]
     },
     "execution_count": 16,
     "metadata": {},
     "output_type": "execute_result"
    }
   ],
   "source": [
    "jol4.shape"
   ]
  },
  {
   "cell_type": "code",
   "execution_count": 17,
   "id": "76a4852d",
   "metadata": {},
   "outputs": [
    {
     "data": {
      "text/plain": [
       "(6604, 11)"
      ]
     },
     "execution_count": 17,
     "metadata": {},
     "output_type": "execute_result"
    }
   ],
   "source": [
    "jolmerge.shape"
   ]
  },
  {
   "cell_type": "code",
   "execution_count": 18,
   "id": "46607fa9",
   "metadata": {},
   "outputs": [
    {
     "data": {
      "text/plain": [
       "(5014, 11)"
      ]
     },
     "execution_count": 18,
     "metadata": {},
     "output_type": "execute_result"
    }
   ],
   "source": [
    "jolmerge[jolmerge[\"_merge\"]==\"both\"].shape"
   ]
  },
  {
   "cell_type": "code",
   "execution_count": 19,
   "id": "9daff9d6",
   "metadata": {},
   "outputs": [
    {
     "data": {
      "text/plain": [
       "(1584, 11)"
      ]
     },
     "execution_count": 19,
     "metadata": {},
     "output_type": "execute_result"
    }
   ],
   "source": [
    "jolmerge[jolmerge[\"_merge\"]==\"left_only\"].shape"
   ]
  },
  {
   "cell_type": "code",
   "execution_count": 20,
   "id": "37d4c4fa",
   "metadata": {},
   "outputs": [
    {
     "data": {
      "text/plain": [
       "(6, 11)"
      ]
     },
     "execution_count": 20,
     "metadata": {},
     "output_type": "execute_result"
    }
   ],
   "source": [
    "jolmerge[jolmerge[\"_merge\"]==\"right_only\"].shape"
   ]
  },
  {
   "cell_type": "code",
   "execution_count": 21,
   "id": "38f251ed",
   "metadata": {},
   "outputs": [],
   "source": [
    "# check out OrgString only in jol7"
   ]
  },
  {
   "cell_type": "code",
   "execution_count": 22,
   "id": "21f0163e",
   "metadata": {},
   "outputs": [
    {
     "data": {
      "text/html": [
       "<div>\n",
       "<style scoped>\n",
       "    .dataframe tbody tr th:only-of-type {\n",
       "        vertical-align: middle;\n",
       "    }\n",
       "\n",
       "    .dataframe tbody tr th {\n",
       "        vertical-align: top;\n",
       "    }\n",
       "\n",
       "    .dataframe thead th {\n",
       "        text-align: right;\n",
       "    }\n",
       "</style>\n",
       "<table border=\"1\" class=\"dataframe\">\n",
       "  <thead>\n",
       "    <tr style=\"text-align: right;\">\n",
       "      <th></th>\n",
       "      <th>CareerStringID</th>\n",
       "      <th>CareerString</th>\n",
       "      <th>CareerSubstring</th>\n",
       "      <th>CareerStartYear</th>\n",
       "      <th>CareerStartMonth</th>\n",
       "      <th>OrgString</th>\n",
       "      <th>PositionString</th>\n",
       "      <th>PrimaryInstitution</th>\n",
       "      <th>OrgName</th>\n",
       "      <th>Notes</th>\n",
       "      <th>_merge</th>\n",
       "    </tr>\n",
       "  </thead>\n",
       "  <tbody>\n",
       "    <tr>\n",
       "      <th>6598</th>\n",
       "      <td>NaN</td>\n",
       "      <td>NaN</td>\n",
       "      <td>NaN</td>\n",
       "      <td>NaN</td>\n",
       "      <td>NaN</td>\n",
       "      <td>문화선전성 문화예술국</td>\n",
       "      <td>NaN</td>\n",
       "      <td>내각</td>\n",
       "      <td>문화선전성_문화예술국</td>\n",
       "      <td>NaN</td>\n",
       "      <td>right_only</td>\n",
       "    </tr>\n",
       "    <tr>\n",
       "      <th>6599</th>\n",
       "      <td>NaN</td>\n",
       "      <td>NaN</td>\n",
       "      <td>NaN</td>\n",
       "      <td>NaN</td>\n",
       "      <td>NaN</td>\n",
       "      <td>반항공군사령부</td>\n",
       "      <td>NaN</td>\n",
       "      <td>총참모부</td>\n",
       "      <td>작전총국_제6처</td>\n",
       "      <td>인민군 총참모부 산하; 비고: 작전총국_제X처_제Y군단 vs Y군단</td>\n",
       "      <td>right_only</td>\n",
       "    </tr>\n",
       "    <tr>\n",
       "      <th>6600</th>\n",
       "      <td>NaN</td>\n",
       "      <td>NaN</td>\n",
       "      <td>NaN</td>\n",
       "      <td>NaN</td>\n",
       "      <td>NaN</td>\n",
       "      <td>법안심의위</td>\n",
       "      <td>NaN</td>\n",
       "      <td>최고인민회의</td>\n",
       "      <td>법안심의위원회</td>\n",
       "      <td>NaN</td>\n",
       "      <td>right_only</td>\n",
       "    </tr>\n",
       "    <tr>\n",
       "      <th>6601</th>\n",
       "      <td>NaN</td>\n",
       "      <td>NaN</td>\n",
       "      <td>NaN</td>\n",
       "      <td>NaN</td>\n",
       "      <td>NaN</td>\n",
       "      <td>인민무력부 호위사령부</td>\n",
       "      <td>NaN</td>\n",
       "      <td>국방위원회</td>\n",
       "      <td>호위사령부</td>\n",
       "      <td>NaN</td>\n",
       "      <td>right_only</td>\n",
       "    </tr>\n",
       "    <tr>\n",
       "      <th>6602</th>\n",
       "      <td>NaN</td>\n",
       "      <td>NaN</td>\n",
       "      <td>NaN</td>\n",
       "      <td>NaN</td>\n",
       "      <td>NaN</td>\n",
       "      <td>중앙방송위원회  텔레비전총국</td>\n",
       "      <td>NaN</td>\n",
       "      <td>내각</td>\n",
       "      <td>문화성_조선중앙방송위원회_텔레비전총국</td>\n",
       "      <td>NaN</td>\n",
       "      <td>right_only</td>\n",
       "    </tr>\n",
       "    <tr>\n",
       "      <th>6603</th>\n",
       "      <td>NaN</td>\n",
       "      <td>NaN</td>\n",
       "      <td>NaN</td>\n",
       "      <td>NaN</td>\n",
       "      <td>NaN</td>\n",
       "      <td>중화군 당 위원회</td>\n",
       "      <td>NaN</td>\n",
       "      <td>노동당</td>\n",
       "      <td>당중앙위원회_황해북도당위원회_중화군당위원회</td>\n",
       "      <td>NaN</td>\n",
       "      <td>right_only</td>\n",
       "    </tr>\n",
       "  </tbody>\n",
       "</table>\n",
       "</div>"
      ],
      "text/plain": [
       "      CareerStringID CareerString CareerSubstring CareerStartYear  \\\n",
       "6598             NaN          NaN             NaN             NaN   \n",
       "6599             NaN          NaN             NaN             NaN   \n",
       "6600             NaN          NaN             NaN             NaN   \n",
       "6601             NaN          NaN             NaN             NaN   \n",
       "6602             NaN          NaN             NaN             NaN   \n",
       "6603             NaN          NaN             NaN             NaN   \n",
       "\n",
       "      CareerStartMonth        OrgString PositionString PrimaryInstitution  \\\n",
       "6598               NaN      문화선전성 문화예술국            NaN                 내각   \n",
       "6599               NaN          반항공군사령부            NaN               총참모부   \n",
       "6600               NaN            법안심의위            NaN             최고인민회의   \n",
       "6601               NaN      인민무력부 호위사령부            NaN              국방위원회   \n",
       "6602               NaN  중앙방송위원회  텔레비전총국            NaN                 내각   \n",
       "6603               NaN        중화군 당 위원회            NaN                노동당   \n",
       "\n",
       "                      OrgName                                  Notes  \\\n",
       "6598              문화선전성_문화예술국                                    NaN   \n",
       "6599                 작전총국_제6처  인민군 총참모부 산하; 비고: 작전총국_제X처_제Y군단 vs Y군단   \n",
       "6600                  법안심의위원회                                    NaN   \n",
       "6601                    호위사령부                                    NaN   \n",
       "6602     문화성_조선중앙방송위원회_텔레비전총국                                    NaN   \n",
       "6603  당중앙위원회_황해북도당위원회_중화군당위원회                                    NaN   \n",
       "\n",
       "          _merge  \n",
       "6598  right_only  \n",
       "6599  right_only  \n",
       "6600  right_only  \n",
       "6601  right_only  \n",
       "6602  right_only  \n",
       "6603  right_only  "
      ]
     },
     "execution_count": 22,
     "metadata": {},
     "output_type": "execute_result"
    }
   ],
   "source": [
    "jolmerge[jolmerge[\"_merge\"]==\"right_only\"]"
   ]
  },
  {
   "cell_type": "markdown",
   "id": "b23e468d",
   "metadata": {},
   "source": [
    "# troubleshoot OrgString only in jol4"
   ]
  },
  {
   "cell_type": "code",
   "execution_count": 23,
   "id": "2da5c70a",
   "metadata": {},
   "outputs": [
    {
     "data": {
      "text/html": [
       "<div>\n",
       "<style scoped>\n",
       "    .dataframe tbody tr th:only-of-type {\n",
       "        vertical-align: middle;\n",
       "    }\n",
       "\n",
       "    .dataframe tbody tr th {\n",
       "        vertical-align: top;\n",
       "    }\n",
       "\n",
       "    .dataframe thead th {\n",
       "        text-align: right;\n",
       "    }\n",
       "</style>\n",
       "<table border=\"1\" class=\"dataframe\">\n",
       "  <thead>\n",
       "    <tr style=\"text-align: right;\">\n",
       "      <th></th>\n",
       "      <th>CareerStringID</th>\n",
       "      <th>CareerString</th>\n",
       "      <th>CareerSubstring</th>\n",
       "      <th>CareerStartYear</th>\n",
       "      <th>CareerStartMonth</th>\n",
       "      <th>OrgString</th>\n",
       "      <th>PositionString</th>\n",
       "      <th>PrimaryInstitution</th>\n",
       "      <th>OrgName</th>\n",
       "      <th>Notes</th>\n",
       "      <th>_merge</th>\n",
       "    </tr>\n",
       "  </thead>\n",
       "  <tbody>\n",
       "    <tr>\n",
       "      <th>0</th>\n",
       "      <td>1.0</td>\n",
       "      <td>개성공단 남북공동위원회 통행통신통관 분과위원회</td>\n",
       "      <td>NaN</td>\n",
       "      <td>2013</td>\n",
       "      <td>9.0</td>\n",
       "      <td>개성공단 남북공동위원회 통행통신통관 분과위원회</td>\n",
       "      <td>NaN</td>\n",
       "      <td>NaN</td>\n",
       "      <td>NaN</td>\n",
       "      <td>NaN</td>\n",
       "      <td>left_only</td>\n",
       "    </tr>\n",
       "    <tr>\n",
       "      <th>1</th>\n",
       "      <td>2.0</td>\n",
       "      <td>근로단체부장 해임 * 후임: 리일환</td>\n",
       "      <td>NaN</td>\n",
       "      <td>2014</td>\n",
       "      <td>NaN</td>\n",
       "      <td>근로단체</td>\n",
       "      <td>부장</td>\n",
       "      <td>NaN</td>\n",
       "      <td>NaN</td>\n",
       "      <td>NaN</td>\n",
       "      <td>left_only</td>\n",
       "    </tr>\n",
       "    <tr>\n",
       "      <th>12</th>\n",
       "      <td>16.0</td>\n",
       "      <td>제4·5·6·7차 남북장성급 군사회담 북측대표</td>\n",
       "      <td>NaN</td>\n",
       "      <td>2006</td>\n",
       "      <td>5.0</td>\n",
       "      <td>제4·5·6·7차 남북장성급 군사회담</td>\n",
       "      <td>북측대표</td>\n",
       "      <td>NaN</td>\n",
       "      <td>NaN</td>\n",
       "      <td>NaN</td>\n",
       "      <td>left_only</td>\n",
       "    </tr>\n",
       "    <tr>\n",
       "      <th>13</th>\n",
       "      <td>19.0</td>\n",
       "      <td>최고인민회의 제13기 대의원</td>\n",
       "      <td>NaN</td>\n",
       "      <td>2014</td>\n",
       "      <td>3.0</td>\n",
       "      <td>최고인민회의 제13기</td>\n",
       "      <td>대의원</td>\n",
       "      <td>NaN</td>\n",
       "      <td>NaN</td>\n",
       "      <td>NaN</td>\n",
       "      <td>left_only</td>\n",
       "    </tr>\n",
       "    <tr>\n",
       "      <th>14</th>\n",
       "      <td>20.0</td>\n",
       "      <td>최고인민회의 제14기 대의원</td>\n",
       "      <td>NaN</td>\n",
       "      <td>2019</td>\n",
       "      <td>NaN</td>\n",
       "      <td>최고인민회의 제14기</td>\n",
       "      <td>대의원</td>\n",
       "      <td>NaN</td>\n",
       "      <td>NaN</td>\n",
       "      <td>NaN</td>\n",
       "      <td>left_only</td>\n",
       "    </tr>\n",
       "    <tr>\n",
       "      <th>...</th>\n",
       "      <td>...</td>\n",
       "      <td>...</td>\n",
       "      <td>...</td>\n",
       "      <td>...</td>\n",
       "      <td>...</td>\n",
       "      <td>...</td>\n",
       "      <td>...</td>\n",
       "      <td>...</td>\n",
       "      <td>...</td>\n",
       "      <td>...</td>\n",
       "      <td>...</td>\n",
       "    </tr>\n",
       "    <tr>\n",
       "      <th>6587</th>\n",
       "      <td>8022.0</td>\n",
       "      <td>훈련소 졸업후 원산기지 해군함정 부중대장 임관</td>\n",
       "      <td>NaN</td>\n",
       "      <td>1948</td>\n",
       "      <td>NaN</td>\n",
       "      <td>훈련소 졸업후 원산기지 해군함정</td>\n",
       "      <td>부중대장</td>\n",
       "      <td>NaN</td>\n",
       "      <td>NaN</td>\n",
       "      <td>NaN</td>\n",
       "      <td>left_only</td>\n",
       "    </tr>\n",
       "    <tr>\n",
       "      <th>6588</th>\n",
       "      <td>8024.0</td>\n",
       "      <td>흥남가스화건설장 함경남도지구계획위원회 위원장</td>\n",
       "      <td>NaN</td>\n",
       "      <td>NaN</td>\n",
       "      <td>NaN</td>\n",
       "      <td>흥남가스화건설장 함경남도지구계획위원회</td>\n",
       "      <td>위원장</td>\n",
       "      <td>NaN</td>\n",
       "      <td>NaN</td>\n",
       "      <td>NaN</td>\n",
       "      <td>left_only</td>\n",
       "    </tr>\n",
       "    <tr>\n",
       "      <th>6591</th>\n",
       "      <td>8038.0</td>\n",
       "      <td>｢근로자｣사 부주필</td>\n",
       "      <td>NaN</td>\n",
       "      <td>1972</td>\n",
       "      <td>4.0</td>\n",
       "      <td>｢근로자｣사</td>\n",
       "      <td>부주필</td>\n",
       "      <td>NaN</td>\n",
       "      <td>NaN</td>\n",
       "      <td>NaN</td>\n",
       "      <td>left_only</td>\n",
       "    </tr>\n",
       "    <tr>\n",
       "      <th>6592</th>\n",
       "      <td>8039.0</td>\n",
       "      <td>｢근로자｣사 책임주필</td>\n",
       "      <td>NaN</td>\n",
       "      <td>1974</td>\n",
       "      <td>12.0</td>\n",
       "      <td>｢근로자｣사</td>\n",
       "      <td>책임주필</td>\n",
       "      <td>NaN</td>\n",
       "      <td>NaN</td>\n",
       "      <td>NaN</td>\n",
       "      <td>left_only</td>\n",
       "    </tr>\n",
       "    <tr>\n",
       "      <th>6594</th>\n",
       "      <td>8041.0</td>\n",
       "      <td>｢민주조선｣ 책임주필</td>\n",
       "      <td>NaN</td>\n",
       "      <td>1986</td>\n",
       "      <td>3.0</td>\n",
       "      <td>｢민주조선｣</td>\n",
       "      <td>책임주필</td>\n",
       "      <td>NaN</td>\n",
       "      <td>NaN</td>\n",
       "      <td>NaN</td>\n",
       "      <td>left_only</td>\n",
       "    </tr>\n",
       "  </tbody>\n",
       "</table>\n",
       "<p>1584 rows × 11 columns</p>\n",
       "</div>"
      ],
      "text/plain": [
       "      CareerStringID                CareerString CareerSubstring  \\\n",
       "0                1.0   개성공단 남북공동위원회 통행통신통관 분과위원회             NaN   \n",
       "1                2.0         근로단체부장 해임 * 후임: 리일환             NaN   \n",
       "12              16.0   제4·5·6·7차 남북장성급 군사회담 북측대표             NaN   \n",
       "13              19.0             최고인민회의 제13기 대의원             NaN   \n",
       "14              20.0             최고인민회의 제14기 대의원             NaN   \n",
       "...              ...                         ...             ...   \n",
       "6587          8022.0   훈련소 졸업후 원산기지 해군함정 부중대장 임관             NaN   \n",
       "6588          8024.0    흥남가스화건설장 함경남도지구계획위원회 위원장             NaN   \n",
       "6591          8038.0                  ｢근로자｣사 부주필             NaN   \n",
       "6592          8039.0                 ｢근로자｣사 책임주필             NaN   \n",
       "6594          8041.0                 ｢민주조선｣ 책임주필             NaN   \n",
       "\n",
       "     CareerStartYear  CareerStartMonth                  OrgString  \\\n",
       "0               2013               9.0  개성공단 남북공동위원회 통행통신통관 분과위원회   \n",
       "1               2014               NaN                       근로단체   \n",
       "12              2006               5.0       제4·5·6·7차 남북장성급 군사회담   \n",
       "13              2014               3.0                최고인민회의 제13기   \n",
       "14              2019               NaN                최고인민회의 제14기   \n",
       "...              ...               ...                        ...   \n",
       "6587            1948               NaN          훈련소 졸업후 원산기지 해군함정   \n",
       "6588             NaN               NaN      흥남가스화건설장 함경남도지구계획위원회    \n",
       "6591            1972               4.0                    ｢근로자｣사    \n",
       "6592            1974              12.0                    ｢근로자｣사    \n",
       "6594            1986               3.0                    ｢민주조선｣    \n",
       "\n",
       "     PositionString PrimaryInstitution OrgName Notes     _merge  \n",
       "0               NaN                NaN     NaN   NaN  left_only  \n",
       "1                부장                NaN     NaN   NaN  left_only  \n",
       "12             북측대표                NaN     NaN   NaN  left_only  \n",
       "13              대의원                NaN     NaN   NaN  left_only  \n",
       "14              대의원                NaN     NaN   NaN  left_only  \n",
       "...             ...                ...     ...   ...        ...  \n",
       "6587           부중대장                NaN     NaN   NaN  left_only  \n",
       "6588            위원장                NaN     NaN   NaN  left_only  \n",
       "6591            부주필                NaN     NaN   NaN  left_only  \n",
       "6592           책임주필                NaN     NaN   NaN  left_only  \n",
       "6594           책임주필                NaN     NaN   NaN  left_only  \n",
       "\n",
       "[1584 rows x 11 columns]"
      ]
     },
     "execution_count": 23,
     "metadata": {},
     "output_type": "execute_result"
    }
   ],
   "source": [
    "jolmerge[jolmerge[\"_merge\"]==\"left_only\"]"
   ]
  },
  {
   "cell_type": "markdown",
   "id": "9092effc",
   "metadata": {},
   "source": [
    "### Check that jol4_only are all NotFound - merge jol7, jol4 and joborglink_4_1tocode_3_Jeongsu on OrgString"
   ]
  },
  {
   "cell_type": "code",
   "execution_count": 24,
   "id": "b34443a2",
   "metadata": {},
   "outputs": [],
   "source": [
    "jolmerge.rename(columns={\"_merge\":\"_merge47\"},inplace=True)"
   ]
  },
  {
   "cell_type": "code",
   "execution_count": 25,
   "id": "5d206ed3",
   "metadata": {},
   "outputs": [
    {
     "data": {
      "text/plain": [
       "Index(['CareerStringID', 'CareerString', 'CareerSubstring', 'CareerStartYear',\n",
       "       'CareerStartMonth', 'OrgString', 'PositionString', 'PrimaryInstitution',\n",
       "       'OrgName', 'Notes', '_merge47'],\n",
       "      dtype='object')"
      ]
     },
     "execution_count": 25,
     "metadata": {},
     "output_type": "execute_result"
    }
   ],
   "source": [
    "jolmerge.columns"
   ]
  },
  {
   "cell_type": "code",
   "execution_count": 26,
   "id": "0e9596b0",
   "metadata": {},
   "outputs": [],
   "source": [
    "jolmerge413 = jolmerge.merge(jol413,how=\"left\",on=\"OrgString\",suffixes=[\"\",\"_413\"],indicator=True)"
   ]
  },
  {
   "cell_type": "code",
   "execution_count": 27,
   "id": "06dd90f7",
   "metadata": {},
   "outputs": [
    {
     "data": {
      "text/plain": [
       "(219290, 16)"
      ]
     },
     "execution_count": 27,
     "metadata": {},
     "output_type": "execute_result"
    }
   ],
   "source": [
    "jolmerge413[jolmerge413[\"_merge47\"]==\"both\"].shape"
   ]
  },
  {
   "cell_type": "code",
   "execution_count": 28,
   "id": "9b28a17f",
   "metadata": {},
   "outputs": [
    {
     "data": {
      "text/plain": [
       "(5735, 16)"
      ]
     },
     "execution_count": 28,
     "metadata": {},
     "output_type": "execute_result"
    }
   ],
   "source": [
    "jolmerge413[jolmerge413[\"_merge47\"]==\"left_only\"].shape"
   ]
  },
  {
   "cell_type": "code",
   "execution_count": 29,
   "id": "7d7c566f",
   "metadata": {},
   "outputs": [
    {
     "data": {
      "text/plain": [
       "(7, 16)"
      ]
     },
     "execution_count": 29,
     "metadata": {},
     "output_type": "execute_result"
    }
   ],
   "source": [
    "# the same 6-7 in jol7 which don't match jol4\n",
    "jolmerge413[jolmerge413[\"_merge47\"]==\"right_only\"].shape"
   ]
  },
  {
   "cell_type": "code",
   "execution_count": null,
   "id": "675987a0",
   "metadata": {},
   "outputs": [],
   "source": []
  },
  {
   "cell_type": "code",
   "execution_count": 30,
   "id": "2c35d49d",
   "metadata": {},
   "outputs": [
    {
     "data": {
      "text/plain": [
       "(219290, 16)"
      ]
     },
     "execution_count": 30,
     "metadata": {},
     "output_type": "execute_result"
    }
   ],
   "source": [
    "jolmerge413[jolmerge413[\"_merge47\"]==\"both\"].shape"
   ]
  },
  {
   "cell_type": "code",
   "execution_count": 31,
   "id": "ebbc1c4c",
   "metadata": {},
   "outputs": [
    {
     "data": {
      "text/plain": [
       "(6604, 11)"
      ]
     },
     "execution_count": 31,
     "metadata": {},
     "output_type": "execute_result"
    }
   ],
   "source": [
    "jolmerge.shape"
   ]
  },
  {
   "cell_type": "code",
   "execution_count": 32,
   "id": "64e2a71f",
   "metadata": {},
   "outputs": [
    {
     "data": {
      "text/plain": [
       "(6505, 7)"
      ]
     },
     "execution_count": 32,
     "metadata": {},
     "output_type": "execute_result"
    }
   ],
   "source": [
    "jol4[~jol4[\"OrgString\"].isna()].shape"
   ]
  },
  {
   "cell_type": "code",
   "execution_count": 33,
   "id": "feea0b48",
   "metadata": {},
   "outputs": [
    {
     "data": {
      "text/html": [
       "<div>\n",
       "<style scoped>\n",
       "    .dataframe tbody tr th:only-of-type {\n",
       "        vertical-align: middle;\n",
       "    }\n",
       "\n",
       "    .dataframe tbody tr th {\n",
       "        vertical-align: top;\n",
       "    }\n",
       "\n",
       "    .dataframe thead th {\n",
       "        text-align: right;\n",
       "    }\n",
       "</style>\n",
       "<table border=\"1\" class=\"dataframe\">\n",
       "  <thead>\n",
       "    <tr style=\"text-align: right;\">\n",
       "      <th></th>\n",
       "      <th>OrgString</th>\n",
       "    </tr>\n",
       "    <tr>\n",
       "      <th>Notes_413</th>\n",
       "      <th></th>\n",
       "    </tr>\n",
       "  </thead>\n",
       "  <tbody>\n",
       "    <tr>\n",
       "      <th>1부 Not found</th>\n",
       "      <td>754</td>\n",
       "    </tr>\n",
       "    <tr>\n",
       "      <th>1집단군사령부</th>\n",
       "      <td>4</td>\n",
       "    </tr>\n",
       "    <tr>\n",
       "      <th>2부 Not found</th>\n",
       "      <td>2</td>\n",
       "    </tr>\n",
       "    <tr>\n",
       "      <th>2집단군사령부</th>\n",
       "      <td>1</td>\n",
       "    </tr>\n",
       "    <tr>\n",
       "      <th>413연구소 Not found</th>\n",
       "      <td>1</td>\n",
       "    </tr>\n",
       "    <tr>\n",
       "      <th>...</th>\n",
       "      <td>...</td>\n",
       "    </tr>\n",
       "    <tr>\n",
       "      <th>해운총국 Not found</th>\n",
       "      <td>2</td>\n",
       "    </tr>\n",
       "    <tr>\n",
       "      <th>행정경제위원회 산하</th>\n",
       "      <td>3</td>\n",
       "    </tr>\n",
       "    <tr>\n",
       "      <th>행정부 Not found</th>\n",
       "      <td>1</td>\n",
       "    </tr>\n",
       "    <tr>\n",
       "      <th>행정조직국 Not found</th>\n",
       "      <td>2</td>\n",
       "    </tr>\n",
       "    <tr>\n",
       "      <th>화력발전관리국 Not found</th>\n",
       "      <td>2</td>\n",
       "    </tr>\n",
       "  </tbody>\n",
       "</table>\n",
       "<p>147 rows × 1 columns</p>\n",
       "</div>"
      ],
      "text/plain": [
       "                   OrgString\n",
       "Notes_413                   \n",
       "1부 Not found             754\n",
       "1집단군사령부                    4\n",
       "2부 Not found               2\n",
       "2집단군사령부                    1\n",
       "413연구소 Not found           1\n",
       "...                      ...\n",
       "해운총국 Not found             2\n",
       "행정경제위원회 산하                 3\n",
       "행정부 Not found              1\n",
       "행정조직국 Not found            2\n",
       "화력발전관리국 Not found          2\n",
       "\n",
       "[147 rows x 1 columns]"
      ]
     },
     "execution_count": 33,
     "metadata": {},
     "output_type": "execute_result"
    }
   ],
   "source": [
    "# seems like at least half of these are not found\n",
    "jolmerge413.loc[jolmerge413[\"_merge47\"]==\"both\",[\"OrgString\",\"Notes_413\"]].groupby(\"Notes_413\").count()"
   ]
  },
  {
   "cell_type": "code",
   "execution_count": 34,
   "id": "65dd0b6a",
   "metadata": {},
   "outputs": [],
   "source": [
    "# At least half of the unmatched OrgString in jol4 are due to Not Found\n",
    "\n",
    "# Good enough. I am moving on with the merge"
   ]
  },
  {
   "cell_type": "markdown",
   "id": "c9fbfc51",
   "metadata": {},
   "source": [
    "### clean up jol47\n",
    "\n",
    "### export to nkelites/data/combined data - 2 tables as joborglink"
   ]
  },
  {
   "cell_type": "code",
   "execution_count": 35,
   "id": "f47d3e1a",
   "metadata": {},
   "outputs": [
    {
     "data": {
      "text/plain": [
       "Index(['CareerStringID', 'CareerString', 'CareerSubstring', 'CareerStartYear',\n",
       "       'CareerStartMonth', 'OrgString', 'PositionString', 'PrimaryInstitution',\n",
       "       'OrgName', 'Notes', '_merge47'],\n",
       "      dtype='object')"
      ]
     },
     "execution_count": 35,
     "metadata": {},
     "output_type": "execute_result"
    }
   ],
   "source": [
    "jolmerge.columns"
   ]
  },
  {
   "cell_type": "code",
   "execution_count": 36,
   "id": "55428894",
   "metadata": {},
   "outputs": [
    {
     "data": {
      "text/plain": [
       "(5014, 11)"
      ]
     },
     "execution_count": 36,
     "metadata": {},
     "output_type": "execute_result"
    }
   ],
   "source": [
    "jolmerge[jolmerge[\"_merge47\"]==\"both\"].shape"
   ]
  },
  {
   "cell_type": "code",
   "execution_count": 37,
   "id": "32721e4b",
   "metadata": {},
   "outputs": [],
   "source": [
    "# select the matching records in jol4 & jol7\n",
    "jol47 = jolmerge[jolmerge[\"_merge47\"]==\"both\"]"
   ]
  },
  {
   "cell_type": "code",
   "execution_count": 38,
   "id": "73f5111a",
   "metadata": {},
   "outputs": [],
   "source": [
    "# drop the merge column\n",
    "jol47 = jol47.drop(columns=[\"_merge47\"])"
   ]
  },
  {
   "cell_type": "code",
   "execution_count": 39,
   "id": "4631a1ab",
   "metadata": {},
   "outputs": [
    {
     "data": {
      "text/plain": [
       "Index(['CareerStringID', 'CareerString', 'CareerSubstring', 'CareerStartYear',\n",
       "       'CareerStartMonth', 'OrgString', 'PositionString', 'PrimaryInstitution',\n",
       "       'OrgName', 'Notes'],\n",
       "      dtype='object')"
      ]
     },
     "execution_count": 39,
     "metadata": {},
     "output_type": "execute_result"
    }
   ],
   "source": [
    "jol47.columns"
   ]
  },
  {
   "cell_type": "code",
   "execution_count": 40,
   "id": "58eb1a83",
   "metadata": {},
   "outputs": [
    {
     "data": {
      "text/html": [
       "<div>\n",
       "<style scoped>\n",
       "    .dataframe tbody tr th:only-of-type {\n",
       "        vertical-align: middle;\n",
       "    }\n",
       "\n",
       "    .dataframe tbody tr th {\n",
       "        vertical-align: top;\n",
       "    }\n",
       "\n",
       "    .dataframe thead th {\n",
       "        text-align: right;\n",
       "    }\n",
       "</style>\n",
       "<table border=\"1\" class=\"dataframe\">\n",
       "  <thead>\n",
       "    <tr style=\"text-align: right;\">\n",
       "      <th></th>\n",
       "      <th>CareerStringID</th>\n",
       "      <th>CareerString</th>\n",
       "      <th>CareerSubstring</th>\n",
       "      <th>CareerStartYear</th>\n",
       "      <th>CareerStartMonth</th>\n",
       "      <th>OrgString</th>\n",
       "      <th>PositionString</th>\n",
       "      <th>PrimaryInstitution</th>\n",
       "      <th>OrgName</th>\n",
       "      <th>Notes</th>\n",
       "    </tr>\n",
       "  </thead>\n",
       "  <tbody>\n",
       "    <tr>\n",
       "      <th>2</th>\n",
       "      <td>4.0</td>\n",
       "      <td>노동성 상(유임)</td>\n",
       "      <td>NaN</td>\n",
       "      <td>1999</td>\n",
       "      <td>2.0</td>\n",
       "      <td>노동성</td>\n",
       "      <td>상</td>\n",
       "      <td>내각</td>\n",
       "      <td>노동성</td>\n",
       "      <td>NaN</td>\n",
       "    </tr>\n",
       "    <tr>\n",
       "      <th>3</th>\n",
       "      <td>1875.0</td>\n",
       "      <td>1998. 9 노동상</td>\n",
       "      <td>NaN</td>\n",
       "      <td>1998</td>\n",
       "      <td>9.0</td>\n",
       "      <td>노동성</td>\n",
       "      <td>상</td>\n",
       "      <td>내각</td>\n",
       "      <td>노동성</td>\n",
       "      <td>NaN</td>\n",
       "    </tr>\n",
       "    <tr>\n",
       "      <th>4</th>\n",
       "      <td>2349.2</td>\n",
       "      <td>2003. 9 최고인민회의 제11기 대의원, 노동상(유임)</td>\n",
       "      <td>노동상</td>\n",
       "      <td>2003</td>\n",
       "      <td>9.0</td>\n",
       "      <td>노동성</td>\n",
       "      <td>상</td>\n",
       "      <td>내각</td>\n",
       "      <td>노동성</td>\n",
       "      <td>NaN</td>\n",
       "    </tr>\n",
       "    <tr>\n",
       "      <th>5</th>\n",
       "      <td>2916.2</td>\n",
       "      <td>2009. 4 최고인민회의 제12기 대의원, 노동상(유임)</td>\n",
       "      <td>노동상</td>\n",
       "      <td>2009</td>\n",
       "      <td>4.0</td>\n",
       "      <td>노동성</td>\n",
       "      <td>상</td>\n",
       "      <td>내각</td>\n",
       "      <td>노동성</td>\n",
       "      <td>NaN</td>\n",
       "    </tr>\n",
       "    <tr>\n",
       "      <th>6</th>\n",
       "      <td>4564.0</td>\n",
       "      <td>노동성 상 *후임 : 강영수</td>\n",
       "      <td>NaN</td>\n",
       "      <td>1997</td>\n",
       "      <td>11.0</td>\n",
       "      <td>노동성</td>\n",
       "      <td>상</td>\n",
       "      <td>내각</td>\n",
       "      <td>노동성</td>\n",
       "      <td>NaN</td>\n",
       "    </tr>\n",
       "    <tr>\n",
       "      <th>...</th>\n",
       "      <td>...</td>\n",
       "      <td>...</td>\n",
       "      <td>...</td>\n",
       "      <td>...</td>\n",
       "      <td>...</td>\n",
       "      <td>...</td>\n",
       "      <td>...</td>\n",
       "      <td>...</td>\n",
       "      <td>...</td>\n",
       "      <td>...</td>\n",
       "    </tr>\n",
       "    <tr>\n",
       "      <th>6590</th>\n",
       "      <td>8028.0</td>\n",
       "      <td>희천정밀기계공장 지배인</td>\n",
       "      <td>NaN</td>\n",
       "      <td>1976</td>\n",
       "      <td>NaN</td>\n",
       "      <td>희천정밀기계공장</td>\n",
       "      <td>지배인</td>\n",
       "      <td>희천정밀기계공장</td>\n",
       "      <td>NaN</td>\n",
       "      <td>NaN</td>\n",
       "    </tr>\n",
       "    <tr>\n",
       "      <th>6593</th>\n",
       "      <td>8040.0</td>\n",
       "      <td>｢민족화해협의회｣ 부회장</td>\n",
       "      <td>NaN</td>\n",
       "      <td>1999</td>\n",
       "      <td>10.0</td>\n",
       "      <td>｢민족화해협의회｣</td>\n",
       "      <td>부회장</td>\n",
       "      <td>민족화해협의회</td>\n",
       "      <td>NaN</td>\n",
       "      <td>NaN</td>\n",
       "    </tr>\n",
       "    <tr>\n",
       "      <th>6595</th>\n",
       "      <td>8042.0</td>\n",
       "      <td>｢아시아태평양평화위원회｣ 참사</td>\n",
       "      <td>NaN</td>\n",
       "      <td>1999</td>\n",
       "      <td>11.0</td>\n",
       "      <td>｢아시아태평양평화위원회｣</td>\n",
       "      <td>참사</td>\n",
       "      <td>조선아시아태평양평화위원회</td>\n",
       "      <td>NaN</td>\n",
       "      <td>NaN</td>\n",
       "    </tr>\n",
       "    <tr>\n",
       "      <th>6596</th>\n",
       "      <td>8043.0</td>\n",
       "      <td>｢조국전선｣ 중앙위원회 공동의장</td>\n",
       "      <td>NaN</td>\n",
       "      <td>1991</td>\n",
       "      <td>8.0</td>\n",
       "      <td>｢조국전선｣ 중앙위원회</td>\n",
       "      <td>공동즤아</td>\n",
       "      <td>조국통일민주주의전선</td>\n",
       "      <td>중앙위원회</td>\n",
       "      <td>NaN</td>\n",
       "    </tr>\n",
       "    <tr>\n",
       "      <th>6597</th>\n",
       "      <td>8044.0</td>\n",
       "      <td>｢조국통일범민족연합｣ 북측 본부 부의장</td>\n",
       "      <td>NaN</td>\n",
       "      <td>1999</td>\n",
       "      <td>8.0</td>\n",
       "      <td>｢조국통일범민족연합｣ 북측 본부</td>\n",
       "      <td>부의장</td>\n",
       "      <td>조국통일범민족연합북측본부</td>\n",
       "      <td>NaN</td>\n",
       "      <td>NaN</td>\n",
       "    </tr>\n",
       "  </tbody>\n",
       "</table>\n",
       "<p>5014 rows × 10 columns</p>\n",
       "</div>"
      ],
      "text/plain": [
       "      CareerStringID                      CareerString CareerSubstring  \\\n",
       "2                4.0                         노동성 상(유임)             NaN   \n",
       "3             1875.0                       1998. 9 노동상             NaN   \n",
       "4             2349.2  2003. 9 최고인민회의 제11기 대의원, 노동상(유임)             노동상   \n",
       "5             2916.2  2009. 4 최고인민회의 제12기 대의원, 노동상(유임)             노동상   \n",
       "6             4564.0                   노동성 상 *후임 : 강영수             NaN   \n",
       "...              ...                               ...             ...   \n",
       "6590          8028.0                      희천정밀기계공장 지배인             NaN   \n",
       "6593          8040.0                     ｢민족화해협의회｣ 부회장             NaN   \n",
       "6595          8042.0                  ｢아시아태평양평화위원회｣ 참사             NaN   \n",
       "6596          8043.0                 ｢조국전선｣ 중앙위원회 공동의장             NaN   \n",
       "6597          8044.0             ｢조국통일범민족연합｣ 북측 본부 부의장             NaN   \n",
       "\n",
       "     CareerStartYear  CareerStartMonth          OrgString PositionString  \\\n",
       "2               1999               2.0                노동성              상   \n",
       "3               1998               9.0                노동성              상   \n",
       "4               2003               9.0                노동성              상   \n",
       "5               2009               4.0                노동성              상   \n",
       "6               1997              11.0                노동성              상   \n",
       "...              ...               ...                ...            ...   \n",
       "6590            1976               NaN           희천정밀기계공장            지배인   \n",
       "6593            1999              10.0         ｢민족화해협의회｣             부회장   \n",
       "6595            1999              11.0      ｢아시아태평양평화위원회｣             참사   \n",
       "6596            1991               8.0      ｢조국전선｣ 중앙위원회            공동즤아   \n",
       "6597            1999               8.0  ｢조국통일범민족연합｣ 북측 본부            부의장   \n",
       "\n",
       "     PrimaryInstitution OrgName Notes  \n",
       "2                    내각     노동성   NaN  \n",
       "3                    내각     노동성   NaN  \n",
       "4                    내각     노동성   NaN  \n",
       "5                    내각     노동성   NaN  \n",
       "6                    내각     노동성   NaN  \n",
       "...                 ...     ...   ...  \n",
       "6590           희천정밀기계공장     NaN   NaN  \n",
       "6593            민족화해협의회     NaN   NaN  \n",
       "6595      조선아시아태평양평화위원회     NaN   NaN  \n",
       "6596         조국통일민주주의전선   중앙위원회   NaN  \n",
       "6597      조국통일범민족연합북측본부     NaN   NaN  \n",
       "\n",
       "[5014 rows x 10 columns]"
      ]
     },
     "execution_count": 40,
     "metadata": {},
     "output_type": "execute_result"
    }
   ],
   "source": [
    "jol47"
   ]
  },
  {
   "cell_type": "markdown",
   "id": "3212913c",
   "metadata": {},
   "source": [
    "### export to tables"
   ]
  },
  {
   "cell_type": "code",
   "execution_count": 104,
   "id": "f3221f0f",
   "metadata": {},
   "outputs": [],
   "source": [
    "# export jol47 as joborglink table\n",
    "jol47.to_excel(path_tables+filename_joborglink,index=False)"
   ]
  },
  {
   "cell_type": "markdown",
   "id": "62653748",
   "metadata": {},
   "source": [
    "# create leaderjoblink - merge uncoded career with coded OrgString & dates"
   ]
  },
  {
   "cell_type": "code",
   "execution_count": 77,
   "id": "836d9b12",
   "metadata": {},
   "outputs": [],
   "source": [
    "# folder: 2.1 career_undivided_unparsed_uncoded\n",
    "    # file: career_link_undivided_unparsed_uncoded.xlsx\n",
    "        # note, many of these will not be jobs, e.g., award, death, marriage, education, funeral, visit"
   ]
  },
  {
   "cell_type": "code",
   "execution_count": null,
   "id": "5853c61e",
   "metadata": {},
   "outputs": [],
   "source": [
    "# single substring\n",
    "\n",
    "    # joborglink_2_substr_single_1tocode_4Mail_Lee\n",
    "\n",
    "# multiple substring\n",
    "\n",
    "    # joborglink_2_substr_multi2_1tocode_Mail_Lee"
   ]
  },
  {
   "cell_type": "markdown",
   "id": "2b8671cd",
   "metadata": {},
   "source": [
    "### paths & filenames of uncoded career with coded OrgString & dates"
   ]
  },
  {
   "cell_type": "code",
   "execution_count": 46,
   "id": "b5cf8013",
   "metadata": {},
   "outputs": [],
   "source": [
    "path_career = \"C:/Users/seoul/Dropbox/00 technical/github/nkelites/data/combined data/combined data - 1 cleaning/cleaning step 2 - career/2.1 career_undivided_unparsed_uncoded/\""
   ]
  },
  {
   "cell_type": "code",
   "execution_count": 47,
   "id": "897b72d5",
   "metadata": {},
   "outputs": [],
   "source": [
    "filein_career = \"career_link_undivided_unparsed_uncoded.xlsx\""
   ]
  },
  {
   "cell_type": "code",
   "execution_count": 48,
   "id": "1e393f84",
   "metadata": {},
   "outputs": [],
   "source": [
    "career = pd.read_excel(path_career+filein_career)"
   ]
  },
  {
   "cell_type": "code",
   "execution_count": 49,
   "id": "abd76109",
   "metadata": {},
   "outputs": [
    {
     "data": {
      "text/plain": [
       "Index(['LeaderID', 'CareerStringID_2015', 'CareerString',\n",
       "       'CareerDateString_2022'],\n",
       "      dtype='object')"
      ]
     },
     "execution_count": 49,
     "metadata": {},
     "output_type": "execute_result"
    }
   ],
   "source": [
    "career.columns"
   ]
  },
  {
   "cell_type": "code",
   "execution_count": 50,
   "id": "fe45415e",
   "metadata": {},
   "outputs": [
    {
     "data": {
      "text/html": [
       "<div>\n",
       "<style scoped>\n",
       "    .dataframe tbody tr th:only-of-type {\n",
       "        vertical-align: middle;\n",
       "    }\n",
       "\n",
       "    .dataframe tbody tr th {\n",
       "        vertical-align: top;\n",
       "    }\n",
       "\n",
       "    .dataframe thead th {\n",
       "        text-align: right;\n",
       "    }\n",
       "</style>\n",
       "<table border=\"1\" class=\"dataframe\">\n",
       "  <thead>\n",
       "    <tr style=\"text-align: right;\">\n",
       "      <th></th>\n",
       "      <th>LeaderID</th>\n",
       "      <th>CareerStringID_2015</th>\n",
       "      <th>CareerString</th>\n",
       "      <th>CareerDateString_2022</th>\n",
       "    </tr>\n",
       "  </thead>\n",
       "  <tbody>\n",
       "    <tr>\n",
       "      <th>0</th>\n",
       "      <td>장성택</td>\n",
       "      <td>1.0</td>\n",
       "      <td>1969. 모스크바 유학</td>\n",
       "      <td>NaN</td>\n",
       "    </tr>\n",
       "    <tr>\n",
       "      <th>1</th>\n",
       "      <td>장성택</td>\n",
       "      <td>2.0</td>\n",
       "      <td>1972. 김경희와 결혼</td>\n",
       "      <td>NaN</td>\n",
       "    </tr>\n",
       "    <tr>\n",
       "      <th>2</th>\n",
       "      <td>장성택</td>\n",
       "      <td>3.0</td>\n",
       "      <td>1982.10 당 청소년사업부 부부장</td>\n",
       "      <td>NaN</td>\n",
       "    </tr>\n",
       "    <tr>\n",
       "      <th>3</th>\n",
       "      <td>장성택</td>\n",
       "      <td>4.0</td>\n",
       "      <td>1985. 7 당 청소년사업부 제1부부장</td>\n",
       "      <td>NaN</td>\n",
       "    </tr>\n",
       "    <tr>\n",
       "      <th>4</th>\n",
       "      <td>장성택</td>\n",
       "      <td>5.0</td>\n",
       "      <td>1986.11 최고인민회의 제8기 대의원</td>\n",
       "      <td>NaN</td>\n",
       "    </tr>\n",
       "    <tr>\n",
       "      <th>...</th>\n",
       "      <td>...</td>\n",
       "      <td>...</td>\n",
       "      <td>...</td>\n",
       "      <td>...</td>\n",
       "    </tr>\n",
       "    <tr>\n",
       "      <th>12980</th>\n",
       "      <td>황학원</td>\n",
       "      <td>NaN</td>\n",
       "      <td>조선태권도협회 위원장</td>\n",
       "      <td>2009.09</td>\n",
       "    </tr>\n",
       "    <tr>\n",
       "      <th>12981</th>\n",
       "      <td>황학원</td>\n",
       "      <td>NaN</td>\n",
       "      <td>최고인민회의 제 12기 대의원</td>\n",
       "      <td>2009.04</td>\n",
       "    </tr>\n",
       "    <tr>\n",
       "      <th>12982</th>\n",
       "      <td>황학원</td>\n",
       "      <td>NaN</td>\n",
       "      <td>도시경영성 상(유임)</td>\n",
       "      <td>2009.04</td>\n",
       "    </tr>\n",
       "    <tr>\n",
       "      <th>12983</th>\n",
       "      <td>황학원</td>\n",
       "      <td>NaN</td>\n",
       "      <td>도시경영성 상 *전임 : 최종건 *후임 : 강영수</td>\n",
       "      <td>2008 ~ 2013.04</td>\n",
       "    </tr>\n",
       "    <tr>\n",
       "      <th>12984</th>\n",
       "      <td>황학원</td>\n",
       "      <td>NaN</td>\n",
       "      <td>조선건축가동맹 중앙위원회 부위원장</td>\n",
       "      <td>2005.12</td>\n",
       "    </tr>\n",
       "  </tbody>\n",
       "</table>\n",
       "<p>12985 rows × 4 columns</p>\n",
       "</div>"
      ],
      "text/plain": [
       "      LeaderID  CareerStringID_2015                 CareerString  \\\n",
       "0          장성택                  1.0                1969. 모스크바 유학   \n",
       "1          장성택                  2.0                1972. 김경희와 결혼   \n",
       "2          장성택                  3.0         1982.10 당 청소년사업부 부부장   \n",
       "3          장성택                  4.0       1985. 7 당 청소년사업부 제1부부장   \n",
       "4          장성택                  5.0       1986.11 최고인민회의 제8기 대의원   \n",
       "...        ...                  ...                          ...   \n",
       "12980      황학원                  NaN                  조선태권도협회 위원장   \n",
       "12981      황학원                  NaN             최고인민회의 제 12기 대의원   \n",
       "12982      황학원                  NaN                  도시경영성 상(유임)   \n",
       "12983      황학원                  NaN  도시경영성 상 *전임 : 최종건 *후임 : 강영수   \n",
       "12984      황학원                  NaN           조선건축가동맹 중앙위원회 부위원장   \n",
       "\n",
       "      CareerDateString_2022  \n",
       "0                       NaN  \n",
       "1                       NaN  \n",
       "2                       NaN  \n",
       "3                       NaN  \n",
       "4                       NaN  \n",
       "...                     ...  \n",
       "12980               2009.09  \n",
       "12981               2009.04  \n",
       "12982               2009.04  \n",
       "12983        2008 ~ 2013.04  \n",
       "12984               2005.12  \n",
       "\n",
       "[12985 rows x 4 columns]"
      ]
     },
     "execution_count": 50,
     "metadata": {},
     "output_type": "execute_result"
    }
   ],
   "source": [
    "career"
   ]
  },
  {
   "cell_type": "code",
   "execution_count": 58,
   "id": "5b592db0",
   "metadata": {},
   "outputs": [],
   "source": [
    "career_str_date = career[[\"CareerString\",\"CareerDateString_2022\"]].drop_duplicates()\n",
    "career_str_date.shape"
   ]
  },
  {
   "cell_type": "code",
   "execution_count": 62,
   "id": "01191f78",
   "metadata": {},
   "outputs": [],
   "source": [
    "career_str_date.sort_values([\"CareerString\",\"CareerDateString_2022\"],inplace=True)"
   ]
  },
  {
   "cell_type": "code",
   "execution_count": 63,
   "id": "57f4025a",
   "metadata": {},
   "outputs": [
    {
     "data": {
      "text/html": [
       "<div>\n",
       "<style scoped>\n",
       "    .dataframe tbody tr th:only-of-type {\n",
       "        vertical-align: middle;\n",
       "    }\n",
       "\n",
       "    .dataframe tbody tr th {\n",
       "        vertical-align: top;\n",
       "    }\n",
       "\n",
       "    .dataframe thead th {\n",
       "        text-align: right;\n",
       "    }\n",
       "</style>\n",
       "<table border=\"1\" class=\"dataframe\">\n",
       "  <thead>\n",
       "    <tr style=\"text-align: right;\">\n",
       "      <th></th>\n",
       "      <th>CareerString</th>\n",
       "      <th>CareerDateString_2022</th>\n",
       "    </tr>\n",
       "  </thead>\n",
       "  <tbody>\n",
       "    <tr>\n",
       "      <th>11035</th>\n",
       "      <td>&amp;lt;김일성 훈장&amp;gt; 수훈</td>\n",
       "      <td>1987.04</td>\n",
       "    </tr>\n",
       "    <tr>\n",
       "      <th>5717</th>\n",
       "      <td>&amp;lt;김일성 훈장&amp;gt; 수훈</td>\n",
       "      <td>1992.04</td>\n",
       "    </tr>\n",
       "    <tr>\n",
       "      <th>8403</th>\n",
       "      <td>&amp;lt;김일성 훈장&amp;gt; 수훈</td>\n",
       "      <td>2002.03</td>\n",
       "    </tr>\n",
       "    <tr>\n",
       "      <th>7111</th>\n",
       "      <td>&amp;lt;김일성 훈장&amp;gt; 수훈</td>\n",
       "      <td>2002.04</td>\n",
       "    </tr>\n",
       "    <tr>\n",
       "      <th>9212</th>\n",
       "      <td>&amp;lt;김일성 훈장&amp;gt; 수훈</td>\n",
       "      <td>2003.04</td>\n",
       "    </tr>\n",
       "    <tr>\n",
       "      <th>...</th>\n",
       "      <td>...</td>\n",
       "      <td>...</td>\n",
       "    </tr>\n",
       "    <tr>\n",
       "      <th>11121</th>\n",
       "      <td>화학공업상(유임)</td>\n",
       "      <td>2019.04</td>\n",
       "    </tr>\n",
       "    <tr>\n",
       "      <th>6192</th>\n",
       "      <td>황해남도 인민위원회 위원장</td>\n",
       "      <td>1999.06</td>\n",
       "    </tr>\n",
       "    <tr>\n",
       "      <th>10899</th>\n",
       "      <td>황해남도 인민위원회 위원장</td>\n",
       "      <td>2006.06 ~ 2012.03</td>\n",
       "    </tr>\n",
       "    <tr>\n",
       "      <th>6739</th>\n",
       "      <td>황해제철연합기업소 지배인</td>\n",
       "      <td>1987.11</td>\n",
       "    </tr>\n",
       "    <tr>\n",
       "      <th>6738</th>\n",
       "      <td>황해제철연합기업소 지배인</td>\n",
       "      <td>2000.07</td>\n",
       "    </tr>\n",
       "  </tbody>\n",
       "</table>\n",
       "<p>1411 rows × 2 columns</p>\n",
       "</div>"
      ],
      "text/plain": [
       "            CareerString CareerDateString_2022\n",
       "11035  &lt;김일성 훈장&gt; 수훈               1987.04\n",
       "5717   &lt;김일성 훈장&gt; 수훈               1992.04\n",
       "8403   &lt;김일성 훈장&gt; 수훈               2002.03\n",
       "7111   &lt;김일성 훈장&gt; 수훈               2002.04\n",
       "9212   &lt;김일성 훈장&gt; 수훈               2003.04\n",
       "...                  ...                   ...\n",
       "11121          화학공업상(유임)               2019.04\n",
       "6192      황해남도 인민위원회 위원장               1999.06\n",
       "10899     황해남도 인민위원회 위원장     2006.06 ~ 2012.03\n",
       "6739       황해제철연합기업소 지배인               1987.11\n",
       "6738       황해제철연합기업소 지배인               2000.07\n",
       "\n",
       "[1411 rows x 2 columns]"
      ]
     },
     "execution_count": 63,
     "metadata": {},
     "output_type": "execute_result"
    }
   ],
   "source": [
    "career_str_date[career_str_date.duplicated(\"CareerString\",keep=False)]"
   ]
  },
  {
   "cell_type": "code",
   "execution_count": null,
   "id": "7698f631",
   "metadata": {},
   "outputs": [],
   "source": []
  },
  {
   "cell_type": "code",
   "execution_count": 67,
   "id": "0d8cceb6",
   "metadata": {},
   "outputs": [],
   "source": [
    "path_coded = path_joborglink"
   ]
  },
  {
   "cell_type": "code",
   "execution_count": 68,
   "id": "ea827aff",
   "metadata": {},
   "outputs": [],
   "source": [
    "filein_singlesub = \"joborglink_2_substr_single_1tocode_4Mail_Lee.xlsx\""
   ]
  },
  {
   "cell_type": "code",
   "execution_count": 69,
   "id": "9d58e828",
   "metadata": {},
   "outputs": [],
   "source": [
    "filein_multiplesub = \"joborglink_2_substr_multi2_1tocode_Mail_Lee.xlsx\""
   ]
  },
  {
   "cell_type": "code",
   "execution_count": 71,
   "id": "e125b17c",
   "metadata": {},
   "outputs": [],
   "source": [
    "singlesub = pd.read_excel(path_coded+filein_singlesub)"
   ]
  },
  {
   "cell_type": "code",
   "execution_count": 72,
   "id": "5269e0aa",
   "metadata": {},
   "outputs": [],
   "source": [
    "multiplesub = pd.read_excel(path_coded+filein_multiplesub)"
   ]
  },
  {
   "cell_type": "code",
   "execution_count": 73,
   "id": "0ae8a4ec",
   "metadata": {},
   "outputs": [
    {
     "data": {
      "text/plain": [
       "Index(['CareerStringID', 'MultipleSubstrings', 'NotJob', 'CareerString',\n",
       "       'CareerDateString_2022', 'CareerStartYear', 'CareerStartMonth',\n",
       "       'OrgString', 'PositionString'],\n",
       "      dtype='object')"
      ]
     },
     "execution_count": 73,
     "metadata": {},
     "output_type": "execute_result"
    }
   ],
   "source": [
    "singlesub.columns"
   ]
  },
  {
   "cell_type": "code",
   "execution_count": 74,
   "id": "91541460",
   "metadata": {},
   "outputs": [
    {
     "data": {
      "text/plain": [
       "Index(['CareerStringID', 'CareerDateString_2022', 'MultipleSubstrings',\n",
       "       'CareerString', 'CareerStartYear', 'CareerStartMonth',\n",
       "       'CareerSubstring', 'OrgString', 'PositionString', 'Notes', 'NotJob'],\n",
       "      dtype='object')"
      ]
     },
     "execution_count": 74,
     "metadata": {},
     "output_type": "execute_result"
    }
   ],
   "source": [
    "multiplesub.columns"
   ]
  },
  {
   "cell_type": "code",
   "execution_count": 92,
   "id": "6315cddf",
   "metadata": {},
   "outputs": [],
   "source": [
    "columns_common = ['CareerString','CareerDateString_2022', 'CareerStartYear', 'CareerStartMonth','MultipleSubstrings','OrgString', 'PositionString']"
   ]
  },
  {
   "cell_type": "code",
   "execution_count": 93,
   "id": "063ec939",
   "metadata": {},
   "outputs": [
    {
     "data": {
      "text/plain": [
       "7653"
      ]
     },
     "execution_count": 93,
     "metadata": {},
     "output_type": "execute_result"
    }
   ],
   "source": [
    "singlesub = singlesub[columns_common]\n",
    "multiplesub = multiplesub[columns_common]\n",
    "singlesub.shape[0] + multiplesub.shape[0]"
   ]
  },
  {
   "cell_type": "code",
   "execution_count": 94,
   "id": "2737a7fa",
   "metadata": {},
   "outputs": [
    {
     "data": {
      "text/plain": [
       "7653"
      ]
     },
     "execution_count": 94,
     "metadata": {},
     "output_type": "execute_result"
    }
   ],
   "source": [
    "sub = pd.concat([singlesub,multiplesub])\n",
    "sub.shape[0]"
   ]
  },
  {
   "cell_type": "code",
   "execution_count": 95,
   "id": "fa1b8e8d",
   "metadata": {},
   "outputs": [
    {
     "data": {
      "text/plain": [
       "Index(['LeaderID', 'CareerString', 'CareerDateString_2022'], dtype='object')"
      ]
     },
     "execution_count": 95,
     "metadata": {},
     "output_type": "execute_result"
    }
   ],
   "source": [
    "career.columns"
   ]
  },
  {
   "cell_type": "code",
   "execution_count": 96,
   "id": "cd6098a7",
   "metadata": {},
   "outputs": [],
   "source": [
    "columns_career = ['LeaderID', 'CareerString','CareerDateString_2022']\n",
    "career = career[columns_career]"
   ]
  },
  {
   "cell_type": "code",
   "execution_count": 97,
   "id": "f2bfbb9f",
   "metadata": {},
   "outputs": [],
   "source": [
    "leaderjoblink = career.merge(sub,how=\"inner\",on=[\"CareerString\",\"CareerDateString_2022\"])"
   ]
  },
  {
   "cell_type": "code",
   "execution_count": 98,
   "id": "7167297b",
   "metadata": {},
   "outputs": [
    {
     "data": {
      "text/plain": [
       "(11632, 8)"
      ]
     },
     "execution_count": 98,
     "metadata": {},
     "output_type": "execute_result"
    }
   ],
   "source": [
    "leaderjoblink.shape"
   ]
  },
  {
   "cell_type": "code",
   "execution_count": 99,
   "id": "dfddddf5",
   "metadata": {},
   "outputs": [
    {
     "data": {
      "text/html": [
       "<div>\n",
       "<style scoped>\n",
       "    .dataframe tbody tr th:only-of-type {\n",
       "        vertical-align: middle;\n",
       "    }\n",
       "\n",
       "    .dataframe tbody tr th {\n",
       "        vertical-align: top;\n",
       "    }\n",
       "\n",
       "    .dataframe thead th {\n",
       "        text-align: right;\n",
       "    }\n",
       "</style>\n",
       "<table border=\"1\" class=\"dataframe\">\n",
       "  <thead>\n",
       "    <tr style=\"text-align: right;\">\n",
       "      <th></th>\n",
       "      <th>LeaderID</th>\n",
       "      <th>CareerString</th>\n",
       "      <th>CareerDateString_2022</th>\n",
       "      <th>CareerStartYear</th>\n",
       "      <th>CareerStartMonth</th>\n",
       "      <th>MultipleSubstrings</th>\n",
       "      <th>OrgString</th>\n",
       "      <th>PositionString</th>\n",
       "    </tr>\n",
       "  </thead>\n",
       "  <tbody>\n",
       "    <tr>\n",
       "      <th>0</th>\n",
       "      <td>장성택</td>\n",
       "      <td>1982.10 당 청소년사업부 부부장</td>\n",
       "      <td>NaN</td>\n",
       "      <td>1982</td>\n",
       "      <td>10.0</td>\n",
       "      <td>NaN</td>\n",
       "      <td>당 청소년사업부</td>\n",
       "      <td>부부장</td>\n",
       "    </tr>\n",
       "    <tr>\n",
       "      <th>1</th>\n",
       "      <td>장성택</td>\n",
       "      <td>1985. 7 당 청소년사업부 제1부부장</td>\n",
       "      <td>NaN</td>\n",
       "      <td>1985</td>\n",
       "      <td>7.0</td>\n",
       "      <td>NaN</td>\n",
       "      <td>당 청소년사업부 제1부</td>\n",
       "      <td>부장</td>\n",
       "    </tr>\n",
       "    <tr>\n",
       "      <th>2</th>\n",
       "      <td>장성택</td>\n",
       "      <td>1986.11 최고인민회의 제8기 대의원</td>\n",
       "      <td>NaN</td>\n",
       "      <td>1986</td>\n",
       "      <td>11.0</td>\n",
       "      <td>NaN</td>\n",
       "      <td>최고인민회의 제8기</td>\n",
       "      <td>대의원</td>\n",
       "    </tr>\n",
       "    <tr>\n",
       "      <th>3</th>\n",
       "      <td>김철만</td>\n",
       "      <td>1986.11 최고인민회의 제8기 대의원</td>\n",
       "      <td>NaN</td>\n",
       "      <td>1986</td>\n",
       "      <td>11.0</td>\n",
       "      <td>NaN</td>\n",
       "      <td>최고인민회의 제8기</td>\n",
       "      <td>대의원</td>\n",
       "    </tr>\n",
       "    <tr>\n",
       "      <th>4</th>\n",
       "      <td>김영남</td>\n",
       "      <td>1986.11 최고인민회의 제8기 대의원</td>\n",
       "      <td>NaN</td>\n",
       "      <td>1986</td>\n",
       "      <td>11.0</td>\n",
       "      <td>NaN</td>\n",
       "      <td>최고인민회의 제8기</td>\n",
       "      <td>대의원</td>\n",
       "    </tr>\n",
       "    <tr>\n",
       "      <th>...</th>\n",
       "      <td>...</td>\n",
       "      <td>...</td>\n",
       "      <td>...</td>\n",
       "      <td>...</td>\n",
       "      <td>...</td>\n",
       "      <td>...</td>\n",
       "      <td>...</td>\n",
       "      <td>...</td>\n",
       "    </tr>\n",
       "    <tr>\n",
       "      <th>11627</th>\n",
       "      <td>황학원</td>\n",
       "      <td>도시경영상에서 해임 * 후임: 강영수</td>\n",
       "      <td>2013.04</td>\n",
       "      <td>2013</td>\n",
       "      <td>4.0</td>\n",
       "      <td>NaN</td>\n",
       "      <td>도시경영</td>\n",
       "      <td>상</td>\n",
       "    </tr>\n",
       "    <tr>\n",
       "      <th>11628</th>\n",
       "      <td>황학원</td>\n",
       "      <td>조선태권도협회 위원장</td>\n",
       "      <td>2009.09</td>\n",
       "      <td>2009</td>\n",
       "      <td>9.0</td>\n",
       "      <td>NaN</td>\n",
       "      <td>조선태권도협회</td>\n",
       "      <td>위원장</td>\n",
       "    </tr>\n",
       "    <tr>\n",
       "      <th>11629</th>\n",
       "      <td>황학원</td>\n",
       "      <td>도시경영성 상(유임)</td>\n",
       "      <td>2009.04</td>\n",
       "      <td>2009</td>\n",
       "      <td>4.0</td>\n",
       "      <td>NaN</td>\n",
       "      <td>도시경여성</td>\n",
       "      <td>상</td>\n",
       "    </tr>\n",
       "    <tr>\n",
       "      <th>11630</th>\n",
       "      <td>황학원</td>\n",
       "      <td>도시경영성 상 *전임 : 최종건 *후임 : 강영수</td>\n",
       "      <td>2008 ~ 2013.04</td>\n",
       "      <td>2008</td>\n",
       "      <td>NaN</td>\n",
       "      <td>NaN</td>\n",
       "      <td>도시경영성</td>\n",
       "      <td>상</td>\n",
       "    </tr>\n",
       "    <tr>\n",
       "      <th>11631</th>\n",
       "      <td>황학원</td>\n",
       "      <td>조선건축가동맹 중앙위원회 부위원장</td>\n",
       "      <td>2005.12</td>\n",
       "      <td>2005</td>\n",
       "      <td>12.0</td>\n",
       "      <td>NaN</td>\n",
       "      <td>조선건축가동맹 중앙위원회</td>\n",
       "      <td>부위원장</td>\n",
       "    </tr>\n",
       "  </tbody>\n",
       "</table>\n",
       "<p>11632 rows × 8 columns</p>\n",
       "</div>"
      ],
      "text/plain": [
       "      LeaderID                 CareerString CareerDateString_2022  \\\n",
       "0          장성택         1982.10 당 청소년사업부 부부장                   NaN   \n",
       "1          장성택       1985. 7 당 청소년사업부 제1부부장                   NaN   \n",
       "2          장성택       1986.11 최고인민회의 제8기 대의원                   NaN   \n",
       "3          김철만       1986.11 최고인민회의 제8기 대의원                   NaN   \n",
       "4          김영남       1986.11 최고인민회의 제8기 대의원                   NaN   \n",
       "...        ...                          ...                   ...   \n",
       "11627      황학원         도시경영상에서 해임 * 후임: 강영수               2013.04   \n",
       "11628      황학원                  조선태권도협회 위원장               2009.09   \n",
       "11629      황학원                  도시경영성 상(유임)               2009.04   \n",
       "11630      황학원  도시경영성 상 *전임 : 최종건 *후임 : 강영수        2008 ~ 2013.04   \n",
       "11631      황학원           조선건축가동맹 중앙위원회 부위원장               2005.12   \n",
       "\n",
       "      CareerStartYear  CareerStartMonth  MultipleSubstrings      OrgString  \\\n",
       "0                1982              10.0                 NaN       당 청소년사업부   \n",
       "1                1985               7.0                 NaN   당 청소년사업부 제1부   \n",
       "2                1986              11.0                 NaN     최고인민회의 제8기   \n",
       "3                1986              11.0                 NaN     최고인민회의 제8기   \n",
       "4                1986              11.0                 NaN     최고인민회의 제8기   \n",
       "...               ...               ...                 ...            ...   \n",
       "11627            2013               4.0                 NaN           도시경영   \n",
       "11628            2009               9.0                 NaN        조선태권도협회   \n",
       "11629            2009               4.0                 NaN          도시경여성   \n",
       "11630            2008               NaN                 NaN          도시경영성   \n",
       "11631            2005              12.0                 NaN  조선건축가동맹 중앙위원회   \n",
       "\n",
       "      PositionString  \n",
       "0                부부장  \n",
       "1                 부장  \n",
       "2                대의원  \n",
       "3                대의원  \n",
       "4                대의원  \n",
       "...              ...  \n",
       "11627              상  \n",
       "11628            위원장  \n",
       "11629              상  \n",
       "11630              상  \n",
       "11631           부위원장  \n",
       "\n",
       "[11632 rows x 8 columns]"
      ]
     },
     "execution_count": 99,
     "metadata": {},
     "output_type": "execute_result"
    }
   ],
   "source": [
    "leaderjoblink"
   ]
  },
  {
   "cell_type": "markdown",
   "id": "a354a8c6",
   "metadata": {},
   "source": [
    "### export to tables"
   ]
  },
  {
   "cell_type": "code",
   "execution_count": 105,
   "id": "89b98e0a",
   "metadata": {},
   "outputs": [],
   "source": [
    "# export leaderjoblink as leaderjoblink table\n",
    "leaderjoblink.to_excel(path_tables+filename_leaderjoblink,index=False)"
   ]
  },
  {
   "cell_type": "code",
   "execution_count": null,
   "id": "4a2ebca2",
   "metadata": {},
   "outputs": [],
   "source": []
  }
 ],
 "metadata": {
  "kernelspec": {
   "display_name": "Python 3 (ipykernel)",
   "language": "python",
   "name": "python3"
  },
  "language_info": {
   "codemirror_mode": {
    "name": "ipython",
    "version": 3
   },
   "file_extension": ".py",
   "mimetype": "text/x-python",
   "name": "python",
   "nbconvert_exporter": "python",
   "pygments_lexer": "ipython3",
   "version": "3.11.0"
  }
 },
 "nbformat": 4,
 "nbformat_minor": 5
}
