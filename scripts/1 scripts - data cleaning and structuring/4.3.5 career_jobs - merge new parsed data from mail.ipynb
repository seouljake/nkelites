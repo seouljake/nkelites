{
 "cells": [
  {
   "cell_type": "markdown",
   "metadata": {},
   "source": [
    "# libraries & global vars"
   ]
  },
  {
   "cell_type": "code",
   "execution_count": 1,
   "metadata": {},
   "outputs": [],
   "source": [
    "import pandas as pd\n",
    "import numpy as np\n",
    "pd.set_option('display.max_rows', None)"
   ]
  },
  {
   "cell_type": "markdown",
   "metadata": {},
   "source": [
    "# io job_str"
   ]
  },
  {
   "cell_type": "code",
   "execution_count": 2,
   "metadata": {},
   "outputs": [],
   "source": [
    "path_job_str = \"C:/Users/seoul/Dropbox/00 technical/github/nkelites/data/combined data/combined data - 1 cleaning/cleaning step 4 - career/4.3.1 jobs/\""
   ]
  },
  {
   "cell_type": "code",
   "execution_count": 17,
   "metadata": {},
   "outputs": [],
   "source": [
    "# filein_job_str = \"job_str_2_substr_multi.xlsx\"\n",
    "# filein_job_str_1tocode = \"job_str_2_substr_single_1tocode.xlsx\""
   ]
  },
  {
   "cell_type": "code",
   "execution_count": 20,
   "metadata": {},
   "outputs": [],
   "source": [
    "#filein_job_str_2esther1 = \"job_str_2_substr_single_2esther1.xlsx\"\n",
    "#filein_job_str_2esther2 = \"job_str_2_substr_single_2esther1.xlsx\"\n",
    "#filein_job_str_2jeongsu = \"job_str_2_substr_single_2esther1.xlsx\""
   ]
  },
  {
   "cell_type": "code",
   "execution_count": 3,
   "metadata": {},
   "outputs": [],
   "source": [
    "filein_job_str_single_mail = \"job_str_2_substr_single_1tocode_4Mail_Lee.xlsx\"\n",
    "filein_job_str_multi_mail = \"job_str_2_substr_multi_expanded_2tocode_2Jacob.xlsx\""
   ]
  },
  {
   "cell_type": "code",
   "execution_count": 4,
   "metadata": {},
   "outputs": [],
   "source": [
    "fileout_job_str = \"job_str_3_parsed.xlsx\""
   ]
  },
  {
   "cell_type": "markdown",
   "metadata": {},
   "source": [
    "# import newly parsed unique & multi strings"
   ]
  },
  {
   "cell_type": "code",
   "execution_count": 11,
   "metadata": {},
   "outputs": [],
   "source": [
    "job_str = pd.read_excel(path_job_str+filein_job_str_1tocode,dtype=\"str\")\n",
    "job_str_single = pd.read_excel(path_job_str+filein_job_str_single_mail,dtype=\"str\")\n",
    "job_str_multi = pd.read_excel(path_job_str+filein_job_str_multi_mail,dtype=\"str\")"
   ]
  },
  {
   "cell_type": "code",
   "execution_count": 12,
   "metadata": {},
   "outputs": [
    {
     "data": {
      "text/plain": [
       "(7284, 14)"
      ]
     },
     "execution_count": 12,
     "metadata": {},
     "output_type": "execute_result"
    }
   ],
   "source": [
    "job_str.shape"
   ]
  },
  {
   "cell_type": "code",
   "execution_count": null,
   "metadata": {},
   "outputs": [],
   "source": []
  },
  {
   "cell_type": "code",
   "execution_count": 204,
   "metadata": {},
   "outputs": [],
   "source": [
    "#job_str.drop(columns=[\"CareerSubstringID\"],inplace=True)"
   ]
  },
  {
   "cell_type": "code",
   "execution_count": null,
   "metadata": {},
   "outputs": [],
   "source": []
  },
  {
   "cell_type": "markdown",
   "metadata": {},
   "source": [
    "# job strings have not been parsed in job_str db"
   ]
  },
  {
   "cell_type": "code",
   "execution_count": 14,
   "metadata": {},
   "outputs": [
    {
     "data": {
      "text/html": [
       "<div>\n",
       "<style scoped>\n",
       "    .dataframe tbody tr th:only-of-type {\n",
       "        vertical-align: middle;\n",
       "    }\n",
       "\n",
       "    .dataframe tbody tr th {\n",
       "        vertical-align: top;\n",
       "    }\n",
       "\n",
       "    .dataframe thead th {\n",
       "        text-align: right;\n",
       "    }\n",
       "</style>\n",
       "<table border=\"1\" class=\"dataframe\">\n",
       "  <thead>\n",
       "    <tr style=\"text-align: right;\">\n",
       "      <th></th>\n",
       "      <th>Unnamed: 0</th>\n",
       "      <th>CareerString</th>\n",
       "      <th>CareerDateString_2022</th>\n",
       "      <th>CareerStartYear</th>\n",
       "      <th>CareerStartMonth</th>\n",
       "      <th>MultipleSubstrings</th>\n",
       "      <th>CareerSubstringID</th>\n",
       "      <th>CareerSubstring</th>\n",
       "      <th>OrgString</th>\n",
       "      <th>PositionString</th>\n",
       "      <th>OrgID</th>\n",
       "      <th>OrgName</th>\n",
       "      <th>PositionID</th>\n",
       "      <th>PositionName</th>\n",
       "      <th>IsDemoted</th>\n",
       "      <th>IsSchool</th>\n",
       "    </tr>\n",
       "  </thead>\n",
       "  <tbody>\n",
       "    <tr>\n",
       "      <th>0</th>\n",
       "      <td>899</td>\n",
       "      <td>‘조국광복회’ 조직</td>\n",
       "      <td>1936.05</td>\n",
       "      <td>1936</td>\n",
       "      <td>5</td>\n",
       "      <td>NaN</td>\n",
       "      <td>3490</td>\n",
       "      <td>NaN</td>\n",
       "      <td>‘조국광복회’</td>\n",
       "      <td>조직</td>\n",
       "      <td>NaN</td>\n",
       "      <td>NaN</td>\n",
       "      <td>NaN</td>\n",
       "      <td>NaN</td>\n",
       "      <td>NaN</td>\n",
       "      <td>NaN</td>\n",
       "    </tr>\n",
       "    <tr>\n",
       "      <th>1</th>\n",
       "      <td>1367</td>\n",
       "      <td>(前)국무위원회 위원</td>\n",
       "      <td>연도미상</td>\n",
       "      <td>NaN</td>\n",
       "      <td>NaN</td>\n",
       "      <td>NaN</td>\n",
       "      <td>31</td>\n",
       "      <td>NaN</td>\n",
       "      <td>(前)국무회</td>\n",
       "      <td>위원</td>\n",
       "      <td>NaN</td>\n",
       "      <td>NaN</td>\n",
       "      <td>NaN</td>\n",
       "      <td>NaN</td>\n",
       "      <td>NaN</td>\n",
       "      <td>NaN</td>\n",
       "    </tr>\n",
       "    <tr>\n",
       "      <th>2</th>\n",
       "      <td>1368</td>\n",
       "      <td>(前)당 비서국 비서</td>\n",
       "      <td>2021.01</td>\n",
       "      <td>2021</td>\n",
       "      <td>1</td>\n",
       "      <td>NaN</td>\n",
       "      <td>33</td>\n",
       "      <td>NaN</td>\n",
       "      <td>(前)당 국</td>\n",
       "      <td>비서</td>\n",
       "      <td>NaN</td>\n",
       "      <td>NaN</td>\n",
       "      <td>NaN</td>\n",
       "      <td>NaN</td>\n",
       "      <td>NaN</td>\n",
       "      <td>NaN</td>\n",
       "    </tr>\n",
       "    <tr>\n",
       "      <th>3</th>\n",
       "      <td>1960</td>\n",
       "      <td>(前)당 군수공업부 부장</td>\n",
       "      <td>연도미상</td>\n",
       "      <td>NaN</td>\n",
       "      <td>NaN</td>\n",
       "      <td>NaN</td>\n",
       "      <td>32</td>\n",
       "      <td>NaN</td>\n",
       "      <td>(前)당 군수공업부</td>\n",
       "      <td>부장</td>\n",
       "      <td>NaN</td>\n",
       "      <td>NaN</td>\n",
       "      <td>NaN</td>\n",
       "      <td>NaN</td>\n",
       "      <td>NaN</td>\n",
       "      <td>NaN</td>\n",
       "    </tr>\n",
       "    <tr>\n",
       "      <th>4</th>\n",
       "      <td>1369</td>\n",
       "      <td>(前)당 정치국 위원</td>\n",
       "      <td>2021.01</td>\n",
       "      <td>2021</td>\n",
       "      <td>1</td>\n",
       "      <td>NaN</td>\n",
       "      <td>35</td>\n",
       "      <td>NaN</td>\n",
       "      <td>(前)당 정치국</td>\n",
       "      <td>위원</td>\n",
       "      <td>NaN</td>\n",
       "      <td>NaN</td>\n",
       "      <td>NaN</td>\n",
       "      <td>NaN</td>\n",
       "      <td>NaN</td>\n",
       "      <td>NaN</td>\n",
       "    </tr>\n",
       "  </tbody>\n",
       "</table>\n",
       "</div>"
      ],
      "text/plain": [
       "  Unnamed: 0   CareerString CareerDateString_2022 CareerStartYear  \\\n",
       "0        899     ‘조국광복회’ 조직               1936.05            1936   \n",
       "1       1367    (前)국무위원회 위원                  연도미상             NaN   \n",
       "2       1368    (前)당 비서국 비서               2021.01            2021   \n",
       "3       1960  (前)당 군수공업부 부장                  연도미상             NaN   \n",
       "4       1369    (前)당 정치국 위원               2021.01            2021   \n",
       "\n",
       "  CareerStartMonth MultipleSubstrings CareerSubstringID CareerSubstring  \\\n",
       "0                5                NaN              3490             NaN   \n",
       "1              NaN                NaN                31             NaN   \n",
       "2                1                NaN                33             NaN   \n",
       "3              NaN                NaN                32             NaN   \n",
       "4                1                NaN                35             NaN   \n",
       "\n",
       "     OrgString PositionString OrgID OrgName PositionID PositionName IsDemoted  \\\n",
       "0     ‘조국광복회’              조직   NaN     NaN        NaN          NaN       NaN   \n",
       "1      (前)국무회              위원   NaN     NaN        NaN          NaN       NaN   \n",
       "2      (前)당 국              비서   NaN     NaN        NaN          NaN       NaN   \n",
       "3  (前)당 군수공업부              부장   NaN     NaN        NaN          NaN       NaN   \n",
       "4    (前)당 정치국              위원   NaN     NaN        NaN          NaN       NaN   \n",
       "\n",
       "  IsSchool  \n",
       "0      NaN  \n",
       "1      NaN  \n",
       "2      NaN  \n",
       "3      NaN  \n",
       "4      NaN  "
      ]
     },
     "execution_count": 14,
     "metadata": {},
     "output_type": "execute_result"
    }
   ],
   "source": [
    "job_str_esther1[0:5]"
   ]
  },
  {
   "cell_type": "markdown",
   "metadata": {},
   "source": [
    "# export fully parsed job_str db"
   ]
  },
  {
   "cell_type": "code",
   "execution_count": null,
   "metadata": {},
   "outputs": [],
   "source": []
  }
 ],
 "metadata": {
  "kernelspec": {
   "display_name": "Python 3",
   "language": "python",
   "name": "python3"
  },
  "language_info": {
   "codemirror_mode": {
    "name": "ipython",
    "version": 3
   },
   "file_extension": ".py",
   "mimetype": "text/x-python",
   "name": "python",
   "nbconvert_exporter": "python",
   "pygments_lexer": "ipython3",
   "version": "3.7.3"
  }
 },
 "nbformat": 4,
 "nbformat_minor": 4
}
