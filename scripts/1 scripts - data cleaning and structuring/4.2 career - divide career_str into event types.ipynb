{
 "cells": [
  {
   "cell_type": "markdown",
   "metadata": {},
   "source": [
    "# libraries & global vars"
   ]
  },
  {
   "cell_type": "code",
   "execution_count": 1,
   "metadata": {},
   "outputs": [],
   "source": [
    "import pandas as pd\n",
    "import numpy as np\n",
    "pd.set_option('display.max_rows', None)"
   ]
  },
  {
   "cell_type": "markdown",
   "metadata": {},
   "source": [
    "# output path for divided career"
   ]
  },
  {
   "cell_type": "code",
   "execution_count": 2,
   "metadata": {},
   "outputs": [],
   "source": [
    "pathin_career_undivided = \"C:/Users/seoul/Dropbox/00 technical/github/nkelites/data/combined data/combined data - 1 cleaning/cleaning step 4 - career/4.1 career_undivided_unparsed_uncoded/\"\n",
    "pathout_career_divided = \"C:/Users/seoul/Dropbox/00 technical/github/nkelites/data/combined data/combined data - 1 cleaning/cleaning step 4 - career/4.2 career_divided_unparsed_uncoded/\""
   ]
  },
  {
   "cell_type": "markdown",
   "metadata": {},
   "source": [
    "# import career_str"
   ]
  },
  {
   "cell_type": "code",
   "execution_count": 3,
   "metadata": {},
   "outputs": [],
   "source": [
    "career_str = pd.read_excel(pathin_career_undivided+\"career_str_undivided_unparsed_uncoded.xlsx\",dtype=\"str\")"
   ]
  },
  {
   "cell_type": "code",
   "execution_count": 4,
   "metadata": {},
   "outputs": [
    {
     "data": {
      "text/plain": [
       "(8045, 3)"
      ]
     },
     "execution_count": 4,
     "metadata": {},
     "output_type": "execute_result"
    }
   ],
   "source": [
    "career_str.shape"
   ]
  },
  {
   "cell_type": "markdown",
   "metadata": {},
   "source": [
    "# break out 국가장의위원회 - don't appear to be any joint appts with this"
   ]
  },
  {
   "cell_type": "code",
   "execution_count": 5,
   "metadata": {},
   "outputs": [],
   "source": [
    "career_str_funeral = career_str[career_str.CareerString.str.contains(\"국가장의위원회\")]"
   ]
  },
  {
   "cell_type": "code",
   "execution_count": 6,
   "metadata": {},
   "outputs": [
    {
     "data": {
      "text/plain": [
       "(92, 3)"
      ]
     },
     "execution_count": 6,
     "metadata": {},
     "output_type": "execute_result"
    }
   ],
   "source": [
    "career_str_funeral.shape"
   ]
  },
  {
   "cell_type": "code",
   "execution_count": 7,
   "metadata": {},
   "outputs": [],
   "source": [
    "# export career_str_funeral to unparsed_uncoded folder\n",
    "career_str_funeral.to_excel(pathout_career_divided+\"career_funeral_unparsed_uncoded.xlsx\",index=False,encoding=\"utf-8\")"
   ]
  },
  {
   "cell_type": "code",
   "execution_count": 8,
   "metadata": {},
   "outputs": [],
   "source": [
    "# extract funeral from remaining career\n",
    "career_str = career_str[~career_str.CareerString.isin(career_str_funeral.CareerString)]"
   ]
  },
  {
   "cell_type": "code",
   "execution_count": 9,
   "metadata": {},
   "outputs": [
    {
     "data": {
      "text/plain": [
       "(7953, 3)"
      ]
     },
     "execution_count": 9,
     "metadata": {},
     "output_type": "execute_result"
    }
   ],
   "source": [
    "career_str.shape"
   ]
  },
  {
   "cell_type": "markdown",
   "metadata": {},
   "source": [
    "# break out education: 유학, 전공, 절업"
   ]
  },
  {
   "cell_type": "code",
   "execution_count": 10,
   "metadata": {},
   "outputs": [],
   "source": [
    "career_str_education = career_str[career_str.CareerString.str.contains(\"유학\") | career_str.CareerString.str.contains(\"전공\") | career_str.CareerString.str.contains(\"절업\")]"
   ]
  },
  {
   "cell_type": "code",
   "execution_count": 11,
   "metadata": {},
   "outputs": [],
   "source": [
    "# export career_str_abroad to unparsed_uncoded folder\n",
    "career_str_education.to_excel(pathout_career_divided+\"career_education_unparsed_uncoded.xlsx\",index=False,encoding=\"utf-8\")"
   ]
  },
  {
   "cell_type": "code",
   "execution_count": 12,
   "metadata": {},
   "outputs": [
    {
     "data": {
      "text/html": [
       "<div>\n",
       "<style scoped>\n",
       "    .dataframe tbody tr th:only-of-type {\n",
       "        vertical-align: middle;\n",
       "    }\n",
       "\n",
       "    .dataframe tbody tr th {\n",
       "        vertical-align: top;\n",
       "    }\n",
       "\n",
       "    .dataframe thead th {\n",
       "        text-align: right;\n",
       "    }\n",
       "</style>\n",
       "<table border=\"1\" class=\"dataframe\">\n",
       "  <thead>\n",
       "    <tr style=\"text-align: right;\">\n",
       "      <th></th>\n",
       "      <th>CareerString</th>\n",
       "      <th>CareerDateString_2022</th>\n",
       "      <th>CareerStringID</th>\n",
       "    </tr>\n",
       "  </thead>\n",
       "  <tbody>\n",
       "    <tr>\n",
       "      <th>141</th>\n",
       "      <td>1950.～52. 러시아 공군대학 유학, 귀국</td>\n",
       "      <td>NaN</td>\n",
       "      <td>141</td>\n",
       "    </tr>\n",
       "    <tr>\n",
       "      <th>146</th>\n",
       "      <td>1951.~57. 루마니아 유학 연도미상 당 조직지도부, 과학교육부, 기계공업부 등...</td>\n",
       "      <td>NaN</td>\n",
       "      <td>146</td>\n",
       "    </tr>\n",
       "    <tr>\n",
       "      <th>162</th>\n",
       "      <td>1953. 모스크바대학(외교학 전공)</td>\n",
       "      <td>NaN</td>\n",
       "      <td>162</td>\n",
       "    </tr>\n",
       "    <tr>\n",
       "      <th>282</th>\n",
       "      <td>1962. 소련 프룬제군사대학 유학</td>\n",
       "      <td>NaN</td>\n",
       "      <td>282</td>\n",
       "    </tr>\n",
       "    <tr>\n",
       "      <th>283</th>\n",
       "      <td>1962. 소련 해군대학 유학</td>\n",
       "      <td>NaN</td>\n",
       "      <td>283</td>\n",
       "    </tr>\n",
       "    <tr>\n",
       "      <th>399</th>\n",
       "      <td>1969. 모스크바 유학</td>\n",
       "      <td>NaN</td>\n",
       "      <td>399</td>\n",
       "    </tr>\n",
       "    <tr>\n",
       "      <th>4315</th>\n",
       "      <td>김일성종합대학, 체코 프라하공대(기계공학 전공)</td>\n",
       "      <td>연도미상</td>\n",
       "      <td>4315</td>\n",
       "    </tr>\n",
       "    <tr>\n",
       "      <th>5292</th>\n",
       "      <td>러시아 공군대학 유학, 귀국</td>\n",
       "      <td>1950 ~ 1952</td>\n",
       "      <td>5292</td>\n",
       "    </tr>\n",
       "    <tr>\n",
       "      <th>5305</th>\n",
       "      <td>루마니아 유학</td>\n",
       "      <td>1951 ~ 1957</td>\n",
       "      <td>5305</td>\n",
       "    </tr>\n",
       "    <tr>\n",
       "      <th>5306</th>\n",
       "      <td>루마니아 유학</td>\n",
       "      <td>연도미상</td>\n",
       "      <td>5306</td>\n",
       "    </tr>\n",
       "    <tr>\n",
       "      <th>5341</th>\n",
       "      <td>모스크바 유학</td>\n",
       "      <td>1969</td>\n",
       "      <td>5341</td>\n",
       "    </tr>\n",
       "    <tr>\n",
       "      <th>5344</th>\n",
       "      <td>모스크바대학(외교학 전공)</td>\n",
       "      <td>1953</td>\n",
       "      <td>5344</td>\n",
       "    </tr>\n",
       "    <tr>\n",
       "      <th>5717</th>\n",
       "      <td>소련 프룬제군사대학 유학</td>\n",
       "      <td>1962</td>\n",
       "      <td>5717</td>\n",
       "    </tr>\n",
       "    <tr>\n",
       "      <th>5718</th>\n",
       "      <td>소련 해군대학 유학</td>\n",
       "      <td>1962</td>\n",
       "      <td>5718</td>\n",
       "    </tr>\n",
       "    <tr>\n",
       "      <th>5726</th>\n",
       "      <td>소련아카데미 유학</td>\n",
       "      <td>연도미상</td>\n",
       "      <td>5726</td>\n",
       "    </tr>\n",
       "    <tr>\n",
       "      <th>5826</th>\n",
       "      <td>연도미상 김일성종합대학, 체코 프라하공대(기계공학 전공)</td>\n",
       "      <td>NaN</td>\n",
       "      <td>5826</td>\n",
       "    </tr>\n",
       "    <tr>\n",
       "      <th>5837</th>\n",
       "      <td>연도미상 소련아카데미 유학</td>\n",
       "      <td>NaN</td>\n",
       "      <td>5837</td>\n",
       "    </tr>\n",
       "    <tr>\n",
       "      <th>5838</th>\n",
       "      <td>연도미상 연희전문 2년 중퇴, 일본유학</td>\n",
       "      <td>NaN</td>\n",
       "      <td>5838</td>\n",
       "    </tr>\n",
       "    <tr>\n",
       "      <th>5898</th>\n",
       "      <td>연도미상 김일성종합대학 외문학부 러시아어 전공</td>\n",
       "      <td>NaN</td>\n",
       "      <td>5898</td>\n",
       "    </tr>\n",
       "    <tr>\n",
       "      <th>5936</th>\n",
       "      <td>연도미상 루마니아 유학</td>\n",
       "      <td>NaN</td>\n",
       "      <td>5936</td>\n",
       "    </tr>\n",
       "    <tr>\n",
       "      <th>5977</th>\n",
       "      <td>연도미상 일본음악학교, 소련유학</td>\n",
       "      <td>NaN</td>\n",
       "      <td>5977</td>\n",
       "    </tr>\n",
       "    <tr>\n",
       "      <th>5999</th>\n",
       "      <td>연도미상 평양건설건재대학 졸업, 소련유학</td>\n",
       "      <td>NaN</td>\n",
       "      <td>5999</td>\n",
       "    </tr>\n",
       "    <tr>\n",
       "      <th>6035</th>\n",
       "      <td>연희전문학교 2년 중퇴, 일본 유학(릿쿄대학)</td>\n",
       "      <td>연도미상</td>\n",
       "      <td>6035</td>\n",
       "    </tr>\n",
       "    <tr>\n",
       "      <th>6343</th>\n",
       "      <td>일본음악학교, 소련유학</td>\n",
       "      <td>연도미상</td>\n",
       "      <td>6343</td>\n",
       "    </tr>\n",
       "  </tbody>\n",
       "</table>\n",
       "</div>"
      ],
      "text/plain": [
       "                                           CareerString CareerDateString_2022  \\\n",
       "141                           1950.～52. 러시아 공군대학 유학, 귀국                   NaN   \n",
       "146   1951.~57. 루마니아 유학 연도미상 당 조직지도부, 과학교육부, 기계공업부 등...                   NaN   \n",
       "162                                1953. 모스크바대학(외교학 전공)                   NaN   \n",
       "282                                 1962. 소련 프룬제군사대학 유학                   NaN   \n",
       "283                                    1962. 소련 해군대학 유학                   NaN   \n",
       "399                                       1969. 모스크바 유학                   NaN   \n",
       "4315                         김일성종합대학, 체코 프라하공대(기계공학 전공)                  연도미상   \n",
       "5292                                    러시아 공군대학 유학, 귀국           1950 ~ 1952   \n",
       "5305                                            루마니아 유학           1951 ~ 1957   \n",
       "5306                                            루마니아 유학                  연도미상   \n",
       "5341                                            모스크바 유학                  1969   \n",
       "5344                                     모스크바대학(외교학 전공)                  1953   \n",
       "5717                                      소련 프룬제군사대학 유학                  1962   \n",
       "5718                                         소련 해군대학 유학                  1962   \n",
       "5726                                          소련아카데미 유학                  연도미상   \n",
       "5826                    연도미상 김일성종합대학, 체코 프라하공대(기계공학 전공)                   NaN   \n",
       "5837                                     연도미상 소련아카데미 유학                   NaN   \n",
       "5838                              연도미상 연희전문 2년 중퇴, 일본유학                   NaN   \n",
       "5898                          연도미상 김일성종합대학 외문학부 러시아어 전공                   NaN   \n",
       "5936                                       연도미상 루마니아 유학                   NaN   \n",
       "5977                                  연도미상 일본음악학교, 소련유학                   NaN   \n",
       "5999                             연도미상 평양건설건재대학 졸업, 소련유학                   NaN   \n",
       "6035                          연희전문학교 2년 중퇴, 일본 유학(릿쿄대학)                  연도미상   \n",
       "6343                                       일본음악학교, 소련유학                  연도미상   \n",
       "\n",
       "     CareerStringID  \n",
       "141             141  \n",
       "146             146  \n",
       "162             162  \n",
       "282             282  \n",
       "283             283  \n",
       "399             399  \n",
       "4315           4315  \n",
       "5292           5292  \n",
       "5305           5305  \n",
       "5306           5306  \n",
       "5341           5341  \n",
       "5344           5344  \n",
       "5717           5717  \n",
       "5718           5718  \n",
       "5726           5726  \n",
       "5826           5826  \n",
       "5837           5837  \n",
       "5838           5838  \n",
       "5898           5898  \n",
       "5936           5936  \n",
       "5977           5977  \n",
       "5999           5999  \n",
       "6035           6035  \n",
       "6343           6343  "
      ]
     },
     "execution_count": 12,
     "metadata": {},
     "output_type": "execute_result"
    }
   ],
   "source": [
    "career_str_education"
   ]
  },
  {
   "cell_type": "code",
   "execution_count": 13,
   "metadata": {},
   "outputs": [],
   "source": [
    "joint_appt = [140]\n",
    "non_joint_appt = [item for item in career_str_education.CareerStringID if int(item) not in joint_appt]"
   ]
  },
  {
   "cell_type": "code",
   "execution_count": 14,
   "metadata": {},
   "outputs": [],
   "source": [
    "# extract (non-joint appointment) funeral from remaining career\n",
    "career_str = career_str[~career_str.CareerStringID.isin(non_joint_appt)]"
   ]
  },
  {
   "cell_type": "code",
   "execution_count": 15,
   "metadata": {
    "scrolled": true
   },
   "outputs": [
    {
     "data": {
      "text/plain": [
       "(7929, 3)"
      ]
     },
     "execution_count": 15,
     "metadata": {},
     "output_type": "execute_result"
    }
   ],
   "source": [
    "career_str.shape"
   ]
  },
  {
   "cell_type": "markdown",
   "metadata": {},
   "source": [
    "# break out 결혼"
   ]
  },
  {
   "cell_type": "code",
   "execution_count": 16,
   "metadata": {},
   "outputs": [],
   "source": [
    "career_str_marriage = career_str[career_str.CareerString.str.contains(\"결혼\")]"
   ]
  },
  {
   "cell_type": "code",
   "execution_count": 17,
   "metadata": {},
   "outputs": [],
   "source": [
    "# export career_str_marriage to unparsed_uncoded folder\n",
    "career_str_marriage.to_excel(pathout_career_divided+\"career_marriage_unparsed_uncoded.xlsx\",index=False,encoding=\"utf-8\")"
   ]
  },
  {
   "cell_type": "code",
   "execution_count": 18,
   "metadata": {},
   "outputs": [
    {
     "data": {
      "text/html": [
       "<div>\n",
       "<style scoped>\n",
       "    .dataframe tbody tr th:only-of-type {\n",
       "        vertical-align: middle;\n",
       "    }\n",
       "\n",
       "    .dataframe tbody tr th {\n",
       "        vertical-align: top;\n",
       "    }\n",
       "\n",
       "    .dataframe thead th {\n",
       "        text-align: right;\n",
       "    }\n",
       "</style>\n",
       "<table border=\"1\" class=\"dataframe\">\n",
       "  <thead>\n",
       "    <tr style=\"text-align: right;\">\n",
       "      <th></th>\n",
       "      <th>CareerString</th>\n",
       "      <th>CareerDateString_2022</th>\n",
       "      <th>CareerStringID</th>\n",
       "    </tr>\n",
       "  </thead>\n",
       "  <tbody>\n",
       "    <tr>\n",
       "      <th>99</th>\n",
       "      <td>1946. 7 월북 1954. 결혼, 김책공업대학 교원으로 활동</td>\n",
       "      <td>NaN</td>\n",
       "      <td>99</td>\n",
       "    </tr>\n",
       "    <tr>\n",
       "      <th>160</th>\n",
       "      <td>1953. 김일성과 결혼</td>\n",
       "      <td>NaN</td>\n",
       "      <td>160</td>\n",
       "    </tr>\n",
       "    <tr>\n",
       "      <th>499</th>\n",
       "      <td>1972. 김경희와 결혼</td>\n",
       "      <td>NaN</td>\n",
       "      <td>499</td>\n",
       "    </tr>\n",
       "    <tr>\n",
       "      <th>3605</th>\n",
       "      <td>결혼, 김책공업대학 교원으로 활동</td>\n",
       "      <td>1954</td>\n",
       "      <td>3605</td>\n",
       "    </tr>\n",
       "    <tr>\n",
       "      <th>4228</th>\n",
       "      <td>김일성 장녀 김경희와 결혼</td>\n",
       "      <td>1972</td>\n",
       "      <td>4228</td>\n",
       "    </tr>\n",
       "    <tr>\n",
       "      <th>4245</th>\n",
       "      <td>김일성과 결혼</td>\n",
       "      <td>1953</td>\n",
       "      <td>4245</td>\n",
       "    </tr>\n",
       "  </tbody>\n",
       "</table>\n",
       "</div>"
      ],
      "text/plain": [
       "                             CareerString CareerDateString_2022 CareerStringID\n",
       "99    1946. 7 월북 1954. 결혼, 김책공업대학 교원으로 활동                   NaN             99\n",
       "160                         1953. 김일성과 결혼                   NaN            160\n",
       "499                         1972. 김경희와 결혼                   NaN            499\n",
       "3605                   결혼, 김책공업대학 교원으로 활동                  1954           3605\n",
       "4228                       김일성 장녀 김경희와 결혼                  1972           4228\n",
       "4245                              김일성과 결혼                  1953           4245"
      ]
     },
     "execution_count": 18,
     "metadata": {},
     "output_type": "execute_result"
    }
   ],
   "source": [
    "career_str_marriage"
   ]
  },
  {
   "cell_type": "code",
   "execution_count": 19,
   "metadata": {},
   "outputs": [],
   "source": [
    "joint_appt = [93,3559]\n",
    "non_joint_appt = [item for item in career_str_marriage.CareerStringID if int(item) not in joint_appt]"
   ]
  },
  {
   "cell_type": "code",
   "execution_count": 20,
   "metadata": {},
   "outputs": [],
   "source": [
    "# extract (non-joint appointment) marriage from remaining career\n",
    "career_str = career_str[~career_str.CareerStringID.isin(non_joint_appt)]"
   ]
  },
  {
   "cell_type": "code",
   "execution_count": 21,
   "metadata": {
    "scrolled": true
   },
   "outputs": [
    {
     "data": {
      "text/plain": [
       "(7923, 3)"
      ]
     },
     "execution_count": 21,
     "metadata": {},
     "output_type": "execute_result"
    }
   ],
   "source": [
    "career_str.shape"
   ]
  },
  {
   "cell_type": "markdown",
   "metadata": {},
   "source": [
    "# break out 수훈 & 칭호"
   ]
  },
  {
   "cell_type": "code",
   "execution_count": 22,
   "metadata": {},
   "outputs": [],
   "source": [
    "# 수훈 및 칭호\n",
    "career_str_award = career_str[career_str.CareerString.str.contains(\"수훈\") | career_str.CareerString.str.contains(\"칭호\")]"
   ]
  },
  {
   "cell_type": "code",
   "execution_count": 23,
   "metadata": {},
   "outputs": [],
   "source": [
    "# export career_str_marriage to unparsed_uncoded folder\n",
    "career_str_award.to_excel(pathout_career_divided+\"career_award_unparsed_uncoded.xlsx\",index=False,encoding=\"utf-8\")"
   ]
  },
  {
   "cell_type": "code",
   "execution_count": 24,
   "metadata": {},
   "outputs": [
    {
     "data": {
      "text/plain": [
       "(186, 3)"
      ]
     },
     "execution_count": 24,
     "metadata": {},
     "output_type": "execute_result"
    }
   ],
   "source": [
    "career_str_award.shape"
   ]
  },
  {
   "cell_type": "code",
   "execution_count": 25,
   "metadata": {},
   "outputs": [],
   "source": [
    "joint_appt = [407, 487, 691, 773, 778, 785, 1403, 1404, 1405, 1406, 1407, 1415, 1418, 1419, 1425, 1427, 1428, 3627, 3690, 4872, 5725, 6026, 6486, 6507, 6551, 6653]\n",
    "non_joint_appt = [item for item in career_str_award.CareerStringID if int(item) not in joint_appt]"
   ]
  },
  {
   "cell_type": "code",
   "execution_count": 26,
   "metadata": {},
   "outputs": [],
   "source": [
    "# extract (non-joint appointment) marriage from remaining career\n",
    "career_str = career_str[~career_str.CareerStringID.isin(non_joint_appt)]"
   ]
  },
  {
   "cell_type": "code",
   "execution_count": 27,
   "metadata": {
    "scrolled": true
   },
   "outputs": [
    {
     "data": {
      "text/plain": [
       "(7743, 3)"
      ]
     },
     "execution_count": 27,
     "metadata": {},
     "output_type": "execute_result"
    }
   ],
   "source": [
    "career_str.shape"
   ]
  },
  {
   "cell_type": "code",
   "execution_count": null,
   "metadata": {},
   "outputs": [],
   "source": []
  },
  {
   "cell_type": "markdown",
   "metadata": {},
   "source": [
    "# break out 사망, 사형, 처형"
   ]
  },
  {
   "cell_type": "code",
   "execution_count": 28,
   "metadata": {},
   "outputs": [],
   "source": [
    "# 사형, 사망, 처형\n",
    "career_str_death = career_str[career_str.CareerString.str.contains(\"처형\") | career_str.CareerString.str.contains(\"사형\") | career_str.CareerString.str.contains(\"사망\")]"
   ]
  },
  {
   "cell_type": "code",
   "execution_count": 29,
   "metadata": {},
   "outputs": [],
   "source": [
    "# export career_str_marriage to unparsed_uncoded folder\n",
    "career_str_death.to_excel(pathout_career_divided+\"career_death_unparsed_uncoded.xlsx\",index=False,encoding=\"utf-8\")"
   ]
  },
  {
   "cell_type": "code",
   "execution_count": 30,
   "metadata": {},
   "outputs": [
    {
     "data": {
      "text/plain": [
       "(120, 3)"
      ]
     },
     "execution_count": 30,
     "metadata": {},
     "output_type": "execute_result"
    }
   ],
   "source": [
    "career_str_death.shape"
   ]
  },
  {
   "cell_type": "code",
   "execution_count": 31,
   "metadata": {
    "scrolled": true
   },
   "outputs": [],
   "source": [
    "career_str = career_str[~career_str.CareerStringID.isin(career_str_death.CareerStringID)]"
   ]
  },
  {
   "cell_type": "code",
   "execution_count": 32,
   "metadata": {},
   "outputs": [
    {
     "data": {
      "text/plain": [
       "(7623, 3)"
      ]
     },
     "execution_count": 32,
     "metadata": {},
     "output_type": "execute_result"
    }
   ],
   "source": [
    "career_str.shape"
   ]
  },
  {
   "cell_type": "markdown",
   "metadata": {},
   "source": [
    "# break out visits: 동행, 참석시, 습격, 방문,  빨치산 활동"
   ]
  },
  {
   "cell_type": "code",
   "execution_count": 33,
   "metadata": {},
   "outputs": [],
   "source": [
    "career_str_visit = career_str[career_str.CareerString.str.contains(\" 동행\") | career_str.CareerString.str.contains(\"참석시\") | career_str.CareerString.str.contains(\"습격\") | career_str.CareerString.str.contains(\"방문\") | career_str.CareerString.str.contains(\"빨치산 활동\")]"
   ]
  },
  {
   "cell_type": "code",
   "execution_count": 34,
   "metadata": {},
   "outputs": [
    {
     "data": {
      "text/html": [
       "<div>\n",
       "<style scoped>\n",
       "    .dataframe tbody tr th:only-of-type {\n",
       "        vertical-align: middle;\n",
       "    }\n",
       "\n",
       "    .dataframe tbody tr th {\n",
       "        vertical-align: top;\n",
       "    }\n",
       "\n",
       "    .dataframe thead th {\n",
       "        text-align: right;\n",
       "    }\n",
       "</style>\n",
       "<table border=\"1\" class=\"dataframe\">\n",
       "  <thead>\n",
       "    <tr style=\"text-align: right;\">\n",
       "      <th></th>\n",
       "      <th>CareerString</th>\n",
       "      <th>CareerDateString_2022</th>\n",
       "      <th>CareerStringID</th>\n",
       "    </tr>\n",
       "  </thead>\n",
       "  <tbody>\n",
       "    <tr>\n",
       "      <th>3</th>\n",
       "      <td>금수산궁전 개관식 참석시 동행</td>\n",
       "      <td>2013.08</td>\n",
       "      <td>3</td>\n",
       "    </tr>\n",
       "    <tr>\n",
       "      <th>5</th>\n",
       "      <td>능라인민유원지 준공식 참석시 동행 * ‘부인 리설주 동지’라고 보도(중앙방송)</td>\n",
       "      <td>2012.08</td>\n",
       "      <td>5</td>\n",
       "    </tr>\n",
       "    <tr>\n",
       "      <th>8</th>\n",
       "      <td>대동강과수종합농장과 대동강과일종합가공 공장 시찰시 동행</td>\n",
       "      <td>2014.12</td>\n",
       "      <td>8</td>\n",
       "    </tr>\n",
       "    <tr>\n",
       "      <th>9</th>\n",
       "      <td>동해안 감나무중대(女軍) 방문시 동행</td>\n",
       "      <td>2012.09</td>\n",
       "      <td>9</td>\n",
       "    </tr>\n",
       "    <tr>\n",
       "      <th>11</th>\n",
       "      <td>빨치산 활동</td>\n",
       "      <td>1945</td>\n",
       "      <td>11</td>\n",
       "    </tr>\n",
       "    <tr>\n",
       "      <th>12</th>\n",
       "      <td>빨치산 활동(김일성 빨치산 동지)</td>\n",
       "      <td>1945</td>\n",
       "      <td>12</td>\n",
       "    </tr>\n",
       "    <tr>\n",
       "      <th>13</th>\n",
       "      <td>빨치산 활동(김일성 전령, 유격대 중대장)</td>\n",
       "      <td>1945</td>\n",
       "      <td>13</td>\n",
       "    </tr>\n",
       "    <tr>\n",
       "      <th>14</th>\n",
       "      <td>사격경기와 여자배구경기 관람시 동행</td>\n",
       "      <td>2013.05</td>\n",
       "      <td>14</td>\n",
       "    </tr>\n",
       "    <tr>\n",
       "      <th>18</th>\n",
       "      <td>창전거리 살림집들에 이사한 근로자들 가정 방문시 동행</td>\n",
       "      <td>2012.12</td>\n",
       "      <td>18</td>\n",
       "    </tr>\n",
       "    <tr>\n",
       "      <th>21</th>\n",
       "      <td>통일거리운동센터 및 평양민속공원 시찰시 동행</td>\n",
       "      <td>2013.04</td>\n",
       "      <td>21</td>\n",
       "    </tr>\n",
       "    <tr>\n",
       "      <th>71</th>\n",
       "      <td>1937. 6 함남 보천보 습격, 함남 중평리 습격</td>\n",
       "      <td>NaN</td>\n",
       "      <td>71</td>\n",
       "    </tr>\n",
       "    <tr>\n",
       "      <th>77</th>\n",
       "      <td>1945 이전 김일성과 빨치산 활동</td>\n",
       "      <td>NaN</td>\n",
       "      <td>77</td>\n",
       "    </tr>\n",
       "    <tr>\n",
       "      <th>88</th>\n",
       "      <td>1945년이전 빨치산 활동</td>\n",
       "      <td>NaN</td>\n",
       "      <td>88</td>\n",
       "    </tr>\n",
       "    <tr>\n",
       "      <th>90</th>\n",
       "      <td>1945이전 빨치산 활동</td>\n",
       "      <td>연도미상</td>\n",
       "      <td>90</td>\n",
       "    </tr>\n",
       "    <tr>\n",
       "      <th>91</th>\n",
       "      <td>1945이전 빨치산 활동 연도미상 소련 보병학교, 육군대학</td>\n",
       "      <td>NaN</td>\n",
       "      <td>91</td>\n",
       "    </tr>\n",
       "    <tr>\n",
       "      <th>92</th>\n",
       "      <td>1945이전 빨치산 활동(김일성 전령, 유격대 중대장)</td>\n",
       "      <td>NaN</td>\n",
       "      <td>92</td>\n",
       "    </tr>\n",
       "    <tr>\n",
       "      <th>93</th>\n",
       "      <td>1945이전 빨치산 활동(김일성유격대 간호원)</td>\n",
       "      <td>1945</td>\n",
       "      <td>93</td>\n",
       "    </tr>\n",
       "    <tr>\n",
       "      <th>94</th>\n",
       "      <td>1945이전 빨치산 활동(빨치산 소년대원)</td>\n",
       "      <td>연도미상</td>\n",
       "      <td>94</td>\n",
       "    </tr>\n",
       "    <tr>\n",
       "      <th>95</th>\n",
       "      <td>1945이전 빨치산 활동(김일성유격대 간호원)</td>\n",
       "      <td>NaN</td>\n",
       "      <td>95</td>\n",
       "    </tr>\n",
       "    <tr>\n",
       "      <th>96</th>\n",
       "      <td>1945이전 빨치산 활동(김일성의 빨치산 동지)</td>\n",
       "      <td>NaN</td>\n",
       "      <td>96</td>\n",
       "    </tr>\n",
       "    <tr>\n",
       "      <th>918</th>\n",
       "      <td>1985. 5 남북적십자본회담 수석자문위원 (제8~10차, 서울 2회 방문)</td>\n",
       "      <td>NaN</td>\n",
       "      <td>918</td>\n",
       "    </tr>\n",
       "    <tr>\n",
       "      <th>4335</th>\n",
       "      <td>김정은, 군인가족예술소조공연 관람 시 동행</td>\n",
       "      <td>2021.05</td>\n",
       "      <td>4335</td>\n",
       "    </tr>\n",
       "    <tr>\n",
       "      <th>4336</th>\n",
       "      <td>김정은, 김일성 생일 계기 금수산궁전 참배 시 동행</td>\n",
       "      <td>2021.04</td>\n",
       "      <td>4336</td>\n",
       "    </tr>\n",
       "    <tr>\n",
       "      <th>4337</th>\n",
       "      <td>김정은, 김정일 생일 기념 공연 관람 시 동행</td>\n",
       "      <td>2021.02</td>\n",
       "      <td>4337</td>\n",
       "    </tr>\n",
       "    <tr>\n",
       "      <th>4339</th>\n",
       "      <td>김정은, 시진핑 중국 국가주석 영접 시 동행</td>\n",
       "      <td>2019.06</td>\n",
       "      <td>4339</td>\n",
       "    </tr>\n",
       "    <tr>\n",
       "      <th>4405</th>\n",
       "      <td>남북적십자본회담 수석자문위원(제8차~제10차, 서울 2회 방문)</td>\n",
       "      <td>1985.05</td>\n",
       "      <td>4405</td>\n",
       "    </tr>\n",
       "    <tr>\n",
       "      <th>5395</th>\n",
       "      <td>미래상점과 종합봉사기지 현지지도시 동행</td>\n",
       "      <td>2016.03</td>\n",
       "      <td>5395</td>\n",
       "    </tr>\n",
       "    <tr>\n",
       "      <th>5550</th>\n",
       "      <td>빨치산 활동</td>\n",
       "      <td>연도미상</td>\n",
       "      <td>5550</td>\n",
       "    </tr>\n",
       "    <tr>\n",
       "      <th>5957</th>\n",
       "      <td>연도미상 빨치산 활동</td>\n",
       "      <td>NaN</td>\n",
       "      <td>5957</td>\n",
       "    </tr>\n",
       "    <tr>\n",
       "      <th>6392</th>\n",
       "      <td>전 김일성과 빨치산 활동</td>\n",
       "      <td>1945</td>\n",
       "      <td>6392</td>\n",
       "    </tr>\n",
       "    <tr>\n",
       "      <th>6393</th>\n",
       "      <td>전 빨치산 활동</td>\n",
       "      <td>1945</td>\n",
       "      <td>6393</td>\n",
       "    </tr>\n",
       "    <tr>\n",
       "      <th>6514</th>\n",
       "      <td>정전협정 62돌 경축 공훈국가합창단 공연 관람시 동행</td>\n",
       "      <td>2015.08</td>\n",
       "      <td>6514</td>\n",
       "    </tr>\n",
       "    <tr>\n",
       "      <th>7924</th>\n",
       "      <td>함남 보천보 습격, 함남 중평리 습격</td>\n",
       "      <td>1937.06</td>\n",
       "      <td>7924</td>\n",
       "    </tr>\n",
       "  </tbody>\n",
       "</table>\n",
       "</div>"
      ],
      "text/plain": [
       "                                      CareerString CareerDateString_2022  \\\n",
       "3                                 금수산궁전 개관식 참석시 동행               2013.08   \n",
       "5      능라인민유원지 준공식 참석시 동행 * ‘부인 리설주 동지’라고 보도(중앙방송)               2012.08   \n",
       "8                   대동강과수종합농장과 대동강과일종합가공 공장 시찰시 동행               2014.12   \n",
       "9                             동해안 감나무중대(女軍) 방문시 동행               2012.09   \n",
       "11                                          빨치산 활동                  1945   \n",
       "12                              빨치산 활동(김일성 빨치산 동지)                  1945   \n",
       "13                         빨치산 활동(김일성 전령, 유격대 중대장)                  1945   \n",
       "14                             사격경기와 여자배구경기 관람시 동행               2013.05   \n",
       "18                   창전거리 살림집들에 이사한 근로자들 가정 방문시 동행               2012.12   \n",
       "21                        통일거리운동센터 및 평양민속공원 시찰시 동행               2013.04   \n",
       "71                    1937. 6 함남 보천보 습격, 함남 중평리 습격                   NaN   \n",
       "77                             1945 이전 김일성과 빨치산 활동                   NaN   \n",
       "88                                  1945년이전 빨치산 활동                   NaN   \n",
       "90                                   1945이전 빨치산 활동                  연도미상   \n",
       "91                1945이전 빨치산 활동 연도미상 소련 보병학교, 육군대학                   NaN   \n",
       "92                  1945이전 빨치산 활동(김일성 전령, 유격대 중대장)                   NaN   \n",
       "93                       1945이전 빨치산 활동(김일성유격대 간호원)                  1945   \n",
       "94                         1945이전 빨치산 활동(빨치산 소년대원)                  연도미상   \n",
       "95                       1945이전 빨치산 활동(김일성유격대 간호원)                   NaN   \n",
       "96                      1945이전 빨치산 활동(김일성의 빨치산 동지)                   NaN   \n",
       "918     1985. 5 남북적십자본회담 수석자문위원 (제8~10차, 서울 2회 방문)                   NaN   \n",
       "4335                       김정은, 군인가족예술소조공연 관람 시 동행               2021.05   \n",
       "4336                  김정은, 김일성 생일 계기 금수산궁전 참배 시 동행               2021.04   \n",
       "4337                     김정은, 김정일 생일 기념 공연 관람 시 동행               2021.02   \n",
       "4339                      김정은, 시진핑 중국 국가주석 영접 시 동행               2019.06   \n",
       "4405           남북적십자본회담 수석자문위원(제8차~제10차, 서울 2회 방문)               1985.05   \n",
       "5395                         미래상점과 종합봉사기지 현지지도시 동행               2016.03   \n",
       "5550                                        빨치산 활동                  연도미상   \n",
       "5957                                   연도미상 빨치산 활동                   NaN   \n",
       "6392                                 전 김일성과 빨치산 활동                  1945   \n",
       "6393                                      전 빨치산 활동                  1945   \n",
       "6514                 정전협정 62돌 경축 공훈국가합창단 공연 관람시 동행               2015.08   \n",
       "7924                          함남 보천보 습격, 함남 중평리 습격               1937.06   \n",
       "\n",
       "     CareerStringID  \n",
       "3                 3  \n",
       "5                 5  \n",
       "8                 8  \n",
       "9                 9  \n",
       "11               11  \n",
       "12               12  \n",
       "13               13  \n",
       "14               14  \n",
       "18               18  \n",
       "21               21  \n",
       "71               71  \n",
       "77               77  \n",
       "88               88  \n",
       "90               90  \n",
       "91               91  \n",
       "92               92  \n",
       "93               93  \n",
       "94               94  \n",
       "95               95  \n",
       "96               96  \n",
       "918             918  \n",
       "4335           4335  \n",
       "4336           4336  \n",
       "4337           4337  \n",
       "4339           4339  \n",
       "4405           4405  \n",
       "5395           5395  \n",
       "5550           5550  \n",
       "5957           5957  \n",
       "6392           6392  \n",
       "6393           6393  \n",
       "6514           6514  \n",
       "7924           7924  "
      ]
     },
     "execution_count": 34,
     "metadata": {},
     "output_type": "execute_result"
    }
   ],
   "source": [
    "career_str_visit"
   ]
  },
  {
   "cell_type": "code",
   "execution_count": 35,
   "metadata": {},
   "outputs": [],
   "source": [
    "# export career_str_marriage to unparsed_uncoded folder\n",
    "career_str_visit.to_excel(pathout_career_divided+\"career_visit_unparsed_uncoded.xlsx\",index=False,encoding=\"utf-8\")"
   ]
  },
  {
   "cell_type": "code",
   "execution_count": 36,
   "metadata": {},
   "outputs": [
    {
     "data": {
      "text/plain": [
       "(33, 3)"
      ]
     },
     "execution_count": 36,
     "metadata": {},
     "output_type": "execute_result"
    }
   ],
   "source": [
    "career_str_visit.shape"
   ]
  },
  {
   "cell_type": "code",
   "execution_count": 37,
   "metadata": {},
   "outputs": [
    {
     "data": {
      "text/html": [
       "<div>\n",
       "<style scoped>\n",
       "    .dataframe tbody tr th:only-of-type {\n",
       "        vertical-align: middle;\n",
       "    }\n",
       "\n",
       "    .dataframe tbody tr th {\n",
       "        vertical-align: top;\n",
       "    }\n",
       "\n",
       "    .dataframe thead th {\n",
       "        text-align: right;\n",
       "    }\n",
       "</style>\n",
       "<table border=\"1\" class=\"dataframe\">\n",
       "  <thead>\n",
       "    <tr style=\"text-align: right;\">\n",
       "      <th></th>\n",
       "      <th>CareerString</th>\n",
       "      <th>CareerDateString_2022</th>\n",
       "      <th>CareerStringID</th>\n",
       "    </tr>\n",
       "  </thead>\n",
       "  <tbody>\n",
       "    <tr>\n",
       "      <th>3</th>\n",
       "      <td>금수산궁전 개관식 참석시 동행</td>\n",
       "      <td>2013.08</td>\n",
       "      <td>3</td>\n",
       "    </tr>\n",
       "    <tr>\n",
       "      <th>5</th>\n",
       "      <td>능라인민유원지 준공식 참석시 동행 * ‘부인 리설주 동지’라고 보도(중앙방송)</td>\n",
       "      <td>2012.08</td>\n",
       "      <td>5</td>\n",
       "    </tr>\n",
       "    <tr>\n",
       "      <th>8</th>\n",
       "      <td>대동강과수종합농장과 대동강과일종합가공 공장 시찰시 동행</td>\n",
       "      <td>2014.12</td>\n",
       "      <td>8</td>\n",
       "    </tr>\n",
       "    <tr>\n",
       "      <th>9</th>\n",
       "      <td>동해안 감나무중대(女軍) 방문시 동행</td>\n",
       "      <td>2012.09</td>\n",
       "      <td>9</td>\n",
       "    </tr>\n",
       "    <tr>\n",
       "      <th>11</th>\n",
       "      <td>빨치산 활동</td>\n",
       "      <td>1945</td>\n",
       "      <td>11</td>\n",
       "    </tr>\n",
       "    <tr>\n",
       "      <th>12</th>\n",
       "      <td>빨치산 활동(김일성 빨치산 동지)</td>\n",
       "      <td>1945</td>\n",
       "      <td>12</td>\n",
       "    </tr>\n",
       "    <tr>\n",
       "      <th>13</th>\n",
       "      <td>빨치산 활동(김일성 전령, 유격대 중대장)</td>\n",
       "      <td>1945</td>\n",
       "      <td>13</td>\n",
       "    </tr>\n",
       "    <tr>\n",
       "      <th>14</th>\n",
       "      <td>사격경기와 여자배구경기 관람시 동행</td>\n",
       "      <td>2013.05</td>\n",
       "      <td>14</td>\n",
       "    </tr>\n",
       "    <tr>\n",
       "      <th>18</th>\n",
       "      <td>창전거리 살림집들에 이사한 근로자들 가정 방문시 동행</td>\n",
       "      <td>2012.12</td>\n",
       "      <td>18</td>\n",
       "    </tr>\n",
       "    <tr>\n",
       "      <th>21</th>\n",
       "      <td>통일거리운동센터 및 평양민속공원 시찰시 동행</td>\n",
       "      <td>2013.04</td>\n",
       "      <td>21</td>\n",
       "    </tr>\n",
       "    <tr>\n",
       "      <th>71</th>\n",
       "      <td>1937. 6 함남 보천보 습격, 함남 중평리 습격</td>\n",
       "      <td>NaN</td>\n",
       "      <td>71</td>\n",
       "    </tr>\n",
       "    <tr>\n",
       "      <th>77</th>\n",
       "      <td>1945 이전 김일성과 빨치산 활동</td>\n",
       "      <td>NaN</td>\n",
       "      <td>77</td>\n",
       "    </tr>\n",
       "    <tr>\n",
       "      <th>88</th>\n",
       "      <td>1945년이전 빨치산 활동</td>\n",
       "      <td>NaN</td>\n",
       "      <td>88</td>\n",
       "    </tr>\n",
       "    <tr>\n",
       "      <th>90</th>\n",
       "      <td>1945이전 빨치산 활동</td>\n",
       "      <td>연도미상</td>\n",
       "      <td>90</td>\n",
       "    </tr>\n",
       "    <tr>\n",
       "      <th>91</th>\n",
       "      <td>1945이전 빨치산 활동 연도미상 소련 보병학교, 육군대학</td>\n",
       "      <td>NaN</td>\n",
       "      <td>91</td>\n",
       "    </tr>\n",
       "    <tr>\n",
       "      <th>92</th>\n",
       "      <td>1945이전 빨치산 활동(김일성 전령, 유격대 중대장)</td>\n",
       "      <td>NaN</td>\n",
       "      <td>92</td>\n",
       "    </tr>\n",
       "    <tr>\n",
       "      <th>93</th>\n",
       "      <td>1945이전 빨치산 활동(김일성유격대 간호원)</td>\n",
       "      <td>1945</td>\n",
       "      <td>93</td>\n",
       "    </tr>\n",
       "    <tr>\n",
       "      <th>94</th>\n",
       "      <td>1945이전 빨치산 활동(빨치산 소년대원)</td>\n",
       "      <td>연도미상</td>\n",
       "      <td>94</td>\n",
       "    </tr>\n",
       "    <tr>\n",
       "      <th>95</th>\n",
       "      <td>1945이전 빨치산 활동(김일성유격대 간호원)</td>\n",
       "      <td>NaN</td>\n",
       "      <td>95</td>\n",
       "    </tr>\n",
       "    <tr>\n",
       "      <th>96</th>\n",
       "      <td>1945이전 빨치산 활동(김일성의 빨치산 동지)</td>\n",
       "      <td>NaN</td>\n",
       "      <td>96</td>\n",
       "    </tr>\n",
       "    <tr>\n",
       "      <th>918</th>\n",
       "      <td>1985. 5 남북적십자본회담 수석자문위원 (제8~10차, 서울 2회 방문)</td>\n",
       "      <td>NaN</td>\n",
       "      <td>918</td>\n",
       "    </tr>\n",
       "    <tr>\n",
       "      <th>4335</th>\n",
       "      <td>김정은, 군인가족예술소조공연 관람 시 동행</td>\n",
       "      <td>2021.05</td>\n",
       "      <td>4335</td>\n",
       "    </tr>\n",
       "    <tr>\n",
       "      <th>4336</th>\n",
       "      <td>김정은, 김일성 생일 계기 금수산궁전 참배 시 동행</td>\n",
       "      <td>2021.04</td>\n",
       "      <td>4336</td>\n",
       "    </tr>\n",
       "    <tr>\n",
       "      <th>4337</th>\n",
       "      <td>김정은, 김정일 생일 기념 공연 관람 시 동행</td>\n",
       "      <td>2021.02</td>\n",
       "      <td>4337</td>\n",
       "    </tr>\n",
       "    <tr>\n",
       "      <th>4339</th>\n",
       "      <td>김정은, 시진핑 중국 국가주석 영접 시 동행</td>\n",
       "      <td>2019.06</td>\n",
       "      <td>4339</td>\n",
       "    </tr>\n",
       "    <tr>\n",
       "      <th>4405</th>\n",
       "      <td>남북적십자본회담 수석자문위원(제8차~제10차, 서울 2회 방문)</td>\n",
       "      <td>1985.05</td>\n",
       "      <td>4405</td>\n",
       "    </tr>\n",
       "    <tr>\n",
       "      <th>5395</th>\n",
       "      <td>미래상점과 종합봉사기지 현지지도시 동행</td>\n",
       "      <td>2016.03</td>\n",
       "      <td>5395</td>\n",
       "    </tr>\n",
       "    <tr>\n",
       "      <th>5550</th>\n",
       "      <td>빨치산 활동</td>\n",
       "      <td>연도미상</td>\n",
       "      <td>5550</td>\n",
       "    </tr>\n",
       "    <tr>\n",
       "      <th>5957</th>\n",
       "      <td>연도미상 빨치산 활동</td>\n",
       "      <td>NaN</td>\n",
       "      <td>5957</td>\n",
       "    </tr>\n",
       "    <tr>\n",
       "      <th>6392</th>\n",
       "      <td>전 김일성과 빨치산 활동</td>\n",
       "      <td>1945</td>\n",
       "      <td>6392</td>\n",
       "    </tr>\n",
       "    <tr>\n",
       "      <th>6393</th>\n",
       "      <td>전 빨치산 활동</td>\n",
       "      <td>1945</td>\n",
       "      <td>6393</td>\n",
       "    </tr>\n",
       "    <tr>\n",
       "      <th>6514</th>\n",
       "      <td>정전협정 62돌 경축 공훈국가합창단 공연 관람시 동행</td>\n",
       "      <td>2015.08</td>\n",
       "      <td>6514</td>\n",
       "    </tr>\n",
       "    <tr>\n",
       "      <th>7924</th>\n",
       "      <td>함남 보천보 습격, 함남 중평리 습격</td>\n",
       "      <td>1937.06</td>\n",
       "      <td>7924</td>\n",
       "    </tr>\n",
       "  </tbody>\n",
       "</table>\n",
       "</div>"
      ],
      "text/plain": [
       "                                      CareerString CareerDateString_2022  \\\n",
       "3                                 금수산궁전 개관식 참석시 동행               2013.08   \n",
       "5      능라인민유원지 준공식 참석시 동행 * ‘부인 리설주 동지’라고 보도(중앙방송)               2012.08   \n",
       "8                   대동강과수종합농장과 대동강과일종합가공 공장 시찰시 동행               2014.12   \n",
       "9                             동해안 감나무중대(女軍) 방문시 동행               2012.09   \n",
       "11                                          빨치산 활동                  1945   \n",
       "12                              빨치산 활동(김일성 빨치산 동지)                  1945   \n",
       "13                         빨치산 활동(김일성 전령, 유격대 중대장)                  1945   \n",
       "14                             사격경기와 여자배구경기 관람시 동행               2013.05   \n",
       "18                   창전거리 살림집들에 이사한 근로자들 가정 방문시 동행               2012.12   \n",
       "21                        통일거리운동센터 및 평양민속공원 시찰시 동행               2013.04   \n",
       "71                    1937. 6 함남 보천보 습격, 함남 중평리 습격                   NaN   \n",
       "77                             1945 이전 김일성과 빨치산 활동                   NaN   \n",
       "88                                  1945년이전 빨치산 활동                   NaN   \n",
       "90                                   1945이전 빨치산 활동                  연도미상   \n",
       "91                1945이전 빨치산 활동 연도미상 소련 보병학교, 육군대학                   NaN   \n",
       "92                  1945이전 빨치산 활동(김일성 전령, 유격대 중대장)                   NaN   \n",
       "93                       1945이전 빨치산 활동(김일성유격대 간호원)                  1945   \n",
       "94                         1945이전 빨치산 활동(빨치산 소년대원)                  연도미상   \n",
       "95                       1945이전 빨치산 활동(김일성유격대 간호원)                   NaN   \n",
       "96                      1945이전 빨치산 활동(김일성의 빨치산 동지)                   NaN   \n",
       "918     1985. 5 남북적십자본회담 수석자문위원 (제8~10차, 서울 2회 방문)                   NaN   \n",
       "4335                       김정은, 군인가족예술소조공연 관람 시 동행               2021.05   \n",
       "4336                  김정은, 김일성 생일 계기 금수산궁전 참배 시 동행               2021.04   \n",
       "4337                     김정은, 김정일 생일 기념 공연 관람 시 동행               2021.02   \n",
       "4339                      김정은, 시진핑 중국 국가주석 영접 시 동행               2019.06   \n",
       "4405           남북적십자본회담 수석자문위원(제8차~제10차, 서울 2회 방문)               1985.05   \n",
       "5395                         미래상점과 종합봉사기지 현지지도시 동행               2016.03   \n",
       "5550                                        빨치산 활동                  연도미상   \n",
       "5957                                   연도미상 빨치산 활동                   NaN   \n",
       "6392                                 전 김일성과 빨치산 활동                  1945   \n",
       "6393                                      전 빨치산 활동                  1945   \n",
       "6514                 정전협정 62돌 경축 공훈국가합창단 공연 관람시 동행               2015.08   \n",
       "7924                          함남 보천보 습격, 함남 중평리 습격               1937.06   \n",
       "\n",
       "     CareerStringID  \n",
       "3                 3  \n",
       "5                 5  \n",
       "8                 8  \n",
       "9                 9  \n",
       "11               11  \n",
       "12               12  \n",
       "13               13  \n",
       "14               14  \n",
       "18               18  \n",
       "21               21  \n",
       "71               71  \n",
       "77               77  \n",
       "88               88  \n",
       "90               90  \n",
       "91               91  \n",
       "92               92  \n",
       "93               93  \n",
       "94               94  \n",
       "95               95  \n",
       "96               96  \n",
       "918             918  \n",
       "4335           4335  \n",
       "4336           4336  \n",
       "4337           4337  \n",
       "4339           4339  \n",
       "4405           4405  \n",
       "5395           5395  \n",
       "5550           5550  \n",
       "5957           5957  \n",
       "6392           6392  \n",
       "6393           6393  \n",
       "6514           6514  \n",
       "7924           7924  "
      ]
     },
     "execution_count": 37,
     "metadata": {},
     "output_type": "execute_result"
    }
   ],
   "source": [
    "career_str_visit"
   ]
  },
  {
   "cell_type": "code",
   "execution_count": 38,
   "metadata": {},
   "outputs": [],
   "source": [
    "# extract (non-joint appointment) marriage from remaining career\n",
    "career_str = career_str[~career_str.CareerStringID.isin(career_str_visit.CareerStringID)]"
   ]
  },
  {
   "cell_type": "code",
   "execution_count": 39,
   "metadata": {
    "scrolled": true
   },
   "outputs": [
    {
     "data": {
      "text/plain": [
       "(7590, 3)"
      ]
     },
     "execution_count": 39,
     "metadata": {},
     "output_type": "execute_result"
    }
   ],
   "source": [
    "career_str.shape"
   ]
  },
  {
   "cell_type": "markdown",
   "metadata": {},
   "source": [
    "# export career_str jobs remaining after divisions"
   ]
  },
  {
   "cell_type": "code",
   "execution_count": 40,
   "metadata": {},
   "outputs": [],
   "source": [
    "career_str.to_excel(pathout_career_divided+\"career_jobs_unparsed_uncoded.xlsx\",index=False,encoding=\"utf-8\")"
   ]
  },
  {
   "cell_type": "code",
   "execution_count": null,
   "metadata": {},
   "outputs": [],
   "source": []
  }
 ],
 "metadata": {
  "kernelspec": {
   "display_name": "Python 3",
   "language": "python",
   "name": "python3"
  },
  "language_info": {
   "codemirror_mode": {
    "name": "ipython",
    "version": 3
   },
   "file_extension": ".py",
   "mimetype": "text/x-python",
   "name": "python",
   "nbconvert_exporter": "python",
   "pygments_lexer": "ipython3",
   "version": "3.7.3"
  }
 },
 "nbformat": 4,
 "nbformat_minor": 4
}
