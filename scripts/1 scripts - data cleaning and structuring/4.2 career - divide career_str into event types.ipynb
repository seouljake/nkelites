{
 "cells": [
  {
   "cell_type": "markdown",
   "metadata": {},
   "source": [
    "# libraries & global vars"
   ]
  },
  {
   "cell_type": "code",
   "execution_count": 87,
   "metadata": {},
   "outputs": [],
   "source": [
    "import pandas as pd\n",
    "import numpy as np\n",
    "pd.set_option('display.max_rows', None)"
   ]
  },
  {
   "cell_type": "markdown",
   "metadata": {},
   "source": [
    "# output path for divided career"
   ]
  },
  {
   "cell_type": "code",
   "execution_count": 88,
   "metadata": {},
   "outputs": [],
   "source": [
    "pathin_career_undivided = \"C:/Users/seoul/Dropbox/00 technical/github/nkelites/data/combined data/combined data - 1 cleaning/cleaning step 4 - career/4.1 career_undivided_unparsed_uncoded/\"\n",
    "pathout_career_divided = \"C:/Users/seoul/Dropbox/00 technical/github/nkelites/data/combined data/combined data - 1 cleaning/cleaning step 4 - career/4.2 career_divided_unparsed_uncoded/\""
   ]
  },
  {
   "cell_type": "markdown",
   "metadata": {},
   "source": [
    "# import career_str"
   ]
  },
  {
   "cell_type": "code",
   "execution_count": 89,
   "metadata": {},
   "outputs": [],
   "source": [
    "career_str = pd.read_excel(pathin_career_undivided+\"career_str_undivided_unparsed_uncoded.xlsx\",dtype=\"str\")"
   ]
  },
  {
   "cell_type": "code",
   "execution_count": 90,
   "metadata": {},
   "outputs": [
    {
     "data": {
      "text/plain": [
       "(7027, 2)"
      ]
     },
     "execution_count": 90,
     "metadata": {},
     "output_type": "execute_result"
    }
   ],
   "source": [
    "career_str.shape"
   ]
  },
  {
   "cell_type": "markdown",
   "metadata": {},
   "source": [
    "# break out 국가장의위원회 - don't appear to be any joint appts with this"
   ]
  },
  {
   "cell_type": "code",
   "execution_count": 91,
   "metadata": {},
   "outputs": [],
   "source": [
    "career_str_funeral = career_str[career_str.CareerString.str.contains(\"국가장의위원회\")]"
   ]
  },
  {
   "cell_type": "code",
   "execution_count": 92,
   "metadata": {},
   "outputs": [
    {
     "data": {
      "text/plain": [
       "(84, 2)"
      ]
     },
     "execution_count": 92,
     "metadata": {},
     "output_type": "execute_result"
    }
   ],
   "source": [
    "career_str_funeral.shape"
   ]
  },
  {
   "cell_type": "code",
   "execution_count": 93,
   "metadata": {},
   "outputs": [],
   "source": [
    "# export career_str_funeral to unparsed_uncoded folder\n",
    "career_str_funeral.to_excel(pathout_career_divided+\"career_funeral_unparsed_uncoded.xlsx\",index=False,encoding=\"utf-8\")"
   ]
  },
  {
   "cell_type": "code",
   "execution_count": 94,
   "metadata": {},
   "outputs": [],
   "source": [
    "# extract funeral from remaining career\n",
    "career_str = career_str[~career_str.CareerString.isin(career_str_funeral.CareerString)]"
   ]
  },
  {
   "cell_type": "code",
   "execution_count": 95,
   "metadata": {},
   "outputs": [
    {
     "data": {
      "text/plain": [
       "(6943, 2)"
      ]
     },
     "execution_count": 95,
     "metadata": {},
     "output_type": "execute_result"
    }
   ],
   "source": [
    "career_str.shape"
   ]
  },
  {
   "cell_type": "markdown",
   "metadata": {},
   "source": [
    "# break out education: 유학, 전공, 절업"
   ]
  },
  {
   "cell_type": "code",
   "execution_count": 96,
   "metadata": {},
   "outputs": [],
   "source": [
    "career_str_education = career_str[career_str.CareerString.str.contains(\"유학\") | career_str.CareerString.str.contains(\"전공\") | career_str.CareerString.str.contains(\"절업\")]"
   ]
  },
  {
   "cell_type": "code",
   "execution_count": 97,
   "metadata": {},
   "outputs": [],
   "source": [
    "# export career_str_abroad to unparsed_uncoded folder\n",
    "career_str_education.to_excel(pathout_career_divided+\"career_education_unparsed_uncoded.xlsx\",index=False,encoding=\"utf-8\")"
   ]
  },
  {
   "cell_type": "code",
   "execution_count": 98,
   "metadata": {},
   "outputs": [
    {
     "data": {
      "text/html": [
       "<div>\n",
       "<style scoped>\n",
       "    .dataframe tbody tr th:only-of-type {\n",
       "        vertical-align: middle;\n",
       "    }\n",
       "\n",
       "    .dataframe tbody tr th {\n",
       "        vertical-align: top;\n",
       "    }\n",
       "\n",
       "    .dataframe thead th {\n",
       "        text-align: right;\n",
       "    }\n",
       "</style>\n",
       "<table border=\"1\" class=\"dataframe\">\n",
       "  <thead>\n",
       "    <tr style=\"text-align: right;\">\n",
       "      <th></th>\n",
       "      <th>CareerString</th>\n",
       "      <th>CareerStringID</th>\n",
       "    </tr>\n",
       "  </thead>\n",
       "  <tbody>\n",
       "    <tr>\n",
       "      <th>135</th>\n",
       "      <td>1950.～52. 러시아 공군대학 유학, 귀국</td>\n",
       "      <td>135</td>\n",
       "    </tr>\n",
       "    <tr>\n",
       "      <th>140</th>\n",
       "      <td>1951.~57. 루마니아 유학 연도미상 당 조직지도부, 과학교육부, 기계공업부 등...</td>\n",
       "      <td>140</td>\n",
       "    </tr>\n",
       "    <tr>\n",
       "      <th>156</th>\n",
       "      <td>1953. 모스크바대학(외교학 전공)</td>\n",
       "      <td>156</td>\n",
       "    </tr>\n",
       "    <tr>\n",
       "      <th>276</th>\n",
       "      <td>1962. 소련 프룬제군사대학 유학</td>\n",
       "      <td>276</td>\n",
       "    </tr>\n",
       "    <tr>\n",
       "      <th>277</th>\n",
       "      <td>1962. 소련 해군대학 유학</td>\n",
       "      <td>277</td>\n",
       "    </tr>\n",
       "    <tr>\n",
       "      <th>393</th>\n",
       "      <td>1969. 모스크바 유학</td>\n",
       "      <td>393</td>\n",
       "    </tr>\n",
       "    <tr>\n",
       "      <th>4062</th>\n",
       "      <td>김일성종합대학, 체코 프라하공대(기계공학 전공)</td>\n",
       "      <td>4062</td>\n",
       "    </tr>\n",
       "    <tr>\n",
       "      <th>4744</th>\n",
       "      <td>러시아 공군대학 유학, 귀국</td>\n",
       "      <td>4744</td>\n",
       "    </tr>\n",
       "    <tr>\n",
       "      <th>4757</th>\n",
       "      <td>루마니아 유학</td>\n",
       "      <td>4757</td>\n",
       "    </tr>\n",
       "    <tr>\n",
       "      <th>4792</th>\n",
       "      <td>모스크바 유학</td>\n",
       "      <td>4792</td>\n",
       "    </tr>\n",
       "    <tr>\n",
       "      <th>4795</th>\n",
       "      <td>모스크바대학(외교학 전공)</td>\n",
       "      <td>4795</td>\n",
       "    </tr>\n",
       "    <tr>\n",
       "      <th>5088</th>\n",
       "      <td>소련 프룬제군사대학 유학</td>\n",
       "      <td>5088</td>\n",
       "    </tr>\n",
       "    <tr>\n",
       "      <th>5089</th>\n",
       "      <td>소련 해군대학 유학</td>\n",
       "      <td>5089</td>\n",
       "    </tr>\n",
       "    <tr>\n",
       "      <th>5096</th>\n",
       "      <td>소련아카데미 유학</td>\n",
       "      <td>5096</td>\n",
       "    </tr>\n",
       "    <tr>\n",
       "      <th>5190</th>\n",
       "      <td>연도미상 김일성종합대학, 체코 프라하공대(기계공학 전공)</td>\n",
       "      <td>5190</td>\n",
       "    </tr>\n",
       "    <tr>\n",
       "      <th>5201</th>\n",
       "      <td>연도미상 소련아카데미 유학</td>\n",
       "      <td>5201</td>\n",
       "    </tr>\n",
       "    <tr>\n",
       "      <th>5202</th>\n",
       "      <td>연도미상 연희전문 2년 중퇴, 일본유학</td>\n",
       "      <td>5202</td>\n",
       "    </tr>\n",
       "    <tr>\n",
       "      <th>5262</th>\n",
       "      <td>연도미상 김일성종합대학 외문학부 러시아어 전공</td>\n",
       "      <td>5262</td>\n",
       "    </tr>\n",
       "    <tr>\n",
       "      <th>5300</th>\n",
       "      <td>연도미상 루마니아 유학</td>\n",
       "      <td>5300</td>\n",
       "    </tr>\n",
       "    <tr>\n",
       "      <th>5341</th>\n",
       "      <td>연도미상 일본음악학교, 소련유학</td>\n",
       "      <td>5341</td>\n",
       "    </tr>\n",
       "    <tr>\n",
       "      <th>5363</th>\n",
       "      <td>연도미상 평양건설건재대학 졸업, 소련유학</td>\n",
       "      <td>5363</td>\n",
       "    </tr>\n",
       "    <tr>\n",
       "      <th>5399</th>\n",
       "      <td>연희전문학교 2년 중퇴, 일본 유학(릿쿄대학)</td>\n",
       "      <td>5399</td>\n",
       "    </tr>\n",
       "    <tr>\n",
       "      <th>5620</th>\n",
       "      <td>일본음악학교, 소련유학</td>\n",
       "      <td>5620</td>\n",
       "    </tr>\n",
       "  </tbody>\n",
       "</table>\n",
       "</div>"
      ],
      "text/plain": [
       "                                           CareerString CareerStringID\n",
       "135                           1950.～52. 러시아 공군대학 유학, 귀국            135\n",
       "140   1951.~57. 루마니아 유학 연도미상 당 조직지도부, 과학교육부, 기계공업부 등...            140\n",
       "156                                1953. 모스크바대학(외교학 전공)            156\n",
       "276                                 1962. 소련 프룬제군사대학 유학            276\n",
       "277                                    1962. 소련 해군대학 유학            277\n",
       "393                                       1969. 모스크바 유학            393\n",
       "4062                         김일성종합대학, 체코 프라하공대(기계공학 전공)           4062\n",
       "4744                                    러시아 공군대학 유학, 귀국           4744\n",
       "4757                                            루마니아 유학           4757\n",
       "4792                                            모스크바 유학           4792\n",
       "4795                                     모스크바대학(외교학 전공)           4795\n",
       "5088                                      소련 프룬제군사대학 유학           5088\n",
       "5089                                         소련 해군대학 유학           5089\n",
       "5096                                          소련아카데미 유학           5096\n",
       "5190                    연도미상 김일성종합대학, 체코 프라하공대(기계공학 전공)           5190\n",
       "5201                                     연도미상 소련아카데미 유학           5201\n",
       "5202                              연도미상 연희전문 2년 중퇴, 일본유학           5202\n",
       "5262                          연도미상 김일성종합대학 외문학부 러시아어 전공           5262\n",
       "5300                                       연도미상 루마니아 유학           5300\n",
       "5341                                  연도미상 일본음악학교, 소련유학           5341\n",
       "5363                             연도미상 평양건설건재대학 졸업, 소련유학           5363\n",
       "5399                          연희전문학교 2년 중퇴, 일본 유학(릿쿄대학)           5399\n",
       "5620                                       일본음악학교, 소련유학           5620"
      ]
     },
     "execution_count": 98,
     "metadata": {},
     "output_type": "execute_result"
    }
   ],
   "source": [
    "career_str_education"
   ]
  },
  {
   "cell_type": "code",
   "execution_count": 99,
   "metadata": {},
   "outputs": [],
   "source": [
    "joint_appt = [140]\n",
    "non_joint_appt = [item for item in career_str_education.CareerStringID if int(item) not in joint_appt]"
   ]
  },
  {
   "cell_type": "code",
   "execution_count": 100,
   "metadata": {},
   "outputs": [],
   "source": [
    "# extract (non-joint appointment) funeral from remaining career\n",
    "career_str = career_str[~career_str.CareerStringID.isin(non_joint_appt)]"
   ]
  },
  {
   "cell_type": "code",
   "execution_count": 101,
   "metadata": {
    "scrolled": true
   },
   "outputs": [
    {
     "data": {
      "text/plain": [
       "(6921, 2)"
      ]
     },
     "execution_count": 101,
     "metadata": {},
     "output_type": "execute_result"
    }
   ],
   "source": [
    "career_str.shape"
   ]
  },
  {
   "cell_type": "markdown",
   "metadata": {},
   "source": [
    "# break out 결혼"
   ]
  },
  {
   "cell_type": "code",
   "execution_count": 102,
   "metadata": {},
   "outputs": [],
   "source": [
    "career_str_marriage = career_str[career_str.CareerString.str.contains(\"결혼\")]"
   ]
  },
  {
   "cell_type": "code",
   "execution_count": 103,
   "metadata": {},
   "outputs": [],
   "source": [
    "# export career_str_marriage to unparsed_uncoded folder\n",
    "career_str_marriage.to_excel(pathout_career_divided+\"career_marriage_unparsed_uncoded.xlsx\",index=False,encoding=\"utf-8\")"
   ]
  },
  {
   "cell_type": "code",
   "execution_count": 104,
   "metadata": {},
   "outputs": [
    {
     "data": {
      "text/html": [
       "<div>\n",
       "<style scoped>\n",
       "    .dataframe tbody tr th:only-of-type {\n",
       "        vertical-align: middle;\n",
       "    }\n",
       "\n",
       "    .dataframe tbody tr th {\n",
       "        vertical-align: top;\n",
       "    }\n",
       "\n",
       "    .dataframe thead th {\n",
       "        text-align: right;\n",
       "    }\n",
       "</style>\n",
       "<table border=\"1\" class=\"dataframe\">\n",
       "  <thead>\n",
       "    <tr style=\"text-align: right;\">\n",
       "      <th></th>\n",
       "      <th>CareerString</th>\n",
       "      <th>CareerStringID</th>\n",
       "    </tr>\n",
       "  </thead>\n",
       "  <tbody>\n",
       "    <tr>\n",
       "      <th>93</th>\n",
       "      <td>1946. 7 월북 1954. 결혼, 김책공업대학 교원으로 활동</td>\n",
       "      <td>93</td>\n",
       "    </tr>\n",
       "    <tr>\n",
       "      <th>154</th>\n",
       "      <td>1953. 김일성과 결혼</td>\n",
       "      <td>154</td>\n",
       "    </tr>\n",
       "    <tr>\n",
       "      <th>493</th>\n",
       "      <td>1972. 김경희와 결혼</td>\n",
       "      <td>493</td>\n",
       "    </tr>\n",
       "    <tr>\n",
       "      <th>3559</th>\n",
       "      <td>결혼, 김책공업대학 교원으로 활동</td>\n",
       "      <td>3559</td>\n",
       "    </tr>\n",
       "    <tr>\n",
       "      <th>3986</th>\n",
       "      <td>김일성 장녀 김경희와 결혼</td>\n",
       "      <td>3986</td>\n",
       "    </tr>\n",
       "    <tr>\n",
       "      <th>3999</th>\n",
       "      <td>김일성과 결혼</td>\n",
       "      <td>3999</td>\n",
       "    </tr>\n",
       "  </tbody>\n",
       "</table>\n",
       "</div>"
      ],
      "text/plain": [
       "                             CareerString CareerStringID\n",
       "93    1946. 7 월북 1954. 결혼, 김책공업대학 교원으로 활동             93\n",
       "154                         1953. 김일성과 결혼            154\n",
       "493                         1972. 김경희와 결혼            493\n",
       "3559                   결혼, 김책공업대학 교원으로 활동           3559\n",
       "3986                       김일성 장녀 김경희와 결혼           3986\n",
       "3999                              김일성과 결혼           3999"
      ]
     },
     "execution_count": 104,
     "metadata": {},
     "output_type": "execute_result"
    }
   ],
   "source": [
    "career_str_marriage"
   ]
  },
  {
   "cell_type": "code",
   "execution_count": 105,
   "metadata": {},
   "outputs": [],
   "source": [
    "joint_appt = [93,3559]\n",
    "non_joint_appt = [item for item in career_str_marriage.CareerStringID if int(item) not in joint_appt]"
   ]
  },
  {
   "cell_type": "code",
   "execution_count": 106,
   "metadata": {},
   "outputs": [],
   "source": [
    "# extract (non-joint appointment) marriage from remaining career\n",
    "career_str = career_str[~career_str.CareerStringID.isin(non_joint_appt)]"
   ]
  },
  {
   "cell_type": "code",
   "execution_count": 107,
   "metadata": {
    "scrolled": true
   },
   "outputs": [
    {
     "data": {
      "text/plain": [
       "(6917, 2)"
      ]
     },
     "execution_count": 107,
     "metadata": {},
     "output_type": "execute_result"
    }
   ],
   "source": [
    "career_str.shape"
   ]
  },
  {
   "cell_type": "markdown",
   "metadata": {},
   "source": [
    "# break out 수훈 & 칭호"
   ]
  },
  {
   "cell_type": "code",
   "execution_count": 108,
   "metadata": {},
   "outputs": [],
   "source": [
    "# 수훈 및 칭호\n",
    "career_str_award = career_str[career_str.CareerString.str.contains(\"수훈\") | career_str.CareerString.str.contains(\"칭호\")]"
   ]
  },
  {
   "cell_type": "code",
   "execution_count": 109,
   "metadata": {},
   "outputs": [],
   "source": [
    "# export career_str_marriage to unparsed_uncoded folder\n",
    "career_str_award.to_excel(pathout_career_divided+\"career_award_unparsed_uncoded.xlsx\",index=False,encoding=\"utf-8\")"
   ]
  },
  {
   "cell_type": "code",
   "execution_count": 110,
   "metadata": {},
   "outputs": [
    {
     "data": {
      "text/plain": [
       "(147, 2)"
      ]
     },
     "execution_count": 110,
     "metadata": {},
     "output_type": "execute_result"
    }
   ],
   "source": [
    "career_str_award.shape"
   ]
  },
  {
   "cell_type": "code",
   "execution_count": 111,
   "metadata": {},
   "outputs": [],
   "source": [
    "joint_appt = [407, 487, 691, 773, 778, 785, 1403, 1404, 1405, 1406, 1407, 1415, 1418, 1419, 1425, 1427, 1428, 3627, 3690, 4872, 5725, 6026, 6486, 6507, 6551, 6653]\n",
    "non_joint_appt = [item for item in career_str_award.CareerStringID if int(item) not in joint_appt]"
   ]
  },
  {
   "cell_type": "code",
   "execution_count": 112,
   "metadata": {},
   "outputs": [],
   "source": [
    "# extract (non-joint appointment) marriage from remaining career\n",
    "career_str = career_str[~career_str.CareerStringID.isin(non_joint_appt)]"
   ]
  },
  {
   "cell_type": "code",
   "execution_count": 113,
   "metadata": {
    "scrolled": true
   },
   "outputs": [
    {
     "data": {
      "text/plain": [
       "(6796, 2)"
      ]
     },
     "execution_count": 113,
     "metadata": {},
     "output_type": "execute_result"
    }
   ],
   "source": [
    "career_str.shape"
   ]
  },
  {
   "cell_type": "code",
   "execution_count": null,
   "metadata": {},
   "outputs": [],
   "source": []
  },
  {
   "cell_type": "markdown",
   "metadata": {},
   "source": [
    "# break out 사망, 사형, 처형"
   ]
  },
  {
   "cell_type": "code",
   "execution_count": 116,
   "metadata": {},
   "outputs": [],
   "source": [
    "# 사형, 사망, 처형\n",
    "career_str_death = career_str[career_str.CareerString.str.contains(\"처형\") | career_str.CareerString.str.contains(\"사형\") | career_str.CareerString.str.contains(\"사망\")]"
   ]
  },
  {
   "cell_type": "code",
   "execution_count": 117,
   "metadata": {},
   "outputs": [],
   "source": [
    "# export career_str_marriage to unparsed_uncoded folder\n",
    "career_str_death.to_excel(pathout_career_divided+\"career_death_unparsed_uncoded.xlsx\",index=False,encoding=\"utf-8\")"
   ]
  },
  {
   "cell_type": "code",
   "execution_count": 118,
   "metadata": {},
   "outputs": [
    {
     "data": {
      "text/plain": [
       "(81, 2)"
      ]
     },
     "execution_count": 118,
     "metadata": {},
     "output_type": "execute_result"
    }
   ],
   "source": [
    "career_str_death.shape"
   ]
  },
  {
   "cell_type": "code",
   "execution_count": 119,
   "metadata": {
    "scrolled": true
   },
   "outputs": [],
   "source": [
    "career_str = career_str[~career_str.CareerStringID.isin(career_str_death.CareerStringID)]"
   ]
  },
  {
   "cell_type": "code",
   "execution_count": 120,
   "metadata": {},
   "outputs": [
    {
     "data": {
      "text/plain": [
       "(6715, 2)"
      ]
     },
     "execution_count": 120,
     "metadata": {},
     "output_type": "execute_result"
    }
   ],
   "source": [
    "career_str.shape"
   ]
  },
  {
   "cell_type": "markdown",
   "metadata": {},
   "source": [
    "# break out visits: 동행, 참석시, 습격, 방문,  빨치산 활동"
   ]
  },
  {
   "cell_type": "code",
   "execution_count": 121,
   "metadata": {},
   "outputs": [],
   "source": [
    "career_str_visit = career_str[career_str.CareerString.str.contains(\" 동행\") | career_str.CareerString.str.contains(\"참석시\") | career_str.CareerString.str.contains(\"습격\") | career_str.CareerString.str.contains(\"방문\") | career_str.CareerString.str.contains(\"빨치산 활동\")]"
   ]
  },
  {
   "cell_type": "code",
   "execution_count": 122,
   "metadata": {},
   "outputs": [
    {
     "data": {
      "text/html": [
       "<div>\n",
       "<style scoped>\n",
       "    .dataframe tbody tr th:only-of-type {\n",
       "        vertical-align: middle;\n",
       "    }\n",
       "\n",
       "    .dataframe tbody tr th {\n",
       "        vertical-align: top;\n",
       "    }\n",
       "\n",
       "    .dataframe thead th {\n",
       "        text-align: right;\n",
       "    }\n",
       "</style>\n",
       "<table border=\"1\" class=\"dataframe\">\n",
       "  <thead>\n",
       "    <tr style=\"text-align: right;\">\n",
       "      <th></th>\n",
       "      <th>CareerString</th>\n",
       "      <th>CareerStringID</th>\n",
       "    </tr>\n",
       "  </thead>\n",
       "  <tbody>\n",
       "    <tr>\n",
       "      <th>3</th>\n",
       "      <td>금수산궁전 개관식 참석시 동행</td>\n",
       "      <td>3</td>\n",
       "    </tr>\n",
       "    <tr>\n",
       "      <th>5</th>\n",
       "      <td>능라인민유원지 준공식 참석시 동행 * ‘부인 리설주 동지’라고 보도(중앙방송)</td>\n",
       "      <td>5</td>\n",
       "    </tr>\n",
       "    <tr>\n",
       "      <th>8</th>\n",
       "      <td>대동강과수종합농장과 대동강과일종합가공 공장 시찰시 동행</td>\n",
       "      <td>8</td>\n",
       "    </tr>\n",
       "    <tr>\n",
       "      <th>9</th>\n",
       "      <td>동해안 감나무중대(女軍) 방문시 동행</td>\n",
       "      <td>9</td>\n",
       "    </tr>\n",
       "    <tr>\n",
       "      <th>11</th>\n",
       "      <td>빨치산 활동</td>\n",
       "      <td>11</td>\n",
       "    </tr>\n",
       "    <tr>\n",
       "      <th>12</th>\n",
       "      <td>빨치산 활동(김일성 빨치산 동지)</td>\n",
       "      <td>12</td>\n",
       "    </tr>\n",
       "    <tr>\n",
       "      <th>13</th>\n",
       "      <td>빨치산 활동(김일성 전령, 유격대 중대장)</td>\n",
       "      <td>13</td>\n",
       "    </tr>\n",
       "    <tr>\n",
       "      <th>14</th>\n",
       "      <td>사격경기와 여자배구경기 관람시 동행</td>\n",
       "      <td>14</td>\n",
       "    </tr>\n",
       "    <tr>\n",
       "      <th>18</th>\n",
       "      <td>창전거리 살림집들에 이사한 근로자들 가정 방문시 동행</td>\n",
       "      <td>18</td>\n",
       "    </tr>\n",
       "    <tr>\n",
       "      <th>21</th>\n",
       "      <td>통일거리운동센터 및 평양민속공원 시찰시 동행</td>\n",
       "      <td>21</td>\n",
       "    </tr>\n",
       "    <tr>\n",
       "      <th>65</th>\n",
       "      <td>1937. 6 함남 보천보 습격, 함남 중평리 습격</td>\n",
       "      <td>65</td>\n",
       "    </tr>\n",
       "    <tr>\n",
       "      <th>71</th>\n",
       "      <td>1945 이전 김일성과 빨치산 활동</td>\n",
       "      <td>71</td>\n",
       "    </tr>\n",
       "    <tr>\n",
       "      <th>82</th>\n",
       "      <td>1945년이전 빨치산 활동</td>\n",
       "      <td>82</td>\n",
       "    </tr>\n",
       "    <tr>\n",
       "      <th>84</th>\n",
       "      <td>1945이전 빨치산 활동</td>\n",
       "      <td>84</td>\n",
       "    </tr>\n",
       "    <tr>\n",
       "      <th>85</th>\n",
       "      <td>1945이전 빨치산 활동 연도미상 소련 보병학교, 육군대학</td>\n",
       "      <td>85</td>\n",
       "    </tr>\n",
       "    <tr>\n",
       "      <th>86</th>\n",
       "      <td>1945이전 빨치산 활동(김일성 전령, 유격대 중대장)</td>\n",
       "      <td>86</td>\n",
       "    </tr>\n",
       "    <tr>\n",
       "      <th>87</th>\n",
       "      <td>1945이전 빨치산 활동(김일성유격대 간호원)</td>\n",
       "      <td>87</td>\n",
       "    </tr>\n",
       "    <tr>\n",
       "      <th>88</th>\n",
       "      <td>1945이전 빨치산 활동(빨치산 소년대원)</td>\n",
       "      <td>88</td>\n",
       "    </tr>\n",
       "    <tr>\n",
       "      <th>89</th>\n",
       "      <td>1945이전 빨치산 활동(김일성유격대 간호원)</td>\n",
       "      <td>89</td>\n",
       "    </tr>\n",
       "    <tr>\n",
       "      <th>90</th>\n",
       "      <td>1945이전 빨치산 활동(김일성의 빨치산 동지)</td>\n",
       "      <td>90</td>\n",
       "    </tr>\n",
       "    <tr>\n",
       "      <th>912</th>\n",
       "      <td>1985. 5 남북적십자본회담 수석자문위원 (제8~10차, 서울 2회 방문)</td>\n",
       "      <td>912</td>\n",
       "    </tr>\n",
       "    <tr>\n",
       "      <th>4068</th>\n",
       "      <td>김정은, 군인가족예술소조공연 관람 시 동행</td>\n",
       "      <td>4068</td>\n",
       "    </tr>\n",
       "    <tr>\n",
       "      <th>4069</th>\n",
       "      <td>김정은, 김일성 생일 계기 금수산궁전 참배 시 동행</td>\n",
       "      <td>4069</td>\n",
       "    </tr>\n",
       "    <tr>\n",
       "      <th>4070</th>\n",
       "      <td>김정은, 김정일 생일 기념 공연 관람 시 동행</td>\n",
       "      <td>4070</td>\n",
       "    </tr>\n",
       "    <tr>\n",
       "      <th>4072</th>\n",
       "      <td>김정은, 시진핑 중국 국가주석 영접 시 동행</td>\n",
       "      <td>4072</td>\n",
       "    </tr>\n",
       "    <tr>\n",
       "      <th>4134</th>\n",
       "      <td>남북적십자본회담 수석자문위원(제8차~제10차, 서울 2회 방문)</td>\n",
       "      <td>4134</td>\n",
       "    </tr>\n",
       "    <tr>\n",
       "      <th>4835</th>\n",
       "      <td>미래상점과 종합봉사기지 현지지도시 동행</td>\n",
       "      <td>4835</td>\n",
       "    </tr>\n",
       "    <tr>\n",
       "      <th>4977</th>\n",
       "      <td>빨치산 활동</td>\n",
       "      <td>4977</td>\n",
       "    </tr>\n",
       "    <tr>\n",
       "      <th>5321</th>\n",
       "      <td>연도미상 빨치산 활동</td>\n",
       "      <td>5321</td>\n",
       "    </tr>\n",
       "    <tr>\n",
       "      <th>5663</th>\n",
       "      <td>전 김일성과 빨치산 활동</td>\n",
       "      <td>5663</td>\n",
       "    </tr>\n",
       "    <tr>\n",
       "      <th>5664</th>\n",
       "      <td>전 빨치산 활동</td>\n",
       "      <td>5664</td>\n",
       "    </tr>\n",
       "    <tr>\n",
       "      <th>5755</th>\n",
       "      <td>정전협정 62돌 경축 공훈국가합창단 공연 관람시 동행</td>\n",
       "      <td>5755</td>\n",
       "    </tr>\n",
       "    <tr>\n",
       "      <th>6913</th>\n",
       "      <td>함남 보천보 습격, 함남 중평리 습격</td>\n",
       "      <td>6913</td>\n",
       "    </tr>\n",
       "  </tbody>\n",
       "</table>\n",
       "</div>"
      ],
      "text/plain": [
       "                                      CareerString CareerStringID\n",
       "3                                 금수산궁전 개관식 참석시 동행              3\n",
       "5      능라인민유원지 준공식 참석시 동행 * ‘부인 리설주 동지’라고 보도(중앙방송)              5\n",
       "8                   대동강과수종합농장과 대동강과일종합가공 공장 시찰시 동행              8\n",
       "9                             동해안 감나무중대(女軍) 방문시 동행              9\n",
       "11                                          빨치산 활동             11\n",
       "12                              빨치산 활동(김일성 빨치산 동지)             12\n",
       "13                         빨치산 활동(김일성 전령, 유격대 중대장)             13\n",
       "14                             사격경기와 여자배구경기 관람시 동행             14\n",
       "18                   창전거리 살림집들에 이사한 근로자들 가정 방문시 동행             18\n",
       "21                        통일거리운동센터 및 평양민속공원 시찰시 동행             21\n",
       "65                    1937. 6 함남 보천보 습격, 함남 중평리 습격             65\n",
       "71                             1945 이전 김일성과 빨치산 활동             71\n",
       "82                                  1945년이전 빨치산 활동             82\n",
       "84                                   1945이전 빨치산 활동             84\n",
       "85                1945이전 빨치산 활동 연도미상 소련 보병학교, 육군대학             85\n",
       "86                  1945이전 빨치산 활동(김일성 전령, 유격대 중대장)             86\n",
       "87                       1945이전 빨치산 활동(김일성유격대 간호원)             87\n",
       "88                         1945이전 빨치산 활동(빨치산 소년대원)             88\n",
       "89                       1945이전 빨치산 활동(김일성유격대 간호원)             89\n",
       "90                      1945이전 빨치산 활동(김일성의 빨치산 동지)             90\n",
       "912     1985. 5 남북적십자본회담 수석자문위원 (제8~10차, 서울 2회 방문)            912\n",
       "4068                       김정은, 군인가족예술소조공연 관람 시 동행           4068\n",
       "4069                  김정은, 김일성 생일 계기 금수산궁전 참배 시 동행           4069\n",
       "4070                     김정은, 김정일 생일 기념 공연 관람 시 동행           4070\n",
       "4072                      김정은, 시진핑 중국 국가주석 영접 시 동행           4072\n",
       "4134           남북적십자본회담 수석자문위원(제8차~제10차, 서울 2회 방문)           4134\n",
       "4835                         미래상점과 종합봉사기지 현지지도시 동행           4835\n",
       "4977                                        빨치산 활동           4977\n",
       "5321                                   연도미상 빨치산 활동           5321\n",
       "5663                                 전 김일성과 빨치산 활동           5663\n",
       "5664                                      전 빨치산 활동           5664\n",
       "5755                 정전협정 62돌 경축 공훈국가합창단 공연 관람시 동행           5755\n",
       "6913                          함남 보천보 습격, 함남 중평리 습격           6913"
      ]
     },
     "execution_count": 122,
     "metadata": {},
     "output_type": "execute_result"
    }
   ],
   "source": [
    "career_str_visit"
   ]
  },
  {
   "cell_type": "code",
   "execution_count": 123,
   "metadata": {},
   "outputs": [],
   "source": [
    "# export career_str_marriage to unparsed_uncoded folder\n",
    "career_str_visit.to_excel(pathout_career_divided+\"career_visit_unparsed_uncoded.xlsx\",index=False,encoding=\"utf-8\")"
   ]
  },
  {
   "cell_type": "code",
   "execution_count": 124,
   "metadata": {},
   "outputs": [
    {
     "data": {
      "text/plain": [
       "(33, 2)"
      ]
     },
     "execution_count": 124,
     "metadata": {},
     "output_type": "execute_result"
    }
   ],
   "source": [
    "career_str_visit.shape"
   ]
  },
  {
   "cell_type": "code",
   "execution_count": 125,
   "metadata": {},
   "outputs": [
    {
     "data": {
      "text/html": [
       "<div>\n",
       "<style scoped>\n",
       "    .dataframe tbody tr th:only-of-type {\n",
       "        vertical-align: middle;\n",
       "    }\n",
       "\n",
       "    .dataframe tbody tr th {\n",
       "        vertical-align: top;\n",
       "    }\n",
       "\n",
       "    .dataframe thead th {\n",
       "        text-align: right;\n",
       "    }\n",
       "</style>\n",
       "<table border=\"1\" class=\"dataframe\">\n",
       "  <thead>\n",
       "    <tr style=\"text-align: right;\">\n",
       "      <th></th>\n",
       "      <th>CareerString</th>\n",
       "      <th>CareerStringID</th>\n",
       "    </tr>\n",
       "  </thead>\n",
       "  <tbody>\n",
       "    <tr>\n",
       "      <th>3</th>\n",
       "      <td>금수산궁전 개관식 참석시 동행</td>\n",
       "      <td>3</td>\n",
       "    </tr>\n",
       "    <tr>\n",
       "      <th>5</th>\n",
       "      <td>능라인민유원지 준공식 참석시 동행 * ‘부인 리설주 동지’라고 보도(중앙방송)</td>\n",
       "      <td>5</td>\n",
       "    </tr>\n",
       "    <tr>\n",
       "      <th>8</th>\n",
       "      <td>대동강과수종합농장과 대동강과일종합가공 공장 시찰시 동행</td>\n",
       "      <td>8</td>\n",
       "    </tr>\n",
       "    <tr>\n",
       "      <th>9</th>\n",
       "      <td>동해안 감나무중대(女軍) 방문시 동행</td>\n",
       "      <td>9</td>\n",
       "    </tr>\n",
       "    <tr>\n",
       "      <th>11</th>\n",
       "      <td>빨치산 활동</td>\n",
       "      <td>11</td>\n",
       "    </tr>\n",
       "    <tr>\n",
       "      <th>12</th>\n",
       "      <td>빨치산 활동(김일성 빨치산 동지)</td>\n",
       "      <td>12</td>\n",
       "    </tr>\n",
       "    <tr>\n",
       "      <th>13</th>\n",
       "      <td>빨치산 활동(김일성 전령, 유격대 중대장)</td>\n",
       "      <td>13</td>\n",
       "    </tr>\n",
       "    <tr>\n",
       "      <th>14</th>\n",
       "      <td>사격경기와 여자배구경기 관람시 동행</td>\n",
       "      <td>14</td>\n",
       "    </tr>\n",
       "    <tr>\n",
       "      <th>18</th>\n",
       "      <td>창전거리 살림집들에 이사한 근로자들 가정 방문시 동행</td>\n",
       "      <td>18</td>\n",
       "    </tr>\n",
       "    <tr>\n",
       "      <th>21</th>\n",
       "      <td>통일거리운동센터 및 평양민속공원 시찰시 동행</td>\n",
       "      <td>21</td>\n",
       "    </tr>\n",
       "    <tr>\n",
       "      <th>65</th>\n",
       "      <td>1937. 6 함남 보천보 습격, 함남 중평리 습격</td>\n",
       "      <td>65</td>\n",
       "    </tr>\n",
       "    <tr>\n",
       "      <th>71</th>\n",
       "      <td>1945 이전 김일성과 빨치산 활동</td>\n",
       "      <td>71</td>\n",
       "    </tr>\n",
       "    <tr>\n",
       "      <th>82</th>\n",
       "      <td>1945년이전 빨치산 활동</td>\n",
       "      <td>82</td>\n",
       "    </tr>\n",
       "    <tr>\n",
       "      <th>84</th>\n",
       "      <td>1945이전 빨치산 활동</td>\n",
       "      <td>84</td>\n",
       "    </tr>\n",
       "    <tr>\n",
       "      <th>85</th>\n",
       "      <td>1945이전 빨치산 활동 연도미상 소련 보병학교, 육군대학</td>\n",
       "      <td>85</td>\n",
       "    </tr>\n",
       "    <tr>\n",
       "      <th>86</th>\n",
       "      <td>1945이전 빨치산 활동(김일성 전령, 유격대 중대장)</td>\n",
       "      <td>86</td>\n",
       "    </tr>\n",
       "    <tr>\n",
       "      <th>87</th>\n",
       "      <td>1945이전 빨치산 활동(김일성유격대 간호원)</td>\n",
       "      <td>87</td>\n",
       "    </tr>\n",
       "    <tr>\n",
       "      <th>88</th>\n",
       "      <td>1945이전 빨치산 활동(빨치산 소년대원)</td>\n",
       "      <td>88</td>\n",
       "    </tr>\n",
       "    <tr>\n",
       "      <th>89</th>\n",
       "      <td>1945이전 빨치산 활동(김일성유격대 간호원)</td>\n",
       "      <td>89</td>\n",
       "    </tr>\n",
       "    <tr>\n",
       "      <th>90</th>\n",
       "      <td>1945이전 빨치산 활동(김일성의 빨치산 동지)</td>\n",
       "      <td>90</td>\n",
       "    </tr>\n",
       "    <tr>\n",
       "      <th>912</th>\n",
       "      <td>1985. 5 남북적십자본회담 수석자문위원 (제8~10차, 서울 2회 방문)</td>\n",
       "      <td>912</td>\n",
       "    </tr>\n",
       "    <tr>\n",
       "      <th>4068</th>\n",
       "      <td>김정은, 군인가족예술소조공연 관람 시 동행</td>\n",
       "      <td>4068</td>\n",
       "    </tr>\n",
       "    <tr>\n",
       "      <th>4069</th>\n",
       "      <td>김정은, 김일성 생일 계기 금수산궁전 참배 시 동행</td>\n",
       "      <td>4069</td>\n",
       "    </tr>\n",
       "    <tr>\n",
       "      <th>4070</th>\n",
       "      <td>김정은, 김정일 생일 기념 공연 관람 시 동행</td>\n",
       "      <td>4070</td>\n",
       "    </tr>\n",
       "    <tr>\n",
       "      <th>4072</th>\n",
       "      <td>김정은, 시진핑 중국 국가주석 영접 시 동행</td>\n",
       "      <td>4072</td>\n",
       "    </tr>\n",
       "    <tr>\n",
       "      <th>4134</th>\n",
       "      <td>남북적십자본회담 수석자문위원(제8차~제10차, 서울 2회 방문)</td>\n",
       "      <td>4134</td>\n",
       "    </tr>\n",
       "    <tr>\n",
       "      <th>4835</th>\n",
       "      <td>미래상점과 종합봉사기지 현지지도시 동행</td>\n",
       "      <td>4835</td>\n",
       "    </tr>\n",
       "    <tr>\n",
       "      <th>4977</th>\n",
       "      <td>빨치산 활동</td>\n",
       "      <td>4977</td>\n",
       "    </tr>\n",
       "    <tr>\n",
       "      <th>5321</th>\n",
       "      <td>연도미상 빨치산 활동</td>\n",
       "      <td>5321</td>\n",
       "    </tr>\n",
       "    <tr>\n",
       "      <th>5663</th>\n",
       "      <td>전 김일성과 빨치산 활동</td>\n",
       "      <td>5663</td>\n",
       "    </tr>\n",
       "    <tr>\n",
       "      <th>5664</th>\n",
       "      <td>전 빨치산 활동</td>\n",
       "      <td>5664</td>\n",
       "    </tr>\n",
       "    <tr>\n",
       "      <th>5755</th>\n",
       "      <td>정전협정 62돌 경축 공훈국가합창단 공연 관람시 동행</td>\n",
       "      <td>5755</td>\n",
       "    </tr>\n",
       "    <tr>\n",
       "      <th>6913</th>\n",
       "      <td>함남 보천보 습격, 함남 중평리 습격</td>\n",
       "      <td>6913</td>\n",
       "    </tr>\n",
       "  </tbody>\n",
       "</table>\n",
       "</div>"
      ],
      "text/plain": [
       "                                      CareerString CareerStringID\n",
       "3                                 금수산궁전 개관식 참석시 동행              3\n",
       "5      능라인민유원지 준공식 참석시 동행 * ‘부인 리설주 동지’라고 보도(중앙방송)              5\n",
       "8                   대동강과수종합농장과 대동강과일종합가공 공장 시찰시 동행              8\n",
       "9                             동해안 감나무중대(女軍) 방문시 동행              9\n",
       "11                                          빨치산 활동             11\n",
       "12                              빨치산 활동(김일성 빨치산 동지)             12\n",
       "13                         빨치산 활동(김일성 전령, 유격대 중대장)             13\n",
       "14                             사격경기와 여자배구경기 관람시 동행             14\n",
       "18                   창전거리 살림집들에 이사한 근로자들 가정 방문시 동행             18\n",
       "21                        통일거리운동센터 및 평양민속공원 시찰시 동행             21\n",
       "65                    1937. 6 함남 보천보 습격, 함남 중평리 습격             65\n",
       "71                             1945 이전 김일성과 빨치산 활동             71\n",
       "82                                  1945년이전 빨치산 활동             82\n",
       "84                                   1945이전 빨치산 활동             84\n",
       "85                1945이전 빨치산 활동 연도미상 소련 보병학교, 육군대학             85\n",
       "86                  1945이전 빨치산 활동(김일성 전령, 유격대 중대장)             86\n",
       "87                       1945이전 빨치산 활동(김일성유격대 간호원)             87\n",
       "88                         1945이전 빨치산 활동(빨치산 소년대원)             88\n",
       "89                       1945이전 빨치산 활동(김일성유격대 간호원)             89\n",
       "90                      1945이전 빨치산 활동(김일성의 빨치산 동지)             90\n",
       "912     1985. 5 남북적십자본회담 수석자문위원 (제8~10차, 서울 2회 방문)            912\n",
       "4068                       김정은, 군인가족예술소조공연 관람 시 동행           4068\n",
       "4069                  김정은, 김일성 생일 계기 금수산궁전 참배 시 동행           4069\n",
       "4070                     김정은, 김정일 생일 기념 공연 관람 시 동행           4070\n",
       "4072                      김정은, 시진핑 중국 국가주석 영접 시 동행           4072\n",
       "4134           남북적십자본회담 수석자문위원(제8차~제10차, 서울 2회 방문)           4134\n",
       "4835                         미래상점과 종합봉사기지 현지지도시 동행           4835\n",
       "4977                                        빨치산 활동           4977\n",
       "5321                                   연도미상 빨치산 활동           5321\n",
       "5663                                 전 김일성과 빨치산 활동           5663\n",
       "5664                                      전 빨치산 활동           5664\n",
       "5755                 정전협정 62돌 경축 공훈국가합창단 공연 관람시 동행           5755\n",
       "6913                          함남 보천보 습격, 함남 중평리 습격           6913"
      ]
     },
     "execution_count": 125,
     "metadata": {},
     "output_type": "execute_result"
    }
   ],
   "source": [
    "career_str_visit"
   ]
  },
  {
   "cell_type": "code",
   "execution_count": 126,
   "metadata": {},
   "outputs": [],
   "source": [
    "# extract (non-joint appointment) marriage from remaining career\n",
    "career_str = career_str[~career_str.CareerStringID.isin(career_str_visit.CareerStringID)]"
   ]
  },
  {
   "cell_type": "code",
   "execution_count": 127,
   "metadata": {
    "scrolled": true
   },
   "outputs": [
    {
     "data": {
      "text/plain": [
       "(6682, 2)"
      ]
     },
     "execution_count": 127,
     "metadata": {},
     "output_type": "execute_result"
    }
   ],
   "source": [
    "career_str.shape"
   ]
  },
  {
   "cell_type": "markdown",
   "metadata": {},
   "source": [
    "# export career_str jobs remaining after divisions"
   ]
  },
  {
   "cell_type": "code",
   "execution_count": 128,
   "metadata": {},
   "outputs": [],
   "source": [
    "career_str.to_excel(pathout_career_divided+\"career_jobs_unparsed_uncoded.xlsx\",index=False,encoding=\"utf-8\")"
   ]
  },
  {
   "cell_type": "code",
   "execution_count": null,
   "metadata": {},
   "outputs": [],
   "source": []
  }
 ],
 "metadata": {
  "kernelspec": {
   "display_name": "Python 3",
   "language": "python",
   "name": "python3"
  },
  "language_info": {
   "codemirror_mode": {
    "name": "ipython",
    "version": 3
   },
   "file_extension": ".py",
   "mimetype": "text/x-python",
   "name": "python",
   "nbconvert_exporter": "python",
   "pygments_lexer": "ipython3",
   "version": "3.7.3"
  }
 },
 "nbformat": 4,
 "nbformat_minor": 4
}
