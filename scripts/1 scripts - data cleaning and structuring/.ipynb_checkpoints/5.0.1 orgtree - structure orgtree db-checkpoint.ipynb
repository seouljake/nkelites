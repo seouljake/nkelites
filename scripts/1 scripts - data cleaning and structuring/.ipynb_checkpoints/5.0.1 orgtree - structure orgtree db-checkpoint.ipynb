{
 "cells": [
  {
   "cell_type": "markdown",
   "metadata": {},
   "source": [
    "# libraries & global vars"
   ]
  },
  {
   "cell_type": "code",
   "execution_count": 1,
   "metadata": {},
   "outputs": [],
   "source": [
    "import pandas as pd\n",
    "import numpy as np\n",
    "pd.set_option('display.max_rows', None)"
   ]
  },
  {
   "cell_type": "markdown",
   "metadata": {},
   "source": [
    "# io for orgtree"
   ]
  },
  {
   "cell_type": "code",
   "execution_count": 1,
   "metadata": {},
   "outputs": [],
   "source": [
    "path_orgtree = \"C:/Users/seoul/Dropbox/00 technical/github/nkelites/data/combined data/combined data - 1 cleaning/cleaning step 5 - orgtree and position/\""
   ]
  },
  {
   "cell_type": "code",
   "execution_count": 2,
   "metadata": {},
   "outputs": [],
   "source": [
    "fileout_orgtree = \"orgtree_0_empty.xlsx\""
   ]
  },
  {
   "cell_type": "markdown",
   "metadata": {},
   "source": [
    "# construct orgtree db"
   ]
  },
  {
   "cell_type": "code",
   "execution_count": 27,
   "metadata": {},
   "outputs": [],
   "source": [
    "orgtree_columns=[\"\"]\n",
    "orgtree = pd.DataFrame(columns=orgtree_columns)"
   ]
  },
  {
   "cell_type": "markdown",
   "metadata": {},
   "source": [
    "# fields from job_str - reference and then delete "
   ]
  },
  {
   "cell_type": "code",
   "execution_count": 28,
   "metadata": {},
   "outputs": [],
   "source": [
    "# Parse Date from CareerString (presuming each string only has one date - otherwise, parse separate date for each substring)\n",
    "job_str[\"CareerDate\"] = np.nan\n",
    "\n",
    "# Does CareerString contain more than one appointment? T/F\n",
    "job_str[\"MultipleSubstrings\"] = np.nan"
   ]
  },
  {
   "cell_type": "code",
   "execution_count": 29,
   "metadata": {},
   "outputs": [],
   "source": [
    "# If there are MultipleSubstrings, parse each substring (and assign it an ID - automatically, not manually)\n",
    "job_str[\"CareerSubstringID\"] = job_str[\"CareerStringID\"]\n",
    "job_str[\"CareerSubstring\"] = np.nan"
   ]
  },
  {
   "cell_type": "code",
   "execution_count": 30,
   "metadata": {},
   "outputs": [],
   "source": [
    "# Parse OrgString and PositionString from CareerSubstring  \n",
    "job_str[\"OrgString\"] = np.nan\n",
    "job_str[\"PositionString\"] = np.nan"
   ]
  },
  {
   "cell_type": "code",
   "execution_count": 31,
   "metadata": {},
   "outputs": [],
   "source": [
    "# Code and add OrgID, OrgName, PositionID, PositionName to each CareerSubstring\n",
    "job_str[\"OrgID\"] = np.nan\n",
    "job_str[\"Org\"] = np.nan\n",
    "job_str[\"PositionID\"] = np.nan\n",
    "job_str[\"Position\"] = np.nan"
   ]
  },
  {
   "cell_type": "markdown",
   "metadata": {},
   "source": [
    "# export orgtree db, now ready to populate"
   ]
  },
  {
   "cell_type": "code",
   "execution_count": 41,
   "metadata": {},
   "outputs": [],
   "source": [
    "orgtree.to_excel(path_orgtree+fileout_orgtree,index=False,encoding=\"utf-8\")"
   ]
  },
  {
   "cell_type": "code",
   "execution_count": null,
   "metadata": {},
   "outputs": [],
   "source": []
  }
 ],
 "metadata": {
  "kernelspec": {
   "display_name": "Python 3",
   "language": "python",
   "name": "python3"
  },
  "language_info": {
   "codemirror_mode": {
    "name": "ipython",
    "version": 3
   },
   "file_extension": ".py",
   "mimetype": "text/x-python",
   "name": "python",
   "nbconvert_exporter": "python",
   "pygments_lexer": "ipython3",
   "version": "3.7.3"
  }
 },
 "nbformat": 4,
 "nbformat_minor": 4
}
