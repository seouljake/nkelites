{
 "cells": [
  {
   "cell_type": "markdown",
   "metadata": {},
   "source": [
    "# libraries & global vars"
   ]
  },
  {
   "cell_type": "code",
   "execution_count": 1,
   "metadata": {},
   "outputs": [],
   "source": [
    "import pandas as pd\n",
    "import numpy as np\n",
    "pd.set_option('display.max_rows', None)"
   ]
  },
  {
   "cell_type": "markdown",
   "metadata": {},
   "source": [
    "# io orgtree & org codes"
   ]
  },
  {
   "cell_type": "code",
   "execution_count": 2,
   "metadata": {},
   "outputs": [],
   "source": [
    "path_org_str = \"C:/Users/seoul/Dropbox/00 technical/github/nkelites/data/combined data/combined data - 1 cleaning/cleaning step 5 - orgtree/\""
   ]
  },
  {
   "cell_type": "code",
   "execution_count": 3,
   "metadata": {},
   "outputs": [],
   "source": [
    "filein_org_tree = \"orgtree1_1.xlsx\""
   ]
  },
  {
   "cell_type": "code",
   "execution_count": 41,
   "metadata": {},
   "outputs": [],
   "source": [
    "fileout_org_tree = \"orgtree1_3\""
   ]
  },
  {
   "cell_type": "markdown",
   "metadata": {},
   "source": [
    "# import newly parsed unique & multi strings"
   ]
  },
  {
   "cell_type": "code",
   "execution_count": 517,
   "metadata": {},
   "outputs": [],
   "source": [
    "# read in orgtree db\n",
    "orgtree_party = pd.read_excel(path_org_str+filein_org_tree,dtype=\"str\",sheet_name=\"노동당\")\n",
    "orgtree_outside = pd.read_excel(path_org_str+filein_org_tree,dtype=\"str\",sheet_name=\"당외곽\")\n",
    "orgtree_govt = pd.read_excel(path_org_str+filein_org_tree,dtype=\"str\",sheet_name=\"정권기관\")\n",
    "orgtree_army = pd.read_excel(path_org_str+filein_org_tree,dtype=\"str\",sheet_name=\"인민군\")"
   ]
  },
  {
   "cell_type": "code",
   "execution_count": 518,
   "metadata": {},
   "outputs": [
    {
     "data": {
      "text/plain": [
       "(149, 10)"
      ]
     },
     "execution_count": 518,
     "metadata": {},
     "output_type": "execute_result"
    }
   ],
   "source": [
    "orgtree_party.shape"
   ]
  },
  {
   "cell_type": "code",
   "execution_count": 519,
   "metadata": {},
   "outputs": [
    {
     "data": {
      "text/plain": [
       "(582, 10)"
      ]
     },
     "execution_count": 519,
     "metadata": {},
     "output_type": "execute_result"
    }
   ],
   "source": [
    "orgtree_govt.shape"
   ]
  },
  {
   "cell_type": "code",
   "execution_count": 520,
   "metadata": {},
   "outputs": [
    {
     "data": {
      "text/plain": [
       "(289, 10)"
      ]
     },
     "execution_count": 520,
     "metadata": {},
     "output_type": "execute_result"
    }
   ],
   "source": [
    "orgtree_army.shape"
   ]
  },
  {
   "cell_type": "code",
   "execution_count": 521,
   "metadata": {},
   "outputs": [
    {
     "data": {
      "text/plain": [
       "(391, 10)"
      ]
     },
     "execution_count": 521,
     "metadata": {},
     "output_type": "execute_result"
    }
   ],
   "source": [
    "orgtree_outside.shape"
   ]
  },
  {
   "cell_type": "code",
   "execution_count": 522,
   "metadata": {},
   "outputs": [],
   "source": [
    "orgtree_party.columns = orgtree_govt.columns"
   ]
  },
  {
   "cell_type": "code",
   "execution_count": 523,
   "metadata": {},
   "outputs": [],
   "source": [
    "orgtree_army.columns = orgtree_govt.columns"
   ]
  },
  {
   "cell_type": "code",
   "execution_count": 524,
   "metadata": {},
   "outputs": [],
   "source": [
    "orgtree_outside.columns = orgtree_govt.columns"
   ]
  },
  {
   "cell_type": "code",
   "execution_count": 525,
   "metadata": {},
   "outputs": [
    {
     "data": {
      "text/plain": [
       "Index(['ID', 'Org1', 'Org2', 'Org3', 'Org4', 'Org5', 'LinkToCurrent',\n",
       "       'StatusUncertain', 'org1 error', '비고'],\n",
       "      dtype='object')"
      ]
     },
     "execution_count": 525,
     "metadata": {},
     "output_type": "execute_result"
    }
   ],
   "source": [
    "orgtree_party.columns"
   ]
  },
  {
   "cell_type": "code",
   "execution_count": 526,
   "metadata": {},
   "outputs": [],
   "source": [
    "orgtree_inside = pd.concat([orgtree_party,orgtree_army,orgtree_party,orgtree_govt])"
   ]
  },
  {
   "cell_type": "code",
   "execution_count": 527,
   "metadata": {},
   "outputs": [],
   "source": [
    "orgtree_inside[\"InsideGov\"] = True"
   ]
  },
  {
   "cell_type": "code",
   "execution_count": 528,
   "metadata": {},
   "outputs": [],
   "source": [
    "orgtree_outside[\"InsideGov\"] = False"
   ]
  },
  {
   "cell_type": "code",
   "execution_count": 541,
   "metadata": {},
   "outputs": [],
   "source": [
    "orgtree = pd.concat([orgtree_inside,orgtree_outside])"
   ]
  },
  {
   "cell_type": "code",
   "execution_count": 542,
   "metadata": {},
   "outputs": [],
   "source": [
    "orgtree.columns = ['ID', 'PrimaryInstitution', 'Org2', 'Org3', 'Org4', 'Org5', 'LinkToCurrent',\n",
    "       'StatusUncertain', 'org1 error', '비고', 'InsideGov']"
   ]
  },
  {
   "cell_type": "code",
   "execution_count": 543,
   "metadata": {},
   "outputs": [],
   "source": [
    "orgtree[\"OrgName\"] = orgtree[[\"Org2\",\"Org3\",\"Org4\",\"Org5\"]].apply(lambda row: \"_\".join([str(item) for item in [row[\"Org2\"],row[\"Org3\"],row[\"Org4\"],row[\"Org5\"]] if item is not np.nan]),axis=1)"
   ]
  },
  {
   "cell_type": "code",
   "execution_count": 544,
   "metadata": {},
   "outputs": [],
   "source": [
    "# remove all white spaces from PrimaryInstitution\n",
    "orgtree[\"PrimaryInstitution\"] = orgtree[\"PrimaryInstitution\"].replace({\" \":\"\",\"\\n\":\"\"},regex=True)"
   ]
  },
  {
   "cell_type": "code",
   "execution_count": 545,
   "metadata": {},
   "outputs": [],
   "source": [
    "# remove all white spaces from OrgName\n",
    "orgtree[\"OrgName\"] = orgtree[\"OrgName\"].replace({\" \":\"\",\"\\n\":\"\"},regex=True)"
   ]
  },
  {
   "cell_type": "code",
   "execution_count": 551,
   "metadata": {},
   "outputs": [
    {
     "data": {
      "text/html": [
       "<div>\n",
       "<style scoped>\n",
       "    .dataframe tbody tr th:only-of-type {\n",
       "        vertical-align: middle;\n",
       "    }\n",
       "\n",
       "    .dataframe tbody tr th {\n",
       "        vertical-align: top;\n",
       "    }\n",
       "\n",
       "    .dataframe thead th {\n",
       "        text-align: right;\n",
       "    }\n",
       "</style>\n",
       "<table border=\"1\" class=\"dataframe\">\n",
       "  <thead>\n",
       "    <tr style=\"text-align: right;\">\n",
       "      <th></th>\n",
       "      <th>ID</th>\n",
       "      <th>PrimaryInstitution</th>\n",
       "      <th>Org2</th>\n",
       "      <th>Org3</th>\n",
       "      <th>Org4</th>\n",
       "      <th>Org5</th>\n",
       "      <th>LinkToCurrent</th>\n",
       "      <th>StatusUncertain</th>\n",
       "      <th>org1 error</th>\n",
       "      <th>비고</th>\n",
       "      <th>InsideGov</th>\n",
       "      <th>OrgName</th>\n",
       "    </tr>\n",
       "  </thead>\n",
       "  <tbody>\n",
       "  </tbody>\n",
       "</table>\n",
       "</div>"
      ],
      "text/plain": [
       "Empty DataFrame\n",
       "Columns: [ID, PrimaryInstitution, Org2, Org3, Org4, Org5, LinkToCurrent, StatusUncertain, org1 error, 비고, InsideGov, OrgName]\n",
       "Index: []"
      ]
     },
     "execution_count": 551,
     "metadata": {},
     "output_type": "execute_result"
    }
   ],
   "source": [
    "# verify no PrimaryInstitution are \"\"\n",
    "orgtree[orgtree.PrimaryInstitution == \"\"]"
   ]
  },
  {
   "cell_type": "code",
   "execution_count": 553,
   "metadata": {},
   "outputs": [],
   "source": [
    "orgtree[\"ImmediateSuperiorOrg\"] = orgtree[\"OrgName\"].apply(lambda row: \"_\".join(row.split(\"_\")[:-1]))"
   ]
  },
  {
   "cell_type": "code",
   "execution_count": 554,
   "metadata": {},
   "outputs": [],
   "source": [
    "# replace \"NAN\" with proper null\n",
    "orgtree.loc[orgtree.LinkToCurrent==\"NAN\"] = np.nan"
   ]
  },
  {
   "cell_type": "code",
   "execution_count": 555,
   "metadata": {},
   "outputs": [
    {
     "data": {
      "text/html": [
       "<div>\n",
       "<style scoped>\n",
       "    .dataframe tbody tr th:only-of-type {\n",
       "        vertical-align: middle;\n",
       "    }\n",
       "\n",
       "    .dataframe tbody tr th {\n",
       "        vertical-align: top;\n",
       "    }\n",
       "\n",
       "    .dataframe thead th {\n",
       "        text-align: right;\n",
       "    }\n",
       "</style>\n",
       "<table border=\"1\" class=\"dataframe\">\n",
       "  <thead>\n",
       "    <tr style=\"text-align: right;\">\n",
       "      <th></th>\n",
       "      <th>ID</th>\n",
       "      <th>PrimaryInstitution</th>\n",
       "      <th>Org2</th>\n",
       "      <th>Org3</th>\n",
       "      <th>Org4</th>\n",
       "      <th>Org5</th>\n",
       "      <th>LinkToCurrent</th>\n",
       "      <th>StatusUncertain</th>\n",
       "      <th>org1 error</th>\n",
       "      <th>비고</th>\n",
       "      <th>InsideGov</th>\n",
       "      <th>OrgName</th>\n",
       "      <th>ImmediateSuperiorOrg</th>\n",
       "    </tr>\n",
       "  </thead>\n",
       "  <tbody>\n",
       "    <tr>\n",
       "      <th>0</th>\n",
       "      <td>1</td>\n",
       "      <td>당중앙군사위원회</td>\n",
       "      <td>NaN</td>\n",
       "      <td>NaN</td>\n",
       "      <td>NaN</td>\n",
       "      <td>NaN</td>\n",
       "      <td>Current</td>\n",
       "      <td>NaN</td>\n",
       "      <td>NaN</td>\n",
       "      <td>NaN</td>\n",
       "      <td>True</td>\n",
       "      <td></td>\n",
       "      <td></td>\n",
       "    </tr>\n",
       "    <tr>\n",
       "      <th>1</th>\n",
       "      <td>2</td>\n",
       "      <td>당중앙검사위원회</td>\n",
       "      <td>NaN</td>\n",
       "      <td>NaN</td>\n",
       "      <td>NaN</td>\n",
       "      <td>NaN</td>\n",
       "      <td>Current</td>\n",
       "      <td>NaN</td>\n",
       "      <td>NaN</td>\n",
       "      <td>NaN</td>\n",
       "      <td>True</td>\n",
       "      <td></td>\n",
       "      <td></td>\n",
       "    </tr>\n",
       "    <tr>\n",
       "      <th>2</th>\n",
       "      <td>3</td>\n",
       "      <td>당중앙위원회</td>\n",
       "      <td>정치국</td>\n",
       "      <td>NaN</td>\n",
       "      <td>NaN</td>\n",
       "      <td>NaN</td>\n",
       "      <td>Current</td>\n",
       "      <td>NaN</td>\n",
       "      <td>NaN</td>\n",
       "      <td>NaN</td>\n",
       "      <td>True</td>\n",
       "      <td>정치국</td>\n",
       "      <td></td>\n",
       "    </tr>\n",
       "    <tr>\n",
       "      <th>3</th>\n",
       "      <td>4</td>\n",
       "      <td>당중앙위원회</td>\n",
       "      <td>비서국</td>\n",
       "      <td>NaN</td>\n",
       "      <td>NaN</td>\n",
       "      <td>NaN</td>\n",
       "      <td>Current</td>\n",
       "      <td>NaN</td>\n",
       "      <td>NaN</td>\n",
       "      <td>NaN</td>\n",
       "      <td>True</td>\n",
       "      <td>비서국</td>\n",
       "      <td></td>\n",
       "    </tr>\n",
       "    <tr>\n",
       "      <th>4</th>\n",
       "      <td>5</td>\n",
       "      <td>당중앙위원회</td>\n",
       "      <td>조직지도부</td>\n",
       "      <td>NaN</td>\n",
       "      <td>NaN</td>\n",
       "      <td>NaN</td>\n",
       "      <td>Current</td>\n",
       "      <td>NaN</td>\n",
       "      <td>NaN</td>\n",
       "      <td>NaN</td>\n",
       "      <td>True</td>\n",
       "      <td>조직지도부</td>\n",
       "      <td></td>\n",
       "    </tr>\n",
       "  </tbody>\n",
       "</table>\n",
       "</div>"
      ],
      "text/plain": [
       "  ID PrimaryInstitution   Org2 Org3 Org4 Org5 LinkToCurrent StatusUncertain  \\\n",
       "0  1           당중앙군사위원회    NaN  NaN  NaN  NaN       Current             NaN   \n",
       "1  2           당중앙검사위원회    NaN  NaN  NaN  NaN       Current             NaN   \n",
       "2  3             당중앙위원회    정치국  NaN  NaN  NaN       Current             NaN   \n",
       "3  4             당중앙위원회    비서국  NaN  NaN  NaN       Current             NaN   \n",
       "4  5             당중앙위원회  조직지도부  NaN  NaN  NaN       Current             NaN   \n",
       "\n",
       "  org1 error   비고 InsideGov OrgName ImmediateSuperiorOrg  \n",
       "0        NaN  NaN      True                               \n",
       "1        NaN  NaN      True                               \n",
       "2        NaN  NaN      True     정치국                       \n",
       "3        NaN  NaN      True     비서국                       \n",
       "4        NaN  NaN      True   조직지도부                       "
      ]
     },
     "execution_count": 555,
     "metadata": {},
     "output_type": "execute_result"
    }
   ],
   "source": [
    "orgtree[0:5]"
   ]
  },
  {
   "cell_type": "code",
   "execution_count": 556,
   "metadata": {},
   "outputs": [
    {
     "data": {
      "text/plain": [
       "(1560, 13)"
      ]
     },
     "execution_count": 556,
     "metadata": {},
     "output_type": "execute_result"
    }
   ],
   "source": [
    "orgtree.shape"
   ]
  },
  {
   "cell_type": "code",
   "execution_count": 557,
   "metadata": {},
   "outputs": [
    {
     "data": {
      "text/plain": [
       "(1470, 13)"
      ]
     },
     "execution_count": 557,
     "metadata": {},
     "output_type": "execute_result"
    }
   ],
   "source": [
    "orgtree = orgtree[~orgtree.ID.isna()]\n",
    "orgtree.shape"
   ]
  },
  {
   "cell_type": "code",
   "execution_count": 558,
   "metadata": {},
   "outputs": [],
   "source": [
    "select_columns = [\"ID\",\"InsideGov\",\n",
    "                  \"PrimaryInstitution\",\"OrgName\",\"ImmediateSuperiorOrg\",\n",
    "                  \"LinkToCurrent\",\"StatusUncertain\",\"org1 error\",\"비고\"]\n",
    "orgtree_concise = orgtree[select_columns]"
   ]
  },
  {
   "cell_type": "markdown",
   "metadata": {},
   "source": [
    "# remove StatusUncertain and org1 error"
   ]
  },
  {
   "cell_type": "code",
   "execution_count": 593,
   "metadata": {},
   "outputs": [
    {
     "data": {
      "text/plain": [
       "(1470, 9)"
      ]
     },
     "execution_count": 593,
     "metadata": {},
     "output_type": "execute_result"
    }
   ],
   "source": [
    "orgtree = orgtree_concise\n",
    "orgtree.shape"
   ]
  },
  {
   "cell_type": "code",
   "execution_count": 594,
   "metadata": {},
   "outputs": [
    {
     "data": {
      "text/html": [
       "<div>\n",
       "<style scoped>\n",
       "    .dataframe tbody tr th:only-of-type {\n",
       "        vertical-align: middle;\n",
       "    }\n",
       "\n",
       "    .dataframe tbody tr th {\n",
       "        vertical-align: top;\n",
       "    }\n",
       "\n",
       "    .dataframe thead th {\n",
       "        text-align: right;\n",
       "    }\n",
       "</style>\n",
       "<table border=\"1\" class=\"dataframe\">\n",
       "  <thead>\n",
       "    <tr style=\"text-align: right;\">\n",
       "      <th></th>\n",
       "      <th>ID</th>\n",
       "      <th>InsideGov</th>\n",
       "      <th>PrimaryInstitution</th>\n",
       "      <th>OrgName</th>\n",
       "      <th>ImmediateSuperiorOrg</th>\n",
       "      <th>LinkToCurrent</th>\n",
       "      <th>StatusUncertain</th>\n",
       "      <th>org1 error</th>\n",
       "      <th>비고</th>\n",
       "    </tr>\n",
       "  </thead>\n",
       "  <tbody>\n",
       "  </tbody>\n",
       "</table>\n",
       "</div>"
      ],
      "text/plain": [
       "Empty DataFrame\n",
       "Columns: [ID, InsideGov, PrimaryInstitution, OrgName, ImmediateSuperiorOrg, LinkToCurrent, StatusUncertain, org1 error, 비고]\n",
       "Index: []"
      ]
     },
     "execution_count": 594,
     "metadata": {},
     "output_type": "execute_result"
    }
   ],
   "source": [
    "# confirm no overlap between the two variables\n",
    "orgtree[~orgtree[\"org1 error\"].isna() & ~orgtree[\"StatusUncertain\"].isna()]"
   ]
  },
  {
   "cell_type": "code",
   "execution_count": 595,
   "metadata": {},
   "outputs": [
    {
     "data": {
      "text/plain": [
       "(128, 9)"
      ]
     },
     "execution_count": 595,
     "metadata": {},
     "output_type": "execute_result"
    }
   ],
   "source": [
    "orgtree_statusuncertain = orgtree[~orgtree[\"StatusUncertain\"].isna()]\n",
    "orgtree_statusuncertain.shape"
   ]
  },
  {
   "cell_type": "code",
   "execution_count": 596,
   "metadata": {},
   "outputs": [
    {
     "data": {
      "text/plain": [
       "(65, 9)"
      ]
     },
     "execution_count": 596,
     "metadata": {},
     "output_type": "execute_result"
    }
   ],
   "source": [
    "orgtree_org1error = orgtree[~orgtree[\"org1 error\"].isna()]\n",
    "orgtree_org1error.shape"
   ]
  },
  {
   "cell_type": "code",
   "execution_count": 597,
   "metadata": {},
   "outputs": [
    {
     "data": {
      "text/plain": [
       "(1277, 9)"
      ]
     },
     "execution_count": 597,
     "metadata": {},
     "output_type": "execute_result"
    }
   ],
   "source": [
    "orgtree_no_errors = orgtree[orgtree[\"org1 error\"].isna() & orgtree[\"StatusUncertain\"].isna()]\n",
    "orgtree_no_errors.shape"
   ]
  },
  {
   "cell_type": "code",
   "execution_count": 598,
   "metadata": {},
   "outputs": [
    {
     "data": {
      "text/plain": [
       "Index(['ID', 'InsideGov', 'PrimaryInstitution', 'OrgName',\n",
       "       'ImmediateSuperiorOrg', 'LinkToCurrent', 'StatusUncertain',\n",
       "       'org1 error', '비고'],\n",
       "      dtype='object')"
      ]
     },
     "execution_count": 598,
     "metadata": {},
     "output_type": "execute_result"
    }
   ],
   "source": [
    "orgtree_no_errors.columns"
   ]
  },
  {
   "cell_type": "code",
   "execution_count": 599,
   "metadata": {},
   "outputs": [
    {
     "data": {
      "text/plain": [
       "(1277, 7)"
      ]
     },
     "execution_count": 599,
     "metadata": {},
     "output_type": "execute_result"
    }
   ],
   "source": [
    "# drop StatusUncertain & org1 error\n",
    "orgtree_no_errors = orgtree_no_errors[['ID', 'InsideGov', 'PrimaryInstitution', 'OrgName','ImmediateSuperiorOrg', 'LinkToCurrent','비고']]\n",
    "orgtree_no_errors.shape"
   ]
  },
  {
   "cell_type": "code",
   "execution_count": 600,
   "metadata": {},
   "outputs": [],
   "source": [
    "# export rows with non-null StatusUncertain & org1 error\n",
    "suffix = \"_statusuncertain.xlsx\"\n",
    "orgtree_statusuncertain.to_excel(path_org_str+fileout_org_tree+suffix,index=False)"
   ]
  },
  {
   "cell_type": "code",
   "execution_count": 601,
   "metadata": {},
   "outputs": [],
   "source": [
    "suffix = \"_org1error.xlsx\"\n",
    "orgtree_statusuncertain.to_excel(path_org_str+fileout_org_tree+suffix,index=False)"
   ]
  },
  {
   "cell_type": "markdown",
   "metadata": {},
   "source": [
    "# remove duplicate rows and IDs"
   ]
  },
  {
   "cell_type": "code",
   "execution_count": 603,
   "metadata": {},
   "outputs": [
    {
     "data": {
      "text/plain": [
       "(1277, 7)"
      ]
     },
     "execution_count": 603,
     "metadata": {},
     "output_type": "execute_result"
    }
   ],
   "source": [
    "orgtree = orgtree_no_errors.copy()\n",
    "orgtree.shape"
   ]
  },
  {
   "cell_type": "code",
   "execution_count": 604,
   "metadata": {},
   "outputs": [
    {
     "data": {
      "text/plain": [
       "(1172, 7)"
      ]
     },
     "execution_count": 604,
     "metadata": {},
     "output_type": "execute_result"
    }
   ],
   "source": [
    "# remove duplicate rows\n",
    "orgtree.drop_duplicates(keep=\"first\",inplace=True,ignore_index=True)\n",
    "orgtree.shape"
   ]
  },
  {
   "cell_type": "code",
   "execution_count": 605,
   "metadata": {},
   "outputs": [
    {
     "data": {
      "text/html": [
       "<div>\n",
       "<style scoped>\n",
       "    .dataframe tbody tr th:only-of-type {\n",
       "        vertical-align: middle;\n",
       "    }\n",
       "\n",
       "    .dataframe tbody tr th {\n",
       "        vertical-align: top;\n",
       "    }\n",
       "\n",
       "    .dataframe thead th {\n",
       "        text-align: right;\n",
       "    }\n",
       "</style>\n",
       "<table border=\"1\" class=\"dataframe\">\n",
       "  <thead>\n",
       "    <tr style=\"text-align: right;\">\n",
       "      <th></th>\n",
       "      <th>ID</th>\n",
       "      <th>InsideGov</th>\n",
       "      <th>PrimaryInstitution</th>\n",
       "      <th>OrgName</th>\n",
       "      <th>ImmediateSuperiorOrg</th>\n",
       "      <th>LinkToCurrent</th>\n",
       "      <th>비고</th>\n",
       "    </tr>\n",
       "  </thead>\n",
       "  <tbody>\n",
       "    <tr>\n",
       "      <th>0</th>\n",
       "      <td>1</td>\n",
       "      <td>True</td>\n",
       "      <td>당중앙군사위원회</td>\n",
       "      <td></td>\n",
       "      <td></td>\n",
       "      <td>Current</td>\n",
       "      <td>NaN</td>\n",
       "    </tr>\n",
       "    <tr>\n",
       "      <th>1</th>\n",
       "      <td>2</td>\n",
       "      <td>True</td>\n",
       "      <td>당중앙검사위원회</td>\n",
       "      <td></td>\n",
       "      <td></td>\n",
       "      <td>Current</td>\n",
       "      <td>NaN</td>\n",
       "    </tr>\n",
       "    <tr>\n",
       "      <th>2</th>\n",
       "      <td>3</td>\n",
       "      <td>True</td>\n",
       "      <td>당중앙위원회</td>\n",
       "      <td>정치국</td>\n",
       "      <td></td>\n",
       "      <td>Current</td>\n",
       "      <td>NaN</td>\n",
       "    </tr>\n",
       "    <tr>\n",
       "      <th>3</th>\n",
       "      <td>4</td>\n",
       "      <td>True</td>\n",
       "      <td>당중앙위원회</td>\n",
       "      <td>비서국</td>\n",
       "      <td></td>\n",
       "      <td>Current</td>\n",
       "      <td>NaN</td>\n",
       "    </tr>\n",
       "    <tr>\n",
       "      <th>4</th>\n",
       "      <td>5</td>\n",
       "      <td>True</td>\n",
       "      <td>당중앙위원회</td>\n",
       "      <td>조직지도부</td>\n",
       "      <td></td>\n",
       "      <td>Current</td>\n",
       "      <td>NaN</td>\n",
       "    </tr>\n",
       "  </tbody>\n",
       "</table>\n",
       "</div>"
      ],
      "text/plain": [
       "  ID InsideGov PrimaryInstitution OrgName ImmediateSuperiorOrg LinkToCurrent  \\\n",
       "0  1      True           당중앙군사위원회                                    Current   \n",
       "1  2      True           당중앙검사위원회                                    Current   \n",
       "2  3      True             당중앙위원회     정치국                            Current   \n",
       "3  4      True             당중앙위원회     비서국                            Current   \n",
       "4  5      True             당중앙위원회   조직지도부                            Current   \n",
       "\n",
       "    비고  \n",
       "0  NaN  \n",
       "1  NaN  \n",
       "2  NaN  \n",
       "3  NaN  \n",
       "4  NaN  "
      ]
     },
     "execution_count": 605,
     "metadata": {},
     "output_type": "execute_result"
    }
   ],
   "source": [
    "orgtree[0:5]"
   ]
  },
  {
   "cell_type": "code",
   "execution_count": 606,
   "metadata": {},
   "outputs": [
    {
     "data": {
      "text/plain": [
       "(156, 7)"
      ]
     },
     "execution_count": 606,
     "metadata": {},
     "output_type": "execute_result"
    }
   ],
   "source": [
    "# find duplicate IDs\n",
    "orgtree_duplicate_IDs = orgtree[orgtree.duplicated(subset=\"ID\",keep=False)].sort_values(\"ID\")\n",
    "orgtree_duplicate_IDs.shape"
   ]
  },
  {
   "cell_type": "code",
   "execution_count": 607,
   "metadata": {},
   "outputs": [
    {
     "data": {
      "text/plain": [
       "(1172, 7)"
      ]
     },
     "execution_count": 607,
     "metadata": {},
     "output_type": "execute_result"
    }
   ],
   "source": [
    "# replace duplicate IDs with null\n",
    "orgtree.loc[orgtree.duplicated(subset=\"ID\",keep=False),\"ID\"] = np.nan\n",
    "orgtree.shape"
   ]
  },
  {
   "cell_type": "code",
   "execution_count": 608,
   "metadata": {},
   "outputs": [
    {
     "data": {
      "text/html": [
       "<div>\n",
       "<style scoped>\n",
       "    .dataframe tbody tr th:only-of-type {\n",
       "        vertical-align: middle;\n",
       "    }\n",
       "\n",
       "    .dataframe tbody tr th {\n",
       "        vertical-align: top;\n",
       "    }\n",
       "\n",
       "    .dataframe thead th {\n",
       "        text-align: right;\n",
       "    }\n",
       "</style>\n",
       "<table border=\"1\" class=\"dataframe\">\n",
       "  <thead>\n",
       "    <tr style=\"text-align: right;\">\n",
       "      <th></th>\n",
       "      <th>ID</th>\n",
       "      <th>InsideGov</th>\n",
       "      <th>PrimaryInstitution</th>\n",
       "      <th>OrgName</th>\n",
       "      <th>ImmediateSuperiorOrg</th>\n",
       "      <th>LinkToCurrent</th>\n",
       "      <th>비고</th>\n",
       "    </tr>\n",
       "  </thead>\n",
       "  <tbody>\n",
       "    <tr>\n",
       "      <th>316</th>\n",
       "      <td>NaN</td>\n",
       "      <td>True</td>\n",
       "      <td>조선인민군항공및반항공군</td>\n",
       "      <td>제8수송연대</td>\n",
       "      <td></td>\n",
       "      <td>Current</td>\n",
       "      <td>NaN</td>\n",
       "    </tr>\n",
       "    <tr>\n",
       "      <th>319</th>\n",
       "      <td>NaN</td>\n",
       "      <td>True</td>\n",
       "      <td>조선인민군항공및반항공군</td>\n",
       "      <td>제8수송연대</td>\n",
       "      <td></td>\n",
       "      <td>Current</td>\n",
       "      <td>NaN</td>\n",
       "    </tr>\n",
       "  </tbody>\n",
       "</table>\n",
       "</div>"
      ],
      "text/plain": [
       "      ID InsideGov PrimaryInstitution OrgName ImmediateSuperiorOrg  \\\n",
       "316  NaN      True       조선인민군항공및반항공군  제8수송연대                        \n",
       "319  NaN      True       조선인민군항공및반항공군  제8수송연대                        \n",
       "\n",
       "    LinkToCurrent   비고  \n",
       "316       Current  NaN  \n",
       "319       Current  NaN  "
      ]
     },
     "execution_count": 608,
     "metadata": {},
     "output_type": "execute_result"
    }
   ],
   "source": [
    "# anymore duplicate rows?\n",
    "orgtree[orgtree.duplicated()]"
   ]
  },
  {
   "cell_type": "code",
   "execution_count": 609,
   "metadata": {},
   "outputs": [
    {
     "data": {
      "text/plain": [
       "(1170, 7)"
      ]
     },
     "execution_count": 609,
     "metadata": {},
     "output_type": "execute_result"
    }
   ],
   "source": [
    "# remove duplicate rows\n",
    "orgtree.drop_duplicates(keep=\"first\",inplace=True,ignore_index=True)\n",
    "orgtree.shape"
   ]
  },
  {
   "cell_type": "code",
   "execution_count": 610,
   "metadata": {},
   "outputs": [],
   "source": [
    "# export rows with duplicate IDs\n",
    "suffix = \"_duplicateIDs.xlsx\"\n",
    "orgtree_duplicate_IDs.to_excel(path_org_str+fileout_org_tree+suffix,index=False)"
   ]
  },
  {
   "cell_type": "code",
   "execution_count": 612,
   "metadata": {},
   "outputs": [],
   "source": [
    "orgtree_cleanIDs = orgtree.copy()"
   ]
  },
  {
   "cell_type": "markdown",
   "metadata": {},
   "source": [
    "# replace LinkToCurrent with PrimaryInstitution and OrgName"
   ]
  },
  {
   "cell_type": "code",
   "execution_count": 613,
   "metadata": {},
   "outputs": [
    {
     "data": {
      "text/plain": [
       "(1170, 7)"
      ]
     },
     "execution_count": 613,
     "metadata": {},
     "output_type": "execute_result"
    }
   ],
   "source": [
    "orgtree = orgtree_cleanIDs.copy()\n",
    "orgtree.shape"
   ]
  },
  {
   "cell_type": "code",
   "execution_count": 614,
   "metadata": {},
   "outputs": [
    {
     "data": {
      "text/plain": [
       "(837, 7)"
      ]
     },
     "execution_count": 614,
     "metadata": {},
     "output_type": "execute_result"
    }
   ],
   "source": [
    "# LinkToCurrent is Current\n",
    "orgtree[orgtree.LinkToCurrent == \"Current\"].shape"
   ]
  },
  {
   "cell_type": "code",
   "execution_count": 615,
   "metadata": {},
   "outputs": [
    {
     "data": {
      "text/plain": [
       "(38, 7)"
      ]
     },
     "execution_count": 615,
     "metadata": {},
     "output_type": "execute_result"
    }
   ],
   "source": [
    "# LinkToCurrent is null\n",
    "orgtree[orgtree.LinkToCurrent.isna()].shape"
   ]
  },
  {
   "cell_type": "code",
   "execution_count": 616,
   "metadata": {},
   "outputs": [
    {
     "data": {
      "text/plain": [
       "(295, 7)"
      ]
     },
     "execution_count": 616,
     "metadata": {},
     "output_type": "execute_result"
    }
   ],
   "source": [
    "# LinkToCurrent links to an ID\n",
    "orgtree[(~orgtree.LinkToCurrent.isna()) & (orgtree.LinkToCurrent != \"Current\")].shape"
   ]
  },
  {
   "cell_type": "code",
   "execution_count": 617,
   "metadata": {},
   "outputs": [
    {
     "data": {
      "text/plain": [
       "(1016, 3)"
      ]
     },
     "execution_count": 617,
     "metadata": {},
     "output_type": "execute_result"
    }
   ],
   "source": [
    "# create a unique list of non-null IDs\n",
    "orgid = orgtree.loc[~orgtree.ID.isna(),[\"ID\",\"PrimaryInstitution\",\"OrgName\"]]\n",
    "orgid.shape"
   ]
  },
  {
   "cell_type": "code",
   "execution_count": 618,
   "metadata": {},
   "outputs": [
    {
     "data": {
      "text/html": [
       "<div>\n",
       "<style scoped>\n",
       "    .dataframe tbody tr th:only-of-type {\n",
       "        vertical-align: middle;\n",
       "    }\n",
       "\n",
       "    .dataframe tbody tr th {\n",
       "        vertical-align: top;\n",
       "    }\n",
       "\n",
       "    .dataframe thead th {\n",
       "        text-align: right;\n",
       "    }\n",
       "</style>\n",
       "<table border=\"1\" class=\"dataframe\">\n",
       "  <thead>\n",
       "    <tr style=\"text-align: right;\">\n",
       "      <th></th>\n",
       "      <th>ID</th>\n",
       "      <th>PrimaryInstitution</th>\n",
       "      <th>OrgName</th>\n",
       "    </tr>\n",
       "  </thead>\n",
       "  <tbody>\n",
       "  </tbody>\n",
       "</table>\n",
       "</div>"
      ],
      "text/plain": [
       "Empty DataFrame\n",
       "Columns: [ID, PrimaryInstitution, OrgName]\n",
       "Index: []"
      ]
     },
     "execution_count": 618,
     "metadata": {},
     "output_type": "execute_result"
    }
   ],
   "source": [
    "# verify no duplicated IDs\n",
    "orgid[orgid.duplicated()]"
   ]
  },
  {
   "cell_type": "code",
   "execution_count": 619,
   "metadata": {},
   "outputs": [
    {
     "data": {
      "text/html": [
       "<div>\n",
       "<style scoped>\n",
       "    .dataframe tbody tr th:only-of-type {\n",
       "        vertical-align: middle;\n",
       "    }\n",
       "\n",
       "    .dataframe tbody tr th {\n",
       "        vertical-align: top;\n",
       "    }\n",
       "\n",
       "    .dataframe thead th {\n",
       "        text-align: right;\n",
       "    }\n",
       "</style>\n",
       "<table border=\"1\" class=\"dataframe\">\n",
       "  <thead>\n",
       "    <tr style=\"text-align: right;\">\n",
       "      <th></th>\n",
       "      <th>ID</th>\n",
       "      <th>PrimaryInstitution</th>\n",
       "      <th>OrgName</th>\n",
       "    </tr>\n",
       "  </thead>\n",
       "  <tbody>\n",
       "  </tbody>\n",
       "</table>\n",
       "</div>"
      ],
      "text/plain": [
       "Empty DataFrame\n",
       "Columns: [ID, PrimaryInstitution, OrgName]\n",
       "Index: []"
      ]
     },
     "execution_count": 619,
     "metadata": {},
     "output_type": "execute_result"
    }
   ],
   "source": [
    "# verify no non-null IDs\n",
    "orgid[orgid.ID.isna()]"
   ]
  },
  {
   "cell_type": "code",
   "execution_count": 620,
   "metadata": {},
   "outputs": [
    {
     "data": {
      "text/plain": [
       "(1170, 11)"
      ]
     },
     "execution_count": 620,
     "metadata": {},
     "output_type": "execute_result"
    }
   ],
   "source": [
    "# merge orgtree with unique list of non-null IDs\n",
    "orgtree_linked = orgtree.merge(orgid,how=\"left\",left_on=\"LinkToCurrent\",right_on=\"ID\",suffixes=(\"\",\"_LinkToCurrent\"),indicator=True)\n",
    "orgtree_linked.shape"
   ]
  },
  {
   "cell_type": "code",
   "execution_count": 621,
   "metadata": {},
   "outputs": [
    {
     "data": {
      "text/plain": [
       "(837, 11)"
      ]
     },
     "execution_count": 621,
     "metadata": {},
     "output_type": "execute_result"
    }
   ],
   "source": [
    "# verify # of current is same\n",
    "orgtree_linked[orgtree_linked.LinkToCurrent == \"Current\"].shape"
   ]
  },
  {
   "cell_type": "code",
   "execution_count": 622,
   "metadata": {},
   "outputs": [
    {
     "data": {
      "text/plain": [
       "(38, 11)"
      ]
     },
     "execution_count": 622,
     "metadata": {},
     "output_type": "execute_result"
    }
   ],
   "source": [
    "# verify # of null is same\n",
    "orgtree_linked[orgtree_linked.LinkToCurrent.isna()].shape"
   ]
  },
  {
   "cell_type": "code",
   "execution_count": 623,
   "metadata": {},
   "outputs": [
    {
     "data": {
      "text/plain": [
       "(295, 11)"
      ]
     },
     "execution_count": 623,
     "metadata": {},
     "output_type": "execute_result"
    }
   ],
   "source": [
    "# verify # of non-null links is the same\n",
    "orgtree_linked[(~orgtree_linked.LinkToCurrent.isna()) & (orgtree_linked.LinkToCurrent != \"Current\")].shape"
   ]
  },
  {
   "cell_type": "code",
   "execution_count": 624,
   "metadata": {},
   "outputs": [
    {
     "data": {
      "text/plain": [
       "(47, 11)"
      ]
     },
     "execution_count": 624,
     "metadata": {},
     "output_type": "execute_result"
    }
   ],
   "source": [
    "# all LinkToCurrent which failed to merge (excluding NaN and Current)\n",
    "# some LinkToCurrent with non-null ID may not find a match, and will be null, if ID was a duplicate\n",
    "orgtree_linked[((~orgtree_linked.LinkToCurrent.isna()) \n",
    "                & (orgtree_linked.LinkToCurrent != \"Current\")) \n",
    "               & (orgtree_linked[\"_merge\"]==\"left_only\")].shape"
   ]
  },
  {
   "cell_type": "code",
   "execution_count": 625,
   "metadata": {},
   "outputs": [],
   "source": [
    "# code PrimaryInstitution_LinkToCurrent and OrgName_LinkToCurrent as Current if LinkToCurrent == LinkToCurrent\n",
    "orgtree_linked.loc[orgtree_linked.LinkToCurrent==\"Current\",\"PrimaryInstitution_LinkToCurrent\"] = \"Current\"\n",
    "orgtree_linked.loc[orgtree_linked.LinkToCurrent==\"Current\",\"OrgName_LinkToCurrent\"] = \"Current\""
   ]
  },
  {
   "cell_type": "code",
   "execution_count": 626,
   "metadata": {},
   "outputs": [],
   "source": [
    "# drop ID, LinkToCurrent, ID_LinkToCurrent, _merge\n",
    "orgtree_linked.drop(columns=[\"ID\",\"LinkToCurrent\",\"ID_LinkToCurrent\",\"_merge\"],inplace=True)"
   ]
  },
  {
   "cell_type": "code",
   "execution_count": 627,
   "metadata": {},
   "outputs": [],
   "source": [
    "# rename PrimaryInstitution_LinkToCurrent --> LinkToCurrent_PrimaryInstitution, LinkToCurrent_OrgName\n",
    "orgtree_linked.columns = ['InsideGov', 'PrimaryInstitution', 'OrgName', 'ImmediateSuperiorOrg','비고',\n",
    "       'LinkToCurrent_PrimaryInstitution', 'LinkToCurrent_OrgName']"
   ]
  },
  {
   "cell_type": "code",
   "execution_count": 628,
   "metadata": {},
   "outputs": [],
   "source": [
    "# re-order columns\n",
    "orgtree_linked = orgtree_linked[['InsideGov', 'PrimaryInstitution', 'OrgName', 'ImmediateSuperiorOrg',\n",
    "       'LinkToCurrent_PrimaryInstitution', 'LinkToCurrent_OrgName','비고']]"
   ]
  },
  {
   "cell_type": "code",
   "execution_count": 629,
   "metadata": {},
   "outputs": [
    {
     "data": {
      "text/html": [
       "<div>\n",
       "<style scoped>\n",
       "    .dataframe tbody tr th:only-of-type {\n",
       "        vertical-align: middle;\n",
       "    }\n",
       "\n",
       "    .dataframe tbody tr th {\n",
       "        vertical-align: top;\n",
       "    }\n",
       "\n",
       "    .dataframe thead th {\n",
       "        text-align: right;\n",
       "    }\n",
       "</style>\n",
       "<table border=\"1\" class=\"dataframe\">\n",
       "  <thead>\n",
       "    <tr style=\"text-align: right;\">\n",
       "      <th></th>\n",
       "      <th>InsideGov</th>\n",
       "      <th>PrimaryInstitution</th>\n",
       "      <th>OrgName</th>\n",
       "      <th>ImmediateSuperiorOrg</th>\n",
       "      <th>LinkToCurrent_PrimaryInstitution</th>\n",
       "      <th>LinkToCurrent_OrgName</th>\n",
       "      <th>비고</th>\n",
       "    </tr>\n",
       "  </thead>\n",
       "  <tbody>\n",
       "    <tr>\n",
       "      <th>0</th>\n",
       "      <td>True</td>\n",
       "      <td>당중앙군사위원회</td>\n",
       "      <td></td>\n",
       "      <td></td>\n",
       "      <td>Current</td>\n",
       "      <td>Current</td>\n",
       "      <td>NaN</td>\n",
       "    </tr>\n",
       "    <tr>\n",
       "      <th>1</th>\n",
       "      <td>True</td>\n",
       "      <td>당중앙검사위원회</td>\n",
       "      <td></td>\n",
       "      <td></td>\n",
       "      <td>Current</td>\n",
       "      <td>Current</td>\n",
       "      <td>NaN</td>\n",
       "    </tr>\n",
       "    <tr>\n",
       "      <th>2</th>\n",
       "      <td>True</td>\n",
       "      <td>당중앙위원회</td>\n",
       "      <td>정치국</td>\n",
       "      <td></td>\n",
       "      <td>Current</td>\n",
       "      <td>Current</td>\n",
       "      <td>NaN</td>\n",
       "    </tr>\n",
       "    <tr>\n",
       "      <th>3</th>\n",
       "      <td>True</td>\n",
       "      <td>당중앙위원회</td>\n",
       "      <td>비서국</td>\n",
       "      <td></td>\n",
       "      <td>Current</td>\n",
       "      <td>Current</td>\n",
       "      <td>NaN</td>\n",
       "    </tr>\n",
       "    <tr>\n",
       "      <th>4</th>\n",
       "      <td>True</td>\n",
       "      <td>당중앙위원회</td>\n",
       "      <td>조직지도부</td>\n",
       "      <td></td>\n",
       "      <td>Current</td>\n",
       "      <td>Current</td>\n",
       "      <td>NaN</td>\n",
       "    </tr>\n",
       "  </tbody>\n",
       "</table>\n",
       "</div>"
      ],
      "text/plain": [
       "  InsideGov PrimaryInstitution OrgName ImmediateSuperiorOrg  \\\n",
       "0      True           당중앙군사위원회                                \n",
       "1      True           당중앙검사위원회                                \n",
       "2      True             당중앙위원회     정치국                        \n",
       "3      True             당중앙위원회     비서국                        \n",
       "4      True             당중앙위원회   조직지도부                        \n",
       "\n",
       "  LinkToCurrent_PrimaryInstitution LinkToCurrent_OrgName   비고  \n",
       "0                          Current               Current  NaN  \n",
       "1                          Current               Current  NaN  \n",
       "2                          Current               Current  NaN  \n",
       "3                          Current               Current  NaN  \n",
       "4                          Current               Current  NaN  "
      ]
     },
     "execution_count": 629,
     "metadata": {},
     "output_type": "execute_result"
    }
   ],
   "source": [
    "orgtree_linked[0:5]"
   ]
  },
  {
   "cell_type": "code",
   "execution_count": 630,
   "metadata": {},
   "outputs": [
    {
     "data": {
      "text/plain": [
       "(1170, 7)"
      ]
     },
     "execution_count": 630,
     "metadata": {},
     "output_type": "execute_result"
    }
   ],
   "source": [
    "orgtree_linked.shape"
   ]
  },
  {
   "cell_type": "markdown",
   "metadata": {},
   "source": [
    "# remove duplicate PrimaryInstitution, OrgName\n",
    "- verify every duplicated pair has at least one LinkToCurrent_PrimaryInstitution == Current\n",
    "- keep the Current one and drop the other"
   ]
  },
  {
   "cell_type": "code",
   "execution_count": 632,
   "metadata": {},
   "outputs": [
    {
     "data": {
      "text/plain": [
       "(1170, 7)"
      ]
     },
     "execution_count": 632,
     "metadata": {},
     "output_type": "execute_result"
    }
   ],
   "source": [
    "orgtree = orgtree_linked.copy()\n",
    "orgtree.shape"
   ]
  },
  {
   "cell_type": "code",
   "execution_count": 633,
   "metadata": {},
   "outputs": [],
   "source": [
    "# make sure that InsideGov & ImmediateSuperiorOrg are unique"
   ]
  },
  {
   "cell_type": "code",
   "execution_count": 634,
   "metadata": {},
   "outputs": [
    {
     "data": {
      "text/html": [
       "<div>\n",
       "<style scoped>\n",
       "    .dataframe tbody tr th:only-of-type {\n",
       "        vertical-align: middle;\n",
       "    }\n",
       "\n",
       "    .dataframe tbody tr th {\n",
       "        vertical-align: top;\n",
       "    }\n",
       "\n",
       "    .dataframe thead th {\n",
       "        text-align: right;\n",
       "    }\n",
       "</style>\n",
       "<table border=\"1\" class=\"dataframe\">\n",
       "  <thead>\n",
       "    <tr style=\"text-align: right;\">\n",
       "      <th></th>\n",
       "      <th>PrimaryInstitution</th>\n",
       "      <th>OrgName</th>\n",
       "      <th>InsideGov</th>\n",
       "    </tr>\n",
       "  </thead>\n",
       "  <tbody>\n",
       "  </tbody>\n",
       "</table>\n",
       "</div>"
      ],
      "text/plain": [
       "Empty DataFrame\n",
       "Columns: [PrimaryInstitution, OrgName, InsideGov]\n",
       "Index: []"
      ]
     },
     "execution_count": 634,
     "metadata": {},
     "output_type": "execute_result"
    }
   ],
   "source": [
    "# verify InsideGov is unique and not duplicated\n",
    "orgtree_counts = orgtree.groupby([\"PrimaryInstitution\",\"OrgName\"])[\"InsideGov\"].apply(lambda x:len(set(x))).reset_index()\n",
    "orgtree_counts[orgtree_counts.InsideGov > 1]"
   ]
  },
  {
   "cell_type": "code",
   "execution_count": 635,
   "metadata": {},
   "outputs": [
    {
     "data": {
      "text/html": [
       "<div>\n",
       "<style scoped>\n",
       "    .dataframe tbody tr th:only-of-type {\n",
       "        vertical-align: middle;\n",
       "    }\n",
       "\n",
       "    .dataframe tbody tr th {\n",
       "        vertical-align: top;\n",
       "    }\n",
       "\n",
       "    .dataframe thead th {\n",
       "        text-align: right;\n",
       "    }\n",
       "</style>\n",
       "<table border=\"1\" class=\"dataframe\">\n",
       "  <thead>\n",
       "    <tr style=\"text-align: right;\">\n",
       "      <th></th>\n",
       "      <th>PrimaryInstitution</th>\n",
       "      <th>OrgName</th>\n",
       "      <th>ImmediateSuperiorOrg</th>\n",
       "    </tr>\n",
       "  </thead>\n",
       "  <tbody>\n",
       "  </tbody>\n",
       "</table>\n",
       "</div>"
      ],
      "text/plain": [
       "Empty DataFrame\n",
       "Columns: [PrimaryInstitution, OrgName, ImmediateSuperiorOrg]\n",
       "Index: []"
      ]
     },
     "execution_count": 635,
     "metadata": {},
     "output_type": "execute_result"
    }
   ],
   "source": [
    "# verify ImmediateSuperiorOrg is unique and not duplicated\n",
    "orgtree_counts = orgtree.groupby([\"PrimaryInstitution\",\"OrgName\"])[\"ImmediateSuperiorOrg\"].apply(lambda x:len(set(x))).reset_index()\n",
    "orgtree_counts[orgtree_counts.ImmediateSuperiorOrg > 1]"
   ]
  },
  {
   "cell_type": "code",
   "execution_count": 636,
   "metadata": {},
   "outputs": [
    {
     "data": {
      "text/plain": [
       "(1170, 7)"
      ]
     },
     "execution_count": 636,
     "metadata": {},
     "output_type": "execute_result"
    }
   ],
   "source": [
    "orgtree.shape"
   ]
  },
  {
   "cell_type": "code",
   "execution_count": 637,
   "metadata": {},
   "outputs": [
    {
     "data": {
      "text/html": [
       "<div>\n",
       "<style scoped>\n",
       "    .dataframe tbody tr th:only-of-type {\n",
       "        vertical-align: middle;\n",
       "    }\n",
       "\n",
       "    .dataframe tbody tr th {\n",
       "        vertical-align: top;\n",
       "    }\n",
       "\n",
       "    .dataframe thead th {\n",
       "        text-align: right;\n",
       "    }\n",
       "</style>\n",
       "<table border=\"1\" class=\"dataframe\">\n",
       "  <thead>\n",
       "    <tr style=\"text-align: right;\">\n",
       "      <th></th>\n",
       "      <th>InsideGov</th>\n",
       "      <th>PrimaryInstitution</th>\n",
       "      <th>OrgName</th>\n",
       "      <th>ImmediateSuperiorOrg</th>\n",
       "      <th>LinkToCurrent_PrimaryInstitution</th>\n",
       "      <th>LinkToCurrent_OrgName</th>\n",
       "      <th>비고</th>\n",
       "    </tr>\n",
       "  </thead>\n",
       "  <tbody>\n",
       "    <tr>\n",
       "      <th>517</th>\n",
       "      <td>True</td>\n",
       "      <td>내각</td>\n",
       "      <td></td>\n",
       "      <td></td>\n",
       "      <td>Current</td>\n",
       "      <td>Current</td>\n",
       "      <td>NaN</td>\n",
       "    </tr>\n",
       "    <tr>\n",
       "      <th>668</th>\n",
       "      <td>True</td>\n",
       "      <td>내각</td>\n",
       "      <td></td>\n",
       "      <td></td>\n",
       "      <td>NaN</td>\n",
       "      <td>NaN</td>\n",
       "      <td>NaN</td>\n",
       "    </tr>\n",
       "    <tr>\n",
       "      <th>669</th>\n",
       "      <td>True</td>\n",
       "      <td>내각</td>\n",
       "      <td></td>\n",
       "      <td></td>\n",
       "      <td>NaN</td>\n",
       "      <td>NaN</td>\n",
       "      <td>NaN</td>\n",
       "    </tr>\n",
       "    <tr>\n",
       "      <th>519</th>\n",
       "      <td>True</td>\n",
       "      <td>내각</td>\n",
       "      <td>건설건재공업성</td>\n",
       "      <td></td>\n",
       "      <td>Current</td>\n",
       "      <td>Current</td>\n",
       "      <td>NaN</td>\n",
       "    </tr>\n",
       "    <tr>\n",
       "      <th>602</th>\n",
       "      <td>True</td>\n",
       "      <td>내각</td>\n",
       "      <td>건설건재공업성</td>\n",
       "      <td></td>\n",
       "      <td>내각</td>\n",
       "      <td>건설건재공업성</td>\n",
       "      <td>NaN</td>\n",
       "    </tr>\n",
       "    <tr>\n",
       "      <th>520</th>\n",
       "      <td>True</td>\n",
       "      <td>내각</td>\n",
       "      <td>경공업성</td>\n",
       "      <td></td>\n",
       "      <td>Current</td>\n",
       "      <td>Current</td>\n",
       "      <td>NaN</td>\n",
       "    </tr>\n",
       "    <tr>\n",
       "      <th>614</th>\n",
       "      <td>True</td>\n",
       "      <td>내각</td>\n",
       "      <td>경공업성</td>\n",
       "      <td></td>\n",
       "      <td>내각</td>\n",
       "      <td>경공업성</td>\n",
       "      <td>NaN</td>\n",
       "    </tr>\n",
       "    <tr>\n",
       "      <th>437</th>\n",
       "      <td>True</td>\n",
       "      <td>내각</td>\n",
       "      <td>교육위원회</td>\n",
       "      <td></td>\n",
       "      <td>Current</td>\n",
       "      <td>Current</td>\n",
       "      <td>NaN</td>\n",
       "    </tr>\n",
       "    <tr>\n",
       "      <th>676</th>\n",
       "      <td>True</td>\n",
       "      <td>내각</td>\n",
       "      <td>교육위원회</td>\n",
       "      <td></td>\n",
       "      <td>내각</td>\n",
       "      <td>교육위원회</td>\n",
       "      <td>NaN</td>\n",
       "    </tr>\n",
       "    <tr>\n",
       "      <th>451</th>\n",
       "      <td>True</td>\n",
       "      <td>내각</td>\n",
       "      <td>교육위원회_고등교육성</td>\n",
       "      <td>교육위원회</td>\n",
       "      <td>Current</td>\n",
       "      <td>Current</td>\n",
       "      <td>NaN</td>\n",
       "    </tr>\n",
       "    <tr>\n",
       "      <th>675</th>\n",
       "      <td>True</td>\n",
       "      <td>내각</td>\n",
       "      <td>교육위원회_고등교육성</td>\n",
       "      <td>교육위원회</td>\n",
       "      <td>내각</td>\n",
       "      <td>교육위원회_고등교육성</td>\n",
       "      <td>NaN</td>\n",
       "    </tr>\n",
       "    <tr>\n",
       "      <th>521</th>\n",
       "      <td>True</td>\n",
       "      <td>내각</td>\n",
       "      <td>국가건설감독성</td>\n",
       "      <td></td>\n",
       "      <td>Current</td>\n",
       "      <td>Current</td>\n",
       "      <td>NaN</td>\n",
       "    </tr>\n",
       "    <tr>\n",
       "      <th>678</th>\n",
       "      <td>True</td>\n",
       "      <td>내각</td>\n",
       "      <td>국가건설감독성</td>\n",
       "      <td></td>\n",
       "      <td>내각</td>\n",
       "      <td>국가건설감독성</td>\n",
       "      <td>NaN</td>\n",
       "    </tr>\n",
       "    <tr>\n",
       "      <th>456</th>\n",
       "      <td>True</td>\n",
       "      <td>내각</td>\n",
       "      <td>국가검열위원회</td>\n",
       "      <td></td>\n",
       "      <td>Current</td>\n",
       "      <td>Current</td>\n",
       "      <td>NaN</td>\n",
       "    </tr>\n",
       "    <tr>\n",
       "      <th>680</th>\n",
       "      <td>True</td>\n",
       "      <td>내각</td>\n",
       "      <td>국가검열위원회</td>\n",
       "      <td></td>\n",
       "      <td>내각</td>\n",
       "      <td>국가검열위원회</td>\n",
       "      <td>NaN</td>\n",
       "    </tr>\n",
       "    <tr>\n",
       "      <th>467</th>\n",
       "      <td>True</td>\n",
       "      <td>내각</td>\n",
       "      <td>국가계획위원회</td>\n",
       "      <td></td>\n",
       "      <td>Current</td>\n",
       "      <td>Current</td>\n",
       "      <td>NaN</td>\n",
       "    </tr>\n",
       "    <tr>\n",
       "      <th>681</th>\n",
       "      <td>True</td>\n",
       "      <td>내각</td>\n",
       "      <td>국가계획위원회</td>\n",
       "      <td></td>\n",
       "      <td>내각</td>\n",
       "      <td>국가계획위원회</td>\n",
       "      <td>NaN</td>\n",
       "    </tr>\n",
       "    <tr>\n",
       "      <th>478</th>\n",
       "      <td>True</td>\n",
       "      <td>내각</td>\n",
       "      <td>국가과학기술위원회</td>\n",
       "      <td></td>\n",
       "      <td>Current</td>\n",
       "      <td>Current</td>\n",
       "      <td>NaN</td>\n",
       "    </tr>\n",
       "    <tr>\n",
       "      <th>682</th>\n",
       "      <td>True</td>\n",
       "      <td>내각</td>\n",
       "      <td>국가과학기술위원회</td>\n",
       "      <td></td>\n",
       "      <td>내각</td>\n",
       "      <td>국가과학기술위원회</td>\n",
       "      <td>NaN</td>\n",
       "    </tr>\n",
       "    <tr>\n",
       "      <th>523</th>\n",
       "      <td>True</td>\n",
       "      <td>내각</td>\n",
       "      <td>국토환경보호성</td>\n",
       "      <td></td>\n",
       "      <td>Current</td>\n",
       "      <td>Current</td>\n",
       "      <td>NaN</td>\n",
       "    </tr>\n",
       "    <tr>\n",
       "      <th>684</th>\n",
       "      <td>True</td>\n",
       "      <td>내각</td>\n",
       "      <td>국토환경보호성</td>\n",
       "      <td></td>\n",
       "      <td>내각</td>\n",
       "      <td>국토환경보호성</td>\n",
       "      <td>NaN</td>\n",
       "    </tr>\n",
       "    <tr>\n",
       "      <th>524</th>\n",
       "      <td>True</td>\n",
       "      <td>내각</td>\n",
       "      <td>금속공업성</td>\n",
       "      <td></td>\n",
       "      <td>Current</td>\n",
       "      <td>Current</td>\n",
       "      <td>NaN</td>\n",
       "    </tr>\n",
       "    <tr>\n",
       "      <th>686</th>\n",
       "      <td>True</td>\n",
       "      <td>내각</td>\n",
       "      <td>금속공업성</td>\n",
       "      <td></td>\n",
       "      <td>내각</td>\n",
       "      <td>금속공업성</td>\n",
       "      <td>NaN</td>\n",
       "    </tr>\n",
       "    <tr>\n",
       "      <th>525</th>\n",
       "      <td>True</td>\n",
       "      <td>내각</td>\n",
       "      <td>기계공업성</td>\n",
       "      <td></td>\n",
       "      <td>Current</td>\n",
       "      <td>Current</td>\n",
       "      <td>NaN</td>\n",
       "    </tr>\n",
       "    <tr>\n",
       "      <th>688</th>\n",
       "      <td>True</td>\n",
       "      <td>내각</td>\n",
       "      <td>기계공업성</td>\n",
       "      <td></td>\n",
       "      <td>내각</td>\n",
       "      <td>기계공업성</td>\n",
       "      <td>NaN</td>\n",
       "    </tr>\n",
       "    <tr>\n",
       "      <th>528</th>\n",
       "      <td>True</td>\n",
       "      <td>내각</td>\n",
       "      <td>노동성</td>\n",
       "      <td></td>\n",
       "      <td>Current</td>\n",
       "      <td>Current</td>\n",
       "      <td>NaN</td>\n",
       "    </tr>\n",
       "    <tr>\n",
       "      <th>689</th>\n",
       "      <td>True</td>\n",
       "      <td>내각</td>\n",
       "      <td>노동성</td>\n",
       "      <td></td>\n",
       "      <td>내각</td>\n",
       "      <td>노동성</td>\n",
       "      <td>NaN</td>\n",
       "    </tr>\n",
       "    <tr>\n",
       "      <th>518</th>\n",
       "      <td>True</td>\n",
       "      <td>내각</td>\n",
       "      <td>농업위원회</td>\n",
       "      <td></td>\n",
       "      <td>Current</td>\n",
       "      <td>Current</td>\n",
       "      <td>NaN</td>\n",
       "    </tr>\n",
       "    <tr>\n",
       "      <th>692</th>\n",
       "      <td>True</td>\n",
       "      <td>내각</td>\n",
       "      <td>농업위원회</td>\n",
       "      <td></td>\n",
       "      <td>내각</td>\n",
       "      <td>농업위원회</td>\n",
       "      <td>NaN</td>\n",
       "    </tr>\n",
       "    <tr>\n",
       "      <th>527</th>\n",
       "      <td>True</td>\n",
       "      <td>내각</td>\n",
       "      <td>도시경영성</td>\n",
       "      <td></td>\n",
       "      <td>Current</td>\n",
       "      <td>Current</td>\n",
       "      <td>NaN</td>\n",
       "    </tr>\n",
       "    <tr>\n",
       "      <th>697</th>\n",
       "      <td>True</td>\n",
       "      <td>내각</td>\n",
       "      <td>도시경영성</td>\n",
       "      <td></td>\n",
       "      <td>내각</td>\n",
       "      <td>도시경영성</td>\n",
       "      <td>NaN</td>\n",
       "    </tr>\n",
       "    <tr>\n",
       "      <th>531</th>\n",
       "      <td>True</td>\n",
       "      <td>내각</td>\n",
       "      <td>문화성</td>\n",
       "      <td></td>\n",
       "      <td>Current</td>\n",
       "      <td>Current</td>\n",
       "      <td>NaN</td>\n",
       "    </tr>\n",
       "    <tr>\n",
       "      <th>702</th>\n",
       "      <td>True</td>\n",
       "      <td>내각</td>\n",
       "      <td>문화성</td>\n",
       "      <td></td>\n",
       "      <td>내각</td>\n",
       "      <td>문화성</td>\n",
       "      <td>NaN</td>\n",
       "    </tr>\n",
       "    <tr>\n",
       "      <th>551</th>\n",
       "      <td>True</td>\n",
       "      <td>내각</td>\n",
       "      <td>보건성</td>\n",
       "      <td></td>\n",
       "      <td>Current</td>\n",
       "      <td>Current</td>\n",
       "      <td>NaN</td>\n",
       "    </tr>\n",
       "    <tr>\n",
       "      <th>707</th>\n",
       "      <td>True</td>\n",
       "      <td>내각</td>\n",
       "      <td>보건성</td>\n",
       "      <td></td>\n",
       "      <td>내각</td>\n",
       "      <td>보건성</td>\n",
       "      <td>NaN</td>\n",
       "    </tr>\n",
       "    <tr>\n",
       "      <th>552</th>\n",
       "      <td>True</td>\n",
       "      <td>내각</td>\n",
       "      <td>상업성</td>\n",
       "      <td></td>\n",
       "      <td>Current</td>\n",
       "      <td>Current</td>\n",
       "      <td>NaN</td>\n",
       "    </tr>\n",
       "    <tr>\n",
       "      <th>716</th>\n",
       "      <td>True</td>\n",
       "      <td>내각</td>\n",
       "      <td>상업성</td>\n",
       "      <td></td>\n",
       "      <td>내각</td>\n",
       "      <td>상업성</td>\n",
       "      <td>NaN</td>\n",
       "    </tr>\n",
       "    <tr>\n",
       "      <th>553</th>\n",
       "      <td>True</td>\n",
       "      <td>내각</td>\n",
       "      <td>석탄공업성</td>\n",
       "      <td></td>\n",
       "      <td>Current</td>\n",
       "      <td>Current</td>\n",
       "      <td>NaN</td>\n",
       "    </tr>\n",
       "    <tr>\n",
       "      <th>717</th>\n",
       "      <td>True</td>\n",
       "      <td>내각</td>\n",
       "      <td>석탄공업성</td>\n",
       "      <td></td>\n",
       "      <td>내각</td>\n",
       "      <td>석탄공업성</td>\n",
       "      <td>NaN</td>\n",
       "    </tr>\n",
       "    <tr>\n",
       "      <th>555</th>\n",
       "      <td>True</td>\n",
       "      <td>내각</td>\n",
       "      <td>수매양정성</td>\n",
       "      <td></td>\n",
       "      <td>Current</td>\n",
       "      <td>Current</td>\n",
       "      <td>NaN</td>\n",
       "    </tr>\n",
       "    <tr>\n",
       "      <th>720</th>\n",
       "      <td>True</td>\n",
       "      <td>내각</td>\n",
       "      <td>수매양정성</td>\n",
       "      <td></td>\n",
       "      <td>내각</td>\n",
       "      <td>수매양정성</td>\n",
       "      <td>NaN</td>\n",
       "    </tr>\n",
       "    <tr>\n",
       "      <th>533</th>\n",
       "      <td>True</td>\n",
       "      <td>내각</td>\n",
       "      <td>외무성</td>\n",
       "      <td></td>\n",
       "      <td>Current</td>\n",
       "      <td>Current</td>\n",
       "      <td>NaN</td>\n",
       "    </tr>\n",
       "    <tr>\n",
       "      <th>637</th>\n",
       "      <td>True</td>\n",
       "      <td>내각</td>\n",
       "      <td>외무성</td>\n",
       "      <td></td>\n",
       "      <td>내각</td>\n",
       "      <td>외무성</td>\n",
       "      <td>NaN</td>\n",
       "    </tr>\n",
       "    <tr>\n",
       "      <th>594</th>\n",
       "      <td>True</td>\n",
       "      <td>내각</td>\n",
       "      <td>외무성_X국_나이지리아대사관</td>\n",
       "      <td>외무성_X국</td>\n",
       "      <td>내각</td>\n",
       "      <td>외무성_아프리카-라틴아메리카-아랍국_나이지리아대사관</td>\n",
       "      <td>NaN</td>\n",
       "    </tr>\n",
       "    <tr>\n",
       "      <th>595</th>\n",
       "      <td>True</td>\n",
       "      <td>내각</td>\n",
       "      <td>외무성_X국_나이지리아대사관</td>\n",
       "      <td>외무성_X국</td>\n",
       "      <td>내각</td>\n",
       "      <td>외무성_아프리카-라틴아메리카-아랍국_나이지리아대사관</td>\n",
       "      <td>NaN</td>\n",
       "    </tr>\n",
       "    <tr>\n",
       "      <th>622</th>\n",
       "      <td>True</td>\n",
       "      <td>내각</td>\n",
       "      <td>외무성_X국_이집트대사관</td>\n",
       "      <td>외무성_X국</td>\n",
       "      <td>내각</td>\n",
       "      <td>외무성_아프리카-라틴아메리카-아랍국_이집트대사관</td>\n",
       "      <td>NaN</td>\n",
       "    </tr>\n",
       "    <tr>\n",
       "      <th>623</th>\n",
       "      <td>True</td>\n",
       "      <td>내각</td>\n",
       "      <td>외무성_X국_이집트대사관</td>\n",
       "      <td>외무성_X국</td>\n",
       "      <td>내각</td>\n",
       "      <td>외무성_아프리카-라틴아메리카-아랍국_이집트대사관</td>\n",
       "      <td>NaN</td>\n",
       "    </tr>\n",
       "    <tr>\n",
       "      <th>625</th>\n",
       "      <td>True</td>\n",
       "      <td>내각</td>\n",
       "      <td>외무성_X국_중국대사관</td>\n",
       "      <td>외무성_X국</td>\n",
       "      <td>내각</td>\n",
       "      <td>외무성_아시아1국_중국대사관</td>\n",
       "      <td>NaN</td>\n",
       "    </tr>\n",
       "    <tr>\n",
       "      <th>626</th>\n",
       "      <td>True</td>\n",
       "      <td>내각</td>\n",
       "      <td>외무성_X국_중국대사관</td>\n",
       "      <td>외무성_X국</td>\n",
       "      <td>내각</td>\n",
       "      <td>외무성_아시아1국_중국대사관</td>\n",
       "      <td>NaN</td>\n",
       "    </tr>\n",
       "    <tr>\n",
       "      <th>545</th>\n",
       "      <td>True</td>\n",
       "      <td>내각</td>\n",
       "      <td>외무성_군축평화연구소</td>\n",
       "      <td>외무성</td>\n",
       "      <td>Current</td>\n",
       "      <td>Current</td>\n",
       "      <td>NaN</td>\n",
       "    </tr>\n",
       "    <tr>\n",
       "      <th>636</th>\n",
       "      <td>True</td>\n",
       "      <td>내각</td>\n",
       "      <td>외무성_군축평화연구소</td>\n",
       "      <td>외무성</td>\n",
       "      <td>내각</td>\n",
       "      <td>외무성_군축평화연구소</td>\n",
       "      <td>NaN</td>\n",
       "    </tr>\n",
       "    <tr>\n",
       "      <th>548</th>\n",
       "      <td>True</td>\n",
       "      <td>내각</td>\n",
       "      <td>원유공업성</td>\n",
       "      <td></td>\n",
       "      <td>Current</td>\n",
       "      <td>Current</td>\n",
       "      <td>NaN</td>\n",
       "    </tr>\n",
       "    <tr>\n",
       "      <th>639</th>\n",
       "      <td>True</td>\n",
       "      <td>내각</td>\n",
       "      <td>원유공업성</td>\n",
       "      <td></td>\n",
       "      <td>내각</td>\n",
       "      <td>원유공업성</td>\n",
       "      <td>NaN</td>\n",
       "    </tr>\n",
       "    <tr>\n",
       "      <th>529</th>\n",
       "      <td>True</td>\n",
       "      <td>내각</td>\n",
       "      <td>육해운성</td>\n",
       "      <td></td>\n",
       "      <td>Current</td>\n",
       "      <td>Current</td>\n",
       "      <td>NaN</td>\n",
       "    </tr>\n",
       "    <tr>\n",
       "      <th>643</th>\n",
       "      <td>True</td>\n",
       "      <td>내각</td>\n",
       "      <td>육해운성</td>\n",
       "      <td></td>\n",
       "      <td>내각</td>\n",
       "      <td>육해운성</td>\n",
       "      <td>NaN</td>\n",
       "    </tr>\n",
       "    <tr>\n",
       "      <th>512</th>\n",
       "      <td>True</td>\n",
       "      <td>내각</td>\n",
       "      <td>육해운성_항만수상운수관리국</td>\n",
       "      <td>육해운성</td>\n",
       "      <td>Current</td>\n",
       "      <td>Current</td>\n",
       "      <td>NaN</td>\n",
       "    </tr>\n",
       "    <tr>\n",
       "      <th>641</th>\n",
       "      <td>True</td>\n",
       "      <td>내각</td>\n",
       "      <td>육해운성_항만수상운수관리국</td>\n",
       "      <td>육해운성</td>\n",
       "      <td>NaN</td>\n",
       "      <td>NaN</td>\n",
       "      <td>NaN</td>\n",
       "    </tr>\n",
       "    <tr>\n",
       "      <th>513</th>\n",
       "      <td>True</td>\n",
       "      <td>내각</td>\n",
       "      <td>육해운성_해운연합기업소</td>\n",
       "      <td>육해운성</td>\n",
       "      <td>Current</td>\n",
       "      <td>Current</td>\n",
       "      <td>NaN</td>\n",
       "    </tr>\n",
       "    <tr>\n",
       "      <th>642</th>\n",
       "      <td>True</td>\n",
       "      <td>내각</td>\n",
       "      <td>육해운성_해운연합기업소</td>\n",
       "      <td>육해운성</td>\n",
       "      <td>NaN</td>\n",
       "      <td>NaN</td>\n",
       "      <td>NaN</td>\n",
       "    </tr>\n",
       "    <tr>\n",
       "      <th>530</th>\n",
       "      <td>True</td>\n",
       "      <td>내각</td>\n",
       "      <td>임업성</td>\n",
       "      <td></td>\n",
       "      <td>Current</td>\n",
       "      <td>Current</td>\n",
       "      <td>NaN</td>\n",
       "    </tr>\n",
       "    <tr>\n",
       "      <th>647</th>\n",
       "      <td>True</td>\n",
       "      <td>내각</td>\n",
       "      <td>임업성</td>\n",
       "      <td></td>\n",
       "      <td>내각</td>\n",
       "      <td>임업성</td>\n",
       "      <td>NaN</td>\n",
       "    </tr>\n",
       "    <tr>\n",
       "      <th>556</th>\n",
       "      <td>True</td>\n",
       "      <td>내각</td>\n",
       "      <td>재정성</td>\n",
       "      <td></td>\n",
       "      <td>Current</td>\n",
       "      <td>Current</td>\n",
       "      <td>NaN</td>\n",
       "    </tr>\n",
       "    <tr>\n",
       "      <th>649</th>\n",
       "      <td>True</td>\n",
       "      <td>내각</td>\n",
       "      <td>재정성</td>\n",
       "      <td></td>\n",
       "      <td>내각</td>\n",
       "      <td>재정성</td>\n",
       "      <td>NaN</td>\n",
       "    </tr>\n",
       "    <tr>\n",
       "      <th>557</th>\n",
       "      <td>True</td>\n",
       "      <td>내각</td>\n",
       "      <td>전력공업성</td>\n",
       "      <td></td>\n",
       "      <td>Current</td>\n",
       "      <td>Current</td>\n",
       "      <td>NaN</td>\n",
       "    </tr>\n",
       "    <tr>\n",
       "      <th>651</th>\n",
       "      <td>True</td>\n",
       "      <td>내각</td>\n",
       "      <td>전력공업성</td>\n",
       "      <td></td>\n",
       "      <td>내각</td>\n",
       "      <td>석탄공업성</td>\n",
       "      <td>NaN</td>\n",
       "    </tr>\n",
       "    <tr>\n",
       "      <th>514</th>\n",
       "      <td>True</td>\n",
       "      <td>내각</td>\n",
       "      <td>조선중앙통신사</td>\n",
       "      <td></td>\n",
       "      <td>Current</td>\n",
       "      <td>Current</td>\n",
       "      <td>NaN</td>\n",
       "    </tr>\n",
       "    <tr>\n",
       "      <th>653</th>\n",
       "      <td>True</td>\n",
       "      <td>내각</td>\n",
       "      <td>조선중앙통신사</td>\n",
       "      <td></td>\n",
       "      <td>NaN</td>\n",
       "      <td>NaN</td>\n",
       "      <td>NaN</td>\n",
       "    </tr>\n",
       "    <tr>\n",
       "      <th>564</th>\n",
       "      <td>True</td>\n",
       "      <td>내각</td>\n",
       "      <td>중앙통계국</td>\n",
       "      <td></td>\n",
       "      <td>Current</td>\n",
       "      <td>Current</td>\n",
       "      <td>NaN</td>\n",
       "    </tr>\n",
       "    <tr>\n",
       "      <th>654</th>\n",
       "      <td>True</td>\n",
       "      <td>내각</td>\n",
       "      <td>중앙통계국</td>\n",
       "      <td></td>\n",
       "      <td>내각</td>\n",
       "      <td>중앙통계국</td>\n",
       "      <td>NaN</td>\n",
       "    </tr>\n",
       "    <tr>\n",
       "      <th>560</th>\n",
       "      <td>True</td>\n",
       "      <td>내각</td>\n",
       "      <td>채취공업성</td>\n",
       "      <td></td>\n",
       "      <td>Current</td>\n",
       "      <td>Current</td>\n",
       "      <td>NaN</td>\n",
       "    </tr>\n",
       "    <tr>\n",
       "      <th>655</th>\n",
       "      <td>True</td>\n",
       "      <td>내각</td>\n",
       "      <td>채취공업성</td>\n",
       "      <td></td>\n",
       "      <td>내각</td>\n",
       "      <td>채취공업성</td>\n",
       "      <td>NaN</td>\n",
       "    </tr>\n",
       "    <tr>\n",
       "      <th>561</th>\n",
       "      <td>True</td>\n",
       "      <td>내각</td>\n",
       "      <td>철도성</td>\n",
       "      <td></td>\n",
       "      <td>Current</td>\n",
       "      <td>Current</td>\n",
       "      <td>NaN</td>\n",
       "    </tr>\n",
       "    <tr>\n",
       "      <th>657</th>\n",
       "      <td>True</td>\n",
       "      <td>내각</td>\n",
       "      <td>철도성</td>\n",
       "      <td></td>\n",
       "      <td>내각</td>\n",
       "      <td>철도성</td>\n",
       "      <td>NaN</td>\n",
       "    </tr>\n",
       "    <tr>\n",
       "      <th>562</th>\n",
       "      <td>True</td>\n",
       "      <td>내각</td>\n",
       "      <td>체육성</td>\n",
       "      <td></td>\n",
       "      <td>Current</td>\n",
       "      <td>Current</td>\n",
       "      <td>NaN</td>\n",
       "    </tr>\n",
       "    <tr>\n",
       "      <th>663</th>\n",
       "      <td>True</td>\n",
       "      <td>내각</td>\n",
       "      <td>체육성</td>\n",
       "      <td></td>\n",
       "      <td>내각</td>\n",
       "      <td>체육성</td>\n",
       "      <td>NaN</td>\n",
       "    </tr>\n",
       "    <tr>\n",
       "      <th>563</th>\n",
       "      <td>True</td>\n",
       "      <td>내각</td>\n",
       "      <td>화학공업성</td>\n",
       "      <td></td>\n",
       "      <td>Current</td>\n",
       "      <td>Current</td>\n",
       "      <td>NaN</td>\n",
       "    </tr>\n",
       "    <tr>\n",
       "      <th>666</th>\n",
       "      <td>True</td>\n",
       "      <td>내각</td>\n",
       "      <td>화학공업성</td>\n",
       "      <td></td>\n",
       "      <td>내각</td>\n",
       "      <td>화학공업성</td>\n",
       "      <td>NaN</td>\n",
       "    </tr>\n",
       "    <tr>\n",
       "      <th>926</th>\n",
       "      <td>False</td>\n",
       "      <td>조선기자동맹</td>\n",
       "      <td></td>\n",
       "      <td></td>\n",
       "      <td>Current</td>\n",
       "      <td>Current</td>\n",
       "      <td>NaN</td>\n",
       "    </tr>\n",
       "    <tr>\n",
       "      <th>931</th>\n",
       "      <td>False</td>\n",
       "      <td>조선기자동맹</td>\n",
       "      <td></td>\n",
       "      <td></td>\n",
       "      <td>NaN</td>\n",
       "      <td>NaN</td>\n",
       "      <td>NaN</td>\n",
       "    </tr>\n",
       "    <tr>\n",
       "      <th>1077</th>\n",
       "      <td>False</td>\n",
       "      <td>조선사회주의여성동맹</td>\n",
       "      <td></td>\n",
       "      <td></td>\n",
       "      <td>Current</td>\n",
       "      <td>Current</td>\n",
       "      <td>NaN</td>\n",
       "    </tr>\n",
       "    <tr>\n",
       "      <th>1085</th>\n",
       "      <td>False</td>\n",
       "      <td>조선사회주의여성동맹</td>\n",
       "      <td></td>\n",
       "      <td></td>\n",
       "      <td>Current</td>\n",
       "      <td>Current</td>\n",
       "      <td>NaN</td>\n",
       "    </tr>\n",
       "    <tr>\n",
       "      <th>735</th>\n",
       "      <td>True</td>\n",
       "      <td>최고인민회의</td>\n",
       "      <td>법제위원회</td>\n",
       "      <td></td>\n",
       "      <td>Current</td>\n",
       "      <td>Current</td>\n",
       "      <td>NaN</td>\n",
       "    </tr>\n",
       "    <tr>\n",
       "      <th>742</th>\n",
       "      <td>True</td>\n",
       "      <td>최고인민회의</td>\n",
       "      <td>법제위원회</td>\n",
       "      <td></td>\n",
       "      <td>최고인민회의</td>\n",
       "      <td>법제위원회</td>\n",
       "      <td>NaN</td>\n",
       "    </tr>\n",
       "    <tr>\n",
       "      <th>731</th>\n",
       "      <td>True</td>\n",
       "      <td>최고인민회의</td>\n",
       "      <td>상임위원회</td>\n",
       "      <td></td>\n",
       "      <td>Current</td>\n",
       "      <td>Current</td>\n",
       "      <td>NaN</td>\n",
       "    </tr>\n",
       "    <tr>\n",
       "      <th>744</th>\n",
       "      <td>True</td>\n",
       "      <td>최고인민회의</td>\n",
       "      <td>상임위원회</td>\n",
       "      <td></td>\n",
       "      <td>최고인민회의</td>\n",
       "      <td>상임위원회</td>\n",
       "      <td>NaN</td>\n",
       "    </tr>\n",
       "    <tr>\n",
       "      <th>732</th>\n",
       "      <td>True</td>\n",
       "      <td>최고인민회의</td>\n",
       "      <td>예산위원회</td>\n",
       "      <td></td>\n",
       "      <td>Current</td>\n",
       "      <td>Current</td>\n",
       "      <td>NaN</td>\n",
       "    </tr>\n",
       "    <tr>\n",
       "      <th>747</th>\n",
       "      <td>True</td>\n",
       "      <td>최고인민회의</td>\n",
       "      <td>예산위원회</td>\n",
       "      <td></td>\n",
       "      <td>최고인민회의</td>\n",
       "      <td>예산위원회</td>\n",
       "      <td>NaN</td>\n",
       "    </tr>\n",
       "    <tr>\n",
       "      <th>736</th>\n",
       "      <td>True</td>\n",
       "      <td>최고인민회의</td>\n",
       "      <td>외교위원회</td>\n",
       "      <td></td>\n",
       "      <td>Current</td>\n",
       "      <td>Current</td>\n",
       "      <td>NaN</td>\n",
       "    </tr>\n",
       "    <tr>\n",
       "      <th>750</th>\n",
       "      <td>True</td>\n",
       "      <td>최고인민회의</td>\n",
       "      <td>외교위원회</td>\n",
       "      <td></td>\n",
       "      <td>최고인민회의</td>\n",
       "      <td>외교위원회</td>\n",
       "      <td>NaN</td>\n",
       "    </tr>\n",
       "  </tbody>\n",
       "</table>\n",
       "</div>"
      ],
      "text/plain": [
       "     InsideGov PrimaryInstitution          OrgName ImmediateSuperiorOrg  \\\n",
       "517       True                 내각                                         \n",
       "668       True                 내각                                         \n",
       "669       True                 내각                                         \n",
       "519       True                 내각          건설건재공업성                        \n",
       "602       True                 내각          건설건재공업성                        \n",
       "520       True                 내각             경공업성                        \n",
       "614       True                 내각             경공업성                        \n",
       "437       True                 내각            교육위원회                        \n",
       "676       True                 내각            교육위원회                        \n",
       "451       True                 내각      교육위원회_고등교육성                교육위원회   \n",
       "675       True                 내각      교육위원회_고등교육성                교육위원회   \n",
       "521       True                 내각          국가건설감독성                        \n",
       "678       True                 내각          국가건설감독성                        \n",
       "456       True                 내각          국가검열위원회                        \n",
       "680       True                 내각          국가검열위원회                        \n",
       "467       True                 내각          국가계획위원회                        \n",
       "681       True                 내각          국가계획위원회                        \n",
       "478       True                 내각        국가과학기술위원회                        \n",
       "682       True                 내각        국가과학기술위원회                        \n",
       "523       True                 내각          국토환경보호성                        \n",
       "684       True                 내각          국토환경보호성                        \n",
       "524       True                 내각            금속공업성                        \n",
       "686       True                 내각            금속공업성                        \n",
       "525       True                 내각            기계공업성                        \n",
       "688       True                 내각            기계공업성                        \n",
       "528       True                 내각              노동성                        \n",
       "689       True                 내각              노동성                        \n",
       "518       True                 내각            농업위원회                        \n",
       "692       True                 내각            농업위원회                        \n",
       "527       True                 내각            도시경영성                        \n",
       "697       True                 내각            도시경영성                        \n",
       "531       True                 내각              문화성                        \n",
       "702       True                 내각              문화성                        \n",
       "551       True                 내각              보건성                        \n",
       "707       True                 내각              보건성                        \n",
       "552       True                 내각              상업성                        \n",
       "716       True                 내각              상업성                        \n",
       "553       True                 내각            석탄공업성                        \n",
       "717       True                 내각            석탄공업성                        \n",
       "555       True                 내각            수매양정성                        \n",
       "720       True                 내각            수매양정성                        \n",
       "533       True                 내각              외무성                        \n",
       "637       True                 내각              외무성                        \n",
       "594       True                 내각  외무성_X국_나이지리아대사관               외무성_X국   \n",
       "595       True                 내각  외무성_X국_나이지리아대사관               외무성_X국   \n",
       "622       True                 내각    외무성_X국_이집트대사관               외무성_X국   \n",
       "623       True                 내각    외무성_X국_이집트대사관               외무성_X국   \n",
       "625       True                 내각     외무성_X국_중국대사관               외무성_X국   \n",
       "626       True                 내각     외무성_X국_중국대사관               외무성_X국   \n",
       "545       True                 내각      외무성_군축평화연구소                  외무성   \n",
       "636       True                 내각      외무성_군축평화연구소                  외무성   \n",
       "548       True                 내각            원유공업성                        \n",
       "639       True                 내각            원유공업성                        \n",
       "529       True                 내각             육해운성                        \n",
       "643       True                 내각             육해운성                        \n",
       "512       True                 내각   육해운성_항만수상운수관리국                 육해운성   \n",
       "641       True                 내각   육해운성_항만수상운수관리국                 육해운성   \n",
       "513       True                 내각     육해운성_해운연합기업소                 육해운성   \n",
       "642       True                 내각     육해운성_해운연합기업소                 육해운성   \n",
       "530       True                 내각              임업성                        \n",
       "647       True                 내각              임업성                        \n",
       "556       True                 내각              재정성                        \n",
       "649       True                 내각              재정성                        \n",
       "557       True                 내각            전력공업성                        \n",
       "651       True                 내각            전력공업성                        \n",
       "514       True                 내각          조선중앙통신사                        \n",
       "653       True                 내각          조선중앙통신사                        \n",
       "564       True                 내각            중앙통계국                        \n",
       "654       True                 내각            중앙통계국                        \n",
       "560       True                 내각            채취공업성                        \n",
       "655       True                 내각            채취공업성                        \n",
       "561       True                 내각              철도성                        \n",
       "657       True                 내각              철도성                        \n",
       "562       True                 내각              체육성                        \n",
       "663       True                 내각              체육성                        \n",
       "563       True                 내각            화학공업성                        \n",
       "666       True                 내각            화학공업성                        \n",
       "926      False             조선기자동맹                                         \n",
       "931      False             조선기자동맹                                         \n",
       "1077     False         조선사회주의여성동맹                                         \n",
       "1085     False         조선사회주의여성동맹                                         \n",
       "735       True             최고인민회의            법제위원회                        \n",
       "742       True             최고인민회의            법제위원회                        \n",
       "731       True             최고인민회의            상임위원회                        \n",
       "744       True             최고인민회의            상임위원회                        \n",
       "732       True             최고인민회의            예산위원회                        \n",
       "747       True             최고인민회의            예산위원회                        \n",
       "736       True             최고인민회의            외교위원회                        \n",
       "750       True             최고인민회의            외교위원회                        \n",
       "\n",
       "     LinkToCurrent_PrimaryInstitution         LinkToCurrent_OrgName   비고  \n",
       "517                           Current                       Current  NaN  \n",
       "668                               NaN                           NaN  NaN  \n",
       "669                               NaN                           NaN  NaN  \n",
       "519                           Current                       Current  NaN  \n",
       "602                                내각                       건설건재공업성  NaN  \n",
       "520                           Current                       Current  NaN  \n",
       "614                                내각                          경공업성  NaN  \n",
       "437                           Current                       Current  NaN  \n",
       "676                                내각                         교육위원회  NaN  \n",
       "451                           Current                       Current  NaN  \n",
       "675                                내각                   교육위원회_고등교육성  NaN  \n",
       "521                           Current                       Current  NaN  \n",
       "678                                내각                       국가건설감독성  NaN  \n",
       "456                           Current                       Current  NaN  \n",
       "680                                내각                       국가검열위원회  NaN  \n",
       "467                           Current                       Current  NaN  \n",
       "681                                내각                       국가계획위원회  NaN  \n",
       "478                           Current                       Current  NaN  \n",
       "682                                내각                     국가과학기술위원회  NaN  \n",
       "523                           Current                       Current  NaN  \n",
       "684                                내각                       국토환경보호성  NaN  \n",
       "524                           Current                       Current  NaN  \n",
       "686                                내각                         금속공업성  NaN  \n",
       "525                           Current                       Current  NaN  \n",
       "688                                내각                         기계공업성  NaN  \n",
       "528                           Current                       Current  NaN  \n",
       "689                                내각                           노동성  NaN  \n",
       "518                           Current                       Current  NaN  \n",
       "692                                내각                         농업위원회  NaN  \n",
       "527                           Current                       Current  NaN  \n",
       "697                                내각                         도시경영성  NaN  \n",
       "531                           Current                       Current  NaN  \n",
       "702                                내각                           문화성  NaN  \n",
       "551                           Current                       Current  NaN  \n",
       "707                                내각                           보건성  NaN  \n",
       "552                           Current                       Current  NaN  \n",
       "716                                내각                           상업성  NaN  \n",
       "553                           Current                       Current  NaN  \n",
       "717                                내각                         석탄공업성  NaN  \n",
       "555                           Current                       Current  NaN  \n",
       "720                                내각                         수매양정성  NaN  \n",
       "533                           Current                       Current  NaN  \n",
       "637                                내각                           외무성  NaN  \n",
       "594                                내각  외무성_아프리카-라틴아메리카-아랍국_나이지리아대사관  NaN  \n",
       "595                                내각  외무성_아프리카-라틴아메리카-아랍국_나이지리아대사관  NaN  \n",
       "622                                내각    외무성_아프리카-라틴아메리카-아랍국_이집트대사관  NaN  \n",
       "623                                내각    외무성_아프리카-라틴아메리카-아랍국_이집트대사관  NaN  \n",
       "625                                내각               외무성_아시아1국_중국대사관  NaN  \n",
       "626                                내각               외무성_아시아1국_중국대사관  NaN  \n",
       "545                           Current                       Current  NaN  \n",
       "636                                내각                   외무성_군축평화연구소  NaN  \n",
       "548                           Current                       Current  NaN  \n",
       "639                                내각                         원유공업성  NaN  \n",
       "529                           Current                       Current  NaN  \n",
       "643                                내각                          육해운성  NaN  \n",
       "512                           Current                       Current  NaN  \n",
       "641                               NaN                           NaN  NaN  \n",
       "513                           Current                       Current  NaN  \n",
       "642                               NaN                           NaN  NaN  \n",
       "530                           Current                       Current  NaN  \n",
       "647                                내각                           임업성  NaN  \n",
       "556                           Current                       Current  NaN  \n",
       "649                                내각                           재정성  NaN  \n",
       "557                           Current                       Current  NaN  \n",
       "651                                내각                         석탄공업성  NaN  \n",
       "514                           Current                       Current  NaN  \n",
       "653                               NaN                           NaN  NaN  \n",
       "564                           Current                       Current  NaN  \n",
       "654                                내각                         중앙통계국  NaN  \n",
       "560                           Current                       Current  NaN  \n",
       "655                                내각                         채취공업성  NaN  \n",
       "561                           Current                       Current  NaN  \n",
       "657                                내각                           철도성  NaN  \n",
       "562                           Current                       Current  NaN  \n",
       "663                                내각                           체육성  NaN  \n",
       "563                           Current                       Current  NaN  \n",
       "666                                내각                         화학공업성  NaN  \n",
       "926                           Current                       Current  NaN  \n",
       "931                               NaN                           NaN  NaN  \n",
       "1077                          Current                       Current  NaN  \n",
       "1085                          Current                       Current  NaN  \n",
       "735                           Current                       Current  NaN  \n",
       "742                            최고인민회의                         법제위원회  NaN  \n",
       "731                           Current                       Current  NaN  \n",
       "744                            최고인민회의                         상임위원회  NaN  \n",
       "732                           Current                       Current  NaN  \n",
       "747                            최고인민회의                         예산위원회  NaN  \n",
       "736                           Current                       Current  NaN  \n",
       "750                            최고인민회의                         외교위원회  NaN  "
      ]
     },
     "execution_count": 637,
     "metadata": {},
     "output_type": "execute_result"
    }
   ],
   "source": [
    "# verify every duplicated pair has at least one LinkToCurrent_PrimaryInstitution == Current\n",
    "orgtree[orgtree[[\"PrimaryInstitution\",\"OrgName\"]].duplicated(keep=False)].sort_values([\"PrimaryInstitution\",\"OrgName\",\"LinkToCurrent_PrimaryInstitution\"])"
   ]
  },
  {
   "cell_type": "code",
   "execution_count": 638,
   "metadata": {},
   "outputs": [
    {
     "data": {
      "text/plain": [
       "(89, 7)"
      ]
     },
     "execution_count": 638,
     "metadata": {},
     "output_type": "execute_result"
    }
   ],
   "source": [
    "orgtree[orgtree[[\"PrimaryInstitution\",\"OrgName\"]].duplicated(keep=False)].sort_values([\"PrimaryInstitution\",\"OrgName\",\"LinkToCurrent_PrimaryInstitution\"]).shape"
   ]
  },
  {
   "cell_type": "code",
   "execution_count": 639,
   "metadata": {},
   "outputs": [
    {
     "data": {
      "text/plain": [
       "(1125, 7)"
      ]
     },
     "execution_count": 639,
     "metadata": {},
     "output_type": "execute_result"
    }
   ],
   "source": [
    "# keep the Current one and drop the other\n",
    "orgtree.sort_values([\"PrimaryInstitution\",\"OrgName\",\"LinkToCurrent_PrimaryInstitution\"],inplace=True)\n",
    "orgtree.drop_duplicates([\"PrimaryInstitution\",\"OrgName\"],keep=\"first\",inplace=True,ignore_index=True)\n",
    "orgtree.shape"
   ]
  },
  {
   "cell_type": "code",
   "execution_count": 640,
   "metadata": {},
   "outputs": [
    {
     "data": {
      "text/html": [
       "<div>\n",
       "<style scoped>\n",
       "    .dataframe tbody tr th:only-of-type {\n",
       "        vertical-align: middle;\n",
       "    }\n",
       "\n",
       "    .dataframe tbody tr th {\n",
       "        vertical-align: top;\n",
       "    }\n",
       "\n",
       "    .dataframe thead th {\n",
       "        text-align: right;\n",
       "    }\n",
       "</style>\n",
       "<table border=\"1\" class=\"dataframe\">\n",
       "  <thead>\n",
       "    <tr style=\"text-align: right;\">\n",
       "      <th></th>\n",
       "      <th>InsideGov</th>\n",
       "      <th>PrimaryInstitution</th>\n",
       "      <th>OrgName</th>\n",
       "      <th>ImmediateSuperiorOrg</th>\n",
       "      <th>LinkToCurrent_PrimaryInstitution</th>\n",
       "      <th>LinkToCurrent_OrgName</th>\n",
       "      <th>비고</th>\n",
       "    </tr>\n",
       "  </thead>\n",
       "  <tbody>\n",
       "  </tbody>\n",
       "</table>\n",
       "</div>"
      ],
      "text/plain": [
       "Empty DataFrame\n",
       "Columns: [InsideGov, PrimaryInstitution, OrgName, ImmediateSuperiorOrg, LinkToCurrent_PrimaryInstitution, LinkToCurrent_OrgName, 비고]\n",
       "Index: []"
      ]
     },
     "execution_count": 640,
     "metadata": {},
     "output_type": "execute_result"
    }
   ],
   "source": [
    "# verify no rows with duplicate PrimaryInstitution & OrgName\n",
    "orgtree[orgtree[[\"PrimaryInstitution\",\"OrgName\"]].duplicated(keep=False)]"
   ]
  },
  {
   "cell_type": "code",
   "execution_count": 642,
   "metadata": {},
   "outputs": [],
   "source": [
    "orgtree_unique = orgtree.copy()"
   ]
  },
  {
   "cell_type": "markdown",
   "metadata": {},
   "source": [
    "# recursively add ImmedSuperiorOrgs, drop duplicates and sort"
   ]
  },
  {
   "cell_type": "code",
   "execution_count": 643,
   "metadata": {},
   "outputs": [
    {
     "data": {
      "text/plain": [
       "(1125, 7)"
      ]
     },
     "execution_count": 643,
     "metadata": {},
     "output_type": "execute_result"
    }
   ],
   "source": [
    "orgtree = orgtree_unique.copy()\n",
    "orgtree.shape"
   ]
  },
  {
   "cell_type": "code",
   "execution_count": 644,
   "metadata": {},
   "outputs": [
    {
     "data": {
      "text/html": [
       "<div>\n",
       "<style scoped>\n",
       "    .dataframe tbody tr th:only-of-type {\n",
       "        vertical-align: middle;\n",
       "    }\n",
       "\n",
       "    .dataframe tbody tr th {\n",
       "        vertical-align: top;\n",
       "    }\n",
       "\n",
       "    .dataframe thead th {\n",
       "        text-align: right;\n",
       "    }\n",
       "</style>\n",
       "<table border=\"1\" class=\"dataframe\">\n",
       "  <thead>\n",
       "    <tr style=\"text-align: right;\">\n",
       "      <th></th>\n",
       "      <th>InsideGov</th>\n",
       "      <th>PrimaryInstitution</th>\n",
       "      <th>OrgName</th>\n",
       "      <th>ImmediateSuperiorOrg</th>\n",
       "      <th>LinkToCurrent_PrimaryInstitution</th>\n",
       "      <th>LinkToCurrent_OrgName</th>\n",
       "      <th>비고</th>\n",
       "    </tr>\n",
       "  </thead>\n",
       "  <tbody>\n",
       "    <tr>\n",
       "      <th>0</th>\n",
       "      <td>False</td>\n",
       "      <td>6.15공동선언실천남북공동위원회북측위원회</td>\n",
       "      <td>교직원분과</td>\n",
       "      <td></td>\n",
       "      <td>Current</td>\n",
       "      <td>Current</td>\n",
       "      <td>NaN</td>\n",
       "    </tr>\n",
       "    <tr>\n",
       "      <th>1</th>\n",
       "      <td>False</td>\n",
       "      <td>6.15공동선언실천남북공동위원회북측위원회</td>\n",
       "      <td>노동자분과</td>\n",
       "      <td></td>\n",
       "      <td>Current</td>\n",
       "      <td>Current</td>\n",
       "      <td>NaN</td>\n",
       "    </tr>\n",
       "  </tbody>\n",
       "</table>\n",
       "</div>"
      ],
      "text/plain": [
       "  InsideGov      PrimaryInstitution OrgName ImmediateSuperiorOrg  \\\n",
       "0     False  6.15공동선언실천남북공동위원회북측위원회   교직원분과                        \n",
       "1     False  6.15공동선언실천남북공동위원회북측위원회   노동자분과                        \n",
       "\n",
       "  LinkToCurrent_PrimaryInstitution LinkToCurrent_OrgName   비고  \n",
       "0                          Current               Current  NaN  \n",
       "1                          Current               Current  NaN  "
      ]
     },
     "execution_count": 644,
     "metadata": {},
     "output_type": "execute_result"
    }
   ],
   "source": [
    "orgtree[0:2]"
   ]
  },
  {
   "cell_type": "code",
   "execution_count": 645,
   "metadata": {},
   "outputs": [
    {
     "data": {
      "text/plain": [
       "(120, 3)"
      ]
     },
     "execution_count": 645,
     "metadata": {},
     "output_type": "execute_result"
    }
   ],
   "source": [
    "orgtree_2order = orgtree.loc[orgtree.OrgName.str.contains(\"_\"),[\"InsideGov\",\"PrimaryInstitution\",\"OrgName\"]]\n",
    "orgtree_2order[\"OrgName\"] = orgtree_2order[\"OrgName\"].apply(lambda x: \"_\".join(x.split(\"_\")[:-1]))\n",
    "orgtree_2order.drop_duplicates(inplace=True)\n",
    "orgtree_2order.shape"
   ]
  },
  {
   "cell_type": "code",
   "execution_count": 646,
   "metadata": {},
   "outputs": [
    {
     "data": {
      "text/plain": [
       "(19, 3)"
      ]
     },
     "execution_count": 646,
     "metadata": {},
     "output_type": "execute_result"
    }
   ],
   "source": [
    "orgtree_3order = orgtree_2order.loc[orgtree_2order.OrgName.str.contains(\"_\"),[\"InsideGov\",\"PrimaryInstitution\",\"OrgName\"]]\n",
    "orgtree_3order[\"OrgName\"] = orgtree_3order[\"OrgName\"].apply(lambda x: \"_\".join(x.split(\"_\")[:-1]))\n",
    "orgtree_3order.drop_duplicates(inplace=True)\n",
    "orgtree_3order.shape"
   ]
  },
  {
   "cell_type": "code",
   "execution_count": 647,
   "metadata": {},
   "outputs": [
    {
     "data": {
      "text/plain": [
       "(2, 3)"
      ]
     },
     "execution_count": 647,
     "metadata": {},
     "output_type": "execute_result"
    }
   ],
   "source": [
    "orgtree_4order = orgtree_3order.loc[orgtree_3order.OrgName.str.contains(\"_\"),[\"InsideGov\",\"PrimaryInstitution\",\"OrgName\"]]\n",
    "orgtree_4order.OrgName = orgtree_4order.OrgName.apply(lambda x: \"_\".join(x.split(\"_\")[:-1]))\n",
    "orgtree_4order.drop_duplicates(inplace=True)\n",
    "orgtree_4order.shape"
   ]
  },
  {
   "cell_type": "code",
   "execution_count": 648,
   "metadata": {},
   "outputs": [
    {
     "data": {
      "text/plain": [
       "(0, 3)"
      ]
     },
     "execution_count": 648,
     "metadata": {},
     "output_type": "execute_result"
    }
   ],
   "source": [
    "orgtree_5order = orgtree_4order.loc[orgtree_4order.OrgName.str.contains(\"_\"),[\"InsideGov\",\"PrimaryInstitution\",\"OrgName\"]]\n",
    "orgtree_5order.shape"
   ]
  },
  {
   "cell_type": "code",
   "execution_count": 649,
   "metadata": {},
   "outputs": [
    {
     "data": {
      "text/plain": [
       "Index(['InsideGov', 'PrimaryInstitution', 'OrgName', 'ImmediateSuperiorOrg',\n",
       "       'LinkToCurrent_PrimaryInstitution', 'LinkToCurrent_OrgName', '비고'],\n",
       "      dtype='object')"
      ]
     },
     "execution_count": 649,
     "metadata": {},
     "output_type": "execute_result"
    }
   ],
   "source": [
    "orgtree.columns"
   ]
  },
  {
   "cell_type": "code",
   "execution_count": 650,
   "metadata": {},
   "outputs": [
    {
     "data": {
      "text/plain": [
       "(121, 3)"
      ]
     },
     "execution_count": 650,
     "metadata": {},
     "output_type": "execute_result"
    }
   ],
   "source": [
    "orgtree_higher_order = pd.concat([orgtree_2order,orgtree_3order,orgtree_4order])\n",
    "orgtree_higher_order.drop_duplicates(inplace=True)\n",
    "orgtree_higher_order.sort_values([\"InsideGov\",\"PrimaryInstitution\",\"OrgName\"],ascending=False,inplace=True)\n",
    "orgtree_higher_order.shape"
   ]
  },
  {
   "cell_type": "code",
   "execution_count": 651,
   "metadata": {},
   "outputs": [
    {
     "data": {
      "text/plain": [
       "(37, 4)"
      ]
     },
     "execution_count": 651,
     "metadata": {},
     "output_type": "execute_result"
    }
   ],
   "source": [
    "# find new orgtree_higher_order whose PrimaryOrg & OrgName are not contained in orgtree\n",
    "orgtree_higher_order_merged = orgtree_higher_order.merge(orgtree[[\"PrimaryInstitution\",\"OrgName\"]],\n",
    "                                             how=\"left\",on=[\"PrimaryInstitution\",\"OrgName\"],\n",
    "                                             suffixes=(\"\",\"_right\"),indicator=True)\n",
    "orgtree_higher_order_unique = orgtree_higher_order_merged[orgtree_higher_order_merged[\"_merge\"]==\"left_only\"]\n",
    "orgtree_higher_order_unique.shape"
   ]
  },
  {
   "cell_type": "code",
   "execution_count": 652,
   "metadata": {},
   "outputs": [
    {
     "data": {
      "text/plain": [
       "Index(['InsideGov', 'PrimaryInstitution', 'OrgName', 'ImmediateSuperiorOrg',\n",
       "       'LinkToCurrent_PrimaryInstitution', 'LinkToCurrent_OrgName', '비고'],\n",
       "      dtype='object')"
      ]
     },
     "execution_count": 652,
     "metadata": {},
     "output_type": "execute_result"
    }
   ],
   "source": [
    "orgtree.columns"
   ]
  },
  {
   "cell_type": "code",
   "execution_count": 653,
   "metadata": {},
   "outputs": [
    {
     "data": {
      "text/plain": [
       "Index(['InsideGov', 'PrimaryInstitution', 'OrgName', '_merge'], dtype='object')"
      ]
     },
     "execution_count": 653,
     "metadata": {},
     "output_type": "execute_result"
    }
   ],
   "source": [
    "orgtree_higher_order_unique.columns"
   ]
  },
  {
   "cell_type": "code",
   "execution_count": 654,
   "metadata": {},
   "outputs": [
    {
     "data": {
      "text/plain": [
       "(37, 3)"
      ]
     },
     "execution_count": 654,
     "metadata": {},
     "output_type": "execute_result"
    }
   ],
   "source": [
    "# drop _merge column in orgtree_higher_order_unique\n",
    "orgtree_higher_order_unique = orgtree_higher_order_unique.drop(columns=[\"_merge\"],axis=1)\n",
    "orgtree_higher_order_unique.shape"
   ]
  },
  {
   "cell_type": "code",
   "execution_count": 655,
   "metadata": {},
   "outputs": [],
   "source": [
    "# add ImmediateSuperiorOrg to orgtree_higher_order_unique\n",
    "orgtree_higher_order_unique[\"ImmediateSuperiorOrg\"] = orgtree_higher_order_unique[\"OrgName\"].apply(lambda row: \"_\".join(row.split(\"_\")[:-1]))"
   ]
  },
  {
   "cell_type": "code",
   "execution_count": 656,
   "metadata": {},
   "outputs": [],
   "source": [
    "# add columns [LinkToCurrent_PrimaryInstitution, LinkToCurrent_OrgName, 비고] and set them to null\n",
    "orgtree_higher_order_unique[\"LinkToCurrent_PrimaryInstitution\"] = np.nan\n",
    "orgtree_higher_order_unique[\"LinkToCurrent_OrgName\"] = np.nan\n",
    "orgtree_higher_order_unique[\"비고\"] = np.nan"
   ]
  },
  {
   "cell_type": "code",
   "execution_count": 657,
   "metadata": {},
   "outputs": [
    {
     "data": {
      "text/plain": [
       "(1162, 7)"
      ]
     },
     "execution_count": 657,
     "metadata": {},
     "output_type": "execute_result"
    }
   ],
   "source": [
    "# concatenate orgtree and orgtree_higher_order_unique\n",
    "orgtree_concat = pd.concat([orgtree,orgtree_higher_order_unique])\n",
    "orgtree_concat.shape"
   ]
  },
  {
   "cell_type": "code",
   "execution_count": 658,
   "metadata": {},
   "outputs": [
    {
     "data": {
      "text/html": [
       "<div>\n",
       "<style scoped>\n",
       "    .dataframe tbody tr th:only-of-type {\n",
       "        vertical-align: middle;\n",
       "    }\n",
       "\n",
       "    .dataframe tbody tr th {\n",
       "        vertical-align: top;\n",
       "    }\n",
       "\n",
       "    .dataframe thead th {\n",
       "        text-align: right;\n",
       "    }\n",
       "</style>\n",
       "<table border=\"1\" class=\"dataframe\">\n",
       "  <thead>\n",
       "    <tr style=\"text-align: right;\">\n",
       "      <th></th>\n",
       "      <th>InsideGov</th>\n",
       "      <th>PrimaryInstitution</th>\n",
       "      <th>OrgName</th>\n",
       "      <th>ImmediateSuperiorOrg</th>\n",
       "      <th>LinkToCurrent_PrimaryInstitution</th>\n",
       "      <th>LinkToCurrent_OrgName</th>\n",
       "      <th>비고</th>\n",
       "    </tr>\n",
       "  </thead>\n",
       "  <tbody>\n",
       "  </tbody>\n",
       "</table>\n",
       "</div>"
      ],
      "text/plain": [
       "Empty DataFrame\n",
       "Columns: [InsideGov, PrimaryInstitution, OrgName, ImmediateSuperiorOrg, LinkToCurrent_PrimaryInstitution, LinkToCurrent_OrgName, 비고]\n",
       "Index: []"
      ]
     },
     "execution_count": 658,
     "metadata": {},
     "output_type": "execute_result"
    }
   ],
   "source": [
    "# confirm no duplicate (PrimaryInstitution, OrgName) pairs \n",
    "orgtree_concat[orgtree_concat.duplicated([\"PrimaryInstitution\",\"OrgName\"])]"
   ]
  },
  {
   "cell_type": "code",
   "execution_count": 659,
   "metadata": {},
   "outputs": [],
   "source": [
    "# sort\n",
    "orgtree_concat.sort_values([\"InsideGov\",\"PrimaryInstitution\",\"OrgName\"],ascending=False,inplace=True,ignore_index=True)"
   ]
  },
  {
   "cell_type": "code",
   "execution_count": 660,
   "metadata": {},
   "outputs": [
    {
     "data": {
      "text/plain": [
       "(1162, 7)"
      ]
     },
     "execution_count": 660,
     "metadata": {},
     "output_type": "execute_result"
    }
   ],
   "source": [
    "orgtree_concat.shape"
   ]
  },
  {
   "cell_type": "code",
   "execution_count": 661,
   "metadata": {},
   "outputs": [
    {
     "data": {
      "text/html": [
       "<div>\n",
       "<style scoped>\n",
       "    .dataframe tbody tr th:only-of-type {\n",
       "        vertical-align: middle;\n",
       "    }\n",
       "\n",
       "    .dataframe tbody tr th {\n",
       "        vertical-align: top;\n",
       "    }\n",
       "\n",
       "    .dataframe thead th {\n",
       "        text-align: right;\n",
       "    }\n",
       "</style>\n",
       "<table border=\"1\" class=\"dataframe\">\n",
       "  <thead>\n",
       "    <tr style=\"text-align: right;\">\n",
       "      <th></th>\n",
       "      <th>InsideGov</th>\n",
       "      <th>PrimaryInstitution</th>\n",
       "      <th>OrgName</th>\n",
       "      <th>ImmediateSuperiorOrg</th>\n",
       "      <th>LinkToCurrent_PrimaryInstitution</th>\n",
       "      <th>LinkToCurrent_OrgName</th>\n",
       "      <th>비고</th>\n",
       "    </tr>\n",
       "  </thead>\n",
       "  <tbody>\n",
       "    <tr>\n",
       "      <th>0</th>\n",
       "      <td>True</td>\n",
       "      <td>최고재판소</td>\n",
       "      <td></td>\n",
       "      <td></td>\n",
       "      <td>최고인민회의</td>\n",
       "      <td>중앙재판소</td>\n",
       "      <td>NaN</td>\n",
       "    </tr>\n",
       "    <tr>\n",
       "      <th>1</th>\n",
       "      <td>True</td>\n",
       "      <td>최고인민회의</td>\n",
       "      <td>황해북도인민위원회_서흥군인민위원회</td>\n",
       "      <td>황해북도인민위원회</td>\n",
       "      <td>NaN</td>\n",
       "      <td>NaN</td>\n",
       "      <td>NaN</td>\n",
       "    </tr>\n",
       "    <tr>\n",
       "      <th>2</th>\n",
       "      <td>True</td>\n",
       "      <td>최고인민회의</td>\n",
       "      <td>황해북도인민위원회_개성시인민위원회</td>\n",
       "      <td>황해북도인민위원회</td>\n",
       "      <td>NaN</td>\n",
       "      <td>NaN</td>\n",
       "      <td>NaN</td>\n",
       "    </tr>\n",
       "    <tr>\n",
       "      <th>3</th>\n",
       "      <td>True</td>\n",
       "      <td>최고인민회의</td>\n",
       "      <td>황해북도인민위원회</td>\n",
       "      <td></td>\n",
       "      <td>NaN</td>\n",
       "      <td>NaN</td>\n",
       "      <td>NaN</td>\n",
       "    </tr>\n",
       "    <tr>\n",
       "      <th>4</th>\n",
       "      <td>True</td>\n",
       "      <td>최고인민회의</td>\n",
       "      <td>황해남도인민위원회</td>\n",
       "      <td></td>\n",
       "      <td>NaN</td>\n",
       "      <td>NaN</td>\n",
       "      <td>NaN</td>\n",
       "    </tr>\n",
       "  </tbody>\n",
       "</table>\n",
       "</div>"
      ],
      "text/plain": [
       "  InsideGov PrimaryInstitution             OrgName ImmediateSuperiorOrg  \\\n",
       "0      True              최고재판소                                            \n",
       "1      True             최고인민회의  황해북도인민위원회_서흥군인민위원회            황해북도인민위원회   \n",
       "2      True             최고인민회의  황해북도인민위원회_개성시인민위원회            황해북도인민위원회   \n",
       "3      True             최고인민회의           황해북도인민위원회                        \n",
       "4      True             최고인민회의           황해남도인민위원회                        \n",
       "\n",
       "  LinkToCurrent_PrimaryInstitution LinkToCurrent_OrgName   비고  \n",
       "0                           최고인민회의                 중앙재판소  NaN  \n",
       "1                              NaN                   NaN  NaN  \n",
       "2                              NaN                   NaN  NaN  \n",
       "3                              NaN                   NaN  NaN  \n",
       "4                              NaN                   NaN  NaN  "
      ]
     },
     "execution_count": 661,
     "metadata": {},
     "output_type": "execute_result"
    }
   ],
   "source": [
    "orgtree_concat[0:5]"
   ]
  },
  {
   "cell_type": "markdown",
   "metadata": {},
   "source": [
    "# export orgtree_concise"
   ]
  },
  {
   "cell_type": "code",
   "execution_count": 662,
   "metadata": {},
   "outputs": [],
   "source": [
    "# if LinkToCurrent_PrimaryInstitution, LinkToCurrent_OrgName are null, then indicate revision is necessary\n",
    "orgtree_concat.loc[orgtree_concat.LinkToCurrent_PrimaryInstitution.isna(),\"LinkToCurrent_PrimaryInstitution\"] = \"Please_Revise\"\n",
    "orgtree_concat.loc[orgtree_concat.LinkToCurrent_OrgName.isna(),\"LinkToCurrent_OrgName\"] = \"Please_Revise\""
   ]
  },
  {
   "cell_type": "code",
   "execution_count": 663,
   "metadata": {},
   "outputs": [
    {
     "data": {
      "text/html": [
       "<div>\n",
       "<style scoped>\n",
       "    .dataframe tbody tr th:only-of-type {\n",
       "        vertical-align: middle;\n",
       "    }\n",
       "\n",
       "    .dataframe tbody tr th {\n",
       "        vertical-align: top;\n",
       "    }\n",
       "\n",
       "    .dataframe thead th {\n",
       "        text-align: right;\n",
       "    }\n",
       "</style>\n",
       "<table border=\"1\" class=\"dataframe\">\n",
       "  <thead>\n",
       "    <tr style=\"text-align: right;\">\n",
       "      <th></th>\n",
       "      <th>InsideGov</th>\n",
       "      <th>PrimaryInstitution</th>\n",
       "      <th>OrgName</th>\n",
       "      <th>ImmediateSuperiorOrg</th>\n",
       "      <th>LinkToCurrent_PrimaryInstitution</th>\n",
       "      <th>LinkToCurrent_OrgName</th>\n",
       "      <th>비고</th>\n",
       "    </tr>\n",
       "  </thead>\n",
       "  <tbody>\n",
       "    <tr>\n",
       "      <th>0</th>\n",
       "      <td>True</td>\n",
       "      <td>최고재판소</td>\n",
       "      <td></td>\n",
       "      <td></td>\n",
       "      <td>최고인민회의</td>\n",
       "      <td>중앙재판소</td>\n",
       "      <td>NaN</td>\n",
       "    </tr>\n",
       "    <tr>\n",
       "      <th>1</th>\n",
       "      <td>True</td>\n",
       "      <td>최고인민회의</td>\n",
       "      <td>황해북도인민위원회_서흥군인민위원회</td>\n",
       "      <td>황해북도인민위원회</td>\n",
       "      <td>Please_Revise</td>\n",
       "      <td>Please_Revise</td>\n",
       "      <td>NaN</td>\n",
       "    </tr>\n",
       "    <tr>\n",
       "      <th>2</th>\n",
       "      <td>True</td>\n",
       "      <td>최고인민회의</td>\n",
       "      <td>황해북도인민위원회_개성시인민위원회</td>\n",
       "      <td>황해북도인민위원회</td>\n",
       "      <td>Please_Revise</td>\n",
       "      <td>Please_Revise</td>\n",
       "      <td>NaN</td>\n",
       "    </tr>\n",
       "    <tr>\n",
       "      <th>3</th>\n",
       "      <td>True</td>\n",
       "      <td>최고인민회의</td>\n",
       "      <td>황해북도인민위원회</td>\n",
       "      <td></td>\n",
       "      <td>Please_Revise</td>\n",
       "      <td>Please_Revise</td>\n",
       "      <td>NaN</td>\n",
       "    </tr>\n",
       "    <tr>\n",
       "      <th>4</th>\n",
       "      <td>True</td>\n",
       "      <td>최고인민회의</td>\n",
       "      <td>황해남도인민위원회</td>\n",
       "      <td></td>\n",
       "      <td>Please_Revise</td>\n",
       "      <td>Please_Revise</td>\n",
       "      <td>NaN</td>\n",
       "    </tr>\n",
       "  </tbody>\n",
       "</table>\n",
       "</div>"
      ],
      "text/plain": [
       "  InsideGov PrimaryInstitution             OrgName ImmediateSuperiorOrg  \\\n",
       "0      True              최고재판소                                            \n",
       "1      True             최고인민회의  황해북도인민위원회_서흥군인민위원회            황해북도인민위원회   \n",
       "2      True             최고인민회의  황해북도인민위원회_개성시인민위원회            황해북도인민위원회   \n",
       "3      True             최고인민회의           황해북도인민위원회                        \n",
       "4      True             최고인민회의           황해남도인민위원회                        \n",
       "\n",
       "  LinkToCurrent_PrimaryInstitution LinkToCurrent_OrgName   비고  \n",
       "0                           최고인민회의                 중앙재판소  NaN  \n",
       "1                    Please_Revise         Please_Revise  NaN  \n",
       "2                    Please_Revise         Please_Revise  NaN  \n",
       "3                    Please_Revise         Please_Revise  NaN  \n",
       "4                    Please_Revise         Please_Revise  NaN  "
      ]
     },
     "execution_count": 663,
     "metadata": {},
     "output_type": "execute_result"
    }
   ],
   "source": [
    "orgtree_concat[0:5]"
   ]
  },
  {
   "cell_type": "code",
   "execution_count": 664,
   "metadata": {},
   "outputs": [],
   "source": [
    "orgtree_concat.to_excel(path_org_str+fileout_org_tree+\".xlsx\",index=False)"
   ]
  },
  {
   "cell_type": "code",
   "execution_count": null,
   "metadata": {},
   "outputs": [],
   "source": []
  },
  {
   "cell_type": "code",
   "execution_count": null,
   "metadata": {},
   "outputs": [],
   "source": []
  }
 ],
 "metadata": {
  "kernelspec": {
   "display_name": "Python 3 (ipykernel)",
   "language": "python",
   "name": "python3"
  },
  "language_info": {
   "codemirror_mode": {
    "name": "ipython",
    "version": 3
   },
   "file_extension": ".py",
   "mimetype": "text/x-python",
   "name": "python",
   "nbconvert_exporter": "python",
   "pygments_lexer": "ipython3",
   "version": "3.11.0"
  }
 },
 "nbformat": 4,
 "nbformat_minor": 4
}
