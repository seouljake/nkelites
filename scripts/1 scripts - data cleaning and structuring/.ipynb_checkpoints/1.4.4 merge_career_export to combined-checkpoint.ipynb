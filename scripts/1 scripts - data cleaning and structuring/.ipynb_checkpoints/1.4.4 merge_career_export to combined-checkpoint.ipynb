{
 "cells": [
  {
   "cell_type": "markdown",
   "metadata": {},
   "source": [
    "# libraries & global vars"
   ]
  },
  {
   "cell_type": "code",
   "execution_count": 34,
   "metadata": {},
   "outputs": [],
   "source": [
    "import pandas as pd\n",
    "import numpy as np"
   ]
  },
  {
   "cell_type": "markdown",
   "metadata": {},
   "source": [
    "# import combined leaders"
   ]
  },
  {
   "cell_type": "code",
   "execution_count": 42,
   "metadata": {},
   "outputs": [],
   "source": [
    "## combined leaders to clean - file in\n",
    "filein_combined_leaders_toclean = \"../../data/combined data/combined data - 1 cleaning/cleaning step 1 - combined data/leaders_toparse.xlsx\"\n",
    "merged_leaders = pd.read_excel(filein_combined_leaders_toclean)"
   ]
  },
  {
   "cell_type": "code",
   "execution_count": 43,
   "metadata": {},
   "outputs": [
    {
     "data": {
      "text/plain": [
       "0      807.0\n",
       "1      430.0\n",
       "2      153.0\n",
       "3      542.0\n",
       "4        0.0\n",
       "       ...  \n",
       "663    705.0\n",
       "664    706.0\n",
       "665    707.0\n",
       "666    709.0\n",
       "667    711.0\n",
       "Name: MOUID_2015, Length: 668, dtype: float64"
      ]
     },
     "execution_count": 43,
     "metadata": {},
     "output_type": "execute_result"
    }
   ],
   "source": [
    "merged_leaders[\"MOUID_2015\"] = merged_leaders[\"MOUID_2015\"].fillna(0)\n",
    "merged_leaders.MOUID_2015"
   ]
  },
  {
   "cell_type": "code",
   "execution_count": 44,
   "metadata": {},
   "outputs": [
    {
     "data": {
      "text/plain": [
       "0      807\n",
       "1      430\n",
       "2      153\n",
       "3      542\n",
       "4        0\n",
       "      ... \n",
       "663    705\n",
       "664    706\n",
       "665    707\n",
       "666    709\n",
       "667    711\n",
       "Name: MOUID_2015, Length: 668, dtype: int32"
      ]
     },
     "execution_count": 44,
     "metadata": {},
     "output_type": "execute_result"
    }
   ],
   "source": [
    "merged_leaders.MOUID_2015 = merged_leaders.MOUID_2015.astype(\"int\")\n",
    "merged_leaders.MOUID_2015"
   ]
  },
  {
   "cell_type": "code",
   "execution_count": 46,
   "metadata": {},
   "outputs": [
    {
     "data": {
      "text/plain": [
       "0      807.0\n",
       "1      430.0\n",
       "2      153.0\n",
       "3      542.0\n",
       "4        NaN\n",
       "       ...  \n",
       "663    705.0\n",
       "664    706.0\n",
       "665    707.0\n",
       "666    709.0\n",
       "667    711.0\n",
       "Name: MOUID_2015, Length: 668, dtype: float64"
      ]
     },
     "execution_count": 46,
     "metadata": {},
     "output_type": "execute_result"
    }
   ],
   "source": [
    "#merged_leaders.loc[merged_leaders[\"MOUID_2015\"]==0,\"MOUID_2015\"]=np.nan\n",
    "merged_leaders.MOUID_2015.replace(0,np.nan,inplace=True)\n",
    "merged_leaders.MOUID_2015"
   ]
  },
  {
   "cell_type": "markdown",
   "metadata": {},
   "source": [
    "# path out for combined career table - to parse and code"
   ]
  },
  {
   "cell_type": "code",
   "execution_count": 6,
   "metadata": {},
   "outputs": [],
   "source": [
    "## combined career - cleaning - file out\n",
    "fileout_combined_career_cleaning = \"../../data/combined data/combined data - 1 cleaning/cleaning step 1 - combined data/career_everything_toparse.xlsx\""
   ]
  },
  {
   "cell_type": "code",
   "execution_count": null,
   "metadata": {},
   "outputs": [],
   "source": []
  },
  {
   "cell_type": "markdown",
   "metadata": {},
   "source": [
    "# import and merge 2015 & 2022 career tables"
   ]
  },
  {
   "cell_type": "code",
   "execution_count": 7,
   "metadata": {},
   "outputs": [],
   "source": [
    "## 2022 career - table - file in\n",
    "file_2022_career_table = \"../../data/2022 data/2022 data - 2 tables/career_everything.xlsx\"\n",
    "new_career = pd.read_excel(file_2022_career_table)\n",
    "new_career.columns = [item+\"_2022\" if item != \"LeaderID\" else item for item in list(new_career.columns)]"
   ]
  },
  {
   "cell_type": "code",
   "execution_count": 21,
   "metadata": {},
   "outputs": [],
   "source": [
    "## 2015 career - raw - file in\n",
    "file_2015_career_raw = \"../../data/2015 data/2015 data - 0 raw/leaderschoollinkmou.csv\"\n",
    "old_career_columns = [\"MOUID_2015\", \"Name\", \"CareerStringID_2015\", \"CareerString_2015\", \"CareerStartYear\", \"CareerStartMonth\", \"EventType\", \"JointAppointment\", \"Org1\", \"Org2\", \"Org3\", \"Org4\", \"Org5\", \"Position\", \"OrgLevel\", \"PositionLevel\", \"OrgPositionString\"]\n",
    "old_career = pd.read_csv(file_2015_career_raw,sep=\";\",names=old_career_columns)\n",
    "old_career = old_career[old_career[\"MOUID_2015\"].notna()]"
   ]
  },
  {
   "cell_type": "code",
   "execution_count": 27,
   "metadata": {},
   "outputs": [
    {
     "data": {
      "text/plain": [
       "0      102\n",
       "1      102\n",
       "2      103\n",
       "3      106\n",
       "4      107\n",
       "      ... \n",
       "299    783\n",
       "300    799\n",
       "301    804\n",
       "302    807\n",
       "303    807\n",
       "Name: MOUID_2015, Length: 303, dtype: int32"
      ]
     },
     "execution_count": 27,
     "metadata": {},
     "output_type": "execute_result"
    }
   ],
   "source": [
    "old_career.MOUID_2015 = old_career.MOUID_2015.astype(\"int\")\n",
    "old_career.MOUID_2015"
   ]
  },
  {
   "cell_type": "code",
   "execution_count": 9,
   "metadata": {},
   "outputs": [
    {
     "ename": "ValueError",
     "evalue": "You are trying to merge on object and float64 columns. If you wish to proceed you should use pd.concat",
     "output_type": "error",
     "traceback": [
      "\u001b[1;31m---------------------------------------------------------------------------\u001b[0m",
      "\u001b[1;31mValueError\u001b[0m                                Traceback (most recent call last)",
      "\u001b[1;32m<ipython-input-9-4746870786c7>\u001b[0m in \u001b[0;36m<module>\u001b[1;34m\u001b[0m\n\u001b[0;32m      1\u001b[0m \u001b[1;31m# add LeaderID to old_family. select columns to merge with new_family\u001b[0m\u001b[1;33m\u001b[0m\u001b[1;33m\u001b[0m\u001b[1;33m\u001b[0m\u001b[0m\n\u001b[0;32m      2\u001b[0m \u001b[0mmerged_leaders_key\u001b[0m \u001b[1;33m=\u001b[0m \u001b[0mmerged_leaders\u001b[0m\u001b[1;33m[\u001b[0m\u001b[1;33m[\u001b[0m\u001b[1;34m\"LeaderID\"\u001b[0m\u001b[1;33m,\u001b[0m\u001b[1;34m\"MOUID_2015\"\u001b[0m\u001b[1;33m]\u001b[0m\u001b[1;33m]\u001b[0m\u001b[1;33m\u001b[0m\u001b[1;33m\u001b[0m\u001b[0m\n\u001b[1;32m----> 3\u001b[1;33m \u001b[0mold_career_withid\u001b[0m \u001b[1;33m=\u001b[0m \u001b[0mold_career\u001b[0m\u001b[1;33m.\u001b[0m\u001b[0mmerge\u001b[0m\u001b[1;33m(\u001b[0m\u001b[0mmerged_leaders_key\u001b[0m\u001b[1;33m,\u001b[0m\u001b[0mon\u001b[0m\u001b[1;33m=\u001b[0m\u001b[1;34m\"MOUID_2015\"\u001b[0m\u001b[1;33m,\u001b[0m\u001b[0mhow\u001b[0m\u001b[1;33m=\u001b[0m\u001b[1;34m\"inner\"\u001b[0m\u001b[1;33m)\u001b[0m\u001b[1;33m\u001b[0m\u001b[1;33m\u001b[0m\u001b[0m\n\u001b[0m\u001b[0;32m      4\u001b[0m \u001b[1;31m#old_education_withid = old_education_withid[[\"LeaderID\",\"FamilyString_2015\"]]\u001b[0m\u001b[1;33m\u001b[0m\u001b[1;33m\u001b[0m\u001b[1;33m\u001b[0m\u001b[0m\n",
      "\u001b[1;32mc:\\users\\seoul\\appdata\\local\\programs\\python\\python37\\lib\\site-packages\\pandas\\core\\frame.py\u001b[0m in \u001b[0;36mmerge\u001b[1;34m(self, right, how, on, left_on, right_on, left_index, right_index, sort, suffixes, copy, indicator, validate)\u001b[0m\n\u001b[0;32m   8203\u001b[0m             \u001b[0mcopy\u001b[0m\u001b[1;33m=\u001b[0m\u001b[0mcopy\u001b[0m\u001b[1;33m,\u001b[0m\u001b[1;33m\u001b[0m\u001b[1;33m\u001b[0m\u001b[0m\n\u001b[0;32m   8204\u001b[0m             \u001b[0mindicator\u001b[0m\u001b[1;33m=\u001b[0m\u001b[0mindicator\u001b[0m\u001b[1;33m,\u001b[0m\u001b[1;33m\u001b[0m\u001b[1;33m\u001b[0m\u001b[0m\n\u001b[1;32m-> 8205\u001b[1;33m             \u001b[0mvalidate\u001b[0m\u001b[1;33m=\u001b[0m\u001b[0mvalidate\u001b[0m\u001b[1;33m,\u001b[0m\u001b[1;33m\u001b[0m\u001b[1;33m\u001b[0m\u001b[0m\n\u001b[0m\u001b[0;32m   8206\u001b[0m         )\n\u001b[0;32m   8207\u001b[0m \u001b[1;33m\u001b[0m\u001b[0m\n",
      "\u001b[1;32mc:\\users\\seoul\\appdata\\local\\programs\\python\\python37\\lib\\site-packages\\pandas\\core\\reshape\\merge.py\u001b[0m in \u001b[0;36mmerge\u001b[1;34m(left, right, how, on, left_on, right_on, left_index, right_index, sort, suffixes, copy, indicator, validate)\u001b[0m\n\u001b[0;32m     85\u001b[0m         \u001b[0mcopy\u001b[0m\u001b[1;33m=\u001b[0m\u001b[0mcopy\u001b[0m\u001b[1;33m,\u001b[0m\u001b[1;33m\u001b[0m\u001b[1;33m\u001b[0m\u001b[0m\n\u001b[0;32m     86\u001b[0m         \u001b[0mindicator\u001b[0m\u001b[1;33m=\u001b[0m\u001b[0mindicator\u001b[0m\u001b[1;33m,\u001b[0m\u001b[1;33m\u001b[0m\u001b[1;33m\u001b[0m\u001b[0m\n\u001b[1;32m---> 87\u001b[1;33m         \u001b[0mvalidate\u001b[0m\u001b[1;33m=\u001b[0m\u001b[0mvalidate\u001b[0m\u001b[1;33m,\u001b[0m\u001b[1;33m\u001b[0m\u001b[1;33m\u001b[0m\u001b[0m\n\u001b[0m\u001b[0;32m     88\u001b[0m     )\n\u001b[0;32m     89\u001b[0m     \u001b[1;32mreturn\u001b[0m \u001b[0mop\u001b[0m\u001b[1;33m.\u001b[0m\u001b[0mget_result\u001b[0m\u001b[1;33m(\u001b[0m\u001b[1;33m)\u001b[0m\u001b[1;33m\u001b[0m\u001b[1;33m\u001b[0m\u001b[0m\n",
      "\u001b[1;32mc:\\users\\seoul\\appdata\\local\\programs\\python\\python37\\lib\\site-packages\\pandas\\core\\reshape\\merge.py\u001b[0m in \u001b[0;36m__init__\u001b[1;34m(self, left, right, how, on, left_on, right_on, axis, left_index, right_index, sort, suffixes, copy, indicator, validate)\u001b[0m\n\u001b[0;32m    670\u001b[0m         \u001b[1;31m# validate the merge keys dtypes. We may need to coerce\u001b[0m\u001b[1;33m\u001b[0m\u001b[1;33m\u001b[0m\u001b[1;33m\u001b[0m\u001b[0m\n\u001b[0;32m    671\u001b[0m         \u001b[1;31m# to avoid incompatible dtypes\u001b[0m\u001b[1;33m\u001b[0m\u001b[1;33m\u001b[0m\u001b[1;33m\u001b[0m\u001b[0m\n\u001b[1;32m--> 672\u001b[1;33m         \u001b[0mself\u001b[0m\u001b[1;33m.\u001b[0m\u001b[0m_maybe_coerce_merge_keys\u001b[0m\u001b[1;33m(\u001b[0m\u001b[1;33m)\u001b[0m\u001b[1;33m\u001b[0m\u001b[1;33m\u001b[0m\u001b[0m\n\u001b[0m\u001b[0;32m    673\u001b[0m \u001b[1;33m\u001b[0m\u001b[0m\n\u001b[0;32m    674\u001b[0m         \u001b[1;31m# If argument passed to validate,\u001b[0m\u001b[1;33m\u001b[0m\u001b[1;33m\u001b[0m\u001b[1;33m\u001b[0m\u001b[0m\n",
      "\u001b[1;32mc:\\users\\seoul\\appdata\\local\\programs\\python\\python37\\lib\\site-packages\\pandas\\core\\reshape\\merge.py\u001b[0m in \u001b[0;36m_maybe_coerce_merge_keys\u001b[1;34m(self)\u001b[0m\n\u001b[0;32m   1191\u001b[0m                     \u001b[0minferred_right\u001b[0m \u001b[1;32min\u001b[0m \u001b[0mstring_types\u001b[0m \u001b[1;32mand\u001b[0m \u001b[0minferred_left\u001b[0m \u001b[1;32mnot\u001b[0m \u001b[1;32min\u001b[0m \u001b[0mstring_types\u001b[0m\u001b[1;33m\u001b[0m\u001b[1;33m\u001b[0m\u001b[0m\n\u001b[0;32m   1192\u001b[0m                 ):\n\u001b[1;32m-> 1193\u001b[1;33m                     \u001b[1;32mraise\u001b[0m \u001b[0mValueError\u001b[0m\u001b[1;33m(\u001b[0m\u001b[0mmsg\u001b[0m\u001b[1;33m)\u001b[0m\u001b[1;33m\u001b[0m\u001b[1;33m\u001b[0m\u001b[0m\n\u001b[0m\u001b[0;32m   1194\u001b[0m \u001b[1;33m\u001b[0m\u001b[0m\n\u001b[0;32m   1195\u001b[0m             \u001b[1;31m# datetimelikes must match exactly\u001b[0m\u001b[1;33m\u001b[0m\u001b[1;33m\u001b[0m\u001b[1;33m\u001b[0m\u001b[0m\n",
      "\u001b[1;31mValueError\u001b[0m: You are trying to merge on object and float64 columns. If you wish to proceed you should use pd.concat"
     ]
    }
   ],
   "source": [
    "# add LeaderID to old_family. select columns to merge with new_family\n",
    "merged_leaders_key = merged_leaders[[\"LeaderID\",\"MOUID_2015\"]]\n",
    "old_career_withid = old_career.merge(merged_leaders_key,on=\"MOUID_2015\",how=\"inner\")\n",
    "#old_education_withid = old_education_withid[[\"LeaderID\",\"FamilyString_2015\"]]"
   ]
  },
  {
   "cell_type": "code",
   "execution_count": 13,
   "metadata": {},
   "outputs": [],
   "source": [
    "merged_career = new_career.merge(old_career_withid,on=\"LeaderID\",how=\"outer\")"
   ]
  },
  {
   "cell_type": "code",
   "execution_count": 14,
   "metadata": {},
   "outputs": [
    {
     "data": {
      "text/html": [
       "<div>\n",
       "<style scoped>\n",
       "    .dataframe tbody tr th:only-of-type {\n",
       "        vertical-align: middle;\n",
       "    }\n",
       "\n",
       "    .dataframe tbody tr th {\n",
       "        vertical-align: top;\n",
       "    }\n",
       "\n",
       "    .dataframe thead th {\n",
       "        text-align: right;\n",
       "    }\n",
       "</style>\n",
       "<table border=\"1\" class=\"dataframe\">\n",
       "  <thead>\n",
       "    <tr style=\"text-align: right;\">\n",
       "      <th></th>\n",
       "      <th>LeaderID</th>\n",
       "      <th>CareerDateString_2022</th>\n",
       "      <th>CareerString_2022</th>\n",
       "      <th>MOUID_2015</th>\n",
       "      <th>Name</th>\n",
       "      <th>CareerStringID_2015</th>\n",
       "      <th>CareerString_2015</th>\n",
       "      <th>CareerStartYear</th>\n",
       "      <th>CareerStartMonth</th>\n",
       "      <th>EventType</th>\n",
       "      <th>JointAppointment</th>\n",
       "      <th>Org1</th>\n",
       "      <th>Org2</th>\n",
       "      <th>Org3</th>\n",
       "      <th>Org4</th>\n",
       "      <th>Org5</th>\n",
       "      <th>Position</th>\n",
       "      <th>OrgLevel</th>\n",
       "      <th>PositionLevel</th>\n",
       "      <th>OrgPositionString</th>\n",
       "    </tr>\n",
       "  </thead>\n",
       "  <tbody>\n",
       "    <tr>\n",
       "      <th>0</th>\n",
       "      <td>강관주</td>\n",
       "      <td>2011.12</td>\n",
       "      <td>김정일 국가장의위원회 위원</td>\n",
       "      <td>807</td>\n",
       "      <td>강관주</td>\n",
       "      <td>1960. 김일성종합대학 역사학부 졸업</td>\n",
       "      <td>1960</td>\n",
       "      <td>김일성종합대학교</td>\n",
       "      <td>대학교</td>\n",
       "      <td>북한</td>\n",
       "      <td>1960_김일성종합대학교_대학교_북한</td>\n",
       "      <td>NaN</td>\n",
       "      <td>NaN</td>\n",
       "      <td>NaN</td>\n",
       "      <td>NaN</td>\n",
       "      <td>NaN</td>\n",
       "      <td>NaN</td>\n",
       "      <td>NaN</td>\n",
       "      <td>NaN</td>\n",
       "      <td>NaN</td>\n",
       "    </tr>\n",
       "    <tr>\n",
       "      <th>1</th>\n",
       "      <td>강관주</td>\n",
       "      <td>2011.12</td>\n",
       "      <td>김정일 국가장의위원회 위원</td>\n",
       "      <td>807</td>\n",
       "      <td>강관주</td>\n",
       "      <td>연도미상김일성고급당학교 졸업</td>\n",
       "      <td>NaN</td>\n",
       "      <td>김일성고급당학교</td>\n",
       "      <td>특수학교</td>\n",
       "      <td>북한</td>\n",
       "      <td>year_김일성고급당학교_특수학교_북한</td>\n",
       "      <td>NaN</td>\n",
       "      <td>NaN</td>\n",
       "      <td>NaN</td>\n",
       "      <td>NaN</td>\n",
       "      <td>NaN</td>\n",
       "      <td>NaN</td>\n",
       "      <td>NaN</td>\n",
       "      <td>NaN</td>\n",
       "      <td>NaN</td>\n",
       "    </tr>\n",
       "    <tr>\n",
       "      <th>2</th>\n",
       "      <td>강관주</td>\n",
       "      <td>2010.09</td>\n",
       "      <td>조선노동당 중앙위원회 후보위원</td>\n",
       "      <td>807</td>\n",
       "      <td>강관주</td>\n",
       "      <td>1960. 김일성종합대학 역사학부 졸업</td>\n",
       "      <td>1960</td>\n",
       "      <td>김일성종합대학교</td>\n",
       "      <td>대학교</td>\n",
       "      <td>북한</td>\n",
       "      <td>1960_김일성종합대학교_대학교_북한</td>\n",
       "      <td>NaN</td>\n",
       "      <td>NaN</td>\n",
       "      <td>NaN</td>\n",
       "      <td>NaN</td>\n",
       "      <td>NaN</td>\n",
       "      <td>NaN</td>\n",
       "      <td>NaN</td>\n",
       "      <td>NaN</td>\n",
       "      <td>NaN</td>\n",
       "    </tr>\n",
       "    <tr>\n",
       "      <th>3</th>\n",
       "      <td>강관주</td>\n",
       "      <td>2010.09</td>\n",
       "      <td>조선노동당 중앙위원회 후보위원</td>\n",
       "      <td>807</td>\n",
       "      <td>강관주</td>\n",
       "      <td>연도미상김일성고급당학교 졸업</td>\n",
       "      <td>NaN</td>\n",
       "      <td>김일성고급당학교</td>\n",
       "      <td>특수학교</td>\n",
       "      <td>북한</td>\n",
       "      <td>year_김일성고급당학교_특수학교_북한</td>\n",
       "      <td>NaN</td>\n",
       "      <td>NaN</td>\n",
       "      <td>NaN</td>\n",
       "      <td>NaN</td>\n",
       "      <td>NaN</td>\n",
       "      <td>NaN</td>\n",
       "      <td>NaN</td>\n",
       "      <td>NaN</td>\n",
       "      <td>NaN</td>\n",
       "    </tr>\n",
       "    <tr>\n",
       "      <th>4</th>\n",
       "      <td>강관주</td>\n",
       "      <td>2010.04</td>\n",
       "      <td>김중린 국가장의위원회 위원</td>\n",
       "      <td>807</td>\n",
       "      <td>강관주</td>\n",
       "      <td>1960. 김일성종합대학 역사학부 졸업</td>\n",
       "      <td>1960</td>\n",
       "      <td>김일성종합대학교</td>\n",
       "      <td>대학교</td>\n",
       "      <td>북한</td>\n",
       "      <td>1960_김일성종합대학교_대학교_북한</td>\n",
       "      <td>NaN</td>\n",
       "      <td>NaN</td>\n",
       "      <td>NaN</td>\n",
       "      <td>NaN</td>\n",
       "      <td>NaN</td>\n",
       "      <td>NaN</td>\n",
       "      <td>NaN</td>\n",
       "      <td>NaN</td>\n",
       "      <td>NaN</td>\n",
       "    </tr>\n",
       "    <tr>\n",
       "      <th>...</th>\n",
       "      <td>...</td>\n",
       "      <td>...</td>\n",
       "      <td>...</td>\n",
       "      <td>...</td>\n",
       "      <td>...</td>\n",
       "      <td>...</td>\n",
       "      <td>...</td>\n",
       "      <td>...</td>\n",
       "      <td>...</td>\n",
       "      <td>...</td>\n",
       "      <td>...</td>\n",
       "      <td>...</td>\n",
       "      <td>...</td>\n",
       "      <td>...</td>\n",
       "      <td>...</td>\n",
       "      <td>...</td>\n",
       "      <td>...</td>\n",
       "      <td>...</td>\n",
       "      <td>...</td>\n",
       "      <td>...</td>\n",
       "    </tr>\n",
       "    <tr>\n",
       "      <th>9874</th>\n",
       "      <td>송석환</td>\n",
       "      <td>NaN</td>\n",
       "      <td>NaN</td>\n",
       "      <td>701</td>\n",
       "      <td>송석환</td>\n",
       "      <td>연도미상 평양음악대학</td>\n",
       "      <td>NaN</td>\n",
       "      <td>평양음악대학교</td>\n",
       "      <td>대학교</td>\n",
       "      <td>북한</td>\n",
       "      <td>year_평양음악대학교_대학교_북한</td>\n",
       "      <td>NaN</td>\n",
       "      <td>NaN</td>\n",
       "      <td>NaN</td>\n",
       "      <td>NaN</td>\n",
       "      <td>NaN</td>\n",
       "      <td>NaN</td>\n",
       "      <td>NaN</td>\n",
       "      <td>NaN</td>\n",
       "      <td>NaN</td>\n",
       "    </tr>\n",
       "    <tr>\n",
       "      <th>9875</th>\n",
       "      <td>오광철</td>\n",
       "      <td>NaN</td>\n",
       "      <td>NaN</td>\n",
       "      <td>705</td>\n",
       "      <td>오광철</td>\n",
       "      <td>연도미상 김일성종합대 프랑스어과 졸업</td>\n",
       "      <td>NaN</td>\n",
       "      <td>김일성종합대학교</td>\n",
       "      <td>대학교</td>\n",
       "      <td>북한</td>\n",
       "      <td>year_김일성종합대학교_대학교_북한</td>\n",
       "      <td>NaN</td>\n",
       "      <td>NaN</td>\n",
       "      <td>NaN</td>\n",
       "      <td>NaN</td>\n",
       "      <td>NaN</td>\n",
       "      <td>NaN</td>\n",
       "      <td>NaN</td>\n",
       "      <td>NaN</td>\n",
       "      <td>NaN</td>\n",
       "    </tr>\n",
       "    <tr>\n",
       "      <th>9876</th>\n",
       "      <td>오길방</td>\n",
       "      <td>NaN</td>\n",
       "      <td>NaN</td>\n",
       "      <td>706</td>\n",
       "      <td>오길방</td>\n",
       "      <td>연도미상 김일성종합대학 졸업</td>\n",
       "      <td>NaN</td>\n",
       "      <td>김일성종합대학교</td>\n",
       "      <td>대학교</td>\n",
       "      <td>북한</td>\n",
       "      <td>year_김일성종합대학교_대학교_북한</td>\n",
       "      <td>NaN</td>\n",
       "      <td>NaN</td>\n",
       "      <td>NaN</td>\n",
       "      <td>NaN</td>\n",
       "      <td>NaN</td>\n",
       "      <td>NaN</td>\n",
       "      <td>NaN</td>\n",
       "      <td>NaN</td>\n",
       "      <td>NaN</td>\n",
       "    </tr>\n",
       "    <tr>\n",
       "      <th>9877</th>\n",
       "      <td>우두태</td>\n",
       "      <td>NaN</td>\n",
       "      <td>NaN</td>\n",
       "      <td>707</td>\n",
       "      <td>우두태</td>\n",
       "      <td>연도미상 문평제련소 공장대학 야금과</td>\n",
       "      <td>NaN</td>\n",
       "      <td>공장대학</td>\n",
       "      <td>대학교</td>\n",
       "      <td>북한</td>\n",
       "      <td>year_공장대학_대학교_북한</td>\n",
       "      <td>NaN</td>\n",
       "      <td>NaN</td>\n",
       "      <td>NaN</td>\n",
       "      <td>NaN</td>\n",
       "      <td>NaN</td>\n",
       "      <td>NaN</td>\n",
       "      <td>NaN</td>\n",
       "      <td>NaN</td>\n",
       "      <td>NaN</td>\n",
       "    </tr>\n",
       "    <tr>\n",
       "      <th>9878</th>\n",
       "      <td>이금범</td>\n",
       "      <td>NaN</td>\n",
       "      <td>NaN</td>\n",
       "      <td>711</td>\n",
       "      <td>이금범</td>\n",
       "      <td>연도미상 평양체신대학 전자공학</td>\n",
       "      <td>NaN</td>\n",
       "      <td>평양체신대학교</td>\n",
       "      <td>대학교</td>\n",
       "      <td>북한</td>\n",
       "      <td>year_평양체신대학교_대학교_북한</td>\n",
       "      <td>NaN</td>\n",
       "      <td>NaN</td>\n",
       "      <td>NaN</td>\n",
       "      <td>NaN</td>\n",
       "      <td>NaN</td>\n",
       "      <td>NaN</td>\n",
       "      <td>NaN</td>\n",
       "      <td>NaN</td>\n",
       "      <td>NaN</td>\n",
       "    </tr>\n",
       "  </tbody>\n",
       "</table>\n",
       "<p>9879 rows × 20 columns</p>\n",
       "</div>"
      ],
      "text/plain": [
       "     LeaderID CareerDateString_2022 CareerString_2022 MOUID_2015 Name  \\\n",
       "0         강관주               2011.12    김정일 국가장의위원회 위원        807  강관주   \n",
       "1         강관주               2011.12    김정일 국가장의위원회 위원        807  강관주   \n",
       "2         강관주               2010.09  조선노동당 중앙위원회 후보위원        807  강관주   \n",
       "3         강관주               2010.09  조선노동당 중앙위원회 후보위원        807  강관주   \n",
       "4         강관주               2010.04    김중린 국가장의위원회 위원        807  강관주   \n",
       "...       ...                   ...               ...        ...  ...   \n",
       "9874      송석환                   NaN               NaN        701  송석환   \n",
       "9875      오광철                   NaN               NaN        705  오광철   \n",
       "9876      오길방                   NaN               NaN        706  오길방   \n",
       "9877      우두태                   NaN               NaN        707  우두태   \n",
       "9878      이금범                   NaN               NaN        711  이금범   \n",
       "\n",
       "        CareerStringID_2015 CareerString_2015 CareerStartYear  \\\n",
       "0     1960. 김일성종합대학 역사학부 졸업              1960        김일성종합대학교   \n",
       "1           연도미상김일성고급당학교 졸업               NaN        김일성고급당학교   \n",
       "2     1960. 김일성종합대학 역사학부 졸업              1960        김일성종합대학교   \n",
       "3           연도미상김일성고급당학교 졸업               NaN        김일성고급당학교   \n",
       "4     1960. 김일성종합대학 역사학부 졸업              1960        김일성종합대학교   \n",
       "...                     ...               ...             ...   \n",
       "9874            연도미상 평양음악대학               NaN         평양음악대학교   \n",
       "9875   연도미상 김일성종합대 프랑스어과 졸업               NaN        김일성종합대학교   \n",
       "9876        연도미상 김일성종합대학 졸업               NaN        김일성종합대학교   \n",
       "9877    연도미상 문평제련소 공장대학 야금과               NaN            공장대학   \n",
       "9878       연도미상 평양체신대학 전자공학               NaN         평양체신대학교   \n",
       "\n",
       "     CareerStartMonth EventType       JointAppointment Org1 Org2 Org3 Org4  \\\n",
       "0                 대학교        북한   1960_김일성종합대학교_대학교_북한  NaN  NaN  NaN  NaN   \n",
       "1                특수학교        북한  year_김일성고급당학교_특수학교_북한  NaN  NaN  NaN  NaN   \n",
       "2                 대학교        북한   1960_김일성종합대학교_대학교_북한  NaN  NaN  NaN  NaN   \n",
       "3                특수학교        북한  year_김일성고급당학교_특수학교_북한  NaN  NaN  NaN  NaN   \n",
       "4                 대학교        북한   1960_김일성종합대학교_대학교_북한  NaN  NaN  NaN  NaN   \n",
       "...               ...       ...                    ...  ...  ...  ...  ...   \n",
       "9874              대학교        북한    year_평양음악대학교_대학교_북한  NaN  NaN  NaN  NaN   \n",
       "9875              대학교        북한   year_김일성종합대학교_대학교_북한  NaN  NaN  NaN  NaN   \n",
       "9876              대학교        북한   year_김일성종합대학교_대학교_북한  NaN  NaN  NaN  NaN   \n",
       "9877              대학교        북한       year_공장대학_대학교_북한  NaN  NaN  NaN  NaN   \n",
       "9878              대학교        북한    year_평양체신대학교_대학교_북한  NaN  NaN  NaN  NaN   \n",
       "\n",
       "     Org5 Position OrgLevel PositionLevel OrgPositionString  \n",
       "0     NaN      NaN      NaN           NaN               NaN  \n",
       "1     NaN      NaN      NaN           NaN               NaN  \n",
       "2     NaN      NaN      NaN           NaN               NaN  \n",
       "3     NaN      NaN      NaN           NaN               NaN  \n",
       "4     NaN      NaN      NaN           NaN               NaN  \n",
       "...   ...      ...      ...           ...               ...  \n",
       "9874  NaN      NaN      NaN           NaN               NaN  \n",
       "9875  NaN      NaN      NaN           NaN               NaN  \n",
       "9876  NaN      NaN      NaN           NaN               NaN  \n",
       "9877  NaN      NaN      NaN           NaN               NaN  \n",
       "9878  NaN      NaN      NaN           NaN               NaN  \n",
       "\n",
       "[9879 rows x 20 columns]"
      ]
     },
     "execution_count": 14,
     "metadata": {},
     "output_type": "execute_result"
    }
   ],
   "source": [
    "merged_career"
   ]
  },
  {
   "cell_type": "code",
   "execution_count": 15,
   "metadata": {},
   "outputs": [],
   "source": [
    "# career in 2015, but not 2022 - X rows\n",
    "# merged_education[merged_education.EducationDateString_2022.isnull() & merged_education.EducationString_2015.notnull()]"
   ]
  },
  {
   "cell_type": "code",
   "execution_count": 31,
   "metadata": {},
   "outputs": [],
   "source": [
    "# career in 2022, but not 2015 - X rows\n",
    "# merged_education[merged_education.EducationDateString_2022.notnull() & merged_education.EducationString_2015.isnull()]"
   ]
  },
  {
   "cell_type": "code",
   "execution_count": 33,
   "metadata": {},
   "outputs": [],
   "source": [
    "# career overlap in 2015 & 2022 - X rows\n",
    "# merged_education[merged_education.EducationDateString_2022.notnull() & merged_education.EducationString_2015.notnull()]"
   ]
  },
  {
   "cell_type": "code",
   "execution_count": 38,
   "metadata": {},
   "outputs": [],
   "source": [
    "# all null - X rows - can delete these\n",
    "# merged_education[merged_education.EducationDateString_2022.isnull() & merged_education.EducationString_2015.isnull()]"
   ]
  },
  {
   "cell_type": "markdown",
   "metadata": {},
   "source": [
    "# export combined education - to cleaning"
   ]
  },
  {
   "cell_type": "code",
   "execution_count": 17,
   "metadata": {},
   "outputs": [],
   "source": [
    "# export to combined education - to cleaning\n",
    "merged_career.to_excel(fileout_combined_career_cleaning,index=False)"
   ]
  },
  {
   "cell_type": "code",
   "execution_count": null,
   "metadata": {},
   "outputs": [],
   "source": []
  }
 ],
 "metadata": {
  "kernelspec": {
   "display_name": "Python 3",
   "language": "python",
   "name": "python3"
  },
  "language_info": {
   "codemirror_mode": {
    "name": "ipython",
    "version": 3
   },
   "file_extension": ".py",
   "mimetype": "text/x-python",
   "name": "python",
   "nbconvert_exporter": "python",
   "pygments_lexer": "ipython3",
   "version": "3.7.3"
  }
 },
 "nbformat": 4,
 "nbformat_minor": 4
}
