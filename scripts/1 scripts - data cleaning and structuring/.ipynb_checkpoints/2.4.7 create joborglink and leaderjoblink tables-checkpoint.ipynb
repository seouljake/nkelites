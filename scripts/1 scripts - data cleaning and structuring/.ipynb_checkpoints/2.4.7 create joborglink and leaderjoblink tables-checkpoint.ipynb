{
 "cells": [
  {
   "cell_type": "code",
   "execution_count": 167,
   "id": "74698cf3",
   "metadata": {},
   "outputs": [],
   "source": [
    "import pandas as pd\n",
    "import numpy as np"
   ]
  },
  {
   "cell_type": "markdown",
   "id": "aaf25c71",
   "metadata": {},
   "source": [
    "# path to nkelites/data/combined data/combined data - 2 tables"
   ]
  },
  {
   "cell_type": "code",
   "execution_count": 168,
   "id": "f2c9c339",
   "metadata": {},
   "outputs": [],
   "source": [
    "path_tables = \"C:/Users/seoul/Dropbox/00 technical/github/nkelites/data/combined data/combined data - 2 tables/\""
   ]
  },
  {
   "cell_type": "code",
   "execution_count": 169,
   "id": "09c3c30a",
   "metadata": {},
   "outputs": [],
   "source": [
    "filename_joborglink = \"joborglink.xlsx\""
   ]
  },
  {
   "cell_type": "code",
   "execution_count": 170,
   "id": "f86d0874",
   "metadata": {},
   "outputs": [],
   "source": [
    "filename_leaderjoblink = \"leaderjoblink.xlsx\""
   ]
  },
  {
   "cell_type": "markdown",
   "id": "ff933243",
   "metadata": {},
   "source": [
    "# joborglink paths & filenames"
   ]
  },
  {
   "cell_type": "code",
   "execution_count": 171,
   "id": "bdf97cc0",
   "metadata": {},
   "outputs": [],
   "source": [
    "path_joborglink = \"C:/Users/seoul/Dropbox/00 technical/github/nkelites/data/combined data/combined data - 1 cleaning/cleaning step 2 - career/2.3 joborglink/\""
   ]
  },
  {
   "cell_type": "code",
   "execution_count": 172,
   "id": "ccf64158",
   "metadata": {},
   "outputs": [],
   "source": [
    "filein_jol_7 = \"joborglink_7_2.xlsx\""
   ]
  },
  {
   "cell_type": "code",
   "execution_count": 173,
   "id": "f40a8b24",
   "metadata": {},
   "outputs": [],
   "source": [
    "jol7 = pd.read_excel(path_joborglink+filein_jol_7)"
   ]
  },
  {
   "cell_type": "code",
   "execution_count": 174,
   "id": "e6415ba1",
   "metadata": {},
   "outputs": [
    {
     "data": {
      "text/plain": [
       "Index(['OrgString', 'PrimaryInstitution', 'OrgName', 'Notes'], dtype='object')"
      ]
     },
     "execution_count": 174,
     "metadata": {},
     "output_type": "execute_result"
    }
   ],
   "source": [
    "jol7.columns"
   ]
  },
  {
   "cell_type": "code",
   "execution_count": 175,
   "id": "1ff031e8",
   "metadata": {},
   "outputs": [
    {
     "data": {
      "text/plain": [
       "(0, 4)"
      ]
     },
     "execution_count": 175,
     "metadata": {},
     "output_type": "execute_result"
    }
   ],
   "source": [
    "jol7[jol7.duplicated(\"OrgString\",keep=False)].shape"
   ]
  },
  {
   "cell_type": "code",
   "execution_count": 176,
   "id": "ddf444e0",
   "metadata": {},
   "outputs": [],
   "source": [
    "filein_jol_4 = \"joborglink_4.xlsx\""
   ]
  },
  {
   "cell_type": "code",
   "execution_count": 177,
   "id": "778283b2",
   "metadata": {},
   "outputs": [],
   "source": [
    "jol4 = pd.read_excel(path_joborglink+filein_jol_4)"
   ]
  },
  {
   "cell_type": "code",
   "execution_count": 178,
   "id": "f8362cde",
   "metadata": {},
   "outputs": [
    {
     "data": {
      "text/plain": [
       "Index(['CareerStringID', 'CareerString', 'CareerSubstring', 'CareerStartYear',\n",
       "       'CareerStartMonth', 'OrgString', 'PositionString', 'org_pos_str',\n",
       "       'NotJob', 'InsideGov', 'PrimaryInstitution'],\n",
       "      dtype='object')"
      ]
     },
     "execution_count": 178,
     "metadata": {},
     "output_type": "execute_result"
    }
   ],
   "source": [
    "jol4.columns"
   ]
  },
  {
   "cell_type": "code",
   "execution_count": 179,
   "id": "58a2b428",
   "metadata": {},
   "outputs": [],
   "source": [
    "columns_jol4 = ['CareerStringID', 'CareerString', 'CareerSubstring', 'CareerStartYear',\n",
    "       'CareerStartMonth', 'OrgString', 'PositionString']"
   ]
  },
  {
   "cell_type": "code",
   "execution_count": 180,
   "id": "ae5f7949",
   "metadata": {},
   "outputs": [],
   "source": [
    "jol4 = jol4[columns_jol4]"
   ]
  },
  {
   "cell_type": "code",
   "execution_count": 181,
   "id": "a843578d",
   "metadata": {},
   "outputs": [
    {
     "data": {
      "text/plain": [
       "(5247, 7)"
      ]
     },
     "execution_count": 181,
     "metadata": {},
     "output_type": "execute_result"
    }
   ],
   "source": [
    "jol4[jol4.duplicated(\"OrgString\",keep=False)].shape"
   ]
  },
  {
   "cell_type": "code",
   "execution_count": null,
   "id": "c0347bb6",
   "metadata": {},
   "outputs": [],
   "source": []
  },
  {
   "cell_type": "code",
   "execution_count": 182,
   "id": "261575a3",
   "metadata": {},
   "outputs": [],
   "source": [
    "filein_jol413 = \"joborglink_4_1tocode_3_Jeongsu.xlsx\""
   ]
  },
  {
   "cell_type": "code",
   "execution_count": 183,
   "id": "4f9c38d3",
   "metadata": {},
   "outputs": [],
   "source": [
    "jol413 = pd.read_excel(path_joborglink+filein_jol413)"
   ]
  },
  {
   "cell_type": "markdown",
   "id": "fbee96b5",
   "metadata": {},
   "source": [
    "# merge jol7 and jol4 on OrgString"
   ]
  },
  {
   "cell_type": "code",
   "execution_count": 184,
   "id": "a664ba70",
   "metadata": {},
   "outputs": [],
   "source": [
    "jolmerge = jol4.merge(jol7,how=\"outer\",on=\"OrgString\",indicator=True,suffixes=[\"_4\",\"_7\"])"
   ]
  },
  {
   "cell_type": "code",
   "execution_count": 185,
   "id": "01bf6af0",
   "metadata": {},
   "outputs": [
    {
     "data": {
      "text/plain": [
       "(6598, 7)"
      ]
     },
     "execution_count": 185,
     "metadata": {},
     "output_type": "execute_result"
    }
   ],
   "source": [
    "jol4.shape"
   ]
  },
  {
   "cell_type": "code",
   "execution_count": 186,
   "id": "76a4852d",
   "metadata": {},
   "outputs": [
    {
     "data": {
      "text/plain": [
       "(6598, 11)"
      ]
     },
     "execution_count": 186,
     "metadata": {},
     "output_type": "execute_result"
    }
   ],
   "source": [
    "jolmerge.shape"
   ]
  },
  {
   "cell_type": "code",
   "execution_count": 187,
   "id": "46607fa9",
   "metadata": {},
   "outputs": [
    {
     "data": {
      "text/plain": [
       "(5019, 11)"
      ]
     },
     "execution_count": 187,
     "metadata": {},
     "output_type": "execute_result"
    }
   ],
   "source": [
    "jolmerge[jolmerge[\"_merge\"]==\"both\"].shape"
   ]
  },
  {
   "cell_type": "code",
   "execution_count": 188,
   "id": "9daff9d6",
   "metadata": {},
   "outputs": [
    {
     "data": {
      "text/plain": [
       "(1579, 11)"
      ]
     },
     "execution_count": 188,
     "metadata": {},
     "output_type": "execute_result"
    }
   ],
   "source": [
    "jolmerge[jolmerge[\"_merge\"]==\"left_only\"].shape"
   ]
  },
  {
   "cell_type": "code",
   "execution_count": 189,
   "id": "37d4c4fa",
   "metadata": {},
   "outputs": [
    {
     "data": {
      "text/plain": [
       "(0, 11)"
      ]
     },
     "execution_count": 189,
     "metadata": {},
     "output_type": "execute_result"
    }
   ],
   "source": [
    "jolmerge[jolmerge[\"_merge\"]==\"right_only\"].shape"
   ]
  },
  {
   "cell_type": "code",
   "execution_count": 190,
   "id": "38f251ed",
   "metadata": {},
   "outputs": [],
   "source": [
    "# check out OrgString only in jol7"
   ]
  },
  {
   "cell_type": "code",
   "execution_count": 191,
   "id": "0e71d749",
   "metadata": {},
   "outputs": [],
   "source": [
    "# jol4[jol4[\"OrgString\"].isin([\"반항공군사령부\"])]"
   ]
  },
  {
   "cell_type": "code",
   "execution_count": 192,
   "id": "21f0163e",
   "metadata": {
    "scrolled": true
   },
   "outputs": [
    {
     "data": {
      "text/html": [
       "<div>\n",
       "<style scoped>\n",
       "    .dataframe tbody tr th:only-of-type {\n",
       "        vertical-align: middle;\n",
       "    }\n",
       "\n",
       "    .dataframe tbody tr th {\n",
       "        vertical-align: top;\n",
       "    }\n",
       "\n",
       "    .dataframe thead th {\n",
       "        text-align: right;\n",
       "    }\n",
       "</style>\n",
       "<table border=\"1\" class=\"dataframe\">\n",
       "  <thead>\n",
       "    <tr style=\"text-align: right;\">\n",
       "      <th></th>\n",
       "      <th>CareerStringID</th>\n",
       "      <th>CareerString</th>\n",
       "      <th>CareerSubstring</th>\n",
       "      <th>CareerStartYear</th>\n",
       "      <th>CareerStartMonth</th>\n",
       "      <th>OrgString</th>\n",
       "      <th>PositionString</th>\n",
       "      <th>PrimaryInstitution</th>\n",
       "      <th>OrgName</th>\n",
       "      <th>Notes</th>\n",
       "      <th>_merge</th>\n",
       "    </tr>\n",
       "  </thead>\n",
       "  <tbody>\n",
       "  </tbody>\n",
       "</table>\n",
       "</div>"
      ],
      "text/plain": [
       "Empty DataFrame\n",
       "Columns: [CareerStringID, CareerString, CareerSubstring, CareerStartYear, CareerStartMonth, OrgString, PositionString, PrimaryInstitution, OrgName, Notes, _merge]\n",
       "Index: []"
      ]
     },
     "execution_count": 192,
     "metadata": {},
     "output_type": "execute_result"
    }
   ],
   "source": [
    "jolmerge[jolmerge[\"_merge\"]==\"right_only\"]"
   ]
  },
  {
   "cell_type": "markdown",
   "id": "b23e468d",
   "metadata": {},
   "source": [
    "# troubleshoot OrgString only in jol4"
   ]
  },
  {
   "cell_type": "code",
   "execution_count": 193,
   "id": "2da5c70a",
   "metadata": {},
   "outputs": [
    {
     "data": {
      "text/html": [
       "<div>\n",
       "<style scoped>\n",
       "    .dataframe tbody tr th:only-of-type {\n",
       "        vertical-align: middle;\n",
       "    }\n",
       "\n",
       "    .dataframe tbody tr th {\n",
       "        vertical-align: top;\n",
       "    }\n",
       "\n",
       "    .dataframe thead th {\n",
       "        text-align: right;\n",
       "    }\n",
       "</style>\n",
       "<table border=\"1\" class=\"dataframe\">\n",
       "  <thead>\n",
       "    <tr style=\"text-align: right;\">\n",
       "      <th></th>\n",
       "      <th>CareerStringID</th>\n",
       "      <th>CareerString</th>\n",
       "      <th>CareerSubstring</th>\n",
       "      <th>CareerStartYear</th>\n",
       "      <th>CareerStartMonth</th>\n",
       "      <th>OrgString</th>\n",
       "      <th>PositionString</th>\n",
       "      <th>PrimaryInstitution</th>\n",
       "      <th>OrgName</th>\n",
       "      <th>Notes</th>\n",
       "      <th>_merge</th>\n",
       "    </tr>\n",
       "  </thead>\n",
       "  <tbody>\n",
       "    <tr>\n",
       "      <th>0</th>\n",
       "      <td>1.0</td>\n",
       "      <td>개성공단 남북공동위원회 통행통신통관 분과위원회</td>\n",
       "      <td>NaN</td>\n",
       "      <td>2013</td>\n",
       "      <td>9.0</td>\n",
       "      <td>개성공단 남북공동위원회 통행통신통관 분과위원회</td>\n",
       "      <td>NaN</td>\n",
       "      <td>NaN</td>\n",
       "      <td>NaN</td>\n",
       "      <td>NaN</td>\n",
       "      <td>left_only</td>\n",
       "    </tr>\n",
       "    <tr>\n",
       "      <th>1</th>\n",
       "      <td>2.0</td>\n",
       "      <td>근로단체부장 해임 * 후임: 리일환</td>\n",
       "      <td>NaN</td>\n",
       "      <td>2014</td>\n",
       "      <td>NaN</td>\n",
       "      <td>근로단체</td>\n",
       "      <td>부장</td>\n",
       "      <td>NaN</td>\n",
       "      <td>NaN</td>\n",
       "      <td>NaN</td>\n",
       "      <td>left_only</td>\n",
       "    </tr>\n",
       "    <tr>\n",
       "      <th>12</th>\n",
       "      <td>16.0</td>\n",
       "      <td>제4·5·6·7차 남북장성급 군사회담 북측대표</td>\n",
       "      <td>NaN</td>\n",
       "      <td>2006</td>\n",
       "      <td>5.0</td>\n",
       "      <td>제4·5·6·7차 남북장성급 군사회담</td>\n",
       "      <td>북측대표</td>\n",
       "      <td>NaN</td>\n",
       "      <td>NaN</td>\n",
       "      <td>NaN</td>\n",
       "      <td>left_only</td>\n",
       "    </tr>\n",
       "    <tr>\n",
       "      <th>13</th>\n",
       "      <td>19.0</td>\n",
       "      <td>최고인민회의 제13기 대의원</td>\n",
       "      <td>NaN</td>\n",
       "      <td>2014</td>\n",
       "      <td>3.0</td>\n",
       "      <td>최고인민회의 제13기</td>\n",
       "      <td>대의원</td>\n",
       "      <td>NaN</td>\n",
       "      <td>NaN</td>\n",
       "      <td>NaN</td>\n",
       "      <td>left_only</td>\n",
       "    </tr>\n",
       "    <tr>\n",
       "      <th>14</th>\n",
       "      <td>20.0</td>\n",
       "      <td>최고인민회의 제14기 대의원</td>\n",
       "      <td>NaN</td>\n",
       "      <td>2019</td>\n",
       "      <td>NaN</td>\n",
       "      <td>최고인민회의 제14기</td>\n",
       "      <td>대의원</td>\n",
       "      <td>NaN</td>\n",
       "      <td>NaN</td>\n",
       "      <td>NaN</td>\n",
       "      <td>left_only</td>\n",
       "    </tr>\n",
       "    <tr>\n",
       "      <th>...</th>\n",
       "      <td>...</td>\n",
       "      <td>...</td>\n",
       "      <td>...</td>\n",
       "      <td>...</td>\n",
       "      <td>...</td>\n",
       "      <td>...</td>\n",
       "      <td>...</td>\n",
       "      <td>...</td>\n",
       "      <td>...</td>\n",
       "      <td>...</td>\n",
       "      <td>...</td>\n",
       "    </tr>\n",
       "    <tr>\n",
       "      <th>6587</th>\n",
       "      <td>8022.0</td>\n",
       "      <td>훈련소 졸업후 원산기지 해군함정 부중대장 임관</td>\n",
       "      <td>NaN</td>\n",
       "      <td>1948</td>\n",
       "      <td>NaN</td>\n",
       "      <td>훈련소 졸업후 원산기지 해군함정</td>\n",
       "      <td>부중대장</td>\n",
       "      <td>NaN</td>\n",
       "      <td>NaN</td>\n",
       "      <td>NaN</td>\n",
       "      <td>left_only</td>\n",
       "    </tr>\n",
       "    <tr>\n",
       "      <th>6588</th>\n",
       "      <td>8024.0</td>\n",
       "      <td>흥남가스화건설장 함경남도지구계획위원회 위원장</td>\n",
       "      <td>NaN</td>\n",
       "      <td>NaN</td>\n",
       "      <td>NaN</td>\n",
       "      <td>흥남가스화건설장 함경남도지구계획위원회</td>\n",
       "      <td>위원장</td>\n",
       "      <td>NaN</td>\n",
       "      <td>NaN</td>\n",
       "      <td>NaN</td>\n",
       "      <td>left_only</td>\n",
       "    </tr>\n",
       "    <tr>\n",
       "      <th>6591</th>\n",
       "      <td>8038.0</td>\n",
       "      <td>｢근로자｣사 부주필</td>\n",
       "      <td>NaN</td>\n",
       "      <td>1972</td>\n",
       "      <td>4.0</td>\n",
       "      <td>｢근로자｣사</td>\n",
       "      <td>부주필</td>\n",
       "      <td>NaN</td>\n",
       "      <td>NaN</td>\n",
       "      <td>NaN</td>\n",
       "      <td>left_only</td>\n",
       "    </tr>\n",
       "    <tr>\n",
       "      <th>6592</th>\n",
       "      <td>8039.0</td>\n",
       "      <td>｢근로자｣사 책임주필</td>\n",
       "      <td>NaN</td>\n",
       "      <td>1974</td>\n",
       "      <td>12.0</td>\n",
       "      <td>｢근로자｣사</td>\n",
       "      <td>책임주필</td>\n",
       "      <td>NaN</td>\n",
       "      <td>NaN</td>\n",
       "      <td>NaN</td>\n",
       "      <td>left_only</td>\n",
       "    </tr>\n",
       "    <tr>\n",
       "      <th>6594</th>\n",
       "      <td>8041.0</td>\n",
       "      <td>｢민주조선｣ 책임주필</td>\n",
       "      <td>NaN</td>\n",
       "      <td>1986</td>\n",
       "      <td>3.0</td>\n",
       "      <td>｢민주조선｣</td>\n",
       "      <td>책임주필</td>\n",
       "      <td>NaN</td>\n",
       "      <td>NaN</td>\n",
       "      <td>NaN</td>\n",
       "      <td>left_only</td>\n",
       "    </tr>\n",
       "  </tbody>\n",
       "</table>\n",
       "<p>1579 rows × 11 columns</p>\n",
       "</div>"
      ],
      "text/plain": [
       "      CareerStringID                CareerString CareerSubstring  \\\n",
       "0                1.0   개성공단 남북공동위원회 통행통신통관 분과위원회             NaN   \n",
       "1                2.0         근로단체부장 해임 * 후임: 리일환             NaN   \n",
       "12              16.0   제4·5·6·7차 남북장성급 군사회담 북측대표             NaN   \n",
       "13              19.0             최고인민회의 제13기 대의원             NaN   \n",
       "14              20.0             최고인민회의 제14기 대의원             NaN   \n",
       "...              ...                         ...             ...   \n",
       "6587          8022.0   훈련소 졸업후 원산기지 해군함정 부중대장 임관             NaN   \n",
       "6588          8024.0    흥남가스화건설장 함경남도지구계획위원회 위원장             NaN   \n",
       "6591          8038.0                  ｢근로자｣사 부주필             NaN   \n",
       "6592          8039.0                 ｢근로자｣사 책임주필             NaN   \n",
       "6594          8041.0                 ｢민주조선｣ 책임주필             NaN   \n",
       "\n",
       "     CareerStartYear  CareerStartMonth                  OrgString  \\\n",
       "0               2013               9.0  개성공단 남북공동위원회 통행통신통관 분과위원회   \n",
       "1               2014               NaN                       근로단체   \n",
       "12              2006               5.0       제4·5·6·7차 남북장성급 군사회담   \n",
       "13              2014               3.0                최고인민회의 제13기   \n",
       "14              2019               NaN                최고인민회의 제14기   \n",
       "...              ...               ...                        ...   \n",
       "6587            1948               NaN          훈련소 졸업후 원산기지 해군함정   \n",
       "6588             NaN               NaN      흥남가스화건설장 함경남도지구계획위원회    \n",
       "6591            1972               4.0                    ｢근로자｣사    \n",
       "6592            1974              12.0                    ｢근로자｣사    \n",
       "6594            1986               3.0                    ｢민주조선｣    \n",
       "\n",
       "     PositionString PrimaryInstitution OrgName Notes     _merge  \n",
       "0               NaN                NaN     NaN   NaN  left_only  \n",
       "1                부장                NaN     NaN   NaN  left_only  \n",
       "12             북측대표                NaN     NaN   NaN  left_only  \n",
       "13              대의원                NaN     NaN   NaN  left_only  \n",
       "14              대의원                NaN     NaN   NaN  left_only  \n",
       "...             ...                ...     ...   ...        ...  \n",
       "6587           부중대장                NaN     NaN   NaN  left_only  \n",
       "6588            위원장                NaN     NaN   NaN  left_only  \n",
       "6591            부주필                NaN     NaN   NaN  left_only  \n",
       "6592           책임주필                NaN     NaN   NaN  left_only  \n",
       "6594           책임주필                NaN     NaN   NaN  left_only  \n",
       "\n",
       "[1579 rows x 11 columns]"
      ]
     },
     "execution_count": 193,
     "metadata": {},
     "output_type": "execute_result"
    }
   ],
   "source": [
    "jolmerge[jolmerge[\"_merge\"]==\"left_only\"]"
   ]
  },
  {
   "cell_type": "markdown",
   "id": "9092effc",
   "metadata": {},
   "source": [
    "### Check that jol4_only are all NotFound - merge jol7, jol4 and joborglink_4_1tocode_3_Jeongsu on OrgString"
   ]
  },
  {
   "cell_type": "code",
   "execution_count": 194,
   "id": "b34443a2",
   "metadata": {},
   "outputs": [],
   "source": [
    "jolmerge.rename(columns={\"_merge\":\"_merge47\"},inplace=True)"
   ]
  },
  {
   "cell_type": "code",
   "execution_count": 195,
   "id": "5d206ed3",
   "metadata": {},
   "outputs": [
    {
     "data": {
      "text/plain": [
       "Index(['CareerStringID', 'CareerString', 'CareerSubstring', 'CareerStartYear',\n",
       "       'CareerStartMonth', 'OrgString', 'PositionString', 'PrimaryInstitution',\n",
       "       'OrgName', 'Notes', '_merge47'],\n",
       "      dtype='object')"
      ]
     },
     "execution_count": 195,
     "metadata": {},
     "output_type": "execute_result"
    }
   ],
   "source": [
    "jolmerge.columns"
   ]
  },
  {
   "cell_type": "code",
   "execution_count": 196,
   "id": "0e9596b0",
   "metadata": {},
   "outputs": [],
   "source": [
    "jolmerge413 = jolmerge.merge(jol413,how=\"left\",on=\"OrgString\",suffixes=[\"\",\"_413\"],indicator=True)"
   ]
  },
  {
   "cell_type": "code",
   "execution_count": 197,
   "id": "06dd90f7",
   "metadata": {},
   "outputs": [
    {
     "data": {
      "text/plain": [
       "(219296, 16)"
      ]
     },
     "execution_count": 197,
     "metadata": {},
     "output_type": "execute_result"
    }
   ],
   "source": [
    "# in jol4 & jol7\n",
    "jolmerge413[jolmerge413[\"_merge47\"]==\"both\"].shape"
   ]
  },
  {
   "cell_type": "code",
   "execution_count": 198,
   "id": "9b28a17f",
   "metadata": {},
   "outputs": [
    {
     "data": {
      "text/plain": [
       "(5730, 16)"
      ]
     },
     "execution_count": 198,
     "metadata": {},
     "output_type": "execute_result"
    }
   ],
   "source": [
    "# only in jol4\n",
    "jolmerge413[jolmerge413[\"_merge47\"]==\"left_only\"].shape"
   ]
  },
  {
   "cell_type": "code",
   "execution_count": 199,
   "id": "1cfa40a5",
   "metadata": {},
   "outputs": [
    {
     "data": {
      "text/html": [
       "<div>\n",
       "<style scoped>\n",
       "    .dataframe tbody tr th:only-of-type {\n",
       "        vertical-align: middle;\n",
       "    }\n",
       "\n",
       "    .dataframe tbody tr th {\n",
       "        vertical-align: top;\n",
       "    }\n",
       "\n",
       "    .dataframe thead th {\n",
       "        text-align: right;\n",
       "    }\n",
       "</style>\n",
       "<table border=\"1\" class=\"dataframe\">\n",
       "  <thead>\n",
       "    <tr style=\"text-align: right;\">\n",
       "      <th></th>\n",
       "      <th>CareerStringID</th>\n",
       "      <th>CareerString</th>\n",
       "      <th>CareerSubstring</th>\n",
       "      <th>CareerStartYear</th>\n",
       "      <th>CareerStartMonth</th>\n",
       "      <th>OrgString</th>\n",
       "      <th>PositionString</th>\n",
       "      <th>PrimaryInstitution</th>\n",
       "      <th>OrgName</th>\n",
       "      <th>Notes</th>\n",
       "      <th>_merge47</th>\n",
       "      <th>PrimaryInstitution_413</th>\n",
       "      <th>OrgName_413</th>\n",
       "      <th>Notes_413</th>\n",
       "      <th>InOrgTree</th>\n",
       "      <th>_merge</th>\n",
       "    </tr>\n",
       "  </thead>\n",
       "  <tbody>\n",
       "    <tr>\n",
       "      <th>0</th>\n",
       "      <td>1.0</td>\n",
       "      <td>개성공단 남북공동위원회 통행통신통관 분과위원회</td>\n",
       "      <td>NaN</td>\n",
       "      <td>2013</td>\n",
       "      <td>9.0</td>\n",
       "      <td>개성공단 남북공동위원회 통행통신통관 분과위원회</td>\n",
       "      <td>NaN</td>\n",
       "      <td>NaN</td>\n",
       "      <td>NaN</td>\n",
       "      <td>NaN</td>\n",
       "      <td>left_only</td>\n",
       "      <td>NaN</td>\n",
       "      <td>NaN</td>\n",
       "      <td>Not found</td>\n",
       "      <td>False</td>\n",
       "      <td>both</td>\n",
       "    </tr>\n",
       "    <tr>\n",
       "      <th>1</th>\n",
       "      <td>2.0</td>\n",
       "      <td>근로단체부장 해임 * 후임: 리일환</td>\n",
       "      <td>NaN</td>\n",
       "      <td>2014</td>\n",
       "      <td>NaN</td>\n",
       "      <td>근로단체</td>\n",
       "      <td>부장</td>\n",
       "      <td>NaN</td>\n",
       "      <td>NaN</td>\n",
       "      <td>NaN</td>\n",
       "      <td>left_only</td>\n",
       "      <td>NaN</td>\n",
       "      <td>NaN</td>\n",
       "      <td>Not found</td>\n",
       "      <td>False</td>\n",
       "      <td>both</td>\n",
       "    </tr>\n",
       "    <tr>\n",
       "      <th>46</th>\n",
       "      <td>16.0</td>\n",
       "      <td>제4·5·6·7차 남북장성급 군사회담 북측대표</td>\n",
       "      <td>NaN</td>\n",
       "      <td>2006</td>\n",
       "      <td>5.0</td>\n",
       "      <td>제4·5·6·7차 남북장성급 군사회담</td>\n",
       "      <td>북측대표</td>\n",
       "      <td>NaN</td>\n",
       "      <td>NaN</td>\n",
       "      <td>NaN</td>\n",
       "      <td>left_only</td>\n",
       "      <td>NaN</td>\n",
       "      <td>NaN</td>\n",
       "      <td>NaN</td>\n",
       "      <td>NaN</td>\n",
       "      <td>left_only</td>\n",
       "    </tr>\n",
       "    <tr>\n",
       "      <th>47</th>\n",
       "      <td>19.0</td>\n",
       "      <td>최고인민회의 제13기 대의원</td>\n",
       "      <td>NaN</td>\n",
       "      <td>2014</td>\n",
       "      <td>3.0</td>\n",
       "      <td>최고인민회의 제13기</td>\n",
       "      <td>대의원</td>\n",
       "      <td>NaN</td>\n",
       "      <td>NaN</td>\n",
       "      <td>NaN</td>\n",
       "      <td>left_only</td>\n",
       "      <td>최고인민회의</td>\n",
       "      <td>NaN</td>\n",
       "      <td>NaN</td>\n",
       "      <td>False</td>\n",
       "      <td>both</td>\n",
       "    </tr>\n",
       "    <tr>\n",
       "      <th>48</th>\n",
       "      <td>20.0</td>\n",
       "      <td>최고인민회의 제14기 대의원</td>\n",
       "      <td>NaN</td>\n",
       "      <td>2019</td>\n",
       "      <td>NaN</td>\n",
       "      <td>최고인민회의 제14기</td>\n",
       "      <td>대의원</td>\n",
       "      <td>NaN</td>\n",
       "      <td>NaN</td>\n",
       "      <td>NaN</td>\n",
       "      <td>left_only</td>\n",
       "      <td>최고인민회의</td>\n",
       "      <td>NaN</td>\n",
       "      <td>NaN</td>\n",
       "      <td>False</td>\n",
       "      <td>both</td>\n",
       "    </tr>\n",
       "    <tr>\n",
       "      <th>...</th>\n",
       "      <td>...</td>\n",
       "      <td>...</td>\n",
       "      <td>...</td>\n",
       "      <td>...</td>\n",
       "      <td>...</td>\n",
       "      <td>...</td>\n",
       "      <td>...</td>\n",
       "      <td>...</td>\n",
       "      <td>...</td>\n",
       "      <td>...</td>\n",
       "      <td>...</td>\n",
       "      <td>...</td>\n",
       "      <td>...</td>\n",
       "      <td>...</td>\n",
       "      <td>...</td>\n",
       "      <td>...</td>\n",
       "    </tr>\n",
       "    <tr>\n",
       "      <th>225015</th>\n",
       "      <td>8022.0</td>\n",
       "      <td>훈련소 졸업후 원산기지 해군함정 부중대장 임관</td>\n",
       "      <td>NaN</td>\n",
       "      <td>1948</td>\n",
       "      <td>NaN</td>\n",
       "      <td>훈련소 졸업후 원산기지 해군함정</td>\n",
       "      <td>부중대장</td>\n",
       "      <td>NaN</td>\n",
       "      <td>NaN</td>\n",
       "      <td>NaN</td>\n",
       "      <td>left_only</td>\n",
       "      <td>NaN</td>\n",
       "      <td>NaN</td>\n",
       "      <td>position</td>\n",
       "      <td>False</td>\n",
       "      <td>both</td>\n",
       "    </tr>\n",
       "    <tr>\n",
       "      <th>225016</th>\n",
       "      <td>8024.0</td>\n",
       "      <td>흥남가스화건설장 함경남도지구계획위원회 위원장</td>\n",
       "      <td>NaN</td>\n",
       "      <td>NaN</td>\n",
       "      <td>NaN</td>\n",
       "      <td>흥남가스화건설장 함경남도지구계획위원회</td>\n",
       "      <td>위원장</td>\n",
       "      <td>NaN</td>\n",
       "      <td>NaN</td>\n",
       "      <td>NaN</td>\n",
       "      <td>left_only</td>\n",
       "      <td>NaN</td>\n",
       "      <td>NaN</td>\n",
       "      <td>Not found</td>\n",
       "      <td>False</td>\n",
       "      <td>both</td>\n",
       "    </tr>\n",
       "    <tr>\n",
       "      <th>225019</th>\n",
       "      <td>8038.0</td>\n",
       "      <td>｢근로자｣사 부주필</td>\n",
       "      <td>NaN</td>\n",
       "      <td>1972</td>\n",
       "      <td>4.0</td>\n",
       "      <td>｢근로자｣사</td>\n",
       "      <td>부주필</td>\n",
       "      <td>NaN</td>\n",
       "      <td>NaN</td>\n",
       "      <td>NaN</td>\n",
       "      <td>left_only</td>\n",
       "      <td>NaN</td>\n",
       "      <td>NaN</td>\n",
       "      <td>NaN</td>\n",
       "      <td>NaN</td>\n",
       "      <td>left_only</td>\n",
       "    </tr>\n",
       "    <tr>\n",
       "      <th>225020</th>\n",
       "      <td>8039.0</td>\n",
       "      <td>｢근로자｣사 책임주필</td>\n",
       "      <td>NaN</td>\n",
       "      <td>1974</td>\n",
       "      <td>12.0</td>\n",
       "      <td>｢근로자｣사</td>\n",
       "      <td>책임주필</td>\n",
       "      <td>NaN</td>\n",
       "      <td>NaN</td>\n",
       "      <td>NaN</td>\n",
       "      <td>left_only</td>\n",
       "      <td>NaN</td>\n",
       "      <td>NaN</td>\n",
       "      <td>NaN</td>\n",
       "      <td>NaN</td>\n",
       "      <td>left_only</td>\n",
       "    </tr>\n",
       "    <tr>\n",
       "      <th>225022</th>\n",
       "      <td>8041.0</td>\n",
       "      <td>｢민주조선｣ 책임주필</td>\n",
       "      <td>NaN</td>\n",
       "      <td>1986</td>\n",
       "      <td>3.0</td>\n",
       "      <td>｢민주조선｣</td>\n",
       "      <td>책임주필</td>\n",
       "      <td>NaN</td>\n",
       "      <td>NaN</td>\n",
       "      <td>NaN</td>\n",
       "      <td>left_only</td>\n",
       "      <td>NaN</td>\n",
       "      <td>NaN</td>\n",
       "      <td>NaN</td>\n",
       "      <td>NaN</td>\n",
       "      <td>left_only</td>\n",
       "    </tr>\n",
       "  </tbody>\n",
       "</table>\n",
       "<p>5730 rows × 16 columns</p>\n",
       "</div>"
      ],
      "text/plain": [
       "        CareerStringID                CareerString CareerSubstring  \\\n",
       "0                  1.0   개성공단 남북공동위원회 통행통신통관 분과위원회             NaN   \n",
       "1                  2.0         근로단체부장 해임 * 후임: 리일환             NaN   \n",
       "46                16.0   제4·5·6·7차 남북장성급 군사회담 북측대표             NaN   \n",
       "47                19.0             최고인민회의 제13기 대의원             NaN   \n",
       "48                20.0             최고인민회의 제14기 대의원             NaN   \n",
       "...                ...                         ...             ...   \n",
       "225015          8022.0   훈련소 졸업후 원산기지 해군함정 부중대장 임관             NaN   \n",
       "225016          8024.0    흥남가스화건설장 함경남도지구계획위원회 위원장             NaN   \n",
       "225019          8038.0                  ｢근로자｣사 부주필             NaN   \n",
       "225020          8039.0                 ｢근로자｣사 책임주필             NaN   \n",
       "225022          8041.0                 ｢민주조선｣ 책임주필             NaN   \n",
       "\n",
       "       CareerStartYear  CareerStartMonth                  OrgString  \\\n",
       "0                 2013               9.0  개성공단 남북공동위원회 통행통신통관 분과위원회   \n",
       "1                 2014               NaN                       근로단체   \n",
       "46                2006               5.0       제4·5·6·7차 남북장성급 군사회담   \n",
       "47                2014               3.0                최고인민회의 제13기   \n",
       "48                2019               NaN                최고인민회의 제14기   \n",
       "...                ...               ...                        ...   \n",
       "225015            1948               NaN          훈련소 졸업후 원산기지 해군함정   \n",
       "225016             NaN               NaN      흥남가스화건설장 함경남도지구계획위원회    \n",
       "225019            1972               4.0                    ｢근로자｣사    \n",
       "225020            1974              12.0                    ｢근로자｣사    \n",
       "225022            1986               3.0                    ｢민주조선｣    \n",
       "\n",
       "       PositionString PrimaryInstitution OrgName Notes   _merge47  \\\n",
       "0                 NaN                NaN     NaN   NaN  left_only   \n",
       "1                  부장                NaN     NaN   NaN  left_only   \n",
       "46               북측대표                NaN     NaN   NaN  left_only   \n",
       "47                대의원                NaN     NaN   NaN  left_only   \n",
       "48                대의원                NaN     NaN   NaN  left_only   \n",
       "...               ...                ...     ...   ...        ...   \n",
       "225015           부중대장                NaN     NaN   NaN  left_only   \n",
       "225016            위원장                NaN     NaN   NaN  left_only   \n",
       "225019            부주필                NaN     NaN   NaN  left_only   \n",
       "225020           책임주필                NaN     NaN   NaN  left_only   \n",
       "225022           책임주필                NaN     NaN   NaN  left_only   \n",
       "\n",
       "       PrimaryInstitution_413 OrgName_413  Notes_413 InOrgTree     _merge  \n",
       "0                         NaN         NaN  Not found     False       both  \n",
       "1                         NaN         NaN  Not found     False       both  \n",
       "46                        NaN         NaN        NaN       NaN  left_only  \n",
       "47                     최고인민회의         NaN        NaN     False       both  \n",
       "48                     최고인민회의         NaN        NaN     False       both  \n",
       "...                       ...         ...        ...       ...        ...  \n",
       "225015                    NaN         NaN   position     False       both  \n",
       "225016                    NaN         NaN  Not found     False       both  \n",
       "225019                    NaN         NaN        NaN       NaN  left_only  \n",
       "225020                    NaN         NaN        NaN       NaN  left_only  \n",
       "225022                    NaN         NaN        NaN       NaN  left_only  \n",
       "\n",
       "[5730 rows x 16 columns]"
      ]
     },
     "execution_count": 199,
     "metadata": {},
     "output_type": "execute_result"
    }
   ],
   "source": [
    "jolmerge413[jolmerge413[\"_merge47\"]==\"left_only\"]"
   ]
  },
  {
   "cell_type": "code",
   "execution_count": 201,
   "id": "7d7c566f",
   "metadata": {},
   "outputs": [
    {
     "data": {
      "text/plain": [
       "(0, 16)"
      ]
     },
     "execution_count": 201,
     "metadata": {},
     "output_type": "execute_result"
    }
   ],
   "source": [
    "# in jol7 but not jol4\n",
    "jolmerge413[jolmerge413[\"_merge47\"]==\"right_only\"].shape"
   ]
  },
  {
   "cell_type": "code",
   "execution_count": 202,
   "id": "675987a0",
   "metadata": {},
   "outputs": [
    {
     "data": {
      "text/plain": [
       "Index(['CareerStringID', 'CareerString', 'CareerSubstring', 'CareerStartYear',\n",
       "       'CareerStartMonth', 'OrgString', 'PositionString', 'PrimaryInstitution',\n",
       "       'OrgName', 'Notes', '_merge47', 'PrimaryInstitution_413', 'OrgName_413',\n",
       "       'Notes_413', 'InOrgTree', '_merge'],\n",
       "      dtype='object')"
      ]
     },
     "execution_count": 202,
     "metadata": {},
     "output_type": "execute_result"
    }
   ],
   "source": [
    "jolmerge413.columns"
   ]
  },
  {
   "cell_type": "code",
   "execution_count": 203,
   "id": "2c35d49d",
   "metadata": {},
   "outputs": [
    {
     "data": {
      "text/plain": [
       "(219296, 16)"
      ]
     },
     "execution_count": 203,
     "metadata": {},
     "output_type": "execute_result"
    }
   ],
   "source": [
    "jolmerge413[jolmerge413[\"_merge47\"]==\"both\"].shape"
   ]
  },
  {
   "cell_type": "code",
   "execution_count": 204,
   "id": "ebbc1c4c",
   "metadata": {},
   "outputs": [
    {
     "data": {
      "text/plain": [
       "(6598, 11)"
      ]
     },
     "execution_count": 204,
     "metadata": {},
     "output_type": "execute_result"
    }
   ],
   "source": [
    "jolmerge.shape"
   ]
  },
  {
   "cell_type": "code",
   "execution_count": 205,
   "id": "64e2a71f",
   "metadata": {},
   "outputs": [
    {
     "data": {
      "text/plain": [
       "(6505, 7)"
      ]
     },
     "execution_count": 205,
     "metadata": {},
     "output_type": "execute_result"
    }
   ],
   "source": [
    "jol4[~jol4[\"OrgString\"].isna()].shape"
   ]
  },
  {
   "cell_type": "code",
   "execution_count": 206,
   "id": "feea0b48",
   "metadata": {},
   "outputs": [
    {
     "data": {
      "text/html": [
       "<div>\n",
       "<style scoped>\n",
       "    .dataframe tbody tr th:only-of-type {\n",
       "        vertical-align: middle;\n",
       "    }\n",
       "\n",
       "    .dataframe tbody tr th {\n",
       "        vertical-align: top;\n",
       "    }\n",
       "\n",
       "    .dataframe thead th {\n",
       "        text-align: right;\n",
       "    }\n",
       "</style>\n",
       "<table border=\"1\" class=\"dataframe\">\n",
       "  <thead>\n",
       "    <tr style=\"text-align: right;\">\n",
       "      <th></th>\n",
       "      <th>OrgString</th>\n",
       "    </tr>\n",
       "    <tr>\n",
       "      <th>Notes_413</th>\n",
       "      <th></th>\n",
       "    </tr>\n",
       "  </thead>\n",
       "  <tbody>\n",
       "    <tr>\n",
       "      <th>청소년 및 3대혁명소조 사업부</th>\n",
       "      <td>1</td>\n",
       "    </tr>\n",
       "    <tr>\n",
       "      <th>820훈련소 Not found</th>\n",
       "      <td>2</td>\n",
       "    </tr>\n",
       "    <tr>\n",
       "      <th>Ceremony</th>\n",
       "      <td>1</td>\n",
       "    </tr>\n",
       "    <tr>\n",
       "      <th>Missing letter</th>\n",
       "      <td>1</td>\n",
       "    </tr>\n",
       "    <tr>\n",
       "      <th>Missing words</th>\n",
       "      <td>1</td>\n",
       "    </tr>\n",
       "    <tr>\n",
       "      <th>Not found</th>\n",
       "      <td>611</td>\n",
       "    </tr>\n",
       "    <tr>\n",
       "      <th>Not found, only 중앙인민위원회,  당소속인지 정권기관인지 확실치 않음</th>\n",
       "      <td>4</td>\n",
       "    </tr>\n",
       "    <tr>\n",
       "      <th>Not found, 청소년 및 3대혁명소조 사업부</th>\n",
       "      <td>1</td>\n",
       "    </tr>\n",
       "    <tr>\n",
       "      <th>Not ofund</th>\n",
       "      <td>2</td>\n",
       "    </tr>\n",
       "    <tr>\n",
       "      <th>Not org</th>\n",
       "      <td>4</td>\n",
       "    </tr>\n",
       "    <tr>\n",
       "      <th>Typo</th>\n",
       "      <td>2</td>\n",
       "    </tr>\n",
       "    <tr>\n",
       "      <th>missing letter</th>\n",
       "      <td>3</td>\n",
       "    </tr>\n",
       "    <tr>\n",
       "      <th>missing word</th>\n",
       "      <td>2</td>\n",
       "    </tr>\n",
       "    <tr>\n",
       "      <th>not org</th>\n",
       "      <td>4</td>\n",
       "    </tr>\n",
       "    <tr>\n",
       "      <th>position</th>\n",
       "      <td>2</td>\n",
       "    </tr>\n",
       "    <tr>\n",
       "      <th>typo</th>\n",
       "      <td>1</td>\n",
       "    </tr>\n",
       "    <tr>\n",
       "      <th>국가</th>\n",
       "      <td>3</td>\n",
       "    </tr>\n",
       "    <tr>\n",
       "      <th>국무위원회-국방성 산하</th>\n",
       "      <td>1</td>\n",
       "    </tr>\n",
       "    <tr>\n",
       "      <th>국제국 Not found</th>\n",
       "      <td>2</td>\n",
       "    </tr>\n",
       "    <tr>\n",
       "      <th>기계화군단-&gt;기계화보병사단</th>\n",
       "      <td>2</td>\n",
       "    </tr>\n",
       "    <tr>\n",
       "      <th>기관확인불가</th>\n",
       "      <td>1</td>\n",
       "    </tr>\n",
       "    <tr>\n",
       "      <th>내각 외무성 X국 산하</th>\n",
       "      <td>4</td>\n",
       "    </tr>\n",
       "    <tr>\n",
       "      <th>내각-육해운성-해운연합기업소</th>\n",
       "      <td>1</td>\n",
       "    </tr>\n",
       "    <tr>\n",
       "      <th>대외사업부 Not found</th>\n",
       "      <td>4</td>\n",
       "    </tr>\n",
       "    <tr>\n",
       "      <th>서기구 Not found</th>\n",
       "      <td>10</td>\n",
       "    </tr>\n",
       "    <tr>\n",
       "      <th>수송지휘국 Not found</th>\n",
       "      <td>1</td>\n",
       "    </tr>\n",
       "    <tr>\n",
       "      <th>순회</th>\n",
       "      <td>2</td>\n",
       "    </tr>\n",
       "    <tr>\n",
       "      <th>에술과 Not found</th>\n",
       "      <td>1</td>\n",
       "    </tr>\n",
       "    <tr>\n",
       "      <th>외무성-X국 산하</th>\n",
       "      <td>17</td>\n",
       "    </tr>\n",
       "    <tr>\n",
       "      <th>인민군-총참모부 산하</th>\n",
       "      <td>1</td>\n",
       "    </tr>\n",
       "    <tr>\n",
       "      <th>정치국 Not found</th>\n",
       "      <td>2</td>\n",
       "    </tr>\n",
       "    <tr>\n",
       "      <th>조선반핵평화위원회 Not found</th>\n",
       "      <td>4</td>\n",
       "    </tr>\n",
       "    <tr>\n",
       "      <th>조선불교도연맹-중앙위원회-묘향산보현사</th>\n",
       "      <td>1</td>\n",
       "    </tr>\n",
       "    <tr>\n",
       "      <th>조선올림픽위원회는 있음</th>\n",
       "      <td>1</td>\n",
       "    </tr>\n",
       "    <tr>\n",
       "      <th>조선작가동맹, 외국문학분과 Not found</th>\n",
       "      <td>1</td>\n",
       "    </tr>\n",
       "    <tr>\n",
       "      <th>중앙선거지도위원회</th>\n",
       "      <td>1</td>\n",
       "    </tr>\n",
       "    <tr>\n",
       "      <th>평안북도 인민위원회</th>\n",
       "      <td>3</td>\n",
       "    </tr>\n",
       "    <tr>\n",
       "      <th>평양건설위원회, 내각 산하</th>\n",
       "      <td>1</td>\n",
       "    </tr>\n",
       "    <tr>\n",
       "      <th>프랑스 대표부, UNESCO 없음</th>\n",
       "      <td>1</td>\n",
       "    </tr>\n",
       "    <tr>\n",
       "      <th>해운연합기업소</th>\n",
       "      <td>1</td>\n",
       "    </tr>\n",
       "  </tbody>\n",
       "</table>\n",
       "</div>"
      ],
      "text/plain": [
       "                                               OrgString\n",
       "Notes_413                                               \n",
       " 청소년 및 3대혁명소조 사업부                                      1\n",
       "820훈련소 Not found                                       2\n",
       "Ceremony                                               1\n",
       "Missing letter                                         1\n",
       "Missing words                                          1\n",
       "Not found                                            611\n",
       "Not found, only 중앙인민위원회,  당소속인지 정권기관인지 확실치 않음          4\n",
       "Not found, 청소년 및 3대혁명소조 사업부                            1\n",
       "Not ofund                                              2\n",
       "Not org                                                4\n",
       "Typo                                                   2\n",
       "missing letter                                         3\n",
       "missing word                                           2\n",
       "not org                                                4\n",
       "position                                               2\n",
       "typo                                                   1\n",
       "국가                                                     3\n",
       "국무위원회-국방성 산하                                           1\n",
       "국제국 Not found                                          2\n",
       "기계화군단->기계화보병사단                                         2\n",
       "기관확인불가                                                 1\n",
       "내각 외무성 X국 산하                                           4\n",
       "내각-육해운성-해운연합기업소                                        1\n",
       "대외사업부 Not found                                        4\n",
       "서기구 Not found                                         10\n",
       "수송지휘국 Not found                                        1\n",
       "순회                                                     2\n",
       "에술과 Not found                                          1\n",
       "외무성-X국 산하                                             17\n",
       "인민군-총참모부 산하                                            1\n",
       "정치국 Not found                                          2\n",
       "조선반핵평화위원회 Not found                                    4\n",
       "조선불교도연맹-중앙위원회-묘향산보현사                                   1\n",
       "조선올림픽위원회는 있음                                           1\n",
       "조선작가동맹, 외국문학분과 Not found                               1\n",
       "중앙선거지도위원회                                              1\n",
       "평안북도 인민위원회                                             3\n",
       "평양건설위원회, 내각 산하                                         1\n",
       "프랑스 대표부, UNESCO 없음                                     1\n",
       "해운연합기업소                                                1"
      ]
     },
     "execution_count": 206,
     "metadata": {},
     "output_type": "execute_result"
    }
   ],
   "source": [
    "# seems like at least half of these are not found\n",
    "jolmerge413.loc[jolmerge413[\"_merge47\"]==\"left_only\",[\"OrgString\",\"Notes_413\"]].groupby(\"Notes_413\").count()"
   ]
  },
  {
   "cell_type": "code",
   "execution_count": 207,
   "id": "65dd0b6a",
   "metadata": {},
   "outputs": [],
   "source": [
    "# At least half of the unmatched OrgString in jol4 are due to Not Found\n",
    "\n",
    "# I can explore these in more detail later\n",
    "\n",
    "# For now, good enough. I am moving on with the merge."
   ]
  },
  {
   "cell_type": "markdown",
   "id": "c9fbfc51",
   "metadata": {},
   "source": [
    "### clean up jol47\n",
    "\n",
    "### export to nkelites/data/combined data - 2 tables as joborglink"
   ]
  },
  {
   "cell_type": "code",
   "execution_count": 208,
   "id": "f47d3e1a",
   "metadata": {},
   "outputs": [
    {
     "data": {
      "text/plain": [
       "Index(['CareerStringID', 'CareerString', 'CareerSubstring', 'CareerStartYear',\n",
       "       'CareerStartMonth', 'OrgString', 'PositionString', 'PrimaryInstitution',\n",
       "       'OrgName', 'Notes', '_merge47'],\n",
       "      dtype='object')"
      ]
     },
     "execution_count": 208,
     "metadata": {},
     "output_type": "execute_result"
    }
   ],
   "source": [
    "jolmerge.columns"
   ]
  },
  {
   "cell_type": "code",
   "execution_count": 209,
   "id": "55428894",
   "metadata": {},
   "outputs": [
    {
     "data": {
      "text/plain": [
       "(5019, 11)"
      ]
     },
     "execution_count": 209,
     "metadata": {},
     "output_type": "execute_result"
    }
   ],
   "source": [
    "jolmerge[jolmerge[\"_merge47\"]==\"both\"].shape"
   ]
  },
  {
   "cell_type": "code",
   "execution_count": 210,
   "id": "32721e4b",
   "metadata": {},
   "outputs": [],
   "source": [
    "# select the matching records in jol4 & jol7\n",
    "jol47 = jolmerge[jolmerge[\"_merge47\"]==\"both\"]"
   ]
  },
  {
   "cell_type": "code",
   "execution_count": 211,
   "id": "73f5111a",
   "metadata": {},
   "outputs": [],
   "source": [
    "# drop the merge column\n",
    "jol47 = jol47.drop(columns=[\"_merge47\"])"
   ]
  },
  {
   "cell_type": "code",
   "execution_count": 212,
   "id": "4631a1ab",
   "metadata": {},
   "outputs": [
    {
     "data": {
      "text/plain": [
       "Index(['CareerStringID', 'CareerString', 'CareerSubstring', 'CareerStartYear',\n",
       "       'CareerStartMonth', 'OrgString', 'PositionString', 'PrimaryInstitution',\n",
       "       'OrgName', 'Notes'],\n",
       "      dtype='object')"
      ]
     },
     "execution_count": 212,
     "metadata": {},
     "output_type": "execute_result"
    }
   ],
   "source": [
    "jol47.columns"
   ]
  },
  {
   "cell_type": "code",
   "execution_count": 213,
   "id": "58eb1a83",
   "metadata": {},
   "outputs": [
    {
     "data": {
      "text/html": [
       "<div>\n",
       "<style scoped>\n",
       "    .dataframe tbody tr th:only-of-type {\n",
       "        vertical-align: middle;\n",
       "    }\n",
       "\n",
       "    .dataframe tbody tr th {\n",
       "        vertical-align: top;\n",
       "    }\n",
       "\n",
       "    .dataframe thead th {\n",
       "        text-align: right;\n",
       "    }\n",
       "</style>\n",
       "<table border=\"1\" class=\"dataframe\">\n",
       "  <thead>\n",
       "    <tr style=\"text-align: right;\">\n",
       "      <th></th>\n",
       "      <th>CareerStringID</th>\n",
       "      <th>CareerString</th>\n",
       "      <th>CareerSubstring</th>\n",
       "      <th>CareerStartYear</th>\n",
       "      <th>CareerStartMonth</th>\n",
       "      <th>OrgString</th>\n",
       "      <th>PositionString</th>\n",
       "      <th>PrimaryInstitution</th>\n",
       "      <th>OrgName</th>\n",
       "      <th>Notes</th>\n",
       "    </tr>\n",
       "  </thead>\n",
       "  <tbody>\n",
       "    <tr>\n",
       "      <th>2</th>\n",
       "      <td>4.0</td>\n",
       "      <td>노동성 상(유임)</td>\n",
       "      <td>NaN</td>\n",
       "      <td>1999</td>\n",
       "      <td>2.0</td>\n",
       "      <td>노동성</td>\n",
       "      <td>상</td>\n",
       "      <td>내각</td>\n",
       "      <td>노동성</td>\n",
       "      <td>NaN</td>\n",
       "    </tr>\n",
       "    <tr>\n",
       "      <th>3</th>\n",
       "      <td>1875.0</td>\n",
       "      <td>1998. 9 노동상</td>\n",
       "      <td>NaN</td>\n",
       "      <td>1998</td>\n",
       "      <td>9.0</td>\n",
       "      <td>노동성</td>\n",
       "      <td>상</td>\n",
       "      <td>내각</td>\n",
       "      <td>노동성</td>\n",
       "      <td>NaN</td>\n",
       "    </tr>\n",
       "    <tr>\n",
       "      <th>4</th>\n",
       "      <td>2349.2</td>\n",
       "      <td>2003. 9 최고인민회의 제11기 대의원, 노동상(유임)</td>\n",
       "      <td>노동상</td>\n",
       "      <td>2003</td>\n",
       "      <td>9.0</td>\n",
       "      <td>노동성</td>\n",
       "      <td>상</td>\n",
       "      <td>내각</td>\n",
       "      <td>노동성</td>\n",
       "      <td>NaN</td>\n",
       "    </tr>\n",
       "    <tr>\n",
       "      <th>5</th>\n",
       "      <td>2916.2</td>\n",
       "      <td>2009. 4 최고인민회의 제12기 대의원, 노동상(유임)</td>\n",
       "      <td>노동상</td>\n",
       "      <td>2009</td>\n",
       "      <td>4.0</td>\n",
       "      <td>노동성</td>\n",
       "      <td>상</td>\n",
       "      <td>내각</td>\n",
       "      <td>노동성</td>\n",
       "      <td>NaN</td>\n",
       "    </tr>\n",
       "    <tr>\n",
       "      <th>6</th>\n",
       "      <td>4564.0</td>\n",
       "      <td>노동성 상 *후임 : 강영수</td>\n",
       "      <td>NaN</td>\n",
       "      <td>1997</td>\n",
       "      <td>11.0</td>\n",
       "      <td>노동성</td>\n",
       "      <td>상</td>\n",
       "      <td>내각</td>\n",
       "      <td>노동성</td>\n",
       "      <td>NaN</td>\n",
       "    </tr>\n",
       "    <tr>\n",
       "      <th>...</th>\n",
       "      <td>...</td>\n",
       "      <td>...</td>\n",
       "      <td>...</td>\n",
       "      <td>...</td>\n",
       "      <td>...</td>\n",
       "      <td>...</td>\n",
       "      <td>...</td>\n",
       "      <td>...</td>\n",
       "      <td>...</td>\n",
       "      <td>...</td>\n",
       "    </tr>\n",
       "    <tr>\n",
       "      <th>6590</th>\n",
       "      <td>8028.0</td>\n",
       "      <td>희천정밀기계공장 지배인</td>\n",
       "      <td>NaN</td>\n",
       "      <td>1976</td>\n",
       "      <td>NaN</td>\n",
       "      <td>희천정밀기계공장</td>\n",
       "      <td>지배인</td>\n",
       "      <td>희천정밀기계공장</td>\n",
       "      <td>NaN</td>\n",
       "      <td>NaN</td>\n",
       "    </tr>\n",
       "    <tr>\n",
       "      <th>6593</th>\n",
       "      <td>8040.0</td>\n",
       "      <td>｢민족화해협의회｣ 부회장</td>\n",
       "      <td>NaN</td>\n",
       "      <td>1999</td>\n",
       "      <td>10.0</td>\n",
       "      <td>｢민족화해협의회｣</td>\n",
       "      <td>부회장</td>\n",
       "      <td>민족화해협의회</td>\n",
       "      <td>NaN</td>\n",
       "      <td>NaN</td>\n",
       "    </tr>\n",
       "    <tr>\n",
       "      <th>6595</th>\n",
       "      <td>8042.0</td>\n",
       "      <td>｢아시아태평양평화위원회｣ 참사</td>\n",
       "      <td>NaN</td>\n",
       "      <td>1999</td>\n",
       "      <td>11.0</td>\n",
       "      <td>｢아시아태평양평화위원회｣</td>\n",
       "      <td>참사</td>\n",
       "      <td>조선아시아태평양평화위원회</td>\n",
       "      <td>NaN</td>\n",
       "      <td>NaN</td>\n",
       "    </tr>\n",
       "    <tr>\n",
       "      <th>6596</th>\n",
       "      <td>8043.0</td>\n",
       "      <td>｢조국전선｣ 중앙위원회 공동의장</td>\n",
       "      <td>NaN</td>\n",
       "      <td>1991</td>\n",
       "      <td>8.0</td>\n",
       "      <td>｢조국전선｣ 중앙위원회</td>\n",
       "      <td>공동즤아</td>\n",
       "      <td>조국통일민주주의전선</td>\n",
       "      <td>중앙위원회</td>\n",
       "      <td>NaN</td>\n",
       "    </tr>\n",
       "    <tr>\n",
       "      <th>6597</th>\n",
       "      <td>8044.0</td>\n",
       "      <td>｢조국통일범민족연합｣ 북측 본부 부의장</td>\n",
       "      <td>NaN</td>\n",
       "      <td>1999</td>\n",
       "      <td>8.0</td>\n",
       "      <td>｢조국통일범민족연합｣ 북측 본부</td>\n",
       "      <td>부의장</td>\n",
       "      <td>조국통일범민족연합북측본부</td>\n",
       "      <td>NaN</td>\n",
       "      <td>NaN</td>\n",
       "    </tr>\n",
       "  </tbody>\n",
       "</table>\n",
       "<p>5019 rows × 10 columns</p>\n",
       "</div>"
      ],
      "text/plain": [
       "      CareerStringID                      CareerString CareerSubstring  \\\n",
       "2                4.0                         노동성 상(유임)             NaN   \n",
       "3             1875.0                       1998. 9 노동상             NaN   \n",
       "4             2349.2  2003. 9 최고인민회의 제11기 대의원, 노동상(유임)             노동상   \n",
       "5             2916.2  2009. 4 최고인민회의 제12기 대의원, 노동상(유임)             노동상   \n",
       "6             4564.0                   노동성 상 *후임 : 강영수             NaN   \n",
       "...              ...                               ...             ...   \n",
       "6590          8028.0                      희천정밀기계공장 지배인             NaN   \n",
       "6593          8040.0                     ｢민족화해협의회｣ 부회장             NaN   \n",
       "6595          8042.0                  ｢아시아태평양평화위원회｣ 참사             NaN   \n",
       "6596          8043.0                 ｢조국전선｣ 중앙위원회 공동의장             NaN   \n",
       "6597          8044.0             ｢조국통일범민족연합｣ 북측 본부 부의장             NaN   \n",
       "\n",
       "     CareerStartYear  CareerStartMonth          OrgString PositionString  \\\n",
       "2               1999               2.0                노동성              상   \n",
       "3               1998               9.0                노동성              상   \n",
       "4               2003               9.0                노동성              상   \n",
       "5               2009               4.0                노동성              상   \n",
       "6               1997              11.0                노동성              상   \n",
       "...              ...               ...                ...            ...   \n",
       "6590            1976               NaN           희천정밀기계공장            지배인   \n",
       "6593            1999              10.0         ｢민족화해협의회｣             부회장   \n",
       "6595            1999              11.0      ｢아시아태평양평화위원회｣             참사   \n",
       "6596            1991               8.0      ｢조국전선｣ 중앙위원회            공동즤아   \n",
       "6597            1999               8.0  ｢조국통일범민족연합｣ 북측 본부            부의장   \n",
       "\n",
       "     PrimaryInstitution OrgName Notes  \n",
       "2                    내각     노동성   NaN  \n",
       "3                    내각     노동성   NaN  \n",
       "4                    내각     노동성   NaN  \n",
       "5                    내각     노동성   NaN  \n",
       "6                    내각     노동성   NaN  \n",
       "...                 ...     ...   ...  \n",
       "6590           희천정밀기계공장     NaN   NaN  \n",
       "6593            민족화해협의회     NaN   NaN  \n",
       "6595      조선아시아태평양평화위원회     NaN   NaN  \n",
       "6596         조국통일민주주의전선   중앙위원회   NaN  \n",
       "6597      조국통일범민족연합북측본부     NaN   NaN  \n",
       "\n",
       "[5019 rows x 10 columns]"
      ]
     },
     "execution_count": 213,
     "metadata": {},
     "output_type": "execute_result"
    }
   ],
   "source": [
    "jol47"
   ]
  },
  {
   "cell_type": "markdown",
   "id": "3212913c",
   "metadata": {},
   "source": [
    "### export to tables"
   ]
  },
  {
   "cell_type": "code",
   "execution_count": 214,
   "id": "f3221f0f",
   "metadata": {},
   "outputs": [],
   "source": [
    "# export jol47 as joborglink table\n",
    "jol47.to_excel(path_tables+filename_joborglink,index=False)"
   ]
  },
  {
   "cell_type": "markdown",
   "id": "62653748",
   "metadata": {},
   "source": [
    "# create leaderjoblink - merge uncoded career with coded OrgString & dates"
   ]
  },
  {
   "cell_type": "code",
   "execution_count": 215,
   "id": "836d9b12",
   "metadata": {},
   "outputs": [],
   "source": [
    "# folder: 2.1 career_undivided_unparsed_uncoded\n",
    "    # file: career_link_undivided_unparsed_uncoded.xlsx\n",
    "        # note, many of these will not be jobs, e.g., award, death, marriage, education, funeral, visit"
   ]
  },
  {
   "cell_type": "code",
   "execution_count": 216,
   "id": "5853c61e",
   "metadata": {},
   "outputs": [],
   "source": [
    "# single substring\n",
    "\n",
    "    # joborglink_2_substr_single_1tocode_4Mail_Lee\n",
    "\n",
    "# multiple substring\n",
    "\n",
    "    # joborglink_2_substr_multi2_1tocode_Mail_Lee"
   ]
  },
  {
   "cell_type": "markdown",
   "id": "2b8671cd",
   "metadata": {},
   "source": [
    "### paths & filenames of uncoded career with coded OrgString & dates"
   ]
  },
  {
   "cell_type": "code",
   "execution_count": 296,
   "id": "b5cf8013",
   "metadata": {},
   "outputs": [],
   "source": [
    "path_career = \"C:/Users/seoul/Dropbox/00 technical/github/nkelites/data/combined data/combined data - 1 cleaning/cleaning step 2 - career/2.1 career_undivided_unparsed_uncoded/\""
   ]
  },
  {
   "cell_type": "code",
   "execution_count": 297,
   "id": "897b72d5",
   "metadata": {},
   "outputs": [],
   "source": [
    "filein_career = \"career_link_undivided_unparsed_uncoded.xlsx\""
   ]
  },
  {
   "cell_type": "code",
   "execution_count": 298,
   "id": "1e393f84",
   "metadata": {},
   "outputs": [],
   "source": [
    "career = pd.read_excel(path_career+filein_career)"
   ]
  },
  {
   "cell_type": "code",
   "execution_count": 299,
   "id": "abd76109",
   "metadata": {},
   "outputs": [
    {
     "data": {
      "text/plain": [
       "Index(['LeaderID', 'CareerStringID_2015', 'CareerString',\n",
       "       'CareerDateString_2022'],\n",
       "      dtype='object')"
      ]
     },
     "execution_count": 299,
     "metadata": {},
     "output_type": "execute_result"
    }
   ],
   "source": [
    "career.columns"
   ]
  },
  {
   "cell_type": "code",
   "execution_count": 300,
   "id": "fe45415e",
   "metadata": {},
   "outputs": [
    {
     "data": {
      "text/html": [
       "<div>\n",
       "<style scoped>\n",
       "    .dataframe tbody tr th:only-of-type {\n",
       "        vertical-align: middle;\n",
       "    }\n",
       "\n",
       "    .dataframe tbody tr th {\n",
       "        vertical-align: top;\n",
       "    }\n",
       "\n",
       "    .dataframe thead th {\n",
       "        text-align: right;\n",
       "    }\n",
       "</style>\n",
       "<table border=\"1\" class=\"dataframe\">\n",
       "  <thead>\n",
       "    <tr style=\"text-align: right;\">\n",
       "      <th></th>\n",
       "      <th>LeaderID</th>\n",
       "      <th>CareerStringID_2015</th>\n",
       "      <th>CareerString</th>\n",
       "      <th>CareerDateString_2022</th>\n",
       "    </tr>\n",
       "  </thead>\n",
       "  <tbody>\n",
       "    <tr>\n",
       "      <th>0</th>\n",
       "      <td>리선권</td>\n",
       "      <td>NaN</td>\n",
       "      <td>개성공단 남북공동위원회 통행통신통관 분과위원회</td>\n",
       "      <td>2013.09 ~ 2014.01</td>\n",
       "    </tr>\n",
       "    <tr>\n",
       "      <th>1</th>\n",
       "      <td>조경철</td>\n",
       "      <td>NaN</td>\n",
       "      <td>故 김정일 국가장의위원회 위원</td>\n",
       "      <td>2011.12</td>\n",
       "    </tr>\n",
       "    <tr>\n",
       "      <th>2</th>\n",
       "      <td>리영수</td>\n",
       "      <td>NaN</td>\n",
       "      <td>근로단체부장 해임 * 후임: 리일환</td>\n",
       "      <td>2014</td>\n",
       "    </tr>\n",
       "    <tr>\n",
       "      <th>3</th>\n",
       "      <td>리설주</td>\n",
       "      <td>NaN</td>\n",
       "      <td>금수산궁전 개관식 참석시 동행</td>\n",
       "      <td>2013.08</td>\n",
       "    </tr>\n",
       "    <tr>\n",
       "      <th>4</th>\n",
       "      <td>리원일</td>\n",
       "      <td>NaN</td>\n",
       "      <td>노동성 상(유임)</td>\n",
       "      <td>1999.02</td>\n",
       "    </tr>\n",
       "    <tr>\n",
       "      <th>...</th>\n",
       "      <td>...</td>\n",
       "      <td>...</td>\n",
       "      <td>...</td>\n",
       "      <td>...</td>\n",
       "    </tr>\n",
       "    <tr>\n",
       "      <th>12980</th>\n",
       "      <td>전광호</td>\n",
       "      <td>NaN</td>\n",
       "      <td>흥남가스화건설장 함경남도지구계획위원회 위원장</td>\n",
       "      <td>연도미상</td>\n",
       "    </tr>\n",
       "    <tr>\n",
       "      <th>12981</th>\n",
       "      <td>곽범기</td>\n",
       "      <td>NaN</td>\n",
       "      <td>희천공업대학 졸업</td>\n",
       "      <td>연도미상</td>\n",
       "    </tr>\n",
       "    <tr>\n",
       "      <th>12982</th>\n",
       "      <td>최기룡</td>\n",
       "      <td>NaN</td>\n",
       "      <td>희천공업대학 학장</td>\n",
       "      <td>1999.11</td>\n",
       "    </tr>\n",
       "    <tr>\n",
       "      <th>12983</th>\n",
       "      <td>곽범기</td>\n",
       "      <td>NaN</td>\n",
       "      <td>희천기계공장 분공장 지배인</td>\n",
       "      <td>1983.02</td>\n",
       "    </tr>\n",
       "    <tr>\n",
       "      <th>12984</th>\n",
       "      <td>태종수</td>\n",
       "      <td>NaN</td>\n",
       "      <td>희천정밀기계공장 지배인</td>\n",
       "      <td>1976</td>\n",
       "    </tr>\n",
       "  </tbody>\n",
       "</table>\n",
       "<p>12985 rows × 4 columns</p>\n",
       "</div>"
      ],
      "text/plain": [
       "      LeaderID  CareerStringID_2015                CareerString  \\\n",
       "0          리선권                  NaN   개성공단 남북공동위원회 통행통신통관 분과위원회   \n",
       "1          조경철                  NaN            故 김정일 국가장의위원회 위원   \n",
       "2          리영수                  NaN         근로단체부장 해임 * 후임: 리일환   \n",
       "3          리설주                  NaN            금수산궁전 개관식 참석시 동행   \n",
       "4          리원일                  NaN                   노동성 상(유임)   \n",
       "...        ...                  ...                         ...   \n",
       "12980      전광호                  NaN    흥남가스화건설장 함경남도지구계획위원회 위원장   \n",
       "12981      곽범기                  NaN                   희천공업대학 졸업   \n",
       "12982      최기룡                  NaN                   희천공업대학 학장   \n",
       "12983      곽범기                  NaN              희천기계공장 분공장 지배인   \n",
       "12984      태종수                  NaN                희천정밀기계공장 지배인   \n",
       "\n",
       "      CareerDateString_2022  \n",
       "0         2013.09 ~ 2014.01  \n",
       "1                   2011.12  \n",
       "2                      2014  \n",
       "3                   2013.08  \n",
       "4                   1999.02  \n",
       "...                     ...  \n",
       "12980                  연도미상  \n",
       "12981                  연도미상  \n",
       "12982               1999.11  \n",
       "12983               1983.02  \n",
       "12984                  1976  \n",
       "\n",
       "[12985 rows x 4 columns]"
      ]
     },
     "execution_count": 300,
     "metadata": {},
     "output_type": "execute_result"
    }
   ],
   "source": [
    "career"
   ]
  },
  {
   "cell_type": "code",
   "execution_count": 301,
   "id": "5b592db0",
   "metadata": {},
   "outputs": [
    {
     "data": {
      "text/plain": [
       "(8045, 2)"
      ]
     },
     "execution_count": 301,
     "metadata": {},
     "output_type": "execute_result"
    }
   ],
   "source": [
    "career_str_date = career[[\"CareerString\",\"CareerDateString_2022\"]].drop_duplicates()\n",
    "career_str_date.shape"
   ]
  },
  {
   "cell_type": "code",
   "execution_count": 302,
   "id": "01191f78",
   "metadata": {},
   "outputs": [],
   "source": [
    "career_str_date.sort_values([\"CareerString\",\"CareerDateString_2022\"],inplace=True)"
   ]
  },
  {
   "cell_type": "code",
   "execution_count": 303,
   "id": "57f4025a",
   "metadata": {},
   "outputs": [
    {
     "data": {
      "text/html": [
       "<div>\n",
       "<style scoped>\n",
       "    .dataframe tbody tr th:only-of-type {\n",
       "        vertical-align: middle;\n",
       "    }\n",
       "\n",
       "    .dataframe tbody tr th {\n",
       "        vertical-align: top;\n",
       "    }\n",
       "\n",
       "    .dataframe thead th {\n",
       "        text-align: right;\n",
       "    }\n",
       "</style>\n",
       "<table border=\"1\" class=\"dataframe\">\n",
       "  <thead>\n",
       "    <tr style=\"text-align: right;\">\n",
       "      <th></th>\n",
       "      <th>CareerString</th>\n",
       "      <th>CareerDateString_2022</th>\n",
       "    </tr>\n",
       "  </thead>\n",
       "  <tbody>\n",
       "    <tr>\n",
       "      <th>27</th>\n",
       "      <td>&amp;lt;김일성 훈장&amp;gt; 수훈</td>\n",
       "      <td>1987.04</td>\n",
       "    </tr>\n",
       "    <tr>\n",
       "      <th>23</th>\n",
       "      <td>&amp;lt;김일성 훈장&amp;gt; 수훈</td>\n",
       "      <td>1992.04</td>\n",
       "    </tr>\n",
       "    <tr>\n",
       "      <th>25</th>\n",
       "      <td>&amp;lt;김일성 훈장&amp;gt; 수훈</td>\n",
       "      <td>2002.03</td>\n",
       "    </tr>\n",
       "    <tr>\n",
       "      <th>24</th>\n",
       "      <td>&amp;lt;김일성 훈장&amp;gt; 수훈</td>\n",
       "      <td>2002.04</td>\n",
       "    </tr>\n",
       "    <tr>\n",
       "      <th>26</th>\n",
       "      <td>&amp;lt;김일성 훈장&amp;gt; 수훈</td>\n",
       "      <td>2003.04</td>\n",
       "    </tr>\n",
       "    <tr>\n",
       "      <th>...</th>\n",
       "      <td>...</td>\n",
       "      <td>...</td>\n",
       "    </tr>\n",
       "    <tr>\n",
       "      <th>12936</th>\n",
       "      <td>화학공업상(유임)</td>\n",
       "      <td>2019.04</td>\n",
       "    </tr>\n",
       "    <tr>\n",
       "      <th>12943</th>\n",
       "      <td>황해남도 인민위원회 위원장</td>\n",
       "      <td>1999.06</td>\n",
       "    </tr>\n",
       "    <tr>\n",
       "      <th>12944</th>\n",
       "      <td>황해남도 인민위원회 위원장</td>\n",
       "      <td>2006.06 ~ 2012.03</td>\n",
       "    </tr>\n",
       "    <tr>\n",
       "      <th>12973</th>\n",
       "      <td>황해제철연합기업소 지배인</td>\n",
       "      <td>1987.11</td>\n",
       "    </tr>\n",
       "    <tr>\n",
       "      <th>12972</th>\n",
       "      <td>황해제철연합기업소 지배인</td>\n",
       "      <td>2000.07</td>\n",
       "    </tr>\n",
       "  </tbody>\n",
       "</table>\n",
       "<p>1411 rows × 2 columns</p>\n",
       "</div>"
      ],
      "text/plain": [
       "            CareerString CareerDateString_2022\n",
       "27     &lt;김일성 훈장&gt; 수훈               1987.04\n",
       "23     &lt;김일성 훈장&gt; 수훈               1992.04\n",
       "25     &lt;김일성 훈장&gt; 수훈               2002.03\n",
       "24     &lt;김일성 훈장&gt; 수훈               2002.04\n",
       "26     &lt;김일성 훈장&gt; 수훈               2003.04\n",
       "...                  ...                   ...\n",
       "12936          화학공업상(유임)               2019.04\n",
       "12943     황해남도 인민위원회 위원장               1999.06\n",
       "12944     황해남도 인민위원회 위원장     2006.06 ~ 2012.03\n",
       "12973      황해제철연합기업소 지배인               1987.11\n",
       "12972      황해제철연합기업소 지배인               2000.07\n",
       "\n",
       "[1411 rows x 2 columns]"
      ]
     },
     "execution_count": 303,
     "metadata": {},
     "output_type": "execute_result"
    }
   ],
   "source": [
    "career_str_date[career_str_date.duplicated(\"CareerString\",keep=False)]"
   ]
  },
  {
   "cell_type": "code",
   "execution_count": null,
   "id": "7698f631",
   "metadata": {},
   "outputs": [],
   "source": []
  },
  {
   "cell_type": "code",
   "execution_count": 304,
   "id": "0d8cceb6",
   "metadata": {},
   "outputs": [],
   "source": [
    "path_coded = path_joborglink"
   ]
  },
  {
   "cell_type": "code",
   "execution_count": 305,
   "id": "ea827aff",
   "metadata": {},
   "outputs": [],
   "source": [
    "filein_singlesub = \"joborglink_2_substr_single_1tocode_4Mail_Lee.xlsx\""
   ]
  },
  {
   "cell_type": "code",
   "execution_count": 306,
   "id": "9d58e828",
   "metadata": {},
   "outputs": [],
   "source": [
    "filein_multiplesub = \"joborglink_2_substr_multi2_1tocode_Mail_Lee.xlsx\""
   ]
  },
  {
   "cell_type": "code",
   "execution_count": 307,
   "id": "e125b17c",
   "metadata": {},
   "outputs": [],
   "source": [
    "singlesub = pd.read_excel(path_coded+filein_singlesub)"
   ]
  },
  {
   "cell_type": "code",
   "execution_count": 308,
   "id": "5269e0aa",
   "metadata": {},
   "outputs": [],
   "source": [
    "multiplesub = pd.read_excel(path_coded+filein_multiplesub)"
   ]
  },
  {
   "cell_type": "code",
   "execution_count": 309,
   "id": "0ae8a4ec",
   "metadata": {},
   "outputs": [
    {
     "data": {
      "text/plain": [
       "Index(['CareerStringID', 'MultipleSubstrings', 'NotJob', 'CareerString',\n",
       "       'CareerDateString_2022', 'CareerStartYear', 'CareerStartMonth',\n",
       "       'OrgString', 'PositionString'],\n",
       "      dtype='object')"
      ]
     },
     "execution_count": 309,
     "metadata": {},
     "output_type": "execute_result"
    }
   ],
   "source": [
    "singlesub.columns"
   ]
  },
  {
   "cell_type": "code",
   "execution_count": 310,
   "id": "91541460",
   "metadata": {},
   "outputs": [
    {
     "data": {
      "text/plain": [
       "Index(['CareerStringID', 'CareerDateString_2022', 'MultipleSubstrings',\n",
       "       'CareerString', 'CareerStartYear', 'CareerStartMonth',\n",
       "       'CareerSubstring', 'OrgString', 'PositionString', 'Notes', 'NotJob'],\n",
       "      dtype='object')"
      ]
     },
     "execution_count": 310,
     "metadata": {},
     "output_type": "execute_result"
    }
   ],
   "source": [
    "multiplesub.columns"
   ]
  },
  {
   "cell_type": "code",
   "execution_count": 311,
   "id": "6315cddf",
   "metadata": {},
   "outputs": [],
   "source": [
    "columns_common = ['CareerString','CareerDateString_2022', 'CareerStartYear', 'CareerStartMonth','MultipleSubstrings','OrgString', 'PositionString']"
   ]
  },
  {
   "cell_type": "code",
   "execution_count": 312,
   "id": "063ec939",
   "metadata": {},
   "outputs": [
    {
     "data": {
      "text/plain": [
       "7653"
      ]
     },
     "execution_count": 312,
     "metadata": {},
     "output_type": "execute_result"
    }
   ],
   "source": [
    "singlesub = singlesub[columns_common]\n",
    "multiplesub = multiplesub[columns_common]\n",
    "singlesub.shape[0] + multiplesub.shape[0]"
   ]
  },
  {
   "cell_type": "code",
   "execution_count": 313,
   "id": "2737a7fa",
   "metadata": {},
   "outputs": [
    {
     "data": {
      "text/plain": [
       "7653"
      ]
     },
     "execution_count": 313,
     "metadata": {},
     "output_type": "execute_result"
    }
   ],
   "source": [
    "sub = pd.concat([singlesub,multiplesub])\n",
    "sub.shape[0]"
   ]
  },
  {
   "cell_type": "code",
   "execution_count": 314,
   "id": "fa1b8e8d",
   "metadata": {},
   "outputs": [
    {
     "data": {
      "text/plain": [
       "Index(['LeaderID', 'CareerStringID_2015', 'CareerString',\n",
       "       'CareerDateString_2022'],\n",
       "      dtype='object')"
      ]
     },
     "execution_count": 314,
     "metadata": {},
     "output_type": "execute_result"
    }
   ],
   "source": [
    "career.columns"
   ]
  },
  {
   "cell_type": "code",
   "execution_count": 315,
   "id": "cd6098a7",
   "metadata": {},
   "outputs": [],
   "source": [
    "columns_career = ['LeaderID', 'CareerString','CareerDateString_2022']\n",
    "career = career[columns_career]"
   ]
  },
  {
   "cell_type": "code",
   "execution_count": 316,
   "id": "f2bfbb9f",
   "metadata": {},
   "outputs": [],
   "source": [
    "leaderjoblink = career.merge(sub,how=\"right\",on=[\"CareerString\",\"CareerDateString_2022\"],indicator=True)"
   ]
  },
  {
   "cell_type": "code",
   "execution_count": 317,
   "id": "7167297b",
   "metadata": {},
   "outputs": [
    {
     "data": {
      "text/plain": [
       "(11633, 9)"
      ]
     },
     "execution_count": 317,
     "metadata": {},
     "output_type": "execute_result"
    }
   ],
   "source": [
    "leaderjoblink.shape"
   ]
  },
  {
   "cell_type": "code",
   "execution_count": 318,
   "id": "353dbce3",
   "metadata": {},
   "outputs": [
    {
     "data": {
      "text/html": [
       "<div>\n",
       "<style scoped>\n",
       "    .dataframe tbody tr th:only-of-type {\n",
       "        vertical-align: middle;\n",
       "    }\n",
       "\n",
       "    .dataframe tbody tr th {\n",
       "        vertical-align: top;\n",
       "    }\n",
       "\n",
       "    .dataframe thead th {\n",
       "        text-align: right;\n",
       "    }\n",
       "</style>\n",
       "<table border=\"1\" class=\"dataframe\">\n",
       "  <thead>\n",
       "    <tr style=\"text-align: right;\">\n",
       "      <th></th>\n",
       "      <th>LeaderID</th>\n",
       "      <th>CareerString</th>\n",
       "      <th>CareerDateString_2022</th>\n",
       "      <th>CareerStartYear</th>\n",
       "      <th>CareerStartMonth</th>\n",
       "      <th>MultipleSubstrings</th>\n",
       "      <th>OrgString</th>\n",
       "      <th>PositionString</th>\n",
       "      <th>_merge</th>\n",
       "    </tr>\n",
       "  </thead>\n",
       "  <tbody>\n",
       "  </tbody>\n",
       "</table>\n",
       "</div>"
      ],
      "text/plain": [
       "Empty DataFrame\n",
       "Columns: [LeaderID, CareerString, CareerDateString_2022, CareerStartYear, CareerStartMonth, MultipleSubstrings, OrgString, PositionString, _merge]\n",
       "Index: []"
      ]
     },
     "execution_count": 318,
     "metadata": {},
     "output_type": "execute_result"
    }
   ],
   "source": [
    "# all substrings contained in career\n",
    "leaderjoblink[leaderjoblink[\"_merge\"]==\"right_only\"]"
   ]
  },
  {
   "cell_type": "code",
   "execution_count": 319,
   "id": "d18de043",
   "metadata": {},
   "outputs": [],
   "source": [
    "# drop the merge column\n",
    "leaderjoblink = leaderjoblink.drop(columns=[\"_merge\"])"
   ]
  },
  {
   "cell_type": "code",
   "execution_count": 320,
   "id": "dfddddf5",
   "metadata": {},
   "outputs": [
    {
     "data": {
      "text/html": [
       "<div>\n",
       "<style scoped>\n",
       "    .dataframe tbody tr th:only-of-type {\n",
       "        vertical-align: middle;\n",
       "    }\n",
       "\n",
       "    .dataframe tbody tr th {\n",
       "        vertical-align: top;\n",
       "    }\n",
       "\n",
       "    .dataframe thead th {\n",
       "        text-align: right;\n",
       "    }\n",
       "</style>\n",
       "<table border=\"1\" class=\"dataframe\">\n",
       "  <thead>\n",
       "    <tr style=\"text-align: right;\">\n",
       "      <th></th>\n",
       "      <th>LeaderID</th>\n",
       "      <th>CareerString</th>\n",
       "      <th>CareerDateString_2022</th>\n",
       "      <th>CareerStartYear</th>\n",
       "      <th>CareerStartMonth</th>\n",
       "      <th>MultipleSubstrings</th>\n",
       "      <th>OrgString</th>\n",
       "      <th>PositionString</th>\n",
       "    </tr>\n",
       "  </thead>\n",
       "  <tbody>\n",
       "    <tr>\n",
       "      <th>0</th>\n",
       "      <td>리선권</td>\n",
       "      <td>개성공단 남북공동위원회 통행통신통관 분과위원회</td>\n",
       "      <td>2013.09 ~ 2014.01</td>\n",
       "      <td>2013</td>\n",
       "      <td>9.0</td>\n",
       "      <td>NaN</td>\n",
       "      <td>개성공단 남북공동위원회 통행통신통관 분과위원회</td>\n",
       "      <td>NaN</td>\n",
       "    </tr>\n",
       "    <tr>\n",
       "      <th>1</th>\n",
       "      <td>리영수</td>\n",
       "      <td>근로단체부장 해임 * 후임: 리일환</td>\n",
       "      <td>2014</td>\n",
       "      <td>2014</td>\n",
       "      <td>NaN</td>\n",
       "      <td>NaN</td>\n",
       "      <td>근로단체</td>\n",
       "      <td>부장</td>\n",
       "    </tr>\n",
       "    <tr>\n",
       "      <th>2</th>\n",
       "      <td>리원일</td>\n",
       "      <td>노동성 상(유임)</td>\n",
       "      <td>1999.02</td>\n",
       "      <td>1999</td>\n",
       "      <td>2.0</td>\n",
       "      <td>NaN</td>\n",
       "      <td>노동성</td>\n",
       "      <td>상</td>\n",
       "    </tr>\n",
       "    <tr>\n",
       "      <th>3</th>\n",
       "      <td>조용원</td>\n",
       "      <td>당 정치국 후보위원</td>\n",
       "      <td>2020.01</td>\n",
       "      <td>2020</td>\n",
       "      <td>1.0</td>\n",
       "      <td>NaN</td>\n",
       "      <td>당 정치룩</td>\n",
       "      <td>위원</td>\n",
       "    </tr>\n",
       "    <tr>\n",
       "      <th>4</th>\n",
       "      <td>정경택</td>\n",
       "      <td>당 중앙위원회 정치국 위원 (*당 중앙위원회 제7기 제4차 전원회의에서 보선)</td>\n",
       "      <td>2019.04</td>\n",
       "      <td>2019</td>\n",
       "      <td>4.0</td>\n",
       "      <td>NaN</td>\n",
       "      <td>당 중앙위원회 정치국</td>\n",
       "      <td>위원</td>\n",
       "    </tr>\n",
       "    <tr>\n",
       "      <th>...</th>\n",
       "      <td>...</td>\n",
       "      <td>...</td>\n",
       "      <td>...</td>\n",
       "      <td>...</td>\n",
       "      <td>...</td>\n",
       "      <td>...</td>\n",
       "      <td>...</td>\n",
       "      <td>...</td>\n",
       "    </tr>\n",
       "    <tr>\n",
       "      <th>11628</th>\n",
       "      <td>박금희</td>\n",
       "      <td>평양교원대학 학장, 박사, 부교수</td>\n",
       "      <td>연도미상</td>\n",
       "      <td>NaN</td>\n",
       "      <td>NaN</td>\n",
       "      <td>3.0</td>\n",
       "      <td>NaN</td>\n",
       "      <td>NaN</td>\n",
       "    </tr>\n",
       "    <tr>\n",
       "      <th>11629</th>\n",
       "      <td>리태남</td>\n",
       "      <td>함경남도 당 위원회 책임비서 겸 인민위원장</td>\n",
       "      <td>1996.01</td>\n",
       "      <td>1996</td>\n",
       "      <td>1.0</td>\n",
       "      <td>2.0</td>\n",
       "      <td>NaN</td>\n",
       "      <td>NaN</td>\n",
       "    </tr>\n",
       "    <tr>\n",
       "      <th>11630</th>\n",
       "      <td>리태남</td>\n",
       "      <td>함경남도 당 위원회 책임비서 겸 인민위원장</td>\n",
       "      <td>1996.01</td>\n",
       "      <td>1996</td>\n",
       "      <td>1.0</td>\n",
       "      <td>2.0</td>\n",
       "      <td>NaN</td>\n",
       "      <td>NaN</td>\n",
       "    </tr>\n",
       "    <tr>\n",
       "      <th>11631</th>\n",
       "      <td>량정훈</td>\n",
       "      <td>황해북도 당 위원회 위원장, 당 중앙위원회 위원</td>\n",
       "      <td>2017.10</td>\n",
       "      <td>2017</td>\n",
       "      <td>10.0</td>\n",
       "      <td>2.0</td>\n",
       "      <td>NaN</td>\n",
       "      <td>NaN</td>\n",
       "    </tr>\n",
       "    <tr>\n",
       "      <th>11632</th>\n",
       "      <td>량정훈</td>\n",
       "      <td>황해북도 당 위원회 위원장, 당 중앙위원회 위원</td>\n",
       "      <td>2017.10</td>\n",
       "      <td>2017</td>\n",
       "      <td>10.0</td>\n",
       "      <td>2.0</td>\n",
       "      <td>NaN</td>\n",
       "      <td>NaN</td>\n",
       "    </tr>\n",
       "  </tbody>\n",
       "</table>\n",
       "<p>11633 rows × 8 columns</p>\n",
       "</div>"
      ],
      "text/plain": [
       "      LeaderID                                    CareerString  \\\n",
       "0          리선권                       개성공단 남북공동위원회 통행통신통관 분과위원회   \n",
       "1          리영수                             근로단체부장 해임 * 후임: 리일환   \n",
       "2          리원일                                       노동성 상(유임)   \n",
       "3          조용원                                      당 정치국 후보위원   \n",
       "4          정경택   당 중앙위원회 정치국 위원 (*당 중앙위원회 제7기 제4차 전원회의에서 보선)     \n",
       "...        ...                                             ...   \n",
       "11628      박금희                              평양교원대학 학장, 박사, 부교수   \n",
       "11629      리태남                         함경남도 당 위원회 책임비서 겸 인민위원장   \n",
       "11630      리태남                         함경남도 당 위원회 책임비서 겸 인민위원장   \n",
       "11631      량정훈                      황해북도 당 위원회 위원장, 당 중앙위원회 위원   \n",
       "11632      량정훈                      황해북도 당 위원회 위원장, 당 중앙위원회 위원   \n",
       "\n",
       "      CareerDateString_2022 CareerStartYear  CareerStartMonth  \\\n",
       "0         2013.09 ~ 2014.01            2013               9.0   \n",
       "1                      2014            2014               NaN   \n",
       "2                   1999.02            1999               2.0   \n",
       "3                   2020.01            2020               1.0   \n",
       "4                   2019.04            2019               4.0   \n",
       "...                     ...             ...               ...   \n",
       "11628                  연도미상             NaN               NaN   \n",
       "11629               1996.01            1996               1.0   \n",
       "11630               1996.01            1996               1.0   \n",
       "11631               2017.10            2017              10.0   \n",
       "11632               2017.10            2017              10.0   \n",
       "\n",
       "       MultipleSubstrings                  OrgString PositionString  \n",
       "0                     NaN  개성공단 남북공동위원회 통행통신통관 분과위원회            NaN  \n",
       "1                     NaN                       근로단체             부장  \n",
       "2                     NaN                        노동성              상  \n",
       "3                     NaN                      당 정치룩             위원  \n",
       "4                     NaN                당 중앙위원회 정치국             위원  \n",
       "...                   ...                        ...            ...  \n",
       "11628                 3.0                        NaN            NaN  \n",
       "11629                 2.0                        NaN            NaN  \n",
       "11630                 2.0                        NaN            NaN  \n",
       "11631                 2.0                        NaN            NaN  \n",
       "11632                 2.0                        NaN            NaN  \n",
       "\n",
       "[11633 rows x 8 columns]"
      ]
     },
     "execution_count": 320,
     "metadata": {},
     "output_type": "execute_result"
    }
   ],
   "source": [
    "leaderjoblink"
   ]
  },
  {
   "cell_type": "markdown",
   "id": "a354a8c6",
   "metadata": {},
   "source": [
    "### export to tables"
   ]
  },
  {
   "cell_type": "code",
   "execution_count": 321,
   "id": "89b98e0a",
   "metadata": {},
   "outputs": [],
   "source": [
    "# export leaderjoblink as leaderjoblink table\n",
    "leaderjoblink.to_excel(path_tables+filename_leaderjoblink,index=False)"
   ]
  },
  {
   "cell_type": "code",
   "execution_count": null,
   "id": "4a2ebca2",
   "metadata": {},
   "outputs": [],
   "source": []
  }
 ],
 "metadata": {
  "kernelspec": {
   "display_name": "Python 3 (ipykernel)",
   "language": "python",
   "name": "python3"
  },
  "language_info": {
   "codemirror_mode": {
    "name": "ipython",
    "version": 3
   },
   "file_extension": ".py",
   "mimetype": "text/x-python",
   "name": "python",
   "nbconvert_exporter": "python",
   "pygments_lexer": "ipython3",
   "version": "3.11.0"
  }
 },
 "nbformat": 4,
 "nbformat_minor": 5
}
