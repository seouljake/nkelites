{
 "cells": [
  {
   "cell_type": "code",
   "execution_count": 1,
   "id": "74698cf3",
   "metadata": {},
   "outputs": [],
   "source": [
    "import pandas as pd\n",
    "import numpy as np"
   ]
  },
  {
   "cell_type": "markdown",
   "id": "aaf25c71",
   "metadata": {},
   "source": [
    "# combined data - 2 tables"
   ]
  },
  {
   "cell_type": "code",
   "execution_count": 2,
   "id": "f2c9c339",
   "metadata": {},
   "outputs": [],
   "source": [
    "path_tables = \"C:/Users/seoul/Dropbox/00 technical/github/nkelites/data/combined data/combined data - 2 tables/\""
   ]
  },
  {
   "cell_type": "code",
   "execution_count": 3,
   "id": "b7d9b165",
   "metadata": {},
   "outputs": [],
   "source": [
    "filename_careers = \"careers.xlsx\""
   ]
  },
  {
   "cell_type": "code",
   "execution_count": 4,
   "id": "1c1ab934",
   "metadata": {},
   "outputs": [],
   "source": [
    "filename_leadercareerlink = \"leadercareerlink.xlsx\""
   ]
  },
  {
   "cell_type": "code",
   "execution_count": 5,
   "id": "f86d0874",
   "metadata": {},
   "outputs": [],
   "source": [
    "filename_leaderjoblink = \"leaderjoblink.xlsx\""
   ]
  },
  {
   "cell_type": "code",
   "execution_count": 6,
   "id": "09c3c30a",
   "metadata": {},
   "outputs": [],
   "source": [
    "filename_joborglink = \"joborglink.xlsx\""
   ]
  },
  {
   "cell_type": "markdown",
   "id": "c2a10c37",
   "metadata": {},
   "source": [
    "# combined data - 1 cleaning/cleaning step 2 - career/"
   ]
  },
  {
   "cell_type": "code",
   "execution_count": 7,
   "id": "a9386ddd",
   "metadata": {},
   "outputs": [],
   "source": [
    "path_cleaning = \"C:/Users/seoul/Dropbox/00 technical/github/nkelites/data/combined data/combined data - 1 cleaning/cleaning step 2 - career/\""
   ]
  },
  {
   "cell_type": "code",
   "execution_count": 8,
   "id": "ea8288fa",
   "metadata": {},
   "outputs": [],
   "source": [
    "subpath_2_1 = \"2.1 career_undivided_unparsed_uncoded/\"\n",
    "subpath_2_2 = \"2.2 career_divided_unparsed_uncoded/\"\n",
    "subpath_2_3 = \"2.3 joborglink/\"\n",
    "subpath_2_4 = \"2.4 orgtree/\"\n",
    "subpath_2_5 = \"2.5 position/\"\n",
    "subpath_2_6 = \"2.6 career_reassembled/\""
   ]
  },
  {
   "cell_type": "code",
   "execution_count": 65,
   "id": "70f8a5af",
   "metadata": {},
   "outputs": [
    {
     "data": {
      "text/plain": [
       "(1349, 10)"
      ]
     },
     "execution_count": 65,
     "metadata": {},
     "output_type": "execute_result"
    }
   ],
   "source": [
    "# org_4_4_JR_완료 with edits to PI & OrgName\n",
    "filein_ot = \"orgtree_4_4_JR_완료.xlsx\"\n",
    "ot = pd.read_excel(path_cleaning + subpath_2_4 + filein_ot,dtype=\"str\")\n",
    "ot.shape"
   ]
  },
  {
   "cell_type": "code",
   "execution_count": 66,
   "id": "17364def",
   "metadata": {},
   "outputs": [
    {
     "data": {
      "text/plain": [
       "Index(['InsideGov', 'PrimaryInstitution', 'OrgName', 'ImmediateSuperiorOrg',\n",
       "       'SupervisesParent', 'LinkToNext_PI', 'LinkToNext_Org',\n",
       "       'LinkToNext_Year', 'Notes', '_merge'],\n",
       "      dtype='object')"
      ]
     },
     "execution_count": 66,
     "metadata": {},
     "output_type": "execute_result"
    }
   ],
   "source": [
    "ot.columns"
   ]
  },
  {
   "cell_type": "markdown",
   "id": "fd9368f2",
   "metadata": {},
   "source": [
    "# 1.  check no duplicates"
   ]
  },
  {
   "cell_type": "code",
   "execution_count": 67,
   "id": "88e788b9",
   "metadata": {},
   "outputs": [
    {
     "data": {
      "text/plain": [
       "(0, 10)"
      ]
     },
     "execution_count": 67,
     "metadata": {},
     "output_type": "execute_result"
    }
   ],
   "source": [
    "# check no duplicates\n",
    "ot[ot.duplicated(keep=False)].shape"
   ]
  },
  {
   "cell_type": "code",
   "execution_count": 68,
   "id": "ce7064eb",
   "metadata": {},
   "outputs": [
    {
     "data": {
      "text/plain": [
       "(8, 10)"
      ]
     },
     "execution_count": 68,
     "metadata": {},
     "output_type": "execute_result"
    }
   ],
   "source": [
    "# check no duplicate keys\n",
    "key_columns =[\"PrimaryInstitution\",\"OrgName\"]\n",
    "ot[ot.duplicated(key_columns,keep=False)].shape"
   ]
  },
  {
   "cell_type": "code",
   "execution_count": 69,
   "id": "b46b4a92",
   "metadata": {},
   "outputs": [],
   "source": [
    "# drop _merge\n",
    "ot.drop(columns=\"_merge\",inplace=True)"
   ]
  },
  {
   "cell_type": "code",
   "execution_count": 70,
   "id": "8cb28811",
   "metadata": {},
   "outputs": [
    {
     "data": {
      "text/plain": [
       "array([nan, '1'], dtype=object)"
      ]
     },
     "execution_count": 70,
     "metadata": {},
     "output_type": "execute_result"
    }
   ],
   "source": [
    "# confirm SupervisesParent = 1 or NA\n",
    "ot.SupervisesParent.unique()"
   ]
  },
  {
   "cell_type": "markdown",
   "id": "1c8c6302",
   "metadata": {},
   "source": [
    "# 2. remove null rows"
   ]
  },
  {
   "cell_type": "code",
   "execution_count": 71,
   "id": "3b85b568",
   "metadata": {},
   "outputs": [],
   "source": [
    "ot.dropna(how=\"all\",axis=0,inplace=True)"
   ]
  },
  {
   "cell_type": "code",
   "execution_count": 72,
   "id": "5c134ba2",
   "metadata": {},
   "outputs": [
    {
     "data": {
      "text/plain": [
       "(1348, 9)"
      ]
     },
     "execution_count": 72,
     "metadata": {},
     "output_type": "execute_result"
    }
   ],
   "source": [
    "ot.shape"
   ]
  },
  {
   "cell_type": "code",
   "execution_count": 73,
   "id": "7fa87603",
   "metadata": {},
   "outputs": [
    {
     "data": {
      "text/html": [
       "<div>\n",
       "<style scoped>\n",
       "    .dataframe tbody tr th:only-of-type {\n",
       "        vertical-align: middle;\n",
       "    }\n",
       "\n",
       "    .dataframe tbody tr th {\n",
       "        vertical-align: top;\n",
       "    }\n",
       "\n",
       "    .dataframe thead th {\n",
       "        text-align: right;\n",
       "    }\n",
       "</style>\n",
       "<table border=\"1\" class=\"dataframe\">\n",
       "  <thead>\n",
       "    <tr style=\"text-align: right;\">\n",
       "      <th></th>\n",
       "      <th>InsideGov</th>\n",
       "      <th>PrimaryInstitution</th>\n",
       "      <th>OrgName</th>\n",
       "      <th>ImmediateSuperiorOrg</th>\n",
       "      <th>SupervisesParent</th>\n",
       "      <th>LinkToNext_PI</th>\n",
       "      <th>LinkToNext_Org</th>\n",
       "      <th>LinkToNext_Year</th>\n",
       "      <th>Notes</th>\n",
       "    </tr>\n",
       "  </thead>\n",
       "  <tbody>\n",
       "  </tbody>\n",
       "</table>\n",
       "</div>"
      ],
      "text/plain": [
       "Empty DataFrame\n",
       "Columns: [InsideGov, PrimaryInstitution, OrgName, ImmediateSuperiorOrg, SupervisesParent, LinkToNext_PI, LinkToNext_Org, LinkToNext_Year, Notes]\n",
       "Index: []"
      ]
     },
     "execution_count": 73,
     "metadata": {},
     "output_type": "execute_result"
    }
   ],
   "source": [
    "ot[ot[\"PrimaryInstitution\"].isna() & ot[\"OrgName\"].isna()]"
   ]
  },
  {
   "cell_type": "code",
   "execution_count": 74,
   "id": "5244379a",
   "metadata": {},
   "outputs": [
    {
     "data": {
      "text/html": [
       "<div>\n",
       "<style scoped>\n",
       "    .dataframe tbody tr th:only-of-type {\n",
       "        vertical-align: middle;\n",
       "    }\n",
       "\n",
       "    .dataframe tbody tr th {\n",
       "        vertical-align: top;\n",
       "    }\n",
       "\n",
       "    .dataframe thead th {\n",
       "        text-align: right;\n",
       "    }\n",
       "</style>\n",
       "<table border=\"1\" class=\"dataframe\">\n",
       "  <thead>\n",
       "    <tr style=\"text-align: right;\">\n",
       "      <th></th>\n",
       "      <th>InsideGov</th>\n",
       "      <th>PrimaryInstitution</th>\n",
       "      <th>OrgName</th>\n",
       "      <th>ImmediateSuperiorOrg</th>\n",
       "      <th>SupervisesParent</th>\n",
       "      <th>LinkToNext_PI</th>\n",
       "      <th>LinkToNext_Org</th>\n",
       "      <th>LinkToNext_Year</th>\n",
       "      <th>Notes</th>\n",
       "    </tr>\n",
       "  </thead>\n",
       "  <tbody>\n",
       "  </tbody>\n",
       "</table>\n",
       "</div>"
      ],
      "text/plain": [
       "Empty DataFrame\n",
       "Columns: [InsideGov, PrimaryInstitution, OrgName, ImmediateSuperiorOrg, SupervisesParent, LinkToNext_PI, LinkToNext_Org, LinkToNext_Year, Notes]\n",
       "Index: []"
      ]
     },
     "execution_count": 74,
     "metadata": {},
     "output_type": "execute_result"
    }
   ],
   "source": [
    "ot[(ot[\"PrimaryInstitution\"].str.lower()==\"uncertain\") & (ot[\"OrgName\"].str.lower()==\"uncertain\")]"
   ]
  },
  {
   "cell_type": "code",
   "execution_count": 75,
   "id": "66ce302c",
   "metadata": {},
   "outputs": [
    {
     "data": {
      "text/html": [
       "<div>\n",
       "<style scoped>\n",
       "    .dataframe tbody tr th:only-of-type {\n",
       "        vertical-align: middle;\n",
       "    }\n",
       "\n",
       "    .dataframe tbody tr th {\n",
       "        vertical-align: top;\n",
       "    }\n",
       "\n",
       "    .dataframe thead th {\n",
       "        text-align: right;\n",
       "    }\n",
       "</style>\n",
       "<table border=\"1\" class=\"dataframe\">\n",
       "  <thead>\n",
       "    <tr style=\"text-align: right;\">\n",
       "      <th></th>\n",
       "      <th>InsideGov</th>\n",
       "      <th>PrimaryInstitution</th>\n",
       "      <th>OrgName</th>\n",
       "      <th>ImmediateSuperiorOrg</th>\n",
       "      <th>SupervisesParent</th>\n",
       "      <th>LinkToNext_PI</th>\n",
       "      <th>LinkToNext_Org</th>\n",
       "      <th>LinkToNext_Year</th>\n",
       "      <th>Notes</th>\n",
       "    </tr>\n",
       "  </thead>\n",
       "  <tbody>\n",
       "  </tbody>\n",
       "</table>\n",
       "</div>"
      ],
      "text/plain": [
       "Empty DataFrame\n",
       "Columns: [InsideGov, PrimaryInstitution, OrgName, ImmediateSuperiorOrg, SupervisesParent, LinkToNext_PI, LinkToNext_Org, LinkToNext_Year, Notes]\n",
       "Index: []"
      ]
     },
     "execution_count": 75,
     "metadata": {},
     "output_type": "execute_result"
    }
   ],
   "source": [
    "ot[(ot[\"PrimaryInstitution\"].str.lower()==\"uncertain\") & (ot[\"OrgName\"].isna())]"
   ]
  },
  {
   "cell_type": "code",
   "execution_count": 76,
   "id": "e41aef4c",
   "metadata": {},
   "outputs": [
    {
     "data": {
      "text/html": [
       "<div>\n",
       "<style scoped>\n",
       "    .dataframe tbody tr th:only-of-type {\n",
       "        vertical-align: middle;\n",
       "    }\n",
       "\n",
       "    .dataframe tbody tr th {\n",
       "        vertical-align: top;\n",
       "    }\n",
       "\n",
       "    .dataframe thead th {\n",
       "        text-align: right;\n",
       "    }\n",
       "</style>\n",
       "<table border=\"1\" class=\"dataframe\">\n",
       "  <thead>\n",
       "    <tr style=\"text-align: right;\">\n",
       "      <th></th>\n",
       "      <th>InsideGov</th>\n",
       "      <th>PrimaryInstitution</th>\n",
       "      <th>OrgName</th>\n",
       "      <th>ImmediateSuperiorOrg</th>\n",
       "      <th>SupervisesParent</th>\n",
       "      <th>LinkToNext_PI</th>\n",
       "      <th>LinkToNext_Org</th>\n",
       "      <th>LinkToNext_Year</th>\n",
       "      <th>Notes</th>\n",
       "    </tr>\n",
       "  </thead>\n",
       "  <tbody>\n",
       "  </tbody>\n",
       "</table>\n",
       "</div>"
      ],
      "text/plain": [
       "Empty DataFrame\n",
       "Columns: [InsideGov, PrimaryInstitution, OrgName, ImmediateSuperiorOrg, SupervisesParent, LinkToNext_PI, LinkToNext_Org, LinkToNext_Year, Notes]\n",
       "Index: []"
      ]
     },
     "execution_count": 76,
     "metadata": {},
     "output_type": "execute_result"
    }
   ],
   "source": [
    "ot[(ot[\"PrimaryInstitution\"].str.lower()==\"uncertain\") & (ot[\"OrgName\"].isna())]"
   ]
  },
  {
   "cell_type": "markdown",
   "id": "668405bb",
   "metadata": {},
   "source": [
    "# 3. replace null vars with Please_Revise"
   ]
  },
  {
   "cell_type": "code",
   "execution_count": 77,
   "id": "b93315d0",
   "metadata": {},
   "outputs": [],
   "source": [
    "replace_var = \"InsideGov\"\n",
    "ot.loc[ot[replace_var].isna(),replace_var]=np.nan"
   ]
  },
  {
   "cell_type": "code",
   "execution_count": 78,
   "id": "92dbf889",
   "metadata": {},
   "outputs": [],
   "source": [
    "replace_var = \"LinkToNext_PI\"\n",
    "ot.loc[ot[replace_var].isna(),replace_var]=np.nan"
   ]
  },
  {
   "cell_type": "code",
   "execution_count": 79,
   "id": "1a7e3e78",
   "metadata": {},
   "outputs": [],
   "source": [
    "replace_var = \"LinkToNext_Org\"\n",
    "ot.loc[ot[replace_var].isna(),replace_var]=np.nan"
   ]
  },
  {
   "cell_type": "code",
   "execution_count": 80,
   "id": "090d5ff5",
   "metadata": {},
   "outputs": [],
   "source": [
    "replace_var = \"LinkToNext_Year\"\n",
    "ot.loc[ot[replace_var].isna(),replace_var]=np.nan"
   ]
  },
  {
   "cell_type": "code",
   "execution_count": 81,
   "id": "ec7409d9",
   "metadata": {},
   "outputs": [],
   "source": [
    "# 4. "
   ]
  },
  {
   "cell_type": "code",
   "execution_count": null,
   "id": "10a207cb",
   "metadata": {},
   "outputs": [],
   "source": []
  }
 ],
 "metadata": {
  "kernelspec": {
   "display_name": "Python 3 (ipykernel)",
   "language": "python",
   "name": "python3"
  },
  "language_info": {
   "codemirror_mode": {
    "name": "ipython",
    "version": 3
   },
   "file_extension": ".py",
   "mimetype": "text/x-python",
   "name": "python",
   "nbconvert_exporter": "python",
   "pygments_lexer": "ipython3",
   "version": "3.11.0"
  }
 },
 "nbformat": 4,
 "nbformat_minor": 5
}
