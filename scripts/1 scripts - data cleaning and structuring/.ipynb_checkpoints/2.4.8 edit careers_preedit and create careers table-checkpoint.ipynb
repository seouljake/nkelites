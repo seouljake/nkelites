{
 "cells": [
  {
   "cell_type": "code",
   "execution_count": 1,
   "id": "74698cf3",
   "metadata": {},
   "outputs": [],
   "source": [
    "import pandas as pd\n",
    "import numpy as np"
   ]
  },
  {
   "cell_type": "markdown",
   "id": "aaf25c71",
   "metadata": {},
   "source": [
    "# combined data - 2 tables"
   ]
  },
  {
   "cell_type": "code",
   "execution_count": 2,
   "id": "f2c9c339",
   "metadata": {},
   "outputs": [],
   "source": [
    "path_tables = \"C:/Users/seoul/Dropbox/00 technical/github/nkelites/data/combined data/combined data - 2 tables/\""
   ]
  },
  {
   "cell_type": "code",
   "execution_count": 3,
   "id": "b7d9b165",
   "metadata": {},
   "outputs": [],
   "source": [
    "filename_careers = \"careers.xlsx\""
   ]
  },
  {
   "cell_type": "code",
   "execution_count": 4,
   "id": "1c1ab934",
   "metadata": {},
   "outputs": [],
   "source": [
    "filename_leadercareerlink = \"leadercareerlink.xlsx\""
   ]
  },
  {
   "cell_type": "code",
   "execution_count": 5,
   "id": "f86d0874",
   "metadata": {},
   "outputs": [],
   "source": [
    "filename_leaderjoblink = \"leaderjoblink.xlsx\""
   ]
  },
  {
   "cell_type": "code",
   "execution_count": 6,
   "id": "09c3c30a",
   "metadata": {},
   "outputs": [],
   "source": [
    "filename_joborglink = \"joborglink.xlsx\""
   ]
  },
  {
   "cell_type": "markdown",
   "id": "c2a10c37",
   "metadata": {},
   "source": [
    "# combined data - 1 cleaning/cleaning step 2 - career/"
   ]
  },
  {
   "cell_type": "code",
   "execution_count": 7,
   "id": "a9386ddd",
   "metadata": {},
   "outputs": [],
   "source": [
    "path_cleaning = \"C:/Users/seoul/Dropbox/00 technical/github/nkelites/data/combined data/combined data - 1 cleaning/cleaning step 2 - career/\""
   ]
  },
  {
   "cell_type": "code",
   "execution_count": 11,
   "id": "ea8288fa",
   "metadata": {},
   "outputs": [],
   "source": [
    "subpath_2_1 = \"2.1 career_undivided_unparsed_uncoded/\"\n",
    "subpath_2_2 = \"2.2 career_divided_unparsed_uncoded/\"\n",
    "subpath_2_3 = \"2.3 joborglink/\"\n",
    "subpath_2_4 = \"2.4 orgtree/\"\n",
    "subpath_2_5 = \"2.5 position/\"\n",
    "subpath_2_6 = \"2.6 career_reassembled/\""
   ]
  },
  {
   "cell_type": "code",
   "execution_count": 10,
   "id": "09894bdc",
   "metadata": {},
   "outputs": [
    {
     "data": {
      "text/plain": [
       "(9001, 13)"
      ]
     },
     "execution_count": 10,
     "metadata": {},
     "output_type": "execute_result"
    }
   ],
   "source": [
    "# careers_preedits\n",
    "filein_c = \"careers_2_1_preedit.xlsx\"\n",
    "c = pd.read_excel(path_cleaning + subpath_2_6 + filein_c)\n",
    "c.shape"
   ]
  },
  {
   "cell_type": "code",
   "execution_count": 34,
   "id": "156d7924",
   "metadata": {},
   "outputs": [
    {
     "data": {
      "text/plain": [
       "(1394, 14)"
      ]
     },
     "execution_count": 34,
     "metadata": {},
     "output_type": "execute_result"
    }
   ],
   "source": [
    "# orgtree with edits to PrimaryInstitution,OrgName\n",
    "filein_ot = \"orgtree_4_3_jeongsu_2_x.xlsx\"\n",
    "ot = pd.read_excel(path_cleaning + subpath_2_4 + filein_ot)\n",
    "ot.shape "
   ]
  },
  {
   "cell_type": "code",
   "execution_count": 87,
   "id": "3d6ccd02",
   "metadata": {},
   "outputs": [
    {
     "data": {
      "text/plain": [
       "(5013, 15)"
      ]
     },
     "execution_count": 87,
     "metadata": {},
     "output_type": "execute_result"
    }
   ],
   "source": [
    "# jol with edits to Position\n",
    "filein_jol = \"joborglink_1_jeongsoo_complete.xlsx\"\n",
    "jol = pd.read_excel(path_cleaning + subpath_2_5 + filein_jol)\n",
    "jol.shape"
   ]
  },
  {
   "cell_type": "code",
   "execution_count": null,
   "id": "263de8eb",
   "metadata": {},
   "outputs": [],
   "source": []
  },
  {
   "cell_type": "markdown",
   "id": "fd9368f2",
   "metadata": {},
   "source": [
    "# 1. from orgtree, edits to PrimaryInstitution,OrgName "
   ]
  },
  {
   "cell_type": "code",
   "execution_count": 28,
   "id": "a5f4ab27",
   "metadata": {},
   "outputs": [
    {
     "data": {
      "text/html": [
       "<div>\n",
       "<style scoped>\n",
       "    .dataframe tbody tr th:only-of-type {\n",
       "        vertical-align: middle;\n",
       "    }\n",
       "\n",
       "    .dataframe tbody tr th {\n",
       "        vertical-align: top;\n",
       "    }\n",
       "\n",
       "    .dataframe thead th {\n",
       "        text-align: right;\n",
       "    }\n",
       "</style>\n",
       "<table border=\"1\" class=\"dataframe\">\n",
       "  <thead>\n",
       "    <tr style=\"text-align: right;\">\n",
       "      <th></th>\n",
       "      <th>InsideGov</th>\n",
       "      <th>PrimaryInstitution</th>\n",
       "      <th>OrgName</th>\n",
       "      <th>ImmediateSuperiorOrg</th>\n",
       "      <th>SupervisesParent</th>\n",
       "      <th>LinkToNext_PI</th>\n",
       "      <th>LinkToNext_Org</th>\n",
       "      <th>LinkToNext_Year</th>\n",
       "      <th>Edit_PI</th>\n",
       "      <th>Edit_OrgName</th>\n",
       "      <th>Edit_Link_PI</th>\n",
       "      <th>Edit_Link_OrgName</th>\n",
       "      <th>Edit_Link_Year</th>\n",
       "      <th>Notes</th>\n",
       "    </tr>\n",
       "  </thead>\n",
       "  <tbody>\n",
       "    <tr>\n",
       "      <th>0</th>\n",
       "      <td>0.0</td>\n",
       "      <td>6.15공동선언실천남북공동위원회북측위원회</td>\n",
       "      <td>NaN</td>\n",
       "      <td>NaN</td>\n",
       "      <td>NaN</td>\n",
       "      <td>Please_Revise</td>\n",
       "      <td>Please_Revise</td>\n",
       "      <td>Please_Revise</td>\n",
       "      <td>6.15공동선언실천남북공동위원회북측위원회</td>\n",
       "      <td>NaN</td>\n",
       "      <td>Current</td>\n",
       "      <td>Current</td>\n",
       "      <td>Current</td>\n",
       "      <td>NaN</td>\n",
       "    </tr>\n",
       "    <tr>\n",
       "      <th>1</th>\n",
       "      <td>1.0</td>\n",
       "      <td>김일성경호대</td>\n",
       "      <td>NaN</td>\n",
       "      <td>NaN</td>\n",
       "      <td>NaN</td>\n",
       "      <td>호위사령부</td>\n",
       "      <td>호위총국</td>\n",
       "      <td>Please_Revise</td>\n",
       "      <td>Uncertain</td>\n",
       "      <td>Uncertain</td>\n",
       "      <td>Uncertain</td>\n",
       "      <td>Uncertain</td>\n",
       "      <td>Uncertain</td>\n",
       "      <td>NaN</td>\n",
       "    </tr>\n",
       "  </tbody>\n",
       "</table>\n",
       "</div>"
      ],
      "text/plain": [
       "   InsideGov      PrimaryInstitution OrgName ImmediateSuperiorOrg  \\\n",
       "0        0.0  6.15공동선언실천남북공동위원회북측위원회     NaN                  NaN   \n",
       "1        1.0                  김일성경호대     NaN                  NaN   \n",
       "\n",
       "   SupervisesParent  LinkToNext_PI LinkToNext_Org LinkToNext_Year  \\\n",
       "0               NaN  Please_Revise  Please_Revise   Please_Revise   \n",
       "1               NaN          호위사령부           호위총국   Please_Revise   \n",
       "\n",
       "                  Edit_PI Edit_OrgName Edit_Link_PI Edit_Link_OrgName  \\\n",
       "0  6.15공동선언실천남북공동위원회북측위원회          NaN      Current           Current   \n",
       "1               Uncertain    Uncertain    Uncertain         Uncertain   \n",
       "\n",
       "  Edit_Link_Year Notes  \n",
       "0        Current   NaN  \n",
       "1      Uncertain   NaN  "
      ]
     },
     "execution_count": 28,
     "metadata": {},
     "output_type": "execute_result"
    }
   ],
   "source": [
    "ot.head(2)"
   ]
  },
  {
   "cell_type": "code",
   "execution_count": 35,
   "id": "8dd4639e",
   "metadata": {},
   "outputs": [
    {
     "data": {
      "text/plain": [
       "(1394, 4)"
      ]
     },
     "execution_count": 35,
     "metadata": {},
     "output_type": "execute_result"
    }
   ],
   "source": [
    "select_columns = [\"PrimaryInstitution\",\"OrgName\",\"Edit_PI\",\"Edit_OrgName\"]\n",
    "ot = ot[select_columns]\n",
    "ot.shape"
   ]
  },
  {
   "cell_type": "code",
   "execution_count": 36,
   "id": "129c5561",
   "metadata": {},
   "outputs": [
    {
     "data": {
      "text/plain": [
       "(414, 4)"
      ]
     },
     "execution_count": 36,
     "metadata": {},
     "output_type": "execute_result"
    }
   ],
   "source": [
    "ot = ot[~(ot[\"PrimaryInstitution\"].isna() & ot[\"OrgName\"].isna()) & ~(ot[\"Edit_PI\"].isna() & ot[\"Edit_OrgName\"].isna())]\n",
    "ot.shape"
   ]
  },
  {
   "cell_type": "code",
   "execution_count": 37,
   "id": "082ca3a1",
   "metadata": {},
   "outputs": [
    {
     "data": {
      "text/html": [
       "<div>\n",
       "<style scoped>\n",
       "    .dataframe tbody tr th:only-of-type {\n",
       "        vertical-align: middle;\n",
       "    }\n",
       "\n",
       "    .dataframe tbody tr th {\n",
       "        vertical-align: top;\n",
       "    }\n",
       "\n",
       "    .dataframe thead th {\n",
       "        text-align: right;\n",
       "    }\n",
       "</style>\n",
       "<table border=\"1\" class=\"dataframe\">\n",
       "  <thead>\n",
       "    <tr style=\"text-align: right;\">\n",
       "      <th></th>\n",
       "      <th>PrimaryInstitution</th>\n",
       "      <th>OrgName</th>\n",
       "      <th>Edit_PI</th>\n",
       "      <th>Edit_OrgName</th>\n",
       "    </tr>\n",
       "  </thead>\n",
       "  <tbody>\n",
       "  </tbody>\n",
       "</table>\n",
       "</div>"
      ],
      "text/plain": [
       "Empty DataFrame\n",
       "Columns: [PrimaryInstitution, OrgName, Edit_PI, Edit_OrgName]\n",
       "Index: []"
      ]
     },
     "execution_count": 37,
     "metadata": {},
     "output_type": "execute_result"
    }
   ],
   "source": [
    "ot[ot[\"PrimaryInstitution\"].isna() & ot[\"OrgName\"].isna()]"
   ]
  },
  {
   "cell_type": "code",
   "execution_count": 40,
   "id": "2415bde4",
   "metadata": {},
   "outputs": [
    {
     "data": {
      "text/html": [
       "<div>\n",
       "<style scoped>\n",
       "    .dataframe tbody tr th:only-of-type {\n",
       "        vertical-align: middle;\n",
       "    }\n",
       "\n",
       "    .dataframe tbody tr th {\n",
       "        vertical-align: top;\n",
       "    }\n",
       "\n",
       "    .dataframe thead th {\n",
       "        text-align: right;\n",
       "    }\n",
       "</style>\n",
       "<table border=\"1\" class=\"dataframe\">\n",
       "  <thead>\n",
       "    <tr style=\"text-align: right;\">\n",
       "      <th></th>\n",
       "      <th>PrimaryInstitution</th>\n",
       "      <th>OrgName</th>\n",
       "      <th>Edit_PI</th>\n",
       "      <th>Edit_OrgName</th>\n",
       "    </tr>\n",
       "  </thead>\n",
       "  <tbody>\n",
       "  </tbody>\n",
       "</table>\n",
       "</div>"
      ],
      "text/plain": [
       "Empty DataFrame\n",
       "Columns: [PrimaryInstitution, OrgName, Edit_PI, Edit_OrgName]\n",
       "Index: []"
      ]
     },
     "execution_count": 40,
     "metadata": {},
     "output_type": "execute_result"
    }
   ],
   "source": [
    "ot[ot[\"Edit_PI\"].isna() & ot[\"Edit_OrgName\"].isna()]"
   ]
  },
  {
   "cell_type": "code",
   "execution_count": 42,
   "id": "5463095f",
   "metadata": {},
   "outputs": [
    {
     "data": {
      "text/html": [
       "<div>\n",
       "<style scoped>\n",
       "    .dataframe tbody tr th:only-of-type {\n",
       "        vertical-align: middle;\n",
       "    }\n",
       "\n",
       "    .dataframe tbody tr th {\n",
       "        vertical-align: top;\n",
       "    }\n",
       "\n",
       "    .dataframe thead th {\n",
       "        text-align: right;\n",
       "    }\n",
       "</style>\n",
       "<table border=\"1\" class=\"dataframe\">\n",
       "  <thead>\n",
       "    <tr style=\"text-align: right;\">\n",
       "      <th></th>\n",
       "      <th>PrimaryInstitution</th>\n",
       "      <th>OrgName</th>\n",
       "      <th>Edit_PI</th>\n",
       "      <th>Edit_OrgName</th>\n",
       "    </tr>\n",
       "  </thead>\n",
       "  <tbody>\n",
       "    <tr>\n",
       "      <th>0</th>\n",
       "      <td>6.15공동선언실천남북공동위원회북측위원회</td>\n",
       "      <td>NaN</td>\n",
       "      <td>6.15공동선언실천남북공동위원회북측위원회</td>\n",
       "      <td>NaN</td>\n",
       "    </tr>\n",
       "    <tr>\n",
       "      <th>3</th>\n",
       "      <td>노동당</td>\n",
       "      <td>연락부</td>\n",
       "      <td>Uncertain</td>\n",
       "      <td>NaN</td>\n",
       "    </tr>\n",
       "    <tr>\n",
       "      <th>4</th>\n",
       "      <td>개성방직공장</td>\n",
       "      <td>NaN</td>\n",
       "      <td>개성방직공장</td>\n",
       "      <td>NaN</td>\n",
       "    </tr>\n",
       "    <tr>\n",
       "      <th>5</th>\n",
       "      <td>공산청년동맹</td>\n",
       "      <td>공산청년동맹</td>\n",
       "      <td>공산청년동맹</td>\n",
       "      <td>NaN</td>\n",
       "    </tr>\n",
       "    <tr>\n",
       "      <th>6</th>\n",
       "      <td>공산청년동맹</td>\n",
       "      <td>NaN</td>\n",
       "      <td>공산청년동맹</td>\n",
       "      <td>NaN</td>\n",
       "    </tr>\n",
       "    <tr>\n",
       "      <th>...</th>\n",
       "      <td>...</td>\n",
       "      <td>...</td>\n",
       "      <td>...</td>\n",
       "      <td>...</td>\n",
       "    </tr>\n",
       "    <tr>\n",
       "      <th>416</th>\n",
       "      <td>노동당</td>\n",
       "      <td>조선태권도협회</td>\n",
       "      <td>태권도협회</td>\n",
       "      <td>NaN</td>\n",
       "    </tr>\n",
       "    <tr>\n",
       "      <th>417</th>\n",
       "      <td>태천발전소</td>\n",
       "      <td>NaN</td>\n",
       "      <td>태천발전소</td>\n",
       "      <td>NaN</td>\n",
       "    </tr>\n",
       "    <tr>\n",
       "      <th>418</th>\n",
       "      <td>평양영화대학</td>\n",
       "      <td>NaN</td>\n",
       "      <td>평양영화대학</td>\n",
       "      <td>NaN</td>\n",
       "    </tr>\n",
       "    <tr>\n",
       "      <th>419</th>\n",
       "      <td>평양예술단</td>\n",
       "      <td>NaN</td>\n",
       "      <td>평양예술단</td>\n",
       "      <td>NaN</td>\n",
       "    </tr>\n",
       "    <tr>\n",
       "      <th>424</th>\n",
       "      <td>후방군관학교</td>\n",
       "      <td>NaN</td>\n",
       "      <td>후방군관학교</td>\n",
       "      <td>NaN</td>\n",
       "    </tr>\n",
       "  </tbody>\n",
       "</table>\n",
       "<p>98 rows × 4 columns</p>\n",
       "</div>"
      ],
      "text/plain": [
       "         PrimaryInstitution  OrgName                 Edit_PI Edit_OrgName\n",
       "0    6.15공동선언실천남북공동위원회북측위원회      NaN  6.15공동선언실천남북공동위원회북측위원회          NaN\n",
       "3                       노동당      연락부               Uncertain          NaN\n",
       "4                    개성방직공장      NaN                  개성방직공장          NaN\n",
       "5                    공산청년동맹   공산청년동맹                  공산청년동맹          NaN\n",
       "6                    공산청년동맹      NaN                  공산청년동맹          NaN\n",
       "..                      ...      ...                     ...          ...\n",
       "416                     노동당  조선태권도협회                   태권도협회          NaN\n",
       "417                   태천발전소      NaN                   태천발전소          NaN\n",
       "418                  평양영화대학      NaN                  평양영화대학          NaN\n",
       "419                   평양예술단      NaN                   평양예술단          NaN\n",
       "424                  후방군관학교      NaN                  후방군관학교          NaN\n",
       "\n",
       "[98 rows x 4 columns]"
      ]
     },
     "execution_count": 42,
     "metadata": {},
     "output_type": "execute_result"
    }
   ],
   "source": [
    "ot[ot[\"Edit_OrgName\"].isna()]"
   ]
  },
  {
   "cell_type": "code",
   "execution_count": 43,
   "id": "f1e4444b",
   "metadata": {},
   "outputs": [
    {
     "data": {
      "text/plain": [
       "(0, 4)"
      ]
     },
     "execution_count": 43,
     "metadata": {},
     "output_type": "execute_result"
    }
   ],
   "source": [
    "ot[ot.duplicated()].shape"
   ]
  },
  {
   "cell_type": "code",
   "execution_count": 44,
   "id": "47837064",
   "metadata": {},
   "outputs": [
    {
     "data": {
      "text/html": [
       "<div>\n",
       "<style scoped>\n",
       "    .dataframe tbody tr th:only-of-type {\n",
       "        vertical-align: middle;\n",
       "    }\n",
       "\n",
       "    .dataframe tbody tr th {\n",
       "        vertical-align: top;\n",
       "    }\n",
       "\n",
       "    .dataframe thead th {\n",
       "        text-align: right;\n",
       "    }\n",
       "</style>\n",
       "<table border=\"1\" class=\"dataframe\">\n",
       "  <thead>\n",
       "    <tr style=\"text-align: right;\">\n",
       "      <th></th>\n",
       "      <th>CareerString</th>\n",
       "      <th>CareerDateString_2022</th>\n",
       "      <th>IsJob</th>\n",
       "      <th>MultipleSubstrings</th>\n",
       "      <th>CareerStartYear</th>\n",
       "      <th>CareerStartMonth</th>\n",
       "      <th>CareerSubstring</th>\n",
       "      <th>OrgString</th>\n",
       "      <th>PositionString</th>\n",
       "      <th>PrimaryInstitution</th>\n",
       "      <th>OrgName</th>\n",
       "      <th>Notes</th>\n",
       "      <th>_merge</th>\n",
       "    </tr>\n",
       "  </thead>\n",
       "  <tbody>\n",
       "    <tr>\n",
       "      <th>0</th>\n",
       "      <td>△국토환경보호성 상 △조선자연보호연맹 중앙위원회 위원장 * 전임: 박송남</td>\n",
       "      <td>2009.11</td>\n",
       "      <td>1.0</td>\n",
       "      <td>2.0</td>\n",
       "      <td>2009</td>\n",
       "      <td>11.0</td>\n",
       "      <td>국토환경보호성 상</td>\n",
       "      <td>NaN</td>\n",
       "      <td>NaN</td>\n",
       "      <td>NaN</td>\n",
       "      <td>NaN</td>\n",
       "      <td>NaN</td>\n",
       "      <td>left_only</td>\n",
       "    </tr>\n",
       "    <tr>\n",
       "      <th>1</th>\n",
       "      <td>△국토환경보호성 상 △조선자연보호연맹 중앙위원회 위원장 * 전임: 박송남</td>\n",
       "      <td>2009.11</td>\n",
       "      <td>1.0</td>\n",
       "      <td>2.0</td>\n",
       "      <td>2009</td>\n",
       "      <td>11.0</td>\n",
       "      <td>조선자연보호연맹 중앙위원회 위원장</td>\n",
       "      <td>NaN</td>\n",
       "      <td>NaN</td>\n",
       "      <td>NaN</td>\n",
       "      <td>NaN</td>\n",
       "      <td>NaN</td>\n",
       "      <td>left_only</td>\n",
       "    </tr>\n",
       "  </tbody>\n",
       "</table>\n",
       "</div>"
      ],
      "text/plain": [
       "                               CareerString CareerDateString_2022  IsJob  \\\n",
       "0  △국토환경보호성 상 △조선자연보호연맹 중앙위원회 위원장 * 전임: 박송남               2009.11    1.0   \n",
       "1  △국토환경보호성 상 △조선자연보호연맹 중앙위원회 위원장 * 전임: 박송남               2009.11    1.0   \n",
       "\n",
       "   MultipleSubstrings CareerStartYear  CareerStartMonth     CareerSubstring  \\\n",
       "0                 2.0            2009              11.0           국토환경보호성 상   \n",
       "1                 2.0            2009              11.0  조선자연보호연맹 중앙위원회 위원장   \n",
       "\n",
       "  OrgString PositionString PrimaryInstitution OrgName Notes     _merge  \n",
       "0       NaN            NaN                NaN     NaN   NaN  left_only  \n",
       "1       NaN            NaN                NaN     NaN   NaN  left_only  "
      ]
     },
     "execution_count": 44,
     "metadata": {},
     "output_type": "execute_result"
    }
   ],
   "source": [
    "c.head(2)"
   ]
  },
  {
   "cell_type": "code",
   "execution_count": 47,
   "id": "a07452e3",
   "metadata": {},
   "outputs": [],
   "source": [
    "c.rename(columns={\"_merge\":\"_merge_orgstring\"},inplace=True)"
   ]
  },
  {
   "cell_type": "code",
   "execution_count": 48,
   "id": "b4f5f9db",
   "metadata": {},
   "outputs": [
    {
     "data": {
      "text/plain": [
       "(9001, 16)"
      ]
     },
     "execution_count": 48,
     "metadata": {},
     "output_type": "execute_result"
    }
   ],
   "source": [
    "select_columns = [\"PrimaryInstitution\",\"OrgName\"]\n",
    "c2 = c.merge(ot,on=select_columns,how=\"left\",indicator=True)\n",
    "c2.shape"
   ]
  },
  {
   "cell_type": "code",
   "execution_count": 49,
   "id": "8bfa4881",
   "metadata": {},
   "outputs": [
    {
     "data": {
      "text/html": [
       "<div>\n",
       "<style scoped>\n",
       "    .dataframe tbody tr th:only-of-type {\n",
       "        vertical-align: middle;\n",
       "    }\n",
       "\n",
       "    .dataframe tbody tr th {\n",
       "        vertical-align: top;\n",
       "    }\n",
       "\n",
       "    .dataframe thead th {\n",
       "        text-align: right;\n",
       "    }\n",
       "</style>\n",
       "<table border=\"1\" class=\"dataframe\">\n",
       "  <thead>\n",
       "    <tr style=\"text-align: right;\">\n",
       "      <th></th>\n",
       "      <th>CareerString</th>\n",
       "      <th>CareerDateString_2022</th>\n",
       "      <th>IsJob</th>\n",
       "      <th>MultipleSubstrings</th>\n",
       "      <th>CareerStartYear</th>\n",
       "      <th>CareerStartMonth</th>\n",
       "      <th>CareerSubstring</th>\n",
       "      <th>OrgString</th>\n",
       "      <th>PositionString</th>\n",
       "      <th>PrimaryInstitution</th>\n",
       "      <th>OrgName</th>\n",
       "      <th>Notes</th>\n",
       "      <th>_merge_orgstring</th>\n",
       "      <th>Edit_PI</th>\n",
       "      <th>Edit_OrgName</th>\n",
       "    </tr>\n",
       "    <tr>\n",
       "      <th>_merge</th>\n",
       "      <th></th>\n",
       "      <th></th>\n",
       "      <th></th>\n",
       "      <th></th>\n",
       "      <th></th>\n",
       "      <th></th>\n",
       "      <th></th>\n",
       "      <th></th>\n",
       "      <th></th>\n",
       "      <th></th>\n",
       "      <th></th>\n",
       "      <th></th>\n",
       "      <th></th>\n",
       "      <th></th>\n",
       "      <th></th>\n",
       "    </tr>\n",
       "  </thead>\n",
       "  <tbody>\n",
       "    <tr>\n",
       "      <th>left_only</th>\n",
       "      <td>7899</td>\n",
       "      <td>4340</td>\n",
       "      <td>7899</td>\n",
       "      <td>1474</td>\n",
       "      <td>6123</td>\n",
       "      <td>5519</td>\n",
       "      <td>1603</td>\n",
       "      <td>5395</td>\n",
       "      <td>5396</td>\n",
       "      <td>3907</td>\n",
       "      <td>2840</td>\n",
       "      <td>83</td>\n",
       "      <td>7905</td>\n",
       "      <td>0</td>\n",
       "      <td>0</td>\n",
       "    </tr>\n",
       "    <tr>\n",
       "      <th>right_only</th>\n",
       "      <td>0</td>\n",
       "      <td>0</td>\n",
       "      <td>0</td>\n",
       "      <td>0</td>\n",
       "      <td>0</td>\n",
       "      <td>0</td>\n",
       "      <td>0</td>\n",
       "      <td>0</td>\n",
       "      <td>0</td>\n",
       "      <td>0</td>\n",
       "      <td>0</td>\n",
       "      <td>0</td>\n",
       "      <td>0</td>\n",
       "      <td>0</td>\n",
       "      <td>0</td>\n",
       "    </tr>\n",
       "    <tr>\n",
       "      <th>both</th>\n",
       "      <td>1094</td>\n",
       "      <td>555</td>\n",
       "      <td>1094</td>\n",
       "      <td>100</td>\n",
       "      <td>1043</td>\n",
       "      <td>920</td>\n",
       "      <td>111</td>\n",
       "      <td>1096</td>\n",
       "      <td>1084</td>\n",
       "      <td>1096</td>\n",
       "      <td>796</td>\n",
       "      <td>33</td>\n",
       "      <td>1096</td>\n",
       "      <td>1096</td>\n",
       "      <td>785</td>\n",
       "    </tr>\n",
       "  </tbody>\n",
       "</table>\n",
       "</div>"
      ],
      "text/plain": [
       "            CareerString  CareerDateString_2022  IsJob  MultipleSubstrings  \\\n",
       "_merge                                                                       \n",
       "left_only           7899                   4340   7899                1474   \n",
       "right_only             0                      0      0                   0   \n",
       "both                1094                    555   1094                 100   \n",
       "\n",
       "            CareerStartYear  CareerStartMonth  CareerSubstring  OrgString  \\\n",
       "_merge                                                                      \n",
       "left_only              6123              5519             1603       5395   \n",
       "right_only                0                 0                0          0   \n",
       "both                   1043               920              111       1096   \n",
       "\n",
       "            PositionString  PrimaryInstitution  OrgName  Notes  \\\n",
       "_merge                                                           \n",
       "left_only             5396                3907     2840     83   \n",
       "right_only               0                   0        0      0   \n",
       "both                  1084                1096      796     33   \n",
       "\n",
       "            _merge_orgstring  Edit_PI  Edit_OrgName  \n",
       "_merge                                               \n",
       "left_only               7905        0             0  \n",
       "right_only                 0        0             0  \n",
       "both                    1096     1096           785  "
      ]
     },
     "execution_count": 49,
     "metadata": {},
     "output_type": "execute_result"
    }
   ],
   "source": [
    "c2.groupby(\"_merge\").count()"
   ]
  },
  {
   "cell_type": "code",
   "execution_count": 52,
   "id": "242e7d0c",
   "metadata": {},
   "outputs": [
    {
     "data": {
      "text/html": [
       "<div>\n",
       "<style scoped>\n",
       "    .dataframe tbody tr th:only-of-type {\n",
       "        vertical-align: middle;\n",
       "    }\n",
       "\n",
       "    .dataframe tbody tr th {\n",
       "        vertical-align: top;\n",
       "    }\n",
       "\n",
       "    .dataframe thead th {\n",
       "        text-align: right;\n",
       "    }\n",
       "</style>\n",
       "<table border=\"1\" class=\"dataframe\">\n",
       "  <thead>\n",
       "    <tr style=\"text-align: right;\">\n",
       "      <th></th>\n",
       "      <th>CareerString</th>\n",
       "      <th>CareerDateString_2022</th>\n",
       "      <th>IsJob</th>\n",
       "      <th>MultipleSubstrings</th>\n",
       "      <th>CareerStartYear</th>\n",
       "      <th>CareerStartMonth</th>\n",
       "      <th>CareerSubstring</th>\n",
       "      <th>OrgString</th>\n",
       "      <th>PositionString</th>\n",
       "      <th>PrimaryInstitution</th>\n",
       "      <th>OrgName</th>\n",
       "      <th>Notes</th>\n",
       "      <th>_merge_orgstring</th>\n",
       "      <th>Edit_PI</th>\n",
       "      <th>Edit_OrgName</th>\n",
       "      <th>_merge</th>\n",
       "    </tr>\n",
       "  </thead>\n",
       "  <tbody>\n",
       "    <tr>\n",
       "      <th>2790</th>\n",
       "      <td>1962. 5 인민군 중장, 민족보위성 정치안전국 국장</td>\n",
       "      <td>NaN</td>\n",
       "      <td>1.0</td>\n",
       "      <td>NaN</td>\n",
       "      <td>1962</td>\n",
       "      <td>5.0</td>\n",
       "      <td>민족보위성 정치안전국 국장</td>\n",
       "      <td>민족보위성 정치안전국</td>\n",
       "      <td>국장</td>\n",
       "      <td>국방위원회</td>\n",
       "      <td>민족보위성</td>\n",
       "      <td>NaN</td>\n",
       "      <td>both</td>\n",
       "      <td>내각</td>\n",
       "      <td>민족보위성</td>\n",
       "      <td>both</td>\n",
       "    </tr>\n",
       "    <tr>\n",
       "      <th>2922</th>\n",
       "      <td>1971. 채취공업위원회 지도원, 기사장</td>\n",
       "      <td>NaN</td>\n",
       "      <td>1.0</td>\n",
       "      <td>2.0</td>\n",
       "      <td>1971</td>\n",
       "      <td>NaN</td>\n",
       "      <td>채취공업위원회 기사장</td>\n",
       "      <td>재취공업위원회</td>\n",
       "      <td>기사장</td>\n",
       "      <td>내각</td>\n",
       "      <td>채취공업위원회</td>\n",
       "      <td>채취공업위원회는 없음…; 비고: 채취공업성</td>\n",
       "      <td>both</td>\n",
       "      <td>정무원</td>\n",
       "      <td>채취공업위원회</td>\n",
       "      <td>both</td>\n",
       "    </tr>\n",
       "  </tbody>\n",
       "</table>\n",
       "</div>"
      ],
      "text/plain": [
       "                        CareerString CareerDateString_2022  IsJob  \\\n",
       "2790  1962. 5 인민군 중장, 민족보위성 정치안전국 국장                   NaN    1.0   \n",
       "2922          1971. 채취공업위원회 지도원, 기사장                   NaN    1.0   \n",
       "\n",
       "      MultipleSubstrings CareerStartYear  CareerStartMonth CareerSubstring  \\\n",
       "2790                 NaN            1962               5.0  민족보위성 정치안전국 국장   \n",
       "2922                 2.0            1971               NaN     채취공업위원회 기사장   \n",
       "\n",
       "        OrgString PositionString PrimaryInstitution  OrgName  \\\n",
       "2790  민족보위성 정치안전국             국장              국방위원회    민족보위성   \n",
       "2922      재취공업위원회            기사장                 내각  채취공업위원회   \n",
       "\n",
       "                        Notes _merge_orgstring Edit_PI Edit_OrgName _merge  \n",
       "2790                      NaN             both      내각        민족보위성   both  \n",
       "2922  채취공업위원회는 없음…; 비고: 채취공업성             both     정무원      채취공업위원회   both  "
      ]
     },
     "execution_count": 52,
     "metadata": {},
     "output_type": "execute_result"
    }
   ],
   "source": [
    "c2[c2[\"_merge\"]==\"both\"].head(2)"
   ]
  },
  {
   "cell_type": "code",
   "execution_count": 53,
   "id": "05eed81e",
   "metadata": {},
   "outputs": [],
   "source": [
    "c2.loc[c2[\"_merge\"]==\"both\",\"PrimaryInstitution\"] = c2.loc[c2[\"_merge\"]==\"both\",\"Edit_PI\"]\n",
    "c2.loc[c2[\"_merge\"]==\"both\",\"OrgName\"] = c2.loc[c2[\"_merge\"]==\"both\",\"Edit_OrgName\"]"
   ]
  },
  {
   "cell_type": "code",
   "execution_count": 54,
   "id": "7f35f038",
   "metadata": {},
   "outputs": [
    {
     "data": {
      "text/html": [
       "<div>\n",
       "<style scoped>\n",
       "    .dataframe tbody tr th:only-of-type {\n",
       "        vertical-align: middle;\n",
       "    }\n",
       "\n",
       "    .dataframe tbody tr th {\n",
       "        vertical-align: top;\n",
       "    }\n",
       "\n",
       "    .dataframe thead th {\n",
       "        text-align: right;\n",
       "    }\n",
       "</style>\n",
       "<table border=\"1\" class=\"dataframe\">\n",
       "  <thead>\n",
       "    <tr style=\"text-align: right;\">\n",
       "      <th></th>\n",
       "      <th>CareerString</th>\n",
       "      <th>CareerDateString_2022</th>\n",
       "      <th>IsJob</th>\n",
       "      <th>MultipleSubstrings</th>\n",
       "      <th>CareerStartYear</th>\n",
       "      <th>CareerStartMonth</th>\n",
       "      <th>CareerSubstring</th>\n",
       "      <th>OrgString</th>\n",
       "      <th>PositionString</th>\n",
       "      <th>PrimaryInstitution</th>\n",
       "      <th>OrgName</th>\n",
       "      <th>Notes</th>\n",
       "      <th>_merge_orgstring</th>\n",
       "      <th>Edit_PI</th>\n",
       "      <th>Edit_OrgName</th>\n",
       "      <th>_merge</th>\n",
       "    </tr>\n",
       "  </thead>\n",
       "  <tbody>\n",
       "    <tr>\n",
       "      <th>2790</th>\n",
       "      <td>1962. 5 인민군 중장, 민족보위성 정치안전국 국장</td>\n",
       "      <td>NaN</td>\n",
       "      <td>1.0</td>\n",
       "      <td>NaN</td>\n",
       "      <td>1962</td>\n",
       "      <td>5.0</td>\n",
       "      <td>민족보위성 정치안전국 국장</td>\n",
       "      <td>민족보위성 정치안전국</td>\n",
       "      <td>국장</td>\n",
       "      <td>내각</td>\n",
       "      <td>민족보위성</td>\n",
       "      <td>NaN</td>\n",
       "      <td>both</td>\n",
       "      <td>내각</td>\n",
       "      <td>민족보위성</td>\n",
       "      <td>both</td>\n",
       "    </tr>\n",
       "    <tr>\n",
       "      <th>2922</th>\n",
       "      <td>1971. 채취공업위원회 지도원, 기사장</td>\n",
       "      <td>NaN</td>\n",
       "      <td>1.0</td>\n",
       "      <td>2.0</td>\n",
       "      <td>1971</td>\n",
       "      <td>NaN</td>\n",
       "      <td>채취공업위원회 기사장</td>\n",
       "      <td>재취공업위원회</td>\n",
       "      <td>기사장</td>\n",
       "      <td>정무원</td>\n",
       "      <td>채취공업위원회</td>\n",
       "      <td>채취공업위원회는 없음…; 비고: 채취공업성</td>\n",
       "      <td>both</td>\n",
       "      <td>정무원</td>\n",
       "      <td>채취공업위원회</td>\n",
       "      <td>both</td>\n",
       "    </tr>\n",
       "  </tbody>\n",
       "</table>\n",
       "</div>"
      ],
      "text/plain": [
       "                        CareerString CareerDateString_2022  IsJob  \\\n",
       "2790  1962. 5 인민군 중장, 민족보위성 정치안전국 국장                   NaN    1.0   \n",
       "2922          1971. 채취공업위원회 지도원, 기사장                   NaN    1.0   \n",
       "\n",
       "      MultipleSubstrings CareerStartYear  CareerStartMonth CareerSubstring  \\\n",
       "2790                 NaN            1962               5.0  민족보위성 정치안전국 국장   \n",
       "2922                 2.0            1971               NaN     채취공업위원회 기사장   \n",
       "\n",
       "        OrgString PositionString PrimaryInstitution  OrgName  \\\n",
       "2790  민족보위성 정치안전국             국장                 내각    민족보위성   \n",
       "2922      재취공업위원회            기사장                정무원  채취공업위원회   \n",
       "\n",
       "                        Notes _merge_orgstring Edit_PI Edit_OrgName _merge  \n",
       "2790                      NaN             both      내각        민족보위성   both  \n",
       "2922  채취공업위원회는 없음…; 비고: 채취공업성             both     정무원      채취공업위원회   both  "
      ]
     },
     "execution_count": 54,
     "metadata": {},
     "output_type": "execute_result"
    }
   ],
   "source": [
    "c2[c2[\"_merge\"]==\"both\"].head(2)"
   ]
  },
  {
   "cell_type": "code",
   "execution_count": 78,
   "id": "5426195e",
   "metadata": {},
   "outputs": [],
   "source": [
    "c2.drop(columns=[\"Edit_PI\",\"Edit_OrgName\",\"_merge\"],inplace=True)"
   ]
  },
  {
   "cell_type": "markdown",
   "id": "7f7ff9b1",
   "metadata": {},
   "source": [
    "# 2. from jol, edits to PrimaryInstitution,OrgName, Position "
   ]
  },
  {
   "cell_type": "code",
   "execution_count": 88,
   "id": "32d23baf",
   "metadata": {},
   "outputs": [
    {
     "data": {
      "text/html": [
       "<div>\n",
       "<style scoped>\n",
       "    .dataframe tbody tr th:only-of-type {\n",
       "        vertical-align: middle;\n",
       "    }\n",
       "\n",
       "    .dataframe tbody tr th {\n",
       "        vertical-align: top;\n",
       "    }\n",
       "\n",
       "    .dataframe thead th {\n",
       "        text-align: right;\n",
       "    }\n",
       "</style>\n",
       "<table border=\"1\" class=\"dataframe\">\n",
       "  <thead>\n",
       "    <tr style=\"text-align: right;\">\n",
       "      <th></th>\n",
       "      <th>CareerStringID</th>\n",
       "      <th>CareerString</th>\n",
       "      <th>CareerSubstring</th>\n",
       "      <th>CareerStartYear</th>\n",
       "      <th>CareerStartMonth</th>\n",
       "      <th>OrgString</th>\n",
       "      <th>PrimaryInstitution</th>\n",
       "      <th>OrgName</th>\n",
       "      <th>Edit_PI</th>\n",
       "      <th>Edit_OrgName</th>\n",
       "      <th>InOrgTree</th>\n",
       "      <th>Position</th>\n",
       "      <th>Edit_Position</th>\n",
       "      <th>NotJob</th>\n",
       "      <th>Notes</th>\n",
       "    </tr>\n",
       "  </thead>\n",
       "  <tbody>\n",
       "    <tr>\n",
       "      <th>0</th>\n",
       "      <td>4.0</td>\n",
       "      <td>노동성 상(유임)</td>\n",
       "      <td>NaN</td>\n",
       "      <td>1999</td>\n",
       "      <td>2.0</td>\n",
       "      <td>노동성</td>\n",
       "      <td>내각</td>\n",
       "      <td>노동성</td>\n",
       "      <td>NaN</td>\n",
       "      <td>NaN</td>\n",
       "      <td>NaN</td>\n",
       "      <td>상</td>\n",
       "      <td>NaN</td>\n",
       "      <td>NaN</td>\n",
       "      <td>NaN</td>\n",
       "    </tr>\n",
       "    <tr>\n",
       "      <th>1</th>\n",
       "      <td>1875.0</td>\n",
       "      <td>1998. 9 노동상</td>\n",
       "      <td>NaN</td>\n",
       "      <td>1998</td>\n",
       "      <td>9.0</td>\n",
       "      <td>노동성</td>\n",
       "      <td>내각</td>\n",
       "      <td>노동성</td>\n",
       "      <td>NaN</td>\n",
       "      <td>NaN</td>\n",
       "      <td>NaN</td>\n",
       "      <td>상</td>\n",
       "      <td>NaN</td>\n",
       "      <td>NaN</td>\n",
       "      <td>NaN</td>\n",
       "    </tr>\n",
       "  </tbody>\n",
       "</table>\n",
       "</div>"
      ],
      "text/plain": [
       "   CareerStringID CareerString CareerSubstring CareerStartYear  \\\n",
       "0             4.0    노동성 상(유임)             NaN            1999   \n",
       "1          1875.0  1998. 9 노동상             NaN            1998   \n",
       "\n",
       "   CareerStartMonth OrgString PrimaryInstitution OrgName Edit_PI Edit_OrgName  \\\n",
       "0               2.0       노동성                 내각     노동성     NaN          NaN   \n",
       "1               9.0       노동성                 내각     노동성     NaN          NaN   \n",
       "\n",
       "  InOrgTree Position Edit_Position  NotJob Notes  \n",
       "0       NaN        상           NaN     NaN   NaN  \n",
       "1       NaN        상           NaN     NaN   NaN  "
      ]
     },
     "execution_count": 88,
     "metadata": {},
     "output_type": "execute_result"
    }
   ],
   "source": [
    "jol.head(2)"
   ]
  },
  {
   "cell_type": "code",
   "execution_count": 97,
   "id": "da5eb20c",
   "metadata": {},
   "outputs": [
    {
     "data": {
      "text/plain": [
       "(5013, 8)"
      ]
     },
     "execution_count": 97,
     "metadata": {},
     "output_type": "execute_result"
    }
   ],
   "source": [
    "select_columns = [\"CareerString\",\"CareerStartYear\",\"CareerStartMonth\",\"OrgString\",\"PrimaryInstitution\",\"OrgName\",\"Edit_PI\",\"Edit_OrgName\"]\n",
    "jolpi = jol[select_columns]\n",
    "jolpi.shape"
   ]
  },
  {
   "cell_type": "code",
   "execution_count": 98,
   "id": "9355e7d6",
   "metadata": {},
   "outputs": [
    {
     "data": {
      "text/plain": [
       "(668, 8)"
      ]
     },
     "execution_count": 98,
     "metadata": {},
     "output_type": "execute_result"
    }
   ],
   "source": [
    "jolpi = jolpi[~(jolpi[\"PrimaryInstitution\"].isna() & jolpi[\"OrgName\"].isna()) & ~(jolpi[\"Edit_PI\"].isna() & jolpi[\"Edit_OrgName\"].isna())]\n",
    "jolpi.shape"
   ]
  },
  {
   "cell_type": "code",
   "execution_count": 99,
   "id": "85f97f4b",
   "metadata": {},
   "outputs": [
    {
     "data": {
      "text/html": [
       "<div>\n",
       "<style scoped>\n",
       "    .dataframe tbody tr th:only-of-type {\n",
       "        vertical-align: middle;\n",
       "    }\n",
       "\n",
       "    .dataframe tbody tr th {\n",
       "        vertical-align: top;\n",
       "    }\n",
       "\n",
       "    .dataframe thead th {\n",
       "        text-align: right;\n",
       "    }\n",
       "</style>\n",
       "<table border=\"1\" class=\"dataframe\">\n",
       "  <thead>\n",
       "    <tr style=\"text-align: right;\">\n",
       "      <th></th>\n",
       "      <th>CareerString</th>\n",
       "      <th>CareerStartYear</th>\n",
       "      <th>CareerStartMonth</th>\n",
       "      <th>OrgString</th>\n",
       "      <th>PrimaryInstitution</th>\n",
       "      <th>OrgName</th>\n",
       "      <th>Edit_PI</th>\n",
       "      <th>Edit_OrgName</th>\n",
       "    </tr>\n",
       "  </thead>\n",
       "  <tbody>\n",
       "  </tbody>\n",
       "</table>\n",
       "</div>"
      ],
      "text/plain": [
       "Empty DataFrame\n",
       "Columns: [CareerString, CareerStartYear, CareerStartMonth, OrgString, PrimaryInstitution, OrgName, Edit_PI, Edit_OrgName]\n",
       "Index: []"
      ]
     },
     "execution_count": 99,
     "metadata": {},
     "output_type": "execute_result"
    }
   ],
   "source": [
    "jolpi[jolpi[\"PrimaryInstitution\"].isna() & jolpi[\"OrgName\"].isna()]"
   ]
  },
  {
   "cell_type": "code",
   "execution_count": 100,
   "id": "52727bc6",
   "metadata": {},
   "outputs": [
    {
     "data": {
      "text/html": [
       "<div>\n",
       "<style scoped>\n",
       "    .dataframe tbody tr th:only-of-type {\n",
       "        vertical-align: middle;\n",
       "    }\n",
       "\n",
       "    .dataframe tbody tr th {\n",
       "        vertical-align: top;\n",
       "    }\n",
       "\n",
       "    .dataframe thead th {\n",
       "        text-align: right;\n",
       "    }\n",
       "</style>\n",
       "<table border=\"1\" class=\"dataframe\">\n",
       "  <thead>\n",
       "    <tr style=\"text-align: right;\">\n",
       "      <th></th>\n",
       "      <th>CareerString</th>\n",
       "      <th>CareerStartYear</th>\n",
       "      <th>CareerStartMonth</th>\n",
       "      <th>OrgString</th>\n",
       "      <th>PrimaryInstitution</th>\n",
       "      <th>OrgName</th>\n",
       "      <th>Edit_PI</th>\n",
       "      <th>Edit_OrgName</th>\n",
       "    </tr>\n",
       "  </thead>\n",
       "  <tbody>\n",
       "  </tbody>\n",
       "</table>\n",
       "</div>"
      ],
      "text/plain": [
       "Empty DataFrame\n",
       "Columns: [CareerString, CareerStartYear, CareerStartMonth, OrgString, PrimaryInstitution, OrgName, Edit_PI, Edit_OrgName]\n",
       "Index: []"
      ]
     },
     "execution_count": 100,
     "metadata": {},
     "output_type": "execute_result"
    }
   ],
   "source": [
    "jolpi[jolpi[\"Edit_PI\"].isna() & jolpi[\"Edit_OrgName\"].isna()]"
   ]
  },
  {
   "cell_type": "code",
   "execution_count": 101,
   "id": "f0594f61",
   "metadata": {},
   "outputs": [],
   "source": [
    "# jolpi[jolpi[\"OrgName\"].isna()]"
   ]
  },
  {
   "cell_type": "code",
   "execution_count": 102,
   "id": "9f1c9b64",
   "metadata": {},
   "outputs": [
    {
     "data": {
      "text/plain": [
       "(9001, 13)"
      ]
     },
     "execution_count": 102,
     "metadata": {},
     "output_type": "execute_result"
    }
   ],
   "source": [
    "c2.shape"
   ]
  },
  {
   "cell_type": "code",
   "execution_count": 110,
   "id": "cdf62570",
   "metadata": {},
   "outputs": [
    {
     "data": {
      "text/plain": [
       "(17, 13)"
      ]
     },
     "execution_count": 110,
     "metadata": {},
     "output_type": "execute_result"
    }
   ],
   "source": [
    "c2_uncertain = c2[c2[\"PrimaryInstitution\"]==\"Uncertain\"]\n",
    "c2_uncertain.shape"
   ]
  },
  {
   "cell_type": "code",
   "execution_count": 113,
   "id": "94b5bb1a",
   "metadata": {},
   "outputs": [
    {
     "data": {
      "text/plain": [
       "(8984, 13)"
      ]
     },
     "execution_count": 113,
     "metadata": {},
     "output_type": "execute_result"
    }
   ],
   "source": [
    "c2_certain = c2[~(c2[\"PrimaryInstitution\"]==\"Uncertain\")]\n",
    "c2_certain.shape"
   ]
  },
  {
   "cell_type": "code",
   "execution_count": 114,
   "id": "116aa706",
   "metadata": {},
   "outputs": [
    {
     "data": {
      "text/plain": [
       "(10355, 18)"
      ]
     },
     "execution_count": 114,
     "metadata": {},
     "output_type": "execute_result"
    }
   ],
   "source": [
    "select_columns = [\"CareerString\",\"OrgString\",\"PrimaryInstitution\",\"OrgName\"]\n",
    "c3 = c2_certain.merge(jolpi,on=select_columns,how=\"left\",indicator=True)\n",
    "c3.shape"
   ]
  },
  {
   "cell_type": "code",
   "execution_count": 106,
   "id": "80826630",
   "metadata": {},
   "outputs": [
    {
     "data": {
      "text/html": [
       "<div>\n",
       "<style scoped>\n",
       "    .dataframe tbody tr th:only-of-type {\n",
       "        vertical-align: middle;\n",
       "    }\n",
       "\n",
       "    .dataframe tbody tr th {\n",
       "        vertical-align: top;\n",
       "    }\n",
       "\n",
       "    .dataframe thead th {\n",
       "        text-align: right;\n",
       "    }\n",
       "</style>\n",
       "<table border=\"1\" class=\"dataframe\">\n",
       "  <thead>\n",
       "    <tr style=\"text-align: right;\">\n",
       "      <th></th>\n",
       "      <th>CareerString</th>\n",
       "      <th>CareerDateString_2022</th>\n",
       "      <th>IsJob</th>\n",
       "      <th>MultipleSubstrings</th>\n",
       "      <th>CareerStartYear_x</th>\n",
       "      <th>CareerStartMonth_x</th>\n",
       "      <th>CareerSubstring</th>\n",
       "      <th>OrgString</th>\n",
       "      <th>PositionString</th>\n",
       "      <th>PrimaryInstitution</th>\n",
       "      <th>OrgName</th>\n",
       "      <th>Notes</th>\n",
       "      <th>_merge_orgstring</th>\n",
       "      <th>CareerStartYear_y</th>\n",
       "      <th>CareerStartMonth_y</th>\n",
       "      <th>Edit_PI</th>\n",
       "      <th>Edit_OrgName</th>\n",
       "    </tr>\n",
       "    <tr>\n",
       "      <th>_merge</th>\n",
       "      <th></th>\n",
       "      <th></th>\n",
       "      <th></th>\n",
       "      <th></th>\n",
       "      <th></th>\n",
       "      <th></th>\n",
       "      <th></th>\n",
       "      <th></th>\n",
       "      <th></th>\n",
       "      <th></th>\n",
       "      <th></th>\n",
       "      <th></th>\n",
       "      <th></th>\n",
       "      <th></th>\n",
       "      <th></th>\n",
       "      <th></th>\n",
       "      <th></th>\n",
       "    </tr>\n",
       "  </thead>\n",
       "  <tbody>\n",
       "    <tr>\n",
       "      <th>left_only</th>\n",
       "      <td>8516</td>\n",
       "      <td>4627</td>\n",
       "      <td>8516</td>\n",
       "      <td>1534</td>\n",
       "      <td>6712</td>\n",
       "      <td>6039</td>\n",
       "      <td>1673</td>\n",
       "      <td>6014</td>\n",
       "      <td>6006</td>\n",
       "      <td>4526</td>\n",
       "      <td>3291</td>\n",
       "      <td>110</td>\n",
       "      <td>8524</td>\n",
       "      <td>0</td>\n",
       "      <td>0</td>\n",
       "      <td>0</td>\n",
       "      <td>0</td>\n",
       "    </tr>\n",
       "    <tr>\n",
       "      <th>right_only</th>\n",
       "      <td>0</td>\n",
       "      <td>0</td>\n",
       "      <td>0</td>\n",
       "      <td>0</td>\n",
       "      <td>0</td>\n",
       "      <td>0</td>\n",
       "      <td>0</td>\n",
       "      <td>0</td>\n",
       "      <td>0</td>\n",
       "      <td>0</td>\n",
       "      <td>0</td>\n",
       "      <td>0</td>\n",
       "      <td>0</td>\n",
       "      <td>0</td>\n",
       "      <td>0</td>\n",
       "      <td>0</td>\n",
       "      <td>0</td>\n",
       "    </tr>\n",
       "    <tr>\n",
       "      <th>both</th>\n",
       "      <td>1848</td>\n",
       "      <td>1611</td>\n",
       "      <td>1848</td>\n",
       "      <td>66</td>\n",
       "      <td>1768</td>\n",
       "      <td>1586</td>\n",
       "      <td>68</td>\n",
       "      <td>1848</td>\n",
       "      <td>1845</td>\n",
       "      <td>1848</td>\n",
       "      <td>487</td>\n",
       "      <td>6</td>\n",
       "      <td>1848</td>\n",
       "      <td>1773</td>\n",
       "      <td>1590</td>\n",
       "      <td>1848</td>\n",
       "      <td>1845</td>\n",
       "    </tr>\n",
       "  </tbody>\n",
       "</table>\n",
       "</div>"
      ],
      "text/plain": [
       "            CareerString  CareerDateString_2022  IsJob  MultipleSubstrings  \\\n",
       "_merge                                                                       \n",
       "left_only           8516                   4627   8516                1534   \n",
       "right_only             0                      0      0                   0   \n",
       "both                1848                   1611   1848                  66   \n",
       "\n",
       "            CareerStartYear_x  CareerStartMonth_x  CareerSubstring  OrgString  \\\n",
       "_merge                                                                          \n",
       "left_only                6712                6039             1673       6014   \n",
       "right_only                  0                   0                0          0   \n",
       "both                     1768                1586               68       1848   \n",
       "\n",
       "            PositionString  PrimaryInstitution  OrgName  Notes  \\\n",
       "_merge                                                           \n",
       "left_only             6006                4526     3291    110   \n",
       "right_only               0                   0        0      0   \n",
       "both                  1845                1848      487      6   \n",
       "\n",
       "            _merge_orgstring  CareerStartYear_y  CareerStartMonth_y  Edit_PI  \\\n",
       "_merge                                                                         \n",
       "left_only               8524                  0                   0        0   \n",
       "right_only                 0                  0                   0        0   \n",
       "both                    1848               1773                1590     1848   \n",
       "\n",
       "            Edit_OrgName  \n",
       "_merge                    \n",
       "left_only              0  \n",
       "right_only             0  \n",
       "both                1845  "
      ]
     },
     "execution_count": 106,
     "metadata": {},
     "output_type": "execute_result"
    }
   ],
   "source": [
    "c3.groupby(\"_merge\").count()"
   ]
  },
  {
   "cell_type": "code",
   "execution_count": 84,
   "id": "c43cfa5c",
   "metadata": {},
   "outputs": [
    {
     "data": {
      "text/plain": [
       "485"
      ]
     },
     "execution_count": 84,
     "metadata": {},
     "output_type": "execute_result"
    }
   ],
   "source": [
    "9001 - 8516"
   ]
  },
  {
   "cell_type": "code",
   "execution_count": 108,
   "id": "10f362ea",
   "metadata": {},
   "outputs": [
    {
     "data": {
      "text/html": [
       "<div>\n",
       "<style scoped>\n",
       "    .dataframe tbody tr th:only-of-type {\n",
       "        vertical-align: middle;\n",
       "    }\n",
       "\n",
       "    .dataframe tbody tr th {\n",
       "        vertical-align: top;\n",
       "    }\n",
       "\n",
       "    .dataframe thead th {\n",
       "        text-align: right;\n",
       "    }\n",
       "</style>\n",
       "<table border=\"1\" class=\"dataframe\">\n",
       "  <thead>\n",
       "    <tr style=\"text-align: right;\">\n",
       "      <th></th>\n",
       "      <th>CareerString</th>\n",
       "      <th>CareerDateString_2022</th>\n",
       "      <th>IsJob</th>\n",
       "      <th>MultipleSubstrings</th>\n",
       "      <th>CareerStartYear_x</th>\n",
       "      <th>CareerStartMonth_x</th>\n",
       "      <th>CareerSubstring</th>\n",
       "      <th>OrgString</th>\n",
       "      <th>PositionString</th>\n",
       "      <th>PrimaryInstitution</th>\n",
       "      <th>OrgName</th>\n",
       "      <th>Notes</th>\n",
       "      <th>_merge_orgstring</th>\n",
       "      <th>CareerStartYear_y</th>\n",
       "      <th>CareerStartMonth_y</th>\n",
       "      <th>Edit_PI</th>\n",
       "      <th>Edit_OrgName</th>\n",
       "      <th>_merge</th>\n",
       "    </tr>\n",
       "  </thead>\n",
       "  <tbody>\n",
       "    <tr>\n",
       "      <th>6079</th>\n",
       "      <td>당 정치국 후보위원, 당 중앙군사위원회 위원, 당 기계공업부장, 당 중앙위원회 위원</td>\n",
       "      <td>2010.09</td>\n",
       "      <td>1.0</td>\n",
       "      <td>4.0</td>\n",
       "      <td>2010</td>\n",
       "      <td>9.0</td>\n",
       "      <td>당 기계공업부장</td>\n",
       "      <td>당 기계공업부</td>\n",
       "      <td>부장</td>\n",
       "      <td>Uncertain</td>\n",
       "      <td>Uncertain</td>\n",
       "      <td>NaN</td>\n",
       "      <td>both</td>\n",
       "      <td>NaN</td>\n",
       "      <td>NaN</td>\n",
       "      <td>NaN</td>\n",
       "      <td>NaN</td>\n",
       "      <td>left_only</td>\n",
       "    </tr>\n",
       "    <tr>\n",
       "      <th>6080</th>\n",
       "      <td>1983. 8 당 기계공업부 부부장</td>\n",
       "      <td>NaN</td>\n",
       "      <td>1.0</td>\n",
       "      <td>NaN</td>\n",
       "      <td>1983</td>\n",
       "      <td>8.0</td>\n",
       "      <td>NaN</td>\n",
       "      <td>당 기계공업부</td>\n",
       "      <td>부부장</td>\n",
       "      <td>Uncertain</td>\n",
       "      <td>Uncertain</td>\n",
       "      <td>NaN</td>\n",
       "      <td>both</td>\n",
       "      <td>NaN</td>\n",
       "      <td>NaN</td>\n",
       "      <td>NaN</td>\n",
       "      <td>NaN</td>\n",
       "      <td>left_only</td>\n",
       "    </tr>\n",
       "    <tr>\n",
       "      <th>6081</th>\n",
       "      <td>당 기계공업부 부부장</td>\n",
       "      <td>1983.08</td>\n",
       "      <td>1.0</td>\n",
       "      <td>NaN</td>\n",
       "      <td>1983</td>\n",
       "      <td>8.0</td>\n",
       "      <td>NaN</td>\n",
       "      <td>당 기계공업부</td>\n",
       "      <td>부부장</td>\n",
       "      <td>Uncertain</td>\n",
       "      <td>Uncertain</td>\n",
       "      <td>NaN</td>\n",
       "      <td>both</td>\n",
       "      <td>NaN</td>\n",
       "      <td>NaN</td>\n",
       "      <td>NaN</td>\n",
       "      <td>NaN</td>\n",
       "      <td>left_only</td>\n",
       "    </tr>\n",
       "    <tr>\n",
       "      <th>6197</th>\n",
       "      <td>1953. 김일성 경호대장</td>\n",
       "      <td>NaN</td>\n",
       "      <td>1.0</td>\n",
       "      <td>NaN</td>\n",
       "      <td>1953</td>\n",
       "      <td>NaN</td>\n",
       "      <td>NaN</td>\n",
       "      <td>김일성 경호대</td>\n",
       "      <td>경호대장</td>\n",
       "      <td>Uncertain</td>\n",
       "      <td>Uncertain</td>\n",
       "      <td>NaN</td>\n",
       "      <td>both</td>\n",
       "      <td>NaN</td>\n",
       "      <td>NaN</td>\n",
       "      <td>NaN</td>\n",
       "      <td>NaN</td>\n",
       "      <td>left_only</td>\n",
       "    </tr>\n",
       "    <tr>\n",
       "      <th>6418</th>\n",
       "      <td>1962. 당 중공업부 부부장</td>\n",
       "      <td>NaN</td>\n",
       "      <td>1.0</td>\n",
       "      <td>NaN</td>\n",
       "      <td>NaN</td>\n",
       "      <td>NaN</td>\n",
       "      <td>NaN</td>\n",
       "      <td>당 중공업부</td>\n",
       "      <td>부부장</td>\n",
       "      <td>Uncertain</td>\n",
       "      <td>Uncertain</td>\n",
       "      <td>NaN</td>\n",
       "      <td>both</td>\n",
       "      <td>NaN</td>\n",
       "      <td>NaN</td>\n",
       "      <td>NaN</td>\n",
       "      <td>NaN</td>\n",
       "      <td>left_only</td>\n",
       "    </tr>\n",
       "    <tr>\n",
       "      <th>6419</th>\n",
       "      <td>1968. 당 중공업부 부장</td>\n",
       "      <td>NaN</td>\n",
       "      <td>1.0</td>\n",
       "      <td>NaN</td>\n",
       "      <td>1968</td>\n",
       "      <td>NaN</td>\n",
       "      <td>NaN</td>\n",
       "      <td>당 중공업부</td>\n",
       "      <td>부장</td>\n",
       "      <td>Uncertain</td>\n",
       "      <td>Uncertain</td>\n",
       "      <td>NaN</td>\n",
       "      <td>both</td>\n",
       "      <td>NaN</td>\n",
       "      <td>NaN</td>\n",
       "      <td>NaN</td>\n",
       "      <td>NaN</td>\n",
       "      <td>left_only</td>\n",
       "    </tr>\n",
       "    <tr>\n",
       "      <th>6420</th>\n",
       "      <td>당 중공업부 부부장</td>\n",
       "      <td>1962</td>\n",
       "      <td>1.0</td>\n",
       "      <td>NaN</td>\n",
       "      <td>1962</td>\n",
       "      <td>NaN</td>\n",
       "      <td>NaN</td>\n",
       "      <td>당 중공업부</td>\n",
       "      <td>부부장</td>\n",
       "      <td>Uncertain</td>\n",
       "      <td>Uncertain</td>\n",
       "      <td>NaN</td>\n",
       "      <td>both</td>\n",
       "      <td>NaN</td>\n",
       "      <td>NaN</td>\n",
       "      <td>NaN</td>\n",
       "      <td>NaN</td>\n",
       "      <td>left_only</td>\n",
       "    </tr>\n",
       "    <tr>\n",
       "      <th>6421</th>\n",
       "      <td>당 중공업부장</td>\n",
       "      <td>1968</td>\n",
       "      <td>1.0</td>\n",
       "      <td>NaN</td>\n",
       "      <td>1968</td>\n",
       "      <td>NaN</td>\n",
       "      <td>NaN</td>\n",
       "      <td>당 중공업부</td>\n",
       "      <td>장</td>\n",
       "      <td>Uncertain</td>\n",
       "      <td>Uncertain</td>\n",
       "      <td>NaN</td>\n",
       "      <td>both</td>\n",
       "      <td>NaN</td>\n",
       "      <td>NaN</td>\n",
       "      <td>NaN</td>\n",
       "      <td>NaN</td>\n",
       "      <td>left_only</td>\n",
       "    </tr>\n",
       "    <tr>\n",
       "      <th>6422</th>\n",
       "      <td>당 중공업부장</td>\n",
       "      <td>1992.01</td>\n",
       "      <td>1.0</td>\n",
       "      <td>NaN</td>\n",
       "      <td>1992</td>\n",
       "      <td>1.0</td>\n",
       "      <td>NaN</td>\n",
       "      <td>당 중공업부</td>\n",
       "      <td>장</td>\n",
       "      <td>Uncertain</td>\n",
       "      <td>Uncertain</td>\n",
       "      <td>NaN</td>\n",
       "      <td>both</td>\n",
       "      <td>NaN</td>\n",
       "      <td>NaN</td>\n",
       "      <td>NaN</td>\n",
       "      <td>NaN</td>\n",
       "      <td>left_only</td>\n",
       "    </tr>\n",
       "    <tr>\n",
       "      <th>7419</th>\n",
       "      <td>1988.10 당 중앙위 중공업부 부장</td>\n",
       "      <td>NaN</td>\n",
       "      <td>1.0</td>\n",
       "      <td>NaN</td>\n",
       "      <td>1988</td>\n",
       "      <td>10.0</td>\n",
       "      <td>NaN</td>\n",
       "      <td>노동당 중앙인민위원회 중공업부 제1부</td>\n",
       "      <td>부장</td>\n",
       "      <td>Uncertain</td>\n",
       "      <td>Uncertain</td>\n",
       "      <td>1부 Not found; 비고: 중앙인민위원회 is a PrimaryInstitut...</td>\n",
       "      <td>both</td>\n",
       "      <td>NaN</td>\n",
       "      <td>NaN</td>\n",
       "      <td>NaN</td>\n",
       "      <td>NaN</td>\n",
       "      <td>left_only</td>\n",
       "    </tr>\n",
       "  </tbody>\n",
       "</table>\n",
       "</div>"
      ],
      "text/plain": [
       "                                        CareerString CareerDateString_2022  \\\n",
       "6079  당 정치국 후보위원, 당 중앙군사위원회 위원, 당 기계공업부장, 당 중앙위원회 위원               2010.09   \n",
       "6080                             1983. 8 당 기계공업부 부부장                   NaN   \n",
       "6081                                     당 기계공업부 부부장               1983.08   \n",
       "6197                                  1953. 김일성 경호대장                   NaN   \n",
       "6418                                1962. 당 중공업부 부부장                   NaN   \n",
       "6419                                 1968. 당 중공업부 부장                   NaN   \n",
       "6420                                      당 중공업부 부부장                  1962   \n",
       "6421                                         당 중공업부장                  1968   \n",
       "6422                                         당 중공업부장               1992.01   \n",
       "7419                           1988.10 당 중앙위 중공업부 부장                   NaN   \n",
       "\n",
       "      IsJob  MultipleSubstrings CareerStartYear_x  CareerStartMonth_x  \\\n",
       "6079    1.0                 4.0              2010                 9.0   \n",
       "6080    1.0                 NaN              1983                 8.0   \n",
       "6081    1.0                 NaN              1983                 8.0   \n",
       "6197    1.0                 NaN              1953                 NaN   \n",
       "6418    1.0                 NaN               NaN                 NaN   \n",
       "6419    1.0                 NaN              1968                 NaN   \n",
       "6420    1.0                 NaN              1962                 NaN   \n",
       "6421    1.0                 NaN              1968                 NaN   \n",
       "6422    1.0                 NaN              1992                 1.0   \n",
       "7419    1.0                 NaN              1988                10.0   \n",
       "\n",
       "     CareerSubstring             OrgString PositionString PrimaryInstitution  \\\n",
       "6079        당 기계공업부장               당 기계공업부             부장          Uncertain   \n",
       "6080             NaN               당 기계공업부            부부장          Uncertain   \n",
       "6081             NaN               당 기계공업부            부부장          Uncertain   \n",
       "6197             NaN               김일성 경호대           경호대장          Uncertain   \n",
       "6418             NaN                당 중공업부            부부장          Uncertain   \n",
       "6419             NaN                당 중공업부             부장          Uncertain   \n",
       "6420             NaN                당 중공업부            부부장          Uncertain   \n",
       "6421             NaN                당 중공업부              장          Uncertain   \n",
       "6422             NaN                당 중공업부              장          Uncertain   \n",
       "7419             NaN  노동당 중앙인민위원회 중공업부 제1부             부장          Uncertain   \n",
       "\n",
       "        OrgName                                              Notes  \\\n",
       "6079  Uncertain                                                NaN   \n",
       "6080  Uncertain                                                NaN   \n",
       "6081  Uncertain                                                NaN   \n",
       "6197  Uncertain                                                NaN   \n",
       "6418  Uncertain                                                NaN   \n",
       "6419  Uncertain                                                NaN   \n",
       "6420  Uncertain                                                NaN   \n",
       "6421  Uncertain                                                NaN   \n",
       "6422  Uncertain                                                NaN   \n",
       "7419  Uncertain  1부 Not found; 비고: 중앙인민위원회 is a PrimaryInstitut...   \n",
       "\n",
       "     _merge_orgstring CareerStartYear_y  CareerStartMonth_y Edit_PI  \\\n",
       "6079             both               NaN                 NaN     NaN   \n",
       "6080             both               NaN                 NaN     NaN   \n",
       "6081             both               NaN                 NaN     NaN   \n",
       "6197             both               NaN                 NaN     NaN   \n",
       "6418             both               NaN                 NaN     NaN   \n",
       "6419             both               NaN                 NaN     NaN   \n",
       "6420             both               NaN                 NaN     NaN   \n",
       "6421             both               NaN                 NaN     NaN   \n",
       "6422             both               NaN                 NaN     NaN   \n",
       "7419             both               NaN                 NaN     NaN   \n",
       "\n",
       "     Edit_OrgName     _merge  \n",
       "6079          NaN  left_only  \n",
       "6080          NaN  left_only  \n",
       "6081          NaN  left_only  \n",
       "6197          NaN  left_only  \n",
       "6418          NaN  left_only  \n",
       "6419          NaN  left_only  \n",
       "6420          NaN  left_only  \n",
       "6421          NaN  left_only  \n",
       "6422          NaN  left_only  \n",
       "7419          NaN  left_only  "
      ]
     },
     "execution_count": 108,
     "metadata": {},
     "output_type": "execute_result"
    }
   ],
   "source": [
    "c3[c3[\"PrimaryInstitution\"]==\"Uncertain\"].head(10)"
   ]
  },
  {
   "cell_type": "code",
   "execution_count": 76,
   "id": "7b296393",
   "metadata": {},
   "outputs": [
    {
     "ename": "KeyError",
     "evalue": "'Edit_PI'",
     "output_type": "error",
     "traceback": [
      "\u001b[1;31m---------------------------------------------------------------------------\u001b[0m",
      "\u001b[1;31mKeyError\u001b[0m                                  Traceback (most recent call last)",
      "File \u001b[1;32m~\\AppData\\Local\\Programs\\Python\\Python311\\Lib\\site-packages\\pandas\\core\\indexes\\base.py:3803\u001b[0m, in \u001b[0;36mIndex.get_loc\u001b[1;34m(self, key, method, tolerance)\u001b[0m\n\u001b[0;32m   3802\u001b[0m \u001b[38;5;28;01mtry\u001b[39;00m:\n\u001b[1;32m-> 3803\u001b[0m     \u001b[38;5;28;01mreturn\u001b[39;00m \u001b[38;5;28;43mself\u001b[39;49m\u001b[38;5;241;43m.\u001b[39;49m\u001b[43m_engine\u001b[49m\u001b[38;5;241;43m.\u001b[39;49m\u001b[43mget_loc\u001b[49m\u001b[43m(\u001b[49m\u001b[43mcasted_key\u001b[49m\u001b[43m)\u001b[49m\n\u001b[0;32m   3804\u001b[0m \u001b[38;5;28;01mexcept\u001b[39;00m \u001b[38;5;167;01mKeyError\u001b[39;00m \u001b[38;5;28;01mas\u001b[39;00m err:\n",
      "File \u001b[1;32m~\\AppData\\Local\\Programs\\Python\\Python311\\Lib\\site-packages\\pandas\\_libs\\index.pyx:138\u001b[0m, in \u001b[0;36mpandas._libs.index.IndexEngine.get_loc\u001b[1;34m()\u001b[0m\n",
      "File \u001b[1;32m~\\AppData\\Local\\Programs\\Python\\Python311\\Lib\\site-packages\\pandas\\_libs\\index.pyx:165\u001b[0m, in \u001b[0;36mpandas._libs.index.IndexEngine.get_loc\u001b[1;34m()\u001b[0m\n",
      "File \u001b[1;32mpandas\\_libs\\hashtable_class_helper.pxi:5745\u001b[0m, in \u001b[0;36mpandas._libs.hashtable.PyObjectHashTable.get_item\u001b[1;34m()\u001b[0m\n",
      "File \u001b[1;32mpandas\\_libs\\hashtable_class_helper.pxi:5753\u001b[0m, in \u001b[0;36mpandas._libs.hashtable.PyObjectHashTable.get_item\u001b[1;34m()\u001b[0m\n",
      "\u001b[1;31mKeyError\u001b[0m: 'Edit_PI'",
      "\nThe above exception was the direct cause of the following exception:\n",
      "\u001b[1;31mKeyError\u001b[0m                                  Traceback (most recent call last)",
      "Cell \u001b[1;32mIn [76], line 1\u001b[0m\n\u001b[1;32m----> 1\u001b[0m c3[\u001b[38;5;241m~\u001b[39m\u001b[43mc3\u001b[49m\u001b[43m[\u001b[49m\u001b[38;5;124;43m\"\u001b[39;49m\u001b[38;5;124;43mEdit_PI\u001b[39;49m\u001b[38;5;124;43m\"\u001b[39;49m\u001b[43m]\u001b[49m\u001b[38;5;241m.\u001b[39misna()]\u001b[38;5;241m.\u001b[39mhead(\u001b[38;5;241m10\u001b[39m)\n",
      "File \u001b[1;32m~\\AppData\\Local\\Programs\\Python\\Python311\\Lib\\site-packages\\pandas\\core\\frame.py:3805\u001b[0m, in \u001b[0;36mDataFrame.__getitem__\u001b[1;34m(self, key)\u001b[0m\n\u001b[0;32m   3803\u001b[0m \u001b[38;5;28;01mif\u001b[39;00m \u001b[38;5;28mself\u001b[39m\u001b[38;5;241m.\u001b[39mcolumns\u001b[38;5;241m.\u001b[39mnlevels \u001b[38;5;241m>\u001b[39m \u001b[38;5;241m1\u001b[39m:\n\u001b[0;32m   3804\u001b[0m     \u001b[38;5;28;01mreturn\u001b[39;00m \u001b[38;5;28mself\u001b[39m\u001b[38;5;241m.\u001b[39m_getitem_multilevel(key)\n\u001b[1;32m-> 3805\u001b[0m indexer \u001b[38;5;241m=\u001b[39m \u001b[38;5;28;43mself\u001b[39;49m\u001b[38;5;241;43m.\u001b[39;49m\u001b[43mcolumns\u001b[49m\u001b[38;5;241;43m.\u001b[39;49m\u001b[43mget_loc\u001b[49m\u001b[43m(\u001b[49m\u001b[43mkey\u001b[49m\u001b[43m)\u001b[49m\n\u001b[0;32m   3806\u001b[0m \u001b[38;5;28;01mif\u001b[39;00m is_integer(indexer):\n\u001b[0;32m   3807\u001b[0m     indexer \u001b[38;5;241m=\u001b[39m [indexer]\n",
      "File \u001b[1;32m~\\AppData\\Local\\Programs\\Python\\Python311\\Lib\\site-packages\\pandas\\core\\indexes\\base.py:3805\u001b[0m, in \u001b[0;36mIndex.get_loc\u001b[1;34m(self, key, method, tolerance)\u001b[0m\n\u001b[0;32m   3803\u001b[0m     \u001b[38;5;28;01mreturn\u001b[39;00m \u001b[38;5;28mself\u001b[39m\u001b[38;5;241m.\u001b[39m_engine\u001b[38;5;241m.\u001b[39mget_loc(casted_key)\n\u001b[0;32m   3804\u001b[0m \u001b[38;5;28;01mexcept\u001b[39;00m \u001b[38;5;167;01mKeyError\u001b[39;00m \u001b[38;5;28;01mas\u001b[39;00m err:\n\u001b[1;32m-> 3805\u001b[0m     \u001b[38;5;28;01mraise\u001b[39;00m \u001b[38;5;167;01mKeyError\u001b[39;00m(key) \u001b[38;5;28;01mfrom\u001b[39;00m \u001b[38;5;21;01merr\u001b[39;00m\n\u001b[0;32m   3806\u001b[0m \u001b[38;5;28;01mexcept\u001b[39;00m \u001b[38;5;167;01mTypeError\u001b[39;00m:\n\u001b[0;32m   3807\u001b[0m     \u001b[38;5;66;03m# If we have a listlike key, _check_indexing_error will raise\u001b[39;00m\n\u001b[0;32m   3808\u001b[0m     \u001b[38;5;66;03m#  InvalidIndexError. Otherwise we fall through and re-raise\u001b[39;00m\n\u001b[0;32m   3809\u001b[0m     \u001b[38;5;66;03m#  the TypeError.\u001b[39;00m\n\u001b[0;32m   3810\u001b[0m     \u001b[38;5;28mself\u001b[39m\u001b[38;5;241m.\u001b[39m_check_indexing_error(key)\n",
      "\u001b[1;31mKeyError\u001b[0m: 'Edit_PI'"
     ]
    }
   ],
   "source": [
    "c3[~c3[\"Edit_PI\"].isna()].head(10)"
   ]
  },
  {
   "cell_type": "code",
   "execution_count": null,
   "id": "688ec8f7",
   "metadata": {},
   "outputs": [],
   "source": []
  },
  {
   "cell_type": "code",
   "execution_count": null,
   "id": "0c839a7c",
   "metadata": {},
   "outputs": [],
   "source": []
  },
  {
   "cell_type": "markdown",
   "id": "36c398bf",
   "metadata": {},
   "source": [
    "# 3. from jol, edits to Position "
   ]
  },
  {
   "cell_type": "code",
   "execution_count": 71,
   "id": "829cdad1",
   "metadata": {},
   "outputs": [
    {
     "data": {
      "text/html": [
       "<div>\n",
       "<style scoped>\n",
       "    .dataframe tbody tr th:only-of-type {\n",
       "        vertical-align: middle;\n",
       "    }\n",
       "\n",
       "    .dataframe tbody tr th {\n",
       "        vertical-align: top;\n",
       "    }\n",
       "\n",
       "    .dataframe thead th {\n",
       "        text-align: right;\n",
       "    }\n",
       "</style>\n",
       "<table border=\"1\" class=\"dataframe\">\n",
       "  <thead>\n",
       "    <tr style=\"text-align: right;\">\n",
       "      <th></th>\n",
       "      <th>CareerString</th>\n",
       "      <th>PrimaryInstitution</th>\n",
       "      <th>OrgName</th>\n",
       "      <th>Edit_PI</th>\n",
       "      <th>Edit_OrgName</th>\n",
       "      <th>Position</th>\n",
       "      <th>Edit_Position</th>\n",
       "    </tr>\n",
       "  </thead>\n",
       "  <tbody>\n",
       "    <tr>\n",
       "      <th>0</th>\n",
       "      <td>노동성 상(유임)</td>\n",
       "      <td>내각</td>\n",
       "      <td>노동성</td>\n",
       "      <td>NaN</td>\n",
       "      <td>NaN</td>\n",
       "      <td>상</td>\n",
       "      <td>NaN</td>\n",
       "    </tr>\n",
       "  </tbody>\n",
       "</table>\n",
       "</div>"
      ],
      "text/plain": [
       "  CareerString PrimaryInstitution OrgName Edit_PI Edit_OrgName Position  \\\n",
       "0    노동성 상(유임)                 내각     노동성     NaN          NaN        상   \n",
       "\n",
       "  Edit_Position  \n",
       "0           NaN  "
      ]
     },
     "execution_count": 71,
     "metadata": {},
     "output_type": "execute_result"
    }
   ],
   "source": [
    "jol.head(1)"
   ]
  },
  {
   "cell_type": "code",
   "execution_count": 67,
   "id": "51881046",
   "metadata": {},
   "outputs": [
    {
     "data": {
      "text/plain": [
       "(5013, 3)"
      ]
     },
     "execution_count": 67,
     "metadata": {},
     "output_type": "execute_result"
    }
   ],
   "source": [
    "select_columns = [\"CareerString\",\"Position\",\"Edit_Position\"]\n",
    "jolpos = jol[select_columns]\n",
    "jolpos.shape"
   ]
  },
  {
   "cell_type": "code",
   "execution_count": 69,
   "id": "79e3596b",
   "metadata": {},
   "outputs": [
    {
     "data": {
      "text/plain": [
       "(68, 3)"
      ]
     },
     "execution_count": 69,
     "metadata": {},
     "output_type": "execute_result"
    }
   ],
   "source": [
    "jolpos = jolpos[~jolpos[\"Edit_Position\"].isna()]\n",
    "jolpos.shape"
   ]
  },
  {
   "cell_type": "code",
   "execution_count": 70,
   "id": "f3949f88",
   "metadata": {},
   "outputs": [
    {
     "data": {
      "text/html": [
       "<div>\n",
       "<style scoped>\n",
       "    .dataframe tbody tr th:only-of-type {\n",
       "        vertical-align: middle;\n",
       "    }\n",
       "\n",
       "    .dataframe tbody tr th {\n",
       "        vertical-align: top;\n",
       "    }\n",
       "\n",
       "    .dataframe thead th {\n",
       "        text-align: right;\n",
       "    }\n",
       "</style>\n",
       "<table border=\"1\" class=\"dataframe\">\n",
       "  <thead>\n",
       "    <tr style=\"text-align: right;\">\n",
       "      <th></th>\n",
       "      <th>CareerString</th>\n",
       "      <th>Position</th>\n",
       "      <th>Edit_Position</th>\n",
       "    </tr>\n",
       "  </thead>\n",
       "  <tbody>\n",
       "  </tbody>\n",
       "</table>\n",
       "</div>"
      ],
      "text/plain": [
       "Empty DataFrame\n",
       "Columns: [CareerString, Position, Edit_Position]\n",
       "Index: []"
      ]
     },
     "execution_count": 70,
     "metadata": {},
     "output_type": "execute_result"
    }
   ],
   "source": [
    "jolpos[jolpos[\"Edit_Position\"].isna()]"
   ]
  },
  {
   "cell_type": "code",
   "execution_count": null,
   "id": "27f6534b",
   "metadata": {},
   "outputs": [],
   "source": []
  }
 ],
 "metadata": {
  "kernelspec": {
   "display_name": "Python 3 (ipykernel)",
   "language": "python",
   "name": "python3"
  },
  "language_info": {
   "codemirror_mode": {
    "name": "ipython",
    "version": 3
   },
   "file_extension": ".py",
   "mimetype": "text/x-python",
   "name": "python",
   "nbconvert_exporter": "python",
   "pygments_lexer": "ipython3",
   "version": "3.11.0"
  }
 },
 "nbformat": 4,
 "nbformat_minor": 5
}
