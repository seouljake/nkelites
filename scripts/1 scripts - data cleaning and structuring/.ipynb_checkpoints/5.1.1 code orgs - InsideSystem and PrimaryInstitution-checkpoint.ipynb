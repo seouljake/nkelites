{
 "cells": [
  {
   "cell_type": "markdown",
   "metadata": {},
   "source": [
    "# libraries & global vars"
   ]
  },
  {
   "cell_type": "code",
   "execution_count": 8,
   "metadata": {},
   "outputs": [],
   "source": [
    "import pandas as pd\n",
    "import numpy as np\n",
    "pd.set_option('display.max_rows', None)"
   ]
  },
  {
   "cell_type": "markdown",
   "metadata": {},
   "source": [
    "# io job_str"
   ]
  },
  {
   "cell_type": "code",
   "execution_count": 2,
   "metadata": {},
   "outputs": [],
   "source": [
    "path_job_str = \"C:/Users/seoul/Dropbox/00 technical/github/nkelites/data/combined data/combined data - 1 cleaning/cleaning step 4 - career/4.3.1 jobs/\""
   ]
  },
  {
   "cell_type": "code",
   "execution_count": 3,
   "metadata": {},
   "outputs": [],
   "source": [
    "filein_job_str = \"job_str_3_db.xlsx\""
   ]
  },
  {
   "cell_type": "code",
   "execution_count": 4,
   "metadata": {},
   "outputs": [],
   "source": [
    "pathout_job_db = \"C:/Users/seoul/Dropbox/00 technical/github/nkelites/data/combined data/combined data - 1 cleaning/cleaning step 5 - orgtree/\""
   ]
  },
  {
   "cell_type": "code",
   "execution_count": 113,
   "metadata": {},
   "outputs": [],
   "source": [
    "fileout_job_db = \"job_db_1.xlsx\""
   ]
  },
  {
   "cell_type": "code",
   "execution_count": null,
   "metadata": {},
   "outputs": [],
   "source": [
    "fileout_job_orglist = \"job_db_1_orglist.xlsx\""
   ]
  },
  {
   "cell_type": "markdown",
   "metadata": {},
   "source": [
    "# import newly parsed unique & multi strings"
   ]
  },
  {
   "cell_type": "code",
   "execution_count": 83,
   "metadata": {},
   "outputs": [],
   "source": [
    "# read in job_str db\n",
    "job_str = pd.read_excel(path_job_str+filein_job_str,dtype=\"str\")"
   ]
  },
  {
   "cell_type": "code",
   "execution_count": 84,
   "metadata": {},
   "outputs": [
    {
     "data": {
      "text/plain": [
       "(6598, 8)"
      ]
     },
     "execution_count": 84,
     "metadata": {},
     "output_type": "execute_result"
    }
   ],
   "source": [
    "job_str.shape"
   ]
  },
  {
   "cell_type": "code",
   "execution_count": 85,
   "metadata": {},
   "outputs": [
    {
     "data": {
      "text/html": [
       "<div>\n",
       "<style scoped>\n",
       "    .dataframe tbody tr th:only-of-type {\n",
       "        vertical-align: middle;\n",
       "    }\n",
       "\n",
       "    .dataframe tbody tr th {\n",
       "        vertical-align: top;\n",
       "    }\n",
       "\n",
       "    .dataframe thead th {\n",
       "        text-align: right;\n",
       "    }\n",
       "</style>\n",
       "<table border=\"1\" class=\"dataframe\">\n",
       "  <thead>\n",
       "    <tr style=\"text-align: right;\">\n",
       "      <th></th>\n",
       "      <th>CareerStringID</th>\n",
       "      <th>CareerString</th>\n",
       "      <th>CareerSubstring</th>\n",
       "      <th>CareerStartYear</th>\n",
       "      <th>CareerStartMonth</th>\n",
       "      <th>OrgString</th>\n",
       "      <th>PositionString</th>\n",
       "      <th>org_pos_str</th>\n",
       "    </tr>\n",
       "  </thead>\n",
       "  <tbody>\n",
       "    <tr>\n",
       "      <th>0</th>\n",
       "      <td>1</td>\n",
       "      <td>개성공단 남북공동위원회 통행통신통관 분과위원회</td>\n",
       "      <td>NaN</td>\n",
       "      <td>2013</td>\n",
       "      <td>9</td>\n",
       "      <td>개성공단 남북공동위원회 통행통신통관 분과위원회</td>\n",
       "      <td>NaN</td>\n",
       "      <td>NaN</td>\n",
       "    </tr>\n",
       "    <tr>\n",
       "      <th>1</th>\n",
       "      <td>2</td>\n",
       "      <td>근로단체부장 해임 * 후임: 리일환</td>\n",
       "      <td>NaN</td>\n",
       "      <td>2014</td>\n",
       "      <td>NaN</td>\n",
       "      <td>근로단체</td>\n",
       "      <td>부장</td>\n",
       "      <td>NaN</td>\n",
       "    </tr>\n",
       "  </tbody>\n",
       "</table>\n",
       "</div>"
      ],
      "text/plain": [
       "  CareerStringID                CareerString CareerSubstring CareerStartYear  \\\n",
       "0              1   개성공단 남북공동위원회 통행통신통관 분과위원회             NaN            2013   \n",
       "1              2         근로단체부장 해임 * 후임: 리일환             NaN            2014   \n",
       "\n",
       "  CareerStartMonth                  OrgString PositionString org_pos_str  \n",
       "0                9  개성공단 남북공동위원회 통행통신통관 분과위원회            NaN         NaN  \n",
       "1              NaN                       근로단체             부장         NaN  "
      ]
     },
     "execution_count": 85,
     "metadata": {},
     "output_type": "execute_result"
    }
   ],
   "source": [
    "job_str[0:2]"
   ]
  },
  {
   "cell_type": "code",
   "execution_count": null,
   "metadata": {},
   "outputs": [],
   "source": []
  },
  {
   "cell_type": "markdown",
   "metadata": {},
   "source": [
    "# add fields: NotJob, InsideGov, PrimaryInstitution"
   ]
  },
  {
   "cell_type": "code",
   "execution_count": 86,
   "metadata": {},
   "outputs": [],
   "source": [
    "job_str[\"NotJob\"]=np.nan\n",
    "job_str[\"InsideGov\"]=np.nan\n",
    "job_str[\"PrimaryInstitution\"]=np.nan"
   ]
  },
  {
   "cell_type": "code",
   "execution_count": 87,
   "metadata": {},
   "outputs": [
    {
     "data": {
      "text/html": [
       "<div>\n",
       "<style scoped>\n",
       "    .dataframe tbody tr th:only-of-type {\n",
       "        vertical-align: middle;\n",
       "    }\n",
       "\n",
       "    .dataframe tbody tr th {\n",
       "        vertical-align: top;\n",
       "    }\n",
       "\n",
       "    .dataframe thead th {\n",
       "        text-align: right;\n",
       "    }\n",
       "</style>\n",
       "<table border=\"1\" class=\"dataframe\">\n",
       "  <thead>\n",
       "    <tr style=\"text-align: right;\">\n",
       "      <th></th>\n",
       "      <th>CareerStringID</th>\n",
       "      <th>CareerString</th>\n",
       "      <th>CareerSubstring</th>\n",
       "      <th>CareerStartYear</th>\n",
       "      <th>CareerStartMonth</th>\n",
       "      <th>OrgString</th>\n",
       "      <th>PositionString</th>\n",
       "      <th>org_pos_str</th>\n",
       "      <th>NotJob</th>\n",
       "      <th>InsideGov</th>\n",
       "      <th>PrimaryInstitution</th>\n",
       "    </tr>\n",
       "  </thead>\n",
       "  <tbody>\n",
       "    <tr>\n",
       "      <th>0</th>\n",
       "      <td>1</td>\n",
       "      <td>개성공단 남북공동위원회 통행통신통관 분과위원회</td>\n",
       "      <td>NaN</td>\n",
       "      <td>2013</td>\n",
       "      <td>9</td>\n",
       "      <td>개성공단 남북공동위원회 통행통신통관 분과위원회</td>\n",
       "      <td>NaN</td>\n",
       "      <td>NaN</td>\n",
       "      <td>NaN</td>\n",
       "      <td>NaN</td>\n",
       "      <td>NaN</td>\n",
       "    </tr>\n",
       "    <tr>\n",
       "      <th>1</th>\n",
       "      <td>2</td>\n",
       "      <td>근로단체부장 해임 * 후임: 리일환</td>\n",
       "      <td>NaN</td>\n",
       "      <td>2014</td>\n",
       "      <td>NaN</td>\n",
       "      <td>근로단체</td>\n",
       "      <td>부장</td>\n",
       "      <td>NaN</td>\n",
       "      <td>NaN</td>\n",
       "      <td>NaN</td>\n",
       "      <td>NaN</td>\n",
       "    </tr>\n",
       "  </tbody>\n",
       "</table>\n",
       "</div>"
      ],
      "text/plain": [
       "  CareerStringID                CareerString CareerSubstring CareerStartYear  \\\n",
       "0              1   개성공단 남북공동위원회 통행통신통관 분과위원회             NaN            2013   \n",
       "1              2         근로단체부장 해임 * 후임: 리일환             NaN            2014   \n",
       "\n",
       "  CareerStartMonth                  OrgString PositionString org_pos_str  \\\n",
       "0                9  개성공단 남북공동위원회 통행통신통관 분과위원회            NaN         NaN   \n",
       "1              NaN                       근로단체             부장         NaN   \n",
       "\n",
       "   NotJob  InsideGov  PrimaryInstitution  \n",
       "0     NaN        NaN                 NaN  \n",
       "1     NaN        NaN                 NaN  "
      ]
     },
     "execution_count": 87,
     "metadata": {},
     "output_type": "execute_result"
    }
   ],
   "source": [
    "job_str[0:2]"
   ]
  },
  {
   "cell_type": "markdown",
   "metadata": {},
   "source": [
    "# populate InsideGov and PrimaryInstitution, using org_pos_str"
   ]
  },
  {
   "cell_type": "code",
   "execution_count": 88,
   "metadata": {},
   "outputs": [
    {
     "data": {
      "text/plain": [
       "(6598, 2)"
      ]
     },
     "execution_count": 88,
     "metadata": {},
     "output_type": "execute_result"
    }
   ],
   "source": [
    "# job_str[~job_str.org_pos_str.isna()]\n",
    "inst = job_str[[\"CareerStringID\",\"org_pos_str\"]]\n",
    "inst.shape"
   ]
  },
  {
   "cell_type": "code",
   "execution_count": 89,
   "metadata": {},
   "outputs": [
    {
     "data": {
      "text/plain": [
       "(3160, 2)"
      ]
     },
     "execution_count": 89,
     "metadata": {},
     "output_type": "execute_result"
    }
   ],
   "source": [
    "inst = inst[~inst.org_pos_str.isna()]\n",
    "inst.shape"
   ]
  },
  {
   "cell_type": "code",
   "execution_count": 90,
   "metadata": {},
   "outputs": [
    {
     "data": {
      "text/plain": [
       "(1641, 2)"
      ]
     },
     "execution_count": 90,
     "metadata": {},
     "output_type": "execute_result"
    }
   ],
   "source": [
    "inst = inst[~inst.org_pos_str.str.contains(\"org1_org2_org3_org4_position\")]\n",
    "inst.shape"
   ]
  },
  {
   "cell_type": "code",
   "execution_count": 91,
   "metadata": {},
   "outputs": [],
   "source": [
    "inst[\"PrimaryInstitution\"] = inst[\"org_pos_str\"].apply(lambda row: row.split(\"_\")[0])"
   ]
  },
  {
   "cell_type": "code",
   "execution_count": 92,
   "metadata": {},
   "outputs": [
    {
     "data": {
      "text/html": [
       "<div>\n",
       "<style scoped>\n",
       "    .dataframe tbody tr th:only-of-type {\n",
       "        vertical-align: middle;\n",
       "    }\n",
       "\n",
       "    .dataframe tbody tr th {\n",
       "        vertical-align: top;\n",
       "    }\n",
       "\n",
       "    .dataframe thead th {\n",
       "        text-align: right;\n",
       "    }\n",
       "</style>\n",
       "<table border=\"1\" class=\"dataframe\">\n",
       "  <thead>\n",
       "    <tr style=\"text-align: right;\">\n",
       "      <th></th>\n",
       "      <th>CareerStringID</th>\n",
       "      <th>org_pos_str</th>\n",
       "      <th>PrimaryInstitution</th>\n",
       "    </tr>\n",
       "  </thead>\n",
       "  <tbody>\n",
       "    <tr>\n",
       "      <th>46</th>\n",
       "      <td>108</td>\n",
       "      <td>인민군 총참모부_1군단_1사단_NA_사단장</td>\n",
       "      <td>인민군 총참모부</td>\n",
       "    </tr>\n",
       "    <tr>\n",
       "      <th>47</th>\n",
       "      <td>109</td>\n",
       "      <td>노동당_중앙위원회_NA_NA_위원</td>\n",
       "      <td>노동당</td>\n",
       "    </tr>\n",
       "    <tr>\n",
       "      <th>49</th>\n",
       "      <td>113</td>\n",
       "      <td>최고인민회의_NA_NA_NA_대의원</td>\n",
       "      <td>최고인민회의</td>\n",
       "    </tr>\n",
       "    <tr>\n",
       "      <th>50</th>\n",
       "      <td>114</td>\n",
       "      <td>인민군 총참모부_X군단_X사단_X연대_연대장</td>\n",
       "      <td>인민군 총참모부</td>\n",
       "    </tr>\n",
       "    <tr>\n",
       "      <th>51</th>\n",
       "      <td>115</td>\n",
       "      <td>최고인민회의_NA_NA_NA_대의원</td>\n",
       "      <td>최고인민회의</td>\n",
       "    </tr>\n",
       "  </tbody>\n",
       "</table>\n",
       "</div>"
      ],
      "text/plain": [
       "   CareerStringID               org_pos_str PrimaryInstitution\n",
       "46            108   인민군 총참모부_1군단_1사단_NA_사단장           인민군 총참모부\n",
       "47            109        노동당_중앙위원회_NA_NA_위원                노동당\n",
       "49            113       최고인민회의_NA_NA_NA_대의원             최고인민회의\n",
       "50            114  인민군 총참모부_X군단_X사단_X연대_연대장           인민군 총참모부\n",
       "51            115       최고인민회의_NA_NA_NA_대의원             최고인민회의"
      ]
     },
     "execution_count": 92,
     "metadata": {},
     "output_type": "execute_result"
    }
   ],
   "source": [
    "inst[0:5]"
   ]
  },
  {
   "cell_type": "code",
   "execution_count": 93,
   "metadata": {},
   "outputs": [],
   "source": [
    "job_str = job_str.merge(inst,on=\"CareerStringID\",how=\"left\",suffixes=(\"\",\"_temp\"))"
   ]
  },
  {
   "cell_type": "code",
   "execution_count": 94,
   "metadata": {},
   "outputs": [
    {
     "data": {
      "text/html": [
       "<div>\n",
       "<style scoped>\n",
       "    .dataframe tbody tr th:only-of-type {\n",
       "        vertical-align: middle;\n",
       "    }\n",
       "\n",
       "    .dataframe tbody tr th {\n",
       "        vertical-align: top;\n",
       "    }\n",
       "\n",
       "    .dataframe thead th {\n",
       "        text-align: right;\n",
       "    }\n",
       "</style>\n",
       "<table border=\"1\" class=\"dataframe\">\n",
       "  <thead>\n",
       "    <tr style=\"text-align: right;\">\n",
       "      <th></th>\n",
       "      <th>CareerStringID</th>\n",
       "      <th>CareerString</th>\n",
       "      <th>CareerSubstring</th>\n",
       "      <th>CareerStartYear</th>\n",
       "      <th>CareerStartMonth</th>\n",
       "      <th>OrgString</th>\n",
       "      <th>PositionString</th>\n",
       "      <th>org_pos_str</th>\n",
       "      <th>NotJob</th>\n",
       "      <th>InsideGov</th>\n",
       "      <th>PrimaryInstitution</th>\n",
       "      <th>org_pos_str_temp</th>\n",
       "      <th>PrimaryInstitution_temp</th>\n",
       "    </tr>\n",
       "  </thead>\n",
       "  <tbody>\n",
       "    <tr>\n",
       "      <th>0</th>\n",
       "      <td>1</td>\n",
       "      <td>개성공단 남북공동위원회 통행통신통관 분과위원회</td>\n",
       "      <td>NaN</td>\n",
       "      <td>2013</td>\n",
       "      <td>9</td>\n",
       "      <td>개성공단 남북공동위원회 통행통신통관 분과위원회</td>\n",
       "      <td>NaN</td>\n",
       "      <td>NaN</td>\n",
       "      <td>NaN</td>\n",
       "      <td>NaN</td>\n",
       "      <td>NaN</td>\n",
       "      <td>NaN</td>\n",
       "      <td>NaN</td>\n",
       "    </tr>\n",
       "    <tr>\n",
       "      <th>1</th>\n",
       "      <td>2</td>\n",
       "      <td>근로단체부장 해임 * 후임: 리일환</td>\n",
       "      <td>NaN</td>\n",
       "      <td>2014</td>\n",
       "      <td>NaN</td>\n",
       "      <td>근로단체</td>\n",
       "      <td>부장</td>\n",
       "      <td>NaN</td>\n",
       "      <td>NaN</td>\n",
       "      <td>NaN</td>\n",
       "      <td>NaN</td>\n",
       "      <td>NaN</td>\n",
       "      <td>NaN</td>\n",
       "    </tr>\n",
       "    <tr>\n",
       "      <th>2</th>\n",
       "      <td>4</td>\n",
       "      <td>노동성 상(유임)</td>\n",
       "      <td>NaN</td>\n",
       "      <td>1999</td>\n",
       "      <td>2</td>\n",
       "      <td>노동성</td>\n",
       "      <td>상</td>\n",
       "      <td>NaN</td>\n",
       "      <td>NaN</td>\n",
       "      <td>NaN</td>\n",
       "      <td>NaN</td>\n",
       "      <td>NaN</td>\n",
       "      <td>NaN</td>\n",
       "    </tr>\n",
       "    <tr>\n",
       "      <th>3</th>\n",
       "      <td>6</td>\n",
       "      <td>당 정치국 후보위원</td>\n",
       "      <td>NaN</td>\n",
       "      <td>2020</td>\n",
       "      <td>1</td>\n",
       "      <td>당 정치룩</td>\n",
       "      <td>위원</td>\n",
       "      <td>NaN</td>\n",
       "      <td>NaN</td>\n",
       "      <td>NaN</td>\n",
       "      <td>NaN</td>\n",
       "      <td>NaN</td>\n",
       "      <td>NaN</td>\n",
       "    </tr>\n",
       "    <tr>\n",
       "      <th>4</th>\n",
       "      <td>7</td>\n",
       "      <td>당 중앙위원회 정치국 위원 (*당 중앙위원회 제7기 제4차 전원회의에서 보선)</td>\n",
       "      <td>NaN</td>\n",
       "      <td>2019</td>\n",
       "      <td>4</td>\n",
       "      <td>당 중앙위원회 정치국</td>\n",
       "      <td>위원</td>\n",
       "      <td>NaN</td>\n",
       "      <td>NaN</td>\n",
       "      <td>NaN</td>\n",
       "      <td>NaN</td>\n",
       "      <td>NaN</td>\n",
       "      <td>NaN</td>\n",
       "    </tr>\n",
       "  </tbody>\n",
       "</table>\n",
       "</div>"
      ],
      "text/plain": [
       "  CareerStringID                                    CareerString  \\\n",
       "0              1                       개성공단 남북공동위원회 통행통신통관 분과위원회   \n",
       "1              2                             근로단체부장 해임 * 후임: 리일환   \n",
       "2              4                                       노동성 상(유임)   \n",
       "3              6                                      당 정치국 후보위원   \n",
       "4              7   당 중앙위원회 정치국 위원 (*당 중앙위원회 제7기 제4차 전원회의에서 보선)     \n",
       "\n",
       "  CareerSubstring CareerStartYear CareerStartMonth                  OrgString  \\\n",
       "0             NaN            2013                9  개성공단 남북공동위원회 통행통신통관 분과위원회   \n",
       "1             NaN            2014              NaN                       근로단체   \n",
       "2             NaN            1999                2                        노동성   \n",
       "3             NaN            2020                1                      당 정치룩   \n",
       "4             NaN            2019                4                당 중앙위원회 정치국   \n",
       "\n",
       "  PositionString org_pos_str  NotJob  InsideGov  PrimaryInstitution  \\\n",
       "0            NaN         NaN     NaN        NaN                 NaN   \n",
       "1             부장         NaN     NaN        NaN                 NaN   \n",
       "2              상         NaN     NaN        NaN                 NaN   \n",
       "3             위원         NaN     NaN        NaN                 NaN   \n",
       "4             위원         NaN     NaN        NaN                 NaN   \n",
       "\n",
       "  org_pos_str_temp PrimaryInstitution_temp  \n",
       "0              NaN                     NaN  \n",
       "1              NaN                     NaN  \n",
       "2              NaN                     NaN  \n",
       "3              NaN                     NaN  \n",
       "4              NaN                     NaN  "
      ]
     },
     "execution_count": 94,
     "metadata": {},
     "output_type": "execute_result"
    }
   ],
   "source": [
    "job_str[0:5]"
   ]
  },
  {
   "cell_type": "code",
   "execution_count": 95,
   "metadata": {},
   "outputs": [],
   "source": [
    "job_str.loc[~job_str.PrimaryInstitution_temp.isna(),\"PrimaryInstitution\"] = job_str.loc[~job_str.PrimaryInstitution_temp.isna(),\"PrimaryInstitution_temp\"] "
   ]
  },
  {
   "cell_type": "code",
   "execution_count": 97,
   "metadata": {},
   "outputs": [
    {
     "data": {
      "text/html": [
       "<div>\n",
       "<style scoped>\n",
       "    .dataframe tbody tr th:only-of-type {\n",
       "        vertical-align: middle;\n",
       "    }\n",
       "\n",
       "    .dataframe tbody tr th {\n",
       "        vertical-align: top;\n",
       "    }\n",
       "\n",
       "    .dataframe thead th {\n",
       "        text-align: right;\n",
       "    }\n",
       "</style>\n",
       "<table border=\"1\" class=\"dataframe\">\n",
       "  <thead>\n",
       "    <tr style=\"text-align: right;\">\n",
       "      <th></th>\n",
       "      <th>CareerStringID</th>\n",
       "      <th>CareerString</th>\n",
       "      <th>CareerSubstring</th>\n",
       "      <th>CareerStartYear</th>\n",
       "      <th>CareerStartMonth</th>\n",
       "      <th>OrgString</th>\n",
       "      <th>PositionString</th>\n",
       "      <th>org_pos_str</th>\n",
       "      <th>NotJob</th>\n",
       "      <th>InsideGov</th>\n",
       "      <th>PrimaryInstitution</th>\n",
       "      <th>org_pos_str_temp</th>\n",
       "      <th>PrimaryInstitution_temp</th>\n",
       "    </tr>\n",
       "  </thead>\n",
       "  <tbody>\n",
       "    <tr>\n",
       "      <th>46</th>\n",
       "      <td>108</td>\n",
       "      <td>1948. 2 인민군 제1사단장</td>\n",
       "      <td>NaN</td>\n",
       "      <td>1948</td>\n",
       "      <td>2</td>\n",
       "      <td>인민군 제1사단</td>\n",
       "      <td>사단장</td>\n",
       "      <td>인민군 총참모부_1군단_1사단_NA_사단장</td>\n",
       "      <td>NaN</td>\n",
       "      <td>NaN</td>\n",
       "      <td>인민군 총참모부</td>\n",
       "      <td>인민군 총참모부_1군단_1사단_NA_사단장</td>\n",
       "      <td>인민군 총참모부</td>\n",
       "    </tr>\n",
       "    <tr>\n",
       "      <th>47</th>\n",
       "      <td>109</td>\n",
       "      <td>1948. 3 당 중앙위 위원</td>\n",
       "      <td>NaN</td>\n",
       "      <td>1948</td>\n",
       "      <td>3</td>\n",
       "      <td>당 중앙위</td>\n",
       "      <td>위원</td>\n",
       "      <td>노동당_중앙위원회_NA_NA_위원</td>\n",
       "      <td>NaN</td>\n",
       "      <td>NaN</td>\n",
       "      <td>노동당</td>\n",
       "      <td>노동당_중앙위원회_NA_NA_위원</td>\n",
       "      <td>노동당</td>\n",
       "    </tr>\n",
       "    <tr>\n",
       "      <th>49</th>\n",
       "      <td>113</td>\n",
       "      <td>1948. 8 최고인민회의 제1기 대의원</td>\n",
       "      <td>NaN</td>\n",
       "      <td>1948</td>\n",
       "      <td>8</td>\n",
       "      <td>최고인민회의 제1기</td>\n",
       "      <td>대의원</td>\n",
       "      <td>최고인민회의_NA_NA_NA_대의원</td>\n",
       "      <td>NaN</td>\n",
       "      <td>NaN</td>\n",
       "      <td>최고인민회의</td>\n",
       "      <td>최고인민회의_NA_NA_NA_대의원</td>\n",
       "      <td>최고인민회의</td>\n",
       "    </tr>\n",
       "    <tr>\n",
       "      <th>50</th>\n",
       "      <td>114</td>\n",
       "      <td>1948. 8 인민군 연대장</td>\n",
       "      <td>NaN</td>\n",
       "      <td>1948</td>\n",
       "      <td>8</td>\n",
       "      <td>인민군</td>\n",
       "      <td>연대장</td>\n",
       "      <td>인민군 총참모부_X군단_X사단_X연대_연대장</td>\n",
       "      <td>NaN</td>\n",
       "      <td>NaN</td>\n",
       "      <td>인민군 총참모부</td>\n",
       "      <td>인민군 총참모부_X군단_X사단_X연대_연대장</td>\n",
       "      <td>인민군 총참모부</td>\n",
       "    </tr>\n",
       "    <tr>\n",
       "      <th>51</th>\n",
       "      <td>115</td>\n",
       "      <td>1948. 8 최고인민회의 제1기 대의원</td>\n",
       "      <td>NaN</td>\n",
       "      <td>1948</td>\n",
       "      <td>8</td>\n",
       "      <td>최고인민회의 제1기</td>\n",
       "      <td>대의원</td>\n",
       "      <td>최고인민회의_NA_NA_NA_대의원</td>\n",
       "      <td>NaN</td>\n",
       "      <td>NaN</td>\n",
       "      <td>최고인민회의</td>\n",
       "      <td>최고인민회의_NA_NA_NA_대의원</td>\n",
       "      <td>최고인민회의</td>\n",
       "    </tr>\n",
       "  </tbody>\n",
       "</table>\n",
       "</div>"
      ],
      "text/plain": [
       "   CareerStringID            CareerString CareerSubstring CareerStartYear  \\\n",
       "46            108       1948. 2 인민군 제1사단장             NaN            1948   \n",
       "47            109        1948. 3 당 중앙위 위원             NaN            1948   \n",
       "49            113  1948. 8 최고인민회의 제1기 대의원             NaN            1948   \n",
       "50            114         1948. 8 인민군 연대장             NaN            1948   \n",
       "51            115  1948. 8 최고인민회의 제1기 대의원             NaN            1948   \n",
       "\n",
       "   CareerStartMonth   OrgString PositionString               org_pos_str  \\\n",
       "46                2    인민군 제1사단            사단장   인민군 총참모부_1군단_1사단_NA_사단장   \n",
       "47                3       당 중앙위             위원        노동당_중앙위원회_NA_NA_위원   \n",
       "49                8  최고인민회의 제1기            대의원       최고인민회의_NA_NA_NA_대의원   \n",
       "50                8         인민군            연대장  인민군 총참모부_X군단_X사단_X연대_연대장   \n",
       "51                8  최고인민회의 제1기            대의원       최고인민회의_NA_NA_NA_대의원   \n",
       "\n",
       "    NotJob  InsideGov PrimaryInstitution          org_pos_str_temp  \\\n",
       "46     NaN        NaN           인민군 총참모부   인민군 총참모부_1군단_1사단_NA_사단장   \n",
       "47     NaN        NaN                노동당        노동당_중앙위원회_NA_NA_위원   \n",
       "49     NaN        NaN             최고인민회의       최고인민회의_NA_NA_NA_대의원   \n",
       "50     NaN        NaN           인민군 총참모부  인민군 총참모부_X군단_X사단_X연대_연대장   \n",
       "51     NaN        NaN             최고인민회의       최고인민회의_NA_NA_NA_대의원   \n",
       "\n",
       "   PrimaryInstitution_temp  \n",
       "46                인민군 총참모부  \n",
       "47                     노동당  \n",
       "49                  최고인민회의  \n",
       "50                인민군 총참모부  \n",
       "51                  최고인민회의  "
      ]
     },
     "execution_count": 97,
     "metadata": {},
     "output_type": "execute_result"
    }
   ],
   "source": [
    "job_str.loc[~job_str.PrimaryInstitution_temp.isna()][0:5]"
   ]
  },
  {
   "cell_type": "code",
   "execution_count": 98,
   "metadata": {},
   "outputs": [],
   "source": [
    "job_str.drop(labels=[c for c in job_str.columns if \"_temp\" in c],axis=1,inplace=True)\n",
    "job_str.shape"
   ]
  },
  {
   "cell_type": "code",
   "execution_count": 100,
   "metadata": {},
   "outputs": [
    {
     "data": {
      "text/html": [
       "<div>\n",
       "<style scoped>\n",
       "    .dataframe tbody tr th:only-of-type {\n",
       "        vertical-align: middle;\n",
       "    }\n",
       "\n",
       "    .dataframe tbody tr th {\n",
       "        vertical-align: top;\n",
       "    }\n",
       "\n",
       "    .dataframe thead th {\n",
       "        text-align: right;\n",
       "    }\n",
       "</style>\n",
       "<table border=\"1\" class=\"dataframe\">\n",
       "  <thead>\n",
       "    <tr style=\"text-align: right;\">\n",
       "      <th></th>\n",
       "      <th>CareerStringID</th>\n",
       "      <th>CareerString</th>\n",
       "      <th>CareerSubstring</th>\n",
       "      <th>CareerStartYear</th>\n",
       "      <th>CareerStartMonth</th>\n",
       "      <th>OrgString</th>\n",
       "      <th>PositionString</th>\n",
       "      <th>org_pos_str</th>\n",
       "      <th>NotJob</th>\n",
       "      <th>InsideGov</th>\n",
       "      <th>PrimaryInstitution</th>\n",
       "    </tr>\n",
       "  </thead>\n",
       "  <tbody>\n",
       "    <tr>\n",
       "      <th>0</th>\n",
       "      <td>1</td>\n",
       "      <td>개성공단 남북공동위원회 통행통신통관 분과위원회</td>\n",
       "      <td>NaN</td>\n",
       "      <td>2013</td>\n",
       "      <td>9</td>\n",
       "      <td>개성공단 남북공동위원회 통행통신통관 분과위원회</td>\n",
       "      <td>NaN</td>\n",
       "      <td>NaN</td>\n",
       "      <td>NaN</td>\n",
       "      <td>NaN</td>\n",
       "      <td>NaN</td>\n",
       "    </tr>\n",
       "    <tr>\n",
       "      <th>1</th>\n",
       "      <td>2</td>\n",
       "      <td>근로단체부장 해임 * 후임: 리일환</td>\n",
       "      <td>NaN</td>\n",
       "      <td>2014</td>\n",
       "      <td>NaN</td>\n",
       "      <td>근로단체</td>\n",
       "      <td>부장</td>\n",
       "      <td>NaN</td>\n",
       "      <td>NaN</td>\n",
       "      <td>NaN</td>\n",
       "      <td>NaN</td>\n",
       "    </tr>\n",
       "  </tbody>\n",
       "</table>\n",
       "</div>"
      ],
      "text/plain": [
       "  CareerStringID                CareerString CareerSubstring CareerStartYear  \\\n",
       "0              1   개성공단 남북공동위원회 통행통신통관 분과위원회             NaN            2013   \n",
       "1              2         근로단체부장 해임 * 후임: 리일환             NaN            2014   \n",
       "\n",
       "  CareerStartMonth                  OrgString PositionString org_pos_str  \\\n",
       "0                9  개성공단 남북공동위원회 통행통신통관 분과위원회            NaN         NaN   \n",
       "1              NaN                       근로단체             부장         NaN   \n",
       "\n",
       "   NotJob  InsideGov PrimaryInstitution  \n",
       "0     NaN        NaN                NaN  \n",
       "1     NaN        NaN                NaN  "
      ]
     },
     "execution_count": 100,
     "metadata": {},
     "output_type": "execute_result"
    }
   ],
   "source": [
    "job_str[0:2]"
   ]
  },
  {
   "cell_type": "code",
   "execution_count": 102,
   "metadata": {},
   "outputs": [
    {
     "data": {
      "text/plain": [
       "array([nan, '인민군 총참모부', '노동당', '최고인민회의', '내각', '국방위원회', '중앙인민위원회',\n",
       "       '중앙검찰소', '최고재판소'], dtype=object)"
      ]
     },
     "execution_count": 102,
     "metadata": {},
     "output_type": "execute_result"
    }
   ],
   "source": [
    "job_str.PrimaryInstitution.unique()"
   ]
  },
  {
   "cell_type": "code",
   "execution_count": 106,
   "metadata": {},
   "outputs": [],
   "source": [
    "# InsideGov true if PrimaryInstitution not na\n",
    "job_str.loc[~job_str.PrimaryInstitution.isna(),\"InsideGov\"] = True\n",
    "job_str.loc[~job_str.PrimaryInstitution.isna(),\"NotJob\"] = False"
   ]
  },
  {
   "cell_type": "code",
   "execution_count": 107,
   "metadata": {},
   "outputs": [
    {
     "data": {
      "text/html": [
       "<div>\n",
       "<style scoped>\n",
       "    .dataframe tbody tr th:only-of-type {\n",
       "        vertical-align: middle;\n",
       "    }\n",
       "\n",
       "    .dataframe tbody tr th {\n",
       "        vertical-align: top;\n",
       "    }\n",
       "\n",
       "    .dataframe thead th {\n",
       "        text-align: right;\n",
       "    }\n",
       "</style>\n",
       "<table border=\"1\" class=\"dataframe\">\n",
       "  <thead>\n",
       "    <tr style=\"text-align: right;\">\n",
       "      <th></th>\n",
       "      <th>CareerStringID</th>\n",
       "      <th>CareerString</th>\n",
       "      <th>CareerSubstring</th>\n",
       "      <th>CareerStartYear</th>\n",
       "      <th>CareerStartMonth</th>\n",
       "      <th>OrgString</th>\n",
       "      <th>PositionString</th>\n",
       "      <th>org_pos_str</th>\n",
       "      <th>NotJob</th>\n",
       "      <th>InsideGov</th>\n",
       "      <th>PrimaryInstitution</th>\n",
       "    </tr>\n",
       "  </thead>\n",
       "  <tbody>\n",
       "    <tr>\n",
       "      <th>46</th>\n",
       "      <td>108</td>\n",
       "      <td>1948. 2 인민군 제1사단장</td>\n",
       "      <td>NaN</td>\n",
       "      <td>1948</td>\n",
       "      <td>2</td>\n",
       "      <td>인민군 제1사단</td>\n",
       "      <td>사단장</td>\n",
       "      <td>인민군 총참모부_1군단_1사단_NA_사단장</td>\n",
       "      <td>False</td>\n",
       "      <td>True</td>\n",
       "      <td>인민군 총참모부</td>\n",
       "    </tr>\n",
       "    <tr>\n",
       "      <th>47</th>\n",
       "      <td>109</td>\n",
       "      <td>1948. 3 당 중앙위 위원</td>\n",
       "      <td>NaN</td>\n",
       "      <td>1948</td>\n",
       "      <td>3</td>\n",
       "      <td>당 중앙위</td>\n",
       "      <td>위원</td>\n",
       "      <td>노동당_중앙위원회_NA_NA_위원</td>\n",
       "      <td>False</td>\n",
       "      <td>True</td>\n",
       "      <td>노동당</td>\n",
       "    </tr>\n",
       "    <tr>\n",
       "      <th>49</th>\n",
       "      <td>113</td>\n",
       "      <td>1948. 8 최고인민회의 제1기 대의원</td>\n",
       "      <td>NaN</td>\n",
       "      <td>1948</td>\n",
       "      <td>8</td>\n",
       "      <td>최고인민회의 제1기</td>\n",
       "      <td>대의원</td>\n",
       "      <td>최고인민회의_NA_NA_NA_대의원</td>\n",
       "      <td>False</td>\n",
       "      <td>True</td>\n",
       "      <td>최고인민회의</td>\n",
       "    </tr>\n",
       "    <tr>\n",
       "      <th>50</th>\n",
       "      <td>114</td>\n",
       "      <td>1948. 8 인민군 연대장</td>\n",
       "      <td>NaN</td>\n",
       "      <td>1948</td>\n",
       "      <td>8</td>\n",
       "      <td>인민군</td>\n",
       "      <td>연대장</td>\n",
       "      <td>인민군 총참모부_X군단_X사단_X연대_연대장</td>\n",
       "      <td>False</td>\n",
       "      <td>True</td>\n",
       "      <td>인민군 총참모부</td>\n",
       "    </tr>\n",
       "    <tr>\n",
       "      <th>51</th>\n",
       "      <td>115</td>\n",
       "      <td>1948. 8 최고인민회의 제1기 대의원</td>\n",
       "      <td>NaN</td>\n",
       "      <td>1948</td>\n",
       "      <td>8</td>\n",
       "      <td>최고인민회의 제1기</td>\n",
       "      <td>대의원</td>\n",
       "      <td>최고인민회의_NA_NA_NA_대의원</td>\n",
       "      <td>False</td>\n",
       "      <td>True</td>\n",
       "      <td>최고인민회의</td>\n",
       "    </tr>\n",
       "  </tbody>\n",
       "</table>\n",
       "</div>"
      ],
      "text/plain": [
       "   CareerStringID            CareerString CareerSubstring CareerStartYear  \\\n",
       "46            108       1948. 2 인민군 제1사단장             NaN            1948   \n",
       "47            109        1948. 3 당 중앙위 위원             NaN            1948   \n",
       "49            113  1948. 8 최고인민회의 제1기 대의원             NaN            1948   \n",
       "50            114         1948. 8 인민군 연대장             NaN            1948   \n",
       "51            115  1948. 8 최고인민회의 제1기 대의원             NaN            1948   \n",
       "\n",
       "   CareerStartMonth   OrgString PositionString               org_pos_str  \\\n",
       "46                2    인민군 제1사단            사단장   인민군 총참모부_1군단_1사단_NA_사단장   \n",
       "47                3       당 중앙위             위원        노동당_중앙위원회_NA_NA_위원   \n",
       "49                8  최고인민회의 제1기            대의원       최고인민회의_NA_NA_NA_대의원   \n",
       "50                8         인민군            연대장  인민군 총참모부_X군단_X사단_X연대_연대장   \n",
       "51                8  최고인민회의 제1기            대의원       최고인민회의_NA_NA_NA_대의원   \n",
       "\n",
       "   NotJob InsideGov PrimaryInstitution  \n",
       "46  False      True           인민군 총참모부  \n",
       "47  False      True                노동당  \n",
       "49  False      True             최고인민회의  \n",
       "50  False      True           인민군 총참모부  \n",
       "51  False      True             최고인민회의  "
      ]
     },
     "execution_count": 107,
     "metadata": {},
     "output_type": "execute_result"
    }
   ],
   "source": [
    "job_str[~job_str.PrimaryInstitution.isna()][0:5]"
   ]
  },
  {
   "cell_type": "code",
   "execution_count": 108,
   "metadata": {},
   "outputs": [
    {
     "data": {
      "text/plain": [
       "(1641, 11)"
      ]
     },
     "execution_count": 108,
     "metadata": {},
     "output_type": "execute_result"
    }
   ],
   "source": [
    "# PrimaryInstitution is coded\n",
    "job_str[~job_str.PrimaryInstitution.isna()].shape"
   ]
  },
  {
   "cell_type": "code",
   "execution_count": 109,
   "metadata": {},
   "outputs": [
    {
     "data": {
      "text/plain": [
       "(4957, 11)"
      ]
     },
     "execution_count": 109,
     "metadata": {},
     "output_type": "execute_result"
    }
   ],
   "source": [
    "# PrimaryInstitution not coded\n",
    "job_str[job_str.PrimaryInstitution.isna()].shape"
   ]
  },
  {
   "cell_type": "markdown",
   "metadata": {},
   "source": [
    "# output job_db with partially coded orgs"
   ]
  },
  {
   "cell_type": "code",
   "execution_count": 114,
   "metadata": {},
   "outputs": [],
   "source": [
    "# output job_str as new job_db, with coded orgs\n",
    "job_str.to_excel(pathout_job_db+fileout_job_db,index=False,encoding=\"utf-8\")"
   ]
  },
  {
   "cell_type": "markdown",
   "metadata": {},
   "source": [
    "# output job_str merged & unique org & position list"
   ]
  },
  {
   "cell_type": "code",
   "execution_count": null,
   "metadata": {},
   "outputs": [],
   "source": [
    "# query unique org list\n",
    "org_unique = job_str_merged[[\"OrgString\"]].drop_duplicates()"
   ]
  },
  {
   "cell_type": "code",
   "execution_count": 51,
   "metadata": {},
   "outputs": [
    {
     "data": {
      "text/plain": [
       "(1995, 1)"
      ]
     },
     "execution_count": 51,
     "metadata": {},
     "output_type": "execute_result"
    }
   ],
   "source": [
    "org_unique.shape"
   ]
  },
  {
   "cell_type": "code",
   "execution_count": null,
   "metadata": {},
   "outputs": [],
   "source": [
    "# output unique org list\n",
    "org_unique.to_excel(pathout_job_db+fileout_job_orglist,index=False,encoding=\"utf-8\")"
   ]
  }
 ],
 "metadata": {
  "kernelspec": {
   "display_name": "Python 3",
   "language": "python",
   "name": "python3"
  },
  "language_info": {
   "codemirror_mode": {
    "name": "ipython",
    "version": 3
   },
   "file_extension": ".py",
   "mimetype": "text/x-python",
   "name": "python",
   "nbconvert_exporter": "python",
   "pygments_lexer": "ipython3",
   "version": "3.7.3"
  }
 },
 "nbformat": 4,
 "nbformat_minor": 4
}
