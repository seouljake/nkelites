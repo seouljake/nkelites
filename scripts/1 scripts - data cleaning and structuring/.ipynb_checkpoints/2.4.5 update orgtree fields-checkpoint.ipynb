{
 "cells": [
  {
   "cell_type": "code",
   "execution_count": 1,
   "id": "f25a0a51",
   "metadata": {},
   "outputs": [],
   "source": [
    "import pandas as pd\n",
    "import numpy as np"
   ]
  },
  {
   "cell_type": "markdown",
   "id": "55b9e00b",
   "metadata": {},
   "source": [
    "# paths and filenames"
   ]
  },
  {
   "cell_type": "code",
   "execution_count": 109,
   "id": "11ea8d77",
   "metadata": {},
   "outputs": [],
   "source": [
    "path_orgtree = \"C:/Users/seoul/Dropbox/00 technical/github/nkelites/data/combined data/combined data - 1 cleaning/cleaning step 2 - career/2.4 orgtree/\""
   ]
  },
  {
   "cell_type": "code",
   "execution_count": 110,
   "id": "06879ce4",
   "metadata": {},
   "outputs": [],
   "source": [
    "filein_orgtree = \"orgtree_4_2.xlsx\""
   ]
  },
  {
   "cell_type": "code",
   "execution_count": 172,
   "id": "d79d20b7",
   "metadata": {},
   "outputs": [],
   "source": [
    "fileout_orgtree = \"orgtree_4_3_jeongsu.xlsx\""
   ]
  },
  {
   "cell_type": "code",
   "execution_count": null,
   "id": "e45885b4",
   "metadata": {},
   "outputs": [],
   "source": []
  },
  {
   "cell_type": "code",
   "execution_count": 112,
   "id": "23903c60",
   "metadata": {},
   "outputs": [
    {
     "data": {
      "text/plain": [
       "(1290, 8)"
      ]
     },
     "execution_count": 112,
     "metadata": {},
     "output_type": "execute_result"
    }
   ],
   "source": [
    "orgtree = pd.read_excel(path_orgtree+filein_orgtree)\n",
    "orgtree.shape"
   ]
  },
  {
   "cell_type": "code",
   "execution_count": 113,
   "id": "d1c01f6f",
   "metadata": {},
   "outputs": [
    {
     "data": {
      "text/plain": [
       "Index(['InsideGov', 'PrimaryInstitution', 'OrgName', 'ImmediateSuperiorOrg',\n",
       "       'SupervisesParent', 'LinkToCurrent_PrimaryInstitution',\n",
       "       'LinkToCurrent_OrgName', 'Notes'],\n",
       "      dtype='object')"
      ]
     },
     "execution_count": 113,
     "metadata": {},
     "output_type": "execute_result"
    }
   ],
   "source": [
    "orgtree.columns"
   ]
  },
  {
   "cell_type": "markdown",
   "id": "3236534c",
   "metadata": {},
   "source": [
    "# clean Link fields"
   ]
  },
  {
   "cell_type": "code",
   "execution_count": 114,
   "id": "a350b548",
   "metadata": {},
   "outputs": [
    {
     "data": {
      "text/html": [
       "<div>\n",
       "<style scoped>\n",
       "    .dataframe tbody tr th:only-of-type {\n",
       "        vertical-align: middle;\n",
       "    }\n",
       "\n",
       "    .dataframe tbody tr th {\n",
       "        vertical-align: top;\n",
       "    }\n",
       "\n",
       "    .dataframe thead th {\n",
       "        text-align: right;\n",
       "    }\n",
       "</style>\n",
       "<table border=\"1\" class=\"dataframe\">\n",
       "  <thead>\n",
       "    <tr style=\"text-align: right;\">\n",
       "      <th></th>\n",
       "      <th>InsideGov</th>\n",
       "      <th>PrimaryInstitution</th>\n",
       "      <th>OrgName</th>\n",
       "      <th>ImmediateSuperiorOrg</th>\n",
       "      <th>SupervisesParent</th>\n",
       "      <th>LinkToCurrent_PrimaryInstitution</th>\n",
       "      <th>LinkToCurrent_OrgName</th>\n",
       "      <th>Notes</th>\n",
       "    </tr>\n",
       "  </thead>\n",
       "  <tbody>\n",
       "    <tr>\n",
       "      <th>797</th>\n",
       "      <td>1.0</td>\n",
       "      <td>내각</td>\n",
       "      <td>수매양정성</td>\n",
       "      <td>NaN</td>\n",
       "      <td>NaN</td>\n",
       "      <td>NAN</td>\n",
       "      <td>NAN</td>\n",
       "      <td>NaN</td>\n",
       "    </tr>\n",
       "    <tr>\n",
       "      <th>806</th>\n",
       "      <td>1.0</td>\n",
       "      <td>내각</td>\n",
       "      <td>외무성_X국_대련무역대표부</td>\n",
       "      <td>NaN</td>\n",
       "      <td>NaN</td>\n",
       "      <td>NAN</td>\n",
       "      <td>NAN</td>\n",
       "      <td>NaN</td>\n",
       "    </tr>\n",
       "    <tr>\n",
       "      <th>808</th>\n",
       "      <td>1.0</td>\n",
       "      <td>내각</td>\n",
       "      <td>외무성_X국_몰타대사관</td>\n",
       "      <td>NaN</td>\n",
       "      <td>NaN</td>\n",
       "      <td>NAN</td>\n",
       "      <td>NAN</td>\n",
       "      <td>NaN</td>\n",
       "    </tr>\n",
       "    <tr>\n",
       "      <th>903</th>\n",
       "      <td>1.0</td>\n",
       "      <td>내각</td>\n",
       "      <td>일용품공업성</td>\n",
       "      <td>NaN</td>\n",
       "      <td>NaN</td>\n",
       "      <td>NAN</td>\n",
       "      <td>NAN</td>\n",
       "      <td>NaN</td>\n",
       "    </tr>\n",
       "    <tr>\n",
       "      <th>970</th>\n",
       "      <td>1.0</td>\n",
       "      <td>노동당</td>\n",
       "      <td>당중앙위원회_경제정책검열부</td>\n",
       "      <td>NaN</td>\n",
       "      <td>NaN</td>\n",
       "      <td>NAN</td>\n",
       "      <td>NAN</td>\n",
       "      <td>NaN</td>\n",
       "    </tr>\n",
       "    <tr>\n",
       "      <th>1004</th>\n",
       "      <td>1.0</td>\n",
       "      <td>노동당</td>\n",
       "      <td>당중앙위원회_신소실</td>\n",
       "      <td>중앙위원회</td>\n",
       "      <td>NaN</td>\n",
       "      <td>NAN</td>\n",
       "      <td>NAN</td>\n",
       "      <td>NaN</td>\n",
       "    </tr>\n",
       "    <tr>\n",
       "      <th>1086</th>\n",
       "      <td>1.0</td>\n",
       "      <td>정무원</td>\n",
       "      <td>원유공업부</td>\n",
       "      <td>NaN</td>\n",
       "      <td>NaN</td>\n",
       "      <td>NAN</td>\n",
       "      <td>NAN</td>\n",
       "      <td>NaN</td>\n",
       "    </tr>\n",
       "  </tbody>\n",
       "</table>\n",
       "</div>"
      ],
      "text/plain": [
       "      InsideGov PrimaryInstitution         OrgName ImmediateSuperiorOrg  \\\n",
       "797         1.0                 내각           수매양정성                  NaN   \n",
       "806         1.0                 내각  외무성_X국_대련무역대표부                  NaN   \n",
       "808         1.0                 내각    외무성_X국_몰타대사관                  NaN   \n",
       "903         1.0                 내각          일용품공업성                  NaN   \n",
       "970         1.0                노동당  당중앙위원회_경제정책검열부                  NaN   \n",
       "1004        1.0                노동당      당중앙위원회_신소실                중앙위원회   \n",
       "1086        1.0                정무원           원유공업부                  NaN   \n",
       "\n",
       "      SupervisesParent LinkToCurrent_PrimaryInstitution LinkToCurrent_OrgName  \\\n",
       "797                NaN                              NAN                   NAN   \n",
       "806                NaN                              NAN                   NAN   \n",
       "808                NaN                              NAN                   NAN   \n",
       "903                NaN                              NAN                   NAN   \n",
       "970                NaN                              NAN                   NAN   \n",
       "1004               NaN                              NAN                   NAN   \n",
       "1086               NaN                              NAN                   NAN   \n",
       "\n",
       "     Notes  \n",
       "797    NaN  \n",
       "806    NaN  \n",
       "808    NaN  \n",
       "903    NaN  \n",
       "970    NaN  \n",
       "1004   NaN  \n",
       "1086   NaN  "
      ]
     },
     "execution_count": 114,
     "metadata": {},
     "output_type": "execute_result"
    }
   ],
   "source": [
    "# replace NAN with Deprecated\n",
    "orgtree[orgtree[\"LinkToCurrent_OrgName\"]==\"NAN\"]"
   ]
  },
  {
   "cell_type": "code",
   "execution_count": 115,
   "id": "492fa2fc",
   "metadata": {},
   "outputs": [],
   "source": [
    "orgtree.loc[orgtree[\"LinkToCurrent_PrimaryInstitution\"]==\"NAN\",\"LinkToCurrent_PrimaryInstitution\"] = \"Deprecated\""
   ]
  },
  {
   "cell_type": "code",
   "execution_count": 116,
   "id": "b56ab1b4",
   "metadata": {},
   "outputs": [],
   "source": [
    "orgtree.loc[orgtree[\"LinkToCurrent_OrgName\"]==\"NAN\",\"LinkToCurrent_OrgName\"] = \"Deprecated\""
   ]
  },
  {
   "cell_type": "code",
   "execution_count": 117,
   "id": "4304dcbb",
   "metadata": {},
   "outputs": [
    {
     "data": {
      "text/html": [
       "<div>\n",
       "<style scoped>\n",
       "    .dataframe tbody tr th:only-of-type {\n",
       "        vertical-align: middle;\n",
       "    }\n",
       "\n",
       "    .dataframe tbody tr th {\n",
       "        vertical-align: top;\n",
       "    }\n",
       "\n",
       "    .dataframe thead th {\n",
       "        text-align: right;\n",
       "    }\n",
       "</style>\n",
       "<table border=\"1\" class=\"dataframe\">\n",
       "  <thead>\n",
       "    <tr style=\"text-align: right;\">\n",
       "      <th></th>\n",
       "      <th>InsideGov</th>\n",
       "      <th>PrimaryInstitution</th>\n",
       "      <th>OrgName</th>\n",
       "      <th>ImmediateSuperiorOrg</th>\n",
       "      <th>SupervisesParent</th>\n",
       "      <th>LinkToCurrent_PrimaryInstitution</th>\n",
       "      <th>LinkToCurrent_OrgName</th>\n",
       "      <th>Notes</th>\n",
       "    </tr>\n",
       "  </thead>\n",
       "  <tbody>\n",
       "  </tbody>\n",
       "</table>\n",
       "</div>"
      ],
      "text/plain": [
       "Empty DataFrame\n",
       "Columns: [InsideGov, PrimaryInstitution, OrgName, ImmediateSuperiorOrg, SupervisesParent, LinkToCurrent_PrimaryInstitution, LinkToCurrent_OrgName, Notes]\n",
       "Index: []"
      ]
     },
     "execution_count": 117,
     "metadata": {},
     "output_type": "execute_result"
    }
   ],
   "source": [
    "orgtree[orgtree[\"LinkToCurrent_PrimaryInstitution\"]==\"NAN\"]"
   ]
  },
  {
   "cell_type": "code",
   "execution_count": 118,
   "id": "33994681",
   "metadata": {},
   "outputs": [
    {
     "data": {
      "text/html": [
       "<div>\n",
       "<style scoped>\n",
       "    .dataframe tbody tr th:only-of-type {\n",
       "        vertical-align: middle;\n",
       "    }\n",
       "\n",
       "    .dataframe tbody tr th {\n",
       "        vertical-align: top;\n",
       "    }\n",
       "\n",
       "    .dataframe thead th {\n",
       "        text-align: right;\n",
       "    }\n",
       "</style>\n",
       "<table border=\"1\" class=\"dataframe\">\n",
       "  <thead>\n",
       "    <tr style=\"text-align: right;\">\n",
       "      <th></th>\n",
       "      <th>InsideGov</th>\n",
       "      <th>PrimaryInstitution</th>\n",
       "      <th>OrgName</th>\n",
       "      <th>ImmediateSuperiorOrg</th>\n",
       "      <th>SupervisesParent</th>\n",
       "      <th>LinkToCurrent_PrimaryInstitution</th>\n",
       "      <th>LinkToCurrent_OrgName</th>\n",
       "      <th>Notes</th>\n",
       "    </tr>\n",
       "  </thead>\n",
       "  <tbody>\n",
       "  </tbody>\n",
       "</table>\n",
       "</div>"
      ],
      "text/plain": [
       "Empty DataFrame\n",
       "Columns: [InsideGov, PrimaryInstitution, OrgName, ImmediateSuperiorOrg, SupervisesParent, LinkToCurrent_PrimaryInstitution, LinkToCurrent_OrgName, Notes]\n",
       "Index: []"
      ]
     },
     "execution_count": 118,
     "metadata": {},
     "output_type": "execute_result"
    }
   ],
   "source": [
    "orgtree[orgtree[\"LinkToCurrent_OrgName\"]==\"NAN\"]"
   ]
  },
  {
   "cell_type": "code",
   "execution_count": null,
   "id": "1ce4bc64",
   "metadata": {},
   "outputs": [],
   "source": []
  },
  {
   "cell_type": "code",
   "execution_count": 119,
   "id": "3a627fec",
   "metadata": {},
   "outputs": [],
   "source": [
    "# replace LinkToCurrent_PrimaryInstitution==nan with \"Please_Revise\""
   ]
  },
  {
   "cell_type": "code",
   "execution_count": 120,
   "id": "82b64d69",
   "metadata": {},
   "outputs": [],
   "source": [
    "orgtree.loc[orgtree[\"LinkToCurrent_PrimaryInstitution\"].isna(),\"LinkToCurrent_PrimaryInstitution\"] = \"Please_Revise\""
   ]
  },
  {
   "cell_type": "code",
   "execution_count": 173,
   "id": "0fe9f811",
   "metadata": {},
   "outputs": [
    {
     "ename": "KeyError",
     "evalue": "'LinkToCurrent_PrimaryInstitution'",
     "output_type": "error",
     "traceback": [
      "\u001b[1;31m---------------------------------------------------------------------------\u001b[0m",
      "\u001b[1;31mKeyError\u001b[0m                                  Traceback (most recent call last)",
      "File \u001b[1;32m~\\AppData\\Local\\Programs\\Python\\Python311\\Lib\\site-packages\\pandas\\core\\indexes\\base.py:3803\u001b[0m, in \u001b[0;36mIndex.get_loc\u001b[1;34m(self, key, method, tolerance)\u001b[0m\n\u001b[0;32m   3802\u001b[0m \u001b[38;5;28;01mtry\u001b[39;00m:\n\u001b[1;32m-> 3803\u001b[0m     \u001b[38;5;28;01mreturn\u001b[39;00m \u001b[38;5;28;43mself\u001b[39;49m\u001b[38;5;241;43m.\u001b[39;49m\u001b[43m_engine\u001b[49m\u001b[38;5;241;43m.\u001b[39;49m\u001b[43mget_loc\u001b[49m\u001b[43m(\u001b[49m\u001b[43mcasted_key\u001b[49m\u001b[43m)\u001b[49m\n\u001b[0;32m   3804\u001b[0m \u001b[38;5;28;01mexcept\u001b[39;00m \u001b[38;5;167;01mKeyError\u001b[39;00m \u001b[38;5;28;01mas\u001b[39;00m err:\n",
      "File \u001b[1;32m~\\AppData\\Local\\Programs\\Python\\Python311\\Lib\\site-packages\\pandas\\_libs\\index.pyx:138\u001b[0m, in \u001b[0;36mpandas._libs.index.IndexEngine.get_loc\u001b[1;34m()\u001b[0m\n",
      "File \u001b[1;32m~\\AppData\\Local\\Programs\\Python\\Python311\\Lib\\site-packages\\pandas\\_libs\\index.pyx:165\u001b[0m, in \u001b[0;36mpandas._libs.index.IndexEngine.get_loc\u001b[1;34m()\u001b[0m\n",
      "File \u001b[1;32mpandas\\_libs\\hashtable_class_helper.pxi:5745\u001b[0m, in \u001b[0;36mpandas._libs.hashtable.PyObjectHashTable.get_item\u001b[1;34m()\u001b[0m\n",
      "File \u001b[1;32mpandas\\_libs\\hashtable_class_helper.pxi:5753\u001b[0m, in \u001b[0;36mpandas._libs.hashtable.PyObjectHashTable.get_item\u001b[1;34m()\u001b[0m\n",
      "\u001b[1;31mKeyError\u001b[0m: 'LinkToCurrent_PrimaryInstitution'",
      "\nThe above exception was the direct cause of the following exception:\n",
      "\u001b[1;31mKeyError\u001b[0m                                  Traceback (most recent call last)",
      "Cell \u001b[1;32mIn [173], line 1\u001b[0m\n\u001b[1;32m----> 1\u001b[0m orgtree[\u001b[43morgtree\u001b[49m\u001b[43m[\u001b[49m\u001b[38;5;124;43m\"\u001b[39;49m\u001b[38;5;124;43mLinkToCurrent_PrimaryInstitution\u001b[39;49m\u001b[38;5;124;43m\"\u001b[39;49m\u001b[43m]\u001b[49m\u001b[38;5;241m.\u001b[39misna()]\n",
      "File \u001b[1;32m~\\AppData\\Local\\Programs\\Python\\Python311\\Lib\\site-packages\\pandas\\core\\frame.py:3805\u001b[0m, in \u001b[0;36mDataFrame.__getitem__\u001b[1;34m(self, key)\u001b[0m\n\u001b[0;32m   3803\u001b[0m \u001b[38;5;28;01mif\u001b[39;00m \u001b[38;5;28mself\u001b[39m\u001b[38;5;241m.\u001b[39mcolumns\u001b[38;5;241m.\u001b[39mnlevels \u001b[38;5;241m>\u001b[39m \u001b[38;5;241m1\u001b[39m:\n\u001b[0;32m   3804\u001b[0m     \u001b[38;5;28;01mreturn\u001b[39;00m \u001b[38;5;28mself\u001b[39m\u001b[38;5;241m.\u001b[39m_getitem_multilevel(key)\n\u001b[1;32m-> 3805\u001b[0m indexer \u001b[38;5;241m=\u001b[39m \u001b[38;5;28;43mself\u001b[39;49m\u001b[38;5;241;43m.\u001b[39;49m\u001b[43mcolumns\u001b[49m\u001b[38;5;241;43m.\u001b[39;49m\u001b[43mget_loc\u001b[49m\u001b[43m(\u001b[49m\u001b[43mkey\u001b[49m\u001b[43m)\u001b[49m\n\u001b[0;32m   3806\u001b[0m \u001b[38;5;28;01mif\u001b[39;00m is_integer(indexer):\n\u001b[0;32m   3807\u001b[0m     indexer \u001b[38;5;241m=\u001b[39m [indexer]\n",
      "File \u001b[1;32m~\\AppData\\Local\\Programs\\Python\\Python311\\Lib\\site-packages\\pandas\\core\\indexes\\base.py:3805\u001b[0m, in \u001b[0;36mIndex.get_loc\u001b[1;34m(self, key, method, tolerance)\u001b[0m\n\u001b[0;32m   3803\u001b[0m     \u001b[38;5;28;01mreturn\u001b[39;00m \u001b[38;5;28mself\u001b[39m\u001b[38;5;241m.\u001b[39m_engine\u001b[38;5;241m.\u001b[39mget_loc(casted_key)\n\u001b[0;32m   3804\u001b[0m \u001b[38;5;28;01mexcept\u001b[39;00m \u001b[38;5;167;01mKeyError\u001b[39;00m \u001b[38;5;28;01mas\u001b[39;00m err:\n\u001b[1;32m-> 3805\u001b[0m     \u001b[38;5;28;01mraise\u001b[39;00m \u001b[38;5;167;01mKeyError\u001b[39;00m(key) \u001b[38;5;28;01mfrom\u001b[39;00m \u001b[38;5;21;01merr\u001b[39;00m\n\u001b[0;32m   3806\u001b[0m \u001b[38;5;28;01mexcept\u001b[39;00m \u001b[38;5;167;01mTypeError\u001b[39;00m:\n\u001b[0;32m   3807\u001b[0m     \u001b[38;5;66;03m# If we have a listlike key, _check_indexing_error will raise\u001b[39;00m\n\u001b[0;32m   3808\u001b[0m     \u001b[38;5;66;03m#  InvalidIndexError. Otherwise we fall through and re-raise\u001b[39;00m\n\u001b[0;32m   3809\u001b[0m     \u001b[38;5;66;03m#  the TypeError.\u001b[39;00m\n\u001b[0;32m   3810\u001b[0m     \u001b[38;5;28mself\u001b[39m\u001b[38;5;241m.\u001b[39m_check_indexing_error(key)\n",
      "\u001b[1;31mKeyError\u001b[0m: 'LinkToCurrent_PrimaryInstitution'"
     ]
    }
   ],
   "source": [
    "orgtree[orgtree[\"LinkToCurrent_PrimaryInstitution\"].isna()]"
   ]
  },
  {
   "cell_type": "code",
   "execution_count": null,
   "id": "b22690f9",
   "metadata": {},
   "outputs": [],
   "source": []
  },
  {
   "cell_type": "code",
   "execution_count": 122,
   "id": "aa70f8b7",
   "metadata": {},
   "outputs": [],
   "source": [
    "# change and add link columns"
   ]
  },
  {
   "cell_type": "code",
   "execution_count": 123,
   "id": "0853a305",
   "metadata": {},
   "outputs": [],
   "source": [
    "orgtree[\"LinkToNext_Year\"]=np.nan"
   ]
  },
  {
   "cell_type": "code",
   "execution_count": 124,
   "id": "7b251afd",
   "metadata": {},
   "outputs": [
    {
     "data": {
      "text/plain": [
       "Index(['InsideGov', 'PrimaryInstitution', 'OrgName', 'ImmediateSuperiorOrg',\n",
       "       'SupervisesParent', 'LinkToNext_PI', 'LinkToNext_Org', 'Notes',\n",
       "       'LinkToNext_Year'],\n",
       "      dtype='object')"
      ]
     },
     "execution_count": 124,
     "metadata": {},
     "output_type": "execute_result"
    }
   ],
   "source": [
    "orgtree.rename(columns={\"LinkToCurrent_PrimaryInstitution\":\"LinkToNext_PI\",\"LinkToCurrent_OrgName\":\"LinkToNext_Org\"},inplace=True)\n",
    "orgtree.columns"
   ]
  },
  {
   "cell_type": "code",
   "execution_count": 125,
   "id": "a1d351be",
   "metadata": {},
   "outputs": [],
   "source": [
    "columns_orgtree = ['InsideGov', 'PrimaryInstitution', 'OrgName', 'ImmediateSuperiorOrg',\n",
    "       'SupervisesParent', 'LinkToNext_PI', 'LinkToNext_Org','LinkToNext_Year','Notes']"
   ]
  },
  {
   "cell_type": "code",
   "execution_count": 126,
   "id": "98fe7630",
   "metadata": {},
   "outputs": [
    {
     "data": {
      "text/plain": [
       "(1290, 9)"
      ]
     },
     "execution_count": 126,
     "metadata": {},
     "output_type": "execute_result"
    }
   ],
   "source": [
    "orgtree = orgtree[columns_orgtree]\n",
    "orgtree.shape"
   ]
  },
  {
   "cell_type": "code",
   "execution_count": 127,
   "id": "ce8a5511",
   "metadata": {},
   "outputs": [
    {
     "data": {
      "text/plain": [
       "Index(['InsideGov', 'PrimaryInstitution', 'OrgName', 'ImmediateSuperiorOrg',\n",
       "       'SupervisesParent', 'LinkToNext_PI', 'LinkToNext_Org',\n",
       "       'LinkToNext_Year', 'Notes'],\n",
       "      dtype='object')"
      ]
     },
     "execution_count": 127,
     "metadata": {},
     "output_type": "execute_result"
    }
   ],
   "source": [
    "orgtree.columns"
   ]
  },
  {
   "cell_type": "code",
   "execution_count": null,
   "id": "dfc5ca56",
   "metadata": {},
   "outputs": [],
   "source": []
  },
  {
   "cell_type": "markdown",
   "id": "f44ce5e6",
   "metadata": {},
   "source": [
    "# add LinkToNext_PI & LinkToNext_Org as Primary Key"
   ]
  },
  {
   "cell_type": "code",
   "execution_count": 128,
   "id": "546f96a5",
   "metadata": {},
   "outputs": [],
   "source": [
    "orgtree_links = orgtree[['InsideGov','LinkToNext_PI', 'LinkToNext_Org']]"
   ]
  },
  {
   "cell_type": "code",
   "execution_count": 129,
   "id": "4b8ddbaa",
   "metadata": {},
   "outputs": [],
   "source": [
    "merged = orgtree.merge(orgtree_links,how=\"outer\",\n",
    "                        left_on=['PrimaryInstitution', 'OrgName'],\n",
    "                        right_on=['LinkToNext_PI', 'LinkToNext_Org'],\n",
    "                       indicator=True)"
   ]
  },
  {
   "cell_type": "code",
   "execution_count": 130,
   "id": "b71a4e35",
   "metadata": {},
   "outputs": [
    {
     "data": {
      "text/plain": [
       "['left_only', 'both', 'right_only']\n",
       "Categories (3, object): ['left_only', 'right_only', 'both']"
      ]
     },
     "execution_count": 130,
     "metadata": {},
     "output_type": "execute_result"
    }
   ],
   "source": [
    "merged[\"_merge\"].unique()"
   ]
  },
  {
   "cell_type": "code",
   "execution_count": 131,
   "id": "6f319455",
   "metadata": {},
   "outputs": [
    {
     "data": {
      "text/plain": [
       "(245, 13)"
      ]
     },
     "execution_count": 131,
     "metadata": {},
     "output_type": "execute_result"
    }
   ],
   "source": [
    "merged[merged[\"_merge\"]==\"both\"].shape"
   ]
  },
  {
   "cell_type": "code",
   "execution_count": 132,
   "id": "79c87bab",
   "metadata": {},
   "outputs": [
    {
     "data": {
      "text/plain": [
       "(1152, 13)"
      ]
     },
     "execution_count": 132,
     "metadata": {},
     "output_type": "execute_result"
    }
   ],
   "source": [
    "merged[merged[\"_merge\"]==\"left_only\"].shape"
   ]
  },
  {
   "cell_type": "code",
   "execution_count": 133,
   "id": "472cdb23",
   "metadata": {},
   "outputs": [
    {
     "data": {
      "text/plain": [
       "(1045, 13)"
      ]
     },
     "execution_count": 133,
     "metadata": {},
     "output_type": "execute_result"
    }
   ],
   "source": [
    "merged[merged[\"_merge\"]==\"right_only\"].shape"
   ]
  },
  {
   "cell_type": "code",
   "execution_count": 134,
   "id": "b0a228ba",
   "metadata": {},
   "outputs": [
    {
     "data": {
      "text/plain": [
       "(1045, 13)"
      ]
     },
     "execution_count": 134,
     "metadata": {},
     "output_type": "execute_result"
    }
   ],
   "source": [
    "merged_right = merged[merged[\"_merge\"]==\"right_only\"]\n",
    "merged_right.shape"
   ]
  },
  {
   "cell_type": "code",
   "execution_count": 135,
   "id": "b711da94",
   "metadata": {},
   "outputs": [
    {
     "data": {
      "text/plain": [
       "Index(['InsideGov_x', 'PrimaryInstitution', 'OrgName', 'ImmediateSuperiorOrg',\n",
       "       'SupervisesParent', 'LinkToNext_PI_x', 'LinkToNext_Org_x',\n",
       "       'LinkToNext_Year', 'Notes', 'InsideGov_y', 'LinkToNext_PI_y',\n",
       "       'LinkToNext_Org_y', '_merge'],\n",
       "      dtype='object')"
      ]
     },
     "execution_count": 135,
     "metadata": {},
     "output_type": "execute_result"
    }
   ],
   "source": [
    "merged_right.columns"
   ]
  },
  {
   "cell_type": "code",
   "execution_count": 136,
   "id": "1d8b765d",
   "metadata": {},
   "outputs": [
    {
     "data": {
      "text/plain": [
       "(36, 13)"
      ]
     },
     "execution_count": 136,
     "metadata": {},
     "output_type": "execute_result"
    }
   ],
   "source": [
    "# 37 [LinkToNext_PI, LinkToNext_Org] not contained in [PI, Org]\n",
    "merged_right = merged_right.drop_duplicates()\n",
    "merged_right.shape"
   ]
  },
  {
   "cell_type": "code",
   "execution_count": 137,
   "id": "e61851c9",
   "metadata": {},
   "outputs": [
    {
     "data": {
      "text/html": [
       "<div>\n",
       "<style scoped>\n",
       "    .dataframe tbody tr th:only-of-type {\n",
       "        vertical-align: middle;\n",
       "    }\n",
       "\n",
       "    .dataframe tbody tr th {\n",
       "        vertical-align: top;\n",
       "    }\n",
       "\n",
       "    .dataframe thead th {\n",
       "        text-align: right;\n",
       "    }\n",
       "</style>\n",
       "<table border=\"1\" class=\"dataframe\">\n",
       "  <thead>\n",
       "    <tr style=\"text-align: right;\">\n",
       "      <th></th>\n",
       "      <th>InsideGov_x</th>\n",
       "      <th>PrimaryInstitution</th>\n",
       "      <th>OrgName</th>\n",
       "      <th>ImmediateSuperiorOrg</th>\n",
       "      <th>SupervisesParent</th>\n",
       "      <th>LinkToNext_PI_x</th>\n",
       "      <th>LinkToNext_Org_x</th>\n",
       "      <th>LinkToNext_Year</th>\n",
       "      <th>Notes</th>\n",
       "      <th>InsideGov_y</th>\n",
       "      <th>LinkToNext_PI_y</th>\n",
       "      <th>LinkToNext_Org_y</th>\n",
       "      <th>_merge</th>\n",
       "    </tr>\n",
       "  </thead>\n",
       "  <tbody>\n",
       "    <tr>\n",
       "      <th>1397</th>\n",
       "      <td>NaN</td>\n",
       "      <td>NaN</td>\n",
       "      <td>NaN</td>\n",
       "      <td>NaN</td>\n",
       "      <td>NaN</td>\n",
       "      <td>NaN</td>\n",
       "      <td>NaN</td>\n",
       "      <td>NaN</td>\n",
       "      <td>NaN</td>\n",
       "      <td>0.0</td>\n",
       "      <td>Current</td>\n",
       "      <td>Current</td>\n",
       "      <td>right_only</td>\n",
       "    </tr>\n",
       "    <tr>\n",
       "      <th>1850</th>\n",
       "      <td>NaN</td>\n",
       "      <td>NaN</td>\n",
       "      <td>NaN</td>\n",
       "      <td>NaN</td>\n",
       "      <td>NaN</td>\n",
       "      <td>NaN</td>\n",
       "      <td>NaN</td>\n",
       "      <td>NaN</td>\n",
       "      <td>NaN</td>\n",
       "      <td>1.0</td>\n",
       "      <td>Current</td>\n",
       "      <td>Current</td>\n",
       "      <td>right_only</td>\n",
       "    </tr>\n",
       "    <tr>\n",
       "      <th>2366</th>\n",
       "      <td>NaN</td>\n",
       "      <td>NaN</td>\n",
       "      <td>NaN</td>\n",
       "      <td>NaN</td>\n",
       "      <td>NaN</td>\n",
       "      <td>NaN</td>\n",
       "      <td>NaN</td>\n",
       "      <td>NaN</td>\n",
       "      <td>NaN</td>\n",
       "      <td>0.0</td>\n",
       "      <td>평양예술단</td>\n",
       "      <td>NaN</td>\n",
       "      <td>right_only</td>\n",
       "    </tr>\n",
       "    <tr>\n",
       "      <th>2367</th>\n",
       "      <td>NaN</td>\n",
       "      <td>NaN</td>\n",
       "      <td>NaN</td>\n",
       "      <td>NaN</td>\n",
       "      <td>NaN</td>\n",
       "      <td>NaN</td>\n",
       "      <td>NaN</td>\n",
       "      <td>NaN</td>\n",
       "      <td>NaN</td>\n",
       "      <td>0.0</td>\n",
       "      <td>Please_Revise</td>\n",
       "      <td>Please_Revise</td>\n",
       "      <td>right_only</td>\n",
       "    </tr>\n",
       "    <tr>\n",
       "      <th>2374</th>\n",
       "      <td>NaN</td>\n",
       "      <td>NaN</td>\n",
       "      <td>NaN</td>\n",
       "      <td>NaN</td>\n",
       "      <td>NaN</td>\n",
       "      <td>NaN</td>\n",
       "      <td>NaN</td>\n",
       "      <td>NaN</td>\n",
       "      <td>NaN</td>\n",
       "      <td>1.0</td>\n",
       "      <td>Please_Revise</td>\n",
       "      <td>Please_Revise</td>\n",
       "      <td>right_only</td>\n",
       "    </tr>\n",
       "    <tr>\n",
       "      <th>2376</th>\n",
       "      <td>NaN</td>\n",
       "      <td>NaN</td>\n",
       "      <td>NaN</td>\n",
       "      <td>NaN</td>\n",
       "      <td>NaN</td>\n",
       "      <td>NaN</td>\n",
       "      <td>NaN</td>\n",
       "      <td>NaN</td>\n",
       "      <td>NaN</td>\n",
       "      <td>0.0</td>\n",
       "      <td>내각</td>\n",
       "      <td>교육위원회_고등교육성_계응상사리원농업대학</td>\n",
       "      <td>right_only</td>\n",
       "    </tr>\n",
       "    <tr>\n",
       "      <th>2377</th>\n",
       "      <td>NaN</td>\n",
       "      <td>NaN</td>\n",
       "      <td>NaN</td>\n",
       "      <td>NaN</td>\n",
       "      <td>NaN</td>\n",
       "      <td>NaN</td>\n",
       "      <td>NaN</td>\n",
       "      <td>NaN</td>\n",
       "      <td>NaN</td>\n",
       "      <td>0.0</td>\n",
       "      <td>Uncertain</td>\n",
       "      <td>Uncertain</td>\n",
       "      <td>right_only</td>\n",
       "    </tr>\n",
       "    <tr>\n",
       "      <th>2380</th>\n",
       "      <td>NaN</td>\n",
       "      <td>NaN</td>\n",
       "      <td>NaN</td>\n",
       "      <td>NaN</td>\n",
       "      <td>NaN</td>\n",
       "      <td>NaN</td>\n",
       "      <td>NaN</td>\n",
       "      <td>NaN</td>\n",
       "      <td>NaN</td>\n",
       "      <td>1.0</td>\n",
       "      <td>Uncertain</td>\n",
       "      <td>Uncertain</td>\n",
       "      <td>right_only</td>\n",
       "    </tr>\n",
       "    <tr>\n",
       "      <th>2397</th>\n",
       "      <td>NaN</td>\n",
       "      <td>NaN</td>\n",
       "      <td>NaN</td>\n",
       "      <td>NaN</td>\n",
       "      <td>NaN</td>\n",
       "      <td>NaN</td>\n",
       "      <td>NaN</td>\n",
       "      <td>NaN</td>\n",
       "      <td>NaN</td>\n",
       "      <td>0.0</td>\n",
       "      <td>Please_Revise</td>\n",
       "      <td>NaN</td>\n",
       "      <td>right_only</td>\n",
       "    </tr>\n",
       "    <tr>\n",
       "      <th>2399</th>\n",
       "      <td>NaN</td>\n",
       "      <td>NaN</td>\n",
       "      <td>NaN</td>\n",
       "      <td>NaN</td>\n",
       "      <td>NaN</td>\n",
       "      <td>NaN</td>\n",
       "      <td>NaN</td>\n",
       "      <td>NaN</td>\n",
       "      <td>NaN</td>\n",
       "      <td>1.0</td>\n",
       "      <td>Please_Revise</td>\n",
       "      <td>NaN</td>\n",
       "      <td>right_only</td>\n",
       "    </tr>\n",
       "    <tr>\n",
       "      <th>2408</th>\n",
       "      <td>NaN</td>\n",
       "      <td>NaN</td>\n",
       "      <td>NaN</td>\n",
       "      <td>NaN</td>\n",
       "      <td>NaN</td>\n",
       "      <td>NaN</td>\n",
       "      <td>NaN</td>\n",
       "      <td>NaN</td>\n",
       "      <td>NaN</td>\n",
       "      <td>NaN</td>\n",
       "      <td>Please_Revise</td>\n",
       "      <td>NaN</td>\n",
       "      <td>right_only</td>\n",
       "    </tr>\n",
       "    <tr>\n",
       "      <th>2409</th>\n",
       "      <td>NaN</td>\n",
       "      <td>NaN</td>\n",
       "      <td>NaN</td>\n",
       "      <td>NaN</td>\n",
       "      <td>NaN</td>\n",
       "      <td>NaN</td>\n",
       "      <td>NaN</td>\n",
       "      <td>NaN</td>\n",
       "      <td>NaN</td>\n",
       "      <td>0.0</td>\n",
       "      <td>조선요리협회</td>\n",
       "      <td>NaN</td>\n",
       "      <td>right_only</td>\n",
       "    </tr>\n",
       "    <tr>\n",
       "      <th>2410</th>\n",
       "      <td>NaN</td>\n",
       "      <td>NaN</td>\n",
       "      <td>NaN</td>\n",
       "      <td>NaN</td>\n",
       "      <td>NaN</td>\n",
       "      <td>NaN</td>\n",
       "      <td>NaN</td>\n",
       "      <td>NaN</td>\n",
       "      <td>NaN</td>\n",
       "      <td>0.0</td>\n",
       "      <td>묘향무역회사</td>\n",
       "      <td>NaN</td>\n",
       "      <td>right_only</td>\n",
       "    </tr>\n",
       "    <tr>\n",
       "      <th>2411</th>\n",
       "      <td>NaN</td>\n",
       "      <td>NaN</td>\n",
       "      <td>NaN</td>\n",
       "      <td>NaN</td>\n",
       "      <td>NaN</td>\n",
       "      <td>NaN</td>\n",
       "      <td>NaN</td>\n",
       "      <td>NaN</td>\n",
       "      <td>NaN</td>\n",
       "      <td>0.0</td>\n",
       "      <td>순천지구청년탄광연합기업소</td>\n",
       "      <td>신창청년탄광</td>\n",
       "      <td>right_only</td>\n",
       "    </tr>\n",
       "    <tr>\n",
       "      <th>2412</th>\n",
       "      <td>NaN</td>\n",
       "      <td>NaN</td>\n",
       "      <td>NaN</td>\n",
       "      <td>NaN</td>\n",
       "      <td>NaN</td>\n",
       "      <td>NaN</td>\n",
       "      <td>NaN</td>\n",
       "      <td>NaN</td>\n",
       "      <td>NaN</td>\n",
       "      <td>0.0</td>\n",
       "      <td>uncertain</td>\n",
       "      <td>uncertain</td>\n",
       "      <td>right_only</td>\n",
       "    </tr>\n",
       "    <tr>\n",
       "      <th>2413</th>\n",
       "      <td>NaN</td>\n",
       "      <td>NaN</td>\n",
       "      <td>NaN</td>\n",
       "      <td>NaN</td>\n",
       "      <td>NaN</td>\n",
       "      <td>NaN</td>\n",
       "      <td>NaN</td>\n",
       "      <td>NaN</td>\n",
       "      <td>NaN</td>\n",
       "      <td>0.0</td>\n",
       "      <td>Please_Revise</td>\n",
       "      <td>Current</td>\n",
       "      <td>right_only</td>\n",
       "    </tr>\n",
       "    <tr>\n",
       "      <th>2414</th>\n",
       "      <td>NaN</td>\n",
       "      <td>NaN</td>\n",
       "      <td>NaN</td>\n",
       "      <td>NaN</td>\n",
       "      <td>NaN</td>\n",
       "      <td>NaN</td>\n",
       "      <td>NaN</td>\n",
       "      <td>NaN</td>\n",
       "      <td>NaN</td>\n",
       "      <td>0.0</td>\n",
       "      <td>조선일본군위안부및강제연행피해자보상대책위원회</td>\n",
       "      <td>NaN</td>\n",
       "      <td>right_only</td>\n",
       "    </tr>\n",
       "    <tr>\n",
       "      <th>2415</th>\n",
       "      <td>NaN</td>\n",
       "      <td>NaN</td>\n",
       "      <td>NaN</td>\n",
       "      <td>NaN</td>\n",
       "      <td>NaN</td>\n",
       "      <td>NaN</td>\n",
       "      <td>NaN</td>\n",
       "      <td>NaN</td>\n",
       "      <td>NaN</td>\n",
       "      <td>1.0</td>\n",
       "      <td>국무위원회</td>\n",
       "      <td>국방성_군사대외사업국</td>\n",
       "      <td>right_only</td>\n",
       "    </tr>\n",
       "    <tr>\n",
       "      <th>2416</th>\n",
       "      <td>NaN</td>\n",
       "      <td>NaN</td>\n",
       "      <td>NaN</td>\n",
       "      <td>NaN</td>\n",
       "      <td>NaN</td>\n",
       "      <td>NaN</td>\n",
       "      <td>NaN</td>\n",
       "      <td>NaN</td>\n",
       "      <td>NaN</td>\n",
       "      <td>1.0</td>\n",
       "      <td>국무위원회</td>\n",
       "      <td>국방성_작전국</td>\n",
       "      <td>right_only</td>\n",
       "    </tr>\n",
       "    <tr>\n",
       "      <th>2417</th>\n",
       "      <td>NaN</td>\n",
       "      <td>NaN</td>\n",
       "      <td>NaN</td>\n",
       "      <td>NaN</td>\n",
       "      <td>NaN</td>\n",
       "      <td>NaN</td>\n",
       "      <td>NaN</td>\n",
       "      <td>NaN</td>\n",
       "      <td>NaN</td>\n",
       "      <td>1.0</td>\n",
       "      <td>국무위원회</td>\n",
       "      <td>국방성_철도사령부</td>\n",
       "      <td>right_only</td>\n",
       "    </tr>\n",
       "    <tr>\n",
       "      <th>2418</th>\n",
       "      <td>NaN</td>\n",
       "      <td>NaN</td>\n",
       "      <td>NaN</td>\n",
       "      <td>NaN</td>\n",
       "      <td>NaN</td>\n",
       "      <td>NaN</td>\n",
       "      <td>NaN</td>\n",
       "      <td>NaN</td>\n",
       "      <td>NaN</td>\n",
       "      <td>1.0</td>\n",
       "      <td>국무위원회</td>\n",
       "      <td>정책국</td>\n",
       "      <td>right_only</td>\n",
       "    </tr>\n",
       "    <tr>\n",
       "      <th>2419</th>\n",
       "      <td>NaN</td>\n",
       "      <td>NaN</td>\n",
       "      <td>NaN</td>\n",
       "      <td>NaN</td>\n",
       "      <td>NaN</td>\n",
       "      <td>NaN</td>\n",
       "      <td>NaN</td>\n",
       "      <td>NaN</td>\n",
       "      <td>NaN</td>\n",
       "      <td>1.0</td>\n",
       "      <td>내각</td>\n",
       "      <td>문화성_출판지도국_제1부</td>\n",
       "      <td>right_only</td>\n",
       "    </tr>\n",
       "    <tr>\n",
       "      <th>2420</th>\n",
       "      <td>NaN</td>\n",
       "      <td>NaN</td>\n",
       "      <td>NaN</td>\n",
       "      <td>NaN</td>\n",
       "      <td>NaN</td>\n",
       "      <td>NaN</td>\n",
       "      <td>NaN</td>\n",
       "      <td>NaN</td>\n",
       "      <td>NaN</td>\n",
       "      <td>1.0</td>\n",
       "      <td>Deprecated</td>\n",
       "      <td>Deprecated</td>\n",
       "      <td>right_only</td>\n",
       "    </tr>\n",
       "    <tr>\n",
       "      <th>2427</th>\n",
       "      <td>NaN</td>\n",
       "      <td>NaN</td>\n",
       "      <td>NaN</td>\n",
       "      <td>NaN</td>\n",
       "      <td>NaN</td>\n",
       "      <td>NaN</td>\n",
       "      <td>NaN</td>\n",
       "      <td>NaN</td>\n",
       "      <td>NaN</td>\n",
       "      <td>NaN</td>\n",
       "      <td>Deprecated</td>\n",
       "      <td>Deprecated</td>\n",
       "      <td>right_only</td>\n",
       "    </tr>\n",
       "    <tr>\n",
       "      <th>2428</th>\n",
       "      <td>NaN</td>\n",
       "      <td>NaN</td>\n",
       "      <td>NaN</td>\n",
       "      <td>NaN</td>\n",
       "      <td>NaN</td>\n",
       "      <td>NaN</td>\n",
       "      <td>NaN</td>\n",
       "      <td>NaN</td>\n",
       "      <td>NaN</td>\n",
       "      <td>1.0</td>\n",
       "      <td>내각</td>\n",
       "      <td>자원개발성</td>\n",
       "      <td>right_only</td>\n",
       "    </tr>\n",
       "    <tr>\n",
       "      <th>2429</th>\n",
       "      <td>NaN</td>\n",
       "      <td>NaN</td>\n",
       "      <td>NaN</td>\n",
       "      <td>NaN</td>\n",
       "      <td>NaN</td>\n",
       "      <td>NaN</td>\n",
       "      <td>NaN</td>\n",
       "      <td>NaN</td>\n",
       "      <td>NaN</td>\n",
       "      <td>1.0</td>\n",
       "      <td>내각</td>\n",
       "      <td>내각정치국</td>\n",
       "      <td>right_only</td>\n",
       "    </tr>\n",
       "    <tr>\n",
       "      <th>2430</th>\n",
       "      <td>NaN</td>\n",
       "      <td>NaN</td>\n",
       "      <td>NaN</td>\n",
       "      <td>NaN</td>\n",
       "      <td>NaN</td>\n",
       "      <td>NaN</td>\n",
       "      <td>NaN</td>\n",
       "      <td>NaN</td>\n",
       "      <td>NaN</td>\n",
       "      <td>1.0</td>\n",
       "      <td>내각</td>\n",
       "      <td>정보산업성_평양전화국</td>\n",
       "      <td>right_only</td>\n",
       "    </tr>\n",
       "    <tr>\n",
       "      <th>2431</th>\n",
       "      <td>NaN</td>\n",
       "      <td>NaN</td>\n",
       "      <td>NaN</td>\n",
       "      <td>NaN</td>\n",
       "      <td>NaN</td>\n",
       "      <td>NaN</td>\n",
       "      <td>NaN</td>\n",
       "      <td>NaN</td>\n",
       "      <td>NaN</td>\n",
       "      <td>1.0</td>\n",
       "      <td>내각</td>\n",
       "      <td>정보산업성_정보통신연구소</td>\n",
       "      <td>right_only</td>\n",
       "    </tr>\n",
       "    <tr>\n",
       "      <th>2432</th>\n",
       "      <td>NaN</td>\n",
       "      <td>NaN</td>\n",
       "      <td>NaN</td>\n",
       "      <td>NaN</td>\n",
       "      <td>NaN</td>\n",
       "      <td>NaN</td>\n",
       "      <td>NaN</td>\n",
       "      <td>NaN</td>\n",
       "      <td>NaN</td>\n",
       "      <td>1.0</td>\n",
       "      <td>내각</td>\n",
       "      <td>정보산업성_무선및TV방송지도국</td>\n",
       "      <td>right_only</td>\n",
       "    </tr>\n",
       "    <tr>\n",
       "      <th>2434</th>\n",
       "      <td>NaN</td>\n",
       "      <td>NaN</td>\n",
       "      <td>NaN</td>\n",
       "      <td>NaN</td>\n",
       "      <td>NaN</td>\n",
       "      <td>NaN</td>\n",
       "      <td>NaN</td>\n",
       "      <td>NaN</td>\n",
       "      <td>NaN</td>\n",
       "      <td>1.0</td>\n",
       "      <td>노농적위군</td>\n",
       "      <td>NaN</td>\n",
       "      <td>right_only</td>\n",
       "    </tr>\n",
       "    <tr>\n",
       "      <th>2435</th>\n",
       "      <td>NaN</td>\n",
       "      <td>NaN</td>\n",
       "      <td>NaN</td>\n",
       "      <td>NaN</td>\n",
       "      <td>NaN</td>\n",
       "      <td>NaN</td>\n",
       "      <td>NaN</td>\n",
       "      <td>NaN</td>\n",
       "      <td>NaN</td>\n",
       "      <td>1.0</td>\n",
       "      <td>내각</td>\n",
       "      <td>양강도인민위원회</td>\n",
       "      <td>right_only</td>\n",
       "    </tr>\n",
       "    <tr>\n",
       "      <th>2436</th>\n",
       "      <td>NaN</td>\n",
       "      <td>NaN</td>\n",
       "      <td>NaN</td>\n",
       "      <td>NaN</td>\n",
       "      <td>NaN</td>\n",
       "      <td>NaN</td>\n",
       "      <td>NaN</td>\n",
       "      <td>NaN</td>\n",
       "      <td>NaN</td>\n",
       "      <td>1.0</td>\n",
       "      <td>내각</td>\n",
       "      <td>자강도인민위원회</td>\n",
       "      <td>right_only</td>\n",
       "    </tr>\n",
       "    <tr>\n",
       "      <th>2437</th>\n",
       "      <td>NaN</td>\n",
       "      <td>NaN</td>\n",
       "      <td>NaN</td>\n",
       "      <td>NaN</td>\n",
       "      <td>NaN</td>\n",
       "      <td>NaN</td>\n",
       "      <td>NaN</td>\n",
       "      <td>NaN</td>\n",
       "      <td>NaN</td>\n",
       "      <td>1.0</td>\n",
       "      <td>최고인민회의</td>\n",
       "      <td>함경남도인민위원회_함흥시인민위원회</td>\n",
       "      <td>right_only</td>\n",
       "    </tr>\n",
       "    <tr>\n",
       "      <th>2438</th>\n",
       "      <td>NaN</td>\n",
       "      <td>NaN</td>\n",
       "      <td>NaN</td>\n",
       "      <td>NaN</td>\n",
       "      <td>NaN</td>\n",
       "      <td>NaN</td>\n",
       "      <td>NaN</td>\n",
       "      <td>NaN</td>\n",
       "      <td>NaN</td>\n",
       "      <td>1.0</td>\n",
       "      <td>최고인민회의</td>\n",
       "      <td>함경북도인민위원회_명천군인민위원회</td>\n",
       "      <td>right_only</td>\n",
       "    </tr>\n",
       "    <tr>\n",
       "      <th>2439</th>\n",
       "      <td>NaN</td>\n",
       "      <td>NaN</td>\n",
       "      <td>NaN</td>\n",
       "      <td>NaN</td>\n",
       "      <td>NaN</td>\n",
       "      <td>NaN</td>\n",
       "      <td>NaN</td>\n",
       "      <td>NaN</td>\n",
       "      <td>NaN</td>\n",
       "      <td>1.0</td>\n",
       "      <td>내각</td>\n",
       "      <td>대외경제성_민족경제협력위원회_금강산국제관광특구지도국</td>\n",
       "      <td>right_only</td>\n",
       "    </tr>\n",
       "    <tr>\n",
       "      <th>2441</th>\n",
       "      <td>NaN</td>\n",
       "      <td>NaN</td>\n",
       "      <td>NaN</td>\n",
       "      <td>NaN</td>\n",
       "      <td>NaN</td>\n",
       "      <td>NaN</td>\n",
       "      <td>NaN</td>\n",
       "      <td>NaN</td>\n",
       "      <td>NaN</td>\n",
       "      <td>1.0</td>\n",
       "      <td>총참모부</td>\n",
       "      <td>작전총국_제5처_제11군단</td>\n",
       "      <td>right_only</td>\n",
       "    </tr>\n",
       "  </tbody>\n",
       "</table>\n",
       "</div>"
      ],
      "text/plain": [
       "      InsideGov_x PrimaryInstitution OrgName ImmediateSuperiorOrg  \\\n",
       "1397          NaN                NaN     NaN                  NaN   \n",
       "1850          NaN                NaN     NaN                  NaN   \n",
       "2366          NaN                NaN     NaN                  NaN   \n",
       "2367          NaN                NaN     NaN                  NaN   \n",
       "2374          NaN                NaN     NaN                  NaN   \n",
       "2376          NaN                NaN     NaN                  NaN   \n",
       "2377          NaN                NaN     NaN                  NaN   \n",
       "2380          NaN                NaN     NaN                  NaN   \n",
       "2397          NaN                NaN     NaN                  NaN   \n",
       "2399          NaN                NaN     NaN                  NaN   \n",
       "2408          NaN                NaN     NaN                  NaN   \n",
       "2409          NaN                NaN     NaN                  NaN   \n",
       "2410          NaN                NaN     NaN                  NaN   \n",
       "2411          NaN                NaN     NaN                  NaN   \n",
       "2412          NaN                NaN     NaN                  NaN   \n",
       "2413          NaN                NaN     NaN                  NaN   \n",
       "2414          NaN                NaN     NaN                  NaN   \n",
       "2415          NaN                NaN     NaN                  NaN   \n",
       "2416          NaN                NaN     NaN                  NaN   \n",
       "2417          NaN                NaN     NaN                  NaN   \n",
       "2418          NaN                NaN     NaN                  NaN   \n",
       "2419          NaN                NaN     NaN                  NaN   \n",
       "2420          NaN                NaN     NaN                  NaN   \n",
       "2427          NaN                NaN     NaN                  NaN   \n",
       "2428          NaN                NaN     NaN                  NaN   \n",
       "2429          NaN                NaN     NaN                  NaN   \n",
       "2430          NaN                NaN     NaN                  NaN   \n",
       "2431          NaN                NaN     NaN                  NaN   \n",
       "2432          NaN                NaN     NaN                  NaN   \n",
       "2434          NaN                NaN     NaN                  NaN   \n",
       "2435          NaN                NaN     NaN                  NaN   \n",
       "2436          NaN                NaN     NaN                  NaN   \n",
       "2437          NaN                NaN     NaN                  NaN   \n",
       "2438          NaN                NaN     NaN                  NaN   \n",
       "2439          NaN                NaN     NaN                  NaN   \n",
       "2441          NaN                NaN     NaN                  NaN   \n",
       "\n",
       "      SupervisesParent LinkToNext_PI_x LinkToNext_Org_x  LinkToNext_Year  \\\n",
       "1397               NaN             NaN              NaN              NaN   \n",
       "1850               NaN             NaN              NaN              NaN   \n",
       "2366               NaN             NaN              NaN              NaN   \n",
       "2367               NaN             NaN              NaN              NaN   \n",
       "2374               NaN             NaN              NaN              NaN   \n",
       "2376               NaN             NaN              NaN              NaN   \n",
       "2377               NaN             NaN              NaN              NaN   \n",
       "2380               NaN             NaN              NaN              NaN   \n",
       "2397               NaN             NaN              NaN              NaN   \n",
       "2399               NaN             NaN              NaN              NaN   \n",
       "2408               NaN             NaN              NaN              NaN   \n",
       "2409               NaN             NaN              NaN              NaN   \n",
       "2410               NaN             NaN              NaN              NaN   \n",
       "2411               NaN             NaN              NaN              NaN   \n",
       "2412               NaN             NaN              NaN              NaN   \n",
       "2413               NaN             NaN              NaN              NaN   \n",
       "2414               NaN             NaN              NaN              NaN   \n",
       "2415               NaN             NaN              NaN              NaN   \n",
       "2416               NaN             NaN              NaN              NaN   \n",
       "2417               NaN             NaN              NaN              NaN   \n",
       "2418               NaN             NaN              NaN              NaN   \n",
       "2419               NaN             NaN              NaN              NaN   \n",
       "2420               NaN             NaN              NaN              NaN   \n",
       "2427               NaN             NaN              NaN              NaN   \n",
       "2428               NaN             NaN              NaN              NaN   \n",
       "2429               NaN             NaN              NaN              NaN   \n",
       "2430               NaN             NaN              NaN              NaN   \n",
       "2431               NaN             NaN              NaN              NaN   \n",
       "2432               NaN             NaN              NaN              NaN   \n",
       "2434               NaN             NaN              NaN              NaN   \n",
       "2435               NaN             NaN              NaN              NaN   \n",
       "2436               NaN             NaN              NaN              NaN   \n",
       "2437               NaN             NaN              NaN              NaN   \n",
       "2438               NaN             NaN              NaN              NaN   \n",
       "2439               NaN             NaN              NaN              NaN   \n",
       "2441               NaN             NaN              NaN              NaN   \n",
       "\n",
       "     Notes  InsideGov_y          LinkToNext_PI_y  \\\n",
       "1397   NaN          0.0                  Current   \n",
       "1850   NaN          1.0                  Current   \n",
       "2366   NaN          0.0                    평양예술단   \n",
       "2367   NaN          0.0            Please_Revise   \n",
       "2374   NaN          1.0            Please_Revise   \n",
       "2376   NaN          0.0                       내각   \n",
       "2377   NaN          0.0                Uncertain   \n",
       "2380   NaN          1.0                Uncertain   \n",
       "2397   NaN          0.0            Please_Revise   \n",
       "2399   NaN          1.0            Please_Revise   \n",
       "2408   NaN          NaN            Please_Revise   \n",
       "2409   NaN          0.0                   조선요리협회   \n",
       "2410   NaN          0.0                   묘향무역회사   \n",
       "2411   NaN          0.0            순천지구청년탄광연합기업소   \n",
       "2412   NaN          0.0                uncertain   \n",
       "2413   NaN          0.0            Please_Revise   \n",
       "2414   NaN          0.0  조선일본군위안부및강제연행피해자보상대책위원회   \n",
       "2415   NaN          1.0                    국무위원회   \n",
       "2416   NaN          1.0                    국무위원회   \n",
       "2417   NaN          1.0                    국무위원회   \n",
       "2418   NaN          1.0                    국무위원회   \n",
       "2419   NaN          1.0                       내각   \n",
       "2420   NaN          1.0               Deprecated   \n",
       "2427   NaN          NaN               Deprecated   \n",
       "2428   NaN          1.0                       내각   \n",
       "2429   NaN          1.0                       내각   \n",
       "2430   NaN          1.0                       내각   \n",
       "2431   NaN          1.0                       내각   \n",
       "2432   NaN          1.0                       내각   \n",
       "2434   NaN          1.0                    노농적위군   \n",
       "2435   NaN          1.0                       내각   \n",
       "2436   NaN          1.0                       내각   \n",
       "2437   NaN          1.0                   최고인민회의   \n",
       "2438   NaN          1.0                   최고인민회의   \n",
       "2439   NaN          1.0                       내각   \n",
       "2441   NaN          1.0                     총참모부   \n",
       "\n",
       "                  LinkToNext_Org_y      _merge  \n",
       "1397                       Current  right_only  \n",
       "1850                       Current  right_only  \n",
       "2366                           NaN  right_only  \n",
       "2367                 Please_Revise  right_only  \n",
       "2374                 Please_Revise  right_only  \n",
       "2376        교육위원회_고등교육성_계응상사리원농업대학  right_only  \n",
       "2377                     Uncertain  right_only  \n",
       "2380                     Uncertain  right_only  \n",
       "2397                           NaN  right_only  \n",
       "2399                           NaN  right_only  \n",
       "2408                           NaN  right_only  \n",
       "2409                           NaN  right_only  \n",
       "2410                           NaN  right_only  \n",
       "2411                        신창청년탄광  right_only  \n",
       "2412                     uncertain  right_only  \n",
       "2413                       Current  right_only  \n",
       "2414                           NaN  right_only  \n",
       "2415                   국방성_군사대외사업국  right_only  \n",
       "2416                       국방성_작전국  right_only  \n",
       "2417                     국방성_철도사령부  right_only  \n",
       "2418                           정책국  right_only  \n",
       "2419                 문화성_출판지도국_제1부  right_only  \n",
       "2420                    Deprecated  right_only  \n",
       "2427                    Deprecated  right_only  \n",
       "2428                         자원개발성  right_only  \n",
       "2429                         내각정치국  right_only  \n",
       "2430                   정보산업성_평양전화국  right_only  \n",
       "2431                 정보산업성_정보통신연구소  right_only  \n",
       "2432              정보산업성_무선및TV방송지도국  right_only  \n",
       "2434                           NaN  right_only  \n",
       "2435                      양강도인민위원회  right_only  \n",
       "2436                      자강도인민위원회  right_only  \n",
       "2437            함경남도인민위원회_함흥시인민위원회  right_only  \n",
       "2438            함경북도인민위원회_명천군인민위원회  right_only  \n",
       "2439  대외경제성_민족경제협력위원회_금강산국제관광특구지도국  right_only  \n",
       "2441                작전총국_제5처_제11군단  right_only  "
      ]
     },
     "execution_count": 137,
     "metadata": {},
     "output_type": "execute_result"
    }
   ],
   "source": [
    "merged_right"
   ]
  },
  {
   "cell_type": "code",
   "execution_count": 138,
   "id": "bfd98f16",
   "metadata": {},
   "outputs": [],
   "source": [
    "# prep merged_right columns for concat with orgtree\n",
    "columns_select = ['InsideGov_y','LinkToNext_PI_y','LinkToNext_Org_y',\n",
    "                  'ImmediateSuperiorOrg','SupervisesParent',\n",
    "                  'LinkToNext_PI_x','LinkToNext_Org_x','LinkToNext_Year','Notes']"
   ]
  },
  {
   "cell_type": "code",
   "execution_count": 139,
   "id": "28c2f8cf",
   "metadata": {},
   "outputs": [
    {
     "data": {
      "text/plain": [
       "(36, 9)"
      ]
     },
     "execution_count": 139,
     "metadata": {},
     "output_type": "execute_result"
    }
   ],
   "source": [
    "merged_right = merged_right[columns_select]\n",
    "merged_right.shape"
   ]
  },
  {
   "cell_type": "code",
   "execution_count": 140,
   "id": "5059242e",
   "metadata": {},
   "outputs": [],
   "source": [
    "merged_right.columns = orgtree.columns"
   ]
  },
  {
   "cell_type": "code",
   "execution_count": 141,
   "id": "142d6a66",
   "metadata": {},
   "outputs": [
    {
     "data": {
      "text/html": [
       "<div>\n",
       "<style scoped>\n",
       "    .dataframe tbody tr th:only-of-type {\n",
       "        vertical-align: middle;\n",
       "    }\n",
       "\n",
       "    .dataframe tbody tr th {\n",
       "        vertical-align: top;\n",
       "    }\n",
       "\n",
       "    .dataframe thead th {\n",
       "        text-align: right;\n",
       "    }\n",
       "</style>\n",
       "<table border=\"1\" class=\"dataframe\">\n",
       "  <thead>\n",
       "    <tr style=\"text-align: right;\">\n",
       "      <th></th>\n",
       "      <th>InsideGov</th>\n",
       "      <th>PrimaryInstitution</th>\n",
       "      <th>OrgName</th>\n",
       "      <th>ImmediateSuperiorOrg</th>\n",
       "      <th>SupervisesParent</th>\n",
       "      <th>LinkToNext_PI</th>\n",
       "      <th>LinkToNext_Org</th>\n",
       "      <th>LinkToNext_Year</th>\n",
       "      <th>Notes</th>\n",
       "    </tr>\n",
       "  </thead>\n",
       "  <tbody>\n",
       "    <tr>\n",
       "      <th>1397</th>\n",
       "      <td>0.0</td>\n",
       "      <td>Current</td>\n",
       "      <td>Current</td>\n",
       "      <td>NaN</td>\n",
       "      <td>NaN</td>\n",
       "      <td>NaN</td>\n",
       "      <td>NaN</td>\n",
       "      <td>NaN</td>\n",
       "      <td>NaN</td>\n",
       "    </tr>\n",
       "    <tr>\n",
       "      <th>1850</th>\n",
       "      <td>1.0</td>\n",
       "      <td>Current</td>\n",
       "      <td>Current</td>\n",
       "      <td>NaN</td>\n",
       "      <td>NaN</td>\n",
       "      <td>NaN</td>\n",
       "      <td>NaN</td>\n",
       "      <td>NaN</td>\n",
       "      <td>NaN</td>\n",
       "    </tr>\n",
       "    <tr>\n",
       "      <th>2366</th>\n",
       "      <td>0.0</td>\n",
       "      <td>평양예술단</td>\n",
       "      <td>NaN</td>\n",
       "      <td>NaN</td>\n",
       "      <td>NaN</td>\n",
       "      <td>NaN</td>\n",
       "      <td>NaN</td>\n",
       "      <td>NaN</td>\n",
       "      <td>NaN</td>\n",
       "    </tr>\n",
       "    <tr>\n",
       "      <th>2367</th>\n",
       "      <td>0.0</td>\n",
       "      <td>Please_Revise</td>\n",
       "      <td>Please_Revise</td>\n",
       "      <td>NaN</td>\n",
       "      <td>NaN</td>\n",
       "      <td>NaN</td>\n",
       "      <td>NaN</td>\n",
       "      <td>NaN</td>\n",
       "      <td>NaN</td>\n",
       "    </tr>\n",
       "    <tr>\n",
       "      <th>2374</th>\n",
       "      <td>1.0</td>\n",
       "      <td>Please_Revise</td>\n",
       "      <td>Please_Revise</td>\n",
       "      <td>NaN</td>\n",
       "      <td>NaN</td>\n",
       "      <td>NaN</td>\n",
       "      <td>NaN</td>\n",
       "      <td>NaN</td>\n",
       "      <td>NaN</td>\n",
       "    </tr>\n",
       "    <tr>\n",
       "      <th>2376</th>\n",
       "      <td>0.0</td>\n",
       "      <td>내각</td>\n",
       "      <td>교육위원회_고등교육성_계응상사리원농업대학</td>\n",
       "      <td>NaN</td>\n",
       "      <td>NaN</td>\n",
       "      <td>NaN</td>\n",
       "      <td>NaN</td>\n",
       "      <td>NaN</td>\n",
       "      <td>NaN</td>\n",
       "    </tr>\n",
       "    <tr>\n",
       "      <th>2377</th>\n",
       "      <td>0.0</td>\n",
       "      <td>Uncertain</td>\n",
       "      <td>Uncertain</td>\n",
       "      <td>NaN</td>\n",
       "      <td>NaN</td>\n",
       "      <td>NaN</td>\n",
       "      <td>NaN</td>\n",
       "      <td>NaN</td>\n",
       "      <td>NaN</td>\n",
       "    </tr>\n",
       "    <tr>\n",
       "      <th>2380</th>\n",
       "      <td>1.0</td>\n",
       "      <td>Uncertain</td>\n",
       "      <td>Uncertain</td>\n",
       "      <td>NaN</td>\n",
       "      <td>NaN</td>\n",
       "      <td>NaN</td>\n",
       "      <td>NaN</td>\n",
       "      <td>NaN</td>\n",
       "      <td>NaN</td>\n",
       "    </tr>\n",
       "    <tr>\n",
       "      <th>2397</th>\n",
       "      <td>0.0</td>\n",
       "      <td>Please_Revise</td>\n",
       "      <td>NaN</td>\n",
       "      <td>NaN</td>\n",
       "      <td>NaN</td>\n",
       "      <td>NaN</td>\n",
       "      <td>NaN</td>\n",
       "      <td>NaN</td>\n",
       "      <td>NaN</td>\n",
       "    </tr>\n",
       "    <tr>\n",
       "      <th>2399</th>\n",
       "      <td>1.0</td>\n",
       "      <td>Please_Revise</td>\n",
       "      <td>NaN</td>\n",
       "      <td>NaN</td>\n",
       "      <td>NaN</td>\n",
       "      <td>NaN</td>\n",
       "      <td>NaN</td>\n",
       "      <td>NaN</td>\n",
       "      <td>NaN</td>\n",
       "    </tr>\n",
       "    <tr>\n",
       "      <th>2408</th>\n",
       "      <td>NaN</td>\n",
       "      <td>Please_Revise</td>\n",
       "      <td>NaN</td>\n",
       "      <td>NaN</td>\n",
       "      <td>NaN</td>\n",
       "      <td>NaN</td>\n",
       "      <td>NaN</td>\n",
       "      <td>NaN</td>\n",
       "      <td>NaN</td>\n",
       "    </tr>\n",
       "    <tr>\n",
       "      <th>2409</th>\n",
       "      <td>0.0</td>\n",
       "      <td>조선요리협회</td>\n",
       "      <td>NaN</td>\n",
       "      <td>NaN</td>\n",
       "      <td>NaN</td>\n",
       "      <td>NaN</td>\n",
       "      <td>NaN</td>\n",
       "      <td>NaN</td>\n",
       "      <td>NaN</td>\n",
       "    </tr>\n",
       "    <tr>\n",
       "      <th>2410</th>\n",
       "      <td>0.0</td>\n",
       "      <td>묘향무역회사</td>\n",
       "      <td>NaN</td>\n",
       "      <td>NaN</td>\n",
       "      <td>NaN</td>\n",
       "      <td>NaN</td>\n",
       "      <td>NaN</td>\n",
       "      <td>NaN</td>\n",
       "      <td>NaN</td>\n",
       "    </tr>\n",
       "    <tr>\n",
       "      <th>2411</th>\n",
       "      <td>0.0</td>\n",
       "      <td>순천지구청년탄광연합기업소</td>\n",
       "      <td>신창청년탄광</td>\n",
       "      <td>NaN</td>\n",
       "      <td>NaN</td>\n",
       "      <td>NaN</td>\n",
       "      <td>NaN</td>\n",
       "      <td>NaN</td>\n",
       "      <td>NaN</td>\n",
       "    </tr>\n",
       "    <tr>\n",
       "      <th>2412</th>\n",
       "      <td>0.0</td>\n",
       "      <td>uncertain</td>\n",
       "      <td>uncertain</td>\n",
       "      <td>NaN</td>\n",
       "      <td>NaN</td>\n",
       "      <td>NaN</td>\n",
       "      <td>NaN</td>\n",
       "      <td>NaN</td>\n",
       "      <td>NaN</td>\n",
       "    </tr>\n",
       "    <tr>\n",
       "      <th>2413</th>\n",
       "      <td>0.0</td>\n",
       "      <td>Please_Revise</td>\n",
       "      <td>Current</td>\n",
       "      <td>NaN</td>\n",
       "      <td>NaN</td>\n",
       "      <td>NaN</td>\n",
       "      <td>NaN</td>\n",
       "      <td>NaN</td>\n",
       "      <td>NaN</td>\n",
       "    </tr>\n",
       "    <tr>\n",
       "      <th>2414</th>\n",
       "      <td>0.0</td>\n",
       "      <td>조선일본군위안부및강제연행피해자보상대책위원회</td>\n",
       "      <td>NaN</td>\n",
       "      <td>NaN</td>\n",
       "      <td>NaN</td>\n",
       "      <td>NaN</td>\n",
       "      <td>NaN</td>\n",
       "      <td>NaN</td>\n",
       "      <td>NaN</td>\n",
       "    </tr>\n",
       "    <tr>\n",
       "      <th>2415</th>\n",
       "      <td>1.0</td>\n",
       "      <td>국무위원회</td>\n",
       "      <td>국방성_군사대외사업국</td>\n",
       "      <td>NaN</td>\n",
       "      <td>NaN</td>\n",
       "      <td>NaN</td>\n",
       "      <td>NaN</td>\n",
       "      <td>NaN</td>\n",
       "      <td>NaN</td>\n",
       "    </tr>\n",
       "    <tr>\n",
       "      <th>2416</th>\n",
       "      <td>1.0</td>\n",
       "      <td>국무위원회</td>\n",
       "      <td>국방성_작전국</td>\n",
       "      <td>NaN</td>\n",
       "      <td>NaN</td>\n",
       "      <td>NaN</td>\n",
       "      <td>NaN</td>\n",
       "      <td>NaN</td>\n",
       "      <td>NaN</td>\n",
       "    </tr>\n",
       "    <tr>\n",
       "      <th>2417</th>\n",
       "      <td>1.0</td>\n",
       "      <td>국무위원회</td>\n",
       "      <td>국방성_철도사령부</td>\n",
       "      <td>NaN</td>\n",
       "      <td>NaN</td>\n",
       "      <td>NaN</td>\n",
       "      <td>NaN</td>\n",
       "      <td>NaN</td>\n",
       "      <td>NaN</td>\n",
       "    </tr>\n",
       "    <tr>\n",
       "      <th>2418</th>\n",
       "      <td>1.0</td>\n",
       "      <td>국무위원회</td>\n",
       "      <td>정책국</td>\n",
       "      <td>NaN</td>\n",
       "      <td>NaN</td>\n",
       "      <td>NaN</td>\n",
       "      <td>NaN</td>\n",
       "      <td>NaN</td>\n",
       "      <td>NaN</td>\n",
       "    </tr>\n",
       "    <tr>\n",
       "      <th>2419</th>\n",
       "      <td>1.0</td>\n",
       "      <td>내각</td>\n",
       "      <td>문화성_출판지도국_제1부</td>\n",
       "      <td>NaN</td>\n",
       "      <td>NaN</td>\n",
       "      <td>NaN</td>\n",
       "      <td>NaN</td>\n",
       "      <td>NaN</td>\n",
       "      <td>NaN</td>\n",
       "    </tr>\n",
       "    <tr>\n",
       "      <th>2420</th>\n",
       "      <td>1.0</td>\n",
       "      <td>Deprecated</td>\n",
       "      <td>Deprecated</td>\n",
       "      <td>NaN</td>\n",
       "      <td>NaN</td>\n",
       "      <td>NaN</td>\n",
       "      <td>NaN</td>\n",
       "      <td>NaN</td>\n",
       "      <td>NaN</td>\n",
       "    </tr>\n",
       "    <tr>\n",
       "      <th>2427</th>\n",
       "      <td>NaN</td>\n",
       "      <td>Deprecated</td>\n",
       "      <td>Deprecated</td>\n",
       "      <td>NaN</td>\n",
       "      <td>NaN</td>\n",
       "      <td>NaN</td>\n",
       "      <td>NaN</td>\n",
       "      <td>NaN</td>\n",
       "      <td>NaN</td>\n",
       "    </tr>\n",
       "    <tr>\n",
       "      <th>2428</th>\n",
       "      <td>1.0</td>\n",
       "      <td>내각</td>\n",
       "      <td>자원개발성</td>\n",
       "      <td>NaN</td>\n",
       "      <td>NaN</td>\n",
       "      <td>NaN</td>\n",
       "      <td>NaN</td>\n",
       "      <td>NaN</td>\n",
       "      <td>NaN</td>\n",
       "    </tr>\n",
       "    <tr>\n",
       "      <th>2429</th>\n",
       "      <td>1.0</td>\n",
       "      <td>내각</td>\n",
       "      <td>내각정치국</td>\n",
       "      <td>NaN</td>\n",
       "      <td>NaN</td>\n",
       "      <td>NaN</td>\n",
       "      <td>NaN</td>\n",
       "      <td>NaN</td>\n",
       "      <td>NaN</td>\n",
       "    </tr>\n",
       "    <tr>\n",
       "      <th>2430</th>\n",
       "      <td>1.0</td>\n",
       "      <td>내각</td>\n",
       "      <td>정보산업성_평양전화국</td>\n",
       "      <td>NaN</td>\n",
       "      <td>NaN</td>\n",
       "      <td>NaN</td>\n",
       "      <td>NaN</td>\n",
       "      <td>NaN</td>\n",
       "      <td>NaN</td>\n",
       "    </tr>\n",
       "    <tr>\n",
       "      <th>2431</th>\n",
       "      <td>1.0</td>\n",
       "      <td>내각</td>\n",
       "      <td>정보산업성_정보통신연구소</td>\n",
       "      <td>NaN</td>\n",
       "      <td>NaN</td>\n",
       "      <td>NaN</td>\n",
       "      <td>NaN</td>\n",
       "      <td>NaN</td>\n",
       "      <td>NaN</td>\n",
       "    </tr>\n",
       "    <tr>\n",
       "      <th>2432</th>\n",
       "      <td>1.0</td>\n",
       "      <td>내각</td>\n",
       "      <td>정보산업성_무선및TV방송지도국</td>\n",
       "      <td>NaN</td>\n",
       "      <td>NaN</td>\n",
       "      <td>NaN</td>\n",
       "      <td>NaN</td>\n",
       "      <td>NaN</td>\n",
       "      <td>NaN</td>\n",
       "    </tr>\n",
       "    <tr>\n",
       "      <th>2434</th>\n",
       "      <td>1.0</td>\n",
       "      <td>노농적위군</td>\n",
       "      <td>NaN</td>\n",
       "      <td>NaN</td>\n",
       "      <td>NaN</td>\n",
       "      <td>NaN</td>\n",
       "      <td>NaN</td>\n",
       "      <td>NaN</td>\n",
       "      <td>NaN</td>\n",
       "    </tr>\n",
       "    <tr>\n",
       "      <th>2435</th>\n",
       "      <td>1.0</td>\n",
       "      <td>내각</td>\n",
       "      <td>양강도인민위원회</td>\n",
       "      <td>NaN</td>\n",
       "      <td>NaN</td>\n",
       "      <td>NaN</td>\n",
       "      <td>NaN</td>\n",
       "      <td>NaN</td>\n",
       "      <td>NaN</td>\n",
       "    </tr>\n",
       "    <tr>\n",
       "      <th>2436</th>\n",
       "      <td>1.0</td>\n",
       "      <td>내각</td>\n",
       "      <td>자강도인민위원회</td>\n",
       "      <td>NaN</td>\n",
       "      <td>NaN</td>\n",
       "      <td>NaN</td>\n",
       "      <td>NaN</td>\n",
       "      <td>NaN</td>\n",
       "      <td>NaN</td>\n",
       "    </tr>\n",
       "    <tr>\n",
       "      <th>2437</th>\n",
       "      <td>1.0</td>\n",
       "      <td>최고인민회의</td>\n",
       "      <td>함경남도인민위원회_함흥시인민위원회</td>\n",
       "      <td>NaN</td>\n",
       "      <td>NaN</td>\n",
       "      <td>NaN</td>\n",
       "      <td>NaN</td>\n",
       "      <td>NaN</td>\n",
       "      <td>NaN</td>\n",
       "    </tr>\n",
       "    <tr>\n",
       "      <th>2438</th>\n",
       "      <td>1.0</td>\n",
       "      <td>최고인민회의</td>\n",
       "      <td>함경북도인민위원회_명천군인민위원회</td>\n",
       "      <td>NaN</td>\n",
       "      <td>NaN</td>\n",
       "      <td>NaN</td>\n",
       "      <td>NaN</td>\n",
       "      <td>NaN</td>\n",
       "      <td>NaN</td>\n",
       "    </tr>\n",
       "    <tr>\n",
       "      <th>2439</th>\n",
       "      <td>1.0</td>\n",
       "      <td>내각</td>\n",
       "      <td>대외경제성_민족경제협력위원회_금강산국제관광특구지도국</td>\n",
       "      <td>NaN</td>\n",
       "      <td>NaN</td>\n",
       "      <td>NaN</td>\n",
       "      <td>NaN</td>\n",
       "      <td>NaN</td>\n",
       "      <td>NaN</td>\n",
       "    </tr>\n",
       "    <tr>\n",
       "      <th>2441</th>\n",
       "      <td>1.0</td>\n",
       "      <td>총참모부</td>\n",
       "      <td>작전총국_제5처_제11군단</td>\n",
       "      <td>NaN</td>\n",
       "      <td>NaN</td>\n",
       "      <td>NaN</td>\n",
       "      <td>NaN</td>\n",
       "      <td>NaN</td>\n",
       "      <td>NaN</td>\n",
       "    </tr>\n",
       "  </tbody>\n",
       "</table>\n",
       "</div>"
      ],
      "text/plain": [
       "      InsideGov       PrimaryInstitution                       OrgName  \\\n",
       "1397        0.0                  Current                       Current   \n",
       "1850        1.0                  Current                       Current   \n",
       "2366        0.0                    평양예술단                           NaN   \n",
       "2367        0.0            Please_Revise                 Please_Revise   \n",
       "2374        1.0            Please_Revise                 Please_Revise   \n",
       "2376        0.0                       내각        교육위원회_고등교육성_계응상사리원농업대학   \n",
       "2377        0.0                Uncertain                     Uncertain   \n",
       "2380        1.0                Uncertain                     Uncertain   \n",
       "2397        0.0            Please_Revise                           NaN   \n",
       "2399        1.0            Please_Revise                           NaN   \n",
       "2408        NaN            Please_Revise                           NaN   \n",
       "2409        0.0                   조선요리협회                           NaN   \n",
       "2410        0.0                   묘향무역회사                           NaN   \n",
       "2411        0.0            순천지구청년탄광연합기업소                        신창청년탄광   \n",
       "2412        0.0                uncertain                     uncertain   \n",
       "2413        0.0            Please_Revise                       Current   \n",
       "2414        0.0  조선일본군위안부및강제연행피해자보상대책위원회                           NaN   \n",
       "2415        1.0                    국무위원회                   국방성_군사대외사업국   \n",
       "2416        1.0                    국무위원회                       국방성_작전국   \n",
       "2417        1.0                    국무위원회                     국방성_철도사령부   \n",
       "2418        1.0                    국무위원회                           정책국   \n",
       "2419        1.0                       내각                 문화성_출판지도국_제1부   \n",
       "2420        1.0               Deprecated                    Deprecated   \n",
       "2427        NaN               Deprecated                    Deprecated   \n",
       "2428        1.0                       내각                         자원개발성   \n",
       "2429        1.0                       내각                         내각정치국   \n",
       "2430        1.0                       내각                   정보산업성_평양전화국   \n",
       "2431        1.0                       내각                 정보산업성_정보통신연구소   \n",
       "2432        1.0                       내각              정보산업성_무선및TV방송지도국   \n",
       "2434        1.0                    노농적위군                           NaN   \n",
       "2435        1.0                       내각                      양강도인민위원회   \n",
       "2436        1.0                       내각                      자강도인민위원회   \n",
       "2437        1.0                   최고인민회의            함경남도인민위원회_함흥시인민위원회   \n",
       "2438        1.0                   최고인민회의            함경북도인민위원회_명천군인민위원회   \n",
       "2439        1.0                       내각  대외경제성_민족경제협력위원회_금강산국제관광특구지도국   \n",
       "2441        1.0                     총참모부                작전총국_제5처_제11군단   \n",
       "\n",
       "     ImmediateSuperiorOrg  SupervisesParent LinkToNext_PI LinkToNext_Org  \\\n",
       "1397                  NaN               NaN           NaN            NaN   \n",
       "1850                  NaN               NaN           NaN            NaN   \n",
       "2366                  NaN               NaN           NaN            NaN   \n",
       "2367                  NaN               NaN           NaN            NaN   \n",
       "2374                  NaN               NaN           NaN            NaN   \n",
       "2376                  NaN               NaN           NaN            NaN   \n",
       "2377                  NaN               NaN           NaN            NaN   \n",
       "2380                  NaN               NaN           NaN            NaN   \n",
       "2397                  NaN               NaN           NaN            NaN   \n",
       "2399                  NaN               NaN           NaN            NaN   \n",
       "2408                  NaN               NaN           NaN            NaN   \n",
       "2409                  NaN               NaN           NaN            NaN   \n",
       "2410                  NaN               NaN           NaN            NaN   \n",
       "2411                  NaN               NaN           NaN            NaN   \n",
       "2412                  NaN               NaN           NaN            NaN   \n",
       "2413                  NaN               NaN           NaN            NaN   \n",
       "2414                  NaN               NaN           NaN            NaN   \n",
       "2415                  NaN               NaN           NaN            NaN   \n",
       "2416                  NaN               NaN           NaN            NaN   \n",
       "2417                  NaN               NaN           NaN            NaN   \n",
       "2418                  NaN               NaN           NaN            NaN   \n",
       "2419                  NaN               NaN           NaN            NaN   \n",
       "2420                  NaN               NaN           NaN            NaN   \n",
       "2427                  NaN               NaN           NaN            NaN   \n",
       "2428                  NaN               NaN           NaN            NaN   \n",
       "2429                  NaN               NaN           NaN            NaN   \n",
       "2430                  NaN               NaN           NaN            NaN   \n",
       "2431                  NaN               NaN           NaN            NaN   \n",
       "2432                  NaN               NaN           NaN            NaN   \n",
       "2434                  NaN               NaN           NaN            NaN   \n",
       "2435                  NaN               NaN           NaN            NaN   \n",
       "2436                  NaN               NaN           NaN            NaN   \n",
       "2437                  NaN               NaN           NaN            NaN   \n",
       "2438                  NaN               NaN           NaN            NaN   \n",
       "2439                  NaN               NaN           NaN            NaN   \n",
       "2441                  NaN               NaN           NaN            NaN   \n",
       "\n",
       "      LinkToNext_Year Notes  \n",
       "1397              NaN   NaN  \n",
       "1850              NaN   NaN  \n",
       "2366              NaN   NaN  \n",
       "2367              NaN   NaN  \n",
       "2374              NaN   NaN  \n",
       "2376              NaN   NaN  \n",
       "2377              NaN   NaN  \n",
       "2380              NaN   NaN  \n",
       "2397              NaN   NaN  \n",
       "2399              NaN   NaN  \n",
       "2408              NaN   NaN  \n",
       "2409              NaN   NaN  \n",
       "2410              NaN   NaN  \n",
       "2411              NaN   NaN  \n",
       "2412              NaN   NaN  \n",
       "2413              NaN   NaN  \n",
       "2414              NaN   NaN  \n",
       "2415              NaN   NaN  \n",
       "2416              NaN   NaN  \n",
       "2417              NaN   NaN  \n",
       "2418              NaN   NaN  \n",
       "2419              NaN   NaN  \n",
       "2420              NaN   NaN  \n",
       "2427              NaN   NaN  \n",
       "2428              NaN   NaN  \n",
       "2429              NaN   NaN  \n",
       "2430              NaN   NaN  \n",
       "2431              NaN   NaN  \n",
       "2432              NaN   NaN  \n",
       "2434              NaN   NaN  \n",
       "2435              NaN   NaN  \n",
       "2436              NaN   NaN  \n",
       "2437              NaN   NaN  \n",
       "2438              NaN   NaN  \n",
       "2439              NaN   NaN  \n",
       "2441              NaN   NaN  "
      ]
     },
     "execution_count": 141,
     "metadata": {},
     "output_type": "execute_result"
    }
   ],
   "source": [
    "merged_right"
   ]
  },
  {
   "cell_type": "code",
   "execution_count": 142,
   "id": "5a35e964",
   "metadata": {},
   "outputs": [],
   "source": [
    "# concatenate orgtree & merged_right\n",
    "orgtree = pd.concat([orgtree,merged_right])"
   ]
  },
  {
   "cell_type": "code",
   "execution_count": 143,
   "id": "e3a11f22",
   "metadata": {},
   "outputs": [
    {
     "data": {
      "text/plain": [
       "(1326, 9)"
      ]
     },
     "execution_count": 143,
     "metadata": {},
     "output_type": "execute_result"
    }
   ],
   "source": [
    "orgtree.shape"
   ]
  },
  {
   "cell_type": "code",
   "execution_count": 144,
   "id": "cde0b634",
   "metadata": {},
   "outputs": [
    {
     "data": {
      "text/plain": [
       "(1326, 9)"
      ]
     },
     "execution_count": 144,
     "metadata": {},
     "output_type": "execute_result"
    }
   ],
   "source": [
    "# Step 1. drop NA keys\n",
    "orgtree.dropna(subset=[\"PrimaryInstitution\",\"OrgName\"],how=\"all\",inplace=True)\n",
    "orgtree.shape"
   ]
  },
  {
   "cell_type": "code",
   "execution_count": 145,
   "id": "6fb75109",
   "metadata": {},
   "outputs": [
    {
     "data": {
      "text/html": [
       "<div>\n",
       "<style scoped>\n",
       "    .dataframe tbody tr th:only-of-type {\n",
       "        vertical-align: middle;\n",
       "    }\n",
       "\n",
       "    .dataframe tbody tr th {\n",
       "        vertical-align: top;\n",
       "    }\n",
       "\n",
       "    .dataframe thead th {\n",
       "        text-align: right;\n",
       "    }\n",
       "</style>\n",
       "<table border=\"1\" class=\"dataframe\">\n",
       "  <thead>\n",
       "    <tr style=\"text-align: right;\">\n",
       "      <th></th>\n",
       "      <th>InsideGov</th>\n",
       "      <th>PrimaryInstitution</th>\n",
       "      <th>OrgName</th>\n",
       "      <th>ImmediateSuperiorOrg</th>\n",
       "      <th>SupervisesParent</th>\n",
       "      <th>LinkToNext_PI</th>\n",
       "      <th>LinkToNext_Org</th>\n",
       "      <th>LinkToNext_Year</th>\n",
       "      <th>Notes</th>\n",
       "    </tr>\n",
       "  </thead>\n",
       "  <tbody>\n",
       "  </tbody>\n",
       "</table>\n",
       "</div>"
      ],
      "text/plain": [
       "Empty DataFrame\n",
       "Columns: [InsideGov, PrimaryInstitution, OrgName, ImmediateSuperiorOrg, SupervisesParent, LinkToNext_PI, LinkToNext_Org, LinkToNext_Year, Notes]\n",
       "Index: []"
      ]
     },
     "execution_count": 145,
     "metadata": {},
     "output_type": "execute_result"
    }
   ],
   "source": [
    "# Step 2. verify no duplicate rows\n",
    "orgtree[orgtree.duplicated()]"
   ]
  },
  {
   "cell_type": "code",
   "execution_count": 146,
   "id": "90368e2a",
   "metadata": {},
   "outputs": [
    {
     "data": {
      "text/html": [
       "<div>\n",
       "<style scoped>\n",
       "    .dataframe tbody tr th:only-of-type {\n",
       "        vertical-align: middle;\n",
       "    }\n",
       "\n",
       "    .dataframe tbody tr th {\n",
       "        vertical-align: top;\n",
       "    }\n",
       "\n",
       "    .dataframe thead th {\n",
       "        text-align: right;\n",
       "    }\n",
       "</style>\n",
       "<table border=\"1\" class=\"dataframe\">\n",
       "  <thead>\n",
       "    <tr style=\"text-align: right;\">\n",
       "      <th></th>\n",
       "      <th>InsideGov</th>\n",
       "      <th>PrimaryInstitution</th>\n",
       "      <th>OrgName</th>\n",
       "      <th>ImmediateSuperiorOrg</th>\n",
       "      <th>SupervisesParent</th>\n",
       "      <th>LinkToNext_PI</th>\n",
       "      <th>LinkToNext_Org</th>\n",
       "      <th>LinkToNext_Year</th>\n",
       "      <th>Notes</th>\n",
       "    </tr>\n",
       "  </thead>\n",
       "  <tbody>\n",
       "    <tr>\n",
       "      <th>1397</th>\n",
       "      <td>0.0</td>\n",
       "      <td>Current</td>\n",
       "      <td>Current</td>\n",
       "      <td>NaN</td>\n",
       "      <td>NaN</td>\n",
       "      <td>NaN</td>\n",
       "      <td>NaN</td>\n",
       "      <td>NaN</td>\n",
       "      <td>NaN</td>\n",
       "    </tr>\n",
       "    <tr>\n",
       "      <th>1850</th>\n",
       "      <td>1.0</td>\n",
       "      <td>Current</td>\n",
       "      <td>Current</td>\n",
       "      <td>NaN</td>\n",
       "      <td>NaN</td>\n",
       "      <td>NaN</td>\n",
       "      <td>NaN</td>\n",
       "      <td>NaN</td>\n",
       "      <td>NaN</td>\n",
       "    </tr>\n",
       "    <tr>\n",
       "      <th>2420</th>\n",
       "      <td>1.0</td>\n",
       "      <td>Deprecated</td>\n",
       "      <td>Deprecated</td>\n",
       "      <td>NaN</td>\n",
       "      <td>NaN</td>\n",
       "      <td>NaN</td>\n",
       "      <td>NaN</td>\n",
       "      <td>NaN</td>\n",
       "      <td>NaN</td>\n",
       "    </tr>\n",
       "    <tr>\n",
       "      <th>2427</th>\n",
       "      <td>NaN</td>\n",
       "      <td>Deprecated</td>\n",
       "      <td>Deprecated</td>\n",
       "      <td>NaN</td>\n",
       "      <td>NaN</td>\n",
       "      <td>NaN</td>\n",
       "      <td>NaN</td>\n",
       "      <td>NaN</td>\n",
       "      <td>NaN</td>\n",
       "    </tr>\n",
       "    <tr>\n",
       "      <th>2367</th>\n",
       "      <td>0.0</td>\n",
       "      <td>Please_Revise</td>\n",
       "      <td>Please_Revise</td>\n",
       "      <td>NaN</td>\n",
       "      <td>NaN</td>\n",
       "      <td>NaN</td>\n",
       "      <td>NaN</td>\n",
       "      <td>NaN</td>\n",
       "      <td>NaN</td>\n",
       "    </tr>\n",
       "    <tr>\n",
       "      <th>2374</th>\n",
       "      <td>1.0</td>\n",
       "      <td>Please_Revise</td>\n",
       "      <td>Please_Revise</td>\n",
       "      <td>NaN</td>\n",
       "      <td>NaN</td>\n",
       "      <td>NaN</td>\n",
       "      <td>NaN</td>\n",
       "      <td>NaN</td>\n",
       "      <td>NaN</td>\n",
       "    </tr>\n",
       "    <tr>\n",
       "      <th>2397</th>\n",
       "      <td>0.0</td>\n",
       "      <td>Please_Revise</td>\n",
       "      <td>NaN</td>\n",
       "      <td>NaN</td>\n",
       "      <td>NaN</td>\n",
       "      <td>NaN</td>\n",
       "      <td>NaN</td>\n",
       "      <td>NaN</td>\n",
       "      <td>NaN</td>\n",
       "    </tr>\n",
       "    <tr>\n",
       "      <th>2399</th>\n",
       "      <td>1.0</td>\n",
       "      <td>Please_Revise</td>\n",
       "      <td>NaN</td>\n",
       "      <td>NaN</td>\n",
       "      <td>NaN</td>\n",
       "      <td>NaN</td>\n",
       "      <td>NaN</td>\n",
       "      <td>NaN</td>\n",
       "      <td>NaN</td>\n",
       "    </tr>\n",
       "    <tr>\n",
       "      <th>2408</th>\n",
       "      <td>NaN</td>\n",
       "      <td>Please_Revise</td>\n",
       "      <td>NaN</td>\n",
       "      <td>NaN</td>\n",
       "      <td>NaN</td>\n",
       "      <td>NaN</td>\n",
       "      <td>NaN</td>\n",
       "      <td>NaN</td>\n",
       "      <td>NaN</td>\n",
       "    </tr>\n",
       "    <tr>\n",
       "      <th>2377</th>\n",
       "      <td>0.0</td>\n",
       "      <td>Uncertain</td>\n",
       "      <td>Uncertain</td>\n",
       "      <td>NaN</td>\n",
       "      <td>NaN</td>\n",
       "      <td>NaN</td>\n",
       "      <td>NaN</td>\n",
       "      <td>NaN</td>\n",
       "      <td>NaN</td>\n",
       "    </tr>\n",
       "    <tr>\n",
       "      <th>2380</th>\n",
       "      <td>1.0</td>\n",
       "      <td>Uncertain</td>\n",
       "      <td>Uncertain</td>\n",
       "      <td>NaN</td>\n",
       "      <td>NaN</td>\n",
       "      <td>NaN</td>\n",
       "      <td>NaN</td>\n",
       "      <td>NaN</td>\n",
       "      <td>NaN</td>\n",
       "    </tr>\n",
       "  </tbody>\n",
       "</table>\n",
       "</div>"
      ],
      "text/plain": [
       "      InsideGov PrimaryInstitution        OrgName ImmediateSuperiorOrg  \\\n",
       "1397        0.0            Current        Current                  NaN   \n",
       "1850        1.0            Current        Current                  NaN   \n",
       "2420        1.0         Deprecated     Deprecated                  NaN   \n",
       "2427        NaN         Deprecated     Deprecated                  NaN   \n",
       "2367        0.0      Please_Revise  Please_Revise                  NaN   \n",
       "2374        1.0      Please_Revise  Please_Revise                  NaN   \n",
       "2397        0.0      Please_Revise            NaN                  NaN   \n",
       "2399        1.0      Please_Revise            NaN                  NaN   \n",
       "2408        NaN      Please_Revise            NaN                  NaN   \n",
       "2377        0.0          Uncertain      Uncertain                  NaN   \n",
       "2380        1.0          Uncertain      Uncertain                  NaN   \n",
       "\n",
       "      SupervisesParent LinkToNext_PI LinkToNext_Org  LinkToNext_Year Notes  \n",
       "1397               NaN           NaN            NaN              NaN   NaN  \n",
       "1850               NaN           NaN            NaN              NaN   NaN  \n",
       "2420               NaN           NaN            NaN              NaN   NaN  \n",
       "2427               NaN           NaN            NaN              NaN   NaN  \n",
       "2367               NaN           NaN            NaN              NaN   NaN  \n",
       "2374               NaN           NaN            NaN              NaN   NaN  \n",
       "2397               NaN           NaN            NaN              NaN   NaN  \n",
       "2399               NaN           NaN            NaN              NaN   NaN  \n",
       "2408               NaN           NaN            NaN              NaN   NaN  \n",
       "2377               NaN           NaN            NaN              NaN   NaN  \n",
       "2380               NaN           NaN            NaN              NaN   NaN  "
      ]
     },
     "execution_count": 146,
     "metadata": {},
     "output_type": "execute_result"
    }
   ],
   "source": [
    "# Step 2. verify no duplicate keys\n",
    "orgtree.sort_values([\"PrimaryInstitution\",\"OrgName\",\"InsideGov\"],inplace=True)\n",
    "orgtree[orgtree.duplicated([\"PrimaryInstitution\",\"OrgName\"],keep=False)]"
   ]
  },
  {
   "cell_type": "code",
   "execution_count": 147,
   "id": "cf20c569",
   "metadata": {},
   "outputs": [
    {
     "data": {
      "text/plain": [
       "(1315, 9)"
      ]
     },
     "execution_count": 147,
     "metadata": {},
     "output_type": "execute_result"
    }
   ],
   "source": [
    "# drop all of the above duplicates\n",
    "orgtree.drop_duplicates([\"PrimaryInstitution\",\"OrgName\"],keep=False,inplace=True)\n",
    "orgtree.shape"
   ]
  },
  {
   "cell_type": "code",
   "execution_count": null,
   "id": "1395cb4f",
   "metadata": {},
   "outputs": [],
   "source": []
  },
  {
   "cell_type": "markdown",
   "id": "fac068f1",
   "metadata": {},
   "source": [
    "# recursively add ImmedSuperiorOrgs, drop duplicates and sort"
   ]
  },
  {
   "cell_type": "code",
   "execution_count": 148,
   "id": "a0e3e753",
   "metadata": {},
   "outputs": [],
   "source": [
    "orgtree.sort_values([\"InsideGov\",\"PrimaryInstitution\",\"OrgName\"],ascending=[False,True,True],inplace=True)"
   ]
  },
  {
   "cell_type": "code",
   "execution_count": 149,
   "id": "99d66948",
   "metadata": {},
   "outputs": [
    {
     "data": {
      "text/plain": [
       "(1315, 9)"
      ]
     },
     "execution_count": 149,
     "metadata": {},
     "output_type": "execute_result"
    }
   ],
   "source": [
    "orgtree.shape"
   ]
  },
  {
   "cell_type": "code",
   "execution_count": 150,
   "id": "bc6b76ff",
   "metadata": {},
   "outputs": [
    {
     "data": {
      "text/html": [
       "<div>\n",
       "<style scoped>\n",
       "    .dataframe tbody tr th:only-of-type {\n",
       "        vertical-align: middle;\n",
       "    }\n",
       "\n",
       "    .dataframe tbody tr th {\n",
       "        vertical-align: top;\n",
       "    }\n",
       "\n",
       "    .dataframe thead th {\n",
       "        text-align: right;\n",
       "    }\n",
       "</style>\n",
       "<table border=\"1\" class=\"dataframe\">\n",
       "  <thead>\n",
       "    <tr style=\"text-align: right;\">\n",
       "      <th></th>\n",
       "      <th>InsideGov</th>\n",
       "      <th>PrimaryInstitution</th>\n",
       "      <th>OrgName</th>\n",
       "      <th>ImmediateSuperiorOrg</th>\n",
       "      <th>SupervisesParent</th>\n",
       "      <th>LinkToNext_PI</th>\n",
       "      <th>LinkToNext_Org</th>\n",
       "      <th>LinkToNext_Year</th>\n",
       "      <th>Notes</th>\n",
       "    </tr>\n",
       "  </thead>\n",
       "  <tbody>\n",
       "    <tr>\n",
       "      <th>537</th>\n",
       "      <td>1.0</td>\n",
       "      <td>NAN</td>\n",
       "      <td>인민군</td>\n",
       "      <td>NaN</td>\n",
       "      <td>NaN</td>\n",
       "      <td>Please_Revise</td>\n",
       "      <td>Please_Revise</td>\n",
       "      <td>NaN</td>\n",
       "      <td>NaN</td>\n",
       "    </tr>\n",
       "    <tr>\n",
       "      <th>538</th>\n",
       "      <td>1.0</td>\n",
       "      <td>국무위원회</td>\n",
       "      <td>국방성_참모부_총무국</td>\n",
       "      <td>국방성</td>\n",
       "      <td>NaN</td>\n",
       "      <td>Current</td>\n",
       "      <td>Current</td>\n",
       "      <td>NaN</td>\n",
       "      <td>NaN</td>\n",
       "    </tr>\n",
       "  </tbody>\n",
       "</table>\n",
       "</div>"
      ],
      "text/plain": [
       "     InsideGov PrimaryInstitution       OrgName ImmediateSuperiorOrg  \\\n",
       "537        1.0                NAN           인민군                  NaN   \n",
       "538        1.0              국무위원회   국방성_참모부_총무국                  국방성   \n",
       "\n",
       "     SupervisesParent  LinkToNext_PI LinkToNext_Org  LinkToNext_Year Notes  \n",
       "537               NaN  Please_Revise  Please_Revise              NaN   NaN  \n",
       "538               NaN        Current        Current              NaN   NaN  "
      ]
     },
     "execution_count": 150,
     "metadata": {},
     "output_type": "execute_result"
    }
   ],
   "source": [
    "orgtree[0:2]"
   ]
  },
  {
   "cell_type": "code",
   "execution_count": 151,
   "id": "ef389fcb",
   "metadata": {},
   "outputs": [
    {
     "data": {
      "text/plain": [
       "(1045, 9)"
      ]
     },
     "execution_count": 151,
     "metadata": {},
     "output_type": "execute_result"
    }
   ],
   "source": [
    "# orgtree with non-NA OrgName\n",
    "orgtree_proc = orgtree[~orgtree[\"OrgName\"].isna()]\n",
    "orgtree_proc.shape"
   ]
  },
  {
   "cell_type": "code",
   "execution_count": 152,
   "id": "87bc34f7",
   "metadata": {},
   "outputs": [
    {
     "data": {
      "text/plain": [
       "(186, 3)"
      ]
     },
     "execution_count": 152,
     "metadata": {},
     "output_type": "execute_result"
    }
   ],
   "source": [
    "orgtree_2order = orgtree_proc.loc[orgtree_proc.OrgName.str.contains(\"_\"),[\"InsideGov\",\"PrimaryInstitution\",\"OrgName\"]]\n",
    "orgtree_2order[\"OrgName\"] = orgtree_2order[\"OrgName\"].apply(lambda x: \"_\".join(x.split(\"_\")[:-1]))\n",
    "orgtree_2order.drop_duplicates(inplace=True)\n",
    "orgtree_2order.shape"
   ]
  },
  {
   "cell_type": "code",
   "execution_count": null,
   "id": "80b9c0cc",
   "metadata": {},
   "outputs": [],
   "source": []
  },
  {
   "cell_type": "code",
   "execution_count": 153,
   "id": "f89f44ab",
   "metadata": {},
   "outputs": [
    {
     "data": {
      "text/plain": [
       "(31, 3)"
      ]
     },
     "execution_count": 153,
     "metadata": {},
     "output_type": "execute_result"
    }
   ],
   "source": [
    "orgtree_3order = orgtree_2order.loc[orgtree_2order.OrgName.str.contains(\"_\"),[\"InsideGov\",\"PrimaryInstitution\",\"OrgName\"]]\n",
    "orgtree_3order[\"OrgName\"] = orgtree_3order[\"OrgName\"].apply(lambda x: \"_\".join(x.split(\"_\")[:-1]))\n",
    "orgtree_3order.drop_duplicates(inplace=True)\n",
    "orgtree_3order.shape"
   ]
  },
  {
   "cell_type": "code",
   "execution_count": 154,
   "id": "e3094ab0",
   "metadata": {},
   "outputs": [
    {
     "data": {
      "text/plain": [
       "(9, 3)"
      ]
     },
     "execution_count": 154,
     "metadata": {},
     "output_type": "execute_result"
    }
   ],
   "source": [
    "orgtree_4order = orgtree_3order.loc[orgtree_3order.OrgName.str.contains(\"_\"),[\"InsideGov\",\"PrimaryInstitution\",\"OrgName\"]]\n",
    "orgtree_4order.OrgName = orgtree_4order.OrgName.apply(lambda x: \"_\".join(x.split(\"_\")[:-1]))\n",
    "orgtree_4order.drop_duplicates(inplace=True)\n",
    "orgtree_4order.shape"
   ]
  },
  {
   "cell_type": "code",
   "execution_count": 155,
   "id": "bef3ea9b",
   "metadata": {},
   "outputs": [
    {
     "data": {
      "text/plain": [
       "(1, 3)"
      ]
     },
     "execution_count": 155,
     "metadata": {},
     "output_type": "execute_result"
    }
   ],
   "source": [
    "orgtree_5order = orgtree_4order.loc[orgtree_4order.OrgName.str.contains(\"_\"),[\"InsideGov\",\"PrimaryInstitution\",\"OrgName\"]]\n",
    "orgtree_5order.OrgName = orgtree_5order.OrgName.apply(lambda x: \"_\".join(x.split(\"_\")[:-1]))\n",
    "orgtree_5order.drop_duplicates(inplace=True)\n",
    "orgtree_5order.shape"
   ]
  },
  {
   "cell_type": "code",
   "execution_count": 156,
   "id": "10f83ba4",
   "metadata": {},
   "outputs": [
    {
     "data": {
      "text/html": [
       "<div>\n",
       "<style scoped>\n",
       "    .dataframe tbody tr th:only-of-type {\n",
       "        vertical-align: middle;\n",
       "    }\n",
       "\n",
       "    .dataframe tbody tr th {\n",
       "        vertical-align: top;\n",
       "    }\n",
       "\n",
       "    .dataframe thead th {\n",
       "        text-align: right;\n",
       "    }\n",
       "</style>\n",
       "<table border=\"1\" class=\"dataframe\">\n",
       "  <thead>\n",
       "    <tr style=\"text-align: right;\">\n",
       "      <th></th>\n",
       "      <th>InsideGov</th>\n",
       "      <th>PrimaryInstitution</th>\n",
       "      <th>OrgName</th>\n",
       "    </tr>\n",
       "  </thead>\n",
       "  <tbody>\n",
       "    <tr>\n",
       "      <th>1131</th>\n",
       "      <td>1.0</td>\n",
       "      <td>총참모부</td>\n",
       "      <td>작전총국</td>\n",
       "    </tr>\n",
       "  </tbody>\n",
       "</table>\n",
       "</div>"
      ],
      "text/plain": [
       "      InsideGov PrimaryInstitution OrgName\n",
       "1131        1.0               총참모부    작전총국"
      ]
     },
     "execution_count": 156,
     "metadata": {},
     "output_type": "execute_result"
    }
   ],
   "source": [
    "orgtree_5order"
   ]
  },
  {
   "cell_type": "code",
   "execution_count": null,
   "id": "6d469d68",
   "metadata": {},
   "outputs": [],
   "source": []
  },
  {
   "cell_type": "code",
   "execution_count": 157,
   "id": "df799371",
   "metadata": {},
   "outputs": [
    {
     "data": {
      "text/plain": [
       "Index(['InsideGov', 'PrimaryInstitution', 'OrgName', 'ImmediateSuperiorOrg',\n",
       "       'SupervisesParent', 'LinkToNext_PI', 'LinkToNext_Org',\n",
       "       'LinkToNext_Year', 'Notes'],\n",
       "      dtype='object')"
      ]
     },
     "execution_count": 157,
     "metadata": {},
     "output_type": "execute_result"
    }
   ],
   "source": [
    "orgtree.columns"
   ]
  },
  {
   "cell_type": "code",
   "execution_count": 158,
   "id": "bc36a68f",
   "metadata": {},
   "outputs": [
    {
     "data": {
      "text/plain": [
       "(191, 3)"
      ]
     },
     "execution_count": 158,
     "metadata": {},
     "output_type": "execute_result"
    }
   ],
   "source": [
    "orgtree_higher_order = pd.concat([orgtree_2order,orgtree_3order,orgtree_4order])\n",
    "orgtree_higher_order.drop_duplicates(inplace=True)\n",
    "orgtree_higher_order.sort_values([\"InsideGov\",\"PrimaryInstitution\",\"OrgName\"],ascending=False,inplace=True)\n",
    "orgtree_higher_order.shape"
   ]
  },
  {
   "cell_type": "code",
   "execution_count": 159,
   "id": "c194bddd",
   "metadata": {},
   "outputs": [
    {
     "data": {
      "text/plain": [
       "(52, 4)"
      ]
     },
     "execution_count": 159,
     "metadata": {},
     "output_type": "execute_result"
    }
   ],
   "source": [
    "# find new orgtree_higher_order whose PrimaryOrg & OrgName are not contained in orgtree\n",
    "orgtree_higher_order_merged = orgtree_higher_order.merge(orgtree[[\"PrimaryInstitution\",\"OrgName\"]],\n",
    "                                             how=\"left\",on=[\"PrimaryInstitution\",\"OrgName\"],\n",
    "                                             suffixes=(\"\",\"_right\"),indicator=True)\n",
    "orgtree_higher_order_unique = orgtree_higher_order_merged[orgtree_higher_order_merged[\"_merge\"]==\"left_only\"]\n",
    "orgtree_higher_order_unique.shape"
   ]
  },
  {
   "cell_type": "code",
   "execution_count": 160,
   "id": "68537376",
   "metadata": {},
   "outputs": [
    {
     "data": {
      "text/plain": [
       "Index(['InsideGov', 'PrimaryInstitution', 'OrgName', 'ImmediateSuperiorOrg',\n",
       "       'SupervisesParent', 'LinkToNext_PI', 'LinkToNext_Org',\n",
       "       'LinkToNext_Year', 'Notes'],\n",
       "      dtype='object')"
      ]
     },
     "execution_count": 160,
     "metadata": {},
     "output_type": "execute_result"
    }
   ],
   "source": [
    "orgtree.columns"
   ]
  },
  {
   "cell_type": "code",
   "execution_count": 161,
   "id": "42e2b6ea",
   "metadata": {},
   "outputs": [
    {
     "data": {
      "text/plain": [
       "Index(['InsideGov', 'PrimaryInstitution', 'OrgName', '_merge'], dtype='object')"
      ]
     },
     "execution_count": 161,
     "metadata": {},
     "output_type": "execute_result"
    }
   ],
   "source": [
    "orgtree_higher_order_unique.columns"
   ]
  },
  {
   "cell_type": "code",
   "execution_count": 162,
   "id": "fed00502",
   "metadata": {},
   "outputs": [
    {
     "data": {
      "text/plain": [
       "(52, 3)"
      ]
     },
     "execution_count": 162,
     "metadata": {},
     "output_type": "execute_result"
    }
   ],
   "source": [
    "# drop _merge column in orgtree_higher_order_unique\n",
    "orgtree_higher_order_unique = orgtree_higher_order_unique.drop(columns=[\"_merge\"],axis=1)\n",
    "orgtree_higher_order_unique.shape"
   ]
  },
  {
   "cell_type": "code",
   "execution_count": 163,
   "id": "9b574462",
   "metadata": {},
   "outputs": [],
   "source": [
    "# add ImmediateSuperiorOrg to orgtree_higher_order_unique\n",
    "orgtree_higher_order_unique[\"ImmediateSuperiorOrg\"] = orgtree_higher_order_unique[\"OrgName\"].apply(lambda row: \"_\".join(row.split(\"_\")[:-1]))"
   ]
  },
  {
   "cell_type": "code",
   "execution_count": 164,
   "id": "48c46634",
   "metadata": {},
   "outputs": [
    {
     "data": {
      "text/plain": [
       "Index(['InsideGov', 'PrimaryInstitution', 'OrgName', 'ImmediateSuperiorOrg',\n",
       "       'SupervisesParent', 'LinkToNext_PI', 'LinkToNext_Org',\n",
       "       'LinkToNext_Year', 'Notes'],\n",
       "      dtype='object')"
      ]
     },
     "execution_count": 164,
     "metadata": {},
     "output_type": "execute_result"
    }
   ],
   "source": [
    "orgtree.columns"
   ]
  },
  {
   "cell_type": "code",
   "execution_count": 165,
   "id": "0ee6814c",
   "metadata": {},
   "outputs": [],
   "source": [
    "# add columns [LinkToNext_PI, LinkToNext_Org, Notes] and set them to null\n",
    "orgtree_higher_order_unique[\"LinkToNext_PI\"] = \"Please_Revise\"\n",
    "orgtree_higher_order_unique[\"LinkToNext_Org\"] = \"Please_Revise\"\n",
    "orgtree_higher_order_unique[\"LinkToNext_Year\"] = \"Please_Revise\"\n",
    "orgtree_higher_order_unique[\"Notes\"] = np.nan"
   ]
  },
  {
   "cell_type": "code",
   "execution_count": 166,
   "id": "e94aa564",
   "metadata": {},
   "outputs": [
    {
     "data": {
      "text/plain": [
       "(1367, 9)"
      ]
     },
     "execution_count": 166,
     "metadata": {},
     "output_type": "execute_result"
    }
   ],
   "source": [
    "# concatenate orgtree and orgtree_higher_order_unique\n",
    "orgtree_concat = pd.concat([orgtree,orgtree_higher_order_unique])\n",
    "orgtree_concat.shape"
   ]
  },
  {
   "cell_type": "code",
   "execution_count": 167,
   "id": "90c5adba",
   "metadata": {},
   "outputs": [
    {
     "data": {
      "text/html": [
       "<div>\n",
       "<style scoped>\n",
       "    .dataframe tbody tr th:only-of-type {\n",
       "        vertical-align: middle;\n",
       "    }\n",
       "\n",
       "    .dataframe tbody tr th {\n",
       "        vertical-align: top;\n",
       "    }\n",
       "\n",
       "    .dataframe thead th {\n",
       "        text-align: right;\n",
       "    }\n",
       "</style>\n",
       "<table border=\"1\" class=\"dataframe\">\n",
       "  <thead>\n",
       "    <tr style=\"text-align: right;\">\n",
       "      <th></th>\n",
       "      <th>InsideGov</th>\n",
       "      <th>PrimaryInstitution</th>\n",
       "      <th>OrgName</th>\n",
       "      <th>ImmediateSuperiorOrg</th>\n",
       "      <th>SupervisesParent</th>\n",
       "      <th>LinkToNext_PI</th>\n",
       "      <th>LinkToNext_Org</th>\n",
       "      <th>LinkToNext_Year</th>\n",
       "      <th>Notes</th>\n",
       "    </tr>\n",
       "  </thead>\n",
       "  <tbody>\n",
       "  </tbody>\n",
       "</table>\n",
       "</div>"
      ],
      "text/plain": [
       "Empty DataFrame\n",
       "Columns: [InsideGov, PrimaryInstitution, OrgName, ImmediateSuperiorOrg, SupervisesParent, LinkToNext_PI, LinkToNext_Org, LinkToNext_Year, Notes]\n",
       "Index: []"
      ]
     },
     "execution_count": 167,
     "metadata": {},
     "output_type": "execute_result"
    }
   ],
   "source": [
    "# confirm no duplicate (PrimaryInstitution, OrgName) pairs \n",
    "orgtree_concat[orgtree_concat.duplicated([\"PrimaryInstitution\",\"OrgName\"],keep=False)]"
   ]
  },
  {
   "cell_type": "code",
   "execution_count": 168,
   "id": "56af3e19",
   "metadata": {},
   "outputs": [],
   "source": [
    "# sort\n",
    "orgtree_concat.sort_values([\"InsideGov\",\"PrimaryInstitution\",\"OrgName\"],ascending=False,inplace=True,ignore_index=True)"
   ]
  },
  {
   "cell_type": "code",
   "execution_count": 169,
   "id": "00f1f263",
   "metadata": {},
   "outputs": [
    {
     "data": {
      "text/plain": [
       "(1367, 9)"
      ]
     },
     "execution_count": 169,
     "metadata": {},
     "output_type": "execute_result"
    }
   ],
   "source": [
    "orgtree_concat.shape"
   ]
  },
  {
   "cell_type": "code",
   "execution_count": 170,
   "id": "58afacab",
   "metadata": {
    "scrolled": true
   },
   "outputs": [
    {
     "data": {
      "text/html": [
       "<div>\n",
       "<style scoped>\n",
       "    .dataframe tbody tr th:only-of-type {\n",
       "        vertical-align: middle;\n",
       "    }\n",
       "\n",
       "    .dataframe tbody tr th {\n",
       "        vertical-align: top;\n",
       "    }\n",
       "\n",
       "    .dataframe thead th {\n",
       "        text-align: right;\n",
       "    }\n",
       "</style>\n",
       "<table border=\"1\" class=\"dataframe\">\n",
       "  <thead>\n",
       "    <tr style=\"text-align: right;\">\n",
       "      <th></th>\n",
       "      <th>InsideGov</th>\n",
       "      <th>PrimaryInstitution</th>\n",
       "      <th>OrgName</th>\n",
       "      <th>ImmediateSuperiorOrg</th>\n",
       "      <th>SupervisesParent</th>\n",
       "      <th>LinkToNext_PI</th>\n",
       "      <th>LinkToNext_Org</th>\n",
       "      <th>LinkToNext_Year</th>\n",
       "      <th>Notes</th>\n",
       "    </tr>\n",
       "  </thead>\n",
       "  <tbody>\n",
       "    <tr>\n",
       "      <th>0</th>\n",
       "      <td>1.0</td>\n",
       "      <td>호위사령부</td>\n",
       "      <td>호위총국_평양경비사령부</td>\n",
       "      <td>호위사령부</td>\n",
       "      <td>0.0</td>\n",
       "      <td>Current</td>\n",
       "      <td>Current</td>\n",
       "      <td>NaN</td>\n",
       "      <td>NaN</td>\n",
       "    </tr>\n",
       "    <tr>\n",
       "      <th>1</th>\n",
       "      <td>1.0</td>\n",
       "      <td>호위사령부</td>\n",
       "      <td>호위총국_제55처</td>\n",
       "      <td>호위총국</td>\n",
       "      <td>0.0</td>\n",
       "      <td>Current</td>\n",
       "      <td>Current</td>\n",
       "      <td>NaN</td>\n",
       "      <td>전시 지휘소</td>\n",
       "    </tr>\n",
       "    <tr>\n",
       "      <th>2</th>\n",
       "      <td>1.0</td>\n",
       "      <td>호위사령부</td>\n",
       "      <td>호위총국_제4국</td>\n",
       "      <td>호위총국</td>\n",
       "      <td>0.0</td>\n",
       "      <td>Current</td>\n",
       "      <td>Current</td>\n",
       "      <td>NaN</td>\n",
       "      <td>NaN</td>\n",
       "    </tr>\n",
       "    <tr>\n",
       "      <th>3</th>\n",
       "      <td>1.0</td>\n",
       "      <td>호위사령부</td>\n",
       "      <td>호위총국_제2국</td>\n",
       "      <td>호위총국</td>\n",
       "      <td>0.0</td>\n",
       "      <td>Current</td>\n",
       "      <td>Current</td>\n",
       "      <td>NaN</td>\n",
       "      <td>NaN</td>\n",
       "    </tr>\n",
       "    <tr>\n",
       "      <th>4</th>\n",
       "      <td>1.0</td>\n",
       "      <td>호위사령부</td>\n",
       "      <td>호위총국_제1국_행사안전부</td>\n",
       "      <td>호위총국_제1국</td>\n",
       "      <td>0.0</td>\n",
       "      <td>Current</td>\n",
       "      <td>Current</td>\n",
       "      <td>NaN</td>\n",
       "      <td>NaN</td>\n",
       "    </tr>\n",
       "  </tbody>\n",
       "</table>\n",
       "</div>"
      ],
      "text/plain": [
       "   InsideGov PrimaryInstitution         OrgName ImmediateSuperiorOrg  \\\n",
       "0        1.0              호위사령부    호위총국_평양경비사령부                호위사령부   \n",
       "1        1.0              호위사령부       호위총국_제55처                 호위총국   \n",
       "2        1.0              호위사령부        호위총국_제4국                 호위총국   \n",
       "3        1.0              호위사령부        호위총국_제2국                 호위총국   \n",
       "4        1.0              호위사령부  호위총국_제1국_행사안전부             호위총국_제1국   \n",
       "\n",
       "   SupervisesParent LinkToNext_PI LinkToNext_Org LinkToNext_Year   Notes  \n",
       "0               0.0       Current        Current             NaN     NaN  \n",
       "1               0.0       Current        Current             NaN  전시 지휘소  \n",
       "2               0.0       Current        Current             NaN     NaN  \n",
       "3               0.0       Current        Current             NaN     NaN  \n",
       "4               0.0       Current        Current             NaN     NaN  "
      ]
     },
     "execution_count": 170,
     "metadata": {},
     "output_type": "execute_result"
    }
   ],
   "source": [
    "orgtree_concat[0:5]"
   ]
  },
  {
   "cell_type": "markdown",
   "id": "f27be338",
   "metadata": {},
   "source": [
    "# Please_Revise null InsideGov and LinkToNext_"
   ]
  },
  {
   "cell_type": "code",
   "execution_count": 182,
   "id": "e839d66e",
   "metadata": {},
   "outputs": [
    {
     "data": {
      "text/plain": [
       "(0, 9)"
      ]
     },
     "execution_count": 182,
     "metadata": {},
     "output_type": "execute_result"
    }
   ],
   "source": [
    "orgtree.loc[orgtree[\"LinkToNext_PI\"].isna()].shape"
   ]
  },
  {
   "cell_type": "code",
   "execution_count": 175,
   "id": "f4e44113",
   "metadata": {},
   "outputs": [],
   "source": [
    "orgtree.loc[orgtree[\"LinkToNext_PI\"].isna(),\"LinkToNext_PI\"] = \"Please_Revise\""
   ]
  },
  {
   "cell_type": "code",
   "execution_count": 181,
   "id": "b2461262",
   "metadata": {},
   "outputs": [
    {
     "data": {
      "text/plain": [
       "(0, 9)"
      ]
     },
     "execution_count": 181,
     "metadata": {},
     "output_type": "execute_result"
    }
   ],
   "source": [
    "orgtree.loc[orgtree[\"LinkToNext_Org\"].isna()].shape"
   ]
  },
  {
   "cell_type": "code",
   "execution_count": 177,
   "id": "d6b334de",
   "metadata": {},
   "outputs": [],
   "source": [
    "orgtree.loc[orgtree[\"LinkToNext_Org\"].isna(),\"LinkToNext_Org\"] = \"Please_Revise\""
   ]
  },
  {
   "cell_type": "code",
   "execution_count": 180,
   "id": "be109231",
   "metadata": {},
   "outputs": [
    {
     "data": {
      "text/plain": [
       "(0, 9)"
      ]
     },
     "execution_count": 180,
     "metadata": {},
     "output_type": "execute_result"
    }
   ],
   "source": [
    "orgtree.loc[orgtree[\"LinkToNext_Year\"].isna()].shape"
   ]
  },
  {
   "cell_type": "code",
   "execution_count": 179,
   "id": "e5bb444a",
   "metadata": {},
   "outputs": [],
   "source": [
    "orgtree.loc[orgtree[\"LinkToNext_Year\"].isna(),\"LinkToNext_Year\"] = \"Please_Revise\""
   ]
  },
  {
   "cell_type": "code",
   "execution_count": 187,
   "id": "543f7e98",
   "metadata": {},
   "outputs": [],
   "source": [
    "orgtree.loc[orgtree[\"LinkToNext_PI\"]==\"Current\",\"LinkToNext_Year\"] = \"Current\""
   ]
  },
  {
   "cell_type": "code",
   "execution_count": 185,
   "id": "b78cedad",
   "metadata": {},
   "outputs": [
    {
     "data": {
      "text/plain": [
       "(0, 9)"
      ]
     },
     "execution_count": 185,
     "metadata": {},
     "output_type": "execute_result"
    }
   ],
   "source": [
    "orgtree.loc[orgtree[\"InsideGov\"].isna()].shape"
   ]
  },
  {
   "cell_type": "code",
   "execution_count": 184,
   "id": "056a8930",
   "metadata": {},
   "outputs": [],
   "source": [
    "orgtree.loc[orgtree[\"InsideGov\"].isna(),\"InsideGov\"] = \"Please_Revise\""
   ]
  },
  {
   "cell_type": "markdown",
   "id": "a0021458",
   "metadata": {},
   "source": [
    "# export orgtree"
   ]
  },
  {
   "cell_type": "code",
   "execution_count": null,
   "id": "9478fbd0",
   "metadata": {},
   "outputs": [],
   "source": []
  },
  {
   "cell_type": "code",
   "execution_count": null,
   "id": "c48a95c1",
   "metadata": {},
   "outputs": [],
   "source": []
  },
  {
   "cell_type": "code",
   "execution_count": 189,
   "id": "164b7b54",
   "metadata": {},
   "outputs": [],
   "source": [
    "# orgtree.to_excel(path_orgtree+fileout_orgtree,index=False)"
   ]
  },
  {
   "cell_type": "code",
   "execution_count": null,
   "id": "983ab129",
   "metadata": {},
   "outputs": [],
   "source": []
  },
  {
   "cell_type": "markdown",
   "id": "ff933243",
   "metadata": {},
   "source": [
    "# double-check jol & orgtree"
   ]
  },
  {
   "cell_type": "code",
   "execution_count": 200,
   "id": "42305ff0",
   "metadata": {},
   "outputs": [],
   "source": [
    "# confirmed all jol key are in orgtree!\n",
    "\n",
    "# all exceptions are \"Uncertain\""
   ]
  },
  {
   "cell_type": "code",
   "execution_count": 191,
   "id": "bdf97cc0",
   "metadata": {},
   "outputs": [],
   "source": [
    "path_joborglink = \"C:/Users/seoul/Dropbox/00 technical/github/nkelites/data/combined data/combined data - 1 cleaning/cleaning step 2 - career/2.3 joborglink/\""
   ]
  },
  {
   "cell_type": "code",
   "execution_count": 192,
   "id": "ccf64158",
   "metadata": {},
   "outputs": [],
   "source": [
    "fileout_joborglink = \"joborglink_7_2.xlsx\""
   ]
  },
  {
   "cell_type": "code",
   "execution_count": 193,
   "id": "f40a8b24",
   "metadata": {},
   "outputs": [],
   "source": [
    "jol = pd.read_excel(path_joborglink+fileout_joborglink)"
   ]
  },
  {
   "cell_type": "code",
   "execution_count": 194,
   "id": "3e86309d",
   "metadata": {},
   "outputs": [],
   "source": [
    "merge = orgtree.merge(jol,how=\"outer\",on=[\"PrimaryInstitution\",\"OrgName\"],indicator=True)"
   ]
  },
  {
   "cell_type": "code",
   "execution_count": 196,
   "id": "2042b596",
   "metadata": {},
   "outputs": [
    {
     "data": {
      "text/plain": [
       "(1417, 12)"
      ]
     },
     "execution_count": 196,
     "metadata": {},
     "output_type": "execute_result"
    }
   ],
   "source": [
    "merge[merge[\"_merge\"]==\"both\"].shape"
   ]
  },
  {
   "cell_type": "code",
   "execution_count": 197,
   "id": "08d0f269",
   "metadata": {},
   "outputs": [
    {
     "data": {
      "text/plain": [
       "(620, 12)"
      ]
     },
     "execution_count": 197,
     "metadata": {},
     "output_type": "execute_result"
    }
   ],
   "source": [
    "merge[merge[\"_merge\"]==\"left_only\"].shape"
   ]
  },
  {
   "cell_type": "code",
   "execution_count": 198,
   "id": "c28c0885",
   "metadata": {},
   "outputs": [
    {
     "data": {
      "text/plain": [
       "(9, 12)"
      ]
     },
     "execution_count": 198,
     "metadata": {},
     "output_type": "execute_result"
    }
   ],
   "source": [
    "merge[merge[\"_merge\"]==\"right_only\"].shape"
   ]
  },
  {
   "cell_type": "code",
   "execution_count": 199,
   "id": "4e674713",
   "metadata": {},
   "outputs": [
    {
     "data": {
      "text/html": [
       "<div>\n",
       "<style scoped>\n",
       "    .dataframe tbody tr th:only-of-type {\n",
       "        vertical-align: middle;\n",
       "    }\n",
       "\n",
       "    .dataframe tbody tr th {\n",
       "        vertical-align: top;\n",
       "    }\n",
       "\n",
       "    .dataframe thead th {\n",
       "        text-align: right;\n",
       "    }\n",
       "</style>\n",
       "<table border=\"1\" class=\"dataframe\">\n",
       "  <thead>\n",
       "    <tr style=\"text-align: right;\">\n",
       "      <th></th>\n",
       "      <th>InsideGov</th>\n",
       "      <th>PrimaryInstitution</th>\n",
       "      <th>OrgName</th>\n",
       "      <th>ImmediateSuperiorOrg</th>\n",
       "      <th>SupervisesParent</th>\n",
       "      <th>LinkToNext_PI</th>\n",
       "      <th>LinkToNext_Org</th>\n",
       "      <th>LinkToNext_Year</th>\n",
       "      <th>Notes_x</th>\n",
       "      <th>OrgString</th>\n",
       "      <th>Notes_y</th>\n",
       "      <th>_merge</th>\n",
       "    </tr>\n",
       "  </thead>\n",
       "  <tbody>\n",
       "    <tr>\n",
       "      <th>2037</th>\n",
       "      <td>NaN</td>\n",
       "      <td>Uncertain</td>\n",
       "      <td>Uncertain</td>\n",
       "      <td>NaN</td>\n",
       "      <td>NaN</td>\n",
       "      <td>NaN</td>\n",
       "      <td>NaN</td>\n",
       "      <td>NaN</td>\n",
       "      <td>NaN</td>\n",
       "      <td>노동당 기계공업협회</td>\n",
       "      <td>기계공업부; 비고: 당중앙위원회?</td>\n",
       "      <td>right_only</td>\n",
       "    </tr>\n",
       "    <tr>\n",
       "      <th>2038</th>\n",
       "      <td>NaN</td>\n",
       "      <td>Uncertain</td>\n",
       "      <td>Uncertain</td>\n",
       "      <td>NaN</td>\n",
       "      <td>NaN</td>\n",
       "      <td>NaN</td>\n",
       "      <td>NaN</td>\n",
       "      <td>NaN</td>\n",
       "      <td>NaN</td>\n",
       "      <td>노동당 중공업부</td>\n",
       "      <td>중앙위원회-&gt;중앙인민위원회; 비고: 중앙인민위원회 is a PrimaryInstit...</td>\n",
       "      <td>right_only</td>\n",
       "    </tr>\n",
       "    <tr>\n",
       "      <th>2039</th>\n",
       "      <td>NaN</td>\n",
       "      <td>Uncertain</td>\n",
       "      <td>Uncertain</td>\n",
       "      <td>NaN</td>\n",
       "      <td>NaN</td>\n",
       "      <td>NaN</td>\n",
       "      <td>NaN</td>\n",
       "      <td>NaN</td>\n",
       "      <td>NaN</td>\n",
       "      <td>노동당 중앙인민위원회 중공업부 제1부</td>\n",
       "      <td>1부 Not found; 비고: 중앙인민위원회 is a PrimaryInstitut...</td>\n",
       "      <td>right_only</td>\n",
       "    </tr>\n",
       "    <tr>\n",
       "      <th>2040</th>\n",
       "      <td>NaN</td>\n",
       "      <td>Uncertain</td>\n",
       "      <td>Uncertain</td>\n",
       "      <td>NaN</td>\n",
       "      <td>NaN</td>\n",
       "      <td>NaN</td>\n",
       "      <td>NaN</td>\n",
       "      <td>NaN</td>\n",
       "      <td>NaN</td>\n",
       "      <td>당 기계공업부</td>\n",
       "      <td>NaN</td>\n",
       "      <td>right_only</td>\n",
       "    </tr>\n",
       "    <tr>\n",
       "      <th>2041</th>\n",
       "      <td>NaN</td>\n",
       "      <td>Uncertain</td>\n",
       "      <td>Uncertain</td>\n",
       "      <td>NaN</td>\n",
       "      <td>NaN</td>\n",
       "      <td>NaN</td>\n",
       "      <td>NaN</td>\n",
       "      <td>NaN</td>\n",
       "      <td>NaN</td>\n",
       "      <td>당 중공업부</td>\n",
       "      <td>NaN</td>\n",
       "      <td>right_only</td>\n",
       "    </tr>\n",
       "    <tr>\n",
       "      <th>2042</th>\n",
       "      <td>NaN</td>\n",
       "      <td>Uncertain</td>\n",
       "      <td>Uncertain</td>\n",
       "      <td>NaN</td>\n",
       "      <td>NaN</td>\n",
       "      <td>NaN</td>\n",
       "      <td>NaN</td>\n",
       "      <td>NaN</td>\n",
       "      <td>NaN</td>\n",
       "      <td>전자자동화공업위원회</td>\n",
       "      <td>NaN</td>\n",
       "      <td>right_only</td>\n",
       "    </tr>\n",
       "    <tr>\n",
       "      <th>2043</th>\n",
       "      <td>NaN</td>\n",
       "      <td>Uncertain</td>\n",
       "      <td>Uncertain</td>\n",
       "      <td>NaN</td>\n",
       "      <td>NaN</td>\n",
       "      <td>NaN</td>\n",
       "      <td>NaN</td>\n",
       "      <td>NaN</td>\n",
       "      <td>NaN</td>\n",
       "      <td>전자자동화공업위원회 기술국</td>\n",
       "      <td>기술국 Not found; 비고: PrimaryInstitution?</td>\n",
       "      <td>right_only</td>\n",
       "    </tr>\n",
       "    <tr>\n",
       "      <th>2044</th>\n",
       "      <td>NaN</td>\n",
       "      <td>Uncertain</td>\n",
       "      <td>Uncertain</td>\n",
       "      <td>NaN</td>\n",
       "      <td>NaN</td>\n",
       "      <td>NaN</td>\n",
       "      <td>NaN</td>\n",
       "      <td>NaN</td>\n",
       "      <td>NaN</td>\n",
       "      <td>전자자동화공업위원회 제1부</td>\n",
       "      <td>1부 Not found; 비고: PrimaryInstitution?</td>\n",
       "      <td>right_only</td>\n",
       "    </tr>\n",
       "    <tr>\n",
       "      <th>2045</th>\n",
       "      <td>NaN</td>\n",
       "      <td>Uncertain</td>\n",
       "      <td>Uncertain</td>\n",
       "      <td>NaN</td>\n",
       "      <td>NaN</td>\n",
       "      <td>NaN</td>\n",
       "      <td>NaN</td>\n",
       "      <td>NaN</td>\n",
       "      <td>NaN</td>\n",
       "      <td>제2집단군</td>\n",
       "      <td>NaN</td>\n",
       "      <td>right_only</td>\n",
       "    </tr>\n",
       "  </tbody>\n",
       "</table>\n",
       "</div>"
      ],
      "text/plain": [
       "     InsideGov PrimaryInstitution    OrgName ImmediateSuperiorOrg  \\\n",
       "2037       NaN          Uncertain  Uncertain                  NaN   \n",
       "2038       NaN          Uncertain  Uncertain                  NaN   \n",
       "2039       NaN          Uncertain  Uncertain                  NaN   \n",
       "2040       NaN          Uncertain  Uncertain                  NaN   \n",
       "2041       NaN          Uncertain  Uncertain                  NaN   \n",
       "2042       NaN          Uncertain  Uncertain                  NaN   \n",
       "2043       NaN          Uncertain  Uncertain                  NaN   \n",
       "2044       NaN          Uncertain  Uncertain                  NaN   \n",
       "2045       NaN          Uncertain  Uncertain                  NaN   \n",
       "\n",
       "      SupervisesParent LinkToNext_PI LinkToNext_Org LinkToNext_Year Notes_x  \\\n",
       "2037               NaN           NaN            NaN             NaN     NaN   \n",
       "2038               NaN           NaN            NaN             NaN     NaN   \n",
       "2039               NaN           NaN            NaN             NaN     NaN   \n",
       "2040               NaN           NaN            NaN             NaN     NaN   \n",
       "2041               NaN           NaN            NaN             NaN     NaN   \n",
       "2042               NaN           NaN            NaN             NaN     NaN   \n",
       "2043               NaN           NaN            NaN             NaN     NaN   \n",
       "2044               NaN           NaN            NaN             NaN     NaN   \n",
       "2045               NaN           NaN            NaN             NaN     NaN   \n",
       "\n",
       "                 OrgString                                            Notes_y  \\\n",
       "2037            노동당 기계공업협회                                 기계공업부; 비고: 당중앙위원회?   \n",
       "2038              노동당 중공업부  중앙위원회->중앙인민위원회; 비고: 중앙인민위원회 is a PrimaryInstit...   \n",
       "2039  노동당 중앙인민위원회 중공업부 제1부  1부 Not found; 비고: 중앙인민위원회 is a PrimaryInstitut...   \n",
       "2040               당 기계공업부                                                NaN   \n",
       "2041                당 중공업부                                                NaN   \n",
       "2042            전자자동화공업위원회                                                NaN   \n",
       "2043        전자자동화공업위원회 기술국             기술국 Not found; 비고: PrimaryInstitution?   \n",
       "2044        전자자동화공업위원회 제1부              1부 Not found; 비고: PrimaryInstitution?   \n",
       "2045                 제2집단군                                                NaN   \n",
       "\n",
       "          _merge  \n",
       "2037  right_only  \n",
       "2038  right_only  \n",
       "2039  right_only  \n",
       "2040  right_only  \n",
       "2041  right_only  \n",
       "2042  right_only  \n",
       "2043  right_only  \n",
       "2044  right_only  \n",
       "2045  right_only  "
      ]
     },
     "execution_count": 199,
     "metadata": {},
     "output_type": "execute_result"
    }
   ],
   "source": [
    "merge[merge[\"_merge\"]==\"right_only\"]"
   ]
  },
  {
   "cell_type": "code",
   "execution_count": null,
   "id": "cdc7e3b0",
   "metadata": {},
   "outputs": [],
   "source": []
  }
 ],
 "metadata": {
  "kernelspec": {
   "display_name": "Python 3 (ipykernel)",
   "language": "python",
   "name": "python3"
  },
  "language_info": {
   "codemirror_mode": {
    "name": "ipython",
    "version": 3
   },
   "file_extension": ".py",
   "mimetype": "text/x-python",
   "name": "python",
   "nbconvert_exporter": "python",
   "pygments_lexer": "ipython3",
   "version": "3.11.0"
  }
 },
 "nbformat": 4,
 "nbformat_minor": 5
}
