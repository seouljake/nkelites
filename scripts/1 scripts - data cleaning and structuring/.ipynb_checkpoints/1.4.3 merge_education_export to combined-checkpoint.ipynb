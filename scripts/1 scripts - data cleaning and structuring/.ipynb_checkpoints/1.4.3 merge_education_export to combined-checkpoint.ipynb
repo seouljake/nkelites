{
 "cells": [
  {
   "cell_type": "markdown",
   "metadata": {},
   "source": [
    "# libraries & global vars"
   ]
  },
  {
   "cell_type": "code",
   "execution_count": 5,
   "metadata": {},
   "outputs": [],
   "source": [
    "import pandas as pd"
   ]
  },
  {
   "cell_type": "markdown",
   "metadata": {},
   "source": [
    "# import combined leaders"
   ]
  },
  {
   "cell_type": "code",
   "execution_count": 6,
   "metadata": {},
   "outputs": [],
   "source": [
    "## combined leaders to clean - file in\n",
    "pathout_combined_leaders_toclean = \"../../data/combined data/combined data - 1 cleaning/cleaning step 1 - combined data/leaders_toparse.xlsx\"\n",
    "merged_leaders = pd.read_excel(pathout_combined_leaders_toclean,dtype=\"str\")"
   ]
  },
  {
   "cell_type": "code",
   "execution_count": 7,
   "metadata": {},
   "outputs": [],
   "source": [
    "# merged_leaders"
   ]
  },
  {
   "cell_type": "markdown",
   "metadata": {},
   "source": [
    "# path out - combined education tables - to parse and code"
   ]
  },
  {
   "cell_type": "code",
   "execution_count": 8,
   "metadata": {},
   "outputs": [],
   "source": [
    "## combined education - cleaning - file out\n",
    "fileout_combined_education_cleaning = \"../../data/combined data/combined data - 1 cleaning/cleaning step 1 - combined data/education_toparse.xlsx\""
   ]
  },
  {
   "cell_type": "code",
   "execution_count": null,
   "metadata": {},
   "outputs": [],
   "source": []
  },
  {
   "cell_type": "markdown",
   "metadata": {},
   "source": [
    "# import and merge 2015 & 2022 education tables"
   ]
  },
  {
   "cell_type": "code",
   "execution_count": 9,
   "metadata": {},
   "outputs": [],
   "source": [
    "## 2022 education - table - file in\n",
    "file_2022_education_table = \"../../data/2022 data/2022 data - 2 tables/education.xlsx\"\n",
    "new_education = pd.read_excel(file_2022_education_table)\n",
    "new_education.columns = [item+\"_2022\" if item != \"LeaderID\" else item for item in list(new_education.columns)]"
   ]
  },
  {
   "cell_type": "code",
   "execution_count": 10,
   "metadata": {},
   "outputs": [],
   "source": [
    "## 2015 education - raw - file in\n",
    "file_2015_education_raw = \"../../data/2015 data/2015 data - 0 raw/leaderschoollinkmou.csv\"\n",
    "old_education_columns = [\"MOUID\",\"Name\",\"EducationString\",\"SchoolYear\",\"SchoolName\",\"SchoolLevel\",\"SchoolRegion\",\"SchoolStringConcat\"]\n",
    "old_education_columns = [item+\"_2015\" for item in old_education_columns]\n",
    "old_education = pd.read_csv(file_2015_education_raw,sep=\";\",dtype=\"str\",names=old_education_columns)"
   ]
  },
  {
   "cell_type": "code",
   "execution_count": 11,
   "metadata": {},
   "outputs": [],
   "source": [
    "# add LeaderID to old_family. select columns to merge with new_family\n",
    "merged_leaders_key = merged_leaders[[\"LeaderID\",\"MOUID_2015\"]]\n",
    "old_education_withid = old_education.merge(merged_leaders_key,on=\"MOUID_2015\",how=\"inner\")\n",
    "#old_education_withid = old_education_withid[[\"LeaderID\",\"FamilyString_2015\"]]"
   ]
  },
  {
   "cell_type": "code",
   "execution_count": 12,
   "metadata": {},
   "outputs": [],
   "source": [
    "merged_education = new_education.merge(old_education_withid,on=\"LeaderID\",how=\"outer\")"
   ]
  },
  {
   "cell_type": "code",
   "execution_count": 13,
   "metadata": {},
   "outputs": [
    {
     "data": {
      "text/html": [
       "<div>\n",
       "<style scoped>\n",
       "    .dataframe tbody tr th:only-of-type {\n",
       "        vertical-align: middle;\n",
       "    }\n",
       "\n",
       "    .dataframe tbody tr th {\n",
       "        vertical-align: top;\n",
       "    }\n",
       "\n",
       "    .dataframe thead th {\n",
       "        text-align: right;\n",
       "    }\n",
       "</style>\n",
       "<table border=\"1\" class=\"dataframe\">\n",
       "  <thead>\n",
       "    <tr style=\"text-align: right;\">\n",
       "      <th></th>\n",
       "      <th>LeaderID</th>\n",
       "      <th>EducationDateString_2022</th>\n",
       "      <th>EducationSchoolString_2022</th>\n",
       "      <th>EducationMajorString_2022</th>\n",
       "      <th>EducationGraduationStatus_2022</th>\n",
       "      <th>MOUID_2015</th>\n",
       "      <th>Name_2015</th>\n",
       "      <th>EducationString_2015</th>\n",
       "      <th>SchoolYear_2015</th>\n",
       "      <th>SchoolName_2015</th>\n",
       "      <th>SchoolLevel_2015</th>\n",
       "      <th>SchoolRegion_2015</th>\n",
       "      <th>SchoolStringConcat_2015</th>\n",
       "    </tr>\n",
       "  </thead>\n",
       "  <tbody>\n",
       "    <tr>\n",
       "      <th>0</th>\n",
       "      <td>강관주</td>\n",
       "      <td>1960</td>\n",
       "      <td>김일성종합대학</td>\n",
       "      <td>NaN</td>\n",
       "      <td>졸업</td>\n",
       "      <td>807</td>\n",
       "      <td>강관주</td>\n",
       "      <td>1960. 김일성종합대학 역사학부 졸업</td>\n",
       "      <td>1960</td>\n",
       "      <td>김일성종합대학교</td>\n",
       "      <td>대학교</td>\n",
       "      <td>북한</td>\n",
       "      <td>1960_김일성종합대학교_대학교_북한</td>\n",
       "    </tr>\n",
       "    <tr>\n",
       "      <th>1</th>\n",
       "      <td>강관주</td>\n",
       "      <td>1960</td>\n",
       "      <td>김일성종합대학</td>\n",
       "      <td>NaN</td>\n",
       "      <td>졸업</td>\n",
       "      <td>807</td>\n",
       "      <td>강관주</td>\n",
       "      <td>연도미상김일성고급당학교 졸업</td>\n",
       "      <td>NaN</td>\n",
       "      <td>김일성고급당학교</td>\n",
       "      <td>특수학교</td>\n",
       "      <td>북한</td>\n",
       "      <td>year_김일성고급당학교_특수학교_북한</td>\n",
       "    </tr>\n",
       "    <tr>\n",
       "      <th>2</th>\n",
       "      <td>강관주</td>\n",
       "      <td>연도미상</td>\n",
       "      <td>김일성 고급당학교</td>\n",
       "      <td>NaN</td>\n",
       "      <td>졸업</td>\n",
       "      <td>807</td>\n",
       "      <td>강관주</td>\n",
       "      <td>1960. 김일성종합대학 역사학부 졸업</td>\n",
       "      <td>1960</td>\n",
       "      <td>김일성종합대학교</td>\n",
       "      <td>대학교</td>\n",
       "      <td>북한</td>\n",
       "      <td>1960_김일성종합대학교_대학교_북한</td>\n",
       "    </tr>\n",
       "    <tr>\n",
       "      <th>3</th>\n",
       "      <td>강관주</td>\n",
       "      <td>연도미상</td>\n",
       "      <td>김일성 고급당학교</td>\n",
       "      <td>NaN</td>\n",
       "      <td>졸업</td>\n",
       "      <td>807</td>\n",
       "      <td>강관주</td>\n",
       "      <td>연도미상김일성고급당학교 졸업</td>\n",
       "      <td>NaN</td>\n",
       "      <td>김일성고급당학교</td>\n",
       "      <td>특수학교</td>\n",
       "      <td>북한</td>\n",
       "      <td>year_김일성고급당학교_특수학교_북한</td>\n",
       "    </tr>\n",
       "    <tr>\n",
       "      <th>4</th>\n",
       "      <td>강능수</td>\n",
       "      <td>연도미상</td>\n",
       "      <td>김일성종합대학</td>\n",
       "      <td>조선어문학</td>\n",
       "      <td>졸업</td>\n",
       "      <td>430</td>\n",
       "      <td>강능수</td>\n",
       "      <td>연도미상김일성종합대학 조선어문학부 졸업</td>\n",
       "      <td>NaN</td>\n",
       "      <td>김일성종합대학교</td>\n",
       "      <td>대학교</td>\n",
       "      <td>북한</td>\n",
       "      <td>year_김일성종합대학교_대학교_북한</td>\n",
       "    </tr>\n",
       "    <tr>\n",
       "      <th>...</th>\n",
       "      <td>...</td>\n",
       "      <td>...</td>\n",
       "      <td>...</td>\n",
       "      <td>...</td>\n",
       "      <td>...</td>\n",
       "      <td>...</td>\n",
       "      <td>...</td>\n",
       "      <td>...</td>\n",
       "      <td>...</td>\n",
       "      <td>...</td>\n",
       "      <td>...</td>\n",
       "      <td>...</td>\n",
       "      <td>...</td>\n",
       "    </tr>\n",
       "    <tr>\n",
       "      <th>810</th>\n",
       "      <td>오길방</td>\n",
       "      <td>NaN</td>\n",
       "      <td>NaN</td>\n",
       "      <td>NaN</td>\n",
       "      <td>NaN</td>\n",
       "      <td>706</td>\n",
       "      <td>오길방</td>\n",
       "      <td>연도미상 김일성종합대학 졸업</td>\n",
       "      <td>NaN</td>\n",
       "      <td>김일성종합대학교</td>\n",
       "      <td>대학교</td>\n",
       "      <td>북한</td>\n",
       "      <td>year_김일성종합대학교_대학교_북한</td>\n",
       "    </tr>\n",
       "    <tr>\n",
       "      <th>811</th>\n",
       "      <td>우두태</td>\n",
       "      <td>NaN</td>\n",
       "      <td>NaN</td>\n",
       "      <td>NaN</td>\n",
       "      <td>NaN</td>\n",
       "      <td>707</td>\n",
       "      <td>우두태</td>\n",
       "      <td>연도미상 문평제련소 공장대학 야금과</td>\n",
       "      <td>NaN</td>\n",
       "      <td>공장대학</td>\n",
       "      <td>대학교</td>\n",
       "      <td>북한</td>\n",
       "      <td>year_공장대학_대학교_북한</td>\n",
       "    </tr>\n",
       "    <tr>\n",
       "      <th>812</th>\n",
       "      <td>이금범</td>\n",
       "      <td>NaN</td>\n",
       "      <td>NaN</td>\n",
       "      <td>NaN</td>\n",
       "      <td>NaN</td>\n",
       "      <td>711</td>\n",
       "      <td>이금범</td>\n",
       "      <td>연도미상 평양체신대학 전자공학</td>\n",
       "      <td>NaN</td>\n",
       "      <td>평양체신대학교</td>\n",
       "      <td>대학교</td>\n",
       "      <td>북한</td>\n",
       "      <td>year_평양체신대학교_대학교_북한</td>\n",
       "    </tr>\n",
       "    <tr>\n",
       "      <th>813</th>\n",
       "      <td>심철호</td>\n",
       "      <td>NaN</td>\n",
       "      <td>NaN</td>\n",
       "      <td>NaN</td>\n",
       "      <td>NaN</td>\n",
       "      <td>799</td>\n",
       "      <td>심철호</td>\n",
       "      <td>연도미상 김일성종합대학 졸업</td>\n",
       "      <td>NaN</td>\n",
       "      <td>김일성종합대학교</td>\n",
       "      <td>대학교</td>\n",
       "      <td>북한</td>\n",
       "      <td>year_김일성종합대학교_대학교_북한</td>\n",
       "    </tr>\n",
       "    <tr>\n",
       "      <th>814</th>\n",
       "      <td>조연준</td>\n",
       "      <td>NaN</td>\n",
       "      <td>NaN</td>\n",
       "      <td>NaN</td>\n",
       "      <td>NaN</td>\n",
       "      <td>804</td>\n",
       "      <td>조연준</td>\n",
       "      <td>연도미상 김일성종합대학 졸업</td>\n",
       "      <td>NaN</td>\n",
       "      <td>김일성종합대학교</td>\n",
       "      <td>대학교</td>\n",
       "      <td>북한</td>\n",
       "      <td>year_김일성종합대학교_대학교_북한</td>\n",
       "    </tr>\n",
       "  </tbody>\n",
       "</table>\n",
       "<p>815 rows × 13 columns</p>\n",
       "</div>"
      ],
      "text/plain": [
       "    LeaderID EducationDateString_2022 EducationSchoolString_2022  \\\n",
       "0        강관주                     1960                    김일성종합대학   \n",
       "1        강관주                     1960                    김일성종합대학   \n",
       "2        강관주                     연도미상                  김일성 고급당학교   \n",
       "3        강관주                     연도미상                  김일성 고급당학교   \n",
       "4        강능수                     연도미상                    김일성종합대학   \n",
       "..       ...                      ...                        ...   \n",
       "810      오길방                      NaN                        NaN   \n",
       "811      우두태                      NaN                        NaN   \n",
       "812      이금범                      NaN                        NaN   \n",
       "813      심철호                      NaN                        NaN   \n",
       "814      조연준                      NaN                        NaN   \n",
       "\n",
       "    EducationMajorString_2022 EducationGraduationStatus_2022 MOUID_2015  \\\n",
       "0                         NaN                             졸업        807   \n",
       "1                         NaN                             졸업        807   \n",
       "2                         NaN                             졸업        807   \n",
       "3                         NaN                             졸업        807   \n",
       "4                       조선어문학                             졸업        430   \n",
       "..                        ...                            ...        ...   \n",
       "810                       NaN                            NaN        706   \n",
       "811                       NaN                            NaN        707   \n",
       "812                       NaN                            NaN        711   \n",
       "813                       NaN                            NaN        799   \n",
       "814                       NaN                            NaN        804   \n",
       "\n",
       "    Name_2015   EducationString_2015 SchoolYear_2015 SchoolName_2015  \\\n",
       "0         강관주  1960. 김일성종합대학 역사학부 졸업            1960        김일성종합대학교   \n",
       "1         강관주        연도미상김일성고급당학교 졸업             NaN        김일성고급당학교   \n",
       "2         강관주  1960. 김일성종합대학 역사학부 졸업            1960        김일성종합대학교   \n",
       "3         강관주        연도미상김일성고급당학교 졸업             NaN        김일성고급당학교   \n",
       "4         강능수  연도미상김일성종합대학 조선어문학부 졸업             NaN        김일성종합대학교   \n",
       "..        ...                    ...             ...             ...   \n",
       "810       오길방        연도미상 김일성종합대학 졸업             NaN        김일성종합대학교   \n",
       "811       우두태    연도미상 문평제련소 공장대학 야금과             NaN            공장대학   \n",
       "812       이금범       연도미상 평양체신대학 전자공학             NaN         평양체신대학교   \n",
       "813       심철호        연도미상 김일성종합대학 졸업             NaN        김일성종합대학교   \n",
       "814       조연준        연도미상 김일성종합대학 졸업             NaN        김일성종합대학교   \n",
       "\n",
       "    SchoolLevel_2015 SchoolRegion_2015 SchoolStringConcat_2015  \n",
       "0                대학교                북한    1960_김일성종합대학교_대학교_북한  \n",
       "1               특수학교                북한   year_김일성고급당학교_특수학교_북한  \n",
       "2                대학교                북한    1960_김일성종합대학교_대학교_북한  \n",
       "3               특수학교                북한   year_김일성고급당학교_특수학교_북한  \n",
       "4                대학교                북한    year_김일성종합대학교_대학교_북한  \n",
       "..               ...               ...                     ...  \n",
       "810              대학교                북한    year_김일성종합대학교_대학교_북한  \n",
       "811              대학교                북한        year_공장대학_대학교_북한  \n",
       "812              대학교                북한     year_평양체신대학교_대학교_북한  \n",
       "813              대학교                북한    year_김일성종합대학교_대학교_북한  \n",
       "814              대학교                북한    year_김일성종합대학교_대학교_북한  \n",
       "\n",
       "[815 rows x 13 columns]"
      ]
     },
     "execution_count": 13,
     "metadata": {},
     "output_type": "execute_result"
    }
   ],
   "source": [
    "merged_education"
   ]
  },
  {
   "cell_type": "code",
   "execution_count": 22,
   "metadata": {},
   "outputs": [],
   "source": [
    "# education in 2015, but not 2022 - 5 rows\n",
    "# merged_education[merged_education.EducationDateString_2022.isnull() & merged_education.EducationString_2015.notnull()]"
   ]
  },
  {
   "cell_type": "code",
   "execution_count": 23,
   "metadata": {},
   "outputs": [],
   "source": [
    "# education in 2022, but not 2015 - 28 rows\n",
    "# merged_education[merged_education.EducationDateString_2022.notnull() & merged_education.EducationString_2015.isnull()]"
   ]
  },
  {
   "cell_type": "code",
   "execution_count": 24,
   "metadata": {},
   "outputs": [],
   "source": [
    "# education overlap in 2015 & 2022 - 459 rows\n",
    "# merged_education[merged_education.EducationDateString_2022.notnull() & merged_education.EducationString_2015.notnull()]"
   ]
  },
  {
   "cell_type": "code",
   "execution_count": 25,
   "metadata": {},
   "outputs": [],
   "source": [
    "# all null - 275 rows - can delete these\n",
    "# merged_education[merged_education.EducationDateString_2022.isnull() & merged_education.EducationString_2015.isnull()]"
   ]
  },
  {
   "cell_type": "markdown",
   "metadata": {},
   "source": [
    "# export combined education - to cleaning"
   ]
  },
  {
   "cell_type": "code",
   "execution_count": 14,
   "metadata": {},
   "outputs": [],
   "source": [
    "# export to combined education - to cleaning\n",
    "merged_education.to_excel(fileout_combined_education_cleaning,index=False,encoding=\"utf-8\")"
   ]
  },
  {
   "cell_type": "code",
   "execution_count": null,
   "metadata": {},
   "outputs": [],
   "source": []
  }
 ],
 "metadata": {
  "kernelspec": {
   "display_name": "Python 3",
   "language": "python",
   "name": "python3"
  },
  "language_info": {
   "codemirror_mode": {
    "name": "ipython",
    "version": 3
   },
   "file_extension": ".py",
   "mimetype": "text/x-python",
   "name": "python",
   "nbconvert_exporter": "python",
   "pygments_lexer": "ipython3",
   "version": "3.7.3"
  }
 },
 "nbformat": 4,
 "nbformat_minor": 4
}
