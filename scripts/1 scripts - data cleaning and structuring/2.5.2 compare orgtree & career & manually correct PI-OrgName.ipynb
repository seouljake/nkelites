{
 "cells": [
  {
   "cell_type": "code",
   "execution_count": 1,
   "id": "74698cf3",
   "metadata": {},
   "outputs": [],
   "source": [
    "import pandas as pd\n",
    "import numpy as np"
   ]
  },
  {
   "cell_type": "markdown",
   "id": "aaf25c71",
   "metadata": {},
   "source": [
    "# combined data - 2 tables"
   ]
  },
  {
   "cell_type": "code",
   "execution_count": 2,
   "id": "f2c9c339",
   "metadata": {},
   "outputs": [],
   "source": [
    "path_tables = \"C:/Users/seoul/Dropbox/00 technical/github/nkelites/data/combined data/combined data - 2 tables/\""
   ]
  },
  {
   "cell_type": "code",
   "execution_count": 3,
   "id": "b7d9b165",
   "metadata": {},
   "outputs": [],
   "source": [
    "filename_careers = \"careers.xlsx\""
   ]
  },
  {
   "cell_type": "code",
   "execution_count": 4,
   "id": "1c1ab934",
   "metadata": {},
   "outputs": [],
   "source": [
    "filename_leadercareerlink = \"leadercareerlink.xlsx\""
   ]
  },
  {
   "cell_type": "code",
   "execution_count": 5,
   "id": "f86d0874",
   "metadata": {},
   "outputs": [],
   "source": [
    "filename_leaderjoblink = \"leaderjoblink.xlsx\""
   ]
  },
  {
   "cell_type": "code",
   "execution_count": 6,
   "id": "09c3c30a",
   "metadata": {},
   "outputs": [],
   "source": [
    "filename_joborglink = \"joborglink.xlsx\""
   ]
  },
  {
   "cell_type": "markdown",
   "id": "c2a10c37",
   "metadata": {},
   "source": [
    "# combined data - 1 cleaning/cleaning step 2 - career/"
   ]
  },
  {
   "cell_type": "code",
   "execution_count": 7,
   "id": "a9386ddd",
   "metadata": {},
   "outputs": [],
   "source": [
    "path_cleaning = \"C:/Users/seoul/Dropbox/00 technical/github/nkelites/data/combined data/combined data - 1 cleaning/cleaning step 2 - career/\""
   ]
  },
  {
   "cell_type": "code",
   "execution_count": 8,
   "id": "ea8288fa",
   "metadata": {},
   "outputs": [],
   "source": [
    "subpath_2_1 = \"2.1 career_undivided_unparsed_uncoded/\"\n",
    "subpath_2_2 = \"2.2 career_divided_unparsed_uncoded/\"\n",
    "subpath_2_3 = \"2.3 joborglink/\"\n",
    "subpath_2_4 = \"2.4 orgtree/\"\n",
    "subpath_2_5 = \"2.5 position/\"\n",
    "subpath_2_6 = \"2.6 career_reassembled/\""
   ]
  },
  {
   "cell_type": "code",
   "execution_count": 9,
   "id": "83143cac",
   "metadata": {},
   "outputs": [
    {
     "data": {
      "text/plain": [
       "(1383, 9)"
      ]
     },
     "execution_count": 9,
     "metadata": {},
     "output_type": "execute_result"
    }
   ],
   "source": [
    "# orgtree_4_5_jeonsgu_cleaned\n",
    "filein_ot = \"orgtree_4_5_jeonsgu_cleaned.xlsx\"\n",
    "ot = pd.read_excel(path_cleaning + subpath_2_4 + filein_ot,dtype=\"str\")\n",
    "ot.shape"
   ]
  },
  {
   "cell_type": "code",
   "execution_count": 10,
   "id": "614bfa3a",
   "metadata": {},
   "outputs": [
    {
     "data": {
      "text/plain": [
       "(9001, 17)"
      ]
     },
     "execution_count": 10,
     "metadata": {},
     "output_type": "execute_result"
    }
   ],
   "source": [
    "# careers_3_jeongsu_complete\n",
    "filein_careers = \"careers_3_jeongsu_complete.xlsx\"\n",
    "careers = pd.read_excel(path_cleaning + subpath_2_6 + filein_careers,dtype=\"str\")\n",
    "careers.shape"
   ]
  },
  {
   "cell_type": "markdown",
   "id": "d48ec496",
   "metadata": {},
   "source": [
    "# 1. verify manual updates to orgtree"
   ]
  },
  {
   "cell_type": "code",
   "execution_count": 11,
   "id": "4f4197d2",
   "metadata": {},
   "outputs": [
    {
     "data": {
      "text/plain": [
       "(1383, 9)"
      ]
     },
     "execution_count": 11,
     "metadata": {},
     "output_type": "execute_result"
    }
   ],
   "source": [
    "ot.shape"
   ]
  },
  {
   "cell_type": "code",
   "execution_count": 12,
   "id": "a3ece55a",
   "metadata": {},
   "outputs": [
    {
     "data": {
      "text/plain": [
       "(0, 9)"
      ]
     },
     "execution_count": 12,
     "metadata": {},
     "output_type": "execute_result"
    }
   ],
   "source": [
    "ot[ot[\"InsideGov\"].str.lower()==\"please_revise\"].shape"
   ]
  },
  {
   "cell_type": "code",
   "execution_count": 13,
   "id": "4801f7d1",
   "metadata": {},
   "outputs": [
    {
     "data": {
      "text/plain": [
       "(0, 9)"
      ]
     },
     "execution_count": 13,
     "metadata": {},
     "output_type": "execute_result"
    }
   ],
   "source": [
    "ot[ot[\"LinkToNext_PI\"].str.lower()==\"please_revise\"].shape"
   ]
  },
  {
   "cell_type": "code",
   "execution_count": 14,
   "id": "307b41de",
   "metadata": {},
   "outputs": [
    {
     "data": {
      "text/plain": [
       "(0, 9)"
      ]
     },
     "execution_count": 14,
     "metadata": {},
     "output_type": "execute_result"
    }
   ],
   "source": [
    "ot[ot[\"LinkToNext_Org\"].str.lower()==\"please_revise\"].shape"
   ]
  },
  {
   "cell_type": "code",
   "execution_count": 15,
   "id": "6f070031",
   "metadata": {},
   "outputs": [
    {
     "data": {
      "text/plain": [
       "(0, 9)"
      ]
     },
     "execution_count": 15,
     "metadata": {},
     "output_type": "execute_result"
    }
   ],
   "source": [
    "ot[ot[\"LinkToNext_Year\"].str.lower()==\"please_revise\"].shape"
   ]
  },
  {
   "cell_type": "code",
   "execution_count": 16,
   "id": "33850afd",
   "metadata": {},
   "outputs": [
    {
     "data": {
      "text/html": [
       "<div>\n",
       "<style scoped>\n",
       "    .dataframe tbody tr th:only-of-type {\n",
       "        vertical-align: middle;\n",
       "    }\n",
       "\n",
       "    .dataframe tbody tr th {\n",
       "        vertical-align: top;\n",
       "    }\n",
       "\n",
       "    .dataframe thead th {\n",
       "        text-align: right;\n",
       "    }\n",
       "</style>\n",
       "<table border=\"1\" class=\"dataframe\">\n",
       "  <thead>\n",
       "    <tr style=\"text-align: right;\">\n",
       "      <th></th>\n",
       "      <th>InsideGov</th>\n",
       "      <th>PrimaryInstitution</th>\n",
       "      <th>OrgName</th>\n",
       "      <th>ImmediateSuperiorOrg</th>\n",
       "      <th>SupervisesParent</th>\n",
       "      <th>LinkToNext_PI</th>\n",
       "      <th>LinkToNext_Org</th>\n",
       "      <th>LinkToNext_Year</th>\n",
       "      <th>Notes</th>\n",
       "    </tr>\n",
       "  </thead>\n",
       "  <tbody>\n",
       "    <tr>\n",
       "      <th>0</th>\n",
       "      <td>0</td>\n",
       "      <td>4.15문화창작단</td>\n",
       "      <td>NaN</td>\n",
       "      <td>NaN</td>\n",
       "      <td>NaN</td>\n",
       "      <td>Current</td>\n",
       "      <td>Current</td>\n",
       "      <td>Current</td>\n",
       "      <td>NaN</td>\n",
       "    </tr>\n",
       "    <tr>\n",
       "      <th>1</th>\n",
       "      <td>0</td>\n",
       "      <td>6.15공동선언실천남북공동위원회북측위원회</td>\n",
       "      <td>교직원분과</td>\n",
       "      <td>NaN</td>\n",
       "      <td>NaN</td>\n",
       "      <td>Current</td>\n",
       "      <td>Current</td>\n",
       "      <td>Current</td>\n",
       "      <td>NaN</td>\n",
       "    </tr>\n",
       "  </tbody>\n",
       "</table>\n",
       "</div>"
      ],
      "text/plain": [
       "  InsideGov      PrimaryInstitution OrgName ImmediateSuperiorOrg  \\\n",
       "0         0               4.15문화창작단     NaN                  NaN   \n",
       "1         0  6.15공동선언실천남북공동위원회북측위원회   교직원분과                  NaN   \n",
       "\n",
       "  SupervisesParent LinkToNext_PI LinkToNext_Org LinkToNext_Year Notes  \n",
       "0              NaN       Current        Current         Current   NaN  \n",
       "1              NaN       Current        Current         Current   NaN  "
      ]
     },
     "execution_count": 16,
     "metadata": {},
     "output_type": "execute_result"
    }
   ],
   "source": [
    "ot.head(2)"
   ]
  },
  {
   "cell_type": "markdown",
   "id": "3e46a49f",
   "metadata": {},
   "source": [
    "# 2. check updates to career"
   ]
  },
  {
   "cell_type": "code",
   "execution_count": 17,
   "id": "be08544e",
   "metadata": {},
   "outputs": [
    {
     "data": {
      "text/plain": [
       "(9001, 17)"
      ]
     },
     "execution_count": 17,
     "metadata": {},
     "output_type": "execute_result"
    }
   ],
   "source": [
    "careers.shape"
   ]
  },
  {
   "cell_type": "code",
   "execution_count": 18,
   "id": "69bb36ab",
   "metadata": {},
   "outputs": [
    {
     "data": {
      "text/html": [
       "<div>\n",
       "<style scoped>\n",
       "    .dataframe tbody tr th:only-of-type {\n",
       "        vertical-align: middle;\n",
       "    }\n",
       "\n",
       "    .dataframe tbody tr th {\n",
       "        vertical-align: top;\n",
       "    }\n",
       "\n",
       "    .dataframe thead th {\n",
       "        text-align: right;\n",
       "    }\n",
       "</style>\n",
       "<table border=\"1\" class=\"dataframe\">\n",
       "  <thead>\n",
       "    <tr style=\"text-align: right;\">\n",
       "      <th></th>\n",
       "      <th>CareerString</th>\n",
       "      <th>CareerDateString_2022</th>\n",
       "      <th>IsJob</th>\n",
       "      <th>Edit_IsJob</th>\n",
       "      <th>MultipleSubstrings</th>\n",
       "      <th>CareerStartYear</th>\n",
       "      <th>CareerStartMonth</th>\n",
       "      <th>CareerSubstring</th>\n",
       "      <th>OrgString</th>\n",
       "      <th>PrimaryInstitution</th>\n",
       "      <th>OrgName</th>\n",
       "      <th>Edit_PI</th>\n",
       "      <th>Edit_OrgName</th>\n",
       "      <th>Position</th>\n",
       "      <th>Edit_Position</th>\n",
       "      <th>Add Orgtree</th>\n",
       "      <th>Notes</th>\n",
       "    </tr>\n",
       "  </thead>\n",
       "  <tbody>\n",
       "    <tr>\n",
       "      <th>0</th>\n",
       "      <td>개성공단 남북공동위원회 통행통신통관 분과위원회</td>\n",
       "      <td>2013.09 ~ 2014.01</td>\n",
       "      <td>False</td>\n",
       "      <td>NaN</td>\n",
       "      <td>NaN</td>\n",
       "      <td>2013</td>\n",
       "      <td>9</td>\n",
       "      <td>NaN</td>\n",
       "      <td>개성공단 남북공동위원회 통행통신통관 분과위원회</td>\n",
       "      <td>NaN</td>\n",
       "      <td>NaN</td>\n",
       "      <td>NaN</td>\n",
       "      <td>NaN</td>\n",
       "      <td>NaN</td>\n",
       "      <td>NaN</td>\n",
       "      <td>NaN</td>\n",
       "      <td>NaN</td>\n",
       "    </tr>\n",
       "    <tr>\n",
       "      <th>1</th>\n",
       "      <td>故 김정일 국가장의위원회 위원</td>\n",
       "      <td>2011.12</td>\n",
       "      <td>True</td>\n",
       "      <td>False</td>\n",
       "      <td>NaN</td>\n",
       "      <td>2011</td>\n",
       "      <td>12</td>\n",
       "      <td>NaN</td>\n",
       "      <td>NaN</td>\n",
       "      <td>NaN</td>\n",
       "      <td>NaN</td>\n",
       "      <td>국가장의위원회</td>\n",
       "      <td>NaN</td>\n",
       "      <td>NaN</td>\n",
       "      <td>위원</td>\n",
       "      <td>1</td>\n",
       "      <td>NaN</td>\n",
       "    </tr>\n",
       "  </tbody>\n",
       "</table>\n",
       "</div>"
      ],
      "text/plain": [
       "                 CareerString CareerDateString_2022  IsJob Edit_IsJob  \\\n",
       "0   개성공단 남북공동위원회 통행통신통관 분과위원회     2013.09 ~ 2014.01  False        NaN   \n",
       "1            故 김정일 국가장의위원회 위원               2011.12   True      False   \n",
       "\n",
       "  MultipleSubstrings CareerStartYear CareerStartMonth CareerSubstring  \\\n",
       "0                NaN            2013                9             NaN   \n",
       "1                NaN            2011               12             NaN   \n",
       "\n",
       "                   OrgString PrimaryInstitution OrgName  Edit_PI Edit_OrgName  \\\n",
       "0  개성공단 남북공동위원회 통행통신통관 분과위원회                NaN     NaN      NaN          NaN   \n",
       "1                        NaN                NaN     NaN  국가장의위원회          NaN   \n",
       "\n",
       "  Position Edit_Position Add Orgtree Notes  \n",
       "0      NaN           NaN         NaN   NaN  \n",
       "1      NaN            위원           1   NaN  "
      ]
     },
     "execution_count": 18,
     "metadata": {},
     "output_type": "execute_result"
    }
   ],
   "source": [
    "careers.head(2)"
   ]
  },
  {
   "cell_type": "code",
   "execution_count": 19,
   "id": "b9004b4f",
   "metadata": {},
   "outputs": [
    {
     "data": {
      "text/html": [
       "<div>\n",
       "<style scoped>\n",
       "    .dataframe tbody tr th:only-of-type {\n",
       "        vertical-align: middle;\n",
       "    }\n",
       "\n",
       "    .dataframe tbody tr th {\n",
       "        vertical-align: top;\n",
       "    }\n",
       "\n",
       "    .dataframe thead th {\n",
       "        text-align: right;\n",
       "    }\n",
       "</style>\n",
       "<table border=\"1\" class=\"dataframe\">\n",
       "  <thead>\n",
       "    <tr style=\"text-align: right;\">\n",
       "      <th></th>\n",
       "      <th>CareerString</th>\n",
       "      <th>IsJob</th>\n",
       "    </tr>\n",
       "    <tr>\n",
       "      <th>Edit_IsJob</th>\n",
       "      <th></th>\n",
       "      <th></th>\n",
       "    </tr>\n",
       "  </thead>\n",
       "  <tbody>\n",
       "    <tr>\n",
       "      <th>False</th>\n",
       "      <td>475</td>\n",
       "      <td>475</td>\n",
       "    </tr>\n",
       "  </tbody>\n",
       "</table>\n",
       "</div>"
      ],
      "text/plain": [
       "            CareerString  IsJob\n",
       "Edit_IsJob                     \n",
       "False                475    475"
      ]
     },
     "execution_count": 19,
     "metadata": {},
     "output_type": "execute_result"
    }
   ],
   "source": [
    "# check IsJob = False for all 국가장의위원회\n",
    "careers[[\"CareerString\",\"IsJob\",\"Edit_IsJob\"]].groupby(\"Edit_IsJob\").count()"
   ]
  },
  {
   "cell_type": "code",
   "execution_count": 20,
   "id": "fac0a42d",
   "metadata": {},
   "outputs": [
    {
     "data": {
      "text/plain": [
       "(0, 17)"
      ]
     },
     "execution_count": 20,
     "metadata": {},
     "output_type": "execute_result"
    }
   ],
   "source": [
    "careers[(careers[\"CareerString\"].str.contains(\"국가장의위원회\",na=False)) & \n",
    "        (careers[\"IsJob\"].str.contains(\"True\",na=False)) & \n",
    "        ~ (careers[\"Edit_IsJob\"].str.contains(\"False\",na=True))].shape"
   ]
  },
  {
   "cell_type": "code",
   "execution_count": 21,
   "id": "826dc7f2",
   "metadata": {},
   "outputs": [
    {
     "data": {
      "text/plain": [
       "(1620, 17)"
      ]
     },
     "execution_count": 21,
     "metadata": {},
     "output_type": "execute_result"
    }
   ],
   "source": [
    "careers[careers[\"CareerStartYear\"].isna()].shape"
   ]
  },
  {
   "cell_type": "code",
   "execution_count": 22,
   "id": "99d68bec",
   "metadata": {},
   "outputs": [
    {
     "data": {
      "text/plain": [
       "(0, 17)"
      ]
     },
     "execution_count": 22,
     "metadata": {},
     "output_type": "execute_result"
    }
   ],
   "source": [
    "# check CareerStartYear are in CareerString or CareerDateStart_2022\n",
    "careers[careers[\"CareerStartYear\"].notna()\n",
    "        & careers.apply(lambda x:\n",
    "                      (str(x[\"CareerStartYear\"]) not in str(x[\"CareerString\"])) &\n",
    "                      (str(x[\"CareerStartYear\"]) not in str(x[\"CareerDateString_2022\"])),axis=1)].shape"
   ]
  },
  {
   "cell_type": "code",
   "execution_count": 23,
   "id": "b1027fbc",
   "metadata": {},
   "outputs": [
    {
     "data": {
      "text/plain": [
       "(0, 17)"
      ]
     },
     "execution_count": 23,
     "metadata": {},
     "output_type": "execute_result"
    }
   ],
   "source": [
    "# check CareerStartMonth are in CareerString or CareerDateStart_2022\n",
    "careers[careers[\"CareerStartMonth\"].notna()\n",
    "        & careers.apply(lambda x:\n",
    "                      (str(x[\"CareerStartMonth\"]) not in str(x[\"CareerString\"])) &\n",
    "                      (str(x[\"CareerStartMonth\"]) not in str(x[\"CareerDateString_2022\"])),axis=1)].shape"
   ]
  },
  {
   "cell_type": "code",
   "execution_count": 24,
   "id": "ab923a68",
   "metadata": {},
   "outputs": [
    {
     "data": {
      "text/html": [
       "<div>\n",
       "<style scoped>\n",
       "    .dataframe tbody tr th:only-of-type {\n",
       "        vertical-align: middle;\n",
       "    }\n",
       "\n",
       "    .dataframe tbody tr th {\n",
       "        vertical-align: top;\n",
       "    }\n",
       "\n",
       "    .dataframe thead th {\n",
       "        text-align: right;\n",
       "    }\n",
       "</style>\n",
       "<table border=\"1\" class=\"dataframe\">\n",
       "  <thead>\n",
       "    <tr style=\"text-align: right;\">\n",
       "      <th></th>\n",
       "      <th>CareerString</th>\n",
       "      <th>CareerDateString_2022</th>\n",
       "      <th>IsJob</th>\n",
       "      <th>Edit_IsJob</th>\n",
       "      <th>MultipleSubstrings</th>\n",
       "      <th>CareerStartYear</th>\n",
       "      <th>CareerStartMonth</th>\n",
       "      <th>CareerSubstring</th>\n",
       "      <th>OrgString</th>\n",
       "      <th>PrimaryInstitution</th>\n",
       "      <th>OrgName</th>\n",
       "      <th>Edit_PI</th>\n",
       "      <th>Edit_OrgName</th>\n",
       "      <th>Position</th>\n",
       "      <th>Edit_Position</th>\n",
       "      <th>Add Orgtree</th>\n",
       "      <th>Notes</th>\n",
       "    </tr>\n",
       "  </thead>\n",
       "  <tbody>\n",
       "  </tbody>\n",
       "</table>\n",
       "</div>"
      ],
      "text/plain": [
       "Empty DataFrame\n",
       "Columns: [CareerString, CareerDateString_2022, IsJob, Edit_IsJob, MultipleSubstrings, CareerStartYear, CareerStartMonth, CareerSubstring, OrgString, PrimaryInstitution, OrgName, Edit_PI, Edit_OrgName, Position, Edit_Position, Add Orgtree, Notes]\n",
       "Index: []"
      ]
     },
     "execution_count": 24,
     "metadata": {},
     "output_type": "execute_result"
    }
   ],
   "source": [
    "# Position = 근무 --> Uncertain\n",
    "careers[careers[\"Position\"]==\"근무\"]"
   ]
  },
  {
   "cell_type": "code",
   "execution_count": 25,
   "id": "505721d5",
   "metadata": {},
   "outputs": [
    {
     "data": {
      "text/html": [
       "<div>\n",
       "<style scoped>\n",
       "    .dataframe tbody tr th:only-of-type {\n",
       "        vertical-align: middle;\n",
       "    }\n",
       "\n",
       "    .dataframe tbody tr th {\n",
       "        vertical-align: top;\n",
       "    }\n",
       "\n",
       "    .dataframe thead th {\n",
       "        text-align: right;\n",
       "    }\n",
       "</style>\n",
       "<table border=\"1\" class=\"dataframe\">\n",
       "  <thead>\n",
       "    <tr style=\"text-align: right;\">\n",
       "      <th></th>\n",
       "      <th>CareerString</th>\n",
       "      <th>CareerDateString_2022</th>\n",
       "      <th>IsJob</th>\n",
       "      <th>Edit_IsJob</th>\n",
       "      <th>MultipleSubstrings</th>\n",
       "      <th>CareerStartYear</th>\n",
       "      <th>CareerStartMonth</th>\n",
       "      <th>CareerSubstring</th>\n",
       "      <th>OrgString</th>\n",
       "      <th>PrimaryInstitution</th>\n",
       "      <th>OrgName</th>\n",
       "      <th>Edit_PI</th>\n",
       "      <th>Edit_OrgName</th>\n",
       "      <th>Position</th>\n",
       "      <th>Edit_Position</th>\n",
       "      <th>Add Orgtree</th>\n",
       "      <th>Notes</th>\n",
       "    </tr>\n",
       "  </thead>\n",
       "  <tbody>\n",
       "  </tbody>\n",
       "</table>\n",
       "</div>"
      ],
      "text/plain": [
       "Empty DataFrame\n",
       "Columns: [CareerString, CareerDateString_2022, IsJob, Edit_IsJob, MultipleSubstrings, CareerStartYear, CareerStartMonth, CareerSubstring, OrgString, PrimaryInstitution, OrgName, Edit_PI, Edit_OrgName, Position, Edit_Position, Add Orgtree, Notes]\n",
       "Index: []"
      ]
     },
     "execution_count": 25,
     "metadata": {},
     "output_type": "execute_result"
    }
   ],
   "source": [
    "# Edit_Position = 근무 --> Uncertain\n",
    "careers[careers[\"Edit_Position\"]==\"근무\"]"
   ]
  },
  {
   "cell_type": "code",
   "execution_count": 26,
   "id": "167e8c9d",
   "metadata": {},
   "outputs": [],
   "source": [
    "# deleted Edit_MS\n",
    "# careers[careers[\"Edit_MS\"].notna()]"
   ]
  },
  {
   "cell_type": "markdown",
   "id": "24a9609b",
   "metadata": {},
   "source": [
    "# 3. update careers: IsJob, Position, PI, OrgName"
   ]
  },
  {
   "cell_type": "code",
   "execution_count": 27,
   "id": "ab8529c2",
   "metadata": {},
   "outputs": [
    {
     "data": {
      "text/plain": [
       "array([nan, 'False'], dtype=object)"
      ]
     },
     "execution_count": 27,
     "metadata": {},
     "output_type": "execute_result"
    }
   ],
   "source": [
    "careers[\"Edit_IsJob\"].unique()"
   ]
  },
  {
   "cell_type": "code",
   "execution_count": 28,
   "id": "09a189f6",
   "metadata": {},
   "outputs": [
    {
     "data": {
      "text/plain": [
       "(475, 17)"
      ]
     },
     "execution_count": 28,
     "metadata": {},
     "output_type": "execute_result"
    }
   ],
   "source": [
    "careers[careers[\"Edit_IsJob\"].notna()].shape"
   ]
  },
  {
   "cell_type": "code",
   "execution_count": 29,
   "id": "8112a7f2",
   "metadata": {},
   "outputs": [],
   "source": [
    "# update IsJob\n",
    "careers.loc[careers[\"Edit_IsJob\"].notna(),\"IsJob\"] = careers.loc[careers[\"Edit_IsJob\"].notna(),\"Edit_IsJob\"]"
   ]
  },
  {
   "cell_type": "code",
   "execution_count": 30,
   "id": "029666cf",
   "metadata": {},
   "outputs": [
    {
     "data": {
      "text/plain": [
       "array([nan, '위원', '상', '위원장', '부총리', '총참모장', '부위원장', '상무위원', '대사', '대의원',\n",
       "       '사령관', '부상', '부장', 'uncertain', '참모장', '사단장', '부수상', '후보위원', '부부장',\n",
       "       '정치위원', '군단장', '부국장', '제1부상', '제1부국장', '학장', '비서', '총비서', '조직부국장',\n",
       "       '자문위원', '주석', '책임비서', '총리', '부주석', '사무장', '위워장', '부총참모장', '2군단장',\n",
       "       '국장', '제1부부장', '국가부주석', '실장', '통일담당 책임참사', '대표', '소장', '참사', '지배인',\n",
       "       '서기장', '부의장', '총정치국장', '제1비서', '제1위원장', '정치부장', '처장', '수위', '설계국장',\n",
       "       '제1부위원장', '명예위원장', '연대장', '조직부장', '제1부총참모장', '외사국장', '총장', '제1부수상',\n",
       "       '제2부수상', '사장', '제1부총리', '서기', '과장', '책임주필', '부과장', '지도원', '2등서기관',\n",
       "       '부주필', '조직비서', '총국장', '성원', '부군단장', '선전부국장', '재1부총참모장', '의원',\n",
       "       '명예부위원장', '수상', '단장'], dtype=object)"
      ]
     },
     "execution_count": 30,
     "metadata": {},
     "output_type": "execute_result"
    }
   ],
   "source": [
    "careers[\"Edit_Position\"].unique()"
   ]
  },
  {
   "cell_type": "code",
   "execution_count": 31,
   "id": "984e1769",
   "metadata": {},
   "outputs": [],
   "source": [
    "# update Position\n",
    "careers.loc[careers[\"Edit_Position\"].notna(),\"Position\"] = careers.loc[careers[\"Edit_Position\"].notna(),\"Edit_Position\"]"
   ]
  },
  {
   "cell_type": "code",
   "execution_count": 32,
   "id": "3a255651",
   "metadata": {},
   "outputs": [],
   "source": [
    "# careers[\"Edit_PI\"].unique()"
   ]
  },
  {
   "cell_type": "code",
   "execution_count": 33,
   "id": "0f35ebd3",
   "metadata": {},
   "outputs": [],
   "source": [
    "# careers[\"Edit_OrgName\"].unique()"
   ]
  },
  {
   "cell_type": "code",
   "execution_count": 34,
   "id": "a2990942",
   "metadata": {},
   "outputs": [],
   "source": [
    "# update PrimaryInstitution\n",
    "careers.loc[careers[\"Edit_PI\"].notna(),\"PrimaryInstitution\"] = careers.loc[careers[\"Edit_PI\"].notna(),\"Edit_PI\"]"
   ]
  },
  {
   "cell_type": "code",
   "execution_count": 35,
   "id": "1fbbbdbe",
   "metadata": {},
   "outputs": [],
   "source": [
    "# update OrgName\n",
    "careers.loc[careers[\"Edit_OrgName\"].notna(),\"OrgName\"] = careers.loc[careers[\"Edit_OrgName\"].notna(),\"Edit_OrgName\"]"
   ]
  },
  {
   "cell_type": "markdown",
   "id": "f1263c80",
   "metadata": {},
   "source": [
    "# 4. check careers: MultipleSubstrings"
   ]
  },
  {
   "cell_type": "code",
   "execution_count": 36,
   "id": "ab462dfe",
   "metadata": {},
   "outputs": [],
   "source": [
    "# assign NaN MultipleSubstrings as 1\n",
    "careers.loc[careers[\"MultipleSubstrings\"].isna(),\"MultipleSubstrings\"]=\"1\""
   ]
  },
  {
   "cell_type": "code",
   "execution_count": 37,
   "id": "d24340fa",
   "metadata": {},
   "outputs": [],
   "source": [
    "check_columns = [\"CareerString\",\"MultipleSubstrings\"]"
   ]
  },
  {
   "cell_type": "code",
   "execution_count": 38,
   "id": "8a16ac60",
   "metadata": {},
   "outputs": [],
   "source": [
    "# do any CareerString,MultipleSubstrings pairs not match?\n",
    "ms = careers[check_columns]"
   ]
  },
  {
   "cell_type": "code",
   "execution_count": 39,
   "id": "eaadb688",
   "metadata": {},
   "outputs": [
    {
     "data": {
      "text/plain": [
       "(22913, 3)"
      ]
     },
     "execution_count": 39,
     "metadata": {},
     "output_type": "execute_result"
    }
   ],
   "source": [
    "mspairs = ms.merge(ms,how=\"outer\",on=\"CareerString\",suffixes=(\"\",\"_y\"))\n",
    "mspairs.shape"
   ]
  },
  {
   "cell_type": "code",
   "execution_count": 40,
   "id": "d06d9d3b",
   "metadata": {},
   "outputs": [
    {
     "data": {
      "text/plain": [
       "(7025, 3)"
      ]
     },
     "execution_count": 40,
     "metadata": {},
     "output_type": "execute_result"
    }
   ],
   "source": [
    "mspairs.drop_duplicates(keep=\"first\",inplace=True,ignore_index=True)\n",
    "mspairs.shape"
   ]
  },
  {
   "cell_type": "code",
   "execution_count": 41,
   "id": "787991f5",
   "metadata": {},
   "outputs": [
    {
     "data": {
      "text/html": [
       "<div>\n",
       "<style scoped>\n",
       "    .dataframe tbody tr th:only-of-type {\n",
       "        vertical-align: middle;\n",
       "    }\n",
       "\n",
       "    .dataframe tbody tr th {\n",
       "        vertical-align: top;\n",
       "    }\n",
       "\n",
       "    .dataframe thead th {\n",
       "        text-align: right;\n",
       "    }\n",
       "</style>\n",
       "<table border=\"1\" class=\"dataframe\">\n",
       "  <thead>\n",
       "    <tr style=\"text-align: right;\">\n",
       "      <th></th>\n",
       "      <th>CareerString</th>\n",
       "      <th>MultipleSubstrings</th>\n",
       "      <th>MultipleSubstrings_y</th>\n",
       "    </tr>\n",
       "  </thead>\n",
       "  <tbody>\n",
       "    <tr>\n",
       "      <th>0</th>\n",
       "      <td>개성공단 남북공동위원회 통행통신통관 분과위원회</td>\n",
       "      <td>1</td>\n",
       "      <td>1</td>\n",
       "    </tr>\n",
       "    <tr>\n",
       "      <th>1</th>\n",
       "      <td>故 김정일 국가장의위원회 위원</td>\n",
       "      <td>1</td>\n",
       "      <td>1</td>\n",
       "    </tr>\n",
       "  </tbody>\n",
       "</table>\n",
       "</div>"
      ],
      "text/plain": [
       "                 CareerString MultipleSubstrings MultipleSubstrings_y\n",
       "0   개성공단 남북공동위원회 통행통신통관 분과위원회                  1                    1\n",
       "1            故 김정일 국가장의위원회 위원                  1                    1"
      ]
     },
     "execution_count": 41,
     "metadata": {},
     "output_type": "execute_result"
    }
   ],
   "source": [
    "mspairs.head(2)"
   ]
  },
  {
   "cell_type": "code",
   "execution_count": 42,
   "id": "7575f45a",
   "metadata": {},
   "outputs": [
    {
     "data": {
      "text/html": [
       "<div>\n",
       "<style scoped>\n",
       "    .dataframe tbody tr th:only-of-type {\n",
       "        vertical-align: middle;\n",
       "    }\n",
       "\n",
       "    .dataframe tbody tr th {\n",
       "        vertical-align: top;\n",
       "    }\n",
       "\n",
       "    .dataframe thead th {\n",
       "        text-align: right;\n",
       "    }\n",
       "</style>\n",
       "<table border=\"1\" class=\"dataframe\">\n",
       "  <thead>\n",
       "    <tr style=\"text-align: right;\">\n",
       "      <th></th>\n",
       "      <th>CareerString</th>\n",
       "      <th>MultipleSubstrings</th>\n",
       "      <th>MultipleSubstrings_y</th>\n",
       "    </tr>\n",
       "  </thead>\n",
       "  <tbody>\n",
       "  </tbody>\n",
       "</table>\n",
       "</div>"
      ],
      "text/plain": [
       "Empty DataFrame\n",
       "Columns: [CareerString, MultipleSubstrings, MultipleSubstrings_y]\n",
       "Index: []"
      ]
     },
     "execution_count": 42,
     "metadata": {},
     "output_type": "execute_result"
    }
   ],
   "source": [
    "# all non-na (CareerString,MultipleSubstrings) pairs match \n",
    "mspairs[ ~ (mspairs.MultipleSubstrings.isna() & mspairs.MultipleSubstrings_y.isna()) &\n",
    "        mspairs.apply(lambda x: x[\"MultipleSubstrings\"]!=x[\"MultipleSubstrings_y\"],axis=1)]"
   ]
  },
  {
   "cell_type": "code",
   "execution_count": 43,
   "id": "9758cc4c",
   "metadata": {},
   "outputs": [],
   "source": [
    "# check # of substrings = MultipleSubstrings value"
   ]
  },
  {
   "cell_type": "code",
   "execution_count": 44,
   "id": "1ce5cf51",
   "metadata": {},
   "outputs": [],
   "source": [
    "check_columns = [\"CareerString\",\"CareerDateString_2022\",\"MultipleSubstrings\",\"IsJob\"]\n",
    "mscheck = careers[check_columns].groupby([\"CareerString\",\"CareerDateString_2022\"],as_index=False).agg({\"MultipleSubstrings\": [\"min\",\"max\"],\"IsJob\":\"count\"})"
   ]
  },
  {
   "cell_type": "code",
   "execution_count": 45,
   "id": "8fba6d7d",
   "metadata": {},
   "outputs": [],
   "source": [
    "mscheck.columns = [\"CareerString\",\"CareerDateString_2022\",\"min\",\"max\",\"count\"]"
   ]
  },
  {
   "cell_type": "code",
   "execution_count": 46,
   "id": "f354448c",
   "metadata": {},
   "outputs": [
    {
     "data": {
      "text/html": [
       "<div>\n",
       "<style scoped>\n",
       "    .dataframe tbody tr th:only-of-type {\n",
       "        vertical-align: middle;\n",
       "    }\n",
       "\n",
       "    .dataframe tbody tr th {\n",
       "        vertical-align: top;\n",
       "    }\n",
       "\n",
       "    .dataframe thead th {\n",
       "        text-align: right;\n",
       "    }\n",
       "</style>\n",
       "<table border=\"1\" class=\"dataframe\">\n",
       "  <thead>\n",
       "    <tr style=\"text-align: right;\">\n",
       "      <th></th>\n",
       "      <th>CareerString</th>\n",
       "      <th>CareerDateString_2022</th>\n",
       "      <th>min</th>\n",
       "      <th>max</th>\n",
       "      <th>count</th>\n",
       "    </tr>\n",
       "  </thead>\n",
       "  <tbody>\n",
       "    <tr>\n",
       "      <th>0</th>\n",
       "      <td>故 김정일 국가장의위원회 위원</td>\n",
       "      <td>2011.12</td>\n",
       "      <td>1</td>\n",
       "      <td>1</td>\n",
       "      <td>1</td>\n",
       "    </tr>\n",
       "    <tr>\n",
       "      <th>1</th>\n",
       "      <td>개성공단 남북공동위원회 통행통신통관 분과위원회</td>\n",
       "      <td>2013.09 ~ 2014.01</td>\n",
       "      <td>1</td>\n",
       "      <td>1</td>\n",
       "      <td>1</td>\n",
       "    </tr>\n",
       "  </tbody>\n",
       "</table>\n",
       "</div>"
      ],
      "text/plain": [
       "                 CareerString CareerDateString_2022 min max  count\n",
       "0            故 김정일 국가장의위원회 위원               2011.12   1   1      1\n",
       "1   개성공단 남북공동위원회 통행통신통관 분과위원회     2013.09 ~ 2014.01   1   1      1"
      ]
     },
     "execution_count": 46,
     "metadata": {},
     "output_type": "execute_result"
    }
   ],
   "source": [
    "mscheck.head(2)"
   ]
  },
  {
   "cell_type": "code",
   "execution_count": 47,
   "id": "4769fbdd",
   "metadata": {},
   "outputs": [
    {
     "data": {
      "text/html": [
       "<div>\n",
       "<style scoped>\n",
       "    .dataframe tbody tr th:only-of-type {\n",
       "        vertical-align: middle;\n",
       "    }\n",
       "\n",
       "    .dataframe tbody tr th {\n",
       "        vertical-align: top;\n",
       "    }\n",
       "\n",
       "    .dataframe thead th {\n",
       "        text-align: right;\n",
       "    }\n",
       "</style>\n",
       "<table border=\"1\" class=\"dataframe\">\n",
       "  <thead>\n",
       "    <tr style=\"text-align: right;\">\n",
       "      <th></th>\n",
       "      <th>CareerString</th>\n",
       "      <th>CareerDateString_2022</th>\n",
       "      <th>min</th>\n",
       "      <th>max</th>\n",
       "      <th>count</th>\n",
       "    </tr>\n",
       "  </thead>\n",
       "  <tbody>\n",
       "  </tbody>\n",
       "</table>\n",
       "</div>"
      ],
      "text/plain": [
       "Empty DataFrame\n",
       "Columns: [CareerString, CareerDateString_2022, min, max, count]\n",
       "Index: []"
      ]
     },
     "execution_count": 47,
     "metadata": {},
     "output_type": "execute_result"
    }
   ],
   "source": [
    "# are any min,max not equal?\n",
    "mscheck[mscheck[\"min\"].notna() & mscheck[\"max\"].isna()]"
   ]
  },
  {
   "cell_type": "code",
   "execution_count": 48,
   "id": "77c989c0",
   "metadata": {},
   "outputs": [
    {
     "data": {
      "text/html": [
       "<div>\n",
       "<style scoped>\n",
       "    .dataframe tbody tr th:only-of-type {\n",
       "        vertical-align: middle;\n",
       "    }\n",
       "\n",
       "    .dataframe tbody tr th {\n",
       "        vertical-align: top;\n",
       "    }\n",
       "\n",
       "    .dataframe thead th {\n",
       "        text-align: right;\n",
       "    }\n",
       "</style>\n",
       "<table border=\"1\" class=\"dataframe\">\n",
       "  <thead>\n",
       "    <tr style=\"text-align: right;\">\n",
       "      <th></th>\n",
       "      <th>CareerString</th>\n",
       "      <th>CareerDateString_2022</th>\n",
       "      <th>min</th>\n",
       "      <th>max</th>\n",
       "      <th>count</th>\n",
       "    </tr>\n",
       "  </thead>\n",
       "  <tbody>\n",
       "  </tbody>\n",
       "</table>\n",
       "</div>"
      ],
      "text/plain": [
       "Empty DataFrame\n",
       "Columns: [CareerString, CareerDateString_2022, min, max, count]\n",
       "Index: []"
      ]
     },
     "execution_count": 48,
     "metadata": {},
     "output_type": "execute_result"
    }
   ],
   "source": [
    "mscheck[mscheck[\"min\"].isna() & mscheck[\"max\"].notna()]"
   ]
  },
  {
   "cell_type": "code",
   "execution_count": 49,
   "id": "30bc58ba",
   "metadata": {},
   "outputs": [
    {
     "data": {
      "text/html": [
       "<div>\n",
       "<style scoped>\n",
       "    .dataframe tbody tr th:only-of-type {\n",
       "        vertical-align: middle;\n",
       "    }\n",
       "\n",
       "    .dataframe tbody tr th {\n",
       "        vertical-align: top;\n",
       "    }\n",
       "\n",
       "    .dataframe thead th {\n",
       "        text-align: right;\n",
       "    }\n",
       "</style>\n",
       "<table border=\"1\" class=\"dataframe\">\n",
       "  <thead>\n",
       "    <tr style=\"text-align: right;\">\n",
       "      <th></th>\n",
       "      <th>CareerString</th>\n",
       "      <th>CareerDateString_2022</th>\n",
       "      <th>min</th>\n",
       "      <th>max</th>\n",
       "      <th>count</th>\n",
       "    </tr>\n",
       "  </thead>\n",
       "  <tbody>\n",
       "  </tbody>\n",
       "</table>\n",
       "</div>"
      ],
      "text/plain": [
       "Empty DataFrame\n",
       "Columns: [CareerString, CareerDateString_2022, min, max, count]\n",
       "Index: []"
      ]
     },
     "execution_count": 49,
     "metadata": {},
     "output_type": "execute_result"
    }
   ],
   "source": [
    "mscheck[mscheck[\"min\"].notna() & mscheck[\"max\"].notna() & \n",
    "        mscheck.apply(lambda x: x[\"min\"]!=x[\"max\"],axis=1)]"
   ]
  },
  {
   "cell_type": "code",
   "execution_count": 50,
   "id": "9470f70c",
   "metadata": {},
   "outputs": [
    {
     "data": {
      "text/html": [
       "<div>\n",
       "<style scoped>\n",
       "    .dataframe tbody tr th:only-of-type {\n",
       "        vertical-align: middle;\n",
       "    }\n",
       "\n",
       "    .dataframe tbody tr th {\n",
       "        vertical-align: top;\n",
       "    }\n",
       "\n",
       "    .dataframe thead th {\n",
       "        text-align: right;\n",
       "    }\n",
       "</style>\n",
       "<table border=\"1\" class=\"dataframe\">\n",
       "  <thead>\n",
       "    <tr style=\"text-align: right;\">\n",
       "      <th></th>\n",
       "      <th>CareerString</th>\n",
       "      <th>CareerDateString_2022</th>\n",
       "      <th>min</th>\n",
       "      <th>max</th>\n",
       "      <th>count</th>\n",
       "    </tr>\n",
       "  </thead>\n",
       "  <tbody>\n",
       "  </tbody>\n",
       "</table>\n",
       "</div>"
      ],
      "text/plain": [
       "Empty DataFrame\n",
       "Columns: [CareerString, CareerDateString_2022, min, max, count]\n",
       "Index: []"
      ]
     },
     "execution_count": 50,
     "metadata": {},
     "output_type": "execute_result"
    }
   ],
   "source": [
    "# for NaN, is count > 1?\n",
    "mscheck[mscheck[\"min\"].isna() & mscheck[\"count\"]>1]"
   ]
  },
  {
   "cell_type": "code",
   "execution_count": 51,
   "id": "82b630ca",
   "metadata": {},
   "outputs": [
    {
     "data": {
      "text/html": [
       "<div>\n",
       "<style scoped>\n",
       "    .dataframe tbody tr th:only-of-type {\n",
       "        vertical-align: middle;\n",
       "    }\n",
       "\n",
       "    .dataframe tbody tr th {\n",
       "        vertical-align: top;\n",
       "    }\n",
       "\n",
       "    .dataframe thead th {\n",
       "        text-align: right;\n",
       "    }\n",
       "</style>\n",
       "<table border=\"1\" class=\"dataframe\">\n",
       "  <thead>\n",
       "    <tr style=\"text-align: right;\">\n",
       "      <th></th>\n",
       "      <th>CareerString</th>\n",
       "      <th>CareerDateString_2022</th>\n",
       "      <th>min</th>\n",
       "      <th>max</th>\n",
       "      <th>count</th>\n",
       "    </tr>\n",
       "  </thead>\n",
       "  <tbody>\n",
       "  </tbody>\n",
       "</table>\n",
       "</div>"
      ],
      "text/plain": [
       "Empty DataFrame\n",
       "Columns: [CareerString, CareerDateString_2022, min, max, count]\n",
       "Index: []"
      ]
     },
     "execution_count": 51,
     "metadata": {},
     "output_type": "execute_result"
    }
   ],
   "source": [
    "mscheck[mscheck[\"max\"].isna() & mscheck[\"count\"]>1]"
   ]
  },
  {
   "cell_type": "code",
   "execution_count": 52,
   "id": "14036e59",
   "metadata": {},
   "outputs": [
    {
     "data": {
      "text/html": [
       "<div>\n",
       "<style scoped>\n",
       "    .dataframe tbody tr th:only-of-type {\n",
       "        vertical-align: middle;\n",
       "    }\n",
       "\n",
       "    .dataframe tbody tr th {\n",
       "        vertical-align: top;\n",
       "    }\n",
       "\n",
       "    .dataframe thead th {\n",
       "        text-align: right;\n",
       "    }\n",
       "</style>\n",
       "<table border=\"1\" class=\"dataframe\">\n",
       "  <thead>\n",
       "    <tr style=\"text-align: right;\">\n",
       "      <th></th>\n",
       "      <th>CareerString</th>\n",
       "      <th>CareerDateString_2022</th>\n",
       "      <th>min</th>\n",
       "      <th>max</th>\n",
       "      <th>count</th>\n",
       "    </tr>\n",
       "  </thead>\n",
       "  <tbody>\n",
       "  </tbody>\n",
       "</table>\n",
       "</div>"
      ],
      "text/plain": [
       "Empty DataFrame\n",
       "Columns: [CareerString, CareerDateString_2022, min, max, count]\n",
       "Index: []"
      ]
     },
     "execution_count": 52,
     "metadata": {},
     "output_type": "execute_result"
    }
   ],
   "source": [
    "# for non-NaN max, are any (max,count) pairs not equal?\n",
    "mscheck[mscheck[\"max\"].notna() & mscheck.apply(lambda x: str(x[\"max\"]) != str(x[\"count\"]),axis=1)]"
   ]
  },
  {
   "cell_type": "code",
   "execution_count": 53,
   "id": "97d2e945",
   "metadata": {},
   "outputs": [
    {
     "data": {
      "text/plain": [
       "array(['1', '2', '3', '4', '5'], dtype=object)"
      ]
     },
     "execution_count": 53,
     "metadata": {},
     "output_type": "execute_result"
    }
   ],
   "source": [
    "careers.MultipleSubstrings.unique()"
   ]
  },
  {
   "cell_type": "markdown",
   "id": "7eae771a",
   "metadata": {},
   "source": [
    "# 5. check careers: OrgName when Position = 대사, Position is non-na"
   ]
  },
  {
   "cell_type": "code",
   "execution_count": 56,
   "id": "d9091833",
   "metadata": {},
   "outputs": [
    {
     "data": {
      "text/html": [
       "<div>\n",
       "<style scoped>\n",
       "    .dataframe tbody tr th:only-of-type {\n",
       "        vertical-align: middle;\n",
       "    }\n",
       "\n",
       "    .dataframe tbody tr th {\n",
       "        vertical-align: top;\n",
       "    }\n",
       "\n",
       "    .dataframe thead th {\n",
       "        text-align: right;\n",
       "    }\n",
       "</style>\n",
       "<table border=\"1\" class=\"dataframe\">\n",
       "  <thead>\n",
       "    <tr style=\"text-align: right;\">\n",
       "      <th></th>\n",
       "      <th>CareerString</th>\n",
       "      <th>CareerDateString_2022</th>\n",
       "      <th>IsJob</th>\n",
       "      <th>Edit_IsJob</th>\n",
       "      <th>MultipleSubstrings</th>\n",
       "      <th>CareerStartYear</th>\n",
       "      <th>CareerStartMonth</th>\n",
       "      <th>CareerSubstring</th>\n",
       "      <th>OrgString</th>\n",
       "      <th>PrimaryInstitution</th>\n",
       "      <th>OrgName</th>\n",
       "      <th>Edit_PI</th>\n",
       "      <th>Edit_OrgName</th>\n",
       "      <th>Position</th>\n",
       "      <th>Edit_Position</th>\n",
       "      <th>Add Orgtree</th>\n",
       "      <th>Notes</th>\n",
       "    </tr>\n",
       "  </thead>\n",
       "  <tbody>\n",
       "    <tr>\n",
       "      <th>3164</th>\n",
       "      <td>2007. 5 몰도바 주재 대사(겸임)</td>\n",
       "      <td>NaN</td>\n",
       "      <td>True</td>\n",
       "      <td>NaN</td>\n",
       "      <td>1</td>\n",
       "      <td>2007</td>\n",
       "      <td>5</td>\n",
       "      <td>NaN</td>\n",
       "      <td>몰도바 주재</td>\n",
       "      <td>내각</td>\n",
       "      <td>NaN</td>\n",
       "      <td>내각</td>\n",
       "      <td>NaN</td>\n",
       "      <td>대사</td>\n",
       "      <td>NaN</td>\n",
       "      <td>NaN</td>\n",
       "      <td>NaN</td>\n",
       "    </tr>\n",
       "    <tr>\n",
       "      <th>6140</th>\n",
       "      <td>룡성식료공장 지배인</td>\n",
       "      <td>2010.01</td>\n",
       "      <td>True</td>\n",
       "      <td>NaN</td>\n",
       "      <td>1</td>\n",
       "      <td>2010</td>\n",
       "      <td>1</td>\n",
       "      <td>NaN</td>\n",
       "      <td>룡성식료공장</td>\n",
       "      <td>용성식료공장</td>\n",
       "      <td>NaN</td>\n",
       "      <td>NaN</td>\n",
       "      <td>NaN</td>\n",
       "      <td>대사</td>\n",
       "      <td>NaN</td>\n",
       "      <td>NaN</td>\n",
       "      <td>NaN</td>\n",
       "    </tr>\n",
       "    <tr>\n",
       "      <th>6627</th>\n",
       "      <td>아일랜드 주재 대사</td>\n",
       "      <td>2004.02</td>\n",
       "      <td>True</td>\n",
       "      <td>NaN</td>\n",
       "      <td>1</td>\n",
       "      <td>2004</td>\n",
       "      <td>2</td>\n",
       "      <td>NaN</td>\n",
       "      <td>아일랜드 주재</td>\n",
       "      <td>내각</td>\n",
       "      <td>NaN</td>\n",
       "      <td>내각</td>\n",
       "      <td>NaN</td>\n",
       "      <td>대사</td>\n",
       "      <td>NaN</td>\n",
       "      <td>NaN</td>\n",
       "      <td>NaN</td>\n",
       "    </tr>\n",
       "    <tr>\n",
       "      <th>6629</th>\n",
       "      <td>아일랜드 주재 대사(겸임)</td>\n",
       "      <td>2007.07</td>\n",
       "      <td>True</td>\n",
       "      <td>NaN</td>\n",
       "      <td>1</td>\n",
       "      <td>2007</td>\n",
       "      <td>7</td>\n",
       "      <td>NaN</td>\n",
       "      <td>아일랜드 주재</td>\n",
       "      <td>내각</td>\n",
       "      <td>NaN</td>\n",
       "      <td>내각</td>\n",
       "      <td>NaN</td>\n",
       "      <td>대사</td>\n",
       "      <td>NaN</td>\n",
       "      <td>NaN</td>\n",
       "      <td>NaN</td>\n",
       "    </tr>\n",
       "    <tr>\n",
       "      <th>6630</th>\n",
       "      <td>아제르바이잔 주재 대사(겸임)</td>\n",
       "      <td>2018.08</td>\n",
       "      <td>True</td>\n",
       "      <td>NaN</td>\n",
       "      <td>1</td>\n",
       "      <td>2018</td>\n",
       "      <td>8</td>\n",
       "      <td>NaN</td>\n",
       "      <td>아제르바이잔 주재</td>\n",
       "      <td>내각</td>\n",
       "      <td>NaN</td>\n",
       "      <td>내각</td>\n",
       "      <td>NaN</td>\n",
       "      <td>대사</td>\n",
       "      <td>NaN</td>\n",
       "      <td>NaN</td>\n",
       "      <td>NaN</td>\n",
       "    </tr>\n",
       "    <tr>\n",
       "      <th>7243</th>\n",
       "      <td>자메이카 주재 대사</td>\n",
       "      <td>2013.03</td>\n",
       "      <td>True</td>\n",
       "      <td>NaN</td>\n",
       "      <td>1</td>\n",
       "      <td>2013</td>\n",
       "      <td>3</td>\n",
       "      <td>NaN</td>\n",
       "      <td>자메이카 주재</td>\n",
       "      <td>내각</td>\n",
       "      <td>NaN</td>\n",
       "      <td>내각</td>\n",
       "      <td>NaN</td>\n",
       "      <td>대사</td>\n",
       "      <td>NaN</td>\n",
       "      <td>NaN</td>\n",
       "      <td>NaN</td>\n",
       "    </tr>\n",
       "    <tr>\n",
       "      <th>8067</th>\n",
       "      <td>주 레바논 대사관 대사(겸임)</td>\n",
       "      <td>2008.12</td>\n",
       "      <td>True</td>\n",
       "      <td>NaN</td>\n",
       "      <td>1</td>\n",
       "      <td>2008</td>\n",
       "      <td>12</td>\n",
       "      <td>NaN</td>\n",
       "      <td>주 레바논 대사관</td>\n",
       "      <td>내각</td>\n",
       "      <td>NaN</td>\n",
       "      <td>내각</td>\n",
       "      <td>NaN</td>\n",
       "      <td>대사</td>\n",
       "      <td>NaN</td>\n",
       "      <td>NaN</td>\n",
       "      <td>NaN</td>\n",
       "    </tr>\n",
       "    <tr>\n",
       "      <th>8069</th>\n",
       "      <td>주 바레인 대사관 대사(겸임) * 후임 : 서창식</td>\n",
       "      <td>2006.06 ~ 2014.11</td>\n",
       "      <td>True</td>\n",
       "      <td>NaN</td>\n",
       "      <td>1</td>\n",
       "      <td>2006</td>\n",
       "      <td>6</td>\n",
       "      <td>NaN</td>\n",
       "      <td>주 바레인 대사관</td>\n",
       "      <td>내각</td>\n",
       "      <td>NaN</td>\n",
       "      <td>내각</td>\n",
       "      <td>NaN</td>\n",
       "      <td>대사</td>\n",
       "      <td>NaN</td>\n",
       "      <td>NaN</td>\n",
       "      <td>NaN</td>\n",
       "    </tr>\n",
       "    <tr>\n",
       "      <th>8071</th>\n",
       "      <td>주 부룬디 대사관 대사(겸임) *전임 : 박현재</td>\n",
       "      <td>2010.12</td>\n",
       "      <td>True</td>\n",
       "      <td>NaN</td>\n",
       "      <td>1</td>\n",
       "      <td>2010</td>\n",
       "      <td>12</td>\n",
       "      <td>NaN</td>\n",
       "      <td>주 부룬디 대사관</td>\n",
       "      <td>내각</td>\n",
       "      <td>NaN</td>\n",
       "      <td>내각</td>\n",
       "      <td>NaN</td>\n",
       "      <td>대사</td>\n",
       "      <td>NaN</td>\n",
       "      <td>NaN</td>\n",
       "      <td>NaN</td>\n",
       "    </tr>\n",
       "    <tr>\n",
       "      <th>8076</th>\n",
       "      <td>주 아랍에미레이트 대사관 대사(겸임)</td>\n",
       "      <td>2008.04</td>\n",
       "      <td>True</td>\n",
       "      <td>NaN</td>\n",
       "      <td>1</td>\n",
       "      <td>2008</td>\n",
       "      <td>4</td>\n",
       "      <td>NaN</td>\n",
       "      <td>주 아랍에미레이트 대사관</td>\n",
       "      <td>내각</td>\n",
       "      <td>NaN</td>\n",
       "      <td>내각</td>\n",
       "      <td>NaN</td>\n",
       "      <td>대사</td>\n",
       "      <td>NaN</td>\n",
       "      <td>NaN</td>\n",
       "      <td>NaN</td>\n",
       "    </tr>\n",
       "    <tr>\n",
       "      <th>8077</th>\n",
       "      <td>주 아이슬란드(이슬란드) 대사관 대사</td>\n",
       "      <td>1986.05</td>\n",
       "      <td>True</td>\n",
       "      <td>NaN</td>\n",
       "      <td>1</td>\n",
       "      <td>1986</td>\n",
       "      <td>5</td>\n",
       "      <td>NaN</td>\n",
       "      <td>주 아이슬란드 대사관</td>\n",
       "      <td>정무원</td>\n",
       "      <td>NaN</td>\n",
       "      <td>정무원</td>\n",
       "      <td>NaN</td>\n",
       "      <td>대사</td>\n",
       "      <td>NaN</td>\n",
       "      <td>NaN</td>\n",
       "      <td>NaN</td>\n",
       "    </tr>\n",
       "    <tr>\n",
       "      <th>8095</th>\n",
       "      <td>주 카타르 대사관 대사(겸임)</td>\n",
       "      <td>2006.02</td>\n",
       "      <td>True</td>\n",
       "      <td>NaN</td>\n",
       "      <td>1</td>\n",
       "      <td>2006</td>\n",
       "      <td>2</td>\n",
       "      <td>NaN</td>\n",
       "      <td>주 카타르 대사관</td>\n",
       "      <td>내각</td>\n",
       "      <td>NaN</td>\n",
       "      <td>내각</td>\n",
       "      <td>NaN</td>\n",
       "      <td>대사</td>\n",
       "      <td>NaN</td>\n",
       "      <td>NaN</td>\n",
       "      <td>NaN</td>\n",
       "    </tr>\n",
       "    <tr>\n",
       "      <th>8097</th>\n",
       "      <td>주 캐나다(카나다) 대사관 대사</td>\n",
       "      <td>2008.06</td>\n",
       "      <td>True</td>\n",
       "      <td>NaN</td>\n",
       "      <td>1</td>\n",
       "      <td>2008</td>\n",
       "      <td>6</td>\n",
       "      <td>NaN</td>\n",
       "      <td>주 캐나다 대사관</td>\n",
       "      <td>내각</td>\n",
       "      <td>NaN</td>\n",
       "      <td>내각</td>\n",
       "      <td>NaN</td>\n",
       "      <td>대사</td>\n",
       "      <td>NaN</td>\n",
       "      <td>NaN</td>\n",
       "      <td>NaN</td>\n",
       "    </tr>\n",
       "    <tr>\n",
       "      <th>8101</th>\n",
       "      <td>주 키프로스(끼쁘로스) 대사관 대사(겸임)</td>\n",
       "      <td>2004.02</td>\n",
       "      <td>True</td>\n",
       "      <td>NaN</td>\n",
       "      <td>1</td>\n",
       "      <td>2004</td>\n",
       "      <td>2</td>\n",
       "      <td>NaN</td>\n",
       "      <td>주 키프로스 대사관</td>\n",
       "      <td>내각</td>\n",
       "      <td>NaN</td>\n",
       "      <td>내각</td>\n",
       "      <td>NaN</td>\n",
       "      <td>대사</td>\n",
       "      <td>NaN</td>\n",
       "      <td>NaN</td>\n",
       "      <td>NaN</td>\n",
       "    </tr>\n",
       "    <tr>\n",
       "      <th>8657</th>\n",
       "      <td>카자흐스탄 주재 대사(겸임)</td>\n",
       "      <td>2006.09</td>\n",
       "      <td>True</td>\n",
       "      <td>NaN</td>\n",
       "      <td>1</td>\n",
       "      <td>2006</td>\n",
       "      <td>9</td>\n",
       "      <td>NaN</td>\n",
       "      <td>카자흐스탄 주재</td>\n",
       "      <td>내각</td>\n",
       "      <td>NaN</td>\n",
       "      <td>내각</td>\n",
       "      <td>NaN</td>\n",
       "      <td>대사</td>\n",
       "      <td>NaN</td>\n",
       "      <td>NaN</td>\n",
       "      <td>NaN</td>\n",
       "    </tr>\n",
       "    <tr>\n",
       "      <th>8658</th>\n",
       "      <td>카타르 주재 대사(겸임)</td>\n",
       "      <td>2002.01</td>\n",
       "      <td>True</td>\n",
       "      <td>NaN</td>\n",
       "      <td>1</td>\n",
       "      <td>2002</td>\n",
       "      <td>1</td>\n",
       "      <td>NaN</td>\n",
       "      <td>카타르 주재</td>\n",
       "      <td>내각</td>\n",
       "      <td>NaN</td>\n",
       "      <td>내각</td>\n",
       "      <td>NaN</td>\n",
       "      <td>대사</td>\n",
       "      <td>NaN</td>\n",
       "      <td>NaN</td>\n",
       "      <td>NaN</td>\n",
       "    </tr>\n",
       "    <tr>\n",
       "      <th>8663</th>\n",
       "      <td>캐나다 주재 대사(겸임)</td>\n",
       "      <td>2002.06</td>\n",
       "      <td>True</td>\n",
       "      <td>NaN</td>\n",
       "      <td>1</td>\n",
       "      <td>2002</td>\n",
       "      <td>6</td>\n",
       "      <td>NaN</td>\n",
       "      <td>캐나다 주재</td>\n",
       "      <td>내각</td>\n",
       "      <td>NaN</td>\n",
       "      <td>내각</td>\n",
       "      <td>NaN</td>\n",
       "      <td>대사</td>\n",
       "      <td>NaN</td>\n",
       "      <td>NaN</td>\n",
       "      <td>NaN</td>\n",
       "    </tr>\n",
       "    <tr>\n",
       "      <th>8664</th>\n",
       "      <td>케냐 주재 대사(겸임)</td>\n",
       "      <td>2012.04</td>\n",
       "      <td>True</td>\n",
       "      <td>NaN</td>\n",
       "      <td>1</td>\n",
       "      <td>2012</td>\n",
       "      <td>4</td>\n",
       "      <td>NaN</td>\n",
       "      <td>케냐 주재</td>\n",
       "      <td>내각</td>\n",
       "      <td>NaN</td>\n",
       "      <td>내각</td>\n",
       "      <td>NaN</td>\n",
       "      <td>대사</td>\n",
       "      <td>NaN</td>\n",
       "      <td>NaN</td>\n",
       "      <td>NaN</td>\n",
       "    </tr>\n",
       "    <tr>\n",
       "      <th>8673</th>\n",
       "      <td>타지키스탄 주재 대사(겸임)</td>\n",
       "      <td>2018.11</td>\n",
       "      <td>True</td>\n",
       "      <td>NaN</td>\n",
       "      <td>1</td>\n",
       "      <td>2018</td>\n",
       "      <td>11</td>\n",
       "      <td>NaN</td>\n",
       "      <td>타지키스탄 주재</td>\n",
       "      <td>내각</td>\n",
       "      <td>NaN</td>\n",
       "      <td>내각</td>\n",
       "      <td>NaN</td>\n",
       "      <td>대사</td>\n",
       "      <td>NaN</td>\n",
       "      <td>NaN</td>\n",
       "      <td>NaN</td>\n",
       "    </tr>\n",
       "    <tr>\n",
       "      <th>8679</th>\n",
       "      <td>투르크메니스탄 대사(겸임)</td>\n",
       "      <td>2008.06</td>\n",
       "      <td>True</td>\n",
       "      <td>NaN</td>\n",
       "      <td>1</td>\n",
       "      <td>2008</td>\n",
       "      <td>6</td>\n",
       "      <td>NaN</td>\n",
       "      <td>투르크메니스탄</td>\n",
       "      <td>내각</td>\n",
       "      <td>NaN</td>\n",
       "      <td>내각</td>\n",
       "      <td>NaN</td>\n",
       "      <td>대사</td>\n",
       "      <td>NaN</td>\n",
       "      <td>NaN</td>\n",
       "      <td>NaN</td>\n",
       "    </tr>\n",
       "    <tr>\n",
       "      <th>8680</th>\n",
       "      <td>투르크메니스탄 주재 대사(겸임)</td>\n",
       "      <td>2017.01</td>\n",
       "      <td>True</td>\n",
       "      <td>NaN</td>\n",
       "      <td>1</td>\n",
       "      <td>2017</td>\n",
       "      <td>1</td>\n",
       "      <td>NaN</td>\n",
       "      <td>투르크메니스탄 주재</td>\n",
       "      <td>내각</td>\n",
       "      <td>NaN</td>\n",
       "      <td>내각</td>\n",
       "      <td>NaN</td>\n",
       "      <td>대사</td>\n",
       "      <td>NaN</td>\n",
       "      <td>NaN</td>\n",
       "      <td>NaN</td>\n",
       "    </tr>\n",
       "    <tr>\n",
       "      <th>8681</th>\n",
       "      <td>트리니다드 토바고 주재 대사</td>\n",
       "      <td>2012.06</td>\n",
       "      <td>True</td>\n",
       "      <td>NaN</td>\n",
       "      <td>1</td>\n",
       "      <td>2012</td>\n",
       "      <td>6</td>\n",
       "      <td>NaN</td>\n",
       "      <td>트리니다드 토바고</td>\n",
       "      <td>내각</td>\n",
       "      <td>NaN</td>\n",
       "      <td>내각</td>\n",
       "      <td>NaN</td>\n",
       "      <td>대사</td>\n",
       "      <td>NaN</td>\n",
       "      <td>NaN</td>\n",
       "      <td>NaN</td>\n",
       "    </tr>\n",
       "  </tbody>\n",
       "</table>\n",
       "</div>"
      ],
      "text/plain": [
       "                     CareerString CareerDateString_2022 IsJob Edit_IsJob  \\\n",
       "3164        2007. 5 몰도바 주재 대사(겸임)                   NaN  True        NaN   \n",
       "6140                   룡성식료공장 지배인               2010.01  True        NaN   \n",
       "6627                   아일랜드 주재 대사               2004.02  True        NaN   \n",
       "6629               아일랜드 주재 대사(겸임)               2007.07  True        NaN   \n",
       "6630             아제르바이잔 주재 대사(겸임)               2018.08  True        NaN   \n",
       "7243                   자메이카 주재 대사               2013.03  True        NaN   \n",
       "8067             주 레바논 대사관 대사(겸임)               2008.12  True        NaN   \n",
       "8069  주 바레인 대사관 대사(겸임) * 후임 : 서창식     2006.06 ~ 2014.11  True        NaN   \n",
       "8071   주 부룬디 대사관 대사(겸임) *전임 : 박현재               2010.12  True        NaN   \n",
       "8076         주 아랍에미레이트 대사관 대사(겸임)               2008.04  True        NaN   \n",
       "8077         주 아이슬란드(이슬란드) 대사관 대사               1986.05  True        NaN   \n",
       "8095             주 카타르 대사관 대사(겸임)               2006.02  True        NaN   \n",
       "8097            주 캐나다(카나다) 대사관 대사               2008.06  True        NaN   \n",
       "8101      주 키프로스(끼쁘로스) 대사관 대사(겸임)               2004.02  True        NaN   \n",
       "8657              카자흐스탄 주재 대사(겸임)               2006.09  True        NaN   \n",
       "8658                카타르 주재 대사(겸임)               2002.01  True        NaN   \n",
       "8663                캐나다 주재 대사(겸임)               2002.06  True        NaN   \n",
       "8664                 케냐 주재 대사(겸임)               2012.04  True        NaN   \n",
       "8673              타지키스탄 주재 대사(겸임)               2018.11  True        NaN   \n",
       "8679               투르크메니스탄 대사(겸임)               2008.06  True        NaN   \n",
       "8680            투르크메니스탄 주재 대사(겸임)               2017.01  True        NaN   \n",
       "8681              트리니다드 토바고 주재 대사               2012.06  True        NaN   \n",
       "\n",
       "     MultipleSubstrings CareerStartYear CareerStartMonth CareerSubstring  \\\n",
       "3164                  1            2007                5             NaN   \n",
       "6140                  1            2010                1             NaN   \n",
       "6627                  1            2004                2             NaN   \n",
       "6629                  1            2007                7             NaN   \n",
       "6630                  1            2018                8             NaN   \n",
       "7243                  1            2013                3             NaN   \n",
       "8067                  1            2008               12             NaN   \n",
       "8069                  1            2006                6             NaN   \n",
       "8071                  1            2010               12             NaN   \n",
       "8076                  1            2008                4             NaN   \n",
       "8077                  1            1986                5             NaN   \n",
       "8095                  1            2006                2             NaN   \n",
       "8097                  1            2008                6             NaN   \n",
       "8101                  1            2004                2             NaN   \n",
       "8657                  1            2006                9             NaN   \n",
       "8658                  1            2002                1             NaN   \n",
       "8663                  1            2002                6             NaN   \n",
       "8664                  1            2012                4             NaN   \n",
       "8673                  1            2018               11             NaN   \n",
       "8679                  1            2008                6             NaN   \n",
       "8680                  1            2017                1             NaN   \n",
       "8681                  1            2012                6             NaN   \n",
       "\n",
       "          OrgString PrimaryInstitution OrgName Edit_PI Edit_OrgName Position  \\\n",
       "3164         몰도바 주재                 내각     NaN      내각          NaN       대사   \n",
       "6140        룡성식료공장              용성식료공장     NaN     NaN          NaN       대사   \n",
       "6627        아일랜드 주재                 내각     NaN      내각          NaN       대사   \n",
       "6629        아일랜드 주재                 내각     NaN      내각          NaN       대사   \n",
       "6630      아제르바이잔 주재                 내각     NaN      내각          NaN       대사   \n",
       "7243        자메이카 주재                 내각     NaN      내각          NaN       대사   \n",
       "8067      주 레바논 대사관                 내각     NaN      내각          NaN       대사   \n",
       "8069      주 바레인 대사관                 내각     NaN      내각          NaN       대사   \n",
       "8071      주 부룬디 대사관                 내각     NaN      내각          NaN       대사   \n",
       "8076  주 아랍에미레이트 대사관                 내각     NaN      내각          NaN       대사   \n",
       "8077    주 아이슬란드 대사관                정무원     NaN     정무원          NaN       대사   \n",
       "8095      주 카타르 대사관                 내각     NaN      내각          NaN       대사   \n",
       "8097      주 캐나다 대사관                 내각     NaN      내각          NaN       대사   \n",
       "8101     주 키프로스 대사관                 내각     NaN      내각          NaN       대사   \n",
       "8657       카자흐스탄 주재                 내각     NaN      내각          NaN       대사   \n",
       "8658         카타르 주재                 내각     NaN      내각          NaN       대사   \n",
       "8663         캐나다 주재                 내각     NaN      내각          NaN       대사   \n",
       "8664          케냐 주재                 내각     NaN      내각          NaN       대사   \n",
       "8673       타지키스탄 주재                 내각     NaN      내각          NaN       대사   \n",
       "8679        투르크메니스탄                 내각     NaN      내각          NaN       대사   \n",
       "8680     투르크메니스탄 주재                 내각     NaN      내각          NaN       대사   \n",
       "8681      트리니다드 토바고                 내각     NaN      내각          NaN       대사   \n",
       "\n",
       "     Edit_Position Add Orgtree Notes  \n",
       "3164           NaN         NaN   NaN  \n",
       "6140           NaN         NaN   NaN  \n",
       "6627           NaN         NaN   NaN  \n",
       "6629           NaN         NaN   NaN  \n",
       "6630           NaN         NaN   NaN  \n",
       "7243           NaN         NaN   NaN  \n",
       "8067           NaN         NaN   NaN  \n",
       "8069           NaN         NaN   NaN  \n",
       "8071           NaN         NaN   NaN  \n",
       "8076           NaN         NaN   NaN  \n",
       "8077           NaN         NaN   NaN  \n",
       "8095           NaN         NaN   NaN  \n",
       "8097           NaN         NaN   NaN  \n",
       "8101           NaN         NaN   NaN  \n",
       "8657           NaN         NaN   NaN  \n",
       "8658           NaN         NaN   NaN  \n",
       "8663           NaN         NaN   NaN  \n",
       "8664           NaN         NaN   NaN  \n",
       "8673           NaN         NaN   NaN  \n",
       "8679           NaN         NaN   NaN  \n",
       "8680           NaN         NaN   NaN  \n",
       "8681           NaN         NaN   NaN  "
      ]
     },
     "execution_count": 56,
     "metadata": {},
     "output_type": "execute_result"
    }
   ],
   "source": [
    "# check OrgName when Position = 대사\n",
    "careers[careers[\"IsJob\"].str.contains(\"True\") & careers[\"Position\"].str.contains(\"대사\") & careers[\"OrgName\"].isna()]"
   ]
  },
  {
   "cell_type": "code",
   "execution_count": 57,
   "id": "823e57a5",
   "metadata": {},
   "outputs": [],
   "source": [
    "ambassador = careers[careers[\"IsJob\"].str.contains(\"True\") & careers[\"Position\"].str.contains(\"대사\") & careers[\"OrgName\"].isna()]"
   ]
  },
  {
   "cell_type": "code",
   "execution_count": 59,
   "id": "873e62c7",
   "metadata": {},
   "outputs": [],
   "source": [
    "ambassador.to_excel(path_cleaning + subpath_2_6 + \"careers_3_jeongsu2.xlsx\",index=False)"
   ]
  },
  {
   "cell_type": "code",
   "execution_count": 62,
   "id": "5a54bb5a",
   "metadata": {},
   "outputs": [
    {
     "data": {
      "text/plain": [
       "(1873, 17)"
      ]
     },
     "execution_count": 62,
     "metadata": {},
     "output_type": "execute_result"
    }
   ],
   "source": [
    "# check OrgName when Position is notna\n",
    "# way too many cases to consider now\n",
    "careers[careers[\"IsJob\"].str.contains(\"True\") & careers[\"Position\"].notna() & careers[\"OrgName\"].isna()].shape"
   ]
  },
  {
   "cell_type": "markdown",
   "id": "7696981a",
   "metadata": {},
   "source": [
    "# 6. compare careers and orgtree: (PI, OrgName) all match?"
   ]
  },
  {
   "cell_type": "code",
   "execution_count": null,
   "id": "966f144f",
   "metadata": {},
   "outputs": [],
   "source": []
  },
  {
   "cell_type": "code",
   "execution_count": null,
   "id": "1c2f3e4f",
   "metadata": {},
   "outputs": [],
   "source": []
  }
 ],
 "metadata": {
  "kernelspec": {
   "display_name": "Python 3 (ipykernel)",
   "language": "python",
   "name": "python3"
  },
  "language_info": {
   "codemirror_mode": {
    "name": "ipython",
    "version": 3
   },
   "file_extension": ".py",
   "mimetype": "text/x-python",
   "name": "python",
   "nbconvert_exporter": "python",
   "pygments_lexer": "ipython3",
   "version": "3.11.0"
  }
 },
 "nbformat": 4,
 "nbformat_minor": 5
}
