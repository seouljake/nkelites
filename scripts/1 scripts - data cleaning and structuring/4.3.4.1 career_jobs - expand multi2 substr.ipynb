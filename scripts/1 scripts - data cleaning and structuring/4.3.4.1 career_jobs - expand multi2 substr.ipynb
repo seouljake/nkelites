{
 "cells": [
  {
   "cell_type": "markdown",
   "metadata": {},
   "source": [
    "# libraries & global vars"
   ]
  },
  {
   "cell_type": "code",
   "execution_count": 1,
   "metadata": {},
   "outputs": [],
   "source": [
    "import pandas as pd\n",
    "import numpy as np\n",
    "pd.set_option('display.max_rows', None)"
   ]
  },
  {
   "cell_type": "markdown",
   "metadata": {},
   "source": [
    "# io job_str"
   ]
  },
  {
   "cell_type": "code",
   "execution_count": 2,
   "metadata": {},
   "outputs": [],
   "source": [
    "path_job_str = \"C:/Users/seoul/Dropbox/00 technical/github/nkelites/data/combined data/combined data - 1 cleaning/cleaning step 4 - career/4.3.1 jobs/\""
   ]
  },
  {
   "cell_type": "code",
   "execution_count": 6,
   "metadata": {},
   "outputs": [],
   "source": [
    "filein_job_str = \"job_str_2_substr_multi2.xlsx\""
   ]
  },
  {
   "cell_type": "code",
   "execution_count": 7,
   "metadata": {},
   "outputs": [],
   "source": [
    "fileout_job_str = \"job_str_2_substr_multi2_expanded.xlsx\""
   ]
  },
  {
   "cell_type": "code",
   "execution_count": 24,
   "metadata": {},
   "outputs": [],
   "source": [
    "job_str = pd.read_excel(path_job_str+filein_job_str,dtype=\"str\")"
   ]
  },
  {
   "cell_type": "code",
   "execution_count": 25,
   "metadata": {},
   "outputs": [
    {
     "data": {
      "text/plain": [
       "(457, 9)"
      ]
     },
     "execution_count": 25,
     "metadata": {},
     "output_type": "execute_result"
    }
   ],
   "source": [
    "job_str.shape"
   ]
  },
  {
   "cell_type": "code",
   "execution_count": 26,
   "metadata": {},
   "outputs": [
    {
     "data": {
      "text/html": [
       "<div>\n",
       "<style scoped>\n",
       "    .dataframe tbody tr th:only-of-type {\n",
       "        vertical-align: middle;\n",
       "    }\n",
       "\n",
       "    .dataframe tbody tr th {\n",
       "        vertical-align: top;\n",
       "    }\n",
       "\n",
       "    .dataframe thead th {\n",
       "        text-align: right;\n",
       "    }\n",
       "</style>\n",
       "<table border=\"1\" class=\"dataframe\">\n",
       "  <thead>\n",
       "    <tr style=\"text-align: right;\">\n",
       "      <th></th>\n",
       "      <th>CareerStringID</th>\n",
       "      <th>MultipleSubstrings</th>\n",
       "      <th>NotJob</th>\n",
       "      <th>CareerString</th>\n",
       "      <th>CareerDateString_2022</th>\n",
       "      <th>CareerStartYear</th>\n",
       "      <th>CareerStartMonth</th>\n",
       "      <th>OrgString</th>\n",
       "      <th>PositionString</th>\n",
       "    </tr>\n",
       "  </thead>\n",
       "  <tbody>\n",
       "    <tr>\n",
       "      <th>0</th>\n",
       "      <td>111</td>\n",
       "      <td>2</td>\n",
       "      <td>NaN</td>\n",
       "      <td>1948. 7 인민군 대좌, 제10사단 25연대장</td>\n",
       "      <td>NaN</td>\n",
       "      <td>1948</td>\n",
       "      <td>7</td>\n",
       "      <td>인민군</td>\n",
       "      <td>대좌</td>\n",
       "    </tr>\n",
       "    <tr>\n",
       "      <th>1</th>\n",
       "      <td>136</td>\n",
       "      <td>2</td>\n",
       "      <td>NaN</td>\n",
       "      <td>1950.12 민족보위성 부상 겸 문화부 부장</td>\n",
       "      <td>NaN</td>\n",
       "      <td>1950</td>\n",
       "      <td>12</td>\n",
       "      <td>민족보위성</td>\n",
       "      <td>부상</td>\n",
       "    </tr>\n",
       "  </tbody>\n",
       "</table>\n",
       "</div>"
      ],
      "text/plain": [
       "  CareerStringID MultipleSubstrings NotJob                 CareerString  \\\n",
       "0            111                  2    NaN  1948. 7 인민군 대좌, 제10사단 25연대장   \n",
       "1            136                  2    NaN    1950.12 민족보위성 부상 겸 문화부 부장   \n",
       "\n",
       "  CareerDateString_2022 CareerStartYear CareerStartMonth OrgString  \\\n",
       "0                   NaN            1948                7       인민군   \n",
       "1                   NaN            1950               12     민족보위성   \n",
       "\n",
       "  PositionString  \n",
       "0             대좌  \n",
       "1             부상  "
      ]
     },
     "execution_count": 26,
     "metadata": {},
     "output_type": "execute_result"
    }
   ],
   "source": [
    "job_str[0:2]"
   ]
  },
  {
   "cell_type": "code",
   "execution_count": 27,
   "metadata": {},
   "outputs": [],
   "source": [
    "# job_str.drop(columns=[\"CareerSubstringID\"],inplace=True)"
   ]
  },
  {
   "cell_type": "markdown",
   "metadata": {},
   "source": [
    "# expand rows and recode CareerStringID"
   ]
  },
  {
   "cell_type": "code",
   "execution_count": 28,
   "metadata": {},
   "outputs": [
    {
     "data": {
      "text/plain": [
       "(457, 9)"
      ]
     },
     "execution_count": 28,
     "metadata": {},
     "output_type": "execute_result"
    }
   ],
   "source": [
    "t = job_str.copy()\n",
    "t.shape"
   ]
  },
  {
   "cell_type": "code",
   "execution_count": 29,
   "metadata": {},
   "outputs": [
    {
     "name": "stdout",
     "output_type": "stream",
     "text": [
      "1078\n"
     ]
    }
   ],
   "source": [
    "count = 0\n",
    "for index,row in t.iterrows():\n",
    "    count+=int(row[\"MultipleSubstrings\"])\n",
    "print(count)"
   ]
  },
  {
   "cell_type": "code",
   "execution_count": 30,
   "metadata": {},
   "outputs": [
    {
     "data": {
      "text/html": [
       "<div>\n",
       "<style scoped>\n",
       "    .dataframe tbody tr th:only-of-type {\n",
       "        vertical-align: middle;\n",
       "    }\n",
       "\n",
       "    .dataframe tbody tr th {\n",
       "        vertical-align: top;\n",
       "    }\n",
       "\n",
       "    .dataframe thead th {\n",
       "        text-align: right;\n",
       "    }\n",
       "</style>\n",
       "<table border=\"1\" class=\"dataframe\">\n",
       "  <thead>\n",
       "    <tr style=\"text-align: right;\">\n",
       "      <th></th>\n",
       "      <th>CareerStringID</th>\n",
       "      <th>MultipleSubstrings</th>\n",
       "      <th>NotJob</th>\n",
       "      <th>CareerString</th>\n",
       "      <th>CareerDateString_2022</th>\n",
       "      <th>CareerStartYear</th>\n",
       "      <th>CareerStartMonth</th>\n",
       "      <th>OrgString</th>\n",
       "      <th>PositionString</th>\n",
       "    </tr>\n",
       "  </thead>\n",
       "  <tbody>\n",
       "  </tbody>\n",
       "</table>\n",
       "</div>"
      ],
      "text/plain": [
       "Empty DataFrame\n",
       "Columns: [CareerStringID, MultipleSubstrings, NotJob, CareerString, CareerDateString_2022, CareerStartYear, CareerStartMonth, OrgString, PositionString]\n",
       "Index: []"
      ]
     },
     "execution_count": 30,
     "metadata": {},
     "output_type": "execute_result"
    }
   ],
   "source": [
    "t[t.MultipleSubstrings.isnull()]"
   ]
  },
  {
   "cell_type": "code",
   "execution_count": 31,
   "metadata": {},
   "outputs": [],
   "source": [
    "count = 0\n",
    "for index,row in t.iterrows():\n",
    "    \n",
    "    #count+=1\n",
    "    #print(index,int(row[\"MultipleSubstrings\"]))\n",
    "    row[\"OrgString\"] = np.nan\n",
    "    row[\"PositionString\"] = np.nan\n",
    "\n",
    "    for cind in range(2,int(row[\"MultipleSubstrings\"])+1):\n",
    "        count+=1\n",
    "        nrow = row.copy()\n",
    "        nrow[\"CareerStringID\"] = float(nrow[\"CareerStringID\"]+\".\"+str(cind))\n",
    "        t = t.append(nrow,ignore_index=True)\n",
    "        # print(count,t.shape)\n",
    "        \n",
    "    t.loc[index,[\"CareerStringID\"]] = float(row[\"CareerStringID\"]+\".1\")\n",
    "    t.loc[index,[\"OrgString\"]] = np.nan\n",
    "    t.loc[index,[\"PositionString\"]] = np.nan    \n"
   ]
  },
  {
   "cell_type": "code",
   "execution_count": 32,
   "metadata": {},
   "outputs": [
    {
     "data": {
      "text/plain": [
       "(1078, 9)"
      ]
     },
     "execution_count": 32,
     "metadata": {},
     "output_type": "execute_result"
    }
   ],
   "source": [
    "t.shape"
   ]
  },
  {
   "cell_type": "code",
   "execution_count": 33,
   "metadata": {},
   "outputs": [],
   "source": [
    "t.sort_values(\"CareerStringID\",inplace=True,ignore_index=True)"
   ]
  },
  {
   "cell_type": "code",
   "execution_count": 35,
   "metadata": {},
   "outputs": [
    {
     "data": {
      "text/html": [
       "<div>\n",
       "<style scoped>\n",
       "    .dataframe tbody tr th:only-of-type {\n",
       "        vertical-align: middle;\n",
       "    }\n",
       "\n",
       "    .dataframe tbody tr th {\n",
       "        vertical-align: top;\n",
       "    }\n",
       "\n",
       "    .dataframe thead th {\n",
       "        text-align: right;\n",
       "    }\n",
       "</style>\n",
       "<table border=\"1\" class=\"dataframe\">\n",
       "  <thead>\n",
       "    <tr style=\"text-align: right;\">\n",
       "      <th></th>\n",
       "      <th>CareerStringID</th>\n",
       "      <th>MultipleSubstrings</th>\n",
       "      <th>NotJob</th>\n",
       "      <th>CareerString</th>\n",
       "      <th>CareerDateString_2022</th>\n",
       "      <th>CareerStartYear</th>\n",
       "      <th>CareerStartMonth</th>\n",
       "      <th>OrgString</th>\n",
       "      <th>PositionString</th>\n",
       "    </tr>\n",
       "  </thead>\n",
       "  <tbody>\n",
       "    <tr>\n",
       "      <th>190</th>\n",
       "      <td>2028.1</td>\n",
       "      <td>2</td>\n",
       "      <td>1</td>\n",
       "      <td>2000. 4 인민보안상 2003. 7 인민보안상 해임 *후임 : 최용수</td>\n",
       "      <td>NaN</td>\n",
       "      <td>2000</td>\n",
       "      <td>4</td>\n",
       "      <td>NaN</td>\n",
       "      <td>NaN</td>\n",
       "    </tr>\n",
       "    <tr>\n",
       "      <th>191</th>\n",
       "      <td>2028.2</td>\n",
       "      <td>2</td>\n",
       "      <td>1</td>\n",
       "      <td>2000. 4 인민보안상 2003. 7 인민보안상 해임 *후임 : 최용수</td>\n",
       "      <td>NaN</td>\n",
       "      <td>2000</td>\n",
       "      <td>4</td>\n",
       "      <td>NaN</td>\n",
       "      <td>NaN</td>\n",
       "    </tr>\n",
       "    <tr>\n",
       "      <th>231</th>\n",
       "      <td>3067.1</td>\n",
       "      <td>1</td>\n",
       "      <td>1</td>\n",
       "      <td>2010. 6 내각 총리 해임 *후임 : 최영림</td>\n",
       "      <td>NaN</td>\n",
       "      <td>2010</td>\n",
       "      <td>6</td>\n",
       "      <td>NaN</td>\n",
       "      <td>NaN</td>\n",
       "    </tr>\n",
       "    <tr>\n",
       "      <th>236</th>\n",
       "      <td>3107.1</td>\n",
       "      <td>1</td>\n",
       "      <td>1</td>\n",
       "      <td>2010. 9 강원도 인민위원회 위원장 해임  *후임 : 원도희</td>\n",
       "      <td>NaN</td>\n",
       "      <td>2010</td>\n",
       "      <td>9</td>\n",
       "      <td>NaN</td>\n",
       "      <td>NaN</td>\n",
       "    </tr>\n",
       "    <tr>\n",
       "      <th>440</th>\n",
       "      <td>4133.1</td>\n",
       "      <td>1</td>\n",
       "      <td>1</td>\n",
       "      <td>군 총정치국장 해임 * 후임: 황병서</td>\n",
       "      <td>2014.04</td>\n",
       "      <td>2014</td>\n",
       "      <td>4</td>\n",
       "      <td>NaN</td>\n",
       "      <td>NaN</td>\n",
       "    </tr>\n",
       "    <tr>\n",
       "      <th>457</th>\n",
       "      <td>4251.1</td>\n",
       "      <td>3</td>\n",
       "      <td>1</td>\n",
       "      <td>김일성군사종합대학, 만경대혁명학원, 소련 푸룬제아카데미 졸업</td>\n",
       "      <td>연도미상</td>\n",
       "      <td>NaN</td>\n",
       "      <td>NaN</td>\n",
       "      <td>NaN</td>\n",
       "      <td>NaN</td>\n",
       "    </tr>\n",
       "    <tr>\n",
       "      <th>458</th>\n",
       "      <td>4251.2</td>\n",
       "      <td>3</td>\n",
       "      <td>1</td>\n",
       "      <td>김일성군사종합대학, 만경대혁명학원, 소련 푸룬제아카데미 졸업</td>\n",
       "      <td>연도미상</td>\n",
       "      <td>NaN</td>\n",
       "      <td>NaN</td>\n",
       "      <td>NaN</td>\n",
       "      <td>NaN</td>\n",
       "    </tr>\n",
       "    <tr>\n",
       "      <th>459</th>\n",
       "      <td>4251.3</td>\n",
       "      <td>3</td>\n",
       "      <td>1</td>\n",
       "      <td>김일성군사종합대학, 만경대혁명학원, 소련 푸룬제아카데미 졸업</td>\n",
       "      <td>연도미상</td>\n",
       "      <td>NaN</td>\n",
       "      <td>NaN</td>\n",
       "      <td>NaN</td>\n",
       "      <td>NaN</td>\n",
       "    </tr>\n",
       "    <tr>\n",
       "      <th>460</th>\n",
       "      <td>4252.1</td>\n",
       "      <td>2</td>\n",
       "      <td>1</td>\n",
       "      <td>김일성군사종합대학, 소련 프룬제군사대학 졸업</td>\n",
       "      <td>연도미상</td>\n",
       "      <td>NaN</td>\n",
       "      <td>NaN</td>\n",
       "      <td>NaN</td>\n",
       "      <td>NaN</td>\n",
       "    </tr>\n",
       "    <tr>\n",
       "      <th>461</th>\n",
       "      <td>4252.2</td>\n",
       "      <td>2</td>\n",
       "      <td>1</td>\n",
       "      <td>김일성군사종합대학, 소련 프룬제군사대학 졸업</td>\n",
       "      <td>연도미상</td>\n",
       "      <td>NaN</td>\n",
       "      <td>NaN</td>\n",
       "      <td>NaN</td>\n",
       "      <td>NaN</td>\n",
       "    </tr>\n",
       "    <tr>\n",
       "      <th>462</th>\n",
       "      <td>4257.1</td>\n",
       "      <td>2</td>\n",
       "      <td>1</td>\n",
       "      <td>김일성사범대학 졸업, 불교학원 졸업</td>\n",
       "      <td>연도미상</td>\n",
       "      <td>NaN</td>\n",
       "      <td>NaN</td>\n",
       "      <td>NaN</td>\n",
       "      <td>NaN</td>\n",
       "    </tr>\n",
       "    <tr>\n",
       "      <th>463</th>\n",
       "      <td>4257.2</td>\n",
       "      <td>2</td>\n",
       "      <td>1</td>\n",
       "      <td>김일성사범대학 졸업, 불교학원 졸업</td>\n",
       "      <td>연도미상</td>\n",
       "      <td>NaN</td>\n",
       "      <td>NaN</td>\n",
       "      <td>NaN</td>\n",
       "      <td>NaN</td>\n",
       "    </tr>\n",
       "    <tr>\n",
       "      <th>874</th>\n",
       "      <td>5659.1</td>\n",
       "      <td>2</td>\n",
       "      <td>1</td>\n",
       "      <td>삼석인민학교, 평양제4인민학교</td>\n",
       "      <td>1953 ~ 1954</td>\n",
       "      <td>1953</td>\n",
       "      <td>NaN</td>\n",
       "      <td>NaN</td>\n",
       "      <td>NaN</td>\n",
       "    </tr>\n",
       "    <tr>\n",
       "      <th>875</th>\n",
       "      <td>5659.2</td>\n",
       "      <td>2</td>\n",
       "      <td>1</td>\n",
       "      <td>삼석인민학교, 평양제4인민학교</td>\n",
       "      <td>1953 ~ 1954</td>\n",
       "      <td>1953</td>\n",
       "      <td>NaN</td>\n",
       "      <td>NaN</td>\n",
       "      <td>NaN</td>\n",
       "    </tr>\n",
       "    <tr>\n",
       "      <th>880</th>\n",
       "      <td>5854.1</td>\n",
       "      <td>2</td>\n",
       "      <td>1</td>\n",
       "      <td>연도미상  인민군 입대, 공군 비행사</td>\n",
       "      <td>NaN</td>\n",
       "      <td>NaN</td>\n",
       "      <td>NaN</td>\n",
       "      <td>NaN</td>\n",
       "      <td>NaN</td>\n",
       "    </tr>\n",
       "    <tr>\n",
       "      <th>881</th>\n",
       "      <td>5854.2</td>\n",
       "      <td>2</td>\n",
       "      <td>1</td>\n",
       "      <td>연도미상  인민군 입대, 공군 비행사</td>\n",
       "      <td>NaN</td>\n",
       "      <td>NaN</td>\n",
       "      <td>NaN</td>\n",
       "      <td>NaN</td>\n",
       "      <td>NaN</td>\n",
       "    </tr>\n",
       "  </tbody>\n",
       "</table>\n",
       "</div>"
      ],
      "text/plain": [
       "    CareerStringID MultipleSubstrings NotJob  \\\n",
       "190         2028.1                  2      1   \n",
       "191         2028.2                  2      1   \n",
       "231         3067.1                  1      1   \n",
       "236         3107.1                  1      1   \n",
       "440         4133.1                  1      1   \n",
       "457         4251.1                  3      1   \n",
       "458         4251.2                  3      1   \n",
       "459         4251.3                  3      1   \n",
       "460         4252.1                  2      1   \n",
       "461         4252.2                  2      1   \n",
       "462         4257.1                  2      1   \n",
       "463         4257.2                  2      1   \n",
       "874         5659.1                  2      1   \n",
       "875         5659.2                  2      1   \n",
       "880         5854.1                  2      1   \n",
       "881         5854.2                  2      1   \n",
       "\n",
       "                                 CareerString CareerDateString_2022  \\\n",
       "190  2000. 4 인민보안상 2003. 7 인민보안상 해임 *후임 : 최용수                   NaN   \n",
       "191  2000. 4 인민보안상 2003. 7 인민보안상 해임 *후임 : 최용수                   NaN   \n",
       "231                2010. 6 내각 총리 해임 *후임 : 최영림                   NaN   \n",
       "236       2010. 9 강원도 인민위원회 위원장 해임  *후임 : 원도희                   NaN   \n",
       "440                      군 총정치국장 해임 * 후임: 황병서               2014.04   \n",
       "457         김일성군사종합대학, 만경대혁명학원, 소련 푸룬제아카데미 졸업                  연도미상   \n",
       "458         김일성군사종합대학, 만경대혁명학원, 소련 푸룬제아카데미 졸업                  연도미상   \n",
       "459         김일성군사종합대학, 만경대혁명학원, 소련 푸룬제아카데미 졸업                  연도미상   \n",
       "460                  김일성군사종합대학, 소련 프룬제군사대학 졸업                  연도미상   \n",
       "461                  김일성군사종합대학, 소련 프룬제군사대학 졸업                  연도미상   \n",
       "462                       김일성사범대학 졸업, 불교학원 졸업                  연도미상   \n",
       "463                       김일성사범대학 졸업, 불교학원 졸업                  연도미상   \n",
       "874                          삼석인민학교, 평양제4인민학교           1953 ~ 1954   \n",
       "875                          삼석인민학교, 평양제4인민학교           1953 ~ 1954   \n",
       "880                      연도미상  인민군 입대, 공군 비행사                   NaN   \n",
       "881                      연도미상  인민군 입대, 공군 비행사                   NaN   \n",
       "\n",
       "    CareerStartYear CareerStartMonth OrgString PositionString  \n",
       "190            2000                4       NaN            NaN  \n",
       "191            2000                4       NaN            NaN  \n",
       "231            2010                6       NaN            NaN  \n",
       "236            2010                9       NaN            NaN  \n",
       "440            2014                4       NaN            NaN  \n",
       "457             NaN              NaN       NaN            NaN  \n",
       "458             NaN              NaN       NaN            NaN  \n",
       "459             NaN              NaN       NaN            NaN  \n",
       "460             NaN              NaN       NaN            NaN  \n",
       "461             NaN              NaN       NaN            NaN  \n",
       "462             NaN              NaN       NaN            NaN  \n",
       "463             NaN              NaN       NaN            NaN  \n",
       "874            1953              NaN       NaN            NaN  \n",
       "875            1953              NaN       NaN            NaN  \n",
       "880             NaN              NaN       NaN            NaN  \n",
       "881             NaN              NaN       NaN            NaN  "
      ]
     },
     "execution_count": 35,
     "metadata": {},
     "output_type": "execute_result"
    }
   ],
   "source": [
    "t[~t.NotJob.isna()]"
   ]
  },
  {
   "cell_type": "markdown",
   "metadata": {},
   "source": [
    "# export multiple career strings"
   ]
  },
  {
   "cell_type": "code",
   "execution_count": 36,
   "metadata": {},
   "outputs": [],
   "source": [
    "t.to_excel(path_job_str+fileout_job_str,index=False,encoding=\"utf-8\")"
   ]
  },
  {
   "cell_type": "code",
   "execution_count": null,
   "metadata": {},
   "outputs": [],
   "source": []
  }
 ],
 "metadata": {
  "kernelspec": {
   "display_name": "Python 3",
   "language": "python",
   "name": "python3"
  },
  "language_info": {
   "codemirror_mode": {
    "name": "ipython",
    "version": 3
   },
   "file_extension": ".py",
   "mimetype": "text/x-python",
   "name": "python",
   "nbconvert_exporter": "python",
   "pygments_lexer": "ipython3",
   "version": "3.7.3"
  }
 },
 "nbformat": 4,
 "nbformat_minor": 4
}
