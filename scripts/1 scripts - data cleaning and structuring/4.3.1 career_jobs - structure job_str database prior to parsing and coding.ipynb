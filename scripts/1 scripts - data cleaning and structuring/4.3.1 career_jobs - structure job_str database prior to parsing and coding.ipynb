{
 "cells": [
  {
   "cell_type": "markdown",
   "metadata": {},
   "source": [
    "# libraries & global vars"
   ]
  },
  {
   "cell_type": "code",
   "execution_count": 1,
   "metadata": {},
   "outputs": [],
   "source": [
    "import pandas as pd\n",
    "import numpy as np\n",
    "pd.set_option('display.max_rows', None)"
   ]
  },
  {
   "cell_type": "markdown",
   "metadata": {},
   "source": [
    "# io for job_str"
   ]
  },
  {
   "cell_type": "code",
   "execution_count": 2,
   "metadata": {},
   "outputs": [],
   "source": [
    "path_career_divided = \"C:/Users/seoul/Dropbox/00 technical/github/nkelites/data/combined data/combined data - 1 cleaning/cleaning step 4 - career/4.2 career_divided_unparsed_uncoded/\"\n",
    "path_jobs = \"C:/Users/seoul/Dropbox/00 technical/github/nkelites/data/combined data/combined data - 1 cleaning/cleaning step 4 - career/4.3.1 jobs/\""
   ]
  },
  {
   "cell_type": "code",
   "execution_count": 3,
   "metadata": {},
   "outputs": [],
   "source": [
    "filein_job_str = \"career_jobs_unparsed_uncoded.xlsx\"\n",
    "fileout_job_str = \"job_str_0_empty.xlsx\""
   ]
  },
  {
   "cell_type": "markdown",
   "metadata": {},
   "source": [
    "# import career_str"
   ]
  },
  {
   "cell_type": "code",
   "execution_count": 4,
   "metadata": {},
   "outputs": [],
   "source": [
    "job_str = pd.read_excel(path_career_divided+filein_job_str,dtype=\"str\")"
   ]
  },
  {
   "cell_type": "code",
   "execution_count": 5,
   "metadata": {},
   "outputs": [
    {
     "data": {
      "text/plain": [
       "(7590, 3)"
      ]
     },
     "execution_count": 5,
     "metadata": {},
     "output_type": "execute_result"
    }
   ],
   "source": [
    "job_str.shape"
   ]
  },
  {
   "cell_type": "code",
   "execution_count": 6,
   "metadata": {},
   "outputs": [
    {
     "data": {
      "text/html": [
       "<div>\n",
       "<style scoped>\n",
       "    .dataframe tbody tr th:only-of-type {\n",
       "        vertical-align: middle;\n",
       "    }\n",
       "\n",
       "    .dataframe tbody tr th {\n",
       "        vertical-align: top;\n",
       "    }\n",
       "\n",
       "    .dataframe thead th {\n",
       "        text-align: right;\n",
       "    }\n",
       "</style>\n",
       "<table border=\"1\" class=\"dataframe\">\n",
       "  <thead>\n",
       "    <tr style=\"text-align: right;\">\n",
       "      <th></th>\n",
       "      <th>CareerString</th>\n",
       "      <th>CareerDateString_2022</th>\n",
       "      <th>CareerStringID</th>\n",
       "    </tr>\n",
       "  </thead>\n",
       "  <tbody>\n",
       "    <tr>\n",
       "      <th>0</th>\n",
       "      <td>개성공단 남북공동위원회 통행통신통관 분과위원회</td>\n",
       "      <td>2013.09 ~ 2014.01</td>\n",
       "      <td>1</td>\n",
       "    </tr>\n",
       "    <tr>\n",
       "      <th>1</th>\n",
       "      <td>근로단체부장 해임 * 후임: 리일환</td>\n",
       "      <td>2014</td>\n",
       "      <td>2</td>\n",
       "    </tr>\n",
       "    <tr>\n",
       "      <th>2</th>\n",
       "      <td>노동성 상(유임)</td>\n",
       "      <td>1999.02</td>\n",
       "      <td>4</td>\n",
       "    </tr>\n",
       "    <tr>\n",
       "      <th>3</th>\n",
       "      <td>당 정치국 후보위원</td>\n",
       "      <td>2020.01</td>\n",
       "      <td>6</td>\n",
       "    </tr>\n",
       "    <tr>\n",
       "      <th>4</th>\n",
       "      <td>당 중앙위원회 정치국 위원 (*당 중앙위원회 제7기 제4차 전원회의에서 보선)</td>\n",
       "      <td>2019.04</td>\n",
       "      <td>7</td>\n",
       "    </tr>\n",
       "  </tbody>\n",
       "</table>\n",
       "</div>"
      ],
      "text/plain": [
       "                                     CareerString CareerDateString_2022  \\\n",
       "0                       개성공단 남북공동위원회 통행통신통관 분과위원회     2013.09 ~ 2014.01   \n",
       "1                             근로단체부장 해임 * 후임: 리일환                  2014   \n",
       "2                                       노동성 상(유임)               1999.02   \n",
       "3                                      당 정치국 후보위원               2020.01   \n",
       "4   당 중앙위원회 정치국 위원 (*당 중앙위원회 제7기 제4차 전원회의에서 보선)                 2019.04   \n",
       "\n",
       "  CareerStringID  \n",
       "0              1  \n",
       "1              2  \n",
       "2              4  \n",
       "3              6  \n",
       "4              7  "
      ]
     },
     "execution_count": 6,
     "metadata": {},
     "output_type": "execute_result"
    }
   ],
   "source": [
    "job_str[0:5]"
   ]
  },
  {
   "cell_type": "markdown",
   "metadata": {},
   "source": [
    "# add fields to job_str for parsing & coding"
   ]
  },
  {
   "cell_type": "code",
   "execution_count": 7,
   "metadata": {},
   "outputs": [],
   "source": [
    "job_str = job_str[[\"CareerStringID\",\"CareerString\",\"CareerDateString_2022\"]]"
   ]
  },
  {
   "cell_type": "code",
   "execution_count": 8,
   "metadata": {},
   "outputs": [],
   "source": [
    "# Parse Date from CareerString (presuming each string only has one date - otherwise, parse separate date for each substring)\n",
    "job_str[\"CareerStartYear\"] = np.nan\n",
    "job_str[\"CareerStartMonth\"] = np.nan\n",
    "\n",
    "\n",
    "# Does CareerString contain more than one appointment? T/F\n",
    "job_str[\"MultipleSubstrings\"] = np.nan"
   ]
  },
  {
   "cell_type": "code",
   "execution_count": 9,
   "metadata": {},
   "outputs": [],
   "source": [
    "# If there are MultipleSubstrings, parse each substring (and assign it an ID - automatically, not manually)\n",
    "job_str[\"CareerSubstringID\"] = job_str[\"CareerStringID\"]\n",
    "job_str[\"CareerSubstring\"] = np.nan"
   ]
  },
  {
   "cell_type": "code",
   "execution_count": 10,
   "metadata": {},
   "outputs": [],
   "source": [
    "# Parse OrgString and PositionString from CareerSubstring  \n",
    "job_str[\"OrgString\"] = np.nan\n",
    "job_str[\"PositionString\"] = np.nan"
   ]
  },
  {
   "cell_type": "code",
   "execution_count": 11,
   "metadata": {},
   "outputs": [],
   "source": [
    "# Code and add OrgID, OrgName, PositionID, PositionName to each CareerSubstring\n",
    "job_str[\"OrgID\"] = np.nan\n",
    "job_str[\"OrgName\"] = np.nan\n",
    "job_str[\"PositionID\"] = np.nan\n",
    "job_str[\"PositionName\"] = np.nan"
   ]
  },
  {
   "cell_type": "code",
   "execution_count": 12,
   "metadata": {},
   "outputs": [
    {
     "data": {
      "text/html": [
       "<div>\n",
       "<style scoped>\n",
       "    .dataframe tbody tr th:only-of-type {\n",
       "        vertical-align: middle;\n",
       "    }\n",
       "\n",
       "    .dataframe tbody tr th {\n",
       "        vertical-align: top;\n",
       "    }\n",
       "\n",
       "    .dataframe thead th {\n",
       "        text-align: right;\n",
       "    }\n",
       "</style>\n",
       "<table border=\"1\" class=\"dataframe\">\n",
       "  <thead>\n",
       "    <tr style=\"text-align: right;\">\n",
       "      <th></th>\n",
       "      <th>CareerStringID</th>\n",
       "      <th>CareerString</th>\n",
       "      <th>CareerDateString_2022</th>\n",
       "      <th>CareerStartYear</th>\n",
       "      <th>CareerStartMonth</th>\n",
       "      <th>MultipleSubstrings</th>\n",
       "      <th>CareerSubstringID</th>\n",
       "      <th>CareerSubstring</th>\n",
       "      <th>OrgString</th>\n",
       "      <th>PositionString</th>\n",
       "      <th>OrgID</th>\n",
       "      <th>OrgName</th>\n",
       "      <th>PositionID</th>\n",
       "      <th>PositionName</th>\n",
       "    </tr>\n",
       "  </thead>\n",
       "  <tbody>\n",
       "    <tr>\n",
       "      <th>0</th>\n",
       "      <td>1</td>\n",
       "      <td>개성공단 남북공동위원회 통행통신통관 분과위원회</td>\n",
       "      <td>2013.09 ~ 2014.01</td>\n",
       "      <td>NaN</td>\n",
       "      <td>NaN</td>\n",
       "      <td>NaN</td>\n",
       "      <td>1</td>\n",
       "      <td>NaN</td>\n",
       "      <td>NaN</td>\n",
       "      <td>NaN</td>\n",
       "      <td>NaN</td>\n",
       "      <td>NaN</td>\n",
       "      <td>NaN</td>\n",
       "      <td>NaN</td>\n",
       "    </tr>\n",
       "    <tr>\n",
       "      <th>1</th>\n",
       "      <td>2</td>\n",
       "      <td>근로단체부장 해임 * 후임: 리일환</td>\n",
       "      <td>2014</td>\n",
       "      <td>NaN</td>\n",
       "      <td>NaN</td>\n",
       "      <td>NaN</td>\n",
       "      <td>2</td>\n",
       "      <td>NaN</td>\n",
       "      <td>NaN</td>\n",
       "      <td>NaN</td>\n",
       "      <td>NaN</td>\n",
       "      <td>NaN</td>\n",
       "      <td>NaN</td>\n",
       "      <td>NaN</td>\n",
       "    </tr>\n",
       "    <tr>\n",
       "      <th>2</th>\n",
       "      <td>4</td>\n",
       "      <td>노동성 상(유임)</td>\n",
       "      <td>1999.02</td>\n",
       "      <td>NaN</td>\n",
       "      <td>NaN</td>\n",
       "      <td>NaN</td>\n",
       "      <td>4</td>\n",
       "      <td>NaN</td>\n",
       "      <td>NaN</td>\n",
       "      <td>NaN</td>\n",
       "      <td>NaN</td>\n",
       "      <td>NaN</td>\n",
       "      <td>NaN</td>\n",
       "      <td>NaN</td>\n",
       "    </tr>\n",
       "    <tr>\n",
       "      <th>3</th>\n",
       "      <td>6</td>\n",
       "      <td>당 정치국 후보위원</td>\n",
       "      <td>2020.01</td>\n",
       "      <td>NaN</td>\n",
       "      <td>NaN</td>\n",
       "      <td>NaN</td>\n",
       "      <td>6</td>\n",
       "      <td>NaN</td>\n",
       "      <td>NaN</td>\n",
       "      <td>NaN</td>\n",
       "      <td>NaN</td>\n",
       "      <td>NaN</td>\n",
       "      <td>NaN</td>\n",
       "      <td>NaN</td>\n",
       "    </tr>\n",
       "    <tr>\n",
       "      <th>4</th>\n",
       "      <td>7</td>\n",
       "      <td>당 중앙위원회 정치국 위원 (*당 중앙위원회 제7기 제4차 전원회의에서 보선)</td>\n",
       "      <td>2019.04</td>\n",
       "      <td>NaN</td>\n",
       "      <td>NaN</td>\n",
       "      <td>NaN</td>\n",
       "      <td>7</td>\n",
       "      <td>NaN</td>\n",
       "      <td>NaN</td>\n",
       "      <td>NaN</td>\n",
       "      <td>NaN</td>\n",
       "      <td>NaN</td>\n",
       "      <td>NaN</td>\n",
       "      <td>NaN</td>\n",
       "    </tr>\n",
       "  </tbody>\n",
       "</table>\n",
       "</div>"
      ],
      "text/plain": [
       "  CareerStringID                                    CareerString  \\\n",
       "0              1                       개성공단 남북공동위원회 통행통신통관 분과위원회   \n",
       "1              2                             근로단체부장 해임 * 후임: 리일환   \n",
       "2              4                                       노동성 상(유임)   \n",
       "3              6                                      당 정치국 후보위원   \n",
       "4              7   당 중앙위원회 정치국 위원 (*당 중앙위원회 제7기 제4차 전원회의에서 보선)     \n",
       "\n",
       "  CareerDateString_2022  CareerStartYear  CareerStartMonth  \\\n",
       "0     2013.09 ~ 2014.01              NaN               NaN   \n",
       "1                  2014              NaN               NaN   \n",
       "2               1999.02              NaN               NaN   \n",
       "3               2020.01              NaN               NaN   \n",
       "4               2019.04              NaN               NaN   \n",
       "\n",
       "   MultipleSubstrings CareerSubstringID  CareerSubstring  OrgString  \\\n",
       "0                 NaN                 1              NaN        NaN   \n",
       "1                 NaN                 2              NaN        NaN   \n",
       "2                 NaN                 4              NaN        NaN   \n",
       "3                 NaN                 6              NaN        NaN   \n",
       "4                 NaN                 7              NaN        NaN   \n",
       "\n",
       "   PositionString  OrgID  OrgName  PositionID  PositionName  \n",
       "0             NaN    NaN      NaN         NaN           NaN  \n",
       "1             NaN    NaN      NaN         NaN           NaN  \n",
       "2             NaN    NaN      NaN         NaN           NaN  \n",
       "3             NaN    NaN      NaN         NaN           NaN  \n",
       "4             NaN    NaN      NaN         NaN           NaN  "
      ]
     },
     "execution_count": 12,
     "metadata": {},
     "output_type": "execute_result"
    }
   ],
   "source": [
    "job_str[0:5]"
   ]
  },
  {
   "cell_type": "markdown",
   "metadata": {},
   "source": [
    "# output job_str db, now ready to parse & code"
   ]
  },
  {
   "cell_type": "code",
   "execution_count": 13,
   "metadata": {},
   "outputs": [],
   "source": [
    "job_str.to_excel(path_jobs+fileout_job_str,index=False,encoding=\"utf-8\")"
   ]
  },
  {
   "cell_type": "code",
   "execution_count": null,
   "metadata": {},
   "outputs": [],
   "source": []
  }
 ],
 "metadata": {
  "kernelspec": {
   "display_name": "Python 3",
   "language": "python",
   "name": "python3"
  },
  "language_info": {
   "codemirror_mode": {
    "name": "ipython",
    "version": 3
   },
   "file_extension": ".py",
   "mimetype": "text/x-python",
   "name": "python",
   "nbconvert_exporter": "python",
   "pygments_lexer": "ipython3",
   "version": "3.7.3"
  }
 },
 "nbformat": 4,
 "nbformat_minor": 4
}
