{
 "cells": [
  {
   "cell_type": "markdown",
   "metadata": {},
   "source": [
    "# libraries & global vars"
   ]
  },
  {
   "cell_type": "code",
   "execution_count": 1,
   "metadata": {},
   "outputs": [],
   "source": [
    "import pandas as pd\n",
    "import numpy as np\n",
    "pd.set_option('display.max_rows', None)"
   ]
  },
  {
   "cell_type": "markdown",
   "metadata": {},
   "source": [
    "# io job_str"
   ]
  },
  {
   "cell_type": "code",
   "execution_count": 2,
   "metadata": {},
   "outputs": [],
   "source": [
    "path_job_str = \"C:/Users/seoul/Dropbox/00 technical/github/nkelites/data/combined data/combined data - 1 cleaning/cleaning step 4 - career/4.3.1 jobs/\""
   ]
  },
  {
   "cell_type": "code",
   "execution_count": 3,
   "metadata": {},
   "outputs": [],
   "source": [
    "filein_job_str = \"job_str_0_empty.xlsx\""
   ]
  },
  {
   "cell_type": "code",
   "execution_count": 4,
   "metadata": {},
   "outputs": [],
   "source": [
    "fileout_job_str = \"job_str_1_mergeold.xlsx\""
   ]
  },
  {
   "cell_type": "code",
   "execution_count": 5,
   "metadata": {},
   "outputs": [],
   "source": [
    "job_str = pd.read_excel(path_job_str+filein_job_str,dtype=\"str\")"
   ]
  },
  {
   "cell_type": "code",
   "execution_count": 6,
   "metadata": {},
   "outputs": [
    {
     "data": {
      "text/plain": [
       "(7590, 14)"
      ]
     },
     "execution_count": 6,
     "metadata": {},
     "output_type": "execute_result"
    }
   ],
   "source": [
    "job_str.shape"
   ]
  },
  {
   "cell_type": "code",
   "execution_count": 7,
   "metadata": {},
   "outputs": [],
   "source": [
    "# job_str[0:5]"
   ]
  },
  {
   "cell_type": "markdown",
   "metadata": {},
   "source": [
    "# io old parsed & coded data \\#1: Esther's data"
   ]
  },
  {
   "cell_type": "code",
   "execution_count": 8,
   "metadata": {},
   "outputs": [],
   "source": [
    "pathin_old_1 = \"C:/Users/seoul/Dropbox/00 technical/github/nkelites/data/2015 data/2015 data - 1 cleaning/\"\n",
    "filein_old_1 = \"Eunhos latest_CareerStringsCleaned.xlsx\""
   ]
  },
  {
   "cell_type": "code",
   "execution_count": 9,
   "metadata": {},
   "outputs": [],
   "source": [
    "# input esther's parsed & coded data\n",
    "esther = pd.read_excel(pathin_old_1+filein_old_1,dtype=\"str\")"
   ]
  },
  {
   "cell_type": "code",
   "execution_count": 10,
   "metadata": {},
   "outputs": [
    {
     "data": {
      "text/plain": [
       "(2210, 16)"
      ]
     },
     "execution_count": 10,
     "metadata": {},
     "output_type": "execute_result"
    }
   ],
   "source": [
    "esther.shape"
   ]
  },
  {
   "cell_type": "code",
   "execution_count": 11,
   "metadata": {},
   "outputs": [],
   "source": [
    "# esther[0:10]"
   ]
  },
  {
   "cell_type": "code",
   "execution_count": 12,
   "metadata": {},
   "outputs": [],
   "source": [
    "# isolate unique strings - I don't want to deal with strings containing multiple jobs\n",
    "#esther[0:5]\n",
    "esther.drop_duplicates(subset=[\"CareerStringID\"],keep=False,inplace=True)"
   ]
  },
  {
   "cell_type": "code",
   "execution_count": 13,
   "metadata": {},
   "outputs": [
    {
     "data": {
      "text/plain": [
       "(2020, 16)"
      ]
     },
     "execution_count": 13,
     "metadata": {},
     "output_type": "execute_result"
    }
   ],
   "source": [
    "esther.shape"
   ]
  },
  {
   "cell_type": "code",
   "execution_count": 14,
   "metadata": {},
   "outputs": [],
   "source": [
    "# esther[0:10]"
   ]
  },
  {
   "cell_type": "code",
   "execution_count": 15,
   "metadata": {},
   "outputs": [],
   "source": [
    "# job_str\n",
    "job_str_columns = job_str.columns"
   ]
  },
  {
   "cell_type": "code",
   "execution_count": 16,
   "metadata": {},
   "outputs": [],
   "source": [
    "job_str_merge = job_str.merge(esther,on=\"CareerString\",how=\"left\",suffixes=('', '_y'))"
   ]
  },
  {
   "cell_type": "code",
   "execution_count": 17,
   "metadata": {},
   "outputs": [
    {
     "data": {
      "text/plain": [
       "(7590, 29)"
      ]
     },
     "execution_count": 17,
     "metadata": {},
     "output_type": "execute_result"
    }
   ],
   "source": [
    "# confirm that job_str_merge rows are the same as job_str\n",
    "job_str_merge.shape"
   ]
  },
  {
   "cell_type": "code",
   "execution_count": 18,
   "metadata": {},
   "outputs": [
    {
     "data": {
      "text/plain": [
       "(7590, 14)"
      ]
     },
     "execution_count": 18,
     "metadata": {},
     "output_type": "execute_result"
    }
   ],
   "source": [
    "job_str.shape"
   ]
  },
  {
   "cell_type": "markdown",
   "metadata": {},
   "source": [
    "### impute position & last org from esther"
   ]
  },
  {
   "cell_type": "code",
   "execution_count": 19,
   "metadata": {},
   "outputs": [],
   "source": [
    "# double-check PositionString is null\n",
    "# job_str_merge[job_str_merge.PositionString.notnull()]"
   ]
  },
  {
   "cell_type": "code",
   "execution_count": 20,
   "metadata": {},
   "outputs": [],
   "source": [
    "# impute PositionString with esther.Pos\n",
    "job_str_merge[\"PositionString\"]=job_str_merge[\"Pos\"]"
   ]
  },
  {
   "cell_type": "code",
   "execution_count": 21,
   "metadata": {},
   "outputs": [
    {
     "data": {
      "text/html": [
       "<div>\n",
       "<style scoped>\n",
       "    .dataframe tbody tr th:only-of-type {\n",
       "        vertical-align: middle;\n",
       "    }\n",
       "\n",
       "    .dataframe tbody tr th {\n",
       "        vertical-align: top;\n",
       "    }\n",
       "\n",
       "    .dataframe thead th {\n",
       "        text-align: right;\n",
       "    }\n",
       "</style>\n",
       "<table border=\"1\" class=\"dataframe\">\n",
       "  <thead>\n",
       "    <tr style=\"text-align: right;\">\n",
       "      <th></th>\n",
       "      <th>CareerStringID</th>\n",
       "      <th>CareerString</th>\n",
       "      <th>CareerDateString_2022</th>\n",
       "      <th>CareerStartYear</th>\n",
       "      <th>CareerStartMonth</th>\n",
       "      <th>MultipleSubstrings</th>\n",
       "      <th>CareerSubstringID</th>\n",
       "      <th>CareerSubstring</th>\n",
       "      <th>OrgString</th>\n",
       "      <th>PositionString</th>\n",
       "      <th>...</th>\n",
       "      <th>Org4</th>\n",
       "      <th>Pos</th>\n",
       "      <th>Resigned</th>\n",
       "      <th>Graduated</th>\n",
       "      <th>SchoolCareer</th>\n",
       "      <th>PartySchoolTrue</th>\n",
       "      <th>LastSchoolGraduatedFinal</th>\n",
       "      <th>DeathTrue</th>\n",
       "      <th>MarriedTrue</th>\n",
       "      <th>SchoolTrue</th>\n",
       "    </tr>\n",
       "  </thead>\n",
       "  <tbody>\n",
       "  </tbody>\n",
       "</table>\n",
       "<p>0 rows × 29 columns</p>\n",
       "</div>"
      ],
      "text/plain": [
       "Empty DataFrame\n",
       "Columns: [CareerStringID, CareerString, CareerDateString_2022, CareerStartYear, CareerStartMonth, MultipleSubstrings, CareerSubstringID, CareerSubstring, OrgString, PositionString, OrgID, OrgName, PositionID, PositionName, CareerStringID_y, CareerStringCleaned, Org1, Org2, Org3, Org4, Pos, Resigned, Graduated, SchoolCareer, PartySchoolTrue, LastSchoolGraduatedFinal, DeathTrue, MarriedTrue, SchoolTrue]\n",
       "Index: []\n",
       "\n",
       "[0 rows x 29 columns]"
      ]
     },
     "execution_count": 21,
     "metadata": {},
     "output_type": "execute_result"
    }
   ],
   "source": [
    "# double-check OrgString is null\n",
    "job_str_merge[job_str_merge.OrgString.notnull()]"
   ]
  },
  {
   "cell_type": "code",
   "execution_count": 22,
   "metadata": {},
   "outputs": [],
   "source": [
    "# impute OrgString as esther's final organization\n",
    "job_str_merge[\"OrgString\"]= job_str_merge[[\"Org1\",\"Org2\",\"Org3\",\"Org4\"]].apply(lambda x: \" \".join(x.dropna()).strip(), axis=1)"
   ]
  },
  {
   "cell_type": "code",
   "execution_count": 23,
   "metadata": {},
   "outputs": [],
   "source": [
    "# replace white space with Null\n",
    "job_str_merge.loc[job_str_merge[\"OrgString\"]==\"\",\"OrgString\"]=np.nan"
   ]
  },
  {
   "cell_type": "code",
   "execution_count": 24,
   "metadata": {},
   "outputs": [],
   "source": [
    "# inspect OrgString\n",
    "# job_str_merge[[\"OrgString\",\"Org1\",\"Org2\",\"Org3\",\"Org4\"]]"
   ]
  },
  {
   "cell_type": "code",
   "execution_count": 25,
   "metadata": {},
   "outputs": [
    {
     "data": {
      "text/plain": [
       "(503, 29)"
      ]
     },
     "execution_count": 25,
     "metadata": {},
     "output_type": "execute_result"
    }
   ],
   "source": [
    "# how many OrgStrings did we impute?\n",
    "job_str_merge[job_str_merge.OrgString.notnull()].shape"
   ]
  },
  {
   "cell_type": "code",
   "execution_count": 26,
   "metadata": {},
   "outputs": [
    {
     "data": {
      "text/plain": [
       "(7087, 29)"
      ]
     },
     "execution_count": 26,
     "metadata": {},
     "output_type": "execute_result"
    }
   ],
   "source": [
    "# how many OrgStrings are still null?\n",
    "job_str_merge[job_str_merge.OrgString.isnull()].shape"
   ]
  },
  {
   "cell_type": "code",
   "execution_count": 27,
   "metadata": {},
   "outputs": [
    {
     "data": {
      "text/plain": [
       "(1220, 29)"
      ]
     },
     "execution_count": 27,
     "metadata": {},
     "output_type": "execute_result"
    }
   ],
   "source": [
    "# how many PositionStrings did we impute?\n",
    "job_str_merge[job_str_merge.PositionString.notnull()].shape"
   ]
  },
  {
   "cell_type": "code",
   "execution_count": 28,
   "metadata": {},
   "outputs": [
    {
     "data": {
      "text/plain": [
       "(6370, 29)"
      ]
     },
     "execution_count": 28,
     "metadata": {},
     "output_type": "execute_result"
    }
   ],
   "source": [
    "# how many PositionStrings are still null?\n",
    "job_str_merge[job_str_merge.PositionString.isnull()].shape"
   ]
  },
  {
   "cell_type": "code",
   "execution_count": 29,
   "metadata": {},
   "outputs": [],
   "source": [
    "# update job_str with merged values\n",
    "job_str = job_str_merge.loc[:,job_str_merge.columns.isin(job_str.columns)]"
   ]
  },
  {
   "cell_type": "code",
   "execution_count": null,
   "metadata": {},
   "outputs": [],
   "source": []
  },
  {
   "cell_type": "markdown",
   "metadata": {},
   "source": [
    "# io old parsed & coded data \\#2: old data"
   ]
  },
  {
   "cell_type": "code",
   "execution_count": 30,
   "metadata": {},
   "outputs": [],
   "source": [
    "pathin_old_2 = \"C:/Users/seoul/Dropbox/00 technical/github/nkelites/data/2015 data/2015 data - 0 raw/\"\n",
    "filein_old_2 = \"leadercareerlinkmou.csv\""
   ]
  },
  {
   "cell_type": "code",
   "execution_count": 31,
   "metadata": {},
   "outputs": [],
   "source": [
    "old_columns = [\"MOUID\", \"KoreanName\", \"CareerStringID\", \"CareerString\", \"CareerStartYear\", \"CareerStartMonth\", \"EventType\", \"JointAppointment\", \"Org1\", \"Org2\", \"Org3\", \"Org4\", \"Org5\", \"Position\", \"OrgLevel\", \"PositionLevel\", \"OrgPositionString\"]"
   ]
  },
  {
   "cell_type": "code",
   "execution_count": 32,
   "metadata": {},
   "outputs": [],
   "source": [
    "old = pd.read_csv(pathin_old_2+filein_old_2,sep=\";\",header=0,names=old_columns)"
   ]
  },
  {
   "cell_type": "code",
   "execution_count": 33,
   "metadata": {},
   "outputs": [
    {
     "data": {
      "text/plain": [
       "Index(['CareerStringID', 'CareerString', 'CareerStringCleaned', 'Org1', 'Org2',\n",
       "       'Org3', 'Org4', 'Pos', 'Resigned', 'Graduated', 'SchoolCareer',\n",
       "       'PartySchoolTrue', 'LastSchoolGraduatedFinal', 'DeathTrue',\n",
       "       'MarriedTrue', 'SchoolTrue'],\n",
       "      dtype='object')"
      ]
     },
     "execution_count": 33,
     "metadata": {},
     "output_type": "execute_result"
    }
   ],
   "source": [
    "esther.columns"
   ]
  },
  {
   "cell_type": "code",
   "execution_count": 34,
   "metadata": {},
   "outputs": [],
   "source": [
    "# old[0:5]"
   ]
  },
  {
   "cell_type": "code",
   "execution_count": 35,
   "metadata": {},
   "outputs": [],
   "source": [
    "# select the columns from old that I care about\n",
    "old_columns_keep = [\"CareerString\",\"CareerStartYear\",\"CareerStartMonth\",\"Org1\",\"Org2\",\"Org3\",\"Org4\",\"Org5\",\"Position\"]\n",
    "old = old.loc[:,old.columns.isin(old_columns_keep)]\n",
    "old.drop_duplicates(inplace=True)\n",
    "old.shape"
   ]
  },
  {
   "cell_type": "code",
   "execution_count": 62,
   "metadata": {},
   "outputs": [],
   "source": [
    "# multiple coded strings are causing trouble,\n",
    "# just as they did in esther's\n",
    "# drop all duplicate career strings - and deal with multiples again\n",
    "old = old.drop_duplicates([\"CareerString\"],keep=False)\n",
    "old.shape"
   ]
  },
  {
   "cell_type": "code",
   "execution_count": 37,
   "metadata": {},
   "outputs": [],
   "source": [
    "# check if some CareerStrings in old, not in job_str"
   ]
  },
  {
   "cell_type": "code",
   "execution_count": 66,
   "metadata": {},
   "outputs": [],
   "source": [
    "# merge old into job_str\n",
    "job_str_merge = job_str.merge(old,on=\"CareerString\",how=\"left\",suffixes=('', '_y'))"
   ]
  },
  {
   "cell_type": "code",
   "execution_count": 67,
   "metadata": {},
   "outputs": [
    {
     "data": {
      "text/plain": [
       "(7590, 22)"
      ]
     },
     "execution_count": 67,
     "metadata": {},
     "output_type": "execute_result"
    }
   ],
   "source": [
    "# check that job_str dimensions are the same as before = (7590)\n",
    "job_str_merge.shape"
   ]
  },
  {
   "cell_type": "code",
   "execution_count": 68,
   "metadata": {},
   "outputs": [
    {
     "data": {
      "text/plain": [
       "(7590, 14)"
      ]
     },
     "execution_count": 68,
     "metadata": {},
     "output_type": "execute_result"
    }
   ],
   "source": [
    "#\n",
    "job_str.shape"
   ]
  },
  {
   "cell_type": "markdown",
   "metadata": {},
   "source": [
    "### impute old Position"
   ]
  },
  {
   "cell_type": "code",
   "execution_count": 69,
   "metadata": {},
   "outputs": [],
   "source": [
    "# inspect existing values of PositionString\n",
    "# job_str_merge[job_str_merge.PositionString.notnull()]"
   ]
  },
  {
   "cell_type": "code",
   "execution_count": 70,
   "metadata": {},
   "outputs": [
    {
     "data": {
      "text/html": [
       "<div>\n",
       "<style scoped>\n",
       "    .dataframe tbody tr th:only-of-type {\n",
       "        vertical-align: middle;\n",
       "    }\n",
       "\n",
       "    .dataframe tbody tr th {\n",
       "        vertical-align: top;\n",
       "    }\n",
       "\n",
       "    .dataframe thead th {\n",
       "        text-align: right;\n",
       "    }\n",
       "</style>\n",
       "<table border=\"1\" class=\"dataframe\">\n",
       "  <thead>\n",
       "    <tr style=\"text-align: right;\">\n",
       "      <th></th>\n",
       "      <th>CareerStringID</th>\n",
       "      <th>CareerString</th>\n",
       "      <th>CareerDateString_2022</th>\n",
       "      <th>CareerStartYear</th>\n",
       "      <th>CareerStartMonth</th>\n",
       "      <th>MultipleSubstrings</th>\n",
       "      <th>CareerSubstringID</th>\n",
       "      <th>CareerSubstring</th>\n",
       "      <th>OrgString</th>\n",
       "      <th>PositionString</th>\n",
       "      <th>...</th>\n",
       "      <th>PositionID</th>\n",
       "      <th>PositionName</th>\n",
       "      <th>CareerStartYear_y</th>\n",
       "      <th>CareerStartMonth_y</th>\n",
       "      <th>Org1</th>\n",
       "      <th>Org2</th>\n",
       "      <th>Org3</th>\n",
       "      <th>Org4</th>\n",
       "      <th>Org5</th>\n",
       "      <th>Position</th>\n",
       "    </tr>\n",
       "  </thead>\n",
       "  <tbody>\n",
       "  </tbody>\n",
       "</table>\n",
       "<p>0 rows × 22 columns</p>\n",
       "</div>"
      ],
      "text/plain": [
       "Empty DataFrame\n",
       "Columns: [CareerStringID, CareerString, CareerDateString_2022, CareerStartYear, CareerStartMonth, MultipleSubstrings, CareerSubstringID, CareerSubstring, OrgString, PositionString, OrgID, OrgName, PositionID, PositionName, CareerStartYear_y, CareerStartMonth_y, Org1, Org2, Org3, Org4, Org5, Position]\n",
       "Index: []\n",
       "\n",
       "[0 rows x 22 columns]"
      ]
     },
     "execution_count": 70,
     "metadata": {},
     "output_type": "execute_result"
    }
   ],
   "source": [
    "# before we impute PositionString with old.Position, confirm no overlapping data \n",
    "job_str_merge[((job_str_merge.PositionString.notnull()) & (job_str_merge.Position.notnull()))]"
   ]
  },
  {
   "cell_type": "code",
   "execution_count": 71,
   "metadata": {},
   "outputs": [],
   "source": [
    "# where PositionString is null, impute PositionString with old.Position \n",
    "job_str_merge.loc[job_str_merge.PositionString.isnull(),\"PositionString\"]=job_str_merge.loc[job_str_merge.PositionString.isnull(),\"Position\"]"
   ]
  },
  {
   "cell_type": "code",
   "execution_count": 72,
   "metadata": {},
   "outputs": [
    {
     "data": {
      "text/plain": [
       "(1220, 22)"
      ]
     },
     "execution_count": 72,
     "metadata": {},
     "output_type": "execute_result"
    }
   ],
   "source": [
    "# how many PositionStrings did we impute from esther?\n",
    "job_str_merge[job_str_merge.PositionString.notnull() & job_str_merge.Position.isnull()].shape"
   ]
  },
  {
   "cell_type": "code",
   "execution_count": 73,
   "metadata": {},
   "outputs": [
    {
     "data": {
      "text/plain": [
       "(1191, 22)"
      ]
     },
     "execution_count": 73,
     "metadata": {},
     "output_type": "execute_result"
    }
   ],
   "source": [
    "# how many PositionStrings did we impute from old?\n",
    "job_str_merge[job_str_merge.PositionString.notnull() & job_str_merge.Position.notnull()].shape"
   ]
  },
  {
   "cell_type": "code",
   "execution_count": 74,
   "metadata": {},
   "outputs": [
    {
     "data": {
      "text/plain": [
       "(2411, 22)"
      ]
     },
     "execution_count": 74,
     "metadata": {},
     "output_type": "execute_result"
    }
   ],
   "source": [
    "# how many PositionStrings did we impute overall?\n",
    "job_str_merge[job_str_merge.PositionString.notnull()].shape"
   ]
  },
  {
   "cell_type": "code",
   "execution_count": 75,
   "metadata": {},
   "outputs": [
    {
     "data": {
      "text/plain": [
       "(5179, 22)"
      ]
     },
     "execution_count": 75,
     "metadata": {},
     "output_type": "execute_result"
    }
   ],
   "source": [
    "# how many PositionStrings are still null?\n",
    "job_str_merge[job_str_merge.PositionString.isnull()].shape"
   ]
  },
  {
   "cell_type": "markdown",
   "metadata": {},
   "source": [
    "### impute old Org"
   ]
  },
  {
   "cell_type": "code",
   "execution_count": 76,
   "metadata": {},
   "outputs": [],
   "source": [
    "# inspect existing values of OrgString\n",
    "# job_str_merge[job_str_merge.OrgString.notnull()]"
   ]
  },
  {
   "cell_type": "code",
   "execution_count": 77,
   "metadata": {},
   "outputs": [],
   "source": [
    "# create OldOrgString as old's final organization\n",
    "job_str_merge[\"OldOrgString\"]= job_str_merge[[\"Org1\",\"Org2\",\"Org3\",\"Org4\"]].apply(lambda x: \" \".join(x.dropna()).strip(), axis=1)"
   ]
  },
  {
   "cell_type": "code",
   "execution_count": 78,
   "metadata": {},
   "outputs": [],
   "source": [
    "# replace white space with Null\n",
    "job_str_merge.loc[job_str_merge[\"OldOrgString\"]==\"\",\"OldOrgString\"]=np.nan"
   ]
  },
  {
   "cell_type": "code",
   "execution_count": 79,
   "metadata": {},
   "outputs": [],
   "source": [
    "# double-check OrgString\n",
    "# job_str_merge[[\"OldOrgString\",\"Org1\",\"Org2\",\"Org3\",\"Org4\"]]"
   ]
  },
  {
   "cell_type": "code",
   "execution_count": 80,
   "metadata": {},
   "outputs": [
    {
     "name": "stdout",
     "output_type": "stream",
     "text": [
      "OrgString:\t (503, 23)\n",
      "OldOrgString:\t (1191, 23)\n",
      "overlapping:\t (0, 23)\n"
     ]
    }
   ],
   "source": [
    "# before we impute OrgString with OldOrgString, confirm no overlapping data\n",
    "print(\"OrgString:\\t\",job_str_merge[job_str_merge.OrgString.notnull()].shape)\n",
    "print(\"OldOrgString:\\t\",job_str_merge[job_str_merge.OldOrgString.notnull()].shape)\n",
    "print(\"overlapping:\\t\",job_str_merge[((job_str_merge.OrgString.notnull()) & (job_str_merge.OldOrgString.notnull()))].shape)"
   ]
  },
  {
   "cell_type": "code",
   "execution_count": 81,
   "metadata": {},
   "outputs": [],
   "source": [
    "# where OrgString is null, impute OrgString with OrgString \n",
    "job_str_merge.loc[job_str_merge.OrgString.isnull(),\"OrgString\"]=job_str_merge.loc[job_str_merge.OrgString.isnull(),\"OldOrgString\"]"
   ]
  },
  {
   "cell_type": "code",
   "execution_count": 82,
   "metadata": {},
   "outputs": [
    {
     "data": {
      "text/plain": [
       "(503, 23)"
      ]
     },
     "execution_count": 82,
     "metadata": {},
     "output_type": "execute_result"
    }
   ],
   "source": [
    "# how many OrgString did we impute from esther?\n",
    "job_str_merge[job_str_merge.OrgString.notnull() & job_str_merge.OldOrgString.isnull()].shape"
   ]
  },
  {
   "cell_type": "code",
   "execution_count": 83,
   "metadata": {},
   "outputs": [
    {
     "data": {
      "text/plain": [
       "(1191, 23)"
      ]
     },
     "execution_count": 83,
     "metadata": {},
     "output_type": "execute_result"
    }
   ],
   "source": [
    "# how many OrgString did we impute from old?\n",
    "job_str_merge[job_str_merge.OrgString.notnull() & job_str_merge.OldOrgString.notnull()].shape"
   ]
  },
  {
   "cell_type": "code",
   "execution_count": 84,
   "metadata": {},
   "outputs": [
    {
     "data": {
      "text/plain": [
       "(1694, 23)"
      ]
     },
     "execution_count": 84,
     "metadata": {},
     "output_type": "execute_result"
    }
   ],
   "source": [
    "# how many OrgString did we impute overall?\n",
    "job_str_merge[job_str_merge.OrgString.notnull()].shape"
   ]
  },
  {
   "cell_type": "code",
   "execution_count": 85,
   "metadata": {},
   "outputs": [
    {
     "data": {
      "text/plain": [
       "(5896, 23)"
      ]
     },
     "execution_count": 85,
     "metadata": {},
     "output_type": "execute_result"
    }
   ],
   "source": [
    "# how many OrgString are still null?\n",
    "job_str_merge[job_str_merge.OrgString.isnull()].shape"
   ]
  },
  {
   "cell_type": "markdown",
   "metadata": {},
   "source": [
    "### impute CareerStartYear and CareerStartMonth"
   ]
  },
  {
   "cell_type": "code",
   "execution_count": 86,
   "metadata": {},
   "outputs": [
    {
     "data": {
      "text/html": [
       "<div>\n",
       "<style scoped>\n",
       "    .dataframe tbody tr th:only-of-type {\n",
       "        vertical-align: middle;\n",
       "    }\n",
       "\n",
       "    .dataframe tbody tr th {\n",
       "        vertical-align: top;\n",
       "    }\n",
       "\n",
       "    .dataframe thead th {\n",
       "        text-align: right;\n",
       "    }\n",
       "</style>\n",
       "<table border=\"1\" class=\"dataframe\">\n",
       "  <thead>\n",
       "    <tr style=\"text-align: right;\">\n",
       "      <th></th>\n",
       "      <th>CareerStringID</th>\n",
       "      <th>CareerString</th>\n",
       "      <th>CareerDateString_2022</th>\n",
       "      <th>CareerStartYear</th>\n",
       "      <th>CareerStartMonth</th>\n",
       "      <th>MultipleSubstrings</th>\n",
       "      <th>CareerSubstringID</th>\n",
       "      <th>CareerSubstring</th>\n",
       "      <th>OrgString</th>\n",
       "      <th>PositionString</th>\n",
       "      <th>...</th>\n",
       "      <th>PositionName</th>\n",
       "      <th>CareerStartYear_y</th>\n",
       "      <th>CareerStartMonth_y</th>\n",
       "      <th>Org1</th>\n",
       "      <th>Org2</th>\n",
       "      <th>Org3</th>\n",
       "      <th>Org4</th>\n",
       "      <th>Org5</th>\n",
       "      <th>Position</th>\n",
       "      <th>OldOrgString</th>\n",
       "    </tr>\n",
       "  </thead>\n",
       "  <tbody>\n",
       "  </tbody>\n",
       "</table>\n",
       "<p>0 rows × 23 columns</p>\n",
       "</div>"
      ],
      "text/plain": [
       "Empty DataFrame\n",
       "Columns: [CareerStringID, CareerString, CareerDateString_2022, CareerStartYear, CareerStartMonth, MultipleSubstrings, CareerSubstringID, CareerSubstring, OrgString, PositionString, OrgID, OrgName, PositionID, PositionName, CareerStartYear_y, CareerStartMonth_y, Org1, Org2, Org3, Org4, Org5, Position, OldOrgString]\n",
       "Index: []\n",
       "\n",
       "[0 rows x 23 columns]"
      ]
     },
     "execution_count": 86,
     "metadata": {},
     "output_type": "execute_result"
    }
   ],
   "source": [
    "# confirm CareerStartYear and CareerStartMonth are null\n",
    "job_str_merge[job_str_merge.CareerStartYear.notnull()]"
   ]
  },
  {
   "cell_type": "code",
   "execution_count": 87,
   "metadata": {},
   "outputs": [
    {
     "data": {
      "text/html": [
       "<div>\n",
       "<style scoped>\n",
       "    .dataframe tbody tr th:only-of-type {\n",
       "        vertical-align: middle;\n",
       "    }\n",
       "\n",
       "    .dataframe tbody tr th {\n",
       "        vertical-align: top;\n",
       "    }\n",
       "\n",
       "    .dataframe thead th {\n",
       "        text-align: right;\n",
       "    }\n",
       "</style>\n",
       "<table border=\"1\" class=\"dataframe\">\n",
       "  <thead>\n",
       "    <tr style=\"text-align: right;\">\n",
       "      <th></th>\n",
       "      <th>CareerStringID</th>\n",
       "      <th>CareerString</th>\n",
       "      <th>CareerDateString_2022</th>\n",
       "      <th>CareerStartYear</th>\n",
       "      <th>CareerStartMonth</th>\n",
       "      <th>MultipleSubstrings</th>\n",
       "      <th>CareerSubstringID</th>\n",
       "      <th>CareerSubstring</th>\n",
       "      <th>OrgString</th>\n",
       "      <th>PositionString</th>\n",
       "      <th>...</th>\n",
       "      <th>PositionName</th>\n",
       "      <th>CareerStartYear_y</th>\n",
       "      <th>CareerStartMonth_y</th>\n",
       "      <th>Org1</th>\n",
       "      <th>Org2</th>\n",
       "      <th>Org3</th>\n",
       "      <th>Org4</th>\n",
       "      <th>Org5</th>\n",
       "      <th>Position</th>\n",
       "      <th>OldOrgString</th>\n",
       "    </tr>\n",
       "  </thead>\n",
       "  <tbody>\n",
       "  </tbody>\n",
       "</table>\n",
       "<p>0 rows × 23 columns</p>\n",
       "</div>"
      ],
      "text/plain": [
       "Empty DataFrame\n",
       "Columns: [CareerStringID, CareerString, CareerDateString_2022, CareerStartYear, CareerStartMonth, MultipleSubstrings, CareerSubstringID, CareerSubstring, OrgString, PositionString, OrgID, OrgName, PositionID, PositionName, CareerStartYear_y, CareerStartMonth_y, Org1, Org2, Org3, Org4, Org5, Position, OldOrgString]\n",
       "Index: []\n",
       "\n",
       "[0 rows x 23 columns]"
      ]
     },
     "execution_count": 87,
     "metadata": {},
     "output_type": "execute_result"
    }
   ],
   "source": [
    "job_str_merge[job_str_merge.CareerStartMonth.notnull()]"
   ]
  },
  {
   "cell_type": "code",
   "execution_count": null,
   "metadata": {},
   "outputs": [],
   "source": [
    "# impute CareerStartYear and CareerStartMonth with CareerStartYear_y and CareerStartMonth_y from old\n",
    "job_str_merge[\"CareerStartYear\"] = job_str_merge[\"CareerStartYear_y\"]\n",
    "job_str_merge[\"CareerStartMonth\"] = job_str_merge[\"CareerStartYear_y\"]"
   ]
  },
  {
   "cell_type": "markdown",
   "metadata": {},
   "source": [
    "### update job_str"
   ]
  },
  {
   "cell_type": "code",
   "execution_count": 281,
   "metadata": {},
   "outputs": [],
   "source": [
    "# update job_str with merged values\n",
    "job_str = job_str_merge.loc[:,job_str_merge.columns.isin(job_str.columns)]"
   ]
  },
  {
   "cell_type": "code",
   "execution_count": 282,
   "metadata": {},
   "outputs": [
    {
     "data": {
      "text/plain": [
       "(7901, 14)"
      ]
     },
     "execution_count": 282,
     "metadata": {},
     "output_type": "execute_result"
    }
   ],
   "source": [
    "# check that job_str dimensions are the same as before (7590,14)?\n",
    "job_str.shape"
   ]
  },
  {
   "cell_type": "code",
   "execution_count": null,
   "metadata": {},
   "outputs": [],
   "source": [
    "# why is job_str.shape not 750"
   ]
  },
  {
   "cell_type": "markdown",
   "metadata": {},
   "source": [
    "# io old parsed & coded data \\#3: ?"
   ]
  },
  {
   "cell_type": "code",
   "execution_count": null,
   "metadata": {},
   "outputs": [],
   "source": []
  },
  {
   "cell_type": "code",
   "execution_count": 37,
   "metadata": {},
   "outputs": [],
   "source": [
    "pathin_old_3 = \"\"\n",
    "filein_old_3 = \"\""
   ]
  },
  {
   "cell_type": "code",
   "execution_count": null,
   "metadata": {},
   "outputs": [],
   "source": []
  },
  {
   "cell_type": "code",
   "execution_count": null,
   "metadata": {},
   "outputs": [],
   "source": []
  },
  {
   "cell_type": "markdown",
   "metadata": {},
   "source": [
    "# output jobs_str - now merged with old parsed, coded data"
   ]
  },
  {
   "cell_type": "code",
   "execution_count": 44,
   "metadata": {},
   "outputs": [],
   "source": [
    "job_str.to_excel(path_job_str+fileout_job_str,index=False,encoding=\"utf-8\")"
   ]
  },
  {
   "cell_type": "code",
   "execution_count": null,
   "metadata": {},
   "outputs": [],
   "source": []
  }
 ],
 "metadata": {
  "kernelspec": {
   "display_name": "Python 3",
   "language": "python",
   "name": "python3"
  },
  "language_info": {
   "codemirror_mode": {
    "name": "ipython",
    "version": 3
   },
   "file_extension": ".py",
   "mimetype": "text/x-python",
   "name": "python",
   "nbconvert_exporter": "python",
   "pygments_lexer": "ipython3",
   "version": "3.7.3"
  }
 },
 "nbformat": 4,
 "nbformat_minor": 4
}
