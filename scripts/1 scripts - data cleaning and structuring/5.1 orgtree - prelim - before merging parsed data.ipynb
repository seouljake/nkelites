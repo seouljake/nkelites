{
 "cells": [
  {
   "cell_type": "markdown",
   "metadata": {},
   "source": [
    "# libraries & global vars"
   ]
  },
  {
   "cell_type": "code",
   "execution_count": 1,
   "metadata": {},
   "outputs": [],
   "source": [
    "import pandas as pd\n",
    "import numpy as np\n",
    "pd.set_option('display.max_rows', None)"
   ]
  },
  {
   "cell_type": "markdown",
   "metadata": {},
   "source": [
    "# io paths & filenames"
   ]
  },
  {
   "cell_type": "code",
   "execution_count": 2,
   "metadata": {},
   "outputs": [],
   "source": [
    "# path in to step 4 career - job str\n",
    "pathin_job_str = \"C:/Users/seoul/Dropbox/00 technical/github/nkelites/data/combined data/combined data - 1 cleaning/cleaning step 4 - career/4.3.1 jobs/\""
   ]
  },
  {
   "cell_type": "code",
   "execution_count": 3,
   "metadata": {},
   "outputs": [],
   "source": [
    "# filein_job_str = \"job_str_2_substr_multi.xlsx\"\n",
    "filein_job_substr_multi = \"job_str_2_substr_multi_expanded_2tocode_Mail_Lee.xlsx\"\n",
    "filein_job_substr_single = \"job_str_2_substr_single_1tocode_Mail_Lee.xlsx\""
   ]
  },
  {
   "cell_type": "code",
   "execution_count": 6,
   "metadata": {},
   "outputs": [],
   "source": [
    "# path out to step 5 orgtree\n",
    "pathout_orgtree = \"C:/Users/seoul/Dropbox/00 technical/github/nkelites/data/combined data/combined data - 1 cleaning/cleaning step 5 - orgtree/\""
   ]
  },
  {
   "cell_type": "code",
   "execution_count": 54,
   "metadata": {},
   "outputs": [],
   "source": [
    "# file out to step 5 orgtree - preliminary org & positions\n",
    "fileout_org_prelim = \"0.4_prelim_org.xlsx\"\n",
    "fileout_pos_prelim = \"0.4_prelim_pos.xlsx\"\n",
    "fileout_orgpos_prelim = \"0.4_prelim_orgpos.xlsx\""
   ]
  },
  {
   "cell_type": "code",
   "execution_count": 56,
   "metadata": {},
   "outputs": [],
   "source": [
    "# path out to step 4 job_str - merged\n",
    "pathout_job_str = pathin_job_str"
   ]
  },
  {
   "cell_type": "code",
   "execution_count": 58,
   "metadata": {},
   "outputs": [],
   "source": [
    "# file out job_str merged\n",
    "fileout_jobstr_merged_prelim = \"job_str_3_merged_prelim.xlsx\""
   ]
  },
  {
   "cell_type": "markdown",
   "metadata": {},
   "source": [
    "# input and format data"
   ]
  },
  {
   "cell_type": "code",
   "execution_count": 10,
   "metadata": {},
   "outputs": [],
   "source": [
    "job_str_multi = pd.read_excel(pathin_job_str+filein_job_substr_multi,dtype=\"str\")\n",
    "job_str_single = pd.read_excel(pathin_job_str+filein_job_substr_single,dtype=\"str\")"
   ]
  },
  {
   "cell_type": "code",
   "execution_count": 11,
   "metadata": {},
   "outputs": [
    {
     "data": {
      "text/plain": [
       "(702, 10)"
      ]
     },
     "execution_count": 11,
     "metadata": {},
     "output_type": "execute_result"
    }
   ],
   "source": [
    "job_str_multi.shape"
   ]
  },
  {
   "cell_type": "code",
   "execution_count": 12,
   "metadata": {},
   "outputs": [
    {
     "data": {
      "text/plain": [
       "(7284, 11)"
      ]
     },
     "execution_count": 12,
     "metadata": {},
     "output_type": "execute_result"
    }
   ],
   "source": [
    "job_str_single.shape"
   ]
  },
  {
   "cell_type": "code",
   "execution_count": 15,
   "metadata": {},
   "outputs": [],
   "source": [
    "job_str_single[\"CareerSubstring\"]=np.nan"
   ]
  },
  {
   "cell_type": "markdown",
   "metadata": {},
   "source": [
    "# merge multi & single job_str db"
   ]
  },
  {
   "cell_type": "code",
   "execution_count": 16,
   "metadata": {},
   "outputs": [
    {
     "data": {
      "text/html": [
       "<div>\n",
       "<style scoped>\n",
       "    .dataframe tbody tr th:only-of-type {\n",
       "        vertical-align: middle;\n",
       "    }\n",
       "\n",
       "    .dataframe tbody tr th {\n",
       "        vertical-align: top;\n",
       "    }\n",
       "\n",
       "    .dataframe thead th {\n",
       "        text-align: right;\n",
       "    }\n",
       "</style>\n",
       "<table border=\"1\" class=\"dataframe\">\n",
       "  <thead>\n",
       "    <tr style=\"text-align: right;\">\n",
       "      <th></th>\n",
       "      <th>CareerStringID</th>\n",
       "      <th>CareerDateString_2022</th>\n",
       "      <th>MultipleSubstrings</th>\n",
       "      <th>CareerString</th>\n",
       "      <th>CareerStartYear</th>\n",
       "      <th>CareerStartMonth</th>\n",
       "      <th>CareerSubstring</th>\n",
       "      <th>OrgString</th>\n",
       "      <th>PositionString</th>\n",
       "      <th>Notes</th>\n",
       "    </tr>\n",
       "  </thead>\n",
       "  <tbody>\n",
       "    <tr>\n",
       "      <th>0</th>\n",
       "      <td>147.1</td>\n",
       "      <td>NaN</td>\n",
       "      <td>4</td>\n",
       "      <td>1952. 8 당 중앙위 부위원장, 정치위원, 군사위원, 상무위원</td>\n",
       "      <td>1952</td>\n",
       "      <td>8</td>\n",
       "      <td>당 중앙위 부위원장</td>\n",
       "      <td>당 중앙위</td>\n",
       "      <td>부위원장</td>\n",
       "      <td>NaN</td>\n",
       "    </tr>\n",
       "    <tr>\n",
       "      <th>1</th>\n",
       "      <td>147.2</td>\n",
       "      <td>NaN</td>\n",
       "      <td>4</td>\n",
       "      <td>1952. 8 당 중앙위 부위원장, 정치위원, 군사위원, 상무위원</td>\n",
       "      <td>1952</td>\n",
       "      <td>8</td>\n",
       "      <td>?</td>\n",
       "      <td>당 중앙위</td>\n",
       "      <td>정치위원</td>\n",
       "      <td>only position</td>\n",
       "    </tr>\n",
       "  </tbody>\n",
       "</table>\n",
       "</div>"
      ],
      "text/plain": [
       "  CareerStringID CareerDateString_2022 MultipleSubstrings  \\\n",
       "0          147.1                   NaN                  4   \n",
       "1          147.2                   NaN                  4   \n",
       "\n",
       "                           CareerString CareerStartYear CareerStartMonth  \\\n",
       "0  1952. 8 당 중앙위 부위원장, 정치위원, 군사위원, 상무위원            1952                8   \n",
       "1  1952. 8 당 중앙위 부위원장, 정치위원, 군사위원, 상무위원            1952                8   \n",
       "\n",
       "  CareerSubstring OrgString PositionString          Notes  \n",
       "0      당 중앙위 부위원장     당 중앙위           부위원장            NaN  \n",
       "1               ?     당 중앙위           정치위원  only position  "
      ]
     },
     "execution_count": 16,
     "metadata": {},
     "output_type": "execute_result"
    }
   ],
   "source": [
    "job_str_multi[0:2]"
   ]
  },
  {
   "cell_type": "code",
   "execution_count": 17,
   "metadata": {},
   "outputs": [
    {
     "data": {
      "text/html": [
       "<div>\n",
       "<style scoped>\n",
       "    .dataframe tbody tr th:only-of-type {\n",
       "        vertical-align: middle;\n",
       "    }\n",
       "\n",
       "    .dataframe tbody tr th {\n",
       "        vertical-align: top;\n",
       "    }\n",
       "\n",
       "    .dataframe thead th {\n",
       "        text-align: right;\n",
       "    }\n",
       "</style>\n",
       "<table border=\"1\" class=\"dataframe\">\n",
       "  <thead>\n",
       "    <tr style=\"text-align: right;\">\n",
       "      <th></th>\n",
       "      <th>CareerStringID</th>\n",
       "      <th>MultipleSubstrings</th>\n",
       "      <th>NotJob</th>\n",
       "      <th>CareerString</th>\n",
       "      <th>CareerDateString_2022</th>\n",
       "      <th>CareerStartYear</th>\n",
       "      <th>CareerStartMonth</th>\n",
       "      <th>OrgString</th>\n",
       "      <th>PositionString</th>\n",
       "      <th>Unnamed: 9</th>\n",
       "      <th>Unnamed: 10</th>\n",
       "      <th>CareerSubstring</th>\n",
       "    </tr>\n",
       "  </thead>\n",
       "  <tbody>\n",
       "    <tr>\n",
       "      <th>0</th>\n",
       "      <td>1</td>\n",
       "      <td>NaN</td>\n",
       "      <td>NaN</td>\n",
       "      <td>개성공단 남북공동위원회 통행통신통관 분과위원회</td>\n",
       "      <td>2013.09 ~ 2014.01</td>\n",
       "      <td>2013</td>\n",
       "      <td>9</td>\n",
       "      <td>개성공단 남북공동위원회 통행통신통관 분과위원회</td>\n",
       "      <td>NaN</td>\n",
       "      <td>NaN</td>\n",
       "      <td>NaN</td>\n",
       "      <td>NaN</td>\n",
       "    </tr>\n",
       "    <tr>\n",
       "      <th>1</th>\n",
       "      <td>2</td>\n",
       "      <td>NaN</td>\n",
       "      <td>NaN</td>\n",
       "      <td>근로단체부장 해임 * 후임: 리일환</td>\n",
       "      <td>2014</td>\n",
       "      <td>NaN</td>\n",
       "      <td>NaN</td>\n",
       "      <td>근로단체</td>\n",
       "      <td>부장</td>\n",
       "      <td>NaN</td>\n",
       "      <td>NaN</td>\n",
       "      <td>NaN</td>\n",
       "    </tr>\n",
       "  </tbody>\n",
       "</table>\n",
       "</div>"
      ],
      "text/plain": [
       "  CareerStringID MultipleSubstrings NotJob                CareerString  \\\n",
       "0              1                NaN    NaN   개성공단 남북공동위원회 통행통신통관 분과위원회   \n",
       "1              2                NaN    NaN         근로단체부장 해임 * 후임: 리일환   \n",
       "\n",
       "  CareerDateString_2022 CareerStartYear CareerStartMonth  \\\n",
       "0     2013.09 ~ 2014.01            2013                9   \n",
       "1                  2014             NaN              NaN   \n",
       "\n",
       "                   OrgString PositionString Unnamed: 9 Unnamed: 10  \\\n",
       "0  개성공단 남북공동위원회 통행통신통관 분과위원회            NaN        NaN         NaN   \n",
       "1                       근로단체             부장        NaN         NaN   \n",
       "\n",
       "   CareerSubstring  \n",
       "0              NaN  \n",
       "1              NaN  "
      ]
     },
     "execution_count": 17,
     "metadata": {},
     "output_type": "execute_result"
    }
   ],
   "source": [
    "job_str_single[0:2]"
   ]
  },
  {
   "cell_type": "code",
   "execution_count": 22,
   "metadata": {},
   "outputs": [],
   "source": [
    "common_columns = [\"CareerStringID\",\"CareerString\",\"CareerSubstring\",\"CareerStartYear\",\"CareerStartMonth\",\"OrgString\",\"PositionString\"]"
   ]
  },
  {
   "cell_type": "code",
   "execution_count": 25,
   "metadata": {},
   "outputs": [],
   "source": [
    "# concatenate data frames\n",
    "frame = [job_str_multi.loc[:,common_columns],job_str_single.loc[:,common_columns]]\n",
    "job_str_merged = pd.concat(frame)"
   ]
  },
  {
   "cell_type": "code",
   "execution_count": 26,
   "metadata": {},
   "outputs": [
    {
     "data": {
      "text/plain": [
       "(7986, 7)"
      ]
     },
     "execution_count": 26,
     "metadata": {},
     "output_type": "execute_result"
    }
   ],
   "source": [
    "job_str_merged.shape"
   ]
  },
  {
   "cell_type": "code",
   "execution_count": 27,
   "metadata": {},
   "outputs": [
    {
     "data": {
      "text/plain": [
       "7986"
      ]
     },
     "execution_count": 27,
     "metadata": {},
     "output_type": "execute_result"
    }
   ],
   "source": [
    "job_str_multi.shape[0] + job_str_single.shape[0]"
   ]
  },
  {
   "cell_type": "code",
   "execution_count": 28,
   "metadata": {},
   "outputs": [
    {
     "data": {
      "text/html": [
       "<div>\n",
       "<style scoped>\n",
       "    .dataframe tbody tr th:only-of-type {\n",
       "        vertical-align: middle;\n",
       "    }\n",
       "\n",
       "    .dataframe tbody tr th {\n",
       "        vertical-align: top;\n",
       "    }\n",
       "\n",
       "    .dataframe thead th {\n",
       "        text-align: right;\n",
       "    }\n",
       "</style>\n",
       "<table border=\"1\" class=\"dataframe\">\n",
       "  <thead>\n",
       "    <tr style=\"text-align: right;\">\n",
       "      <th></th>\n",
       "      <th>CareerStringID</th>\n",
       "      <th>CareerString</th>\n",
       "      <th>CareerSubstring</th>\n",
       "      <th>CareerStartYear</th>\n",
       "      <th>CareerStartMonth</th>\n",
       "      <th>OrgString</th>\n",
       "      <th>PositionString</th>\n",
       "    </tr>\n",
       "  </thead>\n",
       "  <tbody>\n",
       "    <tr>\n",
       "      <th>0</th>\n",
       "      <td>147.1</td>\n",
       "      <td>1952. 8 당 중앙위 부위원장, 정치위원, 군사위원, 상무위원</td>\n",
       "      <td>당 중앙위 부위원장</td>\n",
       "      <td>1952</td>\n",
       "      <td>8</td>\n",
       "      <td>당 중앙위</td>\n",
       "      <td>부위원장</td>\n",
       "    </tr>\n",
       "    <tr>\n",
       "      <th>1</th>\n",
       "      <td>147.2</td>\n",
       "      <td>1952. 8 당 중앙위 부위원장, 정치위원, 군사위원, 상무위원</td>\n",
       "      <td>?</td>\n",
       "      <td>1952</td>\n",
       "      <td>8</td>\n",
       "      <td>당 중앙위</td>\n",
       "      <td>정치위원</td>\n",
       "    </tr>\n",
       "  </tbody>\n",
       "</table>\n",
       "</div>"
      ],
      "text/plain": [
       "  CareerStringID                          CareerString CareerSubstring  \\\n",
       "0          147.1  1952. 8 당 중앙위 부위원장, 정치위원, 군사위원, 상무위원      당 중앙위 부위원장   \n",
       "1          147.2  1952. 8 당 중앙위 부위원장, 정치위원, 군사위원, 상무위원               ?   \n",
       "\n",
       "  CareerStartYear CareerStartMonth OrgString PositionString  \n",
       "0            1952                8     당 중앙위           부위원장  \n",
       "1            1952                8     당 중앙위           정치위원  "
      ]
     },
     "execution_count": 28,
     "metadata": {},
     "output_type": "execute_result"
    }
   ],
   "source": [
    "job_str_merged[0:2]"
   ]
  },
  {
   "cell_type": "code",
   "execution_count": 34,
   "metadata": {},
   "outputs": [],
   "source": [
    "job_str_merged.CareerStringID = job_str_merged.CareerStringID.astype(\"float\")"
   ]
  },
  {
   "cell_type": "code",
   "execution_count": 35,
   "metadata": {},
   "outputs": [
    {
     "data": {
      "text/html": [
       "<div>\n",
       "<style scoped>\n",
       "    .dataframe tbody tr th:only-of-type {\n",
       "        vertical-align: middle;\n",
       "    }\n",
       "\n",
       "    .dataframe tbody tr th {\n",
       "        vertical-align: top;\n",
       "    }\n",
       "\n",
       "    .dataframe thead th {\n",
       "        text-align: right;\n",
       "    }\n",
       "</style>\n",
       "<table border=\"1\" class=\"dataframe\">\n",
       "  <thead>\n",
       "    <tr style=\"text-align: right;\">\n",
       "      <th></th>\n",
       "      <th>CareerStringID</th>\n",
       "      <th>CareerString</th>\n",
       "      <th>CareerSubstring</th>\n",
       "      <th>CareerStartYear</th>\n",
       "      <th>CareerStartMonth</th>\n",
       "      <th>OrgString</th>\n",
       "      <th>PositionString</th>\n",
       "    </tr>\n",
       "  </thead>\n",
       "  <tbody>\n",
       "    <tr>\n",
       "      <th>0</th>\n",
       "      <td>1.0</td>\n",
       "      <td>개성공단 남북공동위원회 통행통신통관 분과위원회</td>\n",
       "      <td>NaN</td>\n",
       "      <td>2013</td>\n",
       "      <td>9</td>\n",
       "      <td>개성공단 남북공동위원회 통행통신통관 분과위원회</td>\n",
       "      <td>NaN</td>\n",
       "    </tr>\n",
       "    <tr>\n",
       "      <th>1</th>\n",
       "      <td>2.0</td>\n",
       "      <td>근로단체부장 해임 * 후임: 리일환</td>\n",
       "      <td>NaN</td>\n",
       "      <td>NaN</td>\n",
       "      <td>NaN</td>\n",
       "      <td>근로단체</td>\n",
       "      <td>부장</td>\n",
       "    </tr>\n",
       "  </tbody>\n",
       "</table>\n",
       "</div>"
      ],
      "text/plain": [
       "   CareerStringID                CareerString CareerSubstring CareerStartYear  \\\n",
       "0             1.0   개성공단 남북공동위원회 통행통신통관 분과위원회             NaN            2013   \n",
       "1             2.0         근로단체부장 해임 * 후임: 리일환             NaN             NaN   \n",
       "\n",
       "  CareerStartMonth                  OrgString PositionString  \n",
       "0                9  개성공단 남북공동위원회 통행통신통관 분과위원회            NaN  \n",
       "1              NaN                       근로단체             부장  "
      ]
     },
     "execution_count": 35,
     "metadata": {},
     "output_type": "execute_result"
    }
   ],
   "source": [
    "# sort by CareerStringID\n",
    "job_str_merged.sort_values(\"CareerStringID\",inplace=True,ignore_index=True)\n",
    "job_str_merged[0:2]"
   ]
  },
  {
   "cell_type": "markdown",
   "metadata": {},
   "source": [
    "# output job_str merged & unique org & position list"
   ]
  },
  {
   "cell_type": "code",
   "execution_count": 49,
   "metadata": {},
   "outputs": [],
   "source": [
    "orgstr_posstr_unique = job_str_merged[[\"OrgString\",\"PositionString\"]].drop_duplicates()\n",
    "orgstr_unique = job_str_merged[[\"OrgString\"]].drop_duplicates()\n",
    "posstr_unique = job_str_merged[[\"PositionString\"]].drop_duplicates()"
   ]
  },
  {
   "cell_type": "code",
   "execution_count": 50,
   "metadata": {},
   "outputs": [
    {
     "data": {
      "text/plain": [
       "(3156, 2)"
      ]
     },
     "execution_count": 50,
     "metadata": {},
     "output_type": "execute_result"
    }
   ],
   "source": [
    "orgstr_posstr_unique.shape"
   ]
  },
  {
   "cell_type": "code",
   "execution_count": 51,
   "metadata": {},
   "outputs": [
    {
     "data": {
      "text/plain": [
       "(1995, 1)"
      ]
     },
     "execution_count": 51,
     "metadata": {},
     "output_type": "execute_result"
    }
   ],
   "source": [
    "orgstr_unique.shape"
   ]
  },
  {
   "cell_type": "code",
   "execution_count": 52,
   "metadata": {},
   "outputs": [
    {
     "data": {
      "text/plain": [
       "(412, 1)"
      ]
     },
     "execution_count": 52,
     "metadata": {},
     "output_type": "execute_result"
    }
   ],
   "source": [
    "posstr_unique.shape"
   ]
  },
  {
   "cell_type": "code",
   "execution_count": 55,
   "metadata": {},
   "outputs": [],
   "source": [
    "# output org, pos, orgpos prelim db\n",
    "orgstr_posstr_unique.to_excel(pathout_orgtree+fileout_orgpos_prelim,index=False,encoding=\"utf-8\")\n",
    "orgstr_unique.to_excel(pathout_orgtree+fileout_org_prelim,index=False,encoding=\"utf-8\")\n",
    "posstr_unique.to_excel(pathout_orgtree+fileout_pos_prelim,index=False,encoding=\"utf-8\")"
   ]
  },
  {
   "cell_type": "code",
   "execution_count": 59,
   "metadata": {},
   "outputs": [],
   "source": [
    "# output job_str merged prelim db\n",
    "job_str_merged.to_excel(pathout_job_str+fileout_jobstr_merged_prelim,index=False,encoding=\"utf-8\")"
   ]
  },
  {
   "cell_type": "code",
   "execution_count": null,
   "metadata": {},
   "outputs": [],
   "source": []
  }
 ],
 "metadata": {
  "kernelspec": {
   "display_name": "Python 3",
   "language": "python",
   "name": "python3"
  },
  "language_info": {
   "codemirror_mode": {
    "name": "ipython",
    "version": 3
   },
   "file_extension": ".py",
   "mimetype": "text/x-python",
   "name": "python",
   "nbconvert_exporter": "python",
   "pygments_lexer": "ipython3",
   "version": "3.7.3"
  }
 },
 "nbformat": 4,
 "nbformat_minor": 4
}
