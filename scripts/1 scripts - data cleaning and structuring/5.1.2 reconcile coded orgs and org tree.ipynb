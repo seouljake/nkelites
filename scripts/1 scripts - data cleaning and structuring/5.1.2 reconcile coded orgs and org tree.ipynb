{
 "cells": [
  {
   "cell_type": "markdown",
   "metadata": {},
   "source": [
    "# libraries & global vars"
   ]
  },
  {
   "cell_type": "code",
   "execution_count": 121,
   "metadata": {},
   "outputs": [],
   "source": [
    "import pandas as pd\n",
    "import numpy as np\n",
    "pd.set_option('display.max_rows', None)"
   ]
  },
  {
   "cell_type": "markdown",
   "metadata": {},
   "source": [
    "# io orgtree & org codes"
   ]
  },
  {
   "cell_type": "code",
   "execution_count": 122,
   "metadata": {},
   "outputs": [],
   "source": [
    "path_org_str = \"C:/Users/seoul/Dropbox/00 technical/github/nkelites/data/combined data/combined data - 1 cleaning/cleaning step 5 - orgtree/\""
   ]
  },
  {
   "cell_type": "code",
   "execution_count": 172,
   "metadata": {},
   "outputs": [],
   "source": [
    "filein_org_tree = \"orgtree1_1.xlsx\""
   ]
  },
  {
   "cell_type": "code",
   "execution_count": 173,
   "metadata": {},
   "outputs": [],
   "source": [
    "filein_org_code = \"job_db_1_orglist_1tocode_2.xlsx\""
   ]
  },
  {
   "cell_type": "code",
   "execution_count": 174,
   "metadata": {},
   "outputs": [],
   "source": [
    "fileout_org_tree_concise = \"orgtree1_2.xlsx\""
   ]
  },
  {
   "cell_type": "code",
   "execution_count": 176,
   "metadata": {},
   "outputs": [],
   "source": [
    "fileout_org_code = \"job_db_1_orglist_1tocode_3_Jeongsu.xlsx\""
   ]
  },
  {
   "cell_type": "markdown",
   "metadata": {},
   "source": [
    "# import newly parsed unique & multi strings"
   ]
  },
  {
   "cell_type": "code",
   "execution_count": 127,
   "metadata": {},
   "outputs": [],
   "source": [
    "# read in orgtree db\n",
    "orgtree_party = pd.read_excel(path_org_str+filein_org_tree,dtype=\"str\",sheet_name=\"노동당\")\n",
    "orgtree_outside = pd.read_excel(path_org_str+filein_org_tree,dtype=\"str\",sheet_name=\"당외곽\")\n",
    "orgtree_govt = pd.read_excel(path_org_str+filein_org_tree,dtype=\"str\",sheet_name=\"정권기관\")\n",
    "orgtree_army = pd.read_excel(path_org_str+filein_org_tree,dtype=\"str\",sheet_name=\"인민군\")"
   ]
  },
  {
   "cell_type": "code",
   "execution_count": 128,
   "metadata": {},
   "outputs": [
    {
     "data": {
      "text/plain": [
       "(149, 10)"
      ]
     },
     "execution_count": 128,
     "metadata": {},
     "output_type": "execute_result"
    }
   ],
   "source": [
    "orgtree_party.shape"
   ]
  },
  {
   "cell_type": "code",
   "execution_count": 129,
   "metadata": {},
   "outputs": [
    {
     "data": {
      "text/plain": [
       "(582, 10)"
      ]
     },
     "execution_count": 129,
     "metadata": {},
     "output_type": "execute_result"
    }
   ],
   "source": [
    "orgtree_govt.shape"
   ]
  },
  {
   "cell_type": "code",
   "execution_count": 130,
   "metadata": {},
   "outputs": [
    {
     "data": {
      "text/plain": [
       "(289, 10)"
      ]
     },
     "execution_count": 130,
     "metadata": {},
     "output_type": "execute_result"
    }
   ],
   "source": [
    "orgtree_army.shape"
   ]
  },
  {
   "cell_type": "code",
   "execution_count": 132,
   "metadata": {},
   "outputs": [
    {
     "data": {
      "text/plain": [
       "(391, 10)"
      ]
     },
     "execution_count": 132,
     "metadata": {},
     "output_type": "execute_result"
    }
   ],
   "source": [
    "orgtree_outside.shape"
   ]
  },
  {
   "cell_type": "code",
   "execution_count": 133,
   "metadata": {},
   "outputs": [],
   "source": [
    "orgtree_party.columns = orgtree_govt.columns"
   ]
  },
  {
   "cell_type": "code",
   "execution_count": 134,
   "metadata": {},
   "outputs": [],
   "source": [
    "orgtree_army.columns = orgtree_govt.columns"
   ]
  },
  {
   "cell_type": "code",
   "execution_count": 135,
   "metadata": {},
   "outputs": [],
   "source": [
    "orgtree_outside.columns = orgtree_govt.columns"
   ]
  },
  {
   "cell_type": "code",
   "execution_count": 136,
   "metadata": {},
   "outputs": [
    {
     "data": {
      "text/plain": [
       "Index(['ID', 'Org1', 'Org2', 'Org3', 'Org4', 'Org5', 'LinkToCurrent',\n",
       "       'StatusUncertain', 'org1 error', '비고'],\n",
       "      dtype='object')"
      ]
     },
     "execution_count": 136,
     "metadata": {},
     "output_type": "execute_result"
    }
   ],
   "source": [
    "orgtree_party.columns"
   ]
  },
  {
   "cell_type": "code",
   "execution_count": 137,
   "metadata": {},
   "outputs": [],
   "source": [
    "orgtree_inside = pd.concat([orgtree_party,orgtree_army,orgtree_party,orgtree_govt])"
   ]
  },
  {
   "cell_type": "code",
   "execution_count": 138,
   "metadata": {},
   "outputs": [],
   "source": [
    "orgtree_inside[\"InsideGov\"] = True"
   ]
  },
  {
   "cell_type": "code",
   "execution_count": 139,
   "metadata": {},
   "outputs": [],
   "source": [
    "orgtree_outside[\"InsideGov\"] = False"
   ]
  },
  {
   "cell_type": "code",
   "execution_count": 140,
   "metadata": {},
   "outputs": [],
   "source": [
    "orgtree = pd.concat([orgtree_inside,orgtree_outside])"
   ]
  },
  {
   "cell_type": "code",
   "execution_count": 141,
   "metadata": {},
   "outputs": [],
   "source": [
    "orgtree.columns = ['ID', 'PrimaryInstitution', 'Org2', 'Org3', 'Org4', 'Org5', 'LinkToCurrent',\n",
    "       'StatusUncertain', 'org1 error', '비고', 'InsideGov']"
   ]
  },
  {
   "cell_type": "code",
   "execution_count": 142,
   "metadata": {},
   "outputs": [],
   "source": [
    "orgtree[\"OrgName\"] = orgtree[[\"Org2\",\"Org3\",\"Org4\",\"Org5\"]].apply(lambda row: \"_\".join([str(item) for item in [row[\"Org2\"],row[\"Org3\"],row[\"Org4\"],row[\"Org5\"]] if item is not np.nan]),axis=1)"
   ]
  },
  {
   "cell_type": "code",
   "execution_count": 143,
   "metadata": {},
   "outputs": [],
   "source": [
    "orgtree[\"ImmediateSuperiorOrg\"] = orgtree[\"OrgName\"].apply(lambda row: \"_\".join(row.split(\"_\")[:-1]))"
   ]
  },
  {
   "cell_type": "code",
   "execution_count": 144,
   "metadata": {},
   "outputs": [],
   "source": [
    "select_columns = [\"ID\",\"InsideGov\",\n",
    "                  \"PrimaryInstitution\",\"OrgName\",\"ImmediateSuperiorOrg\",\n",
    "                  \"LinkToCurrent\",\"StatusUncertain\",\"org1 error\",\"비고\"]\n",
    "orgtree_concise = orgtree[select_columns]"
   ]
  },
  {
   "cell_type": "markdown",
   "metadata": {},
   "source": [
    "# orgtree_concise - recursively add ImmedSuperiorOrgs, drop duplicates, sort"
   ]
  },
  {
   "cell_type": "code",
   "execution_count": 145,
   "metadata": {},
   "outputs": [],
   "source": [
    "orgtree = orgtree_concise"
   ]
  },
  {
   "cell_type": "code",
   "execution_count": 146,
   "metadata": {},
   "outputs": [
    {
     "data": {
      "text/html": [
       "<div>\n",
       "<style scoped>\n",
       "    .dataframe tbody tr th:only-of-type {\n",
       "        vertical-align: middle;\n",
       "    }\n",
       "\n",
       "    .dataframe tbody tr th {\n",
       "        vertical-align: top;\n",
       "    }\n",
       "\n",
       "    .dataframe thead th {\n",
       "        text-align: right;\n",
       "    }\n",
       "</style>\n",
       "<table border=\"1\" class=\"dataframe\">\n",
       "  <thead>\n",
       "    <tr style=\"text-align: right;\">\n",
       "      <th></th>\n",
       "      <th>ID</th>\n",
       "      <th>InsideGov</th>\n",
       "      <th>PrimaryInstitution</th>\n",
       "      <th>OrgName</th>\n",
       "      <th>ImmediateSuperiorOrg</th>\n",
       "      <th>LinkToCurrent</th>\n",
       "      <th>StatusUncertain</th>\n",
       "      <th>org1 error</th>\n",
       "      <th>비고</th>\n",
       "    </tr>\n",
       "  </thead>\n",
       "  <tbody>\n",
       "    <tr>\n",
       "      <th>0</th>\n",
       "      <td>1</td>\n",
       "      <td>True</td>\n",
       "      <td>당중앙군사위원회</td>\n",
       "      <td></td>\n",
       "      <td></td>\n",
       "      <td>Current</td>\n",
       "      <td>NaN</td>\n",
       "      <td>NaN</td>\n",
       "      <td>NaN</td>\n",
       "    </tr>\n",
       "    <tr>\n",
       "      <th>1</th>\n",
       "      <td>2</td>\n",
       "      <td>True</td>\n",
       "      <td>당중앙검사위원회</td>\n",
       "      <td></td>\n",
       "      <td></td>\n",
       "      <td>Current</td>\n",
       "      <td>NaN</td>\n",
       "      <td>NaN</td>\n",
       "      <td>NaN</td>\n",
       "    </tr>\n",
       "  </tbody>\n",
       "</table>\n",
       "</div>"
      ],
      "text/plain": [
       "  ID  InsideGov PrimaryInstitution OrgName ImmediateSuperiorOrg LinkToCurrent  \\\n",
       "0  1       True           당중앙군사위원회                                    Current   \n",
       "1  2       True           당중앙검사위원회                                    Current   \n",
       "\n",
       "  StatusUncertain org1 error   비고  \n",
       "0             NaN        NaN  NaN  \n",
       "1             NaN        NaN  NaN  "
      ]
     },
     "execution_count": 146,
     "metadata": {},
     "output_type": "execute_result"
    }
   ],
   "source": [
    "orgtree[0:2]"
   ]
  },
  {
   "cell_type": "code",
   "execution_count": 147,
   "metadata": {},
   "outputs": [
    {
     "name": "stderr",
     "output_type": "stream",
     "text": [
      "C:\\Users\\seoul\\AppData\\Local\\Temp\\ipykernel_15364\\1535604282.py:2: SettingWithCopyWarning: \n",
      "A value is trying to be set on a copy of a slice from a DataFrame.\n",
      "Try using .loc[row_indexer,col_indexer] = value instead\n",
      "\n",
      "See the caveats in the documentation: https://pandas.pydata.org/pandas-docs/stable/user_guide/indexing.html#returning-a-view-versus-a-copy\n",
      "  orgtree_2order.OrgName = orgtree_2order.OrgName.apply(lambda x: \"_\".join(x.split(\"_\")[:-1]))\n"
     ]
    },
    {
     "data": {
      "text/plain": [
       "(869, 9)"
      ]
     },
     "execution_count": 147,
     "metadata": {},
     "output_type": "execute_result"
    }
   ],
   "source": [
    "orgtree_2order = orgtree[orgtree.OrgName.str.contains(\"_\")]\n",
    "orgtree_2order.OrgName = orgtree_2order.OrgName.apply(lambda x: \"_\".join(x.split(\"_\")[:-1]))\n",
    "orgtree_2order.shape"
   ]
  },
  {
   "cell_type": "code",
   "execution_count": 148,
   "metadata": {},
   "outputs": [
    {
     "name": "stderr",
     "output_type": "stream",
     "text": [
      "C:\\Users\\seoul\\AppData\\Local\\Temp\\ipykernel_15364\\1266295804.py:2: SettingWithCopyWarning: \n",
      "A value is trying to be set on a copy of a slice from a DataFrame.\n",
      "Try using .loc[row_indexer,col_indexer] = value instead\n",
      "\n",
      "See the caveats in the documentation: https://pandas.pydata.org/pandas-docs/stable/user_guide/indexing.html#returning-a-view-versus-a-copy\n",
      "  orgtree_3order.OrgName = orgtree_3order.OrgName.apply(lambda x: \"_\".join(x.split(\"_\")[:-1]))\n"
     ]
    },
    {
     "data": {
      "text/plain": [
       "(381, 9)"
      ]
     },
     "execution_count": 148,
     "metadata": {},
     "output_type": "execute_result"
    }
   ],
   "source": [
    "orgtree_3order = orgtree_2order[orgtree_2order.OrgName.str.contains(\"_\")]\n",
    "orgtree_3order.OrgName = orgtree_3order.OrgName.apply(lambda x: \"_\".join(x.split(\"_\")[:-1]))\n",
    "orgtree_3order.shape"
   ]
  },
  {
   "cell_type": "code",
   "execution_count": 149,
   "metadata": {},
   "outputs": [
    {
     "name": "stderr",
     "output_type": "stream",
     "text": [
      "C:\\Users\\seoul\\AppData\\Local\\Temp\\ipykernel_15364\\1114847744.py:2: SettingWithCopyWarning: \n",
      "A value is trying to be set on a copy of a slice from a DataFrame.\n",
      "Try using .loc[row_indexer,col_indexer] = value instead\n",
      "\n",
      "See the caveats in the documentation: https://pandas.pydata.org/pandas-docs/stable/user_guide/indexing.html#returning-a-view-versus-a-copy\n",
      "  orgtree_4order.OrgName = orgtree_4order.OrgName.apply(lambda x: \"_\".join(x.split(\"_\")[:-1]))\n"
     ]
    },
    {
     "data": {
      "text/plain": [
       "(54, 9)"
      ]
     },
     "execution_count": 149,
     "metadata": {},
     "output_type": "execute_result"
    }
   ],
   "source": [
    "orgtree_4order = orgtree_3order[orgtree_3order.OrgName.str.contains(\"_\")]\n",
    "orgtree_4order.OrgName = orgtree_4order.OrgName.apply(lambda x: \"_\".join(x.split(\"_\")[:-1]))\n",
    "orgtree_4order.shape"
   ]
  },
  {
   "cell_type": "code",
   "execution_count": 150,
   "metadata": {},
   "outputs": [
    {
     "data": {
      "text/plain": [
       "(0, 9)"
      ]
     },
     "execution_count": 150,
     "metadata": {},
     "output_type": "execute_result"
    }
   ],
   "source": [
    "orgtree_5order = orgtree_4order[orgtree_4order.OrgName.str.contains(\"_\")]\n",
    "orgtree_5order.shape"
   ]
  },
  {
   "cell_type": "code",
   "execution_count": 151,
   "metadata": {},
   "outputs": [
    {
     "data": {
      "text/plain": [
       "(2864, 9)"
      ]
     },
     "execution_count": 151,
     "metadata": {},
     "output_type": "execute_result"
    }
   ],
   "source": [
    "# concatenate 1,2,3,4 order\n",
    "orgtree = pd.concat([orgtree,orgtree_2order,orgtree_3order,orgtree_4order])\n",
    "orgtree.shape"
   ]
  },
  {
   "cell_type": "code",
   "execution_count": 152,
   "metadata": {},
   "outputs": [],
   "source": [
    "orgtree.loc[orgtree.OrgName.str.contains(\"_\"),\"ImmediateSuperiorOrg\"] = orgtree.loc[orgtree.OrgName.str.contains(\"_\"),\"OrgName\"].apply(lambda x: \"_\".join(x.split(\"_\")[:-1]))"
   ]
  },
  {
   "cell_type": "code",
   "execution_count": 153,
   "metadata": {},
   "outputs": [
    {
     "data": {
      "text/plain": [
       "(2570, 9)"
      ]
     },
     "execution_count": 153,
     "metadata": {},
     "output_type": "execute_result"
    }
   ],
   "source": [
    "# drop duplicates\n",
    "orgtree.drop_duplicates(inplace=True)\n",
    "orgtree.shape"
   ]
  },
  {
   "cell_type": "code",
   "execution_count": 154,
   "metadata": {},
   "outputs": [],
   "source": [
    "# sort\n",
    "orgtree.sort_values([\"InsideGov\",\"PrimaryInstitution\",\"OrgName\"],ascending=False,inplace=True)"
   ]
  },
  {
   "cell_type": "code",
   "execution_count": 155,
   "metadata": {},
   "outputs": [
    {
     "data": {
      "text/html": [
       "<div>\n",
       "<style scoped>\n",
       "    .dataframe tbody tr th:only-of-type {\n",
       "        vertical-align: middle;\n",
       "    }\n",
       "\n",
       "    .dataframe tbody tr th {\n",
       "        vertical-align: top;\n",
       "    }\n",
       "\n",
       "    .dataframe thead th {\n",
       "        text-align: right;\n",
       "    }\n",
       "</style>\n",
       "<table border=\"1\" class=\"dataframe\">\n",
       "  <thead>\n",
       "    <tr style=\"text-align: right;\">\n",
       "      <th></th>\n",
       "      <th>ID</th>\n",
       "      <th>InsideGov</th>\n",
       "      <th>PrimaryInstitution</th>\n",
       "      <th>OrgName</th>\n",
       "      <th>ImmediateSuperiorOrg</th>\n",
       "      <th>LinkToCurrent</th>\n",
       "      <th>StatusUncertain</th>\n",
       "      <th>org1 error</th>\n",
       "      <th>비고</th>\n",
       "    </tr>\n",
       "  </thead>\n",
       "  <tbody>\n",
       "    <tr>\n",
       "      <th>539</th>\n",
       "      <td>O_519</td>\n",
       "      <td>True</td>\n",
       "      <td>최고재판소</td>\n",
       "      <td></td>\n",
       "      <td></td>\n",
       "      <td>N-75</td>\n",
       "      <td>NaN</td>\n",
       "      <td>NaN</td>\n",
       "      <td>NaN</td>\n",
       "    </tr>\n",
       "    <tr>\n",
       "      <th>537</th>\n",
       "      <td>O_517</td>\n",
       "      <td>True</td>\n",
       "      <td>최고인민회의</td>\n",
       "      <td>황해북도인민위원회_개성시인민위원회</td>\n",
       "      <td>황해북도인민위원회</td>\n",
       "      <td>NaN</td>\n",
       "      <td>NaN</td>\n",
       "      <td>NaN</td>\n",
       "      <td>NaN</td>\n",
       "    </tr>\n",
       "    <tr>\n",
       "      <th>537</th>\n",
       "      <td>O_517</td>\n",
       "      <td>True</td>\n",
       "      <td>최고인민회의</td>\n",
       "      <td>황해북도인민위원회</td>\n",
       "      <td>황해북도인민위원회</td>\n",
       "      <td>NaN</td>\n",
       "      <td>NaN</td>\n",
       "      <td>NaN</td>\n",
       "      <td>NaN</td>\n",
       "    </tr>\n",
       "    <tr>\n",
       "      <th>535</th>\n",
       "      <td>O_515</td>\n",
       "      <td>True</td>\n",
       "      <td>최고인민회의</td>\n",
       "      <td>황해북도 인민위원회_서흥군 인민위원회</td>\n",
       "      <td>황해북도 인민위원회</td>\n",
       "      <td>NaN</td>\n",
       "      <td>NaN</td>\n",
       "      <td>NaN</td>\n",
       "      <td>NaN</td>\n",
       "    </tr>\n",
       "    <tr>\n",
       "      <th>536</th>\n",
       "      <td>O_516</td>\n",
       "      <td>True</td>\n",
       "      <td>최고인민회의</td>\n",
       "      <td>황해북도 인민위원회</td>\n",
       "      <td></td>\n",
       "      <td>NaN</td>\n",
       "      <td>NaN</td>\n",
       "      <td>NaN</td>\n",
       "      <td>NaN</td>\n",
       "    </tr>\n",
       "    <tr>\n",
       "      <th>535</th>\n",
       "      <td>O_515</td>\n",
       "      <td>True</td>\n",
       "      <td>최고인민회의</td>\n",
       "      <td>황해북도 인민위원회</td>\n",
       "      <td>황해북도 인민위원회</td>\n",
       "      <td>NaN</td>\n",
       "      <td>NaN</td>\n",
       "      <td>NaN</td>\n",
       "      <td>NaN</td>\n",
       "    </tr>\n",
       "    <tr>\n",
       "      <th>534</th>\n",
       "      <td>O_514</td>\n",
       "      <td>True</td>\n",
       "      <td>최고인민회의</td>\n",
       "      <td>황해남도 인민위원회</td>\n",
       "      <td></td>\n",
       "      <td>NaN</td>\n",
       "      <td>NaN</td>\n",
       "      <td>NaN</td>\n",
       "      <td>NaN</td>\n",
       "    </tr>\n",
       "    <tr>\n",
       "      <th>533</th>\n",
       "      <td>O_513</td>\n",
       "      <td>True</td>\n",
       "      <td>최고인민회의</td>\n",
       "      <td>함경북도 인민위원회</td>\n",
       "      <td></td>\n",
       "      <td>NaN</td>\n",
       "      <td>NaN</td>\n",
       "      <td>NaN</td>\n",
       "      <td>NaN</td>\n",
       "    </tr>\n",
       "    <tr>\n",
       "      <th>532</th>\n",
       "      <td>O_512</td>\n",
       "      <td>True</td>\n",
       "      <td>최고인민회의</td>\n",
       "      <td>함경도 인민위원회</td>\n",
       "      <td></td>\n",
       "      <td>NaN</td>\n",
       "      <td>NaN</td>\n",
       "      <td>NaN</td>\n",
       "      <td>NaN</td>\n",
       "    </tr>\n",
       "    <tr>\n",
       "      <th>531</th>\n",
       "      <td>O_511</td>\n",
       "      <td>True</td>\n",
       "      <td>최고인민회의</td>\n",
       "      <td>함경남도 인민위원회</td>\n",
       "      <td></td>\n",
       "      <td>NaN</td>\n",
       "      <td>NaN</td>\n",
       "      <td>NaN</td>\n",
       "      <td>NaN</td>\n",
       "    </tr>\n",
       "  </tbody>\n",
       "</table>\n",
       "</div>"
      ],
      "text/plain": [
       "        ID  InsideGov PrimaryInstitution               OrgName  \\\n",
       "539  O_519       True              최고재판소                         \n",
       "537  O_517       True             최고인민회의    황해북도인민위원회_개성시인민위원회   \n",
       "537  O_517       True             최고인민회의             황해북도인민위원회   \n",
       "535  O_515       True             최고인민회의  황해북도 인민위원회_서흥군 인민위원회   \n",
       "536  O_516       True             최고인민회의            황해북도 인민위원회   \n",
       "535  O_515       True             최고인민회의            황해북도 인민위원회   \n",
       "534  O_514       True             최고인민회의            황해남도 인민위원회   \n",
       "533  O_513       True             최고인민회의            함경북도 인민위원회   \n",
       "532  O_512       True             최고인민회의             함경도 인민위원회   \n",
       "531  O_511       True             최고인민회의            함경남도 인민위원회   \n",
       "\n",
       "    ImmediateSuperiorOrg LinkToCurrent StatusUncertain org1 error   비고  \n",
       "539                               N-75             NaN        NaN  NaN  \n",
       "537            황해북도인민위원회           NaN             NaN        NaN  NaN  \n",
       "537            황해북도인민위원회           NaN             NaN        NaN  NaN  \n",
       "535           황해북도 인민위원회           NaN             NaN        NaN  NaN  \n",
       "536                                NaN             NaN        NaN  NaN  \n",
       "535           황해북도 인민위원회           NaN             NaN        NaN  NaN  \n",
       "534                                NaN             NaN        NaN  NaN  \n",
       "533                                NaN             NaN        NaN  NaN  \n",
       "532                                NaN             NaN        NaN  NaN  \n",
       "531                                NaN             NaN        NaN  NaN  "
      ]
     },
     "execution_count": 155,
     "metadata": {},
     "output_type": "execute_result"
    }
   ],
   "source": [
    "orgtree[0:10]"
   ]
  },
  {
   "cell_type": "markdown",
   "metadata": {},
   "source": [
    "# export orgtree_concise"
   ]
  },
  {
   "cell_type": "code",
   "execution_count": 157,
   "metadata": {},
   "outputs": [],
   "source": [
    "orgtree.to_excel(path_org_str+fileout_org_tree_concise,index=False)"
   ]
  },
  {
   "cell_type": "markdown",
   "metadata": {},
   "source": [
    "# clean up Mail Lee's coded orgs for Jeongsu"
   ]
  },
  {
   "cell_type": "code",
   "execution_count": 158,
   "metadata": {},
   "outputs": [
    {
     "data": {
      "text/plain": [
       "(3015, 9)"
      ]
     },
     "execution_count": 158,
     "metadata": {},
     "output_type": "execute_result"
    }
   ],
   "source": [
    "orgcode = pd.read_excel(path_org_str+filein_org_code)\n",
    "orgcode.dropna()\n",
    "orgcode.shape"
   ]
  },
  {
   "cell_type": "code",
   "execution_count": 159,
   "metadata": {},
   "outputs": [
    {
     "data": {
      "text/plain": [
       "(90, 9)"
      ]
     },
     "execution_count": 159,
     "metadata": {},
     "output_type": "execute_result"
    }
   ],
   "source": [
    "# remove not jobs\n",
    "orgcode_notjob = orgcode[~orgcode.NotJob.isna()]\n",
    "orgcode_notjob.shape"
   ]
  },
  {
   "cell_type": "code",
   "execution_count": 160,
   "metadata": {},
   "outputs": [
    {
     "data": {
      "text/plain": [
       "(2, 9)"
      ]
     },
     "execution_count": 160,
     "metadata": {},
     "output_type": "execute_result"
    }
   ],
   "source": [
    "# remove incorrectly coded\n",
    "orgcode_incorrect = orgcode[~orgcode.IncorrectlyCoded.isna()]\n",
    "orgcode_incorrect.shape"
   ]
  },
  {
   "cell_type": "code",
   "execution_count": 161,
   "metadata": {},
   "outputs": [
    {
     "data": {
      "text/plain": [
       "(13, 9)"
      ]
     },
     "execution_count": 161,
     "metadata": {},
     "output_type": "execute_result"
    }
   ],
   "source": [
    "# remove multiple substring\n",
    "orgcode_multsubstr = orgcode[~orgcode.MultipleSubstring.isna()]\n",
    "orgcode_multsubstr.shape"
   ]
  },
  {
   "cell_type": "code",
   "execution_count": 162,
   "metadata": {},
   "outputs": [
    {
     "data": {
      "text/plain": [
       "(2910, 9)"
      ]
     },
     "execution_count": 162,
     "metadata": {},
     "output_type": "execute_result"
    }
   ],
   "source": [
    "orgcode = orgcode[(orgcode.NotJob.isna()) & (orgcode.IncorrectlyCoded.isna()) & (orgcode.MultipleSubstring.isna())]\n",
    "orgcode.shape"
   ]
  },
  {
   "cell_type": "code",
   "execution_count": 163,
   "metadata": {},
   "outputs": [],
   "source": [
    "orgcode.OrgName = orgcode.OrgName.apply(lambda x:\"_\".join(str(x).split(\" \")))"
   ]
  },
  {
   "cell_type": "code",
   "execution_count": 164,
   "metadata": {},
   "outputs": [],
   "source": [
    "orgcode[\"InOrgTree\"] = False"
   ]
  },
  {
   "cell_type": "code",
   "execution_count": 165,
   "metadata": {},
   "outputs": [],
   "source": [
    "orgcode.drop(columns=[\"NotJob\",\"IncorrectlyCoded\",\"MultipleSubstring\"],inplace=True,axis=1)"
   ]
  },
  {
   "cell_type": "markdown",
   "metadata": {},
   "source": [
    "# check coded orgs in org tree "
   ]
  },
  {
   "cell_type": "code",
   "execution_count": 166,
   "metadata": {},
   "outputs": [
    {
     "data": {
      "text/html": [
       "<div>\n",
       "<style scoped>\n",
       "    .dataframe tbody tr th:only-of-type {\n",
       "        vertical-align: middle;\n",
       "    }\n",
       "\n",
       "    .dataframe tbody tr th {\n",
       "        vertical-align: top;\n",
       "    }\n",
       "\n",
       "    .dataframe thead th {\n",
       "        text-align: right;\n",
       "    }\n",
       "</style>\n",
       "<table border=\"1\" class=\"dataframe\">\n",
       "  <thead>\n",
       "    <tr style=\"text-align: right;\">\n",
       "      <th></th>\n",
       "      <th>ID</th>\n",
       "      <th>InsideGov</th>\n",
       "      <th>PrimaryInstitution</th>\n",
       "      <th>OrgName</th>\n",
       "      <th>ImmediateSuperiorOrg</th>\n",
       "      <th>LinkToCurrent</th>\n",
       "      <th>StatusUncertain</th>\n",
       "      <th>org1 error</th>\n",
       "      <th>비고</th>\n",
       "    </tr>\n",
       "  </thead>\n",
       "  <tbody>\n",
       "    <tr>\n",
       "      <th>539</th>\n",
       "      <td>O_519</td>\n",
       "      <td>True</td>\n",
       "      <td>최고재판소</td>\n",
       "      <td></td>\n",
       "      <td></td>\n",
       "      <td>N-75</td>\n",
       "      <td>NaN</td>\n",
       "      <td>NaN</td>\n",
       "      <td>NaN</td>\n",
       "    </tr>\n",
       "  </tbody>\n",
       "</table>\n",
       "</div>"
      ],
      "text/plain": [
       "        ID  InsideGov PrimaryInstitution OrgName ImmediateSuperiorOrg  \\\n",
       "539  O_519       True              최고재판소                                \n",
       "\n",
       "    LinkToCurrent StatusUncertain org1 error   비고  \n",
       "539          N-75             NaN        NaN  NaN  "
      ]
     },
     "execution_count": 166,
     "metadata": {},
     "output_type": "execute_result"
    }
   ],
   "source": [
    "orgtree[0:1]"
   ]
  },
  {
   "cell_type": "code",
   "execution_count": 167,
   "metadata": {},
   "outputs": [],
   "source": [
    "orgtreemerge = orgtree[[\"ID\",\"PrimaryInstitution\",\"OrgName\"]]"
   ]
  },
  {
   "cell_type": "code",
   "execution_count": 168,
   "metadata": {},
   "outputs": [
    {
     "data": {
      "text/plain": [
       "(9463, 8)"
      ]
     },
     "execution_count": 168,
     "metadata": {},
     "output_type": "execute_result"
    }
   ],
   "source": [
    "orgcode = orgcode.merge(orgtreemerge,how=\"left\",on=[\"PrimaryInstitution\",\"OrgName\"])\n",
    "orgcode.shape"
   ]
  },
  {
   "cell_type": "code",
   "execution_count": 169,
   "metadata": {},
   "outputs": [],
   "source": [
    "orgcode.loc[~orgcode.ID.isna(),\"InOrgTree\"] = True"
   ]
  },
  {
   "cell_type": "code",
   "execution_count": 170,
   "metadata": {},
   "outputs": [
    {
     "data": {
      "text/plain": [
       "(9463, 8)"
      ]
     },
     "execution_count": 170,
     "metadata": {},
     "output_type": "execute_result"
    }
   ],
   "source": [
    "orgcode.shape"
   ]
  },
  {
   "cell_type": "code",
   "execution_count": 171,
   "metadata": {},
   "outputs": [],
   "source": [
    "orgcode.to_excel(path_org_str+fileout_org_code,index=False)"
   ]
  },
  {
   "cell_type": "code",
   "execution_count": null,
   "metadata": {},
   "outputs": [],
   "source": []
  },
  {
   "cell_type": "code",
   "execution_count": null,
   "metadata": {},
   "outputs": [],
   "source": []
  }
 ],
 "metadata": {
  "kernelspec": {
   "display_name": "Python 3 (ipykernel)",
   "language": "python",
   "name": "python3"
  },
  "language_info": {
   "codemirror_mode": {
    "name": "ipython",
    "version": 3
   },
   "file_extension": ".py",
   "mimetype": "text/x-python",
   "name": "python",
   "nbconvert_exporter": "python",
   "pygments_lexer": "ipython3",
   "version": "3.11.0"
  }
 },
 "nbformat": 4,
 "nbformat_minor": 4
}
