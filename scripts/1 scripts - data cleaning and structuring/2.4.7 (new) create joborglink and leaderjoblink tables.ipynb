{
 "cells": [
  {
   "cell_type": "code",
   "execution_count": 5,
   "id": "74698cf3",
   "metadata": {},
   "outputs": [],
   "source": [
    "import pandas as pd\n",
    "import numpy as np"
   ]
  },
  {
   "cell_type": "markdown",
   "id": "aaf25c71",
   "metadata": {},
   "source": [
    "# combined data - 2 tables"
   ]
  },
  {
   "cell_type": "code",
   "execution_count": 71,
   "id": "f2c9c339",
   "metadata": {},
   "outputs": [],
   "source": [
    "path_tables = \"C:/Users/seoul/Dropbox/00 technical/github/nkelites/data/combined data/combined data - 2 tables/\""
   ]
  },
  {
   "cell_type": "code",
   "execution_count": 72,
   "id": "1c1ab934",
   "metadata": {},
   "outputs": [],
   "source": [
    "filename_leadercareerlink = \"leadercareerlink.xlsx\""
   ]
  },
  {
   "cell_type": "code",
   "execution_count": 73,
   "id": "f86d0874",
   "metadata": {},
   "outputs": [],
   "source": [
    "filename_leaderjoblink = \"leaderjoblink.xlsx\""
   ]
  },
  {
   "cell_type": "code",
   "execution_count": 74,
   "id": "09c3c30a",
   "metadata": {},
   "outputs": [],
   "source": [
    "filename_joborglink = \"joborglink.xlsx\""
   ]
  },
  {
   "cell_type": "markdown",
   "id": "c2a10c37",
   "metadata": {},
   "source": [
    "# combined data - 1 cleaning/cleaning step 2 - career/"
   ]
  },
  {
   "cell_type": "code",
   "execution_count": 75,
   "id": "a9386ddd",
   "metadata": {},
   "outputs": [],
   "source": [
    "path_cleaning = \"C:/Users/seoul/Dropbox/00 technical/github/nkelites/data/combined data/combined data - 1 cleaning/cleaning step 2 - career/\""
   ]
  },
  {
   "cell_type": "code",
   "execution_count": 76,
   "id": "ea8288fa",
   "metadata": {},
   "outputs": [],
   "source": [
    "subpath_2_1 = \"2.1 career_undivided_unparsed_uncoded/\"\n",
    "subpath_2_2 = \"2.2 career_divided_unparsed_uncoded/\"\n",
    "subpath_2_3 = \"2.3 joborglink/\""
   ]
  },
  {
   "cell_type": "code",
   "execution_count": 77,
   "id": "462ea7c6",
   "metadata": {},
   "outputs": [
    {
     "data": {
      "text/plain": [
       "(12985, 4)"
      ]
     },
     "execution_count": 77,
     "metadata": {},
     "output_type": "execute_result"
    }
   ],
   "source": [
    "filein_careerlink = \"career_link_undivided_unparsed_uncoded.xlsx\"\n",
    "careerlink = pd.read_excel(path_cleaning + subpath_2_1 + filein_careerlink)\n",
    "careerlink.shape"
   ]
  },
  {
   "cell_type": "code",
   "execution_count": 78,
   "id": "a54d03bb",
   "metadata": {},
   "outputs": [
    {
     "data": {
      "text/plain": [
       "(7590, 3)"
      ]
     },
     "execution_count": 78,
     "metadata": {},
     "output_type": "execute_result"
    }
   ],
   "source": [
    "filein_careerjobs = \"career_jobs_unparsed_uncoded.xlsx\"\n",
    "careerjobs = pd.read_excel(path_cleaning + subpath_2_2 + filein_careerjobs)\n",
    "careerjobs.shape"
   ]
  },
  {
   "cell_type": "code",
   "execution_count": 113,
   "id": "52b4d4d7",
   "metadata": {},
   "outputs": [
    {
     "data": {
      "text/plain": [
       "(7592, 14)"
      ]
     },
     "execution_count": 113,
     "metadata": {},
     "output_type": "execute_result"
    }
   ],
   "source": [
    "filein_multiple = \"joborglink_1_mergeold_mail.xlsx\"\n",
    "jol1 = pd.read_excel(path_cleaning + subpath_2_3 + filein_multiple)\n",
    "jol1.shape"
   ]
  },
  {
   "cell_type": "code",
   "execution_count": null,
   "id": "db117daf",
   "metadata": {},
   "outputs": [],
   "source": []
  },
  {
   "cell_type": "code",
   "execution_count": null,
   "id": "7e3048c9",
   "metadata": {},
   "outputs": [],
   "source": []
  },
  {
   "cell_type": "code",
   "execution_count": 79,
   "id": "3d6ccd02",
   "metadata": {},
   "outputs": [
    {
     "data": {
      "text/plain": [
       "(1425, 4)"
      ]
     },
     "execution_count": 79,
     "metadata": {},
     "output_type": "execute_result"
    }
   ],
   "source": [
    "filein_jol_7 = \"joborglink_7_2.xlsx\"\n",
    "jol7 = pd.read_excel(path_cleaning + subpath_2_3 + filein_jol_7)\n",
    "jol7.shape"
   ]
  },
  {
   "cell_type": "code",
   "execution_count": null,
   "id": "2219229a",
   "metadata": {},
   "outputs": [],
   "source": []
  },
  {
   "cell_type": "markdown",
   "id": "fd9368f2",
   "metadata": {},
   "source": [
    "# 1. leadercareerlink "
   ]
  },
  {
   "cell_type": "code",
   "execution_count": 80,
   "id": "8b92ff4a",
   "metadata": {},
   "outputs": [
    {
     "data": {
      "text/html": [
       "<div>\n",
       "<style scoped>\n",
       "    .dataframe tbody tr th:only-of-type {\n",
       "        vertical-align: middle;\n",
       "    }\n",
       "\n",
       "    .dataframe tbody tr th {\n",
       "        vertical-align: top;\n",
       "    }\n",
       "\n",
       "    .dataframe thead th {\n",
       "        text-align: right;\n",
       "    }\n",
       "</style>\n",
       "<table border=\"1\" class=\"dataframe\">\n",
       "  <thead>\n",
       "    <tr style=\"text-align: right;\">\n",
       "      <th></th>\n",
       "      <th>LeaderID</th>\n",
       "      <th>CareerStringID_2015</th>\n",
       "      <th>CareerString</th>\n",
       "      <th>CareerDateString_2022</th>\n",
       "    </tr>\n",
       "  </thead>\n",
       "  <tbody>\n",
       "    <tr>\n",
       "      <th>0</th>\n",
       "      <td>리선권</td>\n",
       "      <td>NaN</td>\n",
       "      <td>개성공단 남북공동위원회 통행통신통관 분과위원회</td>\n",
       "      <td>2013.09 ~ 2014.01</td>\n",
       "    </tr>\n",
       "    <tr>\n",
       "      <th>1</th>\n",
       "      <td>조경철</td>\n",
       "      <td>NaN</td>\n",
       "      <td>故 김정일 국가장의위원회 위원</td>\n",
       "      <td>2011.12</td>\n",
       "    </tr>\n",
       "    <tr>\n",
       "      <th>2</th>\n",
       "      <td>리영수</td>\n",
       "      <td>NaN</td>\n",
       "      <td>근로단체부장 해임 * 후임: 리일환</td>\n",
       "      <td>2014</td>\n",
       "    </tr>\n",
       "  </tbody>\n",
       "</table>\n",
       "</div>"
      ],
      "text/plain": [
       "  LeaderID  CareerStringID_2015                CareerString  \\\n",
       "0      리선권                  NaN   개성공단 남북공동위원회 통행통신통관 분과위원회   \n",
       "1      조경철                  NaN            故 김정일 국가장의위원회 위원   \n",
       "2      리영수                  NaN         근로단체부장 해임 * 후임: 리일환   \n",
       "\n",
       "  CareerDateString_2022  \n",
       "0     2013.09 ~ 2014.01  \n",
       "1               2011.12  \n",
       "2                  2014  "
      ]
     },
     "execution_count": 80,
     "metadata": {},
     "output_type": "execute_result"
    }
   ],
   "source": [
    "# from career_link_undivided_unparsed_uncoded\n",
    "careerlink.head(3)"
   ]
  },
  {
   "cell_type": "code",
   "execution_count": 81,
   "id": "9009d1da",
   "metadata": {},
   "outputs": [],
   "source": [
    "select_columns = [\"LeaderID\",\"CareerString\",\"CareerDateString_2022\"]\n",
    "careerlink = careerlink[select_columns]"
   ]
  },
  {
   "cell_type": "code",
   "execution_count": 82,
   "id": "730707b2",
   "metadata": {},
   "outputs": [
    {
     "data": {
      "text/html": [
       "<div>\n",
       "<style scoped>\n",
       "    .dataframe tbody tr th:only-of-type {\n",
       "        vertical-align: middle;\n",
       "    }\n",
       "\n",
       "    .dataframe tbody tr th {\n",
       "        vertical-align: top;\n",
       "    }\n",
       "\n",
       "    .dataframe thead th {\n",
       "        text-align: right;\n",
       "    }\n",
       "</style>\n",
       "<table border=\"1\" class=\"dataframe\">\n",
       "  <thead>\n",
       "    <tr style=\"text-align: right;\">\n",
       "      <th></th>\n",
       "      <th>LeaderID</th>\n",
       "      <th>CareerString</th>\n",
       "      <th>CareerDateString_2022</th>\n",
       "    </tr>\n",
       "  </thead>\n",
       "  <tbody>\n",
       "    <tr>\n",
       "      <th>241</th>\n",
       "      <td>김일본</td>\n",
       "      <td>1950.12 민족보위성 부상 겸 문화부 부장</td>\n",
       "      <td>NaN</td>\n",
       "    </tr>\n",
       "    <tr>\n",
       "      <th>242</th>\n",
       "      <td>김일본</td>\n",
       "      <td>1950.12 민족보위성 부상 겸 문화부 부장</td>\n",
       "      <td>NaN</td>\n",
       "    </tr>\n",
       "    <tr>\n",
       "      <th>247</th>\n",
       "      <td>박송봉</td>\n",
       "      <td>1951.~57. 루마니아 유학 연도미상 당 조직지도부, 과학교육부, 기계공업부 등...</td>\n",
       "      <td>NaN</td>\n",
       "    </tr>\n",
       "    <tr>\n",
       "      <th>248</th>\n",
       "      <td>박송봉</td>\n",
       "      <td>1951.~57. 루마니아 유학 연도미상 당 조직지도부, 과학교육부, 기계공업부 등...</td>\n",
       "      <td>NaN</td>\n",
       "    </tr>\n",
       "    <tr>\n",
       "      <th>249</th>\n",
       "      <td>박송봉</td>\n",
       "      <td>1951.~57. 루마니아 유학 연도미상 당 조직지도부, 과학교육부, 기계공업부 등...</td>\n",
       "      <td>NaN</td>\n",
       "    </tr>\n",
       "    <tr>\n",
       "      <th>...</th>\n",
       "      <td>...</td>\n",
       "      <td>...</td>\n",
       "      <td>...</td>\n",
       "    </tr>\n",
       "    <tr>\n",
       "      <th>5468</th>\n",
       "      <td>현영철</td>\n",
       "      <td>2012. 7 인민군 총참모장, 인민군 차수, 당 중앙군사위원회 부위원장</td>\n",
       "      <td>NaN</td>\n",
       "    </tr>\n",
       "    <tr>\n",
       "      <th>5488</th>\n",
       "      <td>리철만</td>\n",
       "      <td>2013. 4 내각 부총리 겸 농업상</td>\n",
       "      <td>NaN</td>\n",
       "    </tr>\n",
       "    <tr>\n",
       "      <th>5489</th>\n",
       "      <td>리철만</td>\n",
       "      <td>2013. 4 내각 부총리 겸 농업상</td>\n",
       "      <td>NaN</td>\n",
       "    </tr>\n",
       "    <tr>\n",
       "      <th>5490</th>\n",
       "      <td>리무영</td>\n",
       "      <td>2013. 4 내각 부총리 겸 화학공업상</td>\n",
       "      <td>NaN</td>\n",
       "    </tr>\n",
       "    <tr>\n",
       "      <th>5491</th>\n",
       "      <td>리무영</td>\n",
       "      <td>2013. 4 내각 부총리 겸 화학공업상</td>\n",
       "      <td>NaN</td>\n",
       "    </tr>\n",
       "  </tbody>\n",
       "</table>\n",
       "<p>668 rows × 3 columns</p>\n",
       "</div>"
      ],
      "text/plain": [
       "     LeaderID                                       CareerString  \\\n",
       "241       김일본                          1950.12 민족보위성 부상 겸 문화부 부장   \n",
       "242       김일본                          1950.12 민족보위성 부상 겸 문화부 부장   \n",
       "247       박송봉  1951.~57. 루마니아 유학 연도미상 당 조직지도부, 과학교육부, 기계공업부 등...   \n",
       "248       박송봉  1951.~57. 루마니아 유학 연도미상 당 조직지도부, 과학교육부, 기계공업부 등...   \n",
       "249       박송봉  1951.~57. 루마니아 유학 연도미상 당 조직지도부, 과학교육부, 기계공업부 등...   \n",
       "...       ...                                                ...   \n",
       "5468      현영철           2012. 7 인민군 총참모장, 인민군 차수, 당 중앙군사위원회 부위원장   \n",
       "5488      리철만                               2013. 4 내각 부총리 겸 농업상   \n",
       "5489      리철만                               2013. 4 내각 부총리 겸 농업상   \n",
       "5490      리무영                             2013. 4 내각 부총리 겸 화학공업상   \n",
       "5491      리무영                             2013. 4 내각 부총리 겸 화학공업상   \n",
       "\n",
       "     CareerDateString_2022  \n",
       "241                    NaN  \n",
       "242                    NaN  \n",
       "247                    NaN  \n",
       "248                    NaN  \n",
       "249                    NaN  \n",
       "...                    ...  \n",
       "5468                   NaN  \n",
       "5488                   NaN  \n",
       "5489                   NaN  \n",
       "5490                   NaN  \n",
       "5491                   NaN  \n",
       "\n",
       "[668 rows x 3 columns]"
      ]
     },
     "execution_count": 82,
     "metadata": {},
     "output_type": "execute_result"
    }
   ],
   "source": [
    "careerlink[careerlink.duplicated(keep=False)]"
   ]
  },
  {
   "cell_type": "code",
   "execution_count": 83,
   "id": "1c450073",
   "metadata": {},
   "outputs": [
    {
     "data": {
      "text/plain": [
       "(12617, 3)"
      ]
     },
     "execution_count": 83,
     "metadata": {},
     "output_type": "execute_result"
    }
   ],
   "source": [
    "leadercareerlink = careerlink.drop_duplicates(keep=\"first\")\n",
    "leadercareerlink.shape"
   ]
  },
  {
   "cell_type": "code",
   "execution_count": 84,
   "id": "334185dd",
   "metadata": {},
   "outputs": [
    {
     "data": {
      "text/html": [
       "<div>\n",
       "<style scoped>\n",
       "    .dataframe tbody tr th:only-of-type {\n",
       "        vertical-align: middle;\n",
       "    }\n",
       "\n",
       "    .dataframe tbody tr th {\n",
       "        vertical-align: top;\n",
       "    }\n",
       "\n",
       "    .dataframe thead th {\n",
       "        text-align: right;\n",
       "    }\n",
       "</style>\n",
       "<table border=\"1\" class=\"dataframe\">\n",
       "  <thead>\n",
       "    <tr style=\"text-align: right;\">\n",
       "      <th></th>\n",
       "      <th>LeaderID</th>\n",
       "      <th>CareerString</th>\n",
       "      <th>CareerDateString_2022</th>\n",
       "    </tr>\n",
       "  </thead>\n",
       "  <tbody>\n",
       "    <tr>\n",
       "      <th>0</th>\n",
       "      <td>리선권</td>\n",
       "      <td>개성공단 남북공동위원회 통행통신통관 분과위원회</td>\n",
       "      <td>2013.09 ~ 2014.01</td>\n",
       "    </tr>\n",
       "    <tr>\n",
       "      <th>1</th>\n",
       "      <td>조경철</td>\n",
       "      <td>故 김정일 국가장의위원회 위원</td>\n",
       "      <td>2011.12</td>\n",
       "    </tr>\n",
       "    <tr>\n",
       "      <th>2</th>\n",
       "      <td>리영수</td>\n",
       "      <td>근로단체부장 해임 * 후임: 리일환</td>\n",
       "      <td>2014</td>\n",
       "    </tr>\n",
       "    <tr>\n",
       "      <th>3</th>\n",
       "      <td>리설주</td>\n",
       "      <td>금수산궁전 개관식 참석시 동행</td>\n",
       "      <td>2013.08</td>\n",
       "    </tr>\n",
       "    <tr>\n",
       "      <th>4</th>\n",
       "      <td>리원일</td>\n",
       "      <td>노동성 상(유임)</td>\n",
       "      <td>1999.02</td>\n",
       "    </tr>\n",
       "  </tbody>\n",
       "</table>\n",
       "</div>"
      ],
      "text/plain": [
       "  LeaderID                CareerString CareerDateString_2022\n",
       "0      리선권   개성공단 남북공동위원회 통행통신통관 분과위원회     2013.09 ~ 2014.01\n",
       "1      조경철            故 김정일 국가장의위원회 위원               2011.12\n",
       "2      리영수         근로단체부장 해임 * 후임: 리일환                  2014\n",
       "3      리설주            금수산궁전 개관식 참석시 동행               2013.08\n",
       "4      리원일                   노동성 상(유임)               1999.02"
      ]
     },
     "execution_count": 84,
     "metadata": {},
     "output_type": "execute_result"
    }
   ],
   "source": [
    "leadercareerlink.head(5)"
   ]
  },
  {
   "cell_type": "code",
   "execution_count": 85,
   "id": "d0902053",
   "metadata": {},
   "outputs": [],
   "source": [
    "# export leadercareerlink to tables\n",
    "# leadercareerlink.to_excel(path_tables+filename_leadercareerlink,index=False)"
   ]
  },
  {
   "cell_type": "markdown",
   "id": "3b1ecb8c",
   "metadata": {},
   "source": [
    "# 2. joborglink"
   ]
  },
  {
   "cell_type": "markdown",
   "id": "f30125de",
   "metadata": {},
   "source": [
    "### 2.1 - careers - isolate careers from leadercareerlink"
   ]
  },
  {
   "cell_type": "code",
   "execution_count": 86,
   "id": "a2c571c8",
   "metadata": {},
   "outputs": [
    {
     "data": {
      "text/plain": [
       "(12617, 2)"
      ]
     },
     "execution_count": 86,
     "metadata": {},
     "output_type": "execute_result"
    }
   ],
   "source": [
    "select_columns = [\"CareerString\",\"CareerDateString_2022\"]\n",
    "careers = leadercareerlink[select_columns]\n",
    "careers.shape"
   ]
  },
  {
   "cell_type": "code",
   "execution_count": 87,
   "id": "1af3b03a",
   "metadata": {},
   "outputs": [
    {
     "data": {
      "text/plain": [
       "(5125, 2)"
      ]
     },
     "execution_count": 87,
     "metadata": {},
     "output_type": "execute_result"
    }
   ],
   "source": [
    "careers[careers.duplicated(keep=False)].shape"
   ]
  },
  {
   "cell_type": "code",
   "execution_count": 88,
   "id": "fbc89b26",
   "metadata": {},
   "outputs": [
    {
     "data": {
      "text/plain": [
       "(8045, 2)"
      ]
     },
     "execution_count": 88,
     "metadata": {},
     "output_type": "execute_result"
    }
   ],
   "source": [
    "careers = careers.drop_duplicates(keep=\"first\")\n",
    "careers.shape"
   ]
  },
  {
   "cell_type": "code",
   "execution_count": 89,
   "id": "8bd0d331",
   "metadata": {},
   "outputs": [
    {
     "data": {
      "text/html": [
       "<div>\n",
       "<style scoped>\n",
       "    .dataframe tbody tr th:only-of-type {\n",
       "        vertical-align: middle;\n",
       "    }\n",
       "\n",
       "    .dataframe tbody tr th {\n",
       "        vertical-align: top;\n",
       "    }\n",
       "\n",
       "    .dataframe thead th {\n",
       "        text-align: right;\n",
       "    }\n",
       "</style>\n",
       "<table border=\"1\" class=\"dataframe\">\n",
       "  <thead>\n",
       "    <tr style=\"text-align: right;\">\n",
       "      <th></th>\n",
       "      <th>CareerString</th>\n",
       "      <th>CareerDateString_2022</th>\n",
       "    </tr>\n",
       "  </thead>\n",
       "  <tbody>\n",
       "  </tbody>\n",
       "</table>\n",
       "</div>"
      ],
      "text/plain": [
       "Empty DataFrame\n",
       "Columns: [CareerString, CareerDateString_2022]\n",
       "Index: []"
      ]
     },
     "execution_count": 89,
     "metadata": {},
     "output_type": "execute_result"
    }
   ],
   "source": [
    "careers[careers.duplicated([\"CareerString\",\"CareerDateString_2022\"],keep=False)]"
   ]
  },
  {
   "cell_type": "markdown",
   "id": "fb4d4e27",
   "metadata": {},
   "source": [
    "### 2.2 - careers0 - add IsJob\n",
    "- compare careers with career_jobs_unparsed_uncoded\n",
    "- add IsJob=False for all rows\n",
    "- recode IsJob=True for all CareerString contained in career_jobs_unparsed_uncoded\n",
    "- don't code CareerStringType - because we still have MultipleSubstrings\n",
    "- just note that all career_jobs_unparsed_uncoded are contained in careers\n",
    "- later, use the files in subpath_2_2 = \"2.2 career_divided_unparsed_uncoded/\" to help code CareerSubstringType"
   ]
  },
  {
   "cell_type": "code",
   "execution_count": 90,
   "id": "e3b155ee",
   "metadata": {},
   "outputs": [
    {
     "data": {
      "text/html": [
       "<div>\n",
       "<style scoped>\n",
       "    .dataframe tbody tr th:only-of-type {\n",
       "        vertical-align: middle;\n",
       "    }\n",
       "\n",
       "    .dataframe tbody tr th {\n",
       "        vertical-align: top;\n",
       "    }\n",
       "\n",
       "    .dataframe thead th {\n",
       "        text-align: right;\n",
       "    }\n",
       "</style>\n",
       "<table border=\"1\" class=\"dataframe\">\n",
       "  <thead>\n",
       "    <tr style=\"text-align: right;\">\n",
       "      <th></th>\n",
       "      <th>CareerString</th>\n",
       "      <th>CareerDateString_2022</th>\n",
       "      <th>CareerStringID</th>\n",
       "    </tr>\n",
       "  </thead>\n",
       "  <tbody>\n",
       "    <tr>\n",
       "      <th>0</th>\n",
       "      <td>개성공단 남북공동위원회 통행통신통관 분과위원회</td>\n",
       "      <td>2013.09 ~ 2014.01</td>\n",
       "      <td>1</td>\n",
       "    </tr>\n",
       "    <tr>\n",
       "      <th>1</th>\n",
       "      <td>근로단체부장 해임 * 후임: 리일환</td>\n",
       "      <td>2014</td>\n",
       "      <td>2</td>\n",
       "    </tr>\n",
       "    <tr>\n",
       "      <th>2</th>\n",
       "      <td>노동성 상(유임)</td>\n",
       "      <td>1999.02</td>\n",
       "      <td>4</td>\n",
       "    </tr>\n",
       "  </tbody>\n",
       "</table>\n",
       "</div>"
      ],
      "text/plain": [
       "                 CareerString CareerDateString_2022  CareerStringID\n",
       "0   개성공단 남북공동위원회 통행통신통관 분과위원회     2013.09 ~ 2014.01               1\n",
       "1         근로단체부장 해임 * 후임: 리일환                  2014               2\n",
       "2                   노동성 상(유임)               1999.02               4"
      ]
     },
     "execution_count": 90,
     "metadata": {},
     "output_type": "execute_result"
    }
   ],
   "source": [
    "# compare careers with careerjobs\n",
    "careerjobs.head(3)"
   ]
  },
  {
   "cell_type": "code",
   "execution_count": 91,
   "id": "d8eef284",
   "metadata": {},
   "outputs": [
    {
     "data": {
      "text/plain": [
       "(7590, 2)"
      ]
     },
     "execution_count": 91,
     "metadata": {},
     "output_type": "execute_result"
    }
   ],
   "source": [
    "select_columns = [\"CareerString\",\"CareerDateString_2022\"]\n",
    "careerjobs = careerjobs[select_columns]\n",
    "careerjobs.shape"
   ]
  },
  {
   "cell_type": "code",
   "execution_count": 92,
   "id": "890c52a1",
   "metadata": {},
   "outputs": [
    {
     "data": {
      "text/html": [
       "<div>\n",
       "<style scoped>\n",
       "    .dataframe tbody tr th:only-of-type {\n",
       "        vertical-align: middle;\n",
       "    }\n",
       "\n",
       "    .dataframe tbody tr th {\n",
       "        vertical-align: top;\n",
       "    }\n",
       "\n",
       "    .dataframe thead th {\n",
       "        text-align: right;\n",
       "    }\n",
       "</style>\n",
       "<table border=\"1\" class=\"dataframe\">\n",
       "  <thead>\n",
       "    <tr style=\"text-align: right;\">\n",
       "      <th></th>\n",
       "      <th>CareerString</th>\n",
       "      <th>CareerDateString_2022</th>\n",
       "    </tr>\n",
       "  </thead>\n",
       "  <tbody>\n",
       "  </tbody>\n",
       "</table>\n",
       "</div>"
      ],
      "text/plain": [
       "Empty DataFrame\n",
       "Columns: [CareerString, CareerDateString_2022]\n",
       "Index: []"
      ]
     },
     "execution_count": 92,
     "metadata": {},
     "output_type": "execute_result"
    }
   ],
   "source": [
    "careerjobs[careerjobs.duplicated(keep=False)]"
   ]
  },
  {
   "cell_type": "code",
   "execution_count": 93,
   "id": "94211fb8",
   "metadata": {},
   "outputs": [
    {
     "data": {
      "text/html": [
       "<div>\n",
       "<style scoped>\n",
       "    .dataframe tbody tr th:only-of-type {\n",
       "        vertical-align: middle;\n",
       "    }\n",
       "\n",
       "    .dataframe tbody tr th {\n",
       "        vertical-align: top;\n",
       "    }\n",
       "\n",
       "    .dataframe thead th {\n",
       "        text-align: right;\n",
       "    }\n",
       "</style>\n",
       "<table border=\"1\" class=\"dataframe\">\n",
       "  <thead>\n",
       "    <tr style=\"text-align: right;\">\n",
       "      <th></th>\n",
       "      <th>CareerString</th>\n",
       "      <th>CareerDateString_2022</th>\n",
       "    </tr>\n",
       "  </thead>\n",
       "  <tbody>\n",
       "    <tr>\n",
       "      <th>0</th>\n",
       "      <td>개성공단 남북공동위원회 통행통신통관 분과위원회</td>\n",
       "      <td>2013.09 ~ 2014.01</td>\n",
       "    </tr>\n",
       "    <tr>\n",
       "      <th>1</th>\n",
       "      <td>故 김정일 국가장의위원회 위원</td>\n",
       "      <td>2011.12</td>\n",
       "    </tr>\n",
       "    <tr>\n",
       "      <th>2</th>\n",
       "      <td>근로단체부장 해임 * 후임: 리일환</td>\n",
       "      <td>2014</td>\n",
       "    </tr>\n",
       "  </tbody>\n",
       "</table>\n",
       "</div>"
      ],
      "text/plain": [
       "                 CareerString CareerDateString_2022\n",
       "0   개성공단 남북공동위원회 통행통신통관 분과위원회     2013.09 ~ 2014.01\n",
       "1            故 김정일 국가장의위원회 위원               2011.12\n",
       "2         근로단체부장 해임 * 후임: 리일환                  2014"
      ]
     },
     "execution_count": 93,
     "metadata": {},
     "output_type": "execute_result"
    }
   ],
   "source": [
    "careers.head(3)"
   ]
  },
  {
   "cell_type": "code",
   "execution_count": 94,
   "id": "a695b5a0",
   "metadata": {},
   "outputs": [],
   "source": [
    "# merge and compare careers & careerjobs\n",
    "select_columns = [\"CareerString\",\"CareerDateString_2022\"]\n",
    "careers0 = careers.merge(careerjobs,on=select_columns,how=\"outer\",indicator=True)"
   ]
  },
  {
   "cell_type": "code",
   "execution_count": 95,
   "id": "43cdd770",
   "metadata": {},
   "outputs": [
    {
     "data": {
      "text/html": [
       "<div>\n",
       "<style scoped>\n",
       "    .dataframe tbody tr th:only-of-type {\n",
       "        vertical-align: middle;\n",
       "    }\n",
       "\n",
       "    .dataframe tbody tr th {\n",
       "        vertical-align: top;\n",
       "    }\n",
       "\n",
       "    .dataframe thead th {\n",
       "        text-align: right;\n",
       "    }\n",
       "</style>\n",
       "<table border=\"1\" class=\"dataframe\">\n",
       "  <thead>\n",
       "    <tr style=\"text-align: right;\">\n",
       "      <th></th>\n",
       "      <th>CareerString</th>\n",
       "      <th>CareerDateString_2022</th>\n",
       "      <th>_merge</th>\n",
       "    </tr>\n",
       "  </thead>\n",
       "  <tbody>\n",
       "    <tr>\n",
       "      <th>0</th>\n",
       "      <td>개성공단 남북공동위원회 통행통신통관 분과위원회</td>\n",
       "      <td>2013.09 ~ 2014.01</td>\n",
       "      <td>both</td>\n",
       "    </tr>\n",
       "    <tr>\n",
       "      <th>1</th>\n",
       "      <td>故 김정일 국가장의위원회 위원</td>\n",
       "      <td>2011.12</td>\n",
       "      <td>left_only</td>\n",
       "    </tr>\n",
       "    <tr>\n",
       "      <th>2</th>\n",
       "      <td>근로단체부장 해임 * 후임: 리일환</td>\n",
       "      <td>2014</td>\n",
       "      <td>both</td>\n",
       "    </tr>\n",
       "  </tbody>\n",
       "</table>\n",
       "</div>"
      ],
      "text/plain": [
       "                 CareerString CareerDateString_2022     _merge\n",
       "0   개성공단 남북공동위원회 통행통신통관 분과위원회     2013.09 ~ 2014.01       both\n",
       "1            故 김정일 국가장의위원회 위원               2011.12  left_only\n",
       "2         근로단체부장 해임 * 후임: 리일환                  2014       both"
      ]
     },
     "execution_count": 95,
     "metadata": {},
     "output_type": "execute_result"
    }
   ],
   "source": [
    "careers0.head(3)"
   ]
  },
  {
   "cell_type": "code",
   "execution_count": 96,
   "id": "ac5103f9",
   "metadata": {},
   "outputs": [
    {
     "data": {
      "text/plain": [
       "(455, 3)"
      ]
     },
     "execution_count": 96,
     "metadata": {},
     "output_type": "execute_result"
    }
   ],
   "source": [
    "careers0[careers0[\"_merge\"]==\"left_only\"].shape"
   ]
  },
  {
   "cell_type": "code",
   "execution_count": 97,
   "id": "6833dea1",
   "metadata": {},
   "outputs": [
    {
     "data": {
      "text/plain": [
       "(7590, 3)"
      ]
     },
     "execution_count": 97,
     "metadata": {},
     "output_type": "execute_result"
    }
   ],
   "source": [
    "careers0[careers0[\"_merge\"]==\"both\"].shape"
   ]
  },
  {
   "cell_type": "code",
   "execution_count": 98,
   "id": "281f9f95",
   "metadata": {},
   "outputs": [
    {
     "data": {
      "text/plain": [
       "(0, 3)"
      ]
     },
     "execution_count": 98,
     "metadata": {},
     "output_type": "execute_result"
    }
   ],
   "source": [
    "careers0[careers0[\"_merge\"]==\"right_only\"].shape"
   ]
  },
  {
   "cell_type": "code",
   "execution_count": 99,
   "id": "fb283223",
   "metadata": {},
   "outputs": [
    {
     "data": {
      "text/html": [
       "<div>\n",
       "<style scoped>\n",
       "    .dataframe tbody tr th:only-of-type {\n",
       "        vertical-align: middle;\n",
       "    }\n",
       "\n",
       "    .dataframe tbody tr th {\n",
       "        vertical-align: top;\n",
       "    }\n",
       "\n",
       "    .dataframe thead th {\n",
       "        text-align: right;\n",
       "    }\n",
       "</style>\n",
       "<table border=\"1\" class=\"dataframe\">\n",
       "  <thead>\n",
       "    <tr style=\"text-align: right;\">\n",
       "      <th></th>\n",
       "      <th>CareerString</th>\n",
       "      <th>CareerDateString_2022</th>\n",
       "      <th>_merge</th>\n",
       "    </tr>\n",
       "  </thead>\n",
       "  <tbody>\n",
       "  </tbody>\n",
       "</table>\n",
       "</div>"
      ],
      "text/plain": [
       "Empty DataFrame\n",
       "Columns: [CareerString, CareerDateString_2022, _merge]\n",
       "Index: []"
      ]
     },
     "execution_count": 99,
     "metadata": {},
     "output_type": "execute_result"
    }
   ],
   "source": [
    "careers0[careers0[\"_merge\"]==\"right_only\"]"
   ]
  },
  {
   "cell_type": "code",
   "execution_count": 104,
   "id": "c24b5b20",
   "metadata": {},
   "outputs": [],
   "source": [
    "careers0[\"IsJob\"] = False"
   ]
  },
  {
   "cell_type": "code",
   "execution_count": 106,
   "id": "cb68a99f",
   "metadata": {},
   "outputs": [],
   "source": [
    "careers0.loc[careers0[\"_merge\"]==\"both\",\"IsJob\"] = True"
   ]
  },
  {
   "cell_type": "code",
   "execution_count": 111,
   "id": "80731a37",
   "metadata": {},
   "outputs": [
    {
     "data": {
      "text/html": [
       "<div>\n",
       "<style scoped>\n",
       "    .dataframe tbody tr th:only-of-type {\n",
       "        vertical-align: middle;\n",
       "    }\n",
       "\n",
       "    .dataframe tbody tr th {\n",
       "        vertical-align: top;\n",
       "    }\n",
       "\n",
       "    .dataframe thead th {\n",
       "        text-align: right;\n",
       "    }\n",
       "</style>\n",
       "<table border=\"1\" class=\"dataframe\">\n",
       "  <thead>\n",
       "    <tr style=\"text-align: right;\">\n",
       "      <th></th>\n",
       "      <th>CareerString</th>\n",
       "      <th>CareerDateString_2022</th>\n",
       "      <th>_merge</th>\n",
       "    </tr>\n",
       "    <tr>\n",
       "      <th>IsJob</th>\n",
       "      <th></th>\n",
       "      <th></th>\n",
       "      <th></th>\n",
       "    </tr>\n",
       "  </thead>\n",
       "  <tbody>\n",
       "    <tr>\n",
       "      <th>False</th>\n",
       "      <td>455</td>\n",
       "      <td>259</td>\n",
       "      <td>455</td>\n",
       "    </tr>\n",
       "    <tr>\n",
       "      <th>True</th>\n",
       "      <td>7590</td>\n",
       "      <td>4209</td>\n",
       "      <td>7590</td>\n",
       "    </tr>\n",
       "  </tbody>\n",
       "</table>\n",
       "</div>"
      ],
      "text/plain": [
       "       CareerString  CareerDateString_2022  _merge\n",
       "IsJob                                             \n",
       "False           455                    259     455\n",
       "True           7590                   4209    7590"
      ]
     },
     "execution_count": 111,
     "metadata": {},
     "output_type": "execute_result"
    }
   ],
   "source": [
    "careers0.groupby(\"IsJob\").count()"
   ]
  },
  {
   "cell_type": "code",
   "execution_count": 119,
   "id": "01104152",
   "metadata": {},
   "outputs": [],
   "source": [
    "select_columns = [\"CareerString\",\"CareerDateString_2022\",\"IsJob\"]\n",
    "careers0 = careers0[select_columns]"
   ]
  },
  {
   "cell_type": "code",
   "execution_count": 121,
   "id": "ba89c2c6",
   "metadata": {},
   "outputs": [
    {
     "data": {
      "text/html": [
       "<div>\n",
       "<style scoped>\n",
       "    .dataframe tbody tr th:only-of-type {\n",
       "        vertical-align: middle;\n",
       "    }\n",
       "\n",
       "    .dataframe tbody tr th {\n",
       "        vertical-align: top;\n",
       "    }\n",
       "\n",
       "    .dataframe thead th {\n",
       "        text-align: right;\n",
       "    }\n",
       "</style>\n",
       "<table border=\"1\" class=\"dataframe\">\n",
       "  <thead>\n",
       "    <tr style=\"text-align: right;\">\n",
       "      <th></th>\n",
       "      <th>CareerString</th>\n",
       "      <th>CareerDateString_2022</th>\n",
       "      <th>IsJob</th>\n",
       "    </tr>\n",
       "  </thead>\n",
       "  <tbody>\n",
       "    <tr>\n",
       "      <th>0</th>\n",
       "      <td>개성공단 남북공동위원회 통행통신통관 분과위원회</td>\n",
       "      <td>2013.09 ~ 2014.01</td>\n",
       "      <td>True</td>\n",
       "    </tr>\n",
       "    <tr>\n",
       "      <th>1</th>\n",
       "      <td>故 김정일 국가장의위원회 위원</td>\n",
       "      <td>2011.12</td>\n",
       "      <td>False</td>\n",
       "    </tr>\n",
       "    <tr>\n",
       "      <th>2</th>\n",
       "      <td>근로단체부장 해임 * 후임: 리일환</td>\n",
       "      <td>2014</td>\n",
       "      <td>True</td>\n",
       "    </tr>\n",
       "  </tbody>\n",
       "</table>\n",
       "</div>"
      ],
      "text/plain": [
       "                 CareerString CareerDateString_2022  IsJob\n",
       "0   개성공단 남북공동위원회 통행통신통관 분과위원회     2013.09 ~ 2014.01   True\n",
       "1            故 김정일 국가장의위원회 위원               2011.12  False\n",
       "2         근로단체부장 해임 * 후임: 리일환                  2014   True"
      ]
     },
     "execution_count": 121,
     "metadata": {},
     "output_type": "execute_result"
    }
   ],
   "source": [
    "careers0.head(3)"
   ]
  },
  {
   "cell_type": "markdown",
   "id": "180a851a",
   "metadata": {},
   "source": [
    "### 2.3 - careers1 - add MultipleString\n",
    "- compare careers1 with jol1 (joborglink_1_mergeold_mail)\n",
    "- update IsJob with jol1[\"NotJob\"]\n",
    "- add MultipleSubstrings\n",
    "- code MultipleSubstrings"
   ]
  },
  {
   "cell_type": "code",
   "execution_count": 117,
   "id": "fbc0fc9d",
   "metadata": {},
   "outputs": [
    {
     "data": {
      "text/html": [
       "<div>\n",
       "<style scoped>\n",
       "    .dataframe tbody tr th:only-of-type {\n",
       "        vertical-align: middle;\n",
       "    }\n",
       "\n",
       "    .dataframe tbody tr th {\n",
       "        vertical-align: top;\n",
       "    }\n",
       "\n",
       "    .dataframe thead th {\n",
       "        text-align: right;\n",
       "    }\n",
       "</style>\n",
       "<table border=\"1\" class=\"dataframe\">\n",
       "  <thead>\n",
       "    <tr style=\"text-align: right;\">\n",
       "      <th></th>\n",
       "      <th>CareerString</th>\n",
       "      <th>CareerDateString_2022</th>\n",
       "      <th>NotJob</th>\n",
       "      <th>MultipleSubstrings</th>\n",
       "    </tr>\n",
       "  </thead>\n",
       "  <tbody>\n",
       "    <tr>\n",
       "      <th>0</th>\n",
       "      <td>1981.10 당 정치국 후보위원으로 강등</td>\n",
       "      <td>NaN</td>\n",
       "      <td>0.0</td>\n",
       "      <td>NaN</td>\n",
       "    </tr>\n",
       "    <tr>\n",
       "      <th>1</th>\n",
       "      <td>1990. 5 당 정치국 후보위원으로 강등</td>\n",
       "      <td>NaN</td>\n",
       "      <td>0.0</td>\n",
       "      <td>NaN</td>\n",
       "    </tr>\n",
       "    <tr>\n",
       "      <th>2</th>\n",
       "      <td>1991.12 인민군 최고사령관직을 김정일에게 이양</td>\n",
       "      <td>NaN</td>\n",
       "      <td>0.0</td>\n",
       "      <td>NaN</td>\n",
       "    </tr>\n",
       "  </tbody>\n",
       "</table>\n",
       "</div>"
      ],
      "text/plain": [
       "                   CareerString CareerDateString_2022  NotJob  \\\n",
       "0       1981.10 당 정치국 후보위원으로 강등                   NaN     0.0   \n",
       "1       1990. 5 당 정치국 후보위원으로 강등                   NaN     0.0   \n",
       "2  1991.12 인민군 최고사령관직을 김정일에게 이양                   NaN     0.0   \n",
       "\n",
       "   MultipleSubstrings  \n",
       "0                 NaN  \n",
       "1                 NaN  \n",
       "2                 NaN  "
      ]
     },
     "execution_count": 117,
     "metadata": {},
     "output_type": "execute_result"
    }
   ],
   "source": [
    "select_columns = [\"CareerString\",\"CareerDateString_2022\",\"NotJob\",\"MultipleSubstrings\"]\n",
    "jol1 = jol1[select_columns]\n",
    "jol1.head(3)"
   ]
  },
  {
   "cell_type": "code",
   "execution_count": 150,
   "id": "367f64fc",
   "metadata": {},
   "outputs": [
    {
     "data": {
      "text/plain": [
       "(7521, 4)"
      ]
     },
     "execution_count": 150,
     "metadata": {},
     "output_type": "execute_result"
    }
   ],
   "source": [
    "jol1 = jol1.drop_duplicates(keep=\"first\")\n",
    "jol1.shape"
   ]
  },
  {
   "cell_type": "code",
   "execution_count": 153,
   "id": "d7ab060f",
   "metadata": {},
   "outputs": [
    {
     "data": {
      "text/html": [
       "<div>\n",
       "<style scoped>\n",
       "    .dataframe tbody tr th:only-of-type {\n",
       "        vertical-align: middle;\n",
       "    }\n",
       "\n",
       "    .dataframe tbody tr th {\n",
       "        vertical-align: top;\n",
       "    }\n",
       "\n",
       "    .dataframe thead th {\n",
       "        text-align: right;\n",
       "    }\n",
       "</style>\n",
       "<table border=\"1\" class=\"dataframe\">\n",
       "  <thead>\n",
       "    <tr style=\"text-align: right;\">\n",
       "      <th></th>\n",
       "      <th>CareerString</th>\n",
       "      <th>CareerDateString_2022</th>\n",
       "      <th>NotJob</th>\n",
       "      <th>MultipleSubstrings</th>\n",
       "    </tr>\n",
       "  </thead>\n",
       "  <tbody>\n",
       "  </tbody>\n",
       "</table>\n",
       "</div>"
      ],
      "text/plain": [
       "Empty DataFrame\n",
       "Columns: [CareerString, CareerDateString_2022, NotJob, MultipleSubstrings]\n",
       "Index: []"
      ]
     },
     "execution_count": 153,
     "metadata": {},
     "output_type": "execute_result"
    }
   ],
   "source": [
    "# no duplicate keys in jol1\n",
    "select_key = [\"CareerString\",\"CareerDateString_2022\"]\n",
    "jol1[jol1.duplicated(select_key,keep=False)]"
   ]
  },
  {
   "cell_type": "code",
   "execution_count": 157,
   "id": "fadf348d",
   "metadata": {},
   "outputs": [
    {
     "data": {
      "text/plain": [
       "(8045, 3)"
      ]
     },
     "execution_count": 157,
     "metadata": {},
     "output_type": "execute_result"
    }
   ],
   "source": [
    "careers0.shape"
   ]
  },
  {
   "cell_type": "code",
   "execution_count": 154,
   "id": "a6cfe527",
   "metadata": {},
   "outputs": [
    {
     "data": {
      "text/plain": [
       "(11748, 6)"
      ]
     },
     "execution_count": 154,
     "metadata": {},
     "output_type": "execute_result"
    }
   ],
   "source": [
    "select_key = [\"CareerString\",\"CareerDateString_2022\"]\n",
    "careers1 = careers0.merge(jol1,on=select_key,how=\"outer\",indicator=True)\n",
    "careers1.shape"
   ]
  },
  {
   "cell_type": "code",
   "execution_count": 155,
   "id": "23c779bf",
   "metadata": {},
   "outputs": [
    {
     "data": {
      "text/html": [
       "<div>\n",
       "<style scoped>\n",
       "    .dataframe tbody tr th:only-of-type {\n",
       "        vertical-align: middle;\n",
       "    }\n",
       "\n",
       "    .dataframe tbody tr th {\n",
       "        vertical-align: top;\n",
       "    }\n",
       "\n",
       "    .dataframe thead th {\n",
       "        text-align: right;\n",
       "    }\n",
       "</style>\n",
       "<table border=\"1\" class=\"dataframe\">\n",
       "  <thead>\n",
       "    <tr style=\"text-align: right;\">\n",
       "      <th></th>\n",
       "      <th>CareerString</th>\n",
       "      <th>CareerDateString_2022</th>\n",
       "      <th>IsJob</th>\n",
       "      <th>NotJob</th>\n",
       "      <th>MultipleSubstrings</th>\n",
       "      <th>_merge</th>\n",
       "    </tr>\n",
       "  </thead>\n",
       "  <tbody>\n",
       "    <tr>\n",
       "      <th>0</th>\n",
       "      <td>개성공단 남북공동위원회 통행통신통관 분과위원회</td>\n",
       "      <td>2013.09 ~ 2014.01</td>\n",
       "      <td>True</td>\n",
       "      <td>NaN</td>\n",
       "      <td>NaN</td>\n",
       "      <td>left_only</td>\n",
       "    </tr>\n",
       "    <tr>\n",
       "      <th>1</th>\n",
       "      <td>故 김정일 국가장의위원회 위원</td>\n",
       "      <td>2011.12</td>\n",
       "      <td>False</td>\n",
       "      <td>NaN</td>\n",
       "      <td>NaN</td>\n",
       "      <td>left_only</td>\n",
       "    </tr>\n",
       "    <tr>\n",
       "      <th>2</th>\n",
       "      <td>근로단체부장 해임 * 후임: 리일환</td>\n",
       "      <td>2014</td>\n",
       "      <td>True</td>\n",
       "      <td>NaN</td>\n",
       "      <td>NaN</td>\n",
       "      <td>left_only</td>\n",
       "    </tr>\n",
       "  </tbody>\n",
       "</table>\n",
       "</div>"
      ],
      "text/plain": [
       "                 CareerString CareerDateString_2022  IsJob  NotJob  \\\n",
       "0   개성공단 남북공동위원회 통행통신통관 분과위원회     2013.09 ~ 2014.01   True     NaN   \n",
       "1            故 김정일 국가장의위원회 위원               2011.12  False     NaN   \n",
       "2         근로단체부장 해임 * 후임: 리일환                  2014   True     NaN   \n",
       "\n",
       "   MultipleSubstrings     _merge  \n",
       "0                 NaN  left_only  \n",
       "1                 NaN  left_only  \n",
       "2                 NaN  left_only  "
      ]
     },
     "execution_count": 155,
     "metadata": {},
     "output_type": "execute_result"
    }
   ],
   "source": [
    "careers1.head(3)"
   ]
  },
  {
   "cell_type": "code",
   "execution_count": 156,
   "id": "2497fcb4",
   "metadata": {},
   "outputs": [
    {
     "data": {
      "text/html": [
       "<div>\n",
       "<style scoped>\n",
       "    .dataframe tbody tr th:only-of-type {\n",
       "        vertical-align: middle;\n",
       "    }\n",
       "\n",
       "    .dataframe tbody tr th {\n",
       "        vertical-align: top;\n",
       "    }\n",
       "\n",
       "    .dataframe thead th {\n",
       "        text-align: right;\n",
       "    }\n",
       "</style>\n",
       "<table border=\"1\" class=\"dataframe\">\n",
       "  <thead>\n",
       "    <tr style=\"text-align: right;\">\n",
       "      <th></th>\n",
       "      <th></th>\n",
       "      <th>CareerString</th>\n",
       "      <th>CareerDateString_2022</th>\n",
       "      <th>MultipleSubstrings</th>\n",
       "      <th>_merge</th>\n",
       "    </tr>\n",
       "    <tr>\n",
       "      <th>IsJob</th>\n",
       "      <th>NotJob</th>\n",
       "      <th></th>\n",
       "      <th></th>\n",
       "      <th></th>\n",
       "      <th></th>\n",
       "    </tr>\n",
       "  </thead>\n",
       "  <tbody>\n",
       "    <tr>\n",
       "      <th>False</th>\n",
       "      <th>NaN</th>\n",
       "      <td>455</td>\n",
       "      <td>259</td>\n",
       "      <td>0</td>\n",
       "      <td>455</td>\n",
       "    </tr>\n",
       "    <tr>\n",
       "      <th rowspan=\"3\" valign=\"top\">True</th>\n",
       "      <th>0.0</th>\n",
       "      <td>415</td>\n",
       "      <td>232</td>\n",
       "      <td>0</td>\n",
       "      <td>415</td>\n",
       "    </tr>\n",
       "    <tr>\n",
       "      <th>1.0</th>\n",
       "      <td>300</td>\n",
       "      <td>34</td>\n",
       "      <td>0</td>\n",
       "      <td>300</td>\n",
       "    </tr>\n",
       "    <tr>\n",
       "      <th>NaN</th>\n",
       "      <td>6875</td>\n",
       "      <td>3943</td>\n",
       "      <td>329</td>\n",
       "      <td>6875</td>\n",
       "    </tr>\n",
       "    <tr>\n",
       "      <th rowspan=\"3\" valign=\"top\">NaN</th>\n",
       "      <th>0.0</th>\n",
       "      <td>2</td>\n",
       "      <td>0</td>\n",
       "      <td>0</td>\n",
       "      <td>2</td>\n",
       "    </tr>\n",
       "    <tr>\n",
       "      <th>1.0</th>\n",
       "      <td>203</td>\n",
       "      <td>171</td>\n",
       "      <td>0</td>\n",
       "      <td>203</td>\n",
       "    </tr>\n",
       "    <tr>\n",
       "      <th>NaN</th>\n",
       "      <td>3498</td>\n",
       "      <td>3389</td>\n",
       "      <td>408</td>\n",
       "      <td>3498</td>\n",
       "    </tr>\n",
       "  </tbody>\n",
       "</table>\n",
       "</div>"
      ],
      "text/plain": [
       "              CareerString  CareerDateString_2022  MultipleSubstrings  _merge\n",
       "IsJob NotJob                                                                 \n",
       "False NaN              455                    259                   0     455\n",
       "True  0.0              415                    232                   0     415\n",
       "      1.0              300                     34                   0     300\n",
       "      NaN             6875                   3943                 329    6875\n",
       "NaN   0.0                2                      0                   0       2\n",
       "      1.0              203                    171                   0     203\n",
       "      NaN             3498                   3389                 408    3498"
      ]
     },
     "execution_count": 156,
     "metadata": {},
     "output_type": "execute_result"
    }
   ],
   "source": [
    "# IsJob = \n",
    "careers1.groupby([\"IsJob\",\"NotJob\"],dropna=False).count()"
   ]
  },
  {
   "cell_type": "code",
   "execution_count": 135,
   "id": "af3c3025",
   "metadata": {},
   "outputs": [
    {
     "data": {
      "text/plain": [
       "(4227, 6)"
      ]
     },
     "execution_count": 135,
     "metadata": {},
     "output_type": "execute_result"
    }
   ],
   "source": [
    "careers1[careers1[\"_merge\"]==\"left_only\"].shape"
   ]
  },
  {
   "cell_type": "code",
   "execution_count": 136,
   "id": "7fcf08ca",
   "metadata": {},
   "outputs": [
    {
     "data": {
      "text/plain": [
       "(3842, 6)"
      ]
     },
     "execution_count": 136,
     "metadata": {},
     "output_type": "execute_result"
    }
   ],
   "source": [
    "careers1[careers1[\"_merge\"]==\"both\"].shape"
   ]
  },
  {
   "cell_type": "code",
   "execution_count": 137,
   "id": "a82cc3fe",
   "metadata": {},
   "outputs": [
    {
     "data": {
      "text/plain": [
       "(3750, 6)"
      ]
     },
     "execution_count": 137,
     "metadata": {},
     "output_type": "execute_result"
    }
   ],
   "source": [
    "careers1[careers1[\"_merge\"]==\"right_only\"].shape"
   ]
  },
  {
   "cell_type": "code",
   "execution_count": 139,
   "id": "ec44d687",
   "metadata": {},
   "outputs": [],
   "source": [
    "careers1_left = careers1[careers1[\"_merge\"]==\"left_only\"]"
   ]
  },
  {
   "cell_type": "code",
   "execution_count": 141,
   "id": "a86b737c",
   "metadata": {},
   "outputs": [
    {
     "data": {
      "text/html": [
       "<div>\n",
       "<style scoped>\n",
       "    .dataframe tbody tr th:only-of-type {\n",
       "        vertical-align: middle;\n",
       "    }\n",
       "\n",
       "    .dataframe tbody tr th {\n",
       "        vertical-align: top;\n",
       "    }\n",
       "\n",
       "    .dataframe thead th {\n",
       "        text-align: right;\n",
       "    }\n",
       "</style>\n",
       "<table border=\"1\" class=\"dataframe\">\n",
       "  <thead>\n",
       "    <tr style=\"text-align: right;\">\n",
       "      <th></th>\n",
       "      <th></th>\n",
       "      <th>CareerString</th>\n",
       "      <th>CareerDateString_2022</th>\n",
       "      <th>MultipleSubstrings</th>\n",
       "      <th>_merge</th>\n",
       "    </tr>\n",
       "    <tr>\n",
       "      <th>IsJob</th>\n",
       "      <th>NotJob</th>\n",
       "      <th></th>\n",
       "      <th></th>\n",
       "      <th></th>\n",
       "      <th></th>\n",
       "    </tr>\n",
       "  </thead>\n",
       "  <tbody>\n",
       "    <tr>\n",
       "      <th>False</th>\n",
       "      <th>NaN</th>\n",
       "      <td>455</td>\n",
       "      <td>259</td>\n",
       "      <td>0</td>\n",
       "      <td>455</td>\n",
       "    </tr>\n",
       "    <tr>\n",
       "      <th>True</th>\n",
       "      <th>NaN</th>\n",
       "      <td>3772</td>\n",
       "      <td>3618</td>\n",
       "      <td>0</td>\n",
       "      <td>3772</td>\n",
       "    </tr>\n",
       "  </tbody>\n",
       "</table>\n",
       "</div>"
      ],
      "text/plain": [
       "              CareerString  CareerDateString_2022  MultipleSubstrings  _merge\n",
       "IsJob NotJob                                                                 \n",
       "False NaN              455                    259                   0     455\n",
       "True  NaN             3772                   3618                   0    3772"
      ]
     },
     "execution_count": 141,
     "metadata": {},
     "output_type": "execute_result"
    }
   ],
   "source": [
    "careers1_left.groupby([\"IsJob\",\"NotJob\"],dropna=False).count()"
   ]
  },
  {
   "cell_type": "code",
   "execution_count": 145,
   "id": "e0073072",
   "metadata": {},
   "outputs": [
    {
     "data": {
      "text/html": [
       "<div>\n",
       "<style scoped>\n",
       "    .dataframe tbody tr th:only-of-type {\n",
       "        vertical-align: middle;\n",
       "    }\n",
       "\n",
       "    .dataframe tbody tr th {\n",
       "        vertical-align: top;\n",
       "    }\n",
       "\n",
       "    .dataframe thead th {\n",
       "        text-align: right;\n",
       "    }\n",
       "</style>\n",
       "<table border=\"1\" class=\"dataframe\">\n",
       "  <thead>\n",
       "    <tr style=\"text-align: right;\">\n",
       "      <th></th>\n",
       "      <th>CareerString</th>\n",
       "      <th>CareerDateString_2022</th>\n",
       "      <th>IsJob</th>\n",
       "      <th>NotJob</th>\n",
       "      <th>MultipleSubstrings</th>\n",
       "      <th>_merge</th>\n",
       "    </tr>\n",
       "  </thead>\n",
       "  <tbody>\n",
       "    <tr>\n",
       "      <th>0</th>\n",
       "      <td>개성공단 남북공동위원회 통행통신통관 분과위원회</td>\n",
       "      <td>2013.09 ~ 2014.01</td>\n",
       "      <td>True</td>\n",
       "      <td>NaN</td>\n",
       "      <td>NaN</td>\n",
       "      <td>left_only</td>\n",
       "    </tr>\n",
       "    <tr>\n",
       "      <th>2</th>\n",
       "      <td>근로단체부장 해임 * 후임: 리일환</td>\n",
       "      <td>2014</td>\n",
       "      <td>True</td>\n",
       "      <td>NaN</td>\n",
       "      <td>NaN</td>\n",
       "      <td>left_only</td>\n",
       "    </tr>\n",
       "    <tr>\n",
       "      <th>4</th>\n",
       "      <td>노동성 상(유임)</td>\n",
       "      <td>1999.02</td>\n",
       "      <td>True</td>\n",
       "      <td>NaN</td>\n",
       "      <td>NaN</td>\n",
       "      <td>left_only</td>\n",
       "    </tr>\n",
       "    <tr>\n",
       "      <th>6</th>\n",
       "      <td>당 정치국 후보위원</td>\n",
       "      <td>2020.01</td>\n",
       "      <td>True</td>\n",
       "      <td>NaN</td>\n",
       "      <td>NaN</td>\n",
       "      <td>left_only</td>\n",
       "    </tr>\n",
       "    <tr>\n",
       "      <th>7</th>\n",
       "      <td>당 중앙위원회 정치국 위원 (*당 중앙위원회 제7기 제4차 전원회의에서 보선)</td>\n",
       "      <td>2019.04</td>\n",
       "      <td>True</td>\n",
       "      <td>NaN</td>\n",
       "      <td>NaN</td>\n",
       "      <td>left_only</td>\n",
       "    </tr>\n",
       "    <tr>\n",
       "      <th>...</th>\n",
       "      <td>...</td>\n",
       "      <td>...</td>\n",
       "      <td>...</td>\n",
       "      <td>...</td>\n",
       "      <td>...</td>\n",
       "      <td>...</td>\n",
       "    </tr>\n",
       "    <tr>\n",
       "      <th>8002</th>\n",
       "      <td>호위사령관 해임</td>\n",
       "      <td>2004</td>\n",
       "      <td>True</td>\n",
       "      <td>NaN</td>\n",
       "      <td>NaN</td>\n",
       "      <td>left_only</td>\n",
       "    </tr>\n",
       "    <tr>\n",
       "      <th>8012</th>\n",
       "      <td>화성의숙(길림성 화전현) 전학</td>\n",
       "      <td>1926</td>\n",
       "      <td>True</td>\n",
       "      <td>NaN</td>\n",
       "      <td>NaN</td>\n",
       "      <td>left_only</td>\n",
       "    </tr>\n",
       "    <tr>\n",
       "      <th>8039</th>\n",
       "      <td>황해북도 당 위원회 위원장, 당 중앙위원회 위원</td>\n",
       "      <td>2017.10</td>\n",
       "      <td>True</td>\n",
       "      <td>NaN</td>\n",
       "      <td>NaN</td>\n",
       "      <td>left_only</td>\n",
       "    </tr>\n",
       "    <tr>\n",
       "      <th>8052</th>\n",
       "      <td>황해북도 행정경제위원회 위원장(해임)</td>\n",
       "      <td>1994.05</td>\n",
       "      <td>True</td>\n",
       "      <td>NaN</td>\n",
       "      <td>NaN</td>\n",
       "      <td>left_only</td>\n",
       "    </tr>\n",
       "    <tr>\n",
       "      <th>8068</th>\n",
       "      <td>희천정밀기계공장 지배인</td>\n",
       "      <td>1976</td>\n",
       "      <td>True</td>\n",
       "      <td>NaN</td>\n",
       "      <td>NaN</td>\n",
       "      <td>left_only</td>\n",
       "    </tr>\n",
       "  </tbody>\n",
       "</table>\n",
       "<p>3772 rows × 6 columns</p>\n",
       "</div>"
      ],
      "text/plain": [
       "                                        CareerString CareerDateString_2022  \\\n",
       "0                          개성공단 남북공동위원회 통행통신통관 분과위원회     2013.09 ~ 2014.01   \n",
       "2                                근로단체부장 해임 * 후임: 리일환                  2014   \n",
       "4                                          노동성 상(유임)               1999.02   \n",
       "6                                         당 정치국 후보위원               2020.01   \n",
       "7      당 중앙위원회 정치국 위원 (*당 중앙위원회 제7기 제4차 전원회의에서 보선)                 2019.04   \n",
       "...                                              ...                   ...   \n",
       "8002                                        호위사령관 해임                  2004   \n",
       "8012                                화성의숙(길림성 화전현) 전학                  1926   \n",
       "8039                      황해북도 당 위원회 위원장, 당 중앙위원회 위원               2017.10   \n",
       "8052                            황해북도 행정경제위원회 위원장(해임)               1994.05   \n",
       "8068                                    희천정밀기계공장 지배인                  1976   \n",
       "\n",
       "     IsJob  NotJob  MultipleSubstrings     _merge  \n",
       "0     True     NaN                 NaN  left_only  \n",
       "2     True     NaN                 NaN  left_only  \n",
       "4     True     NaN                 NaN  left_only  \n",
       "6     True     NaN                 NaN  left_only  \n",
       "7     True     NaN                 NaN  left_only  \n",
       "...    ...     ...                 ...        ...  \n",
       "8002  True     NaN                 NaN  left_only  \n",
       "8012  True     NaN                 NaN  left_only  \n",
       "8039  True     NaN                 NaN  left_only  \n",
       "8052  True     NaN                 NaN  left_only  \n",
       "8068  True     NaN                 NaN  left_only  \n",
       "\n",
       "[3772 rows x 6 columns]"
      ]
     },
     "execution_count": 145,
     "metadata": {},
     "output_type": "execute_result"
    }
   ],
   "source": [
    "careers1_left[careers1_left[\"IsJob\"]==True]"
   ]
  },
  {
   "cell_type": "code",
   "execution_count": 142,
   "id": "846ce441",
   "metadata": {},
   "outputs": [],
   "source": [
    "careers1_both = careers1[careers1[\"_merge\"]==\"both\"]"
   ]
  },
  {
   "cell_type": "code",
   "execution_count": 143,
   "id": "2376987f",
   "metadata": {},
   "outputs": [
    {
     "data": {
      "text/html": [
       "<div>\n",
       "<style scoped>\n",
       "    .dataframe tbody tr th:only-of-type {\n",
       "        vertical-align: middle;\n",
       "    }\n",
       "\n",
       "    .dataframe tbody tr th {\n",
       "        vertical-align: top;\n",
       "    }\n",
       "\n",
       "    .dataframe thead th {\n",
       "        text-align: right;\n",
       "    }\n",
       "</style>\n",
       "<table border=\"1\" class=\"dataframe\">\n",
       "  <thead>\n",
       "    <tr style=\"text-align: right;\">\n",
       "      <th></th>\n",
       "      <th></th>\n",
       "      <th>CareerString</th>\n",
       "      <th>CareerDateString_2022</th>\n",
       "      <th>MultipleSubstrings</th>\n",
       "      <th>_merge</th>\n",
       "    </tr>\n",
       "    <tr>\n",
       "      <th>IsJob</th>\n",
       "      <th>NotJob</th>\n",
       "      <th></th>\n",
       "      <th></th>\n",
       "      <th></th>\n",
       "      <th></th>\n",
       "    </tr>\n",
       "  </thead>\n",
       "  <tbody>\n",
       "    <tr>\n",
       "      <th rowspan=\"3\" valign=\"top\">True</th>\n",
       "      <th>0.0</th>\n",
       "      <td>415</td>\n",
       "      <td>232</td>\n",
       "      <td>0</td>\n",
       "      <td>415</td>\n",
       "    </tr>\n",
       "    <tr>\n",
       "      <th>1.0</th>\n",
       "      <td>300</td>\n",
       "      <td>34</td>\n",
       "      <td>0</td>\n",
       "      <td>300</td>\n",
       "    </tr>\n",
       "    <tr>\n",
       "      <th>NaN</th>\n",
       "      <td>3127</td>\n",
       "      <td>349</td>\n",
       "      <td>329</td>\n",
       "      <td>3127</td>\n",
       "    </tr>\n",
       "  </tbody>\n",
       "</table>\n",
       "</div>"
      ],
      "text/plain": [
       "              CareerString  CareerDateString_2022  MultipleSubstrings  _merge\n",
       "IsJob NotJob                                                                 \n",
       "True  0.0              415                    232                   0     415\n",
       "      1.0              300                     34                   0     300\n",
       "      NaN             3127                    349                 329    3127"
      ]
     },
     "execution_count": 143,
     "metadata": {},
     "output_type": "execute_result"
    }
   ],
   "source": [
    "careers1_both.groupby([\"IsJob\",\"NotJob\"],dropna=False).count()"
   ]
  },
  {
   "cell_type": "code",
   "execution_count": null,
   "id": "f125fd05",
   "metadata": {},
   "outputs": [],
   "source": []
  },
  {
   "cell_type": "code",
   "execution_count": null,
   "id": "4a2ebca2",
   "metadata": {},
   "outputs": [],
   "source": []
  },
  {
   "cell_type": "code",
   "execution_count": null,
   "id": "c5f56040",
   "metadata": {},
   "outputs": [],
   "source": []
  },
  {
   "cell_type": "code",
   "execution_count": null,
   "id": "b6d28fe7",
   "metadata": {},
   "outputs": [],
   "source": []
  },
  {
   "cell_type": "code",
   "execution_count": null,
   "id": "20fe2e37",
   "metadata": {},
   "outputs": [],
   "source": []
  },
  {
   "cell_type": "code",
   "execution_count": null,
   "id": "7bf5388c",
   "metadata": {},
   "outputs": [],
   "source": []
  }
 ],
 "metadata": {
  "kernelspec": {
   "display_name": "Python 3 (ipykernel)",
   "language": "python",
   "name": "python3"
  },
  "language_info": {
   "codemirror_mode": {
    "name": "ipython",
    "version": 3
   },
   "file_extension": ".py",
   "mimetype": "text/x-python",
   "name": "python",
   "nbconvert_exporter": "python",
   "pygments_lexer": "ipython3",
   "version": "3.11.0"
  }
 },
 "nbformat": 4,
 "nbformat_minor": 5
}
