{
 "cells": [
  {
   "cell_type": "code",
   "execution_count": 1,
   "id": "74698cf3",
   "metadata": {},
   "outputs": [],
   "source": [
    "import pandas as pd\n",
    "import numpy as np"
   ]
  },
  {
   "cell_type": "markdown",
   "id": "aaf25c71",
   "metadata": {},
   "source": [
    "# combined data - 2 tables"
   ]
  },
  {
   "cell_type": "code",
   "execution_count": 2,
   "id": "f2c9c339",
   "metadata": {},
   "outputs": [],
   "source": [
    "path_tables = \"C:/Users/seoul/Dropbox/00 technical/github/nkelites/data/combined data/combined data - 2 tables/\""
   ]
  },
  {
   "cell_type": "code",
   "execution_count": 3,
   "id": "1c1ab934",
   "metadata": {},
   "outputs": [],
   "source": [
    "filename_leadercareerlink = \"leadercareerlink.xlsx\""
   ]
  },
  {
   "cell_type": "code",
   "execution_count": 4,
   "id": "f86d0874",
   "metadata": {},
   "outputs": [],
   "source": [
    "filename_leaderjoblink = \"leaderjoblink.xlsx\""
   ]
  },
  {
   "cell_type": "code",
   "execution_count": 5,
   "id": "09c3c30a",
   "metadata": {},
   "outputs": [],
   "source": [
    "filename_joborglink = \"joborglink.xlsx\""
   ]
  },
  {
   "cell_type": "markdown",
   "id": "c2a10c37",
   "metadata": {},
   "source": [
    "# combined data - 1 cleaning/cleaning step 2 - career/"
   ]
  },
  {
   "cell_type": "code",
   "execution_count": 6,
   "id": "a9386ddd",
   "metadata": {},
   "outputs": [],
   "source": [
    "path_cleaning = \"C:/Users/seoul/Dropbox/00 technical/github/nkelites/data/combined data/combined data - 1 cleaning/cleaning step 2 - career/\""
   ]
  },
  {
   "cell_type": "code",
   "execution_count": 7,
   "id": "ea8288fa",
   "metadata": {},
   "outputs": [],
   "source": [
    "subpath_2_1 = \"2.1 career_undivided_unparsed_uncoded/\"\n",
    "subpath_2_2 = \"2.2 career_divided_unparsed_uncoded/\"\n",
    "subpath_2_3 = \"2.3 joborglink/\""
   ]
  },
  {
   "cell_type": "code",
   "execution_count": 8,
   "id": "462ea7c6",
   "metadata": {},
   "outputs": [
    {
     "data": {
      "text/plain": [
       "(12985, 4)"
      ]
     },
     "execution_count": 8,
     "metadata": {},
     "output_type": "execute_result"
    }
   ],
   "source": [
    "filein_careerlink = \"career_link_undivided_unparsed_uncoded.xlsx\"\n",
    "careerlink = pd.read_excel(path_cleaning + subpath_2_1 + filein_careerlink)\n",
    "careerlink.shape"
   ]
  },
  {
   "cell_type": "code",
   "execution_count": 9,
   "id": "a54d03bb",
   "metadata": {},
   "outputs": [
    {
     "data": {
      "text/plain": [
       "(7590, 3)"
      ]
     },
     "execution_count": 9,
     "metadata": {},
     "output_type": "execute_result"
    }
   ],
   "source": [
    "filein_careerjobs = \"career_jobs_unparsed_uncoded.xlsx\"\n",
    "careerjobs = pd.read_excel(path_cleaning + subpath_2_2 + filein_careerjobs)\n",
    "careerjobs.shape"
   ]
  },
  {
   "cell_type": "code",
   "execution_count": 96,
   "id": "52b4d4d7",
   "metadata": {},
   "outputs": [
    {
     "data": {
      "text/plain": [
       "(7592, 14)"
      ]
     },
     "execution_count": 96,
     "metadata": {},
     "output_type": "execute_result"
    }
   ],
   "source": [
    "# hand coded MultipleSubstrings, NotJob\n",
    "# update these variables in careers\n",
    "# but [CareerString,CareerDateString_2022] are mismatched\n",
    "# ignore CareerDateString_2022. only match on CareerString\n",
    "\n",
    "filein_multiple = \"joborglink_1_mergeold_mail.xlsx\"\n",
    "jol1 = pd.read_excel(path_cleaning + subpath_2_3 + filein_multiple)\n",
    "jol1.shape"
   ]
  },
  {
   "cell_type": "code",
   "execution_count": 151,
   "id": "db117daf",
   "metadata": {},
   "outputs": [
    {
     "data": {
      "text/plain": [
       "(5897, 9)"
      ]
     },
     "execution_count": 151,
     "metadata": {},
     "output_type": "execute_result"
    }
   ],
   "source": [
    "filein_singlesub = \"joborglink_2_substr_single_1tocode_4Mail_Lee.xlsx\"\n",
    "singlesub = pd.read_excel(path_cleaning + subpath_2_3 + filein_singlesub)\n",
    "singlesub.shape"
   ]
  },
  {
   "cell_type": "code",
   "execution_count": 123,
   "id": "3098f83a",
   "metadata": {},
   "outputs": [
    {
     "data": {
      "text/plain": [
       "(1756, 11)"
      ]
     },
     "execution_count": 123,
     "metadata": {},
     "output_type": "execute_result"
    }
   ],
   "source": [
    "# multisub should have 1695 unique CareerString. 1756 are the expanded CareerSubstrings\n",
    "filein_multisub = \"joborglink_2_substr_multi2_1tocode_Mail_Lee.xlsx\"\n",
    "multisub = pd.read_excel(path_cleaning + subpath_2_3 + filein_multisub)\n",
    "multisub.shape"
   ]
  },
  {
   "cell_type": "code",
   "execution_count": null,
   "id": "73ff80c4",
   "metadata": {},
   "outputs": [],
   "source": []
  },
  {
   "cell_type": "code",
   "execution_count": null,
   "id": "1ebc1d37",
   "metadata": {},
   "outputs": [],
   "source": []
  },
  {
   "cell_type": "code",
   "execution_count": null,
   "id": "24dbae9b",
   "metadata": {},
   "outputs": [],
   "source": []
  },
  {
   "cell_type": "code",
   "execution_count": 11,
   "id": "3d6ccd02",
   "metadata": {},
   "outputs": [
    {
     "data": {
      "text/plain": [
       "(1425, 4)"
      ]
     },
     "execution_count": 11,
     "metadata": {},
     "output_type": "execute_result"
    }
   ],
   "source": [
    "filein_jol_7 = \"joborglink_7_2.xlsx\"\n",
    "jol7 = pd.read_excel(path_cleaning + subpath_2_3 + filein_jol_7)\n",
    "jol7.shape"
   ]
  },
  {
   "cell_type": "code",
   "execution_count": null,
   "id": "2219229a",
   "metadata": {},
   "outputs": [],
   "source": []
  },
  {
   "cell_type": "markdown",
   "id": "fd9368f2",
   "metadata": {},
   "source": [
    "# 1. leadercareerlink "
   ]
  },
  {
   "cell_type": "code",
   "execution_count": 12,
   "id": "8b92ff4a",
   "metadata": {},
   "outputs": [
    {
     "data": {
      "text/html": [
       "<div>\n",
       "<style scoped>\n",
       "    .dataframe tbody tr th:only-of-type {\n",
       "        vertical-align: middle;\n",
       "    }\n",
       "\n",
       "    .dataframe tbody tr th {\n",
       "        vertical-align: top;\n",
       "    }\n",
       "\n",
       "    .dataframe thead th {\n",
       "        text-align: right;\n",
       "    }\n",
       "</style>\n",
       "<table border=\"1\" class=\"dataframe\">\n",
       "  <thead>\n",
       "    <tr style=\"text-align: right;\">\n",
       "      <th></th>\n",
       "      <th>LeaderID</th>\n",
       "      <th>CareerStringID_2015</th>\n",
       "      <th>CareerString</th>\n",
       "      <th>CareerDateString_2022</th>\n",
       "    </tr>\n",
       "  </thead>\n",
       "  <tbody>\n",
       "    <tr>\n",
       "      <th>0</th>\n",
       "      <td>리선권</td>\n",
       "      <td>NaN</td>\n",
       "      <td>개성공단 남북공동위원회 통행통신통관 분과위원회</td>\n",
       "      <td>2013.09 ~ 2014.01</td>\n",
       "    </tr>\n",
       "    <tr>\n",
       "      <th>1</th>\n",
       "      <td>조경철</td>\n",
       "      <td>NaN</td>\n",
       "      <td>故 김정일 국가장의위원회 위원</td>\n",
       "      <td>2011.12</td>\n",
       "    </tr>\n",
       "    <tr>\n",
       "      <th>2</th>\n",
       "      <td>리영수</td>\n",
       "      <td>NaN</td>\n",
       "      <td>근로단체부장 해임 * 후임: 리일환</td>\n",
       "      <td>2014</td>\n",
       "    </tr>\n",
       "  </tbody>\n",
       "</table>\n",
       "</div>"
      ],
      "text/plain": [
       "  LeaderID  CareerStringID_2015                CareerString  \\\n",
       "0      리선권                  NaN   개성공단 남북공동위원회 통행통신통관 분과위원회   \n",
       "1      조경철                  NaN            故 김정일 국가장의위원회 위원   \n",
       "2      리영수                  NaN         근로단체부장 해임 * 후임: 리일환   \n",
       "\n",
       "  CareerDateString_2022  \n",
       "0     2013.09 ~ 2014.01  \n",
       "1               2011.12  \n",
       "2                  2014  "
      ]
     },
     "execution_count": 12,
     "metadata": {},
     "output_type": "execute_result"
    }
   ],
   "source": [
    "# from career_link_undivided_unparsed_uncoded\n",
    "careerlink.head(3)"
   ]
  },
  {
   "cell_type": "code",
   "execution_count": 13,
   "id": "9009d1da",
   "metadata": {},
   "outputs": [],
   "source": [
    "select_columns = [\"LeaderID\",\"CareerString\",\"CareerDateString_2022\"]\n",
    "careerlink = careerlink[select_columns]"
   ]
  },
  {
   "cell_type": "code",
   "execution_count": 14,
   "id": "730707b2",
   "metadata": {},
   "outputs": [
    {
     "data": {
      "text/html": [
       "<div>\n",
       "<style scoped>\n",
       "    .dataframe tbody tr th:only-of-type {\n",
       "        vertical-align: middle;\n",
       "    }\n",
       "\n",
       "    .dataframe tbody tr th {\n",
       "        vertical-align: top;\n",
       "    }\n",
       "\n",
       "    .dataframe thead th {\n",
       "        text-align: right;\n",
       "    }\n",
       "</style>\n",
       "<table border=\"1\" class=\"dataframe\">\n",
       "  <thead>\n",
       "    <tr style=\"text-align: right;\">\n",
       "      <th></th>\n",
       "      <th>LeaderID</th>\n",
       "      <th>CareerString</th>\n",
       "      <th>CareerDateString_2022</th>\n",
       "    </tr>\n",
       "  </thead>\n",
       "  <tbody>\n",
       "    <tr>\n",
       "      <th>241</th>\n",
       "      <td>김일본</td>\n",
       "      <td>1950.12 민족보위성 부상 겸 문화부 부장</td>\n",
       "      <td>NaN</td>\n",
       "    </tr>\n",
       "    <tr>\n",
       "      <th>242</th>\n",
       "      <td>김일본</td>\n",
       "      <td>1950.12 민족보위성 부상 겸 문화부 부장</td>\n",
       "      <td>NaN</td>\n",
       "    </tr>\n",
       "    <tr>\n",
       "      <th>247</th>\n",
       "      <td>박송봉</td>\n",
       "      <td>1951.~57. 루마니아 유학 연도미상 당 조직지도부, 과학교육부, 기계공업부 등...</td>\n",
       "      <td>NaN</td>\n",
       "    </tr>\n",
       "    <tr>\n",
       "      <th>248</th>\n",
       "      <td>박송봉</td>\n",
       "      <td>1951.~57. 루마니아 유학 연도미상 당 조직지도부, 과학교육부, 기계공업부 등...</td>\n",
       "      <td>NaN</td>\n",
       "    </tr>\n",
       "    <tr>\n",
       "      <th>249</th>\n",
       "      <td>박송봉</td>\n",
       "      <td>1951.~57. 루마니아 유학 연도미상 당 조직지도부, 과학교육부, 기계공업부 등...</td>\n",
       "      <td>NaN</td>\n",
       "    </tr>\n",
       "    <tr>\n",
       "      <th>...</th>\n",
       "      <td>...</td>\n",
       "      <td>...</td>\n",
       "      <td>...</td>\n",
       "    </tr>\n",
       "    <tr>\n",
       "      <th>5468</th>\n",
       "      <td>현영철</td>\n",
       "      <td>2012. 7 인민군 총참모장, 인민군 차수, 당 중앙군사위원회 부위원장</td>\n",
       "      <td>NaN</td>\n",
       "    </tr>\n",
       "    <tr>\n",
       "      <th>5488</th>\n",
       "      <td>리철만</td>\n",
       "      <td>2013. 4 내각 부총리 겸 농업상</td>\n",
       "      <td>NaN</td>\n",
       "    </tr>\n",
       "    <tr>\n",
       "      <th>5489</th>\n",
       "      <td>리철만</td>\n",
       "      <td>2013. 4 내각 부총리 겸 농업상</td>\n",
       "      <td>NaN</td>\n",
       "    </tr>\n",
       "    <tr>\n",
       "      <th>5490</th>\n",
       "      <td>리무영</td>\n",
       "      <td>2013. 4 내각 부총리 겸 화학공업상</td>\n",
       "      <td>NaN</td>\n",
       "    </tr>\n",
       "    <tr>\n",
       "      <th>5491</th>\n",
       "      <td>리무영</td>\n",
       "      <td>2013. 4 내각 부총리 겸 화학공업상</td>\n",
       "      <td>NaN</td>\n",
       "    </tr>\n",
       "  </tbody>\n",
       "</table>\n",
       "<p>668 rows × 3 columns</p>\n",
       "</div>"
      ],
      "text/plain": [
       "     LeaderID                                       CareerString  \\\n",
       "241       김일본                          1950.12 민족보위성 부상 겸 문화부 부장   \n",
       "242       김일본                          1950.12 민족보위성 부상 겸 문화부 부장   \n",
       "247       박송봉  1951.~57. 루마니아 유학 연도미상 당 조직지도부, 과학교육부, 기계공업부 등...   \n",
       "248       박송봉  1951.~57. 루마니아 유학 연도미상 당 조직지도부, 과학교육부, 기계공업부 등...   \n",
       "249       박송봉  1951.~57. 루마니아 유학 연도미상 당 조직지도부, 과학교육부, 기계공업부 등...   \n",
       "...       ...                                                ...   \n",
       "5468      현영철           2012. 7 인민군 총참모장, 인민군 차수, 당 중앙군사위원회 부위원장   \n",
       "5488      리철만                               2013. 4 내각 부총리 겸 농업상   \n",
       "5489      리철만                               2013. 4 내각 부총리 겸 농업상   \n",
       "5490      리무영                             2013. 4 내각 부총리 겸 화학공업상   \n",
       "5491      리무영                             2013. 4 내각 부총리 겸 화학공업상   \n",
       "\n",
       "     CareerDateString_2022  \n",
       "241                    NaN  \n",
       "242                    NaN  \n",
       "247                    NaN  \n",
       "248                    NaN  \n",
       "249                    NaN  \n",
       "...                    ...  \n",
       "5468                   NaN  \n",
       "5488                   NaN  \n",
       "5489                   NaN  \n",
       "5490                   NaN  \n",
       "5491                   NaN  \n",
       "\n",
       "[668 rows x 3 columns]"
      ]
     },
     "execution_count": 14,
     "metadata": {},
     "output_type": "execute_result"
    }
   ],
   "source": [
    "careerlink[careerlink.duplicated(keep=False)]"
   ]
  },
  {
   "cell_type": "code",
   "execution_count": 15,
   "id": "1c450073",
   "metadata": {},
   "outputs": [
    {
     "data": {
      "text/plain": [
       "(12617, 3)"
      ]
     },
     "execution_count": 15,
     "metadata": {},
     "output_type": "execute_result"
    }
   ],
   "source": [
    "leadercareerlink = careerlink.drop_duplicates(keep=\"first\")\n",
    "leadercareerlink.shape"
   ]
  },
  {
   "cell_type": "code",
   "execution_count": 16,
   "id": "334185dd",
   "metadata": {},
   "outputs": [
    {
     "data": {
      "text/html": [
       "<div>\n",
       "<style scoped>\n",
       "    .dataframe tbody tr th:only-of-type {\n",
       "        vertical-align: middle;\n",
       "    }\n",
       "\n",
       "    .dataframe tbody tr th {\n",
       "        vertical-align: top;\n",
       "    }\n",
       "\n",
       "    .dataframe thead th {\n",
       "        text-align: right;\n",
       "    }\n",
       "</style>\n",
       "<table border=\"1\" class=\"dataframe\">\n",
       "  <thead>\n",
       "    <tr style=\"text-align: right;\">\n",
       "      <th></th>\n",
       "      <th>LeaderID</th>\n",
       "      <th>CareerString</th>\n",
       "      <th>CareerDateString_2022</th>\n",
       "    </tr>\n",
       "  </thead>\n",
       "  <tbody>\n",
       "    <tr>\n",
       "      <th>0</th>\n",
       "      <td>리선권</td>\n",
       "      <td>개성공단 남북공동위원회 통행통신통관 분과위원회</td>\n",
       "      <td>2013.09 ~ 2014.01</td>\n",
       "    </tr>\n",
       "    <tr>\n",
       "      <th>1</th>\n",
       "      <td>조경철</td>\n",
       "      <td>故 김정일 국가장의위원회 위원</td>\n",
       "      <td>2011.12</td>\n",
       "    </tr>\n",
       "    <tr>\n",
       "      <th>2</th>\n",
       "      <td>리영수</td>\n",
       "      <td>근로단체부장 해임 * 후임: 리일환</td>\n",
       "      <td>2014</td>\n",
       "    </tr>\n",
       "    <tr>\n",
       "      <th>3</th>\n",
       "      <td>리설주</td>\n",
       "      <td>금수산궁전 개관식 참석시 동행</td>\n",
       "      <td>2013.08</td>\n",
       "    </tr>\n",
       "    <tr>\n",
       "      <th>4</th>\n",
       "      <td>리원일</td>\n",
       "      <td>노동성 상(유임)</td>\n",
       "      <td>1999.02</td>\n",
       "    </tr>\n",
       "  </tbody>\n",
       "</table>\n",
       "</div>"
      ],
      "text/plain": [
       "  LeaderID                CareerString CareerDateString_2022\n",
       "0      리선권   개성공단 남북공동위원회 통행통신통관 분과위원회     2013.09 ~ 2014.01\n",
       "1      조경철            故 김정일 국가장의위원회 위원               2011.12\n",
       "2      리영수         근로단체부장 해임 * 후임: 리일환                  2014\n",
       "3      리설주            금수산궁전 개관식 참석시 동행               2013.08\n",
       "4      리원일                   노동성 상(유임)               1999.02"
      ]
     },
     "execution_count": 16,
     "metadata": {},
     "output_type": "execute_result"
    }
   ],
   "source": [
    "leadercareerlink.head(5)"
   ]
  },
  {
   "cell_type": "code",
   "execution_count": 17,
   "id": "d0902053",
   "metadata": {},
   "outputs": [],
   "source": [
    "# export leadercareerlink to tables\n",
    "# leadercareerlink.to_excel(path_tables+filename_leadercareerlink,index=False)"
   ]
  },
  {
   "cell_type": "markdown",
   "id": "3b1ecb8c",
   "metadata": {},
   "source": [
    "# 2. joborglink"
   ]
  },
  {
   "cell_type": "markdown",
   "id": "f30125de",
   "metadata": {},
   "source": [
    "### 2.1 - careers - isolate careers from leadercareerlink"
   ]
  },
  {
   "cell_type": "code",
   "execution_count": 18,
   "id": "a2c571c8",
   "metadata": {},
   "outputs": [
    {
     "data": {
      "text/plain": [
       "(12617, 2)"
      ]
     },
     "execution_count": 18,
     "metadata": {},
     "output_type": "execute_result"
    }
   ],
   "source": [
    "select_columns = [\"CareerString\",\"CareerDateString_2022\"]\n",
    "careers = leadercareerlink[select_columns]\n",
    "careers.shape"
   ]
  },
  {
   "cell_type": "code",
   "execution_count": 19,
   "id": "1af3b03a",
   "metadata": {},
   "outputs": [
    {
     "data": {
      "text/plain": [
       "(5125, 2)"
      ]
     },
     "execution_count": 19,
     "metadata": {},
     "output_type": "execute_result"
    }
   ],
   "source": [
    "careers[careers.duplicated(keep=False)].shape"
   ]
  },
  {
   "cell_type": "code",
   "execution_count": 20,
   "id": "fbc89b26",
   "metadata": {},
   "outputs": [
    {
     "data": {
      "text/plain": [
       "(8045, 2)"
      ]
     },
     "execution_count": 20,
     "metadata": {},
     "output_type": "execute_result"
    }
   ],
   "source": [
    "careers = careers.drop_duplicates(keep=\"first\")\n",
    "careers.shape"
   ]
  },
  {
   "cell_type": "code",
   "execution_count": 21,
   "id": "8bd0d331",
   "metadata": {},
   "outputs": [
    {
     "data": {
      "text/html": [
       "<div>\n",
       "<style scoped>\n",
       "    .dataframe tbody tr th:only-of-type {\n",
       "        vertical-align: middle;\n",
       "    }\n",
       "\n",
       "    .dataframe tbody tr th {\n",
       "        vertical-align: top;\n",
       "    }\n",
       "\n",
       "    .dataframe thead th {\n",
       "        text-align: right;\n",
       "    }\n",
       "</style>\n",
       "<table border=\"1\" class=\"dataframe\">\n",
       "  <thead>\n",
       "    <tr style=\"text-align: right;\">\n",
       "      <th></th>\n",
       "      <th>CareerString</th>\n",
       "      <th>CareerDateString_2022</th>\n",
       "    </tr>\n",
       "  </thead>\n",
       "  <tbody>\n",
       "  </tbody>\n",
       "</table>\n",
       "</div>"
      ],
      "text/plain": [
       "Empty DataFrame\n",
       "Columns: [CareerString, CareerDateString_2022]\n",
       "Index: []"
      ]
     },
     "execution_count": 21,
     "metadata": {},
     "output_type": "execute_result"
    }
   ],
   "source": [
    "careers[careers.duplicated([\"CareerString\",\"CareerDateString_2022\"],keep=False)]"
   ]
  },
  {
   "cell_type": "markdown",
   "id": "fb4d4e27",
   "metadata": {},
   "source": [
    "### 2.2 - careers0 - add IsJob\n",
    "- compare careers with career_jobs_unparsed_uncoded\n",
    "- add IsJob=False for all rows\n",
    "- recode IsJob=True for all CareerString contained in career_jobs_unparsed_uncoded\n",
    "- don't code CareerStringType - because we still have MultipleSubstrings\n",
    "- just note that all career_jobs_unparsed_uncoded are contained in careers\n",
    "- later, use the files in subpath_2_2 = \"2.2 career_divided_unparsed_uncoded/\" to help code CareerSubstringType"
   ]
  },
  {
   "cell_type": "code",
   "execution_count": 22,
   "id": "e3b155ee",
   "metadata": {},
   "outputs": [
    {
     "data": {
      "text/html": [
       "<div>\n",
       "<style scoped>\n",
       "    .dataframe tbody tr th:only-of-type {\n",
       "        vertical-align: middle;\n",
       "    }\n",
       "\n",
       "    .dataframe tbody tr th {\n",
       "        vertical-align: top;\n",
       "    }\n",
       "\n",
       "    .dataframe thead th {\n",
       "        text-align: right;\n",
       "    }\n",
       "</style>\n",
       "<table border=\"1\" class=\"dataframe\">\n",
       "  <thead>\n",
       "    <tr style=\"text-align: right;\">\n",
       "      <th></th>\n",
       "      <th>CareerString</th>\n",
       "      <th>CareerDateString_2022</th>\n",
       "      <th>CareerStringID</th>\n",
       "    </tr>\n",
       "  </thead>\n",
       "  <tbody>\n",
       "    <tr>\n",
       "      <th>0</th>\n",
       "      <td>개성공단 남북공동위원회 통행통신통관 분과위원회</td>\n",
       "      <td>2013.09 ~ 2014.01</td>\n",
       "      <td>1</td>\n",
       "    </tr>\n",
       "    <tr>\n",
       "      <th>1</th>\n",
       "      <td>근로단체부장 해임 * 후임: 리일환</td>\n",
       "      <td>2014</td>\n",
       "      <td>2</td>\n",
       "    </tr>\n",
       "    <tr>\n",
       "      <th>2</th>\n",
       "      <td>노동성 상(유임)</td>\n",
       "      <td>1999.02</td>\n",
       "      <td>4</td>\n",
       "    </tr>\n",
       "  </tbody>\n",
       "</table>\n",
       "</div>"
      ],
      "text/plain": [
       "                 CareerString CareerDateString_2022  CareerStringID\n",
       "0   개성공단 남북공동위원회 통행통신통관 분과위원회     2013.09 ~ 2014.01               1\n",
       "1         근로단체부장 해임 * 후임: 리일환                  2014               2\n",
       "2                   노동성 상(유임)               1999.02               4"
      ]
     },
     "execution_count": 22,
     "metadata": {},
     "output_type": "execute_result"
    }
   ],
   "source": [
    "# compare careers with careerjobs\n",
    "careerjobs.head(3)"
   ]
  },
  {
   "cell_type": "code",
   "execution_count": 23,
   "id": "d8eef284",
   "metadata": {},
   "outputs": [
    {
     "data": {
      "text/plain": [
       "(7590, 2)"
      ]
     },
     "execution_count": 23,
     "metadata": {},
     "output_type": "execute_result"
    }
   ],
   "source": [
    "select_columns = [\"CareerString\",\"CareerDateString_2022\"]\n",
    "careerjobs = careerjobs[select_columns]\n",
    "careerjobs.shape"
   ]
  },
  {
   "cell_type": "code",
   "execution_count": 24,
   "id": "890c52a1",
   "metadata": {},
   "outputs": [
    {
     "data": {
      "text/html": [
       "<div>\n",
       "<style scoped>\n",
       "    .dataframe tbody tr th:only-of-type {\n",
       "        vertical-align: middle;\n",
       "    }\n",
       "\n",
       "    .dataframe tbody tr th {\n",
       "        vertical-align: top;\n",
       "    }\n",
       "\n",
       "    .dataframe thead th {\n",
       "        text-align: right;\n",
       "    }\n",
       "</style>\n",
       "<table border=\"1\" class=\"dataframe\">\n",
       "  <thead>\n",
       "    <tr style=\"text-align: right;\">\n",
       "      <th></th>\n",
       "      <th>CareerString</th>\n",
       "      <th>CareerDateString_2022</th>\n",
       "    </tr>\n",
       "  </thead>\n",
       "  <tbody>\n",
       "  </tbody>\n",
       "</table>\n",
       "</div>"
      ],
      "text/plain": [
       "Empty DataFrame\n",
       "Columns: [CareerString, CareerDateString_2022]\n",
       "Index: []"
      ]
     },
     "execution_count": 24,
     "metadata": {},
     "output_type": "execute_result"
    }
   ],
   "source": [
    "careerjobs[careerjobs.duplicated(keep=False)]"
   ]
  },
  {
   "cell_type": "code",
   "execution_count": 25,
   "id": "94211fb8",
   "metadata": {},
   "outputs": [
    {
     "data": {
      "text/html": [
       "<div>\n",
       "<style scoped>\n",
       "    .dataframe tbody tr th:only-of-type {\n",
       "        vertical-align: middle;\n",
       "    }\n",
       "\n",
       "    .dataframe tbody tr th {\n",
       "        vertical-align: top;\n",
       "    }\n",
       "\n",
       "    .dataframe thead th {\n",
       "        text-align: right;\n",
       "    }\n",
       "</style>\n",
       "<table border=\"1\" class=\"dataframe\">\n",
       "  <thead>\n",
       "    <tr style=\"text-align: right;\">\n",
       "      <th></th>\n",
       "      <th>CareerString</th>\n",
       "      <th>CareerDateString_2022</th>\n",
       "    </tr>\n",
       "  </thead>\n",
       "  <tbody>\n",
       "    <tr>\n",
       "      <th>0</th>\n",
       "      <td>개성공단 남북공동위원회 통행통신통관 분과위원회</td>\n",
       "      <td>2013.09 ~ 2014.01</td>\n",
       "    </tr>\n",
       "    <tr>\n",
       "      <th>1</th>\n",
       "      <td>故 김정일 국가장의위원회 위원</td>\n",
       "      <td>2011.12</td>\n",
       "    </tr>\n",
       "    <tr>\n",
       "      <th>2</th>\n",
       "      <td>근로단체부장 해임 * 후임: 리일환</td>\n",
       "      <td>2014</td>\n",
       "    </tr>\n",
       "  </tbody>\n",
       "</table>\n",
       "</div>"
      ],
      "text/plain": [
       "                 CareerString CareerDateString_2022\n",
       "0   개성공단 남북공동위원회 통행통신통관 분과위원회     2013.09 ~ 2014.01\n",
       "1            故 김정일 국가장의위원회 위원               2011.12\n",
       "2         근로단체부장 해임 * 후임: 리일환                  2014"
      ]
     },
     "execution_count": 25,
     "metadata": {},
     "output_type": "execute_result"
    }
   ],
   "source": [
    "careers.head(3)"
   ]
  },
  {
   "cell_type": "code",
   "execution_count": 26,
   "id": "a695b5a0",
   "metadata": {},
   "outputs": [],
   "source": [
    "# merge and compare careers & careerjobs\n",
    "select_columns = [\"CareerString\",\"CareerDateString_2022\"]\n",
    "careers0 = careers.merge(careerjobs,on=select_columns,how=\"outer\",indicator=True)"
   ]
  },
  {
   "cell_type": "code",
   "execution_count": 53,
   "id": "6a399726",
   "metadata": {},
   "outputs": [
    {
     "data": {
      "text/plain": [
       "(8045, 3)"
      ]
     },
     "execution_count": 53,
     "metadata": {},
     "output_type": "execute_result"
    }
   ],
   "source": [
    "careers0.shape"
   ]
  },
  {
   "cell_type": "code",
   "execution_count": 27,
   "id": "43cdd770",
   "metadata": {},
   "outputs": [
    {
     "data": {
      "text/html": [
       "<div>\n",
       "<style scoped>\n",
       "    .dataframe tbody tr th:only-of-type {\n",
       "        vertical-align: middle;\n",
       "    }\n",
       "\n",
       "    .dataframe tbody tr th {\n",
       "        vertical-align: top;\n",
       "    }\n",
       "\n",
       "    .dataframe thead th {\n",
       "        text-align: right;\n",
       "    }\n",
       "</style>\n",
       "<table border=\"1\" class=\"dataframe\">\n",
       "  <thead>\n",
       "    <tr style=\"text-align: right;\">\n",
       "      <th></th>\n",
       "      <th>CareerString</th>\n",
       "      <th>CareerDateString_2022</th>\n",
       "      <th>_merge</th>\n",
       "    </tr>\n",
       "  </thead>\n",
       "  <tbody>\n",
       "    <tr>\n",
       "      <th>0</th>\n",
       "      <td>개성공단 남북공동위원회 통행통신통관 분과위원회</td>\n",
       "      <td>2013.09 ~ 2014.01</td>\n",
       "      <td>both</td>\n",
       "    </tr>\n",
       "    <tr>\n",
       "      <th>1</th>\n",
       "      <td>故 김정일 국가장의위원회 위원</td>\n",
       "      <td>2011.12</td>\n",
       "      <td>left_only</td>\n",
       "    </tr>\n",
       "    <tr>\n",
       "      <th>2</th>\n",
       "      <td>근로단체부장 해임 * 후임: 리일환</td>\n",
       "      <td>2014</td>\n",
       "      <td>both</td>\n",
       "    </tr>\n",
       "  </tbody>\n",
       "</table>\n",
       "</div>"
      ],
      "text/plain": [
       "                 CareerString CareerDateString_2022     _merge\n",
       "0   개성공단 남북공동위원회 통행통신통관 분과위원회     2013.09 ~ 2014.01       both\n",
       "1            故 김정일 국가장의위원회 위원               2011.12  left_only\n",
       "2         근로단체부장 해임 * 후임: 리일환                  2014       both"
      ]
     },
     "execution_count": 27,
     "metadata": {},
     "output_type": "execute_result"
    }
   ],
   "source": [
    "careers0.head(3)"
   ]
  },
  {
   "cell_type": "code",
   "execution_count": 28,
   "id": "ac5103f9",
   "metadata": {},
   "outputs": [
    {
     "data": {
      "text/plain": [
       "(455, 3)"
      ]
     },
     "execution_count": 28,
     "metadata": {},
     "output_type": "execute_result"
    }
   ],
   "source": [
    "careers0[careers0[\"_merge\"]==\"left_only\"].shape"
   ]
  },
  {
   "cell_type": "code",
   "execution_count": 29,
   "id": "6833dea1",
   "metadata": {},
   "outputs": [
    {
     "data": {
      "text/plain": [
       "(7590, 3)"
      ]
     },
     "execution_count": 29,
     "metadata": {},
     "output_type": "execute_result"
    }
   ],
   "source": [
    "careers0[careers0[\"_merge\"]==\"both\"].shape"
   ]
  },
  {
   "cell_type": "code",
   "execution_count": 30,
   "id": "281f9f95",
   "metadata": {},
   "outputs": [
    {
     "data": {
      "text/plain": [
       "(0, 3)"
      ]
     },
     "execution_count": 30,
     "metadata": {},
     "output_type": "execute_result"
    }
   ],
   "source": [
    "careers0[careers0[\"_merge\"]==\"right_only\"].shape"
   ]
  },
  {
   "cell_type": "code",
   "execution_count": 31,
   "id": "fb283223",
   "metadata": {},
   "outputs": [
    {
     "data": {
      "text/html": [
       "<div>\n",
       "<style scoped>\n",
       "    .dataframe tbody tr th:only-of-type {\n",
       "        vertical-align: middle;\n",
       "    }\n",
       "\n",
       "    .dataframe tbody tr th {\n",
       "        vertical-align: top;\n",
       "    }\n",
       "\n",
       "    .dataframe thead th {\n",
       "        text-align: right;\n",
       "    }\n",
       "</style>\n",
       "<table border=\"1\" class=\"dataframe\">\n",
       "  <thead>\n",
       "    <tr style=\"text-align: right;\">\n",
       "      <th></th>\n",
       "      <th>CareerString</th>\n",
       "      <th>CareerDateString_2022</th>\n",
       "      <th>_merge</th>\n",
       "    </tr>\n",
       "  </thead>\n",
       "  <tbody>\n",
       "  </tbody>\n",
       "</table>\n",
       "</div>"
      ],
      "text/plain": [
       "Empty DataFrame\n",
       "Columns: [CareerString, CareerDateString_2022, _merge]\n",
       "Index: []"
      ]
     },
     "execution_count": 31,
     "metadata": {},
     "output_type": "execute_result"
    }
   ],
   "source": [
    "careers0[careers0[\"_merge\"]==\"right_only\"]"
   ]
  },
  {
   "cell_type": "code",
   "execution_count": 32,
   "id": "c24b5b20",
   "metadata": {},
   "outputs": [],
   "source": [
    "careers0[\"IsJob\"] = False"
   ]
  },
  {
   "cell_type": "code",
   "execution_count": 33,
   "id": "cb68a99f",
   "metadata": {},
   "outputs": [],
   "source": [
    "careers0.loc[careers0[\"_merge\"]==\"both\",\"IsJob\"] = True"
   ]
  },
  {
   "cell_type": "code",
   "execution_count": 34,
   "id": "80731a37",
   "metadata": {},
   "outputs": [
    {
     "data": {
      "text/html": [
       "<div>\n",
       "<style scoped>\n",
       "    .dataframe tbody tr th:only-of-type {\n",
       "        vertical-align: middle;\n",
       "    }\n",
       "\n",
       "    .dataframe tbody tr th {\n",
       "        vertical-align: top;\n",
       "    }\n",
       "\n",
       "    .dataframe thead th {\n",
       "        text-align: right;\n",
       "    }\n",
       "</style>\n",
       "<table border=\"1\" class=\"dataframe\">\n",
       "  <thead>\n",
       "    <tr style=\"text-align: right;\">\n",
       "      <th></th>\n",
       "      <th>CareerString</th>\n",
       "      <th>CareerDateString_2022</th>\n",
       "      <th>_merge</th>\n",
       "    </tr>\n",
       "    <tr>\n",
       "      <th>IsJob</th>\n",
       "      <th></th>\n",
       "      <th></th>\n",
       "      <th></th>\n",
       "    </tr>\n",
       "  </thead>\n",
       "  <tbody>\n",
       "    <tr>\n",
       "      <th>False</th>\n",
       "      <td>455</td>\n",
       "      <td>259</td>\n",
       "      <td>455</td>\n",
       "    </tr>\n",
       "    <tr>\n",
       "      <th>True</th>\n",
       "      <td>7590</td>\n",
       "      <td>4209</td>\n",
       "      <td>7590</td>\n",
       "    </tr>\n",
       "  </tbody>\n",
       "</table>\n",
       "</div>"
      ],
      "text/plain": [
       "       CareerString  CareerDateString_2022  _merge\n",
       "IsJob                                             \n",
       "False           455                    259     455\n",
       "True           7590                   4209    7590"
      ]
     },
     "execution_count": 34,
     "metadata": {},
     "output_type": "execute_result"
    }
   ],
   "source": [
    "# 7590 jobs\n",
    "# 455 not jobs\n",
    "careers0.groupby(\"IsJob\").count()"
   ]
  },
  {
   "cell_type": "code",
   "execution_count": 35,
   "id": "01104152",
   "metadata": {},
   "outputs": [],
   "source": [
    "select_columns = [\"CareerString\",\"CareerDateString_2022\",\"IsJob\"]\n",
    "careers0 = careers0[select_columns]"
   ]
  },
  {
   "cell_type": "code",
   "execution_count": 36,
   "id": "ba89c2c6",
   "metadata": {},
   "outputs": [
    {
     "data": {
      "text/html": [
       "<div>\n",
       "<style scoped>\n",
       "    .dataframe tbody tr th:only-of-type {\n",
       "        vertical-align: middle;\n",
       "    }\n",
       "\n",
       "    .dataframe tbody tr th {\n",
       "        vertical-align: top;\n",
       "    }\n",
       "\n",
       "    .dataframe thead th {\n",
       "        text-align: right;\n",
       "    }\n",
       "</style>\n",
       "<table border=\"1\" class=\"dataframe\">\n",
       "  <thead>\n",
       "    <tr style=\"text-align: right;\">\n",
       "      <th></th>\n",
       "      <th>CareerString</th>\n",
       "      <th>CareerDateString_2022</th>\n",
       "      <th>IsJob</th>\n",
       "    </tr>\n",
       "  </thead>\n",
       "  <tbody>\n",
       "    <tr>\n",
       "      <th>0</th>\n",
       "      <td>개성공단 남북공동위원회 통행통신통관 분과위원회</td>\n",
       "      <td>2013.09 ~ 2014.01</td>\n",
       "      <td>True</td>\n",
       "    </tr>\n",
       "    <tr>\n",
       "      <th>1</th>\n",
       "      <td>故 김정일 국가장의위원회 위원</td>\n",
       "      <td>2011.12</td>\n",
       "      <td>False</td>\n",
       "    </tr>\n",
       "    <tr>\n",
       "      <th>2</th>\n",
       "      <td>근로단체부장 해임 * 후임: 리일환</td>\n",
       "      <td>2014</td>\n",
       "      <td>True</td>\n",
       "    </tr>\n",
       "  </tbody>\n",
       "</table>\n",
       "</div>"
      ],
      "text/plain": [
       "                 CareerString CareerDateString_2022  IsJob\n",
       "0   개성공단 남북공동위원회 통행통신통관 분과위원회     2013.09 ~ 2014.01   True\n",
       "1            故 김정일 국가장의위원회 위원               2011.12  False\n",
       "2         근로단체부장 해임 * 후임: 리일환                  2014   True"
      ]
     },
     "execution_count": 36,
     "metadata": {},
     "output_type": "execute_result"
    }
   ],
   "source": [
    "careers0.head(3)"
   ]
  },
  {
   "cell_type": "markdown",
   "id": "e38afb8d",
   "metadata": {},
   "source": [
    "### 2.2.5 - update CareerStringType for NotJob, using 2.2 career_divided_unparsed_uncoded"
   ]
  },
  {
   "cell_type": "code",
   "execution_count": 88,
   "id": "7cbc0e31",
   "metadata": {},
   "outputs": [],
   "source": [
    "# not urgent. do this later. or do it again by hand"
   ]
  },
  {
   "cell_type": "markdown",
   "id": "180a851a",
   "metadata": {},
   "source": [
    "### 2.3 - careers1 - add MultipleString\n",
    "- compare careers0 with jol1 (joborglink_1_mergeold_mail)\n",
    " - ignore CareerDateString_2022 and only merge on CareerString because CareerDateString_2022 is incorrect\n",
    "- update IsJob with jol1[\"NotJob\"]\n",
    "- add MultipleSubstrings\n",
    "- code MultipleSubstrings"
   ]
  },
  {
   "cell_type": "code",
   "execution_count": 97,
   "id": "fbc0fc9d",
   "metadata": {},
   "outputs": [
    {
     "data": {
      "text/html": [
       "<div>\n",
       "<style scoped>\n",
       "    .dataframe tbody tr th:only-of-type {\n",
       "        vertical-align: middle;\n",
       "    }\n",
       "\n",
       "    .dataframe tbody tr th {\n",
       "        vertical-align: top;\n",
       "    }\n",
       "\n",
       "    .dataframe thead th {\n",
       "        text-align: right;\n",
       "    }\n",
       "</style>\n",
       "<table border=\"1\" class=\"dataframe\">\n",
       "  <thead>\n",
       "    <tr style=\"text-align: right;\">\n",
       "      <th></th>\n",
       "      <th>CareerString</th>\n",
       "      <th>NotJob</th>\n",
       "      <th>MultipleSubstrings</th>\n",
       "    </tr>\n",
       "  </thead>\n",
       "  <tbody>\n",
       "    <tr>\n",
       "      <th>0</th>\n",
       "      <td>1992.12 정무원 총리 해임, 당 정치국 후보위원으로 강등, 자강도 당 책임비서...</td>\n",
       "      <td>NaN</td>\n",
       "      <td>2.0</td>\n",
       "    </tr>\n",
       "    <tr>\n",
       "      <th>1</th>\n",
       "      <td>2003. 3 조선일본군위안부 및 강제연행피해자보상대책위원장</td>\n",
       "      <td>NaN</td>\n",
       "      <td>NaN</td>\n",
       "    </tr>\n",
       "    <tr>\n",
       "      <th>2</th>\n",
       "      <td>당 정치국 위원, 당 중앙위원회 부위원장, 당 국제부장 등 해임(추정)</td>\n",
       "      <td>0.0</td>\n",
       "      <td>NaN</td>\n",
       "    </tr>\n",
       "  </tbody>\n",
       "</table>\n",
       "</div>"
      ],
      "text/plain": [
       "                                        CareerString  NotJob  \\\n",
       "0  1992.12 정무원 총리 해임, 당 정치국 후보위원으로 강등, 자강도 당 책임비서...     NaN   \n",
       "1                  2003. 3 조선일본군위안부 및 강제연행피해자보상대책위원장     NaN   \n",
       "2            당 정치국 위원, 당 중앙위원회 부위원장, 당 국제부장 등 해임(추정)     0.0   \n",
       "\n",
       "   MultipleSubstrings  \n",
       "0                 2.0  \n",
       "1                 NaN  \n",
       "2                 NaN  "
      ]
     },
     "execution_count": 97,
     "metadata": {},
     "output_type": "execute_result"
    }
   ],
   "source": [
    "select_columns = [\"CareerString\",\"NotJob\",\"MultipleSubstrings\"]\n",
    "jol1 = jol1[select_columns]\n",
    "jol1.head(3)"
   ]
  },
  {
   "cell_type": "code",
   "execution_count": 98,
   "id": "526c99fa",
   "metadata": {},
   "outputs": [
    {
     "data": {
      "text/plain": [
       "(7592, 3)"
      ]
     },
     "execution_count": 98,
     "metadata": {},
     "output_type": "execute_result"
    }
   ],
   "source": [
    "jol1.shape"
   ]
  },
  {
   "cell_type": "code",
   "execution_count": 99,
   "id": "367f64fc",
   "metadata": {},
   "outputs": [
    {
     "data": {
      "text/plain": [
       "(6659, 3)"
      ]
     },
     "execution_count": 99,
     "metadata": {},
     "output_type": "execute_result"
    }
   ],
   "source": [
    "jol1 = jol1.drop_duplicates(keep=\"first\")\n",
    "jol1.shape"
   ]
  },
  {
   "cell_type": "code",
   "execution_count": 100,
   "id": "08c03666",
   "metadata": {
    "scrolled": true
   },
   "outputs": [
    {
     "data": {
      "text/html": [
       "<div>\n",
       "<style scoped>\n",
       "    .dataframe tbody tr th:only-of-type {\n",
       "        vertical-align: middle;\n",
       "    }\n",
       "\n",
       "    .dataframe tbody tr th {\n",
       "        vertical-align: top;\n",
       "    }\n",
       "\n",
       "    .dataframe thead th {\n",
       "        text-align: right;\n",
       "    }\n",
       "</style>\n",
       "<table border=\"1\" class=\"dataframe\">\n",
       "  <thead>\n",
       "    <tr style=\"text-align: right;\">\n",
       "      <th></th>\n",
       "      <th>CareerString</th>\n",
       "      <th>NotJob</th>\n",
       "      <th>MultipleSubstrings</th>\n",
       "    </tr>\n",
       "  </thead>\n",
       "  <tbody>\n",
       "  </tbody>\n",
       "</table>\n",
       "</div>"
      ],
      "text/plain": [
       "Empty DataFrame\n",
       "Columns: [CareerString, NotJob, MultipleSubstrings]\n",
       "Index: []"
      ]
     },
     "execution_count": 100,
     "metadata": {},
     "output_type": "execute_result"
    }
   ],
   "source": [
    "# some duplicate CareerStrings with different dates; some are legit, others not\n",
    "# I removed CareerDateString_2022 from jol1 as it's not critical to updating IsJob & MultipleSubstrings\n",
    "jol1[jol1.duplicated([\"CareerString\"],keep=False)].head(10)"
   ]
  },
  {
   "cell_type": "code",
   "execution_count": 101,
   "id": "d7ab060f",
   "metadata": {},
   "outputs": [
    {
     "data": {
      "text/html": [
       "<div>\n",
       "<style scoped>\n",
       "    .dataframe tbody tr th:only-of-type {\n",
       "        vertical-align: middle;\n",
       "    }\n",
       "\n",
       "    .dataframe tbody tr th {\n",
       "        vertical-align: top;\n",
       "    }\n",
       "\n",
       "    .dataframe thead th {\n",
       "        text-align: right;\n",
       "    }\n",
       "</style>\n",
       "<table border=\"1\" class=\"dataframe\">\n",
       "  <thead>\n",
       "    <tr style=\"text-align: right;\">\n",
       "      <th></th>\n",
       "      <th>CareerString</th>\n",
       "      <th>NotJob</th>\n",
       "      <th>MultipleSubstrings</th>\n",
       "    </tr>\n",
       "  </thead>\n",
       "  <tbody>\n",
       "  </tbody>\n",
       "</table>\n",
       "</div>"
      ],
      "text/plain": [
       "Empty DataFrame\n",
       "Columns: [CareerString, NotJob, MultipleSubstrings]\n",
       "Index: []"
      ]
     },
     "execution_count": 101,
     "metadata": {},
     "output_type": "execute_result"
    }
   ],
   "source": [
    "# no duplicate keys in jol1\n",
    "select_key = [\"CareerString\"]\n",
    "jol1[jol1.duplicated(select_key,keep=False)]"
   ]
  },
  {
   "cell_type": "code",
   "execution_count": 102,
   "id": "fadf348d",
   "metadata": {},
   "outputs": [
    {
     "data": {
      "text/plain": [
       "(8045, 3)"
      ]
     },
     "execution_count": 102,
     "metadata": {},
     "output_type": "execute_result"
    }
   ],
   "source": [
    "careers0.shape"
   ]
  },
  {
   "cell_type": "code",
   "execution_count": 103,
   "id": "a6cfe527",
   "metadata": {},
   "outputs": [
    {
     "data": {
      "text/plain": [
       "(8045, 6)"
      ]
     },
     "execution_count": 103,
     "metadata": {},
     "output_type": "execute_result"
    }
   ],
   "source": [
    "select_key = [\"CareerString\"]\n",
    "careers1 = careers0.merge(jol1,on=select_key,how=\"outer\",indicator=True)\n",
    "careers1.shape"
   ]
  },
  {
   "cell_type": "code",
   "execution_count": 104,
   "id": "23c779bf",
   "metadata": {},
   "outputs": [
    {
     "data": {
      "text/html": [
       "<div>\n",
       "<style scoped>\n",
       "    .dataframe tbody tr th:only-of-type {\n",
       "        vertical-align: middle;\n",
       "    }\n",
       "\n",
       "    .dataframe tbody tr th {\n",
       "        vertical-align: top;\n",
       "    }\n",
       "\n",
       "    .dataframe thead th {\n",
       "        text-align: right;\n",
       "    }\n",
       "</style>\n",
       "<table border=\"1\" class=\"dataframe\">\n",
       "  <thead>\n",
       "    <tr style=\"text-align: right;\">\n",
       "      <th></th>\n",
       "      <th>CareerString</th>\n",
       "      <th>CareerDateString_2022</th>\n",
       "      <th>IsJob</th>\n",
       "      <th>NotJob</th>\n",
       "      <th>MultipleSubstrings</th>\n",
       "      <th>_merge</th>\n",
       "    </tr>\n",
       "  </thead>\n",
       "  <tbody>\n",
       "    <tr>\n",
       "      <th>0</th>\n",
       "      <td>개성공단 남북공동위원회 통행통신통관 분과위원회</td>\n",
       "      <td>2013.09 ~ 2014.01</td>\n",
       "      <td>True</td>\n",
       "      <td>1.0</td>\n",
       "      <td>NaN</td>\n",
       "      <td>both</td>\n",
       "    </tr>\n",
       "    <tr>\n",
       "      <th>1</th>\n",
       "      <td>故 김정일 국가장의위원회 위원</td>\n",
       "      <td>2011.12</td>\n",
       "      <td>False</td>\n",
       "      <td>NaN</td>\n",
       "      <td>NaN</td>\n",
       "      <td>left_only</td>\n",
       "    </tr>\n",
       "    <tr>\n",
       "      <th>2</th>\n",
       "      <td>근로단체부장 해임 * 후임: 리일환</td>\n",
       "      <td>2014</td>\n",
       "      <td>True</td>\n",
       "      <td>1.0</td>\n",
       "      <td>NaN</td>\n",
       "      <td>both</td>\n",
       "    </tr>\n",
       "  </tbody>\n",
       "</table>\n",
       "</div>"
      ],
      "text/plain": [
       "                 CareerString CareerDateString_2022  IsJob  NotJob  \\\n",
       "0   개성공단 남북공동위원회 통행통신통관 분과위원회     2013.09 ~ 2014.01   True     1.0   \n",
       "1            故 김정일 국가장의위원회 위원               2011.12  False     NaN   \n",
       "2         근로단체부장 해임 * 후임: 리일환                  2014   True     1.0   \n",
       "\n",
       "   MultipleSubstrings     _merge  \n",
       "0                 NaN       both  \n",
       "1                 NaN  left_only  \n",
       "2                 NaN       both  "
      ]
     },
     "execution_count": 104,
     "metadata": {},
     "output_type": "execute_result"
    }
   ],
   "source": [
    "careers1.head(3)"
   ]
  },
  {
   "cell_type": "code",
   "execution_count": 105,
   "id": "b26c8029",
   "metadata": {},
   "outputs": [
    {
     "data": {
      "text/html": [
       "<div>\n",
       "<style scoped>\n",
       "    .dataframe tbody tr th:only-of-type {\n",
       "        vertical-align: middle;\n",
       "    }\n",
       "\n",
       "    .dataframe tbody tr th {\n",
       "        vertical-align: top;\n",
       "    }\n",
       "\n",
       "    .dataframe thead th {\n",
       "        text-align: right;\n",
       "    }\n",
       "</style>\n",
       "<table border=\"1\" class=\"dataframe\">\n",
       "  <thead>\n",
       "    <tr style=\"text-align: right;\">\n",
       "      <th></th>\n",
       "      <th>CareerString</th>\n",
       "      <th>CareerDateString_2022</th>\n",
       "      <th>IsJob</th>\n",
       "      <th>NotJob</th>\n",
       "      <th>MultipleSubstrings</th>\n",
       "    </tr>\n",
       "    <tr>\n",
       "      <th>_merge</th>\n",
       "      <th></th>\n",
       "      <th></th>\n",
       "      <th></th>\n",
       "      <th></th>\n",
       "      <th></th>\n",
       "    </tr>\n",
       "  </thead>\n",
       "  <tbody>\n",
       "    <tr>\n",
       "      <th>left_only</th>\n",
       "      <td>455</td>\n",
       "      <td>259</td>\n",
       "      <td>455</td>\n",
       "      <td>0</td>\n",
       "      <td>0</td>\n",
       "    </tr>\n",
       "    <tr>\n",
       "      <th>right_only</th>\n",
       "      <td>0</td>\n",
       "      <td>0</td>\n",
       "      <td>0</td>\n",
       "      <td>0</td>\n",
       "      <td>0</td>\n",
       "    </tr>\n",
       "    <tr>\n",
       "      <th>both</th>\n",
       "      <td>7590</td>\n",
       "      <td>4209</td>\n",
       "      <td>7590</td>\n",
       "      <td>926</td>\n",
       "      <td>738</td>\n",
       "    </tr>\n",
       "  </tbody>\n",
       "</table>\n",
       "</div>"
      ],
      "text/plain": [
       "            CareerString  CareerDateString_2022  IsJob  NotJob  \\\n",
       "_merge                                                           \n",
       "left_only            455                    259    455       0   \n",
       "right_only             0                      0      0       0   \n",
       "both                7590                   4209   7590     926   \n",
       "\n",
       "            MultipleSubstrings  \n",
       "_merge                          \n",
       "left_only                    0  \n",
       "right_only                   0  \n",
       "both                       738  "
      ]
     },
     "execution_count": 105,
     "metadata": {},
     "output_type": "execute_result"
    }
   ],
   "source": [
    "# 7590 IsJob\n",
    "# 455 NotJob\n",
    "careers1.groupby([\"_merge\"],dropna=False).count()"
   ]
  },
  {
   "cell_type": "code",
   "execution_count": 106,
   "id": "30289d99",
   "metadata": {
    "scrolled": true
   },
   "outputs": [
    {
     "data": {
      "text/html": [
       "<div>\n",
       "<style scoped>\n",
       "    .dataframe tbody tr th:only-of-type {\n",
       "        vertical-align: middle;\n",
       "    }\n",
       "\n",
       "    .dataframe tbody tr th {\n",
       "        vertical-align: top;\n",
       "    }\n",
       "\n",
       "    .dataframe thead th {\n",
       "        text-align: right;\n",
       "    }\n",
       "</style>\n",
       "<table border=\"1\" class=\"dataframe\">\n",
       "  <thead>\n",
       "    <tr style=\"text-align: right;\">\n",
       "      <th></th>\n",
       "      <th>CareerString</th>\n",
       "      <th>CareerDateString_2022</th>\n",
       "      <th>IsJob</th>\n",
       "      <th>NotJob</th>\n",
       "      <th>MultipleSubstrings</th>\n",
       "      <th>_merge</th>\n",
       "    </tr>\n",
       "  </thead>\n",
       "  <tbody>\n",
       "  </tbody>\n",
       "</table>\n",
       "</div>"
      ],
      "text/plain": [
       "Empty DataFrame\n",
       "Columns: [CareerString, CareerDateString_2022, IsJob, NotJob, MultipleSubstrings, _merge]\n",
       "Index: []"
      ]
     },
     "execution_count": 106,
     "metadata": {},
     "output_type": "execute_result"
    }
   ],
   "source": [
    "careers1[careers1[\"_merge\"]==\"right_only\"]"
   ]
  },
  {
   "cell_type": "code",
   "execution_count": 107,
   "id": "2497fcb4",
   "metadata": {},
   "outputs": [
    {
     "data": {
      "text/html": [
       "<div>\n",
       "<style scoped>\n",
       "    .dataframe tbody tr th:only-of-type {\n",
       "        vertical-align: middle;\n",
       "    }\n",
       "\n",
       "    .dataframe tbody tr th {\n",
       "        vertical-align: top;\n",
       "    }\n",
       "\n",
       "    .dataframe thead th {\n",
       "        text-align: right;\n",
       "    }\n",
       "</style>\n",
       "<table border=\"1\" class=\"dataframe\">\n",
       "  <thead>\n",
       "    <tr style=\"text-align: right;\">\n",
       "      <th></th>\n",
       "      <th></th>\n",
       "      <th>CareerString</th>\n",
       "      <th>CareerDateString_2022</th>\n",
       "      <th>MultipleSubstrings</th>\n",
       "      <th>_merge</th>\n",
       "    </tr>\n",
       "    <tr>\n",
       "      <th>IsJob</th>\n",
       "      <th>NotJob</th>\n",
       "      <th></th>\n",
       "      <th></th>\n",
       "      <th></th>\n",
       "      <th></th>\n",
       "    </tr>\n",
       "  </thead>\n",
       "  <tbody>\n",
       "    <tr>\n",
       "      <th>False</th>\n",
       "      <th>NaN</th>\n",
       "      <td>455</td>\n",
       "      <td>259</td>\n",
       "      <td>0</td>\n",
       "      <td>455</td>\n",
       "    </tr>\n",
       "    <tr>\n",
       "      <th rowspan=\"3\" valign=\"top\">True</th>\n",
       "      <th>0.0</th>\n",
       "      <td>422</td>\n",
       "      <td>239</td>\n",
       "      <td>0</td>\n",
       "      <td>422</td>\n",
       "    </tr>\n",
       "    <tr>\n",
       "      <th>1.0</th>\n",
       "      <td>504</td>\n",
       "      <td>203</td>\n",
       "      <td>0</td>\n",
       "      <td>504</td>\n",
       "    </tr>\n",
       "    <tr>\n",
       "      <th>NaN</th>\n",
       "      <td>6664</td>\n",
       "      <td>3767</td>\n",
       "      <td>738</td>\n",
       "      <td>6664</td>\n",
       "    </tr>\n",
       "  </tbody>\n",
       "</table>\n",
       "</div>"
      ],
      "text/plain": [
       "              CareerString  CareerDateString_2022  MultipleSubstrings  _merge\n",
       "IsJob NotJob                                                                 \n",
       "False NaN              455                    259                   0     455\n",
       "True  0.0              422                    239                   0     422\n",
       "      1.0              504                    203                   0     504\n",
       "      NaN             6664                   3767                 738    6664"
      ]
     },
     "execution_count": 107,
     "metadata": {},
     "output_type": "execute_result"
    }
   ],
   "source": [
    "# NobJob = 0: 후임, etc.\n",
    "# NotJob = 1: marriage, education, etc.\n",
    "# NotJob = NaN: IsJob\n",
    "careers1.groupby([\"IsJob\",\"NotJob\"],dropna=False).count()"
   ]
  },
  {
   "cell_type": "code",
   "execution_count": 108,
   "id": "f125fd05",
   "metadata": {},
   "outputs": [],
   "source": [
    "# if NotJob in [0,1], set IsJob = False\n",
    "careers1.loc[careers1[\"NotJob\"].isin([0,1]),\"IsJob\"]=False"
   ]
  },
  {
   "cell_type": "code",
   "execution_count": 109,
   "id": "4a2ebca2",
   "metadata": {},
   "outputs": [
    {
     "data": {
      "text/html": [
       "<div>\n",
       "<style scoped>\n",
       "    .dataframe tbody tr th:only-of-type {\n",
       "        vertical-align: middle;\n",
       "    }\n",
       "\n",
       "    .dataframe tbody tr th {\n",
       "        vertical-align: top;\n",
       "    }\n",
       "\n",
       "    .dataframe thead th {\n",
       "        text-align: right;\n",
       "    }\n",
       "</style>\n",
       "<table border=\"1\" class=\"dataframe\">\n",
       "  <thead>\n",
       "    <tr style=\"text-align: right;\">\n",
       "      <th></th>\n",
       "      <th></th>\n",
       "      <th>CareerString</th>\n",
       "      <th>CareerDateString_2022</th>\n",
       "      <th>MultipleSubstrings</th>\n",
       "      <th>_merge</th>\n",
       "    </tr>\n",
       "    <tr>\n",
       "      <th>IsJob</th>\n",
       "      <th>NotJob</th>\n",
       "      <th></th>\n",
       "      <th></th>\n",
       "      <th></th>\n",
       "      <th></th>\n",
       "    </tr>\n",
       "  </thead>\n",
       "  <tbody>\n",
       "    <tr>\n",
       "      <th rowspan=\"3\" valign=\"top\">False</th>\n",
       "      <th>0.0</th>\n",
       "      <td>422</td>\n",
       "      <td>239</td>\n",
       "      <td>0</td>\n",
       "      <td>422</td>\n",
       "    </tr>\n",
       "    <tr>\n",
       "      <th>1.0</th>\n",
       "      <td>504</td>\n",
       "      <td>203</td>\n",
       "      <td>0</td>\n",
       "      <td>504</td>\n",
       "    </tr>\n",
       "    <tr>\n",
       "      <th>NaN</th>\n",
       "      <td>455</td>\n",
       "      <td>259</td>\n",
       "      <td>0</td>\n",
       "      <td>455</td>\n",
       "    </tr>\n",
       "    <tr>\n",
       "      <th>True</th>\n",
       "      <th>NaN</th>\n",
       "      <td>6664</td>\n",
       "      <td>3767</td>\n",
       "      <td>738</td>\n",
       "      <td>6664</td>\n",
       "    </tr>\n",
       "  </tbody>\n",
       "</table>\n",
       "</div>"
      ],
      "text/plain": [
       "              CareerString  CareerDateString_2022  MultipleSubstrings  _merge\n",
       "IsJob NotJob                                                                 \n",
       "False 0.0              422                    239                   0     422\n",
       "      1.0              504                    203                   0     504\n",
       "      NaN              455                    259                   0     455\n",
       "True  NaN             6664                   3767                 738    6664"
      ]
     },
     "execution_count": 109,
     "metadata": {},
     "output_type": "execute_result"
    }
   ],
   "source": [
    "# verify successful update of IsJob\n",
    "careers1.groupby([\"IsJob\",\"NotJob\"],dropna=False).count()"
   ]
  },
  {
   "cell_type": "code",
   "execution_count": 110,
   "id": "c5f56040",
   "metadata": {},
   "outputs": [
    {
     "data": {
      "text/html": [
       "<div>\n",
       "<style scoped>\n",
       "    .dataframe tbody tr th:only-of-type {\n",
       "        vertical-align: middle;\n",
       "    }\n",
       "\n",
       "    .dataframe tbody tr th {\n",
       "        vertical-align: top;\n",
       "    }\n",
       "\n",
       "    .dataframe thead th {\n",
       "        text-align: right;\n",
       "    }\n",
       "</style>\n",
       "<table border=\"1\" class=\"dataframe\">\n",
       "  <thead>\n",
       "    <tr style=\"text-align: right;\">\n",
       "      <th></th>\n",
       "      <th>CareerString</th>\n",
       "      <th>CareerDateString_2022</th>\n",
       "      <th>IsJob</th>\n",
       "      <th>NotJob</th>\n",
       "      <th>_merge</th>\n",
       "    </tr>\n",
       "    <tr>\n",
       "      <th>MultipleSubstrings</th>\n",
       "      <th></th>\n",
       "      <th></th>\n",
       "      <th></th>\n",
       "      <th></th>\n",
       "      <th></th>\n",
       "    </tr>\n",
       "  </thead>\n",
       "  <tbody>\n",
       "    <tr>\n",
       "      <th>2.0</th>\n",
       "      <td>574</td>\n",
       "      <td>257</td>\n",
       "      <td>574</td>\n",
       "      <td>0</td>\n",
       "      <td>574</td>\n",
       "    </tr>\n",
       "    <tr>\n",
       "      <th>3.0</th>\n",
       "      <td>123</td>\n",
       "      <td>70</td>\n",
       "      <td>123</td>\n",
       "      <td>0</td>\n",
       "      <td>123</td>\n",
       "    </tr>\n",
       "    <tr>\n",
       "      <th>4.0</th>\n",
       "      <td>27</td>\n",
       "      <td>15</td>\n",
       "      <td>27</td>\n",
       "      <td>0</td>\n",
       "      <td>27</td>\n",
       "    </tr>\n",
       "    <tr>\n",
       "      <th>5.0</th>\n",
       "      <td>14</td>\n",
       "      <td>10</td>\n",
       "      <td>14</td>\n",
       "      <td>0</td>\n",
       "      <td>14</td>\n",
       "    </tr>\n",
       "    <tr>\n",
       "      <th>NaN</th>\n",
       "      <td>7307</td>\n",
       "      <td>4116</td>\n",
       "      <td>7307</td>\n",
       "      <td>926</td>\n",
       "      <td>7307</td>\n",
       "    </tr>\n",
       "  </tbody>\n",
       "</table>\n",
       "</div>"
      ],
      "text/plain": [
       "                    CareerString  CareerDateString_2022  IsJob  NotJob  _merge\n",
       "MultipleSubstrings                                                            \n",
       "2.0                          574                    257    574       0     574\n",
       "3.0                          123                     70    123       0     123\n",
       "4.0                           27                     15     27       0      27\n",
       "5.0                           14                     10     14       0      14\n",
       "NaN                         7307                   4116   7307     926    7307"
      ]
     },
     "execution_count": 110,
     "metadata": {},
     "output_type": "execute_result"
    }
   ],
   "source": [
    "# NobJob = 0: 후임, etc.\n",
    "# NotJob = 1: marriage, education, etc.\n",
    "# NotJob = NaN: IsJob\n",
    "careers1.groupby([\"MultipleSubstrings\"],dropna=False).count()"
   ]
  },
  {
   "cell_type": "code",
   "execution_count": 116,
   "id": "b6d28fe7",
   "metadata": {},
   "outputs": [
    {
     "data": {
      "text/html": [
       "<div>\n",
       "<style scoped>\n",
       "    .dataframe tbody tr th:only-of-type {\n",
       "        vertical-align: middle;\n",
       "    }\n",
       "\n",
       "    .dataframe tbody tr th {\n",
       "        vertical-align: top;\n",
       "    }\n",
       "\n",
       "    .dataframe thead th {\n",
       "        text-align: right;\n",
       "    }\n",
       "</style>\n",
       "<table border=\"1\" class=\"dataframe\">\n",
       "  <thead>\n",
       "    <tr style=\"text-align: right;\">\n",
       "      <th></th>\n",
       "      <th>CareerString</th>\n",
       "      <th>CareerDateString_2022</th>\n",
       "      <th>IsJob</th>\n",
       "      <th>MultipleSubstrings</th>\n",
       "    </tr>\n",
       "  </thead>\n",
       "  <tbody>\n",
       "    <tr>\n",
       "      <th>0</th>\n",
       "      <td>개성공단 남북공동위원회 통행통신통관 분과위원회</td>\n",
       "      <td>2013.09 ~ 2014.01</td>\n",
       "      <td>False</td>\n",
       "      <td>NaN</td>\n",
       "    </tr>\n",
       "    <tr>\n",
       "      <th>1</th>\n",
       "      <td>故 김정일 국가장의위원회 위원</td>\n",
       "      <td>2011.12</td>\n",
       "      <td>False</td>\n",
       "      <td>NaN</td>\n",
       "    </tr>\n",
       "    <tr>\n",
       "      <th>2</th>\n",
       "      <td>근로단체부장 해임 * 후임: 리일환</td>\n",
       "      <td>2014</td>\n",
       "      <td>False</td>\n",
       "      <td>NaN</td>\n",
       "    </tr>\n",
       "  </tbody>\n",
       "</table>\n",
       "</div>"
      ],
      "text/plain": [
       "                 CareerString CareerDateString_2022  IsJob  MultipleSubstrings\n",
       "0   개성공단 남북공동위원회 통행통신통관 분과위원회     2013.09 ~ 2014.01  False                 NaN\n",
       "1            故 김정일 국가장의위원회 위원               2011.12  False                 NaN\n",
       "2         근로단체부장 해임 * 후임: 리일환                  2014  False                 NaN"
      ]
     },
     "execution_count": 116,
     "metadata": {},
     "output_type": "execute_result"
    }
   ],
   "source": [
    "# accept MultipleSubstrings\n",
    "careers1.head(3)"
   ]
  },
  {
   "cell_type": "code",
   "execution_count": 118,
   "id": "20fe2e37",
   "metadata": {},
   "outputs": [
    {
     "data": {
      "text/html": [
       "<div>\n",
       "<style scoped>\n",
       "    .dataframe tbody tr th:only-of-type {\n",
       "        vertical-align: middle;\n",
       "    }\n",
       "\n",
       "    .dataframe tbody tr th {\n",
       "        vertical-align: top;\n",
       "    }\n",
       "\n",
       "    .dataframe thead th {\n",
       "        text-align: right;\n",
       "    }\n",
       "</style>\n",
       "<table border=\"1\" class=\"dataframe\">\n",
       "  <thead>\n",
       "    <tr style=\"text-align: right;\">\n",
       "      <th></th>\n",
       "      <th>CareerString</th>\n",
       "      <th>CareerDateString_2022</th>\n",
       "      <th>IsJob</th>\n",
       "      <th>MultipleSubstrings</th>\n",
       "    </tr>\n",
       "  </thead>\n",
       "  <tbody>\n",
       "    <tr>\n",
       "      <th>0</th>\n",
       "      <td>개성공단 남북공동위원회 통행통신통관 분과위원회</td>\n",
       "      <td>2013.09 ~ 2014.01</td>\n",
       "      <td>False</td>\n",
       "      <td>NaN</td>\n",
       "    </tr>\n",
       "    <tr>\n",
       "      <th>1</th>\n",
       "      <td>故 김정일 국가장의위원회 위원</td>\n",
       "      <td>2011.12</td>\n",
       "      <td>False</td>\n",
       "      <td>NaN</td>\n",
       "    </tr>\n",
       "    <tr>\n",
       "      <th>2</th>\n",
       "      <td>근로단체부장 해임 * 후임: 리일환</td>\n",
       "      <td>2014</td>\n",
       "      <td>False</td>\n",
       "      <td>NaN</td>\n",
       "    </tr>\n",
       "  </tbody>\n",
       "</table>\n",
       "</div>"
      ],
      "text/plain": [
       "                 CareerString CareerDateString_2022  IsJob  MultipleSubstrings\n",
       "0   개성공단 남북공동위원회 통행통신통관 분과위원회     2013.09 ~ 2014.01  False                 NaN\n",
       "1            故 김정일 국가장의위원회 위원               2011.12  False                 NaN\n",
       "2         근로단체부장 해임 * 후임: 리일환                  2014  False                 NaN"
      ]
     },
     "execution_count": 118,
     "metadata": {},
     "output_type": "execute_result"
    }
   ],
   "source": [
    "# drop NotJob, _merge\n",
    "careers1.drop(columns=[\"NotJob\",\"_merge\"],inplace=True)\n",
    "careers1.head(3)"
   ]
  },
  {
   "cell_type": "code",
   "execution_count": 119,
   "id": "7bf5388c",
   "metadata": {},
   "outputs": [
    {
     "data": {
      "text/html": [
       "<div>\n",
       "<style scoped>\n",
       "    .dataframe tbody tr th:only-of-type {\n",
       "        vertical-align: middle;\n",
       "    }\n",
       "\n",
       "    .dataframe tbody tr th {\n",
       "        vertical-align: top;\n",
       "    }\n",
       "\n",
       "    .dataframe thead th {\n",
       "        text-align: right;\n",
       "    }\n",
       "</style>\n",
       "<table border=\"1\" class=\"dataframe\">\n",
       "  <thead>\n",
       "    <tr style=\"text-align: right;\">\n",
       "      <th></th>\n",
       "      <th></th>\n",
       "      <th>CareerString</th>\n",
       "      <th>CareerDateString_2022</th>\n",
       "    </tr>\n",
       "    <tr>\n",
       "      <th>IsJob</th>\n",
       "      <th>MultipleSubstrings</th>\n",
       "      <th></th>\n",
       "      <th></th>\n",
       "    </tr>\n",
       "  </thead>\n",
       "  <tbody>\n",
       "    <tr>\n",
       "      <th>False</th>\n",
       "      <th>NaN</th>\n",
       "      <td>1381</td>\n",
       "      <td>701</td>\n",
       "    </tr>\n",
       "    <tr>\n",
       "      <th rowspan=\"5\" valign=\"top\">True</th>\n",
       "      <th>2.0</th>\n",
       "      <td>574</td>\n",
       "      <td>257</td>\n",
       "    </tr>\n",
       "    <tr>\n",
       "      <th>3.0</th>\n",
       "      <td>123</td>\n",
       "      <td>70</td>\n",
       "    </tr>\n",
       "    <tr>\n",
       "      <th>4.0</th>\n",
       "      <td>27</td>\n",
       "      <td>15</td>\n",
       "    </tr>\n",
       "    <tr>\n",
       "      <th>5.0</th>\n",
       "      <td>14</td>\n",
       "      <td>10</td>\n",
       "    </tr>\n",
       "    <tr>\n",
       "      <th>NaN</th>\n",
       "      <td>5926</td>\n",
       "      <td>3415</td>\n",
       "    </tr>\n",
       "  </tbody>\n",
       "</table>\n",
       "</div>"
      ],
      "text/plain": [
       "                          CareerString  CareerDateString_2022\n",
       "IsJob MultipleSubstrings                                     \n",
       "False NaN                         1381                    701\n",
       "True  2.0                          574                    257\n",
       "      3.0                          123                     70\n",
       "      4.0                           27                     15\n",
       "      5.0                           14                     10\n",
       "      NaN                         5926                   3415"
      ]
     },
     "execution_count": 119,
     "metadata": {},
     "output_type": "execute_result"
    }
   ],
   "source": [
    "careers1.groupby([\"IsJob\",\"MultipleSubstrings\"],dropna=False).count()"
   ]
  },
  {
   "cell_type": "markdown",
   "id": "fb971071",
   "metadata": {},
   "source": [
    "### 2.4 - careers2 - add CareerSubstrings\n",
    "\n",
    "- compare careers1 with\n",
    " - joborglink_2_substr_single_1tocode_4Mail_Lee\n",
    " - joborglink_2_substr_multi2_1tocode_Mail_Lee\n",
    "- double-check\n",
    " - CareerString: matches careers or jol1 (incomplete)?\n",
    " - CareerDateString_2022: matches careers, or jol1 (unreliable)?\n",
    "- add CareerStartYear, CareerStartMonth, CareerSubstrings"
   ]
  },
  {
   "cell_type": "code",
   "execution_count": 152,
   "id": "7fcf0ed8",
   "metadata": {},
   "outputs": [
    {
     "data": {
      "text/plain": [
       "(5897, 4)"
      ]
     },
     "execution_count": 152,
     "metadata": {},
     "output_type": "execute_result"
    }
   ],
   "source": [
    "select_columns = [\"CareerString\",\"CareerDateString_2022\",\"CareerStartYear\",\"CareerStartMonth\"]\n",
    "singlesub = singlesub[select_columns]\n",
    "singlesub.shape"
   ]
  },
  {
   "cell_type": "code",
   "execution_count": 153,
   "id": "bd83e093",
   "metadata": {},
   "outputs": [
    {
     "data": {
      "text/html": [
       "<div>\n",
       "<style scoped>\n",
       "    .dataframe tbody tr th:only-of-type {\n",
       "        vertical-align: middle;\n",
       "    }\n",
       "\n",
       "    .dataframe tbody tr th {\n",
       "        vertical-align: top;\n",
       "    }\n",
       "\n",
       "    .dataframe thead th {\n",
       "        text-align: right;\n",
       "    }\n",
       "</style>\n",
       "<table border=\"1\" class=\"dataframe\">\n",
       "  <thead>\n",
       "    <tr style=\"text-align: right;\">\n",
       "      <th></th>\n",
       "      <th>CareerString</th>\n",
       "      <th>CareerDateString_2022</th>\n",
       "      <th>CareerStartYear</th>\n",
       "      <th>CareerStartMonth</th>\n",
       "    </tr>\n",
       "  </thead>\n",
       "  <tbody>\n",
       "    <tr>\n",
       "      <th>0</th>\n",
       "      <td>개성공단 남북공동위원회 통행통신통관 분과위원회</td>\n",
       "      <td>2013.09 ~ 2014.01</td>\n",
       "      <td>2013</td>\n",
       "      <td>9.0</td>\n",
       "    </tr>\n",
       "    <tr>\n",
       "      <th>1</th>\n",
       "      <td>근로단체부장 해임 * 후임: 리일환</td>\n",
       "      <td>2014</td>\n",
       "      <td>2014</td>\n",
       "      <td>NaN</td>\n",
       "    </tr>\n",
       "    <tr>\n",
       "      <th>2</th>\n",
       "      <td>노동성 상(유임)</td>\n",
       "      <td>1999.02</td>\n",
       "      <td>1999</td>\n",
       "      <td>2.0</td>\n",
       "    </tr>\n",
       "  </tbody>\n",
       "</table>\n",
       "</div>"
      ],
      "text/plain": [
       "                 CareerString CareerDateString_2022 CareerStartYear  \\\n",
       "0   개성공단 남북공동위원회 통행통신통관 분과위원회     2013.09 ~ 2014.01            2013   \n",
       "1         근로단체부장 해임 * 후임: 리일환                  2014            2014   \n",
       "2                   노동성 상(유임)               1999.02            1999   \n",
       "\n",
       "   CareerStartMonth  \n",
       "0               9.0  \n",
       "1               NaN  \n",
       "2               2.0  "
      ]
     },
     "execution_count": 153,
     "metadata": {},
     "output_type": "execute_result"
    }
   ],
   "source": [
    "singlesub.head(3)"
   ]
  },
  {
   "cell_type": "code",
   "execution_count": 154,
   "id": "00f720f7",
   "metadata": {},
   "outputs": [
    {
     "data": {
      "text/plain": [
       "(42, 4)"
      ]
     },
     "execution_count": 154,
     "metadata": {},
     "output_type": "execute_result"
    }
   ],
   "source": [
    "# \n",
    "singlesub[singlesub.duplicated(keep=False)].shape"
   ]
  },
  {
   "cell_type": "code",
   "execution_count": 155,
   "id": "bcb7056d",
   "metadata": {},
   "outputs": [
    {
     "data": {
      "text/plain": [
       "(5873, 4)"
      ]
     },
     "execution_count": 155,
     "metadata": {},
     "output_type": "execute_result"
    }
   ],
   "source": [
    "singlesub = singlesub.drop_duplicates(keep=\"first\")\n",
    "singlesub.shape"
   ]
  },
  {
   "cell_type": "code",
   "execution_count": 158,
   "id": "b129ce43",
   "metadata": {},
   "outputs": [
    {
     "data": {
      "text/html": [
       "<div>\n",
       "<style scoped>\n",
       "    .dataframe tbody tr th:only-of-type {\n",
       "        vertical-align: middle;\n",
       "    }\n",
       "\n",
       "    .dataframe tbody tr th {\n",
       "        vertical-align: top;\n",
       "    }\n",
       "\n",
       "    .dataframe thead th {\n",
       "        text-align: right;\n",
       "    }\n",
       "</style>\n",
       "<table border=\"1\" class=\"dataframe\">\n",
       "  <thead>\n",
       "    <tr style=\"text-align: right;\">\n",
       "      <th></th>\n",
       "      <th>CareerString</th>\n",
       "      <th>CareerDateString_2022</th>\n",
       "      <th>CareerStartYear</th>\n",
       "      <th>CareerStartMonth</th>\n",
       "    </tr>\n",
       "  </thead>\n",
       "  <tbody>\n",
       "    <tr>\n",
       "      <th>14</th>\n",
       "      <td>(前)당 정치국 위원</td>\n",
       "      <td>2021.01</td>\n",
       "      <td>2021</td>\n",
       "      <td>1.0</td>\n",
       "    </tr>\n",
       "    <tr>\n",
       "      <th>15</th>\n",
       "      <td>(前)당 정치국 위원</td>\n",
       "      <td>연도미상</td>\n",
       "      <td>NaN</td>\n",
       "      <td>NaN</td>\n",
       "    </tr>\n",
       "    <tr>\n",
       "      <th>1522</th>\n",
       "      <td>2.8직동청년탄광 지배인</td>\n",
       "      <td>연도미상</td>\n",
       "      <td>NaN</td>\n",
       "      <td>NaN</td>\n",
       "    </tr>\n",
       "    <tr>\n",
       "      <th>1523</th>\n",
       "      <td>2.8직동청년탄광 지배인</td>\n",
       "      <td>1999.02</td>\n",
       "      <td>NaN</td>\n",
       "      <td>NaN</td>\n",
       "    </tr>\n",
       "    <tr>\n",
       "      <th>2405</th>\n",
       "      <td>3군단장</td>\n",
       "      <td>1957.10</td>\n",
       "      <td>1957</td>\n",
       "      <td>NaN</td>\n",
       "    </tr>\n",
       "    <tr>\n",
       "      <th>...</th>\n",
       "      <td>...</td>\n",
       "      <td>...</td>\n",
       "      <td>...</td>\n",
       "      <td>...</td>\n",
       "    </tr>\n",
       "    <tr>\n",
       "      <th>5849</th>\n",
       "      <td>화학공업상(유임)</td>\n",
       "      <td>2019.04</td>\n",
       "      <td>2019</td>\n",
       "      <td>4.0</td>\n",
       "    </tr>\n",
       "    <tr>\n",
       "      <th>5856</th>\n",
       "      <td>황해남도 인민위원회 위원장</td>\n",
       "      <td>2006.06 ~ 2012.03</td>\n",
       "      <td>2006</td>\n",
       "      <td>6.0</td>\n",
       "    </tr>\n",
       "    <tr>\n",
       "      <th>5857</th>\n",
       "      <td>황해남도 인민위원회 위원장</td>\n",
       "      <td>1999.06</td>\n",
       "      <td>1999</td>\n",
       "      <td>6.0</td>\n",
       "    </tr>\n",
       "    <tr>\n",
       "      <th>5879</th>\n",
       "      <td>황해제철연합기업소 지배인</td>\n",
       "      <td>1987.11</td>\n",
       "      <td>1987</td>\n",
       "      <td>11.0</td>\n",
       "    </tr>\n",
       "    <tr>\n",
       "      <th>5880</th>\n",
       "      <td>황해제철연합기업소 지배인</td>\n",
       "      <td>2000.07</td>\n",
       "      <td>2000</td>\n",
       "      <td>7.0</td>\n",
       "    </tr>\n",
       "  </tbody>\n",
       "</table>\n",
       "<p>1227 rows × 4 columns</p>\n",
       "</div>"
      ],
      "text/plain": [
       "        CareerString CareerDateString_2022 CareerStartYear  CareerStartMonth\n",
       "14       (前)당 정치국 위원               2021.01            2021               1.0\n",
       "15       (前)당 정치국 위원                  연도미상             NaN               NaN\n",
       "1522   2.8직동청년탄광 지배인                  연도미상             NaN               NaN\n",
       "1523   2.8직동청년탄광 지배인               1999.02             NaN               NaN\n",
       "2405            3군단장               1957.10            1957               NaN\n",
       "...              ...                   ...             ...               ...\n",
       "5849       화학공업상(유임)               2019.04            2019               4.0\n",
       "5856  황해남도 인민위원회 위원장     2006.06 ~ 2012.03            2006               6.0\n",
       "5857  황해남도 인민위원회 위원장               1999.06            1999               6.0\n",
       "5879   황해제철연합기업소 지배인               1987.11            1987              11.0\n",
       "5880   황해제철연합기업소 지배인               2000.07            2000               7.0\n",
       "\n",
       "[1227 rows x 4 columns]"
      ]
     },
     "execution_count": 158,
     "metadata": {},
     "output_type": "execute_result"
    }
   ],
   "source": [
    "singlesub[singlesub.duplicated(\"CareerString\",keep=False)]"
   ]
  },
  {
   "cell_type": "code",
   "execution_count": 159,
   "id": "cd46ce31",
   "metadata": {},
   "outputs": [
    {
     "data": {
      "text/plain": [
       "(1756, 6)"
      ]
     },
     "execution_count": 159,
     "metadata": {},
     "output_type": "execute_result"
    }
   ],
   "source": [
    "select_columns = [\"CareerString\",\"CareerDateString_2022\",\"CareerStartYear\",\"CareerStartMonth\",\"MultipleSubstrings\",\"CareerSubstring\"]\n",
    "multisub = multisub[select_columns]\n",
    "multisub.shape"
   ]
  },
  {
   "cell_type": "code",
   "execution_count": 160,
   "id": "f62f8d66",
   "metadata": {},
   "outputs": [
    {
     "data": {
      "text/html": [
       "<div>\n",
       "<style scoped>\n",
       "    .dataframe tbody tr th:only-of-type {\n",
       "        vertical-align: middle;\n",
       "    }\n",
       "\n",
       "    .dataframe tbody tr th {\n",
       "        vertical-align: top;\n",
       "    }\n",
       "\n",
       "    .dataframe thead th {\n",
       "        text-align: right;\n",
       "    }\n",
       "</style>\n",
       "<table border=\"1\" class=\"dataframe\">\n",
       "  <thead>\n",
       "    <tr style=\"text-align: right;\">\n",
       "      <th></th>\n",
       "      <th>CareerString</th>\n",
       "      <th>CareerDateString_2022</th>\n",
       "      <th>CareerStartYear</th>\n",
       "      <th>CareerStartMonth</th>\n",
       "      <th>MultipleSubstrings</th>\n",
       "      <th>CareerSubstring</th>\n",
       "    </tr>\n",
       "  </thead>\n",
       "  <tbody>\n",
       "    <tr>\n",
       "      <th>0</th>\n",
       "      <td>△국토환경보호성 상 △조선자연보호연맹 중앙위원회 위원장 * 전임: 박송남</td>\n",
       "      <td>2009.11</td>\n",
       "      <td>2009</td>\n",
       "      <td>11.0</td>\n",
       "      <td>2</td>\n",
       "      <td>NaN</td>\n",
       "    </tr>\n",
       "    <tr>\n",
       "      <th>1</th>\n",
       "      <td>△국토환경보호성 상 △조선자연보호연맹 중앙위원회 위원장 * 전임: 박송남</td>\n",
       "      <td>2009.11</td>\n",
       "      <td>2009</td>\n",
       "      <td>11.0</td>\n",
       "      <td>2</td>\n",
       "      <td>NaN</td>\n",
       "    </tr>\n",
       "    <tr>\n",
       "      <th>2</th>\n",
       "      <td>△내각 부총리  △수도건설위원회 위원장</td>\n",
       "      <td>2012.04 ~ 2014.04</td>\n",
       "      <td>2012</td>\n",
       "      <td>4.0</td>\n",
       "      <td>2</td>\n",
       "      <td>NaN</td>\n",
       "    </tr>\n",
       "  </tbody>\n",
       "</table>\n",
       "</div>"
      ],
      "text/plain": [
       "                               CareerString CareerDateString_2022  \\\n",
       "0  △국토환경보호성 상 △조선자연보호연맹 중앙위원회 위원장 * 전임: 박송남               2009.11   \n",
       "1  △국토환경보호성 상 △조선자연보호연맹 중앙위원회 위원장 * 전임: 박송남               2009.11   \n",
       "2                     △내각 부총리  △수도건설위원회 위원장     2012.04 ~ 2014.04   \n",
       "\n",
       "  CareerStartYear  CareerStartMonth  MultipleSubstrings CareerSubstring  \n",
       "0            2009              11.0                   2             NaN  \n",
       "1            2009              11.0                   2             NaN  \n",
       "2            2012               4.0                   2             NaN  "
      ]
     },
     "execution_count": 160,
     "metadata": {},
     "output_type": "execute_result"
    }
   ],
   "source": [
    "multisub.head(3)"
   ]
  },
  {
   "cell_type": "code",
   "execution_count": 162,
   "id": "7f40428a",
   "metadata": {},
   "outputs": [
    {
     "data": {
      "text/html": [
       "<div>\n",
       "<style scoped>\n",
       "    .dataframe tbody tr th:only-of-type {\n",
       "        vertical-align: middle;\n",
       "    }\n",
       "\n",
       "    .dataframe tbody tr th {\n",
       "        vertical-align: top;\n",
       "    }\n",
       "\n",
       "    .dataframe thead th {\n",
       "        text-align: right;\n",
       "    }\n",
       "</style>\n",
       "<table border=\"1\" class=\"dataframe\">\n",
       "  <thead>\n",
       "    <tr style=\"text-align: right;\">\n",
       "      <th></th>\n",
       "      <th>CareerString</th>\n",
       "      <th>CareerDateString_2022</th>\n",
       "      <th>CareerStartYear</th>\n",
       "      <th>CareerStartMonth</th>\n",
       "      <th>MultipleSubstrings</th>\n",
       "      <th>CareerSubstring</th>\n",
       "    </tr>\n",
       "  </thead>\n",
       "  <tbody>\n",
       "    <tr>\n",
       "      <th>0</th>\n",
       "      <td>△국토환경보호성 상 △조선자연보호연맹 중앙위원회 위원장 * 전임: 박송남</td>\n",
       "      <td>2009.11</td>\n",
       "      <td>2009</td>\n",
       "      <td>11.0</td>\n",
       "      <td>2</td>\n",
       "      <td>NaN</td>\n",
       "    </tr>\n",
       "    <tr>\n",
       "      <th>1</th>\n",
       "      <td>△국토환경보호성 상 △조선자연보호연맹 중앙위원회 위원장 * 전임: 박송남</td>\n",
       "      <td>2009.11</td>\n",
       "      <td>2009</td>\n",
       "      <td>11.0</td>\n",
       "      <td>2</td>\n",
       "      <td>NaN</td>\n",
       "    </tr>\n",
       "    <tr>\n",
       "      <th>2</th>\n",
       "      <td>△내각 부총리  △수도건설위원회 위원장</td>\n",
       "      <td>2012.04 ~ 2014.04</td>\n",
       "      <td>2012</td>\n",
       "      <td>4.0</td>\n",
       "      <td>2</td>\n",
       "      <td>NaN</td>\n",
       "    </tr>\n",
       "    <tr>\n",
       "      <th>3</th>\n",
       "      <td>△내각 부총리  △수도건설위원회 위원장</td>\n",
       "      <td>2012.04 ~ 2014.04</td>\n",
       "      <td>2012</td>\n",
       "      <td>4.0</td>\n",
       "      <td>2</td>\n",
       "      <td>NaN</td>\n",
       "    </tr>\n",
       "    <tr>\n",
       "      <th>4</th>\n",
       "      <td>△인민군 총참모장 △인민군 대장</td>\n",
       "      <td>2009.02</td>\n",
       "      <td>2009</td>\n",
       "      <td>2.0</td>\n",
       "      <td>2</td>\n",
       "      <td>NaN</td>\n",
       "    </tr>\n",
       "  </tbody>\n",
       "</table>\n",
       "</div>"
      ],
      "text/plain": [
       "                               CareerString CareerDateString_2022  \\\n",
       "0  △국토환경보호성 상 △조선자연보호연맹 중앙위원회 위원장 * 전임: 박송남               2009.11   \n",
       "1  △국토환경보호성 상 △조선자연보호연맹 중앙위원회 위원장 * 전임: 박송남               2009.11   \n",
       "2                     △내각 부총리  △수도건설위원회 위원장     2012.04 ~ 2014.04   \n",
       "3                     △내각 부총리  △수도건설위원회 위원장     2012.04 ~ 2014.04   \n",
       "4                         △인민군 총참모장 △인민군 대장               2009.02   \n",
       "\n",
       "  CareerStartYear  CareerStartMonth  MultipleSubstrings CareerSubstring  \n",
       "0            2009              11.0                   2             NaN  \n",
       "1            2009              11.0                   2             NaN  \n",
       "2            2012               4.0                   2             NaN  \n",
       "3            2012               4.0                   2             NaN  \n",
       "4            2009               2.0                   2             NaN  "
      ]
     },
     "execution_count": 162,
     "metadata": {},
     "output_type": "execute_result"
    }
   ],
   "source": [
    "multisub[multisub.duplicated(keep=False)].head(5)"
   ]
  },
  {
   "cell_type": "code",
   "execution_count": null,
   "id": "a7392005",
   "metadata": {},
   "outputs": [],
   "source": []
  }
 ],
 "metadata": {
  "kernelspec": {
   "display_name": "Python 3 (ipykernel)",
   "language": "python",
   "name": "python3"
  },
  "language_info": {
   "codemirror_mode": {
    "name": "ipython",
    "version": 3
   },
   "file_extension": ".py",
   "mimetype": "text/x-python",
   "name": "python",
   "nbconvert_exporter": "python",
   "pygments_lexer": "ipython3",
   "version": "3.11.0"
  }
 },
 "nbformat": 4,
 "nbformat_minor": 5
}
