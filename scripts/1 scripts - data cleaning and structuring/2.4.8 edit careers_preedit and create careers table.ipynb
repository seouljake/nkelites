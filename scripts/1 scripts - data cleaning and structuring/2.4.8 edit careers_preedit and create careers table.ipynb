{
 "cells": [
  {
   "cell_type": "code",
   "execution_count": 71,
   "id": "74698cf3",
   "metadata": {},
   "outputs": [],
   "source": [
    "import pandas as pd\n",
    "import numpy as np"
   ]
  },
  {
   "cell_type": "markdown",
   "id": "aaf25c71",
   "metadata": {},
   "source": [
    "# combined data - 2 tables"
   ]
  },
  {
   "cell_type": "code",
   "execution_count": 72,
   "id": "f2c9c339",
   "metadata": {},
   "outputs": [],
   "source": [
    "path_tables = \"C:/Users/seoul/Dropbox/00 technical/github/nkelites/data/combined data/combined data - 2 tables/\""
   ]
  },
  {
   "cell_type": "code",
   "execution_count": 73,
   "id": "b7d9b165",
   "metadata": {},
   "outputs": [],
   "source": [
    "filename_careers = \"careers.xlsx\""
   ]
  },
  {
   "cell_type": "code",
   "execution_count": 74,
   "id": "1c1ab934",
   "metadata": {},
   "outputs": [],
   "source": [
    "filename_leadercareerlink = \"leadercareerlink.xlsx\""
   ]
  },
  {
   "cell_type": "code",
   "execution_count": 75,
   "id": "f86d0874",
   "metadata": {},
   "outputs": [],
   "source": [
    "filename_leaderjoblink = \"leaderjoblink.xlsx\""
   ]
  },
  {
   "cell_type": "code",
   "execution_count": 76,
   "id": "09c3c30a",
   "metadata": {},
   "outputs": [],
   "source": [
    "filename_joborglink = \"joborglink.xlsx\""
   ]
  },
  {
   "cell_type": "markdown",
   "id": "b80fc98e",
   "metadata": {},
   "source": [
    "# 0. from jol.NotJob, manually update career.IsJob\n",
    "- check jol.NotJob\n",
    "- search career for \"해임\", \"졸업\", \"학교\", ..."
   ]
  },
  {
   "cell_type": "code",
   "execution_count": 77,
   "id": "7709093d",
   "metadata": {},
   "outputs": [],
   "source": [
    "# check_string = \"해임\"\n",
    "# check_string = \"졸업\"\n",
    "# check_string = \"학교\"\n",
    "# check_string = \"결혼\"\n",
    "# check_string = \"이양\"\n",
    "# check_string = \"사망\""
   ]
  },
  {
   "cell_type": "code",
   "execution_count": 78,
   "id": "d19a3c37",
   "metadata": {},
   "outputs": [],
   "source": [
    "# pd.set_option('display.max_rows', None)"
   ]
  },
  {
   "cell_type": "code",
   "execution_count": 79,
   "id": "80c9b617",
   "metadata": {},
   "outputs": [],
   "source": [
    "# c[(c[\"IsJob\"]==\"True\") & (c.apply(lambda x: check_string in x.CareerString,axis=1))]"
   ]
  },
  {
   "cell_type": "markdown",
   "id": "c2a10c37",
   "metadata": {},
   "source": [
    "# combined data - 1 cleaning/cleaning step 2 - career/"
   ]
  },
  {
   "cell_type": "code",
   "execution_count": 80,
   "id": "a9386ddd",
   "metadata": {},
   "outputs": [],
   "source": [
    "path_cleaning = \"C:/Users/seoul/Dropbox/00 technical/github/nkelites/data/combined data/combined data - 1 cleaning/cleaning step 2 - career/\""
   ]
  },
  {
   "cell_type": "code",
   "execution_count": 81,
   "id": "ea8288fa",
   "metadata": {},
   "outputs": [],
   "source": [
    "subpath_2_1 = \"2.1 career_undivided_unparsed_uncoded/\"\n",
    "subpath_2_2 = \"2.2 career_divided_unparsed_uncoded/\"\n",
    "subpath_2_3 = \"2.3 joborglink/\"\n",
    "subpath_2_4 = \"2.4 orgtree/\"\n",
    "subpath_2_5 = \"2.5 position/\"\n",
    "subpath_2_6 = \"2.6 career_reassembled/\""
   ]
  },
  {
   "cell_type": "code",
   "execution_count": 82,
   "id": "09894bdc",
   "metadata": {},
   "outputs": [
    {
     "data": {
      "text/plain": [
       "(8992, 13)"
      ]
     },
     "execution_count": 82,
     "metadata": {},
     "output_type": "execute_result"
    }
   ],
   "source": [
    "# careers_preedits\n",
    "filein_c = \"careers_2_1_preedit.xlsx\"\n",
    "c = pd.read_excel(path_cleaning + subpath_2_6 + filein_c,dtype=\"str\")\n",
    "c.shape"
   ]
  },
  {
   "cell_type": "code",
   "execution_count": 83,
   "id": "156d7924",
   "metadata": {},
   "outputs": [
    {
     "data": {
      "text/plain": [
       "(1394, 14)"
      ]
     },
     "execution_count": 83,
     "metadata": {},
     "output_type": "execute_result"
    }
   ],
   "source": [
    "# orgtree with edits to PrimaryInstitution,OrgName\n",
    "filein_ot = \"orgtree_4_3_jeongsu_2_x.xlsx\"\n",
    "ot = pd.read_excel(path_cleaning + subpath_2_4 + filein_ot)\n",
    "ot.shape "
   ]
  },
  {
   "cell_type": "code",
   "execution_count": 84,
   "id": "3d6ccd02",
   "metadata": {},
   "outputs": [
    {
     "data": {
      "text/plain": [
       "(5010, 16)"
      ]
     },
     "execution_count": 84,
     "metadata": {},
     "output_type": "execute_result"
    }
   ],
   "source": [
    "# jol with edits to Position\n",
    "filein_jol = \"joborglink_1_jeongsoo_complete.xlsx\"\n",
    "jol = pd.read_excel(path_cleaning + subpath_2_5 + filein_jol,dtype=\"str\")\n",
    "jol.shape"
   ]
  },
  {
   "cell_type": "code",
   "execution_count": null,
   "id": "263de8eb",
   "metadata": {},
   "outputs": [],
   "source": []
  },
  {
   "cell_type": "markdown",
   "id": "fd9368f2",
   "metadata": {},
   "source": [
    "# 1. from orgtree, edits to PrimaryInstitution,OrgName "
   ]
  },
  {
   "cell_type": "code",
   "execution_count": 85,
   "id": "a5f4ab27",
   "metadata": {},
   "outputs": [
    {
     "data": {
      "text/html": [
       "<div>\n",
       "<style scoped>\n",
       "    .dataframe tbody tr th:only-of-type {\n",
       "        vertical-align: middle;\n",
       "    }\n",
       "\n",
       "    .dataframe tbody tr th {\n",
       "        vertical-align: top;\n",
       "    }\n",
       "\n",
       "    .dataframe thead th {\n",
       "        text-align: right;\n",
       "    }\n",
       "</style>\n",
       "<table border=\"1\" class=\"dataframe\">\n",
       "  <thead>\n",
       "    <tr style=\"text-align: right;\">\n",
       "      <th></th>\n",
       "      <th>InsideGov</th>\n",
       "      <th>PrimaryInstitution</th>\n",
       "      <th>OrgName</th>\n",
       "      <th>ImmediateSuperiorOrg</th>\n",
       "      <th>SupervisesParent</th>\n",
       "      <th>LinkToNext_PI</th>\n",
       "      <th>LinkToNext_Org</th>\n",
       "      <th>LinkToNext_Year</th>\n",
       "      <th>Edit_PI</th>\n",
       "      <th>Edit_OrgName</th>\n",
       "      <th>Edit_Link_PI</th>\n",
       "      <th>Edit_Link_OrgName</th>\n",
       "      <th>Edit_Link_Year</th>\n",
       "      <th>Notes</th>\n",
       "    </tr>\n",
       "  </thead>\n",
       "  <tbody>\n",
       "    <tr>\n",
       "      <th>0</th>\n",
       "      <td>0.0</td>\n",
       "      <td>6.15공동선언실천남북공동위원회북측위원회</td>\n",
       "      <td>NaN</td>\n",
       "      <td>NaN</td>\n",
       "      <td>NaN</td>\n",
       "      <td>Please_Revise</td>\n",
       "      <td>Please_Revise</td>\n",
       "      <td>Please_Revise</td>\n",
       "      <td>6.15공동선언실천남북공동위원회북측위원회</td>\n",
       "      <td>NaN</td>\n",
       "      <td>Current</td>\n",
       "      <td>Current</td>\n",
       "      <td>Current</td>\n",
       "      <td>NaN</td>\n",
       "    </tr>\n",
       "    <tr>\n",
       "      <th>1</th>\n",
       "      <td>1.0</td>\n",
       "      <td>김일성경호대</td>\n",
       "      <td>NaN</td>\n",
       "      <td>NaN</td>\n",
       "      <td>NaN</td>\n",
       "      <td>호위사령부</td>\n",
       "      <td>호위총국</td>\n",
       "      <td>Please_Revise</td>\n",
       "      <td>Uncertain</td>\n",
       "      <td>Uncertain</td>\n",
       "      <td>Uncertain</td>\n",
       "      <td>Uncertain</td>\n",
       "      <td>Uncertain</td>\n",
       "      <td>NaN</td>\n",
       "    </tr>\n",
       "  </tbody>\n",
       "</table>\n",
       "</div>"
      ],
      "text/plain": [
       "   InsideGov      PrimaryInstitution OrgName ImmediateSuperiorOrg  \\\n",
       "0        0.0  6.15공동선언실천남북공동위원회북측위원회     NaN                  NaN   \n",
       "1        1.0                  김일성경호대     NaN                  NaN   \n",
       "\n",
       "   SupervisesParent  LinkToNext_PI LinkToNext_Org LinkToNext_Year  \\\n",
       "0               NaN  Please_Revise  Please_Revise   Please_Revise   \n",
       "1               NaN          호위사령부           호위총국   Please_Revise   \n",
       "\n",
       "                  Edit_PI Edit_OrgName Edit_Link_PI Edit_Link_OrgName  \\\n",
       "0  6.15공동선언실천남북공동위원회북측위원회          NaN      Current           Current   \n",
       "1               Uncertain    Uncertain    Uncertain         Uncertain   \n",
       "\n",
       "  Edit_Link_Year Notes  \n",
       "0        Current   NaN  \n",
       "1      Uncertain   NaN  "
      ]
     },
     "execution_count": 85,
     "metadata": {},
     "output_type": "execute_result"
    }
   ],
   "source": [
    "ot.head(2)"
   ]
  },
  {
   "cell_type": "code",
   "execution_count": 86,
   "id": "8dd4639e",
   "metadata": {},
   "outputs": [
    {
     "data": {
      "text/plain": [
       "(1394, 4)"
      ]
     },
     "execution_count": 86,
     "metadata": {},
     "output_type": "execute_result"
    }
   ],
   "source": [
    "select_columns = [\"PrimaryInstitution\",\"OrgName\",\"Edit_PI\",\"Edit_OrgName\"]\n",
    "ot = ot[select_columns]\n",
    "ot.shape"
   ]
  },
  {
   "cell_type": "code",
   "execution_count": 87,
   "id": "129c5561",
   "metadata": {},
   "outputs": [
    {
     "data": {
      "text/plain": [
       "(414, 4)"
      ]
     },
     "execution_count": 87,
     "metadata": {},
     "output_type": "execute_result"
    }
   ],
   "source": [
    "ot = ot[~(ot[\"PrimaryInstitution\"].isna() & ot[\"OrgName\"].isna()) & ~(ot[\"Edit_PI\"].isna() & ot[\"Edit_OrgName\"].isna())]\n",
    "ot.shape"
   ]
  },
  {
   "cell_type": "code",
   "execution_count": 88,
   "id": "082ca3a1",
   "metadata": {},
   "outputs": [
    {
     "data": {
      "text/html": [
       "<div>\n",
       "<style scoped>\n",
       "    .dataframe tbody tr th:only-of-type {\n",
       "        vertical-align: middle;\n",
       "    }\n",
       "\n",
       "    .dataframe tbody tr th {\n",
       "        vertical-align: top;\n",
       "    }\n",
       "\n",
       "    .dataframe thead th {\n",
       "        text-align: right;\n",
       "    }\n",
       "</style>\n",
       "<table border=\"1\" class=\"dataframe\">\n",
       "  <thead>\n",
       "    <tr style=\"text-align: right;\">\n",
       "      <th></th>\n",
       "      <th>PrimaryInstitution</th>\n",
       "      <th>OrgName</th>\n",
       "      <th>Edit_PI</th>\n",
       "      <th>Edit_OrgName</th>\n",
       "    </tr>\n",
       "  </thead>\n",
       "  <tbody>\n",
       "  </tbody>\n",
       "</table>\n",
       "</div>"
      ],
      "text/plain": [
       "Empty DataFrame\n",
       "Columns: [PrimaryInstitution, OrgName, Edit_PI, Edit_OrgName]\n",
       "Index: []"
      ]
     },
     "execution_count": 88,
     "metadata": {},
     "output_type": "execute_result"
    }
   ],
   "source": [
    "ot[ot[\"PrimaryInstitution\"].isna() & ot[\"OrgName\"].isna()]"
   ]
  },
  {
   "cell_type": "code",
   "execution_count": 89,
   "id": "2415bde4",
   "metadata": {},
   "outputs": [
    {
     "data": {
      "text/html": [
       "<div>\n",
       "<style scoped>\n",
       "    .dataframe tbody tr th:only-of-type {\n",
       "        vertical-align: middle;\n",
       "    }\n",
       "\n",
       "    .dataframe tbody tr th {\n",
       "        vertical-align: top;\n",
       "    }\n",
       "\n",
       "    .dataframe thead th {\n",
       "        text-align: right;\n",
       "    }\n",
       "</style>\n",
       "<table border=\"1\" class=\"dataframe\">\n",
       "  <thead>\n",
       "    <tr style=\"text-align: right;\">\n",
       "      <th></th>\n",
       "      <th>PrimaryInstitution</th>\n",
       "      <th>OrgName</th>\n",
       "      <th>Edit_PI</th>\n",
       "      <th>Edit_OrgName</th>\n",
       "    </tr>\n",
       "  </thead>\n",
       "  <tbody>\n",
       "  </tbody>\n",
       "</table>\n",
       "</div>"
      ],
      "text/plain": [
       "Empty DataFrame\n",
       "Columns: [PrimaryInstitution, OrgName, Edit_PI, Edit_OrgName]\n",
       "Index: []"
      ]
     },
     "execution_count": 89,
     "metadata": {},
     "output_type": "execute_result"
    }
   ],
   "source": [
    "ot[ot[\"Edit_PI\"].isna() & ot[\"Edit_OrgName\"].isna()]"
   ]
  },
  {
   "cell_type": "code",
   "execution_count": 90,
   "id": "5463095f",
   "metadata": {},
   "outputs": [
    {
     "data": {
      "text/html": [
       "<div>\n",
       "<style scoped>\n",
       "    .dataframe tbody tr th:only-of-type {\n",
       "        vertical-align: middle;\n",
       "    }\n",
       "\n",
       "    .dataframe tbody tr th {\n",
       "        vertical-align: top;\n",
       "    }\n",
       "\n",
       "    .dataframe thead th {\n",
       "        text-align: right;\n",
       "    }\n",
       "</style>\n",
       "<table border=\"1\" class=\"dataframe\">\n",
       "  <thead>\n",
       "    <tr style=\"text-align: right;\">\n",
       "      <th></th>\n",
       "      <th>PrimaryInstitution</th>\n",
       "      <th>OrgName</th>\n",
       "      <th>Edit_PI</th>\n",
       "      <th>Edit_OrgName</th>\n",
       "    </tr>\n",
       "  </thead>\n",
       "  <tbody>\n",
       "    <tr>\n",
       "      <th>0</th>\n",
       "      <td>6.15공동선언실천남북공동위원회북측위원회</td>\n",
       "      <td>NaN</td>\n",
       "      <td>6.15공동선언실천남북공동위원회북측위원회</td>\n",
       "      <td>NaN</td>\n",
       "    </tr>\n",
       "    <tr>\n",
       "      <th>3</th>\n",
       "      <td>노동당</td>\n",
       "      <td>연락부</td>\n",
       "      <td>Uncertain</td>\n",
       "      <td>NaN</td>\n",
       "    </tr>\n",
       "    <tr>\n",
       "      <th>4</th>\n",
       "      <td>개성방직공장</td>\n",
       "      <td>NaN</td>\n",
       "      <td>개성방직공장</td>\n",
       "      <td>NaN</td>\n",
       "    </tr>\n",
       "    <tr>\n",
       "      <th>5</th>\n",
       "      <td>공산청년동맹</td>\n",
       "      <td>공산청년동맹</td>\n",
       "      <td>공산청년동맹</td>\n",
       "      <td>NaN</td>\n",
       "    </tr>\n",
       "    <tr>\n",
       "      <th>6</th>\n",
       "      <td>공산청년동맹</td>\n",
       "      <td>NaN</td>\n",
       "      <td>공산청년동맹</td>\n",
       "      <td>NaN</td>\n",
       "    </tr>\n",
       "    <tr>\n",
       "      <th>...</th>\n",
       "      <td>...</td>\n",
       "      <td>...</td>\n",
       "      <td>...</td>\n",
       "      <td>...</td>\n",
       "    </tr>\n",
       "    <tr>\n",
       "      <th>416</th>\n",
       "      <td>노동당</td>\n",
       "      <td>조선태권도협회</td>\n",
       "      <td>태권도협회</td>\n",
       "      <td>NaN</td>\n",
       "    </tr>\n",
       "    <tr>\n",
       "      <th>417</th>\n",
       "      <td>태천발전소</td>\n",
       "      <td>NaN</td>\n",
       "      <td>태천발전소</td>\n",
       "      <td>NaN</td>\n",
       "    </tr>\n",
       "    <tr>\n",
       "      <th>418</th>\n",
       "      <td>평양영화대학</td>\n",
       "      <td>NaN</td>\n",
       "      <td>평양영화대학</td>\n",
       "      <td>NaN</td>\n",
       "    </tr>\n",
       "    <tr>\n",
       "      <th>419</th>\n",
       "      <td>평양예술단</td>\n",
       "      <td>NaN</td>\n",
       "      <td>평양예술단</td>\n",
       "      <td>NaN</td>\n",
       "    </tr>\n",
       "    <tr>\n",
       "      <th>424</th>\n",
       "      <td>후방군관학교</td>\n",
       "      <td>NaN</td>\n",
       "      <td>후방군관학교</td>\n",
       "      <td>NaN</td>\n",
       "    </tr>\n",
       "  </tbody>\n",
       "</table>\n",
       "<p>98 rows × 4 columns</p>\n",
       "</div>"
      ],
      "text/plain": [
       "         PrimaryInstitution  OrgName                 Edit_PI Edit_OrgName\n",
       "0    6.15공동선언실천남북공동위원회북측위원회      NaN  6.15공동선언실천남북공동위원회북측위원회          NaN\n",
       "3                       노동당      연락부               Uncertain          NaN\n",
       "4                    개성방직공장      NaN                  개성방직공장          NaN\n",
       "5                    공산청년동맹   공산청년동맹                  공산청년동맹          NaN\n",
       "6                    공산청년동맹      NaN                  공산청년동맹          NaN\n",
       "..                      ...      ...                     ...          ...\n",
       "416                     노동당  조선태권도협회                   태권도협회          NaN\n",
       "417                   태천발전소      NaN                   태천발전소          NaN\n",
       "418                  평양영화대학      NaN                  평양영화대학          NaN\n",
       "419                   평양예술단      NaN                   평양예술단          NaN\n",
       "424                  후방군관학교      NaN                  후방군관학교          NaN\n",
       "\n",
       "[98 rows x 4 columns]"
      ]
     },
     "execution_count": 90,
     "metadata": {},
     "output_type": "execute_result"
    }
   ],
   "source": [
    "ot[ot[\"Edit_OrgName\"].isna()]"
   ]
  },
  {
   "cell_type": "code",
   "execution_count": 91,
   "id": "f1e4444b",
   "metadata": {},
   "outputs": [
    {
     "data": {
      "text/plain": [
       "(0, 4)"
      ]
     },
     "execution_count": 91,
     "metadata": {},
     "output_type": "execute_result"
    }
   ],
   "source": [
    "ot[ot.duplicated()].shape"
   ]
  },
  {
   "cell_type": "code",
   "execution_count": 92,
   "id": "47837064",
   "metadata": {},
   "outputs": [
    {
     "data": {
      "text/html": [
       "<div>\n",
       "<style scoped>\n",
       "    .dataframe tbody tr th:only-of-type {\n",
       "        vertical-align: middle;\n",
       "    }\n",
       "\n",
       "    .dataframe tbody tr th {\n",
       "        vertical-align: top;\n",
       "    }\n",
       "\n",
       "    .dataframe thead th {\n",
       "        text-align: right;\n",
       "    }\n",
       "</style>\n",
       "<table border=\"1\" class=\"dataframe\">\n",
       "  <thead>\n",
       "    <tr style=\"text-align: right;\">\n",
       "      <th></th>\n",
       "      <th>CareerString</th>\n",
       "      <th>CareerDateString_2022</th>\n",
       "      <th>IsJob</th>\n",
       "      <th>MultipleSubstrings</th>\n",
       "      <th>CareerStartYear</th>\n",
       "      <th>CareerStartMonth</th>\n",
       "      <th>CareerSubstring</th>\n",
       "      <th>OrgString</th>\n",
       "      <th>Position</th>\n",
       "      <th>PrimaryInstitution</th>\n",
       "      <th>OrgName</th>\n",
       "      <th>Notes</th>\n",
       "      <th>_merge</th>\n",
       "    </tr>\n",
       "  </thead>\n",
       "  <tbody>\n",
       "    <tr>\n",
       "      <th>0</th>\n",
       "      <td>군 제2사단 제1연대장</td>\n",
       "      <td>1951.01</td>\n",
       "      <td>True</td>\n",
       "      <td>NaN</td>\n",
       "      <td>1951</td>\n",
       "      <td>1</td>\n",
       "      <td>NaN</td>\n",
       "      <td>군 제2사단</td>\n",
       "      <td>연대장</td>\n",
       "      <td>총참모부</td>\n",
       "      <td>작전총국_제x처_제x군단_제2사단</td>\n",
       "      <td>NaN</td>\n",
       "      <td>both</td>\n",
       "    </tr>\n",
       "    <tr>\n",
       "      <th>1</th>\n",
       "      <td>1951. 1 인민군 제2사단 제1연대장</td>\n",
       "      <td>NaN</td>\n",
       "      <td>True</td>\n",
       "      <td>NaN</td>\n",
       "      <td>1951</td>\n",
       "      <td>1</td>\n",
       "      <td>NaN</td>\n",
       "      <td>인민군 제2사단 제1연대장</td>\n",
       "      <td>연대장</td>\n",
       "      <td>총참모부</td>\n",
       "      <td>작전총국_제x처_제x군단_제2사단_제1연대</td>\n",
       "      <td>*2사단 없음; 비고: 작전총국_제X처_제Y군단 vs Y군단</td>\n",
       "      <td>both</td>\n",
       "    </tr>\n",
       "  </tbody>\n",
       "</table>\n",
       "</div>"
      ],
      "text/plain": [
       "             CareerString CareerDateString_2022 IsJob MultipleSubstrings  \\\n",
       "0            군 제2사단 제1연대장               1951.01  True                NaN   \n",
       "1  1951. 1 인민군 제2사단 제1연대장                   NaN  True                NaN   \n",
       "\n",
       "  CareerStartYear CareerStartMonth CareerSubstring       OrgString Position  \\\n",
       "0            1951                1             NaN          군 제2사단      연대장   \n",
       "1            1951                1             NaN  인민군 제2사단 제1연대장      연대장   \n",
       "\n",
       "  PrimaryInstitution                  OrgName  \\\n",
       "0               총참모부       작전총국_제x처_제x군단_제2사단   \n",
       "1               총참모부  작전총국_제x처_제x군단_제2사단_제1연대   \n",
       "\n",
       "                               Notes _merge  \n",
       "0                                NaN   both  \n",
       "1  *2사단 없음; 비고: 작전총국_제X처_제Y군단 vs Y군단   both  "
      ]
     },
     "execution_count": 92,
     "metadata": {},
     "output_type": "execute_result"
    }
   ],
   "source": [
    "c.head(2)"
   ]
  },
  {
   "cell_type": "code",
   "execution_count": 93,
   "id": "a07452e3",
   "metadata": {},
   "outputs": [],
   "source": [
    "c.rename(columns={\"_merge\":\"_merge_orgstring\"},inplace=True)"
   ]
  },
  {
   "cell_type": "code",
   "execution_count": 94,
   "id": "b4f5f9db",
   "metadata": {},
   "outputs": [
    {
     "data": {
      "text/plain": [
       "(8992, 16)"
      ]
     },
     "execution_count": 94,
     "metadata": {},
     "output_type": "execute_result"
    }
   ],
   "source": [
    "select_columns = [\"PrimaryInstitution\",\"OrgName\"]\n",
    "c2 = c.merge(ot,on=select_columns,how=\"left\",indicator=True)\n",
    "c2.shape"
   ]
  },
  {
   "cell_type": "code",
   "execution_count": 95,
   "id": "8bfa4881",
   "metadata": {},
   "outputs": [
    {
     "data": {
      "text/html": [
       "<div>\n",
       "<style scoped>\n",
       "    .dataframe tbody tr th:only-of-type {\n",
       "        vertical-align: middle;\n",
       "    }\n",
       "\n",
       "    .dataframe tbody tr th {\n",
       "        vertical-align: top;\n",
       "    }\n",
       "\n",
       "    .dataframe thead th {\n",
       "        text-align: right;\n",
       "    }\n",
       "</style>\n",
       "<table border=\"1\" class=\"dataframe\">\n",
       "  <thead>\n",
       "    <tr style=\"text-align: right;\">\n",
       "      <th></th>\n",
       "      <th>CareerString</th>\n",
       "      <th>CareerDateString_2022</th>\n",
       "      <th>IsJob</th>\n",
       "      <th>MultipleSubstrings</th>\n",
       "      <th>CareerStartYear</th>\n",
       "      <th>CareerStartMonth</th>\n",
       "      <th>CareerSubstring</th>\n",
       "      <th>OrgString</th>\n",
       "      <th>Position</th>\n",
       "      <th>PrimaryInstitution</th>\n",
       "      <th>OrgName</th>\n",
       "      <th>Notes</th>\n",
       "      <th>_merge_orgstring</th>\n",
       "      <th>Edit_PI</th>\n",
       "      <th>Edit_OrgName</th>\n",
       "    </tr>\n",
       "    <tr>\n",
       "      <th>_merge</th>\n",
       "      <th></th>\n",
       "      <th></th>\n",
       "      <th></th>\n",
       "      <th></th>\n",
       "      <th></th>\n",
       "      <th></th>\n",
       "      <th></th>\n",
       "      <th></th>\n",
       "      <th></th>\n",
       "      <th></th>\n",
       "      <th></th>\n",
       "      <th></th>\n",
       "      <th></th>\n",
       "      <th></th>\n",
       "      <th></th>\n",
       "    </tr>\n",
       "  </thead>\n",
       "  <tbody>\n",
       "    <tr>\n",
       "      <th>left_only</th>\n",
       "      <td>7897</td>\n",
       "      <td>4339</td>\n",
       "      <td>7897</td>\n",
       "      <td>1473</td>\n",
       "      <td>6327</td>\n",
       "      <td>5747</td>\n",
       "      <td>1607</td>\n",
       "      <td>5388</td>\n",
       "      <td>5395</td>\n",
       "      <td>3899</td>\n",
       "      <td>2833</td>\n",
       "      <td>82</td>\n",
       "      <td>7897</td>\n",
       "      <td>0</td>\n",
       "      <td>0</td>\n",
       "    </tr>\n",
       "    <tr>\n",
       "      <th>right_only</th>\n",
       "      <td>0</td>\n",
       "      <td>0</td>\n",
       "      <td>0</td>\n",
       "      <td>0</td>\n",
       "      <td>0</td>\n",
       "      <td>0</td>\n",
       "      <td>0</td>\n",
       "      <td>0</td>\n",
       "      <td>0</td>\n",
       "      <td>0</td>\n",
       "      <td>0</td>\n",
       "      <td>0</td>\n",
       "      <td>0</td>\n",
       "      <td>0</td>\n",
       "      <td>0</td>\n",
       "    </tr>\n",
       "    <tr>\n",
       "      <th>both</th>\n",
       "      <td>1095</td>\n",
       "      <td>556</td>\n",
       "      <td>1095</td>\n",
       "      <td>100</td>\n",
       "      <td>1045</td>\n",
       "      <td>921</td>\n",
       "      <td>112</td>\n",
       "      <td>1095</td>\n",
       "      <td>1085</td>\n",
       "      <td>1095</td>\n",
       "      <td>795</td>\n",
       "      <td>33</td>\n",
       "      <td>1095</td>\n",
       "      <td>1095</td>\n",
       "      <td>784</td>\n",
       "    </tr>\n",
       "  </tbody>\n",
       "</table>\n",
       "</div>"
      ],
      "text/plain": [
       "            CareerString  CareerDateString_2022  IsJob  MultipleSubstrings  \\\n",
       "_merge                                                                       \n",
       "left_only           7897                   4339   7897                1473   \n",
       "right_only             0                      0      0                   0   \n",
       "both                1095                    556   1095                 100   \n",
       "\n",
       "            CareerStartYear  CareerStartMonth  CareerSubstring  OrgString  \\\n",
       "_merge                                                                      \n",
       "left_only              6327              5747             1607       5388   \n",
       "right_only                0                 0                0          0   \n",
       "both                   1045               921              112       1095   \n",
       "\n",
       "            Position  PrimaryInstitution  OrgName  Notes  _merge_orgstring  \\\n",
       "_merge                                                                       \n",
       "left_only       5395                3899     2833     82              7897   \n",
       "right_only         0                   0        0      0                 0   \n",
       "both            1085                1095      795     33              1095   \n",
       "\n",
       "            Edit_PI  Edit_OrgName  \n",
       "_merge                             \n",
       "left_only         0             0  \n",
       "right_only        0             0  \n",
       "both           1095           784  "
      ]
     },
     "execution_count": 95,
     "metadata": {},
     "output_type": "execute_result"
    }
   ],
   "source": [
    "c2.groupby(\"_merge\").count()"
   ]
  },
  {
   "cell_type": "code",
   "execution_count": 96,
   "id": "242e7d0c",
   "metadata": {},
   "outputs": [
    {
     "data": {
      "text/html": [
       "<div>\n",
       "<style scoped>\n",
       "    .dataframe tbody tr th:only-of-type {\n",
       "        vertical-align: middle;\n",
       "    }\n",
       "\n",
       "    .dataframe tbody tr th {\n",
       "        vertical-align: top;\n",
       "    }\n",
       "\n",
       "    .dataframe thead th {\n",
       "        text-align: right;\n",
       "    }\n",
       "</style>\n",
       "<table border=\"1\" class=\"dataframe\">\n",
       "  <thead>\n",
       "    <tr style=\"text-align: right;\">\n",
       "      <th></th>\n",
       "      <th>CareerString</th>\n",
       "      <th>CareerDateString_2022</th>\n",
       "      <th>IsJob</th>\n",
       "      <th>MultipleSubstrings</th>\n",
       "      <th>CareerStartYear</th>\n",
       "      <th>CareerStartMonth</th>\n",
       "      <th>CareerSubstring</th>\n",
       "      <th>OrgString</th>\n",
       "      <th>Position</th>\n",
       "      <th>PrimaryInstitution</th>\n",
       "      <th>OrgName</th>\n",
       "      <th>Notes</th>\n",
       "      <th>_merge_orgstring</th>\n",
       "      <th>Edit_PI</th>\n",
       "      <th>Edit_OrgName</th>\n",
       "      <th>_merge</th>\n",
       "    </tr>\n",
       "  </thead>\n",
       "  <tbody>\n",
       "    <tr>\n",
       "      <th>4</th>\n",
       "      <td>당 중앙위원회 공업부장, 국가계획위원회 위원장</td>\n",
       "      <td>1956.01</td>\n",
       "      <td>True</td>\n",
       "      <td>2</td>\n",
       "      <td>1956</td>\n",
       "      <td>1</td>\n",
       "      <td>당 중앙위원회 공업부장</td>\n",
       "      <td>노동당 중앙인민위원회</td>\n",
       "      <td>공업부장</td>\n",
       "      <td>중앙인민위원회</td>\n",
       "      <td>NaN</td>\n",
       "      <td>NaN</td>\n",
       "      <td>both</td>\n",
       "      <td>중앙인민위원회</td>\n",
       "      <td>NaN</td>\n",
       "      <td>both</td>\n",
       "    </tr>\n",
       "    <tr>\n",
       "      <th>22</th>\n",
       "      <td>내각 사무국 부국장</td>\n",
       "      <td>1969.01</td>\n",
       "      <td>True</td>\n",
       "      <td>NaN</td>\n",
       "      <td>1969</td>\n",
       "      <td>1</td>\n",
       "      <td>NaN</td>\n",
       "      <td>내각 사무국</td>\n",
       "      <td>부국장</td>\n",
       "      <td>내각</td>\n",
       "      <td>사무국</td>\n",
       "      <td>NaN</td>\n",
       "      <td>both</td>\n",
       "      <td>내각</td>\n",
       "      <td>내각사무국</td>\n",
       "      <td>both</td>\n",
       "    </tr>\n",
       "  </tbody>\n",
       "</table>\n",
       "</div>"
      ],
      "text/plain": [
       "                 CareerString CareerDateString_2022 IsJob MultipleSubstrings  \\\n",
       "4   당 중앙위원회 공업부장, 국가계획위원회 위원장               1956.01  True                  2   \n",
       "22                 내각 사무국 부국장               1969.01  True                NaN   \n",
       "\n",
       "   CareerStartYear CareerStartMonth CareerSubstring    OrgString Position  \\\n",
       "4             1956                1    당 중앙위원회 공업부장  노동당 중앙인민위원회     공업부장   \n",
       "22            1969                1             NaN       내각 사무국      부국장   \n",
       "\n",
       "   PrimaryInstitution OrgName Notes _merge_orgstring  Edit_PI Edit_OrgName  \\\n",
       "4             중앙인민위원회     NaN   NaN             both  중앙인민위원회          NaN   \n",
       "22                 내각     사무국   NaN             both       내각        내각사무국   \n",
       "\n",
       "   _merge  \n",
       "4    both  \n",
       "22   both  "
      ]
     },
     "execution_count": 96,
     "metadata": {},
     "output_type": "execute_result"
    }
   ],
   "source": [
    "c2[c2[\"_merge\"]==\"both\"].head(2)"
   ]
  },
  {
   "cell_type": "code",
   "execution_count": 97,
   "id": "05eed81e",
   "metadata": {},
   "outputs": [],
   "source": [
    "c2.loc[c2[\"_merge\"]==\"both\",\"PrimaryInstitution\"] = c2.loc[c2[\"_merge\"]==\"both\",\"Edit_PI\"]\n",
    "c2.loc[c2[\"_merge\"]==\"both\",\"OrgName\"] = c2.loc[c2[\"_merge\"]==\"both\",\"Edit_OrgName\"]"
   ]
  },
  {
   "cell_type": "code",
   "execution_count": 98,
   "id": "7f35f038",
   "metadata": {},
   "outputs": [
    {
     "data": {
      "text/html": [
       "<div>\n",
       "<style scoped>\n",
       "    .dataframe tbody tr th:only-of-type {\n",
       "        vertical-align: middle;\n",
       "    }\n",
       "\n",
       "    .dataframe tbody tr th {\n",
       "        vertical-align: top;\n",
       "    }\n",
       "\n",
       "    .dataframe thead th {\n",
       "        text-align: right;\n",
       "    }\n",
       "</style>\n",
       "<table border=\"1\" class=\"dataframe\">\n",
       "  <thead>\n",
       "    <tr style=\"text-align: right;\">\n",
       "      <th></th>\n",
       "      <th>CareerString</th>\n",
       "      <th>CareerDateString_2022</th>\n",
       "      <th>IsJob</th>\n",
       "      <th>MultipleSubstrings</th>\n",
       "      <th>CareerStartYear</th>\n",
       "      <th>CareerStartMonth</th>\n",
       "      <th>CareerSubstring</th>\n",
       "      <th>OrgString</th>\n",
       "      <th>Position</th>\n",
       "      <th>PrimaryInstitution</th>\n",
       "      <th>OrgName</th>\n",
       "      <th>Notes</th>\n",
       "      <th>_merge_orgstring</th>\n",
       "      <th>Edit_PI</th>\n",
       "      <th>Edit_OrgName</th>\n",
       "      <th>_merge</th>\n",
       "    </tr>\n",
       "  </thead>\n",
       "  <tbody>\n",
       "    <tr>\n",
       "      <th>4</th>\n",
       "      <td>당 중앙위원회 공업부장, 국가계획위원회 위원장</td>\n",
       "      <td>1956.01</td>\n",
       "      <td>True</td>\n",
       "      <td>2</td>\n",
       "      <td>1956</td>\n",
       "      <td>1</td>\n",
       "      <td>당 중앙위원회 공업부장</td>\n",
       "      <td>노동당 중앙인민위원회</td>\n",
       "      <td>공업부장</td>\n",
       "      <td>중앙인민위원회</td>\n",
       "      <td>NaN</td>\n",
       "      <td>NaN</td>\n",
       "      <td>both</td>\n",
       "      <td>중앙인민위원회</td>\n",
       "      <td>NaN</td>\n",
       "      <td>both</td>\n",
       "    </tr>\n",
       "    <tr>\n",
       "      <th>22</th>\n",
       "      <td>내각 사무국 부국장</td>\n",
       "      <td>1969.01</td>\n",
       "      <td>True</td>\n",
       "      <td>NaN</td>\n",
       "      <td>1969</td>\n",
       "      <td>1</td>\n",
       "      <td>NaN</td>\n",
       "      <td>내각 사무국</td>\n",
       "      <td>부국장</td>\n",
       "      <td>내각</td>\n",
       "      <td>내각사무국</td>\n",
       "      <td>NaN</td>\n",
       "      <td>both</td>\n",
       "      <td>내각</td>\n",
       "      <td>내각사무국</td>\n",
       "      <td>both</td>\n",
       "    </tr>\n",
       "  </tbody>\n",
       "</table>\n",
       "</div>"
      ],
      "text/plain": [
       "                 CareerString CareerDateString_2022 IsJob MultipleSubstrings  \\\n",
       "4   당 중앙위원회 공업부장, 국가계획위원회 위원장               1956.01  True                  2   \n",
       "22                 내각 사무국 부국장               1969.01  True                NaN   \n",
       "\n",
       "   CareerStartYear CareerStartMonth CareerSubstring    OrgString Position  \\\n",
       "4             1956                1    당 중앙위원회 공업부장  노동당 중앙인민위원회     공업부장   \n",
       "22            1969                1             NaN       내각 사무국      부국장   \n",
       "\n",
       "   PrimaryInstitution OrgName Notes _merge_orgstring  Edit_PI Edit_OrgName  \\\n",
       "4             중앙인민위원회     NaN   NaN             both  중앙인민위원회          NaN   \n",
       "22                 내각   내각사무국   NaN             both       내각        내각사무국   \n",
       "\n",
       "   _merge  \n",
       "4    both  \n",
       "22   both  "
      ]
     },
     "execution_count": 98,
     "metadata": {},
     "output_type": "execute_result"
    }
   ],
   "source": [
    "c2[c2[\"_merge\"]==\"both\"].head(2)"
   ]
  },
  {
   "cell_type": "code",
   "execution_count": 99,
   "id": "5426195e",
   "metadata": {},
   "outputs": [],
   "source": [
    "c2.drop(columns=[\"Edit_PI\",\"Edit_OrgName\",\"_merge\"],inplace=True)"
   ]
  },
  {
   "cell_type": "markdown",
   "id": "35fddedb",
   "metadata": {},
   "source": [
    "# 2. check CareerStartYear, CareerStartMonth\n",
    "- write a function to check dates\n",
    "- check dates in careers and jol tables"
   ]
  },
  {
   "cell_type": "code",
   "execution_count": 100,
   "id": "a349fc20",
   "metadata": {},
   "outputs": [
    {
     "data": {
      "text/plain": [
       "Index(['CareerString', 'CareerDateString_2022', 'IsJob', 'MultipleSubstrings',\n",
       "       'CareerStartYear', 'CareerStartMonth', 'CareerSubstring', 'OrgString',\n",
       "       'Position', 'PrimaryInstitution', 'OrgName', 'Notes',\n",
       "       '_merge_orgstring'],\n",
       "      dtype='object')"
      ]
     },
     "execution_count": 100,
     "metadata": {},
     "output_type": "execute_result"
    }
   ],
   "source": [
    "# check careers\n",
    "c2.columns"
   ]
  },
  {
   "cell_type": "code",
   "execution_count": 101,
   "id": "08361c2d",
   "metadata": {},
   "outputs": [
    {
     "data": {
      "text/html": [
       "<div>\n",
       "<style scoped>\n",
       "    .dataframe tbody tr th:only-of-type {\n",
       "        vertical-align: middle;\n",
       "    }\n",
       "\n",
       "    .dataframe tbody tr th {\n",
       "        vertical-align: top;\n",
       "    }\n",
       "\n",
       "    .dataframe thead th {\n",
       "        text-align: right;\n",
       "    }\n",
       "</style>\n",
       "<table border=\"1\" class=\"dataframe\">\n",
       "  <thead>\n",
       "    <tr style=\"text-align: right;\">\n",
       "      <th></th>\n",
       "      <th>CareerString</th>\n",
       "      <th>CareerDateString_2022</th>\n",
       "      <th>CareerStartYear</th>\n",
       "    </tr>\n",
       "  </thead>\n",
       "  <tbody>\n",
       "  </tbody>\n",
       "</table>\n",
       "</div>"
      ],
      "text/plain": [
       "Empty DataFrame\n",
       "Columns: [CareerString, CareerDateString_2022, CareerStartYear]\n",
       "Index: []"
      ]
     },
     "execution_count": 101,
     "metadata": {},
     "output_type": "execute_result"
    }
   ],
   "source": [
    "c2[~c2.CareerStartYear.isna() & \n",
    "   c2.apply(lambda x: \n",
    "            (str(x.CareerStartYear) not in str(x.CareerString))\n",
    "            & (str(x.CareerStartYear) not in str(x.CareerDateString_2022)),\n",
    "            axis=1)][[\"CareerString\", \"CareerDateString_2022\",\"CareerStartYear\"]]"
   ]
  },
  {
   "cell_type": "code",
   "execution_count": 102,
   "id": "d9d7b44c",
   "metadata": {},
   "outputs": [
    {
     "data": {
      "text/html": [
       "<div>\n",
       "<style scoped>\n",
       "    .dataframe tbody tr th:only-of-type {\n",
       "        vertical-align: middle;\n",
       "    }\n",
       "\n",
       "    .dataframe tbody tr th {\n",
       "        vertical-align: top;\n",
       "    }\n",
       "\n",
       "    .dataframe thead th {\n",
       "        text-align: right;\n",
       "    }\n",
       "</style>\n",
       "<table border=\"1\" class=\"dataframe\">\n",
       "  <thead>\n",
       "    <tr style=\"text-align: right;\">\n",
       "      <th></th>\n",
       "      <th>CareerString</th>\n",
       "      <th>CareerDateString_2022</th>\n",
       "      <th>CareerStartMonth</th>\n",
       "    </tr>\n",
       "  </thead>\n",
       "  <tbody>\n",
       "  </tbody>\n",
       "</table>\n",
       "</div>"
      ],
      "text/plain": [
       "Empty DataFrame\n",
       "Columns: [CareerString, CareerDateString_2022, CareerStartMonth]\n",
       "Index: []"
      ]
     },
     "execution_count": 102,
     "metadata": {},
     "output_type": "execute_result"
    }
   ],
   "source": [
    "c2[~c2.CareerStartMonth.isna() & \n",
    "   c2.apply(lambda x: \n",
    "            (str(x.CareerStartMonth) not in str(x.CareerString))\n",
    "            & (str(x.CareerStartMonth) not in str(x.CareerDateString_2022)),\n",
    "            axis=1)][[\"CareerString\", \"CareerDateString_2022\",\"CareerStartMonth\"]]"
   ]
  },
  {
   "cell_type": "code",
   "execution_count": 103,
   "id": "26353ff4",
   "metadata": {},
   "outputs": [
    {
     "data": {
      "text/plain": [
       "Index(['CareerStringID', 'CareerString', 'CareerSubstring', 'CareerStartYear',\n",
       "       'CareerStartMonth', 'OrgString', 'PrimaryInstitution', 'OrgName',\n",
       "       'Edit_PI', 'Edit_OrgName', 'InOrgTree', 'Position', 'Edit_Position',\n",
       "       'NotJob', 'Notes', 'Unnamed: 15'],\n",
       "      dtype='object')"
      ]
     },
     "execution_count": 103,
     "metadata": {},
     "output_type": "execute_result"
    }
   ],
   "source": [
    "# check jol\n",
    "jol.columns"
   ]
  },
  {
   "cell_type": "code",
   "execution_count": 104,
   "id": "24f4fb37",
   "metadata": {},
   "outputs": [
    {
     "data": {
      "text/html": [
       "<div>\n",
       "<style scoped>\n",
       "    .dataframe tbody tr th:only-of-type {\n",
       "        vertical-align: middle;\n",
       "    }\n",
       "\n",
       "    .dataframe tbody tr th {\n",
       "        vertical-align: top;\n",
       "    }\n",
       "\n",
       "    .dataframe thead th {\n",
       "        text-align: right;\n",
       "    }\n",
       "</style>\n",
       "<table border=\"1\" class=\"dataframe\">\n",
       "  <thead>\n",
       "    <tr style=\"text-align: right;\">\n",
       "      <th></th>\n",
       "      <th>CareerString</th>\n",
       "      <th>CareerStartYear</th>\n",
       "    </tr>\n",
       "  </thead>\n",
       "  <tbody>\n",
       "    <tr>\n",
       "      <th>1</th>\n",
       "      <td>국방위원회 위원장직 김정일에게 이양</td>\n",
       "      <td>1993</td>\n",
       "    </tr>\n",
       "    <tr>\n",
       "      <th>2</th>\n",
       "      <td>국가품질감독위원회 위원장(해임) *후임 : 리철진</td>\n",
       "      <td>2011</td>\n",
       "    </tr>\n",
       "    <tr>\n",
       "      <th>6</th>\n",
       "      <td>도시경영상에서 해임 * 후임: 강영수</td>\n",
       "      <td>2013</td>\n",
       "    </tr>\n",
       "    <tr>\n",
       "      <th>7</th>\n",
       "      <td>최고인민회의 제13기 1차 회의에서 국방위 부위원장 미선출</td>\n",
       "      <td>2014</td>\n",
       "    </tr>\n",
       "    <tr>\n",
       "      <th>12</th>\n",
       "      <td>사회안전부 정치국장 해임</td>\n",
       "      <td>1995</td>\n",
       "    </tr>\n",
       "    <tr>\n",
       "      <th>...</th>\n",
       "      <td>...</td>\n",
       "      <td>...</td>\n",
       "    </tr>\n",
       "    <tr>\n",
       "      <th>4713</th>\n",
       "      <td>호위사령부 부사령관</td>\n",
       "      <td>2018</td>\n",
       "    </tr>\n",
       "    <tr>\n",
       "      <th>4714</th>\n",
       "      <td>석탄공업상</td>\n",
       "      <td>2019</td>\n",
       "    </tr>\n",
       "    <tr>\n",
       "      <th>4715</th>\n",
       "      <td>조국통일민주주의전선 중앙위원회 공동의장</td>\n",
       "      <td>2019</td>\n",
       "    </tr>\n",
       "    <tr>\n",
       "      <th>4716</th>\n",
       "      <td>당 중앙검서위원회 위원(*당 제8기 제1차 전원회의에서 선거)</td>\n",
       "      <td>2021</td>\n",
       "    </tr>\n",
       "    <tr>\n",
       "      <th>4717</th>\n",
       "      <td>외무성 과장</td>\n",
       "      <td>1996</td>\n",
       "    </tr>\n",
       "  </tbody>\n",
       "</table>\n",
       "<p>2425 rows × 2 columns</p>\n",
       "</div>"
      ],
      "text/plain": [
       "                            CareerString CareerStartYear\n",
       "1                    국방위원회 위원장직 김정일에게 이양            1993\n",
       "2            국가품질감독위원회 위원장(해임) *후임 : 리철진            2011\n",
       "6                   도시경영상에서 해임 * 후임: 강영수            2013\n",
       "7       최고인민회의 제13기 1차 회의에서 국방위 부위원장 미선출            2014\n",
       "12                         사회안전부 정치국장 해임            1995\n",
       "...                                  ...             ...\n",
       "4713                          호위사령부 부사령관            2018\n",
       "4714                               석탄공업상            2019\n",
       "4715               조국통일민주주의전선 중앙위원회 공동의장            2019\n",
       "4716  당 중앙검서위원회 위원(*당 제8기 제1차 전원회의에서 선거)            2021\n",
       "4717                              외무성 과장            1996\n",
       "\n",
       "[2425 rows x 2 columns]"
      ]
     },
     "execution_count": 104,
     "metadata": {},
     "output_type": "execute_result"
    }
   ],
   "source": [
    "jol[~jol.CareerStartYear.isna() & \n",
    "   jol.apply(lambda x: \n",
    "            (str(x.CareerStartYear) not in str(x.CareerString)),\n",
    "            # & (str(x.CareerStartYear) not in str(x.CareerDateString_2022)),\n",
    "            # axis=1)][[\"CareerString\", \"CareerDateString_2022\",\"CareerStartYear\"]]\n",
    "            axis=1)][[\"CareerString\",\"CareerStartYear\"]]"
   ]
  },
  {
   "cell_type": "code",
   "execution_count": 105,
   "id": "9cfb55bd",
   "metadata": {},
   "outputs": [],
   "source": [
    "# add CareerDateString_2022 to jol"
   ]
  },
  {
   "cell_type": "code",
   "execution_count": null,
   "id": "3fb0bfdd",
   "metadata": {},
   "outputs": [],
   "source": []
  },
  {
   "cell_type": "markdown",
   "id": "7f7ff9b1",
   "metadata": {},
   "source": [
    "# 3. from jol, edits to PrimaryInstitution,OrgName "
   ]
  },
  {
   "cell_type": "code",
   "execution_count": 106,
   "id": "32d23baf",
   "metadata": {},
   "outputs": [
    {
     "data": {
      "text/html": [
       "<div>\n",
       "<style scoped>\n",
       "    .dataframe tbody tr th:only-of-type {\n",
       "        vertical-align: middle;\n",
       "    }\n",
       "\n",
       "    .dataframe tbody tr th {\n",
       "        vertical-align: top;\n",
       "    }\n",
       "\n",
       "    .dataframe thead th {\n",
       "        text-align: right;\n",
       "    }\n",
       "</style>\n",
       "<table border=\"1\" class=\"dataframe\">\n",
       "  <thead>\n",
       "    <tr style=\"text-align: right;\">\n",
       "      <th></th>\n",
       "      <th>CareerStringID</th>\n",
       "      <th>CareerString</th>\n",
       "      <th>CareerSubstring</th>\n",
       "      <th>CareerStartYear</th>\n",
       "      <th>CareerStartMonth</th>\n",
       "      <th>OrgString</th>\n",
       "      <th>PrimaryInstitution</th>\n",
       "      <th>OrgName</th>\n",
       "      <th>Edit_PI</th>\n",
       "      <th>Edit_OrgName</th>\n",
       "      <th>InOrgTree</th>\n",
       "      <th>Position</th>\n",
       "      <th>Edit_Position</th>\n",
       "      <th>NotJob</th>\n",
       "      <th>Notes</th>\n",
       "      <th>Unnamed: 15</th>\n",
       "    </tr>\n",
       "  </thead>\n",
       "  <tbody>\n",
       "    <tr>\n",
       "      <th>0</th>\n",
       "      <td>828.1</td>\n",
       "      <td>1983. 3 당 정치국 위원 해임, 당 중앙위 부장</td>\n",
       "      <td>당 정치국 위원 해임</td>\n",
       "      <td>1983</td>\n",
       "      <td>3</td>\n",
       "      <td>당 정치국</td>\n",
       "      <td>노동당</td>\n",
       "      <td>당중앙위원회_정치국</td>\n",
       "      <td>NaN</td>\n",
       "      <td>NaN</td>\n",
       "      <td>NaN</td>\n",
       "      <td>위원</td>\n",
       "      <td>NaN</td>\n",
       "      <td>True</td>\n",
       "      <td>해임</td>\n",
       "      <td>x</td>\n",
       "    </tr>\n",
       "    <tr>\n",
       "      <th>1</th>\n",
       "      <td>3867</td>\n",
       "      <td>국방위원회 위원장직 김정일에게 이양</td>\n",
       "      <td>NaN</td>\n",
       "      <td>1993</td>\n",
       "      <td>4</td>\n",
       "      <td>국방위원회</td>\n",
       "      <td>국방위원회</td>\n",
       "      <td>NaN</td>\n",
       "      <td>NaN</td>\n",
       "      <td>NaN</td>\n",
       "      <td>NaN</td>\n",
       "      <td>위원장</td>\n",
       "      <td>NaN</td>\n",
       "      <td>True</td>\n",
       "      <td>NaN</td>\n",
       "      <td>x</td>\n",
       "    </tr>\n",
       "  </tbody>\n",
       "</table>\n",
       "</div>"
      ],
      "text/plain": [
       "  CareerStringID                   CareerString CareerSubstring  \\\n",
       "0          828.1  1983. 3 당 정치국 위원 해임, 당 중앙위 부장     당 정치국 위원 해임   \n",
       "1           3867            국방위원회 위원장직 김정일에게 이양             NaN   \n",
       "\n",
       "  CareerStartYear CareerStartMonth OrgString PrimaryInstitution     OrgName  \\\n",
       "0            1983                3     당 정치국                노동당  당중앙위원회_정치국   \n",
       "1            1993                4     국방위원회              국방위원회         NaN   \n",
       "\n",
       "  Edit_PI Edit_OrgName InOrgTree Position Edit_Position NotJob Notes  \\\n",
       "0     NaN          NaN       NaN       위원           NaN   True    해임   \n",
       "1     NaN          NaN       NaN      위원장           NaN   True   NaN   \n",
       "\n",
       "  Unnamed: 15  \n",
       "0           x  \n",
       "1           x  "
      ]
     },
     "execution_count": 106,
     "metadata": {},
     "output_type": "execute_result"
    }
   ],
   "source": [
    "jol.head(2)"
   ]
  },
  {
   "cell_type": "code",
   "execution_count": 107,
   "id": "da5eb20c",
   "metadata": {},
   "outputs": [
    {
     "data": {
      "text/plain": [
       "(5010, 9)"
      ]
     },
     "execution_count": 107,
     "metadata": {},
     "output_type": "execute_result"
    }
   ],
   "source": [
    "select_columns = [\"CareerString\",\"CareerSubstring\",\"CareerStartYear\",\"CareerStartMonth\",\"OrgString\",\"PrimaryInstitution\",\"OrgName\",\"Edit_PI\",\"Edit_OrgName\"]\n",
    "jolpi = jol[select_columns]\n",
    "jolpi.shape"
   ]
  },
  {
   "cell_type": "code",
   "execution_count": 108,
   "id": "9355e7d6",
   "metadata": {},
   "outputs": [
    {
     "data": {
      "text/plain": [
       "(665, 9)"
      ]
     },
     "execution_count": 108,
     "metadata": {},
     "output_type": "execute_result"
    }
   ],
   "source": [
    "jolpi = jolpi[~(jolpi[\"PrimaryInstitution\"].isna() & jolpi[\"OrgName\"].isna()) & ~(jolpi[\"Edit_PI\"].isna() & jolpi[\"Edit_OrgName\"].isna())]\n",
    "jolpi.shape"
   ]
  },
  {
   "cell_type": "code",
   "execution_count": 109,
   "id": "85f97f4b",
   "metadata": {},
   "outputs": [
    {
     "data": {
      "text/html": [
       "<div>\n",
       "<style scoped>\n",
       "    .dataframe tbody tr th:only-of-type {\n",
       "        vertical-align: middle;\n",
       "    }\n",
       "\n",
       "    .dataframe tbody tr th {\n",
       "        vertical-align: top;\n",
       "    }\n",
       "\n",
       "    .dataframe thead th {\n",
       "        text-align: right;\n",
       "    }\n",
       "</style>\n",
       "<table border=\"1\" class=\"dataframe\">\n",
       "  <thead>\n",
       "    <tr style=\"text-align: right;\">\n",
       "      <th></th>\n",
       "      <th>CareerString</th>\n",
       "      <th>CareerSubstring</th>\n",
       "      <th>CareerStartYear</th>\n",
       "      <th>CareerStartMonth</th>\n",
       "      <th>OrgString</th>\n",
       "      <th>PrimaryInstitution</th>\n",
       "      <th>OrgName</th>\n",
       "      <th>Edit_PI</th>\n",
       "      <th>Edit_OrgName</th>\n",
       "    </tr>\n",
       "  </thead>\n",
       "  <tbody>\n",
       "  </tbody>\n",
       "</table>\n",
       "</div>"
      ],
      "text/plain": [
       "Empty DataFrame\n",
       "Columns: [CareerString, CareerSubstring, CareerStartYear, CareerStartMonth, OrgString, PrimaryInstitution, OrgName, Edit_PI, Edit_OrgName]\n",
       "Index: []"
      ]
     },
     "execution_count": 109,
     "metadata": {},
     "output_type": "execute_result"
    }
   ],
   "source": [
    "jolpi[jolpi[\"PrimaryInstitution\"].isna() & jolpi[\"OrgName\"].isna()]"
   ]
  },
  {
   "cell_type": "code",
   "execution_count": 110,
   "id": "52727bc6",
   "metadata": {},
   "outputs": [
    {
     "data": {
      "text/html": [
       "<div>\n",
       "<style scoped>\n",
       "    .dataframe tbody tr th:only-of-type {\n",
       "        vertical-align: middle;\n",
       "    }\n",
       "\n",
       "    .dataframe tbody tr th {\n",
       "        vertical-align: top;\n",
       "    }\n",
       "\n",
       "    .dataframe thead th {\n",
       "        text-align: right;\n",
       "    }\n",
       "</style>\n",
       "<table border=\"1\" class=\"dataframe\">\n",
       "  <thead>\n",
       "    <tr style=\"text-align: right;\">\n",
       "      <th></th>\n",
       "      <th>CareerString</th>\n",
       "      <th>CareerSubstring</th>\n",
       "      <th>CareerStartYear</th>\n",
       "      <th>CareerStartMonth</th>\n",
       "      <th>OrgString</th>\n",
       "      <th>PrimaryInstitution</th>\n",
       "      <th>OrgName</th>\n",
       "      <th>Edit_PI</th>\n",
       "      <th>Edit_OrgName</th>\n",
       "    </tr>\n",
       "  </thead>\n",
       "  <tbody>\n",
       "  </tbody>\n",
       "</table>\n",
       "</div>"
      ],
      "text/plain": [
       "Empty DataFrame\n",
       "Columns: [CareerString, CareerSubstring, CareerStartYear, CareerStartMonth, OrgString, PrimaryInstitution, OrgName, Edit_PI, Edit_OrgName]\n",
       "Index: []"
      ]
     },
     "execution_count": 110,
     "metadata": {},
     "output_type": "execute_result"
    }
   ],
   "source": [
    "jolpi[jolpi[\"Edit_PI\"].isna() & jolpi[\"Edit_OrgName\"].isna()]"
   ]
  },
  {
   "cell_type": "code",
   "execution_count": 111,
   "id": "f0594f61",
   "metadata": {},
   "outputs": [],
   "source": [
    "# jolpi[jolpi[\"OrgName\"].isna()]"
   ]
  },
  {
   "cell_type": "code",
   "execution_count": 112,
   "id": "43373aac",
   "metadata": {},
   "outputs": [
    {
     "data": {
      "text/html": [
       "<div>\n",
       "<style scoped>\n",
       "    .dataframe tbody tr th:only-of-type {\n",
       "        vertical-align: middle;\n",
       "    }\n",
       "\n",
       "    .dataframe tbody tr th {\n",
       "        vertical-align: top;\n",
       "    }\n",
       "\n",
       "    .dataframe thead th {\n",
       "        text-align: right;\n",
       "    }\n",
       "</style>\n",
       "<table border=\"1\" class=\"dataframe\">\n",
       "  <thead>\n",
       "    <tr style=\"text-align: right;\">\n",
       "      <th></th>\n",
       "      <th>CareerString</th>\n",
       "      <th>CareerSubstring</th>\n",
       "      <th>CareerStartYear</th>\n",
       "      <th>CareerStartMonth</th>\n",
       "      <th>OrgString</th>\n",
       "      <th>PrimaryInstitution</th>\n",
       "      <th>OrgName</th>\n",
       "      <th>Edit_PI</th>\n",
       "      <th>Edit_OrgName</th>\n",
       "    </tr>\n",
       "  </thead>\n",
       "  <tbody>\n",
       "  </tbody>\n",
       "</table>\n",
       "</div>"
      ],
      "text/plain": [
       "Empty DataFrame\n",
       "Columns: [CareerString, CareerSubstring, CareerStartYear, CareerStartMonth, OrgString, PrimaryInstitution, OrgName, Edit_PI, Edit_OrgName]\n",
       "Index: []"
      ]
     },
     "execution_count": 112,
     "metadata": {},
     "output_type": "execute_result"
    }
   ],
   "source": [
    "# drop duplicates\n",
    "jolpi.drop_duplicates(keep=\"first\",inplace=True)\n",
    "jolpi[jolpi.duplicated(keep=False)]"
   ]
  },
  {
   "cell_type": "code",
   "execution_count": 113,
   "id": "0fe88c28",
   "metadata": {},
   "outputs": [
    {
     "data": {
      "text/html": [
       "<div>\n",
       "<style scoped>\n",
       "    .dataframe tbody tr th:only-of-type {\n",
       "        vertical-align: middle;\n",
       "    }\n",
       "\n",
       "    .dataframe tbody tr th {\n",
       "        vertical-align: top;\n",
       "    }\n",
       "\n",
       "    .dataframe thead th {\n",
       "        text-align: right;\n",
       "    }\n",
       "</style>\n",
       "<table border=\"1\" class=\"dataframe\">\n",
       "  <thead>\n",
       "    <tr style=\"text-align: right;\">\n",
       "      <th></th>\n",
       "      <th>CareerString</th>\n",
       "      <th>CareerDateString_2022</th>\n",
       "      <th>IsJob</th>\n",
       "      <th>MultipleSubstrings</th>\n",
       "      <th>CareerStartYear</th>\n",
       "      <th>CareerStartMonth</th>\n",
       "      <th>CareerSubstring</th>\n",
       "      <th>OrgString</th>\n",
       "      <th>Position</th>\n",
       "      <th>PrimaryInstitution</th>\n",
       "      <th>OrgName</th>\n",
       "      <th>Notes</th>\n",
       "      <th>_merge_orgstring</th>\n",
       "    </tr>\n",
       "  </thead>\n",
       "  <tbody>\n",
       "  </tbody>\n",
       "</table>\n",
       "</div>"
      ],
      "text/plain": [
       "Empty DataFrame\n",
       "Columns: [CareerString, CareerDateString_2022, IsJob, MultipleSubstrings, CareerStartYear, CareerStartMonth, CareerSubstring, OrgString, Position, PrimaryInstitution, OrgName, Notes, _merge_orgstring]\n",
       "Index: []"
      ]
     },
     "execution_count": 113,
     "metadata": {},
     "output_type": "execute_result"
    }
   ],
   "source": [
    "c2[c2.duplicated()]"
   ]
  },
  {
   "cell_type": "code",
   "execution_count": 115,
   "id": "e22bd94d",
   "metadata": {},
   "outputs": [
    {
     "data": {
      "text/plain": [
       "(0, 13)"
      ]
     },
     "execution_count": 115,
     "metadata": {},
     "output_type": "execute_result"
    }
   ],
   "source": [
    "select_columns = [\"CareerString\",\"CareerDateString_2022\",\"CareerStartYear\",\"CareerStartMonth\",\"CareerSubstring\",\"OrgString\",\"Position\",\"PrimaryInstitution\",\"OrgName\"]\n",
    "c2[c2.duplicated(select_columns,keep=False)].shape"
   ]
  },
  {
   "cell_type": "code",
   "execution_count": 116,
   "id": "e1adc32b",
   "metadata": {},
   "outputs": [
    {
     "data": {
      "text/plain": [
       "(138, 13)"
      ]
     },
     "execution_count": 116,
     "metadata": {},
     "output_type": "execute_result"
    }
   ],
   "source": [
    "# duplicates are the result of different CareerDateString_2022\n",
    "select_columns = [\"CareerString\",\"CareerStartYear\",\"CareerStartMonth\",\"CareerSubstring\",\"OrgString\",\"Position\",\"PrimaryInstitution\",\"OrgName\"]\n",
    "c2[c2.duplicated(select_columns,keep=False)].shape"
   ]
  },
  {
   "cell_type": "code",
   "execution_count": 117,
   "id": "9f1c9b64",
   "metadata": {},
   "outputs": [
    {
     "data": {
      "text/plain": [
       "(8992, 13)"
      ]
     },
     "execution_count": 117,
     "metadata": {},
     "output_type": "execute_result"
    }
   ],
   "source": [
    "c2.shape"
   ]
  },
  {
   "cell_type": "code",
   "execution_count": 118,
   "id": "116aa706",
   "metadata": {},
   "outputs": [
    {
     "data": {
      "text/plain": [
       "(8992, 18)"
      ]
     },
     "execution_count": 118,
     "metadata": {},
     "output_type": "execute_result"
    }
   ],
   "source": [
    "select_columns = [\"CareerString\",\"CareerStartYear\",\"CareerStartMonth\",\"CareerSubstring\",\"OrgString\"]\n",
    "c3 = c2.merge(jolpi,on=select_columns,how=\"left\",indicator=True,suffixes=(\"\",\"_y\"))\n",
    "c3.shape"
   ]
  },
  {
   "cell_type": "code",
   "execution_count": 119,
   "id": "80826630",
   "metadata": {},
   "outputs": [
    {
     "data": {
      "text/html": [
       "<div>\n",
       "<style scoped>\n",
       "    .dataframe tbody tr th:only-of-type {\n",
       "        vertical-align: middle;\n",
       "    }\n",
       "\n",
       "    .dataframe tbody tr th {\n",
       "        vertical-align: top;\n",
       "    }\n",
       "\n",
       "    .dataframe thead th {\n",
       "        text-align: right;\n",
       "    }\n",
       "</style>\n",
       "<table border=\"1\" class=\"dataframe\">\n",
       "  <thead>\n",
       "    <tr style=\"text-align: right;\">\n",
       "      <th></th>\n",
       "      <th>CareerString</th>\n",
       "      <th>CareerDateString_2022</th>\n",
       "      <th>IsJob</th>\n",
       "      <th>MultipleSubstrings</th>\n",
       "      <th>CareerStartYear</th>\n",
       "      <th>CareerStartMonth</th>\n",
       "      <th>CareerSubstring</th>\n",
       "      <th>OrgString</th>\n",
       "      <th>Position</th>\n",
       "      <th>PrimaryInstitution</th>\n",
       "      <th>OrgName</th>\n",
       "      <th>Notes</th>\n",
       "      <th>_merge_orgstring</th>\n",
       "      <th>PrimaryInstitution_y</th>\n",
       "      <th>OrgName_y</th>\n",
       "      <th>Edit_PI</th>\n",
       "      <th>Edit_OrgName</th>\n",
       "    </tr>\n",
       "    <tr>\n",
       "      <th>_merge</th>\n",
       "      <th></th>\n",
       "      <th></th>\n",
       "      <th></th>\n",
       "      <th></th>\n",
       "      <th></th>\n",
       "      <th></th>\n",
       "      <th></th>\n",
       "      <th></th>\n",
       "      <th></th>\n",
       "      <th></th>\n",
       "      <th></th>\n",
       "      <th></th>\n",
       "      <th></th>\n",
       "      <th></th>\n",
       "      <th></th>\n",
       "      <th></th>\n",
       "      <th></th>\n",
       "    </tr>\n",
       "  </thead>\n",
       "  <tbody>\n",
       "    <tr>\n",
       "      <th>left_only</th>\n",
       "      <td>8354</td>\n",
       "      <td>4556</td>\n",
       "      <td>8354</td>\n",
       "      <td>1539</td>\n",
       "      <td>6758</td>\n",
       "      <td>6135</td>\n",
       "      <td>1677</td>\n",
       "      <td>5845</td>\n",
       "      <td>5846</td>\n",
       "      <td>4356</td>\n",
       "      <td>3117</td>\n",
       "      <td>101</td>\n",
       "      <td>8354</td>\n",
       "      <td>0</td>\n",
       "      <td>0</td>\n",
       "      <td>0</td>\n",
       "      <td>0</td>\n",
       "    </tr>\n",
       "    <tr>\n",
       "      <th>right_only</th>\n",
       "      <td>0</td>\n",
       "      <td>0</td>\n",
       "      <td>0</td>\n",
       "      <td>0</td>\n",
       "      <td>0</td>\n",
       "      <td>0</td>\n",
       "      <td>0</td>\n",
       "      <td>0</td>\n",
       "      <td>0</td>\n",
       "      <td>0</td>\n",
       "      <td>0</td>\n",
       "      <td>0</td>\n",
       "      <td>0</td>\n",
       "      <td>0</td>\n",
       "      <td>0</td>\n",
       "      <td>0</td>\n",
       "      <td>0</td>\n",
       "    </tr>\n",
       "    <tr>\n",
       "      <th>both</th>\n",
       "      <td>638</td>\n",
       "      <td>339</td>\n",
       "      <td>638</td>\n",
       "      <td>34</td>\n",
       "      <td>614</td>\n",
       "      <td>533</td>\n",
       "      <td>42</td>\n",
       "      <td>638</td>\n",
       "      <td>634</td>\n",
       "      <td>638</td>\n",
       "      <td>500</td>\n",
       "      <td>14</td>\n",
       "      <td>638</td>\n",
       "      <td>638</td>\n",
       "      <td>500</td>\n",
       "      <td>638</td>\n",
       "      <td>634</td>\n",
       "    </tr>\n",
       "  </tbody>\n",
       "</table>\n",
       "</div>"
      ],
      "text/plain": [
       "            CareerString  CareerDateString_2022  IsJob  MultipleSubstrings  \\\n",
       "_merge                                                                       \n",
       "left_only           8354                   4556   8354                1539   \n",
       "right_only             0                      0      0                   0   \n",
       "both                 638                    339    638                  34   \n",
       "\n",
       "            CareerStartYear  CareerStartMonth  CareerSubstring  OrgString  \\\n",
       "_merge                                                                      \n",
       "left_only              6758              6135             1677       5845   \n",
       "right_only                0                 0                0          0   \n",
       "both                    614               533               42        638   \n",
       "\n",
       "            Position  PrimaryInstitution  OrgName  Notes  _merge_orgstring  \\\n",
       "_merge                                                                       \n",
       "left_only       5846                4356     3117    101              8354   \n",
       "right_only         0                   0        0      0                 0   \n",
       "both             634                 638      500     14               638   \n",
       "\n",
       "            PrimaryInstitution_y  OrgName_y  Edit_PI  Edit_OrgName  \n",
       "_merge                                                              \n",
       "left_only                      0          0        0             0  \n",
       "right_only                     0          0        0             0  \n",
       "both                         638        500      638           634  "
      ]
     },
     "execution_count": 119,
     "metadata": {},
     "output_type": "execute_result"
    }
   ],
   "source": [
    "c3.groupby(\"_merge\").count()"
   ]
  },
  {
   "cell_type": "code",
   "execution_count": 120,
   "id": "0cac724e",
   "metadata": {},
   "outputs": [
    {
     "data": {
      "text/plain": [
       "(0, 18)"
      ]
     },
     "execution_count": 120,
     "metadata": {},
     "output_type": "execute_result"
    }
   ],
   "source": [
    "select_columns = [\"CareerString\",\"CareerDateString_2022\",\"CareerStartYear\",\"CareerStartMonth\",\"CareerSubstring\",\"OrgString\"]\n",
    "c3[c3[\"IsJob\"].isin([\"True\"]) & c3.duplicated(select_columns,keep=False)].shape"
   ]
  },
  {
   "cell_type": "code",
   "execution_count": 121,
   "id": "8246ebe5",
   "metadata": {},
   "outputs": [
    {
     "data": {
      "text/plain": [
       "(14, 18)"
      ]
     },
     "execution_count": 121,
     "metadata": {},
     "output_type": "execute_result"
    }
   ],
   "source": [
    "# duplicates are due to CareerDateString_2022\n",
    "select_columns = [\"CareerString\",\"CareerStartYear\",\"CareerStartMonth\",\"CareerSubstring\",\"OrgString\"]\n",
    "c3[c3[\"IsJob\"].isin([\"True\"]) & c3.duplicated(select_columns,keep=False)].shape"
   ]
  },
  {
   "cell_type": "code",
   "execution_count": 122,
   "id": "688ec8f7",
   "metadata": {},
   "outputs": [
    {
     "data": {
      "text/html": [
       "<div>\n",
       "<style scoped>\n",
       "    .dataframe tbody tr th:only-of-type {\n",
       "        vertical-align: middle;\n",
       "    }\n",
       "\n",
       "    .dataframe tbody tr th {\n",
       "        vertical-align: top;\n",
       "    }\n",
       "\n",
       "    .dataframe thead th {\n",
       "        text-align: right;\n",
       "    }\n",
       "</style>\n",
       "<table border=\"1\" class=\"dataframe\">\n",
       "  <thead>\n",
       "    <tr style=\"text-align: right;\">\n",
       "      <th></th>\n",
       "      <th>CareerString</th>\n",
       "      <th>CareerDateString_2022</th>\n",
       "      <th>IsJob</th>\n",
       "      <th>MultipleSubstrings</th>\n",
       "      <th>CareerStartYear</th>\n",
       "      <th>CareerStartMonth</th>\n",
       "      <th>CareerSubstring</th>\n",
       "      <th>OrgString</th>\n",
       "      <th>Position</th>\n",
       "      <th>PrimaryInstitution</th>\n",
       "      <th>OrgName</th>\n",
       "      <th>Notes</th>\n",
       "      <th>_merge_orgstring</th>\n",
       "      <th>PrimaryInstitution_y</th>\n",
       "      <th>OrgName_y</th>\n",
       "      <th>Edit_PI</th>\n",
       "      <th>Edit_OrgName</th>\n",
       "      <th>_merge</th>\n",
       "    </tr>\n",
       "  </thead>\n",
       "  <tbody>\n",
       "    <tr>\n",
       "      <th>22</th>\n",
       "      <td>내각 사무국 부국장</td>\n",
       "      <td>1969.01</td>\n",
       "      <td>True</td>\n",
       "      <td>NaN</td>\n",
       "      <td>1969</td>\n",
       "      <td>1</td>\n",
       "      <td>NaN</td>\n",
       "      <td>내각 사무국</td>\n",
       "      <td>부국장</td>\n",
       "      <td>내각</td>\n",
       "      <td>내각사무국</td>\n",
       "      <td>NaN</td>\n",
       "      <td>both</td>\n",
       "      <td>내각</td>\n",
       "      <td>사무국</td>\n",
       "      <td>내각</td>\n",
       "      <td>내각사무국</td>\n",
       "      <td>both</td>\n",
       "    </tr>\n",
       "    <tr>\n",
       "      <th>23</th>\n",
       "      <td>1969. 1 내각 사무국 부국장</td>\n",
       "      <td>NaN</td>\n",
       "      <td>True</td>\n",
       "      <td>NaN</td>\n",
       "      <td>1969</td>\n",
       "      <td>1</td>\n",
       "      <td>NaN</td>\n",
       "      <td>내각 사무국</td>\n",
       "      <td>부국장</td>\n",
       "      <td>내각</td>\n",
       "      <td>내각사무국</td>\n",
       "      <td>NaN</td>\n",
       "      <td>both</td>\n",
       "      <td>내각</td>\n",
       "      <td>사무국</td>\n",
       "      <td>내각</td>\n",
       "      <td>내각사무국</td>\n",
       "      <td>both</td>\n",
       "    </tr>\n",
       "  </tbody>\n",
       "</table>\n",
       "</div>"
      ],
      "text/plain": [
       "          CareerString CareerDateString_2022 IsJob MultipleSubstrings  \\\n",
       "22          내각 사무국 부국장               1969.01  True                NaN   \n",
       "23  1969. 1 내각 사무국 부국장                   NaN  True                NaN   \n",
       "\n",
       "   CareerStartYear CareerStartMonth CareerSubstring OrgString Position  \\\n",
       "22            1969                1             NaN    내각 사무국      부국장   \n",
       "23            1969                1             NaN    내각 사무국      부국장   \n",
       "\n",
       "   PrimaryInstitution OrgName Notes _merge_orgstring PrimaryInstitution_y  \\\n",
       "22                 내각   내각사무국   NaN             both                   내각   \n",
       "23                 내각   내각사무국   NaN             both                   내각   \n",
       "\n",
       "   OrgName_y Edit_PI Edit_OrgName _merge  \n",
       "22       사무국      내각        내각사무국   both  \n",
       "23       사무국      내각        내각사무국   both  "
      ]
     },
     "execution_count": 122,
     "metadata": {},
     "output_type": "execute_result"
    }
   ],
   "source": [
    "c3[c3[\"_merge\"]==\"both\"].head(2)"
   ]
  },
  {
   "cell_type": "code",
   "execution_count": 123,
   "id": "0c839a7c",
   "metadata": {},
   "outputs": [],
   "source": [
    "c3.loc[c3[\"_merge\"]==\"both\",\"PrimaryInstitution\"] = c3.loc[c3[\"_merge\"]==\"both\",\"Edit_PI\"]\n",
    "c3.loc[c3[\"_merge\"]==\"both\",\"OrgName\"] = c3.loc[c3[\"_merge\"]==\"both\",\"Edit_OrgName\"]"
   ]
  },
  {
   "cell_type": "code",
   "execution_count": 124,
   "id": "4ba89771",
   "metadata": {},
   "outputs": [
    {
     "data": {
      "text/html": [
       "<div>\n",
       "<style scoped>\n",
       "    .dataframe tbody tr th:only-of-type {\n",
       "        vertical-align: middle;\n",
       "    }\n",
       "\n",
       "    .dataframe tbody tr th {\n",
       "        vertical-align: top;\n",
       "    }\n",
       "\n",
       "    .dataframe thead th {\n",
       "        text-align: right;\n",
       "    }\n",
       "</style>\n",
       "<table border=\"1\" class=\"dataframe\">\n",
       "  <thead>\n",
       "    <tr style=\"text-align: right;\">\n",
       "      <th></th>\n",
       "      <th>CareerString</th>\n",
       "      <th>CareerDateString_2022</th>\n",
       "      <th>IsJob</th>\n",
       "      <th>MultipleSubstrings</th>\n",
       "      <th>CareerStartYear</th>\n",
       "      <th>CareerStartMonth</th>\n",
       "      <th>CareerSubstring</th>\n",
       "      <th>OrgString</th>\n",
       "      <th>Position</th>\n",
       "      <th>PrimaryInstitution</th>\n",
       "      <th>OrgName</th>\n",
       "      <th>Notes</th>\n",
       "      <th>_merge_orgstring</th>\n",
       "      <th>PrimaryInstitution_y</th>\n",
       "      <th>OrgName_y</th>\n",
       "      <th>Edit_PI</th>\n",
       "      <th>Edit_OrgName</th>\n",
       "      <th>_merge</th>\n",
       "    </tr>\n",
       "  </thead>\n",
       "  <tbody>\n",
       "    <tr>\n",
       "      <th>22</th>\n",
       "      <td>내각 사무국 부국장</td>\n",
       "      <td>1969.01</td>\n",
       "      <td>True</td>\n",
       "      <td>NaN</td>\n",
       "      <td>1969</td>\n",
       "      <td>1</td>\n",
       "      <td>NaN</td>\n",
       "      <td>내각 사무국</td>\n",
       "      <td>부국장</td>\n",
       "      <td>내각</td>\n",
       "      <td>내각사무국</td>\n",
       "      <td>NaN</td>\n",
       "      <td>both</td>\n",
       "      <td>내각</td>\n",
       "      <td>사무국</td>\n",
       "      <td>내각</td>\n",
       "      <td>내각사무국</td>\n",
       "      <td>both</td>\n",
       "    </tr>\n",
       "    <tr>\n",
       "      <th>23</th>\n",
       "      <td>1969. 1 내각 사무국 부국장</td>\n",
       "      <td>NaN</td>\n",
       "      <td>True</td>\n",
       "      <td>NaN</td>\n",
       "      <td>1969</td>\n",
       "      <td>1</td>\n",
       "      <td>NaN</td>\n",
       "      <td>내각 사무국</td>\n",
       "      <td>부국장</td>\n",
       "      <td>내각</td>\n",
       "      <td>내각사무국</td>\n",
       "      <td>NaN</td>\n",
       "      <td>both</td>\n",
       "      <td>내각</td>\n",
       "      <td>사무국</td>\n",
       "      <td>내각</td>\n",
       "      <td>내각사무국</td>\n",
       "      <td>both</td>\n",
       "    </tr>\n",
       "    <tr>\n",
       "      <th>31</th>\n",
       "      <td>인민무력부 대외사업국 지도원</td>\n",
       "      <td>1975.01</td>\n",
       "      <td>True</td>\n",
       "      <td>NaN</td>\n",
       "      <td>1975</td>\n",
       "      <td>1</td>\n",
       "      <td>NaN</td>\n",
       "      <td>인민무력부 대외사업국</td>\n",
       "      <td>지도원</td>\n",
       "      <td>정무원</td>\n",
       "      <td>인민무력부A_대외사업국</td>\n",
       "      <td>NaN</td>\n",
       "      <td>both</td>\n",
       "      <td>국방위원회</td>\n",
       "      <td>인민무력부_대외사업국</td>\n",
       "      <td>정무원</td>\n",
       "      <td>인민무력부A_대외사업국</td>\n",
       "      <td>both</td>\n",
       "    </tr>\n",
       "    <tr>\n",
       "      <th>33</th>\n",
       "      <td>1975. 1 인민무력부 대외사업국 지도원</td>\n",
       "      <td>NaN</td>\n",
       "      <td>True</td>\n",
       "      <td>NaN</td>\n",
       "      <td>1975</td>\n",
       "      <td>1</td>\n",
       "      <td>NaN</td>\n",
       "      <td>인민무력부 대외사업국</td>\n",
       "      <td>지도원</td>\n",
       "      <td>정무원</td>\n",
       "      <td>인민무력부A_대외사업국</td>\n",
       "      <td>NaN</td>\n",
       "      <td>both</td>\n",
       "      <td>국방위원회</td>\n",
       "      <td>인민무력부_대외사업국</td>\n",
       "      <td>정무원</td>\n",
       "      <td>인민무력부A_대외사업국</td>\n",
       "      <td>both</td>\n",
       "    </tr>\n",
       "  </tbody>\n",
       "</table>\n",
       "</div>"
      ],
      "text/plain": [
       "               CareerString CareerDateString_2022 IsJob MultipleSubstrings  \\\n",
       "22               내각 사무국 부국장               1969.01  True                NaN   \n",
       "23       1969. 1 내각 사무국 부국장                   NaN  True                NaN   \n",
       "31          인민무력부 대외사업국 지도원               1975.01  True                NaN   \n",
       "33  1975. 1 인민무력부 대외사업국 지도원                   NaN  True                NaN   \n",
       "\n",
       "   CareerStartYear CareerStartMonth CareerSubstring    OrgString Position  \\\n",
       "22            1969                1             NaN       내각 사무국      부국장   \n",
       "23            1969                1             NaN       내각 사무국      부국장   \n",
       "31            1975                1             NaN  인민무력부 대외사업국      지도원   \n",
       "33            1975                1             NaN  인민무력부 대외사업국      지도원   \n",
       "\n",
       "   PrimaryInstitution       OrgName Notes _merge_orgstring  \\\n",
       "22                 내각         내각사무국   NaN             both   \n",
       "23                 내각         내각사무국   NaN             both   \n",
       "31                정무원  인민무력부A_대외사업국   NaN             both   \n",
       "33                정무원  인민무력부A_대외사업국   NaN             both   \n",
       "\n",
       "   PrimaryInstitution_y    OrgName_y Edit_PI  Edit_OrgName _merge  \n",
       "22                   내각          사무국      내각         내각사무국   both  \n",
       "23                   내각          사무국      내각         내각사무국   both  \n",
       "31                국방위원회  인민무력부_대외사업국     정무원  인민무력부A_대외사업국   both  \n",
       "33                국방위원회  인민무력부_대외사업국     정무원  인민무력부A_대외사업국   both  "
      ]
     },
     "execution_count": 124,
     "metadata": {},
     "output_type": "execute_result"
    }
   ],
   "source": [
    "c3[c3[\"_merge\"]==\"both\"].head(4)"
   ]
  },
  {
   "cell_type": "code",
   "execution_count": 125,
   "id": "a179d400",
   "metadata": {},
   "outputs": [
    {
     "data": {
      "text/plain": [
       "Index(['CareerString', 'CareerDateString_2022', 'IsJob', 'MultipleSubstrings',\n",
       "       'CareerStartYear', 'CareerStartMonth', 'CareerSubstring', 'OrgString',\n",
       "       'Position', 'PrimaryInstitution', 'OrgName', 'Notes',\n",
       "       '_merge_orgstring'],\n",
       "      dtype='object')"
      ]
     },
     "execution_count": 125,
     "metadata": {},
     "output_type": "execute_result"
    }
   ],
   "source": [
    "c.columns"
   ]
  },
  {
   "cell_type": "code",
   "execution_count": 126,
   "id": "722faba4",
   "metadata": {},
   "outputs": [
    {
     "data": {
      "text/plain": [
       "(8992, 18)"
      ]
     },
     "execution_count": 126,
     "metadata": {},
     "output_type": "execute_result"
    }
   ],
   "source": [
    "c3.shape"
   ]
  },
  {
   "cell_type": "code",
   "execution_count": 127,
   "id": "20ad40bf",
   "metadata": {},
   "outputs": [],
   "source": [
    "c3 = c3[list(c.columns)]"
   ]
  },
  {
   "cell_type": "code",
   "execution_count": 128,
   "id": "97b91d2d",
   "metadata": {},
   "outputs": [
    {
     "data": {
      "text/plain": [
       "Index(['CareerString', 'CareerDateString_2022', 'IsJob', 'MultipleSubstrings',\n",
       "       'CareerStartYear', 'CareerStartMonth', 'CareerSubstring', 'OrgString',\n",
       "       'Position', 'PrimaryInstitution', 'OrgName', 'Notes',\n",
       "       '_merge_orgstring'],\n",
       "      dtype='object')"
      ]
     },
     "execution_count": 128,
     "metadata": {},
     "output_type": "execute_result"
    }
   ],
   "source": [
    "c3.columns"
   ]
  },
  {
   "cell_type": "markdown",
   "id": "36c398bf",
   "metadata": {},
   "source": [
    "# 4. from jol, edits to Position "
   ]
  },
  {
   "cell_type": "code",
   "execution_count": 129,
   "id": "829cdad1",
   "metadata": {},
   "outputs": [
    {
     "data": {
      "text/html": [
       "<div>\n",
       "<style scoped>\n",
       "    .dataframe tbody tr th:only-of-type {\n",
       "        vertical-align: middle;\n",
       "    }\n",
       "\n",
       "    .dataframe tbody tr th {\n",
       "        vertical-align: top;\n",
       "    }\n",
       "\n",
       "    .dataframe thead th {\n",
       "        text-align: right;\n",
       "    }\n",
       "</style>\n",
       "<table border=\"1\" class=\"dataframe\">\n",
       "  <thead>\n",
       "    <tr style=\"text-align: right;\">\n",
       "      <th></th>\n",
       "      <th>CareerStringID</th>\n",
       "      <th>CareerString</th>\n",
       "      <th>CareerSubstring</th>\n",
       "      <th>CareerStartYear</th>\n",
       "      <th>CareerStartMonth</th>\n",
       "      <th>OrgString</th>\n",
       "      <th>PrimaryInstitution</th>\n",
       "      <th>OrgName</th>\n",
       "      <th>Edit_PI</th>\n",
       "      <th>Edit_OrgName</th>\n",
       "      <th>InOrgTree</th>\n",
       "      <th>Position</th>\n",
       "      <th>Edit_Position</th>\n",
       "      <th>NotJob</th>\n",
       "      <th>Notes</th>\n",
       "      <th>Unnamed: 15</th>\n",
       "    </tr>\n",
       "  </thead>\n",
       "  <tbody>\n",
       "    <tr>\n",
       "      <th>0</th>\n",
       "      <td>828.1</td>\n",
       "      <td>1983. 3 당 정치국 위원 해임, 당 중앙위 부장</td>\n",
       "      <td>당 정치국 위원 해임</td>\n",
       "      <td>1983</td>\n",
       "      <td>3</td>\n",
       "      <td>당 정치국</td>\n",
       "      <td>노동당</td>\n",
       "      <td>당중앙위원회_정치국</td>\n",
       "      <td>NaN</td>\n",
       "      <td>NaN</td>\n",
       "      <td>NaN</td>\n",
       "      <td>위원</td>\n",
       "      <td>NaN</td>\n",
       "      <td>True</td>\n",
       "      <td>해임</td>\n",
       "      <td>x</td>\n",
       "    </tr>\n",
       "  </tbody>\n",
       "</table>\n",
       "</div>"
      ],
      "text/plain": [
       "  CareerStringID                   CareerString CareerSubstring  \\\n",
       "0          828.1  1983. 3 당 정치국 위원 해임, 당 중앙위 부장     당 정치국 위원 해임   \n",
       "\n",
       "  CareerStartYear CareerStartMonth OrgString PrimaryInstitution     OrgName  \\\n",
       "0            1983                3     당 정치국                노동당  당중앙위원회_정치국   \n",
       "\n",
       "  Edit_PI Edit_OrgName InOrgTree Position Edit_Position NotJob Notes  \\\n",
       "0     NaN          NaN       NaN       위원           NaN   True    해임   \n",
       "\n",
       "  Unnamed: 15  \n",
       "0           x  "
      ]
     },
     "execution_count": 129,
     "metadata": {},
     "output_type": "execute_result"
    }
   ],
   "source": [
    "jol.head(1)"
   ]
  },
  {
   "cell_type": "code",
   "execution_count": 130,
   "id": "cc5ceb76",
   "metadata": {},
   "outputs": [
    {
     "data": {
      "text/plain": [
       "Index(['CareerStringID', 'CareerString', 'CareerSubstring', 'CareerStartYear',\n",
       "       'CareerStartMonth', 'OrgString', 'PrimaryInstitution', 'OrgName',\n",
       "       'Edit_PI', 'Edit_OrgName', 'InOrgTree', 'Position', 'Edit_Position',\n",
       "       'NotJob', 'Notes', 'Unnamed: 15'],\n",
       "      dtype='object')"
      ]
     },
     "execution_count": 130,
     "metadata": {},
     "output_type": "execute_result"
    }
   ],
   "source": [
    "jol.columns"
   ]
  },
  {
   "cell_type": "code",
   "execution_count": 131,
   "id": "79e3596b",
   "metadata": {},
   "outputs": [
    {
     "data": {
      "text/plain": [
       "(68, 7)"
      ]
     },
     "execution_count": 131,
     "metadata": {},
     "output_type": "execute_result"
    }
   ],
   "source": [
    "select_columns = ['CareerString','CareerStartYear','CareerStartMonth',\n",
    "                  'CareerSubstring','OrgString','Position','Edit_Position']\n",
    "jolpos = jol.loc[~jol[\"Edit_Position\"].isna(),select_columns]\n",
    "jolpos.shape"
   ]
  },
  {
   "cell_type": "code",
   "execution_count": 132,
   "id": "f3949f88",
   "metadata": {},
   "outputs": [
    {
     "data": {
      "text/html": [
       "<div>\n",
       "<style scoped>\n",
       "    .dataframe tbody tr th:only-of-type {\n",
       "        vertical-align: middle;\n",
       "    }\n",
       "\n",
       "    .dataframe tbody tr th {\n",
       "        vertical-align: top;\n",
       "    }\n",
       "\n",
       "    .dataframe thead th {\n",
       "        text-align: right;\n",
       "    }\n",
       "</style>\n",
       "<table border=\"1\" class=\"dataframe\">\n",
       "  <thead>\n",
       "    <tr style=\"text-align: right;\">\n",
       "      <th></th>\n",
       "      <th>CareerString</th>\n",
       "      <th>CareerStartYear</th>\n",
       "      <th>CareerStartMonth</th>\n",
       "      <th>CareerSubstring</th>\n",
       "      <th>OrgString</th>\n",
       "      <th>Position</th>\n",
       "      <th>Edit_Position</th>\n",
       "    </tr>\n",
       "  </thead>\n",
       "  <tbody>\n",
       "  </tbody>\n",
       "</table>\n",
       "</div>"
      ],
      "text/plain": [
       "Empty DataFrame\n",
       "Columns: [CareerString, CareerStartYear, CareerStartMonth, CareerSubstring, OrgString, Position, Edit_Position]\n",
       "Index: []"
      ]
     },
     "execution_count": 132,
     "metadata": {},
     "output_type": "execute_result"
    }
   ],
   "source": [
    "jolpos[jolpos[\"Edit_Position\"].isna()]"
   ]
  },
  {
   "cell_type": "code",
   "execution_count": 133,
   "id": "ec58df76",
   "metadata": {
    "scrolled": true
   },
   "outputs": [
    {
     "data": {
      "text/plain": [
       "Index(['CareerString', 'CareerDateString_2022', 'IsJob', 'MultipleSubstrings',\n",
       "       'CareerStartYear', 'CareerStartMonth', 'CareerSubstring', 'OrgString',\n",
       "       'Position', 'PrimaryInstitution', 'OrgName', 'Notes',\n",
       "       '_merge_orgstring'],\n",
       "      dtype='object')"
      ]
     },
     "execution_count": 133,
     "metadata": {},
     "output_type": "execute_result"
    }
   ],
   "source": [
    "c3.columns"
   ]
  },
  {
   "cell_type": "code",
   "execution_count": 134,
   "id": "27f6534b",
   "metadata": {},
   "outputs": [
    {
     "data": {
      "text/plain": [
       "(8992, 15)"
      ]
     },
     "execution_count": 134,
     "metadata": {},
     "output_type": "execute_result"
    }
   ],
   "source": [
    "select_columns = [\"CareerString\",\"CareerStartYear\",\"CareerStartMonth\",\"CareerSubstring\",\"OrgString\",\"Position\"]\n",
    "c4 = c3.merge(jolpos,on=select_columns,how=\"left\",indicator=True,suffixes=(\"\",\"_y\"))\n",
    "c4.shape"
   ]
  },
  {
   "cell_type": "code",
   "execution_count": 135,
   "id": "7faf0732",
   "metadata": {},
   "outputs": [
    {
     "data": {
      "text/html": [
       "<div>\n",
       "<style scoped>\n",
       "    .dataframe tbody tr th:only-of-type {\n",
       "        vertical-align: middle;\n",
       "    }\n",
       "\n",
       "    .dataframe tbody tr th {\n",
       "        vertical-align: top;\n",
       "    }\n",
       "\n",
       "    .dataframe thead th {\n",
       "        text-align: right;\n",
       "    }\n",
       "</style>\n",
       "<table border=\"1\" class=\"dataframe\">\n",
       "  <thead>\n",
       "    <tr style=\"text-align: right;\">\n",
       "      <th></th>\n",
       "      <th>CareerString</th>\n",
       "      <th>CareerDateString_2022</th>\n",
       "      <th>IsJob</th>\n",
       "      <th>MultipleSubstrings</th>\n",
       "      <th>CareerStartYear</th>\n",
       "      <th>CareerStartMonth</th>\n",
       "      <th>CareerSubstring</th>\n",
       "      <th>OrgString</th>\n",
       "      <th>Position</th>\n",
       "      <th>PrimaryInstitution</th>\n",
       "      <th>OrgName</th>\n",
       "      <th>Notes</th>\n",
       "      <th>_merge_orgstring</th>\n",
       "      <th>Edit_Position</th>\n",
       "    </tr>\n",
       "    <tr>\n",
       "      <th>_merge</th>\n",
       "      <th></th>\n",
       "      <th></th>\n",
       "      <th></th>\n",
       "      <th></th>\n",
       "      <th></th>\n",
       "      <th></th>\n",
       "      <th></th>\n",
       "      <th></th>\n",
       "      <th></th>\n",
       "      <th></th>\n",
       "      <th></th>\n",
       "      <th></th>\n",
       "      <th></th>\n",
       "      <th></th>\n",
       "    </tr>\n",
       "  </thead>\n",
       "  <tbody>\n",
       "    <tr>\n",
       "      <th>left_only</th>\n",
       "      <td>8924</td>\n",
       "      <td>4860</td>\n",
       "      <td>8924</td>\n",
       "      <td>1560</td>\n",
       "      <td>7305</td>\n",
       "      <td>6620</td>\n",
       "      <td>1705</td>\n",
       "      <td>6415</td>\n",
       "      <td>6421</td>\n",
       "      <td>4926</td>\n",
       "      <td>3694</td>\n",
       "      <td>115</td>\n",
       "      <td>8924</td>\n",
       "      <td>0</td>\n",
       "    </tr>\n",
       "    <tr>\n",
       "      <th>right_only</th>\n",
       "      <td>0</td>\n",
       "      <td>0</td>\n",
       "      <td>0</td>\n",
       "      <td>0</td>\n",
       "      <td>0</td>\n",
       "      <td>0</td>\n",
       "      <td>0</td>\n",
       "      <td>0</td>\n",
       "      <td>0</td>\n",
       "      <td>0</td>\n",
       "      <td>0</td>\n",
       "      <td>0</td>\n",
       "      <td>0</td>\n",
       "      <td>0</td>\n",
       "    </tr>\n",
       "    <tr>\n",
       "      <th>both</th>\n",
       "      <td>68</td>\n",
       "      <td>35</td>\n",
       "      <td>68</td>\n",
       "      <td>13</td>\n",
       "      <td>67</td>\n",
       "      <td>48</td>\n",
       "      <td>14</td>\n",
       "      <td>68</td>\n",
       "      <td>59</td>\n",
       "      <td>68</td>\n",
       "      <td>57</td>\n",
       "      <td>0</td>\n",
       "      <td>68</td>\n",
       "      <td>68</td>\n",
       "    </tr>\n",
       "  </tbody>\n",
       "</table>\n",
       "</div>"
      ],
      "text/plain": [
       "            CareerString  CareerDateString_2022  IsJob  MultipleSubstrings  \\\n",
       "_merge                                                                       \n",
       "left_only           8924                   4860   8924                1560   \n",
       "right_only             0                      0      0                   0   \n",
       "both                  68                     35     68                  13   \n",
       "\n",
       "            CareerStartYear  CareerStartMonth  CareerSubstring  OrgString  \\\n",
       "_merge                                                                      \n",
       "left_only              7305              6620             1705       6415   \n",
       "right_only                0                 0                0          0   \n",
       "both                     67                48               14         68   \n",
       "\n",
       "            Position  PrimaryInstitution  OrgName  Notes  _merge_orgstring  \\\n",
       "_merge                                                                       \n",
       "left_only       6421                4926     3694    115              8924   \n",
       "right_only         0                   0        0      0                 0   \n",
       "both              59                  68       57      0                68   \n",
       "\n",
       "            Edit_Position  \n",
       "_merge                     \n",
       "left_only               0  \n",
       "right_only              0  \n",
       "both                   68  "
      ]
     },
     "execution_count": 135,
     "metadata": {},
     "output_type": "execute_result"
    }
   ],
   "source": [
    "c4.groupby(\"_merge\").count()"
   ]
  },
  {
   "cell_type": "code",
   "execution_count": 136,
   "id": "1d816281",
   "metadata": {},
   "outputs": [],
   "source": [
    "c4.loc[c4[\"_merge\"]==\"both\",\"Position\"] = c4.loc[c4[\"_merge\"]==\"both\",\"Edit_Position\"]"
   ]
  },
  {
   "cell_type": "code",
   "execution_count": 137,
   "id": "2c57a59a",
   "metadata": {},
   "outputs": [
    {
     "data": {
      "text/html": [
       "<div>\n",
       "<style scoped>\n",
       "    .dataframe tbody tr th:only-of-type {\n",
       "        vertical-align: middle;\n",
       "    }\n",
       "\n",
       "    .dataframe tbody tr th {\n",
       "        vertical-align: top;\n",
       "    }\n",
       "\n",
       "    .dataframe thead th {\n",
       "        text-align: right;\n",
       "    }\n",
       "</style>\n",
       "<table border=\"1\" class=\"dataframe\">\n",
       "  <thead>\n",
       "    <tr style=\"text-align: right;\">\n",
       "      <th></th>\n",
       "      <th>CareerString</th>\n",
       "      <th>CareerDateString_2022</th>\n",
       "      <th>IsJob</th>\n",
       "      <th>MultipleSubstrings</th>\n",
       "      <th>CareerStartYear</th>\n",
       "      <th>CareerStartMonth</th>\n",
       "      <th>CareerSubstring</th>\n",
       "      <th>OrgString</th>\n",
       "      <th>Position</th>\n",
       "      <th>PrimaryInstitution</th>\n",
       "      <th>OrgName</th>\n",
       "      <th>Notes</th>\n",
       "      <th>_merge_orgstring</th>\n",
       "      <th>Edit_Position</th>\n",
       "      <th>_merge</th>\n",
       "    </tr>\n",
       "  </thead>\n",
       "  <tbody>\n",
       "    <tr>\n",
       "      <th>125</th>\n",
       "      <td>당 중공업부장</td>\n",
       "      <td>1992.01</td>\n",
       "      <td>True</td>\n",
       "      <td>NaN</td>\n",
       "      <td>1992</td>\n",
       "      <td>1</td>\n",
       "      <td>NaN</td>\n",
       "      <td>당 중공업부</td>\n",
       "      <td>부장</td>\n",
       "      <td>Uncertain</td>\n",
       "      <td>Uncertain</td>\n",
       "      <td>NaN</td>\n",
       "      <td>both</td>\n",
       "      <td>부장</td>\n",
       "      <td>both</td>\n",
       "    </tr>\n",
       "    <tr>\n",
       "      <th>346</th>\n",
       "      <td>최고인민회의 제13기 대의원 선거 중앙선거위원회 서기장</td>\n",
       "      <td>2014.01</td>\n",
       "      <td>True</td>\n",
       "      <td>NaN</td>\n",
       "      <td>2014</td>\n",
       "      <td>1</td>\n",
       "      <td>NaN</td>\n",
       "      <td>최고인민회의</td>\n",
       "      <td>서기장</td>\n",
       "      <td>최고인민회의</td>\n",
       "      <td>중앙선거위원회</td>\n",
       "      <td>NaN</td>\n",
       "      <td>both</td>\n",
       "      <td>서기장</td>\n",
       "      <td>both</td>\n",
       "    </tr>\n",
       "    <tr>\n",
       "      <th>347</th>\n",
       "      <td>최고인민회의 제13기 대의원 선거를 위한 중앙선거위원회 부위원장</td>\n",
       "      <td>2014.01</td>\n",
       "      <td>True</td>\n",
       "      <td>NaN</td>\n",
       "      <td>2014</td>\n",
       "      <td>1</td>\n",
       "      <td>NaN</td>\n",
       "      <td>최고인민회의</td>\n",
       "      <td>부위원장</td>\n",
       "      <td>최고인민회의</td>\n",
       "      <td>중앙선거위원회</td>\n",
       "      <td>NaN</td>\n",
       "      <td>both</td>\n",
       "      <td>부위원장</td>\n",
       "      <td>both</td>\n",
       "    </tr>\n",
       "    <tr>\n",
       "      <th>376</th>\n",
       "      <td>당 정치국 후보위원</td>\n",
       "      <td>2020.01</td>\n",
       "      <td>True</td>\n",
       "      <td>NaN</td>\n",
       "      <td>2020</td>\n",
       "      <td>1</td>\n",
       "      <td>NaN</td>\n",
       "      <td>당 정치룩</td>\n",
       "      <td>후보위원</td>\n",
       "      <td>노동당</td>\n",
       "      <td>당중앙위원회_정치국</td>\n",
       "      <td>NaN</td>\n",
       "      <td>both</td>\n",
       "      <td>후보위원</td>\n",
       "      <td>both</td>\n",
       "    </tr>\n",
       "  </tbody>\n",
       "</table>\n",
       "</div>"
      ],
      "text/plain": [
       "                            CareerString CareerDateString_2022 IsJob  \\\n",
       "125                              당 중공업부장               1992.01  True   \n",
       "346       최고인민회의 제13기 대의원 선거 중앙선거위원회 서기장               2014.01  True   \n",
       "347  최고인민회의 제13기 대의원 선거를 위한 중앙선거위원회 부위원장               2014.01  True   \n",
       "376                           당 정치국 후보위원               2020.01  True   \n",
       "\n",
       "    MultipleSubstrings CareerStartYear CareerStartMonth CareerSubstring  \\\n",
       "125                NaN            1992                1             NaN   \n",
       "346                NaN            2014                1             NaN   \n",
       "347                NaN            2014                1             NaN   \n",
       "376                NaN            2020                1             NaN   \n",
       "\n",
       "    OrgString Position PrimaryInstitution     OrgName Notes _merge_orgstring  \\\n",
       "125    당 중공업부       부장          Uncertain   Uncertain   NaN             both   \n",
       "346    최고인민회의      서기장             최고인민회의     중앙선거위원회   NaN             both   \n",
       "347    최고인민회의     부위원장             최고인민회의     중앙선거위원회   NaN             both   \n",
       "376     당 정치룩     후보위원                노동당  당중앙위원회_정치국   NaN             both   \n",
       "\n",
       "    Edit_Position _merge  \n",
       "125            부장   both  \n",
       "346           서기장   both  \n",
       "347          부위원장   both  \n",
       "376          후보위원   both  "
      ]
     },
     "execution_count": 137,
     "metadata": {},
     "output_type": "execute_result"
    }
   ],
   "source": [
    "c4[c4[\"_merge\"]==\"both\"].head(4)"
   ]
  },
  {
   "cell_type": "code",
   "execution_count": 138,
   "id": "0e1b3b48",
   "metadata": {},
   "outputs": [
    {
     "data": {
      "text/plain": [
       "['CareerString',\n",
       " 'CareerDateString_2022',\n",
       " 'IsJob',\n",
       " 'MultipleSubstrings',\n",
       " 'CareerStartYear',\n",
       " 'CareerStartMonth',\n",
       " 'CareerSubstring',\n",
       " 'OrgString',\n",
       " 'Position',\n",
       " 'PrimaryInstitution',\n",
       " 'OrgName',\n",
       " 'Notes',\n",
       " '_merge_orgstring']"
      ]
     },
     "execution_count": 138,
     "metadata": {},
     "output_type": "execute_result"
    }
   ],
   "source": [
    "list(c.columns)"
   ]
  },
  {
   "cell_type": "code",
   "execution_count": 141,
   "id": "e47c8982",
   "metadata": {},
   "outputs": [],
   "source": [
    "c4 = c4[['CareerString','CareerDateString_2022','IsJob','MultipleSubstrings','CareerStartYear','CareerStartMonth',\n",
    " 'CareerSubstring','OrgString','PrimaryInstitution','OrgName','Position','Notes']]"
   ]
  },
  {
   "cell_type": "code",
   "execution_count": 142,
   "id": "33e95386",
   "metadata": {},
   "outputs": [
    {
     "data": {
      "text/plain": [
       "(8992, 12)"
      ]
     },
     "execution_count": 142,
     "metadata": {},
     "output_type": "execute_result"
    }
   ],
   "source": [
    "c4.shape"
   ]
  },
  {
   "cell_type": "code",
   "execution_count": 143,
   "id": "66d3db5a",
   "metadata": {},
   "outputs": [],
   "source": [
    "# export careers to \\cleaning step 2 - career\\2.6 career_reassembled\\\n",
    "c4.to_excel(path_cleaning + subpath_2_6 + \"careers_3_jeongsu.xlsx\",index=False)"
   ]
  },
  {
   "cell_type": "code",
   "execution_count": null,
   "id": "5c7dba58",
   "metadata": {},
   "outputs": [],
   "source": []
  },
  {
   "cell_type": "code",
   "execution_count": null,
   "id": "7db1d493",
   "metadata": {},
   "outputs": [],
   "source": []
  }
 ],
 "metadata": {
  "kernelspec": {
   "display_name": "Python 3 (ipykernel)",
   "language": "python",
   "name": "python3"
  },
  "language_info": {
   "codemirror_mode": {
    "name": "ipython",
    "version": 3
   },
   "file_extension": ".py",
   "mimetype": "text/x-python",
   "name": "python",
   "nbconvert_exporter": "python",
   "pygments_lexer": "ipython3",
   "version": "3.11.0"
  }
 },
 "nbformat": 4,
 "nbformat_minor": 5
}
