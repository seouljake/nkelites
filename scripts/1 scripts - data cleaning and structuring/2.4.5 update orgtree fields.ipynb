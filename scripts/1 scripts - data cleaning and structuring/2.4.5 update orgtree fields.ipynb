{
 "cells": [
  {
   "cell_type": "code",
   "execution_count": 1,
   "id": "f25a0a51",
   "metadata": {},
   "outputs": [],
   "source": [
    "import pandas as pd\n",
    "import numpy as np"
   ]
  },
  {
   "cell_type": "markdown",
   "id": "55b9e00b",
   "metadata": {},
   "source": [
    "# paths and filenames"
   ]
  },
  {
   "cell_type": "code",
   "execution_count": 2,
   "id": "11ea8d77",
   "metadata": {},
   "outputs": [],
   "source": [
    "path_orgtree = \"C:/Users/seoul/Dropbox/00 technical/github/nkelites/data/combined data/combined data - 1 cleaning/cleaning step 2 - career/2.4 orgtree/\""
   ]
  },
  {
   "cell_type": "code",
   "execution_count": 3,
   "id": "06879ce4",
   "metadata": {},
   "outputs": [],
   "source": [
    "filein_orgtree = \"orgtree_4_2.xlsx\""
   ]
  },
  {
   "cell_type": "code",
   "execution_count": 4,
   "id": "d79d20b7",
   "metadata": {},
   "outputs": [],
   "source": [
    "fileout_orgtree = \"orgtree_4_3_jeongsu.xlsx\""
   ]
  },
  {
   "cell_type": "code",
   "execution_count": null,
   "id": "e45885b4",
   "metadata": {},
   "outputs": [],
   "source": []
  },
  {
   "cell_type": "code",
   "execution_count": 5,
   "id": "23903c60",
   "metadata": {},
   "outputs": [
    {
     "data": {
      "text/plain": [
       "(1290, 8)"
      ]
     },
     "execution_count": 5,
     "metadata": {},
     "output_type": "execute_result"
    }
   ],
   "source": [
    "orgtree = pd.read_excel(path_orgtree+filein_orgtree)\n",
    "orgtree.shape"
   ]
  },
  {
   "cell_type": "code",
   "execution_count": 6,
   "id": "d1c01f6f",
   "metadata": {},
   "outputs": [
    {
     "data": {
      "text/plain": [
       "Index(['InsideGov', 'PrimaryInstitution', 'OrgName', 'ImmediateSuperiorOrg',\n",
       "       'SupervisesParent', 'LinkToCurrent_PrimaryInstitution',\n",
       "       'LinkToCurrent_OrgName', 'Notes'],\n",
       "      dtype='object')"
      ]
     },
     "execution_count": 6,
     "metadata": {},
     "output_type": "execute_result"
    }
   ],
   "source": [
    "orgtree.columns"
   ]
  },
  {
   "cell_type": "markdown",
   "id": "3236534c",
   "metadata": {},
   "source": [
    "# clean Link fields"
   ]
  },
  {
   "cell_type": "code",
   "execution_count": 7,
   "id": "a350b548",
   "metadata": {},
   "outputs": [
    {
     "data": {
      "text/html": [
       "<div>\n",
       "<style scoped>\n",
       "    .dataframe tbody tr th:only-of-type {\n",
       "        vertical-align: middle;\n",
       "    }\n",
       "\n",
       "    .dataframe tbody tr th {\n",
       "        vertical-align: top;\n",
       "    }\n",
       "\n",
       "    .dataframe thead th {\n",
       "        text-align: right;\n",
       "    }\n",
       "</style>\n",
       "<table border=\"1\" class=\"dataframe\">\n",
       "  <thead>\n",
       "    <tr style=\"text-align: right;\">\n",
       "      <th></th>\n",
       "      <th>InsideGov</th>\n",
       "      <th>PrimaryInstitution</th>\n",
       "      <th>OrgName</th>\n",
       "      <th>ImmediateSuperiorOrg</th>\n",
       "      <th>SupervisesParent</th>\n",
       "      <th>LinkToCurrent_PrimaryInstitution</th>\n",
       "      <th>LinkToCurrent_OrgName</th>\n",
       "      <th>Notes</th>\n",
       "    </tr>\n",
       "  </thead>\n",
       "  <tbody>\n",
       "    <tr>\n",
       "      <th>797</th>\n",
       "      <td>1.0</td>\n",
       "      <td>내각</td>\n",
       "      <td>수매양정성</td>\n",
       "      <td>NaN</td>\n",
       "      <td>NaN</td>\n",
       "      <td>NAN</td>\n",
       "      <td>NAN</td>\n",
       "      <td>NaN</td>\n",
       "    </tr>\n",
       "    <tr>\n",
       "      <th>806</th>\n",
       "      <td>1.0</td>\n",
       "      <td>내각</td>\n",
       "      <td>외무성_X국_대련무역대표부</td>\n",
       "      <td>NaN</td>\n",
       "      <td>NaN</td>\n",
       "      <td>NAN</td>\n",
       "      <td>NAN</td>\n",
       "      <td>NaN</td>\n",
       "    </tr>\n",
       "    <tr>\n",
       "      <th>808</th>\n",
       "      <td>1.0</td>\n",
       "      <td>내각</td>\n",
       "      <td>외무성_X국_몰타대사관</td>\n",
       "      <td>NaN</td>\n",
       "      <td>NaN</td>\n",
       "      <td>NAN</td>\n",
       "      <td>NAN</td>\n",
       "      <td>NaN</td>\n",
       "    </tr>\n",
       "    <tr>\n",
       "      <th>903</th>\n",
       "      <td>1.0</td>\n",
       "      <td>내각</td>\n",
       "      <td>일용품공업성</td>\n",
       "      <td>NaN</td>\n",
       "      <td>NaN</td>\n",
       "      <td>NAN</td>\n",
       "      <td>NAN</td>\n",
       "      <td>NaN</td>\n",
       "    </tr>\n",
       "    <tr>\n",
       "      <th>970</th>\n",
       "      <td>1.0</td>\n",
       "      <td>노동당</td>\n",
       "      <td>당중앙위원회_경제정책검열부</td>\n",
       "      <td>NaN</td>\n",
       "      <td>NaN</td>\n",
       "      <td>NAN</td>\n",
       "      <td>NAN</td>\n",
       "      <td>NaN</td>\n",
       "    </tr>\n",
       "    <tr>\n",
       "      <th>1004</th>\n",
       "      <td>1.0</td>\n",
       "      <td>노동당</td>\n",
       "      <td>당중앙위원회_신소실</td>\n",
       "      <td>중앙위원회</td>\n",
       "      <td>NaN</td>\n",
       "      <td>NAN</td>\n",
       "      <td>NAN</td>\n",
       "      <td>NaN</td>\n",
       "    </tr>\n",
       "    <tr>\n",
       "      <th>1086</th>\n",
       "      <td>1.0</td>\n",
       "      <td>정무원</td>\n",
       "      <td>원유공업부</td>\n",
       "      <td>NaN</td>\n",
       "      <td>NaN</td>\n",
       "      <td>NAN</td>\n",
       "      <td>NAN</td>\n",
       "      <td>NaN</td>\n",
       "    </tr>\n",
       "  </tbody>\n",
       "</table>\n",
       "</div>"
      ],
      "text/plain": [
       "      InsideGov PrimaryInstitution         OrgName ImmediateSuperiorOrg  \\\n",
       "797         1.0                 내각           수매양정성                  NaN   \n",
       "806         1.0                 내각  외무성_X국_대련무역대표부                  NaN   \n",
       "808         1.0                 내각    외무성_X국_몰타대사관                  NaN   \n",
       "903         1.0                 내각          일용품공업성                  NaN   \n",
       "970         1.0                노동당  당중앙위원회_경제정책검열부                  NaN   \n",
       "1004        1.0                노동당      당중앙위원회_신소실                중앙위원회   \n",
       "1086        1.0                정무원           원유공업부                  NaN   \n",
       "\n",
       "      SupervisesParent LinkToCurrent_PrimaryInstitution LinkToCurrent_OrgName  \\\n",
       "797                NaN                              NAN                   NAN   \n",
       "806                NaN                              NAN                   NAN   \n",
       "808                NaN                              NAN                   NAN   \n",
       "903                NaN                              NAN                   NAN   \n",
       "970                NaN                              NAN                   NAN   \n",
       "1004               NaN                              NAN                   NAN   \n",
       "1086               NaN                              NAN                   NAN   \n",
       "\n",
       "     Notes  \n",
       "797    NaN  \n",
       "806    NaN  \n",
       "808    NaN  \n",
       "903    NaN  \n",
       "970    NaN  \n",
       "1004   NaN  \n",
       "1086   NaN  "
      ]
     },
     "execution_count": 7,
     "metadata": {},
     "output_type": "execute_result"
    }
   ],
   "source": [
    "# replace NAN with Deprecated\n",
    "orgtree[orgtree[\"LinkToCurrent_OrgName\"]==\"NAN\"]"
   ]
  },
  {
   "cell_type": "code",
   "execution_count": 8,
   "id": "492fa2fc",
   "metadata": {},
   "outputs": [],
   "source": [
    "orgtree.loc[orgtree[\"LinkToCurrent_PrimaryInstitution\"]==\"NAN\",\"LinkToCurrent_PrimaryInstitution\"] = \"Deprecated\""
   ]
  },
  {
   "cell_type": "code",
   "execution_count": 9,
   "id": "b56ab1b4",
   "metadata": {},
   "outputs": [],
   "source": [
    "orgtree.loc[orgtree[\"LinkToCurrent_OrgName\"]==\"NAN\",\"LinkToCurrent_OrgName\"] = \"Deprecated\""
   ]
  },
  {
   "cell_type": "code",
   "execution_count": 10,
   "id": "4304dcbb",
   "metadata": {},
   "outputs": [
    {
     "data": {
      "text/html": [
       "<div>\n",
       "<style scoped>\n",
       "    .dataframe tbody tr th:only-of-type {\n",
       "        vertical-align: middle;\n",
       "    }\n",
       "\n",
       "    .dataframe tbody tr th {\n",
       "        vertical-align: top;\n",
       "    }\n",
       "\n",
       "    .dataframe thead th {\n",
       "        text-align: right;\n",
       "    }\n",
       "</style>\n",
       "<table border=\"1\" class=\"dataframe\">\n",
       "  <thead>\n",
       "    <tr style=\"text-align: right;\">\n",
       "      <th></th>\n",
       "      <th>InsideGov</th>\n",
       "      <th>PrimaryInstitution</th>\n",
       "      <th>OrgName</th>\n",
       "      <th>ImmediateSuperiorOrg</th>\n",
       "      <th>SupervisesParent</th>\n",
       "      <th>LinkToCurrent_PrimaryInstitution</th>\n",
       "      <th>LinkToCurrent_OrgName</th>\n",
       "      <th>Notes</th>\n",
       "    </tr>\n",
       "  </thead>\n",
       "  <tbody>\n",
       "  </tbody>\n",
       "</table>\n",
       "</div>"
      ],
      "text/plain": [
       "Empty DataFrame\n",
       "Columns: [InsideGov, PrimaryInstitution, OrgName, ImmediateSuperiorOrg, SupervisesParent, LinkToCurrent_PrimaryInstitution, LinkToCurrent_OrgName, Notes]\n",
       "Index: []"
      ]
     },
     "execution_count": 10,
     "metadata": {},
     "output_type": "execute_result"
    }
   ],
   "source": [
    "orgtree[orgtree[\"LinkToCurrent_PrimaryInstitution\"]==\"NAN\"]"
   ]
  },
  {
   "cell_type": "code",
   "execution_count": 11,
   "id": "33994681",
   "metadata": {},
   "outputs": [
    {
     "data": {
      "text/html": [
       "<div>\n",
       "<style scoped>\n",
       "    .dataframe tbody tr th:only-of-type {\n",
       "        vertical-align: middle;\n",
       "    }\n",
       "\n",
       "    .dataframe tbody tr th {\n",
       "        vertical-align: top;\n",
       "    }\n",
       "\n",
       "    .dataframe thead th {\n",
       "        text-align: right;\n",
       "    }\n",
       "</style>\n",
       "<table border=\"1\" class=\"dataframe\">\n",
       "  <thead>\n",
       "    <tr style=\"text-align: right;\">\n",
       "      <th></th>\n",
       "      <th>InsideGov</th>\n",
       "      <th>PrimaryInstitution</th>\n",
       "      <th>OrgName</th>\n",
       "      <th>ImmediateSuperiorOrg</th>\n",
       "      <th>SupervisesParent</th>\n",
       "      <th>LinkToCurrent_PrimaryInstitution</th>\n",
       "      <th>LinkToCurrent_OrgName</th>\n",
       "      <th>Notes</th>\n",
       "    </tr>\n",
       "  </thead>\n",
       "  <tbody>\n",
       "  </tbody>\n",
       "</table>\n",
       "</div>"
      ],
      "text/plain": [
       "Empty DataFrame\n",
       "Columns: [InsideGov, PrimaryInstitution, OrgName, ImmediateSuperiorOrg, SupervisesParent, LinkToCurrent_PrimaryInstitution, LinkToCurrent_OrgName, Notes]\n",
       "Index: []"
      ]
     },
     "execution_count": 11,
     "metadata": {},
     "output_type": "execute_result"
    }
   ],
   "source": [
    "orgtree[orgtree[\"LinkToCurrent_OrgName\"]==\"NAN\"]"
   ]
  },
  {
   "cell_type": "code",
   "execution_count": null,
   "id": "1ce4bc64",
   "metadata": {},
   "outputs": [],
   "source": []
  },
  {
   "cell_type": "code",
   "execution_count": 12,
   "id": "3a627fec",
   "metadata": {},
   "outputs": [],
   "source": [
    "# replace LinkToCurrent_PrimaryInstitution==nan with \"Please_Revise\""
   ]
  },
  {
   "cell_type": "code",
   "execution_count": 13,
   "id": "82b64d69",
   "metadata": {},
   "outputs": [],
   "source": [
    "orgtree.loc[orgtree[\"LinkToCurrent_PrimaryInstitution\"].isna(),\"LinkToCurrent_PrimaryInstitution\"] = \"Please_Revise\""
   ]
  },
  {
   "cell_type": "code",
   "execution_count": 14,
   "id": "0fe9f811",
   "metadata": {},
   "outputs": [
    {
     "data": {
      "text/html": [
       "<div>\n",
       "<style scoped>\n",
       "    .dataframe tbody tr th:only-of-type {\n",
       "        vertical-align: middle;\n",
       "    }\n",
       "\n",
       "    .dataframe tbody tr th {\n",
       "        vertical-align: top;\n",
       "    }\n",
       "\n",
       "    .dataframe thead th {\n",
       "        text-align: right;\n",
       "    }\n",
       "</style>\n",
       "<table border=\"1\" class=\"dataframe\">\n",
       "  <thead>\n",
       "    <tr style=\"text-align: right;\">\n",
       "      <th></th>\n",
       "      <th>InsideGov</th>\n",
       "      <th>PrimaryInstitution</th>\n",
       "      <th>OrgName</th>\n",
       "      <th>ImmediateSuperiorOrg</th>\n",
       "      <th>SupervisesParent</th>\n",
       "      <th>LinkToCurrent_PrimaryInstitution</th>\n",
       "      <th>LinkToCurrent_OrgName</th>\n",
       "      <th>Notes</th>\n",
       "    </tr>\n",
       "  </thead>\n",
       "  <tbody>\n",
       "  </tbody>\n",
       "</table>\n",
       "</div>"
      ],
      "text/plain": [
       "Empty DataFrame\n",
       "Columns: [InsideGov, PrimaryInstitution, OrgName, ImmediateSuperiorOrg, SupervisesParent, LinkToCurrent_PrimaryInstitution, LinkToCurrent_OrgName, Notes]\n",
       "Index: []"
      ]
     },
     "execution_count": 14,
     "metadata": {},
     "output_type": "execute_result"
    }
   ],
   "source": [
    "orgtree[orgtree[\"LinkToCurrent_PrimaryInstitution\"].isna()]"
   ]
  },
  {
   "cell_type": "code",
   "execution_count": null,
   "id": "b22690f9",
   "metadata": {},
   "outputs": [],
   "source": []
  },
  {
   "cell_type": "code",
   "execution_count": 15,
   "id": "aa70f8b7",
   "metadata": {},
   "outputs": [],
   "source": [
    "# change and add link columns"
   ]
  },
  {
   "cell_type": "code",
   "execution_count": 16,
   "id": "0853a305",
   "metadata": {},
   "outputs": [],
   "source": [
    "orgtree[\"LinkToNext_Year\"]=np.nan"
   ]
  },
  {
   "cell_type": "code",
   "execution_count": 17,
   "id": "7b251afd",
   "metadata": {},
   "outputs": [
    {
     "data": {
      "text/plain": [
       "Index(['InsideGov', 'PrimaryInstitution', 'OrgName', 'ImmediateSuperiorOrg',\n",
       "       'SupervisesParent', 'LinkToNext_PI', 'LinkToNext_Org', 'Notes',\n",
       "       'LinkToNext_Year'],\n",
       "      dtype='object')"
      ]
     },
     "execution_count": 17,
     "metadata": {},
     "output_type": "execute_result"
    }
   ],
   "source": [
    "orgtree.rename(columns={\"LinkToCurrent_PrimaryInstitution\":\"LinkToNext_PI\",\"LinkToCurrent_OrgName\":\"LinkToNext_Org\"},inplace=True)\n",
    "orgtree.columns"
   ]
  },
  {
   "cell_type": "code",
   "execution_count": 18,
   "id": "a1d351be",
   "metadata": {},
   "outputs": [],
   "source": [
    "columns_orgtree = ['InsideGov', 'PrimaryInstitution', 'OrgName', 'ImmediateSuperiorOrg',\n",
    "       'SupervisesParent', 'LinkToNext_PI', 'LinkToNext_Org','LinkToNext_Year','Notes']"
   ]
  },
  {
   "cell_type": "code",
   "execution_count": 19,
   "id": "98fe7630",
   "metadata": {},
   "outputs": [
    {
     "data": {
      "text/plain": [
       "(1290, 9)"
      ]
     },
     "execution_count": 19,
     "metadata": {},
     "output_type": "execute_result"
    }
   ],
   "source": [
    "orgtree = orgtree[columns_orgtree]\n",
    "orgtree.shape"
   ]
  },
  {
   "cell_type": "code",
   "execution_count": 20,
   "id": "ce8a5511",
   "metadata": {},
   "outputs": [
    {
     "data": {
      "text/plain": [
       "Index(['InsideGov', 'PrimaryInstitution', 'OrgName', 'ImmediateSuperiorOrg',\n",
       "       'SupervisesParent', 'LinkToNext_PI', 'LinkToNext_Org',\n",
       "       'LinkToNext_Year', 'Notes'],\n",
       "      dtype='object')"
      ]
     },
     "execution_count": 20,
     "metadata": {},
     "output_type": "execute_result"
    }
   ],
   "source": [
    "orgtree.columns"
   ]
  },
  {
   "cell_type": "markdown",
   "id": "fed482d0",
   "metadata": {},
   "source": [
    "# strip white space from all fields"
   ]
  },
  {
   "cell_type": "code",
   "execution_count": 21,
   "id": "02c6b804",
   "metadata": {},
   "outputs": [],
   "source": [
    "# be sure to strip white space from joborglink as well"
   ]
  },
  {
   "cell_type": "code",
   "execution_count": 22,
   "id": "ae90072a",
   "metadata": {},
   "outputs": [],
   "source": [
    "orgtree[\"PrimaryInstitution\"] = orgtree[\"PrimaryInstitution\"].str.strip()"
   ]
  },
  {
   "cell_type": "code",
   "execution_count": 23,
   "id": "e32a8f26",
   "metadata": {},
   "outputs": [],
   "source": [
    "orgtree[\"OrgName\"] = orgtree[\"OrgName\"].str.strip()"
   ]
  },
  {
   "cell_type": "code",
   "execution_count": 24,
   "id": "dbc6cabd",
   "metadata": {},
   "outputs": [],
   "source": [
    "orgtree[\"LinkToNext_PI\"] = orgtree[\"LinkToNext_PI\"].str.strip()"
   ]
  },
  {
   "cell_type": "code",
   "execution_count": 25,
   "id": "7a9013df",
   "metadata": {},
   "outputs": [],
   "source": [
    "orgtree[\"LinkToNext_Org\"] = orgtree[\"LinkToNext_Org\"].str.strip()"
   ]
  },
  {
   "cell_type": "code",
   "execution_count": null,
   "id": "5c8cb4a3",
   "metadata": {},
   "outputs": [],
   "source": []
  },
  {
   "cell_type": "markdown",
   "id": "f44ce5e6",
   "metadata": {},
   "source": [
    "# add LinkToNext_PI & LinkToNext_Org as Primary Key"
   ]
  },
  {
   "cell_type": "code",
   "execution_count": 26,
   "id": "546f96a5",
   "metadata": {},
   "outputs": [],
   "source": [
    "orgtree_links = orgtree[['InsideGov','LinkToNext_PI', 'LinkToNext_Org']]"
   ]
  },
  {
   "cell_type": "code",
   "execution_count": 27,
   "id": "4b8ddbaa",
   "metadata": {},
   "outputs": [],
   "source": [
    "merged = orgtree.merge(orgtree_links,how=\"outer\",\n",
    "                        left_on=['PrimaryInstitution', 'OrgName'],\n",
    "                        right_on=['LinkToNext_PI', 'LinkToNext_Org'],\n",
    "                       indicator=True)"
   ]
  },
  {
   "cell_type": "code",
   "execution_count": 28,
   "id": "b71a4e35",
   "metadata": {},
   "outputs": [
    {
     "data": {
      "text/plain": [
       "['left_only', 'both', 'right_only']\n",
       "Categories (3, object): ['left_only', 'right_only', 'both']"
      ]
     },
     "execution_count": 28,
     "metadata": {},
     "output_type": "execute_result"
    }
   ],
   "source": [
    "merged[\"_merge\"].unique()"
   ]
  },
  {
   "cell_type": "code",
   "execution_count": 29,
   "id": "6f319455",
   "metadata": {},
   "outputs": [
    {
     "data": {
      "text/plain": [
       "(245, 13)"
      ]
     },
     "execution_count": 29,
     "metadata": {},
     "output_type": "execute_result"
    }
   ],
   "source": [
    "merged[merged[\"_merge\"]==\"both\"].shape"
   ]
  },
  {
   "cell_type": "code",
   "execution_count": 30,
   "id": "79c87bab",
   "metadata": {},
   "outputs": [
    {
     "data": {
      "text/plain": [
       "(1152, 13)"
      ]
     },
     "execution_count": 30,
     "metadata": {},
     "output_type": "execute_result"
    }
   ],
   "source": [
    "merged[merged[\"_merge\"]==\"left_only\"].shape"
   ]
  },
  {
   "cell_type": "code",
   "execution_count": 31,
   "id": "472cdb23",
   "metadata": {},
   "outputs": [
    {
     "data": {
      "text/plain": [
       "(1045, 13)"
      ]
     },
     "execution_count": 31,
     "metadata": {},
     "output_type": "execute_result"
    }
   ],
   "source": [
    "merged[merged[\"_merge\"]==\"right_only\"].shape"
   ]
  },
  {
   "cell_type": "code",
   "execution_count": 32,
   "id": "b0a228ba",
   "metadata": {},
   "outputs": [
    {
     "data": {
      "text/plain": [
       "(1045, 13)"
      ]
     },
     "execution_count": 32,
     "metadata": {},
     "output_type": "execute_result"
    }
   ],
   "source": [
    "merged_right = merged[merged[\"_merge\"]==\"right_only\"]\n",
    "merged_right.shape"
   ]
  },
  {
   "cell_type": "code",
   "execution_count": 33,
   "id": "b711da94",
   "metadata": {},
   "outputs": [
    {
     "data": {
      "text/plain": [
       "Index(['InsideGov_x', 'PrimaryInstitution', 'OrgName', 'ImmediateSuperiorOrg',\n",
       "       'SupervisesParent', 'LinkToNext_PI_x', 'LinkToNext_Org_x',\n",
       "       'LinkToNext_Year', 'Notes', 'InsideGov_y', 'LinkToNext_PI_y',\n",
       "       'LinkToNext_Org_y', '_merge'],\n",
       "      dtype='object')"
      ]
     },
     "execution_count": 33,
     "metadata": {},
     "output_type": "execute_result"
    }
   ],
   "source": [
    "merged_right.columns"
   ]
  },
  {
   "cell_type": "code",
   "execution_count": 34,
   "id": "1d8b765d",
   "metadata": {},
   "outputs": [
    {
     "data": {
      "text/plain": [
       "(35, 13)"
      ]
     },
     "execution_count": 34,
     "metadata": {},
     "output_type": "execute_result"
    }
   ],
   "source": [
    "# 37 [LinkToNext_PI, LinkToNext_Org] not contained in [PI, Org]\n",
    "merged_right = merged_right.drop_duplicates()\n",
    "merged_right.shape"
   ]
  },
  {
   "cell_type": "code",
   "execution_count": 35,
   "id": "e61851c9",
   "metadata": {},
   "outputs": [
    {
     "data": {
      "text/html": [
       "<div>\n",
       "<style scoped>\n",
       "    .dataframe tbody tr th:only-of-type {\n",
       "        vertical-align: middle;\n",
       "    }\n",
       "\n",
       "    .dataframe tbody tr th {\n",
       "        vertical-align: top;\n",
       "    }\n",
       "\n",
       "    .dataframe thead th {\n",
       "        text-align: right;\n",
       "    }\n",
       "</style>\n",
       "<table border=\"1\" class=\"dataframe\">\n",
       "  <thead>\n",
       "    <tr style=\"text-align: right;\">\n",
       "      <th></th>\n",
       "      <th>InsideGov_x</th>\n",
       "      <th>PrimaryInstitution</th>\n",
       "      <th>OrgName</th>\n",
       "      <th>ImmediateSuperiorOrg</th>\n",
       "      <th>SupervisesParent</th>\n",
       "      <th>LinkToNext_PI_x</th>\n",
       "      <th>LinkToNext_Org_x</th>\n",
       "      <th>LinkToNext_Year</th>\n",
       "      <th>Notes</th>\n",
       "      <th>InsideGov_y</th>\n",
       "      <th>LinkToNext_PI_y</th>\n",
       "      <th>LinkToNext_Org_y</th>\n",
       "      <th>_merge</th>\n",
       "    </tr>\n",
       "  </thead>\n",
       "  <tbody>\n",
       "    <tr>\n",
       "      <th>1397</th>\n",
       "      <td>NaN</td>\n",
       "      <td>NaN</td>\n",
       "      <td>NaN</td>\n",
       "      <td>NaN</td>\n",
       "      <td>NaN</td>\n",
       "      <td>NaN</td>\n",
       "      <td>NaN</td>\n",
       "      <td>NaN</td>\n",
       "      <td>NaN</td>\n",
       "      <td>0.0</td>\n",
       "      <td>Current</td>\n",
       "      <td>Current</td>\n",
       "      <td>right_only</td>\n",
       "    </tr>\n",
       "    <tr>\n",
       "      <th>1850</th>\n",
       "      <td>NaN</td>\n",
       "      <td>NaN</td>\n",
       "      <td>NaN</td>\n",
       "      <td>NaN</td>\n",
       "      <td>NaN</td>\n",
       "      <td>NaN</td>\n",
       "      <td>NaN</td>\n",
       "      <td>NaN</td>\n",
       "      <td>NaN</td>\n",
       "      <td>1.0</td>\n",
       "      <td>Current</td>\n",
       "      <td>Current</td>\n",
       "      <td>right_only</td>\n",
       "    </tr>\n",
       "    <tr>\n",
       "      <th>2366</th>\n",
       "      <td>NaN</td>\n",
       "      <td>NaN</td>\n",
       "      <td>NaN</td>\n",
       "      <td>NaN</td>\n",
       "      <td>NaN</td>\n",
       "      <td>NaN</td>\n",
       "      <td>NaN</td>\n",
       "      <td>NaN</td>\n",
       "      <td>NaN</td>\n",
       "      <td>0.0</td>\n",
       "      <td>평양예술단</td>\n",
       "      <td>NaN</td>\n",
       "      <td>right_only</td>\n",
       "    </tr>\n",
       "    <tr>\n",
       "      <th>2367</th>\n",
       "      <td>NaN</td>\n",
       "      <td>NaN</td>\n",
       "      <td>NaN</td>\n",
       "      <td>NaN</td>\n",
       "      <td>NaN</td>\n",
       "      <td>NaN</td>\n",
       "      <td>NaN</td>\n",
       "      <td>NaN</td>\n",
       "      <td>NaN</td>\n",
       "      <td>0.0</td>\n",
       "      <td>Please_Revise</td>\n",
       "      <td>Please_Revise</td>\n",
       "      <td>right_only</td>\n",
       "    </tr>\n",
       "    <tr>\n",
       "      <th>2374</th>\n",
       "      <td>NaN</td>\n",
       "      <td>NaN</td>\n",
       "      <td>NaN</td>\n",
       "      <td>NaN</td>\n",
       "      <td>NaN</td>\n",
       "      <td>NaN</td>\n",
       "      <td>NaN</td>\n",
       "      <td>NaN</td>\n",
       "      <td>NaN</td>\n",
       "      <td>1.0</td>\n",
       "      <td>Please_Revise</td>\n",
       "      <td>Please_Revise</td>\n",
       "      <td>right_only</td>\n",
       "    </tr>\n",
       "    <tr>\n",
       "      <th>2376</th>\n",
       "      <td>NaN</td>\n",
       "      <td>NaN</td>\n",
       "      <td>NaN</td>\n",
       "      <td>NaN</td>\n",
       "      <td>NaN</td>\n",
       "      <td>NaN</td>\n",
       "      <td>NaN</td>\n",
       "      <td>NaN</td>\n",
       "      <td>NaN</td>\n",
       "      <td>0.0</td>\n",
       "      <td>내각</td>\n",
       "      <td>교육위원회_고등교육성_계응상사리원농업대학</td>\n",
       "      <td>right_only</td>\n",
       "    </tr>\n",
       "    <tr>\n",
       "      <th>2377</th>\n",
       "      <td>NaN</td>\n",
       "      <td>NaN</td>\n",
       "      <td>NaN</td>\n",
       "      <td>NaN</td>\n",
       "      <td>NaN</td>\n",
       "      <td>NaN</td>\n",
       "      <td>NaN</td>\n",
       "      <td>NaN</td>\n",
       "      <td>NaN</td>\n",
       "      <td>0.0</td>\n",
       "      <td>Uncertain</td>\n",
       "      <td>Uncertain</td>\n",
       "      <td>right_only</td>\n",
       "    </tr>\n",
       "    <tr>\n",
       "      <th>2381</th>\n",
       "      <td>NaN</td>\n",
       "      <td>NaN</td>\n",
       "      <td>NaN</td>\n",
       "      <td>NaN</td>\n",
       "      <td>NaN</td>\n",
       "      <td>NaN</td>\n",
       "      <td>NaN</td>\n",
       "      <td>NaN</td>\n",
       "      <td>NaN</td>\n",
       "      <td>1.0</td>\n",
       "      <td>Uncertain</td>\n",
       "      <td>Uncertain</td>\n",
       "      <td>right_only</td>\n",
       "    </tr>\n",
       "    <tr>\n",
       "      <th>2398</th>\n",
       "      <td>NaN</td>\n",
       "      <td>NaN</td>\n",
       "      <td>NaN</td>\n",
       "      <td>NaN</td>\n",
       "      <td>NaN</td>\n",
       "      <td>NaN</td>\n",
       "      <td>NaN</td>\n",
       "      <td>NaN</td>\n",
       "      <td>NaN</td>\n",
       "      <td>0.0</td>\n",
       "      <td>Please_Revise</td>\n",
       "      <td>NaN</td>\n",
       "      <td>right_only</td>\n",
       "    </tr>\n",
       "    <tr>\n",
       "      <th>2400</th>\n",
       "      <td>NaN</td>\n",
       "      <td>NaN</td>\n",
       "      <td>NaN</td>\n",
       "      <td>NaN</td>\n",
       "      <td>NaN</td>\n",
       "      <td>NaN</td>\n",
       "      <td>NaN</td>\n",
       "      <td>NaN</td>\n",
       "      <td>NaN</td>\n",
       "      <td>1.0</td>\n",
       "      <td>Please_Revise</td>\n",
       "      <td>NaN</td>\n",
       "      <td>right_only</td>\n",
       "    </tr>\n",
       "    <tr>\n",
       "      <th>2409</th>\n",
       "      <td>NaN</td>\n",
       "      <td>NaN</td>\n",
       "      <td>NaN</td>\n",
       "      <td>NaN</td>\n",
       "      <td>NaN</td>\n",
       "      <td>NaN</td>\n",
       "      <td>NaN</td>\n",
       "      <td>NaN</td>\n",
       "      <td>NaN</td>\n",
       "      <td>NaN</td>\n",
       "      <td>Please_Revise</td>\n",
       "      <td>NaN</td>\n",
       "      <td>right_only</td>\n",
       "    </tr>\n",
       "    <tr>\n",
       "      <th>2410</th>\n",
       "      <td>NaN</td>\n",
       "      <td>NaN</td>\n",
       "      <td>NaN</td>\n",
       "      <td>NaN</td>\n",
       "      <td>NaN</td>\n",
       "      <td>NaN</td>\n",
       "      <td>NaN</td>\n",
       "      <td>NaN</td>\n",
       "      <td>NaN</td>\n",
       "      <td>0.0</td>\n",
       "      <td>조선요리협회</td>\n",
       "      <td>NaN</td>\n",
       "      <td>right_only</td>\n",
       "    </tr>\n",
       "    <tr>\n",
       "      <th>2411</th>\n",
       "      <td>NaN</td>\n",
       "      <td>NaN</td>\n",
       "      <td>NaN</td>\n",
       "      <td>NaN</td>\n",
       "      <td>NaN</td>\n",
       "      <td>NaN</td>\n",
       "      <td>NaN</td>\n",
       "      <td>NaN</td>\n",
       "      <td>NaN</td>\n",
       "      <td>0.0</td>\n",
       "      <td>묘향무역회사</td>\n",
       "      <td>NaN</td>\n",
       "      <td>right_only</td>\n",
       "    </tr>\n",
       "    <tr>\n",
       "      <th>2412</th>\n",
       "      <td>NaN</td>\n",
       "      <td>NaN</td>\n",
       "      <td>NaN</td>\n",
       "      <td>NaN</td>\n",
       "      <td>NaN</td>\n",
       "      <td>NaN</td>\n",
       "      <td>NaN</td>\n",
       "      <td>NaN</td>\n",
       "      <td>NaN</td>\n",
       "      <td>0.0</td>\n",
       "      <td>순천지구청년탄광연합기업소</td>\n",
       "      <td>신창청년탄광</td>\n",
       "      <td>right_only</td>\n",
       "    </tr>\n",
       "    <tr>\n",
       "      <th>2413</th>\n",
       "      <td>NaN</td>\n",
       "      <td>NaN</td>\n",
       "      <td>NaN</td>\n",
       "      <td>NaN</td>\n",
       "      <td>NaN</td>\n",
       "      <td>NaN</td>\n",
       "      <td>NaN</td>\n",
       "      <td>NaN</td>\n",
       "      <td>NaN</td>\n",
       "      <td>0.0</td>\n",
       "      <td>Please_Revise</td>\n",
       "      <td>Current</td>\n",
       "      <td>right_only</td>\n",
       "    </tr>\n",
       "    <tr>\n",
       "      <th>2414</th>\n",
       "      <td>NaN</td>\n",
       "      <td>NaN</td>\n",
       "      <td>NaN</td>\n",
       "      <td>NaN</td>\n",
       "      <td>NaN</td>\n",
       "      <td>NaN</td>\n",
       "      <td>NaN</td>\n",
       "      <td>NaN</td>\n",
       "      <td>NaN</td>\n",
       "      <td>0.0</td>\n",
       "      <td>조선일본군위안부및강제연행피해자보상대책위원회</td>\n",
       "      <td>NaN</td>\n",
       "      <td>right_only</td>\n",
       "    </tr>\n",
       "    <tr>\n",
       "      <th>2415</th>\n",
       "      <td>NaN</td>\n",
       "      <td>NaN</td>\n",
       "      <td>NaN</td>\n",
       "      <td>NaN</td>\n",
       "      <td>NaN</td>\n",
       "      <td>NaN</td>\n",
       "      <td>NaN</td>\n",
       "      <td>NaN</td>\n",
       "      <td>NaN</td>\n",
       "      <td>1.0</td>\n",
       "      <td>국무위원회</td>\n",
       "      <td>국방성_군사대외사업국</td>\n",
       "      <td>right_only</td>\n",
       "    </tr>\n",
       "    <tr>\n",
       "      <th>2416</th>\n",
       "      <td>NaN</td>\n",
       "      <td>NaN</td>\n",
       "      <td>NaN</td>\n",
       "      <td>NaN</td>\n",
       "      <td>NaN</td>\n",
       "      <td>NaN</td>\n",
       "      <td>NaN</td>\n",
       "      <td>NaN</td>\n",
       "      <td>NaN</td>\n",
       "      <td>1.0</td>\n",
       "      <td>국무위원회</td>\n",
       "      <td>국방성_작전국</td>\n",
       "      <td>right_only</td>\n",
       "    </tr>\n",
       "    <tr>\n",
       "      <th>2417</th>\n",
       "      <td>NaN</td>\n",
       "      <td>NaN</td>\n",
       "      <td>NaN</td>\n",
       "      <td>NaN</td>\n",
       "      <td>NaN</td>\n",
       "      <td>NaN</td>\n",
       "      <td>NaN</td>\n",
       "      <td>NaN</td>\n",
       "      <td>NaN</td>\n",
       "      <td>1.0</td>\n",
       "      <td>국무위원회</td>\n",
       "      <td>국방성_철도사령부</td>\n",
       "      <td>right_only</td>\n",
       "    </tr>\n",
       "    <tr>\n",
       "      <th>2418</th>\n",
       "      <td>NaN</td>\n",
       "      <td>NaN</td>\n",
       "      <td>NaN</td>\n",
       "      <td>NaN</td>\n",
       "      <td>NaN</td>\n",
       "      <td>NaN</td>\n",
       "      <td>NaN</td>\n",
       "      <td>NaN</td>\n",
       "      <td>NaN</td>\n",
       "      <td>1.0</td>\n",
       "      <td>국무위원회</td>\n",
       "      <td>정책국</td>\n",
       "      <td>right_only</td>\n",
       "    </tr>\n",
       "    <tr>\n",
       "      <th>2419</th>\n",
       "      <td>NaN</td>\n",
       "      <td>NaN</td>\n",
       "      <td>NaN</td>\n",
       "      <td>NaN</td>\n",
       "      <td>NaN</td>\n",
       "      <td>NaN</td>\n",
       "      <td>NaN</td>\n",
       "      <td>NaN</td>\n",
       "      <td>NaN</td>\n",
       "      <td>1.0</td>\n",
       "      <td>내각</td>\n",
       "      <td>문화성_출판지도국_제1부</td>\n",
       "      <td>right_only</td>\n",
       "    </tr>\n",
       "    <tr>\n",
       "      <th>2420</th>\n",
       "      <td>NaN</td>\n",
       "      <td>NaN</td>\n",
       "      <td>NaN</td>\n",
       "      <td>NaN</td>\n",
       "      <td>NaN</td>\n",
       "      <td>NaN</td>\n",
       "      <td>NaN</td>\n",
       "      <td>NaN</td>\n",
       "      <td>NaN</td>\n",
       "      <td>1.0</td>\n",
       "      <td>Deprecated</td>\n",
       "      <td>Deprecated</td>\n",
       "      <td>right_only</td>\n",
       "    </tr>\n",
       "    <tr>\n",
       "      <th>2427</th>\n",
       "      <td>NaN</td>\n",
       "      <td>NaN</td>\n",
       "      <td>NaN</td>\n",
       "      <td>NaN</td>\n",
       "      <td>NaN</td>\n",
       "      <td>NaN</td>\n",
       "      <td>NaN</td>\n",
       "      <td>NaN</td>\n",
       "      <td>NaN</td>\n",
       "      <td>NaN</td>\n",
       "      <td>Deprecated</td>\n",
       "      <td>Deprecated</td>\n",
       "      <td>right_only</td>\n",
       "    </tr>\n",
       "    <tr>\n",
       "      <th>2428</th>\n",
       "      <td>NaN</td>\n",
       "      <td>NaN</td>\n",
       "      <td>NaN</td>\n",
       "      <td>NaN</td>\n",
       "      <td>NaN</td>\n",
       "      <td>NaN</td>\n",
       "      <td>NaN</td>\n",
       "      <td>NaN</td>\n",
       "      <td>NaN</td>\n",
       "      <td>1.0</td>\n",
       "      <td>내각</td>\n",
       "      <td>자원개발성</td>\n",
       "      <td>right_only</td>\n",
       "    </tr>\n",
       "    <tr>\n",
       "      <th>2429</th>\n",
       "      <td>NaN</td>\n",
       "      <td>NaN</td>\n",
       "      <td>NaN</td>\n",
       "      <td>NaN</td>\n",
       "      <td>NaN</td>\n",
       "      <td>NaN</td>\n",
       "      <td>NaN</td>\n",
       "      <td>NaN</td>\n",
       "      <td>NaN</td>\n",
       "      <td>1.0</td>\n",
       "      <td>내각</td>\n",
       "      <td>내각정치국</td>\n",
       "      <td>right_only</td>\n",
       "    </tr>\n",
       "    <tr>\n",
       "      <th>2430</th>\n",
       "      <td>NaN</td>\n",
       "      <td>NaN</td>\n",
       "      <td>NaN</td>\n",
       "      <td>NaN</td>\n",
       "      <td>NaN</td>\n",
       "      <td>NaN</td>\n",
       "      <td>NaN</td>\n",
       "      <td>NaN</td>\n",
       "      <td>NaN</td>\n",
       "      <td>1.0</td>\n",
       "      <td>내각</td>\n",
       "      <td>정보산업성_평양전화국</td>\n",
       "      <td>right_only</td>\n",
       "    </tr>\n",
       "    <tr>\n",
       "      <th>2431</th>\n",
       "      <td>NaN</td>\n",
       "      <td>NaN</td>\n",
       "      <td>NaN</td>\n",
       "      <td>NaN</td>\n",
       "      <td>NaN</td>\n",
       "      <td>NaN</td>\n",
       "      <td>NaN</td>\n",
       "      <td>NaN</td>\n",
       "      <td>NaN</td>\n",
       "      <td>1.0</td>\n",
       "      <td>내각</td>\n",
       "      <td>정보산업성_정보통신연구소</td>\n",
       "      <td>right_only</td>\n",
       "    </tr>\n",
       "    <tr>\n",
       "      <th>2432</th>\n",
       "      <td>NaN</td>\n",
       "      <td>NaN</td>\n",
       "      <td>NaN</td>\n",
       "      <td>NaN</td>\n",
       "      <td>NaN</td>\n",
       "      <td>NaN</td>\n",
       "      <td>NaN</td>\n",
       "      <td>NaN</td>\n",
       "      <td>NaN</td>\n",
       "      <td>1.0</td>\n",
       "      <td>내각</td>\n",
       "      <td>정보산업성_무선및TV방송지도국</td>\n",
       "      <td>right_only</td>\n",
       "    </tr>\n",
       "    <tr>\n",
       "      <th>2434</th>\n",
       "      <td>NaN</td>\n",
       "      <td>NaN</td>\n",
       "      <td>NaN</td>\n",
       "      <td>NaN</td>\n",
       "      <td>NaN</td>\n",
       "      <td>NaN</td>\n",
       "      <td>NaN</td>\n",
       "      <td>NaN</td>\n",
       "      <td>NaN</td>\n",
       "      <td>1.0</td>\n",
       "      <td>노농적위군</td>\n",
       "      <td>NaN</td>\n",
       "      <td>right_only</td>\n",
       "    </tr>\n",
       "    <tr>\n",
       "      <th>2435</th>\n",
       "      <td>NaN</td>\n",
       "      <td>NaN</td>\n",
       "      <td>NaN</td>\n",
       "      <td>NaN</td>\n",
       "      <td>NaN</td>\n",
       "      <td>NaN</td>\n",
       "      <td>NaN</td>\n",
       "      <td>NaN</td>\n",
       "      <td>NaN</td>\n",
       "      <td>1.0</td>\n",
       "      <td>내각</td>\n",
       "      <td>양강도인민위원회</td>\n",
       "      <td>right_only</td>\n",
       "    </tr>\n",
       "    <tr>\n",
       "      <th>2436</th>\n",
       "      <td>NaN</td>\n",
       "      <td>NaN</td>\n",
       "      <td>NaN</td>\n",
       "      <td>NaN</td>\n",
       "      <td>NaN</td>\n",
       "      <td>NaN</td>\n",
       "      <td>NaN</td>\n",
       "      <td>NaN</td>\n",
       "      <td>NaN</td>\n",
       "      <td>1.0</td>\n",
       "      <td>내각</td>\n",
       "      <td>자강도인민위원회</td>\n",
       "      <td>right_only</td>\n",
       "    </tr>\n",
       "    <tr>\n",
       "      <th>2437</th>\n",
       "      <td>NaN</td>\n",
       "      <td>NaN</td>\n",
       "      <td>NaN</td>\n",
       "      <td>NaN</td>\n",
       "      <td>NaN</td>\n",
       "      <td>NaN</td>\n",
       "      <td>NaN</td>\n",
       "      <td>NaN</td>\n",
       "      <td>NaN</td>\n",
       "      <td>1.0</td>\n",
       "      <td>최고인민회의</td>\n",
       "      <td>함경남도인민위원회_함흥시인민위원회</td>\n",
       "      <td>right_only</td>\n",
       "    </tr>\n",
       "    <tr>\n",
       "      <th>2438</th>\n",
       "      <td>NaN</td>\n",
       "      <td>NaN</td>\n",
       "      <td>NaN</td>\n",
       "      <td>NaN</td>\n",
       "      <td>NaN</td>\n",
       "      <td>NaN</td>\n",
       "      <td>NaN</td>\n",
       "      <td>NaN</td>\n",
       "      <td>NaN</td>\n",
       "      <td>1.0</td>\n",
       "      <td>최고인민회의</td>\n",
       "      <td>함경북도인민위원회_명천군인민위원회</td>\n",
       "      <td>right_only</td>\n",
       "    </tr>\n",
       "    <tr>\n",
       "      <th>2439</th>\n",
       "      <td>NaN</td>\n",
       "      <td>NaN</td>\n",
       "      <td>NaN</td>\n",
       "      <td>NaN</td>\n",
       "      <td>NaN</td>\n",
       "      <td>NaN</td>\n",
       "      <td>NaN</td>\n",
       "      <td>NaN</td>\n",
       "      <td>NaN</td>\n",
       "      <td>1.0</td>\n",
       "      <td>내각</td>\n",
       "      <td>대외경제성_민족경제협력위원회_금강산국제관광특구지도국</td>\n",
       "      <td>right_only</td>\n",
       "    </tr>\n",
       "    <tr>\n",
       "      <th>2441</th>\n",
       "      <td>NaN</td>\n",
       "      <td>NaN</td>\n",
       "      <td>NaN</td>\n",
       "      <td>NaN</td>\n",
       "      <td>NaN</td>\n",
       "      <td>NaN</td>\n",
       "      <td>NaN</td>\n",
       "      <td>NaN</td>\n",
       "      <td>NaN</td>\n",
       "      <td>1.0</td>\n",
       "      <td>총참모부</td>\n",
       "      <td>작전총국_제5처_제11군단</td>\n",
       "      <td>right_only</td>\n",
       "    </tr>\n",
       "  </tbody>\n",
       "</table>\n",
       "</div>"
      ],
      "text/plain": [
       "      InsideGov_x PrimaryInstitution OrgName ImmediateSuperiorOrg  \\\n",
       "1397          NaN                NaN     NaN                  NaN   \n",
       "1850          NaN                NaN     NaN                  NaN   \n",
       "2366          NaN                NaN     NaN                  NaN   \n",
       "2367          NaN                NaN     NaN                  NaN   \n",
       "2374          NaN                NaN     NaN                  NaN   \n",
       "2376          NaN                NaN     NaN                  NaN   \n",
       "2377          NaN                NaN     NaN                  NaN   \n",
       "2381          NaN                NaN     NaN                  NaN   \n",
       "2398          NaN                NaN     NaN                  NaN   \n",
       "2400          NaN                NaN     NaN                  NaN   \n",
       "2409          NaN                NaN     NaN                  NaN   \n",
       "2410          NaN                NaN     NaN                  NaN   \n",
       "2411          NaN                NaN     NaN                  NaN   \n",
       "2412          NaN                NaN     NaN                  NaN   \n",
       "2413          NaN                NaN     NaN                  NaN   \n",
       "2414          NaN                NaN     NaN                  NaN   \n",
       "2415          NaN                NaN     NaN                  NaN   \n",
       "2416          NaN                NaN     NaN                  NaN   \n",
       "2417          NaN                NaN     NaN                  NaN   \n",
       "2418          NaN                NaN     NaN                  NaN   \n",
       "2419          NaN                NaN     NaN                  NaN   \n",
       "2420          NaN                NaN     NaN                  NaN   \n",
       "2427          NaN                NaN     NaN                  NaN   \n",
       "2428          NaN                NaN     NaN                  NaN   \n",
       "2429          NaN                NaN     NaN                  NaN   \n",
       "2430          NaN                NaN     NaN                  NaN   \n",
       "2431          NaN                NaN     NaN                  NaN   \n",
       "2432          NaN                NaN     NaN                  NaN   \n",
       "2434          NaN                NaN     NaN                  NaN   \n",
       "2435          NaN                NaN     NaN                  NaN   \n",
       "2436          NaN                NaN     NaN                  NaN   \n",
       "2437          NaN                NaN     NaN                  NaN   \n",
       "2438          NaN                NaN     NaN                  NaN   \n",
       "2439          NaN                NaN     NaN                  NaN   \n",
       "2441          NaN                NaN     NaN                  NaN   \n",
       "\n",
       "      SupervisesParent LinkToNext_PI_x LinkToNext_Org_x  LinkToNext_Year  \\\n",
       "1397               NaN             NaN              NaN              NaN   \n",
       "1850               NaN             NaN              NaN              NaN   \n",
       "2366               NaN             NaN              NaN              NaN   \n",
       "2367               NaN             NaN              NaN              NaN   \n",
       "2374               NaN             NaN              NaN              NaN   \n",
       "2376               NaN             NaN              NaN              NaN   \n",
       "2377               NaN             NaN              NaN              NaN   \n",
       "2381               NaN             NaN              NaN              NaN   \n",
       "2398               NaN             NaN              NaN              NaN   \n",
       "2400               NaN             NaN              NaN              NaN   \n",
       "2409               NaN             NaN              NaN              NaN   \n",
       "2410               NaN             NaN              NaN              NaN   \n",
       "2411               NaN             NaN              NaN              NaN   \n",
       "2412               NaN             NaN              NaN              NaN   \n",
       "2413               NaN             NaN              NaN              NaN   \n",
       "2414               NaN             NaN              NaN              NaN   \n",
       "2415               NaN             NaN              NaN              NaN   \n",
       "2416               NaN             NaN              NaN              NaN   \n",
       "2417               NaN             NaN              NaN              NaN   \n",
       "2418               NaN             NaN              NaN              NaN   \n",
       "2419               NaN             NaN              NaN              NaN   \n",
       "2420               NaN             NaN              NaN              NaN   \n",
       "2427               NaN             NaN              NaN              NaN   \n",
       "2428               NaN             NaN              NaN              NaN   \n",
       "2429               NaN             NaN              NaN              NaN   \n",
       "2430               NaN             NaN              NaN              NaN   \n",
       "2431               NaN             NaN              NaN              NaN   \n",
       "2432               NaN             NaN              NaN              NaN   \n",
       "2434               NaN             NaN              NaN              NaN   \n",
       "2435               NaN             NaN              NaN              NaN   \n",
       "2436               NaN             NaN              NaN              NaN   \n",
       "2437               NaN             NaN              NaN              NaN   \n",
       "2438               NaN             NaN              NaN              NaN   \n",
       "2439               NaN             NaN              NaN              NaN   \n",
       "2441               NaN             NaN              NaN              NaN   \n",
       "\n",
       "     Notes  InsideGov_y          LinkToNext_PI_y  \\\n",
       "1397   NaN          0.0                  Current   \n",
       "1850   NaN          1.0                  Current   \n",
       "2366   NaN          0.0                    평양예술단   \n",
       "2367   NaN          0.0            Please_Revise   \n",
       "2374   NaN          1.0            Please_Revise   \n",
       "2376   NaN          0.0                       내각   \n",
       "2377   NaN          0.0                Uncertain   \n",
       "2381   NaN          1.0                Uncertain   \n",
       "2398   NaN          0.0            Please_Revise   \n",
       "2400   NaN          1.0            Please_Revise   \n",
       "2409   NaN          NaN            Please_Revise   \n",
       "2410   NaN          0.0                   조선요리협회   \n",
       "2411   NaN          0.0                   묘향무역회사   \n",
       "2412   NaN          0.0            순천지구청년탄광연합기업소   \n",
       "2413   NaN          0.0            Please_Revise   \n",
       "2414   NaN          0.0  조선일본군위안부및강제연행피해자보상대책위원회   \n",
       "2415   NaN          1.0                    국무위원회   \n",
       "2416   NaN          1.0                    국무위원회   \n",
       "2417   NaN          1.0                    국무위원회   \n",
       "2418   NaN          1.0                    국무위원회   \n",
       "2419   NaN          1.0                       내각   \n",
       "2420   NaN          1.0               Deprecated   \n",
       "2427   NaN          NaN               Deprecated   \n",
       "2428   NaN          1.0                       내각   \n",
       "2429   NaN          1.0                       내각   \n",
       "2430   NaN          1.0                       내각   \n",
       "2431   NaN          1.0                       내각   \n",
       "2432   NaN          1.0                       내각   \n",
       "2434   NaN          1.0                    노농적위군   \n",
       "2435   NaN          1.0                       내각   \n",
       "2436   NaN          1.0                       내각   \n",
       "2437   NaN          1.0                   최고인민회의   \n",
       "2438   NaN          1.0                   최고인민회의   \n",
       "2439   NaN          1.0                       내각   \n",
       "2441   NaN          1.0                     총참모부   \n",
       "\n",
       "                  LinkToNext_Org_y      _merge  \n",
       "1397                       Current  right_only  \n",
       "1850                       Current  right_only  \n",
       "2366                           NaN  right_only  \n",
       "2367                 Please_Revise  right_only  \n",
       "2374                 Please_Revise  right_only  \n",
       "2376        교육위원회_고등교육성_계응상사리원농업대학  right_only  \n",
       "2377                     Uncertain  right_only  \n",
       "2381                     Uncertain  right_only  \n",
       "2398                           NaN  right_only  \n",
       "2400                           NaN  right_only  \n",
       "2409                           NaN  right_only  \n",
       "2410                           NaN  right_only  \n",
       "2411                           NaN  right_only  \n",
       "2412                        신창청년탄광  right_only  \n",
       "2413                       Current  right_only  \n",
       "2414                           NaN  right_only  \n",
       "2415                   국방성_군사대외사업국  right_only  \n",
       "2416                       국방성_작전국  right_only  \n",
       "2417                     국방성_철도사령부  right_only  \n",
       "2418                           정책국  right_only  \n",
       "2419                 문화성_출판지도국_제1부  right_only  \n",
       "2420                    Deprecated  right_only  \n",
       "2427                    Deprecated  right_only  \n",
       "2428                         자원개발성  right_only  \n",
       "2429                         내각정치국  right_only  \n",
       "2430                   정보산업성_평양전화국  right_only  \n",
       "2431                 정보산업성_정보통신연구소  right_only  \n",
       "2432              정보산업성_무선및TV방송지도국  right_only  \n",
       "2434                           NaN  right_only  \n",
       "2435                      양강도인민위원회  right_only  \n",
       "2436                      자강도인민위원회  right_only  \n",
       "2437            함경남도인민위원회_함흥시인민위원회  right_only  \n",
       "2438            함경북도인민위원회_명천군인민위원회  right_only  \n",
       "2439  대외경제성_민족경제협력위원회_금강산국제관광특구지도국  right_only  \n",
       "2441                작전총국_제5처_제11군단  right_only  "
      ]
     },
     "execution_count": 35,
     "metadata": {},
     "output_type": "execute_result"
    }
   ],
   "source": [
    "merged_right"
   ]
  },
  {
   "cell_type": "code",
   "execution_count": 36,
   "id": "bfd98f16",
   "metadata": {},
   "outputs": [],
   "source": [
    "# prep merged_right columns for concat with orgtree\n",
    "columns_select = ['InsideGov_y','LinkToNext_PI_y','LinkToNext_Org_y',\n",
    "                  'ImmediateSuperiorOrg','SupervisesParent',\n",
    "                  'LinkToNext_PI_x','LinkToNext_Org_x','LinkToNext_Year','Notes']"
   ]
  },
  {
   "cell_type": "code",
   "execution_count": 37,
   "id": "28c2f8cf",
   "metadata": {},
   "outputs": [
    {
     "data": {
      "text/plain": [
       "(35, 9)"
      ]
     },
     "execution_count": 37,
     "metadata": {},
     "output_type": "execute_result"
    }
   ],
   "source": [
    "merged_right = merged_right[columns_select]\n",
    "merged_right.shape"
   ]
  },
  {
   "cell_type": "code",
   "execution_count": 38,
   "id": "5059242e",
   "metadata": {},
   "outputs": [],
   "source": [
    "merged_right.columns = orgtree.columns"
   ]
  },
  {
   "cell_type": "code",
   "execution_count": 39,
   "id": "142d6a66",
   "metadata": {},
   "outputs": [
    {
     "data": {
      "text/html": [
       "<div>\n",
       "<style scoped>\n",
       "    .dataframe tbody tr th:only-of-type {\n",
       "        vertical-align: middle;\n",
       "    }\n",
       "\n",
       "    .dataframe tbody tr th {\n",
       "        vertical-align: top;\n",
       "    }\n",
       "\n",
       "    .dataframe thead th {\n",
       "        text-align: right;\n",
       "    }\n",
       "</style>\n",
       "<table border=\"1\" class=\"dataframe\">\n",
       "  <thead>\n",
       "    <tr style=\"text-align: right;\">\n",
       "      <th></th>\n",
       "      <th>InsideGov</th>\n",
       "      <th>PrimaryInstitution</th>\n",
       "      <th>OrgName</th>\n",
       "      <th>ImmediateSuperiorOrg</th>\n",
       "      <th>SupervisesParent</th>\n",
       "      <th>LinkToNext_PI</th>\n",
       "      <th>LinkToNext_Org</th>\n",
       "      <th>LinkToNext_Year</th>\n",
       "      <th>Notes</th>\n",
       "    </tr>\n",
       "  </thead>\n",
       "  <tbody>\n",
       "    <tr>\n",
       "      <th>1397</th>\n",
       "      <td>0.0</td>\n",
       "      <td>Current</td>\n",
       "      <td>Current</td>\n",
       "      <td>NaN</td>\n",
       "      <td>NaN</td>\n",
       "      <td>NaN</td>\n",
       "      <td>NaN</td>\n",
       "      <td>NaN</td>\n",
       "      <td>NaN</td>\n",
       "    </tr>\n",
       "    <tr>\n",
       "      <th>1850</th>\n",
       "      <td>1.0</td>\n",
       "      <td>Current</td>\n",
       "      <td>Current</td>\n",
       "      <td>NaN</td>\n",
       "      <td>NaN</td>\n",
       "      <td>NaN</td>\n",
       "      <td>NaN</td>\n",
       "      <td>NaN</td>\n",
       "      <td>NaN</td>\n",
       "    </tr>\n",
       "    <tr>\n",
       "      <th>2366</th>\n",
       "      <td>0.0</td>\n",
       "      <td>평양예술단</td>\n",
       "      <td>NaN</td>\n",
       "      <td>NaN</td>\n",
       "      <td>NaN</td>\n",
       "      <td>NaN</td>\n",
       "      <td>NaN</td>\n",
       "      <td>NaN</td>\n",
       "      <td>NaN</td>\n",
       "    </tr>\n",
       "    <tr>\n",
       "      <th>2367</th>\n",
       "      <td>0.0</td>\n",
       "      <td>Please_Revise</td>\n",
       "      <td>Please_Revise</td>\n",
       "      <td>NaN</td>\n",
       "      <td>NaN</td>\n",
       "      <td>NaN</td>\n",
       "      <td>NaN</td>\n",
       "      <td>NaN</td>\n",
       "      <td>NaN</td>\n",
       "    </tr>\n",
       "    <tr>\n",
       "      <th>2374</th>\n",
       "      <td>1.0</td>\n",
       "      <td>Please_Revise</td>\n",
       "      <td>Please_Revise</td>\n",
       "      <td>NaN</td>\n",
       "      <td>NaN</td>\n",
       "      <td>NaN</td>\n",
       "      <td>NaN</td>\n",
       "      <td>NaN</td>\n",
       "      <td>NaN</td>\n",
       "    </tr>\n",
       "    <tr>\n",
       "      <th>2376</th>\n",
       "      <td>0.0</td>\n",
       "      <td>내각</td>\n",
       "      <td>교육위원회_고등교육성_계응상사리원농업대학</td>\n",
       "      <td>NaN</td>\n",
       "      <td>NaN</td>\n",
       "      <td>NaN</td>\n",
       "      <td>NaN</td>\n",
       "      <td>NaN</td>\n",
       "      <td>NaN</td>\n",
       "    </tr>\n",
       "    <tr>\n",
       "      <th>2377</th>\n",
       "      <td>0.0</td>\n",
       "      <td>Uncertain</td>\n",
       "      <td>Uncertain</td>\n",
       "      <td>NaN</td>\n",
       "      <td>NaN</td>\n",
       "      <td>NaN</td>\n",
       "      <td>NaN</td>\n",
       "      <td>NaN</td>\n",
       "      <td>NaN</td>\n",
       "    </tr>\n",
       "    <tr>\n",
       "      <th>2381</th>\n",
       "      <td>1.0</td>\n",
       "      <td>Uncertain</td>\n",
       "      <td>Uncertain</td>\n",
       "      <td>NaN</td>\n",
       "      <td>NaN</td>\n",
       "      <td>NaN</td>\n",
       "      <td>NaN</td>\n",
       "      <td>NaN</td>\n",
       "      <td>NaN</td>\n",
       "    </tr>\n",
       "    <tr>\n",
       "      <th>2398</th>\n",
       "      <td>0.0</td>\n",
       "      <td>Please_Revise</td>\n",
       "      <td>NaN</td>\n",
       "      <td>NaN</td>\n",
       "      <td>NaN</td>\n",
       "      <td>NaN</td>\n",
       "      <td>NaN</td>\n",
       "      <td>NaN</td>\n",
       "      <td>NaN</td>\n",
       "    </tr>\n",
       "    <tr>\n",
       "      <th>2400</th>\n",
       "      <td>1.0</td>\n",
       "      <td>Please_Revise</td>\n",
       "      <td>NaN</td>\n",
       "      <td>NaN</td>\n",
       "      <td>NaN</td>\n",
       "      <td>NaN</td>\n",
       "      <td>NaN</td>\n",
       "      <td>NaN</td>\n",
       "      <td>NaN</td>\n",
       "    </tr>\n",
       "    <tr>\n",
       "      <th>2409</th>\n",
       "      <td>NaN</td>\n",
       "      <td>Please_Revise</td>\n",
       "      <td>NaN</td>\n",
       "      <td>NaN</td>\n",
       "      <td>NaN</td>\n",
       "      <td>NaN</td>\n",
       "      <td>NaN</td>\n",
       "      <td>NaN</td>\n",
       "      <td>NaN</td>\n",
       "    </tr>\n",
       "    <tr>\n",
       "      <th>2410</th>\n",
       "      <td>0.0</td>\n",
       "      <td>조선요리협회</td>\n",
       "      <td>NaN</td>\n",
       "      <td>NaN</td>\n",
       "      <td>NaN</td>\n",
       "      <td>NaN</td>\n",
       "      <td>NaN</td>\n",
       "      <td>NaN</td>\n",
       "      <td>NaN</td>\n",
       "    </tr>\n",
       "    <tr>\n",
       "      <th>2411</th>\n",
       "      <td>0.0</td>\n",
       "      <td>묘향무역회사</td>\n",
       "      <td>NaN</td>\n",
       "      <td>NaN</td>\n",
       "      <td>NaN</td>\n",
       "      <td>NaN</td>\n",
       "      <td>NaN</td>\n",
       "      <td>NaN</td>\n",
       "      <td>NaN</td>\n",
       "    </tr>\n",
       "    <tr>\n",
       "      <th>2412</th>\n",
       "      <td>0.0</td>\n",
       "      <td>순천지구청년탄광연합기업소</td>\n",
       "      <td>신창청년탄광</td>\n",
       "      <td>NaN</td>\n",
       "      <td>NaN</td>\n",
       "      <td>NaN</td>\n",
       "      <td>NaN</td>\n",
       "      <td>NaN</td>\n",
       "      <td>NaN</td>\n",
       "    </tr>\n",
       "    <tr>\n",
       "      <th>2413</th>\n",
       "      <td>0.0</td>\n",
       "      <td>Please_Revise</td>\n",
       "      <td>Current</td>\n",
       "      <td>NaN</td>\n",
       "      <td>NaN</td>\n",
       "      <td>NaN</td>\n",
       "      <td>NaN</td>\n",
       "      <td>NaN</td>\n",
       "      <td>NaN</td>\n",
       "    </tr>\n",
       "    <tr>\n",
       "      <th>2414</th>\n",
       "      <td>0.0</td>\n",
       "      <td>조선일본군위안부및강제연행피해자보상대책위원회</td>\n",
       "      <td>NaN</td>\n",
       "      <td>NaN</td>\n",
       "      <td>NaN</td>\n",
       "      <td>NaN</td>\n",
       "      <td>NaN</td>\n",
       "      <td>NaN</td>\n",
       "      <td>NaN</td>\n",
       "    </tr>\n",
       "    <tr>\n",
       "      <th>2415</th>\n",
       "      <td>1.0</td>\n",
       "      <td>국무위원회</td>\n",
       "      <td>국방성_군사대외사업국</td>\n",
       "      <td>NaN</td>\n",
       "      <td>NaN</td>\n",
       "      <td>NaN</td>\n",
       "      <td>NaN</td>\n",
       "      <td>NaN</td>\n",
       "      <td>NaN</td>\n",
       "    </tr>\n",
       "    <tr>\n",
       "      <th>2416</th>\n",
       "      <td>1.0</td>\n",
       "      <td>국무위원회</td>\n",
       "      <td>국방성_작전국</td>\n",
       "      <td>NaN</td>\n",
       "      <td>NaN</td>\n",
       "      <td>NaN</td>\n",
       "      <td>NaN</td>\n",
       "      <td>NaN</td>\n",
       "      <td>NaN</td>\n",
       "    </tr>\n",
       "    <tr>\n",
       "      <th>2417</th>\n",
       "      <td>1.0</td>\n",
       "      <td>국무위원회</td>\n",
       "      <td>국방성_철도사령부</td>\n",
       "      <td>NaN</td>\n",
       "      <td>NaN</td>\n",
       "      <td>NaN</td>\n",
       "      <td>NaN</td>\n",
       "      <td>NaN</td>\n",
       "      <td>NaN</td>\n",
       "    </tr>\n",
       "    <tr>\n",
       "      <th>2418</th>\n",
       "      <td>1.0</td>\n",
       "      <td>국무위원회</td>\n",
       "      <td>정책국</td>\n",
       "      <td>NaN</td>\n",
       "      <td>NaN</td>\n",
       "      <td>NaN</td>\n",
       "      <td>NaN</td>\n",
       "      <td>NaN</td>\n",
       "      <td>NaN</td>\n",
       "    </tr>\n",
       "    <tr>\n",
       "      <th>2419</th>\n",
       "      <td>1.0</td>\n",
       "      <td>내각</td>\n",
       "      <td>문화성_출판지도국_제1부</td>\n",
       "      <td>NaN</td>\n",
       "      <td>NaN</td>\n",
       "      <td>NaN</td>\n",
       "      <td>NaN</td>\n",
       "      <td>NaN</td>\n",
       "      <td>NaN</td>\n",
       "    </tr>\n",
       "    <tr>\n",
       "      <th>2420</th>\n",
       "      <td>1.0</td>\n",
       "      <td>Deprecated</td>\n",
       "      <td>Deprecated</td>\n",
       "      <td>NaN</td>\n",
       "      <td>NaN</td>\n",
       "      <td>NaN</td>\n",
       "      <td>NaN</td>\n",
       "      <td>NaN</td>\n",
       "      <td>NaN</td>\n",
       "    </tr>\n",
       "    <tr>\n",
       "      <th>2427</th>\n",
       "      <td>NaN</td>\n",
       "      <td>Deprecated</td>\n",
       "      <td>Deprecated</td>\n",
       "      <td>NaN</td>\n",
       "      <td>NaN</td>\n",
       "      <td>NaN</td>\n",
       "      <td>NaN</td>\n",
       "      <td>NaN</td>\n",
       "      <td>NaN</td>\n",
       "    </tr>\n",
       "    <tr>\n",
       "      <th>2428</th>\n",
       "      <td>1.0</td>\n",
       "      <td>내각</td>\n",
       "      <td>자원개발성</td>\n",
       "      <td>NaN</td>\n",
       "      <td>NaN</td>\n",
       "      <td>NaN</td>\n",
       "      <td>NaN</td>\n",
       "      <td>NaN</td>\n",
       "      <td>NaN</td>\n",
       "    </tr>\n",
       "    <tr>\n",
       "      <th>2429</th>\n",
       "      <td>1.0</td>\n",
       "      <td>내각</td>\n",
       "      <td>내각정치국</td>\n",
       "      <td>NaN</td>\n",
       "      <td>NaN</td>\n",
       "      <td>NaN</td>\n",
       "      <td>NaN</td>\n",
       "      <td>NaN</td>\n",
       "      <td>NaN</td>\n",
       "    </tr>\n",
       "    <tr>\n",
       "      <th>2430</th>\n",
       "      <td>1.0</td>\n",
       "      <td>내각</td>\n",
       "      <td>정보산업성_평양전화국</td>\n",
       "      <td>NaN</td>\n",
       "      <td>NaN</td>\n",
       "      <td>NaN</td>\n",
       "      <td>NaN</td>\n",
       "      <td>NaN</td>\n",
       "      <td>NaN</td>\n",
       "    </tr>\n",
       "    <tr>\n",
       "      <th>2431</th>\n",
       "      <td>1.0</td>\n",
       "      <td>내각</td>\n",
       "      <td>정보산업성_정보통신연구소</td>\n",
       "      <td>NaN</td>\n",
       "      <td>NaN</td>\n",
       "      <td>NaN</td>\n",
       "      <td>NaN</td>\n",
       "      <td>NaN</td>\n",
       "      <td>NaN</td>\n",
       "    </tr>\n",
       "    <tr>\n",
       "      <th>2432</th>\n",
       "      <td>1.0</td>\n",
       "      <td>내각</td>\n",
       "      <td>정보산업성_무선및TV방송지도국</td>\n",
       "      <td>NaN</td>\n",
       "      <td>NaN</td>\n",
       "      <td>NaN</td>\n",
       "      <td>NaN</td>\n",
       "      <td>NaN</td>\n",
       "      <td>NaN</td>\n",
       "    </tr>\n",
       "    <tr>\n",
       "      <th>2434</th>\n",
       "      <td>1.0</td>\n",
       "      <td>노농적위군</td>\n",
       "      <td>NaN</td>\n",
       "      <td>NaN</td>\n",
       "      <td>NaN</td>\n",
       "      <td>NaN</td>\n",
       "      <td>NaN</td>\n",
       "      <td>NaN</td>\n",
       "      <td>NaN</td>\n",
       "    </tr>\n",
       "    <tr>\n",
       "      <th>2435</th>\n",
       "      <td>1.0</td>\n",
       "      <td>내각</td>\n",
       "      <td>양강도인민위원회</td>\n",
       "      <td>NaN</td>\n",
       "      <td>NaN</td>\n",
       "      <td>NaN</td>\n",
       "      <td>NaN</td>\n",
       "      <td>NaN</td>\n",
       "      <td>NaN</td>\n",
       "    </tr>\n",
       "    <tr>\n",
       "      <th>2436</th>\n",
       "      <td>1.0</td>\n",
       "      <td>내각</td>\n",
       "      <td>자강도인민위원회</td>\n",
       "      <td>NaN</td>\n",
       "      <td>NaN</td>\n",
       "      <td>NaN</td>\n",
       "      <td>NaN</td>\n",
       "      <td>NaN</td>\n",
       "      <td>NaN</td>\n",
       "    </tr>\n",
       "    <tr>\n",
       "      <th>2437</th>\n",
       "      <td>1.0</td>\n",
       "      <td>최고인민회의</td>\n",
       "      <td>함경남도인민위원회_함흥시인민위원회</td>\n",
       "      <td>NaN</td>\n",
       "      <td>NaN</td>\n",
       "      <td>NaN</td>\n",
       "      <td>NaN</td>\n",
       "      <td>NaN</td>\n",
       "      <td>NaN</td>\n",
       "    </tr>\n",
       "    <tr>\n",
       "      <th>2438</th>\n",
       "      <td>1.0</td>\n",
       "      <td>최고인민회의</td>\n",
       "      <td>함경북도인민위원회_명천군인민위원회</td>\n",
       "      <td>NaN</td>\n",
       "      <td>NaN</td>\n",
       "      <td>NaN</td>\n",
       "      <td>NaN</td>\n",
       "      <td>NaN</td>\n",
       "      <td>NaN</td>\n",
       "    </tr>\n",
       "    <tr>\n",
       "      <th>2439</th>\n",
       "      <td>1.0</td>\n",
       "      <td>내각</td>\n",
       "      <td>대외경제성_민족경제협력위원회_금강산국제관광특구지도국</td>\n",
       "      <td>NaN</td>\n",
       "      <td>NaN</td>\n",
       "      <td>NaN</td>\n",
       "      <td>NaN</td>\n",
       "      <td>NaN</td>\n",
       "      <td>NaN</td>\n",
       "    </tr>\n",
       "    <tr>\n",
       "      <th>2441</th>\n",
       "      <td>1.0</td>\n",
       "      <td>총참모부</td>\n",
       "      <td>작전총국_제5처_제11군단</td>\n",
       "      <td>NaN</td>\n",
       "      <td>NaN</td>\n",
       "      <td>NaN</td>\n",
       "      <td>NaN</td>\n",
       "      <td>NaN</td>\n",
       "      <td>NaN</td>\n",
       "    </tr>\n",
       "  </tbody>\n",
       "</table>\n",
       "</div>"
      ],
      "text/plain": [
       "      InsideGov       PrimaryInstitution                       OrgName  \\\n",
       "1397        0.0                  Current                       Current   \n",
       "1850        1.0                  Current                       Current   \n",
       "2366        0.0                    평양예술단                           NaN   \n",
       "2367        0.0            Please_Revise                 Please_Revise   \n",
       "2374        1.0            Please_Revise                 Please_Revise   \n",
       "2376        0.0                       내각        교육위원회_고등교육성_계응상사리원농업대학   \n",
       "2377        0.0                Uncertain                     Uncertain   \n",
       "2381        1.0                Uncertain                     Uncertain   \n",
       "2398        0.0            Please_Revise                           NaN   \n",
       "2400        1.0            Please_Revise                           NaN   \n",
       "2409        NaN            Please_Revise                           NaN   \n",
       "2410        0.0                   조선요리협회                           NaN   \n",
       "2411        0.0                   묘향무역회사                           NaN   \n",
       "2412        0.0            순천지구청년탄광연합기업소                        신창청년탄광   \n",
       "2413        0.0            Please_Revise                       Current   \n",
       "2414        0.0  조선일본군위안부및강제연행피해자보상대책위원회                           NaN   \n",
       "2415        1.0                    국무위원회                   국방성_군사대외사업국   \n",
       "2416        1.0                    국무위원회                       국방성_작전국   \n",
       "2417        1.0                    국무위원회                     국방성_철도사령부   \n",
       "2418        1.0                    국무위원회                           정책국   \n",
       "2419        1.0                       내각                 문화성_출판지도국_제1부   \n",
       "2420        1.0               Deprecated                    Deprecated   \n",
       "2427        NaN               Deprecated                    Deprecated   \n",
       "2428        1.0                       내각                         자원개발성   \n",
       "2429        1.0                       내각                         내각정치국   \n",
       "2430        1.0                       내각                   정보산업성_평양전화국   \n",
       "2431        1.0                       내각                 정보산업성_정보통신연구소   \n",
       "2432        1.0                       내각              정보산업성_무선및TV방송지도국   \n",
       "2434        1.0                    노농적위군                           NaN   \n",
       "2435        1.0                       내각                      양강도인민위원회   \n",
       "2436        1.0                       내각                      자강도인민위원회   \n",
       "2437        1.0                   최고인민회의            함경남도인민위원회_함흥시인민위원회   \n",
       "2438        1.0                   최고인민회의            함경북도인민위원회_명천군인민위원회   \n",
       "2439        1.0                       내각  대외경제성_민족경제협력위원회_금강산국제관광특구지도국   \n",
       "2441        1.0                     총참모부                작전총국_제5처_제11군단   \n",
       "\n",
       "     ImmediateSuperiorOrg  SupervisesParent LinkToNext_PI LinkToNext_Org  \\\n",
       "1397                  NaN               NaN           NaN            NaN   \n",
       "1850                  NaN               NaN           NaN            NaN   \n",
       "2366                  NaN               NaN           NaN            NaN   \n",
       "2367                  NaN               NaN           NaN            NaN   \n",
       "2374                  NaN               NaN           NaN            NaN   \n",
       "2376                  NaN               NaN           NaN            NaN   \n",
       "2377                  NaN               NaN           NaN            NaN   \n",
       "2381                  NaN               NaN           NaN            NaN   \n",
       "2398                  NaN               NaN           NaN            NaN   \n",
       "2400                  NaN               NaN           NaN            NaN   \n",
       "2409                  NaN               NaN           NaN            NaN   \n",
       "2410                  NaN               NaN           NaN            NaN   \n",
       "2411                  NaN               NaN           NaN            NaN   \n",
       "2412                  NaN               NaN           NaN            NaN   \n",
       "2413                  NaN               NaN           NaN            NaN   \n",
       "2414                  NaN               NaN           NaN            NaN   \n",
       "2415                  NaN               NaN           NaN            NaN   \n",
       "2416                  NaN               NaN           NaN            NaN   \n",
       "2417                  NaN               NaN           NaN            NaN   \n",
       "2418                  NaN               NaN           NaN            NaN   \n",
       "2419                  NaN               NaN           NaN            NaN   \n",
       "2420                  NaN               NaN           NaN            NaN   \n",
       "2427                  NaN               NaN           NaN            NaN   \n",
       "2428                  NaN               NaN           NaN            NaN   \n",
       "2429                  NaN               NaN           NaN            NaN   \n",
       "2430                  NaN               NaN           NaN            NaN   \n",
       "2431                  NaN               NaN           NaN            NaN   \n",
       "2432                  NaN               NaN           NaN            NaN   \n",
       "2434                  NaN               NaN           NaN            NaN   \n",
       "2435                  NaN               NaN           NaN            NaN   \n",
       "2436                  NaN               NaN           NaN            NaN   \n",
       "2437                  NaN               NaN           NaN            NaN   \n",
       "2438                  NaN               NaN           NaN            NaN   \n",
       "2439                  NaN               NaN           NaN            NaN   \n",
       "2441                  NaN               NaN           NaN            NaN   \n",
       "\n",
       "      LinkToNext_Year Notes  \n",
       "1397              NaN   NaN  \n",
       "1850              NaN   NaN  \n",
       "2366              NaN   NaN  \n",
       "2367              NaN   NaN  \n",
       "2374              NaN   NaN  \n",
       "2376              NaN   NaN  \n",
       "2377              NaN   NaN  \n",
       "2381              NaN   NaN  \n",
       "2398              NaN   NaN  \n",
       "2400              NaN   NaN  \n",
       "2409              NaN   NaN  \n",
       "2410              NaN   NaN  \n",
       "2411              NaN   NaN  \n",
       "2412              NaN   NaN  \n",
       "2413              NaN   NaN  \n",
       "2414              NaN   NaN  \n",
       "2415              NaN   NaN  \n",
       "2416              NaN   NaN  \n",
       "2417              NaN   NaN  \n",
       "2418              NaN   NaN  \n",
       "2419              NaN   NaN  \n",
       "2420              NaN   NaN  \n",
       "2427              NaN   NaN  \n",
       "2428              NaN   NaN  \n",
       "2429              NaN   NaN  \n",
       "2430              NaN   NaN  \n",
       "2431              NaN   NaN  \n",
       "2432              NaN   NaN  \n",
       "2434              NaN   NaN  \n",
       "2435              NaN   NaN  \n",
       "2436              NaN   NaN  \n",
       "2437              NaN   NaN  \n",
       "2438              NaN   NaN  \n",
       "2439              NaN   NaN  \n",
       "2441              NaN   NaN  "
      ]
     },
     "execution_count": 39,
     "metadata": {},
     "output_type": "execute_result"
    }
   ],
   "source": [
    "merged_right"
   ]
  },
  {
   "cell_type": "code",
   "execution_count": 40,
   "id": "5a35e964",
   "metadata": {},
   "outputs": [],
   "source": [
    "# concatenate orgtree & merged_right\n",
    "orgtree = pd.concat([orgtree,merged_right])"
   ]
  },
  {
   "cell_type": "code",
   "execution_count": 41,
   "id": "e3a11f22",
   "metadata": {},
   "outputs": [
    {
     "data": {
      "text/plain": [
       "(1325, 9)"
      ]
     },
     "execution_count": 41,
     "metadata": {},
     "output_type": "execute_result"
    }
   ],
   "source": [
    "orgtree.shape"
   ]
  },
  {
   "cell_type": "code",
   "execution_count": 42,
   "id": "cde0b634",
   "metadata": {},
   "outputs": [
    {
     "data": {
      "text/plain": [
       "(1325, 9)"
      ]
     },
     "execution_count": 42,
     "metadata": {},
     "output_type": "execute_result"
    }
   ],
   "source": [
    "# Step 1. drop NA keys\n",
    "orgtree.dropna(subset=[\"PrimaryInstitution\",\"OrgName\"],how=\"all\",inplace=True)\n",
    "orgtree.shape"
   ]
  },
  {
   "cell_type": "code",
   "execution_count": 43,
   "id": "6fb75109",
   "metadata": {},
   "outputs": [
    {
     "data": {
      "text/html": [
       "<div>\n",
       "<style scoped>\n",
       "    .dataframe tbody tr th:only-of-type {\n",
       "        vertical-align: middle;\n",
       "    }\n",
       "\n",
       "    .dataframe tbody tr th {\n",
       "        vertical-align: top;\n",
       "    }\n",
       "\n",
       "    .dataframe thead th {\n",
       "        text-align: right;\n",
       "    }\n",
       "</style>\n",
       "<table border=\"1\" class=\"dataframe\">\n",
       "  <thead>\n",
       "    <tr style=\"text-align: right;\">\n",
       "      <th></th>\n",
       "      <th>InsideGov</th>\n",
       "      <th>PrimaryInstitution</th>\n",
       "      <th>OrgName</th>\n",
       "      <th>ImmediateSuperiorOrg</th>\n",
       "      <th>SupervisesParent</th>\n",
       "      <th>LinkToNext_PI</th>\n",
       "      <th>LinkToNext_Org</th>\n",
       "      <th>LinkToNext_Year</th>\n",
       "      <th>Notes</th>\n",
       "    </tr>\n",
       "  </thead>\n",
       "  <tbody>\n",
       "  </tbody>\n",
       "</table>\n",
       "</div>"
      ],
      "text/plain": [
       "Empty DataFrame\n",
       "Columns: [InsideGov, PrimaryInstitution, OrgName, ImmediateSuperiorOrg, SupervisesParent, LinkToNext_PI, LinkToNext_Org, LinkToNext_Year, Notes]\n",
       "Index: []"
      ]
     },
     "execution_count": 43,
     "metadata": {},
     "output_type": "execute_result"
    }
   ],
   "source": [
    "# Step 2. verify no duplicate rows\n",
    "orgtree[orgtree.duplicated()]"
   ]
  },
  {
   "cell_type": "code",
   "execution_count": 44,
   "id": "90368e2a",
   "metadata": {},
   "outputs": [
    {
     "data": {
      "text/html": [
       "<div>\n",
       "<style scoped>\n",
       "    .dataframe tbody tr th:only-of-type {\n",
       "        vertical-align: middle;\n",
       "    }\n",
       "\n",
       "    .dataframe tbody tr th {\n",
       "        vertical-align: top;\n",
       "    }\n",
       "\n",
       "    .dataframe thead th {\n",
       "        text-align: right;\n",
       "    }\n",
       "</style>\n",
       "<table border=\"1\" class=\"dataframe\">\n",
       "  <thead>\n",
       "    <tr style=\"text-align: right;\">\n",
       "      <th></th>\n",
       "      <th>InsideGov</th>\n",
       "      <th>PrimaryInstitution</th>\n",
       "      <th>OrgName</th>\n",
       "      <th>ImmediateSuperiorOrg</th>\n",
       "      <th>SupervisesParent</th>\n",
       "      <th>LinkToNext_PI</th>\n",
       "      <th>LinkToNext_Org</th>\n",
       "      <th>LinkToNext_Year</th>\n",
       "      <th>Notes</th>\n",
       "    </tr>\n",
       "  </thead>\n",
       "  <tbody>\n",
       "    <tr>\n",
       "      <th>1397</th>\n",
       "      <td>0.0</td>\n",
       "      <td>Current</td>\n",
       "      <td>Current</td>\n",
       "      <td>NaN</td>\n",
       "      <td>NaN</td>\n",
       "      <td>NaN</td>\n",
       "      <td>NaN</td>\n",
       "      <td>NaN</td>\n",
       "      <td>NaN</td>\n",
       "    </tr>\n",
       "    <tr>\n",
       "      <th>1850</th>\n",
       "      <td>1.0</td>\n",
       "      <td>Current</td>\n",
       "      <td>Current</td>\n",
       "      <td>NaN</td>\n",
       "      <td>NaN</td>\n",
       "      <td>NaN</td>\n",
       "      <td>NaN</td>\n",
       "      <td>NaN</td>\n",
       "      <td>NaN</td>\n",
       "    </tr>\n",
       "    <tr>\n",
       "      <th>2420</th>\n",
       "      <td>1.0</td>\n",
       "      <td>Deprecated</td>\n",
       "      <td>Deprecated</td>\n",
       "      <td>NaN</td>\n",
       "      <td>NaN</td>\n",
       "      <td>NaN</td>\n",
       "      <td>NaN</td>\n",
       "      <td>NaN</td>\n",
       "      <td>NaN</td>\n",
       "    </tr>\n",
       "    <tr>\n",
       "      <th>2427</th>\n",
       "      <td>NaN</td>\n",
       "      <td>Deprecated</td>\n",
       "      <td>Deprecated</td>\n",
       "      <td>NaN</td>\n",
       "      <td>NaN</td>\n",
       "      <td>NaN</td>\n",
       "      <td>NaN</td>\n",
       "      <td>NaN</td>\n",
       "      <td>NaN</td>\n",
       "    </tr>\n",
       "    <tr>\n",
       "      <th>2367</th>\n",
       "      <td>0.0</td>\n",
       "      <td>Please_Revise</td>\n",
       "      <td>Please_Revise</td>\n",
       "      <td>NaN</td>\n",
       "      <td>NaN</td>\n",
       "      <td>NaN</td>\n",
       "      <td>NaN</td>\n",
       "      <td>NaN</td>\n",
       "      <td>NaN</td>\n",
       "    </tr>\n",
       "    <tr>\n",
       "      <th>2374</th>\n",
       "      <td>1.0</td>\n",
       "      <td>Please_Revise</td>\n",
       "      <td>Please_Revise</td>\n",
       "      <td>NaN</td>\n",
       "      <td>NaN</td>\n",
       "      <td>NaN</td>\n",
       "      <td>NaN</td>\n",
       "      <td>NaN</td>\n",
       "      <td>NaN</td>\n",
       "    </tr>\n",
       "    <tr>\n",
       "      <th>2398</th>\n",
       "      <td>0.0</td>\n",
       "      <td>Please_Revise</td>\n",
       "      <td>NaN</td>\n",
       "      <td>NaN</td>\n",
       "      <td>NaN</td>\n",
       "      <td>NaN</td>\n",
       "      <td>NaN</td>\n",
       "      <td>NaN</td>\n",
       "      <td>NaN</td>\n",
       "    </tr>\n",
       "    <tr>\n",
       "      <th>2400</th>\n",
       "      <td>1.0</td>\n",
       "      <td>Please_Revise</td>\n",
       "      <td>NaN</td>\n",
       "      <td>NaN</td>\n",
       "      <td>NaN</td>\n",
       "      <td>NaN</td>\n",
       "      <td>NaN</td>\n",
       "      <td>NaN</td>\n",
       "      <td>NaN</td>\n",
       "    </tr>\n",
       "    <tr>\n",
       "      <th>2409</th>\n",
       "      <td>NaN</td>\n",
       "      <td>Please_Revise</td>\n",
       "      <td>NaN</td>\n",
       "      <td>NaN</td>\n",
       "      <td>NaN</td>\n",
       "      <td>NaN</td>\n",
       "      <td>NaN</td>\n",
       "      <td>NaN</td>\n",
       "      <td>NaN</td>\n",
       "    </tr>\n",
       "    <tr>\n",
       "      <th>2377</th>\n",
       "      <td>0.0</td>\n",
       "      <td>Uncertain</td>\n",
       "      <td>Uncertain</td>\n",
       "      <td>NaN</td>\n",
       "      <td>NaN</td>\n",
       "      <td>NaN</td>\n",
       "      <td>NaN</td>\n",
       "      <td>NaN</td>\n",
       "      <td>NaN</td>\n",
       "    </tr>\n",
       "    <tr>\n",
       "      <th>2381</th>\n",
       "      <td>1.0</td>\n",
       "      <td>Uncertain</td>\n",
       "      <td>Uncertain</td>\n",
       "      <td>NaN</td>\n",
       "      <td>NaN</td>\n",
       "      <td>NaN</td>\n",
       "      <td>NaN</td>\n",
       "      <td>NaN</td>\n",
       "      <td>NaN</td>\n",
       "    </tr>\n",
       "  </tbody>\n",
       "</table>\n",
       "</div>"
      ],
      "text/plain": [
       "      InsideGov PrimaryInstitution        OrgName ImmediateSuperiorOrg  \\\n",
       "1397        0.0            Current        Current                  NaN   \n",
       "1850        1.0            Current        Current                  NaN   \n",
       "2420        1.0         Deprecated     Deprecated                  NaN   \n",
       "2427        NaN         Deprecated     Deprecated                  NaN   \n",
       "2367        0.0      Please_Revise  Please_Revise                  NaN   \n",
       "2374        1.0      Please_Revise  Please_Revise                  NaN   \n",
       "2398        0.0      Please_Revise            NaN                  NaN   \n",
       "2400        1.0      Please_Revise            NaN                  NaN   \n",
       "2409        NaN      Please_Revise            NaN                  NaN   \n",
       "2377        0.0          Uncertain      Uncertain                  NaN   \n",
       "2381        1.0          Uncertain      Uncertain                  NaN   \n",
       "\n",
       "      SupervisesParent LinkToNext_PI LinkToNext_Org  LinkToNext_Year Notes  \n",
       "1397               NaN           NaN            NaN              NaN   NaN  \n",
       "1850               NaN           NaN            NaN              NaN   NaN  \n",
       "2420               NaN           NaN            NaN              NaN   NaN  \n",
       "2427               NaN           NaN            NaN              NaN   NaN  \n",
       "2367               NaN           NaN            NaN              NaN   NaN  \n",
       "2374               NaN           NaN            NaN              NaN   NaN  \n",
       "2398               NaN           NaN            NaN              NaN   NaN  \n",
       "2400               NaN           NaN            NaN              NaN   NaN  \n",
       "2409               NaN           NaN            NaN              NaN   NaN  \n",
       "2377               NaN           NaN            NaN              NaN   NaN  \n",
       "2381               NaN           NaN            NaN              NaN   NaN  "
      ]
     },
     "execution_count": 44,
     "metadata": {},
     "output_type": "execute_result"
    }
   ],
   "source": [
    "# Step 2. verify no duplicate keys\n",
    "orgtree.sort_values([\"PrimaryInstitution\",\"OrgName\",\"InsideGov\"],inplace=True)\n",
    "orgtree[orgtree.duplicated([\"PrimaryInstitution\",\"OrgName\"],keep=False)]"
   ]
  },
  {
   "cell_type": "code",
   "execution_count": 45,
   "id": "cf20c569",
   "metadata": {},
   "outputs": [
    {
     "data": {
      "text/plain": [
       "(1314, 9)"
      ]
     },
     "execution_count": 45,
     "metadata": {},
     "output_type": "execute_result"
    }
   ],
   "source": [
    "# drop all of the above duplicates\n",
    "orgtree.drop_duplicates([\"PrimaryInstitution\",\"OrgName\"],keep=False,inplace=True)\n",
    "orgtree.shape"
   ]
  },
  {
   "cell_type": "code",
   "execution_count": null,
   "id": "1395cb4f",
   "metadata": {},
   "outputs": [],
   "source": []
  },
  {
   "cell_type": "markdown",
   "id": "fac068f1",
   "metadata": {},
   "source": [
    "# recursively add ImmedSuperiorOrgs, drop duplicates and sort"
   ]
  },
  {
   "cell_type": "code",
   "execution_count": 46,
   "id": "a0e3e753",
   "metadata": {},
   "outputs": [],
   "source": [
    "orgtree.sort_values([\"InsideGov\",\"PrimaryInstitution\",\"OrgName\"],ascending=[False,True,True],inplace=True)"
   ]
  },
  {
   "cell_type": "code",
   "execution_count": 47,
   "id": "99d66948",
   "metadata": {},
   "outputs": [
    {
     "data": {
      "text/plain": [
       "(1314, 9)"
      ]
     },
     "execution_count": 47,
     "metadata": {},
     "output_type": "execute_result"
    }
   ],
   "source": [
    "orgtree.shape"
   ]
  },
  {
   "cell_type": "code",
   "execution_count": 48,
   "id": "bc6b76ff",
   "metadata": {},
   "outputs": [
    {
     "data": {
      "text/html": [
       "<div>\n",
       "<style scoped>\n",
       "    .dataframe tbody tr th:only-of-type {\n",
       "        vertical-align: middle;\n",
       "    }\n",
       "\n",
       "    .dataframe tbody tr th {\n",
       "        vertical-align: top;\n",
       "    }\n",
       "\n",
       "    .dataframe thead th {\n",
       "        text-align: right;\n",
       "    }\n",
       "</style>\n",
       "<table border=\"1\" class=\"dataframe\">\n",
       "  <thead>\n",
       "    <tr style=\"text-align: right;\">\n",
       "      <th></th>\n",
       "      <th>InsideGov</th>\n",
       "      <th>PrimaryInstitution</th>\n",
       "      <th>OrgName</th>\n",
       "      <th>ImmediateSuperiorOrg</th>\n",
       "      <th>SupervisesParent</th>\n",
       "      <th>LinkToNext_PI</th>\n",
       "      <th>LinkToNext_Org</th>\n",
       "      <th>LinkToNext_Year</th>\n",
       "      <th>Notes</th>\n",
       "    </tr>\n",
       "  </thead>\n",
       "  <tbody>\n",
       "    <tr>\n",
       "      <th>537</th>\n",
       "      <td>1.0</td>\n",
       "      <td>NAN</td>\n",
       "      <td>인민군</td>\n",
       "      <td>NaN</td>\n",
       "      <td>NaN</td>\n",
       "      <td>Please_Revise</td>\n",
       "      <td>Please_Revise</td>\n",
       "      <td>NaN</td>\n",
       "      <td>NaN</td>\n",
       "    </tr>\n",
       "    <tr>\n",
       "      <th>539</th>\n",
       "      <td>1.0</td>\n",
       "      <td>국무위원회</td>\n",
       "      <td>국가보위성</td>\n",
       "      <td>NaN</td>\n",
       "      <td>NaN</td>\n",
       "      <td>Current</td>\n",
       "      <td>Current</td>\n",
       "      <td>NaN</td>\n",
       "      <td>NaN</td>\n",
       "    </tr>\n",
       "  </tbody>\n",
       "</table>\n",
       "</div>"
      ],
      "text/plain": [
       "     InsideGov PrimaryInstitution OrgName ImmediateSuperiorOrg  \\\n",
       "537        1.0                NAN     인민군                  NaN   \n",
       "539        1.0              국무위원회   국가보위성                  NaN   \n",
       "\n",
       "     SupervisesParent  LinkToNext_PI LinkToNext_Org  LinkToNext_Year Notes  \n",
       "537               NaN  Please_Revise  Please_Revise              NaN   NaN  \n",
       "539               NaN        Current        Current              NaN   NaN  "
      ]
     },
     "execution_count": 48,
     "metadata": {},
     "output_type": "execute_result"
    }
   ],
   "source": [
    "orgtree[0:2]"
   ]
  },
  {
   "cell_type": "code",
   "execution_count": 49,
   "id": "ef389fcb",
   "metadata": {},
   "outputs": [
    {
     "data": {
      "text/plain": [
       "(1044, 9)"
      ]
     },
     "execution_count": 49,
     "metadata": {},
     "output_type": "execute_result"
    }
   ],
   "source": [
    "# orgtree with non-NA OrgName\n",
    "orgtree_proc = orgtree[~orgtree[\"OrgName\"].isna()]\n",
    "orgtree_proc.shape"
   ]
  },
  {
   "cell_type": "code",
   "execution_count": 50,
   "id": "87bc34f7",
   "metadata": {},
   "outputs": [
    {
     "data": {
      "text/plain": [
       "(183, 2)"
      ]
     },
     "execution_count": 50,
     "metadata": {},
     "output_type": "execute_result"
    }
   ],
   "source": [
    "orgtree_2order = orgtree_proc.loc[orgtree_proc.OrgName.str.contains(\"_\"),[\"PrimaryInstitution\",\"OrgName\"]]\n",
    "orgtree_2order[\"OrgName\"] = orgtree_2order[\"OrgName\"].apply(lambda x: \"_\".join(x.split(\"_\")[:-1]))\n",
    "orgtree_2order.drop_duplicates(inplace=True)\n",
    "orgtree_2order.shape"
   ]
  },
  {
   "cell_type": "code",
   "execution_count": 51,
   "id": "80b9c0cc",
   "metadata": {},
   "outputs": [
    {
     "data": {
      "text/html": [
       "<div>\n",
       "<style scoped>\n",
       "    .dataframe tbody tr th:only-of-type {\n",
       "        vertical-align: middle;\n",
       "    }\n",
       "\n",
       "    .dataframe tbody tr th {\n",
       "        vertical-align: top;\n",
       "    }\n",
       "\n",
       "    .dataframe thead th {\n",
       "        text-align: right;\n",
       "    }\n",
       "</style>\n",
       "<table border=\"1\" class=\"dataframe\">\n",
       "  <thead>\n",
       "    <tr style=\"text-align: right;\">\n",
       "      <th></th>\n",
       "      <th>PrimaryInstitution</th>\n",
       "      <th>OrgName</th>\n",
       "    </tr>\n",
       "  </thead>\n",
       "  <tbody>\n",
       "    <tr>\n",
       "      <th>540</th>\n",
       "      <td>국무위원회</td>\n",
       "      <td>국가보위성</td>\n",
       "    </tr>\n",
       "    <tr>\n",
       "      <th>542</th>\n",
       "      <td>국무위원회</td>\n",
       "      <td>국가체육지도위원회</td>\n",
       "    </tr>\n",
       "    <tr>\n",
       "      <th>2415</th>\n",
       "      <td>국무위원회</td>\n",
       "      <td>국방성</td>\n",
       "    </tr>\n",
       "    <tr>\n",
       "      <th>548</th>\n",
       "      <td>국무위원회</td>\n",
       "      <td>국방성_참모부</td>\n",
       "    </tr>\n",
       "    <tr>\n",
       "      <th>578</th>\n",
       "      <td>국무위원회</td>\n",
       "      <td>사회안전성</td>\n",
       "    </tr>\n",
       "    <tr>\n",
       "      <th>579</th>\n",
       "      <td>국무위원회</td>\n",
       "      <td>사회안전성_본부</td>\n",
       "    </tr>\n",
       "    <tr>\n",
       "      <th>592</th>\n",
       "      <td>국무위원회</td>\n",
       "      <td>사회안전성_참모부</td>\n",
       "    </tr>\n",
       "    <tr>\n",
       "      <th>620</th>\n",
       "      <td>국방위원회</td>\n",
       "      <td>국가안전보위부</td>\n",
       "    </tr>\n",
       "    <tr>\n",
       "      <th>623</th>\n",
       "      <td>국방위원회</td>\n",
       "      <td>사회안전부</td>\n",
       "    </tr>\n",
       "    <tr>\n",
       "      <th>625</th>\n",
       "      <td>국방위원회</td>\n",
       "      <td>사회안전성</td>\n",
       "    </tr>\n",
       "  </tbody>\n",
       "</table>\n",
       "</div>"
      ],
      "text/plain": [
       "     PrimaryInstitution    OrgName\n",
       "540               국무위원회      국가보위성\n",
       "542               국무위원회  국가체육지도위원회\n",
       "2415              국무위원회        국방성\n",
       "548               국무위원회    국방성_참모부\n",
       "578               국무위원회      사회안전성\n",
       "579               국무위원회   사회안전성_본부\n",
       "592               국무위원회  사회안전성_참모부\n",
       "620               국방위원회    국가안전보위부\n",
       "623               국방위원회      사회안전부\n",
       "625               국방위원회      사회안전성"
      ]
     },
     "execution_count": 51,
     "metadata": {},
     "output_type": "execute_result"
    }
   ],
   "source": [
    "orgtree_2order[0:10]"
   ]
  },
  {
   "cell_type": "code",
   "execution_count": 52,
   "id": "f89f44ab",
   "metadata": {},
   "outputs": [
    {
     "data": {
      "text/plain": [
       "(30, 2)"
      ]
     },
     "execution_count": 52,
     "metadata": {},
     "output_type": "execute_result"
    }
   ],
   "source": [
    "orgtree_3order = orgtree_2order.loc[orgtree_2order.OrgName.str.contains(\"_\"),[\"PrimaryInstitution\",\"OrgName\"]]\n",
    "orgtree_3order[\"OrgName\"] = orgtree_3order[\"OrgName\"].apply(lambda x: \"_\".join(x.split(\"_\")[:-1]))\n",
    "orgtree_3order.drop_duplicates(inplace=True)\n",
    "orgtree_3order.shape"
   ]
  },
  {
   "cell_type": "code",
   "execution_count": 53,
   "id": "89b410e1",
   "metadata": {},
   "outputs": [
    {
     "data": {
      "text/html": [
       "<div>\n",
       "<style scoped>\n",
       "    .dataframe tbody tr th:only-of-type {\n",
       "        vertical-align: middle;\n",
       "    }\n",
       "\n",
       "    .dataframe tbody tr th {\n",
       "        vertical-align: top;\n",
       "    }\n",
       "\n",
       "    .dataframe thead th {\n",
       "        text-align: right;\n",
       "    }\n",
       "</style>\n",
       "<table border=\"1\" class=\"dataframe\">\n",
       "  <thead>\n",
       "    <tr style=\"text-align: right;\">\n",
       "      <th></th>\n",
       "      <th>PrimaryInstitution</th>\n",
       "      <th>OrgName</th>\n",
       "    </tr>\n",
       "  </thead>\n",
       "  <tbody>\n",
       "    <tr>\n",
       "      <th>548</th>\n",
       "      <td>국무위원회</td>\n",
       "      <td>국방성</td>\n",
       "    </tr>\n",
       "    <tr>\n",
       "      <th>579</th>\n",
       "      <td>국무위원회</td>\n",
       "      <td>사회안전성</td>\n",
       "    </tr>\n",
       "    <tr>\n",
       "      <th>698</th>\n",
       "      <td>내각</td>\n",
       "      <td>내무성</td>\n",
       "    </tr>\n",
       "    <tr>\n",
       "      <th>710</th>\n",
       "      <td>내각</td>\n",
       "      <td>농업위원회</td>\n",
       "    </tr>\n",
       "    <tr>\n",
       "      <th>2439</th>\n",
       "      <td>내각</td>\n",
       "      <td>대외경제성</td>\n",
       "    </tr>\n",
       "    <tr>\n",
       "      <th>726</th>\n",
       "      <td>내각</td>\n",
       "      <td>대외경제성_민족경제협력위원회</td>\n",
       "    </tr>\n",
       "    <tr>\n",
       "      <th>765</th>\n",
       "      <td>내각</td>\n",
       "      <td>문화성</td>\n",
       "    </tr>\n",
       "    <tr>\n",
       "      <th>806</th>\n",
       "      <td>내각</td>\n",
       "      <td>외무성</td>\n",
       "    </tr>\n",
       "    <tr>\n",
       "      <th>814</th>\n",
       "      <td>내각</td>\n",
       "      <td>외무성_국제기구국</td>\n",
       "    </tr>\n",
       "    <tr>\n",
       "      <th>899</th>\n",
       "      <td>내각</td>\n",
       "      <td>인민봉사총국</td>\n",
       "    </tr>\n",
       "  </tbody>\n",
       "</table>\n",
       "</div>"
      ],
      "text/plain": [
       "     PrimaryInstitution          OrgName\n",
       "548               국무위원회              국방성\n",
       "579               국무위원회            사회안전성\n",
       "698                  내각              내무성\n",
       "710                  내각            농업위원회\n",
       "2439                 내각            대외경제성\n",
       "726                  내각  대외경제성_민족경제협력위원회\n",
       "765                  내각              문화성\n",
       "806                  내각              외무성\n",
       "814                  내각        외무성_국제기구국\n",
       "899                  내각           인민봉사총국"
      ]
     },
     "execution_count": 53,
     "metadata": {},
     "output_type": "execute_result"
    }
   ],
   "source": [
    "orgtree_3order[0:10]"
   ]
  },
  {
   "cell_type": "code",
   "execution_count": 54,
   "id": "e3094ab0",
   "metadata": {},
   "outputs": [
    {
     "data": {
      "text/plain": [
       "(9, 2)"
      ]
     },
     "execution_count": 54,
     "metadata": {},
     "output_type": "execute_result"
    }
   ],
   "source": [
    "orgtree_4order = orgtree_3order.loc[orgtree_3order.OrgName.str.contains(\"_\"),[\"PrimaryInstitution\",\"OrgName\"]]\n",
    "orgtree_4order.OrgName = orgtree_4order.OrgName.apply(lambda x: \"_\".join(x.split(\"_\")[:-1]))\n",
    "orgtree_4order.drop_duplicates(inplace=True)\n",
    "orgtree_4order.shape"
   ]
  },
  {
   "cell_type": "code",
   "execution_count": 55,
   "id": "bef3ea9b",
   "metadata": {},
   "outputs": [
    {
     "data": {
      "text/plain": [
       "(1, 2)"
      ]
     },
     "execution_count": 55,
     "metadata": {},
     "output_type": "execute_result"
    }
   ],
   "source": [
    "orgtree_5order = orgtree_4order.loc[orgtree_4order.OrgName.str.contains(\"_\"),[\"PrimaryInstitution\",\"OrgName\"]]\n",
    "orgtree_5order.OrgName = orgtree_5order.OrgName.apply(lambda x: \"_\".join(x.split(\"_\")[:-1]))\n",
    "orgtree_5order.drop_duplicates(inplace=True)\n",
    "orgtree_5order.shape"
   ]
  },
  {
   "cell_type": "code",
   "execution_count": 56,
   "id": "10f83ba4",
   "metadata": {},
   "outputs": [
    {
     "data": {
      "text/html": [
       "<div>\n",
       "<style scoped>\n",
       "    .dataframe tbody tr th:only-of-type {\n",
       "        vertical-align: middle;\n",
       "    }\n",
       "\n",
       "    .dataframe tbody tr th {\n",
       "        vertical-align: top;\n",
       "    }\n",
       "\n",
       "    .dataframe thead th {\n",
       "        text-align: right;\n",
       "    }\n",
       "</style>\n",
       "<table border=\"1\" class=\"dataframe\">\n",
       "  <thead>\n",
       "    <tr style=\"text-align: right;\">\n",
       "      <th></th>\n",
       "      <th>PrimaryInstitution</th>\n",
       "      <th>OrgName</th>\n",
       "    </tr>\n",
       "  </thead>\n",
       "  <tbody>\n",
       "    <tr>\n",
       "      <th>1131</th>\n",
       "      <td>총참모부</td>\n",
       "      <td>작전총국</td>\n",
       "    </tr>\n",
       "  </tbody>\n",
       "</table>\n",
       "</div>"
      ],
      "text/plain": [
       "     PrimaryInstitution OrgName\n",
       "1131               총참모부    작전총국"
      ]
     },
     "execution_count": 56,
     "metadata": {},
     "output_type": "execute_result"
    }
   ],
   "source": [
    "orgtree_5order"
   ]
  },
  {
   "cell_type": "code",
   "execution_count": null,
   "id": "10cce58b",
   "metadata": {},
   "outputs": [],
   "source": []
  },
  {
   "cell_type": "code",
   "execution_count": 57,
   "id": "f0b0afb9",
   "metadata": {},
   "outputs": [],
   "source": [
    "# add all PrimaryInstitutions with null OrgName"
   ]
  },
  {
   "cell_type": "code",
   "execution_count": 58,
   "id": "6d469d68",
   "metadata": {},
   "outputs": [
    {
     "data": {
      "text/plain": [
       "(77, 2)"
      ]
     },
     "execution_count": 58,
     "metadata": {},
     "output_type": "execute_result"
    }
   ],
   "source": [
    "orgtree_PI_nullOrgName = pd.DataFrame({\"PrimaryInstitution\":orgtree_proc.PrimaryInstitution.unique(),\"OrgName\":np.nan})\n",
    "orgtree_PI_nullOrgName.shape"
   ]
  },
  {
   "cell_type": "code",
   "execution_count": 97,
   "id": "c0cfa841",
   "metadata": {},
   "outputs": [
    {
     "data": {
      "text/html": [
       "<div>\n",
       "<style scoped>\n",
       "    .dataframe tbody tr th:only-of-type {\n",
       "        vertical-align: middle;\n",
       "    }\n",
       "\n",
       "    .dataframe tbody tr th {\n",
       "        vertical-align: top;\n",
       "    }\n",
       "\n",
       "    .dataframe thead th {\n",
       "        text-align: right;\n",
       "    }\n",
       "</style>\n",
       "<table border=\"1\" class=\"dataframe\">\n",
       "  <thead>\n",
       "    <tr style=\"text-align: right;\">\n",
       "      <th></th>\n",
       "      <th>PrimaryInstitution</th>\n",
       "      <th>OrgName</th>\n",
       "    </tr>\n",
       "  </thead>\n",
       "  <tbody>\n",
       "    <tr>\n",
       "      <th>0</th>\n",
       "      <td>NAN</td>\n",
       "      <td>NaN</td>\n",
       "    </tr>\n",
       "    <tr>\n",
       "      <th>1</th>\n",
       "      <td>국무위원회</td>\n",
       "      <td>NaN</td>\n",
       "    </tr>\n",
       "    <tr>\n",
       "      <th>2</th>\n",
       "      <td>국방위원회</td>\n",
       "      <td>NaN</td>\n",
       "    </tr>\n",
       "    <tr>\n",
       "      <th>3</th>\n",
       "      <td>내각</td>\n",
       "      <td>NaN</td>\n",
       "    </tr>\n",
       "    <tr>\n",
       "      <th>4</th>\n",
       "      <td>노동당</td>\n",
       "      <td>NaN</td>\n",
       "    </tr>\n",
       "    <tr>\n",
       "      <th>...</th>\n",
       "      <td>...</td>\n",
       "      <td>...</td>\n",
       "    </tr>\n",
       "    <tr>\n",
       "      <th>72</th>\n",
       "      <td>체육연구원</td>\n",
       "      <td>NaN</td>\n",
       "    </tr>\n",
       "    <tr>\n",
       "      <th>73</th>\n",
       "      <td>태천발전소</td>\n",
       "      <td>NaN</td>\n",
       "    </tr>\n",
       "    <tr>\n",
       "      <th>74</th>\n",
       "      <td>평양만경대예술단</td>\n",
       "      <td>NaN</td>\n",
       "    </tr>\n",
       "    <tr>\n",
       "      <th>75</th>\n",
       "      <td>평양영화대학</td>\n",
       "      <td>NaN</td>\n",
       "    </tr>\n",
       "    <tr>\n",
       "      <th>76</th>\n",
       "      <td>노선농업근로자동맹</td>\n",
       "      <td>NaN</td>\n",
       "    </tr>\n",
       "  </tbody>\n",
       "</table>\n",
       "<p>77 rows × 2 columns</p>\n",
       "</div>"
      ],
      "text/plain": [
       "   PrimaryInstitution  OrgName\n",
       "0                 NAN      NaN\n",
       "1               국무위원회      NaN\n",
       "2               국방위원회      NaN\n",
       "3                  내각      NaN\n",
       "4                 노동당      NaN\n",
       "..                ...      ...\n",
       "72              체육연구원      NaN\n",
       "73              태천발전소      NaN\n",
       "74           평양만경대예술단      NaN\n",
       "75             평양영화대학      NaN\n",
       "76          노선농업근로자동맹      NaN\n",
       "\n",
       "[77 rows x 2 columns]"
      ]
     },
     "execution_count": 97,
     "metadata": {},
     "output_type": "execute_result"
    }
   ],
   "source": [
    "orgtree_PI_nullOrgName"
   ]
  },
  {
   "cell_type": "code",
   "execution_count": 98,
   "id": "df799371",
   "metadata": {},
   "outputs": [
    {
     "data": {
      "text/plain": [
       "Index(['InsideGov', 'PrimaryInstitution', 'OrgName', 'ImmediateSuperiorOrg',\n",
       "       'SupervisesParent', 'LinkToNext_PI', 'LinkToNext_Org',\n",
       "       'LinkToNext_Year', 'Notes'],\n",
       "      dtype='object')"
      ]
     },
     "execution_count": 98,
     "metadata": {},
     "output_type": "execute_result"
    }
   ],
   "source": [
    "orgtree.columns"
   ]
  },
  {
   "cell_type": "code",
   "execution_count": 99,
   "id": "bc36a68f",
   "metadata": {},
   "outputs": [
    {
     "data": {
      "text/plain": [
       "(264, 2)"
      ]
     },
     "execution_count": 99,
     "metadata": {},
     "output_type": "execute_result"
    }
   ],
   "source": [
    "orgtree_higher_order = pd.concat([orgtree_2order,orgtree_3order,orgtree_4order,orgtree_5order,orgtree_PI_nullOrgName])\n",
    "orgtree_higher_order.drop_duplicates(inplace=True)\n",
    "orgtree_higher_order.sort_values([\"PrimaryInstitution\",\"OrgName\"],ascending=False,inplace=True)\n",
    "orgtree_higher_order.shape"
   ]
  },
  {
   "cell_type": "code",
   "execution_count": 61,
   "id": "184ebd07",
   "metadata": {},
   "outputs": [
    {
     "data": {
      "text/html": [
       "<div>\n",
       "<style scoped>\n",
       "    .dataframe tbody tr th:only-of-type {\n",
       "        vertical-align: middle;\n",
       "    }\n",
       "\n",
       "    .dataframe tbody tr th {\n",
       "        vertical-align: top;\n",
       "    }\n",
       "\n",
       "    .dataframe thead th {\n",
       "        text-align: right;\n",
       "    }\n",
       "</style>\n",
       "<table border=\"1\" class=\"dataframe\">\n",
       "  <thead>\n",
       "    <tr style=\"text-align: right;\">\n",
       "      <th></th>\n",
       "      <th>PrimaryInstitution</th>\n",
       "      <th>OrgName</th>\n",
       "    </tr>\n",
       "  </thead>\n",
       "  <tbody>\n",
       "  </tbody>\n",
       "</table>\n",
       "</div>"
      ],
      "text/plain": [
       "Empty DataFrame\n",
       "Columns: [PrimaryInstitution, OrgName]\n",
       "Index: []"
      ]
     },
     "execution_count": 61,
     "metadata": {},
     "output_type": "execute_result"
    }
   ],
   "source": [
    "orgtree_higher_order[orgtree_higher_order.duplicated([\"PrimaryInstitution\",\"OrgName\"],keep=False)]"
   ]
  },
  {
   "cell_type": "code",
   "execution_count": null,
   "id": "aa976405",
   "metadata": {},
   "outputs": [],
   "source": []
  },
  {
   "cell_type": "code",
   "execution_count": 62,
   "id": "c194bddd",
   "metadata": {},
   "outputs": [
    {
     "data": {
      "text/plain": [
       "(73, 3)"
      ]
     },
     "execution_count": 62,
     "metadata": {},
     "output_type": "execute_result"
    }
   ],
   "source": [
    "# find new orgtree_higher_order whose PrimaryOrg & OrgName are not contained in orgtree\n",
    "orgtree_higher_order_merged = orgtree_higher_order.merge(orgtree[[\"PrimaryInstitution\",\"OrgName\"]],\n",
    "                                             how=\"left\",on=[\"PrimaryInstitution\",\"OrgName\"],\n",
    "                                             suffixes=(\"\",\"_right\"),indicator=True)\n",
    "orgtree_higher_order_unique = orgtree_higher_order_merged[orgtree_higher_order_merged[\"_merge\"]==\"left_only\"]\n",
    "orgtree_higher_order_unique.shape"
   ]
  },
  {
   "cell_type": "code",
   "execution_count": 63,
   "id": "68537376",
   "metadata": {},
   "outputs": [
    {
     "data": {
      "text/plain": [
       "Index(['InsideGov', 'PrimaryInstitution', 'OrgName', 'ImmediateSuperiorOrg',\n",
       "       'SupervisesParent', 'LinkToNext_PI', 'LinkToNext_Org',\n",
       "       'LinkToNext_Year', 'Notes'],\n",
       "      dtype='object')"
      ]
     },
     "execution_count": 63,
     "metadata": {},
     "output_type": "execute_result"
    }
   ],
   "source": [
    "orgtree.columns"
   ]
  },
  {
   "cell_type": "code",
   "execution_count": 64,
   "id": "42e2b6ea",
   "metadata": {},
   "outputs": [
    {
     "data": {
      "text/plain": [
       "Index(['PrimaryInstitution', 'OrgName', '_merge'], dtype='object')"
      ]
     },
     "execution_count": 64,
     "metadata": {},
     "output_type": "execute_result"
    }
   ],
   "source": [
    "orgtree_higher_order_unique.columns"
   ]
  },
  {
   "cell_type": "code",
   "execution_count": 65,
   "id": "fed00502",
   "metadata": {},
   "outputs": [
    {
     "data": {
      "text/plain": [
       "(73, 2)"
      ]
     },
     "execution_count": 65,
     "metadata": {},
     "output_type": "execute_result"
    }
   ],
   "source": [
    "# drop _merge column in orgtree_higher_order_unique\n",
    "orgtree_higher_order_unique = orgtree_higher_order_unique.drop(columns=[\"_merge\"],axis=1)\n",
    "orgtree_higher_order_unique.shape"
   ]
  },
  {
   "cell_type": "code",
   "execution_count": 66,
   "id": "48c46634",
   "metadata": {},
   "outputs": [
    {
     "data": {
      "text/plain": [
       "Index(['InsideGov', 'PrimaryInstitution', 'OrgName', 'ImmediateSuperiorOrg',\n",
       "       'SupervisesParent', 'LinkToNext_PI', 'LinkToNext_Org',\n",
       "       'LinkToNext_Year', 'Notes'],\n",
       "      dtype='object')"
      ]
     },
     "execution_count": 66,
     "metadata": {},
     "output_type": "execute_result"
    }
   ],
   "source": [
    "orgtree.columns"
   ]
  },
  {
   "cell_type": "code",
   "execution_count": 67,
   "id": "0ee6814c",
   "metadata": {},
   "outputs": [],
   "source": [
    "# add columns [LinkToNext_PI, LinkToNext_Org, Notes] and set them to null\n",
    "orgtree_higher_order_unique[\"InsideGov\"] = \"Please_Revise\"\n",
    "orgtree_higher_order_unique[\"ImmediateSuperiorOrg\"] = np.nan\n",
    "orgtree_higher_order_unique[\"SupervisesParent\"] = np.nan\n",
    "orgtree_higher_order_unique[\"LinkToNext_PI\"] = \"Please_Revise\"\n",
    "orgtree_higher_order_unique[\"LinkToNext_Org\"] = \"Please_Revise\"\n",
    "orgtree_higher_order_unique[\"LinkToNext_Year\"] = \"Please_Revise\"\n",
    "orgtree_higher_order_unique[\"Notes\"] = np.nan"
   ]
  },
  {
   "cell_type": "code",
   "execution_count": 68,
   "id": "254090aa",
   "metadata": {},
   "outputs": [],
   "source": [
    "orgtree_higher_order_unique = orgtree_higher_order_unique[orgtree.columns]"
   ]
  },
  {
   "cell_type": "code",
   "execution_count": 69,
   "id": "3bff03ad",
   "metadata": {},
   "outputs": [
    {
     "data": {
      "text/plain": [
       "Index(['InsideGov', 'PrimaryInstitution', 'OrgName', 'ImmediateSuperiorOrg',\n",
       "       'SupervisesParent', 'LinkToNext_PI', 'LinkToNext_Org',\n",
       "       'LinkToNext_Year', 'Notes'],\n",
       "      dtype='object')"
      ]
     },
     "execution_count": 69,
     "metadata": {},
     "output_type": "execute_result"
    }
   ],
   "source": [
    "orgtree_higher_order_unique.columns"
   ]
  },
  {
   "cell_type": "code",
   "execution_count": 70,
   "id": "d33f9c8b",
   "metadata": {},
   "outputs": [
    {
     "data": {
      "text/html": [
       "<div>\n",
       "<style scoped>\n",
       "    .dataframe tbody tr th:only-of-type {\n",
       "        vertical-align: middle;\n",
       "    }\n",
       "\n",
       "    .dataframe tbody tr th {\n",
       "        vertical-align: top;\n",
       "    }\n",
       "\n",
       "    .dataframe thead th {\n",
       "        text-align: right;\n",
       "    }\n",
       "</style>\n",
       "<table border=\"1\" class=\"dataframe\">\n",
       "  <thead>\n",
       "    <tr style=\"text-align: right;\">\n",
       "      <th></th>\n",
       "      <th>InsideGov</th>\n",
       "      <th>PrimaryInstitution</th>\n",
       "      <th>OrgName</th>\n",
       "      <th>ImmediateSuperiorOrg</th>\n",
       "      <th>SupervisesParent</th>\n",
       "      <th>LinkToNext_PI</th>\n",
       "      <th>LinkToNext_Org</th>\n",
       "      <th>LinkToNext_Year</th>\n",
       "      <th>Notes</th>\n",
       "    </tr>\n",
       "  </thead>\n",
       "  <tbody>\n",
       "    <tr>\n",
       "      <th>3</th>\n",
       "      <td>Please_Revise</td>\n",
       "      <td>평양영화대학</td>\n",
       "      <td>NaN</td>\n",
       "      <td>NaN</td>\n",
       "      <td>NaN</td>\n",
       "      <td>Please_Revise</td>\n",
       "      <td>Please_Revise</td>\n",
       "      <td>Please_Revise</td>\n",
       "      <td>NaN</td>\n",
       "    </tr>\n",
       "    <tr>\n",
       "      <th>4</th>\n",
       "      <td>Please_Revise</td>\n",
       "      <td>평양만경대예술단</td>\n",
       "      <td>NaN</td>\n",
       "      <td>NaN</td>\n",
       "      <td>NaN</td>\n",
       "      <td>Please_Revise</td>\n",
       "      <td>Please_Revise</td>\n",
       "      <td>Please_Revise</td>\n",
       "      <td>NaN</td>\n",
       "    </tr>\n",
       "    <tr>\n",
       "      <th>5</th>\n",
       "      <td>Please_Revise</td>\n",
       "      <td>태천발전소</td>\n",
       "      <td>NaN</td>\n",
       "      <td>NaN</td>\n",
       "      <td>NaN</td>\n",
       "      <td>Please_Revise</td>\n",
       "      <td>Please_Revise</td>\n",
       "      <td>Please_Revise</td>\n",
       "      <td>NaN</td>\n",
       "    </tr>\n",
       "    <tr>\n",
       "      <th>16</th>\n",
       "      <td>Please_Revise</td>\n",
       "      <td>총참모부</td>\n",
       "      <td>총참모부</td>\n",
       "      <td>NaN</td>\n",
       "      <td>NaN</td>\n",
       "      <td>Please_Revise</td>\n",
       "      <td>Please_Revise</td>\n",
       "      <td>Please_Revise</td>\n",
       "      <td>NaN</td>\n",
       "    </tr>\n",
       "    <tr>\n",
       "      <th>18</th>\n",
       "      <td>Please_Revise</td>\n",
       "      <td>총참모부</td>\n",
       "      <td>전략군사령부</td>\n",
       "      <td>NaN</td>\n",
       "      <td>NaN</td>\n",
       "      <td>Please_Revise</td>\n",
       "      <td>Please_Revise</td>\n",
       "      <td>Please_Revise</td>\n",
       "      <td>NaN</td>\n",
       "    </tr>\n",
       "    <tr>\n",
       "      <th>...</th>\n",
       "      <td>...</td>\n",
       "      <td>...</td>\n",
       "      <td>...</td>\n",
       "      <td>...</td>\n",
       "      <td>...</td>\n",
       "      <td>...</td>\n",
       "      <td>...</td>\n",
       "      <td>...</td>\n",
       "      <td>...</td>\n",
       "    </tr>\n",
       "    <tr>\n",
       "      <th>259</th>\n",
       "      <td>Please_Revise</td>\n",
       "      <td>개성방직공장</td>\n",
       "      <td>NaN</td>\n",
       "      <td>NaN</td>\n",
       "      <td>NaN</td>\n",
       "      <td>Please_Revise</td>\n",
       "      <td>Please_Revise</td>\n",
       "      <td>Please_Revise</td>\n",
       "      <td>NaN</td>\n",
       "    </tr>\n",
       "    <tr>\n",
       "      <th>260</th>\n",
       "      <td>Please_Revise</td>\n",
       "      <td>Please_Revise</td>\n",
       "      <td>NaN</td>\n",
       "      <td>NaN</td>\n",
       "      <td>NaN</td>\n",
       "      <td>Please_Revise</td>\n",
       "      <td>Please_Revise</td>\n",
       "      <td>Please_Revise</td>\n",
       "      <td>NaN</td>\n",
       "    </tr>\n",
       "    <tr>\n",
       "      <th>261</th>\n",
       "      <td>Please_Revise</td>\n",
       "      <td>NAN</td>\n",
       "      <td>NaN</td>\n",
       "      <td>NaN</td>\n",
       "      <td>NaN</td>\n",
       "      <td>Please_Revise</td>\n",
       "      <td>Please_Revise</td>\n",
       "      <td>Please_Revise</td>\n",
       "      <td>NaN</td>\n",
       "    </tr>\n",
       "    <tr>\n",
       "      <th>262</th>\n",
       "      <td>Please_Revise</td>\n",
       "      <td>6.15공동선언실천남북공동위원회북측위원회</td>\n",
       "      <td>NaN</td>\n",
       "      <td>NaN</td>\n",
       "      <td>NaN</td>\n",
       "      <td>Please_Revise</td>\n",
       "      <td>Please_Revise</td>\n",
       "      <td>Please_Revise</td>\n",
       "      <td>NaN</td>\n",
       "    </tr>\n",
       "    <tr>\n",
       "      <th>263</th>\n",
       "      <td>Please_Revise</td>\n",
       "      <td>NaN</td>\n",
       "      <td>NaN</td>\n",
       "      <td>NaN</td>\n",
       "      <td>NaN</td>\n",
       "      <td>Please_Revise</td>\n",
       "      <td>Please_Revise</td>\n",
       "      <td>Please_Revise</td>\n",
       "      <td>NaN</td>\n",
       "    </tr>\n",
       "  </tbody>\n",
       "</table>\n",
       "<p>73 rows × 9 columns</p>\n",
       "</div>"
      ],
      "text/plain": [
       "         InsideGov      PrimaryInstitution OrgName  ImmediateSuperiorOrg  \\\n",
       "3    Please_Revise                  평양영화대학     NaN                   NaN   \n",
       "4    Please_Revise                평양만경대예술단     NaN                   NaN   \n",
       "5    Please_Revise                   태천발전소     NaN                   NaN   \n",
       "16   Please_Revise                    총참모부    총참모부                   NaN   \n",
       "18   Please_Revise                    총참모부  전략군사령부                   NaN   \n",
       "..             ...                     ...     ...                   ...   \n",
       "259  Please_Revise                  개성방직공장     NaN                   NaN   \n",
       "260  Please_Revise           Please_Revise     NaN                   NaN   \n",
       "261  Please_Revise                     NAN     NaN                   NaN   \n",
       "262  Please_Revise  6.15공동선언실천남북공동위원회북측위원회     NaN                   NaN   \n",
       "263  Please_Revise                     NaN     NaN                   NaN   \n",
       "\n",
       "     SupervisesParent  LinkToNext_PI LinkToNext_Org LinkToNext_Year  Notes  \n",
       "3                 NaN  Please_Revise  Please_Revise   Please_Revise    NaN  \n",
       "4                 NaN  Please_Revise  Please_Revise   Please_Revise    NaN  \n",
       "5                 NaN  Please_Revise  Please_Revise   Please_Revise    NaN  \n",
       "16                NaN  Please_Revise  Please_Revise   Please_Revise    NaN  \n",
       "18                NaN  Please_Revise  Please_Revise   Please_Revise    NaN  \n",
       "..                ...            ...            ...             ...    ...  \n",
       "259               NaN  Please_Revise  Please_Revise   Please_Revise    NaN  \n",
       "260               NaN  Please_Revise  Please_Revise   Please_Revise    NaN  \n",
       "261               NaN  Please_Revise  Please_Revise   Please_Revise    NaN  \n",
       "262               NaN  Please_Revise  Please_Revise   Please_Revise    NaN  \n",
       "263               NaN  Please_Revise  Please_Revise   Please_Revise    NaN  \n",
       "\n",
       "[73 rows x 9 columns]"
      ]
     },
     "execution_count": 70,
     "metadata": {},
     "output_type": "execute_result"
    }
   ],
   "source": [
    "orgtree_higher_order_unique"
   ]
  },
  {
   "cell_type": "code",
   "execution_count": 71,
   "id": "e94aa564",
   "metadata": {},
   "outputs": [
    {
     "data": {
      "text/plain": [
       "(1387, 9)"
      ]
     },
     "execution_count": 71,
     "metadata": {},
     "output_type": "execute_result"
    }
   ],
   "source": [
    "# concatenate orgtree and orgtree_higher_order_unique\n",
    "orgtree_concat = pd.concat([orgtree,orgtree_higher_order_unique])\n",
    "orgtree_concat.shape"
   ]
  },
  {
   "cell_type": "code",
   "execution_count": 72,
   "id": "90c5adba",
   "metadata": {},
   "outputs": [
    {
     "data": {
      "text/html": [
       "<div>\n",
       "<style scoped>\n",
       "    .dataframe tbody tr th:only-of-type {\n",
       "        vertical-align: middle;\n",
       "    }\n",
       "\n",
       "    .dataframe tbody tr th {\n",
       "        vertical-align: top;\n",
       "    }\n",
       "\n",
       "    .dataframe thead th {\n",
       "        text-align: right;\n",
       "    }\n",
       "</style>\n",
       "<table border=\"1\" class=\"dataframe\">\n",
       "  <thead>\n",
       "    <tr style=\"text-align: right;\">\n",
       "      <th></th>\n",
       "      <th>InsideGov</th>\n",
       "      <th>PrimaryInstitution</th>\n",
       "      <th>OrgName</th>\n",
       "      <th>ImmediateSuperiorOrg</th>\n",
       "      <th>SupervisesParent</th>\n",
       "      <th>LinkToNext_PI</th>\n",
       "      <th>LinkToNext_Org</th>\n",
       "      <th>LinkToNext_Year</th>\n",
       "      <th>Notes</th>\n",
       "    </tr>\n",
       "  </thead>\n",
       "  <tbody>\n",
       "  </tbody>\n",
       "</table>\n",
       "</div>"
      ],
      "text/plain": [
       "Empty DataFrame\n",
       "Columns: [InsideGov, PrimaryInstitution, OrgName, ImmediateSuperiorOrg, SupervisesParent, LinkToNext_PI, LinkToNext_Org, LinkToNext_Year, Notes]\n",
       "Index: []"
      ]
     },
     "execution_count": 72,
     "metadata": {},
     "output_type": "execute_result"
    }
   ],
   "source": [
    "# confirm no duplicate (PrimaryInstitution, OrgName) pairs \n",
    "orgtree_concat[orgtree_concat.duplicated([\"PrimaryInstitution\",\"OrgName\"],keep=False)]"
   ]
  },
  {
   "cell_type": "code",
   "execution_count": 73,
   "id": "9b574462",
   "metadata": {},
   "outputs": [],
   "source": [
    "# add ImmediateSuperiorOrg to orgtree_higher_order_unique\n",
    "orgtree_concat[\"ImmediateSuperiorOrg\"] = orgtree_concat[\"OrgName\"].apply(lambda row: \"_\".join(str(row).split(\"_\")[:-1]))"
   ]
  },
  {
   "cell_type": "code",
   "execution_count": null,
   "id": "db3b9262",
   "metadata": {},
   "outputs": [],
   "source": []
  },
  {
   "cell_type": "code",
   "execution_count": 104,
   "id": "56af3e19",
   "metadata": {},
   "outputs": [],
   "source": [
    "# sort\n",
    "orgtree_concat.sort_values([\"PrimaryInstitution\",\"OrgName\"],ascending=True,inplace=True,ignore_index=True)"
   ]
  },
  {
   "cell_type": "code",
   "execution_count": 105,
   "id": "00f1f263",
   "metadata": {},
   "outputs": [
    {
     "data": {
      "text/plain": [
       "(1387, 9)"
      ]
     },
     "execution_count": 105,
     "metadata": {},
     "output_type": "execute_result"
    }
   ],
   "source": [
    "orgtree_concat.shape"
   ]
  },
  {
   "cell_type": "code",
   "execution_count": 106,
   "id": "58afacab",
   "metadata": {
    "scrolled": true
   },
   "outputs": [
    {
     "data": {
      "text/html": [
       "<div>\n",
       "<style scoped>\n",
       "    .dataframe tbody tr th:only-of-type {\n",
       "        vertical-align: middle;\n",
       "    }\n",
       "\n",
       "    .dataframe tbody tr th {\n",
       "        vertical-align: top;\n",
       "    }\n",
       "\n",
       "    .dataframe thead th {\n",
       "        text-align: right;\n",
       "    }\n",
       "</style>\n",
       "<table border=\"1\" class=\"dataframe\">\n",
       "  <thead>\n",
       "    <tr style=\"text-align: right;\">\n",
       "      <th></th>\n",
       "      <th>InsideGov</th>\n",
       "      <th>PrimaryInstitution</th>\n",
       "      <th>OrgName</th>\n",
       "      <th>ImmediateSuperiorOrg</th>\n",
       "      <th>SupervisesParent</th>\n",
       "      <th>LinkToNext_PI</th>\n",
       "      <th>LinkToNext_Org</th>\n",
       "      <th>LinkToNext_Year</th>\n",
       "      <th>Notes</th>\n",
       "    </tr>\n",
       "  </thead>\n",
       "  <tbody>\n",
       "    <tr>\n",
       "      <th>0</th>\n",
       "      <td>0.0</td>\n",
       "      <td>4.15문화창작단</td>\n",
       "      <td>NaN</td>\n",
       "      <td></td>\n",
       "      <td>NaN</td>\n",
       "      <td>Current</td>\n",
       "      <td>Current</td>\n",
       "      <td>Current</td>\n",
       "      <td>NaN</td>\n",
       "    </tr>\n",
       "    <tr>\n",
       "      <th>1</th>\n",
       "      <td>0.0</td>\n",
       "      <td>6.15공동선언실천남북공동위원회북측위원회</td>\n",
       "      <td>교직원분과</td>\n",
       "      <td></td>\n",
       "      <td>NaN</td>\n",
       "      <td>Current</td>\n",
       "      <td>Current</td>\n",
       "      <td>Current</td>\n",
       "      <td>NaN</td>\n",
       "    </tr>\n",
       "    <tr>\n",
       "      <th>2</th>\n",
       "      <td>0.0</td>\n",
       "      <td>6.15공동선언실천남북공동위원회북측위원회</td>\n",
       "      <td>노동자분과</td>\n",
       "      <td></td>\n",
       "      <td>NaN</td>\n",
       "      <td>Current</td>\n",
       "      <td>Current</td>\n",
       "      <td>Current</td>\n",
       "      <td>NaN</td>\n",
       "    </tr>\n",
       "    <tr>\n",
       "      <th>3</th>\n",
       "      <td>0.0</td>\n",
       "      <td>6.15공동선언실천남북공동위원회북측위원회</td>\n",
       "      <td>농업근로자분과</td>\n",
       "      <td></td>\n",
       "      <td>NaN</td>\n",
       "      <td>Current</td>\n",
       "      <td>Current</td>\n",
       "      <td>Current</td>\n",
       "      <td>NaN</td>\n",
       "    </tr>\n",
       "    <tr>\n",
       "      <th>4</th>\n",
       "      <td>0.0</td>\n",
       "      <td>6.15공동선언실천남북공동위원회북측위원회</td>\n",
       "      <td>문학예술분과</td>\n",
       "      <td></td>\n",
       "      <td>NaN</td>\n",
       "      <td>Current</td>\n",
       "      <td>Current</td>\n",
       "      <td>Current</td>\n",
       "      <td>NaN</td>\n",
       "    </tr>\n",
       "  </tbody>\n",
       "</table>\n",
       "</div>"
      ],
      "text/plain": [
       "  InsideGov      PrimaryInstitution  OrgName ImmediateSuperiorOrg  \\\n",
       "0       0.0               4.15문화창작단      NaN                        \n",
       "1       0.0  6.15공동선언실천남북공동위원회북측위원회    교직원분과                        \n",
       "2       0.0  6.15공동선언실천남북공동위원회북측위원회    노동자분과                        \n",
       "3       0.0  6.15공동선언실천남북공동위원회북측위원회  농업근로자분과                        \n",
       "4       0.0  6.15공동선언실천남북공동위원회북측위원회   문학예술분과                        \n",
       "\n",
       "   SupervisesParent LinkToNext_PI LinkToNext_Org LinkToNext_Year Notes  \n",
       "0               NaN       Current        Current         Current   NaN  \n",
       "1               NaN       Current        Current         Current   NaN  \n",
       "2               NaN       Current        Current         Current   NaN  \n",
       "3               NaN       Current        Current         Current   NaN  \n",
       "4               NaN       Current        Current         Current   NaN  "
      ]
     },
     "execution_count": 106,
     "metadata": {},
     "output_type": "execute_result"
    }
   ],
   "source": [
    "orgtree_concat[0:5]"
   ]
  },
  {
   "cell_type": "code",
   "execution_count": 77,
   "id": "0985caae",
   "metadata": {},
   "outputs": [],
   "source": [
    "orgtree = orgtree_concat"
   ]
  },
  {
   "cell_type": "code",
   "execution_count": 107,
   "id": "64165785",
   "metadata": {},
   "outputs": [
    {
     "data": {
      "text/html": [
       "<div>\n",
       "<style scoped>\n",
       "    .dataframe tbody tr th:only-of-type {\n",
       "        vertical-align: middle;\n",
       "    }\n",
       "\n",
       "    .dataframe tbody tr th {\n",
       "        vertical-align: top;\n",
       "    }\n",
       "\n",
       "    .dataframe thead th {\n",
       "        text-align: right;\n",
       "    }\n",
       "</style>\n",
       "<table border=\"1\" class=\"dataframe\">\n",
       "  <thead>\n",
       "    <tr style=\"text-align: right;\">\n",
       "      <th></th>\n",
       "      <th>InsideGov</th>\n",
       "      <th>PrimaryInstitution</th>\n",
       "      <th>OrgName</th>\n",
       "      <th>ImmediateSuperiorOrg</th>\n",
       "      <th>SupervisesParent</th>\n",
       "      <th>LinkToNext_PI</th>\n",
       "      <th>LinkToNext_Org</th>\n",
       "      <th>LinkToNext_Year</th>\n",
       "      <th>Notes</th>\n",
       "    </tr>\n",
       "  </thead>\n",
       "  <tbody>\n",
       "    <tr>\n",
       "      <th>0</th>\n",
       "      <td>0.0</td>\n",
       "      <td>4.15문화창작단</td>\n",
       "      <td>NaN</td>\n",
       "      <td></td>\n",
       "      <td>NaN</td>\n",
       "      <td>Current</td>\n",
       "      <td>Current</td>\n",
       "      <td>Current</td>\n",
       "      <td>NaN</td>\n",
       "    </tr>\n",
       "    <tr>\n",
       "      <th>1</th>\n",
       "      <td>0.0</td>\n",
       "      <td>6.15공동선언실천남북공동위원회북측위원회</td>\n",
       "      <td>교직원분과</td>\n",
       "      <td></td>\n",
       "      <td>NaN</td>\n",
       "      <td>Current</td>\n",
       "      <td>Current</td>\n",
       "      <td>Current</td>\n",
       "      <td>NaN</td>\n",
       "    </tr>\n",
       "    <tr>\n",
       "      <th>2</th>\n",
       "      <td>0.0</td>\n",
       "      <td>6.15공동선언실천남북공동위원회북측위원회</td>\n",
       "      <td>노동자분과</td>\n",
       "      <td></td>\n",
       "      <td>NaN</td>\n",
       "      <td>Current</td>\n",
       "      <td>Current</td>\n",
       "      <td>Current</td>\n",
       "      <td>NaN</td>\n",
       "    </tr>\n",
       "    <tr>\n",
       "      <th>3</th>\n",
       "      <td>0.0</td>\n",
       "      <td>6.15공동선언실천남북공동위원회북측위원회</td>\n",
       "      <td>농업근로자분과</td>\n",
       "      <td></td>\n",
       "      <td>NaN</td>\n",
       "      <td>Current</td>\n",
       "      <td>Current</td>\n",
       "      <td>Current</td>\n",
       "      <td>NaN</td>\n",
       "    </tr>\n",
       "    <tr>\n",
       "      <th>4</th>\n",
       "      <td>0.0</td>\n",
       "      <td>6.15공동선언실천남북공동위원회북측위원회</td>\n",
       "      <td>문학예술분과</td>\n",
       "      <td></td>\n",
       "      <td>NaN</td>\n",
       "      <td>Current</td>\n",
       "      <td>Current</td>\n",
       "      <td>Current</td>\n",
       "      <td>NaN</td>\n",
       "    </tr>\n",
       "    <tr>\n",
       "      <th>...</th>\n",
       "      <td>...</td>\n",
       "      <td>...</td>\n",
       "      <td>...</td>\n",
       "      <td>...</td>\n",
       "      <td>...</td>\n",
       "      <td>...</td>\n",
       "      <td>...</td>\n",
       "      <td>...</td>\n",
       "      <td>...</td>\n",
       "    </tr>\n",
       "    <tr>\n",
       "      <th>1382</th>\n",
       "      <td>0.0</td>\n",
       "      <td>황해제철연합기업소</td>\n",
       "      <td>NaN</td>\n",
       "      <td></td>\n",
       "      <td>NaN</td>\n",
       "      <td>Current</td>\n",
       "      <td>Current</td>\n",
       "      <td>Current</td>\n",
       "      <td>NaN</td>\n",
       "    </tr>\n",
       "    <tr>\n",
       "      <th>1383</th>\n",
       "      <td>0.0</td>\n",
       "      <td>후방군관학교</td>\n",
       "      <td>NaN</td>\n",
       "      <td></td>\n",
       "      <td>NaN</td>\n",
       "      <td>강건종합군관학교</td>\n",
       "      <td>Please_Revise</td>\n",
       "      <td>Please_Revise</td>\n",
       "      <td>NaN</td>\n",
       "    </tr>\n",
       "    <tr>\n",
       "      <th>1384</th>\n",
       "      <td>0.0</td>\n",
       "      <td>희천정밀기계공장</td>\n",
       "      <td>NaN</td>\n",
       "      <td></td>\n",
       "      <td>NaN</td>\n",
       "      <td>Current</td>\n",
       "      <td>Current</td>\n",
       "      <td>Current</td>\n",
       "      <td>NaN</td>\n",
       "    </tr>\n",
       "    <tr>\n",
       "      <th>1385</th>\n",
       "      <td>1.0</td>\n",
       "      <td>NaN</td>\n",
       "      <td>중앙방송위원회</td>\n",
       "      <td></td>\n",
       "      <td>NaN</td>\n",
       "      <td>내각</td>\n",
       "      <td>문화성_조선중앙방송위원회</td>\n",
       "      <td>Please_Revise</td>\n",
       "      <td>NaN</td>\n",
       "    </tr>\n",
       "    <tr>\n",
       "      <th>1386</th>\n",
       "      <td>Please_Revise</td>\n",
       "      <td>NaN</td>\n",
       "      <td>NaN</td>\n",
       "      <td></td>\n",
       "      <td>NaN</td>\n",
       "      <td>Please_Revise</td>\n",
       "      <td>Please_Revise</td>\n",
       "      <td>Please_Revise</td>\n",
       "      <td>NaN</td>\n",
       "    </tr>\n",
       "  </tbody>\n",
       "</table>\n",
       "<p>1387 rows × 9 columns</p>\n",
       "</div>"
      ],
      "text/plain": [
       "          InsideGov      PrimaryInstitution  OrgName ImmediateSuperiorOrg  \\\n",
       "0               0.0               4.15문화창작단      NaN                        \n",
       "1               0.0  6.15공동선언실천남북공동위원회북측위원회    교직원분과                        \n",
       "2               0.0  6.15공동선언실천남북공동위원회북측위원회    노동자분과                        \n",
       "3               0.0  6.15공동선언실천남북공동위원회북측위원회  농업근로자분과                        \n",
       "4               0.0  6.15공동선언실천남북공동위원회북측위원회   문학예술분과                        \n",
       "...             ...                     ...      ...                  ...   \n",
       "1382            0.0               황해제철연합기업소      NaN                        \n",
       "1383            0.0                  후방군관학교      NaN                        \n",
       "1384            0.0                희천정밀기계공장      NaN                        \n",
       "1385            1.0                     NaN  중앙방송위원회                        \n",
       "1386  Please_Revise                     NaN      NaN                        \n",
       "\n",
       "      SupervisesParent  LinkToNext_PI LinkToNext_Org LinkToNext_Year Notes  \n",
       "0                  NaN        Current        Current         Current   NaN  \n",
       "1                  NaN        Current        Current         Current   NaN  \n",
       "2                  NaN        Current        Current         Current   NaN  \n",
       "3                  NaN        Current        Current         Current   NaN  \n",
       "4                  NaN        Current        Current         Current   NaN  \n",
       "...                ...            ...            ...             ...   ...  \n",
       "1382               NaN        Current        Current         Current   NaN  \n",
       "1383               NaN       강건종합군관학교  Please_Revise   Please_Revise   NaN  \n",
       "1384               NaN        Current        Current         Current   NaN  \n",
       "1385               NaN             내각  문화성_조선중앙방송위원회   Please_Revise   NaN  \n",
       "1386               NaN  Please_Revise  Please_Revise   Please_Revise   NaN  \n",
       "\n",
       "[1387 rows x 9 columns]"
      ]
     },
     "execution_count": 107,
     "metadata": {},
     "output_type": "execute_result"
    }
   ],
   "source": [
    "orgtree"
   ]
  },
  {
   "cell_type": "markdown",
   "id": "f27be338",
   "metadata": {},
   "source": [
    "# Please_Revise null InsideGov and LinkToNext_"
   ]
  },
  {
   "cell_type": "code",
   "execution_count": 78,
   "id": "e839d66e",
   "metadata": {},
   "outputs": [
    {
     "data": {
      "text/plain": [
       "(24, 9)"
      ]
     },
     "execution_count": 78,
     "metadata": {},
     "output_type": "execute_result"
    }
   ],
   "source": [
    "orgtree.loc[orgtree[\"LinkToNext_PI\"].isna()].shape"
   ]
  },
  {
   "cell_type": "code",
   "execution_count": 79,
   "id": "f4e44113",
   "metadata": {},
   "outputs": [],
   "source": [
    "orgtree.loc[orgtree[\"LinkToNext_PI\"].isna(),\"LinkToNext_PI\"] = \"Please_Revise\""
   ]
  },
  {
   "cell_type": "code",
   "execution_count": 80,
   "id": "b2461262",
   "metadata": {},
   "outputs": [
    {
     "data": {
      "text/plain": [
       "(83, 9)"
      ]
     },
     "execution_count": 80,
     "metadata": {},
     "output_type": "execute_result"
    }
   ],
   "source": [
    "orgtree.loc[orgtree[\"LinkToNext_Org\"].isna()].shape"
   ]
  },
  {
   "cell_type": "code",
   "execution_count": 81,
   "id": "d6b334de",
   "metadata": {},
   "outputs": [],
   "source": [
    "orgtree.loc[orgtree[\"LinkToNext_Org\"].isna(),\"LinkToNext_Org\"] = \"Please_Revise\""
   ]
  },
  {
   "cell_type": "code",
   "execution_count": 82,
   "id": "be109231",
   "metadata": {},
   "outputs": [
    {
     "data": {
      "text/plain": [
       "(1314, 9)"
      ]
     },
     "execution_count": 82,
     "metadata": {},
     "output_type": "execute_result"
    }
   ],
   "source": [
    "orgtree.loc[orgtree[\"LinkToNext_Year\"].isna()].shape"
   ]
  },
  {
   "cell_type": "code",
   "execution_count": 83,
   "id": "e5bb444a",
   "metadata": {},
   "outputs": [],
   "source": [
    "orgtree.loc[orgtree[\"LinkToNext_Year\"].isna(),\"LinkToNext_Year\"] = \"Please_Revise\""
   ]
  },
  {
   "cell_type": "code",
   "execution_count": 84,
   "id": "543f7e98",
   "metadata": {},
   "outputs": [],
   "source": [
    "orgtree.loc[orgtree[\"LinkToNext_PI\"]==\"Current\",\"LinkToNext_Year\"] = \"Current\""
   ]
  },
  {
   "cell_type": "code",
   "execution_count": 85,
   "id": "b78cedad",
   "metadata": {},
   "outputs": [
    {
     "data": {
      "text/plain": [
       "(2, 9)"
      ]
     },
     "execution_count": 85,
     "metadata": {},
     "output_type": "execute_result"
    }
   ],
   "source": [
    "orgtree.loc[orgtree[\"InsideGov\"].isna()].shape"
   ]
  },
  {
   "cell_type": "code",
   "execution_count": 86,
   "id": "056a8930",
   "metadata": {},
   "outputs": [],
   "source": [
    "orgtree.loc[orgtree[\"InsideGov\"].isna(),\"InsideGov\"] = \"Please_Revise\""
   ]
  },
  {
   "cell_type": "code",
   "execution_count": null,
   "id": "2657644a",
   "metadata": {},
   "outputs": [],
   "source": []
  },
  {
   "cell_type": "markdown",
   "id": "ff933243",
   "metadata": {},
   "source": [
    "# double-check jol & orgtree"
   ]
  },
  {
   "cell_type": "code",
   "execution_count": 87,
   "id": "42305ff0",
   "metadata": {},
   "outputs": [],
   "source": [
    "# confirmed all jol key are in orgtree!\n",
    "\n",
    "# all exceptions are \"Uncertain\""
   ]
  },
  {
   "cell_type": "code",
   "execution_count": 88,
   "id": "bdf97cc0",
   "metadata": {},
   "outputs": [],
   "source": [
    "path_joborglink = \"C:/Users/seoul/Dropbox/00 technical/github/nkelites/data/combined data/combined data - 1 cleaning/cleaning step 2 - career/2.3 joborglink/\""
   ]
  },
  {
   "cell_type": "code",
   "execution_count": 89,
   "id": "ccf64158",
   "metadata": {},
   "outputs": [],
   "source": [
    "fileout_joborglink = \"joborglink_7_2.xlsx\""
   ]
  },
  {
   "cell_type": "code",
   "execution_count": 90,
   "id": "f40a8b24",
   "metadata": {},
   "outputs": [],
   "source": [
    "jol = pd.read_excel(path_joborglink+fileout_joborglink)"
   ]
  },
  {
   "cell_type": "code",
   "execution_count": 91,
   "id": "3e86309d",
   "metadata": {},
   "outputs": [],
   "source": [
    "merge = orgtree.merge(jol,how=\"outer\",on=[\"PrimaryInstitution\",\"OrgName\"],indicator=True)"
   ]
  },
  {
   "cell_type": "code",
   "execution_count": 92,
   "id": "2042b596",
   "metadata": {},
   "outputs": [
    {
     "data": {
      "text/plain": [
       "(1416, 12)"
      ]
     },
     "execution_count": 92,
     "metadata": {},
     "output_type": "execute_result"
    }
   ],
   "source": [
    "merge[merge[\"_merge\"]==\"both\"].shape"
   ]
  },
  {
   "cell_type": "code",
   "execution_count": 93,
   "id": "08d0f269",
   "metadata": {},
   "outputs": [
    {
     "data": {
      "text/plain": [
       "(693, 12)"
      ]
     },
     "execution_count": 93,
     "metadata": {},
     "output_type": "execute_result"
    }
   ],
   "source": [
    "merge[merge[\"_merge\"]==\"left_only\"].shape"
   ]
  },
  {
   "cell_type": "code",
   "execution_count": 94,
   "id": "c28c0885",
   "metadata": {},
   "outputs": [
    {
     "data": {
      "text/plain": [
       "(10, 12)"
      ]
     },
     "execution_count": 94,
     "metadata": {},
     "output_type": "execute_result"
    }
   ],
   "source": [
    "merge[merge[\"_merge\"]==\"right_only\"].shape"
   ]
  },
  {
   "cell_type": "code",
   "execution_count": 95,
   "id": "4e674713",
   "metadata": {},
   "outputs": [
    {
     "data": {
      "text/html": [
       "<div>\n",
       "<style scoped>\n",
       "    .dataframe tbody tr th:only-of-type {\n",
       "        vertical-align: middle;\n",
       "    }\n",
       "\n",
       "    .dataframe tbody tr th {\n",
       "        vertical-align: top;\n",
       "    }\n",
       "\n",
       "    .dataframe thead th {\n",
       "        text-align: right;\n",
       "    }\n",
       "</style>\n",
       "<table border=\"1\" class=\"dataframe\">\n",
       "  <thead>\n",
       "    <tr style=\"text-align: right;\">\n",
       "      <th></th>\n",
       "      <th>InsideGov</th>\n",
       "      <th>PrimaryInstitution</th>\n",
       "      <th>OrgName</th>\n",
       "      <th>ImmediateSuperiorOrg</th>\n",
       "      <th>SupervisesParent</th>\n",
       "      <th>LinkToNext_PI</th>\n",
       "      <th>LinkToNext_Org</th>\n",
       "      <th>LinkToNext_Year</th>\n",
       "      <th>Notes_x</th>\n",
       "      <th>OrgString</th>\n",
       "      <th>Notes_y</th>\n",
       "      <th>_merge</th>\n",
       "    </tr>\n",
       "  </thead>\n",
       "  <tbody>\n",
       "    <tr>\n",
       "      <th>2109</th>\n",
       "      <td>NaN</td>\n",
       "      <td>Uncertain</td>\n",
       "      <td>Uncertain</td>\n",
       "      <td>NaN</td>\n",
       "      <td>NaN</td>\n",
       "      <td>NaN</td>\n",
       "      <td>NaN</td>\n",
       "      <td>NaN</td>\n",
       "      <td>NaN</td>\n",
       "      <td>노동당 기계공업협회</td>\n",
       "      <td>기계공업부; 비고: 당중앙위원회?</td>\n",
       "      <td>right_only</td>\n",
       "    </tr>\n",
       "    <tr>\n",
       "      <th>2110</th>\n",
       "      <td>NaN</td>\n",
       "      <td>Uncertain</td>\n",
       "      <td>Uncertain</td>\n",
       "      <td>NaN</td>\n",
       "      <td>NaN</td>\n",
       "      <td>NaN</td>\n",
       "      <td>NaN</td>\n",
       "      <td>NaN</td>\n",
       "      <td>NaN</td>\n",
       "      <td>노동당 중공업부</td>\n",
       "      <td>중앙위원회-&gt;중앙인민위원회; 비고: 중앙인민위원회 is a PrimaryInstit...</td>\n",
       "      <td>right_only</td>\n",
       "    </tr>\n",
       "    <tr>\n",
       "      <th>2111</th>\n",
       "      <td>NaN</td>\n",
       "      <td>Uncertain</td>\n",
       "      <td>Uncertain</td>\n",
       "      <td>NaN</td>\n",
       "      <td>NaN</td>\n",
       "      <td>NaN</td>\n",
       "      <td>NaN</td>\n",
       "      <td>NaN</td>\n",
       "      <td>NaN</td>\n",
       "      <td>노동당 중앙인민위원회 중공업부 제1부</td>\n",
       "      <td>1부 Not found; 비고: 중앙인민위원회 is a PrimaryInstitut...</td>\n",
       "      <td>right_only</td>\n",
       "    </tr>\n",
       "    <tr>\n",
       "      <th>2112</th>\n",
       "      <td>NaN</td>\n",
       "      <td>Uncertain</td>\n",
       "      <td>Uncertain</td>\n",
       "      <td>NaN</td>\n",
       "      <td>NaN</td>\n",
       "      <td>NaN</td>\n",
       "      <td>NaN</td>\n",
       "      <td>NaN</td>\n",
       "      <td>NaN</td>\n",
       "      <td>당 기계공업부</td>\n",
       "      <td>NaN</td>\n",
       "      <td>right_only</td>\n",
       "    </tr>\n",
       "    <tr>\n",
       "      <th>2113</th>\n",
       "      <td>NaN</td>\n",
       "      <td>Uncertain</td>\n",
       "      <td>Uncertain</td>\n",
       "      <td>NaN</td>\n",
       "      <td>NaN</td>\n",
       "      <td>NaN</td>\n",
       "      <td>NaN</td>\n",
       "      <td>NaN</td>\n",
       "      <td>NaN</td>\n",
       "      <td>당 중공업부</td>\n",
       "      <td>NaN</td>\n",
       "      <td>right_only</td>\n",
       "    </tr>\n",
       "    <tr>\n",
       "      <th>2114</th>\n",
       "      <td>NaN</td>\n",
       "      <td>Uncertain</td>\n",
       "      <td>Uncertain</td>\n",
       "      <td>NaN</td>\n",
       "      <td>NaN</td>\n",
       "      <td>NaN</td>\n",
       "      <td>NaN</td>\n",
       "      <td>NaN</td>\n",
       "      <td>NaN</td>\n",
       "      <td>전자자동화공업위원회</td>\n",
       "      <td>NaN</td>\n",
       "      <td>right_only</td>\n",
       "    </tr>\n",
       "    <tr>\n",
       "      <th>2115</th>\n",
       "      <td>NaN</td>\n",
       "      <td>Uncertain</td>\n",
       "      <td>Uncertain</td>\n",
       "      <td>NaN</td>\n",
       "      <td>NaN</td>\n",
       "      <td>NaN</td>\n",
       "      <td>NaN</td>\n",
       "      <td>NaN</td>\n",
       "      <td>NaN</td>\n",
       "      <td>전자자동화공업위원회 기술국</td>\n",
       "      <td>기술국 Not found; 비고: PrimaryInstitution?</td>\n",
       "      <td>right_only</td>\n",
       "    </tr>\n",
       "    <tr>\n",
       "      <th>2116</th>\n",
       "      <td>NaN</td>\n",
       "      <td>Uncertain</td>\n",
       "      <td>Uncertain</td>\n",
       "      <td>NaN</td>\n",
       "      <td>NaN</td>\n",
       "      <td>NaN</td>\n",
       "      <td>NaN</td>\n",
       "      <td>NaN</td>\n",
       "      <td>NaN</td>\n",
       "      <td>전자자동화공업위원회 제1부</td>\n",
       "      <td>1부 Not found; 비고: PrimaryInstitution?</td>\n",
       "      <td>right_only</td>\n",
       "    </tr>\n",
       "    <tr>\n",
       "      <th>2117</th>\n",
       "      <td>NaN</td>\n",
       "      <td>Uncertain</td>\n",
       "      <td>Uncertain</td>\n",
       "      <td>NaN</td>\n",
       "      <td>NaN</td>\n",
       "      <td>NaN</td>\n",
       "      <td>NaN</td>\n",
       "      <td>NaN</td>\n",
       "      <td>NaN</td>\n",
       "      <td>제2집단군</td>\n",
       "      <td>NaN</td>\n",
       "      <td>right_only</td>\n",
       "    </tr>\n",
       "    <tr>\n",
       "      <th>2118</th>\n",
       "      <td>NaN</td>\n",
       "      <td>노동당</td>\n",
       "      <td>Uncertain</td>\n",
       "      <td>NaN</td>\n",
       "      <td>NaN</td>\n",
       "      <td>NaN</td>\n",
       "      <td>NaN</td>\n",
       "      <td>NaN</td>\n",
       "      <td>NaN</td>\n",
       "      <td>당 연락부</td>\n",
       "      <td>Check the year. 문화연락부, 대남연락부, 대외연락부</td>\n",
       "      <td>right_only</td>\n",
       "    </tr>\n",
       "  </tbody>\n",
       "</table>\n",
       "</div>"
      ],
      "text/plain": [
       "     InsideGov PrimaryInstitution    OrgName ImmediateSuperiorOrg  \\\n",
       "2109       NaN          Uncertain  Uncertain                  NaN   \n",
       "2110       NaN          Uncertain  Uncertain                  NaN   \n",
       "2111       NaN          Uncertain  Uncertain                  NaN   \n",
       "2112       NaN          Uncertain  Uncertain                  NaN   \n",
       "2113       NaN          Uncertain  Uncertain                  NaN   \n",
       "2114       NaN          Uncertain  Uncertain                  NaN   \n",
       "2115       NaN          Uncertain  Uncertain                  NaN   \n",
       "2116       NaN          Uncertain  Uncertain                  NaN   \n",
       "2117       NaN          Uncertain  Uncertain                  NaN   \n",
       "2118       NaN                노동당  Uncertain                  NaN   \n",
       "\n",
       "      SupervisesParent LinkToNext_PI LinkToNext_Org LinkToNext_Year Notes_x  \\\n",
       "2109               NaN           NaN            NaN             NaN     NaN   \n",
       "2110               NaN           NaN            NaN             NaN     NaN   \n",
       "2111               NaN           NaN            NaN             NaN     NaN   \n",
       "2112               NaN           NaN            NaN             NaN     NaN   \n",
       "2113               NaN           NaN            NaN             NaN     NaN   \n",
       "2114               NaN           NaN            NaN             NaN     NaN   \n",
       "2115               NaN           NaN            NaN             NaN     NaN   \n",
       "2116               NaN           NaN            NaN             NaN     NaN   \n",
       "2117               NaN           NaN            NaN             NaN     NaN   \n",
       "2118               NaN           NaN            NaN             NaN     NaN   \n",
       "\n",
       "                 OrgString                                            Notes_y  \\\n",
       "2109            노동당 기계공업협회                                 기계공업부; 비고: 당중앙위원회?   \n",
       "2110              노동당 중공업부  중앙위원회->중앙인민위원회; 비고: 중앙인민위원회 is a PrimaryInstit...   \n",
       "2111  노동당 중앙인민위원회 중공업부 제1부  1부 Not found; 비고: 중앙인민위원회 is a PrimaryInstitut...   \n",
       "2112               당 기계공업부                                                NaN   \n",
       "2113                당 중공업부                                                NaN   \n",
       "2114            전자자동화공업위원회                                                NaN   \n",
       "2115        전자자동화공업위원회 기술국             기술국 Not found; 비고: PrimaryInstitution?   \n",
       "2116        전자자동화공업위원회 제1부              1부 Not found; 비고: PrimaryInstitution?   \n",
       "2117                 제2집단군                                                NaN   \n",
       "2118                 당 연락부                Check the year. 문화연락부, 대남연락부, 대외연락부   \n",
       "\n",
       "          _merge  \n",
       "2109  right_only  \n",
       "2110  right_only  \n",
       "2111  right_only  \n",
       "2112  right_only  \n",
       "2113  right_only  \n",
       "2114  right_only  \n",
       "2115  right_only  \n",
       "2116  right_only  \n",
       "2117  right_only  \n",
       "2118  right_only  "
      ]
     },
     "execution_count": 95,
     "metadata": {},
     "output_type": "execute_result"
    }
   ],
   "source": [
    "merge[merge[\"_merge\"]==\"right_only\"]"
   ]
  },
  {
   "cell_type": "code",
   "execution_count": null,
   "id": "cdc7e3b0",
   "metadata": {},
   "outputs": [],
   "source": []
  },
  {
   "cell_type": "markdown",
   "id": "a0021458",
   "metadata": {},
   "source": [
    "# export orgtree"
   ]
  },
  {
   "cell_type": "code",
   "execution_count": null,
   "id": "eb82652d",
   "metadata": {},
   "outputs": [],
   "source": []
  },
  {
   "cell_type": "code",
   "execution_count": 96,
   "id": "164b7b54",
   "metadata": {},
   "outputs": [],
   "source": [
    "# orgtree.to_excel(path_orgtree+fileout_orgtree,index=False)"
   ]
  },
  {
   "cell_type": "code",
   "execution_count": null,
   "id": "983ab129",
   "metadata": {},
   "outputs": [],
   "source": []
  }
 ],
 "metadata": {
  "kernelspec": {
   "display_name": "Python 3 (ipykernel)",
   "language": "python",
   "name": "python3"
  },
  "language_info": {
   "codemirror_mode": {
    "name": "ipython",
    "version": 3
   },
   "file_extension": ".py",
   "mimetype": "text/x-python",
   "name": "python",
   "nbconvert_exporter": "python",
   "pygments_lexer": "ipython3",
   "version": "3.11.0"
  }
 },
 "nbformat": 4,
 "nbformat_minor": 5
}
