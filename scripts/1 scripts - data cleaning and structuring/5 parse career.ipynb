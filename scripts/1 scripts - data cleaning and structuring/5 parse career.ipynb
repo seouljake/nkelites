{
 "cells": [
  {
   "cell_type": "code",
   "execution_count": 1,
   "metadata": {},
   "outputs": [],
   "source": [
    "import pandas as pd\n"
   ]
  },
  {
   "cell_type": "code",
   "execution_count": 2,
   "metadata": {},
   "outputs": [],
   "source": [
    "path_to_parse = \"../../data/combined data/combined data - 1 cleaning/\""
   ]
  },
  {
   "cell_type": "code",
   "execution_count": 18,
   "metadata": {},
   "outputs": [],
   "source": [
    "leaders = pd.read_csv(path_to_parse+\"leaders_toparse.csv\")\n",
    "family = pd.read_csv(path_to_parse+\"family_toparse.csv\")\n",
    "education = pd.read_excel(path_to_parse+\"education_toparse.xlsx\",dtype=None)\n",
    "career_everything = pd.read_csv(path_to_parse+\"career_everything_toparse.csv\")"
   ]
  },
  {
   "cell_type": "code",
   "execution_count": 20,
   "metadata": {},
   "outputs": [
    {
     "data": {
      "text/plain": [
       "0      807.0\n",
       "1      807.0\n",
       "2      807.0\n",
       "3      807.0\n",
       "4      430.0\n",
       "       ...  \n",
       "810    706.0\n",
       "811    707.0\n",
       "812    711.0\n",
       "813    799.0\n",
       "814    804.0\n",
       "Name: MOUID_2015, Length: 815, dtype: float64"
      ]
     },
     "execution_count": 20,
     "metadata": {},
     "output_type": "execute_result"
    }
   ],
   "source": [
    "education.MOUID_2015"
   ]
  },
  {
   "cell_type": "code",
   "execution_count": null,
   "metadata": {},
   "outputs": [],
   "source": []
  }
 ],
 "metadata": {
  "kernelspec": {
   "display_name": "Python 3",
   "language": "python",
   "name": "python3"
  },
  "language_info": {
   "codemirror_mode": {
    "name": "ipython",
    "version": 3
   },
   "file_extension": ".py",
   "mimetype": "text/x-python",
   "name": "python",
   "nbconvert_exporter": "python",
   "pygments_lexer": "ipython3",
   "version": "3.7.3"
  }
 },
 "nbformat": 4,
 "nbformat_minor": 4
}
