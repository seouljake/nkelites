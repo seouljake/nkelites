{
 "cells": [
  {
   "cell_type": "code",
   "execution_count": 1,
   "id": "74698cf3",
   "metadata": {},
   "outputs": [],
   "source": [
    "import pandas as pd\n",
    "import numpy as np"
   ]
  },
  {
   "cell_type": "markdown",
   "id": "31428185",
   "metadata": {},
   "source": [
    "# Tables\n",
    "\n",
    "### 1. LeaderCareerLink (LeaderID, CareerString, CareerDateString_2022)\n",
    "\n",
    "matches LeaderID with (CareerString, CareerDateString_2022)\n",
    "\n",
    "- LeaderID\n",
    "- CareerString\n",
    "- CareerDateString_2022\n",
    "\n",
    "### 2. CareerOrgLink (CareerString, CareerDateString_2022, CareerSubstring)\n",
    "\n",
    "matches (CareerString,CareerDateString_2022,CareerSubstring) with (InstitutionType,PrimaryInstitution,OrgName,Position)\n",
    "\n",
    "- CareerString\n",
    "- CareerDateString_2022\n",
    "- IsJob\n",
    "- MultipleSubstrings\n",
    "- CareerStartYear\n",
    "- CareerStartMonth\n",
    "- CareerSubstring\n",
    "- OrgString\n",
    "- InstitutionType\n",
    "- PrimaryInstitution\n",
    "- OrgName\n",
    "- Position\n",
    "- Notes\n",
    "\n",
    "### 3. Orgtree (InstitutionType, PrimaryInstitution, OrgName)*\n",
    "\n",
    "contains variables relevant to all (PI, Org) including PI/Org Types, Positions, Org/Pos Ranks, PI/Org Links, Aliases\n",
    "\n",
    "- InstitutionType\n",
    "- OrgType\n",
    "- PrimaryInstitution\n",
    "- OrgName\n",
    "- PI_Index\n",
    "- OrgRank\n",
    "- P1\n",
    "- P2\n",
    "- P3\n",
    "- LinkToNext_PI\n",
    "- LinkToNext_Org\n",
    "- LinkToNext_Year\n",
    "- Alias_OrgName\n",
    "- Notes"
   ]
  },
  {
   "cell_type": "code",
   "execution_count": 2,
   "id": "f2c9c339",
   "metadata": {},
   "outputs": [],
   "source": [
    "path_tables = \"C:/Users/seoul/Dropbox/00 technical/github/nkelites/data/combined data/combined data - 2 tables/\""
   ]
  },
  {
   "cell_type": "code",
   "execution_count": 3,
   "id": "b7d9b165",
   "metadata": {},
   "outputs": [
    {
     "data": {
      "text/plain": [
       "(9002, 13)"
      ]
     },
     "execution_count": 3,
     "metadata": {},
     "output_type": "execute_result"
    }
   ],
   "source": [
    "filename_careerorglink = \"careerorglink.xlsx\"\n",
    "\n",
    "col = pd.read_excel(path_tables + filename_careerorglink,dtype=\"str\")\n",
    "col.shape"
   ]
  },
  {
   "cell_type": "code",
   "execution_count": 4,
   "id": "bc29520c",
   "metadata": {},
   "outputs": [
    {
     "data": {
      "text/html": [
       "<div>\n",
       "<style scoped>\n",
       "    .dataframe tbody tr th:only-of-type {\n",
       "        vertical-align: middle;\n",
       "    }\n",
       "\n",
       "    .dataframe tbody tr th {\n",
       "        vertical-align: top;\n",
       "    }\n",
       "\n",
       "    .dataframe thead th {\n",
       "        text-align: right;\n",
       "    }\n",
       "</style>\n",
       "<table border=\"1\" class=\"dataframe\">\n",
       "  <thead>\n",
       "    <tr style=\"text-align: right;\">\n",
       "      <th></th>\n",
       "      <th>CareerString</th>\n",
       "      <th>CareerDateString_2022</th>\n",
       "      <th>IsJob</th>\n",
       "      <th>MultipleSubstrings</th>\n",
       "      <th>CareerStartYear</th>\n",
       "      <th>CareerStartMonth</th>\n",
       "      <th>CareerSubstring</th>\n",
       "      <th>OrgString</th>\n",
       "      <th>InstitutionType</th>\n",
       "      <th>PrimaryInstitution</th>\n",
       "      <th>OrgName</th>\n",
       "      <th>Position</th>\n",
       "      <th>Notes</th>\n",
       "    </tr>\n",
       "  </thead>\n",
       "  <tbody>\n",
       "  </tbody>\n",
       "</table>\n",
       "</div>"
      ],
      "text/plain": [
       "Empty DataFrame\n",
       "Columns: [CareerString, CareerDateString_2022, IsJob, MultipleSubstrings, CareerStartYear, CareerStartMonth, CareerSubstring, OrgString, InstitutionType, PrimaryInstitution, OrgName, Position, Notes]\n",
       "Index: []"
      ]
     },
     "execution_count": 4,
     "metadata": {},
     "output_type": "execute_result"
    }
   ],
   "source": [
    "col[col[\"CareerString\"].isna()]"
   ]
  },
  {
   "cell_type": "code",
   "execution_count": 5,
   "id": "1c1ab934",
   "metadata": {},
   "outputs": [],
   "source": [
    "filename_leadercareerlink = \"leadercareerlink.xlsx\""
   ]
  },
  {
   "cell_type": "code",
   "execution_count": 6,
   "id": "f86d0874",
   "metadata": {},
   "outputs": [],
   "source": [
    "# deprecated\n",
    "\n",
    "# filename_careers = \"careers.xlsx\"\n",
    "# filename_leaderjoblink = \"leaderjoblink.xlsx\"\n",
    "# filename_joborglink = \"joborglink.xlsx\""
   ]
  },
  {
   "cell_type": "code",
   "execution_count": 7,
   "id": "09c3c30a",
   "metadata": {},
   "outputs": [],
   "source": [
    "# filenames of tables to output\n",
    "\n",
    "filename_orgtree = \"orgtree.xlsx\""
   ]
  },
  {
   "cell_type": "markdown",
   "id": "c2a10c37",
   "metadata": {},
   "source": [
    "# Data - initial orgtree + manually cleaned data in 2.7 orgtree position & rank"
   ]
  },
  {
   "cell_type": "code",
   "execution_count": 8,
   "id": "a9386ddd",
   "metadata": {},
   "outputs": [],
   "source": [
    "path_cleaning = \"C:/Users/seoul/Dropbox/00 technical/github/nkelites/data/combined data/combined data - 1 cleaning/cleaning step 2 - career/\""
   ]
  },
  {
   "cell_type": "code",
   "execution_count": 9,
   "id": "ea8288fa",
   "metadata": {},
   "outputs": [],
   "source": [
    "subpath_2_1 = \"2.1 career_undivided_unparsed_uncoded/\"\n",
    "subpath_2_2 = \"2.2 career_divided_unparsed_uncoded/\"\n",
    "subpath_2_3 = \"2.3 joborglink/\"\n",
    "subpath_2_4 = \"2.4 orgtree/\"\n",
    "subpath_2_5 = \"2.5 position/\"\n",
    "subpath_2_6 = \"2.6 career_reassembled/\"\n",
    "subpath_2_7 = \"2.7 orgtree position & rank/\""
   ]
  },
  {
   "cell_type": "code",
   "execution_count": 10,
   "id": "83143cac",
   "metadata": {},
   "outputs": [
    {
     "data": {
      "text/plain": [
       "(2267, 23)"
      ]
     },
     "execution_count": 10,
     "metadata": {},
     "output_type": "execute_result"
    }
   ],
   "source": [
    "# 1.1 orgtree_position_rank\n",
    "\n",
    "# constructing new file from:\n",
    "## 2022 북한_기관별_인명록_북한정보포털 게재용\n",
    "## orgtree table\n",
    "\n",
    "filein_opr = \"1.1 orgtree_position_rank.xlsx\"\n",
    "opr = pd.read_excel(path_cleaning + subpath_2_7 + filein_opr,dtype=\"str\")\n",
    "opr.shape"
   ]
  },
  {
   "cell_type": "code",
   "execution_count": 11,
   "id": "3ffea89a",
   "metadata": {},
   "outputs": [
    {
     "data": {
      "text/html": [
       "<div>\n",
       "<style scoped>\n",
       "    .dataframe tbody tr th:only-of-type {\n",
       "        vertical-align: middle;\n",
       "    }\n",
       "\n",
       "    .dataframe tbody tr th {\n",
       "        vertical-align: top;\n",
       "    }\n",
       "\n",
       "    .dataframe thead th {\n",
       "        text-align: right;\n",
       "    }\n",
       "</style>\n",
       "<table border=\"1\" class=\"dataframe\">\n",
       "  <thead>\n",
       "    <tr style=\"text-align: right;\">\n",
       "      <th></th>\n",
       "      <th>InsideGov</th>\n",
       "      <th>InstitutionType</th>\n",
       "      <th>OrgType</th>\n",
       "      <th>PrimaryInstitution</th>\n",
       "      <th>OrgName</th>\n",
       "      <th>PI_Index</th>\n",
       "      <th>OrgRank</th>\n",
       "      <th>P1</th>\n",
       "      <th>P2</th>\n",
       "      <th>P3</th>\n",
       "      <th>...</th>\n",
       "      <th>Notes</th>\n",
       "      <th>L1_Index</th>\n",
       "      <th>L2_Index</th>\n",
       "      <th>L3_Index</th>\n",
       "      <th>L4_Index</th>\n",
       "      <th>L5_Index</th>\n",
       "      <th>Change_InstitutionType</th>\n",
       "      <th>Change_PI</th>\n",
       "      <th>Change_OrgName</th>\n",
       "      <th>Alias_OrgName</th>\n",
       "    </tr>\n",
       "  </thead>\n",
       "  <tbody>\n",
       "    <tr>\n",
       "      <th>0</th>\n",
       "      <td>1</td>\n",
       "      <td>인민군</td>\n",
       "      <td>NaN</td>\n",
       "      <td>총참모부</td>\n",
       "      <td>김일성군사종합대학</td>\n",
       "      <td>11.201.0.0</td>\n",
       "      <td>2</td>\n",
       "      <td>NaN</td>\n",
       "      <td>NaN</td>\n",
       "      <td>NaN</td>\n",
       "      <td>...</td>\n",
       "      <td>NaN</td>\n",
       "      <td>11</td>\n",
       "      <td>3</td>\n",
       "      <td>201</td>\n",
       "      <td>0</td>\n",
       "      <td>0</td>\n",
       "      <td>인민군</td>\n",
       "      <td>김일성군사종합대학</td>\n",
       "      <td>NaN</td>\n",
       "      <td>NaN</td>\n",
       "    </tr>\n",
       "    <tr>\n",
       "      <th>1</th>\n",
       "      <td>1</td>\n",
       "      <td>인민군</td>\n",
       "      <td>NaN</td>\n",
       "      <td>호위사령부</td>\n",
       "      <td>평양방어사령부</td>\n",
       "      <td>11.0.0.0</td>\n",
       "      <td>2</td>\n",
       "      <td>NaN</td>\n",
       "      <td>NaN</td>\n",
       "      <td>NaN</td>\n",
       "      <td>...</td>\n",
       "      <td>NaN</td>\n",
       "      <td>11</td>\n",
       "      <td>8</td>\n",
       "      <td>201</td>\n",
       "      <td>0</td>\n",
       "      <td>0</td>\n",
       "      <td>인민군</td>\n",
       "      <td>제91수도방어군단</td>\n",
       "      <td>NaN</td>\n",
       "      <td>NaN</td>\n",
       "    </tr>\n",
       "  </tbody>\n",
       "</table>\n",
       "<p>2 rows × 23 columns</p>\n",
       "</div>"
      ],
      "text/plain": [
       "  InsideGov InstitutionType OrgType PrimaryInstitution    OrgName    PI_Index  \\\n",
       "0         1             인민군     NaN               총참모부  김일성군사종합대학  11.201.0.0   \n",
       "1         1             인민군     NaN              호위사령부    평양방어사령부    11.0.0.0   \n",
       "\n",
       "  OrgRank   P1   P2   P3  ... Notes L1_Index L2_Index L3_Index L4_Index  \\\n",
       "0       2  NaN  NaN  NaN  ...   NaN       11        3      201        0   \n",
       "1       2  NaN  NaN  NaN  ...   NaN       11        8      201        0   \n",
       "\n",
       "  L5_Index Change_InstitutionType  Change_PI Change_OrgName Alias_OrgName  \n",
       "0        0                    인민군  김일성군사종합대학            NaN           NaN  \n",
       "1        0                    인민군  제91수도방어군단            NaN           NaN  \n",
       "\n",
       "[2 rows x 23 columns]"
      ]
     },
     "execution_count": 11,
     "metadata": {},
     "output_type": "execute_result"
    }
   ],
   "source": [
    "opr.head(2)"
   ]
  },
  {
   "cell_type": "code",
   "execution_count": 12,
   "id": "614bfa3a",
   "metadata": {},
   "outputs": [],
   "source": [
    "# orgtree_copy\n",
    "\n",
    "# copy of orgtree table\n",
    "\n",
    "# filein_ot = \"orgtree_copy.xlsx\"\n",
    "# ot = pd.read_excel(path_cleaning + subpath_2_7 + filein_ot,dtype=\"str\")\n",
    "# ot.shape"
   ]
  },
  {
   "cell_type": "code",
   "execution_count": 13,
   "id": "6a6c73b3",
   "metadata": {},
   "outputs": [],
   "source": [
    "# 2.0_mismatch_\n",
    "\n",
    "# 2.0_mismatch_정권_1_Esther\n",
    "# 2.0_mismatch_정권_1_Jeongsu\n",
    "# 2.0_mismatch_당_1_Esther_August.6.ES\n",
    "# 2.0_mismatch_당_1_Jeongsu\n",
    "# 2.0_mismatch_군및기타_1_ingov_JS\n",
    "# 2.0_mismatch_군및기타_1_outgov_JR\n",
    "\n",
    "# mismatch_filenames = [\n",
    "#     \"2.0_mismatch_정권_2_Jacob.xlsx\",\n",
    "#     \"2.0_mismatch_당_2_Jacob.xlsx\",\n",
    "#     \"2.0_mismatch_군및기타_1_ingov_JS.xlsx\",\n",
    "#     \"2.0_mismatch_군및기타_1_outgov_JR.xlsx\"\n",
    "# ]"
   ]
  },
  {
   "cell_type": "code",
   "execution_count": 14,
   "id": "90ace8c6",
   "metadata": {},
   "outputs": [],
   "source": [
    "# select columns in mismatch dfs\n",
    "\n",
    "# mismatch_columns = [\"CareerString\", \"CareerStartYear\", \"MultipleSubstrings\", \"CareerSubstring\", \"IsJob\",\n",
    "#                     \"InstitutionType\", \"PrimaryInstitution\", \"OrgName\", \"Position\", \"LinkToNext_Year\",\n",
    "#                     \"Resolution\", \"Change_PI\", \"Change_OrgName\", \"Change_Position\",\"Notes\"]"
   ]
  },
  {
   "cell_type": "code",
   "execution_count": 15,
   "id": "ed14fc61",
   "metadata": {},
   "outputs": [],
   "source": [
    "# read in mismatch dfs\n",
    "\n",
    "# m_dfs = []\n",
    "\n",
    "# for filename in mismatch_filenames:\n",
    "#     df = pd.read_excel(path_cleaning + subpath_2_7 + filename,sheet_name=\"Sheet1\",dtype=\"str\")\n",
    "#     df = df[mismatch_columns]\n",
    "#     print(df.shape)\n",
    "#     m_dfs.append(df)\n",
    "\n",
    "# print(len(m_dfs))"
   ]
  },
  {
   "cell_type": "code",
   "execution_count": 16,
   "id": "f220092e",
   "metadata": {},
   "outputs": [
    {
     "data": {
      "text/plain": [
       "(2245, 15)"
      ]
     },
     "execution_count": 16,
     "metadata": {},
     "output_type": "execute_result"
    }
   ],
   "source": [
    "filename_mismatch = \"2.1_mismatch_통합_0.xlsx\"\n",
    "\n",
    "m = pd.read_excel(path_cleaning + subpath_2_7 + filename_mismatch,dtype=\"str\")\n",
    "m.shape"
   ]
  },
  {
   "cell_type": "code",
   "execution_count": 17,
   "id": "273b64d9",
   "metadata": {},
   "outputs": [
    {
     "data": {
      "text/html": [
       "<div>\n",
       "<style scoped>\n",
       "    .dataframe tbody tr th:only-of-type {\n",
       "        vertical-align: middle;\n",
       "    }\n",
       "\n",
       "    .dataframe tbody tr th {\n",
       "        vertical-align: top;\n",
       "    }\n",
       "\n",
       "    .dataframe thead th {\n",
       "        text-align: right;\n",
       "    }\n",
       "</style>\n",
       "<table border=\"1\" class=\"dataframe\">\n",
       "  <thead>\n",
       "    <tr style=\"text-align: right;\">\n",
       "      <th></th>\n",
       "      <th>CareerString</th>\n",
       "      <th>CareerStartYear</th>\n",
       "      <th>MultipleSubstrings</th>\n",
       "      <th>CareerSubstring</th>\n",
       "      <th>IsJob</th>\n",
       "      <th>InstitutionType</th>\n",
       "      <th>PrimaryInstitution</th>\n",
       "      <th>OrgName</th>\n",
       "      <th>Position</th>\n",
       "      <th>LinkToNext_Year</th>\n",
       "      <th>Resolution</th>\n",
       "      <th>Change_PI</th>\n",
       "      <th>Change_OrgName</th>\n",
       "      <th>Change_Position</th>\n",
       "      <th>Notes</th>\n",
       "    </tr>\n",
       "  </thead>\n",
       "  <tbody>\n",
       "    <tr>\n",
       "      <th>0</th>\n",
       "      <td>유엔 주재 대표부 1등서기관</td>\n",
       "      <td>1975</td>\n",
       "      <td>1</td>\n",
       "      <td>NaN</td>\n",
       "      <td>True</td>\n",
       "      <td>정권기관</td>\n",
       "      <td>내각</td>\n",
       "      <td>외무성_유엔대표부</td>\n",
       "      <td>1등서기관</td>\n",
       "      <td>Current</td>\n",
       "      <td>3. OrgName &amp; Position ok. Add Position to P3</td>\n",
       "      <td>NaN</td>\n",
       "      <td>NaN</td>\n",
       "      <td>NaN</td>\n",
       "      <td>NaN</td>\n",
       "    </tr>\n",
       "    <tr>\n",
       "      <th>1</th>\n",
       "      <td>1975.10 유엔주재 북한대표부 1등서기관</td>\n",
       "      <td>1975</td>\n",
       "      <td>1</td>\n",
       "      <td>NaN</td>\n",
       "      <td>True</td>\n",
       "      <td>정권기관</td>\n",
       "      <td>내각</td>\n",
       "      <td>외무성_유엔대표부</td>\n",
       "      <td>1등서기관</td>\n",
       "      <td>Current</td>\n",
       "      <td>3. OrgName &amp; Position ok. Add Position to P3</td>\n",
       "      <td>NaN</td>\n",
       "      <td>NaN</td>\n",
       "      <td>NaN</td>\n",
       "      <td>NaN</td>\n",
       "    </tr>\n",
       "  </tbody>\n",
       "</table>\n",
       "</div>"
      ],
      "text/plain": [
       "               CareerString CareerStartYear MultipleSubstrings  \\\n",
       "0           유엔 주재 대표부 1등서기관            1975                  1   \n",
       "1  1975.10 유엔주재 북한대표부 1등서기관            1975                  1   \n",
       "\n",
       "  CareerSubstring IsJob InstitutionType PrimaryInstitution    OrgName  \\\n",
       "0             NaN  True            정권기관                 내각  외무성_유엔대표부   \n",
       "1             NaN  True            정권기관                 내각  외무성_유엔대표부   \n",
       "\n",
       "  Position LinkToNext_Year                                    Resolution  \\\n",
       "0    1등서기관         Current  3. OrgName & Position ok. Add Position to P3   \n",
       "1    1등서기관         Current  3. OrgName & Position ok. Add Position to P3   \n",
       "\n",
       "  Change_PI Change_OrgName Change_Position Notes  \n",
       "0       NaN            NaN             NaN   NaN  \n",
       "1       NaN            NaN             NaN   NaN  "
      ]
     },
     "execution_count": 17,
     "metadata": {},
     "output_type": "execute_result"
    }
   ],
   "source": [
    "m.head(2)"
   ]
  },
  {
   "cell_type": "markdown",
   "id": "1c8c6302",
   "metadata": {},
   "source": [
    "# Functions: format orgtree"
   ]
  },
  {
   "cell_type": "code",
   "execution_count": 18,
   "id": "3b85b568",
   "metadata": {},
   "outputs": [],
   "source": [
    "# using this on (PI,OrgName) will ensure unique & non-null keys\n",
    "# using this on a larger df will ensure unique rows and non-null keys, but not unique keys\n",
    "\n",
    "def unique_non_null_rows(olddf):\n",
    "    \n",
    "    df = olddf.copy()\n",
    "    \n",
    "    \n",
    "    ### drop duplicates\n",
    "    df = df.drop_duplicates(keep=\"first\",ignore_index=True)\n",
    "\n",
    "    ### drop null rows\n",
    "    df.dropna(how=\"all\",axis=0,inplace=True)\n",
    "    \n",
    "    # drop rows with null PI\n",
    "    df = df[~(df[\"PrimaryInstitution\"].isna())]\n",
    "        \n",
    "    ### drop rows where PI contains stop words\n",
    "    stop_words_lower = [\"uncertain\",\"current\",\"deprecated\",\"please_revise\"]\n",
    "    df = df[ ~ df[\"PrimaryInstitution\"].str.lower().isin(stop_words_lower)]\n",
    "            \n",
    "\n",
    "    print(\"\\nUnique Non-null Rows...\")\n",
    "    print(\"\")\n",
    "    print(\"\\tNon-unique rows:\",olddf.shape)\n",
    "    print(\"\\tUnique rows    :\",df.shape)\n",
    "\n",
    "    ### sort\n",
    "    df = df.sort_values([\"PrimaryInstitution\",\"OrgName\"])\n",
    "    \n",
    "    return df"
   ]
  },
  {
   "cell_type": "code",
   "execution_count": 19,
   "id": "9e7c6ad4",
   "metadata": {},
   "outputs": [],
   "source": [
    "def verify_unique_rows(df):\n",
    "    \n",
    "    key_columns = [\"PrimaryInstitution\",\"OrgName\"]\n",
    "    print(\"\\nVerifying Unique Rows...\")\n",
    "    print(\"\")\n",
    "    print(\"\\tDuplicate Rows:\",df[df.duplicated(keep=False)].shape)\n",
    "    print(\"\\tDuplicate Keys:\",df[df.duplicated(key_columns,keep=False)].shape)\n",
    "    print(\"\\tNull Rows     :\",df[df[\"PrimaryInstitution\"].isna() & df[\"OrgName\"].isna()].shape)"
   ]
  },
  {
   "cell_type": "code",
   "execution_count": 20,
   "id": "118e1cab",
   "metadata": {},
   "outputs": [],
   "source": [
    "def merge_results(m):\n",
    "    \n",
    "    print(\"\\nMerge Results...\")\n",
    "    print(\"\")\n",
    "    print(\"\\tshape     :\",m.shape)\n",
    "    print(\"\\tleft_only :\",m[m[\"_merge\"]==\"left_only\"].shape)\n",
    "    print(\"\\tboth      :\",m[m[\"_merge\"]==\"both\"].shape)\n",
    "    print(\"\\tright_only:\",m[m[\"_merge\"]==\"right_only\"].shape)"
   ]
  },
  {
   "cell_type": "code",
   "execution_count": 21,
   "id": "cebce4e4",
   "metadata": {},
   "outputs": [],
   "source": [
    "def update_opr_index(opr,max_level):\n",
    "    \n",
    "    # create and clear out existing Level Indicies\n",
    "    opr[\"OrgRank\"]=np.nan\n",
    "    opr[\"L1_Index\"]=np.nan\n",
    "    opr[\"L2_Index\"]=np.nan\n",
    "    opr[\"L3_Index\"]=np.nan\n",
    "    opr[\"L4_Index\"]=np.nan\n",
    "    opr[\"L5_Index\"]=np.nan\n",
    "    \n",
    "    # pad PI_Index with missing 0s up to the deepest level (4 or 5?)\n",
    "    opr[\"PI_Index\"] = opr.apply(lambda x: str(x[\"PI_Index\"]) + ((max_level-1)-str(x[\"PI_Index\"]).count(\".\")) * \".0\",axis=1)\n",
    "    \n",
    "    # calculate OrgRank\n",
    "    opr[\"OrgRank\"] = opr.apply(lambda x: (max_level-1) - str(x[\"PI_Index\"]).count(\".0\"),axis=1)\n",
    "    \n",
    "    # populate Level Indices using PI_Index\n",
    "    opr.loc[opr[\"PI_Index\"].notna(),\"L1_Index\"] = opr.loc[opr[\"PI_Index\"].notna()].apply(lambda x: str(x[\"PI_Index\"]).split(\".\")[0],axis=1)\n",
    "    opr.loc[opr[\"PI_Index\"].notna(),\"L2_Index\"] = opr.loc[opr[\"PI_Index\"].notna()].apply(lambda x: str(x[\"PI_Index\"]).split(\".\")[1],axis=1)\n",
    "    opr.loc[opr[\"PI_Index\"].notna(),\"L3_Index\"] = opr.loc[opr[\"PI_Index\"].notna()].apply(lambda x: str(x[\"PI_Index\"]).split(\".\")[2],axis=1)\n",
    "    opr.loc[opr[\"PI_Index\"].notna(),\"L4_Index\"] = opr.loc[opr[\"PI_Index\"].notna()].apply(lambda x: str(x[\"PI_Index\"]).split(\".\")[3],axis=1)\n",
    "    opr.loc[opr[\"PI_Index\"].notna(),\"L5_Index\"] = opr.loc[opr[\"PI_Index\"].notna()].apply(lambda x: str(x[\"PI_Index\"]).split(\".\")[4],axis=1)\n",
    "\n",
    "    # sort by Level1, Level2, Level3\n",
    "    sort_columns = [\"L1_Index\",\"L2_Index\",\"L3_Index\",\"L4_Index\",\"L5_Index\"]\n",
    "    #opr.L1_Index.astype(int,errors=\"ignore\")\n",
    "    #opr.L2_Index.astype(int,errors=\"ignore\")\n",
    "    #opr.L3_Index.astype(int,errors=\"ignore\")\n",
    "    opr.sort_values(sort_columns,inplace=True)\n",
    "    \n",
    "    return opr"
   ]
  },
  {
   "cell_type": "code",
   "execution_count": 22,
   "id": "77dddaf1",
   "metadata": {},
   "outputs": [],
   "source": [
    "# opr = update_opr_index(opr,5)"
   ]
  },
  {
   "cell_type": "code",
   "execution_count": 23,
   "id": "7f7aedb0",
   "metadata": {},
   "outputs": [],
   "source": [
    "# export opr\n",
    "\n",
    "# fileout_opr = \"1.0 orgtree_position_rank.xlsx\"\n",
    "# opr.to_excel(path_cleaning + subpath_2_7 + fileout_opr,index=False)"
   ]
  },
  {
   "cell_type": "markdown",
   "id": "9058cf44",
   "metadata": {},
   "source": [
    "# Recall from earlier cleaning\n",
    "\n",
    "#### Three Cases of  OrgName in NK elite career data\n",
    "\n",
    "- Case 0: OrgName in 기관별인명록: code these from 1-199\n",
    "- Case 1: OrgName not in 기관별인명록, but contained in data AND LinkToNext_Year not current: code as 500+\n",
    "- Case 2: OrgName not in 기관별인명록, but contained in data AND LinkToNext_Year is current: code as 200+\n",
    "\n",
    "#### Case 0: OrgName in 기관별인명록\n",
    "\n",
    "- Update 1.0 orgtree_position_rank with OrgName in 기관별인명록\n",
    "- Code these from 1-199\n",
    "- Run above routine # 1. orgtree_position_rank: update all besides 노동당, 내각, 정무원\n",
    "    - to update opr & pr_else3\n",
    "- Proceed to Cases 1 & 2\n",
    "\n",
    "#### Resolve. Validation values for resolving null Position_3P\n",
    "\n",
    "1. OrgName & Position ok. Add Position to P1\n",
    "2. OrgName & Position ok. Add Position to P2\n",
    "3. OrgName & Position ok. Add Position to P3\n",
    "4. Change_OrgName and/or Change_Position\n",
    "5. Uncertain OrgName\n",
    "6. Uncertain Position\n",
    "7. NotJob\n",
    "8. Multiple CareerSubstring\n",
    "9. Other - see Notes"
   ]
  },
  {
   "cell_type": "markdown",
   "id": "16e9b179",
   "metadata": {},
   "source": [
    "# Task 1. Prep & Merge Mismatch\n",
    "\n",
    "- NotJob\n",
    "    - careers: change IsJob from True to False\n",
    "    - m: remove rows \n",
    "    - opr: NA\n",
    "  \n",
    "- MultipleSubstrings\n",
    "    - careers: expand rows\n",
    "    - m: expand rows and code\n",
    "    - opr: NA\n",
    "    \n",
    "- Merge mismatch files"
   ]
  },
  {
   "cell_type": "markdown",
   "id": "a88ecdda",
   "metadata": {},
   "source": [
    "# Task 2. Edit & Validate PI, OrgName, Type, Index\n",
    "\n",
    "### Step 0. Uncertain OrgName & Position\n",
    "    - careerorglink: alter OrgName, Position to Uncertain\n",
    "    - mismatches: remove rows containing uncertain OrgName & Position \n",
    "    - opr: NA"
   ]
  },
  {
   "cell_type": "code",
   "execution_count": 24,
   "id": "e972e38e",
   "metadata": {},
   "outputs": [
    {
     "data": {
      "text/plain": [
       "(2245, 15)"
      ]
     },
     "execution_count": 24,
     "metadata": {},
     "output_type": "execute_result"
    }
   ],
   "source": [
    "m.shape"
   ]
  },
  {
   "cell_type": "code",
   "execution_count": 25,
   "id": "e5e0f3ee",
   "metadata": {},
   "outputs": [
    {
     "data": {
      "text/plain": [
       "(8, 15)"
      ]
     },
     "execution_count": 25,
     "metadata": {},
     "output_type": "execute_result"
    }
   ],
   "source": [
    "m[m[\"Resolution\"]==\"5. Uncertain OrgName\"].shape"
   ]
  },
  {
   "cell_type": "code",
   "execution_count": 26,
   "id": "59aa75ff",
   "metadata": {},
   "outputs": [
    {
     "data": {
      "text/plain": [
       "(12, 15)"
      ]
     },
     "execution_count": 26,
     "metadata": {},
     "output_type": "execute_result"
    }
   ],
   "source": [
    "m[m[\"Resolution\"]==\"6. Uncertain Position\"].shape"
   ]
  },
  {
   "cell_type": "code",
   "execution_count": 27,
   "id": "55405342",
   "metadata": {},
   "outputs": [
    {
     "name": "stdout",
     "output_type": "stream",
     "text": [
      "(8, 15)\n",
      "(12, 15)\n",
      "(2225, 15)\n"
     ]
    }
   ],
   "source": [
    "m_no_org = m[m[\"Resolution\"]==\"5. Uncertain OrgName\"]\n",
    "m_no_pos = m[m[\"Resolution\"]==\"6. Uncertain Position\"]\n",
    "m1 = m[~(m[\"Resolution\"]==\"5. Uncertain OrgName\") & ~(m[\"Resolution\"]==\"6. Uncertain Position\")]\n",
    "print(m_no_org.shape)\n",
    "print(m_no_pos.shape)\n",
    "print(m1.shape)"
   ]
  },
  {
   "cell_type": "code",
   "execution_count": 28,
   "id": "330bff55",
   "metadata": {},
   "outputs": [
    {
     "name": "stdout",
     "output_type": "stream",
     "text": [
      "\n",
      "Merge Results...\n",
      "\n",
      "\tshape     : (9002, 14)\n",
      "\tleft_only : (8994, 14)\n",
      "\tboth      : (8, 14)\n",
      "\tright_only: (0, 14)\n"
     ]
    }
   ],
   "source": [
    "# for 5. Uncertain OrgName, mark OrgName as Uncertain\n",
    "\n",
    "key_columns = ['CareerString', 'CareerStartYear','CareerSubstring']\n",
    "col1 = col.merge(m_no_org[key_columns],on=key_columns,how=\"left\",indicator=True)\n",
    "merge_results(col1)"
   ]
  },
  {
   "cell_type": "code",
   "execution_count": 29,
   "id": "e1b46207",
   "metadata": {},
   "outputs": [],
   "source": [
    "col1.loc[col1[\"_merge\"]==\"both\",\"OrgName\"]=\"UNCERTAIN\""
   ]
  },
  {
   "cell_type": "code",
   "execution_count": 30,
   "id": "8ca6af1b",
   "metadata": {},
   "outputs": [],
   "source": [
    "col1.drop(columns=[\"_merge\"],inplace=True)"
   ]
  },
  {
   "cell_type": "code",
   "execution_count": 31,
   "id": "a5e93f98",
   "metadata": {},
   "outputs": [
    {
     "name": "stdout",
     "output_type": "stream",
     "text": [
      "\n",
      "Merge Results...\n",
      "\n",
      "\tshape     : (9002, 14)\n",
      "\tleft_only : (8990, 14)\n",
      "\tboth      : (12, 14)\n",
      "\tright_only: (0, 14)\n"
     ]
    }
   ],
   "source": [
    "# for 6. Uncertain Position, mark Position as Uncertain\n",
    "\n",
    "key_columns = ['CareerString', 'CareerStartYear','CareerSubstring']\n",
    "col2 = col1.merge(m_no_pos[key_columns],on=key_columns,how=\"left\",indicator=True)\n",
    "merge_results(col2)"
   ]
  },
  {
   "cell_type": "code",
   "execution_count": 32,
   "id": "042def2e",
   "metadata": {},
   "outputs": [],
   "source": [
    "col2.loc[col2[\"_merge\"]==\"both\",\"Position\"]=\"UNCERTAIN\""
   ]
  },
  {
   "cell_type": "code",
   "execution_count": 33,
   "id": "4ba3416b",
   "metadata": {},
   "outputs": [],
   "source": [
    "col2.drop(columns=[\"_merge\"],inplace=True)"
   ]
  },
  {
   "cell_type": "code",
   "execution_count": 34,
   "id": "d3d1d3c2",
   "metadata": {},
   "outputs": [
    {
     "data": {
      "text/plain": [
       "(17, 13)"
      ]
     },
     "execution_count": 34,
     "metadata": {},
     "output_type": "execute_result"
    }
   ],
   "source": [
    "# check uncertain positions\n",
    "col2[col2[\"Position\"].str.upper()==\"UNCERTAIN\"].shape"
   ]
  },
  {
   "cell_type": "code",
   "execution_count": 35,
   "id": "a9e70e7a",
   "metadata": {},
   "outputs": [
    {
     "data": {
      "text/plain": [
       "(176, 13)"
      ]
     },
     "execution_count": 35,
     "metadata": {},
     "output_type": "execute_result"
    }
   ],
   "source": [
    "# check uncertain orgnames\n",
    "col2[col2[\"OrgName\"].str.upper()==\"UNCERTAIN\"].shape"
   ]
  },
  {
   "cell_type": "code",
   "execution_count": 36,
   "id": "bbf70d0e",
   "metadata": {},
   "outputs": [
    {
     "data": {
      "text/plain": [
       "array(['1. OrgName & Position ok. Add Position to P1',\n",
       "       '2. OrgName & Position ok. Add Position to P2',\n",
       "       '3. OrgName & Position ok. Add Position to P3'], dtype=object)"
      ]
     },
     "execution_count": 36,
     "metadata": {},
     "output_type": "execute_result"
    }
   ],
   "source": [
    "# confirm remaining Resolutions only include Org & Position changes\n",
    "m1.Resolution.sort_values().unique()"
   ]
  },
  {
   "cell_type": "code",
   "execution_count": 37,
   "id": "825be070",
   "metadata": {},
   "outputs": [
    {
     "name": "stdout",
     "output_type": "stream",
     "text": [
      "col2:\t (9002, 13)\n",
      "m1:\t (2225, 15)\n",
      "opr:\t (2267, 23)\n"
     ]
    }
   ],
   "source": [
    "# updated tables\n",
    "print(\"col2:\\t\",col2.shape)\n",
    "print(\"m1:\\t\",m1.shape)\n",
    "print(\"opr:\\t\",opr.shape)"
   ]
  },
  {
   "cell_type": "markdown",
   "id": "6caabe6c",
   "metadata": {},
   "source": [
    "### Logic of Changing PI, OrgName, Position, InstitutionType\n",
    "\n",
    "#### in mismatches, Change_PI, Change_OrgName\n",
    "- indicate that CareerString was coded incorrectly\n",
    "- DO NOT necessarily indicate that the original PI, OrgName pair are incorrect in orgtree\n",
    "\n",
    "#### in orgtree, Change_PI, Change_OrgName\n",
    "- indicate that the PI, OrgName are fundamentally incorrect and should be changed everywhere\n",
    "\n",
    "### therefore, we should \n",
    "\n",
    "#### handle mismatches (Changes, InstitutionType)\n",
    "- Step 1. using mismatches (Change_PI, Change_Org, Change_Pos), edit careerorglink & mismatches (PI, OrgName, Position) \n",
    "- Step 2. for all mismatches (InstitutionType), edit careerorglink & orgtree (InstitutionType)\n",
    "- Step 3. for mismatches (IType, PI, OrgName) not in orgtree, add to orgtree with PI_Index 201\n",
    "\n",
    "####  handle orgtree (Changes, InstitutionType)\n",
    "- Step 4. using orgtree (Change_ x 3), edit careerorglink, mismatches & orgtree (InstitutionType, PI, OrgName)\n",
    "- Step 5. using orgtree, update InstitutionType in col, for those jobs not in mismatch\n",
    "\n",
    "#### handle mismatches (Positions)\n",
    "- Step 6. using mismatches Position, update orgtree P1, P2, P3"
   ]
  },
  {
   "cell_type": "markdown",
   "id": "e69dd5b4",
   "metadata": {},
   "source": [
    "### Step 1. using mismatches (Change_ x3), edit careerorglink & mismatches (PI, OrgName, Position) \n",
    "\n",
    "- careerorglink: Change PI, OrgName, Position\n",
    "- mismatches: Change PI, OrgName, Position\n",
    "- orgtree: NA\n",
    "    - But we will check this later when we compare careerorglink & orgtree and validate (PI,OrgName) pairs."
   ]
  },
  {
   "cell_type": "code",
   "execution_count": 38,
   "id": "abec9a70",
   "metadata": {},
   "outputs": [],
   "source": [
    "#### select mismatches to merge with careerorglink\n",
    "col_key_columns = ['CareerString', 'CareerStartYear','CareerSubstring',\"PrimaryInstitution\",\"OrgName\"]\n",
    "m1_col_columns = col_key_columns + [\"Change_PI\",\"Change_OrgName\",\"Change_Position\"]"
   ]
  },
  {
   "cell_type": "code",
   "execution_count": 39,
   "id": "7d89856d",
   "metadata": {},
   "outputs": [
    {
     "data": {
      "text/plain": [
       "Index(['CareerString', 'CareerStartYear', 'MultipleSubstrings',\n",
       "       'CareerSubstring', 'IsJob', 'InstitutionType', 'PrimaryInstitution',\n",
       "       'OrgName', 'Position', 'LinkToNext_Year', 'Resolution', 'Change_PI',\n",
       "       'Change_OrgName', 'Change_Position', 'Notes'],\n",
       "      dtype='object')"
      ]
     },
     "execution_count": 39,
     "metadata": {},
     "output_type": "execute_result"
    }
   ],
   "source": [
    "m1.columns"
   ]
  },
  {
   "cell_type": "code",
   "execution_count": 40,
   "id": "8aa6c692",
   "metadata": {},
   "outputs": [
    {
     "data": {
      "text/plain": [
       "(852, 15)"
      ]
     },
     "execution_count": 40,
     "metadata": {},
     "output_type": "execute_result"
    }
   ],
   "source": [
    "m1[m1[\"Change_PI\"].notnull()].shape"
   ]
  },
  {
   "cell_type": "code",
   "execution_count": 41,
   "id": "88e96983",
   "metadata": {},
   "outputs": [
    {
     "data": {
      "text/plain": [
       "(553, 15)"
      ]
     },
     "execution_count": 41,
     "metadata": {},
     "output_type": "execute_result"
    }
   ],
   "source": [
    "m1[m1[\"Change_OrgName\"].notnull()].shape"
   ]
  },
  {
   "cell_type": "code",
   "execution_count": 42,
   "id": "633d70e7",
   "metadata": {},
   "outputs": [
    {
     "data": {
      "text/plain": [
       "(0, 15)"
      ]
     },
     "execution_count": 42,
     "metadata": {},
     "output_type": "execute_result"
    }
   ],
   "source": [
    "# Check no Change_OrgName have null Change_PI\n",
    "m1[(m1[\"Change_PI\"].isnull()) & (m1[\"Change_OrgName\"].notnull())].shape"
   ]
  },
  {
   "cell_type": "code",
   "execution_count": 43,
   "id": "2fc1d381",
   "metadata": {},
   "outputs": [
    {
     "data": {
      "text/plain": [
       "(0, 15)"
      ]
     },
     "execution_count": 43,
     "metadata": {},
     "output_type": "execute_result"
    }
   ],
   "source": [
    "# Check no Change_OrgName are UNCERTAIN. These should have already been removed.\n",
    "m1[m1[\"Change_OrgName\"].str.upper()==\"UNCERTAIN\"].shape"
   ]
  },
  {
   "cell_type": "code",
   "execution_count": 44,
   "id": "bac4fb26",
   "metadata": {},
   "outputs": [
    {
     "data": {
      "text/plain": [
       "(816, 8)"
      ]
     },
     "execution_count": 44,
     "metadata": {},
     "output_type": "execute_result"
    }
   ],
   "source": [
    "m1_change = m1.loc[m1[\"Change_PI\"].notnull(),m1_col_columns]\n",
    "m1_change = m1_change.drop_duplicates(keep=\"first\")\n",
    "m1_change.shape"
   ]
  },
  {
   "cell_type": "markdown",
   "id": "c7146431",
   "metadata": {},
   "source": [
    "#### careerorglink: change PI, OrgName, Position"
   ]
  },
  {
   "cell_type": "code",
   "execution_count": 45,
   "id": "b1c4bfe3",
   "metadata": {},
   "outputs": [
    {
     "name": "stdout",
     "output_type": "stream",
     "text": [
      "\n",
      "Merge Results...\n",
      "\n",
      "\tshape     : (9002, 17)\n",
      "\tleft_only : (8179, 17)\n",
      "\tboth      : (823, 17)\n",
      "\tright_only: (0, 17)\n"
     ]
    }
   ],
   "source": [
    "col_key_columns = ['CareerString', 'CareerStartYear','CareerSubstring',\"PrimaryInstitution\",\"OrgName\"]\n",
    "col3 = col2.merge(m1_change,on=col_key_columns,how=\"left\",suffixes=(\"\",\"_m\"),indicator=True)\n",
    "merge_results(col3)"
   ]
  },
  {
   "cell_type": "code",
   "execution_count": 46,
   "id": "fe374c04",
   "metadata": {},
   "outputs": [
    {
     "data": {
      "text/plain": [
       "Index(['CareerString', 'CareerDateString_2022', 'IsJob', 'MultipleSubstrings',\n",
       "       'CareerStartYear', 'CareerStartMonth', 'CareerSubstring', 'OrgString',\n",
       "       'InstitutionType', 'PrimaryInstitution', 'OrgName', 'Position', 'Notes',\n",
       "       'Change_PI', 'Change_OrgName', 'Change_Position', '_merge'],\n",
       "      dtype='object')"
      ]
     },
     "execution_count": 46,
     "metadata": {},
     "output_type": "execute_result"
    }
   ],
   "source": [
    "col3.columns"
   ]
  },
  {
   "cell_type": "code",
   "execution_count": 47,
   "id": "5173d81e",
   "metadata": {},
   "outputs": [
    {
     "data": {
      "text/plain": [
       "Index(['CareerString', 'CareerDateString_2022', 'IsJob', 'MultipleSubstrings',\n",
       "       'CareerStartYear', 'CareerStartMonth', 'CareerSubstring', 'OrgString',\n",
       "       'InstitutionType', 'PrimaryInstitution', 'OrgName', 'Position',\n",
       "       'Notes'],\n",
       "      dtype='object')"
      ]
     },
     "execution_count": 47,
     "metadata": {},
     "output_type": "execute_result"
    }
   ],
   "source": [
    "col2.columns"
   ]
  },
  {
   "cell_type": "code",
   "execution_count": 48,
   "id": "f3ba219e",
   "metadata": {},
   "outputs": [
    {
     "data": {
      "text/plain": [
       "(823, 17)"
      ]
     },
     "execution_count": 48,
     "metadata": {},
     "output_type": "execute_result"
    }
   ],
   "source": [
    "col3[col3.Change_PI.notnull()].shape"
   ]
  },
  {
   "cell_type": "code",
   "execution_count": 49,
   "id": "daf8251c",
   "metadata": {},
   "outputs": [],
   "source": [
    "col3.loc[col3.Change_PI.notnull(),\"PrimaryInstitution\"] = col3.loc[col3.Change_PI.notnull(),\"Change_PI\"]"
   ]
  },
  {
   "cell_type": "code",
   "execution_count": 50,
   "id": "8711f2c4",
   "metadata": {},
   "outputs": [],
   "source": [
    "col3.loc[col3.Change_PI.notnull(),\"OrgName\"] = col3.loc[col3.Change_PI.notnull(),\"Change_OrgName\"]"
   ]
  },
  {
   "cell_type": "code",
   "execution_count": 51,
   "id": "fb6507c6",
   "metadata": {},
   "outputs": [],
   "source": [
    "col3.loc[col3.Change_Position.notnull(),\"Position\"] = col3.loc[col3.Change_Position.notnull(),\"Change_Position\"]"
   ]
  },
  {
   "cell_type": "code",
   "execution_count": 52,
   "id": "79a4ae3d",
   "metadata": {},
   "outputs": [
    {
     "data": {
      "text/plain": [
       "(9002, 13)"
      ]
     },
     "execution_count": 52,
     "metadata": {},
     "output_type": "execute_result"
    }
   ],
   "source": [
    "col3 = col3[col2.columns]\n",
    "col3.shape"
   ]
  },
  {
   "cell_type": "markdown",
   "id": "00f749e2",
   "metadata": {},
   "source": [
    "#### mismatches: change PI, OrgName, Position"
   ]
  },
  {
   "cell_type": "code",
   "execution_count": 53,
   "id": "77395bb1",
   "metadata": {},
   "outputs": [],
   "source": [
    "m2 = m1.copy(deep=True)"
   ]
  },
  {
   "cell_type": "code",
   "execution_count": 54,
   "id": "7e90b279",
   "metadata": {},
   "outputs": [],
   "source": [
    "m2.loc[m2.Change_PI.notnull(),\"PrimaryInstitution\"] = m1.loc[m1.Change_PI.notnull(),\"Change_PI\"]"
   ]
  },
  {
   "cell_type": "code",
   "execution_count": 55,
   "id": "e3e1e526",
   "metadata": {},
   "outputs": [],
   "source": [
    "m2.loc[m2.Change_PI.notnull(),\"OrgName\"] = m1.loc[m1.Change_PI.notnull(),\"Change_OrgName\"]"
   ]
  },
  {
   "cell_type": "code",
   "execution_count": 56,
   "id": "84929ce2",
   "metadata": {},
   "outputs": [],
   "source": [
    "m2.loc[m2.Change_Position.notnull(),\"Position\"] = m1.loc[m1.Change_Position.notnull(),\"Change_Position\"]"
   ]
  },
  {
   "cell_type": "code",
   "execution_count": 57,
   "id": "6b7fdf37",
   "metadata": {},
   "outputs": [
    {
     "data": {
      "text/plain": [
       "Index(['CareerString', 'CareerStartYear', 'MultipleSubstrings',\n",
       "       'CareerSubstring', 'IsJob', 'InstitutionType', 'PrimaryInstitution',\n",
       "       'OrgName', 'Position', 'LinkToNext_Year', 'Resolution', 'Change_PI',\n",
       "       'Change_OrgName', 'Change_Position', 'Notes'],\n",
       "      dtype='object')"
      ]
     },
     "execution_count": 57,
     "metadata": {},
     "output_type": "execute_result"
    }
   ],
   "source": [
    "m2.columns"
   ]
  },
  {
   "cell_type": "code",
   "execution_count": 58,
   "id": "11ffe880",
   "metadata": {},
   "outputs": [],
   "source": [
    "# mismatch: drop Changex3 columns. We've made all necessary changes.\n",
    "m2.drop(columns=[\"Change_PI\",\"Change_OrgName\",\"Change_Position\"],inplace=True)"
   ]
  },
  {
   "cell_type": "code",
   "execution_count": 59,
   "id": "7a0c5456",
   "metadata": {},
   "outputs": [
    {
     "name": "stdout",
     "output_type": "stream",
     "text": [
      "col3:\t (9002, 13)\n",
      "m2:\t (2225, 12)\n",
      "opr:\t (2267, 23)\n"
     ]
    }
   ],
   "source": [
    "# updated tables\n",
    "print(\"col3:\\t\",col3.shape)\n",
    "print(\"m2:\\t\",m2.shape)\n",
    "print(\"opr:\\t\",opr.shape)"
   ]
  },
  {
   "cell_type": "markdown",
   "id": "f7ca2ad9",
   "metadata": {},
   "source": [
    "### Step 2. for all mismatches InstitutionType, edit careerorglink & orgtree InstitutionType \n",
    "\n",
    "- careerorglink: Change InstitutionType\n",
    "- mismatches: NA\n",
    "- orgtree: Change InstitutionType"
   ]
  },
  {
   "cell_type": "markdown",
   "id": "019dc72f",
   "metadata": {},
   "source": [
    "#### select mismatches to merge with careerorglink"
   ]
  },
  {
   "cell_type": "code",
   "execution_count": 60,
   "id": "c5c555d9",
   "metadata": {},
   "outputs": [
    {
     "data": {
      "text/plain": [
       "(2183, 6)"
      ]
     },
     "execution_count": 60,
     "metadata": {},
     "output_type": "execute_result"
    }
   ],
   "source": [
    "col_key_columns = ['CareerString', 'CareerStartYear','CareerSubstring',\"PrimaryInstitution\",\"OrgName\"]\n",
    "m2_col_columns = col_key_columns + [\"InstitutionType\"]\n",
    "m2_merge = m2[m2_col_columns]\n",
    "m2_merge = m2_merge.drop_duplicates(keep=\"first\")\n",
    "m2_merge.shape"
   ]
  },
  {
   "cell_type": "markdown",
   "id": "bd3c63d2",
   "metadata": {},
   "source": [
    "#### careerorglink: change InstitutionType"
   ]
  },
  {
   "cell_type": "code",
   "execution_count": 61,
   "id": "30ac0ee4",
   "metadata": {},
   "outputs": [
    {
     "name": "stdout",
     "output_type": "stream",
     "text": [
      "\n",
      "Merge Results...\n",
      "\n",
      "\tshape     : (9002, 15)\n",
      "\tleft_only : (6804, 15)\n",
      "\tboth      : (2198, 15)\n",
      "\tright_only: (0, 15)\n"
     ]
    }
   ],
   "source": [
    "# merge col3 with m2 (complete & updated mismatches)\n",
    "col4 = col3.merge(m2_merge,on=col_key_columns,how=\"left\",suffixes=(\"\",\"_m\"),indicator=True)\n",
    "merge_results(col4)"
   ]
  },
  {
   "cell_type": "code",
   "execution_count": 62,
   "id": "f99ebc5b",
   "metadata": {},
   "outputs": [
    {
     "data": {
      "text/plain": [
       "Index(['CareerString', 'CareerDateString_2022', 'IsJob', 'MultipleSubstrings',\n",
       "       'CareerStartYear', 'CareerStartMonth', 'CareerSubstring', 'OrgString',\n",
       "       'InstitutionType', 'PrimaryInstitution', 'OrgName', 'Position', 'Notes',\n",
       "       'InstitutionType_m', '_merge'],\n",
       "      dtype='object')"
      ]
     },
     "execution_count": 62,
     "metadata": {},
     "output_type": "execute_result"
    }
   ],
   "source": [
    "col4.columns"
   ]
  },
  {
   "cell_type": "code",
   "execution_count": 63,
   "id": "9fc26f51",
   "metadata": {},
   "outputs": [],
   "source": [
    "col4.loc[col4[\"_merge\"]==\"both\",\"InstitutionType\"] = col4.loc[col4[\"_merge\"]==\"both\",\"InstitutionType_m\"]"
   ]
  },
  {
   "cell_type": "code",
   "execution_count": 64,
   "id": "822c0542",
   "metadata": {},
   "outputs": [
    {
     "data": {
      "text/plain": [
       "(9002, 13)"
      ]
     },
     "execution_count": 64,
     "metadata": {},
     "output_type": "execute_result"
    }
   ],
   "source": [
    "col4 = col4[col3.columns]\n",
    "col4.shape"
   ]
  },
  {
   "cell_type": "markdown",
   "id": "0ab435e0",
   "metadata": {},
   "source": [
    "#### select mismatches to merge with orgtree"
   ]
  },
  {
   "cell_type": "code",
   "execution_count": 65,
   "id": "05bdf4cd",
   "metadata": {},
   "outputs": [
    {
     "data": {
      "text/plain": [
       "(521, 3)"
      ]
     },
     "execution_count": 65,
     "metadata": {},
     "output_type": "execute_result"
    }
   ],
   "source": [
    "opr_key_columns = [\"PrimaryInstitution\",\"OrgName\"]\n",
    "m2_org_columns = opr_key_columns + [\"InstitutionType\"]\n",
    "m2_merge = m2[m2_org_columns]\n",
    "m2_merge = m2_merge.drop_duplicates(keep=\"first\")\n",
    "m2_merge.shape"
   ]
  },
  {
   "cell_type": "markdown",
   "id": "eac81d6e",
   "metadata": {},
   "source": [
    "#### orgtree: change InstitutionType"
   ]
  },
  {
   "cell_type": "code",
   "execution_count": 66,
   "id": "79077559",
   "metadata": {},
   "outputs": [
    {
     "name": "stdout",
     "output_type": "stream",
     "text": [
      "\n",
      "Merge Results...\n",
      "\n",
      "\tshape     : (2267, 25)\n",
      "\tleft_only : (1872, 25)\n",
      "\tboth      : (395, 25)\n",
      "\tright_only: (0, 25)\n"
     ]
    }
   ],
   "source": [
    "# merge opr on m2 (complete & updated mismatches)\n",
    "opr2 = opr.merge(m2_merge,on=opr_key_columns,how=\"left\",suffixes=(\"\",\"_m\"),indicator=True)\n",
    "merge_results(opr2)"
   ]
  },
  {
   "cell_type": "code",
   "execution_count": 67,
   "id": "2036f93a",
   "metadata": {},
   "outputs": [
    {
     "data": {
      "text/plain": [
       "Index(['InsideGov', 'InstitutionType', 'OrgType', 'PrimaryInstitution',\n",
       "       'OrgName', 'PI_Index', 'OrgRank', 'P1', 'P2', 'P3', 'LinkToNext_PI',\n",
       "       'LinkToNext_Org', 'LinkToNext_Year', 'Notes', 'L1_Index', 'L2_Index',\n",
       "       'L3_Index', 'L4_Index', 'L5_Index', 'Change_InstitutionType',\n",
       "       'Change_PI', 'Change_OrgName', 'Alias_OrgName', 'InstitutionType_m',\n",
       "       '_merge'],\n",
       "      dtype='object')"
      ]
     },
     "execution_count": 67,
     "metadata": {},
     "output_type": "execute_result"
    }
   ],
   "source": [
    "opr2.columns"
   ]
  },
  {
   "cell_type": "code",
   "execution_count": 68,
   "id": "5ed45d01",
   "metadata": {},
   "outputs": [],
   "source": [
    "opr2.loc[opr2[\"_merge\"]==\"both\",\"InstitutionType\"] = opr2.loc[opr2[\"_merge\"]==\"both\",\"InstitutionType_m\"]"
   ]
  },
  {
   "cell_type": "code",
   "execution_count": 69,
   "id": "9d77ff1d",
   "metadata": {},
   "outputs": [
    {
     "data": {
      "text/plain": [
       "(2267, 23)"
      ]
     },
     "execution_count": 69,
     "metadata": {},
     "output_type": "execute_result"
    }
   ],
   "source": [
    "opr2 = opr2[opr.columns]\n",
    "opr2.shape"
   ]
  },
  {
   "cell_type": "code",
   "execution_count": 70,
   "id": "7d926bc7",
   "metadata": {},
   "outputs": [
    {
     "data": {
      "text/plain": [
       "Index(['InsideGov', 'InstitutionType', 'OrgType', 'PrimaryInstitution',\n",
       "       'OrgName', 'PI_Index', 'OrgRank', 'P1', 'P2', 'P3', 'LinkToNext_PI',\n",
       "       'LinkToNext_Org', 'LinkToNext_Year', 'Notes', 'L1_Index', 'L2_Index',\n",
       "       'L3_Index', 'L4_Index', 'L5_Index', 'Change_InstitutionType',\n",
       "       'Change_PI', 'Change_OrgName', 'Alias_OrgName'],\n",
       "      dtype='object')"
      ]
     },
     "execution_count": 70,
     "metadata": {},
     "output_type": "execute_result"
    }
   ],
   "source": [
    "opr.columns"
   ]
  },
  {
   "cell_type": "code",
   "execution_count": 71,
   "id": "aa78e1f7",
   "metadata": {},
   "outputs": [
    {
     "name": "stdout",
     "output_type": "stream",
     "text": [
      "col4:\t (9002, 13)\n",
      "m2:\t (2225, 12)\n",
      "opr2:\t (2267, 23)\n"
     ]
    }
   ],
   "source": [
    "# updated tables\n",
    "print(\"col4:\\t\",col4.shape)\n",
    "print(\"m2:\\t\",m2.shape)\n",
    "print(\"opr2:\\t\",opr2.shape)"
   ]
  },
  {
   "cell_type": "markdown",
   "id": "ef6d88a8",
   "metadata": {},
   "source": [
    "### Step 3. for mismatches (IType, PI, OrgName) not in orgtree, add to orgtree with PI_Index 201"
   ]
  },
  {
   "cell_type": "markdown",
   "id": "bb9b19a0",
   "metadata": {},
   "source": [
    "#### orgtree:concat mismatches (IType, PI, OrgName) not in orgtree"
   ]
  },
  {
   "cell_type": "code",
   "execution_count": 72,
   "id": "876ae50f",
   "metadata": {},
   "outputs": [
    {
     "data": {
      "text/plain": [
       "Index(['PrimaryInstitution', 'OrgName', 'InstitutionType'], dtype='object')"
      ]
     },
     "execution_count": 72,
     "metadata": {},
     "output_type": "execute_result"
    }
   ],
   "source": [
    "m2_merge.columns"
   ]
  },
  {
   "cell_type": "code",
   "execution_count": 73,
   "id": "793c05fb",
   "metadata": {},
   "outputs": [
    {
     "data": {
      "text/plain": [
       "Index(['InsideGov', 'InstitutionType', 'OrgType', 'PrimaryInstitution',\n",
       "       'OrgName', 'PI_Index', 'OrgRank', 'P1', 'P2', 'P3', 'LinkToNext_PI',\n",
       "       'LinkToNext_Org', 'LinkToNext_Year', 'Notes', 'L1_Index', 'L2_Index',\n",
       "       'L3_Index', 'L4_Index', 'L5_Index', 'Change_InstitutionType',\n",
       "       'Change_PI', 'Change_OrgName', 'Alias_OrgName'],\n",
       "      dtype='object')"
      ]
     },
     "execution_count": 73,
     "metadata": {},
     "output_type": "execute_result"
    }
   ],
   "source": [
    "opr2.columns"
   ]
  },
  {
   "cell_type": "code",
   "execution_count": 74,
   "id": "58ffce15",
   "metadata": {},
   "outputs": [
    {
     "name": "stdout",
     "output_type": "stream",
     "text": [
      "\n",
      "Merge Results...\n",
      "\n",
      "\tshape     : (2396, 25)\n",
      "\tleft_only : (129, 25)\n",
      "\tboth      : (395, 25)\n",
      "\tright_only: (1872, 25)\n"
     ]
    }
   ],
   "source": [
    "# merge m2_merge with opr2; identify mismatches not contained in opr2\n",
    "m2_concat = m2_merge.merge(opr2,on=opr_key_columns,how=\"outer\",suffixes=(\"\",\"_m\"),indicator=True)\n",
    "merge_results(m2_concat)"
   ]
  },
  {
   "cell_type": "code",
   "execution_count": 75,
   "id": "b936ed4c",
   "metadata": {},
   "outputs": [
    {
     "data": {
      "text/plain": [
       "(129, 25)"
      ]
     },
     "execution_count": 75,
     "metadata": {},
     "output_type": "execute_result"
    }
   ],
   "source": [
    "# the number of new PI, OrgName pairs we'll add to orgtree from mismatches\n",
    "m2_concat = m2_concat[m2_concat[\"_merge\"]==\"left_only\"]\n",
    "m2_concat.shape"
   ]
  },
  {
   "cell_type": "code",
   "execution_count": 76,
   "id": "51991236",
   "metadata": {},
   "outputs": [],
   "source": [
    "m2_concat[\"InsideGov\"]=np.nan"
   ]
  },
  {
   "cell_type": "code",
   "execution_count": 77,
   "id": "1afa2490",
   "metadata": {},
   "outputs": [
    {
     "data": {
      "text/plain": [
       "['InstitutionType_m', '_merge']"
      ]
     },
     "execution_count": 77,
     "metadata": {},
     "output_type": "execute_result"
    }
   ],
   "source": [
    "[item for item in list(m2_concat.columns) if item not in list(opr2.columns)]"
   ]
  },
  {
   "cell_type": "code",
   "execution_count": 78,
   "id": "8f7c5d5e",
   "metadata": {},
   "outputs": [
    {
     "data": {
      "text/plain": [
       "[]"
      ]
     },
     "execution_count": 78,
     "metadata": {},
     "output_type": "execute_result"
    }
   ],
   "source": [
    "[item for item in list(opr2.columns) if item not in list(m2_concat.columns)]"
   ]
  },
  {
   "cell_type": "code",
   "execution_count": 79,
   "id": "35c8da1c",
   "metadata": {},
   "outputs": [
    {
     "data": {
      "text/plain": [
       "Index(['InsideGov', 'InstitutionType', 'OrgType', 'PrimaryInstitution',\n",
       "       'OrgName', 'PI_Index', 'OrgRank', 'P1', 'P2', 'P3', 'LinkToNext_PI',\n",
       "       'LinkToNext_Org', 'LinkToNext_Year', 'Notes', 'L1_Index', 'L2_Index',\n",
       "       'L3_Index', 'L4_Index', 'L5_Index', 'Change_InstitutionType',\n",
       "       'Change_PI', 'Change_OrgName', 'Alias_OrgName'],\n",
       "      dtype='object')"
      ]
     },
     "execution_count": 79,
     "metadata": {},
     "output_type": "execute_result"
    }
   ],
   "source": [
    "opr2.columns"
   ]
  },
  {
   "cell_type": "code",
   "execution_count": 80,
   "id": "192b7f4e",
   "metadata": {},
   "outputs": [
    {
     "data": {
      "text/plain": [
       "(129, 23)"
      ]
     },
     "execution_count": 80,
     "metadata": {},
     "output_type": "execute_result"
    }
   ],
   "source": [
    "m2_concat = m2_concat[opr2.columns]\n",
    "m2_concat.shape"
   ]
  },
  {
   "cell_type": "code",
   "execution_count": 81,
   "id": "ca8208ae",
   "metadata": {},
   "outputs": [
    {
     "data": {
      "text/plain": [
       "array([nan])"
      ]
     },
     "execution_count": 81,
     "metadata": {},
     "output_type": "execute_result"
    }
   ],
   "source": [
    "m2_concat.InsideGov.unique()"
   ]
  },
  {
   "cell_type": "code",
   "execution_count": null,
   "id": "10258d46",
   "metadata": {},
   "outputs": [],
   "source": [
    "m2_concat.OrgType.unique()"
   ]
  },
  {
   "cell_type": "code",
   "execution_count": 82,
   "id": "b158e025",
   "metadata": {},
   "outputs": [],
   "source": [
    "# Designate PI_Index as 801. Later I can re-code this.\n",
    "m2_concat[\"PI_Index\"]=\"801\""
   ]
  },
  {
   "cell_type": "code",
   "execution_count": 83,
   "id": "738a04e4",
   "metadata": {},
   "outputs": [],
   "source": [
    "opr3 = pd.concat([opr2,m2_concat])"
   ]
  },
  {
   "cell_type": "code",
   "execution_count": 84,
   "id": "6c3daf47",
   "metadata": {},
   "outputs": [
    {
     "name": "stdout",
     "output_type": "stream",
     "text": [
      "col4:\t (9002, 13)\n",
      "m2:\t (2225, 12)\n",
      "opr3:\t (2396, 23)\n"
     ]
    }
   ],
   "source": [
    "# updated tables\n",
    "print(\"col4:\\t\",col4.shape)\n",
    "print(\"m2:\\t\",m2.shape)\n",
    "print(\"opr3:\\t\",opr3.shape)"
   ]
  },
  {
   "cell_type": "markdown",
   "id": "dcd52d23",
   "metadata": {},
   "source": [
    "### Step 4. using orgtree (Change_ x2), edit careerorglink, mismatches & orgtree (PI, OrgName)\n",
    "\n",
    "- careerorglink: change PI, OrgName\n",
    "- mimatches: removed those with changed InstitutionType, PI, OrgName, because their Position may be incorrect\n",
    "- orgtree: change InstitutionType, PI, OrgName"
   ]
  },
  {
   "cell_type": "markdown",
   "id": "24b3aa8f",
   "metadata": {},
   "source": [
    "#### select opr to merge with careerorglink & mismatches"
   ]
  },
  {
   "cell_type": "code",
   "execution_count": 85,
   "id": "0f00d557",
   "metadata": {},
   "outputs": [],
   "source": [
    "opr_key_columns = [\"PrimaryInstitution\",\"OrgName\"]\n",
    "opr_col_columns = opr_key_columns + [\"Change_InstitutionType\",\"Change_PI\",\"Change_OrgName\"]"
   ]
  },
  {
   "cell_type": "code",
   "execution_count": 86,
   "id": "d14a899f",
   "metadata": {},
   "outputs": [
    {
     "data": {
      "text/plain": [
       "(18, 23)"
      ]
     },
     "execution_count": 86,
     "metadata": {},
     "output_type": "execute_result"
    }
   ],
   "source": [
    "opr3[opr3[\"Change_PI\"].notnull()].shape"
   ]
  },
  {
   "cell_type": "code",
   "execution_count": 87,
   "id": "ecb4f314",
   "metadata": {},
   "outputs": [
    {
     "data": {
      "text/plain": [
       "(36, 23)"
      ]
     },
     "execution_count": 87,
     "metadata": {},
     "output_type": "execute_result"
    }
   ],
   "source": [
    "opr3[opr3[\"Change_OrgName\"].notnull()].shape"
   ]
  },
  {
   "cell_type": "code",
   "execution_count": 88,
   "id": "81695fd9",
   "metadata": {},
   "outputs": [
    {
     "data": {
      "text/plain": [
       "(16, 23)"
      ]
     },
     "execution_count": 88,
     "metadata": {},
     "output_type": "execute_result"
    }
   ],
   "source": [
    "opr3[opr3[\"Change_InstitutionType\"].notnull()].shape"
   ]
  },
  {
   "cell_type": "code",
   "execution_count": 89,
   "id": "f927b21c",
   "metadata": {},
   "outputs": [
    {
     "data": {
      "text/plain": [
       "(45, 5)"
      ]
     },
     "execution_count": 89,
     "metadata": {},
     "output_type": "execute_result"
    }
   ],
   "source": [
    "opr3_changes = opr3.loc[(opr3[\"Change_PI\"].notnull()) | (opr3[\"Change_OrgName\"].notnull()) | (opr3[\"Change_InstitutionType\"].notnull()),opr_col_columns]\n",
    "opr3_changes.shape"
   ]
  },
  {
   "cell_type": "code",
   "execution_count": 90,
   "id": "c433814f",
   "metadata": {},
   "outputs": [
    {
     "name": "stdout",
     "output_type": "stream",
     "text": [
      "\n",
      "Unique Non-null Rows...\n",
      "\n",
      "\tNon-unique rows: (45, 5)\n",
      "\tUnique rows    : (45, 5)\n"
     ]
    },
    {
     "data": {
      "text/plain": [
       "(45, 5)"
      ]
     },
     "execution_count": 90,
     "metadata": {},
     "output_type": "execute_result"
    }
   ],
   "source": [
    "opr3_changes = unique_non_null_rows(opr3_changes)\n",
    "opr3_changes.shape"
   ]
  },
  {
   "cell_type": "markdown",
   "id": "48564425",
   "metadata": {},
   "source": [
    "#### edit careerorglink"
   ]
  },
  {
   "cell_type": "code",
   "execution_count": 91,
   "id": "2a08a522",
   "metadata": {},
   "outputs": [
    {
     "name": "stdout",
     "output_type": "stream",
     "text": [
      "\n",
      "Merge Results...\n",
      "\n",
      "\tshape     : (9002, 17)\n",
      "\tleft_only : (8790, 17)\n",
      "\tboth      : (212, 17)\n",
      "\tright_only: (0, 17)\n"
     ]
    }
   ],
   "source": [
    "col5 = col4.merge(opr3_changes,on=opr_key_columns,how=\"left\",suffixes=(\"\",\"_m\"),indicator=True)\n",
    "merge_results(col5)"
   ]
  },
  {
   "cell_type": "code",
   "execution_count": 92,
   "id": "d2f13b82",
   "metadata": {},
   "outputs": [],
   "source": [
    "# when Change_InstitutionType is not null, change all 3\n",
    "col5.loc[col5[\"Change_InstitutionType\"].notnull(),\"InstitutionType\"] = col5.loc[col5[\"Change_InstitutionType\"].notnull(),\"Change_InstitutionType\"]"
   ]
  },
  {
   "cell_type": "code",
   "execution_count": 93,
   "id": "adb4f8d5",
   "metadata": {},
   "outputs": [],
   "source": [
    "col5.loc[col5[\"Change_InstitutionType\"].notnull(),\"PrimaryInstitution\"] = col5.loc[col5[\"Change_InstitutionType\"].notnull(),\"Change_PI\"]"
   ]
  },
  {
   "cell_type": "code",
   "execution_count": 94,
   "id": "e5d593e8",
   "metadata": {},
   "outputs": [],
   "source": [
    "col5.loc[col5[\"Change_InstitutionType\"].notnull(),\"OrgName\"] = col5.loc[col5[\"Change_InstitutionType\"].notnull(),\"Change_OrgName\"]"
   ]
  },
  {
   "cell_type": "code",
   "execution_count": 95,
   "id": "2e9ce956",
   "metadata": {},
   "outputs": [],
   "source": [
    "# when Change_InstitutionType is null & Change_OrgName is not null, then just change OrgName"
   ]
  },
  {
   "cell_type": "code",
   "execution_count": 96,
   "id": "85c6169f",
   "metadata": {},
   "outputs": [],
   "source": [
    "col5.loc[col5[\"Change_InstitutionType\"].isnull() & col5[\"Change_OrgName\"].notnull(),\"OrgName\"] = col5.loc[col5[\"Change_InstitutionType\"].isnull() & col5[\"Change_OrgName\"].notnull(),\"Change_OrgName\"]"
   ]
  },
  {
   "cell_type": "code",
   "execution_count": 97,
   "id": "d7e02e2f",
   "metadata": {},
   "outputs": [],
   "source": [
    "col5 = col5[col4.columns]"
   ]
  },
  {
   "cell_type": "code",
   "execution_count": 98,
   "id": "96414ba7",
   "metadata": {},
   "outputs": [
    {
     "data": {
      "text/plain": [
       "(9002, 13)"
      ]
     },
     "execution_count": 98,
     "metadata": {},
     "output_type": "execute_result"
    }
   ],
   "source": [
    "col5.shape"
   ]
  },
  {
   "cell_type": "markdown",
   "id": "531f8ac7",
   "metadata": {},
   "source": [
    "#### remove mismatches"
   ]
  },
  {
   "cell_type": "code",
   "execution_count": 99,
   "id": "86f3ee5e",
   "metadata": {},
   "outputs": [
    {
     "name": "stdout",
     "output_type": "stream",
     "text": [
      "\n",
      "Merge Results...\n",
      "\n",
      "\tshape     : (2225, 16)\n",
      "\tleft_only : (2112, 16)\n",
      "\tboth      : (113, 16)\n",
      "\tright_only: (0, 16)\n"
     ]
    }
   ],
   "source": [
    "opr_key_columns = [\"PrimaryInstitution\",\"OrgName\"]\n",
    "m3 = m2.merge(opr3_changes,on=opr_key_columns,how=\"left\",suffixes=(\"\",\"_m\"),indicator=True)\n",
    "merge_results(m3)"
   ]
  },
  {
   "cell_type": "code",
   "execution_count": 100,
   "id": "28a6cd06",
   "metadata": {},
   "outputs": [
    {
     "data": {
      "text/plain": [
       "(2112, 16)"
      ]
     },
     "execution_count": 100,
     "metadata": {},
     "output_type": "execute_result"
    }
   ],
   "source": [
    "m3 = m3[m3[\"_merge\"]!=\"both\"]\n",
    "m3.shape"
   ]
  },
  {
   "cell_type": "code",
   "execution_count": 101,
   "id": "dffa5ca0",
   "metadata": {},
   "outputs": [
    {
     "data": {
      "text/plain": [
       "(2112, 12)"
      ]
     },
     "execution_count": 101,
     "metadata": {},
     "output_type": "execute_result"
    }
   ],
   "source": [
    "m3 = m3[m2.columns]\n",
    "m3.shape"
   ]
  },
  {
   "cell_type": "markdown",
   "id": "f5511273",
   "metadata": {},
   "source": [
    "#### edit orgtree"
   ]
  },
  {
   "cell_type": "code",
   "execution_count": 102,
   "id": "4e98e3b8",
   "metadata": {},
   "outputs": [],
   "source": [
    "opr4 = opr3.copy(deep=True)"
   ]
  },
  {
   "cell_type": "code",
   "execution_count": 103,
   "id": "b74d33c0",
   "metadata": {},
   "outputs": [],
   "source": [
    "# when Change_InstitutionType is not null, change all 3\n",
    "opr4.loc[opr4[\"Change_InstitutionType\"].notnull(),\"InstitutionType\"] = opr4.loc[opr4[\"Change_InstitutionType\"].notnull(),\"Change_InstitutionType\"]"
   ]
  },
  {
   "cell_type": "code",
   "execution_count": 104,
   "id": "d972086e",
   "metadata": {},
   "outputs": [],
   "source": [
    "opr4.loc[opr4[\"Change_InstitutionType\"].notnull(),\"PrimaryInstitution\"] = opr4.loc[opr4[\"Change_InstitutionType\"].notnull(),\"Change_PI\"]"
   ]
  },
  {
   "cell_type": "code",
   "execution_count": 105,
   "id": "70463431",
   "metadata": {},
   "outputs": [],
   "source": [
    "opr4.loc[opr4[\"Change_InstitutionType\"].notnull(),\"OrgName\"] = opr4.loc[opr4[\"Change_InstitutionType\"].notnull(),\"Change_OrgName\"]"
   ]
  },
  {
   "cell_type": "code",
   "execution_count": 106,
   "id": "b7a526fa",
   "metadata": {},
   "outputs": [],
   "source": [
    "# when Change_InstitutionType is null & Change_OrgName is not null, then just change OrgName"
   ]
  },
  {
   "cell_type": "code",
   "execution_count": 107,
   "id": "d22988ef",
   "metadata": {},
   "outputs": [],
   "source": [
    "opr4.loc[opr4[\"Change_InstitutionType\"].isnull() & opr4[\"Change_OrgName\"].notnull(),\"OrgName\"] = opr4.loc[opr4[\"Change_InstitutionType\"].isnull() & opr4[\"Change_OrgName\"].notnull(),\"Change_OrgName\"]"
   ]
  },
  {
   "cell_type": "code",
   "execution_count": 108,
   "id": "99298a5c",
   "metadata": {},
   "outputs": [],
   "source": [
    "# opr3: drop Changex3 columns. We've made all necessary changes.\n",
    "opr4.drop(columns=[\"Change_InstitutionType\",\"Change_PI\",\"Change_OrgName\"],inplace=True)"
   ]
  },
  {
   "cell_type": "code",
   "execution_count": 109,
   "id": "48b70ba5",
   "metadata": {},
   "outputs": [],
   "source": [
    "opr4 = opr4.drop_duplicates(keep=\"first\")"
   ]
  },
  {
   "cell_type": "code",
   "execution_count": 110,
   "id": "faac1b2a",
   "metadata": {},
   "outputs": [
    {
     "data": {
      "text/plain": [
       "Index(['InsideGov', 'InstitutionType', 'OrgType', 'PrimaryInstitution',\n",
       "       'OrgName', 'PI_Index', 'OrgRank', 'P1', 'P2', 'P3', 'LinkToNext_PI',\n",
       "       'LinkToNext_Org', 'LinkToNext_Year', 'Notes', 'L1_Index', 'L2_Index',\n",
       "       'L3_Index', 'L4_Index', 'L5_Index', 'Alias_OrgName'],\n",
       "      dtype='object')"
      ]
     },
     "execution_count": 110,
     "metadata": {},
     "output_type": "execute_result"
    }
   ],
   "source": [
    "opr4.columns"
   ]
  },
  {
   "cell_type": "code",
   "execution_count": 111,
   "id": "33181895",
   "metadata": {},
   "outputs": [
    {
     "data": {
      "text/plain": [
       "Index(['CareerString', 'CareerDateString_2022', 'IsJob', 'MultipleSubstrings',\n",
       "       'CareerStartYear', 'CareerStartMonth', 'CareerSubstring', 'OrgString',\n",
       "       'InstitutionType', 'PrimaryInstitution', 'OrgName', 'Position',\n",
       "       'Notes'],\n",
       "      dtype='object')"
      ]
     },
     "execution_count": 111,
     "metadata": {},
     "output_type": "execute_result"
    }
   ],
   "source": [
    "col5.columns"
   ]
  },
  {
   "cell_type": "code",
   "execution_count": 112,
   "id": "1169c86f",
   "metadata": {},
   "outputs": [
    {
     "data": {
      "text/plain": [
       "Index(['CareerString', 'CareerStartYear', 'MultipleSubstrings',\n",
       "       'CareerSubstring', 'IsJob', 'InstitutionType', 'PrimaryInstitution',\n",
       "       'OrgName', 'Position', 'LinkToNext_Year', 'Resolution', 'Notes'],\n",
       "      dtype='object')"
      ]
     },
     "execution_count": 112,
     "metadata": {},
     "output_type": "execute_result"
    }
   ],
   "source": [
    "m3.columns"
   ]
  },
  {
   "cell_type": "code",
   "execution_count": 113,
   "id": "f6ac862f",
   "metadata": {},
   "outputs": [
    {
     "name": "stdout",
     "output_type": "stream",
     "text": [
      "col5:\t (9002, 13)\n",
      "m3:\t (2112, 12)\n",
      "opr4:\t (2392, 20)\n"
     ]
    }
   ],
   "source": [
    "# updated tables\n",
    "print(\"col5:\\t\",col5.shape)\n",
    "print(\"m3:\\t\",m3.shape)\n",
    "print(\"opr4:\\t\",opr4.shape)"
   ]
  },
  {
   "cell_type": "markdown",
   "id": "65e5f8cb",
   "metadata": {},
   "source": [
    "### Step 5. using orgtree, update InstitutionType in careerorglink, for those jobs not in mismatch\n",
    "\n",
    "- careerorglink: change InstitutionType"
   ]
  },
  {
   "cell_type": "markdown",
   "id": "5d635b17",
   "metadata": {},
   "source": [
    "#### select opr to merge with careerorglink"
   ]
  },
  {
   "cell_type": "code",
   "execution_count": 114,
   "id": "67293d55",
   "metadata": {},
   "outputs": [
    {
     "data": {
      "text/plain": [
       "(2349, 3)"
      ]
     },
     "execution_count": 114,
     "metadata": {},
     "output_type": "execute_result"
    }
   ],
   "source": [
    "opr_key_columns = [\"PrimaryInstitution\",\"OrgName\"]\n",
    "opr_col_columns = opr_key_columns + [\"InstitutionType\"]\n",
    "opr4_merge = opr4[opr_col_columns]\n",
    "opr4_merge = opr4_merge.drop_duplicates()\n",
    "opr4_merge.shape"
   ]
  },
  {
   "cell_type": "code",
   "execution_count": 115,
   "id": "2804319f",
   "metadata": {},
   "outputs": [
    {
     "data": {
      "text/plain": [
       "(0, 3)"
      ]
     },
     "execution_count": 115,
     "metadata": {},
     "output_type": "execute_result"
    }
   ],
   "source": [
    "opr4_merge[opr4_merge.duplicated(opr_key_columns,keep=False)].shape"
   ]
  },
  {
   "cell_type": "markdown",
   "id": "ab23c6b9",
   "metadata": {},
   "source": [
    "#### edit careerorglink"
   ]
  },
  {
   "cell_type": "code",
   "execution_count": 116,
   "id": "155c3e95",
   "metadata": {},
   "outputs": [
    {
     "name": "stdout",
     "output_type": "stream",
     "text": [
      "\n",
      "Merge Results...\n",
      "\n",
      "\tshape     : (9002, 15)\n",
      "\tleft_only : (2372, 15)\n",
      "\tboth      : (6630, 15)\n",
      "\tright_only: (0, 15)\n"
     ]
    }
   ],
   "source": [
    "col6 = col5.merge(opr4_merge,on=opr_key_columns,how=\"left\",suffixes=(\"\",\"_m\"),indicator=True)\n",
    "merge_results(col6)"
   ]
  },
  {
   "cell_type": "code",
   "execution_count": 117,
   "id": "851e7809",
   "metadata": {},
   "outputs": [
    {
     "data": {
      "text/plain": [
       "Index(['CareerString', 'CareerDateString_2022', 'IsJob', 'MultipleSubstrings',\n",
       "       'CareerStartYear', 'CareerStartMonth', 'CareerSubstring', 'OrgString',\n",
       "       'InstitutionType', 'PrimaryInstitution', 'OrgName', 'Position', 'Notes',\n",
       "       'InstitutionType_m', '_merge'],\n",
       "      dtype='object')"
      ]
     },
     "execution_count": 117,
     "metadata": {},
     "output_type": "execute_result"
    }
   ],
   "source": [
    "col6.columns"
   ]
  },
  {
   "cell_type": "code",
   "execution_count": 118,
   "id": "7b8056b4",
   "metadata": {},
   "outputs": [
    {
     "data": {
      "text/plain": [
       "(2382, 15)"
      ]
     },
     "execution_count": 118,
     "metadata": {},
     "output_type": "execute_result"
    }
   ],
   "source": [
    "# out of curiosity, how many InstitutionType don't match?\n",
    "col6[(col6[\"InstitutionType\"].isnull()) & (col6[\"InstitutionType_m\"].isnull())].shape"
   ]
  },
  {
   "cell_type": "code",
   "execution_count": 119,
   "id": "506c7578",
   "metadata": {},
   "outputs": [],
   "source": [
    "# only copy over all non-null InstitutionType from orgtree to careerorglink\n",
    "col6.loc[col6[\"InstitutionType_m\"].notnull(),\"InstitutionType\"] = col6.loc[col6[\"InstitutionType_m\"].notnull(),\"InstitutionType_m\"]"
   ]
  },
  {
   "cell_type": "code",
   "execution_count": 120,
   "id": "fc153eb4",
   "metadata": {},
   "outputs": [
    {
     "data": {
      "text/plain": [
       "(2382, 15)"
      ]
     },
     "execution_count": 120,
     "metadata": {},
     "output_type": "execute_result"
    }
   ],
   "source": [
    "# the number of careers without InstitutionType: NotJobs and Uncertains\n",
    "col6[(col6[\"InstitutionType\"].isnull()) & (col6[\"InstitutionType_m\"].isnull())].shape"
   ]
  },
  {
   "cell_type": "markdown",
   "id": "7c1b7a87",
   "metadata": {},
   "source": [
    "# Issue: if Certain, then update InstitutionType in careerorglink & orgtree"
   ]
  },
  {
   "cell_type": "code",
   "execution_count": 121,
   "id": "91e0d644",
   "metadata": {},
   "outputs": [
    {
     "data": {
      "text/html": [
       "<div>\n",
       "<style scoped>\n",
       "    .dataframe tbody tr th:only-of-type {\n",
       "        vertical-align: middle;\n",
       "    }\n",
       "\n",
       "    .dataframe tbody tr th {\n",
       "        vertical-align: top;\n",
       "    }\n",
       "\n",
       "    .dataframe thead th {\n",
       "        text-align: right;\n",
       "    }\n",
       "</style>\n",
       "<table border=\"1\" class=\"dataframe\">\n",
       "  <thead>\n",
       "    <tr style=\"text-align: right;\">\n",
       "      <th></th>\n",
       "      <th>CareerString</th>\n",
       "      <th>CareerDateString_2022</th>\n",
       "      <th>IsJob</th>\n",
       "      <th>MultipleSubstrings</th>\n",
       "      <th>CareerStartYear</th>\n",
       "      <th>CareerStartMonth</th>\n",
       "      <th>CareerSubstring</th>\n",
       "      <th>OrgString</th>\n",
       "      <th>InstitutionType</th>\n",
       "      <th>PrimaryInstitution</th>\n",
       "      <th>OrgName</th>\n",
       "      <th>Position</th>\n",
       "      <th>Notes</th>\n",
       "      <th>InstitutionType_m</th>\n",
       "      <th>_merge</th>\n",
       "    </tr>\n",
       "  </thead>\n",
       "  <tbody>\n",
       "    <tr>\n",
       "      <th>33</th>\n",
       "      <td>1951.~57. 루마니아 유학 연도미상 당 조직지도부, 과학교육부, 기계공업부 등...</td>\n",
       "      <td>NaN</td>\n",
       "      <td>True</td>\n",
       "      <td>4</td>\n",
       "      <td>1951</td>\n",
       "      <td>NaN</td>\n",
       "      <td>당 기계공업부</td>\n",
       "      <td>NaN</td>\n",
       "      <td>NaN</td>\n",
       "      <td>uncertain</td>\n",
       "      <td>uncertain</td>\n",
       "      <td>uncertain</td>\n",
       "      <td>NaN</td>\n",
       "      <td>NaN</td>\n",
       "      <td>left_only</td>\n",
       "    </tr>\n",
       "    <tr>\n",
       "      <th>50</th>\n",
       "      <td>은하수관현악단 가수</td>\n",
       "      <td>연도미상</td>\n",
       "      <td>True</td>\n",
       "      <td>1</td>\n",
       "      <td>NaN</td>\n",
       "      <td>NaN</td>\n",
       "      <td>NaN</td>\n",
       "      <td>은하수관현악단</td>\n",
       "      <td>NaN</td>\n",
       "      <td>은하수관혁악단</td>\n",
       "      <td>NaN</td>\n",
       "      <td>가수</td>\n",
       "      <td>NaN</td>\n",
       "      <td>NaN</td>\n",
       "      <td>left_only</td>\n",
       "    </tr>\n",
       "    <tr>\n",
       "      <th>71</th>\n",
       "      <td>당 중앙위원회 고문</td>\n",
       "      <td>2019.03</td>\n",
       "      <td>True</td>\n",
       "      <td>1</td>\n",
       "      <td>2019</td>\n",
       "      <td>3</td>\n",
       "      <td>NaN</td>\n",
       "      <td>노동당 중앙인민위원회</td>\n",
       "      <td>NaN</td>\n",
       "      <td>노동당</td>\n",
       "      <td>UNCERTAIN</td>\n",
       "      <td>고문</td>\n",
       "      <td>NaN</td>\n",
       "      <td>NaN</td>\n",
       "      <td>left_only</td>\n",
       "    </tr>\n",
       "    <tr>\n",
       "      <th>106</th>\n",
       "      <td>1992. 4 인민군 중장, 인민무력성 총참모부 공병국장</td>\n",
       "      <td>NaN</td>\n",
       "      <td>True</td>\n",
       "      <td>1</td>\n",
       "      <td>1992</td>\n",
       "      <td>4</td>\n",
       "      <td>인민무력성 총참모부 공병국장</td>\n",
       "      <td>인민무력성 총참모부</td>\n",
       "      <td>NaN</td>\n",
       "      <td>uncertain</td>\n",
       "      <td>uncertain</td>\n",
       "      <td>공병국장</td>\n",
       "      <td>NaN</td>\n",
       "      <td>NaN</td>\n",
       "      <td>left_only</td>\n",
       "    </tr>\n",
       "    <tr>\n",
       "      <th>131</th>\n",
       "      <td>남포대학 과장</td>\n",
       "      <td>연도미상</td>\n",
       "      <td>True</td>\n",
       "      <td>1</td>\n",
       "      <td>NaN</td>\n",
       "      <td>NaN</td>\n",
       "      <td>NaN</td>\n",
       "      <td>남포대학</td>\n",
       "      <td>NaN</td>\n",
       "      <td>내각</td>\n",
       "      <td>교육위원회_고등교육성_남포대학</td>\n",
       "      <td>과장</td>\n",
       "      <td>NaN</td>\n",
       "      <td>NaN</td>\n",
       "      <td>left_only</td>\n",
       "    </tr>\n",
       "    <tr>\n",
       "      <th>...</th>\n",
       "      <td>...</td>\n",
       "      <td>...</td>\n",
       "      <td>...</td>\n",
       "      <td>...</td>\n",
       "      <td>...</td>\n",
       "      <td>...</td>\n",
       "      <td>...</td>\n",
       "      <td>...</td>\n",
       "      <td>...</td>\n",
       "      <td>...</td>\n",
       "      <td>...</td>\n",
       "      <td>...</td>\n",
       "      <td>...</td>\n",
       "      <td>...</td>\n",
       "      <td>...</td>\n",
       "    </tr>\n",
       "    <tr>\n",
       "      <th>7535</th>\n",
       "      <td>총참모부 부총참모장 겸 화력지휘국장</td>\n",
       "      <td>2014.07</td>\n",
       "      <td>True</td>\n",
       "      <td>2</td>\n",
       "      <td>2014</td>\n",
       "      <td>7</td>\n",
       "      <td>화력지휘국장</td>\n",
       "      <td>NaN</td>\n",
       "      <td>NaN</td>\n",
       "      <td>uncertain</td>\n",
       "      <td>uncertain</td>\n",
       "      <td>NaN</td>\n",
       "      <td>NaN</td>\n",
       "      <td>NaN</td>\n",
       "      <td>left_only</td>\n",
       "    </tr>\n",
       "    <tr>\n",
       "      <th>7589</th>\n",
       "      <td>제8군단장, 군 중장</td>\n",
       "      <td>연도미상</td>\n",
       "      <td>True</td>\n",
       "      <td>1</td>\n",
       "      <td>NaN</td>\n",
       "      <td>NaN</td>\n",
       "      <td>제8군단장</td>\n",
       "      <td>NaN</td>\n",
       "      <td>NaN</td>\n",
       "      <td>총참모부</td>\n",
       "      <td>작전총국_제4처_8군단</td>\n",
       "      <td>NaN</td>\n",
       "      <td>NaN</td>\n",
       "      <td>NaN</td>\n",
       "      <td>left_only</td>\n",
       "    </tr>\n",
       "    <tr>\n",
       "      <th>7756</th>\n",
       "      <td>1948. 8 중앙호위대원</td>\n",
       "      <td>NaN</td>\n",
       "      <td>True</td>\n",
       "      <td>1</td>\n",
       "      <td>1948</td>\n",
       "      <td>8</td>\n",
       "      <td>NaN</td>\n",
       "      <td>NaN</td>\n",
       "      <td>NaN</td>\n",
       "      <td>중앙호위대</td>\n",
       "      <td>NaN</td>\n",
       "      <td>NaN</td>\n",
       "      <td>NaN</td>\n",
       "      <td>NaN</td>\n",
       "      <td>left_only</td>\n",
       "    </tr>\n",
       "    <tr>\n",
       "      <th>8873</th>\n",
       "      <td>조선대외문화연락위원회 부위원장, 조선-베네수엘라 친선협회 위원장, 조선-쿠바 단결위...</td>\n",
       "      <td>2008.07</td>\n",
       "      <td>True</td>\n",
       "      <td>3</td>\n",
       "      <td>2008</td>\n",
       "      <td>7</td>\n",
       "      <td>조선-베네수엘라 친선협회 위원장</td>\n",
       "      <td>NaN</td>\n",
       "      <td>NaN</td>\n",
       "      <td>조선-베네수엘라 친선협회</td>\n",
       "      <td>NaN</td>\n",
       "      <td>NaN</td>\n",
       "      <td>NaN</td>\n",
       "      <td>NaN</td>\n",
       "      <td>left_only</td>\n",
       "    </tr>\n",
       "    <tr>\n",
       "      <th>8874</th>\n",
       "      <td>조선대외문화연락위원회 부위원장, 조선-베네수엘라 친선협회 위원장, 조선-쿠바 단결위...</td>\n",
       "      <td>2008.07</td>\n",
       "      <td>True</td>\n",
       "      <td>3</td>\n",
       "      <td>2008</td>\n",
       "      <td>7</td>\n",
       "      <td>조선-쿠바 단결위원회 부위원장</td>\n",
       "      <td>NaN</td>\n",
       "      <td>NaN</td>\n",
       "      <td>조선-쿠바 단결위원회</td>\n",
       "      <td>NaN</td>\n",
       "      <td>NaN</td>\n",
       "      <td>NaN</td>\n",
       "      <td>NaN</td>\n",
       "      <td>left_only</td>\n",
       "    </tr>\n",
       "  </tbody>\n",
       "</table>\n",
       "<p>217 rows × 15 columns</p>\n",
       "</div>"
      ],
      "text/plain": [
       "                                           CareerString CareerDateString_2022  \\\n",
       "33    1951.~57. 루마니아 유학 연도미상 당 조직지도부, 과학교육부, 기계공업부 등...                   NaN   \n",
       "50                                           은하수관현악단 가수                  연도미상   \n",
       "71                                           당 중앙위원회 고문               2019.03   \n",
       "106                     1992. 4 인민군 중장, 인민무력성 총참모부 공병국장                   NaN   \n",
       "131                                             남포대학 과장                  연도미상   \n",
       "...                                                 ...                   ...   \n",
       "7535                                총참모부 부총참모장 겸 화력지휘국장               2014.07   \n",
       "7589                                        제8군단장, 군 중장                  연도미상   \n",
       "7756                                     1948. 8 중앙호위대원                   NaN   \n",
       "8873  조선대외문화연락위원회 부위원장, 조선-베네수엘라 친선협회 위원장, 조선-쿠바 단결위...               2008.07   \n",
       "8874  조선대외문화연락위원회 부위원장, 조선-베네수엘라 친선협회 위원장, 조선-쿠바 단결위...               2008.07   \n",
       "\n",
       "     IsJob MultipleSubstrings CareerStartYear CareerStartMonth  \\\n",
       "33    True                  4            1951              NaN   \n",
       "50    True                  1             NaN              NaN   \n",
       "71    True                  1            2019                3   \n",
       "106   True                  1            1992                4   \n",
       "131   True                  1             NaN              NaN   \n",
       "...    ...                ...             ...              ...   \n",
       "7535  True                  2            2014                7   \n",
       "7589  True                  1             NaN              NaN   \n",
       "7756  True                  1            1948                8   \n",
       "8873  True                  3            2008                7   \n",
       "8874  True                  3            2008                7   \n",
       "\n",
       "        CareerSubstring    OrgString InstitutionType PrimaryInstitution  \\\n",
       "33              당 기계공업부          NaN             NaN          uncertain   \n",
       "50                  NaN      은하수관현악단             NaN            은하수관혁악단   \n",
       "71                  NaN  노동당 중앙인민위원회             NaN                노동당   \n",
       "106     인민무력성 총참모부 공병국장   인민무력성 총참모부             NaN          uncertain   \n",
       "131                 NaN         남포대학             NaN                 내각   \n",
       "...                 ...          ...             ...                ...   \n",
       "7535             화력지휘국장          NaN             NaN          uncertain   \n",
       "7589              제8군단장          NaN             NaN               총참모부   \n",
       "7756                NaN          NaN             NaN              중앙호위대   \n",
       "8873  조선-베네수엘라 친선협회 위원장          NaN             NaN      조선-베네수엘라 친선협회   \n",
       "8874   조선-쿠바 단결위원회 부위원장          NaN             NaN        조선-쿠바 단결위원회   \n",
       "\n",
       "               OrgName   Position Notes InstitutionType_m     _merge  \n",
       "33           uncertain  uncertain   NaN               NaN  left_only  \n",
       "50                 NaN         가수   NaN               NaN  left_only  \n",
       "71           UNCERTAIN         고문   NaN               NaN  left_only  \n",
       "106          uncertain       공병국장   NaN               NaN  left_only  \n",
       "131   교육위원회_고등교육성_남포대학         과장   NaN               NaN  left_only  \n",
       "...                ...        ...   ...               ...        ...  \n",
       "7535         uncertain        NaN   NaN               NaN  left_only  \n",
       "7589      작전총국_제4처_8군단        NaN   NaN               NaN  left_only  \n",
       "7756               NaN        NaN   NaN               NaN  left_only  \n",
       "8873               NaN        NaN   NaN               NaN  left_only  \n",
       "8874               NaN        NaN   NaN               NaN  left_only  \n",
       "\n",
       "[217 rows x 15 columns]"
      ]
     },
     "execution_count": 121,
     "metadata": {},
     "output_type": "execute_result"
    }
   ],
   "source": [
    "# if Uncertain, then change IsJob to False\n",
    "# if Certain, then update InstitutionType in careerorglink & orgtree\n",
    "col6[(col6[\"InstitutionType\"].isnull()) & (col6[\"IsJob\"]==\"True\")]"
   ]
  },
  {
   "cell_type": "code",
   "execution_count": 122,
   "id": "c29c2a60",
   "metadata": {},
   "outputs": [
    {
     "data": {
      "text/plain": [
       "(0, 15)"
      ]
     },
     "execution_count": 122,
     "metadata": {},
     "output_type": "execute_result"
    }
   ],
   "source": [
    "# all non-null InstitutionType have been copied \n",
    "col6[(col6[\"InstitutionType\"].isnull()) & (col6[\"InstitutionType_m\"].notnull())].shape"
   ]
  },
  {
   "cell_type": "code",
   "execution_count": 123,
   "id": "7ab26e0d",
   "metadata": {},
   "outputs": [
    {
     "name": "stdout",
     "output_type": "stream",
     "text": [
      "col6:\t (9002, 15)\n",
      "m3:\t (2112, 12)\n",
      "opr4:\t (2392, 20)\n"
     ]
    }
   ],
   "source": [
    "# updated tables\n",
    "print(\"col6:\\t\",col6.shape)\n",
    "print(\"m3:\\t\",m3.shape)\n",
    "print(\"opr4:\\t\",opr4.shape)"
   ]
  },
  {
   "cell_type": "markdown",
   "id": "84818802",
   "metadata": {},
   "source": [
    "### Step 6. using mismatches Position, update orgtree P1, P2, P3"
   ]
  },
  {
   "cell_type": "code",
   "execution_count": 124,
   "id": "7f24b4b6",
   "metadata": {},
   "outputs": [],
   "source": [
    "#### select mismatches to merge with orgtree"
   ]
  },
  {
   "cell_type": "code",
   "execution_count": 125,
   "id": "5f76f687",
   "metadata": {},
   "outputs": [
    {
     "data": {
      "text/plain": [
       "Index(['CareerString', 'CareerStartYear', 'MultipleSubstrings',\n",
       "       'CareerSubstring', 'IsJob', 'InstitutionType', 'PrimaryInstitution',\n",
       "       'OrgName', 'Position', 'LinkToNext_Year', 'Resolution', 'Notes'],\n",
       "      dtype='object')"
      ]
     },
     "execution_count": 125,
     "metadata": {},
     "output_type": "execute_result"
    }
   ],
   "source": [
    "m3.columns"
   ]
  },
  {
   "cell_type": "code",
   "execution_count": 126,
   "id": "7e3d793f",
   "metadata": {},
   "outputs": [
    {
     "data": {
      "text/plain": [
       "(799, 4)"
      ]
     },
     "execution_count": 126,
     "metadata": {},
     "output_type": "execute_result"
    }
   ],
   "source": [
    "opr_key_columns = [\"PrimaryInstitution\",\"OrgName\"]\n",
    "m3_org_columns = opr_key_columns + [\"Position\",\"Resolution\"]\n",
    "m3pos_merge = m3[m3_org_columns]\n",
    "m3pos_merge = m3pos_merge.drop_duplicates(keep=\"first\")\n",
    "m3pos_merge.shape"
   ]
  },
  {
   "cell_type": "code",
   "execution_count": 297,
   "id": "b860dc9d",
   "metadata": {},
   "outputs": [
    {
     "data": {
      "text/html": [
       "<div>\n",
       "<style scoped>\n",
       "    .dataframe tbody tr th:only-of-type {\n",
       "        vertical-align: middle;\n",
       "    }\n",
       "\n",
       "    .dataframe tbody tr th {\n",
       "        vertical-align: top;\n",
       "    }\n",
       "\n",
       "    .dataframe thead th {\n",
       "        text-align: right;\n",
       "    }\n",
       "</style>\n",
       "<table border=\"1\" class=\"dataframe\">\n",
       "  <thead>\n",
       "    <tr style=\"text-align: right;\">\n",
       "      <th></th>\n",
       "      <th>PrimaryInstitution</th>\n",
       "      <th>OrgName</th>\n",
       "      <th>Position</th>\n",
       "    </tr>\n",
       "  </thead>\n",
       "  <tbody>\n",
       "    <tr>\n",
       "      <th>17</th>\n",
       "      <td>내각</td>\n",
       "      <td>외무성_유엔대표부</td>\n",
       "      <td>공사</td>\n",
       "    </tr>\n",
       "    <tr>\n",
       "      <th>25</th>\n",
       "      <td>내각</td>\n",
       "      <td>외무성</td>\n",
       "      <td>과장</td>\n",
       "    </tr>\n",
       "    <tr>\n",
       "      <th>59</th>\n",
       "      <td>내각</td>\n",
       "      <td>조국평화통일위원회_서기국</td>\n",
       "      <td>제1국장</td>\n",
       "    </tr>\n",
       "    <tr>\n",
       "      <th>61</th>\n",
       "      <td>내각</td>\n",
       "      <td>철도성_X국</td>\n",
       "      <td>국장</td>\n",
       "    </tr>\n",
       "    <tr>\n",
       "      <th>86</th>\n",
       "      <td>내각</td>\n",
       "      <td>외무성_유엔대표부</td>\n",
       "      <td>대사</td>\n",
       "    </tr>\n",
       "    <tr>\n",
       "      <th>...</th>\n",
       "      <td>...</td>\n",
       "      <td>...</td>\n",
       "      <td>...</td>\n",
       "    </tr>\n",
       "    <tr>\n",
       "      <th>2209</th>\n",
       "      <td>조국통일민주주의전선</td>\n",
       "      <td>중앙위원회</td>\n",
       "      <td>의장</td>\n",
       "    </tr>\n",
       "    <tr>\n",
       "      <th>2219</th>\n",
       "      <td>조선사회주의여성동맹</td>\n",
       "      <td>중앙위원회</td>\n",
       "      <td>임원</td>\n",
       "    </tr>\n",
       "    <tr>\n",
       "      <th>2220</th>\n",
       "      <td>조선적십자회</td>\n",
       "      <td>중앙위원회</td>\n",
       "      <td>자문위원</td>\n",
       "    </tr>\n",
       "    <tr>\n",
       "      <th>2222</th>\n",
       "      <td>조국통일민주주의전선</td>\n",
       "      <td>NaN</td>\n",
       "      <td>중앙위원</td>\n",
       "    </tr>\n",
       "    <tr>\n",
       "      <th>2223</th>\n",
       "      <td>조선문학창작사</td>\n",
       "      <td>NaN</td>\n",
       "      <td>편집국장</td>\n",
       "    </tr>\n",
       "  </tbody>\n",
       "</table>\n",
       "<p>282 rows × 3 columns</p>\n",
       "</div>"
      ],
      "text/plain": [
       "     PrimaryInstitution        OrgName Position\n",
       "17                   내각      외무성_유엔대표부       공사\n",
       "25                   내각            외무성       과장\n",
       "59                   내각  조국평화통일위원회_서기국     제1국장\n",
       "61                   내각         철도성_X국       국장\n",
       "86                   내각      외무성_유엔대표부       대사\n",
       "...                 ...            ...      ...\n",
       "2209         조국통일민주주의전선          중앙위원회       의장\n",
       "2219         조선사회주의여성동맹          중앙위원회       임원\n",
       "2220             조선적십자회          중앙위원회     자문위원\n",
       "2222         조국통일민주주의전선            NaN     중앙위원\n",
       "2223            조선문학창작사            NaN     편집국장\n",
       "\n",
       "[282 rows x 3 columns]"
      ]
     },
     "execution_count": 297,
     "metadata": {},
     "output_type": "execute_result"
    }
   ],
   "source": [
    "# m3pos_merge[m3pos_merge.duplicated(opr_key_columns)]"
   ]
  },
  {
   "cell_type": "markdown",
   "id": "c06cf844",
   "metadata": {},
   "source": [
    "#### orgtree: update Positions - I may need to write a function"
   ]
  },
  {
   "cell_type": "code",
   "execution_count": 266,
   "id": "9e13cbc5",
   "metadata": {},
   "outputs": [
    {
     "name": "stdout",
     "output_type": "stream",
     "text": [
      "\n",
      "Merge Results...\n",
      "\n",
      "\tshape     : (2695, 23)\n",
      "\tleft_only : (1856, 23)\n",
      "\tboth      : (839, 23)\n",
      "\tright_only: (0, 23)\n"
     ]
    }
   ],
   "source": [
    "# merge opr on m2 (complete & updated mismatches)\n",
    "# although I used an outer join, note no \"right_only\". in an earlier step, all mismatches were concatenated into orgtree\n",
    "\n",
    "opr5 = opr4.merge(m3pos_merge,on=opr_key_columns,how=\"outer\",suffixes=(\"\",\"_m\"),indicator=True)\n",
    "merge_results(opr5)"
   ]
  },
  {
   "cell_type": "code",
   "execution_count": 267,
   "id": "b2cdb2e4",
   "metadata": {},
   "outputs": [
    {
     "data": {
      "text/html": [
       "<div>\n",
       "<style scoped>\n",
       "    .dataframe tbody tr th:only-of-type {\n",
       "        vertical-align: middle;\n",
       "    }\n",
       "\n",
       "    .dataframe tbody tr th {\n",
       "        vertical-align: top;\n",
       "    }\n",
       "\n",
       "    .dataframe thead th {\n",
       "        text-align: right;\n",
       "    }\n",
       "</style>\n",
       "<table border=\"1\" class=\"dataframe\">\n",
       "  <thead>\n",
       "    <tr style=\"text-align: right;\">\n",
       "      <th></th>\n",
       "      <th>PrimaryInstitution</th>\n",
       "      <th>OrgName</th>\n",
       "      <th>Position</th>\n",
       "    </tr>\n",
       "    <tr>\n",
       "      <th>Resolution</th>\n",
       "      <th></th>\n",
       "      <th></th>\n",
       "      <th></th>\n",
       "    </tr>\n",
       "  </thead>\n",
       "  <tbody>\n",
       "    <tr>\n",
       "      <th>1. OrgName &amp; Position ok. Add Position to P1</th>\n",
       "      <td>476</td>\n",
       "      <td>282</td>\n",
       "      <td>476</td>\n",
       "    </tr>\n",
       "    <tr>\n",
       "      <th>2. OrgName &amp; Position ok. Add Position to P2</th>\n",
       "      <td>162</td>\n",
       "      <td>94</td>\n",
       "      <td>162</td>\n",
       "    </tr>\n",
       "    <tr>\n",
       "      <th>3. OrgName &amp; Position ok. Add Position to P3</th>\n",
       "      <td>161</td>\n",
       "      <td>102</td>\n",
       "      <td>161</td>\n",
       "    </tr>\n",
       "  </tbody>\n",
       "</table>\n",
       "</div>"
      ],
      "text/plain": [
       "                                              PrimaryInstitution  OrgName  \\\n",
       "Resolution                                                                  \n",
       "1. OrgName & Position ok. Add Position to P1                 476      282   \n",
       "2. OrgName & Position ok. Add Position to P2                 162       94   \n",
       "3. OrgName & Position ok. Add Position to P3                 161      102   \n",
       "\n",
       "                                              Position  \n",
       "Resolution                                              \n",
       "1. OrgName & Position ok. Add Position to P1       476  \n",
       "2. OrgName & Position ok. Add Position to P2       162  \n",
       "3. OrgName & Position ok. Add Position to P3       161  "
      ]
     },
     "execution_count": 267,
     "metadata": {},
     "output_type": "execute_result"
    }
   ],
   "source": [
    "# verify no \"4. Change_OrgName and/or Change_Position\"\n",
    "m3pos_merge.groupby(\"Resolution\").count()"
   ]
  },
  {
   "cell_type": "code",
   "execution_count": 268,
   "id": "f6ce116e",
   "metadata": {},
   "outputs": [
    {
     "data": {
      "text/html": [
       "<div>\n",
       "<style scoped>\n",
       "    .dataframe tbody tr th:only-of-type {\n",
       "        vertical-align: middle;\n",
       "    }\n",
       "\n",
       "    .dataframe tbody tr th {\n",
       "        vertical-align: top;\n",
       "    }\n",
       "\n",
       "    .dataframe thead th {\n",
       "        text-align: right;\n",
       "    }\n",
       "</style>\n",
       "<table border=\"1\" class=\"dataframe\">\n",
       "  <thead>\n",
       "    <tr style=\"text-align: right;\">\n",
       "      <th></th>\n",
       "      <th>PrimaryInstitution</th>\n",
       "      <th>OrgName</th>\n",
       "      <th>Position</th>\n",
       "      <th>Resolution</th>\n",
       "    </tr>\n",
       "  </thead>\n",
       "  <tbody>\n",
       "  </tbody>\n",
       "</table>\n",
       "</div>"
      ],
      "text/plain": [
       "Empty DataFrame\n",
       "Columns: [PrimaryInstitution, OrgName, Position, Resolution]\n",
       "Index: []"
      ]
     },
     "execution_count": 268,
     "metadata": {},
     "output_type": "execute_result"
    }
   ],
   "source": [
    "m3pos_merge[m3pos_merge.Resolution==\"4. Change_OrgName and/or Change_Position\"]"
   ]
  },
  {
   "cell_type": "code",
   "execution_count": 269,
   "id": "ec6c38a3",
   "metadata": {},
   "outputs": [
    {
     "data": {
      "text/plain": [
       "Index(['InsideGov', 'InstitutionType', 'OrgType', 'PrimaryInstitution',\n",
       "       'OrgName', 'PI_Index', 'OrgRank', 'P1', 'P2', 'P3', 'LinkToNext_PI',\n",
       "       'LinkToNext_Org', 'LinkToNext_Year', 'Notes', 'L1_Index', 'L2_Index',\n",
       "       'L3_Index', 'L4_Index', 'L5_Index', 'Alias_OrgName', 'Position',\n",
       "       'Resolution', '_merge'],\n",
       "      dtype='object')"
      ]
     },
     "execution_count": 269,
     "metadata": {},
     "output_type": "execute_result"
    }
   ],
   "source": [
    "opr5.columns"
   ]
  },
  {
   "cell_type": "code",
   "execution_count": 270,
   "id": "4ccf1e2c",
   "metadata": {},
   "outputs": [
    {
     "data": {
      "text/plain": [
       "array([nan, '총장', '군단장', '소장', '교장, 당비서', '사령관', '총국장', '부장', '위원장', '상',\n",
       "       '국장', '대사', '대표', '총비서', '상무위원', '실장', '고문, 부장', '책임비서', '참사',\n",
       "       '총리', '당책임비서, 사무장', '국방', '책임자', '관장', '사장', '당책임비서, 위원장', '단장',\n",
       "       '원장', '과장', '지배인', '총사장', '대장', '담당관', '초급당비서', '초급당비서, 원장', '처장',\n",
       "       '선장', '기사장', '교장', '역장', '분국장', '당책임비서, 원장', '총재', '위원장, 당위원장',\n",
       "       '의장', '검사', '최고사령관', '총참모장', '국장, 사령관', '학부장', '학장', '책임주필',\n",
       "       '단장, 지위자', '초급당비서, 위원장', '초급당비서, 의장', '사무총장', '북측대표', '회장',\n",
       "       '중앙본부단장', '서기장', '주지', '담임목사'], dtype=object)"
      ]
     },
     "execution_count": 270,
     "metadata": {},
     "output_type": "execute_result"
    }
   ],
   "source": [
    "opr5.P1.unique()"
   ]
  },
  {
   "cell_type": "code",
   "execution_count": 271,
   "id": "4b48085e",
   "metadata": {},
   "outputs": [],
   "source": [
    "P1_null_condition = (opr5.Resolution==\"1. OrgName & Position ok. Add Position to P1\") & (opr5.P1.isnull())\n",
    "P2_null_condition = (opr5.Resolution==\"2. OrgName & Position ok. Add Position to P2\") & (opr5.P2.isnull())\n",
    "P3_null_condition = (opr5.Resolution==\"3. OrgName & Position ok. Add Position to P3\") & (opr5.P3.isnull())"
   ]
  },
  {
   "cell_type": "code",
   "execution_count": 272,
   "id": "4b0c2ee4",
   "metadata": {},
   "outputs": [],
   "source": [
    "P1_notnull_condition = (opr5.Resolution==\"1. OrgName & Position ok. Add Position to P1\") & (opr5.P1.notnull())\n",
    "P2_notnull_condition = (opr5.Resolution==\"2. OrgName & Position ok. Add Position to P2\") & (opr5.P2.notnull())\n",
    "P3_notnull_condition = (opr5.Resolution==\"3. OrgName & Position ok. Add Position to P3\") & (opr5.P3.notnull())"
   ]
  },
  {
   "cell_type": "code",
   "execution_count": 275,
   "id": "ead2f7c4",
   "metadata": {},
   "outputs": [],
   "source": [
    "# opr5.loc[P3_notnull_condition,[\"P3\",\"Position\"]]"
   ]
  },
  {
   "cell_type": "code",
   "execution_count": 276,
   "id": "1facb607",
   "metadata": {},
   "outputs": [
    {
     "data": {
      "text/html": [
       "<div>\n",
       "<style scoped>\n",
       "    .dataframe tbody tr th:only-of-type {\n",
       "        vertical-align: middle;\n",
       "    }\n",
       "\n",
       "    .dataframe tbody tr th {\n",
       "        vertical-align: top;\n",
       "    }\n",
       "\n",
       "    .dataframe thead th {\n",
       "        text-align: right;\n",
       "    }\n",
       "</style>\n",
       "<table border=\"1\" class=\"dataframe\">\n",
       "  <thead>\n",
       "    <tr style=\"text-align: right;\">\n",
       "      <th></th>\n",
       "      <th>P3</th>\n",
       "      <th>Position</th>\n",
       "    </tr>\n",
       "  </thead>\n",
       "  <tbody>\n",
       "    <tr>\n",
       "      <th>14</th>\n",
       "      <td>NaN</td>\n",
       "      <td>정치위원</td>\n",
       "    </tr>\n",
       "    <tr>\n",
       "      <th>18</th>\n",
       "      <td>NaN</td>\n",
       "      <td>정치위원</td>\n",
       "    </tr>\n",
       "    <tr>\n",
       "      <th>31</th>\n",
       "      <td>NaN</td>\n",
       "      <td>후보위원</td>\n",
       "    </tr>\n",
       "    <tr>\n",
       "      <th>32</th>\n",
       "      <td>NaN</td>\n",
       "      <td>위원</td>\n",
       "    </tr>\n",
       "    <tr>\n",
       "      <th>61</th>\n",
       "      <td>NaN</td>\n",
       "      <td>위원</td>\n",
       "    </tr>\n",
       "    <tr>\n",
       "      <th>...</th>\n",
       "      <td>...</td>\n",
       "      <td>...</td>\n",
       "    </tr>\n",
       "    <tr>\n",
       "      <th>2645</th>\n",
       "      <td>NaN</td>\n",
       "      <td>대의원</td>\n",
       "    </tr>\n",
       "    <tr>\n",
       "      <th>2646</th>\n",
       "      <td>NaN</td>\n",
       "      <td>대의원</td>\n",
       "    </tr>\n",
       "    <tr>\n",
       "      <th>2656</th>\n",
       "      <td>NaN</td>\n",
       "      <td>정치위원</td>\n",
       "    </tr>\n",
       "    <tr>\n",
       "      <th>2674</th>\n",
       "      <td>NaN</td>\n",
       "      <td>위원</td>\n",
       "    </tr>\n",
       "    <tr>\n",
       "      <th>2676</th>\n",
       "      <td>NaN</td>\n",
       "      <td>지도원</td>\n",
       "    </tr>\n",
       "  </tbody>\n",
       "</table>\n",
       "<p>118 rows × 2 columns</p>\n",
       "</div>"
      ],
      "text/plain": [
       "       P3 Position\n",
       "14    NaN     정치위원\n",
       "18    NaN     정치위원\n",
       "31    NaN     후보위원\n",
       "32    NaN       위원\n",
       "61    NaN       위원\n",
       "...   ...      ...\n",
       "2645  NaN      대의원\n",
       "2646  NaN      대의원\n",
       "2656  NaN     정치위원\n",
       "2674  NaN       위원\n",
       "2676  NaN      지도원\n",
       "\n",
       "[118 rows x 2 columns]"
      ]
     },
     "execution_count": 276,
     "metadata": {},
     "output_type": "execute_result"
    }
   ],
   "source": [
    "# null condition, before\n",
    "opr5.loc[P3_null_condition,[\"P3\",\"Position\"]].head(5)"
   ]
  },
  {
   "cell_type": "code",
   "execution_count": 277,
   "id": "30bb34b5",
   "metadata": {},
   "outputs": [],
   "source": [
    "# add Position to P1, if P1 null\n",
    "opr5.loc[P1_null_condition,\"P1\"] = opr5.loc[P1_null_condition,\"Position\"]"
   ]
  },
  {
   "cell_type": "code",
   "execution_count": 278,
   "id": "d56f942c",
   "metadata": {},
   "outputs": [],
   "source": [
    "# add Position to P2, if P2 null\n",
    "opr5.loc[P2_null_condition,\"P2\"] = opr5.loc[P2_null_condition,\"Position\"]"
   ]
  },
  {
   "cell_type": "code",
   "execution_count": 279,
   "id": "ff7c727b",
   "metadata": {},
   "outputs": [],
   "source": [
    "# add Position to P3, if P3 null\n",
    "opr5.loc[P3_null_condition,\"P3\"] = opr5.loc[P3_null_condition,\"Position\"]"
   ]
  },
  {
   "cell_type": "code",
   "execution_count": 280,
   "id": "9b00acba",
   "metadata": {},
   "outputs": [
    {
     "data": {
      "text/html": [
       "<div>\n",
       "<style scoped>\n",
       "    .dataframe tbody tr th:only-of-type {\n",
       "        vertical-align: middle;\n",
       "    }\n",
       "\n",
       "    .dataframe tbody tr th {\n",
       "        vertical-align: top;\n",
       "    }\n",
       "\n",
       "    .dataframe thead th {\n",
       "        text-align: right;\n",
       "    }\n",
       "</style>\n",
       "<table border=\"1\" class=\"dataframe\">\n",
       "  <thead>\n",
       "    <tr style=\"text-align: right;\">\n",
       "      <th></th>\n",
       "      <th>P3</th>\n",
       "      <th>Position</th>\n",
       "    </tr>\n",
       "  </thead>\n",
       "  <tbody>\n",
       "    <tr>\n",
       "      <th>14</th>\n",
       "      <td>정치위원</td>\n",
       "      <td>정치위원</td>\n",
       "    </tr>\n",
       "    <tr>\n",
       "      <th>18</th>\n",
       "      <td>정치위원</td>\n",
       "      <td>정치위원</td>\n",
       "    </tr>\n",
       "    <tr>\n",
       "      <th>31</th>\n",
       "      <td>후보위원</td>\n",
       "      <td>후보위원</td>\n",
       "    </tr>\n",
       "    <tr>\n",
       "      <th>32</th>\n",
       "      <td>위원</td>\n",
       "      <td>위원</td>\n",
       "    </tr>\n",
       "    <tr>\n",
       "      <th>61</th>\n",
       "      <td>위원</td>\n",
       "      <td>위원</td>\n",
       "    </tr>\n",
       "    <tr>\n",
       "      <th>...</th>\n",
       "      <td>...</td>\n",
       "      <td>...</td>\n",
       "    </tr>\n",
       "    <tr>\n",
       "      <th>2645</th>\n",
       "      <td>대의원</td>\n",
       "      <td>대의원</td>\n",
       "    </tr>\n",
       "    <tr>\n",
       "      <th>2646</th>\n",
       "      <td>대의원</td>\n",
       "      <td>대의원</td>\n",
       "    </tr>\n",
       "    <tr>\n",
       "      <th>2656</th>\n",
       "      <td>정치위원</td>\n",
       "      <td>정치위원</td>\n",
       "    </tr>\n",
       "    <tr>\n",
       "      <th>2674</th>\n",
       "      <td>위원</td>\n",
       "      <td>위원</td>\n",
       "    </tr>\n",
       "    <tr>\n",
       "      <th>2676</th>\n",
       "      <td>지도원</td>\n",
       "      <td>지도원</td>\n",
       "    </tr>\n",
       "  </tbody>\n",
       "</table>\n",
       "<p>118 rows × 2 columns</p>\n",
       "</div>"
      ],
      "text/plain": [
       "        P3 Position\n",
       "14    정치위원     정치위원\n",
       "18    정치위원     정치위원\n",
       "31    후보위원     후보위원\n",
       "32      위원       위원\n",
       "61      위원       위원\n",
       "...    ...      ...\n",
       "2645   대의원      대의원\n",
       "2646   대의원      대의원\n",
       "2656  정치위원     정치위원\n",
       "2674    위원       위원\n",
       "2676   지도원      지도원\n",
       "\n",
       "[118 rows x 2 columns]"
      ]
     },
     "execution_count": 280,
     "metadata": {},
     "output_type": "execute_result"
    }
   ],
   "source": [
    "# null condition, after\n",
    "# confirms Positions were correctly added \n",
    "opr5.loc[P3_null_condition,[\"P3\",\"Position\"]].head(5)"
   ]
  },
  {
   "cell_type": "code",
   "execution_count": null,
   "id": "fe344523",
   "metadata": {},
   "outputs": [],
   "source": []
  },
  {
   "cell_type": "code",
   "execution_count": 287,
   "id": "d0bba83d",
   "metadata": {},
   "outputs": [
    {
     "data": {
      "text/html": [
       "<div>\n",
       "<style scoped>\n",
       "    .dataframe tbody tr th:only-of-type {\n",
       "        vertical-align: middle;\n",
       "    }\n",
       "\n",
       "    .dataframe tbody tr th {\n",
       "        vertical-align: top;\n",
       "    }\n",
       "\n",
       "    .dataframe thead th {\n",
       "        text-align: right;\n",
       "    }\n",
       "</style>\n",
       "<table border=\"1\" class=\"dataframe\">\n",
       "  <thead>\n",
       "    <tr style=\"text-align: right;\">\n",
       "      <th></th>\n",
       "      <th>P3</th>\n",
       "      <th>Position</th>\n",
       "    </tr>\n",
       "  </thead>\n",
       "  <tbody>\n",
       "    <tr>\n",
       "      <th>28</th>\n",
       "      <td>위원, 정치위원, 후보위원</td>\n",
       "      <td>후보위원</td>\n",
       "    </tr>\n",
       "    <tr>\n",
       "      <th>29</th>\n",
       "      <td>위원, 정치위원</td>\n",
       "      <td>위원</td>\n",
       "    </tr>\n",
       "    <tr>\n",
       "      <th>42</th>\n",
       "      <td>위원, 명예부위원장</td>\n",
       "      <td>명예부위원장</td>\n",
       "    </tr>\n",
       "    <tr>\n",
       "      <th>44</th>\n",
       "      <td>위원</td>\n",
       "      <td>위원</td>\n",
       "    </tr>\n",
       "    <tr>\n",
       "      <th>45</th>\n",
       "      <td>위원, 의원</td>\n",
       "      <td>의원</td>\n",
       "    </tr>\n",
       "  </tbody>\n",
       "</table>\n",
       "</div>"
      ],
      "text/plain": [
       "                P3 Position\n",
       "28  위원, 정치위원, 후보위원     후보위원\n",
       "29        위원, 정치위원       위원\n",
       "42      위원, 명예부위원장   명예부위원장\n",
       "44              위원       위원\n",
       "45          위원, 의원       의원"
      ]
     },
     "execution_count": 287,
     "metadata": {},
     "output_type": "execute_result"
    }
   ],
   "source": [
    "# not-null condition, before\n",
    "opr5.loc[P3_notnull_condition,[\"P3\",\"Position\"]].head(5)"
   ]
  },
  {
   "cell_type": "code",
   "execution_count": 283,
   "id": "f8c82447",
   "metadata": {},
   "outputs": [],
   "source": [
    "# add Position to P1, if P1 not null\n",
    "opr5.loc[P1_notnull_condition,\"P1\"] = opr5[P1_notnull_condition].apply(lambda x: str(x[\"P1\"]).strip()+\", \"+str(x[\"Position\"]).strip() if str(x[\"Position\"]).strip() not in [item.strip() for item in str(x[\"P1\"]).split(\",\")] else str(x[\"P1\"]),axis=1)"
   ]
  },
  {
   "cell_type": "code",
   "execution_count": 284,
   "id": "2285c7ad",
   "metadata": {},
   "outputs": [],
   "source": [
    "# add Position to P2, if P2 not null\n",
    "opr5.loc[P2_notnull_condition,\"P2\"] = opr5[P2_notnull_condition].apply(lambda x: str(x[\"P2\"]).strip()+\", \"+str(x[\"Position\"]).strip() if str(x[\"Position\"]).strip() not in [item.strip() for item in str(x[\"P2\"]).split(\",\")] else str(x[\"P2\"]),axis=1)"
   ]
  },
  {
   "cell_type": "code",
   "execution_count": 285,
   "id": "b98bc336",
   "metadata": {},
   "outputs": [],
   "source": [
    "# add Position to P3, if P3 not null\n",
    "opr5.loc[P3_notnull_condition,\"P3\"] = opr5[P3_notnull_condition].apply(lambda x: str(x[\"P3\"]).strip()+\", \"+str(x[\"Position\"]).strip() if str(x[\"Position\"]).strip() not in [item.strip() for item in str(x[\"P3\"]).split(\",\")] else str(x[\"P3\"]),axis=1)"
   ]
  },
  {
   "cell_type": "code",
   "execution_count": 289,
   "id": "e54a8515",
   "metadata": {},
   "outputs": [
    {
     "data": {
      "text/html": [
       "<div>\n",
       "<style scoped>\n",
       "    .dataframe tbody tr th:only-of-type {\n",
       "        vertical-align: middle;\n",
       "    }\n",
       "\n",
       "    .dataframe tbody tr th {\n",
       "        vertical-align: top;\n",
       "    }\n",
       "\n",
       "    .dataframe thead th {\n",
       "        text-align: right;\n",
       "    }\n",
       "</style>\n",
       "<table border=\"1\" class=\"dataframe\">\n",
       "  <thead>\n",
       "    <tr style=\"text-align: right;\">\n",
       "      <th></th>\n",
       "      <th>P3</th>\n",
       "      <th>Position</th>\n",
       "    </tr>\n",
       "  </thead>\n",
       "  <tbody>\n",
       "    <tr>\n",
       "      <th>28</th>\n",
       "      <td>위원, 정치위원, 후보위원</td>\n",
       "      <td>후보위원</td>\n",
       "    </tr>\n",
       "    <tr>\n",
       "      <th>29</th>\n",
       "      <td>위원, 정치위원</td>\n",
       "      <td>위원</td>\n",
       "    </tr>\n",
       "    <tr>\n",
       "      <th>42</th>\n",
       "      <td>위원, 명예부위원장</td>\n",
       "      <td>명예부위원장</td>\n",
       "    </tr>\n",
       "    <tr>\n",
       "      <th>44</th>\n",
       "      <td>위원</td>\n",
       "      <td>위원</td>\n",
       "    </tr>\n",
       "    <tr>\n",
       "      <th>45</th>\n",
       "      <td>위원, 의원</td>\n",
       "      <td>의원</td>\n",
       "    </tr>\n",
       "  </tbody>\n",
       "</table>\n",
       "</div>"
      ],
      "text/plain": [
       "                P3 Position\n",
       "28  위원, 정치위원, 후보위원     후보위원\n",
       "29        위원, 정치위원       위원\n",
       "42      위원, 명예부위원장   명예부위원장\n",
       "44              위원       위원\n",
       "45          위원, 의원       의원"
      ]
     },
     "execution_count": 289,
     "metadata": {},
     "output_type": "execute_result"
    }
   ],
   "source": [
    "# not-null condition, after\n",
    "# confirms Positions were correctly added \n",
    "opr5.loc[P3_notnull_condition,[\"P3\",\"Position\"]].head(5)"
   ]
  },
  {
   "cell_type": "code",
   "execution_count": 290,
   "id": "ed8845b0",
   "metadata": {},
   "outputs": [],
   "source": [
    "# drop columns Position and _merge\n",
    "opr5 = opr5[opr4.columns]"
   ]
  },
  {
   "cell_type": "code",
   "execution_count": 131,
   "id": "fead281d",
   "metadata": {},
   "outputs": [],
   "source": [
    "# drop Resolution from mismatches; actually, it doesn't matter, because at this point, w "
   ]
  },
  {
   "cell_type": "code",
   "execution_count": 294,
   "id": "4bc3f2c3",
   "metadata": {},
   "outputs": [
    {
     "name": "stdout",
     "output_type": "stream",
     "text": [
      "Prior to this Step\n",
      "col6:\t (9002, 15)\n",
      "m3:\t (2112, 12)\n",
      "opr4:\t (2392, 20)\n",
      "\n",
      "After to this Step\n",
      "col6:\t (9002, 15)\n",
      "m3:\t (2112, 12)\n",
      "opr5:\t (2695, 20)\n"
     ]
    }
   ],
   "source": [
    "# updated tables\n",
    "print(\"Prior to this Step\")\n",
    "print(\"col6:\\t\",col6.shape)\n",
    "print(\"m3:\\t\",m3.shape)\n",
    "print(\"opr4:\\t\",opr4.shape)\n",
    "\n",
    "print(\"\")\n",
    "\n",
    "print(\"After to this Step\")\n",
    "print(\"col6:\\t\",col6.shape)\n",
    "print(\"m3:\\t\",m3.shape)\n",
    "print(\"opr5:\\t\",opr5.shape)"
   ]
  },
  {
   "cell_type": "markdown",
   "id": "ca015868",
   "metadata": {},
   "source": [
    "# Issue: why did opr5 go up to 2695 from 2392?"
   ]
  },
  {
   "cell_type": "code",
   "execution_count": null,
   "id": "99f2d99a",
   "metadata": {},
   "outputs": [],
   "source": []
  },
  {
   "cell_type": "code",
   "execution_count": null,
   "id": "094b814b",
   "metadata": {},
   "outputs": [],
   "source": []
  },
  {
   "cell_type": "code",
   "execution_count": null,
   "id": "e211c159",
   "metadata": {},
   "outputs": [],
   "source": []
  },
  {
   "cell_type": "code",
   "execution_count": null,
   "id": "551d43fe",
   "metadata": {},
   "outputs": [],
   "source": []
  },
  {
   "cell_type": "code",
   "execution_count": null,
   "id": "f3dda195",
   "metadata": {},
   "outputs": [],
   "source": []
  },
  {
   "cell_type": "code",
   "execution_count": null,
   "id": "2ad0a8ba",
   "metadata": {},
   "outputs": [],
   "source": []
  },
  {
   "cell_type": "markdown",
   "id": "bb8e02a2",
   "metadata": {},
   "source": [
    "- Review Integrity Checks & Edit Mismatches\n",
    "    - Validate InstitutionType, OrgType\n",
    "    - Data in Careers but not in Orgtree, including Aliases)\n",
    "    - Orgs in Orgtree but not in Careers or 기관별인명록\n",
    "    - For 200 & 500 series PrimaryInstitutions, search whether they are contained in OrgName, within a PrimaryInstitution\n",
    "    - Verify no Positions overlapping within the same PI, OrgName\n",
    "    - Verify no contrary categories of positions overlapping (e.g., 위원장, 소장)\n",
    "    - Verify that all (CareerString,CareerDateString,CareerSubstring) are uniquely matched to a (PI, OrgName). Not multiple encodings"
   ]
  },
  {
   "cell_type": "code",
   "execution_count": null,
   "id": "290492ad",
   "metadata": {},
   "outputs": [],
   "source": []
  },
  {
   "cell_type": "markdown",
   "id": "67c8d2d3",
   "metadata": {},
   "source": [
    "- Recode & Recategorize some (PI,OrgName)\n",
    "    - 중앙위원회\n",
    "    - 인민군, 총참모부, 인민무력부, \n",
    "    - 국방위원회: 인민군?\n",
    "    - 중앙인민위원회: 정권기관\n",
    "    - 국제친선기관: I will add and match existing ones\n",
    "    - 인민회의 or 인민위원회?\n",
    "    - 노동당 총정치국 --> 인민군 총정치국\n",
    "    - add 북조선노동당 as an alias to 노동당\n",
    "    - alias the PrimaryInstitutions, 내각, 내각A, 내각B, 등 at least when calculating whether transitions are between or across institutions\n",
    "    - 노동당 - fix the old party organization\n",
    "        - https://encykorea.aks.ac.kr/Article/E0070188\n",
    "        - 1947년 북조선로동당 ‘5과’로 창설되었다. 6·25전쟁기 남한지역 내 게릴라부대의 지하당 공작 과정에서 대남 공작기구를 확대하면서 당 조직부 내의 연락부를 분리했다. 1961년 4차 당대회에서 남한에서의 지하당 조직 확대와 통일전선 강화 등의 결정과 함께 내무성 등의 대남 공작기구를 통합해 중앙당 ‘연락국’을 신설했다. 1964년 2월 조선로동당 중앙위원회 4기 8차 전원회의에서 ‘3대 혁명력량 강화’노선을 채택하면서 종래의 연락국을 ‘대남사업총국’으로 개칭했다.\n",
    "        - 1966년 10월 12일 당 중앙위원회 4기 14차 전원회의에서 비서국이 신설되면서 대남사업담당비서 산하에 ‘연락부’, ‘문화부’, ‘조사부’, ‘인민무력부정착국’, ‘조총련’부서를 두었으며, 1978년 1월 통일전선부가, 1990년대 후반 35호실(대외정보조사부)과 작전부가 신설됨으로써 대남 담당 부서의 체계가 구축되었다. 남한 내 정당, 사회단체, 군부에 대한 공작 거점 및 공작 전술 연구개발 업무를 수행하고 있다. 특히 간첩교육과 파견을 직접 담당하고 있으며, 조총련에 대한 활동 지도도 담당하고 있다.\n",
    "        \n",
    "    - 내각 & 정무원\n",
    "        - How different was their organization?\n",
    "        - https://encykorea.aks.ac.kr/Article/E0066727 - Let's alias. It seems like the name simply changed from 내각 (1948) --> 정무원 (1972) --> 내각 (1998)\n",
    "        - Do we need to duplicate the entire 내각 structure for 정무원?\n",
    "        - At the very least, should we swap out 내각 for 정무원 in cases where data are labelled as 내각 but during 정무원 periods (pre-1998)?\n",
    "        - If the internal organization was quite similar, then maybe we could just alias 내각 and 정무원 and not worry about replicating the organization three\n",
    "    - 인도기관?\n",
    "        - 국방위원회\n",
    "        - 국무위원회\n",
    "    - resolve differences between InstitutionType, PrimaryInstitution, OrgName\n",
    "        - for PI=총참모부, rename PI=인민군, OrgName = 총참모부_; and remove duplicates. e.g., 총참모부_작전총국\n",
    "        - 노동당, 당중앙위원회\n",
    "        - many organizations for whom 중앙위원회 is their main leadership body\n",
    "        - 인민군. remove as PrimaryInstitution, and use as InstitutionType instead\n",
    "        - https://encykorea.aks.ac.kr/Article/E0066687\n",
    "        - 인민무력부, 인민무력성, \n",
    "\t\t- PrimaryInstitutions\n",
    "\t\t\t- 최고사령부\n",
    "\t\t\t- 총참모부\n",
    "\t\t\t- 주요 사령부\n",
    "\t\t\t- 등\n",
    "    - Make sure X.0.0.0 positions are not being duplicated with X.1.0.0 positions, especially in the case of 중앙위원회\n",
    "    - Discuss X in PI_Index\n",
    "        - 비서국A --> 정무국 --> 비서국B\n",
    "            - check for duplicates: 당 비서국\n",
    "        - 당중앙위원회_정치위원회 (폐지) 직급\n",
    "        - 당중앙위원회_총정치국 - 당/인민군\n",
    "        - 당중앙위원회_조선혁명박물관당위원회 & other 1.1.X.0.0 - double-check if they are included in 외곽단 - InGov?\n",
    "        - Change_OrgName to 당중앙위원회_X\n",
    "            - 비서국_인민무력부B\n",
    "            - 비서국_인민무력부B_보위국\n",
    "            - 비서국_인민무력부B_작전국\n",
    "            - 비서국_인민무력부B_정치안전국\n",
    "\n",
    "\n",
    "\n"
   ]
  },
  {
   "cell_type": "code",
   "execution_count": null,
   "id": "82452548",
   "metadata": {},
   "outputs": [],
   "source": []
  },
  {
   "cell_type": "markdown",
   "id": "c2142ad8",
   "metadata": {},
   "source": [
    "- Re-Index\n",
    "    - See PI-Index Coding Rules in Evernote\n",
    "    - Update X codes with 200 or 500. Delete any 200/500 which don't appear in our data. (They might have been orgs we corrected in the data.)\n",
    "    - 최고인민회의 X지역인민회의 - move from 200 Series to 0 Series\n",
    "    - Drop X지역위원회 and recode 200 Series to 0 Series\n",
    "    - Change coding of 당외곽 및 사회단체\n",
    "        - if the orgs were found in the 별책, then change their codes from 200 series to 100 series\n",
    "        - Match, rename and recode (from 500+ to 100+) 500 series 국제친선기관\n",
    "    - code data source rather than index\n",
    "\n"
   ]
  },
  {
   "cell_type": "code",
   "execution_count": null,
   "id": "58bf243b",
   "metadata": {},
   "outputs": [],
   "source": []
  },
  {
   "cell_type": "code",
   "execution_count": null,
   "id": "6b24b190",
   "metadata": {},
   "outputs": [],
   "source": []
  },
  {
   "cell_type": "code",
   "execution_count": null,
   "id": "ec095aba",
   "metadata": {},
   "outputs": [],
   "source": []
  },
  {
   "cell_type": "markdown",
   "id": "233ee1d7",
   "metadata": {},
   "source": [
    "# Task 3. Add OrgType & other metadata\n",
    "\n",
    "- Add OrgType\n"
   ]
  },
  {
   "cell_type": "markdown",
   "id": "16ac55e1",
   "metadata": {},
   "source": [
    "# Future Tasks\n",
    "\n",
    "- Future Integrity Checks & Data Cleaning\n",
    "    - Identify inconsistencies in Position Rankings (e.g., 명예위원장)\n",
    "    - Verify (PI, OrgName) not found in 기관별인명록\n",
    "    - Research X entries: e.g., 3.525.591: 내각_외무성_X국_대사관\n",
    "    - Reconcile 기관 across three categories: 기타기관, 당외곽및사회단체, 당외곽및사회단체(별책)\n",
    "    - Add more orgs\n",
    "        - Expand any X지역위원회 into full list\n",
    "        - 내각 - Level 2 or Level 3?\n",
    "            - orgs after 내각 국토환경보호성_산림총국\n",
    "            - orgs after 내각 대외경제성_민족경제협력위원회\n",
    "            - orgs after 내각 보건성_중앙의약품관리소\n",
    "            - orgs after 내 각 상업성_중앙도매소\n",
    "            - 내각 정보산업성 우편국, 전화국, 체신관리국, 체신소, \n",
    "            - 내각 (45)\n",
    "        - 당외곽및사회단체 (별책)\n",
    "    - Discussion about matching levels\n",
    "        - https://namu.wiki/w/ - consider the OrgRang of 김정은의 겸직\n",
    "\t\t- 조선민주주의인민공화국 국무위원회 위원장[국가원수]\n",
    "\t\t- 조선로동당 중앙군사위원장\n",
    "\t\t- 조선민주주의인민공화국무력 최고사령관\n",
    "\t\t- 조선로동당 중앙위원회 정치국 상무위원\n",
    "    - Review UNCERTAIN OrgName & Positions\n",
    "        - some of these seem resolvable"
   ]
  },
  {
   "cell_type": "code",
   "execution_count": null,
   "id": "5c38af5d",
   "metadata": {},
   "outputs": [],
   "source": []
  }
 ],
 "metadata": {
  "kernelspec": {
   "display_name": "Python 3 (ipykernel)",
   "language": "python",
   "name": "python3"
  },
  "language_info": {
   "codemirror_mode": {
    "name": "ipython",
    "version": 3
   },
   "file_extension": ".py",
   "mimetype": "text/x-python",
   "name": "python",
   "nbconvert_exporter": "python",
   "pygments_lexer": "ipython3",
   "version": "3.11.0"
  }
 },
 "nbformat": 4,
 "nbformat_minor": 5
}
