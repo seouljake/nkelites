{
 "cells": [
  {
   "cell_type": "code",
   "execution_count": 37,
   "id": "74698cf3",
   "metadata": {},
   "outputs": [],
   "source": [
    "import pandas as pd\n",
    "import numpy as np"
   ]
  },
  {
   "cell_type": "markdown",
   "id": "aaf25c71",
   "metadata": {},
   "source": [
    "# combined data - 2 tables"
   ]
  },
  {
   "cell_type": "code",
   "execution_count": 38,
   "id": "f2c9c339",
   "metadata": {},
   "outputs": [],
   "source": [
    "path_tables = \"C:/Users/seoul/Dropbox/00 technical/github/nkelites/data/combined data/combined data - 2 tables/\""
   ]
  },
  {
   "cell_type": "code",
   "execution_count": 39,
   "id": "b7d9b165",
   "metadata": {},
   "outputs": [],
   "source": [
    "filename_careers = \"careers.xlsx\""
   ]
  },
  {
   "cell_type": "code",
   "execution_count": 40,
   "id": "1c1ab934",
   "metadata": {},
   "outputs": [],
   "source": [
    "filename_leadercareerlink = \"leadercareerlink.xlsx\""
   ]
  },
  {
   "cell_type": "code",
   "execution_count": 41,
   "id": "f86d0874",
   "metadata": {},
   "outputs": [],
   "source": [
    "filename_leaderjoblink = \"leaderjoblink.xlsx\""
   ]
  },
  {
   "cell_type": "code",
   "execution_count": 42,
   "id": "09c3c30a",
   "metadata": {},
   "outputs": [],
   "source": [
    "filename_joborglink = \"joborglink.xlsx\""
   ]
  },
  {
   "cell_type": "markdown",
   "id": "c2a10c37",
   "metadata": {},
   "source": [
    "# combined data - 1 cleaning/cleaning step 2 - career/"
   ]
  },
  {
   "cell_type": "code",
   "execution_count": 43,
   "id": "a9386ddd",
   "metadata": {},
   "outputs": [],
   "source": [
    "path_cleaning = \"C:/Users/seoul/Dropbox/00 technical/github/nkelites/data/combined data/combined data - 1 cleaning/cleaning step 2 - career/\""
   ]
  },
  {
   "cell_type": "code",
   "execution_count": 44,
   "id": "ea8288fa",
   "metadata": {},
   "outputs": [],
   "source": [
    "subpath_2_1 = \"2.1 career_undivided_unparsed_uncoded/\"\n",
    "subpath_2_2 = \"2.2 career_divided_unparsed_uncoded/\"\n",
    "subpath_2_3 = \"2.3 joborglink/\"\n",
    "subpath_2_4 = \"2.4 orgtree/\"\n",
    "subpath_2_5 = \"2.5 position/\"\n",
    "subpath_2_6 = \"2.6 career_reassembled/\""
   ]
  },
  {
   "cell_type": "code",
   "execution_count": 45,
   "id": "83143cac",
   "metadata": {},
   "outputs": [
    {
     "data": {
      "text/plain": [
       "(1380, 9)"
      ]
     },
     "execution_count": 45,
     "metadata": {},
     "output_type": "execute_result"
    }
   ],
   "source": [
    "# orgtree_4_5_jeonsgu_cleaned\n",
    "filein_ot = \"orgtree_4_5_jeonsgu_cleaned.xlsx\"\n",
    "ot2 = pd.read_excel(path_cleaning + subpath_2_4 + filein_ot,dtype=\"str\")\n",
    "ot2.shape"
   ]
  },
  {
   "cell_type": "code",
   "execution_count": 46,
   "id": "614bfa3a",
   "metadata": {},
   "outputs": [
    {
     "data": {
      "text/plain": [
       "(9001, 12)"
      ]
     },
     "execution_count": 46,
     "metadata": {},
     "output_type": "execute_result"
    }
   ],
   "source": [
    "# careers_4_0\n",
    "filein_careers = \"careers_4_0.xlsx\"\n",
    "careers = pd.read_excel(path_cleaning + subpath_2_6 + filein_careers,dtype=\"str\")\n",
    "careers.shape"
   ]
  },
  {
   "cell_type": "markdown",
   "id": "1c8c6302",
   "metadata": {},
   "source": [
    "# functions: format orgtree"
   ]
  },
  {
   "cell_type": "code",
   "execution_count": 47,
   "id": "3b85b568",
   "metadata": {},
   "outputs": [],
   "source": [
    "# using this on (PI,OrgName) will ensure unique & non-null keys\n",
    "# using this on a larger df will ensure unique rows and non-null keys, but not unique keys\n",
    "\n",
    "def unique_non_null_rows(olddf):\n",
    "    \n",
    "    df = olddf.copy()\n",
    "    \n",
    "    \n",
    "    ### drop duplicates\n",
    "    df = df.drop_duplicates(keep=\"first\",ignore_index=True)\n",
    "\n",
    "    ### drop null rows\n",
    "    df.dropna(how=\"all\",axis=0,inplace=True)\n",
    "    \n",
    "    # drop rows with null PI\n",
    "    df = df[~(df[\"PrimaryInstitution\"].isna())]\n",
    "        \n",
    "    ### drop rows where PI contains stop words\n",
    "    stop_words_lower = [\"uncertain\",\"current\",\"deprecated\",\"please_revise\"]\n",
    "    df = df[ ~ df[\"PrimaryInstitution\"].str.lower().isin(stop_words_lower)]\n",
    "            \n",
    "\n",
    "    print(\"\\nUnique Non-null Rows...\")\n",
    "    print(\"\")\n",
    "    print(\"\\tNon-unique rows:\",olddf.shape)\n",
    "    print(\"\\tUnique rows    :\",df.shape)\n",
    "\n",
    "    ### sort\n",
    "    df = df.sort_values([\"PrimaryInstitution\",\"OrgName\"])\n",
    "    \n",
    "    return df"
   ]
  },
  {
   "cell_type": "code",
   "execution_count": 48,
   "id": "9e7c6ad4",
   "metadata": {},
   "outputs": [],
   "source": [
    "def verify_unique_rows(df):\n",
    "    \n",
    "    key_columns = [\"PrimaryInstitution\",\"OrgName\"]\n",
    "    print(\"\\nVerifying Unique Rows...\")\n",
    "    print(\"\")\n",
    "    print(\"\\tDuplicate Rows:\",df[df.duplicated(keep=False)].shape)\n",
    "    print(\"\\tDuplicate Keys:\",df[df.duplicated(key_columns,keep=False)].shape)\n",
    "    print(\"\\tNull Rows     :\",df[df[\"PrimaryInstitution\"].isna() & df[\"OrgName\"].isna()].shape)"
   ]
  },
  {
   "cell_type": "code",
   "execution_count": 49,
   "id": "118e1cab",
   "metadata": {},
   "outputs": [],
   "source": [
    "def merge_results(m):\n",
    "    \n",
    "    print(\"\\nMerge Results...\")\n",
    "    print(\"\")\n",
    "    print(\"\\tshape     :\",m.shape)\n",
    "    print(\"\\tleft_only :\",m[m[\"_merge\"]==\"left_only\"].shape)\n",
    "    print(\"\\tboth      :\",m[m[\"_merge\"]==\"both\"].shape)\n",
    "    print(\"\\tright_only:\",m[m[\"_merge\"]==\"right_only\"].shape)"
   ]
  },
  {
   "cell_type": "code",
   "execution_count": 50,
   "id": "f0b0e13a",
   "metadata": {},
   "outputs": [],
   "source": [
    "def concat_PI_OrgName_keys_to_orgtree(ot,keys,drop_merge_column=True):\n",
    "    \n",
    "    # prepare keys\n",
    "    key_columns = [\"PrimaryInstitution\",\"OrgName\"]\n",
    "    keys.columns = key_columns\n",
    "    keys = unique_non_null_rows(keys)\n",
    "    \n",
    "    # verify unique keys\n",
    "    verify_unique_rows(keys)\n",
    "\n",
    "\n",
    "    m = ot.merge(keys,on=key_columns,how=\"outer\",indicator=True)\n",
    "    merge_results(m)\n",
    "    \n",
    "    # drop \"_merge\" column\n",
    "    if drop_merge_column:\n",
    "        m.drop(columns=[\"_merge\"],inplace=True)\n",
    "    \n",
    "    # verify unique keys in orgtree\n",
    "    verify_unique_rows(m)\n",
    "    \n",
    "    return m"
   ]
  },
  {
   "cell_type": "code",
   "execution_count": 51,
   "id": "1df96edf",
   "metadata": {},
   "outputs": [],
   "source": [
    "# function that recursively adds upper-level OrgName to the series\n",
    "\n",
    "# for each PI-Orgname in the hierarchy\n",
    "\n",
    "def extract_uppperlevel_org(original_org):\n",
    "    \n",
    "    orglist = [original_org]\n",
    "    # if the Orgname contains \"_\", then add the upper-level PI-Orgname pair to the series and run the function again\n",
    "    if \"_\" in original_org:\n",
    "        upper_org = \"_\".join(original_org.split(\"_\")[:-1])\n",
    "        orglist += extract_uppperlevel_org(upper_org)\n",
    "    \n",
    "    # once done adding upper-level orgs, then return the orglist\n",
    "    return orglist\n",
    "\n",
    "def enumerate_org_hierarchy(df):\n",
    "    \n",
    "    olddf = df\n",
    "    newdf = pd.DataFrame(columns=df.columns)\n",
    "    \n",
    "    while(len(list(df.index))>0):\n",
    "        \n",
    "        # extract one row and save one row from df\n",
    "        row = df.iloc[0]\n",
    "        df = df.iloc[1:]\n",
    "        \n",
    "        pi = str(row.PrimaryInstitution)\n",
    "        org = str(row.OrgName)\n",
    "        \n",
    "        if(org!=\"nan\"):\n",
    "            orglist = extract_uppperlevel_org(org)\n",
    "            orglist +=[np.nan]\n",
    "\n",
    "        else:\n",
    "            orglist = [np.nan]\n",
    "            \n",
    "        # print(orglist)\n",
    "\n",
    "        minidf = pd.DataFrame(data={\"PrimaryInstitution\":[pi]*len(orglist),\"OrgName\":orglist})\n",
    "        \n",
    "        # print(pi,org,orglist,minidf)\n",
    "\n",
    "        newdf = pd.concat([newdf,minidf],ignore_index=True)\n",
    "        \n",
    "    \n",
    "    # unique, non-null keys\n",
    "    newdf = unique_non_null_rows(newdf)\n",
    "    \n",
    "    # verify unique keys in enumerated hierarchy\n",
    "    verify_unique_rows(newdf)\n",
    "    \n",
    "    # stats\n",
    "    print(\"\\nEnumerated Hierarchy Stats...\")\n",
    "    print(\"\")\n",
    "    print(\"\\tOriginal keys  :\",olddf.shape)\n",
    "    print(\"\\tEnumerated keys:\",newdf.shape)\n",
    "    \n",
    "    newdf.sort_values(by=list(df.columns),inplace=True,ignore_index=True)\n",
    "\n",
    "    return newdf    "
   ]
  },
  {
   "cell_type": "markdown",
   "id": "7696981a",
   "metadata": {},
   "source": [
    "# 1. concat career (PI, Org) to orgtree"
   ]
  },
  {
   "cell_type": "code",
   "execution_count": 52,
   "id": "a50d900c",
   "metadata": {},
   "outputs": [
    {
     "data": {
      "text/plain": [
       "array(['False', 'True'], dtype=object)"
      ]
     },
     "execution_count": 52,
     "metadata": {},
     "output_type": "execute_result"
    }
   ],
   "source": [
    "careers.IsJob.unique()"
   ]
  },
  {
   "cell_type": "code",
   "execution_count": 53,
   "id": "966f144f",
   "metadata": {},
   "outputs": [],
   "source": [
    "key_columns = [\"PrimaryInstitution\",\"OrgName\"]\n",
    "career_keys = careers.loc[careers.IsJob==\"True\",key_columns]"
   ]
  },
  {
   "cell_type": "code",
   "execution_count": 54,
   "id": "1b776340",
   "metadata": {},
   "outputs": [
    {
     "name": "stdout",
     "output_type": "stream",
     "text": [
      "\n",
      "Unique Non-null Rows...\n",
      "\n",
      "\tNon-unique rows: (6733, 2)\n",
      "\tUnique rows    : (1034, 2)\n",
      "\n",
      "Verifying Unique Rows...\n",
      "\n",
      "\tDuplicate Rows: (0, 2)\n",
      "\tDuplicate Keys: (0, 2)\n",
      "\tNull Rows     : (0, 2)\n",
      "\n",
      "Merge Results...\n",
      "\n",
      "\tshape     : (1669, 10)\n",
      "\tleft_only : (635, 10)\n",
      "\tboth      : (745, 10)\n",
      "\tright_only: (289, 10)\n",
      "\n",
      "Verifying Unique Rows...\n",
      "\n",
      "\tDuplicate Rows: (0, 9)\n",
      "\tDuplicate Keys: (0, 9)\n",
      "\tNull Rows     : (0, 9)\n"
     ]
    }
   ],
   "source": [
    "ot2 = concat_PI_OrgName_keys_to_orgtree(ot,career_keys,drop_merge_column=True)"
   ]
  },
  {
   "cell_type": "markdown",
   "id": "46fd79d4",
   "metadata": {},
   "source": [
    "# 2. format orgtree"
   ]
  },
  {
   "cell_type": "markdown",
   "id": "da326415",
   "metadata": {},
   "source": [
    "### Step 1. concat (PI-OrgName) from LinkToNext_"
   ]
  },
  {
   "cell_type": "code",
   "execution_count": 55,
   "id": "a7cf7409",
   "metadata": {},
   "outputs": [],
   "source": [
    "link_keys = ot[[\"LinkToNext_PI\",\"LinkToNext_Org\"]]"
   ]
  },
  {
   "cell_type": "code",
   "execution_count": 56,
   "id": "2e8b2957",
   "metadata": {},
   "outputs": [
    {
     "name": "stdout",
     "output_type": "stream",
     "text": [
      "\n",
      "Unique Non-null Rows...\n",
      "\n",
      "\tNon-unique rows: (1380, 2)\n",
      "\tUnique rows    : (211, 2)\n",
      "\n",
      "Verifying Unique Rows...\n",
      "\n",
      "\tDuplicate Rows: (0, 2)\n",
      "\tDuplicate Keys: (0, 2)\n",
      "\tNull Rows     : (0, 2)\n",
      "\n",
      "Merge Results...\n",
      "\n",
      "\tshape     : (1695, 10)\n",
      "\tleft_only : (1484, 10)\n",
      "\tboth      : (185, 10)\n",
      "\tright_only: (26, 10)\n",
      "\n",
      "Verifying Unique Rows...\n",
      "\n",
      "\tDuplicate Rows: (0, 9)\n",
      "\tDuplicate Keys: (0, 9)\n",
      "\tNull Rows     : (0, 9)\n"
     ]
    }
   ],
   "source": [
    "ot3 = concat_PI_OrgName_keys_to_orgtree(ot2,link_keys,drop_merge_column=True)"
   ]
  },
  {
   "cell_type": "markdown",
   "id": "2f266a7a",
   "metadata": {},
   "source": [
    "### Step 2. enumerate Org hierarchy from (PI, OrgName) and concat to orgtree"
   ]
  },
  {
   "cell_type": "code",
   "execution_count": 57,
   "id": "3c95179b",
   "metadata": {},
   "outputs": [
    {
     "name": "stdout",
     "output_type": "stream",
     "text": [
      "\n",
      "Verifying Unique Rows...\n",
      "\n",
      "\tDuplicate Rows: (0, 2)\n",
      "\tDuplicate Keys: (0, 2)\n",
      "\tNull Rows     : (0, 2)\n"
     ]
    }
   ],
   "source": [
    "key_columns = [\"PrimaryInstitution\",\"OrgName\"]\n",
    "ot_keys = ot3[key_columns]\n",
    "verify_unique_rows(ot_keys)"
   ]
  },
  {
   "cell_type": "code",
   "execution_count": 58,
   "id": "35ce4756",
   "metadata": {},
   "outputs": [
    {
     "name": "stdout",
     "output_type": "stream",
     "text": [
      "\n",
      "Unique Non-null Rows...\n",
      "\n",
      "\tNon-unique rows: (4162, 2)\n",
      "\tUnique rows    : (1711, 2)\n",
      "\n",
      "Verifying Unique Rows...\n",
      "\n",
      "\tDuplicate Rows: (0, 2)\n",
      "\tDuplicate Keys: (0, 2)\n",
      "\tNull Rows     : (0, 2)\n",
      "\n",
      "Enumerated Hierarchy Stats...\n",
      "\n",
      "\tOriginal keys  : (1695, 2)\n",
      "\tEnumerated keys: (1711, 2)\n"
     ]
    }
   ],
   "source": [
    "ot_keys_enumerated = enumerate_org_hierarchy(ot_keys)"
   ]
  },
  {
   "cell_type": "code",
   "execution_count": 59,
   "id": "1c98e40e",
   "metadata": {},
   "outputs": [
    {
     "name": "stdout",
     "output_type": "stream",
     "text": [
      "\n",
      "Unique Non-null Rows...\n",
      "\n",
      "\tNon-unique rows: (1711, 2)\n",
      "\tUnique rows    : (1711, 2)\n",
      "\n",
      "Verifying Unique Rows...\n",
      "\n",
      "\tDuplicate Rows: (0, 2)\n",
      "\tDuplicate Keys: (0, 2)\n",
      "\tNull Rows     : (0, 2)\n",
      "\n",
      "Merge Results...\n",
      "\n",
      "\tshape     : (1711, 10)\n",
      "\tleft_only : (0, 10)\n",
      "\tboth      : (1695, 10)\n",
      "\tright_only: (16, 10)\n",
      "\n",
      "Verifying Unique Rows...\n",
      "\n",
      "\tDuplicate Rows: (0, 9)\n",
      "\tDuplicate Keys: (0, 9)\n",
      "\tNull Rows     : (0, 9)\n"
     ]
    }
   ],
   "source": [
    "ot4 = concat_PI_OrgName_keys_to_orgtree(ot3,ot_keys_enumerated,drop_merge_column=True)"
   ]
  },
  {
   "cell_type": "code",
   "execution_count": 60,
   "id": "111c81b1",
   "metadata": {},
   "outputs": [
    {
     "data": {
      "text/html": [
       "<div>\n",
       "<style scoped>\n",
       "    .dataframe tbody tr th:only-of-type {\n",
       "        vertical-align: middle;\n",
       "    }\n",
       "\n",
       "    .dataframe tbody tr th {\n",
       "        vertical-align: top;\n",
       "    }\n",
       "\n",
       "    .dataframe thead th {\n",
       "        text-align: right;\n",
       "    }\n",
       "</style>\n",
       "<table border=\"1\" class=\"dataframe\">\n",
       "  <thead>\n",
       "    <tr style=\"text-align: right;\">\n",
       "      <th></th>\n",
       "      <th>InsideGov</th>\n",
       "      <th>PrimaryInstitution</th>\n",
       "      <th>OrgName</th>\n",
       "      <th>ImmediateSuperiorOrg</th>\n",
       "      <th>SupervisesParent</th>\n",
       "      <th>LinkToNext_PI</th>\n",
       "      <th>LinkToNext_Org</th>\n",
       "      <th>LinkToNext_Year</th>\n",
       "      <th>Notes</th>\n",
       "    </tr>\n",
       "  </thead>\n",
       "  <tbody>\n",
       "    <tr>\n",
       "      <th>249</th>\n",
       "      <td>1</td>\n",
       "      <td>내각</td>\n",
       "      <td>내각사무국</td>\n",
       "      <td>NaN</td>\n",
       "      <td>NaN</td>\n",
       "      <td>Current</td>\n",
       "      <td>Current</td>\n",
       "      <td>Current</td>\n",
       "      <td>NaN</td>\n",
       "    </tr>\n",
       "    <tr>\n",
       "      <th>250</th>\n",
       "      <td>1</td>\n",
       "      <td>내각</td>\n",
       "      <td>내각정치국</td>\n",
       "      <td>NaN</td>\n",
       "      <td>NaN</td>\n",
       "      <td>Current</td>\n",
       "      <td>Current</td>\n",
       "      <td>Current</td>\n",
       "      <td>NaN</td>\n",
       "    </tr>\n",
       "    <tr>\n",
       "      <th>573</th>\n",
       "      <td>1</td>\n",
       "      <td>노동당</td>\n",
       "      <td>당중앙위원회_선전선동부_조선노동당출판사</td>\n",
       "      <td>당중앙위원회_선전선동부</td>\n",
       "      <td>NaN</td>\n",
       "      <td>Current</td>\n",
       "      <td>Current</td>\n",
       "      <td>Current</td>\n",
       "      <td>NaN</td>\n",
       "    </tr>\n",
       "    <tr>\n",
       "      <th>574</th>\n",
       "      <td>1</td>\n",
       "      <td>노동당</td>\n",
       "      <td>당중앙위원회_선전선동부_조선노동당출판사_근로자사</td>\n",
       "      <td>당중앙위원회_선전선동부_조선노동당출판사</td>\n",
       "      <td>NaN</td>\n",
       "      <td>Current</td>\n",
       "      <td>Current</td>\n",
       "      <td>Current</td>\n",
       "      <td>NaN</td>\n",
       "    </tr>\n",
       "    <tr>\n",
       "      <th>686</th>\n",
       "      <td>0</td>\n",
       "      <td>사회주의노동청년동맹</td>\n",
       "      <td>평양시사회주의노동청년동맹</td>\n",
       "      <td>NaN</td>\n",
       "      <td>NaN</td>\n",
       "      <td>김일성사회주의청년동맹</td>\n",
       "      <td>uncertain</td>\n",
       "      <td>1996</td>\n",
       "      <td>NaN</td>\n",
       "    </tr>\n",
       "    <tr>\n",
       "      <th>1397</th>\n",
       "      <td>NaN</td>\n",
       "      <td>내각</td>\n",
       "      <td>내각사무국_호위처</td>\n",
       "      <td>NaN</td>\n",
       "      <td>NaN</td>\n",
       "      <td>NaN</td>\n",
       "      <td>NaN</td>\n",
       "      <td>NaN</td>\n",
       "      <td>NaN</td>\n",
       "    </tr>\n",
       "  </tbody>\n",
       "</table>\n",
       "</div>"
      ],
      "text/plain": [
       "     InsideGov PrimaryInstitution                     OrgName  \\\n",
       "249          1                 내각                       내각사무국   \n",
       "250          1                 내각                       내각정치국   \n",
       "573          1                노동당       당중앙위원회_선전선동부_조선노동당출판사   \n",
       "574          1                노동당  당중앙위원회_선전선동부_조선노동당출판사_근로자사   \n",
       "686          0         사회주의노동청년동맹               평양시사회주의노동청년동맹   \n",
       "1397       NaN                 내각                   내각사무국_호위처   \n",
       "\n",
       "       ImmediateSuperiorOrg SupervisesParent LinkToNext_PI LinkToNext_Org  \\\n",
       "249                     NaN              NaN       Current        Current   \n",
       "250                     NaN              NaN       Current        Current   \n",
       "573            당중앙위원회_선전선동부              NaN       Current        Current   \n",
       "574   당중앙위원회_선전선동부_조선노동당출판사              NaN       Current        Current   \n",
       "686                     NaN              NaN   김일성사회주의청년동맹      uncertain   \n",
       "1397                    NaN              NaN           NaN            NaN   \n",
       "\n",
       "     LinkToNext_Year Notes  \n",
       "249          Current   NaN  \n",
       "250          Current   NaN  \n",
       "573          Current   NaN  \n",
       "574          Current   NaN  \n",
       "686             1996   NaN  \n",
       "1397             NaN   NaN  "
      ]
     },
     "execution_count": 60,
     "metadata": {},
     "output_type": "execute_result"
    }
   ],
   "source": [
    "# confirm that PrimaryInstitution is not listed inside OrgName inappropriately\n",
    "ot4[ot4.apply(lambda row: str(row.PrimaryInstitution) in str(row.OrgName),axis=1)]"
   ]
  },
  {
   "cell_type": "markdown",
   "id": "ec97c27e",
   "metadata": {},
   "source": [
    "### Step 3. update ImmediateSuperiorOrg - write fxn for this!!"
   ]
  },
  {
   "cell_type": "code",
   "execution_count": 61,
   "id": "00df055b",
   "metadata": {},
   "outputs": [],
   "source": [
    "# set ImmediateSuperiorOrg to NaN\n",
    "ot4[\"ImmediateSuperiorOrg\"]=np.nan"
   ]
  },
  {
   "cell_type": "code",
   "execution_count": 62,
   "id": "42682695",
   "metadata": {},
   "outputs": [],
   "source": [
    "# update ImmediateSuperiorOrg for those OrgName that have one\n",
    "ot4.loc[ot4.OrgName.str.contains(\"_\",na=False),\"ImmediateSuperiorOrg\"] = ot4[ot4.OrgName.str.contains(\"_\",na=False)].apply(lambda row: \"_\".join(row.OrgName.split(\"_\")[:-1]),axis=1)"
   ]
  },
  {
   "cell_type": "code",
   "execution_count": 63,
   "id": "35704e48",
   "metadata": {},
   "outputs": [
    {
     "data": {
      "text/html": [
       "<div>\n",
       "<style scoped>\n",
       "    .dataframe tbody tr th:only-of-type {\n",
       "        vertical-align: middle;\n",
       "    }\n",
       "\n",
       "    .dataframe tbody tr th {\n",
       "        vertical-align: top;\n",
       "    }\n",
       "\n",
       "    .dataframe thead th {\n",
       "        text-align: right;\n",
       "    }\n",
       "</style>\n",
       "<table border=\"1\" class=\"dataframe\">\n",
       "  <thead>\n",
       "    <tr style=\"text-align: right;\">\n",
       "      <th></th>\n",
       "      <th>InsideGov</th>\n",
       "      <th>PrimaryInstitution</th>\n",
       "      <th>OrgName</th>\n",
       "      <th>ImmediateSuperiorOrg</th>\n",
       "      <th>SupervisesParent</th>\n",
       "      <th>LinkToNext_PI</th>\n",
       "      <th>LinkToNext_Org</th>\n",
       "      <th>LinkToNext_Year</th>\n",
       "      <th>Notes</th>\n",
       "    </tr>\n",
       "  </thead>\n",
       "  <tbody>\n",
       "    <tr>\n",
       "      <th>30</th>\n",
       "      <td>1</td>\n",
       "      <td>국무위원회</td>\n",
       "      <td>국가보위성_정치국</td>\n",
       "      <td>국가보위성</td>\n",
       "      <td>NaN</td>\n",
       "      <td>Current</td>\n",
       "      <td>Current</td>\n",
       "      <td>Current</td>\n",
       "      <td>NaN</td>\n",
       "    </tr>\n",
       "    <tr>\n",
       "      <th>32</th>\n",
       "      <td>1</td>\n",
       "      <td>국무위원회</td>\n",
       "      <td>국가체육지도위원회_대외사업국</td>\n",
       "      <td>국가체육지도위원회</td>\n",
       "      <td>NaN</td>\n",
       "      <td>Current</td>\n",
       "      <td>Current</td>\n",
       "      <td>Current</td>\n",
       "      <td>NaN</td>\n",
       "    </tr>\n",
       "    <tr>\n",
       "      <th>33</th>\n",
       "      <td>1</td>\n",
       "      <td>국무위원회</td>\n",
       "      <td>국가체육지도위원회_제1부</td>\n",
       "      <td>국가체육지도위원회</td>\n",
       "      <td>NaN</td>\n",
       "      <td>Current</td>\n",
       "      <td>Current</td>\n",
       "      <td>Current</td>\n",
       "      <td>NaN</td>\n",
       "    </tr>\n",
       "    <tr>\n",
       "      <th>34</th>\n",
       "      <td>1</td>\n",
       "      <td>국무위원회</td>\n",
       "      <td>국가체육지도위원회_체육기술연맹</td>\n",
       "      <td>국가체육지도위원회</td>\n",
       "      <td>NaN</td>\n",
       "      <td>Current</td>\n",
       "      <td>Current</td>\n",
       "      <td>Current</td>\n",
       "      <td>NaN</td>\n",
       "    </tr>\n",
       "    <tr>\n",
       "      <th>35</th>\n",
       "      <td>1</td>\n",
       "      <td>국무위원회</td>\n",
       "      <td>국가체육지도위원회_체육지도국</td>\n",
       "      <td>국가체육지도위원회</td>\n",
       "      <td>NaN</td>\n",
       "      <td>Current</td>\n",
       "      <td>Current</td>\n",
       "      <td>Current</td>\n",
       "      <td>NaN</td>\n",
       "    </tr>\n",
       "    <tr>\n",
       "      <th>...</th>\n",
       "      <td>...</td>\n",
       "      <td>...</td>\n",
       "      <td>...</td>\n",
       "      <td>...</td>\n",
       "      <td>...</td>\n",
       "      <td>...</td>\n",
       "      <td>...</td>\n",
       "      <td>...</td>\n",
       "      <td>...</td>\n",
       "    </tr>\n",
       "    <tr>\n",
       "      <th>1705</th>\n",
       "      <td>NaN</td>\n",
       "      <td>총참모부</td>\n",
       "      <td>작전총국_x처</td>\n",
       "      <td>작전총국</td>\n",
       "      <td>NaN</td>\n",
       "      <td>NaN</td>\n",
       "      <td>NaN</td>\n",
       "      <td>NaN</td>\n",
       "      <td>NaN</td>\n",
       "    </tr>\n",
       "    <tr>\n",
       "      <th>1706</th>\n",
       "      <td>NaN</td>\n",
       "      <td>총참모부</td>\n",
       "      <td>작전총국_x처_x군</td>\n",
       "      <td>작전총국_x처</td>\n",
       "      <td>NaN</td>\n",
       "      <td>NaN</td>\n",
       "      <td>NaN</td>\n",
       "      <td>NaN</td>\n",
       "      <td>NaN</td>\n",
       "    </tr>\n",
       "    <tr>\n",
       "      <th>1707</th>\n",
       "      <td>NaN</td>\n",
       "      <td>총참모부</td>\n",
       "      <td>작전총국_x처_x군_제10사단</td>\n",
       "      <td>작전총국_x처_x군</td>\n",
       "      <td>NaN</td>\n",
       "      <td>NaN</td>\n",
       "      <td>NaN</td>\n",
       "      <td>NaN</td>\n",
       "      <td>NaN</td>\n",
       "    </tr>\n",
       "    <tr>\n",
       "      <th>1708</th>\n",
       "      <td>NaN</td>\n",
       "      <td>총참모부</td>\n",
       "      <td>작전총국_x처_x군단</td>\n",
       "      <td>작전총국_x처</td>\n",
       "      <td>NaN</td>\n",
       "      <td>NaN</td>\n",
       "      <td>NaN</td>\n",
       "      <td>NaN</td>\n",
       "      <td>NaN</td>\n",
       "    </tr>\n",
       "    <tr>\n",
       "      <th>1709</th>\n",
       "      <td>NaN</td>\n",
       "      <td>총참모부</td>\n",
       "      <td>작전총국_x처_제x군단</td>\n",
       "      <td>작전총국_x처</td>\n",
       "      <td>NaN</td>\n",
       "      <td>NaN</td>\n",
       "      <td>NaN</td>\n",
       "      <td>NaN</td>\n",
       "      <td>NaN</td>\n",
       "    </tr>\n",
       "  </tbody>\n",
       "</table>\n",
       "<p>810 rows × 9 columns</p>\n",
       "</div>"
      ],
      "text/plain": [
       "     InsideGov PrimaryInstitution           OrgName ImmediateSuperiorOrg  \\\n",
       "30           1              국무위원회         국가보위성_정치국                국가보위성   \n",
       "32           1              국무위원회   국가체육지도위원회_대외사업국            국가체육지도위원회   \n",
       "33           1              국무위원회     국가체육지도위원회_제1부            국가체육지도위원회   \n",
       "34           1              국무위원회  국가체육지도위원회_체육기술연맹            국가체육지도위원회   \n",
       "35           1              국무위원회   국가체육지도위원회_체육지도국            국가체육지도위원회   \n",
       "...        ...                ...               ...                  ...   \n",
       "1705       NaN               총참모부           작전총국_x처                 작전총국   \n",
       "1706       NaN               총참모부        작전총국_x처_x군              작전총국_x처   \n",
       "1707       NaN               총참모부  작전총국_x처_x군_제10사단           작전총국_x처_x군   \n",
       "1708       NaN               총참모부       작전총국_x처_x군단              작전총국_x처   \n",
       "1709       NaN               총참모부      작전총국_x처_제x군단              작전총국_x처   \n",
       "\n",
       "     SupervisesParent LinkToNext_PI LinkToNext_Org LinkToNext_Year Notes  \n",
       "30                NaN       Current        Current         Current   NaN  \n",
       "32                NaN       Current        Current         Current   NaN  \n",
       "33                NaN       Current        Current         Current   NaN  \n",
       "34                NaN       Current        Current         Current   NaN  \n",
       "35                NaN       Current        Current         Current   NaN  \n",
       "...               ...           ...            ...             ...   ...  \n",
       "1705              NaN           NaN            NaN             NaN   NaN  \n",
       "1706              NaN           NaN            NaN             NaN   NaN  \n",
       "1707              NaN           NaN            NaN             NaN   NaN  \n",
       "1708              NaN           NaN            NaN             NaN   NaN  \n",
       "1709              NaN           NaN            NaN             NaN   NaN  \n",
       "\n",
       "[810 rows x 9 columns]"
      ]
     },
     "execution_count": 63,
     "metadata": {},
     "output_type": "execute_result"
    }
   ],
   "source": [
    "# verify ImmediateSuperiorOrg is correctly formatted\n",
    "ot4[ot4.OrgName.str.contains(\"_\",na=False)]"
   ]
  },
  {
   "cell_type": "code",
   "execution_count": 64,
   "id": "a989deaf",
   "metadata": {},
   "outputs": [
    {
     "data": {
      "text/plain": [
       "(186, 1)"
      ]
     },
     "execution_count": 64,
     "metadata": {},
     "output_type": "execute_result"
    }
   ],
   "source": [
    "# confirm all ImmediateSuperiorOrg are contained in OrgName\n",
    "iso = ot4[[\"ImmediateSuperiorOrg\"]]\n",
    "iso.columns = [\"OrgName\"]\n",
    "iso = iso.drop_duplicates(keep=\"first\")\n",
    "iso.shape"
   ]
  },
  {
   "cell_type": "code",
   "execution_count": 65,
   "id": "cdd47426",
   "metadata": {},
   "outputs": [
    {
     "data": {
      "text/html": [
       "<div>\n",
       "<style scoped>\n",
       "    .dataframe tbody tr th:only-of-type {\n",
       "        vertical-align: middle;\n",
       "    }\n",
       "\n",
       "    .dataframe tbody tr th {\n",
       "        vertical-align: top;\n",
       "    }\n",
       "\n",
       "    .dataframe thead th {\n",
       "        text-align: right;\n",
       "    }\n",
       "</style>\n",
       "<table border=\"1\" class=\"dataframe\">\n",
       "  <thead>\n",
       "    <tr style=\"text-align: right;\">\n",
       "      <th></th>\n",
       "      <th>OrgName</th>\n",
       "    </tr>\n",
       "  </thead>\n",
       "  <tbody>\n",
       "    <tr>\n",
       "      <th>0</th>\n",
       "      <td>NaN</td>\n",
       "    </tr>\n",
       "    <tr>\n",
       "      <th>30</th>\n",
       "      <td>국가보위성</td>\n",
       "    </tr>\n",
       "  </tbody>\n",
       "</table>\n",
       "</div>"
      ],
      "text/plain": [
       "   OrgName\n",
       "0      NaN\n",
       "30   국가보위성"
      ]
     },
     "execution_count": 65,
     "metadata": {},
     "output_type": "execute_result"
    }
   ],
   "source": [
    "iso.head(2)"
   ]
  },
  {
   "cell_type": "code",
   "execution_count": 66,
   "id": "9e764ba4",
   "metadata": {},
   "outputs": [
    {
     "data": {
      "text/plain": [
       "(1711, 10)"
      ]
     },
     "execution_count": 66,
     "metadata": {},
     "output_type": "execute_result"
    }
   ],
   "source": [
    "miso = ot4.merge(iso,on=\"OrgName\",how=\"outer\",indicator=True)\n",
    "miso.shape"
   ]
  },
  {
   "cell_type": "code",
   "execution_count": 67,
   "id": "b14ebec2",
   "metadata": {},
   "outputs": [
    {
     "data": {
      "text/html": [
       "<div>\n",
       "<style scoped>\n",
       "    .dataframe tbody tr th:only-of-type {\n",
       "        vertical-align: middle;\n",
       "    }\n",
       "\n",
       "    .dataframe tbody tr th {\n",
       "        vertical-align: top;\n",
       "    }\n",
       "\n",
       "    .dataframe thead th {\n",
       "        text-align: right;\n",
       "    }\n",
       "</style>\n",
       "<table border=\"1\" class=\"dataframe\">\n",
       "  <thead>\n",
       "    <tr style=\"text-align: right;\">\n",
       "      <th></th>\n",
       "      <th>InsideGov</th>\n",
       "      <th>PrimaryInstitution</th>\n",
       "      <th>OrgName</th>\n",
       "      <th>ImmediateSuperiorOrg</th>\n",
       "      <th>SupervisesParent</th>\n",
       "      <th>LinkToNext_PI</th>\n",
       "      <th>LinkToNext_Org</th>\n",
       "      <th>LinkToNext_Year</th>\n",
       "      <th>Notes</th>\n",
       "      <th>_merge</th>\n",
       "    </tr>\n",
       "  </thead>\n",
       "  <tbody>\n",
       "  </tbody>\n",
       "</table>\n",
       "</div>"
      ],
      "text/plain": [
       "Empty DataFrame\n",
       "Columns: [InsideGov, PrimaryInstitution, OrgName, ImmediateSuperiorOrg, SupervisesParent, LinkToNext_PI, LinkToNext_Org, LinkToNext_Year, Notes, _merge]\n",
       "Index: []"
      ]
     },
     "execution_count": 67,
     "metadata": {},
     "output_type": "execute_result"
    }
   ],
   "source": [
    "# confirms all ImmediateSuperiorOrg are also in OrgName\n",
    "miso[miso[\"_merge\"]==\"right_only\"]"
   ]
  },
  {
   "cell_type": "markdown",
   "id": "668405bb",
   "metadata": {},
   "source": [
    "### Step 4. replace null vars with Please_Revise - write fxn for this!!"
   ]
  },
  {
   "cell_type": "code",
   "execution_count": 68,
   "id": "b93315d0",
   "metadata": {},
   "outputs": [],
   "source": [
    "replace_var = \"InsideGov\"\n",
    "ot4.loc[ot4[replace_var].isna(),replace_var]=\"Please_Revise\""
   ]
  },
  {
   "cell_type": "code",
   "execution_count": 69,
   "id": "92dbf889",
   "metadata": {},
   "outputs": [],
   "source": [
    "replace_var = \"LinkToNext_PI\"\n",
    "ot4.loc[ot4[replace_var].isna(),replace_var]=\"Please_Revise\""
   ]
  },
  {
   "cell_type": "code",
   "execution_count": 70,
   "id": "1a7e3e78",
   "metadata": {},
   "outputs": [],
   "source": [
    "replace_var = \"LinkToNext_Org\"\n",
    "ot4.loc[ot4[replace_var].isna(),replace_var]=\"Please_Revise\""
   ]
  },
  {
   "cell_type": "code",
   "execution_count": 71,
   "id": "090d5ff5",
   "metadata": {},
   "outputs": [],
   "source": [
    "replace_var = \"LinkToNext_Year\"\n",
    "ot4.loc[ot4[replace_var].isna(),replace_var]=\"Please_Revise\""
   ]
  },
  {
   "cell_type": "code",
   "execution_count": 72,
   "id": "58e7f52c",
   "metadata": {},
   "outputs": [
    {
     "data": {
      "text/html": [
       "<div>\n",
       "<style scoped>\n",
       "    .dataframe tbody tr th:only-of-type {\n",
       "        vertical-align: middle;\n",
       "    }\n",
       "\n",
       "    .dataframe tbody tr th {\n",
       "        vertical-align: top;\n",
       "    }\n",
       "\n",
       "    .dataframe thead th {\n",
       "        text-align: right;\n",
       "    }\n",
       "</style>\n",
       "<table border=\"1\" class=\"dataframe\">\n",
       "  <thead>\n",
       "    <tr style=\"text-align: right;\">\n",
       "      <th></th>\n",
       "      <th>InsideGov</th>\n",
       "      <th>PrimaryInstitution</th>\n",
       "      <th>OrgName</th>\n",
       "      <th>ImmediateSuperiorOrg</th>\n",
       "      <th>SupervisesParent</th>\n",
       "      <th>LinkToNext_PI</th>\n",
       "      <th>LinkToNext_Org</th>\n",
       "      <th>LinkToNext_Year</th>\n",
       "      <th>Notes</th>\n",
       "    </tr>\n",
       "  </thead>\n",
       "  <tbody>\n",
       "    <tr>\n",
       "      <th>0</th>\n",
       "      <td>0</td>\n",
       "      <td>4.15문화창작단</td>\n",
       "      <td>NaN</td>\n",
       "      <td>NaN</td>\n",
       "      <td>NaN</td>\n",
       "      <td>Current</td>\n",
       "      <td>Current</td>\n",
       "      <td>Current</td>\n",
       "      <td>NaN</td>\n",
       "    </tr>\n",
       "    <tr>\n",
       "      <th>1</th>\n",
       "      <td>0</td>\n",
       "      <td>6.15공동선언실천남북공동위원회북측위원회</td>\n",
       "      <td>교직원분과</td>\n",
       "      <td>NaN</td>\n",
       "      <td>NaN</td>\n",
       "      <td>Current</td>\n",
       "      <td>Current</td>\n",
       "      <td>Current</td>\n",
       "      <td>NaN</td>\n",
       "    </tr>\n",
       "    <tr>\n",
       "      <th>2</th>\n",
       "      <td>0</td>\n",
       "      <td>6.15공동선언실천남북공동위원회북측위원회</td>\n",
       "      <td>노동자분과</td>\n",
       "      <td>NaN</td>\n",
       "      <td>NaN</td>\n",
       "      <td>Current</td>\n",
       "      <td>Current</td>\n",
       "      <td>Current</td>\n",
       "      <td>NaN</td>\n",
       "    </tr>\n",
       "    <tr>\n",
       "      <th>3</th>\n",
       "      <td>0</td>\n",
       "      <td>6.15공동선언실천남북공동위원회북측위원회</td>\n",
       "      <td>농업근로자분과</td>\n",
       "      <td>NaN</td>\n",
       "      <td>NaN</td>\n",
       "      <td>Current</td>\n",
       "      <td>Current</td>\n",
       "      <td>Current</td>\n",
       "      <td>NaN</td>\n",
       "    </tr>\n",
       "    <tr>\n",
       "      <th>4</th>\n",
       "      <td>0</td>\n",
       "      <td>6.15공동선언실천남북공동위원회북측위원회</td>\n",
       "      <td>문학예술분과</td>\n",
       "      <td>NaN</td>\n",
       "      <td>NaN</td>\n",
       "      <td>Current</td>\n",
       "      <td>Current</td>\n",
       "      <td>Current</td>\n",
       "      <td>NaN</td>\n",
       "    </tr>\n",
       "    <tr>\n",
       "      <th>...</th>\n",
       "      <td>...</td>\n",
       "      <td>...</td>\n",
       "      <td>...</td>\n",
       "      <td>...</td>\n",
       "      <td>...</td>\n",
       "      <td>...</td>\n",
       "      <td>...</td>\n",
       "      <td>...</td>\n",
       "      <td>...</td>\n",
       "    </tr>\n",
       "    <tr>\n",
       "      <th>1706</th>\n",
       "      <td>Please_Revise</td>\n",
       "      <td>총참모부</td>\n",
       "      <td>작전총국_x처_x군</td>\n",
       "      <td>작전총국_x처</td>\n",
       "      <td>NaN</td>\n",
       "      <td>Please_Revise</td>\n",
       "      <td>Please_Revise</td>\n",
       "      <td>Please_Revise</td>\n",
       "      <td>NaN</td>\n",
       "    </tr>\n",
       "    <tr>\n",
       "      <th>1707</th>\n",
       "      <td>Please_Revise</td>\n",
       "      <td>총참모부</td>\n",
       "      <td>작전총국_x처_x군_제10사단</td>\n",
       "      <td>작전총국_x처_x군</td>\n",
       "      <td>NaN</td>\n",
       "      <td>Please_Revise</td>\n",
       "      <td>Please_Revise</td>\n",
       "      <td>Please_Revise</td>\n",
       "      <td>NaN</td>\n",
       "    </tr>\n",
       "    <tr>\n",
       "      <th>1708</th>\n",
       "      <td>Please_Revise</td>\n",
       "      <td>총참모부</td>\n",
       "      <td>작전총국_x처_x군단</td>\n",
       "      <td>작전총국_x처</td>\n",
       "      <td>NaN</td>\n",
       "      <td>Please_Revise</td>\n",
       "      <td>Please_Revise</td>\n",
       "      <td>Please_Revise</td>\n",
       "      <td>NaN</td>\n",
       "    </tr>\n",
       "    <tr>\n",
       "      <th>1709</th>\n",
       "      <td>Please_Revise</td>\n",
       "      <td>총참모부</td>\n",
       "      <td>작전총국_x처_제x군단</td>\n",
       "      <td>작전총국_x처</td>\n",
       "      <td>NaN</td>\n",
       "      <td>Please_Revise</td>\n",
       "      <td>Please_Revise</td>\n",
       "      <td>Please_Revise</td>\n",
       "      <td>NaN</td>\n",
       "    </tr>\n",
       "    <tr>\n",
       "      <th>1710</th>\n",
       "      <td>Please_Revise</td>\n",
       "      <td>희천기계공장</td>\n",
       "      <td>NaN</td>\n",
       "      <td>NaN</td>\n",
       "      <td>NaN</td>\n",
       "      <td>Please_Revise</td>\n",
       "      <td>Please_Revise</td>\n",
       "      <td>Please_Revise</td>\n",
       "      <td>NaN</td>\n",
       "    </tr>\n",
       "  </tbody>\n",
       "</table>\n",
       "<p>1711 rows × 9 columns</p>\n",
       "</div>"
      ],
      "text/plain": [
       "          InsideGov      PrimaryInstitution           OrgName  \\\n",
       "0                 0               4.15문화창작단               NaN   \n",
       "1                 0  6.15공동선언실천남북공동위원회북측위원회             교직원분과   \n",
       "2                 0  6.15공동선언실천남북공동위원회북측위원회             노동자분과   \n",
       "3                 0  6.15공동선언실천남북공동위원회북측위원회           농업근로자분과   \n",
       "4                 0  6.15공동선언실천남북공동위원회북측위원회            문학예술분과   \n",
       "...             ...                     ...               ...   \n",
       "1706  Please_Revise                    총참모부        작전총국_x처_x군   \n",
       "1707  Please_Revise                    총참모부  작전총국_x처_x군_제10사단   \n",
       "1708  Please_Revise                    총참모부       작전총국_x처_x군단   \n",
       "1709  Please_Revise                    총참모부      작전총국_x처_제x군단   \n",
       "1710  Please_Revise                  희천기계공장               NaN   \n",
       "\n",
       "     ImmediateSuperiorOrg SupervisesParent  LinkToNext_PI LinkToNext_Org  \\\n",
       "0                     NaN              NaN        Current        Current   \n",
       "1                     NaN              NaN        Current        Current   \n",
       "2                     NaN              NaN        Current        Current   \n",
       "3                     NaN              NaN        Current        Current   \n",
       "4                     NaN              NaN        Current        Current   \n",
       "...                   ...              ...            ...            ...   \n",
       "1706              작전총국_x처              NaN  Please_Revise  Please_Revise   \n",
       "1707           작전총국_x처_x군              NaN  Please_Revise  Please_Revise   \n",
       "1708              작전총국_x처              NaN  Please_Revise  Please_Revise   \n",
       "1709              작전총국_x처              NaN  Please_Revise  Please_Revise   \n",
       "1710                  NaN              NaN  Please_Revise  Please_Revise   \n",
       "\n",
       "     LinkToNext_Year Notes  \n",
       "0            Current   NaN  \n",
       "1            Current   NaN  \n",
       "2            Current   NaN  \n",
       "3            Current   NaN  \n",
       "4            Current   NaN  \n",
       "...              ...   ...  \n",
       "1706   Please_Revise   NaN  \n",
       "1707   Please_Revise   NaN  \n",
       "1708   Please_Revise   NaN  \n",
       "1709   Please_Revise   NaN  \n",
       "1710   Please_Revise   NaN  \n",
       "\n",
       "[1711 rows x 9 columns]"
      ]
     },
     "execution_count": 72,
     "metadata": {},
     "output_type": "execute_result"
    }
   ],
   "source": [
    "ot4"
   ]
  },
  {
   "cell_type": "markdown",
   "id": "f5b02619",
   "metadata": {},
   "source": [
    "### Step 5. export orgtree"
   ]
  },
  {
   "cell_type": "code",
   "execution_count": 73,
   "id": "87306f83",
   "metadata": {},
   "outputs": [
    {
     "data": {
      "text/plain": [
       "'orgtree_4_5_jeonsgu_cleaned.xlsx'"
      ]
     },
     "execution_count": 73,
     "metadata": {},
     "output_type": "execute_result"
    }
   ],
   "source": [
    "filein_ot"
   ]
  },
  {
   "cell_type": "code",
   "execution_count": 74,
   "id": "d58818b6",
   "metadata": {},
   "outputs": [],
   "source": [
    "fileout_ot = \"orgtree_4_6_0.xlsx\""
   ]
  },
  {
   "cell_type": "code",
   "execution_count": 75,
   "id": "ab321650",
   "metadata": {},
   "outputs": [],
   "source": [
    "ot4.to_excel(path_cleaning + subpath_2_4 + fileout_ot,index=False)"
   ]
  },
  {
   "cell_type": "code",
   "execution_count": null,
   "id": "a991e1e3",
   "metadata": {},
   "outputs": [],
   "source": []
  },
  {
   "cell_type": "markdown",
   "id": "bfb985f1",
   "metadata": {},
   "source": [
    "### Step 6. manually update Please_Revise and iteratively re-run 2.5.3 until these are null"
   ]
  },
  {
   "cell_type": "code",
   "execution_count": 76,
   "id": "3ab2a254",
   "metadata": {},
   "outputs": [
    {
     "data": {
      "text/plain": [
       "(331, 9)"
      ]
     },
     "execution_count": 76,
     "metadata": {},
     "output_type": "execute_result"
    }
   ],
   "source": [
    "ot4[ot4[\"InsideGov\"].str.lower()==\"please_revise\"].shape"
   ]
  },
  {
   "cell_type": "code",
   "execution_count": 77,
   "id": "a157f812",
   "metadata": {},
   "outputs": [
    {
     "data": {
      "text/plain": [
       "(331, 9)"
      ]
     },
     "execution_count": 77,
     "metadata": {},
     "output_type": "execute_result"
    }
   ],
   "source": [
    "ot4[ot4[\"LinkToNext_PI\"].str.lower()==\"please_revise\"].shape"
   ]
  },
  {
   "cell_type": "code",
   "execution_count": 78,
   "id": "932576f8",
   "metadata": {},
   "outputs": [
    {
     "data": {
      "text/plain": [
       "(349, 9)"
      ]
     },
     "execution_count": 78,
     "metadata": {},
     "output_type": "execute_result"
    }
   ],
   "source": [
    "ot4[ot4[\"LinkToNext_Org\"].str.lower()==\"please_revise\"].shape"
   ]
  },
  {
   "cell_type": "code",
   "execution_count": 79,
   "id": "95822b17",
   "metadata": {},
   "outputs": [
    {
     "data": {
      "text/plain": [
       "(331, 9)"
      ]
     },
     "execution_count": 79,
     "metadata": {},
     "output_type": "execute_result"
    }
   ],
   "source": [
    "ot4[ot4[\"LinkToNext_Year\"].str.lower()==\"please_revise\"].shape"
   ]
  },
  {
   "cell_type": "code",
   "execution_count": null,
   "id": "202184e0",
   "metadata": {},
   "outputs": [],
   "source": []
  }
 ],
 "metadata": {
  "kernelspec": {
   "display_name": "Python 3 (ipykernel)",
   "language": "python",
   "name": "python3"
  },
  "language_info": {
   "codemirror_mode": {
    "name": "ipython",
    "version": 3
   },
   "file_extension": ".py",
   "mimetype": "text/x-python",
   "name": "python",
   "nbconvert_exporter": "python",
   "pygments_lexer": "ipython3",
   "version": "3.11.0"
  }
 },
 "nbformat": 4,
 "nbformat_minor": 5
}
