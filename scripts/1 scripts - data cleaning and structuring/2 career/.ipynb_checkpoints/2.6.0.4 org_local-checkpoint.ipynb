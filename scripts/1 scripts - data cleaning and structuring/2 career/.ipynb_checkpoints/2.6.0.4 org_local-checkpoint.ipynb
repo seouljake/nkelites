{
 "cells": [
  {
   "cell_type": "code",
   "execution_count": 1,
   "id": "74698cf3",
   "metadata": {},
   "outputs": [],
   "source": [
    "import pandas as pd\n",
    "import numpy as np\n",
    "from datetime import date\n",
    "from statistics import mean, mode\n",
    "from pandas.api.types import CategoricalDtype\n",
    "pd.set_option('display.max_rows', None)"
   ]
  },
  {
   "cell_type": "code",
   "execution_count": 2,
   "id": "75aa1647",
   "metadata": {},
   "outputs": [
    {
     "name": "stdout",
     "output_type": "stream",
     "text": [
      "2023-10-30\n"
     ]
    }
   ],
   "source": [
    "today = date.today()\n",
    "print(today)"
   ]
  },
  {
   "cell_type": "markdown",
   "id": "6ac7a702",
   "metadata": {},
   "source": [
    "# Cleaning - Career"
   ]
  },
  {
   "cell_type": "code",
   "execution_count": 63,
   "id": "ba099e41",
   "metadata": {},
   "outputs": [],
   "source": [
    "path_cleaning_career = \"C:/Users/seoul/Dropbox/00 technical/github/nkelites/data/combined data/combined data - 1 cleaning/cleaning step 2 - career/\""
   ]
  },
  {
   "cell_type": "code",
   "execution_count": 1,
   "id": "b70873f4",
   "metadata": {},
   "outputs": [],
   "source": [
    "subpath_2_8 = \"2.8 orgtree local/\""
   ]
  },
  {
   "cell_type": "markdown",
   "id": "aaf25c71",
   "metadata": {},
   "source": [
    "# Tables"
   ]
  },
  {
   "cell_type": "code",
   "execution_count": 3,
   "id": "f2c9c339",
   "metadata": {},
   "outputs": [],
   "source": [
    "path_tables = \"C:/Users/seoul/Dropbox/00 technical/github/nkelites/data/combined data/combined data - 2 tables/\""
   ]
  },
  {
   "cell_type": "code",
   "execution_count": 4,
   "id": "200fa7f5",
   "metadata": {},
   "outputs": [],
   "source": [
    "# tables\n",
    "filename_careerorglink = \"careerorglink.xlsx\"\n",
    "filename_leadercareerlink = \"leadercareerlink.xlsx\"\n",
    "filename_orgtree = \"orgtree.xlsx\"\n",
    "filename_elected = \"positions_elected.xlsx\""
   ]
  },
  {
   "cell_type": "code",
   "execution_count": 88,
   "id": "b451c336",
   "metadata": {},
   "outputs": [],
   "source": [
    "# new table filename - indicating whether organizations are national/local - like positions_elected\n",
    "filename_org_local = \"org_local.xlsx\""
   ]
  },
  {
   "cell_type": "code",
   "execution_count": 13,
   "id": "b7d9b165",
   "metadata": {
    "scrolled": true
   },
   "outputs": [
    {
     "data": {
      "text/plain": [
       "(9002, 12)"
      ]
     },
     "execution_count": 13,
     "metadata": {},
     "output_type": "execute_result"
    }
   ],
   "source": [
    "col = pd.read_excel(path_tables + filename_careerorglink,dtype=\"str\")\n",
    "col.shape"
   ]
  },
  {
   "cell_type": "code",
   "execution_count": 14,
   "id": "0bd17a8f",
   "metadata": {},
   "outputs": [
    {
     "data": {
      "text/plain": [
       "Index(['CareerString', 'CareerDateString_2022', 'IsJob', 'MultipleSubstrings',\n",
       "       'CareerStartYear', 'CareerStartMonth', 'CareerSubstring',\n",
       "       'InstitutionType', 'PrimaryInstitution', 'OrgName', 'Position',\n",
       "       'Notes'],\n",
       "      dtype='object')"
      ]
     },
     "execution_count": 14,
     "metadata": {},
     "output_type": "execute_result"
    }
   ],
   "source": [
    "col.columns"
   ]
  },
  {
   "cell_type": "code",
   "execution_count": 15,
   "id": "4aa22e14",
   "metadata": {},
   "outputs": [
    {
     "data": {
      "text/plain": [
       "(12617, 3)"
      ]
     },
     "execution_count": 15,
     "metadata": {},
     "output_type": "execute_result"
    }
   ],
   "source": [
    "lcl = pd.read_excel(path_tables + filename_leadercareerlink,dtype=\"str\")\n",
    "lcl.shape"
   ]
  },
  {
   "cell_type": "code",
   "execution_count": 16,
   "id": "ac0f5205",
   "metadata": {},
   "outputs": [
    {
     "data": {
      "text/plain": [
       "Index(['LeaderID', 'CareerString', 'CareerDateString_2022'], dtype='object')"
      ]
     },
     "execution_count": 16,
     "metadata": {},
     "output_type": "execute_result"
    }
   ],
   "source": [
    "lcl.columns"
   ]
  },
  {
   "cell_type": "code",
   "execution_count": 17,
   "id": "44ba37bd",
   "metadata": {},
   "outputs": [
    {
     "data": {
      "text/plain": [
       "(2368, 19)"
      ]
     },
     "execution_count": 17,
     "metadata": {},
     "output_type": "execute_result"
    }
   ],
   "source": [
    "org = pd.read_excel(path_tables + filename_orgtree,dtype=\"str\")\n",
    "org.shape"
   ]
  },
  {
   "cell_type": "code",
   "execution_count": 18,
   "id": "05b6e3e8",
   "metadata": {},
   "outputs": [
    {
     "data": {
      "text/plain": [
       "Index(['InstitutionType', 'OrgType', 'PrimaryInstitution', 'OrgName',\n",
       "       'PI_Index', 'OrgRank', 'P1', 'P2', 'P3', 'Alias_OrgName',\n",
       "       'LinkToNext_PI', 'LinkToNext_Org', 'LinkToNext_Year', 'Notes',\n",
       "       'L1_Index', 'L2_Index', 'L3_Index', 'L4_Index', 'L5_Index'],\n",
       "      dtype='object')"
      ]
     },
     "execution_count": 18,
     "metadata": {},
     "output_type": "execute_result"
    }
   ],
   "source": [
    "org.columns"
   ]
  },
  {
   "cell_type": "code",
   "execution_count": 19,
   "id": "b93b05ba",
   "metadata": {},
   "outputs": [
    {
     "data": {
      "text/plain": [
       "(105, 4)"
      ]
     },
     "execution_count": 19,
     "metadata": {},
     "output_type": "execute_result"
    }
   ],
   "source": [
    "elected = pd.read_excel(path_tables + filename_elected,dtype=\"str\")\n",
    "elected.shape"
   ]
  },
  {
   "cell_type": "code",
   "execution_count": 20,
   "id": "011dfaa4",
   "metadata": {},
   "outputs": [
    {
     "data": {
      "text/plain": [
       "Index(['PrimaryInstitution', 'OrgName', 'Position', 'IsElected'], dtype='object')"
      ]
     },
     "execution_count": 20,
     "metadata": {},
     "output_type": "execute_result"
    }
   ],
   "source": [
    "elected.columns"
   ]
  },
  {
   "cell_type": "markdown",
   "id": "52841326",
   "metadata": {},
   "source": [
    "# Queries"
   ]
  },
  {
   "cell_type": "code",
   "execution_count": 52,
   "id": "df5b44ce",
   "metadata": {},
   "outputs": [],
   "source": [
    "path_queries = \"C:/Users/seoul/Dropbox/00 technical/github/nkelites/data/combined data/combined data - 3 queries/\""
   ]
  },
  {
   "cell_type": "code",
   "execution_count": 22,
   "id": "7a0352b8",
   "metadata": {},
   "outputs": [],
   "source": [
    "# jobs and job transitions, elected & unelected, in and out of gov\n",
    "filename_leaderjob_electUnelect_inOutgov = \"leaderjob_electUnelect_inOutgov.xlsx\"\n",
    "filename_leaderjobtransition_electUnelect_inOutgov = \"leaderjobtransition_electUnelect_inOutgov.xlsx\"\n",
    "\n",
    "filename_leaderjob_no_spa = \"leaderjob_no_spa.xlsx\"\n",
    "filename_leaderjobtransition_electUnelect_no_spa = \"leaderjobtransition_no_spa.xlsx\""
   ]
  },
  {
   "cell_type": "code",
   "execution_count": 23,
   "id": "c878347a",
   "metadata": {},
   "outputs": [
    {
     "data": {
      "text/plain": [
       "(6047, 14)"
      ]
     },
     "execution_count": 23,
     "metadata": {},
     "output_type": "execute_result"
    }
   ],
   "source": [
    "# jobs, certain, no SPA\n",
    "jobs = pd.read_excel(path_queries + filename_leaderjob_no_spa,dtype=\"str\")\n",
    "jobs.shape"
   ]
  },
  {
   "cell_type": "code",
   "execution_count": 24,
   "id": "31cb5cd4",
   "metadata": {},
   "outputs": [
    {
     "data": {
      "text/plain": [
       "(4306, 29)"
      ]
     },
     "execution_count": 24,
     "metadata": {},
     "output_type": "execute_result"
    }
   ],
   "source": [
    "# transitions, certain, no SPA\n",
    "trans = pd.read_excel(path_queries + filename_leaderjobtransition_electUnelect_no_spa,dtype=\"str\")\n",
    "trans.shape"
   ]
  },
  {
   "cell_type": "markdown",
   "id": "7d59db9d",
   "metadata": {},
   "source": [
    "# Functions"
   ]
  },
  {
   "cell_type": "code",
   "execution_count": 25,
   "id": "ba5de424",
   "metadata": {},
   "outputs": [],
   "source": [
    "def merge_results(m):\n",
    "    \n",
    "    print(\"\\nMerge Results...\")\n",
    "    print(\"\")\n",
    "    print(\"\\tshape     :\",m.shape)\n",
    "    print(\"\\tleft_only :\",m[m[\"_merge\"]==\"left_only\"].shape)\n",
    "    print(\"\\tboth      :\",m[m[\"_merge\"]==\"both\"].shape)\n",
    "    print(\"\\tright_only:\",m[m[\"_merge\"]==\"right_only\"].shape)"
   ]
  },
  {
   "cell_type": "code",
   "execution_count": 26,
   "id": "d3411709",
   "metadata": {},
   "outputs": [],
   "source": [
    "# using this on (PI,OrgName) will ensure unique & non-null keys\n",
    "# using this on a larger df will ensure unique rows and non-null keys, but not unique keys\n",
    "\n",
    "def unique_non_null_rows(olddf):\n",
    "    \n",
    "    df = olddf.copy()\n",
    "    \n",
    "    \n",
    "    ### drop duplicates\n",
    "    df = df.drop_duplicates(keep=\"first\",ignore_index=True)\n",
    "\n",
    "    ### drop null rows\n",
    "    df.dropna(how=\"all\",axis=0,inplace=True)\n",
    "    \n",
    "    # drop rows with null PI\n",
    "    df = df[~(df[\"PrimaryInstitution\"].isna())]\n",
    "        \n",
    "    ### drop rows where PI contains stop words\n",
    "    stop_words_lower = [\"uncertain\",\"current\",\"deprecated\",\"please_revise\"]\n",
    "    df = df[ ~ df[\"PrimaryInstitution\"].str.lower().isin(stop_words_lower)]\n",
    "            \n",
    "\n",
    "    print(\"\\nUnique Non-null Rows...\")\n",
    "    print(\"\")\n",
    "    print(\"\\tNon-unique rows:\",olddf.shape)\n",
    "    print(\"\\tUnique rows    :\",df.shape)\n",
    "\n",
    "    ### sort\n",
    "    df = df.sort_values([\"PrimaryInstitution\",\"OrgName\"])\n",
    "    \n",
    "    return df"
   ]
  },
  {
   "cell_type": "code",
   "execution_count": 27,
   "id": "945f13c9",
   "metadata": {},
   "outputs": [],
   "source": [
    "def create_time_series(series,group_var,count_var):\n",
    "    \n",
    "    yeardist = series.groupby(group_var,as_index=False).count().sort_values(group_var)\n",
    "    \n",
    "    max_year = max(series[group_var])\n",
    "    x = pd.DataFrame({\"year\":pd.Series(range(min(yeardist[group_var].astype(int)),max(yeardist[group_var].astype(int))+1))})\n",
    "    \n",
    "    yeardist[group_var] = yeardist[group_var].astype(int,errors=\"ignore\")\n",
    "    \n",
    "    ts = x.merge(yeardist,left_on=\"year\",right_on=group_var,how=\"left\")\n",
    "    ts.loc[ts[count_var].isna(),count_var]=0\n",
    "    # merge_results(ts)\n",
    "    \n",
    "    ts_columns = [\"year\",count_var]\n",
    "    ts = ts[ts_columns]\n",
    "    \n",
    "    return ts"
   ]
  },
  {
   "cell_type": "markdown",
   "id": "96f93879",
   "metadata": {},
   "source": [
    "# Orgs_local - prep new table"
   ]
  },
  {
   "cell_type": "markdown",
   "id": "e07d878c",
   "metadata": {},
   "source": [
    "### military & ngo; party & gov: InstitutionType, PrimaryInstitution, OrgName"
   ]
  },
  {
   "cell_type": "code",
   "execution_count": 30,
   "id": "377b9d8e",
   "metadata": {},
   "outputs": [
    {
     "data": {
      "text/plain": [
       "array(['노동당', '당외곽및사회단체_경제부문(별책)', '당외곽및사회단체_사회부문(별책)', '정권기관',\n",
       "       '당외곽및사회단체_대외부문', '당외곽및사회단체_사회부문', '인민군', '당외곽및사회단체_근로단체',\n",
       "       '당외곽및사회단체_경제부문', '당외곽및사회단체_체육부문', '당외곽및사회단체_정치부문', '당외곽및사회단체_종교부문',\n",
       "       'UNCERTAIN', '국제친선단체'], dtype=object)"
      ]
     },
     "execution_count": 30,
     "metadata": {},
     "output_type": "execute_result"
    }
   ],
   "source": [
    "org.InstitutionType.unique()"
   ]
  },
  {
   "cell_type": "code",
   "execution_count": 31,
   "id": "44b9f278",
   "metadata": {},
   "outputs": [
    {
     "data": {
      "text/plain": [
       "(2368, 19)"
      ]
     },
     "execution_count": 31,
     "metadata": {},
     "output_type": "execute_result"
    }
   ],
   "source": [
    "org.shape"
   ]
  },
  {
   "cell_type": "code",
   "execution_count": 38,
   "id": "385a11ca",
   "metadata": {},
   "outputs": [],
   "source": [
    "institutiontype_split = [\"노동당\",\"정권기관\"]"
   ]
  },
  {
   "cell_type": "code",
   "execution_count": 39,
   "id": "4ee1211f",
   "metadata": {},
   "outputs": [
    {
     "data": {
      "text/plain": [
       "(911, 19)"
      ]
     },
     "execution_count": 39,
     "metadata": {},
     "output_type": "execute_result"
    }
   ],
   "source": [
    "# military & ngo\n",
    "org_military_ngo = org[~org.InstitutionType.isin(institutiontype_split)]\n",
    "org_military_ngo.shape"
   ]
  },
  {
   "cell_type": "code",
   "execution_count": 40,
   "id": "552067de",
   "metadata": {},
   "outputs": [
    {
     "data": {
      "text/plain": [
       "(1457, 19)"
      ]
     },
     "execution_count": 40,
     "metadata": {},
     "output_type": "execute_result"
    }
   ],
   "source": [
    "# party & gov\n",
    "org_party_gov = org[org.InstitutionType.isin(institutiontype_split)]\n",
    "org_party_gov.shape"
   ]
  },
  {
   "cell_type": "code",
   "execution_count": 72,
   "id": "245e1418",
   "metadata": {},
   "outputs": [],
   "source": [
    "# add Local field\n",
    "org_military_ngo.loc[:,\"Local\"] = 0\n",
    "org_party_gov.loc[:,\"Local\"] = 0"
   ]
  },
  {
   "cell_type": "markdown",
   "id": "c7d385a2",
   "metadata": {},
   "source": [
    "### export military & ngo PI,OrgName"
   ]
  },
  {
   "cell_type": "code",
   "execution_count": 74,
   "id": "bc1bfdc1",
   "metadata": {},
   "outputs": [],
   "source": [
    "filename_org_military_ngo = \"org_military_ngo.xlsx\"\n",
    "filename_org_party_gov = \"org_party_gov.xlsx\""
   ]
  },
  {
   "cell_type": "code",
   "execution_count": 75,
   "id": "3605b09c",
   "metadata": {},
   "outputs": [],
   "source": [
    "# export military & ngo list for manual editing\n",
    "org_military_ngo.to_excel(path_cleaning_career + subpath_2_8 + filename_org_military_ngo,index=False)"
   ]
  },
  {
   "cell_type": "code",
   "execution_count": 76,
   "id": "6ed651c2",
   "metadata": {},
   "outputs": [],
   "source": [
    "# export party & gov list for manual editing\n",
    "org_party_gov.to_excel(path_cleaning_career + subpath_2_8 + filename_org_party_gov,index=False)"
   ]
  },
  {
   "cell_type": "markdown",
   "id": "b779401c",
   "metadata": {},
   "source": [
    "### import manually edited files"
   ]
  },
  {
   "cell_type": "code",
   "execution_count": 81,
   "id": "650a822c",
   "metadata": {},
   "outputs": [],
   "source": [
    "# filenames of manually edited org_local files\n",
    "filename_org_military_ngo_edited = \"org_military_ngo_edited1_Esther.xlsx\"\n",
    "filename_org_party_gov_edited = \"org_party_gov_edited1_Jacob.xlsx\""
   ]
  },
  {
   "cell_type": "code",
   "execution_count": 93,
   "id": "b559c0ed",
   "metadata": {},
   "outputs": [],
   "source": [
    "# import manually edited org_local files\n",
    "org_military_ngo2 = pd.read_excel(path_cleaning_career + subpath_2_8 + filename_org_military_ngo_edited,dtype=\"str\")"
   ]
  },
  {
   "cell_type": "code",
   "execution_count": 94,
   "id": "cc1358e4",
   "metadata": {},
   "outputs": [],
   "source": [
    "org_party_gov2 = pd.read_excel(path_cleaning_career + subpath_2_8 + filename_org_party_gov_edited,dtype=\"str\")"
   ]
  },
  {
   "cell_type": "markdown",
   "id": "b88a4554",
   "metadata": {},
   "source": [
    "### concatenate and export as a table "
   ]
  },
  {
   "cell_type": "code",
   "execution_count": 95,
   "id": "d4ee0c10",
   "metadata": {},
   "outputs": [],
   "source": [
    "# extract relevant fields and concatenate\n",
    "local_columns = [\"InstitutionType\",\"PrimaryInstitution\",\"OrgName\",\"Local\"]\n",
    "org_military_ngo3 = org_military_ngo2[local_columns]\n",
    "org_party_gov3 = org_party_gov2[local_columns]"
   ]
  },
  {
   "cell_type": "code",
   "execution_count": 96,
   "id": "96b96837",
   "metadata": {},
   "outputs": [
    {
     "data": {
      "text/html": [
       "<div>\n",
       "<style scoped>\n",
       "    .dataframe tbody tr th:only-of-type {\n",
       "        vertical-align: middle;\n",
       "    }\n",
       "\n",
       "    .dataframe tbody tr th {\n",
       "        vertical-align: top;\n",
       "    }\n",
       "\n",
       "    .dataframe thead th {\n",
       "        text-align: right;\n",
       "    }\n",
       "</style>\n",
       "<table border=\"1\" class=\"dataframe\">\n",
       "  <thead>\n",
       "    <tr style=\"text-align: right;\">\n",
       "      <th></th>\n",
       "      <th>InstitutionType</th>\n",
       "      <th>PrimaryInstitution</th>\n",
       "      <th>OrgName</th>\n",
       "      <th>Local</th>\n",
       "    </tr>\n",
       "  </thead>\n",
       "  <tbody>\n",
       "    <tr>\n",
       "      <th>0</th>\n",
       "      <td>UNCERTAIN</td>\n",
       "      <td>7.7연합기업소</td>\n",
       "      <td>NaN</td>\n",
       "      <td>1</td>\n",
       "    </tr>\n",
       "    <tr>\n",
       "      <th>1</th>\n",
       "      <td>UNCERTAIN</td>\n",
       "      <td>강서구역청산엽동농장</td>\n",
       "      <td>NaN</td>\n",
       "      <td>1</td>\n",
       "    </tr>\n",
       "  </tbody>\n",
       "</table>\n",
       "</div>"
      ],
      "text/plain": [
       "  InstitutionType PrimaryInstitution OrgName Local\n",
       "0       UNCERTAIN           7.7연합기업소     NaN     1\n",
       "1       UNCERTAIN         강서구역청산엽동농장     NaN     1"
      ]
     },
     "execution_count": 96,
     "metadata": {},
     "output_type": "execute_result"
    }
   ],
   "source": [
    "org_military_ngo3.head(2)"
   ]
  },
  {
   "cell_type": "code",
   "execution_count": 97,
   "id": "def0eb74",
   "metadata": {},
   "outputs": [
    {
     "data": {
      "text/html": [
       "<div>\n",
       "<style scoped>\n",
       "    .dataframe tbody tr th:only-of-type {\n",
       "        vertical-align: middle;\n",
       "    }\n",
       "\n",
       "    .dataframe tbody tr th {\n",
       "        vertical-align: top;\n",
       "    }\n",
       "\n",
       "    .dataframe thead th {\n",
       "        text-align: right;\n",
       "    }\n",
       "</style>\n",
       "<table border=\"1\" class=\"dataframe\">\n",
       "  <thead>\n",
       "    <tr style=\"text-align: right;\">\n",
       "      <th></th>\n",
       "      <th>InstitutionType</th>\n",
       "      <th>PrimaryInstitution</th>\n",
       "      <th>OrgName</th>\n",
       "      <th>Local</th>\n",
       "    </tr>\n",
       "  </thead>\n",
       "  <tbody>\n",
       "    <tr>\n",
       "      <th>0</th>\n",
       "      <td>노동당</td>\n",
       "      <td>노동당</td>\n",
       "      <td>NaN</td>\n",
       "      <td>0</td>\n",
       "    </tr>\n",
       "    <tr>\n",
       "      <th>1</th>\n",
       "      <td>정권기관</td>\n",
       "      <td>함경도인민위원회</td>\n",
       "      <td>NaN</td>\n",
       "      <td>0</td>\n",
       "    </tr>\n",
       "  </tbody>\n",
       "</table>\n",
       "</div>"
      ],
      "text/plain": [
       "  InstitutionType PrimaryInstitution OrgName Local\n",
       "0             노동당                노동당     NaN     0\n",
       "1            정권기관           함경도인민위원회     NaN     0"
      ]
     },
     "execution_count": 97,
     "metadata": {},
     "output_type": "execute_result"
    }
   ],
   "source": [
    "org_party_gov3.head(2)"
   ]
  },
  {
   "cell_type": "code",
   "execution_count": 98,
   "id": "b91ce43e",
   "metadata": {},
   "outputs": [],
   "source": [
    "org_local = pd.concat([org_party_gov3,org_military_ngo3])"
   ]
  },
  {
   "cell_type": "code",
   "execution_count": 99,
   "id": "78603680",
   "metadata": {},
   "outputs": [],
   "source": [
    "# export org_local as a Table\n",
    "org_local.to_excel(path_cleaning_career + subpath_2_8 + filename_org_local,index=False)"
   ]
  },
  {
   "cell_type": "markdown",
   "id": "14809e07",
   "metadata": {},
   "source": [
    "### merge org_local field to orgtree"
   ]
  },
  {
   "cell_type": "code",
   "execution_count": 3,
   "id": "52eb87b6",
   "metadata": {},
   "outputs": [
    {
     "ename": "NameError",
     "evalue": "name 'org' is not defined",
     "output_type": "error",
     "traceback": [
      "\u001b[1;31m---------------------------------------------------------------------------\u001b[0m",
      "\u001b[1;31mNameError\u001b[0m                                 Traceback (most recent call last)",
      "Cell \u001b[1;32mIn[3], line 1\u001b[0m\n\u001b[1;32m----> 1\u001b[0m org\u001b[38;5;241m.\u001b[39mhead(\u001b[38;5;241m2\u001b[39m)\n",
      "\u001b[1;31mNameError\u001b[0m: name 'org' is not defined"
     ]
    }
   ],
   "source": [
    "org.head(2)"
   ]
  },
  {
   "cell_type": "code",
   "execution_count": null,
   "id": "36f3c08b",
   "metadata": {},
   "outputs": [],
   "source": []
  }
 ],
 "metadata": {
  "kernelspec": {
   "display_name": "Python 3 (ipykernel)",
   "language": "python",
   "name": "python3"
  },
  "language_info": {
   "codemirror_mode": {
    "name": "ipython",
    "version": 3
   },
   "file_extension": ".py",
   "mimetype": "text/x-python",
   "name": "python",
   "nbconvert_exporter": "python",
   "pygments_lexer": "ipython3",
   "version": "3.11.5"
  }
 },
 "nbformat": 4,
 "nbformat_minor": 5
}
