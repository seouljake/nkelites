{
 "cells": [
  {
   "cell_type": "code",
   "execution_count": 1,
   "id": "74698cf3",
   "metadata": {},
   "outputs": [],
   "source": [
    "import pandas as pd\n",
    "import numpy as np"
   ]
  },
  {
   "cell_type": "markdown",
   "id": "31428185",
   "metadata": {},
   "source": [
    "# Tables\n",
    "\n",
    "### 1. LeaderCareerLink (LeaderID, CareerString, CareerDateString_2022)\n",
    "\n",
    "matches LeaderID with (CareerString, CareerDateString_2022)\n",
    "\n",
    "- LeaderID\n",
    "- CareerString\n",
    "- CareerDateString_2022\n",
    "\n",
    "### 2. CareerOrgLink (CareerString, CareerDateString_2022, CareerSubstring)\n",
    "\n",
    "matches (CareerString,CareerDateString_2022,CareerSubstring) with (InstitutionType,PrimaryInstitution,OrgName,Position)\n",
    "\n",
    "- CareerString\n",
    "- CareerDateString_2022\n",
    "- IsJob\n",
    "- MultipleSubstrings\n",
    "- CareerStartYear\n",
    "- CareerStartMonth\n",
    "- CareerSubstring\n",
    "- OrgString\n",
    "- InstitutionType\n",
    "- PrimaryInstitution\n",
    "- OrgName\n",
    "- Position\n",
    "- Notes\n",
    "\n",
    "### 3. Orgtree (InstitutionType, PrimaryInstitution, OrgName)*\n",
    "\n",
    "contains variables relevant to all (PI, Org) including PI/Org Types, Positions, Org/Pos Ranks, PI/Org Links, Aliases\n",
    "\n",
    "- InstitutionType\n",
    "- OrgType\n",
    "- PrimaryInstitution\n",
    "- OrgName\n",
    "- PI_Index\n",
    "- OrgRank\n",
    "- P1\n",
    "- P2\n",
    "- P3\n",
    "- LinkToNext_PI\n",
    "- LinkToNext_Org\n",
    "- LinkToNext_Year\n",
    "- Alias_OrgName\n",
    "- Notes"
   ]
  },
  {
   "cell_type": "code",
   "execution_count": 2,
   "id": "f2c9c339",
   "metadata": {},
   "outputs": [],
   "source": [
    "path_tables = \"C:/Users/seoul/Dropbox/00 technical/github/nkelites/data/combined data/combined data - 2 tables/\""
   ]
  },
  {
   "cell_type": "code",
   "execution_count": 3,
   "id": "b7d9b165",
   "metadata": {},
   "outputs": [
    {
     "data": {
      "text/plain": [
       "(9001, 12)"
      ]
     },
     "execution_count": 3,
     "metadata": {},
     "output_type": "execute_result"
    }
   ],
   "source": [
    "filename_careers = \"careers.xlsx\"\n",
    "\n",
    "careers = pd.read_excel(path_tables + filename_careers,dtype=\"str\")\n",
    "careers.shape"
   ]
  },
  {
   "cell_type": "code",
   "execution_count": 4,
   "id": "bc29520c",
   "metadata": {},
   "outputs": [
    {
     "data": {
      "text/html": [
       "<div>\n",
       "<style scoped>\n",
       "    .dataframe tbody tr th:only-of-type {\n",
       "        vertical-align: middle;\n",
       "    }\n",
       "\n",
       "    .dataframe tbody tr th {\n",
       "        vertical-align: top;\n",
       "    }\n",
       "\n",
       "    .dataframe thead th {\n",
       "        text-align: right;\n",
       "    }\n",
       "</style>\n",
       "<table border=\"1\" class=\"dataframe\">\n",
       "  <thead>\n",
       "    <tr style=\"text-align: right;\">\n",
       "      <th></th>\n",
       "      <th>CareerString</th>\n",
       "      <th>CareerDateString_2022</th>\n",
       "      <th>IsJob</th>\n",
       "      <th>MultipleSubstrings</th>\n",
       "      <th>CareerStartYear</th>\n",
       "      <th>CareerStartMonth</th>\n",
       "      <th>CareerSubstring</th>\n",
       "      <th>OrgString</th>\n",
       "      <th>PrimaryInstitution</th>\n",
       "      <th>OrgName</th>\n",
       "      <th>Position</th>\n",
       "      <th>Notes</th>\n",
       "    </tr>\n",
       "  </thead>\n",
       "  <tbody>\n",
       "  </tbody>\n",
       "</table>\n",
       "</div>"
      ],
      "text/plain": [
       "Empty DataFrame\n",
       "Columns: [CareerString, CareerDateString_2022, IsJob, MultipleSubstrings, CareerStartYear, CareerStartMonth, CareerSubstring, OrgString, PrimaryInstitution, OrgName, Position, Notes]\n",
       "Index: []"
      ]
     },
     "execution_count": 4,
     "metadata": {},
     "output_type": "execute_result"
    }
   ],
   "source": [
    "careers[careers[\"CareerString\"].isna()]"
   ]
  },
  {
   "cell_type": "code",
   "execution_count": 40,
   "id": "1c1ab934",
   "metadata": {},
   "outputs": [],
   "source": [
    "filename_leadercareerlink = \"leadercareerlink.xlsx\""
   ]
  },
  {
   "cell_type": "code",
   "execution_count": 6,
   "id": "f86d0874",
   "metadata": {},
   "outputs": [],
   "source": [
    "# deprecated\n",
    "\n",
    "# filename_leaderjoblink = \"leaderjoblink.xlsx\"\n",
    "# filename_joborglink = \"joborglink.xlsx\""
   ]
  },
  {
   "cell_type": "code",
   "execution_count": 41,
   "id": "09c3c30a",
   "metadata": {},
   "outputs": [],
   "source": [
    "# filenames of tables to output\n",
    "\n",
    "filename_careerorglink = \"careerorglink.xlsx\"\n",
    "filename_orgtree = \"orgtree.xlsx\""
   ]
  },
  {
   "cell_type": "markdown",
   "id": "c2a10c37",
   "metadata": {},
   "source": [
    "# Data - initial orgtree + manually cleaned data in 2.7 orgtree position & rank"
   ]
  },
  {
   "cell_type": "code",
   "execution_count": 44,
   "id": "a9386ddd",
   "metadata": {},
   "outputs": [],
   "source": [
    "path_cleaning = \"C:/Users/seoul/Dropbox/00 technical/github/nkelites/data/combined data/combined data - 1 cleaning/cleaning step 2 - career/\""
   ]
  },
  {
   "cell_type": "code",
   "execution_count": 45,
   "id": "ea8288fa",
   "metadata": {},
   "outputs": [],
   "source": [
    "subpath_2_1 = \"2.1 career_undivided_unparsed_uncoded/\"\n",
    "subpath_2_2 = \"2.2 career_divided_unparsed_uncoded/\"\n",
    "subpath_2_3 = \"2.3 joborglink/\"\n",
    "subpath_2_4 = \"2.4 orgtree/\"\n",
    "subpath_2_5 = \"2.5 position/\"\n",
    "subpath_2_6 = \"2.6 career_reassembled/\"\n",
    "subpath_2_7 = \"2.7 orgtree position & rank/\""
   ]
  },
  {
   "cell_type": "code",
   "execution_count": 46,
   "id": "83143cac",
   "metadata": {},
   "outputs": [
    {
     "data": {
      "text/plain": [
       "(2270, 23)"
      ]
     },
     "execution_count": 46,
     "metadata": {},
     "output_type": "execute_result"
    }
   ],
   "source": [
    "# 1.1 orgtree_position_rank\n",
    "\n",
    "# constructing new file from:\n",
    "## 2022 북한_기관별_인명록_북한정보포털 게재용\n",
    "## orgtree table\n",
    "\n",
    "filein_opr = \"1.1 orgtree_position_rank.xlsx\"\n",
    "opr = pd.read_excel(path_cleaning + subpath_2_7 + filein_opr,dtype=\"str\")\n",
    "opr.shape"
   ]
  },
  {
   "cell_type": "code",
   "execution_count": 47,
   "id": "3ffea89a",
   "metadata": {},
   "outputs": [
    {
     "data": {
      "text/html": [
       "<div>\n",
       "<style scoped>\n",
       "    .dataframe tbody tr th:only-of-type {\n",
       "        vertical-align: middle;\n",
       "    }\n",
       "\n",
       "    .dataframe tbody tr th {\n",
       "        vertical-align: top;\n",
       "    }\n",
       "\n",
       "    .dataframe thead th {\n",
       "        text-align: right;\n",
       "    }\n",
       "</style>\n",
       "<table border=\"1\" class=\"dataframe\">\n",
       "  <thead>\n",
       "    <tr style=\"text-align: right;\">\n",
       "      <th></th>\n",
       "      <th>InsideGov</th>\n",
       "      <th>InstitutionType</th>\n",
       "      <th>OrgType</th>\n",
       "      <th>PrimaryInstitution</th>\n",
       "      <th>OrgName</th>\n",
       "      <th>PI_Index</th>\n",
       "      <th>OrgRank</th>\n",
       "      <th>P1</th>\n",
       "      <th>P2</th>\n",
       "      <th>P3</th>\n",
       "      <th>...</th>\n",
       "      <th>Notes</th>\n",
       "      <th>L1_Index</th>\n",
       "      <th>L2_Index</th>\n",
       "      <th>L3_Index</th>\n",
       "      <th>L4_Index</th>\n",
       "      <th>L5_Index</th>\n",
       "      <th>Change_InstitutionType</th>\n",
       "      <th>Change_PI</th>\n",
       "      <th>Change_OrgName</th>\n",
       "      <th>Alias_OrgName</th>\n",
       "    </tr>\n",
       "  </thead>\n",
       "  <tbody>\n",
       "    <tr>\n",
       "      <th>0</th>\n",
       "      <td>1</td>\n",
       "      <td>노동당</td>\n",
       "      <td>NaN</td>\n",
       "      <td>노동당</td>\n",
       "      <td>NaN</td>\n",
       "      <td>1.0.0.0.0</td>\n",
       "      <td>0</td>\n",
       "      <td>총비서</td>\n",
       "      <td>NaN</td>\n",
       "      <td>NaN</td>\n",
       "      <td>...</td>\n",
       "      <td>NaN</td>\n",
       "      <td>1</td>\n",
       "      <td>0</td>\n",
       "      <td>0</td>\n",
       "      <td>0</td>\n",
       "      <td>0</td>\n",
       "      <td>NaN</td>\n",
       "      <td>NaN</td>\n",
       "      <td>NaN</td>\n",
       "      <td>NaN</td>\n",
       "    </tr>\n",
       "    <tr>\n",
       "      <th>1</th>\n",
       "      <td>1</td>\n",
       "      <td>노동당</td>\n",
       "      <td>NaN</td>\n",
       "      <td>노동당</td>\n",
       "      <td>당중앙위원회</td>\n",
       "      <td>1.1.0.0.0</td>\n",
       "      <td>1</td>\n",
       "      <td>NaN</td>\n",
       "      <td>NaN</td>\n",
       "      <td>위원, 후보위원</td>\n",
       "      <td>...</td>\n",
       "      <td>NaN</td>\n",
       "      <td>1</td>\n",
       "      <td>1</td>\n",
       "      <td>0</td>\n",
       "      <td>0</td>\n",
       "      <td>0</td>\n",
       "      <td>NaN</td>\n",
       "      <td>NaN</td>\n",
       "      <td>NaN</td>\n",
       "      <td>NaN</td>\n",
       "    </tr>\n",
       "  </tbody>\n",
       "</table>\n",
       "<p>2 rows × 23 columns</p>\n",
       "</div>"
      ],
      "text/plain": [
       "  InsideGov InstitutionType OrgType PrimaryInstitution OrgName   PI_Index  \\\n",
       "0         1             노동당     NaN                노동당     NaN  1.0.0.0.0   \n",
       "1         1             노동당     NaN                노동당  당중앙위원회  1.1.0.0.0   \n",
       "\n",
       "  OrgRank   P1   P2        P3  ... Notes L1_Index L2_Index L3_Index L4_Index  \\\n",
       "0       0  총비서  NaN       NaN  ...   NaN        1        0        0        0   \n",
       "1       1  NaN  NaN  위원, 후보위원  ...   NaN        1        1        0        0   \n",
       "\n",
       "  L5_Index Change_InstitutionType Change_PI Change_OrgName Alias_OrgName  \n",
       "0        0                    NaN       NaN            NaN           NaN  \n",
       "1        0                    NaN       NaN            NaN           NaN  \n",
       "\n",
       "[2 rows x 23 columns]"
      ]
     },
     "execution_count": 47,
     "metadata": {},
     "output_type": "execute_result"
    }
   ],
   "source": [
    "opr.head(2)"
   ]
  },
  {
   "cell_type": "code",
   "execution_count": 48,
   "id": "614bfa3a",
   "metadata": {},
   "outputs": [],
   "source": [
    "# orgtree_copy\n",
    "\n",
    "# copy of orgtree table\n",
    "\n",
    "# filein_ot = \"orgtree_copy.xlsx\"\n",
    "# ot = pd.read_excel(path_cleaning + subpath_2_7 + filein_ot,dtype=\"str\")\n",
    "# ot.shape"
   ]
  },
  {
   "cell_type": "code",
   "execution_count": 49,
   "id": "6a6c73b3",
   "metadata": {},
   "outputs": [],
   "source": [
    "# 2.0_mismatch_\n",
    "\n",
    "# 2.0_mismatch_정권_1_Esther\n",
    "# 2.0_mismatch_정권_1_Jeongsu\n",
    "# 2.0_mismatch_당_1_Esther_August.6.ES\n",
    "# 2.0_mismatch_당_1_Jeongsu\n",
    "# 2.0_mismatch_군및기타_1_ingov_JS\n",
    "# 2.0_mismatch_군및기타_1_outgov_JR\n",
    "\n",
    "mismatch_filenames = [\n",
    "    \"2.0_mismatch_정권_2_Jacob.xlsx\",\n",
    "    \"2.0_mismatch_당_2_Jacob.xlsx\",\n",
    "    \"2.0_mismatch_군및기타_1_ingov_JS.xlsx\",\n",
    "    \"2.0_mismatch_군및기타_1_outgov_JR.xlsx\"\n",
    "]"
   ]
  },
  {
   "cell_type": "code",
   "execution_count": 50,
   "id": "90ace8c6",
   "metadata": {},
   "outputs": [],
   "source": [
    "# select columns in mismatch dfs\n",
    "\n",
    "mismatch_columns = [\"CareerString\", \"CareerStartYear\", \"MultipleSubstrings\", \"CareerSubstring\", \"IsJob\",\n",
    "                    \"InstitutionType\", \"PrimaryInstitution\", \"OrgName\", \"Position\", \"LinkToNext_Year\",\n",
    "                    \"Resolution\", \"Change_PI\", \"Change_OrgName\", \"Change_Position\",\"Notes\"]"
   ]
  },
  {
   "cell_type": "code",
   "execution_count": 51,
   "id": "ed14fc61",
   "metadata": {},
   "outputs": [
    {
     "name": "stderr",
     "output_type": "stream",
     "text": [
      "C:\\Users\\seoul\\AppData\\Local\\Programs\\Python\\Python311\\Lib\\site-packages\\openpyxl\\worksheet\\_reader.py:312: UserWarning: Data Validation extension is not supported and will be removed\n",
      "  warn(msg)\n"
     ]
    },
    {
     "name": "stdout",
     "output_type": "stream",
     "text": [
      "(405, 15)\n"
     ]
    },
    {
     "name": "stderr",
     "output_type": "stream",
     "text": [
      "C:\\Users\\seoul\\AppData\\Local\\Programs\\Python\\Python311\\Lib\\site-packages\\openpyxl\\worksheet\\_reader.py:312: UserWarning: Data Validation extension is not supported and will be removed\n",
      "  warn(msg)\n"
     ]
    },
    {
     "name": "stdout",
     "output_type": "stream",
     "text": [
      "(496, 15)\n"
     ]
    },
    {
     "name": "stderr",
     "output_type": "stream",
     "text": [
      "C:\\Users\\seoul\\AppData\\Local\\Programs\\Python\\Python311\\Lib\\site-packages\\openpyxl\\worksheet\\_reader.py:312: UserWarning: Data Validation extension is not supported and will be removed\n",
      "  warn(msg)\n"
     ]
    },
    {
     "name": "stdout",
     "output_type": "stream",
     "text": [
      "(834, 15)\n",
      "(529, 15)\n",
      "4\n"
     ]
    },
    {
     "name": "stderr",
     "output_type": "stream",
     "text": [
      "C:\\Users\\seoul\\AppData\\Local\\Programs\\Python\\Python311\\Lib\\site-packages\\openpyxl\\worksheet\\_reader.py:312: UserWarning: Data Validation extension is not supported and will be removed\n",
      "  warn(msg)\n"
     ]
    }
   ],
   "source": [
    "# read in mismatch dfs\n",
    "\n",
    "m_dfs = []\n",
    "\n",
    "for filename in mismatch_filenames:\n",
    "    df = pd.read_excel(path_cleaning + subpath_2_7 + filename,sheet_name=\"Sheet1\",dtype=\"str\")\n",
    "    df = df[mismatch_columns]\n",
    "    print(df.shape)\n",
    "    m_dfs.append(df)\n",
    "\n",
    "print(len(m_dfs))"
   ]
  },
  {
   "cell_type": "code",
   "execution_count": 52,
   "id": "8ace1799",
   "metadata": {},
   "outputs": [
    {
     "data": {
      "text/plain": [
       "(2264, 15)"
      ]
     },
     "execution_count": 52,
     "metadata": {},
     "output_type": "execute_result"
    }
   ],
   "source": [
    "# concat mismatch dfs into a single df\n",
    "\n",
    "m = pd.concat(m_dfs)\n",
    "m.shape"
   ]
  },
  {
   "cell_type": "code",
   "execution_count": 54,
   "id": "273b64d9",
   "metadata": {},
   "outputs": [
    {
     "data": {
      "text/html": [
       "<div>\n",
       "<style scoped>\n",
       "    .dataframe tbody tr th:only-of-type {\n",
       "        vertical-align: middle;\n",
       "    }\n",
       "\n",
       "    .dataframe tbody tr th {\n",
       "        vertical-align: top;\n",
       "    }\n",
       "\n",
       "    .dataframe thead th {\n",
       "        text-align: right;\n",
       "    }\n",
       "</style>\n",
       "<table border=\"1\" class=\"dataframe\">\n",
       "  <thead>\n",
       "    <tr style=\"text-align: right;\">\n",
       "      <th></th>\n",
       "      <th>CareerString</th>\n",
       "      <th>CareerStartYear</th>\n",
       "      <th>MultipleSubstrings</th>\n",
       "      <th>CareerSubstring</th>\n",
       "      <th>IsJob</th>\n",
       "      <th>InstitutionType</th>\n",
       "      <th>PrimaryInstitution</th>\n",
       "      <th>OrgName</th>\n",
       "      <th>Position</th>\n",
       "      <th>LinkToNext_Year</th>\n",
       "      <th>Resolution</th>\n",
       "      <th>Change_PI</th>\n",
       "      <th>Change_OrgName</th>\n",
       "      <th>Change_Position</th>\n",
       "      <th>Notes</th>\n",
       "    </tr>\n",
       "  </thead>\n",
       "  <tbody>\n",
       "    <tr>\n",
       "      <th>0</th>\n",
       "      <td>유엔 주재 대표부 1등서기관</td>\n",
       "      <td>1975</td>\n",
       "      <td>1</td>\n",
       "      <td>NaN</td>\n",
       "      <td>True</td>\n",
       "      <td>정권기관</td>\n",
       "      <td>내각</td>\n",
       "      <td>외무성_유엔대표부</td>\n",
       "      <td>1등서기관</td>\n",
       "      <td>Current</td>\n",
       "      <td>3. OrgName &amp; Position ok. Add Position to P3</td>\n",
       "      <td>NaN</td>\n",
       "      <td>NaN</td>\n",
       "      <td>NaN</td>\n",
       "      <td>NaN</td>\n",
       "    </tr>\n",
       "    <tr>\n",
       "      <th>1</th>\n",
       "      <td>1975.10 유엔주재 북한대표부 1등서기관</td>\n",
       "      <td>1975</td>\n",
       "      <td>1</td>\n",
       "      <td>NaN</td>\n",
       "      <td>True</td>\n",
       "      <td>정권기관</td>\n",
       "      <td>내각</td>\n",
       "      <td>외무성_유엔대표부</td>\n",
       "      <td>1등서기관</td>\n",
       "      <td>Current</td>\n",
       "      <td>3. OrgName &amp; Position ok. Add Position to P3</td>\n",
       "      <td>NaN</td>\n",
       "      <td>NaN</td>\n",
       "      <td>NaN</td>\n",
       "      <td>NaN</td>\n",
       "    </tr>\n",
       "  </tbody>\n",
       "</table>\n",
       "</div>"
      ],
      "text/plain": [
       "               CareerString CareerStartYear MultipleSubstrings  \\\n",
       "0           유엔 주재 대표부 1등서기관            1975                  1   \n",
       "1  1975.10 유엔주재 북한대표부 1등서기관            1975                  1   \n",
       "\n",
       "  CareerSubstring IsJob InstitutionType PrimaryInstitution    OrgName  \\\n",
       "0             NaN  True            정권기관                 내각  외무성_유엔대표부   \n",
       "1             NaN  True            정권기관                 내각  외무성_유엔대표부   \n",
       "\n",
       "  Position LinkToNext_Year                                    Resolution  \\\n",
       "0    1등서기관         Current  3. OrgName & Position ok. Add Position to P3   \n",
       "1    1등서기관         Current  3. OrgName & Position ok. Add Position to P3   \n",
       "\n",
       "  Change_PI Change_OrgName Change_Position Notes  \n",
       "0       NaN            NaN             NaN   NaN  \n",
       "1       NaN            NaN             NaN   NaN  "
      ]
     },
     "execution_count": 54,
     "metadata": {},
     "output_type": "execute_result"
    }
   ],
   "source": [
    "m.head(2)"
   ]
  },
  {
   "cell_type": "markdown",
   "id": "1c8c6302",
   "metadata": {},
   "source": [
    "# Functions: format orgtree"
   ]
  },
  {
   "cell_type": "code",
   "execution_count": 55,
   "id": "3b85b568",
   "metadata": {},
   "outputs": [],
   "source": [
    "# using this on (PI,OrgName) will ensure unique & non-null keys\n",
    "# using this on a larger df will ensure unique rows and non-null keys, but not unique keys\n",
    "\n",
    "def unique_non_null_rows(olddf):\n",
    "    \n",
    "    df = olddf.copy()\n",
    "    \n",
    "    \n",
    "    ### drop duplicates\n",
    "    df = df.drop_duplicates(keep=\"first\",ignore_index=True)\n",
    "\n",
    "    ### drop null rows\n",
    "    df.dropna(how=\"all\",axis=0,inplace=True)\n",
    "    \n",
    "    # drop rows with null PI\n",
    "    df = df[~(df[\"PrimaryInstitution\"].isna())]\n",
    "        \n",
    "    ### drop rows where PI contains stop words\n",
    "    stop_words_lower = [\"uncertain\",\"current\",\"deprecated\",\"please_revise\"]\n",
    "    df = df[ ~ df[\"PrimaryInstitution\"].str.lower().isin(stop_words_lower)]\n",
    "            \n",
    "\n",
    "    print(\"\\nUnique Non-null Rows...\")\n",
    "    print(\"\")\n",
    "    print(\"\\tNon-unique rows:\",olddf.shape)\n",
    "    print(\"\\tUnique rows    :\",df.shape)\n",
    "\n",
    "    ### sort\n",
    "    df = df.sort_values([\"PrimaryInstitution\",\"OrgName\"])\n",
    "    \n",
    "    return df"
   ]
  },
  {
   "cell_type": "code",
   "execution_count": 56,
   "id": "9e7c6ad4",
   "metadata": {},
   "outputs": [],
   "source": [
    "def verify_unique_rows(df):\n",
    "    \n",
    "    key_columns = [\"PrimaryInstitution\",\"OrgName\"]\n",
    "    print(\"\\nVerifying Unique Rows...\")\n",
    "    print(\"\")\n",
    "    print(\"\\tDuplicate Rows:\",df[df.duplicated(keep=False)].shape)\n",
    "    print(\"\\tDuplicate Keys:\",df[df.duplicated(key_columns,keep=False)].shape)\n",
    "    print(\"\\tNull Rows     :\",df[df[\"PrimaryInstitution\"].isna() & df[\"OrgName\"].isna()].shape)"
   ]
  },
  {
   "cell_type": "code",
   "execution_count": 57,
   "id": "118e1cab",
   "metadata": {},
   "outputs": [],
   "source": [
    "def merge_results(m):\n",
    "    \n",
    "    print(\"\\nMerge Results...\")\n",
    "    print(\"\")\n",
    "    print(\"\\tshape     :\",m.shape)\n",
    "    print(\"\\tleft_only :\",m[m[\"_merge\"]==\"left_only\"].shape)\n",
    "    print(\"\\tboth      :\",m[m[\"_merge\"]==\"both\"].shape)\n",
    "    print(\"\\tright_only:\",m[m[\"_merge\"]==\"right_only\"].shape)"
   ]
  },
  {
   "cell_type": "code",
   "execution_count": 58,
   "id": "cebce4e4",
   "metadata": {},
   "outputs": [],
   "source": [
    "def update_opr_index(opr,max_level):\n",
    "    \n",
    "    # create and clear out existing Level Indicies\n",
    "    opr[\"OrgRank\"]=np.nan\n",
    "    opr[\"L1_Index\"]=np.nan\n",
    "    opr[\"L2_Index\"]=np.nan\n",
    "    opr[\"L3_Index\"]=np.nan\n",
    "    opr[\"L4_Index\"]=np.nan\n",
    "    opr[\"L5_Index\"]=np.nan\n",
    "    \n",
    "    # pad PI_Index with missing 0s up to the deepest level (4 or 5?)\n",
    "    opr[\"PI_Index\"] = opr.apply(lambda x: str(x[\"PI_Index\"]) + ((max_level-1)-str(x[\"PI_Index\"]).count(\".\")) * \".0\",axis=1)\n",
    "    \n",
    "    # calculate OrgRank\n",
    "    opr[\"OrgRank\"] = opr.apply(lambda x: (max_level-1) - str(x[\"PI_Index\"]).count(\".0\"),axis=1)\n",
    "    \n",
    "    # populate Level Indices using PI_Index\n",
    "    opr.loc[opr[\"PI_Index\"].notna(),\"L1_Index\"] = opr.loc[opr[\"PI_Index\"].notna()].apply(lambda x: str(x[\"PI_Index\"]).split(\".\")[0],axis=1)\n",
    "    opr.loc[opr[\"PI_Index\"].notna(),\"L2_Index\"] = opr.loc[opr[\"PI_Index\"].notna()].apply(lambda x: str(x[\"PI_Index\"]).split(\".\")[1],axis=1)\n",
    "    opr.loc[opr[\"PI_Index\"].notna(),\"L3_Index\"] = opr.loc[opr[\"PI_Index\"].notna()].apply(lambda x: str(x[\"PI_Index\"]).split(\".\")[2],axis=1)\n",
    "    opr.loc[opr[\"PI_Index\"].notna(),\"L4_Index\"] = opr.loc[opr[\"PI_Index\"].notna()].apply(lambda x: str(x[\"PI_Index\"]).split(\".\")[3],axis=1)\n",
    "    opr.loc[opr[\"PI_Index\"].notna(),\"L5_Index\"] = opr.loc[opr[\"PI_Index\"].notna()].apply(lambda x: str(x[\"PI_Index\"]).split(\".\")[4],axis=1)\n",
    "\n",
    "    # sort by Level1, Level2, Level3\n",
    "    sort_columns = [\"L1_Index\",\"L2_Index\",\"L3_Index\",\"L4_Index\",\"L5_Index\"]\n",
    "    #opr.L1_Index.astype(int,errors=\"ignore\")\n",
    "    #opr.L2_Index.astype(int,errors=\"ignore\")\n",
    "    #opr.L3_Index.astype(int,errors=\"ignore\")\n",
    "    opr.sort_values(sort_columns,inplace=True)\n",
    "    \n",
    "    return opr"
   ]
  },
  {
   "cell_type": "code",
   "execution_count": 59,
   "id": "77dddaf1",
   "metadata": {},
   "outputs": [],
   "source": [
    "# opr = update_opr_index(opr,5)"
   ]
  },
  {
   "cell_type": "code",
   "execution_count": 60,
   "id": "7f7aedb0",
   "metadata": {},
   "outputs": [],
   "source": [
    "# export opr\n",
    "\n",
    "# fileout_opr = \"1.0 orgtree_position_rank.xlsx\"\n",
    "# opr.to_excel(path_cleaning + subpath_2_7 + fileout_opr,index=False)"
   ]
  },
  {
   "cell_type": "markdown",
   "id": "9058cf44",
   "metadata": {},
   "source": [
    "# Recall from earlier cleaning\n",
    "\n",
    "#### Three Cases of  OrgName in NK elite career data\n",
    "\n",
    "- Case 0: OrgName in 기관별인명록: code these from 1-199\n",
    "- Case 1: OrgName not in 기관별인명록, but contained in data AND LinkToNext_Year not current: code as 500+\n",
    "- Case 2: OrgName not in 기관별인명록, but contained in data AND LinkToNext_Year is current: code as 200+\n",
    "\n",
    "#### Case 0: OrgName in 기관별인명록\n",
    "\n",
    "- Update 1.0 orgtree_position_rank with OrgName in 기관별인명록\n",
    "- Code these from 1-199\n",
    "- Run above routine # 1. orgtree_position_rank: update all besides 노동당, 내각, 정무원\n",
    "    - to update opr & pr_else3\n",
    "- Proceed to Cases 1 & 2\n",
    "\n",
    "#### Resolve. Validation values for resolving null Position_3P\n",
    "\n",
    "1. OrgName & Position ok. Add Position to P1\n",
    "2. OrgName & Position ok. Add Position to P2\n",
    "3. OrgName & Position ok. Add Position to P3\n",
    "4. Change_OrgName and/or Change_Position\n",
    "5. Uncertain OrgName\n",
    "6. Uncertain Position\n",
    "7. NotJob\n",
    "8. Multiple CareerSubstring\n",
    "9. Other - see Notes"
   ]
  },
  {
   "cell_type": "markdown",
   "id": "16e9b179",
   "metadata": {},
   "source": [
    "# Tasks\n",
    "\n",
    "- Double-check task-list in Evernote\n",
    "\n",
    "- NotJob\n",
    "\n",
    "- MultipleSubstrings\n",
    "\n",
    "- Change_PI, Change_OrgName\n",
    "\n",
    "- Recode & Recategorize some (PI,OrgName)\n",
    "    - 중앙위원회\n",
    "    - 인민군, 총참모부, 인민무력부, \n",
    "\n",
    "- Review Integrity Checks & Adjust Mismatches\n",
    "    - Validate InstitutionType, OrgType\n",
    "    - Data in Careers but not in Orgtree\n",
    "    - Orgs in Orgtree but not in Careers or 기관별인명록\n",
    "    - Verify no Positions overlapping within the same PI, OrgName\n",
    "\n",
    "- Re-Index\n",
    "\n",
    "- Add OrgType\n",
    "    \n",
    "- Future Integrity Checks & Data Cleaning\n",
    "    - Identify inconsistencies in Position Rankings (e.g., 명예위원장)\n",
    "    - Verify (PI, OrgName) not found in 기관별인명록\n",
    "    - Reconcile 기관 across three categories: 기타기관, 당외곽및사회단체, 당외곽및사회단체(별책)"
   ]
  },
  {
   "cell_type": "markdown",
   "id": "a86bd6f3",
   "metadata": {},
   "source": []
  },
  {
   "cell_type": "code",
   "execution_count": null,
   "id": "6f653bde",
   "metadata": {},
   "outputs": [],
   "source": []
  },
  {
   "cell_type": "code",
   "execution_count": null,
   "id": "ea34a2be",
   "metadata": {},
   "outputs": [],
   "source": []
  },
  {
   "cell_type": "code",
   "execution_count": null,
   "id": "201ba6f0",
   "metadata": {},
   "outputs": [],
   "source": []
  },
  {
   "cell_type": "code",
   "execution_count": null,
   "id": "5c38af5d",
   "metadata": {},
   "outputs": [],
   "source": []
  }
 ],
 "metadata": {
  "kernelspec": {
   "display_name": "Python 3 (ipykernel)",
   "language": "python",
   "name": "python3"
  },
  "language_info": {
   "codemirror_mode": {
    "name": "ipython",
    "version": 3
   },
   "file_extension": ".py",
   "mimetype": "text/x-python",
   "name": "python",
   "nbconvert_exporter": "python",
   "pygments_lexer": "ipython3",
   "version": "3.11.0"
  }
 },
 "nbformat": 4,
 "nbformat_minor": 5
}
