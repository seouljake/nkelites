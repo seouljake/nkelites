{
 "cells": [
  {
   "cell_type": "code",
   "execution_count": 1,
   "id": "74698cf3",
   "metadata": {},
   "outputs": [],
   "source": [
    "import pandas as pd\n",
    "import numpy as np\n",
    "from datetime import date"
   ]
  },
  {
   "cell_type": "markdown",
   "id": "aaf25c71",
   "metadata": {},
   "source": [
    "# combined data - 2 tables"
   ]
  },
  {
   "cell_type": "code",
   "execution_count": 2,
   "id": "f2c9c339",
   "metadata": {},
   "outputs": [],
   "source": [
    "path_tables = \"C:/Users/seoul/Dropbox/00 technical/github/nkelites/data/combined data/combined data - 2 tables/\""
   ]
  },
  {
   "cell_type": "code",
   "execution_count": 3,
   "id": "b7d9b165",
   "metadata": {},
   "outputs": [],
   "source": [
    "filename_careers = \"careers.xlsx\""
   ]
  },
  {
   "cell_type": "code",
   "execution_count": 4,
   "id": "c8b6d411",
   "metadata": {},
   "outputs": [],
   "source": [
    "filename_orgtree = \"orgtree.xlsx\""
   ]
  },
  {
   "cell_type": "code",
   "execution_count": 5,
   "id": "1c1ab934",
   "metadata": {},
   "outputs": [],
   "source": [
    "filename_leadercareerlink = \"leadercareerlink.xlsx\""
   ]
  },
  {
   "cell_type": "code",
   "execution_count": 6,
   "id": "f86d0874",
   "metadata": {},
   "outputs": [],
   "source": [
    "filename_leaderjoblink = \"leaderjoblink.xlsx\""
   ]
  },
  {
   "cell_type": "code",
   "execution_count": 7,
   "id": "09c3c30a",
   "metadata": {},
   "outputs": [],
   "source": [
    "filename_joborglink = \"joborglink.xlsx\""
   ]
  },
  {
   "cell_type": "markdown",
   "id": "c2a10c37",
   "metadata": {},
   "source": [
    "# combined data - 1 cleaning/cleaning step 2 - career/"
   ]
  },
  {
   "cell_type": "code",
   "execution_count": 8,
   "id": "a9386ddd",
   "metadata": {},
   "outputs": [],
   "source": [
    "path_cleaning = \"C:/Users/seoul/Dropbox/00 technical/github/nkelites/data/combined data/combined data - 1 cleaning/cleaning step 2 - career/\""
   ]
  },
  {
   "cell_type": "code",
   "execution_count": 9,
   "id": "ea8288fa",
   "metadata": {},
   "outputs": [],
   "source": [
    "subpath_2_1 = \"2.1 career_undivided_unparsed_uncoded/\"\n",
    "subpath_2_2 = \"2.2 career_divided_unparsed_uncoded/\"\n",
    "subpath_2_3 = \"2.3 joborglink/\"\n",
    "subpath_2_4 = \"2.4 orgtree/\"\n",
    "subpath_2_5 = \"2.5 position/\"\n",
    "subpath_2_6 = \"2.6 career_reassembled/\""
   ]
  },
  {
   "cell_type": "code",
   "execution_count": 10,
   "id": "83143cac",
   "metadata": {},
   "outputs": [
    {
     "data": {
      "text/plain": [
       "(1765, 9)"
      ]
     },
     "execution_count": 10,
     "metadata": {},
     "output_type": "execute_result"
    }
   ],
   "source": [
    "# most current orgtree data: orgtree_4_6_0\n",
    "filein_ot = \"orgtree_4_6_0.xlsx\"\n",
    "ot = pd.read_excel(path_cleaning + subpath_2_4 + filein_ot,dtype=\"str\")\n",
    "ot.shape"
   ]
  },
  {
   "cell_type": "code",
   "execution_count": 11,
   "id": "614bfa3a",
   "metadata": {},
   "outputs": [
    {
     "data": {
      "text/plain": [
       "(9001, 12)"
      ]
     },
     "execution_count": 11,
     "metadata": {},
     "output_type": "execute_result"
    }
   ],
   "source": [
    "# most current careers data: careers_4_0\n",
    "filein_careers = \"careers_4_0.xlsx\"\n",
    "careers = pd.read_excel(path_cleaning + subpath_2_6 + filein_careers,dtype=\"str\")\n",
    "careers.shape"
   ]
  },
  {
   "cell_type": "code",
   "execution_count": 12,
   "id": "75aa1647",
   "metadata": {},
   "outputs": [
    {
     "name": "stdout",
     "output_type": "stream",
     "text": [
      "2023-07-13\n"
     ]
    }
   ],
   "source": [
    "today = date.today()\n",
    "print(today)"
   ]
  },
  {
   "cell_type": "markdown",
   "id": "f379b6af",
   "metadata": {},
   "source": [
    "# career - deprecate old and update new"
   ]
  },
  {
   "cell_type": "code",
   "execution_count": 13,
   "id": "127a70cd",
   "metadata": {},
   "outputs": [
    {
     "data": {
      "text/plain": [
       "'careers'"
      ]
     },
     "execution_count": 13,
     "metadata": {},
     "output_type": "execute_result"
    }
   ],
   "source": [
    "table_name = \"careers\"\n",
    "table_name"
   ]
  },
  {
   "cell_type": "code",
   "execution_count": 14,
   "id": "f1cf5c8f",
   "metadata": {},
   "outputs": [
    {
     "data": {
      "text/plain": [
       "'careers.xlsx'"
      ]
     },
     "execution_count": 14,
     "metadata": {},
     "output_type": "execute_result"
    }
   ],
   "source": [
    "filename_careers"
   ]
  },
  {
   "cell_type": "code",
   "execution_count": 15,
   "id": "70a57496",
   "metadata": {},
   "outputs": [
    {
     "data": {
      "text/plain": [
       "'careers_deprecated_2023-07-13.xlsx'"
      ]
     },
     "execution_count": 15,
     "metadata": {},
     "output_type": "execute_result"
    }
   ],
   "source": [
    "filename_deprecated = table_name + \"_deprecated_\"+str(today)+\".xlsx\"\n",
    "filename_deprecated"
   ]
  },
  {
   "cell_type": "code",
   "execution_count": 16,
   "id": "b8b178af",
   "metadata": {},
   "outputs": [],
   "source": [
    "# deprecate old table\n",
    "oldat = pd.read_excel(path_tables + filename_careers,dtype=\"str\")\n",
    "oldat.to_excel(path_tables + filename_deprecated,index=False)"
   ]
  },
  {
   "cell_type": "code",
   "execution_count": 17,
   "id": "2a11f5e1",
   "metadata": {},
   "outputs": [],
   "source": [
    "# refresh careers with new data\n",
    "careers.to_excel(path_tables + filename_careers,index=False)"
   ]
  },
  {
   "cell_type": "markdown",
   "id": "6290c554",
   "metadata": {},
   "source": [
    "# orgtree - deprecate old and update new"
   ]
  },
  {
   "cell_type": "code",
   "execution_count": 18,
   "id": "5c4f565b",
   "metadata": {},
   "outputs": [
    {
     "data": {
      "text/plain": [
       "'orgtree'"
      ]
     },
     "execution_count": 18,
     "metadata": {},
     "output_type": "execute_result"
    }
   ],
   "source": [
    "# select table_name\n",
    "table_name = \"orgtree\"\n",
    "table_name"
   ]
  },
  {
   "cell_type": "code",
   "execution_count": 19,
   "id": "aa85649e",
   "metadata": {},
   "outputs": [
    {
     "data": {
      "text/plain": [
       "'orgtree.xlsx'"
      ]
     },
     "execution_count": 19,
     "metadata": {},
     "output_type": "execute_result"
    }
   ],
   "source": [
    "# select filename_table\n",
    "filename_orgtree"
   ]
  },
  {
   "cell_type": "code",
   "execution_count": 20,
   "id": "f0e0c344",
   "metadata": {},
   "outputs": [
    {
     "data": {
      "text/plain": [
       "'orgtree_deprecated_2023-07-13.xlsx'"
      ]
     },
     "execution_count": 20,
     "metadata": {},
     "output_type": "execute_result"
    }
   ],
   "source": [
    "# confirm name of deprecated file\n",
    "filename_deprecated = table_name + \"_deprecated_\"+str(today)+\".xlsx\"\n",
    "filename_deprecated"
   ]
  },
  {
   "cell_type": "code",
   "execution_count": 21,
   "id": "7e5629a8",
   "metadata": {},
   "outputs": [],
   "source": [
    "# deprecate old table\n",
    "oldat = pd.read_excel(path_tables + filename_orgtree,dtype=\"str\")\n",
    "oldat.to_excel(path_tables + filename_deprecated,index=False)"
   ]
  },
  {
   "cell_type": "code",
   "execution_count": 22,
   "id": "141ebe7a",
   "metadata": {},
   "outputs": [],
   "source": [
    "# refresh current table\n",
    "ot.to_excel(path_tables + filename_orgtree,index=False)"
   ]
  },
  {
   "cell_type": "code",
   "execution_count": 34,
   "id": "e52c5278",
   "metadata": {},
   "outputs": [],
   "source": []
  },
  {
   "cell_type": "code",
   "execution_count": null,
   "id": "9accdded",
   "metadata": {},
   "outputs": [],
   "source": []
  },
  {
   "cell_type": "code",
   "execution_count": null,
   "id": "fc603c0e",
   "metadata": {},
   "outputs": [],
   "source": []
  },
  {
   "cell_type": "code",
   "execution_count": null,
   "id": "adaecdd4",
   "metadata": {},
   "outputs": [],
   "source": []
  }
 ],
 "metadata": {
  "kernelspec": {
   "display_name": "Python 3 (ipykernel)",
   "language": "python",
   "name": "python3"
  },
  "language_info": {
   "codemirror_mode": {
    "name": "ipython",
    "version": 3
   },
   "file_extension": ".py",
   "mimetype": "text/x-python",
   "name": "python",
   "nbconvert_exporter": "python",
   "pygments_lexer": "ipython3",
   "version": "3.11.0"
  }
 },
 "nbformat": 4,
 "nbformat_minor": 5
}
