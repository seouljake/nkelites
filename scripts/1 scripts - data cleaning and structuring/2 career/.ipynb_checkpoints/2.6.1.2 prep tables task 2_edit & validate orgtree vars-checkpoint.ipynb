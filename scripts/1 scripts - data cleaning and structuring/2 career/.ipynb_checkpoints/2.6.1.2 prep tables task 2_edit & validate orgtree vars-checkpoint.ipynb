{
 "cells": [
  {
   "cell_type": "code",
   "execution_count": 1,
   "id": "74698cf3",
   "metadata": {},
   "outputs": [],
   "source": [
    "import pandas as pd\n",
    "import numpy as np"
   ]
  },
  {
   "cell_type": "markdown",
   "id": "31428185",
   "metadata": {},
   "source": [
    "# Tables\n",
    "\n",
    "### 1. LeaderCareerLink (LeaderID, CareerString, CareerDateString_2022)\n",
    "\n",
    "matches LeaderID with (CareerString, CareerDateString_2022)\n",
    "\n",
    "- LeaderID\n",
    "- CareerString\n",
    "- CareerDateString_2022\n",
    "\n",
    "### 2. CareerOrgLink (CareerString, CareerDateString_2022, CareerSubstring)\n",
    "\n",
    "matches (CareerString,CareerDateString_2022,CareerSubstring) with (InstitutionType,PrimaryInstitution,OrgName,Position)\n",
    "\n",
    "- CareerString\n",
    "- CareerDateString_2022\n",
    "- IsJob\n",
    "- MultipleSubstrings\n",
    "- CareerStartYear\n",
    "- CareerStartMonth\n",
    "- CareerSubstring\n",
    "- OrgString\n",
    "- InstitutionType\n",
    "- PrimaryInstitution\n",
    "- OrgName\n",
    "- Position\n",
    "- Notes\n",
    "\n",
    "### 3. Orgtree (InstitutionType, PrimaryInstitution, OrgName)*\n",
    "\n",
    "contains variables relevant to all (PI, Org) including PI/Org Types, Positions, Org/Pos Ranks, PI/Org Links, Aliases\n",
    "\n",
    "- InstitutionType\n",
    "- OrgType\n",
    "- PrimaryInstitution\n",
    "- OrgName\n",
    "- PI_Index\n",
    "- OrgRank\n",
    "- P1\n",
    "- P2\n",
    "- P3\n",
    "- LinkToNext_PI\n",
    "- LinkToNext_Org\n",
    "- LinkToNext_Year\n",
    "- Alias_OrgName\n",
    "- Notes"
   ]
  },
  {
   "cell_type": "code",
   "execution_count": 2,
   "id": "f2c9c339",
   "metadata": {},
   "outputs": [],
   "source": [
    "path_tables = \"C:/Users/seoul/Dropbox/00 technical/github/nkelites/data/combined data/combined data - 2 tables/\""
   ]
  },
  {
   "cell_type": "code",
   "execution_count": 3,
   "id": "b7d9b165",
   "metadata": {},
   "outputs": [
    {
     "data": {
      "text/plain": [
       "(9002, 13)"
      ]
     },
     "execution_count": 3,
     "metadata": {},
     "output_type": "execute_result"
    }
   ],
   "source": [
    "filename_careerorglink = \"careerorglink.xlsx\"\n",
    "\n",
    "col = pd.read_excel(path_tables + filename_careerorglink,dtype=\"str\")\n",
    "col.shape"
   ]
  },
  {
   "cell_type": "code",
   "execution_count": 4,
   "id": "bc29520c",
   "metadata": {},
   "outputs": [
    {
     "data": {
      "text/html": [
       "<div>\n",
       "<style scoped>\n",
       "    .dataframe tbody tr th:only-of-type {\n",
       "        vertical-align: middle;\n",
       "    }\n",
       "\n",
       "    .dataframe tbody tr th {\n",
       "        vertical-align: top;\n",
       "    }\n",
       "\n",
       "    .dataframe thead th {\n",
       "        text-align: right;\n",
       "    }\n",
       "</style>\n",
       "<table border=\"1\" class=\"dataframe\">\n",
       "  <thead>\n",
       "    <tr style=\"text-align: right;\">\n",
       "      <th></th>\n",
       "      <th>CareerString</th>\n",
       "      <th>CareerDateString_2022</th>\n",
       "      <th>IsJob</th>\n",
       "      <th>MultipleSubstrings</th>\n",
       "      <th>CareerStartYear</th>\n",
       "      <th>CareerStartMonth</th>\n",
       "      <th>CareerSubstring</th>\n",
       "      <th>OrgString</th>\n",
       "      <th>InstitutionType</th>\n",
       "      <th>PrimaryInstitution</th>\n",
       "      <th>OrgName</th>\n",
       "      <th>Position</th>\n",
       "      <th>Notes</th>\n",
       "    </tr>\n",
       "  </thead>\n",
       "  <tbody>\n",
       "  </tbody>\n",
       "</table>\n",
       "</div>"
      ],
      "text/plain": [
       "Empty DataFrame\n",
       "Columns: [CareerString, CareerDateString_2022, IsJob, MultipleSubstrings, CareerStartYear, CareerStartMonth, CareerSubstring, OrgString, InstitutionType, PrimaryInstitution, OrgName, Position, Notes]\n",
       "Index: []"
      ]
     },
     "execution_count": 4,
     "metadata": {},
     "output_type": "execute_result"
    }
   ],
   "source": [
    "col[col[\"CareerString\"].isna()]"
   ]
  },
  {
   "cell_type": "code",
   "execution_count": 5,
   "id": "1c1ab934",
   "metadata": {},
   "outputs": [],
   "source": [
    "filename_leadercareerlink = \"leadercareerlink.xlsx\""
   ]
  },
  {
   "cell_type": "code",
   "execution_count": 143,
   "id": "f86d0874",
   "metadata": {},
   "outputs": [],
   "source": [
    "# deprecated\n",
    "\n",
    "# filename_careers = \"careers.xlsx\"\n",
    "# filename_leaderjoblink = \"leaderjoblink.xlsx\"\n",
    "# filename_joborglink = \"joborglink.xlsx\""
   ]
  },
  {
   "cell_type": "code",
   "execution_count": 6,
   "id": "09c3c30a",
   "metadata": {},
   "outputs": [],
   "source": [
    "# filenames of tables to output\n",
    "\n",
    "filename_orgtree = \"orgtree.xlsx\""
   ]
  },
  {
   "cell_type": "markdown",
   "id": "c2a10c37",
   "metadata": {},
   "source": [
    "# Data - initial orgtree + manually cleaned data in 2.7 orgtree position & rank"
   ]
  },
  {
   "cell_type": "code",
   "execution_count": 7,
   "id": "a9386ddd",
   "metadata": {},
   "outputs": [],
   "source": [
    "path_cleaning = \"C:/Users/seoul/Dropbox/00 technical/github/nkelites/data/combined data/combined data - 1 cleaning/cleaning step 2 - career/\""
   ]
  },
  {
   "cell_type": "code",
   "execution_count": 8,
   "id": "ea8288fa",
   "metadata": {},
   "outputs": [],
   "source": [
    "subpath_2_1 = \"2.1 career_undivided_unparsed_uncoded/\"\n",
    "subpath_2_2 = \"2.2 career_divided_unparsed_uncoded/\"\n",
    "subpath_2_3 = \"2.3 joborglink/\"\n",
    "subpath_2_4 = \"2.4 orgtree/\"\n",
    "subpath_2_5 = \"2.5 position/\"\n",
    "subpath_2_6 = \"2.6 career_reassembled/\"\n",
    "subpath_2_7 = \"2.7 orgtree position & rank/\""
   ]
  },
  {
   "cell_type": "code",
   "execution_count": 9,
   "id": "83143cac",
   "metadata": {},
   "outputs": [
    {
     "data": {
      "text/plain": [
       "(2270, 23)"
      ]
     },
     "execution_count": 9,
     "metadata": {},
     "output_type": "execute_result"
    }
   ],
   "source": [
    "# 1.1 orgtree_position_rank\n",
    "\n",
    "# constructing new file from:\n",
    "## 2022 북한_기관별_인명록_북한정보포털 게재용\n",
    "## orgtree table\n",
    "\n",
    "filein_opr = \"1.1 orgtree_position_rank.xlsx\"\n",
    "opr = pd.read_excel(path_cleaning + subpath_2_7 + filein_opr,dtype=\"str\")\n",
    "opr.shape"
   ]
  },
  {
   "cell_type": "code",
   "execution_count": 10,
   "id": "3ffea89a",
   "metadata": {},
   "outputs": [
    {
     "data": {
      "text/html": [
       "<div>\n",
       "<style scoped>\n",
       "    .dataframe tbody tr th:only-of-type {\n",
       "        vertical-align: middle;\n",
       "    }\n",
       "\n",
       "    .dataframe tbody tr th {\n",
       "        vertical-align: top;\n",
       "    }\n",
       "\n",
       "    .dataframe thead th {\n",
       "        text-align: right;\n",
       "    }\n",
       "</style>\n",
       "<table border=\"1\" class=\"dataframe\">\n",
       "  <thead>\n",
       "    <tr style=\"text-align: right;\">\n",
       "      <th></th>\n",
       "      <th>InsideGov</th>\n",
       "      <th>InstitutionType</th>\n",
       "      <th>OrgType</th>\n",
       "      <th>PrimaryInstitution</th>\n",
       "      <th>OrgName</th>\n",
       "      <th>PI_Index</th>\n",
       "      <th>OrgRank</th>\n",
       "      <th>P1</th>\n",
       "      <th>P2</th>\n",
       "      <th>P3</th>\n",
       "      <th>...</th>\n",
       "      <th>Notes</th>\n",
       "      <th>L1_Index</th>\n",
       "      <th>L2_Index</th>\n",
       "      <th>L3_Index</th>\n",
       "      <th>L4_Index</th>\n",
       "      <th>L5_Index</th>\n",
       "      <th>Change_InstitutionType</th>\n",
       "      <th>Change_PI</th>\n",
       "      <th>Change_OrgName</th>\n",
       "      <th>Alias_OrgName</th>\n",
       "    </tr>\n",
       "  </thead>\n",
       "  <tbody>\n",
       "    <tr>\n",
       "      <th>0</th>\n",
       "      <td>1</td>\n",
       "      <td>노동당</td>\n",
       "      <td>NaN</td>\n",
       "      <td>노동당</td>\n",
       "      <td>NaN</td>\n",
       "      <td>1.0.0.0.0</td>\n",
       "      <td>0</td>\n",
       "      <td>총비서</td>\n",
       "      <td>NaN</td>\n",
       "      <td>NaN</td>\n",
       "      <td>...</td>\n",
       "      <td>NaN</td>\n",
       "      <td>1</td>\n",
       "      <td>0</td>\n",
       "      <td>0</td>\n",
       "      <td>0</td>\n",
       "      <td>0</td>\n",
       "      <td>NaN</td>\n",
       "      <td>NaN</td>\n",
       "      <td>NaN</td>\n",
       "      <td>NaN</td>\n",
       "    </tr>\n",
       "    <tr>\n",
       "      <th>1</th>\n",
       "      <td>1</td>\n",
       "      <td>노동당</td>\n",
       "      <td>NaN</td>\n",
       "      <td>노동당</td>\n",
       "      <td>당중앙위원회</td>\n",
       "      <td>1.1.0.0.0</td>\n",
       "      <td>1</td>\n",
       "      <td>NaN</td>\n",
       "      <td>NaN</td>\n",
       "      <td>위원, 후보위원</td>\n",
       "      <td>...</td>\n",
       "      <td>NaN</td>\n",
       "      <td>1</td>\n",
       "      <td>1</td>\n",
       "      <td>0</td>\n",
       "      <td>0</td>\n",
       "      <td>0</td>\n",
       "      <td>NaN</td>\n",
       "      <td>NaN</td>\n",
       "      <td>NaN</td>\n",
       "      <td>NaN</td>\n",
       "    </tr>\n",
       "  </tbody>\n",
       "</table>\n",
       "<p>2 rows × 23 columns</p>\n",
       "</div>"
      ],
      "text/plain": [
       "  InsideGov InstitutionType OrgType PrimaryInstitution OrgName   PI_Index  \\\n",
       "0         1             노동당     NaN                노동당     NaN  1.0.0.0.0   \n",
       "1         1             노동당     NaN                노동당  당중앙위원회  1.1.0.0.0   \n",
       "\n",
       "  OrgRank   P1   P2        P3  ... Notes L1_Index L2_Index L3_Index L4_Index  \\\n",
       "0       0  총비서  NaN       NaN  ...   NaN        1        0        0        0   \n",
       "1       1  NaN  NaN  위원, 후보위원  ...   NaN        1        1        0        0   \n",
       "\n",
       "  L5_Index Change_InstitutionType Change_PI Change_OrgName Alias_OrgName  \n",
       "0        0                    NaN       NaN            NaN           NaN  \n",
       "1        0                    NaN       NaN            NaN           NaN  \n",
       "\n",
       "[2 rows x 23 columns]"
      ]
     },
     "execution_count": 10,
     "metadata": {},
     "output_type": "execute_result"
    }
   ],
   "source": [
    "opr.head(2)"
   ]
  },
  {
   "cell_type": "code",
   "execution_count": 11,
   "id": "614bfa3a",
   "metadata": {},
   "outputs": [],
   "source": [
    "# orgtree_copy\n",
    "\n",
    "# copy of orgtree table\n",
    "\n",
    "# filein_ot = \"orgtree_copy.xlsx\"\n",
    "# ot = pd.read_excel(path_cleaning + subpath_2_7 + filein_ot,dtype=\"str\")\n",
    "# ot.shape"
   ]
  },
  {
   "cell_type": "code",
   "execution_count": 12,
   "id": "6a6c73b3",
   "metadata": {},
   "outputs": [],
   "source": [
    "# 2.0_mismatch_\n",
    "\n",
    "# 2.0_mismatch_정권_1_Esther\n",
    "# 2.0_mismatch_정권_1_Jeongsu\n",
    "# 2.0_mismatch_당_1_Esther_August.6.ES\n",
    "# 2.0_mismatch_당_1_Jeongsu\n",
    "# 2.0_mismatch_군및기타_1_ingov_JS\n",
    "# 2.0_mismatch_군및기타_1_outgov_JR\n",
    "\n",
    "# mismatch_filenames = [\n",
    "#     \"2.0_mismatch_정권_2_Jacob.xlsx\",\n",
    "#     \"2.0_mismatch_당_2_Jacob.xlsx\",\n",
    "#     \"2.0_mismatch_군및기타_1_ingov_JS.xlsx\",\n",
    "#     \"2.0_mismatch_군및기타_1_outgov_JR.xlsx\"\n",
    "# ]"
   ]
  },
  {
   "cell_type": "code",
   "execution_count": 13,
   "id": "90ace8c6",
   "metadata": {},
   "outputs": [],
   "source": [
    "# select columns in mismatch dfs\n",
    "\n",
    "# mismatch_columns = [\"CareerString\", \"CareerStartYear\", \"MultipleSubstrings\", \"CareerSubstring\", \"IsJob\",\n",
    "#                     \"InstitutionType\", \"PrimaryInstitution\", \"OrgName\", \"Position\", \"LinkToNext_Year\",\n",
    "#                     \"Resolution\", \"Change_PI\", \"Change_OrgName\", \"Change_Position\",\"Notes\"]"
   ]
  },
  {
   "cell_type": "code",
   "execution_count": 14,
   "id": "ed14fc61",
   "metadata": {},
   "outputs": [],
   "source": [
    "# read in mismatch dfs\n",
    "\n",
    "# m_dfs = []\n",
    "\n",
    "# for filename in mismatch_filenames:\n",
    "#     df = pd.read_excel(path_cleaning + subpath_2_7 + filename,sheet_name=\"Sheet1\",dtype=\"str\")\n",
    "#     df = df[mismatch_columns]\n",
    "#     print(df.shape)\n",
    "#     m_dfs.append(df)\n",
    "\n",
    "# print(len(m_dfs))"
   ]
  },
  {
   "cell_type": "code",
   "execution_count": 15,
   "id": "f220092e",
   "metadata": {},
   "outputs": [
    {
     "data": {
      "text/plain": [
       "(2245, 15)"
      ]
     },
     "execution_count": 15,
     "metadata": {},
     "output_type": "execute_result"
    }
   ],
   "source": [
    "filename_mismatch = \"2.1_mismatch_통합_0.xlsx\"\n",
    "\n",
    "m = pd.read_excel(path_cleaning + subpath_2_7 + filename_mismatch,dtype=\"str\")\n",
    "m.shape"
   ]
  },
  {
   "cell_type": "code",
   "execution_count": 16,
   "id": "273b64d9",
   "metadata": {},
   "outputs": [
    {
     "data": {
      "text/html": [
       "<div>\n",
       "<style scoped>\n",
       "    .dataframe tbody tr th:only-of-type {\n",
       "        vertical-align: middle;\n",
       "    }\n",
       "\n",
       "    .dataframe tbody tr th {\n",
       "        vertical-align: top;\n",
       "    }\n",
       "\n",
       "    .dataframe thead th {\n",
       "        text-align: right;\n",
       "    }\n",
       "</style>\n",
       "<table border=\"1\" class=\"dataframe\">\n",
       "  <thead>\n",
       "    <tr style=\"text-align: right;\">\n",
       "      <th></th>\n",
       "      <th>CareerString</th>\n",
       "      <th>CareerStartYear</th>\n",
       "      <th>MultipleSubstrings</th>\n",
       "      <th>CareerSubstring</th>\n",
       "      <th>IsJob</th>\n",
       "      <th>InstitutionType</th>\n",
       "      <th>PrimaryInstitution</th>\n",
       "      <th>OrgName</th>\n",
       "      <th>Position</th>\n",
       "      <th>LinkToNext_Year</th>\n",
       "      <th>Resolution</th>\n",
       "      <th>Change_PI</th>\n",
       "      <th>Change_OrgName</th>\n",
       "      <th>Change_Position</th>\n",
       "      <th>Notes</th>\n",
       "    </tr>\n",
       "  </thead>\n",
       "  <tbody>\n",
       "    <tr>\n",
       "      <th>0</th>\n",
       "      <td>유엔 주재 대표부 1등서기관</td>\n",
       "      <td>1975</td>\n",
       "      <td>1</td>\n",
       "      <td>NaN</td>\n",
       "      <td>True</td>\n",
       "      <td>정권기관</td>\n",
       "      <td>내각</td>\n",
       "      <td>외무성_유엔대표부</td>\n",
       "      <td>1등서기관</td>\n",
       "      <td>Current</td>\n",
       "      <td>3. OrgName &amp; Position ok. Add Position to P3</td>\n",
       "      <td>NaN</td>\n",
       "      <td>NaN</td>\n",
       "      <td>NaN</td>\n",
       "      <td>NaN</td>\n",
       "    </tr>\n",
       "    <tr>\n",
       "      <th>1</th>\n",
       "      <td>1975.10 유엔주재 북한대표부 1등서기관</td>\n",
       "      <td>1975</td>\n",
       "      <td>1</td>\n",
       "      <td>NaN</td>\n",
       "      <td>True</td>\n",
       "      <td>정권기관</td>\n",
       "      <td>내각</td>\n",
       "      <td>외무성_유엔대표부</td>\n",
       "      <td>1등서기관</td>\n",
       "      <td>Current</td>\n",
       "      <td>3. OrgName &amp; Position ok. Add Position to P3</td>\n",
       "      <td>NaN</td>\n",
       "      <td>NaN</td>\n",
       "      <td>NaN</td>\n",
       "      <td>NaN</td>\n",
       "    </tr>\n",
       "  </tbody>\n",
       "</table>\n",
       "</div>"
      ],
      "text/plain": [
       "               CareerString CareerStartYear MultipleSubstrings  \\\n",
       "0           유엔 주재 대표부 1등서기관            1975                  1   \n",
       "1  1975.10 유엔주재 북한대표부 1등서기관            1975                  1   \n",
       "\n",
       "  CareerSubstring IsJob InstitutionType PrimaryInstitution    OrgName  \\\n",
       "0             NaN  True            정권기관                 내각  외무성_유엔대표부   \n",
       "1             NaN  True            정권기관                 내각  외무성_유엔대표부   \n",
       "\n",
       "  Position LinkToNext_Year                                    Resolution  \\\n",
       "0    1등서기관         Current  3. OrgName & Position ok. Add Position to P3   \n",
       "1    1등서기관         Current  3. OrgName & Position ok. Add Position to P3   \n",
       "\n",
       "  Change_PI Change_OrgName Change_Position Notes  \n",
       "0       NaN            NaN             NaN   NaN  \n",
       "1       NaN            NaN             NaN   NaN  "
      ]
     },
     "execution_count": 16,
     "metadata": {},
     "output_type": "execute_result"
    }
   ],
   "source": [
    "m.head(2)"
   ]
  },
  {
   "cell_type": "markdown",
   "id": "1c8c6302",
   "metadata": {},
   "source": [
    "# Functions: format orgtree"
   ]
  },
  {
   "cell_type": "code",
   "execution_count": 17,
   "id": "3b85b568",
   "metadata": {},
   "outputs": [],
   "source": [
    "# using this on (PI,OrgName) will ensure unique & non-null keys\n",
    "# using this on a larger df will ensure unique rows and non-null keys, but not unique keys\n",
    "\n",
    "def unique_non_null_rows(olddf):\n",
    "    \n",
    "    df = olddf.copy()\n",
    "    \n",
    "    \n",
    "    ### drop duplicates\n",
    "    df = df.drop_duplicates(keep=\"first\",ignore_index=True)\n",
    "\n",
    "    ### drop null rows\n",
    "    df.dropna(how=\"all\",axis=0,inplace=True)\n",
    "    \n",
    "    # drop rows with null PI\n",
    "    df = df[~(df[\"PrimaryInstitution\"].isna())]\n",
    "        \n",
    "    ### drop rows where PI contains stop words\n",
    "    stop_words_lower = [\"uncertain\",\"current\",\"deprecated\",\"please_revise\"]\n",
    "    df = df[ ~ df[\"PrimaryInstitution\"].str.lower().isin(stop_words_lower)]\n",
    "            \n",
    "\n",
    "    print(\"\\nUnique Non-null Rows...\")\n",
    "    print(\"\")\n",
    "    print(\"\\tNon-unique rows:\",olddf.shape)\n",
    "    print(\"\\tUnique rows    :\",df.shape)\n",
    "\n",
    "    ### sort\n",
    "    df = df.sort_values([\"PrimaryInstitution\",\"OrgName\"])\n",
    "    \n",
    "    return df"
   ]
  },
  {
   "cell_type": "code",
   "execution_count": 18,
   "id": "9e7c6ad4",
   "metadata": {},
   "outputs": [],
   "source": [
    "def verify_unique_rows(df):\n",
    "    \n",
    "    key_columns = [\"PrimaryInstitution\",\"OrgName\"]\n",
    "    print(\"\\nVerifying Unique Rows...\")\n",
    "    print(\"\")\n",
    "    print(\"\\tDuplicate Rows:\",df[df.duplicated(keep=False)].shape)\n",
    "    print(\"\\tDuplicate Keys:\",df[df.duplicated(key_columns,keep=False)].shape)\n",
    "    print(\"\\tNull Rows     :\",df[df[\"PrimaryInstitution\"].isna() & df[\"OrgName\"].isna()].shape)"
   ]
  },
  {
   "cell_type": "code",
   "execution_count": 19,
   "id": "118e1cab",
   "metadata": {},
   "outputs": [],
   "source": [
    "def merge_results(m):\n",
    "    \n",
    "    print(\"\\nMerge Results...\")\n",
    "    print(\"\")\n",
    "    print(\"\\tshape     :\",m.shape)\n",
    "    print(\"\\tleft_only :\",m[m[\"_merge\"]==\"left_only\"].shape)\n",
    "    print(\"\\tboth      :\",m[m[\"_merge\"]==\"both\"].shape)\n",
    "    print(\"\\tright_only:\",m[m[\"_merge\"]==\"right_only\"].shape)"
   ]
  },
  {
   "cell_type": "code",
   "execution_count": 20,
   "id": "cebce4e4",
   "metadata": {},
   "outputs": [],
   "source": [
    "def update_opr_index(opr,max_level):\n",
    "    \n",
    "    # create and clear out existing Level Indicies\n",
    "    opr[\"OrgRank\"]=np.nan\n",
    "    opr[\"L1_Index\"]=np.nan\n",
    "    opr[\"L2_Index\"]=np.nan\n",
    "    opr[\"L3_Index\"]=np.nan\n",
    "    opr[\"L4_Index\"]=np.nan\n",
    "    opr[\"L5_Index\"]=np.nan\n",
    "    \n",
    "    # pad PI_Index with missing 0s up to the deepest level (4 or 5?)\n",
    "    opr[\"PI_Index\"] = opr.apply(lambda x: str(x[\"PI_Index\"]) + ((max_level-1)-str(x[\"PI_Index\"]).count(\".\")) * \".0\",axis=1)\n",
    "    \n",
    "    # calculate OrgRank\n",
    "    opr[\"OrgRank\"] = opr.apply(lambda x: (max_level-1) - str(x[\"PI_Index\"]).count(\".0\"),axis=1)\n",
    "    \n",
    "    # populate Level Indices using PI_Index\n",
    "    opr.loc[opr[\"PI_Index\"].notna(),\"L1_Index\"] = opr.loc[opr[\"PI_Index\"].notna()].apply(lambda x: str(x[\"PI_Index\"]).split(\".\")[0],axis=1)\n",
    "    opr.loc[opr[\"PI_Index\"].notna(),\"L2_Index\"] = opr.loc[opr[\"PI_Index\"].notna()].apply(lambda x: str(x[\"PI_Index\"]).split(\".\")[1],axis=1)\n",
    "    opr.loc[opr[\"PI_Index\"].notna(),\"L3_Index\"] = opr.loc[opr[\"PI_Index\"].notna()].apply(lambda x: str(x[\"PI_Index\"]).split(\".\")[2],axis=1)\n",
    "    opr.loc[opr[\"PI_Index\"].notna(),\"L4_Index\"] = opr.loc[opr[\"PI_Index\"].notna()].apply(lambda x: str(x[\"PI_Index\"]).split(\".\")[3],axis=1)\n",
    "    opr.loc[opr[\"PI_Index\"].notna(),\"L5_Index\"] = opr.loc[opr[\"PI_Index\"].notna()].apply(lambda x: str(x[\"PI_Index\"]).split(\".\")[4],axis=1)\n",
    "\n",
    "    # sort by Level1, Level2, Level3\n",
    "    sort_columns = [\"L1_Index\",\"L2_Index\",\"L3_Index\",\"L4_Index\",\"L5_Index\"]\n",
    "    #opr.L1_Index.astype(int,errors=\"ignore\")\n",
    "    #opr.L2_Index.astype(int,errors=\"ignore\")\n",
    "    #opr.L3_Index.astype(int,errors=\"ignore\")\n",
    "    opr.sort_values(sort_columns,inplace=True)\n",
    "    \n",
    "    return opr"
   ]
  },
  {
   "cell_type": "code",
   "execution_count": 21,
   "id": "77dddaf1",
   "metadata": {},
   "outputs": [],
   "source": [
    "# opr = update_opr_index(opr,5)"
   ]
  },
  {
   "cell_type": "code",
   "execution_count": 22,
   "id": "7f7aedb0",
   "metadata": {},
   "outputs": [],
   "source": [
    "# export opr\n",
    "\n",
    "# fileout_opr = \"1.0 orgtree_position_rank.xlsx\"\n",
    "# opr.to_excel(path_cleaning + subpath_2_7 + fileout_opr,index=False)"
   ]
  },
  {
   "cell_type": "markdown",
   "id": "9058cf44",
   "metadata": {},
   "source": [
    "# Recall from earlier cleaning\n",
    "\n",
    "#### Three Cases of  OrgName in NK elite career data\n",
    "\n",
    "- Case 0: OrgName in 기관별인명록: code these from 1-199\n",
    "- Case 1: OrgName not in 기관별인명록, but contained in data AND LinkToNext_Year not current: code as 500+\n",
    "- Case 2: OrgName not in 기관별인명록, but contained in data AND LinkToNext_Year is current: code as 200+\n",
    "\n",
    "#### Case 0: OrgName in 기관별인명록\n",
    "\n",
    "- Update 1.0 orgtree_position_rank with OrgName in 기관별인명록\n",
    "- Code these from 1-199\n",
    "- Run above routine # 1. orgtree_position_rank: update all besides 노동당, 내각, 정무원\n",
    "    - to update opr & pr_else3\n",
    "- Proceed to Cases 1 & 2\n",
    "\n",
    "#### Resolve. Validation values for resolving null Position_3P\n",
    "\n",
    "1. OrgName & Position ok. Add Position to P1\n",
    "2. OrgName & Position ok. Add Position to P2\n",
    "3. OrgName & Position ok. Add Position to P3\n",
    "4. Change_OrgName and/or Change_Position\n",
    "5. Uncertain OrgName\n",
    "6. Uncertain Position\n",
    "7. NotJob\n",
    "8. Multiple CareerSubstring\n",
    "9. Other - see Notes"
   ]
  },
  {
   "cell_type": "markdown",
   "id": "16e9b179",
   "metadata": {},
   "source": [
    "# Task 1. Prep & Merge Mismatch\n",
    "\n",
    "- NotJob\n",
    "    - careers: change IsJob from True to False\n",
    "    - m: remove rows \n",
    "    - opr: NA\n",
    "  \n",
    "- MultipleSubstrings\n",
    "    - careers: expand rows\n",
    "    - m: expand rows and code\n",
    "    - opr: NA\n",
    "    \n",
    "- Merge mismatch files"
   ]
  },
  {
   "cell_type": "markdown",
   "id": "a88ecdda",
   "metadata": {},
   "source": [
    "# Task 2. Edit & Validate PI, OrgName, Type, Index\n",
    "\n",
    "\n",
    "- Change_PI, Change_OrgName\n",
    "    - For 200 & 500 series PrimaryInstitutions, search whether they are contained in OrgName, within a PrimaryInstitution\n",
    "\t- 인민회의 or 인민위원회?\n",
    "    - 노동당 총정치국 --> 인민군 총정치국\n",
    "    - alias the PrimaryInstitutions, 내각, 내각A, 내각B, 등 at least when calculating whether transitions are between or across institutions\n",
    "    - add 북조선노동당 as an alias to 노동당\n",
    "\n"
   ]
  },
  {
   "cell_type": "code",
   "execution_count": null,
   "id": "59aa75ff",
   "metadata": {},
   "outputs": [],
   "source": []
  },
  {
   "cell_type": "markdown",
   "id": "bb8e02a2",
   "metadata": {},
   "source": [
    "- Review Integrity Checks & Adjust Mismatches\n",
    "    - Validate InstitutionType, OrgType\n",
    "    - Data in Careers but not in Orgtree\n",
    "    - Orgs in Orgtree but not in Careers or 기관별인명록\n",
    "    - Verify no Positions overlapping within the same PI, OrgName"
   ]
  },
  {
   "cell_type": "code",
   "execution_count": null,
   "id": "290492ad",
   "metadata": {},
   "outputs": [],
   "source": []
  },
  {
   "cell_type": "markdown",
   "id": "67c8d2d3",
   "metadata": {},
   "source": [
    "- Recode & Recategorize some (PI,OrgName)\n",
    "    - 중앙위원회\n",
    "    - 인민군, 총참모부, 인민무력부, \n",
    "    - 국방위원회: 인민군?\n",
    "    - 중앙인민위원회: 정권기관\n",
    "    - 국제친선기관: I will add and match existing ones\n",
    "    - 노동당 - fix the old party organization\n",
    "        - https://encykorea.aks.ac.kr/Article/E0070188\n",
    "        - 1947년 북조선로동당 ‘5과’로 창설되었다. 6·25전쟁기 남한지역 내 게릴라부대의 지하당 공작 과정에서 대남 공작기구를 확대하면서 당 조직부 내의 연락부를 분리했다. 1961년 4차 당대회에서 남한에서의 지하당 조직 확대와 통일전선 강화 등의 결정과 함께 내무성 등의 대남 공작기구를 통합해 중앙당 ‘연락국’을 신설했다. 1964년 2월 조선로동당 중앙위원회 4기 8차 전원회의에서 ‘3대 혁명력량 강화’노선을 채택하면서 종래의 연락국을 ‘대남사업총국’으로 개칭했다.\n",
    "        - 1966년 10월 12일 당 중앙위원회 4기 14차 전원회의에서 비서국이 신설되면서 대남사업담당비서 산하에 ‘연락부’, ‘문화부’, ‘조사부’, ‘인민무력부정착국’, ‘조총련’부서를 두었으며, 1978년 1월 통일전선부가, 1990년대 후반 35호실(대외정보조사부)과 작전부가 신설됨으로써 대남 담당 부서의 체계가 구축되었다. 남한 내 정당, 사회단체, 군부에 대한 공작 거점 및 공작 전술 연구개발 업무를 수행하고 있다. 특히 간첩교육과 파견을 직접 담당하고 있으며, 조총련에 대한 활동 지도도 담당하고 있다.\n",
    "        \n",
    "    - 내각 & 정무원\n",
    "        - How different was their organization?\n",
    "        - https://encykorea.aks.ac.kr/Article/E0066727 - Let's alias. It seems like the name simply changed from 내각 (1948) --> 정무원 (1972) --> 내각 (1998)\n",
    "        - Do we need to duplicate the entire 내각 structure for 정무원?\n",
    "        - At the very least, should we swap out 내각 for 정무원 in cases where data are labelled as 내각 but during 정무원 periods (pre-1998)?\n",
    "        - If the internal organization was quite similar, then maybe we could just alias 내각 and 정무원 and not worry about replicating the organization three\n",
    "    - 인도기관?\n",
    "        - 국방위원회\n",
    "        - 국무위원회\n",
    "    - resolve differences between InstitutionType, PrimaryInstitution, OrgName\n",
    "        - for PI=총참모부, rename PI=인민군, OrgName = 총참모부_; and remove duplicates. e.g., 총참모부_작전총국\n",
    "        - 노동당, 당중앙위원회\n",
    "        - many organizations for whom 중앙위원회 is their main leadership body\n",
    "        - 인민군. remove as PrimaryInstitution, and use as InstitutionType instead\n",
    "        - https://encykorea.aks.ac.kr/Article/E0066687\n",
    "        - 인민무력부, 인민무력성, \n",
    "\t\t- PrimaryInstitutions\n",
    "\t\t\t- 최고사령부\n",
    "\t\t\t- 총참모부\n",
    "\t\t\t- 주요 사령부\n",
    "\t\t\t- 등\n",
    "    - Make sure X.0.0.0 positions are not being duplicated with X.1.0.0 positions, especially in the case of 중앙위원회\n",
    "    - Discuss X in PI_Index\n",
    "        - 비서국A --> 정무국 --> 비서국B\n",
    "            - check for duplicates: 당 비서국\n",
    "        - 당중앙위원회_정치위원회 (폐지) 직급\n",
    "        - 당중앙위원회_총정치국 - 당/인민군\n",
    "        - 당중앙위원회_조선혁명박물관당위원회 & other 1.1.X.0.0 - double-check if they are included in 외곽단 - InGov?\n",
    "        - Change_OrgName to 당중앙위원회_X\n",
    "            - 비서국_인민무력부B\n",
    "            - 비서국_인민무력부B_보위국\n",
    "            - 비서국_인민무력부B_작전국\n",
    "            - 비서국_인민무력부B_정치안전국\n",
    "\n",
    "\n",
    "\n"
   ]
  },
  {
   "cell_type": "code",
   "execution_count": null,
   "id": "82452548",
   "metadata": {},
   "outputs": [],
   "source": []
  },
  {
   "cell_type": "markdown",
   "id": "c2142ad8",
   "metadata": {},
   "source": [
    "- Re-Index\n",
    "    - See PI-Index Coding Rules in Evernote\n",
    "    - Update X codes with 200 or 500. Delete any 200/500 which don't appear in our data. (They might have been orgs we corrected in the data.)\n",
    "    - 최고인민회의 X지역인민회의 - move from 200 Series to 0 Series\n",
    "    - Drop X지역위원회 and recode 200 Series to 0 Series\n",
    "    - Change coding of 당외곽 및 사회단체\n",
    "        - if the orgs were found in the 별책, then change their codes from 200 series to 100 series\n",
    "        - Match, rename and recode (from 500+ to 100+) 500 series 국제친선기관\n",
    "    - code data source rather than index\n",
    "\n"
   ]
  },
  {
   "cell_type": "code",
   "execution_count": null,
   "id": "58bf243b",
   "metadata": {},
   "outputs": [],
   "source": []
  },
  {
   "cell_type": "code",
   "execution_count": null,
   "id": "6b24b190",
   "metadata": {},
   "outputs": [],
   "source": []
  },
  {
   "cell_type": "code",
   "execution_count": null,
   "id": "ec095aba",
   "metadata": {},
   "outputs": [],
   "source": []
  },
  {
   "cell_type": "markdown",
   "id": "233ee1d7",
   "metadata": {},
   "source": [
    "# Task 3. Add OrgType & other metadata\n",
    "\n",
    "- Add OrgType\n"
   ]
  },
  {
   "cell_type": "markdown",
   "id": "16ac55e1",
   "metadata": {},
   "source": [
    "# Future Tasks\n",
    "\n",
    "- Future Integrity Checks & Data Cleaning\n",
    "    - Identify inconsistencies in Position Rankings (e.g., 명예위원장)\n",
    "    - Verify (PI, OrgName) not found in 기관별인명록\n",
    "    - Research X entries: e.g., 3.525.591: 내각_외무성_X국_대사관\n",
    "    - Reconcile 기관 across three categories: 기타기관, 당외곽및사회단체, 당외곽및사회단체(별책)\n",
    "    - Add more orgs\n",
    "        - Expand any X지역위원회 into full list\n",
    "        - 내각 - Level 2 or Level 3?\n",
    "            - orgs after 내각 국토환경보호성_산림총국\n",
    "            - orgs after 내각 대외경제성_민족경제협력위원회\n",
    "            - orgs after 내각 보건성_중앙의약품관리소\n",
    "            - orgs after 내 각 상업성_중앙도매소\n",
    "            - 내각 정보산업성 우편국, 전화국, 체신관리국, 체신소, \n",
    "            - 내각 (45)\n",
    "        - 당외곽및사회단체 (별책)\n",
    "    - - Discussion about matching levels\n",
    "        - https://namu.wiki/w/ - consider the OrgRang of 김정은의 겸직\n",
    "\t\t- 조선민주주의인민공화국 국무위원회 위원장[국가원수]\n",
    "\t\t- 조선로동당 중앙군사위원장\n",
    "\t\t- 조선민주주의인민공화국무력 최고사령관\n",
    "\t\t- 조선로동당 중앙위원회 정치국 상무위원"
   ]
  },
  {
   "cell_type": "code",
   "execution_count": null,
   "id": "5c38af5d",
   "metadata": {},
   "outputs": [],
   "source": []
  }
 ],
 "metadata": {
  "kernelspec": {
   "display_name": "Python 3 (ipykernel)",
   "language": "python",
   "name": "python3"
  },
  "language_info": {
   "codemirror_mode": {
    "name": "ipython",
    "version": 3
   },
   "file_extension": ".py",
   "mimetype": "text/x-python",
   "name": "python",
   "nbconvert_exporter": "python",
   "pygments_lexer": "ipython3",
   "version": "3.11.0"
  }
 },
 "nbformat": 4,
 "nbformat_minor": 5
}
