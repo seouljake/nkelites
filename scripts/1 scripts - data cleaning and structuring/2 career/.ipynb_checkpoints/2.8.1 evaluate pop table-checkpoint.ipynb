{
 "cells": [
  {
   "cell_type": "code",
   "execution_count": 1,
   "id": "74698cf3",
   "metadata": {},
   "outputs": [],
   "source": [
    "import pandas as pd\n",
    "import numpy as np\n",
    "from datetime import date"
   ]
  },
  {
   "cell_type": "markdown",
   "id": "aaf25c71",
   "metadata": {},
   "source": [
    "# combined data - 2 tables"
   ]
  },
  {
   "cell_type": "code",
   "execution_count": 2,
   "id": "f2c9c339",
   "metadata": {},
   "outputs": [],
   "source": [
    "path_tables = \"C:/Users/seoul/Dropbox/00 technical/github/nkelites/data/combined data/combined data - 2 tables/\""
   ]
  },
  {
   "cell_type": "code",
   "execution_count": 3,
   "id": "b7d9b165",
   "metadata": {},
   "outputs": [
    {
     "data": {
      "text/plain": [
       "(9001, 12)"
      ]
     },
     "execution_count": 3,
     "metadata": {},
     "output_type": "execute_result"
    }
   ],
   "source": [
    "filename_careers = \"careers.xlsx\"\n",
    "careers = pd.read_excel(path_tables + filename_careers,dtype=\"str\")\n",
    "careers.shape"
   ]
  },
  {
   "cell_type": "code",
   "execution_count": 4,
   "id": "92386dad",
   "metadata": {},
   "outputs": [
    {
     "data": {
      "text/plain": [
       "Index(['CareerString', 'CareerDateString_2022', 'IsJob', 'MultipleSubstrings',\n",
       "       'CareerStartYear', 'CareerStartMonth', 'CareerSubstring', 'OrgString',\n",
       "       'PrimaryInstitution', 'OrgName', 'Position', 'Notes'],\n",
       "      dtype='object')"
      ]
     },
     "execution_count": 4,
     "metadata": {},
     "output_type": "execute_result"
    }
   ],
   "source": [
    "careers.columns"
   ]
  },
  {
   "cell_type": "code",
   "execution_count": 5,
   "id": "c8b6d411",
   "metadata": {},
   "outputs": [
    {
     "data": {
      "text/plain": [
       "(1742, 9)"
      ]
     },
     "execution_count": 5,
     "metadata": {},
     "output_type": "execute_result"
    }
   ],
   "source": [
    "filename_orgtree = \"orgtree.xlsx\"\n",
    "ot = pd.read_excel(path_tables + filename_orgtree,dtype=\"str\")\n",
    "ot.shape"
   ]
  },
  {
   "cell_type": "code",
   "execution_count": 6,
   "id": "1c1ab934",
   "metadata": {},
   "outputs": [
    {
     "data": {
      "text/plain": [
       "(12617, 3)"
      ]
     },
     "execution_count": 6,
     "metadata": {},
     "output_type": "execute_result"
    }
   ],
   "source": [
    "filename_leadercareerlink = \"leadercareerlink.xlsx\"\n",
    "lclink = pd.read_excel(path_tables + filename_leadercareerlink,dtype=\"str\")\n",
    "lclink.shape"
   ]
  },
  {
   "cell_type": "code",
   "execution_count": 7,
   "id": "686d799c",
   "metadata": {},
   "outputs": [
    {
     "data": {
      "text/plain": [
       "(105, 5)"
      ]
     },
     "execution_count": 7,
     "metadata": {},
     "output_type": "execute_result"
    }
   ],
   "source": [
    "filename_positions_elected = \"positions_elected.xlsx\"\n",
    "elected = pd.read_excel(path_tables + filename_positions_elected,dtype=\"str\")\n",
    "elected.shape"
   ]
  },
  {
   "cell_type": "code",
   "execution_count": 22,
   "id": "03e809e0",
   "metadata": {},
   "outputs": [],
   "source": [
    "filename_pop = \"pi_org_pos.xlsx\"\n",
    "# pop = pd.read_excel(path_tables + filename_pop,dtype=\"str\")\n",
    "# pop.shape"
   ]
  },
  {
   "cell_type": "code",
   "execution_count": 8,
   "id": "ecfed456",
   "metadata": {},
   "outputs": [],
   "source": [
    "# position hierarchy table"
   ]
  },
  {
   "cell_type": "code",
   "execution_count": 9,
   "id": "f86d0874",
   "metadata": {},
   "outputs": [],
   "source": [
    "# filename_leaderjoblink = \"leaderjoblink.xlsx\""
   ]
  },
  {
   "cell_type": "code",
   "execution_count": 10,
   "id": "09c3c30a",
   "metadata": {},
   "outputs": [],
   "source": [
    "# filename_joborglink = \"joborglink.xlsx\""
   ]
  },
  {
   "cell_type": "markdown",
   "id": "7d59db9d",
   "metadata": {},
   "source": [
    "# functions"
   ]
  },
  {
   "cell_type": "code",
   "execution_count": 11,
   "id": "ba5de424",
   "metadata": {},
   "outputs": [],
   "source": [
    "def merge_results(m):\n",
    "    \n",
    "    print(\"\\nMerge Results...\")\n",
    "    print(\"\")\n",
    "    print(\"\\tshape     :\",m.shape)\n",
    "    print(\"\\tleft_only :\",m[m[\"_merge\"]==\"left_only\"].shape)\n",
    "    print(\"\\tboth      :\",m[m[\"_merge\"]==\"both\"].shape)\n",
    "    print(\"\\tright_only:\",m[m[\"_merge\"]==\"right_only\"].shape)"
   ]
  },
  {
   "cell_type": "code",
   "execution_count": 12,
   "id": "d3411709",
   "metadata": {},
   "outputs": [],
   "source": [
    "# using this on (PI,OrgName) will ensure unique & non-null keys\n",
    "# using this on a larger df will ensure unique rows and non-null keys, but not unique keys\n",
    "\n",
    "def unique_non_null_rows(olddf):\n",
    "    \n",
    "    df = olddf.copy()\n",
    "    \n",
    "    \n",
    "    ### drop duplicates\n",
    "    df = df.drop_duplicates(keep=\"first\",ignore_index=True)\n",
    "\n",
    "    ### drop null rows\n",
    "    df.dropna(how=\"all\",axis=0,inplace=True)\n",
    "    \n",
    "    # drop rows with null PI\n",
    "    df = df[~(df[\"PrimaryInstitution\"].isna())]\n",
    "        \n",
    "    ### drop rows where PI contains stop words\n",
    "    stop_words_lower = [\"uncertain\",\"current\",\"deprecated\",\"please_revise\"]\n",
    "    df = df[ ~ df[\"PrimaryInstitution\"].str.lower().isin(stop_words_lower)]\n",
    "            \n",
    "\n",
    "    print(\"\\nUnique Non-null Rows...\")\n",
    "    print(\"\")\n",
    "    print(\"\\tNon-unique rows:\",olddf.shape)\n",
    "    print(\"\\tUnique rows    :\",df.shape)\n",
    "\n",
    "    ### sort\n",
    "    df = df.sort_values([\"PrimaryInstitution\",\"OrgName\"])\n",
    "    \n",
    "    return df"
   ]
  },
  {
   "cell_type": "markdown",
   "id": "1313dfc6",
   "metadata": {},
   "source": [
    "# 0. prepare pop table: ElectedPositions, PositionHierarchy, OrgHierarchy"
   ]
  },
  {
   "cell_type": "markdown",
   "id": "c2b9dbae",
   "metadata": {},
   "source": [
    "### Elected Postions from PI-OrgName-Position"
   ]
  },
  {
   "cell_type": "code",
   "execution_count": 13,
   "id": "b23322db",
   "metadata": {},
   "outputs": [
    {
     "data": {
      "text/plain": [
       "(1742, 2)"
      ]
     },
     "execution_count": 13,
     "metadata": {},
     "output_type": "execute_result"
    }
   ],
   "source": [
    "key_columns = [\"PrimaryInstitution\",\"OrgName\"]\n",
    "keyorg = ot[key_columns].drop_duplicates(keep=\"first\")\n",
    "keyorg.shape"
   ]
  },
  {
   "cell_type": "code",
   "execution_count": 14,
   "id": "314fcc7d",
   "metadata": {},
   "outputs": [
    {
     "name": "stdout",
     "output_type": "stream",
     "text": [
      "\n",
      "Unique Non-null Rows...\n",
      "\n",
      "\tNon-unique rows: (1742, 2)\n",
      "\tUnique rows    : (1742, 2)\n"
     ]
    }
   ],
   "source": [
    "keyorg = unique_non_null_rows(keyorg)"
   ]
  },
  {
   "cell_type": "code",
   "execution_count": 15,
   "id": "b20ec5bb",
   "metadata": {},
   "outputs": [],
   "source": [
    "jobs = careers[(careers[\"IsJob\"]==\"True\") & (careers[\"CareerStartYear\"].notna())]"
   ]
  },
  {
   "cell_type": "code",
   "execution_count": 16,
   "id": "dc5a02e8",
   "metadata": {},
   "outputs": [
    {
     "data": {
      "text/plain": [
       "(1902, 3)"
      ]
     },
     "execution_count": 16,
     "metadata": {},
     "output_type": "execute_result"
    }
   ],
   "source": [
    "key_columns2 = [\"PrimaryInstitution\",\"OrgName\",\"Position\"]\n",
    "keyjobs = jobs[key_columns2].drop_duplicates(keep=\"first\")\n",
    "keyjobs.shape"
   ]
  },
  {
   "cell_type": "code",
   "execution_count": 17,
   "id": "65d969e0",
   "metadata": {},
   "outputs": [
    {
     "name": "stdout",
     "output_type": "stream",
     "text": [
      "\n",
      "Unique Non-null Rows...\n",
      "\n",
      "\tNon-unique rows: (1902, 3)\n",
      "\tUnique rows    : (1851, 3)\n"
     ]
    }
   ],
   "source": [
    "keyjobs = unique_non_null_rows(keyjobs)"
   ]
  },
  {
   "cell_type": "code",
   "execution_count": 18,
   "id": "697bb094",
   "metadata": {},
   "outputs": [
    {
     "data": {
      "text/plain": [
       "(2575, 4)"
      ]
     },
     "execution_count": 18,
     "metadata": {},
     "output_type": "execute_result"
    }
   ],
   "source": [
    "pop = keyorg.merge(keyjobs,how=\"outer\",on=key_columns,indicator=True)\n",
    "pop.shape"
   ]
  },
  {
   "cell_type": "code",
   "execution_count": 19,
   "id": "cef1ca9f",
   "metadata": {},
   "outputs": [
    {
     "name": "stdout",
     "output_type": "stream",
     "text": [
      "\n",
      "Merge Results...\n",
      "\n",
      "\tshape     : (2575, 4)\n",
      "\tleft_only : (724, 4)\n",
      "\tboth      : (1851, 4)\n",
      "\tright_only: (0, 4)\n"
     ]
    }
   ],
   "source": [
    "merge_results(pop)"
   ]
  },
  {
   "cell_type": "code",
   "execution_count": 20,
   "id": "b98e018c",
   "metadata": {},
   "outputs": [
    {
     "data": {
      "text/html": [
       "<div>\n",
       "<style scoped>\n",
       "    .dataframe tbody tr th:only-of-type {\n",
       "        vertical-align: middle;\n",
       "    }\n",
       "\n",
       "    .dataframe tbody tr th {\n",
       "        vertical-align: top;\n",
       "    }\n",
       "\n",
       "    .dataframe thead th {\n",
       "        text-align: right;\n",
       "    }\n",
       "</style>\n",
       "<table border=\"1\" class=\"dataframe\">\n",
       "  <thead>\n",
       "    <tr style=\"text-align: right;\">\n",
       "      <th></th>\n",
       "      <th>PrimaryInstitution</th>\n",
       "      <th>OrgName</th>\n",
       "      <th>Position</th>\n",
       "      <th>_merge</th>\n",
       "    </tr>\n",
       "  </thead>\n",
       "  <tbody>\n",
       "    <tr>\n",
       "      <th>3</th>\n",
       "      <td>6.15공동선언실천남북공동위원회북측위원회</td>\n",
       "      <td>교직원분과</td>\n",
       "      <td>NaN</td>\n",
       "      <td>left_only</td>\n",
       "    </tr>\n",
       "    <tr>\n",
       "      <th>4</th>\n",
       "      <td>6.15공동선언실천남북공동위원회북측위원회</td>\n",
       "      <td>노동자분과</td>\n",
       "      <td>NaN</td>\n",
       "      <td>left_only</td>\n",
       "    </tr>\n",
       "    <tr>\n",
       "      <th>5</th>\n",
       "      <td>6.15공동선언실천남북공동위원회북측위원회</td>\n",
       "      <td>농업근로자분과</td>\n",
       "      <td>NaN</td>\n",
       "      <td>left_only</td>\n",
       "    </tr>\n",
       "    <tr>\n",
       "      <th>6</th>\n",
       "      <td>6.15공동선언실천남북공동위원회북측위원회</td>\n",
       "      <td>문학예술분과</td>\n",
       "      <td>NaN</td>\n",
       "      <td>left_only</td>\n",
       "    </tr>\n",
       "    <tr>\n",
       "      <th>7</th>\n",
       "      <td>6.15공동선언실천남북공동위원회북측위원회</td>\n",
       "      <td>보건분과</td>\n",
       "      <td>NaN</td>\n",
       "      <td>left_only</td>\n",
       "    </tr>\n",
       "    <tr>\n",
       "      <th>...</th>\n",
       "      <td>...</td>\n",
       "      <td>...</td>\n",
       "      <td>...</td>\n",
       "      <td>...</td>\n",
       "    </tr>\n",
       "    <tr>\n",
       "      <th>2555</th>\n",
       "      <td>호위사령부</td>\n",
       "      <td>호위총국_평양경비사령부</td>\n",
       "      <td>NaN</td>\n",
       "      <td>left_only</td>\n",
       "    </tr>\n",
       "    <tr>\n",
       "      <th>2562</th>\n",
       "      <td>화학공업협회</td>\n",
       "      <td>NaN</td>\n",
       "      <td>NaN</td>\n",
       "      <td>left_only</td>\n",
       "    </tr>\n",
       "    <tr>\n",
       "      <th>2564</th>\n",
       "      <td>활쏘기협회</td>\n",
       "      <td>NaN</td>\n",
       "      <td>NaN</td>\n",
       "      <td>left_only</td>\n",
       "    </tr>\n",
       "    <tr>\n",
       "      <th>2570</th>\n",
       "      <td>흥남가스화건설장함경남도지구계획위원회</td>\n",
       "      <td>NaN</td>\n",
       "      <td>NaN</td>\n",
       "      <td>left_only</td>\n",
       "    </tr>\n",
       "    <tr>\n",
       "      <th>2572</th>\n",
       "      <td>희천기계공장</td>\n",
       "      <td>NaN</td>\n",
       "      <td>NaN</td>\n",
       "      <td>left_only</td>\n",
       "    </tr>\n",
       "  </tbody>\n",
       "</table>\n",
       "<p>724 rows × 4 columns</p>\n",
       "</div>"
      ],
      "text/plain": [
       "          PrimaryInstitution       OrgName Position     _merge\n",
       "3     6.15공동선언실천남북공동위원회북측위원회         교직원분과      NaN  left_only\n",
       "4     6.15공동선언실천남북공동위원회북측위원회         노동자분과      NaN  left_only\n",
       "5     6.15공동선언실천남북공동위원회북측위원회       농업근로자분과      NaN  left_only\n",
       "6     6.15공동선언실천남북공동위원회북측위원회        문학예술분과      NaN  left_only\n",
       "7     6.15공동선언실천남북공동위원회북측위원회          보건분과      NaN  left_only\n",
       "...                      ...           ...      ...        ...\n",
       "2555                   호위사령부  호위총국_평양경비사령부      NaN  left_only\n",
       "2562                  화학공업협회           NaN      NaN  left_only\n",
       "2564                   활쏘기협회           NaN      NaN  left_only\n",
       "2570     흥남가스화건설장함경남도지구계획위원회           NaN      NaN  left_only\n",
       "2572                  희천기계공장           NaN      NaN  left_only\n",
       "\n",
       "[724 rows x 4 columns]"
      ]
     },
     "execution_count": 20,
     "metadata": {},
     "output_type": "execute_result"
    }
   ],
   "source": [
    "# in orgtree, not in careers\n",
    "pop[pop[\"_merge\"]==\"left_only\"]"
   ]
  },
  {
   "cell_type": "code",
   "execution_count": 24,
   "id": "8a419b98",
   "metadata": {},
   "outputs": [],
   "source": [
    "# populate PositionRank"
   ]
  },
  {
   "cell_type": "code",
   "execution_count": 25,
   "id": "5dc94171",
   "metadata": {},
   "outputs": [],
   "source": [
    "# populate OrgRank"
   ]
  },
  {
   "cell_type": "code",
   "execution_count": 26,
   "id": "f9391736",
   "metadata": {},
   "outputs": [],
   "source": [
    "# pop_pre.to_excel(path_tables + \"pi_org_pos.xlsx\",index=False)"
   ]
  },
  {
   "cell_type": "markdown",
   "id": "2c89a649",
   "metadata": {},
   "source": [
    "# 0. create position_list "
   ]
  },
  {
   "cell_type": "code",
   "execution_count": 14,
   "id": "84fed824",
   "metadata": {},
   "outputs": [
    {
     "data": {
      "text/plain": [
       "(2611, 7)"
      ]
     },
     "execution_count": 14,
     "metadata": {},
     "output_type": "execute_result"
    }
   ],
   "source": [
    "pop.shape"
   ]
  },
  {
   "cell_type": "code",
   "execution_count": 15,
   "id": "1a61bbd2",
   "metadata": {},
   "outputs": [
    {
     "data": {
      "text/plain": [
       "pandas.core.frame.DataFrame"
      ]
     },
     "execution_count": 15,
     "metadata": {},
     "output_type": "execute_result"
    }
   ],
   "source": [
    "position_list = pop[\"Position\"].drop_duplicates().to_frame()\n",
    "type(position_list)"
   ]
  },
  {
   "cell_type": "code",
   "execution_count": 16,
   "id": "f8b12bd2",
   "metadata": {},
   "outputs": [
    {
     "data": {
      "text/html": [
       "<div>\n",
       "<style scoped>\n",
       "    .dataframe tbody tr th:only-of-type {\n",
       "        vertical-align: middle;\n",
       "    }\n",
       "\n",
       "    .dataframe tbody tr th {\n",
       "        vertical-align: top;\n",
       "    }\n",
       "\n",
       "    .dataframe thead th {\n",
       "        text-align: right;\n",
       "    }\n",
       "</style>\n",
       "<table border=\"1\" class=\"dataframe\">\n",
       "  <thead>\n",
       "    <tr style=\"text-align: right;\">\n",
       "      <th></th>\n",
       "      <th>Position</th>\n",
       "    </tr>\n",
       "  </thead>\n",
       "  <tbody>\n",
       "    <tr>\n",
       "      <th>0</th>\n",
       "      <td>10국장</td>\n",
       "    </tr>\n",
       "    <tr>\n",
       "      <th>1</th>\n",
       "      <td>1등서기관</td>\n",
       "    </tr>\n",
       "    <tr>\n",
       "      <th>2</th>\n",
       "      <td>1부국장</td>\n",
       "    </tr>\n",
       "    <tr>\n",
       "      <th>3</th>\n",
       "      <td>1비서</td>\n",
       "    </tr>\n",
       "    <tr>\n",
       "      <th>4</th>\n",
       "      <td>2군단장</td>\n",
       "    </tr>\n",
       "    <tr>\n",
       "      <th>...</th>\n",
       "      <td>...</td>\n",
       "    </tr>\n",
       "    <tr>\n",
       "      <th>290</th>\n",
       "      <td>후방총국장</td>\n",
       "    </tr>\n",
       "    <tr>\n",
       "      <th>291</th>\n",
       "      <td>후보</td>\n",
       "    </tr>\n",
       "    <tr>\n",
       "      <th>292</th>\n",
       "      <td>후보위원</td>\n",
       "    </tr>\n",
       "    <tr>\n",
       "      <th>293</th>\n",
       "      <td>후보위원(보선)</td>\n",
       "    </tr>\n",
       "    <tr>\n",
       "      <th>294</th>\n",
       "      <td>NaN</td>\n",
       "    </tr>\n",
       "  </tbody>\n",
       "</table>\n",
       "<p>295 rows × 1 columns</p>\n",
       "</div>"
      ],
      "text/plain": [
       "     Position\n",
       "0        10국장\n",
       "1       1등서기관\n",
       "2        1부국장\n",
       "3         1비서\n",
       "4        2군단장\n",
       "..        ...\n",
       "290     후방총국장\n",
       "291        후보\n",
       "292      후보위원\n",
       "293  후보위원(보선)\n",
       "294       NaN\n",
       "\n",
       "[295 rows x 1 columns]"
      ]
     },
     "execution_count": 16,
     "metadata": {},
     "output_type": "execute_result"
    }
   ],
   "source": [
    "position_list.sort_values(\"Position\",inplace=True,ignore_index=True)\n",
    "position_list"
   ]
  },
  {
   "cell_type": "code",
   "execution_count": 17,
   "id": "3689b893",
   "metadata": {},
   "outputs": [],
   "source": [
    "position_list.to_excel(path_tables + \"position_list.xlsx\",index=False)"
   ]
  },
  {
   "cell_type": "markdown",
   "id": "e7294977",
   "metadata": {},
   "source": [
    "# 1. evaluate pop table: ElectedPositions, PositionHierarchy, OrgHierarchy"
   ]
  },
  {
   "cell_type": "code",
   "execution_count": null,
   "id": "8b29705a",
   "metadata": {},
   "outputs": [],
   "source": [
    "# add IsElected\n",
    "pop_pre2 = pop_pre.merge()"
   ]
  },
  {
   "cell_type": "markdown",
   "id": "a1563170",
   "metadata": {},
   "source": [
    "### PositionHierarchy"
   ]
  },
  {
   "cell_type": "code",
   "execution_count": null,
   "id": "bd0eb976",
   "metadata": {},
   "outputs": [],
   "source": []
  },
  {
   "cell_type": "code",
   "execution_count": 32,
   "id": "5eac3087",
   "metadata": {},
   "outputs": [],
   "source": [
    "# divide\n",
    "\n",
    "# 내각, 정무원 - Jacob\n",
    "# 노동당 - Esther\n",
    "# 나머지 - Jeongsu\n",
    "\n",
    "# include InGov=False\n",
    "# include IsElected=True"
   ]
  },
  {
   "cell_type": "code",
   "execution_count": 22,
   "id": "adaecdd4",
   "metadata": {},
   "outputs": [],
   "source": [
    "pop = pop_pre"
   ]
  },
  {
   "cell_type": "code",
   "execution_count": 29,
   "id": "32e698dd",
   "metadata": {},
   "outputs": [
    {
     "data": {
      "text/html": [
       "<div>\n",
       "<style scoped>\n",
       "    .dataframe tbody tr th:only-of-type {\n",
       "        vertical-align: middle;\n",
       "    }\n",
       "\n",
       "    .dataframe tbody tr th {\n",
       "        vertical-align: top;\n",
       "    }\n",
       "\n",
       "    .dataframe thead th {\n",
       "        text-align: right;\n",
       "    }\n",
       "</style>\n",
       "<table border=\"1\" class=\"dataframe\">\n",
       "  <thead>\n",
       "    <tr style=\"text-align: right;\">\n",
       "      <th></th>\n",
       "      <th>PrimaryInstitution</th>\n",
       "      <th>OrgName</th>\n",
       "      <th>Position</th>\n",
       "      <th>_merge</th>\n",
       "    </tr>\n",
       "  </thead>\n",
       "  <tbody>\n",
       "    <tr>\n",
       "      <th>48</th>\n",
       "      <td>내각</td>\n",
       "      <td>609</td>\n",
       "      <td>452</td>\n",
       "      <td>627</td>\n",
       "    </tr>\n",
       "    <tr>\n",
       "      <th>51</th>\n",
       "      <td>노동당</td>\n",
       "      <td>279</td>\n",
       "      <td>263</td>\n",
       "      <td>289</td>\n",
       "    </tr>\n",
       "    <tr>\n",
       "      <th>223</th>\n",
       "      <td>정무원</td>\n",
       "      <td>277</td>\n",
       "      <td>253</td>\n",
       "      <td>285</td>\n",
       "    </tr>\n",
       "    <tr>\n",
       "      <th>443</th>\n",
       "      <td>최고인민회의</td>\n",
       "      <td>92</td>\n",
       "      <td>92</td>\n",
       "      <td>98</td>\n",
       "    </tr>\n",
       "    <tr>\n",
       "      <th>441</th>\n",
       "      <td>총참모부</td>\n",
       "      <td>156</td>\n",
       "      <td>88</td>\n",
       "      <td>166</td>\n",
       "    </tr>\n",
       "    <tr>\n",
       "      <th>25</th>\n",
       "      <td>국방위원회</td>\n",
       "      <td>39</td>\n",
       "      <td>32</td>\n",
       "      <td>50</td>\n",
       "    </tr>\n",
       "    <tr>\n",
       "      <th>433</th>\n",
       "      <td>중앙인민위원회</td>\n",
       "      <td>24</td>\n",
       "      <td>30</td>\n",
       "      <td>31</td>\n",
       "    </tr>\n",
       "    <tr>\n",
       "      <th>23</th>\n",
       "      <td>국무위원회</td>\n",
       "      <td>104</td>\n",
       "      <td>26</td>\n",
       "      <td>109</td>\n",
       "    </tr>\n",
       "    <tr>\n",
       "      <th>329</th>\n",
       "      <td>조선문학예술총동맹</td>\n",
       "      <td>36</td>\n",
       "      <td>15</td>\n",
       "      <td>37</td>\n",
       "    </tr>\n",
       "    <tr>\n",
       "      <th>399</th>\n",
       "      <td>조선적십자회</td>\n",
       "      <td>12</td>\n",
       "      <td>13</td>\n",
       "      <td>16</td>\n",
       "    </tr>\n",
       "  </tbody>\n",
       "</table>\n",
       "</div>"
      ],
      "text/plain": [
       "    PrimaryInstitution  OrgName  Position  _merge\n",
       "48                  내각      609       452     627\n",
       "51                 노동당      279       263     289\n",
       "223                정무원      277       253     285\n",
       "443             최고인민회의       92        92      98\n",
       "441               총참모부      156        88     166\n",
       "25               국방위원회       39        32      50\n",
       "433            중앙인민위원회       24        30      31\n",
       "23               국무위원회      104        26     109\n",
       "329          조선문학예술총동맹       36        15      37\n",
       "399             조선적십자회       12        13      16"
      ]
     },
     "execution_count": 29,
     "metadata": {},
     "output_type": "execute_result"
    }
   ],
   "source": [
    "pop.groupby([\"PrimaryInstitution\"],as_index=False).count().sort_values([\"Position\"],ascending=False).head(10)"
   ]
  },
  {
   "cell_type": "code",
   "execution_count": null,
   "id": "d0bb3650",
   "metadata": {},
   "outputs": [],
   "source": []
  },
  {
   "cell_type": "code",
   "execution_count": null,
   "id": "f614e40f",
   "metadata": {},
   "outputs": [],
   "source": []
  },
  {
   "cell_type": "code",
   "execution_count": null,
   "id": "9e3510f1",
   "metadata": {},
   "outputs": [],
   "source": []
  }
 ],
 "metadata": {
  "kernelspec": {
   "display_name": "Python 3 (ipykernel)",
   "language": "python",
   "name": "python3"
  },
  "language_info": {
   "codemirror_mode": {
    "name": "ipython",
    "version": 3
   },
   "file_extension": ".py",
   "mimetype": "text/x-python",
   "name": "python",
   "nbconvert_exporter": "python",
   "pygments_lexer": "ipython3",
   "version": "3.11.0"
  }
 },
 "nbformat": 4,
 "nbformat_minor": 5
}
