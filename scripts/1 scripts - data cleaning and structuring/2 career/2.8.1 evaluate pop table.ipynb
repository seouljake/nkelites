{
 "cells": [
  {
   "cell_type": "code",
   "execution_count": 23,
   "id": "74698cf3",
   "metadata": {},
   "outputs": [],
   "source": [
    "import pandas as pd\n",
    "import numpy as np\n",
    "from datetime import date"
   ]
  },
  {
   "cell_type": "markdown",
   "id": "aaf25c71",
   "metadata": {},
   "source": [
    "# combined data - 2 tables"
   ]
  },
  {
   "cell_type": "code",
   "execution_count": 24,
   "id": "f2c9c339",
   "metadata": {},
   "outputs": [],
   "source": [
    "path_tables = \"C:/Users/seoul/Dropbox/00 technical/github/nkelites/data/combined data/combined data - 2 tables/\""
   ]
  },
  {
   "cell_type": "code",
   "execution_count": 25,
   "id": "b7d9b165",
   "metadata": {},
   "outputs": [
    {
     "data": {
      "text/plain": [
       "(9001, 12)"
      ]
     },
     "execution_count": 25,
     "metadata": {},
     "output_type": "execute_result"
    }
   ],
   "source": [
    "filename_careers = \"careers.xlsx\"\n",
    "careers = pd.read_excel(path_tables + filename_careers,dtype=\"str\")\n",
    "careers.shape"
   ]
  },
  {
   "cell_type": "code",
   "execution_count": 26,
   "id": "92386dad",
   "metadata": {},
   "outputs": [
    {
     "data": {
      "text/plain": [
       "Index(['CareerString', 'CareerDateString_2022', 'IsJob', 'MultipleSubstrings',\n",
       "       'CareerStartYear', 'CareerStartMonth', 'CareerSubstring', 'OrgString',\n",
       "       'PrimaryInstitution', 'OrgName', 'Position', 'Notes'],\n",
       "      dtype='object')"
      ]
     },
     "execution_count": 26,
     "metadata": {},
     "output_type": "execute_result"
    }
   ],
   "source": [
    "careers.columns"
   ]
  },
  {
   "cell_type": "code",
   "execution_count": 27,
   "id": "c8b6d411",
   "metadata": {},
   "outputs": [
    {
     "data": {
      "text/plain": [
       "(1742, 9)"
      ]
     },
     "execution_count": 27,
     "metadata": {},
     "output_type": "execute_result"
    }
   ],
   "source": [
    "filename_orgtree = \"orgtree.xlsx\"\n",
    "ot = pd.read_excel(path_tables + filename_orgtree,dtype=\"str\")\n",
    "ot.shape"
   ]
  },
  {
   "cell_type": "code",
   "execution_count": 28,
   "id": "1c1ab934",
   "metadata": {},
   "outputs": [
    {
     "data": {
      "text/plain": [
       "(12617, 3)"
      ]
     },
     "execution_count": 28,
     "metadata": {},
     "output_type": "execute_result"
    }
   ],
   "source": [
    "filename_leadercareerlink = \"leadercareerlink.xlsx\"\n",
    "lclink = pd.read_excel(path_tables + filename_leadercareerlink,dtype=\"str\")\n",
    "lclink.shape"
   ]
  },
  {
   "cell_type": "code",
   "execution_count": 29,
   "id": "686d799c",
   "metadata": {},
   "outputs": [
    {
     "data": {
      "text/plain": [
       "(105, 5)"
      ]
     },
     "execution_count": 29,
     "metadata": {},
     "output_type": "execute_result"
    }
   ],
   "source": [
    "filename_positions_elected = \"positions_elected.xlsx\"\n",
    "elected = pd.read_excel(path_tables + filename_positions_elected,dtype=\"str\")\n",
    "elected.shape"
   ]
  },
  {
   "cell_type": "code",
   "execution_count": 30,
   "id": "03e809e0",
   "metadata": {},
   "outputs": [],
   "source": [
    "filename_pop = \"pi_org_pos.xlsx\"\n",
    "# pop = pd.read_excel(path_tables + filename_pop,dtype=\"str\")\n",
    "# pop.shape"
   ]
  },
  {
   "cell_type": "code",
   "execution_count": 31,
   "id": "ecfed456",
   "metadata": {},
   "outputs": [],
   "source": [
    "# position hierarchy table"
   ]
  },
  {
   "cell_type": "code",
   "execution_count": 32,
   "id": "f86d0874",
   "metadata": {},
   "outputs": [],
   "source": [
    "# filename_leaderjoblink = \"leaderjoblink.xlsx\""
   ]
  },
  {
   "cell_type": "code",
   "execution_count": 33,
   "id": "09c3c30a",
   "metadata": {},
   "outputs": [],
   "source": [
    "# filename_joborglink = \"joborglink.xlsx\""
   ]
  },
  {
   "cell_type": "markdown",
   "id": "7d59db9d",
   "metadata": {},
   "source": [
    "# functions"
   ]
  },
  {
   "cell_type": "code",
   "execution_count": 34,
   "id": "ba5de424",
   "metadata": {},
   "outputs": [],
   "source": [
    "def merge_results(m):\n",
    "    \n",
    "    print(\"\\nMerge Results...\")\n",
    "    print(\"\")\n",
    "    print(\"\\tshape     :\",m.shape)\n",
    "    print(\"\\tleft_only :\",m[m[\"_merge\"]==\"left_only\"].shape)\n",
    "    print(\"\\tboth      :\",m[m[\"_merge\"]==\"both\"].shape)\n",
    "    print(\"\\tright_only:\",m[m[\"_merge\"]==\"right_only\"].shape)"
   ]
  },
  {
   "cell_type": "code",
   "execution_count": 35,
   "id": "d3411709",
   "metadata": {},
   "outputs": [],
   "source": [
    "# using this on (PI,OrgName) will ensure unique & non-null keys\n",
    "# using this on a larger df will ensure unique rows and non-null keys, but not unique keys\n",
    "\n",
    "def unique_non_null_rows(olddf):\n",
    "    \n",
    "    df = olddf.copy()\n",
    "    \n",
    "    \n",
    "    ### drop duplicates\n",
    "    df = df.drop_duplicates(keep=\"first\",ignore_index=True)\n",
    "\n",
    "    ### drop null rows\n",
    "    df.dropna(how=\"all\",axis=0,inplace=True)\n",
    "    \n",
    "    # drop rows with null PI\n",
    "    df = df[~(df[\"PrimaryInstitution\"].isna())]\n",
    "        \n",
    "    ### drop rows where PI contains stop words\n",
    "    stop_words_lower = [\"uncertain\",\"current\",\"deprecated\",\"please_revise\"]\n",
    "    df = df[ ~ df[\"PrimaryInstitution\"].str.lower().isin(stop_words_lower)]\n",
    "            \n",
    "\n",
    "    print(\"\\nUnique Non-null Rows...\")\n",
    "    print(\"\")\n",
    "    print(\"\\tNon-unique rows:\",olddf.shape)\n",
    "    print(\"\\tUnique rows    :\",df.shape)\n",
    "\n",
    "    ### sort\n",
    "    df = df.sort_values([\"PrimaryInstitution\",\"OrgName\"])\n",
    "    \n",
    "    return df"
   ]
  },
  {
   "cell_type": "markdown",
   "id": "1313dfc6",
   "metadata": {},
   "source": [
    "# 0. prepare pop table: ElectedPositions, PositionHierarchy, OrgHierarchy"
   ]
  },
  {
   "cell_type": "markdown",
   "id": "c2b9dbae",
   "metadata": {},
   "source": [
    "### Elected Postions from PI-OrgName-Position"
   ]
  },
  {
   "cell_type": "code",
   "execution_count": 97,
   "id": "578dcd36",
   "metadata": {},
   "outputs": [
    {
     "data": {
      "text/html": [
       "<div>\n",
       "<style scoped>\n",
       "    .dataframe tbody tr th:only-of-type {\n",
       "        vertical-align: middle;\n",
       "    }\n",
       "\n",
       "    .dataframe tbody tr th {\n",
       "        vertical-align: top;\n",
       "    }\n",
       "\n",
       "    .dataframe thead th {\n",
       "        text-align: right;\n",
       "    }\n",
       "</style>\n",
       "<table border=\"1\" class=\"dataframe\">\n",
       "  <thead>\n",
       "    <tr style=\"text-align: right;\">\n",
       "      <th></th>\n",
       "      <th>InsideGov</th>\n",
       "      <th>PrimaryInstitution</th>\n",
       "      <th>OrgName</th>\n",
       "      <th>ImmediateSuperiorOrg</th>\n",
       "      <th>SupervisesParent</th>\n",
       "      <th>LinkToNext_PI</th>\n",
       "      <th>LinkToNext_Org</th>\n",
       "      <th>LinkToNext_Year</th>\n",
       "      <th>Notes</th>\n",
       "    </tr>\n",
       "  </thead>\n",
       "  <tbody>\n",
       "    <tr>\n",
       "      <th>0</th>\n",
       "      <td>0</td>\n",
       "      <td>4.15문화창작단</td>\n",
       "      <td>NaN</td>\n",
       "      <td>NaN</td>\n",
       "      <td>NaN</td>\n",
       "      <td>Current</td>\n",
       "      <td>Current</td>\n",
       "      <td>Current</td>\n",
       "      <td>NaN</td>\n",
       "    </tr>\n",
       "    <tr>\n",
       "      <th>1</th>\n",
       "      <td>0</td>\n",
       "      <td>6.15공동선언실천남북공동위원회북측위원회</td>\n",
       "      <td>교직원분과</td>\n",
       "      <td>NaN</td>\n",
       "      <td>NaN</td>\n",
       "      <td>Current</td>\n",
       "      <td>Current</td>\n",
       "      <td>Current</td>\n",
       "      <td>NaN</td>\n",
       "    </tr>\n",
       "  </tbody>\n",
       "</table>\n",
       "</div>"
      ],
      "text/plain": [
       "  InsideGov      PrimaryInstitution OrgName ImmediateSuperiorOrg  \\\n",
       "0         0               4.15문화창작단     NaN                  NaN   \n",
       "1         0  6.15공동선언실천남북공동위원회북측위원회   교직원분과                  NaN   \n",
       "\n",
       "  SupervisesParent LinkToNext_PI LinkToNext_Org LinkToNext_Year Notes  \n",
       "0              NaN       Current        Current         Current   NaN  \n",
       "1              NaN       Current        Current         Current   NaN  "
      ]
     },
     "execution_count": 97,
     "metadata": {},
     "output_type": "execute_result"
    }
   ],
   "source": [
    "ot.head(2)"
   ]
  },
  {
   "cell_type": "code",
   "execution_count": null,
   "id": "5d240cf7",
   "metadata": {},
   "outputs": [],
   "source": []
  },
  {
   "cell_type": "code",
   "execution_count": 105,
   "id": "b23322db",
   "metadata": {},
   "outputs": [
    {
     "data": {
      "text/plain": [
       "(1742, 3)"
      ]
     },
     "execution_count": 105,
     "metadata": {},
     "output_type": "execute_result"
    }
   ],
   "source": [
    "ot_columns = [\"InsideGov\",\"PrimaryInstitution\",\"OrgName\"]\n",
    "keyorg = ot[ot_columns].drop_duplicates(keep=\"first\")\n",
    "keyorg.shape"
   ]
  },
  {
   "cell_type": "code",
   "execution_count": 106,
   "id": "314fcc7d",
   "metadata": {},
   "outputs": [
    {
     "name": "stdout",
     "output_type": "stream",
     "text": [
      "\n",
      "Unique Non-null Rows...\n",
      "\n",
      "\tNon-unique rows: (1742, 3)\n",
      "\tUnique rows    : (1742, 3)\n"
     ]
    },
    {
     "data": {
      "text/html": [
       "<div>\n",
       "<style scoped>\n",
       "    .dataframe tbody tr th:only-of-type {\n",
       "        vertical-align: middle;\n",
       "    }\n",
       "\n",
       "    .dataframe tbody tr th {\n",
       "        vertical-align: top;\n",
       "    }\n",
       "\n",
       "    .dataframe thead th {\n",
       "        text-align: right;\n",
       "    }\n",
       "</style>\n",
       "<table border=\"1\" class=\"dataframe\">\n",
       "  <thead>\n",
       "    <tr style=\"text-align: right;\">\n",
       "      <th></th>\n",
       "      <th>InsideGov</th>\n",
       "      <th>PrimaryInstitution</th>\n",
       "      <th>OrgName</th>\n",
       "    </tr>\n",
       "  </thead>\n",
       "  <tbody>\n",
       "    <tr>\n",
       "      <th>0</th>\n",
       "      <td>0</td>\n",
       "      <td>4.15문화창작단</td>\n",
       "      <td>NaN</td>\n",
       "    </tr>\n",
       "    <tr>\n",
       "      <th>1</th>\n",
       "      <td>0</td>\n",
       "      <td>6.15공동선언실천남북공동위원회북측위원회</td>\n",
       "      <td>교직원분과</td>\n",
       "    </tr>\n",
       "    <tr>\n",
       "      <th>2</th>\n",
       "      <td>0</td>\n",
       "      <td>6.15공동선언실천남북공동위원회북측위원회</td>\n",
       "      <td>노동자분과</td>\n",
       "    </tr>\n",
       "    <tr>\n",
       "      <th>3</th>\n",
       "      <td>0</td>\n",
       "      <td>6.15공동선언실천남북공동위원회북측위원회</td>\n",
       "      <td>농업근로자분과</td>\n",
       "    </tr>\n",
       "    <tr>\n",
       "      <th>4</th>\n",
       "      <td>0</td>\n",
       "      <td>6.15공동선언실천남북공동위원회북측위원회</td>\n",
       "      <td>문학예술분과</td>\n",
       "    </tr>\n",
       "    <tr>\n",
       "      <th>...</th>\n",
       "      <td>...</td>\n",
       "      <td>...</td>\n",
       "      <td>...</td>\n",
       "    </tr>\n",
       "    <tr>\n",
       "      <th>1737</th>\n",
       "      <td>0</td>\n",
       "      <td>흥남가스화건설장함경남도지구계획위원회</td>\n",
       "      <td>NaN</td>\n",
       "    </tr>\n",
       "    <tr>\n",
       "      <th>1738</th>\n",
       "      <td>0</td>\n",
       "      <td>희천기계공장</td>\n",
       "      <td>분공장</td>\n",
       "    </tr>\n",
       "    <tr>\n",
       "      <th>1739</th>\n",
       "      <td>0</td>\n",
       "      <td>희천기계공장</td>\n",
       "      <td>NaN</td>\n",
       "    </tr>\n",
       "    <tr>\n",
       "      <th>1740</th>\n",
       "      <td>0</td>\n",
       "      <td>희천정밀기계공장</td>\n",
       "      <td>분공장</td>\n",
       "    </tr>\n",
       "    <tr>\n",
       "      <th>1741</th>\n",
       "      <td>0</td>\n",
       "      <td>희천정밀기계공장</td>\n",
       "      <td>NaN</td>\n",
       "    </tr>\n",
       "  </tbody>\n",
       "</table>\n",
       "<p>1742 rows × 3 columns</p>\n",
       "</div>"
      ],
      "text/plain": [
       "     InsideGov      PrimaryInstitution  OrgName\n",
       "0            0               4.15문화창작단      NaN\n",
       "1            0  6.15공동선언실천남북공동위원회북측위원회    교직원분과\n",
       "2            0  6.15공동선언실천남북공동위원회북측위원회    노동자분과\n",
       "3            0  6.15공동선언실천남북공동위원회북측위원회  농업근로자분과\n",
       "4            0  6.15공동선언실천남북공동위원회북측위원회   문학예술분과\n",
       "...        ...                     ...      ...\n",
       "1737         0     흥남가스화건설장함경남도지구계획위원회      NaN\n",
       "1738         0                  희천기계공장      분공장\n",
       "1739         0                  희천기계공장      NaN\n",
       "1740         0                희천정밀기계공장      분공장\n",
       "1741         0                희천정밀기계공장      NaN\n",
       "\n",
       "[1742 rows x 3 columns]"
      ]
     },
     "execution_count": 106,
     "metadata": {},
     "output_type": "execute_result"
    }
   ],
   "source": [
    "key_columns = [\"PrimaryInstitution\",\"OrgName\"]\n",
    "unique_non_null_rows(keyorg)"
   ]
  },
  {
   "cell_type": "code",
   "execution_count": 107,
   "id": "b20ec5bb",
   "metadata": {},
   "outputs": [],
   "source": [
    "jobs = careers[(careers[\"IsJob\"]==\"True\") & (careers[\"CareerStartYear\"].notna())]"
   ]
  },
  {
   "cell_type": "code",
   "execution_count": 108,
   "id": "dc5a02e8",
   "metadata": {},
   "outputs": [
    {
     "data": {
      "text/plain": [
       "(1902, 3)"
      ]
     },
     "execution_count": 108,
     "metadata": {},
     "output_type": "execute_result"
    }
   ],
   "source": [
    "key_columns2 = [\"PrimaryInstitution\",\"OrgName\",\"Position\"]\n",
    "keyjobs = jobs[key_columns2].drop_duplicates(keep=\"first\")\n",
    "keyjobs.shape"
   ]
  },
  {
   "cell_type": "code",
   "execution_count": 109,
   "id": "65d969e0",
   "metadata": {},
   "outputs": [
    {
     "name": "stdout",
     "output_type": "stream",
     "text": [
      "\n",
      "Unique Non-null Rows...\n",
      "\n",
      "\tNon-unique rows: (1902, 3)\n",
      "\tUnique rows    : (1851, 3)\n"
     ]
    }
   ],
   "source": [
    "keyjobs = unique_non_null_rows(keyjobs)"
   ]
  },
  {
   "cell_type": "code",
   "execution_count": 110,
   "id": "697bb094",
   "metadata": {},
   "outputs": [
    {
     "data": {
      "text/plain": [
       "(2575, 5)"
      ]
     },
     "execution_count": 110,
     "metadata": {},
     "output_type": "execute_result"
    }
   ],
   "source": [
    "pop = keyorg.merge(keyjobs,how=\"outer\",on=key_columns,indicator=True)\n",
    "pop.shape"
   ]
  },
  {
   "cell_type": "code",
   "execution_count": 111,
   "id": "cef1ca9f",
   "metadata": {},
   "outputs": [
    {
     "name": "stdout",
     "output_type": "stream",
     "text": [
      "\n",
      "Merge Results...\n",
      "\n",
      "\tshape     : (2575, 5)\n",
      "\tleft_only : (724, 5)\n",
      "\tboth      : (1851, 5)\n",
      "\tright_only: (0, 5)\n"
     ]
    }
   ],
   "source": [
    "merge_results(pop)"
   ]
  },
  {
   "cell_type": "code",
   "execution_count": 112,
   "id": "b98e018c",
   "metadata": {},
   "outputs": [
    {
     "data": {
      "text/html": [
       "<div>\n",
       "<style scoped>\n",
       "    .dataframe tbody tr th:only-of-type {\n",
       "        vertical-align: middle;\n",
       "    }\n",
       "\n",
       "    .dataframe tbody tr th {\n",
       "        vertical-align: top;\n",
       "    }\n",
       "\n",
       "    .dataframe thead th {\n",
       "        text-align: right;\n",
       "    }\n",
       "</style>\n",
       "<table border=\"1\" class=\"dataframe\">\n",
       "  <thead>\n",
       "    <tr style=\"text-align: right;\">\n",
       "      <th></th>\n",
       "      <th>InsideGov</th>\n",
       "      <th>PrimaryInstitution</th>\n",
       "      <th>OrgName</th>\n",
       "      <th>Position</th>\n",
       "      <th>_merge</th>\n",
       "    </tr>\n",
       "  </thead>\n",
       "  <tbody>\n",
       "    <tr>\n",
       "      <th>3</th>\n",
       "      <td>0</td>\n",
       "      <td>6.15공동선언실천남북공동위원회북측위원회</td>\n",
       "      <td>교직원분과</td>\n",
       "      <td>NaN</td>\n",
       "      <td>left_only</td>\n",
       "    </tr>\n",
       "    <tr>\n",
       "      <th>4</th>\n",
       "      <td>0</td>\n",
       "      <td>6.15공동선언실천남북공동위원회북측위원회</td>\n",
       "      <td>노동자분과</td>\n",
       "      <td>NaN</td>\n",
       "      <td>left_only</td>\n",
       "    </tr>\n",
       "    <tr>\n",
       "      <th>5</th>\n",
       "      <td>0</td>\n",
       "      <td>6.15공동선언실천남북공동위원회북측위원회</td>\n",
       "      <td>농업근로자분과</td>\n",
       "      <td>NaN</td>\n",
       "      <td>left_only</td>\n",
       "    </tr>\n",
       "    <tr>\n",
       "      <th>6</th>\n",
       "      <td>0</td>\n",
       "      <td>6.15공동선언실천남북공동위원회북측위원회</td>\n",
       "      <td>문학예술분과</td>\n",
       "      <td>NaN</td>\n",
       "      <td>left_only</td>\n",
       "    </tr>\n",
       "    <tr>\n",
       "      <th>7</th>\n",
       "      <td>0</td>\n",
       "      <td>6.15공동선언실천남북공동위원회북측위원회</td>\n",
       "      <td>보건분과</td>\n",
       "      <td>NaN</td>\n",
       "      <td>left_only</td>\n",
       "    </tr>\n",
       "    <tr>\n",
       "      <th>...</th>\n",
       "      <td>...</td>\n",
       "      <td>...</td>\n",
       "      <td>...</td>\n",
       "      <td>...</td>\n",
       "      <td>...</td>\n",
       "    </tr>\n",
       "    <tr>\n",
       "      <th>2555</th>\n",
       "      <td>1</td>\n",
       "      <td>호위사령부</td>\n",
       "      <td>호위총국_평양경비사령부</td>\n",
       "      <td>NaN</td>\n",
       "      <td>left_only</td>\n",
       "    </tr>\n",
       "    <tr>\n",
       "      <th>2562</th>\n",
       "      <td>0</td>\n",
       "      <td>화학공업협회</td>\n",
       "      <td>NaN</td>\n",
       "      <td>NaN</td>\n",
       "      <td>left_only</td>\n",
       "    </tr>\n",
       "    <tr>\n",
       "      <th>2564</th>\n",
       "      <td>0</td>\n",
       "      <td>활쏘기협회</td>\n",
       "      <td>NaN</td>\n",
       "      <td>NaN</td>\n",
       "      <td>left_only</td>\n",
       "    </tr>\n",
       "    <tr>\n",
       "      <th>2570</th>\n",
       "      <td>0</td>\n",
       "      <td>흥남가스화건설장함경남도지구계획위원회</td>\n",
       "      <td>NaN</td>\n",
       "      <td>NaN</td>\n",
       "      <td>left_only</td>\n",
       "    </tr>\n",
       "    <tr>\n",
       "      <th>2572</th>\n",
       "      <td>0</td>\n",
       "      <td>희천기계공장</td>\n",
       "      <td>NaN</td>\n",
       "      <td>NaN</td>\n",
       "      <td>left_only</td>\n",
       "    </tr>\n",
       "  </tbody>\n",
       "</table>\n",
       "<p>724 rows × 5 columns</p>\n",
       "</div>"
      ],
      "text/plain": [
       "     InsideGov      PrimaryInstitution       OrgName Position     _merge\n",
       "3            0  6.15공동선언실천남북공동위원회북측위원회         교직원분과      NaN  left_only\n",
       "4            0  6.15공동선언실천남북공동위원회북측위원회         노동자분과      NaN  left_only\n",
       "5            0  6.15공동선언실천남북공동위원회북측위원회       농업근로자분과      NaN  left_only\n",
       "6            0  6.15공동선언실천남북공동위원회북측위원회        문학예술분과      NaN  left_only\n",
       "7            0  6.15공동선언실천남북공동위원회북측위원회          보건분과      NaN  left_only\n",
       "...        ...                     ...           ...      ...        ...\n",
       "2555         1                   호위사령부  호위총국_평양경비사령부      NaN  left_only\n",
       "2562         0                  화학공업협회           NaN      NaN  left_only\n",
       "2564         0                   활쏘기협회           NaN      NaN  left_only\n",
       "2570         0     흥남가스화건설장함경남도지구계획위원회           NaN      NaN  left_only\n",
       "2572         0                  희천기계공장           NaN      NaN  left_only\n",
       "\n",
       "[724 rows x 5 columns]"
      ]
     },
     "execution_count": 112,
     "metadata": {},
     "output_type": "execute_result"
    }
   ],
   "source": [
    "# in orgtree, not in careers\n",
    "pop[pop[\"_merge\"]==\"left_only\"]"
   ]
  },
  {
   "cell_type": "code",
   "execution_count": 113,
   "id": "53e824f4",
   "metadata": {},
   "outputs": [],
   "source": [
    "pop.drop(columns=[\"_merge\"],inplace=True)"
   ]
  },
  {
   "cell_type": "code",
   "execution_count": 66,
   "id": "8a419b98",
   "metadata": {},
   "outputs": [],
   "source": [
    "# populate PositionRank"
   ]
  },
  {
   "cell_type": "code",
   "execution_count": 67,
   "id": "5dc94171",
   "metadata": {},
   "outputs": [],
   "source": [
    "# populate OrgRank"
   ]
  },
  {
   "cell_type": "code",
   "execution_count": 68,
   "id": "f9391736",
   "metadata": {},
   "outputs": [],
   "source": [
    "# pop_pre.to_excel(path_tables + \"pi_org_pos.xlsx\",index=False)"
   ]
  },
  {
   "cell_type": "markdown",
   "id": "2c89a649",
   "metadata": {},
   "source": [
    "# 0. create position_list "
   ]
  },
  {
   "cell_type": "code",
   "execution_count": 69,
   "id": "84fed824",
   "metadata": {},
   "outputs": [
    {
     "data": {
      "text/plain": [
       "(2575, 3)"
      ]
     },
     "execution_count": 69,
     "metadata": {},
     "output_type": "execute_result"
    }
   ],
   "source": [
    "pop.shape"
   ]
  },
  {
   "cell_type": "code",
   "execution_count": 70,
   "id": "1a61bbd2",
   "metadata": {},
   "outputs": [
    {
     "data": {
      "text/plain": [
       "pandas.core.frame.DataFrame"
      ]
     },
     "execution_count": 70,
     "metadata": {},
     "output_type": "execute_result"
    }
   ],
   "source": [
    "position_list = pop[\"Position\"].drop_duplicates().to_frame()\n",
    "type(position_list)"
   ]
  },
  {
   "cell_type": "code",
   "execution_count": 71,
   "id": "f8b12bd2",
   "metadata": {},
   "outputs": [
    {
     "data": {
      "text/html": [
       "<div>\n",
       "<style scoped>\n",
       "    .dataframe tbody tr th:only-of-type {\n",
       "        vertical-align: middle;\n",
       "    }\n",
       "\n",
       "    .dataframe tbody tr th {\n",
       "        vertical-align: top;\n",
       "    }\n",
       "\n",
       "    .dataframe thead th {\n",
       "        text-align: right;\n",
       "    }\n",
       "</style>\n",
       "<table border=\"1\" class=\"dataframe\">\n",
       "  <thead>\n",
       "    <tr style=\"text-align: right;\">\n",
       "      <th></th>\n",
       "      <th>Position</th>\n",
       "    </tr>\n",
       "  </thead>\n",
       "  <tbody>\n",
       "    <tr>\n",
       "      <th>0</th>\n",
       "      <td>1등서기관</td>\n",
       "    </tr>\n",
       "    <tr>\n",
       "      <th>1</th>\n",
       "      <td>1부국장</td>\n",
       "    </tr>\n",
       "    <tr>\n",
       "      <th>2</th>\n",
       "      <td>1비서</td>\n",
       "    </tr>\n",
       "    <tr>\n",
       "      <th>3</th>\n",
       "      <td>2등서기관</td>\n",
       "    </tr>\n",
       "    <tr>\n",
       "      <th>4</th>\n",
       "      <td>2부국장</td>\n",
       "    </tr>\n",
       "    <tr>\n",
       "      <th>...</th>\n",
       "      <td>...</td>\n",
       "    </tr>\n",
       "    <tr>\n",
       "      <th>237</th>\n",
       "      <td>회장</td>\n",
       "    </tr>\n",
       "    <tr>\n",
       "      <th>238</th>\n",
       "      <td>후방총국장</td>\n",
       "    </tr>\n",
       "    <tr>\n",
       "      <th>239</th>\n",
       "      <td>후보</td>\n",
       "    </tr>\n",
       "    <tr>\n",
       "      <th>240</th>\n",
       "      <td>후보위원</td>\n",
       "    </tr>\n",
       "    <tr>\n",
       "      <th>241</th>\n",
       "      <td>NaN</td>\n",
       "    </tr>\n",
       "  </tbody>\n",
       "</table>\n",
       "<p>242 rows × 1 columns</p>\n",
       "</div>"
      ],
      "text/plain": [
       "    Position\n",
       "0      1등서기관\n",
       "1       1부국장\n",
       "2        1비서\n",
       "3      2등서기관\n",
       "4       2부국장\n",
       "..       ...\n",
       "237       회장\n",
       "238    후방총국장\n",
       "239       후보\n",
       "240     후보위원\n",
       "241      NaN\n",
       "\n",
       "[242 rows x 1 columns]"
      ]
     },
     "execution_count": 71,
     "metadata": {},
     "output_type": "execute_result"
    }
   ],
   "source": [
    "position_list.sort_values(\"Position\",inplace=True,ignore_index=True)\n",
    "position_list"
   ]
  },
  {
   "cell_type": "code",
   "execution_count": 72,
   "id": "3689b893",
   "metadata": {},
   "outputs": [],
   "source": [
    "position_list.to_excel(path_tables + \"position_list.xlsx\",index=False)"
   ]
  },
  {
   "cell_type": "markdown",
   "id": "e7294977",
   "metadata": {},
   "source": [
    "# 0. add ElectedPositions"
   ]
  },
  {
   "cell_type": "code",
   "execution_count": 114,
   "id": "8b29705a",
   "metadata": {},
   "outputs": [],
   "source": [
    "# add IsElected\n",
    "pop2 = pop.merge(elected,on=key_columns2,how=\"outer\",indicator=True)"
   ]
  },
  {
   "cell_type": "code",
   "execution_count": 115,
   "id": "38952f0e",
   "metadata": {},
   "outputs": [
    {
     "data": {
      "text/html": [
       "<div>\n",
       "<style scoped>\n",
       "    .dataframe tbody tr th:only-of-type {\n",
       "        vertical-align: middle;\n",
       "    }\n",
       "\n",
       "    .dataframe tbody tr th {\n",
       "        vertical-align: top;\n",
       "    }\n",
       "\n",
       "    .dataframe thead th {\n",
       "        text-align: right;\n",
       "    }\n",
       "</style>\n",
       "<table border=\"1\" class=\"dataframe\">\n",
       "  <thead>\n",
       "    <tr style=\"text-align: right;\">\n",
       "      <th></th>\n",
       "      <th>InsideGov</th>\n",
       "      <th>PrimaryInstitution</th>\n",
       "      <th>OrgName</th>\n",
       "      <th>Position</th>\n",
       "      <th>IsElected</th>\n",
       "      <th>PositionRank</th>\n",
       "      <th>_merge</th>\n",
       "    </tr>\n",
       "  </thead>\n",
       "  <tbody>\n",
       "    <tr>\n",
       "      <th>0</th>\n",
       "      <td>0</td>\n",
       "      <td>4.15문화창작단</td>\n",
       "      <td>NaN</td>\n",
       "      <td>단장</td>\n",
       "      <td>NaN</td>\n",
       "      <td>NaN</td>\n",
       "      <td>left_only</td>\n",
       "    </tr>\n",
       "    <tr>\n",
       "      <th>1</th>\n",
       "      <td>0</td>\n",
       "      <td>4.15문화창작단</td>\n",
       "      <td>NaN</td>\n",
       "      <td>부단장</td>\n",
       "      <td>NaN</td>\n",
       "      <td>NaN</td>\n",
       "      <td>left_only</td>\n",
       "    </tr>\n",
       "  </tbody>\n",
       "</table>\n",
       "</div>"
      ],
      "text/plain": [
       "  InsideGov PrimaryInstitution OrgName Position IsElected PositionRank  \\\n",
       "0         0          4.15문화창작단     NaN       단장       NaN          NaN   \n",
       "1         0          4.15문화창작단     NaN      부단장       NaN          NaN   \n",
       "\n",
       "      _merge  \n",
       "0  left_only  \n",
       "1  left_only  "
      ]
     },
     "execution_count": 115,
     "metadata": {},
     "output_type": "execute_result"
    }
   ],
   "source": [
    "pop2.head(2)"
   ]
  },
  {
   "cell_type": "code",
   "execution_count": 116,
   "id": "14238b15",
   "metadata": {},
   "outputs": [
    {
     "name": "stdout",
     "output_type": "stream",
     "text": [
      "\n",
      "Merge Results...\n",
      "\n",
      "\tshape     : (2575, 7)\n",
      "\tleft_only : (2470, 7)\n",
      "\tboth      : (105, 7)\n",
      "\tright_only: (0, 7)\n"
     ]
    }
   ],
   "source": [
    "# \"both\": IsElected = 1; \"left_only\": IsElected = nan\n",
    "merge_results(pop2)"
   ]
  },
  {
   "cell_type": "code",
   "execution_count": 117,
   "id": "f4bc2600",
   "metadata": {},
   "outputs": [],
   "source": [
    "pop2.drop(columns=[\"_merge\"],inplace=True)"
   ]
  },
  {
   "cell_type": "code",
   "execution_count": 118,
   "id": "f07cde34",
   "metadata": {},
   "outputs": [
    {
     "data": {
      "text/html": [
       "<div>\n",
       "<style scoped>\n",
       "    .dataframe tbody tr th:only-of-type {\n",
       "        vertical-align: middle;\n",
       "    }\n",
       "\n",
       "    .dataframe tbody tr th {\n",
       "        vertical-align: top;\n",
       "    }\n",
       "\n",
       "    .dataframe thead th {\n",
       "        text-align: right;\n",
       "    }\n",
       "</style>\n",
       "<table border=\"1\" class=\"dataframe\">\n",
       "  <thead>\n",
       "    <tr style=\"text-align: right;\">\n",
       "      <th></th>\n",
       "      <th>InsideGov</th>\n",
       "      <th>PrimaryInstitution</th>\n",
       "      <th>OrgName</th>\n",
       "      <th>Position</th>\n",
       "      <th>IsElected</th>\n",
       "      <th>PositionRank</th>\n",
       "    </tr>\n",
       "  </thead>\n",
       "  <tbody>\n",
       "    <tr>\n",
       "      <th>0</th>\n",
       "      <td>0</td>\n",
       "      <td>4.15문화창작단</td>\n",
       "      <td>NaN</td>\n",
       "      <td>단장</td>\n",
       "      <td>NaN</td>\n",
       "      <td>NaN</td>\n",
       "    </tr>\n",
       "    <tr>\n",
       "      <th>1</th>\n",
       "      <td>0</td>\n",
       "      <td>4.15문화창작단</td>\n",
       "      <td>NaN</td>\n",
       "      <td>부단장</td>\n",
       "      <td>NaN</td>\n",
       "      <td>NaN</td>\n",
       "    </tr>\n",
       "    <tr>\n",
       "      <th>2</th>\n",
       "      <td>0</td>\n",
       "      <td>4.15문화창작단</td>\n",
       "      <td>NaN</td>\n",
       "      <td>NaN</td>\n",
       "      <td>NaN</td>\n",
       "      <td>NaN</td>\n",
       "    </tr>\n",
       "    <tr>\n",
       "      <th>3</th>\n",
       "      <td>0</td>\n",
       "      <td>6.15공동선언실천남북공동위원회북측위원회</td>\n",
       "      <td>교직원분과</td>\n",
       "      <td>NaN</td>\n",
       "      <td>NaN</td>\n",
       "      <td>NaN</td>\n",
       "    </tr>\n",
       "    <tr>\n",
       "      <th>4</th>\n",
       "      <td>0</td>\n",
       "      <td>6.15공동선언실천남북공동위원회북측위원회</td>\n",
       "      <td>노동자분과</td>\n",
       "      <td>NaN</td>\n",
       "      <td>NaN</td>\n",
       "      <td>NaN</td>\n",
       "    </tr>\n",
       "  </tbody>\n",
       "</table>\n",
       "</div>"
      ],
      "text/plain": [
       "  InsideGov      PrimaryInstitution OrgName Position IsElected PositionRank\n",
       "0         0               4.15문화창작단     NaN       단장       NaN          NaN\n",
       "1         0               4.15문화창작단     NaN      부단장       NaN          NaN\n",
       "2         0               4.15문화창작단     NaN      NaN       NaN          NaN\n",
       "3         0  6.15공동선언실천남북공동위원회북측위원회   교직원분과      NaN       NaN          NaN\n",
       "4         0  6.15공동선언실천남북공동위원회북측위원회   노동자분과      NaN       NaN          NaN"
      ]
     },
     "execution_count": 118,
     "metadata": {},
     "output_type": "execute_result"
    }
   ],
   "source": [
    "pop2.head(5)"
   ]
  },
  {
   "cell_type": "markdown",
   "id": "d0338870",
   "metadata": {},
   "source": [
    "# 0. remove null Positions "
   ]
  },
  {
   "cell_type": "code",
   "execution_count": 119,
   "id": "549d5e6e",
   "metadata": {},
   "outputs": [
    {
     "data": {
      "text/html": [
       "<div>\n",
       "<style scoped>\n",
       "    .dataframe tbody tr th:only-of-type {\n",
       "        vertical-align: middle;\n",
       "    }\n",
       "\n",
       "    .dataframe tbody tr th {\n",
       "        vertical-align: top;\n",
       "    }\n",
       "\n",
       "    .dataframe thead th {\n",
       "        text-align: right;\n",
       "    }\n",
       "</style>\n",
       "<table border=\"1\" class=\"dataframe\">\n",
       "  <thead>\n",
       "    <tr style=\"text-align: right;\">\n",
       "      <th></th>\n",
       "      <th>InsideGov</th>\n",
       "      <th>PrimaryInstitution</th>\n",
       "      <th>OrgName</th>\n",
       "      <th>Position</th>\n",
       "      <th>IsElected</th>\n",
       "      <th>PositionRank</th>\n",
       "    </tr>\n",
       "  </thead>\n",
       "  <tbody>\n",
       "    <tr>\n",
       "      <th>0</th>\n",
       "      <td>0</td>\n",
       "      <td>4.15문화창작단</td>\n",
       "      <td>NaN</td>\n",
       "      <td>단장</td>\n",
       "      <td>NaN</td>\n",
       "      <td>NaN</td>\n",
       "    </tr>\n",
       "    <tr>\n",
       "      <th>1</th>\n",
       "      <td>0</td>\n",
       "      <td>4.15문화창작단</td>\n",
       "      <td>NaN</td>\n",
       "      <td>부단장</td>\n",
       "      <td>NaN</td>\n",
       "      <td>NaN</td>\n",
       "    </tr>\n",
       "    <tr>\n",
       "      <th>16</th>\n",
       "      <td>0</td>\n",
       "      <td>7.7연합기업소</td>\n",
       "      <td>NaN</td>\n",
       "      <td>기사장</td>\n",
       "      <td>NaN</td>\n",
       "      <td>NaN</td>\n",
       "    </tr>\n",
       "    <tr>\n",
       "      <th>17</th>\n",
       "      <td>0</td>\n",
       "      <td>北-러시아 친선의원단</td>\n",
       "      <td>NaN</td>\n",
       "      <td>위원장</td>\n",
       "      <td>NaN</td>\n",
       "      <td>NaN</td>\n",
       "    </tr>\n",
       "    <tr>\n",
       "      <th>18</th>\n",
       "      <td>0</td>\n",
       "      <td>北-중국 친선의원단</td>\n",
       "      <td>NaN</td>\n",
       "      <td>위원장</td>\n",
       "      <td>NaN</td>\n",
       "      <td>NaN</td>\n",
       "    </tr>\n",
       "    <tr>\n",
       "      <th>...</th>\n",
       "      <td>...</td>\n",
       "      <td>...</td>\n",
       "      <td>...</td>\n",
       "      <td>...</td>\n",
       "      <td>...</td>\n",
       "      <td>...</td>\n",
       "    </tr>\n",
       "    <tr>\n",
       "      <th>2568</th>\n",
       "      <td>0</td>\n",
       "      <td>황해제철연합기업소</td>\n",
       "      <td>NaN</td>\n",
       "      <td>지배인</td>\n",
       "      <td>NaN</td>\n",
       "      <td>NaN</td>\n",
       "    </tr>\n",
       "    <tr>\n",
       "      <th>2569</th>\n",
       "      <td>0</td>\n",
       "      <td>후방군관학교</td>\n",
       "      <td>NaN</td>\n",
       "      <td>교장</td>\n",
       "      <td>NaN</td>\n",
       "      <td>NaN</td>\n",
       "    </tr>\n",
       "    <tr>\n",
       "      <th>2571</th>\n",
       "      <td>0</td>\n",
       "      <td>희천기계공장</td>\n",
       "      <td>분공장</td>\n",
       "      <td>지배인</td>\n",
       "      <td>NaN</td>\n",
       "      <td>NaN</td>\n",
       "    </tr>\n",
       "    <tr>\n",
       "      <th>2573</th>\n",
       "      <td>0</td>\n",
       "      <td>희천정밀기계공장</td>\n",
       "      <td>분공장</td>\n",
       "      <td>지배인</td>\n",
       "      <td>NaN</td>\n",
       "      <td>NaN</td>\n",
       "    </tr>\n",
       "    <tr>\n",
       "      <th>2574</th>\n",
       "      <td>0</td>\n",
       "      <td>희천정밀기계공장</td>\n",
       "      <td>NaN</td>\n",
       "      <td>지배인</td>\n",
       "      <td>NaN</td>\n",
       "      <td>NaN</td>\n",
       "    </tr>\n",
       "  </tbody>\n",
       "</table>\n",
       "<p>1810 rows × 6 columns</p>\n",
       "</div>"
      ],
      "text/plain": [
       "     InsideGov PrimaryInstitution OrgName Position IsElected PositionRank\n",
       "0            0          4.15문화창작단     NaN       단장       NaN          NaN\n",
       "1            0          4.15문화창작단     NaN      부단장       NaN          NaN\n",
       "16           0           7.7연합기업소     NaN      기사장       NaN          NaN\n",
       "17           0        北-러시아 친선의원단     NaN      위원장       NaN          NaN\n",
       "18           0        北-중국 친선의원단      NaN      위원장       NaN          NaN\n",
       "...        ...                ...     ...      ...       ...          ...\n",
       "2568         0          황해제철연합기업소     NaN      지배인       NaN          NaN\n",
       "2569         0             후방군관학교     NaN       교장       NaN          NaN\n",
       "2571         0             희천기계공장     분공장      지배인       NaN          NaN\n",
       "2573         0           희천정밀기계공장     분공장      지배인       NaN          NaN\n",
       "2574         0           희천정밀기계공장     NaN      지배인       NaN          NaN\n",
       "\n",
       "[1810 rows x 6 columns]"
      ]
     },
     "execution_count": 119,
     "metadata": {},
     "output_type": "execute_result"
    }
   ],
   "source": [
    "pop3 = pop2[pop2.Position.notna()]\n",
    "pop3"
   ]
  },
  {
   "cell_type": "code",
   "execution_count": 120,
   "id": "1efcbf57",
   "metadata": {},
   "outputs": [
    {
     "name": "stdout",
     "output_type": "stream",
     "text": [
      "\n",
      "Unique Non-null Rows...\n",
      "\n",
      "\tNon-unique rows: (1810, 3)\n",
      "\tUnique rows    : (1810, 3)\n"
     ]
    },
    {
     "data": {
      "text/html": [
       "<div>\n",
       "<style scoped>\n",
       "    .dataframe tbody tr th:only-of-type {\n",
       "        vertical-align: middle;\n",
       "    }\n",
       "\n",
       "    .dataframe tbody tr th {\n",
       "        vertical-align: top;\n",
       "    }\n",
       "\n",
       "    .dataframe thead th {\n",
       "        text-align: right;\n",
       "    }\n",
       "</style>\n",
       "<table border=\"1\" class=\"dataframe\">\n",
       "  <thead>\n",
       "    <tr style=\"text-align: right;\">\n",
       "      <th></th>\n",
       "      <th>PrimaryInstitution</th>\n",
       "      <th>OrgName</th>\n",
       "      <th>Position</th>\n",
       "    </tr>\n",
       "  </thead>\n",
       "  <tbody>\n",
       "    <tr>\n",
       "      <th>0</th>\n",
       "      <td>4.15문화창작단</td>\n",
       "      <td>NaN</td>\n",
       "      <td>단장</td>\n",
       "    </tr>\n",
       "    <tr>\n",
       "      <th>1</th>\n",
       "      <td>4.15문화창작단</td>\n",
       "      <td>NaN</td>\n",
       "      <td>부단장</td>\n",
       "    </tr>\n",
       "    <tr>\n",
       "      <th>2</th>\n",
       "      <td>7.7연합기업소</td>\n",
       "      <td>NaN</td>\n",
       "      <td>기사장</td>\n",
       "    </tr>\n",
       "    <tr>\n",
       "      <th>3</th>\n",
       "      <td>北-러시아 친선의원단</td>\n",
       "      <td>NaN</td>\n",
       "      <td>위원장</td>\n",
       "    </tr>\n",
       "    <tr>\n",
       "      <th>4</th>\n",
       "      <td>北-중국 친선의원단</td>\n",
       "      <td>NaN</td>\n",
       "      <td>위원장</td>\n",
       "    </tr>\n",
       "    <tr>\n",
       "      <th>...</th>\n",
       "      <td>...</td>\n",
       "      <td>...</td>\n",
       "      <td>...</td>\n",
       "    </tr>\n",
       "    <tr>\n",
       "      <th>1805</th>\n",
       "      <td>황해제철연합기업소</td>\n",
       "      <td>NaN</td>\n",
       "      <td>지배인</td>\n",
       "    </tr>\n",
       "    <tr>\n",
       "      <th>1806</th>\n",
       "      <td>후방군관학교</td>\n",
       "      <td>NaN</td>\n",
       "      <td>교장</td>\n",
       "    </tr>\n",
       "    <tr>\n",
       "      <th>1807</th>\n",
       "      <td>희천기계공장</td>\n",
       "      <td>분공장</td>\n",
       "      <td>지배인</td>\n",
       "    </tr>\n",
       "    <tr>\n",
       "      <th>1808</th>\n",
       "      <td>희천정밀기계공장</td>\n",
       "      <td>분공장</td>\n",
       "      <td>지배인</td>\n",
       "    </tr>\n",
       "    <tr>\n",
       "      <th>1809</th>\n",
       "      <td>희천정밀기계공장</td>\n",
       "      <td>NaN</td>\n",
       "      <td>지배인</td>\n",
       "    </tr>\n",
       "  </tbody>\n",
       "</table>\n",
       "<p>1810 rows × 3 columns</p>\n",
       "</div>"
      ],
      "text/plain": [
       "     PrimaryInstitution OrgName Position\n",
       "0             4.15문화창작단     NaN       단장\n",
       "1             4.15문화창작단     NaN      부단장\n",
       "2              7.7연합기업소     NaN      기사장\n",
       "3           北-러시아 친선의원단     NaN      위원장\n",
       "4           北-중국 친선의원단      NaN      위원장\n",
       "...                 ...     ...      ...\n",
       "1805          황해제철연합기업소     NaN      지배인\n",
       "1806             후방군관학교     NaN       교장\n",
       "1807             희천기계공장     분공장      지배인\n",
       "1808           희천정밀기계공장     분공장      지배인\n",
       "1809           희천정밀기계공장     NaN      지배인\n",
       "\n",
       "[1810 rows x 3 columns]"
      ]
     },
     "execution_count": 120,
     "metadata": {},
     "output_type": "execute_result"
    }
   ],
   "source": [
    "# confirm all p-o-p columns are unique\n",
    "unique_non_null_rows(pop3[key_columns2])"
   ]
  },
  {
   "cell_type": "code",
   "execution_count": null,
   "id": "43db1125",
   "metadata": {},
   "outputs": [],
   "source": []
  },
  {
   "cell_type": "markdown",
   "id": "ade04361",
   "metadata": {},
   "source": [
    "# 0. divide by PrimaryInstitution & export"
   ]
  },
  {
   "cell_type": "code",
   "execution_count": 121,
   "id": "5eac3087",
   "metadata": {},
   "outputs": [],
   "source": [
    "# divide\n",
    "\n",
    "# 내각, 정무원 - Jacob\n",
    "# 노동당 - Esther\n",
    "# 나머지 - Jeongsu\n",
    "\n",
    "# include InGov=False\n",
    "# include IsElected=True"
   ]
  },
  {
   "cell_type": "code",
   "execution_count": 122,
   "id": "50e27c49",
   "metadata": {},
   "outputs": [],
   "source": [
    "jacob_pi = [\"내각\",\"정무원\"]\n",
    "esther_pi = [\"노동당\"]"
   ]
  },
  {
   "cell_type": "code",
   "execution_count": 123,
   "id": "de6c6bba",
   "metadata": {},
   "outputs": [
    {
     "data": {
      "text/plain": [
       "(705, 6)"
      ]
     },
     "execution_count": 123,
     "metadata": {},
     "output_type": "execute_result"
    }
   ],
   "source": [
    "jacob = pop3[pop3.PrimaryInstitution.isin(jacob_pi)]\n",
    "jacob.shape"
   ]
  },
  {
   "cell_type": "code",
   "execution_count": 124,
   "id": "19e96e18",
   "metadata": {},
   "outputs": [
    {
     "data": {
      "text/plain": [
       "array(['내각', '정무원'], dtype=object)"
      ]
     },
     "execution_count": 124,
     "metadata": {},
     "output_type": "execute_result"
    }
   ],
   "source": [
    "jacob.PrimaryInstitution.unique()"
   ]
  },
  {
   "cell_type": "code",
   "execution_count": 125,
   "id": "c50a115d",
   "metadata": {},
   "outputs": [
    {
     "data": {
      "text/plain": [
       "(263, 6)"
      ]
     },
     "execution_count": 125,
     "metadata": {},
     "output_type": "execute_result"
    }
   ],
   "source": [
    "esther = pop3[pop3.PrimaryInstitution.isin(esther_pi)]\n",
    "esther.shape"
   ]
  },
  {
   "cell_type": "code",
   "execution_count": 126,
   "id": "12aa6df6",
   "metadata": {},
   "outputs": [
    {
     "data": {
      "text/plain": [
       "array(['노동당'], dtype=object)"
      ]
     },
     "execution_count": 126,
     "metadata": {},
     "output_type": "execute_result"
    }
   ],
   "source": [
    "esther.PrimaryInstitution.unique()"
   ]
  },
  {
   "cell_type": "code",
   "execution_count": 127,
   "id": "20dbadf8",
   "metadata": {},
   "outputs": [
    {
     "data": {
      "text/plain": [
       "(842, 6)"
      ]
     },
     "execution_count": 127,
     "metadata": {},
     "output_type": "execute_result"
    }
   ],
   "source": [
    "jeongsu = pop3[~ pop3.PrimaryInstitution.isin(jacob_pi + esther_pi)]\n",
    "jeongsu.shape"
   ]
  },
  {
   "cell_type": "code",
   "execution_count": 128,
   "id": "bd0eb976",
   "metadata": {},
   "outputs": [
    {
     "data": {
      "text/plain": [
       "array(['4.15문화창작단', '7.7연합기업소', '北-러시아 친선의원단', '北-중국 친선의원단 ', '강건종합군관학교',\n",
       "       '강동지구탄광연합기업소', '강서구역청산엽동농장', '강선제강소', '강원도임업연합기업소', '개성무역총회사',\n",
       "       '개성방직공장', '개천군협동농장', '공산청년동맹', '광명성경제연합회', '구성공작기계공장', '국가개발은행',\n",
       "       '국립교향악단', '국립평양예술단', '국무위원회', '국방위원회', '국제무도경기위원회', '국제문제연구소',\n",
       "       '금성정치대학', '금속및기계수출업총회사', '금수산의사당', '길주펄프공장', '김일성-김정일주의청년동맹',\n",
       "       '김일성경호대', '김일성군사종합대학', '김일성김정일기금위원회', '김일성사회주의청년동맹', '김책공군대학',\n",
       "       '김책제철연합기업소', '남북경협제도실무협의회', '남포유리공장', '남흥청년화학연합기업소', '내각B',\n",
       "       '노농적위군', '농업과학원', '단군민족통일협의회', '단천수산사업소', '대성경제연합체', '대안전기공장',\n",
       "       '대안중기계연합기업소', '동아시아경기대회협의회', '만경대혁명학원', '만수대예술국장', '만수대예술극장',\n",
       "       '묘향무역회사', '무산광산연합기업소', '문평제련소', '민족화해협의회', '백두산건축연구원', '백두산창작단',\n",
       "       '범민족통일음악회', '보위사령부', '보천보전자악단', '부령합금철공장', '북-가나 친선협회',\n",
       "       '북-가나 친선협회 ', '북-기니비사우 친선협회', '북-나미비아 친선협회', '북-나이지리아 친선협회',\n",
       "       '북-네팔 친선협회', '북-네팔 친선협회 ', '북-독일 친선의원단', '북-독일 친선협회',\n",
       "       '북-라오스 친선의원단', '북-라오스 친선협회', '북-라오스 친선협회 ',\n",
       "       '북-라틴아메리카 및 카리브해 지역 친선협회', '북-라틴아메리카친선협회', '북-러 친선의원단',\n",
       "       '북-러시아 친선협회', '북-루마니아 친선협회', '북-르완다 친선협회', '북-리비아 친선협회',\n",
       "       '북-말레이시아 친선협회', '북-몽골 친선의원단', '북-몽골 친선협회', '북-몽골 친선협회 ',\n",
       "       '북-미얀마 친선협회', '북-베네수엘라 친선협회', '북-베트남 친선협회', '북-벨라루시 친선협회',\n",
       "       '북-불가리아 친선협회', '북-세네갈 친선협회', '북-소 친선협회', '북-수리남 친선협회',\n",
       "       '북-스웨덴 친선협회', '북-스위스 친선협회', '북-시리아 친선협회', '북-시리아 친선협회 ',\n",
       "       '북-시에라리온 친선협회', '북-아르헨티나 친선협회', '북-알제리 친선협회', '북-영국 친선의원단',\n",
       "       '북-영국 친선협회', '북-오스트리아 친선협회 ', '북-요르단 친선협회', '북-유럽동맹 친선의원단',\n",
       "       '북-이라크 친선협회', '북-이란 친선의원단', '북-이란 친선의회 그룹', '북-이란 친선협회',\n",
       "       '북-이집트 친선협회', '북-이집트 친선협회 ', '북-이탈리아 친선의원단', '북-인도 친선협회',\n",
       "       '북-인도네시아 친선의원단', '북-인도네시아 친선의회 그룹', '북-인도네시아 친선협회', '북-일 우호친선협회',\n",
       "       '북-자메이카 친선협회', '북-적도기니 친선협회', '북-중 친선의원단', '북-중 친선협회',\n",
       "       '북-중 친선협회 중앙위원회', '북-중 친선협회 중앙위원회 ', '북-중국 친선의원단', '북-중국 친선협회',\n",
       "       '북-짐바브웨 친선협회', '북-체코 친선의원단', '북-칠레 친선협회', '북-카보베르데 친선 및 연대성위원회',\n",
       "       '북-캄보디아 친선의원단', '북-쿠바 단결위원회', '북-쿠바 연대성위원회', '북-쿠바 친선위원회',\n",
       "       '북-쿠바 친선협회', '북-쿠웨이트 친선협회', '북-탄자니아 친선협회 ', '북-태국 친선협회',\n",
       "       '북-토고 친선협회', '북-토고 친선협회 ', '북-파키스탄 친선협회', '북-팔레스타인 친선협회',\n",
       "       '북-팔레스타인 친선협회 ', '북-폴란드 친선협회', '북-핀란드 친선협회', '북-필리핀 친선협회',\n",
       "       '북-필리핀 친선협회 ', '북러 친선협회', '북조선노동당', '북조선민주청년동맹', '북조선임시인민위원회',\n",
       "       '북창화력발전연합기업소', '북한-쿠바 단결위원회', '비전향장기수 구원대책 조선위원회', '사회과학원',\n",
       "       '사회주의노동청년동맹', '사회주의애국청년동맹', '삼석구역장수원협동농장', '성진방직공장',\n",
       "       '세계인민들과의연대성조선위원회', '수풍발전소', '순천비날론연합기업소', '순천지구청년탄광기업소',\n",
       "       '순천지구청년탄광연합기업소', '승리자동차연합기업소', '신포수산사업소', '아시아-아프리카 연대성 위원회',\n",
       "       '안주지구탄광연합기업소', '양강도임업연합기업소', '영화예술단', '용성기계연합기업소', '용성기계연합총국',\n",
       "       '용성식료공장', '용천식료공장', '운산공구공장', '원산철도차량연합기업소', '유엔아동기금민족조정위원회',\n",
       "       '윤이상음악연구소', '인민경비대', '인민대학습당', '일본의과거청산을요구하는국제연대협의회조선위원회',\n",
       "       '전희석동무가일하는기업소', '조국통일문제연구소', '조국통일민주주의전선', '조국통일범민족연합북측본부',\n",
       "       '조국통일범민족청년학생연합', '조선-나이지리아 친선협회 ', '조선-네팔 친선협회', '조선-독일 친선의원단',\n",
       "       '조선-독일 친선협회', '조선-라오스 친선의원단', '조선-라오스 친선협회 ',\n",
       "       '조선-라틴아메리카 및 카리브해 지역 친선협회', '조선-러시아 친선협회 ', '조선-루마니아 친선협회',\n",
       "       '조선-르완다 친선협회 ', '조선-리비아 친선협회', '조선-몽골 친선의원단', '조선-몽골 친선협회 ',\n",
       "       '조선-베트남 친선협회', '조선-베트남친선의원단', '조선-벨라루스 친선협회', '조선-불가리아 친선협회 ',\n",
       "       '조선-수단 친선협회 ', '조선-수리남 친선협회 ', '조선-스웨덴 친선협회', '조선-스위스 친선협회',\n",
       "       '조선-시리아 친선협회', '조선-시리아친선의원단', '조선-영국 친선협회 ', '조선-영국친선의원단',\n",
       "       '조선-오세아니아 친선협회 ', '조선-유럽동맹친선의원단', '조선-이란 친선의원단', '조선-이란 친선의회 그룹',\n",
       "       '조선-이란 친선협회', '조선-이집트 친선협회', '조선-이탈리아친선의원단', '조선-인도 친선협회',\n",
       "       '조선-인도네시아 친선의원단', '조선-인도네시아 친선의회 그룹', '조선-인도네시아 친선협회',\n",
       "       '조선-일본 우호친선협회', '조선-자메이카 친선협회 ', '조선-적도기니 친선협회', '조선-중국 친선의원단',\n",
       "       '조선-중국 친선협회 ', '조선-중국 친선협회 중앙위원회', '조선-중국친선협회', '조선-짐바브웨 친선협회',\n",
       "       '조선-칠레 친선협회', '조선-캄보디아친선협회', '조선-쿠바 연대성위원회', '조선-쿠바 친선위원회',\n",
       "       '조선-쿠바 친선협회', '조선-쿠웨이트 친선협회', '조선-탄자니아 친선협회', '조선-태국 친선의원단',\n",
       "       '조선-폴란드 친선협회', '조선-핀란드 친선협회 ', '조선4.25예술영화촬영소', '조선건축가동맹',\n",
       "       '조선과학기술총연맹', '조선국제합영촉진위원회', '조선국제합영총회사', '조선권투협회', '조선그리스도교연맹',\n",
       "       '조선금연위원회', '조선기자동맹', '조선김일성화김정일화위원회', '조선농업근로자동맹', '조선대외문화연락위원회',\n",
       "       '조선대외문화연락협회', '조선대풍국제투자그룹', '조선대풍투자그룹', '조선도서관협회', '조선도시연맹',\n",
       "       '조선마라톤협회', '조선무술연맹', '조선무역은행', '조선문학예술총동맹', '조선문학창작사', '조선민족음악위원회',\n",
       "       '조선민주법률가협회', '조선민주여성동맹', '조선민주청년동맹', '조선반제투사노병위원회', '조선반핵평화협의회',\n",
       "       '조선불교도연맹', '조선빙상피겨협회', '조선빙상호케이(하키)협회', '조선사회과학자협회', '조선사회민주당',\n",
       "       '조선사회주의여성동맹', '조선소프트볼협회', '조선아시아태평양평화위원회', '조선역기협회', '조선연로자보호연맹',\n",
       "       '조선올림픽위원회', '조선옷협회', '조선외교협회', '조선요리협회', '조선유네스코민족위원회',\n",
       "       '조선유엔식량및농업기구민족위원회', '조선은별무역총회사', '조선의학협회', '조선인민경비대',\n",
       "       '조선일본군위안부및강제연행피해자보상대책위원회', '조선자연보호연맹', '조선장애자보호연맹', '조선적십자종합병원',\n",
       "       '조선적십자회', '조선정교위원회', '조선종교인협의회', '조선직업총동맹', '조선창광무역회사', '조선천도교청우당',\n",
       "       '조선천도교회중앙지도위원회', '조선축구협회', '조선카톨릭교협회', '조선탁구협회', '조선태권도위원회',\n",
       "       '조선평화옹호전국민족위원회', '조선피복가공기술협회', '조선학생위원회', '조선해외동포원호위원회', '조선혁명박물관',\n",
       "       '조선흑색금속수출회사', '종군위안부및태평양전쟁피해자대책위원회', '중앙인민위원회', '중앙자재총연합상사',\n",
       "       '직동청년탄광', '체육연구원', '총참모부', '최고사령부', '최고인민회의', '태권도협회', '평양기계상사',\n",
       "       '평양만경대예술단', '평양시상하수도관리소', '평양시지방산업총국', '평양시청년건설사단', '평양신학원',\n",
       "       '평양영화대학', '평양탄광기계공장', '평양피복공장', '평양학생소년예술단', '피바다가극단', '혁명승리기념관',\n",
       "       '호위사령부', '화학공장건설연합기업소', '황주군구포협동농장', '황해제철연합기업소', '후방군관학교',\n",
       "       '희천기계공장', '희천정밀기계공장'], dtype=object)"
      ]
     },
     "execution_count": 128,
     "metadata": {},
     "output_type": "execute_result"
    }
   ],
   "source": [
    "jeongsu.PrimaryInstitution.unique()"
   ]
  },
  {
   "cell_type": "code",
   "execution_count": 129,
   "id": "d0bb3650",
   "metadata": {},
   "outputs": [],
   "source": [
    "# export tables\n",
    "jacob.to_excel(path_tables + \"position_rank_jacob.xlsx\",index=True)\n",
    "esther.to_excel(path_tables + \"position_rank_esther.xlsx\",index=True)\n",
    "jeongsu.to_excel(path_tables + \"position_rank_jeongsu.xlsx\",index=True)"
   ]
  },
  {
   "cell_type": "code",
   "execution_count": null,
   "id": "f614e40f",
   "metadata": {},
   "outputs": [],
   "source": []
  },
  {
   "cell_type": "code",
   "execution_count": null,
   "id": "9e3510f1",
   "metadata": {},
   "outputs": [],
   "source": []
  }
 ],
 "metadata": {
  "kernelspec": {
   "display_name": "Python 3 (ipykernel)",
   "language": "python",
   "name": "python3"
  },
  "language_info": {
   "codemirror_mode": {
    "name": "ipython",
    "version": 3
   },
   "file_extension": ".py",
   "mimetype": "text/x-python",
   "name": "python",
   "nbconvert_exporter": "python",
   "pygments_lexer": "ipython3",
   "version": "3.11.0"
  }
 },
 "nbformat": 4,
 "nbformat_minor": 5
}
