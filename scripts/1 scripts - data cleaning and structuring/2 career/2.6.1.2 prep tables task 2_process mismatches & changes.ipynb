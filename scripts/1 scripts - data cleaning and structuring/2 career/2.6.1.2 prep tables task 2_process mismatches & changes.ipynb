{
 "cells": [
  {
   "cell_type": "code",
   "execution_count": 1,
   "id": "74698cf3",
   "metadata": {},
   "outputs": [],
   "source": [
    "import pandas as pd\n",
    "import numpy as np"
   ]
  },
  {
   "cell_type": "markdown",
   "id": "31428185",
   "metadata": {},
   "source": [
    "# Tables\n",
    "\n",
    "### 1. LeaderCareerLink (LeaderID, CareerString, CareerDateString_2022)\n",
    "\n",
    "matches LeaderID with (CareerString, CareerDateString_2022)\n",
    "\n",
    "- LeaderID\n",
    "- CareerString\n",
    "- CareerDateString_2022\n",
    "\n",
    "### 2. CareerOrgLink (CareerString, CareerDateString_2022, CareerSubstring)\n",
    "\n",
    "matches (CareerString,CareerDateString_2022,CareerSubstring) with (InstitutionType,PrimaryInstitution,OrgName,Position)\n",
    "\n",
    "- CareerString\n",
    "- CareerDateString_2022\n",
    "- IsJob\n",
    "- MultipleSubstrings\n",
    "- CareerStartYear\n",
    "- CareerStartMonth\n",
    "- CareerSubstring\n",
    "- OrgString\n",
    "- InstitutionType\n",
    "- PrimaryInstitution\n",
    "- OrgName\n",
    "- Position\n",
    "- Notes\n",
    "\n",
    "### 3. Orgtree (InstitutionType, PrimaryInstitution, OrgName)*\n",
    "\n",
    "contains variables relevant to all (PI, Org) including PI/Org Types, Positions, Org/Pos Ranks, PI/Org Links, Aliases\n",
    "\n",
    "- InstitutionType\n",
    "- OrgType\n",
    "- PrimaryInstitution\n",
    "- OrgName\n",
    "- PI_Index\n",
    "- OrgRank\n",
    "- P1\n",
    "- P2\n",
    "- P3\n",
    "- LinkToNext_PI\n",
    "- LinkToNext_Org\n",
    "- LinkToNext_Year\n",
    "- Alias_OrgName\n",
    "- Notes"
   ]
  },
  {
   "cell_type": "code",
   "execution_count": 2,
   "id": "f2c9c339",
   "metadata": {},
   "outputs": [],
   "source": [
    "path_tables = \"C:/Users/seoul/Dropbox/00 technical/github/nkelites/data/combined data/combined data - 2 tables/\""
   ]
  },
  {
   "cell_type": "code",
   "execution_count": 3,
   "id": "1c1ab934",
   "metadata": {},
   "outputs": [],
   "source": [
    "# current tables\n",
    "filename_careerorglink = \"careerorglink.xlsx\"\n",
    "filename_leadercareerlink = \"leadercareerlink.xlsx\"\n",
    "filename_orgtree = \"orgtree.xlsx\""
   ]
  },
  {
   "cell_type": "code",
   "execution_count": 4,
   "id": "f86d0874",
   "metadata": {},
   "outputs": [],
   "source": [
    "# deprecated tables\n",
    "# filename_careers = \"careers.xlsx\"\n",
    "# filename_leaderjoblink = \"leaderjoblink.xlsx\"\n",
    "# filename_joborglink = \"joborglink.xlsx\""
   ]
  },
  {
   "cell_type": "markdown",
   "id": "c2a10c37",
   "metadata": {},
   "source": [
    "# Data - initial orgtree + manually cleaned data in 2.7 orgtree position & rank"
   ]
  },
  {
   "cell_type": "code",
   "execution_count": 5,
   "id": "a9386ddd",
   "metadata": {},
   "outputs": [],
   "source": [
    "path_cleaning = \"C:/Users/seoul/Dropbox/00 technical/github/nkelites/data/combined data/combined data - 1 cleaning/cleaning step 2 - career/\""
   ]
  },
  {
   "cell_type": "code",
   "execution_count": 6,
   "id": "ea8288fa",
   "metadata": {},
   "outputs": [],
   "source": [
    "subpath_2_1 = \"2.1 career_undivided_unparsed_uncoded/\"\n",
    "subpath_2_2 = \"2.2 career_divided_unparsed_uncoded/\"\n",
    "subpath_2_3 = \"2.3 joborglink/\"\n",
    "subpath_2_4 = \"2.4 orgtree/\"\n",
    "subpath_2_5 = \"2.5 position/\"\n",
    "subpath_2_6 = \"2.6 career_reassembled/\"\n",
    "subpath_2_7 = \"2.7 orgtree position & rank/\""
   ]
  },
  {
   "cell_type": "code",
   "execution_count": 7,
   "id": "5e826908",
   "metadata": {},
   "outputs": [
    {
     "data": {
      "text/plain": [
       "(9002, 13)"
      ]
     },
     "execution_count": 7,
     "metadata": {},
     "output_type": "execute_result"
    }
   ],
   "source": [
    "# 2.1 careerorglink.xlsx\n",
    "filename_careerorglink_old = \"2.1 careerorglink.xlsx\"\n",
    "col = pd.read_excel(path_cleaning + subpath_2_7 + filename_careerorglink_old,dtype=\"str\")\n",
    "col.shape"
   ]
  },
  {
   "cell_type": "code",
   "execution_count": 8,
   "id": "91e9a4b7",
   "metadata": {},
   "outputs": [
    {
     "data": {
      "text/html": [
       "<div>\n",
       "<style scoped>\n",
       "    .dataframe tbody tr th:only-of-type {\n",
       "        vertical-align: middle;\n",
       "    }\n",
       "\n",
       "    .dataframe tbody tr th {\n",
       "        vertical-align: top;\n",
       "    }\n",
       "\n",
       "    .dataframe thead th {\n",
       "        text-align: right;\n",
       "    }\n",
       "</style>\n",
       "<table border=\"1\" class=\"dataframe\">\n",
       "  <thead>\n",
       "    <tr style=\"text-align: right;\">\n",
       "      <th></th>\n",
       "      <th>CareerString</th>\n",
       "      <th>CareerDateString_2022</th>\n",
       "      <th>IsJob</th>\n",
       "      <th>MultipleSubstrings</th>\n",
       "      <th>CareerStartYear</th>\n",
       "      <th>CareerStartMonth</th>\n",
       "      <th>CareerSubstring</th>\n",
       "      <th>OrgString</th>\n",
       "      <th>InstitutionType</th>\n",
       "      <th>PrimaryInstitution</th>\n",
       "      <th>OrgName</th>\n",
       "      <th>Position</th>\n",
       "      <th>Notes</th>\n",
       "    </tr>\n",
       "  </thead>\n",
       "  <tbody>\n",
       "  </tbody>\n",
       "</table>\n",
       "</div>"
      ],
      "text/plain": [
       "Empty DataFrame\n",
       "Columns: [CareerString, CareerDateString_2022, IsJob, MultipleSubstrings, CareerStartYear, CareerStartMonth, CareerSubstring, OrgString, InstitutionType, PrimaryInstitution, OrgName, Position, Notes]\n",
       "Index: []"
      ]
     },
     "execution_count": 8,
     "metadata": {},
     "output_type": "execute_result"
    }
   ],
   "source": [
    "col[col[\"CareerString\"].isna()]"
   ]
  },
  {
   "cell_type": "code",
   "execution_count": 9,
   "id": "83143cac",
   "metadata": {},
   "outputs": [
    {
     "data": {
      "text/plain": [
       "(2267, 23)"
      ]
     },
     "execution_count": 9,
     "metadata": {},
     "output_type": "execute_result"
    }
   ],
   "source": [
    "# 1.1 orgtree_position_rank\n",
    "\n",
    "# constructing new file from:\n",
    "## 2022 북한_기관별_인명록_북한정보포털 게재용\n",
    "## orgtree table\n",
    "\n",
    "filein_orgtree_old = \"1.1 orgtree_position_rank.xlsx\"\n",
    "opr = pd.read_excel(path_cleaning + subpath_2_7 + filein_orgtree_old,dtype=\"str\")\n",
    "opr.shape"
   ]
  },
  {
   "cell_type": "code",
   "execution_count": 10,
   "id": "3ffea89a",
   "metadata": {},
   "outputs": [
    {
     "data": {
      "text/html": [
       "<div>\n",
       "<style scoped>\n",
       "    .dataframe tbody tr th:only-of-type {\n",
       "        vertical-align: middle;\n",
       "    }\n",
       "\n",
       "    .dataframe tbody tr th {\n",
       "        vertical-align: top;\n",
       "    }\n",
       "\n",
       "    .dataframe thead th {\n",
       "        text-align: right;\n",
       "    }\n",
       "</style>\n",
       "<table border=\"1\" class=\"dataframe\">\n",
       "  <thead>\n",
       "    <tr style=\"text-align: right;\">\n",
       "      <th></th>\n",
       "      <th>InsideGov</th>\n",
       "      <th>InstitutionType</th>\n",
       "      <th>OrgType</th>\n",
       "      <th>PrimaryInstitution</th>\n",
       "      <th>OrgName</th>\n",
       "      <th>PI_Index</th>\n",
       "      <th>OrgRank</th>\n",
       "      <th>P1</th>\n",
       "      <th>P2</th>\n",
       "      <th>P3</th>\n",
       "      <th>...</th>\n",
       "      <th>Notes</th>\n",
       "      <th>L1_Index</th>\n",
       "      <th>L2_Index</th>\n",
       "      <th>L3_Index</th>\n",
       "      <th>L4_Index</th>\n",
       "      <th>L5_Index</th>\n",
       "      <th>Change_InstitutionType</th>\n",
       "      <th>Change_PI</th>\n",
       "      <th>Change_OrgName</th>\n",
       "      <th>Alias_OrgName</th>\n",
       "    </tr>\n",
       "  </thead>\n",
       "  <tbody>\n",
       "    <tr>\n",
       "      <th>0</th>\n",
       "      <td>1</td>\n",
       "      <td>인민군</td>\n",
       "      <td>NaN</td>\n",
       "      <td>총참모부</td>\n",
       "      <td>김일성군사종합대학</td>\n",
       "      <td>11.201.0.0</td>\n",
       "      <td>2</td>\n",
       "      <td>NaN</td>\n",
       "      <td>NaN</td>\n",
       "      <td>NaN</td>\n",
       "      <td>...</td>\n",
       "      <td>NaN</td>\n",
       "      <td>11</td>\n",
       "      <td>3</td>\n",
       "      <td>201</td>\n",
       "      <td>0</td>\n",
       "      <td>0</td>\n",
       "      <td>인민군</td>\n",
       "      <td>김일성군사종합대학</td>\n",
       "      <td>NaN</td>\n",
       "      <td>NaN</td>\n",
       "    </tr>\n",
       "    <tr>\n",
       "      <th>1</th>\n",
       "      <td>1</td>\n",
       "      <td>인민군</td>\n",
       "      <td>NaN</td>\n",
       "      <td>호위사령부</td>\n",
       "      <td>평양방어사령부</td>\n",
       "      <td>11.0.0.0</td>\n",
       "      <td>2</td>\n",
       "      <td>NaN</td>\n",
       "      <td>NaN</td>\n",
       "      <td>NaN</td>\n",
       "      <td>...</td>\n",
       "      <td>NaN</td>\n",
       "      <td>11</td>\n",
       "      <td>8</td>\n",
       "      <td>201</td>\n",
       "      <td>0</td>\n",
       "      <td>0</td>\n",
       "      <td>인민군</td>\n",
       "      <td>제91수도방어군단</td>\n",
       "      <td>NaN</td>\n",
       "      <td>NaN</td>\n",
       "    </tr>\n",
       "  </tbody>\n",
       "</table>\n",
       "<p>2 rows × 23 columns</p>\n",
       "</div>"
      ],
      "text/plain": [
       "  InsideGov InstitutionType OrgType PrimaryInstitution    OrgName    PI_Index  \\\n",
       "0         1             인민군     NaN               총참모부  김일성군사종합대학  11.201.0.0   \n",
       "1         1             인민군     NaN              호위사령부    평양방어사령부    11.0.0.0   \n",
       "\n",
       "  OrgRank   P1   P2   P3  ... Notes L1_Index L2_Index L3_Index L4_Index  \\\n",
       "0       2  NaN  NaN  NaN  ...   NaN       11        3      201        0   \n",
       "1       2  NaN  NaN  NaN  ...   NaN       11        8      201        0   \n",
       "\n",
       "  L5_Index Change_InstitutionType  Change_PI Change_OrgName Alias_OrgName  \n",
       "0        0                    인민군  김일성군사종합대학            NaN           NaN  \n",
       "1        0                    인민군  제91수도방어군단            NaN           NaN  \n",
       "\n",
       "[2 rows x 23 columns]"
      ]
     },
     "execution_count": 10,
     "metadata": {},
     "output_type": "execute_result"
    }
   ],
   "source": [
    "opr.head(2)"
   ]
  },
  {
   "cell_type": "code",
   "execution_count": 11,
   "id": "614bfa3a",
   "metadata": {},
   "outputs": [],
   "source": [
    "# orgtree_copy\n",
    "\n",
    "# copy of orgtree table\n",
    "\n",
    "# filein_ot = \"orgtree_copy.xlsx\"\n",
    "# ot = pd.read_excel(path_cleaning + subpath_2_7 + filein_ot,dtype=\"str\")\n",
    "# ot.shape"
   ]
  },
  {
   "cell_type": "code",
   "execution_count": 12,
   "id": "f220092e",
   "metadata": {},
   "outputs": [
    {
     "data": {
      "text/plain": [
       "(2245, 15)"
      ]
     },
     "execution_count": 12,
     "metadata": {},
     "output_type": "execute_result"
    }
   ],
   "source": [
    "filename_mismatch_old = \"2.1 mismatch_통합.xlsx\"\n",
    "m = pd.read_excel(path_cleaning + subpath_2_7 + filename_mismatch_old,dtype=\"str\")\n",
    "m.shape"
   ]
  },
  {
   "cell_type": "code",
   "execution_count": 13,
   "id": "273b64d9",
   "metadata": {},
   "outputs": [
    {
     "data": {
      "text/html": [
       "<div>\n",
       "<style scoped>\n",
       "    .dataframe tbody tr th:only-of-type {\n",
       "        vertical-align: middle;\n",
       "    }\n",
       "\n",
       "    .dataframe tbody tr th {\n",
       "        vertical-align: top;\n",
       "    }\n",
       "\n",
       "    .dataframe thead th {\n",
       "        text-align: right;\n",
       "    }\n",
       "</style>\n",
       "<table border=\"1\" class=\"dataframe\">\n",
       "  <thead>\n",
       "    <tr style=\"text-align: right;\">\n",
       "      <th></th>\n",
       "      <th>CareerString</th>\n",
       "      <th>CareerStartYear</th>\n",
       "      <th>MultipleSubstrings</th>\n",
       "      <th>CareerSubstring</th>\n",
       "      <th>IsJob</th>\n",
       "      <th>InstitutionType</th>\n",
       "      <th>PrimaryInstitution</th>\n",
       "      <th>OrgName</th>\n",
       "      <th>Position</th>\n",
       "      <th>LinkToNext_Year</th>\n",
       "      <th>Resolution</th>\n",
       "      <th>Change_PI</th>\n",
       "      <th>Change_OrgName</th>\n",
       "      <th>Change_Position</th>\n",
       "      <th>Notes</th>\n",
       "    </tr>\n",
       "  </thead>\n",
       "  <tbody>\n",
       "    <tr>\n",
       "      <th>0</th>\n",
       "      <td>유엔 주재 대표부 1등서기관</td>\n",
       "      <td>1975</td>\n",
       "      <td>1</td>\n",
       "      <td>NaN</td>\n",
       "      <td>True</td>\n",
       "      <td>정권기관</td>\n",
       "      <td>내각</td>\n",
       "      <td>외무성_유엔대표부</td>\n",
       "      <td>1등서기관</td>\n",
       "      <td>Current</td>\n",
       "      <td>3. OrgName &amp; Position ok. Add Position to P3</td>\n",
       "      <td>NaN</td>\n",
       "      <td>NaN</td>\n",
       "      <td>NaN</td>\n",
       "      <td>NaN</td>\n",
       "    </tr>\n",
       "    <tr>\n",
       "      <th>1</th>\n",
       "      <td>1975.10 유엔주재 북한대표부 1등서기관</td>\n",
       "      <td>1975</td>\n",
       "      <td>1</td>\n",
       "      <td>NaN</td>\n",
       "      <td>True</td>\n",
       "      <td>정권기관</td>\n",
       "      <td>내각</td>\n",
       "      <td>외무성_유엔대표부</td>\n",
       "      <td>1등서기관</td>\n",
       "      <td>Current</td>\n",
       "      <td>3. OrgName &amp; Position ok. Add Position to P3</td>\n",
       "      <td>NaN</td>\n",
       "      <td>NaN</td>\n",
       "      <td>NaN</td>\n",
       "      <td>NaN</td>\n",
       "    </tr>\n",
       "  </tbody>\n",
       "</table>\n",
       "</div>"
      ],
      "text/plain": [
       "               CareerString CareerStartYear MultipleSubstrings  \\\n",
       "0           유엔 주재 대표부 1등서기관            1975                  1   \n",
       "1  1975.10 유엔주재 북한대표부 1등서기관            1975                  1   \n",
       "\n",
       "  CareerSubstring IsJob InstitutionType PrimaryInstitution    OrgName  \\\n",
       "0             NaN  True            정권기관                 내각  외무성_유엔대표부   \n",
       "1             NaN  True            정권기관                 내각  외무성_유엔대표부   \n",
       "\n",
       "  Position LinkToNext_Year                                    Resolution  \\\n",
       "0    1등서기관         Current  3. OrgName & Position ok. Add Position to P3   \n",
       "1    1등서기관         Current  3. OrgName & Position ok. Add Position to P3   \n",
       "\n",
       "  Change_PI Change_OrgName Change_Position Notes  \n",
       "0       NaN            NaN             NaN   NaN  \n",
       "1       NaN            NaN             NaN   NaN  "
      ]
     },
     "execution_count": 13,
     "metadata": {},
     "output_type": "execute_result"
    }
   ],
   "source": [
    "m.head(2)"
   ]
  },
  {
   "cell_type": "markdown",
   "id": "1c8c6302",
   "metadata": {},
   "source": [
    "# Functions: format orgtree"
   ]
  },
  {
   "cell_type": "code",
   "execution_count": 14,
   "id": "3b85b568",
   "metadata": {},
   "outputs": [],
   "source": [
    "# using this on (PI,OrgName) will ensure unique & non-null keys\n",
    "# using this on a larger df will ensure unique rows and non-null keys, but not unique keys\n",
    "\n",
    "def unique_non_null_rows(olddf):\n",
    "    \n",
    "    df = olddf.copy()\n",
    "    \n",
    "    \n",
    "    ### drop duplicates\n",
    "    df = df.drop_duplicates(keep=\"first\",ignore_index=True)\n",
    "\n",
    "    ### drop null rows\n",
    "    df.dropna(how=\"all\",axis=0,inplace=True)\n",
    "    \n",
    "    # drop rows with null PI\n",
    "    df = df[~(df[\"PrimaryInstitution\"].isna())]\n",
    "        \n",
    "    ### drop rows where PI contains stop words\n",
    "    stop_words_lower = [\"uncertain\",\"current\",\"deprecated\",\"please_revise\"]\n",
    "    df = df[ ~ df[\"PrimaryInstitution\"].str.lower().isin(stop_words_lower)]\n",
    "            \n",
    "\n",
    "    print(\"\\nUnique Non-null Rows...\")\n",
    "    print(\"\")\n",
    "    print(\"\\tNon-unique rows:\",olddf.shape)\n",
    "    print(\"\\tUnique rows    :\",df.shape)\n",
    "\n",
    "    ### sort\n",
    "    df = df.sort_values([\"PrimaryInstitution\",\"OrgName\"])\n",
    "    \n",
    "    return df"
   ]
  },
  {
   "cell_type": "code",
   "execution_count": 15,
   "id": "9e7c6ad4",
   "metadata": {},
   "outputs": [],
   "source": [
    "def verify_unique_rows(df):\n",
    "    \n",
    "    key_columns = [\"PrimaryInstitution\",\"OrgName\"]\n",
    "    print(\"\\nVerifying Unique Rows...\")\n",
    "    print(\"\")\n",
    "    print(\"\\tDuplicate Rows:\",df[df.duplicated(keep=False)].shape)\n",
    "    print(\"\\tDuplicate Keys:\",df[df.duplicated(key_columns,keep=False)].shape)\n",
    "    print(\"\\tNull Rows     :\",df[df[\"PrimaryInstitution\"].isna() & df[\"OrgName\"].isna()].shape)"
   ]
  },
  {
   "cell_type": "code",
   "execution_count": 16,
   "id": "118e1cab",
   "metadata": {},
   "outputs": [],
   "source": [
    "def merge_results(m):\n",
    "    \n",
    "    print(\"\\nMerge Results...\")\n",
    "    print(\"\")\n",
    "    print(\"\\tshape     :\",m.shape)\n",
    "    print(\"\\tleft_only :\",m[m[\"_merge\"]==\"left_only\"].shape)\n",
    "    print(\"\\tboth      :\",m[m[\"_merge\"]==\"both\"].shape)\n",
    "    print(\"\\tright_only:\",m[m[\"_merge\"]==\"right_only\"].shape)"
   ]
  },
  {
   "cell_type": "code",
   "execution_count": 17,
   "id": "cebce4e4",
   "metadata": {},
   "outputs": [],
   "source": [
    "def update_opr_index(opr,max_level):\n",
    "    \n",
    "    # create and clear out existing Level Indicies\n",
    "    opr[\"OrgRank\"]=np.nan\n",
    "    opr[\"L1_Index\"]=np.nan\n",
    "    opr[\"L2_Index\"]=np.nan\n",
    "    opr[\"L3_Index\"]=np.nan\n",
    "    opr[\"L4_Index\"]=np.nan\n",
    "    opr[\"L5_Index\"]=np.nan\n",
    "    \n",
    "    # pad PI_Index with missing 0s up to the deepest level (4 or 5?)\n",
    "    opr[\"PI_Index\"] = opr.apply(lambda x: str(x[\"PI_Index\"]) + ((max_level-1)-str(x[\"PI_Index\"]).count(\".\")) * \".0\",axis=1)\n",
    "    \n",
    "    # calculate OrgRank\n",
    "    opr[\"OrgRank\"] = opr.apply(lambda x: (max_level-1) - str(x[\"PI_Index\"]).count(\".0\"),axis=1)\n",
    "    \n",
    "    # populate Level Indices using PI_Index\n",
    "    opr.loc[opr[\"PI_Index\"].notna(),\"L1_Index\"] = opr.loc[opr[\"PI_Index\"].notna()].apply(lambda x: str(x[\"PI_Index\"]).split(\".\")[0],axis=1)\n",
    "    opr.loc[opr[\"PI_Index\"].notna(),\"L2_Index\"] = opr.loc[opr[\"PI_Index\"].notna()].apply(lambda x: str(x[\"PI_Index\"]).split(\".\")[1],axis=1)\n",
    "    opr.loc[opr[\"PI_Index\"].notna(),\"L3_Index\"] = opr.loc[opr[\"PI_Index\"].notna()].apply(lambda x: str(x[\"PI_Index\"]).split(\".\")[2],axis=1)\n",
    "    opr.loc[opr[\"PI_Index\"].notna(),\"L4_Index\"] = opr.loc[opr[\"PI_Index\"].notna()].apply(lambda x: str(x[\"PI_Index\"]).split(\".\")[3],axis=1)\n",
    "    opr.loc[opr[\"PI_Index\"].notna(),\"L5_Index\"] = opr.loc[opr[\"PI_Index\"].notna()].apply(lambda x: str(x[\"PI_Index\"]).split(\".\")[4],axis=1)\n",
    "\n",
    "    # sort by Level1, Level2, Level3\n",
    "    sort_columns = [\"L1_Index\",\"L2_Index\",\"L3_Index\",\"L4_Index\",\"L5_Index\"]\n",
    "    #opr.L1_Index.astype(int,errors=\"ignore\")\n",
    "    #opr.L2_Index.astype(int,errors=\"ignore\")\n",
    "    #opr.L3_Index.astype(int,errors=\"ignore\")\n",
    "    opr.sort_values(sort_columns,inplace=True)\n",
    "    \n",
    "    return opr"
   ]
  },
  {
   "cell_type": "code",
   "execution_count": 18,
   "id": "77dddaf1",
   "metadata": {},
   "outputs": [],
   "source": [
    "# opr = update_opr_index(opr,5)"
   ]
  },
  {
   "cell_type": "code",
   "execution_count": 19,
   "id": "7f7aedb0",
   "metadata": {},
   "outputs": [],
   "source": [
    "# export opr\n",
    "\n",
    "# fileout_opr = \"1.0 orgtree_position_rank.xlsx\"\n",
    "# opr.to_excel(path_cleaning + subpath_2_7 + fileout_opr,index=False)"
   ]
  },
  {
   "cell_type": "markdown",
   "id": "9058cf44",
   "metadata": {},
   "source": [
    "# Recall from earlier cleaning\n",
    "\n",
    "#### Three Cases of  OrgName in NK elite career data\n",
    "\n",
    "- Case 0: OrgName in 기관별인명록: code these from 1-199\n",
    "- Case 1: OrgName not in 기관별인명록, but contained in data AND LinkToNext_Year not current: code as 500+\n",
    "- Case 2: OrgName not in 기관별인명록, but contained in data AND LinkToNext_Year is current: code as 200+\n",
    "\n",
    "#### Case 0: OrgName in 기관별인명록\n",
    "\n",
    "- Update 1.0 orgtree_position_rank with OrgName in 기관별인명록\n",
    "- Code these from 1-199\n",
    "- Run above routine # 1. orgtree_position_rank: update all besides 노동당, 내각, 정무원\n",
    "    - to update opr & pr_else3\n",
    "- Proceed to Cases 1 & 2\n",
    "\n",
    "#### Resolve. Validation values for resolving null Position_3P\n",
    "\n",
    "1. OrgName & Position ok. Add Position to P1\n",
    "2. OrgName & Position ok. Add Position to P2\n",
    "3. OrgName & Position ok. Add Position to P3\n",
    "4. Change_OrgName and/or Change_Position\n",
    "5. Uncertain OrgName\n",
    "6. Uncertain Position\n",
    "7. NotJob\n",
    "8. Multiple CareerSubstring\n",
    "9. Other - see Notes"
   ]
  },
  {
   "cell_type": "markdown",
   "id": "16e9b179",
   "metadata": {},
   "source": [
    "# Task 1. Prep & Merge Mismatch\n",
    "\n",
    "- NotJob\n",
    "    - careers: change IsJob from True to False\n",
    "    - m: remove rows \n",
    "    - opr: NA\n",
    "  \n",
    "- MultipleSubstrings\n",
    "    - careers: expand rows\n",
    "    - m: expand rows and code\n",
    "    - opr: NA\n",
    "    \n",
    "- Merge mismatch files"
   ]
  },
  {
   "cell_type": "markdown",
   "id": "a88ecdda",
   "metadata": {},
   "source": [
    "# Task 2. Edit & Validate PI, OrgName, Type, Index\n",
    "\n",
    "### Step 0. Uncertain OrgName & Position\n",
    "    - careerorglink: alter OrgName, Position to Uncertain\n",
    "    - mismatches: remove rows containing uncertain OrgName & Position \n",
    "    - opr: NA"
   ]
  },
  {
   "cell_type": "code",
   "execution_count": 20,
   "id": "e972e38e",
   "metadata": {},
   "outputs": [
    {
     "data": {
      "text/plain": [
       "(2245, 15)"
      ]
     },
     "execution_count": 20,
     "metadata": {},
     "output_type": "execute_result"
    }
   ],
   "source": [
    "m.shape"
   ]
  },
  {
   "cell_type": "code",
   "execution_count": 21,
   "id": "e5e0f3ee",
   "metadata": {},
   "outputs": [
    {
     "data": {
      "text/plain": [
       "(8, 15)"
      ]
     },
     "execution_count": 21,
     "metadata": {},
     "output_type": "execute_result"
    }
   ],
   "source": [
    "m[m[\"Resolution\"]==\"5. Uncertain OrgName\"].shape"
   ]
  },
  {
   "cell_type": "code",
   "execution_count": 22,
   "id": "59aa75ff",
   "metadata": {},
   "outputs": [
    {
     "data": {
      "text/plain": [
       "(12, 15)"
      ]
     },
     "execution_count": 22,
     "metadata": {},
     "output_type": "execute_result"
    }
   ],
   "source": [
    "m[m[\"Resolution\"]==\"6. Uncertain Position\"].shape"
   ]
  },
  {
   "cell_type": "code",
   "execution_count": 23,
   "id": "55405342",
   "metadata": {},
   "outputs": [
    {
     "name": "stdout",
     "output_type": "stream",
     "text": [
      "(8, 15)\n",
      "(12, 15)\n",
      "(2225, 15)\n"
     ]
    }
   ],
   "source": [
    "m_no_org = m[m[\"Resolution\"]==\"5. Uncertain OrgName\"]\n",
    "m_no_pos = m[m[\"Resolution\"]==\"6. Uncertain Position\"]\n",
    "m1 = m[~(m[\"Resolution\"]==\"5. Uncertain OrgName\") & ~(m[\"Resolution\"]==\"6. Uncertain Position\")]\n",
    "print(m_no_org.shape)\n",
    "print(m_no_pos.shape)\n",
    "print(m1.shape)"
   ]
  },
  {
   "cell_type": "code",
   "execution_count": 24,
   "id": "330bff55",
   "metadata": {},
   "outputs": [
    {
     "name": "stdout",
     "output_type": "stream",
     "text": [
      "\n",
      "Merge Results...\n",
      "\n",
      "\tshape     : (9002, 14)\n",
      "\tleft_only : (8994, 14)\n",
      "\tboth      : (8, 14)\n",
      "\tright_only: (0, 14)\n"
     ]
    }
   ],
   "source": [
    "# for 5. Uncertain OrgName, mark OrgName as Uncertain\n",
    "\n",
    "key_columns = ['CareerString', 'CareerStartYear','CareerSubstring']\n",
    "col1 = col.merge(m_no_org[key_columns],on=key_columns,how=\"left\",indicator=True)\n",
    "merge_results(col1)"
   ]
  },
  {
   "cell_type": "code",
   "execution_count": 25,
   "id": "e1b46207",
   "metadata": {},
   "outputs": [],
   "source": [
    "col1.loc[col1[\"_merge\"]==\"both\",\"OrgName\"]=\"UNCERTAIN\""
   ]
  },
  {
   "cell_type": "code",
   "execution_count": 26,
   "id": "8ca6af1b",
   "metadata": {},
   "outputs": [],
   "source": [
    "col1.drop(columns=[\"_merge\"],inplace=True)"
   ]
  },
  {
   "cell_type": "code",
   "execution_count": 27,
   "id": "a5e93f98",
   "metadata": {},
   "outputs": [
    {
     "name": "stdout",
     "output_type": "stream",
     "text": [
      "\n",
      "Merge Results...\n",
      "\n",
      "\tshape     : (9002, 14)\n",
      "\tleft_only : (8990, 14)\n",
      "\tboth      : (12, 14)\n",
      "\tright_only: (0, 14)\n"
     ]
    }
   ],
   "source": [
    "# for 6. Uncertain Position, mark Position as Uncertain\n",
    "\n",
    "key_columns = ['CareerString', 'CareerStartYear','CareerSubstring']\n",
    "col2 = col1.merge(m_no_pos[key_columns],on=key_columns,how=\"left\",indicator=True)\n",
    "merge_results(col2)"
   ]
  },
  {
   "cell_type": "code",
   "execution_count": 28,
   "id": "042def2e",
   "metadata": {},
   "outputs": [],
   "source": [
    "col2.loc[col2[\"_merge\"]==\"both\",\"Position\"]=\"UNCERTAIN\""
   ]
  },
  {
   "cell_type": "code",
   "execution_count": 29,
   "id": "4ba3416b",
   "metadata": {},
   "outputs": [],
   "source": [
    "col2.drop(columns=[\"_merge\"],inplace=True)"
   ]
  },
  {
   "cell_type": "code",
   "execution_count": 30,
   "id": "d3d1d3c2",
   "metadata": {},
   "outputs": [
    {
     "data": {
      "text/plain": [
       "(17, 13)"
      ]
     },
     "execution_count": 30,
     "metadata": {},
     "output_type": "execute_result"
    }
   ],
   "source": [
    "# check uncertain positions\n",
    "col2[col2[\"Position\"].str.upper()==\"UNCERTAIN\"].shape"
   ]
  },
  {
   "cell_type": "code",
   "execution_count": 31,
   "id": "a9e70e7a",
   "metadata": {},
   "outputs": [
    {
     "data": {
      "text/plain": [
       "(176, 13)"
      ]
     },
     "execution_count": 31,
     "metadata": {},
     "output_type": "execute_result"
    }
   ],
   "source": [
    "# check uncertain orgnames\n",
    "col2[col2[\"OrgName\"].str.upper()==\"UNCERTAIN\"].shape"
   ]
  },
  {
   "cell_type": "code",
   "execution_count": 32,
   "id": "bbf70d0e",
   "metadata": {},
   "outputs": [
    {
     "data": {
      "text/plain": [
       "array(['1. OrgName & Position ok. Add Position to P1',\n",
       "       '2. OrgName & Position ok. Add Position to P2',\n",
       "       '3. OrgName & Position ok. Add Position to P3'], dtype=object)"
      ]
     },
     "execution_count": 32,
     "metadata": {},
     "output_type": "execute_result"
    }
   ],
   "source": [
    "# confirm remaining Resolutions only include Org & Position changes\n",
    "m1.Resolution.sort_values().unique()"
   ]
  },
  {
   "cell_type": "code",
   "execution_count": 33,
   "id": "825be070",
   "metadata": {},
   "outputs": [
    {
     "name": "stdout",
     "output_type": "stream",
     "text": [
      "col2:\t (9002, 13)\n",
      "m1:\t (2225, 15)\n",
      "opr:\t (2267, 23)\n"
     ]
    }
   ],
   "source": [
    "# updated tables\n",
    "print(\"col2:\\t\",col2.shape)\n",
    "print(\"m1:\\t\",m1.shape)\n",
    "print(\"opr:\\t\",opr.shape)"
   ]
  },
  {
   "cell_type": "markdown",
   "id": "6caabe6c",
   "metadata": {},
   "source": [
    "### Logic of Changing PI, OrgName, Position, InstitutionType\n",
    "\n",
    "#### in mismatches, Change_PI, Change_OrgName\n",
    "- indicate that CareerString was coded incorrectly\n",
    "- DO NOT necessarily indicate that the original PI, OrgName pair are incorrect in orgtree\n",
    "\n",
    "#### in orgtree, Change_PI, Change_OrgName\n",
    "- indicate that the PI, OrgName are fundamentally incorrect and should be changed everywhere\n",
    "\n",
    "### therefore, we should \n",
    "\n",
    "#### handle mismatches (Changes, InstitutionType)\n",
    "- Step 1. using mismatches (Change_PI, Change_Org, Change_Pos), edit careerorglink & mismatches (PI, OrgName, Position) \n",
    "- Step 2. for all mismatches (InstitutionType), edit careerorglink & orgtree (InstitutionType)\n",
    "- Step 3. for mismatches (IType, PI, OrgName) not in orgtree, add to orgtree with PI_Index 801\n",
    "\n",
    "####  handle orgtree (Changes, InstitutionType)\n",
    "- Step 4. using orgtree (Change_ x 3), edit careerorglink, mismatches & orgtree (InstitutionType, PI, OrgName)\n",
    "- Step 5. using orgtree, update InstitutionType in col, for those jobs not in mismatch\n",
    "\n",
    "#### handle mismatches (Positions)\n",
    "- Step 6. using mismatches Position, update orgtree P1, P2, P3"
   ]
  },
  {
   "cell_type": "markdown",
   "id": "e69dd5b4",
   "metadata": {},
   "source": [
    "### Step 1. using mismatches (Change_ x3), edit careerorglink & mismatches (PI, OrgName, Position) \n",
    "\n",
    "- careerorglink: Change PI, OrgName, Position\n",
    "- mismatches: Change PI, OrgName, Position\n",
    "- orgtree: NA\n",
    "    - But we will check this later when we compare careerorglink & orgtree and validate (PI,OrgName) pairs."
   ]
  },
  {
   "cell_type": "code",
   "execution_count": 34,
   "id": "abec9a70",
   "metadata": {},
   "outputs": [],
   "source": [
    "#### select mismatches to merge with careerorglink\n",
    "col_key_columns = ['CareerString', 'CareerStartYear','CareerSubstring',\"PrimaryInstitution\",\"OrgName\"]\n",
    "m1_col_columns = col_key_columns + [\"Change_PI\",\"Change_OrgName\",\"Change_Position\"]"
   ]
  },
  {
   "cell_type": "code",
   "execution_count": 35,
   "id": "7d89856d",
   "metadata": {},
   "outputs": [
    {
     "data": {
      "text/plain": [
       "Index(['CareerString', 'CareerStartYear', 'MultipleSubstrings',\n",
       "       'CareerSubstring', 'IsJob', 'InstitutionType', 'PrimaryInstitution',\n",
       "       'OrgName', 'Position', 'LinkToNext_Year', 'Resolution', 'Change_PI',\n",
       "       'Change_OrgName', 'Change_Position', 'Notes'],\n",
       "      dtype='object')"
      ]
     },
     "execution_count": 35,
     "metadata": {},
     "output_type": "execute_result"
    }
   ],
   "source": [
    "m1.columns"
   ]
  },
  {
   "cell_type": "code",
   "execution_count": 36,
   "id": "8aa6c692",
   "metadata": {},
   "outputs": [
    {
     "data": {
      "text/plain": [
       "(852, 15)"
      ]
     },
     "execution_count": 36,
     "metadata": {},
     "output_type": "execute_result"
    }
   ],
   "source": [
    "m1[m1[\"Change_PI\"].notnull()].shape"
   ]
  },
  {
   "cell_type": "code",
   "execution_count": 37,
   "id": "88e96983",
   "metadata": {},
   "outputs": [
    {
     "data": {
      "text/plain": [
       "(553, 15)"
      ]
     },
     "execution_count": 37,
     "metadata": {},
     "output_type": "execute_result"
    }
   ],
   "source": [
    "m1[m1[\"Change_OrgName\"].notnull()].shape"
   ]
  },
  {
   "cell_type": "code",
   "execution_count": 38,
   "id": "633d70e7",
   "metadata": {},
   "outputs": [
    {
     "data": {
      "text/plain": [
       "(0, 15)"
      ]
     },
     "execution_count": 38,
     "metadata": {},
     "output_type": "execute_result"
    }
   ],
   "source": [
    "# Check no Change_OrgName have null Change_PI\n",
    "m1[(m1[\"Change_PI\"].isnull()) & (m1[\"Change_OrgName\"].notnull())].shape"
   ]
  },
  {
   "cell_type": "code",
   "execution_count": 39,
   "id": "2fc1d381",
   "metadata": {},
   "outputs": [
    {
     "data": {
      "text/plain": [
       "(0, 15)"
      ]
     },
     "execution_count": 39,
     "metadata": {},
     "output_type": "execute_result"
    }
   ],
   "source": [
    "# Check no Change_OrgName are UNCERTAIN. These should have already been removed.\n",
    "m1[m1[\"Change_OrgName\"].str.upper()==\"UNCERTAIN\"].shape"
   ]
  },
  {
   "cell_type": "code",
   "execution_count": 40,
   "id": "bac4fb26",
   "metadata": {},
   "outputs": [
    {
     "data": {
      "text/plain": [
       "(816, 8)"
      ]
     },
     "execution_count": 40,
     "metadata": {},
     "output_type": "execute_result"
    }
   ],
   "source": [
    "m1_change = m1.loc[m1[\"Change_PI\"].notnull(),m1_col_columns]\n",
    "m1_change = m1_change.drop_duplicates(keep=\"first\")\n",
    "m1_change.shape"
   ]
  },
  {
   "cell_type": "markdown",
   "id": "c7146431",
   "metadata": {},
   "source": [
    "#### careerorglink: change PI, OrgName, Position"
   ]
  },
  {
   "cell_type": "code",
   "execution_count": 41,
   "id": "b1c4bfe3",
   "metadata": {},
   "outputs": [
    {
     "name": "stdout",
     "output_type": "stream",
     "text": [
      "\n",
      "Merge Results...\n",
      "\n",
      "\tshape     : (9002, 17)\n",
      "\tleft_only : (8179, 17)\n",
      "\tboth      : (823, 17)\n",
      "\tright_only: (0, 17)\n"
     ]
    }
   ],
   "source": [
    "col3 = col2.merge(m1_change,on=col_key_columns,how=\"left\",suffixes=(\"\",\"_m\"),indicator=True)\n",
    "merge_results(col3)"
   ]
  },
  {
   "cell_type": "code",
   "execution_count": 42,
   "id": "fe374c04",
   "metadata": {},
   "outputs": [
    {
     "data": {
      "text/plain": [
       "Index(['CareerString', 'CareerDateString_2022', 'IsJob', 'MultipleSubstrings',\n",
       "       'CareerStartYear', 'CareerStartMonth', 'CareerSubstring', 'OrgString',\n",
       "       'InstitutionType', 'PrimaryInstitution', 'OrgName', 'Position', 'Notes',\n",
       "       'Change_PI', 'Change_OrgName', 'Change_Position', '_merge'],\n",
       "      dtype='object')"
      ]
     },
     "execution_count": 42,
     "metadata": {},
     "output_type": "execute_result"
    }
   ],
   "source": [
    "col3.columns"
   ]
  },
  {
   "cell_type": "code",
   "execution_count": 43,
   "id": "5173d81e",
   "metadata": {},
   "outputs": [
    {
     "data": {
      "text/plain": [
       "Index(['CareerString', 'CareerDateString_2022', 'IsJob', 'MultipleSubstrings',\n",
       "       'CareerStartYear', 'CareerStartMonth', 'CareerSubstring', 'OrgString',\n",
       "       'InstitutionType', 'PrimaryInstitution', 'OrgName', 'Position',\n",
       "       'Notes'],\n",
       "      dtype='object')"
      ]
     },
     "execution_count": 43,
     "metadata": {},
     "output_type": "execute_result"
    }
   ],
   "source": [
    "col2.columns"
   ]
  },
  {
   "cell_type": "code",
   "execution_count": 44,
   "id": "f3ba219e",
   "metadata": {},
   "outputs": [
    {
     "data": {
      "text/plain": [
       "(823, 17)"
      ]
     },
     "execution_count": 44,
     "metadata": {},
     "output_type": "execute_result"
    }
   ],
   "source": [
    "col3[col3.Change_PI.notnull()].shape"
   ]
  },
  {
   "cell_type": "code",
   "execution_count": 45,
   "id": "daf8251c",
   "metadata": {},
   "outputs": [],
   "source": [
    "col3.loc[col3.Change_PI.notnull(),\"PrimaryInstitution\"] = col3.loc[col3.Change_PI.notnull(),\"Change_PI\"]"
   ]
  },
  {
   "cell_type": "code",
   "execution_count": 46,
   "id": "8711f2c4",
   "metadata": {},
   "outputs": [],
   "source": [
    "col3.loc[col3.Change_PI.notnull(),\"OrgName\"] = col3.loc[col3.Change_PI.notnull(),\"Change_OrgName\"]"
   ]
  },
  {
   "cell_type": "code",
   "execution_count": 47,
   "id": "fb6507c6",
   "metadata": {},
   "outputs": [],
   "source": [
    "col3.loc[col3.Change_Position.notnull(),\"Position\"] = col3.loc[col3.Change_Position.notnull(),\"Change_Position\"]"
   ]
  },
  {
   "cell_type": "code",
   "execution_count": 48,
   "id": "79a4ae3d",
   "metadata": {},
   "outputs": [
    {
     "data": {
      "text/plain": [
       "(9002, 13)"
      ]
     },
     "execution_count": 48,
     "metadata": {},
     "output_type": "execute_result"
    }
   ],
   "source": [
    "col3 = col3[col2.columns]\n",
    "col3.shape"
   ]
  },
  {
   "cell_type": "markdown",
   "id": "00f749e2",
   "metadata": {},
   "source": [
    "#### mismatches: change PI, OrgName, Position"
   ]
  },
  {
   "cell_type": "code",
   "execution_count": 49,
   "id": "77395bb1",
   "metadata": {},
   "outputs": [],
   "source": [
    "m2 = m1.copy(deep=True)"
   ]
  },
  {
   "cell_type": "code",
   "execution_count": 50,
   "id": "7e90b279",
   "metadata": {},
   "outputs": [],
   "source": [
    "m2.loc[m2.Change_PI.notnull(),\"PrimaryInstitution\"] = m1.loc[m1.Change_PI.notnull(),\"Change_PI\"]"
   ]
  },
  {
   "cell_type": "code",
   "execution_count": 51,
   "id": "e3e1e526",
   "metadata": {},
   "outputs": [],
   "source": [
    "m2.loc[m2.Change_PI.notnull(),\"OrgName\"] = m1.loc[m1.Change_PI.notnull(),\"Change_OrgName\"]"
   ]
  },
  {
   "cell_type": "code",
   "execution_count": 52,
   "id": "84929ce2",
   "metadata": {},
   "outputs": [],
   "source": [
    "m2.loc[m2.Change_Position.notnull(),\"Position\"] = m1.loc[m1.Change_Position.notnull(),\"Change_Position\"]"
   ]
  },
  {
   "cell_type": "code",
   "execution_count": 53,
   "id": "6b7fdf37",
   "metadata": {},
   "outputs": [
    {
     "data": {
      "text/plain": [
       "Index(['CareerString', 'CareerStartYear', 'MultipleSubstrings',\n",
       "       'CareerSubstring', 'IsJob', 'InstitutionType', 'PrimaryInstitution',\n",
       "       'OrgName', 'Position', 'LinkToNext_Year', 'Resolution', 'Change_PI',\n",
       "       'Change_OrgName', 'Change_Position', 'Notes'],\n",
       "      dtype='object')"
      ]
     },
     "execution_count": 53,
     "metadata": {},
     "output_type": "execute_result"
    }
   ],
   "source": [
    "m2.columns"
   ]
  },
  {
   "cell_type": "code",
   "execution_count": 54,
   "id": "11ffe880",
   "metadata": {},
   "outputs": [],
   "source": [
    "# mismatch: drop Changex3 columns. We've made all necessary changes.\n",
    "m2.drop(columns=[\"Change_PI\",\"Change_OrgName\",\"Change_Position\"],inplace=True)"
   ]
  },
  {
   "cell_type": "code",
   "execution_count": 55,
   "id": "7a0c5456",
   "metadata": {},
   "outputs": [
    {
     "name": "stdout",
     "output_type": "stream",
     "text": [
      "col3:\t (9002, 13)\n",
      "m2:\t (2225, 12)\n",
      "opr:\t (2267, 23)\n"
     ]
    }
   ],
   "source": [
    "# updated tables\n",
    "print(\"col3:\\t\",col3.shape)\n",
    "print(\"m2:\\t\",m2.shape)\n",
    "print(\"opr:\\t\",opr.shape)"
   ]
  },
  {
   "cell_type": "markdown",
   "id": "f7ca2ad9",
   "metadata": {},
   "source": [
    "### Step 2. for all mismatches InstitutionType, edit careerorglink & orgtree InstitutionType \n",
    "\n",
    "- careerorglink: Change InstitutionType\n",
    "- mismatches: NA\n",
    "- orgtree: Change InstitutionType"
   ]
  },
  {
   "cell_type": "markdown",
   "id": "019dc72f",
   "metadata": {},
   "source": [
    "#### select mismatches to merge with careerorglink"
   ]
  },
  {
   "cell_type": "code",
   "execution_count": 56,
   "id": "c5c555d9",
   "metadata": {},
   "outputs": [
    {
     "data": {
      "text/plain": [
       "(2183, 6)"
      ]
     },
     "execution_count": 56,
     "metadata": {},
     "output_type": "execute_result"
    }
   ],
   "source": [
    "col_key_columns = ['CareerString', 'CareerStartYear','CareerSubstring',\"PrimaryInstitution\",\"OrgName\"]\n",
    "m2_col_columns = col_key_columns + [\"InstitutionType\"]\n",
    "m2_merge = m2[m2_col_columns]\n",
    "m2_merge = m2_merge.drop_duplicates(keep=\"first\")\n",
    "m2_merge.shape"
   ]
  },
  {
   "cell_type": "markdown",
   "id": "bd3c63d2",
   "metadata": {},
   "source": [
    "#### careerorglink: change InstitutionType"
   ]
  },
  {
   "cell_type": "code",
   "execution_count": 57,
   "id": "30ac0ee4",
   "metadata": {},
   "outputs": [
    {
     "name": "stdout",
     "output_type": "stream",
     "text": [
      "\n",
      "Merge Results...\n",
      "\n",
      "\tshape     : (9002, 15)\n",
      "\tleft_only : (6804, 15)\n",
      "\tboth      : (2198, 15)\n",
      "\tright_only: (0, 15)\n"
     ]
    }
   ],
   "source": [
    "# merge col3 with m2 (complete & updated mismatches)\n",
    "col4 = col3.merge(m2_merge,on=col_key_columns,how=\"left\",suffixes=(\"\",\"_m\"),indicator=True)\n",
    "merge_results(col4)"
   ]
  },
  {
   "cell_type": "code",
   "execution_count": 58,
   "id": "f99ebc5b",
   "metadata": {},
   "outputs": [
    {
     "data": {
      "text/plain": [
       "Index(['CareerString', 'CareerDateString_2022', 'IsJob', 'MultipleSubstrings',\n",
       "       'CareerStartYear', 'CareerStartMonth', 'CareerSubstring', 'OrgString',\n",
       "       'InstitutionType', 'PrimaryInstitution', 'OrgName', 'Position', 'Notes',\n",
       "       'InstitutionType_m', '_merge'],\n",
       "      dtype='object')"
      ]
     },
     "execution_count": 58,
     "metadata": {},
     "output_type": "execute_result"
    }
   ],
   "source": [
    "col4.columns"
   ]
  },
  {
   "cell_type": "code",
   "execution_count": 59,
   "id": "9fc26f51",
   "metadata": {},
   "outputs": [],
   "source": [
    "col4.loc[col4[\"_merge\"]==\"both\",\"InstitutionType\"] = col4.loc[col4[\"_merge\"]==\"both\",\"InstitutionType_m\"]"
   ]
  },
  {
   "cell_type": "code",
   "execution_count": 60,
   "id": "822c0542",
   "metadata": {},
   "outputs": [
    {
     "data": {
      "text/plain": [
       "(9002, 13)"
      ]
     },
     "execution_count": 60,
     "metadata": {},
     "output_type": "execute_result"
    }
   ],
   "source": [
    "col4 = col4[col3.columns]\n",
    "col4.shape"
   ]
  },
  {
   "cell_type": "markdown",
   "id": "0ab435e0",
   "metadata": {},
   "source": [
    "#### select mismatches to merge with orgtree"
   ]
  },
  {
   "cell_type": "code",
   "execution_count": 61,
   "id": "05bdf4cd",
   "metadata": {},
   "outputs": [
    {
     "data": {
      "text/plain": [
       "(521, 3)"
      ]
     },
     "execution_count": 61,
     "metadata": {},
     "output_type": "execute_result"
    }
   ],
   "source": [
    "opr_key_columns = [\"PrimaryInstitution\",\"OrgName\"]\n",
    "m2_org_columns = opr_key_columns + [\"InstitutionType\"]\n",
    "m2_merge = m2[m2_org_columns]\n",
    "m2_merge = m2_merge.drop_duplicates(keep=\"first\")\n",
    "m2_merge.shape"
   ]
  },
  {
   "cell_type": "markdown",
   "id": "eac81d6e",
   "metadata": {},
   "source": [
    "#### orgtree: change InstitutionType"
   ]
  },
  {
   "cell_type": "code",
   "execution_count": 62,
   "id": "79077559",
   "metadata": {},
   "outputs": [
    {
     "name": "stdout",
     "output_type": "stream",
     "text": [
      "\n",
      "Merge Results...\n",
      "\n",
      "\tshape     : (2267, 25)\n",
      "\tleft_only : (1872, 25)\n",
      "\tboth      : (395, 25)\n",
      "\tright_only: (0, 25)\n"
     ]
    }
   ],
   "source": [
    "# merge opr on m2 (complete & updated mismatches)\n",
    "opr2 = opr.merge(m2_merge,on=opr_key_columns,how=\"left\",suffixes=(\"\",\"_m\"),indicator=True)\n",
    "merge_results(opr2)"
   ]
  },
  {
   "cell_type": "code",
   "execution_count": 63,
   "id": "2036f93a",
   "metadata": {},
   "outputs": [
    {
     "data": {
      "text/plain": [
       "Index(['InsideGov', 'InstitutionType', 'OrgType', 'PrimaryInstitution',\n",
       "       'OrgName', 'PI_Index', 'OrgRank', 'P1', 'P2', 'P3', 'LinkToNext_PI',\n",
       "       'LinkToNext_Org', 'LinkToNext_Year', 'Notes', 'L1_Index', 'L2_Index',\n",
       "       'L3_Index', 'L4_Index', 'L5_Index', 'Change_InstitutionType',\n",
       "       'Change_PI', 'Change_OrgName', 'Alias_OrgName', 'InstitutionType_m',\n",
       "       '_merge'],\n",
       "      dtype='object')"
      ]
     },
     "execution_count": 63,
     "metadata": {},
     "output_type": "execute_result"
    }
   ],
   "source": [
    "opr2.columns"
   ]
  },
  {
   "cell_type": "code",
   "execution_count": 64,
   "id": "5ed45d01",
   "metadata": {},
   "outputs": [],
   "source": [
    "opr2.loc[opr2[\"_merge\"]==\"both\",\"InstitutionType\"] = opr2.loc[opr2[\"_merge\"]==\"both\",\"InstitutionType_m\"]"
   ]
  },
  {
   "cell_type": "code",
   "execution_count": 65,
   "id": "9d77ff1d",
   "metadata": {},
   "outputs": [
    {
     "data": {
      "text/plain": [
       "(2267, 23)"
      ]
     },
     "execution_count": 65,
     "metadata": {},
     "output_type": "execute_result"
    }
   ],
   "source": [
    "opr2 = opr2[opr.columns]\n",
    "opr2.shape"
   ]
  },
  {
   "cell_type": "code",
   "execution_count": 66,
   "id": "7d926bc7",
   "metadata": {},
   "outputs": [
    {
     "data": {
      "text/plain": [
       "Index(['InsideGov', 'InstitutionType', 'OrgType', 'PrimaryInstitution',\n",
       "       'OrgName', 'PI_Index', 'OrgRank', 'P1', 'P2', 'P3', 'LinkToNext_PI',\n",
       "       'LinkToNext_Org', 'LinkToNext_Year', 'Notes', 'L1_Index', 'L2_Index',\n",
       "       'L3_Index', 'L4_Index', 'L5_Index', 'Change_InstitutionType',\n",
       "       'Change_PI', 'Change_OrgName', 'Alias_OrgName'],\n",
       "      dtype='object')"
      ]
     },
     "execution_count": 66,
     "metadata": {},
     "output_type": "execute_result"
    }
   ],
   "source": [
    "opr.columns"
   ]
  },
  {
   "cell_type": "code",
   "execution_count": 67,
   "id": "aa78e1f7",
   "metadata": {},
   "outputs": [
    {
     "name": "stdout",
     "output_type": "stream",
     "text": [
      "col4:\t (9002, 13)\n",
      "m2:\t (2225, 12)\n",
      "opr2:\t (2267, 23)\n"
     ]
    }
   ],
   "source": [
    "# updated tables\n",
    "print(\"col4:\\t\",col4.shape)\n",
    "print(\"m2:\\t\",m2.shape)\n",
    "print(\"opr2:\\t\",opr2.shape)"
   ]
  },
  {
   "cell_type": "markdown",
   "id": "ef6d88a8",
   "metadata": {},
   "source": [
    "### Step 3. for mismatches (IType, PI, OrgName) not in orgtree, add to orgtree with PI_Index 801"
   ]
  },
  {
   "cell_type": "markdown",
   "id": "bb9b19a0",
   "metadata": {},
   "source": [
    "#### orgtree:concat mismatches (IType, PI, OrgName) not in orgtree"
   ]
  },
  {
   "cell_type": "code",
   "execution_count": 68,
   "id": "876ae50f",
   "metadata": {},
   "outputs": [
    {
     "data": {
      "text/plain": [
       "Index(['PrimaryInstitution', 'OrgName', 'InstitutionType'], dtype='object')"
      ]
     },
     "execution_count": 68,
     "metadata": {},
     "output_type": "execute_result"
    }
   ],
   "source": [
    "m2_merge.columns"
   ]
  },
  {
   "cell_type": "code",
   "execution_count": 69,
   "id": "793c05fb",
   "metadata": {},
   "outputs": [
    {
     "data": {
      "text/plain": [
       "Index(['InsideGov', 'InstitutionType', 'OrgType', 'PrimaryInstitution',\n",
       "       'OrgName', 'PI_Index', 'OrgRank', 'P1', 'P2', 'P3', 'LinkToNext_PI',\n",
       "       'LinkToNext_Org', 'LinkToNext_Year', 'Notes', 'L1_Index', 'L2_Index',\n",
       "       'L3_Index', 'L4_Index', 'L5_Index', 'Change_InstitutionType',\n",
       "       'Change_PI', 'Change_OrgName', 'Alias_OrgName'],\n",
       "      dtype='object')"
      ]
     },
     "execution_count": 69,
     "metadata": {},
     "output_type": "execute_result"
    }
   ],
   "source": [
    "opr2.columns"
   ]
  },
  {
   "cell_type": "code",
   "execution_count": 70,
   "id": "58ffce15",
   "metadata": {},
   "outputs": [
    {
     "name": "stdout",
     "output_type": "stream",
     "text": [
      "\n",
      "Merge Results...\n",
      "\n",
      "\tshape     : (2396, 25)\n",
      "\tleft_only : (129, 25)\n",
      "\tboth      : (395, 25)\n",
      "\tright_only: (1872, 25)\n"
     ]
    }
   ],
   "source": [
    "# merge m2_merge with opr2; identify mismatches not contained in opr2\n",
    "m2_concat = m2_merge.merge(opr2,on=opr_key_columns,how=\"outer\",suffixes=(\"\",\"_m\"),indicator=True)\n",
    "merge_results(m2_concat)"
   ]
  },
  {
   "cell_type": "code",
   "execution_count": 71,
   "id": "b936ed4c",
   "metadata": {},
   "outputs": [
    {
     "data": {
      "text/plain": [
       "(129, 25)"
      ]
     },
     "execution_count": 71,
     "metadata": {},
     "output_type": "execute_result"
    }
   ],
   "source": [
    "# the number of new PI, OrgName pairs we'll add to orgtree from mismatches\n",
    "m2_concat = m2_concat[m2_concat[\"_merge\"]==\"left_only\"]\n",
    "m2_concat.shape"
   ]
  },
  {
   "cell_type": "code",
   "execution_count": 72,
   "id": "51991236",
   "metadata": {},
   "outputs": [],
   "source": [
    "m2_concat[\"InsideGov\"]=np.nan"
   ]
  },
  {
   "cell_type": "code",
   "execution_count": 73,
   "id": "1afa2490",
   "metadata": {},
   "outputs": [
    {
     "data": {
      "text/plain": [
       "['InstitutionType_m', '_merge']"
      ]
     },
     "execution_count": 73,
     "metadata": {},
     "output_type": "execute_result"
    }
   ],
   "source": [
    "[item for item in list(m2_concat.columns) if item not in list(opr2.columns)]"
   ]
  },
  {
   "cell_type": "code",
   "execution_count": 74,
   "id": "8f7c5d5e",
   "metadata": {},
   "outputs": [
    {
     "data": {
      "text/plain": [
       "[]"
      ]
     },
     "execution_count": 74,
     "metadata": {},
     "output_type": "execute_result"
    }
   ],
   "source": [
    "[item for item in list(opr2.columns) if item not in list(m2_concat.columns)]"
   ]
  },
  {
   "cell_type": "code",
   "execution_count": 75,
   "id": "35c8da1c",
   "metadata": {},
   "outputs": [
    {
     "data": {
      "text/plain": [
       "Index(['InsideGov', 'InstitutionType', 'OrgType', 'PrimaryInstitution',\n",
       "       'OrgName', 'PI_Index', 'OrgRank', 'P1', 'P2', 'P3', 'LinkToNext_PI',\n",
       "       'LinkToNext_Org', 'LinkToNext_Year', 'Notes', 'L1_Index', 'L2_Index',\n",
       "       'L3_Index', 'L4_Index', 'L5_Index', 'Change_InstitutionType',\n",
       "       'Change_PI', 'Change_OrgName', 'Alias_OrgName'],\n",
       "      dtype='object')"
      ]
     },
     "execution_count": 75,
     "metadata": {},
     "output_type": "execute_result"
    }
   ],
   "source": [
    "opr2.columns"
   ]
  },
  {
   "cell_type": "code",
   "execution_count": 76,
   "id": "192b7f4e",
   "metadata": {},
   "outputs": [
    {
     "data": {
      "text/plain": [
       "(129, 23)"
      ]
     },
     "execution_count": 76,
     "metadata": {},
     "output_type": "execute_result"
    }
   ],
   "source": [
    "m2_concat = m2_concat[opr2.columns]\n",
    "m2_concat.shape"
   ]
  },
  {
   "cell_type": "code",
   "execution_count": 77,
   "id": "ca8208ae",
   "metadata": {},
   "outputs": [
    {
     "data": {
      "text/plain": [
       "array([nan])"
      ]
     },
     "execution_count": 77,
     "metadata": {},
     "output_type": "execute_result"
    }
   ],
   "source": [
    "m2_concat.InsideGov.unique()"
   ]
  },
  {
   "cell_type": "code",
   "execution_count": 78,
   "id": "10258d46",
   "metadata": {},
   "outputs": [
    {
     "data": {
      "text/plain": [
       "array([nan], dtype=object)"
      ]
     },
     "execution_count": 78,
     "metadata": {},
     "output_type": "execute_result"
    }
   ],
   "source": [
    "m2_concat.OrgType.unique()"
   ]
  },
  {
   "cell_type": "code",
   "execution_count": 79,
   "id": "b158e025",
   "metadata": {},
   "outputs": [],
   "source": [
    "# Designate PI_Index as 801. Later I can re-code this.\n",
    "m2_concat[\"PI_Index\"]=\"801.0\""
   ]
  },
  {
   "cell_type": "code",
   "execution_count": 80,
   "id": "ad0103c8",
   "metadata": {},
   "outputs": [
    {
     "data": {
      "text/html": [
       "<div>\n",
       "<style scoped>\n",
       "    .dataframe tbody tr th:only-of-type {\n",
       "        vertical-align: middle;\n",
       "    }\n",
       "\n",
       "    .dataframe tbody tr th {\n",
       "        vertical-align: top;\n",
       "    }\n",
       "\n",
       "    .dataframe thead th {\n",
       "        text-align: right;\n",
       "    }\n",
       "</style>\n",
       "<table border=\"1\" class=\"dataframe\">\n",
       "  <thead>\n",
       "    <tr style=\"text-align: right;\">\n",
       "      <th></th>\n",
       "      <th>InsideGov</th>\n",
       "      <th>InstitutionType</th>\n",
       "      <th>OrgType</th>\n",
       "      <th>PrimaryInstitution</th>\n",
       "      <th>OrgName</th>\n",
       "      <th>PI_Index</th>\n",
       "      <th>OrgRank</th>\n",
       "      <th>P1</th>\n",
       "      <th>P2</th>\n",
       "      <th>P3</th>\n",
       "      <th>...</th>\n",
       "      <th>Notes</th>\n",
       "      <th>L1_Index</th>\n",
       "      <th>L2_Index</th>\n",
       "      <th>L3_Index</th>\n",
       "      <th>L4_Index</th>\n",
       "      <th>L5_Index</th>\n",
       "      <th>Change_InstitutionType</th>\n",
       "      <th>Change_PI</th>\n",
       "      <th>Change_OrgName</th>\n",
       "      <th>Alias_OrgName</th>\n",
       "    </tr>\n",
       "  </thead>\n",
       "  <tbody>\n",
       "    <tr>\n",
       "      <th>3</th>\n",
       "      <td>NaN</td>\n",
       "      <td>정권기관</td>\n",
       "      <td>NaN</td>\n",
       "      <td>내각</td>\n",
       "      <td>외무성_아프리카아랍라틴아메리카국_나이지리아대사관</td>\n",
       "      <td>801.0</td>\n",
       "      <td>NaN</td>\n",
       "      <td>NaN</td>\n",
       "      <td>NaN</td>\n",
       "      <td>NaN</td>\n",
       "      <td>...</td>\n",
       "      <td>NaN</td>\n",
       "      <td>NaN</td>\n",
       "      <td>NaN</td>\n",
       "      <td>NaN</td>\n",
       "      <td>NaN</td>\n",
       "      <td>NaN</td>\n",
       "      <td>NaN</td>\n",
       "      <td>NaN</td>\n",
       "      <td>NaN</td>\n",
       "      <td>NaN</td>\n",
       "    </tr>\n",
       "    <tr>\n",
       "      <th>4</th>\n",
       "      <td>NaN</td>\n",
       "      <td>정권기관</td>\n",
       "      <td>NaN</td>\n",
       "      <td>내각</td>\n",
       "      <td>철도성_X국</td>\n",
       "      <td>801.0</td>\n",
       "      <td>NaN</td>\n",
       "      <td>NaN</td>\n",
       "      <td>NaN</td>\n",
       "      <td>NaN</td>\n",
       "      <td>...</td>\n",
       "      <td>NaN</td>\n",
       "      <td>NaN</td>\n",
       "      <td>NaN</td>\n",
       "      <td>NaN</td>\n",
       "      <td>NaN</td>\n",
       "      <td>NaN</td>\n",
       "      <td>NaN</td>\n",
       "      <td>NaN</td>\n",
       "      <td>NaN</td>\n",
       "      <td>NaN</td>\n",
       "    </tr>\n",
       "    <tr>\n",
       "      <th>6</th>\n",
       "      <td>NaN</td>\n",
       "      <td>정권기관</td>\n",
       "      <td>NaN</td>\n",
       "      <td>내각</td>\n",
       "      <td>외무성_아프리카아랍라틴아메리카국_콩고민주공화국대사관</td>\n",
       "      <td>801.0</td>\n",
       "      <td>NaN</td>\n",
       "      <td>NaN</td>\n",
       "      <td>NaN</td>\n",
       "      <td>NaN</td>\n",
       "      <td>...</td>\n",
       "      <td>NaN</td>\n",
       "      <td>NaN</td>\n",
       "      <td>NaN</td>\n",
       "      <td>NaN</td>\n",
       "      <td>NaN</td>\n",
       "      <td>NaN</td>\n",
       "      <td>NaN</td>\n",
       "      <td>NaN</td>\n",
       "      <td>NaN</td>\n",
       "      <td>NaN</td>\n",
       "    </tr>\n",
       "    <tr>\n",
       "      <th>10</th>\n",
       "      <td>NaN</td>\n",
       "      <td>정권기관</td>\n",
       "      <td>NaN</td>\n",
       "      <td>내각</td>\n",
       "      <td>평안남도농촌경리위원회</td>\n",
       "      <td>801.0</td>\n",
       "      <td>NaN</td>\n",
       "      <td>NaN</td>\n",
       "      <td>NaN</td>\n",
       "      <td>NaN</td>\n",
       "      <td>...</td>\n",
       "      <td>NaN</td>\n",
       "      <td>NaN</td>\n",
       "      <td>NaN</td>\n",
       "      <td>NaN</td>\n",
       "      <td>NaN</td>\n",
       "      <td>NaN</td>\n",
       "      <td>NaN</td>\n",
       "      <td>NaN</td>\n",
       "      <td>NaN</td>\n",
       "      <td>NaN</td>\n",
       "    </tr>\n",
       "    <tr>\n",
       "      <th>18</th>\n",
       "      <td>NaN</td>\n",
       "      <td>당외곽및사회단체_사회부문</td>\n",
       "      <td>NaN</td>\n",
       "      <td>평양국제관계대학</td>\n",
       "      <td>NaN</td>\n",
       "      <td>801.0</td>\n",
       "      <td>NaN</td>\n",
       "      <td>NaN</td>\n",
       "      <td>NaN</td>\n",
       "      <td>NaN</td>\n",
       "      <td>...</td>\n",
       "      <td>NaN</td>\n",
       "      <td>NaN</td>\n",
       "      <td>NaN</td>\n",
       "      <td>NaN</td>\n",
       "      <td>NaN</td>\n",
       "      <td>NaN</td>\n",
       "      <td>NaN</td>\n",
       "      <td>NaN</td>\n",
       "      <td>NaN</td>\n",
       "      <td>NaN</td>\n",
       "    </tr>\n",
       "  </tbody>\n",
       "</table>\n",
       "<p>5 rows × 23 columns</p>\n",
       "</div>"
      ],
      "text/plain": [
       "    InsideGov InstitutionType OrgType PrimaryInstitution  \\\n",
       "3         NaN            정권기관     NaN                 내각   \n",
       "4         NaN            정권기관     NaN                 내각   \n",
       "6         NaN            정권기관     NaN                 내각   \n",
       "10        NaN            정권기관     NaN                 내각   \n",
       "18        NaN   당외곽및사회단체_사회부문     NaN           평양국제관계대학   \n",
       "\n",
       "                         OrgName PI_Index OrgRank   P1   P2   P3  ... Notes  \\\n",
       "3     외무성_아프리카아랍라틴아메리카국_나이지리아대사관    801.0     NaN  NaN  NaN  NaN  ...   NaN   \n",
       "4                         철도성_X국    801.0     NaN  NaN  NaN  NaN  ...   NaN   \n",
       "6   외무성_아프리카아랍라틴아메리카국_콩고민주공화국대사관    801.0     NaN  NaN  NaN  NaN  ...   NaN   \n",
       "10                   평안남도농촌경리위원회    801.0     NaN  NaN  NaN  NaN  ...   NaN   \n",
       "18                           NaN    801.0     NaN  NaN  NaN  NaN  ...   NaN   \n",
       "\n",
       "   L1_Index L2_Index L3_Index L4_Index L5_Index Change_InstitutionType  \\\n",
       "3       NaN      NaN      NaN      NaN      NaN                    NaN   \n",
       "4       NaN      NaN      NaN      NaN      NaN                    NaN   \n",
       "6       NaN      NaN      NaN      NaN      NaN                    NaN   \n",
       "10      NaN      NaN      NaN      NaN      NaN                    NaN   \n",
       "18      NaN      NaN      NaN      NaN      NaN                    NaN   \n",
       "\n",
       "   Change_PI Change_OrgName Alias_OrgName  \n",
       "3        NaN            NaN           NaN  \n",
       "4        NaN            NaN           NaN  \n",
       "6        NaN            NaN           NaN  \n",
       "10       NaN            NaN           NaN  \n",
       "18       NaN            NaN           NaN  \n",
       "\n",
       "[5 rows x 23 columns]"
      ]
     },
     "execution_count": 80,
     "metadata": {},
     "output_type": "execute_result"
    }
   ],
   "source": [
    "m2_concat.head(5)"
   ]
  },
  {
   "cell_type": "code",
   "execution_count": 81,
   "id": "738a04e4",
   "metadata": {},
   "outputs": [],
   "source": [
    "opr3 = pd.concat([opr2,m2_concat])"
   ]
  },
  {
   "cell_type": "code",
   "execution_count": 82,
   "id": "6c3daf47",
   "metadata": {},
   "outputs": [
    {
     "name": "stdout",
     "output_type": "stream",
     "text": [
      "col4:\t (9002, 13)\n",
      "m2:\t (2225, 12)\n",
      "opr3:\t (2396, 23)\n"
     ]
    }
   ],
   "source": [
    "# updated tables\n",
    "print(\"col4:\\t\",col4.shape)\n",
    "print(\"m2:\\t\",m2.shape)\n",
    "print(\"opr3:\\t\",opr3.shape)"
   ]
  },
  {
   "cell_type": "markdown",
   "id": "dcd52d23",
   "metadata": {},
   "source": [
    "### Step 4. using orgtree (Change_ x2), edit careerorglink, mismatches & orgtree (PI, OrgName)\n",
    "\n",
    "- careerorglink: change PI, OrgName\n",
    "- mimatches: removed those with changed InstitutionType, PI, OrgName, because their Position may be incorrect\n",
    "- orgtree: change InstitutionType, PI, OrgName"
   ]
  },
  {
   "cell_type": "markdown",
   "id": "24b3aa8f",
   "metadata": {},
   "source": [
    "#### select opr to merge with careerorglink & mismatches"
   ]
  },
  {
   "cell_type": "code",
   "execution_count": 83,
   "id": "0f00d557",
   "metadata": {},
   "outputs": [],
   "source": [
    "opr_key_columns = [\"PrimaryInstitution\",\"OrgName\"]\n",
    "opr_col_columns = opr_key_columns + [\"Change_InstitutionType\",\"Change_PI\",\"Change_OrgName\"]"
   ]
  },
  {
   "cell_type": "code",
   "execution_count": 84,
   "id": "d14a899f",
   "metadata": {},
   "outputs": [
    {
     "data": {
      "text/plain": [
       "(18, 23)"
      ]
     },
     "execution_count": 84,
     "metadata": {},
     "output_type": "execute_result"
    }
   ],
   "source": [
    "opr3[opr3[\"Change_PI\"].notnull()].shape"
   ]
  },
  {
   "cell_type": "code",
   "execution_count": 85,
   "id": "ecb4f314",
   "metadata": {},
   "outputs": [
    {
     "data": {
      "text/plain": [
       "(36, 23)"
      ]
     },
     "execution_count": 85,
     "metadata": {},
     "output_type": "execute_result"
    }
   ],
   "source": [
    "opr3[opr3[\"Change_OrgName\"].notnull()].shape"
   ]
  },
  {
   "cell_type": "code",
   "execution_count": 86,
   "id": "81695fd9",
   "metadata": {},
   "outputs": [
    {
     "data": {
      "text/plain": [
       "(16, 23)"
      ]
     },
     "execution_count": 86,
     "metadata": {},
     "output_type": "execute_result"
    }
   ],
   "source": [
    "opr3[opr3[\"Change_InstitutionType\"].notnull()].shape"
   ]
  },
  {
   "cell_type": "code",
   "execution_count": 87,
   "id": "f927b21c",
   "metadata": {},
   "outputs": [
    {
     "data": {
      "text/plain": [
       "(45, 5)"
      ]
     },
     "execution_count": 87,
     "metadata": {},
     "output_type": "execute_result"
    }
   ],
   "source": [
    "opr3_changes = opr3.loc[(opr3[\"Change_PI\"].notnull()) | (opr3[\"Change_OrgName\"].notnull()) | (opr3[\"Change_InstitutionType\"].notnull()),opr_col_columns]\n",
    "opr3_changes.shape"
   ]
  },
  {
   "cell_type": "code",
   "execution_count": 88,
   "id": "c433814f",
   "metadata": {},
   "outputs": [
    {
     "name": "stdout",
     "output_type": "stream",
     "text": [
      "\n",
      "Unique Non-null Rows...\n",
      "\n",
      "\tNon-unique rows: (45, 5)\n",
      "\tUnique rows    : (45, 5)\n"
     ]
    },
    {
     "data": {
      "text/plain": [
       "(45, 5)"
      ]
     },
     "execution_count": 88,
     "metadata": {},
     "output_type": "execute_result"
    }
   ],
   "source": [
    "opr3_changes = unique_non_null_rows(opr3_changes)\n",
    "opr3_changes.shape"
   ]
  },
  {
   "cell_type": "markdown",
   "id": "48564425",
   "metadata": {},
   "source": [
    "#### edit careerorglink"
   ]
  },
  {
   "cell_type": "code",
   "execution_count": 89,
   "id": "2a08a522",
   "metadata": {},
   "outputs": [
    {
     "name": "stdout",
     "output_type": "stream",
     "text": [
      "\n",
      "Merge Results...\n",
      "\n",
      "\tshape     : (9002, 17)\n",
      "\tleft_only : (8790, 17)\n",
      "\tboth      : (212, 17)\n",
      "\tright_only: (0, 17)\n"
     ]
    }
   ],
   "source": [
    "col5 = col4.merge(opr3_changes,on=opr_key_columns,how=\"left\",suffixes=(\"\",\"_m\"),indicator=True)\n",
    "merge_results(col5)"
   ]
  },
  {
   "cell_type": "code",
   "execution_count": 90,
   "id": "d2f13b82",
   "metadata": {},
   "outputs": [],
   "source": [
    "# when Change_InstitutionType is not null, change all 3\n",
    "col5.loc[col5[\"Change_InstitutionType\"].notnull(),\"InstitutionType\"] = col5.loc[col5[\"Change_InstitutionType\"].notnull(),\"Change_InstitutionType\"]"
   ]
  },
  {
   "cell_type": "code",
   "execution_count": 91,
   "id": "adb4f8d5",
   "metadata": {},
   "outputs": [],
   "source": [
    "col5.loc[col5[\"Change_InstitutionType\"].notnull(),\"PrimaryInstitution\"] = col5.loc[col5[\"Change_InstitutionType\"].notnull(),\"Change_PI\"]"
   ]
  },
  {
   "cell_type": "code",
   "execution_count": 92,
   "id": "e5d593e8",
   "metadata": {},
   "outputs": [],
   "source": [
    "col5.loc[col5[\"Change_InstitutionType\"].notnull(),\"OrgName\"] = col5.loc[col5[\"Change_InstitutionType\"].notnull(),\"Change_OrgName\"]"
   ]
  },
  {
   "cell_type": "code",
   "execution_count": 93,
   "id": "2e9ce956",
   "metadata": {},
   "outputs": [],
   "source": [
    "# when Change_InstitutionType is null & Change_OrgName is not null, then just change OrgName"
   ]
  },
  {
   "cell_type": "code",
   "execution_count": 94,
   "id": "85c6169f",
   "metadata": {},
   "outputs": [],
   "source": [
    "col5.loc[col5[\"Change_InstitutionType\"].isnull() & col5[\"Change_OrgName\"].notnull(),\"OrgName\"] = col5.loc[col5[\"Change_InstitutionType\"].isnull() & col5[\"Change_OrgName\"].notnull(),\"Change_OrgName\"]"
   ]
  },
  {
   "cell_type": "code",
   "execution_count": 95,
   "id": "d7e02e2f",
   "metadata": {},
   "outputs": [],
   "source": [
    "col5 = col5[col4.columns]"
   ]
  },
  {
   "cell_type": "code",
   "execution_count": 96,
   "id": "96414ba7",
   "metadata": {},
   "outputs": [
    {
     "data": {
      "text/plain": [
       "(9002, 13)"
      ]
     },
     "execution_count": 96,
     "metadata": {},
     "output_type": "execute_result"
    }
   ],
   "source": [
    "col5.shape"
   ]
  },
  {
   "cell_type": "markdown",
   "id": "531f8ac7",
   "metadata": {},
   "source": [
    "#### remove mismatches"
   ]
  },
  {
   "cell_type": "code",
   "execution_count": 97,
   "id": "86f3ee5e",
   "metadata": {},
   "outputs": [
    {
     "name": "stdout",
     "output_type": "stream",
     "text": [
      "\n",
      "Merge Results...\n",
      "\n",
      "\tshape     : (2225, 16)\n",
      "\tleft_only : (2112, 16)\n",
      "\tboth      : (113, 16)\n",
      "\tright_only: (0, 16)\n"
     ]
    }
   ],
   "source": [
    "opr_key_columns = [\"PrimaryInstitution\",\"OrgName\"]\n",
    "m3 = m2.merge(opr3_changes,on=opr_key_columns,how=\"left\",suffixes=(\"\",\"_m\"),indicator=True)\n",
    "merge_results(m3)"
   ]
  },
  {
   "cell_type": "code",
   "execution_count": 98,
   "id": "28a6cd06",
   "metadata": {},
   "outputs": [
    {
     "data": {
      "text/plain": [
       "(2112, 16)"
      ]
     },
     "execution_count": 98,
     "metadata": {},
     "output_type": "execute_result"
    }
   ],
   "source": [
    "m3 = m3[m3[\"_merge\"]!=\"both\"]\n",
    "m3.shape"
   ]
  },
  {
   "cell_type": "code",
   "execution_count": 99,
   "id": "dffa5ca0",
   "metadata": {},
   "outputs": [
    {
     "data": {
      "text/plain": [
       "(2112, 12)"
      ]
     },
     "execution_count": 99,
     "metadata": {},
     "output_type": "execute_result"
    }
   ],
   "source": [
    "m3 = m3[m2.columns]\n",
    "m3.shape"
   ]
  },
  {
   "cell_type": "markdown",
   "id": "f5511273",
   "metadata": {},
   "source": [
    "#### edit orgtree"
   ]
  },
  {
   "cell_type": "code",
   "execution_count": 100,
   "id": "4e98e3b8",
   "metadata": {},
   "outputs": [],
   "source": [
    "opr4 = opr3.copy(deep=True)"
   ]
  },
  {
   "cell_type": "code",
   "execution_count": 101,
   "id": "b74d33c0",
   "metadata": {},
   "outputs": [],
   "source": [
    "# when Change_InstitutionType is not null, change all 3\n",
    "opr4.loc[opr4[\"Change_InstitutionType\"].notnull(),\"InstitutionType\"] = opr4.loc[opr4[\"Change_InstitutionType\"].notnull(),\"Change_InstitutionType\"]"
   ]
  },
  {
   "cell_type": "code",
   "execution_count": 102,
   "id": "d972086e",
   "metadata": {},
   "outputs": [],
   "source": [
    "opr4.loc[opr4[\"Change_InstitutionType\"].notnull(),\"PrimaryInstitution\"] = opr4.loc[opr4[\"Change_InstitutionType\"].notnull(),\"Change_PI\"]"
   ]
  },
  {
   "cell_type": "code",
   "execution_count": 103,
   "id": "70463431",
   "metadata": {},
   "outputs": [],
   "source": [
    "opr4.loc[opr4[\"Change_InstitutionType\"].notnull(),\"OrgName\"] = opr4.loc[opr4[\"Change_InstitutionType\"].notnull(),\"Change_OrgName\"]"
   ]
  },
  {
   "cell_type": "code",
   "execution_count": 104,
   "id": "b7a526fa",
   "metadata": {},
   "outputs": [],
   "source": [
    "# when Change_InstitutionType is null & Change_OrgName is not null, then just change OrgName"
   ]
  },
  {
   "cell_type": "code",
   "execution_count": 105,
   "id": "d22988ef",
   "metadata": {},
   "outputs": [],
   "source": [
    "opr4.loc[opr4[\"Change_InstitutionType\"].isnull() & opr4[\"Change_OrgName\"].notnull(),\"OrgName\"] = opr4.loc[opr4[\"Change_InstitutionType\"].isnull() & opr4[\"Change_OrgName\"].notnull(),\"Change_OrgName\"]"
   ]
  },
  {
   "cell_type": "code",
   "execution_count": 106,
   "id": "99298a5c",
   "metadata": {},
   "outputs": [],
   "source": [
    "# opr3: drop Changex3 columns. We've made all necessary changes.\n",
    "opr4.drop(columns=[\"Change_InstitutionType\",\"Change_PI\",\"Change_OrgName\"],inplace=True)"
   ]
  },
  {
   "cell_type": "code",
   "execution_count": 107,
   "id": "48b70ba5",
   "metadata": {},
   "outputs": [],
   "source": [
    "opr4 = opr4.drop_duplicates(keep=\"first\")"
   ]
  },
  {
   "cell_type": "code",
   "execution_count": 108,
   "id": "faac1b2a",
   "metadata": {},
   "outputs": [
    {
     "data": {
      "text/plain": [
       "Index(['InsideGov', 'InstitutionType', 'OrgType', 'PrimaryInstitution',\n",
       "       'OrgName', 'PI_Index', 'OrgRank', 'P1', 'P2', 'P3', 'LinkToNext_PI',\n",
       "       'LinkToNext_Org', 'LinkToNext_Year', 'Notes', 'L1_Index', 'L2_Index',\n",
       "       'L3_Index', 'L4_Index', 'L5_Index', 'Alias_OrgName'],\n",
       "      dtype='object')"
      ]
     },
     "execution_count": 108,
     "metadata": {},
     "output_type": "execute_result"
    }
   ],
   "source": [
    "opr4.columns"
   ]
  },
  {
   "cell_type": "code",
   "execution_count": 109,
   "id": "33181895",
   "metadata": {},
   "outputs": [
    {
     "data": {
      "text/plain": [
       "Index(['CareerString', 'CareerDateString_2022', 'IsJob', 'MultipleSubstrings',\n",
       "       'CareerStartYear', 'CareerStartMonth', 'CareerSubstring', 'OrgString',\n",
       "       'InstitutionType', 'PrimaryInstitution', 'OrgName', 'Position',\n",
       "       'Notes'],\n",
       "      dtype='object')"
      ]
     },
     "execution_count": 109,
     "metadata": {},
     "output_type": "execute_result"
    }
   ],
   "source": [
    "col5.columns"
   ]
  },
  {
   "cell_type": "code",
   "execution_count": 110,
   "id": "1169c86f",
   "metadata": {},
   "outputs": [
    {
     "data": {
      "text/plain": [
       "Index(['CareerString', 'CareerStartYear', 'MultipleSubstrings',\n",
       "       'CareerSubstring', 'IsJob', 'InstitutionType', 'PrimaryInstitution',\n",
       "       'OrgName', 'Position', 'LinkToNext_Year', 'Resolution', 'Notes'],\n",
       "      dtype='object')"
      ]
     },
     "execution_count": 110,
     "metadata": {},
     "output_type": "execute_result"
    }
   ],
   "source": [
    "m3.columns"
   ]
  },
  {
   "cell_type": "code",
   "execution_count": 111,
   "id": "f6ac862f",
   "metadata": {},
   "outputs": [
    {
     "name": "stdout",
     "output_type": "stream",
     "text": [
      "col5:\t (9002, 13)\n",
      "m3:\t (2112, 12)\n",
      "opr4:\t (2392, 20)\n"
     ]
    }
   ],
   "source": [
    "# updated tables\n",
    "print(\"col5:\\t\",col5.shape)\n",
    "print(\"m3:\\t\",m3.shape)\n",
    "print(\"opr4:\\t\",opr4.shape)"
   ]
  },
  {
   "cell_type": "markdown",
   "id": "65e5f8cb",
   "metadata": {},
   "source": [
    "### Step 5. using orgtree, update InstitutionType in careerorglink, for those jobs not in mismatch\n",
    "\n",
    "- careerorglink: change InstitutionType"
   ]
  },
  {
   "cell_type": "markdown",
   "id": "5d635b17",
   "metadata": {},
   "source": [
    "#### select opr to merge with careerorglink"
   ]
  },
  {
   "cell_type": "code",
   "execution_count": 112,
   "id": "67293d55",
   "metadata": {},
   "outputs": [
    {
     "data": {
      "text/plain": [
       "(2349, 3)"
      ]
     },
     "execution_count": 112,
     "metadata": {},
     "output_type": "execute_result"
    }
   ],
   "source": [
    "opr_key_columns = [\"PrimaryInstitution\",\"OrgName\"]\n",
    "opr_col_columns = opr_key_columns + [\"InstitutionType\"]\n",
    "opr4_merge = opr4[opr_col_columns]\n",
    "opr4_merge = opr4_merge.drop_duplicates()\n",
    "opr4_merge.shape"
   ]
  },
  {
   "cell_type": "code",
   "execution_count": 113,
   "id": "2804319f",
   "metadata": {},
   "outputs": [
    {
     "data": {
      "text/plain": [
       "(0, 3)"
      ]
     },
     "execution_count": 113,
     "metadata": {},
     "output_type": "execute_result"
    }
   ],
   "source": [
    "opr4_merge[opr4_merge.duplicated(opr_key_columns,keep=False)].shape"
   ]
  },
  {
   "cell_type": "markdown",
   "id": "ab23c6b9",
   "metadata": {},
   "source": [
    "#### edit careerorglink"
   ]
  },
  {
   "cell_type": "code",
   "execution_count": 114,
   "id": "155c3e95",
   "metadata": {},
   "outputs": [
    {
     "name": "stdout",
     "output_type": "stream",
     "text": [
      "\n",
      "Merge Results...\n",
      "\n",
      "\tshape     : (9002, 15)\n",
      "\tleft_only : (2372, 15)\n",
      "\tboth      : (6630, 15)\n",
      "\tright_only: (0, 15)\n"
     ]
    }
   ],
   "source": [
    "col6 = col5.merge(opr4_merge,on=opr_key_columns,how=\"left\",suffixes=(\"\",\"_m\"),indicator=True)\n",
    "merge_results(col6)"
   ]
  },
  {
   "cell_type": "code",
   "execution_count": 115,
   "id": "851e7809",
   "metadata": {},
   "outputs": [
    {
     "data": {
      "text/plain": [
       "Index(['CareerString', 'CareerDateString_2022', 'IsJob', 'MultipleSubstrings',\n",
       "       'CareerStartYear', 'CareerStartMonth', 'CareerSubstring', 'OrgString',\n",
       "       'InstitutionType', 'PrimaryInstitution', 'OrgName', 'Position', 'Notes',\n",
       "       'InstitutionType_m', '_merge'],\n",
       "      dtype='object')"
      ]
     },
     "execution_count": 115,
     "metadata": {},
     "output_type": "execute_result"
    }
   ],
   "source": [
    "col6.columns"
   ]
  },
  {
   "cell_type": "code",
   "execution_count": 116,
   "id": "7b8056b4",
   "metadata": {},
   "outputs": [
    {
     "data": {
      "text/plain": [
       "(2382, 15)"
      ]
     },
     "execution_count": 116,
     "metadata": {},
     "output_type": "execute_result"
    }
   ],
   "source": [
    "# out of curiosity, how many InstitutionType don't match?\n",
    "col6[(col6[\"InstitutionType\"].isnull()) & (col6[\"InstitutionType_m\"].isnull())].shape"
   ]
  },
  {
   "cell_type": "code",
   "execution_count": 117,
   "id": "506c7578",
   "metadata": {},
   "outputs": [],
   "source": [
    "# only copy over all non-null InstitutionType from orgtree to careerorglink\n",
    "col6.loc[col6[\"InstitutionType_m\"].notnull(),\"InstitutionType\"] = col6.loc[col6[\"InstitutionType_m\"].notnull(),\"InstitutionType_m\"]"
   ]
  },
  {
   "cell_type": "code",
   "execution_count": 118,
   "id": "fc153eb4",
   "metadata": {},
   "outputs": [
    {
     "data": {
      "text/plain": [
       "(2382, 15)"
      ]
     },
     "execution_count": 118,
     "metadata": {},
     "output_type": "execute_result"
    }
   ],
   "source": [
    "# the number of careers without InstitutionType: NotJobs and Uncertains?\n",
    "col6[(col6[\"InstitutionType\"].isnull()) & (col6[\"InstitutionType_m\"].isnull())].shape"
   ]
  },
  {
   "cell_type": "markdown",
   "id": "7c1b7a87",
   "metadata": {},
   "source": [
    "# Issue: if Certain, then update InstitutionType in careerorglink & orgtree"
   ]
  },
  {
   "cell_type": "code",
   "execution_count": 119,
   "id": "91e0d644",
   "metadata": {},
   "outputs": [
    {
     "data": {
      "text/plain": [
       "(217, 15)"
      ]
     },
     "execution_count": 119,
     "metadata": {},
     "output_type": "execute_result"
    }
   ],
   "source": [
    "# if Uncertain, then change IsJob to False\n",
    "# if Certain, then update InstitutionType in careerorglink & orgtree\n",
    "col6[(col6[\"InstitutionType\"].isnull()) & (col6[\"IsJob\"]==\"True\")].shape"
   ]
  },
  {
   "cell_type": "code",
   "execution_count": 120,
   "id": "f30665df",
   "metadata": {},
   "outputs": [
    {
     "data": {
      "text/html": [
       "<div>\n",
       "<style scoped>\n",
       "    .dataframe tbody tr th:only-of-type {\n",
       "        vertical-align: middle;\n",
       "    }\n",
       "\n",
       "    .dataframe tbody tr th {\n",
       "        vertical-align: top;\n",
       "    }\n",
       "\n",
       "    .dataframe thead th {\n",
       "        text-align: right;\n",
       "    }\n",
       "</style>\n",
       "<table border=\"1\" class=\"dataframe\">\n",
       "  <thead>\n",
       "    <tr style=\"text-align: right;\">\n",
       "      <th></th>\n",
       "      <th>CareerString</th>\n",
       "      <th>CareerDateString_2022</th>\n",
       "      <th>IsJob</th>\n",
       "      <th>MultipleSubstrings</th>\n",
       "      <th>CareerStartYear</th>\n",
       "      <th>CareerStartMonth</th>\n",
       "      <th>CareerSubstring</th>\n",
       "      <th>OrgString</th>\n",
       "      <th>InstitutionType</th>\n",
       "      <th>PrimaryInstitution</th>\n",
       "      <th>OrgName</th>\n",
       "      <th>Position</th>\n",
       "      <th>Notes</th>\n",
       "      <th>InstitutionType_m</th>\n",
       "      <th>_merge</th>\n",
       "    </tr>\n",
       "  </thead>\n",
       "  <tbody>\n",
       "    <tr>\n",
       "      <th>33</th>\n",
       "      <td>1951.~57. 루마니아 유학 연도미상 당 조직지도부, 과학교육부, 기계공업부 등...</td>\n",
       "      <td>NaN</td>\n",
       "      <td>True</td>\n",
       "      <td>4</td>\n",
       "      <td>1951</td>\n",
       "      <td>NaN</td>\n",
       "      <td>당 기계공업부</td>\n",
       "      <td>NaN</td>\n",
       "      <td>NaN</td>\n",
       "      <td>uncertain</td>\n",
       "      <td>uncertain</td>\n",
       "      <td>uncertain</td>\n",
       "      <td>NaN</td>\n",
       "      <td>NaN</td>\n",
       "      <td>left_only</td>\n",
       "    </tr>\n",
       "    <tr>\n",
       "      <th>50</th>\n",
       "      <td>은하수관현악단 가수</td>\n",
       "      <td>연도미상</td>\n",
       "      <td>True</td>\n",
       "      <td>1</td>\n",
       "      <td>NaN</td>\n",
       "      <td>NaN</td>\n",
       "      <td>NaN</td>\n",
       "      <td>은하수관현악단</td>\n",
       "      <td>NaN</td>\n",
       "      <td>은하수관혁악단</td>\n",
       "      <td>NaN</td>\n",
       "      <td>가수</td>\n",
       "      <td>NaN</td>\n",
       "      <td>NaN</td>\n",
       "      <td>left_only</td>\n",
       "    </tr>\n",
       "    <tr>\n",
       "      <th>71</th>\n",
       "      <td>당 중앙위원회 고문</td>\n",
       "      <td>2019.03</td>\n",
       "      <td>True</td>\n",
       "      <td>1</td>\n",
       "      <td>2019</td>\n",
       "      <td>3</td>\n",
       "      <td>NaN</td>\n",
       "      <td>노동당 중앙인민위원회</td>\n",
       "      <td>NaN</td>\n",
       "      <td>노동당</td>\n",
       "      <td>UNCERTAIN</td>\n",
       "      <td>고문</td>\n",
       "      <td>NaN</td>\n",
       "      <td>NaN</td>\n",
       "      <td>left_only</td>\n",
       "    </tr>\n",
       "    <tr>\n",
       "      <th>106</th>\n",
       "      <td>1992. 4 인민군 중장, 인민무력성 총참모부 공병국장</td>\n",
       "      <td>NaN</td>\n",
       "      <td>True</td>\n",
       "      <td>1</td>\n",
       "      <td>1992</td>\n",
       "      <td>4</td>\n",
       "      <td>인민무력성 총참모부 공병국장</td>\n",
       "      <td>인민무력성 총참모부</td>\n",
       "      <td>NaN</td>\n",
       "      <td>uncertain</td>\n",
       "      <td>uncertain</td>\n",
       "      <td>공병국장</td>\n",
       "      <td>NaN</td>\n",
       "      <td>NaN</td>\n",
       "      <td>left_only</td>\n",
       "    </tr>\n",
       "    <tr>\n",
       "      <th>131</th>\n",
       "      <td>남포대학 과장</td>\n",
       "      <td>연도미상</td>\n",
       "      <td>True</td>\n",
       "      <td>1</td>\n",
       "      <td>NaN</td>\n",
       "      <td>NaN</td>\n",
       "      <td>NaN</td>\n",
       "      <td>남포대학</td>\n",
       "      <td>NaN</td>\n",
       "      <td>내각</td>\n",
       "      <td>교육위원회_고등교육성_남포대학</td>\n",
       "      <td>과장</td>\n",
       "      <td>NaN</td>\n",
       "      <td>NaN</td>\n",
       "      <td>left_only</td>\n",
       "    </tr>\n",
       "  </tbody>\n",
       "</table>\n",
       "</div>"
      ],
      "text/plain": [
       "                                          CareerString CareerDateString_2022  \\\n",
       "33   1951.~57. 루마니아 유학 연도미상 당 조직지도부, 과학교육부, 기계공업부 등...                   NaN   \n",
       "50                                          은하수관현악단 가수                  연도미상   \n",
       "71                                          당 중앙위원회 고문               2019.03   \n",
       "106                    1992. 4 인민군 중장, 인민무력성 총참모부 공병국장                   NaN   \n",
       "131                                            남포대학 과장                  연도미상   \n",
       "\n",
       "    IsJob MultipleSubstrings CareerStartYear CareerStartMonth  \\\n",
       "33   True                  4            1951              NaN   \n",
       "50   True                  1             NaN              NaN   \n",
       "71   True                  1            2019                3   \n",
       "106  True                  1            1992                4   \n",
       "131  True                  1             NaN              NaN   \n",
       "\n",
       "     CareerSubstring    OrgString InstitutionType PrimaryInstitution  \\\n",
       "33           당 기계공업부          NaN             NaN          uncertain   \n",
       "50               NaN      은하수관현악단             NaN            은하수관혁악단   \n",
       "71               NaN  노동당 중앙인민위원회             NaN                노동당   \n",
       "106  인민무력성 총참모부 공병국장   인민무력성 총참모부             NaN          uncertain   \n",
       "131              NaN         남포대학             NaN                 내각   \n",
       "\n",
       "              OrgName   Position Notes InstitutionType_m     _merge  \n",
       "33          uncertain  uncertain   NaN               NaN  left_only  \n",
       "50                NaN         가수   NaN               NaN  left_only  \n",
       "71          UNCERTAIN         고문   NaN               NaN  left_only  \n",
       "106         uncertain       공병국장   NaN               NaN  left_only  \n",
       "131  교육위원회_고등교육성_남포대학         과장   NaN               NaN  left_only  "
      ]
     },
     "execution_count": 120,
     "metadata": {},
     "output_type": "execute_result"
    }
   ],
   "source": [
    "col6[(col6[\"InstitutionType\"].isnull()) & (col6[\"IsJob\"]==\"True\")].head(5)"
   ]
  },
  {
   "cell_type": "code",
   "execution_count": 121,
   "id": "c29c2a60",
   "metadata": {},
   "outputs": [
    {
     "data": {
      "text/plain": [
       "(0, 15)"
      ]
     },
     "execution_count": 121,
     "metadata": {},
     "output_type": "execute_result"
    }
   ],
   "source": [
    "# all non-null InstitutionType have been copied \n",
    "col6[(col6[\"InstitutionType\"].isnull()) & (col6[\"InstitutionType_m\"].notnull())].shape"
   ]
  },
  {
   "cell_type": "code",
   "execution_count": 122,
   "id": "98b4ccad",
   "metadata": {},
   "outputs": [],
   "source": [
    "col6 = col6[col5.columns]"
   ]
  },
  {
   "cell_type": "code",
   "execution_count": 123,
   "id": "7ab26e0d",
   "metadata": {},
   "outputs": [
    {
     "name": "stdout",
     "output_type": "stream",
     "text": [
      "col6:\t (9002, 13)\n",
      "m3:\t (2112, 12)\n",
      "opr4:\t (2392, 20)\n"
     ]
    }
   ],
   "source": [
    "# updated tables\n",
    "print(\"col6:\\t\",col6.shape)\n",
    "print(\"m3:\\t\",m3.shape)\n",
    "print(\"opr4:\\t\",opr4.shape)"
   ]
  },
  {
   "cell_type": "markdown",
   "id": "84818802",
   "metadata": {},
   "source": [
    "### Step 6. using mismatches Position, update orgtree P1, P2, P3"
   ]
  },
  {
   "cell_type": "code",
   "execution_count": 124,
   "id": "7f24b4b6",
   "metadata": {},
   "outputs": [],
   "source": [
    "#### select mismatches to merge with orgtree"
   ]
  },
  {
   "cell_type": "code",
   "execution_count": 125,
   "id": "5f76f687",
   "metadata": {},
   "outputs": [
    {
     "data": {
      "text/plain": [
       "Index(['CareerString', 'CareerStartYear', 'MultipleSubstrings',\n",
       "       'CareerSubstring', 'IsJob', 'InstitutionType', 'PrimaryInstitution',\n",
       "       'OrgName', 'Position', 'LinkToNext_Year', 'Resolution', 'Notes'],\n",
       "      dtype='object')"
      ]
     },
     "execution_count": 125,
     "metadata": {},
     "output_type": "execute_result"
    }
   ],
   "source": [
    "m3.columns"
   ]
  },
  {
   "cell_type": "code",
   "execution_count": 126,
   "id": "7e3d793f",
   "metadata": {},
   "outputs": [
    {
     "data": {
      "text/plain": [
       "(799, 4)"
      ]
     },
     "execution_count": 126,
     "metadata": {},
     "output_type": "execute_result"
    }
   ],
   "source": [
    "opr_key_columns = [\"PrimaryInstitution\",\"OrgName\"]\n",
    "m3_org_columns = opr_key_columns + [\"Position\",\"Resolution\"]\n",
    "m3pos_merge = m3[m3_org_columns]\n",
    "m3pos_merge = m3pos_merge.drop_duplicates(keep=\"first\")\n",
    "m3pos_merge.shape"
   ]
  },
  {
   "cell_type": "code",
   "execution_count": 127,
   "id": "b860dc9d",
   "metadata": {},
   "outputs": [
    {
     "data": {
      "text/plain": [
       "(285, 4)"
      ]
     },
     "execution_count": 127,
     "metadata": {},
     "output_type": "execute_result"
    }
   ],
   "source": [
    "# multiple (PI, OrgName) pairs, each with different Positions and Resolution directives (PI, P2, P3)\n",
    "# how do I merge these with orgtree, without generating duplicate rows?\n",
    "# I could process them one at a time\n",
    "# or I could merge them all at the same time and then aggregate P1, P2, P3 position lists using groupby.apply or transform\n",
    "# the groupby solution may be more elegant, if I only had to transform one column\n",
    "# but in this case I need to transform 3 columns at the same time\n",
    "m3pos_merge[m3pos_merge.duplicated(opr_key_columns)].shape"
   ]
  },
  {
   "cell_type": "markdown",
   "id": "f471ef97",
   "metadata": {},
   "source": [
    "#### orgtree: update Positions"
   ]
  },
  {
   "cell_type": "code",
   "execution_count": 128,
   "id": "27c4a84e",
   "metadata": {},
   "outputs": [],
   "source": [
    "def update_positions(m,opr_old):\n",
    "    \n",
    "    opr = opr_old.copy(deep=True)\n",
    "\n",
    "    ind_PI = list(m.columns).index(\"PrimaryInstitution\")\n",
    "    ind_Org = list(m.columns).index(\"OrgName\")\n",
    "    ind_Pos = list(m.columns).index(\"Position\")\n",
    "    ind_Res = list(m.columns).index(\"Resolution\")\n",
    "    # print(ind_PI,ind_Org,ind_Pos,ind_Res)\n",
    "    \n",
    "    row_range = range(0,m.shape[0])\n",
    "    # print(row_range)\n",
    "    \n",
    "    for i in row_range:\n",
    "        \n",
    "        PI = m.iloc[i,ind_PI]\n",
    "        Org = m.iloc[i,ind_Org]\n",
    "        Pos = m.iloc[i,ind_Pos]\n",
    "        Res = m.iloc[i,ind_Res]\n",
    "        # print(i,PI,Org,Pos,Res)\n",
    "        \n",
    "        # select among P1, P2, P3 \n",
    "        PosRank = \"P1\"\n",
    "        if Res == \"2. OrgName & Position ok. Add Position to P2\": PosRank = \"P2\"\n",
    "        if Res == \"3. OrgName & Position ok. Add Position to P3\": PosRank = \"P3\"\n",
    "        \n",
    "        # get current Positions\n",
    "        currPos = list(opr.loc[(opr[\"PrimaryInstitution\"]==PI) & (opr[\"OrgName\"]==Org),PosRank].values)\n",
    "        PosInCurrPos = Pos in currPos\n",
    "        newPos = [item.strip() for item in currPos if item not in [np.nan,\"nan\"]]\n",
    "\n",
    "        # edit Positions\n",
    "        if not PosInCurrPos:\n",
    "            newPos.append(Pos.strip())\n",
    "            \n",
    "        print(i,PI,Org,Pos,PosRank,PosInCurrPos,currPos,\",\".join(newPos))\n",
    "        \n",
    "        # update DF with new Positions\n",
    "        opr.loc[(opr[\"PrimaryInstitution\"]==PI) & (opr[\"OrgName\"]==Org),PosRank] = \",\".join(newPos)\n",
    "\n",
    "    return opr\n",
    "        "
   ]
  },
  {
   "cell_type": "code",
   "execution_count": 129,
   "id": "a4fbec6b",
   "metadata": {},
   "outputs": [],
   "source": [
    "m3pos_merge.sort_values([\"PrimaryInstitution\",\"OrgName\"],inplace=True)"
   ]
  },
  {
   "cell_type": "code",
   "execution_count": 130,
   "id": "1da4a0fb",
   "metadata": {},
   "outputs": [
    {
     "name": "stdout",
     "output_type": "stream",
     "text": [
      "0 4.15문화창작단 nan 단장 P1 False [] 단장\n",
      "1 4.15문화창작단 nan 부단장 P2 False [] 부단장\n",
      "2 7.7연합기업소 nan 기사장 P1 False [] 기사장\n",
      "3 강동지구탄광연합기업소 nan 지배인 P1 False [] 지배인\n",
      "4 강서구역청산협동농장 nan 관리위원장 P1 False [] 관리위원장\n",
      "5 강선제강소 nan 책임비서 P1 False [] 책임비서\n",
      "6 강원도인민위원회 nan 부위원장 P2 False [] 부위원장\n",
      "7 강원도인민위원회 nan 위원장 P1 False [] 위원장\n",
      "8 강원도임업연합기업소 nan 지배인 P1 False [] 지배인\n",
      "9 개성무역총회사 nan 총사장 P1 False [] 총사장\n",
      "10 개성방직공장 3대혁명소조 소조원 P3 False [nan] 소조원\n",
      "11 개성시농촌경리위원회 nan 위원장 P1 False [] 위원장\n",
      "12 개성시인민위원회 nan 부위원장 P2 False [] 부위원장\n",
      "13 개성시인민위원회 nan 위원장 P1 False [] 위원장\n",
      "14 개천군협동농장 nan 관리위원장 P1 False [] 관리위원장\n",
      "15 공군사령부 제3전단 부사령관 P2 False [nan] 부사령관\n",
      "16 공군사령부 제3전단 사령관 P1 False [nan] 사령관\n",
      "17 공군사령부 nan 부사령관 P2 False [] 부사령관\n",
      "18 공군사령부 nan 사령관 P1 False [] 사령관\n",
      "19 공군사령부 nan 정치위원 P3 False [] 정치위원\n",
      "20 공군사령부 nan 참모장 P1 False [] 참모장\n",
      "21 공산청년동맹 nan 위원장 P1 False [] 위원장\n",
      "22 공산청년동맹 nan 서기 P3 False [] 서기\n",
      "23 과학백과사전출판사 nan 사장 P1 False [] 사장\n",
      "24 과학백과사전출판사 nan 책임주필 P1 False [] 책임주필\n",
      "25 광명성경제연합회 nan 회장 P1 False [] 회장\n",
      "26 구성공작기계공장 nan 지배인 P1 False [] 지배인\n",
      "27 국가개발은행 nan 이사장 P1 False [] 이사장\n",
      "28 국가체육지도위원회 X국 국장 P1 False [nan] 국장\n",
      "29 국가체육지도위원회 대외사업국 국장 P1 False [nan] 국장\n",
      "30 국가체육지도위원회 nan 위원장 P1 False [] 위원장\n",
      "31 국가체육지도위원회 nan 부위원장 P2 False [] 부위원장\n",
      "32 국가체육지도위원회 nan 사무차장 P3 False [] 사무차장\n",
      "33 국가체육지도위원회 nan 위원 P3 False [] 위원\n",
      "34 국가체육지도위원회 nan 제1부위원장 P2 False [] 제1부위원장\n",
      "35 국가학위학직수여위원회 nan 위원장 P1 False [] 위원장\n",
      "36 국립교향악단 nan 단장 P1 False [] 단장\n",
      "37 국무위원회 사회안전성_외사국 국장 P1 True ['국장'] 국장\n",
      "38 국무위원회 사회안전성_참모부_작전국 국장 P1 False [nan] 국장\n",
      "39 국무위원회 인민무력성B 부상 P2 False [nan] 부상\n",
      "40 국무위원회 인민무력성B 제1부상 P2 False ['부상'] 부상,제1부상\n",
      "41 국무위원회 인민무력성B 상 P1 False [nan] 상\n",
      "42 국무위원회 인민보안성B 부상 P2 False [nan] 부상\n",
      "43 국무위원회 인민보안성B 상 P1 False [nan] 상\n",
      "44 국무위원회 인민보안성B 제1부상 P2 False ['부상'] 부상,제1부상\n",
      "45 국무위원회 nan 대미특별대표 P1 False [] 대미특별대표\n",
      "46 국무위원회 nan 부위원장 P2 False [] 부위원장\n",
      "47 국무위원회 nan 위원 P3 False [] 위원\n",
      "48 국방성 군수동원총국 총국장 P1 True ['총국장'] 총국장\n",
      "49 국방위원회 국가안전보위부B 제1부부장 P2 False ['부부장'] 부부장,제1부부장\n",
      "50 국방위원회 국가안전보위부_정치국 국장 P1 False [nan] 국장\n",
      "51 국방위원회 설계국 국장 P1 False [nan] 국장\n",
      "52 국방위원회 외사국 국장 P1 False [nan] 국장\n",
      "53 국방위원회 인민무력부D 부장 P1 True ['부장'] 부장\n",
      "54 국방위원회 인민무력부D 제1부부장 P2 False ['부부장'] 부부장,제1부부장\n",
      "55 국방위원회 인민무력부D_후방총국 국장 P1 False ['총국장'] 총국장,국장\n",
      "56 국방위원회 인민무력성A 부상 P2 True ['부상'] 부상\n",
      "57 국방위원회 인민무력성A_철도사령부 사령관 P1 False ['부장'] 부장,사령관\n",
      "58 국방위원회 인민보안부A 부장 P1 True ['부장'] 부장\n",
      "59 국방위원회 인민보안부A 제1부부장 P2 False ['부부장'] 부부장,제1부부장\n",
      "60 국방위원회 행정국 국장 P1 False [nan] 국장\n",
      "61 국방위원회 호위사령부_호위총국 국장 P1 False [nan] 국장\n",
      "62 국방위원회 호위사령부_호위총국 총국장 P1 False ['국장'] 국장,총국장\n",
      "63 국방위원회 nan 국장 P1 False [] 국장\n",
      "64 국방위원회 nan 위원 P3 False [] 위원\n",
      "65 국방위원회 nan 부위원장 P2 False [] 부위원장\n",
      "66 국방위원회 nan 위원장 P1 False [] 위원장\n",
      "67 국방위원회 nan 제1부위원장 P2 False [] 제1부위원장\n",
      "68 국방위원회 nan 제1위원장 P1 False [] 제1위원장\n",
      "69 국방위원회 nan 참사 P3 False [] 참사\n",
      "70 국제무도경기위원회 nan 명예위원장 P3 False [] 명예위원장\n",
      "71 국제문제연구소 nan 소장 P1 False [] 소장\n",
      "72 국제문제연구소 nan 부소장 P2 False [] 부소장\n",
      "73 국제문제연구소 nan 연구사 P3 False [] 연구사\n",
      "74 근로자사 nan 책임주필 P1 False [] 책임주필\n",
      "75 근로자사 nan 부주필 P2 False [] 부주필\n",
      "76 금성정치대학 nan 학장 P1 False [] 학장\n",
      "77 금속및기계수출입총회사 nan 사장 P1 False [] 사장\n",
      "78 금수산의사당 nan 외사국장 P3 False [] 외사국장\n",
      "79 길주펄프공장 nan 지배인 P1 False [] 지배인\n",
      "80 김일성-김정일주의청년동맹 중앙위원회 1비서 P1 False [nan] 1비서\n",
      "81 김일성-김정일주의청년동맹 중앙위원회 비서 P1 False ['1비서'] 1비서,비서\n",
      "82 김일성-김정일주의청년동맹 중앙위원회 위원장 P1 False ['1비서,비서'] 1비서,비서,위원장\n",
      "83 김일성-김정일주의청년동맹 중앙위원회 부장 P3 False [nan] 부장\n",
      "84 김일성경호대 nan 경호대장 P1 False [] 경호대장\n",
      "85 김일성군사종합대학 nan 총장 P1 False [] 총장\n",
      "86 김일성군사종합대학 nan 부총장 P2 False [] 부총장\n",
      "87 김일성김정일기금위원회 nan 위원장 P1 False [] 위원장\n",
      "88 김일성사회주의청년동맹 중앙위원회 1비서 P1 False [nan] 1비서\n",
      "89 김일성사회주의청년동맹 중앙위원회 비서 P1 False ['1비서'] 1비서,비서\n",
      "90 김일성사회주의청년동맹 중앙위원회 위원장 P1 False ['1비서,비서'] 1비서,비서,위원장\n",
      "91 김일성사회주의청년동맹 중앙위원회 2비서 P2 False [nan] 2비서\n",
      "92 김일성사회주의청년동맹 중앙위원회 3비서 P3 False [nan] 3비서\n",
      "93 김일성사회주의청년동맹 중앙위원회 4비서 P3 False ['3비서'] 3비서,4비서\n",
      "94 김일성사회주의청년동맹 중앙위원회 5비서 P3 False ['3비서,4비서'] 3비서,4비서,5비서\n",
      "95 김일성사회주의청년동맹 중앙위원회 대학생담당비서 P3 False ['3비서,4비서,5비서'] 3비서,4비서,5비서,대학생담당비서\n",
      "96 김일성사회주의청년동맹 중앙위원회 부장 P3 False ['3비서,4비서,5비서,대학생담당비서'] 3비서,4비서,5비서,대학생담당비서,부장\n",
      "97 김일성사회주의청년동맹 중앙위원회 서기 P3 False ['3비서,4비서,5비서,대학생담당비서,부장'] 3비서,4비서,5비서,대학생담당비서,부장,서기\n",
      "98 김일성종합대학 nan 부총장 P2 False [] 부총장\n",
      "99 김일성종합대학 nan 총장 P1 False [] 총장\n",
      "100 김책공군대학 nan 학장 P1 False [] 학장\n",
      "101 김책제철연합기업소 압연공장 공장장 P1 False [nan] 공장장\n",
      "102 김책제철연합기업소 nan 기사장 P1 False [] 기사장\n",
      "103 김책제철연합기업소 nan 책임비서 P1 False [] 책임비서\n",
      "104 나선시인민위원회 nan 위원장 P1 False [] 위원장\n",
      "105 남북경협제도실무협의회 nan 북측수석대표 P1 False [] 북측수석대표\n",
      "106 남포시농촌경리위원회 nan 위원장 P1 False [] 위원장\n",
      "107 남포시인민위원회 nan 부위원장 P2 False [] 부위원장\n",
      "108 남포시인민위원회 nan 위원장 P1 False [] 위원장\n",
      "109 남포시천리마구역인민위원회 nan 위원장 P1 False [] 위원장\n",
      "110 남포유리공장 nan 지도원 P1 False [] 지도원\n",
      "111 남포유리공장 nan 부기사장 P2 False [] 부기사장\n",
      "112 남흥청년화학연합기업소 nan 지배인 P1 False [] 지배인\n",
      "113 남흥청년화학연합기업소 nan 책임비서 P1 False [] 책임비서\n",
      "114 내각 간석지건설지도국_간석지설계사업소 기사장 P2 False [nan] 기사장\n",
      "115 내각 건설건재공업성_과학기술국 국장 P3 False [nan] 국장\n",
      "116 내각 교육위원회 위원장 P1 True ['위원장'] 위원장\n",
      "117 내각 교육위원회_고등교육성 상 P1 True ['상'] 상\n",
      "118 내각 교육위원회_과학및양성처 처장 P1 False [nan] 처장\n",
      "119 내각 교육위원회_보통교육국 국장 P1 True ['국장'] 국장\n",
      "120 내각 국가건설감독성_건설설계정보센터 기사장 P2 False [nan] 기사장\n",
      "121 내각 국가검열성 상 P1 True ['상'] 상\n",
      "122 내각 국가계획위원회_X국 국장 P1 True ['국장'] 국장\n",
      "123 내각 국가계획위원회_X국 부국장 P2 True ['부국장'] 부국장\n",
      "124 내각 국가과학원 사회과학위원 P3 False ['당책임비서, 당비서, 당부부장'] 당책임비서, 당비서, 당부부장,사회과학위원\n",
      "125 내각 국가과학원 원장 P1 True ['원장'] 원장\n",
      "126 내각 국가과학원_X소 소장 P1 False [nan] 소장\n",
      "127 내각 국가과학원_X원 연구원 P1 False [nan] 연구원\n",
      "128 내각 국가과학원_기술공학연구소_급냉구조연구실 실장 P1 False [nan] 실장\n",
      "129 내각 국가과학원_농업과학연구원 원장 P1 True ['원장'] 원장\n",
      "130 내각 국가과학원_농업과학원 원장 P1 False [nan] 원장\n",
      "131 내각 국가과학원_청년동맹 비서 P2 False ['부위원장'] 부위원장,비서\n",
      "132 내각 국가과학원_최첨단전자공학기지 지배인 P1 False [nan] 지배인\n",
      "133 내각 국가관광총국 국장 P1 False [nan] 국장\n",
      "134 내각 국가관광총국 총국장 P1 False ['국장'] 국장,총국장\n",
      "135 내각 국가비상방역위원회 부위원장 P2 False [nan] 부위원장\n",
      "136 내각 국가비상방역위원회 위원장 P1 False [nan] 위원장\n",
      "137 내각 국가수의방역위원회 위원장 P1 False [nan, nan] 위원장\n",
      "138 내각 국가영화위원회 위원장 P1 False ['위원장, 당위원장'] 위원장, 당위원장,위원장\n",
      "139 내각 국가영화총국 총국장 P1 False [nan] 총국장\n",
      "140 내각 국가품질감독국 국장 P1 False [nan] 국장\n",
      "141 내각 국가품질감독국 부국장 P2 False [nan] 부국장\n",
      "142 내각 국가학위학직수여위원회 부위원장 P2 False [nan] 부위원장\n",
      "143 내각 국토환경보호성 당비서 P1 False ['상'] 상,당비서\n",
      "144 내각 내각사무국 과장 P3 False ['부국장, 참사'] 부국장, 참사,과장\n",
      "145 내각 내각사무국 명예참사 P3 False ['부국장, 참사,과장'] 부국장, 참사,과장,명예참사\n",
      "146 내각 내각사무국 제1사무장 P1 False ['당책임비서, 사무장'] 당책임비서, 사무장,제1사무장\n",
      "147 내각 내각사무국_ X부 부장 P1 False [nan] 부장\n",
      "148 내각 내각사무국_X부 부부장 P2 False [nan] 부부장\n",
      "149 내각 노동성 상 P1 True ['상'] 상\n",
      "150 내각 대외경제성_국제무역촉진위원회 부위원장 P2 False [nan] 부위원장\n",
      "151 내각 대외경제성_민족경제협력위원회 부회장 P2 False ['부위원장'] 부위원장,부회장\n",
      "152 내각 대외경제성_민족경제협력위원회 서기장 P3 False ['정책국장, 위원'] 정책국장, 위원,서기장\n",
      "153 내각 대외경제성_민족경제협력위원회 중앙위원 P3 False ['정책국장, 위원,서기장'] 정책국장, 위원,서기장,중앙위원\n",
      "154 내각 대외경제성_민족경제협력위원회 참사 P3 False ['정책국장, 위원,서기장,중앙위원'] 정책국장, 위원,서기장,중앙위원,참사\n",
      "155 내각 대외경제성_민족경제협력위원회 총사장 P1 False ['위원장'] 위원장,총사장\n",
      "156 내각 대외경제성_민족경제협력위원회_민족경제협력연합회 회장 P1 False [nan] 회장\n",
      "157 내각 대외경제성_민족경제협력위원회_민족경제협력연합회_광명성총회사 총사장 P1 False [nan] 총사장\n",
      "158 내각 대외경제성_민족경제협력위원회_민족경제협력연합회_금강산국제관광총회사 총사장 P1 False [nan] 총사장\n",
      "159 내각 대외경제성_민족경제협력위원회_중앙특구개발지도총국 총국장 P1 False [nan] 총국장\n",
      "160 내각 대외경제성_조선국제무역촉진위원회 위원장 P1 True ['위원장', '위원장'] 위원장,위원장\n",
      "161 내각 대외경제성_조선국제무역촉진위원회 제1부위원장 P1 False ['위원장,위원장', '위원장,위원장'] 위원장,위원장,위원장,위원장,제1부위원장\n",
      "162 내각 대외경제성_조선국제무역촉진위원회 제1부위원장 P2 False ['부위원장', '부위원장'] 부위원장,부위원장,제1부위원장\n",
      "163 내각 대외봉사국 국장 P1 False [nan] 국장\n",
      "164 내각 대외봉사국_평양대외봉사학원 원장 P1 False [nan] 원장\n",
      "165 내각 도시경영성_수도건설지휘부 부장 P1 False [nan] 부장\n",
      "166 내각 문화성_예술공연운영국 국장 P1 True ['국장'] 국장\n",
      "167 내각 문화성_출판지도국 국장 P1 True ['국장'] 국장\n",
      "168 내각 상업성 부상 P2 True [nan, '부상'] 부상\n",
      "169 내각 상업성_X국 국장 P1 False [nan] 국장\n",
      "170 내각 수산성 책임지도원 P3 False [nan] 책임지도원\n",
      "171 내각 수산성_먼바다어업연합기업소 책임비서 P1 False ['지배인'] 지배인,책임비서\n",
      "172 내각 외무성 고문 P3 False [nan] 고문\n",
      "173 내각 외무성 과장 P3 False ['고문'] 고문,과장\n",
      "174 내각 외무성 제1부상 P2 False ['부상'] 부상,제1부상\n",
      "175 내각 외무성 참사 P3 False ['고문,과장'] 고문,과장,참사\n",
      "176 내각 외무성_X국 국장 P1 False [nan] 국장\n",
      "177 내각 외무성_X국_X대사관 대사 P1 False [nan] 대사\n",
      "178 내각 외무성_X국_호주대사관 공사 P2 False [nan] 공사\n",
      "179 내각 외무성_국제기구국_2과 담당지도원 P3 False [nan] 담당지도원\n",
      "180 내각 외무성_군축및평화연구소 상급연구원 P3 False [nan, nan] 상급연구원\n",
      "181 내각 외무성_군축및평화연구소 소장 P1 True [nan, '소장'] 소장\n",
      "182 내각 외무성_군축및평화연구소 소장대리 P1 False ['소장', '소장'] 소장,소장,소장대리\n",
      "183 내각 외무성_군축및평화연구소 연구원 P1 False ['소장,소장,소장대리', '소장,소장,소장대리'] 소장,소장,소장대리,소장,소장,소장대리,연구원\n",
      "184 내각 외무성_아시아1국_중국대사관 공사 P2 False [nan] 공사\n",
      "185 내각 외무성_아시아1국_중국대사관 임시대사대리 P1 False ['대사'] 대사,임시대사대리\n",
      "186 내각 외무성_아시아2국_미얀마대사관 영사 P3 False [nan] 영사\n",
      "187 내각 외무성_아시아2국_싱가포르대사관 2등서기관 P3 False [nan] 2등서기관\n",
      "188 내각 외무성_아시아2국_싱가포르대사관 서기관 P3 False ['2등서기관'] 2등서기관,서기관\n",
      "189 내각 외무성_아시아2국_싱가포르대사관 총영사직무대리 P1 False ['대사'] 대사,총영사직무대리\n",
      "190 내각 외무성_아시아2국_인도네시아대사관 3등서기관 P3 False [nan] 3등서기관\n",
      "191 내각 외무성_아시아2국_캄보디아대사관 임시대사대리 P1 False ['대사'] 대사,임시대사대리\n",
      "192 내각 외무성_아시아태양주국 국장 P1 False [nan] 국장\n",
      "193 내각 외무성_아프리카아랍라틴아메리카국_나이지리아대사관 2등서기관 P3 False [nan, nan] 2등서기관\n",
      "194 내각 외무성_아프리카아랍라틴아메리카국_시리아대사관 무관보 P3 False [nan, nan] 무관보\n",
      "195 내각 외무성_아프리카아랍라틴아메리카국_알제리대사관 서기관 P3 False [nan, nan] 서기관\n",
      "196 내각 외무성_아프리카아랍라틴아메리카국_콩고민주공화국대사관 3등서기관 P3 False [nan, nan] 3등서기관\n",
      "197 내각 외무성_영사조약법규국 국장 P1 True ['국장'] 국장\n",
      "198 내각 외무성_유럽1국_불가리아대사관 공사 P2 False [nan] 공사\n",
      "199 내각 외무성_유럽2국_독일대사관 참사관 P3 False [nan] 참사관\n",
      "200 내각 외무성_유엔대표부 1등서기관 P3 False [nan] 1등서기관\n",
      "201 내각 외무성_유엔대표부 공사 P2 False [nan] 공사\n",
      "202 내각 외무성_유엔대표부 대사 P1 False [nan] 대사\n",
      "203 내각 외무성_유엔대표부 대표 P1 False ['대사'] 대사,대표\n",
      "204 내각 외무성_유엔대표부 부대표 P2 False ['공사'] 공사,부대표\n",
      "205 내각 외무성_유엔대표부 상임대표 P1 False ['대사,대표'] 대사,대표,상임대표\n",
      "206 내각 외무성_유엔대표부 차석대사 P2 False ['공사,부대표'] 공사,부대표,차석대사\n",
      "207 내각 외무성_프랑스유네스코대표부 대표 P1 False [nan] 대표\n",
      "208 내각 원유공업성 상 P1 False [nan] 상\n",
      "209 내각 육해운성 상 P1 True ['상'] 상\n",
      "210 내각 육해운성 참모장 P3 False [nan] 참모장\n",
      "211 내각 육해운성_X국 국장 P1 False [nan] 국장\n",
      "212 내각 육해운성_항만수상운수관리국 기사장 P2 False ['부국장'] 부국장,기사장\n",
      "213 내각 인민경비대 사령관 P1 False [nan] 사령관\n",
      "214 내각 인민봉사총국 총국장 P1 False [nan] 총국장\n",
      "215 내각 임업성 당비서 P1 False ['상'] 상,당비서\n",
      "216 내각 임업성 비서 P2 False ['부상'] 부상,비서\n",
      "217 내각 자원개발성 국장 P1 False [nan] 국장\n",
      "218 내각 조국평화통일위원회 과장 P3 False ['위원'] 위원,과장\n",
      "219 내각 조국평화통일위원회 사무국장 P3 False ['위원,과장'] 위원,과장,사무국장\n",
      "220 내각 조국평화통일위원회 상무위원 P3 False ['위원,과장,사무국장'] 위원,과장,사무국장,상무위원\n",
      "221 내각 조국평화통일위원회 위원 P3 False ['위원,과장,사무국장,상무위원'] 위원,과장,사무국장,상무위원,위원\n",
      "222 내각 조국평화통일위원회_서기국 국장 P1 False [nan] 국장\n",
      "223 내각 조국평화통일위원회_서기국 제1국장 P1 False ['국장'] 국장,제1국장\n",
      "224 내각 조국평화통일위원회_서기국 부원 P3 False [nan] 부원\n",
      "225 내각 조국평화통일위원회_서기국 부장 P3 False ['부원'] 부원,부장\n",
      "226 내각 조국평화통일위원회_서기국 제1부국장 P2 False [nan] 제1부국장\n",
      "227 내각 조국평화통일위원회_서기국 참사 P3 False ['부원,부장'] 부원,부장,참사\n",
      "228 내각 조국평화통일위원회_서기국 책임참사 P3 False ['부원,부장,참사'] 부원,부장,참사,책임참사\n",
      "229 내각 조국평화통일위원회_중앙위원회 위원 P3 True ['위원'] 위원\n",
      "230 내각 조선공보위원회 위원장 P1 False [nan, nan] 위원장\n",
      "231 내각 중공업위원회 위원장 P1 False [nan] 위원장\n",
      "232 내각 중앙비상방역지휘부_좋합분과 과장 P1 False [nan] 과장\n",
      "233 내각 중앙통계국 국장 P1 True ['국장'] 국장\n",
      "234 내각 중앙통계국_X처 처장 P1 False [nan] 처장\n",
      "235 내각 지방공업성 상 P1 True ['상', '상'] 상,상\n",
      "236 내각 채취공업성_X국 국장 P1 False [nan] 국장\n",
      "237 내각 철도성 참모장 P3 False [nan] 참모장\n",
      "238 내각 철도성_X국 2부국장 P2 False [nan] 2부국장\n",
      "239 내각 철도성_X국 국장 P1 False [nan] 국장\n",
      "240 내각 철도성_수송지휘국 1부국장 P2 False ['부국장'] 부국장,1부국장\n",
      "241 내각 철도성_수송지휘국 국장 P1 True ['국장'] 국장\n",
      "242 내각 철도성_청진화학공장_소다직장 노동자 P3 False [nan] 노동자\n",
      "243 내각 체육성 제1부상 P2 False ['부상'] 부상,제1부상\n",
      "244 내각 체육성_X국 국장 P1 False [nan] 국장\n",
      "245 내각 출판지도국 총국장 P1 False [nan] 총국장\n",
      "246 내각 평안남도농촌경리위원회 고문위원장 P2 False [nan] 고문위원장\n",
      "247 내각 평양시인민위원회_상하수도관리소 당비서 P1 False [nan] 당비서\n",
      "248 내각 해외동포사업국 국장 P1 False [nan] 국장\n",
      "249 내각 nan 과장 P3 False [] 과장\n",
      "250 내각 nan 부수상 P2 False [] 부수상\n",
      "251 내각 nan 사무장 P3 False [] 사무장\n",
      "252 내각 nan 수상 P1 False [] 수상\n",
      "253 내각 nan 제1부수상 P2 False [] 제1부수상\n",
      "254 내각 nan 제2부수상 P2 False [] 제2부수상\n",
      "255 내각 nan 지배인 P1 False [] 지배인\n",
      "256 내각 nan 참사 P3 False [] 참사\n",
      "257 내각 nan 책임참사 P3 False [] 책임참사\n",
      "258 노농적위군 nan 사령관 P1 False [] 사령관\n",
      "259 노동당 당중앙위원회 위원 P3 False ['위원, 후보위원'] 위원, 후보위원,위원\n",
      "260 노동당 당중앙위원회 후보위원 P3 False ['위원, 후보위원,위원'] 위원, 후보위원,위원,후보위원\n"
     ]
    },
    {
     "name": "stdout",
     "output_type": "stream",
     "text": [
      "261 노동당 당중앙위원회 총비서 P1 False [nan] 총비서\n",
      "262 노동당 당중앙위원회_39호실 부실장 P2 False [nan] 부실장\n",
      "263 노동당 당중앙위원회_39호실 제1부부장 P2 False ['부실장'] 부실장,제1부부장\n",
      "264 노동당 당중앙위원회_X위원회 위원장 P1 False [nan] 위원장\n",
      "265 노동당 당중앙위원회_X위원회 부위원장 P2 False [nan] 부위원장\n",
      "266 노동당 당중앙위원회_X위원회 비서 P2 False ['부위원장'] 부위원장,비서\n",
      "267 노동당 당중앙위원회_간부부 부장 P1 True ['부장'] 부장\n",
      "268 노동당 당중앙위원회_검열위원회 위원장 P1 True ['위원장'] 위원장\n",
      "269 노동당 당중앙위원회_검열위원회 제1부위원장 P2 False ['부위원장'] 부위원장,제1부위원장\n",
      "270 노동당 당중앙위원회_경공업부 부장 P1 True ['부장'] 부장\n",
      "271 노동당 당중앙위원회_경제부 부장 P1 True ['부장'] 부장\n",
      "272 노동당 당중앙위원회_경제정책검열부 부장 P1 True ['부장'] 부장\n",
      "273 노동당 당중앙위원회_공업부 부장 P1 False [nan] 부장\n",
      "274 노동당 당중앙위원회_과학교육부 부장 P1 True ['부장'] 부장\n",
      "275 노동당 당중앙위원회_과학교육부 부부장 P2 False ['제1부부장'] 제1부부장,부부장\n",
      "276 노동당 당중앙위원회_과학교육부 지도원 P3 False [nan] 지도원\n",
      "277 노동당 당중앙위원회_과학교육부_X과 과장 P1 False [nan] 과장\n",
      "278 노동당 당중앙위원회_국제부 부장 P1 True ['부장'] 부장\n",
      "279 노동당 당중앙위원회_국제부 지도원 P3 False [nan] 지도원\n",
      "280 노동당 당중앙위원회_국제부_X과 과장 P1 False [nan] 과장\n",
      "281 노동당 당중앙위원회_군사부 부장 P1 True ['부장'] 부장\n",
      "282 노동당 당중앙위원회_군사위원회 위원 P3 False [nan] 위원\n",
      "283 노동당 당중앙위원회_군수공업부 제1부부장 P2 False ['제1부부장, 부부장'] 제1부부장, 부부장,제1부부장\n",
      "284 노동당 당중앙위원회_군수공업부_제2경사업부 부장 P1 False [nan] 부장\n",
      "285 노동당 당중앙위원회_근로단체부 부장 P1 True ['부장'] 부장\n",
      "286 노동당 당중앙위원회_김일성고급당학교_선전부 부장 P1 False [nan] 부장\n",
      "287 노동당 당중앙위원회_나선시당위원회 위원장 P1 False ['책임비서'] 책임비서,위원장\n",
      "288 노동당 당중앙위원회_남포시당위원회 위원장 P1 False ['책임비서'] 책임비서,위원장\n",
      "289 노동당 당중앙위원회_당역사연구소 소장 P1 True ['소장'] 소장\n",
      "290 노동당 당중앙위원회_당역사연구소 과장 P3 False [nan] 과장\n",
      "291 노동당 당중앙위원회_대외연락부 부장 P1 True ['부장'] 부장\n",
      "292 노동당 당중앙위원회_문서정리실 부장 P1 False ['실장'] 실장,부장\n",
      "293 노동당 당중앙위원회_문화연락부 부부장 P2 False ['제1부부장, 부부장'] 제1부부장, 부부장,부부장\n",
      "294 노동당 당중앙위원회_문화예술부 부부장 P2 False [nan] 부부장\n",
      "295 노동당 당중앙위원회_문화예술부 국장 P3 False [nan] 국장\n",
      "296 노동당 당중앙위원회_문화예술부_X과 과장 P1 False [nan] 과장\n",
      "297 노동당 당중앙위원회_민방위부 부장 P1 True ['부장'] 부장\n",
      "298 노동당 당중앙위원회_선전선동부 부부장 P2 False ['제1부부장, 부부장'] 제1부부장, 부부장,부부장\n",
      "299 노동당 당중앙위원회_선전선동부 비서 P1 False ['고문, 부장'] 고문, 부장,비서\n",
      "300 노동당 당중앙위원회_선전선동부_X과 부과장 P2 False [nan] 부과장\n",
      "301 노동당 당중앙위원회_선전선동부_X과 과장 P1 False [nan] 과장\n",
      "302 노동당 당중앙위원회_선전선동부_문화예술과 과장 P1 False [nan] 과장\n",
      "303 노동당 당중앙위원회_선전선동부_예술과 과장 P1 False [nan] 과장\n",
      "304 노동당 당중앙위원회_양강도당위원회 위원장 P1 False ['책임비서'] 책임비서,위원장\n",
      "305 노동당 당중앙위원회_양강도당위원회 부위원장 P2 False ['비서'] 비서,부위원장\n",
      "306 노동당 당중앙위원회_영화부 부장 P1 True ['부장'] 부장\n",
      "307 노동당 당중앙위원회_자강도당위원회 위원장 P1 False ['책임비서'] 책임비서,위원장\n",
      "308 노동당 당중앙위원회_재정경리부 부장 P1 True ['부장'] 부장\n",
      "309 노동당 당중앙위원회_정치국 상무위원 P1 True ['상무위원'] 상무위원\n",
      "310 노동당 당중앙위원회_정치국 위원 P2 True ['위원'] 위원\n",
      "311 노동당 당중앙위원회_정치국 비서 P1 False ['상무위원'] 상무위원,비서\n",
      "312 노동당 당중앙위원회_정치위원회 위원장 P1 True ['위원장', nan] 위원장\n",
      "313 노동당 당중앙위원회_정치위원회 후보위원 P3 False ['위원, 정치위원', nan] 위원, 정치위원,후보위원\n",
      "314 노동당 당중앙위원회_정치위원회 위원 P3 False ['위원, 정치위원,후보위원', '위원, 정치위원,후보위원'] 위원, 정치위원,후보위원,위원, 정치위원,후보위원,위원\n",
      "315 노동당 당중앙위원회_조직지도부 부장 P1 True ['부장'] 부장\n",
      "316 노동당 당중앙위원회_조직지도부 책임비서 P1 False ['부장'] 부장,책임비서\n",
      "317 노동당 당중앙위원회_조직지도부 지도원 P3 False [nan] 지도원\n",
      "318 노동당 당중앙위원회_조직지도부 책임지도원 P3 False ['지도원'] 지도원,책임지도원\n",
      "319 노동당 당중앙위원회_조직지도부_X과 과장 P1 False [nan] 과장\n",
      "320 노동당 당중앙위원회_조직지도부_서기실 책임비서 P1 False ['실장'] 실장,책임비서\n",
      "321 노동당 당중앙위원회_조직지도부_서기실 부부장 P3 False [nan] 부부장\n",
      "322 노동당 당중앙위원회_조직지도부_서기실 서기 P3 False ['부부장'] 부부장,서기\n",
      "323 노동당 당중앙위원회_중앙당학교_지도부 부부장 P2 False [nan] 부부장\n",
      "324 노동당 당중앙위원회_천리마제강연합기업소당위원회 책임비서 P1 False [nan] 책임비서\n",
      "325 노동당 당중앙위원회_청소년사업부 부장 P1 True ['부장'] 부장\n",
      "326 노동당 당중앙위원회_통일전선부 부장 P1 True ['부장'] 부장\n",
      "327 노동당 당중앙위원회_통일전선부 부부장 P2 True ['부부장'] 부부장\n",
      "328 노동당 당중앙위원회_통일전선부 경제연구사 P3 False [nan] 경제연구사\n",
      "329 노동당 당중앙위원회_통일전선부 실장 P3 False ['경제연구사'] 경제연구사,실장\n",
      "330 노동당 당중앙위원회_통일전선부 제1부부장 P2 False ['부부장'] 부부장,제1부부장\n",
      "331 노동당 당중앙위원회_평안남도당위원회_개천군당위원회 위원장 P1 False ['책임비서'] 책임비서,위원장\n",
      "332 노동당 당중앙위원회_평안북도당위원회 위원장 P1 False ['책임비서'] 책임비서,위원장\n",
      "333 노동당 당중앙위원회_평안북도당위원회 비서 P1 False ['책임비서,위원장'] 책임비서,위원장,비서\n",
      "334 노동당 당중앙위원회_평양시당위원회 위원장 P1 False ['책임비서'] 책임비서,위원장\n",
      "335 노동당 당중앙위원회_평양시당위원회_평천구역당위원회 책임비서 P1 False [nan] 책임비서\n",
      "336 노동당 당중앙위원회_함경남도당위원회 위원장 P1 False ['책임비서'] 책임비서,위원장\n",
      "337 노동당 당중앙위원회_함경남도당위원회 제2비서 P2 False ['비서'] 비서,제2비서\n",
      "338 노동당 당중앙위원회_함경남도당위원회_먼바다어업연합기업소당위원회 책임비서 P1 False [nan] 책임비서\n",
      "339 노동당 당중앙위원회_함경남도당위원회_함흥시당위원회_해안구역당위원회 책임비서 P1 False [nan] 책임비서\n",
      "340 노동당 당중앙위원회_함경북도당위원회 위원장 P1 False ['책임비서'] 책임비서,위원장\n",
      "341 노동당 당중앙위원회_함경북도당위원회 부위원장 P2 False ['비서'] 비서,부위원장\n",
      "342 노동당 당중앙위원회_함경북도당위원회_X부 부장 P1 False [nan] 부장\n",
      "343 노동당 당중앙위원회_황해남도당위원회 위원장 P1 False ['책임비서'] 책임비서,위원장\n",
      "344 노동당 당중앙위원회_황해북도당위원회 위원장 P1 False ['책임비서'] 책임비서,위원장\n",
      "345 노동당 당중앙위원회_황해북도당위원회_개성시당위원회 위원장 P1 False [nan] 위원장\n",
      "346 노동당 당중앙위원회_황해북도당위원회_개성시당위원회 책임비서 P1 False ['위원장'] 위원장,책임비서\n",
      "347 노동당 당중앙위원회_황해북도당위원회_중화군당위원회 책임비서 P1 False [nan] 책임비서\n",
      "348 노동당 당중앙위원회_황해북도당위원회_황주군당위원회 책임비서 P1 False [nan] 책임비서\n",
      "349 노동당 당중앙위원회_황해제철연합기업소당위원회 책임비서 P1 False [nan] 책임비서\n",
      "350 노동당 대외정보조사부 부장 P1 True ['부장'] 부장\n",
      "351 노동당 맑스레닌주의연구소 소장 P1 False [nan] 소장\n",
      "352 노동당 nan 총비서 P1 False [] 총비서\n",
      "353 노동당 nan 책임비서 P1 False [] 책임비서\n",
      "354 노동당 nan 제1비서 P1 False [] 제1비서\n",
      "355 노동신문 nan 실장 P3 False [] 실장\n",
      "356 노동신문사 nan 책임주필 P1 False [] 책임주필\n",
      "357 노동신문사 nan 부주필 P2 False [] 부주필\n",
      "358 노동신문사 nan 제1부주필 P2 False [] 제1부주필\n",
      "359 노동신문사 nan 기자 P3 False [] 기자\n",
      "360 노동신문사 nan 논설위원 P3 False [] 논설위원\n",
      "361 노동신문사 nan 부국장 P3 False [] 부국장\n",
      "362 농업과학원 과학심의위원회 위원 P3 False [nan] 위원\n",
      "363 농업과학원 nan 부원장 P2 False [] 부원장\n",
      "364 농업과학원 nan 위원 P3 False [] 위원\n",
      "365 단천수산사업소 nan 비서 P1 False [] 비서\n",
      "366 단천수산사업소 nan 초급당비서 P1 False [] 초급당비서\n",
      "367 대성경제연합체 nan 총사장 P1 False [] 총사장\n",
      "368 대안전기공장 nan 지배인 P1 False [] 지배인\n",
      "369 대안중기계연합기업소 nan 지배인 P1 False [] 지배인\n",
      "370 대안중기계연합기업소 nan 책임비서 P1 False [] 책임비서\n",
      "371 동아시아경기대회협의회 nan 위원장 P1 False [] 위원장\n",
      "372 만경대혁명학원 nan 원장 P1 False [] 원장\n",
      "373 만수대예술극장 nan 창작부장 P2 False [] 창작부장\n",
      "374 묘향무역회사 nan 사장 P1 False [] 사장\n",
      "375 무산광산연합기업소 nan 책임비서 P1 False [] 책임비서\n",
      "376 무산광산연합기업소 nan 부부장 P3 False [] 부부장\n",
      "377 문천군인민위원회 nan 위원장 P1 False [] 위원장\n",
      "378 문평제련소 공업시험소 기사 P1 False [nan] 기사\n",
      "379 문평제련소 nan 지배인 P1 False [] 지배인\n",
      "380 민족화해협의회 nan 부원 P3 False [] 부원\n",
      "381 민주조선사 nan 책임주필 P1 False [] 책임주필\n",
      "382 반항공사령부 nan 사령관 P1 False [] 사령관\n",
      "383 백두산건축연구원 nan 원장 P1 False [] 원장\n",
      "384 백두산창작단 nan 부단장 P2 False [] 부단장\n",
      "385 범민족통일음악회 nan 위원장 P1 False [] 위원장\n",
      "386 보천보전자악단 nan 고문 P1 False [] 고문\n",
      "387 보천보전자악단 nan 단장 P1 False [] 단장\n",
      "388 부령합금철공장 nan 지배인 P1 False [] 지배인\n",
      "389 북-소 친선협회 nan 부의장 P2 False [] 부의장\n",
      "390 북-일 우호친선협회 nan 최고고문 P1 False [] 최고고문\n",
      "391 북-일 우호친선협회 nan 회장 P1 False [] 회장\n",
      "392 북-일 우호친선협회 nan 부회장 P2 False [] 부회장\n",
      "393 북-일 우호친선협회 nan 상무위원 P3 False [] 상무위원\n",
      "394 북-중 친선협회 nan 상무위원 P3 False [] 상무위원\n",
      "395 북조선노동당 nan 부위원장 P2 False [] 부위원장\n",
      "396 북조선민주청년동맹 중앙위원회 부장 P3 False [nan] 부장\n",
      "397 북창화력발전연합기업소 nan 지배인 P1 False [] 지배인\n",
      "398 비전향장기수 구원대책 조선위원회 nan 위원장 P1 False [] 위원장\n",
      "399 사회과학원 군축및평화연구소 부소장 P2 False [nan] 부소장\n",
      "400 사회과학원 김일성김정일주의연구소 소장 P1 False [nan] 소장\n",
      "401 사회과학원 주체경제연구소 부소장 P2 False [nan] 부소장\n",
      "402 사회과학원 통일문제연구소 부소장 P2 False [nan] 부소장\n",
      "403 사회과학원 nan 원장 P1 False [] 원장\n",
      "404 사회과학원 nan 위원 P1 False [] 위원\n",
      "405 사회과학원 nan 부원장 P2 False [] 부원장\n",
      "406 사회과학원 nan 실장 P3 False [] 실장\n",
      "407 사회과학원 nan 연구원 P3 False [] 연구원\n",
      "408 사회주의노동청년동맹 돌격대 부참모장 P2 False [nan] 부참모장\n",
      "409 사회주의노동청년동맹 중앙위원회 위원장 P1 False [nan] 위원장\n",
      "410 사회주의노동청년동맹 중앙위원회 부위원장 P2 False [nan] 부위원장\n",
      "411 사회주의노동청년동맹 중앙위원회 과장 P3 False [nan] 과장\n",
      "412 사회주의노동청년동맹 중앙위원회 부장 P3 False ['과장'] 과장,부장\n",
      "413 사회주의노동청년동맹 평양시사회주의노동청년동맹 지도원 P1 False [nan] 지도원\n",
      "414 사회주의노동청년동맹 해외교양지도국 국장 P1 False [nan] 국장\n",
      "415 사회주의노동청년동맹 nan 위원장 P1 False [] 위원장\n",
      "416 사회주의노동청년동맹 nan 부위원장 P2 False [] 부위원장\n",
      "417 사회주의노동청년동맹 nan 국장 P3 False [] 국장\n",
      "418 사회주의애국청년동맹 중앙위원회 1비서 P1 False ['위원장'] 위원장,1비서\n",
      "419 사회주의애국청년동맹 중앙위원회_노동청년부 위원장 P1 False [nan] 위원장\n",
      "420 사회주의애국청년동맹 중앙위원회_노동청년부 지도원 P1 False ['위원장'] 위원장,지도원\n",
      "421 사회주의애국청년동맹 중앙위원회_노동청년부 부위원장 P2 False [nan] 부위원장\n",
      "422 사회주의애국청년동맹 중앙위원회_노동청년부 과장 P3 False [nan] 과장\n",
      "423 사회주의애국청년동맹 중앙위원회_청소년과외교양지도국 총국장 P1 False [nan] 총국장\n",
      "424 사회주의애국청년동맹 nan 1비서 P1 False [] 1비서\n",
      "425 사회주의애국청년동맹 nan 위원장 P1 False [] 위원장\n",
      "426 사회주의애국청년동맹 nan 조직대표 P1 False [] 조직대표\n",
      "427 사회주의애국청년동맹 nan 부위원장 P2 False [] 부위원장\n",
      "428 사회주의애국청년동맹 nan 비서 P2 False [] 비서\n",
      "429 삼석구역장수원협동농장 nan 관리위원장 P1 False [] 관리위원장\n",
      "430 성진방직공장 nan 지배인 P1 False [] 지배인\n",
      "431 수풍발전소 nan 기사장 P1 False [] 기사장\n",
      "432 수풍발전소 nan 책임자 P1 False [] 책임자\n",
      "433 순천비날론연합기업소 nan 지배인 P1 False [] 지배인\n",
      "434 순천지구청년탄광연합기업소 nan 지배인 P1 False [] 지배인\n",
      "435 승리자동차연합기업소 nan 책임비서 P1 False [] 책임비서\n",
      "436 신포수산사업소 nan 비서 P1 False [] 비서\n",
      "437 신포수산사업소 nan 초급당비서 P1 False [] 초급당비서\n",
      "438 아시아-아프리카 연대성 위원회 nan 비서 P1 False [] 비서\n",
      "439 안주지구탄광연합기업소 nan 지배인 P1 False [] 지배인\n",
      "440 안주지구탄광연합기업소 nan 책임비서 P1 False [] 책임비서\n",
      "441 양강도임업연합기업소 nan 지배인 P1 False [] 지배인\n",
      "442 영화예술단 nan 단장 P1 False [] 단장\n",
      "443 외국문출판사 nan 사장 P1 False [] 사장\n",
      "444 용성기계연합기업소 nan 지배인 P1 False [] 지배인\n",
      "445 용성기계연합기업소 nan 총국장 P1 False [] 총국장\n",
      "446 용성기계연합총국 nan 총국장 P1 False [] 총국장\n",
      "447 용성식료공장 nan 지배인 P1 False [] 지배인\n",
      "448 용천식료공장 nan 지배인 P1 False [] 지배인\n",
      "449 운산공구공장 nan 비서 P1 False [] 비서\n",
      "450 원산시인민위원회 nan 위원장 P1 False [] 위원장\n",
      "451 원산철도차량연합기업소 nan 대표 P1 False [] 대표\n",
      "452 윤이상음악연구소 nan 소장 P1 False [] 소장\n",
      "453 인민군 강건종합군관학교 교장 P1 False [nan] 교장\n",
      "454 인민군 보위국 사령관 P1 False [nan] 사령관\n",
      "455 인민군 제91수도방어군단 사령관 P1 False [nan] 사령관\n",
      "456 인민군 조선반제투사노병위원회 위원장 P1 False [nan] 위원장\n",
      "457 인민군 조선반제투사노병위원회 부위원장 P2 False [nan] 부위원장\n",
      "458 인민군 총정치국 국장 P1 False [nan] 국장\n",
      "459 인민군 총정치국 부국장 P2 False [nan] 부국장\n",
      "460 인민군 총정치국 제1부국장 P2 False ['부국장'] 부국장,제1부국장\n",
      "461 인민군 총정치국 제1부국장 P1 False ['국장'] 국장,제1부국장\n",
      "462 인민군 총정치국_선전부 부장 P1 False [nan] 부장\n",
      "463 인민군 총정치국_조직부 조직부국장 P1 False [nan] 조직부국장\n",
      "464 인민군 총정치국_조직부 부장 P1 False ['조직부국장'] 조직부국장,부장\n",
      "465 인민군 총정치국_행정부 행정부국장 P1 False [nan] 행정부국장\n",
      "466 인민군 총참모부_작전총국_제X처_제X군단_제3사단 참모장 P1 False [nan] 참모장\n",
      "467 인민군 호위사령부 사령관 P1 False [nan] 사령관\n",
      "468 인민군판문점대표부 nan 대표 P1 False [] 대표\n",
      "469 인민군판문점대표부 nan 부대표 P2 False [] 부대표\n",
      "470 인민대학습당 nan 총장 P1 False [] 총장\n",
      "471 인민대학습당 nan 부총장 P2 False [] 부총장\n",
      "472 자강도농촌경리위원회 nan 위원장 P1 False [] 위원장\n",
      "473 전희석동무가일하는기업소 nan 지배인 P1 False [] 지배인\n",
      "474 정무원 국가건설위원회 기사 P3 False [nan] 기사\n",
      "475 정무원 체육부 부부장 P2 False [nan] 부부장\n",
      "476 조국통일문제연구소 nan 연구원 P3 False [] 연구원\n",
      "477 조국통일민주주의전선 중앙위원회 위원 P3 False [nan] 위원\n",
      "478 조국통일민주주의전선 중앙위원회 의장 P3 False ['위원'] 위원,의장\n",
      "479 조국통일민주주의전선 nan 서기국장 P3 False [] 서기국장\n",
      "480 조국통일민주주의전선 nan 중앙위원 P3 False [] 중앙위원\n",
      "481 조국통일범민족연합북측본부 중앙위원회 위원 P3 False [nan] 위원\n",
      "482 조국통일범민족연합북측본부 nan 부위원장 P2 False [] 부위원장\n",
      "483 조국통일범민족연합북측본부 nan 부국장 P3 False [] 부국장\n",
      "484 조국통일범민족연합북측본부 nan 위원 P3 False [] 위원\n",
      "485 조국통일범민족청년학생연합북측본부 nan 의장 P1 False [] 의장\n",
      "486 조국통일연구원 nan 원장 P1 False [] 원장\n",
      "487 조국통일연구원 nan 부원장 P2 False [] 부원장\n",
      "488 조선-수단 친선협회  nan 부의장 P2 False [] 부의장\n",
      "489 조선-일본 우호친선협회 nan 최고고문 P1 False [] 최고고문\n",
      "490 조선-일본 우호친선협회 nan 회장 P1 False [] 회장\n",
      "491 조선-일본 우호친선협회 nan 부회장 P2 False [] 부회장\n",
      "492 조선-일본 우호친선협회 nan 고문 P3 False [] 고문\n",
      "493 조선-일본 우호친선협회 nan 상무위원 P3 False [] 상무위원\n",
      "494 조선-중국 친선협회  nan 상무위원 P3 False [] 상무위원\n",
      "495 조선4.25예술영화촬영소 nan 총장 P1 False [] 총장\n",
      "496 조선4.25예술영화촬영소 nan 상급연출가 P3 False [] 상급연출가\n",
      "497 조선공상당 북조선분국 비서 P1 False [nan] 비서\n",
      "498 조선공상당 북조선분국 책임비서 P1 False ['비서'] 비서,책임비서\n",
      "499 조선과학기술총연맹 nan 위원장 P1 False [] 위원장\n",
      "500 조선과학기술총연맹 nan 중앙위원장 P1 False [] 중앙위원장\n",
      "501 조선과학기술총연맹 nan 부위원장 P2 False [] 부위원장\n",
      "502 조선과학기술총연맹 nan 서기장 P3 False [] 서기장\n",
      "503 조선국제합영촉진위원회 nan 위원장 P1 False [] 위원장\n",
      "504 조선국제합영총회사 nan 이사 P1 False [] 이사\n",
      "505 조선국제합영총회사 nan 이사장 P1 False [] 이사장\n",
      "506 조선국제합영총회사 nan 총사장 P1 False [] 총사장\n",
      "507 조선국제합영총회사 nan 부이사장 P2 False [] 부이사장\n",
      "508 조선그리스도교연맹 nan 위원장 P1 False [] 위원장\n",
      "509 조선금연위원회 nan 위원장 P1 False [] 위원장\n",
      "510 조선기자동맹 국제기자동맹아시아및대양주지역사무국 부위원장 P2 False ['부국장'] 부국장,부위원장\n",
      "511 조선농업근로자동맹 중앙위원회 당비서 P2 False ['부위원장'] 부위원장,당비서\n",
      "512 조선농업근로자동맹 nan 위원장 P1 False [] 위원장\n",
      "513 조선대외문화연락위원회 nan 위원장대리 P2 False [] 위원장대리\n",
      "514 조선대외문화연락위원회 nan 과장 P3 False [] 과장\n",
      "515 조선대외문화연락위원회 nan 부부장 P3 False [] 부부장\n",
      "516 조선대외문화연락협회 nan 위원장 P1 False [] 위원장\n",
      "517 조선대외문화연락협회 nan 부위원장 P2 False [] 부위원장\n",
      "518 조선대외문화연락협회 nan 국장 P3 False [] 국장\n",
      "519 조선대풍국제투자그룹 nan 이사장 P1 False [] 이사장\n",
      "520 조선대풍투자그룹 nan 이사장 P1 False [] 이사장\n",
      "521 조선도서관협회 nan 위원장 P1 False [] 위원장\n",
      "522 조선무역은행 프랑스지점 부대표 P2 False [nan] 부대표\n",
      "523 조선무역은행 프랑스지점 과장 P3 False [nan] 과장\n",
      "524 조선무역은행 nan 총재 P1 False [] 총재\n",
      "525 조선문학예술총동맹 조선민족음악연구학회 고문 P1 False [nan] 고문\n",
      "526 조선문학예술총동맹 조선예술교류협회 고문 P1 False [nan] 고문\n",
      "527 조선문학예술총동맹 조선예술교류협회 회장 P1 False ['고문'] 고문,회장\n",
      "528 조선문학예술총동맹 조선음악가동맹_중앙위원회 위원 P3 False ['서기장'] 서기장,위원\n",
      "529 조선문학예술총동맹 조선작가동맹 부위원장 P2 False [nan] 부위원장\n",
      "530 조선문학예술총동맹 조선작가동맹 위원 P3 False [nan] 위원\n",
      "531 조선문학예술총동맹 조선작가동맹_중앙위원회 제1부위원장 P2 False ['부위원장'] 부위원장,제1부위원장\n",
      "532 조선문학예술총동맹 중앙위원회 상무위원 P3 False [nan] 상무위원\n",
      "533 조선문학예술총동맹 nan 부위원장 P2 False [] 부위원장\n",
      "534 조선문학창작사 nan 사장 P1 False [] 사장\n",
      "535 조선문학창작사 nan 부사장 P2 False [] 부사장\n",
      "536 조선문학창작사 nan 편집국장 P3 False [] 편집국장\n",
      "537 조선민족음악위원회 nan 위원장 P1 False [] 위원장\n",
      "538 조선민주법률가협회 nan 사무총장 P1 False [] 사무총장\n",
      "539 조선민주여성동맹 중앙위원회 부위원장 P2 False [nan] 부위원장\n",
      "540 조선민주청년동맹 중앙위원회 부위원장 P2 False [nan] 부위원장\n",
      "541 조선민주청년동맹 중앙위원회 부장 P3 False [nan] 부장\n",
      "542 조선반핵평화협의회 nan 위원장 P1 False [] 위원장\n",
      "543 조선반핵평화협의회 nan 부위원장 P2 False [] 부위원장\n",
      "544 조선불교도연맹 중앙위원회 위원장 P1 False ['부장'] 부장,위원장\n",
      "545 조선불교도연맹 중앙위원회 부위원장 P2 False ['부부장'] 부부장,부위원장\n",
      "546 조선불교도연맹 중앙위원회 상무위원 P3 False [nan] 상무위원\n",
      "547 조선불교도연맹 중앙위원회 서기장 P3 False ['상무위원'] 상무위원,서기장\n",
      "548 조선불교도연맹 중앙위원회_묘향산보현사 승려 P3 False [nan] 승려\n",
      "549 조선불교도연맹 함경북도위원회 위원장 P1 False [nan] 위원장\n",
      "550 조선불교도연맹 함경북도위원회 부장 P3 False [nan] 부장\n",
      "551 조선빙상피겨협회 nan 제1부위원장 P2 False [] 제1부위원장\n",
      "552 조선사회주의여성동맹 양강도위원회 위원장 P1 False [nan] 위원장\n",
      "553 조선사회주의여성동맹 중앙위원회 비서 P2 False ['부위원장'] 부위원장,비서\n",
      "554 조선사회주의여성동맹 중앙위원회 위원 P3 False ['서기장'] 서기장,위원\n",
      "555 조선사회주의여성동맹 중앙위원회 임원 P3 False ['서기장,위원'] 서기장,위원,임원\n",
      "556 조선사회주의여성동맹 평양시위원회 위원장 P1 False [nan] 위원장\n",
      "557 조선사회주의여성동맹 nan 부위원장 P2 False [] 부위원장\n",
      "558 조선소프트볼협회 nan 회장 P1 False [] 회장\n",
      "559 조선아시아태평양평화위원회 명승지종합개발지도국 총국장 P1 False [nan] 총국장\n",
      "560 조선아시아태평양평화위원회 명승지종합개발회사 총사장 P1 False [nan] 총사장\n",
      "561 조선아시아태평양평화위원회 nan 부실장 P3 False [] 부실장\n",
      "562 조선올림픽위원회 nan 부위원장 P2 False [] 부위원장\n",
      "563 조선올림픽위원회 nan 사무차장 P3 False [] 사무차장\n",
      "564 조선옷협회 nan 위원장 P1 False [] 위원장\n",
      "565 조선외교협회 nan 부회장 P2 False [] 부회장\n",
      "566 조선요리협회 요리연구실 회장 P1 False [nan] 회장\n",
      "567 조선은별무역총회사 nan 고문 P1 False [] 고문\n",
      "568 조선의학협회 중앙위원회 위원장 P1 False [nan] 위원장\n",
      "569 조선일본군위안부및강제연행히패자보상대책위원회 종군위안부범죄등일본의과거청산문제에대한조선강제연행진상조사단 위원장 P1 False ['중앙본부단장'] 중앙본부단장,위원장\n",
      "570 조선자연보호연맹 중앙위원회 위원장 P1 False [nan] 위원장\n",
      "571 조선장애자보호연맹 중앙위원회 위원장 P1 False [nan] 위원장\n",
      "572 조선적십자종합병원 nan 원장 P1 False [] 원장\n",
      "573 조선적십자회 중앙위원회 집행부위원장 P2 False ['부위원장'] 부위원장,집행부위원장\n",
      "574 조선적십자회 중앙위원회 서기국장 P3 False ['상무위원, 위원, 서기장, 부서기장, 책임지도원'] 상무위원, 위원, 서기장, 부서기장, 책임지도원,서기국장\n",
      "575 조선적십자회 중앙위원회 자문위원 P3 False ['상무위원, 위원, 서기장, 부서기장, 책임지도원,서기국장'] 상무위원, 위원, 서기장, 부서기장, 책임지도원,서기국장,자문위원\n",
      "576 조선적십자회 중앙위원회_예술단 부단장 P2 False [nan] 부단장\n",
      "577 조선적십자회 nan 부위원장 P2 False [] 부위원장\n",
      "578 조선적십자회 nan 상무위원 P3 False [] 상무위원\n",
      "579 조선적십자회 nan 서기 P3 False [] 서기\n",
      "580 조선종교인협의회 nan 부위원장 P2 False [] 부위원장\n",
      "581 조선중앙방송위원회 텔레비전방송사 사장 P1 False [nan] 사장\n",
      "582 조선중앙방송위원회 nan 부위원장 P2 False [] 부위원장\n",
      "583 조선중앙방송위원회 nan 위원장 P1 False [] 위원장\n",
      "584 조선중앙방송위원회 nan 제1부위원장 P2 False [] 제1부위원장\n",
      "585 조선중앙통신사 서기국 부국장 P2 False [nan] 부국장\n",
      "586 조선중앙통신사 nan 기자 P3 False [] 기자\n",
      "587 조선중앙통신사 nan 부사장 P2 False [] 부사장\n",
      "588 조선중앙통신사 nan 사장 P1 False [] 사장\n",
      "589 조선중앙통신사 nan 제1부사장 P2 False [] 제1부사장\n",
      "590 조선직업총동맹 중앙위원회_함경남도위원회_덕성군위원회 지도원 P1 False [nan] 지도원\n",
      "591 조선직업총동맹 nan 위원장 P1 False [] 위원장\n",
      "592 조선창광무역회사 nan 부사장 P2 False [] 부사장\n",
      "593 조선천도교회중앙지도위원회 nan 고문 P1 False [] 고문\n",
      "594 조선천도교회중앙지도위원회 nan 위원장 P1 False [] 위원장\n",
      "595 조선체육기술연맹 nan 위원장 P1 False [] 위원장\n",
      "596 조선축구협회 nan 간부 P3 False [] 간부\n",
      "597 조선축구협회 nan 위원 P3 False [] 위원\n",
      "598 조선평화옹호전국민족위원회 nan 상무위원 P3 False [] 상무위원\n",
      "599 조선해외동포원호위원회 nan 부부장 P3 False [] 부부장\n",
      "600 조선혁명박물관 nan 비서 P1 False [] 비서\n",
      "601 조선혁명박물관 nan 관장 P1 False [] 관장\n",
      "602 조선혁명박물관 nan 위원장 P1 False [] 위원장\n",
      "603 조선흑색금속수출회사 nan 사장 P1 False [] 사장\n",
      "604 종군위안부및태평양전쟁피해자대책위원회 nan 위원장 P1 False [] 위원장\n",
      "605 중앙검찰소 nan 소장 P1 False [] 소장\n",
      "606 중앙당학교 nan 교장 P1 False [] 교장\n",
      "607 중앙인민위원회 경제정책위원회 부위원장 P2 False [nan] 부위원장\n"
     ]
    },
    {
     "name": "stdout",
     "output_type": "stream",
     "text": [
      "608 중앙인민위원회 경제정책위원회 위원 P3 False [nan] 위원\n",
      "609 중앙인민위원회 대외정책위원회 위원 P3 False [nan] 위원\n",
      "610 중앙인민위원회 법제위원회 위원장 P1 False [nan] 위원장\n",
      "611 중앙인민위원회 인민무력부 부부장 P2 False [nan] 부부장\n",
      "612 중앙인민위원회 인민무력부C 부부장 P2 False [nan] 부부장\n",
      "613 중앙인민위원회 인민무력부C 제1부부장 P2 False ['부부장'] 부부장,제1부부장\n",
      "614 중앙인민위원회 인민무력부C 부장 P1 False [nan] 부장\n",
      "615 중앙인민위원회 인민무력부C_공병국 국장 P1 False [nan] 국장\n",
      "616 중앙인민위원회 인민무력부C_군수동원총국 국장 P1 False [nan] 국장\n",
      "617 중앙인민위원회 인민무력부C_보위국 국장 P1 False [nan] 국장\n",
      "618 중앙인민위원회 인민무력부C_후방총국 총국장 P1 False [nan] 총국장\n",
      "619 중앙인민위원회 인민무력부_X국 부국장 P2 False [nan] 부국장\n",
      "620 중앙인민위원회 인민무력부_간부국 국장 P1 False [nan] 국장\n",
      "621 중앙인민위원회 인민무력부_보위사령부 사령관 P1 False [nan] 사령관\n",
      "622 중앙인민위원회 인민무력부_정찰국 국장 P1 False [nan] 국장\n",
      "623 중앙인민위원회 인민무력부_후방총국 총국장 P1 False [nan] 총국장\n",
      "624 중앙인민위원회 주석부 책임서기 P3 False [nan] 책임서기\n",
      "625 중앙인민위원회 nan 국가부주석 P2 False [] 국가부주석\n",
      "626 중앙인민위원회 nan 부주석 P2 False [] 부주석\n",
      "627 중앙인민위원회 nan 수위 P1 False [] 수위\n",
      "628 중앙인민위원회 nan 부장 P1 False [] 부장\n",
      "629 중앙인민위원회 nan 위원 P3 False [] 위원\n",
      "630 중앙인민위원회 nan 제1부주석 P2 False [] 제1부주석\n",
      "631 중앙인민위원회 nan 주석 P1 False [] 주석\n",
      "632 중앙자재총연합상사 nan 총사장 P1 False [] 총사장\n",
      "633 중앙재판소 nan 소장 P1 False [] 소장\n",
      "634 직동청년탄광 nan 기사장 P1 False [] 기사장\n",
      "635 직동청년탄광 nan 지배인 P1 False [] 지배인\n",
      "636 체육기술연맹 nan 위원장 P1 False [] 위원장\n",
      "637 체육연구원 체육과학연구소 소장 P1 False [nan] 소장\n",
      "638 체육연구원 체육과학연구소 연구원 P3 False [nan] 연구원\n",
      "639 체육연구원 nan 원장 P1 False [] 원장\n",
      "640 총참모부 2집단군사령부 참모장 P1 False [nan] 참모장\n",
      "641 총참모부 기계화보병사단_제108기계화보병사단 군단장 P1 False [nan] 군단장\n",
      "642 총참모부 기계화보병사단_제425기계화보병사단 군단장 P1 False [nan] 군단장\n",
      "643 총참모부 보위국 국장 P1 False [nan] 국장\n",
      "644 총참모부 작전총국 국장 P1 False ['총국장'] 총국장,국장\n",
      "645 총참모부 작전총국 총국장 P1 False ['총국장,국장'] 총국장,국장,총국장\n",
      "646 총참모부 작전총국_X군단_제4사단 참모장 P1 False [nan] 참모장\n",
      "647 총참모부 작전총국_X처_X군_제10사단_제25연대 연대장 P1 False [nan] 연대장\n",
      "648 총참모부 작전총국_X처_X군단_X사단 사단장 P1 False [nan] 사단장\n",
      "649 총참모부 작전총국_X처_X군단_제37사단 사단장 P1 False [nan] 사단장\n",
      "650 총참모부 작전총국_X처_제X군단_제37사단 사단장 P1 False [nan] 사단장\n",
      "651 총참모부 작전총국_제3처_제1군단 군단장 P1 False [nan] 군단장\n",
      "652 총참모부 작전총국_제3처_제1군단 정치위원 P3 False [nan] 정치위원\n",
      "653 총참모부 작전총국_제3처_제1군단_제13사단 사단장 P1 False [nan] 사단장\n",
      "654 총참모부 작전총국_제3처_제1군단_제1사단 사단장 P1 False [nan] 사단장\n",
      "655 총참모부 작전총국_제3처_제1집단군 사령관 P1 False [nan] 사령관\n",
      "656 총참모부 작전총국_제3처_제1집단군 정치위원 P3 False [nan] 정치위원\n",
      "657 총참모부 작전총국_제3처_제1집단군 참모장 P1 False ['사령관'] 사령관,참모장\n",
      "658 총참모부 작전총국_제3처_제2군단 군단장 P1 False [nan] 군단장\n",
      "659 총참모부 작전총국_제3처_제2군단 부군단장 P2 False [nan] 부군단장\n",
      "660 총참모부 작전총국_제3처_제2군단_제3사단 사단장 P1 False [nan] 사단장\n",
      "661 총참모부 작전총국_제3처_제2군단_제3사단 참모장 P1 False ['사단장'] 사단장,참모장\n",
      "662 총참모부 작전총국_제3처_제2군단_제8사단_제81연대 연대장 P1 False [nan] 연대장\n",
      "663 총참모부 작전총국_제3처_제4군단 군단장 P1 False [nan] 군단장\n",
      "664 총참모부 작전총국_제3처_제4군단 부군단장 P2 False [nan] 부군단장\n",
      "665 총참모부 작전총국_제3처_제4군단 정치부장 P1 False ['군단장'] 군단장,정치부장\n",
      "666 총참모부 작전총국_제3처_제4군단 정치위원 P3 False [nan] 정치위원\n",
      "667 총참모부 작전총국_제3처_제4군단 참모장 P1 False ['군단장,정치부장'] 군단장,정치부장,참모장\n",
      "668 총참모부 작전총국_제3처_제5군단 군단장 P1 False [nan] 군단장\n",
      "669 총참모부 작전총국_제3처_제5군단 참모장 P1 False ['군단장'] 군단장,참모장\n",
      "670 총참모부 작전총국_제3처_제5군단_제32사단 사단장 P1 False [nan] 사단장\n",
      "671 총참모부 작전총국_제3처_제820전차군단 군단장 P1 False [nan] 군단장\n",
      "672 총참모부 작전총국_제3처_제820전차군단 정치위원 P3 False [nan] 정치위원\n",
      "673 총참모부 작전총국_제3처_제820전차군단 참모장 P1 False ['군단장'] 군단장,참모장\n",
      "674 총참모부 작전총국_제4처_9군단 군단장 P1 False [nan] 군단장\n",
      "675 총참모부 작전총국_제4처_제3군단 군단장 P1 False [nan] 군단장\n",
      "676 총참모부 작전총국_제4처_제3군단 참모장 P1 False ['군단장'] 군단장,참모장\n",
      "677 총참모부 작전총국_제4처_제7군단 군단장 P1 False [nan] 군단장\n",
      "678 총참모부 작전총국_제4처_제7군단_39사단 사단장 P1 False [nan] 사단장\n",
      "679 총참모부 작전총국_제4처_제8군단 군단장 P1 False [nan] 군단장\n",
      "680 총참모부 작전총국_제4처_제9군단 군단장 P1 False [nan] 군단장\n",
      "681 총참모부 작전총국_제4처_제X군단_제8사단_제81연대 연대장 P1 False [nan] 연대장\n",
      "682 총참모부 작전총국_제5처_미사일지도국 국장 P1 False [nan] 국장\n",
      "683 총참모부 작전총국_제5처_제108기계화군단 군단장 P1 False [nan] 군단장\n",
      "684 총참모부 작전총국_제5처_제525부대 사령관 P1 False [nan] 사령관\n",
      "685 총참모부 작전총국_제6처 참모장 P1 False [nan] 참모장\n",
      "686 총참모부 작전총국_제6처_민용항공총국 부국장 P2 False [nan] 부국장\n",
      "687 총참모부 작전총국_제7처_동해함대사령부 사령관 P1 False [nan] 사령관\n",
      "688 총참모부 작전총국_제7처_서해함대사령부 사령관 P1 False [nan] 사령관\n",
      "689 총참모부 작전총국_제9처_제534훈련소 사령관 P1 False [nan] 사령관\n",
      "690 총참모부 작전총국_제X처_제5집단군 사령관 P1 False [nan] 사령관\n",
      "691 총참모부 작전총국_제X처_제5집단군 참모장 P1 False ['사령관'] 사령관,참모장\n",
      "692 총참모부 작전총국_제X처_제X군단_제15사단 사단장 P1 False [nan] 사단장\n",
      "693 총참모부 작전총국_제X처_제X군단_제15사단_제3연대 연대장 P1 False [nan] 연대장\n",
      "694 총참모부 작전총국_제X처_제X군단_제2사단 연대장 P1 False [nan] 연대장\n",
      "695 총참모부 작전총국_제X처_제X군단_제2사단 참모장 P1 False ['연대장'] 연대장,참모장\n",
      "696 총참모부 작전총국_제X처_제X군단_제2사단_제1연대 연대장 P1 False [nan] 연대장\n",
      "697 총참모부 작전총국_제X처_제X군단_제3사단 사단장 P1 False [nan] 사단장\n",
      "698 총참모부 작전총국_제X처_제X군단_제X사단_제46연대 연대장 P1 False [nan] 연대장\n",
      "699 총참모부 전략군사령부 정치위원 P3 False [nan] 정치위원\n",
      "700 총참모부 정찰총국 총국장 P1 True ['총국장'] 총국장\n",
      "701 총참모부 정찰총국 제1부총국장 P2 False ['부총국장'] 부총국장,제1부총국장\n",
      "702 총참모부 통신국 국장 P1 True ['국장'] 국장\n",
      "703 총참모부 포병국 국장 P1 True ['국장'] 국장\n",
      "704 총참모부 nan 부총참모장 P2 False [] 부총참모장\n",
      "705 총참모부 nan 재1부총참모장 P2 False [] 재1부총참모장\n",
      "706 총참모부 nan 제1부총참모장 P2 False [] 제1부총참모장\n",
      "707 총참모부 nan 참모장 P1 False [] 참모장\n",
      "708 총참모부 nan 총참모장 P1 False [] 총참모장\n",
      "709 최고사령부 nan 사령관 P1 False [] 사령관\n",
      "710 최고사령부 nan 최고사령관 P1 False [] 최고사령관\n",
      "711 최고인민회의 대의원자격심사위원회 위원 P3 True ['위원'] 위원\n",
      "712 최고인민회의 대의원자격심사위원회 위원장 P1 True ['위원장'] 위원장\n",
      "713 최고인민회의 법안심의위원회 부위원장 P2 True ['부위원장'] 부위원장\n",
      "714 최고인민회의 법안심의위원회 위원 P3 True ['위원'] 위원\n",
      "715 최고인민회의 법안심의위원회 위원장 P1 True ['위원장'] 위원장\n",
      "716 최고인민회의 법제위원회 위원 P3 True ['위원'] 위원\n",
      "717 최고인민회의 법제위원회 부위원장 P2 True ['부위원장'] 부위원장\n",
      "718 최고인민회의 상설회의 부의장 P2 False [nan] 부의장\n",
      "719 최고인민회의 상설회의 의원 P3 False [nan] 의원\n",
      "720 최고인민회의 상설회의 의장 P1 False [nan] 의장\n",
      "721 최고인민회의 상임위원회 명예부위원장 P3 False ['위원', '서기장, 위원, 참사, 당비서'] 위원,서기장, 위원, 참사, 당비서,명예부위원장\n",
      "722 최고인민회의 상임위원회 부위원장 P2 True ['부위원장', '부위원장'] 부위원장,부위원장\n",
      "723 최고인민회의 상임위원회 위원 P3 False ['위원,서기장, 위원, 참사, 당비서,명예부위원장', '위원,서기장, 위원, 참사, 당비서,명예부위원장'] 위원,서기장, 위원, 참사, 당비서,명예부위원장,위원,서기장, 위원, 참사, 당비서,명예부위원장,위원\n",
      "724 최고인민회의 상임위원회 의원 P3 False ['위원,서기장, 위원, 참사, 당비서,명예부위원장,위원,서기장, 위원, 참사, 당비서,명예부위원장,위원', '위원,서기장, 위원, 참사, 당비서,명예부위원장,위원,서기장, 위원, 참사, 당비서,명예부위원장,위원'] 위원,서기장, 위원, 참사, 당비서,명예부위원장,위원,서기장, 위원, 참사, 당비서,명예부위원장,위원,위원,서기장, 위원, 참사, 당비서,명예부위원장,위원,서기장, 위원, 참사, 당비서,명예부위원장,위원,의원\n",
      "725 최고인민회의 외교위원회 위원 P3 True [nan, '위원'] 위원\n",
      "726 최고인민회의 외교위원회 부위원장 P2 True [nan, '부위원장'] 부위원장\n",
      "727 최고인민회의 외교위원회 자문위원 P3 False ['위원', '위원'] 위원,위원,자문위원\n",
      "728 최고인민회의 자격심사위원회 위원 P3 False [nan] 위원\n",
      "729 최고인민회의 중앙선거위원회 부위원장 P2 True ['부위원장'] 부위원장\n",
      "730 최고인민회의 중앙선거위원회 서기장 P3 False ['서기장, 위원'] 서기장, 위원,서기장\n",
      "731 최고인민회의 중앙선거위원회 위원 P3 False ['서기장, 위원,서기장'] 서기장, 위원,서기장,위원\n",
      "732 최고인민회의 중앙선거위원회 위원장 P1 True ['위원장'] 위원장\n",
      "733 최고인민회의 통일정책위원회 책임참사 P3 False [nan, nan] 책임참사\n",
      "734 최고인민회의 nan 대의원 P3 False [] 대의원\n",
      "735 최고인민회의 nan 후보위원 P3 False [] 후보위원\n",
      "736 통일신보사 nan 주필 P1 False [] 주필\n",
      "737 평안남도농촌경리위원회 nan 위원장 P1 False [] 위원장\n",
      "738 평안남도인민위원회 내무국 국장 P1 False [nan] 국장\n",
      "739 평안남도인민위원회 nan 대의원 P3 False [] 대의원\n",
      "740 평안남도협동농장관리위원회 개천군협동농장관리위원회 위원장 P1 False [nan] 위원장\n",
      "741 평안북도농촌경리위원회 nan 부위원장 P2 False [] 부위원장\n",
      "742 평안북도농촌경리위원회 nan 위원장 P1 False [] 위원장\n",
      "743 평앙시인민위원회 건설총국 총국장 P1 False [nan] 총국장\n",
      "744 평양교원대학 nan 총장 P1 False [] 총장\n",
      "745 평양국제관계대학 nan 교수 P2 False [] 교수\n",
      "746 평양기계상사 nan 총사장 P1 False [] 총사장\n",
      "747 평양만경대예술단 섭외부 부부장 P2 False [nan] 부부장\n",
      "748 평양시농촌경리위원회 nan 위원장 P1 False [] 위원장\n",
      "749 평양시력포구역인민위원회 nan 지도원 P3 False [] 지도원\n",
      "750 평양시인민위원회 인민봉사총국 제1부총국장 P2 False [nan] 제1부총국장\n",
      "751 평양시인민위원회 nan 대의원 P3 False [] 대의원\n",
      "752 평양시인민위원회 nan 부위원장 P2 False [] 부위원장\n",
      "753 평양시인민위원회 nan 위원장 P1 False [] 위원장\n",
      "754 평양시지방산업총국 nan 부총국장 P2 False [] 부총국장\n",
      "755 평양시청년건설사단 nan 부장 P3 False [] 부장\n",
      "756 평양신학원 nan 원장 P1 False [] 원장\n",
      "757 평양연극영화대학 사회주의노동청년동맹 부위원장 P2 False [nan] 부위원장\n",
      "758 평양예술단 nan 단장 P1 False [] 단장\n",
      "759 평양인민위원회 대외봉사총국 국장 P1 False [nan] 국장\n",
      "760 평양인민위원회 대외봉사총국 총국장 P1 False ['국장'] 국장,총국장\n",
      "761 평양인민위원회 인민봉사총국 국장 P1 False [nan] 국장\n",
      "762 평양인민위원회 인민봉사총국 총국장 P1 False ['국장'] 국장,총국장\n",
      "763 평양인민위원회 인민봉사총국 제1부총국장 P1 False ['국장,총국장'] 국장,총국장,제1부총국장\n",
      "764 평양출판사 nan 사장 P1 False [] 사장\n",
      "765 평양탄광기계공장 nan 비서 P1 False [] 비서\n",
      "766 평양탄광기계공장 nan 초급당비서 P1 False [] 초급당비서\n",
      "767 평양피복공장 nan 지배인 P1 False [] 지배인\n",
      "768 평양학생소년예술단 nan 단장 P1 False [] 단장\n",
      "769 피바다가극단 nan 총장 P1 False [] 총장\n",
      "770 피바다가극단 nan 부총장 P2 False [] 부총장\n",
      "771 피바다가극단 nan 예술부총장 P2 False [] 예술부총장\n",
      "772 피바다가극단 nan 연출가 P3 False [] 연출가\n",
      "773 피복가공기술협회 nan 위원장 P1 False [] 위원장\n",
      "774 함경북도농촌경리위원회 nan 위원장 P1 False [] 위원장\n",
      "775 함경북도협동농장경영위원회 회령시협동농장경영위원회 위원장 P1 False [nan] 위원장\n",
      "776 항공반항공사령부 제1전단장 단장 P1 False [nan] 단장\n",
      "777 항공반항공사령부 nan 사령관 P1 False [] 사령관\n",
      "778 항공반항공사령부 nan 정치위원 P3 False [] 정치위원\n",
      "779 항공반항공사령부 nan 제1전단당 P1 False [] 제1전단당\n",
      "780 해군사령부 총참모부_작전총국_제7처 참모장 P1 False [nan] 참모장\n",
      "781 해군사령부 nan 부사령관 P2 False [] 부사령관\n",
      "782 해군사령부 nan 부참모장 P2 False [] 부참모장\n",
      "783 해군사령부 nan 사령관 P1 False [] 사령관\n",
      "784 혁명승리기념관 nan 관장 P1 False [] 관장\n",
      "785 호위사령부 nan 사령관 P1 False [] 사령관\n",
      "786 호위사령부 nan 정치위원 P3 False [] 정치위원\n",
      "787 호위사령부 nan 참모장 P1 False [] 참모장\n",
      "788 호위사령부 nan 호위사령관 P1 False [] 호위사령관\n",
      "789 화학공장건설연합기업소 nan 기사장 P1 False [] 기사장\n",
      "790 황주군구포협동농장 관리위원회 관리위원장 P1 False [nan] 관리위원장\n",
      "791 황주군구포협동농장 nan 관리위원장 P1 False [] 관리위원장\n",
      "792 황해북도농촌경리위원회 nan 위원장 P1 False [] 위원장\n",
      "793 황해북도협동농장경영위원회 사리원시협동농장경영위원회 위원장 P1 False [nan] 위원장\n",
      "794 황해제철연합기업소 nan 대표 P1 False [] 대표\n",
      "795 황해제철연합기업소 nan 지배인 P1 False [] 지배인\n",
      "796 후방군관학교 nan 교장 P1 False [] 교장\n",
      "797 희천정밀기계공장 분공장 지배인 P1 False [nan] 지배인\n",
      "798 희천정밀기계공장 nan 지배인 P1 False [] 지배인\n"
     ]
    }
   ],
   "source": [
    " opr5 = update_positions(m3pos_merge,opr4)"
   ]
  },
  {
   "cell_type": "code",
   "execution_count": 131,
   "id": "f6d0246f",
   "metadata": {},
   "outputs": [
    {
     "data": {
      "text/html": [
       "<div>\n",
       "<style scoped>\n",
       "    .dataframe tbody tr th:only-of-type {\n",
       "        vertical-align: middle;\n",
       "    }\n",
       "\n",
       "    .dataframe tbody tr th {\n",
       "        vertical-align: top;\n",
       "    }\n",
       "\n",
       "    .dataframe thead th {\n",
       "        text-align: right;\n",
       "    }\n",
       "</style>\n",
       "<table border=\"1\" class=\"dataframe\">\n",
       "  <thead>\n",
       "    <tr style=\"text-align: right;\">\n",
       "      <th></th>\n",
       "      <th>InsideGov</th>\n",
       "      <th>InstitutionType</th>\n",
       "      <th>OrgType</th>\n",
       "      <th>PrimaryInstitution</th>\n",
       "      <th>OrgName</th>\n",
       "      <th>PI_Index</th>\n",
       "      <th>OrgRank</th>\n",
       "      <th>P1</th>\n",
       "      <th>P2</th>\n",
       "      <th>P3</th>\n",
       "      <th>LinkToNext_PI</th>\n",
       "      <th>LinkToNext_Org</th>\n",
       "      <th>LinkToNext_Year</th>\n",
       "      <th>Notes</th>\n",
       "      <th>L1_Index</th>\n",
       "      <th>L2_Index</th>\n",
       "      <th>L3_Index</th>\n",
       "      <th>L4_Index</th>\n",
       "      <th>L5_Index</th>\n",
       "      <th>Alias_OrgName</th>\n",
       "    </tr>\n",
       "  </thead>\n",
       "  <tbody>\n",
       "    <tr>\n",
       "      <th>2086</th>\n",
       "      <td>1</td>\n",
       "      <td>인민군</td>\n",
       "      <td>NaN</td>\n",
       "      <td>국방위원회</td>\n",
       "      <td>인민무력부D</td>\n",
       "      <td>501.502.0.0.0</td>\n",
       "      <td>1</td>\n",
       "      <td>부장</td>\n",
       "      <td>부부장</td>\n",
       "      <td>NaN</td>\n",
       "      <td>NaN</td>\n",
       "      <td>NaN</td>\n",
       "      <td>2016</td>\n",
       "      <td>NaN</td>\n",
       "      <td>501</td>\n",
       "      <td>502</td>\n",
       "      <td>0</td>\n",
       "      <td>0</td>\n",
       "      <td>0</td>\n",
       "      <td>NaN</td>\n",
       "    </tr>\n",
       "  </tbody>\n",
       "</table>\n",
       "</div>"
      ],
      "text/plain": [
       "     InsideGov InstitutionType OrgType PrimaryInstitution OrgName  \\\n",
       "2086         1             인민군     NaN              국방위원회  인민무력부D   \n",
       "\n",
       "           PI_Index OrgRank  P1   P2   P3 LinkToNext_PI LinkToNext_Org  \\\n",
       "2086  501.502.0.0.0       1  부장  부부장  NaN           NaN            NaN   \n",
       "\n",
       "     LinkToNext_Year Notes L1_Index L2_Index L3_Index L4_Index L5_Index  \\\n",
       "2086            2016   NaN      501      502        0        0        0   \n",
       "\n",
       "     Alias_OrgName  \n",
       "2086           NaN  "
      ]
     },
     "execution_count": 131,
     "metadata": {},
     "output_type": "execute_result"
    }
   ],
   "source": [
    "opr4[(opr4[\"PrimaryInstitution\"]==\"국방위원회\") & (opr4[\"OrgName\"]==\"인민무력부D\")]"
   ]
  },
  {
   "cell_type": "code",
   "execution_count": 132,
   "id": "12030814",
   "metadata": {},
   "outputs": [
    {
     "data": {
      "text/html": [
       "<div>\n",
       "<style scoped>\n",
       "    .dataframe tbody tr th:only-of-type {\n",
       "        vertical-align: middle;\n",
       "    }\n",
       "\n",
       "    .dataframe tbody tr th {\n",
       "        vertical-align: top;\n",
       "    }\n",
       "\n",
       "    .dataframe thead th {\n",
       "        text-align: right;\n",
       "    }\n",
       "</style>\n",
       "<table border=\"1\" class=\"dataframe\">\n",
       "  <thead>\n",
       "    <tr style=\"text-align: right;\">\n",
       "      <th></th>\n",
       "      <th>InsideGov</th>\n",
       "      <th>InstitutionType</th>\n",
       "      <th>OrgType</th>\n",
       "      <th>PrimaryInstitution</th>\n",
       "      <th>OrgName</th>\n",
       "      <th>PI_Index</th>\n",
       "      <th>OrgRank</th>\n",
       "      <th>P1</th>\n",
       "      <th>P2</th>\n",
       "      <th>P3</th>\n",
       "      <th>LinkToNext_PI</th>\n",
       "      <th>LinkToNext_Org</th>\n",
       "      <th>LinkToNext_Year</th>\n",
       "      <th>Notes</th>\n",
       "      <th>L1_Index</th>\n",
       "      <th>L2_Index</th>\n",
       "      <th>L3_Index</th>\n",
       "      <th>L4_Index</th>\n",
       "      <th>L5_Index</th>\n",
       "      <th>Alias_OrgName</th>\n",
       "    </tr>\n",
       "  </thead>\n",
       "  <tbody>\n",
       "    <tr>\n",
       "      <th>2086</th>\n",
       "      <td>1</td>\n",
       "      <td>인민군</td>\n",
       "      <td>NaN</td>\n",
       "      <td>국방위원회</td>\n",
       "      <td>인민무력부D</td>\n",
       "      <td>501.502.0.0.0</td>\n",
       "      <td>1</td>\n",
       "      <td>부장</td>\n",
       "      <td>부부장,제1부부장</td>\n",
       "      <td>NaN</td>\n",
       "      <td>NaN</td>\n",
       "      <td>NaN</td>\n",
       "      <td>2016</td>\n",
       "      <td>NaN</td>\n",
       "      <td>501</td>\n",
       "      <td>502</td>\n",
       "      <td>0</td>\n",
       "      <td>0</td>\n",
       "      <td>0</td>\n",
       "      <td>NaN</td>\n",
       "    </tr>\n",
       "  </tbody>\n",
       "</table>\n",
       "</div>"
      ],
      "text/plain": [
       "     InsideGov InstitutionType OrgType PrimaryInstitution OrgName  \\\n",
       "2086         1             인민군     NaN              국방위원회  인민무력부D   \n",
       "\n",
       "           PI_Index OrgRank  P1         P2   P3 LinkToNext_PI LinkToNext_Org  \\\n",
       "2086  501.502.0.0.0       1  부장  부부장,제1부부장  NaN           NaN            NaN   \n",
       "\n",
       "     LinkToNext_Year Notes L1_Index L2_Index L3_Index L4_Index L5_Index  \\\n",
       "2086            2016   NaN      501      502        0        0        0   \n",
       "\n",
       "     Alias_OrgName  \n",
       "2086           NaN  "
      ]
     },
     "execution_count": 132,
     "metadata": {},
     "output_type": "execute_result"
    }
   ],
   "source": [
    "opr5[(opr5[\"PrimaryInstitution\"]==\"국방위원회\") & (opr5[\"OrgName\"]==\"인민무력부D\")]"
   ]
  },
  {
   "cell_type": "code",
   "execution_count": 133,
   "id": "3a8003a0",
   "metadata": {},
   "outputs": [
    {
     "data": {
      "text/plain": [
       "(2392, 20)"
      ]
     },
     "execution_count": 133,
     "metadata": {},
     "output_type": "execute_result"
    }
   ],
   "source": [
    "opr4.shape"
   ]
  },
  {
   "cell_type": "code",
   "execution_count": 134,
   "id": "b64821bb",
   "metadata": {},
   "outputs": [
    {
     "data": {
      "text/plain": [
       "(2392, 20)"
      ]
     },
     "execution_count": 134,
     "metadata": {},
     "output_type": "execute_result"
    }
   ],
   "source": [
    "opr5.shape"
   ]
  },
  {
   "cell_type": "code",
   "execution_count": 135,
   "id": "fead281d",
   "metadata": {},
   "outputs": [],
   "source": [
    "# drop Resolution from mismatches; actually, it doesn't matter, because at this point, w "
   ]
  },
  {
   "cell_type": "code",
   "execution_count": 136,
   "id": "4bc3f2c3",
   "metadata": {},
   "outputs": [
    {
     "name": "stdout",
     "output_type": "stream",
     "text": [
      "Prior to this Step\n",
      "col6:\t (9002, 13)\n",
      "m3:\t (2112, 12)\n",
      "opr4:\t (2392, 20)\n",
      "\n",
      "After to this Step\n",
      "col6:\t (9002, 13)\n",
      "m3:\t (2112, 12)\n",
      "opr5:\t (2392, 20)\n"
     ]
    }
   ],
   "source": [
    "# updated tables\n",
    "print(\"Prior to this Step\")\n",
    "print(\"col6:\\t\",col6.shape)\n",
    "print(\"m3:\\t\",m3.shape)\n",
    "print(\"opr4:\\t\",opr4.shape)\n",
    "\n",
    "print(\"\")\n",
    "\n",
    "print(\"After to this Step\")\n",
    "print(\"col6:\\t\",col6.shape)\n",
    "print(\"m3:\\t\",m3.shape)\n",
    "print(\"opr5:\\t\",opr5.shape)"
   ]
  },
  {
   "cell_type": "code",
   "execution_count": null,
   "id": "5c051c6f",
   "metadata": {},
   "outputs": [],
   "source": []
  },
  {
   "cell_type": "markdown",
   "id": "f994c570",
   "metadata": {},
   "source": [
    "# Format & Export Tables"
   ]
  },
  {
   "cell_type": "markdown",
   "id": "dbca1dfd",
   "metadata": {},
   "source": [
    "#### format careerorglink"
   ]
  },
  {
   "cell_type": "code",
   "execution_count": 137,
   "id": "03714a16",
   "metadata": {},
   "outputs": [],
   "source": [
    "careerorglink_columns = ['CareerString', 'CareerDateString_2022',\n",
    "                         'IsJob', 'MultipleSubstrings','CareerStartYear', 'CareerStartMonth',\n",
    "                         'CareerSubstring','InstitutionType', 'PrimaryInstitution', 'OrgName', 'Position', 'Notes']"
   ]
  },
  {
   "cell_type": "code",
   "execution_count": 138,
   "id": "ed521952",
   "metadata": {},
   "outputs": [
    {
     "data": {
      "text/plain": [
       "[]"
      ]
     },
     "execution_count": 138,
     "metadata": {},
     "output_type": "execute_result"
    }
   ],
   "source": [
    "# check that col has all necessary columns\n",
    "[item for item in careerorglink_columns if item not in col6.columns]"
   ]
  },
  {
   "cell_type": "code",
   "execution_count": 139,
   "id": "41b84f7f",
   "metadata": {},
   "outputs": [
    {
     "data": {
      "text/plain": [
       "['OrgString']"
      ]
     },
     "execution_count": 139,
     "metadata": {},
     "output_type": "execute_result"
    }
   ],
   "source": [
    "# remove these items\n",
    "[item for item in col6.columns if item not in careerorglink_columns]"
   ]
  },
  {
   "cell_type": "code",
   "execution_count": 140,
   "id": "030fa5dc",
   "metadata": {},
   "outputs": [],
   "source": [
    "col6 = col6[careerorglink_columns]"
   ]
  },
  {
   "cell_type": "markdown",
   "id": "e4069e48",
   "metadata": {},
   "source": [
    "#### export careerorglink to cleaning"
   ]
  },
  {
   "cell_type": "code",
   "execution_count": 141,
   "id": "3a7b020d",
   "metadata": {},
   "outputs": [],
   "source": [
    "filename_careerorglink_new = \"3.0 careerorglink.xlsx\"\n",
    "col6.to_excel(path_cleaning + subpath_2_7 + filename_careerorglink_new,index=False)"
   ]
  },
  {
   "cell_type": "markdown",
   "id": "60d248ab",
   "metadata": {},
   "source": [
    "#### export careerorglink to tables. write over the old one."
   ]
  },
  {
   "cell_type": "code",
   "execution_count": 142,
   "id": "a24df562",
   "metadata": {},
   "outputs": [],
   "source": [
    "filename_careerorglink = \"careerorglink.xlsx\"\n",
    "col6.to_excel(path_tables + filename_careerorglink,index=False)"
   ]
  },
  {
   "cell_type": "markdown",
   "id": "236af11c",
   "metadata": {},
   "source": [
    "#### export mismatches to cleaning"
   ]
  },
  {
   "cell_type": "code",
   "execution_count": 143,
   "id": "7dce6c28",
   "metadata": {},
   "outputs": [],
   "source": [
    "filename_mismatch_new = \"3.0 mismatch_통합.xlsx\"\n",
    "m3.to_excel(path_cleaning + subpath_2_7 + filename_mismatch_new,index=False)"
   ]
  },
  {
   "cell_type": "markdown",
   "id": "921adb32",
   "metadata": {},
   "source": [
    "#### format orgtree"
   ]
  },
  {
   "cell_type": "code",
   "execution_count": 144,
   "id": "744d38fe",
   "metadata": {},
   "outputs": [],
   "source": [
    "orgtree_columns = ['InstitutionType', 'OrgType', 'PrimaryInstitution','OrgName',\n",
    "                   'PI_Index', 'OrgRank', 'P1', 'P2', 'P3','Alias_OrgName',\n",
    "                   'LinkToNext_PI','LinkToNext_Org','LinkToNext_Year','Notes',\n",
    "                   'L1_Index', 'L2_Index','L3_Index', 'L4_Index', 'L5_Index']"
   ]
  },
  {
   "cell_type": "code",
   "execution_count": 145,
   "id": "d79653ed",
   "metadata": {},
   "outputs": [
    {
     "data": {
      "text/plain": [
       "[]"
      ]
     },
     "execution_count": 145,
     "metadata": {},
     "output_type": "execute_result"
    }
   ],
   "source": [
    "# check that orgtree has all necessary columns\n",
    "[item for item in orgtree_columns if item not in opr5.columns]"
   ]
  },
  {
   "cell_type": "code",
   "execution_count": 146,
   "id": "b8bda37b",
   "metadata": {},
   "outputs": [
    {
     "data": {
      "text/plain": [
       "['InsideGov']"
      ]
     },
     "execution_count": 146,
     "metadata": {},
     "output_type": "execute_result"
    }
   ],
   "source": [
    "# remove these items\n",
    "[item for item in opr5.columns if item not in orgtree_columns]"
   ]
  },
  {
   "cell_type": "code",
   "execution_count": 147,
   "id": "e8155a86",
   "metadata": {},
   "outputs": [],
   "source": [
    "opr5 = opr5[orgtree_columns]"
   ]
  },
  {
   "cell_type": "code",
   "execution_count": 148,
   "id": "a4528f58",
   "metadata": {},
   "outputs": [],
   "source": [
    "# update indices & ranks\n",
    "opr5 = update_opr_index(opr5,6)"
   ]
  },
  {
   "cell_type": "markdown",
   "id": "e509fd38",
   "metadata": {},
   "source": [
    "#### export orgtree to cleaning"
   ]
  },
  {
   "cell_type": "code",
   "execution_count": 149,
   "id": "2ed4e255",
   "metadata": {},
   "outputs": [],
   "source": [
    "filename_orgtree_new = \"3.0 orgtree.xlsx\"\n",
    "opr5.to_excel(path_cleaning + subpath_2_7 + filename_orgtree_new,index=False)"
   ]
  },
  {
   "cell_type": "markdown",
   "id": "9ac519e5",
   "metadata": {},
   "source": [
    "#### export orgtree to tables"
   ]
  },
  {
   "cell_type": "code",
   "execution_count": 150,
   "id": "b532f7d8",
   "metadata": {},
   "outputs": [],
   "source": [
    "filename_orgtree = \"orgtree.xlsx\"\n",
    "opr5.to_excel(path_tables + filename_orgtree,index=False)"
   ]
  },
  {
   "cell_type": "code",
   "execution_count": null,
   "id": "243d4f04",
   "metadata": {},
   "outputs": [],
   "source": []
  },
  {
   "cell_type": "markdown",
   "id": "bb8e02a2",
   "metadata": {},
   "source": [
    "- Review Integrity Checks & Edit Mismatches\n",
    "    - Validate InstitutionType, OrgType\n",
    "    - Data in Careers but not in Orgtree, including Aliases)\n",
    "    - Orgs in Orgtree but not in Careers or 기관별인명록\n",
    "    - For 200 & 500 series PrimaryInstitutions, search whether they are contained in OrgName, within a PrimaryInstitution\n",
    "    - Verify no Positions overlapping within the same PI, OrgName\n",
    "    - Verify that all (CareerString,CareerDateString,CareerSubstring) are uniquely matched to a (PI, OrgName). Not multiple encodings"
   ]
  },
  {
   "cell_type": "code",
   "execution_count": null,
   "id": "09560738",
   "metadata": {},
   "outputs": [],
   "source": []
  },
  {
   "cell_type": "code",
   "execution_count": null,
   "id": "c4119fa4",
   "metadata": {},
   "outputs": [],
   "source": []
  },
  {
   "cell_type": "markdown",
   "id": "67c8d2d3",
   "metadata": {},
   "source": [
    "- Recode & Recategorize some (PI,OrgName)\n",
    "    - 중앙위원회\n",
    "    - 인민군, 총참모부, 인민무력부, \n",
    "    - 국방위원회: 인민군?\n",
    "    - 중앙인민위원회: 정권기관\n",
    "    - 국제친선기관: I will add and match existing ones\n",
    "    - 인민회의 or 인민위원회?\n",
    "    - 노동당 총정치국 --> 인민군 총정치국\n",
    "    - add 북조선노동당 as an alias to 노동당\n",
    "    - alias the PrimaryInstitutions, 내각, 내각A, 내각B, 등 at least when calculating whether transitions are between or across institutions\n",
    "    - 노동당 - fix the old party organization\n",
    "        - https://encykorea.aks.ac.kr/Article/E0070188\n",
    "        - 1947년 북조선로동당 ‘5과’로 창설되었다. 6·25전쟁기 남한지역 내 게릴라부대의 지하당 공작 과정에서 대남 공작기구를 확대하면서 당 조직부 내의 연락부를 분리했다. 1961년 4차 당대회에서 남한에서의 지하당 조직 확대와 통일전선 강화 등의 결정과 함께 내무성 등의 대남 공작기구를 통합해 중앙당 ‘연락국’을 신설했다. 1964년 2월 조선로동당 중앙위원회 4기 8차 전원회의에서 ‘3대 혁명력량 강화’노선을 채택하면서 종래의 연락국을 ‘대남사업총국’으로 개칭했다.\n",
    "        - 1966년 10월 12일 당 중앙위원회 4기 14차 전원회의에서 비서국이 신설되면서 대남사업담당비서 산하에 ‘연락부’, ‘문화부’, ‘조사부’, ‘인민무력부정착국’, ‘조총련’부서를 두었으며, 1978년 1월 통일전선부가, 1990년대 후반 35호실(대외정보조사부)과 작전부가 신설됨으로써 대남 담당 부서의 체계가 구축되었다. 남한 내 정당, 사회단체, 군부에 대한 공작 거점 및 공작 전술 연구개발 업무를 수행하고 있다. 특히 간첩교육과 파견을 직접 담당하고 있으며, 조총련에 대한 활동 지도도 담당하고 있다.\n",
    "        \n",
    "    - 내각 & 정무원\n",
    "        - How different was their organization?\n",
    "        - https://encykorea.aks.ac.kr/Article/E0066727 - Let's alias. It seems like the name simply changed from 내각 (1948) --> 정무원 (1972) --> 내각 (1998)\n",
    "        - Do we need to duplicate the entire 내각 structure for 정무원?\n",
    "        - At the very least, should we swap out 내각 for 정무원 in cases where data are labelled as 내각 but during 정무원 periods (pre-1998)?\n",
    "        - If the internal organization was quite similar, then maybe we could just alias 내각 and 정무원 and not worry about replicating the organization three\n",
    "    - 인도기관?\n",
    "        - 국방위원회\n",
    "        - 국무위원회\n",
    "    - resolve differences between InstitutionType, PrimaryInstitution, OrgName\n",
    "        - for PI=총참모부, rename PI=인민군, OrgName = 총참모부_; and remove duplicates. e.g., 총참모부_작전총국\n",
    "        - 노동당, 당중앙위원회\n",
    "        - many organizations for whom 중앙위원회 is their main leadership body\n",
    "        - 인민군. remove as PrimaryInstitution, and use as InstitutionType instead\n",
    "        - https://encykorea.aks.ac.kr/Article/E0066687\n",
    "        - 인민무력부, 인민무력성, \n",
    "\t\t- PrimaryInstitutions\n",
    "\t\t\t- 최고사령부\n",
    "\t\t\t- 총참모부\n",
    "\t\t\t- 주요 사령부\n",
    "\t\t\t- 등\n",
    "    - Make sure X.0.0.0 positions are not being duplicated with X.1.0.0 positions, especially in the case of 중앙위원회\n",
    "    - Discuss X in PI_Index\n",
    "        - 비서국A --> 정무국 --> 비서국B\n",
    "            - check for duplicates: 당 비서국\n",
    "        - 당중앙위원회_정치위원회 (폐지) 직급\n",
    "        - 당중앙위원회_총정치국 - 당/인민군\n",
    "        - 당중앙위원회_조선혁명박물관당위원회 & other 1.1.X.0.0 - double-check if they are included in 외곽단 - InGov?\n",
    "        - Change_OrgName to 당중앙위원회_X\n",
    "            - 비서국_인민무력부B\n",
    "            - 비서국_인민무력부B_보위국\n",
    "            - 비서국_인민무력부B_작전국\n",
    "            - 비서국_인민무력부B_정치안전국\n",
    "\n",
    "\n",
    "\n"
   ]
  },
  {
   "cell_type": "code",
   "execution_count": null,
   "id": "82452548",
   "metadata": {},
   "outputs": [],
   "source": []
  },
  {
   "cell_type": "markdown",
   "id": "c2142ad8",
   "metadata": {},
   "source": [
    "- Re-Index\n",
    "    - See PI-Index Coding Rules in Evernote\n",
    "    - Update X codes with 200 or 500. Delete any 200/500 which don't appear in our data. (They might have been orgs we corrected in the data.)\n",
    "    - 최고인민회의 X지역인민회의 - move from 200 Series to 0 Series\n",
    "    - Drop X지역위원회 and recode 200 Series to 0 Series\n",
    "    - Change coding of 당외곽 및 사회단체\n",
    "        - if the orgs were found in the 별책, then change their codes from 200 series to 100 series\n",
    "        - Match, rename and recode (from 500+ to 100+) 500 series 국제친선기관\n",
    "    - code data source rather than index\n",
    "\n"
   ]
  },
  {
   "cell_type": "code",
   "execution_count": null,
   "id": "58bf243b",
   "metadata": {},
   "outputs": [],
   "source": []
  },
  {
   "cell_type": "code",
   "execution_count": null,
   "id": "6b24b190",
   "metadata": {},
   "outputs": [],
   "source": []
  },
  {
   "cell_type": "code",
   "execution_count": null,
   "id": "ec095aba",
   "metadata": {},
   "outputs": [],
   "source": []
  },
  {
   "cell_type": "markdown",
   "id": "233ee1d7",
   "metadata": {},
   "source": [
    "# Task 3. Add OrgType & other metadata\n",
    "\n",
    "- Add OrgType\n"
   ]
  },
  {
   "cell_type": "markdown",
   "id": "16ac55e1",
   "metadata": {},
   "source": [
    "# Future Tasks\n",
    "\n",
    "- Future Integrity Checks & Data Cleaning\n",
    "    - Identify inconsistencies in Position Rankings (e.g., 명예위원장)\n",
    "    - Verify no contrary categories of positions overlapping (e.g., 위원장, 소장)\n",
    "    - Verify (PI, OrgName) not found in 기관별인명록\n",
    "    - Research X entries: e.g., 3.525.591: 내각_외무성_X국_대사관\n",
    "    - Reconcile 기관 across three categories: 기타기관, 당외곽및사회단체, 당외곽및사회단체(별책)\n",
    "    - Add more orgs\n",
    "        - Expand any X지역위원회 into full list\n",
    "        - 내각 - Level 2 or Level 3?\n",
    "            - orgs after 내각 국토환경보호성_산림총국\n",
    "            - orgs after 내각 대외경제성_민족경제협력위원회\n",
    "            - orgs after 내각 보건성_중앙의약품관리소\n",
    "            - orgs after 내 각 상업성_중앙도매소\n",
    "            - 내각 정보산업성 우편국, 전화국, 체신관리국, 체신소, \n",
    "            - 내각 (45)\n",
    "        - 당외곽및사회단체 (별책)\n",
    "    - Discussion about matching levels\n",
    "        - https://namu.wiki/w/ - consider the OrgRang of 김정은의 겸직\n",
    "\t\t- 조선민주주의인민공화국 국무위원회 위원장[국가원수]\n",
    "\t\t- 조선로동당 중앙군사위원장\n",
    "\t\t- 조선민주주의인민공화국무력 최고사령관\n",
    "\t\t- 조선로동당 중앙위원회 정치국 상무위원\n",
    "    - Review UNCERTAIN OrgName & Positions\n",
    "        - some of these seem resolvable"
   ]
  },
  {
   "cell_type": "code",
   "execution_count": null,
   "id": "5c38af5d",
   "metadata": {},
   "outputs": [],
   "source": []
  }
 ],
 "metadata": {
  "kernelspec": {
   "display_name": "Python 3 (ipykernel)",
   "language": "python",
   "name": "python3"
  },
  "language_info": {
   "codemirror_mode": {
    "name": "ipython",
    "version": 3
   },
   "file_extension": ".py",
   "mimetype": "text/x-python",
   "name": "python",
   "nbconvert_exporter": "python",
   "pygments_lexer": "ipython3",
   "version": "3.11.0"
  }
 },
 "nbformat": 4,
 "nbformat_minor": 5
}
