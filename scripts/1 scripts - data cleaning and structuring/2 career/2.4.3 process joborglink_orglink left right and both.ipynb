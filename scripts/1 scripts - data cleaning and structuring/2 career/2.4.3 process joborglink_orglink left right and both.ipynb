{
 "cells": [
  {
   "cell_type": "markdown",
   "metadata": {},
   "source": [
    "# libraries & global vars"
   ]
  },
  {
   "cell_type": "code",
   "execution_count": 1,
   "metadata": {},
   "outputs": [],
   "source": [
    "import pandas as pd\n",
    "import numpy as np\n",
    "pd.set_option('display.max_rows', None)"
   ]
  },
  {
   "cell_type": "markdown",
   "metadata": {},
   "source": [
    "# io orgtree & org codes"
   ]
  },
  {
   "cell_type": "code",
   "execution_count": 2,
   "metadata": {},
   "outputs": [],
   "source": [
    "path_orgtree = \"C:/Users/seoul/Dropbox/00 technical/github/nkelites/data/combined data/combined data - 1 cleaning/cleaning step 2 - career/2.4 orgtree/\""
   ]
  },
  {
   "cell_type": "code",
   "execution_count": 3,
   "metadata": {},
   "outputs": [],
   "source": [
    "filein_orgtree = \"orgtree1_3.xlsx\""
   ]
  },
  {
   "cell_type": "code",
   "execution_count": 4,
   "metadata": {},
   "outputs": [],
   "source": [
    "path_joborglink = \"C:/Users/seoul/Dropbox/00 technical/github/nkelites/data/combined data/combined data - 1 cleaning/cleaning step 2 - career/2.3 joborglink/\""
   ]
  },
  {
   "cell_type": "code",
   "execution_count": 5,
   "metadata": {},
   "outputs": [],
   "source": [
    "filein_joborglink = \"joborglink_5_1tocode_1_Jeongsu.xlsx\""
   ]
  },
  {
   "cell_type": "code",
   "execution_count": 6,
   "metadata": {},
   "outputs": [],
   "source": [
    "fileout_joborglink_prefix = \"joborglink_5_2_\""
   ]
  },
  {
   "cell_type": "code",
   "execution_count": 111,
   "metadata": {},
   "outputs": [],
   "source": [
    "fileout_merged_prefix = \"joborglink_6_1_\""
   ]
  },
  {
   "cell_type": "code",
   "execution_count": 7,
   "metadata": {},
   "outputs": [],
   "source": [
    "# fileout_orgtree = \"orgtree1_4.xlsx\""
   ]
  },
  {
   "cell_type": "markdown",
   "metadata": {},
   "source": [
    "# import orgtree"
   ]
  },
  {
   "cell_type": "code",
   "execution_count": 8,
   "metadata": {},
   "outputs": [],
   "source": [
    "orgtree = pd.read_excel(path_orgtree+filein_orgtree)"
   ]
  },
  {
   "cell_type": "code",
   "execution_count": 9,
   "metadata": {},
   "outputs": [
    {
     "data": {
      "text/plain": [
       "(1162, 8)"
      ]
     },
     "execution_count": 9,
     "metadata": {},
     "output_type": "execute_result"
    }
   ],
   "source": [
    "orgtree.shape"
   ]
  },
  {
   "cell_type": "code",
   "execution_count": 10,
   "metadata": {},
   "outputs": [
    {
     "data": {
      "text/html": [
       "<div>\n",
       "<style scoped>\n",
       "    .dataframe tbody tr th:only-of-type {\n",
       "        vertical-align: middle;\n",
       "    }\n",
       "\n",
       "    .dataframe tbody tr th {\n",
       "        vertical-align: top;\n",
       "    }\n",
       "\n",
       "    .dataframe thead th {\n",
       "        text-align: right;\n",
       "    }\n",
       "</style>\n",
       "<table border=\"1\" class=\"dataframe\">\n",
       "  <thead>\n",
       "    <tr style=\"text-align: right;\">\n",
       "      <th></th>\n",
       "      <th>InsideGov</th>\n",
       "      <th>PrimaryInstitution</th>\n",
       "      <th>OrgName</th>\n",
       "      <th>ImmediateSuperiorOrg</th>\n",
       "      <th>SupervisesParent</th>\n",
       "      <th>LinkToCurrent_PrimaryInstitution</th>\n",
       "      <th>LinkToCurrent_OrgName</th>\n",
       "      <th>비고</th>\n",
       "    </tr>\n",
       "  </thead>\n",
       "  <tbody>\n",
       "    <tr>\n",
       "      <th>0</th>\n",
       "      <td>True</td>\n",
       "      <td>최고재판소</td>\n",
       "      <td>NaN</td>\n",
       "      <td>NaN</td>\n",
       "      <td>0.0</td>\n",
       "      <td>최고인민회의</td>\n",
       "      <td>중앙재판소</td>\n",
       "      <td>NaN</td>\n",
       "    </tr>\n",
       "    <tr>\n",
       "      <th>1</th>\n",
       "      <td>True</td>\n",
       "      <td>최고인민회의</td>\n",
       "      <td>황해북도인민위원회_서흥군인민위원회</td>\n",
       "      <td>황해북도인민위원회</td>\n",
       "      <td>0.0</td>\n",
       "      <td>Please_Revise</td>\n",
       "      <td>Please_Revise</td>\n",
       "      <td>NaN</td>\n",
       "    </tr>\n",
       "    <tr>\n",
       "      <th>2</th>\n",
       "      <td>True</td>\n",
       "      <td>최고인민회의</td>\n",
       "      <td>황해북도인민위원회_개성시인민위원회</td>\n",
       "      <td>황해북도인민위원회</td>\n",
       "      <td>0.0</td>\n",
       "      <td>Please_Revise</td>\n",
       "      <td>Please_Revise</td>\n",
       "      <td>NaN</td>\n",
       "    </tr>\n",
       "    <tr>\n",
       "      <th>3</th>\n",
       "      <td>True</td>\n",
       "      <td>최고인민회의</td>\n",
       "      <td>황해북도인민위원회</td>\n",
       "      <td>NaN</td>\n",
       "      <td>0.0</td>\n",
       "      <td>Please_Revise</td>\n",
       "      <td>Please_Revise</td>\n",
       "      <td>NaN</td>\n",
       "    </tr>\n",
       "    <tr>\n",
       "      <th>4</th>\n",
       "      <td>True</td>\n",
       "      <td>최고인민회의</td>\n",
       "      <td>황해남도인민위원회</td>\n",
       "      <td>NaN</td>\n",
       "      <td>0.0</td>\n",
       "      <td>Please_Revise</td>\n",
       "      <td>Please_Revise</td>\n",
       "      <td>NaN</td>\n",
       "    </tr>\n",
       "    <tr>\n",
       "      <th>5</th>\n",
       "      <td>True</td>\n",
       "      <td>최고인민회의</td>\n",
       "      <td>함경북도인민위원회</td>\n",
       "      <td>NaN</td>\n",
       "      <td>0.0</td>\n",
       "      <td>Please_Revise</td>\n",
       "      <td>Please_Revise</td>\n",
       "      <td>NaN</td>\n",
       "    </tr>\n",
       "    <tr>\n",
       "      <th>6</th>\n",
       "      <td>True</td>\n",
       "      <td>최고인민회의</td>\n",
       "      <td>함경도인민위원회</td>\n",
       "      <td>NaN</td>\n",
       "      <td>0.0</td>\n",
       "      <td>Please_Revise</td>\n",
       "      <td>Please_Revise</td>\n",
       "      <td>NaN</td>\n",
       "    </tr>\n",
       "    <tr>\n",
       "      <th>7</th>\n",
       "      <td>True</td>\n",
       "      <td>최고인민회의</td>\n",
       "      <td>함경남도인민위원회</td>\n",
       "      <td>NaN</td>\n",
       "      <td>0.0</td>\n",
       "      <td>Please_Revise</td>\n",
       "      <td>Please_Revise</td>\n",
       "      <td>NaN</td>\n",
       "    </tr>\n",
       "    <tr>\n",
       "      <th>8</th>\n",
       "      <td>True</td>\n",
       "      <td>최고인민회의</td>\n",
       "      <td>평양시인민위원회</td>\n",
       "      <td>NaN</td>\n",
       "      <td>0.0</td>\n",
       "      <td>Please_Revise</td>\n",
       "      <td>Please_Revise</td>\n",
       "      <td>NaN</td>\n",
       "    </tr>\n",
       "    <tr>\n",
       "      <th>9</th>\n",
       "      <td>True</td>\n",
       "      <td>최고인민회의</td>\n",
       "      <td>평안북도인민위원회</td>\n",
       "      <td>NaN</td>\n",
       "      <td>0.0</td>\n",
       "      <td>Please_Revise</td>\n",
       "      <td>Please_Revise</td>\n",
       "      <td>NaN</td>\n",
       "    </tr>\n",
       "  </tbody>\n",
       "</table>\n",
       "</div>"
      ],
      "text/plain": [
       "   InsideGov PrimaryInstitution             OrgName ImmediateSuperiorOrg  \\\n",
       "0       True              최고재판소                 NaN                  NaN   \n",
       "1       True             최고인민회의  황해북도인민위원회_서흥군인민위원회            황해북도인민위원회   \n",
       "2       True             최고인민회의  황해북도인민위원회_개성시인민위원회            황해북도인민위원회   \n",
       "3       True             최고인민회의           황해북도인민위원회                  NaN   \n",
       "4       True             최고인민회의           황해남도인민위원회                  NaN   \n",
       "5       True             최고인민회의           함경북도인민위원회                  NaN   \n",
       "6       True             최고인민회의            함경도인민위원회                  NaN   \n",
       "7       True             최고인민회의           함경남도인민위원회                  NaN   \n",
       "8       True             최고인민회의            평양시인민위원회                  NaN   \n",
       "9       True             최고인민회의           평안북도인민위원회                  NaN   \n",
       "\n",
       "   SupervisesParent LinkToCurrent_PrimaryInstitution LinkToCurrent_OrgName  \\\n",
       "0               0.0                           최고인민회의                 중앙재판소   \n",
       "1               0.0                    Please_Revise         Please_Revise   \n",
       "2               0.0                    Please_Revise         Please_Revise   \n",
       "3               0.0                    Please_Revise         Please_Revise   \n",
       "4               0.0                    Please_Revise         Please_Revise   \n",
       "5               0.0                    Please_Revise         Please_Revise   \n",
       "6               0.0                    Please_Revise         Please_Revise   \n",
       "7               0.0                    Please_Revise         Please_Revise   \n",
       "8               0.0                    Please_Revise         Please_Revise   \n",
       "9               0.0                    Please_Revise         Please_Revise   \n",
       "\n",
       "    비고  \n",
       "0  NaN  \n",
       "1  NaN  \n",
       "2  NaN  \n",
       "3  NaN  \n",
       "4  NaN  \n",
       "5  NaN  \n",
       "6  NaN  \n",
       "7  NaN  \n",
       "8  NaN  \n",
       "9  NaN  "
      ]
     },
     "execution_count": 10,
     "metadata": {},
     "output_type": "execute_result"
    }
   ],
   "source": [
    "orgtree[0:10]"
   ]
  },
  {
   "cell_type": "markdown",
   "metadata": {},
   "source": [
    "# import joborglink"
   ]
  },
  {
   "cell_type": "code",
   "execution_count": 29,
   "metadata": {},
   "outputs": [
    {
     "data": {
      "text/plain": [
       "(9463, 7)"
      ]
     },
     "execution_count": 29,
     "metadata": {},
     "output_type": "execute_result"
    }
   ],
   "source": [
    "joborglink_dtypes = {\"OrgString\":\"str\",\"PrimaryInstitution\":\"str\",\"OrgName\":\"str\",\"LinkToCurrent_PrimaryInstitution\":\"str\",\"LintToCurrent_OrgName\":\"str\",\"Notes\":\"str\",\"InOrgTree\":\"bool\"}\n",
    "joborglink = pd.read_excel(path_joborglink+filein_joborglink,dtype=joborglink_dtypes)\n",
    "joborglink.shape"
   ]
  },
  {
   "cell_type": "code",
   "execution_count": 30,
   "metadata": {},
   "outputs": [
    {
     "data": {
      "text/plain": [
       "Index(['OrgString', 'PrimaryInstitution', 'OrgName',\n",
       "       'LinkToCurrent_PrimaryInstitution', 'LintToCurrent_OrgName', 'Notes',\n",
       "       'InOrgTree'],\n",
       "      dtype='object')"
      ]
     },
     "execution_count": 30,
     "metadata": {},
     "output_type": "execute_result"
    }
   ],
   "source": [
    "joborglink.columns"
   ]
  },
  {
   "cell_type": "code",
   "execution_count": 31,
   "metadata": {},
   "outputs": [
    {
     "data": {
      "text/plain": [
       "(9463, 7)"
      ]
     },
     "execution_count": 31,
     "metadata": {},
     "output_type": "execute_result"
    }
   ],
   "source": [
    "joborglink.dropna()\n",
    "joborglink.shape"
   ]
  },
  {
   "cell_type": "code",
   "execution_count": 32,
   "metadata": {},
   "outputs": [
    {
     "data": {
      "text/plain": [
       "(2322, 7)"
      ]
     },
     "execution_count": 32,
     "metadata": {},
     "output_type": "execute_result"
    }
   ],
   "source": [
    "joborglink = joborglink.drop_duplicates()\n",
    "joborglink.shape"
   ]
  },
  {
   "cell_type": "code",
   "execution_count": 33,
   "metadata": {},
   "outputs": [],
   "source": [
    "# joborglink.loc[\"InOrgTree\"] = False"
   ]
  },
  {
   "cell_type": "code",
   "execution_count": 34,
   "metadata": {},
   "outputs": [
    {
     "data": {
      "text/html": [
       "<div>\n",
       "<style scoped>\n",
       "    .dataframe tbody tr th:only-of-type {\n",
       "        vertical-align: middle;\n",
       "    }\n",
       "\n",
       "    .dataframe tbody tr th {\n",
       "        vertical-align: top;\n",
       "    }\n",
       "\n",
       "    .dataframe thead th {\n",
       "        text-align: right;\n",
       "    }\n",
       "</style>\n",
       "<table border=\"1\" class=\"dataframe\">\n",
       "  <thead>\n",
       "    <tr style=\"text-align: right;\">\n",
       "      <th></th>\n",
       "      <th>OrgString</th>\n",
       "      <th>PrimaryInstitution</th>\n",
       "      <th>OrgName</th>\n",
       "      <th>LinkToCurrent_PrimaryInstitution</th>\n",
       "      <th>LintToCurrent_OrgName</th>\n",
       "      <th>Notes</th>\n",
       "      <th>InOrgTree</th>\n",
       "    </tr>\n",
       "  </thead>\n",
       "  <tbody>\n",
       "    <tr>\n",
       "      <th>0</th>\n",
       "      <td>｢아시아태평양평화위원회｣</td>\n",
       "      <td>조선아시아태평양평화위원회</td>\n",
       "      <td>NaN</td>\n",
       "      <td>NaN</td>\n",
       "      <td>NaN</td>\n",
       "      <td>외곽단체</td>\n",
       "      <td>False</td>\n",
       "    </tr>\n",
       "    <tr>\n",
       "      <th>1</th>\n",
       "      <td>｢조국전선｣ 중앙위원회</td>\n",
       "      <td>조국통일민주주의전선</td>\n",
       "      <td>중앙위원회</td>\n",
       "      <td>Current</td>\n",
       "      <td>Current</td>\n",
       "      <td>외곽단체 -&gt; 정당</td>\n",
       "      <td>False</td>\n",
       "    </tr>\n",
       "  </tbody>\n",
       "</table>\n",
       "</div>"
      ],
      "text/plain": [
       "       OrgString PrimaryInstitution OrgName LinkToCurrent_PrimaryInstitution  \\\n",
       "0  ｢아시아태평양평화위원회｣      조선아시아태평양평화위원회     NaN                              NaN   \n",
       "1  ｢조국전선｣ 중앙위원회          조국통일민주주의전선   중앙위원회                          Current   \n",
       "\n",
       "  LintToCurrent_OrgName       Notes  InOrgTree  \n",
       "0                   NaN        외곽단체      False  \n",
       "1               Current  외곽단체 -> 정당      False  "
      ]
     },
     "execution_count": 34,
     "metadata": {},
     "output_type": "execute_result"
    }
   ],
   "source": [
    "joborglink[0:2]"
   ]
  },
  {
   "cell_type": "markdown",
   "metadata": {},
   "source": [
    "# joborglink - filter out \"uncertain\" & \"error\" rows "
   ]
  },
  {
   "cell_type": "code",
   "execution_count": 35,
   "metadata": {},
   "outputs": [
    {
     "data": {
      "text/plain": [
       "(539, 7)"
      ]
     },
     "execution_count": 35,
     "metadata": {},
     "output_type": "execute_result"
    }
   ],
   "source": [
    "joborglink_uncertain = joborglink[\n",
    "    (joborglink.PrimaryInstitution.str.lower() == \"uncertain\") |\n",
    "    (joborglink.OrgName.str.lower() == \"uncertain\") | \n",
    "    (joborglink.LinkToCurrent_PrimaryInstitution.str.lower() == \"uncertain\") | \n",
    "    (joborglink.LintToCurrent_OrgName.str.lower() == \"uncertain\")]\n",
    "\n",
    "joborglink_uncertain.shape"
   ]
  },
  {
   "cell_type": "code",
   "execution_count": 36,
   "metadata": {},
   "outputs": [
    {
     "data": {
      "text/plain": [
       "(539, 7)"
      ]
     },
     "execution_count": 36,
     "metadata": {},
     "output_type": "execute_result"
    }
   ],
   "source": [
    "joborglink_uncertain.drop_duplicates().shape"
   ]
  },
  {
   "cell_type": "code",
   "execution_count": 37,
   "metadata": {},
   "outputs": [
    {
     "data": {
      "text/plain": [
       "(211, 7)"
      ]
     },
     "execution_count": 37,
     "metadata": {},
     "output_type": "execute_result"
    }
   ],
   "source": [
    "joborglink_error = joborglink[\n",
    "    (joborglink.PrimaryInstitution.str.lower() == \"error\") |\n",
    "    (joborglink.OrgName.str.lower() == \"error\") | \n",
    "    (joborglink.LinkToCurrent_PrimaryInstitution.str.lower() == \"error\") | \n",
    "    (joborglink.LintToCurrent_OrgName.str.lower() == \"error\")]\n",
    "\n",
    "joborglink_error.shape"
   ]
  },
  {
   "cell_type": "code",
   "execution_count": 38,
   "metadata": {},
   "outputs": [
    {
     "data": {
      "text/plain": [
       "(1573, 7)"
      ]
     },
     "execution_count": 38,
     "metadata": {},
     "output_type": "execute_result"
    }
   ],
   "source": [
    "joborglink = joborglink[\n",
    "    (joborglink.PrimaryInstitution.str.lower() != \"uncertain\") &\n",
    "    (joborglink.OrgName.str.lower() != \"uncertain\") &\n",
    "    (joborglink.LinkToCurrent_PrimaryInstitution.str.lower() != \"uncertain\") &\n",
    "    (joborglink.LintToCurrent_OrgName.str.lower() != \"uncertain\") &\n",
    "    (joborglink.PrimaryInstitution.str.lower() != \"error\") &\n",
    "    (joborglink.OrgName.str.lower() != \"error\") &\n",
    "    (joborglink.LinkToCurrent_PrimaryInstitution.str.lower() != \"error\") &\n",
    "    (joborglink.LintToCurrent_OrgName.str.lower() != \"error\")]\n",
    "\n",
    "joborglink.shape"
   ]
  },
  {
   "cell_type": "code",
   "execution_count": 39,
   "metadata": {},
   "outputs": [
    {
     "data": {
      "text/plain": [
       "2323"
      ]
     },
     "execution_count": 39,
     "metadata": {},
     "output_type": "execute_result"
    }
   ],
   "source": [
    "# 2322 - 1 overlapping job string\n",
    "joborglink_uncertain.shape[0] + joborglink_error.shape[0] + joborglink.shape[0]"
   ]
  },
  {
   "cell_type": "markdown",
   "metadata": {},
   "source": [
    "# export joborglink_ files to excel"
   ]
  },
  {
   "cell_type": "code",
   "execution_count": 22,
   "metadata": {},
   "outputs": [],
   "source": [
    "joborglink_uncertain.to_excel(path_joborglink + fileout_joborglink_prefix + \"uncertain.xlsx\")"
   ]
  },
  {
   "cell_type": "code",
   "execution_count": 23,
   "metadata": {},
   "outputs": [],
   "source": [
    "joborglink_error.to_excel(path_joborglink + fileout_joborglink_prefix + \"error.xlsx\")"
   ]
  },
  {
   "cell_type": "code",
   "execution_count": 40,
   "metadata": {},
   "outputs": [],
   "source": [
    "joborglink.to_excel(path_joborglink + fileout_joborglink_prefix + \"correct.xlsx\")"
   ]
  },
  {
   "cell_type": "markdown",
   "metadata": {},
   "source": [
    "# update joborglink InOrgTree"
   ]
  },
  {
   "cell_type": "code",
   "execution_count": 41,
   "metadata": {},
   "outputs": [],
   "source": [
    "# joborglink_here = joborglink"
   ]
  },
  {
   "cell_type": "code",
   "execution_count": 26,
   "metadata": {},
   "outputs": [],
   "source": [
    "# joborglink = joborglink_here"
   ]
  },
  {
   "cell_type": "code",
   "execution_count": 65,
   "metadata": {},
   "outputs": [
    {
     "data": {
      "text/plain": [
       "(1573, 7)"
      ]
     },
     "execution_count": 65,
     "metadata": {},
     "output_type": "execute_result"
    }
   ],
   "source": [
    "joborglink.shape"
   ]
  },
  {
   "cell_type": "code",
   "execution_count": 66,
   "metadata": {},
   "outputs": [
    {
     "data": {
      "text/html": [
       "<div>\n",
       "<style scoped>\n",
       "    .dataframe tbody tr th:only-of-type {\n",
       "        vertical-align: middle;\n",
       "    }\n",
       "\n",
       "    .dataframe tbody tr th {\n",
       "        vertical-align: top;\n",
       "    }\n",
       "\n",
       "    .dataframe thead th {\n",
       "        text-align: right;\n",
       "    }\n",
       "</style>\n",
       "<table border=\"1\" class=\"dataframe\">\n",
       "  <thead>\n",
       "    <tr style=\"text-align: right;\">\n",
       "      <th></th>\n",
       "      <th>OrgString</th>\n",
       "      <th>PrimaryInstitution</th>\n",
       "      <th>OrgName</th>\n",
       "      <th>LinkToCurrent_PrimaryInstitution</th>\n",
       "      <th>LintToCurrent_OrgName</th>\n",
       "      <th>Notes</th>\n",
       "      <th>InOrgTree</th>\n",
       "    </tr>\n",
       "  </thead>\n",
       "  <tbody>\n",
       "    <tr>\n",
       "      <th>0</th>\n",
       "      <td>｢아시아태평양평화위원회｣</td>\n",
       "      <td>조선아시아태평양평화위원회</td>\n",
       "      <td>NaN</td>\n",
       "      <td>NaN</td>\n",
       "      <td>NaN</td>\n",
       "      <td>외곽단체</td>\n",
       "      <td>False</td>\n",
       "    </tr>\n",
       "    <tr>\n",
       "      <th>1</th>\n",
       "      <td>｢조국전선｣ 중앙위원회</td>\n",
       "      <td>조국통일민주주의전선</td>\n",
       "      <td>중앙위원회</td>\n",
       "      <td>Current</td>\n",
       "      <td>Current</td>\n",
       "      <td>외곽단체 -&gt; 정당</td>\n",
       "      <td>False</td>\n",
       "    </tr>\n",
       "  </tbody>\n",
       "</table>\n",
       "</div>"
      ],
      "text/plain": [
       "       OrgString PrimaryInstitution OrgName LinkToCurrent_PrimaryInstitution  \\\n",
       "0  ｢아시아태평양평화위원회｣      조선아시아태평양평화위원회     NaN                              NaN   \n",
       "1  ｢조국전선｣ 중앙위원회          조국통일민주주의전선   중앙위원회                          Current   \n",
       "\n",
       "  LintToCurrent_OrgName       Notes  InOrgTree  \n",
       "0                   NaN        외곽단체      False  \n",
       "1               Current  외곽단체 -> 정당      False  "
      ]
     },
     "execution_count": 66,
     "metadata": {},
     "output_type": "execute_result"
    }
   ],
   "source": [
    "joborglink[0:2]"
   ]
  },
  {
   "cell_type": "code",
   "execution_count": 55,
   "metadata": {},
   "outputs": [
    {
     "data": {
      "text/plain": [
       "(795, 3)"
      ]
     },
     "execution_count": 55,
     "metadata": {},
     "output_type": "execute_result"
    }
   ],
   "source": [
    "joborglink"
   ]
  },
  {
   "cell_type": "code",
   "execution_count": 71,
   "metadata": {},
   "outputs": [
    {
     "data": {
      "text/plain": [
       "(2416, 14)"
      ]
     },
     "execution_count": 71,
     "metadata": {},
     "output_type": "execute_result"
    }
   ],
   "source": [
    "merged = joborglink.merge(orgtree,how=\"outer\",on=[\"PrimaryInstitution\",\"OrgName\"],indicator=True)\n",
    "merged.shape"
   ]
  },
  {
   "cell_type": "code",
   "execution_count": 72,
   "metadata": {},
   "outputs": [
    {
     "data": {
      "text/html": [
       "<div>\n",
       "<style scoped>\n",
       "    .dataframe tbody tr th:only-of-type {\n",
       "        vertical-align: middle;\n",
       "    }\n",
       "\n",
       "    .dataframe tbody tr th {\n",
       "        vertical-align: top;\n",
       "    }\n",
       "\n",
       "    .dataframe thead th {\n",
       "        text-align: right;\n",
       "    }\n",
       "</style>\n",
       "<table border=\"1\" class=\"dataframe\">\n",
       "  <thead>\n",
       "    <tr style=\"text-align: right;\">\n",
       "      <th></th>\n",
       "      <th>OrgString</th>\n",
       "      <th>PrimaryInstitution</th>\n",
       "      <th>OrgName</th>\n",
       "      <th>LinkToCurrent_PrimaryInstitution_x</th>\n",
       "      <th>LintToCurrent_OrgName</th>\n",
       "      <th>Notes</th>\n",
       "      <th>InOrgTree</th>\n",
       "      <th>InsideGov</th>\n",
       "      <th>ImmediateSuperiorOrg</th>\n",
       "      <th>SupervisesParent</th>\n",
       "      <th>LinkToCurrent_PrimaryInstitution_y</th>\n",
       "      <th>LinkToCurrent_OrgName</th>\n",
       "      <th>비고</th>\n",
       "      <th>_merge</th>\n",
       "    </tr>\n",
       "  </thead>\n",
       "  <tbody>\n",
       "    <tr>\n",
       "      <th>0</th>\n",
       "      <td>｢아시아태평양평화위원회｣</td>\n",
       "      <td>조선아시아태평양평화위원회</td>\n",
       "      <td>NaN</td>\n",
       "      <td>NaN</td>\n",
       "      <td>NaN</td>\n",
       "      <td>외곽단체</td>\n",
       "      <td>False</td>\n",
       "      <td>False</td>\n",
       "      <td>NaN</td>\n",
       "      <td>NaN</td>\n",
       "      <td>Current</td>\n",
       "      <td>Current</td>\n",
       "      <td>NaN</td>\n",
       "      <td>both</td>\n",
       "    </tr>\n",
       "    <tr>\n",
       "      <th>1</th>\n",
       "      <td>아시아태평양평화위원회 북경지부</td>\n",
       "      <td>조선아시아태평양평화위원회</td>\n",
       "      <td>NaN</td>\n",
       "      <td>Current</td>\n",
       "      <td>Current</td>\n",
       "      <td>NaN</td>\n",
       "      <td>False</td>\n",
       "      <td>False</td>\n",
       "      <td>NaN</td>\n",
       "      <td>NaN</td>\n",
       "      <td>Current</td>\n",
       "      <td>Current</td>\n",
       "      <td>NaN</td>\n",
       "      <td>both</td>\n",
       "    </tr>\n",
       "  </tbody>\n",
       "</table>\n",
       "</div>"
      ],
      "text/plain": [
       "          OrgString PrimaryInstitution OrgName  \\\n",
       "0     ｢아시아태평양평화위원회｣      조선아시아태평양평화위원회     NaN   \n",
       "1  아시아태평양평화위원회 북경지부      조선아시아태평양평화위원회     NaN   \n",
       "\n",
       "  LinkToCurrent_PrimaryInstitution_x LintToCurrent_OrgName Notes InOrgTree  \\\n",
       "0                                NaN                   NaN  외곽단체     False   \n",
       "1                            Current               Current   NaN     False   \n",
       "\n",
       "  InsideGov ImmediateSuperiorOrg  SupervisesParent  \\\n",
       "0     False                  NaN               NaN   \n",
       "1     False                  NaN               NaN   \n",
       "\n",
       "  LinkToCurrent_PrimaryInstitution_y LinkToCurrent_OrgName   비고 _merge  \n",
       "0                            Current               Current  NaN   both  \n",
       "1                            Current               Current  NaN   both  "
      ]
     },
     "execution_count": 72,
     "metadata": {},
     "output_type": "execute_result"
    }
   ],
   "source": [
    "merged[0:2]"
   ]
  },
  {
   "cell_type": "code",
   "execution_count": 84,
   "metadata": {},
   "outputs": [],
   "source": [
    "merged = merged[[\"OrgString\",\"Notes\",\"_merge\",\"InOrgTree\",\"InsideGov\",\"PrimaryInstitution\",\"OrgName\",\"LinkToCurrent_PrimaryInstitution_y\",\"LinkToCurrent_OrgName\",\"비고\"]]"
   ]
  },
  {
   "cell_type": "code",
   "execution_count": 85,
   "metadata": {},
   "outputs": [],
   "source": [
    "merged = merged.sort_values([\"_merge\"])"
   ]
  },
  {
   "cell_type": "code",
   "execution_count": 102,
   "metadata": {},
   "outputs": [],
   "source": [
    "merged.loc[merged[\"_merge\"]==\"both\",\"InOrgTree\"] = True"
   ]
  },
  {
   "cell_type": "code",
   "execution_count": 105,
   "metadata": {},
   "outputs": [],
   "source": [
    "merged_maybe_in_orgtree = merged[merged[\"_merge\"]==\"left_only\"]\n",
    "merged_in_orgtree = merged[merged[\"_merge\"]!=\"left_only\"]"
   ]
  },
  {
   "cell_type": "markdown",
   "metadata": {},
   "source": [
    "### Tasks for joborglink_6_1_maybeinorgtree (left_only)\n",
    "\n",
    "\n",
    "Check if Primary Institution and OrgName are already in OrgTree under a different name.\n",
    "\n",
    "- If yes:\n",
    "    - Copy and paste PrimaryInstitution & OrgName from OrgTree\n",
    "    - Don't need to update InsideGov, LinkToCurrent_PrimaryInstitution_y, LinkToCurrent_OrgName\n",
    "    - Set InOrgTree = True\n",
    "    \n",
    "    \n",
    "- If no:\n",
    "    - Leave PrimaryInstitution & OrgName as they are. They will be updated in OrgTree.\n",
    "    - Update InsideGov, LinkToCurrent_PrimaryInstitution_y, LinkToCurrent_OrgName\n",
    "    - Set InOrgTree = False"
   ]
  },
  {
   "cell_type": "code",
   "execution_count": 106,
   "metadata": {},
   "outputs": [
    {
     "data": {
      "text/html": [
       "<div>\n",
       "<style scoped>\n",
       "    .dataframe tbody tr th:only-of-type {\n",
       "        vertical-align: middle;\n",
       "    }\n",
       "\n",
       "    .dataframe tbody tr th {\n",
       "        vertical-align: top;\n",
       "    }\n",
       "\n",
       "    .dataframe thead th {\n",
       "        text-align: right;\n",
       "    }\n",
       "</style>\n",
       "<table border=\"1\" class=\"dataframe\">\n",
       "  <thead>\n",
       "    <tr style=\"text-align: right;\">\n",
       "      <th></th>\n",
       "      <th>OrgString</th>\n",
       "      <th>Notes</th>\n",
       "      <th>_merge</th>\n",
       "      <th>InOrgTree</th>\n",
       "      <th>InsideGov</th>\n",
       "      <th>PrimaryInstitution</th>\n",
       "      <th>OrgName</th>\n",
       "      <th>LinkToCurrent_PrimaryInstitution_y</th>\n",
       "      <th>LinkToCurrent_OrgName</th>\n",
       "      <th>비고</th>\n",
       "    </tr>\n",
       "  </thead>\n",
       "  <tbody>\n",
       "    <tr>\n",
       "      <th>792</th>\n",
       "      <td>평양직할시 중화군 당위원회</td>\n",
       "      <td>NaN</td>\n",
       "      <td>left_only</td>\n",
       "      <td>False</td>\n",
       "      <td>NaN</td>\n",
       "      <td>노동당</td>\n",
       "      <td>당중앙위원회_황해북도당위원회_중화군당위원회</td>\n",
       "      <td>NaN</td>\n",
       "      <td>NaN</td>\n",
       "      <td>NaN</td>\n",
       "    </tr>\n",
       "    <tr>\n",
       "      <th>882</th>\n",
       "      <td>평양학생소년예술단</td>\n",
       "      <td>Inside Gov = False</td>\n",
       "      <td>left_only</td>\n",
       "      <td>False</td>\n",
       "      <td>NaN</td>\n",
       "      <td>평양학생소년예술단</td>\n",
       "      <td>NaN</td>\n",
       "      <td>NaN</td>\n",
       "      <td>NaN</td>\n",
       "      <td>NaN</td>\n",
       "    </tr>\n",
       "    <tr>\n",
       "      <th>1349</th>\n",
       "      <td>최고인민회의 제11기 자격심사위원회</td>\n",
       "      <td>NaN</td>\n",
       "      <td>left_only</td>\n",
       "      <td>True</td>\n",
       "      <td>NaN</td>\n",
       "      <td>최고인민회의</td>\n",
       "      <td>자격심사위원회</td>\n",
       "      <td>NaN</td>\n",
       "      <td>NaN</td>\n",
       "      <td>NaN</td>\n",
       "    </tr>\n",
       "    <tr>\n",
       "      <th>1348</th>\n",
       "      <td>노동당 행정부</td>\n",
       "      <td>NaN</td>\n",
       "      <td>left_only</td>\n",
       "      <td>True</td>\n",
       "      <td>NaN</td>\n",
       "      <td>노동당</td>\n",
       "      <td>중앙위원회_행정부</td>\n",
       "      <td>NaN</td>\n",
       "      <td>NaN</td>\n",
       "      <td>NaN</td>\n",
       "    </tr>\n",
       "    <tr>\n",
       "      <th>1347</th>\n",
       "      <td>노동당 중앙위원회 행정부</td>\n",
       "      <td>NaN</td>\n",
       "      <td>left_only</td>\n",
       "      <td>True</td>\n",
       "      <td>NaN</td>\n",
       "      <td>노동당</td>\n",
       "      <td>중앙위원회_행정부</td>\n",
       "      <td>NaN</td>\n",
       "      <td>NaN</td>\n",
       "      <td>NaN</td>\n",
       "    </tr>\n",
       "  </tbody>\n",
       "</table>\n",
       "</div>"
      ],
      "text/plain": [
       "                OrgString               Notes     _merge InOrgTree InsideGov  \\\n",
       "792        평양직할시 중화군 당위원회                 NaN  left_only     False       NaN   \n",
       "882             평양학생소년예술단  Inside Gov = False  left_only     False       NaN   \n",
       "1349  최고인민회의 제11기 자격심사위원회                 NaN  left_only      True       NaN   \n",
       "1348              노동당 행정부                 NaN  left_only      True       NaN   \n",
       "1347        노동당 중앙위원회 행정부                 NaN  left_only      True       NaN   \n",
       "\n",
       "     PrimaryInstitution                  OrgName  \\\n",
       "792                 노동당  당중앙위원회_황해북도당위원회_중화군당위원회   \n",
       "882           평양학생소년예술단                      NaN   \n",
       "1349             최고인민회의                  자격심사위원회   \n",
       "1348                노동당                중앙위원회_행정부   \n",
       "1347                노동당                중앙위원회_행정부   \n",
       "\n",
       "     LinkToCurrent_PrimaryInstitution_y LinkToCurrent_OrgName   비고  \n",
       "792                                 NaN                   NaN  NaN  \n",
       "882                                 NaN                   NaN  NaN  \n",
       "1349                                NaN                   NaN  NaN  \n",
       "1348                                NaN                   NaN  NaN  \n",
       "1347                                NaN                   NaN  NaN  "
      ]
     },
     "execution_count": 106,
     "metadata": {},
     "output_type": "execute_result"
    }
   ],
   "source": [
    "merged_maybe_in_orgtree[0:5]"
   ]
  },
  {
   "cell_type": "markdown",
   "metadata": {},
   "source": [
    "### Tasks for joborglink_6_1_inorgtree (right_only & both)\n",
    "\n",
    "Update:\n",
    "- LinkToCurrent_PrimaryInstitution = Please_Revise\n",
    "- LinkToCurrent_OrgName = Please_Revise"
   ]
  },
  {
   "cell_type": "code",
   "execution_count": 107,
   "metadata": {},
   "outputs": [
    {
     "data": {
      "text/html": [
       "<div>\n",
       "<style scoped>\n",
       "    .dataframe tbody tr th:only-of-type {\n",
       "        vertical-align: middle;\n",
       "    }\n",
       "\n",
       "    .dataframe tbody tr th {\n",
       "        vertical-align: top;\n",
       "    }\n",
       "\n",
       "    .dataframe thead th {\n",
       "        text-align: right;\n",
       "    }\n",
       "</style>\n",
       "<table border=\"1\" class=\"dataframe\">\n",
       "  <thead>\n",
       "    <tr style=\"text-align: right;\">\n",
       "      <th></th>\n",
       "      <th>OrgString</th>\n",
       "      <th>Notes</th>\n",
       "      <th>_merge</th>\n",
       "      <th>InOrgTree</th>\n",
       "      <th>InsideGov</th>\n",
       "      <th>PrimaryInstitution</th>\n",
       "      <th>OrgName</th>\n",
       "      <th>LinkToCurrent_PrimaryInstitution_y</th>\n",
       "      <th>LinkToCurrent_OrgName</th>\n",
       "      <th>비고</th>\n",
       "    </tr>\n",
       "  </thead>\n",
       "  <tbody>\n",
       "    <tr>\n",
       "      <th>1846</th>\n",
       "      <td>NaN</td>\n",
       "      <td>NaN</td>\n",
       "      <td>right_only</td>\n",
       "      <td>NaN</td>\n",
       "      <td>True</td>\n",
       "      <td>당중앙위원회</td>\n",
       "      <td>당역사연구소</td>\n",
       "      <td>Current</td>\n",
       "      <td>Current</td>\n",
       "      <td>NaN</td>\n",
       "    </tr>\n",
       "    <tr>\n",
       "      <th>1848</th>\n",
       "      <td>NaN</td>\n",
       "      <td>NaN</td>\n",
       "      <td>right_only</td>\n",
       "      <td>NaN</td>\n",
       "      <td>True</td>\n",
       "      <td>당중앙위원회</td>\n",
       "      <td>노동신문사_혁명교양부</td>\n",
       "      <td>Current</td>\n",
       "      <td>Current</td>\n",
       "      <td>NaN</td>\n",
       "    </tr>\n",
       "    <tr>\n",
       "      <th>1842</th>\n",
       "      <td>NaN</td>\n",
       "      <td>NaN</td>\n",
       "      <td>right_only</td>\n",
       "      <td>NaN</td>\n",
       "      <td>True</td>\n",
       "      <td>당중앙위원회</td>\n",
       "      <td>법무부</td>\n",
       "      <td>Current</td>\n",
       "      <td>Current</td>\n",
       "      <td>NaN</td>\n",
       "    </tr>\n",
       "    <tr>\n",
       "      <th>1662</th>\n",
       "      <td>NaN</td>\n",
       "      <td>NaN</td>\n",
       "      <td>right_only</td>\n",
       "      <td>NaN</td>\n",
       "      <td>True</td>\n",
       "      <td>총참모부</td>\n",
       "      <td>4군단_33사단_26포연대</td>\n",
       "      <td>Current</td>\n",
       "      <td>Current</td>\n",
       "      <td>NaN</td>\n",
       "    </tr>\n",
       "    <tr>\n",
       "      <th>1844</th>\n",
       "      <td>NaN</td>\n",
       "      <td>NaN</td>\n",
       "      <td>right_only</td>\n",
       "      <td>NaN</td>\n",
       "      <td>True</td>\n",
       "      <td>당중앙위원회</td>\n",
       "      <td>문화예술부</td>\n",
       "      <td>Current</td>\n",
       "      <td>Current</td>\n",
       "      <td>NaN</td>\n",
       "    </tr>\n",
       "  </tbody>\n",
       "</table>\n",
       "</div>"
      ],
      "text/plain": [
       "     OrgString Notes      _merge InOrgTree InsideGov PrimaryInstitution  \\\n",
       "1846       NaN   NaN  right_only       NaN      True             당중앙위원회   \n",
       "1848       NaN   NaN  right_only       NaN      True             당중앙위원회   \n",
       "1842       NaN   NaN  right_only       NaN      True             당중앙위원회   \n",
       "1662       NaN   NaN  right_only       NaN      True               총참모부   \n",
       "1844       NaN   NaN  right_only       NaN      True             당중앙위원회   \n",
       "\n",
       "             OrgName LinkToCurrent_PrimaryInstitution_y LinkToCurrent_OrgName  \\\n",
       "1846          당역사연구소                            Current               Current   \n",
       "1848     노동신문사_혁명교양부                            Current               Current   \n",
       "1842             법무부                            Current               Current   \n",
       "1662  4군단_33사단_26포연대                            Current               Current   \n",
       "1844           문화예술부                            Current               Current   \n",
       "\n",
       "       비고  \n",
       "1846  NaN  \n",
       "1848  NaN  \n",
       "1842  NaN  \n",
       "1662  NaN  \n",
       "1844  NaN  "
      ]
     },
     "execution_count": 107,
     "metadata": {},
     "output_type": "execute_result"
    }
   ],
   "source": [
    "merged_in_orgtree[0:5]"
   ]
  },
  {
   "cell_type": "markdown",
   "metadata": {},
   "source": [
    "# update and export orgtree"
   ]
  },
  {
   "cell_type": "code",
   "execution_count": 114,
   "metadata": {},
   "outputs": [],
   "source": [
    "merged_maybe_in_orgtree.to_excel(path_joborglink+fileout_merged_prefix+\"maybeinorgtree.xlsx\",index=False)"
   ]
  },
  {
   "cell_type": "code",
   "execution_count": 115,
   "metadata": {},
   "outputs": [],
   "source": [
    "merged_in_orgtree.to_excel(path_joborglink+fileout_merged_prefix+\"inorgtree.xlsx\",index=False)"
   ]
  },
  {
   "cell_type": "code",
   "execution_count": null,
   "metadata": {},
   "outputs": [],
   "source": []
  }
 ],
 "metadata": {
  "kernelspec": {
   "display_name": "Python 3 (ipykernel)",
   "language": "python",
   "name": "python3"
  },
  "language_info": {
   "codemirror_mode": {
    "name": "ipython",
    "version": 3
   },
   "file_extension": ".py",
   "mimetype": "text/x-python",
   "name": "python",
   "nbconvert_exporter": "python",
   "pygments_lexer": "ipython3",
   "version": "3.11.0"
  }
 },
 "nbformat": 4,
 "nbformat_minor": 4
}
