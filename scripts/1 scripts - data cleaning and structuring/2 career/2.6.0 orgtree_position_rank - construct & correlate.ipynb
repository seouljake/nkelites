{
 "cells": [
  {
   "cell_type": "code",
   "execution_count": 1,
   "id": "74698cf3",
   "metadata": {},
   "outputs": [],
   "source": [
    "import pandas as pd\n",
    "import numpy as np"
   ]
  },
  {
   "cell_type": "markdown",
   "id": "aaf25c71",
   "metadata": {},
   "source": [
    "# combined data - 2 tables"
   ]
  },
  {
   "cell_type": "code",
   "execution_count": 2,
   "id": "f2c9c339",
   "metadata": {},
   "outputs": [],
   "source": [
    "path_tables = \"C:/Users/seoul/Dropbox/00 technical/github/nkelites/data/combined data/combined data - 2 tables/\""
   ]
  },
  {
   "cell_type": "code",
   "execution_count": 3,
   "id": "b7d9b165",
   "metadata": {},
   "outputs": [],
   "source": [
    "filename_careers = \"careers.xlsx\""
   ]
  },
  {
   "cell_type": "code",
   "execution_count": 4,
   "id": "1c1ab934",
   "metadata": {},
   "outputs": [],
   "source": [
    "filename_leadercareerlink = \"leadercareerlink.xlsx\""
   ]
  },
  {
   "cell_type": "code",
   "execution_count": 5,
   "id": "f86d0874",
   "metadata": {},
   "outputs": [],
   "source": [
    "filename_leaderjoblink = \"leaderjoblink.xlsx\""
   ]
  },
  {
   "cell_type": "code",
   "execution_count": 6,
   "id": "09c3c30a",
   "metadata": {},
   "outputs": [],
   "source": [
    "filename_joborglink = \"joborglink.xlsx\""
   ]
  },
  {
   "cell_type": "markdown",
   "id": "c2a10c37",
   "metadata": {},
   "source": [
    "# combined data - 1 cleaning/cleaning step 2 - career/"
   ]
  },
  {
   "cell_type": "code",
   "execution_count": 132,
   "id": "a9386ddd",
   "metadata": {},
   "outputs": [],
   "source": [
    "path_cleaning = \"C:/Users/seoul/Dropbox/00 technical/github/nkelites/data/combined data/combined data - 1 cleaning/cleaning step 2 - career/\""
   ]
  },
  {
   "cell_type": "code",
   "execution_count": 133,
   "id": "ea8288fa",
   "metadata": {},
   "outputs": [],
   "source": [
    "subpath_2_1 = \"2.1 career_undivided_unparsed_uncoded/\"\n",
    "subpath_2_2 = \"2.2 career_divided_unparsed_uncoded/\"\n",
    "subpath_2_3 = \"2.3 joborglink/\"\n",
    "subpath_2_4 = \"2.4 orgtree/\"\n",
    "subpath_2_5 = \"2.5 position/\"\n",
    "subpath_2_6 = \"2.6 career_reassembled/\"\n",
    "subpath_2_7 = \"2.7 orgtree position & rank/\""
   ]
  },
  {
   "cell_type": "code",
   "execution_count": 134,
   "id": "83143cac",
   "metadata": {},
   "outputs": [
    {
     "data": {
      "text/plain": [
       "(147, 15)"
      ]
     },
     "execution_count": 134,
     "metadata": {},
     "output_type": "execute_result"
    }
   ],
   "source": [
    "# 1.0 orgtree_position_rank\n",
    "\n",
    "# constructing new file from:\n",
    "## 2022 북한_기관별_인명록_북한정보포털 게재용\n",
    "## orgtree table\n",
    "\n",
    "filein_opr = \"1.0 orgtree_position_rank.xlsx\"\n",
    "opr = pd.read_excel(path_cleaning + subpath_2_7 + filein_opr,dtype=\"str\")\n",
    "opr.shape"
   ]
  },
  {
   "cell_type": "code",
   "execution_count": 135,
   "id": "614bfa3a",
   "metadata": {},
   "outputs": [
    {
     "data": {
      "text/plain": [
       "(1742, 9)"
      ]
     },
     "execution_count": 135,
     "metadata": {},
     "output_type": "execute_result"
    }
   ],
   "source": [
    "# orgtree_copy\n",
    "\n",
    "# copy of orgtree table\n",
    "\n",
    "filein_ot = \"orgtree_copy.xlsx\"\n",
    "ot = pd.read_excel(path_cleaning + subpath_2_7 + filein_ot,dtype=\"str\")\n",
    "ot.shape"
   ]
  },
  {
   "cell_type": "code",
   "execution_count": 136,
   "id": "c275cad9",
   "metadata": {},
   "outputs": [
    {
     "data": {
      "text/plain": [
       "(263, 7)"
      ]
     },
     "execution_count": 136,
     "metadata": {},
     "output_type": "execute_result"
    }
   ],
   "source": [
    "# position_rank_esther - original\n",
    "\n",
    "# original positions of 노동당, before hand-coding\n",
    "\n",
    "filein_posrank_party_orig = \"position_rank_esther.xlsx\"\n",
    "pr_party_orig = pd.read_excel(path_cleaning + subpath_2_7 + filein_posrank_party_orig,dtype=\"str\")\n",
    "pr_party_orig.shape"
   ]
  },
  {
   "cell_type": "code",
   "execution_count": 137,
   "id": "61463d86",
   "metadata": {},
   "outputs": [
    {
     "data": {
      "text/plain": [
       "(263, 11)"
      ]
     },
     "execution_count": 137,
     "metadata": {},
     "output_type": "execute_result"
    }
   ],
   "source": [
    "# position_rank_esther_handcoded\n",
    "\n",
    "# Esther's hand_ranked positions of 노동당\n",
    "\n",
    "filein_posrank_party = \"position_rank_esther_handcoded.xlsx\"\n",
    "pr_party = pd.read_excel(path_cleaning + subpath_2_7 + filein_posrank_party,dtype=\"str\")\n",
    "pr_party.shape"
   ]
  },
  {
   "cell_type": "code",
   "execution_count": 138,
   "id": "6a6c73b3",
   "metadata": {},
   "outputs": [
    {
     "data": {
      "text/plain": [
       "(842, 7)"
      ]
     },
     "execution_count": 138,
     "metadata": {},
     "output_type": "execute_result"
    }
   ],
   "source": [
    "# position_rank_jeongsu_handcoded\n",
    "\n",
    "# Jeongsu's hand-coded positions of all orgs minus 노동당, 내각, 정무원\n",
    "\n",
    "filein_posrank_else = \"position_rank_jeongsu.xlsx\"\n",
    "pr_else = pd.read_excel(path_cleaning + subpath_2_7 + filein_posrank_else,dtype=\"str\")\n",
    "pr_else.shape"
   ]
  },
  {
   "cell_type": "markdown",
   "id": "1c8c6302",
   "metadata": {},
   "source": [
    "# functions: format orgtree"
   ]
  },
  {
   "cell_type": "code",
   "execution_count": 139,
   "id": "3b85b568",
   "metadata": {},
   "outputs": [],
   "source": [
    "# using this on (PI,OrgName) will ensure unique & non-null keys\n",
    "# using this on a larger df will ensure unique rows and non-null keys, but not unique keys\n",
    "\n",
    "def unique_non_null_rows(olddf):\n",
    "    \n",
    "    df = olddf.copy()\n",
    "    \n",
    "    \n",
    "    ### drop duplicates\n",
    "    df = df.drop_duplicates(keep=\"first\",ignore_index=True)\n",
    "\n",
    "    ### drop null rows\n",
    "    df.dropna(how=\"all\",axis=0,inplace=True)\n",
    "    \n",
    "    # drop rows with null PI\n",
    "    df = df[~(df[\"PrimaryInstitution\"].isna())]\n",
    "        \n",
    "    ### drop rows where PI contains stop words\n",
    "    stop_words_lower = [\"uncertain\",\"current\",\"deprecated\",\"please_revise\"]\n",
    "    df = df[ ~ df[\"PrimaryInstitution\"].str.lower().isin(stop_words_lower)]\n",
    "            \n",
    "\n",
    "    print(\"\\nUnique Non-null Rows...\")\n",
    "    print(\"\")\n",
    "    print(\"\\tNon-unique rows:\",olddf.shape)\n",
    "    print(\"\\tUnique rows    :\",df.shape)\n",
    "\n",
    "    ### sort\n",
    "    df = df.sort_values([\"PrimaryInstitution\",\"OrgName\"])\n",
    "    \n",
    "    return df"
   ]
  },
  {
   "cell_type": "code",
   "execution_count": 140,
   "id": "9e7c6ad4",
   "metadata": {},
   "outputs": [],
   "source": [
    "def verify_unique_rows(df):\n",
    "    \n",
    "    key_columns = [\"PrimaryInstitution\",\"OrgName\"]\n",
    "    print(\"\\nVerifying Unique Rows...\")\n",
    "    print(\"\")\n",
    "    print(\"\\tDuplicate Rows:\",df[df.duplicated(keep=False)].shape)\n",
    "    print(\"\\tDuplicate Keys:\",df[df.duplicated(key_columns,keep=False)].shape)\n",
    "    print(\"\\tNull Rows     :\",df[df[\"PrimaryInstitution\"].isna() & df[\"OrgName\"].isna()].shape)"
   ]
  },
  {
   "cell_type": "code",
   "execution_count": 141,
   "id": "118e1cab",
   "metadata": {},
   "outputs": [],
   "source": [
    "def merge_results(m):\n",
    "    \n",
    "    print(\"\\nMerge Results...\")\n",
    "    print(\"\")\n",
    "    print(\"\\tshape     :\",m.shape)\n",
    "    print(\"\\tleft_only :\",m[m[\"_merge\"]==\"left_only\"].shape)\n",
    "    print(\"\\tboth      :\",m[m[\"_merge\"]==\"both\"].shape)\n",
    "    print(\"\\tright_only:\",m[m[\"_merge\"]==\"right_only\"].shape)"
   ]
  },
  {
   "cell_type": "markdown",
   "id": "339c22b1",
   "metadata": {},
   "source": [
    "# 0. pr_party - restore OrgName, clean file, add LinkToNext_"
   ]
  },
  {
   "cell_type": "code",
   "execution_count": 142,
   "id": "d6c60af7",
   "metadata": {},
   "outputs": [],
   "source": [
    "# position_rank_esther_handcoded: restore OrgName from position_rank_esther\n",
    "# Esther changed a few OrgNames; I will restore the original OrgName, but save Esther's changes"
   ]
  },
  {
   "cell_type": "code",
   "execution_count": 143,
   "id": "d40c047d",
   "metadata": {},
   "outputs": [
    {
     "data": {
      "text/html": [
       "<div>\n",
       "<style scoped>\n",
       "    .dataframe tbody tr th:only-of-type {\n",
       "        vertical-align: middle;\n",
       "    }\n",
       "\n",
       "    .dataframe tbody tr th {\n",
       "        vertical-align: top;\n",
       "    }\n",
       "\n",
       "    .dataframe thead th {\n",
       "        text-align: right;\n",
       "    }\n",
       "</style>\n",
       "<table border=\"1\" class=\"dataframe\">\n",
       "  <thead>\n",
       "    <tr style=\"text-align: right;\">\n",
       "      <th></th>\n",
       "      <th>Unnamed: 0</th>\n",
       "      <th>InsideGov</th>\n",
       "      <th>PrimaryInstitution</th>\n",
       "      <th>OrgName</th>\n",
       "      <th>Position</th>\n",
       "      <th>IsElected</th>\n",
       "      <th>PositionRank</th>\n",
       "    </tr>\n",
       "  </thead>\n",
       "  <tbody>\n",
       "    <tr>\n",
       "      <th>0</th>\n",
       "      <td>884</td>\n",
       "      <td>1</td>\n",
       "      <td>노동당</td>\n",
       "      <td>Uncertain</td>\n",
       "      <td>부부장</td>\n",
       "      <td>NaN</td>\n",
       "      <td>NaN</td>\n",
       "    </tr>\n",
       "    <tr>\n",
       "      <th>1</th>\n",
       "      <td>886</td>\n",
       "      <td>1</td>\n",
       "      <td>노동당</td>\n",
       "      <td>당대표자회_집행부</td>\n",
       "      <td>성원</td>\n",
       "      <td>NaN</td>\n",
       "      <td>NaN</td>\n",
       "    </tr>\n",
       "  </tbody>\n",
       "</table>\n",
       "</div>"
      ],
      "text/plain": [
       "  Unnamed: 0 InsideGov PrimaryInstitution    OrgName Position IsElected  \\\n",
       "0        884         1                노동당  Uncertain      부부장       NaN   \n",
       "1        886         1                노동당  당대표자회_집행부       성원       NaN   \n",
       "\n",
       "  PositionRank  \n",
       "0          NaN  \n",
       "1          NaN  "
      ]
     },
     "execution_count": 143,
     "metadata": {},
     "output_type": "execute_result"
    }
   ],
   "source": [
    "pr_party_orig.head(2)"
   ]
  },
  {
   "cell_type": "code",
   "execution_count": 144,
   "id": "3b1ea2f7",
   "metadata": {},
   "outputs": [
    {
     "data": {
      "text/html": [
       "<div>\n",
       "<style scoped>\n",
       "    .dataframe tbody tr th:only-of-type {\n",
       "        vertical-align: middle;\n",
       "    }\n",
       "\n",
       "    .dataframe tbody tr th {\n",
       "        vertical-align: top;\n",
       "    }\n",
       "\n",
       "    .dataframe thead th {\n",
       "        text-align: right;\n",
       "    }\n",
       "</style>\n",
       "<table border=\"1\" class=\"dataframe\">\n",
       "  <thead>\n",
       "    <tr style=\"text-align: right;\">\n",
       "      <th></th>\n",
       "      <th>Unnamed: 0</th>\n",
       "      <th>InsideGov</th>\n",
       "      <th>PrimaryInstitution</th>\n",
       "      <th>OrgName</th>\n",
       "      <th>Position</th>\n",
       "      <th>IsElected</th>\n",
       "      <th>OrgLevel</th>\n",
       "      <th>PositionRank</th>\n",
       "      <th>Notes</th>\n",
       "      <th>NewOrgname</th>\n",
       "      <th>NewPosition</th>\n",
       "    </tr>\n",
       "  </thead>\n",
       "  <tbody>\n",
       "    <tr>\n",
       "      <th>0</th>\n",
       "      <td>884</td>\n",
       "      <td>1</td>\n",
       "      <td>노동당</td>\n",
       "      <td>Uncertain</td>\n",
       "      <td>부부장</td>\n",
       "      <td>NaN</td>\n",
       "      <td>NaN</td>\n",
       "      <td>?</td>\n",
       "      <td>NaN</td>\n",
       "      <td>NaN</td>\n",
       "      <td>NaN</td>\n",
       "    </tr>\n",
       "    <tr>\n",
       "      <th>1</th>\n",
       "      <td>886</td>\n",
       "      <td>1</td>\n",
       "      <td>노동당</td>\n",
       "      <td>당대표자회_집행부</td>\n",
       "      <td>성원</td>\n",
       "      <td>NaN</td>\n",
       "      <td>NaN</td>\n",
       "      <td>NaN</td>\n",
       "      <td>NotOrg - 대표자회는 임시 회의, '임시 당대회'</td>\n",
       "      <td>NaN</td>\n",
       "      <td>NaN</td>\n",
       "    </tr>\n",
       "  </tbody>\n",
       "</table>\n",
       "</div>"
      ],
      "text/plain": [
       "  Unnamed: 0 InsideGov PrimaryInstitution    OrgName Position IsElected  \\\n",
       "0        884         1                노동당  Uncertain      부부장       NaN   \n",
       "1        886         1                노동당  당대표자회_집행부       성원       NaN   \n",
       "\n",
       "  OrgLevel PositionRank                           Notes NewOrgname NewPosition  \n",
       "0      NaN            ?                             NaN        NaN         NaN  \n",
       "1      NaN          NaN  NotOrg - 대표자회는 임시 회의, '임시 당대회'        NaN         NaN  "
      ]
     },
     "execution_count": 144,
     "metadata": {},
     "output_type": "execute_result"
    }
   ],
   "source": [
    "pr_party.head(2)"
   ]
  },
  {
   "cell_type": "code",
   "execution_count": 145,
   "id": "dd2d2d31",
   "metadata": {},
   "outputs": [
    {
     "name": "stdout",
     "output_type": "stream",
     "text": [
      "\n",
      "Merge Results...\n",
      "\n",
      "\tshape     : (263, 13)\n",
      "\tleft_only : (0, 13)\n",
      "\tboth      : (263, 13)\n",
      "\tright_only: (0, 13)\n"
     ]
    }
   ],
   "source": [
    "key_column = [\"Unnamed: 0\"]\n",
    "orig_columns = [\"Unnamed: 0\",\"OrgName\"]\n",
    "pr_party2 = pr_party.merge(pr_party_orig[orig_columns],on=key_column,how=\"outer\",indicator=True,suffixes=(\"\",\"_y\"))\n",
    "merge_results(pr_party2)"
   ]
  },
  {
   "cell_type": "code",
   "execution_count": 146,
   "id": "590c1156",
   "metadata": {},
   "outputs": [],
   "source": [
    "# pr_party [Changed_OrgName, Change_Position] - create & update"
   ]
  },
  {
   "cell_type": "code",
   "execution_count": 147,
   "id": "daeadeca",
   "metadata": {},
   "outputs": [],
   "source": [
    "pr_party2[\"Change_OrgName\"]=np.nan\n",
    "pr_party2[\"Change_Position\"]=np.nan"
   ]
  },
  {
   "cell_type": "code",
   "execution_count": 148,
   "id": "7be87938",
   "metadata": {},
   "outputs": [
    {
     "data": {
      "text/plain": [
       "(8, 15)"
      ]
     },
     "execution_count": 148,
     "metadata": {},
     "output_type": "execute_result"
    }
   ],
   "source": [
    "pr_party2[(pr_party2.OrgName != pr_party2.OrgName_y) & pr_party2.OrgName.notna()].shape"
   ]
  },
  {
   "cell_type": "code",
   "execution_count": 149,
   "id": "ad138233",
   "metadata": {},
   "outputs": [],
   "source": [
    "pr_party2.loc[pr_party2.OrgName != pr_party2.OrgName_y,\"Change_OrgName\"] = pr_party2.loc[pr_party2.OrgName != pr_party2.OrgName_y,\"OrgName\"]"
   ]
  },
  {
   "cell_type": "code",
   "execution_count": 150,
   "id": "1568bca4",
   "metadata": {},
   "outputs": [
    {
     "data": {
      "text/plain": [
       "(4, 15)"
      ]
     },
     "execution_count": 150,
     "metadata": {},
     "output_type": "execute_result"
    }
   ],
   "source": [
    "pr_party2[pr_party2.NewOrgname.notna()].shape"
   ]
  },
  {
   "cell_type": "code",
   "execution_count": 151,
   "id": "bed01f0e",
   "metadata": {},
   "outputs": [],
   "source": [
    "pr_party2.loc[pr_party2.NewOrgname.notna(),\"Change_OrgName\"] = pr_party2.loc[pr_party2.NewOrgname.notna(),\"NewOrgname\"]"
   ]
  },
  {
   "cell_type": "code",
   "execution_count": 152,
   "id": "4ffd7174",
   "metadata": {},
   "outputs": [
    {
     "data": {
      "text/plain": [
       "(12, 15)"
      ]
     },
     "execution_count": 152,
     "metadata": {},
     "output_type": "execute_result"
    }
   ],
   "source": [
    "pr_party2[pr_party2.Change_OrgName.notna()].shape"
   ]
  },
  {
   "cell_type": "code",
   "execution_count": 153,
   "id": "34c11a78",
   "metadata": {},
   "outputs": [
    {
     "data": {
      "text/plain": [
       "(6, 15)"
      ]
     },
     "execution_count": 153,
     "metadata": {},
     "output_type": "execute_result"
    }
   ],
   "source": [
    "pr_party2[pr_party2.NewPosition.notna()].shape"
   ]
  },
  {
   "cell_type": "code",
   "execution_count": 154,
   "id": "5a2faae5",
   "metadata": {},
   "outputs": [],
   "source": [
    "pr_party2.loc[pr_party2.NewPosition.notna(),\"Change_Position\"] = pr_party2.loc[pr_party2.NewPosition.notna(),\"NewPosition\"]"
   ]
  },
  {
   "cell_type": "code",
   "execution_count": 155,
   "id": "37a6cbac",
   "metadata": {},
   "outputs": [
    {
     "data": {
      "text/plain": [
       "(6, 15)"
      ]
     },
     "execution_count": 155,
     "metadata": {},
     "output_type": "execute_result"
    }
   ],
   "source": [
    "pr_party2[pr_party2.Change_Position.notna()].shape"
   ]
  },
  {
   "cell_type": "code",
   "execution_count": 156,
   "id": "d32b7a21",
   "metadata": {},
   "outputs": [],
   "source": [
    "pr_party2.OrgName = pr_party2.OrgName_y"
   ]
  },
  {
   "cell_type": "code",
   "execution_count": 157,
   "id": "a72328d5",
   "metadata": {},
   "outputs": [],
   "source": [
    "pr_party2.drop(columns=[\"OrgName_y\",\"NewOrgname\",\"NewPosition\",\"Unnamed: 0\",\"_merge\"],inplace=True)"
   ]
  },
  {
   "cell_type": "code",
   "execution_count": 158,
   "id": "3d7d2530",
   "metadata": {},
   "outputs": [
    {
     "data": {
      "text/html": [
       "<div>\n",
       "<style scoped>\n",
       "    .dataframe tbody tr th:only-of-type {\n",
       "        vertical-align: middle;\n",
       "    }\n",
       "\n",
       "    .dataframe tbody tr th {\n",
       "        vertical-align: top;\n",
       "    }\n",
       "\n",
       "    .dataframe thead th {\n",
       "        text-align: right;\n",
       "    }\n",
       "</style>\n",
       "<table border=\"1\" class=\"dataframe\">\n",
       "  <thead>\n",
       "    <tr style=\"text-align: right;\">\n",
       "      <th></th>\n",
       "      <th>InsideGov</th>\n",
       "      <th>PrimaryInstitution</th>\n",
       "      <th>OrgName</th>\n",
       "      <th>Position</th>\n",
       "      <th>IsElected</th>\n",
       "      <th>OrgLevel</th>\n",
       "      <th>PositionRank</th>\n",
       "      <th>Notes</th>\n",
       "      <th>Change_OrgName</th>\n",
       "      <th>Change_Position</th>\n",
       "    </tr>\n",
       "  </thead>\n",
       "  <tbody>\n",
       "    <tr>\n",
       "      <th>0</th>\n",
       "      <td>1</td>\n",
       "      <td>노동당</td>\n",
       "      <td>Uncertain</td>\n",
       "      <td>부부장</td>\n",
       "      <td>NaN</td>\n",
       "      <td>NaN</td>\n",
       "      <td>?</td>\n",
       "      <td>NaN</td>\n",
       "      <td>NaN</td>\n",
       "      <td>NaN</td>\n",
       "    </tr>\n",
       "    <tr>\n",
       "      <th>1</th>\n",
       "      <td>1</td>\n",
       "      <td>노동당</td>\n",
       "      <td>당대표자회_집행부</td>\n",
       "      <td>성원</td>\n",
       "      <td>NaN</td>\n",
       "      <td>NaN</td>\n",
       "      <td>NaN</td>\n",
       "      <td>NotOrg - 대표자회는 임시 회의, '임시 당대회'</td>\n",
       "      <td>NaN</td>\n",
       "      <td>NaN</td>\n",
       "    </tr>\n",
       "  </tbody>\n",
       "</table>\n",
       "</div>"
      ],
      "text/plain": [
       "  InsideGov PrimaryInstitution    OrgName Position IsElected OrgLevel  \\\n",
       "0         1                노동당  Uncertain      부부장       NaN      NaN   \n",
       "1         1                노동당  당대표자회_집행부       성원       NaN      NaN   \n",
       "\n",
       "  PositionRank                           Notes Change_OrgName Change_Position  \n",
       "0            ?                             NaN            NaN             NaN  \n",
       "1          NaN  NotOrg - 대표자회는 임시 회의, '임시 당대회'            NaN             NaN  "
      ]
     },
     "execution_count": 158,
     "metadata": {},
     "output_type": "execute_result"
    }
   ],
   "source": [
    "pr_party2.head(2)"
   ]
  },
  {
   "cell_type": "code",
   "execution_count": 159,
   "id": "9ce9630f",
   "metadata": {},
   "outputs": [
    {
     "data": {
      "text/html": [
       "<div>\n",
       "<style scoped>\n",
       "    .dataframe tbody tr th:only-of-type {\n",
       "        vertical-align: middle;\n",
       "    }\n",
       "\n",
       "    .dataframe tbody tr th {\n",
       "        vertical-align: top;\n",
       "    }\n",
       "\n",
       "    .dataframe thead th {\n",
       "        text-align: right;\n",
       "    }\n",
       "</style>\n",
       "<table border=\"1\" class=\"dataframe\">\n",
       "  <thead>\n",
       "    <tr style=\"text-align: right;\">\n",
       "      <th></th>\n",
       "      <th>InsideGov</th>\n",
       "      <th>PrimaryInstitution</th>\n",
       "      <th>OrgName</th>\n",
       "      <th>ImmediateSuperiorOrg</th>\n",
       "      <th>SupervisesParent</th>\n",
       "      <th>LinkToNext_PI</th>\n",
       "      <th>LinkToNext_Org</th>\n",
       "      <th>LinkToNext_Year</th>\n",
       "      <th>Notes</th>\n",
       "    </tr>\n",
       "  </thead>\n",
       "  <tbody>\n",
       "    <tr>\n",
       "      <th>0</th>\n",
       "      <td>0</td>\n",
       "      <td>4.15문화창작단</td>\n",
       "      <td>NaN</td>\n",
       "      <td>NaN</td>\n",
       "      <td>NaN</td>\n",
       "      <td>Current</td>\n",
       "      <td>Current</td>\n",
       "      <td>Current</td>\n",
       "      <td>NaN</td>\n",
       "    </tr>\n",
       "    <tr>\n",
       "      <th>1</th>\n",
       "      <td>0</td>\n",
       "      <td>6.15공동선언실천남북공동위원회북측위원회</td>\n",
       "      <td>교직원분과</td>\n",
       "      <td>NaN</td>\n",
       "      <td>NaN</td>\n",
       "      <td>Current</td>\n",
       "      <td>Current</td>\n",
       "      <td>Current</td>\n",
       "      <td>NaN</td>\n",
       "    </tr>\n",
       "  </tbody>\n",
       "</table>\n",
       "</div>"
      ],
      "text/plain": [
       "  InsideGov      PrimaryInstitution OrgName ImmediateSuperiorOrg  \\\n",
       "0         0               4.15문화창작단     NaN                  NaN   \n",
       "1         0  6.15공동선언실천남북공동위원회북측위원회   교직원분과                  NaN   \n",
       "\n",
       "  SupervisesParent LinkToNext_PI LinkToNext_Org LinkToNext_Year Notes  \n",
       "0              NaN       Current        Current         Current   NaN  \n",
       "1              NaN       Current        Current         Current   NaN  "
      ]
     },
     "execution_count": 159,
     "metadata": {},
     "output_type": "execute_result"
    }
   ],
   "source": [
    "# add LinkToNext_ fields to pr_party2\n",
    "ot.head(2)"
   ]
  },
  {
   "cell_type": "code",
   "execution_count": 162,
   "id": "fecce8be",
   "metadata": {},
   "outputs": [],
   "source": [
    "key_columns2 = [\"PrimaryInstitution\",\"OrgName\"]\n",
    "org_columns = key_columns2 + [c for c in list(ot.columns) if \"LinkToNext_\" in c]\n",
    "# print(org_columns)\n",
    "pr_party3 = pr_party2.merge(ot[org_columns],on=key_columns2,how=\"inner\",indicator=False)\n",
    "# merge_results(pr_party3)"
   ]
  },
  {
   "cell_type": "code",
   "execution_count": 169,
   "id": "33161115",
   "metadata": {},
   "outputs": [],
   "source": [
    "# prep columns to merge with opr\n",
    "pr_party3.rename(columns={\"PositionRank\":\"PositionRank_manual\"},inplace=True)"
   ]
  },
  {
   "cell_type": "code",
   "execution_count": 170,
   "id": "1fb3f2d7",
   "metadata": {},
   "outputs": [],
   "source": [
    "pr_party3[\"PositionRank_3P\"]=np.nan"
   ]
  },
  {
   "cell_type": "code",
   "execution_count": 163,
   "id": "8cfbc551",
   "metadata": {},
   "outputs": [
    {
     "data": {
      "text/html": [
       "<div>\n",
       "<style scoped>\n",
       "    .dataframe tbody tr th:only-of-type {\n",
       "        vertical-align: middle;\n",
       "    }\n",
       "\n",
       "    .dataframe tbody tr th {\n",
       "        vertical-align: top;\n",
       "    }\n",
       "\n",
       "    .dataframe thead th {\n",
       "        text-align: right;\n",
       "    }\n",
       "</style>\n",
       "<table border=\"1\" class=\"dataframe\">\n",
       "  <thead>\n",
       "    <tr style=\"text-align: right;\">\n",
       "      <th></th>\n",
       "      <th>InsideGov</th>\n",
       "      <th>PrimaryInstitution</th>\n",
       "      <th>OrgName</th>\n",
       "      <th>Position</th>\n",
       "      <th>IsElected</th>\n",
       "      <th>OrgLevel</th>\n",
       "      <th>PositionRank</th>\n",
       "      <th>Notes</th>\n",
       "      <th>Change_OrgName</th>\n",
       "      <th>Change_Position</th>\n",
       "      <th>LinkToNext_PI</th>\n",
       "      <th>LinkToNext_Org</th>\n",
       "      <th>LinkToNext_Year</th>\n",
       "    </tr>\n",
       "  </thead>\n",
       "  <tbody>\n",
       "    <tr>\n",
       "      <th>0</th>\n",
       "      <td>1</td>\n",
       "      <td>노동당</td>\n",
       "      <td>Uncertain</td>\n",
       "      <td>부부장</td>\n",
       "      <td>NaN</td>\n",
       "      <td>NaN</td>\n",
       "      <td>?</td>\n",
       "      <td>NaN</td>\n",
       "      <td>NaN</td>\n",
       "      <td>NaN</td>\n",
       "      <td>Current</td>\n",
       "      <td>Current</td>\n",
       "      <td>Current</td>\n",
       "    </tr>\n",
       "    <tr>\n",
       "      <th>1</th>\n",
       "      <td>1</td>\n",
       "      <td>노동당</td>\n",
       "      <td>당대표자회_집행부</td>\n",
       "      <td>성원</td>\n",
       "      <td>NaN</td>\n",
       "      <td>NaN</td>\n",
       "      <td>NaN</td>\n",
       "      <td>NotOrg - 대표자회는 임시 회의, '임시 당대회'</td>\n",
       "      <td>NaN</td>\n",
       "      <td>NaN</td>\n",
       "      <td>Current</td>\n",
       "      <td>Current</td>\n",
       "      <td>Current</td>\n",
       "    </tr>\n",
       "  </tbody>\n",
       "</table>\n",
       "</div>"
      ],
      "text/plain": [
       "  InsideGov PrimaryInstitution    OrgName Position IsElected OrgLevel  \\\n",
       "0         1                노동당  Uncertain      부부장       NaN      NaN   \n",
       "1         1                노동당  당대표자회_집행부       성원       NaN      NaN   \n",
       "\n",
       "  PositionRank                           Notes Change_OrgName Change_Position  \\\n",
       "0            ?                             NaN            NaN             NaN   \n",
       "1          NaN  NotOrg - 대표자회는 임시 회의, '임시 당대회'            NaN             NaN   \n",
       "\n",
       "  LinkToNext_PI LinkToNext_Org LinkToNext_Year  \n",
       "0       Current        Current         Current  \n",
       "1       Current        Current         Current  "
      ]
     },
     "execution_count": 163,
     "metadata": {},
     "output_type": "execute_result"
    }
   ],
   "source": [
    "pr_party3.head(2)"
   ]
  },
  {
   "cell_type": "markdown",
   "id": "8843824f",
   "metadata": {},
   "source": [
    "# 0. orgtree_position_rank: create L1_Index, L2_Index, L3_Index"
   ]
  },
  {
   "cell_type": "code",
   "execution_count": 282,
   "id": "2bd8b203",
   "metadata": {},
   "outputs": [
    {
     "data": {
      "text/html": [
       "<div>\n",
       "<style scoped>\n",
       "    .dataframe tbody tr th:only-of-type {\n",
       "        vertical-align: middle;\n",
       "    }\n",
       "\n",
       "    .dataframe tbody tr th {\n",
       "        vertical-align: top;\n",
       "    }\n",
       "\n",
       "    .dataframe thead th {\n",
       "        text-align: right;\n",
       "    }\n",
       "</style>\n",
       "<table border=\"1\" class=\"dataframe\">\n",
       "  <thead>\n",
       "    <tr style=\"text-align: right;\">\n",
       "      <th></th>\n",
       "      <th>InsideGov</th>\n",
       "      <th>PrimaryInstitution</th>\n",
       "      <th>OrgName</th>\n",
       "      <th>PI_Index</th>\n",
       "      <th>OrgRank</th>\n",
       "      <th>P1</th>\n",
       "      <th>P2</th>\n",
       "      <th>P3</th>\n",
       "      <th>LinkToNext_PI</th>\n",
       "      <th>LinkToNext_Org</th>\n",
       "      <th>LinkToNext_Year</th>\n",
       "      <th>Notes</th>\n",
       "      <th>L1_Index</th>\n",
       "      <th>L2_Index</th>\n",
       "      <th>L3_Index</th>\n",
       "      <th>L4_Index</th>\n",
       "      <th>Change_OrgName</th>\n",
       "      <th>Alias_OrgName</th>\n",
       "    </tr>\n",
       "  </thead>\n",
       "  <tbody>\n",
       "    <tr>\n",
       "      <th>0</th>\n",
       "      <td>1</td>\n",
       "      <td>국가체육지도위원회</td>\n",
       "      <td>NaN</td>\n",
       "      <td>4.0.0</td>\n",
       "      <td>0</td>\n",
       "      <td>위원장</td>\n",
       "      <td>부위원장</td>\n",
       "      <td>서기장, 위원</td>\n",
       "      <td>Current</td>\n",
       "      <td>Current</td>\n",
       "      <td>Current</td>\n",
       "      <td>NaN</td>\n",
       "      <td>4</td>\n",
       "      <td>0</td>\n",
       "      <td>0</td>\n",
       "      <td>NaN</td>\n",
       "      <td>NaN</td>\n",
       "      <td>NaN</td>\n",
       "    </tr>\n",
       "    <tr>\n",
       "      <th>1</th>\n",
       "      <td>1</td>\n",
       "      <td>국무위원회</td>\n",
       "      <td>경위국</td>\n",
       "      <td>2.1.0</td>\n",
       "      <td>1</td>\n",
       "      <td>국장</td>\n",
       "      <td>부국장</td>\n",
       "      <td>NaN</td>\n",
       "      <td>Current</td>\n",
       "      <td>Current</td>\n",
       "      <td>Current</td>\n",
       "      <td>NaN</td>\n",
       "      <td>2</td>\n",
       "      <td>1</td>\n",
       "      <td>0</td>\n",
       "      <td>NaN</td>\n",
       "      <td>NaN</td>\n",
       "      <td>NaN</td>\n",
       "    </tr>\n",
       "  </tbody>\n",
       "</table>\n",
       "</div>"
      ],
      "text/plain": [
       "  InsideGov PrimaryInstitution OrgName PI_Index OrgRank   P1    P2       P3  \\\n",
       "0         1          국가체육지도위원회     NaN    4.0.0       0  위원장  부위원장  서기장, 위원   \n",
       "1         1              국무위원회     경위국    2.1.0       1   국장   부국장      NaN   \n",
       "\n",
       "  LinkToNext_PI LinkToNext_Org LinkToNext_Year Notes L1_Index L2_Index  \\\n",
       "0       Current        Current         Current   NaN        4        0   \n",
       "1       Current        Current         Current   NaN        2        1   \n",
       "\n",
       "  L3_Index L4_Index Change_OrgName Alias_OrgName  \n",
       "0        0      NaN            NaN           NaN  \n",
       "1        0      NaN            NaN           NaN  "
      ]
     },
     "execution_count": 282,
     "metadata": {},
     "output_type": "execute_result"
    }
   ],
   "source": [
    "opr.head(2)"
   ]
  },
  {
   "cell_type": "code",
   "execution_count": 304,
   "id": "cebce4e4",
   "metadata": {},
   "outputs": [],
   "source": [
    "def update_opr_index(opr,max_level):\n",
    "    \n",
    "    # create and clear out existing Level Indicies\n",
    "    opr[\"OrgRank\"]=np.nan\n",
    "    opr[\"L1_Index\"]=np.nan\n",
    "    opr[\"L2_Index\"]=np.nan\n",
    "    opr[\"L3_Index\"]=np.nan\n",
    "    opr[\"L4_Index\"]=np.nan\n",
    "    opr[\"L5_Index\"]=np.nan\n",
    "    \n",
    "    # pad PI_Index with missing 0s up to the deepest level (4 or 5?)\n",
    "    opr[\"PI_Index\"] = opr.apply(lambda x: str(x[\"PI_Index\"]) + ((max_level-1)-str(x[\"PI_Index\"]).count(\".\")) * \".0\",axis=1)\n",
    "    \n",
    "    # calculate OrgRank\n",
    "    opr[\"OrgRank\"] = opr.apply(lambda x: (max_level-1) - str(x[\"PI_Index\"]).count(\".0\"),axis=1)\n",
    "    \n",
    "    # populate Level Indices using PI_Index\n",
    "    opr.loc[opr[\"PI_Index\"].notna(),\"L1_Index\"] = opr.loc[opr[\"PI_Index\"].notna()].apply(lambda x: str(x[\"PI_Index\"]).split(\".\")[0],axis=1)\n",
    "    opr.loc[opr[\"PI_Index\"].notna(),\"L2_Index\"] = opr.loc[opr[\"PI_Index\"].notna()].apply(lambda x: str(x[\"PI_Index\"]).split(\".\")[1],axis=1)\n",
    "    opr.loc[opr[\"PI_Index\"].notna(),\"L3_Index\"] = opr.loc[opr[\"PI_Index\"].notna()].apply(lambda x: str(x[\"PI_Index\"]).split(\".\")[2],axis=1)\n",
    "    opr.loc[opr[\"PI_Index\"].notna(),\"L4_Index\"] = opr.loc[opr[\"PI_Index\"].notna()].apply(lambda x: str(x[\"PI_Index\"]).split(\".\")[3],axis=1)\n",
    "    opr.loc[opr[\"PI_Index\"].notna(),\"L5_Index\"] = opr.loc[opr[\"PI_Index\"].notna()].apply(lambda x: str(x[\"PI_Index\"]).split(\".\")[4],axis=1)\n",
    "\n",
    "    # sort by Level1, Level2, Level3\n",
    "    sort_columns = [\"L1_Index\",\"L2_Index\",\"L3_Index\",\"L4_Index\",\"L5_Index\"]\n",
    "    #opr.L1_Index.astype(int,errors=\"ignore\")\n",
    "    #opr.L2_Index.astype(int,errors=\"ignore\")\n",
    "    #opr.L3_Index.astype(int,errors=\"ignore\")\n",
    "    opr.sort_values(sort_columns,inplace=True)\n",
    "    \n",
    "    return opr"
   ]
  },
  {
   "cell_type": "code",
   "execution_count": 302,
   "id": "77dddaf1",
   "metadata": {},
   "outputs": [],
   "source": [
    "opr = update_opr_index(opr,5)"
   ]
  },
  {
   "cell_type": "code",
   "execution_count": 167,
   "id": "7f7aedb0",
   "metadata": {},
   "outputs": [],
   "source": [
    "# export opr\n",
    "\n",
    "# fileout_opr = \"1.0 orgtree_position_rank.xlsx\"\n",
    "# opr.to_excel(path_cleaning + subpath_2_7 + fileout_opr,index=False)"
   ]
  },
  {
   "cell_type": "code",
   "execution_count": null,
   "id": "308ed7e7",
   "metadata": {},
   "outputs": [],
   "source": []
  },
  {
   "cell_type": "code",
   "execution_count": null,
   "id": "baf33b2e",
   "metadata": {},
   "outputs": [],
   "source": []
  },
  {
   "cell_type": "markdown",
   "id": "0f5c3e63",
   "metadata": {},
   "source": [
    "# 1. orgtree_position_rank: update 노동당 OrgName"
   ]
  },
  {
   "cell_type": "code",
   "execution_count": 168,
   "id": "39388c06",
   "metadata": {},
   "outputs": [],
   "source": [
    "# align opr with pr_party2"
   ]
  },
  {
   "cell_type": "code",
   "execution_count": 171,
   "id": "4bcc0b0f",
   "metadata": {},
   "outputs": [
    {
     "data": {
      "text/html": [
       "<div>\n",
       "<style scoped>\n",
       "    .dataframe tbody tr th:only-of-type {\n",
       "        vertical-align: middle;\n",
       "    }\n",
       "\n",
       "    .dataframe tbody tr th {\n",
       "        vertical-align: top;\n",
       "    }\n",
       "\n",
       "    .dataframe thead th {\n",
       "        text-align: right;\n",
       "    }\n",
       "</style>\n",
       "<table border=\"1\" class=\"dataframe\">\n",
       "  <thead>\n",
       "    <tr style=\"text-align: right;\">\n",
       "      <th></th>\n",
       "      <th>InsideGov</th>\n",
       "      <th>PrimaryInstitution</th>\n",
       "      <th>OrgName</th>\n",
       "      <th>Position</th>\n",
       "      <th>IsElected</th>\n",
       "      <th>OrgLevel</th>\n",
       "      <th>PositionRank_manual</th>\n",
       "      <th>Notes</th>\n",
       "      <th>Change_OrgName</th>\n",
       "      <th>Change_Position</th>\n",
       "      <th>LinkToNext_PI</th>\n",
       "      <th>LinkToNext_Org</th>\n",
       "      <th>LinkToNext_Year</th>\n",
       "      <th>PositionRank_3P</th>\n",
       "    </tr>\n",
       "  </thead>\n",
       "  <tbody>\n",
       "    <tr>\n",
       "      <th>0</th>\n",
       "      <td>1</td>\n",
       "      <td>노동당</td>\n",
       "      <td>Uncertain</td>\n",
       "      <td>부부장</td>\n",
       "      <td>NaN</td>\n",
       "      <td>NaN</td>\n",
       "      <td>?</td>\n",
       "      <td>NaN</td>\n",
       "      <td>NaN</td>\n",
       "      <td>NaN</td>\n",
       "      <td>Current</td>\n",
       "      <td>Current</td>\n",
       "      <td>Current</td>\n",
       "      <td>NaN</td>\n",
       "    </tr>\n",
       "    <tr>\n",
       "      <th>1</th>\n",
       "      <td>1</td>\n",
       "      <td>노동당</td>\n",
       "      <td>당대표자회_집행부</td>\n",
       "      <td>성원</td>\n",
       "      <td>NaN</td>\n",
       "      <td>NaN</td>\n",
       "      <td>NaN</td>\n",
       "      <td>NotOrg - 대표자회는 임시 회의, '임시 당대회'</td>\n",
       "      <td>NaN</td>\n",
       "      <td>NaN</td>\n",
       "      <td>Current</td>\n",
       "      <td>Current</td>\n",
       "      <td>Current</td>\n",
       "      <td>NaN</td>\n",
       "    </tr>\n",
       "  </tbody>\n",
       "</table>\n",
       "</div>"
      ],
      "text/plain": [
       "  InsideGov PrimaryInstitution    OrgName Position IsElected OrgLevel  \\\n",
       "0         1                노동당  Uncertain      부부장       NaN      NaN   \n",
       "1         1                노동당  당대표자회_집행부       성원       NaN      NaN   \n",
       "\n",
       "  PositionRank_manual                           Notes Change_OrgName  \\\n",
       "0                   ?                             NaN            NaN   \n",
       "1                 NaN  NotOrg - 대표자회는 임시 회의, '임시 당대회'            NaN   \n",
       "\n",
       "  Change_Position LinkToNext_PI LinkToNext_Org LinkToNext_Year  \\\n",
       "0             NaN       Current        Current         Current   \n",
       "1             NaN       Current        Current         Current   \n",
       "\n",
       "   PositionRank_3P  \n",
       "0              NaN  \n",
       "1              NaN  "
      ]
     },
     "execution_count": 171,
     "metadata": {},
     "output_type": "execute_result"
    }
   ],
   "source": [
    "pr_party3.head(2)"
   ]
  },
  {
   "cell_type": "code",
   "execution_count": 172,
   "id": "1b3e0f4c",
   "metadata": {},
   "outputs": [],
   "source": [
    "# recursively - \n",
    "\n",
    "## manually update orgtree_position_rank\n",
    "## open and compare with pr_party2"
   ]
  },
  {
   "cell_type": "code",
   "execution_count": 281,
   "id": "092f7c95",
   "metadata": {},
   "outputs": [
    {
     "data": {
      "text/plain": [
       "(219, 18)"
      ]
     },
     "execution_count": 281,
     "metadata": {},
     "output_type": "execute_result"
    }
   ],
   "source": [
    "# 1.0 orgtree_position_rank\n",
    "\n",
    "# constructing new file from:\n",
    "## 2022 북한_기관별_인명록_북한정보포털 게재용\n",
    "## orgtree table\n",
    "\n",
    "filein_opr = \"1.0 orgtree_position_rank.xlsx\"\n",
    "opr = pd.read_excel(path_cleaning + subpath_2_7 + filein_opr,dtype=\"str\")\n",
    "opr.shape"
   ]
  },
  {
   "cell_type": "code",
   "execution_count": 260,
   "id": "64abeecf",
   "metadata": {},
   "outputs": [
    {
     "data": {
      "text/html": [
       "<div>\n",
       "<style scoped>\n",
       "    .dataframe tbody tr th:only-of-type {\n",
       "        vertical-align: middle;\n",
       "    }\n",
       "\n",
       "    .dataframe tbody tr th {\n",
       "        vertical-align: top;\n",
       "    }\n",
       "\n",
       "    .dataframe thead th {\n",
       "        text-align: right;\n",
       "    }\n",
       "</style>\n",
       "<table border=\"1\" class=\"dataframe\">\n",
       "  <thead>\n",
       "    <tr style=\"text-align: right;\">\n",
       "      <th></th>\n",
       "      <th>InsideGov</th>\n",
       "      <th>PrimaryInstitution</th>\n",
       "      <th>OrgName</th>\n",
       "      <th>PI_Index</th>\n",
       "      <th>OrgRank</th>\n",
       "      <th>P1</th>\n",
       "      <th>P2</th>\n",
       "      <th>P3</th>\n",
       "      <th>LinkToNext_PI</th>\n",
       "      <th>LinkToNext_Org</th>\n",
       "      <th>LinkToNext_Year</th>\n",
       "      <th>Notes</th>\n",
       "      <th>L1_Index</th>\n",
       "      <th>L2_Index</th>\n",
       "      <th>L3_Index</th>\n",
       "      <th>L4_Index</th>\n",
       "      <th>Change_OrgName</th>\n",
       "      <th>Alias_OrgName</th>\n",
       "    </tr>\n",
       "  </thead>\n",
       "  <tbody>\n",
       "    <tr>\n",
       "      <th>0</th>\n",
       "      <td>1</td>\n",
       "      <td>국가체육지도위원회</td>\n",
       "      <td>NaN</td>\n",
       "      <td>4.0.0</td>\n",
       "      <td>0</td>\n",
       "      <td>위원장</td>\n",
       "      <td>부위원장</td>\n",
       "      <td>서기장, 위원</td>\n",
       "      <td>Current</td>\n",
       "      <td>Current</td>\n",
       "      <td>Current</td>\n",
       "      <td>NaN</td>\n",
       "      <td>4</td>\n",
       "      <td>0</td>\n",
       "      <td>NaN</td>\n",
       "      <td>NaN</td>\n",
       "      <td>NaN</td>\n",
       "      <td>NaN</td>\n",
       "    </tr>\n",
       "    <tr>\n",
       "      <th>1</th>\n",
       "      <td>1</td>\n",
       "      <td>국무위원회</td>\n",
       "      <td>경위국</td>\n",
       "      <td>2.1.0</td>\n",
       "      <td>1</td>\n",
       "      <td>국장</td>\n",
       "      <td>부국장</td>\n",
       "      <td>NaN</td>\n",
       "      <td>Current</td>\n",
       "      <td>Current</td>\n",
       "      <td>Current</td>\n",
       "      <td>NaN</td>\n",
       "      <td>2</td>\n",
       "      <td>1</td>\n",
       "      <td>NaN</td>\n",
       "      <td>NaN</td>\n",
       "      <td>NaN</td>\n",
       "      <td>NaN</td>\n",
       "    </tr>\n",
       "  </tbody>\n",
       "</table>\n",
       "</div>"
      ],
      "text/plain": [
       "  InsideGov PrimaryInstitution OrgName PI_Index OrgRank   P1    P2       P3  \\\n",
       "0         1          국가체육지도위원회     NaN    4.0.0       0  위원장  부위원장  서기장, 위원   \n",
       "1         1              국무위원회     경위국    2.1.0       1   국장   부국장      NaN   \n",
       "\n",
       "  LinkToNext_PI LinkToNext_Org LinkToNext_Year Notes L1_Index L2_Index  \\\n",
       "0       Current        Current         Current   NaN        4        0   \n",
       "1       Current        Current         Current   NaN        2        1   \n",
       "\n",
       "   L3_Index L4_Index Change_OrgName Alias_OrgName  \n",
       "0       NaN      NaN            NaN           NaN  \n",
       "1       NaN      NaN            NaN           NaN  "
      ]
     },
     "execution_count": 260,
     "metadata": {},
     "output_type": "execute_result"
    }
   ],
   "source": [
    "opr.head(2)"
   ]
  },
  {
   "cell_type": "code",
   "execution_count": 288,
   "id": "5b7c30ff",
   "metadata": {},
   "outputs": [],
   "source": [
    "opr = update_opr_index(opr,5)"
   ]
  },
  {
   "cell_type": "code",
   "execution_count": 305,
   "id": "d7883bc4",
   "metadata": {},
   "outputs": [],
   "source": [
    "# export opr\n",
    "\n",
    "# fileout_opr = \"1.0 orgtree_position_rank.xlsx\"\n",
    "# opr.to_excel(path_cleaning + subpath_2_7 + fileout_opr,index=False)"
   ]
  },
  {
   "cell_type": "code",
   "execution_count": 306,
   "id": "1beb7279",
   "metadata": {},
   "outputs": [
    {
     "name": "stdout",
     "output_type": "stream",
     "text": [
      "\n",
      "Merge Results...\n",
      "\n",
      "\tshape     : (270, 32)\n",
      "\tleft_only : (3, 32)\n",
      "\tboth      : (267, 32)\n",
      "\tright_only: (0, 32)\n"
     ]
    }
   ],
   "source": [
    "key_columns2 = [\"PrimaryInstitution\",\"OrgName\"]\n",
    "pr_party4 = pr_party3.merge(opr,on=key_columns2,how=\"left\",indicator=True,suffixes=(\"\",\"_opr\"))\n",
    "merge_results(pr_party4)"
   ]
  },
  {
   "cell_type": "code",
   "execution_count": 307,
   "id": "b461b299",
   "metadata": {},
   "outputs": [],
   "source": [
    "pd.set_option('display.max_rows', None)\n",
    "pd.set_option('display.max_columns', None)\n",
    "# select_columns = [\"OrgName\",\"PI_Index\",\"OrgRank\",\"Position\",\"PositionRank_manual\",\"P1\",\"P2\",\"P3\",\"Notes\",\"Notes_opr\"] \n",
    "# pr_party4.loc[pr_party4[\"_merge\"]==\"left_only\",select_columns]"
   ]
  },
  {
   "cell_type": "code",
   "execution_count": 309,
   "id": "5d31e404",
   "metadata": {},
   "outputs": [
    {
     "data": {
      "text/html": [
       "<div>\n",
       "<style scoped>\n",
       "    .dataframe tbody tr th:only-of-type {\n",
       "        vertical-align: middle;\n",
       "    }\n",
       "\n",
       "    .dataframe tbody tr th {\n",
       "        vertical-align: top;\n",
       "    }\n",
       "\n",
       "    .dataframe thead th {\n",
       "        text-align: right;\n",
       "    }\n",
       "</style>\n",
       "<table border=\"1\" class=\"dataframe\">\n",
       "  <thead>\n",
       "    <tr style=\"text-align: right;\">\n",
       "      <th></th>\n",
       "      <th>InsideGov</th>\n",
       "      <th>PrimaryInstitution</th>\n",
       "      <th>OrgName</th>\n",
       "      <th>Position</th>\n",
       "      <th>IsElected</th>\n",
       "      <th>OrgLevel</th>\n",
       "      <th>PositionRank_manual</th>\n",
       "      <th>Notes</th>\n",
       "      <th>Change_OrgName</th>\n",
       "      <th>Change_Position</th>\n",
       "      <th>LinkToNext_PI</th>\n",
       "      <th>LinkToNext_Org</th>\n",
       "      <th>LinkToNext_Year</th>\n",
       "      <th>PositionRank_3P</th>\n",
       "      <th>InsideGov_opr</th>\n",
       "      <th>PI_Index</th>\n",
       "      <th>OrgRank</th>\n",
       "      <th>P1</th>\n",
       "      <th>P2</th>\n",
       "      <th>P3</th>\n",
       "      <th>LinkToNext_PI_opr</th>\n",
       "      <th>LinkToNext_Org_opr</th>\n",
       "      <th>LinkToNext_Year_opr</th>\n",
       "      <th>Notes_opr</th>\n",
       "      <th>L1_Index</th>\n",
       "      <th>L2_Index</th>\n",
       "      <th>L3_Index</th>\n",
       "      <th>L4_Index</th>\n",
       "      <th>Change_OrgName_opr</th>\n",
       "      <th>Alias_OrgName</th>\n",
       "      <th>L5_Index</th>\n",
       "      <th>_merge</th>\n",
       "    </tr>\n",
       "  </thead>\n",
       "  <tbody>\n",
       "    <tr>\n",
       "      <th>0</th>\n",
       "      <td>1</td>\n",
       "      <td>노동당</td>\n",
       "      <td>Uncertain</td>\n",
       "      <td>부부장</td>\n",
       "      <td>NaN</td>\n",
       "      <td>NaN</td>\n",
       "      <td>?</td>\n",
       "      <td>NaN</td>\n",
       "      <td>NaN</td>\n",
       "      <td>NaN</td>\n",
       "      <td>Current</td>\n",
       "      <td>Current</td>\n",
       "      <td>Current</td>\n",
       "      <td>NaN</td>\n",
       "      <td>NaN</td>\n",
       "      <td>NaN</td>\n",
       "      <td>NaN</td>\n",
       "      <td>NaN</td>\n",
       "      <td>NaN</td>\n",
       "      <td>NaN</td>\n",
       "      <td>NaN</td>\n",
       "      <td>NaN</td>\n",
       "      <td>NaN</td>\n",
       "      <td>NaN</td>\n",
       "      <td>NaN</td>\n",
       "      <td>NaN</td>\n",
       "      <td>NaN</td>\n",
       "      <td>NaN</td>\n",
       "      <td>NaN</td>\n",
       "      <td>NaN</td>\n",
       "      <td>NaN</td>\n",
       "      <td>left_only</td>\n",
       "    </tr>\n",
       "    <tr>\n",
       "      <th>1</th>\n",
       "      <td>1</td>\n",
       "      <td>노동당</td>\n",
       "      <td>당대표자회_집행부</td>\n",
       "      <td>성원</td>\n",
       "      <td>NaN</td>\n",
       "      <td>NaN</td>\n",
       "      <td>NaN</td>\n",
       "      <td>NotOrg - 대표자회는 임시 회의, '임시 당대회'</td>\n",
       "      <td>NaN</td>\n",
       "      <td>NaN</td>\n",
       "      <td>Current</td>\n",
       "      <td>Current</td>\n",
       "      <td>Current</td>\n",
       "      <td>NaN</td>\n",
       "      <td>NaN</td>\n",
       "      <td>NaN</td>\n",
       "      <td>NaN</td>\n",
       "      <td>NaN</td>\n",
       "      <td>NaN</td>\n",
       "      <td>NaN</td>\n",
       "      <td>NaN</td>\n",
       "      <td>NaN</td>\n",
       "      <td>NaN</td>\n",
       "      <td>NaN</td>\n",
       "      <td>NaN</td>\n",
       "      <td>NaN</td>\n",
       "      <td>NaN</td>\n",
       "      <td>NaN</td>\n",
       "      <td>NaN</td>\n",
       "      <td>NaN</td>\n",
       "      <td>NaN</td>\n",
       "      <td>left_only</td>\n",
       "    </tr>\n",
       "    <tr>\n",
       "      <th>2</th>\n",
       "      <td>1</td>\n",
       "      <td>노동당</td>\n",
       "      <td>당중앙검사위원회</td>\n",
       "      <td>부위원장</td>\n",
       "      <td>1</td>\n",
       "      <td>NaN</td>\n",
       "      <td>2</td>\n",
       "      <td>NaN</td>\n",
       "      <td>NaN</td>\n",
       "      <td>NaN</td>\n",
       "      <td>Current</td>\n",
       "      <td>Current</td>\n",
       "      <td>Current</td>\n",
       "      <td>NaN</td>\n",
       "      <td>1</td>\n",
       "      <td>1.3.0.0.0</td>\n",
       "      <td>1.0</td>\n",
       "      <td>위원장</td>\n",
       "      <td>부위원장</td>\n",
       "      <td>위원</td>\n",
       "      <td>Current</td>\n",
       "      <td>Current</td>\n",
       "      <td>Current</td>\n",
       "      <td>NaN</td>\n",
       "      <td>1</td>\n",
       "      <td>3</td>\n",
       "      <td>0</td>\n",
       "      <td>0</td>\n",
       "      <td>NaN</td>\n",
       "      <td>NaN</td>\n",
       "      <td>0</td>\n",
       "      <td>both</td>\n",
       "    </tr>\n",
       "  </tbody>\n",
       "</table>\n",
       "</div>"
      ],
      "text/plain": [
       "  InsideGov PrimaryInstitution    OrgName Position IsElected OrgLevel  \\\n",
       "0         1                노동당  Uncertain      부부장       NaN      NaN   \n",
       "1         1                노동당  당대표자회_집행부       성원       NaN      NaN   \n",
       "2         1                노동당   당중앙검사위원회     부위원장         1      NaN   \n",
       "\n",
       "  PositionRank_manual                           Notes Change_OrgName  \\\n",
       "0                   ?                             NaN            NaN   \n",
       "1                 NaN  NotOrg - 대표자회는 임시 회의, '임시 당대회'            NaN   \n",
       "2                   2                             NaN            NaN   \n",
       "\n",
       "  Change_Position LinkToNext_PI LinkToNext_Org LinkToNext_Year  \\\n",
       "0             NaN       Current        Current         Current   \n",
       "1             NaN       Current        Current         Current   \n",
       "2             NaN       Current        Current         Current   \n",
       "\n",
       "   PositionRank_3P InsideGov_opr   PI_Index  OrgRank   P1    P2   P3  \\\n",
       "0              NaN           NaN        NaN      NaN  NaN   NaN  NaN   \n",
       "1              NaN           NaN        NaN      NaN  NaN   NaN  NaN   \n",
       "2              NaN             1  1.3.0.0.0      1.0  위원장  부위원장   위원   \n",
       "\n",
       "  LinkToNext_PI_opr LinkToNext_Org_opr LinkToNext_Year_opr Notes_opr L1_Index  \\\n",
       "0               NaN                NaN                 NaN       NaN      NaN   \n",
       "1               NaN                NaN                 NaN       NaN      NaN   \n",
       "2           Current            Current             Current       NaN        1   \n",
       "\n",
       "  L2_Index L3_Index L4_Index Change_OrgName_opr Alias_OrgName L5_Index  \\\n",
       "0      NaN      NaN      NaN                NaN           NaN      NaN   \n",
       "1      NaN      NaN      NaN                NaN           NaN      NaN   \n",
       "2        3        0        0                NaN           NaN        0   \n",
       "\n",
       "      _merge  \n",
       "0  left_only  \n",
       "1  left_only  \n",
       "2       both  "
      ]
     },
     "execution_count": 309,
     "metadata": {},
     "output_type": "execute_result"
    }
   ],
   "source": [
    "pr_party4.head(3)"
   ]
  },
  {
   "cell_type": "markdown",
   "id": "9b50b57e",
   "metadata": {},
   "source": [
    "### Case 1: LinkToNext_Year not current"
   ]
  },
  {
   "cell_type": "code",
   "execution_count": 310,
   "id": "4e5db323",
   "metadata": {},
   "outputs": [
    {
     "data": {
      "text/plain": [
       "(0, 32)"
      ]
     },
     "execution_count": 310,
     "metadata": {},
     "output_type": "execute_result"
    }
   ],
   "source": [
    "pr_party4[(pr_party4[\"LinkToNext_Year\"]!=\"Current\") & (pr_party4[\"_merge\"]==\"left_only\")].shape"
   ]
  },
  {
   "cell_type": "code",
   "execution_count": 311,
   "id": "18217017",
   "metadata": {},
   "outputs": [],
   "source": [
    "# ot[~(ot[\"LinkToNext_Year\"]==\"Current\") & (ot[\"PrimaryInstitution\"]==\"노동당\")].shape"
   ]
  },
  {
   "cell_type": "code",
   "execution_count": 312,
   "id": "27dbf512",
   "metadata": {},
   "outputs": [],
   "source": [
    "# pr_party4[(pr_party4[\"LinkToNext_Year\"]!=\"Current\") & (pr_party4[\"_merge\"]==\"left_only\")]"
   ]
  },
  {
   "cell_type": "markdown",
   "id": "436a2c28",
   "metadata": {},
   "source": [
    "### Case 2: Level 3 or deeper"
   ]
  },
  {
   "cell_type": "code",
   "execution_count": 313,
   "id": "2061521b",
   "metadata": {},
   "outputs": [
    {
     "data": {
      "text/plain": [
       "(3, 32)"
      ]
     },
     "execution_count": 313,
     "metadata": {},
     "output_type": "execute_result"
    }
   ],
   "source": [
    "pr_party4[pr_party4[\"_merge\"]==\"left_only\"].shape"
   ]
  },
  {
   "cell_type": "code",
   "execution_count": 314,
   "id": "6b528c7d",
   "metadata": {},
   "outputs": [
    {
     "data": {
      "text/html": [
       "<div>\n",
       "<style scoped>\n",
       "    .dataframe tbody tr th:only-of-type {\n",
       "        vertical-align: middle;\n",
       "    }\n",
       "\n",
       "    .dataframe tbody tr th {\n",
       "        vertical-align: top;\n",
       "    }\n",
       "\n",
       "    .dataframe thead th {\n",
       "        text-align: right;\n",
       "    }\n",
       "</style>\n",
       "<table border=\"1\" class=\"dataframe\">\n",
       "  <thead>\n",
       "    <tr style=\"text-align: right;\">\n",
       "      <th></th>\n",
       "      <th>OrgName</th>\n",
       "      <th>Position</th>\n",
       "      <th>Notes</th>\n",
       "      <th>Change_OrgName</th>\n",
       "      <th>_merge</th>\n",
       "    </tr>\n",
       "  </thead>\n",
       "  <tbody>\n",
       "    <tr>\n",
       "      <th>0</th>\n",
       "      <td>Uncertain</td>\n",
       "      <td>부부장</td>\n",
       "      <td>NaN</td>\n",
       "      <td>NaN</td>\n",
       "      <td>left_only</td>\n",
       "    </tr>\n",
       "    <tr>\n",
       "      <th>1</th>\n",
       "      <td>당대표자회_집행부</td>\n",
       "      <td>성원</td>\n",
       "      <td>NotOrg - 대표자회는 임시 회의, '임시 당대회'</td>\n",
       "      <td>NaN</td>\n",
       "      <td>left_only</td>\n",
       "    </tr>\n",
       "    <tr>\n",
       "      <th>257</th>\n",
       "      <td>문화예술부</td>\n",
       "      <td>과장</td>\n",
       "      <td>NaN</td>\n",
       "      <td>당중앙위원회_문화예술부</td>\n",
       "      <td>left_only</td>\n",
       "    </tr>\n",
       "  </tbody>\n",
       "</table>\n",
       "</div>"
      ],
      "text/plain": [
       "       OrgName Position                           Notes Change_OrgName  \\\n",
       "0    Uncertain      부부장                             NaN            NaN   \n",
       "1    당대표자회_집행부       성원  NotOrg - 대표자회는 임시 회의, '임시 당대회'            NaN   \n",
       "257      문화예술부       과장                             NaN   당중앙위원회_문화예술부   \n",
       "\n",
       "        _merge  \n",
       "0    left_only  \n",
       "1    left_only  \n",
       "257  left_only  "
      ]
     },
     "execution_count": 314,
     "metadata": {},
     "output_type": "execute_result"
    }
   ],
   "source": [
    "show_columns = [\"OrgName\",\"Position\",\"Notes\",\"Change_OrgName\",\"_merge\"]\n",
    "pr_party4.loc[pr_party4[\"_merge\"]==\"left_only\",show_columns]"
   ]
  },
  {
   "cell_type": "code",
   "execution_count": 315,
   "id": "84c738a4",
   "metadata": {},
   "outputs": [
    {
     "data": {
      "text/plain": [
       "Index(['InsideGov', 'PrimaryInstitution', 'OrgName', 'PI_Index', 'OrgRank',\n",
       "       'P1', 'P2', 'P3', 'LinkToNext_PI', 'LinkToNext_Org', 'LinkToNext_Year',\n",
       "       'Notes', 'L1_Index', 'L2_Index', 'L3_Index', 'L4_Index',\n",
       "       'Change_OrgName', 'Alias_OrgName', 'L5_Index'],\n",
       "      dtype='object')"
      ]
     },
     "execution_count": 315,
     "metadata": {},
     "output_type": "execute_result"
    }
   ],
   "source": [
    "# prep to add to opr\n",
    "opr.columns"
   ]
  },
  {
   "cell_type": "code",
   "execution_count": 316,
   "id": "ea73173a",
   "metadata": {},
   "outputs": [
    {
     "data": {
      "text/html": [
       "<div>\n",
       "<style scoped>\n",
       "    .dataframe tbody tr th:only-of-type {\n",
       "        vertical-align: middle;\n",
       "    }\n",
       "\n",
       "    .dataframe tbody tr th {\n",
       "        vertical-align: top;\n",
       "    }\n",
       "\n",
       "    .dataframe thead th {\n",
       "        text-align: right;\n",
       "    }\n",
       "</style>\n",
       "<table border=\"1\" class=\"dataframe\">\n",
       "  <thead>\n",
       "    <tr style=\"text-align: right;\">\n",
       "      <th></th>\n",
       "      <th>InsideGov</th>\n",
       "      <th>PrimaryInstitution</th>\n",
       "      <th>OrgName</th>\n",
       "      <th>PI_Index</th>\n",
       "      <th>OrgRank</th>\n",
       "      <th>P1</th>\n",
       "      <th>P2</th>\n",
       "      <th>P3</th>\n",
       "      <th>LinkToNext_PI</th>\n",
       "      <th>LinkToNext_Org</th>\n",
       "      <th>LinkToNext_Year</th>\n",
       "      <th>Notes</th>\n",
       "      <th>L1_Index</th>\n",
       "      <th>L2_Index</th>\n",
       "      <th>L3_Index</th>\n",
       "      <th>L4_Index</th>\n",
       "      <th>Change_OrgName</th>\n",
       "      <th>Alias_OrgName</th>\n",
       "      <th>L5_Index</th>\n",
       "    </tr>\n",
       "  </thead>\n",
       "  <tbody>\n",
       "    <tr>\n",
       "      <th>0</th>\n",
       "      <td>1</td>\n",
       "      <td>노동당</td>\n",
       "      <td>Uncertain</td>\n",
       "      <td>NaN</td>\n",
       "      <td>NaN</td>\n",
       "      <td>NaN</td>\n",
       "      <td>NaN</td>\n",
       "      <td>NaN</td>\n",
       "      <td>Current</td>\n",
       "      <td>Current</td>\n",
       "      <td>Current</td>\n",
       "      <td>NaN</td>\n",
       "      <td>NaN</td>\n",
       "      <td>NaN</td>\n",
       "      <td>NaN</td>\n",
       "      <td>NaN</td>\n",
       "      <td>NaN</td>\n",
       "      <td>NaN</td>\n",
       "      <td>NaN</td>\n",
       "    </tr>\n",
       "    <tr>\n",
       "      <th>1</th>\n",
       "      <td>1</td>\n",
       "      <td>노동당</td>\n",
       "      <td>당대표자회_집행부</td>\n",
       "      <td>NaN</td>\n",
       "      <td>NaN</td>\n",
       "      <td>NaN</td>\n",
       "      <td>NaN</td>\n",
       "      <td>NaN</td>\n",
       "      <td>Current</td>\n",
       "      <td>Current</td>\n",
       "      <td>Current</td>\n",
       "      <td>NotOrg - 대표자회는 임시 회의, '임시 당대회'</td>\n",
       "      <td>NaN</td>\n",
       "      <td>NaN</td>\n",
       "      <td>NaN</td>\n",
       "      <td>NaN</td>\n",
       "      <td>NaN</td>\n",
       "      <td>NaN</td>\n",
       "      <td>NaN</td>\n",
       "    </tr>\n",
       "  </tbody>\n",
       "</table>\n",
       "</div>"
      ],
      "text/plain": [
       "  InsideGov PrimaryInstitution    OrgName PI_Index  OrgRank   P1   P2   P3  \\\n",
       "0         1                노동당  Uncertain      NaN      NaN  NaN  NaN  NaN   \n",
       "1         1                노동당  당대표자회_집행부      NaN      NaN  NaN  NaN  NaN   \n",
       "\n",
       "  LinkToNext_PI LinkToNext_Org LinkToNext_Year  \\\n",
       "0       Current        Current         Current   \n",
       "1       Current        Current         Current   \n",
       "\n",
       "                            Notes L1_Index L2_Index L3_Index L4_Index  \\\n",
       "0                             NaN      NaN      NaN      NaN      NaN   \n",
       "1  NotOrg - 대표자회는 임시 회의, '임시 당대회'      NaN      NaN      NaN      NaN   \n",
       "\n",
       "  Change_OrgName Alias_OrgName L5_Index  \n",
       "0            NaN           NaN      NaN  \n",
       "1            NaN           NaN      NaN  "
      ]
     },
     "execution_count": 316,
     "metadata": {},
     "output_type": "execute_result"
    }
   ],
   "source": [
    "pr_party4[opr.columns].head(2)"
   ]
  },
  {
   "cell_type": "code",
   "execution_count": 317,
   "id": "e06ab983",
   "metadata": {},
   "outputs": [],
   "source": [
    "pr_party5 = pr_party4.loc[pr_party4[\"_merge\"]==\"left_only\",opr.columns]"
   ]
  },
  {
   "cell_type": "code",
   "execution_count": 318,
   "id": "579096cc",
   "metadata": {},
   "outputs": [
    {
     "data": {
      "text/plain": [
       "(3, 19)"
      ]
     },
     "execution_count": 318,
     "metadata": {},
     "output_type": "execute_result"
    }
   ],
   "source": [
    "pr_party5.shape"
   ]
  },
  {
   "cell_type": "code",
   "execution_count": 319,
   "id": "6fe5040d",
   "metadata": {},
   "outputs": [
    {
     "data": {
      "text/plain": [
       "(3, 19)"
      ]
     },
     "execution_count": 319,
     "metadata": {},
     "output_type": "execute_result"
    }
   ],
   "source": [
    "pr_party5.drop_duplicates(inplace=True)\n",
    "pr_party5.shape"
   ]
  },
  {
   "cell_type": "code",
   "execution_count": 320,
   "id": "4ff82fc0",
   "metadata": {},
   "outputs": [
    {
     "data": {
      "text/html": [
       "<div>\n",
       "<style scoped>\n",
       "    .dataframe tbody tr th:only-of-type {\n",
       "        vertical-align: middle;\n",
       "    }\n",
       "\n",
       "    .dataframe tbody tr th {\n",
       "        vertical-align: top;\n",
       "    }\n",
       "\n",
       "    .dataframe thead th {\n",
       "        text-align: right;\n",
       "    }\n",
       "</style>\n",
       "<table border=\"1\" class=\"dataframe\">\n",
       "  <thead>\n",
       "    <tr style=\"text-align: right;\">\n",
       "      <th></th>\n",
       "      <th>InsideGov</th>\n",
       "      <th>PrimaryInstitution</th>\n",
       "      <th>OrgName</th>\n",
       "      <th>PI_Index</th>\n",
       "      <th>OrgRank</th>\n",
       "      <th>P1</th>\n",
       "      <th>P2</th>\n",
       "      <th>P3</th>\n",
       "      <th>LinkToNext_PI</th>\n",
       "      <th>LinkToNext_Org</th>\n",
       "      <th>LinkToNext_Year</th>\n",
       "      <th>Notes</th>\n",
       "      <th>L1_Index</th>\n",
       "      <th>L2_Index</th>\n",
       "      <th>L3_Index</th>\n",
       "      <th>L4_Index</th>\n",
       "      <th>Change_OrgName</th>\n",
       "      <th>Alias_OrgName</th>\n",
       "      <th>L5_Index</th>\n",
       "    </tr>\n",
       "  </thead>\n",
       "  <tbody>\n",
       "    <tr>\n",
       "      <th>0</th>\n",
       "      <td>1</td>\n",
       "      <td>노동당</td>\n",
       "      <td>Uncertain</td>\n",
       "      <td>NaN</td>\n",
       "      <td>NaN</td>\n",
       "      <td>NaN</td>\n",
       "      <td>NaN</td>\n",
       "      <td>NaN</td>\n",
       "      <td>Current</td>\n",
       "      <td>Current</td>\n",
       "      <td>Current</td>\n",
       "      <td>NaN</td>\n",
       "      <td>NaN</td>\n",
       "      <td>NaN</td>\n",
       "      <td>NaN</td>\n",
       "      <td>NaN</td>\n",
       "      <td>NaN</td>\n",
       "      <td>NaN</td>\n",
       "      <td>NaN</td>\n",
       "    </tr>\n",
       "    <tr>\n",
       "      <th>1</th>\n",
       "      <td>1</td>\n",
       "      <td>노동당</td>\n",
       "      <td>당대표자회_집행부</td>\n",
       "      <td>NaN</td>\n",
       "      <td>NaN</td>\n",
       "      <td>NaN</td>\n",
       "      <td>NaN</td>\n",
       "      <td>NaN</td>\n",
       "      <td>Current</td>\n",
       "      <td>Current</td>\n",
       "      <td>Current</td>\n",
       "      <td>NotOrg - 대표자회는 임시 회의, '임시 당대회'</td>\n",
       "      <td>NaN</td>\n",
       "      <td>NaN</td>\n",
       "      <td>NaN</td>\n",
       "      <td>NaN</td>\n",
       "      <td>NaN</td>\n",
       "      <td>NaN</td>\n",
       "      <td>NaN</td>\n",
       "    </tr>\n",
       "    <tr>\n",
       "      <th>257</th>\n",
       "      <td>1</td>\n",
       "      <td>노동당</td>\n",
       "      <td>문화예술부</td>\n",
       "      <td>NaN</td>\n",
       "      <td>NaN</td>\n",
       "      <td>NaN</td>\n",
       "      <td>NaN</td>\n",
       "      <td>NaN</td>\n",
       "      <td>Current</td>\n",
       "      <td>Current</td>\n",
       "      <td>Current</td>\n",
       "      <td>NaN</td>\n",
       "      <td>NaN</td>\n",
       "      <td>NaN</td>\n",
       "      <td>NaN</td>\n",
       "      <td>NaN</td>\n",
       "      <td>당중앙위원회_문화예술부</td>\n",
       "      <td>NaN</td>\n",
       "      <td>NaN</td>\n",
       "    </tr>\n",
       "  </tbody>\n",
       "</table>\n",
       "</div>"
      ],
      "text/plain": [
       "    InsideGov PrimaryInstitution    OrgName PI_Index  OrgRank   P1   P2   P3  \\\n",
       "0           1                노동당  Uncertain      NaN      NaN  NaN  NaN  NaN   \n",
       "1           1                노동당  당대표자회_집행부      NaN      NaN  NaN  NaN  NaN   \n",
       "257         1                노동당      문화예술부      NaN      NaN  NaN  NaN  NaN   \n",
       "\n",
       "    LinkToNext_PI LinkToNext_Org LinkToNext_Year  \\\n",
       "0         Current        Current         Current   \n",
       "1         Current        Current         Current   \n",
       "257       Current        Current         Current   \n",
       "\n",
       "                              Notes L1_Index L2_Index L3_Index L4_Index  \\\n",
       "0                               NaN      NaN      NaN      NaN      NaN   \n",
       "1    NotOrg - 대표자회는 임시 회의, '임시 당대회'      NaN      NaN      NaN      NaN   \n",
       "257                             NaN      NaN      NaN      NaN      NaN   \n",
       "\n",
       "    Change_OrgName Alias_OrgName L5_Index  \n",
       "0              NaN           NaN      NaN  \n",
       "1              NaN           NaN      NaN  \n",
       "257   당중앙위원회_문화예술부           NaN      NaN  "
      ]
     },
     "execution_count": 320,
     "metadata": {},
     "output_type": "execute_result"
    }
   ],
   "source": [
    "pr_party5"
   ]
  },
  {
   "cell_type": "code",
   "execution_count": 256,
   "id": "5985cdc8",
   "metadata": {},
   "outputs": [],
   "source": [
    "# export pr_party5\n",
    "\n",
    "# fileout_pr_party5 = \"pr_party5_use and delete.xlsx\"\n",
    "# pr_party5.to_excel(path_cleaning + subpath_2_7 + fileout_pr_party5,index=False)"
   ]
  },
  {
   "cell_type": "code",
   "execution_count": null,
   "id": "52490317",
   "metadata": {},
   "outputs": [],
   "source": []
  },
  {
   "cell_type": "markdown",
   "id": "8ac5cf80",
   "metadata": {},
   "source": [
    "# 2. orgtree_position_rank: update 노동당 Position & PositionRank"
   ]
  },
  {
   "cell_type": "code",
   "execution_count": null,
   "id": "e2988093",
   "metadata": {},
   "outputs": [],
   "source": [
    "# once aligned, copy pr_party2 hand-coded PositionRank into opr"
   ]
  },
  {
   "cell_type": "code",
   "execution_count": null,
   "id": "eee6d08d",
   "metadata": {},
   "outputs": [],
   "source": []
  }
 ],
 "metadata": {
  "kernelspec": {
   "display_name": "Python 3 (ipykernel)",
   "language": "python",
   "name": "python3"
  },
  "language_info": {
   "codemirror_mode": {
    "name": "ipython",
    "version": 3
   },
   "file_extension": ".py",
   "mimetype": "text/x-python",
   "name": "python",
   "nbconvert_exporter": "python",
   "pygments_lexer": "ipython3",
   "version": "3.11.0"
  }
 },
 "nbformat": 4,
 "nbformat_minor": 5
}
