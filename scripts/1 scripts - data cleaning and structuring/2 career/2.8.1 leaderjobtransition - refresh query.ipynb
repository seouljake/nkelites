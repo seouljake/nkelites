{
 "cells": [
  {
   "cell_type": "code",
   "execution_count": 1,
   "id": "74698cf3",
   "metadata": {},
   "outputs": [],
   "source": [
    "import pandas as pd\n",
    "import numpy as np\n",
    "from datetime import date"
   ]
  },
  {
   "cell_type": "markdown",
   "id": "aaf25c71",
   "metadata": {},
   "source": [
    "# combined data - 2 tables"
   ]
  },
  {
   "cell_type": "code",
   "execution_count": 2,
   "id": "f2c9c339",
   "metadata": {},
   "outputs": [],
   "source": [
    "path_tables = \"C:/Users/seoul/Dropbox/00 technical/github/nkelites/data/combined data/combined data - 2 tables/\""
   ]
  },
  {
   "cell_type": "code",
   "execution_count": 3,
   "id": "b7d9b165",
   "metadata": {},
   "outputs": [
    {
     "data": {
      "text/plain": [
       "(9001, 12)"
      ]
     },
     "execution_count": 3,
     "metadata": {},
     "output_type": "execute_result"
    }
   ],
   "source": [
    "filename_careers = \"careers.xlsx\"\n",
    "careers = pd.read_excel(path_tables + filename_careers,dtype=\"str\")\n",
    "careers.shape"
   ]
  },
  {
   "cell_type": "code",
   "execution_count": 4,
   "id": "c8b6d411",
   "metadata": {},
   "outputs": [
    {
     "data": {
      "text/plain": [
       "(1711, 9)"
      ]
     },
     "execution_count": 4,
     "metadata": {},
     "output_type": "execute_result"
    }
   ],
   "source": [
    "filename_orgtree = \"orgtree.xlsx\"\n",
    "ot = pd.read_excel(path_tables + filename_orgtree,dtype=\"str\")\n",
    "ot.shape"
   ]
  },
  {
   "cell_type": "code",
   "execution_count": 5,
   "id": "1c1ab934",
   "metadata": {},
   "outputs": [
    {
     "data": {
      "text/plain": [
       "(12617, 3)"
      ]
     },
     "execution_count": 5,
     "metadata": {},
     "output_type": "execute_result"
    }
   ],
   "source": [
    "filename_leadercareerlink = \"leadercareerlink.xlsx\"\n",
    "lclink = pd.read_excel(path_tables + filename_leadercareerlink,dtype=\"str\")\n",
    "lclink.shape"
   ]
  },
  {
   "cell_type": "code",
   "execution_count": 6,
   "id": "f86d0874",
   "metadata": {},
   "outputs": [],
   "source": [
    "# filename_leaderjoblink = \"leaderjoblink.xlsx\""
   ]
  },
  {
   "cell_type": "code",
   "execution_count": 7,
   "id": "09c3c30a",
   "metadata": {},
   "outputs": [],
   "source": [
    "# filename_joborglink = \"joborglink.xlsx\""
   ]
  },
  {
   "cell_type": "markdown",
   "id": "52841326",
   "metadata": {},
   "source": [
    "# combined data - 3 queries"
   ]
  },
  {
   "cell_type": "code",
   "execution_count": 8,
   "id": "df5b44ce",
   "metadata": {},
   "outputs": [],
   "source": [
    "path_queries = \"C:/Users/seoul/Dropbox/00 technical/github/nkelites/data/combined data/combined data - 3 queries/\""
   ]
  },
  {
   "cell_type": "code",
   "execution_count": 9,
   "id": "4fa255b3",
   "metadata": {},
   "outputs": [],
   "source": [
    "filename_leaderjobtransition = \"leaderjobtransition.xlsx\"\n",
    "# ljt = pd.read_excel(path_queries + filename_leaderjobtransition,dtype=\"str\")"
   ]
  },
  {
   "cell_type": "code",
   "execution_count": 10,
   "id": "75aa1647",
   "metadata": {},
   "outputs": [
    {
     "name": "stdout",
     "output_type": "stream",
     "text": [
      "2023-07-09\n"
     ]
    }
   ],
   "source": [
    "today = date.today()\n",
    "print(today)"
   ]
  },
  {
   "cell_type": "markdown",
   "id": "7d59db9d",
   "metadata": {},
   "source": [
    "# functions"
   ]
  },
  {
   "cell_type": "code",
   "execution_count": 17,
   "id": "ba5de424",
   "metadata": {},
   "outputs": [],
   "source": [
    "def merge_results(m):\n",
    "    \n",
    "    print(\"\\nMerge Results...\")\n",
    "    print(\"\")\n",
    "    print(\"\\tshape     :\",m.shape)\n",
    "    print(\"\\tleft_only :\",m[m[\"_merge\"]==\"left_only\"].shape)\n",
    "    print(\"\\tboth      :\",m[m[\"_merge\"]==\"both\"].shape)\n",
    "    print(\"\\tright_only:\",m[m[\"_merge\"]==\"right_only\"].shape)"
   ]
  },
  {
   "cell_type": "code",
   "execution_count": null,
   "id": "cc83808a",
   "metadata": {},
   "outputs": [],
   "source": []
  },
  {
   "cell_type": "markdown",
   "id": "f379b6af",
   "metadata": {},
   "source": [
    "# 1. deprecate old version"
   ]
  },
  {
   "cell_type": "code",
   "execution_count": 11,
   "id": "127a70cd",
   "metadata": {},
   "outputs": [
    {
     "data": {
      "text/plain": [
       "'leaderjobtransition'"
      ]
     },
     "execution_count": 11,
     "metadata": {},
     "output_type": "execute_result"
    }
   ],
   "source": [
    "table_name = \"leaderjobtransition\"\n",
    "table_name"
   ]
  },
  {
   "cell_type": "code",
   "execution_count": 12,
   "id": "f1cf5c8f",
   "metadata": {},
   "outputs": [
    {
     "data": {
      "text/plain": [
       "'leaderjobtransition.xlsx'"
      ]
     },
     "execution_count": 12,
     "metadata": {},
     "output_type": "execute_result"
    }
   ],
   "source": [
    "filename_leaderjobtransition"
   ]
  },
  {
   "cell_type": "code",
   "execution_count": 13,
   "id": "70a57496",
   "metadata": {},
   "outputs": [
    {
     "data": {
      "text/plain": [
       "'leaderjobtransition_deprecated_2023-07-09.xlsx'"
      ]
     },
     "execution_count": 13,
     "metadata": {},
     "output_type": "execute_result"
    }
   ],
   "source": [
    "filename_deprecated = table_name + \"_deprecated_\"+str(today)+\".xlsx\"\n",
    "filename_deprecated"
   ]
  },
  {
   "cell_type": "code",
   "execution_count": 14,
   "id": "b8b178af",
   "metadata": {},
   "outputs": [],
   "source": [
    "# deprecate old query\n",
    "# oldtable = pd.read_excel(path_queries + filename_careers,dtype=\"str\")\n",
    "# oldtable.to_excel(path_queries + filename_deprecated,index=False)"
   ]
  },
  {
   "cell_type": "markdown",
   "id": "45de6b4f",
   "metadata": {},
   "source": [
    "# 2. refresh query using current tables"
   ]
  },
  {
   "cell_type": "code",
   "execution_count": 15,
   "id": "4bf6954d",
   "metadata": {},
   "outputs": [
    {
     "data": {
      "text/html": [
       "<div>\n",
       "<style scoped>\n",
       "    .dataframe tbody tr th:only-of-type {\n",
       "        vertical-align: middle;\n",
       "    }\n",
       "\n",
       "    .dataframe tbody tr th {\n",
       "        vertical-align: top;\n",
       "    }\n",
       "\n",
       "    .dataframe thead th {\n",
       "        text-align: right;\n",
       "    }\n",
       "</style>\n",
       "<table border=\"1\" class=\"dataframe\">\n",
       "  <thead>\n",
       "    <tr style=\"text-align: right;\">\n",
       "      <th></th>\n",
       "      <th>LeaderID</th>\n",
       "      <th>CareerString</th>\n",
       "      <th>CareerDateString_2022</th>\n",
       "    </tr>\n",
       "  </thead>\n",
       "  <tbody>\n",
       "    <tr>\n",
       "      <th>0</th>\n",
       "      <td>리선권</td>\n",
       "      <td>개성공단 남북공동위원회 통행통신통관 분과위원회</td>\n",
       "      <td>2013.09 ~ 2014.01</td>\n",
       "    </tr>\n",
       "    <tr>\n",
       "      <th>1</th>\n",
       "      <td>조경철</td>\n",
       "      <td>故 김정일 국가장의위원회 위원</td>\n",
       "      <td>2011.12</td>\n",
       "    </tr>\n",
       "  </tbody>\n",
       "</table>\n",
       "</div>"
      ],
      "text/plain": [
       "  LeaderID                CareerString CareerDateString_2022\n",
       "0      리선권   개성공단 남북공동위원회 통행통신통관 분과위원회     2013.09 ~ 2014.01\n",
       "1      조경철            故 김정일 국가장의위원회 위원               2011.12"
      ]
     },
     "execution_count": 15,
     "metadata": {},
     "output_type": "execute_result"
    }
   ],
   "source": [
    "lclink.head(2)"
   ]
  },
  {
   "cell_type": "code",
   "execution_count": 22,
   "id": "a1883f46",
   "metadata": {},
   "outputs": [],
   "source": [
    "# get jobs from careers\n",
    "jobs = careers[careers[\"IsJob\"]==\"True\"]"
   ]
  },
  {
   "cell_type": "code",
   "execution_count": 29,
   "id": "92c9d2ab",
   "metadata": {},
   "outputs": [
    {
     "data": {
      "text/plain": [
       "(13607, 14)"
      ]
     },
     "execution_count": 29,
     "metadata": {},
     "output_type": "execute_result"
    }
   ],
   "source": [
    "# leader-job query - left join - includes IsJob True & False\n",
    "key_columns = [\"CareerString\",\"CareerDateString_2022\"]\n",
    "lc = lclink.merge(jobs,on=key_columns,how=\"left\",indicator=True)\n",
    "lc.shape"
   ]
  },
  {
   "cell_type": "code",
   "execution_count": 30,
   "id": "8971dd22",
   "metadata": {},
   "outputs": [
    {
     "name": "stdout",
     "output_type": "stream",
     "text": [
      "\n",
      "Merge Results...\n",
      "\n",
      "\tshape     : (13607, 14)\n",
      "\tleft_only : (4237, 14)\n",
      "\tboth      : (9370, 14)\n",
      "\tright_only: (0, 14)\n"
     ]
    }
   ],
   "source": [
    "merge_results(lc)"
   ]
  },
  {
   "cell_type": "code",
   "execution_count": 32,
   "id": "99f92bba",
   "metadata": {},
   "outputs": [
    {
     "data": {
      "text/html": [
       "<div>\n",
       "<style scoped>\n",
       "    .dataframe tbody tr th:only-of-type {\n",
       "        vertical-align: middle;\n",
       "    }\n",
       "\n",
       "    .dataframe tbody tr th {\n",
       "        vertical-align: top;\n",
       "    }\n",
       "\n",
       "    .dataframe thead th {\n",
       "        text-align: right;\n",
       "    }\n",
       "</style>\n",
       "<table border=\"1\" class=\"dataframe\">\n",
       "  <thead>\n",
       "    <tr style=\"text-align: right;\">\n",
       "      <th></th>\n",
       "      <th>LeaderID</th>\n",
       "      <th>CareerString</th>\n",
       "      <th>CareerDateString_2022</th>\n",
       "      <th>IsJob</th>\n",
       "      <th>MultipleSubstrings</th>\n",
       "      <th>CareerStartYear</th>\n",
       "      <th>CareerStartMonth</th>\n",
       "      <th>CareerSubstring</th>\n",
       "      <th>OrgString</th>\n",
       "      <th>PrimaryInstitution</th>\n",
       "      <th>OrgName</th>\n",
       "      <th>Position</th>\n",
       "      <th>Notes</th>\n",
       "      <th>_merge</th>\n",
       "    </tr>\n",
       "  </thead>\n",
       "  <tbody>\n",
       "  </tbody>\n",
       "</table>\n",
       "</div>"
      ],
      "text/plain": [
       "Empty DataFrame\n",
       "Columns: [LeaderID, CareerString, CareerDateString_2022, IsJob, MultipleSubstrings, CareerStartYear, CareerStartMonth, CareerSubstring, OrgString, PrimaryInstitution, OrgName, Position, Notes, _merge]\n",
       "Index: []"
      ]
     },
     "execution_count": 32,
     "metadata": {},
     "output_type": "execute_result"
    }
   ],
   "source": [
    "# no \"left-only\" cases when IsJob=True\n",
    "lc[(lc[\"IsJob\"]==\"True\") & (lc[\"_merge\"]==\"left_only\")]"
   ]
  },
  {
   "cell_type": "code",
   "execution_count": 40,
   "id": "bf2667ee",
   "metadata": {},
   "outputs": [
    {
     "data": {
      "text/plain": [
       "(9370, 13)"
      ]
     },
     "execution_count": 40,
     "metadata": {},
     "output_type": "execute_result"
    }
   ],
   "source": [
    "# leader-job query - inner join - only includes IsJob = True\n",
    "key_columns = [\"CareerString\",\"CareerDateString_2022\"]\n",
    "lc = lclink.merge(jobs,on=key_columns,how=\"inner\",indicator=False)\n",
    "lc = lc.sort_values(\"LeaderID\",ignore_index=True)\n",
    "lc.shape"
   ]
  },
  {
   "cell_type": "code",
   "execution_count": 41,
   "id": "76a27621",
   "metadata": {},
   "outputs": [
    {
     "data": {
      "text/html": [
       "<div>\n",
       "<style scoped>\n",
       "    .dataframe tbody tr th:only-of-type {\n",
       "        vertical-align: middle;\n",
       "    }\n",
       "\n",
       "    .dataframe tbody tr th {\n",
       "        vertical-align: top;\n",
       "    }\n",
       "\n",
       "    .dataframe thead th {\n",
       "        text-align: right;\n",
       "    }\n",
       "</style>\n",
       "<table border=\"1\" class=\"dataframe\">\n",
       "  <thead>\n",
       "    <tr style=\"text-align: right;\">\n",
       "      <th></th>\n",
       "      <th>LeaderID</th>\n",
       "      <th>CareerString</th>\n",
       "      <th>CareerDateString_2022</th>\n",
       "      <th>IsJob</th>\n",
       "      <th>MultipleSubstrings</th>\n",
       "      <th>CareerStartYear</th>\n",
       "      <th>CareerStartMonth</th>\n",
       "      <th>CareerSubstring</th>\n",
       "      <th>OrgString</th>\n",
       "      <th>PrimaryInstitution</th>\n",
       "      <th>OrgName</th>\n",
       "      <th>Position</th>\n",
       "      <th>Notes</th>\n",
       "    </tr>\n",
       "  </thead>\n",
       "  <tbody>\n",
       "    <tr>\n",
       "      <th>0</th>\n",
       "      <td>강관주</td>\n",
       "      <td>조선노동당 대외연락부(구 사회문화부) 부장</td>\n",
       "      <td>1997.02</td>\n",
       "      <td>True</td>\n",
       "      <td>1</td>\n",
       "      <td>1997</td>\n",
       "      <td>2</td>\n",
       "      <td>NaN</td>\n",
       "      <td>조선노동당 대외연락부</td>\n",
       "      <td>노동당</td>\n",
       "      <td>당중앙위원회_대외연락부</td>\n",
       "      <td>부장</td>\n",
       "      <td>NaN</td>\n",
       "    </tr>\n",
       "    <tr>\n",
       "      <th>1</th>\n",
       "      <td>강관주</td>\n",
       "      <td>조선노동당 조직지도부 부부장</td>\n",
       "      <td>1986</td>\n",
       "      <td>True</td>\n",
       "      <td>1</td>\n",
       "      <td>1986</td>\n",
       "      <td>NaN</td>\n",
       "      <td>NaN</td>\n",
       "      <td>조선노동당 조직지도부</td>\n",
       "      <td>노동당</td>\n",
       "      <td>당중앙위원회_조직지도부</td>\n",
       "      <td>부부장</td>\n",
       "      <td>NaN</td>\n",
       "    </tr>\n",
       "    <tr>\n",
       "      <th>2</th>\n",
       "      <td>강관주</td>\n",
       "      <td>2010. 9 당 중앙위 후보위원</td>\n",
       "      <td>NaN</td>\n",
       "      <td>True</td>\n",
       "      <td>1</td>\n",
       "      <td>2010</td>\n",
       "      <td>9</td>\n",
       "      <td>NaN</td>\n",
       "      <td>노동당 중앙위원회</td>\n",
       "      <td>노동당</td>\n",
       "      <td>당중앙위원회</td>\n",
       "      <td>후보위원</td>\n",
       "      <td>NaN</td>\n",
       "    </tr>\n",
       "    <tr>\n",
       "      <th>3</th>\n",
       "      <td>강관주</td>\n",
       "      <td>조선노동당 중앙위원회 위원</td>\n",
       "      <td>1988.03</td>\n",
       "      <td>True</td>\n",
       "      <td>1</td>\n",
       "      <td>1988</td>\n",
       "      <td>3</td>\n",
       "      <td>NaN</td>\n",
       "      <td>조선노동당 중앙위원회</td>\n",
       "      <td>노동당</td>\n",
       "      <td>당중앙위원회</td>\n",
       "      <td>위원</td>\n",
       "      <td>NaN</td>\n",
       "    </tr>\n",
       "    <tr>\n",
       "      <th>4</th>\n",
       "      <td>강관주</td>\n",
       "      <td>1990. 8 조국평화통일위원회 부위원장</td>\n",
       "      <td>NaN</td>\n",
       "      <td>True</td>\n",
       "      <td>1</td>\n",
       "      <td>1990</td>\n",
       "      <td>8</td>\n",
       "      <td>NaN</td>\n",
       "      <td>조국평화통일위원회</td>\n",
       "      <td>내각</td>\n",
       "      <td>조국평화통일위원회</td>\n",
       "      <td>부위원장</td>\n",
       "      <td>NaN</td>\n",
       "    </tr>\n",
       "    <tr>\n",
       "      <th>5</th>\n",
       "      <td>강관주</td>\n",
       "      <td>1961. 체육과학연구소 연구원</td>\n",
       "      <td>NaN</td>\n",
       "      <td>True</td>\n",
       "      <td>1</td>\n",
       "      <td>1961</td>\n",
       "      <td>NaN</td>\n",
       "      <td>NaN</td>\n",
       "      <td>체육과학연구소</td>\n",
       "      <td>체육연구원</td>\n",
       "      <td>체육과학연구소</td>\n",
       "      <td>연구원</td>\n",
       "      <td>NaN</td>\n",
       "    </tr>\n",
       "    <tr>\n",
       "      <th>6</th>\n",
       "      <td>강관주</td>\n",
       "      <td>조선노동당 중앙위원회 후보위원</td>\n",
       "      <td>2010.09</td>\n",
       "      <td>True</td>\n",
       "      <td>1</td>\n",
       "      <td>2010</td>\n",
       "      <td>9</td>\n",
       "      <td>NaN</td>\n",
       "      <td>조선노동당 중앙위원회</td>\n",
       "      <td>노동당</td>\n",
       "      <td>당중앙위원회</td>\n",
       "      <td>후보위원</td>\n",
       "      <td>NaN</td>\n",
       "    </tr>\n",
       "    <tr>\n",
       "      <th>7</th>\n",
       "      <td>강관주</td>\n",
       "      <td>조선노동당 통일전선부 부장</td>\n",
       "      <td>1993.01</td>\n",
       "      <td>True</td>\n",
       "      <td>1</td>\n",
       "      <td>1993</td>\n",
       "      <td>1</td>\n",
       "      <td>NaN</td>\n",
       "      <td>조선노동당 통일전선부</td>\n",
       "      <td>노동당</td>\n",
       "      <td>당중앙위원회_통일전선부</td>\n",
       "      <td>부장</td>\n",
       "      <td>NaN</td>\n",
       "    </tr>\n",
       "    <tr>\n",
       "      <th>8</th>\n",
       "      <td>강관주</td>\n",
       "      <td>조선노동당 통일전선부 제1부부장</td>\n",
       "      <td>1989.03</td>\n",
       "      <td>True</td>\n",
       "      <td>1</td>\n",
       "      <td>1989</td>\n",
       "      <td>3</td>\n",
       "      <td>NaN</td>\n",
       "      <td>조선노동당 통일전선부 제1부</td>\n",
       "      <td>노동당</td>\n",
       "      <td>당중앙위원회_통일전선부</td>\n",
       "      <td>부장</td>\n",
       "      <td>NaN</td>\n",
       "    </tr>\n",
       "    <tr>\n",
       "      <th>9</th>\n",
       "      <td>강관주</td>\n",
       "      <td>조선노동당 통일전선부 조선인총연합회 담당 부부장</td>\n",
       "      <td>1988</td>\n",
       "      <td>True</td>\n",
       "      <td>1</td>\n",
       "      <td>1988</td>\n",
       "      <td>NaN</td>\n",
       "      <td>NaN</td>\n",
       "      <td>조선노동당 통일전선부</td>\n",
       "      <td>노동당</td>\n",
       "      <td>당중앙위원회_통일전선부</td>\n",
       "      <td>부부장</td>\n",
       "      <td>NaN</td>\n",
       "    </tr>\n",
       "  </tbody>\n",
       "</table>\n",
       "</div>"
      ],
      "text/plain": [
       "  LeaderID                CareerString CareerDateString_2022 IsJob  \\\n",
       "0      강관주     조선노동당 대외연락부(구 사회문화부) 부장               1997.02  True   \n",
       "1      강관주             조선노동당 조직지도부 부부장                  1986  True   \n",
       "2      강관주          2010. 9 당 중앙위 후보위원                   NaN  True   \n",
       "3      강관주              조선노동당 중앙위원회 위원               1988.03  True   \n",
       "4      강관주      1990. 8 조국평화통일위원회 부위원장                   NaN  True   \n",
       "5      강관주           1961. 체육과학연구소 연구원                   NaN  True   \n",
       "6      강관주            조선노동당 중앙위원회 후보위원               2010.09  True   \n",
       "7      강관주              조선노동당 통일전선부 부장               1993.01  True   \n",
       "8      강관주           조선노동당 통일전선부 제1부부장               1989.03  True   \n",
       "9      강관주  조선노동당 통일전선부 조선인총연합회 담당 부부장                  1988  True   \n",
       "\n",
       "  MultipleSubstrings CareerStartYear CareerStartMonth CareerSubstring  \\\n",
       "0                  1            1997                2             NaN   \n",
       "1                  1            1986              NaN             NaN   \n",
       "2                  1            2010                9             NaN   \n",
       "3                  1            1988                3             NaN   \n",
       "4                  1            1990                8             NaN   \n",
       "5                  1            1961              NaN             NaN   \n",
       "6                  1            2010                9             NaN   \n",
       "7                  1            1993                1             NaN   \n",
       "8                  1            1989                3             NaN   \n",
       "9                  1            1988              NaN             NaN   \n",
       "\n",
       "         OrgString PrimaryInstitution       OrgName Position Notes  \n",
       "0      조선노동당 대외연락부                노동당  당중앙위원회_대외연락부       부장   NaN  \n",
       "1      조선노동당 조직지도부                노동당  당중앙위원회_조직지도부      부부장   NaN  \n",
       "2        노동당 중앙위원회                노동당        당중앙위원회     후보위원   NaN  \n",
       "3      조선노동당 중앙위원회                노동당        당중앙위원회       위원   NaN  \n",
       "4        조국평화통일위원회                 내각     조국평화통일위원회     부위원장   NaN  \n",
       "5          체육과학연구소              체육연구원       체육과학연구소      연구원   NaN  \n",
       "6      조선노동당 중앙위원회                노동당        당중앙위원회     후보위원   NaN  \n",
       "7      조선노동당 통일전선부                노동당  당중앙위원회_통일전선부       부장   NaN  \n",
       "8  조선노동당 통일전선부 제1부                노동당  당중앙위원회_통일전선부       부장   NaN  \n",
       "9      조선노동당 통일전선부                노동당  당중앙위원회_통일전선부      부부장   NaN  "
      ]
     },
     "execution_count": 41,
     "metadata": {},
     "output_type": "execute_result"
    }
   ],
   "source": [
    "lc.head(10)"
   ]
  },
  {
   "cell_type": "code",
   "execution_count": 71,
   "id": "9143292e",
   "metadata": {},
   "outputs": [
    {
     "data": {
      "text/plain": [
       "(22, 13)"
      ]
     },
     "execution_count": 71,
     "metadata": {},
     "output_type": "execute_result"
    }
   ],
   "source": [
    "t = lc[(lc[\"LeaderID\"]==\"강관주\") & (lc[\"CareerStartYear\"].notna())]\n",
    "t = t.sort_values([\"CareerStartYear\",\"CareerStartMonth\"])\n",
    "t = t.drop_duplicates([\"CareerStartYear\",\"PrimaryInstitution\",\"OrgName\"],keep=\"first\")\n",
    "t.shape"
   ]
  },
  {
   "cell_type": "code",
   "execution_count": 106,
   "id": "6f204efd",
   "metadata": {},
   "outputs": [],
   "source": [
    "# instantiate CareerStartDate\n",
    "t[\"CareerStartDate\"]=np.nan\n",
    "t.loc[t[\"CareerStartMonth\"].isna(),\"CareerStartDate\"] = t[t[\"CareerStartMonth\"].isna()].apply(lambda x: x[\"CareerStartYear\"] + \"00\",axis=1)\n",
    "t.loc[(t[\"CareerStartMonth\"].notna()) & (t.apply(lambda x: len(str(x[\"CareerStartMonth\"])),axis=1)==2),\"CareerStartDate\"] = t[(t[\"CareerStartMonth\"].notna()) & (t.apply(lambda x: len(str(x[\"CareerStartMonth\"])),axis=1)==2)].apply(lambda x: x[\"CareerStartYear\"] + x[\"CareerStartMonth\"],axis=1)\n",
    "t.loc[(t[\"CareerStartMonth\"].notna()) & (t.apply(lambda x: len(str(x[\"CareerStartMonth\"])),axis=1)==1),\"CareerStartDate\"] = t[(t[\"CareerStartMonth\"].notna()) & (t.apply(lambda x: len(str(x[\"CareerStartMonth\"])),axis=1)==1)].apply(lambda x: x[\"CareerStartYear\"] + \"0\" + x[\"CareerStartMonth\"],axis=1)"
   ]
  },
  {
   "cell_type": "code",
   "execution_count": null,
   "id": "3b6efbc1",
   "metadata": {},
   "outputs": [],
   "source": []
  },
  {
   "cell_type": "code",
   "execution_count": null,
   "id": "4a3ff3ae",
   "metadata": {},
   "outputs": [],
   "source": []
  },
  {
   "cell_type": "code",
   "execution_count": null,
   "id": "313e4e17",
   "metadata": {},
   "outputs": [],
   "source": []
  },
  {
   "cell_type": "markdown",
   "id": "29d3f7ab",
   "metadata": {},
   "source": [
    "# 3. export new query"
   ]
  },
  {
   "cell_type": "code",
   "execution_count": 55,
   "id": "2a11f5e1",
   "metadata": {},
   "outputs": [],
   "source": [
    "# refresh leaderjobtransition with new data\n",
    "ljt_new.to_excel(path_tables + filename_careers,index=False)"
   ]
  },
  {
   "cell_type": "code",
   "execution_count": null,
   "id": "adaecdd4",
   "metadata": {},
   "outputs": [],
   "source": []
  }
 ],
 "metadata": {
  "kernelspec": {
   "display_name": "Python 3 (ipykernel)",
   "language": "python",
   "name": "python3"
  },
  "language_info": {
   "codemirror_mode": {
    "name": "ipython",
    "version": 3
   },
   "file_extension": ".py",
   "mimetype": "text/x-python",
   "name": "python",
   "nbconvert_exporter": "python",
   "pygments_lexer": "ipython3",
   "version": "3.11.0"
  }
 },
 "nbformat": 4,
 "nbformat_minor": 5
}
