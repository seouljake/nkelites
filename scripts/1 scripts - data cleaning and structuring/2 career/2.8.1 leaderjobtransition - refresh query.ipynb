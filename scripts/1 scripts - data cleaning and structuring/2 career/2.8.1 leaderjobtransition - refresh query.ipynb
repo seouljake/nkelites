{
 "cells": [
  {
   "cell_type": "code",
   "execution_count": 1,
   "id": "74698cf3",
   "metadata": {},
   "outputs": [],
   "source": [
    "import pandas as pd\n",
    "import numpy as np\n",
    "from datetime import date"
   ]
  },
  {
   "cell_type": "markdown",
   "id": "aaf25c71",
   "metadata": {},
   "source": [
    "# combined data - 2 tables"
   ]
  },
  {
   "cell_type": "code",
   "execution_count": 2,
   "id": "f2c9c339",
   "metadata": {},
   "outputs": [],
   "source": [
    "path_tables = \"C:/Users/seoul/Dropbox/00 technical/github/nkelites/data/combined data/combined data - 2 tables/\""
   ]
  },
  {
   "cell_type": "code",
   "execution_count": 21,
   "id": "b7d9b165",
   "metadata": {},
   "outputs": [
    {
     "data": {
      "text/plain": [
       "(9001, 12)"
      ]
     },
     "execution_count": 21,
     "metadata": {},
     "output_type": "execute_result"
    }
   ],
   "source": [
    "filename_careers = \"careers.xlsx\"\n",
    "careers = pd.read_excel(path_tables + filename_careers,dtype=\"str\")\n",
    "careers.shape"
   ]
  },
  {
   "cell_type": "code",
   "execution_count": 22,
   "id": "c8b6d411",
   "metadata": {},
   "outputs": [
    {
     "data": {
      "text/plain": [
       "(1711, 9)"
      ]
     },
     "execution_count": 22,
     "metadata": {},
     "output_type": "execute_result"
    }
   ],
   "source": [
    "filename_orgtree = \"orgtree.xlsx\"\n",
    "ot = pd.read_excel(path_tables + filename_orgtree,dtype=\"str\")\n",
    "ot.shape"
   ]
  },
  {
   "cell_type": "code",
   "execution_count": 23,
   "id": "1c1ab934",
   "metadata": {},
   "outputs": [
    {
     "data": {
      "text/plain": [
       "(12617, 3)"
      ]
     },
     "execution_count": 23,
     "metadata": {},
     "output_type": "execute_result"
    }
   ],
   "source": [
    "filename_leadercareerlink = \"leadercareerlink.xlsx\"\n",
    "lclink = pd.read_excel(path_tables + filename_leadercareerlink,dtype=\"str\")\n",
    "lclink.shape"
   ]
  },
  {
   "cell_type": "code",
   "execution_count": 6,
   "id": "f86d0874",
   "metadata": {},
   "outputs": [],
   "source": [
    "# filename_leaderjoblink = \"leaderjoblink.xlsx\""
   ]
  },
  {
   "cell_type": "code",
   "execution_count": 7,
   "id": "09c3c30a",
   "metadata": {},
   "outputs": [],
   "source": [
    "# filename_joborglink = \"joborglink.xlsx\""
   ]
  },
  {
   "cell_type": "markdown",
   "id": "52841326",
   "metadata": {},
   "source": [
    "# combined data - 3 queries"
   ]
  },
  {
   "cell_type": "code",
   "execution_count": 24,
   "id": "df5b44ce",
   "metadata": {},
   "outputs": [],
   "source": [
    "path_queries = \"C:/Users/seoul/Dropbox/00 technical/github/nkelites/data/combined data/combined data - 3 queries/\""
   ]
  },
  {
   "cell_type": "code",
   "execution_count": 25,
   "id": "4fa255b3",
   "metadata": {},
   "outputs": [],
   "source": [
    "filename_leaderjobtransition = \"leaderjobtransition.xlsx\"\n",
    "# ljt = pd.read_excel(path_queries + filename_leaderjobtransition,dtype=\"str\")"
   ]
  },
  {
   "cell_type": "code",
   "execution_count": 10,
   "id": "75aa1647",
   "metadata": {},
   "outputs": [
    {
     "name": "stdout",
     "output_type": "stream",
     "text": [
      "2023-07-09\n"
     ]
    }
   ],
   "source": [
    "today = date.today()\n",
    "print(today)"
   ]
  },
  {
   "cell_type": "markdown",
   "id": "f379b6af",
   "metadata": {},
   "source": [
    "# 1. deprecate old version"
   ]
  },
  {
   "cell_type": "code",
   "execution_count": 15,
   "id": "127a70cd",
   "metadata": {},
   "outputs": [
    {
     "data": {
      "text/plain": [
       "'leaderjobtransition'"
      ]
     },
     "execution_count": 15,
     "metadata": {},
     "output_type": "execute_result"
    }
   ],
   "source": [
    "table_name = \"leaderjobtransition\"\n",
    "table_name"
   ]
  },
  {
   "cell_type": "code",
   "execution_count": 16,
   "id": "f1cf5c8f",
   "metadata": {},
   "outputs": [
    {
     "data": {
      "text/plain": [
       "'leaderjobtransition.xlsx'"
      ]
     },
     "execution_count": 16,
     "metadata": {},
     "output_type": "execute_result"
    }
   ],
   "source": [
    "filename_leaderjobtransition"
   ]
  },
  {
   "cell_type": "code",
   "execution_count": 17,
   "id": "70a57496",
   "metadata": {},
   "outputs": [
    {
     "data": {
      "text/plain": [
       "'leaderjobtransition_deprecated_2023-07-09.xlsx'"
      ]
     },
     "execution_count": 17,
     "metadata": {},
     "output_type": "execute_result"
    }
   ],
   "source": [
    "filename_deprecated = table_name + \"_deprecated_\"+str(today)+\".xlsx\"\n",
    "filename_deprecated"
   ]
  },
  {
   "cell_type": "code",
   "execution_count": 19,
   "id": "b8b178af",
   "metadata": {},
   "outputs": [],
   "source": [
    "# deprecate old query\n",
    "# oldtable = pd.read_excel(path_queries + filename_careers,dtype=\"str\")\n",
    "# oldtable.to_excel(path_queries + filename_deprecated,index=False)"
   ]
  },
  {
   "cell_type": "markdown",
   "id": "45de6b4f",
   "metadata": {},
   "source": [
    "# 2. refresh query using current tables"
   ]
  },
  {
   "cell_type": "code",
   "execution_count": 28,
   "id": "4bf6954d",
   "metadata": {},
   "outputs": [
    {
     "data": {
      "text/html": [
       "<div>\n",
       "<style scoped>\n",
       "    .dataframe tbody tr th:only-of-type {\n",
       "        vertical-align: middle;\n",
       "    }\n",
       "\n",
       "    .dataframe tbody tr th {\n",
       "        vertical-align: top;\n",
       "    }\n",
       "\n",
       "    .dataframe thead th {\n",
       "        text-align: right;\n",
       "    }\n",
       "</style>\n",
       "<table border=\"1\" class=\"dataframe\">\n",
       "  <thead>\n",
       "    <tr style=\"text-align: right;\">\n",
       "      <th></th>\n",
       "      <th>LeaderID</th>\n",
       "      <th>CareerString</th>\n",
       "      <th>CareerDateString_2022</th>\n",
       "    </tr>\n",
       "  </thead>\n",
       "  <tbody>\n",
       "    <tr>\n",
       "      <th>0</th>\n",
       "      <td>리선권</td>\n",
       "      <td>개성공단 남북공동위원회 통행통신통관 분과위원회</td>\n",
       "      <td>2013.09 ~ 2014.01</td>\n",
       "    </tr>\n",
       "    <tr>\n",
       "      <th>1</th>\n",
       "      <td>조경철</td>\n",
       "      <td>故 김정일 국가장의위원회 위원</td>\n",
       "      <td>2011.12</td>\n",
       "    </tr>\n",
       "  </tbody>\n",
       "</table>\n",
       "</div>"
      ],
      "text/plain": [
       "  LeaderID                CareerString CareerDateString_2022\n",
       "0      리선권   개성공단 남북공동위원회 통행통신통관 분과위원회     2013.09 ~ 2014.01\n",
       "1      조경철            故 김정일 국가장의위원회 위원               2011.12"
      ]
     },
     "execution_count": 28,
     "metadata": {},
     "output_type": "execute_result"
    }
   ],
   "source": [
    "lclink.head(2)"
   ]
  },
  {
   "cell_type": "code",
   "execution_count": null,
   "id": "92c9d2ab",
   "metadata": {},
   "outputs": [],
   "source": []
  },
  {
   "cell_type": "code",
   "execution_count": null,
   "id": "8971dd22",
   "metadata": {},
   "outputs": [],
   "source": []
  },
  {
   "cell_type": "code",
   "execution_count": null,
   "id": "99f92bba",
   "metadata": {},
   "outputs": [],
   "source": []
  },
  {
   "cell_type": "markdown",
   "id": "29d3f7ab",
   "metadata": {},
   "source": [
    "# 3. export new query"
   ]
  },
  {
   "cell_type": "code",
   "execution_count": 55,
   "id": "2a11f5e1",
   "metadata": {},
   "outputs": [],
   "source": [
    "# refresh leaderjobtransition with new data\n",
    "ljt_new.to_excel(path_tables + filename_careers,index=False)"
   ]
  },
  {
   "cell_type": "code",
   "execution_count": null,
   "id": "adaecdd4",
   "metadata": {},
   "outputs": [],
   "source": []
  }
 ],
 "metadata": {
  "kernelspec": {
   "display_name": "Python 3 (ipykernel)",
   "language": "python",
   "name": "python3"
  },
  "language_info": {
   "codemirror_mode": {
    "name": "ipython",
    "version": 3
   },
   "file_extension": ".py",
   "mimetype": "text/x-python",
   "name": "python",
   "nbconvert_exporter": "python",
   "pygments_lexer": "ipython3",
   "version": "3.11.0"
  }
 },
 "nbformat": 4,
 "nbformat_minor": 5
}
