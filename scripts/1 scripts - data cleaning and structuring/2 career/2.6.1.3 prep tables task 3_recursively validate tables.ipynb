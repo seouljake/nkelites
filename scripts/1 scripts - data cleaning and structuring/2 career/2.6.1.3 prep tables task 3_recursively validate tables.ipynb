{
 "cells": [
  {
   "cell_type": "code",
   "execution_count": 1,
   "id": "74698cf3",
   "metadata": {},
   "outputs": [],
   "source": [
    "import pandas as pd\n",
    "import numpy as np"
   ]
  },
  {
   "cell_type": "code",
   "execution_count": 2,
   "id": "5141517a",
   "metadata": {},
   "outputs": [],
   "source": [
    "pd.set_option('display.max_rows', None)"
   ]
  },
  {
   "cell_type": "markdown",
   "id": "31428185",
   "metadata": {},
   "source": [
    "# Tables\n",
    "\n",
    "### 1. LeaderCareerLink (LeaderID, CareerString, CareerDateString_2022)\n",
    "\n",
    "matches LeaderID with (CareerString, CareerDateString_2022)\n",
    "\n",
    "- LeaderID\n",
    "- CareerString\n",
    "- CareerDateString_2022\n",
    "\n",
    "### 2. CareerOrgLink (CareerString, CareerDateString_2022, CareerSubstring)\n",
    "\n",
    "matches (CareerString,CareerDateString_2022,CareerSubstring) with (InstitutionType,PrimaryInstitution,OrgName,Position)\n",
    "\n",
    "- CareerString\n",
    "- CareerDateString_2022\n",
    "- IsJob\n",
    "- MultipleSubstrings\n",
    "- CareerStartYear\n",
    "- CareerStartMonth\n",
    "- CareerSubstring\n",
    "- OrgString\n",
    "- InstitutionType\n",
    "- PrimaryInstitution\n",
    "- OrgName\n",
    "- Position\n",
    "- Notes\n",
    "\n",
    "### 3. Orgtree (InstitutionType, PrimaryInstitution, OrgName)*\n",
    "\n",
    "contains variables relevant to all (PI, Org) including PI/Org Types, Positions, Org/Pos Ranks, PI/Org Links, Aliases\n",
    "\n",
    "- InstitutionType\n",
    "- OrgType\n",
    "- PrimaryInstitution\n",
    "- OrgName\n",
    "- PI_Index\n",
    "- OrgRank\n",
    "- P1\n",
    "- P2\n",
    "- P3\n",
    "- Alias_OrgName\n",
    "- LinkToNext_PI\n",
    "- LinkToNext_Org\n",
    "- LinkToNext_Year\n",
    "- Notes"
   ]
  },
  {
   "cell_type": "code",
   "execution_count": 3,
   "id": "f2c9c339",
   "metadata": {},
   "outputs": [],
   "source": [
    "path_tables = \"C:/Users/seoul/Dropbox/00 technical/github/nkelites/data/combined data/combined data - 2 tables/\""
   ]
  },
  {
   "cell_type": "code",
   "execution_count": 4,
   "id": "1c1ab934",
   "metadata": {},
   "outputs": [],
   "source": [
    "# current tables\n",
    "filename_careerorglink = \"careerorglink.xlsx\"\n",
    "filename_leadercareerlink = \"leadercareerlink.xlsx\"\n",
    "filename_orgtree = \"orgtree.xlsx\""
   ]
  },
  {
   "cell_type": "code",
   "execution_count": 5,
   "id": "f86d0874",
   "metadata": {},
   "outputs": [],
   "source": [
    "# deprecated tables\n",
    "# filename_careers = \"careers.xlsx\"\n",
    "# filename_leaderjoblink = \"leaderjoblink.xlsx\"\n",
    "# filename_joborglink = \"joborglink.xlsx\""
   ]
  },
  {
   "cell_type": "markdown",
   "id": "c2a10c37",
   "metadata": {},
   "source": [
    "# Data - initial orgtree + manually cleaned data in 2.7 orgtree position & rank"
   ]
  },
  {
   "cell_type": "code",
   "execution_count": 6,
   "id": "a9386ddd",
   "metadata": {},
   "outputs": [],
   "source": [
    "path_cleaning = \"C:/Users/seoul/Dropbox/00 technical/github/nkelites/data/combined data/combined data - 1 cleaning/cleaning step 2 - career/\""
   ]
  },
  {
   "cell_type": "code",
   "execution_count": 7,
   "id": "ea8288fa",
   "metadata": {},
   "outputs": [],
   "source": [
    "subpath_2_1 = \"2.1 career_undivided_unparsed_uncoded/\"\n",
    "subpath_2_2 = \"2.2 career_divided_unparsed_uncoded/\"\n",
    "subpath_2_3 = \"2.3 joborglink/\"\n",
    "subpath_2_4 = \"2.4 orgtree/\"\n",
    "subpath_2_5 = \"2.5 position/\"\n",
    "subpath_2_6 = \"2.6 career_reassembled/\"\n",
    "subpath_2_7 = \"2.7 orgtree position & rank/\""
   ]
  },
  {
   "cell_type": "code",
   "execution_count": 8,
   "id": "e060a0bc",
   "metadata": {},
   "outputs": [
    {
     "data": {
      "text/plain": [
       "(9002, 12)"
      ]
     },
     "execution_count": 8,
     "metadata": {},
     "output_type": "execute_result"
    }
   ],
   "source": [
    "# 3.0 careerorglink_0.xlsx\n",
    "# 3.0 careerorglink_1_Jacob.xlsx\n",
    "\n",
    "# filename_careerorglink_old = \"3.0 careerorglink_0.xlsx\"\n",
    "filename_careerorglink_old = \"3.0 careerorglink_1_Jacob.xlsx\"\n",
    "col = pd.read_excel(path_cleaning + subpath_2_7 + filename_careerorglink_old,dtype=\"str\")\n",
    "col.shape"
   ]
  },
  {
   "cell_type": "code",
   "execution_count": 9,
   "id": "9e71e14a",
   "metadata": {},
   "outputs": [
    {
     "data": {
      "text/html": [
       "<div>\n",
       "<style scoped>\n",
       "    .dataframe tbody tr th:only-of-type {\n",
       "        vertical-align: middle;\n",
       "    }\n",
       "\n",
       "    .dataframe tbody tr th {\n",
       "        vertical-align: top;\n",
       "    }\n",
       "\n",
       "    .dataframe thead th {\n",
       "        text-align: right;\n",
       "    }\n",
       "</style>\n",
       "<table border=\"1\" class=\"dataframe\">\n",
       "  <thead>\n",
       "    <tr style=\"text-align: right;\">\n",
       "      <th></th>\n",
       "      <th>CareerString</th>\n",
       "      <th>CareerDateString_2022</th>\n",
       "      <th>IsJob</th>\n",
       "      <th>MultipleSubstrings</th>\n",
       "      <th>CareerStartYear</th>\n",
       "      <th>CareerStartMonth</th>\n",
       "      <th>CareerSubstring</th>\n",
       "      <th>InstitutionType</th>\n",
       "      <th>PrimaryInstitution</th>\n",
       "      <th>OrgName</th>\n",
       "      <th>Position</th>\n",
       "      <th>Notes</th>\n",
       "    </tr>\n",
       "  </thead>\n",
       "  <tbody>\n",
       "  </tbody>\n",
       "</table>\n",
       "</div>"
      ],
      "text/plain": [
       "Empty DataFrame\n",
       "Columns: [CareerString, CareerDateString_2022, IsJob, MultipleSubstrings, CareerStartYear, CareerStartMonth, CareerSubstring, InstitutionType, PrimaryInstitution, OrgName, Position, Notes]\n",
       "Index: []"
      ]
     },
     "execution_count": 9,
     "metadata": {},
     "output_type": "execute_result"
    }
   ],
   "source": [
    "col[col[\"CareerString\"].isna()]"
   ]
  },
  {
   "cell_type": "code",
   "execution_count": 10,
   "id": "83143cac",
   "metadata": {},
   "outputs": [
    {
     "data": {
      "text/plain": [
       "(2367, 19)"
      ]
     },
     "execution_count": 10,
     "metadata": {},
     "output_type": "execute_result"
    }
   ],
   "source": [
    "# orgtree (orgtree_position_rank)\n",
    "# 3.0 orgtree_0 \n",
    "# 3.0 orgtree_1_Jacob\n",
    "\n",
    "# constructing new file from:\n",
    "## 2022 북한_기관별_인명록_북한정보포털 게재용\n",
    "## orgtree table\n",
    "\n",
    "# filein_orgtree_old = \"3.0 orgtree_0.xlsx\"\n",
    "filein_orgtree_old = \"3.0 orgtree_1_Jacob.xlsx\"\n",
    "opr = pd.read_excel(path_cleaning + subpath_2_7 + filein_orgtree_old,dtype=\"str\")\n",
    "opr.shape"
   ]
  },
  {
   "cell_type": "code",
   "execution_count": 12,
   "id": "f220092e",
   "metadata": {},
   "outputs": [],
   "source": [
    "filename_mismatch_old = \"3.0 mismatch_통합.xlsx\"\n",
    "# m = pd.read_excel(path_cleaning + subpath_2_7 + filename_mismatch_old,dtype=\"str\")\n",
    "# m.shape"
   ]
  },
  {
   "cell_type": "code",
   "execution_count": 13,
   "id": "273b64d9",
   "metadata": {},
   "outputs": [],
   "source": [
    "# m.head(2)"
   ]
  },
  {
   "cell_type": "code",
   "execution_count": 14,
   "id": "f6ac862f",
   "metadata": {},
   "outputs": [
    {
     "name": "stdout",
     "output_type": "stream",
     "text": [
      "col:\t (9002, 12)\n",
      "opr:\t (2367, 19)\n"
     ]
    }
   ],
   "source": [
    "# updated tables\n",
    "print(\"col:\\t\",col.shape)\n",
    "# print(\"m:\\t\",m.shape)\n",
    "print(\"opr:\\t\",opr.shape)"
   ]
  },
  {
   "cell_type": "markdown",
   "id": "1c8c6302",
   "metadata": {},
   "source": [
    "# Functions: format orgtree"
   ]
  },
  {
   "cell_type": "code",
   "execution_count": 15,
   "id": "3b85b568",
   "metadata": {},
   "outputs": [],
   "source": [
    "# using this on (PI,OrgName) will ensure unique & non-null keys\n",
    "# using this on a larger df will ensure unique rows and non-null keys, but not unique keys\n",
    "\n",
    "def unique_non_null_rows(olddf):\n",
    "    \n",
    "    df = olddf.copy()\n",
    "    \n",
    "    \n",
    "    ### drop duplicates\n",
    "    df = df.drop_duplicates(keep=\"first\",ignore_index=True)\n",
    "\n",
    "    ### drop null rows\n",
    "    df.dropna(how=\"all\",axis=0,inplace=True)\n",
    "    \n",
    "    # drop rows with null PI\n",
    "    df = df[~(df[\"PrimaryInstitution\"].isna())]\n",
    "        \n",
    "    ### drop rows where PI contains stop words\n",
    "    stop_words_lower = [\"uncertain\",\"current\",\"deprecated\",\"please_revise\"]\n",
    "    df = df[ ~ df[\"PrimaryInstitution\"].str.lower().isin(stop_words_lower)]\n",
    "            \n",
    "\n",
    "    print(\"\\nUnique Non-null Rows...\")\n",
    "    print(\"\")\n",
    "    print(\"\\tNon-unique rows:\",olddf.shape)\n",
    "    print(\"\\tUnique rows    :\",df.shape)\n",
    "\n",
    "    ### sort\n",
    "    df = df.sort_values([\"PrimaryInstitution\",\"OrgName\"])\n",
    "    \n",
    "    return df"
   ]
  },
  {
   "cell_type": "code",
   "execution_count": 16,
   "id": "9e7c6ad4",
   "metadata": {},
   "outputs": [],
   "source": [
    "def verify_unique_rows(df):\n",
    "    \n",
    "    key_columns = [\"PrimaryInstitution\",\"OrgName\"]\n",
    "    print(\"\\nVerifying Unique Rows...\")\n",
    "    print(\"\")\n",
    "    print(\"\\tDuplicate Rows:\",df[df.duplicated(keep=False)].shape)\n",
    "    print(\"\\tDuplicate Keys:\",df[df.duplicated(key_columns,keep=False)].shape)\n",
    "    print(\"\\tNull Rows     :\",df[df[\"PrimaryInstitution\"].isna() & df[\"OrgName\"].isna()].shape)"
   ]
  },
  {
   "cell_type": "code",
   "execution_count": 17,
   "id": "118e1cab",
   "metadata": {},
   "outputs": [],
   "source": [
    "def merge_results(m):\n",
    "    \n",
    "    print(\"\\nMerge Results...\")\n",
    "    print(\"\")\n",
    "    print(\"\\tshape     :\",m.shape)\n",
    "    print(\"\\tleft_only :\",m[m[\"_merge\"]==\"left_only\"].shape)\n",
    "    print(\"\\tboth      :\",m[m[\"_merge\"]==\"both\"].shape)\n",
    "    print(\"\\tright_only:\",m[m[\"_merge\"]==\"right_only\"].shape)"
   ]
  },
  {
   "cell_type": "code",
   "execution_count": 18,
   "id": "cebce4e4",
   "metadata": {},
   "outputs": [],
   "source": [
    "def update_opr_index(opr,max_level):\n",
    "    \n",
    "    # create and clear out existing Level Indicies\n",
    "    opr[\"OrgRank\"]=np.nan\n",
    "    opr[\"L1_Index\"]=np.nan\n",
    "    opr[\"L2_Index\"]=np.nan\n",
    "    opr[\"L3_Index\"]=np.nan\n",
    "    opr[\"L4_Index\"]=np.nan\n",
    "    opr[\"L5_Index\"]=np.nan\n",
    "    \n",
    "    # pad PI_Index with missing 0s up to the deepest level (4 or 5?)\n",
    "    opr[\"PI_Index\"] = opr.apply(lambda x: str(x[\"PI_Index\"]) + ((max_level-1)-str(x[\"PI_Index\"]).count(\".\")) * \".0\",axis=1)\n",
    "    \n",
    "    # calculate OrgRank\n",
    "    opr[\"OrgRank\"] = opr.apply(lambda x: (max_level-1) - str(x[\"PI_Index\"]).count(\".0\"),axis=1)\n",
    "    \n",
    "    # populate Level Indices using PI_Index\n",
    "    opr.loc[opr[\"PI_Index\"].notna(),\"L1_Index\"] = opr.loc[opr[\"PI_Index\"].notna()].apply(lambda x: str(x[\"PI_Index\"]).split(\".\")[0],axis=1)\n",
    "    opr.loc[opr[\"PI_Index\"].notna(),\"L2_Index\"] = opr.loc[opr[\"PI_Index\"].notna()].apply(lambda x: str(x[\"PI_Index\"]).split(\".\")[1],axis=1)\n",
    "    opr.loc[opr[\"PI_Index\"].notna(),\"L3_Index\"] = opr.loc[opr[\"PI_Index\"].notna()].apply(lambda x: str(x[\"PI_Index\"]).split(\".\")[2],axis=1)\n",
    "    opr.loc[opr[\"PI_Index\"].notna(),\"L4_Index\"] = opr.loc[opr[\"PI_Index\"].notna()].apply(lambda x: str(x[\"PI_Index\"]).split(\".\")[3],axis=1)\n",
    "    opr.loc[opr[\"PI_Index\"].notna(),\"L5_Index\"] = opr.loc[opr[\"PI_Index\"].notna()].apply(lambda x: str(x[\"PI_Index\"]).split(\".\")[4],axis=1)\n",
    "\n",
    "    # sort by Level1, Level2, Level3\n",
    "    sort_columns = [\"L1_Index\",\"L2_Index\",\"L3_Index\",\"L4_Index\",\"L5_Index\"]\n",
    "    #opr.L1_Index.astype(int,errors=\"ignore\")\n",
    "    #opr.L2_Index.astype(int,errors=\"ignore\")\n",
    "    #opr.L3_Index.astype(int,errors=\"ignore\")\n",
    "    opr.sort_values(sort_columns,inplace=True)\n",
    "    \n",
    "    return opr"
   ]
  },
  {
   "cell_type": "code",
   "execution_count": 19,
   "id": "3b5eef19",
   "metadata": {},
   "outputs": [],
   "source": [
    "# this function is called by: clean_positions(opr_old):\n",
    "\n",
    "# written to operate on a dataframe row. \n",
    "# use in df.apply()\n",
    "\n",
    "def compare_position_ranks_vectorized(row):\n",
    "    \n",
    "    print_row_flag = False\n",
    "    \n",
    "    p1 = row[\"P1\"].split(\",\")\n",
    "    p2 = row[\"P2\"].split(\",\")\n",
    "    p3 = row[\"P3\"].split(\",\")\n",
    "    \n",
    "    pall = (p1+p2+p3)\n",
    "    punique = list(set(pall))\n",
    "    \n",
    "    pall = [e for e in pall if e!=\"nan\"]\n",
    "    punique = [e for e in punique if e!=\"nan\"]\n",
    "    \n",
    "    # print(len(pall),len(punique))\n",
    "\n",
    "    if len(pall)>len(punique):\n",
    "        print(row[\"PrimaryInstitution\"],row[\"OrgName\"])\n",
    "        print(p1,p2,p3,pall)\n",
    "        print(\"\")\n",
    "        print_row_flag = True\n",
    "        \n",
    "    return print_row_flag    \n"
   ]
  },
  {
   "cell_type": "code",
   "execution_count": 20,
   "id": "6d45f2fb",
   "metadata": {},
   "outputs": [],
   "source": [
    "# opr = orgtree\n",
    "\n",
    "def clean_positions(opr_old):\n",
    "    \n",
    "    opr_new = opr_old.copy(deep=True)\n",
    "    \n",
    "    # remove duplicates within each P1-P3 \n",
    "    \n",
    "    opr_new[\"P1\"] = opr_new.apply(lambda x: \",\".join(list(set([item.strip() for item in str(x[\"P1\"]).split(\",\")]))),axis=1)    \n",
    "    opr_new[\"P2\"] = opr_new.apply(lambda x: \",\".join(list(set([item.strip() for item in str(x[\"P2\"]).split(\",\")]))),axis=1)\n",
    "    opr_new[\"P3\"] = opr_new.apply(lambda x: \",\".join(list(set([item.strip() for item in str(x[\"P3\"]).split(\",\")]))),axis=1)\n",
    "    \n",
    "    print(\"Duplicates have been removed within each orgtree.P1-P3\\n\\n\")\n",
    "    \n",
    "    \n",
    "    # identify duplicates across each P1-P3 \n",
    "    \n",
    "    # calls the function above: def compare_position_ranks_vectorized(row):\n",
    "\n",
    "    num_of_duplicates = sum(opr_new.apply(compare_position_ranks_vectorized,axis=1))\n",
    "    \n",
    "    if num_of_duplicates>0:\n",
    "        \n",
    "        print(\"\\n\",num_of_duplicates,\"duplicates have been identified across orgtree.P1-P3\")\n",
    "        \n",
    "    else:\n",
    "        \n",
    "        print(\"\\nNo duplicates have been identified across orgtree.P1-P3\")    \n",
    "    \n",
    "    \n",
    "    return opr_new    "
   ]
  },
  {
   "cell_type": "code",
   "execution_count": 21,
   "id": "b426ec15",
   "metadata": {},
   "outputs": [],
   "source": [
    "# function identifies which careerorglink.Position are not contained in orgtree.P1-P3\n",
    "\n",
    "def identify_positions_notin_orgtree(row):\n",
    "    \n",
    "    return_row_flag = False\n",
    "    \n",
    "    pos = row[\"Position\"]\n",
    "    \n",
    "    pall = []\n",
    "    \n",
    "    if row[\"P1\"] is not np.nan: p1 = row[\"P1\"].split(\",\"); pall+=p1\n",
    "    if row[\"P2\"] is not np.nan: p2 = row[\"P2\"].split(\",\"); pall+=p2\n",
    "    if row[\"P3\"] is not np.nan: p3 = row[\"P3\"].split(\",\"); pall+=p3\n",
    "\n",
    "    if pos not in pall:\n",
    "        # print(pos,pall)\n",
    "        return_row_flag = True\n",
    "        \n",
    "    return return_row_flag"
   ]
  },
  {
   "cell_type": "code",
   "execution_count": 22,
   "id": "f990cca9",
   "metadata": {},
   "outputs": [],
   "source": [
    "### function: adds Positions to orgtree.P1-P3 using a hand-edited table, addPOS (3.0 careerorglink_1_Jacob_resolve_JR.xlsx)\n",
    "\n",
    "# we can't resolve these Positions with a simultaneous merge because each PI,OrgName may have multiple Positions\n",
    "# and each Position would be added into a separate row of P1-P3\n",
    "# instead, we have to resolve each addPOS row, one at a time\n",
    "\n",
    "def add_Positions_to_orgtree(addPOS,opr_in):\n",
    "\n",
    "    opr2 = opr_in.copy(deep=True)\n",
    "\n",
    "    addPOSrange = range(0,addPOS.shape[0])\n",
    "    addPOSrange\n",
    "\n",
    "    for i in addPOSrange:\n",
    "\n",
    "        # print(addPOS.iloc[i,2])\n",
    "        rowPI = addPOS.iloc[i][\"PrimaryInstitution\"]\n",
    "        rowOrg = addPOS.iloc[i][\"OrgName\"]\n",
    "        rowPos = addPOS.iloc[i][\"Position\"]\n",
    "        rowRes = addPOS.iloc[i][\"Resolution\"]\n",
    "\n",
    "        rowRank = \"P1\"\n",
    "        if rowRes == \"2. Add Position to P2\": rowRank=\"P2\"\n",
    "        if rowRes == \"3. Add Position to P3\": rowRank=\"P3\"\n",
    "\n",
    "        # print(rowPI,rowOrg is np.nan)\n",
    "\n",
    "        if rowOrg is np.nan:\n",
    "            row_condition = (opr2[\"PrimaryInstitution\"]==rowPI) & (opr2[\"OrgName\"].isnull())\n",
    "        else:\n",
    "            row_condition = (opr2[\"PrimaryInstitution\"]==rowPI) & (opr2[\"OrgName\"]==rowOrg)\n",
    "\n",
    "\n",
    "        oprRankValue = list(opr2.loc[row_condition,rowRank].values)\n",
    "\n",
    "        oprRankValueNull = \"nan\" in oprRankValue\n",
    "\n",
    "        rowPosNotInOprRankValue = rowPos not in oprRankValue[0]\n",
    "\n",
    "        newPos = \"\"\n",
    "\n",
    "        if rowPosNotInOprRankValue:\n",
    "\n",
    "            if oprRankValueNull:\n",
    "                newPos = rowPos\n",
    "\n",
    "            else:\n",
    "                newPos = oprRankValue[0] + \",\" + rowPos\n",
    "                # newPos = newPos.append(rowPos)\n",
    "\n",
    "            # before resolving\n",
    "            print(opr2.loc[row_condition,[\"PrimaryInstitution\",\"OrgName\",rowRank]])\n",
    "\n",
    "            opr2.loc[row_condition,rowRank] = newPos\n",
    "\n",
    "            # after resolving\n",
    "            print(opr2.loc[row_condition,[\"PrimaryInstitution\",\"OrgName\",rowRank]])\n",
    "\n",
    "        else:\n",
    "\n",
    "            print(\"rowPos is already contained in the OprRankValue.\")\n",
    "            \n",
    "            \n",
    "    return opr2"
   ]
  },
  {
   "cell_type": "code",
   "execution_count": 23,
   "id": "77dddaf1",
   "metadata": {},
   "outputs": [],
   "source": [
    "# opr = update_opr_index(opr,5)"
   ]
  },
  {
   "cell_type": "code",
   "execution_count": 24,
   "id": "7f7aedb0",
   "metadata": {},
   "outputs": [],
   "source": [
    "# export opr\n",
    "\n",
    "# fileout_opr = \"1.0 orgtree_position_rank.xlsx\"\n",
    "# opr.to_excel(path_cleaning + subpath_2_7 + fileout_opr,index=False)"
   ]
  },
  {
   "cell_type": "markdown",
   "id": "9058cf44",
   "metadata": {},
   "source": [
    "# Recall from earlier cleaning\n",
    "\n",
    "#### Three Cases of  OrgName in NK elite career data\n",
    "\n",
    "- Case 0: OrgName in 기관별인명록: code these from 1-199\n",
    "- Case 1: OrgName not in 기관별인명록, but contained in data AND LinkToNext_Year not current: code as 500+\n",
    "- Case 2: OrgName not in 기관별인명록, but contained in data AND LinkToNext_Year is current: code as 200+\n",
    "\n",
    "#### Case 0: OrgName in 기관별인명록\n",
    "\n",
    "- Update 1.0 orgtree_position_rank with OrgName in 기관별인명록\n",
    "- Code these from 1-199\n",
    "- Run above routine # 1. orgtree_position_rank: update all besides 노동당, 내각, 정무원\n",
    "    - to update opr & pr_else3\n",
    "- Proceed to Cases 1 & 2\n",
    "\n",
    "#### Resolve. Validation values for resolving null Position_3P\n",
    "\n",
    "1. OrgName & Position ok. Add Position to P1\n",
    "2. OrgName & Position ok. Add Position to P2\n",
    "3. OrgName & Position ok. Add Position to P3\n",
    "4. Change_OrgName and/or Change_Position\n",
    "5. Uncertain OrgName\n",
    "6. Uncertain Position\n",
    "7. NotJob\n",
    "8. Multiple CareerSubstring\n",
    "9. Other - see Notes"
   ]
  },
  {
   "cell_type": "markdown",
   "id": "16e9b179",
   "metadata": {},
   "source": [
    "# Task 1. Prep & Merge Mismatch\n",
    "\n",
    "- NotJob\n",
    "    - careers: change IsJob from True to False\n",
    "    - m: remove rows \n",
    "    - opr: NA\n",
    "  \n",
    "- MultipleSubstrings\n",
    "    - careers: expand rows\n",
    "    - m: expand rows and code\n",
    "    - opr: NA\n",
    "    \n",
    "- Merge mismatch files"
   ]
  },
  {
   "cell_type": "markdown",
   "id": "a88ecdda",
   "metadata": {},
   "source": [
    "# Task 2. Edit & Validate PI, OrgName, Type, Index\n",
    "\n",
    "#### Step 0. Uncertain OrgName & Position\n",
    "    - careerorglink: alter OrgName, Position to Uncertain\n",
    "    - mismatches: remove rows containing uncertain OrgName & Position \n",
    "    - opr: NA\n",
    "    \n",
    "#### handle mismatches (Changes, InstitutionType)\n",
    "- Step 1. using mismatches (Change_PI, Change_Org, Change_Pos), edit careerorglink & mismatches (PI, OrgName, Position) \n",
    "- Step 2. for all mismatches (InstitutionType), edit careerorglink & orgtree (InstitutionType)\n",
    "- Step 3. for mismatches (IType, PI, OrgName) not in orgtree, add to orgtree with PI_Index 801\n",
    "\n",
    "####  handle orgtree (Changes, InstitutionType)\n",
    "- Step 4. using orgtree (Change_ x 3), edit careerorglink, mismatches & orgtree (InstitutionType, PI, OrgName)\n",
    "- Step 5. using orgtree, update InstitutionType in col, for those jobs not in mismatch\n",
    "\n",
    "#### handle mismatches (Positions)\n",
    "- Step 6. using mismatches Position, update orgtree P1, P2, P3"
   ]
  },
  {
   "cell_type": "markdown",
   "id": "4324a186",
   "metadata": {},
   "source": [
    "# Task 3. Validate careerorglink & orgtree"
   ]
  },
  {
   "cell_type": "markdown",
   "id": "bb8e02a2",
   "metadata": {},
   "source": [
    "#### Validated Primary Keys\n",
    "- Verify unique primary keys for:\n",
    "    - careerorglink (CareerString,CareerDateString,CareerSubstring)\n",
    "    - orgtree (PI, OrgName)\n",
    "- careerorglink (PI, OrgName) contained in orgtree\n",
    "\n",
    "#### Coded Empty Values\n",
    "- Identify null InstitutionType, Position\n",
    "\n",
    "#### Validated Positions\n",
    "- validate orgtree Positions\n",
    "    - remove duplicates within each P1-P3\n",
    "    - resolve duplicates across P1-P3\n",
    "- Verify all careerorglink.Position are contained in orgtree.P1-P3"
   ]
  },
  {
   "cell_type": "markdown",
   "id": "18c3f498",
   "metadata": {},
   "source": [
    "### Step. Verify unique primary keys"
   ]
  },
  {
   "cell_type": "markdown",
   "id": "5b48a187",
   "metadata": {},
   "source": [
    "#### careerorglink primary key is unique"
   ]
  },
  {
   "cell_type": "code",
   "execution_count": 25,
   "id": "6239bd0a",
   "metadata": {},
   "outputs": [],
   "source": [
    "col_key_columns = [\"CareerString\",\"CareerDateString_2022\",\"CareerSubstring\"]"
   ]
  },
  {
   "cell_type": "code",
   "execution_count": 26,
   "id": "bd50a143",
   "metadata": {},
   "outputs": [],
   "source": [
    "col_key_condition = col.IsJob==True & col.duplicated(col_key_columns,keep=False)"
   ]
  },
  {
   "cell_type": "code",
   "execution_count": 27,
   "id": "cdc30cf3",
   "metadata": {},
   "outputs": [
    {
     "data": {
      "text/plain": [
       "(0, 12)"
      ]
     },
     "execution_count": 27,
     "metadata": {},
     "output_type": "execute_result"
    }
   ],
   "source": [
    "col[col_key_condition].shape"
   ]
  },
  {
   "cell_type": "markdown",
   "id": "ca032736",
   "metadata": {},
   "source": [
    "#### orgtree primary key is unique"
   ]
  },
  {
   "cell_type": "code",
   "execution_count": 28,
   "id": "da61db55",
   "metadata": {},
   "outputs": [],
   "source": [
    "opr_key_columns = [\"PrimaryInstitution\",\"OrgName\"]"
   ]
  },
  {
   "cell_type": "code",
   "execution_count": 29,
   "id": "0d8314c1",
   "metadata": {},
   "outputs": [],
   "source": [
    "opr_key_condition = opr.duplicated(opr_key_columns,keep=False)"
   ]
  },
  {
   "cell_type": "code",
   "execution_count": 30,
   "id": "f09ced9a",
   "metadata": {},
   "outputs": [
    {
     "data": {
      "text/plain": [
       "(0, 19)"
      ]
     },
     "execution_count": 30,
     "metadata": {},
     "output_type": "execute_result"
    }
   ],
   "source": [
    "opr[opr_key_condition].sort_values(opr_key_columns).shape"
   ]
  },
  {
   "cell_type": "markdown",
   "id": "be1cc4f6",
   "metadata": {},
   "source": [
    "### Step. careerorglinks (PI, OrgName) have a unique match in orgtree"
   ]
  },
  {
   "cell_type": "code",
   "execution_count": 31,
   "id": "181398a8",
   "metadata": {},
   "outputs": [],
   "source": [
    "col_opr_key_condition = (col.IsJob==\"True\") & (col.OrgName!=\"UNCERTAIN\")"
   ]
  },
  {
   "cell_type": "code",
   "execution_count": 32,
   "id": "e1952544",
   "metadata": {},
   "outputs": [],
   "source": [
    "col_opr_keys_columns = opr_key_columns + [\"Position\"]"
   ]
  },
  {
   "cell_type": "code",
   "execution_count": 33,
   "id": "0ad681fc",
   "metadata": {},
   "outputs": [
    {
     "data": {
      "text/plain": [
       "(6549, 3)"
      ]
     },
     "execution_count": 33,
     "metadata": {},
     "output_type": "execute_result"
    }
   ],
   "source": [
    "col_opr_keys = col.loc[col_opr_key_condition,col_opr_keys_columns]\n",
    "col_opr_keys.shape"
   ]
  },
  {
   "cell_type": "code",
   "execution_count": 34,
   "id": "eb03ff78",
   "metadata": {},
   "outputs": [
    {
     "name": "stdout",
     "output_type": "stream",
     "text": [
      "\n",
      "Unique Non-null Rows...\n",
      "\n",
      "\tNon-unique rows: (6549, 3)\n",
      "\tUnique rows    : (1761, 3)\n"
     ]
    }
   ],
   "source": [
    "col_opr_keys = unique_non_null_rows(col_opr_keys)"
   ]
  },
  {
   "cell_type": "code",
   "execution_count": 35,
   "id": "aa6e20bb",
   "metadata": {},
   "outputs": [
    {
     "name": "stdout",
     "output_type": "stream",
     "text": [
      "\n",
      "Merge Results...\n",
      "\n",
      "\tshape     : (3057, 21)\n",
      "\tleft_only : (0, 21)\n",
      "\tboth      : (1761, 21)\n",
      "\tright_only: (1296, 21)\n"
     ]
    }
   ],
   "source": [
    "comerge = col_opr_keys.merge(opr,on=opr_key_columns,how=\"outer\",indicator=True)\n",
    "merge_results(comerge)"
   ]
  },
  {
   "cell_type": "code",
   "execution_count": 36,
   "id": "4dcf3ded",
   "metadata": {
    "scrolled": false
   },
   "outputs": [
    {
     "data": {
      "text/plain": [
       "(0, 21)"
      ]
     },
     "execution_count": 36,
     "metadata": {},
     "output_type": "execute_result"
    }
   ],
   "source": [
    "# left-only indicate careerorglink (PI,OrgName) with no match in orgtree\n",
    "comerge[comerge[\"_merge\"]==\"left_only\"].shape"
   ]
  },
  {
   "cell_type": "markdown",
   "id": "407c253e",
   "metadata": {},
   "source": [
    "### Step. Fill in null variables: PI, InstitutionType, Position"
   ]
  },
  {
   "cell_type": "markdown",
   "id": "076fb525",
   "metadata": {},
   "source": [
    "#### PI in careerorglink"
   ]
  },
  {
   "cell_type": "code",
   "execution_count": 37,
   "id": "8dfb2005",
   "metadata": {},
   "outputs": [
    {
     "data": {
      "text/plain": [
       "(0, 12)"
      ]
     },
     "execution_count": 37,
     "metadata": {},
     "output_type": "execute_result"
    }
   ],
   "source": [
    "# PI is null\n",
    "col[(col.IsJob==\"True\") & (col.PrimaryInstitution.isnull())].shape"
   ]
  },
  {
   "cell_type": "code",
   "execution_count": 38,
   "id": "a58da33d",
   "metadata": {
    "scrolled": false
   },
   "outputs": [
    {
     "data": {
      "text/plain": [
       "(182, 12)"
      ]
     },
     "execution_count": 38,
     "metadata": {},
     "output_type": "execute_result"
    }
   ],
   "source": [
    "# PI is UNCERTAIN\n",
    "col[(col.IsJob==\"True\") & (col.OrgName==\"UNCERTAIN\")].shape"
   ]
  },
  {
   "cell_type": "markdown",
   "id": "d98e7459",
   "metadata": {},
   "source": [
    "#### InstitutionType in careerorglink"
   ]
  },
  {
   "cell_type": "code",
   "execution_count": 39,
   "id": "e4786d91",
   "metadata": {},
   "outputs": [
    {
     "data": {
      "text/plain": [
       "(0, 12)"
      ]
     },
     "execution_count": 39,
     "metadata": {},
     "output_type": "execute_result"
    }
   ],
   "source": [
    "# InstitutionType is null\n",
    "col[(col.IsJob==\"True\") & (col.InstitutionType.isnull())].shape"
   ]
  },
  {
   "cell_type": "code",
   "execution_count": 40,
   "id": "7559e642",
   "metadata": {},
   "outputs": [
    {
     "data": {
      "text/plain": [
       "(182, 12)"
      ]
     },
     "execution_count": 40,
     "metadata": {},
     "output_type": "execute_result"
    }
   ],
   "source": [
    "# InstitutionType is UNCERTAIN\n",
    "col[(col.IsJob==\"True\") & (col.OrgName==\"UNCERTAIN\")].shape"
   ]
  },
  {
   "cell_type": "markdown",
   "id": "f9c0e21e",
   "metadata": {},
   "source": [
    "#### Position in careerorglink"
   ]
  },
  {
   "cell_type": "code",
   "execution_count": 41,
   "id": "e4aea889",
   "metadata": {},
   "outputs": [
    {
     "data": {
      "text/plain": [
       "(0, 12)"
      ]
     },
     "execution_count": 41,
     "metadata": {},
     "output_type": "execute_result"
    }
   ],
   "source": [
    "# Position is null\n",
    "col[(col.IsJob==\"True\") & (col.Position.isnull())].shape"
   ]
  },
  {
   "cell_type": "code",
   "execution_count": 42,
   "id": "446ba7fa",
   "metadata": {},
   "outputs": [
    {
     "data": {
      "text/plain": [
       "(182, 12)"
      ]
     },
     "execution_count": 42,
     "metadata": {},
     "output_type": "execute_result"
    }
   ],
   "source": [
    "# Position is UNCERTAIN \n",
    "col[(col.IsJob==\"True\") & (col.OrgName==\"UNCERTAIN\")].shape"
   ]
  },
  {
   "cell_type": "markdown",
   "id": "586ad630",
   "metadata": {},
   "source": [
    "#### InstitutionType in orgtree"
   ]
  },
  {
   "cell_type": "code",
   "execution_count": 43,
   "id": "4ccdc07a",
   "metadata": {},
   "outputs": [
    {
     "data": {
      "text/plain": [
       "(0, 19)"
      ]
     },
     "execution_count": 43,
     "metadata": {},
     "output_type": "execute_result"
    }
   ],
   "source": [
    "# InstitutionType is null\n",
    "opr[(opr.InstitutionType.isnull())].shape"
   ]
  },
  {
   "cell_type": "code",
   "execution_count": 44,
   "id": "e6ab8d8a",
   "metadata": {},
   "outputs": [
    {
     "data": {
      "text/plain": [
       "(39, 19)"
      ]
     },
     "execution_count": 44,
     "metadata": {},
     "output_type": "execute_result"
    }
   ],
   "source": [
    "# InstitutionType is UNCERTAIN\n",
    "opr[(opr.InstitutionType.str.upper()==\"UNCERTAIN\")].shape"
   ]
  },
  {
   "cell_type": "markdown",
   "id": "91471b39",
   "metadata": {},
   "source": [
    "### Step. Mismatched InstitutionTypes"
   ]
  },
  {
   "cell_type": "markdown",
   "id": "7fc903c3",
   "metadata": {},
   "source": [
    "#### compare mismatched InstitutionTypes"
   ]
  },
  {
   "cell_type": "code",
   "execution_count": 45,
   "id": "287f13c3",
   "metadata": {},
   "outputs": [],
   "source": [
    "opr_key_columns = [\"PrimaryInstitution\",\"OrgName\"]"
   ]
  },
  {
   "cell_type": "code",
   "execution_count": 46,
   "id": "f61875cc",
   "metadata": {},
   "outputs": [],
   "source": [
    "col_columns = opr_key_columns + [\"InstitutionType\"]\n",
    "opr_columns = col_columns"
   ]
  },
  {
   "cell_type": "code",
   "execution_count": 47,
   "id": "0be19b03",
   "metadata": {},
   "outputs": [
    {
     "name": "stdout",
     "output_type": "stream",
     "text": [
      "\n",
      "Merge Results...\n",
      "\n",
      "\tshape     : (6657, 5)\n",
      "\tleft_only : (0, 5)\n",
      "\tboth      : (6657, 5)\n",
      "\tright_only: (0, 5)\n"
     ]
    }
   ],
   "source": [
    "compareIT = col[col_columns].merge(opr[opr_columns],on=opr_key_columns,how=\"inner\",suffixes=(\"_col\",\"_opr\"),indicator=True)\n",
    "merge_results(compareIT)"
   ]
  },
  {
   "cell_type": "code",
   "execution_count": 48,
   "id": "a1506a49",
   "metadata": {},
   "outputs": [
    {
     "data": {
      "text/plain": [
       "(0, 5)"
      ]
     },
     "execution_count": 48,
     "metadata": {},
     "output_type": "execute_result"
    }
   ],
   "source": [
    "compareIT[compareIT.InstitutionType_col != compareIT.InstitutionType_opr].shape"
   ]
  },
  {
   "cell_type": "markdown",
   "id": "f0a92173",
   "metadata": {},
   "source": [
    "### Step. clean orgtree P1, P2, P3"
   ]
  },
  {
   "cell_type": "markdown",
   "id": "9a091408",
   "metadata": {},
   "source": [
    "#### remove duplicates within & across P1, P2, P3"
   ]
  },
  {
   "cell_type": "code",
   "execution_count": 49,
   "id": "fa9ff42e",
   "metadata": {},
   "outputs": [
    {
     "name": "stdout",
     "output_type": "stream",
     "text": [
      "Duplicates have been removed within each orgtree.P1-P3\n",
      "\n",
      "\n",
      "\n",
      "No duplicates have been identified across orgtree.P1-P3\n"
     ]
    }
   ],
   "source": [
    "opr = clean_positions(opr)"
   ]
  },
  {
   "cell_type": "markdown",
   "id": "5756d924",
   "metadata": {},
   "source": [
    "### Step. Verify all careerorglink.Position contained in orgtree.P1-P3"
   ]
  },
  {
   "cell_type": "code",
   "execution_count": 50,
   "id": "94ece216",
   "metadata": {},
   "outputs": [],
   "source": [
    "opr_key_columns = [\"PrimaryInstitution\",\"OrgName\"]"
   ]
  },
  {
   "cell_type": "code",
   "execution_count": 51,
   "id": "f2c44955",
   "metadata": {},
   "outputs": [],
   "source": [
    "col_columns = opr_key_columns + [\"IsJob\",\"Position\"]"
   ]
  },
  {
   "cell_type": "code",
   "execution_count": 52,
   "id": "a9a58d41",
   "metadata": {},
   "outputs": [],
   "source": [
    "opr_columns = opr_key_columns + [\"P1\",\"P2\",\"P3\"]"
   ]
  },
  {
   "cell_type": "markdown",
   "id": "1a3c9ff8",
   "metadata": {},
   "source": [
    "#### format careerorglink"
   ]
  },
  {
   "cell_type": "code",
   "execution_count": 53,
   "id": "7e3b2eb1",
   "metadata": {},
   "outputs": [],
   "source": [
    "# only select jobs with certain PI, Position\n",
    "condition1 = (col.IsJob==\"True\") & (col.PrimaryInstitution!=\"UNCERTAIN\") & (col.Position!=\"UNCERTAIN\")"
   ]
  },
  {
   "cell_type": "code",
   "execution_count": 54,
   "id": "c72c1146",
   "metadata": {},
   "outputs": [
    {
     "data": {
      "text/plain": [
       "(6360, 4)"
      ]
     },
     "execution_count": 54,
     "metadata": {},
     "output_type": "execute_result"
    }
   ],
   "source": [
    "col_merge = col.loc[condition1,col_columns]\n",
    "col_merge.shape"
   ]
  },
  {
   "cell_type": "code",
   "execution_count": 55,
   "id": "2766764c",
   "metadata": {},
   "outputs": [
    {
     "data": {
      "text/plain": [
       "(1690, 4)"
      ]
     },
     "execution_count": 55,
     "metadata": {},
     "output_type": "execute_result"
    }
   ],
   "source": [
    "col_merge.drop_duplicates(inplace=True)\n",
    "col_merge.shape"
   ]
  },
  {
   "cell_type": "markdown",
   "id": "254ace68",
   "metadata": {},
   "source": [
    "#### merge"
   ]
  },
  {
   "cell_type": "code",
   "execution_count": 56,
   "id": "c532bd2c",
   "metadata": {},
   "outputs": [
    {
     "name": "stdout",
     "output_type": "stream",
     "text": [
      "\n",
      "Merge Results...\n",
      "\n",
      "\tshape     : (1682, 8)\n",
      "\tleft_only : (0, 8)\n",
      "\tboth      : (1682, 8)\n",
      "\tright_only: (0, 8)\n"
     ]
    }
   ],
   "source": [
    "comparePOS = col_merge.merge(opr[opr_columns],on=opr_key_columns,how=\"inner\",indicator=True)\n",
    "merge_results(comparePOS)"
   ]
  },
  {
   "cell_type": "code",
   "execution_count": 57,
   "id": "ad8a4123",
   "metadata": {},
   "outputs": [
    {
     "data": {
      "text/html": [
       "<div>\n",
       "<style scoped>\n",
       "    .dataframe tbody tr th:only-of-type {\n",
       "        vertical-align: middle;\n",
       "    }\n",
       "\n",
       "    .dataframe tbody tr th {\n",
       "        vertical-align: top;\n",
       "    }\n",
       "\n",
       "    .dataframe thead th {\n",
       "        text-align: right;\n",
       "    }\n",
       "</style>\n",
       "<table border=\"1\" class=\"dataframe\">\n",
       "  <thead>\n",
       "    <tr style=\"text-align: right;\">\n",
       "      <th></th>\n",
       "      <th>PrimaryInstitution</th>\n",
       "      <th>OrgName</th>\n",
       "      <th>IsJob</th>\n",
       "      <th>Position</th>\n",
       "      <th>P1</th>\n",
       "      <th>P2</th>\n",
       "      <th>P3</th>\n",
       "      <th>_merge</th>\n",
       "    </tr>\n",
       "  </thead>\n",
       "  <tbody>\n",
       "    <tr>\n",
       "      <th>0</th>\n",
       "      <td>4.15문화창작단</td>\n",
       "      <td>NaN</td>\n",
       "      <td>True</td>\n",
       "      <td>단장</td>\n",
       "      <td>단장</td>\n",
       "      <td>부단장</td>\n",
       "      <td>nan</td>\n",
       "      <td>both</td>\n",
       "    </tr>\n",
       "    <tr>\n",
       "      <th>1</th>\n",
       "      <td>4.15문화창작단</td>\n",
       "      <td>NaN</td>\n",
       "      <td>True</td>\n",
       "      <td>부단장</td>\n",
       "      <td>단장</td>\n",
       "      <td>부단장</td>\n",
       "      <td>nan</td>\n",
       "      <td>both</td>\n",
       "    </tr>\n",
       "  </tbody>\n",
       "</table>\n",
       "</div>"
      ],
      "text/plain": [
       "  PrimaryInstitution OrgName IsJob Position  P1   P2   P3 _merge\n",
       "0          4.15문화창작단     NaN  True       단장  단장  부단장  nan   both\n",
       "1          4.15문화창작단     NaN  True      부단장  단장  부단장  nan   both"
      ]
     },
     "execution_count": 57,
     "metadata": {},
     "output_type": "execute_result"
    }
   ],
   "source": [
    "comparePOS.head(2)"
   ]
  },
  {
   "cell_type": "markdown",
   "id": "d5736989",
   "metadata": {},
   "source": [
    "#### identify careerorglink Positions not in orgtree P1-P3"
   ]
  },
  {
   "cell_type": "code",
   "execution_count": 58,
   "id": "42d4aa46",
   "metadata": {},
   "outputs": [
    {
     "data": {
      "text/plain": [
       "(0, 8)"
      ]
     },
     "execution_count": 58,
     "metadata": {},
     "output_type": "execute_result"
    }
   ],
   "source": [
    "comparePOS_edit = comparePOS[comparePOS.apply(identify_positions_notin_orgtree,axis=1)]\n",
    "comparePOS_edit.shape"
   ]
  },
  {
   "cell_type": "code",
   "execution_count": 59,
   "id": "b9f76f97",
   "metadata": {},
   "outputs": [
    {
     "data": {
      "text/plain": [
       "False"
      ]
     },
     "execution_count": 59,
     "metadata": {},
     "output_type": "execute_result"
    }
   ],
   "source": [
    "# set condition if Positions are not in orgtree\n",
    "positions_notin_orgtree = False\n",
    "if comparePOS_edit.shape[0] > 0:\n",
    "    positions_notin_orgtree = True\n",
    "positions_notin_orgtree"
   ]
  },
  {
   "cell_type": "markdown",
   "id": "7cf28529",
   "metadata": {},
   "source": [
    "#### if comparePOS_edit is not null, then run the following procedures "
   ]
  },
  {
   "cell_type": "code",
   "execution_count": 60,
   "id": "3572beac",
   "metadata": {},
   "outputs": [
    {
     "name": "stdout",
     "output_type": "stream",
     "text": [
      "All good! All careerorglink.Positions have already been incorporated into ortgree.\n"
     ]
    }
   ],
   "source": [
    "# input handcoded table\n",
    "\n",
    "if positions_notin_orgtree:\n",
    "\n",
    "    filename_handcoded = \"3.0 careerorglink_1_Jacob_resolve_JR.xlsx\"\n",
    "    comparePOS_resolved = pd.read_excel(path_cleaning + subpath_2_7 + filename_handcoded,dtype=\"str\")\n",
    "\n",
    "    print(comparePOS_resolved.shape)\n",
    "    \n",
    "else:\n",
    "    print(\"All good! All careerorglink.Positions have already been incorporated into ortgree.\")"
   ]
  },
  {
   "cell_type": "code",
   "execution_count": 61,
   "id": "dbf61fca",
   "metadata": {},
   "outputs": [
    {
     "name": "stdout",
     "output_type": "stream",
     "text": [
      "All good! All careerorglink.Positions have already been incorporated into ortgree.\n"
     ]
    }
   ],
   "source": [
    "# identify those rows\n",
    "\n",
    "if positions_notin_orgtree:\n",
    "\n",
    "    notresolved_key_columns = ['PrimaryInstitution', 'OrgName', 'Position']\n",
    "    ## which have been handcoded, but not incorporated\n",
    "    ## which have not been handcoded and require resolution and incorporation\n",
    "    notresolved = comparePOS_resolved.merge(comparePOS_edit[notresolved_key_columns],on=notresolved_key_columns,how=\"outer\",indicator=True)\n",
    "    merge_results(notresolved)\n",
    "    \n",
    "else:\n",
    "    print(\"All good! All careerorglink.Positions have already been incorporated into ortgree.\")"
   ]
  },
  {
   "cell_type": "code",
   "execution_count": 62,
   "id": "362dfcab",
   "metadata": {},
   "outputs": [],
   "source": [
    "# left-only - have been resolved and incorporated - ignore these\n",
    "# both - have been hand-coded, but not incorporated - subset these and write a function to incorporate them\n",
    "# right-only - have not been handcoded - I can resolve these manually without handcoding"
   ]
  },
  {
   "cell_type": "markdown",
   "id": "090bcdff",
   "metadata": {},
   "source": [
    "#### right-only - have not been handcoded - resolve manually without handcoding"
   ]
  },
  {
   "cell_type": "code",
   "execution_count": 63,
   "id": "aa4125de",
   "metadata": {},
   "outputs": [
    {
     "name": "stdout",
     "output_type": "stream",
     "text": [
      "All good! All careerorglink.Positions have already been incorporated into ortgree.\n"
     ]
    }
   ],
   "source": [
    "if positions_notin_orgtree:\n",
    "\n",
    "    resolvemanuallyPOS = notresolved[notresolved[\"_merge\"]==\"right_only\"]\n",
    "    print(resolvemanuallyPOS.shape)\n",
    "    \n",
    "else:\n",
    "    print(\"All good! All careerorglink.Positions have already been incorporated into ortgree.\")"
   ]
  },
  {
   "cell_type": "markdown",
   "id": "a5af0795",
   "metadata": {},
   "source": [
    "#### both - have been hand-coded, but not incorporated - subset these and write a function to incorporate them"
   ]
  },
  {
   "cell_type": "code",
   "execution_count": 64,
   "id": "d065d41a",
   "metadata": {},
   "outputs": [
    {
     "name": "stdout",
     "output_type": "stream",
     "text": [
      "All good! All careerorglink.Positions have already been incorporated into ortgree.\n"
     ]
    }
   ],
   "source": [
    "if positions_notin_orgtree:\n",
    "\n",
    "    incorporatePOS = notresolved[notresolved[\"_merge\"]==\"both\"]\n",
    "    print(incorporatePOS.shape)\n",
    "    \n",
    "else:\n",
    "    print(\"All good! All careerorglink.Positions have already been incorporated into ortgree.\")"
   ]
  },
  {
   "cell_type": "markdown",
   "id": "aac74ee7",
   "metadata": {},
   "source": [
    "#### both & UNCERTAIN: change careerorglink.Position to UNCERTAIN"
   ]
  },
  {
   "cell_type": "code",
   "execution_count": 65,
   "id": "2c695b6c",
   "metadata": {},
   "outputs": [
    {
     "name": "stdout",
     "output_type": "stream",
     "text": [
      "All good! All careerorglink.Positions have already been incorporated into ortgree.\n"
     ]
    }
   ],
   "source": [
    "if positions_notin_orgtree:\n",
    "\n",
    "    uncertainPOS = incorporatePOS[incorporatePOS[\"Resolution\"]==\"4. OrgName is UNCERTAIN\"]\n",
    "    print(uncertainPOS.shape)\n",
    "    \n",
    "    if uncertainPOS.shape[0] > 0:\n",
    "        uncertain_key_columns = ['PrimaryInstitution', 'OrgName', 'Position']\n",
    "        col2 = col.merge(uncertainPOS[uncertain_key_columns],on=uncertain_key_columns,how=\"outer\",indicator=True)\n",
    "        col2.loc[col2[\"_merge\"]==\"both\",\"Position\"]=\"UNCERTAIN\"\n",
    "        \n",
    "        # if satsified that col2 has been successfully edited\n",
    "        col = col2[col.columns]\n",
    "        \n",
    "        print(\"All UNCERTAIN careerorglink.Positions have been incorporated into ortgree.\")\n",
    "        \n",
    "    else:\n",
    "        print(\"All good! All UNCERTAIN careerorglink.Positions have already been incorporated into ortgree.\")\n",
    "    \n",
    "else:\n",
    "    print(\"All good! All careerorglink.Positions have already been incorporated into ortgree.\")"
   ]
  },
  {
   "cell_type": "markdown",
   "id": "c5cbf0ad",
   "metadata": {},
   "source": [
    "#### both & ADD P1,P2,P3: add careerorglink.Position to orgtree.P1-P3"
   ]
  },
  {
   "cell_type": "code",
   "execution_count": 66,
   "id": "f86673e4",
   "metadata": {},
   "outputs": [
    {
     "name": "stdout",
     "output_type": "stream",
     "text": [
      "Already done. All careerorglink.Positions have already been incorporated into ortgree.\n"
     ]
    }
   ],
   "source": [
    "if positions_notin_orgtree:\n",
    "\n",
    "    addPOS = incorporatePOS[incorporatePOS[\"Resolution\"]!=\"4. OrgName is UNCERTAIN\"]\n",
    "    print(addPOS.shape)\n",
    "    \n",
    "    if addPOS.shape[0] > 0:\n",
    "        \n",
    "        # run once to add Positions to opr2\n",
    "        # run a second time to confirm all positions have been added\n",
    "        opr2 = add_Positions_to_orgtree(addPOS,opr)\n",
    "        \n",
    "        # if satsified that opr2 has been successfully edited\n",
    "        opr = opr2\n",
    "        \n",
    "        print(\"All P1,P2,P3 careerorglink.Positions have been incorporated into ortgree.P1-P3.\")\n",
    "\n",
    "\n",
    "    else:\n",
    "        print(\"Already done. All P1,P2,P3 careerorglink.Positions have already been incorporated into ortgree.P1-P3.\")\n",
    "    \n",
    "else:\n",
    "    print(\"Already done. All careerorglink.Positions have already been incorporated into ortgree.\")"
   ]
  },
  {
   "cell_type": "code",
   "execution_count": null,
   "id": "26fcf3af",
   "metadata": {},
   "outputs": [],
   "source": []
  },
  {
   "cell_type": "markdown",
   "id": "7e31daf8",
   "metadata": {},
   "source": [
    "# Format & Export Tables"
   ]
  },
  {
   "cell_type": "code",
   "execution_count": 95,
   "id": "b4f6215a",
   "metadata": {},
   "outputs": [],
   "source": [
    "export_tables = False\n",
    "export_cleaning = False"
   ]
  },
  {
   "cell_type": "code",
   "execution_count": 82,
   "id": "5942d3b0",
   "metadata": {},
   "outputs": [],
   "source": [
    "# current versions of tables for export\n",
    "col_export = col\n",
    "opr_export = opr\n",
    "# m_export = m"
   ]
  },
  {
   "cell_type": "code",
   "execution_count": 83,
   "id": "ea407aac",
   "metadata": {},
   "outputs": [],
   "source": [
    "# export filenames\n",
    "filename_careerorglink = \"careerorglink.xlsx\"\n",
    "filename_orgtree = \"orgtree.xlsx\"\n",
    "\n",
    "# cyclically revise and overwrite the same files\n",
    "filename_careerorglink_new = \"3.0 careerorglink_1_Jacob.xlsx\"\n",
    "# filename_mismatch_new = \"3.0 mismatch_통합.xlsx\"\n",
    "filename_orgtree_new = \"3.0 orgtree_1_Jacob.xlsx\""
   ]
  },
  {
   "cell_type": "markdown",
   "id": "1c88274a",
   "metadata": {},
   "source": [
    "#### format careerorglink"
   ]
  },
  {
   "cell_type": "code",
   "execution_count": 84,
   "id": "c9991c46",
   "metadata": {},
   "outputs": [],
   "source": [
    "careerorglink_columns = ['CareerString', 'CareerDateString_2022',\n",
    "                         'IsJob', 'MultipleSubstrings','CareerStartYear', 'CareerStartMonth',\n",
    "                         'CareerSubstring','InstitutionType', 'PrimaryInstitution', 'OrgName', 'Position', 'Notes']"
   ]
  },
  {
   "cell_type": "code",
   "execution_count": 85,
   "id": "023e6cd6",
   "metadata": {},
   "outputs": [
    {
     "data": {
      "text/plain": [
       "[]"
      ]
     },
     "execution_count": 85,
     "metadata": {},
     "output_type": "execute_result"
    }
   ],
   "source": [
    "# check that col has all necessary columns\n",
    "[item for item in careerorglink_columns if item not in col_export.columns]"
   ]
  },
  {
   "cell_type": "code",
   "execution_count": 86,
   "id": "3075e8a5",
   "metadata": {},
   "outputs": [
    {
     "data": {
      "text/plain": [
       "[]"
      ]
     },
     "execution_count": 86,
     "metadata": {},
     "output_type": "execute_result"
    }
   ],
   "source": [
    "# remove these items\n",
    "[item for item in col_export.columns if item not in careerorglink_columns]"
   ]
  },
  {
   "cell_type": "code",
   "execution_count": 87,
   "id": "7081a365",
   "metadata": {},
   "outputs": [],
   "source": [
    "col_export = col_export[careerorglink_columns]"
   ]
  },
  {
   "cell_type": "markdown",
   "id": "356ef9ce",
   "metadata": {},
   "source": [
    "#### format orgtree"
   ]
  },
  {
   "cell_type": "code",
   "execution_count": 88,
   "id": "53f3e560",
   "metadata": {},
   "outputs": [],
   "source": [
    "orgtree_columns = ['InstitutionType', 'OrgType', 'PrimaryInstitution','OrgName',\n",
    "                   'PI_Index', 'OrgRank', 'P1', 'P2', 'P3','Alias_OrgName',\n",
    "                   'LinkToNext_PI','LinkToNext_Org','LinkToNext_Year','Notes',\n",
    "                   'L1_Index', 'L2_Index','L3_Index', 'L4_Index', 'L5_Index']"
   ]
  },
  {
   "cell_type": "code",
   "execution_count": 89,
   "id": "1c264c5a",
   "metadata": {},
   "outputs": [
    {
     "data": {
      "text/plain": [
       "[]"
      ]
     },
     "execution_count": 89,
     "metadata": {},
     "output_type": "execute_result"
    }
   ],
   "source": [
    "# check that orgtree has all necessary columns\n",
    "[item for item in orgtree_columns if item not in opr_export.columns]"
   ]
  },
  {
   "cell_type": "code",
   "execution_count": 90,
   "id": "2a163a56",
   "metadata": {},
   "outputs": [
    {
     "data": {
      "text/plain": [
       "[]"
      ]
     },
     "execution_count": 90,
     "metadata": {},
     "output_type": "execute_result"
    }
   ],
   "source": [
    "# remove these items\n",
    "[item for item in opr_export.columns if item not in orgtree_columns]"
   ]
  },
  {
   "cell_type": "code",
   "execution_count": 91,
   "id": "09a224cb",
   "metadata": {},
   "outputs": [],
   "source": [
    "opr_export = opr_export[orgtree_columns]"
   ]
  },
  {
   "cell_type": "code",
   "execution_count": 92,
   "id": "cff6be38",
   "metadata": {},
   "outputs": [],
   "source": [
    "# update indices & ranks\n",
    "opr_export = update_opr_index(opr_export,6)"
   ]
  },
  {
   "cell_type": "markdown",
   "id": "b556f710",
   "metadata": {},
   "source": [
    "#### export to cleaning"
   ]
  },
  {
   "cell_type": "code",
   "execution_count": 93,
   "id": "b4ed3803",
   "metadata": {},
   "outputs": [],
   "source": [
    "if export_cleaning:\n",
    "    col_export.to_excel(path_cleaning + subpath_2_7 + filename_careerorglink_new,index=False)\n",
    "    opr_export.to_excel(path_cleaning + subpath_2_7 + filename_orgtree_new,index=False)\n",
    "    # m_export.to_excel(path_cleaning + subpath_2_7 + filename_mismatch_new,index=False)"
   ]
  },
  {
   "cell_type": "markdown",
   "id": "0506b9ad",
   "metadata": {},
   "source": [
    "#### export to tables"
   ]
  },
  {
   "cell_type": "code",
   "execution_count": 94,
   "id": "8fe0f542",
   "metadata": {},
   "outputs": [],
   "source": [
    "if export_tables:\n",
    "    col_export.to_excel(path_tables + filename_careerorglink,index=False)\n",
    "    opr_export.to_excel(path_tables + filename_orgtree,index=False)"
   ]
  },
  {
   "cell_type": "code",
   "execution_count": null,
   "id": "267083ae",
   "metadata": {},
   "outputs": [],
   "source": []
  },
  {
   "cell_type": "code",
   "execution_count": null,
   "id": "e4b0c773",
   "metadata": {},
   "outputs": [],
   "source": []
  },
  {
   "cell_type": "markdown",
   "id": "67c8d2d3",
   "metadata": {},
   "source": [
    "# Recode & Recategorize some (PI,OrgName)\n",
    "\n",
    "\n",
    "\n",
    "#### Some More Validation for Later: PI, OrgName\n",
    "- For 200 & 500 series PrimaryInstitutions, search whether they are contained in OrgName, within a PrimaryInstitution\n",
    "- Orgs in Orgtree but not in Careers or 기관별인명록 (200, 500 series): delete these from orgtree\n",
    "\n",
    "#### Do Later\n",
    "- 중앙위원회\n",
    "- 인민군, 총참모부, 인민무력부, \n",
    "- 국방위원회: 인민군?\n",
    "- 중앙인민위원회: 정권기관\n",
    "- 국제친선기관: I will add and match existing ones\n",
    "- 인민회의 or 인민위원회?\n",
    "- 노동당 총정치국 --> 인민군 총정치국\n",
    "- add 북조선노동당 as an alias to 노동당\n",
    "- alias the PrimaryInstitutions, 내각, 내각A, 내각B, 등 at least when calculating whether transitions are between or across institutions\n",
    "- 노동당 - fix the old party organization\n",
    "    - https://encykorea.aks.ac.kr/Article/E0070188\n",
    "    - 1947년 북조선로동당 ‘5과’로 창설되었다. 6·25전쟁기 남한지역 내 게릴라부대의 지하당 공작 과정에서 대남 공작기구를 확대하면서 당 조직부 내의 연락부를 분리했다. 1961년 4차 당대회에서 남한에서의 지하당 조직 확대와 통일전선 강화 등의 결정과 함께 내무성 등의 대남 공작기구를 통합해 중앙당 ‘연락국’을 신설했다. 1964년 2월 조선로동당 중앙위원회 4기 8차 전원회의에서 ‘3대 혁명력량 강화’노선을 채택하면서 종래의 연락국을 ‘대남사업총국’으로 개칭했다.\n",
    "    - 1966년 10월 12일 당 중앙위원회 4기 14차 전원회의에서 비서국이 신설되면서 대남사업담당비서 산하에 ‘연락부’, ‘문화부’, ‘조사부’, ‘인민무력부정착국’, ‘조총련’부서를 두었으며, 1978년 1월 통일전선부가, 1990년대 후반 35호실(대외정보조사부)과 작전부가 신설됨으로써 대남 담당 부서의 체계가 구축되었다. 남한 내 정당, 사회단체, 군부에 대한 공작 거점 및 공작 전술 연구개발 업무를 수행하고 있다. 특히 간첩교육과 파견을 직접 담당하고 있으며, 조총련에 대한 활동 지도도 담당하고 있다.\n",
    "\n",
    "- 내각 & 정무원\n",
    "    - How different was their organization?\n",
    "    - https://encykorea.aks.ac.kr/Article/E0066727 - Let's alias. It seems like the name simply changed from 내각 (1948) --> 정무원 (1972) --> 내각 (1998)\n",
    "    - Do we need to duplicate the entire 내각 structure for 정무원?\n",
    "    - At the very least, should we swap out 내각 for 정무원 in cases where data are labelled as 내각 but during 정무원 periods (pre-1998)?\n",
    "    - If the internal organization was quite similar, then maybe we could just alias 내각 and 정무원 and not worry about replicating the organization three\n",
    "- 인도기관?\n",
    "    - 국방위원회\n",
    "    - 국무위원회\n",
    "- resolve differences between InstitutionType, PrimaryInstitution, OrgName\n",
    "    - for PI=총참모부, rename PI=인민군, OrgName = 총참모부_; and remove duplicates. e.g., 총참모부_작전총국\n",
    "    - 노동당, 당중앙위원회\n",
    "    - many organizations for whom 중앙위원회 is their main leadership body\n",
    "    - 인민군. remove as PrimaryInstitution, and use as InstitutionType instead\n",
    "    - https://encykorea.aks.ac.kr/Article/E0066687\n",
    "    - 인민무력부, 인민무력성, \n",
    "    - PrimaryInstitutions\n",
    "        - 최고사령부\n",
    "        - 총참모부\n",
    "        - 주요 사령부\n",
    "        - 등\n",
    "- Make sure X.0.0.0 positions are not being duplicated with X.1.0.0 positions, especially in the case of 중앙위원회\n",
    "- Discuss X in PI_Index\n",
    "    - 비서국A --> 정무국 --> 비서국B\n",
    "        - check for duplicates: 당 비서국\n",
    "    - 당중앙위원회_정치위원회 (폐지) 직급\n",
    "    - 당중앙위원회_총정치국 - 당/인민군\n",
    "    - 당중앙위원회_조선혁명박물관당위원회 & other 1.1.X.0.0 - double-check if they are included in 외곽단 - InGov?\n",
    "    - Change_OrgName to 당중앙위원회_X\n",
    "        - 비서국_인민무력부B\n",
    "        - 비서국_인민무력부B_보위국\n",
    "        - 비서국_인민무력부B_작전국\n",
    "        - 비서국_인민무력부B_정치안전국"
   ]
  },
  {
   "cell_type": "code",
   "execution_count": null,
   "id": "82452548",
   "metadata": {},
   "outputs": [],
   "source": []
  },
  {
   "cell_type": "markdown",
   "id": "c2142ad8",
   "metadata": {},
   "source": [
    "# Re-Index\n",
    "- See PI-Index Coding Rules in Evernote\n",
    "- Update X codes with 200 or 500. Delete any 200/500 which don't appear in our data. (They might have been orgs we corrected in the data.)\n",
    "- 최고인민회의 X지역인민회의 - move from 200 Series to 0 Series\n",
    "- Drop X지역위원회 and recode 200 Series to 0 Series\n",
    "- Change coding of 당외곽 및 사회단체\n",
    "    - if the orgs were found in the 별책, then change their codes from 200 series to 100 series\n",
    "    - Match, rename and recode (from 500+ to 100+) 500 series 국제친선기관\n",
    "- code data source rather than index"
   ]
  },
  {
   "cell_type": "code",
   "execution_count": null,
   "id": "58bf243b",
   "metadata": {},
   "outputs": [],
   "source": []
  },
  {
   "cell_type": "code",
   "execution_count": null,
   "id": "6b24b190",
   "metadata": {},
   "outputs": [],
   "source": []
  },
  {
   "cell_type": "code",
   "execution_count": null,
   "id": "ec095aba",
   "metadata": {},
   "outputs": [],
   "source": []
  },
  {
   "cell_type": "markdown",
   "id": "233ee1d7",
   "metadata": {},
   "source": [
    "# Task 3. Add OrgType & other metadata\n",
    "\n",
    "- Add OrgType\n"
   ]
  },
  {
   "cell_type": "markdown",
   "id": "16ac55e1",
   "metadata": {},
   "source": [
    "# Future Tasks\n",
    "\n",
    "- Alias all 500 Series and concurrent Aliases\n",
    "    - Include all names in orgtree\n",
    "    - Alias names in both directions, forwards and backwards\n",
    "    - use PI_Index to indicate a current or deprecated org.\n",
    "    - I could use PI_Index to indicate what happened to the deprecated org: combined, renamed, deprecated, split. The problem with this is names which have been used cyclically, such as 내각.\n",
    "- Future Integrity Checks & Data Cleaning\n",
    "    - Identify inconsistencies in Position Rankings (e.g., 명예위원장)\n",
    "    - Verify no contrary categories of positions overlapping (e.g., 위원장, 소장)\n",
    "    - Verify (PI, OrgName) not found in 기관별인명록\n",
    "    - Research X entries: e.g., 3.525.591: 내각_외무성_X국_대사관\n",
    "    - Reconcile 기관 across three categories: 기타기관, 당외곽및사회단체, 당외곽및사회단체(별책)\n",
    "    - Add more orgs\n",
    "        - Expand any X지역위원회 into full list\n",
    "        - 내각 - Level 2 or Level 3?\n",
    "            - orgs after 내각 국토환경보호성_산림총국\n",
    "            - orgs after 내각 대외경제성_민족경제협력위원회\n",
    "            - orgs after 내각 보건성_중앙의약품관리소\n",
    "            - orgs after 내 각 상업성_중앙도매소\n",
    "            - 내각 정보산업성 우편국, 전화국, 체신관리국, 체신소, \n",
    "            - 내각 (45)\n",
    "        - 당외곽및사회단체 (별책)\n",
    "    - Discussion about matching levels\n",
    "        - https://namu.wiki/w/ - consider the OrgRang of 김정은의 겸직\n",
    "\t\t- 조선민주주의인민공화국 국무위원회 위원장[국가원수]\n",
    "\t\t- 조선로동당 중앙군사위원장\n",
    "\t\t- 조선민주주의인민공화국무력 최고사령관\n",
    "\t\t- 조선로동당 중앙위원회 정치국 상무위원\n",
    "    - Review UNCERTAIN OrgName & Positions\n",
    "        - some of these seem resolvable"
   ]
  },
  {
   "cell_type": "code",
   "execution_count": null,
   "id": "5c38af5d",
   "metadata": {},
   "outputs": [],
   "source": []
  }
 ],
 "metadata": {
  "kernelspec": {
   "display_name": "Python 3 (ipykernel)",
   "language": "python",
   "name": "python3"
  },
  "language_info": {
   "codemirror_mode": {
    "name": "ipython",
    "version": 3
   },
   "file_extension": ".py",
   "mimetype": "text/x-python",
   "name": "python",
   "nbconvert_exporter": "python",
   "pygments_lexer": "ipython3",
   "version": "3.11.0"
  }
 },
 "nbformat": 4,
 "nbformat_minor": 5
}
